{
 "cells": [
  {
   "cell_type": "markdown",
   "metadata": {},
   "source": [
    "# Bootes Brown photo-z cross\n",
    "\n",
    "The photometric redshifts are calculated for the Brown aperture matched catalogue. Since in the manufacture of the masterlist we take the Brown aperture matched catalogue and add in some other obejcts. We here asign the Brown objects with their help id.\n",
    "\n",
    "NOTE: There is some confusion as to whether the naming of the ID columns which may have caused misassociations. This is currently under investigation and the photo-z may be superseeded."
   ]
  },
  {
   "cell_type": "markdown",
   "metadata": {},
   "source": [
    "## 1. Load catalogues and join on IRAC ID\n",
    "\n",
    "There were various issues with the IDs. It now seems that 'ID' is some function of 'ID_SPITZER' and 'ID_OPTICAL'. All three of which contain duplicates. We join in on these coloums which I believe have the following relation to those used in dmu1\n",
    "\n",
    "| name in dmu24 file      | name in dmu1 file    | notes    |\n",
    "| :------------- | :----------: | -----------: |\n",
    "|  'ID' |     |  Not present in dmu1 made here from multiple columns    |\n",
    "| 'ID_SPITZER'   | 'brown_irac_id'|  |\n",
    "| 'ID_OPTICAL'   | 'brown_i_id'|  |\n",
    "\n",
    "We join on the 'brown_i_id' if present and join the remainder on 'brown_irac_id'."
   ]
  },
  {
   "cell_type": "code",
   "execution_count": 1,
   "metadata": {},
   "outputs": [],
   "source": [
    "from astropy.table import Table, join, Column, vstack\n",
    "import numpy as np"
   ]
  },
  {
   "cell_type": "code",
   "execution_count": 2,
   "metadata": {},
   "outputs": [],
   "source": [
    "photo_z = Table.read('./data/Bootes_opt_spitzer_merged_vac_opt3as_irac4as_all_public.fits')[\n",
    "    'ID',\n",
    "    'ID_SPITZER',\n",
    "    'ID_OPTICAL', \n",
    "    'z1_median'\n",
    "]\n",
    "cross_ids = Table.read('../../dmu1/dmu1_ml_Bootes/data/'\n",
    "                     + 'master_list_cross_ident_bootes_20190701.fits')[\n",
    "    'help_id', \n",
    "    'brown_i_id',\n",
    "    'brown_irac_id'\n",
    "]\n",
    "#cross_ids['brown_i_id'].name = 'ID'\n",
    "\n",
    "\n",
    "photo_z['ID_OPTICAL'].fill_value = -99\n",
    "photo_z['ID_SPITZER'].fill_value = -99\n",
    "photo_z = photo_z.filled()\n",
    "photo_z['brown_i_id'] = photo_z['ID_OPTICAL']  #?????\n",
    "photo_z['brown_irac_id'] = photo_z['ID_SPITZER']       #????\n",
    "#photo_z = photo_z[photo_z['brown_i_id'] > -1]"
   ]
  },
  {
   "cell_type": "code",
   "execution_count": 3,
   "metadata": {},
   "outputs": [
    {
     "name": "stdout",
     "output_type": "stream",
     "text": [
      "2067406 2066890\n"
     ]
    }
   ],
   "source": [
    "print(\n",
    "    len(photo_z['brown_i_id'][photo_z['brown_i_id']>-1]) , \n",
    "    len(np.unique(photo_z['brown_i_id'][photo_z['brown_i_id']>-1]))\n",
    ")"
   ]
  },
  {
   "cell_type": "code",
   "execution_count": 4,
   "metadata": {},
   "outputs": [
    {
     "name": "stdout",
     "output_type": "stream",
     "text": [
      "147439 147439\n"
     ]
    }
   ],
   "source": [
    "print(\n",
    "    len(photo_z['brown_irac_id'][photo_z['brown_irac_id']>-1]) , \n",
    "    len(np.unique(photo_z['brown_irac_id'][photo_z['brown_irac_id']>-1]))\n",
    ")"
   ]
  },
  {
   "cell_type": "code",
   "execution_count": 5,
   "metadata": {},
   "outputs": [
    {
     "data": {
      "text/html": [
       "<i>Table length=5</i>\n",
       "<table id=\"table139810109460040\" class=\"table-striped table-bordered table-condensed\">\n",
       "<thead><tr><th>help_id</th><th>brown_i_id</th><th>brown_irac_id</th></tr></thead>\n",
       "<thead><tr><th>bytes27</th><th>int64</th><th>int64</th></tr></thead>\n",
       "<tr><td>HELP_J142500.285+331035.838</td><td>394263</td><td>-1</td></tr>\n",
       "<tr><td>HELP_J143318.051+332158.118</td><td>473154</td><td>-1</td></tr>\n",
       "<tr><td>HELP_J142939.235+354635.105</td><td>2019839</td><td>-1</td></tr>\n",
       "<tr><td>HELP_J142446.142+331756.854</td><td>445407</td><td>-1</td></tr>\n",
       "<tr><td>HELP_J142639.609+354724.470</td><td>2027735</td><td>-1</td></tr>\n",
       "</table>"
      ],
      "text/plain": [
       "<Table length=5>\n",
       "          help_id           brown_i_id brown_irac_id\n",
       "          bytes27             int64        int64    \n",
       "--------------------------- ---------- -------------\n",
       "HELP_J142500.285+331035.838     394263            -1\n",
       "HELP_J143318.051+332158.118     473154            -1\n",
       "HELP_J142939.235+354635.105    2019839            -1\n",
       "HELP_J142446.142+331756.854     445407            -1\n",
       "HELP_J142639.609+354724.470    2027735            -1"
      ]
     },
     "execution_count": 5,
     "metadata": {},
     "output_type": "execute_result"
    }
   ],
   "source": [
    "cross_ids[:5]"
   ]
  },
  {
   "cell_type": "code",
   "execution_count": 6,
   "metadata": {},
   "outputs": [
    {
     "data": {
      "text/html": [
       "<i>Table length=5</i>\n",
       "<table id=\"table139810106503576\" class=\"table-striped table-bordered table-condensed\">\n",
       "<thead><tr><th>ID</th><th>ID_SPITZER</th><th>ID_OPTICAL</th><th>z1_median</th><th>brown_i_id</th><th>brown_irac_id</th></tr></thead>\n",
       "<thead><tr><th>int64</th><th>int64</th><th>int64</th><th>float64</th><th>int64</th><th>int64</th></tr></thead>\n",
       "<tr><td>0</td><td>-99</td><td>1</td><td>3.6887</td><td>1</td><td>-99</td></tr>\n",
       "<tr><td>1</td><td>-99</td><td>2</td><td>0.2606</td><td>2</td><td>-99</td></tr>\n",
       "<tr><td>2</td><td>-99</td><td>3</td><td>4.9513</td><td>3</td><td>-99</td></tr>\n",
       "<tr><td>3</td><td>-99</td><td>4</td><td>4.4549</td><td>4</td><td>-99</td></tr>\n",
       "<tr><td>4</td><td>-99</td><td>5</td><td>4.4835</td><td>5</td><td>-99</td></tr>\n",
       "</table>"
      ],
      "text/plain": [
       "<Table length=5>\n",
       "  ID  ID_SPITZER ID_OPTICAL z1_median brown_i_id brown_irac_id\n",
       "int64   int64      int64     float64    int64        int64    \n",
       "----- ---------- ---------- --------- ---------- -------------\n",
       "    0        -99          1    3.6887          1           -99\n",
       "    1        -99          2    0.2606          2           -99\n",
       "    2        -99          3    4.9513          3           -99\n",
       "    3        -99          4    4.4549          4           -99\n",
       "    4        -99          5    4.4835          5           -99"
      ]
     },
     "execution_count": 6,
     "metadata": {},
     "output_type": "execute_result"
    }
   ],
   "source": [
    "photo_z[:5]"
   ]
  },
  {
   "cell_type": "code",
   "execution_count": 7,
   "metadata": {},
   "outputs": [],
   "source": [
    "new_cat_i = join(\n",
    "    photo_z['brown_i_id','z1_median'][photo_z['brown_i_id']>-1],\n",
    "    cross_ids, \n",
    "    join_type='left', keys='brown_i_id'\n",
    ")\n",
    "new_cat_irac_only = join(\n",
    "    photo_z['brown_irac_id','z1_median'][photo_z['brown_i_id']<0],\n",
    "    cross_ids, \n",
    "    join_type='left', keys='brown_irac_id'\n",
    ")\n",
    "new_cat=vstack([new_cat_i,new_cat_irac_only])\n",
    "\n",
    "#new_cat= new_cat_i"
   ]
  },
  {
   "cell_type": "markdown",
   "metadata": {},
   "source": [
    "## 2. Replace bad photo-zs with nans"
   ]
  },
  {
   "cell_type": "code",
   "execution_count": 8,
   "metadata": {},
   "outputs": [],
   "source": [
    "new_cat[new_cat['z1_median']<0]['z1_median'] = np.nan"
   ]
  },
  {
   "cell_type": "code",
   "execution_count": 9,
   "metadata": {},
   "outputs": [],
   "source": [
    "new_cat['help_id'].fill_value = ''\n",
    "new_cat = new_cat.filled()"
   ]
  },
  {
   "cell_type": "markdown",
   "metadata": {},
   "source": [
    "## 3. Remove objects with duplicate help_ids\n",
    "\n",
    "There seem to be a number of objects with duplicate ids which becaome duplicate help_ids. As far as I can tell these are totally identical so I remove the duplicates."
   ]
  },
  {
   "cell_type": "code",
   "execution_count": 10,
   "metadata": {},
   "outputs": [
    {
     "data": {
      "text/plain": [
       "0"
      ]
     },
     "execution_count": 10,
     "metadata": {},
     "output_type": "execute_result"
    }
   ],
   "source": [
    "np.sum(new_cat['help_id'] == '')"
   ]
  },
  {
   "cell_type": "code",
   "execution_count": 11,
   "metadata": {},
   "outputs": [],
   "source": [
    "new_cat = new_cat[~(new_cat['help_id'] == '')]"
   ]
  },
  {
   "cell_type": "code",
   "execution_count": 12,
   "metadata": {},
   "outputs": [
    {
     "data": {
      "text/plain": [
       "dtype('S27')"
      ]
     },
     "execution_count": 12,
     "metadata": {},
     "output_type": "execute_result"
    }
   ],
   "source": [
    "new_cat['help_id'].dtype"
   ]
  },
  {
   "cell_type": "code",
   "execution_count": 13,
   "metadata": {},
   "outputs": [
    {
     "data": {
      "text/plain": [
       "2214845"
      ]
     },
     "execution_count": 13,
     "metadata": {},
     "output_type": "execute_result"
    }
   ],
   "source": [
    "len(new_cat)"
   ]
  },
  {
   "cell_type": "code",
   "execution_count": 14,
   "metadata": {},
   "outputs": [
    {
     "data": {
      "text/plain": [
       "1657471"
      ]
     },
     "execution_count": 14,
     "metadata": {},
     "output_type": "execute_result"
    }
   ],
   "source": [
    "len(np.unique(new_cat['help_id']))"
   ]
  },
  {
   "cell_type": "code",
   "execution_count": 15,
   "metadata": {},
   "outputs": [
    {
     "data": {
      "text/plain": [
       "557374"
      ]
     },
     "execution_count": 15,
     "metadata": {},
     "output_type": "execute_result"
    }
   ],
   "source": [
    "new_cat.sort('help_id')\n",
    "len(new_cat['help_id'][:-1][(new_cat['help_id'][1:] == new_cat['help_id'][:-1])])"
   ]
  },
  {
   "cell_type": "code",
   "execution_count": 16,
   "metadata": {},
   "outputs": [
    {
     "data": {
      "text/html": [
       "<i>Table length=2</i>\n",
       "<table id=\"table139810106857680\" class=\"table-striped table-bordered table-condensed\">\n",
       "<thead><tr><th>brown_i_id</th><th>z1_median</th><th>help_id</th><th>brown_irac_id</th></tr></thead>\n",
       "<thead><tr><th>int64</th><th>float64</th><th>bytes27</th><th>int64</th></tr></thead>\n",
       "<tr><td>778164</td><td>1.0382</td><td>HELP_J143841.165+335004.237</td><td>-1</td></tr>\n",
       "<tr><td>778164</td><td>1.0382</td><td>HELP_J143841.165+335004.237</td><td>-1</td></tr>\n",
       "</table>"
      ],
      "text/plain": [
       "<Table length=2>\n",
       "brown_i_id z1_median           help_id           brown_irac_id\n",
       "  int64     float64            bytes27               int64    \n",
       "---------- --------- --------------------------- -------------\n",
       "    778164    1.0382 HELP_J143841.165+335004.237            -1\n",
       "    778164    1.0382 HELP_J143841.165+335004.237            -1"
      ]
     },
     "execution_count": 16,
     "metadata": {},
     "output_type": "execute_result"
    }
   ],
   "source": [
    "new_cat[new_cat['help_id']=='HELP_J143841.165+335004.237']"
   ]
  },
  {
   "cell_type": "code",
   "execution_count": 17,
   "metadata": {},
   "outputs": [],
   "source": [
    "is_duplicate = new_cat['help_id'][1:] == new_cat['help_id'][:-1]\n",
    "#np.append(is_duplicate,False)\n",
    "new_cat = new_cat[~np.append(is_duplicate,False)]"
   ]
  },
  {
   "cell_type": "code",
   "execution_count": 18,
   "metadata": {},
   "outputs": [
    {
     "data": {
      "text/html": [
       "<i>Table length=1</i>\n",
       "<table id=\"table139810106477312\" class=\"table-striped table-bordered table-condensed\">\n",
       "<thead><tr><th>brown_i_id</th><th>z1_median</th><th>help_id</th><th>brown_irac_id</th></tr></thead>\n",
       "<thead><tr><th>int64</th><th>float64</th><th>bytes27</th><th>int64</th></tr></thead>\n",
       "<tr><td>778164</td><td>1.0382</td><td>HELP_J143841.165+335004.237</td><td>-1</td></tr>\n",
       "</table>"
      ],
      "text/plain": [
       "<Table length=1>\n",
       "brown_i_id z1_median           help_id           brown_irac_id\n",
       "  int64     float64            bytes27               int64    \n",
       "---------- --------- --------------------------- -------------\n",
       "    778164    1.0382 HELP_J143841.165+335004.237            -1"
      ]
     },
     "execution_count": 18,
     "metadata": {},
     "output_type": "execute_result"
    }
   ],
   "source": [
    "new_cat[new_cat['help_id']=='HELP_J143841.165+335004.237']"
   ]
  },
  {
   "cell_type": "code",
   "execution_count": 19,
   "metadata": {},
   "outputs": [
    {
     "data": {
      "text/plain": [
       "1657471"
      ]
     },
     "execution_count": 19,
     "metadata": {},
     "output_type": "execute_result"
    }
   ],
   "source": [
    "len(new_cat)"
   ]
  },
  {
   "cell_type": "code",
   "execution_count": 20,
   "metadata": {},
   "outputs": [
    {
     "data": {
      "text/plain": [
       "True"
      ]
     },
     "execution_count": 20,
     "metadata": {},
     "output_type": "execute_result"
    }
   ],
   "source": [
    "len(new_cat) == len(np.unique(new_cat['help_id']))"
   ]
  },
  {
   "cell_type": "code",
   "execution_count": 21,
   "metadata": {},
   "outputs": [
    {
     "data": {
      "text/html": [
       "<i>Table length=10</i>\n",
       "<table id=\"table139810106476584-857746\" class=\"table-striped table-bordered table-condensed\">\n",
       "<thead><tr><th>idx</th><th>brown_i_id</th><th>z1_median</th><th>help_id</th><th>brown_irac_id</th></tr></thead>\n",
       "<tr><td>0</td><td>299759</td><td>0.7223</td><td>0.0</td><td>999999</td></tr>\n",
       "<tr><td>1</td><td>1788580</td><td>0.9797</td><td>HELP_J142433.597+352308.103</td><td>-1</td></tr>\n",
       "<tr><td>2</td><td>1891099</td><td>0.8861</td><td>HELP_J142433.602+353326.121</td><td>-1</td></tr>\n",
       "<tr><td>3</td><td>1997888</td><td>0.7447</td><td>HELP_J142433.609+354416.174</td><td>-1</td></tr>\n",
       "<tr><td>4</td><td>1776606</td><td>1.8403</td><td>HELP_J142433.611+352156.195</td><td>-1</td></tr>\n",
       "<tr><td>5</td><td>1780409</td><td>0.3033</td><td>HELP_J142433.614+352219.215</td><td>-1</td></tr>\n",
       "<tr><td>6</td><td>2003639</td><td>1.7235</td><td>HELP_J142433.614+354452.719</td><td>-1</td></tr>\n",
       "<tr><td>7</td><td>1729999</td><td>0.3968</td><td>HELP_J142433.625+351736.189</td><td>-1</td></tr>\n",
       "<tr><td>8</td><td>1888110</td><td>2.416</td><td>HELP_J142433.629+353308.009</td><td>-1</td></tr>\n",
       "<tr><td>9</td><td>2000812</td><td>0.7871</td><td>HELP_J142433.635+354435.055</td><td>-1</td></tr>\n",
       "</table><style>table.dataTable {clear: both; width: auto !important; margin: 0 !important;}\n",
       ".dataTables_info, .dataTables_length, .dataTables_filter, .dataTables_paginate{\n",
       "display: inline-block; margin-right: 1em; }\n",
       ".paginate_button { margin-right: 5px; }\n",
       "</style>\n",
       "<script>\n",
       "\n",
       "var astropy_sort_num = function(a, b) {\n",
       "    var a_num = parseFloat(a);\n",
       "    var b_num = parseFloat(b);\n",
       "\n",
       "    if (isNaN(a_num) && isNaN(b_num))\n",
       "        return ((a < b) ? -1 : ((a > b) ? 1 : 0));\n",
       "    else if (!isNaN(a_num) && !isNaN(b_num))\n",
       "        return ((a_num < b_num) ? -1 : ((a_num > b_num) ? 1 : 0));\n",
       "    else\n",
       "        return isNaN(a_num) ? -1 : 1;\n",
       "}\n",
       "\n",
       "require.config({paths: {\n",
       "    datatables: 'https://cdn.datatables.net/1.10.12/js/jquery.dataTables.min'\n",
       "}});\n",
       "require([\"datatables\"], function(){\n",
       "    console.log(\"$('#table139810106476584-857746').dataTable()\");\n",
       "    \n",
       "jQuery.extend( jQuery.fn.dataTableExt.oSort, {\n",
       "    \"optionalnum-asc\": astropy_sort_num,\n",
       "    \"optionalnum-desc\": function (a,b) { return -astropy_sort_num(a, b); }\n",
       "});\n",
       "\n",
       "    $('#table139810106476584-857746').dataTable({\n",
       "        order: [],\n",
       "        pageLength: 50,\n",
       "        lengthMenu: [[10, 25, 50, 100, 500, 1000, -1], [10, 25, 50, 100, 500, 1000, 'All']],\n",
       "        pagingType: \"full_numbers\",\n",
       "        columnDefs: [{targets: [0, 1, 2, 4], type: \"optionalnum\"}]\n",
       "    });\n",
       "});\n",
       "</script>\n"
      ],
      "text/plain": [
       "<IPython.core.display.HTML object>"
      ]
     },
     "execution_count": 21,
     "metadata": {},
     "output_type": "execute_result"
    }
   ],
   "source": [
    "new_cat[:10].show_in_notebook()"
   ]
  },
  {
   "cell_type": "markdown",
   "metadata": {},
   "source": [
    "## 4. Write catalogue\n",
    "This will be the catalogues that is used in dmu32 to merge photozs"
   ]
  },
  {
   "cell_type": "code",
   "execution_count": 22,
   "metadata": {},
   "outputs": [],
   "source": [
    "new_cat.write('./data/Bootes_opt_spitzer_merged_vac_opt3as_irac4as_all_public_with_help_id_20200923.fits', overwrite=True)"
   ]
  },
  {
   "cell_type": "code",
   "execution_count": null,
   "metadata": {},
   "outputs": [],
   "source": []
  }
 ],
 "metadata": {
  "anaconda-cloud": {},
  "kernelspec": {
   "display_name": "Python (herschelhelp_internal)",
   "language": "python",
   "name": "helpint"
  },
  "language_info": {
   "codemirror_mode": {
    "name": "ipython",
    "version": 3
   },
   "file_extension": ".py",
   "mimetype": "text/x-python",
   "name": "python",
   "nbconvert_exporter": "python",
   "pygments_lexer": "ipython3",
   "version": "3.7.2"
  }
 },
 "nbformat": 4,
 "nbformat_minor": 2
}
