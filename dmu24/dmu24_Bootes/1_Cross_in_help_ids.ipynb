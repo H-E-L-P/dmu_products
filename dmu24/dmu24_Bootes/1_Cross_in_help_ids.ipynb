{
 "cells": [
  {
   "cell_type": "markdown",
   "metadata": {},
   "source": [
    "# Bootes Brown photo-z cross\n",
    "\n",
    "The photometric redshifts are calculated for the Brown aperture matched catalogue. Since in the manufacture of the masterlist we take the Brown aperture matched catalogue and add in some other obejcts. We here asign the Brown objects with their help id.\n",
    "\n",
    "NOTE: There is some confusion as to whether the naming of the ID columns which may have caused misassociations. This is currently under investigation and the photo-z may be superseeded."
   ]
  },
  {
   "cell_type": "markdown",
   "metadata": {},
   "source": [
    "## 1. Load catalogues and join on IRAC ID"
   ]
  },
  {
   "cell_type": "code",
   "execution_count": 1,
   "metadata": {},
   "outputs": [],
   "source": [
    "from astropy.table import Table, join, Column\n",
    "import numpy as np"
   ]
  },
  {
   "cell_type": "code",
   "execution_count": 2,
   "metadata": {},
   "outputs": [],
   "source": [
    "photo_z = Table.read('./data/Bootes_opt_spitzer_merged_vac_opt3as_irac4as_all_public.fits')[\n",
    "    'ID',\n",
    "    'ID_OPTICAL', \n",
    "    'z1_median'\n",
    "]\n",
    "cross_ids = Table.read('../../dmu1/dmu1_ml_Bootes/data/'\n",
    "                     + 'master_list_cross_ident_bootes_20190701.fits')[\n",
    "    'help_id', \n",
    "    'brown_i_id'\n",
    "]\n",
    "#cross_ids['brown_i_id'].name = 'ID'\n",
    "\n",
    "\n",
    "photo_z['ID_OPTICAL'].fill_value = -99\n",
    "\n",
    "photo_z = photo_z.filled()\n",
    "photo_z['brown_i_id'] = photo_z['ID_OPTICAL']  #?????\n",
    "photo_z['brown_irac_id'] = photo_z['ID']       #????\n",
    "photo_z = photo_z[photo_z['brown_i_id'] > -1]"
   ]
  },
  {
   "cell_type": "code",
   "execution_count": 3,
   "metadata": {},
   "outputs": [],
   "source": [
    "new_cat = join(photo_z, cross_ids, join_type='left', keys='brown_i_id')"
   ]
  },
  {
   "cell_type": "markdown",
   "metadata": {},
   "source": [
    "## 2. Replace bad photo-zs with nans"
   ]
  },
  {
   "cell_type": "code",
   "execution_count": 4,
   "metadata": {},
   "outputs": [],
   "source": [
    "new_cat[new_cat['z1_median']<0]['z1_median'] = np.nan"
   ]
  },
  {
   "cell_type": "code",
   "execution_count": 5,
   "metadata": {},
   "outputs": [],
   "source": [
    "new_cat['help_id'].fill_value = ''\n",
    "new_cat = new_cat.filled()"
   ]
  },
  {
   "cell_type": "markdown",
   "metadata": {},
   "source": [
    "## 3. Remove objects with duplicate help_ids\n",
    "\n",
    "There seem to be a number of objects with duplicate ids which becaome duplicate help_ids. As far as I can tell these are totally identical so I remove the duplicates."
   ]
  },
  {
   "cell_type": "code",
   "execution_count": 6,
   "metadata": {},
   "outputs": [
    {
     "data": {
      "text/plain": [
       "409543"
      ]
     },
     "execution_count": 6,
     "metadata": {},
     "output_type": "execute_result"
    }
   ],
   "source": [
    "np.sum(new_cat['help_id'] == '')"
   ]
  },
  {
   "cell_type": "code",
   "execution_count": 7,
   "metadata": {},
   "outputs": [
    {
     "data": {
      "text/plain": [
       "2067406"
      ]
     },
     "execution_count": 7,
     "metadata": {},
     "output_type": "execute_result"
    }
   ],
   "source": [
    "len(new_cat)"
   ]
  },
  {
   "cell_type": "code",
   "execution_count": 8,
   "metadata": {},
   "outputs": [],
   "source": [
    "new_cat = new_cat[~(new_cat['help_id'] == '')]"
   ]
  },
  {
   "cell_type": "code",
   "execution_count": 9,
   "metadata": {},
   "outputs": [
    {
     "data": {
      "text/plain": [
       "1657863"
      ]
     },
     "execution_count": 9,
     "metadata": {},
     "output_type": "execute_result"
    }
   ],
   "source": [
    "len(new_cat)"
   ]
  },
  {
   "cell_type": "code",
   "execution_count": 10,
   "metadata": {},
   "outputs": [
    {
     "data": {
      "text/plain": [
       "dtype('S27')"
      ]
     },
     "execution_count": 10,
     "metadata": {},
     "output_type": "execute_result"
    }
   ],
   "source": [
    "new_cat['help_id'].dtype"
   ]
  },
  {
   "cell_type": "code",
   "execution_count": 11,
   "metadata": {},
   "outputs": [
    {
     "data": {
      "text/plain": [
       "1657470"
      ]
     },
     "execution_count": 11,
     "metadata": {},
     "output_type": "execute_result"
    }
   ],
   "source": [
    "len(np.unique(new_cat['help_id']))"
   ]
  },
  {
   "cell_type": "code",
   "execution_count": 12,
   "metadata": {},
   "outputs": [
    {
     "data": {
      "text/html": [
       "&lt;Column name=&apos;help_id&apos; dtype=&apos;bytes27&apos; length=393&gt;\n",
       "<table>\n",
       "<tr><td>HELP_J142441.064+324758.688</td></tr>\n",
       "<tr><td>HELP_J142441.765+322945.003</td></tr>\n",
       "<tr><td>HELP_J142442.496+341145.082</td></tr>\n",
       "<tr><td>HELP_J142443.618+350953.238</td></tr>\n",
       "<tr><td>HELP_J142444.094+325217.503</td></tr>\n",
       "<tr><td>HELP_J142446.166+343900.439</td></tr>\n",
       "<tr><td>HELP_J142448.115+323206.565</td></tr>\n",
       "<tr><td>HELP_J142451.431+340142.522</td></tr>\n",
       "<tr><td>HELP_J142452.228+341546.019</td></tr>\n",
       "<tr><td>HELP_J142454.562+324752.167</td></tr>\n",
       "<tr><td>HELP_J142455.314+322844.779</td></tr>\n",
       "<tr><td>HELP_J142459.819+330341.068</td></tr>\n",
       "<tr><td>...</td></tr>\n",
       "<tr><td>HELP_J143807.060+343338.860</td></tr>\n",
       "<tr><td>HELP_J143810.889+345039.174</td></tr>\n",
       "<tr><td>HELP_J143811.927+342346.117</td></tr>\n",
       "<tr><td>HELP_J143812.495+335234.422</td></tr>\n",
       "<tr><td>HELP_J143816.326+341329.510</td></tr>\n",
       "<tr><td>HELP_J143826.653+333705.470</td></tr>\n",
       "<tr><td>HELP_J143827.106+341127.592</td></tr>\n",
       "<tr><td>HELP_J143834.406+334542.856</td></tr>\n",
       "<tr><td>HELP_J143835.708+344502.136</td></tr>\n",
       "<tr><td>HELP_J143837.709+341338.840</td></tr>\n",
       "<tr><td>HELP_J143838.366+333926.769</td></tr>\n",
       "<tr><td>HELP_J143841.165+335004.237</td></tr>\n",
       "</table>"
      ],
      "text/plain": [
       "<Column name='help_id' dtype='bytes27' length=393>\n",
       "HELP_J142441.064+324758.688\n",
       "HELP_J142441.765+322945.003\n",
       "HELP_J142442.496+341145.082\n",
       "HELP_J142443.618+350953.238\n",
       "HELP_J142444.094+325217.503\n",
       "HELP_J142446.166+343900.439\n",
       "HELP_J142448.115+323206.565\n",
       "HELP_J142451.431+340142.522\n",
       "HELP_J142452.228+341546.019\n",
       "HELP_J142454.562+324752.167\n",
       "HELP_J142455.314+322844.779\n",
       "HELP_J142459.819+330341.068\n",
       "                        ...\n",
       "HELP_J143807.060+343338.860\n",
       "HELP_J143810.889+345039.174\n",
       "HELP_J143811.927+342346.117\n",
       "HELP_J143812.495+335234.422\n",
       "HELP_J143816.326+341329.510\n",
       "HELP_J143826.653+333705.470\n",
       "HELP_J143827.106+341127.592\n",
       "HELP_J143834.406+334542.856\n",
       "HELP_J143835.708+344502.136\n",
       "HELP_J143837.709+341338.840\n",
       "HELP_J143838.366+333926.769\n",
       "HELP_J143841.165+335004.237"
      ]
     },
     "execution_count": 12,
     "metadata": {},
     "output_type": "execute_result"
    }
   ],
   "source": [
    "new_cat.sort('help_id')\n",
    "new_cat['help_id'][:-1][new_cat['help_id'][1:] == new_cat['help_id'][:-1]]"
   ]
  },
  {
   "cell_type": "code",
   "execution_count": 20,
   "metadata": {},
   "outputs": [
    {
     "data": {
      "text/html": [
       "<i>Table length=1</i>\n",
       "<table id=\"table4709573072\" class=\"table-striped table-bordered table-condensed\">\n",
       "<thead><tr><th>ID</th><th>ID_OPTICAL</th><th>z1_median</th><th>brown_i_id</th><th>brown_irac_id</th><th>help_id</th></tr></thead>\n",
       "<thead><tr><th>int64</th><th>int64</th><th>float64</th><th>int64</th><th>int64</th><th>bytes27</th></tr></thead>\n",
       "<tr><td>778163</td><td>778164</td><td>1.0382</td><td>778164</td><td>778163</td><td>HELP_J143841.165+335004.237</td></tr>\n",
       "</table>"
      ],
      "text/plain": [
       "<Table length=1>\n",
       "  ID   ID_OPTICAL z1_median brown_i_id brown_irac_id           help_id          \n",
       "int64    int64     float64    int64        int64               bytes27          \n",
       "------ ---------- --------- ---------- ------------- ---------------------------\n",
       "778163     778164    1.0382     778164        778163 HELP_J143841.165+335004.237"
      ]
     },
     "execution_count": 20,
     "metadata": {},
     "output_type": "execute_result"
    }
   ],
   "source": [
    "new_cat[new_cat['help_id']=='HELP_J143841.165+335004.237']"
   ]
  },
  {
   "cell_type": "code",
   "execution_count": 14,
   "metadata": {},
   "outputs": [],
   "source": [
    "is_duplicate = new_cat['help_id'][1:] == new_cat['help_id'][:-1]\n",
    "#np.append(is_duplicate,False)\n",
    "new_cat = new_cat[~np.append(is_duplicate,False)]"
   ]
  },
  {
   "cell_type": "code",
   "execution_count": 21,
   "metadata": {},
   "outputs": [
    {
     "data": {
      "text/html": [
       "<i>Table length=1</i>\n",
       "<table id=\"table4833439696\" class=\"table-striped table-bordered table-condensed\">\n",
       "<thead><tr><th>ID</th><th>ID_OPTICAL</th><th>z1_median</th><th>brown_i_id</th><th>brown_irac_id</th><th>help_id</th></tr></thead>\n",
       "<thead><tr><th>int64</th><th>int64</th><th>float64</th><th>int64</th><th>int64</th><th>bytes27</th></tr></thead>\n",
       "<tr><td>778163</td><td>778164</td><td>1.0382</td><td>778164</td><td>778163</td><td>HELP_J143841.165+335004.237</td></tr>\n",
       "</table>"
      ],
      "text/plain": [
       "<Table length=1>\n",
       "  ID   ID_OPTICAL z1_median brown_i_id brown_irac_id           help_id          \n",
       "int64    int64     float64    int64        int64               bytes27          \n",
       "------ ---------- --------- ---------- ------------- ---------------------------\n",
       "778163     778164    1.0382     778164        778163 HELP_J143841.165+335004.237"
      ]
     },
     "execution_count": 21,
     "metadata": {},
     "output_type": "execute_result"
    }
   ],
   "source": [
    "new_cat[new_cat['help_id']=='HELP_J143841.165+335004.237']"
   ]
  },
  {
   "cell_type": "code",
   "execution_count": 16,
   "metadata": {},
   "outputs": [
    {
     "data": {
      "text/plain": [
       "1657470"
      ]
     },
     "execution_count": 16,
     "metadata": {},
     "output_type": "execute_result"
    }
   ],
   "source": [
    "len(new_cat)"
   ]
  },
  {
   "cell_type": "code",
   "execution_count": 17,
   "metadata": {},
   "outputs": [
    {
     "data": {
      "text/plain": [
       "True"
      ]
     },
     "execution_count": 17,
     "metadata": {},
     "output_type": "execute_result"
    }
   ],
   "source": [
    "len(new_cat) == len(np.unique(new_cat['help_id']))"
   ]
  },
  {
   "cell_type": "code",
   "execution_count": 18,
   "metadata": {},
   "outputs": [
    {
     "data": {
      "text/html": [
       "<i>Table length=10</i>\n",
       "<table id=\"table4833520216-86896\" class=\"table-striped table-bordered table-condensed\">\n",
       "<thead><tr><th>idx</th><th>ID</th><th>ID_OPTICAL</th><th>z1_median</th><th>brown_i_id</th><th>brown_irac_id</th><th>help_id</th></tr></thead>\n",
       "<tr><td>0</td><td>1788579</td><td>1788580</td><td>0.9797</td><td>1788580</td><td>1788579</td><td>HELP_J142433.597+352308.103</td></tr>\n",
       "<tr><td>1</td><td>1891098</td><td>1891099</td><td>0.8861</td><td>1891099</td><td>1891098</td><td>HELP_J142433.602+353326.121</td></tr>\n",
       "<tr><td>2</td><td>1997887</td><td>1997888</td><td>0.7447</td><td>1997888</td><td>1997887</td><td>HELP_J142433.609+354416.174</td></tr>\n",
       "<tr><td>3</td><td>1776605</td><td>1776606</td><td>1.8403</td><td>1776606</td><td>1776605</td><td>HELP_J142433.611+352156.195</td></tr>\n",
       "<tr><td>4</td><td>1780408</td><td>1780409</td><td>0.3033</td><td>1780409</td><td>1780408</td><td>HELP_J142433.614+352219.215</td></tr>\n",
       "<tr><td>5</td><td>2003638</td><td>2003639</td><td>1.7235</td><td>2003639</td><td>2003638</td><td>HELP_J142433.614+354452.719</td></tr>\n",
       "<tr><td>6</td><td>1729998</td><td>1729999</td><td>0.3968</td><td>1729999</td><td>1729998</td><td>HELP_J142433.625+351736.189</td></tr>\n",
       "<tr><td>7</td><td>1888109</td><td>1888110</td><td>2.416</td><td>1888110</td><td>1888109</td><td>HELP_J142433.629+353308.009</td></tr>\n",
       "<tr><td>8</td><td>2000811</td><td>2000812</td><td>0.7871</td><td>2000812</td><td>2000811</td><td>HELP_J142433.635+354435.055</td></tr>\n",
       "<tr><td>9</td><td>2029548</td><td>2029549</td><td>4.2342</td><td>2029549</td><td>2029548</td><td>HELP_J142433.641+354736.024</td></tr>\n",
       "</table><style>table.dataTable {clear: both; width: auto !important; margin: 0 !important;}\n",
       ".dataTables_info, .dataTables_length, .dataTables_filter, .dataTables_paginate{\n",
       "display: inline-block; margin-right: 1em; }\n",
       ".paginate_button { margin-right: 5px; }\n",
       "</style>\n",
       "<script>\n",
       "\n",
       "var astropy_sort_num = function(a, b) {\n",
       "    var a_num = parseFloat(a);\n",
       "    var b_num = parseFloat(b);\n",
       "\n",
       "    if (isNaN(a_num) && isNaN(b_num))\n",
       "        return ((a < b) ? -1 : ((a > b) ? 1 : 0));\n",
       "    else if (!isNaN(a_num) && !isNaN(b_num))\n",
       "        return ((a_num < b_num) ? -1 : ((a_num > b_num) ? 1 : 0));\n",
       "    else\n",
       "        return isNaN(a_num) ? -1 : 1;\n",
       "}\n",
       "\n",
       "require.config({paths: {\n",
       "    datatables: 'https://cdn.datatables.net/1.10.12/js/jquery.dataTables.min'\n",
       "}});\n",
       "require([\"datatables\"], function(){\n",
       "    console.log(\"$('#table4833520216-86896').dataTable()\");\n",
       "    \n",
       "jQuery.extend( jQuery.fn.dataTableExt.oSort, {\n",
       "    \"optionalnum-asc\": astropy_sort_num,\n",
       "    \"optionalnum-desc\": function (a,b) { return -astropy_sort_num(a, b); }\n",
       "});\n",
       "\n",
       "    $('#table4833520216-86896').dataTable({\n",
       "        order: [],\n",
       "        pageLength: 50,\n",
       "        lengthMenu: [[10, 25, 50, 100, 500, 1000, -1], [10, 25, 50, 100, 500, 1000, 'All']],\n",
       "        pagingType: \"full_numbers\",\n",
       "        columnDefs: [{targets: [0, 1, 2, 3, 4, 5], type: \"optionalnum\"}]\n",
       "    });\n",
       "});\n",
       "</script>\n"
      ],
      "text/plain": [
       "<IPython.core.display.HTML object>"
      ]
     },
     "execution_count": 18,
     "metadata": {},
     "output_type": "execute_result"
    }
   ],
   "source": [
    "new_cat[:10].show_in_notebook()"
   ]
  },
  {
   "cell_type": "markdown",
   "metadata": {},
   "source": [
    "## 4. Write catalogue\n",
    "This will be the catalogues that is used in dmu32 to merge photozs"
   ]
  },
  {
   "cell_type": "code",
   "execution_count": 19,
   "metadata": {},
   "outputs": [],
   "source": [
    "new_cat.write('./data/Bootes_opt_spitzer_merged_vac_opt3as_irac4as_all_public_with_help_id_20200923.fits', overwrite=True)"
   ]
  },
  {
   "cell_type": "code",
   "execution_count": null,
   "metadata": {},
   "outputs": [],
   "source": []
  }
 ],
 "metadata": {
  "anaconda-cloud": {},
  "kernelspec": {
   "display_name": "Python (herschelhelp_internal)",
   "language": "python",
   "name": "helpint"
  },
  "language_info": {
   "codemirror_mode": {
    "name": "ipython",
    "version": 3
   },
   "file_extension": ".py",
   "mimetype": "text/x-python",
   "name": "python",
   "nbconvert_exporter": "python",
   "pygments_lexer": "ipython3",
   "version": "3.6.10"
  }
 },
 "nbformat": 4,
 "nbformat_minor": 2
}
