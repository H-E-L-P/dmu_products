{
 "cells": [
  {
   "cell_type": "markdown",
   "metadata": {},
   "source": [
    "# Bootes Brown photo-z cross\n",
    "\n",
    "The photometric redshifts are calculated for the Brown aperture matched catalogue. Since in the manufacture of the masterlist we take the Brown aperture matched catalogue and add in some other obejcts. We here asign the Brown objects with their help id"
   ]
  },
  {
   "cell_type": "code",
   "execution_count": 1,
   "metadata": {},
   "outputs": [],
   "source": [
    "from astropy.table import Table, join, Column\n",
    "import numpy as np"
   ]
  },
  {
   "cell_type": "code",
   "execution_count": 2,
   "metadata": {},
   "outputs": [],
   "source": [
    "photo_z = Table.read('./data/Bootes_opt_spitzer_merged_vac_opt3as_irac4as_all_public.fits')[\n",
    "    'ID',\n",
    "    'ID_OPTICAL', \n",
    "    'z1_median'\n",
    "]\n",
    "cross_ids = Table.read('../../dmu1/dmu1_ml_Bootes/data/'\n",
    "                     + 'master_list_cross_ident_bootes_20190701.fits')[\n",
    "    'help_id', \n",
    "    'brown_i_id'\n",
    "]\n",
    "cross_ids['brown_i_id'].name = 'ID'\n",
    "\n",
    "\n",
    "photo_z['ID'].fill_value = -99\n",
    "photo_z = photo_z.filled()"
   ]
  },
  {
   "cell_type": "code",
   "execution_count": 3,
   "metadata": {},
   "outputs": [],
   "source": [
    "new_cat = join(photo_z, cross_ids, join_type='left')"
   ]
  },
  {
   "cell_type": "code",
   "execution_count": 6,
   "metadata": {},
   "outputs": [],
   "source": [
    "new_cat[new_cat['z1_median']<0]['z1_median'] = np.nan"
   ]
  },
  {
   "cell_type": "code",
   "execution_count": 7,
   "metadata": {},
   "outputs": [
    {
     "data": {
      "text/html": [
       "<i>Table masked=True length=10</i>\n",
       "<table id=\"table34789680128-159912\" class=\"table-striped table-bordered table-condensed\">\n",
       "<thead><tr><th>idx</th><th>ID</th><th>ID_OPTICAL</th><th>z1_median</th><th>help_id</th></tr></thead>\n",
       "<tr><td>0</td><td>-99</td><td>1000000</td><td>4.645</td><td>--</td></tr>\n",
       "<tr><td>1</td><td>0</td><td>1</td><td>3.6887</td><td>--</td></tr>\n",
       "<tr><td>2</td><td>1</td><td>2</td><td>0.2606</td><td>--</td></tr>\n",
       "<tr><td>3</td><td>2</td><td>3</td><td>4.9513</td><td>--</td></tr>\n",
       "<tr><td>4</td><td>3</td><td>4</td><td>4.4549</td><td>--</td></tr>\n",
       "<tr><td>5</td><td>4</td><td>5</td><td>4.4835</td><td>--</td></tr>\n",
       "<tr><td>6</td><td>5</td><td>6</td><td>2.7475</td><td>--</td></tr>\n",
       "<tr><td>7</td><td>6</td><td>7</td><td>4.4733</td><td>--</td></tr>\n",
       "<tr><td>8</td><td>7</td><td>8</td><td>0.1774</td><td>--</td></tr>\n",
       "<tr><td>9</td><td>8</td><td>9</td><td>0.1334</td><td>--</td></tr>\n",
       "</table><style>table.dataTable {clear: both; width: auto !important; margin: 0 !important;}\n",
       ".dataTables_info, .dataTables_length, .dataTables_filter, .dataTables_paginate{\n",
       "display: inline-block; margin-right: 1em; }\n",
       ".paginate_button { margin-right: 5px; }\n",
       "</style>\n",
       "<script>\n",
       "\n",
       "var astropy_sort_num = function(a, b) {\n",
       "    var a_num = parseFloat(a);\n",
       "    var b_num = parseFloat(b);\n",
       "\n",
       "    if (isNaN(a_num) && isNaN(b_num))\n",
       "        return ((a < b) ? -1 : ((a > b) ? 1 : 0));\n",
       "    else if (!isNaN(a_num) && !isNaN(b_num))\n",
       "        return ((a_num < b_num) ? -1 : ((a_num > b_num) ? 1 : 0));\n",
       "    else\n",
       "        return isNaN(a_num) ? -1 : 1;\n",
       "}\n",
       "\n",
       "require.config({paths: {\n",
       "    datatables: 'https://cdn.datatables.net/1.10.12/js/jquery.dataTables.min'\n",
       "}});\n",
       "require([\"datatables\"], function(){\n",
       "    console.log(\"$('#table34789680128-159912').dataTable()\");\n",
       "    \n",
       "jQuery.extend( jQuery.fn.dataTableExt.oSort, {\n",
       "    \"optionalnum-asc\": astropy_sort_num,\n",
       "    \"optionalnum-desc\": function (a,b) { return -astropy_sort_num(a, b); }\n",
       "});\n",
       "\n",
       "    $('#table34789680128-159912').dataTable({\n",
       "        order: [],\n",
       "        pageLength: 50,\n",
       "        lengthMenu: [[10, 25, 50, 100, 500, 1000, -1], [10, 25, 50, 100, 500, 1000, 'All']],\n",
       "        pagingType: \"full_numbers\",\n",
       "        columnDefs: [{targets: [0, 1, 2, 3], type: \"optionalnum\"}]\n",
       "    });\n",
       "});\n",
       "</script>\n"
      ],
      "text/plain": [
       "<IPython.core.display.HTML object>"
      ]
     },
     "execution_count": 7,
     "metadata": {},
     "output_type": "execute_result"
    }
   ],
   "source": [
    "new_cat[:10].show_in_notebook()"
   ]
  },
  {
   "cell_type": "code",
   "execution_count": 8,
   "metadata": {},
   "outputs": [],
   "source": [
    "new_cat.write('./data/Bootes_opt_spitzer_merged_vac_opt3as_irac4as_all_public_with_help_id.fits', overwrite=True)"
   ]
  }
 ],
 "metadata": {
  "anaconda-cloud": {},
  "kernelspec": {
   "display_name": "Python (herschelhelp_internal)",
   "language": "python",
   "name": "helpint"
  },
  "language_info": {
   "codemirror_mode": {
    "name": "ipython",
    "version": 3
   },
   "file_extension": ".py",
   "mimetype": "text/x-python",
   "name": "python",
   "nbconvert_exporter": "python",
   "pygments_lexer": "ipython3",
   "version": "3.6.8"
  }
 },
 "nbformat": 4,
 "nbformat_minor": 2
}
