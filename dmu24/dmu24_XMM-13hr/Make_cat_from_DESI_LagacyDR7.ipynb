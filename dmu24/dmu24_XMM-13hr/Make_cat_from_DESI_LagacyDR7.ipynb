{
 "cells": [
  {
   "cell_type": "markdown",
   "metadata": {},
   "source": [
    "# Use DESI Legacy Survey photo z\n",
    "\n"
   ]
  },
  {
   "cell_type": "code",
   "execution_count": 1,
   "metadata": {},
   "outputs": [
    {
     "name": "stderr",
     "output_type": "stream",
     "text": [
      "/Users/rs548/anaconda/envs/herschelhelp_internal/lib/python3.6/site-packages/seaborn/apionly.py:9: UserWarning: As seaborn no longer sets a default style on import, the seaborn.apionly module is deprecated. It will be removed in a future version.\n",
      "  warnings.warn(msg, UserWarning)\n"
     ]
    }
   ],
   "source": [
    "import pandas as pd\n",
    "from astropy.table import Table, Column, vstack\n",
    "from astropy.cosmology import Planck15\n",
    "import astropy.units as u\n",
    "from astropy.coordinates import SkyCoord\n",
    "from astropy.io import ascii\n",
    "\n",
    "import urllib.request, json \n",
    "\n",
    "import time\n",
    "import numpy as np\n",
    "import pyvo as vo\n",
    "%matplotlib inline\n",
    "#%config InlineBackend.figure_format = 'svg'\n",
    "import matplotlib as mpl\n",
    "import matplotlib.pyplot as plt\n",
    "\n",
    "from selenium import webdriver\n",
    "\n",
    "from herschelhelp_internal.masterlist import merge_catalogues, nb_merge_dist_plot\n",
    "from herschelhelp.utils import clean_table"
   ]
  },
  {
   "cell_type": "markdown",
   "metadata": {},
   "source": [
    "## 2. Cross match to desi-photoz objects"
   ]
  },
  {
   "cell_type": "code",
   "execution_count": 2,
   "metadata": {},
   "outputs": [],
   "source": [
    "cross_query = \"\"\"\n",
    "SELECT\n",
    "    db.ID,\n",
    "    db.RA,\n",
    "    db.DEC,\n",
    "    db.field,\n",
    "    db.photo_z,\n",
    "    db.photo_zerr\n",
    "FROM desi_photoz.main AS db\n",
    "WHERE db.field = 'XMM-13hr'\n",
    "\"\"\"\n",
    "\n",
    "# construct a service; I’ve taken the URL from TOPCAT’s\n",
    "# TAP service browser # (\"Selected TAP Service\" near the\n",
    "# foot of the dialog)\n",
    "service = vo.dal.TAPService(\n",
    "    \"https://herschel-vos.phys.sussex.ac.uk/__system__/tap/run/tap\"\n",
    ")"
   ]
  },
  {
   "cell_type": "code",
   "execution_count": 3,
   "metadata": {},
   "outputs": [
    {
     "name": "stdout",
     "output_type": "stream",
     "text": [
      "Job COMPLETED running after 6 seconds.\n"
     ]
    },
    {
     "name": "stderr",
     "output_type": "stream",
     "text": [
      "WARNING: W27: None:3:464: W27: COOSYS deprecated in VOTable 1.2 [astropy.io.votable.tree]\n",
      "WARNING:astropy:W27: None:3:464: W27: COOSYS deprecated in VOTable 1.2\n"
     ]
    }
   ],
   "source": [
    "job = service.submit_job(cross_query)\n",
    "job.run()\n",
    "job_url = job.url\n",
    "job_result = vo.dal.tap.AsyncTAPJob(job_url)\n",
    "start_time = time.time()\n",
    "wait = 5.\n",
    "while job.phase == 'EXECUTING':\n",
    "    \n",
    "    time.sleep(wait) #wait and try again\n",
    "    #wait *= 2\n",
    "\n",
    "print('Job {} running after {} seconds.'.format(job.phase, round(time.time() - start_time)))\n",
    "\n",
    "result = job_result.fetch_result()\n",
    "desi_photoz = result.table"
   ]
  },
  {
   "cell_type": "code",
   "execution_count": 4,
   "metadata": {},
   "outputs": [
    {
     "name": "stdout",
     "output_type": "stream",
     "text": [
      "Converting column id type from object to string\n",
      "Converting column field type from object to string\n"
     ]
    }
   ],
   "source": [
    "desi_photoz = clean_table(desi_photoz)"
   ]
  },
  {
   "cell_type": "code",
   "execution_count": 5,
   "metadata": {},
   "outputs": [],
   "source": [
    "desi_photoz.write('./data/XMM-13hr_DESI-DR7_Zou_et_al_2019_photo_z.fits', overwrite=True)"
   ]
  },
  {
   "cell_type": "code",
   "execution_count": 6,
   "metadata": {},
   "outputs": [
    {
     "data": {
      "text/html": [
       "<i>Table length=11544</i>\n",
       "<table id=\"table112214716768\" class=\"table-striped table-bordered table-condensed\">\n",
       "<thead><tr><th>id</th><th>ra</th><th>dec</th><th>field</th><th>photo_z</th><th>photo_zerr</th></tr></thead>\n",
       "<thead><tr><th></th><th>deg</th><th>deg</th><th></th><th></th><th></th></tr></thead>\n",
       "<thead><tr><th>str16</th><th>float64</th><th>float64</th><th>str8</th><th>float64</th><th>float64</th></tr></thead>\n",
       "<tr><td>6000532357000924</td><td>203.414603489769</td><td>37.4249329045831</td><td>XMM-13hr</td><td>0.76192415</td><td>0.045515098</td></tr>\n",
       "<tr><td>6000532357001601</td><td>203.296380805966</td><td>37.4726204907544</td><td>XMM-13hr</td><td>0.45275033</td><td>0.055123646</td></tr>\n",
       "<tr><td>6000532357001430</td><td>203.326374582613</td><td>37.4602495783935</td><td>XMM-13hr</td><td>0.5451529</td><td>0.09063682</td></tr>\n",
       "<tr><td>6000532357001545</td><td>203.314389478209</td><td>37.4684086846553</td><td>XMM-13hr</td><td>0.52448136</td><td>0.08827563</td></tr>\n",
       "<tr><td>6000532357001647</td><td>203.312561688182</td><td>37.4762025008145</td><td>XMM-13hr</td><td>0.83615017</td><td>0.06793477</td></tr>\n",
       "<tr><td>6000532357001515</td><td>203.331873803064</td><td>37.466077431809</td><td>XMM-13hr</td><td>0.43908644</td><td>0.096729465</td></tr>\n",
       "<tr><td>6000532357001522</td><td>203.345403821136</td><td>37.4668090321231</td><td>XMM-13hr</td><td>0.34978685</td><td>0.028658831</td></tr>\n",
       "<tr><td>6000532357001777</td><td>203.297080706917</td><td>37.4879664964307</td><td>XMM-13hr</td><td>0.69910824</td><td>0.05794524</td></tr>\n",
       "<tr><td>6000532357001845</td><td>203.292298802762</td><td>37.4924969456247</td><td>XMM-13hr</td><td>0.7641376</td><td>0.06675091</td></tr>\n",
       "<tr><td>...</td><td>...</td><td>...</td><td>...</td><td>...</td><td>...</td></tr>\n",
       "<tr><td>6000535778002615</td><td>204.011795160666</td><td>38.3116061955746</td><td>XMM-13hr</td><td>0.4831535</td><td>0.08700372</td></tr>\n",
       "<tr><td>6000535778002613</td><td>204.014425298202</td><td>38.3116206627635</td><td>XMM-13hr</td><td>0.35234532</td><td>0.033548612</td></tr>\n",
       "<tr><td>6000535778002508</td><td>204.023379728807</td><td>38.3041231844845</td><td>XMM-13hr</td><td>0.35750064</td><td>0.023173135</td></tr>\n",
       "<tr><td>6000535778002637</td><td>204.01993032027</td><td>38.3151952611283</td><td>XMM-13hr</td><td>0.53826565</td><td>0.06497341</td></tr>\n",
       "<tr><td>6000535778002568</td><td>204.027451564949</td><td>38.3078574046132</td><td>XMM-13hr</td><td>0.99508435</td><td>0.11678703</td></tr>\n",
       "<tr><td>6000535778002527</td><td>204.033649785983</td><td>38.3052648876859</td><td>XMM-13hr</td><td>0.90023136</td><td>0.08937982</td></tr>\n",
       "<tr><td>6000535778002558</td><td>204.039395854022</td><td>38.3074663261127</td><td>XMM-13hr</td><td>0.785049</td><td>0.06129784</td></tr>\n",
       "<tr><td>6000535778002665</td><td>204.031265216062</td><td>38.3160005501956</td><td>XMM-13hr</td><td>0.06642321</td><td>0.01718295</td></tr>\n",
       "<tr><td>6000535778002229</td><td>204.055374966007</td><td>38.2845994551248</td><td>XMM-13hr</td><td>0.68326443</td><td>0.19647197</td></tr>\n",
       "<tr><td>6000535778001774</td><td>204.097657670252</td><td>38.2458254318491</td><td>XMM-13hr</td><td>0.8662734</td><td>0.09044396</td></tr>\n",
       "</table>"
      ],
      "text/plain": [
       "<Table length=11544>\n",
       "       id               ra              dec        ...  photo_z    photo_zerr\n",
       "                       deg              deg        ...                       \n",
       "     str16           float64          float64      ...  float64     float64  \n",
       "---------------- ---------------- ---------------- ... ---------- -----------\n",
       "6000532357000924 203.414603489769 37.4249329045831 ... 0.76192415 0.045515098\n",
       "6000532357001601 203.296380805966 37.4726204907544 ... 0.45275033 0.055123646\n",
       "6000532357001430 203.326374582613 37.4602495783935 ...  0.5451529  0.09063682\n",
       "6000532357001545 203.314389478209 37.4684086846553 ... 0.52448136  0.08827563\n",
       "6000532357001647 203.312561688182 37.4762025008145 ... 0.83615017  0.06793477\n",
       "6000532357001515 203.331873803064  37.466077431809 ... 0.43908644 0.096729465\n",
       "6000532357001522 203.345403821136 37.4668090321231 ... 0.34978685 0.028658831\n",
       "6000532357001777 203.297080706917 37.4879664964307 ... 0.69910824  0.05794524\n",
       "6000532357001845 203.292298802762 37.4924969456247 ...  0.7641376  0.06675091\n",
       "             ...              ...              ... ...        ...         ...\n",
       "6000535778002615 204.011795160666 38.3116061955746 ...  0.4831535  0.08700372\n",
       "6000535778002613 204.014425298202 38.3116206627635 ... 0.35234532 0.033548612\n",
       "6000535778002508 204.023379728807 38.3041231844845 ... 0.35750064 0.023173135\n",
       "6000535778002637  204.01993032027 38.3151952611283 ... 0.53826565  0.06497341\n",
       "6000535778002568 204.027451564949 38.3078574046132 ... 0.99508435  0.11678703\n",
       "6000535778002527 204.033649785983 38.3052648876859 ... 0.90023136  0.08937982\n",
       "6000535778002558 204.039395854022 38.3074663261127 ...   0.785049  0.06129784\n",
       "6000535778002665 204.031265216062 38.3160005501956 ... 0.06642321  0.01718295\n",
       "6000535778002229 204.055374966007 38.2845994551248 ... 0.68326443  0.19647197\n",
       "6000535778001774 204.097657670252 38.2458254318491 ...  0.8662734  0.09044396"
      ]
     },
     "execution_count": 6,
     "metadata": {},
     "output_type": "execute_result"
    }
   ],
   "source": [
    "desi_photoz"
   ]
  },
  {
   "cell_type": "code",
   "execution_count": 7,
   "metadata": {},
   "outputs": [],
   "source": [
    "ml = Table.read('../../dmu1/dmu1_ml_XMM-13hr/data/master_catalogue_xmm-13hr_20180501.fits')"
   ]
  },
  {
   "cell_type": "code",
   "execution_count": 8,
   "metadata": {},
   "outputs": [
    {
     "data": {
      "text/html": [
       "<i>Table length=38629</i>\n",
       "<table id=\"table112224596488\" class=\"table-striped table-bordered table-condensed\">\n",
       "<thead><tr><th>help_id</th><th>field</th><th>ra</th><th>dec</th><th>hp_idx</th><th>f_ap_ukidss_j</th><th>ferr_ap_ukidss_j</th><th>m_ap_ukidss_j</th><th>merr_ap_ukidss_j</th><th>f_ukidss_j</th><th>ferr_ukidss_j</th><th>m_ukidss_j</th><th>merr_ukidss_j</th><th>flag_ukidss_j</th><th>f_ap_90prime_g</th><th>ferr_ap_90prime_g</th><th>m_ap_90prime_g</th><th>merr_ap_90prime_g</th><th>f_90prime_g</th><th>ferr_90prime_g</th><th>m_90prime_g</th><th>merr_90prime_g</th><th>flag_90prime_g</th><th>f_ap_90prime_r</th><th>ferr_ap_90prime_r</th><th>m_ap_90prime_r</th><th>merr_ap_90prime_r</th><th>f_90prime_r</th><th>ferr_90prime_r</th><th>m_90prime_r</th><th>merr_90prime_r</th><th>flag_90prime_r</th><th>f_ap_mosaic_z</th><th>ferr_ap_mosaic_z</th><th>m_ap_mosaic_z</th><th>merr_ap_mosaic_z</th><th>f_mosaic_z</th><th>ferr_mosaic_z</th><th>m_mosaic_z</th><th>merr_mosaic_z</th><th>flag_mosaic_z</th><th>stellarity</th><th>stellarity_origin</th><th>flag_cleaned</th><th>flag_merged</th><th>flag_gaia</th><th>flag_optnir_obs</th><th>flag_optnir_det</th><th>ebv</th><th>zspec_association_flag</th><th>zspec_qual</th><th>zspec</th></tr></thead>\n",
       "<thead><tr><th></th><th></th><th>deg</th><th>deg</th><th></th><th></th><th></th><th></th><th></th><th></th><th></th><th></th><th></th><th></th><th></th><th></th><th></th><th></th><th>uJy</th><th>uJy</th><th></th><th></th><th></th><th></th><th></th><th></th><th></th><th>uJy</th><th>uJy</th><th></th><th></th><th></th><th></th><th></th><th></th><th></th><th>uJy</th><th>uJy</th><th></th><th></th><th></th><th></th><th></th><th></th><th></th><th></th><th></th><th></th><th></th><th></th><th></th><th></th></tr></thead>\n",
       "<thead><tr><th>bytes27</th><th>bytes18</th><th>float64</th><th>float64</th><th>int64</th><th>float32</th><th>float32</th><th>float32</th><th>float32</th><th>float32</th><th>float32</th><th>float32</th><th>float32</th><th>bool</th><th>float32</th><th>float32</th><th>float32</th><th>float32</th><th>float32</th><th>float32</th><th>float32</th><th>float32</th><th>bool</th><th>float32</th><th>float32</th><th>float32</th><th>float32</th><th>float32</th><th>float32</th><th>float32</th><th>float32</th><th>bool</th><th>float32</th><th>float32</th><th>float32</th><th>float32</th><th>float32</th><th>float32</th><th>float32</th><th>float32</th><th>bool</th><th>float32</th><th>bytes20</th><th>bool</th><th>bool</th><th>int64</th><th>int64</th><th>int64</th><th>float64</th><th>bool</th><th>int64</th><th>float64</th></tr></thead>\n",
       "<tr><td>HELP_J133432.222+373646.113</td><td>XMM-13hr</td><td>203.63425709565024</td><td>37.61280916481453</td><td>171772665</td><td>177992.81</td><td>66.08496</td><td>10.7739935</td><td>0.00040311087</td><td>562554.7</td><td>116.882126</td><td>9.524588</td><td>0.00022558367</td><td>False</td><td>nan</td><td>nan</td><td>nan</td><td>nan</td><td>nan</td><td>nan</td><td>nan</td><td>nan</td><td>False</td><td>nan</td><td>nan</td><td>nan</td><td>nan</td><td>nan</td><td>nan</td><td>nan</td><td>nan</td><td>False</td><td>nan</td><td>nan</td><td>nan</td><td>nan</td><td>nan</td><td>nan</td><td>nan</td><td>nan</td><td>False</td><td>0.993865</td><td>uhs_stellarity</td><td>False</td><td>False</td><td>3</td><td>3</td><td>0</td><td>0.0045801841620858935</td><td>False</td><td>-99</td><td>nan</td></tr>\n",
       "<tr><td>HELP_J133414.713+375131.803</td><td>XMM-13hr</td><td>203.56130245753093</td><td>37.85883425125814</td><td>171779021</td><td>162576.17</td><td>62.979897</td><td>10.872357</td><td>0.0004206001</td><td>234041.06</td><td>76.57976</td><td>10.476769</td><td>0.00035525995</td><td>False</td><td>nan</td><td>nan</td><td>nan</td><td>nan</td><td>nan</td><td>nan</td><td>nan</td><td>nan</td><td>False</td><td>nan</td><td>nan</td><td>nan</td><td>nan</td><td>nan</td><td>nan</td><td>nan</td><td>nan</td><td>False</td><td>nan</td><td>nan</td><td>nan</td><td>nan</td><td>nan</td><td>nan</td><td>nan</td><td>nan</td><td>False</td><td>0.993865</td><td>uhs_stellarity</td><td>False</td><td>False</td><td>3</td><td>3</td><td>0</td><td>0.005854426578631392</td><td>False</td><td>-99</td><td>nan</td></tr>\n",
       "<tr><td>HELP_J133533.957+374210.516</td><td>XMM-13hr</td><td>203.89148663495547</td><td>37.7029211577961</td><td>171773176</td><td>121901.445</td><td>53.248684</td><td>11.184978</td><td>0.0004742686</td><td>330527.34</td><td>89.55556</td><td>10.101981</td><td>0.0002941775</td><td>False</td><td>nan</td><td>nan</td><td>nan</td><td>nan</td><td>nan</td><td>nan</td><td>nan</td><td>nan</td><td>False</td><td>nan</td><td>nan</td><td>nan</td><td>nan</td><td>nan</td><td>nan</td><td>nan</td><td>nan</td><td>False</td><td>nan</td><td>nan</td><td>nan</td><td>nan</td><td>nan</td><td>nan</td><td>nan</td><td>nan</td><td>False</td><td>0.993865</td><td>uhs_stellarity</td><td>False</td><td>False</td><td>2</td><td>3</td><td>0</td><td>0.005765494380787224</td><td>False</td><td>-99</td><td>nan</td></tr>\n",
       "<tr><td>HELP_J133533.920+374208.261</td><td>XMM-13hr</td><td>203.89133445070576</td><td>37.70229471038029</td><td>171773176</td><td>94324.53</td><td>46.931934</td><td>11.463438</td><td>0.00054021686</td><td>113880.55</td><td>52.70391</td><td>11.258876</td><td>0.0005024787</td><td>False</td><td>nan</td><td>nan</td><td>nan</td><td>nan</td><td>nan</td><td>nan</td><td>nan</td><td>nan</td><td>False</td><td>nan</td><td>nan</td><td>nan</td><td>nan</td><td>nan</td><td>nan</td><td>nan</td><td>nan</td><td>False</td><td>nan</td><td>nan</td><td>nan</td><td>nan</td><td>nan</td><td>nan</td><td>nan</td><td>nan</td><td>False</td><td>0.993865</td><td>uhs_stellarity</td><td>False</td><td>False</td><td>0</td><td>3</td><td>0</td><td>0.005756887064081255</td><td>False</td><td>-99</td><td>nan</td></tr>\n",
       "<tr><td>HELP_J133405.537+373812.340</td><td>XMM-13hr</td><td>203.5230723959791</td><td>37.63676123029062</td><td>171778200</td><td>92564.48</td><td>47.4294</td><td>11.483889</td><td>0.0005563238</td><td>764563.06</td><td>135.65337</td><td>9.191466</td><td>0.00019263782</td><td>False</td><td>nan</td><td>nan</td><td>nan</td><td>nan</td><td>nan</td><td>nan</td><td>nan</td><td>nan</td><td>False</td><td>nan</td><td>nan</td><td>nan</td><td>nan</td><td>nan</td><td>nan</td><td>nan</td><td>nan</td><td>False</td><td>nan</td><td>nan</td><td>nan</td><td>nan</td><td>nan</td><td>nan</td><td>nan</td><td>nan</td><td>False</td><td>0.993865</td><td>uhs_stellarity</td><td>False</td><td>False</td><td>3</td><td>3</td><td>0</td><td>0.004791692193670998</td><td>False</td><td>-99</td><td>nan</td></tr>\n",
       "<tr><td>HELP_J133507.395+381823.079</td><td>XMM-13hr</td><td>203.78081290015865</td><td>38.306410855834955</td><td>171784603</td><td>76208.625</td><td>43.00891</td><td>11.694989</td><td>0.0006127433</td><td>60405.227</td><td>40.613148</td><td>11.947313</td><td>0.0007299892</td><td>False</td><td>nan</td><td>nan</td><td>nan</td><td>nan</td><td>nan</td><td>nan</td><td>nan</td><td>nan</td><td>False</td><td>nan</td><td>nan</td><td>nan</td><td>nan</td><td>nan</td><td>nan</td><td>nan</td><td>nan</td><td>False</td><td>nan</td><td>nan</td><td>nan</td><td>nan</td><td>nan</td><td>nan</td><td>nan</td><td>nan</td><td>False</td><td>0.993865</td><td>uhs_stellarity</td><td>False</td><td>False</td><td>2</td><td>3</td><td>0</td><td>0.005256923912719652</td><td>False</td><td>-99</td><td>nan</td></tr>\n",
       "<tr><td>HELP_J133507.495+381821.978</td><td>XMM-13hr</td><td>203.7812287942033</td><td>38.30610503761026</td><td>171784603</td><td>63930.758</td><td>39.45619</td><td>11.885725</td><td>0.0006700845</td><td>175108.0</td><td>71.86561</td><td>10.791735</td><td>0.00044559414</td><td>False</td><td>nan</td><td>nan</td><td>nan</td><td>nan</td><td>nan</td><td>nan</td><td>nan</td><td>nan</td><td>False</td><td>nan</td><td>nan</td><td>nan</td><td>nan</td><td>nan</td><td>nan</td><td>nan</td><td>nan</td><td>False</td><td>nan</td><td>nan</td><td>nan</td><td>nan</td><td>nan</td><td>nan</td><td>nan</td><td>nan</td><td>False</td><td>0.993865</td><td>uhs_stellarity</td><td>False</td><td>False</td><td>2</td><td>3</td><td>0</td><td>0.005255860575460749</td><td>False</td><td>-99</td><td>nan</td></tr>\n",
       "<tr><td>HELP_J133404.940+382430.467</td><td>XMM-13hr</td><td>203.5205814885502</td><td>38.40846317562754</td><td>171806897</td><td>44149.688</td><td>32.27779</td><td>12.287681</td><td>0.00079378067</td><td>44388.742</td><td>35.061363</td><td>12.281817</td><td>0.00085759116</td><td>False</td><td>nan</td><td>nan</td><td>nan</td><td>nan</td><td>nan</td><td>nan</td><td>nan</td><td>nan</td><td>False</td><td>nan</td><td>nan</td><td>nan</td><td>nan</td><td>nan</td><td>nan</td><td>nan</td><td>nan</td><td>False</td><td>nan</td><td>nan</td><td>nan</td><td>nan</td><td>nan</td><td>nan</td><td>nan</td><td>nan</td><td>False</td><td>0.993865</td><td>uhs_stellarity</td><td>False</td><td>False</td><td>3</td><td>2</td><td>0</td><td>0.005693503272186946</td><td>False</td><td>-99</td><td>nan</td></tr>\n",
       "<tr><td>HELP_J133451.373+374619.160</td><td>XMM-13hr</td><td>203.71405576254574</td><td>37.77198894876193</td><td>171779105</td><td>42134.996</td><td>32.04655</td><td>12.338392</td><td>0.00082577683</td><td>74460.13</td><td>47.56558</td><td>11.72019</td><td>0.00069357484</td><td>False</td><td>nan</td><td>nan</td><td>nan</td><td>nan</td><td>nan</td><td>nan</td><td>nan</td><td>nan</td><td>False</td><td>nan</td><td>nan</td><td>nan</td><td>nan</td><td>nan</td><td>nan</td><td>nan</td><td>nan</td><td>False</td><td>nan</td><td>nan</td><td>nan</td><td>nan</td><td>nan</td><td>nan</td><td>nan</td><td>nan</td><td>False</td><td>0.993865</td><td>uhs_stellarity</td><td>False</td><td>False</td><td>2</td><td>3</td><td>0</td><td>0.004903579058644301</td><td>False</td><td>-99</td><td>nan</td></tr>\n",
       "<tr><td>...</td><td>...</td><td>...</td><td>...</td><td>...</td><td>...</td><td>...</td><td>...</td><td>...</td><td>...</td><td>...</td><td>...</td><td>...</td><td>...</td><td>...</td><td>...</td><td>...</td><td>...</td><td>...</td><td>...</td><td>...</td><td>...</td><td>...</td><td>...</td><td>...</td><td>...</td><td>...</td><td>...</td><td>...</td><td>...</td><td>...</td><td>...</td><td>...</td><td>...</td><td>...</td><td>...</td><td>...</td><td>...</td><td>...</td><td>...</td><td>...</td><td>...</td><td>...</td><td>...</td><td>...</td><td>...</td><td>...</td><td>...</td><td>...</td><td>...</td><td>...</td><td>...</td></tr>\n",
       "<tr><td>HELP_J133601.553+374055.166</td><td>XMM-13hr</td><td>204.0064710816104</td><td>37.68199053907104</td><td>171773208</td><td>nan</td><td>nan</td><td>nan</td><td>nan</td><td>nan</td><td>nan</td><td>nan</td><td>nan</td><td>False</td><td>nan</td><td>nan</td><td>nan</td><td>nan</td><td>0.0</td><td>inf</td><td>nan</td><td>nan</td><td>False</td><td>0.28576806</td><td>0.27368852</td><td>25.259966</td><td>1.0398417</td><td>0.5779479</td><td>0.3175052</td><td>24.495277</td><td>0.5964671</td><td>False</td><td>2.2859788</td><td>0.9052648</td><td>23.00232</td><td>0.4299597</td><td>2.3584747</td><td>0.39124173</td><td>22.968422</td><td>0.18011017</td><td>False</td><td>0.9</td><td>legacy_stellarity</td><td>False</td><td>False</td><td>0</td><td>3</td><td>1</td><td>0.007639468010718529</td><td>False</td><td>-99</td><td>nan</td></tr>\n",
       "<tr><td>HELP_J133606.944+374251.819</td><td>XMM-13hr</td><td>204.02893157552305</td><td>37.714394179811194</td><td>171773259</td><td>nan</td><td>nan</td><td>nan</td><td>nan</td><td>nan</td><td>nan</td><td>nan</td><td>nan</td><td>False</td><td>nan</td><td>nan</td><td>nan</td><td>nan</td><td>0.0</td><td>inf</td><td>nan</td><td>nan</td><td>False</td><td>0.2780545</td><td>0.2736883</td><td>25.289675</td><td>1.0686873</td><td>0.9057055</td><td>0.3745743</td><td>24.00753</td><td>0.44902992</td><td>False</td><td>3.337665</td><td>0.905267</td><td>22.591393</td><td>0.29448166</td><td>3.1634867</td><td>0.56749785</td><td>22.64959</td><td>0.19477019</td><td>False</td><td>0.05</td><td>legacy_stellarity</td><td>False</td><td>False</td><td>0</td><td>3</td><td>1</td><td>0.007471705617785014</td><td>False</td><td>-99</td><td>nan</td></tr>\n",
       "<tr><td>HELP_J133606.733+374237.751</td><td>XMM-13hr</td><td>204.02805401917624</td><td>37.710486505178615</td><td>171773259</td><td>nan</td><td>nan</td><td>nan</td><td>nan</td><td>nan</td><td>nan</td><td>nan</td><td>nan</td><td>False</td><td>nan</td><td>nan</td><td>nan</td><td>nan</td><td>0.0</td><td>inf</td><td>nan</td><td>nan</td><td>False</td><td>0.2534518</td><td>0.27368906</td><td>25.39026</td><td>1.1724286</td><td>0.32356423</td><td>0.37082005</td><td>25.1251</td><td>1.2443055</td><td>False</td><td>5.133877</td><td>0.9052663</td><td>22.123886</td><td>0.19144994</td><td>6.3555017</td><td>0.57232434</td><td>21.892128</td><td>0.09777249</td><td>False</td><td>0.05</td><td>legacy_stellarity</td><td>False</td><td>False</td><td>0</td><td>3</td><td>1</td><td>0.007508324582910314</td><td>False</td><td>-99</td><td>nan</td></tr>\n",
       "<tr><td>HELP_J133557.414+374228.705</td><td>XMM-13hr</td><td>203.98922419990024</td><td>37.70797357361528</td><td>171773241</td><td>nan</td><td>nan</td><td>nan</td><td>nan</td><td>nan</td><td>nan</td><td>nan</td><td>nan</td><td>False</td><td>nan</td><td>nan</td><td>nan</td><td>nan</td><td>0.0</td><td>inf</td><td>nan</td><td>nan</td><td>False</td><td>0.23275347</td><td>0.270021</td><td>25.48276</td><td>1.2595798</td><td>0.63637084</td><td>0.37683406</td><td>24.390724</td><td>0.64293075</td><td>False</td><td>2.9891572</td><td>0.90526706</td><td>22.711128</td><td>0.32881552</td><td>3.8220284</td><td>0.56459576</td><td>22.444267</td><td>0.16038658</td><td>False</td><td>0.05</td><td>legacy_stellarity</td><td>False</td><td>False</td><td>0</td><td>3</td><td>1</td><td>0.007663548280692112</td><td>False</td><td>-99</td><td>nan</td></tr>\n",
       "<tr><td>HELP_J133608.318+381447.633</td><td>XMM-13hr</td><td>204.03465902579975</td><td>38.246564632098135</td><td>171783359</td><td>nan</td><td>nan</td><td>nan</td><td>nan</td><td>nan</td><td>nan</td><td>nan</td><td>nan</td><td>False</td><td>nan</td><td>nan</td><td>nan</td><td>nan</td><td>0.0</td><td>inf</td><td>nan</td><td>nan</td><td>False</td><td>0.17977479</td><td>0.23913103</td><td>25.763178</td><td>1.4442137</td><td>0.6977635</td><td>0.26153883</td><td>24.290733</td><td>0.40696052</td><td>False</td><td>1.6881472</td><td>0.77563536</td><td>23.331474</td><td>0.49885187</td><td>2.716303</td><td>0.35220358</td><td>22.815056</td><td>0.14077964</td><td>False</td><td>0.9</td><td>legacy_stellarity</td><td>False</td><td>False</td><td>0</td><td>3</td><td>1</td><td>0.0062608132336530115</td><td>False</td><td>-99</td><td>nan</td></tr>\n",
       "<tr><td>HELP_J133609.403+374239.124</td><td>XMM-13hr</td><td>204.03917875591563</td><td>37.710867652393524</td><td>171773260</td><td>nan</td><td>nan</td><td>nan</td><td>nan</td><td>nan</td><td>nan</td><td>nan</td><td>nan</td><td>False</td><td>nan</td><td>nan</td><td>nan</td><td>nan</td><td>0.0</td><td>inf</td><td>nan</td><td>nan</td><td>False</td><td>0.19646205</td><td>0.27369013</td><td>25.666803</td><td>1.5125328</td><td>0.43814293</td><td>0.3122616</td><td>24.79596</td><td>0.7737971</td><td>False</td><td>1.6412191</td><td>0.9052704</td><td>23.362083</td><td>0.59887487</td><td>2.5910335</td><td>0.37045318</td><td>22.866318</td><td>0.15523319</td><td>False</td><td>0.9</td><td>legacy_stellarity</td><td>False</td><td>False</td><td>0</td><td>3</td><td>1</td><td>0.007364130263815697</td><td>False</td><td>-99</td><td>nan</td></tr>\n",
       "<tr><td>HELP_J133607.840+374009.219</td><td>XMM-13hr</td><td>204.0326665540245</td><td>37.669227482018144</td><td>171771838</td><td>nan</td><td>nan</td><td>nan</td><td>nan</td><td>nan</td><td>nan</td><td>nan</td><td>nan</td><td>False</td><td>nan</td><td>nan</td><td>nan</td><td>nan</td><td>0.0</td><td>inf</td><td>nan</td><td>nan</td><td>False</td><td>0.14240442</td><td>0.27368942</td><td>26.016191</td><td>2.0866945</td><td>0.63626254</td><td>0.32021824</td><td>24.390907</td><td>0.5464294</td><td>False</td><td>2.699649</td><td>0.905268</td><td>22.821732</td><td>0.36407778</td><td>3.707293</td><td>0.38607335</td><td>22.477356</td><td>0.113067344</td><td>False</td><td>0.9</td><td>legacy_stellarity</td><td>False</td><td>False</td><td>0</td><td>3</td><td>1</td><td>0.00754243848126847</td><td>False</td><td>-99</td><td>nan</td></tr>\n",
       "<tr><td>HELP_J133602.841+374349.310</td><td>XMM-13hr</td><td>204.01183832496878</td><td>37.73036395581128</td><td>171773289</td><td>nan</td><td>nan</td><td>nan</td><td>nan</td><td>nan</td><td>nan</td><td>nan</td><td>nan</td><td>False</td><td>nan</td><td>nan</td><td>nan</td><td>nan</td><td>0.0</td><td>inf</td><td>nan</td><td>nan</td><td>False</td><td>0.07563797</td><td>0.27368888</td><td>26.70315</td><td>3.9286344</td><td>0.19239251</td><td>0.31392333</td><td>25.689537</td><td>1.7715757</td><td>False</td><td>0.39387152</td><td>0.90526783</td><td>24.911613</td><td>2.4954383</td><td>2.1185331</td><td>0.39229468</td><td>23.084915</td><td>0.20104879</td><td>False</td><td>0.9</td><td>legacy_stellarity</td><td>False</td><td>False</td><td>0</td><td>3</td><td>1</td><td>0.007469301641639782</td><td>False</td><td>-99</td><td>nan</td></tr>\n",
       "<tr><td>HELP_J133527.484+381437.172</td><td>XMM-13hr</td><td>203.8645146353002</td><td>38.24365881519308</td><td>171783101</td><td>nan</td><td>nan</td><td>nan</td><td>nan</td><td>nan</td><td>nan</td><td>nan</td><td>nan</td><td>False</td><td>nan</td><td>nan</td><td>nan</td><td>nan</td><td>0.0</td><td>inf</td><td>nan</td><td>nan</td><td>False</td><td>0.0072447513</td><td>0.2450783</td><td>29.24994</td><td>36.72871</td><td>0.05215794</td><td>0.26596567</td><td>27.106705</td><td>5.5364256</td><td>False</td><td>1.0328577</td><td>0.66333467</td><td>23.864899</td><td>0.697295</td><td>1.8344382</td><td>0.30747616</td><td>23.241241</td><td>0.18198377</td><td>False</td><td>0.9</td><td>legacy_stellarity</td><td>False</td><td>False</td><td>0</td><td>3</td><td>1</td><td>0.005887256992647252</td><td>False</td><td>-99</td><td>nan</td></tr>\n",
       "<tr><td>HELP_J133532.218+374210.788</td><td>XMM-13hr</td><td>203.88424210475912</td><td>37.70299660665729</td><td>171773167</td><td>nan</td><td>nan</td><td>nan</td><td>nan</td><td>nan</td><td>nan</td><td>nan</td><td>nan</td><td>False</td><td>nan</td><td>nan</td><td>nan</td><td>nan</td><td>454.35995</td><td>8.4081135</td><td>17.2565</td><td>0.020091984</td><td>False</td><td>nan</td><td>nan</td><td>nan</td><td>nan</td><td>616.6044</td><td>4.940726</td><td>16.924988</td><td>0.008699784</td><td>False</td><td>162.26643</td><td>1.0507252</td><td>18.374428</td><td>0.0070304773</td><td>424.32642</td><td>8.285883</td><td>17.33075</td><td>0.021201327</td><td>False</td><td>0.05</td><td>legacy_stellarity</td><td>False</td><td>False</td><td>0</td><td>3</td><td>1</td><td>0.005584710891161877</td><td>False</td><td>-99</td><td>nan</td></tr>\n",
       "</table>"
      ],
      "text/plain": [
       "<Table length=38629>\n",
       "          help_id            field           ra         ... zspec_qual  zspec \n",
       "                                            deg         ...                   \n",
       "          bytes27           bytes18       float64       ...   int64    float64\n",
       "--------------------------- -------- ------------------ ... ---------- -------\n",
       "HELP_J133432.222+373646.113 XMM-13hr 203.63425709565024 ...        -99     nan\n",
       "HELP_J133414.713+375131.803 XMM-13hr 203.56130245753093 ...        -99     nan\n",
       "HELP_J133533.957+374210.516 XMM-13hr 203.89148663495547 ...        -99     nan\n",
       "HELP_J133533.920+374208.261 XMM-13hr 203.89133445070576 ...        -99     nan\n",
       "HELP_J133405.537+373812.340 XMM-13hr  203.5230723959791 ...        -99     nan\n",
       "HELP_J133507.395+381823.079 XMM-13hr 203.78081290015865 ...        -99     nan\n",
       "HELP_J133507.495+381821.978 XMM-13hr  203.7812287942033 ...        -99     nan\n",
       "HELP_J133404.940+382430.467 XMM-13hr  203.5205814885502 ...        -99     nan\n",
       "HELP_J133451.373+374619.160 XMM-13hr 203.71405576254574 ...        -99     nan\n",
       "                        ...      ...                ... ...        ...     ...\n",
       "HELP_J133601.553+374055.166 XMM-13hr  204.0064710816104 ...        -99     nan\n",
       "HELP_J133606.944+374251.819 XMM-13hr 204.02893157552305 ...        -99     nan\n",
       "HELP_J133606.733+374237.751 XMM-13hr 204.02805401917624 ...        -99     nan\n",
       "HELP_J133557.414+374228.705 XMM-13hr 203.98922419990024 ...        -99     nan\n",
       "HELP_J133608.318+381447.633 XMM-13hr 204.03465902579975 ...        -99     nan\n",
       "HELP_J133609.403+374239.124 XMM-13hr 204.03917875591563 ...        -99     nan\n",
       "HELP_J133607.840+374009.219 XMM-13hr  204.0326665540245 ...        -99     nan\n",
       "HELP_J133602.841+374349.310 XMM-13hr 204.01183832496878 ...        -99     nan\n",
       "HELP_J133527.484+381437.172 XMM-13hr  203.8645146353002 ...        -99     nan\n",
       "HELP_J133532.218+374210.788 XMM-13hr 203.88424210475912 ...        -99     nan"
      ]
     },
     "execution_count": 8,
     "metadata": {},
     "output_type": "execute_result"
    }
   ],
   "source": [
    "ml"
   ]
  },
  {
   "cell_type": "code",
   "execution_count": 9,
   "metadata": {},
   "outputs": [
    {
     "name": "stderr",
     "output_type": "stream",
     "text": [
      "/Users/rs548/anaconda/envs/herschelhelp_internal/lib/python3.6/site-packages/scipy/stats/stats.py:1713: FutureWarning: Using a non-tuple sequence for multidimensional indexing is deprecated; use `arr[tuple(seq)]` instead of `arr[seq]`. In the future this will be interpreted as an array index, `arr[np.array(seq)]`, which will result either in an error or a different result.\n",
      "  return np.add.reduce(sorted[indexer] * weights, axis=axis) / sumval\n"
     ]
    },
    {
     "data": {
      "image/png": "[encoded data removed]",
      "text/plain": [
       "<matplotlib.figure.Figure at 0x81c0d3b70>"
      ]
     },
     "metadata": {},
     "output_type": "display_data"
    }
   ],
   "source": [
    "nb_merge_dist_plot(\n",
    "    SkyCoord(ml['ra'], ml['dec']),\n",
    "    SkyCoord(desi_photoz['ra'], desi_photoz['dec'])\n",
    ")"
   ]
  },
  {
   "cell_type": "code",
   "execution_count": 10,
   "metadata": {},
   "outputs": [],
   "source": [
    "# Given the graph above, we use 0.8 arc-second radius\n",
    "desi_photoz['ra'].name = 'desi_ra'\n",
    "desi_photoz['dec'].name = 'desi_dec'\n",
    "photoz = merge_catalogues(ml, desi_photoz, \"desi_ra\", \"desi_dec\", radius=0.8*u.arcsec)"
   ]
  },
  {
   "cell_type": "code",
   "execution_count": 11,
   "metadata": {},
   "outputs": [],
   "source": [
    "photoz['help_id'].fill_value = ''\n",
    "photoz['photo_z'].fill_value = np.nan\n",
    "photoz = photoz.filled()\n",
    "has_help = photoz['help_id'] != ''\n",
    "has_z = ~np.isnan(photoz['photo_z'])\n",
    "photoz = photoz['help_id', 'id', 'photo_z', 'photo_zerr']\n",
    "photoz[has_help & has_z].write('./data/XMM-13hr_DESI-DR7_Zou_et_al_2019_photo_z_withhelp_id.fits', overwrite=True)"
   ]
  },
  {
   "cell_type": "code",
   "execution_count": 12,
   "metadata": {},
   "outputs": [
    {
     "data": {
      "text/html": [
       "<i>Table length=10777</i>\n",
       "<table id=\"table112238829352\" class=\"table-striped table-bordered table-condensed\">\n",
       "<thead><tr><th>help_id</th><th>id</th><th>photo_z</th><th>photo_zerr</th></tr></thead>\n",
       "<thead><tr><th>bytes27</th><th>str16</th><th>float64</th><th>float64</th></tr></thead>\n",
       "<tr><td>HELP_J133518.272+375026.194</td><td>6000533502003569</td><td>0.44973215</td><td>0.034033563</td></tr>\n",
       "<tr><td>HELP_J133442.543+380003.910</td><td>6000534641001979</td><td>0.45776433</td><td>0.13827044</td></tr>\n",
       "<tr><td>HELP_J133540.548+375155.502</td><td>6000533502003948</td><td>0.49301365</td><td>0.055531282</td></tr>\n",
       "<tr><td>HELP_J133337.552+380417.817</td><td>6000534640002921</td><td>0.40855777</td><td>0.091790274</td></tr>\n",
       "<tr><td>HELP_J133636.314+374336.560</td><td>6000533503001459</td><td>0.28748626</td><td>0.06836981</td></tr>\n",
       "<tr><td>HELP_J133401.565+380140.968</td><td>6000534641002309</td><td>0.7450893</td><td>0.054091707</td></tr>\n",
       "<tr><td>HELP_J133554.907+375940.362</td><td>6000534642001811</td><td>0.6666842</td><td>0.044908088</td></tr>\n",
       "<tr><td>HELP_J133437.014+380749.950</td><td>6000535777000109</td><td>0.67369443</td><td>0.0627994</td></tr>\n",
       "<tr><td>HELP_J133420.648+382021.620</td><td>6000535777002848</td><td>0.7417847</td><td>0.05852794</td></tr>\n",
       "<tr><td>HELP_J133408.172+380009.168</td><td>6000534641002010</td><td>0.8077903</td><td>0.077188246</td></tr>\n",
       "<tr><td>...</td><td>...</td><td>...</td><td>...</td></tr>\n",
       "<tr><td>HELP_J133625.080+375331.041</td><td>6000534643000336</td><td>0.3302834</td><td>0.07599059</td></tr>\n",
       "<tr><td>HELP_J133543.565+375201.319</td><td>6000533502003978</td><td>0.4839085</td><td>0.076397896</td></tr>\n",
       "<tr><td>HELP_J133514.490+374910.486</td><td>6000533502003189</td><td>0.68610317</td><td>0.030514138</td></tr>\n",
       "<tr><td>HELP_J133459.049+375025.545</td><td>6000533502003533</td><td>0.38081092</td><td>0.063436754</td></tr>\n",
       "<tr><td>HELP_J133451.961+381029.171</td><td>6000535777000732</td><td>0.7317047</td><td>0.05101828</td></tr>\n",
       "<tr><td>HELP_J133443.427+375615.711</td><td>6000534641000979</td><td>0.5560457</td><td>0.10311523</td></tr>\n",
       "<tr><td>HELP_J133318.387+381343.383</td><td>6000535776001699</td><td>1.0804455</td><td>0.12892269</td></tr>\n",
       "<tr><td>HELP_J133414.011+382306.904</td><td>6000536908000174</td><td>0.13603936</td><td>0.04721223</td></tr>\n",
       "<tr><td>HELP_J133221.027+375014.076</td><td>6000533500003557</td><td>0.50490624</td><td>0.11666064</td></tr>\n",
       "<tr><td>HELP_J133628.430+373924.125</td><td>6000533503000526</td><td>0.60408604</td><td>0.108519636</td></tr>\n",
       "</table>"
      ],
      "text/plain": [
       "<Table length=10777>\n",
       "          help_id                  id         photo_z    photo_zerr\n",
       "          bytes27                str16        float64     float64  \n",
       "--------------------------- ---------------- ---------- -----------\n",
       "HELP_J133518.272+375026.194 6000533502003569 0.44973215 0.034033563\n",
       "HELP_J133442.543+380003.910 6000534641001979 0.45776433  0.13827044\n",
       "HELP_J133540.548+375155.502 6000533502003948 0.49301365 0.055531282\n",
       "HELP_J133337.552+380417.817 6000534640002921 0.40855777 0.091790274\n",
       "HELP_J133636.314+374336.560 6000533503001459 0.28748626  0.06836981\n",
       "HELP_J133401.565+380140.968 6000534641002309  0.7450893 0.054091707\n",
       "HELP_J133554.907+375940.362 6000534642001811  0.6666842 0.044908088\n",
       "HELP_J133437.014+380749.950 6000535777000109 0.67369443   0.0627994\n",
       "HELP_J133420.648+382021.620 6000535777002848  0.7417847  0.05852794\n",
       "HELP_J133408.172+380009.168 6000534641002010  0.8077903 0.077188246\n",
       "                        ...              ...        ...         ...\n",
       "HELP_J133625.080+375331.041 6000534643000336  0.3302834  0.07599059\n",
       "HELP_J133543.565+375201.319 6000533502003978  0.4839085 0.076397896\n",
       "HELP_J133514.490+374910.486 6000533502003189 0.68610317 0.030514138\n",
       "HELP_J133459.049+375025.545 6000533502003533 0.38081092 0.063436754\n",
       "HELP_J133451.961+381029.171 6000535777000732  0.7317047  0.05101828\n",
       "HELP_J133443.427+375615.711 6000534641000979  0.5560457  0.10311523\n",
       "HELP_J133318.387+381343.383 6000535776001699  1.0804455  0.12892269\n",
       "HELP_J133414.011+382306.904 6000536908000174 0.13603936  0.04721223\n",
       "HELP_J133221.027+375014.076 6000533500003557 0.50490624  0.11666064\n",
       "HELP_J133628.430+373924.125 6000533503000526 0.60408604 0.108519636"
      ]
     },
     "execution_count": 12,
     "metadata": {},
     "output_type": "execute_result"
    }
   ],
   "source": [
    "photoz[has_help & has_z]"
   ]
  }
 ],
 "metadata": {
  "anaconda-cloud": {},
  "kernelspec": {
   "display_name": "Python (herschelhelp_internal)",
   "language": "python",
   "name": "helpint"
  },
  "language_info": {
   "codemirror_mode": {
    "name": "ipython",
    "version": 3
   },
   "file_extension": ".py",
   "mimetype": "text/x-python",
   "name": "python",
   "nbconvert_exporter": "python",
   "pygments_lexer": "ipython3",
   "version": "3.6.8"
  }
 },
 "nbformat": 4,
 "nbformat_minor": 2
}
