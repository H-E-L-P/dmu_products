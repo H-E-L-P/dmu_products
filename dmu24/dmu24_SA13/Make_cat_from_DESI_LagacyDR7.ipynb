{
 "cells": [
  {
   "cell_type": "markdown",
   "metadata": {},
   "source": [
    "# Use DESI Legacy Survey photo z\n",
    "\n"
   ]
  },
  {
   "cell_type": "code",
   "execution_count": 1,
   "metadata": {},
   "outputs": [
    {
     "name": "stderr",
     "output_type": "stream",
     "text": [
      "/Users/rs548/anaconda/envs/herschelhelp_internal/lib/python3.6/site-packages/seaborn/apionly.py:9: UserWarning: As seaborn no longer sets a default style on import, the seaborn.apionly module is deprecated. It will be removed in a future version.\n",
      "  warnings.warn(msg, UserWarning)\n"
     ]
    }
   ],
   "source": [
    "import pandas as pd\n",
    "from astropy.table import Table, Column, vstack\n",
    "from astropy.cosmology import Planck15\n",
    "import astropy.units as u\n",
    "from astropy.coordinates import SkyCoord\n",
    "from astropy.io import ascii\n",
    "\n",
    "import urllib.request, json \n",
    "\n",
    "import time\n",
    "import numpy as np\n",
    "import pyvo as vo\n",
    "%matplotlib inline\n",
    "#%config InlineBackend.figure_format = 'svg'\n",
    "import matplotlib as mpl\n",
    "import matplotlib.pyplot as plt\n",
    "\n",
    "from selenium import webdriver\n",
    "\n",
    "from herschelhelp_internal.masterlist import merge_catalogues, nb_merge_dist_plot\n",
    "from herschelhelp.utils import clean_table"
   ]
  },
  {
   "cell_type": "markdown",
   "metadata": {},
   "source": [
    "## 2. Cross match to desi-photoz objects"
   ]
  },
  {
   "cell_type": "code",
   "execution_count": 2,
   "metadata": {},
   "outputs": [],
   "source": [
    "cross_query = \"\"\"\n",
    "SELECT\n",
    "    db.ID,\n",
    "    db.RA,\n",
    "    db.DEC,\n",
    "    db.field,\n",
    "    db.photo_z,\n",
    "    db.photo_zerr\n",
    "FROM desi_photoz.main AS db\n",
    "WHERE db.field = 'SA13'\n",
    "\"\"\"\n",
    "\n",
    "# construct a service; I’ve taken the URL from TOPCAT’s\n",
    "# TAP service browser # (\"Selected TAP Service\" near the\n",
    "# foot of the dialog)\n",
    "service = vo.dal.TAPService(\n",
    "    \"https://herschel-vos.phys.sussex.ac.uk/__system__/tap/run/tap\"\n",
    ")"
   ]
  },
  {
   "cell_type": "code",
   "execution_count": 3,
   "metadata": {},
   "outputs": [
    {
     "name": "stdout",
     "output_type": "stream",
     "text": [
      "Job COMPLETED running after 1 seconds.\n"
     ]
    },
    {
     "name": "stderr",
     "output_type": "stream",
     "text": [
      "WARNING: W27: None:3:464: W27: COOSYS deprecated in VOTable 1.2 [astropy.io.votable.tree]\n",
      "WARNING:astropy:W27: None:3:464: W27: COOSYS deprecated in VOTable 1.2\n"
     ]
    }
   ],
   "source": [
    "job = service.submit_job(cross_query)\n",
    "job.run()\n",
    "job_url = job.url\n",
    "job_result = vo.dal.tap.AsyncTAPJob(job_url)\n",
    "start_time = time.time()\n",
    "wait = 5.\n",
    "while job.phase == 'EXECUTING':\n",
    "    \n",
    "    time.sleep(wait) #wait and try again\n",
    "    #wait *= 2\n",
    "\n",
    "print('Job {} running after {} seconds.'.format(job.phase, round(time.time() - start_time)))\n",
    "\n",
    "result = job_result.fetch_result()\n",
    "desi_photoz = result.table"
   ]
  },
  {
   "cell_type": "code",
   "execution_count": 4,
   "metadata": {},
   "outputs": [
    {
     "name": "stdout",
     "output_type": "stream",
     "text": [
      "Converting column id type from object to string\n",
      "Converting column field type from object to string\n"
     ]
    }
   ],
   "source": [
    "desi_photoz = clean_table(desi_photoz)"
   ]
  },
  {
   "cell_type": "code",
   "execution_count": 5,
   "metadata": {},
   "outputs": [],
   "source": [
    "desi_photoz.write('./data/SA13_DESI-DR7_Zou_et_al_2019_photo_z.fits', overwrite=True)"
   ]
  },
  {
   "cell_type": "code",
   "execution_count": 6,
   "metadata": {},
   "outputs": [
    {
     "data": {
      "text/html": [
       "<i>Table length=3466</i>\n",
       "<table id=\"table112177488168\" class=\"table-striped table-bordered table-condensed\">\n",
       "<thead><tr><th>id</th><th>ra</th><th>dec</th><th>field</th><th>photo_z</th><th>photo_zerr</th></tr></thead>\n",
       "<thead><tr><th></th><th>deg</th><th>deg</th><th></th><th></th><th></th></tr></thead>\n",
       "<thead><tr><th>str16</th><th>float64</th><th>float64</th><th>str4</th><th>float64</th><th>float64</th></tr></thead>\n",
       "<tr><td>6000554454000854</td><td>197.883763585376</td><td>42.4375639388306</td><td>SA13</td><td>0.57123554</td><td>0.05117172</td></tr>\n",
       "<tr><td>6000554454000894</td><td>197.886930138667</td><td>42.4408097295241</td><td>SA13</td><td>0.26441243</td><td>0.06203453</td></tr>\n",
       "<tr><td>6000554454000839</td><td>197.89807366287</td><td>42.4362899479548</td><td>SA13</td><td>1.0972089</td><td>0.12904881</td></tr>\n",
       "<tr><td>6000554454000828</td><td>197.912063334538</td><td>42.4354059465868</td><td>SA13</td><td>0.31136498</td><td>0.07524923</td></tr>\n",
       "<tr><td>6000554454000715</td><td>197.924816848343</td><td>42.4279469150022</td><td>SA13</td><td>0.8147023</td><td>0.0709286</td></tr>\n",
       "<tr><td>6000554454000800</td><td>197.914714429311</td><td>42.4332538250149</td><td>SA13</td><td>0.68628097</td><td>0.19718137</td></tr>\n",
       "<tr><td>6000554455000807</td><td>197.936536316109</td><td>42.4310204449517</td><td>SA13</td><td>0.29201406</td><td>0.058980945</td></tr>\n",
       "<tr><td>6000554454001782</td><td>197.733188931551</td><td>42.5120859160352</td><td>SA13</td><td>0.56903005</td><td>0.16180536</td></tr>\n",
       "<tr><td>6000554454001783</td><td>197.73073896907</td><td>42.5130133686154</td><td>SA13</td><td>0.77919596</td><td>0.046188436</td></tr>\n",
       "<tr><td>...</td><td>...</td><td>...</td><td>...</td><td>...</td><td>...</td></tr>\n",
       "<tr><td>6000556575001433</td><td>198.273464906315</td><td>42.9842377981465</td><td>SA13</td><td>0.44120327</td><td>0.08654155</td></tr>\n",
       "<tr><td>6000556575001475</td><td>198.281356737088</td><td>42.9875574870917</td><td>SA13</td><td>0.6347655</td><td>0.037402086</td></tr>\n",
       "<tr><td>6000556575001453</td><td>198.28974507576</td><td>42.9858799925101</td><td>SA13</td><td>0.6950385</td><td>0.07390267</td></tr>\n",
       "<tr><td>6000556575001561</td><td>198.276558417697</td><td>42.995896906366</td><td>SA13</td><td>0.0031833632</td><td>0.009900734</td></tr>\n",
       "<tr><td>6000556575001513</td><td>198.283208139203</td><td>42.9899160165597</td><td>SA13</td><td>0.73497194</td><td>0.045232974</td></tr>\n",
       "<tr><td>6000556575001546</td><td>198.287770548535</td><td>42.9923489610328</td><td>SA13</td><td>0.62063354</td><td>0.044142492</td></tr>\n",
       "<tr><td>6000556575001570</td><td>198.28672206613</td><td>42.9943012178962</td><td>SA13</td><td>0.63791513</td><td>0.07732783</td></tr>\n",
       "<tr><td>6000556575001438</td><td>198.294385159633</td><td>42.9850191323967</td><td>SA13</td><td>0.14712827</td><td>0.06724968</td></tr>\n",
       "<tr><td>6000556575001416</td><td>198.298836491111</td><td>42.9844797860952</td><td>SA13</td><td>0.4705102</td><td>0.08625516</td></tr>\n",
       "<tr><td>6000556575001429</td><td>198.305043061164</td><td>42.9838616204446</td><td>SA13</td><td>0.906979</td><td>0.10985635</td></tr>\n",
       "</table>"
      ],
      "text/plain": [
       "<Table length=3466>\n",
       "       id               ra              dec        ...   photo_z     photo_zerr\n",
       "                       deg              deg        ...                         \n",
       "     str16           float64          float64      ...   float64      float64  \n",
       "---------------- ---------------- ---------------- ... ------------ -----------\n",
       "6000554454000854 197.883763585376 42.4375639388306 ...   0.57123554  0.05117172\n",
       "6000554454000894 197.886930138667 42.4408097295241 ...   0.26441243  0.06203453\n",
       "6000554454000839  197.89807366287 42.4362899479548 ...    1.0972089  0.12904881\n",
       "6000554454000828 197.912063334538 42.4354059465868 ...   0.31136498  0.07524923\n",
       "6000554454000715 197.924816848343 42.4279469150022 ...    0.8147023   0.0709286\n",
       "6000554454000800 197.914714429311 42.4332538250149 ...   0.68628097  0.19718137\n",
       "6000554455000807 197.936536316109 42.4310204449517 ...   0.29201406 0.058980945\n",
       "6000554454001782 197.733188931551 42.5120859160352 ...   0.56903005  0.16180536\n",
       "6000554454001783  197.73073896907 42.5130133686154 ...   0.77919596 0.046188436\n",
       "             ...              ...              ... ...          ...         ...\n",
       "6000556575001433 198.273464906315 42.9842377981465 ...   0.44120327  0.08654155\n",
       "6000556575001475 198.281356737088 42.9875574870917 ...    0.6347655 0.037402086\n",
       "6000556575001453  198.28974507576 42.9858799925101 ...    0.6950385  0.07390267\n",
       "6000556575001561 198.276558417697  42.995896906366 ... 0.0031833632 0.009900734\n",
       "6000556575001513 198.283208139203 42.9899160165597 ...   0.73497194 0.045232974\n",
       "6000556575001546 198.287770548535 42.9923489610328 ...   0.62063354 0.044142492\n",
       "6000556575001570  198.28672206613 42.9943012178962 ...   0.63791513  0.07732783\n",
       "6000556575001438 198.294385159633 42.9850191323967 ...   0.14712827  0.06724968\n",
       "6000556575001416 198.298836491111 42.9844797860952 ...    0.4705102  0.08625516\n",
       "6000556575001429 198.305043061164 42.9838616204446 ...     0.906979  0.10985635"
      ]
     },
     "execution_count": 6,
     "metadata": {},
     "output_type": "execute_result"
    }
   ],
   "source": [
    "desi_photoz"
   ]
  },
  {
   "cell_type": "code",
   "execution_count": 7,
   "metadata": {},
   "outputs": [],
   "source": [
    "ml = Table.read('../../dmu1/dmu1_ml_SA13/data/master_catalogue_sa13_20180501.fits')"
   ]
  },
  {
   "cell_type": "code",
   "execution_count": 8,
   "metadata": {},
   "outputs": [
    {
     "data": {
      "text/html": [
       "<i>Table length=9799</i>\n",
       "<table id=\"table112180199208\" class=\"table-striped table-bordered table-condensed\">\n",
       "<thead><tr><th>help_id</th><th>field</th><th>ra</th><th>dec</th><th>hp_idx</th><th>f_ap_ukidss_j</th><th>ferr_ap_ukidss_j</th><th>m_ap_ukidss_j</th><th>merr_ap_ukidss_j</th><th>f_ukidss_j</th><th>ferr_ukidss_j</th><th>m_ukidss_j</th><th>merr_ukidss_j</th><th>flag_ukidss_j</th><th>f_ap_90prime_g</th><th>ferr_ap_90prime_g</th><th>m_ap_90prime_g</th><th>merr_ap_90prime_g</th><th>f_90prime_g</th><th>ferr_90prime_g</th><th>m_90prime_g</th><th>merr_90prime_g</th><th>flag_90prime_g</th><th>f_ap_90prime_r</th><th>ferr_ap_90prime_r</th><th>m_ap_90prime_r</th><th>merr_ap_90prime_r</th><th>f_90prime_r</th><th>ferr_90prime_r</th><th>m_90prime_r</th><th>merr_90prime_r</th><th>flag_90prime_r</th><th>f_ap_mosaic_z</th><th>ferr_ap_mosaic_z</th><th>m_ap_mosaic_z</th><th>merr_ap_mosaic_z</th><th>f_mosaic_z</th><th>ferr_mosaic_z</th><th>m_mosaic_z</th><th>merr_mosaic_z</th><th>flag_mosaic_z</th><th>stellarity</th><th>stellarity_origin</th><th>flag_cleaned</th><th>flag_merged</th><th>flag_gaia</th><th>flag_optnir_obs</th><th>flag_optnir_det</th><th>ebv</th><th>zspec_association_flag</th><th>zspec_qual</th><th>zspec</th></tr></thead>\n",
       "<thead><tr><th></th><th></th><th>deg</th><th>deg</th><th></th><th></th><th></th><th></th><th></th><th></th><th></th><th></th><th></th><th></th><th></th><th></th><th></th><th></th><th>uJy</th><th>uJy</th><th></th><th></th><th></th><th></th><th></th><th></th><th></th><th>uJy</th><th>uJy</th><th></th><th></th><th></th><th></th><th></th><th></th><th></th><th>uJy</th><th>uJy</th><th></th><th></th><th></th><th></th><th></th><th></th><th></th><th></th><th></th><th></th><th></th><th></th><th></th><th></th></tr></thead>\n",
       "<thead><tr><th>bytes27</th><th>bytes18</th><th>float64</th><th>float64</th><th>int64</th><th>float32</th><th>float32</th><th>float32</th><th>float32</th><th>float32</th><th>float32</th><th>float32</th><th>float32</th><th>bool</th><th>float32</th><th>float32</th><th>float32</th><th>float32</th><th>float32</th><th>float32</th><th>float32</th><th>float32</th><th>bool</th><th>float32</th><th>float32</th><th>float32</th><th>float32</th><th>float32</th><th>float32</th><th>float32</th><th>float32</th><th>bool</th><th>float32</th><th>float32</th><th>float32</th><th>float32</th><th>float32</th><th>float32</th><th>float32</th><th>float32</th><th>bool</th><th>float32</th><th>bytes20</th><th>bool</th><th>bool</th><th>int64</th><th>int64</th><th>int64</th><th>float64</th><th>bool</th><th>int64</th><th>float64</th></tr></thead>\n",
       "<tr><td>HELP_J131121.995+424522.399</td><td>SA13</td><td>197.84164599846224</td><td>42.756222034193286</td><td>177664297</td><td>144111.52</td><td>58.59864</td><td>11.003253</td><td>0.00044148217</td><td>150632.2</td><td>61.68362</td><td>10.955205</td><td>0.00044460705</td><td>False</td><td>nan</td><td>nan</td><td>nan</td><td>nan</td><td>nan</td><td>nan</td><td>nan</td><td>nan</td><td>False</td><td>nan</td><td>nan</td><td>nan</td><td>nan</td><td>nan</td><td>nan</td><td>nan</td><td>nan</td><td>False</td><td>nan</td><td>nan</td><td>nan</td><td>nan</td><td>nan</td><td>nan</td><td>nan</td><td>nan</td><td>False</td><td>0.993865</td><td>uhs_stellarity</td><td>False</td><td>False</td><td>3</td><td>3</td><td>0</td><td>0.013655482982992686</td><td>False</td><td>-99</td><td>nan</td></tr>\n",
       "<tr><td>HELP_J131307.206+424518.251</td><td>SA13</td><td>198.28002524743118</td><td>42.75506985987987</td><td>177657832</td><td>97828.37</td><td>47.90543</td><td>11.423838</td><td>0.00053167256</td><td>152763.33</td><td>62.990307</td><td>10.939952</td><td>0.00044769162</td><td>False</td><td>nan</td><td>nan</td><td>nan</td><td>nan</td><td>nan</td><td>nan</td><td>nan</td><td>nan</td><td>False</td><td>nan</td><td>nan</td><td>nan</td><td>nan</td><td>nan</td><td>nan</td><td>nan</td><td>nan</td><td>False</td><td>nan</td><td>nan</td><td>nan</td><td>nan</td><td>nan</td><td>nan</td><td>nan</td><td>nan</td><td>False</td><td>0.993865</td><td>uhs_stellarity</td><td>False</td><td>True</td><td>3</td><td>3</td><td>0</td><td>0.01412575478387897</td><td>False</td><td>-99</td><td>nan</td></tr>\n",
       "<tr><td>HELP_J131114.263+424035.497</td><td>SA13</td><td>197.8094311441256</td><td>42.67652707552658</td><td>177664056</td><td>64132.72</td><td>39.507076</td><td>11.8823</td><td>0.0006688358</td><td>66505.74</td><td>43.629665</td><td>11.842852</td><td>0.00071227393</td><td>False</td><td>nan</td><td>nan</td><td>nan</td><td>nan</td><td>nan</td><td>nan</td><td>nan</td><td>nan</td><td>False</td><td>nan</td><td>nan</td><td>nan</td><td>nan</td><td>nan</td><td>nan</td><td>nan</td><td>nan</td><td>False</td><td>nan</td><td>nan</td><td>nan</td><td>nan</td><td>nan</td><td>nan</td><td>nan</td><td>nan</td><td>False</td><td>0.993865</td><td>uhs_stellarity</td><td>False</td><td>False</td><td>3</td><td>3</td><td>0</td><td>0.011371735075222083</td><td>False</td><td>-99</td><td>nan</td></tr>\n",
       "<tr><td>HELP_J131307.107+424518.580</td><td>SA13</td><td>198.27961456796834</td><td>42.755161131219594</td><td>177657832</td><td>59039.96</td><td>37.437283</td><td>11.972135</td><td>0.0006884661</td><td>7800.437</td><td>19.750908</td><td>14.169703</td><td>0.002749112</td><td>False</td><td>nan</td><td>nan</td><td>nan</td><td>nan</td><td>nan</td><td>nan</td><td>nan</td><td>nan</td><td>False</td><td>nan</td><td>nan</td><td>nan</td><td>nan</td><td>nan</td><td>nan</td><td>nan</td><td>nan</td><td>False</td><td>nan</td><td>nan</td><td>nan</td><td>nan</td><td>nan</td><td>nan</td><td>nan</td><td>nan</td><td>False</td><td>0.993865</td><td>uhs_stellarity</td><td>False</td><td>False</td><td>2</td><td>3</td><td>0</td><td>0.014115334037043558</td><td>False</td><td>-99</td><td>nan</td></tr>\n",
       "<tr><td>HELP_J131313.807+423642.042</td><td>SA13</td><td>198.30752900773496</td><td>42.61167836609856</td><td>177657450</td><td>21905.102</td><td>24.154495</td><td>13.048636</td><td>0.0011972283</td><td>21810.984</td><td>26.541466</td><td>13.053311</td><td>0.0013212163</td><td>False</td><td>nan</td><td>nan</td><td>nan</td><td>nan</td><td>nan</td><td>nan</td><td>nan</td><td>nan</td><td>False</td><td>nan</td><td>nan</td><td>nan</td><td>nan</td><td>nan</td><td>nan</td><td>nan</td><td>nan</td><td>False</td><td>nan</td><td>nan</td><td>nan</td><td>nan</td><td>nan</td><td>nan</td><td>nan</td><td>nan</td><td>False</td><td>0.993865</td><td>uhs_stellarity</td><td>False</td><td>False</td><td>3</td><td>2</td><td>0</td><td>0.016648593295649945</td><td>False</td><td>-99</td><td>nan</td></tr>\n",
       "<tr><td>HELP_J131120.438+422851.789</td><td>SA13</td><td>197.83515934185704</td><td>42.48105242945121</td><td>177655539</td><td>18317.049</td><td>21.689056</td><td>13.242861</td><td>0.0012856107</td><td>18160.611</td><td>23.797468</td><td>13.252173</td><td>0.0014227369</td><td>False</td><td>nan</td><td>nan</td><td>nan</td><td>nan</td><td>nan</td><td>nan</td><td>nan</td><td>nan</td><td>False</td><td>nan</td><td>nan</td><td>nan</td><td>nan</td><td>nan</td><td>nan</td><td>nan</td><td>nan</td><td>False</td><td>nan</td><td>nan</td><td>nan</td><td>nan</td><td>nan</td><td>nan</td><td>nan</td><td>nan</td><td>False</td><td>0.993865</td><td>uhs_stellarity</td><td>False</td><td>False</td><td>3</td><td>2</td><td>0</td><td>0.011363482728265421</td><td>False</td><td>-99</td><td>nan</td></tr>\n",
       "<tr><td>HELP_J131323.939+423512.303</td><td>SA13</td><td>198.3497467020306</td><td>42.58675071474231</td><td>177657419</td><td>19032.072</td><td>22.59612</td><td>13.201284</td><td>0.0012890571</td><td>18915.031</td><td>24.82229</td><td>13.207982</td><td>0.001424817</td><td>False</td><td>nan</td><td>nan</td><td>nan</td><td>nan</td><td>nan</td><td>nan</td><td>nan</td><td>nan</td><td>False</td><td>nan</td><td>nan</td><td>nan</td><td>nan</td><td>nan</td><td>nan</td><td>nan</td><td>nan</td><td>False</td><td>nan</td><td>nan</td><td>nan</td><td>nan</td><td>nan</td><td>nan</td><td>nan</td><td>nan</td><td>False</td><td>0.993865</td><td>uhs_stellarity</td><td>False</td><td>False</td><td>3</td><td>2</td><td>0</td><td>0.017326665944102867</td><td>False</td><td>-99</td><td>nan</td></tr>\n",
       "<tr><td>HELP_J131121.432+423644.518</td><td>SA13</td><td>197.8393015472547</td><td>42.61236606478728</td><td>177661270</td><td>17042.34</td><td>21.204393</td><td>13.321177</td><td>0.0013508929</td><td>16865.504</td><td>23.331463</td><td>13.332501</td><td>0.0015019898</td><td>False</td><td>nan</td><td>nan</td><td>nan</td><td>nan</td><td>nan</td><td>nan</td><td>nan</td><td>nan</td><td>False</td><td>nan</td><td>nan</td><td>nan</td><td>nan</td><td>nan</td><td>nan</td><td>nan</td><td>nan</td><td>False</td><td>nan</td><td>nan</td><td>nan</td><td>nan</td><td>nan</td><td>nan</td><td>nan</td><td>nan</td><td>False</td><td>0.993865</td><td>uhs_stellarity</td><td>False</td><td>False</td><td>0</td><td>2</td><td>0</td><td>0.010404593385588697</td><td>False</td><td>-99</td><td>nan</td></tr>\n",
       "<tr><td>HELP_J131333.912+423720.922</td><td>SA13</td><td>198.391301004119</td><td>42.6224783669072</td><td>177657601</td><td>11874.589</td><td>18.19495</td><td>13.713453</td><td>0.0016636294</td><td>12191.086</td><td>19.970264</td><td>13.684894</td><td>0.0017785486</td><td>False</td><td>nan</td><td>nan</td><td>nan</td><td>nan</td><td>nan</td><td>nan</td><td>nan</td><td>nan</td><td>False</td><td>nan</td><td>nan</td><td>nan</td><td>nan</td><td>nan</td><td>nan</td><td>nan</td><td>nan</td><td>False</td><td>nan</td><td>nan</td><td>nan</td><td>nan</td><td>nan</td><td>nan</td><td>nan</td><td>nan</td><td>False</td><td>0.993865</td><td>uhs_stellarity</td><td>False</td><td>False</td><td>3</td><td>2</td><td>0</td><td>0.019288238098472753</td><td>False</td><td>-99</td><td>nan</td></tr>\n",
       "<tr><td>...</td><td>...</td><td>...</td><td>...</td><td>...</td><td>...</td><td>...</td><td>...</td><td>...</td><td>...</td><td>...</td><td>...</td><td>...</td><td>...</td><td>...</td><td>...</td><td>...</td><td>...</td><td>...</td><td>...</td><td>...</td><td>...</td><td>...</td><td>...</td><td>...</td><td>...</td><td>...</td><td>...</td><td>...</td><td>...</td><td>...</td><td>...</td><td>...</td><td>...</td><td>...</td><td>...</td><td>...</td><td>...</td><td>...</td><td>...</td><td>...</td><td>...</td><td>...</td><td>...</td><td>...</td><td>...</td><td>...</td><td>...</td><td>...</td><td>...</td><td>...</td><td>...</td></tr>\n",
       "<tr><td>HELP_J131151.374+424137.758</td><td>SA13</td><td>197.96405690870893</td><td>42.693821601428226</td><td>177658770</td><td>nan</td><td>nan</td><td>nan</td><td>nan</td><td>nan</td><td>nan</td><td>nan</td><td>nan</td><td>False</td><td>nan</td><td>nan</td><td>nan</td><td>nan</td><td>0.0</td><td>inf</td><td>nan</td><td>nan</td><td>False</td><td>0.58566487</td><td>0.47381267</td><td>24.480877</td><td>0.87837875</td><td>1.1193112</td><td>0.58646303</td><td>23.777626</td><td>0.5688714</td><td>False</td><td>9.835932</td><td>1.257163</td><td>21.417961</td><td>0.13877155</td><td>9.287282</td><td>0.73335904</td><td>21.480278</td><td>0.085733846</td><td>False</td><td>0.05</td><td>legacy_stellarity</td><td>False</td><td>False</td><td>0</td><td>3</td><td>1</td><td>0.011306216785929397</td><td>False</td><td>-99</td><td>nan</td></tr>\n",
       "<tr><td>HELP_J131149.907+423838.402</td><td>SA13</td><td>197.95794535315375</td><td>42.64400056358198</td><td>177658577</td><td>nan</td><td>nan</td><td>nan</td><td>nan</td><td>nan</td><td>nan</td><td>nan</td><td>nan</td><td>False</td><td>nan</td><td>nan</td><td>nan</td><td>nan</td><td>0.0</td><td>inf</td><td>nan</td><td>nan</td><td>False</td><td>0.5477407</td><td>0.47381207</td><td>24.553562</td><td>0.9391943</td><td>0.4986803</td><td>0.4574802</td><td>24.655449</td><td>0.9960346</td><td>False</td><td>2.5917425</td><td>1.2571588</td><td>22.86602</td><td>0.5266506</td><td>5.824246</td><td>0.51027024</td><td>21.9869</td><td>0.09512285</td><td>False</td><td>0.9</td><td>legacy_stellarity</td><td>False</td><td>False</td><td>0</td><td>3</td><td>1</td><td>0.011050201429123049</td><td>False</td><td>-99</td><td>nan</td></tr>\n",
       "<tr><td>HELP_J131149.616+422831.161</td><td>SA13</td><td>197.95673329266884</td><td>42.475322417357674</td><td>177655581</td><td>nan</td><td>nan</td><td>nan</td><td>nan</td><td>nan</td><td>nan</td><td>nan</td><td>nan</td><td>False</td><td>nan</td><td>nan</td><td>nan</td><td>nan</td><td>0.0</td><td>inf</td><td>nan</td><td>nan</td><td>False</td><td>0.5226824</td><td>0.45597032</td><td>24.604404</td><td>0.94715923</td><td>0.36151338</td><td>0.42737067</td><td>25.004692</td><td>1.283526</td><td>False</td><td>3.708055</td><td>1.176359</td><td>22.477135</td><td>0.3444436</td><td>4.4652324</td><td>0.51671946</td><td>22.27539</td><td>0.12564206</td><td>False</td><td>0.9</td><td>legacy_stellarity</td><td>False</td><td>False</td><td>0</td><td>3</td><td>1</td><td>0.012955505153066892</td><td>False</td><td>-99</td><td>nan</td></tr>\n",
       "<tr><td>HELP_J131150.425+423321.090</td><td>SA13</td><td>197.96010257095958</td><td>42.55585828284674</td><td>177658406</td><td>nan</td><td>nan</td><td>nan</td><td>nan</td><td>nan</td><td>nan</td><td>nan</td><td>nan</td><td>False</td><td>nan</td><td>nan</td><td>nan</td><td>nan</td><td>0.0</td><td>inf</td><td>nan</td><td>nan</td><td>False</td><td>0.3328264</td><td>0.4672361</td><td>25.094456</td><td>1.5242034</td><td>1.038265</td><td>0.44791946</td><td>23.85923</td><td>0.46839908</td><td>False</td><td>2.6700294</td><td>1.1419096</td><td>22.83371</td><td>0.4643441</td><td>4.3298483</td><td>0.5048753</td><td>22.308823</td><td>0.1266006</td><td>False</td><td>0.9</td><td>legacy_stellarity</td><td>False</td><td>False</td><td>0</td><td>3</td><td>1</td><td>0.012478991904101117</td><td>False</td><td>-99</td><td>nan</td></tr>\n",
       "<tr><td>HELP_J131140.656+424158.214</td><td>SA13</td><td>197.9193984749047</td><td>42.69950375920881</td><td>177658787</td><td>nan</td><td>nan</td><td>nan</td><td>nan</td><td>nan</td><td>nan</td><td>nan</td><td>nan</td><td>False</td><td>nan</td><td>nan</td><td>nan</td><td>nan</td><td>0.0</td><td>inf</td><td>nan</td><td>nan</td><td>False</td><td>0.32231233</td><td>0.47381374</td><td>25.129307</td><td>1.5960814</td><td>1.0285596</td><td>0.5950228</td><td>23.869423</td><td>0.6280995</td><td>False</td><td>4.3003554</td><td>1.2571646</td><td>22.316238</td><td>0.3174038</td><td>4.770764</td><td>0.82568216</td><td>22.20353</td><td>0.18790972</td><td>False</td><td>0.05</td><td>legacy_stellarity</td><td>False</td><td>False</td><td>0</td><td>3</td><td>1</td><td>0.01155068076660301</td><td>False</td><td>-99</td><td>nan</td></tr>\n",
       "<tr><td>HELP_J131150.344+423713.873</td><td>SA13</td><td>197.95976496401084</td><td>42.62052028528615</td><td>177658478</td><td>nan</td><td>nan</td><td>nan</td><td>nan</td><td>nan</td><td>nan</td><td>nan</td><td>nan</td><td>False</td><td>nan</td><td>nan</td><td>nan</td><td>nan</td><td>0.0</td><td>inf</td><td>nan</td><td>nan</td><td>False</td><td>0.25839147</td><td>0.46723342</td><td>25.369305</td><td>1.96327</td><td>1.07827</td><td>0.4482736</td><td>23.818184</td><td>0.4513775</td><td>False</td><td>1.9839627</td><td>1.1419156</td><td>23.156166</td><td>0.6249206</td><td>2.80834</td><td>0.5124423</td><td>22.778877</td><td>0.19811602</td><td>False</td><td>0.9</td><td>legacy_stellarity</td><td>False</td><td>False</td><td>0</td><td>3</td><td>1</td><td>0.011240098194555733</td><td>False</td><td>-99</td><td>nan</td></tr>\n",
       "<tr><td>HELP_J131144.720+424101.162</td><td>SA13</td><td>197.93633383122986</td><td>42.68365606184206</td><td>177658762</td><td>nan</td><td>nan</td><td>nan</td><td>nan</td><td>nan</td><td>nan</td><td>nan</td><td>nan</td><td>False</td><td>nan</td><td>nan</td><td>nan</td><td>nan</td><td>0.0</td><td>inf</td><td>nan</td><td>nan</td><td>False</td><td>0.22225027</td><td>0.47381267</td><td>25.532894</td><td>2.314668</td><td>1.0508927</td><td>0.5919046</td><td>23.846107</td><td>0.61152977</td><td>False</td><td>5.546287</td><td>1.2571647</td><td>22.039993</td><td>0.24610145</td><td>5.390462</td><td>0.7692588</td><td>22.070938</td><td>0.15494259</td><td>False</td><td>0.05</td><td>legacy_stellarity</td><td>False</td><td>False</td><td>0</td><td>3</td><td>1</td><td>0.011299619499574714</td><td>False</td><td>-99</td><td>nan</td></tr>\n",
       "<tr><td>HELP_J131142.846+424330.201</td><td>SA13</td><td>197.9285259990954</td><td>42.725055706721776</td><td>177658803</td><td>nan</td><td>nan</td><td>nan</td><td>nan</td><td>nan</td><td>nan</td><td>nan</td><td>nan</td><td>False</td><td>nan</td><td>nan</td><td>nan</td><td>nan</td><td>0.0</td><td>inf</td><td>nan</td><td>nan</td><td>False</td><td>0.17927355</td><td>0.47381213</td><td>25.766209</td><td>2.8695533</td><td>1.222025</td><td>0.46566722</td><td>23.682304</td><td>0.4137327</td><td>False</td><td>4.008488</td><td>1.2571629</td><td>22.392548</td><td>0.34051424</td><td>3.990604</td><td>0.57808876</td><td>22.397408</td><td>0.15728241</td><td>False</td><td>0.9</td><td>legacy_stellarity</td><td>False</td><td>False</td><td>0</td><td>3</td><td>1</td><td>0.011874996359390176</td><td>False</td><td>-99</td><td>nan</td></tr>\n",
       "<tr><td>HELP_J131143.169+424208.255</td><td>SA13</td><td>197.92987287604203</td><td>42.702292918582756</td><td>177658788</td><td>nan</td><td>nan</td><td>nan</td><td>nan</td><td>nan</td><td>nan</td><td>nan</td><td>nan</td><td>False</td><td>nan</td><td>nan</td><td>nan</td><td>nan</td><td>0.0</td><td>inf</td><td>nan</td><td>nan</td><td>False</td><td>0.050975133</td><td>0.47381297</td><td>27.131603</td><td>10.091899</td><td>0.85590214</td><td>0.46961784</td><td>24.06894</td><td>0.59572357</td><td>False</td><td>5.477196</td><td>1.2571592</td><td>22.053604</td><td>0.24920474</td><td>3.9077337</td><td>0.58770424</td><td>22.420189</td><td>0.16328946</td><td>False</td><td>0.9</td><td>legacy_stellarity</td><td>False</td><td>False</td><td>0</td><td>3</td><td>1</td><td>0.01154755724668223</td><td>False</td><td>-99</td><td>nan</td></tr>\n",
       "<tr><td>HELP_J131150.203+423924.616</td><td>SA13</td><td>197.95918055730488</td><td>42.65683764129726</td><td>177658581</td><td>nan</td><td>nan</td><td>nan</td><td>nan</td><td>nan</td><td>nan</td><td>nan</td><td>nan</td><td>False</td><td>nan</td><td>nan</td><td>nan</td><td>nan</td><td>0.0</td><td>inf</td><td>nan</td><td>nan</td><td>False</td><td>0.04589789</td><td>0.47381195</td><td>27.245518</td><td>11.208244</td><td>0.27480528</td><td>0.588094</td><td>25.302437</td><td>2.3235176</td><td>False</td><td>9.792624</td><td>1.2571661</td><td>21.422752</td><td>0.1393856</td><td>10.101339</td><td>0.7248938</td><td>21.389053</td><td>0.07791476</td><td>False</td><td>0.05</td><td>legacy_stellarity</td><td>False</td><td>False</td><td>0</td><td>3</td><td>1</td><td>0.011033962636461855</td><td>False</td><td>-99</td><td>nan</td></tr>\n",
       "</table>"
      ],
      "text/plain": [
       "<Table length=9799>\n",
       "          help_id            field          ra         ... zspec_qual  zspec \n",
       "                                           deg         ...                   \n",
       "          bytes27           bytes18      float64       ...   int64    float64\n",
       "--------------------------- ------- ------------------ ... ---------- -------\n",
       "HELP_J131121.995+424522.399    SA13 197.84164599846224 ...        -99     nan\n",
       "HELP_J131307.206+424518.251    SA13 198.28002524743118 ...        -99     nan\n",
       "HELP_J131114.263+424035.497    SA13  197.8094311441256 ...        -99     nan\n",
       "HELP_J131307.107+424518.580    SA13 198.27961456796834 ...        -99     nan\n",
       "HELP_J131313.807+423642.042    SA13 198.30752900773496 ...        -99     nan\n",
       "HELP_J131120.438+422851.789    SA13 197.83515934185704 ...        -99     nan\n",
       "HELP_J131323.939+423512.303    SA13  198.3497467020306 ...        -99     nan\n",
       "HELP_J131121.432+423644.518    SA13  197.8393015472547 ...        -99     nan\n",
       "HELP_J131333.912+423720.922    SA13   198.391301004119 ...        -99     nan\n",
       "                        ...     ...                ... ...        ...     ...\n",
       "HELP_J131151.374+424137.758    SA13 197.96405690870893 ...        -99     nan\n",
       "HELP_J131149.907+423838.402    SA13 197.95794535315375 ...        -99     nan\n",
       "HELP_J131149.616+422831.161    SA13 197.95673329266884 ...        -99     nan\n",
       "HELP_J131150.425+423321.090    SA13 197.96010257095958 ...        -99     nan\n",
       "HELP_J131140.656+424158.214    SA13  197.9193984749047 ...        -99     nan\n",
       "HELP_J131150.344+423713.873    SA13 197.95976496401084 ...        -99     nan\n",
       "HELP_J131144.720+424101.162    SA13 197.93633383122986 ...        -99     nan\n",
       "HELP_J131142.846+424330.201    SA13  197.9285259990954 ...        -99     nan\n",
       "HELP_J131143.169+424208.255    SA13 197.92987287604203 ...        -99     nan\n",
       "HELP_J131150.203+423924.616    SA13 197.95918055730488 ...        -99     nan"
      ]
     },
     "execution_count": 8,
     "metadata": {},
     "output_type": "execute_result"
    }
   ],
   "source": [
    "ml"
   ]
  },
  {
   "cell_type": "code",
   "execution_count": 9,
   "metadata": {},
   "outputs": [
    {
     "name": "stderr",
     "output_type": "stream",
     "text": [
      "/Users/rs548/anaconda/envs/herschelhelp_internal/lib/python3.6/site-packages/scipy/stats/stats.py:1713: FutureWarning: Using a non-tuple sequence for multidimensional indexing is deprecated; use `arr[tuple(seq)]` instead of `arr[seq]`. In the future this will be interpreted as an array index, `arr[np.array(seq)]`, which will result either in an error or a different result.\n",
      "  return np.add.reduce(sorted[indexer] * weights, axis=axis) / sumval\n"
     ]
    },
    {
     "data": {
      "image/png": "[encoded data removed]",
      "text/plain": [
       "<matplotlib.figure.Figure at 0x819d4db70>"
      ]
     },
     "metadata": {},
     "output_type": "display_data"
    }
   ],
   "source": [
    "nb_merge_dist_plot(\n",
    "    SkyCoord(ml['ra'], ml['dec']),\n",
    "    SkyCoord(desi_photoz['ra'], desi_photoz['dec'])\n",
    ")"
   ]
  },
  {
   "cell_type": "code",
   "execution_count": 10,
   "metadata": {},
   "outputs": [],
   "source": [
    "# Given the graph above, we use 0.8 arc-second radius\n",
    "desi_photoz['ra'].name = 'desi_ra'\n",
    "desi_photoz['dec'].name = 'desi_dec'\n",
    "photoz = merge_catalogues(ml, desi_photoz, \"desi_ra\", \"desi_dec\", radius=0.8*u.arcsec)"
   ]
  },
  {
   "cell_type": "code",
   "execution_count": 13,
   "metadata": {},
   "outputs": [],
   "source": [
    "photoz['help_id'].fill_value = ''\n",
    "photoz['photo_z'].fill_value = np.nan\n",
    "photoz = photoz.filled()\n",
    "has_help = photoz['help_id'] != ''\n",
    "has_z = ~np.isnan(photoz['photo_z'])\n",
    "photoz = photoz['help_id', 'id', 'photo_z', 'photo_zerr']\n",
    "photoz[has_help & has_z].write('./data/SA13_DESI-DR7_Zou_et_al_2019_photo_z_withhelp_id.fits', overwrite=True)"
   ]
  },
  {
   "cell_type": "code",
   "execution_count": 14,
   "metadata": {},
   "outputs": [
    {
     "data": {
      "text/html": [
       "<i>Table length=2891</i>\n",
       "<table id=\"table4452138512\" class=\"table-striped table-bordered table-condensed\">\n",
       "<thead><tr><th>help_id</th><th>id</th><th>photo_z</th><th>photo_zerr</th></tr></thead>\n",
       "<thead><tr><th>bytes27</th><th>str16</th><th>float64</th><th>float64</th></tr></thead>\n",
       "<tr><td>HELP_J131305.238+423525.784</td><td>6000554456002869</td><td>0.73410904</td><td>0.042880192</td></tr>\n",
       "<tr><td>HELP_J131212.836+422748.695</td><td>6000554455001280</td><td>0.12239093</td><td>0.041696854</td></tr>\n",
       "<tr><td>HELP_J131231.867+425850.944</td><td>6000556575001377</td><td>0.89414376</td><td>0.10019907</td></tr>\n",
       "<tr><td>HELP_J131150.019+423817.385</td><td>6000555516000167</td><td>0.41027397</td><td>0.083354525</td></tr>\n",
       "<tr><td>HELP_J131220.528+425817.884</td><td>6000556575001236</td><td>0.2124581</td><td>0.088154316</td></tr>\n",
       "<tr><td>HELP_J131142.989+424528.110</td><td>6000555516001659</td><td>0.5794851</td><td>0.038273126</td></tr>\n",
       "<tr><td>HELP_J131230.871+425539.321</td><td>6000556575000687</td><td>0.9508035</td><td>0.106143564</td></tr>\n",
       "<tr><td>HELP_J131102.039+425500.816</td><td>6000556574000533</td><td>0.72463334</td><td>0.19623348</td></tr>\n",
       "<tr><td>HELP_J131203.107+423322.130</td><td>6000554455002543</td><td>0.23875405</td><td>0.06912001</td></tr>\n",
       "<tr><td>HELP_J131254.526+425307.076</td><td>6000556575000137</td><td>0.7741878</td><td>0.055744305</td></tr>\n",
       "<tr><td>...</td><td>...</td><td>...</td><td>...</td></tr>\n",
       "<tr><td>HELP_J131109.207+425039.611</td><td>6000555516002895</td><td>0.25179115</td><td>0.068657614</td></tr>\n",
       "<tr><td>HELP_J131223.638+423711.307</td><td>6000554455003369</td><td>0.33147466</td><td>0.060065888</td></tr>\n",
       "<tr><td>HELP_J131110.670+424304.167</td><td>6000555516001133</td><td>0.8172776</td><td>0.103473894</td></tr>\n",
       "<tr><td>HELP_J131146.825+423638.173</td><td>6000554455003295</td><td>0.6241323</td><td>0.19493419</td></tr>\n",
       "<tr><td>HELP_J131143.363+422813.622</td><td>6000554454001275</td><td>0.2806986</td><td>0.072945744</td></tr>\n",
       "<tr><td>HELP_J131316.642+423143.196</td><td>6000554456002076</td><td>0.4044401</td><td>0.0876182</td></tr>\n",
       "<tr><td>HELP_J131050.225+424251.572</td><td>6000555516001079</td><td>0.40204298</td><td>0.14428933</td></tr>\n",
       "<tr><td>HELP_J131125.708+424642.979</td><td>6000555516001949</td><td>1.0083193</td><td>0.11468372</td></tr>\n",
       "<tr><td>HELP_J131235.734+424913.881</td><td>6000555517002705</td><td>0.5148277</td><td>0.093364306</td></tr>\n",
       "<tr><td>HELP_J131217.535+425902.701</td><td>6000556575001439</td><td>0.8374932</td><td>0.19672792</td></tr>\n",
       "</table>"
      ],
      "text/plain": [
       "<Table length=2891>\n",
       "          help_id                  id         photo_z    photo_zerr\n",
       "          bytes27                str16        float64     float64  \n",
       "--------------------------- ---------------- ---------- -----------\n",
       "HELP_J131305.238+423525.784 6000554456002869 0.73410904 0.042880192\n",
       "HELP_J131212.836+422748.695 6000554455001280 0.12239093 0.041696854\n",
       "HELP_J131231.867+425850.944 6000556575001377 0.89414376  0.10019907\n",
       "HELP_J131150.019+423817.385 6000555516000167 0.41027397 0.083354525\n",
       "HELP_J131220.528+425817.884 6000556575001236  0.2124581 0.088154316\n",
       "HELP_J131142.989+424528.110 6000555516001659  0.5794851 0.038273126\n",
       "HELP_J131230.871+425539.321 6000556575000687  0.9508035 0.106143564\n",
       "HELP_J131102.039+425500.816 6000556574000533 0.72463334  0.19623348\n",
       "HELP_J131203.107+423322.130 6000554455002543 0.23875405  0.06912001\n",
       "HELP_J131254.526+425307.076 6000556575000137  0.7741878 0.055744305\n",
       "                        ...              ...        ...         ...\n",
       "HELP_J131109.207+425039.611 6000555516002895 0.25179115 0.068657614\n",
       "HELP_J131223.638+423711.307 6000554455003369 0.33147466 0.060065888\n",
       "HELP_J131110.670+424304.167 6000555516001133  0.8172776 0.103473894\n",
       "HELP_J131146.825+423638.173 6000554455003295  0.6241323  0.19493419\n",
       "HELP_J131143.363+422813.622 6000554454001275  0.2806986 0.072945744\n",
       "HELP_J131316.642+423143.196 6000554456002076  0.4044401   0.0876182\n",
       "HELP_J131050.225+424251.572 6000555516001079 0.40204298  0.14428933\n",
       "HELP_J131125.708+424642.979 6000555516001949  1.0083193  0.11468372\n",
       "HELP_J131235.734+424913.881 6000555517002705  0.5148277 0.093364306\n",
       "HELP_J131217.535+425902.701 6000556575001439  0.8374932  0.19672792"
      ]
     },
     "execution_count": 14,
     "metadata": {},
     "output_type": "execute_result"
    }
   ],
   "source": [
    "photoz[has_help & has_z]"
   ]
  },
  {
   "cell_type": "code",
   "execution_count": null,
   "metadata": {},
   "outputs": [],
   "source": []
  }
 ],
 "metadata": {
  "anaconda-cloud": {},
  "kernelspec": {
   "display_name": "Python (herschelhelp_internal)",
   "language": "python",
   "name": "helpint"
  },
  "language_info": {
   "codemirror_mode": {
    "name": "ipython",
    "version": 3
   },
   "file_extension": ".py",
   "mimetype": "text/x-python",
   "name": "python",
   "nbconvert_exporter": "python",
   "pygments_lexer": "ipython3",
   "version": "3.6.8"
  }
 },
 "nbformat": 4,
 "nbformat_minor": 2
}
