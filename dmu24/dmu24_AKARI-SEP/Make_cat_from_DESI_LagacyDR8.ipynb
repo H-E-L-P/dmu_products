{
 "cells": [
  {
   "cell_type": "markdown",
   "metadata": {},
   "source": [
    "# Use DESI Legacy Survey photo z\n",
    "\n"
   ]
  },
  {
   "cell_type": "code",
   "execution_count": 2,
   "metadata": {},
   "outputs": [
    {
     "name": "stderr",
     "output_type": "stream",
     "text": [
      "/Users/rs548/anaconda/envs/herschelhelp_internal/lib/python3.6/site-packages/seaborn/apionly.py:9: UserWarning: As seaborn no longer sets a default style on import, the seaborn.apionly module is deprecated. It will be removed in a future version.\n",
      "  warnings.warn(msg, UserWarning)\n"
     ]
    }
   ],
   "source": [
    "import pandas as pd\n",
    "from astropy.table import Table, Column, vstack\n",
    "from astropy.cosmology import Planck15\n",
    "import astropy.units as u\n",
    "from astropy.coordinates import SkyCoord\n",
    "from astropy.io import ascii\n",
    "\n",
    "import urllib.request, json \n",
    "\n",
    "import time\n",
    "import numpy as np\n",
    "import pyvo as vo\n",
    "%matplotlib inline\n",
    "#%config InlineBackend.figure_format = 'svg'\n",
    "import matplotlib as mpl\n",
    "import matplotlib.pyplot as plt\n",
    "\n",
    "from selenium import webdriver\n",
    "\n",
    "from herschelhelp_internal.masterlist import merge_catalogues, nb_merge_dist_plot\n",
    "from herschelhelp.utils import clean_table"
   ]
  },
  {
   "cell_type": "markdown",
   "metadata": {},
   "source": [
    "## 2. Cross match to desi-photoz objects"
   ]
  },
  {
   "cell_type": "code",
   "execution_count": null,
   "metadata": {},
   "outputs": [],
   "source": [
    "field = 'AKARI-SEP'"
   ]
  },
  {
   "cell_type": "raw",
   "metadata": {},
   "source": [
    "cross_query = \"\"\"\n",
    "SELECT\n",
    "    db.ID,\n",
    "    db.RA,\n",
    "    db.DEC,\n",
    "    db.field,\n",
    "    db.photo_z,\n",
    "    db.photo_zerr\n",
    "FROM desi_photoz.main AS db\n",
    "WHERE db.field = '{}'\n",
    "\"\"\".format(field)\n",
    "\n",
    "# construct a service; I’ve taken the URL from TOPCAT’s\n",
    "# TAP service browser # (\"Selected TAP Service\" near the\n",
    "# foot of the dialog)\n",
    "service = vo.dal.TAPService(\n",
    "    \"https://herschel-vos.phys.sussex.ac.uk/__system__/tap/run/tap\"\n",
    ")"
   ]
  },
  {
   "cell_type": "raw",
   "metadata": {},
   "source": [
    "job = service.submit_job(cross_query)\n",
    "job.run()\n",
    "job_url = job.url\n",
    "job_result = vo.dal.tap.AsyncTAPJob(job_url)\n",
    "start_time = time.time()\n",
    "wait = 5.\n",
    "while job.phase == 'EXECUTING':\n",
    "    \n",
    "    time.sleep(wait) #wait and try again\n",
    "    #wait *= 2\n",
    "\n",
    "print('Job {} running after {} seconds.'.format(job.phase, round(time.time() - start_time)))\n",
    "\n",
    "result = job_result.fetch_result()\n",
    "desi_photoz = result.table"
   ]
  },
  {
   "cell_type": "raw",
   "metadata": {},
   "source": [
    "desi_photoz = clean_table(desi_photoz)"
   ]
  },
  {
   "cell_type": "code",
   "execution_count": null,
   "metadata": {},
   "outputs": [],
   "source": [
    "#Open small file containing only id ra dec field photo_z photo_zerr\n",
    "desi_photoz = Table.read('../../dmu0/dmu0_DESI/data/dr8_red.fits')\n",
    "desi_photoz = desi_photoz[desi_photoz['field'] == field]"
   ]
  },
  {
   "cell_type": "code",
   "execution_count": 5,
   "metadata": {},
   "outputs": [],
   "source": [
    "desi_photoz.write('./data/{}_DESI-DR8_Zou_et_al_2019_photo_z.fits'.format(field), overwrite=True)"
   ]
  },
  {
   "cell_type": "code",
   "execution_count": 6,
   "metadata": {},
   "outputs": [
    {
     "data": {
      "text/html": [
       "<i>Table length=17</i>\n",
       "<table id=\"table4513740728\" class=\"table-striped table-bordered table-condensed\">\n",
       "<thead><tr><th>field</th></tr></thead>\n",
       "<thead><tr><th>str18</th></tr></thead>\n",
       "<tr><td>Bootes</td></tr>\n",
       "<tr><td>COSMOS</td></tr>\n",
       "<tr><td>EGS</td></tr>\n",
       "<tr><td>ELAIS-N1</td></tr>\n",
       "<tr><td>ELAIS-N2</td></tr>\n",
       "<tr><td>GAMA-09</td></tr>\n",
       "<tr><td>GAMA-12</td></tr>\n",
       "<tr><td>GAMA-15</td></tr>\n",
       "<tr><td>HATLAS-NGP</td></tr>\n",
       "<tr><td>HDF-N</td></tr>\n",
       "<tr><td>Herschel-Stripe-82</td></tr>\n",
       "<tr><td>Lockman-SWIRE</td></tr>\n",
       "<tr><td>not_help</td></tr>\n",
       "<tr><td>SA13</td></tr>\n",
       "<tr><td>xFLS</td></tr>\n",
       "<tr><td>XMM-13hr</td></tr>\n",
       "<tr><td>XMM-LSS</td></tr>\n",
       "</table>"
      ],
      "text/plain": [
       "<Table length=17>\n",
       "      field       \n",
       "      str18       \n",
       "------------------\n",
       "            Bootes\n",
       "            COSMOS\n",
       "               EGS\n",
       "          ELAIS-N1\n",
       "          ELAIS-N2\n",
       "           GAMA-09\n",
       "           GAMA-12\n",
       "           GAMA-15\n",
       "        HATLAS-NGP\n",
       "             HDF-N\n",
       "Herschel-Stripe-82\n",
       "     Lockman-SWIRE\n",
       "          not_help\n",
       "              SA13\n",
       "              xFLS\n",
       "          XMM-13hr\n",
       "           XMM-LSS"
      ]
     },
     "execution_count": 6,
     "metadata": {},
     "output_type": "execute_result"
    }
   ],
   "source": [
    "desi_photoz"
   ]
  },
  {
   "cell_type": "code",
   "execution_count": 7,
   "metadata": {},
   "outputs": [],
   "source": [
    "ml = Table.read('../../dmu1/dmu1_ml_AKARI-SEP/data/master_catalogue_akari-sep_20180221.fits')"
   ]
  },
  {
   "cell_type": "code",
   "execution_count": 8,
   "metadata": {},
   "outputs": [
    {
     "data": {
      "text/html": [
       "<i>Table length=1783240</i>\n",
       "<table id=\"table112328572600\" class=\"table-striped table-bordered table-condensed\">\n",
       "<thead><tr><th>help_id</th><th>ra</th><th>dec</th></tr></thead>\n",
       "<thead><tr><th></th><th>deg</th><th>deg</th></tr></thead>\n",
       "<thead><tr><th>bytes27</th><th>float64</th><th>float64</th></tr></thead>\n",
       "<tr><td>HELP_J164318.825+404445.546</td><td>250.828437443607</td><td>40.745984910265705</td></tr>\n",
       "<tr><td>HELP_J164244.476+405313.590</td><td>250.685316090607</td><td>40.887108455265704</td></tr>\n",
       "<tr><td>HELP_J164348.377+404930.460</td><td>250.951571928607</td><td>40.82512769126569</td></tr>\n",
       "<tr><td>HELP_J162907.731+413754.129</td><td>247.282214558607</td><td>41.63170241126569</td></tr>\n",
       "<tr><td>HELP_J162947.447+412132.739</td><td>247.447694342607</td><td>41.3590941922657</td></tr>\n",
       "<tr><td>HELP_J162922.794+414147.104</td><td>247.34497517760698</td><td>41.6964178102657</td></tr>\n",
       "<tr><td>HELP_J163057.320+415251.919</td><td>247.738832915607</td><td>41.88108874726569</td></tr>\n",
       "<tr><td>HELP_J163013.584+414743.101</td><td>247.556598389607</td><td>41.79530593626569</td></tr>\n",
       "<tr><td>HELP_J163017.256+412737.132</td><td>247.571898412607</td><td>41.4603143532657</td></tr>\n",
       "<tr><td>...</td><td>...</td><td>...</td></tr>\n",
       "<tr><td>HELP_J164127.507+420135.582</td><td>250.364610801516</td><td>42.026550535549</td></tr>\n",
       "<tr><td>HELP_J163804.973+421140.850</td><td>249.52072080151598</td><td>42.194680535549</td></tr>\n",
       "<tr><td>HELP_J164042.087+420842.794</td><td>250.17536080151598</td><td>42.145220535548994</td></tr>\n",
       "<tr><td>HELP_J163057.068+403734.934</td><td>247.73778180151598</td><td>40.626370535549</td></tr>\n",
       "<tr><td>HELP_J162922.628+410610.874</td><td>247.344281801516</td><td>41.103020535549</td></tr>\n",
       "<tr><td>HELP_J162925.736+410512.050</td><td>247.35723180151598</td><td>41.086680535549</td></tr>\n",
       "<tr><td>HELP_J163130.207+412330.914</td><td>247.87586080151598</td><td>41.391920535549</td></tr>\n",
       "<tr><td>HELP_J163424.775+414639.110</td><td>248.603230801516</td><td>41.777530535549</td></tr>\n",
       "<tr><td>HELP_J163109.615+403404.694</td><td>247.790061801516</td><td>40.567970535548994</td></tr>\n",
       "<tr><td>HELP_J164213.543+414729.582</td><td>250.556430801516</td><td>41.791550535549</td></tr>\n",
       "</table>"
      ],
      "text/plain": [
       "<Table length=1783240>\n",
       "          help_id                   ra                dec        \n",
       "                                   deg                deg        \n",
       "          bytes27                float64            float64      \n",
       "--------------------------- ------------------ ------------------\n",
       "HELP_J164318.825+404445.546   250.828437443607 40.745984910265705\n",
       "HELP_J164244.476+405313.590   250.685316090607 40.887108455265704\n",
       "HELP_J164348.377+404930.460   250.951571928607  40.82512769126569\n",
       "HELP_J162907.731+413754.129   247.282214558607  41.63170241126569\n",
       "HELP_J162947.447+412132.739   247.447694342607   41.3590941922657\n",
       "HELP_J162922.794+414147.104 247.34497517760698   41.6964178102657\n",
       "HELP_J163057.320+415251.919   247.738832915607  41.88108874726569\n",
       "HELP_J163013.584+414743.101   247.556598389607  41.79530593626569\n",
       "HELP_J163017.256+412737.132   247.571898412607   41.4603143532657\n",
       "                        ...                ...                ...\n",
       "HELP_J164127.507+420135.582   250.364610801516    42.026550535549\n",
       "HELP_J163804.973+421140.850 249.52072080151598    42.194680535549\n",
       "HELP_J164042.087+420842.794 250.17536080151598 42.145220535548994\n",
       "HELP_J163057.068+403734.934 247.73778180151598    40.626370535549\n",
       "HELP_J162922.628+410610.874   247.344281801516    41.103020535549\n",
       "HELP_J162925.736+410512.050 247.35723180151598    41.086680535549\n",
       "HELP_J163130.207+412330.914 247.87586080151598    41.391920535549\n",
       "HELP_J163424.775+414639.110   248.603230801516    41.777530535549\n",
       "HELP_J163109.615+403404.694   247.790061801516 40.567970535548994\n",
       "HELP_J164213.543+414729.582   250.556430801516    41.791550535549"
      ]
     },
     "execution_count": 8,
     "metadata": {},
     "output_type": "execute_result"
    }
   ],
   "source": [
    "ml"
   ]
  },
  {
   "cell_type": "code",
   "execution_count": 9,
   "metadata": {},
   "outputs": [
    {
     "name": "stderr",
     "output_type": "stream",
     "text": [
      "/Users/rs548/anaconda/envs/herschelhelp_internal/lib/python3.6/site-packages/scipy/stats/stats.py:1713: FutureWarning: Using a non-tuple sequence for multidimensional indexing is deprecated; use `arr[tuple(seq)]` instead of `arr[seq]`. In the future this will be interpreted as an array index, `arr[np.array(seq)]`, which will result either in an error or a different result.\n",
      "  return np.add.reduce(sorted[indexer] * weights, axis=axis) / sumval\n"
     ]
    },
    {
     "data": {
      "image/png": "[encoded data removed]",
      "text/plain": [
       "<matplotlib.figure.Figure at 0x81a6475f8>"
      ]
     },
     "metadata": {},
     "output_type": "display_data"
    }
   ],
   "source": [
    "nb_merge_dist_plot(\n",
    "    SkyCoord(ml['ra'], ml['dec']),\n",
    "    SkyCoord(desi_photoz['ra'], desi_photoz['dec'])\n",
    ")"
   ]
  },
  {
   "cell_type": "code",
   "execution_count": 10,
   "metadata": {},
   "outputs": [],
   "source": [
    "# Given the graph above, we use 0.8 arc-second radius\n",
    "desi_photoz['ra'].name = 'desi_ra'\n",
    "desi_photoz['dec'].name = 'desi_dec'\n",
    "photoz = merge_catalogues(ml, desi_photoz, \"desi_ra\", \"desi_dec\", radius=0.8*u.arcsec)"
   ]
  },
  {
   "cell_type": "code",
   "execution_count": 12,
   "metadata": {},
   "outputs": [],
   "source": [
    "photoz['help_id'].fill_value = ''\n",
    "photoz['photo_z'].fill_value = np.nan\n",
    "photoz = photoz.filled()\n",
    "has_help = photoz['help_id'] != ''\n",
    "has_z = ~np.isnan(photoz['photo_z'])\n",
    "photoz[has_help & has_z].write('./data/{}_DESI-DR8_Zou_et_al_2019_photo_z_withhelp_id.fits'.format(field), overwrite=True)"
   ]
  },
  {
   "cell_type": "code",
   "execution_count": 13,
   "metadata": {},
   "outputs": [
    {
     "data": {
      "text/html": [
       "<i>Table length=120961</i>\n",
       "<table id=\"table4504333448\" class=\"table-striped table-bordered table-condensed\">\n",
       "<thead><tr><th>help_id</th><th>ra</th><th>dec</th><th>flag_merged</th><th>id</th><th>field</th><th>photo_z</th><th>photo_zerr</th></tr></thead>\n",
       "<thead><tr><th></th><th>deg</th><th>deg</th><th></th><th></th><th></th><th></th><th></th></tr></thead>\n",
       "<thead><tr><th>bytes27</th><th>float64</th><th>float64</th><th>bool</th><th>str16</th><th>str8</th><th>float64</th><th>float64</th></tr></thead>\n",
       "<tr><td>HELP_J162707.526+411737.244</td><td>246.78135688293202</td><td>41.2936790060348</td><td>False</td><td>6000549224003487</td><td>ELAIS-N2</td><td>0.5422797</td><td>0.028621506</td></tr>\n",
       "<tr><td>HELP_J163233.863+395528.994</td><td>248.141095613607</td><td>39.924720597265704</td><td>False</td><td>6000543752000765</td><td>ELAIS-N2</td><td>0.5974862</td><td>0.06635941</td></tr>\n",
       "<tr><td>HELP_J163128.893+412942.785</td><td>247.870388042607</td><td>41.495218039265694</td><td>False</td><td>6000550310002097</td><td>ELAIS-N2</td><td>0.51558125</td><td>0.13757469</td></tr>\n",
       "<tr><td>HELP_J162858.621+405542.190</td><td>247.244254095607</td><td>40.9283860032657</td><td>False</td><td>6000548138000869</td><td>ELAIS-N2</td><td>0.2186442</td><td>0.06370761</td></tr>\n",
       "<tr><td>HELP_J163434.937+402548.481</td><td>248.645570451607</td><td>40.4301337082657</td><td>False</td><td>6000545956000755</td><td>ELAIS-N2</td><td>0.14262727</td><td>0.009865502</td></tr>\n",
       "<tr><td>HELP_J162642.817+411630.254</td><td>246.678405162932</td><td>41.2750706660348</td><td>False</td><td>6000549224003014</td><td>ELAIS-N2</td><td>0.21139045</td><td>0.019573843</td></tr>\n",
       "<tr><td>HELP_J162847.734+403023.029</td><td>247.198893088607</td><td>40.5063968062657</td><td>False</td><td>6000545951001934</td><td>ELAIS-N2</td><td>0.21584016</td><td>0.052848402</td></tr>\n",
       "<tr><td>HELP_J162743.711+403257.718</td><td>246.932131022932</td><td>40.5493660060348</td><td>False</td><td>6000545951002612</td><td>ELAIS-N2</td><td>0.19590607</td><td>0.019225592</td></tr>\n",
       "<tr><td>HELP_J163419.378+415038.626</td><td>248.580740760607</td><td>41.84406286726569</td><td>False</td><td>6000551392003780</td><td>ELAIS-N2</td><td>0.23379058</td><td>0.02469711</td></tr>\n",
       "<tr><td>...</td><td>...</td><td>...</td><td>...</td><td>...</td><td>...</td><td>...</td><td>...</td></tr>\n",
       "<tr><td>HELP_J164012.148+424859.279</td><td>250.05061731860698</td><td>42.81646634026569</td><td>False</td><td>6000555670003532</td><td>ELAIS-N2</td><td>0.20372915</td><td>0.07733338</td></tr>\n",
       "<tr><td>HELP_J163645.767+393355.327</td><td>249.190696118376</td><td>39.5653684946138</td><td>False</td><td>6000541537002847</td><td>ELAIS-N2</td><td>0.9775366</td><td>0.16285701</td></tr>\n",
       "<tr><td>HELP_J164246.823+422241.453</td><td>250.695097018376</td><td>42.3781813946138</td><td>False</td><td>6000554610000216</td><td>ELAIS-N2</td><td>0.8778632</td><td>0.097507894</td></tr>\n",
       "<tr><td>HELP_J164215.136+414026.393</td><td>250.563066264607</td><td>41.67399814326569</td><td>False</td><td>6000551398000900</td><td>ELAIS-N2</td><td>0.957171</td><td>0.11441935</td></tr>\n",
       "<tr><td>HELP_J162844.480+405521.378</td><td>247.185331319607</td><td>40.9226049602657</td><td>False</td><td>6000548138000781</td><td>ELAIS-N2</td><td>1.0708745</td><td>0.107518785</td></tr>\n",
       "<tr><td>HELP_J163715.718+414640.925</td><td>249.315492354607</td><td>41.778034697265696</td><td>False</td><td>6000551394002448</td><td>ELAIS-N2</td><td>0.65964115</td><td>0.1140362</td></tr>\n",
       "<tr><td>HELP_J163149.285+401011.835</td><td>247.955354518376</td><td>40.1699540946138</td><td>False</td><td>6000544855000707</td><td>ELAIS-N2</td><td>0.5200074</td><td>0.07698403</td></tr>\n",
       "<tr><td>HELP_J164106.055+421653.594</td><td>250.275227780607</td><td>42.2815537782657</td><td>False</td><td>6000553543002792</td><td>ELAIS-N2</td><td>0.8306763</td><td>0.07801085</td></tr>\n",
       "<tr><td>HELP_J164140.847+403438.259</td><td>250.420194001607</td><td>40.5772941352657</td><td>False</td><td>6000545961004122</td><td>ELAIS-N2</td><td>0.7589125</td><td>0.07402918</td></tr>\n",
       "<tr><td>HELP_J163730.691+422438.790</td><td>249.377880782607</td><td>42.410774864265704</td><td>False</td><td>6000554607000498</td><td>ELAIS-N2</td><td>0.5956203</td><td>0.07337316</td></tr>\n",
       "</table>"
      ],
      "text/plain": [
       "<Table length=120961>\n",
       "          help_id                   ra         ...  photo_z    photo_zerr\n",
       "                                   deg         ...                       \n",
       "          bytes27                float64       ...  float64     float64  \n",
       "--------------------------- ------------------ ... ---------- -----------\n",
       "HELP_J162707.526+411737.244 246.78135688293202 ...  0.5422797 0.028621506\n",
       "HELP_J163233.863+395528.994   248.141095613607 ...  0.5974862  0.06635941\n",
       "HELP_J163128.893+412942.785   247.870388042607 ... 0.51558125  0.13757469\n",
       "HELP_J162858.621+405542.190   247.244254095607 ...  0.2186442  0.06370761\n",
       "HELP_J163434.937+402548.481   248.645570451607 ... 0.14262727 0.009865502\n",
       "HELP_J162642.817+411630.254   246.678405162932 ... 0.21139045 0.019573843\n",
       "HELP_J162847.734+403023.029   247.198893088607 ... 0.21584016 0.052848402\n",
       "HELP_J162743.711+403257.718   246.932131022932 ... 0.19590607 0.019225592\n",
       "HELP_J163419.378+415038.626   248.580740760607 ... 0.23379058  0.02469711\n",
       "                        ...                ... ...        ...         ...\n",
       "HELP_J164012.148+424859.279 250.05061731860698 ... 0.20372915  0.07733338\n",
       "HELP_J163645.767+393355.327   249.190696118376 ...  0.9775366  0.16285701\n",
       "HELP_J164246.823+422241.453   250.695097018376 ...  0.8778632 0.097507894\n",
       "HELP_J164215.136+414026.393   250.563066264607 ...   0.957171  0.11441935\n",
       "HELP_J162844.480+405521.378   247.185331319607 ...  1.0708745 0.107518785\n",
       "HELP_J163715.718+414640.925   249.315492354607 ... 0.65964115   0.1140362\n",
       "HELP_J163149.285+401011.835   247.955354518376 ...  0.5200074  0.07698403\n",
       "HELP_J164106.055+421653.594   250.275227780607 ...  0.8306763  0.07801085\n",
       "HELP_J164140.847+403438.259   250.420194001607 ...  0.7589125  0.07402918\n",
       "HELP_J163730.691+422438.790   249.377880782607 ...  0.5956203  0.07337316"
      ]
     },
     "execution_count": 13,
     "metadata": {},
     "output_type": "execute_result"
    }
   ],
   "source": [
    "photoz[has_help & has_z]"
   ]
  }
 ],
 "metadata": {
  "anaconda-cloud": {},
  "kernelspec": {
   "display_name": "Python (herschelhelp_internal)",
   "language": "python",
   "name": "helpint"
  },
  "language_info": {
   "codemirror_mode": {
    "name": "ipython",
    "version": 3
   },
   "file_extension": ".py",
   "mimetype": "text/x-python",
   "name": "python",
   "nbconvert_exporter": "python",
   "pygments_lexer": "ipython3",
   "version": "3.6.7"
  }
 },
 "nbformat": 4,
 "nbformat_minor": 2
}
