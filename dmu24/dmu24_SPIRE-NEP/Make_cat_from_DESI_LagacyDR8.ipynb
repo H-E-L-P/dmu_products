{
 "cells": [
  {
   "cell_type": "markdown",
   "metadata": {},
   "source": [
    "# Use DESI Legacy Survey photo z\n",
    "\n"
   ]
  },
  {
   "cell_type": "code",
   "execution_count": 1,
   "metadata": {},
   "outputs": [
    {
     "name": "stderr",
     "output_type": "stream",
     "text": [
      "/opt/pyenv/versions/3.7.2/lib/python3.7/site-packages/matplotlib/__init__.py:855: MatplotlibDeprecationWarning: \n",
      "examples.directory is deprecated; in the future, examples will be found relative to the 'datapath' directory.\n",
      "  \"found relative to the 'datapath' directory.\".format(key))\n",
      "/opt/pyenv/versions/3.7.2/lib/python3.7/site-packages/matplotlib/__init__.py:846: MatplotlibDeprecationWarning: \n",
      "The text.latex.unicode rcparam was deprecated in Matplotlib 2.2 and will be removed in 3.1.\n",
      "  \"2.2\", name=key, obj_type=\"rcparam\", addendum=addendum)\n",
      "/opt/pyenv/versions/3.7.2/lib/python3.7/site-packages/seaborn/apionly.py:9: UserWarning: As seaborn no longer sets a default style on import, the seaborn.apionly module is deprecated. It will be removed in a future version.\n",
      "  warnings.warn(msg, UserWarning)\n"
     ]
    }
   ],
   "source": [
    "import pandas as pd\n",
    "from astropy.table import Table, Column, vstack\n",
    "from astropy.cosmology import Planck15\n",
    "import astropy.units as u\n",
    "from astropy.coordinates import SkyCoord\n",
    "from astropy.io import ascii\n",
    "\n",
    "import urllib.request, json \n",
    "\n",
    "import time\n",
    "import numpy as np\n",
    "import pyvo as vo\n",
    "%matplotlib inline\n",
    "#%config InlineBackend.figure_format = 'svg'\n",
    "import matplotlib as mpl\n",
    "import matplotlib.pyplot as plt\n",
    "\n",
    "#from selenium import webdriver\n",
    "\n",
    "from herschelhelp_internal.masterlist import merge_catalogues, nb_merge_dist_plot\n",
    "from herschelhelp.utils import clean_table"
   ]
  },
  {
   "cell_type": "markdown",
   "metadata": {},
   "source": [
    "## 2. Cross match to desi-photoz objects"
   ]
  },
  {
   "cell_type": "code",
   "execution_count": 2,
   "metadata": {},
   "outputs": [],
   "source": [
    "field = 'SPIRE-NEP'"
   ]
  },
  {
   "cell_type": "raw",
   "metadata": {},
   "source": [
    "cross_query = \"\"\"\n",
    "SELECT\n",
    "    db.ID,\n",
    "    db.RA,\n",
    "    db.DEC,\n",
    "    db.field,\n",
    "    db.photo_z,\n",
    "    db.photo_zerr\n",
    "FROM desi_photoz.main AS db\n",
    "WHERE db.field = '{}'\n",
    "\"\"\".format(field)\n",
    "\n",
    "# construct a service; I’ve taken the URL from TOPCAT’s\n",
    "# TAP service browser # (\"Selected TAP Service\" near the\n",
    "# foot of the dialog)\n",
    "service = vo.dal.TAPService(\n",
    "    \"https://herschel-vos.phys.sussex.ac.uk/__system__/tap/run/tap\"\n",
    ")"
   ]
  },
  {
   "cell_type": "raw",
   "metadata": {},
   "source": [
    "job = service.submit_job(cross_query)\n",
    "job.run()\n",
    "job_url = job.url\n",
    "job_result = vo.dal.tap.AsyncTAPJob(job_url)\n",
    "start_time = time.time()\n",
    "wait = 5.\n",
    "while job.phase == 'EXECUTING':\n",
    "    \n",
    "    time.sleep(wait) #wait and try again\n",
    "    #wait *= 2\n",
    "\n",
    "print('Job {} running after {} seconds.'.format(job.phase, round(time.time() - start_time)))\n",
    "\n",
    "result = job_result.fetch_result()\n",
    "desi_photoz = result.table"
   ]
  },
  {
   "cell_type": "raw",
   "metadata": {},
   "source": [
    "desi_photoz = clean_table(desi_photoz)"
   ]
  },
  {
   "cell_type": "code",
   "execution_count": 3,
   "metadata": {},
   "outputs": [],
   "source": [
    "#Open small file containing only id ra dec field photo_z photo_zerr\n",
    "desi_photoz = Table.read('../../dmu0/dmu0_DESI/data/dr8_red.fits')\n",
    "desi_photoz = desi_photoz[desi_photoz['field'] == field.ljust(18)]"
   ]
  },
  {
   "cell_type": "code",
   "execution_count": 4,
   "metadata": {},
   "outputs": [],
   "source": [
    "desi_photoz.write('./data/{}_DESI-DR8_Zou_et_al_2019_photo_z.fits'.format(field), overwrite=True)"
   ]
  },
  {
   "cell_type": "code",
   "execution_count": 5,
   "metadata": {},
   "outputs": [
    {
     "data": {
      "text/html": [
       "<i>Table masked=True length=2130</i>\n",
       "<table id=\"table140111435906856\" class=\"table-striped table-bordered table-condensed\">\n",
       "<thead><tr><th>ID</th><th>RA</th><th>DEC</th><th>field</th><th>photo_z</th><th>photo_zerr</th></tr></thead>\n",
       "<thead><tr><th>int64</th><th>float64</th><th>float64</th><th>bytes18</th><th>float32</th><th>float32</th></tr></thead>\n",
       "<tr><td>8001640050000008</td><td>265.0088789729025</td><td>68.87562236621886</td><td>SPIRE-NEP</td><td>0.48694804</td><td>0.104289986</td></tr>\n",
       "<tr><td>8001640050000015</td><td>265.018714609723</td><td>68.87523548392299</td><td>SPIRE-NEP</td><td>0.49994567</td><td>0.0959891</td></tr>\n",
       "<tr><td>8001640050000023</td><td>264.90664582017814</td><td>68.87614747419336</td><td>SPIRE-NEP</td><td>0.54493815</td><td>0.03573145</td></tr>\n",
       "<tr><td>8001640050000031</td><td>265.1157533311888</td><td>68.8768867896115</td><td>SPIRE-NEP</td><td>0.8401859</td><td>0.080062814</td></tr>\n",
       "<tr><td>8001640050000036</td><td>264.9233673045657</td><td>68.87708275567836</td><td>SPIRE-NEP</td><td>0.58014846</td><td>0.1620231</td></tr>\n",
       "<tr><td>8001640050000041</td><td>264.6848649571099</td><td>68.87729075901186</td><td>SPIRE-NEP</td><td>0.6860686</td><td>0.041592896</td></tr>\n",
       "<tr><td>8001640050000042</td><td>265.0902975148634</td><td>68.87741901912275</td><td>SPIRE-NEP</td><td>0.69454134</td><td>0.040210214</td></tr>\n",
       "<tr><td>8001640050000044</td><td>264.744676757926</td><td>68.87905466661792</td><td>SPIRE-NEP</td><td>0.49533355</td><td>0.0226374</td></tr>\n",
       "<tr><td>8001640050000048</td><td>264.8619382014994</td><td>68.87790398156072</td><td>SPIRE-NEP</td><td>0.89777684</td><td>0.073775575</td></tr>\n",
       "<tr><td>8001640050000053</td><td>264.7273183012005</td><td>68.87803762078948</td><td>SPIRE-NEP</td><td>0.6974243</td><td>0.06792546</td></tr>\n",
       "<tr><td>...</td><td>...</td><td>...</td><td>...</td><td>...</td><td>...</td></tr>\n",
       "<tr><td>8001640051003651</td><td>265.31357267527574</td><td>69.12230800409154</td><td>SPIRE-NEP</td><td>0.60092634</td><td>0.026300784</td></tr>\n",
       "<tr><td>8001640051003652</td><td>265.30886150687337</td><td>69.1194907793743</td><td>SPIRE-NEP</td><td>0.50945175</td><td>0.12832506</td></tr>\n",
       "<tr><td>8001640051003660</td><td>265.34632823250723</td><td>69.12043467056623</td><td>SPIRE-NEP</td><td>0.55812925</td><td>0.2183836</td></tr>\n",
       "<tr><td>8001640051003663</td><td>265.25415516749763</td><td>69.12066125070818</td><td>SPIRE-NEP</td><td>0.52661544</td><td>0.099268444</td></tr>\n",
       "<tr><td>8001640051003671</td><td>265.1897026082145</td><td>69.12452462212553</td><td>SPIRE-NEP</td><td>0.16262834</td><td>0.02847206</td></tr>\n",
       "<tr><td>8001640051003672</td><td>265.1816491414981</td><td>69.12238739374311</td><td>SPIRE-NEP</td><td>0.29502153</td><td>0.07305243</td></tr>\n",
       "<tr><td>8001640051003677</td><td>265.3979276473499</td><td>69.12201305263456</td><td>SPIRE-NEP</td><td>0.31894663</td><td>0.07394974</td></tr>\n",
       "<tr><td>8001640051003678</td><td>265.2952344612911</td><td>69.12137448450949</td><td>SPIRE-NEP</td><td>0.73142135</td><td>0.041603494</td></tr>\n",
       "<tr><td>8001640051003688</td><td>265.16477391718365</td><td>69.1238466176934</td><td>SPIRE-NEP</td><td>1.0059004</td><td>0.121763036</td></tr>\n",
       "<tr><td>8001640051003689</td><td>265.1674588898492</td><td>69.12392240307199</td><td>SPIRE-NEP</td><td>0.9839735</td><td>0.13981685</td></tr>\n",
       "</table>"
      ],
      "text/plain": [
       "<Table masked=True length=2130>\n",
       "       ID                RA                DEC        ...  photo_z    photo_zerr\n",
       "     int64            float64            float64      ...  float32     float32  \n",
       "---------------- ------------------ ----------------- ... ---------- -----------\n",
       "8001640050000008  265.0088789729025 68.87562236621886 ... 0.48694804 0.104289986\n",
       "8001640050000015   265.018714609723 68.87523548392299 ... 0.49994567   0.0959891\n",
       "8001640050000023 264.90664582017814 68.87614747419336 ... 0.54493815  0.03573145\n",
       "8001640050000031  265.1157533311888  68.8768867896115 ...  0.8401859 0.080062814\n",
       "8001640050000036  264.9233673045657 68.87708275567836 ... 0.58014846   0.1620231\n",
       "8001640050000041  264.6848649571099 68.87729075901186 ...  0.6860686 0.041592896\n",
       "8001640050000042  265.0902975148634 68.87741901912275 ... 0.69454134 0.040210214\n",
       "8001640050000044   264.744676757926 68.87905466661792 ... 0.49533355   0.0226374\n",
       "8001640050000048  264.8619382014994 68.87790398156072 ... 0.89777684 0.073775575\n",
       "8001640050000053  264.7273183012005 68.87803762078948 ...  0.6974243  0.06792546\n",
       "             ...                ...               ... ...        ...         ...\n",
       "8001640051003651 265.31357267527574 69.12230800409154 ... 0.60092634 0.026300784\n",
       "8001640051003652 265.30886150687337  69.1194907793743 ... 0.50945175  0.12832506\n",
       "8001640051003660 265.34632823250723 69.12043467056623 ... 0.55812925   0.2183836\n",
       "8001640051003663 265.25415516749763 69.12066125070818 ... 0.52661544 0.099268444\n",
       "8001640051003671  265.1897026082145 69.12452462212553 ... 0.16262834  0.02847206\n",
       "8001640051003672  265.1816491414981 69.12238739374311 ... 0.29502153  0.07305243\n",
       "8001640051003677  265.3979276473499 69.12201305263456 ... 0.31894663  0.07394974\n",
       "8001640051003678  265.2952344612911 69.12137448450949 ... 0.73142135 0.041603494\n",
       "8001640051003688 265.16477391718365  69.1238466176934 ...  1.0059004 0.121763036\n",
       "8001640051003689  265.1674588898492 69.12392240307199 ...  0.9839735  0.13981685"
      ]
     },
     "execution_count": 5,
     "metadata": {},
     "output_type": "execute_result"
    }
   ],
   "source": [
    "desi_photoz"
   ]
  },
  {
   "cell_type": "code",
   "execution_count": 6,
   "metadata": {},
   "outputs": [],
   "source": [
    "ml = Table.read('../../dmu1/dmu1_ml_SPIRE-NEP/data/master_catalogue_spire-nep_20180220.fits')"
   ]
  },
  {
   "cell_type": "code",
   "execution_count": 7,
   "metadata": {},
   "outputs": [
    {
     "data": {
      "text/html": [
       "<i>Table length=2674</i>\n",
       "<table id=\"table140108913475824\" class=\"table-striped table-bordered table-condensed\">\n",
       "<thead><tr><th>help_id</th><th>field</th><th>ra</th><th>dec</th><th>hp_idx</th><th>f_ap_gpc1_g</th><th>ferr_ap_gpc1_g</th><th>m_ap_gpc1_g</th><th>merr_ap_gpc1_g</th><th>f_gpc1_g</th><th>ferr_gpc1_g</th><th>m_gpc1_g</th><th>merr_gpc1_g</th><th>flag_gpc1_g</th><th>f_ap_gpc1_r</th><th>ferr_ap_gpc1_r</th><th>m_ap_gpc1_r</th><th>merr_ap_gpc1_r</th><th>f_gpc1_r</th><th>ferr_gpc1_r</th><th>m_gpc1_r</th><th>merr_gpc1_r</th><th>flag_gpc1_r</th><th>f_ap_gpc1_i</th><th>ferr_ap_gpc1_i</th><th>m_ap_gpc1_i</th><th>merr_ap_gpc1_i</th><th>f_gpc1_i</th><th>ferr_gpc1_i</th><th>m_gpc1_i</th><th>merr_gpc1_i</th><th>flag_gpc1_i</th><th>f_ap_gpc1_z</th><th>ferr_ap_gpc1_z</th><th>m_ap_gpc1_z</th><th>merr_ap_gpc1_z</th><th>f_gpc1_z</th><th>ferr_gpc1_z</th><th>m_gpc1_z</th><th>merr_gpc1_z</th><th>flag_gpc1_z</th><th>f_ap_gpc1_y</th><th>ferr_ap_gpc1_y</th><th>m_ap_gpc1_y</th><th>merr_ap_gpc1_y</th><th>f_gpc1_y</th><th>ferr_gpc1_y</th><th>m_gpc1_y</th><th>merr_gpc1_y</th><th>flag_gpc1_y</th><th>flag_cleaned</th><th>flag_gaia</th><th>flag_optnir_obs</th><th>flag_optnir_det</th><th>ebv</th><th>zspec_association_flag</th><th>zspec_qual</th><th>zspec</th></tr></thead>\n",
       "<thead><tr><th></th><th></th><th>deg</th><th>deg</th><th></th><th></th><th></th><th></th><th></th><th></th><th></th><th></th><th></th><th></th><th></th><th></th><th></th><th></th><th></th><th></th><th></th><th></th><th></th><th></th><th></th><th></th><th></th><th></th><th></th><th></th><th></th><th></th><th></th><th></th><th></th><th></th><th></th><th></th><th></th><th></th><th></th><th></th><th></th><th></th><th></th><th></th><th></th><th></th><th></th><th></th><th></th><th></th><th></th><th></th><th></th><th></th><th></th><th></th></tr></thead>\n",
       "<thead><tr><th>bytes27</th><th>bytes18</th><th>float64</th><th>float64</th><th>int64</th><th>float64</th><th>float64</th><th>float64</th><th>float64</th><th>float64</th><th>float64</th><th>float64</th><th>float64</th><th>bool</th><th>float64</th><th>float64</th><th>float64</th><th>float64</th><th>float64</th><th>float64</th><th>float64</th><th>float64</th><th>bool</th><th>float64</th><th>float64</th><th>float64</th><th>float64</th><th>float64</th><th>float64</th><th>float64</th><th>float64</th><th>bool</th><th>float64</th><th>float64</th><th>float64</th><th>float64</th><th>float64</th><th>float64</th><th>float64</th><th>float64</th><th>bool</th><th>float64</th><th>float64</th><th>float64</th><th>float64</th><th>float64</th><th>float64</th><th>float64</th><th>float64</th><th>bool</th><th>bool</th><th>int64</th><th>int64</th><th>int64</th><th>float64</th><th>bool</th><th>int64</th><th>float64</th></tr></thead>\n",
       "<tr><td>HELP_J173915.579+684920.387</td><td>SPIRE-NEP</td><td>264.814910506941</td><td>68.8223297362451</td><td>190655719</td><td>7392.649656415478</td><td>43.14107484155039</td><td>14.227999687194824</td><td>0.006335999816656113</td><td>6885.885923697371</td><td>3.900413383672567</td><td>14.305100440979004</td><td>0.0006150000263005495</td><td>False</td><td>11502.703942155389</td><td>0.39199214554663814</td><td>13.748000144958496</td><td>3.7000001611886546e-05</td><td>10721.116635628732</td><td>37.463903786626574</td><td>13.824399948120117</td><td>0.003794000018388033</td><td>False</td><td>13242.190731341167</td><td>27.381162531005785</td><td>13.595100402832031</td><td>0.002245000097900629</td><td>12439.415011830086</td><td>19.087569591075386</td><td>13.663000106811523</td><td>0.0016659999964758754</td><td>False</td><td>13891.84270354754</td><td>21.341826578659003</td><td>13.543100357055664</td><td>0.0016680000117048621</td><td>13149.822983847242</td><td>16.03553878213893</td><td>13.602700233459473</td><td>0.001323999953456223</td><td>False</td><td>14232.46188062854</td><td>40.951210132452125</td><td>13.516799926757812</td><td>0.0031240000389516354</td><td>13428.889023883086</td><td>40.185139857741724</td><td>13.579899787902832</td><td>0.003249000059440732</td><td>False</td><td>False</td><td>3</td><td>1</td><td>1</td><td>0.0388039921120539</td><td>False</td><td>-99</td><td>nan</td></tr>\n",
       "<tr><td>HELP_J173946.809+685156.285</td><td>SPIRE-NEP</td><td>264.94503776694097</td><td>68.8656346562451</td><td>190655913</td><td>7249.70029559321</td><td>6.41013174052051</td><td>14.249199867248535</td><td>0.0009599999757483602</td><td>6878.915727562524</td><td>2.7053504765818537</td><td>14.30620002746582</td><td>0.00042699999175965786</td><td>False</td><td>9736.436587413442</td><td>4.062317917145358</td><td>13.928999900817871</td><td>0.0004529999860096723</td><td>9094.941212628544</td><td>40.18327154789176</td><td>14.003000259399414</td><td>0.0047969999723136425</td><td>False</td><td>10496.393783372483</td><td>32.43458246053875</td><td>13.847399711608887</td><td>0.0033549999352544546</td><td>10003.684547753295</td><td>25.531256010203315</td><td>13.8996000289917</td><td>0.002770999912172556</td><td>False</td><td>11005.257008862356</td><td>25.786534719666268</td><td>13.795999526977539</td><td>0.00254400004632771</td><td>10527.371434130546</td><td>30.47473940215369</td><td>13.844200134277344</td><td>0.0031429999507963657</td><td>False</td><td>11072.353931850152</td><td>32.04216205769136</td><td>13.789400100708008</td><td>0.0031419999431818724</td><td>10614.997008224147</td><td>20.032609026459976</td><td>13.835200309753418</td><td>0.0020490000024437904</td><td>False</td><td>False</td><td>3</td><td>1</td><td>1</td><td>0.03758876708462011</td><td>False</td><td>-99</td><td>nan</td></tr>\n",
       "<tr><td>HELP_J174207.370+685439.924</td><td>SPIRE-NEP</td><td>265.530709446941</td><td>68.9110899862451</td><td>190657257</td><td>2237.6897934973695</td><td>8.264563331426242</td><td>15.525500297546387</td><td>0.004009999800473452</td><td>2160.9259884151043</td><td>4.838385977158423</td><td>15.563400268554688</td><td>0.0024309998843818903</td><td>False</td><td>5336.298841849184</td><td>3.573141683116153</td><td>14.581899642944336</td><td>0.0007270000060088933</td><td>5056.383749012703</td><td>9.374745215024907</td><td>14.640399932861328</td><td>0.0020129999611526728</td><td>False</td><td>7997.605471072057</td><td>11.203788102742276</td><td>14.142600059509277</td><td>0.001521000056527555</td><td>7685.64216843743</td><td>8.161785296524506</td><td>14.185799598693848</td><td>0.0011530000483617187</td><td>False</td><td>9714.934578836132</td><td>8.92989013415497</td><td>13.931400299072266</td><td>0.0009980000322684646</td><td>9345.44313604996</td><td>13.969925949182809</td><td>13.97350025177002</td><td>0.001623000018298626</td><td>False</td><td>11099.921323614948</td><td>20.71261985245761</td><td>13.786700248718262</td><td>0.0020260000601410866</td><td>10616.955198964131</td><td>14.931887107569082</td><td>13.835000038146973</td><td>0.0015269999857991934</td><td>False</td><td>False</td><td>3</td><td>1</td><td>1</td><td>0.03295716909757666</td><td>False</td><td>-99</td><td>nan</td></tr>\n",
       "<tr><td>HELP_J174037.838+690156.738</td><td>SPIRE-NEP</td><td>265.157657506941</td><td>69.0324273262451</td><td>190678343</td><td>2954.201154158731</td><td>11.065980895028224</td><td>15.223899841308594</td><td>0.00406700000166893</td><td>2832.9580449055716</td><td>20.615690086772506</td><td>15.269399642944336</td><td>0.00790099985897541</td><td>False</td><td>4961.350385374189</td><td>3.577975440620877</td><td>14.66100025177002</td><td>0.0007830000249668956</td><td>4751.601175269746</td><td>6.87530293145485</td><td>14.707900047302246</td><td>0.0015709999715909362</td><td>False</td><td>6028.370923254148</td><td>6.424051165465589</td><td>14.44950008392334</td><td>0.0011569999624043703</td><td>5705.8448913602915</td><td>11.640439880943571</td><td>14.509200096130371</td><td>0.0022150001022964716</td><td>False</td><td>6500.101686961609</td><td>11.746131062056477</td><td>14.36769962310791</td><td>0.001962000038474798</td><td>6164.811688077446</td><td>30.496546370204584</td><td>14.425200462341309</td><td>0.005371000152081251</td><td>False</td><td>6809.576719544868</td><td>11.659372455193516</td><td>14.31719970703125</td><td>0.001858999952673912</td><td>6541.541248395049</td><td>21.81043591168455</td><td>14.360799789428711</td><td>0.0036200000904500484</td><td>False</td><td>False</td><td>3</td><td>1</td><td>1</td><td>0.03674032230972989</td><td>False</td><td>-99</td><td>nan</td></tr>\n",
       "<tr><td>HELP_J173857.253+690905.009</td><td>SPIRE-NEP</td><td>264.73855532694097</td><td>69.1513914262451</td><td>190680167</td><td>4122.4950323857975</td><td>11.706022109743218</td><td>14.862099647521973</td><td>0.003082999959588051</td><td>3918.8624381067916</td><td>25.309152145370216</td><td>14.917099952697754</td><td>0.0070119998417794704</td><td>False</td><td>6072.955739891419</td><td>4.614554102834139</td><td>14.441499710083008</td><td>0.0008249999955296516</td><td>5760.230131278656</td><td>29.66231237299783</td><td>14.498900413513184</td><td>0.005590999964624643</td><td>False</td><td>6935.533351501782</td><td>16.269885676281138</td><td>14.297300338745117</td><td>0.0025470000691711903</td><td>6509.683526236116</td><td>15.330851208560373</td><td>14.366100311279297</td><td>0.0025569999124854803</td><td>False</td><td>7154.179956831485</td><td>13.435466498013483</td><td>14.26360034942627</td><td>0.0020389999262988567</td><td>6749.01181762755</td><td>10.629478908311816</td><td>14.326899528503418</td><td>0.0017099999822676182</td><td>False</td><td>7330.271943040369</td><td>18.006064055491773</td><td>14.237199783325195</td><td>0.00266700005158782</td><td>6870.051480693347</td><td>21.65288025294229</td><td>14.307600021362305</td><td>0.003421999979764223</td><td>False</td><td>False</td><td>3</td><td>1</td><td>1</td><td>0.03438138055091783</td><td>False</td><td>-99</td><td>nan</td></tr>\n",
       "<tr><td>HELP_J174028.416+691100.880</td><td>SPIRE-NEP</td><td>265.118397936941</td><td>69.1835778862451</td><td>190678991</td><td>6982.324286093303</td><td>15.800865137225745</td><td>14.289999961853027</td><td>0.002457000082358718</td><td>6583.244996041949</td><td>33.27589849377251</td><td>14.353899955749512</td><td>0.005487999878823757</td><td>False</td><td>9464.116842486028</td><td>7.853813074907228</td><td>13.959799766540527</td><td>0.0009009999921545386</td><td>8970.978446149313</td><td>21.160457934488274</td><td>14.017900466918945</td><td>0.002560999942943454</td><td>False</td><td>10520.58640399224</td><td>19.563742950203242</td><td>13.844900131225586</td><td>0.002019000006839633</td><td>9872.788873312351</td><td>25.251745465420814</td><td>13.913900375366211</td><td>0.002776999957859516</td><td>False</td><td>10608.155502244284</td><td>8.793424909455904</td><td>13.83590030670166</td><td>0.0008999999845400453</td><td>10122.320288991681</td><td>25.517054102764583</td><td>13.886799812316895</td><td>0.002736999886110425</td><td>False</td><td>10776.556519374522</td><td>32.14893841917723</td><td>13.81879997253418</td><td>0.0032389999832957983</td><td>10123.253898289515</td><td>31.710453138248102</td><td>13.886699676513672</td><td>0.003401000052690506</td><td>False</td><td>False</td><td>3</td><td>1</td><td>1</td><td>0.03241971113719585</td><td>False</td><td>-99</td><td>nan</td></tr>\n",
       "<tr><td>HELP_J174146.041+690113.676</td><td>SPIRE-NEP</td><td>265.441837016941</td><td>69.0204656262451</td><td>190659102</td><td>3245.1902170302287</td><td>9.253729458395984</td><td>15.121899604797363</td><td>0.0030960000585764647</td><td>3049.2993275009376</td><td>11.0233953292534</td><td>15.189499855041504</td><td>0.003924999851733446</td><td>False</td><td>4709.774422303657</td><td>4.572107097906037</td><td>14.717499732971191</td><td>0.001053999993018806</td><td>4491.174446816318</td><td>9.729105623229861</td><td>14.769100189208984</td><td>0.002351999981328845</td><td>False</td><td>5454.56474722343</td><td>6.586253818793018</td><td>14.558099746704102</td><td>0.001310999970883131</td><td>5191.345368654272</td><td>8.204892457940208</td><td>14.611800193786621</td><td>0.0017160000279545784</td><td>False</td><td>5563.138861662946</td><td>17.513285698512302</td><td>14.536700248718262</td><td>0.0034179999493062496</td><td>5290.784225794218</td><td>13.386109816422367</td><td>14.59119987487793</td><td>0.0027469999622553587</td><td>False</td><td>5712.15324942337</td><td>14.425901713694017</td><td>14.508000373840332</td><td>0.002741999924182892</td><td>5384.186210354593</td><td>20.495624736019263</td><td>14.572199821472168</td><td>0.004133000038564205</td><td>False</td><td>False</td><td>3</td><td>1</td><td>1</td><td>0.0340708017354079</td><td>False</td><td>-99</td><td>nan</td></tr>\n",
       "<tr><td>HELP_J173909.651+690755.541</td><td>SPIRE-NEP</td><td>264.790211416941</td><td>69.1320948362451</td><td>190680145</td><td>41937.249662199334</td><td>41.947439069543165</td><td>12.343500137329102</td><td>0.0010860000038519502</td><td>26994.787134777616</td><td>27.001346002717014</td><td>12.821800231933594</td><td>0.0010860000038519502</td><td>False</td><td>126893.64281144616</td><td>126.9244738989963</td><td>11.141400337219238</td><td>0.0010860000038519502</td><td>16884.184424911135</td><td>1282.4056802256805</td><td>13.331299781799316</td><td>0.08246500045061111</td><td>False</td><td>90966.18992626925</td><td>135.64460661726648</td><td>11.502799987792969</td><td>0.0016189999878406525</td><td>63908.71330626924</td><td>99.53580877931465</td><td>11.886099815368652</td><td>0.001690999954007566</td><td>False</td><td>244816.0431020244</td><td>244.87552555277077</td><td>10.427900314331055</td><td>0.0010860000038519502</td><td>nan</td><td>nan</td><td>nan</td><td>nan</td><td>False</td><td>344128.0289505939</td><td>0.0</td><td>10.058199882507324</td><td>0.0</td><td>337411.48893968464</td><td>0.0</td><td>10.07960033416748</td><td>0.0</td><td>False</td><td>False</td><td>3</td><td>1</td><td>1</td><td>0.03479011023342917</td><td>False</td><td>-99</td><td>nan</td></tr>\n",
       "<tr><td>HELP_J174121.486+685816.074</td><td>SPIRE-NEP</td><td>265.339526906941</td><td>68.9711315762451</td><td>190658734</td><td>26678.402502610836</td><td>26.684884499226524</td><td>12.834600448608398</td><td>0.0010860000038519502</td><td>25574.082632121586</td><td>25.58029631440839</td><td>12.880499839782715</td><td>0.0010860000038519502</td><td>False</td><td>46430.14921097864</td><td>46.44143024889019</td><td>12.232999801635742</td><td>0.0010860000038519502</td><td>35321.58317129347</td><td>35.33016518374922</td><td>12.529899597167969</td><td>0.0010860000038519502</td><td>False</td><td>24519.97566283568</td><td>433.26888301905296</td><td>12.926199913024902</td><td>0.01918499916791916</td><td>12433.690913708328</td><td>481.2870105472962</td><td>13.66349983215332</td><td>0.04202700033783913</td><td>False</td><td>64648.729971751345</td><td>541.7284012417539</td><td>11.873600006103516</td><td>0.009097999893128872</td><td>62115.51255879898</td><td>626.1117517540673</td><td>11.916999816894531</td><td>0.010944000445306301</td><td>False</td><td>74322.42005524825</td><td>200.63714346583856</td><td>11.722200393676758</td><td>0.002930999966338277</td><td>72004.53465715621</td><td>255.12775613927516</td><td>11.756600379943848</td><td>0.0038469999562948942</td><td>False</td><td>False</td><td>3</td><td>1</td><td>1</td><td>0.03486018712998346</td><td>False</td><td>-99</td><td>nan</td></tr>\n",
       "<tr><td>...</td><td>...</td><td>...</td><td>...</td><td>...</td><td>...</td><td>...</td><td>...</td><td>...</td><td>...</td><td>...</td><td>...</td><td>...</td><td>...</td><td>...</td><td>...</td><td>...</td><td>...</td><td>...</td><td>...</td><td>...</td><td>...</td><td>...</td><td>...</td><td>...</td><td>...</td><td>...</td><td>...</td><td>...</td><td>...</td><td>...</td><td>...</td><td>...</td><td>...</td><td>...</td><td>...</td><td>...</td><td>...</td><td>...</td><td>...</td><td>...</td><td>...</td><td>...</td><td>...</td><td>...</td><td>...</td><td>...</td><td>...</td><td>...</td><td>...</td><td>...</td><td>...</td><td>...</td><td>...</td><td>...</td><td>...</td><td>...</td><td>...</td></tr>\n",
       "<tr><td>HELP_J174016.561+690903.379</td><td>SPIRE-NEP</td><td>265.069002856941</td><td>69.1509386862451</td><td>190678977</td><td>nan</td><td>nan</td><td>nan</td><td>nan</td><td>nan</td><td>nan</td><td>nan</td><td>nan</td><td>False</td><td>nan</td><td>nan</td><td>nan</td><td>nan</td><td>nan</td><td>nan</td><td>nan</td><td>nan</td><td>False</td><td>nan</td><td>nan</td><td>nan</td><td>nan</td><td>nan</td><td>nan</td><td>nan</td><td>nan</td><td>False</td><td>nan</td><td>nan</td><td>nan</td><td>nan</td><td>nan</td><td>nan</td><td>nan</td><td>nan</td><td>False</td><td>91664.23871546904</td><td>163.3640809707166</td><td>11.494500160217285</td><td>0.001934999949298799</td><td>356024.49054709205</td><td>15724.95600814432</td><td>10.021300315856934</td><td>0.047954998910427094</td><td>False</td><td>False</td><td>0</td><td>1</td><td>0</td><td>0.033664079481045106</td><td>False</td><td>-99</td><td>nan</td></tr>\n",
       "<tr><td>HELP_J174215.952+685705.675</td><td>SPIRE-NEP</td><td>265.566466046941</td><td>68.9515764162451</td><td>190658639</td><td>nan</td><td>nan</td><td>nan</td><td>nan</td><td>nan</td><td>nan</td><td>nan</td><td>nan</td><td>False</td><td>nan</td><td>nan</td><td>nan</td><td>nan</td><td>nan</td><td>nan</td><td>nan</td><td>nan</td><td>False</td><td>nan</td><td>nan</td><td>nan</td><td>nan</td><td>nan</td><td>nan</td><td>nan</td><td>nan</td><td>False</td><td>nan</td><td>nan</td><td>nan</td><td>nan</td><td>nan</td><td>nan</td><td>nan</td><td>nan</td><td>False</td><td>52.04270520112114</td><td>6.1990443569655795</td><td>19.609100341796875</td><td>0.12932699918746948</td><td>73.53255302272247</td><td>8.632963693685323</td><td>19.233800888061523</td><td>0.127469003200531</td><td>False</td><td>False</td><td>0</td><td>1</td><td>0</td><td>0.03351558502853581</td><td>False</td><td>-99</td><td>nan</td></tr>\n",
       "<tr><td>HELP_J174107.066+685119.674</td><td>SPIRE-NEP</td><td>265.279439726941</td><td>68.8554649662451</td><td>190654462</td><td>nan</td><td>nan</td><td>nan</td><td>nan</td><td>nan</td><td>nan</td><td>nan</td><td>nan</td><td>False</td><td>nan</td><td>nan</td><td>nan</td><td>nan</td><td>nan</td><td>nan</td><td>nan</td><td>nan</td><td>False</td><td>nan</td><td>nan</td><td>nan</td><td>nan</td><td>nan</td><td>nan</td><td>nan</td><td>nan</td><td>False</td><td>nan</td><td>nan</td><td>nan</td><td>nan</td><td>nan</td><td>nan</td><td>nan</td><td>nan</td><td>False</td><td>49.54047593804438</td><td>7.775500741226552</td><td>19.662599563598633</td><td>0.17040899395942688</td><td>47.02833672887649</td><td>7.147315437950436</td><td>19.719100952148438</td><td>0.165009006857872</td><td>False</td><td>False</td><td>0</td><td>1</td><td>0</td><td>0.03503653434097061</td><td>False</td><td>-99</td><td>nan</td></tr>\n",
       "<tr><td>HELP_J174105.624+685720.001</td><td>SPIRE-NEP</td><td>265.273432656941</td><td>68.9555557962451</td><td>190656341</td><td>nan</td><td>nan</td><td>nan</td><td>nan</td><td>nan</td><td>nan</td><td>nan</td><td>nan</td><td>False</td><td>nan</td><td>nan</td><td>nan</td><td>nan</td><td>nan</td><td>nan</td><td>nan</td><td>nan</td><td>False</td><td>nan</td><td>nan</td><td>nan</td><td>nan</td><td>nan</td><td>nan</td><td>nan</td><td>nan</td><td>False</td><td>nan</td><td>nan</td><td>nan</td><td>nan</td><td>nan</td><td>nan</td><td>nan</td><td>nan</td><td>False</td><td>nan</td><td>nan</td><td>nan</td><td>nan</td><td>nan</td><td>nan</td><td>nan</td><td>nan</td><td>False</td><td>False</td><td>0</td><td>1</td><td>0</td><td>0.03515653536605813</td><td>False</td><td>-99</td><td>nan</td></tr>\n",
       "<tr><td>HELP_J173928.987+690938.033</td><td>SPIRE-NEP</td><td>264.870779186941</td><td>69.1605645862451</td><td>190680323</td><td>nan</td><td>nan</td><td>nan</td><td>nan</td><td>nan</td><td>nan</td><td>nan</td><td>nan</td><td>False</td><td>nan</td><td>nan</td><td>nan</td><td>nan</td><td>nan</td><td>nan</td><td>nan</td><td>nan</td><td>False</td><td>nan</td><td>nan</td><td>nan</td><td>nan</td><td>nan</td><td>nan</td><td>nan</td><td>nan</td><td>False</td><td>nan</td><td>nan</td><td>nan</td><td>nan</td><td>nan</td><td>nan</td><td>nan</td><td>nan</td><td>False</td><td>nan</td><td>nan</td><td>nan</td><td>nan</td><td>nan</td><td>nan</td><td>nan</td><td>nan</td><td>False</td><td>False</td><td>0</td><td>1</td><td>0</td><td>0.03393322948061322</td><td>False</td><td>-99</td><td>nan</td></tr>\n",
       "<tr><td>HELP_J173820.304+685620.374</td><td>SPIRE-NEP</td><td>264.584601296941</td><td>68.9389926462451</td><td>190678151</td><td>nan</td><td>nan</td><td>nan</td><td>nan</td><td>nan</td><td>nan</td><td>nan</td><td>nan</td><td>False</td><td>nan</td><td>nan</td><td>nan</td><td>nan</td><td>nan</td><td>nan</td><td>nan</td><td>nan</td><td>False</td><td>nan</td><td>nan</td><td>nan</td><td>nan</td><td>nan</td><td>nan</td><td>nan</td><td>nan</td><td>False</td><td>nan</td><td>nan</td><td>nan</td><td>nan</td><td>nan</td><td>nan</td><td>nan</td><td>nan</td><td>False</td><td>nan</td><td>nan</td><td>nan</td><td>nan</td><td>nan</td><td>nan</td><td>nan</td><td>nan</td><td>False</td><td>False</td><td>0</td><td>1</td><td>0</td><td>0.03609018467091251</td><td>False</td><td>-99</td><td>nan</td></tr>\n",
       "<tr><td>HELP_J173849.615+685403.883</td><td>SPIRE-NEP</td><td>264.706729726941</td><td>68.9010784962451</td><td>190656189</td><td>nan</td><td>nan</td><td>nan</td><td>nan</td><td>nan</td><td>nan</td><td>nan</td><td>nan</td><td>False</td><td>nan</td><td>nan</td><td>nan</td><td>nan</td><td>nan</td><td>nan</td><td>nan</td><td>nan</td><td>False</td><td>nan</td><td>nan</td><td>nan</td><td>nan</td><td>nan</td><td>nan</td><td>nan</td><td>nan</td><td>False</td><td>nan</td><td>nan</td><td>nan</td><td>nan</td><td>nan</td><td>nan</td><td>nan</td><td>nan</td><td>False</td><td>nan</td><td>nan</td><td>nan</td><td>nan</td><td>nan</td><td>nan</td><td>nan</td><td>nan</td><td>False</td><td>False</td><td>0</td><td>1</td><td>0</td><td>0.037034501694718724</td><td>False</td><td>-99</td><td>nan</td></tr>\n",
       "<tr><td>HELP_J174040.003+690836.183</td><td>SPIRE-NEP</td><td>265.166677756941</td><td>69.1433840562451</td><td>190678872</td><td>nan</td><td>nan</td><td>nan</td><td>nan</td><td>nan</td><td>nan</td><td>nan</td><td>nan</td><td>False</td><td>nan</td><td>nan</td><td>nan</td><td>nan</td><td>nan</td><td>nan</td><td>nan</td><td>nan</td><td>False</td><td>nan</td><td>nan</td><td>nan</td><td>nan</td><td>2.1047493226065552</td><td>2.3697558944839368</td><td>23.091999053955078</td><td>1.2224400043487549</td><td>False</td><td>nan</td><td>nan</td><td>nan</td><td>nan</td><td>9.245271029212828</td><td>3.036736437799816</td><td>21.485200881958008</td><td>0.3566249907016754</td><td>False</td><td>nan</td><td>nan</td><td>nan</td><td>nan</td><td>nan</td><td>nan</td><td>nan</td><td>nan</td><td>False</td><td>False</td><td>0</td><td>1</td><td>1</td><td>0.03357007084712165</td><td>False</td><td>-99</td><td>nan</td></tr>\n",
       "<tr><td>HELP_J173834.015+685451.051</td><td>SPIRE-NEP</td><td>264.641727416941</td><td>68.9141808162451</td><td>190678043</td><td>nan</td><td>nan</td><td>nan</td><td>nan</td><td>47041.39190520985</td><td>0.0</td><td>12.218799591064453</td><td>0.0</td><td>False</td><td>nan</td><td>nan</td><td>nan</td><td>nan</td><td>nan</td><td>nan</td><td>nan</td><td>nan</td><td>False</td><td>nan</td><td>nan</td><td>nan</td><td>nan</td><td>31859.574770273186</td><td>132.51638541835055</td><td>12.641900062561035</td><td>0.004515999928116798</td><td>False</td><td>nan</td><td>nan</td><td>nan</td><td>nan</td><td>nan</td><td>nan</td><td>nan</td><td>nan</td><td>False</td><td>nan</td><td>nan</td><td>nan</td><td>nan</td><td>nan</td><td>nan</td><td>nan</td><td>nan</td><td>False</td><td>False</td><td>2</td><td>1</td><td>1</td><td>0.036609616728673286</td><td>False</td><td>-99</td><td>nan</td></tr>\n",
       "<tr><td>HELP_J173906.219+690117.025</td><td>SPIRE-NEP</td><td>264.775910796941</td><td>69.0213959262451</td><td>190678253</td><td>nan</td><td>nan</td><td>nan</td><td>nan</td><td>nan</td><td>nan</td><td>nan</td><td>nan</td><td>False</td><td>nan</td><td>nan</td><td>nan</td><td>nan</td><td>nan</td><td>nan</td><td>nan</td><td>nan</td><td>False</td><td>nan</td><td>nan</td><td>nan</td><td>nan</td><td>nan</td><td>nan</td><td>nan</td><td>nan</td><td>False</td><td>nan</td><td>nan</td><td>nan</td><td>nan</td><td>nan</td><td>nan</td><td>nan</td><td>nan</td><td>False</td><td>nan</td><td>nan</td><td>nan</td><td>nan</td><td>nan</td><td>nan</td><td>nan</td><td>nan</td><td>False</td><td>False</td><td>0</td><td>1</td><td>0</td><td>0.037770998448123747</td><td>False</td><td>-99</td><td>nan</td></tr>\n",
       "</table>"
      ],
      "text/plain": [
       "<Table length=2674>\n",
       "          help_id             field           ra         ... zspec_qual  zspec \n",
       "                                             deg         ...                   \n",
       "          bytes27            bytes18       float64       ...   int64    float64\n",
       "--------------------------- --------- ------------------ ... ---------- -------\n",
       "HELP_J173915.579+684920.387 SPIRE-NEP   264.814910506941 ...        -99     nan\n",
       "HELP_J173946.809+685156.285 SPIRE-NEP 264.94503776694097 ...        -99     nan\n",
       "HELP_J174207.370+685439.924 SPIRE-NEP   265.530709446941 ...        -99     nan\n",
       "HELP_J174037.838+690156.738 SPIRE-NEP   265.157657506941 ...        -99     nan\n",
       "HELP_J173857.253+690905.009 SPIRE-NEP 264.73855532694097 ...        -99     nan\n",
       "HELP_J174028.416+691100.880 SPIRE-NEP   265.118397936941 ...        -99     nan\n",
       "HELP_J174146.041+690113.676 SPIRE-NEP   265.441837016941 ...        -99     nan\n",
       "HELP_J173909.651+690755.541 SPIRE-NEP   264.790211416941 ...        -99     nan\n",
       "HELP_J174121.486+685816.074 SPIRE-NEP   265.339526906941 ...        -99     nan\n",
       "                        ...       ...                ... ...        ...     ...\n",
       "HELP_J174016.561+690903.379 SPIRE-NEP   265.069002856941 ...        -99     nan\n",
       "HELP_J174215.952+685705.675 SPIRE-NEP   265.566466046941 ...        -99     nan\n",
       "HELP_J174107.066+685119.674 SPIRE-NEP   265.279439726941 ...        -99     nan\n",
       "HELP_J174105.624+685720.001 SPIRE-NEP   265.273432656941 ...        -99     nan\n",
       "HELP_J173928.987+690938.033 SPIRE-NEP   264.870779186941 ...        -99     nan\n",
       "HELP_J173820.304+685620.374 SPIRE-NEP   264.584601296941 ...        -99     nan\n",
       "HELP_J173849.615+685403.883 SPIRE-NEP   264.706729726941 ...        -99     nan\n",
       "HELP_J174040.003+690836.183 SPIRE-NEP   265.166677756941 ...        -99     nan\n",
       "HELP_J173834.015+685451.051 SPIRE-NEP   264.641727416941 ...        -99     nan\n",
       "HELP_J173906.219+690117.025 SPIRE-NEP   264.775910796941 ...        -99     nan"
      ]
     },
     "execution_count": 7,
     "metadata": {},
     "output_type": "execute_result"
    }
   ],
   "source": [
    "ml"
   ]
  },
  {
   "cell_type": "code",
   "execution_count": 8,
   "metadata": {},
   "outputs": [
    {
     "data": {
      "image/png": "[encoded data removed]",
      "text/plain": [
       "<Figure size 432x288 with 1 Axes>"
      ]
     },
     "metadata": {
      "needs_background": "light"
     },
     "output_type": "display_data"
    }
   ],
   "source": [
    "nb_merge_dist_plot(\n",
    "    SkyCoord(ml['ra'], ml['dec']),\n",
    "    SkyCoord(desi_photoz['RA']*u.deg, desi_photoz['DEC']*u.deg)\n",
    ")"
   ]
  },
  {
   "cell_type": "code",
   "execution_count": 9,
   "metadata": {},
   "outputs": [],
   "source": [
    "# Given the graph above, we use 0.8 arc-second radius\n",
    "desi_photoz['RA'].name = 'desi_ra'\n",
    "desi_photoz['DEC'].name = 'desi_dec'\n",
    "photoz = merge_catalogues(ml, desi_photoz, \"desi_ra\", \"desi_dec\", radius=0.8*u.arcsec)"
   ]
  },
  {
   "cell_type": "code",
   "execution_count": 10,
   "metadata": {},
   "outputs": [],
   "source": [
    "photoz['help_id'].fill_value = ''\n",
    "photoz['photo_z'].fill_value = np.nan\n",
    "photoz = photoz.filled()\n",
    "has_help = photoz['help_id'] != ''\n",
    "has_z = ~np.isnan(photoz['photo_z'])\n",
    "photoz[has_help & has_z].write('./data/{}_DESI-DR8_Zou_et_al_2019_photo_z_withhelp_id.fits'.format(field), overwrite=True)"
   ]
  },
  {
   "cell_type": "code",
   "execution_count": 11,
   "metadata": {},
   "outputs": [
    {
     "data": {
      "text/html": [
       "<i>Table length=935</i>\n",
       "<table id=\"table140108877615624\" class=\"table-striped table-bordered table-condensed\">\n",
       "<thead><tr><th>help_id</th><th>field</th><th>ra</th><th>dec</th><th>hp_idx</th><th>f_ap_gpc1_g</th><th>ferr_ap_gpc1_g</th><th>m_ap_gpc1_g</th><th>merr_ap_gpc1_g</th><th>f_gpc1_g</th><th>ferr_gpc1_g</th><th>m_gpc1_g</th><th>merr_gpc1_g</th><th>flag_gpc1_g</th><th>f_ap_gpc1_r</th><th>ferr_ap_gpc1_r</th><th>m_ap_gpc1_r</th><th>merr_ap_gpc1_r</th><th>f_gpc1_r</th><th>ferr_gpc1_r</th><th>m_gpc1_r</th><th>merr_gpc1_r</th><th>flag_gpc1_r</th><th>f_ap_gpc1_i</th><th>ferr_ap_gpc1_i</th><th>m_ap_gpc1_i</th><th>merr_ap_gpc1_i</th><th>f_gpc1_i</th><th>ferr_gpc1_i</th><th>m_gpc1_i</th><th>merr_gpc1_i</th><th>flag_gpc1_i</th><th>f_ap_gpc1_z</th><th>ferr_ap_gpc1_z</th><th>m_ap_gpc1_z</th><th>merr_ap_gpc1_z</th><th>f_gpc1_z</th><th>ferr_gpc1_z</th><th>m_gpc1_z</th><th>merr_gpc1_z</th><th>flag_gpc1_z</th><th>f_ap_gpc1_y</th><th>ferr_ap_gpc1_y</th><th>m_ap_gpc1_y</th><th>merr_ap_gpc1_y</th><th>f_gpc1_y</th><th>ferr_gpc1_y</th><th>m_gpc1_y</th><th>merr_gpc1_y</th><th>flag_gpc1_y</th><th>flag_cleaned</th><th>flag_gaia</th><th>flag_optnir_obs</th><th>flag_optnir_det</th><th>ebv</th><th>zspec_association_flag</th><th>zspec_qual</th><th>zspec</th><th>flag_merged</th><th>field_1</th><th>ID</th><th>field_2</th><th>photo_z</th><th>photo_zerr</th></tr></thead>\n",
       "<thead><tr><th></th><th></th><th>deg</th><th>deg</th><th></th><th></th><th></th><th></th><th></th><th></th><th></th><th></th><th></th><th></th><th></th><th></th><th></th><th></th><th></th><th></th><th></th><th></th><th></th><th></th><th></th><th></th><th></th><th></th><th></th><th></th><th></th><th></th><th></th><th></th><th></th><th></th><th></th><th></th><th></th><th></th><th></th><th></th><th></th><th></th><th></th><th></th><th></th><th></th><th></th><th></th><th></th><th></th><th></th><th></th><th></th><th></th><th></th><th></th><th></th><th></th><th></th><th></th><th></th><th></th></tr></thead>\n",
       "<thead><tr><th>bytes27</th><th>bytes18</th><th>float64</th><th>float64</th><th>int64</th><th>float64</th><th>float64</th><th>float64</th><th>float64</th><th>float64</th><th>float64</th><th>float64</th><th>float64</th><th>bool</th><th>float64</th><th>float64</th><th>float64</th><th>float64</th><th>float64</th><th>float64</th><th>float64</th><th>float64</th><th>bool</th><th>float64</th><th>float64</th><th>float64</th><th>float64</th><th>float64</th><th>float64</th><th>float64</th><th>float64</th><th>bool</th><th>float64</th><th>float64</th><th>float64</th><th>float64</th><th>float64</th><th>float64</th><th>float64</th><th>float64</th><th>bool</th><th>float64</th><th>float64</th><th>float64</th><th>float64</th><th>float64</th><th>float64</th><th>float64</th><th>float64</th><th>bool</th><th>bool</th><th>int64</th><th>int64</th><th>int64</th><th>float64</th><th>bool</th><th>int64</th><th>float64</th><th>bool</th><th>bytes18</th><th>int64</th><th>bytes18</th><th>float32</th><th>float32</th></tr></thead>\n",
       "<tr><td>HELP_J174122.104+685743.508</td><td>N/A</td><td>265.342101596941</td><td>68.9620856862451</td><td>190658732</td><td>0.12171948535009793</td><td>2.107962700071433</td><td>26.186599731445312</td><td>18.80299949645996</td><td>1.395725320399422</td><td>2.59139648148797</td><td>23.538000106811523</td><td>2.015850067138672</td><td>False</td><td>13.311906693942802</td><td>0.9143921804150905</td><td>21.089399337768555</td><td>0.07457900047302246</td><td>11.074396493041862</td><td>0.8273645725747296</td><td>21.289199829101562</td><td>0.0811149999499321</td><td>False</td><td>30.91720284311122</td><td>1.2462432471022455</td><td>20.17449951171875</td><td>0.043765000998973846</td><td>28.116435795176876</td><td>1.8740039817746292</td><td>20.277599334716797</td><td>0.07236599922180176</td><td>False</td><td>50.54989354861975</td><td>2.4615771411078557</td><td>19.64069938659668</td><td>0.05287100002169609</td><td>46.17425232026751</td><td>2.1689309189270753</td><td>19.73900032043457</td><td>0.050999999046325684</td><td>False</td><td>56.20304254173385</td><td>12.789039989541005</td><td>19.52560043334961</td><td>0.24706000089645386</td><td>60.77993389338847</td><td>7.325257435748011</td><td>19.44059944152832</td><td>0.13085399568080902</td><td>False</td><td>False</td><td>0</td><td>1</td><td>1</td><td>0.03473304497584016</td><td>False</td><td>-99</td><td>nan</td><td>False</td><td>SPIRE-NEP</td><td>8001640051001043</td><td>SPIRE-NEP</td><td>0.50295585</td><td>0.03041537</td></tr>\n",
       "<tr><td>HELP_J173939.413+690420.877</td><td>N/A</td><td>264.914219866941</td><td>69.0724658362451</td><td>190678790</td><td>4.910438772852296</td><td>0.6748925782671196</td><td>22.172199249267578</td><td>0.14922399818897247</td><td>5.707423834043028</td><td>0.6036883115322825</td><td>22.008899688720703</td><td>0.11484099924564362</td><td>False</td><td>18.66035718098436</td><td>1.2491727619328588</td><td>20.722700119018555</td><td>0.07268200069665909</td><td>17.593812318448553</td><td>1.2518623988453534</td><td>20.78660011291504</td><td>0.07725399732589722</td><td>False</td><td>30.52389089787366</td><td>0.8141682101191825</td><td>20.188400268554688</td><td>0.028960000723600388</td><td>29.21999143036795</td><td>1.461085425731126</td><td>20.23579978942871</td><td>0.05429000034928322</td><td>False</td><td>36.76886246337128</td><td>2.5818283334892453</td><td>19.986299514770508</td><td>0.0762379989027977</td><td>32.095202822587396</td><td>2.320284311553997</td><td>20.133899688720703</td><td>0.07849200069904327</td><td>False</td><td>56.63437852498159</td><td>5.7315814882448874</td><td>19.51729965209961</td><td>0.1098800003528595</td><td>51.9613091221371</td><td>6.4406999952352</td><td>19.61079978942871</td><td>0.13457900285720825</td><td>False</td><td>False</td><td>0</td><td>1</td><td>1</td><td>0.036999962524699954</td><td>False</td><td>-99</td><td>nan</td><td>False</td><td>SPIRE-NEP</td><td>8001640050002958</td><td>SPIRE-NEP</td><td>0.30261317</td><td>0.057930544</td></tr>\n",
       "<tr><td>HELP_J173958.207+691112.319</td><td>N/A</td><td>264.992529086941</td><td>69.1867552262451</td><td>190680342</td><td>14.733972493183202</td><td>0.4178082604678024</td><td>20.97920036315918</td><td>0.03078800067305565</td><td>15.08551107692963</td><td>0.9692642478348065</td><td>20.95359992980957</td><td>0.06976000219583511</td><td>False</td><td>39.62053902096883</td><td>1.3602343195957272</td><td>19.90519905090332</td><td>0.03727500140666962</td><td>38.416704857562316</td><td>1.7286056448805491</td><td>19.93869972229004</td><td>0.048854000866413116</td><td>False</td><td>71.92507784064239</td><td>1.0992769219770466</td><td>19.25779914855957</td><td>0.016594000160694122</td><td>67.77663719576648</td><td>1.0654004906929126</td><td>19.32229995727539</td><td>0.01706700026988983</td><td>False</td><td>95.67534089564882</td><td>6.586900262435276</td><td>18.947999954223633</td><td>0.07474900037050247</td><td>91.94332442716211</td><td>5.836178019994032</td><td>18.991199493408203</td><td>0.06891799718141556</td><td>False</td><td>112.55368301796825</td><td>6.7505078016756626</td><td>18.7716007232666</td><td>0.06511799991130829</td><td>98.97378341650159</td><td>7.906699755540538</td><td>18.91119956970215</td><td>0.08673600107431412</td><td>False</td><td>False</td><td>0</td><td>1</td><td>1</td><td>0.03276399132534923</td><td>False</td><td>-99</td><td>nan</td><td>False</td><td>SPIRE-NEP</td><td>8001640566000002</td><td>SPIRE-NEP</td><td>0.22682534</td><td>0.018976538</td></tr>\n",
       "<tr><td>HELP_J174050.773+690459.110</td><td>N/A</td><td>265.211555586941</td><td>69.0830860062451</td><td>190678398</td><td>4.169842283498825</td><td>0.4433703677854053</td><td>22.349700927734375</td><td>0.11544399708509445</td><td>4.629348403991781</td><td>0.9861799032603649</td><td>22.2362003326416</td><td>0.2312919944524765</td><td>False</td><td>13.859885534467399</td><td>1.3485013284822893</td><td>21.04560089111328</td><td>0.10563699901103973</td><td>11.757643338729517</td><td>1.2285391184880639</td><td>21.224199295043945</td><td>0.11344700306653976</td><td>False</td><td>20.908375059843994</td><td>1.0543000094139068</td><td>20.599199295043945</td><td>0.05474799871444702</td><td>19.655317883823333</td><td>0.9360087328850014</td><td>20.66629981994629</td><td>0.05170400068163872</td><td>False</td><td>25.241802324137538</td><td>1.882296316550732</td><td>20.394699096679688</td><td>0.08096399903297424</td><td>23.977273916488596</td><td>2.9582689567586358</td><td>20.45050048828125</td><td>0.13395600020885468</td><td>False</td><td>40.42037531943543</td><td>5.834271085594309</td><td>19.883499145507812</td><td>0.1567150056362152</td><td>42.10371075902233</td><td>5.766352492829712</td><td>19.83919906616211</td><td>0.14869800209999084</td><td>False</td><td>False</td><td>0</td><td>1</td><td>1</td><td>0.03557179064357259</td><td>False</td><td>-99</td><td>nan</td><td>False</td><td>SPIRE-NEP</td><td>8001640051003085</td><td>SPIRE-NEP</td><td>0.47569743</td><td>0.073396645</td></tr>\n",
       "<tr><td>HELP_J173947.042+684816.992</td><td>N/A</td><td>264.946006506941</td><td>68.8047200662451</td><td>190655776</td><td>20.95463303971427</td><td>0.8242807296415293</td><td>20.596799850463867</td><td>0.042709000408649445</td><td>20.00046252094232</td><td>0.875149963528671</td><td>20.64739990234375</td><td>0.04750800132751465</td><td>False</td><td>52.316693649339314</td><td>1.1601130212363455</td><td>19.6033992767334</td><td>0.024075999855995178</td><td>60.79114620966465</td><td>2.554128396959232</td><td>19.440399169921875</td><td>0.0456169992685318</td><td>False</td><td>91.33560423201888</td><td>1.9065681569539956</td><td>18.99839973449707</td><td>0.02266399934887886</td><td>92.73427808006623</td><td>2.8690551003909173</td><td>18.98189926147461</td><td>0.033590998500585556</td><td>False</td><td>108.09357889617766</td><td>3.6876232255076324</td><td>18.815500259399414</td><td>0.037039998918771744</td><td>109.69837526386222</td><td>4.642904617924522</td><td>18.79949951171875</td><td>0.04595300182700157</td><td>False</td><td>138.4842231378495</td><td>5.982415793009024</td><td>18.546499252319336</td><td>0.04690299928188324</td><td>128.43403138880507</td><td>10.253796977390905</td><td>18.628299713134766</td><td>0.08668199926614761</td><td>False</td><td>False</td><td>0</td><td>1</td><td>1</td><td>0.038121629930974885</td><td>False</td><td>-99</td><td>nan</td><td>False</td><td>SPIRE-NEP</td><td>8001639529002496</td><td>SPIRE-NEP</td><td>0.15292935</td><td>0.0909265</td></tr>\n",
       "<tr><td>HELP_J174119.098+690232.462</td><td>N/A</td><td>265.329575416941</td><td>69.0423505462451</td><td>190659214</td><td>4.676487079319361</td><td>1.0354345284161102</td><td>22.225200653076172</td><td>0.24039599299430847</td><td>4.549460512733262</td><td>0.7958210680819798</td><td>22.25510025024414</td><td>0.18992400169372559</td><td>False</td><td>8.47851322930739</td><td>1.38858843082302</td><td>21.579200744628906</td><td>0.17781899869441986</td><td>7.8726300307712895</td><td>1.2118094989077763</td><td>21.659700393676758</td><td>0.16712400317192078</td><td>False</td><td>9.601967451869363</td><td>1.011104672799382</td><td>21.44409942626953</td><td>0.1143300011754036</td><td>8.540431178689213</td><td>0.9586013659116319</td><td>21.571300506591797</td><td>0.12186600267887115</td><td>False</td><td>4.35471418235514</td><td>2.180344822941276</td><td>22.302600860595703</td><td>0.5436130166053772</td><td>7.2764628869895835</td><td>2.5651675327652645</td><td>21.74519920349121</td><td>0.38275399804115295</td><td>False</td><td>18.59686977193984</td><td>6.032074028075095</td><td>20.72640037536621</td><td>0.352169007062912</td><td>25.73712296893101</td><td>13.383948190816154</td><td>20.373600006103516</td><td>0.5646100044250488</td><td>False</td><td>False</td><td>0</td><td>1</td><td>1</td><td>0.035215415273923155</td><td>False</td><td>-99</td><td>nan</td><td>False</td><td>SPIRE-NEP</td><td>8001640051002389</td><td>SPIRE-NEP</td><td>0.5291203</td><td>0.17232905</td></tr>\n",
       "<tr><td>HELP_J173844.368+685238.248</td><td>N/A</td><td>264.684868056941</td><td>68.8772909762451</td><td>190656158</td><td>3.5753593830719037</td><td>2.9349470886396536</td><td>22.516700744628906</td><td>0.8912609815597534</td><td>7.364101248836548</td><td>2.6851722512294534</td><td>21.732200622558594</td><td>0.3958919942378998</td><td>False</td><td>2.885095658808567</td><td>1.0503342950926355</td><td>22.74959945678711</td><td>0.3952679932117462</td><td>2.987581931497587</td><td>1.861193017386228</td><td>22.711700439453125</td><td>0.6763880252838135</td><td>False</td><td>6.035592492610112</td><td>1.6476056796901175</td><td>21.948200225830078</td><td>0.2963860034942627</td><td>5.708476705230117</td><td>0.9518069512780661</td><td>22.008699417114258</td><td>0.1810310035943985</td><td>False</td><td>10.321902813446956</td><td>2.180732306088756</td><td>21.3656005859375</td><td>0.22938600182533264</td><td>9.402428753725335</td><td>3.0739903927548653</td><td>21.466899871826172</td><td>0.35496601462364197</td><td>False</td><td>35.0816455288365</td><td>7.386060444854151</td><td>20.03730010986328</td><td>0.2285899966955185</td><td>41.40760178903954</td><td>13.914237513582481</td><td>19.8572998046875</td><td>0.3648410141468048</td><td>False</td><td>False</td><td>0</td><td>1</td><td>1</td><td>0.03767305539268702</td><td>False</td><td>-99</td><td>nan</td><td>False</td><td>SPIRE-NEP</td><td>8001640050000041</td><td>SPIRE-NEP</td><td>0.6860686</td><td>0.041592896</td></tr>\n",
       "<tr><td>HELP_J173843.343+685758.776</td><td>N/A</td><td>264.680595476941</td><td>68.9663265362451</td><td>190678167</td><td>60.59549508255848</td><td>1.0286994206996187</td><td>19.443899154663086</td><td>0.018432000651955605</td><td>60.056501311899034</td><td>1.0114732497627643</td><td>19.45359992980957</td><td>0.018285999074578285</td><td>False</td><td>126.00852642884853</td><td>1.895925757520672</td><td>18.64900016784668</td><td>0.016335999593138695</td><td>124.45141745154817</td><td>1.7680751070649856</td><td>18.662500381469727</td><td>0.015425000339746475</td><td>False</td><td>172.61549299204407</td><td>1.5281613020627187</td><td>18.307300567626953</td><td>0.009611999616026878</td><td>177.20679756722177</td><td>2.4911274612986576</td><td>18.278799057006836</td><td>0.015262999571859837</td><td>False</td><td>215.3573953788391</td><td>3.0577865975891907</td><td>18.067100524902344</td><td>0.015416000038385391</td><td>202.50703943492957</td><td>4.166205276654839</td><td>18.133899688720703</td><td>0.02233700081706047</td><td>False</td><td>243.9381147449104</td><td>6.120829272089865</td><td>17.931800842285156</td><td>0.027242999523878098</td><td>226.98643733782902</td><td>5.688374484259615</td><td>18.010000228881836</td><td>0.027209000661969185</td><td>False</td><td>False</td><td>3</td><td>1</td><td>1</td><td>0.03664853207157696</td><td>False</td><td>-99</td><td>nan</td><td>False</td><td>SPIRE-NEP</td><td>8001640050001244</td><td>SPIRE-NEP</td><td>0.14008436</td><td>0.02509625</td></tr>\n",
       "<tr><td>HELP_J173826.930+690627.465</td><td>N/A</td><td>264.612206826941</td><td>69.1076292562451</td><td>190680094</td><td>6.767681486029148</td><td>1.0181851746352966</td><td>21.82390022277832</td><td>0.1633470058441162</td><td>6.295647084451664</td><td>0.9122614143172834</td><td>21.90239906311035</td><td>0.15732699632644653</td><td>False</td><td>38.356620180357154</td><td>1.1634488977061912</td><td>19.940399169921875</td><td>0.03293300047516823</td><td>39.28619425353453</td><td>1.092718285622665</td><td>19.914400100708008</td><td>0.030199000611901283</td><td>False</td><td>64.7858412568914</td><td>1.1869549221364823</td><td>19.371299743652344</td><td>0.019891999661922455</td><td>68.1145510805968</td><td>2.1253013865898525</td><td>19.3169002532959</td><td>0.03387700021266937</td><td>False</td><td>88.75654299368614</td><td>1.3354319805115604</td><td>19.029499053955078</td><td>0.016335999593138695</td><td>81.3204718938092</td><td>4.291184085826378</td><td>19.124500274658203</td><td>0.05729300156235695</td><td>False</td><td>114.48806713753143</td><td>5.876056821833679</td><td>18.75309944152832</td><td>0.05572500079870224</td><td>115.00592485687801</td><td>7.689050208915688</td><td>18.748199462890625</td><td>0.07259000092744827</td><td>False</td><td>False</td><td>0</td><td>1</td><td>1</td><td>0.035344549093520014</td><td>False</td><td>-99</td><td>nan</td><td>False</td><td>SPIRE-NEP</td><td>8001640050003607</td><td>SPIRE-NEP</td><td>0.4366194</td><td>0.020382809</td></tr>\n",
       "<tr><td>...</td><td>...</td><td>...</td><td>...</td><td>...</td><td>...</td><td>...</td><td>...</td><td>...</td><td>...</td><td>...</td><td>...</td><td>...</td><td>...</td><td>...</td><td>...</td><td>...</td><td>...</td><td>...</td><td>...</td><td>...</td><td>...</td><td>...</td><td>...</td><td>...</td><td>...</td><td>...</td><td>...</td><td>...</td><td>...</td><td>...</td><td>...</td><td>...</td><td>...</td><td>...</td><td>...</td><td>...</td><td>...</td><td>...</td><td>...</td><td>...</td><td>...</td><td>...</td><td>...</td><td>...</td><td>...</td><td>...</td><td>...</td><td>...</td><td>...</td><td>...</td><td>...</td><td>...</td><td>...</td><td>...</td><td>...</td><td>...</td><td>...</td><td>...</td><td>...</td><td>...</td><td>...</td><td>...</td><td>...</td></tr>\n",
       "<tr><td>HELP_J173947.585+685013.774</td><td>N/A</td><td>264.948272416941</td><td>68.8371594462451</td><td>190655881</td><td>3.453662354308141</td><td>1.7187799739647893</td><td>22.55430030822754</td><td>0.5403370261192322</td><td>3.558934849810593</td><td>0.9212669115693227</td><td>22.521699905395508</td><td>0.28105399012565613</td><td>False</td><td>12.70340474705146</td><td>0.9250349190334316</td><td>21.140199661254883</td><td>0.07906100153923035</td><td>10.951660706895739</td><td>0.8584112956650538</td><td>21.301300048828125</td><td>0.08510199934244156</td><td>False</td><td>19.154910223757657</td><td>1.0075354681784487</td><td>20.694299697875977</td><td>0.05710899829864502</td><td>17.25203020976356</td><td>0.7576371224156804</td><td>20.807899475097656</td><td>0.04768100008368492</td><td>False</td><td>23.76842290853143</td><td>2.1305708999118567</td><td>20.459999084472656</td><td>0.09732399880886078</td><td>19.424953388346992</td><td>2.5244441406230536</td><td>20.679100036621094</td><td>0.14110100269317627</td><td>False</td><td>24.375862500739494</td><td>6.679509091541611</td><td>20.432600021362305</td><td>0.29751500487327576</td><td>21.426944050574598</td><td>9.128418399931011</td><td>20.572599411010742</td><td>0.4625509977340698</td><td>False</td><td>False</td><td>0</td><td>1</td><td>1</td><td>0.03817209137776911</td><td>False</td><td>-99</td><td>nan</td><td>False</td><td>SPIRE-NEP</td><td>8001639529002928</td><td>SPIRE-NEP</td><td>0.4144265</td><td>0.06463276</td></tr>\n",
       "<tr><td>HELP_J173927.182+690510.628</td><td>N/A</td><td>264.863257296941</td><td>69.0862855562451</td><td>190678818</td><td>2.6695608175191365</td><td>0.7860348898997062</td><td>22.833900451660156</td><td>0.31968799233436584</td><td>1.1316711523967429</td><td>2.4243971314568467</td><td>23.76569938659668</td><td>2.3259899616241455</td><td>False</td><td>6.9240413000017265</td><td>0.9335951899485524</td><td>21.799100875854492</td><td>0.14639399945735931</td><td>7.3566534439832685</td><td>0.6669755694362243</td><td>21.733299255371094</td><td>0.09843599796295166</td><td>False</td><td>9.754386993142509</td><td>1.0606924721479323</td><td>21.427000045776367</td><td>0.11806300282478333</td><td>7.91772035132123</td><td>0.9675311538092243</td><td>21.653499603271484</td><td>0.13267500698566437</td><td>False</td><td>15.729694064735892</td><td>2.1600843364186777</td><td>20.908199310302734</td><td>0.14909900724887848</td><td>15.579731436884542</td><td>3.1178942934095524</td><td>20.91860008239746</td><td>0.2172829955816269</td><td>False</td><td>24.154627015063674</td><td>8.8408727745422</td><td>20.4424991607666</td><td>0.39739200472831726</td><td>36.18097155257321</td><td>8.786747674453942</td><td>20.003799438476562</td><td>0.2636770009994507</td><td>False</td><td>False</td><td>0</td><td>1</td><td>1</td><td>0.03663130959864122</td><td>False</td><td>-99</td><td>nan</td><td>False</td><td>SPIRE-NEP</td><td>8001640050003178</td><td>SPIRE-NEP</td><td>0.55973434</td><td>0.15050231</td></tr>\n",
       "<tr><td>HELP_J174119.832+684959.442</td><td>N/A</td><td>265.332634786941</td><td>68.8331784562451</td><td>190657154</td><td>3.6177603013115434</td><td>1.0511813600294582</td><td>22.5039005279541</td><td>0.3154729902744293</td><td>3.6438476536947566</td><td>0.8261528797688156</td><td>22.4960994720459</td><td>0.2461639940738678</td><td>False</td><td>4.114149701683609</td><td>0.43566396371602545</td><td>22.364299774169922</td><td>0.11497300118207932</td><td>4.73849316797034</td><td>0.5518936591640552</td><td>22.210899353027344</td><td>0.12645600736141205</td><td>False</td><td>8.964377597535554</td><td>0.964466142817052</td><td>21.518699645996094</td><td>0.11681299656629562</td><td>8.476175117755615</td><td>1.4974545658933465</td><td>21.579500198364258</td><td>0.19181300699710846</td><td>False</td><td>12.963428574130125</td><td>2.732736127609751</td><td>21.118200302124023</td><td>0.228876993060112</td><td>11.185098977493197</td><td>1.7318142830908434</td><td>21.278400421142578</td><td>0.16810700297355652</td><td>False</td><td>58.77603519147646</td><td>5.169000647593023</td><td>19.476999282836914</td><td>0.09548400342464447</td><td>41.285720272871984</td><td>8.12484413107633</td><td>19.86050033569336</td><td>0.21366800367832184</td><td>False</td><td>False</td><td>0</td><td>1</td><td>1</td><td>0.0349363922561438</td><td>False</td><td>-99</td><td>nan</td><td>False</td><td>SPIRE-NEP</td><td>8001639529002899</td><td>SPIRE-NEP</td><td>0.9047419</td><td>0.059647325</td></tr>\n",
       "<tr><td>HELP_J174005.066+685438.645</td><td>N/A</td><td>265.021109306941</td><td>68.9107347262451</td><td>190656282</td><td>10.403988407539485</td><td>1.4179788136050955</td><td>21.35700035095215</td><td>0.14797699451446533</td><td>10.847250550399176</td><td>1.2518929745724177</td><td>21.31170082092285</td><td>0.12530599534511566</td><td>False</td><td>19.88841431897104</td><td>0.6746118636253676</td><td>20.653499603271484</td><td>0.03682800009846687</td><td>21.6431102442369</td><td>2.097061136984921</td><td>20.56170082092285</td><td>0.10520000010728836</td><td>False</td><td>24.190212249194307</td><td>1.4097229494526422</td><td>20.440900802612305</td><td>0.06327299773693085</td><td>24.53352650930406</td><td>1.4142291907086395</td><td>20.425600051879883</td><td>0.06258700042963028</td><td>False</td><td>27.24706147673248</td><td>1.7379365961901578</td><td>20.31170082092285</td><td>0.06925299763679504</td><td>26.717752765327095</td><td>1.0972196965703418</td><td>20.33300018310547</td><td>0.04458799958229065</td><td>False</td><td>31.111437239920363</td><td>5.515798904693628</td><td>20.167699813842773</td><td>0.19249199330806732</td><td>32.151409152029956</td><td>8.69548653115547</td><td>20.131999969482422</td><td>0.2936420142650604</td><td>False</td><td>False</td><td>0</td><td>1</td><td>1</td><td>0.036466296347799854</td><td>False</td><td>-99</td><td>nan</td><td>False</td><td>SPIRE-NEP</td><td>8001640050000556</td><td>SPIRE-NEP</td><td>0.26271647</td><td>0.050549958</td></tr>\n",
       "<tr><td>HELP_J173926.131+690235.832</td><td>N/A</td><td>264.858880156941</td><td>69.0432867462451</td><td>190678271</td><td>3.300652881998641</td><td>0.3318114194026103</td><td>22.603500366210938</td><td>0.10914800316095352</td><td>2.6565645533274864</td><td>1.968026143597854</td><td>22.83919906616211</td><td>0.8043310046195984</td><td>False</td><td>6.571730551191711</td><td>0.9503239303476955</td><td>21.85580062866211</td><td>0.15700599551200867</td><td>5.706892458528158</td><td>1.3213404631754708</td><td>22.009000778198242</td><td>0.25138500332832336</td><td>False</td><td>11.26989080770685</td><td>1.1401963552774812</td><td>21.270200729370117</td><td>0.10984600335359573</td><td>9.973319260888186</td><td>1.3874825304020395</td><td>21.40290069580078</td><td>0.1510470062494278</td><td>False</td><td>16.03097814239533</td><td>2.410812142659244</td><td>20.88759994506836</td><td>0.1632779985666275</td><td>18.479077967259812</td><td>2.330206104254347</td><td>20.733299255371094</td><td>0.13691100478172302</td><td>False</td><td>27.196944253840908</td><td>5.575726202764146</td><td>20.31369972229004</td><td>0.22258999943733215</td><td>30.786476389065598</td><td>5.208034944637342</td><td>20.179100036621094</td><td>0.18366999924182892</td><td>False</td><td>False</td><td>0</td><td>1</td><td>1</td><td>0.037945108770921845</td><td>False</td><td>-99</td><td>nan</td><td>False</td><td>SPIRE-NEP</td><td>8001640050002431</td><td>SPIRE-NEP</td><td>0.7267971</td><td>0.04348953</td></tr>\n",
       "<tr><td>HELP_J174134.881+690443.593</td><td>N/A</td><td>265.395337026941</td><td>69.0787759062451</td><td>190659259</td><td>2.9058947257977747</td><td>0.8844844777210676</td><td>22.74180030822754</td><td>0.3304719924926758</td><td>4.9403767681133814</td><td>1.1731694782645405</td><td>22.165599822998047</td><td>0.25782498717308044</td><td>False</td><td>4.20842624627544</td><td>1.2040457710175738</td><td>22.33970069885254</td><td>0.31063300371170044</td><td>7.3154265562921985</td><td>2.704003277692896</td><td>21.73940086364746</td><td>0.4013209939002991</td><td>False</td><td>5.168918186292642</td><td>1.850674796392565</td><td>22.116500854492188</td><td>0.3887360095977783</td><td>7.962327543973608</td><td>2.10415654152504</td><td>21.64739990234375</td><td>0.2869209945201874</td><td>False</td><td>12.680016305418993</td><td>5.40637436479234</td><td>21.142200469970703</td><td>0.462924987077713</td><td>9.534111857628217</td><td>3.3519931096362034</td><td>21.451799392700195</td><td>0.38172200322151184</td><td>False</td><td>22.20852026325277</td><td>5.43189584218816</td><td>20.533700942993164</td><td>0.2655560076236725</td><td>25.694477028434136</td><td>4.5076602284868486</td><td>20.37540054321289</td><td>0.1904740035533905</td><td>False</td><td>False</td><td>0</td><td>1</td><td>1</td><td>0.034130657629103237</td><td>False</td><td>-99</td><td>nan</td><td>False</td><td>SPIRE-NEP</td><td>8001640051002918</td><td>SPIRE-NEP</td><td>0.39985707</td><td>0.16041511</td></tr>\n",
       "<tr><td>HELP_J174040.337+690510.801</td><td>N/A</td><td>265.168070876941</td><td>69.0863337162451</td><td>190678482</td><td>2.3676656503659776</td><td>0.4575262478906762</td><td>22.96419906616211</td><td>0.20980699360370636</td><td>4.992980072721993</td><td>2.23200422117548</td><td>22.15410041809082</td><td>0.4853549897670746</td><td>False</td><td>3.2821616985886566</td><td>1.2462064315274841</td><td>22.609600067138672</td><td>0.4122439920902252</td><td>2.630992614097643</td><td>1.4774965168219667</td><td>22.849700927734375</td><td>0.6097210049629211</td><td>False</td><td>4.603834037082969</td><td>1.0998585535802292</td><td>22.24220085144043</td><td>0.2593829929828644</td><td>5.106462149991792</td><td>0.7900901432761661</td><td>22.12969970703125</td><td>0.16798900067806244</td><td>False</td><td>8.483981267454688</td><td>3.421735000922802</td><td>21.578500747680664</td><td>0.4378960132598877</td><td>6.534913873010906</td><td>4.304478878500504</td><td>21.861900329589844</td><td>0.715162992477417</td><td>False</td><td>16.686283544790502</td><td>6.225757404454292</td><td>20.844100952148438</td><td>0.40509501099586487</td><td>27.966631965640698</td><td>15.577206169670657</td><td>20.28339958190918</td><td>0.6047469973564148</td><td>False</td><td>False</td><td>0</td><td>1</td><td>1</td><td>0.0357187899770762</td><td>False</td><td>-99</td><td>nan</td><td>False</td><td>SPIRE-NEP</td><td>8001640051003131</td><td>SPIRE-NEP</td><td>0.4689007</td><td>0.10516504</td></tr>\n",
       "<tr><td>HELP_J173945.416+690832.090</td><td>N/A</td><td>264.939232116941</td><td>69.1422471962451</td><td>190678927</td><td>3.5033238495898207</td><td>0.2967255331731354</td><td>22.538799285888672</td><td>0.09195999801158905</td><td>2.045690820271964</td><td>0.40614380819113366</td><td>23.122900009155273</td><td>0.2155580073595047</td><td>False</td><td>1.7043543994912655</td><td>1.2665817980237117</td><td>23.32110023498535</td><td>0.806859016418457</td><td>3.850528344860353</td><td>1.7599133480503923</td><td>22.436199188232422</td><td>0.49624401330947876</td><td>False</td><td>6.399707512040883</td><td>0.6784277149998174</td><td>21.884599685668945</td><td>0.1150979995727539</td><td>7.4445775338944165</td><td>1.0213548417858103</td><td>21.720399856567383</td><td>0.1489569991827011</td><td>False</td><td>9.77687798656649</td><td>2.973244222635515</td><td>21.42449951171875</td><td>0.3301829993724823</td><td>9.416297201867758</td><td>1.4296822308704704</td><td>21.465299606323242</td><td>0.16484799981117249</td><td>False</td><td>27.89460218237325</td><td>3.6583694456857665</td><td>20.28619956970215</td><td>0.14239400625228882</td><td>20.636697480036663</td><td>11.143558736253855</td><td>20.613399505615234</td><td>0.5862839818000793</td><td>False</td><td>False</td><td>0</td><td>1</td><td>1</td><td>0.03437361293845513</td><td>False</td><td>-99</td><td>nan</td><td>False</td><td>SPIRE-NEP</td><td>8001640566000681</td><td>SPIRE-NEP</td><td>0.7715108</td><td>0.032163795</td></tr>\n",
       "<tr><td>HELP_J173848.724+685140.459</td><td>N/A</td><td>264.703017136941</td><td>68.8612385062451</td><td>190656063</td><td>7.456239276663972</td><td>0.832561594927391</td><td>21.718700408935547</td><td>0.1212330013513565</td><td>10.086951164404272</td><td>1.3970105524872414</td><td>21.390600204467773</td><td>0.1503710001707077</td><td>False</td><td>8.199742257429955</td><td>1.073505805375032</td><td>21.61549949645996</td><td>0.14214399456977844</td><td>6.696992642018026</td><td>0.9906493497817376</td><td>21.83530044555664</td><td>0.1606069952249527</td><td>False</td><td>5.931989565424739</td><td>1.9102696133445365</td><td>21.966999053955078</td><td>0.3496379852294922</td><td>7.704060160864142</td><td>1.2049069051724033</td><td>21.68320083618164</td><td>0.16980800032615662</td><td>False</td><td>17.422894236196814</td><td>6.137221229713561</td><td>20.797199249267578</td><td>0.38245099782943726</td><td>21.873596503361284</td><td>3.7304349061726927</td><td>20.550199508666992</td><td>0.18516699969768524</td><td>False</td><td>13.732838570030227</td><td>3.0948765560329394</td><td>21.055599212646484</td><td>0.24468499422073364</td><td>8.525500999855025</td><td>8.52490246804712</td><td>21.573200225830078</td><td>1.0856599807739258</td><td>False</td><td>False</td><td>0</td><td>1</td><td>1</td><td>0.03807313841197674</td><td>False</td><td>-99</td><td>nan</td><td>False</td><td>SPIRE-NEP</td><td>8001639528003883</td><td>SPIRE-NEP</td><td>0.36208606</td><td>0.17692764</td></tr>\n",
       "<tr><td>HELP_J174022.168+685159.844</td><td>N/A</td><td>265.092368536941</td><td>68.8666232162451</td><td>190655893</td><td>1.8010261538443324</td><td>1.7942977940619405</td><td>23.261199951171875</td><td>1.0816800594329834</td><td>3.205384458934204</td><td>1.253603915726672</td><td>22.635299682617188</td><td>0.4246239960193634</td><td>False</td><td>6.871318826429036</td><td>1.3365177417964775</td><td>21.80739974975586</td><td>0.21118299663066864</td><td>7.001639362524687</td><td>1.1141373029602992</td><td>21.78700065612793</td><td>0.1727679967880249</td><td>False</td><td>4.459028671764571</td><td>1.1892400230705036</td><td>22.276899337768555</td><td>0.28957000374794006</td><td>3.7386923260552116</td><td>0.820115797140734</td><td>22.46820068359375</td><td>0.23816600441932678</td><td>False</td><td>11.288595803813983</td><td>5.064487663432119</td><td>21.268400192260742</td><td>0.4871020019054413</td><td>14.948594880849544</td><td>6.2093734114095565</td><td>20.963499069213867</td><td>0.45099499821662903</td><td>False</td><td>43.13205098103595</td><td>21.116519572934855</td><td>19.812999725341797</td><td>0.5315529704093933</td><td>40.21243311594561</td><td>14.197585704873479</td><td>19.88909912109375</td><td>0.3833349943161011</td><td>False</td><td>False</td><td>0</td><td>1</td><td>1</td><td>0.036578775247151495</td><td>False</td><td>-99</td><td>nan</td><td>False</td><td>SPIRE-NEP</td><td>8001639529003378</td><td>SPIRE-NEP</td><td>0.503842</td><td>0.18686679</td></tr>\n",
       "</table>"
      ],
      "text/plain": [
       "<Table length=935>\n",
       "          help_id            field         ra        ...  photo_z    photo_zerr\n",
       "                                          deg        ...                       \n",
       "          bytes27           bytes18     float64      ...  float32     float32  \n",
       "--------------------------- ------- ---------------- ... ---------- -----------\n",
       "HELP_J174122.104+685743.508     N/A 265.342101596941 ... 0.50295585  0.03041537\n",
       "HELP_J173939.413+690420.877     N/A 264.914219866941 ... 0.30261317 0.057930544\n",
       "HELP_J173958.207+691112.319     N/A 264.992529086941 ... 0.22682534 0.018976538\n",
       "HELP_J174050.773+690459.110     N/A 265.211555586941 ... 0.47569743 0.073396645\n",
       "HELP_J173947.042+684816.992     N/A 264.946006506941 ... 0.15292935   0.0909265\n",
       "HELP_J174119.098+690232.462     N/A 265.329575416941 ...  0.5291203  0.17232905\n",
       "HELP_J173844.368+685238.248     N/A 264.684868056941 ...  0.6860686 0.041592896\n",
       "HELP_J173843.343+685758.776     N/A 264.680595476941 ... 0.14008436  0.02509625\n",
       "HELP_J173826.930+690627.465     N/A 264.612206826941 ...  0.4366194 0.020382809\n",
       "                        ...     ...              ... ...        ...         ...\n",
       "HELP_J173947.585+685013.774     N/A 264.948272416941 ...  0.4144265  0.06463276\n",
       "HELP_J173927.182+690510.628     N/A 264.863257296941 ... 0.55973434  0.15050231\n",
       "HELP_J174119.832+684959.442     N/A 265.332634786941 ...  0.9047419 0.059647325\n",
       "HELP_J174005.066+685438.645     N/A 265.021109306941 ... 0.26271647 0.050549958\n",
       "HELP_J173926.131+690235.832     N/A 264.858880156941 ...  0.7267971  0.04348953\n",
       "HELP_J174134.881+690443.593     N/A 265.395337026941 ... 0.39985707  0.16041511\n",
       "HELP_J174040.337+690510.801     N/A 265.168070876941 ...  0.4689007  0.10516504\n",
       "HELP_J173945.416+690832.090     N/A 264.939232116941 ...  0.7715108 0.032163795\n",
       "HELP_J173848.724+685140.459     N/A 264.703017136941 ... 0.36208606  0.17692764\n",
       "HELP_J174022.168+685159.844     N/A 265.092368536941 ...   0.503842  0.18686679"
      ]
     },
     "execution_count": 11,
     "metadata": {},
     "output_type": "execute_result"
    }
   ],
   "source": [
    "photoz[has_help & has_z]"
   ]
  }
 ],
 "metadata": {
  "anaconda-cloud": {},
  "kernelspec": {
   "display_name": "Python (herschelhelp_internal)",
   "language": "python",
   "name": "helpint"
  },
  "language_info": {
   "codemirror_mode": {
    "name": "ipython",
    "version": 3
   },
   "file_extension": ".py",
   "mimetype": "text/x-python",
   "name": "python",
   "nbconvert_exporter": "python",
   "pygments_lexer": "ipython3",
   "version": "3.7.2"
  }
 },
 "nbformat": 4,
 "nbformat_minor": 2
}
