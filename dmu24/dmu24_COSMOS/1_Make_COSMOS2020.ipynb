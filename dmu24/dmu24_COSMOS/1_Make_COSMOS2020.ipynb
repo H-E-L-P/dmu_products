{
 "cells": [
  {
   "cell_type": "markdown",
   "id": "d0bf4c9c-1fec-4d8d-8a2b-341487fd93c5",
   "metadata": {},
   "source": [
    "# COSMOS2020 public redshifts\n",
    "\n",
    "We want to use the public COSMOS2020 redhshifts. These are downloaded from:\n",
    "\n",
    "https://cosmos2020.calet.org/catalogues/PZ/\n",
    "\n",
    "Here we simply retrieve the medians from the p of z array and add in help_id from the masterlist cross id table"
   ]
  },
  {
   "cell_type": "code",
   "execution_count": 1,
   "id": "3ea20d1b-e285-4fe6-ad9d-58dd57de7c68",
   "metadata": {},
   "outputs": [],
   "source": [
    "from astropy.table import Table,join\n",
    "from astropy.io import fits\n",
    "import numpy as np"
   ]
  },
  {
   "cell_type": "code",
   "execution_count": 2,
   "id": "f87aefea-581b-4868-b8ed-a49a98c21135",
   "metadata": {},
   "outputs": [
    {
     "data": {
      "text/plain": [
       "(1720701, 52)"
      ]
     },
     "execution_count": 2,
     "metadata": {},
     "output_type": "execute_result"
    }
   ],
   "source": [
    "redshift_arrray=fits.open('./data/COSMOS2020_CLASSIC_R1_v2.0_EAZY_CZ.fits')[1].data\n",
    "redshift_arrray.shape"
   ]
  },
  {
   "cell_type": "code",
   "execution_count": 3,
   "id": "39b97d61-271b-4eb4-b4f6-c468414e6a79",
   "metadata": {},
   "outputs": [],
   "source": [
    "help_cat=Table.read('../../dmu1/dmu1_ml_COSMOS/data/dr2_master_list_cross_ident_cosmos_20210120.fits')['cosmos_id','help_id']\n",
    "help_cat=help_cat[help_cat['cosmos_id']>0]"
   ]
  },
  {
   "cell_type": "code",
   "execution_count": 4,
   "id": "1fafd2e3-16d8-4503-8fff-c1a4de3643cc",
   "metadata": {},
   "outputs": [
    {
     "data": {
      "text/html": [
       "<i>Table length=5</i>\n",
       "<table id=\"table140388546518992\" class=\"table-striped table-bordered table-condensed\">\n",
       "<thead><tr><th>cosmos_id</th><th>help_id</th></tr></thead>\n",
       "<thead><tr><th>int64</th><th>bytes27</th></tr></thead>\n",
       "<tr><td>471237</td><td>HELP_J100003.524+015224.355</td></tr>\n",
       "<tr><td>1222628</td><td>HELP_J100059.943+023449.651</td></tr>\n",
       "<tr><td>1458140</td><td>HELP_J095720.800+024839.961</td></tr>\n",
       "<tr><td>234355</td><td>HELP_J095822.549+013819.471</td></tr>\n",
       "<tr><td>568813</td><td>HELP_J095756.235+015804.767</td></tr>\n",
       "</table>"
      ],
      "text/plain": [
       "<Table length=5>\n",
       "cosmos_id           help_id          \n",
       "  int64             bytes27          \n",
       "--------- ---------------------------\n",
       "   471237 HELP_J100003.524+015224.355\n",
       "  1222628 HELP_J100059.943+023449.651\n",
       "  1458140 HELP_J095720.800+024839.961\n",
       "   234355 HELP_J095822.549+013819.471\n",
       "   568813 HELP_J095756.235+015804.767"
      ]
     },
     "execution_count": 4,
     "metadata": {},
     "output_type": "execute_result"
    }
   ],
   "source": [
    "help_cat[:5]"
   ]
  },
  {
   "cell_type": "code",
   "execution_count": 5,
   "id": "44ec1b44-3140-41a1-8cde-cb2e81f59a24",
   "metadata": {},
   "outputs": [],
   "source": [
    "# code from https://cosmos2020.calet.org/catalogues/PZ/eazy_zcdf_pdf.txt\n",
    "SIGMAS = np.array([-5. , -4.8, -4.6, -4.4, -4.2, -4. , -3.8, -3.6, -3.4, -3.2, -3. ,\n",
    "       -2.8, -2.6, -2.4, -2.2, -2. , -1.8, -1.6, -1.4, -1.2, -1. , -0.8,\n",
    "       -0.6, -0.4, -0.2,  0. ,  0.2,  0.4,  0.6,  0.8,  1. ,  1.2,  1.4,\n",
    "        1.6,  1.8,  2. ,  2.2,  2.4,  2.6,  2.8,  3. ,  3.2,  3.4,  3.6,\n",
    "        3.8,  4. ,  4.2,  4.4,  4.6,  4.8,  5. ])\n",
    "\n",
    "def zcdf_to_pdf(zcdf, sigmas=SIGMAS):\n",
    "    \"\"\"\n",
    "    Convert compressed redshift CDF to PDF\n",
    "    \n",
    "    Parameters\n",
    "    ----------\n",
    "    zcdf : array-like\n",
    "        Redshifts where ``cdf(z)`` for ``normal_cdf(mu=0, sigmas)``\n",
    "    \n",
    "    sigmas : array-like\n",
    "        Values where ``normal_cdf`` is evaluated\n",
    "    Returns\n",
    "    -------\n",
    "    pdf : array-like\n",
    "        Converted ``p(z)``\n",
    "        \n",
    "    \"\"\"\n",
    "    import scipy.stats\n",
    "    # Evaluate normal distribution at these values to get PDF(x)\n",
    "    pdf_y = scipy.stats.norm.pdf(sigmas)\n",
    "    return pdf_y / np.trapz(pdf_y, zcdf)"
   ]
  },
  {
   "cell_type": "code",
   "execution_count": 6,
   "id": "56fb8622-2d61-49d5-a4d4-df6623464739",
   "metadata": {},
   "outputs": [
    {
     "data": {
      "text/plain": [
       "array([-99. ,  -5. ,  -4.8,  -4.6,  -4.4,  -4.2,  -4. ,  -3.8,  -3.6,\n",
       "        -3.4,  -3.2,  -3. ,  -2.8,  -2.6,  -2.4,  -2.2,  -2. ,  -1.8,\n",
       "        -1.6,  -1.4,  -1.2,  -1. ,  -0.8,  -0.6,  -0.4,  -0.2,   0. ,\n",
       "         0.2,   0.4,   0.6,   0.8,   1. ,   1.2,   1.4,   1.6,   1.8,\n",
       "         2. ,   2.2,   2.4,   2.6,   2.8,   3. ,   3.2,   3.4,   3.6,\n",
       "         3.8,   4. ,   4.2,   4.4,   4.6,   4.8,   5. ])"
      ]
     },
     "execution_count": 6,
     "metadata": {},
     "output_type": "execute_result"
    }
   ],
   "source": [
    "#first row is sigma values 26th is 0 with -99 for id column\n",
    "redshift_arrray[0]"
   ]
  },
  {
   "cell_type": "code",
   "execution_count": 7,
   "id": "060c7ecd-05a5-4c7a-9b07-bfc3ec4169f5",
   "metadata": {},
   "outputs": [
    {
     "data": {
      "text/plain": [
       "51"
      ]
     },
     "execution_count": 7,
     "metadata": {},
     "output_type": "execute_result"
    }
   ],
   "source": [
    "len(SIGMAS)"
   ]
  },
  {
   "cell_type": "code",
   "execution_count": 8,
   "id": "6a9ccfb6-5762-471a-b60c-b8c2a04337f2",
   "metadata": {},
   "outputs": [
    {
     "data": {
      "text/plain": [
       "0.0"
      ]
     },
     "execution_count": 8,
     "metadata": {},
     "output_type": "execute_result"
    }
   ],
   "source": [
    "SIGMAS[25]"
   ]
  },
  {
   "cell_type": "code",
   "execution_count": 9,
   "id": "11a29fc3-0786-411c-8de4-e53cfa5e850e",
   "metadata": {},
   "outputs": [
    {
     "data": {
      "text/plain": [
       "(1720700,)"
      ]
     },
     "execution_count": 9,
     "metadata": {},
     "output_type": "execute_result"
    }
   ],
   "source": [
    "redshift_arrray[1:,26].shape"
   ]
  },
  {
   "cell_type": "code",
   "execution_count": 10,
   "id": "bb44c7b9-2ed8-45b1-9447-18b3c94295bd",
   "metadata": {},
   "outputs": [],
   "source": [
    "redshift_medians=redshift_arrray[1:,26]"
   ]
  },
  {
   "cell_type": "code",
   "execution_count": 11,
   "id": "6b8136ab-279d-4092-8410-7ce3c32e7dd2",
   "metadata": {},
   "outputs": [
    {
     "data": {
      "text/plain": [
       "array([ 0.140395  , 11.8382597 ,  0.        , ...,  6.59002638,\n",
       "        5.09726191,  2.88171339])"
      ]
     },
     "execution_count": 11,
     "metadata": {},
     "output_type": "execute_result"
    }
   ],
   "source": [
    "redshift_medians"
   ]
  },
  {
   "cell_type": "code",
   "execution_count": 12,
   "id": "3ac7ace2-3d3c-414c-b4d6-69a9c4e567d7",
   "metadata": {},
   "outputs": [
    {
     "data": {
      "text/plain": [
       "1720700.0"
      ]
     },
     "execution_count": 12,
     "metadata": {},
     "output_type": "execute_result"
    }
   ],
   "source": [
    "redshift_arrray[-1,0]"
   ]
  },
  {
   "cell_type": "code",
   "execution_count": 13,
   "id": "8ec06753-3e85-46b2-984d-16a851255201",
   "metadata": {},
   "outputs": [],
   "source": [
    "redshift=Table()\n",
    "redshift['cosmos_id']=redshift_arrray[1:,0] \n",
    "redshift['cosmos_id']=redshift['cosmos_id'].astype(int)\n",
    "redshift['redshift']=redshift_arrray[1:,26] \n",
    "redshift=redshift[redshift['cosmos_id']>0] # One string 'NaN' gets switched to a negative integer"
   ]
  },
  {
   "cell_type": "code",
   "execution_count": 14,
   "id": "187ebad8-977c-4209-a008-bf25d26ff0ba",
   "metadata": {},
   "outputs": [],
   "source": [
    "redshift=join(redshift,help_cat,join_type='left')"
   ]
  },
  {
   "cell_type": "code",
   "execution_count": 15,
   "id": "4d7cb1e7-9023-4313-adc8-9247f617e957",
   "metadata": {},
   "outputs": [
    {
     "data": {
      "text/html": [
       "<i>Table length=5</i>\n",
       "<table id=\"table140388391910368\" class=\"table-striped table-bordered table-condensed\">\n",
       "<thead><tr><th>cosmos_id</th><th>redshift</th><th>help_id</th></tr></thead>\n",
       "<thead><tr><th>int64</th><th>float64</th><th>bytes27</th></tr></thead>\n",
       "<tr><td>1</td><td>0.14039500057697296</td><td>HELP_J100402.048+012353.796</td></tr>\n",
       "<tr><td>2</td><td>11.83825969696045</td><td>HELP_J100406.918+012415.651</td></tr>\n",
       "<tr><td>3</td><td>0.0</td><td>HELP_J100401.849+012354.379</td></tr>\n",
       "<tr><td>4</td><td>1.8111978769302368</td><td>HELP_J100038.969+012329.823</td></tr>\n",
       "<tr><td>5</td><td>1.3386461734771729</td><td>HELP_J095809.643+012329.529</td></tr>\n",
       "</table>"
      ],
      "text/plain": [
       "<Table length=5>\n",
       "cosmos_id       redshift                help_id          \n",
       "  int64         float64                 bytes27          \n",
       "--------- ------------------- ---------------------------\n",
       "        1 0.14039500057697296 HELP_J100402.048+012353.796\n",
       "        2   11.83825969696045 HELP_J100406.918+012415.651\n",
       "        3                 0.0 HELP_J100401.849+012354.379\n",
       "        4  1.8111978769302368 HELP_J100038.969+012329.823\n",
       "        5  1.3386461734771729 HELP_J095809.643+012329.529"
      ]
     },
     "execution_count": 15,
     "metadata": {},
     "output_type": "execute_result"
    }
   ],
   "source": [
    "redshift[:5]"
   ]
  },
  {
   "cell_type": "code",
   "execution_count": 16,
   "id": "93cd8846-b22d-4fed-9d4f-7a49d9d36474",
   "metadata": {},
   "outputs": [
    {
     "data": {
      "text/plain": [
       "1720699"
      ]
     },
     "execution_count": 16,
     "metadata": {},
     "output_type": "execute_result"
    }
   ],
   "source": [
    "len(redshift)"
   ]
  },
  {
   "cell_type": "code",
   "execution_count": 17,
   "id": "6c6be3e1-e2c5-4b97-93a3-6c8f8549e547",
   "metadata": {},
   "outputs": [],
   "source": [
    "redshift.write('./data/COSMOS2020_eazy_classic_with_help_id.fits',overwrite=True)"
   ]
  },
  {
   "cell_type": "code",
   "execution_count": null,
   "id": "b60b5342-f53f-41fe-b56f-07667ed37012",
   "metadata": {},
   "outputs": [],
   "source": []
  }
 ],
 "metadata": {
  "kernelspec": {
   "display_name": "Python (herschelhelp_internal)",
   "language": "python",
   "name": "helpint"
  },
  "language_info": {
   "codemirror_mode": {
    "name": "ipython",
    "version": 3
   },
   "file_extension": ".py",
   "mimetype": "text/x-python",
   "name": "python",
   "nbconvert_exporter": "python",
   "pygments_lexer": "ipython3",
   "version": "3.6.12"
  }
 },
 "nbformat": 4,
 "nbformat_minor": 5
}
