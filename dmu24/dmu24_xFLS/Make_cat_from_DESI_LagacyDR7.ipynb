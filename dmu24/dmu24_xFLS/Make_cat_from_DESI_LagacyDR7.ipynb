{
 "cells": [
  {
   "cell_type": "markdown",
   "metadata": {},
   "source": [
    "# Use DESI Legacy Survey photo z\n",
    "\n"
   ]
  },
  {
   "cell_type": "code",
   "execution_count": 1,
   "metadata": {},
   "outputs": [
    {
     "name": "stderr",
     "output_type": "stream",
     "text": [
      "/Users/rs548/anaconda/envs/herschelhelp_internal/lib/python3.6/site-packages/seaborn/apionly.py:9: UserWarning: As seaborn no longer sets a default style on import, the seaborn.apionly module is deprecated. It will be removed in a future version.\n",
      "  warnings.warn(msg, UserWarning)\n"
     ]
    }
   ],
   "source": [
    "import pandas as pd\n",
    "from astropy.table import Table, Column, vstack\n",
    "from astropy.cosmology import Planck15\n",
    "import astropy.units as u\n",
    "from astropy.coordinates import SkyCoord\n",
    "from astropy.io import ascii\n",
    "\n",
    "import urllib.request, json \n",
    "\n",
    "import time\n",
    "import numpy as np\n",
    "import pyvo as vo\n",
    "%matplotlib inline\n",
    "#%config InlineBackend.figure_format = 'svg'\n",
    "import matplotlib as mpl\n",
    "import matplotlib.pyplot as plt\n",
    "\n",
    "from selenium import webdriver\n",
    "\n",
    "from herschelhelp_internal.masterlist import merge_catalogues, nb_merge_dist_plot\n",
    "from herschelhelp.utils import clean_table"
   ]
  },
  {
   "cell_type": "markdown",
   "metadata": {},
   "source": [
    "## 2. Cross match to desi-photoz objects"
   ]
  },
  {
   "cell_type": "code",
   "execution_count": 2,
   "metadata": {},
   "outputs": [],
   "source": [
    "cross_query = \"\"\"\n",
    "SELECT\n",
    "    db.ID,\n",
    "    db.RA,\n",
    "    db.DEC,\n",
    "    db.field,\n",
    "    db.photo_z,\n",
    "    db.photo_zerr\n",
    "FROM desi_photoz.main AS db\n",
    "WHERE db.field = 'xFLS'\n",
    "\"\"\"\n",
    "\n",
    "# construct a service; I’ve taken the URL from TOPCAT’s\n",
    "# TAP service browser # (\"Selected TAP Service\" near the\n",
    "# foot of the dialog)\n",
    "service = vo.dal.TAPService(\n",
    "    \"https://herschel-vos.phys.sussex.ac.uk/__system__/tap/run/tap\"\n",
    ")"
   ]
  },
  {
   "cell_type": "code",
   "execution_count": 3,
   "metadata": {},
   "outputs": [
    {
     "name": "stdout",
     "output_type": "stream",
     "text": [
      "Job COMPLETED running after 6 seconds.\n"
     ]
    },
    {
     "name": "stderr",
     "output_type": "stream",
     "text": [
      "WARNING: W27: None:3:464: W27: COOSYS deprecated in VOTable 1.2 [astropy.io.votable.tree]\n",
      "WARNING:astropy:W27: None:3:464: W27: COOSYS deprecated in VOTable 1.2\n"
     ]
    }
   ],
   "source": [
    "job = service.submit_job(cross_query)\n",
    "job.run()\n",
    "job_url = job.url\n",
    "job_result = vo.dal.tap.AsyncTAPJob(job_url)\n",
    "start_time = time.time()\n",
    "wait = 5.\n",
    "while job.phase == 'EXECUTING':\n",
    "    \n",
    "    time.sleep(wait) #wait and try again\n",
    "    #wait *= 2\n",
    "\n",
    "print('Job {} running after {} seconds.'.format(job.phase, round(time.time() - start_time)))\n",
    "\n",
    "result = job_result.fetch_result()\n",
    "desi_photoz = result.table"
   ]
  },
  {
   "cell_type": "code",
   "execution_count": 4,
   "metadata": {},
   "outputs": [
    {
     "name": "stdout",
     "output_type": "stream",
     "text": [
      "Converting column id type from object to string\n",
      "Converting column field type from object to string\n"
     ]
    }
   ],
   "source": [
    "desi_photoz = clean_table(desi_photoz)"
   ]
  },
  {
   "cell_type": "code",
   "execution_count": 5,
   "metadata": {},
   "outputs": [],
   "source": [
    "desi_photoz.write('./data/xFLS_DESI-DR7_Zou_et_al_2019_photo_z.fits', overwrite=True)"
   ]
  },
  {
   "cell_type": "code",
   "execution_count": 6,
   "metadata": {},
   "outputs": [
    {
     "data": {
      "text/html": [
       "<i>Table length=103891</i>\n",
       "<table id=\"table112219693408\" class=\"table-striped table-bordered table-condensed\">\n",
       "<thead><tr><th>id</th><th>ra</th><th>dec</th><th>field</th><th>photo_z</th><th>photo_zerr</th></tr></thead>\n",
       "<thead><tr><th></th><th>deg</th><th>deg</th><th></th><th></th><th></th></tr></thead>\n",
       "<thead><tr><th>str16</th><th>float64</th><th>float64</th><th>str4</th><th>float64</th><th>float64</th></tr></thead>\n",
       "<tr><td>6000611704001982</td><td>261.382817838785</td><td>57.9962796395365</td><td>xFLS</td><td>0.33817443</td><td>0.017848536</td></tr>\n",
       "<tr><td>6000611704002016</td><td>261.376526485794</td><td>57.9989368700766</td><td>xFLS</td><td>0.68625134</td><td>0.1327155</td></tr>\n",
       "<tr><td>6000611704002015</td><td>261.375239361985</td><td>57.9977106999728</td><td>xFLS</td><td>0.3545674</td><td>0.07556344</td></tr>\n",
       "<tr><td>6000611704002390</td><td>261.38912816096</td><td>58.0220231513563</td><td>xFLS</td><td>0.52487946</td><td>0.15016602</td></tr>\n",
       "<tr><td>6000611704002458</td><td>261.390080118927</td><td>58.0266581587461</td><td>xFLS</td><td>0.68780094</td><td>0.058417957</td></tr>\n",
       "<tr><td>6000611704002156</td><td>261.372148357715</td><td>58.0075256615317</td><td>xFLS</td><td>0.5403842</td><td>0.029961828</td></tr>\n",
       "<tr><td>6000611704002158</td><td>261.371454781765</td><td>58.0088503493568</td><td>xFLS</td><td>0.5139919</td><td>0.13940623</td></tr>\n",
       "<tr><td>6000611704002198</td><td>261.378094098632</td><td>58.0125932431422</td><td>xFLS</td><td>0.3059388</td><td>0.052124485</td></tr>\n",
       "<tr><td>6000611704002244</td><td>261.371679766991</td><td>58.0136917676842</td><td>xFLS</td><td>0.4578291</td><td>0.11890979</td></tr>\n",
       "<tr><td>...</td><td>...</td><td>...</td><td>...</td><td>...</td><td>...</td></tr>\n",
       "<tr><td>6000619789001007</td><td>256.248426312476</td><td>60.6963450451739</td><td>xFLS</td><td>0.9361176</td><td>0.12953088</td></tr>\n",
       "<tr><td>6000619789000840</td><td>256.233066817538</td><td>60.6841072771748</td><td>xFLS</td><td>0.6515025</td><td>0.03379956</td></tr>\n",
       "<tr><td>6000619789000948</td><td>256.237805312863</td><td>60.6911678200213</td><td>xFLS</td><td>0.31084293</td><td>0.06944033</td></tr>\n",
       "<tr><td>6000619789000095</td><td>256.235047839664</td><td>60.6298280471064</td><td>xFLS</td><td>0.73135453</td><td>0.05408472</td></tr>\n",
       "<tr><td>6000619080003677</td><td>256.211705120491</td><td>60.6167172341642</td><td>xFLS</td><td>1.0248888</td><td>0.12446689</td></tr>\n",
       "<tr><td>6000619789000298</td><td>256.220335545453</td><td>60.6429580326803</td><td>xFLS</td><td>0.9711461</td><td>0.11119057</td></tr>\n",
       "<tr><td>6000619789000456</td><td>256.188652658601</td><td>60.6555071119764</td><td>xFLS</td><td>0.58314097</td><td>0.06767992</td></tr>\n",
       "<tr><td>6000619789000547</td><td>256.205689906174</td><td>60.6638436676121</td><td>xFLS</td><td>0.71912915</td><td>0.048367012</td></tr>\n",
       "<tr><td>6000619789000592</td><td>256.207023850687</td><td>60.6686883904902</td><td>xFLS</td><td>0.33245033</td><td>0.08751767</td></tr>\n",
       "<tr><td>6000619789000593</td><td>256.204452438197</td><td>60.6673982766707</td><td>xFLS</td><td>0.7938581</td><td>0.059708185</td></tr>\n",
       "</table>"
      ],
      "text/plain": [
       "<Table length=103891>\n",
       "       id               ra              dec        field  photo_z    photo_zerr\n",
       "                       deg              deg                                    \n",
       "     str16           float64          float64       str4  float64     float64  \n",
       "---------------- ---------------- ---------------- ----- ---------- -----------\n",
       "6000611704001982 261.382817838785 57.9962796395365  xFLS 0.33817443 0.017848536\n",
       "6000611704002016 261.376526485794 57.9989368700766  xFLS 0.68625134   0.1327155\n",
       "6000611704002015 261.375239361985 57.9977106999728  xFLS  0.3545674  0.07556344\n",
       "6000611704002390  261.38912816096 58.0220231513563  xFLS 0.52487946  0.15016602\n",
       "6000611704002458 261.390080118927 58.0266581587461  xFLS 0.68780094 0.058417957\n",
       "6000611704002156 261.372148357715 58.0075256615317  xFLS  0.5403842 0.029961828\n",
       "6000611704002158 261.371454781765 58.0088503493568  xFLS  0.5139919  0.13940623\n",
       "6000611704002198 261.378094098632 58.0125932431422  xFLS  0.3059388 0.052124485\n",
       "6000611704002244 261.371679766991 58.0136917676842  xFLS  0.4578291  0.11890979\n",
       "             ...              ...              ...   ...        ...         ...\n",
       "6000619789001007 256.248426312476 60.6963450451739  xFLS  0.9361176  0.12953088\n",
       "6000619789000840 256.233066817538 60.6841072771748  xFLS  0.6515025  0.03379956\n",
       "6000619789000948 256.237805312863 60.6911678200213  xFLS 0.31084293  0.06944033\n",
       "6000619789000095 256.235047839664 60.6298280471064  xFLS 0.73135453  0.05408472\n",
       "6000619080003677 256.211705120491 60.6167172341642  xFLS  1.0248888  0.12446689\n",
       "6000619789000298 256.220335545453 60.6429580326803  xFLS  0.9711461  0.11119057\n",
       "6000619789000456 256.188652658601 60.6555071119764  xFLS 0.58314097  0.06767992\n",
       "6000619789000547 256.205689906174 60.6638436676121  xFLS 0.71912915 0.048367012\n",
       "6000619789000592 256.207023850687 60.6686883904902  xFLS 0.33245033  0.08751767\n",
       "6000619789000593 256.204452438197 60.6673982766707  xFLS  0.7938581 0.059708185"
      ]
     },
     "execution_count": 6,
     "metadata": {},
     "output_type": "execute_result"
    }
   ],
   "source": [
    "desi_photoz"
   ]
  },
  {
   "cell_type": "code",
   "execution_count": 7,
   "metadata": {},
   "outputs": [],
   "source": [
    "ml = Table.read('../../dmu1/dmu1_ml_xFLS/data/master_catalogue_xfls_20180501.fits')"
   ]
  },
  {
   "cell_type": "code",
   "execution_count": 8,
   "metadata": {},
   "outputs": [
    {
     "data": {
      "text/html": [
       "<i>Table length=977148</i>\n",
       "<table id=\"table4469874192\" class=\"table-striped table-bordered table-condensed\">\n",
       "<thead><tr><th>help_id</th><th>field</th><th>ra</th><th>dec</th><th>hp_idx</th><th>f_ap_wfc_u</th><th>ferr_ap_wfc_u</th><th>m_ap_wfc_u</th><th>merr_ap_wfc_u</th><th>f_wfc_u</th><th>ferr_wfc_u</th><th>m_wfc_u</th><th>merr_wfc_u</th><th>flag_wfc_u</th><th>f_ap_wfc_g</th><th>ferr_ap_wfc_g</th><th>m_ap_wfc_g</th><th>merr_ap_wfc_g</th><th>f_wfc_g</th><th>ferr_wfc_g</th><th>m_wfc_g</th><th>merr_wfc_g</th><th>flag_wfc_g</th><th>f_ap_wfc_r</th><th>ferr_ap_wfc_r</th><th>m_ap_wfc_r</th><th>merr_ap_wfc_r</th><th>f_wfc_r</th><th>ferr_wfc_r</th><th>m_wfc_r</th><th>merr_wfc_r</th><th>flag_wfc_r</th><th>f_ap_wfc_i</th><th>ferr_ap_wfc_i</th><th>m_ap_wfc_i</th><th>merr_ap_wfc_i</th><th>f_wfc_i</th><th>ferr_wfc_i</th><th>m_wfc_i</th><th>merr_wfc_i</th><th>flag_wfc_i</th><th>f_ap_wfc_z</th><th>ferr_ap_wfc_z</th><th>m_ap_wfc_z</th><th>merr_ap_wfc_z</th><th>f_wfc_z</th><th>ferr_wfc_z</th><th>m_wfc_z</th><th>merr_wfc_z</th><th>flag_wfc_z</th><th>f_ap_gpc1_g</th><th>ferr_ap_gpc1_g</th><th>m_ap_gpc1_g</th><th>merr_ap_gpc1_g</th><th>f_gpc1_g</th><th>ferr_gpc1_g</th><th>m_gpc1_g</th><th>merr_gpc1_g</th><th>flag_gpc1_g</th><th>f_ap_gpc1_r</th><th>ferr_ap_gpc1_r</th><th>m_ap_gpc1_r</th><th>merr_ap_gpc1_r</th><th>f_gpc1_r</th><th>ferr_gpc1_r</th><th>m_gpc1_r</th><th>merr_gpc1_r</th><th>flag_gpc1_r</th><th>f_ap_gpc1_i</th><th>ferr_ap_gpc1_i</th><th>m_ap_gpc1_i</th><th>merr_ap_gpc1_i</th><th>f_gpc1_i</th><th>ferr_gpc1_i</th><th>m_gpc1_i</th><th>merr_gpc1_i</th><th>flag_gpc1_i</th><th>f_ap_gpc1_z</th><th>ferr_ap_gpc1_z</th><th>m_ap_gpc1_z</th><th>merr_ap_gpc1_z</th><th>f_gpc1_z</th><th>ferr_gpc1_z</th><th>m_gpc1_z</th><th>merr_gpc1_z</th><th>flag_gpc1_z</th><th>f_ap_gpc1_y</th><th>ferr_ap_gpc1_y</th><th>m_ap_gpc1_y</th><th>merr_ap_gpc1_y</th><th>f_gpc1_y</th><th>ferr_gpc1_y</th><th>m_gpc1_y</th><th>merr_gpc1_y</th><th>flag_gpc1_y</th><th>f_ap_90prime_g</th><th>ferr_ap_90prime_g</th><th>m_ap_90prime_g</th><th>merr_ap_90prime_g</th><th>f_90prime_g</th><th>ferr_90prime_g</th><th>m_90prime_g</th><th>merr_90prime_g</th><th>flag_90prime_g</th><th>f_ap_90prime_r</th><th>ferr_ap_90prime_r</th><th>m_ap_90prime_r</th><th>merr_ap_90prime_r</th><th>f_90prime_r</th><th>ferr_90prime_r</th><th>m_90prime_r</th><th>merr_90prime_r</th><th>flag_90prime_r</th><th>f_ap_mosaic_z</th><th>ferr_ap_mosaic_z</th><th>m_ap_mosaic_z</th><th>merr_ap_mosaic_z</th><th>f_mosaic_z</th><th>ferr_mosaic_z</th><th>m_mosaic_z</th><th>merr_mosaic_z</th><th>flag_mosaic_z</th><th>f_ap_mosaic_r</th><th>ferr_ap_mosaic_r</th><th>m_ap_mosaic_r</th><th>merr_ap_mosaic_r</th><th>f_mosaic_r</th><th>ferr_mosaic_r</th><th>m_mosaic_r</th><th>merr_mosaic_r</th><th>flag_mosaic_r</th><th>f_ap_ukidss_j</th><th>ferr_ap_ukidss_j</th><th>m_ap_ukidss_j</th><th>merr_ap_ukidss_j</th><th>f_ukidss_j</th><th>ferr_ukidss_j</th><th>m_ukidss_j</th><th>merr_ukidss_j</th><th>flag_ukidss_j</th><th>f_ap_irac_i1</th><th>ferr_ap_irac_i1</th><th>m_ap_irac_i1</th><th>merr_ap_irac_i1</th><th>f_irac_i1</th><th>ferr_irac_i1</th><th>m_irac_i1</th><th>merr_irac_i1</th><th>flag_irac_i1</th><th>f_ap_irac_i2</th><th>ferr_ap_irac_i2</th><th>m_ap_irac_i2</th><th>merr_ap_irac_i2</th><th>f_irac_i2</th><th>ferr_irac_i2</th><th>m_irac_i2</th><th>merr_irac_i2</th><th>flag_irac_i2</th><th>f_ap_irac_i3</th><th>ferr_ap_irac_i3</th><th>m_ap_irac_i3</th><th>merr_ap_irac_i3</th><th>f_irac_i3</th><th>ferr_irac_i3</th><th>m_irac_i3</th><th>merr_irac_i3</th><th>flag_irac_i3</th><th>f_ap_irac_i4</th><th>ferr_ap_irac_i4</th><th>m_ap_irac_i4</th><th>merr_ap_irac_i4</th><th>f_irac_i4</th><th>ferr_irac_i4</th><th>m_irac_i4</th><th>merr_irac_i4</th><th>flag_irac_i4</th><th>stellarity</th><th>stellarity_origin</th><th>flag_cleaned</th><th>flag_merged</th><th>flag_gaia</th><th>flag_optnir_obs</th><th>flag_optnir_det</th><th>zspec</th><th>zspec_qual</th><th>zspec_association_flag</th><th>ebv</th></tr></thead>\n",
       "<thead><tr><th></th><th></th><th>deg</th><th>deg</th><th></th><th></th><th></th><th></th><th></th><th></th><th></th><th></th><th></th><th></th><th></th><th></th><th></th><th></th><th></th><th></th><th></th><th></th><th></th><th></th><th></th><th></th><th></th><th></th><th></th><th></th><th></th><th></th><th></th><th></th><th></th><th></th><th></th><th></th><th></th><th></th><th></th><th></th><th></th><th></th><th></th><th></th><th></th><th></th><th></th><th></th><th></th><th></th><th></th><th></th><th></th><th></th><th></th><th></th><th></th><th></th><th></th><th></th><th></th><th></th><th></th><th></th><th></th><th></th><th></th><th></th><th></th><th></th><th></th><th></th><th></th><th></th><th></th><th></th><th></th><th></th><th></th><th></th><th></th><th></th><th></th><th></th><th></th><th></th><th></th><th></th><th></th><th></th><th></th><th></th><th></th><th></th><th></th><th></th><th></th><th>uJy</th><th>uJy</th><th></th><th></th><th></th><th></th><th></th><th></th><th></th><th>uJy</th><th>uJy</th><th></th><th></th><th></th><th></th><th></th><th></th><th></th><th>uJy</th><th>uJy</th><th></th><th></th><th></th><th></th><th></th><th>mag</th><th>mag</th><th></th><th></th><th>mag</th><th>mag</th><th></th><th></th><th></th><th></th><th></th><th></th><th></th><th></th><th></th><th></th><th>uJy</th><th>uJy</th><th></th><th></th><th>uJy</th><th>uJy</th><th></th><th></th><th></th><th>uJy</th><th>uJy</th><th></th><th></th><th>uJy</th><th>uJy</th><th></th><th></th><th></th><th>uJy</th><th>uJy</th><th></th><th></th><th>uJy</th><th>uJy</th><th></th><th></th><th></th><th>uJy</th><th>uJy</th><th></th><th></th><th>uJy</th><th>uJy</th><th></th><th></th><th></th><th></th><th></th><th></th><th></th><th></th><th></th><th></th><th></th><th></th><th></th><th></th></tr></thead>\n",
       "<thead><tr><th>bytes27</th><th>bytes18</th><th>float64</th><th>float64</th><th>int64</th><th>float32</th><th>float32</th><th>float32</th><th>float32</th><th>float32</th><th>float32</th><th>float32</th><th>float32</th><th>bool</th><th>float32</th><th>float32</th><th>float32</th><th>float32</th><th>float32</th><th>float32</th><th>float32</th><th>float32</th><th>bool</th><th>float32</th><th>float32</th><th>float32</th><th>float32</th><th>float32</th><th>float64</th><th>float32</th><th>float64</th><th>bool</th><th>float32</th><th>float32</th><th>float32</th><th>float32</th><th>float32</th><th>float64</th><th>float32</th><th>float64</th><th>bool</th><th>float32</th><th>float32</th><th>float32</th><th>float32</th><th>float32</th><th>float32</th><th>float32</th><th>float32</th><th>bool</th><th>float64</th><th>float64</th><th>float64</th><th>float64</th><th>float64</th><th>float64</th><th>float64</th><th>float64</th><th>bool</th><th>float64</th><th>float64</th><th>float64</th><th>float64</th><th>float64</th><th>float64</th><th>float64</th><th>float64</th><th>bool</th><th>float64</th><th>float64</th><th>float64</th><th>float64</th><th>float64</th><th>float64</th><th>float64</th><th>float64</th><th>bool</th><th>float64</th><th>float64</th><th>float64</th><th>float64</th><th>float64</th><th>float64</th><th>float64</th><th>float64</th><th>bool</th><th>float64</th><th>float64</th><th>float64</th><th>float64</th><th>float64</th><th>float64</th><th>float64</th><th>float64</th><th>bool</th><th>float32</th><th>float32</th><th>float32</th><th>float32</th><th>float32</th><th>float32</th><th>float32</th><th>float32</th><th>bool</th><th>float32</th><th>float32</th><th>float32</th><th>float32</th><th>float32</th><th>float32</th><th>float32</th><th>float32</th><th>bool</th><th>float32</th><th>float32</th><th>float32</th><th>float32</th><th>float32</th><th>float32</th><th>float32</th><th>float32</th><th>bool</th><th>float32</th><th>float32</th><th>float32</th><th>float32</th><th>float32</th><th>float32</th><th>float32</th><th>float32</th><th>bool</th><th>float32</th><th>float32</th><th>float32</th><th>float32</th><th>float32</th><th>float32</th><th>float32</th><th>float32</th><th>bool</th><th>float64</th><th>float64</th><th>float64</th><th>float64</th><th>float64</th><th>float64</th><th>float64</th><th>float64</th><th>bool</th><th>float64</th><th>float64</th><th>float64</th><th>float64</th><th>float64</th><th>float64</th><th>float64</th><th>float64</th><th>bool</th><th>float64</th><th>float64</th><th>float64</th><th>float64</th><th>float64</th><th>float64</th><th>float64</th><th>float64</th><th>bool</th><th>float64</th><th>float64</th><th>float64</th><th>float64</th><th>float64</th><th>float64</th><th>float64</th><th>float64</th><th>bool</th><th>float32</th><th>bytes20</th><th>bool</th><th>bool</th><th>int64</th><th>int64</th><th>int64</th><th>float64</th><th>int64</th><th>bool</th><th>float64</th></tr></thead>\n",
       "<tr><td>HELP_J171515.693+593449.176</td><td>xFLS</td><td>258.81538617609</td><td>59.580326745743896</td><td>166969251</td><td>15892.775</td><td>512.3226</td><td>13.397</td><td>0.035</td><td>15177.492</td><td>489.26456</td><td>13.447</td><td>0.035</td><td>False</td><td>3590.8716</td><td>59.531666</td><td>15.012</td><td>0.018</td><td>55616.02</td><td>922.0365</td><td>12.037</td><td>0.018</td><td>False</td><td>4651.5737</td><td>68.54813</td><td>14.731</td><td>0.016</td><td>65644.7</td><td>967.3761129379272</td><td>11.857</td><td>0.016</td><td>False</td><td>6064.5693</td><td>122.88484</td><td>14.443</td><td>0.022</td><td>81583.016</td><td>1653.0962139368057</td><td>11.621</td><td>0.022</td><td>False</td><td>38940.363</td><td>1972.597</td><td>12.424</td><td>0.055</td><td>92811.09</td><td>4701.5195</td><td>11.481</td><td>0.055</td><td>False</td><td>nan</td><td>nan</td><td>nan</td><td>nan</td><td>nan</td><td>nan</td><td>nan</td><td>nan</td><td>False</td><td>nan</td><td>nan</td><td>nan</td><td>nan</td><td>nan</td><td>nan</td><td>nan</td><td>nan</td><td>False</td><td>nan</td><td>nan</td><td>nan</td><td>nan</td><td>nan</td><td>nan</td><td>nan</td><td>nan</td><td>False</td><td>nan</td><td>nan</td><td>nan</td><td>nan</td><td>nan</td><td>nan</td><td>nan</td><td>nan</td><td>False</td><td>nan</td><td>nan</td><td>nan</td><td>nan</td><td>nan</td><td>nan</td><td>nan</td><td>nan</td><td>False</td><td>nan</td><td>nan</td><td>nan</td><td>nan</td><td>nan</td><td>nan</td><td>nan</td><td>nan</td><td>False</td><td>nan</td><td>nan</td><td>nan</td><td>nan</td><td>nan</td><td>nan</td><td>nan</td><td>nan</td><td>False</td><td>nan</td><td>nan</td><td>nan</td><td>nan</td><td>nan</td><td>nan</td><td>nan</td><td>nan</td><td>False</td><td>nan</td><td>nan</td><td>nan</td><td>nan</td><td>nan</td><td>nan</td><td>nan</td><td>nan</td><td>False</td><td>nan</td><td>nan</td><td>nan</td><td>nan</td><td>nan</td><td>nan</td><td>nan</td><td>nan</td><td>False</td><td>nan</td><td>nan</td><td>nan</td><td>nan</td><td>nan</td><td>nan</td><td>nan</td><td>nan</td><td>False</td><td>nan</td><td>nan</td><td>nan</td><td>nan</td><td>nan</td><td>nan</td><td>nan</td><td>nan</td><td>False</td><td>nan</td><td>nan</td><td>nan</td><td>nan</td><td>nan</td><td>nan</td><td>nan</td><td>nan</td><td>False</td><td>nan</td><td>nan</td><td>nan</td><td>nan</td><td>nan</td><td>nan</td><td>nan</td><td>nan</td><td>False</td><td>0.0</td><td>wfc_stellarity</td><td>False</td><td>True</td><td>3</td><td>7</td><td>1</td><td>nan</td><td>-99</td><td>False</td><td>0.020070989753498032</td></tr>\n",
       "<tr><td>HELP_J171649.295+594802.193</td><td>xFLS</td><td>259.20539629709</td><td>59.8006091747439</td><td>167329915</td><td>1082.431</td><td>34.893456</td><td>16.314</td><td>0.035</td><td>1081.4331</td><td>34.861286</td><td>16.315</td><td>0.035</td><td>False</td><td>690.55743</td><td>11.448483</td><td>16.802</td><td>0.018</td><td>761.3777</td><td>12.622585</td><td>16.696</td><td>0.018</td><td>False</td><td>2759.3052</td><td>40.662624</td><td>15.298</td><td>0.016</td><td>5086.276</td><td>74.95412975549698</td><td>14.634</td><td>0.016</td><td>False</td><td>2945.7756</td><td>59.68951</td><td>15.227</td><td>0.022</td><td>5252.9087</td><td>106.4383778721094</td><td>14.599</td><td>0.022</td><td>False</td><td>nan</td><td>nan</td><td>nan</td><td>nan</td><td>nan</td><td>nan</td><td>nan</td><td>nan</td><td>False</td><td>nan</td><td>nan</td><td>nan</td><td>nan</td><td>nan</td><td>nan</td><td>nan</td><td>nan</td><td>False</td><td>nan</td><td>nan</td><td>nan</td><td>nan</td><td>nan</td><td>nan</td><td>nan</td><td>nan</td><td>False</td><td>nan</td><td>nan</td><td>nan</td><td>nan</td><td>nan</td><td>nan</td><td>nan</td><td>nan</td><td>False</td><td>nan</td><td>nan</td><td>nan</td><td>nan</td><td>nan</td><td>nan</td><td>nan</td><td>nan</td><td>False</td><td>nan</td><td>nan</td><td>nan</td><td>nan</td><td>nan</td><td>nan</td><td>nan</td><td>nan</td><td>False</td><td>nan</td><td>nan</td><td>nan</td><td>nan</td><td>nan</td><td>nan</td><td>nan</td><td>nan</td><td>False</td><td>nan</td><td>nan</td><td>nan</td><td>nan</td><td>nan</td><td>nan</td><td>nan</td><td>nan</td><td>False</td><td>nan</td><td>nan</td><td>nan</td><td>nan</td><td>nan</td><td>nan</td><td>nan</td><td>nan</td><td>False</td><td>nan</td><td>nan</td><td>nan</td><td>nan</td><td>nan</td><td>nan</td><td>nan</td><td>nan</td><td>False</td><td>nan</td><td>nan</td><td>nan</td><td>nan</td><td>nan</td><td>nan</td><td>nan</td><td>nan</td><td>False</td><td>nan</td><td>nan</td><td>nan</td><td>nan</td><td>nan</td><td>nan</td><td>nan</td><td>nan</td><td>False</td><td>nan</td><td>nan</td><td>nan</td><td>nan</td><td>nan</td><td>nan</td><td>nan</td><td>nan</td><td>False</td><td>nan</td><td>nan</td><td>nan</td><td>nan</td><td>nan</td><td>nan</td><td>nan</td><td>nan</td><td>False</td><td>nan</td><td>nan</td><td>nan</td><td>nan</td><td>nan</td><td>nan</td><td>nan</td><td>nan</td><td>False</td><td>0.0</td><td>wfc_stellarity</td><td>False</td><td>False</td><td>0</td><td>7</td><td>1</td><td>nan</td><td>-99</td><td>False</td><td>0.01711922712503021</td></tr>\n",
       "<tr><td>HELP_J171450.454+594023.651</td><td>xFLS</td><td>258.71022409509</td><td>59.6732362657439</td><td>167319123</td><td>4698.938</td><td>151.47586</td><td>14.72</td><td>0.035</td><td>5007.2554</td><td>161.41484</td><td>14.651</td><td>0.035</td><td>False</td><td>3640.826</td><td>60.359837</td><td>14.997</td><td>0.018</td><td>8340.648</td><td>138.27637</td><td>14.097</td><td>0.018</td><td>False</td><td>4329.121</td><td>63.796295</td><td>14.809</td><td>0.016</td><td>11251.222</td><td>165.80413281917572</td><td>13.772</td><td>0.016</td><td>False</td><td>5223.961</td><td>105.851814</td><td>14.605</td><td>0.022</td><td>11015.389</td><td>223.20207208395004</td><td>13.795</td><td>0.022</td><td>False</td><td>nan</td><td>nan</td><td>nan</td><td>nan</td><td>nan</td><td>nan</td><td>nan</td><td>nan</td><td>False</td><td>nan</td><td>nan</td><td>nan</td><td>nan</td><td>nan</td><td>nan</td><td>nan</td><td>nan</td><td>False</td><td>nan</td><td>nan</td><td>nan</td><td>nan</td><td>nan</td><td>nan</td><td>nan</td><td>nan</td><td>False</td><td>nan</td><td>nan</td><td>nan</td><td>nan</td><td>nan</td><td>nan</td><td>nan</td><td>nan</td><td>False</td><td>nan</td><td>nan</td><td>nan</td><td>nan</td><td>nan</td><td>nan</td><td>nan</td><td>nan</td><td>False</td><td>nan</td><td>nan</td><td>nan</td><td>nan</td><td>nan</td><td>nan</td><td>nan</td><td>nan</td><td>False</td><td>nan</td><td>nan</td><td>nan</td><td>nan</td><td>nan</td><td>nan</td><td>nan</td><td>nan</td><td>False</td><td>nan</td><td>nan</td><td>nan</td><td>nan</td><td>nan</td><td>nan</td><td>nan</td><td>nan</td><td>False</td><td>nan</td><td>nan</td><td>nan</td><td>nan</td><td>nan</td><td>nan</td><td>nan</td><td>nan</td><td>False</td><td>nan</td><td>nan</td><td>nan</td><td>nan</td><td>nan</td><td>nan</td><td>nan</td><td>nan</td><td>False</td><td>nan</td><td>nan</td><td>nan</td><td>nan</td><td>nan</td><td>nan</td><td>nan</td><td>nan</td><td>False</td><td>nan</td><td>nan</td><td>nan</td><td>nan</td><td>nan</td><td>nan</td><td>nan</td><td>nan</td><td>False</td><td>nan</td><td>nan</td><td>nan</td><td>nan</td><td>nan</td><td>nan</td><td>nan</td><td>nan</td><td>False</td><td>nan</td><td>nan</td><td>nan</td><td>nan</td><td>nan</td><td>nan</td><td>nan</td><td>nan</td><td>False</td><td>nan</td><td>nan</td><td>nan</td><td>nan</td><td>nan</td><td>nan</td><td>nan</td><td>nan</td><td>False</td><td>0.0</td><td>wfc_stellarity</td><td>False</td><td>True</td><td>2</td><td>7</td><td>1</td><td>nan</td><td>-99</td><td>False</td><td>0.021086459042652068</td></tr>\n",
       "<tr><td>HELP_J171437.152+593534.143</td><td>xFLS</td><td>258.65480092209</td><td>59.5928175867439</td><td>167318722</td><td>nan</td><td>nan</td><td>nan</td><td>nan</td><td>nan</td><td>nan</td><td>nan</td><td>nan</td><td>False</td><td>3624.097</td><td>60.082497</td><td>15.002</td><td>0.018</td><td>10018.436</td><td>166.09175</td><td>13.898</td><td>0.018</td><td>False</td><td>4604.6846</td><td>67.85715</td><td>14.742</td><td>0.016</td><td>16826.734</td><td>247.96791374683383</td><td>13.335</td><td>0.016</td><td>False</td><td>5861.3833</td><td>118.76774</td><td>14.48</td><td>0.022</td><td>17652.24</td><td>357.6829135417938</td><td>13.283</td><td>0.022</td><td>False</td><td>nan</td><td>nan</td><td>nan</td><td>nan</td><td>nan</td><td>nan</td><td>nan</td><td>nan</td><td>False</td><td>nan</td><td>nan</td><td>nan</td><td>nan</td><td>nan</td><td>nan</td><td>nan</td><td>nan</td><td>False</td><td>nan</td><td>nan</td><td>nan</td><td>nan</td><td>nan</td><td>nan</td><td>nan</td><td>nan</td><td>False</td><td>nan</td><td>nan</td><td>nan</td><td>nan</td><td>nan</td><td>nan</td><td>nan</td><td>nan</td><td>False</td><td>nan</td><td>nan</td><td>nan</td><td>nan</td><td>nan</td><td>nan</td><td>nan</td><td>nan</td><td>False</td><td>nan</td><td>nan</td><td>nan</td><td>nan</td><td>nan</td><td>nan</td><td>nan</td><td>nan</td><td>False</td><td>nan</td><td>nan</td><td>nan</td><td>nan</td><td>nan</td><td>nan</td><td>nan</td><td>nan</td><td>False</td><td>nan</td><td>nan</td><td>nan</td><td>nan</td><td>nan</td><td>nan</td><td>nan</td><td>nan</td><td>False</td><td>nan</td><td>nan</td><td>nan</td><td>nan</td><td>nan</td><td>nan</td><td>nan</td><td>nan</td><td>False</td><td>nan</td><td>nan</td><td>nan</td><td>nan</td><td>nan</td><td>nan</td><td>nan</td><td>nan</td><td>False</td><td>nan</td><td>nan</td><td>nan</td><td>nan</td><td>nan</td><td>nan</td><td>nan</td><td>nan</td><td>False</td><td>nan</td><td>nan</td><td>nan</td><td>nan</td><td>nan</td><td>nan</td><td>nan</td><td>nan</td><td>False</td><td>nan</td><td>nan</td><td>nan</td><td>nan</td><td>nan</td><td>nan</td><td>nan</td><td>nan</td><td>False</td><td>nan</td><td>nan</td><td>nan</td><td>nan</td><td>nan</td><td>nan</td><td>nan</td><td>nan</td><td>False</td><td>nan</td><td>nan</td><td>nan</td><td>nan</td><td>nan</td><td>nan</td><td>nan</td><td>nan</td><td>False</td><td>0.0</td><td>wfc_stellarity</td><td>False</td><td>False</td><td>1</td><td>7</td><td>1</td><td>nan</td><td>-99</td><td>False</td><td>0.021031433721514517</td></tr>\n",
       "<tr><td>HELP_J171528.775+593543.488</td><td>xFLS</td><td>258.86989590609</td><td>59.5954132377439</td><td>166969265</td><td>nan</td><td>nan</td><td>nan</td><td>nan</td><td>nan</td><td>nan</td><td>nan</td><td>nan</td><td>False</td><td>3620.76</td><td>60.02718</td><td>15.003</td><td>0.018</td><td>27899.717</td><td>462.53857</td><td>12.786</td><td>0.018</td><td>False</td><td>4690.2915</td><td>69.11869</td><td>14.722</td><td>0.016</td><td>36982.83</td><td>544.9990630149841</td><td>12.48</td><td>0.016</td><td>False</td><td>5888.433</td><td>119.31585</td><td>14.475</td><td>0.022</td><td>38512.34</td><td>780.3658470511436</td><td>12.436</td><td>0.022</td><td>False</td><td>nan</td><td>nan</td><td>nan</td><td>nan</td><td>nan</td><td>nan</td><td>nan</td><td>nan</td><td>False</td><td>nan</td><td>nan</td><td>nan</td><td>nan</td><td>nan</td><td>nan</td><td>nan</td><td>nan</td><td>False</td><td>nan</td><td>nan</td><td>nan</td><td>nan</td><td>nan</td><td>nan</td><td>nan</td><td>nan</td><td>False</td><td>nan</td><td>nan</td><td>nan</td><td>nan</td><td>nan</td><td>nan</td><td>nan</td><td>nan</td><td>False</td><td>nan</td><td>nan</td><td>nan</td><td>nan</td><td>nan</td><td>nan</td><td>nan</td><td>nan</td><td>False</td><td>nan</td><td>nan</td><td>nan</td><td>nan</td><td>nan</td><td>nan</td><td>nan</td><td>nan</td><td>False</td><td>nan</td><td>nan</td><td>nan</td><td>nan</td><td>nan</td><td>nan</td><td>nan</td><td>nan</td><td>False</td><td>nan</td><td>nan</td><td>nan</td><td>nan</td><td>nan</td><td>nan</td><td>nan</td><td>nan</td><td>False</td><td>nan</td><td>nan</td><td>nan</td><td>nan</td><td>nan</td><td>nan</td><td>nan</td><td>nan</td><td>False</td><td>nan</td><td>nan</td><td>nan</td><td>nan</td><td>nan</td><td>nan</td><td>nan</td><td>nan</td><td>False</td><td>nan</td><td>nan</td><td>nan</td><td>nan</td><td>nan</td><td>nan</td><td>nan</td><td>nan</td><td>False</td><td>nan</td><td>nan</td><td>nan</td><td>nan</td><td>nan</td><td>nan</td><td>nan</td><td>nan</td><td>False</td><td>nan</td><td>nan</td><td>nan</td><td>nan</td><td>nan</td><td>nan</td><td>nan</td><td>nan</td><td>False</td><td>nan</td><td>nan</td><td>nan</td><td>nan</td><td>nan</td><td>nan</td><td>nan</td><td>nan</td><td>False</td><td>nan</td><td>nan</td><td>nan</td><td>nan</td><td>nan</td><td>nan</td><td>nan</td><td>nan</td><td>False</td><td>0.0</td><td>wfc_stellarity</td><td>False</td><td>False</td><td>0</td><td>7</td><td>1</td><td>nan</td><td>-99</td><td>False</td><td>0.019632286881600215</td></tr>\n",
       "<tr><td>HELP_J171507.651+593657.583</td><td>xFLS</td><td>258.78187797309</td><td>59.6159953617439</td><td>167318818</td><td>nan</td><td>nan</td><td>nan</td><td>nan</td><td>nan</td><td>nan</td><td>nan</td><td>nan</td><td>False</td><td>707.9457</td><td>11.736756</td><td>16.775</td><td>0.018</td><td>677.3293</td><td>11.229178</td><td>16.823</td><td>0.018</td><td>False</td><td>358.42636</td><td>5.281966</td><td>17.514</td><td>0.016</td><td>372.2203</td><td>5.485240835696459</td><td>17.473</td><td>0.016</td><td>False</td><td>398.1071</td><td>8.066743</td><td>17.4</td><td>0.022</td><td>410.77145</td><td>8.323358721099792</td><td>17.366</td><td>0.022</td><td>False</td><td>nan</td><td>nan</td><td>nan</td><td>nan</td><td>nan</td><td>nan</td><td>nan</td><td>nan</td><td>False</td><td>nan</td><td>nan</td><td>nan</td><td>nan</td><td>nan</td><td>nan</td><td>nan</td><td>nan</td><td>False</td><td>nan</td><td>nan</td><td>nan</td><td>nan</td><td>nan</td><td>nan</td><td>nan</td><td>nan</td><td>False</td><td>nan</td><td>nan</td><td>nan</td><td>nan</td><td>nan</td><td>nan</td><td>nan</td><td>nan</td><td>False</td><td>nan</td><td>nan</td><td>nan</td><td>nan</td><td>nan</td><td>nan</td><td>nan</td><td>nan</td><td>False</td><td>nan</td><td>nan</td><td>nan</td><td>nan</td><td>nan</td><td>nan</td><td>nan</td><td>nan</td><td>False</td><td>nan</td><td>nan</td><td>nan</td><td>nan</td><td>nan</td><td>nan</td><td>nan</td><td>nan</td><td>False</td><td>nan</td><td>nan</td><td>nan</td><td>nan</td><td>nan</td><td>nan</td><td>nan</td><td>nan</td><td>False</td><td>nan</td><td>nan</td><td>nan</td><td>nan</td><td>nan</td><td>nan</td><td>nan</td><td>nan</td><td>False</td><td>nan</td><td>nan</td><td>nan</td><td>nan</td><td>nan</td><td>nan</td><td>nan</td><td>nan</td><td>False</td><td>nan</td><td>nan</td><td>nan</td><td>nan</td><td>nan</td><td>nan</td><td>nan</td><td>nan</td><td>False</td><td>nan</td><td>nan</td><td>nan</td><td>nan</td><td>nan</td><td>nan</td><td>nan</td><td>nan</td><td>False</td><td>nan</td><td>nan</td><td>nan</td><td>nan</td><td>nan</td><td>nan</td><td>nan</td><td>nan</td><td>False</td><td>nan</td><td>nan</td><td>nan</td><td>nan</td><td>nan</td><td>nan</td><td>nan</td><td>nan</td><td>False</td><td>nan</td><td>nan</td><td>nan</td><td>nan</td><td>nan</td><td>nan</td><td>nan</td><td>nan</td><td>False</td><td>0.052478135</td><td>wfc_stellarity</td><td>False</td><td>False</td><td>2</td><td>7</td><td>1</td><td>nan</td><td>-99</td><td>False</td><td>0.020384931100762248</td></tr>\n",
       "<tr><td>HELP_J171504.436+595618.290</td><td>xFLS</td><td>258.76848370909</td><td>59.9384138877439</td><td>167321398</td><td>nan</td><td>nan</td><td>nan</td><td>nan</td><td>nan</td><td>nan</td><td>nan</td><td>nan</td><td>False</td><td>3528.5786</td><td>58.49894</td><td>15.031</td><td>0.018</td><td>50026.445</td><td>829.369</td><td>12.152</td><td>0.018</td><td>False</td><td>3756.6416</td><td>55.35992</td><td>14.963</td><td>0.016</td><td>41039.3</td><td>604.777455329895</td><td>12.367</td><td>0.016</td><td>False</td><td>4879.775</td><td>98.877655</td><td>14.679</td><td>0.022</td><td>44136.695</td><td>894.3307921290397</td><td>12.288</td><td>0.022</td><td>False</td><td>nan</td><td>nan</td><td>nan</td><td>nan</td><td>nan</td><td>nan</td><td>nan</td><td>nan</td><td>False</td><td>nan</td><td>nan</td><td>nan</td><td>nan</td><td>nan</td><td>nan</td><td>nan</td><td>nan</td><td>False</td><td>nan</td><td>nan</td><td>nan</td><td>nan</td><td>nan</td><td>nan</td><td>nan</td><td>nan</td><td>False</td><td>nan</td><td>nan</td><td>nan</td><td>nan</td><td>nan</td><td>nan</td><td>nan</td><td>nan</td><td>False</td><td>nan</td><td>nan</td><td>nan</td><td>nan</td><td>nan</td><td>nan</td><td>nan</td><td>nan</td><td>False</td><td>nan</td><td>nan</td><td>nan</td><td>nan</td><td>nan</td><td>nan</td><td>nan</td><td>nan</td><td>False</td><td>nan</td><td>nan</td><td>nan</td><td>nan</td><td>nan</td><td>nan</td><td>nan</td><td>nan</td><td>False</td><td>nan</td><td>nan</td><td>nan</td><td>nan</td><td>nan</td><td>nan</td><td>nan</td><td>nan</td><td>False</td><td>nan</td><td>nan</td><td>nan</td><td>nan</td><td>nan</td><td>nan</td><td>nan</td><td>nan</td><td>False</td><td>nan</td><td>nan</td><td>nan</td><td>nan</td><td>nan</td><td>nan</td><td>nan</td><td>nan</td><td>False</td><td>nan</td><td>nan</td><td>nan</td><td>nan</td><td>nan</td><td>nan</td><td>nan</td><td>nan</td><td>False</td><td>nan</td><td>nan</td><td>nan</td><td>nan</td><td>nan</td><td>nan</td><td>nan</td><td>nan</td><td>False</td><td>nan</td><td>nan</td><td>nan</td><td>nan</td><td>nan</td><td>nan</td><td>nan</td><td>nan</td><td>False</td><td>nan</td><td>nan</td><td>nan</td><td>nan</td><td>nan</td><td>nan</td><td>nan</td><td>nan</td><td>False</td><td>nan</td><td>nan</td><td>nan</td><td>nan</td><td>nan</td><td>nan</td><td>nan</td><td>nan</td><td>False</td><td>0.0</td><td>wfc_stellarity</td><td>False</td><td>False</td><td>0</td><td>7</td><td>1</td><td>nan</td><td>-99</td><td>False</td><td>0.01636112160211106</td></tr>\n",
       "<tr><td>HELP_J171612.820+594930.806</td><td>xFLS</td><td>259.05341508609</td><td>59.8252238897439</td><td>167330352</td><td>nan</td><td>nan</td><td>nan</td><td>nan</td><td>nan</td><td>nan</td><td>nan</td><td>nan</td><td>False</td><td>3235.9348</td><td>53.64731</td><td>15.125</td><td>0.018</td><td>14401.242</td><td>238.75261</td><td>13.504</td><td>0.018</td><td>False</td><td>3801.8933</td><td>56.026768</td><td>14.95</td><td>0.016</td><td>20174.373</td><td>297.3005473613739</td><td>13.138</td><td>0.016</td><td>False</td><td>4938.553</td><td>100.06866</td><td>14.666</td><td>0.022</td><td>25421.418</td><td>515.1078142225742</td><td>12.887</td><td>0.022</td><td>False</td><td>nan</td><td>nan</td><td>nan</td><td>nan</td><td>nan</td><td>nan</td><td>nan</td><td>nan</td><td>False</td><td>nan</td><td>nan</td><td>nan</td><td>nan</td><td>nan</td><td>nan</td><td>nan</td><td>nan</td><td>False</td><td>nan</td><td>nan</td><td>nan</td><td>nan</td><td>nan</td><td>nan</td><td>nan</td><td>nan</td><td>False</td><td>nan</td><td>nan</td><td>nan</td><td>nan</td><td>nan</td><td>nan</td><td>nan</td><td>nan</td><td>False</td><td>nan</td><td>nan</td><td>nan</td><td>nan</td><td>nan</td><td>nan</td><td>nan</td><td>nan</td><td>False</td><td>nan</td><td>nan</td><td>nan</td><td>nan</td><td>nan</td><td>nan</td><td>nan</td><td>nan</td><td>False</td><td>nan</td><td>nan</td><td>nan</td><td>nan</td><td>nan</td><td>nan</td><td>nan</td><td>nan</td><td>False</td><td>nan</td><td>nan</td><td>nan</td><td>nan</td><td>nan</td><td>nan</td><td>nan</td><td>nan</td><td>False</td><td>nan</td><td>nan</td><td>nan</td><td>nan</td><td>nan</td><td>nan</td><td>nan</td><td>nan</td><td>False</td><td>nan</td><td>nan</td><td>nan</td><td>nan</td><td>nan</td><td>nan</td><td>nan</td><td>nan</td><td>False</td><td>nan</td><td>nan</td><td>nan</td><td>nan</td><td>nan</td><td>nan</td><td>nan</td><td>nan</td><td>False</td><td>nan</td><td>nan</td><td>nan</td><td>nan</td><td>nan</td><td>nan</td><td>nan</td><td>nan</td><td>False</td><td>nan</td><td>nan</td><td>nan</td><td>nan</td><td>nan</td><td>nan</td><td>nan</td><td>nan</td><td>False</td><td>nan</td><td>nan</td><td>nan</td><td>nan</td><td>nan</td><td>nan</td><td>nan</td><td>nan</td><td>False</td><td>nan</td><td>nan</td><td>nan</td><td>nan</td><td>nan</td><td>nan</td><td>nan</td><td>nan</td><td>False</td><td>0.0</td><td>wfc_stellarity</td><td>False</td><td>False</td><td>1</td><td>7</td><td>1</td><td>nan</td><td>-99</td><td>False</td><td>0.016972870990994683</td></tr>\n",
       "<tr><td>HELP_J171650.626+594915.037</td><td>xFLS</td><td>259.21094373009</td><td>59.8208436017439</td><td>167330009</td><td>nan</td><td>nan</td><td>nan</td><td>nan</td><td>nan</td><td>nan</td><td>nan</td><td>nan</td><td>False</td><td>518.08356</td><td>14.315178</td><td>17.114</td><td>0.03</td><td>704.0439</td><td>19.453451</td><td>16.781</td><td>0.03</td><td>False</td><td>3711.9307</td><td>54.701035</td><td>14.976</td><td>0.016</td><td>13982.9795</td><td>206.06079697608948</td><td>13.536</td><td>0.016</td><td>False</td><td>5114.4604</td><td>113.05421</td><td>14.628</td><td>0.024</td><td>29675.63</td><td>655.9744030237198</td><td>12.719</td><td>0.024</td><td>False</td><td>nan</td><td>nan</td><td>nan</td><td>nan</td><td>nan</td><td>nan</td><td>nan</td><td>nan</td><td>False</td><td>nan</td><td>nan</td><td>nan</td><td>nan</td><td>nan</td><td>nan</td><td>nan</td><td>nan</td><td>False</td><td>nan</td><td>nan</td><td>nan</td><td>nan</td><td>nan</td><td>nan</td><td>nan</td><td>nan</td><td>False</td><td>nan</td><td>nan</td><td>nan</td><td>nan</td><td>nan</td><td>nan</td><td>nan</td><td>nan</td><td>False</td><td>nan</td><td>nan</td><td>nan</td><td>nan</td><td>nan</td><td>nan</td><td>nan</td><td>nan</td><td>False</td><td>nan</td><td>nan</td><td>nan</td><td>nan</td><td>nan</td><td>nan</td><td>nan</td><td>nan</td><td>False</td><td>nan</td><td>nan</td><td>nan</td><td>nan</td><td>nan</td><td>nan</td><td>nan</td><td>nan</td><td>False</td><td>nan</td><td>nan</td><td>nan</td><td>nan</td><td>nan</td><td>nan</td><td>nan</td><td>nan</td><td>False</td><td>nan</td><td>nan</td><td>nan</td><td>nan</td><td>nan</td><td>nan</td><td>nan</td><td>nan</td><td>False</td><td>nan</td><td>nan</td><td>nan</td><td>nan</td><td>nan</td><td>nan</td><td>nan</td><td>nan</td><td>False</td><td>nan</td><td>nan</td><td>nan</td><td>nan</td><td>nan</td><td>nan</td><td>nan</td><td>nan</td><td>False</td><td>nan</td><td>nan</td><td>nan</td><td>nan</td><td>nan</td><td>nan</td><td>nan</td><td>nan</td><td>False</td><td>nan</td><td>nan</td><td>nan</td><td>nan</td><td>nan</td><td>nan</td><td>nan</td><td>nan</td><td>False</td><td>nan</td><td>nan</td><td>nan</td><td>nan</td><td>nan</td><td>nan</td><td>nan</td><td>nan</td><td>False</td><td>nan</td><td>nan</td><td>nan</td><td>nan</td><td>nan</td><td>nan</td><td>nan</td><td>nan</td><td>False</td><td>0.0</td><td>wfc_stellarity</td><td>False</td><td>False</td><td>1</td><td>7</td><td>1</td><td>nan</td><td>-99</td><td>False</td><td>0.01732248049063278</td></tr>\n",
       "<tr><td>...</td><td>...</td><td>...</td><td>...</td><td>...</td><td>...</td><td>...</td><td>...</td><td>...</td><td>...</td><td>...</td><td>...</td><td>...</td><td>...</td><td>...</td><td>...</td><td>...</td><td>...</td><td>...</td><td>...</td><td>...</td><td>...</td><td>...</td><td>...</td><td>...</td><td>...</td><td>...</td><td>...</td><td>...</td><td>...</td><td>...</td><td>...</td><td>...</td><td>...</td><td>...</td><td>...</td><td>...</td><td>...</td><td>...</td><td>...</td><td>...</td><td>...</td><td>...</td><td>...</td><td>...</td><td>...</td><td>...</td><td>...</td><td>...</td><td>...</td><td>...</td><td>...</td><td>...</td><td>...</td><td>...</td><td>...</td><td>...</td><td>...</td><td>...</td><td>...</td><td>...</td><td>...</td><td>...</td><td>...</td><td>...</td><td>...</td><td>...</td><td>...</td><td>...</td><td>...</td><td>...</td><td>...</td><td>...</td><td>...</td><td>...</td><td>...</td><td>...</td><td>...</td><td>...</td><td>...</td><td>...</td><td>...</td><td>...</td><td>...</td><td>...</td><td>...</td><td>...</td><td>...</td><td>...</td><td>...</td><td>...</td><td>...</td><td>...</td><td>...</td><td>...</td><td>...</td><td>...</td><td>...</td><td>...</td><td>...</td><td>...</td><td>...</td><td>...</td><td>...</td><td>...</td><td>...</td><td>...</td><td>...</td><td>...</td><td>...</td><td>...</td><td>...</td><td>...</td><td>...</td><td>...</td><td>...</td><td>...</td><td>...</td><td>...</td><td>...</td><td>...</td><td>...</td><td>...</td><td>...</td><td>...</td><td>...</td><td>...</td><td>...</td><td>...</td><td>...</td><td>...</td><td>...</td><td>...</td><td>...</td><td>...</td><td>...</td><td>...</td><td>...</td><td>...</td><td>...</td><td>...</td><td>...</td><td>...</td><td>...</td><td>...</td><td>...</td><td>...</td><td>...</td><td>...</td><td>...</td><td>...</td><td>...</td><td>...</td><td>...</td><td>...</td><td>...</td><td>...</td><td>...</td><td>...</td><td>...</td><td>...</td><td>...</td><td>...</td><td>...</td><td>...</td><td>...</td><td>...</td><td>...</td><td>...</td><td>...</td><td>...</td><td>...</td><td>...</td><td>...</td><td>...</td><td>...</td><td>...</td><td>...</td><td>...</td><td>...</td><td>...</td><td>...</td><td>...</td><td>...</td><td>...</td><td>...</td><td>...</td></tr>\n",
       "<tr><td>HELP_J171544.157+583313.758</td><td>xFLS</td><td>258.933988769536</td><td>58.553821537000246</td><td>166934189</td><td>nan</td><td>nan</td><td>nan</td><td>nan</td><td>nan</td><td>nan</td><td>nan</td><td>nan</td><td>False</td><td>nan</td><td>nan</td><td>nan</td><td>nan</td><td>nan</td><td>nan</td><td>nan</td><td>nan</td><td>False</td><td>nan</td><td>nan</td><td>nan</td><td>nan</td><td>nan</td><td>nan</td><td>nan</td><td>nan</td><td>False</td><td>nan</td><td>nan</td><td>nan</td><td>nan</td><td>nan</td><td>nan</td><td>nan</td><td>nan</td><td>False</td><td>nan</td><td>nan</td><td>nan</td><td>nan</td><td>nan</td><td>nan</td><td>nan</td><td>nan</td><td>False</td><td>nan</td><td>nan</td><td>nan</td><td>nan</td><td>nan</td><td>nan</td><td>nan</td><td>nan</td><td>False</td><td>nan</td><td>nan</td><td>nan</td><td>nan</td><td>nan</td><td>nan</td><td>nan</td><td>nan</td><td>False</td><td>nan</td><td>nan</td><td>nan</td><td>nan</td><td>nan</td><td>nan</td><td>nan</td><td>nan</td><td>False</td><td>nan</td><td>nan</td><td>nan</td><td>nan</td><td>nan</td><td>nan</td><td>nan</td><td>nan</td><td>False</td><td>nan</td><td>nan</td><td>nan</td><td>nan</td><td>nan</td><td>nan</td><td>nan</td><td>nan</td><td>False</td><td>nan</td><td>nan</td><td>nan</td><td>nan</td><td>nan</td><td>nan</td><td>nan</td><td>nan</td><td>False</td><td>nan</td><td>nan</td><td>nan</td><td>nan</td><td>nan</td><td>nan</td><td>nan</td><td>nan</td><td>False</td><td>nan</td><td>nan</td><td>nan</td><td>nan</td><td>nan</td><td>nan</td><td>nan</td><td>nan</td><td>False</td><td>nan</td><td>nan</td><td>nan</td><td>nan</td><td>nan</td><td>nan</td><td>nan</td><td>nan</td><td>False</td><td>nan</td><td>nan</td><td>nan</td><td>nan</td><td>nan</td><td>nan</td><td>nan</td><td>nan</td><td>False</td><td>nan</td><td>nan</td><td>nan</td><td>nan</td><td>nan</td><td>nan</td><td>nan</td><td>nan</td><td>False</td><td>1506.83715586592</td><td>79.2075626111732</td><td>15.954834198560114</td><td>0.057072204572880425</td><td>2269.62679116</td><td>70.160591856</td><td>15.510113876692522</td><td>0.03356318096967135</td><td>False</td><td>nan</td><td>nan</td><td>nan</td><td>nan</td><td>nan</td><td>nan</td><td>nan</td><td>nan</td><td>False</td><td>nan</td><td>nan</td><td>nan</td><td>nan</td><td>nan</td><td>nan</td><td>nan</td><td>nan</td><td>False</td><td>nan</td><td>NO_INFORMATION</td><td>False</td><td>False</td><td>2</td><td>7</td><td>0</td><td>nan</td><td>-99</td><td>False</td><td>0.020894989373049525</td></tr>\n",
       "<tr><td>HELP_J171829.652+603008.091</td><td>xFLS</td><td>259.62354876953594</td><td>60.502247537000244</td><td>167339909</td><td>nan</td><td>nan</td><td>nan</td><td>nan</td><td>nan</td><td>nan</td><td>nan</td><td>nan</td><td>False</td><td>nan</td><td>nan</td><td>nan</td><td>nan</td><td>nan</td><td>nan</td><td>nan</td><td>nan</td><td>False</td><td>nan</td><td>nan</td><td>nan</td><td>nan</td><td>nan</td><td>nan</td><td>nan</td><td>nan</td><td>False</td><td>nan</td><td>nan</td><td>nan</td><td>nan</td><td>nan</td><td>nan</td><td>nan</td><td>nan</td><td>False</td><td>nan</td><td>nan</td><td>nan</td><td>nan</td><td>nan</td><td>nan</td><td>nan</td><td>nan</td><td>False</td><td>nan</td><td>nan</td><td>nan</td><td>nan</td><td>nan</td><td>nan</td><td>nan</td><td>nan</td><td>False</td><td>nan</td><td>nan</td><td>nan</td><td>nan</td><td>nan</td><td>nan</td><td>nan</td><td>nan</td><td>False</td><td>nan</td><td>nan</td><td>nan</td><td>nan</td><td>nan</td><td>nan</td><td>nan</td><td>nan</td><td>False</td><td>nan</td><td>nan</td><td>nan</td><td>nan</td><td>nan</td><td>nan</td><td>nan</td><td>nan</td><td>False</td><td>nan</td><td>nan</td><td>nan</td><td>nan</td><td>nan</td><td>nan</td><td>nan</td><td>nan</td><td>False</td><td>nan</td><td>nan</td><td>nan</td><td>nan</td><td>nan</td><td>nan</td><td>nan</td><td>nan</td><td>False</td><td>nan</td><td>nan</td><td>nan</td><td>nan</td><td>nan</td><td>nan</td><td>nan</td><td>nan</td><td>False</td><td>nan</td><td>nan</td><td>nan</td><td>nan</td><td>nan</td><td>nan</td><td>nan</td><td>nan</td><td>False</td><td>nan</td><td>nan</td><td>nan</td><td>nan</td><td>nan</td><td>nan</td><td>nan</td><td>nan</td><td>False</td><td>nan</td><td>nan</td><td>nan</td><td>nan</td><td>nan</td><td>nan</td><td>nan</td><td>nan</td><td>False</td><td>nan</td><td>nan</td><td>nan</td><td>nan</td><td>nan</td><td>nan</td><td>nan</td><td>nan</td><td>False</td><td>3679.43931301676</td><td>82.0586343100559</td><td>14.985545889331782</td><td>0.02421402355197086</td><td>19440.7159404</td><td>260.400564048</td><td>13.178219363539824</td><td>0.014542999393289548</td><td>False</td><td>nan</td><td>nan</td><td>nan</td><td>nan</td><td>nan</td><td>nan</td><td>nan</td><td>nan</td><td>False</td><td>1262.17281502762</td><td>78.8436648508287</td><td>16.147202944990802</td><td>0.0678222668284037</td><td>5745.4058844</td><td>166.720860636</td><td>14.501698212857583</td><td>0.031506020309624</td><td>False</td><td>nan</td><td>NO_INFORMATION</td><td>False</td><td>False</td><td>0</td><td>5</td><td>4</td><td>nan</td><td>-99</td><td>False</td><td>0.021612789447239458</td></tr>\n",
       "<tr><td>HELP_J172527.345+592612.374</td><td>xFLS</td><td>261.36393576953594</td><td>59.43677053700024</td><td>167125528</td><td>nan</td><td>nan</td><td>nan</td><td>nan</td><td>nan</td><td>nan</td><td>nan</td><td>nan</td><td>False</td><td>nan</td><td>nan</td><td>nan</td><td>nan</td><td>nan</td><td>nan</td><td>nan</td><td>nan</td><td>False</td><td>nan</td><td>nan</td><td>nan</td><td>nan</td><td>nan</td><td>nan</td><td>nan</td><td>nan</td><td>False</td><td>nan</td><td>nan</td><td>nan</td><td>nan</td><td>nan</td><td>nan</td><td>nan</td><td>nan</td><td>False</td><td>nan</td><td>nan</td><td>nan</td><td>nan</td><td>nan</td><td>nan</td><td>nan</td><td>nan</td><td>False</td><td>nan</td><td>nan</td><td>nan</td><td>nan</td><td>nan</td><td>nan</td><td>nan</td><td>nan</td><td>False</td><td>nan</td><td>nan</td><td>nan</td><td>nan</td><td>nan</td><td>nan</td><td>nan</td><td>nan</td><td>False</td><td>nan</td><td>nan</td><td>nan</td><td>nan</td><td>nan</td><td>nan</td><td>nan</td><td>nan</td><td>False</td><td>nan</td><td>nan</td><td>nan</td><td>nan</td><td>nan</td><td>nan</td><td>nan</td><td>nan</td><td>False</td><td>nan</td><td>nan</td><td>nan</td><td>nan</td><td>nan</td><td>nan</td><td>nan</td><td>nan</td><td>False</td><td>nan</td><td>nan</td><td>nan</td><td>nan</td><td>nan</td><td>nan</td><td>nan</td><td>nan</td><td>False</td><td>nan</td><td>nan</td><td>nan</td><td>nan</td><td>nan</td><td>nan</td><td>nan</td><td>nan</td><td>False</td><td>nan</td><td>nan</td><td>nan</td><td>nan</td><td>nan</td><td>nan</td><td>nan</td><td>nan</td><td>False</td><td>nan</td><td>nan</td><td>nan</td><td>nan</td><td>nan</td><td>nan</td><td>nan</td><td>nan</td><td>False</td><td>nan</td><td>nan</td><td>nan</td><td>nan</td><td>nan</td><td>nan</td><td>nan</td><td>nan</td><td>False</td><td>nan</td><td>nan</td><td>nan</td><td>nan</td><td>nan</td><td>nan</td><td>nan</td><td>nan</td><td>False</td><td>6710.01204385475</td><td>85.6623446162011</td><td>14.3331917507791</td><td>0.01386088554333606</td><td>4855.5403908</td><td>61.3367298108</td><td>14.684406072123032</td><td>0.013715364898052163</td><td>False</td><td>nan</td><td>nan</td><td>nan</td><td>nan</td><td>nan</td><td>nan</td><td>nan</td><td>nan</td><td>False</td><td>nan</td><td>nan</td><td>nan</td><td>nan</td><td>nan</td><td>nan</td><td>nan</td><td>nan</td><td>False</td><td>nan</td><td>NO_INFORMATION</td><td>False</td><td>False</td><td>0</td><td>7</td><td>0</td><td>nan</td><td>-99</td><td>False</td><td>0.025678381580206234</td></tr>\n",
       "<tr><td>HELP_J171033.991+601006.184</td><td>xFLS</td><td>257.64162776953594</td><td>60.16838453700025</td><td>167348164</td><td>nan</td><td>nan</td><td>nan</td><td>nan</td><td>nan</td><td>nan</td><td>nan</td><td>nan</td><td>False</td><td>nan</td><td>nan</td><td>nan</td><td>nan</td><td>nan</td><td>nan</td><td>nan</td><td>nan</td><td>False</td><td>nan</td><td>nan</td><td>nan</td><td>nan</td><td>nan</td><td>nan</td><td>nan</td><td>nan</td><td>False</td><td>nan</td><td>nan</td><td>nan</td><td>nan</td><td>nan</td><td>nan</td><td>nan</td><td>nan</td><td>False</td><td>nan</td><td>nan</td><td>nan</td><td>nan</td><td>nan</td><td>nan</td><td>nan</td><td>nan</td><td>False</td><td>nan</td><td>nan</td><td>nan</td><td>nan</td><td>nan</td><td>nan</td><td>nan</td><td>nan</td><td>False</td><td>nan</td><td>nan</td><td>nan</td><td>nan</td><td>nan</td><td>nan</td><td>nan</td><td>nan</td><td>False</td><td>nan</td><td>nan</td><td>nan</td><td>nan</td><td>nan</td><td>nan</td><td>nan</td><td>nan</td><td>False</td><td>nan</td><td>nan</td><td>nan</td><td>nan</td><td>nan</td><td>nan</td><td>nan</td><td>nan</td><td>False</td><td>nan</td><td>nan</td><td>nan</td><td>nan</td><td>nan</td><td>nan</td><td>nan</td><td>nan</td><td>False</td><td>nan</td><td>nan</td><td>nan</td><td>nan</td><td>nan</td><td>nan</td><td>nan</td><td>nan</td><td>False</td><td>nan</td><td>nan</td><td>nan</td><td>nan</td><td>nan</td><td>nan</td><td>nan</td><td>nan</td><td>False</td><td>nan</td><td>nan</td><td>nan</td><td>nan</td><td>nan</td><td>nan</td><td>nan</td><td>nan</td><td>False</td><td>nan</td><td>nan</td><td>nan</td><td>nan</td><td>nan</td><td>nan</td><td>nan</td><td>nan</td><td>False</td><td>nan</td><td>nan</td><td>nan</td><td>nan</td><td>nan</td><td>nan</td><td>nan</td><td>nan</td><td>False</td><td>nan</td><td>nan</td><td>nan</td><td>nan</td><td>nan</td><td>nan</td><td>nan</td><td>nan</td><td>False</td><td>215.535582385475</td><td>86.0281366793296</td><td>18.066202556704518</td><td>0.4333570428922527</td><td>1219.36002666</td><td>154.528583748</td><td>16.184670115555086</td><td>0.13759453678727523</td><td>False</td><td>nan</td><td>nan</td><td>nan</td><td>nan</td><td>nan</td><td>nan</td><td>nan</td><td>nan</td><td>False</td><td>nan</td><td>nan</td><td>nan</td><td>nan</td><td>nan</td><td>nan</td><td>nan</td><td>nan</td><td>False</td><td>nan</td><td>NO_INFORMATION</td><td>False</td><td>False</td><td>0</td><td>5</td><td>0</td><td>nan</td><td>-99</td><td>False</td><td>0.019151621952242934</td></tr>\n",
       "<tr><td>HELP_J171516.384+603013.419</td><td>xFLS</td><td>258.818264769536</td><td>60.503727537000245</td><td>167362617</td><td>nan</td><td>nan</td><td>nan</td><td>nan</td><td>nan</td><td>nan</td><td>nan</td><td>nan</td><td>False</td><td>nan</td><td>nan</td><td>nan</td><td>nan</td><td>nan</td><td>nan</td><td>nan</td><td>nan</td><td>False</td><td>nan</td><td>nan</td><td>nan</td><td>nan</td><td>nan</td><td>nan</td><td>nan</td><td>nan</td><td>False</td><td>nan</td><td>nan</td><td>nan</td><td>nan</td><td>nan</td><td>nan</td><td>nan</td><td>nan</td><td>False</td><td>nan</td><td>nan</td><td>nan</td><td>nan</td><td>nan</td><td>nan</td><td>nan</td><td>nan</td><td>False</td><td>nan</td><td>nan</td><td>nan</td><td>nan</td><td>nan</td><td>nan</td><td>nan</td><td>nan</td><td>False</td><td>nan</td><td>nan</td><td>nan</td><td>nan</td><td>nan</td><td>nan</td><td>nan</td><td>nan</td><td>False</td><td>nan</td><td>nan</td><td>nan</td><td>nan</td><td>nan</td><td>nan</td><td>nan</td><td>nan</td><td>False</td><td>nan</td><td>nan</td><td>nan</td><td>nan</td><td>nan</td><td>nan</td><td>nan</td><td>nan</td><td>False</td><td>nan</td><td>nan</td><td>nan</td><td>nan</td><td>nan</td><td>nan</td><td>nan</td><td>nan</td><td>False</td><td>nan</td><td>nan</td><td>nan</td><td>nan</td><td>nan</td><td>nan</td><td>nan</td><td>nan</td><td>False</td><td>nan</td><td>nan</td><td>nan</td><td>nan</td><td>nan</td><td>nan</td><td>nan</td><td>nan</td><td>False</td><td>nan</td><td>nan</td><td>nan</td><td>nan</td><td>nan</td><td>nan</td><td>nan</td><td>nan</td><td>False</td><td>nan</td><td>nan</td><td>nan</td><td>nan</td><td>nan</td><td>nan</td><td>nan</td><td>nan</td><td>False</td><td>nan</td><td>nan</td><td>nan</td><td>nan</td><td>nan</td><td>nan</td><td>nan</td><td>nan</td><td>False</td><td>nan</td><td>nan</td><td>nan</td><td>nan</td><td>nan</td><td>nan</td><td>nan</td><td>nan</td><td>False</td><td>6833.54521675978</td><td>87.6417400022346</td><td>14.313384818900147</td><td>0.013924808741302858</td><td>4912.8179766</td><td>64.1898393036</td><td>14.671673316216292</td><td>0.014185999326960054</td><td>False</td><td>nan</td><td>nan</td><td>nan</td><td>nan</td><td>nan</td><td>nan</td><td>nan</td><td>nan</td><td>False</td><td>nan</td><td>nan</td><td>nan</td><td>nan</td><td>nan</td><td>nan</td><td>nan</td><td>nan</td><td>False</td><td>nan</td><td>NO_INFORMATION</td><td>False</td><td>False</td><td>0</td><td>5</td><td>0</td><td>nan</td><td>-99</td><td>False</td><td>0.020152653576351997</td></tr>\n",
       "<tr><td>HELP_J170938.399+592939.108</td><td>xFLS</td><td>257.40999776953595</td><td>59.49419653700025</td><td>167321947</td><td>nan</td><td>nan</td><td>nan</td><td>nan</td><td>nan</td><td>nan</td><td>nan</td><td>nan</td><td>False</td><td>nan</td><td>nan</td><td>nan</td><td>nan</td><td>nan</td><td>nan</td><td>nan</td><td>nan</td><td>False</td><td>nan</td><td>nan</td><td>nan</td><td>nan</td><td>nan</td><td>nan</td><td>nan</td><td>nan</td><td>False</td><td>nan</td><td>nan</td><td>nan</td><td>nan</td><td>nan</td><td>nan</td><td>nan</td><td>nan</td><td>False</td><td>nan</td><td>nan</td><td>nan</td><td>nan</td><td>nan</td><td>nan</td><td>nan</td><td>nan</td><td>False</td><td>nan</td><td>nan</td><td>nan</td><td>nan</td><td>nan</td><td>nan</td><td>nan</td><td>nan</td><td>False</td><td>nan</td><td>nan</td><td>nan</td><td>nan</td><td>nan</td><td>nan</td><td>nan</td><td>nan</td><td>False</td><td>nan</td><td>nan</td><td>nan</td><td>nan</td><td>nan</td><td>nan</td><td>nan</td><td>nan</td><td>False</td><td>nan</td><td>nan</td><td>nan</td><td>nan</td><td>nan</td><td>nan</td><td>nan</td><td>nan</td><td>False</td><td>nan</td><td>nan</td><td>nan</td><td>nan</td><td>nan</td><td>nan</td><td>nan</td><td>nan</td><td>False</td><td>nan</td><td>nan</td><td>nan</td><td>nan</td><td>nan</td><td>nan</td><td>nan</td><td>nan</td><td>False</td><td>nan</td><td>nan</td><td>nan</td><td>nan</td><td>nan</td><td>nan</td><td>nan</td><td>nan</td><td>False</td><td>nan</td><td>nan</td><td>nan</td><td>nan</td><td>nan</td><td>nan</td><td>nan</td><td>nan</td><td>False</td><td>nan</td><td>nan</td><td>nan</td><td>nan</td><td>nan</td><td>nan</td><td>nan</td><td>nan</td><td>False</td><td>nan</td><td>nan</td><td>nan</td><td>nan</td><td>nan</td><td>nan</td><td>nan</td><td>nan</td><td>False</td><td>nan</td><td>nan</td><td>nan</td><td>nan</td><td>nan</td><td>nan</td><td>nan</td><td>nan</td><td>False</td><td>7290.15422849162</td><td>89.4543540234637</td><td>14.243158209426483</td><td>0.01332260303313516</td><td>5223.1553352</td><td>64.10703168</td><td>14.605167645431898</td><td>0.013325915238530273</td><td>False</td><td>nan</td><td>nan</td><td>nan</td><td>nan</td><td>nan</td><td>nan</td><td>nan</td><td>nan</td><td>False</td><td>nan</td><td>nan</td><td>nan</td><td>nan</td><td>nan</td><td>nan</td><td>nan</td><td>nan</td><td>False</td><td>nan</td><td>NO_INFORMATION</td><td>False</td><td>False</td><td>0</td><td>7</td><td>0</td><td>nan</td><td>-99</td><td>False</td><td>0.018913572511394795</td></tr>\n",
       "<tr><td>HELP_J171020.491+600058.700</td><td>xFLS</td><td>257.58537776953597</td><td>60.01630553700025</td><td>167347495</td><td>nan</td><td>nan</td><td>nan</td><td>nan</td><td>nan</td><td>nan</td><td>nan</td><td>nan</td><td>False</td><td>nan</td><td>nan</td><td>nan</td><td>nan</td><td>nan</td><td>nan</td><td>nan</td><td>nan</td><td>False</td><td>nan</td><td>nan</td><td>nan</td><td>nan</td><td>nan</td><td>nan</td><td>nan</td><td>nan</td><td>False</td><td>nan</td><td>nan</td><td>nan</td><td>nan</td><td>nan</td><td>nan</td><td>nan</td><td>nan</td><td>False</td><td>nan</td><td>nan</td><td>nan</td><td>nan</td><td>nan</td><td>nan</td><td>nan</td><td>nan</td><td>False</td><td>nan</td><td>nan</td><td>nan</td><td>nan</td><td>nan</td><td>nan</td><td>nan</td><td>nan</td><td>False</td><td>nan</td><td>nan</td><td>nan</td><td>nan</td><td>nan</td><td>nan</td><td>nan</td><td>nan</td><td>False</td><td>nan</td><td>nan</td><td>nan</td><td>nan</td><td>nan</td><td>nan</td><td>nan</td><td>nan</td><td>False</td><td>nan</td><td>nan</td><td>nan</td><td>nan</td><td>nan</td><td>nan</td><td>nan</td><td>nan</td><td>False</td><td>nan</td><td>nan</td><td>nan</td><td>nan</td><td>nan</td><td>nan</td><td>nan</td><td>nan</td><td>False</td><td>nan</td><td>nan</td><td>nan</td><td>nan</td><td>nan</td><td>nan</td><td>nan</td><td>nan</td><td>False</td><td>nan</td><td>nan</td><td>nan</td><td>nan</td><td>nan</td><td>nan</td><td>nan</td><td>nan</td><td>False</td><td>nan</td><td>nan</td><td>nan</td><td>nan</td><td>nan</td><td>nan</td><td>nan</td><td>nan</td><td>False</td><td>nan</td><td>nan</td><td>nan</td><td>nan</td><td>nan</td><td>nan</td><td>nan</td><td>nan</td><td>False</td><td>nan</td><td>nan</td><td>nan</td><td>nan</td><td>nan</td><td>nan</td><td>nan</td><td>nan</td><td>False</td><td>nan</td><td>nan</td><td>nan</td><td>nan</td><td>nan</td><td>nan</td><td>nan</td><td>nan</td><td>False</td><td>7825.63009273743</td><td>130.449763726257</td><td>14.166201711200706</td><td>0.018098738338167088</td><td>20483.3487396</td><td>169.293833556</td><td>13.12149760212123</td><td>0.008973554406106126</td><td>False</td><td>nan</td><td>nan</td><td>nan</td><td>nan</td><td>nan</td><td>nan</td><td>nan</td><td>nan</td><td>False</td><td>3572.79809624309</td><td>103.143472232044</td><td>15.017478814213376</td><td>0.03134422910842692</td><td>6712.101798</td><td>185.247213348</td><td>14.332853663681995</td><td>0.02996521989913911</td><td>False</td><td>nan</td><td>NO_INFORMATION</td><td>False</td><td>False</td><td>0</td><td>5</td><td>4</td><td>nan</td><td>-99</td><td>False</td><td>0.018104391324290606</td></tr>\n",
       "<tr><td>HELP_J172338.239+583419.296</td><td>xFLS</td><td>260.909330769536</td><td>58.572026537000255</td><td>166853069</td><td>nan</td><td>nan</td><td>nan</td><td>nan</td><td>nan</td><td>nan</td><td>nan</td><td>nan</td><td>False</td><td>nan</td><td>nan</td><td>nan</td><td>nan</td><td>nan</td><td>nan</td><td>nan</td><td>nan</td><td>False</td><td>nan</td><td>nan</td><td>nan</td><td>nan</td><td>nan</td><td>nan</td><td>nan</td><td>nan</td><td>False</td><td>nan</td><td>nan</td><td>nan</td><td>nan</td><td>nan</td><td>nan</td><td>nan</td><td>nan</td><td>False</td><td>nan</td><td>nan</td><td>nan</td><td>nan</td><td>nan</td><td>nan</td><td>nan</td><td>nan</td><td>False</td><td>nan</td><td>nan</td><td>nan</td><td>nan</td><td>nan</td><td>nan</td><td>nan</td><td>nan</td><td>False</td><td>nan</td><td>nan</td><td>nan</td><td>nan</td><td>nan</td><td>nan</td><td>nan</td><td>nan</td><td>False</td><td>nan</td><td>nan</td><td>nan</td><td>nan</td><td>nan</td><td>nan</td><td>nan</td><td>nan</td><td>False</td><td>nan</td><td>nan</td><td>nan</td><td>nan</td><td>nan</td><td>nan</td><td>nan</td><td>nan</td><td>False</td><td>nan</td><td>nan</td><td>nan</td><td>nan</td><td>nan</td><td>nan</td><td>nan</td><td>nan</td><td>False</td><td>nan</td><td>nan</td><td>nan</td><td>nan</td><td>nan</td><td>nan</td><td>nan</td><td>nan</td><td>False</td><td>nan</td><td>nan</td><td>nan</td><td>nan</td><td>nan</td><td>nan</td><td>nan</td><td>nan</td><td>False</td><td>nan</td><td>nan</td><td>nan</td><td>nan</td><td>nan</td><td>nan</td><td>nan</td><td>nan</td><td>False</td><td>nan</td><td>nan</td><td>nan</td><td>nan</td><td>nan</td><td>nan</td><td>nan</td><td>nan</td><td>False</td><td>nan</td><td>nan</td><td>nan</td><td>nan</td><td>nan</td><td>nan</td><td>nan</td><td>nan</td><td>False</td><td>nan</td><td>nan</td><td>nan</td><td>nan</td><td>nan</td><td>nan</td><td>nan</td><td>nan</td><td>False</td><td>9147.65674357542</td><td>131.606483865922</td><td>13.99672535053488</td><td>0.01562038545166253</td><td>15388.946973</td><td>499.428056016</td><td>13.431977742081763</td><td>0.03523614208560977</td><td>False</td><td>nan</td><td>nan</td><td>nan</td><td>nan</td><td>nan</td><td>nan</td><td>nan</td><td>nan</td><td>False</td><td>3215.60623635359</td><td>87.6528623779005</td><td>15.131842844343147</td><td>0.02959562805248385</td><td>4230.140772</td><td>246.647106564</td><td>14.834112949478744</td><td>0.06330609495739288</td><td>False</td><td>nan</td><td>NO_INFORMATION</td><td>False</td><td>False</td><td>0</td><td>7</td><td>4</td><td>nan</td><td>-99</td><td>False</td><td>0.024534748298575156</td></tr>\n",
       "<tr><td>HELP_J170924.622+585537.918</td><td>xFLS</td><td>257.352591769536</td><td>58.92719953700025</td><td>166963824</td><td>nan</td><td>nan</td><td>nan</td><td>nan</td><td>nan</td><td>nan</td><td>nan</td><td>nan</td><td>False</td><td>nan</td><td>nan</td><td>nan</td><td>nan</td><td>nan</td><td>nan</td><td>nan</td><td>nan</td><td>False</td><td>nan</td><td>nan</td><td>nan</td><td>nan</td><td>nan</td><td>nan</td><td>nan</td><td>nan</td><td>False</td><td>nan</td><td>nan</td><td>nan</td><td>nan</td><td>nan</td><td>nan</td><td>nan</td><td>nan</td><td>False</td><td>nan</td><td>nan</td><td>nan</td><td>nan</td><td>nan</td><td>nan</td><td>nan</td><td>nan</td><td>False</td><td>nan</td><td>nan</td><td>nan</td><td>nan</td><td>nan</td><td>nan</td><td>nan</td><td>nan</td><td>False</td><td>nan</td><td>nan</td><td>nan</td><td>nan</td><td>nan</td><td>nan</td><td>nan</td><td>nan</td><td>False</td><td>nan</td><td>nan</td><td>nan</td><td>nan</td><td>nan</td><td>nan</td><td>nan</td><td>nan</td><td>False</td><td>nan</td><td>nan</td><td>nan</td><td>nan</td><td>nan</td><td>nan</td><td>nan</td><td>nan</td><td>False</td><td>nan</td><td>nan</td><td>nan</td><td>nan</td><td>nan</td><td>nan</td><td>nan</td><td>nan</td><td>False</td><td>nan</td><td>nan</td><td>nan</td><td>nan</td><td>nan</td><td>nan</td><td>nan</td><td>nan</td><td>False</td><td>nan</td><td>nan</td><td>nan</td><td>nan</td><td>nan</td><td>nan</td><td>nan</td><td>nan</td><td>False</td><td>nan</td><td>nan</td><td>nan</td><td>nan</td><td>nan</td><td>nan</td><td>nan</td><td>nan</td><td>False</td><td>nan</td><td>nan</td><td>nan</td><td>nan</td><td>nan</td><td>nan</td><td>nan</td><td>nan</td><td>False</td><td>nan</td><td>nan</td><td>nan</td><td>nan</td><td>nan</td><td>nan</td><td>nan</td><td>nan</td><td>False</td><td>nan</td><td>nan</td><td>nan</td><td>nan</td><td>nan</td><td>nan</td><td>nan</td><td>nan</td><td>False</td><td>3302.79525796089</td><td>134.93388601676</td><td>15.102795869051654</td><td>0.044357156243330725</td><td>13943.7836958</td><td>201.692849364</td><td>13.539048407195153</td><td>0.01570486415830467</td><td>False</td><td>nan</td><td>nan</td><td>nan</td><td>nan</td><td>nan</td><td>nan</td><td>nan</td><td>nan</td><td>False</td><td>nan</td><td>nan</td><td>nan</td><td>nan</td><td>nan</td><td>nan</td><td>nan</td><td>nan</td><td>False</td><td>nan</td><td>NO_INFORMATION</td><td>False</td><td>False</td><td>0</td><td>7</td><td>0</td><td>nan</td><td>-99</td><td>False</td><td>0.0294339376528006</td></tr>\n",
       "<tr><td>HELP_J172541.405+600254.062</td><td>xFLS</td><td>261.42251876953594</td><td>60.048350537000246</td><td>167152033</td><td>nan</td><td>nan</td><td>nan</td><td>nan</td><td>nan</td><td>nan</td><td>nan</td><td>nan</td><td>False</td><td>nan</td><td>nan</td><td>nan</td><td>nan</td><td>nan</td><td>nan</td><td>nan</td><td>nan</td><td>False</td><td>nan</td><td>nan</td><td>nan</td><td>nan</td><td>nan</td><td>nan</td><td>nan</td><td>nan</td><td>False</td><td>nan</td><td>nan</td><td>nan</td><td>nan</td><td>nan</td><td>nan</td><td>nan</td><td>nan</td><td>False</td><td>nan</td><td>nan</td><td>nan</td><td>nan</td><td>nan</td><td>nan</td><td>nan</td><td>nan</td><td>False</td><td>nan</td><td>nan</td><td>nan</td><td>nan</td><td>nan</td><td>nan</td><td>nan</td><td>nan</td><td>False</td><td>nan</td><td>nan</td><td>nan</td><td>nan</td><td>nan</td><td>nan</td><td>nan</td><td>nan</td><td>False</td><td>nan</td><td>nan</td><td>nan</td><td>nan</td><td>nan</td><td>nan</td><td>nan</td><td>nan</td><td>False</td><td>nan</td><td>nan</td><td>nan</td><td>nan</td><td>nan</td><td>nan</td><td>nan</td><td>nan</td><td>False</td><td>nan</td><td>nan</td><td>nan</td><td>nan</td><td>nan</td><td>nan</td><td>nan</td><td>nan</td><td>False</td><td>nan</td><td>nan</td><td>nan</td><td>nan</td><td>nan</td><td>nan</td><td>nan</td><td>nan</td><td>False</td><td>nan</td><td>nan</td><td>nan</td><td>nan</td><td>nan</td><td>nan</td><td>nan</td><td>nan</td><td>False</td><td>nan</td><td>nan</td><td>nan</td><td>nan</td><td>nan</td><td>nan</td><td>nan</td><td>nan</td><td>False</td><td>nan</td><td>nan</td><td>nan</td><td>nan</td><td>nan</td><td>nan</td><td>nan</td><td>nan</td><td>False</td><td>nan</td><td>nan</td><td>nan</td><td>nan</td><td>nan</td><td>nan</td><td>nan</td><td>nan</td><td>False</td><td>nan</td><td>nan</td><td>nan</td><td>nan</td><td>nan</td><td>nan</td><td>nan</td><td>nan</td><td>False</td><td>169367.13302514</td><td>272.370012486033</td><td>10.827927159905734</td><td>0.0017460411495695226</td><td>431123.5788</td><td>277.9991979</td><td>9.813495560687706</td><td>0.0007001096875607726</td><td>False</td><td>682095.757128713</td><td>641.575504653465</td><td>9.31538662980546</td><td>0.0010212374819929984</td><td>870194.1984</td><td>531.791804292</td><td>9.05095954120646</td><td>0.0006635135195972297</td><td>False</td><td>309113.523392265</td><td>628.202828044199</td><td>10.174704986483086</td><td>0.0022065115328956187</td><td>386686.82694</td><td>430.481655564</td><td>9.931601556400693</td><td>0.0012087029771060077</td><td>False</td><td>nan</td><td>NO_INFORMATION</td><td>False</td><td>False</td><td>2</td><td>5</td><td>4</td><td>nan</td><td>-99</td><td>False</td><td>0.022702338136820654</td></tr>\n",
       "</table>"
      ],
      "text/plain": [
       "<Table length=977148>\n",
       "          help_id            field  ...         ebv         \n",
       "                                    ...                     \n",
       "          bytes27           bytes18 ...       float64       \n",
       "--------------------------- ------- ... --------------------\n",
       "HELP_J171515.693+593449.176    xFLS ... 0.020070989753498032\n",
       "HELP_J171649.295+594802.193    xFLS ...  0.01711922712503021\n",
       "HELP_J171450.454+594023.651    xFLS ... 0.021086459042652068\n",
       "HELP_J171437.152+593534.143    xFLS ... 0.021031433721514517\n",
       "HELP_J171528.775+593543.488    xFLS ... 0.019632286881600215\n",
       "HELP_J171507.651+593657.583    xFLS ... 0.020384931100762248\n",
       "HELP_J171504.436+595618.290    xFLS ...  0.01636112160211106\n",
       "HELP_J171612.820+594930.806    xFLS ... 0.016972870990994683\n",
       "HELP_J171650.626+594915.037    xFLS ...  0.01732248049063278\n",
       "                        ...     ... ...                  ...\n",
       "HELP_J171544.157+583313.758    xFLS ... 0.020894989373049525\n",
       "HELP_J171829.652+603008.091    xFLS ... 0.021612789447239458\n",
       "HELP_J172527.345+592612.374    xFLS ... 0.025678381580206234\n",
       "HELP_J171033.991+601006.184    xFLS ... 0.019151621952242934\n",
       "HELP_J171516.384+603013.419    xFLS ... 0.020152653576351997\n",
       "HELP_J170938.399+592939.108    xFLS ... 0.018913572511394795\n",
       "HELP_J171020.491+600058.700    xFLS ... 0.018104391324290606\n",
       "HELP_J172338.239+583419.296    xFLS ... 0.024534748298575156\n",
       "HELP_J170924.622+585537.918    xFLS ...   0.0294339376528006\n",
       "HELP_J172541.405+600254.062    xFLS ... 0.022702338136820654"
      ]
     },
     "execution_count": 8,
     "metadata": {},
     "output_type": "execute_result"
    }
   ],
   "source": [
    "ml"
   ]
  },
  {
   "cell_type": "code",
   "execution_count": 9,
   "metadata": {},
   "outputs": [
    {
     "name": "stderr",
     "output_type": "stream",
     "text": [
      "/Users/rs548/anaconda/envs/herschelhelp_internal/lib/python3.6/site-packages/scipy/stats/stats.py:1713: FutureWarning: Using a non-tuple sequence for multidimensional indexing is deprecated; use `arr[tuple(seq)]` instead of `arr[seq]`. In the future this will be interpreted as an array index, `arr[np.array(seq)]`, which will result either in an error or a different result.\n",
      "  return np.add.reduce(sorted[indexer] * weights, axis=axis) / sumval\n"
     ]
    },
    {
     "data": {
      "image/png": "[encoded data removed]",
      "text/plain": [
       "<matplotlib.figure.Figure at 0x81c58a978>"
      ]
     },
     "metadata": {},
     "output_type": "display_data"
    }
   ],
   "source": [
    "nb_merge_dist_plot(\n",
    "    SkyCoord(ml['ra'], ml['dec']),\n",
    "    SkyCoord(desi_photoz['ra'], desi_photoz['dec'])\n",
    ")"
   ]
  },
  {
   "cell_type": "code",
   "execution_count": 10,
   "metadata": {},
   "outputs": [],
   "source": [
    "# Given the graph above, we use 0.8 arc-second radius\n",
    "desi_photoz['ra'].name = 'desi_ra'\n",
    "desi_photoz['dec'].name = 'desi_dec'\n",
    "photoz = merge_catalogues(ml, desi_photoz, \"desi_ra\", \"desi_dec\", radius=0.8*u.arcsec)"
   ]
  },
  {
   "cell_type": "code",
   "execution_count": 25,
   "metadata": {},
   "outputs": [],
   "source": [
    "photoz['help_id'].fill_value = ''\n",
    "photoz['photo_z'].fill_value = np.nan\n",
    "photoz = photoz.filled()\n",
    "has_help = photoz['help_id'] != ''\n",
    "has_z = ~np.isnan(photoz['photo_z'])\n",
    "photoz = photoz[has_help & has_z]\n",
    "photoz.meta = None\n",
    "photoz['help_id', 'id', 'ra', 'dec', 'photo_z', 'photo_zerr'].write('./data/xFLS_DESI-DR7_Zou_et_al_2019_photo_z_withhelp_id.fits', overwrite=True)"
   ]
  },
  {
   "cell_type": "code",
   "execution_count": 26,
   "metadata": {},
   "outputs": [
    {
     "data": {
      "text/html": [
       "<i>Table length=101282</i>\n",
       "<table id=\"table112224483928\" class=\"table-striped table-bordered table-condensed\">\n",
       "<thead><tr><th>help_id</th><th>id</th><th>ra</th><th>dec</th><th>photo_z</th><th>photo_zerr</th></tr></thead>\n",
       "<thead><tr><th></th><th></th><th>deg</th><th>deg</th><th></th><th></th></tr></thead>\n",
       "<thead><tr><th>bytes27</th><th>str16</th><th>float64</th><th>float64</th><th>float64</th><th>float64</th></tr></thead>\n",
       "<tr><td>HELP_J170626.324+590423.043</td><td>6000614713003284</td><td>256.609682112679</td><td>59.0730674737803</td><td>0.31536967</td><td>0.023947578</td></tr>\n",
       "<tr><td>HELP_J172514.094+580451.789</td><td>6000611704003364</td><td>261.308726742679</td><td>58.0810525337803</td><td>0.61404544</td><td>0.032785732</td></tr>\n",
       "<tr><td>HELP_J170431.405+585753.893</td><td>6000614712001611</td><td>256.13085530267904</td><td>58.9649701737803</td><td>0.4674209</td><td>0.085915804</td></tr>\n",
       "<tr><td>HELP_J170811.026+585534.412</td><td>6000614714000741</td><td>257.045940442679</td><td>58.9262254337803</td><td>0.24395078</td><td>0.016914459</td></tr>\n",
       "<tr><td>HELP_J172401.299+580445.122</td><td>6000611703003245</td><td>261.00541046267904</td><td>58.0792006037803</td><td>0.33172032</td><td>0.09115302</td></tr>\n",
       "<tr><td>HELP_J171923.378+583333.386</td><td>6000613221002962</td><td>259.84740781509</td><td>58.5592737957439</td><td>0.7280848</td><td>0.14990416</td></tr>\n",
       "<tr><td>HELP_J170907.079+581531.374</td><td>6000612458001965</td><td>257.279495122679</td><td>58.2587149037803</td><td>0.435786</td><td>0.02429404</td></tr>\n",
       "<tr><td>HELP_J170511.015+584341.783</td><td>6000613965001576</td><td>256.2958952276554</td><td>58.72827318371857</td><td>0.76796037</td><td>0.18461767</td></tr>\n",
       "<tr><td>HELP_J170723.613+602055.043</td><td>6000618368003315</td><td>256.84838554509</td><td>60.3486229847439</td><td>0.49708125</td><td>0.10115999</td></tr>\n",
       "<tr><td>...</td><td>...</td><td>...</td><td>...</td><td>...</td><td>...</td></tr>\n",
       "<tr><td>HELP_J171753.781+583642.425</td><td>6000613220003630</td><td>259.47408584509</td><td>58.6117847557439</td><td>0.53430086</td><td>0.18649818</td></tr>\n",
       "<tr><td>HELP_J171418.140+600311.999</td><td>6000617652002574</td><td>258.57558493109</td><td>60.0533330007439</td><td>0.6374465</td><td>0.052608784</td></tr>\n",
       "<tr><td>HELP_J172312.558+593937.910</td><td>6000616930000599</td><td>260.80232647809</td><td>59.6605305777439</td><td>0.17116317</td><td>0.1813092</td></tr>\n",
       "<tr><td>HELP_J171752.175+582148.175</td><td>6000612463003829</td><td>259.46739788209</td><td>58.3633820777439</td><td>0.47179782</td><td>0.10344906</td></tr>\n",
       "<tr><td>HELP_J170649.442+595339.313</td><td>6000617648000369</td><td>256.7060098464682</td><td>59.89425353881514</td><td>0.72470576</td><td>0.114781596</td></tr>\n",
       "<tr><td>HELP_J171413.892+593939.493</td><td>6000616926000579</td><td>258.55788420109</td><td>59.6609703867439</td><td>0.41047302</td><td>0.1313259</td></tr>\n",
       "<tr><td>HELP_J170825.445+600717.897</td><td>6000617649003802</td><td>257.10601957509</td><td>60.1216380007439</td><td>0.8098939</td><td>0.06419812</td></tr>\n",
       "<tr><td>HELP_J171841.239+600128.381</td><td>6000617654002461</td><td>259.67182926809</td><td>60.0245504087439</td><td>0.9069546</td><td>0.1959535</td></tr>\n",
       "<tr><td>HELP_J170553.795+583323.582</td><td>6000613214003131</td><td>256.47414735267904</td><td>58.5565504337803</td><td>0.15475456</td><td>0.078742735</td></tr>\n",
       "<tr><td>HELP_J172156.741+595022.497</td><td>6000616930003607</td><td>260.48642280609</td><td>59.8395826337439</td><td>0.7255301</td><td>0.07153444</td></tr>\n",
       "</table>"
      ],
      "text/plain": [
       "<Table length=101282>\n",
       "          help_id                  id        ...  photo_z    photo_zerr\n",
       "                                             ...                       \n",
       "          bytes27                str16       ...  float64     float64  \n",
       "--------------------------- ---------------- ... ---------- -----------\n",
       "HELP_J170626.324+590423.043 6000614713003284 ... 0.31536967 0.023947578\n",
       "HELP_J172514.094+580451.789 6000611704003364 ... 0.61404544 0.032785732\n",
       "HELP_J170431.405+585753.893 6000614712001611 ...  0.4674209 0.085915804\n",
       "HELP_J170811.026+585534.412 6000614714000741 ... 0.24395078 0.016914459\n",
       "HELP_J172401.299+580445.122 6000611703003245 ... 0.33172032  0.09115302\n",
       "HELP_J171923.378+583333.386 6000613221002962 ...  0.7280848  0.14990416\n",
       "HELP_J170907.079+581531.374 6000612458001965 ...   0.435786  0.02429404\n",
       "HELP_J170511.015+584341.783 6000613965001576 ... 0.76796037  0.18461767\n",
       "HELP_J170723.613+602055.043 6000618368003315 ... 0.49708125  0.10115999\n",
       "                        ...              ... ...        ...         ...\n",
       "HELP_J171753.781+583642.425 6000613220003630 ... 0.53430086  0.18649818\n",
       "HELP_J171418.140+600311.999 6000617652002574 ...  0.6374465 0.052608784\n",
       "HELP_J172312.558+593937.910 6000616930000599 ... 0.17116317   0.1813092\n",
       "HELP_J171752.175+582148.175 6000612463003829 ... 0.47179782  0.10344906\n",
       "HELP_J170649.442+595339.313 6000617648000369 ... 0.72470576 0.114781596\n",
       "HELP_J171413.892+593939.493 6000616926000579 ... 0.41047302   0.1313259\n",
       "HELP_J170825.445+600717.897 6000617649003802 ...  0.8098939  0.06419812\n",
       "HELP_J171841.239+600128.381 6000617654002461 ...  0.9069546   0.1959535\n",
       "HELP_J170553.795+583323.582 6000613214003131 ... 0.15475456 0.078742735\n",
       "HELP_J172156.741+595022.497 6000616930003607 ...  0.7255301  0.07153444"
      ]
     },
     "execution_count": 26,
     "metadata": {},
     "output_type": "execute_result"
    }
   ],
   "source": [
    "photoz\n"
   ]
  },
  {
   "cell_type": "code",
   "execution_count": null,
   "metadata": {},
   "outputs": [],
   "source": []
  },
  {
   "cell_type": "code",
   "execution_count": null,
   "metadata": {},
   "outputs": [],
   "source": []
  }
 ],
 "metadata": {
  "anaconda-cloud": {},
  "kernelspec": {
   "display_name": "Python (herschelhelp_internal)",
   "language": "python",
   "name": "helpint"
  },
  "language_info": {
   "codemirror_mode": {
    "name": "ipython",
    "version": 3
   },
   "file_extension": ".py",
   "mimetype": "text/x-python",
   "name": "python",
   "nbconvert_exporter": "python",
   "pygments_lexer": "ipython3",
   "version": "3.6.8"
  }
 },
 "nbformat": 4,
 "nbformat_minor": 2
}
