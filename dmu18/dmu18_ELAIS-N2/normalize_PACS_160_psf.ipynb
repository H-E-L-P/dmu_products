{
 "cells": [
  {
   "cell_type": "markdown",
   "metadata": {},
   "source": [
    "# PSF normalization\n",
    "\n",
    "Let us assume that we have reduced an observation, for which we have determined the PSF by stacking the flux of point-like sources. The PSF we obtain will not be as high S/N as the instrumental PSF that has been determined by the instrument team. Moreover, it is likely to be fattened due to the some small pointing errors. We need to find out what fraction of a point-like flux the PSF we have determined represent. In order to do this, we use the growth curve of the theoretical PSF that has been determine by the instrument team, and compare it to the growth curve we determine from our PSF.\n",
    "\n",
    "We will first look at a theoretical case, then go practical with an example drawn from the PACS observation of the the XMM-LSS.\n",
    "\n",
    "## 1) Theoretical example. \n",
    "\n",
    "Let us suppose we have a perfect telescope, without any central obscuration and spider to support the secondary. Diffraction theory gives us the shape of a PSF in this case, an Airy function. Let's compute it, and assume the resolution is 10\".\n"
   ]
  },
  {
   "cell_type": "code",
   "execution_count": 1,
   "metadata": {
    "collapsed": true
   },
   "outputs": [],
   "source": [
    "# import what we will need. \n",
    "%matplotlib inline\n",
    "import numpy as np\n",
    "from astropy.io import fits\n",
    "from astropy.table import Table\n",
    "from astropy.io import ascii as asciiread\n",
    "from matplotlib import pyplot as plt\n",
    "from scipy import interpolate \n",
    "from scipy import special\n",
    "from scipy import signal\n",
    "from scipy import fftpack"
   ]
  },
  {
   "cell_type": "code",
   "execution_count": null,
   "metadata": {
    "collapsed": true
   },
   "outputs": [],
   "source": [
    "# Let us perform our computation with a 0.1\" resolution on a 5' field of view\n",
    "resol = 0.1\n",
    "size = 300.\n",
    "# wavelength\n",
    "wavelength = 250e-6\n",
    "# primary aperture = 3.6 m diameter\n",
    "aperture = 3.6 / 2."
   ]
  },
  {
   "cell_type": "code",
   "execution_count": null,
   "metadata": {
    "collapsed": true
   },
   "outputs": [],
   "source": [
    "# Ensure we have an odd number of points \n",
    "nbpix = np.ceil(size/resol) // 2 * 2 + 1\n",
    "xcen = int((nbpix - 1) / 2)\n",
    "ycen = int((nbpix - 1) / 2)\n",
    "x = y = (np.arange(nbpix) - xcen)*resol\n",
    "xv, yv = np.meshgrid(x, y, sparse=False, indexing='xy')\n",
    "r = np.sqrt(xv**2+yv**2)\n",
    "# avoid division by 0 problems in the center\n",
    "r[xcen,ycen] = 1e-6\n",
    "# coordinates in fourier\n",
    "q = 2 * np.pi / wavelength * aperture * np.sin(r/3600.*np.pi/180.)"
   ]
  },
  {
   "cell_type": "code",
   "execution_count": null,
   "metadata": {
    "collapsed": true
   },
   "outputs": [],
   "source": [
    "psf = (2*special.jn(1, q)/q)**2"
   ]
  },
  {
   "cell_type": "code",
   "execution_count": null,
   "metadata": {
    "collapsed": true
   },
   "outputs": [],
   "source": [
    "# put back the correct value at center\n",
    "psf[xcen, ycen] = 1.\n",
    "# and normalize the PSF\n",
    "psf = psf/(np.sum(psf)*resol**2)"
   ]
  },
  {
   "cell_type": "code",
   "execution_count": null,
   "metadata": {},
   "outputs": [],
   "source": [
    "plt.imshow(np.log10(psf))\n",
    "print(r'$\\int\\int$ psf dx dy = {}'.format(np.sum(psf)*resol**2))"
   ]
  },
  {
   "cell_type": "code",
   "execution_count": null,
   "metadata": {},
   "outputs": [],
   "source": [
    "plt.plot(y[ycen-500:ycen+500], psf[ycen-500:ycen+500, xcen], label='Without obscuration')\n",
    "plt.legend()"
   ]
  },
  {
   "cell_type": "markdown",
   "metadata": {},
   "source": [
    "Let us now suppose that we observe a point source, and our image reconstruction has a ...This will shows a a blurring of the image, with a gaussian of 10\" FWHM. Let's generate this blurring"
   ]
  },
  {
   "cell_type": "code",
   "execution_count": null,
   "metadata": {
    "collapsed": true
   },
   "outputs": [],
   "source": [
    "fwhm = 10.\n",
    "sigma = fwhm / 2. / np.sqrt(2. * np.log(fwhm))\n",
    "sigmasq = sigma**2\n",
    "kernel_blur = 1./ 2./ np.pi / sigmasq * np.exp(-(r**2/2./sigmasq))"
   ]
  },
  {
   "cell_type": "code",
   "execution_count": null,
   "metadata": {},
   "outputs": [],
   "source": [
    "# Check our kernel is properly normalized\n",
    "np.sum(kernel_blur*resol**2)"
   ]
  },
  {
   "cell_type": "code",
   "execution_count": null,
   "metadata": {
    "collapsed": true
   },
   "outputs": [],
   "source": [
    "# apply the blur\n",
    "psfblur = signal.convolve(psf, kernel_blur, mode='same')*resol**2"
   ]
  },
  {
   "cell_type": "code",
   "execution_count": null,
   "metadata": {},
   "outputs": [],
   "source": [
    "plt.plot(y[ycen-500:ycen+500], psf[ycen-500:ycen+500, xcen], label='Original')\n",
    "plt.plot(y[ycen-500:ycen+500], psfblur[ycen-500:ycen+500, xcen], label='With blurring')\n",
    "plt.legend()"
   ]
  },
  {
   "cell_type": "markdown",
   "metadata": {},
   "source": [
    "We see the effect of blurring, the, observed PSF is wider, and we have lost some flux in the central core. Suppose now that we observed this psf with sources of unknown fluxes, so that we re unsure of its scaling, and that a background remain in our observation"
   ]
  },
  {
   "cell_type": "code",
   "execution_count": null,
   "metadata": {
    "collapsed": true
   },
   "outputs": [],
   "source": [
    "psfobs = psfblur * 2. + 1e-4"
   ]
  },
  {
   "cell_type": "markdown",
   "metadata": {},
   "source": [
    "The question is now how to recover the PSF that serve for our observation. For this, we will use the PSFs curve of growth. "
   ]
  },
  {
   "cell_type": "code",
   "execution_count": null,
   "metadata": {},
   "outputs": [],
   "source": [
    "radii = np.arange(0, np.max(r), resol)\n",
    "growth_psf = np.zeros(radii.shape)\n",
    "growth_psfobs = np.zeros(radii.shape)\n",
    "nbpix_psfobs = np.zeros(radii.shape)\n",
    "for i, radius in enumerate(radii):\n",
    "    if ((i % 100) == 0):\n",
    "        print(radius, np.max(radii))\n",
    "    if i == 0:\n",
    "        idj, idi = np.where(r <= radius)\n",
    "        growth_psf[i] = np.sum(psf[idj, idi])*resol**2\n",
    "        growth_psfobs[i] = np.sum(psfobs[idj, idi])*resol**2\n",
    "        nbpix_psfobs[i] =len(idi)\n",
    "    else:\n",
    "        idj, idi = np.where((r > radii[i-1]) & (r <= radius))\n",
    "        growth_psf[i] = growth_psf[i-1]+np.sum(psf[idj, idi])*resol**2\n",
    "        growth_psfobs[i] = growth_psfobs[i-1]+np.sum(psfobs[idj, idi])*resol**2\n",
    "        nbpix_psfobs[i] = nbpix_psfobs[i-1]+len(idi)"
   ]
  },
  {
   "cell_type": "code",
   "execution_count": null,
   "metadata": {},
   "outputs": [],
   "source": [
    "plt.plot(radii, growth_psf, label='PSF')\n",
    "plt.plot(radii, growth_psfobs, label='Observed PSF')\n",
    "plt.xlabel('Radius [arcsec]')\n",
    "plt.ylabel('Encircled flux')\n",
    "plt.legend()"
   ]
  },
  {
   "cell_type": "markdown",
   "metadata": {},
   "source": [
    "This strongly rising shape of the observed PSF is a sure sign of an non zero background. Let's determine it. "
   ]
  },
  {
   "cell_type": "code",
   "execution_count": null,
   "metadata": {},
   "outputs": [],
   "source": [
    "plt.plot(nbpix_psfobs, growth_psfobs)\n",
    "plt.xlabel('Number of pixels')\n",
    "plt.ylabel('Encircled flux')"
   ]
  },
  {
   "cell_type": "markdown",
   "metadata": {},
   "source": [
    "When plotted as a function of the intergated area, there is a clear linear relation, that we will fit:"
   ]
  },
  {
   "cell_type": "code",
   "execution_count": null,
   "metadata": {
    "collapsed": true
   },
   "outputs": [],
   "source": [
    "idx, = np.where(radii > 50)\n",
    "p = np.polyfit(nbpix_psfobs[idx], growth_psfobs[idx], 1)\n",
    "bkg = p[0]/resol**2"
   ]
  },
  {
   "cell_type": "code",
   "execution_count": null,
   "metadata": {
    "collapsed": true
   },
   "outputs": [],
   "source": [
    "# Correct PSF and curve of growth\n",
    "psfcor = psfobs-bkg\n",
    "growth_psfcor = growth_psfobs - bkg*nbpix_psfobs*resol**2"
   ]
  },
  {
   "cell_type": "code",
   "execution_count": null,
   "metadata": {},
   "outputs": [],
   "source": [
    "plt.plot(radii, growth_psf, label='PSF')\n",
    "plt.plot(radii, growth_psfcor, label='Observed PSF')\n",
    "plt.xlabel('Radius [arcsec]')\n",
    "plt.ylabel('Encircled flux')\n",
    "plt.legend()"
   ]
  },
  {
   "cell_type": "markdown",
   "metadata": {},
   "source": [
    "<a id='direct_ratio'></a> Let's have a look at the ratio of the two:"
   ]
  },
  {
   "cell_type": "code",
   "execution_count": null,
   "metadata": {},
   "outputs": [],
   "source": [
    "plt.plot(radii[1:], growth_psfcor[1:]/growth_psf[1:])\n",
    "plt.xlabel('Radius [arcsec]')\n",
    "plt.ylabel('Ratio of encircled flux')\n"
   ]
  },
  {
   "cell_type": "markdown",
   "metadata": {},
   "source": [
    "Due to the different resolution, the ratio is not constant. Let's note the calibration $C(r)$. Let us assume that our observed PSF encirled energy is of the form:\n",
    "\n",
    "$E(r) = \\alpha C(r \\times \\beta)$\n",
    "\n",
    "Where $\\beta$ is the fattening of the PSF. If we differentiate as a function of $r$:\n",
    "\n",
    "$E'(r) = \\alpha \\beta C'(r \\times \\beta)$\n",
    "\n"
   ]
  },
  {
   "cell_type": "code",
   "execution_count": null,
   "metadata": {
    "collapsed": true
   },
   "outputs": [],
   "source": [
    "# compute the derivatives\n",
    "deriv_growth_psf = (growth_psf[2:]-growth_psf[0:-2])/(radii[2:]-radii[0:-2])\n",
    "deriv_growth_psfcor  = (growth_psfcor[2:]-growth_psfcor[0:-2])/(radii[2:]-radii[0:-2])"
   ]
  },
  {
   "cell_type": "code",
   "execution_count": null,
   "metadata": {},
   "outputs": [],
   "source": [
    "plt.plot(radii[1:-1], deriv_growth_psf)\n",
    "plt.plot(radii[1:-1], deriv_growth_psfcor)\n",
    "plt.xlim([0,60])"
   ]
  },
  {
   "cell_type": "markdown",
   "metadata": {},
   "source": [
    "Compared with the growth curve plot, the derivative show clear maxima and minima that are out of phase. Findind the positions of the these will tell us if our assumption of homothetical variation is correct."
   ]
  },
  {
   "cell_type": "code",
   "execution_count": null,
   "metadata": {},
   "outputs": [],
   "source": [
    "# Find the local minima and maxima of the two curves.\n",
    "# To find a local extremum, we will fit the portion of curve with a degree 3 polynomial, \n",
    "# extract the roots of its derivative and only retain the one that are between the bounds.\n",
    "# This is what the following function does.\n",
    "def local_max(xvalues, yvalues, lower_bound, upper_bound, check_plot=False):\n",
    "    idx,=np.where((xvalues > lower_bound) & (xvalues < upper_bound))\n",
    "    p = np.polyfit(xvalues[idx], yvalues[idx], 3)\n",
    "    delta = (2.*p[1])**2 - 4.*3.*p[0]*p[2]\n",
    "    r1 = (-2*p[1]+np.sqrt(delta))/(2*3*p[0])\n",
    "    r2 = (-2*p[1]-np.sqrt(delta))/(2*3*p[0])\n",
    "    result = r1 if ((r1 > lower_bound) and (r1 < upper_bound)) else r2\n",
    "    if check_plot:\n",
    "        plt.plot(xvalues[idx], yvalues[idx])\n",
    "        plt.plot(xvalues[idx], p[0]*xvalues[idx]**3+p[1]*xvalues[idx]**2+\n",
    "                 p[2]*xvalues[idx]+p[3], '--')\n",
    "        plt.plot(np.array([result, result]), np.array([np.min(yvalues), np.max(yvalues)]), '-')\n",
    "    return result\n",
    "    \n",
    "    \n",
    "max_dpsf_1 = local_max(radii[1:-1], deriv_growth_psf, 3, 10, check_plot=True)\n",
    "max_dpsfcor_1 = local_max(radii[1:-1], deriv_growth_psfcor, 3, 10, check_plot=True)\n",
    "\n",
    "max_dpsf_2 = local_max(radii[1:-1], deriv_growth_psf, 14, 21, check_plot=True)\n",
    "max_dpsfcor_2 = local_max(radii[1:-1], deriv_growth_psfcor, 14, 21, check_plot=True)\n",
    "\n",
    "max_dpsf_3 = local_max(radii[1:-1], deriv_growth_psf, 21, 28, check_plot=True)\n",
    "max_dpsfcor_3 = local_max(radii[1:-1], deriv_growth_psfcor, 21, 28, check_plot=True)\n",
    "\n",
    "max_dpsf_4 = local_max(radii[1:-1], deriv_growth_psf, 28, 35, check_plot=True)\n",
    "max_dpsfcor_4 = local_max(radii[1:-1], deriv_growth_psfcor, 28, 35, check_plot=True)\n",
    "\n",
    "max_dpsf_5 = local_max(radii[1:-1], deriv_growth_psf, 35, 45, check_plot=True)\n",
    "max_dpsfcor_5 = local_max(radii[1:-1], deriv_growth_psfcor, 35, 45, check_plot=True)\n",
    "\n",
    "max_dpsf_6 = local_max(radii[1:-1], deriv_growth_psf, 40, 50, check_plot=True)\n",
    "max_dpsfcor_6 = local_max(radii[1:-1], deriv_growth_psfcor, 40, 50, check_plot=True)\n",
    "\n",
    "plt.xlabel('Radius [arcsec]')\n",
    "\n",
    "# Lets pack all of them, adding the r=0 point. \n",
    "max_dpsf = np.array([0, max_dpsf_1, max_dpsf_2, max_dpsf_3, max_dpsf_4, max_dpsf_5, max_dpsf_6])\n",
    "max_dpsfcor = np.array([0, max_dpsfcor_1, max_dpsfcor_2, max_dpsfcor_3, max_dpsfcor_4, \n",
    "                        max_dpsfcor_5, max_dpsfcor_6])\n",
    "\n",
    "print(max_dpsf,max_dpsfcor)"
   ]
  },
  {
   "cell_type": "markdown",
   "metadata": {},
   "source": [
    "From the plot, we can deduce that our homothetical assumption is not perfect: the spacing increases for the first three (don't forget the point at 0, 0, not shown), is very small for the 4th and 6th, and gets narrower for the 5th and 7th...\n",
    "Let's plot the situation"
   ]
  },
  {
   "cell_type": "code",
   "execution_count": null,
   "metadata": {
    "scrolled": true
   },
   "outputs": [],
   "source": [
    "plt.plot(max_dpsf, max_dpsfcor, 'o-')\n",
    "p = np.polyfit(max_dpsf[0:3], max_dpsfcor[0:3], 1)\n",
    "plt.plot(max_dpsf, p[0]*max_dpsf+p[1])\n",
    "plt.xlabel('extremum position of theoretical psf [arcsec]')\n",
    "plt.ylabel('extremum position of observed blurred psf [arcsec]')\n",
    "\n",
    "\n",
    "print(p)\n",
    "print((max_dpsfcor[1]-max_dpsfcor[0])/(max_dpsf[1]-max_dpsf[0]))\n",
    "print((max_dpsfcor[2]-max_dpsfcor[0])/(max_dpsf[2]-max_dpsf[0]))\n",
    "\n"
   ]
  },
  {
   "cell_type": "code",
   "execution_count": null,
   "metadata": {},
   "outputs": [],
   "source": [
    "# Lets use the data before 20\", corresponding to the central core\n",
    "beta = (max_dpsfcor[2]-max_dpsfcor[0])/(max_dpsf[2]-max_dpsf[0])\n",
    "\n",
    "# lets interpolate at the scaled radius\n",
    "tckpsfcor = interpolate.splrep(radii, growth_psfcor, s=0)\n",
    "interp_growth_psfcor = interpolate.splev(radii*beta, tckpsfcor, der=0)\n",
    "\n",
    "# check interpolation\n",
    "plt.plot(radii*beta, growth_psf)\n",
    "plt.plot(radii, growth_psfcor)\n",
    "plt.plot(radii*beta, interp_growth_psfcor)\n",
    "plt.xlim([0,60])\n",
    "plt.xlabel('radius [arcsec]')\n",
    "plt.ylabel('Encircled flux')\n",
    "\n"
   ]
  },
  {
   "cell_type": "markdown",
   "metadata": {},
   "source": [
    "Let us check the ratio, using the psf with a corrected radius"
   ]
  },
  {
   "cell_type": "code",
   "execution_count": null,
   "metadata": {},
   "outputs": [],
   "source": [
    "plt.plot(radii[1:]*beta, interp_growth_psfcor[1:]/growth_psf[1:])\n",
    "plt.xlabel('radius [arcsec]')\n",
    "plt.ylabel('Ratio of encircled flux')\n",
    "plt.xlim([0,60])\n",
    "idx, = np.where(((radii*p[0]) > 0) & ((radii*p[0]) < 60))\n",
    "scale_factor = np.median(interp_growth_psfcor[idx]/growth_psf[idx])\n",
    "print(\"alpha = {:.3f}\".format(scale_factor))"
   ]
  },
  {
   "cell_type": "markdown",
   "metadata": {},
   "source": [
    "We now have a much better looking ratio [compared with the cell where we computed the direct ratio](#the_ratio), and we have a decent determination of the psf scaling. The normalized PSF to use for our observations is then:"
   ]
  },
  {
   "cell_type": "code",
   "execution_count": null,
   "metadata": {
    "collapsed": true
   },
   "outputs": [],
   "source": [
    "psf_obs_norm = psfcor / scale_factor"
   ]
  },
  {
   "cell_type": "code",
   "execution_count": null,
   "metadata": {},
   "outputs": [],
   "source": [
    "print('\\int \\int psf_obs_norm dx dy = {}'.format(np.sum(psf_obs_norm)*resol**2))"
   ]
  },
  {
   "cell_type": "markdown",
   "metadata": {},
   "source": [
    "Indeed, let's look at the encircled energy in the core of our psf:\n",
    "In this example, we have used the derivative of the scale factor"
   ]
  },
  {
   "cell_type": "code",
   "execution_count": null,
   "metadata": {},
   "outputs": [],
   "source": [
    "idj, idi = np.where(r<max_dpsfcor_2)\n",
    "print('central core for observation: {}'.format(np.sum(psf_obs_norm[idj, idi])*resol**2))\n",
    "idj, idi = np.where(r<max_dpsf_2)\n",
    "print('central core for theoretical: {}'.format(np.sum(psf[idj, idi])*resol**2))\n",
    "\n",
    "\n"
   ]
  },
  {
   "cell_type": "markdown",
   "metadata": {},
   "source": [
    "The two agree extremely well. \n",
    "\n",
    "Unfortunately, with real data, it is not always possible as we will see to use the derivative of the curve of growth to derive the factor beta of PSF fattening. For real observation, one can use a brute force approach to try all the reasonable couples alpha, beta and try to match the theoretical psf to the observed one. This is how we will proceed next on real data."
   ]
  },
  {
   "cell_type": "markdown",
   "metadata": {},
   "source": [
    "## 2) Real data: PACS observations\n",
    "\n",
    "We will look at a real stack of point sources in the PACS ELAIS-N1 observations, and try to find its normalization factor. \n",
    "\n",
    "Let's load the stacked PSF:"
   ]
  },
  {
   "cell_type": "code",
   "execution_count": 2,
   "metadata": {},
   "outputs": [
    {
     "name": "stdout",
     "output_type": "stream",
     "text": [
      "[[-5.40646191e-05 -3.28546564e-04 -1.86325117e-04 ... -4.94581519e-05\n",
      "  -3.08750242e-04 -2.61223244e-04]\n",
      " [-4.95763569e-04  8.85850521e-04 -3.76562838e-04 ... -1.81336784e-03\n",
      "  -8.24393396e-04  1.10082807e-03]\n",
      " [ 6.02749828e-04  9.17972315e-04 -9.37554024e-05 ...  5.47727948e-04\n",
      "  -1.63319482e-04 -6.24825462e-04]\n",
      " ...\n",
      " [ 6.52620164e-04 -4.37996805e-04 -1.95884515e-03 ...  1.46488802e-04\n",
      "  -2.58286360e-04 -5.63648094e-04]\n",
      " [-8.72945209e-04  1.03732655e-03  8.17114953e-04 ...  1.06910178e-03\n",
      "  -9.14433330e-04 -4.87917819e-04]\n",
      " [ 5.87176028e-04  1.60301822e-03 -1.42942501e-04 ...  3.88058667e-05\n",
      "  -1.05880785e-03 -6.03574524e-05]]\n"
     ]
    },
    {
     "data": {
      "image/png": "[encoded data removed]",
      "text/plain": [
       "<Figure size 432x288 with 1 Axes>"
      ]
     },
     "metadata": {
      "needs_background": "light"
     },
     "output_type": "display_data"
    }
   ],
   "source": [
    "stackhd = fits.open('./data/output_data/HerMES_PACS_PRFS_V1.0_level6_ELAIS_N2_SWIRE_160um_stack.fits')\n",
    "psf = stackhd[1].data\n",
    "hd = stackhd[1].header\n",
    "plt.imshow(psf)\n",
    "print(psf)"
   ]
  },
  {
   "cell_type": "code",
   "execution_count": null,
   "metadata": {},
   "outputs": [],
   "source": [
    "# Convert units MJy/sr to Jy/pixel: http://coolwiki.ipac.caltech.edu/index.php/Units\n",
    "\n",
    "#psf=psf*2.35045e-5*(np.abs(stackhd[1].header['CDELT1'])*np.abs(stackhd[1].header['CDELT2']))*3600**2\n",
    "#print(psf)"
   ]
  },
  {
   "cell_type": "markdown",
   "metadata": {},
   "source": [
    "Set the resolution of the psf. Because the map is in units of Jy/pixel, this turns out to be:\n",
    "* =1 if psf at same resolution of map\n",
    "* otherwise, should be in factor of map pixel size"
   ]
  },
  {
   "cell_type": "code",
   "execution_count": 3,
   "metadata": {
    "collapsed": true
   },
   "outputs": [],
   "source": [
    "resol= np.abs(stackhd[1].header['CDELT1'])/np.abs(stackhd[2].header['CDELT1'])"
   ]
  },
  {
   "cell_type": "code",
   "execution_count": 4,
   "metadata": {},
   "outputs": [
    {
     "data": {
      "text/plain": [
       "1.0"
      ]
     },
     "execution_count": 4,
     "metadata": {},
     "output_type": "execute_result"
    }
   ],
   "source": [
    "resol"
   ]
  },
  {
   "cell_type": "markdown",
   "metadata": {},
   "source": [
    "Now let's build the growthcurve for our PSF."
   ]
  },
  {
   "cell_type": "code",
   "execution_count": 5,
   "metadata": {
    "collapsed": true
   },
   "outputs": [],
   "source": [
    "# find the brightest pixel, it will be our center.\n",
    "jmax, imax = np.unravel_index(np.argmax(psf), psf.shape)"
   ]
  },
  {
   "cell_type": "code",
   "execution_count": 6,
   "metadata": {
    "collapsed": true
   },
   "outputs": [],
   "source": [
    "# build the array of coordinates\n",
    "x = np.arange(hd['NAXIS1'])\n",
    "y = np.arange(hd['NAXIS2'])\n",
    "xv, yv = np.meshgrid(x, y, sparse=False, indexing='xy')\n",
    "xp = (xv-imax)*np.abs(hd['CDELT1'])*3600.\n",
    "yp = (yv-jmax)*np.abs(hd['CDELT2'])*3600.\n",
    "r = np.sqrt(xp**2 + yp**2)\n"
   ]
  },
  {
   "cell_type": "code",
   "execution_count": 7,
   "metadata": {
    "collapsed": true
   },
   "outputs": [],
   "source": [
    "# build the growth curve\n",
    "radii = np.unique(r)\n",
    "encircled_flux = np.zeros(radii.shape)\n",
    "nbpix = np.zeros(radii.shape)\n",
    "for i, radius in enumerate(radii):\n",
    "    idj, idi = np.where(r <= radius)\n",
    "    nbpix[i] =len(idi)\n",
    "    encircled_flux[i] = np.sum(psf[idj, idi])*resol**2"
   ]
  },
  {
   "cell_type": "code",
   "execution_count": 8,
   "metadata": {},
   "outputs": [
    {
     "data": {
      "text/plain": [
       "-3.0000000726000002"
      ]
     },
     "execution_count": 8,
     "metadata": {},
     "output_type": "execute_result"
    }
   ],
   "source": [
    "hd['CDELT1']*3600."
   ]
  },
  {
   "cell_type": "code",
   "execution_count": 9,
   "metadata": {},
   "outputs": [
    {
     "data": {
      "text/plain": [
       "Text(0, 0.5, 'Encircled flux')"
      ]
     },
     "execution_count": 9,
     "metadata": {},
     "output_type": "execute_result"
    },
    {
     "data": {
      "image/png": "[encoded data removed]",
      "text/plain": [
       "<Figure size 432x288 with 1 Axes>"
      ]
     },
     "metadata": {
      "needs_background": "light"
     },
     "output_type": "display_data"
    }
   ],
   "source": [
    "plt.plot(radii, encircled_flux)\n",
    "plt.xlabel('Radius [arcsec]')\n",
    "plt.ylabel('Encircled flux')"
   ]
  },
  {
   "cell_type": "markdown",
   "metadata": {},
   "source": [
    "Looking at the shape of the encircled flux, it looks like the background level of our PSF is not zero. Let's check"
   ]
  },
  {
   "cell_type": "code",
   "execution_count": 10,
   "metadata": {},
   "outputs": [
    {
     "name": "stdout",
     "output_type": "stream",
     "text": [
      "9.490603832546254e-05\n"
     ]
    }
   ],
   "source": [
    "# This is clearly. \n",
    "print(np.median(psf[0:5,:]))"
   ]
  },
  {
   "cell_type": "code",
   "execution_count": 11,
   "metadata": {
    "scrolled": true
   },
   "outputs": [
    {
     "data": {
      "text/plain": [
       "Text(0, 0.5, 'Encircled flux')"
      ]
     },
     "execution_count": 11,
     "metadata": {},
     "output_type": "execute_result"
    },
    {
     "data": {
      "image/png": "[encoded data removed]",
      "text/plain": [
       "<Figure size 432x288 with 1 Axes>"
      ]
     },
     "metadata": {
      "needs_background": "light"
     },
     "output_type": "display_data"
    }
   ],
   "source": [
    "plt.plot(nbpix, encircled_flux)\n",
    "plt.xlabel('Number of pixels')\n",
    "plt.ylabel('Encircled flux')"
   ]
  },
  {
   "cell_type": "code",
   "execution_count": 12,
   "metadata": {},
   "outputs": [],
   "source": [
    "#Lets do a linear fit to the outer part of the curve to determine the backgound\n",
    "p = np.polyfit(nbpix[250:], encircled_flux[250:], 1)\n",
    "bkg = p[0]/resol**2"
   ]
  },
  {
   "cell_type": "code",
   "execution_count": 13,
   "metadata": {},
   "outputs": [
    {
     "data": {
      "text/plain": [
       "2109.0"
      ]
     },
     "execution_count": 13,
     "metadata": {},
     "output_type": "execute_result"
    }
   ],
   "source": [
    "nbpix[250]"
   ]
  },
  {
   "cell_type": "code",
   "execution_count": 14,
   "metadata": {},
   "outputs": [
    {
     "name": "stdout",
     "output_type": "stream",
     "text": [
      "0.00012143913987086722\n"
     ]
    }
   ],
   "source": [
    "print(bkg)"
   ]
  },
  {
   "cell_type": "code",
   "execution_count": 15,
   "metadata": {},
   "outputs": [
    {
     "name": "stdout",
     "output_type": "stream",
     "text": [
      "[0.03271035 0.14764175 0.23959072 0.30736356 0.41960138 0.45356096\n",
      " 0.48476072 0.53494801 0.56605776 0.58026963 0.60455836 0.61623883\n",
      " 0.63543428 0.65009581 0.66076195 0.67690029 0.68864324 0.69361197\n",
      " 0.70161152 0.70596428 0.72066474 0.73030101 0.7366359  0.73967364\n",
      " 0.74621906 0.75438144 0.75513869 0.75563072 0.76245514 0.76580819\n",
      " 0.76876894 0.77288667 0.78079197 0.78472896 0.78690511 0.79079523\n",
      " 0.79286237 0.79409407 0.79691453 0.80280345 0.80176167 0.80426513\n",
      " 0.80028877 0.80365839 0.80678041 0.8083594  0.81075138 0.8097758\n",
      " 0.815945   0.81958672 0.81992641 0.82613286 0.82910897 0.8317059\n",
      " 0.83437176 0.83538993 0.83809312 0.84426274 0.84684728 0.85582121\n",
      " 0.86065088 0.86116518 0.85932473 0.86819477 0.87055679 0.87413593\n",
      " 0.87609974 0.8813224  0.8860977  0.88680082 0.8863282  0.88437143\n",
      " 0.88597935 0.88448552 0.88655895 0.88364197 0.88323004 0.88807459\n",
      " 0.89260083 0.89115897 0.89261723 0.89930914 0.9011677  0.90106954\n",
      " 0.90250945 0.90406142 0.90568651 0.90259381 0.90110499 0.90019787\n",
      " 0.89758686 0.90003381 0.90135434 0.90909997 0.90636253 0.90876357\n",
      " 0.9074661  0.91180825 0.91670998 0.91892861 0.91918943 0.92006556\n",
      " 0.91917422 0.91998953 0.92172121 0.92085549 0.92055106 0.91981993\n",
      " 0.92211548 0.92487502 0.92389317 0.92468522 0.92563742 0.92803936\n",
      " 0.92653843 0.92740919 0.92750775 0.92934515 0.9280293  0.92954148\n",
      " 0.92840701 0.93118541 0.93039588 0.93799002 0.93647075 0.934584\n",
      " 0.93746207 0.94222371 0.94085578 0.94175136 0.9439737  0.94470836\n",
      " 0.94298573 0.94253933 0.94529116 0.94587923 0.94698876 0.95042079\n",
      " 0.95217386 0.95781201 0.95862992 0.95877671 0.95841843 0.95776117\n",
      " 0.95848542 0.95879332 0.96056243 0.96159191 0.96520093 0.96903974\n",
      " 0.9709375  0.97774181 0.98351425 0.99006339 0.99039563 0.99049973\n",
      " 0.98862825 0.98694767 0.98570651 0.98668484 0.99098276 0.99421383\n",
      " 0.99477261 0.99488867 0.99445991 0.9947657  0.99185525 0.99408565\n",
      " 0.99709882 0.99738747 0.99716934 0.99997037 1.00152687 1.00720183\n",
      " 1.00938867 1.01311564 1.01561403 1.01583381 1.015241   1.01962298\n",
      " 1.01627964 1.02238044 1.02411046 1.0312603  1.03171639 1.03574827\n",
      " 1.04465798 1.04448413 1.04500167 1.05459108 1.06240047 1.0691166\n",
      " 1.07133684 1.06944947 1.07401617 1.07951462 1.0863409  1.08593512\n",
      " 1.08603363 1.09905343 1.10387301 1.10751799 1.11022925 1.11956506\n",
      " 1.12454079 1.12675724 1.12969776 1.12968031 1.13391761 1.13824423\n",
      " 1.13742939 1.14051851 1.14279128 1.14148304 1.14407452 1.14807175\n",
      " 1.1500873  1.15369591 1.15535704 1.15883407 1.15417392 1.15869937\n",
      " 1.16106584 1.1631835  1.16077671 1.16223148 1.16199385 1.16444425\n",
      " 1.15953354 1.16528548 1.16708743 1.16893012 1.17098354 1.16786145\n",
      " 1.1705384  1.17253907 1.16947434 1.17079962 1.17176705 1.178207\n",
      " 1.17885366 1.18003307 1.17967342 1.18493201 1.18342641 1.18686005\n",
      " 1.18888597 1.18895379 1.19102198 1.18561008 1.18675008 1.18621463\n",
      " 1.18739813 1.19307813 1.19303961 1.19872468 1.2015711  1.20178958\n",
      " 1.20327723 1.19927138 1.20071747 1.20517836 1.20676893 1.20661817\n",
      " 1.2117197  1.21045635 1.21087323 1.21506079 1.21919793 1.22314068\n",
      " 1.22361183 1.22538025 1.22812431 1.22688377 1.22873778 1.22813354\n",
      " 1.22897251 1.22917417 1.22943646 1.2349806  1.23323549 1.23305928\n",
      " 1.23707676 1.2389205  1.23916479 1.23929137 1.23865542 1.23976035\n",
      " 1.24201458 1.24137184 1.2433423  1.24744602 1.2479307  1.24586402\n",
      " 1.24416792 1.24281601 1.24315242 1.24049209 1.24375434 1.24786892\n",
      " 1.25184463 1.25195029 1.25111458 1.25450822 1.2535905  1.25509131\n",
      " 1.25500971 1.25569595 1.26098166 1.26785536 1.27253739 1.27426789\n",
      " 1.2797313  1.2847203  1.28775103 1.29048243 1.29596842 1.29441498\n",
      " 1.29235615 1.29295957 1.29360803 1.29491459 1.29783344 1.30072661\n",
      " 1.29660346 1.29787528 1.29999296 1.30405245 1.30374538 1.31009078\n",
      " 1.31154258 1.3127866  1.31913776 1.31945231 1.32199389 1.32144291\n",
      " 1.3256527  1.32645777 1.32794553 1.3250376  1.32801519 1.3304703\n",
      " 1.33024849 1.32729635 1.32659949 1.32533152 1.32609581 1.32634733\n",
      " 1.33220633 1.32940423 1.33018107 1.33074921 1.33339817 1.33555011\n",
      " 1.33772307 1.33450853 1.33308362 1.33428161 1.33562257 1.33079129\n",
      " 1.33203244 1.34140645 1.34387812 1.33951106 1.34284184 1.3491693\n",
      " 1.34710693 1.34553473 1.34899485 1.35044169 1.35146013 1.35261403\n",
      " 1.35822635 1.35829402 1.35726453 1.35678678 1.35745059 1.35749238\n",
      " 1.356953   1.35188292 1.3533786  1.35897406 1.35577009 1.35385222\n",
      " 1.35199329 1.3531365  1.35163424 1.3529832  1.35153746 1.3544735\n",
      " 1.35874188 1.3593607  1.3646121  1.37109509 1.37893286 1.37825418\n",
      " 1.37502339 1.37401339 1.37916147 1.3834744  1.38184631 1.38408542\n",
      " 1.38336793 1.38442553 1.38499756 1.38594834 1.38940776 1.38850619\n",
      " 1.39183308 1.39343139 1.39418725 1.39440722 1.39788925 1.39282918\n",
      " 1.39517225 1.39722983 1.39955271 1.40269199 1.40657754 1.41206765\n",
      " 1.41259049 1.41245212 1.40625174 1.40439425 1.40605363 1.40815466\n",
      " 1.40999208 1.41223677 1.41294071 1.40784604 1.40907444 1.4129018\n",
      " 1.41256954 1.41856868 1.41769423 1.41819999 1.42000802 1.42615886\n",
      " 1.42412852 1.42897124 1.42821217 1.42993439 1.43547838 1.43217885\n",
      " 1.43510327 1.43630016 1.43506617 1.42925774 1.427852   1.42909357\n",
      " 1.43010475 1.43401521 1.43614416 1.43376625 1.4329792  1.43357949\n",
      " 1.43503215 1.43479983 1.43156428 1.43046396 1.43388831 1.43932167\n",
      " 1.44413734 1.44914378 1.45155561 1.45087867 1.44870384 1.45173715\n",
      " 1.44789394 1.45060696 1.45523029 1.45764068 1.45927287 1.46329318\n",
      " 1.46114888 1.45862481 1.45989513 1.46166333 1.46607639 1.46901756\n",
      " 1.46296148 1.4639128  1.46458902 1.46439154 1.46673913 1.46466412\n",
      " 1.46431652 1.46930917 1.46618267 1.4665638  1.46948881 1.47129248\n",
      " 1.47161885 1.46781647 1.46617112 1.46439562 1.46688484 1.46621978\n",
      " 1.46467775 1.46564772 1.46887002 1.46834659 1.46540116 1.46767989\n",
      " 1.46647461 1.46669618 1.46599143 1.47037814 1.46969098 1.46759572\n",
      " 1.46625829 1.46838923 1.46571781 1.46435942 1.46039611 1.46045615\n",
      " 1.4602108  1.4609583  1.46114265 1.46086963 1.46002074 1.46023227]\n"
     ]
    }
   ],
   "source": [
    "print(encircled_flux)"
   ]
  },
  {
   "cell_type": "code",
   "execution_count": 16,
   "metadata": {
    "collapsed": true
   },
   "outputs": [],
   "source": [
    "# Lets correct the psf and encircled flux\n",
    "psf = psf - bkg\n",
    "encircled_flux = encircled_flux - bkg * nbpix*resol**2"
   ]
  },
  {
   "cell_type": "code",
   "execution_count": 17,
   "metadata": {},
   "outputs": [
    {
     "data": {
      "text/plain": [
       "Text(0, 0.5, 'Encircled flux')"
      ]
     },
     "execution_count": 17,
     "metadata": {},
     "output_type": "execute_result"
    },
    {
     "data": {
      "image/png": "[encoded data removed]",
      "text/plain": [
       "<Figure size 432x288 with 1 Axes>"
      ]
     },
     "metadata": {
      "needs_background": "light"
     },
     "output_type": "display_data"
    }
   ],
   "source": [
    "plt.plot(radii, encircled_flux)\n",
    "plt.xlabel('Radius [arcsec]')\n",
    "plt.ylabel('Encircled flux')"
   ]
  },
  {
   "cell_type": "markdown",
   "metadata": {},
   "source": [
    "Our PSF does now behaves correctly.\n",
    "\n",
    "Now let us compare our growth curve with the encircled energy curve provided by the instrument team. We use the standard growth curve for 160 µm PACS, taken with 20\"/s scan speed. "
   ]
  },
  {
   "cell_type": "code",
   "execution_count": 18,
   "metadata": {
    "collapsed": true
   },
   "outputs": [],
   "source": [
    "f = open('./data/EEF_red_20.txt', 'r')\n",
    "lines = f.readlines()\n",
    "f.close()\n",
    "radiuseff = np.zeros(len(lines)-3)\n",
    "valeff = np.zeros(len(lines)-3)\n",
    "i = 0\n",
    "for line in lines:\n",
    "    if line[0] != '#':\n",
    "        bits = line.split()\n",
    "        radiuseff[i] = float(bits[0])\n",
    "        valeff[i] = float(bits[1])\n",
    "        i = i+1"
   ]
  },
  {
   "cell_type": "code",
   "execution_count": 20,
   "metadata": {},
   "outputs": [
    {
     "data": {
      "text/plain": [
       "<matplotlib.legend.Legend at 0x7f0c83834e10>"
      ]
     },
     "execution_count": 20,
     "metadata": {},
     "output_type": "execute_result"
    },
    {
     "data": {
      "image/png": "[encoded data removed]",
      "text/plain": [
       "<Figure size 432x288 with 1 Axes>"
      ]
     },
     "metadata": {
      "needs_background": "light"
     },
     "output_type": "display_data"
    }
   ],
   "source": [
    "plt.plot(radiuseff, valeff, label='Calibration')\n",
    "plt.plot(radii, encircled_flux/np.max(encircled_flux), label='Our PSF')\n",
    "plt.xlim([0, 100])\n",
    "plt.xlabel('Radius [arcsec]')\n",
    "plt.ylabel('Encircled flux')\n",
    "plt.legend()"
   ]
  },
  {
   "cell_type": "markdown",
   "metadata": {},
   "source": [
    "We will work below 30\" where our PSF is well behaved"
   ]
  },
  {
   "cell_type": "code",
   "execution_count": 21,
   "metadata": {},
   "outputs": [
    {
     "data": {
      "text/plain": [
       "<matplotlib.legend.Legend at 0x7f0c837a1470>"
      ]
     },
     "execution_count": 21,
     "metadata": {},
     "output_type": "execute_result"
    },
    {
     "data": {
      "image/png": "[encoded data removed]",
      "text/plain": [
       "<Figure size 432x288 with 1 Axes>"
      ]
     },
     "metadata": {
      "needs_background": "light"
     },
     "output_type": "display_data"
    }
   ],
   "source": [
    "plt.plot(radiuseff, valeff, label='Calibration')\n",
    "plt.plot(radii, encircled_flux/np.max(encircled_flux), label='Our PSF')\n",
    "plt.xlim([0, 30])\n",
    "plt.xlabel('Radius [arcsec]')\n",
    "plt.ylabel('Encircled flux')\n",
    "plt.legend()"
   ]
  },
  {
   "cell_type": "markdown",
   "metadata": {},
   "source": [
    "We see that while the calibration curve still rises beyond 30\", our PSF has reached a plateau. Let's note the calibration $C(r)$. Our PSF encirled energy is of the form:\n",
    "\n",
    "$E(r) = \\alpha C(r \\times \\beta)$\n",
    "\n",
    "Where $\\beta$ is the fattening of the PSF.\n",
    "\n",
    "We could take the derivative, but this too noisy. Instead we do a brute force approach"
   ]
  },
  {
   "cell_type": "code",
   "execution_count": 22,
   "metadata": {},
   "outputs": [
    {
     "data": {
      "text/plain": [
       "<matplotlib.legend.Legend at 0x7f0c83702f28>"
      ]
     },
     "execution_count": 22,
     "metadata": {},
     "output_type": "execute_result"
    },
    {
     "data": {
      "image/png": "[encoded data removed]",
      "text/plain": [
       "<Figure size 432x288 with 1 Axes>"
      ]
     },
     "metadata": {
      "needs_background": "light"
     },
     "output_type": "display_data"
    }
   ],
   "source": [
    "plt.plot(radiuseff, valeff, label='Calibration')\n",
    "plt.plot(radii, encircled_flux/np.max(encircled_flux), label='Our PSF')\n",
    "plt.xlim([0, 30])\n",
    "plt.xlabel('Radius [arcsec]')\n",
    "plt.ylabel('Encircled flux')\n",
    "plt.legend()"
   ]
  },
  {
   "cell_type": "code",
   "execution_count": 23,
   "metadata": {},
   "outputs": [
    {
     "name": "stdout",
     "output_type": "stream",
     "text": [
      "0 1.0\n",
      "1 1.001\n",
      "2 1.0019999999999998\n",
      "3 1.0029999999999997\n",
      "4 1.0039999999999996\n",
      "5 1.0049999999999994\n",
      "6 1.0059999999999993\n",
      "7 1.0069999999999992\n",
      "8 1.0079999999999991\n",
      "9 1.008999999999999\n",
      "10 1.009999999999999\n",
      "11 1.0109999999999988\n",
      "12 1.0119999999999987\n",
      "13 1.0129999999999986\n",
      "14 1.0139999999999985\n",
      "15 1.0149999999999983\n",
      "16 1.0159999999999982\n",
      "17 1.0169999999999981\n",
      "18 1.017999999999998\n",
      "19 1.018999999999998\n",
      "20 1.0199999999999978\n",
      "21 1.0209999999999977\n",
      "22 1.0219999999999976\n",
      "23 1.0229999999999975\n",
      "24 1.0239999999999974\n",
      "25 1.0249999999999972\n",
      "26 1.0259999999999971\n",
      "27 1.026999999999997\n",
      "28 1.027999999999997\n",
      "29 1.0289999999999968\n",
      "30 1.0299999999999967\n",
      "31 1.0309999999999966\n",
      "32 1.0319999999999965\n",
      "33 1.0329999999999964\n",
      "34 1.0339999999999963\n",
      "35 1.0349999999999961\n",
      "36 1.035999999999996\n",
      "37 1.036999999999996\n",
      "38 1.0379999999999958\n",
      "39 1.0389999999999957\n",
      "40 1.0399999999999956\n",
      "41 1.0409999999999955\n",
      "42 1.0419999999999954\n",
      "43 1.0429999999999953\n",
      "44 1.0439999999999952\n",
      "45 1.044999999999995\n",
      "46 1.045999999999995\n",
      "47 1.0469999999999948\n",
      "48 1.0479999999999947\n",
      "49 1.0489999999999946\n",
      "50 1.0499999999999945\n",
      "51 1.0509999999999944\n",
      "52 1.0519999999999943\n",
      "53 1.0529999999999942\n",
      "54 1.053999999999994\n",
      "55 1.054999999999994\n",
      "56 1.0559999999999938\n",
      "57 1.0569999999999937\n",
      "58 1.0579999999999936\n",
      "59 1.0589999999999935\n",
      "60 1.0599999999999934\n",
      "61 1.0609999999999933\n",
      "62 1.0619999999999932\n",
      "63 1.062999999999993\n",
      "64 1.063999999999993\n",
      "65 1.0649999999999928\n",
      "66 1.0659999999999927\n",
      "67 1.0669999999999926\n",
      "68 1.0679999999999925\n",
      "69 1.0689999999999924\n",
      "70 1.0699999999999923\n",
      "71 1.0709999999999922\n",
      "72 1.071999999999992\n",
      "73 1.072999999999992\n",
      "74 1.0739999999999919\n",
      "75 1.0749999999999917\n",
      "76 1.0759999999999916\n",
      "77 1.0769999999999915\n",
      "78 1.0779999999999914\n",
      "79 1.0789999999999913\n",
      "80 1.0799999999999912\n",
      "81 1.080999999999991\n",
      "82 1.081999999999991\n",
      "83 1.0829999999999909\n",
      "84 1.0839999999999907\n",
      "85 1.0849999999999906\n",
      "86 1.0859999999999905\n",
      "87 1.0869999999999904\n",
      "88 1.0879999999999903\n",
      "89 1.0889999999999902\n",
      "90 1.08999999999999\n",
      "91 1.09099999999999\n",
      "92 1.0919999999999899\n",
      "93 1.0929999999999898\n",
      "94 1.0939999999999896\n",
      "95 1.0949999999999895\n",
      "96 1.0959999999999894\n",
      "97 1.0969999999999893\n",
      "98 1.0979999999999892\n",
      "99 1.098999999999989\n",
      "100 1.099999999999989\n",
      "101 1.1009999999999889\n",
      "102 1.1019999999999888\n",
      "103 1.1029999999999887\n",
      "104 1.1039999999999885\n",
      "105 1.1049999999999884\n",
      "106 1.1059999999999883\n",
      "107 1.1069999999999882\n",
      "108 1.107999999999988\n",
      "109 1.108999999999988\n",
      "110 1.1099999999999879\n",
      "111 1.1109999999999878\n",
      "112 1.1119999999999877\n",
      "113 1.1129999999999876\n",
      "114 1.1139999999999874\n",
      "115 1.1149999999999873\n",
      "116 1.1159999999999872\n",
      "117 1.1169999999999871\n",
      "118 1.117999999999987\n",
      "119 1.118999999999987\n",
      "120 1.1199999999999868\n",
      "121 1.1209999999999867\n",
      "122 1.1219999999999866\n",
      "123 1.1229999999999865\n",
      "124 1.1239999999999863\n",
      "125 1.1249999999999862\n",
      "126 1.1259999999999861\n",
      "127 1.126999999999986\n",
      "128 1.127999999999986\n",
      "129 1.1289999999999858\n",
      "130 1.1299999999999857\n",
      "131 1.1309999999999856\n",
      "132 1.1319999999999855\n",
      "133 1.1329999999999854\n",
      "134 1.1339999999999852\n",
      "135 1.1349999999999851\n",
      "136 1.135999999999985\n",
      "137 1.136999999999985\n",
      "138 1.1379999999999848\n",
      "139 1.1389999999999847\n",
      "140 1.1399999999999846\n",
      "141 1.1409999999999845\n",
      "142 1.1419999999999844\n",
      "143 1.1429999999999843\n",
      "144 1.1439999999999841\n",
      "145 1.144999999999984\n",
      "146 1.145999999999984\n",
      "147 1.1469999999999838\n",
      "148 1.1479999999999837\n",
      "149 1.1489999999999836\n",
      "150 1.1499999999999835\n",
      "151 1.1509999999999834\n",
      "152 1.1519999999999833\n",
      "153 1.1529999999999831\n",
      "154 1.153999999999983\n",
      "155 1.154999999999983\n",
      "156 1.1559999999999828\n",
      "157 1.1569999999999827\n",
      "158 1.1579999999999826\n",
      "159 1.1589999999999825\n",
      "160 1.1599999999999824\n",
      "161 1.1609999999999823\n",
      "162 1.1619999999999822\n",
      "163 1.162999999999982\n",
      "164 1.163999999999982\n",
      "165 1.1649999999999818\n",
      "166 1.1659999999999817\n",
      "167 1.1669999999999816\n",
      "168 1.1679999999999815\n",
      "169 1.1689999999999814\n",
      "170 1.1699999999999813\n",
      "171 1.1709999999999812\n",
      "172 1.171999999999981\n",
      "173 1.172999999999981\n",
      "174 1.1739999999999808\n",
      "175 1.1749999999999807\n",
      "176 1.1759999999999806\n",
      "177 1.1769999999999805\n",
      "178 1.1779999999999804\n",
      "179 1.1789999999999803\n",
      "180 1.1799999999999802\n",
      "181 1.18099999999998\n",
      "182 1.18199999999998\n",
      "183 1.1829999999999798\n",
      "184 1.1839999999999797\n",
      "185 1.1849999999999796\n",
      "186 1.1859999999999795\n",
      "187 1.1869999999999794\n",
      "188 1.1879999999999793\n",
      "189 1.1889999999999792\n",
      "190 1.189999999999979\n",
      "191 1.190999999999979\n",
      "192 1.1919999999999789\n",
      "193 1.1929999999999787\n",
      "194 1.1939999999999786\n",
      "195 1.1949999999999785\n",
      "196 1.1959999999999784\n",
      "197 1.1969999999999783\n",
      "198 1.1979999999999782\n",
      "199 1.198999999999978\n",
      "200 1.199999999999978\n",
      "201 1.2009999999999779\n",
      "202 1.2019999999999778\n",
      "203 1.2029999999999776\n",
      "204 1.2039999999999775\n",
      "205 1.2049999999999774\n",
      "206 1.2059999999999773\n",
      "207 1.2069999999999772\n",
      "208 1.207999999999977\n",
      "209 1.208999999999977\n",
      "210 1.2099999999999769\n",
      "211 1.2109999999999768\n",
      "212 1.2119999999999767\n",
      "213 1.2129999999999765\n",
      "214 1.2139999999999764\n",
      "215 1.2149999999999763\n",
      "216 1.2159999999999762\n",
      "217 1.216999999999976\n",
      "218 1.217999999999976\n",
      "219 1.2189999999999759\n",
      "220 1.2199999999999758\n",
      "221 1.2209999999999757\n",
      "222 1.2219999999999756\n",
      "223 1.2229999999999754\n",
      "224 1.2239999999999753\n",
      "225 1.2249999999999752\n",
      "226 1.225999999999975\n",
      "227 1.226999999999975\n",
      "228 1.227999999999975\n",
      "229 1.2289999999999748\n",
      "230 1.2299999999999747\n",
      "231 1.2309999999999746\n",
      "232 1.2319999999999744\n",
      "233 1.2329999999999743\n",
      "234 1.2339999999999742\n",
      "235 1.2349999999999741\n",
      "236 1.235999999999974\n",
      "237 1.236999999999974\n",
      "238 1.2379999999999738\n",
      "239 1.2389999999999737\n",
      "240 1.2399999999999736\n",
      "241 1.2409999999999735\n",
      "242 1.2419999999999733\n",
      "243 1.2429999999999732\n",
      "244 1.2439999999999731\n",
      "245 1.244999999999973\n",
      "246 1.245999999999973\n",
      "247 1.2469999999999728\n",
      "248 1.2479999999999727\n",
      "249 1.2489999999999726\n",
      "250 1.2499999999999725\n",
      "251 1.2509999999999724\n",
      "252 1.2519999999999722\n",
      "253 1.2529999999999721\n",
      "254 1.253999999999972\n",
      "255 1.254999999999972\n",
      "256 1.2559999999999718\n",
      "257 1.2569999999999717\n",
      "258 1.2579999999999716\n",
      "259 1.2589999999999715\n",
      "260 1.2599999999999714\n",
      "261 1.2609999999999713\n",
      "262 1.2619999999999711\n",
      "263 1.262999999999971\n",
      "264 1.263999999999971\n",
      "265 1.2649999999999708\n",
      "266 1.2659999999999707\n",
      "267 1.2669999999999706\n",
      "268 1.2679999999999705\n",
      "269 1.2689999999999704\n",
      "270 1.2699999999999703\n",
      "271 1.2709999999999702\n",
      "272 1.27199999999997\n",
      "273 1.27299999999997\n",
      "274 1.2739999999999698\n",
      "275 1.2749999999999697\n",
      "276 1.2759999999999696\n",
      "277 1.2769999999999695\n",
      "278 1.2779999999999694\n",
      "279 1.2789999999999693\n",
      "280 1.2799999999999692\n",
      "281 1.280999999999969\n",
      "282 1.281999999999969\n",
      "283 1.2829999999999688\n",
      "284 1.2839999999999687\n",
      "285 1.2849999999999686\n",
      "286 1.2859999999999685\n",
      "287 1.2869999999999684\n",
      "288 1.2879999999999683\n",
      "289 1.2889999999999682\n",
      "290 1.289999999999968\n",
      "291 1.290999999999968\n",
      "292 1.2919999999999678\n",
      "293 1.2929999999999677\n",
      "294 1.2939999999999676\n",
      "295 1.2949999999999675\n",
      "296 1.2959999999999674\n",
      "297 1.2969999999999673\n",
      "298 1.2979999999999672\n",
      "299 1.298999999999967\n",
      "300 1.299999999999967\n",
      "301 1.3009999999999668\n",
      "302 1.3019999999999667\n",
      "303 1.3029999999999666\n",
      "304 1.3039999999999665\n",
      "305 1.3049999999999664\n",
      "306 1.3059999999999663\n",
      "307 1.3069999999999662\n",
      "308 1.307999999999966\n",
      "309 1.308999999999966\n",
      "310 1.3099999999999659\n",
      "311 1.3109999999999657\n",
      "312 1.3119999999999656\n",
      "313 1.3129999999999655\n",
      "314 1.3139999999999654\n",
      "315 1.3149999999999653\n",
      "316 1.3159999999999652\n",
      "317 1.316999999999965\n",
      "318 1.317999999999965\n",
      "319 1.3189999999999649\n",
      "320 1.3199999999999648\n",
      "321 1.3209999999999646\n",
      "322 1.3219999999999645\n",
      "323 1.3229999999999644\n",
      "324 1.3239999999999643\n",
      "325 1.3249999999999642\n",
      "326 1.325999999999964\n",
      "327 1.326999999999964\n",
      "328 1.3279999999999639\n",
      "329 1.3289999999999638\n",
      "330 1.3299999999999637\n",
      "331 1.3309999999999635\n",
      "332 1.3319999999999634\n",
      "333 1.3329999999999633\n",
      "334 1.3339999999999632\n",
      "335 1.334999999999963\n",
      "336 1.335999999999963\n",
      "337 1.3369999999999629\n",
      "338 1.3379999999999628\n",
      "339 1.3389999999999627\n",
      "340 1.3399999999999626\n",
      "341 1.3409999999999624\n",
      "342 1.3419999999999623\n",
      "343 1.3429999999999622\n",
      "344 1.3439999999999621\n",
      "345 1.344999999999962\n",
      "346 1.345999999999962\n",
      "347 1.3469999999999618\n",
      "348 1.3479999999999617\n",
      "349 1.3489999999999616\n",
      "350 1.3499999999999615\n",
      "351 1.3509999999999613\n",
      "352 1.3519999999999612\n",
      "353 1.3529999999999611\n",
      "354 1.353999999999961\n",
      "355 1.354999999999961\n",
      "356 1.3559999999999608\n",
      "357 1.3569999999999607\n",
      "358 1.3579999999999606\n",
      "359 1.3589999999999605\n",
      "360 1.3599999999999604\n",
      "361 1.3609999999999602\n",
      "362 1.3619999999999601\n",
      "363 1.36299999999996\n",
      "364 1.36399999999996\n",
      "365 1.3649999999999598\n",
      "366 1.3659999999999597\n",
      "367 1.3669999999999596\n",
      "368 1.3679999999999595\n",
      "369 1.3689999999999594\n",
      "370 1.3699999999999593\n",
      "371 1.3709999999999591\n",
      "372 1.371999999999959\n",
      "373 1.372999999999959\n",
      "374 1.3739999999999588\n",
      "375 1.3749999999999587\n",
      "376 1.3759999999999586\n",
      "377 1.3769999999999585\n",
      "378 1.3779999999999584\n",
      "379 1.3789999999999583\n",
      "380 1.3799999999999581\n",
      "381 1.380999999999958\n",
      "382 1.381999999999958\n",
      "383 1.3829999999999578\n",
      "384 1.3839999999999577\n",
      "385 1.3849999999999576\n",
      "386 1.3859999999999575\n",
      "387 1.3869999999999574\n",
      "388 1.3879999999999573\n",
      "389 1.3889999999999572\n",
      "390 1.389999999999957\n",
      "391 1.390999999999957\n",
      "392 1.3919999999999568\n",
      "393 1.3929999999999567\n",
      "394 1.3939999999999566\n",
      "395 1.3949999999999565\n",
      "396 1.3959999999999564\n",
      "397 1.3969999999999563\n",
      "398 1.3979999999999562\n",
      "399 1.398999999999956\n",
      "400 1.399999999999956\n",
      "401 1.4009999999999558\n",
      "402 1.4019999999999557\n",
      "403 1.4029999999999556\n",
      "404 1.4039999999999555\n",
      "405 1.4049999999999554\n",
      "406 1.4059999999999553\n",
      "407 1.4069999999999552\n",
      "408 1.407999999999955\n",
      "409 1.408999999999955\n",
      "410 1.4099999999999548\n",
      "411 1.4109999999999547\n",
      "412 1.4119999999999546\n",
      "413 1.4129999999999545\n",
      "414 1.4139999999999544\n",
      "415 1.4149999999999543\n",
      "416 1.4159999999999542\n",
      "417 1.416999999999954\n",
      "418 1.417999999999954\n",
      "419 1.4189999999999539\n",
      "420 1.4199999999999537\n",
      "421 1.4209999999999536\n",
      "422 1.4219999999999535\n",
      "423 1.4229999999999534\n",
      "424 1.4239999999999533\n",
      "425 1.4249999999999532\n",
      "426 1.425999999999953\n",
      "427 1.426999999999953\n",
      "428 1.4279999999999529\n",
      "429 1.4289999999999528\n",
      "430 1.4299999999999526\n",
      "431 1.4309999999999525\n",
      "432 1.4319999999999524\n",
      "433 1.4329999999999523\n",
      "434 1.4339999999999522\n",
      "435 1.434999999999952\n",
      "436 1.435999999999952\n",
      "437 1.4369999999999519\n",
      "438 1.4379999999999518\n",
      "439 1.4389999999999517\n",
      "440 1.4399999999999515\n",
      "441 1.4409999999999514\n",
      "442 1.4419999999999513\n",
      "443 1.4429999999999512\n",
      "444 1.443999999999951\n",
      "445 1.444999999999951\n",
      "446 1.4459999999999509\n",
      "447 1.4469999999999508\n",
      "448 1.4479999999999507\n",
      "449 1.4489999999999505\n",
      "450 1.4499999999999504\n",
      "451 1.4509999999999503\n",
      "452 1.4519999999999502\n",
      "453 1.45299999999995\n",
      "454 1.45399999999995\n",
      "455 1.4549999999999499\n",
      "456 1.4559999999999498\n",
      "457 1.4569999999999497\n",
      "458 1.4579999999999496\n",
      "459 1.4589999999999494\n",
      "460 1.4599999999999493\n",
      "461 1.4609999999999492\n",
      "462 1.4619999999999491\n",
      "463 1.462999999999949\n",
      "464 1.463999999999949\n",
      "465 1.4649999999999488\n",
      "466 1.4659999999999487\n",
      "467 1.4669999999999486\n",
      "468 1.4679999999999485\n",
      "469 1.4689999999999483\n",
      "470 1.4699999999999482\n",
      "471 1.4709999999999481\n",
      "472 1.471999999999948\n",
      "473 1.472999999999948\n",
      "474 1.4739999999999478\n",
      "475 1.4749999999999477\n",
      "476 1.4759999999999476\n",
      "477 1.4769999999999475\n",
      "478 1.4779999999999474\n",
      "479 1.4789999999999472\n",
      "480 1.4799999999999471\n",
      "481 1.480999999999947\n",
      "482 1.481999999999947\n",
      "483 1.4829999999999468\n",
      "484 1.4839999999999467\n",
      "485 1.4849999999999466\n",
      "486 1.4859999999999465\n",
      "487 1.4869999999999464\n",
      "488 1.4879999999999463\n",
      "489 1.4889999999999461\n",
      "490 1.489999999999946\n",
      "491 1.490999999999946\n",
      "492 1.4919999999999458\n",
      "493 1.4929999999999457\n",
      "494 1.4939999999999456\n",
      "495 1.4949999999999455\n",
      "496 1.4959999999999454\n",
      "497 1.4969999999999453\n",
      "498 1.4979999999999452\n",
      "499 1.498999999999945\n",
      "500 1.499999999999945\n",
      "501 1.5009999999999448\n",
      "502 1.5019999999999447\n",
      "503 1.5029999999999446\n",
      "504 1.5039999999999445\n",
      "505 1.5049999999999444\n",
      "506 1.5059999999999443\n",
      "507 1.5069999999999442\n",
      "508 1.507999999999944\n",
      "509 1.508999999999944\n",
      "510 1.5099999999999438\n",
      "511 1.5109999999999437\n",
      "512 1.5119999999999436\n",
      "513 1.5129999999999435\n",
      "514 1.5139999999999434\n",
      "515 1.5149999999999433\n",
      "516 1.5159999999999432\n",
      "517 1.516999999999943\n",
      "518 1.517999999999943\n",
      "519 1.5189999999999428\n",
      "520 1.5199999999999427\n",
      "521 1.5209999999999426\n",
      "522 1.5219999999999425\n",
      "523 1.5229999999999424\n",
      "524 1.5239999999999423\n",
      "525 1.5249999999999422\n",
      "526 1.525999999999942\n",
      "527 1.526999999999942\n",
      "528 1.5279999999999418\n",
      "529 1.5289999999999417\n",
      "530 1.5299999999999416\n",
      "531 1.5309999999999415\n",
      "532 1.5319999999999414\n",
      "533 1.5329999999999413\n",
      "534 1.5339999999999412\n",
      "535 1.534999999999941\n",
      "536 1.535999999999941\n",
      "537 1.5369999999999409\n",
      "538 1.5379999999999407\n",
      "539 1.5389999999999406\n",
      "540 1.5399999999999405\n",
      "541 1.5409999999999404\n",
      "542 1.5419999999999403\n",
      "543 1.5429999999999402\n",
      "544 1.54399999999994\n",
      "545 1.54499999999994\n",
      "546 1.5459999999999399\n",
      "547 1.5469999999999398\n",
      "548 1.5479999999999396\n",
      "549 1.5489999999999395\n",
      "550 1.5499999999999394\n",
      "551 1.5509999999999393\n",
      "552 1.5519999999999392\n",
      "553 1.552999999999939\n",
      "554 1.553999999999939\n",
      "555 1.5549999999999389\n",
      "556 1.5559999999999388\n",
      "557 1.5569999999999387\n",
      "558 1.5579999999999385\n",
      "559 1.5589999999999384\n",
      "560 1.5599999999999383\n",
      "561 1.5609999999999382\n",
      "562 1.561999999999938\n",
      "563 1.562999999999938\n",
      "564 1.5639999999999379\n",
      "565 1.5649999999999378\n",
      "566 1.5659999999999377\n",
      "567 1.5669999999999376\n",
      "568 1.5679999999999374\n",
      "569 1.5689999999999373\n",
      "570 1.5699999999999372\n",
      "571 1.5709999999999371\n",
      "572 1.571999999999937\n",
      "573 1.572999999999937\n",
      "574 1.5739999999999368\n",
      "575 1.5749999999999367\n",
      "576 1.5759999999999366\n",
      "577 1.5769999999999365\n",
      "578 1.5779999999999363\n",
      "579 1.5789999999999362\n",
      "580 1.5799999999999361\n",
      "581 1.580999999999936\n",
      "582 1.581999999999936\n",
      "583 1.5829999999999358\n",
      "584 1.5839999999999357\n",
      "585 1.5849999999999356\n",
      "586 1.5859999999999355\n",
      "587 1.5869999999999354\n",
      "588 1.5879999999999352\n",
      "589 1.5889999999999351\n",
      "590 1.589999999999935\n",
      "591 1.590999999999935\n",
      "592 1.5919999999999348\n",
      "593 1.5929999999999347\n",
      "594 1.5939999999999346\n",
      "595 1.5949999999999345\n",
      "596 1.5959999999999344\n",
      "597 1.5969999999999342\n",
      "598 1.5979999999999341\n",
      "599 1.598999999999934\n",
      "600 1.599999999999934\n",
      "601 1.6009999999999338\n",
      "602 1.6019999999999337\n",
      "603 1.6029999999999336\n",
      "604 1.6039999999999335\n",
      "605 1.6049999999999334\n",
      "606 1.6059999999999333\n",
      "607 1.6069999999999331\n",
      "608 1.607999999999933\n",
      "609 1.608999999999933\n",
      "610 1.6099999999999328\n",
      "611 1.6109999999999327\n",
      "612 1.6119999999999326\n",
      "613 1.6129999999999325\n",
      "614 1.6139999999999324\n",
      "615 1.6149999999999323\n",
      "616 1.6159999999999322\n",
      "617 1.616999999999932\n",
      "618 1.617999999999932\n",
      "619 1.6189999999999318\n",
      "620 1.6199999999999317\n",
      "621 1.6209999999999316\n",
      "622 1.6219999999999315\n",
      "623 1.6229999999999314\n",
      "624 1.6239999999999313\n",
      "625 1.6249999999999312\n",
      "626 1.625999999999931\n",
      "627 1.626999999999931\n",
      "628 1.6279999999999308\n",
      "629 1.6289999999999307\n",
      "630 1.6299999999999306\n",
      "631 1.6309999999999305\n",
      "632 1.6319999999999304\n",
      "633 1.6329999999999303\n",
      "634 1.6339999999999302\n",
      "635 1.63499999999993\n",
      "636 1.63599999999993\n",
      "637 1.6369999999999298\n",
      "638 1.6379999999999297\n",
      "639 1.6389999999999296\n",
      "640 1.6399999999999295\n",
      "641 1.6409999999999294\n",
      "642 1.6419999999999293\n",
      "643 1.6429999999999292\n",
      "644 1.643999999999929\n",
      "645 1.644999999999929\n",
      "646 1.6459999999999289\n",
      "647 1.6469999999999287\n",
      "648 1.6479999999999286\n",
      "649 1.6489999999999285\n",
      "650 1.6499999999999284\n",
      "651 1.6509999999999283\n",
      "652 1.6519999999999282\n",
      "653 1.652999999999928\n",
      "654 1.653999999999928\n",
      "655 1.6549999999999279\n",
      "656 1.6559999999999278\n",
      "657 1.6569999999999276\n",
      "658 1.6579999999999275\n",
      "659 1.6589999999999274\n",
      "660 1.6599999999999273\n",
      "661 1.6609999999999272\n",
      "662 1.661999999999927\n",
      "663 1.662999999999927\n",
      "664 1.6639999999999269\n",
      "665 1.6649999999999268\n",
      "666 1.6659999999999267\n",
      "667 1.6669999999999265\n",
      "668 1.6679999999999264\n",
      "669 1.6689999999999263\n",
      "670 1.6699999999999262\n",
      "671 1.670999999999926\n",
      "672 1.671999999999926\n",
      "673 1.6729999999999259\n",
      "674 1.6739999999999258\n",
      "675 1.6749999999999257\n",
      "676 1.6759999999999255\n",
      "677 1.6769999999999254\n",
      "678 1.6779999999999253\n",
      "679 1.6789999999999252\n",
      "680 1.679999999999925\n",
      "681 1.680999999999925\n",
      "682 1.6819999999999249\n",
      "683 1.6829999999999248\n",
      "684 1.6839999999999247\n",
      "685 1.6849999999999246\n",
      "686 1.6859999999999244\n",
      "687 1.6869999999999243\n",
      "688 1.6879999999999242\n",
      "689 1.6889999999999241\n",
      "690 1.689999999999924\n",
      "691 1.690999999999924\n",
      "692 1.6919999999999238\n",
      "693 1.6929999999999237\n",
      "694 1.6939999999999236\n",
      "695 1.6949999999999235\n",
      "696 1.6959999999999233\n",
      "697 1.6969999999999232\n",
      "698 1.6979999999999231\n",
      "699 1.698999999999923\n",
      "700 1.699999999999923\n",
      "701 1.7009999999999228\n",
      "702 1.7019999999999227\n",
      "703 1.7029999999999226\n",
      "704 1.7039999999999225\n",
      "705 1.7049999999999224\n",
      "706 1.7059999999999222\n",
      "707 1.7069999999999221\n",
      "708 1.707999999999922\n",
      "709 1.708999999999922\n",
      "710 1.7099999999999218\n",
      "711 1.7109999999999217\n",
      "712 1.7119999999999216\n",
      "713 1.7129999999999215\n",
      "714 1.7139999999999214\n",
      "715 1.7149999999999213\n",
      "716 1.7159999999999211\n",
      "717 1.716999999999921\n",
      "718 1.717999999999921\n",
      "719 1.7189999999999208\n",
      "720 1.7199999999999207\n",
      "721 1.7209999999999206\n",
      "722 1.7219999999999205\n",
      "723 1.7229999999999204\n",
      "724 1.7239999999999203\n",
      "725 1.7249999999999202\n",
      "726 1.72599999999992\n",
      "727 1.72699999999992\n",
      "728 1.7279999999999198\n",
      "729 1.7289999999999197\n",
      "730 1.7299999999999196\n",
      "731 1.7309999999999195\n",
      "732 1.7319999999999194\n",
      "733 1.7329999999999193\n",
      "734 1.7339999999999192\n",
      "735 1.734999999999919\n",
      "736 1.735999999999919\n",
      "737 1.7369999999999188\n",
      "738 1.7379999999999187\n",
      "739 1.7389999999999186\n",
      "740 1.7399999999999185\n",
      "741 1.7409999999999184\n",
      "742 1.7419999999999183\n",
      "743 1.7429999999999182\n",
      "744 1.743999999999918\n",
      "745 1.744999999999918\n",
      "746 1.7459999999999178\n",
      "747 1.7469999999999177\n",
      "748 1.7479999999999176\n",
      "749 1.7489999999999175\n",
      "750 1.7499999999999174\n",
      "751 1.7509999999999173\n",
      "752 1.7519999999999172\n",
      "753 1.752999999999917\n",
      "754 1.753999999999917\n",
      "755 1.7549999999999168\n",
      "756 1.7559999999999167\n",
      "757 1.7569999999999166\n",
      "758 1.7579999999999165\n",
      "759 1.7589999999999164\n",
      "760 1.7599999999999163\n",
      "761 1.7609999999999162\n",
      "762 1.761999999999916\n",
      "763 1.762999999999916\n",
      "764 1.7639999999999159\n",
      "765 1.7649999999999157\n",
      "766 1.7659999999999156\n",
      "767 1.7669999999999155\n",
      "768 1.7679999999999154\n",
      "769 1.7689999999999153\n",
      "770 1.7699999999999152\n",
      "771 1.770999999999915\n",
      "772 1.771999999999915\n",
      "773 1.7729999999999149\n",
      "774 1.7739999999999148\n",
      "775 1.7749999999999146\n",
      "776 1.7759999999999145\n",
      "777 1.7769999999999144\n",
      "778 1.7779999999999143\n",
      "779 1.7789999999999142\n",
      "780 1.779999999999914\n",
      "781 1.780999999999914\n",
      "782 1.7819999999999139\n",
      "783 1.7829999999999138\n",
      "784 1.7839999999999137\n",
      "785 1.7849999999999135\n",
      "786 1.7859999999999134\n",
      "787 1.7869999999999133\n",
      "788 1.7879999999999132\n",
      "789 1.788999999999913\n",
      "790 1.789999999999913\n",
      "791 1.7909999999999129\n",
      "792 1.7919999999999128\n",
      "793 1.7929999999999127\n",
      "794 1.7939999999999126\n",
      "795 1.7949999999999124\n",
      "796 1.7959999999999123\n",
      "797 1.7969999999999122\n",
      "798 1.7979999999999121\n",
      "799 1.798999999999912\n",
      "800 1.799999999999912\n",
      "801 1.8009999999999118\n",
      "802 1.8019999999999117\n",
      "803 1.8029999999999116\n",
      "804 1.8039999999999115\n",
      "805 1.8049999999999113\n",
      "806 1.8059999999999112\n",
      "807 1.8069999999999111\n",
      "808 1.807999999999911\n",
      "809 1.808999999999911\n",
      "810 1.8099999999999108\n",
      "811 1.8109999999999107\n",
      "812 1.8119999999999106\n",
      "813 1.8129999999999105\n",
      "814 1.8139999999999104\n",
      "815 1.8149999999999102\n",
      "816 1.8159999999999101\n",
      "817 1.81699999999991\n",
      "818 1.81799999999991\n",
      "819 1.8189999999999098\n",
      "820 1.8199999999999097\n",
      "821 1.8209999999999096\n",
      "822 1.8219999999999095\n",
      "823 1.8229999999999094\n",
      "824 1.8239999999999092\n",
      "825 1.8249999999999091\n",
      "826 1.825999999999909\n",
      "827 1.826999999999909\n",
      "828 1.8279999999999088\n",
      "829 1.8289999999999087\n",
      "830 1.8299999999999086\n",
      "831 1.8309999999999085\n",
      "832 1.8319999999999084\n",
      "833 1.8329999999999083\n",
      "834 1.8339999999999081\n",
      "835 1.834999999999908\n",
      "836 1.835999999999908\n",
      "837 1.8369999999999078\n",
      "838 1.8379999999999077\n",
      "839 1.8389999999999076\n",
      "840 1.8399999999999075\n",
      "841 1.8409999999999074\n",
      "842 1.8419999999999073\n",
      "843 1.8429999999999072\n",
      "844 1.843999999999907\n",
      "845 1.844999999999907\n",
      "846 1.8459999999999068\n",
      "847 1.8469999999999067\n",
      "848 1.8479999999999066\n",
      "849 1.8489999999999065\n",
      "850 1.8499999999999064\n",
      "851 1.8509999999999063\n",
      "852 1.8519999999999062\n",
      "853 1.852999999999906\n",
      "854 1.853999999999906\n",
      "855 1.8549999999999058\n",
      "856 1.8559999999999057\n",
      "857 1.8569999999999056\n",
      "858 1.8579999999999055\n",
      "859 1.8589999999999054\n",
      "860 1.8599999999999053\n",
      "861 1.8609999999999052\n",
      "862 1.861999999999905\n",
      "863 1.862999999999905\n",
      "864 1.8639999999999048\n",
      "865 1.8649999999999047\n",
      "866 1.8659999999999046\n",
      "867 1.8669999999999045\n",
      "868 1.8679999999999044\n",
      "869 1.8689999999999043\n",
      "870 1.8699999999999042\n",
      "871 1.870999999999904\n",
      "872 1.871999999999904\n",
      "873 1.8729999999999039\n",
      "874 1.8739999999999037\n",
      "875 1.8749999999999036\n",
      "876 1.8759999999999035\n",
      "877 1.8769999999999034\n",
      "878 1.8779999999999033\n",
      "879 1.8789999999999032\n",
      "880 1.879999999999903\n",
      "881 1.880999999999903\n",
      "882 1.8819999999999029\n",
      "883 1.8829999999999028\n",
      "884 1.8839999999999026\n",
      "885 1.8849999999999025\n",
      "886 1.8859999999999024\n",
      "887 1.8869999999999023\n",
      "888 1.8879999999999022\n",
      "889 1.888999999999902\n",
      "890 1.889999999999902\n",
      "891 1.8909999999999019\n",
      "892 1.8919999999999018\n",
      "893 1.8929999999999017\n",
      "894 1.8939999999999015\n",
      "895 1.8949999999999014\n",
      "896 1.8959999999999013\n",
      "897 1.8969999999999012\n",
      "898 1.897999999999901\n",
      "899 1.898999999999901\n",
      "900 1.8999999999999009\n",
      "901 1.9009999999999008\n",
      "902 1.9019999999999007\n",
      "903 1.9029999999999005\n",
      "904 1.9039999999999004\n",
      "905 1.9049999999999003\n",
      "906 1.9059999999999002\n",
      "907 1.9069999999999\n",
      "908 1.9079999999999\n",
      "909 1.9089999999998999\n",
      "910 1.9099999999998998\n",
      "911 1.9109999999998997\n",
      "912 1.9119999999998996\n",
      "913 1.9129999999998994\n",
      "914 1.9139999999998993\n",
      "915 1.9149999999998992\n",
      "916 1.9159999999998991\n",
      "917 1.916999999999899\n",
      "918 1.917999999999899\n",
      "919 1.9189999999998988\n",
      "920 1.9199999999998987\n",
      "921 1.9209999999998986\n",
      "922 1.9219999999998985\n",
      "923 1.9229999999998983\n",
      "924 1.9239999999998982\n",
      "925 1.9249999999998981\n",
      "926 1.925999999999898\n",
      "927 1.926999999999898\n",
      "928 1.9279999999998978\n",
      "929 1.9289999999998977\n",
      "930 1.9299999999998976\n",
      "931 1.9309999999998975\n",
      "932 1.9319999999998974\n",
      "933 1.9329999999998972\n",
      "934 1.9339999999998971\n",
      "935 1.934999999999897\n",
      "936 1.935999999999897\n",
      "937 1.9369999999998968\n",
      "938 1.9379999999998967\n",
      "939 1.9389999999998966\n",
      "940 1.9399999999998965\n",
      "941 1.9409999999998964\n",
      "942 1.9419999999998963\n",
      "943 1.9429999999998961\n",
      "944 1.943999999999896\n",
      "945 1.944999999999896\n",
      "946 1.9459999999998958\n",
      "947 1.9469999999998957\n",
      "948 1.9479999999998956\n",
      "949 1.9489999999998955\n",
      "950 1.9499999999998954\n",
      "951 1.9509999999998953\n",
      "952 1.9519999999998952\n",
      "953 1.952999999999895\n",
      "954 1.953999999999895\n",
      "955 1.9549999999998948\n",
      "956 1.9559999999998947\n",
      "957 1.9569999999998946\n",
      "958 1.9579999999998945\n",
      "959 1.9589999999998944\n",
      "960 1.9599999999998943\n",
      "961 1.9609999999998942\n",
      "962 1.961999999999894\n",
      "963 1.962999999999894\n",
      "964 1.9639999999998938\n",
      "965 1.9649999999998937\n",
      "966 1.9659999999998936\n",
      "967 1.9669999999998935\n",
      "968 1.9679999999998934\n",
      "969 1.9689999999998933\n",
      "970 1.9699999999998932\n",
      "971 1.970999999999893\n",
      "972 1.971999999999893\n",
      "973 1.9729999999998928\n",
      "974 1.9739999999998927\n",
      "975 1.9749999999998926\n",
      "976 1.9759999999998925\n",
      "977 1.9769999999998924\n",
      "978 1.9779999999998923\n",
      "979 1.9789999999998922\n",
      "980 1.979999999999892\n",
      "981 1.980999999999892\n",
      "982 1.9819999999998918\n",
      "983 1.9829999999998917\n",
      "984 1.9839999999998916\n",
      "985 1.9849999999998915\n",
      "986 1.9859999999998914\n",
      "987 1.9869999999998913\n",
      "988 1.9879999999998912\n",
      "989 1.988999999999891\n",
      "990 1.989999999999891\n",
      "991 1.9909999999998909\n",
      "992 1.9919999999998907\n",
      "993 1.9929999999998906\n",
      "994 1.9939999999998905\n",
      "995 1.9949999999998904\n",
      "996 1.9959999999998903\n",
      "997 1.9969999999998902\n",
      "998 1.99799999999989\n",
      "999 1.99899999999989\n"
     ]
    }
   ],
   "source": [
    "rfactor = np.arange(1.,2., 1e-3)\n",
    "ffactor = np.arange(1.,2., 1e-3)\n",
    "# work with the data points between 3 and 25\"\n",
    "idx, = np.where((radii > 2) & (radii < 12))\n",
    "xv = radii[idx]\n",
    "yv = encircled_flux[idx]/np.max(encircled_flux)\n",
    "resid = np.zeros((len(rfactor), len(ffactor)))\n",
    "for i, rf in enumerate(rfactor):\n",
    "    print(i, rf)\n",
    "    tck = interpolate.splrep(radiuseff*rf, valeff, s=0)\n",
    "    yfit = interpolate.splev(xv, tck, der=0)\n",
    "    for j, ff in enumerate(ffactor):\n",
    "        resid[i, j] = np.sum((yv-yfit*ff)**2)\n"
   ]
  },
  {
   "cell_type": "code",
   "execution_count": 24,
   "metadata": {},
   "outputs": [
    {
     "data": {
      "text/plain": [
       "<matplotlib.image.AxesImage at 0x7f0c836f24a8>"
      ]
     },
     "execution_count": 24,
     "metadata": {},
     "output_type": "execute_result"
    },
    {
     "data": {
      "image/png": "[encoded data removed]",
      "text/plain": [
       "<Figure size 432x288 with 1 Axes>"
      ]
     },
     "metadata": {
      "needs_background": "light"
     },
     "output_type": "display_data"
    }
   ],
   "source": [
    "plt.imshow(np.log(resid))"
   ]
  },
  {
   "cell_type": "markdown",
   "metadata": {},
   "source": [
    "This shows a minimum, with some degeneracy. "
   ]
  },
  {
   "cell_type": "code",
   "execution_count": 25,
   "metadata": {},
   "outputs": [
    {
     "name": "stdout",
     "output_type": "stream",
     "text": [
      "rf = 1.125, ff = 1.000, residual = 0.011\n"
     ]
    }
   ],
   "source": [
    "imin = np.argmin(resid)\n",
    "rmin, fmin = np.unravel_index(imin, resid.shape)\n",
    "print(\"rf = {:.3f}, ff = {:.3f}, residual = {:.3f}\".format(rfactor[rmin], ffactor[fmin], resid[rmin, fmin]))"
   ]
  },
  {
   "cell_type": "code",
   "execution_count": 26,
   "metadata": {},
   "outputs": [
    {
     "data": {
      "text/plain": [
       "<matplotlib.legend.Legend at 0x7f0c84652f60>"
      ]
     },
     "execution_count": 26,
     "metadata": {},
     "output_type": "execute_result"
    },
    {
     "data": {
      "image/png": "[encoded data removed]",
      "text/plain": [
       "<Figure size 432x288 with 1 Axes>"
      ]
     },
     "metadata": {
      "needs_background": "light"
     },
     "output_type": "display_data"
    }
   ],
   "source": [
    "plt.plot(radiuseff*rfactor[rmin], valeff, label='Calibration')\n",
    "plt.plot(radii, encircled_flux/np.max(encircled_flux)/ffactor[fmin], label='Our PSF')\n",
    "plt.xlim([0, 30])\n",
    "plt.xlabel('Radius [arcsec]')\n",
    "plt.ylabel('Encircled flux')\n",
    "plt.legend()"
   ]
  },
  {
   "cell_type": "code",
   "execution_count": 27,
   "metadata": {},
   "outputs": [
    {
     "data": {
      "text/plain": [
       "0.9416807755210389"
      ]
     },
     "execution_count": 27,
     "metadata": {},
     "output_type": "execute_result"
    }
   ],
   "source": [
    "# The two curve overlap\n",
    "psfok = psf/np.max(encircled_flux)/ffactor[fmin]\n",
    "np.sum(psfok)"
   ]
  },
  {
   "cell_type": "markdown",
   "metadata": {},
   "source": [
    "psfok is the PSF that a source of flux 1 Jy has in our data, and is to be used for source extraction"
   ]
  },
  {
   "cell_type": "markdown",
   "metadata": {},
   "source": [
    "### Validation\n",
    "To check PSF is reasonable, lets look at a 100 micron source, e.g. `EN1-PACSxID24-ELAIS-N1-HerMES-1-29844`. We can see from `WP4-ELAIS-N1-HerMES-PACSxID24-v1.fits.gz` that it has a flux of 5 Jy. Maximum value in our normalised PSF gives a peak below. Since PSF is double resolution of map, it could also be off centre. Map has value of 0.96 MJy/sr but does appear to be off centre.\n"
   ]
  },
  {
   "cell_type": "code",
   "execution_count": null,
   "metadata": {
    "collapsed": true
   },
   "outputs": [],
   "source": [
    "from astropy.table import Table"
   ]
  },
  {
   "cell_type": "code",
   "execution_count": 29,
   "metadata": {},
   "outputs": [],
   "source": [
    "PACScat=Table.read('./data/ELAIS-N2-SWIRE_PACSxID24_v1.fits')"
   ]
  },
  {
   "cell_type": "code",
   "execution_count": 34,
   "metadata": {},
   "outputs": [
    {
     "data": {
      "text/html": [
       "&lt;Column name=&apos;HELP_ID&apos; dtype=&apos;bytes22&apos; length=273650&gt;\n",
       "<table>\n",
       "<tr><td>EN2-PACSxID24-1-000001</td></tr>\n",
       "<tr><td>EN2-PACSxID24-1-000002</td></tr>\n",
       "<tr><td>EN2-PACSxID24-1-000003</td></tr>\n",
       "<tr><td>EN2-PACSxID24-1-000004</td></tr>\n",
       "<tr><td>EN2-PACSxID24-1-000005</td></tr>\n",
       "<tr><td>EN2-PACSxID24-1-000006</td></tr>\n",
       "<tr><td>EN2-PACSxID24-1-000007</td></tr>\n",
       "<tr><td>EN2-PACSxID24-1-000008</td></tr>\n",
       "<tr><td>EN2-PACSxID24-1-000009</td></tr>\n",
       "<tr><td>EN2-PACSxID24-1-000010</td></tr>\n",
       "<tr><td>EN2-PACSxID24-1-000011</td></tr>\n",
       "<tr><td>EN2-PACSxID24-1-000012</td></tr>\n",
       "<tr><td>...</td></tr>\n",
       "<tr><td>EN2-PACSxID24-1-273639</td></tr>\n",
       "<tr><td>EN2-PACSxID24-1-273640</td></tr>\n",
       "<tr><td>EN2-PACSxID24-1-273641</td></tr>\n",
       "<tr><td>EN2-PACSxID24-1-273642</td></tr>\n",
       "<tr><td>EN2-PACSxID24-1-273643</td></tr>\n",
       "<tr><td>EN2-PACSxID24-1-273644</td></tr>\n",
       "<tr><td>EN2-PACSxID24-1-273645</td></tr>\n",
       "<tr><td>EN2-PACSxID24-1-273646</td></tr>\n",
       "<tr><td>EN2-PACSxID24-1-273647</td></tr>\n",
       "<tr><td>EN2-PACSxID24-1-273648</td></tr>\n",
       "<tr><td>EN2-PACSxID24-1-273649</td></tr>\n",
       "<tr><td>EN2-PACSxID24-1-273650</td></tr>\n",
       "</table>"
      ],
      "text/plain": [
       "<Column name='HELP_ID' dtype='bytes22' length=273650>\n",
       "EN2-PACSxID24-1-000001\n",
       "EN2-PACSxID24-1-000002\n",
       "EN2-PACSxID24-1-000003\n",
       "EN2-PACSxID24-1-000004\n",
       "EN2-PACSxID24-1-000005\n",
       "EN2-PACSxID24-1-000006\n",
       "EN2-PACSxID24-1-000007\n",
       "EN2-PACSxID24-1-000008\n",
       "EN2-PACSxID24-1-000009\n",
       "EN2-PACSxID24-1-000010\n",
       "EN2-PACSxID24-1-000011\n",
       "EN2-PACSxID24-1-000012\n",
       "                   ...\n",
       "EN2-PACSxID24-1-273639\n",
       "EN2-PACSxID24-1-273640\n",
       "EN2-PACSxID24-1-273641\n",
       "EN2-PACSxID24-1-273642\n",
       "EN2-PACSxID24-1-273643\n",
       "EN2-PACSxID24-1-273644\n",
       "EN2-PACSxID24-1-273645\n",
       "EN2-PACSxID24-1-273646\n",
       "EN2-PACSxID24-1-273647\n",
       "EN2-PACSxID24-1-273648\n",
       "EN2-PACSxID24-1-273649\n",
       "EN2-PACSxID24-1-273650"
      ]
     },
     "execution_count": 34,
     "metadata": {},
     "output_type": "execute_result"
    }
   ],
   "source": [
    "PACScat['HELP_ID']"
   ]
  },
  {
   "cell_type": "code",
   "execution_count": 74,
   "metadata": {},
   "outputs": [
    {
     "data": {
      "text/html": [
       "<i>Table length=1</i>\n",
       "<table id=\"table139690668469944\" class=\"table-striped table-bordered table-condensed\">\n",
       "<thead><tr><th>XID</th><th>RA</th><th>Dec</th><th>F_PACS_100__A4</th><th>F_PACS_100__A5</th><th>F_PACS_100__A6</th><th>F_PACS_100__A7</th><th>F_PACS_100__A8</th><th>F_PACS_100__A10</th><th>F_PACS_100</th><th>Ferr_PACS_100__A4</th><th>Ferr_PACS_100__A5</th><th>Ferr_PACS_100__A6</th><th>Ferr_PACS_100__A7</th><th>Ferr_PACS_100__A8</th><th>Ferr_PACS_100__A10</th><th>Ferr_PACS_100</th><th>F_PACS_100__SKY</th><th>F_PACS_160__A4</th><th>F_PACS_160__A5</th><th>F_PACS_160__A6</th><th>F_PACS_160__A7</th><th>F_PACS_160__A8</th><th>F_PACS_160__A10</th><th>F_PACS_160</th><th>Ferr_PACS_160__A4</th><th>Ferr_PACS_160__A5</th><th>Ferr_PACS_160__A6</th><th>Ferr_PACS_160__A7</th><th>Ferr_PACS_160__A8</th><th>Ferr_PACS_160__A10</th><th>Ferr_PACS_160</th><th>F_PACS_160__SKY</th><th>HELP_ID</th></tr></thead>\n",
       "<thead><tr><th></th><th>deg</th><th>deg</th><th>mJy</th><th>mJy</th><th>mJy</th><th>mJy</th><th>mJy</th><th>mJy</th><th>mJy</th><th>mJy</th><th>mJy</th><th>mJy</th><th>mJy</th><th>mJy</th><th>mJy</th><th>mJy</th><th>mJy / pix</th><th>mJy</th><th>mJy</th><th>mJy</th><th>mJy</th><th>mJy</th><th>mJy</th><th>mJy</th><th>mJy</th><th>mJy</th><th>mJy</th><th>mJy</th><th>mJy</th><th>mJy</th><th>mJy</th><th>mJy / pix</th><th></th></tr></thead>\n",
       "<thead><tr><th>int32</th><th>float64</th><th>float64</th><th>float32</th><th>float32</th><th>float32</th><th>float32</th><th>float32</th><th>float32</th><th>float32</th><th>float32</th><th>float32</th><th>float32</th><th>float32</th><th>float32</th><th>float32</th><th>float32</th><th>float32</th><th>float32</th><th>float32</th><th>float32</th><th>float32</th><th>float32</th><th>float32</th><th>float32</th><th>float32</th><th>float32</th><th>float32</th><th>float32</th><th>float32</th><th>float32</th><th>float32</th><th>float32</th><th>bytes22</th></tr></thead>\n",
       "<tr><td>158195</td><td>249.60095</td><td>41.261169</td><td>152.58562</td><td>147.8197</td><td>150.38223</td><td>154.87341</td><td>157.18103</td><td>165.00745</td><td>142.71442</td><td>15.918295</td><td>15.012751</td><td>15.242483</td><td>15.940561</td><td>17.15815</td><td>19.695906</td><td>13.954576</td><td>0.0</td><td>203.83902</td><td>190.1499</td><td>186.53886</td><td>179.05331</td><td>173.90799</td><td>172.20763</td><td>118.91426</td><td>26.725317</td><td>22.98472</td><td>21.85025</td><td>20.952484</td><td>20.598026</td><td>22.122215</td><td>15.244323</td><td>0.0</td><td>EN2-PACSxID24-1-171390</td></tr>\n",
       "</table>"
      ],
      "text/plain": [
       "<Table length=1>\n",
       " XID       RA       Dec    ... F_PACS_160__SKY        HELP_ID        \n",
       "          deg       deg    ...    mJy / pix                          \n",
       "int32   float64   float64  ...     float32            bytes22        \n",
       "------ --------- --------- ... --------------- ----------------------\n",
       "158195 249.60095 41.261169 ...             0.0 EN2-PACSxID24-1-171390"
      ]
     },
     "execution_count": 74,
     "metadata": {},
     "output_type": "execute_result"
    }
   ],
   "source": [
    "PACScat[PACScat['HELP_ID']=='EN2-PACSxID24-1-171390']"
   ]
  },
  {
   "cell_type": "code",
   "execution_count": 69,
   "metadata": {},
   "outputs": [
    {
     "name": "stdout",
     "output_type": "stream",
     "text": [
      "Max PSF = 0.0120 Jy/pixel, off pixel Max PSF = 0.0030 Jy/pixel\n"
     ]
    }
   ],
   "source": [
    "cpix=np.int((hd['NAXIS1']+1)/2.0)\n",
    "\n",
    "print(\"Max PSF = {:.4f} Jy/pixel, off pixel Max PSF = {:.4f} Jy/pixel\".format(psfok[cpix-1,cpix-1]*0.358,psfok[cpix-3,cpix-3]*0.358))"
   ]
  },
  {
   "cell_type": "code",
   "execution_count": 85,
   "metadata": {},
   "outputs": [
    {
     "name": "stderr",
     "output_type": "stream",
     "text": [
      "WARNING: Cannot determine equinox. Assuming J2000. [aplpy.wcs_util]\n",
      "WARNING: Cannot determine equinox. Assuming J2000. [aplpy.wcs_util]\n"
     ]
    },
    {
     "data": {
      "image/png": "[encoded data removed]",
      "text/plain": [
       "<Figure size 720x648 with 2 Axes>"
      ]
     },
     "metadata": {},
     "output_type": "display_data"
    }
   ],
   "source": [
    "import aplpy\n",
    "sns.set_style(\"white\")\n",
    "cmap=sns.cubehelix_palette(8, start=.5, rot=-.75,as_cmap=True)\n",
    "fig=aplpy.FITSFigure('./data/input_data/ELAIS-N2-160um-img_wgls.fits')\n",
    "fig.recenter(PACScat[PACScat['HELP_ID']=='EN2-PACSxID24-1-171390']['RA'],PACScat[PACScat['HELP_ID']=='EN2-PACSxID24-1-171390']['Dec'], radius=0.01)\n",
    "fig.show_colorscale(vmin=-0.1,vmax=2.0,cmap=cmap)\n",
    "fig.add_colorbar()\n",
    "fig.colorbar.set_location('top')"
   ]
  },
  {
   "cell_type": "code",
   "execution_count": 51,
   "metadata": {},
   "outputs": [
    {
     "data": {
      "text/plain": [
       "<matplotlib.colorbar.Colorbar at 0x7f0c6b7fb780>"
      ]
     },
     "execution_count": 51,
     "metadata": {},
     "output_type": "execute_result"
    },
    {
     "data": {
      "image/png": "[encoded data removed]",
      "text/plain": [
       "<Figure size 432x288 with 2 Axes>"
      ]
     },
     "metadata": {},
     "output_type": "display_data"
    }
   ],
   "source": [
    "rad=100\n",
    "plt.imshow(psfok[cpix-1-rad:cpix+rad:5,cpix-1-rad:cpix+rad:5]*0.358,vmin=-0.001,vmax=0.002,cmap=cmap)\n",
    "plt.colorbar()"
   ]
  },
  {
   "cell_type": "markdown",
   "metadata": {},
   "source": [
    "In summary, the PSF is within 10% of this source, and given noise and shape of source will add additional uncertianty, as well as non-zero background, this seems reasonable.\n"
   ]
  },
  {
   "cell_type": "code",
   "execution_count": 45,
   "metadata": {},
   "outputs": [
    {
     "name": "stderr",
     "output_type": "stream",
     "text": [
      "WARNING: VerifyWarning: Verification reported errors: [astropy.io.fits.verify]\n",
      "WARNING: VerifyWarning: HDU 1: [astropy.io.fits.verify]\n",
      "WARNING: VerifyWarning:     'NAXIS1' card at the wrong place (card 4).  Fixed by moving it to the right place (card 3). [astropy.io.fits.verify]\n",
      "WARNING: VerifyWarning:     'NAXIS2' card at the wrong place (card 5).  Fixed by moving it to the right place (card 4). [astropy.io.fits.verify]\n",
      "WARNING: VerifyWarning:     'PCOUNT' card at the wrong place (card 27).  Fixed by moving it to the right place (card 5). [astropy.io.fits.verify]\n",
      "WARNING: VerifyWarning:     'GCOUNT' card at the wrong place (card 28).  Fixed by moving it to the right place (card 6). [astropy.io.fits.verify]\n",
      "WARNING: VerifyWarning: HDU 2: [astropy.io.fits.verify]\n",
      "WARNING: VerifyWarning:     'BITPIX' card at the wrong place (card 2).  Fixed by moving it to the right place (card 1). [astropy.io.fits.verify]\n",
      "WARNING: VerifyWarning:     'NAXIS' card at the wrong place (card 3).  Fixed by moving it to the right place (card 2). [astropy.io.fits.verify]\n",
      "WARNING: VerifyWarning:     'NAXIS1' card at the wrong place (card 4).  Fixed by moving it to the right place (card 3). [astropy.io.fits.verify]\n",
      "WARNING: VerifyWarning:     'NAXIS2' card at the wrong place (card 5).  Fixed by moving it to the right place (card 4). [astropy.io.fits.verify]\n",
      "WARNING: VerifyWarning:     'PCOUNT' card at the wrong place (card 27).  Fixed by moving it to the right place (card 5). [astropy.io.fits.verify]\n",
      "WARNING: VerifyWarning:     'GCOUNT' card at the wrong place (card 28).  Fixed by moving it to the right place (card 6). [astropy.io.fits.verify]\n",
      "WARNING: VerifyWarning: Note: astropy.io.fits uses zero-based indexing.\n",
      " [astropy.io.fits.verify]\n"
     ]
    }
   ],
   "source": [
    "stackhd[1].data=psfok\n",
    "stackhd.writeto('dmu18_PACS_160_PSF_ELAIS-N2_20181213.fits',output_verify='fix+warn')"
   ]
  },
  {
   "cell_type": "code",
   "execution_count": null,
   "metadata": {},
   "outputs": [],
   "source": []
  }
 ],
 "metadata": {
  "kernelspec": {
   "display_name": "Python 3",
   "language": "python",
   "name": "python3"
  },
  "language_info": {
   "codemirror_mode": {
    "name": "ipython",
    "version": 3
   },
   "file_extension": ".py",
   "mimetype": "text/x-python",
   "name": "python",
   "nbconvert_exporter": "python",
   "pygments_lexer": "ipython3",
   "version": "3.6.6"
  }
 },
 "nbformat": 4,
 "nbformat_minor": 2
}
