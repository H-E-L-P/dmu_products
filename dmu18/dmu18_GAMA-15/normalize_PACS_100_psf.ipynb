{
 "cells": [
  {
   "cell_type": "markdown",
   "metadata": {},
   "source": [
    "# PSF normalization\n",
    "\n",
    "Let us assume that we have reduced an observation, for which we have determined the PSF by stacking the flux of point-like sources. The PSF we obtain will not be as high S/N as the instrumental PSF that has been determined by the instrument team. Moreover, it is likely to be fattened due to the some small pointing errors. We need to find out what fraction of a point-like flux the PSF we have determined represent. In order to do this, we use the growth curve of the theoretical PSF that has been determine by the instrument team, and compare it to the growth curve we determine from our PSF.\n",
    "\n",
    "We will first look at a theoretical case, then go practical with an example drawn from the PACS observation of the the XMM-LSS.\n",
    "\n",
    "## 1) Theoretical example. \n",
    "\n",
    "Let us suppose we have a perfect telescope, without any central obscuration and spider to support the secondary. Diffraction theory gives us the shape of a PSF in this case, an Airy function. Let's compute it, and assume the resolution is 10\".\n"
   ]
  },
  {
   "cell_type": "code",
   "execution_count": 1,
   "metadata": {
    "collapsed": true
   },
   "outputs": [],
   "source": [
    "# import what we will need. \n",
    "%matplotlib inline\n",
    "import numpy as np\n",
    "from astropy.io import fits\n",
    "from astropy.table import Table\n",
    "from astropy.io import ascii as asciiread\n",
    "from matplotlib import pyplot as plt\n",
    "from scipy import interpolate \n",
    "from scipy import special\n",
    "from scipy import signal\n",
    "from scipy import fftpack"
   ]
  },
  {
   "cell_type": "code",
   "execution_count": null,
   "metadata": {
    "collapsed": true
   },
   "outputs": [],
   "source": [
    "# Let us perform our computation with a 0.1\" resolution on a 5' field of view\n",
    "resol = 0.1\n",
    "size = 300.\n",
    "# wavelength\n",
    "wavelength = 250e-6\n",
    "# primary aperture = 3.6 m diameter\n",
    "aperture = 3.6 / 2."
   ]
  },
  {
   "cell_type": "code",
   "execution_count": null,
   "metadata": {
    "collapsed": true
   },
   "outputs": [],
   "source": [
    "# Ensure we have an odd number of points \n",
    "nbpix = np.ceil(size/resol) // 2 * 2 + 1\n",
    "xcen = int((nbpix - 1) / 2)\n",
    "ycen = int((nbpix - 1) / 2)\n",
    "x = y = (np.arange(nbpix) - xcen)*resol\n",
    "xv, yv = np.meshgrid(x, y, sparse=False, indexing='xy')\n",
    "r = np.sqrt(xv**2+yv**2)\n",
    "# avoid division by 0 problems in the center\n",
    "r[xcen,ycen] = 1e-6\n",
    "# coordinates in fourier\n",
    "q = 2 * np.pi / wavelength * aperture * np.sin(r/3600.*np.pi/180.)"
   ]
  },
  {
   "cell_type": "code",
   "execution_count": null,
   "metadata": {
    "collapsed": true
   },
   "outputs": [],
   "source": [
    "psf = (2*special.jn(1, q)/q)**2"
   ]
  },
  {
   "cell_type": "code",
   "execution_count": null,
   "metadata": {
    "collapsed": true
   },
   "outputs": [],
   "source": [
    "# put back the correct value at center\n",
    "psf[xcen, ycen] = 1.\n",
    "# and normalize the PSF\n",
    "psf = psf/(np.sum(psf)*resol**2)"
   ]
  },
  {
   "cell_type": "code",
   "execution_count": null,
   "metadata": {},
   "outputs": [],
   "source": [
    "plt.imshow(np.log10(psf))\n",
    "print(r'$\\int\\int$ psf dx dy = {}'.format(np.sum(psf)*resol**2))"
   ]
  },
  {
   "cell_type": "code",
   "execution_count": null,
   "metadata": {},
   "outputs": [],
   "source": [
    "plt.plot(y[ycen-500:ycen+500], psf[ycen-500:ycen+500, xcen], label='Without obscuration')\n",
    "plt.legend()"
   ]
  },
  {
   "cell_type": "markdown",
   "metadata": {},
   "source": [
    "Let us now suppose that we observe a point source, and our image reconstruction has a ...This will shows a a blurring of the image, with a gaussian of 10\" FWHM. Let's generate this blurring"
   ]
  },
  {
   "cell_type": "code",
   "execution_count": null,
   "metadata": {
    "collapsed": true
   },
   "outputs": [],
   "source": [
    "fwhm = 10.\n",
    "sigma = fwhm / 2. / np.sqrt(2. * np.log(fwhm))\n",
    "sigmasq = sigma**2\n",
    "kernel_blur = 1./ 2./ np.pi / sigmasq * np.exp(-(r**2/2./sigmasq))"
   ]
  },
  {
   "cell_type": "code",
   "execution_count": null,
   "metadata": {},
   "outputs": [],
   "source": [
    "# Check our kernel is properly normalized\n",
    "np.sum(kernel_blur*resol**2)"
   ]
  },
  {
   "cell_type": "code",
   "execution_count": null,
   "metadata": {
    "collapsed": true
   },
   "outputs": [],
   "source": [
    "# apply the blur\n",
    "psfblur = signal.convolve(psf, kernel_blur, mode='same')*resol**2"
   ]
  },
  {
   "cell_type": "code",
   "execution_count": null,
   "metadata": {},
   "outputs": [],
   "source": [
    "plt.plot(y[ycen-500:ycen+500], psf[ycen-500:ycen+500, xcen], label='Original')\n",
    "plt.plot(y[ycen-500:ycen+500], psfblur[ycen-500:ycen+500, xcen], label='With blurring')\n",
    "plt.legend()"
   ]
  },
  {
   "cell_type": "markdown",
   "metadata": {},
   "source": [
    "We see the effect of blurring, the, observed PSF is wider, and we have lost some flux in the central core. Suppose now that we observed this psf with sources of unknown fluxes, so that we re unsure of its scaling, and that a background remain in our observation"
   ]
  },
  {
   "cell_type": "code",
   "execution_count": null,
   "metadata": {
    "collapsed": true
   },
   "outputs": [],
   "source": [
    "psfobs = psfblur * 2. + 1e-4"
   ]
  },
  {
   "cell_type": "markdown",
   "metadata": {},
   "source": [
    "The question is now how to recover the PSF that serve for our observation. For this, we will use the PSFs curve of growth. "
   ]
  },
  {
   "cell_type": "code",
   "execution_count": null,
   "metadata": {},
   "outputs": [],
   "source": [
    "radii = np.arange(0, np.max(r), resol)\n",
    "growth_psf = np.zeros(radii.shape)\n",
    "growth_psfobs = np.zeros(radii.shape)\n",
    "nbpix_psfobs = np.zeros(radii.shape)\n",
    "for i, radius in enumerate(radii):\n",
    "    if ((i % 100) == 0):\n",
    "        print(radius, np.max(radii))\n",
    "    if i == 0:\n",
    "        idj, idi = np.where(r <= radius)\n",
    "        growth_psf[i] = np.sum(psf[idj, idi])*resol**2\n",
    "        growth_psfobs[i] = np.sum(psfobs[idj, idi])*resol**2\n",
    "        nbpix_psfobs[i] =len(idi)\n",
    "    else:\n",
    "        idj, idi = np.where((r > radii[i-1]) & (r <= radius))\n",
    "        growth_psf[i] = growth_psf[i-1]+np.sum(psf[idj, idi])*resol**2\n",
    "        growth_psfobs[i] = growth_psfobs[i-1]+np.sum(psfobs[idj, idi])*resol**2\n",
    "        nbpix_psfobs[i] = nbpix_psfobs[i-1]+len(idi)"
   ]
  },
  {
   "cell_type": "code",
   "execution_count": null,
   "metadata": {},
   "outputs": [],
   "source": [
    "plt.plot(radii, growth_psf, label='PSF')\n",
    "plt.plot(radii, growth_psfobs, label='Observed PSF')\n",
    "plt.xlabel('Radius [arcsec]')\n",
    "plt.ylabel('Encircled flux')\n",
    "plt.legend()"
   ]
  },
  {
   "cell_type": "markdown",
   "metadata": {},
   "source": [
    "This strongly rising shape of the observed PSF is a sure sign of an non zero background. Let's determine it. "
   ]
  },
  {
   "cell_type": "code",
   "execution_count": null,
   "metadata": {},
   "outputs": [],
   "source": [
    "plt.plot(nbpix_psfobs, growth_psfobs)\n",
    "plt.xlabel('Number of pixels')\n",
    "plt.ylabel('Encircled flux')"
   ]
  },
  {
   "cell_type": "markdown",
   "metadata": {},
   "source": [
    "When plotted as a function of the intergated area, there is a clear linear relation, that we will fit:"
   ]
  },
  {
   "cell_type": "code",
   "execution_count": null,
   "metadata": {
    "collapsed": true
   },
   "outputs": [],
   "source": [
    "idx, = np.where(radii > 50)\n",
    "p = np.polyfit(nbpix_psfobs[idx], growth_psfobs[idx], 1)\n",
    "bkg = p[0]/resol**2"
   ]
  },
  {
   "cell_type": "code",
   "execution_count": null,
   "metadata": {
    "collapsed": true
   },
   "outputs": [],
   "source": [
    "# Correct PSF and curve of growth\n",
    "psfcor = psfobs-bkg\n",
    "growth_psfcor = growth_psfobs - bkg*nbpix_psfobs*resol**2"
   ]
  },
  {
   "cell_type": "code",
   "execution_count": null,
   "metadata": {},
   "outputs": [],
   "source": [
    "plt.plot(radii, growth_psf, label='PSF')\n",
    "plt.plot(radii, growth_psfcor, label='Observed PSF')\n",
    "plt.xlabel('Radius [arcsec]')\n",
    "plt.ylabel('Encircled flux')\n",
    "plt.legend()"
   ]
  },
  {
   "cell_type": "markdown",
   "metadata": {},
   "source": [
    "<a id='direct_ratio'></a> Let's have a look at the ratio of the two:"
   ]
  },
  {
   "cell_type": "code",
   "execution_count": null,
   "metadata": {},
   "outputs": [],
   "source": [
    "plt.plot(radii[1:], growth_psfcor[1:]/growth_psf[1:])\n",
    "plt.xlabel('Radius [arcsec]')\n",
    "plt.ylabel('Ratio of encircled flux')\n"
   ]
  },
  {
   "cell_type": "markdown",
   "metadata": {},
   "source": [
    "Due to the different resolution, the ratio is not constant. Let's note the calibration $C(r)$. Let us assume that our observed PSF encirled energy is of the form:\n",
    "\n",
    "$E(r) = \\alpha C(r \\times \\beta)$\n",
    "\n",
    "Where $\\beta$ is the fattening of the PSF. If we differentiate as a function of $r$:\n",
    "\n",
    "$E'(r) = \\alpha \\beta C'(r \\times \\beta)$\n",
    "\n"
   ]
  },
  {
   "cell_type": "code",
   "execution_count": null,
   "metadata": {
    "collapsed": true
   },
   "outputs": [],
   "source": [
    "# compute the derivatives\n",
    "deriv_growth_psf = (growth_psf[2:]-growth_psf[0:-2])/(radii[2:]-radii[0:-2])\n",
    "deriv_growth_psfcor  = (growth_psfcor[2:]-growth_psfcor[0:-2])/(radii[2:]-radii[0:-2])"
   ]
  },
  {
   "cell_type": "code",
   "execution_count": null,
   "metadata": {},
   "outputs": [],
   "source": [
    "plt.plot(radii[1:-1], deriv_growth_psf)\n",
    "plt.plot(radii[1:-1], deriv_growth_psfcor)\n",
    "plt.xlim([0,60])"
   ]
  },
  {
   "cell_type": "markdown",
   "metadata": {},
   "source": [
    "Compared with the growth curve plot, the derivative show clear maxima and minima that are out of phase. Findind the positions of the these will tell us if our assumption of homothetical variation is correct."
   ]
  },
  {
   "cell_type": "code",
   "execution_count": null,
   "metadata": {},
   "outputs": [],
   "source": [
    "# Find the local minima and maxima of the two curves.\n",
    "# To find a local extremum, we will fit the portion of curve with a degree 3 polynomial, \n",
    "# extract the roots of its derivative and only retain the one that are between the bounds.\n",
    "# This is what the following function does.\n",
    "def local_max(xvalues, yvalues, lower_bound, upper_bound, check_plot=False):\n",
    "    idx,=np.where((xvalues > lower_bound) & (xvalues < upper_bound))\n",
    "    p = np.polyfit(xvalues[idx], yvalues[idx], 3)\n",
    "    delta = (2.*p[1])**2 - 4.*3.*p[0]*p[2]\n",
    "    r1 = (-2*p[1]+np.sqrt(delta))/(2*3*p[0])\n",
    "    r2 = (-2*p[1]-np.sqrt(delta))/(2*3*p[0])\n",
    "    result = r1 if ((r1 > lower_bound) and (r1 < upper_bound)) else r2\n",
    "    if check_plot:\n",
    "        plt.plot(xvalues[idx], yvalues[idx])\n",
    "        plt.plot(xvalues[idx], p[0]*xvalues[idx]**3+p[1]*xvalues[idx]**2+\n",
    "                 p[2]*xvalues[idx]+p[3], '--')\n",
    "        plt.plot(np.array([result, result]), np.array([np.min(yvalues), np.max(yvalues)]), '-')\n",
    "    return result\n",
    "    \n",
    "    \n",
    "max_dpsf_1 = local_max(radii[1:-1], deriv_growth_psf, 3, 10, check_plot=True)\n",
    "max_dpsfcor_1 = local_max(radii[1:-1], deriv_growth_psfcor, 3, 10, check_plot=True)\n",
    "\n",
    "max_dpsf_2 = local_max(radii[1:-1], deriv_growth_psf, 14, 21, check_plot=True)\n",
    "max_dpsfcor_2 = local_max(radii[1:-1], deriv_growth_psfcor, 14, 21, check_plot=True)\n",
    "\n",
    "max_dpsf_3 = local_max(radii[1:-1], deriv_growth_psf, 21, 28, check_plot=True)\n",
    "max_dpsfcor_3 = local_max(radii[1:-1], deriv_growth_psfcor, 21, 28, check_plot=True)\n",
    "\n",
    "max_dpsf_4 = local_max(radii[1:-1], deriv_growth_psf, 28, 35, check_plot=True)\n",
    "max_dpsfcor_4 = local_max(radii[1:-1], deriv_growth_psfcor, 28, 35, check_plot=True)\n",
    "\n",
    "max_dpsf_5 = local_max(radii[1:-1], deriv_growth_psf, 35, 45, check_plot=True)\n",
    "max_dpsfcor_5 = local_max(radii[1:-1], deriv_growth_psfcor, 35, 45, check_plot=True)\n",
    "\n",
    "max_dpsf_6 = local_max(radii[1:-1], deriv_growth_psf, 40, 50, check_plot=True)\n",
    "max_dpsfcor_6 = local_max(radii[1:-1], deriv_growth_psfcor, 40, 50, check_plot=True)\n",
    "\n",
    "plt.xlabel('Radius [arcsec]')\n",
    "\n",
    "# Lets pack all of them, adding the r=0 point. \n",
    "max_dpsf = np.array([0, max_dpsf_1, max_dpsf_2, max_dpsf_3, max_dpsf_4, max_dpsf_5, max_dpsf_6])\n",
    "max_dpsfcor = np.array([0, max_dpsfcor_1, max_dpsfcor_2, max_dpsfcor_3, max_dpsfcor_4, \n",
    "                        max_dpsfcor_5, max_dpsfcor_6])\n",
    "\n",
    "print(max_dpsf,max_dpsfcor)"
   ]
  },
  {
   "cell_type": "markdown",
   "metadata": {},
   "source": [
    "From the plot, we can deduce that our homothetical assumption is not perfect: the spacing increases for the first three (don't forget the point at 0, 0, not shown), is very small for the 4th and 6th, and gets narrower for the 5th and 7th...\n",
    "Let's plot the situation"
   ]
  },
  {
   "cell_type": "code",
   "execution_count": null,
   "metadata": {
    "scrolled": true
   },
   "outputs": [],
   "source": [
    "plt.plot(max_dpsf, max_dpsfcor, 'o-')\n",
    "p = np.polyfit(max_dpsf[0:3], max_dpsfcor[0:3], 1)\n",
    "plt.plot(max_dpsf, p[0]*max_dpsf+p[1])\n",
    "plt.xlabel('extremum position of theoretical psf [arcsec]')\n",
    "plt.ylabel('extremum position of observed blurred psf [arcsec]')\n",
    "\n",
    "\n",
    "print(p)\n",
    "print((max_dpsfcor[1]-max_dpsfcor[0])/(max_dpsf[1]-max_dpsf[0]))\n",
    "print((max_dpsfcor[2]-max_dpsfcor[0])/(max_dpsf[2]-max_dpsf[0]))\n",
    "\n"
   ]
  },
  {
   "cell_type": "code",
   "execution_count": null,
   "metadata": {},
   "outputs": [],
   "source": [
    "# Lets use the data before 20\", corresponding to the central core\n",
    "beta = (max_dpsfcor[2]-max_dpsfcor[0])/(max_dpsf[2]-max_dpsf[0])\n",
    "\n",
    "# lets interpolate at the scaled radius\n",
    "tckpsfcor = interpolate.splrep(radii, growth_psfcor, s=0)\n",
    "interp_growth_psfcor = interpolate.splev(radii*beta, tckpsfcor, der=0)\n",
    "\n",
    "# check interpolation\n",
    "plt.plot(radii*beta, growth_psf)\n",
    "plt.plot(radii, growth_psfcor)\n",
    "plt.plot(radii*beta, interp_growth_psfcor)\n",
    "plt.xlim([0,60])\n",
    "plt.xlabel('radius [arcsec]')\n",
    "plt.ylabel('Encircled flux')\n",
    "\n"
   ]
  },
  {
   "cell_type": "markdown",
   "metadata": {},
   "source": [
    "Let us check the ratio, using the psf with a corrected radius"
   ]
  },
  {
   "cell_type": "code",
   "execution_count": null,
   "metadata": {},
   "outputs": [],
   "source": [
    "plt.plot(radii[1:]*beta, interp_growth_psfcor[1:]/growth_psf[1:])\n",
    "plt.xlabel('radius [arcsec]')\n",
    "plt.ylabel('Ratio of encircled flux')\n",
    "plt.xlim([0,60])\n",
    "idx, = np.where(((radii*p[0]) > 0) & ((radii*p[0]) < 60))\n",
    "scale_factor = np.median(interp_growth_psfcor[idx]/growth_psf[idx])\n",
    "print(\"alpha = {:.3f}\".format(scale_factor))"
   ]
  },
  {
   "cell_type": "markdown",
   "metadata": {},
   "source": [
    "We now have a much better looking ratio [compared with the cell where we computed the direct ratio](#the_ratio), and we have a decent determination of the psf scaling. The normalized PSF to use for our observations is then:"
   ]
  },
  {
   "cell_type": "code",
   "execution_count": null,
   "metadata": {
    "collapsed": true
   },
   "outputs": [],
   "source": [
    "psf_obs_norm = psfcor / scale_factor"
   ]
  },
  {
   "cell_type": "code",
   "execution_count": null,
   "metadata": {},
   "outputs": [],
   "source": [
    "print('\\int \\int psf_obs_norm dx dy = {}'.format(np.sum(psf_obs_norm)*resol**2))"
   ]
  },
  {
   "cell_type": "markdown",
   "metadata": {},
   "source": [
    "Indeed, let's look at the encircled energy in the core of our psf:\n",
    "In this example, we have used the derivative of the scale factor"
   ]
  },
  {
   "cell_type": "code",
   "execution_count": null,
   "metadata": {},
   "outputs": [],
   "source": [
    "idj, idi = np.where(r<max_dpsfcor_2)\n",
    "print('central core for observation: {}'.format(np.sum(psf_obs_norm[idj, idi])*resol**2))\n",
    "idj, idi = np.where(r<max_dpsf_2)\n",
    "print('central core for theoretical: {}'.format(np.sum(psf[idj, idi])*resol**2))\n",
    "\n",
    "\n"
   ]
  },
  {
   "cell_type": "markdown",
   "metadata": {},
   "source": [
    "The two agree extremely well. \n",
    "\n",
    "Unfortunately, with real data, it is not always possible as we will see to use the derivative of the curve of growth to derive the factor beta of PSF fattening. For real observation, one can use a brute force approach to try all the reasonable couples alpha, beta and try to match the theoretical psf to the observed one. This is how we will proceed next on real data."
   ]
  },
  {
   "cell_type": "markdown",
   "metadata": {},
   "source": [
    "## 2) Real data: PACS observations\n",
    "\n",
    "We will look at a real stack of point sources in the PACS 100 $\\mathrm{\\mu m}$ ELAIS-N1 observations, and try to find its normalization factor. \n",
    "\n",
    "Let's load the stacked PSF:"
   ]
  },
  {
   "cell_type": "code",
   "execution_count": 2,
   "metadata": {},
   "outputs": [
    {
     "data": {
      "text/plain": [
       "<matplotlib.image.AxesImage at 0x7fd830ac4400>"
      ]
     },
     "execution_count": 2,
     "metadata": {},
     "output_type": "execute_result"
    },
    {
     "data": {
      "image/png": "[encoded data removed]",
      "text/plain": [
       "<Figure size 432x288 with 1 Axes>"
      ]
     },
     "metadata": {
      "needs_background": "light"
     },
     "output_type": "display_data"
    }
   ],
   "source": [
    "stackhd_im = fits.open('../dmu18_HELP-PACS-maps/data/GAMA-15_PACS100_v0.9.fits')\n",
    "stackhd = fits.open('./data/output_data/GAMA15-100um-psffromstack_20171002.fits')\n",
    "psf = stackhd[0].data\n",
    "hd = stackhd[0].header\n",
    "plt.imshow(psf)"
   ]
  },
  {
   "cell_type": "code",
   "execution_count": 3,
   "metadata": {},
   "outputs": [
    {
     "data": {
      "text/plain": [
       "SIMPLE  =                    T / conforms to FITS standard                      \n",
       "BITPIX  =                  -64 / array data type                                \n",
       "NAXIS   =                    2 / number of array dimensions                     \n",
       "NAXIS1  =                   22                                                  \n",
       "NAXIS2  =                   22                                                  \n",
       "CTYPE1  = 'RA---TAN'                                                            \n",
       "CTYPE2  = 'DEC--TAN'                                                            \n",
       "CDELT1  =     -0.0008333333535                                                  \n",
       "CDELT2  =      0.0008333333535                                                  "
      ]
     },
     "execution_count": 3,
     "metadata": {},
     "output_type": "execute_result"
    }
   ],
   "source": [
    "hd"
   ]
  },
  {
   "cell_type": "markdown",
   "metadata": {},
   "source": [
    "Set the resolution of the psf. Because the map is in units of Jy/pixel, this turns out to be:\n",
    "* =1 if psf at same resolution of map\n",
    "* otherwise, should be in factor of map pixel size"
   ]
  },
  {
   "cell_type": "code",
   "execution_count": 4,
   "metadata": {
    "collapsed": true
   },
   "outputs": [],
   "source": [
    "resol= np.abs(stackhd[0].header['CDELT1'])/np.abs(stackhd_im[1].header['CDELT1'])"
   ]
  },
  {
   "cell_type": "code",
   "execution_count": 5,
   "metadata": {},
   "outputs": [
    {
     "data": {
      "text/plain": [
       "1.0"
      ]
     },
     "execution_count": 5,
     "metadata": {},
     "output_type": "execute_result"
    }
   ],
   "source": [
    "resol"
   ]
  },
  {
   "cell_type": "markdown",
   "metadata": {},
   "source": [
    "Now let's build the growthcurve for our PSF."
   ]
  },
  {
   "cell_type": "code",
   "execution_count": 6,
   "metadata": {
    "collapsed": true
   },
   "outputs": [],
   "source": [
    "# find the brightest pixel, it will be our center.\n",
    "jmax, imax = np.unravel_index(np.argmax(psf), psf.shape)"
   ]
  },
  {
   "cell_type": "code",
   "execution_count": 7,
   "metadata": {},
   "outputs": [],
   "source": [
    "# build the array of coordinates\n",
    "x = np.arange(hd['NAXIS1'])\n",
    "y = np.arange(hd['NAXIS2'])\n",
    "xv, yv = np.meshgrid(x, y, sparse=False, indexing='xy')\n",
    "xp = (xv-imax)*np.abs(hd['CDELT1'])*3600.\n",
    "yp = (yv-jmax)*np.abs(hd['CDELT2'])*3600.\n",
    "r = np.sqrt(xp**2 + yp**2)\n"
   ]
  },
  {
   "cell_type": "code",
   "execution_count": 8,
   "metadata": {
    "collapsed": true
   },
   "outputs": [],
   "source": [
    "# build the growth curve\n",
    "radii = np.unique(r)\n",
    "encircled_flux = np.zeros(radii.shape)\n",
    "nbpix = np.zeros(radii.shape)\n",
    "for i, radius in enumerate(radii):\n",
    "    idj, idi = np.where(r <= radius)\n",
    "    nbpix[i] =len(idi)\n",
    "    #encircled_flux[i] = np.sum(psf[idj, idi])*resol**2\n",
    "    #multiply by ((np.abs(hd['CDELT1'])*3600.)**2)/4.25E10 as map is in units of MJy/sr\n",
    "    encircled_flux[i] = np.sum(psf[idj, idi])*((np.abs(hd['CDELT1'])*3600.)**2)/4.25E10"
   ]
  },
  {
   "cell_type": "code",
   "execution_count": 9,
   "metadata": {},
   "outputs": [
    {
     "data": {
      "text/plain": [
       "-3.0000000726000002"
      ]
     },
     "execution_count": 9,
     "metadata": {},
     "output_type": "execute_result"
    }
   ],
   "source": [
    "hd['CDELT1']*3600."
   ]
  },
  {
   "cell_type": "code",
   "execution_count": 10,
   "metadata": {},
   "outputs": [
    {
     "data": {
      "text/plain": [
       "Text(0, 0.5, 'Encircled flux')"
      ]
     },
     "execution_count": 10,
     "metadata": {},
     "output_type": "execute_result"
    },
    {
     "data": {
      "image/png": "[encoded data removed]",
      "text/plain": [
       "<Figure size 432x288 with 1 Axes>"
      ]
     },
     "metadata": {
      "needs_background": "light"
     },
     "output_type": "display_data"
    }
   ],
   "source": [
    "plt.plot(radii, encircled_flux)\n",
    "plt.xlabel('Radius [arcsec]')\n",
    "plt.ylabel('Encircled flux')"
   ]
  },
  {
   "cell_type": "markdown",
   "metadata": {},
   "source": [
    "Looking at the shape of the encircled flux, it looks like the background level of our PSF is not zero. Let's check"
   ]
  },
  {
   "cell_type": "code",
   "execution_count": 11,
   "metadata": {},
   "outputs": [
    {
     "name": "stdout",
     "output_type": "stream",
     "text": [
      "0.0017286449728999287\n",
      "[[0.00172846 0.00173037 0.001724   0.00172392 0.00172585 0.00172469\n",
      "  0.0017364  0.00172888 0.00173419 0.00172891 0.00172465 0.00172892\n",
      "  0.00172572 0.0017317  0.00173145 0.00172948 0.00173462 0.00173757\n",
      "  0.00172971 0.00171942 0.00172836 0.00172881]\n",
      " [0.001727   0.00172918 0.00172725 0.00173336 0.0017261  0.00172498\n",
      "  0.00173059 0.00173382 0.00172474 0.00172698 0.00173042 0.00172809\n",
      "  0.00172735 0.00173063 0.00172985 0.00173125 0.00172759 0.00172772\n",
      "  0.00173979 0.00172639 0.00172636 0.00172459]\n",
      " [0.00172655 0.0017266  0.00172999 0.0017283  0.00172079 0.0017262\n",
      "  0.00172511 0.0017269  0.0017231  0.00174141 0.00173181 0.00173133\n",
      "  0.0017262  0.00172633 0.00173799 0.00173683 0.00172813 0.00173129\n",
      "  0.00173327 0.00172421 0.00172177 0.00173278]\n",
      " [0.00172409 0.00172807 0.00172873 0.00173004 0.00173205 0.001732\n",
      "  0.00172637 0.00172855 0.00173515 0.00173177 0.00172662 0.00172353\n",
      "  0.00173282 0.00172972 0.00172852 0.00173318 0.00172788 0.00172462\n",
      "  0.00173129 0.00173412 0.00173064 0.00172404]\n",
      " [0.00172768 0.00172739 0.00172577 0.00172691 0.0017287  0.00173337\n",
      "  0.00172978 0.00172242 0.00173045 0.00173469 0.00173253 0.00172722\n",
      "  0.00172859 0.00172917 0.00171927 0.00172761 0.00172905 0.00173305\n",
      "  0.00172999 0.00173086 0.00173112 0.00172273]\n",
      " [0.00172668 0.00172966 0.00173237 0.00172574 0.0017371  0.00173956\n",
      "  0.0017317  0.00172234 0.00171987 0.00172828 0.00173636 0.00173383\n",
      "  0.00173931 0.00173499 0.00173242 0.00172597 0.00172793 0.00173385\n",
      "  0.00172803 0.00173189 0.00172616 0.00172517]\n",
      " [0.00172477 0.00173033 0.00172555 0.00172677 0.00173026 0.00174234\n",
      "  0.0017385  0.00173394 0.00172559 0.00172968 0.00174184 0.00173476\n",
      "  0.00173367 0.00173398 0.00173336 0.00173138 0.00173184 0.00173235\n",
      "  0.00172889 0.00173629 0.00173211 0.00172526]\n",
      " [0.00172819 0.0017267  0.00172576 0.00172755 0.0017285  0.00173223\n",
      "  0.00173026 0.00173643 0.00173391 0.00173643 0.00174839 0.00175141\n",
      "  0.00174205 0.00173524 0.00174415 0.00173445 0.00172356 0.00173165\n",
      "  0.00172897 0.00172956 0.00172645 0.00172817]\n",
      " [0.00172461 0.00173134 0.00173148 0.00173104 0.00173516 0.00173257\n",
      "  0.00173691 0.00173564 0.00173766 0.00175434 0.00176967 0.00176083\n",
      "  0.00174563 0.00173885 0.0017394  0.00173234 0.00172915 0.00172382\n",
      "  0.00172621 0.00172869 0.00172933 0.00172898]\n",
      " [0.00172496 0.00172509 0.00172698 0.0017363  0.00172672 0.0017307\n",
      "  0.00173584 0.00174213 0.00175415 0.00177001 0.00180306 0.00180228\n",
      "  0.00177773 0.00175524 0.00174952 0.00174074 0.00172551 0.00172494\n",
      "  0.00173385 0.00173081 0.00172792 0.00172174]\n",
      " [0.00172939 0.00173116 0.00173273 0.00173301 0.00173328 0.00172924\n",
      "  0.00173708 0.00174125 0.00174232 0.00178184 0.00185859 0.00188928\n",
      "  0.00184707 0.00178446 0.00175693 0.00174353 0.00173213 0.00172914\n",
      "  0.00173021 0.00173605 0.00173233 0.00173298]\n",
      " [0.00173097 0.00172277 0.0017311  0.00172805 0.00173073 0.00173356\n",
      "  0.0017413  0.00174087 0.00174908 0.00180446 0.001897   0.00194575\n",
      "  0.0019008  0.00180159 0.00175372 0.00174159 0.00174158 0.00174034\n",
      "  0.00173619 0.00172944 0.00172811 0.001733  ]\n",
      " [0.00172702 0.00172691 0.00173269 0.00173636 0.00173026 0.00173573\n",
      "  0.00173846 0.00173933 0.00175348 0.00178502 0.00185532 0.00189814\n",
      "  0.00186407 0.0017856  0.00175267 0.00174261 0.00174366 0.00174447\n",
      "  0.0017299  0.00172943 0.00172638 0.00172028]\n",
      " [0.0017206  0.00172905 0.00173563 0.00172838 0.00173647 0.0017229\n",
      "  0.00173239 0.00173382 0.00174494 0.00175654 0.00178126 0.00179946\n",
      "  0.00180049 0.00176285 0.00174161 0.00174575 0.00173097 0.00173637\n",
      "  0.0017276  0.0017239  0.00172916 0.00172439]\n",
      " [0.00173177 0.00172875 0.001726   0.00173279 0.00172634 0.00172315\n",
      "  0.00172576 0.00173415 0.00174157 0.00174405 0.00174677 0.00174935\n",
      "  0.00175629 0.00174866 0.00173863 0.00174755 0.00173744 0.00172639\n",
      "  0.00172919 0.00172803 0.00172961 0.00172583]\n",
      " [0.00172621 0.00172292 0.00172527 0.00173014 0.00172717 0.00172326\n",
      "  0.00173084 0.00173408 0.00173212 0.00174006 0.00173428 0.00173839\n",
      "  0.00173994 0.0017276  0.00172949 0.00173405 0.00173162 0.00173546\n",
      "  0.00172743 0.00172267 0.00172631 0.00172639]\n",
      " [0.00172529 0.00172477 0.00172467 0.00172706 0.00173349 0.00173092\n",
      "  0.00173548 0.00173976 0.00173107 0.0017399  0.00173212 0.00174033\n",
      "  0.00173305 0.00171794 0.00171933 0.00172329 0.00172988 0.0017299\n",
      "  0.00173585 0.00172788 0.00173608 0.00172424]\n",
      " [0.0017297  0.0017353  0.00173226 0.00172802 0.00173194 0.00173674\n",
      "  0.00173189 0.00172545 0.00172573 0.00173574 0.00173765 0.00172931\n",
      "  0.00173152 0.00173247 0.00172338 0.00172225 0.00172826 0.00173286\n",
      "  0.00172237 0.00173417 0.00172383 0.00173069]\n",
      " [0.00173108 0.00172738 0.00173016 0.00172702 0.00173244 0.00172957\n",
      "  0.0017328  0.00172898 0.00173191 0.00172935 0.00173173 0.00172675\n",
      "  0.00173241 0.00173415 0.00173265 0.00173297 0.00172987 0.00173117\n",
      "  0.00172824 0.00173322 0.00173134 0.00172757]\n",
      " [0.00172867 0.0017291  0.00172841 0.00173209 0.00173243 0.0017329\n",
      "  0.00172929 0.0017275  0.00172079 0.00173357 0.00173571 0.00173213\n",
      "  0.00172977 0.00173246 0.00172331 0.00172755 0.00172749 0.00172426\n",
      "  0.00173292 0.0017298  0.00172848 0.00172783]\n",
      " [0.00173355 0.00172998 0.00173342 0.00172808 0.0017283  0.00173731\n",
      "  0.00172373 0.00173293 0.00172503 0.0017247  0.00172412 0.00172636\n",
      "  0.00172848 0.00173085 0.00172934 0.00172342 0.00172243 0.00172327\n",
      "  0.0017308  0.00172614 0.00173428 0.00172906]\n",
      " [0.00173098 0.00173473 0.00172271 0.00172665 0.00173077 0.0017259\n",
      "  0.00172725 0.0017257  0.00171962 0.00173057 0.00172679 0.00172479\n",
      "  0.0017287  0.00172797 0.00173176 0.00172937 0.00172693 0.00172265\n",
      "  0.00172909 0.00173269 0.0017295  0.00173379]]\n"
     ]
    }
   ],
   "source": [
    "# This is clearly. \n",
    "print(np.median(psf[0:5,:]))\n",
    "\n",
    "print(psf)\n"
   ]
  },
  {
   "cell_type": "code",
   "execution_count": 12,
   "metadata": {},
   "outputs": [
    {
     "data": {
      "text/plain": [
       "Text(0, 0.5, 'Encircled flux')"
      ]
     },
     "execution_count": 12,
     "metadata": {},
     "output_type": "execute_result"
    },
    {
     "data": {
      "image/png": "[encoded data removed]",
      "text/plain": [
       "<Figure size 432x288 with 1 Axes>"
      ]
     },
     "metadata": {
      "needs_background": "light"
     },
     "output_type": "display_data"
    }
   ],
   "source": [
    "plt.plot(nbpix, encircled_flux)\n",
    "plt.xlabel('Number of pixels')\n",
    "plt.ylabel('Encircled flux')"
   ]
  },
  {
   "cell_type": "code",
   "execution_count": 13,
   "metadata": {},
   "outputs": [
    {
     "name": "stdout",
     "output_type": "stream",
     "text": [
      "75\n"
     ]
    }
   ],
   "source": [
    "print(len(nbpix))"
   ]
  },
  {
   "cell_type": "code",
   "execution_count": 14,
   "metadata": {},
   "outputs": [],
   "source": [
    "# Lets do a linear fit to the outer part of the curve to determine the backgound\n",
    "p = np.polyfit(nbpix[30:], encircled_flux[30:], 1)\n",
    "bkg = p[0]/resol**2\n"
   ]
  },
  {
   "cell_type": "code",
   "execution_count": 15,
   "metadata": {},
   "outputs": [
    {
     "data": {
      "text/plain": [
       "193.0"
      ]
     },
     "execution_count": 15,
     "metadata": {},
     "output_type": "execute_result"
    }
   ],
   "source": [
    "nbpix[30]"
   ]
  },
  {
   "cell_type": "code",
   "execution_count": 16,
   "metadata": {},
   "outputs": [
    {
     "name": "stdout",
     "output_type": "stream",
     "text": [
      "3.660882717056583e-13\n"
     ]
    }
   ],
   "source": [
    "print(bkg)"
   ]
  },
  {
   "cell_type": "code",
   "execution_count": 17,
   "metadata": {
    "collapsed": true
   },
   "outputs": [],
   "source": [
    "# Lets correct the psf and encircled flux\n",
    "psf = psf - bkg\n",
    "encircled_flux = encircled_flux - bkg * nbpix*resol**2"
   ]
  },
  {
   "cell_type": "code",
   "execution_count": 18,
   "metadata": {},
   "outputs": [
    {
     "data": {
      "text/plain": [
       "Text(0, 0.5, 'Encircled flux')"
      ]
     },
     "execution_count": 18,
     "metadata": {},
     "output_type": "execute_result"
    },
    {
     "data": {
      "image/png": "[encoded data removed]",
      "text/plain": [
       "<Figure size 432x288 with 1 Axes>"
      ]
     },
     "metadata": {
      "needs_background": "light"
     },
     "output_type": "display_data"
    }
   ],
   "source": [
    "plt.plot(radii, encircled_flux)\n",
    "plt.xlabel('Radius [arcsec]')\n",
    "plt.ylabel('Encircled flux')"
   ]
  },
  {
   "cell_type": "markdown",
   "metadata": {},
   "source": [
    "Our PSF does now behaves correctly.\n",
    "\n",
    "Now let us compare our growth curve with the encircled energy curve provided by the instrument team. We use the standard growth curve for 100 µm PACS, taken with 20\"/s scan speed. "
   ]
  },
  {
   "cell_type": "code",
   "execution_count": 19,
   "metadata": {
    "collapsed": true
   },
   "outputs": [],
   "source": [
    "f = open('./data/EEF_grn_20.txt', 'r')\n",
    "lines = f.readlines()\n",
    "f.close()\n",
    "radiuseff = np.zeros(len(lines)-3)\n",
    "valeff = np.zeros(len(lines)-3)\n",
    "i = 0\n",
    "for line in lines:\n",
    "    if line[0] != '#':\n",
    "        bits = line.split()\n",
    "        radiuseff[i] = float(bits[0])\n",
    "        valeff[i] = float(bits[1])\n",
    "        i = i+1"
   ]
  },
  {
   "cell_type": "code",
   "execution_count": 20,
   "metadata": {},
   "outputs": [
    {
     "data": {
      "text/plain": [
       "<matplotlib.legend.Legend at 0x7fd830925940>"
      ]
     },
     "execution_count": 20,
     "metadata": {},
     "output_type": "execute_result"
    },
    {
     "data": {
      "image/png": "[encoded data removed]",
      "text/plain": [
       "<Figure size 432x288 with 1 Axes>"
      ]
     },
     "metadata": {
      "needs_background": "light"
     },
     "output_type": "display_data"
    }
   ],
   "source": [
    "plt.plot(radiuseff, valeff, label='Calibration')\n",
    "plt.plot(radii, encircled_flux/np.max(encircled_flux), label='Our PSF')\n",
    "plt.xlim([0, 100])\n",
    "plt.xlabel('Radius [arcsec]')\n",
    "plt.ylabel('Encircled flux')\n",
    "plt.legend()"
   ]
  },
  {
   "cell_type": "markdown",
   "metadata": {},
   "source": [
    "We will work below 10\" where our PSF is well behaved"
   ]
  },
  {
   "cell_type": "code",
   "execution_count": 21,
   "metadata": {},
   "outputs": [
    {
     "data": {
      "text/plain": [
       "<matplotlib.legend.Legend at 0x7fd830891f98>"
      ]
     },
     "execution_count": 21,
     "metadata": {},
     "output_type": "execute_result"
    },
    {
     "data": {
      "image/png": "[encoded data removed]",
      "text/plain": [
       "<Figure size 432x288 with 1 Axes>"
      ]
     },
     "metadata": {
      "needs_background": "light"
     },
     "output_type": "display_data"
    }
   ],
   "source": [
    "plt.plot(radiuseff, valeff, label='Calibration')\n",
    "plt.plot(radii, encircled_flux/np.max(encircled_flux), label='Our PSF')\n",
    "plt.xlim([0, 50])\n",
    "plt.xlabel('Radius [arcsec]')\n",
    "plt.ylabel('Encircled flux')\n",
    "plt.legend()"
   ]
  },
  {
   "cell_type": "markdown",
   "metadata": {},
   "source": [
    "We see that while the calibration curve still rises beyond 30\", our PSF has reached a plateau. Let's note the calibration $C(r)$. Our PSF encirled energy is of the form:\n",
    "\n",
    "$E(r) = \\alpha C(r \\times \\beta)$\n",
    "\n",
    "Where $\\beta$ is the fattening of the PSF.\n",
    "\n",
    "We could take the derivative, but this too noisy. Instead we do a brute force approach"
   ]
  },
  {
   "cell_type": "code",
   "execution_count": 22,
   "metadata": {},
   "outputs": [
    {
     "data": {
      "text/plain": [
       "<matplotlib.legend.Legend at 0x7fd8307fc828>"
      ]
     },
     "execution_count": 22,
     "metadata": {},
     "output_type": "execute_result"
    },
    {
     "data": {
      "image/png": "[encoded data removed]",
      "text/plain": [
       "<Figure size 432x288 with 1 Axes>"
      ]
     },
     "metadata": {
      "needs_background": "light"
     },
     "output_type": "display_data"
    }
   ],
   "source": [
    "plt.plot(radiuseff, valeff, label='Calibration')\n",
    "plt.plot(radii, encircled_flux/np.max(encircled_flux), label='Our PSF')\n",
    "plt.xlim([0, 50])\n",
    "plt.xlabel('Radius [arcsec]')\n",
    "plt.ylabel('Encircled flux')\n",
    "plt.legend()"
   ]
  },
  {
   "cell_type": "code",
   "execution_count": 23,
   "metadata": {},
   "outputs": [],
   "source": [
    "rfactor = np.arange(1.,2., 1e-3)\n",
    "ffactor = np.arange(1.,2., 1e-3)\n",
    "# work with the data points between 2 and 10\"\n",
    "idx, = np.where((radii > 1 ) & (radii < 12))\n",
    "xv = radii[idx]\n",
    "yv = encircled_flux[idx]/np.max(encircled_flux)\n",
    "resid = np.zeros((len(rfactor), len(ffactor)))\n",
    "for i, rf in enumerate(rfactor):\n",
    "    #print(i, rf)\n",
    "    tck = interpolate.splrep(radiuseff*rf, valeff, s=0)\n",
    "    yfit = interpolate.splev(xv, tck, der=0)\n",
    "    for j, ff in enumerate(ffactor):\n",
    "        resid[i, j] = np.sum((yv-yfit*ff)**2)\n"
   ]
  },
  {
   "cell_type": "code",
   "execution_count": 24,
   "metadata": {},
   "outputs": [
    {
     "data": {
      "text/plain": [
       "<matplotlib.image.AxesImage at 0x7fd8307e5208>"
      ]
     },
     "execution_count": 24,
     "metadata": {},
     "output_type": "execute_result"
    },
    {
     "data": {
      "image/png": "[encoded data removed]",
      "text/plain": [
       "<Figure size 432x288 with 1 Axes>"
      ]
     },
     "metadata": {
      "needs_background": "light"
     },
     "output_type": "display_data"
    }
   ],
   "source": [
    "plt.imshow(np.log(resid))"
   ]
  },
  {
   "cell_type": "markdown",
   "metadata": {},
   "source": [
    "This shows a minimum, with some degeneracy. "
   ]
  },
  {
   "cell_type": "code",
   "execution_count": 25,
   "metadata": {},
   "outputs": [
    {
     "name": "stdout",
     "output_type": "stream",
     "text": [
      "rf = 1.195, ff = 1.058, residual = 0.010\n"
     ]
    }
   ],
   "source": [
    "imin = np.argmin(resid)\n",
    "rmin, fmin = np.unravel_index(imin, resid.shape)\n",
    "print(\"rf = {:.3f}, ff = {:.3f}, residual = {:.3f}\".format(rfactor[rmin], ffactor[fmin], resid[rmin, fmin]))"
   ]
  },
  {
   "cell_type": "code",
   "execution_count": 26,
   "metadata": {},
   "outputs": [
    {
     "data": {
      "text/plain": [
       "<matplotlib.legend.Legend at 0x7fd82ff9f6a0>"
      ]
     },
     "execution_count": 26,
     "metadata": {},
     "output_type": "execute_result"
    },
    {
     "data": {
      "image/png": "[encoded data removed]",
      "text/plain": [
       "<Figure size 432x288 with 1 Axes>"
      ]
     },
     "metadata": {
      "needs_background": "light"
     },
     "output_type": "display_data"
    }
   ],
   "source": [
    "plt.plot(radiuseff*rfactor[rmin], valeff, label='Calibration')\n",
    "plt.plot(radii, encircled_flux/np.max(encircled_flux)/ffactor[fmin], label='Our PSF')\n",
    "plt.xlim([0, 100])\n",
    "plt.xlabel('Radius [arcsec]')\n",
    "plt.ylabel('Encircled flux')\n",
    "plt.legend()"
   ]
  },
  {
   "cell_type": "code",
   "execution_count": 27,
   "metadata": {},
   "outputs": [
    {
     "data": {
      "text/plain": [
       "1071358614835.1749"
      ]
     },
     "execution_count": 27,
     "metadata": {},
     "output_type": "execute_result"
    }
   ],
   "source": [
    "# The two curve overlap\n",
    "psfok = psf/np.max(encircled_flux)/ffactor[fmin]\n",
    "np.sum(psfok)"
   ]
  },
  {
   "cell_type": "markdown",
   "metadata": {},
   "source": [
    "psfok is the PSF that a source of flux 1 Jy has in our data, and is to be used for source extraction"
   ]
  },
  {
   "cell_type": "markdown",
   "metadata": {},
   "source": [
    "### As units of map in MJy/sr, divide by 1E6"
   ]
  },
  {
   "cell_type": "code",
   "execution_count": 28,
   "metadata": {},
   "outputs": [],
   "source": [
    "psfok=psfok/1.0E6"
   ]
  },
  {
   "cell_type": "markdown",
   "metadata": {},
   "source": [
    "### Validation\n",
    "To check PSF is reasonable, lets look at a 100 micron source, e.g. `---`. We can see from `GAMA-15_PACS100_v0.9.fit` that it has a flux of -- mJy. Maximum value in our normalised PSF ---- \n"
   ]
  },
  {
   "cell_type": "code",
   "execution_count": 29,
   "metadata": {
    "collapsed": true
   },
   "outputs": [],
   "source": [
    "from astropy.table import Table"
   ]
  },
  {
   "cell_type": "code",
   "execution_count": 30,
   "metadata": {},
   "outputs": [
    {
     "ename": "FileNotFoundError",
     "evalue": "[Errno 2] No such file or directory: './data/GAMA-15_PACSxID24_v1.fits'",
     "output_type": "error",
     "traceback": [
      "\u001b[0;31m---------------------------------------------------------------------------\u001b[0m",
      "\u001b[0;31mFileNotFoundError\u001b[0m                         Traceback (most recent call last)",
      "\u001b[0;32m<ipython-input-30-6df4bc3dbfa8>\u001b[0m in \u001b[0;36m<module>\u001b[0;34m\u001b[0m\n\u001b[0;32m----> 1\u001b[0;31m \u001b[0mPACScat\u001b[0m\u001b[0;34m=\u001b[0m\u001b[0mTable\u001b[0m\u001b[0;34m.\u001b[0m\u001b[0mread\u001b[0m\u001b[0;34m(\u001b[0m\u001b[0;34m'./data/GAMA-15_PACSxID24_v1.fits'\u001b[0m\u001b[0;34m)\u001b[0m\u001b[0;34m\u001b[0m\u001b[0;34m\u001b[0m\u001b[0m\n\u001b[0m",
      "\u001b[0;32m~/anaconda3/lib/python3.6/site-packages/astropy/table/table.py\u001b[0m in \u001b[0;36mread\u001b[0;34m(cls, *args, **kwargs)\u001b[0m\n\u001b[1;32m   2548\u001b[0m         \u001b[0;31m# RST table and inserts at the end of the docstring.  DO NOT REMOVE.\u001b[0m\u001b[0;34m\u001b[0m\u001b[0;34m\u001b[0m\u001b[0;34m\u001b[0m\u001b[0m\n\u001b[1;32m   2549\u001b[0m \u001b[0;34m\u001b[0m\u001b[0m\n\u001b[0;32m-> 2550\u001b[0;31m         \u001b[0mout\u001b[0m \u001b[0;34m=\u001b[0m \u001b[0mio_registry\u001b[0m\u001b[0;34m.\u001b[0m\u001b[0mread\u001b[0m\u001b[0;34m(\u001b[0m\u001b[0mcls\u001b[0m\u001b[0;34m,\u001b[0m \u001b[0;34m*\u001b[0m\u001b[0margs\u001b[0m\u001b[0;34m,\u001b[0m \u001b[0;34m**\u001b[0m\u001b[0mkwargs\u001b[0m\u001b[0;34m)\u001b[0m\u001b[0;34m\u001b[0m\u001b[0;34m\u001b[0m\u001b[0m\n\u001b[0m\u001b[1;32m   2551\u001b[0m         \u001b[0;31m# For some readers (e.g., ascii.ecsv), the returned `out` class is not\u001b[0m\u001b[0;34m\u001b[0m\u001b[0;34m\u001b[0m\u001b[0;34m\u001b[0m\u001b[0m\n\u001b[1;32m   2552\u001b[0m         \u001b[0;31m# guaranteed to be the same as the desired output `cls`.  If so,\u001b[0m\u001b[0;34m\u001b[0m\u001b[0;34m\u001b[0m\u001b[0;34m\u001b[0m\u001b[0m\n",
      "\u001b[0;32m~/anaconda3/lib/python3.6/site-packages/astropy/io/registry.py\u001b[0m in \u001b[0;36mread\u001b[0;34m(cls, format, *args, **kwargs)\u001b[0m\n\u001b[1;32m    500\u001b[0m                     \u001b[0;32mtry\u001b[0m\u001b[0;34m:\u001b[0m\u001b[0;34m\u001b[0m\u001b[0;34m\u001b[0m\u001b[0m\n\u001b[1;32m    501\u001b[0m                         \u001b[0mctx\u001b[0m \u001b[0;34m=\u001b[0m \u001b[0mget_readable_fileobj\u001b[0m\u001b[0;34m(\u001b[0m\u001b[0margs\u001b[0m\u001b[0;34m[\u001b[0m\u001b[0;36m0\u001b[0m\u001b[0;34m]\u001b[0m\u001b[0;34m,\u001b[0m \u001b[0mencoding\u001b[0m\u001b[0;34m=\u001b[0m\u001b[0;34m'binary'\u001b[0m\u001b[0;34m)\u001b[0m\u001b[0;34m\u001b[0m\u001b[0;34m\u001b[0m\u001b[0m\n\u001b[0;32m--> 502\u001b[0;31m                         \u001b[0mfileobj\u001b[0m \u001b[0;34m=\u001b[0m \u001b[0mctx\u001b[0m\u001b[0;34m.\u001b[0m\u001b[0m__enter__\u001b[0m\u001b[0;34m(\u001b[0m\u001b[0;34m)\u001b[0m\u001b[0;34m\u001b[0m\u001b[0;34m\u001b[0m\u001b[0m\n\u001b[0m\u001b[1;32m    503\u001b[0m                     \u001b[0;32mexcept\u001b[0m \u001b[0mOSError\u001b[0m\u001b[0;34m:\u001b[0m\u001b[0;34m\u001b[0m\u001b[0;34m\u001b[0m\u001b[0m\n\u001b[1;32m    504\u001b[0m                         \u001b[0;32mraise\u001b[0m\u001b[0;34m\u001b[0m\u001b[0;34m\u001b[0m\u001b[0m\n",
      "\u001b[0;32m~/anaconda3/lib/python3.6/contextlib.py\u001b[0m in \u001b[0;36m__enter__\u001b[0;34m(self)\u001b[0m\n\u001b[1;32m     79\u001b[0m     \u001b[0;32mdef\u001b[0m \u001b[0m__enter__\u001b[0m\u001b[0;34m(\u001b[0m\u001b[0mself\u001b[0m\u001b[0;34m)\u001b[0m\u001b[0;34m:\u001b[0m\u001b[0;34m\u001b[0m\u001b[0;34m\u001b[0m\u001b[0m\n\u001b[1;32m     80\u001b[0m         \u001b[0;32mtry\u001b[0m\u001b[0;34m:\u001b[0m\u001b[0;34m\u001b[0m\u001b[0;34m\u001b[0m\u001b[0m\n\u001b[0;32m---> 81\u001b[0;31m             \u001b[0;32mreturn\u001b[0m \u001b[0mnext\u001b[0m\u001b[0;34m(\u001b[0m\u001b[0mself\u001b[0m\u001b[0;34m.\u001b[0m\u001b[0mgen\u001b[0m\u001b[0;34m)\u001b[0m\u001b[0;34m\u001b[0m\u001b[0;34m\u001b[0m\u001b[0m\n\u001b[0m\u001b[1;32m     82\u001b[0m         \u001b[0;32mexcept\u001b[0m \u001b[0mStopIteration\u001b[0m\u001b[0;34m:\u001b[0m\u001b[0;34m\u001b[0m\u001b[0;34m\u001b[0m\u001b[0m\n\u001b[1;32m     83\u001b[0m             \u001b[0;32mraise\u001b[0m \u001b[0mRuntimeError\u001b[0m\u001b[0;34m(\u001b[0m\u001b[0;34m\"generator didn't yield\"\u001b[0m\u001b[0;34m)\u001b[0m \u001b[0;32mfrom\u001b[0m \u001b[0;32mNone\u001b[0m\u001b[0;34m\u001b[0m\u001b[0;34m\u001b[0m\u001b[0m\n",
      "\u001b[0;32m~/anaconda3/lib/python3.6/site-packages/astropy/utils/data.py\u001b[0m in \u001b[0;36mget_readable_fileobj\u001b[0;34m(name_or_obj, encoding, cache, show_progress, remote_timeout)\u001b[0m\n\u001b[1;32m    191\u001b[0m                 \u001b[0mname_or_obj\u001b[0m\u001b[0;34m,\u001b[0m \u001b[0mcache\u001b[0m\u001b[0;34m=\u001b[0m\u001b[0mcache\u001b[0m\u001b[0;34m,\u001b[0m \u001b[0mshow_progress\u001b[0m\u001b[0;34m=\u001b[0m\u001b[0mshow_progress\u001b[0m\u001b[0;34m,\u001b[0m\u001b[0;34m\u001b[0m\u001b[0;34m\u001b[0m\u001b[0m\n\u001b[1;32m    192\u001b[0m                 timeout=remote_timeout)\n\u001b[0;32m--> 193\u001b[0;31m         \u001b[0mfileobj\u001b[0m \u001b[0;34m=\u001b[0m \u001b[0mio\u001b[0m\u001b[0;34m.\u001b[0m\u001b[0mFileIO\u001b[0m\u001b[0;34m(\u001b[0m\u001b[0mname_or_obj\u001b[0m\u001b[0;34m,\u001b[0m \u001b[0;34m'r'\u001b[0m\u001b[0;34m)\u001b[0m\u001b[0;34m\u001b[0m\u001b[0;34m\u001b[0m\u001b[0m\n\u001b[0m\u001b[1;32m    194\u001b[0m         \u001b[0;32mif\u001b[0m \u001b[0mis_url\u001b[0m \u001b[0;32mand\u001b[0m \u001b[0;32mnot\u001b[0m \u001b[0mcache\u001b[0m\u001b[0;34m:\u001b[0m\u001b[0;34m\u001b[0m\u001b[0;34m\u001b[0m\u001b[0m\n\u001b[1;32m    195\u001b[0m             \u001b[0mdelete_fds\u001b[0m\u001b[0;34m.\u001b[0m\u001b[0mappend\u001b[0m\u001b[0;34m(\u001b[0m\u001b[0mfileobj\u001b[0m\u001b[0;34m)\u001b[0m\u001b[0;34m\u001b[0m\u001b[0;34m\u001b[0m\u001b[0m\n",
      "\u001b[0;31mFileNotFoundError\u001b[0m: [Errno 2] No such file or directory: './data/GAMA-15_PACSxID24_v1.fits'"
     ]
    }
   ],
   "source": [
    "PACScat=Table.read('./data/GAMA-15_PACSxID24_v1.fits')"
   ]
  },
  {
   "cell_type": "code",
   "execution_count": 31,
   "metadata": {},
   "outputs": [
    {
     "ename": "NameError",
     "evalue": "name 'PACScat' is not defined",
     "output_type": "error",
     "traceback": [
      "\u001b[0;31m---------------------------------------------------------------------------\u001b[0m",
      "\u001b[0;31mNameError\u001b[0m                                 Traceback (most recent call last)",
      "\u001b[0;32m<ipython-input-31-c5b280bad8ff>\u001b[0m in \u001b[0;36m<module>\u001b[0;34m\u001b[0m\n\u001b[0;32m----> 1\u001b[0;31m \u001b[0mPACScat\u001b[0m\u001b[0;34m[\u001b[0m\u001b[0;34m'HELP_ID'\u001b[0m\u001b[0;34m]\u001b[0m\u001b[0;34m\u001b[0m\u001b[0;34m\u001b[0m\u001b[0m\n\u001b[0m",
      "\u001b[0;31mNameError\u001b[0m: name 'PACScat' is not defined"
     ]
    }
   ],
   "source": [
    "PACScat['HELP_ID']"
   ]
  },
  {
   "cell_type": "code",
   "execution_count": 32,
   "metadata": {},
   "outputs": [
    {
     "ename": "NameError",
     "evalue": "name 'PACScat' is not defined",
     "output_type": "error",
     "traceback": [
      "\u001b[0;31m---------------------------------------------------------------------------\u001b[0m",
      "\u001b[0;31mNameError\u001b[0m                                 Traceback (most recent call last)",
      "\u001b[0;32m<ipython-input-32-f66b601ff7a2>\u001b[0m in \u001b[0;36m<module>\u001b[0;34m\u001b[0m\n\u001b[0;32m----> 1\u001b[0;31m \u001b[0mPACScat\u001b[0m\u001b[0;34m[\u001b[0m\u001b[0mPACScat\u001b[0m\u001b[0;34m[\u001b[0m\u001b[0;34m'HELP_ID'\u001b[0m\u001b[0;34m]\u001b[0m\u001b[0;34m==\u001b[0m\u001b[0;34m'GAMA15-PACSxID24-1-69605'\u001b[0m\u001b[0;34m]\u001b[0m\u001b[0;34m\u001b[0m\u001b[0;34m\u001b[0m\u001b[0m\n\u001b[0m",
      "\u001b[0;31mNameError\u001b[0m: name 'PACScat' is not defined"
     ]
    }
   ],
   "source": [
    "PACScat[PACScat['HELP_ID']=='GAMA15-PACSxID24-1-69605']"
   ]
  },
  {
   "cell_type": "code",
   "execution_count": 33,
   "metadata": {},
   "outputs": [
    {
     "name": "stdout",
     "output_type": "stream",
     "text": [
      "Max PSF = 63.9919 Jy/sr, off pixel Max PSF = 60.9418 Jy/sr\n"
     ]
    }
   ],
   "source": [
    "cpix=np.int((hd['NAXIS1']+1)/2.0)\n",
    "\n",
    "print(\"Max PSF = {:.4f} Jy/sr, off pixel Max PSF = {:.4f} Jy/sr\".format(psfok[cpix-1,cpix-1]*0.027,psfok[cpix-2,cpix-2]*0.027))"
   ]
  },
  {
   "cell_type": "code",
   "execution_count": 34,
   "metadata": {},
   "outputs": [
    {
     "name": "stderr",
     "output_type": "stream",
     "text": [
      "/home/mc741/anaconda3/lib/python3.6/site-packages/mpl_toolkits/axes_grid/__init__.py:12: MatplotlibDeprecationWarning: \n",
      "The mpl_toolkits.axes_grid module was deprecated in Matplotlib 2.1 and will be removed two minor releases later. Use mpl_toolkits.axes_grid1 and mpl_toolkits.axisartist, which provide the same functionality instead.\n",
      "  obj_type='module')\n"
     ]
    },
    {
     "ename": "OSError",
     "evalue": "File not found: ./data/input_data/GAMA15_PACS100_v0.9.fits",
     "output_type": "error",
     "traceback": [
      "\u001b[0;31m---------------------------------------------------------------------------\u001b[0m",
      "\u001b[0;31mOSError\u001b[0m                                   Traceback (most recent call last)",
      "\u001b[0;32m<ipython-input-34-49665d0bce64>\u001b[0m in \u001b[0;36m<module>\u001b[0;34m\u001b[0m\n\u001b[1;32m      3\u001b[0m \u001b[0msns\u001b[0m\u001b[0;34m.\u001b[0m\u001b[0mset_style\u001b[0m\u001b[0;34m(\u001b[0m\u001b[0;34m\"white\"\u001b[0m\u001b[0;34m)\u001b[0m\u001b[0;34m\u001b[0m\u001b[0;34m\u001b[0m\u001b[0m\n\u001b[1;32m      4\u001b[0m \u001b[0mcmap\u001b[0m\u001b[0;34m=\u001b[0m\u001b[0msns\u001b[0m\u001b[0;34m.\u001b[0m\u001b[0mcubehelix_palette\u001b[0m\u001b[0;34m(\u001b[0m\u001b[0;36m8\u001b[0m\u001b[0;34m,\u001b[0m \u001b[0mstart\u001b[0m\u001b[0;34m=\u001b[0m\u001b[0;36m.5\u001b[0m\u001b[0;34m,\u001b[0m \u001b[0mrot\u001b[0m\u001b[0;34m=\u001b[0m\u001b[0;34m-\u001b[0m\u001b[0;36m.75\u001b[0m\u001b[0;34m,\u001b[0m\u001b[0mas_cmap\u001b[0m\u001b[0;34m=\u001b[0m\u001b[0;32mTrue\u001b[0m\u001b[0;34m)\u001b[0m\u001b[0;34m\u001b[0m\u001b[0;34m\u001b[0m\u001b[0m\n\u001b[0;32m----> 5\u001b[0;31m \u001b[0mfig\u001b[0m\u001b[0;34m=\u001b[0m\u001b[0maplpy\u001b[0m\u001b[0;34m.\u001b[0m\u001b[0mFITSFigure\u001b[0m\u001b[0;34m(\u001b[0m\u001b[0;34m'./data/input_data/GAMA15_PACS100_v0.9.fits'\u001b[0m\u001b[0;34m)\u001b[0m\u001b[0;34m\u001b[0m\u001b[0;34m\u001b[0m\u001b[0m\n\u001b[0m\u001b[1;32m      6\u001b[0m \u001b[0mfig\u001b[0m\u001b[0;34m.\u001b[0m\u001b[0mrecenter\u001b[0m\u001b[0;34m(\u001b[0m\u001b[0mPACScat\u001b[0m\u001b[0;34m[\u001b[0m\u001b[0mPACScat\u001b[0m\u001b[0;34m[\u001b[0m\u001b[0;34m'HELP_ID'\u001b[0m\u001b[0;34m]\u001b[0m\u001b[0;34m==\u001b[0m\u001b[0;34m'GAMA15-PACSxID24-1-69605'\u001b[0m\u001b[0;34m]\u001b[0m\u001b[0;34m[\u001b[0m\u001b[0;34m'RA'\u001b[0m\u001b[0;34m]\u001b[0m\u001b[0;34m,\u001b[0m\u001b[0mPACScat\u001b[0m\u001b[0;34m[\u001b[0m\u001b[0mPACScat\u001b[0m\u001b[0;34m[\u001b[0m\u001b[0;34m'HELP_ID'\u001b[0m\u001b[0;34m]\u001b[0m\u001b[0;34m==\u001b[0m\u001b[0;34m'GAMA15-PACSxID24-1-69605'\u001b[0m\u001b[0;34m]\u001b[0m\u001b[0;34m[\u001b[0m\u001b[0;34m'Dec'\u001b[0m\u001b[0;34m]\u001b[0m\u001b[0;34m,\u001b[0m \u001b[0mradius\u001b[0m\u001b[0;34m=\u001b[0m\u001b[0;36m0.004\u001b[0m\u001b[0;34m)\u001b[0m\u001b[0;34m\u001b[0m\u001b[0;34m\u001b[0m\u001b[0m\n\u001b[1;32m      7\u001b[0m \u001b[0mfig\u001b[0m\u001b[0;34m.\u001b[0m\u001b[0mshow_colorscale\u001b[0m\u001b[0;34m(\u001b[0m\u001b[0mvmin\u001b[0m\u001b[0;34m=\u001b[0m\u001b[0;36m0.0\u001b[0m\u001b[0;34m,\u001b[0m\u001b[0mvmax\u001b[0m\u001b[0;34m=\u001b[0m\u001b[0;36m1\u001b[0m\u001b[0;34m,\u001b[0m\u001b[0mcmap\u001b[0m\u001b[0;34m=\u001b[0m\u001b[0mcmap\u001b[0m\u001b[0;34m)\u001b[0m\u001b[0;34m\u001b[0m\u001b[0;34m\u001b[0m\u001b[0m\n",
      "\u001b[0;32m~/anaconda3/lib/python3.6/site-packages/aplpy/core.py\u001b[0m in \u001b[0;36m__init__\u001b[0;34m(self, data, hdu, figure, subplot, downsample, north, convention, dimensions, slices, auto_refresh, **kwargs)\u001b[0m\n",
      "\u001b[0;32m~/anaconda3/lib/python3.6/site-packages/aplpy/decorators.py\u001b[0m in \u001b[0;36m_auto_refresh\u001b[0;34m(f, *args, **kwargs)\u001b[0m\n\u001b[1;32m     23\u001b[0m     \u001b[0mmydata\u001b[0m\u001b[0;34m.\u001b[0m\u001b[0mnesting\u001b[0m \u001b[0;34m=\u001b[0m \u001b[0mgetattr\u001b[0m\u001b[0;34m(\u001b[0m\u001b[0mmydata\u001b[0m\u001b[0;34m,\u001b[0m \u001b[0;34m'nesting'\u001b[0m\u001b[0;34m,\u001b[0m \u001b[0;36m0\u001b[0m\u001b[0;34m)\u001b[0m \u001b[0;34m+\u001b[0m \u001b[0;36m1\u001b[0m\u001b[0;34m\u001b[0m\u001b[0;34m\u001b[0m\u001b[0m\n\u001b[1;32m     24\u001b[0m     \u001b[0;32mtry\u001b[0m\u001b[0;34m:\u001b[0m\u001b[0;34m\u001b[0m\u001b[0;34m\u001b[0m\u001b[0m\n\u001b[0;32m---> 25\u001b[0;31m         \u001b[0;32mreturn\u001b[0m \u001b[0mf\u001b[0m\u001b[0;34m(\u001b[0m\u001b[0;34m*\u001b[0m\u001b[0margs\u001b[0m\u001b[0;34m,\u001b[0m \u001b[0;34m**\u001b[0m\u001b[0mkwargs\u001b[0m\u001b[0;34m)\u001b[0m\u001b[0;34m\u001b[0m\u001b[0;34m\u001b[0m\u001b[0m\n\u001b[0m\u001b[1;32m     26\u001b[0m     \u001b[0;32mfinally\u001b[0m\u001b[0;34m:\u001b[0m\u001b[0;34m\u001b[0m\u001b[0;34m\u001b[0m\u001b[0m\n\u001b[1;32m     27\u001b[0m         \u001b[0mmydata\u001b[0m\u001b[0;34m.\u001b[0m\u001b[0mnesting\u001b[0m \u001b[0;34m-=\u001b[0m \u001b[0;36m1\u001b[0m\u001b[0;34m\u001b[0m\u001b[0;34m\u001b[0m\u001b[0m\n",
      "\u001b[0;32m~/anaconda3/lib/python3.6/site-packages/aplpy/core.py\u001b[0m in \u001b[0;36m__init__\u001b[0;34m(self, data, hdu, figure, subplot, downsample, north, convention, dimensions, slices, auto_refresh, **kwargs)\u001b[0m\n\u001b[1;32m    215\u001b[0m         \u001b[0;32melse\u001b[0m\u001b[0;34m:\u001b[0m\u001b[0;34m\u001b[0m\u001b[0;34m\u001b[0m\u001b[0m\n\u001b[1;32m    216\u001b[0m             self._data, self._header, self._wcs = self._get_hdu(data, hdu, north, \\\n\u001b[0;32m--> 217\u001b[0;31m                 convention=convention, dimensions=dimensions, slices=slices)\n\u001b[0m\u001b[1;32m    218\u001b[0m             \u001b[0mself\u001b[0m\u001b[0;34m.\u001b[0m\u001b[0m_wcs\u001b[0m\u001b[0;34m.\u001b[0m\u001b[0mnx\u001b[0m \u001b[0;34m=\u001b[0m \u001b[0mself\u001b[0m\u001b[0;34m.\u001b[0m\u001b[0m_header\u001b[0m\u001b[0;34m[\u001b[0m\u001b[0;34m'NAXIS%i'\u001b[0m \u001b[0;34m%\u001b[0m \u001b[0;34m(\u001b[0m\u001b[0mdimensions\u001b[0m\u001b[0;34m[\u001b[0m\u001b[0;36m0\u001b[0m\u001b[0;34m]\u001b[0m \u001b[0;34m+\u001b[0m \u001b[0;36m1\u001b[0m\u001b[0;34m)\u001b[0m\u001b[0;34m]\u001b[0m\u001b[0;34m\u001b[0m\u001b[0;34m\u001b[0m\u001b[0m\n\u001b[1;32m    219\u001b[0m             \u001b[0mself\u001b[0m\u001b[0;34m.\u001b[0m\u001b[0m_wcs\u001b[0m\u001b[0;34m.\u001b[0m\u001b[0mny\u001b[0m \u001b[0;34m=\u001b[0m \u001b[0mself\u001b[0m\u001b[0;34m.\u001b[0m\u001b[0m_header\u001b[0m\u001b[0;34m[\u001b[0m\u001b[0;34m'NAXIS%i'\u001b[0m \u001b[0;34m%\u001b[0m \u001b[0;34m(\u001b[0m\u001b[0mdimensions\u001b[0m\u001b[0;34m[\u001b[0m\u001b[0;36m1\u001b[0m\u001b[0;34m]\u001b[0m \u001b[0;34m+\u001b[0m \u001b[0;36m1\u001b[0m\u001b[0;34m)\u001b[0m\u001b[0;34m]\u001b[0m\u001b[0;34m\u001b[0m\u001b[0;34m\u001b[0m\u001b[0m\n",
      "\u001b[0;32m~/anaconda3/lib/python3.6/site-packages/aplpy/core.py\u001b[0m in \u001b[0;36m_get_hdu\u001b[0;34m(self, data, hdu, north, convention, dimensions, slices)\u001b[0m\n\u001b[1;32m    297\u001b[0m             \u001b[0;31m# Check file exists\u001b[0m\u001b[0;34m\u001b[0m\u001b[0;34m\u001b[0m\u001b[0;34m\u001b[0m\u001b[0m\n\u001b[1;32m    298\u001b[0m             \u001b[0;32mif\u001b[0m \u001b[0;32mnot\u001b[0m \u001b[0mos\u001b[0m\u001b[0;34m.\u001b[0m\u001b[0mpath\u001b[0m\u001b[0;34m.\u001b[0m\u001b[0mexists\u001b[0m\u001b[0;34m(\u001b[0m\u001b[0mfilename\u001b[0m\u001b[0;34m)\u001b[0m\u001b[0;34m:\u001b[0m\u001b[0;34m\u001b[0m\u001b[0;34m\u001b[0m\u001b[0m\n\u001b[0;32m--> 299\u001b[0;31m                 \u001b[0;32mraise\u001b[0m \u001b[0mIOError\u001b[0m\u001b[0;34m(\u001b[0m\u001b[0;34m\"File not found: \"\u001b[0m \u001b[0;34m+\u001b[0m \u001b[0mfilename\u001b[0m\u001b[0;34m)\u001b[0m\u001b[0;34m\u001b[0m\u001b[0;34m\u001b[0m\u001b[0m\n\u001b[0m\u001b[1;32m    300\u001b[0m \u001b[0;34m\u001b[0m\u001b[0m\n\u001b[1;32m    301\u001b[0m             \u001b[0;31m# Read in FITS file\u001b[0m\u001b[0;34m\u001b[0m\u001b[0;34m\u001b[0m\u001b[0;34m\u001b[0m\u001b[0m\n",
      "\u001b[0;31mOSError\u001b[0m: File not found: ./data/input_data/GAMA15_PACS100_v0.9.fits"
     ]
    }
   ],
   "source": [
    "import aplpy\n",
    "import seaborn as sns\n",
    "sns.set_style(\"white\")\n",
    "cmap=sns.cubehelix_palette(8, start=.5, rot=-.75,as_cmap=True)\n",
    "fig=aplpy.FITSFigure('./data/input_data/GAMA15_PACS100_v0.9.fits')\n",
    "fig.recenter(PACScat[PACScat['HELP_ID']=='GAMA15-PACSxID24-1-69605']['RA'],PACScat[PACScat['HELP_ID']=='GAMA15-PACSxID24-1-69605']['Dec'], radius=0.004)\n",
    "fig.show_colorscale(vmin=0.0,vmax=1,cmap=cmap)\n",
    "fig.add_colorbar()\n",
    "fig.colorbar.set_location('top')"
   ]
  },
  {
   "cell_type": "markdown",
   "metadata": {},
   "source": [
    "In summary, the PSF is within 10% of this source, and given noise and shape of source will add additional uncertianty, as well as non-zero background, this seems reasonable.\n"
   ]
  },
  {
   "cell_type": "code",
   "execution_count": 35,
   "metadata": {},
   "outputs": [
    {
     "data": {
      "text/plain": [
       "<matplotlib.colorbar.Colorbar at 0x7fd82c3354a8>"
      ]
     },
     "execution_count": 35,
     "metadata": {},
     "output_type": "execute_result"
    },
    {
     "data": {
      "image/png": "[encoded data removed]",
      "text/plain": [
       "<Figure size 432x288 with 2 Axes>"
      ]
     },
     "metadata": {},
     "output_type": "display_data"
    }
   ],
   "source": [
    "rad=1\n",
    "plt.imshow(psfok[cpix-1-rad:cpix+rad:5,cpix-1-rad:cpix+rad:5]*0.358,vmin=0.0,vmax=0.08 ,cmap=cmap)\n",
    "plt.colorbar()"
   ]
  },
  {
   "cell_type": "markdown",
   "metadata": {},
   "source": [
    "## Create PSF fits file¶\n"
   ]
  },
  {
   "cell_type": "code",
   "execution_count": null,
   "metadata": {},
   "outputs": [],
   "source": []
  },
  {
   "cell_type": "code",
   "execution_count": 36,
   "metadata": {},
   "outputs": [],
   "source": [
    "stackhd[0].data=psfok\n",
    "stackhd.writeto('./data/dmu18_PACS_100_PSF_GAMA15_20190301sr.fits',output_verify='fix+warn', overwrite=True)"
   ]
  },
  {
   "cell_type": "code",
   "execution_count": 37,
   "metadata": {},
   "outputs": [
    {
     "data": {
      "text/plain": [
       "2481.2108897751496"
      ]
     },
     "execution_count": 37,
     "metadata": {},
     "output_type": "execute_result"
    }
   ],
   "source": [
    "np.max(psfok)"
   ]
  },
  {
   "cell_type": "code",
   "execution_count": 41,
   "metadata": {},
   "outputs": [
    {
     "data": {
      "image/png": "[encoded data removed]",
      "text/plain": [
       "<Figure size 432x288 with 1 Axes>"
      ]
     },
     "metadata": {},
     "output_type": "display_data"
    }
   ],
   "source": [
    "#plt.hist(psfok.flatten(),bins=np.arange(-0.01,0.05,0.0005));\n",
    "#plt.yscale('log')"
   ]
  },
  {
   "cell_type": "code",
   "execution_count": 43,
   "metadata": {},
   "outputs": [
    {
     "data": {
      "image/png": "[encoded data removed]",
      "text/plain": [
       "<Figure size 432x288 with 1 Axes>"
      ]
     },
     "metadata": {},
     "output_type": "display_data"
    }
   ],
   "source": [
    "plt.hist(psfok.flatten(),bins=np.arange(2200,2300,1));\n",
    "plt.yscale('log')"
   ]
  },
  {
   "cell_type": "code",
   "execution_count": 44,
   "metadata": {},
   "outputs": [
    {
     "data": {
      "text/plain": [
       "484"
      ]
     },
     "execution_count": 44,
     "metadata": {},
     "output_type": "execute_result"
    }
   ],
   "source": [
    "len(psfok.flatten())"
   ]
  },
  {
   "cell_type": "code",
   "execution_count": 45,
   "metadata": {},
   "outputs": [
    {
     "data": {
      "text/plain": [
       "1.0"
      ]
     },
     "execution_count": 45,
     "metadata": {},
     "output_type": "execute_result"
    }
   ],
   "source": [
    "np.mean(~np.isnan(psf))"
   ]
  },
  {
   "cell_type": "code",
   "execution_count": null,
   "metadata": {},
   "outputs": [],
   "source": []
  }
 ],
 "metadata": {
  "kernelspec": {
   "display_name": "Python (herschelhelp_internal)",
   "language": "python",
   "name": "helpint"
  },
  "language_info": {
   "codemirror_mode": {
    "name": "ipython",
    "version": 3
   },
   "file_extension": ".py",
   "mimetype": "text/x-python",
   "name": "python",
   "nbconvert_exporter": "python",
   "pygments_lexer": "ipython3",
   "version": "3.6.8"
  }
 },
 "nbformat": 4,
 "nbformat_minor": 2
}
