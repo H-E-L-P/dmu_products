{
 "cells": [
  {
   "cell_type": "markdown",
   "metadata": {},
   "source": [
    "# Herschel Stripe 82 IRAC merging\n",
    "\n",
    "Both SHELA and SpIES provide IRAC fluxes which have marginally overlapping coverage. We chose which to use here since in order to run in low memory mode we must have one catalogue per band before merging"
   ]
  },
  {
   "cell_type": "code",
   "execution_count": 1,
   "metadata": {},
   "outputs": [
    {
     "name": "stdout",
     "output_type": "stream",
     "text": [
      "This notebook was run with herschelhelp_internal version: \n",
      "33f5ec7 (Wed Dec 6 16:56:17 2017 +0000)\n"
     ]
    }
   ],
   "source": [
    "from herschelhelp_internal import git_version\n",
    "print(\"This notebook was run with herschelhelp_internal version: \\n{}\".format(git_version()))"
   ]
  },
  {
   "cell_type": "code",
   "execution_count": 2,
   "metadata": {
    "collapsed": true
   },
   "outputs": [],
   "source": [
    "%matplotlib inline\n",
    "#%config InlineBackend.figure_format = 'svg'\n",
    "\n",
    "import matplotlib.pyplot as plt\n",
    "plt.rc('figure', figsize=(10, 6))\n",
    "\n",
    "import os\n",
    "import time\n",
    "\n",
    "from astropy import units as u\n",
    "from astropy.coordinates import SkyCoord\n",
    "from astropy.table import Column, Table\n",
    "import numpy as np\n",
    "from pymoc import MOC\n",
    "\n",
    "from herschelhelp_internal.masterlist import merge_catalogues, nb_merge_dist_plot\n",
    "from herschelhelp_internal.utils import coords_to_hpidx, ebv, gen_help_id, inMoc"
   ]
  },
  {
   "cell_type": "code",
   "execution_count": 3,
   "metadata": {
    "collapsed": true
   },
   "outputs": [],
   "source": [
    "TMP_DIR = os.environ.get('TMP_DIR', \"./data_tmp\")\n",
    "OUT_DIR = os.environ.get('OUT_DIR', \"./data\")\n",
    "SUFFIX = os.environ.get('SUFFIX', time.strftime(\"_%Y%m%d\"))\n",
    "\n",
    "try:\n",
    "    os.makedirs(OUT_DIR)\n",
    "except FileExistsError:\n",
    "    pass"
   ]
  },
  {
   "cell_type": "markdown",
   "metadata": {},
   "source": [
    "## I - Reading the prepared pristine catalogues"
   ]
  },
  {
   "cell_type": "code",
   "execution_count": 4,
   "metadata": {
    "collapsed": true
   },
   "outputs": [],
   "source": [
    "shela = Table.read(\"{}/SHELA.fits\".format(TMP_DIR))\n",
    "spies= Table.read(\"{}/SpIES.fits\".format(TMP_DIR))"
   ]
  },
  {
   "cell_type": "markdown",
   "metadata": {},
   "source": [
    "## II - Merging tables\n",
    "\n",
    "We first merge the optical catalogues and then add the infrared ones: HSC, VHS, VICS82, UKIDSS-LAS, PanSTARRS, SHELA, SpIES.\n",
    "\n",
    "At every step, we look at the distribution of the distances separating the sources from one catalogue to the other (within a maximum radius) to determine the best cross-matching radius."
   ]
  },
  {
   "cell_type": "markdown",
   "metadata": {},
   "source": [
    "### SHELA"
   ]
  },
  {
   "cell_type": "code",
   "execution_count": 5,
   "metadata": {
    "collapsed": true
   },
   "outputs": [],
   "source": [
    "master_catalogue = shela\n",
    "master_catalogue['shela_ra'].name = 'ra'\n",
    "master_catalogue['shela_dec'].name = 'dec'\n"
   ]
  },
  {
   "cell_type": "markdown",
   "metadata": {},
   "source": [
    "## Add SpIES"
   ]
  },
  {
   "cell_type": "code",
   "execution_count": 6,
   "metadata": {
    "scrolled": true
   },
   "outputs": [
    {
     "data": {
      "image/png": "[encoded data removed]",
      "text/plain": [
       "<matplotlib.figure.Figure at 0x7f8f157c4c18>"
      ]
     },
     "metadata": {},
     "output_type": "display_data"
    }
   ],
   "source": [
    "nb_merge_dist_plot(\n",
    "    SkyCoord(master_catalogue['ra'], master_catalogue['dec']),\n",
    "    SkyCoord(spies['spies_ra'], spies['spies_dec'])\n",
    ")"
   ]
  },
  {
   "cell_type": "code",
   "execution_count": 7,
   "metadata": {
    "collapsed": true
   },
   "outputs": [],
   "source": [
    "# Given the graph above, we use 1 arc-second radius\n",
    "master_catalogue = merge_catalogues(master_catalogue, spies, \"spies_ra\", \"spies_dec\", radius=1.5*u.arcsec)\n",
    "del spies"
   ]
  },
  {
   "cell_type": "markdown",
   "metadata": {},
   "source": [
    "### Cleaning\n",
    "\n",
    "When we merge the catalogues, astropy masks the non-existent values (e.g. when a row comes only from a catalogue and has no counterparts in the other, the columns from the latest are masked for that row). We indicate to use NaN for masked values for floats columns, False for flag columns and -1 for ID columns."
   ]
  },
  {
   "cell_type": "code",
   "execution_count": 8,
   "metadata": {
    "collapsed": true
   },
   "outputs": [],
   "source": [
    "for col in master_catalogue.colnames:\n",
    "    if \"m_\" in col or \"merr_\" in col or \"f_\" in col or \"ferr_\" in col or \"stellarity\" in col:\n",
    "        master_catalogue[col].fill_value = np.nan\n",
    "    elif \"flag\" in col:\n",
    "        master_catalogue[col].fill_value = 0\n",
    "    elif \"id\" in col:\n",
    "        master_catalogue[col].fill_value = -1\n",
    "        \n",
    "master_catalogue = master_catalogue.filled()"
   ]
  },
  {
   "cell_type": "code",
   "execution_count": 9,
   "metadata": {},
   "outputs": [
    {
     "data": {
      "text/html": [
       "&lt;Table length=10&gt;\n",
       "<table id=\"table140253140630664-338052\" class=\"table-striped table-bordered table-condensed\">\n",
       "<thead><tr><th>idx</th><th>shela_intid</th><th>ra</th><th>dec</th><th>f_shela_irac1</th><th>ferr_shela_irac1</th><th>f_ap_shela_irac1</th><th>ferr_ap_shela_irac1</th><th>f_shela_irac2</th><th>ferr_shela_irac2</th><th>f_ap_shela_irac2</th><th>ferr_ap_shela_irac2</th><th>m_shela_irac1</th><th>merr_shela_irac1</th><th>flag_shela_irac1</th><th>m_ap_shela_irac1</th><th>merr_ap_shela_irac1</th><th>m_shela_irac2</th><th>merr_shela_irac2</th><th>flag_shela_irac2</th><th>m_ap_shela_irac2</th><th>merr_ap_shela_irac2</th><th>shela_flag_cleaned</th><th>shela_flag_gaia</th><th>flag_merged</th><th>spies_intid</th><th>f_ap_spies_irac1</th><th>ferr_ap_spies_irac1</th><th>f_spies_irac1</th><th>ferr_spies_irac1</th><th>spies_stellarity_irac1</th><th>f_ap_spies_irac2</th><th>ferr_ap_spies_irac2</th><th>f_spies_irac2</th><th>ferr_spies_irac2</th><th>spies_stellarity_irac2</th><th>m_ap_spies_irac1</th><th>merr_ap_spies_irac1</th><th>m_spies_irac1</th><th>merr_spies_irac1</th><th>flag_spies_irac1</th><th>m_ap_spies_irac2</th><th>merr_ap_spies_irac2</th><th>m_spies_irac2</th><th>merr_spies_irac2</th><th>flag_spies_irac2</th><th>spies_flag_cleaned</th><th>spies_flag_gaia</th></tr></thead>\n",
       "<thead><tr><th></th><th></th><th>deg</th><th>deg</th><th></th><th></th><th></th><th></th><th></th><th></th><th></th><th></th><th></th><th></th><th></th><th></th><th></th><th></th><th></th><th></th><th></th><th></th><th></th><th></th><th></th><th></th><th></th><th></th><th></th><th></th><th></th><th></th><th></th><th></th><th></th><th></th><th></th><th></th><th></th><th></th><th></th><th></th><th></th><th></th><th></th><th></th><th></th><th></th></tr></thead>\n",
       "<tr><td>0</td><td>1379391</td><td>22.9160109027</td><td>0.238312267292</td><td>2.62986</td><td>2.07571</td><td>-0.0224474</td><td>0.459005</td><td>36.9146</td><td>3.31507</td><td>42.6651</td><td>1.13833</td><td>22.8502</td><td>0.856956</td><td>False</td><td>nan</td><td>-22.2011</td><td>19.982</td><td>0.097503</td><td>False</td><td>19.8248</td><td>0.028968</td><td>False</td><td>0</td><td>False</td><td>-1</td><td>nan</td><td>nan</td><td>nan</td><td>nan</td><td>nan</td><td>nan</td><td>nan</td><td>nan</td><td>nan</td><td>nan</td><td>nan</td><td>nan</td><td>nan</td><td>nan</td><td>False</td><td>nan</td><td>nan</td><td>nan</td><td>nan</td><td>False</td><td>False</td><td>0</td></tr>\n",
       "<tr><td>1</td><td>1433853</td><td>23.6639931364</td><td>0.297376305167</td><td>-1.66275</td><td>nan</td><td>-0.999434</td><td>0.478796</td><td>41.9828</td><td>0.879404</td><td>57.0925</td><td>1.2495</td><td>nan</td><td>nan</td><td>False</td><td>nan</td><td>-0.520141</td><td>19.8423</td><td>0.0227427</td><td>False</td><td>19.5086</td><td>0.023762</td><td>False</td><td>0</td><td>False</td><td>-1</td><td>nan</td><td>nan</td><td>nan</td><td>nan</td><td>nan</td><td>nan</td><td>nan</td><td>nan</td><td>nan</td><td>nan</td><td>nan</td><td>nan</td><td>nan</td><td>nan</td><td>False</td><td>nan</td><td>nan</td><td>nan</td><td>nan</td><td>False</td><td>False</td><td>0</td></tr>\n",
       "<tr><td>2</td><td>1501461</td><td>17.1780743659</td><td>0.371209289855</td><td>0.809025</td><td>1.80919</td><td>-0.367886</td><td>0.480663</td><td>11.0821</td><td>2.47177</td><td>8.7921</td><td>0.76204</td><td>24.1301</td><td>2.42799</td><td>False</td><td>nan</td><td>-1.41857</td><td>21.2885</td><td>0.242165</td><td>False</td><td>21.5398</td><td>0.0941042</td><td>False</td><td>0</td><td>False</td><td>-1</td><td>nan</td><td>nan</td><td>nan</td><td>nan</td><td>nan</td><td>nan</td><td>nan</td><td>nan</td><td>nan</td><td>nan</td><td>nan</td><td>nan</td><td>nan</td><td>nan</td><td>False</td><td>nan</td><td>nan</td><td>nan</td><td>nan</td><td>False</td><td>False</td><td>0</td></tr>\n",
       "<tr><td>3</td><td>2041910</td><td>18.0883776053</td><td>0.955992888107</td><td>1.32359</td><td>0.404158</td><td>1.53133</td><td>0.48068</td><td>2.93804</td><td>0.634261</td><td>4.19599</td><td>0.76519</td><td>23.5956</td><td>0.331529</td><td>False</td><td>23.4373</td><td>0.340809</td><td>22.7299</td><td>0.234388</td><td>False</td><td>22.3429</td><td>0.197997</td><td>False</td><td>0</td><td>False</td><td>-1</td><td>nan</td><td>nan</td><td>nan</td><td>nan</td><td>nan</td><td>nan</td><td>nan</td><td>nan</td><td>nan</td><td>nan</td><td>nan</td><td>nan</td><td>nan</td><td>nan</td><td>False</td><td>nan</td><td>nan</td><td>nan</td><td>nan</td><td>False</td><td>False</td><td>0</td></tr>\n",
       "<tr><td>4</td><td>2051282</td><td>14.3497873938</td><td>0.961695722436</td><td>0.465728</td><td>0.691827</td><td>1.6928</td><td>0.480812</td><td>2.2341</td><td>0.981212</td><td>1.80439</td><td>0.652208</td><td>24.7297</td><td>1.61283</td><td>False</td><td>23.3285</td><td>0.308385</td><td>23.0272</td><td>0.476854</td><td>False</td><td>23.2592</td><td>0.392445</td><td>False</td><td>0</td><td>False</td><td>-1</td><td>nan</td><td>nan</td><td>nan</td><td>nan</td><td>nan</td><td>nan</td><td>nan</td><td>nan</td><td>nan</td><td>nan</td><td>nan</td><td>nan</td><td>nan</td><td>nan</td><td>False</td><td>nan</td><td>nan</td><td>nan</td><td>nan</td><td>False</td><td>False</td><td>0</td></tr>\n",
       "<tr><td>5</td><td>1497273</td><td>18.7890799452</td><td>0.368352033577</td><td>1.83974</td><td>0.899652</td><td>2.05973</td><td>0.482332</td><td>2.03328</td><td>1.36676</td><td>2.42053</td><td>0.710066</td><td>23.2381</td><td>0.530935</td><td>False</td><td>23.1155</td><td>0.25425</td><td>23.1295</td><td>0.729826</td><td>False</td><td>22.9402</td><td>0.318502</td><td>False</td><td>0</td><td>False</td><td>-1</td><td>nan</td><td>nan</td><td>nan</td><td>nan</td><td>nan</td><td>nan</td><td>nan</td><td>nan</td><td>nan</td><td>nan</td><td>nan</td><td>nan</td><td>nan</td><td>nan</td><td>False</td><td>nan</td><td>nan</td><td>nan</td><td>nan</td><td>False</td><td>False</td><td>0</td></tr>\n",
       "<tr><td>6</td><td>545026</td><td>22.4245506266</td><td>-0.642594144188</td><td>1.70425</td><td>0.915279</td><td>1.75536</td><td>0.485114</td><td>2.86204</td><td>1.23268</td><td>2.4144</td><td>0.64323</td><td>23.3212</td><td>0.583102</td><td>False</td><td>23.2891</td><td>0.300056</td><td>22.7583</td><td>0.467627</td><td>False</td><td>22.943</td><td>0.289256</td><td>False</td><td>0</td><td>False</td><td>-1</td><td>nan</td><td>nan</td><td>nan</td><td>nan</td><td>nan</td><td>nan</td><td>nan</td><td>nan</td><td>nan</td><td>nan</td><td>nan</td><td>nan</td><td>nan</td><td>nan</td><td>False</td><td>nan</td><td>nan</td><td>nan</td><td>nan</td><td>False</td><td>False</td><td>0</td></tr>\n",
       "<tr><td>7</td><td>477159</td><td>22.4517375046</td><td>-0.714030299391</td><td>1.61952</td><td>0.745305</td><td>1.45646</td><td>0.485506</td><td>4.26386</td><td>0.985851</td><td>5.67917</td><td>0.677957</td><td>23.3765</td><td>0.499657</td><td>False</td><td>23.4918</td><td>0.361926</td><td>22.3255</td><td>0.251034</td><td>False</td><td>22.0143</td><td>0.129611</td><td>False</td><td>0</td><td>False</td><td>-1</td><td>nan</td><td>nan</td><td>nan</td><td>nan</td><td>nan</td><td>nan</td><td>nan</td><td>nan</td><td>nan</td><td>nan</td><td>nan</td><td>nan</td><td>nan</td><td>nan</td><td>False</td><td>nan</td><td>nan</td><td>nan</td><td>nan</td><td>False</td><td>False</td><td>0</td></tr>\n",
       "<tr><td>8</td><td>543888</td><td>24.8499402825</td><td>-0.642484862009</td><td>-0.368214</td><td>nan</td><td>-0.790527</td><td>0.486557</td><td>6.09079</td><td>0.334958</td><td>8.4227</td><td>0.788449</td><td>nan</td><td>nan</td><td>False</td><td>nan</td><td>-0.668253</td><td>21.9383</td><td>0.0597091</td><td>False</td><td>21.5864</td><td>0.101636</td><td>False</td><td>0</td><td>False</td><td>-1</td><td>nan</td><td>nan</td><td>nan</td><td>nan</td><td>nan</td><td>nan</td><td>nan</td><td>nan</td><td>nan</td><td>nan</td><td>nan</td><td>nan</td><td>nan</td><td>nan</td><td>False</td><td>nan</td><td>nan</td><td>nan</td><td>nan</td><td>False</td><td>False</td><td>0</td></tr>\n",
       "<tr><td>9</td><td>869586</td><td>24.6311943916</td><td>-0.300427956383</td><td>0.784429</td><td>0.672938</td><td>1.70511</td><td>0.487496</td><td>4.06112</td><td>1.11325</td><td>4.08163</td><td>0.789322</td><td>24.1636</td><td>0.93142</td><td>False</td><td>23.3206</td><td>0.310415</td><td>22.3784</td><td>0.297625</td><td>False</td><td>22.3729</td><td>0.209964</td><td>False</td><td>0</td><td>False</td><td>-1</td><td>nan</td><td>nan</td><td>nan</td><td>nan</td><td>nan</td><td>nan</td><td>nan</td><td>nan</td><td>nan</td><td>nan</td><td>nan</td><td>nan</td><td>nan</td><td>nan</td><td>False</td><td>nan</td><td>nan</td><td>nan</td><td>nan</td><td>False</td><td>False</td><td>0</td></tr>\n",
       "</table><style>table.dataTable {clear: both; width: auto !important; margin: 0 !important;}\n",
       ".dataTables_info, .dataTables_length, .dataTables_filter, .dataTables_paginate{\n",
       "display: inline-block; margin-right: 1em; }\n",
       ".paginate_button { margin-right: 5px; }\n",
       "</style>\n",
       "<script>\n",
       "require.config({paths: {\n",
       "    datatables: 'https://cdn.datatables.net/1.10.12/js/jquery.dataTables.min'\n",
       "}});\n",
       "require([\"datatables\"], function(){\n",
       "    console.log(\"$('#table140253140630664-338052').dataTable()\");\n",
       "    $('#table140253140630664-338052').dataTable({\n",
       "        \"order\": [],\n",
       "        \"iDisplayLength\": 50,\n",
       "        \"aLengthMenu\": [[10, 25, 50, 100, 500, 1000, -1], [10, 25, 50, 100, 500, 1000, 'All']],\n",
       "        \"pagingType\": \"full_numbers\"\n",
       "    });\n",
       "});\n",
       "</script>\n"
      ],
      "text/plain": [
       "<IPython.core.display.HTML object>"
      ]
     },
     "execution_count": 9,
     "metadata": {},
     "output_type": "execute_result"
    }
   ],
   "source": [
    "master_catalogue[:10].show_in_notebook()"
   ]
  },
  {
   "cell_type": "markdown",
   "metadata": {},
   "source": [
    "## III - Merging flags and stellarity\n",
    "\n",
    "Each pristine catalogue contains a flag indicating if the source was associated to a another nearby source that was removed during the cleaning process.  We merge these flags in a single one."
   ]
  },
  {
   "cell_type": "code",
   "execution_count": 10,
   "metadata": {
    "collapsed": true
   },
   "outputs": [],
   "source": [
    "flag_cleaned_columns = [column for column in master_catalogue.colnames\n",
    "                        if 'flag_cleaned' in column]\n",
    "\n",
    "flag_column = np.zeros(len(master_catalogue), dtype=bool)\n",
    "for column in flag_cleaned_columns:\n",
    "    flag_column |= master_catalogue[column]\n",
    "    \n",
    "master_catalogue.add_column(Column(data=flag_column, name=\"irac_flag_cleaned\"))\n",
    "master_catalogue.remove_columns(flag_cleaned_columns)"
   ]
  },
  {
   "cell_type": "markdown",
   "metadata": {},
   "source": [
    "Each pristine catalogue contains a flag indicating the probability of a source being a Gaia object (0: not a Gaia object, 1: possibly, 2: probably, 3: definitely).  We merge these flags taking the highest value."
   ]
  },
  {
   "cell_type": "code",
   "execution_count": 11,
   "metadata": {
    "collapsed": true
   },
   "outputs": [],
   "source": [
    "flag_gaia_columns = [column for column in master_catalogue.colnames\n",
    "                     if 'flag_gaia' in column]\n",
    "\n",
    "master_catalogue.add_column(Column(\n",
    "    data=np.max([master_catalogue[column] for column in flag_gaia_columns], axis=0),\n",
    "    name=\"irac_flag_gaia\"\n",
    "))\n",
    "master_catalogue.remove_columns(flag_gaia_columns)"
   ]
  },
  {
   "cell_type": "markdown",
   "metadata": {},
   "source": [
    "Each prisitine catalogue may contain one or several stellarity columns indicating the probability (0 to 1) of each source being a star.  We merge these columns taking the highest value."
   ]
  },
  {
   "cell_type": "code",
   "execution_count": 12,
   "metadata": {},
   "outputs": [
    {
     "name": "stderr",
     "output_type": "stream",
     "text": [
      "/opt/anaconda3/envs/herschelhelp_internal/lib/python3.6/site-packages/numpy/lib/nanfunctions.py:343: RuntimeWarning: All-NaN slice encountered\n",
      "  warnings.warn(\"All-NaN slice encountered\", RuntimeWarning)\n"
     ]
    }
   ],
   "source": [
    "stellarity_columns = [column for column in master_catalogue.colnames\n",
    "                      if 'stellarity' in column]\n",
    "\n",
    "master_catalogue.add_column(Column(\n",
    "    data=np.nanmax([master_catalogue[column] for column in stellarity_columns], axis=0),\n",
    "    name=\"irac_stellarity\"\n",
    "))\n",
    "master_catalogue.remove_columns(stellarity_columns)"
   ]
  },
  {
   "cell_type": "markdown",
   "metadata": {},
   "source": [
    "## VIII - Cross-identification table\n",
    "\n",
    "We are producing a table associating to each HELP identifier, the identifiers of the sources in the pristine catalogue. This can be used to easily get additional information from them."
   ]
  },
  {
   "cell_type": "code",
   "execution_count": 13,
   "metadata": {
    "collapsed": true
   },
   "outputs": [],
   "source": [
    "master_catalogue.add_column(Column(data=(np.char.array(master_catalogue['shela_intid'].astype(str)) \n",
    "                                    +  np.char.array(master_catalogue['spies_intid'].astype(str) )), \n",
    "                              name=\"irac_intid\"))\n"
   ]
  },
  {
   "cell_type": "code",
   "execution_count": 14,
   "metadata": {},
   "outputs": [
    {
     "name": "stdout",
     "output_type": "stream",
     "text": [
      "['shela_intid', 'spies_intid', 'irac_intid']\n"
     ]
    }
   ],
   "source": [
    "\n",
    "id_names = []\n",
    "for col in master_catalogue.colnames:\n",
    "    if '_id' in col:\n",
    "        id_names += [col]\n",
    "    if '_intid' in col:\n",
    "        id_names += [col]\n",
    "        \n",
    "print(id_names)"
   ]
  },
  {
   "cell_type": "code",
   "execution_count": 15,
   "metadata": {
    "collapsed": true
   },
   "outputs": [],
   "source": [
    "#master_catalogue[id_names].write(\n",
    "#    \"{}/master_list_irac_cross_ident_herschel-stripe-82{}.fits\".format(OUT_DIR, SUFFIX), overwrite=True)\n",
    "\n",
    "#Lets leave the shela and spies ids in so that the final cross ident table is complete\n",
    "#master_catalogue.remove_columns(['shela_intid', 'spies_intid'])"
   ]
  },
  {
   "cell_type": "markdown",
   "metadata": {},
   "source": [
    "## VI - Choosing between multiple values for the same filter\n",
    "\n",
    "Both SHELA and SpIES provide IRAC1 and IRAC2 fluxes. SpIES seems to go deeper and neither apear to suffer from the bright drop off that affects both SERVS and SWIRE."
   ]
  },
  {
   "cell_type": "code",
   "execution_count": 16,
   "metadata": {
    "collapsed": true
   },
   "outputs": [
    {
     "name": "stderr",
     "output_type": "stream",
     "text": [
      "WARNING: UnitsWarning: 'e/count' did not parse as fits unit: At col 0, Unit 'e' not supported by the FITS standard.  [astropy.units.core]\n",
      "WARNING: UnitsWarning: 'image' did not parse as fits unit: At col 0, Unit 'image' not supported by the FITS standard.  [astropy.units.core]\n"
     ]
    }
   ],
   "source": [
    "seip = Table.read(\"../../dmu0/dmu0_SEIP/data/SEIP_Herschel-Stripe-82.fits\")\n",
    "seip_coords = SkyCoord(seip['ra'], seip['dec'])\n",
    "idx, d2d, _ = seip_coords.match_to_catalog_sky(SkyCoord(master_catalogue['ra'], master_catalogue['dec']))\n",
    "mask = d2d <= 2 * u.arcsec"
   ]
  },
  {
   "cell_type": "code",
   "execution_count": 17,
   "metadata": {},
   "outputs": [
    {
     "data": {
      "image/png": "[encoded data removed]",
      "text/plain": [
       "<matplotlib.figure.Figure at 0x7f8f157e06d8>"
      ]
     },
     "metadata": {},
     "output_type": "display_data"
    }
   ],
   "source": [
    "# servs -> shela and swire -> spies\n",
    "fig, ax = plt.subplots()\n",
    "ax.scatter(seip['i1_f_ap1'][mask], master_catalogue[idx[mask]]['f_ap_shela_irac1'], label=\"SHELA\", s=2.)\n",
    "ax.scatter(seip['i1_f_ap1'][mask], master_catalogue[idx[mask]]['f_ap_spies_irac1'], label=\"SpIES\", s=2.)\n",
    "ax.set_xscale('log')\n",
    "ax.set_yscale('log')\n",
    "ax.set_xlabel(\"SEIP flux [μJy]\")\n",
    "ax.set_ylabel(\"SHELA/SpIES flux [μJy]\")\n",
    "ax.set_title(\"IRAC 1\")\n",
    "ax.legend()\n",
    "ax.axvline(2000, color=\"black\", linestyle=\"--\", linewidth=1.)\n",
    "ax.plot(seip['i1_f_ap1'][mask], seip['i1_f_ap1'][mask], linewidth=.1, color=\"black\", alpha=.5);"
   ]
  },
  {
   "cell_type": "code",
   "execution_count": 18,
   "metadata": {},
   "outputs": [
    {
     "data": {
      "image/png": "[encoded data removed]",
      "text/plain": [
       "<matplotlib.figure.Figure at 0x7f8f2e6b8b70>"
      ]
     },
     "metadata": {},
     "output_type": "display_data"
    }
   ],
   "source": [
    "fig, ax = plt.subplots()\n",
    "ax.scatter(seip['i2_f_ap1'][mask], master_catalogue[idx[mask]]['f_ap_shela_irac2'], label=\"SHELA\", s=2.)\n",
    "ax.scatter(seip['i2_f_ap1'][mask], master_catalogue[idx[mask]]['f_ap_spies_irac2'], label=\"SpIES\", s=2.)\n",
    "ax.set_xscale('log')\n",
    "ax.set_yscale('log')\n",
    "ax.set_xlabel(\"SEIP flux [μJy]\")\n",
    "ax.set_ylabel(\"SHELA/SpIES flux [μJy]\")\n",
    "ax.set_title(\"IRAC 2\")\n",
    "ax.legend()\n",
    "ax.axvline(2000, color=\"black\", linestyle=\"--\", linewidth=1.)\n",
    "\n",
    "ax.plot(seip['i1_f_ap2'][mask], seip['i1_f_ap2'][mask], linewidth=.1, color=\"black\", alpha=.5);"
   ]
  },
  {
   "cell_type": "markdown",
   "metadata": {},
   "source": [
    "When both SHELA and SpIES fluxes are provided, we use the SpIES flux.\n",
    "\n",
    "We create a table indicating for each source the origin on the IRAC1 and IRAC2 fluxes that will be saved separately."
   ]
  },
  {
   "cell_type": "code",
   "execution_count": 19,
   "metadata": {
    "collapsed": true
   },
   "outputs": [],
   "source": [
    "irac_origin = Table()\n",
    "irac_origin.add_column(master_catalogue['irac_intid'])"
   ]
  },
  {
   "cell_type": "code",
   "execution_count": 20,
   "metadata": {},
   "outputs": [
    {
     "name": "stdout",
     "output_type": "stream",
     "text": [
      "2240390 sources with SHELA flux\n",
      "3365594 sources with SpIES flux\n",
      "64802 sources with SHELA and SpIES flux\n",
      "2240390 sources for which we use SHELA\n",
      "3300792 sources for which we use SpIES\n"
     ]
    }
   ],
   "source": [
    "# IRAC1 aperture flux and magnitudes\n",
    "has_shela = ~np.isnan(master_catalogue['f_ap_shela_irac1'])\n",
    "has_spies = ~np.isnan(master_catalogue['f_ap_spies_irac1'])\n",
    "has_both = has_shela & has_spies\n",
    "\n",
    "print(\"{} sources with SHELA flux\".format(np.sum(has_shela)))\n",
    "print(\"{} sources with SpIES flux\".format(np.sum(has_spies)))\n",
    "print(\"{} sources with SHELA and SpIES flux\".format(np.sum(has_both)))\n",
    "\n",
    "use_shela = has_shela\n",
    "use_spies = (has_spies & ~has_shela)\n",
    "\n",
    "print(\"{} sources for which we use SHELA\".format(np.sum(use_shela)))\n",
    "print(\"{} sources for which we use SpIES\".format(np.sum(use_spies)))\n",
    "\n",
    "f_ap_irac = np.full(len(master_catalogue), np.nan)\n",
    "f_ap_irac[use_shela] = master_catalogue['f_ap_shela_irac1'][use_shela]\n",
    "f_ap_irac[use_spies] = master_catalogue['f_ap_spies_irac1'][use_spies]\n",
    "\n",
    "ferr_ap_irac = np.full(len(master_catalogue), np.nan)\n",
    "ferr_ap_irac[use_shela] = master_catalogue['ferr_ap_shela_irac1'][use_shela]\n",
    "ferr_ap_irac[use_spies] = master_catalogue['ferr_ap_spies_irac1'][use_spies]\n",
    "\n",
    "m_ap_irac = np.full(len(master_catalogue), np.nan)\n",
    "m_ap_irac[use_shela] = master_catalogue['m_ap_shela_irac1'][use_shela]\n",
    "m_ap_irac[use_spies] = master_catalogue['m_ap_spies_irac1'][use_spies]\n",
    "\n",
    "merr_ap_irac = np.full(len(master_catalogue), np.nan)\n",
    "merr_ap_irac[use_shela] = master_catalogue['merr_ap_shela_irac1'][use_shela]\n",
    "merr_ap_irac[use_spies] = master_catalogue['merr_ap_spies_irac1'][use_spies]\n",
    "\n",
    "master_catalogue.add_column(Column(data=f_ap_irac, name=\"f_ap_irac_i1\"))\n",
    "master_catalogue.add_column(Column(data=ferr_ap_irac, name=\"ferr_ap_irac_i1\"))\n",
    "master_catalogue.add_column(Column(data=m_ap_irac, name=\"m_ap_irac_i1\"))\n",
    "master_catalogue.add_column(Column(data=merr_ap_irac, name=\"merr_ap_irac_i1\"))\n",
    "\n",
    "master_catalogue.remove_columns(['f_ap_shela_irac1', 'f_ap_spies_irac1', \n",
    "                                 'ferr_ap_shela_irac1', 'ferr_ap_spies_irac1', \n",
    "                                 'm_ap_shela_irac1', 'm_ap_spies_irac1',\n",
    "                                 'merr_ap_shela_irac1', 'merr_ap_spies_irac1'])\n",
    "\n",
    "origin = np.full(len(master_catalogue), '     ', dtype='<U5')\n",
    "origin[use_shela] = \"SHELA\"\n",
    "origin[use_spies] = \"SpIES\"\n",
    "irac_origin.add_column(Column(data=origin, name=\"IRAC1_ap\"))"
   ]
  },
  {
   "cell_type": "code",
   "execution_count": 21,
   "metadata": {},
   "outputs": [
    {
     "name": "stdout",
     "output_type": "stream",
     "text": [
      "2240390 sources with SHELA total flux\n",
      "3365594 sources with SpIES total flux\n",
      "64802 sources with SHELA and SpIES total flux\n",
      "2240390 sources for which we use SHELA\n",
      "3300792 sources for which we use SpIES\n"
     ]
    }
   ],
   "source": [
    "# IRAC1 total flux and magnitudes\n",
    "has_shela = ~np.isnan(master_catalogue['f_shela_irac1'])\n",
    "has_spies = ~np.isnan(master_catalogue['f_spies_irac1'])\n",
    "has_both = has_shela & has_spies\n",
    "\n",
    "print(\"{} sources with SHELA total flux\".format(np.sum(has_shela)))\n",
    "print(\"{} sources with SpIES total flux\".format(np.sum(has_spies)))\n",
    "print(\"{} sources with SHELA and SpIES total flux\".format(np.sum(has_both)))\n",
    "\n",
    "use_shela = has_shela\n",
    "use_spies = (has_spies & ~has_shela)\n",
    "\n",
    "print(\"{} sources for which we use SHELA\".format(np.sum(use_shela)))\n",
    "print(\"{} sources for which we use SpIES\".format(np.sum(use_spies)))\n",
    "\n",
    "f_ap_irac = np.full(len(master_catalogue), np.nan)\n",
    "f_ap_irac[use_shela] = master_catalogue['f_shela_irac1'][use_shela]\n",
    "f_ap_irac[use_spies] = master_catalogue['f_spies_irac1'][use_spies]\n",
    "\n",
    "ferr_ap_irac = np.full(len(master_catalogue), np.nan)\n",
    "ferr_ap_irac[use_shela] = master_catalogue['ferr_shela_irac1'][use_shela]\n",
    "ferr_ap_irac[use_spies] = master_catalogue['ferr_spies_irac1'][use_spies]\n",
    "\n",
    "flag_irac = np.full(len(master_catalogue), False, dtype=bool)\n",
    "flag_irac[use_shela] = master_catalogue['flag_shela_irac1'][use_shela]\n",
    "flag_irac[use_spies] = master_catalogue['flag_spies_irac1'][use_spies]\n",
    "\n",
    "m_ap_irac = np.full(len(master_catalogue), np.nan)\n",
    "m_ap_irac[use_shela] = master_catalogue['m_shela_irac1'][use_shela]\n",
    "m_ap_irac[use_spies] = master_catalogue['m_spies_irac1'][use_spies]\n",
    "\n",
    "merr_ap_irac = np.full(len(master_catalogue), np.nan)\n",
    "merr_ap_irac[use_shela] = master_catalogue['merr_shela_irac1'][use_shela]\n",
    "merr_ap_irac[use_spies] = master_catalogue['merr_spies_irac1'][use_spies]\n",
    "\n",
    "master_catalogue.add_column(Column(data=f_ap_irac, name=\"f_irac_i1\"))\n",
    "master_catalogue.add_column(Column(data=ferr_ap_irac, name=\"ferr_irac_i1\"))\n",
    "master_catalogue.add_column(Column(data=m_ap_irac, name=\"m_irac_i1\"))\n",
    "master_catalogue.add_column(Column(data=merr_ap_irac, name=\"merr_irac_i1\"))\n",
    "master_catalogue.add_column(Column(data=flag_irac, name=\"flag_irac_i1\"))\n",
    "\n",
    "master_catalogue.remove_columns(['f_shela_irac1', 'f_spies_irac1', \n",
    "                                 'ferr_shela_irac1', 'ferr_spies_irac1', \n",
    "                                 'm_shela_irac1', 'm_spies_irac1',\n",
    "                                 'merr_shela_irac1', 'merr_spies_irac1',\n",
    "                                'flag_shela_irac1', 'flag_spies_irac1'])\n",
    "\n",
    "origin = np.full(len(master_catalogue), '     ', dtype='<U5')\n",
    "origin[use_shela] = \"SHELA\"\n",
    "origin[use_spies] = \"SpIES\"\n",
    "irac_origin.add_column(Column(data=origin, name=\"IRAC1_total\"))"
   ]
  },
  {
   "cell_type": "code",
   "execution_count": 22,
   "metadata": {},
   "outputs": [
    {
     "name": "stdout",
     "output_type": "stream",
     "text": [
      "2244367 sources with SHELA flux\n",
      "3365594 sources with SpIES flux\n",
      "66244 sources with SHELA and SpIES flux\n",
      "2244367 sources for which we use SHELA\n",
      "3299350 sources for which we use SpIES\n"
     ]
    }
   ],
   "source": [
    "# IRAC2 aperture flux and magnitudes\n",
    "has_shela = ~np.isnan(master_catalogue['f_ap_shela_irac2'])\n",
    "has_spies = ~np.isnan(master_catalogue['f_ap_spies_irac2'])\n",
    "has_both = has_shela & has_spies\n",
    "\n",
    "print(\"{} sources with SHELA flux\".format(np.sum(has_shela)))\n",
    "print(\"{} sources with SpIES flux\".format(np.sum(has_spies)))\n",
    "print(\"{} sources with SHELA and SpIES flux\".format(np.sum(has_both)))\n",
    "\n",
    "use_shela = has_shela\n",
    "use_spies = (has_spies & ~has_shela)\n",
    "\n",
    "print(\"{} sources for which we use SHELA\".format(np.sum(use_shela)))\n",
    "print(\"{} sources for which we use SpIES\".format(np.sum(use_spies)))\n",
    "\n",
    "f_ap_irac = np.full(len(master_catalogue), np.nan)\n",
    "f_ap_irac[use_shela] = master_catalogue['f_ap_shela_irac2'][use_shela]\n",
    "f_ap_irac[use_spies] = master_catalogue['f_ap_spies_irac2'][use_spies]\n",
    "\n",
    "ferr_ap_irac = np.full(len(master_catalogue), np.nan)\n",
    "ferr_ap_irac[use_shela] = master_catalogue['ferr_ap_shela_irac2'][use_shela]\n",
    "ferr_ap_irac[use_spies] = master_catalogue['ferr_ap_spies_irac2'][use_spies]\n",
    "\n",
    "m_ap_irac = np.full(len(master_catalogue), np.nan)\n",
    "m_ap_irac[use_shela] = master_catalogue['m_ap_shela_irac2'][use_shela]\n",
    "m_ap_irac[use_spies] = master_catalogue['m_ap_spies_irac2'][use_spies]\n",
    "\n",
    "merr_ap_irac = np.full(len(master_catalogue), np.nan)\n",
    "merr_ap_irac[use_shela] = master_catalogue['merr_ap_shela_irac2'][use_shela]\n",
    "merr_ap_irac[use_spies] = master_catalogue['merr_ap_spies_irac2'][use_spies]\n",
    "\n",
    "master_catalogue.add_column(Column(data=f_ap_irac, name=\"f_ap_irac_i2\"))\n",
    "master_catalogue.add_column(Column(data=ferr_ap_irac, name=\"ferr_ap_irac_i2\"))\n",
    "master_catalogue.add_column(Column(data=m_ap_irac, name=\"m_ap_irac_i2\"))\n",
    "master_catalogue.add_column(Column(data=merr_ap_irac, name=\"merr_ap_irac_i2\"))\n",
    "\n",
    "master_catalogue.remove_columns(['f_ap_shela_irac2', 'f_ap_spies_irac2', \n",
    "                                 'ferr_ap_shela_irac2', 'ferr_ap_spies_irac2', \n",
    "                                 'm_ap_shela_irac2', 'm_ap_spies_irac2',\n",
    "                                 'merr_ap_shela_irac2', 'merr_ap_spies_irac2'])\n",
    "\n",
    "origin = np.full(len(master_catalogue), '     ', dtype='<U5')\n",
    "origin[use_shela] = \"SHELA\"\n",
    "origin[use_spies] = \"SpIES\"\n",
    "irac_origin.add_column(Column(data=origin, name=\"IRAC2_ap\"))"
   ]
  },
  {
   "cell_type": "code",
   "execution_count": 23,
   "metadata": {},
   "outputs": [
    {
     "name": "stdout",
     "output_type": "stream",
     "text": [
      "2244367 sources with SHELA total flux\n",
      "3365594 sources with SpIES total flux\n",
      "66244 sources with SHELA and SpIES total flux\n",
      "2244367 sources for which we use SHELA\n",
      "3299350 sources for which we use SpIES\n"
     ]
    }
   ],
   "source": [
    "# IRAC2 total flux and magnitudes\n",
    "has_shela = ~np.isnan(master_catalogue['f_shela_irac2'])\n",
    "has_spies = ~np.isnan(master_catalogue['f_spies_irac2'])\n",
    "has_both = has_shela & has_spies\n",
    "\n",
    "print(\"{} sources with SHELA total flux\".format(np.sum(has_shela)))\n",
    "print(\"{} sources with SpIES total flux\".format(np.sum(has_spies)))\n",
    "print(\"{} sources with SHELA and SpIES total flux\".format(np.sum(has_both)))\n",
    "\n",
    "use_shela = has_shela\n",
    "use_spies = (has_spies & ~has_shela)\n",
    "\n",
    "print(\"{} sources for which we use SHELA\".format(np.sum(use_shela)))\n",
    "print(\"{} sources for which we use SpIES\".format(np.sum(use_spies)))\n",
    "\n",
    "f_ap_irac = np.full(len(master_catalogue), np.nan)\n",
    "f_ap_irac[use_shela] = master_catalogue['f_shela_irac2'][use_shela]\n",
    "f_ap_irac[use_spies] = master_catalogue['f_spies_irac2'][use_spies]\n",
    "\n",
    "ferr_ap_irac = np.full(len(master_catalogue), np.nan)\n",
    "ferr_ap_irac[use_shela] = master_catalogue['ferr_shela_irac2'][use_shela]\n",
    "ferr_ap_irac[use_spies] = master_catalogue['ferr_spies_irac2'][use_spies]\n",
    "\n",
    "flag_irac = np.full(len(master_catalogue), False, dtype=bool)\n",
    "flag_irac[use_shela] = master_catalogue['flag_shela_irac2'][use_shela]\n",
    "flag_irac[use_spies] = master_catalogue['flag_spies_irac2'][use_spies]\n",
    "\n",
    "m_ap_irac = np.full(len(master_catalogue), np.nan)\n",
    "m_ap_irac[use_shela] = master_catalogue['m_shela_irac2'][use_shela]\n",
    "m_ap_irac[use_spies] = master_catalogue['m_spies_irac2'][use_spies]\n",
    "\n",
    "merr_ap_irac = np.full(len(master_catalogue), np.nan)\n",
    "merr_ap_irac[use_shela] = master_catalogue['merr_shela_irac2'][use_shela]\n",
    "merr_ap_irac[use_spies] = master_catalogue['merr_spies_irac2'][use_spies]\n",
    "\n",
    "master_catalogue.add_column(Column(data=f_ap_irac, name=\"f_irac_i2\"))\n",
    "master_catalogue.add_column(Column(data=ferr_ap_irac, name=\"ferr_irac_i2\"))\n",
    "master_catalogue.add_column(Column(data=m_ap_irac, name=\"m_irac_i2\"))\n",
    "master_catalogue.add_column(Column(data=merr_ap_irac, name=\"merr_irac_i2\"))\n",
    "master_catalogue.add_column(Column(data=flag_irac, name=\"flag_irac_i2\"))\n",
    "\n",
    "master_catalogue.remove_columns(['f_shela_irac2', 'f_spies_irac2', \n",
    "                                 'ferr_shela_irac2', 'ferr_spies_irac2', \n",
    "                                 'm_shela_irac2', 'm_spies_irac2',\n",
    "                                 'merr_shela_irac2', 'merr_spies_irac2',\n",
    "                                'flag_shela_irac2', 'flag_spies_irac2'])\n",
    "\n",
    "origin = np.full(len(master_catalogue), '     ', dtype='<U5')\n",
    "origin[use_shela] = \"SHELA\"\n",
    "origin[use_spies] = \"SpIES\"\n",
    "irac_origin.add_column(Column(data=origin, name=\"IRAC2_total\"))"
   ]
  },
  {
   "cell_type": "code",
   "execution_count": 24,
   "metadata": {
    "collapsed": true
   },
   "outputs": [],
   "source": [
    "irac_origin.write(\"{}/herschel-stripe-82_irac_fluxes_origins{}.fits\".format(OUT_DIR, SUFFIX), overwrite = True)"
   ]
  },
  {
   "cell_type": "markdown",
   "metadata": {},
   "source": [
    "## IX - Saving the catalogue"
   ]
  },
  {
   "cell_type": "code",
   "execution_count": 25,
   "metadata": {},
   "outputs": [
    {
     "data": {
      "text/plain": [
       "['shela_intid',\n",
       " 'ra',\n",
       " 'dec',\n",
       " 'flag_merged',\n",
       " 'spies_intid',\n",
       " 'irac_flag_cleaned',\n",
       " 'irac_flag_gaia',\n",
       " 'irac_stellarity',\n",
       " 'irac_intid',\n",
       " 'f_ap_irac_i1',\n",
       " 'ferr_ap_irac_i1',\n",
       " 'm_ap_irac_i1',\n",
       " 'merr_ap_irac_i1',\n",
       " 'f_irac_i1',\n",
       " 'ferr_irac_i1',\n",
       " 'm_irac_i1',\n",
       " 'merr_irac_i1',\n",
       " 'flag_irac_i1',\n",
       " 'f_ap_irac_i2',\n",
       " 'ferr_ap_irac_i2',\n",
       " 'm_ap_irac_i2',\n",
       " 'merr_ap_irac_i2',\n",
       " 'f_irac_i2',\n",
       " 'ferr_irac_i2',\n",
       " 'm_irac_i2',\n",
       " 'merr_irac_i2',\n",
       " 'flag_irac_i2']"
      ]
     },
     "execution_count": 25,
     "metadata": {},
     "output_type": "execute_result"
    }
   ],
   "source": [
    "master_catalogue.colnames"
   ]
  },
  {
   "cell_type": "code",
   "execution_count": 26,
   "metadata": {
    "collapsed": true
   },
   "outputs": [],
   "source": [
    "master_catalogue[\"ra\"].name = \"irac_ra\"\n",
    "master_catalogue[\"dec\"].name = \"irac_dec\"\n",
    "master_catalogue[\"flag_merged\"].name = \"irac_flag_merged\""
   ]
  },
  {
   "cell_type": "code",
   "execution_count": 27,
   "metadata": {
    "collapsed": true
   },
   "outputs": [],
   "source": [
    "columns = [\"irac_intid\", \"shela_intid\", \"spies_intid\",\n",
    "           'irac_ra', 'irac_dec', 'irac_flag_merged',  \n",
    "           'irac_flag_cleaned',  'irac_flag_gaia', 'irac_stellarity']\n",
    "\n",
    "bands = [column[5:] for column in master_catalogue.colnames if 'f_ap' in column]\n",
    "for band in bands:\n",
    "    columns += [\"f_ap_{}\".format(band), \"ferr_ap_{}\".format(band),\n",
    "                \"m_ap_{}\".format(band), \"merr_ap_{}\".format(band),\n",
    "                \"f_{}\".format(band), \"ferr_{}\".format(band),\n",
    "                \"m_{}\".format(band), \"merr_{}\".format(band),\n",
    "                \"flag_{}\".format(band)]    \n"
   ]
  },
  {
   "cell_type": "code",
   "execution_count": 28,
   "metadata": {},
   "outputs": [
    {
     "name": "stdout",
     "output_type": "stream",
     "text": [
      "Missing columns: set()\n"
     ]
    }
   ],
   "source": [
    "# We check for columns in the master catalogue that we will not save to disk.\n",
    "print(\"Missing columns: {}\".format(set(master_catalogue.colnames) - set(columns)))"
   ]
  },
  {
   "cell_type": "code",
   "execution_count": 29,
   "metadata": {},
   "outputs": [
    {
     "data": {
      "text/html": [
       "&lt;Table length=10&gt;\n",
       "<table id=\"table140252933159288-437892\" class=\"table-striped table-bordered table-condensed\">\n",
       "<thead><tr><th>idx</th><th>shela_intid</th><th>irac_ra</th><th>irac_dec</th><th>irac_flag_merged</th><th>spies_intid</th><th>irac_flag_cleaned</th><th>irac_flag_gaia</th><th>irac_stellarity</th><th>irac_intid</th><th>f_ap_irac_i1</th><th>ferr_ap_irac_i1</th><th>m_ap_irac_i1</th><th>merr_ap_irac_i1</th><th>f_irac_i1</th><th>ferr_irac_i1</th><th>m_irac_i1</th><th>merr_irac_i1</th><th>flag_irac_i1</th><th>f_ap_irac_i2</th><th>ferr_ap_irac_i2</th><th>m_ap_irac_i2</th><th>merr_ap_irac_i2</th><th>f_irac_i2</th><th>ferr_irac_i2</th><th>m_irac_i2</th><th>merr_irac_i2</th><th>flag_irac_i2</th></tr></thead>\n",
       "<thead><tr><th></th><th></th><th>deg</th><th>deg</th><th></th><th></th><th></th><th></th><th></th><th></th><th></th><th></th><th></th><th></th><th></th><th></th><th></th><th></th><th></th><th></th><th></th><th></th><th></th><th></th><th></th><th></th><th></th><th></th></tr></thead>\n",
       "<tr><td>0</td><td>1379391</td><td>22.9160109027</td><td>0.238312267292</td><td>False</td><td>-1</td><td>False</td><td>0</td><td>nan</td><td>1379391-1</td><td>-0.0224474351853</td><td>0.459004551172</td><td>nan</td><td>-22.2011032104</td><td>2.62986135483</td><td>2.07571077347</td><td>22.8501663208</td><td>0.856955587864</td><td>False</td><td>42.6650848389</td><td>1.13832569122</td><td>19.8248214722</td><td>0.0289679840207</td><td>36.9146118164</td><td>3.31506538391</td><td>19.9820098877</td><td>0.09750302881</td><td>False</td></tr>\n",
       "<tr><td>1</td><td>1433853</td><td>23.6639931364</td><td>0.297376305167</td><td>False</td><td>-1</td><td>False</td><td>0</td><td>nan</td><td>1433853-1</td><td>-0.999433636665</td><td>0.478795945644</td><td>nan</td><td>-0.520140647888</td><td>-1.66275298595</td><td>nan</td><td>nan</td><td>nan</td><td>False</td><td>57.0925140381</td><td>1.24950385094</td><td>19.5085525513</td><td>0.0237619858235</td><td>41.9827575684</td><td>0.87940376997</td><td>19.8423233032</td><td>0.0227426812053</td><td>False</td></tr>\n",
       "<tr><td>2</td><td>1501461</td><td>17.1780743659</td><td>0.371209289855</td><td>False</td><td>-1</td><td>False</td><td>0</td><td>nan</td><td>1501461-1</td><td>-0.367885500193</td><td>0.480662703514</td><td>nan</td><td>-1.41857421398</td><td>0.809025406837</td><td>1.80919122696</td><td>24.1300964355</td><td>2.42798852921</td><td>False</td><td>8.7921037674</td><td>0.762039601803</td><td>21.5397720337</td><td>0.0941042080522</td><td>11.0820875168</td><td>2.47177433968</td><td>21.2884521484</td><td>0.242165103555</td><td>False</td></tr>\n",
       "<tr><td>3</td><td>2041910</td><td>18.0883776053</td><td>0.955992888107</td><td>False</td><td>-1</td><td>False</td><td>0</td><td>nan</td><td>2041910-1</td><td>1.53133165836</td><td>0.480679512024</td><td>23.4373245239</td><td>0.340808659792</td><td>1.32359325886</td><td>0.404158234596</td><td>23.5956192017</td><td>0.331528753042</td><td>False</td><td>4.19599294662</td><td>0.765189886093</td><td>22.3429107666</td><td>0.1979970783</td><td>2.93803620338</td><td>0.634261488914</td><td>22.7298583984</td><td>0.234388068318</td><td>False</td></tr>\n",
       "<tr><td>4</td><td>2051282</td><td>14.3497873938</td><td>0.961695722436</td><td>False</td><td>-1</td><td>False</td><td>0</td><td>nan</td><td>2051282-1</td><td>1.69280123711</td><td>0.480811774731</td><td>23.3284912109</td><td>0.308385133743</td><td>0.465728461742</td><td>0.691826999187</td><td>24.7296676636</td><td>1.61283159256</td><td>False</td><td>1.80439436436</td><td>0.65220785141</td><td>23.2591705322</td><td>0.392445057631</td><td>2.23409605026</td><td>0.981211781502</td><td>23.0272445679</td><td>0.476853758097</td><td>False</td></tr>\n",
       "<tr><td>5</td><td>1497273</td><td>18.7890799452</td><td>0.368352033577</td><td>False</td><td>-1</td><td>False</td><td>0</td><td>nan</td><td>1497273-1</td><td>2.05972695351</td><td>0.482331544161</td><td>23.1154785156</td><td>0.254249602556</td><td>1.83974432945</td><td>0.899651825428</td><td>23.2381057739</td><td>0.530934929848</td><td>False</td><td>2.42052817345</td><td>0.71006578207</td><td>22.9402236938</td><td>0.31850245595</td><td>2.03327870369</td><td>1.36675858498</td><td>23.1295089722</td><td>0.729825854301</td><td>False</td></tr>\n",
       "<tr><td>6</td><td>545026</td><td>22.4245506266</td><td>-0.642594144188</td><td>False</td><td>-1</td><td>False</td><td>0</td><td>nan</td><td>545026-1</td><td>1.7553601265</td><td>0.485114395618</td><td>23.2890853882</td><td>0.30005595088</td><td>1.70425009727</td><td>0.915278851986</td><td>23.3211669922</td><td>0.583101809025</td><td>False</td><td>2.41439676285</td><td>0.643229901791</td><td>22.9429779053</td><td>0.289255678654</td><td>2.86203837395</td><td>1.23268008232</td><td>22.7583084106</td><td>0.46762663126</td><td>False</td></tr>\n",
       "<tr><td>7</td><td>477159</td><td>22.4517375046</td><td>-0.714030299391</td><td>False</td><td>-1</td><td>False</td><td>0</td><td>nan</td><td>477159-1</td><td>1.45646131039</td><td>0.485505580902</td><td>23.4917526245</td><td>0.36192587018</td><td>1.61951887608</td><td>0.745305120945</td><td>23.3765411377</td><td>0.499657481909</td><td>False</td><td>5.67917251587</td><td>0.677956938744</td><td>22.014289856</td><td>0.129610851407</td><td>4.26385736465</td><td>0.985850870609</td><td>22.3254928589</td><td>0.251034170389</td><td>False</td></tr>\n",
       "<tr><td>8</td><td>543888</td><td>24.8499402825</td><td>-0.642484862009</td><td>False</td><td>-1</td><td>False</td><td>0</td><td>nan</td><td>543888-1</td><td>-0.790526807308</td><td>0.48655667901</td><td>nan</td><td>-0.668253362179</td><td>-0.368213504553</td><td>nan</td><td>nan</td><td>nan</td><td>False</td><td>8.42269706726</td><td>0.788448810577</td><td>21.5863723755</td><td>0.101635783911</td><td>6.09079408646</td><td>0.334957569838</td><td>21.9383163452</td><td>0.0597090534866</td><td>False</td></tr>\n",
       "<tr><td>9</td><td>869586</td><td>24.6311943916</td><td>-0.300427956383</td><td>False</td><td>-1</td><td>False</td><td>0</td><td>nan</td><td>869586-1</td><td>1.70511245728</td><td>0.487496495247</td><td>23.3206176758</td><td>0.310415029526</td><td>0.784428715706</td><td>0.672937572002</td><td>24.1636123657</td><td>0.931420087814</td><td>False</td><td>4.08163404465</td><td>0.789322197437</td><td>22.3729171753</td><td>0.209963873029</td><td>4.06112241745</td><td>1.11324501038</td><td>22.3783874512</td><td>0.297624707222</td><td>False</td></tr>\n",
       "</table><style>table.dataTable {clear: both; width: auto !important; margin: 0 !important;}\n",
       ".dataTables_info, .dataTables_length, .dataTables_filter, .dataTables_paginate{\n",
       "display: inline-block; margin-right: 1em; }\n",
       ".paginate_button { margin-right: 5px; }\n",
       "</style>\n",
       "<script>\n",
       "require.config({paths: {\n",
       "    datatables: 'https://cdn.datatables.net/1.10.12/js/jquery.dataTables.min'\n",
       "}});\n",
       "require([\"datatables\"], function(){\n",
       "    console.log(\"$('#table140252933159288-437892').dataTable()\");\n",
       "    $('#table140252933159288-437892').dataTable({\n",
       "        \"order\": [],\n",
       "        \"iDisplayLength\": 50,\n",
       "        \"aLengthMenu\": [[10, 25, 50, 100, 500, 1000, -1], [10, 25, 50, 100, 500, 1000, 'All']],\n",
       "        \"pagingType\": \"full_numbers\"\n",
       "    });\n",
       "});\n",
       "</script>\n"
      ],
      "text/plain": [
       "<IPython.core.display.HTML object>"
      ]
     },
     "execution_count": 29,
     "metadata": {},
     "output_type": "execute_result"
    }
   ],
   "source": [
    "master_catalogue[:10].show_in_notebook()"
   ]
  },
  {
   "cell_type": "code",
   "execution_count": 30,
   "metadata": {
    "collapsed": true
   },
   "outputs": [],
   "source": [
    "master_catalogue[columns].write(\"{}/iraq_merged_catalogue_herschel-stripe-82.fits\".format(TMP_DIR), overwrite=True)"
   ]
  }
 ],
 "metadata": {
  "kernelspec": {
   "display_name": "Python (herschelhelp_internal)",
   "language": "python",
   "name": "helpint"
  },
  "language_info": {
   "codemirror_mode": {
    "name": "ipython",
    "version": 3
   },
   "file_extension": ".py",
   "mimetype": "text/x-python",
   "name": "python",
   "nbconvert_exporter": "python",
   "pygments_lexer": "ipython3",
   "version": "3.6.1"
  }
 },
 "nbformat": 4,
 "nbformat_minor": 2
}
