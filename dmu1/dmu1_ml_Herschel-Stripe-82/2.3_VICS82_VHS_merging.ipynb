{
 "cells": [
  {
   "cell_type": "markdown",
   "metadata": {},
   "source": [
    "# Herschel Stripe 82 VICS82 - VHS merging\n",
    "\n",
    "VICS 82 and VHS contain VISTA J and Ks fluxes which need to be merged"
   ]
  },
  {
   "cell_type": "code",
   "execution_count": 1,
   "metadata": {},
   "outputs": [
    {
     "name": "stdout",
     "output_type": "stream",
     "text": [
      "This notebook was run with herschelhelp_internal version: \n",
      "0246c5d (Thu Jan 25 17:01:47 2018 +0000) [with local modifications]\n",
      "This notebook was executed on: \n",
      "2018-02-27 15:01:12.533619\n"
     ]
    }
   ],
   "source": [
    "from herschelhelp_internal import git_version\n",
    "print(\"This notebook was run with herschelhelp_internal version: \\n{}\".format(git_version()))\n",
    "import datetime\n",
    "print(\"This notebook was executed on: \\n{}\".format(datetime.datetime.now()))"
   ]
  },
  {
   "cell_type": "code",
   "execution_count": 2,
   "metadata": {},
   "outputs": [],
   "source": [
    "%matplotlib inline\n",
    "#%config InlineBackend.figure_format = 'svg'\n",
    "\n",
    "import matplotlib.pyplot as plt\n",
    "plt.rc('figure', figsize=(10, 6))\n",
    "\n",
    "import os\n",
    "import time\n",
    "from collections import OrderedDict\n",
    "\n",
    "from astropy import units as u\n",
    "from astropy.coordinates import SkyCoord\n",
    "from astropy.table import Column, Table\n",
    "import numpy as np\n",
    "from pymoc import MOC\n",
    "\n",
    "from herschelhelp_internal.masterlist import merge_catalogues, nb_merge_dist_plot\n",
    "from herschelhelp_internal.utils import coords_to_hpidx, ebv, gen_help_id, inMoc"
   ]
  },
  {
   "cell_type": "code",
   "execution_count": 3,
   "metadata": {
    "collapsed": true
   },
   "outputs": [],
   "source": [
    "TMP_DIR = os.environ.get('TMP_DIR', \"./data_tmp\")\n",
    "OUT_DIR = os.environ.get('OUT_DIR', \"./data\")\n",
    "SUFFIX = os.environ.get('SUFFIX', time.strftime(\"_%Y%m%d\"))\n",
    "\n",
    "try:\n",
    "    os.makedirs(OUT_DIR)\n",
    "except FileExistsError:\n",
    "    pass"
   ]
  },
  {
   "cell_type": "markdown",
   "metadata": {},
   "source": [
    "## I - Reading the prepared pristine catalogues"
   ]
  },
  {
   "cell_type": "code",
   "execution_count": 4,
   "metadata": {
    "collapsed": true
   },
   "outputs": [],
   "source": [
    "vics82 = Table.read(\"{}/VICS82.fits\".format(TMP_DIR))\n",
    "vhs = Table.read(\"{}/VISTA-VHS.fits\".format(TMP_DIR))"
   ]
  },
  {
   "cell_type": "markdown",
   "metadata": {},
   "source": [
    "## II - Merging tables\n",
    "\n",
    "We first merge the optical catalogues and then add the infrared ones:  VHS, VICS82, \n",
    "\n",
    "At every step, we look at the distribution of the distances separating the sources from one catalogue to the other (within a maximum radius) to determine the best cross-matching radius."
   ]
  },
  {
   "cell_type": "markdown",
   "metadata": {},
   "source": [
    "### VHS"
   ]
  },
  {
   "cell_type": "code",
   "execution_count": 5,
   "metadata": {
    "collapsed": true
   },
   "outputs": [],
   "source": [
    "master_catalogue = vhs\n",
    "master_catalogue['vhs_ra'].name = 'ra'\n",
    "master_catalogue['vhs_dec'].name = 'dec'\n"
   ]
  },
  {
   "cell_type": "markdown",
   "metadata": {},
   "source": [
    "## Add VICS82"
   ]
  },
  {
   "cell_type": "code",
   "execution_count": 6,
   "metadata": {
    "scrolled": true
   },
   "outputs": [
    {
     "data": {
      "image/png": "[encoded data removed]",
      "text/plain": [
       "<matplotlib.figure.Figure at 0x7ff387893518>"
      ]
     },
     "metadata": {},
     "output_type": "display_data"
    }
   ],
   "source": [
    "nb_merge_dist_plot(\n",
    "    SkyCoord(master_catalogue['ra'], master_catalogue['dec']),\n",
    "    SkyCoord(vics82['vics82_ra'], vics82['vics82_dec'])\n",
    ")"
   ]
  },
  {
   "cell_type": "code",
   "execution_count": 7,
   "metadata": {
    "collapsed": true
   },
   "outputs": [],
   "source": [
    "# Given the graph above, we use 0.8 arc-second radius\n",
    "master_catalogue = merge_catalogues(master_catalogue, vics82, \"vics82_ra\", \"vics82_dec\", radius=0.8*u.arcsec)\n"
   ]
  },
  {
   "cell_type": "markdown",
   "metadata": {},
   "source": [
    "### Cleaning\n",
    "\n",
    "When we merge the catalogues, astropy masks the non-existent values (e.g. when a row comes only from a catalogue and has no counterparts in the other, the columns from the latest are masked for that row). We indicate to use NaN for masked values for floats columns, False for flag columns and -1 for ID columns."
   ]
  },
  {
   "cell_type": "code",
   "execution_count": 8,
   "metadata": {
    "collapsed": true
   },
   "outputs": [],
   "source": [
    "for col in master_catalogue.colnames:\n",
    "    if \"m_\" in col or \"merr_\" in col or \"f_\" in col or \"ferr_\" in col or \"stellarity\" in col:\n",
    "        master_catalogue[col].fill_value = np.nan\n",
    "    elif \"flag\" in col:\n",
    "        master_catalogue[col].fill_value = 0\n",
    "    elif \"id\" in col:\n",
    "        master_catalogue[col].fill_value = -1\n",
    "        \n",
    "master_catalogue = master_catalogue.filled()"
   ]
  },
  {
   "cell_type": "code",
   "execution_count": 9,
   "metadata": {},
   "outputs": [
    {
     "data": {
      "text/html": [
       "<i>Table length=10</i>\n",
       "<table id=\"table140679676471112-141778\" class=\"table-striped table-bordered table-condensed\">\n",
       "<thead><tr><th>idx</th><th>vhs_id</th><th>ra</th><th>dec</th><th>vhs_stellarity</th><th>m_vhs_y</th><th>merr_vhs_y</th><th>m_ap_vhs_y</th><th>merr_ap_vhs_y</th><th>m_vhs_j</th><th>merr_vhs_j</th><th>m_ap_vhs_j</th><th>merr_ap_vhs_j</th><th>m_vhs_h</th><th>merr_vhs_h</th><th>m_ap_vhs_h</th><th>merr_ap_vhs_h</th><th>m_vhs_k</th><th>merr_vhs_k</th><th>m_ap_vhs_k</th><th>merr_ap_vhs_k</th><th>f_vhs_y</th><th>ferr_vhs_y</th><th>flag_vhs_y</th><th>f_ap_vhs_y</th><th>ferr_ap_vhs_y</th><th>f_vhs_j</th><th>ferr_vhs_j</th><th>flag_vhs_j</th><th>f_ap_vhs_j</th><th>ferr_ap_vhs_j</th><th>f_vhs_h</th><th>ferr_vhs_h</th><th>flag_vhs_h</th><th>f_ap_vhs_h</th><th>ferr_ap_vhs_h</th><th>f_vhs_k</th><th>ferr_vhs_k</th><th>flag_vhs_k</th><th>f_ap_vhs_k</th><th>ferr_ap_vhs_k</th><th>vhs_flag_cleaned</th><th>vhs_flag_gaia</th><th>flag_merged</th><th>vics82_id</th><th>vics82_stellarity</th><th>vics82_flag_cleaned</th><th>f_wircam_j</th><th>f_vista_j</th><th>ferr_wircam_j</th><th>ferr_vista_j</th><th>m_wircam_j</th><th>m_vista_j</th><th>merr_wircam_j</th><th>merr_vista_j</th><th>flag_wircam_j</th><th>flag_vista_j</th><th>f_ap_wircam_j</th><th>f_ap_vista_j</th><th>ferr_ap_wircam_j</th><th>ferr_ap_vista_j</th><th>m_ap_wircam_j</th><th>m_ap_vista_j</th><th>merr_ap_wircam_j</th><th>merr_ap_vista_j</th><th>f_wircam_ks</th><th>f_vista_ks</th><th>ferr_wircam_ks</th><th>ferr_vista_ks</th><th>m_wircam_ks</th><th>m_vista_ks</th><th>merr_wircam_ks</th><th>merr_vista_ks</th><th>flag_wircam_ks</th><th>flag_vista_ks</th><th>f_ap_wircam_ks</th><th>f_ap_vista_ks</th><th>ferr_ap_wircam_ks</th><th>ferr_ap_vista_ks</th><th>m_ap_wircam_ks</th><th>m_ap_vista_ks</th><th>merr_ap_wircam_ks</th><th>merr_ap_vista_ks</th><th>vics82_flag_gaia</th></tr></thead>\n",
       "<thead><tr><th></th><th></th><th>deg</th><th>deg</th><th></th><th></th><th></th><th></th><th></th><th></th><th></th><th></th><th></th><th></th><th></th><th></th><th></th><th></th><th></th><th></th><th></th><th></th><th></th><th></th><th></th><th></th><th></th><th></th><th></th><th></th><th></th><th></th><th></th><th></th><th></th><th></th><th></th><th></th><th></th><th></th><th></th><th></th><th></th><th></th><th></th><th></th><th></th><th></th><th></th><th></th><th></th><th></th><th></th><th></th><th></th><th></th><th></th><th></th><th></th><th></th><th></th><th></th><th></th><th></th><th></th><th></th><th></th><th></th><th></th><th></th><th></th><th></th><th></th><th></th><th></th><th></th><th></th><th></th><th></th><th></th><th></th><th></th><th></th><th></th></tr></thead>\n",
       "<tr><td>0</td><td>472552085432</td><td>0.673306346297</td><td>-7.06443580379</td><td>0.999981</td><td>11.2259</td><td>0.000400582</td><td>10.7333</td><td>0.000339089</td><td>11.2295</td><td>0.000367877</td><td>11.6455</td><td>0.000379238</td><td>11.1059</td><td>0.000370037</td><td>12.1341</td><td>0.00053474</td><td>12.3747</td><td>0.00104543</td><td>12.5242</td><td>0.000705313</td><td>117397.0</td><td>43.3136</td><td>False</td><td>184788.0</td><td>57.7117</td><td>117008.0</td><td>39.6457</td><td>False</td><td>79764.9</td><td>27.8612</td><td>131105.0</td><td>44.6829</td><td>False</td><td>50856.1</td><td>25.0474</td><td>40749.2</td><td>39.2363</td><td>False</td><td>35508.6</td><td>23.067</td><td>False</td><td>3</td><td>False</td><td>-1</td><td>nan</td><td>False</td><td>nan</td><td>nan</td><td>nan</td><td>nan</td><td>nan</td><td>nan</td><td>nan</td><td>nan</td><td>False</td><td>False</td><td>nan</td><td>nan</td><td>nan</td><td>nan</td><td>nan</td><td>nan</td><td>nan</td><td>nan</td><td>nan</td><td>nan</td><td>nan</td><td>nan</td><td>nan</td><td>nan</td><td>nan</td><td>nan</td><td>False</td><td>False</td><td>nan</td><td>nan</td><td>nan</td><td>nan</td><td>nan</td><td>nan</td><td>nan</td><td>nan</td><td>0</td></tr>\n",
       "<tr><td>1</td><td>472550167438</td><td>354.799219968</td><td>-6.96604497217</td><td>0.999981</td><td>10.8381</td><td>0.000335466</td><td>10.7615</td><td>0.000342863</td><td>11.0164</td><td>0.000292732</td><td>11.3462</td><td>0.000333783</td><td>11.196</td><td>0.00044863</td><td>11.6947</td><td>0.000423534</td><td>10.9581</td><td>0.000438457</td><td>11.1149</td><td>0.000387725</td><td>167782.0</td><td>51.8406</td><td>False</td><td>180046.0</td><td>56.8565</td><td>142375.0</td><td>38.3867</td><td>False</td><td>105076.0</td><td>32.303</td><td>120667.0</td><td>49.8601</td><td>False</td><td>76229.9</td><td>29.7365</td><td>150226.0</td><td>60.6663</td><td>False</td><td>130026.0</td><td>46.4335</td><td>False</td><td>3</td><td>False</td><td>-1</td><td>nan</td><td>False</td><td>nan</td><td>nan</td><td>nan</td><td>nan</td><td>nan</td><td>nan</td><td>nan</td><td>nan</td><td>False</td><td>False</td><td>nan</td><td>nan</td><td>nan</td><td>nan</td><td>nan</td><td>nan</td><td>nan</td><td>nan</td><td>nan</td><td>nan</td><td>nan</td><td>nan</td><td>nan</td><td>nan</td><td>nan</td><td>nan</td><td>False</td><td>False</td><td>nan</td><td>nan</td><td>nan</td><td>nan</td><td>nan</td><td>nan</td><td>nan</td><td>nan</td><td>0</td></tr>\n",
       "<tr><td>2</td><td>472552084617</td><td>0.438188364583</td><td>-7.02594966115</td><td>0.999981</td><td>10.178</td><td>0.00022813</td><td>10.7626</td><td>0.000352718</td><td>10.4168</td><td>0.000227487</td><td>11.8231</td><td>0.000426508</td><td>10.2923</td><td>0.00028397</td><td>12.4207</td><td>0.000643061</td><td>11.2854</td><td>0.000447102</td><td>11.8295</td><td>0.000516409</td><td>308189.0</td><td>64.7553</td><td>False</td><td>179878.0</td><td>58.4361</td><td>247333.0</td><td>51.822</td><td>False</td><td>67725.0</td><td>26.6043</td><td>277393.0</td><td>72.5511</td><td>False</td><td>39059.1</td><td>23.134</td><td>111132.0</td><td>45.7636</td><td>False</td><td>67331.3</td><td>32.0248</td><td>False</td><td>3</td><td>False</td><td>-1</td><td>nan</td><td>False</td><td>nan</td><td>nan</td><td>nan</td><td>nan</td><td>nan</td><td>nan</td><td>nan</td><td>nan</td><td>False</td><td>False</td><td>nan</td><td>nan</td><td>nan</td><td>nan</td><td>nan</td><td>nan</td><td>nan</td><td>nan</td><td>nan</td><td>nan</td><td>nan</td><td>nan</td><td>nan</td><td>nan</td><td>nan</td><td>nan</td><td>False</td><td>False</td><td>nan</td><td>nan</td><td>nan</td><td>nan</td><td>nan</td><td>nan</td><td>nan</td><td>nan</td><td>0</td></tr>\n",
       "<tr><td>3</td><td>472533513039</td><td>350.418456023</td><td>-5.66823053354</td><td>0.999981</td><td>10.9137</td><td>0.000322981</td><td>10.942</td><td>0.000364706</td><td>11.1311</td><td>0.00032009</td><td>11.3007</td><td>0.000336604</td><td>11.5337</td><td>0.000492512</td><td>11.7255</td><td>0.000409554</td><td>11.6317</td><td>0.000615116</td><td>11.6691</td><td>0.000462824</td><td>156506.0</td><td>46.5568</td><td>False</td><td>152475.0</td><td>51.2174</td><td>128102.0</td><td>37.7661</td><td>False</td><td>109580.0</td><td>33.9723</td><td>88411.6</td><td>40.1053</td><td>False</td><td>74097.2</td><td>27.9505</td><td>80783.1</td><td>45.7671</td><td>False</td><td>78049.1</td><td>33.2705</td><td>False</td><td>3</td><td>False</td><td>-1</td><td>nan</td><td>False</td><td>nan</td><td>nan</td><td>nan</td><td>nan</td><td>nan</td><td>nan</td><td>nan</td><td>nan</td><td>False</td><td>False</td><td>nan</td><td>nan</td><td>nan</td><td>nan</td><td>nan</td><td>nan</td><td>nan</td><td>nan</td><td>nan</td><td>nan</td><td>nan</td><td>nan</td><td>nan</td><td>nan</td><td>nan</td><td>nan</td><td>False</td><td>False</td><td>nan</td><td>nan</td><td>nan</td><td>nan</td><td>nan</td><td>nan</td><td>nan</td><td>nan</td><td>0</td></tr>\n",
       "<tr><td>4</td><td>472552083412</td><td>0.508092945481</td><td>-6.96580681684</td><td>0.999981</td><td>10.484</td><td>0.000259921</td><td>10.8517</td><td>0.000366054</td><td>11.1097</td><td>0.000330767</td><td>11.5884</td><td>0.000380202</td><td>11.1516</td><td>0.000438414</td><td>11.7072</td><td>0.000447009</td><td>11.3865</td><td>0.000529828</td><td>11.6285</td><td>0.000466596</td><td>232479.0</td><td>55.6547</td><td>False</td><td>165703.0</td><td>55.8663</td><td>130656.0</td><td>39.804</td><td>False</td><td>84069.7</td><td>29.4394</td><td>125703.0</td><td>50.758</td><td>False</td><td>75355.3</td><td>31.0245</td><td>101252.0</td><td>49.41</td><td>False</td><td>81022.1</td><td>34.8193</td><td>False</td><td>3</td><td>False</td><td>-1</td><td>nan</td><td>False</td><td>nan</td><td>nan</td><td>nan</td><td>nan</td><td>nan</td><td>nan</td><td>nan</td><td>nan</td><td>False</td><td>False</td><td>nan</td><td>nan</td><td>nan</td><td>nan</td><td>nan</td><td>nan</td><td>nan</td><td>nan</td><td>nan</td><td>nan</td><td>nan</td><td>nan</td><td>nan</td><td>nan</td><td>nan</td><td>nan</td><td>False</td><td>False</td><td>nan</td><td>nan</td><td>nan</td><td>nan</td><td>nan</td><td>nan</td><td>nan</td><td>nan</td><td>0</td></tr>\n",
       "<tr><td>5</td><td>472552083136</td><td>0.360617270106</td><td>-6.95299694223</td><td>0.999981</td><td>10.5721</td><td>0.000280615</td><td>10.9244</td><td>0.00037351</td><td>10.9582</td><td>0.000310081</td><td>11.8008</td><td>0.000410481</td><td>11.1491</td><td>0.000447647</td><td>12.1906</td><td>0.000554907</td><td>11.5167</td><td>0.000602693</td><td>11.7189</td><td>0.000484607</td><td>214362.0</td><td>55.4033</td><td>False</td><td>154972.0</td><td>53.3126</td><td>150219.0</td><td>42.9019</td><td>False</td><td>69130.9</td><td>26.1361</td><td>126000.0</td><td>51.9495</td><td>False</td><td>48280.6</td><td>24.6756</td><td>89809.4</td><td>49.8532</td><td>False</td><td>74546.5</td><td>33.2731</td><td>False</td><td>3</td><td>False</td><td>-1</td><td>nan</td><td>False</td><td>nan</td><td>nan</td><td>nan</td><td>nan</td><td>nan</td><td>nan</td><td>nan</td><td>nan</td><td>False</td><td>False</td><td>nan</td><td>nan</td><td>nan</td><td>nan</td><td>nan</td><td>nan</td><td>nan</td><td>nan</td><td>nan</td><td>nan</td><td>nan</td><td>nan</td><td>nan</td><td>nan</td><td>nan</td><td>nan</td><td>False</td><td>False</td><td>nan</td><td>nan</td><td>nan</td><td>nan</td><td>nan</td><td>nan</td><td>nan</td><td>nan</td><td>0</td></tr>\n",
       "<tr><td>6</td><td>472534714823</td><td>0.145602876509</td><td>-5.5517686642</td><td>0.999981</td><td>10.3001</td><td>0.000240276</td><td>10.7998</td><td>0.000374242</td><td>11.2545</td><td>0.000314867</td><td>11.9314</td><td>0.000455072</td><td>11.8628</td><td>0.000783346</td><td>12.5597</td><td>0.000635383</td><td>11.7489</td><td>0.000753477</td><td>12.3753</td><td>0.000711295</td><td>275388.0</td><td>60.9442</td><td>False</td><td>173818.0</td><td>59.9132</td><td>114344.0</td><td>33.1602</td><td>False</td><td>61296.0</td><td>25.6914</td><td>65296.2</td><td>47.1104</td><td>False</td><td>34366.9</td><td>20.1118</td><td>72517.9</td><td>50.3258</td><td>False</td><td>40726.9</td><td>26.6813</td><td>False</td><td>3</td><td>False</td><td>-1</td><td>nan</td><td>False</td><td>nan</td><td>nan</td><td>nan</td><td>nan</td><td>nan</td><td>nan</td><td>nan</td><td>nan</td><td>False</td><td>False</td><td>nan</td><td>nan</td><td>nan</td><td>nan</td><td>nan</td><td>nan</td><td>nan</td><td>nan</td><td>nan</td><td>nan</td><td>nan</td><td>nan</td><td>nan</td><td>nan</td><td>nan</td><td>nan</td><td>False</td><td>False</td><td>nan</td><td>nan</td><td>nan</td><td>nan</td><td>nan</td><td>nan</td><td>nan</td><td>nan</td><td>0</td></tr>\n",
       "<tr><td>7</td><td>472548405385</td><td>357.724882756</td><td>-5.86631118496</td><td>0.999981</td><td>10.5273</td><td>0.000284961</td><td>10.7989</td><td>0.000375849</td><td>10.8195</td><td>0.00032355</td><td>11.4229</td><td>0.000399775</td><td>11.8271</td><td>0.000596844</td><td>12.7362</td><td>0.000727982</td><td>11.4101</td><td>0.000643962</td><td>11.8273</td><td>0.000555651</td><td>223395.0</td><td>58.6319</td><td>False</td><td>173957.0</td><td>60.2186</td><td>170686.0</td><td>50.8646</td><td>False</td><td>97912.1</td><td>36.0519</td><td>67477.2</td><td>37.0932</td><td>False</td><td>29208.4</td><td>19.5841</td><td>99074.6</td><td>58.7622</td><td>False</td><td>67467.9</td><td>34.5283</td><td>False</td><td>3</td><td>False</td><td>-1</td><td>nan</td><td>False</td><td>nan</td><td>nan</td><td>nan</td><td>nan</td><td>nan</td><td>nan</td><td>nan</td><td>nan</td><td>False</td><td>False</td><td>nan</td><td>nan</td><td>nan</td><td>nan</td><td>nan</td><td>nan</td><td>nan</td><td>nan</td><td>nan</td><td>nan</td><td>nan</td><td>nan</td><td>nan</td><td>nan</td><td>nan</td><td>nan</td><td>False</td><td>False</td><td>nan</td><td>nan</td><td>nan</td><td>nan</td><td>nan</td><td>nan</td><td>nan</td><td>nan</td><td>0</td></tr>\n",
       "<tr><td>8</td><td>472552066969</td><td>0.0548805544191</td><td>-5.9566913333</td><td>0.999981</td><td>11.9876</td><td>0.000658944</td><td>10.9307</td><td>0.000376253</td><td>11.2882</td><td>0.000385194</td><td>11.8362</td><td>0.000412144</td><td>11.5098</td><td>0.000481497</td><td>12.3164</td><td>0.000579876</td><td>11.2894</td><td>0.000509449</td><td>11.8661</td><td>0.00051611</td><td>58204.3</td><td>35.3247</td><td>False</td><td>154078.0</td><td>53.3943</td><td>110846.0</td><td>39.3256</td><td>False</td><td>66913.4</td><td>25.4002</td><td>90378.6</td><td>40.0807</td><td>False</td><td>42999.1</td><td>22.9652</td><td>110722.0</td><td>51.9528</td><td>False</td><td>65097.6</td><td>30.9444</td><td>False</td><td>3</td><td>False</td><td>-1</td><td>nan</td><td>False</td><td>nan</td><td>nan</td><td>nan</td><td>nan</td><td>nan</td><td>nan</td><td>nan</td><td>nan</td><td>False</td><td>False</td><td>nan</td><td>nan</td><td>nan</td><td>nan</td><td>nan</td><td>nan</td><td>nan</td><td>nan</td><td>nan</td><td>nan</td><td>nan</td><td>nan</td><td>nan</td><td>nan</td><td>nan</td><td>nan</td><td>False</td><td>False</td><td>nan</td><td>nan</td><td>nan</td><td>nan</td><td>nan</td><td>nan</td><td>nan</td><td>nan</td><td>0</td></tr>\n",
       "<tr><td>9</td><td>472533572298</td><td>355.420251023</td><td>-5.50705317979</td><td>0.999981</td><td>9.63508</td><td>0.00018357</td><td>10.7982</td><td>0.000376723</td><td>10.3105</td><td>0.000251016</td><td>11.9849</td><td>0.000463845</td><td>9.99988</td><td>0.000274352</td><td>13.6404</td><td>0.00119194</td><td>10.1113</td><td>0.000304525</td><td>11.8514</td><td>0.000547935</td><td>508121.0</td><td>85.9103</td><td>False</td><td>174075.0</td><td>60.3998</td><td>272768.0</td><td>63.0624</td><td>False</td><td>58350.3</td><td>24.9282</td><td>363119.0</td><td>91.7557</td><td>False</td><td>12701.0</td><td>13.9433</td><td>327706.0</td><td>91.9142</td><td>False</td><td>65985.5</td><td>33.3007</td><td>False</td><td>3</td><td>False</td><td>-1</td><td>nan</td><td>False</td><td>nan</td><td>nan</td><td>nan</td><td>nan</td><td>nan</td><td>nan</td><td>nan</td><td>nan</td><td>False</td><td>False</td><td>nan</td><td>nan</td><td>nan</td><td>nan</td><td>nan</td><td>nan</td><td>nan</td><td>nan</td><td>nan</td><td>nan</td><td>nan</td><td>nan</td><td>nan</td><td>nan</td><td>nan</td><td>nan</td><td>False</td><td>False</td><td>nan</td><td>nan</td><td>nan</td><td>nan</td><td>nan</td><td>nan</td><td>nan</td><td>nan</td><td>0</td></tr>\n",
       "</table><style>table.dataTable {clear: both; width: auto !important; margin: 0 !important;}\n",
       ".dataTables_info, .dataTables_length, .dataTables_filter, .dataTables_paginate{\n",
       "display: inline-block; margin-right: 1em; }\n",
       ".paginate_button { margin-right: 5px; }\n",
       "</style>\n",
       "<script>\n",
       "\n",
       "var astropy_sort_num = function(a, b) {\n",
       "    var a_num = parseFloat(a);\n",
       "    var b_num = parseFloat(b);\n",
       "\n",
       "    if (isNaN(a_num) && isNaN(b_num))\n",
       "        return ((a < b) ? -1 : ((a > b) ? 1 : 0));\n",
       "    else if (!isNaN(a_num) && !isNaN(b_num))\n",
       "        return ((a_num < b_num) ? -1 : ((a_num > b_num) ? 1 : 0));\n",
       "    else\n",
       "        return isNaN(a_num) ? -1 : 1;\n",
       "}\n",
       "\n",
       "require.config({paths: {\n",
       "    datatables: 'https://cdn.datatables.net/1.10.12/js/jquery.dataTables.min'\n",
       "}});\n",
       "require([\"datatables\"], function(){\n",
       "    console.log(\"$('#table140679676471112-141778').dataTable()\");\n",
       "    \n",
       "jQuery.extend( jQuery.fn.dataTableExt.oSort, {\n",
       "    \"optionalnum-asc\": astropy_sort_num,\n",
       "    \"optionalnum-desc\": function (a,b) { return -astropy_sort_num(a, b); }\n",
       "});\n",
       "\n",
       "    $('#table140679676471112-141778').dataTable({\n",
       "        order: [],\n",
       "        pageLength: 50,\n",
       "        lengthMenu: [[10, 25, 50, 100, 500, 1000, -1], [10, 25, 50, 100, 500, 1000, 'All']],\n",
       "        pagingType: \"full_numbers\",\n",
       "        columnDefs: [{targets: [0, 1, 2, 3, 4, 5, 6, 7, 8, 9, 10, 11, 12, 13, 14, 15, 16, 17, 18, 19, 20, 21, 22, 24, 25, 26, 27, 29, 30, 31, 32, 34, 35, 36, 37, 39, 40, 42, 45, 47, 48, 49, 50, 51, 52, 53, 54, 57, 58, 59, 60, 61, 62, 63, 64, 65, 66, 67, 68, 69, 70, 71, 72, 75, 76, 77, 78, 79, 80, 81, 82, 83], type: \"optionalnum\"}]\n",
       "    });\n",
       "});\n",
       "</script>\n"
      ],
      "text/plain": [
       "<IPython.core.display.HTML object>"
      ]
     },
     "execution_count": 9,
     "metadata": {},
     "output_type": "execute_result"
    }
   ],
   "source": [
    "master_catalogue[:10].show_in_notebook()"
   ]
  },
  {
   "cell_type": "markdown",
   "metadata": {},
   "source": [
    "## III - Merging flags and stellarity\n",
    "\n",
    "Each pristine catalogue contains a flag indicating if the source was associated to a another nearby source that was removed during the cleaning process.  We merge these flags in a single one."
   ]
  },
  {
   "cell_type": "code",
   "execution_count": 10,
   "metadata": {
    "collapsed": true
   },
   "outputs": [],
   "source": [
    "flag_cleaned_columns = [column for column in master_catalogue.colnames\n",
    "                        if 'flag_cleaned' in column]\n",
    "\n",
    "flag_column = np.zeros(len(master_catalogue), dtype=bool)\n",
    "for column in flag_cleaned_columns:\n",
    "    flag_column |= master_catalogue[column]\n",
    "    \n",
    "master_catalogue.add_column(Column(data=flag_column, name=\"vista_flag_cleaned\"))\n",
    "master_catalogue.remove_columns(flag_cleaned_columns)"
   ]
  },
  {
   "cell_type": "markdown",
   "metadata": {},
   "source": [
    "Each pristine catalogue contains a flag indicating the probability of a source being a Gaia object (0: not a Gaia object, 1: possibly, 2: probably, 3: definitely).  We merge these flags taking the highest value."
   ]
  },
  {
   "cell_type": "code",
   "execution_count": 11,
   "metadata": {
    "collapsed": true
   },
   "outputs": [],
   "source": [
    "flag_gaia_columns = [column for column in master_catalogue.colnames\n",
    "                     if 'flag_gaia' in column]\n",
    "\n",
    "master_catalogue.add_column(Column(\n",
    "    data=np.max([master_catalogue[column] for column in flag_gaia_columns], axis=0),\n",
    "    name=\"vista_flag_gaia\"\n",
    "))\n",
    "master_catalogue.remove_columns(flag_gaia_columns)"
   ]
  },
  {
   "cell_type": "markdown",
   "metadata": {},
   "source": [
    "Each prisitine catalogue may contain one or several stellarity columns indicating the probability (0 to 1) of each source being a star.  We merge these columns taking the highest value."
   ]
  },
  {
   "cell_type": "code",
   "execution_count": 12,
   "metadata": {
    "collapsed": true
   },
   "outputs": [],
   "source": [
    "stellarity_columns = [column for column in master_catalogue.colnames\n",
    "                      if 'stellarity' in column]\n",
    "\n",
    "master_catalogue.add_column(Column(\n",
    "    data=np.nanmax([master_catalogue[column] for column in stellarity_columns], axis=0),\n",
    "    name=\"vista_stellarity\"\n",
    "))\n",
    "master_catalogue.remove_columns(stellarity_columns)"
   ]
  },
  {
   "cell_type": "markdown",
   "metadata": {},
   "source": [
    "## VIII - Cross-identification table\n",
    "\n",
    "We are producing a table associating to each HELP identifier, the identifiers of the sources in the pristine catalogue. This can be used to easily get additional information from them."
   ]
  },
  {
   "cell_type": "code",
   "execution_count": 13,
   "metadata": {
    "collapsed": true
   },
   "outputs": [],
   "source": [
    "master_catalogue.add_column(Column(data=np.arange(len(master_catalogue)), \n",
    "                              name=\"vista_intid\"))\n"
   ]
  },
  {
   "cell_type": "code",
   "execution_count": 14,
   "metadata": {},
   "outputs": [
    {
     "name": "stdout",
     "output_type": "stream",
     "text": [
      "['vhs_id', 'vics82_id', 'vista_intid']\n"
     ]
    }
   ],
   "source": [
    "\n",
    "id_names = []\n",
    "for col in master_catalogue.colnames:\n",
    "    if '_id' in col:\n",
    "        id_names += [col]\n",
    "    if '_intid' in col:\n",
    "        id_names += [col]\n",
    "        \n",
    "print(id_names)"
   ]
  },
  {
   "cell_type": "markdown",
   "metadata": {},
   "source": [
    "## VI - Choosing between multiple values for the same filter\n",
    "\n"
   ]
  },
  {
   "cell_type": "code",
   "execution_count": 15,
   "metadata": {
    "collapsed": true
   },
   "outputs": [],
   "source": [
    "vista_origin = Table()\n",
    "vista_origin.add_column(master_catalogue['vista_intid'])"
   ]
  },
  {
   "cell_type": "code",
   "execution_count": 16,
   "metadata": {},
   "outputs": [
    {
     "name": "stderr",
     "output_type": "stream",
     "text": [
      "/opt/anaconda3/envs/herschelhelp_internal/lib/python3.6/site-packages/numpy/core/numeric.py:301: FutureWarning: in the future, full(2, 0) will return an array of dtype('int64')\n",
      "  format(shape, fill_value, array(fill_value).dtype), FutureWarning)\n"
     ]
    }
   ],
   "source": [
    "vista_stats = Table()\n",
    "vista_stats.add_column(Column(data=['j','ks'], name=\"Band\"))\n",
    "for col in [\"VHS\", \"VICS82\"]:\n",
    "    vista_stats.add_column(Column(data=np.full(2, 0), name=\"{}\".format(col)))\n",
    "    vista_stats.add_column(Column(data=np.full(2, 0), name=\"use {}\".format(col)))\n",
    "    vista_stats.add_column(Column(data=np.full(2, 0), name=\"{} ap\".format(col)))\n",
    "    vista_stats.add_column(Column(data=np.full(2, 0), name=\"use {} ap\".format(col)))"
   ]
  },
  {
   "cell_type": "code",
   "execution_count": 17,
   "metadata": {
    "collapsed": true
   },
   "outputs": [],
   "source": [
    "vista_bands = ['j','ks'] # Lowercase naming convention (k is Ks)\n",
    "for band in vista_bands:\n",
    "\n",
    "\n",
    "    # VISTA total flux \n",
    "    has_vhs = ~np.isnan(master_catalogue['f_vhs_' + band.strip('s')])\n",
    "    has_vics82 = ~np.isnan(master_catalogue['f_vista_' + band])\n",
    "\n",
    "    use_vhs = has_vhs \n",
    "    use_vics82 = has_vics82 & ~has_vhs\n",
    "\n",
    "\n",
    "    master_catalogue['f_vista_' + band][use_vhs] = master_catalogue['f_vhs_' + band.strip('s')][use_vhs]\n",
    "    master_catalogue['ferr_vista_' + band][use_vhs] = master_catalogue['ferr_vhs_' + band.strip('s')][use_vhs]\n",
    "    master_catalogue['m_vista_' + band][use_vhs] = master_catalogue['m_vhs_' + band.strip('s')][use_vhs]\n",
    "    master_catalogue['merr_vista_' + band][use_vhs] = master_catalogue['merr_vhs_' + band.strip('s')][use_vhs]\n",
    "    master_catalogue['flag_vista_' + band][use_vhs] = master_catalogue['flag_vhs_' + band.strip('s')][use_vhs]\n",
    "\n",
    "    master_catalogue.remove_columns(['f_vhs_' + band.strip('s'),\n",
    "                               'ferr_vhs_' + band.strip('s'),\n",
    "                               'm_vhs_' + band.strip('s'), \n",
    "                               'merr_vhs_' + band.strip('s'),\n",
    "                               'flag_vhs_' + band.strip('s')])\n",
    "\n",
    "    origin = np.full(len(master_catalogue), '     ', dtype='<U5')\n",
    "    origin[use_vhs] = \"VHS\"\n",
    "    origin[use_vics82] = \"VICS82\"\n",
    "\n",
    "    \n",
    "    vista_origin.add_column(Column(data=origin, name= 'f_vista_' + band ))\n",
    "    \n",
    "    # VISTA aperture flux \n",
    "    has_ap_vhs = ~np.isnan(master_catalogue['f_ap_vhs_' + band.strip('s')])\n",
    "    has_ap_vics82 = ~np.isnan(master_catalogue['f_ap_vista_' + band])\n",
    "\n",
    "    use_ap_vhs = has_ap_vhs \n",
    "    use_ap_vics82 = has_ap_vics82 & ~has_ap_vhs\n",
    "\n",
    "\n",
    "    master_catalogue['f_ap_vista_' + band][use_ap_vhs] = master_catalogue['f_ap_vhs_' + band.strip('s')][use_ap_vhs]\n",
    "    master_catalogue['ferr_ap_vista_' + band][use_ap_vhs] = master_catalogue['ferr_ap_vhs_' + band.strip('s')][use_ap_vhs]\n",
    "    master_catalogue['m_ap_vista_' + band][use_ap_vhs] = master_catalogue['m_ap_vhs_' + band.strip('s')][use_ap_vhs]\n",
    "    master_catalogue['merr_ap_vista_' + band][use_ap_vhs] = master_catalogue['merr_ap_vhs_' + band.strip('s')][use_ap_vhs]\n",
    "  \n",
    "\n",
    "    master_catalogue.remove_columns(['f_ap_vhs_' + band.strip('s'),\n",
    "                               'ferr_ap_vhs_' + band.strip('s'),\n",
    "                               'm_ap_vhs_' + band.strip('s'), \n",
    "                               'merr_ap_vhs_' + band.strip('s')])\n",
    "\n",
    "    origin_ap = np.full(len(master_catalogue), '     ', dtype='<U5')\n",
    "    origin_ap[use_ap_vhs] = \"VHS\"\n",
    "    origin_ap[use_ap_vics82] = \"VICS82\"\n",
    "\n",
    "    \n",
    "    vista_origin.add_column(Column(data=origin_ap, name= 'f_ap_vista_' + band ))   \n",
    "\n",
    "   \n",
    "    vista_stats['VHS'][vista_stats['Band'] == band] = np.sum(has_vhs)\n",
    "    vista_stats['VICS82'][vista_stats['Band'] == band] = np.sum(has_vics82)\n",
    "\n",
    "    vista_stats['use VHS'][vista_stats['Band'] == band] = np.sum(use_vhs)\n",
    "    vista_stats['use VICS82'][vista_stats['Band'] == band] = np.sum(use_vics82)\n",
    "\n",
    "    vista_stats['VHS ap'][vista_stats['Band'] == band] = np.sum(has_ap_vhs)\n",
    "    vista_stats['VICS82 ap'][vista_stats['Band'] == band] = np.sum(has_ap_vics82)\n",
    "\n",
    "    vista_stats['use VHS ap'][vista_stats['Band'] == band] = np.sum(use_ap_vhs)\n",
    "    vista_stats['use VICS82 ap'][vista_stats['Band'] == band] = np.sum(use_ap_vics82)\n"
   ]
  },
  {
   "cell_type": "code",
   "execution_count": 18,
   "metadata": {},
   "outputs": [
    {
     "data": {
      "text/html": [
       "<i>Table length=2</i>\n",
       "<table id=\"table140679676506064-855925\" class=\"table-striped table-bordered table-condensed\">\n",
       "<thead><tr><th>idx</th><th>Band</th><th>VHS</th><th>use VHS</th><th>VHS ap</th><th>use VHS ap</th><th>VICS82</th><th>use VICS82</th><th>VICS82 ap</th><th>use VICS82 ap</th></tr></thead>\n",
       "<tr><td>0</td><td>j</td><td>3245957.0</td><td>3245957.0</td><td>3245540.0</td><td>3245540.0</td><td>1835512.0</td><td>1342797.0</td><td>1809064.0</td><td>1316380.0</td></tr>\n",
       "<tr><td>1</td><td>ks</td><td>2408910.0</td><td>2408910.0</td><td>2406285.0</td><td>2406285.0</td><td>5422089.0</td><td>5004714.0</td><td>5075374.0</td><td>4658049.0</td></tr>\n",
       "</table><style>table.dataTable {clear: both; width: auto !important; margin: 0 !important;}\n",
       ".dataTables_info, .dataTables_length, .dataTables_filter, .dataTables_paginate{\n",
       "display: inline-block; margin-right: 1em; }\n",
       ".paginate_button { margin-right: 5px; }\n",
       "</style>\n",
       "<script>\n",
       "\n",
       "var astropy_sort_num = function(a, b) {\n",
       "    var a_num = parseFloat(a);\n",
       "    var b_num = parseFloat(b);\n",
       "\n",
       "    if (isNaN(a_num) && isNaN(b_num))\n",
       "        return ((a < b) ? -1 : ((a > b) ? 1 : 0));\n",
       "    else if (!isNaN(a_num) && !isNaN(b_num))\n",
       "        return ((a_num < b_num) ? -1 : ((a_num > b_num) ? 1 : 0));\n",
       "    else\n",
       "        return isNaN(a_num) ? -1 : 1;\n",
       "}\n",
       "\n",
       "require.config({paths: {\n",
       "    datatables: 'https://cdn.datatables.net/1.10.12/js/jquery.dataTables.min'\n",
       "}});\n",
       "require([\"datatables\"], function(){\n",
       "    console.log(\"$('#table140679676506064-855925').dataTable()\");\n",
       "    \n",
       "jQuery.extend( jQuery.fn.dataTableExt.oSort, {\n",
       "    \"optionalnum-asc\": astropy_sort_num,\n",
       "    \"optionalnum-desc\": function (a,b) { return -astropy_sort_num(a, b); }\n",
       "});\n",
       "\n",
       "    $('#table140679676506064-855925').dataTable({\n",
       "        order: [],\n",
       "        pageLength: 50,\n",
       "        lengthMenu: [[10, 25, 50, 100, 500, 1000, -1], [10, 25, 50, 100, 500, 1000, 'All']],\n",
       "        pagingType: \"full_numbers\",\n",
       "        columnDefs: [{targets: [0, 2, 3, 4, 5, 6, 7, 8, 9], type: \"optionalnum\"}]\n",
       "    });\n",
       "});\n",
       "</script>\n"
      ],
      "text/plain": [
       "<IPython.core.display.HTML object>"
      ]
     },
     "execution_count": 18,
     "metadata": {},
     "output_type": "execute_result"
    }
   ],
   "source": [
    "vista_stats.show_in_notebook()"
   ]
  },
  {
   "cell_type": "code",
   "execution_count": 19,
   "metadata": {
    "collapsed": true
   },
   "outputs": [],
   "source": [
    "vista_origin.write(\"{}/herschel-stripe-82_vista_fluxes_origins{}.fits\".format(OUT_DIR, SUFFIX), overwrite=True)"
   ]
  },
  {
   "cell_type": "markdown",
   "metadata": {},
   "source": [
    "## Rename old vhs cols"
   ]
  },
  {
   "cell_type": "code",
   "execution_count": 20,
   "metadata": {
    "collapsed": true
   },
   "outputs": [],
   "source": [
    "\n",
    "renaming = OrderedDict({\n",
    "    '_vhs_y': '_vista_y',\n",
    "    '_vhs_h': '_vista_h',\n",
    "\n",
    "})\n",
    "\n",
    "\n",
    "for col in master_catalogue.colnames:\n",
    "    for rename_col in list(renaming):\n",
    "        if rename_col in col:\n",
    "            master_catalogue.rename_column(col, col.replace(rename_col, renaming[rename_col]))"
   ]
  },
  {
   "cell_type": "markdown",
   "metadata": {},
   "source": [
    "## IX - Saving the catalogue"
   ]
  },
  {
   "cell_type": "code",
   "execution_count": 21,
   "metadata": {
    "collapsed": true
   },
   "outputs": [],
   "source": [
    "master_catalogue[\"ra\"].name = \"vista_ra\"\n",
    "master_catalogue[\"dec\"].name = \"vista_dec\"\n",
    "master_catalogue[\"flag_merged\"].name = \"vista_flag_merged\""
   ]
  },
  {
   "cell_type": "code",
   "execution_count": 22,
   "metadata": {
    "collapsed": true
   },
   "outputs": [],
   "source": [
    "columns = [\"vhs_id\", \"vics82_id\", \"vista_intid\",\n",
    "           'vista_ra', 'vista_dec', 'vista_flag_merged',  \n",
    "           'vista_flag_cleaned',  'vista_flag_gaia', 'vista_stellarity']\n",
    "\n",
    "bands = [column[5:] for column in master_catalogue.colnames if 'f_ap' in column]\n",
    "for band in bands:\n",
    "    columns += [\"f_ap_{}\".format(band), \"ferr_ap_{}\".format(band),\n",
    "                \"m_ap_{}\".format(band), \"merr_ap_{}\".format(band),\n",
    "                \"f_{}\".format(band), \"ferr_{}\".format(band),\n",
    "                \"m_{}\".format(band), \"merr_{}\".format(band),\n",
    "                \"flag_{}\".format(band)]    \n"
   ]
  },
  {
   "cell_type": "code",
   "execution_count": 23,
   "metadata": {},
   "outputs": [
    {
     "name": "stdout",
     "output_type": "stream",
     "text": [
      "Missing columns: set()\n"
     ]
    }
   ],
   "source": [
    "# We check for columns in the master catalogue that we will not save to disk.\n",
    "print(\"Missing columns: {}\".format(set(master_catalogue.colnames) - set(columns)))"
   ]
  },
  {
   "cell_type": "code",
   "execution_count": 24,
   "metadata": {},
   "outputs": [
    {
     "data": {
      "text/html": [
       "<i>Table length=10</i>\n",
       "<table id=\"table140678879396920-440787\" class=\"table-striped table-bordered table-condensed\">\n",
       "<thead><tr><th>idx</th><th>vhs_id</th><th>vista_ra</th><th>vista_dec</th><th>m_vista_y</th><th>merr_vista_y</th><th>m_ap_vista_y</th><th>merr_ap_vista_y</th><th>m_vista_h</th><th>merr_vista_h</th><th>m_ap_vista_h</th><th>merr_ap_vista_h</th><th>f_vista_y</th><th>ferr_vista_y</th><th>flag_vista_y</th><th>f_ap_vista_y</th><th>ferr_ap_vista_y</th><th>f_vista_h</th><th>ferr_vista_h</th><th>flag_vista_h</th><th>f_ap_vista_h</th><th>ferr_ap_vista_h</th><th>vista_flag_merged</th><th>vics82_id</th><th>f_wircam_j</th><th>f_vista_j</th><th>ferr_wircam_j</th><th>ferr_vista_j</th><th>m_wircam_j</th><th>m_vista_j</th><th>merr_wircam_j</th><th>merr_vista_j</th><th>flag_wircam_j</th><th>flag_vista_j</th><th>f_ap_wircam_j</th><th>f_ap_vista_j</th><th>ferr_ap_wircam_j</th><th>ferr_ap_vista_j</th><th>m_ap_wircam_j</th><th>m_ap_vista_j</th><th>merr_ap_wircam_j</th><th>merr_ap_vista_j</th><th>f_wircam_ks</th><th>f_vista_ks</th><th>ferr_wircam_ks</th><th>ferr_vista_ks</th><th>m_wircam_ks</th><th>m_vista_ks</th><th>merr_wircam_ks</th><th>merr_vista_ks</th><th>flag_wircam_ks</th><th>flag_vista_ks</th><th>f_ap_wircam_ks</th><th>f_ap_vista_ks</th><th>ferr_ap_wircam_ks</th><th>ferr_ap_vista_ks</th><th>m_ap_wircam_ks</th><th>m_ap_vista_ks</th><th>merr_ap_wircam_ks</th><th>merr_ap_vista_ks</th><th>vista_flag_cleaned</th><th>vista_flag_gaia</th><th>vista_stellarity</th><th>vista_intid</th></tr></thead>\n",
       "<thead><tr><th></th><th></th><th>deg</th><th>deg</th><th></th><th></th><th></th><th></th><th></th><th></th><th></th><th></th><th></th><th></th><th></th><th></th><th></th><th></th><th></th><th></th><th></th><th></th><th></th><th></th><th></th><th></th><th></th><th></th><th></th><th></th><th></th><th></th><th></th><th></th><th></th><th></th><th></th><th></th><th></th><th></th><th></th><th></th><th></th><th></th><th></th><th></th><th></th><th></th><th></th><th></th><th></th><th></th><th></th><th></th><th></th><th></th><th></th><th></th><th></th><th></th><th></th><th></th><th></th><th></th></tr></thead>\n",
       "<tr><td>0</td><td>472552085432</td><td>0.673306346297</td><td>-7.06443580379</td><td>11.2259</td><td>0.000400582</td><td>10.7333</td><td>0.000339089</td><td>11.1059</td><td>0.000370037</td><td>12.1341</td><td>0.00053474</td><td>117397.0</td><td>43.3136</td><td>False</td><td>184788.0</td><td>57.7117</td><td>131105.0</td><td>44.6829</td><td>False</td><td>50856.1</td><td>25.0474</td><td>False</td><td>-1</td><td>nan</td><td>117008.304688</td><td>nan</td><td>39.645652771</td><td>nan</td><td>11.2294578552</td><td>nan</td><td>0.00036787748104</td><td>False</td><td>False</td><td>nan</td><td>79764.9</td><td>nan</td><td>27.8611602783</td><td>nan</td><td>11.6455</td><td>nan</td><td>0.000379237753805</td><td>nan</td><td>40749.1757812</td><td>nan</td><td>39.2363166809</td><td>nan</td><td>12.3747024536</td><td>nan</td><td>0.0010454270523</td><td>False</td><td>False</td><td>nan</td><td>35508.6</td><td>nan</td><td>23.0669689178</td><td>nan</td><td>12.5242</td><td>nan</td><td>0.000705312821083</td><td>False</td><td>3</td><td>0.999980926514</td><td>0</td></tr>\n",
       "<tr><td>1</td><td>472550167438</td><td>354.799219968</td><td>-6.96604497217</td><td>10.8381</td><td>0.000335466</td><td>10.7615</td><td>0.000342863</td><td>11.196</td><td>0.00044863</td><td>11.6947</td><td>0.000423534</td><td>167782.0</td><td>51.8406</td><td>False</td><td>180046.0</td><td>56.8565</td><td>120667.0</td><td>49.8601</td><td>False</td><td>76229.9</td><td>29.7365</td><td>False</td><td>-1</td><td>nan</td><td>142375.328125</td><td>nan</td><td>38.3867149353</td><td>nan</td><td>11.016412735</td><td>nan</td><td>0.000292732205708</td><td>False</td><td>False</td><td>nan</td><td>105076.0</td><td>nan</td><td>32.3030281067</td><td>nan</td><td>11.3462</td><td>nan</td><td>0.00033378295484</td><td>nan</td><td>150226.046875</td><td>nan</td><td>60.6663398743</td><td>nan</td><td>10.9581365585</td><td>nan</td><td>0.000438456889242</td><td>False</td><td>False</td><td>nan</td><td>130026.0</td><td>nan</td><td>46.4335289001</td><td>nan</td><td>11.1149</td><td>nan</td><td>0.000387725478504</td><td>False</td><td>3</td><td>0.999980926514</td><td>1</td></tr>\n",
       "<tr><td>2</td><td>472552084617</td><td>0.438188364583</td><td>-7.02594966115</td><td>10.178</td><td>0.00022813</td><td>10.7626</td><td>0.000352718</td><td>10.2923</td><td>0.00028397</td><td>12.4207</td><td>0.000643061</td><td>308189.0</td><td>64.7553</td><td>False</td><td>179878.0</td><td>58.4361</td><td>277393.0</td><td>72.5511</td><td>False</td><td>39059.1</td><td>23.134</td><td>False</td><td>-1</td><td>nan</td><td>247333.125</td><td>nan</td><td>51.8220443726</td><td>nan</td><td>10.4167938232</td><td>nan</td><td>0.000227486991207</td><td>False</td><td>False</td><td>nan</td><td>67725.0</td><td>nan</td><td>26.6043300629</td><td>nan</td><td>11.8231</td><td>nan</td><td>0.000426508282544</td><td>nan</td><td>111131.65625</td><td>nan</td><td>45.7635650635</td><td>nan</td><td>11.285405159</td><td>nan</td><td>0.000447101745522</td><td>False</td><td>False</td><td>nan</td><td>67331.3</td><td>nan</td><td>32.024772644</td><td>nan</td><td>11.8295</td><td>nan</td><td>0.000516408588737</td><td>False</td><td>3</td><td>0.999980926514</td><td>2</td></tr>\n",
       "<tr><td>3</td><td>472533513039</td><td>350.418456023</td><td>-5.66823053354</td><td>10.9137</td><td>0.000322981</td><td>10.942</td><td>0.000364706</td><td>11.5337</td><td>0.000492512</td><td>11.7255</td><td>0.000409554</td><td>156506.0</td><td>46.5568</td><td>False</td><td>152475.0</td><td>51.2174</td><td>88411.6</td><td>40.1053</td><td>False</td><td>74097.2</td><td>27.9505</td><td>False</td><td>-1</td><td>nan</td><td>128101.617188</td><td>nan</td><td>37.7660675049</td><td>nan</td><td>11.1311130524</td><td>nan</td><td>0.000320089544402</td><td>False</td><td>False</td><td>nan</td><td>109580.0</td><td>nan</td><td>33.9722595215</td><td>nan</td><td>11.3007</td><td>nan</td><td>0.000336603581673</td><td>nan</td><td>80783.078125</td><td>nan</td><td>45.7670707703</td><td>nan</td><td>11.6316986084</td><td>nan</td><td>0.000615116034169</td><td>False</td><td>False</td><td>nan</td><td>78049.1</td><td>nan</td><td>33.2705459595</td><td>nan</td><td>11.6691</td><td>nan</td><td>0.000462824478745</td><td>False</td><td>3</td><td>0.999980926514</td><td>3</td></tr>\n",
       "<tr><td>4</td><td>472552083412</td><td>0.508092945481</td><td>-6.96580681684</td><td>10.484</td><td>0.000259921</td><td>10.8517</td><td>0.000366054</td><td>11.1516</td><td>0.000438414</td><td>11.7072</td><td>0.000447009</td><td>232479.0</td><td>55.6547</td><td>False</td><td>165703.0</td><td>55.8663</td><td>125703.0</td><td>50.758</td><td>False</td><td>75355.3</td><td>31.0245</td><td>False</td><td>-1</td><td>nan</td><td>130655.976562</td><td>nan</td><td>39.8040237427</td><td>nan</td><td>11.1096763611</td><td>nan</td><td>0.000330766895786</td><td>False</td><td>False</td><td>nan</td><td>84069.7</td><td>nan</td><td>29.4394283295</td><td>nan</td><td>11.5884</td><td>nan</td><td>0.000380201876396</td><td>nan</td><td>101252.0625</td><td>nan</td><td>49.4099655151</td><td>nan</td><td>11.3864898682</td><td>nan</td><td>0.000529828073923</td><td>False</td><td>False</td><td>nan</td><td>81022.1</td><td>nan</td><td>34.8193016052</td><td>nan</td><td>11.6285</td><td>nan</td><td>0.000466595723992</td><td>False</td><td>3</td><td>0.999980926514</td><td>4</td></tr>\n",
       "<tr><td>5</td><td>472552083136</td><td>0.360617270106</td><td>-6.95299694223</td><td>10.5721</td><td>0.000280615</td><td>10.9244</td><td>0.00037351</td><td>11.1491</td><td>0.000447647</td><td>12.1906</td><td>0.000554907</td><td>214362.0</td><td>55.4033</td><td>False</td><td>154972.0</td><td>53.3126</td><td>126000.0</td><td>51.9495</td><td>False</td><td>48280.6</td><td>24.6756</td><td>False</td><td>-1</td><td>nan</td><td>150219.171875</td><td>nan</td><td>42.9018821716</td><td>nan</td><td>10.9581861496</td><td>nan</td><td>0.000310081115458</td><td>False</td><td>False</td><td>nan</td><td>69130.9</td><td>nan</td><td>26.1360969543</td><td>nan</td><td>11.8008</td><td>nan</td><td>0.000410480890423</td><td>nan</td><td>89809.40625</td><td>nan</td><td>49.8532371521</td><td>nan</td><td>11.5166950226</td><td>nan</td><td>0.000602692656685</td><td>False</td><td>False</td><td>nan</td><td>74546.5</td><td>nan</td><td>33.2730903625</td><td>nan</td><td>11.7189</td><td>nan</td><td>0.000484607444378</td><td>False</td><td>3</td><td>0.999980926514</td><td>5</td></tr>\n",
       "<tr><td>6</td><td>472534714823</td><td>0.145602876509</td><td>-5.5517686642</td><td>10.3001</td><td>0.000240276</td><td>10.7998</td><td>0.000374242</td><td>11.8628</td><td>0.000783346</td><td>12.5597</td><td>0.000635383</td><td>275388.0</td><td>60.9442</td><td>False</td><td>173818.0</td><td>59.9132</td><td>65296.2</td><td>47.1104</td><td>False</td><td>34366.9</td><td>20.1118</td><td>False</td><td>-1</td><td>nan</td><td>114344.304688</td><td>nan</td><td>33.1602249146</td><td>nan</td><td>11.2544631958</td><td>nan</td><td>0.000314867065754</td><td>False</td><td>False</td><td>nan</td><td>61296.0</td><td>nan</td><td>25.6914329529</td><td>nan</td><td>11.9314</td><td>nan</td><td>0.000455072091427</td><td>nan</td><td>72517.8671875</td><td>nan</td><td>50.32579422</td><td>nan</td><td>11.7488870621</td><td>nan</td><td>0.000753476924729</td><td>False</td><td>False</td><td>nan</td><td>40726.9</td><td>nan</td><td>26.6812896729</td><td>nan</td><td>12.3753</td><td>nan</td><td>0.000711294531357</td><td>False</td><td>3</td><td>0.999980926514</td><td>6</td></tr>\n",
       "<tr><td>7</td><td>472548405385</td><td>357.724882756</td><td>-5.86631118496</td><td>10.5273</td><td>0.000284961</td><td>10.7989</td><td>0.000375849</td><td>11.8271</td><td>0.000596844</td><td>12.7362</td><td>0.000727982</td><td>223395.0</td><td>58.6319</td><td>False</td><td>173957.0</td><td>60.2186</td><td>67477.2</td><td>37.0932</td><td>False</td><td>29208.4</td><td>19.5841</td><td>False</td><td>-1</td><td>nan</td><td>170686.1875</td><td>nan</td><td>50.864566803</td><td>nan</td><td>10.8195037842</td><td>nan</td><td>0.000323549931636</td><td>False</td><td>False</td><td>nan</td><td>97912.1</td><td>nan</td><td>36.0518989563</td><td>nan</td><td>11.4229</td><td>nan</td><td>0.000399775424739</td><td>nan</td><td>99074.640625</td><td>nan</td><td>58.7622146606</td><td>nan</td><td>11.4100933075</td><td>nan</td><td>0.000643961655442</td><td>False</td><td>False</td><td>nan</td><td>67467.9</td><td>nan</td><td>34.5283050537</td><td>nan</td><td>11.8273</td><td>nan</td><td>0.00055565108778</td><td>False</td><td>3</td><td>0.999980926514</td><td>7</td></tr>\n",
       "<tr><td>8</td><td>472552066969</td><td>0.0548805544191</td><td>-5.9566913333</td><td>11.9876</td><td>0.000658944</td><td>10.9307</td><td>0.000376253</td><td>11.5098</td><td>0.000481497</td><td>12.3164</td><td>0.000579876</td><td>58204.3</td><td>35.3247</td><td>False</td><td>154078.0</td><td>53.3943</td><td>90378.6</td><td>40.0807</td><td>False</td><td>42999.1</td><td>22.9652</td><td>False</td><td>-1</td><td>nan</td><td>110846.117188</td><td>nan</td><td>39.3256034851</td><td>nan</td><td>11.2881984711</td><td>nan</td><td>0.000385193765396</td><td>False</td><td>False</td><td>nan</td><td>66913.4</td><td>nan</td><td>25.400220871</td><td>nan</td><td>11.8362</td><td>nan</td><td>0.000412143708672</td><td>nan</td><td>110721.648438</td><td>nan</td><td>51.9528274536</td><td>nan</td><td>11.2894182205</td><td>nan</td><td>0.000509449280798</td><td>False</td><td>False</td><td>nan</td><td>65097.6</td><td>nan</td><td>30.944437027</td><td>nan</td><td>11.8661</td><td>nan</td><td>0.000516109517775</td><td>False</td><td>3</td><td>0.999980926514</td><td>8</td></tr>\n",
       "<tr><td>9</td><td>472533572298</td><td>355.420251023</td><td>-5.50705317979</td><td>9.63508</td><td>0.00018357</td><td>10.7982</td><td>0.000376723</td><td>9.99988</td><td>0.000274352</td><td>13.6404</td><td>0.00119194</td><td>508121.0</td><td>85.9103</td><td>False</td><td>174075.0</td><td>60.3998</td><td>363119.0</td><td>91.7557</td><td>False</td><td>12701.0</td><td>13.9433</td><td>False</td><td>-1</td><td>nan</td><td>272767.90625</td><td>nan</td><td>63.0623779297</td><td>nan</td><td>10.3105163574</td><td>nan</td><td>0.000251015997492</td><td>False</td><td>False</td><td>nan</td><td>58350.3</td><td>nan</td><td>24.928237915</td><td>nan</td><td>11.9849</td><td>nan</td><td>0.000463844975457</td><td>nan</td><td>327705.875</td><td>nan</td><td>91.9141998291</td><td>nan</td><td>10.1112890244</td><td>nan</td><td>0.000304524815874</td><td>False</td><td>False</td><td>nan</td><td>65985.5</td><td>nan</td><td>33.3007049561</td><td>nan</td><td>11.8514</td><td>nan</td><td>0.00054793531308</td><td>False</td><td>3</td><td>0.999980926514</td><td>9</td></tr>\n",
       "</table><style>table.dataTable {clear: both; width: auto !important; margin: 0 !important;}\n",
       ".dataTables_info, .dataTables_length, .dataTables_filter, .dataTables_paginate{\n",
       "display: inline-block; margin-right: 1em; }\n",
       ".paginate_button { margin-right: 5px; }\n",
       "</style>\n",
       "<script>\n",
       "\n",
       "var astropy_sort_num = function(a, b) {\n",
       "    var a_num = parseFloat(a);\n",
       "    var b_num = parseFloat(b);\n",
       "\n",
       "    if (isNaN(a_num) && isNaN(b_num))\n",
       "        return ((a < b) ? -1 : ((a > b) ? 1 : 0));\n",
       "    else if (!isNaN(a_num) && !isNaN(b_num))\n",
       "        return ((a_num < b_num) ? -1 : ((a_num > b_num) ? 1 : 0));\n",
       "    else\n",
       "        return isNaN(a_num) ? -1 : 1;\n",
       "}\n",
       "\n",
       "require.config({paths: {\n",
       "    datatables: 'https://cdn.datatables.net/1.10.12/js/jquery.dataTables.min'\n",
       "}});\n",
       "require([\"datatables\"], function(){\n",
       "    console.log(\"$('#table140678879396920-440787').dataTable()\");\n",
       "    \n",
       "jQuery.extend( jQuery.fn.dataTableExt.oSort, {\n",
       "    \"optionalnum-asc\": astropy_sort_num,\n",
       "    \"optionalnum-desc\": function (a,b) { return -astropy_sort_num(a, b); }\n",
       "});\n",
       "\n",
       "    $('#table140678879396920-440787').dataTable({\n",
       "        order: [],\n",
       "        pageLength: 50,\n",
       "        lengthMenu: [[10, 25, 50, 100, 500, 1000, -1], [10, 25, 50, 100, 500, 1000, 'All']],\n",
       "        pagingType: \"full_numbers\",\n",
       "        columnDefs: [{targets: [0, 1, 2, 3, 4, 5, 6, 7, 8, 9, 10, 11, 12, 13, 15, 16, 17, 18, 20, 21, 24, 25, 26, 27, 28, 29, 30, 31, 34, 35, 36, 37, 38, 39, 40, 41, 42, 43, 44, 45, 46, 47, 48, 49, 52, 53, 54, 55, 56, 57, 58, 59, 61, 62, 63], type: \"optionalnum\"}]\n",
       "    });\n",
       "});\n",
       "</script>\n"
      ],
      "text/plain": [
       "<IPython.core.display.HTML object>"
      ]
     },
     "execution_count": 24,
     "metadata": {},
     "output_type": "execute_result"
    }
   ],
   "source": [
    "master_catalogue[:10].show_in_notebook()"
   ]
  },
  {
   "cell_type": "code",
   "execution_count": 25,
   "metadata": {
    "collapsed": true
   },
   "outputs": [],
   "source": [
    "master_catalogue[columns].write(\"{}/vista_merged_catalogue_herschel-stripe-82.fits\".format(TMP_DIR), overwrite=True)"
   ]
  }
 ],
 "metadata": {
  "kernelspec": {
   "display_name": "Python (herschelhelp_internal)",
   "language": "python",
   "name": "helpint"
  },
  "language_info": {
   "codemirror_mode": {
    "name": "ipython",
    "version": 3
   },
   "file_extension": ".py",
   "mimetype": "text/x-python",
   "name": "python",
   "nbconvert_exporter": "python",
   "pygments_lexer": "ipython3",
   "version": "3.6.1"
  }
 },
 "nbformat": 4,
 "nbformat_minor": 2
}
