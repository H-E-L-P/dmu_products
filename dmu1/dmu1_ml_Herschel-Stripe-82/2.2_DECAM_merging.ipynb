{
 "cells": [
  {
   "cell_type": "markdown",
   "metadata": {},
   "source": [
    "# Herschel Stripe 82 DECAM merging\n",
    "\n",
    "Both DES and DECaLS provide DECam fluxes which have overlapping coverage. We chose which to use DES preferentially. In this notebook we cross match both catalogues and take the DES fluxes where available, using DECaLS otherwise"
   ]
  },
  {
   "cell_type": "code",
   "execution_count": 1,
   "metadata": {},
   "outputs": [
    {
     "name": "stdout",
     "output_type": "stream",
     "text": [
      "This notebook was run with herschelhelp_internal version: \n",
      "0246c5d (Thu Jan 25 17:01:47 2018 +0000) [with local modifications]\n",
      "This notebook was executed on: \n",
      "2018-02-23 15:38:22.712743\n"
     ]
    }
   ],
   "source": [
    "from herschelhelp_internal import git_version\n",
    "print(\"This notebook was run with herschelhelp_internal version: \\n{}\".format(git_version()))\n",
    "import datetime\n",
    "print(\"This notebook was executed on: \\n{}\".format(datetime.datetime.now()))"
   ]
  },
  {
   "cell_type": "code",
   "execution_count": 2,
   "metadata": {},
   "outputs": [],
   "source": [
    "%matplotlib inline\n",
    "#%config InlineBackend.figure_format = 'svg'\n",
    "\n",
    "import matplotlib.pyplot as plt\n",
    "plt.rc('figure', figsize=(10, 6))\n",
    "\n",
    "import os\n",
    "import time\n",
    "\n",
    "from astropy import units as u\n",
    "from astropy.coordinates import SkyCoord\n",
    "from astropy.table import Column, Table\n",
    "import numpy as np\n",
    "from pymoc import MOC\n",
    "\n",
    "from herschelhelp_internal.masterlist import merge_catalogues, nb_merge_dist_plot\n",
    "from herschelhelp_internal.utils import coords_to_hpidx, ebv, gen_help_id, inMoc"
   ]
  },
  {
   "cell_type": "code",
   "execution_count": 3,
   "metadata": {
    "collapsed": true
   },
   "outputs": [],
   "source": [
    "TMP_DIR = os.environ.get('TMP_DIR', \"./data_tmp\")\n",
    "OUT_DIR = os.environ.get('OUT_DIR', \"./data\")\n",
    "SUFFIX = os.environ.get('SUFFIX', time.strftime(\"_%Y%m%d\"))\n",
    "\n",
    "try:\n",
    "    os.makedirs(OUT_DIR)\n",
    "except FileExistsError:\n",
    "    pass"
   ]
  },
  {
   "cell_type": "markdown",
   "metadata": {},
   "source": [
    "## I - Reading the prepared pristine catalogues"
   ]
  },
  {
   "cell_type": "code",
   "execution_count": 4,
   "metadata": {
    "collapsed": true
   },
   "outputs": [],
   "source": [
    "des = Table.read(\"{}/DES.fits\".format(TMP_DIR))\n",
    "decals = Table.read(\"{}/DECaLS.fits\".format(TMP_DIR))"
   ]
  },
  {
   "cell_type": "code",
   "execution_count": 5,
   "metadata": {
    "collapsed": true
   },
   "outputs": [],
   "source": [
    "for col in des.colnames:\n",
    "    if '_decam_' in col:\n",
    "        des[col].name = col.replace('_decam_', '_des-decam_')\n",
    "        \n",
    "for col in decals.colnames:\n",
    "    if '_decam_' in col:\n",
    "        decals[col].name = col.replace('_decam_', '_decals-decam_')"
   ]
  },
  {
   "cell_type": "markdown",
   "metadata": {},
   "source": [
    "## II - Merging tables\n",
    "\n",
    "We first merge DES and DECaLS.\n",
    "\n",
    "At every step, we look at the distribution of the distances separating the sources from one catalogue to the other (within a maximum radius) to determine the best cross-matching radius."
   ]
  },
  {
   "cell_type": "markdown",
   "metadata": {},
   "source": [
    "### DES"
   ]
  },
  {
   "cell_type": "code",
   "execution_count": 6,
   "metadata": {
    "collapsed": true
   },
   "outputs": [],
   "source": [
    "master_catalogue = des\n",
    "master_catalogue['des_ra'].name = 'ra'\n",
    "master_catalogue['des_dec'].name = 'dec'\n"
   ]
  },
  {
   "cell_type": "markdown",
   "metadata": {},
   "source": [
    "## Add DECaLS"
   ]
  },
  {
   "cell_type": "code",
   "execution_count": 7,
   "metadata": {
    "scrolled": true
   },
   "outputs": [
    {
     "data": {
      "image/png": "[encoded data removed]",
      "text/plain": [
       "<matplotlib.figure.Figure at 0x7f5a8c6ecc88>"
      ]
     },
     "metadata": {},
     "output_type": "display_data"
    }
   ],
   "source": [
    "nb_merge_dist_plot(\n",
    "    SkyCoord(master_catalogue['ra'], master_catalogue['dec']),\n",
    "    SkyCoord(decals['decals_ra'], decals['decals_dec'])\n",
    ")"
   ]
  },
  {
   "cell_type": "code",
   "execution_count": 8,
   "metadata": {
    "collapsed": true
   },
   "outputs": [],
   "source": [
    "# Given the graph above, we use 0.8 arc-second radius\n",
    "master_catalogue = merge_catalogues(master_catalogue, decals, \"decals_ra\", \"decals_dec\", radius=0.8*u.arcsec)\n"
   ]
  },
  {
   "cell_type": "markdown",
   "metadata": {},
   "source": [
    "### Cleaning\n",
    "\n",
    "When we merge the catalogues, astropy masks the non-existent values (e.g. when a row comes only from a catalogue and has no counterparts in the other, the columns from the latest are masked for that row). We indicate to use NaN for masked values for floats columns, False for flag columns and -1 for ID columns."
   ]
  },
  {
   "cell_type": "code",
   "execution_count": 9,
   "metadata": {
    "collapsed": true
   },
   "outputs": [],
   "source": [
    "for col in master_catalogue.colnames:\n",
    "    if (col.startswith(\"m_\")  \n",
    "        or col.startswith(\"merr_\") \n",
    "        or col.startswith(\"f_\")\n",
    "        or col.startswith(\"ferr_\")\n",
    "        or \"stellarity\" in col):\n",
    "        master_catalogue[col].fill_value = np.nan\n",
    "    elif \"flag\" in col:\n",
    "        master_catalogue[col].fill_value = 0\n",
    "    elif \"id\" in col:\n",
    "        master_catalogue[col].fill_value = -1\n",
    "        \n",
    "master_catalogue = master_catalogue.filled()"
   ]
  },
  {
   "cell_type": "code",
   "execution_count": 10,
   "metadata": {},
   "outputs": [
    {
     "data": {
      "text/html": [
       "&lt;Table length=10&gt;\n",
       "<table id=\"table140026579904496-584841\" class=\"table-striped table-bordered table-condensed\">\n",
       "<thead><tr><th>idx</th><th>des_id</th><th>ra</th><th>dec</th><th>des_stellarity</th><th>m_des-decam_g</th><th>merr_des-decam_g</th><th>m_ap_des-decam_g</th><th>merr_ap_des-decam_g</th><th>m_des-decam_r</th><th>merr_des-decam_r</th><th>m_ap_des-decam_r</th><th>merr_ap_des-decam_r</th><th>m_des-decam_i</th><th>merr_des-decam_i</th><th>m_ap_des-decam_i</th><th>merr_ap_des-decam_i</th><th>m_des-decam_z</th><th>merr_des-decam_z</th><th>m_ap_des-decam_z</th><th>merr_ap_des-decam_z</th><th>m_des-decam_y</th><th>merr_des-decam_y</th><th>m_ap_des-decam_y</th><th>merr_ap_des-decam_y</th><th>f_des-decam_g</th><th>ferr_des-decam_g</th><th>flag_des-decam_g</th><th>f_ap_des-decam_g</th><th>ferr_ap_des-decam_g</th><th>f_des-decam_r</th><th>ferr_des-decam_r</th><th>flag_des-decam_r</th><th>f_ap_des-decam_r</th><th>ferr_ap_des-decam_r</th><th>f_des-decam_i</th><th>ferr_des-decam_i</th><th>flag_des-decam_i</th><th>f_ap_des-decam_i</th><th>ferr_ap_des-decam_i</th><th>f_des-decam_z</th><th>ferr_des-decam_z</th><th>flag_des-decam_z</th><th>f_ap_des-decam_z</th><th>ferr_ap_des-decam_z</th><th>f_des-decam_y</th><th>ferr_des-decam_y</th><th>flag_des-decam_y</th><th>f_ap_des-decam_y</th><th>ferr_ap_des-decam_y</th><th>des_flag_cleaned</th><th>des_flag_gaia</th><th>flag_merged</th><th>decals_id</th><th>f_decals-decam_g</th><th>f_decals-decam_r</th><th>f_decals-decam_z</th><th>ferr_decals-decam_g</th><th>ferr_decals-decam_r</th><th>ferr_decals-decam_z</th><th>f_ap_decals-decam_g</th><th>f_ap_decals-decam_r</th><th>f_ap_decals-decam_z</th><th>ferr_ap_decals-decam_g</th><th>ferr_ap_decals-decam_r</th><th>ferr_ap_decals-decam_z</th><th>m_decals-decam_g</th><th>merr_decals-decam_g</th><th>flag_decals-decam_g</th><th>m_decals-decam_r</th><th>merr_decals-decam_r</th><th>flag_decals-decam_r</th><th>m_decals-decam_z</th><th>merr_decals-decam_z</th><th>flag_decals-decam_z</th><th>m_ap_decals-decam_g</th><th>merr_ap_decals-decam_g</th><th>m_ap_decals-decam_r</th><th>merr_ap_decals-decam_r</th><th>m_ap_decals-decam_z</th><th>merr_ap_decals-decam_z</th><th>decals_stellarity</th><th>decals_flag_cleaned</th><th>decals_flag_gaia</th></tr></thead>\n",
       "<thead><tr><th></th><th></th><th>deg</th><th>deg</th><th></th><th></th><th></th><th></th><th></th><th></th><th></th><th></th><th></th><th></th><th></th><th></th><th></th><th></th><th></th><th></th><th></th><th></th><th></th><th></th><th></th><th></th><th></th><th></th><th></th><th></th><th></th><th></th><th></th><th></th><th></th><th></th><th></th><th></th><th></th><th></th><th></th><th></th><th></th><th></th><th></th><th></th><th></th><th></th><th></th><th></th><th></th><th></th><th></th><th></th><th></th><th></th><th></th><th></th><th></th><th></th><th></th><th></th><th></th><th></th><th></th><th></th><th></th><th></th><th></th><th></th><th></th><th></th><th></th><th></th><th></th><th></th><th></th><th></th><th></th><th></th><th></th><th></th><th></th><th></th></tr></thead>\n",
       "<tr><td>0</td><td>64025141</td><td>29.9625519246</td><td>1.85748200299</td><td>0.999808073044</td><td>14.7785787582</td><td>0.000169810955413</td><td>14.7558808327</td><td>0.000194271895452</td><td>17.2212200165</td><td>0.00187869311776</td><td>19.5404887199</td><td>0.00573418522254</td><td>17.2754516602</td><td>0.00269640679471</td><td>19.7815818787</td><td>0.00845393631607</td><td>16.8895683289</td><td>0.00280157546513</td><td>19.2856321335</td><td>0.00837686192244</td><td>14.114730835</td><td>0.000847931951284</td><td>14.2826442719</td><td>0.000454342749435</td><td>4452.13676257</td><td>0.696321623951</td><td>False</td><td>4546.19088549</td><td>0.813454609455</td><td>469.366396087</td><td>0.812163593856</td><td>False</td><td>55.4376116741</td><td>0.292787080546</td><td>446.497812932</td><td>1.10886947616</td><td>False</td><td>44.3983927369</td><td>0.345702006702</td><td>637.048750837</td><td>1.6438064261</td><td>False</td><td>70.1047018468</td><td>0.54088406089</td><td>8205.54943026</td><td>6.40832230635</td><td>False</td><td>7029.78902343</td><td>2.94172162525</td><td>False</td><td>3</td><td>False</td><td>-1</td><td>nan</td><td>nan</td><td>nan</td><td>nan</td><td>nan</td><td>nan</td><td>nan</td><td>nan</td><td>nan</td><td>nan</td><td>nan</td><td>nan</td><td>nan</td><td>nan</td><td>False</td><td>nan</td><td>nan</td><td>False</td><td>nan</td><td>nan</td><td>False</td><td>nan</td><td>nan</td><td>nan</td><td>nan</td><td>nan</td><td>nan</td><td>nan</td><td>False</td><td>0</td></tr>\n",
       "<tr><td>1</td><td>125273261</td><td>350.182969925</td><td>-1.11147799701</td><td>0.999714136124</td><td>15.1518802643</td><td>0.000227634664043</td><td>15.1361632347</td><td>0.000221034570131</td><td>16.8090610504</td><td>0.00155073637143</td><td>19.2481913567</td><td>0.00433425419033</td><td>16.0775794983</td><td>0.00140306528192</td><td>18.8761940002</td><td>0.00271435640752</td><td>15.1594200134</td><td>0.00107244541869</td><td>18.0925111771</td><td>0.00231030769646</td><td>13.5575237274</td><td>0.000720222247764</td><td>15.9740076065</td><td>0.00179049849976</td><td>3156.80600679</td><td>0.661853654373</td><td>False</td><td>3202.83603515</td><td>0.652034521027</td><td>686.081296182</td><td>0.979916866623</td><td>False</td><td>72.5643747192</td><td>0.289676667147</td><td>1345.76181292</td><td>1.73908880367</td><td>False</td><td>102.216828031</td><td>0.255543566574</td><td>3134.95993312</td><td>3.09658405357</td><td>False</td><td>210.375678262</td><td>0.447652520482</td><td>13708.5180757</td><td>9.09353456093</td><td>False</td><td>1480.46095297</td><td>2.44144305369</td><td>False</td><td>2</td><td>False</td><td>-1</td><td>nan</td><td>nan</td><td>nan</td><td>nan</td><td>nan</td><td>nan</td><td>nan</td><td>nan</td><td>nan</td><td>nan</td><td>nan</td><td>nan</td><td>nan</td><td>nan</td><td>False</td><td>nan</td><td>nan</td><td>False</td><td>nan</td><td>nan</td><td>False</td><td>nan</td><td>nan</td><td>nan</td><td>nan</td><td>nan</td><td>nan</td><td>nan</td><td>False</td><td>0</td></tr>\n",
       "<tr><td>2</td><td>278039760</td><td>12.5945959246</td><td>-1.16716099701</td><td>0.999854385853</td><td>14.6528301239</td><td>0.000183248586836</td><td>14.8702502251</td><td>0.000221354886889</td><td>16.9759902954</td><td>0.00172981689684</td><td>19.466565609</td><td>0.00482370331883</td><td>16.7956581116</td><td>0.00238565751351</td><td>19.3058948517</td><td>0.00429996615276</td><td>16.3071155548</td><td>0.00273376447149</td><td>18.9444150925</td><td>0.00722197024152</td><td>13.2948598862</td><td>0.00049654772738</td><td>13.7064313889</td><td>0.000373695016606</td><td>4998.82519913</td><td>0.843692647964</td><td>False</td><td>4091.66350011</td><td>0.834189471888</td><td>588.306818403</td><td>0.937302330475</td><td>False</td><td>59.3435819269</td><td>0.263651365624</td><td>694.603161007</td><td>1.52623191776</td><td>False</td><td>68.8084950626</td><td>0.272510208736</td><td>1089.31573771</td><td>2.74277734217</td><td>False</td><td>95.9917618823</td><td>0.638506521848</td><td>17460.4746512</td><td>7.98532734659</td><td>False</td><td>11951.6383858</td><td>4.11358457558</td><td>False</td><td>3</td><td>False</td><td>-1</td><td>nan</td><td>nan</td><td>nan</td><td>nan</td><td>nan</td><td>nan</td><td>nan</td><td>nan</td><td>nan</td><td>nan</td><td>nan</td><td>nan</td><td>nan</td><td>nan</td><td>False</td><td>nan</td><td>nan</td><td>False</td><td>nan</td><td>nan</td><td>False</td><td>nan</td><td>nan</td><td>nan</td><td>nan</td><td>nan</td><td>nan</td><td>nan</td><td>False</td><td>0</td></tr>\n",
       "<tr><td>3</td><td>124464173</td><td>350.223941925</td><td>-1.03165599701</td><td>0.99947810173</td><td>15.1947107315</td><td>0.000207046119613</td><td>15.0811648369</td><td>0.000222441987717</td><td>17.5170555115</td><td>0.00186967174523</td><td>19.7459197044</td><td>0.00501962518319</td><td>17.5804328918</td><td>0.00345048541203</td><td>19.976228714</td><td>0.0100552951917</td><td>17.2997150421</td><td>0.00509228464216</td><td>19.8798894882</td><td>0.0175628159195</td><td>14.0906438828</td><td>0.000809056509752</td><td>14.184463501</td><td>0.000440186529886</td><td>3034.69959976</td><td>0.578706663338</td><td>False</td><td>3369.25642522</td><td>0.690281942399</td><td>357.419131687</td><td>0.61548693761</td><td>False</td><td>45.8809200502</td><td>0.212118763935</td><td>337.152856274</td><td>1.0714766691</td><td>False</td><td>37.1115005183</td><td>0.343699593956</td><td>436.630413437</td><td>2.04786976698</td><td>False</td><td>40.554981228</td><td>0.656015399326</td><td>8389.62302494</td><td>6.25168350557</td><td>False</td><td>7695.10587595</td><td>3.11980197197</td><td>False</td><td>3</td><td>False</td><td>-1</td><td>nan</td><td>nan</td><td>nan</td><td>nan</td><td>nan</td><td>nan</td><td>nan</td><td>nan</td><td>nan</td><td>nan</td><td>nan</td><td>nan</td><td>nan</td><td>nan</td><td>False</td><td>nan</td><td>nan</td><td>False</td><td>nan</td><td>nan</td><td>False</td><td>nan</td><td>nan</td><td>nan</td><td>nan</td><td>nan</td><td>nan</td><td>nan</td><td>False</td><td>0</td></tr>\n",
       "<tr><td>4</td><td>130230378</td><td>351.415346925</td><td>1.87702600299</td><td>0.998991191387</td><td>14.9056921005</td><td>0.000195541215362</td><td>14.9805378914</td><td>0.000224062023335</td><td>17.6380367279</td><td>0.00301924091764</td><td>20.1785273552</td><td>0.0102714905515</td><td>17.7257061005</td><td>0.00469403807074</td><td>20.5073833466</td><td>0.0116493497044</td><td>16.8361034393</td><td>0.00477426266298</td><td>19.4756746292</td><td>0.0202348567545</td><td>13.7598619461</td><td>0.000596803438384</td><td>13.9582595825</td><td>0.000316018849844</td><td>3960.25508054</td><td>0.713242395527</td><td>False</td><td>3696.45006258</td><td>0.762831778611</td><td>319.731414375</td><td>0.889116679267</td><td>False</td><td>30.8027192791</td><td>0.291405811698</td><td>294.929055367</td><td>1.27508708652</td><td>False</td><td>22.7534188445</td><td>0.244131614961</td><td>669.204148053</td><td>2.94266357146</td><td>False</td><td>58.8477887191</td><td>1.09674575632</td><td>11377.7194699</td><td>6.25406251613</td><td>False</td><td>9477.55180503</td><td>2.75857524842</td><td>False</td><td>3</td><td>False</td><td>-1</td><td>nan</td><td>nan</td><td>nan</td><td>nan</td><td>nan</td><td>nan</td><td>nan</td><td>nan</td><td>nan</td><td>nan</td><td>nan</td><td>nan</td><td>nan</td><td>nan</td><td>False</td><td>nan</td><td>nan</td><td>False</td><td>nan</td><td>nan</td><td>False</td><td>nan</td><td>nan</td><td>nan</td><td>nan</td><td>nan</td><td>nan</td><td>nan</td><td>False</td><td>0</td></tr>\n",
       "<tr><td>5</td><td>125271997</td><td>350.189563925</td><td>-1.07921499701</td><td>0.999656677246</td><td>15.2366323471</td><td>0.000178719463293</td><td>15.1774258614</td><td>0.000225004710956</td><td>15.670337677</td><td>0.000333801406668</td><td>16.0585188866</td><td>0.000419546006015</td><td>17.6967372894</td><td>0.00285653304309</td><td>19.8003787994</td><td>0.00898702256382</td><td>17.1761665344</td><td>0.00308970664628</td><td>19.1479387283</td><td>0.0083083268255</td><td>14.3715171814</td><td>0.00065900653135</td><td>14.4830179214</td><td>0.000531471858267</td><td>2919.75937216</td><td>0.480611980745</td><td>False</td><td>3083.3984905</td><td>0.638994244711</td><td>1958.23554401</td><td>0.602044747439</td><td>False</td><td>1369.59589412</td><td>0.529233974803</td><td>302.904052854</td><td>0.796929707299</td><td>False</td><td>43.6363564028</td><td>0.361193555005</td><td>489.252874826</td><td>1.39227913045</td><td>False</td><td>79.5837700371</td><td>0.608995047393</td><td>6477.28680534</td><td>3.93150222996</td><td>False</td><td>5845.11192184</td><td>2.86120374476</td><td>False</td><td>3</td><td>False</td><td>-1</td><td>nan</td><td>nan</td><td>nan</td><td>nan</td><td>nan</td><td>nan</td><td>nan</td><td>nan</td><td>nan</td><td>nan</td><td>nan</td><td>nan</td><td>nan</td><td>nan</td><td>False</td><td>nan</td><td>nan</td><td>False</td><td>nan</td><td>nan</td><td>False</td><td>nan</td><td>nan</td><td>nan</td><td>nan</td><td>nan</td><td>nan</td><td>nan</td><td>False</td><td>0</td></tr>\n",
       "<tr><td>6</td><td>151263822</td><td>9.51886492456</td><td>-0.503593997014</td><td>0.845424950123</td><td>10.1274814606</td><td>2.4180399123e-05</td><td>14.4322495461</td><td>0.000228617340326</td><td>11.0937128067</td><td>8.24249582365e-05</td><td>15.8367571831</td><td>0.000699366501067</td><td>10.6394586563</td><td>5.41493391211e-05</td><td>15.4549951553</td><td>0.000364116334822</td><td>9.72600460052</td><td>4.30989530287e-05</td><td>15.176738739</td><td>0.000438172894064</td><td>8.09609889984</td><td>4.03733611165e-05</td><td>13.3980407715</td><td>0.000499342859257</td><td>322854.925016</td><td>7.19029255126</td><td>False</td><td>6124.91662932</td><td>1.2896891007</td><td>132591.253783</td><td>10.0658230864</td><td>False</td><td>1679.95298112</td><td>1.08212550453</td><td>201472.853499</td><td>10.0481330732</td><td>False</td><td>2387.82193759</td><td>0.800788412797</td><td>467302.559554</td><td>18.549856748</td><td>False</td><td>3085.35047713</td><td>1.24516152436</td><td>2096816.57057</td><td>77.9706269606</td><td>False</td><td>15877.557398</td><td>7.30227551996</td><td>False</td><td>3</td><td>False</td><td>-1</td><td>nan</td><td>nan</td><td>nan</td><td>nan</td><td>nan</td><td>nan</td><td>nan</td><td>nan</td><td>nan</td><td>nan</td><td>nan</td><td>nan</td><td>nan</td><td>nan</td><td>False</td><td>nan</td><td>nan</td><td>False</td><td>nan</td><td>nan</td><td>False</td><td>nan</td><td>nan</td><td>nan</td><td>nan</td><td>nan</td><td>nan</td><td>nan</td><td>False</td><td>0</td></tr>\n",
       "<tr><td>7</td><td>292002933</td><td>16.1387559246</td><td>1.36683300299</td><td>0.99982213974</td><td>14.4036531448</td><td>0.000151048778207</td><td>14.558786869</td><td>0.000237461281358</td><td>23.896692276</td><td>0.247304558754</td><td>23.9118304253</td><td>0.21365173161</td><td>23.6705913544</td><td>0.30189666152</td><td>23.6847858429</td><td>0.246412307024</td><td>23.7938518524</td><td>0.73362249136</td><td>23.4903230667</td><td>0.444746315479</td><td>22.5242786407</td><td>0.514801621437</td><td>23.0775537491</td><td>0.783761262894</td><td>6288.37948301</td><td>0.874846057126</td><td>False</td><td>5451.11384673</td><td>1.19221268776</td><td>1.00305117177</td><td>0.228470899611</td><td>False</td><td>0.989162924483</td><td>0.194647991597</td><td>1.23527444869</td><td>0.343476832113</td><td>False</td><td>1.21923006344</td><td>0.276709288507</td><td>1.10270478477</td><td>0.74508801299</td><td>False</td><td>1.45838024673</td><td>0.597391188081</td><td>3.5504920431</td><td>1.68346514805</td><td>False</td><td>2.13293931993</td><td>1.53970661358</td><td>False</td><td>0</td><td>False</td><td>-1</td><td>nan</td><td>nan</td><td>nan</td><td>nan</td><td>nan</td><td>nan</td><td>nan</td><td>nan</td><td>nan</td><td>nan</td><td>nan</td><td>nan</td><td>nan</td><td>nan</td><td>False</td><td>nan</td><td>nan</td><td>False</td><td>nan</td><td>nan</td><td>False</td><td>nan</td><td>nan</td><td>nan</td><td>nan</td><td>nan</td><td>nan</td><td>nan</td><td>False</td><td>0</td></tr>\n",
       "<tr><td>8</td><td>274386086</td><td>11.0999129246</td><td>-2.24584499701</td><td>0.999629318714</td><td>14.9358043671</td><td>0.000219804016524</td><td>15.0216193199</td><td>0.000240925248363</td><td>18.4033470154</td><td>0.00997930578887</td><td>21.2871031761</td><td>0.0282916780561</td><td>18.4270687103</td><td>0.0150788715109</td><td>nan</td><td>nan</td><td>17.8213825226</td><td>0.0137659432366</td><td>nan</td><td>nan</td><td>14.3300542831</td><td>0.00181356165558</td><td>14.6675138474</td><td>0.000884802953806</td><td>3851.92881998</td><td>0.779811359598</td><td>False</td><td>3559.19901077</td><td>0.789787521025</td><td>158.00149413</td><td>1.45223602023</td><td>False</td><td>11.0958027978</td><td>0.289129973885</td><td>154.586838671</td><td>2.146925807</td><td>False</td><td>nan</td><td>nan</td><td>270.051746896</td><td>3.42395970811</td><td>False</td><td>nan</td><td>nan</td><td>6729.43010566</td><td>11.2405171257</td><td>False</td><td>4931.67514115</td><td>4.01898795764</td><td>False</td><td>3</td><td>False</td><td>-1</td><td>nan</td><td>nan</td><td>nan</td><td>nan</td><td>nan</td><td>nan</td><td>nan</td><td>nan</td><td>nan</td><td>nan</td><td>nan</td><td>nan</td><td>nan</td><td>nan</td><td>False</td><td>nan</td><td>nan</td><td>False</td><td>nan</td><td>nan</td><td>False</td><td>nan</td><td>nan</td><td>nan</td><td>nan</td><td>nan</td><td>nan</td><td>nan</td><td>False</td><td>0</td></tr>\n",
       "<tr><td>9</td><td>180643112</td><td>2.86622592456</td><td>-1.85332099701</td><td>0.991942048073</td><td>15.3159294128</td><td>0.000190608901903</td><td>15.2903485298</td><td>0.000242083653575</td><td>15.2398939133</td><td>0.000374391995138</td><td>15.4639391899</td><td>0.00047834625002</td><td>17.2679481506</td><td>0.00168150593527</td><td>19.0739631653</td><td>0.00507848663256</td><td>17.1943645477</td><td>0.00260830437765</td><td>19.1691942215</td><td>0.00990327075124</td><td>14.2692079544</td><td>0.000533778569661</td><td>14.4239225388</td><td>0.000441804499133</td><td>2714.11493514</td><td>0.476482653114</td><td>False</td><td>2778.82110126</td><td>0.619586195869</td><td>2911.00153665</td><td>1.00379417061</td><td>False</td><td>2368.2324305</td><td>1.04337968776</td><td>449.594241176</td><td>0.696297481548</td><td>False</td><td>85.1951229259</td><td>0.398496698408</td><td>481.12085319</td><td>1.15581448058</td><td>False</td><td>78.0409075807</td><td>0.711830584682</td><td>7117.32533877</td><td>3.49907806564</td><td>False</td><td>6172.07201188</td><td>2.5115209126</td><td>False</td><td>3</td><td>False</td><td>-1</td><td>nan</td><td>nan</td><td>nan</td><td>nan</td><td>nan</td><td>nan</td><td>nan</td><td>nan</td><td>nan</td><td>nan</td><td>nan</td><td>nan</td><td>nan</td><td>nan</td><td>False</td><td>nan</td><td>nan</td><td>False</td><td>nan</td><td>nan</td><td>False</td><td>nan</td><td>nan</td><td>nan</td><td>nan</td><td>nan</td><td>nan</td><td>nan</td><td>False</td><td>0</td></tr>\n",
       "</table><style>table.dataTable {clear: both; width: auto !important; margin: 0 !important;}\n",
       ".dataTables_info, .dataTables_length, .dataTables_filter, .dataTables_paginate{\n",
       "display: inline-block; margin-right: 1em; }\n",
       ".paginate_button { margin-right: 5px; }\n",
       "</style>\n",
       "<script>\n",
       "require.config({paths: {\n",
       "    datatables: 'https://cdn.datatables.net/1.10.12/js/jquery.dataTables.min'\n",
       "}});\n",
       "require([\"datatables\"], function(){\n",
       "    console.log(\"$('#table140026579904496-584841').dataTable()\");\n",
       "    $('#table140026579904496-584841').dataTable({\n",
       "        \"order\": [],\n",
       "        \"iDisplayLength\": 50,\n",
       "        \"aLengthMenu\": [[10, 25, 50, 100, 500, 1000, -1], [10, 25, 50, 100, 500, 1000, 'All']],\n",
       "        \"pagingType\": \"full_numbers\"\n",
       "    });\n",
       "});\n",
       "</script>\n"
      ],
      "text/plain": [
       "<IPython.core.display.HTML object>"
      ]
     },
     "execution_count": 10,
     "metadata": {},
     "output_type": "execute_result"
    }
   ],
   "source": [
    "master_catalogue[:10].show_in_notebook()"
   ]
  },
  {
   "cell_type": "markdown",
   "metadata": {},
   "source": [
    "## III - Merging flags and stellarity\n",
    "\n",
    "Each pristine catalogue contains a flag indicating if the source was associated to a another nearby source that was removed during the cleaning process.  We merge these flags in a single one."
   ]
  },
  {
   "cell_type": "code",
   "execution_count": 11,
   "metadata": {
    "collapsed": true
   },
   "outputs": [],
   "source": [
    "flag_cleaned_columns = [column for column in master_catalogue.colnames\n",
    "                        if 'flag_cleaned' in column]\n",
    "\n",
    "flag_column = np.zeros(len(master_catalogue), dtype=bool)\n",
    "for column in flag_cleaned_columns:\n",
    "    flag_column |= master_catalogue[column]\n",
    "    \n",
    "master_catalogue.add_column(Column(data=flag_column, name=\"decam_flag_cleaned\"))\n",
    "master_catalogue.remove_columns(flag_cleaned_columns)"
   ]
  },
  {
   "cell_type": "markdown",
   "metadata": {},
   "source": [
    "Each pristine catalogue contains a flag indicating the probability of a source being a Gaia object (0: not a Gaia object, 1: possibly, 2: probably, 3: definitely).  We merge these flags taking the highest value."
   ]
  },
  {
   "cell_type": "code",
   "execution_count": 12,
   "metadata": {
    "collapsed": true
   },
   "outputs": [],
   "source": [
    "flag_gaia_columns = [column for column in master_catalogue.colnames\n",
    "                     if 'flag_gaia' in column]\n",
    "\n",
    "master_catalogue.add_column(Column(\n",
    "    data=np.max([master_catalogue[column] for column in flag_gaia_columns], axis=0),\n",
    "    name=\"decam_flag_gaia\"\n",
    "))\n",
    "master_catalogue.remove_columns(flag_gaia_columns)"
   ]
  },
  {
   "cell_type": "markdown",
   "metadata": {},
   "source": [
    "Each prisitine catalogue may contain one or several stellarity columns indicating the probability (0 to 1) of each source being a star.  We merge these columns taking the highest value."
   ]
  },
  {
   "cell_type": "code",
   "execution_count": 13,
   "metadata": {
    "collapsed": true
   },
   "outputs": [],
   "source": [
    "stellarity_columns = [column for column in master_catalogue.colnames\n",
    "                      if 'stellarity' in column]\n",
    "\n",
    "master_catalogue.add_column(Column(\n",
    "    data=np.nanmax([master_catalogue[column] for column in stellarity_columns], axis=0),\n",
    "    name=\"decam_stellarity\"\n",
    "))\n",
    "master_catalogue.remove_columns(stellarity_columns)"
   ]
  },
  {
   "cell_type": "markdown",
   "metadata": {},
   "source": [
    "## VIII - Cross-identification table\n",
    "\n",
    "We are producing a table associating to each HELP identifier, the identifiers of the sources in the pristine catalogue. This can be used to easily get additional information from them."
   ]
  },
  {
   "cell_type": "code",
   "execution_count": 14,
   "metadata": {
    "collapsed": true
   },
   "outputs": [],
   "source": [
    "master_catalogue.add_column(Column(data=np.arange(len(master_catalogue)), \n",
    "                              name=\"decam_intid\"))\n"
   ]
  },
  {
   "cell_type": "code",
   "execution_count": 15,
   "metadata": {},
   "outputs": [
    {
     "name": "stdout",
     "output_type": "stream",
     "text": [
      "['des_id', 'decals_id', 'decam_intid']\n"
     ]
    }
   ],
   "source": [
    "\n",
    "id_names = []\n",
    "for col in master_catalogue.colnames:\n",
    "    if '_id' in col:\n",
    "        id_names += [col]\n",
    "    if '_intid' in col:\n",
    "        id_names += [col]\n",
    "        \n",
    "print(id_names)"
   ]
  },
  {
   "cell_type": "markdown",
   "metadata": {},
   "source": [
    "## VI - Choosing between multiple values for the same filter\n",
    "\n"
   ]
  },
  {
   "cell_type": "code",
   "execution_count": 16,
   "metadata": {
    "collapsed": true
   },
   "outputs": [],
   "source": [
    "decam_origin = Table()\n",
    "decam_origin.add_column(master_catalogue['decam_intid'])"
   ]
  },
  {
   "cell_type": "code",
   "execution_count": 17,
   "metadata": {
    "collapsed": true
   },
   "outputs": [
    {
     "name": "stderr",
     "output_type": "stream",
     "text": [
      "/opt/anaconda3/envs/herschelhelp_internal/lib/python3.6/site-packages/numpy/core/numeric.py:301: FutureWarning: in the future, full(5, 0) will return an array of dtype('int64')\n",
      "  format(shape, fill_value, array(fill_value).dtype), FutureWarning)\n"
     ]
    }
   ],
   "source": [
    "decam_stats = Table()\n",
    "decam_stats.add_column(Column(data=['g','r','i','z','y'], name=\"Band\"))\n",
    "for col in [\"DES\", \"DECaLS\"]:\n",
    "    decam_stats.add_column(Column(data=np.full(5, 0), name=\"{}\".format(col)))\n",
    "    decam_stats.add_column(Column(data=np.full(5, 0), name=\"use {}\".format(col)))\n",
    "    decam_stats.add_column(Column(data=np.full(5, 0), name=\"{} ap\".format(col)))\n",
    "    decam_stats.add_column(Column(data=np.full(5, 0), name=\"use {} ap\".format(col)))"
   ]
  },
  {
   "cell_type": "code",
   "execution_count": 18,
   "metadata": {},
   "outputs": [],
   "source": [
    "decam_bands = ['g','r','i','z','y'] # Lowercase naming convention (k is Ks)\n",
    "for band in decam_bands:\n",
    "    if (band == 'i') or (band == 'y'):\n",
    "        master_catalogue[\"f_des-decam_{}\".format(band)].name = \"f_decam_{}\".format(band)\n",
    "        master_catalogue[\"ferr_des-decam_{}\".format(band)].name = \"ferr_decam_{}\".format(band)\n",
    "        master_catalogue[\"m_des-decam_{}\".format(band)].name = \"m_decam_{}\".format(band)\n",
    "        master_catalogue[\"merr_des-decam_{}\".format(band)].name = \"merr_decam_{}\".format(band)\n",
    "        master_catalogue[\"f_ap_des-decam_{}\".format(band)].name = \"f_ap_decam_{}\".format(band)\n",
    "        master_catalogue[\"ferr_ap_des-decam_{}\".format(band)].name = \"ferr_ap_decam_{}\".format(band)\n",
    "        master_catalogue[\"m_ap_des-decam_{}\".format(band)].name = \"m_ap_decam_{}\".format(band)\n",
    "        master_catalogue[\"merr_ap_des-decam_{}\".format(band)].name = \"merr_ap_decam_{}\".format(band)\n",
    "        master_catalogue[\"flag_des-decam_{}\".format(band)].name = \"flag_decam_{}\".format(band)\n",
    "        \n",
    "        continue\n",
    "\n",
    "    # DECam total flux \n",
    "    has_des = ~np.isnan(master_catalogue['f_des-decam_' + band])\n",
    "    has_decals = ~np.isnan(master_catalogue['f_decals-decam_' + band])\n",
    "\n",
    "    use_des = has_des \n",
    "    use_decals = has_decals & ~has_des\n",
    "\n",
    "\n",
    "    f_decam = np.full(len(master_catalogue), np.nan)\n",
    "    f_decam[use_des] = master_catalogue['f_des-decam_' + band][use_des]\n",
    "    f_decam[use_decals] = master_catalogue['f_decals-decam_' + band][use_decals]\n",
    "\n",
    "    ferr_decam = np.full(len(master_catalogue), np.nan)\n",
    "    ferr_decam[use_des] = master_catalogue['ferr_des-decam_' + band][use_des]\n",
    "    ferr_decam[use_decals] = master_catalogue['ferr_decals-decam_' + band][use_decals]\n",
    "    \n",
    "    m_decam = np.full(len(master_catalogue), np.nan)\n",
    "    m_decam[use_des] = master_catalogue['m_des-decam_' + band][use_des]\n",
    "    m_decam[use_decals] = master_catalogue['m_decals-decam_' + band][use_decals]\n",
    "    \n",
    "    merr_decam = np.full(len(master_catalogue), np.nan)\n",
    "    merr_decam[use_des] = master_catalogue['merr_des-decam_' + band][use_des]\n",
    "    merr_decam[use_decals] = master_catalogue['merr_decals-decam_' + band][use_decals]\n",
    "    \n",
    "    flag_decam = np.full(len(master_catalogue), False, dtype=bool)\n",
    "    flag_decam[use_des] = master_catalogue['flag_des-decam_' + band][use_des]\n",
    "    flag_decam[use_decals] = master_catalogue['flag_decals-decam_' + band][use_decals]\n",
    "\n",
    "    master_catalogue.add_column(Column(data=f_decam, name=\"f_decam_\" + band))\n",
    "    master_catalogue.add_column(Column(data=ferr_decam, name=\"ferr_decam_\" + band))\n",
    "    master_catalogue.add_column(Column(data=m_decam, name=\"m_decam_\" + band))\n",
    "    master_catalogue.add_column(Column(data=merr_decam, name=\"merr_decam_\" + band))\n",
    "    master_catalogue.add_column(Column(data=flag_decam, name=\"flag_decam_\" + band))\n",
    "\n",
    "\n",
    "    old_des_columns = ['f_des-decam_' + band,\n",
    "                               'ferr_des-decam_' + band,\n",
    "                               'm_des-decam_' + band, \n",
    "                               'merr_des-decam_' + band,\n",
    "                               'flag_des-decam_' + band]\n",
    "    old_decals_columns =      ['f_decals-decam_' + band,\n",
    "                               'ferr_decals-decam_' + band,\n",
    "                               'm_decals-decam_' + band, \n",
    "                               'merr_decals-decam_' + band,\n",
    "                               'flag_decals-decam_' + band]\n",
    "    \n",
    "    old_columns = old_des_columns + old_decals_columns\n",
    "    master_catalogue.remove_columns(old_columns)\n",
    "\n",
    "    origin = np.full(len(master_catalogue), '     ', dtype='<U5')\n",
    "    origin[use_des] = \"DES\"\n",
    "    origin[use_decals] = \"DECaLS\"\n",
    "\n",
    "    \n",
    "    decam_origin.add_column(Column(data=origin, name= 'f_decam_' + band ))\n",
    "    \n",
    "    # DECam aperture flux \n",
    " \n",
    "    has_ap_des = ~np.isnan(master_catalogue['f_ap_des-decam_' + band])\n",
    "    has_ap_decals = ~np.isnan(master_catalogue['f_ap_decals-decam_' + band])\n",
    "\n",
    "    use_ap_des = has_ap_des \n",
    "    use_ap_decals = has_ap_decals & ~has_ap_des\n",
    "\n",
    "\n",
    "    f_ap_decam = np.full(len(master_catalogue), np.nan)\n",
    "    f_ap_decam[use_ap_des] = master_catalogue['f_ap_des-decam_' + band][use_ap_des]\n",
    "    f_ap_decam[use_ap_decals] = master_catalogue['f_ap_decals-decam_' + band][use_ap_decals]\n",
    "\n",
    "    ferr_ap_decam = np.full(len(master_catalogue), np.nan)\n",
    "    ferr_ap_decam[use_ap_des] = master_catalogue['ferr_ap_des-decam_' + band][use_ap_des]\n",
    "    ferr_ap_decam[use_ap_decals] = master_catalogue['ferr_ap_decals-decam_' + band][use_ap_decals]\n",
    "    \n",
    "    m_ap_decam = np.full(len(master_catalogue), np.nan)\n",
    "    m_ap_decam[use_ap_des] = master_catalogue['m_ap_des-decam_' + band][use_ap_des]\n",
    "    m_ap_decam[use_ap_decals] = master_catalogue['m_ap_decals-decam_' + band][use_ap_decals]\n",
    "    \n",
    "    merr_ap_decam = np.full(len(master_catalogue), np.nan)\n",
    "    merr_ap_decam[use_ap_des] = master_catalogue['merr_ap_des-decam_' + band][use_ap_des]\n",
    "    merr_ap_decam[use_ap_decals] = master_catalogue['merr_ap_decals-decam_' + band][use_ap_decals]\n",
    "    \n",
    "\n",
    "    master_catalogue.add_column(Column(data=f_ap_decam, name=\"f_ap_decam_\" + band))\n",
    "    master_catalogue.add_column(Column(data=ferr_ap_decam, name=\"ferr_ap_decam_\" + band))\n",
    "    master_catalogue.add_column(Column(data=m_ap_decam, name=\"m_ap_decam_\" + band))\n",
    "    master_catalogue.add_column(Column(data=merr_ap_decam, name=\"merr_ap_decam_\" + band))\n",
    "  \n",
    "\n",
    "\n",
    "    old_ap_des_columns = ['f_ap_des-decam_' + band,\n",
    "                               'ferr_ap_des-decam_' + band,\n",
    "                               'm_ap_des-decam_' + band, \n",
    "                               'merr_ap_des-decam_' + band]\n",
    "    old_ap_decals_columns =      ['f_ap_decals-decam_' + band,\n",
    "                               'ferr_ap_decals-decam_' + band,\n",
    "                               'm_ap_decals-decam_' + band, \n",
    "                               'merr_ap_decals-decam_' + band]\n",
    "    \n",
    "    old_ap_columns = old_ap_des_columns + old_ap_decals_columns\n",
    "    master_catalogue.remove_columns(old_ap_columns)\n",
    "\n",
    "    origin_ap = np.full(len(master_catalogue), '     ', dtype='<U5')\n",
    "    origin_ap[use_ap_des] = \"DES\"\n",
    "    origin_ap[use_ap_decals] = \"DECaLS\"\n",
    "\n",
    "    \n",
    "    decam_origin.add_column(Column(data=origin_ap, name= 'f_ap_decam_' + band ))    \n",
    "\n",
    "   \n",
    "    decam_stats['DES'][decam_stats['Band'] == band] = np.sum(has_des)\n",
    "    decam_stats['DECaLS'][decam_stats['Band'] == band] = np.sum(has_decals)\n",
    "\n",
    "    decam_stats['use DES'][decam_stats['Band'] == band] = np.sum(use_des)\n",
    "    decam_stats['use DECaLS'][decam_stats['Band'] == band] = np.sum(use_decals)\n",
    "\n",
    "    decam_stats['DES ap'][decam_stats['Band'] == band] = np.sum(has_ap_des)\n",
    "    decam_stats['DECaLS ap'][decam_stats['Band'] == band] = np.sum(has_ap_decals)\n",
    "\n",
    "    decam_stats['use DES ap'][decam_stats['Band'] == band] = np.sum(use_ap_des)\n",
    "    decam_stats['use DECaLS ap'][decam_stats['Band'] == band] = np.sum(use_ap_decals)\n"
   ]
  },
  {
   "cell_type": "code",
   "execution_count": 19,
   "metadata": {},
   "outputs": [
    {
     "data": {
      "text/html": [
       "&lt;Table length=5&gt;\n",
       "<table id=\"table140026302054240-352730\" class=\"table-striped table-bordered table-condensed\">\n",
       "<thead><tr><th>idx</th><th>Band</th><th>DES</th><th>use DES</th><th>DES ap</th><th>use DES ap</th><th>DECaLS</th><th>use DECaLS</th><th>DECaLS ap</th><th>use DECaLS ap</th></tr></thead>\n",
       "<tr><td>0</td><td>g</td><td>17916439.0</td><td>17916439.0</td><td>18075684.0</td><td>18075684.0</td><td>23814977.0</td><td>7378586.0</td><td>22206932.0</td><td>6140393.0</td></tr>\n",
       "<tr><td>1</td><td>r</td><td>18364250.0</td><td>18364250.0</td><td>18386425.0</td><td>18386425.0</td><td>23839774.0</td><td>7068402.0</td><td>22971963.0</td><td>6354364.0</td></tr>\n",
       "<tr><td>2</td><td>i</td><td>0.0</td><td>0.0</td><td>0.0</td><td>0.0</td><td>0.0</td><td>0.0</td><td>0.0</td><td>0.0</td></tr>\n",
       "<tr><td>3</td><td>z</td><td>18240782.0</td><td>18240782.0</td><td>18320913.0</td><td>18320913.0</td><td>24032002.0</td><td>7309679.0</td><td>22011790.0</td><td>5699597.0</td></tr>\n",
       "<tr><td>4</td><td>y</td><td>0.0</td><td>0.0</td><td>0.0</td><td>0.0</td><td>0.0</td><td>0.0</td><td>0.0</td><td>0.0</td></tr>\n",
       "</table><style>table.dataTable {clear: both; width: auto !important; margin: 0 !important;}\n",
       ".dataTables_info, .dataTables_length, .dataTables_filter, .dataTables_paginate{\n",
       "display: inline-block; margin-right: 1em; }\n",
       ".paginate_button { margin-right: 5px; }\n",
       "</style>\n",
       "<script>\n",
       "require.config({paths: {\n",
       "    datatables: 'https://cdn.datatables.net/1.10.12/js/jquery.dataTables.min'\n",
       "}});\n",
       "require([\"datatables\"], function(){\n",
       "    console.log(\"$('#table140026302054240-352730').dataTable()\");\n",
       "    $('#table140026302054240-352730').dataTable({\n",
       "        \"order\": [],\n",
       "        \"iDisplayLength\": 50,\n",
       "        \"aLengthMenu\": [[10, 25, 50, 100, 500, 1000, -1], [10, 25, 50, 100, 500, 1000, 'All']],\n",
       "        \"pagingType\": \"full_numbers\"\n",
       "    });\n",
       "});\n",
       "</script>\n"
      ],
      "text/plain": [
       "<IPython.core.display.HTML object>"
      ]
     },
     "execution_count": 19,
     "metadata": {},
     "output_type": "execute_result"
    }
   ],
   "source": [
    "decam_stats.show_in_notebook()"
   ]
  },
  {
   "cell_type": "code",
   "execution_count": 20,
   "metadata": {
    "collapsed": true
   },
   "outputs": [],
   "source": [
    "decam_origin.write(\"{}/herschel-stripe-82_decam_fluxes_origins{}.fits\".format(OUT_DIR, SUFFIX), overwrite=True)"
   ]
  },
  {
   "cell_type": "markdown",
   "metadata": {},
   "source": [
    "## IX - Saving the catalogue"
   ]
  },
  {
   "cell_type": "code",
   "execution_count": 21,
   "metadata": {},
   "outputs": [
    {
     "data": {
      "text/plain": [
       "['des_id',\n",
       " 'ra',\n",
       " 'dec',\n",
       " 'm_decam_i',\n",
       " 'merr_decam_i',\n",
       " 'm_ap_decam_i',\n",
       " 'merr_ap_decam_i',\n",
       " 'm_decam_y',\n",
       " 'merr_decam_y',\n",
       " 'm_ap_decam_y',\n",
       " 'merr_ap_decam_y',\n",
       " 'f_decam_i',\n",
       " 'ferr_decam_i',\n",
       " 'flag_decam_i',\n",
       " 'f_ap_decam_i',\n",
       " 'ferr_ap_decam_i',\n",
       " 'f_decam_y',\n",
       " 'ferr_decam_y',\n",
       " 'flag_decam_y',\n",
       " 'f_ap_decam_y',\n",
       " 'ferr_ap_decam_y',\n",
       " 'flag_merged',\n",
       " 'decals_id',\n",
       " 'decam_flag_cleaned',\n",
       " 'decam_flag_gaia',\n",
       " 'decam_stellarity',\n",
       " 'decam_intid',\n",
       " 'f_decam_g',\n",
       " 'ferr_decam_g',\n",
       " 'm_decam_g',\n",
       " 'merr_decam_g',\n",
       " 'flag_decam_g',\n",
       " 'f_ap_decam_g',\n",
       " 'ferr_ap_decam_g',\n",
       " 'm_ap_decam_g',\n",
       " 'merr_ap_decam_g',\n",
       " 'f_decam_r',\n",
       " 'ferr_decam_r',\n",
       " 'm_decam_r',\n",
       " 'merr_decam_r',\n",
       " 'flag_decam_r',\n",
       " 'f_ap_decam_r',\n",
       " 'ferr_ap_decam_r',\n",
       " 'm_ap_decam_r',\n",
       " 'merr_ap_decam_r',\n",
       " 'f_decam_z',\n",
       " 'ferr_decam_z',\n",
       " 'm_decam_z',\n",
       " 'merr_decam_z',\n",
       " 'flag_decam_z',\n",
       " 'f_ap_decam_z',\n",
       " 'ferr_ap_decam_z',\n",
       " 'm_ap_decam_z',\n",
       " 'merr_ap_decam_z']"
      ]
     },
     "execution_count": 21,
     "metadata": {},
     "output_type": "execute_result"
    }
   ],
   "source": [
    "master_catalogue.colnames"
   ]
  },
  {
   "cell_type": "code",
   "execution_count": 22,
   "metadata": {
    "collapsed": true
   },
   "outputs": [],
   "source": [
    "master_catalogue[\"ra\"].name = \"decam_ra\"\n",
    "master_catalogue[\"dec\"].name = \"decam_dec\"\n",
    "master_catalogue[\"flag_merged\"].name = \"decam_flag_merged\""
   ]
  },
  {
   "cell_type": "code",
   "execution_count": 23,
   "metadata": {
    "collapsed": true
   },
   "outputs": [],
   "source": [
    "columns = [\"decam_intid\", \"des_id\", \"decals_id\",\n",
    "           'decam_ra', 'decam_dec', 'decam_flag_merged',  \n",
    "           'decam_flag_cleaned',  'decam_flag_gaia', 'decam_stellarity']\n",
    "\n",
    "bands = [column[5:] for column in master_catalogue.colnames if 'f_ap' in column]\n",
    "for band in bands:\n",
    "    columns += [\"f_ap_{}\".format(band), \"ferr_ap_{}\".format(band),\n",
    "                \"m_ap_{}\".format(band), \"merr_ap_{}\".format(band),\n",
    "                \"f_{}\".format(band), \"ferr_{}\".format(band),\n",
    "                \"m_{}\".format(band), \"merr_{}\".format(band),\n",
    "                \"flag_{}\".format(band)]    \n"
   ]
  },
  {
   "cell_type": "code",
   "execution_count": 24,
   "metadata": {},
   "outputs": [
    {
     "name": "stdout",
     "output_type": "stream",
     "text": [
      "Missing columns: set()\n"
     ]
    }
   ],
   "source": [
    "# We check for columns in the master catalogue that we will not save to disk.\n",
    "print(\"Missing columns: {}\".format(set(master_catalogue.colnames) - set(columns)))"
   ]
  },
  {
   "cell_type": "code",
   "execution_count": 25,
   "metadata": {},
   "outputs": [
    {
     "data": {
      "text/html": [
       "&lt;Table length=10&gt;\n",
       "<table id=\"table140026301668936-74888\" class=\"table-striped table-bordered table-condensed\">\n",
       "<thead><tr><th>idx</th><th>des_id</th><th>decam_ra</th><th>decam_dec</th><th>m_decam_i</th><th>merr_decam_i</th><th>m_ap_decam_i</th><th>merr_ap_decam_i</th><th>m_decam_y</th><th>merr_decam_y</th><th>m_ap_decam_y</th><th>merr_ap_decam_y</th><th>f_decam_i</th><th>ferr_decam_i</th><th>flag_decam_i</th><th>f_ap_decam_i</th><th>ferr_ap_decam_i</th><th>f_decam_y</th><th>ferr_decam_y</th><th>flag_decam_y</th><th>f_ap_decam_y</th><th>ferr_ap_decam_y</th><th>decam_flag_merged</th><th>decals_id</th><th>decam_flag_cleaned</th><th>decam_flag_gaia</th><th>decam_stellarity</th><th>decam_intid</th><th>f_decam_g</th><th>ferr_decam_g</th><th>m_decam_g</th><th>merr_decam_g</th><th>flag_decam_g</th><th>f_ap_decam_g</th><th>ferr_ap_decam_g</th><th>m_ap_decam_g</th><th>merr_ap_decam_g</th><th>f_decam_r</th><th>ferr_decam_r</th><th>m_decam_r</th><th>merr_decam_r</th><th>flag_decam_r</th><th>f_ap_decam_r</th><th>ferr_ap_decam_r</th><th>m_ap_decam_r</th><th>merr_ap_decam_r</th><th>f_decam_z</th><th>ferr_decam_z</th><th>m_decam_z</th><th>merr_decam_z</th><th>flag_decam_z</th><th>f_ap_decam_z</th><th>ferr_ap_decam_z</th><th>m_ap_decam_z</th><th>merr_ap_decam_z</th></tr></thead>\n",
       "<thead><tr><th></th><th></th><th>deg</th><th>deg</th><th></th><th></th><th></th><th></th><th></th><th></th><th></th><th></th><th></th><th></th><th></th><th></th><th></th><th></th><th></th><th></th><th></th><th></th><th></th><th></th><th></th><th></th><th></th><th></th><th></th><th></th><th></th><th></th><th></th><th></th><th></th><th></th><th></th><th></th><th></th><th></th><th></th><th></th><th></th><th></th><th></th><th></th><th></th><th></th><th></th><th></th><th></th><th></th><th></th><th></th><th></th></tr></thead>\n",
       "<tr><td>0</td><td>64025141</td><td>29.9625519246</td><td>1.85748200299</td><td>17.2754516602</td><td>0.00269640679471</td><td>19.7815818787</td><td>0.00845393631607</td><td>14.114730835</td><td>0.000847931951284</td><td>14.2826442719</td><td>0.000454342749435</td><td>446.497812932</td><td>1.10886947616</td><td>False</td><td>44.3983927369</td><td>0.345702006702</td><td>8205.54943026</td><td>6.40832230635</td><td>False</td><td>7029.78902343</td><td>2.94172162525</td><td>False</td><td>-1</td><td>False</td><td>3</td><td>0.999808073044</td><td>0</td><td>4452.13676257</td><td>0.696321623951</td><td>14.7785787582</td><td>0.000169810955413</td><td>False</td><td>4546.19088549</td><td>0.813454609455</td><td>14.7558808327</td><td>0.000194271895452</td><td>469.366396087</td><td>0.812163593856</td><td>17.2212200165</td><td>0.00187869311776</td><td>False</td><td>55.4376116741</td><td>0.292787080546</td><td>19.5404887199</td><td>0.00573418522254</td><td>637.048750837</td><td>1.6438064261</td><td>16.8895683289</td><td>0.00280157546513</td><td>False</td><td>70.1047018468</td><td>0.54088406089</td><td>19.2856321335</td><td>0.00837686192244</td></tr>\n",
       "<tr><td>1</td><td>125273261</td><td>350.182969925</td><td>-1.11147799701</td><td>16.0775794983</td><td>0.00140306528192</td><td>18.8761940002</td><td>0.00271435640752</td><td>13.5575237274</td><td>0.000720222247764</td><td>15.9740076065</td><td>0.00179049849976</td><td>1345.76181292</td><td>1.73908880367</td><td>False</td><td>102.216828031</td><td>0.255543566574</td><td>13708.5180757</td><td>9.09353456093</td><td>False</td><td>1480.46095297</td><td>2.44144305369</td><td>False</td><td>-1</td><td>False</td><td>2</td><td>0.999714136124</td><td>1</td><td>3156.80600679</td><td>0.661853654373</td><td>15.1518802643</td><td>0.000227634664043</td><td>False</td><td>3202.83603515</td><td>0.652034521027</td><td>15.1361632347</td><td>0.000221034570131</td><td>686.081296182</td><td>0.979916866623</td><td>16.8090610504</td><td>0.00155073637143</td><td>False</td><td>72.5643747192</td><td>0.289676667147</td><td>19.2481913567</td><td>0.00433425419033</td><td>3134.95993312</td><td>3.09658405357</td><td>15.1594200134</td><td>0.00107244541869</td><td>False</td><td>210.375678262</td><td>0.447652520482</td><td>18.0925111771</td><td>0.00231030769646</td></tr>\n",
       "<tr><td>2</td><td>278039760</td><td>12.5945959246</td><td>-1.16716099701</td><td>16.7956581116</td><td>0.00238565751351</td><td>19.3058948517</td><td>0.00429996615276</td><td>13.2948598862</td><td>0.00049654772738</td><td>13.7064313889</td><td>0.000373695016606</td><td>694.603161007</td><td>1.52623191776</td><td>False</td><td>68.8084950626</td><td>0.272510208736</td><td>17460.4746512</td><td>7.98532734659</td><td>False</td><td>11951.6383858</td><td>4.11358457558</td><td>False</td><td>-1</td><td>False</td><td>3</td><td>0.999854385853</td><td>2</td><td>4998.82519913</td><td>0.843692647964</td><td>14.6528301239</td><td>0.000183248586836</td><td>False</td><td>4091.66350011</td><td>0.834189471888</td><td>14.8702502251</td><td>0.000221354886889</td><td>588.306818403</td><td>0.937302330475</td><td>16.9759902954</td><td>0.00172981689684</td><td>False</td><td>59.3435819269</td><td>0.263651365624</td><td>19.466565609</td><td>0.00482370331883</td><td>1089.31573771</td><td>2.74277734217</td><td>16.3071155548</td><td>0.00273376447149</td><td>False</td><td>95.9917618823</td><td>0.638506521848</td><td>18.9444150925</td><td>0.00722197024152</td></tr>\n",
       "<tr><td>3</td><td>124464173</td><td>350.223941925</td><td>-1.03165599701</td><td>17.5804328918</td><td>0.00345048541203</td><td>19.976228714</td><td>0.0100552951917</td><td>14.0906438828</td><td>0.000809056509752</td><td>14.184463501</td><td>0.000440186529886</td><td>337.152856274</td><td>1.0714766691</td><td>False</td><td>37.1115005183</td><td>0.343699593956</td><td>8389.62302494</td><td>6.25168350557</td><td>False</td><td>7695.10587595</td><td>3.11980197197</td><td>False</td><td>-1</td><td>False</td><td>3</td><td>0.99947810173</td><td>3</td><td>3034.69959976</td><td>0.578706663338</td><td>15.1947107315</td><td>0.000207046119613</td><td>False</td><td>3369.25642522</td><td>0.690281942399</td><td>15.0811648369</td><td>0.000222441987717</td><td>357.419131687</td><td>0.61548693761</td><td>17.5170555115</td><td>0.00186967174523</td><td>False</td><td>45.8809200502</td><td>0.212118763935</td><td>19.7459197044</td><td>0.00501962518319</td><td>436.630413437</td><td>2.04786976698</td><td>17.2997150421</td><td>0.00509228464216</td><td>False</td><td>40.554981228</td><td>0.656015399326</td><td>19.8798894882</td><td>0.0175628159195</td></tr>\n",
       "<tr><td>4</td><td>130230378</td><td>351.415346925</td><td>1.87702600299</td><td>17.7257061005</td><td>0.00469403807074</td><td>20.5073833466</td><td>0.0116493497044</td><td>13.7598619461</td><td>0.000596803438384</td><td>13.9582595825</td><td>0.000316018849844</td><td>294.929055367</td><td>1.27508708652</td><td>False</td><td>22.7534188445</td><td>0.244131614961</td><td>11377.7194699</td><td>6.25406251613</td><td>False</td><td>9477.55180503</td><td>2.75857524842</td><td>False</td><td>-1</td><td>False</td><td>3</td><td>0.998991191387</td><td>4</td><td>3960.25508054</td><td>0.713242395527</td><td>14.9056921005</td><td>0.000195541215362</td><td>False</td><td>3696.45006258</td><td>0.762831778611</td><td>14.9805378914</td><td>0.000224062023335</td><td>319.731414375</td><td>0.889116679267</td><td>17.6380367279</td><td>0.00301924091764</td><td>False</td><td>30.8027192791</td><td>0.291405811698</td><td>20.1785273552</td><td>0.0102714905515</td><td>669.204148053</td><td>2.94266357146</td><td>16.8361034393</td><td>0.00477426266298</td><td>False</td><td>58.8477887191</td><td>1.09674575632</td><td>19.4756746292</td><td>0.0202348567545</td></tr>\n",
       "<tr><td>5</td><td>125271997</td><td>350.189563925</td><td>-1.07921499701</td><td>17.6967372894</td><td>0.00285653304309</td><td>19.8003787994</td><td>0.00898702256382</td><td>14.3715171814</td><td>0.00065900653135</td><td>14.4830179214</td><td>0.000531471858267</td><td>302.904052854</td><td>0.796929707299</td><td>False</td><td>43.6363564028</td><td>0.361193555005</td><td>6477.28680534</td><td>3.93150222996</td><td>False</td><td>5845.11192184</td><td>2.86120374476</td><td>False</td><td>-1</td><td>False</td><td>3</td><td>0.999656677246</td><td>5</td><td>2919.75937216</td><td>0.480611980745</td><td>15.2366323471</td><td>0.000178719463293</td><td>False</td><td>3083.3984905</td><td>0.638994244711</td><td>15.1774258614</td><td>0.000225004710956</td><td>1958.23554401</td><td>0.602044747439</td><td>15.670337677</td><td>0.000333801406668</td><td>False</td><td>1369.59589412</td><td>0.529233974803</td><td>16.0585188866</td><td>0.000419546006015</td><td>489.252874826</td><td>1.39227913045</td><td>17.1761665344</td><td>0.00308970664628</td><td>False</td><td>79.5837700371</td><td>0.608995047393</td><td>19.1479387283</td><td>0.0083083268255</td></tr>\n",
       "<tr><td>6</td><td>151263822</td><td>9.51886492456</td><td>-0.503593997014</td><td>10.6394586563</td><td>5.41493391211e-05</td><td>15.4549951553</td><td>0.000364116334822</td><td>8.09609889984</td><td>4.03733611165e-05</td><td>13.3980407715</td><td>0.000499342859257</td><td>201472.853499</td><td>10.0481330732</td><td>False</td><td>2387.82193759</td><td>0.800788412797</td><td>2096816.57057</td><td>77.9706269606</td><td>False</td><td>15877.557398</td><td>7.30227551996</td><td>False</td><td>-1</td><td>False</td><td>3</td><td>0.845424950123</td><td>6</td><td>322854.925016</td><td>7.19029255126</td><td>10.1274814606</td><td>2.4180399123e-05</td><td>False</td><td>6124.91662932</td><td>1.2896891007</td><td>14.4322495461</td><td>0.000228617340326</td><td>132591.253783</td><td>10.0658230864</td><td>11.0937128067</td><td>8.24249582365e-05</td><td>False</td><td>1679.95298112</td><td>1.08212550453</td><td>15.8367571831</td><td>0.000699366501067</td><td>467302.559554</td><td>18.549856748</td><td>9.72600460052</td><td>4.30989530287e-05</td><td>False</td><td>3085.35047713</td><td>1.24516152436</td><td>15.176738739</td><td>0.000438172894064</td></tr>\n",
       "<tr><td>7</td><td>292002933</td><td>16.1387559246</td><td>1.36683300299</td><td>23.6705913544</td><td>0.30189666152</td><td>23.6847858429</td><td>0.246412307024</td><td>22.5242786407</td><td>0.514801621437</td><td>23.0775537491</td><td>0.783761262894</td><td>1.23527444869</td><td>0.343476832113</td><td>False</td><td>1.21923006344</td><td>0.276709288507</td><td>3.5504920431</td><td>1.68346514805</td><td>False</td><td>2.13293931993</td><td>1.53970661358</td><td>False</td><td>-1</td><td>False</td><td>0</td><td>0.99982213974</td><td>7</td><td>6288.37948301</td><td>0.874846057126</td><td>14.4036531448</td><td>0.000151048778207</td><td>False</td><td>5451.11384673</td><td>1.19221268776</td><td>14.558786869</td><td>0.000237461281358</td><td>1.00305117177</td><td>0.228470899611</td><td>23.896692276</td><td>0.247304558754</td><td>False</td><td>0.989162924483</td><td>0.194647991597</td><td>23.9118304253</td><td>0.21365173161</td><td>1.10270478477</td><td>0.74508801299</td><td>23.7938518524</td><td>0.73362249136</td><td>False</td><td>1.45838024673</td><td>0.597391188081</td><td>23.4903230667</td><td>0.444746315479</td></tr>\n",
       "<tr><td>8</td><td>274386086</td><td>11.0999129246</td><td>-2.24584499701</td><td>18.4270687103</td><td>0.0150788715109</td><td>nan</td><td>nan</td><td>14.3300542831</td><td>0.00181356165558</td><td>14.6675138474</td><td>0.000884802953806</td><td>154.586838671</td><td>2.146925807</td><td>False</td><td>nan</td><td>nan</td><td>6729.43010566</td><td>11.2405171257</td><td>False</td><td>4931.67514115</td><td>4.01898795764</td><td>False</td><td>-1</td><td>False</td><td>3</td><td>0.999629318714</td><td>8</td><td>3851.92881998</td><td>0.779811359598</td><td>14.9358043671</td><td>0.000219804016524</td><td>False</td><td>3559.19901077</td><td>0.789787521025</td><td>15.0216193199</td><td>0.000240925248363</td><td>158.00149413</td><td>1.45223602023</td><td>18.4033470154</td><td>0.00997930578887</td><td>False</td><td>11.0958027978</td><td>0.289129973885</td><td>21.2871031761</td><td>0.0282916780561</td><td>270.051746896</td><td>3.42395970811</td><td>17.8213825226</td><td>0.0137659432366</td><td>False</td><td>nan</td><td>nan</td><td>nan</td><td>nan</td></tr>\n",
       "<tr><td>9</td><td>180643112</td><td>2.86622592456</td><td>-1.85332099701</td><td>17.2679481506</td><td>0.00168150593527</td><td>19.0739631653</td><td>0.00507848663256</td><td>14.2692079544</td><td>0.000533778569661</td><td>14.4239225388</td><td>0.000441804499133</td><td>449.594241176</td><td>0.696297481548</td><td>False</td><td>85.1951229259</td><td>0.398496698408</td><td>7117.32533877</td><td>3.49907806564</td><td>False</td><td>6172.07201188</td><td>2.5115209126</td><td>False</td><td>-1</td><td>False</td><td>3</td><td>0.991942048073</td><td>9</td><td>2714.11493514</td><td>0.476482653114</td><td>15.3159294128</td><td>0.000190608901903</td><td>False</td><td>2778.82110126</td><td>0.619586195869</td><td>15.2903485298</td><td>0.000242083653575</td><td>2911.00153665</td><td>1.00379417061</td><td>15.2398939133</td><td>0.000374391995138</td><td>False</td><td>2368.2324305</td><td>1.04337968776</td><td>15.4639391899</td><td>0.00047834625002</td><td>481.12085319</td><td>1.15581448058</td><td>17.1943645477</td><td>0.00260830437765</td><td>False</td><td>78.0409075807</td><td>0.711830584682</td><td>19.1691942215</td><td>0.00990327075124</td></tr>\n",
       "</table><style>table.dataTable {clear: both; width: auto !important; margin: 0 !important;}\n",
       ".dataTables_info, .dataTables_length, .dataTables_filter, .dataTables_paginate{\n",
       "display: inline-block; margin-right: 1em; }\n",
       ".paginate_button { margin-right: 5px; }\n",
       "</style>\n",
       "<script>\n",
       "require.config({paths: {\n",
       "    datatables: 'https://cdn.datatables.net/1.10.12/js/jquery.dataTables.min'\n",
       "}});\n",
       "require([\"datatables\"], function(){\n",
       "    console.log(\"$('#table140026301668936-74888').dataTable()\");\n",
       "    $('#table140026301668936-74888').dataTable({\n",
       "        \"order\": [],\n",
       "        \"iDisplayLength\": 50,\n",
       "        \"aLengthMenu\": [[10, 25, 50, 100, 500, 1000, -1], [10, 25, 50, 100, 500, 1000, 'All']],\n",
       "        \"pagingType\": \"full_numbers\"\n",
       "    });\n",
       "});\n",
       "</script>\n"
      ],
      "text/plain": [
       "<IPython.core.display.HTML object>"
      ]
     },
     "execution_count": 25,
     "metadata": {},
     "output_type": "execute_result"
    }
   ],
   "source": [
    "master_catalogue[:10].show_in_notebook()"
   ]
  },
  {
   "cell_type": "code",
   "execution_count": 26,
   "metadata": {
    "collapsed": true
   },
   "outputs": [],
   "source": [
    "master_catalogue[columns].write(\"{}/decam_merged_catalogue_herschel-stripe-82.fits\".format(TMP_DIR), overwrite=True)"
   ]
  }
 ],
 "metadata": {
  "kernelspec": {
   "display_name": "Python (herschelhelp_internal)",
   "language": "python",
   "name": "helpint"
  },
  "language_info": {
   "codemirror_mode": {
    "name": "ipython",
    "version": 3
   },
   "file_extension": ".py",
   "mimetype": "text/x-python",
   "name": "python",
   "nbconvert_exporter": "python",
   "pygments_lexer": "ipython3",
   "version": "3.6.1"
  }
 },
 "nbformat": 4,
 "nbformat_minor": 2
}
