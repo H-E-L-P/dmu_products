{
 "cells": [
  {
   "cell_type": "markdown",
   "metadata": {},
   "source": [
    "# Final Bootes master catalogue\n",
    "\n",
    "This notebook presents the combination of the HELP standard catalogue with the aperture matched photometry from Brown which gives superior photometric redhsifts."
   ]
  },
  {
   "cell_type": "code",
   "execution_count": 1,
   "metadata": {},
   "outputs": [
    {
     "name": "stdout",
     "output_type": "stream",
     "text": [
      "This notebook was run with herschelhelp_internal version: \n",
      "017bb1e (Mon Jun 18 14:58:59 2018 +0100)\n",
      "This notebook was executed on: \n",
      "2019-02-01 11:42:10.977732\n"
     ]
    }
   ],
   "source": [
    "from herschelhelp_internal import git_version\n",
    "print(\"This notebook was run with herschelhelp_internal version: \\n{}\".format(git_version()))\n",
    "import datetime\n",
    "print(\"This notebook was executed on: \\n{}\".format(datetime.datetime.now()))"
   ]
  },
  {
   "cell_type": "code",
   "execution_count": 2,
   "metadata": {},
   "outputs": [
    {
     "name": "stderr",
     "output_type": "stream",
     "text": [
      "/opt/pyenv/versions/3.7.2/lib/python3.7/site-packages/matplotlib/__init__.py:855: MatplotlibDeprecationWarning: \n",
      "examples.directory is deprecated; in the future, examples will be found relative to the 'datapath' directory.\n",
      "  \"found relative to the 'datapath' directory.\".format(key))\n",
      "/opt/pyenv/versions/3.7.2/lib/python3.7/site-packages/matplotlib/__init__.py:846: MatplotlibDeprecationWarning: \n",
      "The text.latex.unicode rcparam was deprecated in Matplotlib 2.2 and will be removed in 3.1.\n",
      "  \"2.2\", name=key, obj_type=\"rcparam\", addendum=addendum)\n",
      "/opt/pyenv/versions/3.7.2/lib/python3.7/site-packages/seaborn/apionly.py:9: UserWarning: As seaborn no longer sets a default style on import, the seaborn.apionly module is deprecated. It will be removed in a future version.\n",
      "  warnings.warn(msg, UserWarning)\n"
     ]
    }
   ],
   "source": [
    "%matplotlib inline\n",
    "#%config InlineBackend.figure_format = 'svg'\n",
    "\n",
    "import matplotlib.pyplot as plt\n",
    "plt.rc('figure', figsize=(10, 6))\n",
    "\n",
    "import os\n",
    "import time\n",
    "\n",
    "from astropy import units as u\n",
    "from astropy.coordinates import SkyCoord\n",
    "from astropy.table import Column, Table, join\n",
    "import numpy as np\n",
    "from pymoc import MOC\n",
    "\n",
    "from herschelhelp_internal.masterlist import merge_catalogues, nb_merge_dist_plot, specz_merge\n",
    "from herschelhelp_internal.utils import coords_to_hpidx, ebv, gen_help_id, inMoc"
   ]
  },
  {
   "cell_type": "code",
   "execution_count": 3,
   "metadata": {
    "collapsed": true
   },
   "outputs": [],
   "source": [
    "TMP_DIR = os.environ.get('TMP_DIR', \"./data_tmp\")\n",
    "OUT_DIR = os.environ.get('OUT_DIR', \"./data\")\n",
    "SUFFIX = os.environ.get('SUFFIX', time.strftime(\"_%Y%m%d\"))\n",
    "\n",
    "try:\n",
    "    os.makedirs(OUT_DIR)\n",
    "except FileExistsError:\n",
    "    pass"
   ]
  },
  {
   "cell_type": "markdown",
   "metadata": {},
   "source": [
    "## I - Reading the prepared pristine catalogues"
   ]
  },
  {
   "cell_type": "code",
   "execution_count": 4,
   "metadata": {
    "collapsed": true
   },
   "outputs": [],
   "source": [
    "brown_catalogue_name =\"master_catalogue_bootes_brown_20180517.fits\"\n",
    "help_catalogue_name =\"master_catalogue_bootes_help_20180517.fits\"\n",
    "\n",
    "brown_cross_id_name = \"master_list_cross_ident_bootes_brown_20180517.fits\"\n",
    "help_cross_id_name = \"master_list_cross_ident_bootes_help_20180517.fits\""
   ]
  },
  {
   "cell_type": "code",
   "execution_count": 5,
   "metadata": {
    "collapsed": true
   },
   "outputs": [],
   "source": [
    "brown_catalogue = Table.read(\"{}/{}\".format(OUT_DIR, brown_catalogue_name))\n",
    "help_catalogue = Table.read(\"{}/{}\".format(OUT_DIR, help_catalogue_name))"
   ]
  },
  {
   "cell_type": "code",
   "execution_count": 6,
   "metadata": {
    "collapsed": true
   },
   "outputs": [],
   "source": [
    "brown_cross_id = Table.read(\"{}/{}\".format(OUT_DIR,brown_cross_id_name))['full_help_id', 'help_id']\n",
    "brown_cross_id['help_id'].name = 'brown_help_id'\n",
    "brown_cross_id['full_help_id'].name = 'help_help_id'"
   ]
  },
  {
   "cell_type": "code",
   "execution_count": 7,
   "metadata": {
    "collapsed": true
   },
   "outputs": [],
   "source": [
    "in_brown = set(brown_catalogue.colnames)\n",
    "in_help = set(help_catalogue.colnames)\n",
    "in_both = in_help.intersection(in_brown)\n",
    "only_in_brown = in_brown - in_help\n",
    "only_in_help = in_help - in_brown\n",
    "\n",
    "for col in brown_catalogue.colnames:\n",
    "    brown_catalogue[col].name = \"brown_{}\".format(col)\n",
    "    \n",
    "for col in help_catalogue.colnames:\n",
    "    help_catalogue[col].name = \"help_{}\".format(col)"
   ]
  },
  {
   "cell_type": "markdown",
   "metadata": {},
   "source": [
    "## 2 - Join the two catalogues taking brown if both are available"
   ]
  },
  {
   "cell_type": "code",
   "execution_count": 8,
   "metadata": {},
   "outputs": [],
   "source": [
    "master_catalogue = join(brown_cross_id, brown_catalogue, join_type='left')\n",
    "master_catalogue = join(master_catalogue, help_catalogue, join_type='left')\n",
    "             \n",
    "\n"
   ]
  },
  {
   "cell_type": "code",
   "execution_count": 9,
   "metadata": {
    "collapsed": true
   },
   "outputs": [
    {
     "name": "stdout",
     "output_type": "stream",
     "text": [
      "brown_stellarity_origin is not a column of floats\n",
      "brown_field is not a column of floats\n"
     ]
    }
   ],
   "source": [
    "in_both.remove('help_id')\n",
    "for col in in_both:\n",
    "    has_brown = (master_catalogue['brown_help_id'] != '-1')\n",
    "                \n",
    "    try:\n",
    "        has_brown = has_brown  & ~np.isnan(master_catalogue[\"brown_{}\".format(col)])\n",
    "    except TypeError:\n",
    "        print(\"brown_{} is not a column of floats\".format(col))\n",
    "    master_catalogue[\"help_{}\".format(col)][has_brown] = master_catalogue[\"brown_{}\".format(col)][has_brown]\n",
    "    master_catalogue[\"help_{}\".format(col)].name = col\n",
    "    master_catalogue.remove_column(\"brown_{}\".format(col))\n",
    "    \n",
    "#Deal with ids seperately\n",
    "has_brown = (master_catalogue['brown_help_id'] != '-1')\n",
    "master_catalogue[\"help_help_id\"][has_brown] = master_catalogue[\"brown_help_id\"][has_brown]\n",
    "master_catalogue[\"help_help_id\"].name = \"help_id\"\n",
    "master_catalogue.remove_column('brown_help_id')\n",
    "    \n",
    "for col in only_in_brown:\n",
    "    master_catalogue[\"brown_{}\".format(col)].name = col\n",
    "    \n",
    "for col in only_in_help:\n",
    "    master_catalogue[\"help_{}\".format(col)].name = col"
   ]
  },
  {
   "cell_type": "code",
   "execution_count": 10,
   "metadata": {
    "collapsed": true
   },
   "outputs": [],
   "source": [
    "for col in master_catalogue.colnames:\n",
    "    if \"m_\" in col or \"merr_\" in col or \"f_\" in col or \"ferr_\" in col or \"stellarity\" in col:\n",
    "        master_catalogue[col].fill_value = np.nan\n",
    "    elif \"flag\" in col:\n",
    "        master_catalogue[col].fill_value = 0\n",
    "    elif \"id\" in col:\n",
    "        master_catalogue[col].fill_value = -1\n",
    "        \n",
    "master_catalogue = master_catalogue.filled()"
   ]
  },
  {
   "cell_type": "markdown",
   "metadata": {},
   "source": [
    "## 3  - Crop to HELP area\n",
    "\n",
    "The Bootes Brown catalogue slightly goes outside the HELP Bootes field."
   ]
  },
  {
   "cell_type": "code",
   "execution_count": 11,
   "metadata": {
    "collapsed": true
   },
   "outputs": [],
   "source": [
    "help_bootes_moc = MOC(filename=\"../../dmu2/dmu2_field_coverages/Bootes_MOC.fits\")\n",
    "in_HELP_mask = inMoc(\n",
    "    master_catalogue['ra'], master_catalogue['dec'],\n",
    "    help_bootes_moc \n",
    ")\n",
    "\n",
    "master_catalogue = master_catalogue[in_HELP_mask]"
   ]
  },
  {
   "cell_type": "markdown",
   "metadata": {},
   "source": [
    "## 4 - Check and save"
   ]
  },
  {
   "cell_type": "code",
   "execution_count": 12,
   "metadata": {
    "collapsed": true
   },
   "outputs": [
    {
     "data": {
      "text/html": [
       "<i>Table length=10</i>\n",
       "<table id=\"table139896441762928-809313\" class=\"table-striped table-bordered table-condensed\">\n",
       "<thead><tr><th>idx</th><th>help_id</th><th>f_ap_lbc_u</th><th>ferr_ap_lbc_u</th><th>m_ap_lbc_u</th><th>merr_ap_lbc_u</th><th>f_lbc_u</th><th>ferr_lbc_u</th><th>m_lbc_u</th><th>merr_lbc_u</th><th>f_ap_suprime_z</th><th>ferr_ap_suprime_z</th><th>m_ap_suprime_z</th><th>merr_ap_suprime_z</th><th>f_suprime_z</th><th>ferr_suprime_z</th><th>m_suprime_z</th><th>merr_suprime_z</th><th>f_ap_lbc_y</th><th>ferr_ap_lbc_y</th><th>m_ap_lbc_y</th><th>merr_ap_lbc_y</th><th>f_lbc_y</th><th>ferr_lbc_y</th><th>m_lbc_y</th><th>merr_lbc_y</th><th>field</th><th>ra</th><th>dec</th><th>hp_idx</th><th>f_ap_gpc1_g</th><th>ferr_ap_gpc1_g</th><th>m_ap_gpc1_g</th><th>merr_ap_gpc1_g</th><th>f_gpc1_g</th><th>ferr_gpc1_g</th><th>m_gpc1_g</th><th>merr_gpc1_g</th><th>f_ap_gpc1_r</th><th>ferr_ap_gpc1_r</th><th>m_ap_gpc1_r</th><th>merr_ap_gpc1_r</th><th>f_gpc1_r</th><th>ferr_gpc1_r</th><th>m_gpc1_r</th><th>merr_gpc1_r</th><th>f_ap_gpc1_i</th><th>ferr_ap_gpc1_i</th><th>m_ap_gpc1_i</th><th>merr_ap_gpc1_i</th><th>f_gpc1_i</th><th>ferr_gpc1_i</th><th>m_gpc1_i</th><th>merr_gpc1_i</th><th>f_ap_gpc1_z</th><th>ferr_ap_gpc1_z</th><th>m_ap_gpc1_z</th><th>merr_ap_gpc1_z</th><th>f_gpc1_z</th><th>ferr_gpc1_z</th><th>m_gpc1_z</th><th>merr_gpc1_z</th><th>f_ap_gpc1_y</th><th>ferr_ap_gpc1_y</th><th>m_ap_gpc1_y</th><th>merr_ap_gpc1_y</th><th>f_gpc1_y</th><th>ferr_gpc1_y</th><th>m_gpc1_y</th><th>merr_gpc1_y</th><th>f_ap_90prime_g</th><th>ferr_ap_90prime_g</th><th>m_ap_90prime_g</th><th>merr_ap_90prime_g</th><th>f_90prime_g</th><th>ferr_90prime_g</th><th>m_90prime_g</th><th>merr_90prime_g</th><th>f_ap_90prime_r</th><th>ferr_ap_90prime_r</th><th>m_ap_90prime_r</th><th>merr_ap_90prime_r</th><th>f_90prime_r</th><th>ferr_90prime_r</th><th>m_90prime_r</th><th>merr_90prime_r</th><th>f_ap_mosaic_z</th><th>ferr_ap_mosaic_z</th><th>m_ap_mosaic_z</th><th>merr_ap_mosaic_z</th><th>f_mosaic_z</th><th>ferr_mosaic_z</th><th>m_mosaic_z</th><th>merr_mosaic_z</th><th>f_ap_newfirm_j</th><th>ferr_ap_newfirm_j</th><th>m_ap_newfirm_j</th><th>merr_ap_newfirm_j</th><th>f_newfirm_j</th><th>ferr_newfirm_j</th><th>m_newfirm_j</th><th>merr_newfirm_j</th><th>f_ap_newfirm_h</th><th>ferr_ap_newfirm_h</th><th>m_ap_newfirm_h</th><th>merr_ap_newfirm_h</th><th>f_newfirm_h</th><th>ferr_newfirm_h</th><th>m_newfirm_h</th><th>merr_newfirm_h</th><th>f_ap_newfirm_k</th><th>ferr_ap_newfirm_k</th><th>m_ap_newfirm_k</th><th>merr_ap_newfirm_k</th><th>f_newfirm_k</th><th>ferr_newfirm_k</th><th>m_newfirm_k</th><th>merr_newfirm_k</th><th>f_ap_mosaic_r</th><th>ferr_ap_mosaic_r</th><th>m_ap_mosaic_r</th><th>merr_ap_mosaic_r</th><th>f_mosaic_r</th><th>ferr_mosaic_r</th><th>m_mosaic_r</th><th>merr_mosaic_r</th><th>f_ap_mosaic_i</th><th>ferr_ap_mosaic_i</th><th>m_ap_mosaic_i</th><th>merr_ap_mosaic_i</th><th>f_mosaic_i</th><th>ferr_mosaic_i</th><th>m_mosaic_i</th><th>merr_mosaic_i</th><th>f_ap_mosaic_b</th><th>ferr_ap_mosaic_b</th><th>m_ap_mosaic_b</th><th>merr_ap_mosaic_b</th><th>f_mosaic_b</th><th>ferr_mosaic_b</th><th>m_mosaic_b</th><th>merr_mosaic_b</th><th>f_ap_tifkam_ks</th><th>ferr_ap_tifkam_ks</th><th>m_ap_tifkam_ks</th><th>merr_ap_tifkam_ks</th><th>f_tifkam_ks</th><th>ferr_tifkam_ks</th><th>m_tifkam_ks</th><th>merr_tifkam_ks</th><th>f_ap_ukidss_j</th><th>ferr_ap_ukidss_j</th><th>m_ap_ukidss_j</th><th>merr_ap_ukidss_j</th><th>f_ukidss_j</th><th>ferr_ukidss_j</th><th>m_ukidss_j</th><th>merr_ukidss_j</th><th>f_ap_90prime_z</th><th>ferr_ap_90prime_z</th><th>m_ap_90prime_z</th><th>merr_ap_90prime_z</th><th>f_90prime_z</th><th>ferr_90prime_z</th><th>m_90prime_z</th><th>merr_90prime_z</th><th>f_ap_irac_i1</th><th>ferr_ap_irac_i1</th><th>m_ap_irac_i1</th><th>merr_ap_irac_i1</th><th>f_irac_i1</th><th>ferr_irac_i1</th><th>m_irac_i1</th><th>merr_irac_i1</th><th>f_ap_irac_i2</th><th>ferr_ap_irac_i2</th><th>m_ap_irac_i2</th><th>merr_ap_irac_i2</th><th>f_irac_i2</th><th>ferr_irac_i2</th><th>m_irac_i2</th><th>merr_irac_i2</th><th>f_ap_irac_i3</th><th>ferr_ap_irac_i3</th><th>m_ap_irac_i3</th><th>merr_ap_irac_i3</th><th>f_irac_i3</th><th>ferr_irac_i3</th><th>m_irac_i3</th><th>merr_irac_i3</th><th>f_ap_irac_i4</th><th>ferr_ap_irac_i4</th><th>m_ap_irac_i4</th><th>merr_ap_irac_i4</th><th>f_irac_i4</th><th>ferr_irac_i4</th><th>m_irac_i4</th><th>merr_irac_i4</th><th>stellarity</th><th>flag_cleaned</th><th>flag_merged</th><th>flag_gaia</th><th>flag_optnir_obs</th><th>flag_optnir_det</th><th>ebv</th><th>zspec_association_flag</th><th>zspec_qual</th><th>zspec</th><th>stellarity_origin</th></tr></thead>\n",
       "<thead><tr><th></th><th></th><th>uJy</th><th>uJy</th><th></th><th>mag</th><th></th><th></th><th></th><th></th><th>uJy</th><th>uJy</th><th></th><th>mag</th><th></th><th></th><th></th><th></th><th>uJy</th><th>uJy</th><th></th><th>mag</th><th></th><th></th><th></th><th></th><th></th><th>deg</th><th>deg</th><th></th><th></th><th></th><th></th><th></th><th></th><th></th><th></th><th></th><th></th><th></th><th></th><th></th><th></th><th></th><th></th><th></th><th></th><th></th><th></th><th></th><th></th><th></th><th></th><th></th><th></th><th></th><th></th><th></th><th></th><th></th><th></th><th></th><th></th><th></th><th></th><th></th><th></th><th></th><th></th><th></th><th></th><th></th><th></th><th></th><th>uJy</th><th>uJy</th><th></th><th></th><th></th><th></th><th></th><th></th><th>uJy</th><th>uJy</th><th></th><th></th><th></th><th></th><th></th><th></th><th>uJy</th><th>uJy</th><th></th><th></th><th></th><th></th><th>mag</th><th>mag</th><th></th><th></th><th>mag</th><th>mag</th><th></th><th></th><th>mag</th><th>mag</th><th></th><th></th><th>mag</th><th>mag</th><th></th><th></th><th>mag</th><th>mag</th><th></th><th></th><th>mag</th><th>mag</th><th></th><th></th><th>mag</th><th>mag</th><th></th><th></th><th>mag</th><th>mag</th><th></th><th></th><th>mag</th><th>mag</th><th></th><th></th><th>mag</th><th>mag</th><th></th><th></th><th>mag</th><th>mag</th><th></th><th></th><th>mag</th><th>mag</th><th></th><th></th><th>mag</th><th>mag</th><th></th><th></th><th>mag</th><th>mag</th><th></th><th></th><th></th><th></th><th></th><th></th><th></th><th></th><th></th><th></th><th>mag</th><th>mag</th><th></th><th></th><th>mag</th><th>mag</th><th>uJy</th><th>uJy</th><th></th><th></th><th>uJy</th><th>uJy</th><th></th><th></th><th>uJy</th><th>uJy</th><th></th><th></th><th>uJy</th><th>uJy</th><th></th><th></th><th>uJy</th><th>uJy</th><th></th><th></th><th>uJy</th><th>uJy</th><th></th><th></th><th>uJy</th><th>uJy</th><th></th><th></th><th>uJy</th><th>uJy</th><th></th><th></th><th></th><th></th><th></th><th></th><th></th><th></th><th></th><th></th><th></th><th></th><th></th></tr></thead>\n",
       "<tr><td>0</td><td>HELP_J142948.065+344534.306</td><td>0.041397836059331894</td><td>0.06664155423641205</td><td>25.79438591003418</td><td>nan</td><td>0.041397836059331894</td><td>0.06664155423641205</td><td>27.357555899133324</td><td>1.7478002490788347</td><td>0.21058863401412964</td><td>0.11722900718450546</td><td>24.77898597717285</td><td>nan</td><td>0.21058863401412964</td><td>0.11722900718450546</td><td>25.59141268114498</td><td>0.6044000330023912</td><td>0.39251798391342163</td><td>0.6034532189369202</td><td>23.390090942382812</td><td>nan</td><td>0.39251798391342163</td><td>0.6034532189369202</td><td>24.915351101211222</td><td>1.669199971795852</td><td>Bootes</td><td>217.45027035616198</td><td>34.759529327634</td><td>172259325</td><td>nan</td><td>nan</td><td>nan</td><td>nan</td><td>nan</td><td>nan</td><td>nan</td><td>nan</td><td>nan</td><td>nan</td><td>nan</td><td>nan</td><td>nan</td><td>nan</td><td>nan</td><td>nan</td><td>nan</td><td>nan</td><td>nan</td><td>nan</td><td>nan</td><td>nan</td><td>nan</td><td>nan</td><td>nan</td><td>nan</td><td>nan</td><td>nan</td><td>nan</td><td>nan</td><td>nan</td><td>nan</td><td>nan</td><td>nan</td><td>nan</td><td>nan</td><td>nan</td><td>nan</td><td>nan</td><td>nan</td><td>nan</td><td>nan</td><td>nan</td><td>nan</td><td>nan</td><td>nan</td><td>nan</td><td>nan</td><td>nan</td><td>nan</td><td>nan</td><td>nan</td><td>nan</td><td>nan</td><td>nan</td><td>nan</td><td>nan</td><td>nan</td><td>nan</td><td>nan</td><td>nan</td><td>nan</td><td>nan</td><td>nan</td><td>0.38965428</td><td>1.0243291854858398</td><td>22.932276</td><td>nan</td><td>0.38965428</td><td>1.0243291854858398</td><td>24.923302</td><td>2.854200102268411</td><td>0.240311</td><td>1.1226533651351929</td><td>22.911413</td><td>nan</td><td>0.240311</td><td>1.1226533651351929</td><td>25.448067</td><td>5.072199858931453</td><td>1.0402163</td><td>1.8358627557754517</td><td>22.217</td><td>nan</td><td>1.0402163</td><td>1.8358627557754517</td><td>23.857191</td><td>1.9162001304189409</td><td>0.10755398869514465</td><td>0.17278200387954712</td><td>24.759471893310547</td><td>nan</td><td>0.10755398869514465</td><td>0.17278200387954712</td><td>26.320933697357496</td><td>1.744200093540116</td><td>0.9756645560264587</td><td>0.33509552478790283</td><td>23.926748275756836</td><td>0.37290000915527344</td><td>0.9756645560264587</td><td>0.33509552478790283</td><td>23.926748679468652</td><td>0.37290003112994585</td><td>0.10838281363248825</td><td>0.06187107414007187</td><td>25.485694885253906</td><td>nan</td><td>0.10838281363248825</td><td>0.06187107414007187</td><td>26.312598947084616</td><td>0.6197999753810992</td><td>-7.198247909545898</td><td>10.971708297729492</td><td>20.978374481201172</td><td>nan</td><td>-7.198247909545898</td><td>10.971708297729492</td><td>nan</td><td>-1.6549000640965126</td><td>nan</td><td>nan</td><td>nan</td><td>nan</td><td>nan</td><td>nan</td><td>nan</td><td>nan</td><td>0.40243724</td><td>0.66143996</td><td>23.307827</td><td>nan</td><td>0.40243724</td><td>0.66143996</td><td>24.888254</td><td>1.7845001</td><td>0.3638136386871338</td><td>0.6602845191955566</td><td>23.333898544311523</td><td>nan</td><td>0.3638136386871338</td><td>0.6602845191955566</td><td>24.997802560215852</td><td>1.9705000904279806</td><td>0.5951922535896301</td><td>1.0790618658065796</td><td>22.80035972595215</td><td>nan</td><td>0.5951922535896301</td><td>1.0790618658065796</td><td>24.46335682438953</td><td>1.9684001729092289</td><td>-5.164141654968262</td><td>5.350894451141357</td><td>22.04168701171875</td><td>nan</td><td>-5.164141654968262</td><td>5.350894451141357</td><td>nan</td><td>-1.1250000913228737</td><td>-3.777569055557251</td><td>7.764686584472656</td><td>21.22473907470703</td><td>nan</td><td>-3.777569055557251</td><td>7.764686584472655</td><td>nan</td><td>-2.2317001276150292</td><td>0.0</td><td>False</td><td>False</td><td>0</td><td>7</td><td>7</td><td>0.013434495704859864</td><td>False</td><td>-99</td><td>1e+20</td><td>Brown</td></tr>\n",
       "<tr><td>1</td><td>HELP_J142948.039+352002.269</td><td>0.0911712497472763</td><td>0.07622122764587402</td><td>25.433244705200195</td><td>nan</td><td>0.0911712497472763</td><td>0.07622122764587402</td><td>26.5003552299631</td><td>0.9077000332411147</td><td>0.5100750923156738</td><td>0.14183157682418823</td><td>24.63091468811035</td><td>0.3018999993801117</td><td>0.5100750923156738</td><td>0.14183157682418823</td><td>24.630914707903877</td><td>0.30190001483282247</td><td>nan</td><td>nan</td><td>nan</td><td>nan</td><td>nan</td><td>nan</td><td>nan</td><td>nan</td><td>Bootes</td><td>217.450162056162</td><td>35.333963627634</td><td>172328708</td><td>nan</td><td>nan</td><td>nan</td><td>nan</td><td>nan</td><td>nan</td><td>nan</td><td>nan</td><td>nan</td><td>nan</td><td>nan</td><td>nan</td><td>nan</td><td>nan</td><td>nan</td><td>nan</td><td>nan</td><td>nan</td><td>nan</td><td>nan</td><td>nan</td><td>nan</td><td>nan</td><td>nan</td><td>nan</td><td>nan</td><td>nan</td><td>nan</td><td>nan</td><td>nan</td><td>nan</td><td>nan</td><td>nan</td><td>nan</td><td>nan</td><td>nan</td><td>nan</td><td>nan</td><td>nan</td><td>nan</td><td>nan</td><td>nan</td><td>nan</td><td>nan</td><td>nan</td><td>nan</td><td>nan</td><td>nan</td><td>nan</td><td>nan</td><td>nan</td><td>nan</td><td>nan</td><td>nan</td><td>nan</td><td>nan</td><td>nan</td><td>nan</td><td>nan</td><td>nan</td><td>nan</td><td>nan</td><td>nan</td><td>nan</td><td>-0.060908746</td><td>0.6296105980873108</td><td>23.703575</td><td>nan</td><td>-0.060908746</td><td>0.6296105980873108</td><td>nan</td><td>-11.223199727855558</td><td>0.087929145</td><td>1.2782869338989258</td><td>22.84414</td><td>nan</td><td>0.087929145</td><td>1.2782869338989258</td><td>26.539667</td><td>15.784099937156924</td><td>-0.07862553</td><td>4.62246561050415</td><td>21.494514</td><td>nan</td><td>-0.07862553</td><td>4.62246561050415</td><td>nan</td><td>-63.83140779192737</td><td>0.35093435645103455</td><td>0.1828792840242386</td><td>24.261667251586914</td><td>nan</td><td>0.35093435645103455</td><td>0.1828792840242386</td><td>25.036935280753134</td><td>0.5658000025228805</td><td>0.34086400270462036</td><td>0.3046545386314392</td><td>23.95549201965332</td><td>nan</td><td>0.34086400270462036</td><td>0.3046545386314392</td><td>25.068547151168097</td><td>0.9704001006603039</td><td>0.10164375603199005</td><td>0.06570067256689072</td><td>25.481399536132812</td><td>nan</td><td>0.10164375603199005</td><td>0.06570067256689072</td><td>26.382298237206776</td><td>0.7018001072331669</td><td>-5.508918762207031</td><td>13.069865226745605</td><td>20.61370849609375</td><td>nan</td><td>-5.508918762207031</td><td>13.069865226745605</td><td>nan</td><td>-2.5759003682061796</td><td>nan</td><td>nan</td><td>nan</td><td>nan</td><td>nan</td><td>nan</td><td>nan</td><td>nan</td><td>-0.83149</td><td>1.8796546</td><td>22.733639</td><td>nan</td><td>-0.83149</td><td>1.8796546</td><td>nan</td><td>-2.4544</td><td>0.2540263831615448</td><td>0.9104356169700623</td><td>23.107507705688477</td><td>nan</td><td>0.2540263831615448</td><td>0.9104356169700623</td><td>25.387802938111214</td><td>3.891300183639123</td><td>1.4757637977600098</td><td>1.24070405960083</td><td>22.406538009643555</td><td>nan</td><td>1.4757637977600098</td><td>1.24070405960083</td><td>23.477457869050546</td><td>0.9128000828748289</td><td>-5.626497745513916</td><td>4.067505836486816</td><td>22.901458740234375</td><td>nan</td><td>-5.626497745513916</td><td>4.067505836486816</td><td>nan</td><td>-0.784900047860121</td><td>-6.2375288009643555</td><td>6.522846698760986</td><td>21.817424774169922</td><td>nan</td><td>-6.2375288009643555</td><td>6.522846698760986</td><td>nan</td><td>-1.135400099128507</td><td>0.06</td><td>False</td><td>False</td><td>0</td><td>7</td><td>7</td><td>0.011423117693219943</td><td>False</td><td>-99</td><td>1e+20</td><td>Brown</td></tr>\n",
       "<tr><td>2</td><td>HELP_J142947.985+325945.370</td><td>-0.07249333709478378</td><td>0.08920316398143768</td><td>26.337627410888672</td><td>nan</td><td>-0.07249333709478378</td><td>0.08920316398143768</td><td>nan</td><td>-1.3360000876631195</td><td>0.26013249158859253</td><td>0.166970893740654</td><td>24.465396881103516</td><td>nan</td><td>0.26013249158859253</td><td>0.166970893740654</td><td>25.362013498245965</td><td>0.6969000426204369</td><td>0.9753925800323486</td><td>0.6444904804229736</td><td>23.01262855529785</td><td>nan</td><td>0.9753925800323486</td><td>0.6444904804229736</td><td>23.927051381199</td><td>0.7174000115871048</td><td>Bootes</td><td>217.44993685616197</td><td>32.995936227634004</td><td>149861382</td><td>nan</td><td>nan</td><td>nan</td><td>nan</td><td>nan</td><td>nan</td><td>nan</td><td>nan</td><td>nan</td><td>nan</td><td>nan</td><td>nan</td><td>nan</td><td>nan</td><td>nan</td><td>nan</td><td>nan</td><td>nan</td><td>nan</td><td>nan</td><td>nan</td><td>nan</td><td>nan</td><td>nan</td><td>nan</td><td>nan</td><td>nan</td><td>nan</td><td>nan</td><td>nan</td><td>nan</td><td>nan</td><td>nan</td><td>nan</td><td>nan</td><td>nan</td><td>nan</td><td>nan</td><td>nan</td><td>nan</td><td>nan</td><td>nan</td><td>nan</td><td>nan</td><td>nan</td><td>nan</td><td>nan</td><td>nan</td><td>nan</td><td>nan</td><td>nan</td><td>nan</td><td>nan</td><td>nan</td><td>nan</td><td>nan</td><td>nan</td><td>nan</td><td>nan</td><td>nan</td><td>nan</td><td>nan</td><td>nan</td><td>nan</td><td>1.2304941</td><td>0.7466358542442322</td><td>22.812075</td><td>nan</td><td>1.2304941</td><td>0.7466358542442322</td><td>23.6748</td><td>0.658800031086248</td><td>1.1147399</td><td>2.211437940597534</td><td>22.041693</td><td>nan</td><td>1.1147399</td><td>2.211437940597534</td><td>23.782066</td><td>2.1538999794827394</td><td>1.824413</td><td>2.516991138458252</td><td>21.809443</td><td>nan</td><td>1.824413</td><td>2.516991138458252</td><td>23.247192</td><td>1.4979001427081233</td><td>0.11666642874479294</td><td>0.07398191094398499</td><td>25.343400955200195</td><td>nan</td><td>0.11666642874479294</td><td>0.07398191094398499</td><td>26.232635240100514</td><td>0.6885000258710776</td><td>0.525412917137146</td><td>0.16845367848873138</td><td>24.59874725341797</td><td>0.3481000065803528</td><td>0.525412917137146</td><td>0.16845367848873138</td><td>24.598748136010265</td><td>0.348100040167381</td><td>0.051428090780973434</td><td>0.03872254118323326</td><td>26.12459373474121</td><td>nan</td><td>0.051428090780973434</td><td>0.03872254118323326</td><td>27.121998995374533</td><td>0.8175000134056749</td><td>nan</td><td>nan</td><td>nan</td><td>nan</td><td>nan</td><td>nan</td><td>nan</td><td>nan</td><td>nan</td><td>nan</td><td>nan</td><td>nan</td><td>nan</td><td>nan</td><td>nan</td><td>nan</td><td>-0.12928197</td><td>1.0544637</td><td>23.158531</td><td>nan</td><td>-0.12928197</td><td>1.0544637</td><td>nan</td><td>-8.8556</td><td>0.41844603419303894</td><td>0.5184056758880615</td><td>23.49264907836914</td><td>nan</td><td>0.41844603419303894</td><td>0.5184056758880615</td><td>24.845901359489922</td><td>1.3451001206146458</td><td>0.23025918006896973</td><td>0.9689354300498962</td><td>23.059785842895508</td><td>nan</td><td>0.23025918006896973</td><td>0.9689354300498962</td><td>25.4944576153813</td><td>4.568800584467257</td><td>-3.304288864135742</td><td>4.221752643585205</td><td>22.122756958007812</td><td>nan</td><td>-3.304288864135742</td><td>4.221752643585205</td><td>nan</td><td>-1.3872000545789747</td><td>-1.8616275787353516</td><td>7.973336696624756</td><td>21.02810287475586</td><td>nan</td><td>-1.8616275787353516</td><td>7.973336696624757</td><td>nan</td><td>-4.650199869800463</td><td>0.2</td><td>False</td><td>False</td><td>0</td><td>7</td><td>7</td><td>0.00574837151509407</td><td>False</td><td>-99</td><td>1e+20</td><td>Brown</td></tr>\n",
       "<tr><td>3</td><td>HELP_J142947.968+330131.936</td><td>0.06704676151275635</td><td>0.08685468882322311</td><td>25.446056365966797</td><td>nan</td><td>0.06704676151275635</td><td>0.08685468882322311</td><td>26.834055486406662</td><td>1.4065001512479134</td><td>0.0786166563630104</td><td>0.16004477441310883</td><td>24.898366928100586</td><td>nan</td><td>0.0786166563630104</td><td>0.16004477441310883</td><td>26.6612135776436</td><td>2.210300132331981</td><td>-0.3723744750022888</td><td>0.6294520497322083</td><td>24.030765533447266</td><td>nan</td><td>-0.3723744750022888</td><td>0.6294520497322083</td><td>nan</td><td>-1.8353000149896752</td><td>Bootes</td><td>217.44986745616197</td><td>33.025537727634</td><td>149861403</td><td>nan</td><td>nan</td><td>nan</td><td>nan</td><td>nan</td><td>nan</td><td>nan</td><td>nan</td><td>nan</td><td>nan</td><td>nan</td><td>nan</td><td>nan</td><td>nan</td><td>nan</td><td>nan</td><td>nan</td><td>nan</td><td>nan</td><td>nan</td><td>nan</td><td>nan</td><td>nan</td><td>nan</td><td>nan</td><td>nan</td><td>nan</td><td>nan</td><td>nan</td><td>nan</td><td>nan</td><td>nan</td><td>nan</td><td>nan</td><td>nan</td><td>nan</td><td>nan</td><td>nan</td><td>nan</td><td>nan</td><td>nan</td><td>nan</td><td>nan</td><td>nan</td><td>nan</td><td>nan</td><td>nan</td><td>nan</td><td>nan</td><td>nan</td><td>nan</td><td>nan</td><td>nan</td><td>nan</td><td>nan</td><td>nan</td><td>nan</td><td>nan</td><td>nan</td><td>nan</td><td>nan</td><td>nan</td><td>nan</td><td>nan</td><td>0.38818616</td><td>0.6062324643135071</td><td>23.389257</td><td>nan</td><td>0.38818616</td><td>0.6062324643135071</td><td>24.9274</td><td>1.6956002257166554</td><td>2.418207</td><td>1.4670902490615845</td><td>22.07863</td><td>nan</td><td>2.418207</td><td>1.4670902490615845</td><td>22.941267</td><td>0.6587000389367205</td><td>4.984294</td><td>2.0125648975372314</td><td>22.15599</td><td>0.438400000333786</td><td>4.984294</td><td>2.0125648975372314</td><td>22.15599</td><td>0.43840002235045433</td><td>0.0357031524181366</td><td>0.07991426438093185</td><td>25.67195701599121</td><td>nan</td><td>0.0357031524181366</td><td>0.07991426438093185</td><td>27.51823359015662</td><td>2.4302002551157122</td><td>0.32307255268096924</td><td>0.1776438057422638</td><td>24.321348190307617</td><td>nan</td><td>0.32307255268096924</td><td>0.17764380574226377</td><td>25.12674984207704</td><td>0.5969999922458818</td><td>-0.006984264124184847</td><td>0.03257735073566437</td><td>26.988243103027344</td><td>nan</td><td>-0.006984264124184847</td><td>0.03257735073566437</td><td>nan</td><td>-5.064300049354571</td><td>nan</td><td>nan</td><td>nan</td><td>nan</td><td>nan</td><td>nan</td><td>nan</td><td>nan</td><td>nan</td><td>nan</td><td>nan</td><td>nan</td><td>nan</td><td>nan</td><td>nan</td><td>nan</td><td>0.22722583</td><td>0.8381354</td><td>23.201118</td><td>nan</td><td>0.22722583</td><td>0.8381354</td><td>25.508856</td><td>4.0048</td><td>0.44705337285995483</td><td>0.7162004113197327</td><td>23.214920043945312</td><td>nan</td><td>0.44705337285995483</td><td>0.7162004113197327</td><td>24.774101560431752</td><td>1.7394001782335111</td><td>0.8259941339492798</td><td>1.0078665018081665</td><td>22.76604461669922</td><td>nan</td><td>0.8259941339492798</td><td>1.0078665018081665</td><td>24.107557592360372</td><td>1.3248001476040083</td><td>0.4423820376396179</td><td>5.025393962860107</td><td>21.347732543945312</td><td>nan</td><td>0.4423820376396179</td><td>5.025393962860107</td><td>24.785506288302066</td><td>12.333801340042267</td><td>4.144314765930176</td><td>7.9860429763793945</td><td>20.641124725341797</td><td>nan</td><td>4.144314765930176</td><td>7.9860429763793945</td><td>22.35636816699205</td><td>2.0922001541703277</td><td>0.52</td><td>False</td><td>False</td><td>0</td><td>7</td><td>7</td><td>0.0055402196624478005</td><td>False</td><td>-99</td><td>1e+20</td><td>Brown</td></tr>\n",
       "<tr><td>4</td><td>HELP_J142947.946+341414.757</td><td>0.5395323634147644</td><td>0.054264504462480545</td><td>24.569955825805664</td><td>0.10920000076293945</td><td>0.5395323634147644</td><td>0.054264504462480545</td><td>24.56995624848654</td><td>0.109200005640592</td><td>0.43458521366119385</td><td>0.13705170154571533</td><td>24.804811477661133</td><td>0.3424000144004822</td><td>0.43458521366119385</td><td>0.13705170154571533</td><td>24.80481263552766</td><td>0.342400039426781</td><td>0.9376896023750305</td><td>0.5694006085395813</td><td>23.106674194335938</td><td>nan</td><td>0.9376896023750305</td><td>0.5694006085395813</td><td>23.969852249161413</td><td>0.6593001075589154</td><td>Bootes</td><td>217.44977695616197</td><td>34.237432627634</td><td>172251563</td><td>nan</td><td>nan</td><td>nan</td><td>nan</td><td>nan</td><td>nan</td><td>nan</td><td>nan</td><td>nan</td><td>nan</td><td>nan</td><td>nan</td><td>nan</td><td>nan</td><td>nan</td><td>nan</td><td>nan</td><td>nan</td><td>nan</td><td>nan</td><td>nan</td><td>nan</td><td>nan</td><td>nan</td><td>nan</td><td>nan</td><td>nan</td><td>nan</td><td>nan</td><td>nan</td><td>nan</td><td>nan</td><td>nan</td><td>nan</td><td>nan</td><td>nan</td><td>nan</td><td>nan</td><td>nan</td><td>nan</td><td>nan</td><td>nan</td><td>nan</td><td>nan</td><td>nan</td><td>nan</td><td>nan</td><td>nan</td><td>nan</td><td>nan</td><td>nan</td><td>nan</td><td>nan</td><td>nan</td><td>nan</td><td>nan</td><td>nan</td><td>nan</td><td>nan</td><td>nan</td><td>nan</td><td>nan</td><td>nan</td><td>nan</td><td>1.1061136</td><td>1.064205288887024</td><td>22.625473</td><td>nan</td><td>1.1061136</td><td>1.064205288887024</td><td>23.7905</td><td>1.0445999945092814</td><td>0.5627206</td><td>1.3624154329299927</td><td>22.607819</td><td>nan</td><td>0.5627206</td><td>1.3624154329299927</td><td>24.524267</td><td>2.628700228658089</td><td>-1.1230603</td><td>1.8403635025024414</td><td>22.88039</td><td>nan</td><td>-1.1230603</td><td>1.8403635025024414</td><td>nan</td><td>-1.7792002828008302</td><td>0.581763505935669</td><td>0.130848228931427</td><td>24.48813247680664</td><td>0.24420000612735748</td><td>0.581763505935669</td><td>0.130848228931427</td><td>24.488133813892297</td><td>0.24420001947499276</td><td>0.7810177803039551</td><td>0.22925490140914917</td><td>24.168346405029297</td><td>0.31869998574256897</td><td>0.7810177803039551</td><td>0.22925490140914917</td><td>24.16834769763711</td><td>0.3186999743863684</td><td>0.443977028131485</td><td>0.03220056742429733</td><td>24.781599044799805</td><td>0.07874578982591629</td><td>0.443977028131485</td><td>0.03220056742429733</td><td>24.78159875046699</td><td>0.07874579009966469</td><td>3.81650972366333</td><td>12.612306594848633</td><td>20.24246597290039</td><td>nan</td><td>3.81650972366333</td><td>12.612306594848633</td><td>22.44583406697516</td><td>3.5880002638622526</td><td>nan</td><td>nan</td><td>nan</td><td>nan</td><td>nan</td><td>nan</td><td>nan</td><td>nan</td><td>0.3319993</td><td>0.7280074</td><td>23.269072</td><td>nan</td><td>0.3319993</td><td>0.7280074</td><td>25.097157</td><td>2.3808</td><td>0.3783023953437805</td><td>0.7835131287574768</td><td>23.17751693725586</td><td>nan</td><td>0.3783023953437805</td><td>0.7835131287574768</td><td>24.95540227205698</td><td>2.248699932291603</td><td>1.6780980825424194</td><td>1.0128222703933716</td><td>22.478397369384766</td><td>nan</td><td>1.6780980825424194</td><td>1.0128222703933716</td><td>23.337956647114446</td><td>0.6553000801272375</td><td>7.846534729003906</td><td>4.029010772705078</td><td>20.896194458007812</td><td>nan</td><td>7.846534729003906</td><td>4.029010772705078</td><td>21.66330524677975</td><td>0.557499968631599</td><td>1.5461513996124268</td><td>7.755563735961914</td><td>20.82022476196289</td><td>nan</td><td>1.5461513996124268</td><td>7.755563735961915</td><td>23.4268699552213</td><td>5.446100775482809</td><td>0.0</td><td>False</td><td>False</td><td>0</td><td>7</td><td>7</td><td>0.0127156433322154</td><td>False</td><td>-99</td><td>1e+20</td><td>Brown</td></tr>\n",
       "<tr><td>5</td><td>HELP_J142947.894+323958.864</td><td>0.08933412283658981</td><td>0.0728176012635231</td><td>25.472471237182617</td><td>nan</td><td>0.08933412283658981</td><td>0.0728176012635231</td><td>26.52245655633373</td><td>0.8850000819962867</td><td>-0.3584221303462982</td><td>0.39624178409576416</td><td>24.806121826171875</td><td>nan</td><td>-0.3584221303462982</td><td>0.3962417840957641</td><td>nan</td><td>-1.2002999100950136</td><td>-0.018828650936484337</td><td>0.6643446683883667</td><td>23.606937408447266</td><td>nan</td><td>-0.018828650936484337</td><td>0.6643446683883668</td><td>nan</td><td>-38.30880190728971</td><td>Bootes</td><td>217.44955875616196</td><td>32.666351027634</td><td>149854234</td><td>nan</td><td>nan</td><td>nan</td><td>nan</td><td>nan</td><td>nan</td><td>nan</td><td>nan</td><td>nan</td><td>nan</td><td>nan</td><td>nan</td><td>nan</td><td>nan</td><td>nan</td><td>nan</td><td>nan</td><td>nan</td><td>nan</td><td>nan</td><td>nan</td><td>nan</td><td>nan</td><td>nan</td><td>nan</td><td>nan</td><td>nan</td><td>nan</td><td>nan</td><td>nan</td><td>nan</td><td>nan</td><td>nan</td><td>nan</td><td>nan</td><td>nan</td><td>nan</td><td>nan</td><td>nan</td><td>nan</td><td>nan</td><td>nan</td><td>nan</td><td>nan</td><td>nan</td><td>nan</td><td>nan</td><td>nan</td><td>nan</td><td>nan</td><td>nan</td><td>nan</td><td>nan</td><td>nan</td><td>nan</td><td>nan</td><td>nan</td><td>nan</td><td>nan</td><td>nan</td><td>nan</td><td>nan</td><td>nan</td><td>nan</td><td>1.4851143</td><td>0.632763147354126</td><td>23.4706</td><td>0.4625999927520752</td><td>1.4851143</td><td>0.632763147354126</td><td>23.4706</td><td>0.46259997729406915</td><td>2.8241808</td><td>1.12838613986969</td><td>22.772768</td><td>0.43380001187324524</td><td>2.8241808</td><td>1.12838613986969</td><td>22.772768</td><td>0.433800012741589</td><td>5.650453</td><td>2.782717704772949</td><td>22.01979</td><td>0.5346999764442444</td><td>5.650453</td><td>2.782717704772949</td><td>22.019793</td><td>0.5347000163019497</td><td>0.24766600131988525</td><td>0.07903971523046494</td><td>25.415332794189453</td><td>0.3465000092983246</td><td>0.24766600131988525</td><td>0.07903971523046494</td><td>25.415334019189338</td><td>0.3465000443425743</td><td>0.32120364904403687</td><td>0.2138623595237732</td><td>24.213899612426758</td><td>nan</td><td>0.32120364904403687</td><td>0.2138623595237732</td><td>25.13304882387343</td><td>0.7228999647451884</td><td>0.15340560674667358</td><td>0.04522750526666641</td><td>25.935396194458008</td><td>0.32010000944137573</td><td>0.15340560674667358</td><td>0.04522750526666641</td><td>25.935396918199608</td><td>0.3201000338924932</td><td>nan</td><td>nan</td><td>nan</td><td>nan</td><td>nan</td><td>nan</td><td>nan</td><td>nan</td><td>nan</td><td>nan</td><td>nan</td><td>nan</td><td>nan</td><td>nan</td><td>nan</td><td>nan</td><td>-0.75588894</td><td>0.7476486</td><td>24.227789</td><td>nan</td><td>-0.75588894</td><td>0.7476486</td><td>nan</td><td>-1.0739</td><td>3.7795448303222656</td><td>0.8229295611381531</td><td>22.45639991760254</td><td>0.23639999330043793</td><td>3.7795448303222656</td><td>0.8229295611381531</td><td>22.456401247484997</td><td>0.23640000545177492</td><td>4.322514533996582</td><td>0.9901202917098999</td><td>22.310657501220703</td><td>0.24869999289512634</td><td>4.322514533996582</td><td>0.9901202917098999</td><td>22.31065884445615</td><td>0.2487000192411542</td><td>3.6297614574432373</td><td>5.538904666900635</td><td>20.98114776611328</td><td>nan</td><td>3.6297614574432373</td><td>5.538904666900635</td><td>22.500304788043444</td><td>1.6568001512126451</td><td>-6.621135711669922</td><td>7.5783467292785645</td><td>21.57192039489746</td><td>nan</td><td>-6.621135711669922</td><td>7.5783467292785645</td><td>nan</td><td>-1.2427000101637968</td><td>0.6</td><td>False</td><td>False</td><td>0</td><td>7</td><td>7</td><td>0.005856889470692392</td><td>False</td><td>-99</td><td>1e+20</td><td>Brown</td></tr>\n",
       "<tr><td>6</td><td>HELP_J142947.870+335547.917</td><td>0.10466881096363068</td><td>0.05635750666260719</td><td>25.556930541992188</td><td>nan</td><td>0.10466881096363068</td><td>0.0563575066626072</td><td>26.350456773460074</td><td>0.5845999857087479</td><td>0.1258561909198761</td><td>0.17416657507419586</td><td>24.710121154785156</td><td>nan</td><td>0.1258561909198761</td><td>0.17416657507419586</td><td>26.150313541147007</td><td>1.5025002332794692</td><td>0.7520707845687866</td><td>0.5884339809417725</td><td>23.186702728271484</td><td>nan</td><td>0.7520707845687866</td><td>0.5884339809417725</td><td>24.209353204701408</td><td>0.8494999278355869</td><td>Bootes</td><td>217.44945985616198</td><td>33.929977027634</td><td>172246836</td><td>nan</td><td>nan</td><td>nan</td><td>nan</td><td>nan</td><td>nan</td><td>nan</td><td>nan</td><td>nan</td><td>nan</td><td>nan</td><td>nan</td><td>nan</td><td>nan</td><td>nan</td><td>nan</td><td>nan</td><td>nan</td><td>nan</td><td>nan</td><td>nan</td><td>nan</td><td>nan</td><td>nan</td><td>nan</td><td>nan</td><td>nan</td><td>nan</td><td>nan</td><td>nan</td><td>nan</td><td>nan</td><td>nan</td><td>nan</td><td>nan</td><td>nan</td><td>nan</td><td>nan</td><td>nan</td><td>nan</td><td>nan</td><td>nan</td><td>nan</td><td>nan</td><td>nan</td><td>nan</td><td>nan</td><td>nan</td><td>nan</td><td>nan</td><td>nan</td><td>nan</td><td>nan</td><td>nan</td><td>nan</td><td>nan</td><td>nan</td><td>nan</td><td>nan</td><td>nan</td><td>nan</td><td>nan</td><td>nan</td><td>nan</td><td>-0.8198974</td><td>1.1223089694976807</td><td>23.515675</td><td>nan</td><td>-0.8198974</td><td>1.1223089694976807</td><td>nan</td><td>-1.4861999335656457</td><td>0.88237464</td><td>1.1532984972000122</td><td>22.640873</td><td>nan</td><td>0.88237464</td><td>1.1532984972000122</td><td>24.035868</td><td>1.4191000856849025</td><td>1.2537302</td><td>2.0695037841796875</td><td>22.070477</td><td>nan</td><td>1.2537302</td><td>2.0695037841796875</td><td>23.65449</td><td>1.7921999677542253</td><td>0.21497394144535065</td><td>0.1961965411901474</td><td>24.44137191772461</td><td>nan</td><td>0.21497394144535065</td><td>0.1961965411901474</td><td>25.569035452215353</td><td>0.9909000439135301</td><td>0.5327708125114441</td><td>0.27489015460014343</td><td>23.813879013061523</td><td>nan</td><td>0.5327708125114441</td><td>0.27489015460014343</td><td>24.583648939288615</td><td>0.5601999699908938</td><td>0.08085020631551743</td><td>0.0949811264872551</td><td>25.318328857421875</td><td>nan</td><td>0.08085020631551743</td><td>0.0949811264872551</td><td>26.63079716878243</td><td>1.2755001192388016</td><td>nan</td><td>nan</td><td>nan</td><td>nan</td><td>nan</td><td>nan</td><td>nan</td><td>nan</td><td>nan</td><td>nan</td><td>nan</td><td>nan</td><td>nan</td><td>nan</td><td>nan</td><td>nan</td><td>-0.14462966</td><td>0.47778016</td><td>24.12754</td><td>nan</td><td>-0.14462966</td><td>0.47778016</td><td>nan</td><td>-3.5867002</td><td>0.6614220142364502</td><td>0.66024249792099</td><td>23.157291412353516</td><td>nan</td><td>0.6614220142364502</td><td>0.66024249792099</td><td>24.348803386186923</td><td>1.0838000073830294</td><td>1.1525424718856812</td><td>0.9923191070556641</td><td>22.65865135192871</td><td>nan</td><td>1.1525424718856812</td><td>0.9923191070556641</td><td>23.74585765407415</td><td>0.9348000680971502</td><td>7.346460819244385</td><td>5.088964939117432</td><td>20.790891647338867</td><td>nan</td><td>7.346460819244385</td><td>5.088964939117432</td><td>21.734804583191455</td><td>0.7521000404263836</td><td>-5.0953264236450195</td><td>7.4885711669921875</td><td>21.41290855407715</td><td>nan</td><td>-5.0953264236450195</td><td>7.488571166992188</td><td>nan</td><td>-1.5957000910051407</td><td>0.0</td><td>False</td><td>False</td><td>0</td><td>7</td><td>7</td><td>0.00975239105709547</td><td>False</td><td>-99</td><td>1e+20</td><td>Brown</td></tr>\n",
       "<tr><td>7</td><td>HELP_J142948.286+341759.299</td><td>0.0573030486702919</td><td>0.05076193809509277</td><td>25.897689819335938</td><td>nan</td><td>0.0573030486702919</td><td>0.05076193809509277</td><td>27.00455567957264</td><td>0.9618000314546333</td><td>0.17895929515361786</td><td>0.13415318727493286</td><td>24.77358627319336</td><td>nan</td><td>0.17895929515361786</td><td>0.13415318727493286</td><td>25.76811434853439</td><td>0.8139000116370743</td><td>-0.0643189549446106</td><td>0.46385470032691956</td><td>24.059480667114258</td><td>nan</td><td>-0.0643189549446106</td><td>0.46385470032691956</td><td>nan</td><td>-7.83009988775274</td><td>Bootes</td><td>217.45119245616198</td><td>34.299805227634</td><td>172251959</td><td>nan</td><td>nan</td><td>nan</td><td>nan</td><td>nan</td><td>nan</td><td>nan</td><td>nan</td><td>nan</td><td>nan</td><td>nan</td><td>nan</td><td>nan</td><td>nan</td><td>nan</td><td>nan</td><td>nan</td><td>nan</td><td>nan</td><td>nan</td><td>nan</td><td>nan</td><td>nan</td><td>nan</td><td>nan</td><td>nan</td><td>nan</td><td>nan</td><td>nan</td><td>nan</td><td>nan</td><td>nan</td><td>nan</td><td>nan</td><td>nan</td><td>nan</td><td>nan</td><td>nan</td><td>nan</td><td>nan</td><td>nan</td><td>nan</td><td>nan</td><td>nan</td><td>nan</td><td>nan</td><td>nan</td><td>nan</td><td>nan</td><td>nan</td><td>nan</td><td>nan</td><td>nan</td><td>nan</td><td>nan</td><td>nan</td><td>nan</td><td>nan</td><td>nan</td><td>nan</td><td>nan</td><td>nan</td><td>nan</td><td>nan</td><td>0.75495386</td><td>0.9960720539093018</td><td>22.802814</td><td>nan</td><td>0.75495386</td><td>0.9960720539093016</td><td>24.205198</td><td>1.4325001129283979</td><td>0.48001358</td><td>1.0924067497253418</td><td>22.835827</td><td>nan</td><td>0.48001358</td><td>1.0924067497253418</td><td>24.696867</td><td>2.4709000121375992</td><td>3.2493997</td><td>2.0617451667785645</td><td>21.730906</td><td>nan</td><td>3.2493997</td><td>2.0617451667785645</td><td>22.620493</td><td>0.6888999831945872</td><td>0.1405743509531021</td><td>0.13246461749076843</td><td>24.88001251220703</td><td>nan</td><td>0.1405743509531021</td><td>0.13246461749076843</td><td>26.03023478249566</td><td>1.0231000896254927</td><td>0.3745419681072235</td><td>0.1435748189687729</td><td>24.96624755859375</td><td>0.41620001196861267</td><td>0.3745419681072235</td><td>0.1435748189687729</td><td>24.96624877938266</td><td>0.4162000318249102</td><td>0.09573698043823242</td><td>0.035526521503925323</td><td>26.44729995727539</td><td>0.40290001034736633</td><td>0.09573698043823242</td><td>0.035526521503925323</td><td>26.44730068591243</td><td>0.4029000126112825</td><td>-12.672638893127441</td><td>11.345118522644043</td><td>21.398090362548828</td><td>nan</td><td>-12.672638893127441</td><td>11.345118522644043</td><td>nan</td><td>-0.9720000728488228</td><td>nan</td><td>nan</td><td>nan</td><td>nan</td><td>nan</td><td>nan</td><td>nan</td><td>nan</td><td>0.43733838</td><td>0.70047534</td><td>23.238966</td><td>nan</td><td>0.43733838</td><td>0.70047534</td><td>24.797956</td><td>1.739</td><td>0.5652485489845276</td><td>0.6545670032501221</td><td>23.217853546142578</td><td>nan</td><td>0.5652485489845276</td><td>0.6545670032501222</td><td>24.519401359580876</td><td>1.2573001649370765</td><td>1.090175986289978</td><td>0.8956475853919983</td><td>22.75096321105957</td><td>nan</td><td>1.090175986289978</td><td>0.8956475853919983</td><td>23.806258471420712</td><td>0.8920000278795632</td><td>-6.888391971588135</td><td>5.149150371551514</td><td>22.56814193725586</td><td>nan</td><td>-6.888391971588135</td><td>5.149150371551514</td><td>nan</td><td>-0.8116000084194283</td><td>4.911031246185303</td><td>6.744131565093994</td><td>20.73799705505371</td><td>nan</td><td>4.911031246185303</td><td>6.744131565093995</td><td>22.17206825670791</td><td>1.4910000451661491</td><td>0.69</td><td>False</td><td>False</td><td>0</td><td>7</td><td>7</td><td>0.011075927398448043</td><td>False</td><td>-99</td><td>1e+20</td><td>Brown</td></tr>\n",
       "<tr><td>8</td><td>HELP_J142948.285+351026.767</td><td>-0.03620577231049538</td><td>0.0833035260438919</td><td>26.11179542541504</td><td>nan</td><td>-0.03620577231049538</td><td>0.08330352604389189</td><td>nan</td><td>-2.4981003977547154</td><td>1.5748320817947388</td><td>0.2489013373851776</td><td>23.40691375732422</td><td>0.17159999907016754</td><td>1.5748320817947388</td><td>0.2489013373851776</td><td>23.406914366333133</td><td>0.17160000519155558</td><td>1.08397376537323</td><td>0.9417687654495239</td><td>22.719018936157227</td><td>nan</td><td>1.08397376537323</td><td>0.9417687654495239</td><td>23.812453071457902</td><td>0.9432999928802217</td><td>Bootes</td><td>217.451185556162</td><td>35.174101927634</td><td>172327960</td><td>nan</td><td>nan</td><td>nan</td><td>nan</td><td>nan</td><td>nan</td><td>nan</td><td>nan</td><td>nan</td><td>nan</td><td>nan</td><td>nan</td><td>nan</td><td>nan</td><td>nan</td><td>nan</td><td>nan</td><td>nan</td><td>nan</td><td>nan</td><td>nan</td><td>nan</td><td>nan</td><td>nan</td><td>nan</td><td>nan</td><td>nan</td><td>nan</td><td>nan</td><td>nan</td><td>nan</td><td>nan</td><td>nan</td><td>nan</td><td>nan</td><td>nan</td><td>nan</td><td>nan</td><td>nan</td><td>nan</td><td>nan</td><td>nan</td><td>nan</td><td>nan</td><td>nan</td><td>nan</td><td>nan</td><td>nan</td><td>nan</td><td>nan</td><td>nan</td><td>nan</td><td>nan</td><td>nan</td><td>nan</td><td>nan</td><td>nan</td><td>nan</td><td>nan</td><td>nan</td><td>nan</td><td>nan</td><td>nan</td><td>nan</td><td>3.3416378</td><td>0.6324802041053772</td><td>22.590101</td><td>0.20550000667572021</td><td>3.3416378</td><td>0.6324802041053772</td><td>22.590101</td><td>0.20550002341801607</td><td>5.537234</td><td>1.2653051614761353</td><td>22.041767</td><td>0.24809999763965607</td><td>5.537234</td><td>1.2653051614761353</td><td>22.041767</td><td>0.24809998388788382</td><td>2.344246</td><td>4.227576732635498</td><td>21.316502</td><td>nan</td><td>2.344246</td><td>4.227576732635498</td><td>22.974993</td><td>1.9579998395959435</td><td>0.6431993246078491</td><td>0.19887153804302216</td><td>24.379135131835938</td><td>0.33570000529289246</td><td>0.6431993246078491</td><td>0.19887153804302216</td><td>24.379136050726906</td><td>0.3357000243756286</td><td>1.8256646394729614</td><td>0.44408392906188965</td><td>23.24644660949707</td><td>0.26409998536109924</td><td>1.8256646394729614</td><td>0.44408392906188965</td><td>23.246447490063538</td><td>0.2640999827180337</td><td>0.06400895118713379</td><td>0.05886009335517883</td><td>25.75143814086914</td><td>nan</td><td>0.06400895118713379</td><td>0.05886009335517883</td><td>26.884398222096912</td><td>0.9983999610355541</td><td>25.37619400024414</td><td>11.842763900756836</td><td>20.388933181762695</td><td>0.5066999793052673</td><td>25.37619400024414</td><td>11.842763900756836</td><td>20.38893378545368</td><td>0.5067000012425268</td><td>nan</td><td>nan</td><td>nan</td><td>nan</td><td>nan</td><td>nan</td><td>nan</td><td>nan</td><td>2.2254498</td><td>1.345023</td><td>22.171082</td><td>nan</td><td>2.2254498</td><td>1.345023</td><td>23.031456</td><td>0.6562</td><td>0.2647764980792999</td><td>0.9449403882026672</td><td>23.06655502319336</td><td>nan</td><td>0.2647764980792999</td><td>0.9449403882026672</td><td>25.3428014152206</td><td>3.874800060625343</td><td>2.1057980060577393</td><td>0.9009032845497131</td><td>23.09145736694336</td><td>0.4645000100135803</td><td>2.1057980060577393</td><td>0.9009032845497131</td><td>23.09145822468755</td><td>0.4645000661066818</td><td>0.6863697171211243</td><td>5.828795909881592</td><td>21.171363830566406</td><td>nan</td><td>0.6863697171211243</td><td>5.828795909881593</td><td>24.308604714913663</td><td>9.220300068086695</td><td>4.036937713623047</td><td>5.889188766479492</td><td>20.902305603027344</td><td>nan</td><td>4.036937713623047</td><td>5.889188766479492</td><td>22.384869878293934</td><td>1.5838999543748493</td><td>0.13</td><td>False</td><td>False</td><td>0</td><td>7</td><td>7</td><td>0.011826240546781514</td><td>False</td><td>-99</td><td>1e+20</td><td>Brown</td></tr>\n",
       "<tr><td>9</td><td>HELP_J142948.260+322835.294</td><td>0.07936283200979233</td><td>0.058717913925647736</td><td>25.66494369506836</td><td>nan</td><td>0.07936283200979233</td><td>0.058717913925647736</td><td>26.6509571076702</td><td>0.8033000260005981</td><td>0.5350009202957153</td><td>0.3499539792537689</td><td>23.67091178894043</td><td>nan</td><td>0.5350009202957153</td><td>0.3499539792537689</td><td>24.579113677288014</td><td>0.7102000965997874</td><td>0.8904697299003601</td><td>0.6742477416992188</td><td>23.02488136291504</td><td>nan</td><td>0.8904697299003601</td><td>0.6742477416992188</td><td>24.025952097746874</td><td>0.822100021548361</td><td>Bootes</td><td>217.45108445616196</td><td>32.476470527634</td><td>149849869</td><td>nan</td><td>nan</td><td>nan</td><td>nan</td><td>nan</td><td>nan</td><td>nan</td><td>nan</td><td>nan</td><td>nan</td><td>nan</td><td>nan</td><td>nan</td><td>nan</td><td>nan</td><td>nan</td><td>nan</td><td>nan</td><td>nan</td><td>nan</td><td>nan</td><td>nan</td><td>nan</td><td>nan</td><td>nan</td><td>nan</td><td>nan</td><td>nan</td><td>nan</td><td>nan</td><td>nan</td><td>nan</td><td>nan</td><td>nan</td><td>nan</td><td>nan</td><td>nan</td><td>nan</td><td>nan</td><td>nan</td><td>nan</td><td>nan</td><td>nan</td><td>nan</td><td>nan</td><td>nan</td><td>nan</td><td>nan</td><td>nan</td><td>nan</td><td>nan</td><td>nan</td><td>nan</td><td>nan</td><td>nan</td><td>nan</td><td>nan</td><td>nan</td><td>nan</td><td>nan</td><td>nan</td><td>nan</td><td>nan</td><td>nan</td><td>1.9441037</td><td>0.648908257484436</td><td>23.178202</td><td>0.36239999532699585</td><td>1.9441037</td><td>0.648908257484436</td><td>23.178202</td><td>0.36240000071251827</td><td>-0.72539216</td><td>1.0703136920928955</td><td>23.522928</td><td>nan</td><td>-0.72539216</td><td>1.0703136920928955</td><td>nan</td><td>-1.6020001118681308</td><td>0.44283664</td><td>3.2802348136901855</td><td>21.786741</td><td>nan</td><td>0.44283664</td><td>3.2802348136901855</td><td>24.784391</td><td>8.042400644880834</td><td>0.2669720947742462</td><td>0.07794725149869919</td><td>25.33383560180664</td><td>0.31700000166893005</td><td>0.2669720947742462</td><td>0.07794725149869919</td><td>25.333835327102726</td><td>0.31699999614225227</td><td>0.7699458003044128</td><td>0.14431127905845642</td><td>24.183849334716797</td><td>0.20350000262260437</td><td>0.7699458003044128</td><td>0.14431127905845642</td><td>24.183849613877847</td><td>0.20350001307464988</td><td>0.16890433430671692</td><td>0.03630925342440605</td><td>25.83089828491211</td><td>0.23340000212192535</td><td>0.16890433430671692</td><td>0.03630925342440605</td><td>25.830898014300168</td><td>0.23339999634957867</td><td>nan</td><td>nan</td><td>nan</td><td>nan</td><td>nan</td><td>nan</td><td>nan</td><td>nan</td><td>nan</td><td>nan</td><td>nan</td><td>nan</td><td>nan</td><td>nan</td><td>nan</td><td>nan</td><td>1.2527326</td><td>0.7203232</td><td>22.824257</td><td>nan</td><td>1.2527326</td><td>0.7203232</td><td>23.655354</td><td>0.6243</td><td>1.989384412765503</td><td>0.5582990050315857</td><td>23.153202056884766</td><td>0.30469998717308044</td><td>1.989384412765503</td><td>0.5582990050315857</td><td>23.15320322291803</td><td>0.3047000061695391</td><td>-0.4346882700920105</td><td>0.836197555065155</td><td>23.668455123901367</td><td>nan</td><td>-0.4346882700920105</td><td>0.836197555065155</td><td>nan</td><td>-2.088600089605121</td><td>6.545732498168945</td><td>4.491487979888916</td><td>20.922161102294922</td><td>nan</td><td>6.545732498168945</td><td>4.491487979888916</td><td>21.8601043670105</td><td>0.7450000613935086</td><td>1.588300108909607</td><td>7.475454807281494</td><td>20.85371208190918</td><td>nan</td><td>1.588300108909607</td><td>7.475454807281494</td><td>23.397668585803167</td><td>5.110099713378942</td><td>0.0</td><td>False</td><td>False</td><td>0</td><td>7</td><td>7</td><td>0.007416890749520779</td><td>False</td><td>-99</td><td>1e+20</td><td>Brown</td></tr>\n",
       "</table><style>table.dataTable {clear: both; width: auto !important; margin: 0 !important;}\n",
       ".dataTables_info, .dataTables_length, .dataTables_filter, .dataTables_paginate{\n",
       "display: inline-block; margin-right: 1em; }\n",
       ".paginate_button { margin-right: 5px; }\n",
       "</style>\n",
       "<script>\n",
       "\n",
       "var astropy_sort_num = function(a, b) {\n",
       "    var a_num = parseFloat(a);\n",
       "    var b_num = parseFloat(b);\n",
       "\n",
       "    if (isNaN(a_num) && isNaN(b_num))\n",
       "        return ((a < b) ? -1 : ((a > b) ? 1 : 0));\n",
       "    else if (!isNaN(a_num) && !isNaN(b_num))\n",
       "        return ((a_num < b_num) ? -1 : ((a_num > b_num) ? 1 : 0));\n",
       "    else\n",
       "        return isNaN(a_num) ? -1 : 1;\n",
       "}\n",
       "\n",
       "require.config({paths: {\n",
       "    datatables: 'https://cdn.datatables.net/1.10.12/js/jquery.dataTables.min'\n",
       "}});\n",
       "require([\"datatables\"], function(){\n",
       "    console.log(\"$('#table139896441762928-809313').dataTable()\");\n",
       "    \n",
       "jQuery.extend( jQuery.fn.dataTableExt.oSort, {\n",
       "    \"optionalnum-asc\": astropy_sort_num,\n",
       "    \"optionalnum-desc\": function (a,b) { return -astropy_sort_num(a, b); }\n",
       "});\n",
       "\n",
       "    $('#table139896441762928-809313').dataTable({\n",
       "        order: [],\n",
       "        pageLength: 50,\n",
       "        lengthMenu: [[10, 25, 50, 100, 500, 1000, -1], [10, 25, 50, 100, 500, 1000, 'All']],\n",
       "        pagingType: \"full_numbers\",\n",
       "        columnDefs: [{targets: [0, 2, 3, 4, 5, 6, 7, 8, 9, 10, 11, 12, 13, 14, 15, 16, 17, 18, 19, 20, 21, 22, 23, 24, 25, 27, 28, 29, 30, 31, 32, 33, 34, 35, 36, 37, 38, 39, 40, 41, 42, 43, 44, 45, 46, 47, 48, 49, 50, 51, 52, 53, 54, 55, 56, 57, 58, 59, 60, 61, 62, 63, 64, 65, 66, 67, 68, 69, 70, 71, 72, 73, 74, 75, 76, 77, 78, 79, 80, 81, 82, 83, 84, 85, 86, 87, 88, 89, 90, 91, 92, 93, 94, 95, 96, 97, 98, 99, 100, 101, 102, 103, 104, 105, 106, 107, 108, 109, 110, 111, 112, 113, 114, 115, 116, 117, 118, 119, 120, 121, 122, 123, 124, 125, 126, 127, 128, 129, 130, 131, 132, 133, 134, 135, 136, 137, 138, 139, 140, 141, 142, 143, 144, 145, 146, 147, 148, 149, 150, 151, 152, 153, 154, 155, 156, 157, 158, 159, 160, 161, 162, 163, 164, 165, 166, 167, 168, 169, 170, 171, 172, 173, 174, 175, 176, 177, 178, 179, 180, 181, 182, 183, 184, 185, 186, 187, 188, 189, 190, 191, 192, 193, 194, 195, 196, 197, 198, 201, 202, 203, 204, 206, 207], type: \"optionalnum\"}]\n",
       "    });\n",
       "});\n",
       "</script>\n"
      ],
      "text/plain": [
       "<IPython.core.display.HTML object>"
      ]
     },
     "execution_count": 12,
     "metadata": {},
     "output_type": "execute_result"
    }
   ],
   "source": [
    "master_catalogue[:10].show_in_notebook()"
   ]
  },
  {
   "cell_type": "code",
   "execution_count": 13,
   "metadata": {
    "collapsed": true
   },
   "outputs": [],
   "source": [
    "columns = [\"help_id\", \"field\", \"ra\", \"dec\", \"hp_idx\"]\n",
    "\n",
    "bands = [column[5:] for column in master_catalogue.colnames if 'f_ap' in column]\n",
    "for band in bands:\n",
    "    columns += [\"f_ap_{}\".format(band), \"ferr_ap_{}\".format(band),\n",
    "                \"m_ap_{}\".format(band), \"merr_ap_{}\".format(band),\n",
    "                \"f_{}\".format(band), \"ferr_{}\".format(band),\n",
    "                \"m_{}\".format(band), \"merr_{}\".format(band),\n",
    "                #\"flag_{}\".format(band)\n",
    "               ]    \n",
    "    \n",
    "columns += [\"stellarity\",  \"flag_cleaned\", \"flag_merged\", \"flag_gaia\", \"flag_optnir_obs\", \n",
    "            \"flag_optnir_det\", \"ebv\", 'zspec_association_flag', 'zspec_qual', 'zspec', \"stellarity_origin\"] "
   ]
  },
  {
   "cell_type": "code",
   "execution_count": 14,
   "metadata": {
    "collapsed": true
   },
   "outputs": [
    {
     "name": "stdout",
     "output_type": "stream",
     "text": [
      "['help_id', 'field', 'ra', 'dec', 'hp_idx', 'f_ap_lbc_u', 'ferr_ap_lbc_u', 'm_ap_lbc_u', 'merr_ap_lbc_u', 'f_lbc_u', 'ferr_lbc_u', 'm_lbc_u', 'merr_lbc_u', 'f_ap_suprime_z', 'ferr_ap_suprime_z', 'm_ap_suprime_z', 'merr_ap_suprime_z', 'f_suprime_z', 'ferr_suprime_z', 'm_suprime_z', 'merr_suprime_z', 'f_ap_lbc_y', 'ferr_ap_lbc_y', 'm_ap_lbc_y', 'merr_ap_lbc_y', 'f_lbc_y', 'ferr_lbc_y', 'm_lbc_y', 'merr_lbc_y', 'f_ap_gpc1_g', 'ferr_ap_gpc1_g', 'm_ap_gpc1_g', 'merr_ap_gpc1_g', 'f_gpc1_g', 'ferr_gpc1_g', 'm_gpc1_g', 'merr_gpc1_g', 'f_ap_gpc1_r', 'ferr_ap_gpc1_r', 'm_ap_gpc1_r', 'merr_ap_gpc1_r', 'f_gpc1_r', 'ferr_gpc1_r', 'm_gpc1_r', 'merr_gpc1_r', 'f_ap_gpc1_i', 'ferr_ap_gpc1_i', 'm_ap_gpc1_i', 'merr_ap_gpc1_i', 'f_gpc1_i', 'ferr_gpc1_i', 'm_gpc1_i', 'merr_gpc1_i', 'f_ap_gpc1_z', 'ferr_ap_gpc1_z', 'm_ap_gpc1_z', 'merr_ap_gpc1_z', 'f_gpc1_z', 'ferr_gpc1_z', 'm_gpc1_z', 'merr_gpc1_z', 'f_ap_gpc1_y', 'ferr_ap_gpc1_y', 'm_ap_gpc1_y', 'merr_ap_gpc1_y', 'f_gpc1_y', 'ferr_gpc1_y', 'm_gpc1_y', 'merr_gpc1_y', 'f_ap_90prime_g', 'ferr_ap_90prime_g', 'm_ap_90prime_g', 'merr_ap_90prime_g', 'f_90prime_g', 'ferr_90prime_g', 'm_90prime_g', 'merr_90prime_g', 'f_ap_90prime_r', 'ferr_ap_90prime_r', 'm_ap_90prime_r', 'merr_ap_90prime_r', 'f_90prime_r', 'ferr_90prime_r', 'm_90prime_r', 'merr_90prime_r', 'f_ap_mosaic_z', 'ferr_ap_mosaic_z', 'm_ap_mosaic_z', 'merr_ap_mosaic_z', 'f_mosaic_z', 'ferr_mosaic_z', 'm_mosaic_z', 'merr_mosaic_z', 'f_ap_newfirm_j', 'ferr_ap_newfirm_j', 'm_ap_newfirm_j', 'merr_ap_newfirm_j', 'f_newfirm_j', 'ferr_newfirm_j', 'm_newfirm_j', 'merr_newfirm_j', 'f_ap_newfirm_h', 'ferr_ap_newfirm_h', 'm_ap_newfirm_h', 'merr_ap_newfirm_h', 'f_newfirm_h', 'ferr_newfirm_h', 'm_newfirm_h', 'merr_newfirm_h', 'f_ap_newfirm_k', 'ferr_ap_newfirm_k', 'm_ap_newfirm_k', 'merr_ap_newfirm_k', 'f_newfirm_k', 'ferr_newfirm_k', 'm_newfirm_k', 'merr_newfirm_k', 'f_ap_mosaic_r', 'ferr_ap_mosaic_r', 'm_ap_mosaic_r', 'merr_ap_mosaic_r', 'f_mosaic_r', 'ferr_mosaic_r', 'm_mosaic_r', 'merr_mosaic_r', 'f_ap_mosaic_i', 'ferr_ap_mosaic_i', 'm_ap_mosaic_i', 'merr_ap_mosaic_i', 'f_mosaic_i', 'ferr_mosaic_i', 'm_mosaic_i', 'merr_mosaic_i', 'f_ap_mosaic_b', 'ferr_ap_mosaic_b', 'm_ap_mosaic_b', 'merr_ap_mosaic_b', 'f_mosaic_b', 'ferr_mosaic_b', 'm_mosaic_b', 'merr_mosaic_b', 'f_ap_tifkam_ks', 'ferr_ap_tifkam_ks', 'm_ap_tifkam_ks', 'merr_ap_tifkam_ks', 'f_tifkam_ks', 'ferr_tifkam_ks', 'm_tifkam_ks', 'merr_tifkam_ks', 'f_ap_ukidss_j', 'ferr_ap_ukidss_j', 'm_ap_ukidss_j', 'merr_ap_ukidss_j', 'f_ukidss_j', 'ferr_ukidss_j', 'm_ukidss_j', 'merr_ukidss_j', 'f_ap_90prime_z', 'ferr_ap_90prime_z', 'm_ap_90prime_z', 'merr_ap_90prime_z', 'f_90prime_z', 'ferr_90prime_z', 'm_90prime_z', 'merr_90prime_z', 'f_ap_irac_i1', 'ferr_ap_irac_i1', 'm_ap_irac_i1', 'merr_ap_irac_i1', 'f_irac_i1', 'ferr_irac_i1', 'm_irac_i1', 'merr_irac_i1', 'f_ap_irac_i2', 'ferr_ap_irac_i2', 'm_ap_irac_i2', 'merr_ap_irac_i2', 'f_irac_i2', 'ferr_irac_i2', 'm_irac_i2', 'merr_irac_i2', 'f_ap_irac_i3', 'ferr_ap_irac_i3', 'm_ap_irac_i3', 'merr_ap_irac_i3', 'f_irac_i3', 'ferr_irac_i3', 'm_irac_i3', 'merr_irac_i3', 'f_ap_irac_i4', 'ferr_ap_irac_i4', 'm_ap_irac_i4', 'merr_ap_irac_i4', 'f_irac_i4', 'ferr_irac_i4', 'm_irac_i4', 'merr_irac_i4', 'stellarity', 'flag_cleaned', 'flag_merged', 'flag_gaia', 'flag_optnir_obs', 'flag_optnir_det', 'ebv', 'zspec_association_flag', 'zspec_qual', 'zspec', 'stellarity_origin']\n"
     ]
    }
   ],
   "source": [
    "master_catalogue = master_catalogue.filled()\n",
    "print(columns)\n",
    "master_catalogue[columns].write(\"{}/master_catalogue_bootes{}.fits\".format(OUT_DIR, SUFFIX), overwrite=True)"
   ]
  },
  {
   "cell_type": "markdown",
   "metadata": {},
   "source": [
    "## 5 - Make final cross ID catalogue"
   ]
  },
  {
   "cell_type": "code",
   "execution_count": 15,
   "metadata": {},
   "outputs": [],
   "source": [
    "brown_cross_id = Table.read(\"{}/{}\".format(OUT_DIR,brown_cross_id_name))\n",
    "brown_cross_id['help_id'].name = 'brown_help_id'\n",
    "brown_cross_id['full_help_id'].name = 'help_help_id'\n",
    "\n",
    "\n",
    "help_cross_id = Table.read(\"{}/{}\".format(OUT_DIR,help_cross_id_name))\n",
    "help_cross_id.remove_columns(['specz_id', 'sdss_id'])\n",
    "help_cross_id['help_id'].name = 'help_help_id'\n",
    "\n",
    "final_cross_id = join(brown_cross_id, help_cross_id, join_type='left')\n",
    "\n",
    "\n",
    "\n",
    "\n",
    "\n",
    "for col in final_cross_id.colnames:\n",
    "    final_cross_id[col].fill_value = -1\n",
    "final_cross_id = final_cross_id.filled()\n",
    "\n",
    "final_cross_id['specz_id'][final_cross_id['specz_id'] == ''] = '-1'\n",
    "\n",
    "final_cross_id.add_column(Column(data=final_cross_id['help_help_id'], name = 'help_id'))\n",
    "have_brown_id = (final_cross_id['brown_help_id'] != '-1')\n",
    "final_cross_id['help_id'][have_brown_id] = final_cross_id['brown_help_id'][have_brown_id]"
   ]
  },
  {
   "cell_type": "code",
   "execution_count": 16,
   "metadata": {},
   "outputs": [
    {
     "data": {
      "text/plain": [
       "['brown_i_id',\n",
       " 'brown_irac_id',\n",
       " 'help_help_id',\n",
       " 'brown_help_id',\n",
       " 'specz_id',\n",
       " 'sdss_id',\n",
       " 'ps1_id',\n",
       " 'legacy_id',\n",
       " 'ibis_id',\n",
       " 'ndwfs_id',\n",
       " 'uhs_id',\n",
       " 'zbootes_id',\n",
       " 'datafusion_intid',\n",
       " 'help_id']"
      ]
     },
     "execution_count": 16,
     "metadata": {},
     "output_type": "execute_result"
    }
   ],
   "source": [
    "final_cross_id.colnames"
   ]
  },
  {
   "cell_type": "code",
   "execution_count": 17,
   "metadata": {},
   "outputs": [
    {
     "name": "stdout",
     "output_type": "stream",
     "text": [
      "set()\n"
     ]
    }
   ],
   "source": [
    "columns = ['help_id',\n",
    "           'brown_help_id',\n",
    "           'help_help_id',\n",
    "           'brown_i_id',\n",
    "           'brown_irac_id',\n",
    "           'specz_id',\n",
    "           'sdss_id',\n",
    "           'ps1_id',\n",
    "           'legacy_id',\n",
    "           'ibis_id',\n",
    "           'ndwfs_id',\n",
    "           'uhs_id',\n",
    "           'zbootes_id',\n",
    "           'datafusion_intid']\n",
    "print(set(columns) - set(final_cross_id.colnames))\n",
    "final_cross_id = final_cross_id[columns]"
   ]
  },
  {
   "cell_type": "code",
   "execution_count": 18,
   "metadata": {},
   "outputs": [
    {
     "data": {
      "text/html": [
       "<i>Table length=10</i>\n",
       "<table id=\"table139896441764888-61620\" class=\"table-striped table-bordered table-condensed\">\n",
       "<thead><tr><th>idx</th><th>help_id</th><th>brown_help_id</th><th>help_help_id</th><th>brown_i_id</th><th>brown_irac_id</th><th>specz_id</th><th>sdss_id</th><th>ps1_id</th><th>legacy_id</th><th>ibis_id</th><th>ndwfs_id</th><th>uhs_id</th><th>zbootes_id</th><th>datafusion_intid</th></tr></thead>\n",
       "<tr><td>0</td><td>HELP_J142500.285+331035.838</td><td>HELP_J142500.285+331035.838</td><td>-1</td><td>394263</td><td>-1</td><td>-1</td><td>-1</td><td>-1</td><td>-1</td><td>-1</td><td>-1</td><td>-1</td><td>-1</td><td>-1</td></tr>\n",
       "<tr><td>1</td><td>HELP_J143318.051+332158.118</td><td>HELP_J143318.051+332158.118</td><td>-1</td><td>473154</td><td>-1</td><td>-1</td><td>-1</td><td>-1</td><td>-1</td><td>-1</td><td>-1</td><td>-1</td><td>-1</td><td>-1</td></tr>\n",
       "<tr><td>2</td><td>HELP_J142939.235+354635.105</td><td>HELP_J142939.235+354635.105</td><td>-1</td><td>2019839</td><td>-1</td><td>-1</td><td>-1</td><td>-1</td><td>-1</td><td>-1</td><td>-1</td><td>-1</td><td>-1</td><td>-1</td></tr>\n",
       "<tr><td>3</td><td>HELP_J142446.142+331756.854</td><td>HELP_J142446.142+331756.854</td><td>-1</td><td>445407</td><td>-1</td><td>-1</td><td>-1</td><td>-1</td><td>-1</td><td>-1</td><td>-1</td><td>-1</td><td>-1</td><td>-1</td></tr>\n",
       "<tr><td>4</td><td>HELP_J142639.609+354724.470</td><td>HELP_J142639.609+354724.470</td><td>-1</td><td>2027735</td><td>-1</td><td>-1</td><td>-1</td><td>-1</td><td>-1</td><td>-1</td><td>-1</td><td>-1</td><td>-1</td><td>-1</td></tr>\n",
       "<tr><td>5</td><td>HELP_J142446.456+324136.432</td><td>HELP_J142446.456+324136.432</td><td>-1</td><td>161462</td><td>-1</td><td>-1</td><td>-1</td><td>-1</td><td>-1</td><td>-1</td><td>-1</td><td>-1</td><td>-1</td><td>-1</td></tr>\n",
       "<tr><td>6</td><td>HELP_J142440.580+354503.991</td><td>HELP_J142440.580+354503.991</td><td>-1</td><td>2005436</td><td>-1</td><td>-1</td><td>-1</td><td>-1</td><td>-1</td><td>-1</td><td>-1</td><td>-1</td><td>-1</td><td>-1</td></tr>\n",
       "<tr><td>7</td><td>HELP_J142742.433+325234.332</td><td>HELP_J142742.433+325234.332</td><td>-1</td><td>242716</td><td>-1</td><td>-1</td><td>-1</td><td>-1</td><td>-1</td><td>-1</td><td>-1</td><td>-1</td><td>-1</td><td>-1</td></tr>\n",
       "<tr><td>8</td><td>HELP_J142510.784+344929.132</td><td>HELP_J142510.784+344929.132</td><td>-1</td><td>1446199</td><td>-1</td><td>-1</td><td>-1</td><td>-1</td><td>-1</td><td>-1</td><td>-1</td><td>-1</td><td>-1</td><td>-1</td></tr>\n",
       "<tr><td>9</td><td>HELP_J143221.937+354511.185</td><td>HELP_J143221.937+354511.185</td><td>-1</td><td>2006597</td><td>-1</td><td>-1</td><td>-1</td><td>-1</td><td>-1</td><td>-1</td><td>-1</td><td>-1</td><td>-1</td><td>-1</td></tr>\n",
       "</table><style>table.dataTable {clear: both; width: auto !important; margin: 0 !important;}\n",
       ".dataTables_info, .dataTables_length, .dataTables_filter, .dataTables_paginate{\n",
       "display: inline-block; margin-right: 1em; }\n",
       ".paginate_button { margin-right: 5px; }\n",
       "</style>\n",
       "<script>\n",
       "\n",
       "var astropy_sort_num = function(a, b) {\n",
       "    var a_num = parseFloat(a);\n",
       "    var b_num = parseFloat(b);\n",
       "\n",
       "    if (isNaN(a_num) && isNaN(b_num))\n",
       "        return ((a < b) ? -1 : ((a > b) ? 1 : 0));\n",
       "    else if (!isNaN(a_num) && !isNaN(b_num))\n",
       "        return ((a_num < b_num) ? -1 : ((a_num > b_num) ? 1 : 0));\n",
       "    else\n",
       "        return isNaN(a_num) ? -1 : 1;\n",
       "}\n",
       "\n",
       "require.config({paths: {\n",
       "    datatables: 'https://cdn.datatables.net/1.10.12/js/jquery.dataTables.min'\n",
       "}});\n",
       "require([\"datatables\"], function(){\n",
       "    console.log(\"$('#table139896441764888-61620').dataTable()\");\n",
       "    \n",
       "jQuery.extend( jQuery.fn.dataTableExt.oSort, {\n",
       "    \"optionalnum-asc\": astropy_sort_num,\n",
       "    \"optionalnum-desc\": function (a,b) { return -astropy_sort_num(a, b); }\n",
       "});\n",
       "\n",
       "    $('#table139896441764888-61620').dataTable({\n",
       "        order: [],\n",
       "        pageLength: 50,\n",
       "        lengthMenu: [[10, 25, 50, 100, 500, 1000, -1], [10, 25, 50, 100, 500, 1000, 'All']],\n",
       "        pagingType: \"full_numbers\",\n",
       "        columnDefs: [{targets: [0, 4, 5, 7, 8, 9, 12, 14], type: \"optionalnum\"}]\n",
       "    });\n",
       "});\n",
       "</script>\n"
      ],
      "text/plain": [
       "<IPython.core.display.HTML object>"
      ]
     },
     "execution_count": 18,
     "metadata": {},
     "output_type": "execute_result"
    }
   ],
   "source": [
    "final_cross_id[:10].show_in_notebook()"
   ]
  },
  {
   "cell_type": "code",
   "execution_count": 19,
   "metadata": {},
   "outputs": [],
   "source": [
    "\n",
    "final_cross_id.write(\"master_list_cross_ident_bootes{}.fits\".format(SUFFIX), overwrite=True)"
   ]
  }
 ],
 "metadata": {
  "kernelspec": {
   "display_name": "Python (herschelhelp_internal)",
   "language": "python",
   "name": "helpint"
  },
  "language_info": {
   "codemirror_mode": {
    "name": "ipython",
    "version": 3
   },
   "file_extension": ".py",
   "mimetype": "text/x-python",
   "name": "python",
   "nbconvert_exporter": "python",
   "pygments_lexer": "ipython3",
   "version": "3.7.2"
  }
 },
 "nbformat": 4,
 "nbformat_minor": 2
}
