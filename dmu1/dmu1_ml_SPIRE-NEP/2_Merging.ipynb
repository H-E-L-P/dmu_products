{
 "cells": [
  {
   "cell_type": "markdown",
   "metadata": {},
   "source": [
    "# SPIRE-NEP master catalogue\n",
    "\n",
    "This notebook presents the merge of the various pristine catalogues to produce HELP mater catalogue on SPIRE-NEP."
   ]
  },
  {
   "cell_type": "code",
   "execution_count": 1,
   "metadata": {},
   "outputs": [
    {
     "name": "stdout",
     "output_type": "stream",
     "text": [
      "This notebook was run with herschelhelp_internal version: \n",
      "0246c5d (Thu Jan 25 17:01:47 2018 +0000) [with local modifications]\n",
      "This notebook was executed on: \n",
      "2018-02-20 16:17:05.784701\n"
     ]
    }
   ],
   "source": [
    "from herschelhelp_internal import git_version\n",
    "print(\"This notebook was run with herschelhelp_internal version: \\n{}\".format(git_version()))\n",
    "import datetime\n",
    "print(\"This notebook was executed on: \\n{}\".format(datetime.datetime.now()))"
   ]
  },
  {
   "cell_type": "code",
   "execution_count": 2,
   "metadata": {
    "collapsed": true
   },
   "outputs": [],
   "source": [
    "%matplotlib inline\n",
    "#%config InlineBackend.figure_format = 'svg'\n",
    "\n",
    "import matplotlib.pyplot as plt\n",
    "plt.rc('figure', figsize=(10, 6))\n",
    "\n",
    "import os\n",
    "import time\n",
    "\n",
    "from astropy import units as u\n",
    "from astropy.coordinates import SkyCoord\n",
    "from astropy.table import Column, Table\n",
    "import numpy as np\n",
    "from pymoc import MOC\n",
    "\n",
    "from herschelhelp_internal.masterlist import merge_catalogues, nb_merge_dist_plot, specz_merge\n",
    "from herschelhelp_internal.utils import coords_to_hpidx, ebv, gen_help_id, inMoc"
   ]
  },
  {
   "cell_type": "code",
   "execution_count": 3,
   "metadata": {
    "collapsed": true
   },
   "outputs": [],
   "source": [
    "TMP_DIR = os.environ.get('TMP_DIR', \"./data_tmp\")\n",
    "OUT_DIR = os.environ.get('OUT_DIR', \"./data\")\n",
    "SUFFIX = os.environ.get('SUFFIX', time.strftime(\"_%Y%m%d\"))\n",
    "\n",
    "try:\n",
    "    os.makedirs(OUT_DIR)\n",
    "except FileExistsError:\n",
    "    pass"
   ]
  },
  {
   "cell_type": "markdown",
   "metadata": {},
   "source": [
    "## I - Reading the prepared pristine catalogues"
   ]
  },
  {
   "cell_type": "code",
   "execution_count": 4,
   "metadata": {
    "collapsed": true
   },
   "outputs": [],
   "source": [
    "ps1 = Table.read(\"{}/PS1.fits\".format(TMP_DIR))"
   ]
  },
  {
   "cell_type": "markdown",
   "metadata": {},
   "source": [
    "## II - Merging tables\n",
    "\n",
    "We first merge the optical catalogues and then add the infrared ones: DECaLS, HSC, KIDS, PanSTARRS, UKIDSS-LAS, and VISTA-VIKING.\n",
    "\n",
    "At every step, we look at the distribution of the distances separating the sources from one catalogue to the other (within a maximum radius) to determine the best cross-matching radius."
   ]
  },
  {
   "cell_type": "markdown",
   "metadata": {},
   "source": [
    "### DECaLS"
   ]
  },
  {
   "cell_type": "code",
   "execution_count": 5,
   "metadata": {
    "collapsed": true
   },
   "outputs": [],
   "source": [
    "master_catalogue = ps1\n",
    "master_catalogue['ps1_ra'].name = 'ra'\n",
    "master_catalogue['ps1_dec'].name = 'dec'"
   ]
  },
  {
   "cell_type": "markdown",
   "metadata": {},
   "source": [
    "### Cleaning\n",
    "\n",
    "When we merge the catalogues, astropy masks the non-existent values (e.g. when a row comes only from a catalogue and has no counterparts in the other, the columns from the latest are masked for that row). We indicate to use NaN for masked values for floats columns, False for flag columns and -1 for ID columns."
   ]
  },
  {
   "cell_type": "code",
   "execution_count": 6,
   "metadata": {
    "collapsed": true
   },
   "outputs": [],
   "source": [
    "for col in master_catalogue.colnames:\n",
    "    if \"m_\" in col or \"merr_\" in col or \"f_\" in col or \"ferr_\" in col or \"stellarity\" in col:\n",
    "        master_catalogue[col].fill_value = np.nan\n",
    "    elif \"flag\" in col:\n",
    "        master_catalogue[col].fill_value = 0\n",
    "    elif \"id\" in col:\n",
    "        master_catalogue[col].fill_value = -1\n",
    "        \n",
    "master_catalogue = master_catalogue.filled()"
   ]
  },
  {
   "cell_type": "code",
   "execution_count": 7,
   "metadata": {},
   "outputs": [
    {
     "data": {
      "text/html": [
       "&lt;Table length=10&gt;\n",
       "<table id=\"table139792380217384-931019\" class=\"table-striped table-bordered table-condensed\">\n",
       "<thead><tr><th>idx</th><th>ps1_id</th><th>ra</th><th>dec</th><th>m_ap_gpc1_g</th><th>merr_ap_gpc1_g</th><th>m_gpc1_g</th><th>merr_gpc1_g</th><th>m_ap_gpc1_r</th><th>merr_ap_gpc1_r</th><th>m_gpc1_r</th><th>merr_gpc1_r</th><th>m_ap_gpc1_i</th><th>merr_ap_gpc1_i</th><th>m_gpc1_i</th><th>merr_gpc1_i</th><th>m_ap_gpc1_z</th><th>merr_ap_gpc1_z</th><th>m_gpc1_z</th><th>merr_gpc1_z</th><th>m_ap_gpc1_y</th><th>merr_ap_gpc1_y</th><th>m_gpc1_y</th><th>merr_gpc1_y</th><th>f_ap_gpc1_g</th><th>ferr_ap_gpc1_g</th><th>f_gpc1_g</th><th>ferr_gpc1_g</th><th>flag_gpc1_g</th><th>f_ap_gpc1_r</th><th>ferr_ap_gpc1_r</th><th>f_gpc1_r</th><th>ferr_gpc1_r</th><th>flag_gpc1_r</th><th>f_ap_gpc1_i</th><th>ferr_ap_gpc1_i</th><th>f_gpc1_i</th><th>ferr_gpc1_i</th><th>flag_gpc1_i</th><th>f_ap_gpc1_z</th><th>ferr_ap_gpc1_z</th><th>f_gpc1_z</th><th>ferr_gpc1_z</th><th>flag_gpc1_z</th><th>f_ap_gpc1_y</th><th>ferr_ap_gpc1_y</th><th>f_gpc1_y</th><th>ferr_gpc1_y</th><th>flag_gpc1_y</th><th>ps1_flag_cleaned</th><th>ps1_flag_gaia</th></tr></thead>\n",
       "<thead><tr><th></th><th></th><th>deg</th><th>deg</th><th></th><th></th><th></th><th></th><th></th><th></th><th></th><th></th><th></th><th></th><th></th><th></th><th></th><th></th><th></th><th></th><th></th><th></th><th></th><th></th><th></th><th></th><th></th><th></th><th></th><th></th><th></th><th></th><th></th><th></th><th></th><th></th><th></th><th></th><th></th><th></th><th></th><th></th><th></th><th></th><th></th><th></th><th></th><th></th><th></th><th></th><th></th></tr></thead>\n",
       "<tr><td>0</td><td>190582648149477540</td><td>264.814910507</td><td>68.8223297362</td><td>14.2279996872</td><td>0.00633599981666</td><td>14.305100441</td><td>0.000615000026301</td><td>13.748000145</td><td>3.70000016119e-05</td><td>13.8243999481</td><td>0.00379400001839</td><td>13.5951004028</td><td>0.0022450000979</td><td>13.6630001068</td><td>0.00166599999648</td><td>13.5431003571</td><td>0.0016680000117</td><td>13.6027002335</td><td>0.00132399995346</td><td>13.5167999268</td><td>0.00312400003895</td><td>13.5798997879</td><td>0.00324900005944</td><td>7392.64965642</td><td>43.1410748416</td><td>6885.8859237</td><td>3.90041338367</td><td>False</td><td>11502.7039422</td><td>0.391992145547</td><td>10721.1166356</td><td>37.4639037866</td><td>False</td><td>13242.1907313</td><td>27.381162531</td><td>12439.4150118</td><td>19.0875695911</td><td>False</td><td>13891.8427035</td><td>21.3418265787</td><td>13149.8229838</td><td>16.0355387821</td><td>False</td><td>14232.4618806</td><td>40.9512101325</td><td>13428.8890239</td><td>40.1851398577</td><td>False</td><td>False</td><td>3</td></tr>\n",
       "<tr><td>1</td><td>190632649450999463</td><td>264.945037767</td><td>68.8656346562</td><td>14.2491998672</td><td>0.000959999975748</td><td>14.3062000275</td><td>0.00042699999176</td><td>13.9289999008</td><td>0.00045299998601</td><td>14.0030002594</td><td>0.00479699997231</td><td>13.8473997116</td><td>0.00335499993525</td><td>13.899600029</td><td>0.00277099991217</td><td>13.795999527</td><td>0.00254400004633</td><td>13.8442001343</td><td>0.0031429999508</td><td>13.7894001007</td><td>0.00314199994318</td><td>13.8352003098</td><td>0.00204900000244</td><td>7249.70029559</td><td>6.41013174052</td><td>6878.91572756</td><td>2.70535047658</td><td>False</td><td>9736.43658741</td><td>4.06231791715</td><td>9094.94121263</td><td>40.1832715479</td><td>False</td><td>10496.3937834</td><td>32.4345824605</td><td>10003.6845478</td><td>25.5312560102</td><td>False</td><td>11005.2570089</td><td>25.7865347197</td><td>10527.3714341</td><td>30.4747394022</td><td>False</td><td>11072.3539319</td><td>32.0421620577</td><td>10614.9970082</td><td>20.0326090265</td><td>False</td><td>False</td><td>3</td></tr>\n",
       "<tr><td>2</td><td>190692655307894027</td><td>265.530709447</td><td>68.9110899862</td><td>15.5255002975</td><td>0.00400999980047</td><td>15.5634002686</td><td>0.00243099988438</td><td>14.5818996429</td><td>0.000727000006009</td><td>14.6403999329</td><td>0.00201299996115</td><td>14.1426000595</td><td>0.00152100005653</td><td>14.1857995987</td><td>0.00115300004836</td><td>13.9314002991</td><td>0.000998000032268</td><td>13.9735002518</td><td>0.0016230000183</td><td>13.7867002487</td><td>0.00202600006014</td><td>13.8350000381</td><td>0.0015269999858</td><td>2237.6897935</td><td>8.26456333143</td><td>2160.92598842</td><td>4.83838597716</td><td>False</td><td>5336.29884185</td><td>3.57314168312</td><td>5056.38374901</td><td>9.37474521502</td><td>False</td><td>7997.60547107</td><td>11.2037881027</td><td>7685.64216844</td><td>8.16178529652</td><td>False</td><td>9714.93457884</td><td>8.92989013415</td><td>9345.44313605</td><td>13.9699259492</td><td>False</td><td>11099.9213236</td><td>20.7126198525</td><td>10616.955199</td><td>14.9318871076</td><td>False</td><td>False</td><td>3</td></tr>\n",
       "<tr><td>3</td><td>190832651577179648</td><td>265.157657507</td><td>69.0324273262</td><td>15.2238998413</td><td>0.00406700000167</td><td>15.2693996429</td><td>0.00790099985898</td><td>14.6610002518</td><td>0.000783000024967</td><td>14.7079000473</td><td>0.00157099997159</td><td>14.4495000839</td><td>0.0011569999624</td><td>14.5092000961</td><td>0.0022150001023</td><td>14.3676996231</td><td>0.00196200003847</td><td>14.4252004623</td><td>0.00537100015208</td><td>14.317199707</td><td>0.00185899995267</td><td>14.3607997894</td><td>0.00362000009045</td><td>2954.20115416</td><td>11.065980895</td><td>2832.95804491</td><td>20.6156900868</td><td>False</td><td>4961.35038537</td><td>3.57797544062</td><td>4751.60117527</td><td>6.87530293145</td><td>False</td><td>6028.37092325</td><td>6.42405116547</td><td>5705.84489136</td><td>11.6404398809</td><td>False</td><td>6500.10168696</td><td>11.7461310621</td><td>6164.81168808</td><td>30.4965463702</td><td>False</td><td>6809.57671954</td><td>11.6593724552</td><td>6541.5412484</td><td>21.8104359117</td><td>False</td><td>False</td><td>3</td></tr>\n",
       "<tr><td>4</td><td>190982647386142438</td><td>264.738555327</td><td>69.1513914262</td><td>14.8620996475</td><td>0.00308299995959</td><td>14.9170999527</td><td>0.00701199984178</td><td>14.4414997101</td><td>0.00082499999553</td><td>14.4989004135</td><td>0.00559099996462</td><td>14.2973003387</td><td>0.00254700006917</td><td>14.3661003113</td><td>0.00255699991249</td><td>14.2636003494</td><td>0.0020389999263</td><td>14.3268995285</td><td>0.00170999998227</td><td>14.2371997833</td><td>0.00266700005159</td><td>14.3076000214</td><td>0.00342199997976</td><td>4122.49503239</td><td>11.7060221097</td><td>3918.86243811</td><td>25.3091521454</td><td>False</td><td>6072.95573989</td><td>4.61455410283</td><td>5760.23013128</td><td>29.662312373</td><td>False</td><td>6935.5333515</td><td>16.2698856763</td><td>6509.68352624</td><td>15.3308512086</td><td>False</td><td>7154.17995683</td><td>13.435466498</td><td>6749.01181763</td><td>10.6294789083</td><td>False</td><td>7330.27194304</td><td>18.0060640555</td><td>6870.05148069</td><td>21.6528802529</td><td>False</td><td>False</td><td>3</td></tr>\n",
       "<tr><td>5</td><td>191022651184291037</td><td>265.118397937</td><td>69.1835778862</td><td>14.2899999619</td><td>0.00245700008236</td><td>14.3538999557</td><td>0.00548799987882</td><td>13.9597997665</td><td>0.000900999992155</td><td>14.0179004669</td><td>0.00256099994294</td><td>13.8449001312</td><td>0.00201900000684</td><td>13.9139003754</td><td>0.00277699995786</td><td>13.8359003067</td><td>0.00089999998454</td><td>13.8867998123</td><td>0.00273699988611</td><td>13.8187999725</td><td>0.0032389999833</td><td>13.8866996765</td><td>0.00340100005269</td><td>6982.32428609</td><td>15.8008651372</td><td>6583.24499604</td><td>33.2758984938</td><td>False</td><td>9464.11684249</td><td>7.85381307491</td><td>8970.97844615</td><td>21.1604579345</td><td>False</td><td>10520.586404</td><td>19.5637429502</td><td>9872.78887331</td><td>25.2517454654</td><td>False</td><td>10608.1555022</td><td>8.79342490946</td><td>10122.320289</td><td>25.5170541028</td><td>False</td><td>10776.5565194</td><td>32.1489384192</td><td>10123.2538983</td><td>31.7104531382</td><td>False</td><td>False</td><td>3</td></tr>\n",
       "<tr><td>6</td><td>190822654421335368</td><td>265.441837017</td><td>69.0204656262</td><td>15.1218996048</td><td>0.00309600005858</td><td>15.189499855</td><td>0.00392499985173</td><td>14.717499733</td><td>0.00105399999302</td><td>14.7691001892</td><td>0.00235199998133</td><td>14.5580997467</td><td>0.00131099997088</td><td>14.6118001938</td><td>0.00171600002795</td><td>14.5367002487</td><td>0.00341799994931</td><td>14.5911998749</td><td>0.00274699996226</td><td>14.5080003738</td><td>0.00274199992418</td><td>14.5721998215</td><td>0.00413300003856</td><td>3245.19021703</td><td>9.2537294584</td><td>3049.2993275</td><td>11.0233953293</td><td>False</td><td>4709.7744223</td><td>4.57210709791</td><td>4491.17444682</td><td>9.72910562323</td><td>False</td><td>5454.56474722</td><td>6.58625381879</td><td>5191.34536865</td><td>8.20489245794</td><td>False</td><td>5563.13886166</td><td>17.5132856985</td><td>5290.78422579</td><td>13.3861098164</td><td>False</td><td>5712.15324942</td><td>14.4259017137</td><td>5384.18621035</td><td>20.495624736</td><td>False</td><td>False</td><td>3</td></tr>\n",
       "<tr><td>7</td><td>190952647902459389</td><td>264.790211417</td><td>69.1320948362</td><td>12.3435001373</td><td>0.00108600000385</td><td>12.8218002319</td><td>0.00108600000385</td><td>11.1414003372</td><td>0.00108600000385</td><td>13.3312997818</td><td>0.0824650004506</td><td>11.5027999878</td><td>0.00161899998784</td><td>11.8860998154</td><td>0.00169099995401</td><td>10.4279003143</td><td>0.00108600000385</td><td>nan</td><td>nan</td><td>10.0581998825</td><td>0.0</td><td>10.0796003342</td><td>0.0</td><td>41937.2496622</td><td>41.9474390695</td><td>26994.7871348</td><td>27.0013460027</td><td>False</td><td>126893.642811</td><td>126.924473899</td><td>16884.1844249</td><td>1282.40568023</td><td>False</td><td>90966.1899263</td><td>135.644606617</td><td>63908.7133063</td><td>99.5358087793</td><td>False</td><td>244816.043102</td><td>244.875525553</td><td>nan</td><td>nan</td><td>False</td><td>344128.028951</td><td>0.0</td><td>337411.48894</td><td>0.0</td><td>False</td><td>False</td><td>3</td></tr>\n",
       "<tr><td>8</td><td>190762653395766088</td><td>265.339526907</td><td>68.9711315762</td><td>12.8346004486</td><td>0.00108600000385</td><td>12.8804998398</td><td>0.00108600000385</td><td>12.2329998016</td><td>0.00108600000385</td><td>12.5298995972</td><td>0.00108600000385</td><td>12.926199913</td><td>0.0191849991679</td><td>13.6634998322</td><td>0.0420270003378</td><td>11.8736000061</td><td>0.00909799989313</td><td>11.9169998169</td><td>0.0109440004453</td><td>11.7222003937</td><td>0.00293099996634</td><td>11.7566003799</td><td>0.00384699995629</td><td>26678.4025026</td><td>26.6848844992</td><td>25574.0826321</td><td>25.5802963144</td><td>False</td><td>46430.149211</td><td>46.4414302489</td><td>35321.5831713</td><td>35.3301651837</td><td>False</td><td>24519.9756628</td><td>433.268883019</td><td>12433.6909137</td><td>481.287010547</td><td>False</td><td>64648.7299718</td><td>541.728401242</td><td>62115.5125588</td><td>626.111751754</td><td>False</td><td>74322.4200552</td><td>200.637143466</td><td>72004.5346572</td><td>255.127756139</td><td>False</td><td>False</td><td>3</td></tr>\n",
       "<tr><td>9</td><td>190722653912264533</td><td>265.391174837</td><td>68.9364848762</td><td>12.714099884</td><td>0.00119099998847</td><td>12.758099556</td><td>0.00108600000385</td><td>12.3028001785</td><td>0.00108600000385</td><td>12.3551998138</td><td>0.00108600000385</td><td>12.6942996979</td><td>0.21552400291</td><td>12.6447000504</td><td>0.160992994905</td><td>12.1927995682</td><td>0.00108600000385</td><td>12.2520999908</td><td>0.00108600000385</td><td>12.1868000031</td><td>0.000859999970999</td><td>12.2322998047</td><td>0.00065000000177</td><td>29809.8675493</td><td>32.6999797481</td><td>28625.9677464</td><td>28.6329229389</td><td>False</td><td>43539.148234</td><td>43.5497268513</td><td>41487.7683448</td><td>41.4978485426</td><td>False</td><td>30358.4868158</td><td>6026.30968016</td><td>31777.518473</td><td>4711.97133078</td><td>False</td><td>48181.4840553</td><td>48.1931906114</td><td>45620.4960959</td><td>45.6315804141</td><td>False</td><td>48448.4624333</td><td>38.3755060437</td><td>46460.0933557</td><td>27.8143628545</td><td>False</td><td>False</td><td>3</td></tr>\n",
       "</table><style>table.dataTable {clear: both; width: auto !important; margin: 0 !important;}\n",
       ".dataTables_info, .dataTables_length, .dataTables_filter, .dataTables_paginate{\n",
       "display: inline-block; margin-right: 1em; }\n",
       ".paginate_button { margin-right: 5px; }\n",
       "</style>\n",
       "<script>\n",
       "require.config({paths: {\n",
       "    datatables: 'https://cdn.datatables.net/1.10.12/js/jquery.dataTables.min'\n",
       "}});\n",
       "require([\"datatables\"], function(){\n",
       "    console.log(\"$('#table139792380217384-931019').dataTable()\");\n",
       "    $('#table139792380217384-931019').dataTable({\n",
       "        \"order\": [],\n",
       "        \"iDisplayLength\": 50,\n",
       "        \"aLengthMenu\": [[10, 25, 50, 100, 500, 1000, -1], [10, 25, 50, 100, 500, 1000, 'All']],\n",
       "        \"pagingType\": \"full_numbers\"\n",
       "    });\n",
       "});\n",
       "</script>\n"
      ],
      "text/plain": [
       "<IPython.core.display.HTML object>"
      ]
     },
     "execution_count": 7,
     "metadata": {},
     "output_type": "execute_result"
    }
   ],
   "source": [
    "master_catalogue[:10].show_in_notebook()"
   ]
  },
  {
   "cell_type": "markdown",
   "metadata": {},
   "source": [
    "## III - Merging flags and stellarity\n",
    "\n",
    "Each pristine catalogue contains a flag indicating if the source was associated to a another nearby source that was removed during the cleaning process.  We merge these flags in a single one."
   ]
  },
  {
   "cell_type": "code",
   "execution_count": 8,
   "metadata": {
    "collapsed": true
   },
   "outputs": [],
   "source": [
    "flag_cleaned_columns = [column for column in master_catalogue.colnames\n",
    "                        if 'flag_cleaned' in column]\n",
    "\n",
    "flag_column = np.zeros(len(master_catalogue), dtype=bool)\n",
    "for column in flag_cleaned_columns:\n",
    "    flag_column |= master_catalogue[column]\n",
    "    \n",
    "master_catalogue.add_column(Column(data=flag_column, name=\"flag_cleaned\"))\n",
    "master_catalogue.remove_columns(flag_cleaned_columns)"
   ]
  },
  {
   "cell_type": "markdown",
   "metadata": {},
   "source": [
    "Each pristine catalogue contains a flag indicating the probability of a source being a Gaia object (0: not a Gaia object, 1: possibly, 2: probably, 3: definitely).  We merge these flags taking the highest value."
   ]
  },
  {
   "cell_type": "code",
   "execution_count": 9,
   "metadata": {
    "collapsed": true
   },
   "outputs": [],
   "source": [
    "flag_gaia_columns = [column for column in master_catalogue.colnames\n",
    "                     if 'flag_gaia' in column]\n",
    "\n",
    "master_catalogue.add_column(Column(\n",
    "    data=np.max([master_catalogue[column] for column in flag_gaia_columns], axis=0),\n",
    "    name=\"flag_gaia\"\n",
    "))\n",
    "master_catalogue.remove_columns(flag_gaia_columns)"
   ]
  },
  {
   "cell_type": "markdown",
   "metadata": {},
   "source": [
    "Each prisitine catalogue may contain one or several stellarity columns indicating the probability (0 to 1) of each source being a star.  We merge these columns taking the highest value."
   ]
  },
  {
   "cell_type": "code",
   "execution_count": 10,
   "metadata": {
    "collapsed": true
   },
   "outputs": [],
   "source": [
    "# No ps1 stellarity\n",
    "#stellarity_columns = [column for column in master_catalogue.colnames\n",
    "#                      if 'stellarity' in column]\n",
    "#\n",
    "#master_catalogue.add_column(Column(\n",
    "#    data=np.nanmax([master_catalogue[column] for column in stellarity_columns], axis=0),\n",
    "#    name=\"stellarity\"\n",
    "#))\n",
    "#master_catalogue.remove_columns(stellarity_columns)"
   ]
  },
  {
   "cell_type": "markdown",
   "metadata": {},
   "source": [
    "## IV - Adding E(B-V) column"
   ]
  },
  {
   "cell_type": "code",
   "execution_count": 11,
   "metadata": {
    "collapsed": true
   },
   "outputs": [],
   "source": [
    "master_catalogue.add_column(\n",
    "    ebv(master_catalogue['ra'], master_catalogue['dec'])\n",
    ")"
   ]
  },
  {
   "cell_type": "markdown",
   "metadata": {},
   "source": [
    "## V - Adding HELP unique identifiers and field columns"
   ]
  },
  {
   "cell_type": "code",
   "execution_count": 12,
   "metadata": {
    "collapsed": true
   },
   "outputs": [],
   "source": [
    "master_catalogue.add_column(Column(gen_help_id(master_catalogue['ra'], master_catalogue['dec']),\n",
    "                                   name=\"help_id\"))\n",
    "master_catalogue.add_column(Column(np.full(len(master_catalogue), \"SPIRE-NEP\", dtype='<U18'),\n",
    "                                   name=\"field\"))"
   ]
  },
  {
   "cell_type": "code",
   "execution_count": 13,
   "metadata": {},
   "outputs": [
    {
     "name": "stdout",
     "output_type": "stream",
     "text": [
      "OK!\n"
     ]
    }
   ],
   "source": [
    "# Check that the HELP Ids are unique\n",
    "if len(master_catalogue) != len(np.unique(master_catalogue['help_id'])):\n",
    "    print(\"The HELP IDs are not unique!!!\")\n",
    "else:\n",
    "    print(\"OK!\")"
   ]
  },
  {
   "cell_type": "markdown",
   "metadata": {},
   "source": [
    "## VI - Cross-matching with spec-z catalogue"
   ]
  },
  {
   "cell_type": "code",
   "execution_count": 14,
   "metadata": {
    "collapsed": true
   },
   "outputs": [],
   "source": [
    "specz =  Table.read(\"../../dmu23/dmu23_SPIRE-NEP/data/SPIRE-NEP-specz-v2.csv\")"
   ]
  },
  {
   "cell_type": "code",
   "execution_count": 15,
   "metadata": {
    "collapsed": true
   },
   "outputs": [],
   "source": [
    "specz.rename_column('RA', 'ra')\n",
    "specz.rename_column('DEC', 'dec')\n",
    "specz.rename_column('OBJID', 'specz_id')\n",
    "specz.rename_column('Z_SPEC', 'z_spec')\n",
    "specz.rename_column('Z_SOURCE', 'z_source')\n",
    "specz.rename_column('Z_QUAL', 'z_qual')\n",
    "specz.rename_column('REL', 'rel')\n",
    "specz.rename_column('AGN', 'agn')"
   ]
  },
  {
   "cell_type": "code",
   "execution_count": 16,
   "metadata": {
    "collapsed": true
   },
   "outputs": [],
   "source": [
    "#Only one object so plot breaks\n",
    "#nb_merge_dist_plot(\n",
    "#    SkyCoord(master_catalogue['ra'], master_catalogue['dec']),\n",
    "#    SkyCoord(specz['ra'] * u.deg, specz['dec'] * u.deg)\n",
    "#)"
   ]
  },
  {
   "cell_type": "code",
   "execution_count": 17,
   "metadata": {
    "collapsed": true
   },
   "outputs": [],
   "source": [
    "master_catalogue = specz_merge(master_catalogue, specz, radius=1. * u.arcsec)"
   ]
  },
  {
   "cell_type": "markdown",
   "metadata": {},
   "source": [
    "## VII - Choosing between multiple values for the same filter\n",
    "\n",
    "We only have PanSTARRS on SPIRE-NEP"
   ]
  },
  {
   "cell_type": "markdown",
   "metadata": {},
   "source": [
    "## VIII.a Wavelength domain coverage\n",
    "\n",
    "We add a binary `flag_optnir_obs` indicating that a source was observed in a given wavelength domain:\n",
    "\n",
    "- 1 for observation in optical;\n",
    "- 2 for observation in near-infrared;\n",
    "- 4 for observation in mid-infrared (IRAC).\n",
    "\n",
    "It's an integer binary flag, so a source observed both in optical and near-infrared by not in mid-infrared would have this flag at 1 + 2 = 3.\n",
    "\n",
    "*Note 1: The observation flag is based on the creation of multi-order coverage maps from the catalogues, this may not be accurate, especially on the edges of the coverage.*\n",
    "\n",
    "*Note 2: Being on the observation coverage does not mean having fluxes in that wavelength domain. For sources observed in one domain but having no flux in it, one must take into consideration de different depths in the catalogue we are using.*"
   ]
  },
  {
   "cell_type": "code",
   "execution_count": 18,
   "metadata": {
    "collapsed": true
   },
   "outputs": [],
   "source": [
    "ps1_moc = MOC(filename=\"../../dmu0/dmu0_PanSTARRS1-3SS/data/PanSTARRS1-3SS_SPIRE-NEP_MOC.fits\")"
   ]
  },
  {
   "cell_type": "code",
   "execution_count": 19,
   "metadata": {
    "collapsed": true
   },
   "outputs": [],
   "source": [
    "was_observed_optical = inMoc(\n",
    "    master_catalogue['ra'], master_catalogue['dec'],\n",
    "    ps1_moc) \n",
    "\n",
    "was_observed_nir = np.zeros(len(master_catalogue), dtype=bool)\n",
    "\n",
    "was_observed_mir = np.zeros(len(master_catalogue), dtype=bool)\n"
   ]
  },
  {
   "cell_type": "code",
   "execution_count": 20,
   "metadata": {
    "collapsed": true
   },
   "outputs": [],
   "source": [
    "master_catalogue.add_column(\n",
    "    Column(\n",
    "        1 * was_observed_optical + 2 * was_observed_nir + 4 * was_observed_mir,\n",
    "        name=\"flag_optnir_obs\")\n",
    ")"
   ]
  },
  {
   "cell_type": "markdown",
   "metadata": {},
   "source": [
    "## VIII.b Wavelength domain detection\n",
    "\n",
    "We add a binary `flag_optnir_det` indicating that a source was detected in a given wavelength domain:\n",
    "\n",
    "- 1 for detection in optical;\n",
    "- 2 for detection in near-infrared;\n",
    "- 4 for detection in mid-infrared (IRAC).\n",
    "\n",
    "It's an integer binary flag, so a source detected both in optical and near-infrared by not in mid-infrared would have this flag at 1 + 2 = 3.\n",
    "\n",
    "*Note 1: We use the total flux columns to know if the source has flux, in some catalogues, we may have aperture flux and no total flux.*\n",
    "\n",
    "To get rid of artefacts (chip edges, star flares, etc.) we consider that a source is detected in one wavelength domain when it has a flux value in **at least two bands**. That means that good sources will be excluded from this flag when they are on the coverage of only one band."
   ]
  },
  {
   "cell_type": "code",
   "execution_count": 21,
   "metadata": {
    "collapsed": true
   },
   "outputs": [],
   "source": [
    "# SpARCS is a catalogue of sources detected in r (with fluxes measured at \n",
    "# this prior position in the other bands).  Thus, we are only using the r\n",
    "# CFHT band.\n",
    "# Check to use catalogue flags from HSC and PanSTARRS.\n",
    "nb_optical_flux = (\n",
    "    1 * ~np.isnan(master_catalogue['f_gpc1_g']) +\n",
    "    1 * ~np.isnan(master_catalogue['f_gpc1_r']) +\n",
    "    1 * ~np.isnan(master_catalogue['f_gpc1_i']) +\n",
    "    1 * ~np.isnan(master_catalogue['f_gpc1_z']) +\n",
    "    1 * ~np.isnan(master_catalogue['f_gpc1_y']) \n",
    ")\n",
    "\n",
    "nb_nir_flux = np.zeros(len(master_catalogue), dtype=float)\n",
    "\n",
    "nb_mir_flux = np.zeros(len(master_catalogue), dtype=float)"
   ]
  },
  {
   "cell_type": "code",
   "execution_count": 22,
   "metadata": {
    "collapsed": true
   },
   "outputs": [],
   "source": [
    "has_optical_flux = nb_optical_flux >= 2\n",
    "has_nir_flux = nb_nir_flux >= 2\n",
    "has_mir_flux = nb_mir_flux >= 2\n",
    "\n",
    "master_catalogue.add_column(\n",
    "    Column(\n",
    "        1 * has_optical_flux + 2 * has_nir_flux + 4 * has_mir_flux,\n",
    "        name=\"flag_optnir_det\")\n",
    ")"
   ]
  },
  {
   "cell_type": "markdown",
   "metadata": {},
   "source": [
    "## IX - Cross-identification table\n",
    "\n",
    "We are producing a table associating to each HELP identifier, the identifiers of the sources in the pristine catalogue. This can be used to easily get additional information from them.\n",
    "\n",
    "For convenience, we also cross-match the master list with the SDSS catalogue and add the objID associated with each source, if any. **TODO: should we correct the astrometry with respect to Gaia positions?**"
   ]
  },
  {
   "cell_type": "code",
   "execution_count": 23,
   "metadata": {},
   "outputs": [
    {
     "name": "stdout",
     "output_type": "stream",
     "text": [
      "4 master list rows had multiple associations.\n"
     ]
    }
   ],
   "source": [
    "#\n",
    "# Addind SDSS ids\n",
    "#\n",
    "sdss = Table.read(\"../../dmu0/dmu0_SDSS-DR13/data/SDSS-DR13_SPIRE-NEP.fits\")['objID', 'ra', 'dec']\n",
    "sdss_coords = SkyCoord(sdss['ra'] * u.deg, sdss['dec'] * u.deg)\n",
    "idx_ml, d2d, _ = sdss_coords.match_to_catalog_sky(SkyCoord(master_catalogue['ra'], master_catalogue['dec']))\n",
    "idx_sdss = np.arange(len(sdss))\n",
    "\n",
    "# Limit the cross-match to 1 arcsec\n",
    "mask = d2d <= 1. * u.arcsec\n",
    "idx_ml = idx_ml[mask]\n",
    "idx_sdss = idx_sdss[mask]\n",
    "d2d = d2d[mask]\n",
    "nb_orig_matches = len(idx_ml)\n",
    "\n",
    "# In case of multiple associations of one master list object to an SDSS object, we keep only the\n",
    "# association to the nearest one.\n",
    "sort_idx = np.argsort(d2d)\n",
    "idx_ml = idx_ml[sort_idx]\n",
    "idx_sdss = idx_sdss[sort_idx]\n",
    "_, unique_idx = np.unique(idx_ml, return_index=True)\n",
    "idx_ml = idx_ml[unique_idx]\n",
    "idx_sdss = idx_sdss[unique_idx]\n",
    "print(\"{} master list rows had multiple associations.\".format(nb_orig_matches - len(idx_ml)))\n",
    "\n",
    "# Adding the ObjID to the master list\n",
    "master_catalogue.add_column(Column(data=np.full(len(master_catalogue), -1, dtype='>i8'), name=\"sdss_id\"))\n",
    "master_catalogue['sdss_id'][idx_ml] = sdss['objID'][idx_sdss]"
   ]
  },
  {
   "cell_type": "code",
   "execution_count": 24,
   "metadata": {},
   "outputs": [
    {
     "name": "stdout",
     "output_type": "stream",
     "text": [
      "['ps1_id', 'help_id', 'specz_id', 'sdss_id']\n"
     ]
    }
   ],
   "source": [
    "id_names = []\n",
    "for col in master_catalogue.colnames:\n",
    "    if '_id' in col:\n",
    "        id_names += [col]\n",
    "    if '_intid' in col:\n",
    "        id_names += [col]\n",
    "        \n",
    "print(id_names)"
   ]
  },
  {
   "cell_type": "code",
   "execution_count": 25,
   "metadata": {
    "collapsed": true
   },
   "outputs": [],
   "source": [
    "master_catalogue[id_names].write(\n",
    "    \"{}/master_list_cross_ident_spire-nep{}.fits\".format(OUT_DIR, SUFFIX), overwrite=True)\n",
    "id_names.remove('help_id')\n",
    "master_catalogue.remove_columns(id_names)"
   ]
  },
  {
   "cell_type": "markdown",
   "metadata": {},
   "source": [
    "## X - Adding HEALPix index\n",
    "\n",
    "We are adding a column with a HEALPix index at order 13 associated with each source."
   ]
  },
  {
   "cell_type": "code",
   "execution_count": 26,
   "metadata": {
    "collapsed": true
   },
   "outputs": [],
   "source": [
    "master_catalogue.add_column(Column(\n",
    "    data=coords_to_hpidx(master_catalogue['ra'], master_catalogue['dec'], order=13),\n",
    "    name=\"hp_idx\"\n",
    "))"
   ]
  },
  {
   "cell_type": "markdown",
   "metadata": {},
   "source": [
    "## XI - Saving the catalogue"
   ]
  },
  {
   "cell_type": "code",
   "execution_count": 27,
   "metadata": {
    "collapsed": true
   },
   "outputs": [],
   "source": [
    "columns = [\"help_id\", \"field\", \"ra\", \"dec\", \"hp_idx\"]\n",
    "\n",
    "bands = [column[5:] for column in master_catalogue.colnames if 'f_ap' in column]\n",
    "for band in bands:\n",
    "    columns += [\"f_ap_{}\".format(band), \"ferr_ap_{}\".format(band),\n",
    "                \"m_ap_{}\".format(band), \"merr_ap_{}\".format(band),\n",
    "                \"f_{}\".format(band), \"ferr_{}\".format(band),\n",
    "                \"m_{}\".format(band), \"merr_{}\".format(band),\n",
    "                \"flag_{}\".format(band)]    \n",
    "    \n",
    "columns += [\"flag_cleaned\", \"flag_gaia\", \n",
    "            \"flag_optnir_obs\", \"flag_optnir_det\", \"ebv\", 'zspec_association_flag', 'zspec_qual', 'zspec'] #\"stellarity\", \"flag_merged\""
   ]
  },
  {
   "cell_type": "code",
   "execution_count": 28,
   "metadata": {},
   "outputs": [
    {
     "name": "stdout",
     "output_type": "stream",
     "text": [
      "Missing columns: set()\n"
     ]
    }
   ],
   "source": [
    "# We check for columns in the master catalogue that we will not save to disk.\n",
    "print(\"Missing columns: {}\".format(set(master_catalogue.colnames) - set(columns)))"
   ]
  },
  {
   "cell_type": "code",
   "execution_count": 29,
   "metadata": {
    "collapsed": true
   },
   "outputs": [],
   "source": [
    "master_catalogue[columns].write(\"{}/master_catalogue_spire-nep{}.fits\".format(OUT_DIR, SUFFIX))"
   ]
  }
 ],
 "metadata": {
  "kernelspec": {
   "display_name": "Python (herschelhelp_internal)",
   "language": "python",
   "name": "helpint"
  },
  "language_info": {
   "codemirror_mode": {
    "name": "ipython",
    "version": 3
   },
   "file_extension": ".py",
   "mimetype": "text/x-python",
   "name": "python",
   "nbconvert_exporter": "python",
   "pygments_lexer": "ipython3",
   "version": "3.6.1"
  }
 },
 "nbformat": 4,
 "nbformat_minor": 2
}
