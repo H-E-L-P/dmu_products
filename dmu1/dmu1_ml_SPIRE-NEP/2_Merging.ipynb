{
 "cells": [
  {
   "cell_type": "markdown",
   "metadata": {},
   "source": [
    "# SPIRE-NEP master catalogue\n",
    "\n",
    "This notebook presents the merge of the various pristine catalogues to produce HELP mater catalogue on SPIRE-NEP."
   ]
  },
  {
   "cell_type": "code",
   "execution_count": 8,
   "metadata": {},
   "outputs": [
    {
     "name": "stdout",
     "output_type": "stream",
     "text": [
      "This notebook was run with herschelhelp_internal version: \n",
      "1407877 (Mon Feb 4 12:56:29 2019 +0000)\n",
      "This notebook was executed on: \n",
      "2019-10-31 17:07:03.044271\n"
     ]
    }
   ],
   "source": [
    "from herschelhelp_internal import git_version\n",
    "print(\"This notebook was run with herschelhelp_internal version: \\n{}\".format(git_version()))\n",
    "import datetime\n",
    "print(\"This notebook was executed on: \\n{}\".format(datetime.datetime.now()))"
   ]
  },
  {
   "cell_type": "code",
   "execution_count": 9,
   "metadata": {},
   "outputs": [],
   "source": [
    "%matplotlib inline\n",
    "#%config InlineBackend.figure_format = 'svg'\n",
    "\n",
    "import matplotlib.pyplot as plt\n",
    "plt.rc('figure', figsize=(10, 6))\n",
    "\n",
    "import os\n",
    "import time\n",
    "\n",
    "from astropy import units as u\n",
    "from astropy.coordinates import SkyCoord\n",
    "from astropy.table import Column, Table\n",
    "import numpy as np\n",
    "from pymoc import MOC\n",
    "\n",
    "from herschelhelp_internal.masterlist import merge_catalogues, nb_merge_dist_plot, specz_merge\n",
    "from herschelhelp_internal.utils import coords_to_hpidx, ebv, gen_help_id, inMoc"
   ]
  },
  {
   "cell_type": "code",
   "execution_count": 10,
   "metadata": {},
   "outputs": [],
   "source": [
    "TMP_DIR = os.environ.get('TMP_DIR', \"./data_tmp\")\n",
    "OUT_DIR = os.environ.get('OUT_DIR', \"./data\")\n",
    "SUFFIX = os.environ.get('SUFFIX', time.strftime(\"_%Y%m%d\"))\n",
    "\n",
    "try:\n",
    "    os.makedirs(OUT_DIR)\n",
    "except FileExistsError:\n",
    "    pass"
   ]
  },
  {
   "cell_type": "markdown",
   "metadata": {},
   "source": [
    "## I - Reading the prepared pristine catalogues"
   ]
  },
  {
   "cell_type": "code",
   "execution_count": 11,
   "metadata": {},
   "outputs": [],
   "source": [
    "ps1 = Table.read(\"{}/PS1.fits\".format(TMP_DIR))\n",
    "seip = Table.read(\"{}/SEIP.fits\".format(TMP_DIR))"
   ]
  },
  {
   "cell_type": "markdown",
   "metadata": {},
   "source": [
    "## II - Merging tables\n",
    "\n",
    "We first merge the optical catalogues and then add the infrared ones: DECaLS, HSC, KIDS, PanSTARRS, UKIDSS-LAS, and VISTA-VIKING.\n",
    "\n",
    "At every step, we look at the distribution of the distances separating the sources from one catalogue to the other (within a maximum radius) to determine the best cross-matching radius."
   ]
  },
  {
   "cell_type": "markdown",
   "metadata": {},
   "source": [
    "### PanSTARRS"
   ]
  },
  {
   "cell_type": "code",
   "execution_count": 12,
   "metadata": {},
   "outputs": [],
   "source": [
    "master_catalogue = ps1\n",
    "master_catalogue['ps1_ra'].name = 'ra'\n",
    "master_catalogue['ps1_dec'].name = 'dec'"
   ]
  },
  {
   "cell_type": "markdown",
   "metadata": {},
   "source": [
    "### SEIP"
   ]
  },
  {
   "cell_type": "code",
   "execution_count": 13,
   "metadata": {},
   "outputs": [
    {
     "data": {
      "image/png": "[encoded data removed]",
      "text/plain": [
       "<matplotlib.figure.Figure at 0x10b343b38>"
      ]
     },
     "metadata": {},
     "output_type": "display_data"
    }
   ],
   "source": [
    "nb_merge_dist_plot(\n",
    "    SkyCoord(master_catalogue['ra'], master_catalogue['dec']),\n",
    "    SkyCoord(seip['seip_ra'], seip['seip_dec'])\n",
    ")"
   ]
  },
  {
   "cell_type": "code",
   "execution_count": 14,
   "metadata": {},
   "outputs": [],
   "source": [
    "# Given the graph above, we use 0.8 arc-second radius\n",
    "master_catalogue = merge_catalogues(master_catalogue, seip, \"seip_ra\", \"seip_dec\", radius=1.0*u.arcsec)"
   ]
  },
  {
   "cell_type": "markdown",
   "metadata": {},
   "source": [
    "### Cleaning\n",
    "\n",
    "When we merge the catalogues, astropy masks the non-existent values (e.g. when a row comes only from a catalogue and has no counterparts in the other, the columns from the latest are masked for that row). We indicate to use NaN for masked values for floats columns, False for flag columns and -1 for ID columns."
   ]
  },
  {
   "cell_type": "code",
   "execution_count": 15,
   "metadata": {},
   "outputs": [],
   "source": [
    "for col in master_catalogue.colnames:\n",
    "    if \"m_\" in col or \"merr_\" in col or \"f_\" in col or \"ferr_\" in col or \"stellarity\" in col:\n",
    "        master_catalogue[col].fill_value = np.nan\n",
    "    elif \"flag\" in col:\n",
    "        master_catalogue[col].fill_value = 0\n",
    "    elif \"id\" in col:\n",
    "        master_catalogue[col].fill_value = -1\n",
    "        \n",
    "master_catalogue = master_catalogue.filled()"
   ]
  },
  {
   "cell_type": "code",
   "execution_count": 16,
   "metadata": {},
   "outputs": [
    {
     "data": {
      "text/html": [
       "<i>Table length=10</i>\n",
       "<table id=\"table112176030776-486549\" class=\"table-striped table-bordered table-condensed\">\n",
       "<thead><tr><th>idx</th><th>ps1_id</th><th>ra</th><th>dec</th><th>m_ap_gpc1_g</th><th>merr_ap_gpc1_g</th><th>m_gpc1_g</th><th>merr_gpc1_g</th><th>m_ap_gpc1_r</th><th>merr_ap_gpc1_r</th><th>m_gpc1_r</th><th>merr_gpc1_r</th><th>m_ap_gpc1_i</th><th>merr_ap_gpc1_i</th><th>m_gpc1_i</th><th>merr_gpc1_i</th><th>m_ap_gpc1_z</th><th>merr_ap_gpc1_z</th><th>m_gpc1_z</th><th>merr_gpc1_z</th><th>m_ap_gpc1_y</th><th>merr_ap_gpc1_y</th><th>m_gpc1_y</th><th>merr_gpc1_y</th><th>f_ap_gpc1_g</th><th>ferr_ap_gpc1_g</th><th>f_gpc1_g</th><th>ferr_gpc1_g</th><th>flag_gpc1_g</th><th>f_ap_gpc1_r</th><th>ferr_ap_gpc1_r</th><th>f_gpc1_r</th><th>ferr_gpc1_r</th><th>flag_gpc1_r</th><th>f_ap_gpc1_i</th><th>ferr_ap_gpc1_i</th><th>f_gpc1_i</th><th>ferr_gpc1_i</th><th>flag_gpc1_i</th><th>f_ap_gpc1_z</th><th>ferr_ap_gpc1_z</th><th>f_gpc1_z</th><th>ferr_gpc1_z</th><th>flag_gpc1_z</th><th>f_ap_gpc1_y</th><th>ferr_ap_gpc1_y</th><th>f_gpc1_y</th><th>ferr_gpc1_y</th><th>flag_gpc1_y</th><th>ps1_flag_cleaned</th><th>ps1_flag_gaia</th><th>flag_merged</th><th>ps1_flag_cleaned_1</th><th>seip_id</th><th>f_ap_irac_i1</th><th>ferr_ap_irac_i1</th><th>f_ap_irac_i2</th><th>ferr_ap_irac_i2</th><th>f_ap_irac_i3</th><th>ferr_ap_irac_i3</th><th>f_ap_irac_i4</th><th>ferr_ap_irac_i4</th><th>m_ap_irac_i1</th><th>merr_ap_irac_i1</th><th>m_ap_irac_i2</th><th>merr_ap_irac_i2</th><th>m_ap_irac_i3</th><th>merr_ap_irac_i3</th><th>m_ap_irac_i4</th><th>merr_ap_irac_i4</th><th>ps1_flag_cleaned_2</th><th>seip_flag_gaia</th></tr></thead>\n",
       "<thead><tr><th></th><th></th><th>deg</th><th>deg</th><th></th><th></th><th></th><th></th><th></th><th></th><th></th><th></th><th></th><th></th><th></th><th></th><th></th><th></th><th></th><th></th><th></th><th></th><th></th><th></th><th></th><th></th><th></th><th></th><th></th><th></th><th></th><th></th><th></th><th></th><th></th><th></th><th></th><th></th><th></th><th></th><th></th><th></th><th></th><th></th><th></th><th></th><th></th><th></th><th></th><th></th><th></th><th></th><th></th><th></th><th>uJy</th><th>uJy</th><th>uJy</th><th>uJy</th><th>uJy</th><th>uJy</th><th>uJy</th><th>uJy</th><th></th><th></th><th></th><th></th><th></th><th></th><th></th><th></th><th></th><th></th></tr></thead>\n",
       "<tr><td>0</td><td>190582648149477540</td><td>264.814910506941</td><td>68.8223297362451</td><td>14.227999687194824</td><td>0.006335999816656113</td><td>14.305100440979004</td><td>0.0006150000263005495</td><td>13.748000144958496</td><td>3.7000001611886546e-05</td><td>13.824399948120117</td><td>0.003794000018388033</td><td>13.595100402832031</td><td>0.002245000097900629</td><td>13.663000106811523</td><td>0.0016659999964758754</td><td>13.543100357055664</td><td>0.0016680000117048621</td><td>13.602700233459473</td><td>0.001323999953456223</td><td>13.516799926757812</td><td>0.0031240000389516354</td><td>13.579899787902832</td><td>0.003249000059440732</td><td>7392.649656415478</td><td>43.14107484155039</td><td>6885.885923697371</td><td>3.900413383672567</td><td>False</td><td>11502.703942155389</td><td>0.39199214554663814</td><td>10721.116635628732</td><td>37.463903786626574</td><td>False</td><td>13242.190731341167</td><td>27.381162531005785</td><td>12439.415011830086</td><td>19.087569591075386</td><td>False</td><td>13891.84270354754</td><td>21.341826578659003</td><td>13149.822983847242</td><td>16.03553878213893</td><td>False</td><td>14232.46188062854</td><td>40.951210132452125</td><td>13428.889023883086</td><td>40.185139857741724</td><td>False</td><td>False</td><td>3</td><td>False</td><td>False</td><td>-1</td><td>nan</td><td>nan</td><td>nan</td><td>nan</td><td>nan</td><td>nan</td><td>nan</td><td>nan</td><td>nan</td><td>nan</td><td>nan</td><td>nan</td><td>nan</td><td>nan</td><td>nan</td><td>nan</td><td>False</td><td>0</td></tr>\n",
       "<tr><td>1</td><td>190982650740682167</td><td>265.074014206941</td><td>69.1511883262451</td><td>11.652000427246094</td><td>0.033597998321056366</td><td>11.974200248718262</td><td>0.0</td><td>13.68850040435791</td><td>0.0010930000571534038</td><td>13.253399848937988</td><td>0.0010860000038519502</td><td>10.981499671936035</td><td>0.0010860000038519502</td><td>10.861900329589844</td><td>0.0010860000038519502</td><td>11.203300476074219</td><td>0.20606200397014618</td><td>11.191200256347656</td><td>0.23958300054073334</td><td>nan</td><td>nan</td><td>nan</td><td>nan</td><td>79286.60628791935</td><td>2453.5161057258883</td><td>58927.75562895019</td><td>0.0</td><td>False</td><td>12150.659151094938</td><td>12.23195016284535</td><td>18140.116021857175</td><td>18.144523488558015</td><td>False</td><td>147028.02762398298</td><td>147.06375072162263</td><td>164149.6148869982</td><td>164.18949798149984</td><td>False</td><td>119861.52793638725</td><td>22748.533702067914</td><td>121204.82182154978</td><td>26745.552708616557</td><td>False</td><td>nan</td><td>nan</td><td>nan</td><td>nan</td><td>False</td><td>False</td><td>0</td><td>False</td><td>False</td><td>-1</td><td>nan</td><td>nan</td><td>nan</td><td>nan</td><td>nan</td><td>nan</td><td>nan</td><td>nan</td><td>nan</td><td>nan</td><td>nan</td><td>nan</td><td>nan</td><td>nan</td><td>nan</td><td>nan</td><td>False</td><td>0</td></tr>\n",
       "<tr><td>2</td><td>190572651688019436</td><td>265.16915364694097</td><td>68.8153567862451</td><td>nan</td><td>nan</td><td>nan</td><td>nan</td><td>13.697999954223633</td><td>0.001551999943330884</td><td>14.61620044708252</td><td>0.0026050000451505184</td><td>3.8425300121307373</td><td>0.0</td><td>3.915260076522827</td><td>0.0</td><td>nan</td><td>nan</td><td>nan</td><td>nan</td><td>13.068499565124512</td><td>0.08652400225400925</td><td>13.917799949645996</td><td>0.1703220009803772</td><td>nan</td><td>nan</td><td>nan</td><td>nan</td><td>False</td><td>12044.811793560197</td><td>17.217393266535648</td><td>5170.348548614671</td><td>12.405184743365526</td><td>False</td><td>105435775.12270036</td><td>0.0</td><td>98604326.11978783</td><td>0.0</td><td>False</td><td>nan</td><td>nan</td><td>nan</td><td>nan</td><td>False</td><td>21508.007237691858</td><td>1714.0064580676528</td><td>9837.39296628186</td><td>1543.2150527030392</td><td>False</td><td>False</td><td>0</td><td>False</td><td>False</td><td>-1</td><td>nan</td><td>nan</td><td>nan</td><td>nan</td><td>nan</td><td>nan</td><td>nan</td><td>nan</td><td>nan</td><td>nan</td><td>nan</td><td>nan</td><td>nan</td><td>nan</td><td>nan</td><td>nan</td><td>False</td><td>0</td></tr>\n",
       "<tr><td>3</td><td>190932646959945827</td><td>264.69593654694097</td><td>69.1125553162451</td><td>16.74720001220703</td><td>0.003360999980941415</td><td>16.809499740600586</td><td>0.003768000053241849</td><td>16.32469940185547</td><td>0.0019379999721422791</td><td>16.374000549316406</td><td>0.00508299982175231</td><td>16.164899826049805</td><td>0.0030759999062865973</td><td>16.225000381469727</td><td>0.0024649999104440212</td><td>16.118499755859375</td><td>0.005948000121861696</td><td>16.169200897216797</td><td>0.0066109998151659966</td><td>16.07990074157715</td><td>0.0039090001955628395</td><td>16.16670036315918</td><td>0.008887000381946564</td><td>726.3066074803263</td><td>2.2483513796454915</td><td>685.8041419952765</td><td>2.380053305975319</td><td>False</td><td>1071.8160083462594</td><td>1.9131529235312135</td><td>1024.2353959206953</td><td>4.795076660501607</td><td>False</td><td>1241.7668722113146</td><td>3.5180504857556243</td><td>1174.8971421433384</td><td>2.667426339356011</td><td>False</td><td>1295.9853661727427</td><td>7.099810324224828</td><td>1236.8574266584085</td><td>7.531170263265741</td><td>False</td><td>1342.887722840194</td><td>4.834828522984234</td><td>1239.7092872898284</td><td>10.147305451697394</td><td>False</td><td>False</td><td>3</td><td>False</td><td>False</td><td>-1</td><td>nan</td><td>nan</td><td>nan</td><td>nan</td><td>nan</td><td>nan</td><td>nan</td><td>nan</td><td>nan</td><td>nan</td><td>nan</td><td>nan</td><td>nan</td><td>nan</td><td>nan</td><td>nan</td><td>False</td><td>0</td></tr>\n",
       "<tr><td>4</td><td>190662646668524269</td><td>264.666786496941</td><td>68.8862480162451</td><td>17.17460060119629</td><td>0.0032889998983591795</td><td>17.252500534057617</td><td>0.0062339999713003635</td><td>16.690399169921875</td><td>0.0023690001107752323</td><td>16.75040054321289</td><td>0.0058559998869895935</td><td>16.50029945373535</td><td>0.001753999968059361</td><td>16.57080078125</td><td>0.0022430000826716423</td><td>16.42530059814453</td><td>0.004945000167936087</td><td>16.508899688720703</td><td>0.011253999546170235</td><td>16.374500274658203</td><td>0.00597799988463521</td><td>16.457000732421875</td><td>0.013656999915838242</td><td>489.95902249507265</td><td>1.4842234864457216</td><td>456.0366916335223</td><td>2.6184378029363167</td><td>False</td><td>765.3151877544151</td><td>1.66986396568775</td><td>724.1687548470541</td><td>3.905858649606748</td><td>False</td><td>911.7593349917399</td><td>1.4729414359076265</td><td>854.4362936878163</td><td>1.7651623561787408</td><td>False</td><td>976.9666994119167</td><td>4.449607990861944</td><td>904.5657181065108</td><td>9.376110086813977</td><td>False</td><td>1023.7640856620986</td><td>5.6367850304347815</td><td>948.8546866439949</td><td>11.935227285274639</td><td>False</td><td>False</td><td>3</td><td>False</td><td>False</td><td>-1</td><td>nan</td><td>nan</td><td>nan</td><td>nan</td><td>nan</td><td>nan</td><td>nan</td><td>nan</td><td>nan</td><td>nan</td><td>nan</td><td>nan</td><td>nan</td><td>nan</td><td>nan</td><td>nan</td><td>False</td><td>0</td></tr>\n",
       "<tr><td>5</td><td>190572647797237407</td><td>264.779692166941</td><td>68.8138861062451</td><td>17.33340072631836</td><td>0.003932999912649393</td><td>17.392200469970703</td><td>0.005843000020831823</td><td>16.653900146484375</td><td>0.0026549999602138996</td><td>16.702899932861328</td><td>0.00317799998447299</td><td>16.398099899291992</td><td>0.0015770000172778964</td><td>16.459699630737305</td><td>0.003091000020503998</td><td>16.297399520874023</td><td>0.0049680001102387905</td><td>16.340900421142578</td><td>0.007849999703466892</td><td>16.187999725341797</td><td>0.008848000317811966</td><td>16.20789909362793</td><td>0.010344999842345715</td><td>423.29165775821883</td><td>1.5333430401348382</td><td>400.9773229319727</td><td>2.157900322359185</td><td>False</td><td>791.4799932695132</td><td>1.9354419070042723</td><td>756.554165616925</td><td>2.214468962209083</td><td>False</td><td>1001.7515896703839</td><td>1.455014825235823</td><td>946.4989743878956</td><td>2.6946032898403187</td><td>False</td><td>1099.107551299167</td><td>5.029183343144534</td><td>1055.9414342037005</td><td>7.634580028787042</td><td>False</td><td>1215.6263627538</td><td>9.906515410326879</td><td>1193.5493003837726</td><td>11.372253472060073</td><td>False</td><td>False</td><td>3</td><td>False</td><td>False</td><td>-1</td><td>nan</td><td>nan</td><td>nan</td><td>nan</td><td>nan</td><td>nan</td><td>nan</td><td>nan</td><td>nan</td><td>nan</td><td>nan</td><td>nan</td><td>nan</td><td>nan</td><td>nan</td><td>nan</td><td>False</td><td>0</td></tr>\n",
       "<tr><td>6</td><td>190582649166892627</td><td>264.917040886941</td><td>68.8181146062451</td><td>11.59630012512207</td><td>0.0010860000038519502</td><td>11.654800415039062</td><td>0.0010860000038519502</td><td>12.5693998336792</td><td>0.0026700000744313</td><td>nan</td><td>nan</td><td>nan</td><td>nan</td><td>12.995599746704102</td><td>0.013261999934911728</td><td>nan</td><td>nan</td><td>12.63700008392334</td><td>0.013841000385582447</td><td>9.832220077514648</td><td>0.0010860000038519502</td><td>9.879549980163574</td><td>0.0010860000038519502</td><td>83460.30163175428</td><td>83.48057980967997</td><td>79082.39874966646</td><td>79.10161323752816</td><td>False</td><td>34059.64103816238</td><td>83.7581391395671</td><td>nan</td><td>nan</td><td>False</td><td>nan</td><td>nan</td><td>23001.708816289294</td><td>280.96019962090435</td><td>False</td><td>nan</td><td>nan</td><td>32003.68347210029</td><td>407.98399586949205</td><td>False</td><td>423752.20297073526</td><td>423.855161172422</td><td>405676.646917935</td><td>405.775213338924</td><td>False</td><td>False</td><td>3</td><td>False</td><td>False</td><td>-1</td><td>nan</td><td>nan</td><td>nan</td><td>nan</td><td>nan</td><td>nan</td><td>nan</td><td>nan</td><td>nan</td><td>nan</td><td>nan</td><td>nan</td><td>nan</td><td>nan</td><td>nan</td><td>nan</td><td>False</td><td>0</td></tr>\n",
       "<tr><td>7</td><td>190672646811690901</td><td>264.68102043694097</td><td>68.8918520762451</td><td>11.593500137329102</td><td>0.0010860000038519502</td><td>11.662099838256836</td><td>0.0010860000038519502</td><td>12.912699699401855</td><td>0.0030789999291300774</td><td>13.17770004272461</td><td>0.10782100260257721</td><td>nan</td><td>nan</td><td>13.359700202941895</td><td>0.0383090004324913</td><td>11.106200218200684</td><td>0.0010860000038519502</td><td>nan</td><td>nan</td><td>10.528200149536133</td><td>0.0010860000038519502</td><td>10.558899879455566</td><td>0.0010860000038519502</td><td>83675.81384442773</td><td>83.69614438491273</td><td>78552.50964251773</td><td>78.5715953843123</td><td>False</td><td>24826.76424756718</td><td>70.40532039347205</td><td>19450.01689518392</td><td>1931.5191969148466</td><td>False</td><td>nan</td><td>nan</td><td>16448.258352455374</td><td>580.3585931615066</td><td>False</td><td>131075.0139841171</td><td>131.1068610108258</td><td>nan</td><td>nan</td><td>False</td><td>223213.2342287855</td><td>223.26746788946687</td><td>216990.1640816585</td><td>217.0428857357784</td><td>False</td><td>False</td><td>3</td><td>False</td><td>False</td><td>-1</td><td>nan</td><td>nan</td><td>nan</td><td>nan</td><td>nan</td><td>nan</td><td>nan</td><td>nan</td><td>nan</td><td>nan</td><td>nan</td><td>nan</td><td>nan</td><td>nan</td><td>nan</td><td>nan</td><td>False</td><td>0</td></tr>\n",
       "<tr><td>8</td><td>190772651826417814</td><td>265.182559426941</td><td>68.9808885162451</td><td>18.16469955444336</td><td>0.011083000339567661</td><td>18.221799850463867</td><td>0.010095999576151371</td><td>17.324100494384766</td><td>0.003381999908015132</td><td>17.362199783325195</td><td>0.006215000059455633</td><td>16.966100692749023</td><td>0.002125999890267849</td><td>17.032100677490234</td><td>0.003083999967202544</td><td>16.787599563598633</td><td>0.0030410001054406166</td><td>16.833599090576172</td><td>0.006424999795854092</td><td>16.648799896240234</td><td>0.020871000364422798</td><td>16.741500854492188</td><td>0.031651001423597336</td><td>196.84309197018513</td><td>2.009338958751136</td><td>186.7583635489371</td><td>1.7366210604101853</td><td>False</td><td>426.9330758278138</td><td>1.3298696468355682</td><td>412.2114838454956</td><td>2.3595919389818683</td><td>False</td><td>593.689985079398</td><td>1.1625152017594358</td><td>558.6756320559264</td><td>1.5869007806745856</td><td>False</td><td>699.7778224096776</td><td>1.9599829336140604</td><td>670.7495095194851</td><td>3.9692564757863718</td><td>False</td><td>795.206720065814</td><td>15.28618063167778</td><td>730.1291003221717</td><td>21.2844677118002</td><td>False</td><td>False</td><td>3</td><td>False</td><td>False</td><td>-1</td><td>nan</td><td>nan</td><td>nan</td><td>nan</td><td>nan</td><td>nan</td><td>nan</td><td>nan</td><td>nan</td><td>nan</td><td>nan</td><td>nan</td><td>nan</td><td>nan</td><td>nan</td><td>nan</td><td>False</td><td>0</td></tr>\n",
       "<tr><td>9</td><td>190892648501256672</td><td>264.850093486941</td><td>69.0799257362451</td><td>17.720699310302734</td><td>0.0064849997870624065</td><td>17.772899627685547</td><td>0.009982000105082989</td><td>16.878700256347656</td><td>0.0033859999384731054</td><td>16.939699172973633</td><td>0.004738999996334314</td><td>16.54159927368164</td><td>0.0013849999522790313</td><td>16.61079978942871</td><td>0.002630000002682209</td><td>16.387100219726562</td><td>0.005698999855667353</td><td>16.465099334716797</td><td>0.007902000099420547</td><td>16.287599563598633</td><td>0.005286000203341246</td><td>16.37980079650879</td><td>0.007759000174701214</td><td>296.29223902992874</td><td>1.7697255545101547</td><td>282.3840410692546</td><td>2.596171625551527</td><td>False</td><td>643.457544708494</td><td>2.006700335905606</td><td>608.3035217626536</td><td>2.6551112275431206</td><td>False</td><td>877.728682546801</td><td>1.1196588804110745</td><td>823.5312509904268</td><td>1.9948558248513062</td><td>False</td><td>1011.9519977674815</td><td>5.311708556779602</td><td>941.8034263684294</td><td>6.854455747338584</td><td>False</td><td>1109.0731069723606</td><td>5.399617921263125</td><td>1018.7782894164013</td><td>7.28049860631165</td><td>False</td><td>False</td><td>3</td><td>False</td><td>False</td><td>-1</td><td>nan</td><td>nan</td><td>nan</td><td>nan</td><td>nan</td><td>nan</td><td>nan</td><td>nan</td><td>nan</td><td>nan</td><td>nan</td><td>nan</td><td>nan</td><td>nan</td><td>nan</td><td>nan</td><td>False</td><td>0</td></tr>\n",
       "</table><style>table.dataTable {clear: both; width: auto !important; margin: 0 !important;}\n",
       ".dataTables_info, .dataTables_length, .dataTables_filter, .dataTables_paginate{\n",
       "display: inline-block; margin-right: 1em; }\n",
       ".paginate_button { margin-right: 5px; }\n",
       "</style>\n",
       "<script>\n",
       "\n",
       "var astropy_sort_num = function(a, b) {\n",
       "    var a_num = parseFloat(a);\n",
       "    var b_num = parseFloat(b);\n",
       "\n",
       "    if (isNaN(a_num) && isNaN(b_num))\n",
       "        return ((a < b) ? -1 : ((a > b) ? 1 : 0));\n",
       "    else if (!isNaN(a_num) && !isNaN(b_num))\n",
       "        return ((a_num < b_num) ? -1 : ((a_num > b_num) ? 1 : 0));\n",
       "    else\n",
       "        return isNaN(a_num) ? -1 : 1;\n",
       "}\n",
       "\n",
       "require.config({paths: {\n",
       "    datatables: 'https://cdn.datatables.net/1.10.12/js/jquery.dataTables.min'\n",
       "}});\n",
       "require([\"datatables\"], function(){\n",
       "    console.log(\"$('#table112176030776-486549').dataTable()\");\n",
       "    \n",
       "jQuery.extend( jQuery.fn.dataTableExt.oSort, {\n",
       "    \"optionalnum-asc\": astropy_sort_num,\n",
       "    \"optionalnum-desc\": function (a,b) { return -astropy_sort_num(a, b); }\n",
       "});\n",
       "\n",
       "    $('#table112176030776-486549').dataTable({\n",
       "        order: [],\n",
       "        pageLength: 50,\n",
       "        lengthMenu: [[10, 25, 50, 100, 500, 1000, -1], [10, 25, 50, 100, 500, 1000, 'All']],\n",
       "        pagingType: \"full_numbers\",\n",
       "        columnDefs: [{targets: [0, 1, 2, 3, 4, 5, 6, 7, 8, 9, 10, 11, 12, 13, 14, 15, 16, 17, 18, 19, 20, 21, 22, 23, 24, 25, 26, 27, 29, 30, 31, 32, 34, 35, 36, 37, 39, 40, 41, 42, 44, 45, 46, 47, 50, 54, 55, 56, 57, 58, 59, 60, 61, 62, 63, 64, 65, 66, 67, 68, 69, 71], type: \"optionalnum\"}]\n",
       "    });\n",
       "});\n",
       "</script>\n"
      ],
      "text/plain": [
       "<IPython.core.display.HTML object>"
      ]
     },
     "execution_count": 16,
     "metadata": {},
     "output_type": "execute_result"
    }
   ],
   "source": [
    "master_catalogue[:10].show_in_notebook()"
   ]
  },
  {
   "cell_type": "markdown",
   "metadata": {},
   "source": [
    "## III - Merging flags and stellarity\n",
    "\n",
    "Each pristine catalogue contains a flag indicating if the source was associated to a another nearby source that was removed during the cleaning process.  We merge these flags in a single one."
   ]
  },
  {
   "cell_type": "code",
   "execution_count": 17,
   "metadata": {},
   "outputs": [],
   "source": [
    "flag_cleaned_columns = [column for column in master_catalogue.colnames\n",
    "                        if 'flag_cleaned' in column]\n",
    "\n",
    "flag_column = np.zeros(len(master_catalogue), dtype=bool)\n",
    "for column in flag_cleaned_columns:\n",
    "    flag_column |= master_catalogue[column]\n",
    "    \n",
    "master_catalogue.add_column(Column(data=flag_column, name=\"flag_cleaned\"))\n",
    "master_catalogue.remove_columns(flag_cleaned_columns)"
   ]
  },
  {
   "cell_type": "markdown",
   "metadata": {},
   "source": [
    "Each pristine catalogue contains a flag indicating the probability of a source being a Gaia object (0: not a Gaia object, 1: possibly, 2: probably, 3: definitely).  We merge these flags taking the highest value."
   ]
  },
  {
   "cell_type": "code",
   "execution_count": 18,
   "metadata": {},
   "outputs": [],
   "source": [
    "flag_gaia_columns = [column for column in master_catalogue.colnames\n",
    "                     if 'flag_gaia' in column]\n",
    "\n",
    "master_catalogue.add_column(Column(\n",
    "    data=np.max([master_catalogue[column] for column in flag_gaia_columns], axis=0),\n",
    "    name=\"flag_gaia\"\n",
    "))\n",
    "master_catalogue.remove_columns(flag_gaia_columns)"
   ]
  },
  {
   "cell_type": "markdown",
   "metadata": {},
   "source": [
    "Each prisitine catalogue may contain one or several stellarity columns indicating the probability (0 to 1) of each source being a star.  We merge these columns taking the highest value."
   ]
  },
  {
   "cell_type": "code",
   "execution_count": 19,
   "metadata": {},
   "outputs": [],
   "source": [
    "# No ps1 stellarity\n",
    "#stellarity_columns = [column for column in master_catalogue.colnames\n",
    "#                      if 'stellarity' in column]\n",
    "#\n",
    "#master_catalogue.add_column(Column(\n",
    "#    data=np.nanmax([master_catalogue[column] for column in stellarity_columns], axis=0),\n",
    "#    name=\"stellarity\"\n",
    "#))\n",
    "#master_catalogue.remove_columns(stellarity_columns)"
   ]
  },
  {
   "cell_type": "markdown",
   "metadata": {},
   "source": [
    "## IV - Adding E(B-V) column"
   ]
  },
  {
   "cell_type": "code",
   "execution_count": 20,
   "metadata": {},
   "outputs": [],
   "source": [
    "master_catalogue.add_column(\n",
    "    ebv(master_catalogue['ra'], master_catalogue['dec'])\n",
    ")"
   ]
  },
  {
   "cell_type": "markdown",
   "metadata": {},
   "source": [
    "## V - Adding HELP unique identifiers and field columns"
   ]
  },
  {
   "cell_type": "code",
   "execution_count": 21,
   "metadata": {},
   "outputs": [],
   "source": [
    "master_catalogue.add_column(Column(gen_help_id(master_catalogue['ra'], master_catalogue['dec']),\n",
    "                                   name=\"help_id\"))\n",
    "master_catalogue.add_column(Column(np.full(len(master_catalogue), \"SPIRE-NEP\", dtype='<U18'),\n",
    "                                   name=\"field\"))"
   ]
  },
  {
   "cell_type": "code",
   "execution_count": 22,
   "metadata": {},
   "outputs": [
    {
     "name": "stdout",
     "output_type": "stream",
     "text": [
      "OK!\n"
     ]
    }
   ],
   "source": [
    "# Check that the HELP Ids are unique\n",
    "if len(master_catalogue) != len(np.unique(master_catalogue['help_id'])):\n",
    "    print(\"The HELP IDs are not unique!!!\")\n",
    "else:\n",
    "    print(\"OK!\")"
   ]
  },
  {
   "cell_type": "markdown",
   "metadata": {},
   "source": [
    "## VI - Cross-matching with spec-z catalogue"
   ]
  },
  {
   "cell_type": "code",
   "execution_count": 23,
   "metadata": {},
   "outputs": [],
   "source": [
    "specz =  Table.read(\"../../dmu23/dmu23_SPIRE-NEP/data/SPIRE-NEP-specz-v2.csv\")"
   ]
  },
  {
   "cell_type": "code",
   "execution_count": 24,
   "metadata": {},
   "outputs": [],
   "source": [
    "specz.rename_column('RA', 'ra')\n",
    "specz.rename_column('DEC', 'dec')\n",
    "specz.rename_column('OBJID', 'specz_id')\n",
    "specz.rename_column('Z_SPEC', 'z_spec')\n",
    "specz.rename_column('Z_SOURCE', 'z_source')\n",
    "specz.rename_column('Z_QUAL', 'z_qual')\n",
    "specz.rename_column('REL', 'rel')\n",
    "specz.rename_column('AGN', 'agn')"
   ]
  },
  {
   "cell_type": "code",
   "execution_count": 25,
   "metadata": {},
   "outputs": [],
   "source": [
    "#Only one object so plot breaks\n",
    "#nb_merge_dist_plot(\n",
    "#    SkyCoord(master_catalogue['ra'], master_catalogue['dec']),\n",
    "#    SkyCoord(specz['ra'] * u.deg, specz['dec'] * u.deg)\n",
    "#)"
   ]
  },
  {
   "cell_type": "code",
   "execution_count": 26,
   "metadata": {},
   "outputs": [],
   "source": [
    "master_catalogue = specz_merge(master_catalogue, specz, radius=1. * u.arcsec)"
   ]
  },
  {
   "cell_type": "markdown",
   "metadata": {},
   "source": [
    "## VII - Choosing between multiple values for the same filter\n",
    "\n",
    "We only have PanSTARRS on SPIRE-NEP"
   ]
  },
  {
   "cell_type": "markdown",
   "metadata": {},
   "source": [
    "## VIII.a Wavelength domain coverage\n",
    "\n",
    "We add a binary `flag_optnir_obs` indicating that a source was observed in a given wavelength domain:\n",
    "\n",
    "- 1 for observation in optical;\n",
    "- 2 for observation in near-infrared;\n",
    "- 4 for observation in mid-infrared (IRAC).\n",
    "\n",
    "It's an integer binary flag, so a source observed both in optical and near-infrared by not in mid-infrared would have this flag at 1 + 2 = 3.\n",
    "\n",
    "*Note 1: The observation flag is based on the creation of multi-order coverage maps from the catalogues, this may not be accurate, especially on the edges of the coverage.*\n",
    "\n",
    "*Note 2: Being on the observation coverage does not mean having fluxes in that wavelength domain. For sources observed in one domain but having no flux in it, one must take into consideration de different depths in the catalogue we are using.*"
   ]
  },
  {
   "cell_type": "code",
   "execution_count": 54,
   "metadata": {},
   "outputs": [],
   "source": [
    "ps1_moc = MOC(filename=\"../../dmu0/dmu0_PanSTARRS1-3SS/data/PanSTARRS1-3SS_SPIRE-NEP_v2_MOC.fits\")\n",
    "seip_moc = MOC(filename=\"../../dmu0/dmu0_SEIP/data/SEIP_SPIRE-NEP_MOC.fits\")"
   ]
  },
  {
   "cell_type": "code",
   "execution_count": 55,
   "metadata": {},
   "outputs": [],
   "source": [
    "was_observed_optical = inMoc(\n",
    "    master_catalogue['ra'], master_catalogue['dec'],\n",
    "    ps1_moc) \n",
    "\n",
    "was_observed_nir = np.zeros(len(master_catalogue), dtype=bool)\n",
    "\n",
    "was_observed_mir = inMoc(\n",
    "    master_catalogue['ra'], master_catalogue['dec'],\n",
    "    seip_moc) \n"
   ]
  },
  {
   "cell_type": "code",
   "execution_count": 56,
   "metadata": {},
   "outputs": [],
   "source": [
    "master_catalogue.add_column(\n",
    "    Column(\n",
    "        1 * was_observed_optical + 2 * was_observed_nir + 4 * was_observed_mir,\n",
    "        name=\"flag_optnir_obs\")\n",
    ")"
   ]
  },
  {
   "cell_type": "markdown",
   "metadata": {},
   "source": [
    "## VIII.b Wavelength domain detection\n",
    "\n",
    "We add a binary `flag_optnir_det` indicating that a source was detected in a given wavelength domain:\n",
    "\n",
    "- 1 for detection in optical;\n",
    "- 2 for detection in near-infrared;\n",
    "- 4 for detection in mid-infrared (IRAC).\n",
    "\n",
    "It's an integer binary flag, so a source detected both in optical and near-infrared by not in mid-infrared would have this flag at 1 + 2 = 3.\n",
    "\n",
    "*Note 1: We use the total flux columns to know if the source has flux, in some catalogues, we may have aperture flux and no total flux.*\n",
    "\n",
    "To get rid of artefacts (chip edges, star flares, etc.) we consider that a source is detected in one wavelength domain when it has a flux value in **at least two bands**. That means that good sources will be excluded from this flag when they are on the coverage of only one band."
   ]
  },
  {
   "cell_type": "code",
   "execution_count": 30,
   "metadata": {},
   "outputs": [],
   "source": [
    "# SpARCS is a catalogue of sources detected in r (with fluxes measured at \n",
    "# this prior position in the other bands).  Thus, we are only using the r\n",
    "# CFHT band.\n",
    "# Check to use catalogue flags from HSC and PanSTARRS.\n",
    "nb_optical_flux = (\n",
    "    1 * ~np.isnan(master_catalogue['f_gpc1_g']) +\n",
    "    1 * ~np.isnan(master_catalogue['f_gpc1_r']) +\n",
    "    1 * ~np.isnan(master_catalogue['f_gpc1_i']) +\n",
    "    1 * ~np.isnan(master_catalogue['f_gpc1_z']) +\n",
    "    1 * ~np.isnan(master_catalogue['f_gpc1_y']) \n",
    ")\n",
    "\n",
    "nb_nir_flux = np.zeros(len(master_catalogue), dtype=float)\n",
    "\n",
    "nb_mir_flux = (\n",
    "    1 * ~np.isnan(master_catalogue['f_ap_irac_i1']) +\n",
    "    1 * ~np.isnan(master_catalogue['f_ap_irac_i2']) +\n",
    "    1 * ~np.isnan(master_catalogue['f_ap_irac_i3']) +\n",
    "    1 * ~np.isnan(master_catalogue['f_ap_irac_i4']) \n",
    ")"
   ]
  },
  {
   "cell_type": "code",
   "execution_count": 31,
   "metadata": {},
   "outputs": [],
   "source": [
    "has_optical_flux = nb_optical_flux >= 2\n",
    "has_nir_flux = nb_nir_flux >= 2\n",
    "has_mir_flux = nb_mir_flux >= 2\n",
    "\n",
    "master_catalogue.add_column(\n",
    "    Column(\n",
    "        1 * has_optical_flux + 2 * has_nir_flux + 4 * has_mir_flux,\n",
    "        name=\"flag_optnir_det\")\n",
    ")"
   ]
  },
  {
   "cell_type": "markdown",
   "metadata": {},
   "source": [
    "## IX - Cross-identification table\n",
    "\n",
    "We are producing a table associating to each HELP identifier, the identifiers of the sources in the pristine catalogue. This can be used to easily get additional information from them.\n",
    "\n",
    "For convenience, we also cross-match the master list with the SDSS catalogue and add the objID associated with each source, if any. **TODO: should we correct the astrometry with respect to Gaia positions?**"
   ]
  },
  {
   "cell_type": "code",
   "execution_count": 33,
   "metadata": {},
   "outputs": [
    {
     "name": "stdout",
     "output_type": "stream",
     "text": [
      "5 master list rows had multiple associations.\n"
     ]
    }
   ],
   "source": [
    "#\n",
    "# Addind SDSS ids\n",
    "#\n",
    "sdss = Table.read(\"../../dmu0/dmu0_SDSS/data/SDSS-DR13_SPIRE-NEP.fits\")['objID', 'ra', 'dec']\n",
    "sdss_coords = SkyCoord(sdss['ra'] * u.deg, sdss['dec'] * u.deg)\n",
    "idx_ml, d2d, _ = sdss_coords.match_to_catalog_sky(SkyCoord(master_catalogue['ra'], master_catalogue['dec']))\n",
    "idx_sdss = np.arange(len(sdss))\n",
    "\n",
    "# Limit the cross-match to 1 arcsec\n",
    "mask = d2d <= 1. * u.arcsec\n",
    "idx_ml = idx_ml[mask]\n",
    "idx_sdss = idx_sdss[mask]\n",
    "d2d = d2d[mask]\n",
    "nb_orig_matches = len(idx_ml)\n",
    "\n",
    "# In case of multiple associations of one master list object to an SDSS object, we keep only the\n",
    "# association to the nearest one.\n",
    "sort_idx = np.argsort(d2d)\n",
    "idx_ml = idx_ml[sort_idx]\n",
    "idx_sdss = idx_sdss[sort_idx]\n",
    "_, unique_idx = np.unique(idx_ml, return_index=True)\n",
    "idx_ml = idx_ml[unique_idx]\n",
    "idx_sdss = idx_sdss[unique_idx]\n",
    "print(\"{} master list rows had multiple associations.\".format(nb_orig_matches - len(idx_ml)))\n",
    "\n",
    "# Adding the ObjID to the master list\n",
    "master_catalogue.add_column(Column(data=np.full(len(master_catalogue), -1, dtype='>i8'), name=\"sdss_id\"))\n",
    "master_catalogue['sdss_id'][idx_ml] = sdss['objID'][idx_sdss]"
   ]
  },
  {
   "cell_type": "code",
   "execution_count": 34,
   "metadata": {},
   "outputs": [
    {
     "name": "stdout",
     "output_type": "stream",
     "text": [
      "['ps1_id', 'seip_id', 'help_id', 'specz_id', 'sdss_id']\n"
     ]
    }
   ],
   "source": [
    "id_names = []\n",
    "for col in master_catalogue.colnames:\n",
    "    if '_id' in col:\n",
    "        id_names += [col]\n",
    "    if '_intid' in col:\n",
    "        id_names += [col]\n",
    "        \n",
    "print(id_names)"
   ]
  },
  {
   "cell_type": "code",
   "execution_count": 35,
   "metadata": {},
   "outputs": [],
   "source": [
    "master_catalogue[id_names].write(\n",
    "    \"{}/master_list_cross_ident_spire-nep{}.fits\".format(OUT_DIR, SUFFIX), overwrite=True)\n",
    "id_names.remove('help_id')\n",
    "master_catalogue.remove_columns(id_names)"
   ]
  },
  {
   "cell_type": "markdown",
   "metadata": {},
   "source": [
    "## X - Adding HEALPix index\n",
    "\n",
    "We are adding a column with a HEALPix index at order 13 associated with each source."
   ]
  },
  {
   "cell_type": "code",
   "execution_count": 36,
   "metadata": {},
   "outputs": [],
   "source": [
    "master_catalogue.add_column(Column(\n",
    "    data=coords_to_hpidx(master_catalogue['ra'], master_catalogue['dec'], order=13),\n",
    "    name=\"hp_idx\"\n",
    "))"
   ]
  },
  {
   "cell_type": "markdown",
   "metadata": {},
   "source": [
    "## XI - Saving the catalogue"
   ]
  },
  {
   "cell_type": "code",
   "execution_count": 48,
   "metadata": {},
   "outputs": [],
   "source": [
    "columns = [\"help_id\", \"field\", \"ra\", \"dec\", \"hp_idx\"]\n",
    "\n",
    "bands = [column[5:] for column in master_catalogue.colnames if 'f_ap' in column]\n",
    "for band in bands:\n",
    "    if band.startswith('irac'):\n",
    "        columns += [\"f_ap_{}\".format(band), \"ferr_ap_{}\".format(band),\n",
    "                \"m_ap_{}\".format(band), \"merr_ap_{}\".format(band),\n",
    "                #\"f_{}\".format(band), \"ferr_{}\".format(band),#No total fluxes from irac\n",
    "                #\"m_{}\".format(band), \"merr_{}\".format(band),\n",
    "                #\"flag_{}\".format(band)\n",
    "                   ]    \n",
    "    else:\n",
    "        columns += [\"f_ap_{}\".format(band), \"ferr_ap_{}\".format(band),\n",
    "                \"m_ap_{}\".format(band), \"merr_ap_{}\".format(band),\n",
    "                \"f_{}\".format(band), \"ferr_{}\".format(band),\n",
    "                \"m_{}\".format(band), \"merr_{}\".format(band),\n",
    "                \"flag_{}\".format(band)]  \n",
    "columns += [\"flag_cleaned\", \"flag_gaia\",  \"flag_merged\",\n",
    "            \"flag_optnir_obs\", \"flag_optnir_det\", \"ebv\", 'zspec_association_flag', 'zspec_qual', 'zspec'] #\"stellarity\", \"flag_merged\""
   ]
  },
  {
   "cell_type": "code",
   "execution_count": 57,
   "metadata": {},
   "outputs": [
    {
     "name": "stdout",
     "output_type": "stream",
     "text": [
      "Missing columns: set()\n"
     ]
    }
   ],
   "source": [
    "# We check for columns in the master catalogue that we will not save to disk.\n",
    "print(\"Missing columns: {}\".format(set(master_catalogue.colnames) - set(columns)))"
   ]
  },
  {
   "cell_type": "code",
   "execution_count": 58,
   "metadata": {},
   "outputs": [],
   "source": [
    "master_catalogue[columns].write(\"{}/master_catalogue_spire-nep{}.fits\".format(OUT_DIR, SUFFIX))"
   ]
  }
 ],
 "metadata": {
  "kernelspec": {
   "display_name": "Python (herschelhelp_internal)",
   "language": "python",
   "name": "helpint"
  },
  "language_info": {
   "codemirror_mode": {
    "name": "ipython",
    "version": 3
   },
   "file_extension": ".py",
   "mimetype": "text/x-python",
   "name": "python",
   "nbconvert_exporter": "python",
   "pygments_lexer": "ipython3",
   "version": "3.6.7"
  }
 },
 "nbformat": 4,
 "nbformat_minor": 2
}
