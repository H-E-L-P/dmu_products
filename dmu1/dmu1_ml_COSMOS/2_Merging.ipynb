{
 "cells": [
  {
   "cell_type": "markdown",
   "metadata": {
    "deletable": true,
    "editable": true
   },
   "source": [
    "# COSMOS master catalogue\n",
    "\n",
    "This notebook presents the merge of the various pristine catalogues to produce HELP mater catalogue on COSMOS."
   ]
  },
  {
   "cell_type": "code",
   "execution_count": 1,
   "metadata": {
    "collapsed": false,
    "deletable": true,
    "editable": true
   },
   "outputs": [
    {
     "name": "stdout",
     "output_type": "stream",
     "text": [
      "This notebook was run with herschelhelp_internal version: \n",
      "017bb1e (Mon Jun 18 14:58:59 2018 +0100)\n",
      "This notebook was executed on: \n",
      "2019-04-02 16:36:15.244738\n"
     ]
    }
   ],
   "source": [
    "from herschelhelp_internal import git_version\n",
    "print(\"This notebook was run with herschelhelp_internal version: \\n{}\".format(git_version()))\n",
    "import datetime\n",
    "print(\"This notebook was executed on: \\n{}\".format(datetime.datetime.now()))"
   ]
  },
  {
   "cell_type": "code",
   "execution_count": 2,
   "metadata": {
    "collapsed": true,
    "deletable": true,
    "editable": true
   },
   "outputs": [
    {
     "name": "stderr",
     "output_type": "stream",
     "text": [
      "/opt/pyenv/versions/3.7.2/lib/python3.7/site-packages/matplotlib/__init__.py:855: MatplotlibDeprecationWarning: \n",
      "examples.directory is deprecated; in the future, examples will be found relative to the 'datapath' directory.\n",
      "  \"found relative to the 'datapath' directory.\".format(key))\n",
      "/opt/pyenv/versions/3.7.2/lib/python3.7/site-packages/matplotlib/__init__.py:846: MatplotlibDeprecationWarning: \n",
      "The text.latex.unicode rcparam was deprecated in Matplotlib 2.2 and will be removed in 3.1.\n",
      "  \"2.2\", name=key, obj_type=\"rcparam\", addendum=addendum)\n",
      "/opt/pyenv/versions/3.7.2/lib/python3.7/site-packages/seaborn/apionly.py:9: UserWarning: As seaborn no longer sets a default style on import, the seaborn.apionly module is deprecated. It will be removed in a future version.\n",
      "  warnings.warn(msg, UserWarning)\n"
     ]
    }
   ],
   "source": [
    "%matplotlib inline\n",
    "#%config InlineBackend.figure_format = 'svg'\n",
    "\n",
    "import matplotlib.pyplot as plt\n",
    "plt.rc('figure', figsize=(10, 6))\n",
    "\n",
    "from collections import OrderedDict\n",
    "import os\n",
    "import time\n",
    "\n",
    "from astropy import units as u\n",
    "from astropy.coordinates import SkyCoord\n",
    "from astropy.table import Column, Table\n",
    "import numpy as np\n",
    "from pymoc import MOC\n",
    "\n",
    "from herschelhelp_internal.masterlist import merge_catalogues, nb_merge_dist_plot, specz_merge\n",
    "from herschelhelp_internal.utils import coords_to_hpidx, ebv, gen_help_id, inMoc"
   ]
  },
  {
   "cell_type": "code",
   "execution_count": 3,
   "metadata": {
    "collapsed": true,
    "deletable": true,
    "editable": true
   },
   "outputs": [],
   "source": [
    "TMP_DIR = os.environ.get('TMP_DIR', \"./data_tmp\")\n",
    "OUT_DIR = os.environ.get('OUT_DIR', \"./data\")\n",
    "SUFFIX = os.environ.get('SUFFIX', time.strftime(\"_%Y%m%d\"))\n",
    "\n",
    "try:\n",
    "    os.makedirs(OUT_DIR)\n",
    "except FileExistsError:\n",
    "    pass"
   ]
  },
  {
   "cell_type": "markdown",
   "metadata": {
    "deletable": true,
    "editable": true
   },
   "source": [
    "## I - Reading the prepared pristine catalogues"
   ]
  },
  {
   "cell_type": "code",
   "execution_count": 4,
   "metadata": {
    "collapsed": true,
    "deletable": true,
    "editable": true
   },
   "outputs": [],
   "source": [
    "#COSMOS was originally run with the official LAigle et al 2015 catalogue \n",
    "#so all those ids and photometry values must be preserved\n",
    "cosmos2015 = Table.read(\"{}/COSMOS2015_HELP.fits\".format(TMP_DIR))"
   ]
  },
  {
   "cell_type": "code",
   "execution_count": 5,
   "metadata": {
    "collapsed": true,
    "deletable": true,
    "editable": true
   },
   "outputs": [],
   "source": [
    "candels = Table.read(\"{}/CANDELS.fits\".format(TMP_DIR))\n",
    "cfhtls = Table.read(\"{}/CFHTLS.fits\".format(TMP_DIR))\n",
    "decals = Table.read(\"{}/DECaLS.fits\".format(TMP_DIR))\n",
    "hsc_deep = Table.read(\"{}/HSC-DEEP.fits\".format(TMP_DIR))\n",
    "hsc_udeep = Table.read(\"{}/HSC-UDEEP.fits\".format(TMP_DIR))\n",
    "kids = Table.read(\"{}/KIDS.fits\".format(TMP_DIR))\n",
    "ps1 = Table.read(\"{}/PS1.fits\".format(TMP_DIR))\n",
    "las = Table.read(\"{}/UKIDSS-LAS.fits\".format(TMP_DIR))\n",
    "wirds = Table.read(\"{}/CFHT-WIRDS.fits\".format(TMP_DIR))\n",
    "\n"
   ]
  },
  {
   "cell_type": "markdown",
   "metadata": {
    "deletable": true,
    "editable": true
   },
   "source": [
    "## II - Merging tables\n",
    "\n",
    "We first merge the optical catalogues and then add the infrared ones: CANDELS, CFHTLS, DECaLS, HSC, KIDS, PanSTARRS, UKIDSS-LAS, and CFHT-WIRDS.\n",
    "\n",
    "At every step, we look at the distribution of the distances separating the sources from one catalogue to the other (within a maximum radius) to determine the best cross-matching radius."
   ]
  },
  {
   "cell_type": "markdown",
   "metadata": {
    "deletable": true,
    "editable": true
   },
   "source": [
    "### COSMOS 2015"
   ]
  },
  {
   "cell_type": "code",
   "execution_count": 6,
   "metadata": {
    "collapsed": true,
    "deletable": true,
    "editable": true
   },
   "outputs": [],
   "source": [
    "master_catalogue = cosmos2015\n",
    "master_catalogue['cosmos_ra'].name = 'ra'\n",
    "master_catalogue['cosmos_dec'].name = 'dec'"
   ]
  },
  {
   "cell_type": "markdown",
   "metadata": {
    "deletable": true,
    "editable": true
   },
   "source": [
    "### Add CANDELS"
   ]
  },
  {
   "cell_type": "code",
   "execution_count": 7,
   "metadata": {
    "collapsed": false,
    "deletable": true,
    "editable": true
   },
   "outputs": [
    {
     "data": {
      "image/png": "[encoded data removed]",
      "text/plain": [
       "<Figure size 432x288 with 1 Axes>"
      ]
     },
     "metadata": {
      "needs_background": "light"
     },
     "output_type": "display_data"
    }
   ],
   "source": [
    "nb_merge_dist_plot(\n",
    "    SkyCoord(master_catalogue['ra'], master_catalogue['dec']),\n",
    "    SkyCoord(candels['candels_ra'], candels['candels_dec'])\n",
    ")"
   ]
  },
  {
   "cell_type": "code",
   "execution_count": 8,
   "metadata": {
    "collapsed": true,
    "deletable": true,
    "editable": true
   },
   "outputs": [],
   "source": [
    "# Given the graph above, we use 0.8 arc-second radius\n",
    "master_catalogue = merge_catalogues(master_catalogue, candels, \"candels_ra\", \"candels_dec\", radius=0.8*u.arcsec)"
   ]
  },
  {
   "cell_type": "markdown",
   "metadata": {
    "deletable": true,
    "editable": true
   },
   "source": [
    "### Add CFHTLS"
   ]
  },
  {
   "cell_type": "code",
   "execution_count": 9,
   "metadata": {
    "collapsed": false,
    "deletable": true,
    "editable": true
   },
   "outputs": [
    {
     "data": {
      "image/png": "[encoded data removed]",
      "text/plain": [
       "<Figure size 432x288 with 1 Axes>"
      ]
     },
     "metadata": {
      "needs_background": "light"
     },
     "output_type": "display_data"
    }
   ],
   "source": [
    "nb_merge_dist_plot(\n",
    "    SkyCoord(master_catalogue['ra'], master_catalogue['dec']),\n",
    "    SkyCoord(cfhtls['cfhtls_ra'], cfhtls['cfhtls_dec'])\n",
    ")"
   ]
  },
  {
   "cell_type": "code",
   "execution_count": 10,
   "metadata": {
    "collapsed": true,
    "deletable": true,
    "editable": true
   },
   "outputs": [],
   "source": [
    "# Given the graph above, we use 0.8 arc-second radius\n",
    "master_catalogue = merge_catalogues(master_catalogue, cfhtls, \"cfhtls_ra\", \"cfhtls_dec\", radius=0.8*u.arcsec)"
   ]
  },
  {
   "cell_type": "markdown",
   "metadata": {
    "deletable": true,
    "editable": true
   },
   "source": [
    "### Add DECaLS"
   ]
  },
  {
   "cell_type": "code",
   "execution_count": 11,
   "metadata": {
    "collapsed": false,
    "deletable": true,
    "editable": true
   },
   "outputs": [
    {
     "data": {
      "image/png": "[encoded data removed]",
      "text/plain": [
       "<Figure size 432x288 with 1 Axes>"
      ]
     },
     "metadata": {
      "needs_background": "light"
     },
     "output_type": "display_data"
    }
   ],
   "source": [
    "nb_merge_dist_plot(\n",
    "    SkyCoord(master_catalogue['ra'], master_catalogue['dec']),\n",
    "    SkyCoord(decals['decals_ra'], decals['decals_dec'])\n",
    ")"
   ]
  },
  {
   "cell_type": "code",
   "execution_count": 12,
   "metadata": {
    "collapsed": true,
    "deletable": true,
    "editable": true
   },
   "outputs": [],
   "source": [
    "# Given the graph above, we use 0.8 arc-second radius\n",
    "master_catalogue = merge_catalogues(master_catalogue, decals, \"decals_ra\", \"decals_dec\", radius=0.8*u.arcsec)"
   ]
  },
  {
   "cell_type": "markdown",
   "metadata": {
    "deletable": true,
    "editable": true
   },
   "source": [
    "### Add HSC-UDEEP"
   ]
  },
  {
   "cell_type": "code",
   "execution_count": 13,
   "metadata": {
    "collapsed": false,
    "deletable": true,
    "editable": true
   },
   "outputs": [
    {
     "data": {
      "image/png": "[encoded data removed]",
      "text/plain": [
       "<Figure size 432x288 with 1 Axes>"
      ]
     },
     "metadata": {
      "needs_background": "light"
     },
     "output_type": "display_data"
    }
   ],
   "source": [
    "nb_merge_dist_plot(\n",
    "    SkyCoord(master_catalogue['ra'], master_catalogue['dec']),\n",
    "    SkyCoord(hsc_udeep['hsc-udeep_ra'], hsc_udeep['hsc-udeep_dec'])\n",
    ")"
   ]
  },
  {
   "cell_type": "code",
   "execution_count": 14,
   "metadata": {
    "collapsed": true,
    "deletable": true,
    "editable": true
   },
   "outputs": [],
   "source": [
    "# Given the graph above, we use 0.8 arc-second radius\n",
    "master_catalogue = merge_catalogues(master_catalogue, hsc_udeep, \"hsc-udeep_ra\", \"hsc-udeep_dec\", radius=0.8*u.arcsec)"
   ]
  },
  {
   "cell_type": "markdown",
   "metadata": {
    "deletable": true,
    "editable": true
   },
   "source": [
    "### Add HSC-DEEP"
   ]
  },
  {
   "cell_type": "code",
   "execution_count": 15,
   "metadata": {
    "collapsed": false,
    "deletable": true,
    "editable": true
   },
   "outputs": [
    {
     "data": {
      "image/png": "[encoded data removed]",
      "text/plain": [
       "<Figure size 432x288 with 1 Axes>"
      ]
     },
     "metadata": {
      "needs_background": "light"
     },
     "output_type": "display_data"
    }
   ],
   "source": [
    "nb_merge_dist_plot(\n",
    "    SkyCoord(master_catalogue['ra'], master_catalogue['dec']),\n",
    "    SkyCoord(hsc_deep['hsc-deep_ra'], hsc_deep['hsc-deep_dec'])\n",
    ")"
   ]
  },
  {
   "cell_type": "code",
   "execution_count": 16,
   "metadata": {
    "collapsed": true,
    "deletable": true,
    "editable": true
   },
   "outputs": [],
   "source": [
    "# Given the graph above, we use 0.8 arc-second radius\n",
    "master_catalogue = merge_catalogues(master_catalogue, hsc_deep, \"hsc-deep_ra\", \"hsc-deep_dec\", radius=0.8*u.arcsec)"
   ]
  },
  {
   "cell_type": "markdown",
   "metadata": {
    "deletable": true,
    "editable": true
   },
   "source": [
    "### Add KIDS"
   ]
  },
  {
   "cell_type": "code",
   "execution_count": 17,
   "metadata": {
    "collapsed": false,
    "deletable": true,
    "editable": true
   },
   "outputs": [
    {
     "data": {
      "image/png": "[encoded data removed]",
      "text/plain": [
       "<Figure size 432x288 with 1 Axes>"
      ]
     },
     "metadata": {
      "needs_background": "light"
     },
     "output_type": "display_data"
    }
   ],
   "source": [
    "nb_merge_dist_plot(\n",
    "    SkyCoord(master_catalogue['ra'], master_catalogue['dec']),\n",
    "    SkyCoord(kids['kids_ra'], kids['kids_dec'])\n",
    ")"
   ]
  },
  {
   "cell_type": "code",
   "execution_count": 18,
   "metadata": {
    "collapsed": true,
    "deletable": true,
    "editable": true
   },
   "outputs": [],
   "source": [
    "# Given the graph above, we use 0.8 arc-second radius\n",
    "master_catalogue = merge_catalogues(master_catalogue, kids, \"kids_ra\", \"kids_dec\", radius=0.8*u.arcsec)"
   ]
  },
  {
   "cell_type": "markdown",
   "metadata": {
    "deletable": true,
    "editable": true
   },
   "source": [
    "### Add UKIDSS LAS"
   ]
  },
  {
   "cell_type": "code",
   "execution_count": 19,
   "metadata": {
    "collapsed": false,
    "deletable": true,
    "editable": true
   },
   "outputs": [
    {
     "data": {
      "image/png": "[encoded data removed]",
      "text/plain": [
       "<Figure size 432x288 with 1 Axes>"
      ]
     },
     "metadata": {
      "needs_background": "light"
     },
     "output_type": "display_data"
    }
   ],
   "source": [
    "nb_merge_dist_plot(\n",
    "    SkyCoord(master_catalogue['ra'], master_catalogue['dec']),\n",
    "    SkyCoord(las['las_ra'], las['las_dec'])\n",
    ")"
   ]
  },
  {
   "cell_type": "code",
   "execution_count": 20,
   "metadata": {
    "collapsed": true,
    "deletable": true,
    "editable": true
   },
   "outputs": [],
   "source": [
    "# Given the graph above, we use 0.8 arc-second radius\n",
    "master_catalogue = merge_catalogues(master_catalogue, las, \"las_ra\", \"las_dec\", radius=0.8*u.arcsec)"
   ]
  },
  {
   "cell_type": "markdown",
   "metadata": {
    "deletable": true,
    "editable": true
   },
   "source": [
    "### Add CFHT-WIRDS"
   ]
  },
  {
   "cell_type": "code",
   "execution_count": 21,
   "metadata": {
    "collapsed": false,
    "deletable": true,
    "editable": true
   },
   "outputs": [
    {
     "data": {
      "image/png": "[encoded data removed]",
      "text/plain": [
       "<Figure size 432x288 with 1 Axes>"
      ]
     },
     "metadata": {
      "needs_background": "light"
     },
     "output_type": "display_data"
    }
   ],
   "source": [
    "nb_merge_dist_plot(\n",
    "    SkyCoord(master_catalogue['ra'], master_catalogue['dec']),\n",
    "    SkyCoord(wirds['wirds_ra'], wirds['wirds_dec'])\n",
    ")"
   ]
  },
  {
   "cell_type": "code",
   "execution_count": 22,
   "metadata": {
    "collapsed": true,
    "deletable": true,
    "editable": true
   },
   "outputs": [],
   "source": [
    "#Given the graph above, we use 1 arc-second radius\n",
    "master_catalogue = merge_catalogues(master_catalogue, wirds, \"wirds_ra\", \"wirds_dec\", radius=1.*u.arcsec)"
   ]
  },
  {
   "cell_type": "markdown",
   "metadata": {
    "deletable": true,
    "editable": true
   },
   "source": [
    "## Add PanSTARRS"
   ]
  },
  {
   "cell_type": "code",
   "execution_count": 23,
   "metadata": {
    "collapsed": false,
    "deletable": true,
    "editable": true
   },
   "outputs": [
    {
     "data": {
      "image/png": "[encoded data removed]",
      "text/plain": [
       "<Figure size 432x288 with 1 Axes>"
      ]
     },
     "metadata": {
      "needs_background": "light"
     },
     "output_type": "display_data"
    }
   ],
   "source": [
    "nb_merge_dist_plot(\n",
    "    SkyCoord(master_catalogue['ra'], master_catalogue['dec']),\n",
    "    SkyCoord(ps1['ps1_ra'], ps1['ps1_dec'])\n",
    ")"
   ]
  },
  {
   "cell_type": "code",
   "execution_count": 24,
   "metadata": {
    "collapsed": true,
    "deletable": true,
    "editable": true
   },
   "outputs": [],
   "source": [
    "#Given the graph above, we use 1 arc-second radius\n",
    "master_catalogue = merge_catalogues(master_catalogue, ps1, \"ps1_ra\", \"ps1_dec\", radius=1.*u.arcsec)"
   ]
  },
  {
   "cell_type": "markdown",
   "metadata": {
    "deletable": true,
    "editable": true
   },
   "source": [
    "### Cleaning\n",
    "\n",
    "When we merge the catalogues, astropy masks the non-existent values (e.g. when a row comes only from a catalogue and has no counterparts in the other, the columns from the latest are masked for that row). We indicate to use NaN for masked values for floats columns, False for flag columns and -1 for ID columns."
   ]
  },
  {
   "cell_type": "code",
   "execution_count": 25,
   "metadata": {
    "collapsed": true,
    "deletable": true,
    "editable": true
   },
   "outputs": [],
   "source": [
    "for col in master_catalogue.colnames:\n",
    "    #print(col)\n",
    "    if (col.startswith(\"m_\") \n",
    "        or col.startswith(\"merr_\") \n",
    "        or col.startswith(\"f_\") \n",
    "        or col.startswith(\"ferr_\") \n",
    "        or \"stellarity\" in col):\n",
    "        master_catalogue[col] = master_catalogue[col].astype(float)\n",
    "        master_catalogue[col].fill_value = np.nan\n",
    "    elif \"flag\" in col:\n",
    "        master_catalogue[col].fill_value = 0\n",
    "    elif \"id\" in col:\n",
    "        master_catalogue[col].fill_value = -1\n",
    "        \n",
    "master_catalogue = master_catalogue.filled()"
   ]
  },
  {
   "cell_type": "code",
   "execution_count": 26,
   "metadata": {
    "collapsed": false,
    "deletable": true,
    "editable": true
   },
   "outputs": [
    {
     "data": {
      "text/html": [
       "<i>Table length=10</i>\n",
       "<table id=\"table140433137161944-424563\" class=\"table-striped table-bordered table-condensed\">\n",
       "<thead><tr><th>idx</th><th>help_id</th><th>cosmos_id</th><th>ra</th><th>dec</th><th>cosmos_stellarity</th><th>m_cosmos-vista_ks</th><th>merr_cosmos-vista_ks</th><th>f_ap_cosmos-vista_ks</th><th>ferr_ap_cosmos-vista_ks</th><th>m_cosmos-vista_y</th><th>merr_cosmos-vista_y</th><th>f_ap_cosmos-vista_y</th><th>ferr_ap_cosmos-vista_y</th><th>m_cosmos-vista_h</th><th>merr_cosmos-vista_h</th><th>f_ap_cosmos-vista_h</th><th>ferr_ap_cosmos-vista_h</th><th>m_cosmos-vista_j</th><th>merr_cosmos-vista_j</th><th>f_ap_cosmos-vista_j</th><th>ferr_ap_cosmos-vista_j</th><th>m_cosmos-megacam_u</th><th>merr_cosmos-megacam_u</th><th>f_ap_cosmos-megacam_u</th><th>ferr_ap_cosmos-megacam_u</th><th>m_cosmos-suprime_b</th><th>merr_cosmos-suprime_b</th><th>f_ap_cosmos-suprime_b</th><th>ferr_ap_cosmos-suprime_b</th><th>m_cosmos-suprime_v</th><th>merr_cosmos-suprime_v</th><th>f_ap_cosmos-suprime_v</th><th>ferr_ap_cosmos-suprime_v</th><th>m_cosmos-suprime_ip</th><th>merr_cosmos-suprime_ip</th><th>f_ap_cosmos-suprime_ip</th><th>ferr_ap_cosmos-suprime_ip</th><th>m_cosmos-suprime_rc</th><th>merr_cosmos-suprime_rc</th><th>f_ap_cosmos-suprime_rc</th><th>ferr_ap_cosmos-suprime_rc</th><th>m_cosmos-suprime_zp</th><th>merr_cosmos-suprime_zp</th><th>f_ap_cosmos-suprime_zp</th><th>ferr_ap_cosmos-suprime_zp</th><th>m_cosmos-suprime_zpp</th><th>merr_cosmos-suprime_zpp</th><th>f_ap_cosmos-suprime_zpp</th><th>ferr_ap_cosmos-suprime_zpp</th><th>m_cosmos-suprime_ia484</th><th>merr_cosmos-suprime_ia484</th><th>f_ap_cosmos-suprime_ia484</th><th>ferr_ap_cosmos-suprime_ia484</th><th>m_cosmos-suprime_ia527</th><th>merr_cosmos-suprime_ia527</th><th>f_ap_cosmos-suprime_ia527</th><th>ferr_ap_cosmos-suprime_ia527</th><th>m_cosmos-suprime_ia624</th><th>merr_cosmos-suprime_ia624</th><th>f_ap_cosmos-suprime_ia624</th><th>ferr_ap_cosmos-suprime_ia624</th><th>m_cosmos-suprime_ia679</th><th>merr_cosmos-suprime_ia679</th><th>f_ap_cosmos-suprime_ia679</th><th>ferr_ap_cosmos-suprime_ia679</th><th>m_cosmos-suprime_ia738</th><th>merr_cosmos-suprime_ia738</th><th>f_ap_cosmos-suprime_ia738</th><th>ferr_ap_cosmos-suprime_ia738</th><th>m_cosmos-suprime_ia767</th><th>merr_cosmos-suprime_ia767</th><th>f_ap_cosmos-suprime_ia767</th><th>ferr_ap_cosmos-suprime_ia767</th><th>m_cosmos-suprime_ib427</th><th>merr_cosmos-suprime_ib427</th><th>f_ap_cosmos-suprime_ib427</th><th>ferr_ap_cosmos-suprime_ib427</th><th>m_cosmos-suprime_ib464</th><th>merr_cosmos-suprime_ib464</th><th>f_ap_cosmos-suprime_ib464</th><th>ferr_ap_cosmos-suprime_ib464</th><th>m_cosmos-suprime_ib505</th><th>merr_cosmos-suprime_ib505</th><th>f_ap_cosmos-suprime_ib505</th><th>ferr_ap_cosmos-suprime_ib505</th><th>m_cosmos-suprime_ib574</th><th>merr_cosmos-suprime_ib574</th><th>f_ap_cosmos-suprime_ib574</th><th>ferr_ap_cosmos-suprime_ib574</th><th>m_cosmos-suprime_ib709</th><th>merr_cosmos-suprime_ib709</th><th>f_ap_cosmos-suprime_ib709</th><th>ferr_ap_cosmos-suprime_ib709</th><th>m_cosmos-suprime_ib827</th><th>merr_cosmos-suprime_ib827</th><th>f_ap_cosmos-suprime_ib827</th><th>ferr_ap_cosmos-suprime_ib827</th><th>m_cosmos-suprime_nb711</th><th>merr_cosmos-suprime_nb711</th><th>f_ap_cosmos-suprime_nb711</th><th>ferr_ap_cosmos-suprime_nb711</th><th>m_cosmos-suprime_nb816</th><th>merr_cosmos-suprime_nb816</th><th>f_ap_cosmos-suprime_nb816</th><th>ferr_ap_cosmos-suprime_nb816</th><th>m_cosmos-wircam_h</th><th>merr_cosmos-wircam_h</th><th>f_ap_cosmos-wircam_h</th><th>ferr_ap_cosmos-wircam_h</th><th>m_cosmos-wircam_ks</th><th>merr_cosmos-wircam_ks</th><th>f_ap_cosmos-wircam_ks</th><th>ferr_ap_cosmos-wircam_ks</th><th>m_cosmos-suprime_y</th><th>merr_cosmos-suprime_y</th><th>f_ap_cosmos-suprime_y</th><th>ferr_ap_cosmos-suprime_y</th><th>f_cosmos-irac_i1</th><th>ferr_cosmos-irac_i1</th><th>m_cosmos-irac_i1</th><th>merr_cosmos-irac_i1</th><th>f_cosmos-irac_i2</th><th>ferr_cosmos-irac_i2</th><th>m_cosmos-irac_i2</th><th>merr_cosmos-irac_i2</th><th>f_cosmos-irac_i3</th><th>ferr_cosmos-irac_i3</th><th>m_cosmos-irac_i3</th><th>merr_cosmos-irac_i3</th><th>f_cosmos-irac_i4</th><th>ferr_cosmos-irac_i4</th><th>m_cosmos-irac_i4</th><th>merr_cosmos-irac_i4</th><th>f_cosmos-vista_ks</th><th>ferr_cosmos-vista_ks</th><th>flag_cosmos-vista_ks</th><th>m_ap_cosmos-vista_ks</th><th>merr_ap_cosmos-vista_ks</th><th>f_cosmos-vista_y</th><th>ferr_cosmos-vista_y</th><th>flag_cosmos-vista_y</th><th>m_ap_cosmos-vista_y</th><th>merr_ap_cosmos-vista_y</th><th>f_cosmos-vista_h</th><th>ferr_cosmos-vista_h</th><th>flag_cosmos-vista_h</th><th>m_ap_cosmos-vista_h</th><th>merr_ap_cosmos-vista_h</th><th>f_cosmos-vista_j</th><th>ferr_cosmos-vista_j</th><th>flag_cosmos-vista_j</th><th>m_ap_cosmos-vista_j</th><th>merr_ap_cosmos-vista_j</th><th>f_cosmos-megacam_u</th><th>ferr_cosmos-megacam_u</th><th>flag_cosmos-megacam_u</th><th>m_ap_cosmos-megacam_u</th><th>merr_ap_cosmos-megacam_u</th><th>f_cosmos-suprime_b</th><th>ferr_cosmos-suprime_b</th><th>flag_cosmos-suprime_b</th><th>m_ap_cosmos-suprime_b</th><th>merr_ap_cosmos-suprime_b</th><th>f_cosmos-suprime_v</th><th>ferr_cosmos-suprime_v</th><th>flag_cosmos-suprime_v</th><th>m_ap_cosmos-suprime_v</th><th>merr_ap_cosmos-suprime_v</th><th>f_cosmos-suprime_ip</th><th>ferr_cosmos-suprime_ip</th><th>flag_cosmos-suprime_ip</th><th>m_ap_cosmos-suprime_ip</th><th>merr_ap_cosmos-suprime_ip</th><th>f_cosmos-suprime_rc</th><th>ferr_cosmos-suprime_rc</th><th>flag_cosmos-suprime_rc</th><th>m_ap_cosmos-suprime_rc</th><th>merr_ap_cosmos-suprime_rc</th><th>f_cosmos-suprime_zp</th><th>ferr_cosmos-suprime_zp</th><th>flag_cosmos-suprime_zp</th><th>m_ap_cosmos-suprime_zp</th><th>merr_ap_cosmos-suprime_zp</th><th>f_cosmos-suprime_zpp</th><th>ferr_cosmos-suprime_zpp</th><th>flag_cosmos-suprime_zpp</th><th>m_ap_cosmos-suprime_zpp</th><th>merr_ap_cosmos-suprime_zpp</th><th>f_cosmos-suprime_ia484</th><th>ferr_cosmos-suprime_ia484</th><th>flag_cosmos-suprime_ia484</th><th>m_ap_cosmos-suprime_ia484</th><th>merr_ap_cosmos-suprime_ia484</th><th>f_cosmos-suprime_ia527</th><th>ferr_cosmos-suprime_ia527</th><th>flag_cosmos-suprime_ia527</th><th>m_ap_cosmos-suprime_ia527</th><th>merr_ap_cosmos-suprime_ia527</th><th>f_cosmos-suprime_ia624</th><th>ferr_cosmos-suprime_ia624</th><th>flag_cosmos-suprime_ia624</th><th>m_ap_cosmos-suprime_ia624</th><th>merr_ap_cosmos-suprime_ia624</th><th>f_cosmos-suprime_ia679</th><th>ferr_cosmos-suprime_ia679</th><th>flag_cosmos-suprime_ia679</th><th>m_ap_cosmos-suprime_ia679</th><th>merr_ap_cosmos-suprime_ia679</th><th>f_cosmos-suprime_ia738</th><th>ferr_cosmos-suprime_ia738</th><th>flag_cosmos-suprime_ia738</th><th>m_ap_cosmos-suprime_ia738</th><th>merr_ap_cosmos-suprime_ia738</th><th>f_cosmos-suprime_ia767</th><th>ferr_cosmos-suprime_ia767</th><th>flag_cosmos-suprime_ia767</th><th>m_ap_cosmos-suprime_ia767</th><th>merr_ap_cosmos-suprime_ia767</th><th>f_cosmos-suprime_ib427</th><th>ferr_cosmos-suprime_ib427</th><th>flag_cosmos-suprime_ib427</th><th>m_ap_cosmos-suprime_ib427</th><th>merr_ap_cosmos-suprime_ib427</th><th>f_cosmos-suprime_ib464</th><th>ferr_cosmos-suprime_ib464</th><th>flag_cosmos-suprime_ib464</th><th>m_ap_cosmos-suprime_ib464</th><th>merr_ap_cosmos-suprime_ib464</th><th>f_cosmos-suprime_ib505</th><th>ferr_cosmos-suprime_ib505</th><th>flag_cosmos-suprime_ib505</th><th>m_ap_cosmos-suprime_ib505</th><th>merr_ap_cosmos-suprime_ib505</th><th>f_cosmos-suprime_ib574</th><th>ferr_cosmos-suprime_ib574</th><th>flag_cosmos-suprime_ib574</th><th>m_ap_cosmos-suprime_ib574</th><th>merr_ap_cosmos-suprime_ib574</th><th>f_cosmos-suprime_ib709</th><th>ferr_cosmos-suprime_ib709</th><th>flag_cosmos-suprime_ib709</th><th>m_ap_cosmos-suprime_ib709</th><th>merr_ap_cosmos-suprime_ib709</th><th>f_cosmos-suprime_ib827</th><th>ferr_cosmos-suprime_ib827</th><th>flag_cosmos-suprime_ib827</th><th>m_ap_cosmos-suprime_ib827</th><th>merr_ap_cosmos-suprime_ib827</th><th>f_cosmos-suprime_nb711</th><th>ferr_cosmos-suprime_nb711</th><th>flag_cosmos-suprime_nb711</th><th>m_ap_cosmos-suprime_nb711</th><th>merr_ap_cosmos-suprime_nb711</th><th>f_cosmos-suprime_nb816</th><th>ferr_cosmos-suprime_nb816</th><th>flag_cosmos-suprime_nb816</th><th>m_ap_cosmos-suprime_nb816</th><th>merr_ap_cosmos-suprime_nb816</th><th>f_cosmos-wircam_h</th><th>ferr_cosmos-wircam_h</th><th>flag_cosmos-wircam_h</th><th>m_ap_cosmos-wircam_h</th><th>merr_ap_cosmos-wircam_h</th><th>f_cosmos-wircam_ks</th><th>ferr_cosmos-wircam_ks</th><th>flag_cosmos-wircam_ks</th><th>m_ap_cosmos-wircam_ks</th><th>merr_ap_cosmos-wircam_ks</th><th>f_cosmos-suprime_y</th><th>ferr_cosmos-suprime_y</th><th>flag_cosmos-suprime_y</th><th>m_ap_cosmos-suprime_y</th><th>merr_ap_cosmos-suprime_y</th><th>flag_cosmos-irac_i1</th><th>flag_cosmos-irac_i2</th><th>flag_cosmos-irac_i3</th><th>flag_cosmos-irac_i4</th><th>ps1_flag_cleaned</th><th>cosmos_flag_gaia</th><th>flag_merged</th><th>candels_id</th><th>candels_stellarity</th><th>f_ap_candels_f140w</th><th>ferr_ap_candels_f140w</th><th>f_candels_f140w</th><th>ferr_candels_f140w</th><th>f_ap_candels_f160w</th><th>ferr_ap_candels_f160w</th><th>f_candels_f160w</th><th>ferr_candels_f160w</th><th>f_candels_f606w</th><th>ferr_candels_f606w</th><th>f_candels_f814w</th><th>ferr_candels_f814w</th><th>f_candels_f125w</th><th>ferr_candels_f125w</th><th>m_ap_candels_f140w</th><th>merr_ap_candels_f140w</th><th>m_candels_f140w</th><th>merr_candels_f140w</th><th>flag_candels_f140w</th><th>m_ap_candels_f160w</th><th>merr_ap_candels_f160w</th><th>m_candels_f160w</th><th>merr_candels_f160w</th><th>flag_candels_f160w</th><th>m_candels_f606w</th><th>merr_candels_f606w</th><th>flag_candels_f606w</th><th>m_candels_f814w</th><th>merr_candels_f814w</th><th>flag_candels_f814w</th><th>m_candels_f125w</th><th>merr_candels_f125w</th><th>flag_candels_f125w</th><th>candels_flag_cleaned</th><th>candels_flag_gaia</th><th>cfhtls_id</th><th>cfhtls_stellarity</th><th>m_megacam_u</th><th>merr_megacam_u</th><th>m_megacam_g</th><th>merr_megacam_g</th><th>m_megacam_r</th><th>merr_megacam_r</th><th>m_megacam_i</th><th>merr_megacam_i</th><th>m_megacam_z</th><th>merr_megacam_z</th><th>m_ap_megacam_u</th><th>merr_ap_megacam_u</th><th>m_ap_megacam_g</th><th>merr_ap_megacam_g</th><th>m_ap_megacam_r</th><th>merr_ap_megacam_r</th><th>m_ap_megacam_i</th><th>merr_ap_megacam_i</th><th>m_ap_megacam_z</th><th>merr_ap_megacam_z</th><th>f_megacam_u</th><th>ferr_megacam_u</th><th>flag_megacam_u</th><th>f_megacam_g</th><th>ferr_megacam_g</th><th>flag_megacam_g</th><th>f_megacam_r</th><th>ferr_megacam_r</th><th>flag_megacam_r</th><th>f_megacam_i</th><th>ferr_megacam_i</th><th>flag_megacam_i</th><th>f_megacam_z</th><th>ferr_megacam_z</th><th>flag_megacam_z</th><th>f_ap_megacam_u</th><th>ferr_ap_megacam_u</th><th>f_ap_megacam_g</th><th>ferr_ap_megacam_g</th><th>f_ap_megacam_r</th><th>ferr_ap_megacam_r</th><th>f_ap_megacam_i</th><th>ferr_ap_megacam_i</th><th>f_ap_megacam_z</th><th>ferr_ap_megacam_z</th><th>cfhtls_flag_cleaned</th><th>cfhtls_flag_gaia</th><th>decals_id</th><th>f_decam_g</th><th>f_decam_r</th><th>f_decam_z</th><th>ferr_decam_g</th><th>ferr_decam_r</th><th>ferr_decam_z</th><th>f_ap_decam_g</th><th>f_ap_decam_r</th><th>f_ap_decam_z</th><th>ferr_ap_decam_g</th><th>ferr_ap_decam_r</th><th>ferr_ap_decam_z</th><th>m_decam_g</th><th>merr_decam_g</th><th>flag_decam_g</th><th>m_decam_r</th><th>merr_decam_r</th><th>flag_decam_r</th><th>m_decam_z</th><th>merr_decam_z</th><th>flag_decam_z</th><th>m_ap_decam_g</th><th>merr_ap_decam_g</th><th>m_ap_decam_r</th><th>merr_ap_decam_r</th><th>m_ap_decam_z</th><th>merr_ap_decam_z</th><th>decals_stellarity</th><th>decals_flag_cleaned</th><th>decals_flag_gaia</th><th>hsc-udeep_id</th><th>m_ap_hsc-udeep_g</th><th>merr_ap_hsc-udeep_g</th><th>m_hsc-udeep_g</th><th>merr_hsc-udeep_g</th><th>m_ap_hsc-udeep_r</th><th>merr_ap_hsc-udeep_r</th><th>m_hsc-udeep_r</th><th>merr_hsc-udeep_r</th><th>m_ap_hsc-udeep_i</th><th>merr_ap_hsc-udeep_i</th><th>m_hsc-udeep_i</th><th>merr_hsc-udeep_i</th><th>m_ap_hsc-udeep_z</th><th>merr_ap_hsc-udeep_z</th><th>m_hsc-udeep_z</th><th>merr_hsc-udeep_z</th><th>m_ap_hsc-udeep_y</th><th>merr_ap_hsc-udeep_y</th><th>m_hsc-udeep_y</th><th>merr_hsc-udeep_y</th><th>m_ap_hsc-udeep_n921</th><th>merr_ap_hsc-udeep_n921</th><th>m_hsc-udeep_n921</th><th>merr_hsc-udeep_n921</th><th>hsc-udeep_stellarity</th><th>f_ap_hsc-udeep_g</th><th>ferr_ap_hsc-udeep_g</th><th>f_hsc-udeep_g</th><th>ferr_hsc-udeep_g</th><th>flag_hsc-udeep_g</th><th>f_ap_hsc-udeep_r</th><th>ferr_ap_hsc-udeep_r</th><th>f_hsc-udeep_r</th><th>ferr_hsc-udeep_r</th><th>flag_hsc-udeep_r</th><th>f_ap_hsc-udeep_i</th><th>ferr_ap_hsc-udeep_i</th><th>f_hsc-udeep_i</th><th>ferr_hsc-udeep_i</th><th>flag_hsc-udeep_i</th><th>f_ap_hsc-udeep_z</th><th>ferr_ap_hsc-udeep_z</th><th>f_hsc-udeep_z</th><th>ferr_hsc-udeep_z</th><th>flag_hsc-udeep_z</th><th>f_ap_hsc-udeep_y</th><th>ferr_ap_hsc-udeep_y</th><th>f_hsc-udeep_y</th><th>ferr_hsc-udeep_y</th><th>flag_hsc-udeep_y</th><th>f_ap_hsc-udeep_n921</th><th>ferr_ap_hsc-udeep_n921</th><th>f_hsc-udeep_n921</th><th>ferr_hsc-udeep_n921</th><th>flag_hsc-udeep_n921</th><th>hsc-udeep_flag_cleaned</th><th>hsc-udeep_flag_gaia</th><th>hsc-deep_id</th><th>m_ap_hsc-deep_g</th><th>merr_ap_hsc-deep_g</th><th>m_hsc-deep_g</th><th>merr_hsc-deep_g</th><th>m_ap_hsc-deep_r</th><th>merr_ap_hsc-deep_r</th><th>m_hsc-deep_r</th><th>merr_hsc-deep_r</th><th>m_ap_hsc-deep_i</th><th>merr_ap_hsc-deep_i</th><th>m_hsc-deep_i</th><th>merr_hsc-deep_i</th><th>m_ap_hsc-deep_z</th><th>merr_ap_hsc-deep_z</th><th>m_hsc-deep_z</th><th>merr_hsc-deep_z</th><th>m_ap_hsc-deep_y</th><th>merr_ap_hsc-deep_y</th><th>m_hsc-deep_y</th><th>merr_hsc-deep_y</th><th>m_ap_hsc-deep_n921</th><th>merr_ap_hsc-deep_n921</th><th>m_hsc-deep_n921</th><th>merr_hsc-deep_n921</th><th>hsc-deep_stellarity</th><th>f_ap_hsc-deep_g</th><th>ferr_ap_hsc-deep_g</th><th>f_hsc-deep_g</th><th>ferr_hsc-deep_g</th><th>flag_hsc-deep_g</th><th>f_ap_hsc-deep_r</th><th>ferr_ap_hsc-deep_r</th><th>f_hsc-deep_r</th><th>ferr_hsc-deep_r</th><th>flag_hsc-deep_r</th><th>f_ap_hsc-deep_i</th><th>ferr_ap_hsc-deep_i</th><th>f_hsc-deep_i</th><th>ferr_hsc-deep_i</th><th>flag_hsc-deep_i</th><th>f_ap_hsc-deep_z</th><th>ferr_ap_hsc-deep_z</th><th>f_hsc-deep_z</th><th>ferr_hsc-deep_z</th><th>flag_hsc-deep_z</th><th>f_ap_hsc-deep_y</th><th>ferr_ap_hsc-deep_y</th><th>f_hsc-deep_y</th><th>ferr_hsc-deep_y</th><th>flag_hsc-deep_y</th><th>f_ap_hsc-deep_n921</th><th>ferr_ap_hsc-deep_n921</th><th>f_hsc-deep_n921</th><th>ferr_hsc-deep_n921</th><th>flag_hsc-deep_n921</th><th>hsc-deep_flag_cleaned</th><th>hsc-deep_flag_gaia</th><th>kids_id</th><th>kids_stellarity</th><th>m_kids_u</th><th>merr_kids_u</th><th>m_kids_g</th><th>merr_kids_g</th><th>m_kids_r</th><th>merr_kids_r</th><th>m_kids_i</th><th>merr_kids_i</th><th>f_ap_kids_u</th><th>ferr_ap_kids_u</th><th>f_ap_kids_g</th><th>ferr_ap_kids_g</th><th>f_ap_kids_r</th><th>ferr_ap_kids_r</th><th>f_ap_kids_i</th><th>ferr_ap_kids_i</th><th>f_kids_u</th><th>ferr_kids_u</th><th>flag_kids_u</th><th>f_kids_g</th><th>ferr_kids_g</th><th>flag_kids_g</th><th>f_kids_r</th><th>ferr_kids_r</th><th>flag_kids_r</th><th>f_kids_i</th><th>ferr_kids_i</th><th>flag_kids_i</th><th>m_ap_kids_u</th><th>merr_ap_kids_u</th><th>m_ap_kids_g</th><th>merr_ap_kids_g</th><th>m_ap_kids_r</th><th>merr_ap_kids_r</th><th>m_ap_kids_i</th><th>merr_ap_kids_i</th><th>kids_flag_cleaned</th><th>kids_flag_gaia</th><th>las_id</th><th>m_ukidss_y</th><th>merr_ukidss_y</th><th>m_ap_ukidss_y</th><th>merr_ap_ukidss_y</th><th>m_ukidss_j</th><th>merr_ukidss_j</th><th>m_ap_ukidss_j</th><th>merr_ap_ukidss_j</th><th>m_ap_ukidss_h</th><th>merr_ap_ukidss_h</th><th>m_ukidss_h</th><th>merr_ukidss_h</th><th>m_ap_ukidss_k</th><th>merr_ap_ukidss_k</th><th>m_ukidss_k</th><th>merr_ukidss_k</th><th>las_stellarity</th><th>f_ukidss_y</th><th>ferr_ukidss_y</th><th>flag_ukidss_y</th><th>f_ap_ukidss_y</th><th>ferr_ap_ukidss_y</th><th>f_ukidss_j</th><th>ferr_ukidss_j</th><th>flag_ukidss_j</th><th>f_ap_ukidss_j</th><th>ferr_ap_ukidss_j</th><th>f_ap_ukidss_h</th><th>ferr_ap_ukidss_h</th><th>f_ukidss_h</th><th>ferr_ukidss_h</th><th>flag_ukidss_h</th><th>f_ap_ukidss_k</th><th>ferr_ap_ukidss_k</th><th>f_ukidss_k</th><th>ferr_ukidss_k</th><th>flag_ukidss_k</th><th>las_flag_cleaned</th><th>las_flag_gaia</th><th>wirds_id</th><th>m_wirds_u</th><th>merr_wirds_u</th><th>m_ap_wirds_u</th><th>merr_ap_wirds_u</th><th>m_wirds_g</th><th>merr_wirds_g</th><th>m_ap_wirds_g</th><th>merr_ap_wirds_g</th><th>m_wirds_r</th><th>merr_wirds_r</th><th>m_ap_wirds_r</th><th>merr_ap_wirds_r</th><th>m_wirds_i</th><th>merr_wirds_i</th><th>m_ap_wirds_i</th><th>merr_ap_wirds_i</th><th>m_wirds_z</th><th>merr_wirds_z</th><th>m_ap_wirds_z</th><th>merr_ap_wirds_z</th><th>m_wirds_j</th><th>merr_wirds_j</th><th>m_ap_wirds_j</th><th>merr_ap_wirds_j</th><th>m_wirds_h</th><th>merr_wirds_h</th><th>m_ap_wirds_h</th><th>merr_ap_wirds_h</th><th>m_wirds_k</th><th>merr_wirds_k</th><th>m_ap_wirds_k</th><th>merr_ap_wirds_k</th><th>f_wirds_u</th><th>ferr_wirds_u</th><th>flag_wirds_u</th><th>f_ap_wirds_u</th><th>ferr_ap_wirds_u</th><th>f_wirds_g</th><th>ferr_wirds_g</th><th>flag_wirds_g</th><th>f_ap_wirds_g</th><th>ferr_ap_wirds_g</th><th>f_wirds_r</th><th>ferr_wirds_r</th><th>flag_wirds_r</th><th>f_ap_wirds_r</th><th>ferr_ap_wirds_r</th><th>f_wirds_i</th><th>ferr_wirds_i</th><th>flag_wirds_i</th><th>f_ap_wirds_i</th><th>ferr_ap_wirds_i</th><th>f_wirds_z</th><th>ferr_wirds_z</th><th>flag_wirds_z</th><th>f_ap_wirds_z</th><th>ferr_ap_wirds_z</th><th>f_wirds_j</th><th>ferr_wirds_j</th><th>flag_wirds_j</th><th>f_ap_wirds_j</th><th>ferr_ap_wirds_j</th><th>f_wirds_h</th><th>ferr_wirds_h</th><th>flag_wirds_h</th><th>f_ap_wirds_h</th><th>ferr_ap_wirds_h</th><th>f_wirds_k</th><th>ferr_wirds_k</th><th>flag_wirds_k</th><th>f_ap_wirds_k</th><th>ferr_ap_wirds_k</th><th>wirds_flag_cleaned</th><th>cfht-wirds_flag_gaia</th><th>ps1_flag_cleaned_1</th><th>ps1_id</th><th>m_ap_gpc1_g</th><th>merr_ap_gpc1_g</th><th>m_gpc1_g</th><th>merr_gpc1_g</th><th>m_ap_gpc1_r</th><th>merr_ap_gpc1_r</th><th>m_gpc1_r</th><th>merr_gpc1_r</th><th>m_ap_gpc1_i</th><th>merr_ap_gpc1_i</th><th>m_gpc1_i</th><th>merr_gpc1_i</th><th>m_ap_gpc1_z</th><th>merr_ap_gpc1_z</th><th>m_gpc1_z</th><th>merr_gpc1_z</th><th>m_ap_gpc1_y</th><th>merr_ap_gpc1_y</th><th>m_gpc1_y</th><th>merr_gpc1_y</th><th>f_ap_gpc1_g</th><th>ferr_ap_gpc1_g</th><th>f_gpc1_g</th><th>ferr_gpc1_g</th><th>flag_gpc1_g</th><th>f_ap_gpc1_r</th><th>ferr_ap_gpc1_r</th><th>f_gpc1_r</th><th>ferr_gpc1_r</th><th>flag_gpc1_r</th><th>f_ap_gpc1_i</th><th>ferr_ap_gpc1_i</th><th>f_gpc1_i</th><th>ferr_gpc1_i</th><th>flag_gpc1_i</th><th>f_ap_gpc1_z</th><th>ferr_ap_gpc1_z</th><th>f_gpc1_z</th><th>ferr_gpc1_z</th><th>flag_gpc1_z</th><th>f_ap_gpc1_y</th><th>ferr_ap_gpc1_y</th><th>f_gpc1_y</th><th>ferr_gpc1_y</th><th>flag_gpc1_y</th><th>ps1_flag_cleaned_2</th><th>ps1_flag_gaia</th></tr></thead>\n",
       "<thead><tr><th></th><th></th><th></th><th>deg</th><th>deg</th><th></th><th>mag</th><th>mag</th><th>uJy</th><th>uJy</th><th>mag</th><th>mag</th><th>uJy</th><th>uJy</th><th>mag</th><th>mag</th><th>uJy</th><th>uJy</th><th>mag</th><th>mag</th><th>uJy</th><th>uJy</th><th>mag</th><th>mag</th><th>uJy</th><th>uJy</th><th>mag</th><th>mag</th><th>uJy</th><th>uJy</th><th>mag</th><th>mag</th><th>uJy</th><th>uJy</th><th>mag</th><th>mag</th><th>uJy</th><th>uJy</th><th>mag</th><th>mag</th><th>uJy</th><th>uJy</th><th>mag</th><th>mag</th><th>uJy</th><th>uJy</th><th>mag</th><th>mag</th><th>uJy</th><th>uJy</th><th>mag</th><th>mag</th><th>uJy</th><th>uJy</th><th>mag</th><th>mag</th><th>uJy</th><th>uJy</th><th>mag</th><th>mag</th><th>uJy</th><th>uJy</th><th>mag</th><th>mag</th><th>uJy</th><th>uJy</th><th>mag</th><th>mag</th><th>uJy</th><th>uJy</th><th>mag</th><th>mag</th><th>uJy</th><th>uJy</th><th>mag</th><th>mag</th><th>uJy</th><th>uJy</th><th>mag</th><th>mag</th><th>uJy</th><th>uJy</th><th>mag</th><th>mag</th><th>uJy</th><th>uJy</th><th>mag</th><th>mag</th><th>uJy</th><th>uJy</th><th>mag</th><th>mag</th><th>uJy</th><th>uJy</th><th>mag</th><th>mag</th><th>uJy</th><th>uJy</th><th>mag</th><th>mag</th><th>uJy</th><th>uJy</th><th>mag</th><th>mag</th><th>uJy</th><th>uJy</th><th>mag</th><th>mag</th><th>uJy</th><th>uJy</th><th>mag</th><th>mag</th><th>uJy</th><th>uJy</th><th>mag</th><th>mag</th><th>uJy</th><th>uJy</th><th>uJy</th><th>uJy</th><th>mag</th><th>mag</th><th>uJy</th><th>uJy</th><th>mag</th><th>mag</th><th>uJy</th><th>uJy</th><th>mag</th><th>mag</th><th>uJy</th><th>uJy</th><th>mag</th><th>mag</th><th></th><th></th><th></th><th></th><th></th><th></th><th></th><th></th><th></th><th></th><th></th><th></th><th></th><th></th><th></th><th></th><th></th><th></th><th></th><th></th><th></th><th></th><th></th><th></th><th></th><th></th><th></th><th></th><th></th><th></th><th></th><th></th><th></th><th></th><th></th><th></th><th></th><th></th><th></th><th></th><th></th><th></th><th></th><th></th><th></th><th></th><th></th><th></th><th></th><th></th><th></th><th></th><th></th><th></th><th></th><th></th><th></th><th></th><th></th><th></th><th></th><th></th><th></th><th></th><th></th><th></th><th></th><th></th><th></th><th></th><th></th><th></th><th></th><th></th><th></th><th></th><th></th><th></th><th></th><th></th><th></th><th></th><th></th><th></th><th></th><th></th><th></th><th></th><th></th><th></th><th></th><th></th><th></th><th></th><th></th><th></th><th></th><th></th><th></th><th></th><th></th><th></th><th></th><th></th><th></th><th></th><th></th><th></th><th></th><th></th><th></th><th></th><th></th><th></th><th></th><th></th><th></th><th></th><th></th><th></th><th></th><th></th><th></th><th></th><th></th><th></th><th></th><th></th><th></th><th></th><th></th><th></th><th></th><th></th><th></th><th></th><th></th><th></th><th></th><th></th><th></th><th></th><th></th><th></th><th></th><th></th><th></th><th></th><th></th><th>uJy</th><th>uJy</th><th>uJy</th><th>uJy</th><th>uJy</th><th>uJy</th><th>uJy</th><th>uJy</th><th>uJy</th><th>uJy</th><th>uJy</th><th>uJy</th><th>uJy</th><th>uJy</th><th></th><th></th><th></th><th></th><th></th><th></th><th></th><th></th><th></th><th></th><th></th><th></th><th></th><th></th><th></th><th></th><th></th><th></th><th></th><th></th><th></th><th></th><th></th><th>mag</th><th>mag</th><th>mag</th><th>mag</th><th>mag</th><th>mag</th><th>mag</th><th>mag</th><th>mag</th><th>mag</th><th>mag</th><th>mag</th><th>mag</th><th>mag</th><th>mag</th><th>mag</th><th>mag</th><th>mag</th><th>mag</th><th>mag</th><th></th><th></th><th></th><th></th><th></th><th></th><th></th><th></th><th></th><th></th><th></th><th></th><th></th><th></th><th></th><th></th><th></th><th></th><th></th><th></th><th></th><th></th><th></th><th></th><th></th><th></th><th></th><th></th><th></th><th></th><th></th><th></th><th></th><th></th><th></th><th></th><th></th><th></th><th></th><th></th><th></th><th></th><th></th><th></th><th></th><th></th><th></th><th></th><th></th><th></th><th></th><th></th><th></th><th></th><th></th><th></th><th></th><th></th><th></th><th></th><th></th><th></th><th></th><th></th><th></th><th></th><th></th><th></th><th></th><th></th><th></th><th></th><th></th><th></th><th></th><th></th><th></th><th></th><th></th><th></th><th></th><th></th><th></th><th></th><th></th><th></th><th></th><th></th><th></th><th></th><th></th><th></th><th></th><th></th><th></th><th></th><th></th><th></th><th></th><th></th><th></th><th></th><th></th><th></th><th></th><th></th><th></th><th></th><th></th><th></th><th></th><th></th><th></th><th></th><th></th><th></th><th></th><th></th><th></th><th></th><th></th><th></th><th></th><th></th><th></th><th></th><th></th><th></th><th></th><th></th><th></th><th></th><th></th><th></th><th></th><th></th><th></th><th></th><th></th><th></th><th></th><th></th><th></th><th></th><th></th><th></th><th></th><th></th><th></th><th></th><th></th><th></th><th></th><th></th><th></th><th></th><th></th><th></th><th></th><th></th><th></th><th></th><th></th><th></th><th></th><th></th><th></th><th></th><th></th><th></th><th></th><th></th><th></th><th></th><th></th><th></th><th>mag</th><th>mag</th><th>mag</th><th>mag</th><th>mag</th><th>mag</th><th>mag</th><th>mag</th><th>uJy</th><th>uJy</th><th>uJy</th><th>uJy</th><th>uJy</th><th>uJy</th><th>uJy</th><th>uJy</th><th></th><th></th><th></th><th></th><th></th><th></th><th></th><th></th><th></th><th></th><th></th><th></th><th></th><th></th><th></th><th></th><th></th><th></th><th></th><th></th><th></th><th></th><th></th><th></th><th></th><th></th><th></th><th></th><th></th><th></th><th></th><th></th><th></th><th></th><th></th><th></th><th></th><th></th><th></th><th></th><th></th><th></th><th></th><th></th><th></th><th></th><th></th><th></th><th></th><th></th><th></th><th></th><th></th><th></th><th></th><th></th><th></th><th></th><th></th><th></th><th></th><th></th><th></th><th></th><th></th><th></th><th></th><th></th><th></th><th></th><th></th><th></th><th></th><th></th><th></th><th></th><th></th><th></th><th></th><th></th><th></th><th></th><th></th><th></th><th></th><th></th><th></th><th></th><th></th><th></th><th></th><th></th><th></th><th></th><th></th><th></th><th></th><th></th><th></th><th></th><th></th><th></th><th></th><th></th><th></th><th></th><th></th><th></th><th></th><th></th><th></th><th></th><th></th><th></th><th></th><th></th><th></th><th></th><th></th><th></th><th></th><th></th><th></th><th></th><th></th><th></th><th></th><th></th><th></th><th></th><th></th><th></th><th></th><th></th><th></th><th></th><th></th><th></th><th></th><th></th><th></th><th></th><th></th><th></th><th></th><th></th><th></th><th></th><th></th><th></th><th></th><th></th><th></th><th></th><th></th><th></th><th></th><th></th><th></th><th></th><th></th><th></th><th></th><th></th><th></th><th></th><th></th><th></th><th></th><th></th><th></th><th></th><th></th><th></th><th></th><th></th><th></th><th></th><th></th><th></th><th></th><th></th><th></th><th></th><th></th><th></th></tr></thead>\n",
       "<tr><td>0</td><td>HELP_J095914.43+021600.80</td><td>COSMOS2015_J095914.43+021600.80</td><td>149.810113605091</td><td>2.26688583985786</td><td>1.0</td><td>nan</td><td>nan</td><td>-2.224829950137064e-05</td><td>0.032126300036907196</td><td>nan</td><td>nan</td><td>0.03079020045697689</td><td>0.04474860057234764</td><td>nan</td><td>nan</td><td>nan</td><td>nan</td><td>26.325700759887695</td><td>0.3331409990787506</td><td>0.08171340078115463</td><td>0.06977520138025284</td><td>27.722900390625</td><td>0.3792949914932251</td><td>-0.0016348300268873572</td><td>0.016533099114894867</td><td>29.33679962158203</td><td>1.4130500555038452</td><td>0.00668556010350585</td><td>0.009602379985153675</td><td>27.513700485229492</td><td>0.4707289934158325</td><td>0.013516400009393692</td><td>0.018334299325942993</td><td>27.704099655151367</td><td>0.8654019832611084</td><td>0.01880040019750595</td><td>0.021642500534653664</td><td>27.51580047607422</td><td>0.45097699761390686</td><td>0.024797800928354263</td><td>0.014752100221812725</td><td>nan</td><td>nan</td><td>-0.01803950034081936</td><td>0.14826600253582</td><td>27.11319923400879</td><td>0.5287179946899414</td><td>0.021216999739408493</td><td>0.03574170172214508</td><td>nan</td><td>nan</td><td>nan</td><td>nan</td><td>31.638999938964844</td><td>38.73860168457031</td><td>-0.002777819987386465</td><td>0.03039270080626011</td><td>27.128999710083008</td><td>0.8493750095367432</td><td>0.042619798332452774</td><td>0.03905389830470085</td><td>25.626100540161133</td><td>0.2046239972114563</td><td>0.07468000054359436</td><td>0.05422620102763176</td><td>nan</td><td>nan</td><td>-0.04015880078077316</td><td>0.04943649843335152</td><td>nan</td><td>nan</td><td>-0.032903898507356644</td><td>0.06257860362529755</td><td>nan</td><td>nan</td><td>-0.017604200169444084</td><td>0.033940400928258896</td><td>nan</td><td>nan</td><td>nan</td><td>nan</td><td>nan</td><td>nan</td><td>-0.03568980097770691</td><td>0.04103970155119896</td><td>32.57509994506836</td><td>129.8509979248047</td><td>0.032395098358392715</td><td>0.054776500910520554</td><td>nan</td><td>nan</td><td>-0.03633879870176315</td><td>0.04105839878320694</td><td>nan</td><td>nan</td><td>-0.023999100551009178</td><td>0.06253539770841599</td><td>nan</td><td>nan</td><td>0.03730649873614311</td><td>0.07784759998321533</td><td>nan</td><td>nan</td><td>-0.007673860061913729</td><td>0.06440850347280502</td><td>25.470399856567383</td><td>0.9133350253105164</td><td>0.09047289937734604</td><td>0.2874850034713745</td><td>nan</td><td>nan</td><td>nan</td><td>nan</td><td>nan</td><td>nan</td><td>0.030214399099349976</td><td>0.12773899734020233</td><td>0.18637099862098694</td><td>0.09500239789485931</td><td>25.72410011291504</td><td>0.5534539818763733</td><td>nan</td><td>nan</td><td>nan</td><td>nan</td><td>0.0</td><td>2.30679988861084</td><td>nan</td><td>nan</td><td>0.0</td><td>2.6868700981140137</td><td>nan</td><td>nan</td><td>nan</td><td>nan</td><td>False</td><td>nan</td><td>-1567.791259765625</td><td>nan</td><td>nan</td><td>False</td><td>27.678970336914062</td><td>1.5779427289962769</td><td>nan</td><td>nan</td><td>False</td><td>nan</td><td>nan</td><td>0.10708270967006683</td><td>0.03285663574934006</td><td>False</td><td>26.61927032470703</td><td>0.9271118640899658</td><td>0.029569195583462715</td><td>0.010329809039831161</td><td>False</td><td>nan</td><td>-10.980091094970703</td><td>0.006687752436846495</td><td>0.008703891187906265</td><td>False</td><td>29.337158203125</td><td>1.5594282150268555</td><td>0.03585251420736313</td><td>0.015544123947620392</td><td>False</td><td>28.572845458984375</td><td>1.4727451801300049</td><td>0.03008570522069931</td><td>0.02398025244474411</td><td>False</td><td>28.214584350585938</td><td>1.249869465827942</td><td>0.03578322380781174</td><td>0.01486310362815857</td><td>False</td><td>27.913970947265625</td><td>0.6458995938301086</td><td>nan</td><td>nan</td><td>False</td><td>nan</td><td>-8.923625946044922</td><td>0.05184659734368324</td><td>0.025247598066926003</td><td>False</td><td>28.083290100097656</td><td>1.829007863998413</td><td>nan</td><td>nan</td><td>False</td><td>nan</td><td>nan</td><td>0.0008024165290407836</td><td>0.028629876673221588</td><td>False</td><td>nan</td><td>-11.879262924194336</td><td>0.05109751597046852</td><td>0.039973750710487366</td><td>False</td><td>27.325973510742188</td><td>0.9948950409889221</td><td>0.20396696031093597</td><td>0.0384407714009285</td><td>False</td><td>26.716995239257812</td><td>0.788368284702301</td><td>nan</td><td>nan</td><td>False</td><td>nan</td><td>-1.3365685939788818</td><td>nan</td><td>nan</td><td>False</td><td>nan</td><td>-2.064918041229248</td><td>nan</td><td>nan</td><td>False</td><td>nan</td><td>-2.093268871307373</td><td>nan</td><td>nan</td><td>False</td><td>nan</td><td>nan</td><td>nan</td><td>nan</td><td>False</td><td>nan</td><td>-1.248487949371338</td><td>0.0003388127079233527</td><td>0.0405210442841053</td><td>False</td><td>27.623802185058594</td><td>1.835858702659607</td><td>nan</td><td>nan</td><td>False</td><td>nan</td><td>-1.2267491817474365</td><td>nan</td><td>nan</td><td>False</td><td>nan</td><td>-2.8291451930999756</td><td>nan</td><td>nan</td><td>False</td><td>27.470542907714844</td><td>2.2656095027923584</td><td>nan</td><td>nan</td><td>False</td><td>nan</td><td>-9.112837791442871</td><td>0.2354181855916977</td><td>0.19803674519062042</td><td>False</td><td>26.508705139160156</td><td>3.450014591217041</td><td>nan</td><td>nan</td><td>False</td><td>nan</td><td>nan</td><td>nan</td><td>nan</td><td>False</td><td>27.69947052001953</td><td>4.590223789215088</td><td>False</td><td>False</td><td>False</td><td>False</td><td>False</td><td>0</td><td>False</td><td>-1</td><td>nan</td><td>nan</td><td>nan</td><td>nan</td><td>nan</td><td>nan</td><td>nan</td><td>nan</td><td>nan</td><td>nan</td><td>nan</td><td>nan</td><td>nan</td><td>nan</td><td>nan</td><td>nan</td><td>nan</td><td>nan</td><td>nan</td><td>False</td><td>nan</td><td>nan</td><td>nan</td><td>nan</td><td>False</td><td>nan</td><td>nan</td><td>False</td><td>nan</td><td>nan</td><td>False</td><td>nan</td><td>nan</td><td>False</td><td>False</td><td>0</td><td>0.0</td><td>nan</td><td>nan</td><td>nan</td><td>nan</td><td>nan</td><td>nan</td><td>nan</td><td>nan</td><td>nan</td><td>nan</td><td>nan</td><td>nan</td><td>nan</td><td>nan</td><td>nan</td><td>nan</td><td>nan</td><td>nan</td><td>nan</td><td>nan</td><td>nan</td><td>nan</td><td>nan</td><td>False</td><td>nan</td><td>nan</td><td>False</td><td>nan</td><td>nan</td><td>False</td><td>nan</td><td>nan</td><td>False</td><td>nan</td><td>nan</td><td>False</td><td>nan</td><td>nan</td><td>nan</td><td>nan</td><td>nan</td><td>nan</td><td>nan</td><td>nan</td><td>nan</td><td>nan</td><td>False</td><td>0</td><td>-1</td><td>nan</td><td>nan</td><td>nan</td><td>nan</td><td>nan</td><td>nan</td><td>nan</td><td>nan</td><td>nan</td><td>nan</td><td>nan</td><td>nan</td><td>nan</td><td>nan</td><td>False</td><td>nan</td><td>nan</td><td>False</td><td>nan</td><td>nan</td><td>False</td><td>nan</td><td>nan</td><td>nan</td><td>nan</td><td>nan</td><td>nan</td><td>nan</td><td>False</td><td>0</td><td>-1</td><td>nan</td><td>nan</td><td>nan</td><td>nan</td><td>nan</td><td>nan</td><td>nan</td><td>nan</td><td>nan</td><td>nan</td><td>nan</td><td>nan</td><td>nan</td><td>nan</td><td>nan</td><td>nan</td><td>nan</td><td>nan</td><td>nan</td><td>nan</td><td>nan</td><td>nan</td><td>nan</td><td>nan</td><td>nan</td><td>nan</td><td>nan</td><td>nan</td><td>nan</td><td>False</td><td>nan</td><td>nan</td><td>nan</td><td>nan</td><td>False</td><td>nan</td><td>nan</td><td>nan</td><td>nan</td><td>False</td><td>nan</td><td>nan</td><td>nan</td><td>nan</td><td>False</td><td>nan</td><td>nan</td><td>nan</td><td>nan</td><td>False</td><td>nan</td><td>nan</td><td>nan</td><td>nan</td><td>False</td><td>False</td><td>0</td><td>-1</td><td>nan</td><td>nan</td><td>nan</td><td>nan</td><td>nan</td><td>nan</td><td>nan</td><td>nan</td><td>nan</td><td>nan</td><td>nan</td><td>nan</td><td>nan</td><td>nan</td><td>nan</td><td>nan</td><td>nan</td><td>nan</td><td>nan</td><td>nan</td><td>nan</td><td>nan</td><td>nan</td><td>nan</td><td>nan</td><td>nan</td><td>nan</td><td>nan</td><td>nan</td><td>False</td><td>nan</td><td>nan</td><td>nan</td><td>nan</td><td>False</td><td>nan</td><td>nan</td><td>nan</td><td>nan</td><td>False</td><td>nan</td><td>nan</td><td>nan</td><td>nan</td><td>False</td><td>nan</td><td>nan</td><td>nan</td><td>nan</td><td>False</td><td>nan</td><td>nan</td><td>nan</td><td>nan</td><td>False</td><td>False</td><td>0</td><td>0.0</td><td>nan</td><td>nan</td><td>nan</td><td>nan</td><td>nan</td><td>nan</td><td>nan</td><td>nan</td><td>nan</td><td>nan</td><td>nan</td><td>nan</td><td>nan</td><td>nan</td><td>nan</td><td>nan</td><td>nan</td><td>nan</td><td>nan</td><td>False</td><td>nan</td><td>nan</td><td>False</td><td>nan</td><td>nan</td><td>False</td><td>nan</td><td>nan</td><td>False</td><td>nan</td><td>nan</td><td>nan</td><td>nan</td><td>nan</td><td>nan</td><td>nan</td><td>nan</td><td>False</td><td>0</td><td>-1</td><td>nan</td><td>nan</td><td>nan</td><td>nan</td><td>nan</td><td>nan</td><td>nan</td><td>nan</td><td>nan</td><td>nan</td><td>nan</td><td>nan</td><td>nan</td><td>nan</td><td>nan</td><td>nan</td><td>nan</td><td>nan</td><td>nan</td><td>False</td><td>nan</td><td>nan</td><td>nan</td><td>nan</td><td>False</td><td>nan</td><td>nan</td><td>nan</td><td>nan</td><td>nan</td><td>nan</td><td>False</td><td>nan</td><td>nan</td><td>nan</td><td>nan</td><td>False</td><td>False</td><td>0</td><td>-1</td><td>nan</td><td>nan</td><td>nan</td><td>nan</td><td>nan</td><td>nan</td><td>nan</td><td>nan</td><td>nan</td><td>nan</td><td>nan</td><td>nan</td><td>nan</td><td>nan</td><td>nan</td><td>nan</td><td>nan</td><td>nan</td><td>nan</td><td>nan</td><td>nan</td><td>nan</td><td>nan</td><td>nan</td><td>nan</td><td>nan</td><td>nan</td><td>nan</td><td>nan</td><td>nan</td><td>nan</td><td>nan</td><td>nan</td><td>nan</td><td>False</td><td>nan</td><td>nan</td><td>nan</td><td>nan</td><td>False</td><td>nan</td><td>nan</td><td>nan</td><td>nan</td><td>False</td><td>nan</td><td>nan</td><td>nan</td><td>nan</td><td>False</td><td>nan</td><td>nan</td><td>nan</td><td>nan</td><td>False</td><td>nan</td><td>nan</td><td>nan</td><td>nan</td><td>False</td><td>nan</td><td>nan</td><td>nan</td><td>nan</td><td>False</td><td>nan</td><td>nan</td><td>nan</td><td>nan</td><td>False</td><td>nan</td><td>nan</td><td>False</td><td>0</td><td>False</td><td>-1</td><td>nan</td><td>nan</td><td>nan</td><td>nan</td><td>nan</td><td>nan</td><td>nan</td><td>nan</td><td>nan</td><td>nan</td><td>nan</td><td>nan</td><td>nan</td><td>nan</td><td>nan</td><td>nan</td><td>nan</td><td>nan</td><td>nan</td><td>nan</td><td>nan</td><td>nan</td><td>nan</td><td>nan</td><td>False</td><td>nan</td><td>nan</td><td>nan</td><td>nan</td><td>False</td><td>nan</td><td>nan</td><td>nan</td><td>nan</td><td>False</td><td>nan</td><td>nan</td><td>nan</td><td>nan</td><td>False</td><td>nan</td><td>nan</td><td>nan</td><td>nan</td><td>False</td><td>False</td><td>0</td></tr>\n",
       "<tr><td>1</td><td>HELP_J095802.73+023603.69</td><td>COSMOS2015_J095802.73+023603.69</td><td>149.511346949376</td><td>2.60102176020672</td><td>1.0</td><td>26.0226993560791</td><td>0.8689280152320862</td><td>-0.00010934499732684344</td><td>0.09303080290555954</td><td>28.231000900268555</td><td>2.4898500442504883</td><td>-0.033670101314783096</td><td>0.03489290177822113</td><td>nan</td><td>nan</td><td>nan</td><td>nan</td><td>nan</td><td>nan</td><td>nan</td><td>nan</td><td>nan</td><td>nan</td><td>-0.008407889865338802</td><td>0.023738399147987366</td><td>30.48430061340332</td><td>3.69773006439209</td><td>0.002372609917074442</td><td>0.01010040007531643</td><td>nan</td><td>nan</td><td>-0.00711438013240695</td><td>0.018665099516510963</td><td>nan</td><td>nan</td><td>nan</td><td>nan</td><td>29.280000686645508</td><td>2.028170108795166</td><td>0.007434390019625425</td><td>0.015311299823224545</td><td>nan</td><td>nan</td><td>-0.06911160051822662</td><td>0.1535560041666031</td><td>nan</td><td>nan</td><td>-0.019039800390601158</td><td>0.03563160076737404</td><td>nan</td><td>nan</td><td>-0.027690300717949867</td><td>0.033716801553964615</td><td>nan</td><td>nan</td><td>nan</td><td>nan</td><td>27.179899215698242</td><td>0.6364240050315857</td><td>0.029297400265932083</td><td>0.03288960084319115</td><td>27.926300048828125</td><td>1.371749997138977</td><td>0.0081985704600811</td><td>0.05163799971342087</td><td>nan</td><td>nan</td><td>nan</td><td>nan</td><td>nan</td><td>nan</td><td>-0.05232210084795952</td><td>0.0608161985874176</td><td>nan</td><td>nan</td><td>nan</td><td>nan</td><td>nan</td><td>nan</td><td>nan</td><td>nan</td><td>27.350500106811523</td><td>0.8683090209960938</td><td>0.03527329862117767</td><td>0.04411020129919052</td><td>nan</td><td>nan</td><td>-0.017396200448274612</td><td>0.053029801696538925</td><td>26.625200271606445</td><td>0.4375370144844055</td><td>0.061948198825120926</td><td>0.045974001288414</td><td>26.541799545288086</td><td>0.47553199529647827</td><td>0.06188200041651726</td><td>0.07123749703168869</td><td>nan</td><td>nan</td><td>-0.02168460004031658</td><td>0.07832779735326767</td><td>nan</td><td>nan</td><td>-0.015757499262690544</td><td>0.06443800032138824</td><td>24.998199462890625</td><td>0.49348899722099304</td><td>0.35842999815940857</td><td>0.282492995262146</td><td>nan</td><td>nan</td><td>-0.12194900214672089</td><td>0.3480919897556305</td><td>nan</td><td>nan</td><td>-0.061477601528167725</td><td>0.179080992937088</td><td>0.05679529905319214</td><td>0.04192240163683891</td><td>27.01420021057129</td><td>0.8014150261878967</td><td>nan</td><td>nan</td><td>nan</td><td>nan</td><td>0.0</td><td>2.706209897994995</td><td>nan</td><td>nan</td><td>0.0</td><td>3.593820095062256</td><td>nan</td><td>nan</td><td>0.14155326783657074</td><td>0.1132868230342865</td><td>False</td><td>nan</td><td>-923.7451171875</td><td>0.0185182336717844</td><td>0.042466696351766586</td><td>False</td><td>nan</td><td>-1.1251670122146606</td><td>nan</td><td>nan</td><td>False</td><td>nan</td><td>nan</td><td>nan</td><td>nan</td><td>False</td><td>nan</td><td>nan</td><td>nan</td><td>nan</td><td>False</td><td>nan</td><td>-3.065411329269409</td><td>0.0023242325987666845</td><td>0.007915721274912357</td><td>False</td><td>30.461936950683594</td><td>4.622069835662842</td><td>nan</td><td>nan</td><td>False</td><td>nan</td><td>-2.848508596420288</td><td>nan</td><td>nan</td><td>False</td><td>nan</td><td>nan</td><td>0.007046923972666264</td><td>0.013163750059902668</td><td>False</td><td>29.221885681152344</td><td>2.2360990047454834</td><td>nan</td><td>nan</td><td>False</td><td>nan</td><td>-2.412349224090576</td><td>nan</td><td>nan</td><td>False</td><td>nan</td><td>-2.0318763256073</td><td>nan</td><td>nan</td><td>False</td><td>nan</td><td>-1.3220350742340088</td><td>nan</td><td>nan</td><td>False</td><td>nan</td><td>nan</td><td>0.048757366836071014</td><td>0.028580019250512123</td><td>False</td><td>27.732925415039062</td><td>1.2188600301742554</td><td>0.024517694488167763</td><td>0.030976351350545883</td><td>False</td><td>29.11565399169922</td><td>6.838416576385498</td><td>nan</td><td>nan</td><td>False</td><td>nan</td><td>nan</td><td>nan</td><td>nan</td><td>False</td><td>nan</td><td>-1.2619972229003906</td><td>nan</td><td>nan</td><td>False</td><td>nan</td><td>nan</td><td>nan</td><td>nan</td><td>False</td><td>nan</td><td>nan</td><td>0.04166770726442337</td><td>0.03332342207431793</td><td>False</td><td>27.53137969970703</td><td>1.3577420711517334</td><td>nan</td><td>nan</td><td>False</td><td>nan</td><td>-3.3097097873687744</td><td>0.08126802742481232</td><td>0.03274991735816002</td><td>False</td><td>26.91992950439453</td><td>0.8057640790939331</td><td>0.0877566859126091</td><td>0.03843577951192856</td><td>False</td><td>26.92108917236328</td><td>1.2498807907104492</td><td>nan</td><td>nan</td><td>False</td><td>nan</td><td>-3.92182993888855</td><td>nan</td><td>nan</td><td>False</td><td>nan</td><td>-4.439960479736328</td><td>0.3636804521083832</td><td>0.16530010104179382</td><td>False</td><td>25.01398468017578</td><td>0.8557121157646179</td><td>nan</td><td>nan</td><td>False</td><td>nan</td><td>-3.0991320610046387</td><td>nan</td><td>nan</td><td>False</td><td>nan</td><td>-3.162692070007324</td><td>False</td><td>False</td><td>False</td><td>False</td><td>False</td><td>0</td><td>False</td><td>-1</td><td>nan</td><td>nan</td><td>nan</td><td>nan</td><td>nan</td><td>nan</td><td>nan</td><td>nan</td><td>nan</td><td>nan</td><td>nan</td><td>nan</td><td>nan</td><td>nan</td><td>nan</td><td>nan</td><td>nan</td><td>nan</td><td>nan</td><td>False</td><td>nan</td><td>nan</td><td>nan</td><td>nan</td><td>False</td><td>nan</td><td>nan</td><td>False</td><td>nan</td><td>nan</td><td>False</td><td>nan</td><td>nan</td><td>False</td><td>False</td><td>0</td><td>0.0</td><td>nan</td><td>nan</td><td>nan</td><td>nan</td><td>nan</td><td>nan</td><td>nan</td><td>nan</td><td>nan</td><td>nan</td><td>nan</td><td>nan</td><td>nan</td><td>nan</td><td>nan</td><td>nan</td><td>nan</td><td>nan</td><td>nan</td><td>nan</td><td>nan</td><td>nan</td><td>nan</td><td>False</td><td>nan</td><td>nan</td><td>False</td><td>nan</td><td>nan</td><td>False</td><td>nan</td><td>nan</td><td>False</td><td>nan</td><td>nan</td><td>False</td><td>nan</td><td>nan</td><td>nan</td><td>nan</td><td>nan</td><td>nan</td><td>nan</td><td>nan</td><td>nan</td><td>nan</td><td>False</td><td>0</td><td>-1</td><td>nan</td><td>nan</td><td>nan</td><td>nan</td><td>nan</td><td>nan</td><td>nan</td><td>nan</td><td>nan</td><td>nan</td><td>nan</td><td>nan</td><td>nan</td><td>nan</td><td>False</td><td>nan</td><td>nan</td><td>False</td><td>nan</td><td>nan</td><td>False</td><td>nan</td><td>nan</td><td>nan</td><td>nan</td><td>nan</td><td>nan</td><td>nan</td><td>False</td><td>0</td><td>-1</td><td>nan</td><td>nan</td><td>nan</td><td>nan</td><td>nan</td><td>nan</td><td>nan</td><td>nan</td><td>nan</td><td>nan</td><td>nan</td><td>nan</td><td>nan</td><td>nan</td><td>nan</td><td>nan</td><td>nan</td><td>nan</td><td>nan</td><td>nan</td><td>nan</td><td>nan</td><td>nan</td><td>nan</td><td>nan</td><td>nan</td><td>nan</td><td>nan</td><td>nan</td><td>False</td><td>nan</td><td>nan</td><td>nan</td><td>nan</td><td>False</td><td>nan</td><td>nan</td><td>nan</td><td>nan</td><td>False</td><td>nan</td><td>nan</td><td>nan</td><td>nan</td><td>False</td><td>nan</td><td>nan</td><td>nan</td><td>nan</td><td>False</td><td>nan</td><td>nan</td><td>nan</td><td>nan</td><td>False</td><td>False</td><td>0</td><td>-1</td><td>nan</td><td>nan</td><td>nan</td><td>nan</td><td>nan</td><td>nan</td><td>nan</td><td>nan</td><td>nan</td><td>nan</td><td>nan</td><td>nan</td><td>nan</td><td>nan</td><td>nan</td><td>nan</td><td>nan</td><td>nan</td><td>nan</td><td>nan</td><td>nan</td><td>nan</td><td>nan</td><td>nan</td><td>nan</td><td>nan</td><td>nan</td><td>nan</td><td>nan</td><td>False</td><td>nan</td><td>nan</td><td>nan</td><td>nan</td><td>False</td><td>nan</td><td>nan</td><td>nan</td><td>nan</td><td>False</td><td>nan</td><td>nan</td><td>nan</td><td>nan</td><td>False</td><td>nan</td><td>nan</td><td>nan</td><td>nan</td><td>False</td><td>nan</td><td>nan</td><td>nan</td><td>nan</td><td>False</td><td>False</td><td>0</td><td>0.0</td><td>nan</td><td>nan</td><td>nan</td><td>nan</td><td>nan</td><td>nan</td><td>nan</td><td>nan</td><td>nan</td><td>nan</td><td>nan</td><td>nan</td><td>nan</td><td>nan</td><td>nan</td><td>nan</td><td>nan</td><td>nan</td><td>nan</td><td>False</td><td>nan</td><td>nan</td><td>False</td><td>nan</td><td>nan</td><td>False</td><td>nan</td><td>nan</td><td>False</td><td>nan</td><td>nan</td><td>nan</td><td>nan</td><td>nan</td><td>nan</td><td>nan</td><td>nan</td><td>False</td><td>0</td><td>-1</td><td>nan</td><td>nan</td><td>nan</td><td>nan</td><td>nan</td><td>nan</td><td>nan</td><td>nan</td><td>nan</td><td>nan</td><td>nan</td><td>nan</td><td>nan</td><td>nan</td><td>nan</td><td>nan</td><td>nan</td><td>nan</td><td>nan</td><td>False</td><td>nan</td><td>nan</td><td>nan</td><td>nan</td><td>False</td><td>nan</td><td>nan</td><td>nan</td><td>nan</td><td>nan</td><td>nan</td><td>False</td><td>nan</td><td>nan</td><td>nan</td><td>nan</td><td>False</td><td>False</td><td>0</td><td>-1</td><td>nan</td><td>nan</td><td>nan</td><td>nan</td><td>nan</td><td>nan</td><td>nan</td><td>nan</td><td>nan</td><td>nan</td><td>nan</td><td>nan</td><td>nan</td><td>nan</td><td>nan</td><td>nan</td><td>nan</td><td>nan</td><td>nan</td><td>nan</td><td>nan</td><td>nan</td><td>nan</td><td>nan</td><td>nan</td><td>nan</td><td>nan</td><td>nan</td><td>nan</td><td>nan</td><td>nan</td><td>nan</td><td>nan</td><td>nan</td><td>False</td><td>nan</td><td>nan</td><td>nan</td><td>nan</td><td>False</td><td>nan</td><td>nan</td><td>nan</td><td>nan</td><td>False</td><td>nan</td><td>nan</td><td>nan</td><td>nan</td><td>False</td><td>nan</td><td>nan</td><td>nan</td><td>nan</td><td>False</td><td>nan</td><td>nan</td><td>nan</td><td>nan</td><td>False</td><td>nan</td><td>nan</td><td>nan</td><td>nan</td><td>False</td><td>nan</td><td>nan</td><td>nan</td><td>nan</td><td>False</td><td>nan</td><td>nan</td><td>False</td><td>0</td><td>False</td><td>-1</td><td>nan</td><td>nan</td><td>nan</td><td>nan</td><td>nan</td><td>nan</td><td>nan</td><td>nan</td><td>nan</td><td>nan</td><td>nan</td><td>nan</td><td>nan</td><td>nan</td><td>nan</td><td>nan</td><td>nan</td><td>nan</td><td>nan</td><td>nan</td><td>nan</td><td>nan</td><td>nan</td><td>nan</td><td>False</td><td>nan</td><td>nan</td><td>nan</td><td>nan</td><td>False</td><td>nan</td><td>nan</td><td>nan</td><td>nan</td><td>False</td><td>nan</td><td>nan</td><td>nan</td><td>nan</td><td>False</td><td>nan</td><td>nan</td><td>nan</td><td>nan</td><td>False</td><td>False</td><td>0</td></tr>\n",
       "<tr><td>2</td><td>HELP_J095901.32+013751.84</td><td>COSMOS2015_J095901.32+013751.84</td><td>149.755485395101</td><td>1.6310639914812002</td><td>1.0</td><td>nan</td><td>nan</td><td>-6.758159724995494e-05</td><td>0.05155399814248085</td><td>24.692399978637695</td><td>0.1327420026063919</td><td>0.1425189971923828</td><td>0.060148000717163086</td><td>nan</td><td>nan</td><td>0.06490419805049896</td><td>0.13322700560092926</td><td>25.940799713134766</td><td>0.7053369879722595</td><td>0.18414899706840515</td><td>0.09476310014724731</td><td>nan</td><td>nan</td><td>nan</td><td>nan</td><td>27.590200424194336</td><td>0.5079659819602966</td><td>0.016207899898290634</td><td>0.00927828997373581</td><td>30.997800827026367</td><td>21.499399185180664</td><td>-0.012470300309360027</td><td>0.01731259934604168</td><td>nan</td><td>nan</td><td>0.04085579887032509</td><td>0.021752899512648582</td><td>nan</td><td>nan</td><td>-0.006400519981980324</td><td>0.013447700068354607</td><td>nan</td><td>nan</td><td>0.009490719996392727</td><td>0.1475369930267334</td><td>nan</td><td>nan</td><td>-0.03490870073437691</td><td>0.03556070104241371</td><td>26.94179916381836</td><td>0.9450860023498535</td><td>0.013661700300872326</td><td>0.03253659978508949</td><td>nan</td><td>nan</td><td>0.00808280985802412</td><td>0.02702159993350506</td><td>nan</td><td>nan</td><td>nan</td><td>nan</td><td>nan</td><td>nan</td><td>0.010754699818789959</td><td>0.05200650170445442</td><td>nan</td><td>nan</td><td>0.03724319860339165</td><td>0.044126201421022415</td><td>nan</td><td>nan</td><td>-0.02793310023844242</td><td>0.05926689878106117</td><td>nan</td><td>nan</td><td>0.011077700182795525</td><td>0.03365220129489899</td><td>nan</td><td>nan</td><td>nan</td><td>nan</td><td>26.010499954223633</td><td>0.48765799403190613</td><td>-0.024452200159430504</td><td>0.037741899490356445</td><td>nan</td><td>nan</td><td>nan</td><td>nan</td><td>26.359800338745117</td><td>0.6471790075302124</td><td>0.08777429908514023</td><td>0.03883260115981102</td><td>nan</td><td>nan</td><td>0.0013823099434375763</td><td>0.0646786019206047</td><td>25.993200302124023</td><td>1.1401100158691406</td><td>-0.03528809919953346</td><td>0.0687372013926506</td><td>nan</td><td>nan</td><td>-0.04942389950156212</td><td>0.06503500044345856</td><td>23.792200088500977</td><td>0.472476989030838</td><td>0.06117840111255646</td><td>0.35899001359939575</td><td>nan</td><td>nan</td><td>nan</td><td>nan</td><td>27.550100326538086</td><td>7.799170017242432</td><td>0.06922180205583572</td><td>0.1952970027923584</td><td>0.5253660082817078</td><td>0.06504180282354355</td><td>24.598800659179688</td><td>0.13441699743270874</td><td>0.7699800133705139</td><td>0.07242629677057266</td><td>24.183799743652344</td><td>0.10212700068950653</td><td>0.0</td><td>2.0552799701690674</td><td>nan</td><td>nan</td><td>0.0</td><td>3.1570699214935303</td><td>nan</td><td>nan</td><td>nan</td><td>nan</td><td>False</td><td>nan</td><td>-828.2437744140625</td><td>0.48199182748794556</td><td>0.05892827361822128</td><td>False</td><td>26.01531982421875</td><td>0.45821863412857056</td><td>nan</td><td>nan</td><td>False</td><td>26.86931610107422</td><td>2.2286598682403564</td><td>0.1526441127061844</td><td>0.09916362166404724</td><td>False</td><td>25.737075805664062</td><td>0.5587199926376343</td><td>nan</td><td>nan</td><td>False</td><td>nan</td><td>nan</td><td>0.03341331332921982</td><td>0.015632551163434982</td><td>False</td><td>28.375686645507812</td><td>0.6215348839759827</td><td>0.001448368770070374</td><td>0.02868013270199299</td><td>False</td><td>nan</td><td>-1.5073344707489014</td><td>nan</td><td>nan</td><td>False</td><td>27.371864318847656</td><td>0.5780797600746155</td><td>nan</td><td>nan</td><td>False</td><td>nan</td><td>-2.2811667919158936</td><td>nan</td><td>nan</td><td>False</td><td>28.956756591796875</td><td>16.878196716308594</td><td>nan</td><td>nan</td><td>False</td><td>nan</td><td>-1.1060147285461426</td><td>0.06071281433105469</td><td>0.05284785479307175</td><td>False</td><td>28.561241149902344</td><td>2.5857808589935303</td><td>nan</td><td>nan</td><td>False</td><td>29.13109588623047</td><td>3.629718780517578</td><td>nan</td><td>nan</td><td>False</td><td>nan</td><td>nan</td><td>nan</td><td>nan</td><td>False</td><td>28.821006774902344</td><td>5.2502946853637695</td><td>nan</td><td>nan</td><td>False</td><td>27.472381591796875</td><td>1.286393642425537</td><td>nan</td><td>nan</td><td>False</td><td>nan</td><td>-2.303654670715332</td><td>nan</td><td>nan</td><td>False</td><td>28.78887939453125</td><td>3.2982850074768066</td><td>nan</td><td>nan</td><td>False</td><td>nan</td><td>nan</td><td>0.14315280318260193</td><td>0.06429702788591385</td><td>False</td><td>nan</td><td>-1.6758304834365845</td><td>nan</td><td>nan</td><td>False</td><td>nan</td><td>nan</td><td>0.10377193242311478</td><td>0.0618557445704937</td><td>False</td><td>26.541587829589844</td><td>0.4803451597690582</td><td>nan</td><td>nan</td><td>False</td><td>31.048484802246094</td><td>50.80184555053711</td><td>0.14545200765132904</td><td>0.15273626148700714</td><td>False</td><td>nan</td><td>-2.1148903369903564</td><td>nan</td><td>nan</td><td>False</td><td>nan</td><td>-1.428678274154663</td><td>1.1043834686279297</td><td>0.48059165477752686</td><td>False</td><td>26.933509826660156</td><td>6.371013641357422</td><td>nan</td><td>nan</td><td>False</td><td>nan</td><td>nan</td><td>0.03467048332095146</td><td>0.24904853105545044</td><td>False</td><td>26.799392700195312</td><td>3.06321120262146</td><td>False</td><td>False</td><td>False</td><td>False</td><td>False</td><td>0</td><td>False</td><td>-1</td><td>nan</td><td>nan</td><td>nan</td><td>nan</td><td>nan</td><td>nan</td><td>nan</td><td>nan</td><td>nan</td><td>nan</td><td>nan</td><td>nan</td><td>nan</td><td>nan</td><td>nan</td><td>nan</td><td>nan</td><td>nan</td><td>nan</td><td>False</td><td>nan</td><td>nan</td><td>nan</td><td>nan</td><td>False</td><td>nan</td><td>nan</td><td>False</td><td>nan</td><td>nan</td><td>False</td><td>nan</td><td>nan</td><td>False</td><td>False</td><td>0</td><td>0.0</td><td>nan</td><td>nan</td><td>nan</td><td>nan</td><td>nan</td><td>nan</td><td>nan</td><td>nan</td><td>nan</td><td>nan</td><td>nan</td><td>nan</td><td>nan</td><td>nan</td><td>nan</td><td>nan</td><td>nan</td><td>nan</td><td>nan</td><td>nan</td><td>nan</td><td>nan</td><td>nan</td><td>False</td><td>nan</td><td>nan</td><td>False</td><td>nan</td><td>nan</td><td>False</td><td>nan</td><td>nan</td><td>False</td><td>nan</td><td>nan</td><td>False</td><td>nan</td><td>nan</td><td>nan</td><td>nan</td><td>nan</td><td>nan</td><td>nan</td><td>nan</td><td>nan</td><td>nan</td><td>False</td><td>0</td><td>-1</td><td>nan</td><td>nan</td><td>nan</td><td>nan</td><td>nan</td><td>nan</td><td>nan</td><td>nan</td><td>nan</td><td>nan</td><td>nan</td><td>nan</td><td>nan</td><td>nan</td><td>False</td><td>nan</td><td>nan</td><td>False</td><td>nan</td><td>nan</td><td>False</td><td>nan</td><td>nan</td><td>nan</td><td>nan</td><td>nan</td><td>nan</td><td>nan</td><td>False</td><td>0</td><td>-1</td><td>nan</td><td>nan</td><td>nan</td><td>nan</td><td>nan</td><td>nan</td><td>nan</td><td>nan</td><td>nan</td><td>nan</td><td>nan</td><td>nan</td><td>nan</td><td>nan</td><td>nan</td><td>nan</td><td>nan</td><td>nan</td><td>nan</td><td>nan</td><td>nan</td><td>nan</td><td>nan</td><td>nan</td><td>nan</td><td>nan</td><td>nan</td><td>nan</td><td>nan</td><td>False</td><td>nan</td><td>nan</td><td>nan</td><td>nan</td><td>False</td><td>nan</td><td>nan</td><td>nan</td><td>nan</td><td>False</td><td>nan</td><td>nan</td><td>nan</td><td>nan</td><td>False</td><td>nan</td><td>nan</td><td>nan</td><td>nan</td><td>False</td><td>nan</td><td>nan</td><td>nan</td><td>nan</td><td>False</td><td>False</td><td>0</td><td>-1</td><td>nan</td><td>nan</td><td>nan</td><td>nan</td><td>nan</td><td>nan</td><td>nan</td><td>nan</td><td>nan</td><td>nan</td><td>nan</td><td>nan</td><td>nan</td><td>nan</td><td>nan</td><td>nan</td><td>nan</td><td>nan</td><td>nan</td><td>nan</td><td>nan</td><td>nan</td><td>nan</td><td>nan</td><td>nan</td><td>nan</td><td>nan</td><td>nan</td><td>nan</td><td>False</td><td>nan</td><td>nan</td><td>nan</td><td>nan</td><td>False</td><td>nan</td><td>nan</td><td>nan</td><td>nan</td><td>False</td><td>nan</td><td>nan</td><td>nan</td><td>nan</td><td>False</td><td>nan</td><td>nan</td><td>nan</td><td>nan</td><td>False</td><td>nan</td><td>nan</td><td>nan</td><td>nan</td><td>False</td><td>False</td><td>0</td><td>0.0</td><td>nan</td><td>nan</td><td>nan</td><td>nan</td><td>nan</td><td>nan</td><td>nan</td><td>nan</td><td>nan</td><td>nan</td><td>nan</td><td>nan</td><td>nan</td><td>nan</td><td>nan</td><td>nan</td><td>nan</td><td>nan</td><td>nan</td><td>False</td><td>nan</td><td>nan</td><td>False</td><td>nan</td><td>nan</td><td>False</td><td>nan</td><td>nan</td><td>False</td><td>nan</td><td>nan</td><td>nan</td><td>nan</td><td>nan</td><td>nan</td><td>nan</td><td>nan</td><td>False</td><td>0</td><td>-1</td><td>nan</td><td>nan</td><td>nan</td><td>nan</td><td>nan</td><td>nan</td><td>nan</td><td>nan</td><td>nan</td><td>nan</td><td>nan</td><td>nan</td><td>nan</td><td>nan</td><td>nan</td><td>nan</td><td>nan</td><td>nan</td><td>nan</td><td>False</td><td>nan</td><td>nan</td><td>nan</td><td>nan</td><td>False</td><td>nan</td><td>nan</td><td>nan</td><td>nan</td><td>nan</td><td>nan</td><td>False</td><td>nan</td><td>nan</td><td>nan</td><td>nan</td><td>False</td><td>False</td><td>0</td><td>-1</td><td>nan</td><td>nan</td><td>nan</td><td>nan</td><td>nan</td><td>nan</td><td>nan</td><td>nan</td><td>nan</td><td>nan</td><td>nan</td><td>nan</td><td>nan</td><td>nan</td><td>nan</td><td>nan</td><td>nan</td><td>nan</td><td>nan</td><td>nan</td><td>nan</td><td>nan</td><td>nan</td><td>nan</td><td>nan</td><td>nan</td><td>nan</td><td>nan</td><td>nan</td><td>nan</td><td>nan</td><td>nan</td><td>nan</td><td>nan</td><td>False</td><td>nan</td><td>nan</td><td>nan</td><td>nan</td><td>False</td><td>nan</td><td>nan</td><td>nan</td><td>nan</td><td>False</td><td>nan</td><td>nan</td><td>nan</td><td>nan</td><td>False</td><td>nan</td><td>nan</td><td>nan</td><td>nan</td><td>False</td><td>nan</td><td>nan</td><td>nan</td><td>nan</td><td>False</td><td>nan</td><td>nan</td><td>nan</td><td>nan</td><td>False</td><td>nan</td><td>nan</td><td>nan</td><td>nan</td><td>False</td><td>nan</td><td>nan</td><td>False</td><td>0</td><td>False</td><td>-1</td><td>nan</td><td>nan</td><td>nan</td><td>nan</td><td>nan</td><td>nan</td><td>nan</td><td>nan</td><td>nan</td><td>nan</td><td>nan</td><td>nan</td><td>nan</td><td>nan</td><td>nan</td><td>nan</td><td>nan</td><td>nan</td><td>nan</td><td>nan</td><td>nan</td><td>nan</td><td>nan</td><td>nan</td><td>False</td><td>nan</td><td>nan</td><td>nan</td><td>nan</td><td>False</td><td>nan</td><td>nan</td><td>nan</td><td>nan</td><td>False</td><td>nan</td><td>nan</td><td>nan</td><td>nan</td><td>False</td><td>nan</td><td>nan</td><td>nan</td><td>nan</td><td>False</td><td>False</td><td>0</td></tr>\n",
       "<tr><td>3</td><td>HELP_J095824.46+014508.83</td><td>COSMOS2015_J095824.46+014508.83</td><td>149.601900709348</td><td>1.75245014896677</td><td>1.0</td><td>27.62619972229004</td><td>4.17363977432251</td><td>-0.000207357996259816</td><td>0.09525839984416962</td><td>25.234100341796875</td><td>0.16923700273036957</td><td>0.18030600249767303</td><td>0.09816049784421921</td><td>25.900400161743164</td><td>0.5140020251274109</td><td>0.212567999958992</td><td>0.13914600014686584</td><td>28.43709945678711</td><td>3.981489896774292</td><td>-0.0126521997153759</td><td>0.043021101504564285</td><td>26.336200714111328</td><td>0.13953399658203125</td><td>0.08034829795360565</td><td>0.02400919981300831</td><td>26.257400512695312</td><td>0.09491019695997238</td><td>0.08275499939918518</td><td>0.012464799918234348</td><td>26.413700103759766</td><td>0.1781580001115799</td><td>0.07929970324039459</td><td>0.022014500573277473</td><td>27.014699935913086</td><td>0.5597950220108032</td><td>0.051746200770139694</td><td>0.02914400026202202</td><td>26.104000091552734</td><td>0.15081000328063965</td><td>0.10205800086259842</td><td>0.020201999694108963</td><td>27.897300720214844</td><td>2.3004400730133057</td><td>0.05719060078263283</td><td>0.14986099302768707</td><td>25.552900314331055</td><td>0.11762300133705139</td><td>0.18738600611686707</td><td>0.03684540092945099</td><td>26.739200592041016</td><td>0.3630940020084381</td><td>0.03693050146102905</td><td>0.03157680109143257</td><td>26.951200485229492</td><td>0.4254559874534607</td><td>0.05447009950876236</td><td>0.02731890045106411</td><td>26.305700302124023</td><td>0.32289400696754456</td><td>0.0883743017911911</td><td>0.034883901476860046</td><td>26.03619956970215</td><td>0.25768500566482544</td><td>0.11793199926614761</td><td>0.05172799900174141</td><td>26.24449920654297</td><td>0.3676219880580902</td><td>0.08679749816656113</td><td>0.04474179819226265</td><td>25.836299896240234</td><td>0.30692899227142334</td><td>0.1083969995379448</td><td>0.06508269906044006</td><td>26.631799697875977</td><td>0.34787601232528687</td><td>0.04856489971280098</td><td>0.03317689895629883</td><td>26.0664005279541</td><td>0.2245739996433258</td><td>0.10432899743318558</td><td>0.03778360038995743</td><td>26.467899322509766</td><td>0.3505220115184784</td><td>0.09926120191812515</td><td>0.03753510117530823</td><td>nan</td><td>nan</td><td>0.055400099605321884</td><td>0.04390709847211838</td><td>27.763700485229492</td><td>1.096909999847412</td><td>0.017430799081921577</td><td>0.037619899958372116</td><td>26.0846004486084</td><td>0.30439698696136475</td><td>0.15890200436115265</td><td>0.0658503994345665</td><td>27.036100387573242</td><td>1.379870057106018</td><td>-0.002285880036652088</td><td>0.06688810139894485</td><td>27.328699111938477</td><td>0.8559470176696777</td><td>-0.0024565299972891808</td><td>0.06475680321455002</td><td>26.96940040588379</td><td>3.401870012283325</td><td>-0.12172699719667435</td><td>0.29451099038124084</td><td>24.688499450683594</td><td>0.6014350056648254</td><td>0.20760700106620789</td><td>0.4273020029067993</td><td>nan</td><td>nan</td><td>-0.03176309913396835</td><td>0.1894250065088272</td><td>0.11259599775075912</td><td>0.015165000222623348</td><td>26.27120018005371</td><td>0.14623300731182098</td><td>0.14638100564479828</td><td>0.035701800137758255</td><td>25.986299514770508</td><td>0.2648079991340637</td><td>0.0</td><td>3.1667299270629883</td><td>nan</td><td>nan</td><td>0.0</td><td>3.084350109100342</td><td>nan</td><td>nan</td><td>0.032323624938726425</td><td>0.12425410002470016</td><td>False</td><td>nan</td><td>-498.7774658203125</td><td>0.2926574945449829</td><td>0.04561741277575493</td><td>False</td><td>25.759979248046875</td><td>0.5910862684249878</td><td>0.1584307998418808</td><td>0.0750032588839531</td><td>False</td><td>25.581260681152344</td><td>0.7107176780700684</td><td>0.015316521748900414</td><td>0.05616702511906624</td><td>False</td><td>nan</td><td>-3.6918139457702637</td><td>0.10605213046073914</td><td>0.013629348948597908</td><td>False</td><td>26.63756561279297</td><td>0.32443320751190186</td><td>0.11403541266918182</td><td>0.009968465194106102</td><td>False</td><td>26.60552215576172</td><td>0.16353674232959747</td><td>0.09874603897333145</td><td>0.016203196719288826</td><td>False</td><td>26.651824951171875</td><td>0.3014127016067505</td><td>0.05677012726664543</td><td>0.029270125553011894</td><td>False</td><td>27.11530303955078</td><td>0.6114979386329651</td><td>0.13134078681468964</td><td>0.01824338547885418</td><td>False</td><td>26.377883911132812</td><td>0.21491742134094238</td><td>0.02518138848245144</td><td>0.05335390940308571</td><td>False</td><td>27.006690979003906</td><td>2.845039129257202</td><td>0.21819235384464264</td><td>0.023637821897864342</td><td>False</td><td>25.718154907226562</td><td>0.21348650753498077</td><td>0.07316777110099792</td><td>0.024468906223773956</td><td>False</td><td>27.481536865234375</td><td>0.9283403158187866</td><td>0.06018933653831482</td><td>0.023585759103298187</td><td>False</td><td>27.059608459472656</td><td>0.5445394515991211</td><td>0.10907361656427383</td><td>0.03243809938430786</td><td>False</td><td>26.53418731689453</td><td>0.42857158184051514</td><td>0.1398041993379593</td><td>0.033180661499500275</td><td>False</td><td>26.220924377441406</td><td>0.47623172402381897</td><td>0.11539848148822784</td><td>0.03907304257154465</td><td>False</td><td>26.553733825683594</td><td>0.5596680641174316</td><td>0.1680660843849182</td><td>0.04751094430685043</td><td>False</td><td>26.312461853027344</td><td>0.6518874764442444</td><td>0.08077555894851685</td><td>0.02588094398379326</td><td>False</td><td>27.18419647216797</td><td>0.7417159080505371</td><td>0.1359688937664032</td><td>0.028123846277594566</td><td>False</td><td>26.353988647460938</td><td>0.39320823550224304</td><td>0.09393778443336487</td><td>0.03032713010907173</td><td>False</td><td>26.408050537109375</td><td>0.41056543588638306</td><td>nan</td><td>nan</td><td>False</td><td>27.041221618652344</td><td>0.8604952692985535</td><td>0.028478672727942467</td><td>0.028771759942173958</td><td>False</td><td>28.296707153320312</td><td>2.3432822227478027</td><td>0.13370870053768158</td><td>0.037486568093299866</td><td>False</td><td>25.897178649902344</td><td>0.44993871450424194</td><td>0.055662114173173904</td><td>0.07074138522148132</td><td>False</td><td>nan</td><td>-31.770183563232422</td><td>0.04251283034682274</td><td>0.03351525962352753</td><td>False</td><td>nan</td><td>-28.621183395385742</td><td>0.05918882042169571</td><td>0.1854526698589325</td><td>False</td><td>nan</td><td>-2.6268718242645264</td><td>0.48372653126716614</td><td>0.2679564952850342</td><td>False</td><td>25.606895446777344</td><td>2.234689712524414</td><td>nan</td><td>nan</td><td>False</td><td>nan</td><td>-6.474984645843506</td><td>False</td><td>False</td><td>False</td><td>False</td><td>False</td><td>0</td><td>False</td><td>-1</td><td>nan</td><td>nan</td><td>nan</td><td>nan</td><td>nan</td><td>nan</td><td>nan</td><td>nan</td><td>nan</td><td>nan</td><td>nan</td><td>nan</td><td>nan</td><td>nan</td><td>nan</td><td>nan</td><td>nan</td><td>nan</td><td>nan</td><td>False</td><td>nan</td><td>nan</td><td>nan</td><td>nan</td><td>False</td><td>nan</td><td>nan</td><td>False</td><td>nan</td><td>nan</td><td>False</td><td>nan</td><td>nan</td><td>False</td><td>False</td><td>0</td><td>0.0</td><td>nan</td><td>nan</td><td>nan</td><td>nan</td><td>nan</td><td>nan</td><td>nan</td><td>nan</td><td>nan</td><td>nan</td><td>nan</td><td>nan</td><td>nan</td><td>nan</td><td>nan</td><td>nan</td><td>nan</td><td>nan</td><td>nan</td><td>nan</td><td>nan</td><td>nan</td><td>nan</td><td>False</td><td>nan</td><td>nan</td><td>False</td><td>nan</td><td>nan</td><td>False</td><td>nan</td><td>nan</td><td>False</td><td>nan</td><td>nan</td><td>False</td><td>nan</td><td>nan</td><td>nan</td><td>nan</td><td>nan</td><td>nan</td><td>nan</td><td>nan</td><td>nan</td><td>nan</td><td>False</td><td>0</td><td>-1</td><td>nan</td><td>nan</td><td>nan</td><td>nan</td><td>nan</td><td>nan</td><td>nan</td><td>nan</td><td>nan</td><td>nan</td><td>nan</td><td>nan</td><td>nan</td><td>nan</td><td>False</td><td>nan</td><td>nan</td><td>False</td><td>nan</td><td>nan</td><td>False</td><td>nan</td><td>nan</td><td>nan</td><td>nan</td><td>nan</td><td>nan</td><td>nan</td><td>False</td><td>0</td><td>-1</td><td>nan</td><td>nan</td><td>nan</td><td>nan</td><td>nan</td><td>nan</td><td>nan</td><td>nan</td><td>nan</td><td>nan</td><td>nan</td><td>nan</td><td>nan</td><td>nan</td><td>nan</td><td>nan</td><td>nan</td><td>nan</td><td>nan</td><td>nan</td><td>nan</td><td>nan</td><td>nan</td><td>nan</td><td>nan</td><td>nan</td><td>nan</td><td>nan</td><td>nan</td><td>False</td><td>nan</td><td>nan</td><td>nan</td><td>nan</td><td>False</td><td>nan</td><td>nan</td><td>nan</td><td>nan</td><td>False</td><td>nan</td><td>nan</td><td>nan</td><td>nan</td><td>False</td><td>nan</td><td>nan</td><td>nan</td><td>nan</td><td>False</td><td>nan</td><td>nan</td><td>nan</td><td>nan</td><td>False</td><td>False</td><td>0</td><td>-1</td><td>nan</td><td>nan</td><td>nan</td><td>nan</td><td>nan</td><td>nan</td><td>nan</td><td>nan</td><td>nan</td><td>nan</td><td>nan</td><td>nan</td><td>nan</td><td>nan</td><td>nan</td><td>nan</td><td>nan</td><td>nan</td><td>nan</td><td>nan</td><td>nan</td><td>nan</td><td>nan</td><td>nan</td><td>nan</td><td>nan</td><td>nan</td><td>nan</td><td>nan</td><td>False</td><td>nan</td><td>nan</td><td>nan</td><td>nan</td><td>False</td><td>nan</td><td>nan</td><td>nan</td><td>nan</td><td>False</td><td>nan</td><td>nan</td><td>nan</td><td>nan</td><td>False</td><td>nan</td><td>nan</td><td>nan</td><td>nan</td><td>False</td><td>nan</td><td>nan</td><td>nan</td><td>nan</td><td>False</td><td>False</td><td>0</td><td>0.0</td><td>nan</td><td>nan</td><td>nan</td><td>nan</td><td>nan</td><td>nan</td><td>nan</td><td>nan</td><td>nan</td><td>nan</td><td>nan</td><td>nan</td><td>nan</td><td>nan</td><td>nan</td><td>nan</td><td>nan</td><td>nan</td><td>nan</td><td>False</td><td>nan</td><td>nan</td><td>False</td><td>nan</td><td>nan</td><td>False</td><td>nan</td><td>nan</td><td>False</td><td>nan</td><td>nan</td><td>nan</td><td>nan</td><td>nan</td><td>nan</td><td>nan</td><td>nan</td><td>False</td><td>0</td><td>-1</td><td>nan</td><td>nan</td><td>nan</td><td>nan</td><td>nan</td><td>nan</td><td>nan</td><td>nan</td><td>nan</td><td>nan</td><td>nan</td><td>nan</td><td>nan</td><td>nan</td><td>nan</td><td>nan</td><td>nan</td><td>nan</td><td>nan</td><td>False</td><td>nan</td><td>nan</td><td>nan</td><td>nan</td><td>False</td><td>nan</td><td>nan</td><td>nan</td><td>nan</td><td>nan</td><td>nan</td><td>False</td><td>nan</td><td>nan</td><td>nan</td><td>nan</td><td>False</td><td>False</td><td>0</td><td>-1</td><td>nan</td><td>nan</td><td>nan</td><td>nan</td><td>nan</td><td>nan</td><td>nan</td><td>nan</td><td>nan</td><td>nan</td><td>nan</td><td>nan</td><td>nan</td><td>nan</td><td>nan</td><td>nan</td><td>nan</td><td>nan</td><td>nan</td><td>nan</td><td>nan</td><td>nan</td><td>nan</td><td>nan</td><td>nan</td><td>nan</td><td>nan</td><td>nan</td><td>nan</td><td>nan</td><td>nan</td><td>nan</td><td>nan</td><td>nan</td><td>False</td><td>nan</td><td>nan</td><td>nan</td><td>nan</td><td>False</td><td>nan</td><td>nan</td><td>nan</td><td>nan</td><td>False</td><td>nan</td><td>nan</td><td>nan</td><td>nan</td><td>False</td><td>nan</td><td>nan</td><td>nan</td><td>nan</td><td>False</td><td>nan</td><td>nan</td><td>nan</td><td>nan</td><td>False</td><td>nan</td><td>nan</td><td>nan</td><td>nan</td><td>False</td><td>nan</td><td>nan</td><td>nan</td><td>nan</td><td>False</td><td>nan</td><td>nan</td><td>False</td><td>0</td><td>False</td><td>-1</td><td>nan</td><td>nan</td><td>nan</td><td>nan</td><td>nan</td><td>nan</td><td>nan</td><td>nan</td><td>nan</td><td>nan</td><td>nan</td><td>nan</td><td>nan</td><td>nan</td><td>nan</td><td>nan</td><td>nan</td><td>nan</td><td>nan</td><td>nan</td><td>nan</td><td>nan</td><td>nan</td><td>nan</td><td>False</td><td>nan</td><td>nan</td><td>nan</td><td>nan</td><td>False</td><td>nan</td><td>nan</td><td>nan</td><td>nan</td><td>False</td><td>nan</td><td>nan</td><td>nan</td><td>nan</td><td>False</td><td>nan</td><td>nan</td><td>nan</td><td>nan</td><td>False</td><td>False</td><td>0</td></tr>\n",
       "<tr><td>4</td><td>HELP_J095836.75+014228.42</td><td>COSMOS2015_J095836.75+014228.42</td><td>149.653097393567</td><td>1.70789184178347</td><td>1.0</td><td>nan</td><td>nan</td><td>-0.0002465799916535616</td><td>0.10322000086307526</td><td>26.052000045776367</td><td>0.3110150098800659</td><td>0.08066640049219131</td><td>0.10296300053596497</td><td>25.23259925842285</td><td>0.2463500052690506</td><td>0.25881698727607727</td><td>0.14938899874687195</td><td>27.06839942932129</td><td>0.9899320006370544</td><td>0.03981989994645119</td><td>0.11974799633026123</td><td>nan</td><td>nan</td><td>nan</td><td>nan</td><td>28.220399856567383</td><td>0.39786800742149353</td><td>0.01988529972732067</td><td>0.010072899982333183</td><td>27.35409927368164</td><td>0.32145899534225464</td><td>0.03921059891581535</td><td>0.019547199830412865</td><td>27.728599548339844</td><td>0.6845070123672485</td><td>0.03402160108089447</td><td>0.022133899852633476</td><td>26.810699462890625</td><td>0.24874000251293182</td><td>0.06963930279016495</td><td>0.02018829993903637</td><td>26.164499282836914</td><td>0.38693198561668396</td><td>0.1237339973449707</td><td>0.15360000729560852</td><td>25.924800872802734</td><td>0.144228994846344</td><td>0.14012199640274048</td><td>0.03902279958128929</td><td>27.069400787353516</td><td>0.40570899844169617</td><td>0.04808440059423447</td><td>0.03156520053744316</td><td>28.766799926757812</td><td>1.9242199659347534</td><td>0.007695950102061033</td><td>0.028085799887776375</td><td>26.65679931640625</td><td>0.38825398683547974</td><td>0.06536559760570526</td><td>0.036590199917554855</td><td>26.641799926757812</td><td>0.40505000948905945</td><td>0.12998299300670624</td><td>0.056775398552417755</td><td>26.082599639892578</td><td>0.29546400904655457</td><td>0.1185780018568039</td><td>0.05023359879851341</td><td>27.043800354003906</td><td>0.7837049961090088</td><td>0.07536870241165161</td><td>0.06467989832162857</td><td>nan</td><td>nan</td><td>-0.0061323498375713825</td><td>0.03316750004887581</td><td>nan</td><td>nan</td><td>0.013743700459599495</td><td>0.04328709840774536</td><td>26.92460060119629</td><td>0.606145977973938</td><td>0.032586801797151566</td><td>0.051478300243616104</td><td>27.179899215698242</td><td>0.5667830109596252</td><td>0.04314570128917694</td><td>0.04569130018353462</td><td>26.41119956970215</td><td>0.2781530022621155</td><td>0.08915960043668747</td><td>0.039994701743125916</td><td>25.821800231933594</td><td>0.19441600143909454</td><td>0.14315399527549744</td><td>0.06366559863090515</td><td>26.006500244140625</td><td>0.45925599336624146</td><td>0.1566620022058487</td><td>0.06949210166931152</td><td>26.821699142456055</td><td>0.44283199310302734</td><td>0.0651032030582428</td><td>0.06431730091571808</td><td>25.309999465942383</td><td>0.5620149970054626</td><td>0.3318060040473938</td><td>0.2725889980792999</td><td>28.49850082397461</td><td>16.34869956970215</td><td>0.036659400910139084</td><td>0.4237940013408661</td><td>25.967500686645508</td><td>0.6327869892120361</td><td>0.12541800737380981</td><td>0.17618800699710846</td><td>nan</td><td>nan</td><td>nan</td><td>nan</td><td>0.1358959972858429</td><td>0.06441809982061386</td><td>26.066999435424805</td><td>0.5146650075912476</td><td>0.0</td><td>2.4667201042175293</td><td>nan</td><td>nan</td><td>0.0</td><td>2.7172698974609375</td><td>nan</td><td>nan</td><td>nan</td><td>nan</td><td>False</td><td>nan</td><td>-454.4963073730469</td><td>0.13778430223464966</td><td>0.03946905583143234</td><td>False</td><td>26.633270263671875</td><td>1.3858391046524048</td><td>0.293062299489975</td><td>0.06649487465620041</td><td>False</td><td>25.367523193359375</td><td>0.6266862154006958</td><td>0.054030656814575195</td><td>0.04926304891705513</td><td>False</td><td>27.399749755859375</td><td>3.2650692462921143</td><td>nan</td><td>nan</td><td>False</td><td>nan</td><td>nan</td><td>0.01869993656873703</td><td>0.006852590944617987</td><td>False</td><td>28.153671264648438</td><td>0.5499796867370605</td><td>0.0415298193693161</td><td>0.012295927852392197</td><td>False</td><td>27.41649627685547</td><td>0.5412593483924866</td><td>0.02941441535949707</td><td>0.01854444481432438</td><td>False</td><td>27.57061767578125</td><td>0.7063623070716858</td><td>0.06850465387105942</td><td>0.015694279223680496</td><td>False</td><td>26.792869567871094</td><td>0.31475281715393066</td><td>0.12422246485948563</td><td>0.044270094484090805</td><td>False</td><td>26.168777465820312</td><td>1.3478032350540161</td><td>0.15491008758544922</td><td>0.020578227937221527</td><td>False</td><td>26.033729553222656</td><td>0.3023684024810791</td><td>0.05398085340857506</td><td>0.020171120762825012</td><td>False</td><td>27.194992065429688</td><td>0.7127358913421631</td><td>0.011305241845548153</td><td>0.020035963505506516</td><td>False</td><td>29.184349060058594</td><td>3.9623141288757324</td><td>0.07893692702054977</td><td>0.028227463364601135</td><td>False</td><td>26.86162567138672</td><td>0.6077708601951599</td><td>0.08003496378660202</td><td>0.02985823154449463</td><td>False</td><td>26.11528778076172</td><td>0.4742397367954254</td><td>0.13395527005195618</td><td>0.036453571170568466</td><td>False</td><td>26.214988708496094</td><td>0.45995405316352844</td><td>0.055268771946430206</td><td>0.03989404812455177</td><td>False</td><td>26.70702362060547</td><td>0.9317567348480225</td><td>nan</td><td>nan</td><td>False</td><td>nan</td><td>-5.8723249435424805</td><td>nan</td><td>nan</td><td>False</td><td>28.55474090576172</td><td>3.4196298122406006</td><td>0.06168217957019806</td><td>0.03443599492311478</td><td>False</td><td>27.617393493652344</td><td>1.7151683568954468</td><td>0.048757366836071014</td><td>0.025452636182308197</td><td>False</td><td>27.312660217285156</td><td>1.1497946977615356</td><td>0.09897377341985703</td><td>0.025355931371450424</td><td>False</td><td>26.524581909179688</td><td>0.48703330755233765</td><td>0.17032556235790253</td><td>0.030499134212732315</td><td>False</td><td>26.01049041748047</td><td>0.4828649163246155</td><td>0.1436811089515686</td><td>0.06077572703361511</td><td>False</td><td>25.91259002685547</td><td>0.48161065578460693</td><td>0.06781414151191711</td><td>0.027658900246024132</td><td>False</td><td>26.865997314453125</td><td>1.072629451751709</td><td>0.2728976905345917</td><td>0.14126138389110565</td><td>False</td><td>25.097793579101562</td><td>0.8919662237167358</td><td>0.014474371448159218</td><td>0.21795086562633514</td><td>False</td><td>27.489540100097656</td><td>12.551445007324219</td><td>0.14893589913845062</td><td>0.08680257946252823</td><td>False</td><td>26.154098510742188</td><td>1.5252490043640137</td><td>False</td><td>False</td><td>False</td><td>False</td><td>False</td><td>0</td><td>False</td><td>-1</td><td>nan</td><td>nan</td><td>nan</td><td>nan</td><td>nan</td><td>nan</td><td>nan</td><td>nan</td><td>nan</td><td>nan</td><td>nan</td><td>nan</td><td>nan</td><td>nan</td><td>nan</td><td>nan</td><td>nan</td><td>nan</td><td>nan</td><td>False</td><td>nan</td><td>nan</td><td>nan</td><td>nan</td><td>False</td><td>nan</td><td>nan</td><td>False</td><td>nan</td><td>nan</td><td>False</td><td>nan</td><td>nan</td><td>False</td><td>False</td><td>0</td><td>0.0</td><td>nan</td><td>nan</td><td>nan</td><td>nan</td><td>nan</td><td>nan</td><td>nan</td><td>nan</td><td>nan</td><td>nan</td><td>nan</td><td>nan</td><td>nan</td><td>nan</td><td>nan</td><td>nan</td><td>nan</td><td>nan</td><td>nan</td><td>nan</td><td>nan</td><td>nan</td><td>nan</td><td>False</td><td>nan</td><td>nan</td><td>False</td><td>nan</td><td>nan</td><td>False</td><td>nan</td><td>nan</td><td>False</td><td>nan</td><td>nan</td><td>False</td><td>nan</td><td>nan</td><td>nan</td><td>nan</td><td>nan</td><td>nan</td><td>nan</td><td>nan</td><td>nan</td><td>nan</td><td>False</td><td>0</td><td>-1</td><td>nan</td><td>nan</td><td>nan</td><td>nan</td><td>nan</td><td>nan</td><td>nan</td><td>nan</td><td>nan</td><td>nan</td><td>nan</td><td>nan</td><td>nan</td><td>nan</td><td>False</td><td>nan</td><td>nan</td><td>False</td><td>nan</td><td>nan</td><td>False</td><td>nan</td><td>nan</td><td>nan</td><td>nan</td><td>nan</td><td>nan</td><td>nan</td><td>False</td><td>0</td><td>-1</td><td>nan</td><td>nan</td><td>nan</td><td>nan</td><td>nan</td><td>nan</td><td>nan</td><td>nan</td><td>nan</td><td>nan</td><td>nan</td><td>nan</td><td>nan</td><td>nan</td><td>nan</td><td>nan</td><td>nan</td><td>nan</td><td>nan</td><td>nan</td><td>nan</td><td>nan</td><td>nan</td><td>nan</td><td>nan</td><td>nan</td><td>nan</td><td>nan</td><td>nan</td><td>False</td><td>nan</td><td>nan</td><td>nan</td><td>nan</td><td>False</td><td>nan</td><td>nan</td><td>nan</td><td>nan</td><td>False</td><td>nan</td><td>nan</td><td>nan</td><td>nan</td><td>False</td><td>nan</td><td>nan</td><td>nan</td><td>nan</td><td>False</td><td>nan</td><td>nan</td><td>nan</td><td>nan</td><td>False</td><td>False</td><td>0</td><td>-1</td><td>nan</td><td>nan</td><td>nan</td><td>nan</td><td>nan</td><td>nan</td><td>nan</td><td>nan</td><td>nan</td><td>nan</td><td>nan</td><td>nan</td><td>nan</td><td>nan</td><td>nan</td><td>nan</td><td>nan</td><td>nan</td><td>nan</td><td>nan</td><td>nan</td><td>nan</td><td>nan</td><td>nan</td><td>nan</td><td>nan</td><td>nan</td><td>nan</td><td>nan</td><td>False</td><td>nan</td><td>nan</td><td>nan</td><td>nan</td><td>False</td><td>nan</td><td>nan</td><td>nan</td><td>nan</td><td>False</td><td>nan</td><td>nan</td><td>nan</td><td>nan</td><td>False</td><td>nan</td><td>nan</td><td>nan</td><td>nan</td><td>False</td><td>nan</td><td>nan</td><td>nan</td><td>nan</td><td>False</td><td>False</td><td>0</td><td>0.0</td><td>nan</td><td>nan</td><td>nan</td><td>nan</td><td>nan</td><td>nan</td><td>nan</td><td>nan</td><td>nan</td><td>nan</td><td>nan</td><td>nan</td><td>nan</td><td>nan</td><td>nan</td><td>nan</td><td>nan</td><td>nan</td><td>nan</td><td>False</td><td>nan</td><td>nan</td><td>False</td><td>nan</td><td>nan</td><td>False</td><td>nan</td><td>nan</td><td>False</td><td>nan</td><td>nan</td><td>nan</td><td>nan</td><td>nan</td><td>nan</td><td>nan</td><td>nan</td><td>False</td><td>0</td><td>-1</td><td>nan</td><td>nan</td><td>nan</td><td>nan</td><td>nan</td><td>nan</td><td>nan</td><td>nan</td><td>nan</td><td>nan</td><td>nan</td><td>nan</td><td>nan</td><td>nan</td><td>nan</td><td>nan</td><td>nan</td><td>nan</td><td>nan</td><td>False</td><td>nan</td><td>nan</td><td>nan</td><td>nan</td><td>False</td><td>nan</td><td>nan</td><td>nan</td><td>nan</td><td>nan</td><td>nan</td><td>False</td><td>nan</td><td>nan</td><td>nan</td><td>nan</td><td>False</td><td>False</td><td>0</td><td>-1</td><td>nan</td><td>nan</td><td>nan</td><td>nan</td><td>nan</td><td>nan</td><td>nan</td><td>nan</td><td>nan</td><td>nan</td><td>nan</td><td>nan</td><td>nan</td><td>nan</td><td>nan</td><td>nan</td><td>nan</td><td>nan</td><td>nan</td><td>nan</td><td>nan</td><td>nan</td><td>nan</td><td>nan</td><td>nan</td><td>nan</td><td>nan</td><td>nan</td><td>nan</td><td>nan</td><td>nan</td><td>nan</td><td>nan</td><td>nan</td><td>False</td><td>nan</td><td>nan</td><td>nan</td><td>nan</td><td>False</td><td>nan</td><td>nan</td><td>nan</td><td>nan</td><td>False</td><td>nan</td><td>nan</td><td>nan</td><td>nan</td><td>False</td><td>nan</td><td>nan</td><td>nan</td><td>nan</td><td>False</td><td>nan</td><td>nan</td><td>nan</td><td>nan</td><td>False</td><td>nan</td><td>nan</td><td>nan</td><td>nan</td><td>False</td><td>nan</td><td>nan</td><td>nan</td><td>nan</td><td>False</td><td>nan</td><td>nan</td><td>False</td><td>0</td><td>False</td><td>-1</td><td>nan</td><td>nan</td><td>nan</td><td>nan</td><td>nan</td><td>nan</td><td>nan</td><td>nan</td><td>nan</td><td>nan</td><td>nan</td><td>nan</td><td>nan</td><td>nan</td><td>nan</td><td>nan</td><td>nan</td><td>nan</td><td>nan</td><td>nan</td><td>nan</td><td>nan</td><td>nan</td><td>nan</td><td>False</td><td>nan</td><td>nan</td><td>nan</td><td>nan</td><td>False</td><td>nan</td><td>nan</td><td>nan</td><td>nan</td><td>False</td><td>nan</td><td>nan</td><td>nan</td><td>nan</td><td>False</td><td>nan</td><td>nan</td><td>nan</td><td>nan</td><td>False</td><td>False</td><td>0</td></tr>\n",
       "<tr><td>5</td><td>HELP_J095739.74+020106.13</td><td>COSMOS2015_J095739.74+020106.13</td><td>149.415581999546</td><td>2.0183670622076706</td><td>1.0</td><td>26.76289939880371</td><td>0.7536249756813049</td><td>-0.0001133800033130683</td><td>0.041202299296855927</td><td>25.63249969482422</td><td>0.11337800323963165</td><td>0.1713860034942627</td><td>0.05649179965257645</td><td>28.561800003051758</td><td>4.18720006942749</td><td>0.012659999541938305</td><td>0.12574300169944763</td><td>25.29949951171875</td><td>0.13934800028800964</td><td>0.2478870004415512</td><td>0.08941079676151276</td><td>27.481399536132812</td><td>0.3202170133590698</td><td>0.030972599983215332</td><td>0.020800799131393433</td><td>26.924800872802734</td><td>0.1463650017976761</td><td>0.04903170093894005</td><td>0.01099689956754446</td><td>26.789100646972656</td><td>0.22168399393558502</td><td>0.05283220112323761</td><td>0.02042119950056076</td><td>26.520200729370117</td><td>0.256989985704422</td><td>0.07533170282840729</td><td>0.02284570038318634</td><td>26.737699508666992</td><td>0.20089100301265717</td><td>0.06885749846696854</td><td>0.016304999589920044</td><td>25.49139976501465</td><td>0.25144898891448975</td><td>0.20130400359630585</td><td>0.1652349978685379</td><td>26.149499893188477</td><td>0.1857379972934723</td><td>0.08983220160007477</td><td>0.03625509887933731</td><td>31.036500930786133</td><td>18.67690086364746</td><td>0.022116100415587425</td><td>0.0336868017911911</td><td>26.68199920654297</td><td>0.32916000485420227</td><td>0.06547389924526215</td><td>0.029289299622178078</td><td>26.322799682617188</td><td>0.30408498644828796</td><td>0.08669430017471313</td><td>0.034937601536512375</td><td>25.998699188232422</td><td>0.25484201312065125</td><td>0.13686400651931763</td><td>0.05722710117697716</td><td>26.060300827026367</td><td>0.33415699005126953</td><td>0.12416400015354156</td><td>0.05224920064210892</td><td>26.6835994720459</td><td>0.5920159816741943</td><td>0.09773139655590057</td><td>0.062003400176763535</td><td>26.891799926757812</td><td>0.4304729998111725</td><td>0.06721659749746323</td><td>0.03499919921159744</td><td>nan</td><td>nan</td><td>-0.006792239844799042</td><td>0.041219498962163925</td><td>26.55069923400879</td><td>0.4201520085334778</td><td>0.07791110128164291</td><td>0.044979799538850784</td><td>nan</td><td>nan</td><td>0.003064770018681884</td><td>0.05306880176067352</td><td>26.497400283813477</td><td>0.37137800455093384</td><td>0.09716919809579849</td><td>0.04439700022339821</td><td>26.565000534057617</td><td>0.46879100799560547</td><td>0.036674901843070984</td><td>0.06912510097026825</td><td>27.02400016784668</td><td>1.5083600282669067</td><td>0.036743298172950745</td><td>0.0798444002866745</td><td>27.535999298095703</td><td>0.9614880084991455</td><td>0.04133069887757301</td><td>0.06483989953994751</td><td>nan</td><td>nan</td><td>-0.31312501430511475</td><td>0.36148300766944885</td><td>25.448999404907227</td><td>0.9694979786872864</td><td>0.1864289939403534</td><td>0.37154000997543335</td><td>nan</td><td>nan</td><td>0.03769740089774132</td><td>0.20017500221729279</td><td>-0.01863580010831356</td><td>0.035283301025629044</td><td>nan</td><td>nan</td><td>nan</td><td>nan</td><td>nan</td><td>nan</td><td>0.0</td><td>2.1613199710845947</td><td>nan</td><td>nan</td><td>0.0</td><td>3.475680112838745</td><td>nan</td><td>nan</td><td>0.07158800214529037</td><td>0.049690257757902145</td><td>False</td><td>nan</td><td>-394.55657958984375</td><td>0.20276834070682526</td><td>0.021174084395170212</td><td>False</td><td>25.8150634765625</td><td>0.3578774929046631</td><td>0.013654621317982674</td><td>0.0526597835123539</td><td>False</td><td>28.64391326904297</td><td>10.783864974975586</td><td>0.27554965019226074</td><td>0.03536521643400192</td><td>False</td><td>25.41436767578125</td><td>0.3916161060333252</td><td>0.03693516179919243</td><td>0.010893316008150578</td><td>False</td><td>27.67255401611328</td><td>0.7291663885116577</td><td>0.061670802533626556</td><td>0.00831366516649723</td><td>False</td><td>27.173805236816406</td><td>0.243510439991951</td><td>0.06988104432821274</td><td>0.014268208295106888</td><td>False</td><td>27.092758178710938</td><td>0.41966894268989563</td><td>0.08951989561319351</td><td>0.021189047023653984</td><td>False</td><td>26.707557678222656</td><td>0.32926908135414124</td><td>0.07326897978782654</td><td>0.013556771911680698</td><td>False</td><td>26.80512237548828</td><td>0.2570951581001282</td><td>0.2309085726737976</td><td>0.05347682535648346</td><td>False</td><td>25.64037322998047</td><td>0.8911974430084229</td><td>0.12595044076442719</td><td>0.021546470001339912</td><td>False</td><td>26.51641845703125</td><td>0.4381888806819916</td><td>0.0013976522022858262</td><td>0.02404250018298626</td><td>False</td><td>28.038230895996094</td><td>1.6537716388702393</td><td>0.0771259143948555</td><td>0.023382076993584633</td><td>False</td><td>26.859832763671875</td><td>0.48569661378860474</td><td>0.10736925899982452</td><td>0.030071191489696503</td><td>False</td><td>26.555023193359375</td><td>0.4375491738319397</td><td>0.14471717178821564</td><td>0.0339677520096302</td><td>False</td><td>26.059280395507812</td><td>0.45398008823394775</td><td>0.13673493266105652</td><td>0.042082905769348145</td><td>False</td><td>26.165008544921875</td><td>0.4568863809108734</td><td>0.07701227068901062</td><td>0.04199223965406418</td><td>False</td><td>26.42491912841797</td><td>0.688819944858551</td><td>0.06357404589653015</td><td>0.025205856189131737</td><td>False</td><td>26.83130645751953</td><td>0.5653350353240967</td><td>nan</td><td>nan</td><td>False</td><td>nan</td><td>-6.588916301727295</td><td>0.0870402529835701</td><td>0.03368234261870384</td><td>False</td><td>26.671005249023438</td><td>0.6268194317817688</td><td>nan</td><td>nan</td><td>False</td><td>30.18401336669922</td><td>18.800338745117188</td><td>0.09141965210437775</td><td>0.03127025440335274</td><td>False</td><td>26.431175231933594</td><td>0.4960772395133972</td><td>0.08590126037597656</td><td>0.03708980232477188</td><td>False</td><td>27.48908233642578</td><td>2.046402931213379</td><td>0.05628589913249016</td><td>0.0781952440738678</td><td>False</td><td>27.48705291748047</td><td>2.3593404293060303</td><td>0.03512367233633995</td><td>0.031104231253266335</td><td>False</td><td>27.35932159423828</td><td>1.7033108472824097</td><td>nan</td><td>nan</td><td>False</td><td>nan</td><td>-1.2534136772155762</td><td>0.24010443687438965</td><td>0.21439900994300842</td><td>False</td><td>25.723716735839844</td><td>2.1637966632843018</td><td>nan</td><td>nan</td><td>False</td><td>27.45922088623047</td><td>5.765310764312744</td><td>False</td><td>False</td><td>False</td><td>False</td><td>False</td><td>0</td><td>False</td><td>-1</td><td>nan</td><td>nan</td><td>nan</td><td>nan</td><td>nan</td><td>nan</td><td>nan</td><td>nan</td><td>nan</td><td>nan</td><td>nan</td><td>nan</td><td>nan</td><td>nan</td><td>nan</td><td>nan</td><td>nan</td><td>nan</td><td>nan</td><td>False</td><td>nan</td><td>nan</td><td>nan</td><td>nan</td><td>False</td><td>nan</td><td>nan</td><td>False</td><td>nan</td><td>nan</td><td>False</td><td>nan</td><td>nan</td><td>False</td><td>False</td><td>0</td><td>0.0</td><td>nan</td><td>nan</td><td>nan</td><td>nan</td><td>nan</td><td>nan</td><td>nan</td><td>nan</td><td>nan</td><td>nan</td><td>nan</td><td>nan</td><td>nan</td><td>nan</td><td>nan</td><td>nan</td><td>nan</td><td>nan</td><td>nan</td><td>nan</td><td>nan</td><td>nan</td><td>nan</td><td>False</td><td>nan</td><td>nan</td><td>False</td><td>nan</td><td>nan</td><td>False</td><td>nan</td><td>nan</td><td>False</td><td>nan</td><td>nan</td><td>False</td><td>nan</td><td>nan</td><td>nan</td><td>nan</td><td>nan</td><td>nan</td><td>nan</td><td>nan</td><td>nan</td><td>nan</td><td>False</td><td>0</td><td>-1</td><td>nan</td><td>nan</td><td>nan</td><td>nan</td><td>nan</td><td>nan</td><td>nan</td><td>nan</td><td>nan</td><td>nan</td><td>nan</td><td>nan</td><td>nan</td><td>nan</td><td>False</td><td>nan</td><td>nan</td><td>False</td><td>nan</td><td>nan</td><td>False</td><td>nan</td><td>nan</td><td>nan</td><td>nan</td><td>nan</td><td>nan</td><td>nan</td><td>False</td><td>0</td><td>-1</td><td>nan</td><td>nan</td><td>nan</td><td>nan</td><td>nan</td><td>nan</td><td>nan</td><td>nan</td><td>nan</td><td>nan</td><td>nan</td><td>nan</td><td>nan</td><td>nan</td><td>nan</td><td>nan</td><td>nan</td><td>nan</td><td>nan</td><td>nan</td><td>nan</td><td>nan</td><td>nan</td><td>nan</td><td>nan</td><td>nan</td><td>nan</td><td>nan</td><td>nan</td><td>False</td><td>nan</td><td>nan</td><td>nan</td><td>nan</td><td>False</td><td>nan</td><td>nan</td><td>nan</td><td>nan</td><td>False</td><td>nan</td><td>nan</td><td>nan</td><td>nan</td><td>False</td><td>nan</td><td>nan</td><td>nan</td><td>nan</td><td>False</td><td>nan</td><td>nan</td><td>nan</td><td>nan</td><td>False</td><td>False</td><td>0</td><td>-1</td><td>nan</td><td>nan</td><td>nan</td><td>nan</td><td>nan</td><td>nan</td><td>nan</td><td>nan</td><td>nan</td><td>nan</td><td>nan</td><td>nan</td><td>nan</td><td>nan</td><td>nan</td><td>nan</td><td>nan</td><td>nan</td><td>nan</td><td>nan</td><td>nan</td><td>nan</td><td>nan</td><td>nan</td><td>nan</td><td>nan</td><td>nan</td><td>nan</td><td>nan</td><td>False</td><td>nan</td><td>nan</td><td>nan</td><td>nan</td><td>False</td><td>nan</td><td>nan</td><td>nan</td><td>nan</td><td>False</td><td>nan</td><td>nan</td><td>nan</td><td>nan</td><td>False</td><td>nan</td><td>nan</td><td>nan</td><td>nan</td><td>False</td><td>nan</td><td>nan</td><td>nan</td><td>nan</td><td>False</td><td>False</td><td>0</td><td>0.0</td><td>nan</td><td>nan</td><td>nan</td><td>nan</td><td>nan</td><td>nan</td><td>nan</td><td>nan</td><td>nan</td><td>nan</td><td>nan</td><td>nan</td><td>nan</td><td>nan</td><td>nan</td><td>nan</td><td>nan</td><td>nan</td><td>nan</td><td>False</td><td>nan</td><td>nan</td><td>False</td><td>nan</td><td>nan</td><td>False</td><td>nan</td><td>nan</td><td>False</td><td>nan</td><td>nan</td><td>nan</td><td>nan</td><td>nan</td><td>nan</td><td>nan</td><td>nan</td><td>False</td><td>0</td><td>-1</td><td>nan</td><td>nan</td><td>nan</td><td>nan</td><td>nan</td><td>nan</td><td>nan</td><td>nan</td><td>nan</td><td>nan</td><td>nan</td><td>nan</td><td>nan</td><td>nan</td><td>nan</td><td>nan</td><td>nan</td><td>nan</td><td>nan</td><td>False</td><td>nan</td><td>nan</td><td>nan</td><td>nan</td><td>False</td><td>nan</td><td>nan</td><td>nan</td><td>nan</td><td>nan</td><td>nan</td><td>False</td><td>nan</td><td>nan</td><td>nan</td><td>nan</td><td>False</td><td>False</td><td>0</td><td>-1</td><td>nan</td><td>nan</td><td>nan</td><td>nan</td><td>nan</td><td>nan</td><td>nan</td><td>nan</td><td>nan</td><td>nan</td><td>nan</td><td>nan</td><td>nan</td><td>nan</td><td>nan</td><td>nan</td><td>nan</td><td>nan</td><td>nan</td><td>nan</td><td>nan</td><td>nan</td><td>nan</td><td>nan</td><td>nan</td><td>nan</td><td>nan</td><td>nan</td><td>nan</td><td>nan</td><td>nan</td><td>nan</td><td>nan</td><td>nan</td><td>False</td><td>nan</td><td>nan</td><td>nan</td><td>nan</td><td>False</td><td>nan</td><td>nan</td><td>nan</td><td>nan</td><td>False</td><td>nan</td><td>nan</td><td>nan</td><td>nan</td><td>False</td><td>nan</td><td>nan</td><td>nan</td><td>nan</td><td>False</td><td>nan</td><td>nan</td><td>nan</td><td>nan</td><td>False</td><td>nan</td><td>nan</td><td>nan</td><td>nan</td><td>False</td><td>nan</td><td>nan</td><td>nan</td><td>nan</td><td>False</td><td>nan</td><td>nan</td><td>False</td><td>0</td><td>False</td><td>-1</td><td>nan</td><td>nan</td><td>nan</td><td>nan</td><td>nan</td><td>nan</td><td>nan</td><td>nan</td><td>nan</td><td>nan</td><td>nan</td><td>nan</td><td>nan</td><td>nan</td><td>nan</td><td>nan</td><td>nan</td><td>nan</td><td>nan</td><td>nan</td><td>nan</td><td>nan</td><td>nan</td><td>nan</td><td>False</td><td>nan</td><td>nan</td><td>nan</td><td>nan</td><td>False</td><td>nan</td><td>nan</td><td>nan</td><td>nan</td><td>False</td><td>nan</td><td>nan</td><td>nan</td><td>nan</td><td>False</td><td>nan</td><td>nan</td><td>nan</td><td>nan</td><td>False</td><td>False</td><td>0</td></tr>\n",
       "<tr><td>6</td><td>HELP_J100054.82+014728.67</td><td>COSMOS2015_J100054.82+014728.67</td><td>150.228391944512</td><td>1.7912940828254702</td><td>1.0</td><td>29.246599197387695</td><td>6.053830146789551</td><td>-0.00023756100563332438</td><td>0.04055729880928993</td><td>27.115999221801758</td><td>0.33643999695777893</td><td>0.05023150146007538</td><td>0.04507419839501381</td><td>nan</td><td>nan</td><td>-0.004802720155566931</td><td>0.03616439923644066</td><td>26.980899810791016</td><td>0.45163199305534363</td><td>0.054800599813461304</td><td>0.06388620287179947</td><td>29.459699630737305</td><td>1.3345600366592407</td><td>0.006226019933819771</td><td>0.016847100108861923</td><td>27.989900588989258</td><td>0.32492899894714355</td><td>0.023008599877357483</td><td>0.010755900293588638</td><td>27.910999298095703</td><td>0.5444920063018799</td><td>0.02508939988911152</td><td>0.02130099944770336</td><td>26.8572998046875</td><td>0.24190300703048706</td><td>0.06540630012750626</td><td>0.018897999078035355</td><td>28.412799835205078</td><td>0.7220950126647949</td><td>0.015615900047123432</td><td>0.014678600244224072</td><td>27.15760040283203</td><td>0.816769003868103</td><td>0.051327601075172424</td><td>0.13927200436592102</td><td>26.386600494384766</td><td>0.18057100474834442</td><td>0.10234300047159195</td><td>0.034286998212337494</td><td>nan</td><td>nan</td><td>-0.012409600429236889</td><td>0.03511530160903931</td><td>27.68549919128418</td><td>0.6387630105018616</td><td>0.029258999973535538</td><td>0.02723960019648075</td><td>27.41710090637207</td><td>0.6481980085372925</td><td>0.03956390172243118</td><td>0.03278509899973869</td><td>nan</td><td>nan</td><td>-0.03728500008583069</td><td>0.05100889876484871</td><td>27.379600524902344</td><td>0.8332549929618835</td><td>0.04123469814658165</td><td>0.046518899500370026</td><td>27.744400024414062</td><td>1.2617499828338623</td><td>0.030225099995732307</td><td>0.05993739888072014</td><td>29.22800064086914</td><td>2.8900699615478516</td><td>0.005414620041847229</td><td>0.03293519839644432</td><td>26.973499298095703</td><td>0.38068801164627075</td><td>0.06163389980792999</td><td>0.036066800355911255</td><td>nan</td><td>nan</td><td>-0.007592460140585899</td><td>0.03887160122394562</td><td>26.76919937133789</td><td>0.36511099338531494</td><td>0.06881099939346313</td><td>0.04646509885787964</td><td>27.302099227905273</td><td>0.5917850136756897</td><td>0.045516300946474075</td><td>0.040585801005363464</td><td>25.765100479125977</td><td>0.16414900124073029</td><td>0.17454500496387482</td><td>0.06101899966597557</td><td>25.995100021362305</td><td>0.4543190002441406</td><td>0.14447300136089325</td><td>0.07501079887151718</td><td>26.32699966430664</td><td>0.2595149874687195</td><td>0.10660199820995331</td><td>0.06433620303869247</td><td>nan</td><td>nan</td><td>-0.11388900130987167</td><td>0.35783401131629944</td><td>nan</td><td>nan</td><td>-0.18682099878787994</td><td>0.37527701258659363</td><td>25.861600875854492</td><td>0.36820200085639954</td><td>0.16353200376033783</td><td>0.12123099714517593</td><td>0.10062599927186966</td><td>0.023088200017809868</td><td>26.393199920654297</td><td>0.24911700189113617</td><td>nan</td><td>nan</td><td>nan</td><td>nan</td><td>0.0</td><td>2.324389934539795</td><td>nan</td><td>nan</td><td>0.0</td><td>2.1613199710845947</td><td>nan</td><td>nan</td><td>0.007267090026289225</td><td>0.04051971808075905</td><td>False</td><td>nan</td><td>-185.3609161376953</td><td>0.05171305313706398</td><td>0.016024461016058922</td><td>False</td><td>27.147560119628906</td><td>0.9742628931999207</td><td>nan</td><td>nan</td><td>False</td><td>nan</td><td>-8.17557430267334</td><td>0.05856526643037796</td><td>0.024361303076148033</td><td>False</td><td>27.05303955078125</td><td>1.2657445669174194</td><td>0.00597200496122241</td><td>0.007340640760958195</td><td>False</td><td>29.414474487304688</td><td>2.937913179397583</td><td>0.023122746497392654</td><td>0.006919959560036659</td><td>False</td><td>27.995277404785156</td><td>0.5075523853302002</td><td>0.024865679442882538</td><td>0.012470030225813389</td><td>False</td><td>27.901275634765625</td><td>0.9217942953109741</td><td>0.0656266137957573</td><td>0.014621670357882977</td><td>False</td><td>26.86095428466797</td><td>0.31370437145233154</td><td>0.015663182362914085</td><td>0.01041717641055584</td><td>False</td><td>28.41608428955078</td><td>1.0205680131912231</td><td>0.04976906627416611</td><td>0.03743987902998924</td><td>False</td><td>27.124122619628906</td><td>2.9460299015045166</td><td>0.10124175250530243</td><td>0.016837721690535545</td><td>False</td><td>26.374855041503906</td><td>0.3637438118457794</td><td>nan</td><td>nan</td><td>False</td><td>nan</td><td>-3.0722949504852295</td><td>0.030605554580688477</td><td>0.018005935475230217</td><td>False</td><td>27.734352111816406</td><td>1.0108007192611694</td><td>0.03918859362602234</td><td>0.023396076634526253</td><td>False</td><td>27.406753540039062</td><td>0.8997082114219666</td><td>nan</td><td>nan</td><td>False</td><td>nan</td><td>-1.485374927520752</td><td>0.04056575149297714</td><td>0.03113243728876114</td><td>False</td><td>27.361846923828125</td><td>1.2248724699020386</td><td>0.028989434242248535</td><td>0.033689048141241074</td><td>False</td><td>27.699081420898438</td><td>2.1530516147613525</td><td>0.00739263417199254</td><td>0.019678104668855667</td><td>False</td><td>29.566078186035156</td><td>6.60414457321167</td><td>0.05896581709384918</td><td>0.02067498490214348</td><td>False</td><td>26.925453186035156</td><td>0.635348916053772</td><td>nan</td><td>nan</td><td>False</td><td>nan</td><td>-5.558712482452393</td><td>0.07117380946874619</td><td>0.02393430285155773</td><td>False</td><td>26.80585479736328</td><td>0.733150839805603</td><td>0.04356725141406059</td><td>0.023746510967612267</td><td>False</td><td>27.25458526611328</td><td>0.9681249856948853</td><td>0.1794566959142685</td><td>0.02713148668408394</td><td>False</td><td>25.79523468017578</td><td>0.37956133484840393</td><td>0.14519767463207245</td><td>0.06075698882341385</td><td>False</td><td>26.000534057617188</td><td>0.5637173056602478</td><td>0.10695475339889526</td><td>0.02556455135345459</td><td>False</td><td>26.330589294433594</td><td>0.6552610993385315</td><td>nan</td><td>nan</td><td>False</td><td>nan</td><td>-3.4113330841064453</td><td>nan</td><td>nan</td><td>False</td><td>nan</td><td>-2.1809744834899902</td><td>0.16419491171836853</td><td>0.05568285658955574</td><td>False</td><td>25.865997314453125</td><td>0.8048875331878662</td><td>False</td><td>False</td><td>False</td><td>False</td><td>False</td><td>0</td><td>False</td><td>-1</td><td>nan</td><td>nan</td><td>nan</td><td>nan</td><td>nan</td><td>nan</td><td>nan</td><td>nan</td><td>nan</td><td>nan</td><td>nan</td><td>nan</td><td>nan</td><td>nan</td><td>nan</td><td>nan</td><td>nan</td><td>nan</td><td>nan</td><td>False</td><td>nan</td><td>nan</td><td>nan</td><td>nan</td><td>False</td><td>nan</td><td>nan</td><td>False</td><td>nan</td><td>nan</td><td>False</td><td>nan</td><td>nan</td><td>False</td><td>False</td><td>0</td><td>0.0</td><td>nan</td><td>nan</td><td>nan</td><td>nan</td><td>nan</td><td>nan</td><td>nan</td><td>nan</td><td>nan</td><td>nan</td><td>nan</td><td>nan</td><td>nan</td><td>nan</td><td>nan</td><td>nan</td><td>nan</td><td>nan</td><td>nan</td><td>nan</td><td>nan</td><td>nan</td><td>nan</td><td>False</td><td>nan</td><td>nan</td><td>False</td><td>nan</td><td>nan</td><td>False</td><td>nan</td><td>nan</td><td>False</td><td>nan</td><td>nan</td><td>False</td><td>nan</td><td>nan</td><td>nan</td><td>nan</td><td>nan</td><td>nan</td><td>nan</td><td>nan</td><td>nan</td><td>nan</td><td>False</td><td>0</td><td>-1</td><td>nan</td><td>nan</td><td>nan</td><td>nan</td><td>nan</td><td>nan</td><td>nan</td><td>nan</td><td>nan</td><td>nan</td><td>nan</td><td>nan</td><td>nan</td><td>nan</td><td>False</td><td>nan</td><td>nan</td><td>False</td><td>nan</td><td>nan</td><td>False</td><td>nan</td><td>nan</td><td>nan</td><td>nan</td><td>nan</td><td>nan</td><td>nan</td><td>False</td><td>0</td><td>-1</td><td>nan</td><td>nan</td><td>nan</td><td>nan</td><td>nan</td><td>nan</td><td>nan</td><td>nan</td><td>nan</td><td>nan</td><td>nan</td><td>nan</td><td>nan</td><td>nan</td><td>nan</td><td>nan</td><td>nan</td><td>nan</td><td>nan</td><td>nan</td><td>nan</td><td>nan</td><td>nan</td><td>nan</td><td>nan</td><td>nan</td><td>nan</td><td>nan</td><td>nan</td><td>False</td><td>nan</td><td>nan</td><td>nan</td><td>nan</td><td>False</td><td>nan</td><td>nan</td><td>nan</td><td>nan</td><td>False</td><td>nan</td><td>nan</td><td>nan</td><td>nan</td><td>False</td><td>nan</td><td>nan</td><td>nan</td><td>nan</td><td>False</td><td>nan</td><td>nan</td><td>nan</td><td>nan</td><td>False</td><td>False</td><td>0</td><td>-1</td><td>nan</td><td>nan</td><td>nan</td><td>nan</td><td>nan</td><td>nan</td><td>nan</td><td>nan</td><td>nan</td><td>nan</td><td>nan</td><td>nan</td><td>nan</td><td>nan</td><td>nan</td><td>nan</td><td>nan</td><td>nan</td><td>nan</td><td>nan</td><td>nan</td><td>nan</td><td>nan</td><td>nan</td><td>nan</td><td>nan</td><td>nan</td><td>nan</td><td>nan</td><td>False</td><td>nan</td><td>nan</td><td>nan</td><td>nan</td><td>False</td><td>nan</td><td>nan</td><td>nan</td><td>nan</td><td>False</td><td>nan</td><td>nan</td><td>nan</td><td>nan</td><td>False</td><td>nan</td><td>nan</td><td>nan</td><td>nan</td><td>False</td><td>nan</td><td>nan</td><td>nan</td><td>nan</td><td>False</td><td>False</td><td>0</td><td>0.0</td><td>nan</td><td>nan</td><td>nan</td><td>nan</td><td>nan</td><td>nan</td><td>nan</td><td>nan</td><td>nan</td><td>nan</td><td>nan</td><td>nan</td><td>nan</td><td>nan</td><td>nan</td><td>nan</td><td>nan</td><td>nan</td><td>nan</td><td>False</td><td>nan</td><td>nan</td><td>False</td><td>nan</td><td>nan</td><td>False</td><td>nan</td><td>nan</td><td>False</td><td>nan</td><td>nan</td><td>nan</td><td>nan</td><td>nan</td><td>nan</td><td>nan</td><td>nan</td><td>False</td><td>0</td><td>-1</td><td>nan</td><td>nan</td><td>nan</td><td>nan</td><td>nan</td><td>nan</td><td>nan</td><td>nan</td><td>nan</td><td>nan</td><td>nan</td><td>nan</td><td>nan</td><td>nan</td><td>nan</td><td>nan</td><td>nan</td><td>nan</td><td>nan</td><td>False</td><td>nan</td><td>nan</td><td>nan</td><td>nan</td><td>False</td><td>nan</td><td>nan</td><td>nan</td><td>nan</td><td>nan</td><td>nan</td><td>False</td><td>nan</td><td>nan</td><td>nan</td><td>nan</td><td>False</td><td>False</td><td>0</td><td>-1</td><td>nan</td><td>nan</td><td>nan</td><td>nan</td><td>nan</td><td>nan</td><td>nan</td><td>nan</td><td>nan</td><td>nan</td><td>nan</td><td>nan</td><td>nan</td><td>nan</td><td>nan</td><td>nan</td><td>nan</td><td>nan</td><td>nan</td><td>nan</td><td>nan</td><td>nan</td><td>nan</td><td>nan</td><td>nan</td><td>nan</td><td>nan</td><td>nan</td><td>nan</td><td>nan</td><td>nan</td><td>nan</td><td>nan</td><td>nan</td><td>False</td><td>nan</td><td>nan</td><td>nan</td><td>nan</td><td>False</td><td>nan</td><td>nan</td><td>nan</td><td>nan</td><td>False</td><td>nan</td><td>nan</td><td>nan</td><td>nan</td><td>False</td><td>nan</td><td>nan</td><td>nan</td><td>nan</td><td>False</td><td>nan</td><td>nan</td><td>nan</td><td>nan</td><td>False</td><td>nan</td><td>nan</td><td>nan</td><td>nan</td><td>False</td><td>nan</td><td>nan</td><td>nan</td><td>nan</td><td>False</td><td>nan</td><td>nan</td><td>False</td><td>0</td><td>False</td><td>-1</td><td>nan</td><td>nan</td><td>nan</td><td>nan</td><td>nan</td><td>nan</td><td>nan</td><td>nan</td><td>nan</td><td>nan</td><td>nan</td><td>nan</td><td>nan</td><td>nan</td><td>nan</td><td>nan</td><td>nan</td><td>nan</td><td>nan</td><td>nan</td><td>nan</td><td>nan</td><td>nan</td><td>nan</td><td>False</td><td>nan</td><td>nan</td><td>nan</td><td>nan</td><td>False</td><td>nan</td><td>nan</td><td>nan</td><td>nan</td><td>False</td><td>nan</td><td>nan</td><td>nan</td><td>nan</td><td>False</td><td>nan</td><td>nan</td><td>nan</td><td>nan</td><td>False</td><td>False</td><td>0</td></tr>\n",
       "<tr><td>7</td><td>HELP_J100148.56+015305.15</td><td>COSMOS2015_J100148.56+015305.15</td><td>150.452331511501</td><td>1.88475989727483</td><td>1.0</td><td>23.819599151611328</td><td>0.09215229749679565</td><td>-0.000252103985985741</td><td>0.0323684997856617</td><td>23.358400344848633</td><td>0.02699040062725544</td><td>0.4151970148086548</td><td>0.04673109948635101</td><td>nan</td><td>nan</td><td>nan</td><td>nan</td><td>25.23870086669922</td><td>0.2368279993534088</td><td>0.06583669781684875</td><td>0.06857369840145111</td><td>26.0846004486084</td><td>0.17872600257396698</td><td>0.003673689905554056</td><td>0.01778149977326393</td><td>27.50309944152832</td><td>0.6248720288276672</td><td>0.0012436499819159508</td><td>0.011272500269114971</td><td>26.267200469970703</td><td>0.3021009862422943</td><td>-0.018131699413061142</td><td>0.019397500902414322</td><td>25.833599090576172</td><td>0.3169400095939636</td><td>-0.013504499569535255</td><td>0.022365599870681763</td><td>25.7278995513916</td><td>0.17303599417209625</td><td>-0.013602199964225292</td><td>0.014094100333750248</td><td>24.74690055847168</td><td>0.27194198966026306</td><td>0.05359189957380295</td><td>0.14892399311065674</td><td>26.983600616455078</td><td>0.8955249786376953</td><td>-0.021950900554656982</td><td>0.034578800201416016</td><td>26.147600173950195</td><td>0.4824160039424896</td><td>-0.014096999540925026</td><td>0.03341849893331528</td><td>26.159799575805664</td><td>0.47944799065589905</td><td>-0.0015686099650338292</td><td>0.0294272992759943</td><td>27.034700393676758</td><td>1.3430900573730469</td><td>0.025292400270700455</td><td>0.03430600091814995</td><td>25.508800506591797</td><td>0.35839399695396423</td><td>-0.030350299552083015</td><td>0.05374940112233162</td><td>26.48270034790039</td><td>1.1038299798965454</td><td>nan</td><td>nan</td><td>nan</td><td>nan</td><td>nan</td><td>nan</td><td>26.9158992767334</td><td>0.9699239730834961</td><td>0.009506010450422764</td><td>0.032875098288059235</td><td>26.40880012512207</td><td>0.6944720149040222</td><td>0.08561930060386658</td><td>0.03932179883122444</td><td>25.03499984741211</td><td>0.2413329929113388</td><td>0.0335065983235836</td><td>0.044328801333904266</td><td>24.700199127197266</td><td>0.16254200041294098</td><td>-0.024235300719738007</td><td>0.04897329956293106</td><td>25.981800079345703</td><td>0.5067870020866394</td><td>0.011954200454056263</td><td>0.041410401463508606</td><td>26.495399475097656</td><td>0.9835749864578247</td><td>nan</td><td>nan</td><td>24.369400024414062</td><td>0.2797969877719879</td><td>-0.015019799582660198</td><td>0.07301740348339081</td><td>25.304399490356445</td><td>0.28583699464797974</td><td>0.04646819829940796</td><td>0.06416960060596466</td><td>nan</td><td>nan</td><td>nan</td><td>nan</td><td>24.447099685668945</td><td>0.7317259907722473</td><td>0.18517500162124634</td><td>0.3070339858531952</td><td>24.71780014038086</td><td>0.3696199953556061</td><td>0.03629760071635246</td><td>0.12352599948644638</td><td>0.14323900640010834</td><td>0.06257960200309753</td><td>26.00979995727539</td><td>0.47434699535369873</td><td>nan</td><td>nan</td><td>nan</td><td>nan</td><td>0.0</td><td>0.34989601373672485</td><td>nan</td><td>nan</td><td>0.0</td><td>1.0869799852371216</td><td>nan</td><td>nan</td><td>1.0768625736236572</td><td>0.09139914065599442</td><td>False</td><td>nan</td><td>-139.40142822265625</td><td>1.6467949151992798</td><td>0.04093780368566513</td><td>False</td><td>24.8543701171875</td><td>0.12220136821269989</td><td>nan</td><td>nan</td><td>False</td><td>nan</td><td>nan</td><td>0.2914201021194458</td><td>0.06356649100780487</td><td>False</td><td>26.85382843017578</td><td>1.1308729648590088</td><td>0.13370870053768158</td><td>0.02201015315949917</td><td>False</td><td>29.98725128173828</td><td>5.255211353302002</td><td>0.036204300820827484</td><td>0.02083660289645195</td><td>False</td><td>31.163253784179688</td><td>9.841161727905273</td><td>0.11301072686910629</td><td>0.03144470229744911</td><td>False</td><td>nan</td><td>-1.1615331172943115</td><td>0.16848456859588623</td><td>0.04918275400996208</td><td>False</td><td>nan</td><td>-1.7981517314910889</td><td>0.18571193516254425</td><td>0.029597291722893715</td><td>False</td><td>nan</td><td>-1.1249998807907104</td><td>0.45839473605155945</td><td>0.11481313407421112</td><td>False</td><td>27.077255249023438</td><td>3.0171005725860596</td><td>0.058419737964868546</td><td>0.04818512499332428</td><td>False</td><td>nan</td><td>-1.7103378772735596</td><td>0.1261710673570633</td><td>0.05606052652001381</td><td>False</td><td>nan</td><td>-2.5738580226898193</td><td>0.12476128339767456</td><td>0.05509307608008385</td><td>False</td><td>nan</td><td>-20.368532180786133</td><td>0.05573390796780586</td><td>0.06894461065530777</td><td>False</td><td>27.89252471923828</td><td>1.4726662635803223</td><td>0.22723731398582458</td><td>0.07500945776700974</td><td>False</td><td>nan</td><td>-1.9228036403656006</td><td>0.0926658883690834</td><td>0.09421015530824661</td><td>False</td><td>nan</td><td>nan</td><td>nan</td><td>nan</td><td>False</td><td>nan</td><td>nan</td><td>0.062178485095500946</td><td>0.05554609373211861</td><td>False</td><td>28.955001831054688</td><td>3.754854440689087</td><td>0.09919276088476181</td><td>0.06344689428806305</td><td>False</td><td>26.568572998046875</td><td>0.49863874912261963</td><td>0.35156047344207764</td><td>0.07814342528581619</td><td>False</td><td>27.587173461914062</td><td>1.4364149570465088</td><td>0.47854217886924744</td><td>0.0716409757733345</td><td>False</td><td>nan</td><td>-2.193993091583252</td><td>0.14698727428913116</td><td>0.06860896944999695</td><td>False</td><td>28.706199645996094</td><td>3.7610857486724854</td><td>0.0915883332490921</td><td>0.08297042548656464</td><td>False</td><td>nan</td><td>nan</td><td>0.6489924788475037</td><td>0.167247012257576</td><td>False</td><td>nan</td><td>-5.2782087326049805</td><td>0.2743090093135834</td><td>0.07221612334251404</td><td>False</td><td>27.23210906982422</td><td>1.4993319511413574</td><td>nan</td><td>nan</td><td>False</td><td>nan</td><td>nan</td><td>0.6041710376739502</td><td>0.40717774629592896</td><td>False</td><td>25.731048583984375</td><td>1.800231695175171</td><td>0.47084689140319824</td><td>0.1602916270494461</td><td>False</td><td>27.50030517578125</td><td>3.6949174404144287</td><td>False</td><td>False</td><td>False</td><td>False</td><td>False</td><td>0</td><td>False</td><td>-1</td><td>nan</td><td>nan</td><td>nan</td><td>nan</td><td>nan</td><td>nan</td><td>nan</td><td>nan</td><td>nan</td><td>nan</td><td>nan</td><td>nan</td><td>nan</td><td>nan</td><td>nan</td><td>nan</td><td>nan</td><td>nan</td><td>nan</td><td>False</td><td>nan</td><td>nan</td><td>nan</td><td>nan</td><td>False</td><td>nan</td><td>nan</td><td>False</td><td>nan</td><td>nan</td><td>False</td><td>nan</td><td>nan</td><td>False</td><td>False</td><td>0</td><td>0.0</td><td>nan</td><td>nan</td><td>nan</td><td>nan</td><td>nan</td><td>nan</td><td>nan</td><td>nan</td><td>nan</td><td>nan</td><td>nan</td><td>nan</td><td>nan</td><td>nan</td><td>nan</td><td>nan</td><td>nan</td><td>nan</td><td>nan</td><td>nan</td><td>nan</td><td>nan</td><td>nan</td><td>False</td><td>nan</td><td>nan</td><td>False</td><td>nan</td><td>nan</td><td>False</td><td>nan</td><td>nan</td><td>False</td><td>nan</td><td>nan</td><td>False</td><td>nan</td><td>nan</td><td>nan</td><td>nan</td><td>nan</td><td>nan</td><td>nan</td><td>nan</td><td>nan</td><td>nan</td><td>False</td><td>0</td><td>-1</td><td>nan</td><td>nan</td><td>nan</td><td>nan</td><td>nan</td><td>nan</td><td>nan</td><td>nan</td><td>nan</td><td>nan</td><td>nan</td><td>nan</td><td>nan</td><td>nan</td><td>False</td><td>nan</td><td>nan</td><td>False</td><td>nan</td><td>nan</td><td>False</td><td>nan</td><td>nan</td><td>nan</td><td>nan</td><td>nan</td><td>nan</td><td>nan</td><td>False</td><td>0</td><td>-1</td><td>nan</td><td>nan</td><td>nan</td><td>nan</td><td>nan</td><td>nan</td><td>nan</td><td>nan</td><td>nan</td><td>nan</td><td>nan</td><td>nan</td><td>nan</td><td>nan</td><td>nan</td><td>nan</td><td>nan</td><td>nan</td><td>nan</td><td>nan</td><td>nan</td><td>nan</td><td>nan</td><td>nan</td><td>nan</td><td>nan</td><td>nan</td><td>nan</td><td>nan</td><td>False</td><td>nan</td><td>nan</td><td>nan</td><td>nan</td><td>False</td><td>nan</td><td>nan</td><td>nan</td><td>nan</td><td>False</td><td>nan</td><td>nan</td><td>nan</td><td>nan</td><td>False</td><td>nan</td><td>nan</td><td>nan</td><td>nan</td><td>False</td><td>nan</td><td>nan</td><td>nan</td><td>nan</td><td>False</td><td>False</td><td>0</td><td>-1</td><td>nan</td><td>nan</td><td>nan</td><td>nan</td><td>nan</td><td>nan</td><td>nan</td><td>nan</td><td>nan</td><td>nan</td><td>nan</td><td>nan</td><td>nan</td><td>nan</td><td>nan</td><td>nan</td><td>nan</td><td>nan</td><td>nan</td><td>nan</td><td>nan</td><td>nan</td><td>nan</td><td>nan</td><td>nan</td><td>nan</td><td>nan</td><td>nan</td><td>nan</td><td>False</td><td>nan</td><td>nan</td><td>nan</td><td>nan</td><td>False</td><td>nan</td><td>nan</td><td>nan</td><td>nan</td><td>False</td><td>nan</td><td>nan</td><td>nan</td><td>nan</td><td>False</td><td>nan</td><td>nan</td><td>nan</td><td>nan</td><td>False</td><td>nan</td><td>nan</td><td>nan</td><td>nan</td><td>False</td><td>False</td><td>0</td><td>0.0</td><td>nan</td><td>nan</td><td>nan</td><td>nan</td><td>nan</td><td>nan</td><td>nan</td><td>nan</td><td>nan</td><td>nan</td><td>nan</td><td>nan</td><td>nan</td><td>nan</td><td>nan</td><td>nan</td><td>nan</td><td>nan</td><td>nan</td><td>False</td><td>nan</td><td>nan</td><td>False</td><td>nan</td><td>nan</td><td>False</td><td>nan</td><td>nan</td><td>False</td><td>nan</td><td>nan</td><td>nan</td><td>nan</td><td>nan</td><td>nan</td><td>nan</td><td>nan</td><td>False</td><td>0</td><td>-1</td><td>nan</td><td>nan</td><td>nan</td><td>nan</td><td>nan</td><td>nan</td><td>nan</td><td>nan</td><td>nan</td><td>nan</td><td>nan</td><td>nan</td><td>nan</td><td>nan</td><td>nan</td><td>nan</td><td>nan</td><td>nan</td><td>nan</td><td>False</td><td>nan</td><td>nan</td><td>nan</td><td>nan</td><td>False</td><td>nan</td><td>nan</td><td>nan</td><td>nan</td><td>nan</td><td>nan</td><td>False</td><td>nan</td><td>nan</td><td>nan</td><td>nan</td><td>False</td><td>False</td><td>0</td><td>-1</td><td>nan</td><td>nan</td><td>nan</td><td>nan</td><td>nan</td><td>nan</td><td>nan</td><td>nan</td><td>nan</td><td>nan</td><td>nan</td><td>nan</td><td>nan</td><td>nan</td><td>nan</td><td>nan</td><td>nan</td><td>nan</td><td>nan</td><td>nan</td><td>nan</td><td>nan</td><td>nan</td><td>nan</td><td>nan</td><td>nan</td><td>nan</td><td>nan</td><td>nan</td><td>nan</td><td>nan</td><td>nan</td><td>nan</td><td>nan</td><td>False</td><td>nan</td><td>nan</td><td>nan</td><td>nan</td><td>False</td><td>nan</td><td>nan</td><td>nan</td><td>nan</td><td>False</td><td>nan</td><td>nan</td><td>nan</td><td>nan</td><td>False</td><td>nan</td><td>nan</td><td>nan</td><td>nan</td><td>False</td><td>nan</td><td>nan</td><td>nan</td><td>nan</td><td>False</td><td>nan</td><td>nan</td><td>nan</td><td>nan</td><td>False</td><td>nan</td><td>nan</td><td>nan</td><td>nan</td><td>False</td><td>nan</td><td>nan</td><td>False</td><td>0</td><td>False</td><td>-1</td><td>nan</td><td>nan</td><td>nan</td><td>nan</td><td>nan</td><td>nan</td><td>nan</td><td>nan</td><td>nan</td><td>nan</td><td>nan</td><td>nan</td><td>nan</td><td>nan</td><td>nan</td><td>nan</td><td>nan</td><td>nan</td><td>nan</td><td>nan</td><td>nan</td><td>nan</td><td>nan</td><td>nan</td><td>False</td><td>nan</td><td>nan</td><td>nan</td><td>nan</td><td>False</td><td>nan</td><td>nan</td><td>nan</td><td>nan</td><td>False</td><td>nan</td><td>nan</td><td>nan</td><td>nan</td><td>False</td><td>nan</td><td>nan</td><td>nan</td><td>nan</td><td>False</td><td>False</td><td>0</td></tr>\n",
       "<tr><td>8</td><td>HELP_J095825.28+024722.91</td><td>COSMOS2015_J095825.28+024722.91</td><td>149.605323991903</td><td>2.7896954394515</td><td>1.0</td><td>24.891799926757812</td><td>0.4804820120334625</td><td>-0.0012573499698191881</td><td>0.14371000230312347</td><td>nan</td><td>nan</td><td>nan</td><td>nan</td><td>25.011600494384766</td><td>0.2879070043563843</td><td>0.2943649888038635</td><td>0.18665100634098053</td><td>nan</td><td>nan</td><td>0.010830000042915344</td><td>0.13997900485992432</td><td>nan</td><td>nan</td><td>-0.017782000824809074</td><td>0.02529890090227127</td><td>28.56529998779297</td><td>0.6193090081214905</td><td>0.013932500034570694</td><td>0.010006600059568882</td><td>31.792600631713867</td><td>20.278799057006836</td><td>0.0030724001117050648</td><td>0.01811249926686287</td><td>27.501800537109375</td><td>0.5967649817466736</td><td>0.033101100474596024</td><td>0.020975099876523018</td><td>27.675899505615234</td><td>0.4262180030345917</td><td>0.030699100345373154</td><td>0.014130700379610062</td><td>nan</td><td>nan</td><td>0.0064885299652814865</td><td>0.14663800597190857</td><td>25.809499740600586</td><td>0.14062899351119995</td><td>0.15000100433826447</td><td>0.03684629872441292</td><td>29.93160057067871</td><td>7.334469795227051</td><td>0.007880040444433689</td><td>0.035682499408721924</td><td>nan</td><td>nan</td><td>-0.012066599912941456</td><td>0.030326999723911285</td><td>nan</td><td>nan</td><td>-0.01838959939777851</td><td>0.03392979875206947</td><td>nan</td><td>nan</td><td>0.029273400083184242</td><td>0.05324539914727211</td><td>27.271400451660156</td><td>1.05308997631073</td><td>0.046681199222803116</td><td>0.05259409919381142</td><td>26.65060043334961</td><td>0.5370069742202759</td><td>0.03286759927868843</td><td>0.05656509846448898</td><td>nan</td><td>nan</td><td>-0.024102700874209404</td><td>0.037144798785448074</td><td>27.841699600219727</td><td>1.1036299467086792</td><td>0.005159109830856323</td><td>0.03797009959816933</td><td>26.821399688720703</td><td>0.5514510273933411</td><td>0.049783699214458466</td><td>0.044806499034166336</td><td>nan</td><td>nan</td><td>0.012224099598824978</td><td>0.04793189838528633</td><td>29.693300247192383</td><td>6.5020599365234375</td><td>0.009545629844069481</td><td>0.03977780044078827</td><td>26.11050033569336</td><td>0.28793200850486755</td><td>0.12089499831199646</td><td>0.06289739906787872</td><td>28.114700317382812</td><td>3.6974499225616455</td><td>0.02645459957420826</td><td>0.0695372000336647</td><td>27.31719970703125</td><td>0.8093860149383545</td><td>0.029327599331736565</td><td>0.06490059942007065</td><td>nan</td><td>nan</td><td>nan</td><td>nan</td><td>24.554399490356445</td><td>0.4204460084438324</td><td>0.452688992023468</td><td>0.3566330075263977</td><td>25.027000427246094</td><td>0.4429689943790436</td><td>0.2250099927186966</td><td>0.25366899371147156</td><td>0.0</td><td>0.1383489966392517</td><td>nan</td><td>nan</td><td>0.44479501247406006</td><td>0.10927899926900864</td><td>24.779600143432617</td><td>0.26674899458885193</td><td>-0.4560669958591461</td><td>0.7383729815483093</td><td>nan</td><td>nan</td><td>0.0</td><td>4.197509765625</td><td>nan</td><td>nan</td><td>0.40112531185150146</td><td>0.17751410603523254</td><td>False</td><td>nan</td><td>-124.09523010253906</td><td>nan</td><td>nan</td><td>False</td><td>nan</td><td>nan</td><td>0.3592194616794586</td><td>0.09525499492883682</td><td>False</td><td>25.227783203125</td><td>0.6884438395500183</td><td>nan</td><td>nan</td><td>False</td><td>28.813430786132812</td><td>14.033266067504883</td><td>nan</td><td>nan</td><td>False</td><td>nan</td><td>-1.5447041988372803</td><td>0.013610674999654293</td><td>0.007763592526316643</td><td>False</td><td>28.53992462158203</td><td>0.7797974348068237</td><td>0.0006965613574720919</td><td>0.013009999878704548</td><td>False</td><td>30.181312561035156</td><td>6.400662422180176</td><td>0.0362476147711277</td><td>0.019923171028494835</td><td>False</td><td>27.60039520263672</td><td>0.6879960298538208</td><td>0.03087736666202545</td><td>0.012121258303523064</td><td>False</td><td>27.68218994140625</td><td>0.4997609555721283</td><td>nan</td><td>nan</td><td>False</td><td>29.36963653564453</td><td>24.53717041015625</td><td>0.17226611077785492</td><td>0.02231261134147644</td><td>False</td><td>25.95977020263672</td><td>0.2667005956172943</td><td>0.003866868559271097</td><td>0.026121841743588448</td><td>False</td><td>29.15868377685547</td><td>4.916444301605225</td><td>nan</td><td>nan</td><td>False</td><td>nan</td><td>-2.7287821769714355</td><td>nan</td><td>nan</td><td>False</td><td>nan</td><td>-2.003241539001465</td><td>nan</td><td>nan</td><td>False</td><td>27.73381805419922</td><td>1.9748458862304688</td><td>0.04481668025255203</td><td>0.04346911981701851</td><td>False</td><td>27.227149963378906</td><td>1.2232615947723389</td><td>0.07938889414072037</td><td>0.03926588594913483</td><td>False</td><td>27.60808563232422</td><td>1.8685505390167236</td><td>nan</td><td>nan</td><td>False</td><td>nan</td><td>-1.6732336282730103</td><td>0.0265045128762722</td><td>0.02694132551550865</td><td>False</td><td>29.618568420410156</td><td>7.990818500518799</td><td>0.0678328350186348</td><td>0.0344526506960392</td><td>False</td><td>27.15728759765625</td><td>0.9771880507469177</td><td>nan</td><td>nan</td><td>False</td><td>28.681961059570312</td><td>4.257277965545654</td><td>0.004815929569303989</td><td>0.028840765357017517</td><td>False</td><td>28.95049285888672</td><td>4.524394512176514</td><td>0.13055692613124847</td><td>0.03462307155132294</td><td>False</td><td>26.19397735595703</td><td>0.5648701786994934</td><td>0.02061198465526104</td><td>0.07019364088773727</td><td>False</td><td>27.84375</td><td>2.853910207748413</td><td>0.042965516448020935</td><td>0.032029591500759125</td><td>False</td><td>27.73180389404297</td><td>2.4026830196380615</td><td>nan</td><td>nan</td><td>False</td><td>nan</td><td>nan</td><td>0.5473186373710632</td><td>0.21194645762443542</td><td>False</td><td>24.76050567626953</td><td>0.8553539514541626</td><td>0.3541600704193115</td><td>0.14449359476566315</td><td>False</td><td>25.519500732421875</td><td>1.2240238189697266</td><td>False</td><td>False</td><td>False</td><td>False</td><td>False</td><td>0</td><td>False</td><td>-1</td><td>nan</td><td>nan</td><td>nan</td><td>nan</td><td>nan</td><td>nan</td><td>nan</td><td>nan</td><td>nan</td><td>nan</td><td>nan</td><td>nan</td><td>nan</td><td>nan</td><td>nan</td><td>nan</td><td>nan</td><td>nan</td><td>nan</td><td>False</td><td>nan</td><td>nan</td><td>nan</td><td>nan</td><td>False</td><td>nan</td><td>nan</td><td>False</td><td>nan</td><td>nan</td><td>False</td><td>nan</td><td>nan</td><td>False</td><td>False</td><td>0</td><td>0.0</td><td>nan</td><td>nan</td><td>nan</td><td>nan</td><td>nan</td><td>nan</td><td>nan</td><td>nan</td><td>nan</td><td>nan</td><td>nan</td><td>nan</td><td>nan</td><td>nan</td><td>nan</td><td>nan</td><td>nan</td><td>nan</td><td>nan</td><td>nan</td><td>nan</td><td>nan</td><td>nan</td><td>False</td><td>nan</td><td>nan</td><td>False</td><td>nan</td><td>nan</td><td>False</td><td>nan</td><td>nan</td><td>False</td><td>nan</td><td>nan</td><td>False</td><td>nan</td><td>nan</td><td>nan</td><td>nan</td><td>nan</td><td>nan</td><td>nan</td><td>nan</td><td>nan</td><td>nan</td><td>False</td><td>0</td><td>-1</td><td>nan</td><td>nan</td><td>nan</td><td>nan</td><td>nan</td><td>nan</td><td>nan</td><td>nan</td><td>nan</td><td>nan</td><td>nan</td><td>nan</td><td>nan</td><td>nan</td><td>False</td><td>nan</td><td>nan</td><td>False</td><td>nan</td><td>nan</td><td>False</td><td>nan</td><td>nan</td><td>nan</td><td>nan</td><td>nan</td><td>nan</td><td>nan</td><td>False</td><td>0</td><td>-1</td><td>nan</td><td>nan</td><td>nan</td><td>nan</td><td>nan</td><td>nan</td><td>nan</td><td>nan</td><td>nan</td><td>nan</td><td>nan</td><td>nan</td><td>nan</td><td>nan</td><td>nan</td><td>nan</td><td>nan</td><td>nan</td><td>nan</td><td>nan</td><td>nan</td><td>nan</td><td>nan</td><td>nan</td><td>nan</td><td>nan</td><td>nan</td><td>nan</td><td>nan</td><td>False</td><td>nan</td><td>nan</td><td>nan</td><td>nan</td><td>False</td><td>nan</td><td>nan</td><td>nan</td><td>nan</td><td>False</td><td>nan</td><td>nan</td><td>nan</td><td>nan</td><td>False</td><td>nan</td><td>nan</td><td>nan</td><td>nan</td><td>False</td><td>nan</td><td>nan</td><td>nan</td><td>nan</td><td>False</td><td>False</td><td>0</td><td>-1</td><td>nan</td><td>nan</td><td>nan</td><td>nan</td><td>nan</td><td>nan</td><td>nan</td><td>nan</td><td>nan</td><td>nan</td><td>nan</td><td>nan</td><td>nan</td><td>nan</td><td>nan</td><td>nan</td><td>nan</td><td>nan</td><td>nan</td><td>nan</td><td>nan</td><td>nan</td><td>nan</td><td>nan</td><td>nan</td><td>nan</td><td>nan</td><td>nan</td><td>nan</td><td>False</td><td>nan</td><td>nan</td><td>nan</td><td>nan</td><td>False</td><td>nan</td><td>nan</td><td>nan</td><td>nan</td><td>False</td><td>nan</td><td>nan</td><td>nan</td><td>nan</td><td>False</td><td>nan</td><td>nan</td><td>nan</td><td>nan</td><td>False</td><td>nan</td><td>nan</td><td>nan</td><td>nan</td><td>False</td><td>False</td><td>0</td><td>0.0</td><td>nan</td><td>nan</td><td>nan</td><td>nan</td><td>nan</td><td>nan</td><td>nan</td><td>nan</td><td>nan</td><td>nan</td><td>nan</td><td>nan</td><td>nan</td><td>nan</td><td>nan</td><td>nan</td><td>nan</td><td>nan</td><td>nan</td><td>False</td><td>nan</td><td>nan</td><td>False</td><td>nan</td><td>nan</td><td>False</td><td>nan</td><td>nan</td><td>False</td><td>nan</td><td>nan</td><td>nan</td><td>nan</td><td>nan</td><td>nan</td><td>nan</td><td>nan</td><td>False</td><td>0</td><td>-1</td><td>nan</td><td>nan</td><td>nan</td><td>nan</td><td>nan</td><td>nan</td><td>nan</td><td>nan</td><td>nan</td><td>nan</td><td>nan</td><td>nan</td><td>nan</td><td>nan</td><td>nan</td><td>nan</td><td>nan</td><td>nan</td><td>nan</td><td>False</td><td>nan</td><td>nan</td><td>nan</td><td>nan</td><td>False</td><td>nan</td><td>nan</td><td>nan</td><td>nan</td><td>nan</td><td>nan</td><td>False</td><td>nan</td><td>nan</td><td>nan</td><td>nan</td><td>False</td><td>False</td><td>0</td><td>-1</td><td>nan</td><td>nan</td><td>nan</td><td>nan</td><td>nan</td><td>nan</td><td>nan</td><td>nan</td><td>nan</td><td>nan</td><td>nan</td><td>nan</td><td>nan</td><td>nan</td><td>nan</td><td>nan</td><td>nan</td><td>nan</td><td>nan</td><td>nan</td><td>nan</td><td>nan</td><td>nan</td><td>nan</td><td>nan</td><td>nan</td><td>nan</td><td>nan</td><td>nan</td><td>nan</td><td>nan</td><td>nan</td><td>nan</td><td>nan</td><td>False</td><td>nan</td><td>nan</td><td>nan</td><td>nan</td><td>False</td><td>nan</td><td>nan</td><td>nan</td><td>nan</td><td>False</td><td>nan</td><td>nan</td><td>nan</td><td>nan</td><td>False</td><td>nan</td><td>nan</td><td>nan</td><td>nan</td><td>False</td><td>nan</td><td>nan</td><td>nan</td><td>nan</td><td>False</td><td>nan</td><td>nan</td><td>nan</td><td>nan</td><td>False</td><td>nan</td><td>nan</td><td>nan</td><td>nan</td><td>False</td><td>nan</td><td>nan</td><td>False</td><td>0</td><td>False</td><td>-1</td><td>nan</td><td>nan</td><td>nan</td><td>nan</td><td>nan</td><td>nan</td><td>nan</td><td>nan</td><td>nan</td><td>nan</td><td>nan</td><td>nan</td><td>nan</td><td>nan</td><td>nan</td><td>nan</td><td>nan</td><td>nan</td><td>nan</td><td>nan</td><td>nan</td><td>nan</td><td>nan</td><td>nan</td><td>False</td><td>nan</td><td>nan</td><td>nan</td><td>nan</td><td>False</td><td>nan</td><td>nan</td><td>nan</td><td>nan</td><td>False</td><td>nan</td><td>nan</td><td>nan</td><td>nan</td><td>False</td><td>nan</td><td>nan</td><td>nan</td><td>nan</td><td>False</td><td>False</td><td>0</td></tr>\n",
       "<tr><td>9</td><td>HELP_J100154.84+020628.04</td><td>COSMOS2015_J100154.84+020628.04</td><td>150.478458691686</td><td>2.1077854526048103</td><td>1.0</td><td>25.035999298095703</td><td>0.23545700311660767</td><td>-0.00030819998937658966</td><td>0.03476019948720932</td><td>nan</td><td>nan</td><td>0.08508999645709991</td><td>0.04862760007381439</td><td>26.249099731445312</td><td>0.763034999370575</td><td>0.06652569770812988</td><td>0.10621599853038788</td><td>nan</td><td>nan</td><td>0.019316399469971657</td><td>0.07231739908456802</td><td>nan</td><td>nan</td><td>-0.004923809785395861</td><td>0.016114600002765656</td><td>nan</td><td>nan</td><td>-0.0073474799282848835</td><td>0.00969650037586689</td><td>nan</td><td>nan</td><td>nan</td><td>nan</td><td>nan</td><td>nan</td><td>-0.006511160172522068</td><td>0.021082300692796707</td><td>28.953399658203125</td><td>2.484339952468872</td><td>0.004510439932346344</td><td>0.0138349998742342</td><td>25.567399978637695</td><td>0.4667159914970398</td><td>0.03285469859838486</td><td>0.1550550013780594</td><td>nan</td><td>nan</td><td>0.03178200125694275</td><td>0.03601429983973503</td><td>26.41900062561035</td><td>0.4519430100917816</td><td>0.01083150040358305</td><td>0.031428299844264984</td><td>nan</td><td>nan</td><td>nan</td><td>nan</td><td>nan</td><td>nan</td><td>0.012414599768817425</td><td>0.03443190082907677</td><td>25.226299285888672</td><td>0.21817399561405182</td><td>0.10095000267028809</td><td>0.05498350039124489</td><td>nan</td><td>nan</td><td>0.005276429932564497</td><td>0.045866601169109344</td><td>nan</td><td>nan</td><td>-0.018124600872397423</td><td>0.05750240013003349</td><td>nan</td><td>nan</td><td>nan</td><td>nan</td><td>nan</td><td>nan</td><td>0.013475799933075905</td><td>0.03852749988436699</td><td>nan</td><td>nan</td><td>-0.040499698370695114</td><td>0.04198069870471954</td><td>30.243799209594727</td><td>19.240999221801758</td><td>-0.018841300159692764</td><td>0.045609500259160995</td><td>nan</td><td>nan</td><td>-0.02988320030272007</td><td>0.04068180173635483</td><td>nan</td><td>nan</td><td>-0.017823699861764908</td><td>0.0660225972533226</td><td>27.582199096679688</td><td>4.148960113525391</td><td>0.03416689857840538</td><td>0.07164239883422852</td><td>nan</td><td>nan</td><td>0.01638999953866005</td><td>0.06419520080089569</td><td>23.704599380493164</td><td>0.2511419951915741</td><td>0.09447640180587769</td><td>0.2620150148868561</td><td>23.725099563598633</td><td>0.2842470109462738</td><td>-0.08578349649906158</td><td>0.2917349934577942</td><td>25.2273006439209</td><td>0.4381519854068756</td><td>0.10212499648332596</td><td>0.11827000230550766</td><td>nan</td><td>nan</td><td>nan</td><td>nan</td><td>0.10468100011348724</td><td>0.043459899723529816</td><td>26.350299835205078</td><td>0.450762003660202</td><td>0.0</td><td>2.6039299964904785</td><td>nan</td><td>nan</td><td>0.0</td><td>2.4087400436401367</td><td>nan</td><td>nan</td><td>0.3512367308139801</td><td>0.07617057114839554</td><td>False</td><td>nan</td><td>-122.45426177978516</td><td>nan</td><td>nan</td><td>False</td><td>26.57530975341797</td><td>0.6204812526702881</td><td>0.1149105653166771</td><td>0.08075698465108871</td><td>False</td><td>26.84252166748047</td><td>1.7335036993026733</td><td>nan</td><td>nan</td><td>False</td><td>28.18518829345703</td><td>4.064816474914551</td><td>nan</td><td>nan</td><td>False</td><td>nan</td><td>-3.553387403488159</td><td>nan</td><td>nan</td><td>False</td><td>nan</td><td>-1.4328505992889404</td><td>nan</td><td>nan</td><td>False</td><td>nan</td><td>nan</td><td>nan</td><td>nan</td><td>False</td><td>nan</td><td>-3.515474319458008</td><td>0.009520057588815689</td><td>0.021783430129289627</td><td>False</td><td>29.76445770263672</td><td>3.3303091526031494</td><td>0.2152978926897049</td><td>0.09254823625087738</td><td>False</td><td>27.608505249023438</td><td>5.1240410804748535</td><td>nan</td><td>nan</td><td>False</td><td>27.644546508789062</td><td>1.230319857597351</td><td>0.09826519340276718</td><td>0.04090336710214615</td><td>False</td><td>28.813278198242188</td><td>3.150333881378174</td><td>nan</td><td>nan</td><td>False</td><td>nan</td><td>nan</td><td>nan</td><td>nan</td><td>False</td><td>28.66516876220703</td><td>3.0112898349761963</td><td>0.2947677969932556</td><td>0.05923231691122055</td><td>False</td><td>26.389732360839844</td><td>0.5913577675819397</td><td>nan</td><td>nan</td><td>False</td><td>29.594154357910156</td><td>9.43801498413086</td><td>nan</td><td>nan</td><td>False</td><td>nan</td><td>-3.4446239471435547</td><td>nan</td><td>nan</td><td>False</td><td>nan</td><td>nan</td><td>nan</td><td>nan</td><td>False</td><td>28.57611846923828</td><td>3.1041347980499268</td><td>nan</td><td>nan</td><td>False</td><td>nan</td><td>-1.1254395246505737</td><td>0.0029005513060837984</td><td>0.05140245705842972</td><td>False</td><td>nan</td><td>-2.628262519836426</td><td>nan</td><td>nan</td><td>False</td><td>nan</td><td>-1.4780781269073486</td><td>nan</td><td>nan</td><td>False</td><td>nan</td><td>-4.021786689758301</td><td>0.033660467714071274</td><td>0.12862788140773773</td><td>False</td><td>27.56598663330078</td><td>2.276611089706421</td><td>nan</td><td>nan</td><td>False</td><td>28.363555908203125</td><td>4.252535343170166</td><td>1.197182297706604</td><td>0.2769206464290619</td><td>False</td><td>26.461692810058594</td><td>3.0111136436462402</td><td>1.1747896671295166</td><td>0.30756130814552307</td><td>False</td><td>nan</td><td>-3.6924030780792236</td><td>0.2944960594177246</td><td>0.11884474009275436</td><td>False</td><td>26.377174377441406</td><td>1.2573809623718262</td><td>False</td><td>False</td><td>False</td><td>False</td><td>False</td><td>0</td><td>False</td><td>-1</td><td>nan</td><td>nan</td><td>nan</td><td>nan</td><td>nan</td><td>nan</td><td>nan</td><td>nan</td><td>nan</td><td>nan</td><td>nan</td><td>nan</td><td>nan</td><td>nan</td><td>nan</td><td>nan</td><td>nan</td><td>nan</td><td>nan</td><td>False</td><td>nan</td><td>nan</td><td>nan</td><td>nan</td><td>False</td><td>nan</td><td>nan</td><td>False</td><td>nan</td><td>nan</td><td>False</td><td>nan</td><td>nan</td><td>False</td><td>False</td><td>0</td><td>0.0</td><td>nan</td><td>nan</td><td>nan</td><td>nan</td><td>nan</td><td>nan</td><td>nan</td><td>nan</td><td>nan</td><td>nan</td><td>nan</td><td>nan</td><td>nan</td><td>nan</td><td>nan</td><td>nan</td><td>nan</td><td>nan</td><td>nan</td><td>nan</td><td>nan</td><td>nan</td><td>nan</td><td>False</td><td>nan</td><td>nan</td><td>False</td><td>nan</td><td>nan</td><td>False</td><td>nan</td><td>nan</td><td>False</td><td>nan</td><td>nan</td><td>False</td><td>nan</td><td>nan</td><td>nan</td><td>nan</td><td>nan</td><td>nan</td><td>nan</td><td>nan</td><td>nan</td><td>nan</td><td>False</td><td>0</td><td>-1</td><td>nan</td><td>nan</td><td>nan</td><td>nan</td><td>nan</td><td>nan</td><td>nan</td><td>nan</td><td>nan</td><td>nan</td><td>nan</td><td>nan</td><td>nan</td><td>nan</td><td>False</td><td>nan</td><td>nan</td><td>False</td><td>nan</td><td>nan</td><td>False</td><td>nan</td><td>nan</td><td>nan</td><td>nan</td><td>nan</td><td>nan</td><td>nan</td><td>False</td><td>0</td><td>-1</td><td>nan</td><td>nan</td><td>nan</td><td>nan</td><td>nan</td><td>nan</td><td>nan</td><td>nan</td><td>nan</td><td>nan</td><td>nan</td><td>nan</td><td>nan</td><td>nan</td><td>nan</td><td>nan</td><td>nan</td><td>nan</td><td>nan</td><td>nan</td><td>nan</td><td>nan</td><td>nan</td><td>nan</td><td>nan</td><td>nan</td><td>nan</td><td>nan</td><td>nan</td><td>False</td><td>nan</td><td>nan</td><td>nan</td><td>nan</td><td>False</td><td>nan</td><td>nan</td><td>nan</td><td>nan</td><td>False</td><td>nan</td><td>nan</td><td>nan</td><td>nan</td><td>False</td><td>nan</td><td>nan</td><td>nan</td><td>nan</td><td>False</td><td>nan</td><td>nan</td><td>nan</td><td>nan</td><td>False</td><td>False</td><td>0</td><td>-1</td><td>nan</td><td>nan</td><td>nan</td><td>nan</td><td>nan</td><td>nan</td><td>nan</td><td>nan</td><td>nan</td><td>nan</td><td>nan</td><td>nan</td><td>nan</td><td>nan</td><td>nan</td><td>nan</td><td>nan</td><td>nan</td><td>nan</td><td>nan</td><td>nan</td><td>nan</td><td>nan</td><td>nan</td><td>nan</td><td>nan</td><td>nan</td><td>nan</td><td>nan</td><td>False</td><td>nan</td><td>nan</td><td>nan</td><td>nan</td><td>False</td><td>nan</td><td>nan</td><td>nan</td><td>nan</td><td>False</td><td>nan</td><td>nan</td><td>nan</td><td>nan</td><td>False</td><td>nan</td><td>nan</td><td>nan</td><td>nan</td><td>False</td><td>nan</td><td>nan</td><td>nan</td><td>nan</td><td>False</td><td>False</td><td>0</td><td>0.0</td><td>nan</td><td>nan</td><td>nan</td><td>nan</td><td>nan</td><td>nan</td><td>nan</td><td>nan</td><td>nan</td><td>nan</td><td>nan</td><td>nan</td><td>nan</td><td>nan</td><td>nan</td><td>nan</td><td>nan</td><td>nan</td><td>nan</td><td>False</td><td>nan</td><td>nan</td><td>False</td><td>nan</td><td>nan</td><td>False</td><td>nan</td><td>nan</td><td>False</td><td>nan</td><td>nan</td><td>nan</td><td>nan</td><td>nan</td><td>nan</td><td>nan</td><td>nan</td><td>False</td><td>0</td><td>-1</td><td>nan</td><td>nan</td><td>nan</td><td>nan</td><td>nan</td><td>nan</td><td>nan</td><td>nan</td><td>nan</td><td>nan</td><td>nan</td><td>nan</td><td>nan</td><td>nan</td><td>nan</td><td>nan</td><td>nan</td><td>nan</td><td>nan</td><td>False</td><td>nan</td><td>nan</td><td>nan</td><td>nan</td><td>False</td><td>nan</td><td>nan</td><td>nan</td><td>nan</td><td>nan</td><td>nan</td><td>False</td><td>nan</td><td>nan</td><td>nan</td><td>nan</td><td>False</td><td>False</td><td>0</td><td>-1</td><td>nan</td><td>nan</td><td>nan</td><td>nan</td><td>nan</td><td>nan</td><td>nan</td><td>nan</td><td>nan</td><td>nan</td><td>nan</td><td>nan</td><td>nan</td><td>nan</td><td>nan</td><td>nan</td><td>nan</td><td>nan</td><td>nan</td><td>nan</td><td>nan</td><td>nan</td><td>nan</td><td>nan</td><td>nan</td><td>nan</td><td>nan</td><td>nan</td><td>nan</td><td>nan</td><td>nan</td><td>nan</td><td>nan</td><td>nan</td><td>False</td><td>nan</td><td>nan</td><td>nan</td><td>nan</td><td>False</td><td>nan</td><td>nan</td><td>nan</td><td>nan</td><td>False</td><td>nan</td><td>nan</td><td>nan</td><td>nan</td><td>False</td><td>nan</td><td>nan</td><td>nan</td><td>nan</td><td>False</td><td>nan</td><td>nan</td><td>nan</td><td>nan</td><td>False</td><td>nan</td><td>nan</td><td>nan</td><td>nan</td><td>False</td><td>nan</td><td>nan</td><td>nan</td><td>nan</td><td>False</td><td>nan</td><td>nan</td><td>False</td><td>0</td><td>False</td><td>-1</td><td>nan</td><td>nan</td><td>nan</td><td>nan</td><td>nan</td><td>nan</td><td>nan</td><td>nan</td><td>nan</td><td>nan</td><td>nan</td><td>nan</td><td>nan</td><td>nan</td><td>nan</td><td>nan</td><td>nan</td><td>nan</td><td>nan</td><td>nan</td><td>nan</td><td>nan</td><td>nan</td><td>nan</td><td>False</td><td>nan</td><td>nan</td><td>nan</td><td>nan</td><td>False</td><td>nan</td><td>nan</td><td>nan</td><td>nan</td><td>False</td><td>nan</td><td>nan</td><td>nan</td><td>nan</td><td>False</td><td>nan</td><td>nan</td><td>nan</td><td>nan</td><td>False</td><td>False</td><td>0</td></tr>\n",
       "</table><style>table.dataTable {clear: both; width: auto !important; margin: 0 !important;}\n",
       ".dataTables_info, .dataTables_length, .dataTables_filter, .dataTables_paginate{\n",
       "display: inline-block; margin-right: 1em; }\n",
       ".paginate_button { margin-right: 5px; }\n",
       "</style>\n",
       "<script>\n",
       "\n",
       "var astropy_sort_num = function(a, b) {\n",
       "    var a_num = parseFloat(a);\n",
       "    var b_num = parseFloat(b);\n",
       "\n",
       "    if (isNaN(a_num) && isNaN(b_num))\n",
       "        return ((a < b) ? -1 : ((a > b) ? 1 : 0));\n",
       "    else if (!isNaN(a_num) && !isNaN(b_num))\n",
       "        return ((a_num < b_num) ? -1 : ((a_num > b_num) ? 1 : 0));\n",
       "    else\n",
       "        return isNaN(a_num) ? -1 : 1;\n",
       "}\n",
       "\n",
       "require.config({paths: {\n",
       "    datatables: 'https://cdn.datatables.net/1.10.12/js/jquery.dataTables.min'\n",
       "}});\n",
       "require([\"datatables\"], function(){\n",
       "    console.log(\"$('#table140433137161944-424563').dataTable()\");\n",
       "    \n",
       "jQuery.extend( jQuery.fn.dataTableExt.oSort, {\n",
       "    \"optionalnum-asc\": astropy_sort_num,\n",
       "    \"optionalnum-desc\": function (a,b) { return -astropy_sort_num(a, b); }\n",
       "});\n",
       "\n",
       "    $('#table140433137161944-424563').dataTable({\n",
       "        order: [],\n",
       "        pageLength: 50,\n",
       "        lengthMenu: [[10, 25, 50, 100, 500, 1000, -1], [10, 25, 50, 100, 500, 1000, 'All']],\n",
       "        pagingType: \"full_numbers\",\n",
       "        columnDefs: [{targets: [0, 3, 4, 5, 6, 7, 8, 9, 10, 11, 12, 13, 14, 15, 16, 17, 18, 19, 20, 21, 22, 23, 24, 25, 26, 27, 28, 29, 30, 31, 32, 33, 34, 35, 36, 37, 38, 39, 40, 41, 42, 43, 44, 45, 46, 47, 48, 49, 50, 51, 52, 53, 54, 55, 56, 57, 58, 59, 60, 61, 62, 63, 64, 65, 66, 67, 68, 69, 70, 71, 72, 73, 74, 75, 76, 77, 78, 79, 80, 81, 82, 83, 84, 85, 86, 87, 88, 89, 90, 91, 92, 93, 94, 95, 96, 97, 98, 99, 100, 101, 102, 103, 104, 105, 106, 107, 108, 109, 110, 111, 112, 113, 114, 115, 116, 117, 118, 119, 120, 121, 122, 123, 124, 125, 126, 127, 128, 129, 130, 131, 132, 133, 134, 135, 137, 138, 139, 140, 142, 143, 144, 145, 147, 148, 149, 150, 152, 153, 154, 155, 157, 158, 159, 160, 162, 163, 164, 165, 167, 168, 169, 170, 172, 173, 174, 175, 177, 178, 179, 180, 182, 183, 184, 185, 187, 188, 189, 190, 192, 193, 194, 195, 197, 198, 199, 200, 202, 203, 204, 205, 207, 208, 209, 210, 212, 213, 214, 215, 217, 218, 219, 220, 222, 223, 224, 225, 227, 228, 229, 230, 232, 233, 234, 235, 237, 238, 239, 240, 242, 243, 244, 245, 247, 248, 249, 250, 252, 253, 254, 255, 257, 258, 259, 260, 262, 263, 264, 265, 267, 268, 269, 270, 272, 273, 279, 281, 282, 283, 284, 285, 286, 287, 288, 289, 290, 291, 292, 293, 294, 295, 296, 297, 298, 299, 300, 302, 303, 304, 305, 307, 308, 310, 311, 313, 314, 317, 319, 320, 321, 322, 323, 324, 325, 326, 327, 328, 329, 330, 331, 332, 333, 334, 335, 336, 337, 338, 339, 340, 341, 343, 344, 346, 347, 349, 350, 352, 353, 355, 356, 357, 358, 359, 360, 361, 362, 363, 364, 366, 367, 368, 369, 370, 371, 372, 373, 374, 375, 376, 377, 378, 379, 380, 381, 383, 384, 386, 387, 389, 390, 391, 392, 393, 394, 395, 397, 398, 399, 400, 401, 402, 403, 404, 405, 406, 407, 408, 409, 410, 411, 412, 413, 414, 415, 416, 417, 418, 419, 420, 421, 422, 423, 424, 425, 426, 427, 429, 430, 431, 432, 434, 435, 436, 437, 439, 440, 441, 442, 444, 445, 446, 447, 449, 450, 451, 452, 455, 456, 457, 458, 459, 460, 461, 462, 463, 464, 465, 466, 467, 468, 469, 470, 471, 472, 473, 474, 475, 476, 477, 478, 479, 480, 481, 482, 483, 484, 485, 487, 488, 489, 490, 492, 493, 494, 495, 497, 498, 499, 500, 502, 503, 504, 505, 507, 508, 509, 510, 513, 515, 516, 517, 518, 519, 520, 521, 522, 523, 524, 525, 526, 527, 528, 529, 530, 531, 532, 533, 535, 536, 538, 539, 541, 542, 544, 545, 546, 547, 548, 549, 550, 551, 553, 554, 555, 556, 557, 558, 559, 560, 561, 562, 563, 564, 565, 566, 567, 568, 569, 570, 571, 572, 573, 575, 576, 577, 578, 580, 581, 582, 583, 584, 585, 587, 588, 589, 590, 593, 594, 595, 596, 597, 598, 599, 600, 601, 602, 603, 604, 605, 606, 607, 608, 609, 610, 611, 612, 613, 614, 615, 616, 617, 618, 619, 620, 621, 622, 623, 624, 625, 626, 627, 628, 630, 631, 632, 633, 635, 636, 637, 638, 640, 641, 642, 643, 645, 646, 647, 648, 650, 651, 652, 653, 655, 656, 657, 658, 660, 661, 662, 663, 665, 666, 668, 670, 671, 672, 673, 674, 675, 676, 677, 678, 679, 680, 681, 682, 683, 684, 685, 686, 687, 688, 689, 690, 691, 692, 693, 694, 696, 697, 698, 699, 701, 702, 703, 704, 706, 707, 708, 709, 711, 712, 713, 714, 717], type: \"optionalnum\"}]\n",
       "    });\n",
       "});\n",
       "</script>\n"
      ],
      "text/plain": [
       "<IPython.core.display.HTML object>"
      ]
     },
     "execution_count": 26,
     "metadata": {},
     "output_type": "execute_result"
    }
   ],
   "source": [
    "master_catalogue[:10].show_in_notebook()"
   ]
  },
  {
   "cell_type": "markdown",
   "metadata": {
    "deletable": true,
    "editable": true
   },
   "source": [
    "## III - Merging flags and stellarity\n",
    "\n",
    "Each pristine catalogue contains a flag indicating if the source was associated to a another nearby source that was removed during the cleaning process.  We merge these flags in a single one."
   ]
  },
  {
   "cell_type": "code",
   "execution_count": 27,
   "metadata": {
    "collapsed": true,
    "deletable": true,
    "editable": true
   },
   "outputs": [],
   "source": [
    "flag_cleaned_columns = [column for column in master_catalogue.colnames\n",
    "                        if 'flag_cleaned' in column]\n",
    "\n",
    "flag_column = np.zeros(len(master_catalogue), dtype=bool)\n",
    "for column in flag_cleaned_columns:\n",
    "    flag_column |= master_catalogue[column]\n",
    "    \n",
    "master_catalogue.add_column(Column(data=flag_column, name=\"flag_cleaned\"))\n",
    "master_catalogue.remove_columns(flag_cleaned_columns)"
   ]
  },
  {
   "cell_type": "markdown",
   "metadata": {
    "deletable": true,
    "editable": true
   },
   "source": [
    "Wirds was created with a merge so contains a flag to be merged with the merg flag produced here"
   ]
  },
  {
   "cell_type": "code",
   "execution_count": 28,
   "metadata": {
    "collapsed": true,
    "deletable": true,
    "editable": true
   },
   "outputs": [],
   "source": [
    "# master_catalogue['flag_merged'] |= master_catalogue['wirds_flag_merged']\n",
    "# master_catalogue.remove_columns('wirds_flag_merged')"
   ]
  },
  {
   "cell_type": "markdown",
   "metadata": {
    "deletable": true,
    "editable": true
   },
   "source": [
    "Each pristine catalogue contains a flag indicating the probability of a source being a Gaia object (0: not a Gaia object, 1: possibly, 2: probably, 3: definitely).  We merge these flags taking the highest value."
   ]
  },
  {
   "cell_type": "code",
   "execution_count": 29,
   "metadata": {
    "collapsed": true,
    "deletable": true,
    "editable": true
   },
   "outputs": [],
   "source": [
    "flag_gaia_columns = [column for column in master_catalogue.colnames\n",
    "                     if 'flag_gaia' in column]\n",
    "\n",
    "master_catalogue.add_column(Column(\n",
    "    data=np.max([master_catalogue[column] for column in flag_gaia_columns], axis=0),\n",
    "    name=\"flag_gaia\"\n",
    "))\n",
    "master_catalogue.remove_columns(flag_gaia_columns)"
   ]
  },
  {
   "cell_type": "markdown",
   "metadata": {
    "deletable": true,
    "editable": true
   },
   "source": [
    "Each prisitine catalogue may contain one or several stellarity columns indicating the probability (0 to 1) of each source being a star.  We merge these columns taking the highest value."
   ]
  },
  {
   "cell_type": "code",
   "execution_count": 30,
   "metadata": {
    "collapsed": false,
    "deletable": true,
    "editable": true
   },
   "outputs": [
    {
     "name": "stdout",
     "output_type": "stream",
     "text": [
      "cosmos_stellarity, candels_stellarity, cfhtls_stellarity, decals_stellarity, hsc-udeep_stellarity, hsc-deep_stellarity, kids_stellarity, las_stellarity\n"
     ]
    }
   ],
   "source": [
    "stellarity_columns = [column for column in master_catalogue.colnames\n",
    "                      if 'stellarity' in column]\n",
    "\n",
    "print(\", \".join(stellarity_columns))"
   ]
  },
  {
   "cell_type": "code",
   "execution_count": 31,
   "metadata": {
    "collapsed": true,
    "deletable": true,
    "editable": true
   },
   "outputs": [],
   "source": [
    "\n",
    "# We create an masked array with all the stellarities and get the maximum value, as well as its\n",
    "# origin.  Some sources may not have an associated stellarity.\n",
    "stellarity_array = np.array([master_catalogue[column] for column in stellarity_columns])\n",
    "stellarity_array = np.ma.masked_array(stellarity_array, np.isnan(stellarity_array))\n",
    "\n",
    "max_stellarity = np.max(stellarity_array, axis=0)\n",
    "max_stellarity.fill_value = np.nan\n",
    "\n",
    "no_stellarity_mask = max_stellarity.mask\n",
    "\n",
    "master_catalogue.add_column(Column(data=max_stellarity.filled(), name=\"stellarity\"))\n",
    "\n",
    "stellarity_origin = np.full(len(master_catalogue), \"NO_INFORMATION\", dtype=\"S20\")\n",
    "stellarity_origin[~no_stellarity_mask] = np.array(stellarity_columns)[np.argmax(stellarity_array, axis=0)[~no_stellarity_mask]]\n",
    "\n",
    "master_catalogue.add_column(Column(data=stellarity_origin, name=\"stellarity_origin\"))\n",
    "\n",
    "master_catalogue.remove_columns(stellarity_columns)"
   ]
  },
  {
   "cell_type": "markdown",
   "metadata": {
    "deletable": true,
    "editable": true
   },
   "source": [
    "## IV - Adding E(B-V) column"
   ]
  },
  {
   "cell_type": "code",
   "execution_count": 32,
   "metadata": {
    "collapsed": true,
    "deletable": true,
    "editable": true
   },
   "outputs": [],
   "source": [
    "master_catalogue.add_column(\n",
    "    ebv(master_catalogue['ra'], master_catalogue['dec'])\n",
    ")"
   ]
  },
  {
   "cell_type": "markdown",
   "metadata": {
    "deletable": true,
    "editable": true
   },
   "source": [
    "## V a - Adding HELP unique identifiers and field columns\n",
    "\n",
    "First we make a help_id column using the old values where we have them"
   ]
  },
  {
   "cell_type": "code",
   "execution_count": 33,
   "metadata": {
    "collapsed": true,
    "deletable": true,
    "editable": true
   },
   "outputs": [],
   "source": [
    "#master_catalogue.add_column(Column(gen_help_id(master_catalogue['ra'], master_catalogue['dec']),\n",
    "#                                   name=\"help_id\"))\n",
    "#Use HELP ids from original cat to make sure they are identical\n",
    "\n",
    "master_catalogue['help_id'] = master_catalogue['help_id'].astype('S27')\n",
    "master_catalogue.add_column(Column(gen_help_id(master_catalogue['ra'], master_catalogue['dec']),\n",
    "                                   name=\"help_id_temp\"))\n",
    "mask = (master_catalogue['help_id'] == '-1') | (master_catalogue['help_id'] == '')\n",
    "master_catalogue['help_id'][mask] = master_catalogue['help_id_temp'][mask]\n",
    "master_catalogue.remove_column('help_id_temp')\n",
    "\n",
    "master_catalogue.add_column(Column(np.full(len(master_catalogue), \"COSMOS\", dtype='<U18'),\n",
    "                                   name=\"field\"))"
   ]
  },
  {
   "cell_type": "code",
   "execution_count": 34,
   "metadata": {
    "collapsed": false,
    "deletable": true,
    "editable": true
   },
   "outputs": [
    {
     "name": "stdout",
     "output_type": "stream",
     "text": [
      "The HELP IDs are not unique!!!\n"
     ]
    }
   ],
   "source": [
    "# Check that the HELP Ids are unique\n",
    "if len(master_catalogue) != len(np.unique(master_catalogue['help_id'])):\n",
    "    print(\"The HELP IDs are not unique!!!\")\n",
    "else:\n",
    "    print(\"OK!\")"
   ]
  },
  {
   "cell_type": "markdown",
   "metadata": {
    "deletable": true,
    "editable": true
   },
   "source": [
    "We now make a second help_id column using only the new naming convention but keeping the old column to permit joining in the old products"
   ]
  },
  {
   "cell_type": "code",
   "execution_count": 35,
   "metadata": {
    "collapsed": true,
    "deletable": true,
    "editable": true
   },
   "outputs": [],
   "source": [
    "master_catalogue['help_id'].name = 'old_help_id'\n",
    "master_catalogue.add_column(Column(gen_help_id(master_catalogue['ra'], master_catalogue['dec']),\n",
    "                                   name=\"help_id\"))"
   ]
  },
  {
   "cell_type": "code",
   "execution_count": 36,
   "metadata": {
    "collapsed": true,
    "deletable": true,
    "editable": true
   },
   "outputs": [
    {
     "name": "stdout",
     "output_type": "stream",
     "text": [
      "OK!\n"
     ]
    }
   ],
   "source": [
    "# Check that the HELP Ids are unique\n",
    "if len(master_catalogue) != len(np.unique(master_catalogue['help_id'])):\n",
    "    print(\"The HELP IDs are not unique!!!\")\n",
    "else:\n",
    "    print(\"OK!\")"
   ]
  },
  {
   "cell_type": "markdown",
   "metadata": {
    "deletable": true,
    "editable": true
   },
   "source": [
    "## V b - Adding spec-z"
   ]
  },
  {
   "cell_type": "code",
   "execution_count": 37,
   "metadata": {
    "collapsed": true,
    "deletable": true,
    "editable": true
   },
   "outputs": [],
   "source": [
    "specz =  Table.read(\"../../dmu23/dmu23_COSMOS/data/COSMOS-specz-v2.5-public_helpcoverage_helpid_20160512.fits\")"
   ]
  },
  {
   "cell_type": "code",
   "execution_count": 38,
   "metadata": {
    "collapsed": false,
    "deletable": true,
    "editable": true
   },
   "outputs": [
    {
     "data": {
      "image/png": "[encoded data removed]",
      "text/plain": [
       "<Figure size 432x288 with 1 Axes>"
      ]
     },
     "metadata": {
      "needs_background": "light"
     },
     "output_type": "display_data"
    }
   ],
   "source": [
    "nb_merge_dist_plot(\n",
    "    SkyCoord(master_catalogue['ra'], master_catalogue['dec']),\n",
    "    SkyCoord(specz['ra'] * u.deg, specz['dec'] * u.deg)\n",
    ")"
   ]
  },
  {
   "cell_type": "code",
   "execution_count": 39,
   "metadata": {
    "collapsed": true,
    "deletable": true,
    "editable": true
   },
   "outputs": [],
   "source": [
    "master_catalogue = specz_merge(master_catalogue, specz, radius=1. * u.arcsec)"
   ]
  },
  {
   "cell_type": "markdown",
   "metadata": {
    "deletable": true,
    "editable": true
   },
   "source": [
    "## VI - Choosing between multiple values for the same filter\n",
    "\n",
    "### VI.a HSC-DEEP and HSC-UDEEP and COSMOS\n",
    "\n",
    "On COSMOS2015 we have early HSC y band photometry. To ensure values are the same as for the original run, we take fluxes in this order: COSMOS, HSC-DEEP, HSC-UDEEP."
   ]
  },
  {
   "cell_type": "code",
   "execution_count": 40,
   "metadata": {
    "collapsed": true,
    "deletable": true,
    "editable": true
   },
   "outputs": [],
   "source": [
    "suprime_origin = Table()\n",
    "suprime_origin.add_column(master_catalogue['help_id'])"
   ]
  },
  {
   "cell_type": "code",
   "execution_count": 41,
   "metadata": {
    "collapsed": true,
    "deletable": true,
    "editable": true
   },
   "outputs": [],
   "source": [
    "suprime_stats = Table()\n",
    "suprime_stats.add_column(Column(data=['g','r','i','z','y', 'n921'], name=\"Band\"))\n",
    "for col in [\"HSC-UDEEP\",  \"HSC-DEEP\", \"COSMOS2015\"]:\n",
    "    suprime_stats.add_column(Column(data=np.full(6, 0), name=\"{}\".format(col)))\n",
    "    suprime_stats.add_column(Column(data=np.full(6, 0), name=\"use {}\".format(col)))\n",
    "    suprime_stats.add_column(Column(data=np.full(6, 0), name=\"{} ap\".format(col)))\n",
    "    suprime_stats.add_column(Column(data=np.full(6, 0), name=\"use {} ap\".format(col)))\n",
    "    "
   ]
  },
  {
   "cell_type": "code",
   "execution_count": 42,
   "metadata": {
    "collapsed": true,
    "deletable": true,
    "editable": true
   },
   "outputs": [],
   "source": [
    "suprime_bands = ['g','r','i','z','y', 'n921'] \n",
    "for band in suprime_bands:\n",
    "\n",
    "    # Suprime total flux \n",
    "    has_hsc_udeep = ~np.isnan(master_catalogue['f_hsc-udeep_' + band])\n",
    "    has_hsc_deep  = ~np.isnan(master_catalogue['f_hsc-deep_' + band])\n",
    "    if band == 'y':\n",
    "        has_cosmos = ~np.isnan(master_catalogue['f_cosmos-suprime_y'])\n",
    "    elif band != 'y':\n",
    "        has_cosmos = np.full(len(master_catalogue), False, dtype=bool)\n",
    "    \n",
    "    use_cosmos = has_cosmos\n",
    "    use_hsc_udeep = has_hsc_udeep & ~has_cosmos\n",
    "    use_hsc_deep = has_hsc_deep & ~has_hsc_udeep & ~has_cosmos\n",
    "    \n",
    " \n",
    "    f_suprime = np.full(len(master_catalogue), np.nan)\n",
    "    if band == 'y':\n",
    "        f_suprime[use_cosmos] = master_catalogue['f_cosmos-suprime_y'][use_cosmos]\n",
    "    f_suprime[use_hsc_udeep] = master_catalogue['f_hsc-udeep_' + band][use_hsc_udeep]\n",
    "    f_suprime[use_hsc_deep] = master_catalogue['f_hsc-deep_' + band][use_hsc_deep]\n",
    " \n",
    "\n",
    "    ferr_suprime = np.full(len(master_catalogue), np.nan)\n",
    "    if band == 'y':\n",
    "        ferr_suprime[use_cosmos] = master_catalogue['ferr_cosmos-suprime_y'][use_cosmos]\n",
    "    ferr_suprime[use_hsc_udeep] = master_catalogue['ferr_hsc-udeep_' + band][use_hsc_udeep]\n",
    "    ferr_suprime[use_hsc_deep] = master_catalogue['ferr_hsc-deep_' + band][use_hsc_deep]\n",
    "\n",
    "    \n",
    "    m_suprime = np.full(len(master_catalogue), np.nan)\n",
    "    if band == 'y':\n",
    "        m_suprime[use_cosmos] = master_catalogue['m_cosmos-suprime_y'][use_cosmos]\n",
    "    m_suprime[use_hsc_udeep] = master_catalogue['m_hsc-udeep_' + band][use_hsc_udeep]\n",
    "    m_suprime[use_hsc_deep] = master_catalogue['m_hsc-deep_' + band][use_hsc_deep]\n",
    "\n",
    "\n",
    "    merr_suprime = np.full(len(master_catalogue), np.nan)\n",
    "    if band == 'y':\n",
    "        merr_suprime[use_cosmos] = master_catalogue['merr_cosmos-suprime_y'][use_cosmos]\n",
    "    merr_suprime[use_hsc_udeep] = master_catalogue['merr_hsc-udeep_' + band][use_hsc_udeep]\n",
    "    merr_suprime[use_hsc_deep] = master_catalogue['merr_hsc-deep_' + band][use_hsc_deep]\n",
    "\n",
    "\n",
    "    flag_suprime = np.full(len(master_catalogue), False, dtype=bool)\n",
    "    if band == 'y':\n",
    "        flag_suprime[use_cosmos] = master_catalogue['flag_cosmos-suprime_y'][use_cosmos]\n",
    "    flag_suprime[use_hsc_udeep] = master_catalogue['flag_hsc-udeep_' + band][use_hsc_udeep]\n",
    "    flag_suprime[use_hsc_deep] = master_catalogue['flag_hsc-deep_' + band][use_hsc_deep]\n",
    "\n",
    "\n",
    "    master_catalogue.add_column(Column(data=f_suprime, name=\"f_suprime_\" + band))\n",
    "    master_catalogue.add_column(Column(data=ferr_suprime, name=\"ferr_suprime_\" + band))\n",
    "    master_catalogue.add_column(Column(data=m_suprime, name=\"m_suprime_\" + band))\n",
    "    master_catalogue.add_column(Column(data=merr_suprime, name=\"merr_suprime_\" + band))\n",
    "    master_catalogue.add_column(Column(data=flag_suprime, name=\"flag_suprime_\" + band))\n",
    "\n",
    "    old_hsc_udeep_columns = ['f_hsc-udeep_' + band,\n",
    "                               'ferr_hsc-udeep_' + band,\n",
    "                               'm_hsc-udeep_' + band, \n",
    "                               'merr_hsc-udeep_' + band,\n",
    "                               'flag_hsc-udeep_' + band]\n",
    "    old_hsc_deep_columns = ['f_hsc-deep_' + band,\n",
    "                               'ferr_hsc-deep_' + band,\n",
    "                               'm_hsc-deep_' + band, \n",
    "                               'merr_hsc-deep_' + band,\n",
    "                               'flag_hsc-deep_' + band]\n",
    "    old_cosmos_columns = ['f_cosmos-suprime_' + band,\n",
    "                               'ferr_cosmos-suprime_' + band,\n",
    "                               'm_cosmos-suprime_' + band, \n",
    "                               'merr_cosmos-suprime_' + band,\n",
    "                               'flag_cosmos-suprime_' + band]\n",
    "    \n",
    "    old_columns = old_hsc_udeep_columns + old_hsc_deep_columns\n",
    "    if band == 'y':\n",
    "        old_columns += old_cosmos_columns\n",
    "    master_catalogue.remove_columns(old_columns)\n",
    "\n",
    "    origin = np.full(len(master_catalogue), '     ', dtype='<U5')\n",
    "    origin[use_hsc_udeep] = \"HSC-UDEEP\"\n",
    "    origin[use_hsc_deep] = \"HSC-DEEP\"\n",
    "    origin[use_cosmos] = \"COSMOS2015\"\n",
    " \n",
    "    \n",
    "    suprime_origin.add_column(Column(data=origin, name= 'f_suprime_' + band ))\n",
    "    \n",
    "  \n",
    "    # Suprime aperture flux \n",
    "    has_ap_hsc_udeep = ~np.isnan(master_catalogue['f_ap_hsc-udeep_' + band])\n",
    "    has_ap_hsc_deep  = ~np.isnan(master_catalogue['f_ap_hsc-deep_' + band])\n",
    "    if band == 'y':\n",
    "        has_ap_cosmos = ~np.isnan(master_catalogue['f_ap_cosmos-suprime_y'])\n",
    "    elif band != 'y':\n",
    "        has_ap_cosmos = np.full(len(master_catalogue), False, dtype=bool)\n",
    " \n",
    "    \n",
    "    use_ap_cosmos = has_ap_cosmos\n",
    "    use_ap_hsc_udeep = has_ap_hsc_udeep & ~has_cosmos\n",
    "    use_ap_hsc_deep = has_ap_hsc_deep & ~has_ap_hsc_udeep & ~has_cosmos\n",
    "  \n",
    "\n",
    "    f_ap_suprime = np.full(len(master_catalogue), np.nan)\n",
    "    if band == 'y':\n",
    "        f_ap_suprime[use_ap_cosmos] = master_catalogue['f_ap_cosmos-suprime_y'][use_ap_cosmos]\n",
    "    f_ap_suprime[use_ap_hsc_udeep] = master_catalogue['f_ap_hsc-udeep_' + band][use_ap_hsc_udeep]\n",
    "    f_ap_suprime[use_ap_hsc_deep] = master_catalogue['f_ap_hsc-deep_' + band][use_ap_hsc_deep]\n",
    "\n",
    "\n",
    "    ferr_ap_suprime = np.full(len(master_catalogue), np.nan)\n",
    "    if band == 'y':\n",
    "        ferr_ap_suprime[use_ap_cosmos] = master_catalogue['ferr_ap_cosmos-suprime_y'][use_ap_cosmos]\n",
    "    ferr_ap_suprime[use_ap_hsc_udeep] = master_catalogue['ferr_ap_hsc-udeep_' + band][use_ap_hsc_udeep]\n",
    "    ferr_ap_suprime[use_ap_hsc_deep] = master_catalogue['ferr_ap_hsc-deep_' + band][use_ap_hsc_deep]\n",
    "   \n",
    "    \n",
    "    m_ap_suprime = np.full(len(master_catalogue), np.nan)\n",
    "    if band == 'y':\n",
    "        m_ap_suprime[use_ap_cosmos] = master_catalogue['m_ap_cosmos-suprime_y'][use_ap_cosmos]\n",
    "    m_ap_suprime[use_ap_hsc_udeep] = master_catalogue['m_ap_hsc-udeep_' + band][use_ap_hsc_udeep]\n",
    "    m_ap_suprime[use_ap_hsc_deep] = master_catalogue['m_ap_hsc-deep_' + band][use_ap_hsc_deep]\n",
    "  \n",
    "\n",
    "    merr_ap_suprime = np.full(len(master_catalogue), np.nan)\n",
    "    if band == 'y':\n",
    "        merr_ap_suprime[use_ap_cosmos] = master_catalogue['merr_ap_cosmos-suprime_y'][use_ap_cosmos]\n",
    "    merr_ap_suprime[use_ap_hsc_udeep] = master_catalogue['merr_ap_hsc-udeep_' + band][use_ap_hsc_udeep]\n",
    "    merr_ap_suprime[use_ap_hsc_deep] = master_catalogue['merr_ap_hsc-deep_' + band][use_ap_hsc_deep]\n",
    "  \n",
    "\n",
    "\n",
    "    master_catalogue.add_column(Column(data=f_ap_suprime, name=\"f_ap_suprime_\" + band))\n",
    "    master_catalogue.add_column(Column(data=ferr_ap_suprime, name=\"ferr_ap_suprime_\" + band))\n",
    "    master_catalogue.add_column(Column(data=m_ap_suprime, name=\"m_ap_suprime_\" + band))\n",
    "    master_catalogue.add_column(Column(data=merr_ap_suprime, name=\"merr_ap_suprime_\" + band))\n",
    "\n",
    "\n",
    "    old_ap_hsc_udeep_columns = ['f_ap_hsc-udeep_' + band,\n",
    "                               'ferr_ap_hsc-udeep_' + band,\n",
    "                               'm_ap_hsc-udeep_' + band, \n",
    "                               'merr_ap_hsc-udeep_' + band]\n",
    "    old_ap_hsc_deep_columns = ['f_ap_hsc-deep_' + band,\n",
    "                               'ferr_ap_hsc-deep_' + band,\n",
    "                               'm_ap_hsc-deep_' + band, \n",
    "                               'merr_ap_hsc-deep_' + band]\n",
    "    old_ap_cosmos_columns = ['f_ap_cosmos-suprime_' + band,\n",
    "                               'ferr_ap_cosmos-suprime_' + band,\n",
    "                               'm_ap_cosmos-suprime_' + band, \n",
    "                               'merr_ap_cosmos-suprime_' + band]\n",
    "\n",
    "    \n",
    "    old_ap_columns = old_ap_hsc_udeep_columns + old_ap_hsc_deep_columns \n",
    "    if band == 'y':\n",
    "        old_ap_columns += old_ap_cosmos_columns\n",
    "    master_catalogue.remove_columns(old_ap_columns)\n",
    "\n",
    "    origin_ap = np.full(len(master_catalogue), '     ', dtype='<U5')\n",
    "    origin_ap[use_ap_hsc_udeep] = \"HSC-UDEEP\"\n",
    "    origin_ap[use_ap_hsc_deep] = \"HSC-DEEP\"\n",
    "    origin_ap[use_ap_cosmos] = \"COSMOS2015\"\n",
    "\n",
    "    \n",
    "    suprime_origin.add_column(Column(data=origin_ap, name= 'f_ap_suprime_' + band ))\n",
    "\n",
    "   \n",
    "    suprime_stats['HSC-UDEEP'][suprime_stats['Band'] == band] = np.sum(has_hsc_udeep)\n",
    "    suprime_stats['HSC-DEEP'][suprime_stats['Band'] == band] = np.sum(has_hsc_deep)\n",
    "    suprime_stats['COSMOS2015'][suprime_stats['Band'] == band] = np.sum(has_cosmos)\n",
    "\n",
    "    suprime_stats['use HSC-UDEEP'][suprime_stats['Band'] == band] = np.sum(use_hsc_udeep)\n",
    "    suprime_stats['use HSC-DEEP'][suprime_stats['Band'] == band] = np.sum(use_hsc_deep)\n",
    "    suprime_stats['use COSMOS2015'][suprime_stats['Band'] == band] = np.sum(use_cosmos)\n",
    "\n",
    "    suprime_stats['HSC-UDEEP ap'][suprime_stats['Band'] == band] = np.sum(has_ap_hsc_udeep)\n",
    "    suprime_stats['HSC-DEEP ap'][suprime_stats['Band'] == band] = np.sum(has_ap_hsc_deep)\n",
    "    suprime_stats['COSMOS2015 ap'][suprime_stats['Band'] == band] = np.sum(has_ap_cosmos)\n",
    "    \n",
    "    suprime_stats['use HSC-UDEEP ap'][suprime_stats['Band'] == band] = np.sum(use_ap_hsc_udeep)\n",
    "    suprime_stats['use HSC-DEEP ap'][suprime_stats['Band'] == band] = np.sum(use_ap_hsc_deep)\n",
    "    suprime_stats['use COSMOS2015 ap'][suprime_stats['Band'] == band] = np.sum(use_ap_cosmos)"
   ]
  },
  {
   "cell_type": "code",
   "execution_count": 43,
   "metadata": {
    "collapsed": false,
    "deletable": true,
    "editable": true
   },
   "outputs": [
    {
     "data": {
      "text/html": [
       "<i>Table length=6</i>\n",
       "<table id=\"table140432966451888-856352\" class=\"table-striped table-bordered table-condensed\">\n",
       "<thead><tr><th>idx</th><th>Band</th><th>HSC-UDEEP</th><th>use HSC-UDEEP</th><th>HSC-UDEEP ap</th><th>use HSC-UDEEP ap</th><th>HSC-DEEP</th><th>use HSC-DEEP</th><th>HSC-DEEP ap</th><th>use HSC-DEEP ap</th><th>COSMOS2015</th><th>use COSMOS2015</th><th>COSMOS2015 ap</th><th>use COSMOS2015 ap</th></tr></thead>\n",
       "<tr><td>0</td><td>g</td><td>1146131</td><td>1146131</td><td>1257414</td><td>1257414</td><td>1643773</td><td>956277</td><td>1838222</td><td>1044705</td><td>0</td><td>0</td><td>0</td><td>0</td></tr>\n",
       "<tr><td>1</td><td>r</td><td>1156722</td><td>1156722</td><td>1268883</td><td>1268883</td><td>1679055</td><td>989440</td><td>1903240</td><td>1102607</td><td>0</td><td>0</td><td>0</td><td>0</td></tr>\n",
       "<tr><td>2</td><td>i</td><td>1160356</td><td>1160356</td><td>1291883</td><td>1291883</td><td>1714230</td><td>987298</td><td>1953737</td><td>1086535</td><td>0</td><td>0</td><td>0</td><td>0</td></tr>\n",
       "<tr><td>3</td><td>z</td><td>1132842</td><td>1132842</td><td>1260729</td><td>1260729</td><td>1701530</td><td>984971</td><td>1933534</td><td>1081349</td><td>0</td><td>0</td><td>0</td><td>0</td></tr>\n",
       "<tr><td>4</td><td>y</td><td>1035328</td><td>500551</td><td>1157878</td><td>574161</td><td>1467985</td><td>798995</td><td>1669840</td><td>893700</td><td>661669</td><td>661669</td><td>693726</td><td>693726</td></tr>\n",
       "<tr><td>5</td><td>n921</td><td>1088153</td><td>1088153</td><td>1207243</td><td>1207243</td><td>879166</td><td>494988</td><td>996296</td><td>546326</td><td>0</td><td>0</td><td>0</td><td>0</td></tr>\n",
       "</table><style>table.dataTable {clear: both; width: auto !important; margin: 0 !important;}\n",
       ".dataTables_info, .dataTables_length, .dataTables_filter, .dataTables_paginate{\n",
       "display: inline-block; margin-right: 1em; }\n",
       ".paginate_button { margin-right: 5px; }\n",
       "</style>\n",
       "<script>\n",
       "\n",
       "var astropy_sort_num = function(a, b) {\n",
       "    var a_num = parseFloat(a);\n",
       "    var b_num = parseFloat(b);\n",
       "\n",
       "    if (isNaN(a_num) && isNaN(b_num))\n",
       "        return ((a < b) ? -1 : ((a > b) ? 1 : 0));\n",
       "    else if (!isNaN(a_num) && !isNaN(b_num))\n",
       "        return ((a_num < b_num) ? -1 : ((a_num > b_num) ? 1 : 0));\n",
       "    else\n",
       "        return isNaN(a_num) ? -1 : 1;\n",
       "}\n",
       "\n",
       "require.config({paths: {\n",
       "    datatables: 'https://cdn.datatables.net/1.10.12/js/jquery.dataTables.min'\n",
       "}});\n",
       "require([\"datatables\"], function(){\n",
       "    console.log(\"$('#table140432966451888-856352').dataTable()\");\n",
       "    \n",
       "jQuery.extend( jQuery.fn.dataTableExt.oSort, {\n",
       "    \"optionalnum-asc\": astropy_sort_num,\n",
       "    \"optionalnum-desc\": function (a,b) { return -astropy_sort_num(a, b); }\n",
       "});\n",
       "\n",
       "    $('#table140432966451888-856352').dataTable({\n",
       "        order: [],\n",
       "        pageLength: 50,\n",
       "        lengthMenu: [[10, 25, 50, 100, 500, 1000, -1], [10, 25, 50, 100, 500, 1000, 'All']],\n",
       "        pagingType: \"full_numbers\",\n",
       "        columnDefs: [{targets: [0, 2, 3, 4, 5, 6, 7, 8, 9, 10, 11, 12, 13], type: \"optionalnum\"}]\n",
       "    });\n",
       "});\n",
       "</script>\n"
      ],
      "text/plain": [
       "<IPython.core.display.HTML object>"
      ]
     },
     "execution_count": 43,
     "metadata": {},
     "output_type": "execute_result"
    }
   ],
   "source": [
    "suprime_stats.show_in_notebook()"
   ]
  },
  {
   "cell_type": "code",
   "execution_count": 44,
   "metadata": {
    "collapsed": true,
    "deletable": true,
    "editable": true
   },
   "outputs": [],
   "source": [
    "suprime_origin.write(\"{}/cosmos_suprime_fluxes_origins{}.fits\".format(OUT_DIR, SUFFIX), overwrite=True)"
   ]
  },
  {
   "cell_type": "markdown",
   "metadata": {
    "deletable": true,
    "editable": true
   },
   "source": [
    "## VII.b Megacam\n",
    "\n",
    "### COSMOS vs CFHT-WIRDS vs CFHTLS\n",
    "\n",
    "We take COSMOS over CFHTLS over CFHT-WIRDS"
   ]
  },
  {
   "cell_type": "code",
   "execution_count": 45,
   "metadata": {
    "collapsed": true,
    "deletable": true,
    "editable": true
   },
   "outputs": [],
   "source": [
    "megacam_origin = Table()\n",
    "megacam_origin.add_column(master_catalogue['help_id'])"
   ]
  },
  {
   "cell_type": "code",
   "execution_count": 46,
   "metadata": {
    "collapsed": true,
    "deletable": true,
    "editable": true
   },
   "outputs": [],
   "source": [
    "megacam_stats = Table()\n",
    "megacam_stats.add_column(Column(data=['u','g','r','i','z'], name=\"Band\"))\n",
    "for col in [\"COSMOS2015\", \"CFHTLS\",  \"CFHT-WIRDS\"]:\n",
    "    megacam_stats.add_column(Column(data=np.full(5, 0), name=\"{}\".format(col)))\n",
    "    megacam_stats.add_column(Column(data=np.full(5, 0), name=\"use {}\".format(col)))\n",
    "    megacam_stats.add_column(Column(data=np.full(5, 0), name=\"{} ap\".format(col)))\n",
    "    megacam_stats.add_column(Column(data=np.full(5, 0), name=\"use {} ap\".format(col)))"
   ]
  },
  {
   "cell_type": "code",
   "execution_count": 47,
   "metadata": {
    "collapsed": true,
    "deletable": true,
    "editable": true
   },
   "outputs": [],
   "source": [
    "megacam_bands = ['u','g','r','i','z'] \n",
    "for band in megacam_bands:\n",
    "\n",
    "    # megacam total flux \n",
    "    has_cfhtls = ~np.isnan(master_catalogue['f_megacam_' + band])\n",
    "    has_wirds  = ~np.isnan(master_catalogue['f_wirds_' + band])\n",
    "    if band == 'u':\n",
    "        has_cosmos  = ~np.isnan(master_catalogue['f_cosmos-megacam_' + band])\n",
    "    elif band != 'u':\n",
    "        has_cosmos = np.full(len(master_catalogue), False, dtype=bool)\n",
    "        \n",
    "    \n",
    "    use_cosmos = has_cosmos\n",
    "    use_cfhtls = has_cfhtls & ~has_cosmos\n",
    "    use_wirds = has_wirds & ~has_cfhtls & ~has_cosmos\n",
    " \n",
    "    master_catalogue['f_megacam_' + band][use_wirds] = master_catalogue['f_wirds_' + band][use_wirds]\n",
    "    master_catalogue['ferr_megacam_' + band][use_wirds] = master_catalogue['ferr_wirds_' + band][use_wirds]\n",
    "    master_catalogue['m_megacam_' + band][use_wirds] = master_catalogue['m_wirds_' + band][use_wirds]\n",
    "    master_catalogue['merr_megacam_' + band][use_wirds] = master_catalogue['merr_wirds_' + band][use_wirds]\n",
    "    master_catalogue['flag_megacam_' + band][use_wirds] = master_catalogue['flag_wirds_' + band][use_wirds]\n",
    "\n",
    "\n",
    "    master_catalogue.remove_columns(['f_wirds_' + band,\n",
    "                               'ferr_wirds_' + band,\n",
    "                               'm_wirds_' + band, \n",
    "                               'merr_wirds_' + band,\n",
    "                               'flag_wirds_' + band])\n",
    " \n",
    "    if band == 'u':\n",
    "        master_catalogue['f_megacam_' + band][use_cosmos] = master_catalogue['f_cosmos-megacam_' + band][use_cosmos]\n",
    "        master_catalogue['ferr_megacam_' + band][use_cosmos] = master_catalogue['ferr_cosmos-megacam_' + band][use_cosmos]\n",
    "        master_catalogue['m_megacam_' + band][use_cosmos] = master_catalogue['m_cosmos-megacam_' + band][use_cosmos]\n",
    "        master_catalogue['merr_megacam_' + band][use_cosmos] = master_catalogue['merr_cosmos-megacam_' + band][use_cosmos]\n",
    "        master_catalogue['flag_megacam_' + band][use_cosmos] = master_catalogue['flag_cosmos-megacam_' + band][use_cosmos]\n",
    "        \n",
    "        master_catalogue.remove_columns(['f_cosmos-megacam_' + band,\n",
    "                               'ferr_cosmos-megacam_' + band,\n",
    "                               'm_cosmos-megacam_' + band, \n",
    "                               'merr_cosmos-megacam_' + band,\n",
    "                               'flag_cosmos-megacam_' + band])\n",
    "        \n",
    "    origin = np.full(len(master_catalogue), '     ', dtype='<U5')\n",
    "    origin[use_cfhtls] = \"CFHTLS\"\n",
    "    origin[use_wirds] = \"CFHT-WIRDS\"\n",
    "    origin[use_cosmos] = \"COSMOS2015\"\n",
    " \n",
    "    \n",
    "    megacam_origin.add_column(Column(data=origin, name= 'f_megacam_' + band ))\n",
    "    \n",
    "  \n",
    "    # Megacam aperture flux \n",
    "    has_ap_cfhtls = ~np.isnan(master_catalogue['f_ap_megacam_' + band])\n",
    "    has_ap_wirds  = ~np.isnan(master_catalogue['f_ap_wirds_' + band])\n",
    "    if band == 'u':\n",
    "        has_ap_cosmos  = ~np.isnan(master_catalogue['f_ap_cosmos-megacam_' + band])\n",
    "    elif band != 'u':\n",
    "        has_ap_cosmos = np.full(len(master_catalogue), False, dtype=bool)\n",
    "    \n",
    "    use_ap_cosmos =  has_ap_cosmos\n",
    "    use_ap_cfhtls = has_ap_cfhtls & ~has_ap_cosmos\n",
    "    use_ap_wirds = has_ap_wirds & ~has_ap_cfhtls & ~has_ap_cosmos\n",
    "  \n",
    "\n",
    "    master_catalogue['f_ap_megacam_' + band][use_ap_wirds] = master_catalogue['f_ap_wirds_' + band][use_ap_wirds]\n",
    "    master_catalogue['ferr_ap_megacam_' + band][use_ap_wirds] = master_catalogue['ferr_ap_wirds_' + band][use_ap_wirds]\n",
    "    master_catalogue['m_ap_megacam_' + band][use_ap_wirds] = master_catalogue['m_ap_wirds_' + band][use_ap_wirds]\n",
    "    master_catalogue['merr_ap_megacam_' + band][use_ap_wirds] = master_catalogue['merr_ap_wirds_' + band][use_ap_wirds]\n",
    "\n",
    "    master_catalogue.remove_columns(['f_ap_wirds_' + band,\n",
    "                               'ferr_ap_wirds_' + band,\n",
    "                               'm_ap_wirds_' + band, \n",
    "                               'merr_ap_wirds_' + band])\n",
    "    \n",
    "    if band == 'u':\n",
    "        master_catalogue['f_ap_megacam_' + band][use_ap_cosmos] = master_catalogue['f_ap_cosmos-megacam_' + band][use_ap_cosmos]\n",
    "        master_catalogue['ferr_ap_megacam_' + band][use_ap_cosmos] = master_catalogue['ferr_ap_cosmos-megacam_' + band][use_ap_cosmos]\n",
    "        master_catalogue['m_ap_megacam_' + band][use_ap_cosmos] = master_catalogue['m_ap_cosmos-megacam_' + band][use_ap_cosmos]\n",
    "        master_catalogue['merr_ap_megacam_' + band][use_ap_cosmos] = master_catalogue['merr_ap_cosmos-megacam_' + band][use_ap_cosmos]\n",
    "        \n",
    "        \n",
    "        master_catalogue.remove_columns(['f_ap_cosmos-megacam_' + band,\n",
    "                               'ferr_ap_cosmos-megacam_' + band,\n",
    "                               'm_ap_cosmos-megacam_' + band, \n",
    "                               'merr_ap_cosmos-megacam_' + band])\n",
    "\n",
    "    origin_ap = np.full(len(master_catalogue), '     ', dtype='<U5')\n",
    "    origin_ap[use_ap_cfhtls] = \"CFHTLS\"\n",
    "    origin_ap[use_ap_wirds] = \"CFHT-WIRDS\"\n",
    "    origin_ap[use_ap_cosmos] = \"COSMOS2015\"\n",
    "    \n",
    "    megacam_origin.add_column(Column(data=origin_ap, name= 'f_ap_megacam_' + band ))\n",
    "\n",
    "   \n",
    "    megacam_stats['CFHTLS'][megacam_stats['Band'] == band] = np.sum(has_cfhtls)\n",
    "    megacam_stats['CFHT-WIRDS'][megacam_stats['Band'] == band] = np.sum(has_wirds)\n",
    "    megacam_stats['COSMOS2015'][megacam_stats['Band'] == band] = np.sum(has_cosmos)\n",
    "\n",
    "    megacam_stats['use CFHTLS'][megacam_stats['Band'] == band] = np.sum(use_cfhtls)\n",
    "    megacam_stats['use CFHT-WIRDS'][megacam_stats['Band'] == band] = np.sum(use_wirds)\n",
    "    megacam_stats['use COSMOS2015'][megacam_stats['Band'] == band] = np.sum(use_cosmos)\n",
    "\n",
    "    megacam_stats['CFHTLS ap'][megacam_stats['Band'] == band] = np.sum(has_ap_cfhtls)\n",
    "    megacam_stats['CFHT-WIRDS ap'][megacam_stats['Band'] == band] = np.sum(has_ap_wirds)\n",
    "    megacam_stats['COSMOS2015 ap'][megacam_stats['Band'] == band] = np.sum(has_ap_cosmos)\n",
    "\n",
    "    megacam_stats['use CFHTLS ap'][megacam_stats['Band'] == band] = np.sum(use_ap_cfhtls)\n",
    "    megacam_stats['use CFHT-WIRDS ap'][megacam_stats['Band'] == band] = np.sum(use_ap_wirds)\n",
    "    megacam_stats['use COSMOS2015 ap'][megacam_stats['Band'] == band] = np.sum(use_ap_cosmos)\n"
   ]
  },
  {
   "cell_type": "code",
   "execution_count": 48,
   "metadata": {
    "collapsed": false,
    "deletable": true,
    "editable": true
   },
   "outputs": [
    {
     "data": {
      "text/html": [
       "<i>Table length=5</i>\n",
       "<table id=\"table140433884686824-730645\" class=\"table-striped table-bordered table-condensed\">\n",
       "<thead><tr><th>idx</th><th>Band</th><th>COSMOS2015</th><th>use COSMOS2015</th><th>COSMOS2015 ap</th><th>use COSMOS2015 ap</th><th>CFHTLS</th><th>use CFHTLS</th><th>CFHTLS ap</th><th>use CFHTLS ap</th><th>CFHT-WIRDS</th><th>use CFHT-WIRDS</th><th>CFHT-WIRDS ap</th><th>use CFHT-WIRDS ap</th></tr></thead>\n",
       "<tr><td>0</td><td>u</td><td>640825</td><td>640825</td><td>688187</td><td>688187</td><td>455496</td><td>183226</td><td>459328</td><td>182038</td><td>156347</td><td>17152</td><td>157331</td><td>16078</td></tr>\n",
       "<tr><td>1</td><td>g</td><td>0</td><td>0</td><td>0</td><td>0</td><td>516573</td><td>516573</td><td>518549</td><td>518549</td><td>164107</td><td>31365</td><td>163978</td><td>30985</td></tr>\n",
       "<tr><td>2</td><td>r</td><td>0</td><td>0</td><td>0</td><td>0</td><td>526336</td><td>526336</td><td>529160</td><td>529160</td><td>165217</td><td>31524</td><td>165010</td><td>31136</td></tr>\n",
       "<tr><td>3</td><td>i</td><td>0</td><td>0</td><td>0</td><td>0</td><td>520668</td><td>520668</td><td>523948</td><td>523948</td><td>165648</td><td>31737</td><td>165316</td><td>31298</td></tr>\n",
       "<tr><td>4</td><td>z</td><td>0</td><td>0</td><td>0</td><td>0</td><td>474766</td><td>474766</td><td>480581</td><td>480581</td><td>164234</td><td>30996</td><td>164359</td><td>30824</td></tr>\n",
       "</table><style>table.dataTable {clear: both; width: auto !important; margin: 0 !important;}\n",
       ".dataTables_info, .dataTables_length, .dataTables_filter, .dataTables_paginate{\n",
       "display: inline-block; margin-right: 1em; }\n",
       ".paginate_button { margin-right: 5px; }\n",
       "</style>\n",
       "<script>\n",
       "\n",
       "var astropy_sort_num = function(a, b) {\n",
       "    var a_num = parseFloat(a);\n",
       "    var b_num = parseFloat(b);\n",
       "\n",
       "    if (isNaN(a_num) && isNaN(b_num))\n",
       "        return ((a < b) ? -1 : ((a > b) ? 1 : 0));\n",
       "    else if (!isNaN(a_num) && !isNaN(b_num))\n",
       "        return ((a_num < b_num) ? -1 : ((a_num > b_num) ? 1 : 0));\n",
       "    else\n",
       "        return isNaN(a_num) ? -1 : 1;\n",
       "}\n",
       "\n",
       "require.config({paths: {\n",
       "    datatables: 'https://cdn.datatables.net/1.10.12/js/jquery.dataTables.min'\n",
       "}});\n",
       "require([\"datatables\"], function(){\n",
       "    console.log(\"$('#table140433884686824-730645').dataTable()\");\n",
       "    \n",
       "jQuery.extend( jQuery.fn.dataTableExt.oSort, {\n",
       "    \"optionalnum-asc\": astropy_sort_num,\n",
       "    \"optionalnum-desc\": function (a,b) { return -astropy_sort_num(a, b); }\n",
       "});\n",
       "\n",
       "    $('#table140433884686824-730645').dataTable({\n",
       "        order: [],\n",
       "        pageLength: 50,\n",
       "        lengthMenu: [[10, 25, 50, 100, 500, 1000, -1], [10, 25, 50, 100, 500, 1000, 'All']],\n",
       "        pagingType: \"full_numbers\",\n",
       "        columnDefs: [{targets: [0, 2, 3, 4, 5, 6, 7, 8, 9, 10, 11, 12, 13], type: \"optionalnum\"}]\n",
       "    });\n",
       "});\n",
       "</script>\n"
      ],
      "text/plain": [
       "<IPython.core.display.HTML object>"
      ]
     },
     "execution_count": 48,
     "metadata": {},
     "output_type": "execute_result"
    }
   ],
   "source": [
    "megacam_stats.show_in_notebook()"
   ]
  },
  {
   "cell_type": "code",
   "execution_count": 49,
   "metadata": {
    "collapsed": true,
    "deletable": true,
    "editable": true
   },
   "outputs": [],
   "source": [
    "megacam_origin.write(\"{}/cosmos_megacam_fluxes_origins{}.fits\".format(OUT_DIR, SUFFIX), overwrite=True)"
   ]
  },
  {
   "cell_type": "markdown",
   "metadata": {
    "deletable": true,
    "editable": true
   },
   "source": [
    "## WIRcam\n",
    "\n",
    "### COSMOS vs WIRDS\n",
    "\n",
    "We take COSMOS over WIRDS to ensure values are the same as for the original run"
   ]
  },
  {
   "cell_type": "code",
   "execution_count": 50,
   "metadata": {
    "collapsed": true,
    "deletable": true,
    "editable": true
   },
   "outputs": [],
   "source": [
    "wircam_origin = Table()\n",
    "wircam_origin.add_column(master_catalogue['help_id'])"
   ]
  },
  {
   "cell_type": "code",
   "execution_count": 51,
   "metadata": {
    "collapsed": true,
    "deletable": true,
    "editable": true
   },
   "outputs": [],
   "source": [
    "wircam_stats = Table()\n",
    "wircam_stats.add_column(Column(data=['h','ks'], name=\"Band\"))\n",
    "for col in [\"CFHT-WIRDS\",   \"COSMOS2015\"]:\n",
    "    wircam_stats.add_column(Column(data=np.full(2, 0), name=\"{}\".format(col)))\n",
    "    wircam_stats.add_column(Column(data=np.full(2, 0), name=\"use {}\".format(col)))\n",
    "    wircam_stats.add_column(Column(data=np.full(2, 0), name=\"{} ap\".format(col)))\n",
    "    wircam_stats.add_column(Column(data=np.full(2, 0), name=\"use {} ap\".format(col)))\n",
    "    "
   ]
  },
  {
   "cell_type": "code",
   "execution_count": 52,
   "metadata": {
    "collapsed": true,
    "deletable": true,
    "editable": true
   },
   "outputs": [],
   "source": [
    "wircam_bands = ['h','ks'] \n",
    "for band in wircam_bands:\n",
    "\n",
    "    # wircam total flux \n",
    "    has_wirds = ~np.isnan(master_catalogue['f_wirds_' + band.rstrip('s')])\n",
    "\n",
    "    has_cosmos = ~np.isnan(master_catalogue['f_cosmos-wircam_' + band])\n",
    "\n",
    "    \n",
    "    use_cosmos = has_cosmos\n",
    "    use_wirds = has_wirds & ~has_cosmos\n",
    "\n",
    "    \n",
    " \n",
    "    f_wircam = np.full(len(master_catalogue), np.nan)\n",
    "    f_wircam[use_cosmos] = master_catalogue['f_cosmos-wircam_' + band][use_cosmos]\n",
    "    f_wircam[use_wirds] = master_catalogue['f_wirds_' + band.rstrip('s').rstrip('s')][use_wirds]\n",
    "\n",
    " \n",
    "\n",
    "    ferr_wircam = np.full(len(master_catalogue), np.nan)\n",
    "    ferr_wircam[use_cosmos] = master_catalogue['ferr_cosmos-wircam_' + band][use_cosmos]\n",
    "    ferr_wircam[use_wirds] = master_catalogue['ferr_wirds_' + band.rstrip('s')][use_wirds]\n",
    "\n",
    "\n",
    "    \n",
    "    m_wircam = np.full(len(master_catalogue), np.nan)\n",
    "    m_wircam[use_cosmos] = master_catalogue['m_cosmos-wircam_' + band][use_cosmos]\n",
    "    m_wircam[use_wirds] = master_catalogue['m_wirds_' + band.rstrip('s')][use_wirds]\n",
    "\n",
    "\n",
    "    merr_wircam = np.full(len(master_catalogue), np.nan)\n",
    "    merr_wircam[use_cosmos] = master_catalogue['merr_cosmos-wircam_' + band][use_cosmos]\n",
    "    merr_wircam[use_wirds] = master_catalogue['merr_wirds_' + band.rstrip('s')][use_wirds]\n",
    "\n",
    "\n",
    "\n",
    "    flag_wircam = np.full(len(master_catalogue), False, dtype=bool)\n",
    "    flag_wircam[use_cosmos] = master_catalogue['flag_cosmos-wircam_' + band][use_cosmos]\n",
    "    flag_wircam[use_wirds] = master_catalogue['flag_wirds_' + band.rstrip('s')][use_wirds]\n",
    "\n",
    "\n",
    "\n",
    "    master_catalogue.add_column(Column(data=f_wircam, name=\"f_wircam_\" + band))\n",
    "    master_catalogue.add_column(Column(data=ferr_wircam, name=\"ferr_wircam_\" + band))\n",
    "    master_catalogue.add_column(Column(data=m_wircam, name=\"m_wircam_\" + band))\n",
    "    master_catalogue.add_column(Column(data=merr_wircam, name=\"merr_wircam_\" + band))\n",
    "    master_catalogue.add_column(Column(data=flag_wircam, name=\"flag_wircam_\" + band))\n",
    "\n",
    "    old_wirds_columns = ['f_wirds_' + band.rstrip('s'),\n",
    "                               'ferr_wirds_' + band.rstrip('s'),\n",
    "                               'm_wirds_' + band.rstrip('s'), \n",
    "                               'merr_wirds_' + band.rstrip('s'),\n",
    "                               'flag_wirds_' + band.rstrip('s')]\n",
    "\n",
    "    old_cosmos_columns = ['f_cosmos-wircam_' + band,\n",
    "                               'ferr_cosmos-wircam_' + band,\n",
    "                               'm_cosmos-wircam_' + band, \n",
    "                               'merr_cosmos-wircam_' + band,\n",
    "                               'flag_cosmos-wircam_' + band]\n",
    "    \n",
    "    old_columns = old_wirds_columns + old_cosmos_columns\n",
    "    master_catalogue.remove_columns(old_columns)\n",
    "\n",
    "    origin = np.full(len(master_catalogue), '     ', dtype='<U5')\n",
    "    origin[use_wirds] = \"CFHT-WIRDS\"\n",
    "    origin[use_cosmos] = \"COSMOS2015\"\n",
    " \n",
    "    \n",
    "    wircam_origin.add_column(Column(data=origin, name= 'f_wircam_' + band ))\n",
    "    \n",
    "  \n",
    "    # wircam aperture flux \n",
    "    has_ap_wirds = ~np.isnan(master_catalogue['f_ap_wirds_' + band.rstrip('s')])\n",
    "    has_ap_cosmos = ~np.isnan(master_catalogue['f_ap_cosmos-wircam_' + band])\n",
    "    \n",
    " \n",
    "    \n",
    "    use_ap_cosmos = has_ap_cosmos\n",
    "    use_ap_wirds = has_ap_wirds & ~has_cosmos\n",
    "\n",
    "  \n",
    "\n",
    "    f_ap_wircam = np.full(len(master_catalogue), np.nan)\n",
    "    f_ap_wircam[use_ap_cosmos] = master_catalogue['f_ap_cosmos-wircam_' + band][use_ap_cosmos]\n",
    "    f_ap_wircam[use_ap_wirds] = master_catalogue['f_ap_wirds_' + band.rstrip('s')][use_ap_wirds]\n",
    "\n",
    "\n",
    "\n",
    "    ferr_ap_wircam = np.full(len(master_catalogue), np.nan)\n",
    "    ferr_ap_wircam[use_ap_cosmos] = master_catalogue['ferr_ap_cosmos-wircam_' + band][use_ap_cosmos]\n",
    "    ferr_ap_wircam[use_ap_wirds] = master_catalogue['ferr_ap_wirds_' + band.rstrip('s')][use_ap_wirds]\n",
    "\n",
    "   \n",
    "    \n",
    "    m_ap_wircam = np.full(len(master_catalogue), np.nan)\n",
    "    m_ap_wircam[use_ap_cosmos] = master_catalogue['m_ap_cosmos-wircam_' + band][use_ap_cosmos]\n",
    "    m_ap_wircam[use_ap_wirds] = master_catalogue['m_ap_wirds_' + band.rstrip('s')][use_ap_wirds]\n",
    "\n",
    "  \n",
    "\n",
    "    merr_ap_wircam = np.full(len(master_catalogue), np.nan)\n",
    "    merr_ap_wircam[use_ap_cosmos] = master_catalogue['merr_ap_cosmos-wircam_' + band][use_ap_cosmos]\n",
    "    merr_ap_wircam[use_ap_wirds] = master_catalogue['merr_ap_wirds_' + band.rstrip('s')][use_ap_wirds]\n",
    "\n",
    "  \n",
    "\n",
    "\n",
    "    master_catalogue.add_column(Column(data=f_ap_wircam, name=\"f_ap_wircam_\" + band))\n",
    "    master_catalogue.add_column(Column(data=ferr_ap_wircam, name=\"ferr_ap_wircam_\" + band))\n",
    "    master_catalogue.add_column(Column(data=m_ap_wircam, name=\"m_ap_wircam_\" + band))\n",
    "    master_catalogue.add_column(Column(data=merr_ap_wircam, name=\"merr_ap_wircam_\" + band))\n",
    "\n",
    "\n",
    "    old_ap_wirds_columns = ['f_ap_wirds_' + band.rstrip('s'),\n",
    "                               'ferr_ap_wirds_' + band.rstrip('s'),\n",
    "                               'm_ap_wirds_' + band.rstrip('s'), \n",
    "                               'merr_ap_wirds_' + band.rstrip('s')]\n",
    "\n",
    "    old_ap_cosmos_columns = ['f_ap_cosmos-wircam_' + band,\n",
    "                               'ferr_ap_cosmos-wircam_' + band,\n",
    "                               'm_ap_cosmos-wircam_' + band, \n",
    "                               'merr_ap_cosmos-wircam_' + band]\n",
    "\n",
    "    \n",
    "    old_ap_columns = old_ap_wirds_columns + old_ap_cosmos_columns\n",
    "    master_catalogue.remove_columns(old_ap_columns)\n",
    "\n",
    "    origin_ap = np.full(len(master_catalogue), '     ', dtype='<U5')\n",
    "    origin_ap[use_ap_wirds] = \"CFHT-WIRDS\"\n",
    "    origin_ap[use_ap_cosmos] = \"COSMOS2015\"\n",
    "\n",
    "    \n",
    "    wircam_origin.add_column(Column(data=origin_ap, name= 'f_ap_wircam_' + band ))\n",
    "\n",
    "   \n",
    "    wircam_stats['CFHT-WIRDS'][wircam_stats['Band'] == band] = np.sum(has_wirds)\n",
    "    wircam_stats['COSMOS2015'][wircam_stats['Band'] == band] = np.sum(has_cosmos)\n",
    "\n",
    "    wircam_stats['use CFHT-WIRDS'][wircam_stats['Band'] == band] = np.sum(use_wirds)\n",
    "    wircam_stats['use COSMOS2015'][wircam_stats['Band'] == band] = np.sum(use_cosmos)\n",
    "\n",
    "    wircam_stats['CFHT-WIRDS ap'][wircam_stats['Band'] == band] = np.sum(has_ap_wirds)\n",
    "    wircam_stats['COSMOS2015 ap'][wircam_stats['Band'] == band] = np.sum(has_ap_cosmos)\n",
    "    \n",
    "    wircam_stats['use CFHT-WIRDS ap'][wircam_stats['Band'] == band] = np.sum(use_ap_wirds)\n",
    "    wircam_stats['use COSMOS2015 ap'][wircam_stats['Band'] == band] = np.sum(use_ap_cosmos)"
   ]
  },
  {
   "cell_type": "code",
   "execution_count": 53,
   "metadata": {
    "collapsed": false,
    "deletable": true,
    "editable": true
   },
   "outputs": [
    {
     "data": {
      "text/html": [
       "<i>Table length=2</i>\n",
       "<table id=\"table140432964890240-429686\" class=\"table-striped table-bordered table-condensed\">\n",
       "<thead><tr><th>idx</th><th>Band</th><th>CFHT-WIRDS</th><th>use CFHT-WIRDS</th><th>CFHT-WIRDS ap</th><th>use CFHT-WIRDS ap</th><th>COSMOS2015</th><th>use COSMOS2015</th><th>COSMOS2015 ap</th><th>use COSMOS2015 ap</th></tr></thead>\n",
       "<tr><td>0</td><td>h</td><td>164175</td><td>32620</td><td>165228</td><td>33198</td><td>589027</td><td>589027</td><td>684053</td><td>684053</td></tr>\n",
       "<tr><td>1</td><td>ks</td><td>169103</td><td>35504</td><td>170077</td><td>36333</td><td>594551</td><td>594551</td><td>681987</td><td>681987</td></tr>\n",
       "</table><style>table.dataTable {clear: both; width: auto !important; margin: 0 !important;}\n",
       ".dataTables_info, .dataTables_length, .dataTables_filter, .dataTables_paginate{\n",
       "display: inline-block; margin-right: 1em; }\n",
       ".paginate_button { margin-right: 5px; }\n",
       "</style>\n",
       "<script>\n",
       "\n",
       "var astropy_sort_num = function(a, b) {\n",
       "    var a_num = parseFloat(a);\n",
       "    var b_num = parseFloat(b);\n",
       "\n",
       "    if (isNaN(a_num) && isNaN(b_num))\n",
       "        return ((a < b) ? -1 : ((a > b) ? 1 : 0));\n",
       "    else if (!isNaN(a_num) && !isNaN(b_num))\n",
       "        return ((a_num < b_num) ? -1 : ((a_num > b_num) ? 1 : 0));\n",
       "    else\n",
       "        return isNaN(a_num) ? -1 : 1;\n",
       "}\n",
       "\n",
       "require.config({paths: {\n",
       "    datatables: 'https://cdn.datatables.net/1.10.12/js/jquery.dataTables.min'\n",
       "}});\n",
       "require([\"datatables\"], function(){\n",
       "    console.log(\"$('#table140432964890240-429686').dataTable()\");\n",
       "    \n",
       "jQuery.extend( jQuery.fn.dataTableExt.oSort, {\n",
       "    \"optionalnum-asc\": astropy_sort_num,\n",
       "    \"optionalnum-desc\": function (a,b) { return -astropy_sort_num(a, b); }\n",
       "});\n",
       "\n",
       "    $('#table140432964890240-429686').dataTable({\n",
       "        order: [],\n",
       "        pageLength: 50,\n",
       "        lengthMenu: [[10, 25, 50, 100, 500, 1000, -1], [10, 25, 50, 100, 500, 1000, 'All']],\n",
       "        pagingType: \"full_numbers\",\n",
       "        columnDefs: [{targets: [0, 2, 3, 4, 5, 6, 7, 8, 9], type: \"optionalnum\"}]\n",
       "    });\n",
       "});\n",
       "</script>\n"
      ],
      "text/plain": [
       "<IPython.core.display.HTML object>"
      ]
     },
     "execution_count": 53,
     "metadata": {},
     "output_type": "execute_result"
    }
   ],
   "source": [
    "wircam_stats.show_in_notebook()"
   ]
  },
  {
   "cell_type": "code",
   "execution_count": 54,
   "metadata": {
    "collapsed": true,
    "deletable": true,
    "editable": true
   },
   "outputs": [],
   "source": [
    "wircam_origin.write(\"{}/cosmos_wircam_fluxes_origins{}.fits\".format(OUT_DIR, SUFFIX), overwrite=True)"
   ]
  },
  {
   "cell_type": "markdown",
   "metadata": {
    "deletable": true,
    "editable": true
   },
   "source": [
    "## Final renaming\n",
    "\n",
    "We rename some columns in line with HELP filter naming standards"
   ]
  },
  {
   "cell_type": "code",
   "execution_count": 55,
   "metadata": {
    "collapsed": true,
    "deletable": true,
    "editable": true
   },
   "outputs": [],
   "source": [
    "renaming = OrderedDict({\n",
    "    '_wirds_j':'_wircam_j',\n",
    "    #'_wirds_h': '_wircam_h', #These two now merged with COSMOS\n",
    "    #'_wirds_k': '_wircam_ks',\n",
    "    '_kids_': '_omegacam_',\n",
    "    '_cosmos-suprime_': '_suprime_',\n",
    "    '_cosmos-vista_':'_vista_',\n",
    "    '_cosmos-irac_':'_irac_',\n",
    "    '_candels_f140w':'_wfc3_f140w',\n",
    "    '_candels_f160w':'_wfc3_f160w',\n",
    "    '_candels_f125w':'_wfc3_f125w',\n",
    "    '_candels_f606w': '_acs_f606w',\n",
    "    '_candels_f814w':'_acs_f814w',\n",
    "})\n",
    "\n",
    "\n",
    "for col in master_catalogue.colnames:\n",
    "    for rename_col in list(renaming):\n",
    "        if rename_col in col:\n",
    "            master_catalogue.rename_column(col, col.replace(rename_col, renaming[rename_col]))      "
   ]
  },
  {
   "cell_type": "markdown",
   "metadata": {
    "deletable": true,
    "editable": true
   },
   "source": [
    "## VII.a Wavelength domain coverage\n",
    "\n",
    "We add a binary `flag_optnir_obs` indicating that a source was observed in a given wavelength domain:\n",
    "\n",
    "- 1 for observation in optical;\n",
    "- 2 for observation in near-infrared;\n",
    "- 4 for observation in mid-infrared (IRAC).\n",
    "\n",
    "It's an integer binary flag, so a source observed both in optical and near-infrared by not in mid-infrared would have this flag at 1 + 2 = 3.\n",
    "\n",
    "*Note 1: The observation flag is based on the creation of multi-order coverage maps from the catalogues, this may not be accurate, especially on the edges of the coverage.*\n",
    "\n",
    "*Note 2: Being on the observation coverage does not mean having fluxes in that wavelength domain. For sources observed in one domain but having no flux in it, one must take into consideration de different depths in the catalogue we are using.*"
   ]
  },
  {
   "cell_type": "code",
   "execution_count": 56,
   "metadata": {
    "collapsed": true,
    "deletable": true,
    "editable": true
   },
   "outputs": [],
   "source": [
    "candels_moc = MOC(filename=\"../../dmu0/dmu0_CANDELS-3D-HST/data/CANDELS-3D-HST_COSMOS_MOC.fits\")\n",
    "cfhtls_moc = MOC(filename=\"../../dmu0/dmu0_CFHTLS/data/CFHTLS-DEEP_COSMOS_MOC.fits\")\n",
    "decals_moc = MOC(filename=\"../../dmu0/dmu0_DECaLS/data/DECaLS_COSMOS_MOC.fits\")\n",
    "hsc_udeep_moc = MOC(filename=\"../../dmu0/dmu0_HSC/data/HSC-PDR1_deep_COSMOS_MOC.fits\")\n",
    "hsc_deep_moc = MOC(filename=\"../../dmu0/dmu0_HSC/data/HSC-PDR1_uDeep_COSMOS_MOC.fits\")\n",
    "kids_moc = MOC(filename=\"../../dmu0/dmu0_KIDS/data/KIDS-DR3_COSMOS_MOC.fits\")\n",
    "ps1_moc = MOC(filename=\"../../dmu0/dmu0_PanSTARRS1-3SS/data/PanSTARRS1-3SS_COSMOS_MOC.fits\")\n",
    "las_moc = MOC(filename=\"../../dmu0/dmu0_UKIDSS-LAS/data/UKIDSS-LAS_COSMOS_MOC.fits\")\n",
    "wirds_moc = MOC(filename=\"../../dmu0/dmu0_CFHT-WIRDS/data/COSMOS_Ks-priors_MOC.fits\")\n",
    "\n"
   ]
  },
  {
   "cell_type": "code",
   "execution_count": 57,
   "metadata": {
    "collapsed": true,
    "deletable": true,
    "editable": true
   },
   "outputs": [],
   "source": [
    "was_observed_optical = inMoc(\n",
    "    master_catalogue['ra'], master_catalogue['dec'],\n",
    "    candels_moc + \n",
    "    cfhtls_moc + \n",
    "    decals_moc + \n",
    "    hsc_udeep_moc + \n",
    "    hsc_deep_moc + \n",
    "    kids_moc +\n",
    "    ps1_moc) \n",
    "\n",
    "was_observed_nir = inMoc(\n",
    "    master_catalogue['ra'], master_catalogue['dec'],\n",
    "    las_moc + wirds_moc\n",
    ")\n",
    "\n",
    "was_observed_mir = np.zeros(len(master_catalogue), dtype=bool)\n",
    "\n",
    "#was_observed_mir = inMoc(\n",
    "#    master_catalogue['ra'], master_catalogue['dec'],   \n",
    "#)"
   ]
  },
  {
   "cell_type": "code",
   "execution_count": 58,
   "metadata": {
    "collapsed": true,
    "deletable": true,
    "editable": true
   },
   "outputs": [],
   "source": [
    "master_catalogue.add_column(\n",
    "    Column(\n",
    "        1 * was_observed_optical + 2 * was_observed_nir + 4 * was_observed_mir,\n",
    "        name=\"flag_optnir_obs\")\n",
    ")"
   ]
  },
  {
   "cell_type": "markdown",
   "metadata": {
    "deletable": true,
    "editable": true
   },
   "source": [
    "## VII.b Wavelength domain detection\n",
    "\n",
    "We add a binary `flag_optnir_det` indicating that a source was detected in a given wavelength domain:\n",
    "\n",
    "- 1 for detection in optical;\n",
    "- 2 for detection in near-infrared;\n",
    "- 4 for detection in mid-infrared (IRAC).\n",
    "\n",
    "It's an integer binary flag, so a source detected both in optical and near-infrared by not in mid-infrared would have this flag at 1 + 2 = 3.\n",
    "\n",
    "*Note 1: We use the total flux columns to know if the source has flux, in some catalogues, we may have aperture flux and no total flux.*\n",
    "\n",
    "To get rid of artefacts (chip edges, star flares, etc.) we consider that a source is detected in one wavelength domain when it has a flux value in **at least two bands**. That means that good sources will be excluded from this flag when they are on the coverage of only one band."
   ]
  },
  {
   "cell_type": "code",
   "execution_count": 59,
   "metadata": {
    "collapsed": true,
    "deletable": true,
    "editable": true
   },
   "outputs": [],
   "source": [
    "nb_optical_flux = (\n",
    "    1 * ~np.isnan(master_catalogue['f_megacam_u']) +\n",
    "    1 * ~np.isnan(master_catalogue['f_megacam_g']) +\n",
    "    1 * ~np.isnan(master_catalogue['f_megacam_r']) +\n",
    "    1 * ~np.isnan(master_catalogue['f_megacam_i']) +\n",
    "    1 * ~np.isnan(master_catalogue['f_megacam_z']) +\n",
    "    \n",
    "    1 * ~np.isnan(master_catalogue['f_suprime_g']) +\n",
    "    1 * ~np.isnan(master_catalogue['f_suprime_r']) +\n",
    "    1 * ~np.isnan(master_catalogue['f_suprime_i']) +\n",
    "    1 * ~np.isnan(master_catalogue['f_suprime_z']) +\n",
    "    1 * ~np.isnan(master_catalogue['f_suprime_y']) +\n",
    "    1 * ~np.isnan(master_catalogue['f_suprime_n921']) +\n",
    "    \n",
    "    1 * ~np.isnan(master_catalogue['f_gpc1_g']) +\n",
    "    1 * ~np.isnan(master_catalogue['f_gpc1_r']) +\n",
    "    1 * ~np.isnan(master_catalogue['f_gpc1_i']) +\n",
    "    1 * ~np.isnan(master_catalogue['f_gpc1_z']) +\n",
    "    1 * ~np.isnan(master_catalogue['f_gpc1_y']) +\n",
    "    \n",
    "    1 * ~np.isnan(master_catalogue['f_decam_g']) +\n",
    "    1 * ~np.isnan(master_catalogue['f_decam_r']) +\n",
    "    1 * ~np.isnan(master_catalogue['f_decam_z']) +\n",
    "    \n",
    "    1 * ~np.isnan(master_catalogue['f_omegacam_u']) +\n",
    "    1 * ~np.isnan(master_catalogue['f_omegacam_g']) +\n",
    "    1 * ~np.isnan(master_catalogue['f_omegacam_r']) +\n",
    "    1 * ~np.isnan(master_catalogue['f_omegacam_i']) \n",
    ")\n",
    "\n",
    "nb_nir_flux = (\n",
    "    \n",
    "    1 * ~np.isnan(master_catalogue['f_vista_j']) +\n",
    "    1 * ~np.isnan(master_catalogue['f_vista_h']) +\n",
    "    1 * ~np.isnan(master_catalogue['f_vista_ks']) +\n",
    "    \n",
    "    1 * ~np.isnan(master_catalogue['f_wircam_j']) +\n",
    "    1 * ~np.isnan(master_catalogue['f_wircam_h']) +\n",
    "    1 * ~np.isnan(master_catalogue['f_wircam_ks']) +\n",
    "    \n",
    "    1 * ~np.isnan(master_catalogue['f_ukidss_y']) +\n",
    "    1 * ~np.isnan(master_catalogue['f_ukidss_j']) +\n",
    "    1 * ~np.isnan(master_catalogue['f_ukidss_h']) +\n",
    "    1 * ~np.isnan(master_catalogue['f_ukidss_k'])\n",
    ")\n",
    "\n",
    "nb_mir_flux = np.zeros(len(master_catalogue), dtype=bool)"
   ]
  },
  {
   "cell_type": "code",
   "execution_count": 60,
   "metadata": {
    "collapsed": true,
    "deletable": true,
    "editable": true
   },
   "outputs": [],
   "source": [
    "has_optical_flux = nb_optical_flux >= 2\n",
    "has_nir_flux = nb_nir_flux >= 2\n",
    "has_mir_flux = nb_mir_flux >= 2\n",
    "\n",
    "master_catalogue.add_column(\n",
    "    Column(\n",
    "        1 * has_optical_flux + 2 * has_nir_flux + 4 * has_mir_flux,\n",
    "        name=\"flag_optnir_det\")\n",
    ")"
   ]
  },
  {
   "cell_type": "markdown",
   "metadata": {
    "deletable": true,
    "editable": true
   },
   "source": [
    "## VIII - Cross-identification table\n",
    "\n",
    "We are producing a table associating to each HELP identifier, the identifiers of the sources in the pristine catalogue. This can be used to easily get additional information from them."
   ]
  },
  {
   "cell_type": "code",
   "execution_count": 61,
   "metadata": {
    "collapsed": true,
    "deletable": true,
    "editable": true
   },
   "outputs": [
    {
     "name": "stdout",
     "output_type": "stream",
     "text": [
      "64 master list rows had multiple associations.\n"
     ]
    }
   ],
   "source": [
    "\n",
    "#\n",
    "# Addind SDSS ids\n",
    "#\n",
    "sdss = Table.read(\"../../dmu0/dmu0_SDSS-DR13/data/SDSS-DR13_COSMOS.fits\")['objID', 'ra', 'dec']\n",
    "sdss_coords = SkyCoord(sdss['ra'] * u.deg, sdss['dec'] * u.deg)\n",
    "idx_ml, d2d, _ = sdss_coords.match_to_catalog_sky(SkyCoord(master_catalogue['ra'], master_catalogue['dec']))\n",
    "idx_sdss = np.arange(len(sdss))\n",
    "\n",
    "# Limit the cross-match to 1 arcsec\n",
    "mask = d2d <= 1. * u.arcsec\n",
    "idx_ml = idx_ml[mask]\n",
    "idx_sdss = idx_sdss[mask]\n",
    "d2d = d2d[mask]\n",
    "nb_orig_matches = len(idx_ml)\n",
    "\n",
    "# In case of multiple associations of one master list object to an SDSS object, we keep only the\n",
    "# association to the nearest one.\n",
    "sort_idx = np.argsort(d2d)\n",
    "idx_ml = idx_ml[sort_idx]\n",
    "idx_sdss = idx_sdss[sort_idx]\n",
    "_, unique_idx = np.unique(idx_ml, return_index=True)\n",
    "idx_ml = idx_ml[unique_idx]\n",
    "idx_sdss = idx_sdss[unique_idx]\n",
    "print(\"{} master list rows had multiple associations.\".format(nb_orig_matches - len(idx_ml)))\n",
    "\n",
    "# Adding the ObjID to the master list\n",
    "master_catalogue.add_column(Column(data=np.full(len(master_catalogue), -1, dtype='>i8'), name=\"sdss_id\"))\n",
    "master_catalogue['sdss_id'][idx_ml] = sdss['objID'][idx_sdss]"
   ]
  },
  {
   "cell_type": "code",
   "execution_count": 62,
   "metadata": {
    "collapsed": true,
    "deletable": true,
    "editable": true
   },
   "outputs": [
    {
     "name": "stdout",
     "output_type": "stream",
     "text": [
      "['old_help_id', 'cosmos_id', 'candels_id', 'cfhtls_id', 'decals_id', 'hsc-udeep_id', 'hsc-deep_id', 'kids_id', 'las_id', 'wirds_id', 'ps1_id', 'help_id', 'specz_id', 'sdss_id']\n"
     ]
    }
   ],
   "source": [
    "id_names = []\n",
    "for col in master_catalogue.colnames:\n",
    "    if '_id' in col:\n",
    "        id_names += [col]\n",
    "    if '_intid' in col:\n",
    "        id_names += [col]\n",
    "        \n",
    "print(id_names)"
   ]
  },
  {
   "cell_type": "code",
   "execution_count": 63,
   "metadata": {
    "collapsed": true,
    "deletable": true,
    "editable": true
   },
   "outputs": [],
   "source": [
    "master_catalogue[id_names].write(\n",
    "    \"{}/master_list_cross_ident_cosmos{}.fits\".format(OUT_DIR, SUFFIX), overwrite=True)\n",
    "id_names.remove('help_id')\n",
    "id_names.remove('old_help_id')\n",
    "master_catalogue.remove_columns(id_names)"
   ]
  },
  {
   "cell_type": "markdown",
   "metadata": {
    "deletable": true,
    "editable": true
   },
   "source": [
    "## IX - Adding HEALPix index\n",
    "\n",
    "We are adding a column with a HEALPix index at order 13 associated with each source."
   ]
  },
  {
   "cell_type": "code",
   "execution_count": 64,
   "metadata": {
    "collapsed": true,
    "deletable": true,
    "editable": true
   },
   "outputs": [],
   "source": [
    "master_catalogue.add_column(Column(\n",
    "    data=coords_to_hpidx(master_catalogue['ra'], master_catalogue['dec'], order=13),\n",
    "    name=\"hp_idx\"\n",
    "))"
   ]
  },
  {
   "cell_type": "markdown",
   "metadata": {
    "deletable": true,
    "editable": true
   },
   "source": [
    "## IX - Saving the catalogue"
   ]
  },
  {
   "cell_type": "code",
   "execution_count": 65,
   "metadata": {
    "collapsed": true,
    "deletable": true,
    "editable": true
   },
   "outputs": [],
   "source": [
    "columns = [\"help_id\", \"old_help_id\", \"field\", \"ra\", \"dec\", \"hp_idx\"]\n",
    "\n",
    "bands = [column[5:] for column in master_catalogue.colnames if 'f_ap' in column]\n",
    "for band in bands:\n",
    "    columns += [\"f_ap_{}\".format(band), \"ferr_ap_{}\".format(band),\n",
    "                \"m_ap_{}\".format(band), \"merr_ap_{}\".format(band),\n",
    "                \"f_{}\".format(band), \"ferr_{}\".format(band),\n",
    "                \"m_{}\".format(band), \"merr_{}\".format(band),\n",
    "                \"flag_{}\".format(band)]    \n",
    "    \n",
    "# columns += ['f_wfc3_f125w', 'ferr_wfc3_f125w', 'm_wfc3_f125w', 'merr_wfc3_f125w', 'flag_wfc3_f125w',\n",
    "#            'f_acs_f606w', 'ferr_acs_f606w', 'm_acs_f606w', 'merr_acs_f606w', 'flag_acs_f606w',\n",
    "#            'f_acs_f814w', 'ferr_acs_f814w', 'm_acs_f814w', 'merr_acs_f814w', 'flag_acs_f814w'\n",
    "#           ]\n",
    "\n",
    "for tot_band in ['wfc3_f125w', 'acs_f606w', 'acs_f814w', 'irac_i1', 'irac_i2', 'irac_i3', 'irac_i4']:\n",
    "    columns += ['f_' + tot_band,'ferr_' + tot_band,'m_' + tot_band,'merr_' + tot_band,'flag_' + tot_band,]\n",
    "    \n",
    "columns += [\"stellarity\", \"stellarity_origin\", \"flag_cleaned\", \n",
    "            \"flag_merged\", \"flag_gaia\", \"flag_optnir_obs\", \"flag_optnir_det\", \"ebv\",'zspec_association_flag', 'zspec_qual', 'zspec']"
   ]
  },
  {
   "cell_type": "code",
   "execution_count": 66,
   "metadata": {
    "collapsed": false,
    "deletable": true,
    "editable": true
   },
   "outputs": [
    {
     "name": "stdout",
     "output_type": "stream",
     "text": [
      "Missing columns: set()\n"
     ]
    }
   ],
   "source": [
    "# We check for columns in the master catalogue that we will not save to disk.\n",
    "print(\"Missing columns: {}\".format(set(master_catalogue.colnames) - set(columns)))"
   ]
  },
  {
   "cell_type": "code",
   "execution_count": 67,
   "metadata": {
    "collapsed": true,
    "deletable": true,
    "editable": true
   },
   "outputs": [],
   "source": [
    "master_catalogue[columns].write(\"{}/master_catalogue_cosmos{}.fits\".format(OUT_DIR, SUFFIX), overwrite = True)"
   ]
  }
 ],
 "metadata": {
  "kernelspec": {
   "display_name": "Python (herschelhelp_internal)",
   "language": "python",
   "name": "helpint"
  },
  "language_info": {
   "codemirror_mode": {
    "name": "ipython",
    "version": 3
   },
   "file_extension": ".py",
   "mimetype": "text/x-python",
   "name": "python",
   "nbconvert_exporter": "python",
   "pygments_lexer": "ipython3",
   "version": "3.7.2"
  }
 },
 "nbformat": 4,
 "nbformat_minor": 2
}
