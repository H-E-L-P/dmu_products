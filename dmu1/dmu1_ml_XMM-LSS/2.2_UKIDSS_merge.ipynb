{
 "cells": [
  {
   "cell_type": "markdown",
   "metadata": {},
   "source": [
    "# XMM-LSS master catalogue\n",
    "\n",
    "This notebook presents the merge of the various pristine catalogues to produce the HELP master catalogue on XMM-LSS."
   ]
  },
  {
   "cell_type": "code",
   "execution_count": 1,
   "metadata": {},
   "outputs": [
    {
     "name": "stdout",
     "output_type": "stream",
     "text": [
      "This notebook was run with herschelhelp_internal version: \n",
      "0246c5d (Thu Jan 25 17:01:47 2018 +0000)\n"
     ]
    }
   ],
   "source": [
    "from herschelhelp_internal import git_version\n",
    "print(\"This notebook was run with herschelhelp_internal version: \\n{}\".format(git_version()))"
   ]
  },
  {
   "cell_type": "code",
   "execution_count": 2,
   "metadata": {},
   "outputs": [],
   "source": [
    "%matplotlib inline\n",
    "#%config InlineBackend.figure_format = 'svg'\n",
    "\n",
    "import matplotlib.pyplot as plt\n",
    "plt.rc('figure', figsize=(10, 6))\n",
    "\n",
    "import os\n",
    "import time\n",
    "\n",
    "from astropy import units as u\n",
    "from astropy.coordinates import SkyCoord\n",
    "from astropy.table import Column, Table\n",
    "import numpy as np\n",
    "from pymoc import MOC\n",
    "\n",
    "from herschelhelp_internal.masterlist import merge_catalogues, nb_merge_dist_plot, specz_merge\n",
    "from herschelhelp_internal.utils import coords_to_hpidx, ebv, gen_help_id, inMoc"
   ]
  },
  {
   "cell_type": "code",
   "execution_count": 3,
   "metadata": {
    "collapsed": true
   },
   "outputs": [],
   "source": [
    "TMP_DIR = os.environ.get('TMP_DIR', \"./data_tmp\")\n",
    "OUT_DIR = os.environ.get('OUT_DIR', \"./data\")\n",
    "SUFFIX = os.environ.get('SUFFIX', time.strftime(\"_%Y%m%d\"))\n",
    "\n",
    "try:\n",
    "    os.makedirs(OUT_DIR)\n",
    "except FileExistsError:\n",
    "    pass"
   ]
  },
  {
   "cell_type": "markdown",
   "metadata": {},
   "source": [
    "## I - Reading the prepared pristine catalogues"
   ]
  },
  {
   "cell_type": "code",
   "execution_count": 4,
   "metadata": {
    "collapsed": true
   },
   "outputs": [],
   "source": [
    "candels = Table.read(\"{}/CANDELS-UDS.fits\".format(TMP_DIR))           # 1.2\n",
    "#cfht_wirds = Table.read(\"{}/CFHT-WIRDS.fits\".format(TMP_DIR))     # 1.3\n",
    "#cfhtls_wide = Table.read(\"{}/CFHTLS-WIDE.fits\".format(TMP_DIR))   # 1.4a\n",
    "#cfhtls_deep = Table.read(\"{}/CFHTLS-DEEP.fits\".format(TMP_DIR))   # 1.4b\n",
    "#We no longer use CFHTLenS as it is the same raw data set as CFHTLS-WIDE\n",
    "# cfhtlens = Table.read(\"{}/CFHTLENS.fits\".format(TMP_DIR))         # 1.5\n",
    "#decals = Table.read(\"{}/DECaLS.fits\".format(TMP_DIR))             # 1.6\n",
    "#servs = Table.read(\"{}/SERVS.fits\".format(TMP_DIR))               # 1.8\n",
    "#swire = Table.read(\"{}/SWIRE.fits\".format(TMP_DIR))               # 1.7\n",
    "#hsc_wide = Table.read(\"{}/HSC-WIDE.fits\".format(TMP_DIR))         # 1.9a\n",
    "#hsc_deep = Table.read(\"{}/HSC-DEEP.fits\".format(TMP_DIR))         # 1.9b\n",
    "#hsc_udeep = Table.read(\"{}/HSC-UDEEP.fits\".format(TMP_DIR))       # 1.9c\n",
    "#ps1 = Table.read(\"{}/PS1.fits\".format(TMP_DIR))                   # 1.10\n",
    "#sxds = Table.read(\"{}/SXDS.fits\".format(TMP_DIR))                 # 1.11\n",
    "#sparcs = Table.read(\"{}/SpARCS.fits\".format(TMP_DIR))             # 1.12\n",
    "dxs = Table.read(\"{}/UKIDSS-DXS.fits\".format(TMP_DIR))            # 1.13\n",
    "uds = Table.read(\"{}/UKIDSS-UDS.fits\".format(TMP_DIR))            # 1.14\n",
    "#vipers = Table.read(\"{}/VIPERS.fits\".format(TMP_DIR))             # 1.15\n",
    "#vhs = Table.read(\"{}/VISTA-VHS.fits\".format(TMP_DIR))             # 1.16\n",
    "#video = Table.read(\"{}/VISTA-VIDEO.fits\".format(TMP_DIR))         # 1.17\n",
    "#viking = Table.read(\"{}/VISTA-VIKING.fits\".format(TMP_DIR))       # 1.18"
   ]
  },
  {
   "cell_type": "markdown",
   "metadata": {},
   "source": [
    "## II - Merging tables\n",
    "\n",
    "We first merge the optical catalogues and then add the infrared ones. We start with PanSTARRS because it coevrs the whole field.\n",
    "\n",
    "At every step, we look at the distribution of the distances separating the sources from one catalogue to the other (within a maximum radius) to determine the best cross-matching radius."
   ]
  },
  {
   "cell_type": "markdown",
   "metadata": {},
   "source": [
    "### Start with CANDELS"
   ]
  },
  {
   "cell_type": "code",
   "execution_count": 5,
   "metadata": {},
   "outputs": [
    {
     "name": "stdout",
     "output_type": "stream",
     "text": [
      "f_acs_f606w  removed.\n",
      "ferr_acs_f606w  removed.\n",
      "f_ap_acs_f606w  removed.\n",
      "ferr_ap_acs_f606w  removed.\n",
      "f_acs_f814w  removed.\n",
      "ferr_acs_f814w  removed.\n",
      "f_ap_acs_f814w  removed.\n",
      "ferr_ap_acs_f814w  removed.\n",
      "f_wfc3_f125w  removed.\n",
      "ferr_wfc3_f125w  removed.\n",
      "f_ap_wfc3_f125w  removed.\n",
      "ferr_ap_wfc3_f125w  removed.\n",
      "f_wfc3_f160w  removed.\n",
      "ferr_wfc3_f160w  removed.\n",
      "f_ap_wfc3_f160w  removed.\n",
      "ferr_ap_wfc3_f160w  removed.\n",
      "f_candels-megacam_u  removed.\n",
      "ferr_candels-megacam_u  removed.\n",
      "f_suprime_b  removed.\n",
      "ferr_suprime_b  removed.\n",
      "f_suprime_v  removed.\n",
      "ferr_suprime_v  removed.\n",
      "f_suprime_rc  removed.\n",
      "ferr_suprime_rc  removed.\n",
      "f_suprime_ip  removed.\n",
      "ferr_suprime_ip  removed.\n",
      "f_suprime_zp  removed.\n",
      "ferr_suprime_zp  removed.\n",
      "f_hawki_k  removed.\n",
      "ferr_hawki_y  removed.\n",
      "ferr_hawki_k  removed.\n",
      "f_candels-irac_i1  removed.\n",
      "ferr_candels-irac_i1  removed.\n",
      "f_candels-irac_i2  removed.\n",
      "ferr_candels-irac_i2  removed.\n",
      "f_candels-irac_i3  removed.\n",
      "ferr_candels-irac_i3  removed.\n",
      "f_candels-irac_i4  removed.\n",
      "ferr_candels-irac_i4  removed.\n",
      "m_acs_f606w  removed.\n",
      "merr_acs_f606w  removed.\n",
      "flag_acs_f606w  removed.\n",
      "m_ap_acs_f606w  removed.\n",
      "merr_ap_acs_f606w  removed.\n",
      "m_acs_f814w  removed.\n",
      "merr_acs_f814w  removed.\n",
      "flag_acs_f814w  removed.\n",
      "m_ap_acs_f814w  removed.\n",
      "merr_ap_acs_f814w  removed.\n",
      "m_wfc3_f125w  removed.\n",
      "merr_wfc3_f125w  removed.\n",
      "flag_wfc3_f125w  removed.\n",
      "m_ap_wfc3_f125w  removed.\n",
      "merr_ap_wfc3_f125w  removed.\n",
      "m_wfc3_f160w  removed.\n",
      "merr_wfc3_f160w  removed.\n",
      "flag_wfc3_f160w  removed.\n",
      "m_ap_wfc3_f160w  removed.\n",
      "merr_ap_wfc3_f160w  removed.\n",
      "m_candels-megacam_u  removed.\n",
      "merr_candels-megacam_u  removed.\n",
      "flag_candels-megacam_u  removed.\n",
      "m_suprime_b  removed.\n",
      "merr_suprime_b  removed.\n",
      "flag_suprime_b  removed.\n",
      "m_suprime_v  removed.\n",
      "merr_suprime_v  removed.\n",
      "flag_suprime_v  removed.\n",
      "m_suprime_rc  removed.\n",
      "merr_suprime_rc  removed.\n",
      "flag_suprime_rc  removed.\n",
      "m_suprime_ip  removed.\n",
      "merr_suprime_ip  removed.\n",
      "flag_suprime_ip  removed.\n",
      "m_suprime_zp  removed.\n",
      "merr_suprime_zp  removed.\n",
      "flag_suprime_zp  removed.\n",
      "m_hawki_k  removed.\n",
      "merr_hawki_k  removed.\n",
      "flag_hawki_k  removed.\n",
      "m_candels-irac_i1  removed.\n",
      "merr_candels-irac_i1  removed.\n",
      "flag_candels-irac_i1  removed.\n",
      "m_candels-irac_i2  removed.\n",
      "merr_candels-irac_i2  removed.\n",
      "flag_candels-irac_i2  removed.\n",
      "m_candels-irac_i3  removed.\n",
      "merr_candels-irac_i3  removed.\n",
      "flag_candels-irac_i3  removed.\n",
      "m_candels-irac_i4  removed.\n",
      "merr_candels-irac_i4  removed.\n",
      "flag_candels-irac_i4  removed.\n"
     ]
    }
   ],
   "source": [
    "master_catalogue = candels\n",
    "master_catalogue['candels_ra'].name = 'ra'\n",
    "master_catalogue['candels_dec'].name = 'dec'\n",
    "del candels\n",
    "unused_bands = [ 'candels-megacam', 'candels-irac', 'hawki', 'suprime', 'wfc3', 'acs']\n",
    "for col in master_catalogue.colnames:\n",
    "    \n",
    "    for band in unused_bands:\n",
    "        if band in col:\n",
    "            master_catalogue.remove_column(col)\n",
    "            print(col, ' removed.')"
   ]
  },
  {
   "cell_type": "markdown",
   "metadata": {},
   "source": [
    "### Add DXS"
   ]
  },
  {
   "cell_type": "code",
   "execution_count": 6,
   "metadata": {},
   "outputs": [
    {
     "name": "stdout",
     "output_type": "stream",
     "text": [
      "HELP Warning: There weren't any cross matches. The two surveys probably don't overlap.\n"
     ]
    }
   ],
   "source": [
    "nb_merge_dist_plot(\n",
    "    SkyCoord(master_catalogue['ra'], master_catalogue['dec']),\n",
    "    SkyCoord(dxs['dxs_ra'], dxs['dxs_dec'])\n",
    ")"
   ]
  },
  {
   "cell_type": "code",
   "execution_count": 7,
   "metadata": {
    "collapsed": true
   },
   "outputs": [],
   "source": [
    "# Given the graph above, we use 0.8 arc-second radius\n",
    "master_catalogue = merge_catalogues(master_catalogue, dxs, \"dxs_ra\", \"dxs_dec\", radius=0.8*u.arcsec)"
   ]
  },
  {
   "cell_type": "markdown",
   "metadata": {},
   "source": [
    "### Add UDS"
   ]
  },
  {
   "cell_type": "code",
   "execution_count": 8,
   "metadata": {},
   "outputs": [
    {
     "data": {
      "image/png": "[encoded data removed]",
      "text/plain": [
       "<matplotlib.figure.Figure at 0x7fdb14b554a8>"
      ]
     },
     "metadata": {},
     "output_type": "display_data"
    }
   ],
   "source": [
    "nb_merge_dist_plot(\n",
    "    SkyCoord(master_catalogue['ra'], master_catalogue['dec']),\n",
    "    SkyCoord(uds['uds_ra'], uds['uds_dec'])\n",
    ")"
   ]
  },
  {
   "cell_type": "code",
   "execution_count": 9,
   "metadata": {},
   "outputs": [],
   "source": [
    "# Given the graph above, we use 0.6 arc-second radius\n",
    "master_catalogue = merge_catalogues(master_catalogue, uds, \"uds_ra\", \"uds_dec\", radius=0.6*u.arcsec)"
   ]
  },
  {
   "cell_type": "markdown",
   "metadata": {},
   "source": [
    "### Cleaning\n",
    "\n",
    "When we merge the catalogues, astropy masks the non-existent values (e.g. when a row comes only from a catalogue and has no counterparts in the other, the columns from the latest are masked for that row). We indicate to use NaN for masked values for floats columns, False for flag columns and -1 for ID columns."
   ]
  },
  {
   "cell_type": "code",
   "execution_count": 10,
   "metadata": {
    "collapsed": true
   },
   "outputs": [],
   "source": [
    "for col in master_catalogue.colnames:\n",
    "    if \"m_\" in col or \"merr_\" in col or \"f_\" in col or \"ferr_\" in col or \"stellarity\" in col:\n",
    "        master_catalogue[col] = master_catalogue[col].astype(float)\n",
    "        master_catalogue[col].fill_value = np.nan\n",
    "    elif \"flag\" in col:\n",
    "        master_catalogue[col].fill_value = 0\n",
    "    elif \"id\" in col:\n",
    "        master_catalogue[col].fill_value = -1\n",
    "        \n",
    "master_catalogue = master_catalogue.filled()"
   ]
  },
  {
   "cell_type": "code",
   "execution_count": 11,
   "metadata": {
    "collapsed": true
   },
   "outputs": [],
   "source": [
    "#Since this is not the final merged catalogue. We rename column names to make them unique\n",
    "master_catalogue['ra'].name = 'ukidss_ra'\n",
    "master_catalogue['dec'].name = 'ukidss_dec'\n",
    "master_catalogue['flag_merged'].name = 'ukidss_flag_merged'"
   ]
  },
  {
   "cell_type": "code",
   "execution_count": 12,
   "metadata": {},
   "outputs": [
    {
     "data": {
      "text/html": [
       "&lt;Table length=10&gt;\n",
       "<table id=\"table140578618877656-746900\" class=\"table-striped table-bordered table-condensed\">\n",
       "<thead><tr><th>idx</th><th>candels_id</th><th>ukidss_ra</th><th>ukidss_dec</th><th>candels_stellarity</th><th>f_candels-ukidss_j</th><th>ferr_candels-ukidss_j</th><th>f_candels-ukidss_h</th><th>ferr_candels-ukidss_h</th><th>f_candels-ukidss_k</th><th>ferr_candels-ukidss_k</th><th>m_candels-ukidss_j</th><th>merr_candels-ukidss_j</th><th>flag_candels-ukidss_j</th><th>m_candels-ukidss_h</th><th>merr_candels-ukidss_h</th><th>flag_candels-ukidss_h</th><th>m_candels-ukidss_k</th><th>merr_candels-ukidss_k</th><th>flag_candels-ukidss_k</th><th>candels_flag_cleaned</th><th>candels_flag_gaia</th><th>ukidss_flag_merged</th><th>dxs_id</th><th>m_ap_ukidss_j</th><th>merr_ap_ukidss_j</th><th>m_ukidss_j</th><th>merr_ukidss_j</th><th>m_ap_ukidss_k</th><th>merr_ap_ukidss_k</th><th>m_ukidss_k</th><th>merr_ukidss_k</th><th>dxs_stellarity</th><th>f_ap_ukidss_j</th><th>ferr_ap_ukidss_j</th><th>f_ukidss_j</th><th>ferr_ukidss_j</th><th>flag_ukidss_j</th><th>f_ap_ukidss_k</th><th>ferr_ap_ukidss_k</th><th>f_ukidss_k</th><th>ferr_ukidss_k</th><th>flag_ukidss_k</th><th>dxs_flag_cleaned</th><th>dxs_flag_gaia</th><th>uds_id</th><th>m_ap_uds_j</th><th>merr_ap_uds_j</th><th>m_uds_j</th><th>merr_uds_j</th><th>m_ap_uds_h</th><th>merr_ap_uds_h</th><th>m_uds_h</th><th>merr_uds_h</th><th>m_ap_uds_k</th><th>merr_ap_uds_k</th><th>m_uds_k</th><th>merr_uds_k</th><th>uds_stellarity</th><th>f_ap_uds_j</th><th>ferr_ap_uds_j</th><th>f_uds_j</th><th>ferr_uds_j</th><th>flag_uds_j</th><th>f_ap_uds_h</th><th>ferr_ap_uds_h</th><th>f_uds_h</th><th>ferr_uds_h</th><th>flag_uds_h</th><th>f_ap_uds_k</th><th>ferr_ap_uds_k</th><th>f_uds_k</th><th>ferr_uds_k</th><th>flag_uds_k</th><th>uds_flag_cleaned</th><th>uds_flag_gaia</th></tr></thead>\n",
       "<thead><tr><th></th><th></th><th>deg</th><th>deg</th><th></th><th></th><th></th><th></th><th></th><th></th><th></th><th></th><th></th><th></th><th></th><th></th><th></th><th></th><th></th><th></th><th></th><th></th><th></th><th></th><th></th><th></th><th></th><th></th><th></th><th></th><th></th><th></th><th></th><th></th><th></th><th></th><th></th><th></th><th></th><th></th><th></th><th></th><th></th><th></th><th></th><th></th><th></th><th></th><th></th><th></th><th></th><th></th><th></th><th></th><th></th><th></th><th></th><th></th><th></th><th></th><th></th><th></th><th></th><th></th><th></th><th></th><th></th><th></th><th></th><th></th><th></th><th></th><th></th><th></th><th></th><th></th></tr></thead>\n",
       "<tr><td>0</td><td>21539</td><td>34.3795257693</td><td>-5.15683775973</td><td>0.019999999553</td><td>2.8747363</td><td>0.0452537</td><td>3.9708605</td><td>0.0940876</td><td>5.3420701</td><td>0.0563719</td><td>22.7535049676</td><td>0.0170915087026</td><td>False</td><td>22.4027884246</td><td>0.0257259890492</td><td>False</td><td>22.0807260434</td><td>0.011457171399</td><td>False</td><td>False</td><td>0</td><td>False</td><td>-1</td><td>nan</td><td>nan</td><td>nan</td><td>nan</td><td>nan</td><td>nan</td><td>nan</td><td>nan</td><td>nan</td><td>nan</td><td>nan</td><td>nan</td><td>nan</td><td>False</td><td>nan</td><td>nan</td><td>nan</td><td>nan</td><td>False</td><td>False</td><td>0</td><td>-1</td><td>nan</td><td>nan</td><td>nan</td><td>nan</td><td>nan</td><td>nan</td><td>nan</td><td>nan</td><td>nan</td><td>nan</td><td>nan</td><td>nan</td><td>nan</td><td>nan</td><td>nan</td><td>nan</td><td>nan</td><td>False</td><td>nan</td><td>nan</td><td>nan</td><td>nan</td><td>False</td><td>nan</td><td>nan</td><td>nan</td><td>nan</td><td>False</td><td>False</td><td>0</td></tr>\n",
       "<tr><td>1</td><td>20563</td><td>34.3530670693</td><td>-5.16239645973</td><td>0.0</td><td>1.66879</td><td>0.0438989</td><td>2.0225565</td><td>0.0923951</td><td>2.1947441</td><td>0.0546349</td><td>23.3439957784</td><td>0.0285611880938</td><td>False</td><td>23.1352483439</td><td>0.0495989631005</td><td>False</td><td>23.0465402745</td><td>0.0270277928864</td><td>False</td><td>False</td><td>0</td><td>False</td><td>-1</td><td>nan</td><td>nan</td><td>nan</td><td>nan</td><td>nan</td><td>nan</td><td>nan</td><td>nan</td><td>nan</td><td>nan</td><td>nan</td><td>nan</td><td>nan</td><td>False</td><td>nan</td><td>nan</td><td>nan</td><td>nan</td><td>False</td><td>False</td><td>0</td><td>-1</td><td>nan</td><td>nan</td><td>nan</td><td>nan</td><td>nan</td><td>nan</td><td>nan</td><td>nan</td><td>nan</td><td>nan</td><td>nan</td><td>nan</td><td>nan</td><td>nan</td><td>nan</td><td>nan</td><td>nan</td><td>False</td><td>nan</td><td>nan</td><td>nan</td><td>nan</td><td>False</td><td>nan</td><td>nan</td><td>nan</td><td>nan</td><td>False</td><td>False</td><td>0</td></tr>\n",
       "<tr><td>2</td><td>27097</td><td>34.3747176693</td><td>-5.14531865973</td><td>0.0</td><td>1.1605744</td><td>0.0502763</td><td>1.51387</td><td>0.1043705</td><td>1.8444729</td><td>0.0626992</td><td>23.7383175334</td><td>0.0470342953897</td><td>False</td><td>23.4497785431</td><td>0.0748537394616</td><td>False</td><td>23.2353193032</td><td>0.036907450063</td><td>False</td><td>False</td><td>0</td><td>False</td><td>-1</td><td>nan</td><td>nan</td><td>nan</td><td>nan</td><td>nan</td><td>nan</td><td>nan</td><td>nan</td><td>nan</td><td>nan</td><td>nan</td><td>nan</td><td>nan</td><td>False</td><td>nan</td><td>nan</td><td>nan</td><td>nan</td><td>False</td><td>False</td><td>0</td><td>-1</td><td>nan</td><td>nan</td><td>nan</td><td>nan</td><td>nan</td><td>nan</td><td>nan</td><td>nan</td><td>nan</td><td>nan</td><td>nan</td><td>nan</td><td>nan</td><td>nan</td><td>nan</td><td>nan</td><td>nan</td><td>False</td><td>nan</td><td>nan</td><td>nan</td><td>nan</td><td>False</td><td>nan</td><td>nan</td><td>nan</td><td>nan</td><td>False</td><td>False</td><td>0</td></tr>\n",
       "<tr><td>3</td><td>14826</td><td>34.2856193693</td><td>-5.19395515973</td><td>0.0</td><td>1.007157</td><td>0.0422275</td><td>1.353574</td><td>0.0888748</td><td>1.4224256</td><td>0.0519606</td><td>23.8922570612</td><td>0.0455221237468</td><td>False</td><td>23.5712949908</td><td>0.0712887422857</td><td>False</td><td>23.5174261003</td><td>0.039661480109</td><td>False</td><td>False</td><td>0</td><td>False</td><td>-1</td><td>nan</td><td>nan</td><td>nan</td><td>nan</td><td>nan</td><td>nan</td><td>nan</td><td>nan</td><td>nan</td><td>nan</td><td>nan</td><td>nan</td><td>nan</td><td>False</td><td>nan</td><td>nan</td><td>nan</td><td>nan</td><td>False</td><td>False</td><td>0</td><td>-1</td><td>nan</td><td>nan</td><td>nan</td><td>nan</td><td>nan</td><td>nan</td><td>nan</td><td>nan</td><td>nan</td><td>nan</td><td>nan</td><td>nan</td><td>nan</td><td>nan</td><td>nan</td><td>nan</td><td>nan</td><td>False</td><td>nan</td><td>nan</td><td>nan</td><td>nan</td><td>False</td><td>nan</td><td>nan</td><td>nan</td><td>nan</td><td>False</td><td>False</td><td>0</td></tr>\n",
       "<tr><td>4</td><td>14122</td><td>34.3560180693</td><td>-5.19795715973</td><td>0.019999999553</td><td>4.7127042</td><td>0.0448448</td><td>6.0105577</td><td>0.0941283</td><td>6.4281211</td><td>0.0565669</td><td>22.2168245463</td><td>0.0103315677982</td><td>False</td><td>21.9527130734</td><td>0.0170031648149</td><td>False</td><td>21.8797898753</td><td>0.00955438305618</td><td>False</td><td>False</td><td>0</td><td>False</td><td>-1</td><td>nan</td><td>nan</td><td>nan</td><td>nan</td><td>nan</td><td>nan</td><td>nan</td><td>nan</td><td>nan</td><td>nan</td><td>nan</td><td>nan</td><td>nan</td><td>False</td><td>nan</td><td>nan</td><td>nan</td><td>nan</td><td>False</td><td>False</td><td>0</td><td>-1</td><td>nan</td><td>nan</td><td>nan</td><td>nan</td><td>nan</td><td>nan</td><td>nan</td><td>nan</td><td>nan</td><td>nan</td><td>nan</td><td>nan</td><td>nan</td><td>nan</td><td>nan</td><td>nan</td><td>nan</td><td>False</td><td>nan</td><td>nan</td><td>nan</td><td>nan</td><td>False</td><td>nan</td><td>nan</td><td>nan</td><td>nan</td><td>False</td><td>False</td><td>0</td></tr>\n",
       "<tr><td>5</td><td>1265</td><td>34.3627124693</td><td>-5.26953255973</td><td>0.019999999553</td><td>0.6432481</td><td>0.0444648</td><td>0.7652047</td><td>0.0936547</td><td>0.9115449</td><td>0.0536024</td><td>24.3790537198</td><td>0.0750519794731</td><td>False</td><td>24.1905559278</td><td>0.132885094061</td><td>False</td><td>24.0005548361</td><td>0.0638455289936</td><td>False</td><td>False</td><td>0</td><td>True</td><td>-1</td><td>nan</td><td>nan</td><td>nan</td><td>nan</td><td>nan</td><td>nan</td><td>nan</td><td>nan</td><td>nan</td><td>nan</td><td>nan</td><td>nan</td><td>nan</td><td>False</td><td>nan</td><td>nan</td><td>nan</td><td>nan</td><td>False</td><td>False</td><td>0</td><td>-1</td><td>nan</td><td>nan</td><td>nan</td><td>nan</td><td>nan</td><td>nan</td><td>nan</td><td>nan</td><td>nan</td><td>nan</td><td>nan</td><td>nan</td><td>nan</td><td>nan</td><td>nan</td><td>nan</td><td>nan</td><td>False</td><td>nan</td><td>nan</td><td>nan</td><td>nan</td><td>False</td><td>nan</td><td>nan</td><td>nan</td><td>nan</td><td>False</td><td>False</td><td>0</td></tr>\n",
       "<tr><td>6</td><td>13273</td><td>34.3243668693</td><td>-5.20170115973</td><td>0.0</td><td>0.3408017</td><td>0.0415202</td><td>0.2728979</td><td>0.0877595</td><td>0.3974123</td><td>0.0509603</td><td>25.0687456188</td><td>0.13227628961</td><td>False</td><td>25.3099995157</td><td>0.349155000685</td><td>False</td><td>24.9018967388</td><td>0.139224283484</td><td>False</td><td>False</td><td>0</td><td>False</td><td>-1</td><td>nan</td><td>nan</td><td>nan</td><td>nan</td><td>nan</td><td>nan</td><td>nan</td><td>nan</td><td>nan</td><td>nan</td><td>nan</td><td>nan</td><td>nan</td><td>False</td><td>nan</td><td>nan</td><td>nan</td><td>nan</td><td>False</td><td>False</td><td>0</td><td>-1</td><td>nan</td><td>nan</td><td>nan</td><td>nan</td><td>nan</td><td>nan</td><td>nan</td><td>nan</td><td>nan</td><td>nan</td><td>nan</td><td>nan</td><td>nan</td><td>nan</td><td>nan</td><td>nan</td><td>nan</td><td>False</td><td>nan</td><td>nan</td><td>nan</td><td>nan</td><td>False</td><td>nan</td><td>nan</td><td>nan</td><td>nan</td><td>False</td><td>False</td><td>0</td></tr>\n",
       "<tr><td>7</td><td>9036</td><td>34.2784354693</td><td>-5.22480465973</td><td>0.0</td><td>2.2024794</td><td>0.0400135</td><td>3.2462478</td><td>0.0842658</td><td>3.284873</td><td>0.049583</td><td>23.0427203622</td><td>0.0197250905634</td><td>False</td><td>22.6215458292</td><td>0.0281834399342</td><td>False</td><td>22.6087035413</td><td>0.016388474757</td><td>False</td><td>False</td><td>0</td><td>False</td><td>-1</td><td>nan</td><td>nan</td><td>nan</td><td>nan</td><td>nan</td><td>nan</td><td>nan</td><td>nan</td><td>nan</td><td>nan</td><td>nan</td><td>nan</td><td>nan</td><td>False</td><td>nan</td><td>nan</td><td>nan</td><td>nan</td><td>False</td><td>False</td><td>0</td><td>-1</td><td>nan</td><td>nan</td><td>nan</td><td>nan</td><td>nan</td><td>nan</td><td>nan</td><td>nan</td><td>nan</td><td>nan</td><td>nan</td><td>nan</td><td>nan</td><td>nan</td><td>nan</td><td>nan</td><td>nan</td><td>False</td><td>nan</td><td>nan</td><td>nan</td><td>nan</td><td>False</td><td>nan</td><td>nan</td><td>nan</td><td>nan</td><td>False</td><td>False</td><td>0</td></tr>\n",
       "<tr><td>8</td><td>30535</td><td>34.3719116693</td><td>-5.21773125973</td><td>0.0</td><td>0.0406514</td><td>0.0429687</td><td>0.1786621</td><td>0.0905867</td><td>0.1386089</td><td>0.0536402</td><td>27.3773112327</td><td>1.14762771421</td><td>False</td><td>25.769918914</td><td>0.550498733976</td><td>False</td><td>26.0455222076</td><td>0.420168597907</td><td>False</td><td>False</td><td>0</td><td>False</td><td>-1</td><td>nan</td><td>nan</td><td>nan</td><td>nan</td><td>nan</td><td>nan</td><td>nan</td><td>nan</td><td>nan</td><td>nan</td><td>nan</td><td>nan</td><td>nan</td><td>False</td><td>nan</td><td>nan</td><td>nan</td><td>nan</td><td>False</td><td>False</td><td>0</td><td>-1</td><td>nan</td><td>nan</td><td>nan</td><td>nan</td><td>nan</td><td>nan</td><td>nan</td><td>nan</td><td>nan</td><td>nan</td><td>nan</td><td>nan</td><td>nan</td><td>nan</td><td>nan</td><td>nan</td><td>nan</td><td>False</td><td>nan</td><td>nan</td><td>nan</td><td>nan</td><td>False</td><td>nan</td><td>nan</td><td>nan</td><td>nan</td><td>False</td><td>False</td><td>0</td></tr>\n",
       "<tr><td>9</td><td>32778</td><td>34.2738293693</td><td>-5.17910785973</td><td>0.360000014305</td><td>0.161819</td><td>0.042651</td><td>0.0782598</td><td>0.0901892</td><td>0.1113557</td><td>0.0524762</td><td>25.8774262175</td><td>0.286169948332</td><td>False</td><td>26.6661531658</td><td>1.25123856333</td><td>False</td><td>26.2832188692</td><td>0.51165149362</td><td>False</td><td>False</td><td>0</td><td>False</td><td>-1</td><td>nan</td><td>nan</td><td>nan</td><td>nan</td><td>nan</td><td>nan</td><td>nan</td><td>nan</td><td>nan</td><td>nan</td><td>nan</td><td>nan</td><td>nan</td><td>False</td><td>nan</td><td>nan</td><td>nan</td><td>nan</td><td>False</td><td>False</td><td>0</td><td>-1</td><td>nan</td><td>nan</td><td>nan</td><td>nan</td><td>nan</td><td>nan</td><td>nan</td><td>nan</td><td>nan</td><td>nan</td><td>nan</td><td>nan</td><td>nan</td><td>nan</td><td>nan</td><td>nan</td><td>nan</td><td>False</td><td>nan</td><td>nan</td><td>nan</td><td>nan</td><td>False</td><td>nan</td><td>nan</td><td>nan</td><td>nan</td><td>False</td><td>False</td><td>0</td></tr>\n",
       "</table><style>table.dataTable {clear: both; width: auto !important; margin: 0 !important;}\n",
       ".dataTables_info, .dataTables_length, .dataTables_filter, .dataTables_paginate{\n",
       "display: inline-block; margin-right: 1em; }\n",
       ".paginate_button { margin-right: 5px; }\n",
       "</style>\n",
       "<script>\n",
       "require.config({paths: {\n",
       "    datatables: 'https://cdn.datatables.net/1.10.12/js/jquery.dataTables.min'\n",
       "}});\n",
       "require([\"datatables\"], function(){\n",
       "    console.log(\"$('#table140578618877656-746900').dataTable()\");\n",
       "    $('#table140578618877656-746900').dataTable({\n",
       "        \"order\": [],\n",
       "        \"iDisplayLength\": 50,\n",
       "        \"aLengthMenu\": [[10, 25, 50, 100, 500, 1000, -1], [10, 25, 50, 100, 500, 1000, 'All']],\n",
       "        \"pagingType\": \"full_numbers\"\n",
       "    });\n",
       "});\n",
       "</script>\n"
      ],
      "text/plain": [
       "<IPython.core.display.HTML object>"
      ]
     },
     "execution_count": 12,
     "metadata": {},
     "output_type": "execute_result"
    }
   ],
   "source": [
    "master_catalogue[:10].show_in_notebook()"
   ]
  },
  {
   "cell_type": "markdown",
   "metadata": {},
   "source": [
    "## V - Adding unique identifier"
   ]
  },
  {
   "cell_type": "code",
   "execution_count": 13,
   "metadata": {
    "collapsed": true
   },
   "outputs": [],
   "source": [
    "master_catalogue.add_column(Column(data=(np.char.array(master_catalogue['dxs_id'].astype(str)) \n",
    "                                    +  np.char.array(master_catalogue['uds_id'].astype(str) )\n",
    "                                        +  np.char.array(master_catalogue['candels_id'].astype(str) )), \n",
    "                              name=\"ukidss_intid\"))\n",
    "\n"
   ]
  },
  {
   "cell_type": "code",
   "execution_count": 14,
   "metadata": {},
   "outputs": [
    {
     "name": "stdout",
     "output_type": "stream",
     "text": [
      "['candels_id', 'dxs_id', 'uds_id', 'ukidss_intid']\n"
     ]
    }
   ],
   "source": [
    "id_names = []\n",
    "for col in master_catalogue.colnames:\n",
    "    if '_id' in col:\n",
    "        id_names += [col]\n",
    "    if '_intid' in col:\n",
    "        id_names += [col]\n",
    "        \n",
    "print(id_names)"
   ]
  },
  {
   "cell_type": "markdown",
   "metadata": {},
   "source": [
    "## VII - Choosing between multiple values for the same filter\n",
    "\n"
   ]
  },
  {
   "cell_type": "markdown",
   "metadata": {},
   "source": [
    "### VII.  UKIDSS DXS and UDS\n",
    "\n",
    "There is no overlap between UDS and DXS. We choose the UDS fluxes over CANDELS-UDS."
   ]
  },
  {
   "cell_type": "code",
   "execution_count": 15,
   "metadata": {
    "collapsed": true
   },
   "outputs": [],
   "source": [
    "for col in master_catalogue.colnames:\n",
    "    if 'uds_h' in col:\n",
    "        master_catalogue[col].name = col.replace('uds_h', 'ukidss_h')\n",
    "\n",
    "        \n",
    "\n",
    "has_uds_j =     ~np.isnan(master_catalogue['f_uds_j'])\n",
    "has_uds_h =     ~np.isnan(master_catalogue['f_ukidss_h'])\n",
    "has_uds_k =     ~np.isnan(master_catalogue['f_uds_k'])\n",
    "has_ukidss_k =  ~np.isnan(master_catalogue['f_ukidss_k'])\n",
    "has_ukidss_j =  ~np.isnan(master_catalogue['f_ukidss_j'])\n",
    "has_candels_j =     ~np.isnan(master_catalogue['f_candels-ukidss_j'])\n",
    "has_candels_h =     ~np.isnan(master_catalogue['f_candels-ukidss_h'])\n",
    "has_candels_k =     ~np.isnan(master_catalogue['f_candels-ukidss_k'])\n",
    "\n",
    "use_candels_j = has_candels_j & ~has_uds_j & ~has_ukidss_j \n",
    "use_candels_h = has_candels_h & ~has_uds_h \n",
    "use_candels_k = has_candels_k & ~has_uds_k & ~has_ukidss_k \n",
    "\n",
    "master_catalogue['f_ukidss_j'][has_uds_j] = master_catalogue['f_uds_j'][has_uds_j]\n",
    "master_catalogue['ferr_ukidss_j'][has_uds_j] = master_catalogue['ferr_uds_j'][has_uds_j]\n",
    "master_catalogue['m_ukidss_j'][has_uds_j] = master_catalogue['m_uds_j'][has_uds_j]\n",
    "master_catalogue['merr_ukidss_j'][has_uds_j] = master_catalogue['merr_uds_j'][has_uds_j]\n",
    "master_catalogue['flag_ukidss_j'][has_uds_j] = master_catalogue['flag_uds_j'][has_uds_j]\n",
    "\n",
    "master_catalogue['f_ukidss_j'][use_candels_j] = master_catalogue['f_candels-ukidss_j'][use_candels_j]\n",
    "master_catalogue['ferr_ukidss_j'][use_candels_j] = master_catalogue['ferr_candels-ukidss_j'][use_candels_j]\n",
    "master_catalogue['m_ukidss_j'][use_candels_j] = master_catalogue['m_candels-ukidss_j'][use_candels_j]\n",
    "master_catalogue['merr_ukidss_j'][use_candels_j] = master_catalogue['merr_candels-ukidss_j'][use_candels_j]\n",
    "master_catalogue['flag_ukidss_j'][use_candels_j] = master_catalogue['flag_candels-ukidss_j'][use_candels_j]\n",
    "\n",
    "\n",
    "master_catalogue['f_ukidss_h'][use_candels_h] = master_catalogue['f_candels-ukidss_h'][use_candels_h]\n",
    "master_catalogue['ferr_ukidss_h'][use_candels_h] = master_catalogue['ferr_candels-ukidss_h'][use_candels_h]\n",
    "master_catalogue['m_ukidss_h'][use_candels_h] = master_catalogue['m_candels-ukidss_h'][use_candels_h]\n",
    "master_catalogue['merr_ukidss_h'][use_candels_h] = master_catalogue['merr_candels-ukidss_h'][use_candels_h]\n",
    "master_catalogue['flag_ukidss_h'][use_candels_h] = master_catalogue['flag_candels-ukidss_h'][use_candels_h]\n",
    "\n",
    "\n",
    "master_catalogue['f_ukidss_k'][has_uds_k] = master_catalogue['f_uds_k'][has_uds_k]\n",
    "master_catalogue['ferr_ukidss_k'][has_uds_k] = master_catalogue['ferr_uds_k'][has_uds_k]\n",
    "master_catalogue['m_ukidss_k'][has_uds_k] = master_catalogue['m_uds_k'][has_uds_k]\n",
    "master_catalogue['merr_ukidss_k'][has_uds_k] = master_catalogue['merr_uds_k'][has_uds_k]\n",
    "master_catalogue['flag_ukidss_k'][has_uds_k] = master_catalogue['flag_uds_k'][has_uds_k]\n",
    "\n",
    "master_catalogue['f_ukidss_k'][use_candels_k] = master_catalogue['f_candels-ukidss_k'][use_candels_k]\n",
    "master_catalogue['ferr_ukidss_k'][use_candels_k] = master_catalogue['ferr_candels-ukidss_k'][use_candels_k]\n",
    "master_catalogue['m_ukidss_k'][use_candels_k] = master_catalogue['m_candels-ukidss_k'][use_candels_k]\n",
    "master_catalogue['merr_ukidss_k'][use_candels_k] = master_catalogue['merr_candels-ukidss_k'][use_candels_k]\n",
    "master_catalogue['flag_ukidss_k'][use_candels_k] = master_catalogue['flag_candels-ukidss_k'][use_candels_k]\n",
    "\n",
    "\n",
    "\n",
    "has_ap_uds_k =  ~np.isnan(master_catalogue['f_ap_uds_k'])\n",
    "has_ap_uds_j =  ~np.isnan(master_catalogue['f_ap_uds_j'])\n",
    "has_ap_ukidss_k =  ~np.isnan(master_catalogue['f_ap_ukidss_k'])\n",
    "has_ap_ukidss_j =  ~np.isnan(master_catalogue['f_ap_ukidss_j'])\n",
    "\n",
    "master_catalogue['f_ap_ukidss_k'][has_ap_uds_k] = master_catalogue['f_ap_uds_k'][has_ap_uds_k]\n",
    "master_catalogue['ferr_ap_ukidss_k'][has_ap_uds_k] = master_catalogue['ferr_ap_uds_k'][has_ap_uds_k]\n",
    "master_catalogue['m_ap_ukidss_k'][has_ap_uds_k] = master_catalogue['m_ap_uds_k'][has_ap_uds_k]\n",
    "master_catalogue['merr_ap_ukidss_k'][has_ap_uds_k] = master_catalogue['merr_ap_uds_k'][has_ap_uds_k]\n",
    "\n",
    "master_catalogue['f_ap_ukidss_j'][has_ap_uds_j] = master_catalogue['f_ap_uds_j'][has_ap_uds_j]\n",
    "master_catalogue['ferr_ap_ukidss_j'][has_ap_uds_j] = master_catalogue['ferr_ap_uds_j'][has_ap_uds_j]\n",
    "master_catalogue['m_ap_ukidss_j'][has_ap_uds_j] = master_catalogue['m_ap_uds_j'][has_ap_uds_j]\n",
    "master_catalogue['merr_ap_ukidss_j'][has_ap_uds_j] = master_catalogue['merr_ap_uds_j'][has_ap_uds_j]\n",
    "\n",
    "master_catalogue.remove_columns(['f_candels-ukidss_j','ferr_candels-ukidss_j',\n",
    "                                 'm_candels-ukidss_j','merr_candels-ukidss_j','flag_candels-ukidss_j',\n",
    "                                 'f_candels-ukidss_h','ferr_candels-ukidss_h',\n",
    "                                 'm_candels-ukidss_h','merr_candels-ukidss_h','flag_candels-ukidss_h',\n",
    "                                 'f_candels-ukidss_k','ferr_candels-ukidss_k',\n",
    "                                 'm_candels-ukidss_k','merr_candels-ukidss_k','flag_candels-ukidss_k',\n",
    "                                 \n",
    "                               'f_uds_j','ferr_uds_j','m_uds_j','merr_uds_j','flag_uds_j',\n",
    "                               'f_uds_k','ferr_uds_k','m_uds_k','merr_uds_k','flag_uds_k',\n",
    "                               'f_ap_uds_j','ferr_ap_uds_j','m_ap_uds_j','merr_ap_uds_j',\n",
    "                               'f_ap_uds_k','ferr_ap_uds_k','m_ap_uds_k','merr_ap_uds_k'])\n",
    "\n",
    "\n",
    "ukidss_origin = Table()\n",
    "ukidss_origin.add_column(master_catalogue['ukidss_intid'])\n",
    "\n",
    "origin = np.full(len(master_catalogue), '     ', dtype='<U5')\n",
    "origin[has_uds_j] = \"UDS\"\n",
    "origin[has_ukidss_j] = \"DXS\"\n",
    "origin[use_candels_j] = \"CANDELS\"\n",
    "ukidss_origin.add_column(Column(data=origin, name= 'f_ukidss_j' ))\n",
    "\n",
    "origin = np.full(len(master_catalogue), '     ', dtype='<U5')\n",
    "origin[has_uds_h] = \"UDS\"\n",
    "origin[use_candels_h] = \"CANDELS\"\n",
    "ukidss_origin.add_column(Column(data=origin, name= 'f_ukidss_h' ))\n",
    "\n",
    "origin = np.full(len(master_catalogue), '     ', dtype='<U5')\n",
    "origin[has_uds_k] = \"UDS\"\n",
    "origin[has_ukidss_k] = \"DXS\"\n",
    "origin[use_candels_k] = \"CANDELS\"\n",
    "ukidss_origin.add_column(Column(data=origin, name= 'f_ukidss_k' ))\n",
    "\n",
    "origin_ap = np.full(len(master_catalogue), '     ', dtype='<U5')\n",
    "origin_ap[has_ap_uds_k] = \"UDS\"\n",
    "origin_ap[has_ap_ukidss_k] = \"DXS\"\n",
    "ukidss_origin.add_column(Column(data=origin_ap, name= 'f_ap_ukidss_k' ))\n",
    "origin_ap = np.full(len(master_catalogue), '     ', dtype='<U5')\n",
    "origin_ap[has_ap_uds_j] = \"UDS\"\n",
    "origin_ap[has_ap_ukidss_j] = \"DXS\"\n",
    "ukidss_origin.add_column(Column(data=origin_ap, name= 'f_ap_ukidss_j' ))\n",
    "\n",
    "ukidss_origin.write(\"{}/xmm-lss_ukidss_fluxes_origins{}.fits\".format(OUT_DIR, SUFFIX), overwrite=True)"
   ]
  },
  {
   "cell_type": "markdown",
   "metadata": {},
   "source": [
    "## IX - Cross-identification table\n",
    "\n",
    "We are producing a table associating to each HELP identifier, the identifiers of the sources in the pristine catalogues. This can be used to easily get additional information from them.\n",
    "\n",
    "For convenience, we also cross-match the master list with the SDSS catalogue and add the objID associated with each source, if any. **TODO: should we correct the astrometry with respect to Gaia positions?**"
   ]
  },
  {
   "cell_type": "markdown",
   "metadata": {},
   "source": [
    "## XI - Saving the catalogue"
   ]
  },
  {
   "cell_type": "code",
   "execution_count": 16,
   "metadata": {
    "collapsed": true
   },
   "outputs": [],
   "source": [
    "columns = [\"help_id\", \"field\", \"ra\", \"dec\", \"hp_idx\"]\n",
    "\n",
    "bands = [column[5:] for column in master_catalogue.colnames if 'f_ap' in column]\n",
    "for band in bands:\n",
    "    columns += [\"f_ap_{}\".format(band), \"ferr_ap_{}\".format(band),\n",
    "                \"m_ap_{}\".format(band), \"merr_ap_{}\".format(band),\n",
    "                \"f_{}\".format(band), \"ferr_{}\".format(band),\n",
    "                \"m_{}\".format(band), \"merr_{}\".format(band),\n",
    "                \"flag_{}\".format(band)]    \n",
    "    \n",
    "columns += [\"stellarity\", \"stellarity_origin\", \"flag_cleaned\", \"flag_merged\", \"flag_gaia\", \"flag_optnir_obs\", \"flag_optnir_det\", \n",
    "            \"zspec\", \"zspec_qual\", \"zspec_association_flag\", \"ebv\"]"
   ]
  },
  {
   "cell_type": "code",
   "execution_count": 17,
   "metadata": {},
   "outputs": [
    {
     "name": "stdout",
     "output_type": "stream",
     "text": [
      "Missing columns: {'dxs_id', 'ukidss_dec', 'uds_id', 'uds_flag_cleaned', 'ukidss_ra', 'candels_id', 'candels_stellarity', 'dxs_flag_gaia', 'dxs_flag_cleaned', 'dxs_stellarity', 'uds_flag_gaia', 'uds_stellarity', 'candels_flag_cleaned', 'ukidss_intid', 'ukidss_flag_merged', 'candels_flag_gaia'}\n"
     ]
    }
   ],
   "source": [
    "# We check for columns in the master catalogue that we will not save to disk.\n",
    "print(\"Missing columns: {}\".format(set(master_catalogue.colnames) - set(columns)))"
   ]
  },
  {
   "cell_type": "code",
   "execution_count": 18,
   "metadata": {
    "collapsed": true
   },
   "outputs": [],
   "source": [
    "master_catalogue.write(\"{}/ukidss_merged_catalogue_xmm-lss.fits\".format(TMP_DIR), overwrite = True)"
   ]
  }
 ],
 "metadata": {
  "kernelspec": {
   "display_name": "Python (herschelhelp_internal)",
   "language": "python",
   "name": "helpint"
  },
  "language_info": {
   "codemirror_mode": {
    "name": "ipython",
    "version": 3
   },
   "file_extension": ".py",
   "mimetype": "text/x-python",
   "name": "python",
   "nbconvert_exporter": "python",
   "pygments_lexer": "ipython3",
   "version": "3.6.1"
  }
 },
 "nbformat": 4,
 "nbformat_minor": 2
}
