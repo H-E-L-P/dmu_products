{
 "cells": [
  {
   "cell_type": "markdown",
   "metadata": {},
   "source": [
    "# XMM-LSS master catalogue\n",
    "\n",
    "This notebook presents the merge of the pristine catalogues from CFHT Megacam. This has to be conducted separately on XMM-LSS due to the large amount of memory required on this field.\n",
    "\n",
    "This notebook also ingests all the CANDELS-UDS data apart from the photometry that needs to be merged in other 2.x notebooks.\n",
    "\n",
    "Since this is where we ingest all the CANDELS fluxes apert from UKIDSS and IRAC we take the opportunity here to merge them in with SXDS Suprime fluxes.\n",
    "\n"
   ]
  },
  {
   "cell_type": "code",
   "execution_count": 1,
   "metadata": {},
   "outputs": [
    {
     "name": "stdout",
     "output_type": "stream",
     "text": [
      "This notebook was run with herschelhelp_internal version: \n",
      "0246c5d (Thu Jan 25 17:01:47 2018 +0000) [with local modifications]\n",
      "This notebook was executed on: \n",
      "2018-02-20 16:14:27.605065\n"
     ]
    }
   ],
   "source": [
    "from herschelhelp_internal import git_version\n",
    "print(\"This notebook was run with herschelhelp_internal version: \\n{}\".format(git_version()))\n",
    "import datetime\n",
    "print(\"This notebook was executed on: \\n{}\".format(datetime.datetime.now()))"
   ]
  },
  {
   "cell_type": "code",
   "execution_count": 2,
   "metadata": {},
   "outputs": [],
   "source": [
    "%matplotlib inline\n",
    "#%config InlineBackend.figure_format = 'svg'\n",
    "\n",
    "import matplotlib.pyplot as plt\n",
    "plt.rc('figure', figsize=(10, 6))\n",
    "\n",
    "import os\n",
    "import time\n",
    "\n",
    "from astropy import units as u\n",
    "from astropy.coordinates import SkyCoord\n",
    "from astropy.table import Column, Table\n",
    "import numpy as np\n",
    "from pymoc import MOC\n",
    "\n",
    "from herschelhelp_internal.masterlist import merge_catalogues, nb_merge_dist_plot, specz_merge\n",
    "from herschelhelp_internal.utils import coords_to_hpidx, ebv, gen_help_id, inMoc"
   ]
  },
  {
   "cell_type": "code",
   "execution_count": 3,
   "metadata": {
    "collapsed": true
   },
   "outputs": [],
   "source": [
    "TMP_DIR = os.environ.get('TMP_DIR', \"./data_tmp\")\n",
    "OUT_DIR = os.environ.get('OUT_DIR', \"./data\")\n",
    "SUFFIX = os.environ.get('SUFFIX', time.strftime(\"_%Y%m%d\"))\n",
    "\n",
    "try:\n",
    "    os.makedirs(OUT_DIR)\n",
    "except FileExistsError:\n",
    "    pass"
   ]
  },
  {
   "cell_type": "markdown",
   "metadata": {},
   "source": [
    "## I - Reading the prepared pristine catalogues"
   ]
  },
  {
   "cell_type": "code",
   "execution_count": 4,
   "metadata": {
    "collapsed": true
   },
   "outputs": [],
   "source": [
    "#candels = Table.read(\"{}/CANDELS.fits\".format(TMP_DIR))           # 1.1\n",
    "candels = Table.read(\"{}/CANDELS-UDS.fits\".format(TMP_DIR))           # 1.2\n",
    "cfht_wirds = Table.read(\"{}/CFHT-WIRDS.fits\".format(TMP_DIR))     # 1.3\n",
    "cfhtls_wide = Table.read(\"{}/CFHTLS-WIDE.fits\".format(TMP_DIR))   # 1.4a\n",
    "cfhtls_deep = Table.read(\"{}/CFHTLS-DEEP.fits\".format(TMP_DIR))   # 1.4b\n",
    "#We no longer use CFHTLenS as it is the same raw data set as CFHTLS-WIDE\n",
    "# cfhtlens = Table.read(\"{}/CFHTLENS.fits\".format(TMP_DIR))         # 1.5\n",
    "#decals = Table.read(\"{}/DECaLS.fits\".format(TMP_DIR))             # 1.6\n",
    "#servs = Table.read(\"{}/SERVS.fits\".format(TMP_DIR))               # 1.8\n",
    "#swire = Table.read(\"{}/SWIRE.fits\".format(TMP_DIR))               # 1.7\n",
    "#hsc_wide = Table.read(\"{}/HSC-WIDE.fits\".format(TMP_DIR))         # 1.9a\n",
    "#hsc_deep = Table.read(\"{}/HSC-DEEP.fits\".format(TMP_DIR))         # 1.9b\n",
    "#hsc_udeep = Table.read(\"{}/HSC-UDEEP.fits\".format(TMP_DIR))       # 1.9c\n",
    "#ps1 = Table.read(\"{}/PS1.fits\".format(TMP_DIR))                   # 1.10\n",
    "sxds = Table.read(\"{}/SXDS.fits\".format(TMP_DIR))                 # 1.11\n",
    "sparcs = Table.read(\"{}/SpARCS.fits\".format(TMP_DIR))             # 1.12\n",
    "#dxs = Table.read(\"{}/UKIDSS-DXS.fits\".format(TMP_DIR))            # 1.13\n",
    "#uds = Table.read(\"{}/UKIDSS-UDS.fits\".format(TMP_DIR))            # 1.14\n",
    "vipers = Table.read(\"{}/VIPERS.fits\".format(TMP_DIR))             # 1.15\n",
    "#vhs = Table.read(\"{}/VISTA-VHS.fits\".format(TMP_DIR))             # 1.16\n",
    "#video = Table.read(\"{}/VISTA-VIDEO.fits\".format(TMP_DIR))         # 1.17\n",
    "#viking = Table.read(\"{}/VISTA-VIKING.fits\".format(TMP_DIR))       # 1.18"
   ]
  },
  {
   "cell_type": "markdown",
   "metadata": {},
   "source": [
    "## II - Merging tables\n",
    "\n",
    "We first merge the optical catalogues and then add the infrared ones. We start with PanSTARRS because it coevrs the whole field.\n",
    "\n",
    "At every step, we look at the distribution of the distances separating the sources from one catalogue to the other (within a maximum radius) to determine the best cross-matching radius."
   ]
  },
  {
   "cell_type": "markdown",
   "metadata": {},
   "source": [
    "### Start with CANDELS"
   ]
  },
  {
   "cell_type": "code",
   "execution_count": 5,
   "metadata": {},
   "outputs": [
    {
     "name": "stdout",
     "output_type": "stream",
     "text": [
      "f_candels-ukidss_j  removed.\n",
      "ferr_candels-ukidss_j  removed.\n",
      "f_candels-ukidss_h  removed.\n",
      "ferr_candels-ukidss_h  removed.\n",
      "f_candels-ukidss_k  removed.\n",
      "ferr_candels-ukidss_k  removed.\n",
      "f_candels-irac_i1  removed.\n",
      "ferr_candels-irac_i1  removed.\n",
      "f_candels-irac_i2  removed.\n",
      "ferr_candels-irac_i2  removed.\n",
      "f_candels-irac_i3  removed.\n",
      "ferr_candels-irac_i3  removed.\n",
      "f_candels-irac_i4  removed.\n",
      "ferr_candels-irac_i4  removed.\n",
      "m_candels-ukidss_j  removed.\n",
      "merr_candels-ukidss_j  removed.\n",
      "flag_candels-ukidss_j  removed.\n",
      "m_candels-ukidss_h  removed.\n",
      "merr_candels-ukidss_h  removed.\n",
      "flag_candels-ukidss_h  removed.\n",
      "m_candels-ukidss_k  removed.\n",
      "merr_candels-ukidss_k  removed.\n",
      "flag_candels-ukidss_k  removed.\n",
      "m_candels-irac_i1  removed.\n",
      "merr_candels-irac_i1  removed.\n",
      "flag_candels-irac_i1  removed.\n",
      "m_candels-irac_i2  removed.\n",
      "merr_candels-irac_i2  removed.\n",
      "flag_candels-irac_i2  removed.\n",
      "m_candels-irac_i3  removed.\n",
      "merr_candels-irac_i3  removed.\n",
      "flag_candels-irac_i3  removed.\n",
      "m_candels-irac_i4  removed.\n",
      "merr_candels-irac_i4  removed.\n",
      "flag_candels-irac_i4  removed.\n"
     ]
    }
   ],
   "source": [
    "master_catalogue = candels\n",
    "master_catalogue['candels_ra'].name = 'ra'\n",
    "master_catalogue['candels_dec'].name = 'dec'\n",
    "del candels\n",
    "unused_bands = [ 'candels-ukidss', 'candels-irac']\n",
    "for col in master_catalogue.colnames:\n",
    "    \n",
    "    for band in unused_bands:\n",
    "        if band in col:\n",
    "            master_catalogue.remove_column(col)\n",
    "            print(col, ' removed.')"
   ]
  },
  {
   "cell_type": "markdown",
   "metadata": {},
   "source": [
    "### Add CFHTLS-DEEP"
   ]
  },
  {
   "cell_type": "code",
   "execution_count": 6,
   "metadata": {},
   "outputs": [
    {
     "name": "stdout",
     "output_type": "stream",
     "text": [
      "HELP Warning: There weren't any cross matches. The two surveys probably don't overlap.\n"
     ]
    }
   ],
   "source": [
    "nb_merge_dist_plot(\n",
    "    SkyCoord(master_catalogue['ra'], master_catalogue['dec']),\n",
    "    SkyCoord(cfhtls_deep['cfhtls-deep_ra'], cfhtls_deep['cfhtls-deep_dec'])\n",
    ")"
   ]
  },
  {
   "cell_type": "code",
   "execution_count": 7,
   "metadata": {
    "collapsed": true
   },
   "outputs": [],
   "source": [
    "# Given the graph above, we use 0.8 arc-second radius\n",
    "master_catalogue = merge_catalogues(master_catalogue, \n",
    "                                    cfhtls_deep, \n",
    "                                    \"cfhtls-deep_ra\", \n",
    "                                    \"cfhtls-deep_dec\", \n",
    "                                    radius=0.8*u.arcsec)"
   ]
  },
  {
   "cell_type": "markdown",
   "metadata": {},
   "source": [
    "###  Add CFHTLS-WIDE"
   ]
  },
  {
   "cell_type": "code",
   "execution_count": 8,
   "metadata": {},
   "outputs": [
    {
     "data": {
      "image/png": "[encoded data removed]",
      "text/plain": [
       "<matplotlib.figure.Figure at 0x7f4765a22ef0>"
      ]
     },
     "metadata": {},
     "output_type": "display_data"
    }
   ],
   "source": [
    "nb_merge_dist_plot(\n",
    "    SkyCoord(master_catalogue['ra'], master_catalogue['dec']),\n",
    "    SkyCoord(cfhtls_wide['cfhtls-wide_ra'], cfhtls_wide['cfhtls-wide_dec'])\n",
    ")"
   ]
  },
  {
   "cell_type": "code",
   "execution_count": 9,
   "metadata": {
    "collapsed": true
   },
   "outputs": [],
   "source": [
    "# Given the graph above, we use 0.8 arc-second radius\n",
    "master_catalogue = merge_catalogues(master_catalogue, \n",
    "                                    cfhtls_wide, \n",
    "                                    \"cfhtls-wide_ra\", \n",
    "                                    \"cfhtls-wide_dec\", \n",
    "                                    radius=0.8*u.arcsec)"
   ]
  },
  {
   "cell_type": "markdown",
   "metadata": {},
   "source": [
    "### Add SpARCS"
   ]
  },
  {
   "cell_type": "code",
   "execution_count": 10,
   "metadata": {},
   "outputs": [
    {
     "data": {
      "image/png": "[encoded data removed]",
      "text/plain": [
       "<matplotlib.figure.Figure at 0x7f4765a35ac8>"
      ]
     },
     "metadata": {},
     "output_type": "display_data"
    }
   ],
   "source": [
    "nb_merge_dist_plot(\n",
    "    SkyCoord(master_catalogue['ra'], master_catalogue['dec']),\n",
    "    SkyCoord(sparcs['sparcs_ra'], sparcs['sparcs_dec'])\n",
    ")"
   ]
  },
  {
   "cell_type": "code",
   "execution_count": 11,
   "metadata": {
    "collapsed": true
   },
   "outputs": [],
   "source": [
    "# Given the graph above, we use 0.8 arc-second radius\n",
    "master_catalogue = merge_catalogues(master_catalogue, sparcs, \"sparcs_ra\", \"sparcs_dec\", radius=0.8*u.arcsec)"
   ]
  },
  {
   "cell_type": "markdown",
   "metadata": {},
   "source": [
    "###  Add CFHT-WIRDS"
   ]
  },
  {
   "cell_type": "code",
   "execution_count": 12,
   "metadata": {},
   "outputs": [
    {
     "data": {
      "image/png": "[encoded data removed]",
      "text/plain": [
       "<matplotlib.figure.Figure at 0x7f47635e0358>"
      ]
     },
     "metadata": {},
     "output_type": "display_data"
    }
   ],
   "source": [
    "nb_merge_dist_plot(\n",
    "    SkyCoord(master_catalogue['ra'], master_catalogue['dec']),\n",
    "    SkyCoord(cfht_wirds['wirds_ra'], cfht_wirds['wirds_dec'])\n",
    ")"
   ]
  },
  {
   "cell_type": "code",
   "execution_count": 13,
   "metadata": {
    "collapsed": true
   },
   "outputs": [],
   "source": [
    "# Given the graph above, we use 0.8 arc-second radius\n",
    "master_catalogue = merge_catalogues(master_catalogue, \n",
    "                                    cfht_wirds, \n",
    "                                    \"wirds_ra\", \n",
    "                                    \"wirds_dec\", \n",
    "                                    radius=0.8*u.arcsec)"
   ]
  },
  {
   "cell_type": "markdown",
   "metadata": {},
   "source": [
    "### Add VIPERS"
   ]
  },
  {
   "cell_type": "code",
   "execution_count": 14,
   "metadata": {},
   "outputs": [
    {
     "data": {
      "image/png": "[encoded data removed]",
      "text/plain": [
       "<matplotlib.figure.Figure at 0x7f475cca1550>"
      ]
     },
     "metadata": {},
     "output_type": "display_data"
    }
   ],
   "source": [
    "nb_merge_dist_plot(\n",
    "    SkyCoord(master_catalogue['ra'], master_catalogue['dec']),\n",
    "    SkyCoord(vipers['vipers_ra'], vipers['vipers_dec'])\n",
    ")"
   ]
  },
  {
   "cell_type": "code",
   "execution_count": 15,
   "metadata": {
    "collapsed": true
   },
   "outputs": [],
   "source": [
    "# Given the graph above, we use 0.8 arc-second radius\n",
    "master_catalogue = merge_catalogues(master_catalogue, \n",
    "                                    vipers, \n",
    "                                    \"vipers_ra\", \n",
    "                                    \"vipers_dec\", \n",
    "                                    radius=0.8*u.arcsec)"
   ]
  },
  {
   "cell_type": "markdown",
   "metadata": {},
   "source": [
    "## Add SXDS"
   ]
  },
  {
   "cell_type": "code",
   "execution_count": 16,
   "metadata": {},
   "outputs": [
    {
     "data": {
      "image/png": "[encoded data removed]",
      "text/plain": [
       "<matplotlib.figure.Figure at 0x7f4765c2d278>"
      ]
     },
     "metadata": {},
     "output_type": "display_data"
    }
   ],
   "source": [
    "nb_merge_dist_plot(\n",
    "    SkyCoord(master_catalogue['ra'], master_catalogue['dec']),\n",
    "    SkyCoord(sxds['sxds_ra'], sxds['sxds_dec'])\n",
    ")"
   ]
  },
  {
   "cell_type": "code",
   "execution_count": 17,
   "metadata": {
    "collapsed": true
   },
   "outputs": [],
   "source": [
    "# Given the graph above, we use 0.8 arc-second radius\n",
    "master_catalogue = merge_catalogues(master_catalogue, \n",
    "                                    sxds, \n",
    "                                    \"sxds_ra\", \n",
    "                                    \"sxds_dec\", \n",
    "                                    radius=0.8*u.arcsec)"
   ]
  },
  {
   "cell_type": "markdown",
   "metadata": {},
   "source": [
    "### Cleaning\n",
    "\n",
    "When we merge the catalogues, astropy masks the non-existent values (e.g. when a row comes only from a catalogue and has no counterparts in the other, the columns from the latest are masked for that row). We indicate to use NaN for masked values for floats columns, False for flag columns and -1 for ID columns."
   ]
  },
  {
   "cell_type": "code",
   "execution_count": 18,
   "metadata": {
    "collapsed": true
   },
   "outputs": [],
   "source": [
    "for col in master_catalogue.colnames:\n",
    "    if \"m_\" in col or \"merr_\" in col or \"f_\" in col or \"ferr_\" in col or \"stellarity\" in col:\n",
    "        master_catalogue[col] = master_catalogue[col].astype(float)\n",
    "        master_catalogue[col].fill_value = np.nan\n",
    "    elif \"flag\" in col:\n",
    "        master_catalogue[col].fill_value = 0\n",
    "    elif \"id\" in col:\n",
    "        master_catalogue[col].fill_value = -1\n",
    "        \n",
    "master_catalogue = master_catalogue.filled()"
   ]
  },
  {
   "cell_type": "code",
   "execution_count": 19,
   "metadata": {
    "collapsed": true
   },
   "outputs": [],
   "source": [
    "#Since this is not the final merged catalogue. We rename column names to make them unique\n",
    "master_catalogue['ra'].name = 'cfht_ra'\n",
    "master_catalogue['dec'].name = 'cfht_dec'\n",
    "master_catalogue['flag_merged'].name = 'cfht_flag_merged'"
   ]
  },
  {
   "cell_type": "code",
   "execution_count": 20,
   "metadata": {},
   "outputs": [
    {
     "data": {
      "text/html": [
       "&lt;Table length=10&gt;\n",
       "<table id=\"table139944626079448-999581\" class=\"table-striped table-bordered table-condensed\">\n",
       "<thead><tr><th>idx</th><th>candels_id</th><th>cfht_ra</th><th>cfht_dec</th><th>candels_stellarity</th><th>f_acs_f606w</th><th>ferr_acs_f606w</th><th>f_ap_acs_f606w</th><th>ferr_ap_acs_f606w</th><th>f_acs_f814w</th><th>ferr_acs_f814w</th><th>f_ap_acs_f814w</th><th>ferr_ap_acs_f814w</th><th>f_wfc3_f125w</th><th>ferr_wfc3_f125w</th><th>f_ap_wfc3_f125w</th><th>ferr_ap_wfc3_f125w</th><th>f_wfc3_f160w</th><th>ferr_wfc3_f160w</th><th>f_ap_wfc3_f160w</th><th>ferr_ap_wfc3_f160w</th><th>f_candels-megacam_u</th><th>ferr_candels-megacam_u</th><th>f_suprime_b</th><th>ferr_suprime_b</th><th>f_suprime_v</th><th>ferr_suprime_v</th><th>f_suprime_rc</th><th>ferr_suprime_rc</th><th>f_suprime_ip</th><th>ferr_suprime_ip</th><th>f_suprime_zp</th><th>ferr_suprime_zp</th><th>f_hawki_k</th><th>ferr_hawki_y</th><th>ferr_hawki_k</th><th>m_acs_f606w</th><th>merr_acs_f606w</th><th>flag_acs_f606w</th><th>m_ap_acs_f606w</th><th>merr_ap_acs_f606w</th><th>m_acs_f814w</th><th>merr_acs_f814w</th><th>flag_acs_f814w</th><th>m_ap_acs_f814w</th><th>merr_ap_acs_f814w</th><th>m_wfc3_f125w</th><th>merr_wfc3_f125w</th><th>flag_wfc3_f125w</th><th>m_ap_wfc3_f125w</th><th>merr_ap_wfc3_f125w</th><th>m_wfc3_f160w</th><th>merr_wfc3_f160w</th><th>flag_wfc3_f160w</th><th>m_ap_wfc3_f160w</th><th>merr_ap_wfc3_f160w</th><th>m_candels-megacam_u</th><th>merr_candels-megacam_u</th><th>flag_candels-megacam_u</th><th>m_suprime_b</th><th>merr_suprime_b</th><th>flag_suprime_b</th><th>m_suprime_v</th><th>merr_suprime_v</th><th>flag_suprime_v</th><th>m_suprime_rc</th><th>merr_suprime_rc</th><th>flag_suprime_rc</th><th>m_suprime_ip</th><th>merr_suprime_ip</th><th>flag_suprime_ip</th><th>m_suprime_zp</th><th>merr_suprime_zp</th><th>flag_suprime_zp</th><th>m_hawki_k</th><th>merr_hawki_k</th><th>flag_hawki_k</th><th>candels_flag_cleaned</th><th>candels_flag_gaia</th><th>cfht_flag_merged</th><th>cfhtls-deep_id</th><th>cfhtls-deep_stellarity</th><th>m_cfhtls-deep_u</th><th>merr_cfhtls-deep_u</th><th>m_cfhtls-deep_g</th><th>merr_cfhtls-deep_g</th><th>m_cfhtls-deep_r</th><th>merr_cfhtls-deep_r</th><th>m_cfhtls-deep_i</th><th>merr_cfhtls-deep_i</th><th>m_cfhtls-deep_z</th><th>merr_cfhtls-deep_z</th><th>m_cfhtls-deep_y</th><th>merr_cfhtls-deep_y</th><th>m_ap_cfhtls-deep_u</th><th>merr_ap_cfhtls-deep_u</th><th>m_ap_cfhtls-deep_g</th><th>merr_ap_cfhtls-deep_g</th><th>m_ap_cfhtls-deep_r</th><th>merr_ap_cfhtls-deep_r</th><th>m_ap_cfhtls-deep_i</th><th>merr_ap_cfhtls-deep_i</th><th>m_ap_cfhtls-deep_z</th><th>merr_ap_cfhtls-deep_z</th><th>m_ap_cfhtls-deep_y</th><th>merr_ap_cfhtls-deep_y</th><th>f_cfhtls-deep_u</th><th>ferr_cfhtls-deep_u</th><th>flag_cfhtls-deep_u</th><th>f_cfhtls-deep_g</th><th>ferr_cfhtls-deep_g</th><th>flag_cfhtls-deep_g</th><th>f_cfhtls-deep_r</th><th>ferr_cfhtls-deep_r</th><th>flag_cfhtls-deep_r</th><th>f_cfhtls-deep_i</th><th>ferr_cfhtls-deep_i</th><th>flag_cfhtls-deep_i</th><th>f_cfhtls-deep_z</th><th>ferr_cfhtls-deep_z</th><th>flag_cfhtls-deep_z</th><th>f_cfhtls-deep_y</th><th>ferr_cfhtls-deep_y</th><th>flag_cfhtls-deep_y</th><th>f_ap_cfhtls-deep_u</th><th>ferr_ap_cfhtls-deep_u</th><th>f_ap_cfhtls-deep_g</th><th>ferr_ap_cfhtls-deep_g</th><th>f_ap_cfhtls-deep_r</th><th>ferr_ap_cfhtls-deep_r</th><th>f_ap_cfhtls-deep_i</th><th>ferr_ap_cfhtls-deep_i</th><th>f_ap_cfhtls-deep_z</th><th>ferr_ap_cfhtls-deep_z</th><th>f_ap_cfhtls-deep_y</th><th>ferr_ap_cfhtls-deep_y</th><th>cfhtls-deep_flag_cleaned</th><th>cfhtls-deep_flag_gaia</th><th>cfhtls-wide_id</th><th>cfhtls-wide_stellarity</th><th>m_cfhtls-wide_u</th><th>merr_cfhtls-wide_u</th><th>m_cfhtls-wide_g</th><th>merr_cfhtls-wide_g</th><th>m_cfhtls-wide_r</th><th>merr_cfhtls-wide_r</th><th>m_cfhtls-wide_i</th><th>merr_cfhtls-wide_i</th><th>m_cfhtls-wide_z</th><th>merr_cfhtls-wide_z</th><th>m_ap_cfhtls-wide_u</th><th>merr_ap_cfhtls-wide_u</th><th>m_ap_cfhtls-wide_g</th><th>merr_ap_cfhtls-wide_g</th><th>m_ap_cfhtls-wide_r</th><th>merr_ap_cfhtls-wide_r</th><th>m_ap_cfhtls-wide_i</th><th>merr_ap_cfhtls-wide_i</th><th>m_ap_cfhtls-wide_z</th><th>merr_ap_cfhtls-wide_z</th><th>f_cfhtls-wide_u</th><th>ferr_cfhtls-wide_u</th><th>flag_cfhtls-wide_u</th><th>f_cfhtls-wide_g</th><th>ferr_cfhtls-wide_g</th><th>flag_cfhtls-wide_g</th><th>f_cfhtls-wide_r</th><th>ferr_cfhtls-wide_r</th><th>flag_cfhtls-wide_r</th><th>f_cfhtls-wide_i</th><th>ferr_cfhtls-wide_i</th><th>flag_cfhtls-wide_i</th><th>f_cfhtls-wide_z</th><th>ferr_cfhtls-wide_z</th><th>flag_cfhtls-wide_z</th><th>f_ap_cfhtls-wide_u</th><th>ferr_ap_cfhtls-wide_u</th><th>f_ap_cfhtls-wide_g</th><th>ferr_ap_cfhtls-wide_g</th><th>f_ap_cfhtls-wide_r</th><th>ferr_ap_cfhtls-wide_r</th><th>f_ap_cfhtls-wide_i</th><th>ferr_ap_cfhtls-wide_i</th><th>f_ap_cfhtls-wide_z</th><th>ferr_ap_cfhtls-wide_z</th><th>cfhtls-wide_flag_cleaned</th><th>cfhtls-wide_flag_gaia</th><th>sparcs_intid</th><th>sparcs_stellarity</th><th>m_ap_sparcs_u</th><th>merr_ap_sparcs_u</th><th>f_ap_sparcs_u</th><th>ferr_ap_sparcs_u</th><th>m_sparcs_u</th><th>merr_sparcs_u</th><th>f_sparcs_u</th><th>ferr_sparcs_u</th><th>flag_sparcs_u</th><th>m_ap_sparcs_g</th><th>merr_ap_sparcs_g</th><th>f_ap_sparcs_g</th><th>ferr_ap_sparcs_g</th><th>m_sparcs_g</th><th>merr_sparcs_g</th><th>f_sparcs_g</th><th>ferr_sparcs_g</th><th>flag_sparcs_g</th><th>m_ap_sparcs_r</th><th>merr_ap_sparcs_r</th><th>f_ap_sparcs_r</th><th>ferr_ap_sparcs_r</th><th>m_sparcs_r</th><th>merr_sparcs_r</th><th>f_sparcs_r</th><th>ferr_sparcs_r</th><th>flag_sparcs_r</th><th>m_ap_sparcs_z</th><th>merr_ap_sparcs_z</th><th>f_ap_sparcs_z</th><th>ferr_ap_sparcs_z</th><th>m_sparcs_z</th><th>merr_sparcs_z</th><th>f_sparcs_z</th><th>ferr_sparcs_z</th><th>flag_sparcs_z</th><th>m_ap_sparcs_y</th><th>merr_ap_sparcs_y</th><th>f_ap_sparcs_y</th><th>ferr_ap_sparcs_y</th><th>m_sparcs_y</th><th>merr_sparcs_y</th><th>f_sparcs_y</th><th>ferr_sparcs_y</th><th>flag_sparcs_y</th><th>sparcs_flag_cleaned</th><th>sparcs_flag_gaia</th><th>wirds_id</th><th>m_wirds_u</th><th>merr_wirds_u</th><th>m_ap_wirds_u</th><th>merr_ap_wirds_u</th><th>m_wirds_g</th><th>merr_wirds_g</th><th>m_ap_wirds_g</th><th>merr_ap_wirds_g</th><th>m_wirds_r</th><th>merr_wirds_r</th><th>m_ap_wirds_r</th><th>merr_ap_wirds_r</th><th>m_wirds_i</th><th>merr_wirds_i</th><th>m_ap_wirds_i</th><th>merr_ap_wirds_i</th><th>m_wirds_z</th><th>merr_wirds_z</th><th>m_ap_wirds_z</th><th>merr_ap_wirds_z</th><th>m_wirds_j</th><th>merr_wirds_j</th><th>m_ap_wirds_j</th><th>merr_ap_wirds_j</th><th>m_wirds_h</th><th>merr_wirds_h</th><th>m_ap_wirds_h</th><th>merr_ap_wirds_h</th><th>m_wirds_k</th><th>merr_wirds_k</th><th>m_ap_wirds_k</th><th>merr_ap_wirds_k</th><th>f_wirds_u</th><th>ferr_wirds_u</th><th>flag_wirds_u</th><th>f_ap_wirds_u</th><th>ferr_ap_wirds_u</th><th>f_wirds_g</th><th>ferr_wirds_g</th><th>flag_wirds_g</th><th>f_ap_wirds_g</th><th>ferr_ap_wirds_g</th><th>f_wirds_r</th><th>ferr_wirds_r</th><th>flag_wirds_r</th><th>f_ap_wirds_r</th><th>ferr_ap_wirds_r</th><th>f_wirds_i</th><th>ferr_wirds_i</th><th>flag_wirds_i</th><th>f_ap_wirds_i</th><th>ferr_ap_wirds_i</th><th>f_wirds_z</th><th>ferr_wirds_z</th><th>flag_wirds_z</th><th>f_ap_wirds_z</th><th>ferr_ap_wirds_z</th><th>f_wirds_j</th><th>ferr_wirds_j</th><th>flag_wirds_j</th><th>f_ap_wirds_j</th><th>ferr_ap_wirds_j</th><th>f_wirds_h</th><th>ferr_wirds_h</th><th>flag_wirds_h</th><th>f_ap_wirds_h</th><th>ferr_ap_wirds_h</th><th>f_wirds_k</th><th>ferr_wirds_k</th><th>flag_wirds_k</th><th>f_ap_wirds_k</th><th>ferr_ap_wirds_k</th><th>wirds_flag_cleaned</th><th>cfht-wirds_flag_gaia</th><th>vipers_id</th><th>m_vipers_u</th><th>merr_vipers_u</th><th>m_vipers_g</th><th>merr_vipers_g</th><th>m_vipers_r</th><th>merr_vipers_r</th><th>m_vipers_i</th><th>merr_vipers_i</th><th>m_vipers_y</th><th>merr_vipers_y</th><th>m_vipers_z</th><th>merr_vipers_z</th><th>m_vipers_ks</th><th>merr_vipers_ks</th><th>f_vipers_u</th><th>ferr_vipers_u</th><th>flag_vipers_u</th><th>f_vipers_g</th><th>ferr_vipers_g</th><th>flag_vipers_g</th><th>f_vipers_r</th><th>ferr_vipers_r</th><th>flag_vipers_r</th><th>f_vipers_i</th><th>ferr_vipers_i</th><th>flag_vipers_i</th><th>f_vipers_y</th><th>ferr_vipers_y</th><th>flag_vipers_y</th><th>f_vipers_z</th><th>ferr_vipers_z</th><th>flag_vipers_z</th><th>f_vipers_ks</th><th>ferr_vipers_ks</th><th>flag_vipers_ks</th><th>vipers_flag_cleaned</th><th>vipers_flag_gaia</th><th>sxds_b_id</th><th>m_ap_sxds-suprime_b</th><th>merr_ap_sxds-suprime_b</th><th>m_sxds-suprime_b</th><th>merr_sxds-suprime_b</th><th>sxds_flag_merged</th><th>sxds_v_id</th><th>m_ap_sxds-suprime_v</th><th>merr_ap_sxds-suprime_v</th><th>m_sxds-suprime_v</th><th>merr_sxds-suprime_v</th><th>sxds_r_id</th><th>m_ap_sxds-suprime_rc</th><th>merr_ap_sxds-suprime_rc</th><th>m_sxds-suprime_rc</th><th>merr_sxds-suprime_rc</th><th>sxds_i_id</th><th>m_ap_sxds-suprime_ip</th><th>merr_ap_sxds-suprime_ip</th><th>m_sxds-suprime_ip</th><th>merr_sxds-suprime_ip</th><th>sxds_z_id</th><th>m_ap_sxds-suprime_zp</th><th>merr_ap_sxds-suprime_zp</th><th>m_sxds-suprime_zp</th><th>merr_sxds-suprime_zp</th><th>f_ap_sxds-suprime_b</th><th>ferr_ap_sxds-suprime_b</th><th>f_sxds-suprime_b</th><th>ferr_sxds-suprime_b</th><th>flag_sxds-suprime_b</th><th>f_ap_sxds-suprime_v</th><th>ferr_ap_sxds-suprime_v</th><th>f_sxds-suprime_v</th><th>ferr_sxds-suprime_v</th><th>flag_sxds-suprime_v</th><th>f_ap_sxds-suprime_rc</th><th>ferr_ap_sxds-suprime_rc</th><th>f_sxds-suprime_rc</th><th>ferr_sxds-suprime_rc</th><th>flag_sxds-suprime_rc</th><th>f_ap_sxds-suprime_ip</th><th>ferr_ap_sxds-suprime_ip</th><th>f_sxds-suprime_ip</th><th>ferr_sxds-suprime_ip</th><th>flag_sxds-suprime_ip</th><th>f_ap_sxds-suprime_zp</th><th>ferr_ap_sxds-suprime_zp</th><th>f_sxds-suprime_zp</th><th>ferr_sxds-suprime_zp</th><th>flag_sxds-suprime_zp</th><th>sxds_stellarity</th><th>sxds_flag_cleaned</th><th>sxds_flag_gaia</th><th>sxds_intid</th></tr></thead>\n",
       "<thead><tr><th></th><th></th><th>deg</th><th>deg</th><th></th><th></th><th></th><th></th><th></th><th></th><th></th><th></th><th></th><th></th><th></th><th></th><th></th><th></th><th></th><th></th><th></th><th></th><th></th><th></th><th></th><th></th><th></th><th></th><th></th><th></th><th></th><th></th><th></th><th></th><th></th><th></th><th></th><th></th><th></th><th></th><th></th><th></th><th></th><th></th><th></th><th></th><th></th><th></th><th></th><th></th><th></th><th></th><th></th><th></th><th></th><th></th><th></th><th></th><th></th><th></th><th></th><th></th><th></th><th></th><th></th><th></th><th></th><th></th><th></th><th></th><th></th><th></th><th></th><th></th><th></th><th></th><th></th><th></th><th></th><th></th><th></th><th></th><th></th><th></th><th></th><th></th><th></th><th></th><th></th><th></th><th></th><th></th><th></th><th></th><th></th><th></th><th></th><th></th><th></th><th></th><th></th><th></th><th></th><th></th><th></th><th></th><th></th><th></th><th></th><th></th><th></th><th></th><th></th><th></th><th></th><th></th><th></th><th></th><th></th><th></th><th></th><th></th><th></th><th></th><th></th><th></th><th></th><th></th><th></th><th></th><th></th><th></th><th></th><th></th><th></th><th></th><th></th><th></th><th></th><th></th><th></th><th></th><th></th><th></th><th></th><th></th><th></th><th></th><th></th><th></th><th></th><th></th><th></th><th></th><th></th><th></th><th></th><th></th><th></th><th></th><th></th><th></th><th></th><th></th><th></th><th></th><th></th><th></th><th></th><th></th><th></th><th></th><th></th><th></th><th></th><th></th><th></th><th></th><th></th><th></th><th></th><th></th><th></th><th></th><th></th><th></th><th></th><th></th><th></th><th></th><th></th><th></th><th></th><th></th><th></th><th></th><th></th><th></th><th></th><th></th><th></th><th></th><th></th><th></th><th></th><th></th><th></th><th></th><th></th><th></th><th></th><th></th><th></th><th></th><th></th><th></th><th></th><th></th><th></th><th></th><th></th><th></th><th></th><th></th><th></th><th></th><th></th><th></th><th></th><th></th><th></th><th></th><th></th><th></th><th></th><th></th><th></th><th></th><th></th><th></th><th></th><th></th><th></th><th></th><th></th><th></th><th></th><th></th><th></th><th></th><th></th><th></th><th></th><th></th><th></th><th></th><th></th><th></th><th></th><th></th><th></th><th></th><th></th><th></th><th></th><th></th><th></th><th></th><th></th><th></th><th></th><th></th><th></th><th></th><th></th><th></th><th></th><th></th><th></th><th></th><th></th><th></th><th></th><th></th><th></th><th></th><th></th><th></th><th></th><th></th><th></th><th></th><th></th><th></th><th></th><th></th><th></th><th></th><th></th><th></th><th></th><th></th><th></th><th></th><th></th><th></th><th></th><th></th><th></th><th></th><th></th><th></th><th></th><th></th><th></th><th></th><th></th><th></th><th></th><th></th><th></th><th></th><th></th><th></th><th></th><th></th><th></th><th></th><th></th><th></th><th></th><th></th><th></th><th></th><th></th><th></th><th></th><th></th><th></th><th></th><th></th><th></th><th></th><th></th><th></th><th></th><th></th><th></th><th></th><th></th><th></th><th></th><th></th><th></th><th></th><th></th><th></th><th></th><th></th><th></th><th></th><th></th><th></th><th></th><th></th><th></th><th></th><th></th><th></th><th></th><th></th><th></th><th></th><th></th><th></th><th></th><th></th><th></th><th></th><th></th><th></th><th></th><th></th><th></th><th></th><th></th><th></th><th></th><th></th><th></th><th></th><th></th><th></th><th></th><th></th><th></th><th></th><th></th><th></th><th></th><th></th><th></th><th></th><th></th></tr></thead>\n",
       "<tr><td>0</td><td>21539</td><td>34.3795257693</td><td>-5.15683775973</td><td>0.019999999553</td><td>0.0710597</td><td>0.00949195</td><td>0.107001</td><td>0.0121251</td><td>0.142095</td><td>0.0112729</td><td>0.23308</td><td>0.0142605</td><td>0.722495</td><td>0.0232445</td><td>0.991269</td><td>0.028352</td><td>1.09422</td><td>0.017616</td><td>1.50183</td><td>0.0215974</td><td>0.3627532</td><td>0.0066298</td><td>0.4852182</td><td>0.0037431</td><td>0.6368133</td><td>0.0041781</td><td>0.7070535</td><td>0.0061044</td><td>0.9404059</td><td>0.0062788</td><td>1.1989115</td><td>0.0159431</td><td>0.702083</td><td>0.0140271</td><td>0.0295765</td><td>26.7709415759</td><td>0.14502951418</td><td>False</td><td>26.3265304088</td><td>0.123033056292</td><td>26.0185530091</td><td>0.0861353014717</td><td>False</td><td>25.4812374765</td><td>0.0664284415134</td><td>24.2529128852</td><td>0.034930892548</td><td>False</td><td>23.9095211883</td><td>0.0310539246938</td><td>23.8022383788</td><td>0.0174794182002</td><td>False</td><td>23.4584480615</td><td>0.0156136707275</td><td>25.0009718694</td><td>0.0198432815763</td><td>0.0</td><td>24.685157294</td><td>0.00837565282595</td><td>False</td><td>24.3899696871</td><td>0.00712346057644</td><td>False</td><td>24.2763693089</td><td>0.00937378584269</td><td>False</td><td>23.9667116371</td><td>0.00724912559825</td><td>False</td><td>23.703032185</td><td>0.0144380972958</td><td>False</td><td>24.2840288567</td><td>0.0457385762937</td><td>False</td><td>False</td><td>0</td><td>True</td><td>-1</td><td>nan</td><td>nan</td><td>nan</td><td>nan</td><td>nan</td><td>nan</td><td>nan</td><td>nan</td><td>nan</td><td>nan</td><td>nan</td><td>nan</td><td>nan</td><td>nan</td><td>nan</td><td>nan</td><td>nan</td><td>nan</td><td>nan</td><td>nan</td><td>nan</td><td>nan</td><td>nan</td><td>nan</td><td>nan</td><td>nan</td><td>nan</td><td>False</td><td>nan</td><td>nan</td><td>False</td><td>nan</td><td>nan</td><td>False</td><td>nan</td><td>nan</td><td>False</td><td>nan</td><td>nan</td><td>False</td><td>nan</td><td>nan</td><td>False</td><td>nan</td><td>nan</td><td>nan</td><td>nan</td><td>nan</td><td>nan</td><td>nan</td><td>nan</td><td>nan</td><td>nan</td><td>nan</td><td>nan</td><td>False</td><td>0</td><td>-1</td><td>nan</td><td>nan</td><td>nan</td><td>nan</td><td>nan</td><td>nan</td><td>nan</td><td>nan</td><td>nan</td><td>nan</td><td>nan</td><td>nan</td><td>nan</td><td>nan</td><td>nan</td><td>nan</td><td>nan</td><td>nan</td><td>nan</td><td>nan</td><td>nan</td><td>nan</td><td>nan</td><td>False</td><td>nan</td><td>nan</td><td>False</td><td>nan</td><td>nan</td><td>False</td><td>nan</td><td>nan</td><td>False</td><td>nan</td><td>nan</td><td>False</td><td>nan</td><td>nan</td><td>nan</td><td>nan</td><td>nan</td><td>nan</td><td>nan</td><td>nan</td><td>nan</td><td>nan</td><td>False</td><td>0</td><td>-1</td><td>nan</td><td>nan</td><td>nan</td><td>nan</td><td>nan</td><td>nan</td><td>nan</td><td>nan</td><td>nan</td><td>False</td><td>nan</td><td>nan</td><td>nan</td><td>nan</td><td>nan</td><td>nan</td><td>nan</td><td>nan</td><td>False</td><td>nan</td><td>nan</td><td>nan</td><td>nan</td><td>nan</td><td>nan</td><td>nan</td><td>nan</td><td>False</td><td>nan</td><td>nan</td><td>nan</td><td>nan</td><td>nan</td><td>nan</td><td>nan</td><td>nan</td><td>False</td><td>nan</td><td>nan</td><td>nan</td><td>nan</td><td>nan</td><td>nan</td><td>nan</td><td>nan</td><td>False</td><td>False</td><td>0</td><td>-1</td><td>nan</td><td>nan</td><td>nan</td><td>nan</td><td>nan</td><td>nan</td><td>nan</td><td>nan</td><td>nan</td><td>nan</td><td>nan</td><td>nan</td><td>nan</td><td>nan</td><td>nan</td><td>nan</td><td>nan</td><td>nan</td><td>nan</td><td>nan</td><td>nan</td><td>nan</td><td>nan</td><td>nan</td><td>nan</td><td>nan</td><td>nan</td><td>nan</td><td>nan</td><td>nan</td><td>nan</td><td>nan</td><td>nan</td><td>nan</td><td>False</td><td>nan</td><td>nan</td><td>nan</td><td>nan</td><td>False</td><td>nan</td><td>nan</td><td>nan</td><td>nan</td><td>False</td><td>nan</td><td>nan</td><td>nan</td><td>nan</td><td>False</td><td>nan</td><td>nan</td><td>nan</td><td>nan</td><td>False</td><td>nan</td><td>nan</td><td>nan</td><td>nan</td><td>False</td><td>nan</td><td>nan</td><td>nan</td><td>nan</td><td>False</td><td>nan</td><td>nan</td><td>nan</td><td>nan</td><td>False</td><td>nan</td><td>nan</td><td>False</td><td>0</td><td>-1</td><td>nan</td><td>nan</td><td>nan</td><td>nan</td><td>nan</td><td>nan</td><td>nan</td><td>nan</td><td>nan</td><td>nan</td><td>nan</td><td>nan</td><td>nan</td><td>nan</td><td>nan</td><td>nan</td><td>False</td><td>nan</td><td>nan</td><td>False</td><td>nan</td><td>nan</td><td>False</td><td>nan</td><td>nan</td><td>False</td><td>nan</td><td>nan</td><td>False</td><td>nan</td><td>nan</td><td>False</td><td>nan</td><td>nan</td><td>False</td><td>False</td><td>0</td><td>-1</td><td>nan</td><td>nan</td><td>nan</td><td>nan</td><td>False</td><td>-1</td><td>nan</td><td>nan</td><td>nan</td><td>nan</td><td>-1</td><td>nan</td><td>nan</td><td>nan</td><td>nan</td><td>-1</td><td>nan</td><td>nan</td><td>nan</td><td>nan</td><td>-1</td><td>nan</td><td>nan</td><td>nan</td><td>nan</td><td>nan</td><td>nan</td><td>nan</td><td>nan</td><td>False</td><td>nan</td><td>nan</td><td>nan</td><td>nan</td><td>False</td><td>nan</td><td>nan</td><td>nan</td><td>nan</td><td>False</td><td>nan</td><td>nan</td><td>nan</td><td>nan</td><td>False</td><td>nan</td><td>nan</td><td>nan</td><td>nan</td><td>False</td><td>nan</td><td>False</td><td>0</td><td>-1</td></tr>\n",
       "<tr><td>1</td><td>20563</td><td>34.3530670693</td><td>-5.16239645973</td><td>0.0</td><td>0.133338</td><td>0.00879655</td><td>0.180807</td><td>0.0136602</td><td>0.197151</td><td>0.00897565</td><td>0.310126</td><td>0.0138066</td><td>0.333375</td><td>0.0187768</td><td>0.472117</td><td>0.0292274</td><td>0.538301</td><td>0.0144117</td><td>0.760123</td><td>0.0223591</td><td>0.2452752</td><td>0.0068255</td><td>0.2958344</td><td>0.0043875</td><td>0.4402928</td><td>0.0053329</td><td>0.5652437</td><td>0.007054</td><td>0.9049545</td><td>0.0085324</td><td>1.1906105</td><td>0.0191945</td><td>0.527608</td><td>0.0141214</td><td>0.0304363</td><td>26.0876151584</td><td>0.0716279891101</td><td>False</td><td>25.7569618992</td><td>0.0820287583127</td><td>25.6630025393</td><td>0.0494300722098</td><td>False</td><td>25.1711545558</td><td>0.0483362423164</td><td>25.0926674283</td><td>0.0611523106697</td><td>False</td><td>24.714875903</td><td>0.0672147928394</td><td>24.5724370335</td><td>0.0290679461159</td><td>False</td><td>24.1977903157</td><td>0.0319370475249</td><td>25.4258659037</td><td>0.0302137862514</td><td>0.0</td><td>25.2223783177</td><td>0.0161024803011</td><td>False</td><td>24.790646041</td><td>0.0131506184211</td><td>False</td><td>24.5194106736</td><td>0.0135495241935</td><td>False</td><td>24.0084331401</td><td>0.0102369075942</td><td>False</td><td>23.7105757293</td><td>0.0175037626346</td><td>False</td><td>24.5942215699</td><td>0.0626332293083</td><td>False</td><td>False</td><td>0</td><td>False</td><td>-1</td><td>nan</td><td>nan</td><td>nan</td><td>nan</td><td>nan</td><td>nan</td><td>nan</td><td>nan</td><td>nan</td><td>nan</td><td>nan</td><td>nan</td><td>nan</td><td>nan</td><td>nan</td><td>nan</td><td>nan</td><td>nan</td><td>nan</td><td>nan</td><td>nan</td><td>nan</td><td>nan</td><td>nan</td><td>nan</td><td>nan</td><td>nan</td><td>False</td><td>nan</td><td>nan</td><td>False</td><td>nan</td><td>nan</td><td>False</td><td>nan</td><td>nan</td><td>False</td><td>nan</td><td>nan</td><td>False</td><td>nan</td><td>nan</td><td>False</td><td>nan</td><td>nan</td><td>nan</td><td>nan</td><td>nan</td><td>nan</td><td>nan</td><td>nan</td><td>nan</td><td>nan</td><td>nan</td><td>nan</td><td>False</td><td>0</td><td>-1</td><td>nan</td><td>nan</td><td>nan</td><td>nan</td><td>nan</td><td>nan</td><td>nan</td><td>nan</td><td>nan</td><td>nan</td><td>nan</td><td>nan</td><td>nan</td><td>nan</td><td>nan</td><td>nan</td><td>nan</td><td>nan</td><td>nan</td><td>nan</td><td>nan</td><td>nan</td><td>nan</td><td>False</td><td>nan</td><td>nan</td><td>False</td><td>nan</td><td>nan</td><td>False</td><td>nan</td><td>nan</td><td>False</td><td>nan</td><td>nan</td><td>False</td><td>nan</td><td>nan</td><td>nan</td><td>nan</td><td>nan</td><td>nan</td><td>nan</td><td>nan</td><td>nan</td><td>nan</td><td>False</td><td>0</td><td>-1</td><td>nan</td><td>nan</td><td>nan</td><td>nan</td><td>nan</td><td>nan</td><td>nan</td><td>nan</td><td>nan</td><td>False</td><td>nan</td><td>nan</td><td>nan</td><td>nan</td><td>nan</td><td>nan</td><td>nan</td><td>nan</td><td>False</td><td>nan</td><td>nan</td><td>nan</td><td>nan</td><td>nan</td><td>nan</td><td>nan</td><td>nan</td><td>False</td><td>nan</td><td>nan</td><td>nan</td><td>nan</td><td>nan</td><td>nan</td><td>nan</td><td>nan</td><td>False</td><td>nan</td><td>nan</td><td>nan</td><td>nan</td><td>nan</td><td>nan</td><td>nan</td><td>nan</td><td>False</td><td>False</td><td>0</td><td>-1</td><td>nan</td><td>nan</td><td>nan</td><td>nan</td><td>nan</td><td>nan</td><td>nan</td><td>nan</td><td>nan</td><td>nan</td><td>nan</td><td>nan</td><td>nan</td><td>nan</td><td>nan</td><td>nan</td><td>nan</td><td>nan</td><td>nan</td><td>nan</td><td>nan</td><td>nan</td><td>nan</td><td>nan</td><td>nan</td><td>nan</td><td>nan</td><td>nan</td><td>nan</td><td>nan</td><td>nan</td><td>nan</td><td>nan</td><td>nan</td><td>False</td><td>nan</td><td>nan</td><td>nan</td><td>nan</td><td>False</td><td>nan</td><td>nan</td><td>nan</td><td>nan</td><td>False</td><td>nan</td><td>nan</td><td>nan</td><td>nan</td><td>False</td><td>nan</td><td>nan</td><td>nan</td><td>nan</td><td>False</td><td>nan</td><td>nan</td><td>nan</td><td>nan</td><td>False</td><td>nan</td><td>nan</td><td>nan</td><td>nan</td><td>False</td><td>nan</td><td>nan</td><td>nan</td><td>nan</td><td>False</td><td>nan</td><td>nan</td><td>False</td><td>0</td><td>-1</td><td>nan</td><td>nan</td><td>nan</td><td>nan</td><td>nan</td><td>nan</td><td>nan</td><td>nan</td><td>nan</td><td>nan</td><td>nan</td><td>nan</td><td>nan</td><td>nan</td><td>nan</td><td>nan</td><td>False</td><td>nan</td><td>nan</td><td>False</td><td>nan</td><td>nan</td><td>False</td><td>nan</td><td>nan</td><td>False</td><td>nan</td><td>nan</td><td>False</td><td>nan</td><td>nan</td><td>False</td><td>nan</td><td>nan</td><td>False</td><td>False</td><td>0</td><td>-1</td><td>nan</td><td>nan</td><td>nan</td><td>nan</td><td>False</td><td>-1</td><td>nan</td><td>nan</td><td>nan</td><td>nan</td><td>-1</td><td>nan</td><td>nan</td><td>nan</td><td>nan</td><td>-1</td><td>nan</td><td>nan</td><td>nan</td><td>nan</td><td>-1</td><td>nan</td><td>nan</td><td>nan</td><td>nan</td><td>nan</td><td>nan</td><td>nan</td><td>nan</td><td>False</td><td>nan</td><td>nan</td><td>nan</td><td>nan</td><td>False</td><td>nan</td><td>nan</td><td>nan</td><td>nan</td><td>False</td><td>nan</td><td>nan</td><td>nan</td><td>nan</td><td>False</td><td>nan</td><td>nan</td><td>nan</td><td>nan</td><td>False</td><td>nan</td><td>False</td><td>0</td><td>-1</td></tr>\n",
       "<tr><td>2</td><td>14826</td><td>34.2856193693</td><td>-5.19395515973</td><td>0.0</td><td>0.0491678</td><td>0.0074849</td><td>0.0619168</td><td>0.0160298</td><td>0.0972186</td><td>0.00783663</td><td>0.142508</td><td>0.0157403</td><td>0.264025</td><td>0.0154075</td><td>0.328606</td><td>0.0278024</td><td>0.344238</td><td>0.0123705</td><td>0.467226</td><td>0.0238434</td><td>0.1681561</td><td>0.0073574</td><td>0.2055707</td><td>0.0043688</td><td>0.2400314</td><td>0.0047257</td><td>0.3092149</td><td>0.0067454</td><td>0.3850932</td><td>0.0065248</td><td>0.5510579</td><td>0.0183486</td><td>0.471631</td><td>0.0210946</td><td>0.0445381</td><td>27.1707980592</td><td>0.165283517241</td><td>False</td><td>26.9204787427</td><td>0.281089045542</td><td>26.4306265932</td><td>0.0875193935553</td><td>False</td><td>26.0154018872</td><td>0.119921783926</td><td>25.3458873718</td><td>0.0633594567742</td><td>False</td><td>25.1083112777</td><td>0.0918609893282</td><td>25.0578529754</td><td>0.0390169002869</td><td>False</td><td>24.7261824945</td><td>0.0554071105301</td><td>25.8357184342</td><td>0.0475046433218</td><td>0.0</td><td>25.6175969632</td><td>0.023074126475</td><td>False</td><td>25.4493298545</td><td>0.0213758015944</td><td>False</td><td>25.1743489677</td><td>0.0236849032682</td><td>False</td><td>24.9360853753</td><td>0.0183960962925</td><td>False</td><td>24.5470069179</td><td>0.0361518078711</td><td>False</td><td>24.7159941419</td><td>0.102530638701</td><td>False</td><td>False</td><td>0</td><td>False</td><td>-1</td><td>nan</td><td>nan</td><td>nan</td><td>nan</td><td>nan</td><td>nan</td><td>nan</td><td>nan</td><td>nan</td><td>nan</td><td>nan</td><td>nan</td><td>nan</td><td>nan</td><td>nan</td><td>nan</td><td>nan</td><td>nan</td><td>nan</td><td>nan</td><td>nan</td><td>nan</td><td>nan</td><td>nan</td><td>nan</td><td>nan</td><td>nan</td><td>False</td><td>nan</td><td>nan</td><td>False</td><td>nan</td><td>nan</td><td>False</td><td>nan</td><td>nan</td><td>False</td><td>nan</td><td>nan</td><td>False</td><td>nan</td><td>nan</td><td>False</td><td>nan</td><td>nan</td><td>nan</td><td>nan</td><td>nan</td><td>nan</td><td>nan</td><td>nan</td><td>nan</td><td>nan</td><td>nan</td><td>nan</td><td>False</td><td>0</td><td>-1</td><td>nan</td><td>nan</td><td>nan</td><td>nan</td><td>nan</td><td>nan</td><td>nan</td><td>nan</td><td>nan</td><td>nan</td><td>nan</td><td>nan</td><td>nan</td><td>nan</td><td>nan</td><td>nan</td><td>nan</td><td>nan</td><td>nan</td><td>nan</td><td>nan</td><td>nan</td><td>nan</td><td>False</td><td>nan</td><td>nan</td><td>False</td><td>nan</td><td>nan</td><td>False</td><td>nan</td><td>nan</td><td>False</td><td>nan</td><td>nan</td><td>False</td><td>nan</td><td>nan</td><td>nan</td><td>nan</td><td>nan</td><td>nan</td><td>nan</td><td>nan</td><td>nan</td><td>nan</td><td>False</td><td>0</td><td>-1</td><td>nan</td><td>nan</td><td>nan</td><td>nan</td><td>nan</td><td>nan</td><td>nan</td><td>nan</td><td>nan</td><td>False</td><td>nan</td><td>nan</td><td>nan</td><td>nan</td><td>nan</td><td>nan</td><td>nan</td><td>nan</td><td>False</td><td>nan</td><td>nan</td><td>nan</td><td>nan</td><td>nan</td><td>nan</td><td>nan</td><td>nan</td><td>False</td><td>nan</td><td>nan</td><td>nan</td><td>nan</td><td>nan</td><td>nan</td><td>nan</td><td>nan</td><td>False</td><td>nan</td><td>nan</td><td>nan</td><td>nan</td><td>nan</td><td>nan</td><td>nan</td><td>nan</td><td>False</td><td>False</td><td>0</td><td>-1</td><td>nan</td><td>nan</td><td>nan</td><td>nan</td><td>nan</td><td>nan</td><td>nan</td><td>nan</td><td>nan</td><td>nan</td><td>nan</td><td>nan</td><td>nan</td><td>nan</td><td>nan</td><td>nan</td><td>nan</td><td>nan</td><td>nan</td><td>nan</td><td>nan</td><td>nan</td><td>nan</td><td>nan</td><td>nan</td><td>nan</td><td>nan</td><td>nan</td><td>nan</td><td>nan</td><td>nan</td><td>nan</td><td>nan</td><td>nan</td><td>False</td><td>nan</td><td>nan</td><td>nan</td><td>nan</td><td>False</td><td>nan</td><td>nan</td><td>nan</td><td>nan</td><td>False</td><td>nan</td><td>nan</td><td>nan</td><td>nan</td><td>False</td><td>nan</td><td>nan</td><td>nan</td><td>nan</td><td>False</td><td>nan</td><td>nan</td><td>nan</td><td>nan</td><td>False</td><td>nan</td><td>nan</td><td>nan</td><td>nan</td><td>False</td><td>nan</td><td>nan</td><td>nan</td><td>nan</td><td>False</td><td>nan</td><td>nan</td><td>False</td><td>0</td><td>-1</td><td>nan</td><td>nan</td><td>nan</td><td>nan</td><td>nan</td><td>nan</td><td>nan</td><td>nan</td><td>nan</td><td>nan</td><td>nan</td><td>nan</td><td>nan</td><td>nan</td><td>nan</td><td>nan</td><td>False</td><td>nan</td><td>nan</td><td>False</td><td>nan</td><td>nan</td><td>False</td><td>nan</td><td>nan</td><td>False</td><td>nan</td><td>nan</td><td>False</td><td>nan</td><td>nan</td><td>False</td><td>nan</td><td>nan</td><td>False</td><td>False</td><td>0</td><td>-1</td><td>nan</td><td>nan</td><td>nan</td><td>nan</td><td>False</td><td>-1</td><td>nan</td><td>nan</td><td>nan</td><td>nan</td><td>-1</td><td>nan</td><td>nan</td><td>nan</td><td>nan</td><td>-1</td><td>nan</td><td>nan</td><td>nan</td><td>nan</td><td>-1</td><td>nan</td><td>nan</td><td>nan</td><td>nan</td><td>nan</td><td>nan</td><td>nan</td><td>nan</td><td>False</td><td>nan</td><td>nan</td><td>nan</td><td>nan</td><td>False</td><td>nan</td><td>nan</td><td>nan</td><td>nan</td><td>False</td><td>nan</td><td>nan</td><td>nan</td><td>nan</td><td>False</td><td>nan</td><td>nan</td><td>nan</td><td>nan</td><td>False</td><td>nan</td><td>False</td><td>0</td><td>-1</td></tr>\n",
       "<tr><td>3</td><td>1265</td><td>34.3627124693</td><td>-5.26953255973</td><td>0.019999999553</td><td>0.195174</td><td>0.0114047</td><td>0.277966</td><td>0.0174607</td><td>0.394889</td><td>0.0137767</td><td>0.544339</td><td>0.0199322</td><td>0.665006</td><td>0.0217909</td><td>0.966486</td><td>0.0305951</td><td>0.750229</td><td>0.0151674</td><td>1.11416</td><td>0.0233303</td><td>0.0529733</td><td>0.0075836</td><td>0.0960998</td><td>0.0032959</td><td>0.1398806</td><td>0.0056783</td><td>0.1907871</td><td>0.0052222</td><td>0.4022798</td><td>0.0070876</td><td>0.5167124</td><td>0.0224519</td><td>0.553209</td><td>0.045561</td><td>0.0959896</td><td>25.6739450928</td><td>0.0634433669157</td><td>False</td><td>25.2900208062</td><td>0.0682015575661</td><td>24.9088124094</td><td>0.0378786493726</td><td>False</td><td>24.5603263722</td><td>0.0397566795333</td><td>24.3429360907</td><td>0.0355773768421</td><td>False</td><td>23.9370110814</td><td>0.0343700868488</td><td>24.2120153807</td><td>0.02195035824</td><td>False</td><td>23.7826310935</td><td>0.0227351110952</td><td>27.089857429</td><td>0.155432813935</td><td>0.0</td><td>26.4431937904</td><td>0.0372371009852</td><td>False</td><td>26.0356062838</td><td>0.0440742739985</td><td>False</td><td>25.6986274833</td><td>0.0297186319646</td><td>False</td><td>24.8886794362</td><td>0.0191291333168</td><td>False</td><td>24.6168777905</td><td>0.0471768060832</td><td>False</td><td>24.5427769077</td><td>0.188390615482</td><td>False</td><td>False</td><td>0</td><td>True</td><td>-1</td><td>nan</td><td>nan</td><td>nan</td><td>nan</td><td>nan</td><td>nan</td><td>nan</td><td>nan</td><td>nan</td><td>nan</td><td>nan</td><td>nan</td><td>nan</td><td>nan</td><td>nan</td><td>nan</td><td>nan</td><td>nan</td><td>nan</td><td>nan</td><td>nan</td><td>nan</td><td>nan</td><td>nan</td><td>nan</td><td>nan</td><td>nan</td><td>False</td><td>nan</td><td>nan</td><td>False</td><td>nan</td><td>nan</td><td>False</td><td>nan</td><td>nan</td><td>False</td><td>nan</td><td>nan</td><td>False</td><td>nan</td><td>nan</td><td>False</td><td>nan</td><td>nan</td><td>nan</td><td>nan</td><td>nan</td><td>nan</td><td>nan</td><td>nan</td><td>nan</td><td>nan</td><td>nan</td><td>nan</td><td>False</td><td>0</td><td>-1</td><td>nan</td><td>nan</td><td>nan</td><td>nan</td><td>nan</td><td>nan</td><td>nan</td><td>nan</td><td>nan</td><td>nan</td><td>nan</td><td>nan</td><td>nan</td><td>nan</td><td>nan</td><td>nan</td><td>nan</td><td>nan</td><td>nan</td><td>nan</td><td>nan</td><td>nan</td><td>nan</td><td>False</td><td>nan</td><td>nan</td><td>False</td><td>nan</td><td>nan</td><td>False</td><td>nan</td><td>nan</td><td>False</td><td>nan</td><td>nan</td><td>False</td><td>nan</td><td>nan</td><td>nan</td><td>nan</td><td>nan</td><td>nan</td><td>nan</td><td>nan</td><td>nan</td><td>nan</td><td>False</td><td>0</td><td>-1</td><td>nan</td><td>nan</td><td>nan</td><td>nan</td><td>nan</td><td>nan</td><td>nan</td><td>nan</td><td>nan</td><td>False</td><td>nan</td><td>nan</td><td>nan</td><td>nan</td><td>nan</td><td>nan</td><td>nan</td><td>nan</td><td>False</td><td>nan</td><td>nan</td><td>nan</td><td>nan</td><td>nan</td><td>nan</td><td>nan</td><td>nan</td><td>False</td><td>nan</td><td>nan</td><td>nan</td><td>nan</td><td>nan</td><td>nan</td><td>nan</td><td>nan</td><td>False</td><td>nan</td><td>nan</td><td>nan</td><td>nan</td><td>nan</td><td>nan</td><td>nan</td><td>nan</td><td>False</td><td>False</td><td>0</td><td>-1</td><td>nan</td><td>nan</td><td>nan</td><td>nan</td><td>nan</td><td>nan</td><td>nan</td><td>nan</td><td>nan</td><td>nan</td><td>nan</td><td>nan</td><td>nan</td><td>nan</td><td>nan</td><td>nan</td><td>nan</td><td>nan</td><td>nan</td><td>nan</td><td>nan</td><td>nan</td><td>nan</td><td>nan</td><td>nan</td><td>nan</td><td>nan</td><td>nan</td><td>nan</td><td>nan</td><td>nan</td><td>nan</td><td>nan</td><td>nan</td><td>False</td><td>nan</td><td>nan</td><td>nan</td><td>nan</td><td>False</td><td>nan</td><td>nan</td><td>nan</td><td>nan</td><td>False</td><td>nan</td><td>nan</td><td>nan</td><td>nan</td><td>False</td><td>nan</td><td>nan</td><td>nan</td><td>nan</td><td>False</td><td>nan</td><td>nan</td><td>nan</td><td>nan</td><td>False</td><td>nan</td><td>nan</td><td>nan</td><td>nan</td><td>False</td><td>nan</td><td>nan</td><td>nan</td><td>nan</td><td>False</td><td>nan</td><td>nan</td><td>False</td><td>0</td><td>-1</td><td>nan</td><td>nan</td><td>nan</td><td>nan</td><td>nan</td><td>nan</td><td>nan</td><td>nan</td><td>nan</td><td>nan</td><td>nan</td><td>nan</td><td>nan</td><td>nan</td><td>nan</td><td>nan</td><td>False</td><td>nan</td><td>nan</td><td>False</td><td>nan</td><td>nan</td><td>False</td><td>nan</td><td>nan</td><td>False</td><td>nan</td><td>nan</td><td>False</td><td>nan</td><td>nan</td><td>False</td><td>nan</td><td>nan</td><td>False</td><td>False</td><td>0</td><td>-1</td><td>nan</td><td>nan</td><td>nan</td><td>nan</td><td>False</td><td>-1</td><td>nan</td><td>nan</td><td>nan</td><td>nan</td><td>-1</td><td>nan</td><td>nan</td><td>nan</td><td>nan</td><td>-1</td><td>nan</td><td>nan</td><td>nan</td><td>nan</td><td>-1</td><td>nan</td><td>nan</td><td>nan</td><td>nan</td><td>nan</td><td>nan</td><td>nan</td><td>nan</td><td>False</td><td>nan</td><td>nan</td><td>nan</td><td>nan</td><td>False</td><td>nan</td><td>nan</td><td>nan</td><td>nan</td><td>False</td><td>nan</td><td>nan</td><td>nan</td><td>nan</td><td>False</td><td>nan</td><td>nan</td><td>nan</td><td>nan</td><td>False</td><td>nan</td><td>False</td><td>0</td><td>-1</td></tr>\n",
       "<tr><td>4</td><td>13273</td><td>34.3243668693</td><td>-5.20170115973</td><td>0.0</td><td>0.113233</td><td>0.00771246</td><td>0.161421</td><td>0.0175376</td><td>0.220957</td><td>0.00871852</td><td>0.318615</td><td>0.0181905</td><td>0.304997</td><td>0.0133402</td><td>0.473484</td><td>0.0277084</td><td>0.332122</td><td>0.00962214</td><td>0.508171</td><td>0.0236617</td><td>0.0365908</td><td>0.0066596</td><td>0.0859443</td><td>0.0048999</td><td>0.1259515</td><td>0.0058358</td><td>0.2384127</td><td>0.0085755</td><td>0.3344948</td><td>0.0111257</td><td>0.4307847</td><td>0.0230394</td><td>0.390239</td><td>0.0194855</td><td>0.0391507</td><td>26.2650674658</td><td>0.0739510306161</td><td>False</td><td>25.8800999164</td><td>0.117959913918</td><td>25.5392305882</td><td>0.0428409727499</td><td>False</td><td>25.141834455</td><td>0.0619873026463</td><td>25.1892610811</td><td>0.0474887888035</td><td>False</td><td>24.7117367303</td><td>0.0635375494334</td><td>25.0967558887</td><td>0.0314556270444</td><td>False</td><td>24.6349753066</td><td>0.0505545659948</td><td>27.4915702381</td><td>0.197606196891</td><td>0.0</td><td>26.5644573033</td><td>0.0619005429062</td><td>False</td><td>26.1494916399</td><td>0.0503061840766</td><td>False</td><td>25.4566765347</td><td>0.0390529985353</td><td>False</td><td>25.0890265733</td><td>0.0361128941116</td><td>False</td><td>24.8143493244</td><td>0.0580677789065</td><td>False</td><td>24.9216733248</td><td>0.108926407744</td><td>False</td><td>False</td><td>0</td><td>False</td><td>-1</td><td>nan</td><td>nan</td><td>nan</td><td>nan</td><td>nan</td><td>nan</td><td>nan</td><td>nan</td><td>nan</td><td>nan</td><td>nan</td><td>nan</td><td>nan</td><td>nan</td><td>nan</td><td>nan</td><td>nan</td><td>nan</td><td>nan</td><td>nan</td><td>nan</td><td>nan</td><td>nan</td><td>nan</td><td>nan</td><td>nan</td><td>nan</td><td>False</td><td>nan</td><td>nan</td><td>False</td><td>nan</td><td>nan</td><td>False</td><td>nan</td><td>nan</td><td>False</td><td>nan</td><td>nan</td><td>False</td><td>nan</td><td>nan</td><td>False</td><td>nan</td><td>nan</td><td>nan</td><td>nan</td><td>nan</td><td>nan</td><td>nan</td><td>nan</td><td>nan</td><td>nan</td><td>nan</td><td>nan</td><td>False</td><td>0</td><td>-1</td><td>nan</td><td>nan</td><td>nan</td><td>nan</td><td>nan</td><td>nan</td><td>nan</td><td>nan</td><td>nan</td><td>nan</td><td>nan</td><td>nan</td><td>nan</td><td>nan</td><td>nan</td><td>nan</td><td>nan</td><td>nan</td><td>nan</td><td>nan</td><td>nan</td><td>nan</td><td>nan</td><td>False</td><td>nan</td><td>nan</td><td>False</td><td>nan</td><td>nan</td><td>False</td><td>nan</td><td>nan</td><td>False</td><td>nan</td><td>nan</td><td>False</td><td>nan</td><td>nan</td><td>nan</td><td>nan</td><td>nan</td><td>nan</td><td>nan</td><td>nan</td><td>nan</td><td>nan</td><td>False</td><td>0</td><td>-1</td><td>nan</td><td>nan</td><td>nan</td><td>nan</td><td>nan</td><td>nan</td><td>nan</td><td>nan</td><td>nan</td><td>False</td><td>nan</td><td>nan</td><td>nan</td><td>nan</td><td>nan</td><td>nan</td><td>nan</td><td>nan</td><td>False</td><td>nan</td><td>nan</td><td>nan</td><td>nan</td><td>nan</td><td>nan</td><td>nan</td><td>nan</td><td>False</td><td>nan</td><td>nan</td><td>nan</td><td>nan</td><td>nan</td><td>nan</td><td>nan</td><td>nan</td><td>False</td><td>nan</td><td>nan</td><td>nan</td><td>nan</td><td>nan</td><td>nan</td><td>nan</td><td>nan</td><td>False</td><td>False</td><td>0</td><td>-1</td><td>nan</td><td>nan</td><td>nan</td><td>nan</td><td>nan</td><td>nan</td><td>nan</td><td>nan</td><td>nan</td><td>nan</td><td>nan</td><td>nan</td><td>nan</td><td>nan</td><td>nan</td><td>nan</td><td>nan</td><td>nan</td><td>nan</td><td>nan</td><td>nan</td><td>nan</td><td>nan</td><td>nan</td><td>nan</td><td>nan</td><td>nan</td><td>nan</td><td>nan</td><td>nan</td><td>nan</td><td>nan</td><td>nan</td><td>nan</td><td>False</td><td>nan</td><td>nan</td><td>nan</td><td>nan</td><td>False</td><td>nan</td><td>nan</td><td>nan</td><td>nan</td><td>False</td><td>nan</td><td>nan</td><td>nan</td><td>nan</td><td>False</td><td>nan</td><td>nan</td><td>nan</td><td>nan</td><td>False</td><td>nan</td><td>nan</td><td>nan</td><td>nan</td><td>False</td><td>nan</td><td>nan</td><td>nan</td><td>nan</td><td>False</td><td>nan</td><td>nan</td><td>nan</td><td>nan</td><td>False</td><td>nan</td><td>nan</td><td>False</td><td>0</td><td>-1</td><td>nan</td><td>nan</td><td>nan</td><td>nan</td><td>nan</td><td>nan</td><td>nan</td><td>nan</td><td>nan</td><td>nan</td><td>nan</td><td>nan</td><td>nan</td><td>nan</td><td>nan</td><td>nan</td><td>False</td><td>nan</td><td>nan</td><td>False</td><td>nan</td><td>nan</td><td>False</td><td>nan</td><td>nan</td><td>False</td><td>nan</td><td>nan</td><td>False</td><td>nan</td><td>nan</td><td>False</td><td>nan</td><td>nan</td><td>False</td><td>False</td><td>0</td><td>-1</td><td>nan</td><td>nan</td><td>nan</td><td>nan</td><td>False</td><td>-1</td><td>nan</td><td>nan</td><td>nan</td><td>nan</td><td>-1</td><td>nan</td><td>nan</td><td>nan</td><td>nan</td><td>-1</td><td>nan</td><td>nan</td><td>nan</td><td>nan</td><td>-1</td><td>nan</td><td>nan</td><td>nan</td><td>nan</td><td>nan</td><td>nan</td><td>nan</td><td>nan</td><td>False</td><td>nan</td><td>nan</td><td>nan</td><td>nan</td><td>False</td><td>nan</td><td>nan</td><td>nan</td><td>nan</td><td>False</td><td>nan</td><td>nan</td><td>nan</td><td>nan</td><td>False</td><td>nan</td><td>nan</td><td>nan</td><td>nan</td><td>False</td><td>nan</td><td>False</td><td>0</td><td>-1</td></tr>\n",
       "<tr><td>5</td><td>9036</td><td>34.2784354693</td><td>-5.22480465973</td><td>0.0</td><td>0.0543055</td><td>0.00773169</td><td>0.102759</td><td>0.0182538</td><td>0.110097</td><td>0.00870382</td><td>0.202327</td><td>0.0191073</td><td>0.262203</td><td>0.015319</td><td>0.379377</td><td>0.0315701</td><td>0.450288</td><td>0.0132094</td><td>0.713741</td><td>0.0276764</td><td>0.1593326</td><td>0.0068346</td><td>0.2187557</td><td>0.0036391</td><td>0.3882704</td><td>0.0065876</td><td>0.6772675</td><td>0.0064811</td><td>1.0186884</td><td>0.008968</td><td>1.122582</td><td>0.0226343</td><td>0.656931</td><td>0.0194469</td><td>0.039726</td><td>27.0628904583</td><td>0.154580581285</td><td>False</td><td>26.3704503268</td><td>0.192866917101</td><td>26.2955612871</td><td>0.0858338782501</td><td>False</td><td>25.6348653948</td><td>0.102534448616</td><td>25.3534058591</td><td>0.0634332670514</td><td>False</td><td>24.9523225052</td><td>0.0903502335614</td><td>24.7662740667</td><td>0.0318505574724</td><td>False</td><td>24.2661483875</td><td>0.0421010835827</td><td>25.8942383924</td><td>0.046572846141</td><td>0.0</td><td>25.5501015549</td><td>0.0180617127816</td><td>False</td><td>24.9271642922</td><td>0.018421172004</td><td>False</td><td>24.3230994109</td><td>0.0103899344301</td><td>False</td><td>23.879896598</td><td>0.0095582538137</td><td>False</td><td>23.7744548143</td><td>0.0218913887621</td><td>False</td><td>24.3562006092</td><td>0.0656567530992</td><td>False</td><td>False</td><td>0</td><td>False</td><td>-1</td><td>nan</td><td>nan</td><td>nan</td><td>nan</td><td>nan</td><td>nan</td><td>nan</td><td>nan</td><td>nan</td><td>nan</td><td>nan</td><td>nan</td><td>nan</td><td>nan</td><td>nan</td><td>nan</td><td>nan</td><td>nan</td><td>nan</td><td>nan</td><td>nan</td><td>nan</td><td>nan</td><td>nan</td><td>nan</td><td>nan</td><td>nan</td><td>False</td><td>nan</td><td>nan</td><td>False</td><td>nan</td><td>nan</td><td>False</td><td>nan</td><td>nan</td><td>False</td><td>nan</td><td>nan</td><td>False</td><td>nan</td><td>nan</td><td>False</td><td>nan</td><td>nan</td><td>nan</td><td>nan</td><td>nan</td><td>nan</td><td>nan</td><td>nan</td><td>nan</td><td>nan</td><td>nan</td><td>nan</td><td>False</td><td>0</td><td>-1</td><td>nan</td><td>nan</td><td>nan</td><td>nan</td><td>nan</td><td>nan</td><td>nan</td><td>nan</td><td>nan</td><td>nan</td><td>nan</td><td>nan</td><td>nan</td><td>nan</td><td>nan</td><td>nan</td><td>nan</td><td>nan</td><td>nan</td><td>nan</td><td>nan</td><td>nan</td><td>nan</td><td>False</td><td>nan</td><td>nan</td><td>False</td><td>nan</td><td>nan</td><td>False</td><td>nan</td><td>nan</td><td>False</td><td>nan</td><td>nan</td><td>False</td><td>nan</td><td>nan</td><td>nan</td><td>nan</td><td>nan</td><td>nan</td><td>nan</td><td>nan</td><td>nan</td><td>nan</td><td>False</td><td>0</td><td>-1</td><td>nan</td><td>nan</td><td>nan</td><td>nan</td><td>nan</td><td>nan</td><td>nan</td><td>nan</td><td>nan</td><td>False</td><td>nan</td><td>nan</td><td>nan</td><td>nan</td><td>nan</td><td>nan</td><td>nan</td><td>nan</td><td>False</td><td>nan</td><td>nan</td><td>nan</td><td>nan</td><td>nan</td><td>nan</td><td>nan</td><td>nan</td><td>False</td><td>nan</td><td>nan</td><td>nan</td><td>nan</td><td>nan</td><td>nan</td><td>nan</td><td>nan</td><td>False</td><td>nan</td><td>nan</td><td>nan</td><td>nan</td><td>nan</td><td>nan</td><td>nan</td><td>nan</td><td>False</td><td>False</td><td>0</td><td>-1</td><td>nan</td><td>nan</td><td>nan</td><td>nan</td><td>nan</td><td>nan</td><td>nan</td><td>nan</td><td>nan</td><td>nan</td><td>nan</td><td>nan</td><td>nan</td><td>nan</td><td>nan</td><td>nan</td><td>nan</td><td>nan</td><td>nan</td><td>nan</td><td>nan</td><td>nan</td><td>nan</td><td>nan</td><td>nan</td><td>nan</td><td>nan</td><td>nan</td><td>nan</td><td>nan</td><td>nan</td><td>nan</td><td>nan</td><td>nan</td><td>False</td><td>nan</td><td>nan</td><td>nan</td><td>nan</td><td>False</td><td>nan</td><td>nan</td><td>nan</td><td>nan</td><td>False</td><td>nan</td><td>nan</td><td>nan</td><td>nan</td><td>False</td><td>nan</td><td>nan</td><td>nan</td><td>nan</td><td>False</td><td>nan</td><td>nan</td><td>nan</td><td>nan</td><td>False</td><td>nan</td><td>nan</td><td>nan</td><td>nan</td><td>False</td><td>nan</td><td>nan</td><td>nan</td><td>nan</td><td>False</td><td>nan</td><td>nan</td><td>False</td><td>0</td><td>-1</td><td>nan</td><td>nan</td><td>nan</td><td>nan</td><td>nan</td><td>nan</td><td>nan</td><td>nan</td><td>nan</td><td>nan</td><td>nan</td><td>nan</td><td>nan</td><td>nan</td><td>nan</td><td>nan</td><td>False</td><td>nan</td><td>nan</td><td>False</td><td>nan</td><td>nan</td><td>False</td><td>nan</td><td>nan</td><td>False</td><td>nan</td><td>nan</td><td>False</td><td>nan</td><td>nan</td><td>False</td><td>nan</td><td>nan</td><td>False</td><td>False</td><td>0</td><td>-1</td><td>nan</td><td>nan</td><td>nan</td><td>nan</td><td>False</td><td>-1</td><td>nan</td><td>nan</td><td>nan</td><td>nan</td><td>-1</td><td>nan</td><td>nan</td><td>nan</td><td>nan</td><td>-1</td><td>nan</td><td>nan</td><td>nan</td><td>nan</td><td>-1</td><td>nan</td><td>nan</td><td>nan</td><td>nan</td><td>nan</td><td>nan</td><td>nan</td><td>nan</td><td>False</td><td>nan</td><td>nan</td><td>nan</td><td>nan</td><td>False</td><td>nan</td><td>nan</td><td>nan</td><td>nan</td><td>False</td><td>nan</td><td>nan</td><td>nan</td><td>nan</td><td>False</td><td>nan</td><td>nan</td><td>nan</td><td>nan</td><td>False</td><td>nan</td><td>False</td><td>0</td><td>-1</td></tr>\n",
       "<tr><td>6</td><td>3353</td><td>34.3749212693</td><td>-5.25793585973</td><td>0.0</td><td>0.0219845</td><td>0.0119491</td><td>0.036657</td><td>0.0189846</td><td>0.0715805</td><td>0.0121569</td><td>0.0942867</td><td>0.0190316</td><td>0.590133</td><td>0.0306195</td><td>0.762989</td><td>0.0439909</td><td>1.32479</td><td>0.0261523</td><td>1.58215</td><td>0.0382111</td><td>-0.0051325</td><td>0.0082125</td><td>0.0002127</td><td>0.0038226</td><td>-0.0133222</td><td>0.0071063</td><td>-0.0022047</td><td>0.0064365</td><td>0.0108566</td><td>0.0077467</td><td>0.1016985</td><td>0.0246658</td><td>0.247723</td><td>0.0177556</td><td>0.0384577</td><td>28.0447085181</td><td>0.590123518128</td><td>False</td><td>27.4896077012</td><td>0.562300994431</td><td>26.7630131808</td><td>0.184396399405</td><td>False</td><td>26.4638739104</td><td>0.219153890787</td><td>24.4726252478</td><td>0.0563342496041</td><td>False</td><td>24.193704308</td><td>0.0625992154669</td><td>23.5946323969</td><td>0.0214332074877</td><td>False</td><td>23.4018808611</td><td>0.0262220236347</td><td>nan</td><td>-1.73728369831</td><td>0.0</td><td>33.0805812752</td><td>19.5126244302</td><td>False</td><td>nan</td><td>-0.579151130584</td><td>False</td><td>nan</td><td>-3.1697469415</td><td>False</td><td>28.8107654075</td><td>0.774724375716</td><td>False</td><td>26.3817136316</td><td>0.263332812965</td><td>False</td><td>25.415084173</td><td>0.168554866693</td><td>False</td><td>False</td><td>0</td><td>False</td><td>-1</td><td>nan</td><td>nan</td><td>nan</td><td>nan</td><td>nan</td><td>nan</td><td>nan</td><td>nan</td><td>nan</td><td>nan</td><td>nan</td><td>nan</td><td>nan</td><td>nan</td><td>nan</td><td>nan</td><td>nan</td><td>nan</td><td>nan</td><td>nan</td><td>nan</td><td>nan</td><td>nan</td><td>nan</td><td>nan</td><td>nan</td><td>nan</td><td>False</td><td>nan</td><td>nan</td><td>False</td><td>nan</td><td>nan</td><td>False</td><td>nan</td><td>nan</td><td>False</td><td>nan</td><td>nan</td><td>False</td><td>nan</td><td>nan</td><td>False</td><td>nan</td><td>nan</td><td>nan</td><td>nan</td><td>nan</td><td>nan</td><td>nan</td><td>nan</td><td>nan</td><td>nan</td><td>nan</td><td>nan</td><td>False</td><td>0</td><td>-1</td><td>nan</td><td>nan</td><td>nan</td><td>nan</td><td>nan</td><td>nan</td><td>nan</td><td>nan</td><td>nan</td><td>nan</td><td>nan</td><td>nan</td><td>nan</td><td>nan</td><td>nan</td><td>nan</td><td>nan</td><td>nan</td><td>nan</td><td>nan</td><td>nan</td><td>nan</td><td>nan</td><td>False</td><td>nan</td><td>nan</td><td>False</td><td>nan</td><td>nan</td><td>False</td><td>nan</td><td>nan</td><td>False</td><td>nan</td><td>nan</td><td>False</td><td>nan</td><td>nan</td><td>nan</td><td>nan</td><td>nan</td><td>nan</td><td>nan</td><td>nan</td><td>nan</td><td>nan</td><td>False</td><td>0</td><td>-1</td><td>nan</td><td>nan</td><td>nan</td><td>nan</td><td>nan</td><td>nan</td><td>nan</td><td>nan</td><td>nan</td><td>False</td><td>nan</td><td>nan</td><td>nan</td><td>nan</td><td>nan</td><td>nan</td><td>nan</td><td>nan</td><td>False</td><td>nan</td><td>nan</td><td>nan</td><td>nan</td><td>nan</td><td>nan</td><td>nan</td><td>nan</td><td>False</td><td>nan</td><td>nan</td><td>nan</td><td>nan</td><td>nan</td><td>nan</td><td>nan</td><td>nan</td><td>False</td><td>nan</td><td>nan</td><td>nan</td><td>nan</td><td>nan</td><td>nan</td><td>nan</td><td>nan</td><td>False</td><td>False</td><td>0</td><td>-1</td><td>nan</td><td>nan</td><td>nan</td><td>nan</td><td>nan</td><td>nan</td><td>nan</td><td>nan</td><td>nan</td><td>nan</td><td>nan</td><td>nan</td><td>nan</td><td>nan</td><td>nan</td><td>nan</td><td>nan</td><td>nan</td><td>nan</td><td>nan</td><td>nan</td><td>nan</td><td>nan</td><td>nan</td><td>nan</td><td>nan</td><td>nan</td><td>nan</td><td>nan</td><td>nan</td><td>nan</td><td>nan</td><td>nan</td><td>nan</td><td>False</td><td>nan</td><td>nan</td><td>nan</td><td>nan</td><td>False</td><td>nan</td><td>nan</td><td>nan</td><td>nan</td><td>False</td><td>nan</td><td>nan</td><td>nan</td><td>nan</td><td>False</td><td>nan</td><td>nan</td><td>nan</td><td>nan</td><td>False</td><td>nan</td><td>nan</td><td>nan</td><td>nan</td><td>False</td><td>nan</td><td>nan</td><td>nan</td><td>nan</td><td>False</td><td>nan</td><td>nan</td><td>nan</td><td>nan</td><td>False</td><td>nan</td><td>nan</td><td>False</td><td>0</td><td>-1</td><td>nan</td><td>nan</td><td>nan</td><td>nan</td><td>nan</td><td>nan</td><td>nan</td><td>nan</td><td>nan</td><td>nan</td><td>nan</td><td>nan</td><td>nan</td><td>nan</td><td>nan</td><td>nan</td><td>False</td><td>nan</td><td>nan</td><td>False</td><td>nan</td><td>nan</td><td>False</td><td>nan</td><td>nan</td><td>False</td><td>nan</td><td>nan</td><td>False</td><td>nan</td><td>nan</td><td>False</td><td>nan</td><td>nan</td><td>False</td><td>False</td><td>0</td><td>-1</td><td>nan</td><td>nan</td><td>nan</td><td>nan</td><td>False</td><td>-1</td><td>nan</td><td>nan</td><td>nan</td><td>nan</td><td>-1</td><td>nan</td><td>nan</td><td>nan</td><td>nan</td><td>-1</td><td>nan</td><td>nan</td><td>nan</td><td>nan</td><td>-1</td><td>nan</td><td>nan</td><td>nan</td><td>nan</td><td>nan</td><td>nan</td><td>nan</td><td>nan</td><td>False</td><td>nan</td><td>nan</td><td>nan</td><td>nan</td><td>False</td><td>nan</td><td>nan</td><td>nan</td><td>nan</td><td>False</td><td>nan</td><td>nan</td><td>nan</td><td>nan</td><td>False</td><td>nan</td><td>nan</td><td>nan</td><td>nan</td><td>False</td><td>nan</td><td>False</td><td>0</td><td>-1</td></tr>\n",
       "<tr><td>7</td><td>30535</td><td>34.3719116693</td><td>-5.21773125973</td><td>0.0</td><td>0.0200661</td><td>0.00917157</td><td>-0.00216399</td><td>0.0189875</td><td>0.0597257</td><td>0.00988745</td><td>0.0881192</td><td>0.0191953</td><td>0.0968641</td><td>0.0228686</td><td>0.213073</td><td>0.0454037</td><td>0.112731</td><td>0.0212121</td><td>0.140503</td><td>0.0393608</td><td>0.0027365</td><td>0.0067958</td><td>0.005866</td><td>0.0037556</td><td>0.0223429</td><td>0.0064162</td><td>0.0384536</td><td>0.0069202</td><td>0.0829306</td><td>0.0096274</td><td>0.0957557</td><td>0.0246016</td><td>0.0821145</td><td>0.0146598</td><td>0.0307014</td><td>28.1438425694</td><td>0.49625515688</td><td>False</td><td>nan</td><td>-9.52657645731</td><td>26.9595968788</td><td>0.179741090313</td><td>False</td><td>26.5373236357</td><td>0.236509548103</td><td>26.4345928809</td><td>0.256330952047</td><td>False</td><td>25.5786789484</td><td>0.231359397577</td><td>26.2698916012</td><td>0.204298240492</td><td>False</td><td>26.0307860067</td><td>0.304160378129</td><td>30.3070113688</td><td>2.69630772896</td><td>0.0</td><td>29.4791448534</td><td>0.695122893043</td><td>False</td><td>28.0271511456</td><td>0.311790351162</td><td>False</td><td>27.437657489</td><td>0.195391632621</td><td>False</td><td>26.6032129813</td><td>0.126042941178</td><td>False</td><td>26.4470884114</td><td>0.278947862268</td><td>False</td><td>26.613950368</td><td>0.405940747575</td><td>False</td><td>False</td><td>0</td><td>False</td><td>-1</td><td>nan</td><td>nan</td><td>nan</td><td>nan</td><td>nan</td><td>nan</td><td>nan</td><td>nan</td><td>nan</td><td>nan</td><td>nan</td><td>nan</td><td>nan</td><td>nan</td><td>nan</td><td>nan</td><td>nan</td><td>nan</td><td>nan</td><td>nan</td><td>nan</td><td>nan</td><td>nan</td><td>nan</td><td>nan</td><td>nan</td><td>nan</td><td>False</td><td>nan</td><td>nan</td><td>False</td><td>nan</td><td>nan</td><td>False</td><td>nan</td><td>nan</td><td>False</td><td>nan</td><td>nan</td><td>False</td><td>nan</td><td>nan</td><td>False</td><td>nan</td><td>nan</td><td>nan</td><td>nan</td><td>nan</td><td>nan</td><td>nan</td><td>nan</td><td>nan</td><td>nan</td><td>nan</td><td>nan</td><td>False</td><td>0</td><td>-1</td><td>nan</td><td>nan</td><td>nan</td><td>nan</td><td>nan</td><td>nan</td><td>nan</td><td>nan</td><td>nan</td><td>nan</td><td>nan</td><td>nan</td><td>nan</td><td>nan</td><td>nan</td><td>nan</td><td>nan</td><td>nan</td><td>nan</td><td>nan</td><td>nan</td><td>nan</td><td>nan</td><td>False</td><td>nan</td><td>nan</td><td>False</td><td>nan</td><td>nan</td><td>False</td><td>nan</td><td>nan</td><td>False</td><td>nan</td><td>nan</td><td>False</td><td>nan</td><td>nan</td><td>nan</td><td>nan</td><td>nan</td><td>nan</td><td>nan</td><td>nan</td><td>nan</td><td>nan</td><td>False</td><td>0</td><td>-1</td><td>nan</td><td>nan</td><td>nan</td><td>nan</td><td>nan</td><td>nan</td><td>nan</td><td>nan</td><td>nan</td><td>False</td><td>nan</td><td>nan</td><td>nan</td><td>nan</td><td>nan</td><td>nan</td><td>nan</td><td>nan</td><td>False</td><td>nan</td><td>nan</td><td>nan</td><td>nan</td><td>nan</td><td>nan</td><td>nan</td><td>nan</td><td>False</td><td>nan</td><td>nan</td><td>nan</td><td>nan</td><td>nan</td><td>nan</td><td>nan</td><td>nan</td><td>False</td><td>nan</td><td>nan</td><td>nan</td><td>nan</td><td>nan</td><td>nan</td><td>nan</td><td>nan</td><td>False</td><td>False</td><td>0</td><td>-1</td><td>nan</td><td>nan</td><td>nan</td><td>nan</td><td>nan</td><td>nan</td><td>nan</td><td>nan</td><td>nan</td><td>nan</td><td>nan</td><td>nan</td><td>nan</td><td>nan</td><td>nan</td><td>nan</td><td>nan</td><td>nan</td><td>nan</td><td>nan</td><td>nan</td><td>nan</td><td>nan</td><td>nan</td><td>nan</td><td>nan</td><td>nan</td><td>nan</td><td>nan</td><td>nan</td><td>nan</td><td>nan</td><td>nan</td><td>nan</td><td>False</td><td>nan</td><td>nan</td><td>nan</td><td>nan</td><td>False</td><td>nan</td><td>nan</td><td>nan</td><td>nan</td><td>False</td><td>nan</td><td>nan</td><td>nan</td><td>nan</td><td>False</td><td>nan</td><td>nan</td><td>nan</td><td>nan</td><td>False</td><td>nan</td><td>nan</td><td>nan</td><td>nan</td><td>False</td><td>nan</td><td>nan</td><td>nan</td><td>nan</td><td>False</td><td>nan</td><td>nan</td><td>nan</td><td>nan</td><td>False</td><td>nan</td><td>nan</td><td>False</td><td>0</td><td>-1</td><td>nan</td><td>nan</td><td>nan</td><td>nan</td><td>nan</td><td>nan</td><td>nan</td><td>nan</td><td>nan</td><td>nan</td><td>nan</td><td>nan</td><td>nan</td><td>nan</td><td>nan</td><td>nan</td><td>False</td><td>nan</td><td>nan</td><td>False</td><td>nan</td><td>nan</td><td>False</td><td>nan</td><td>nan</td><td>False</td><td>nan</td><td>nan</td><td>False</td><td>nan</td><td>nan</td><td>False</td><td>nan</td><td>nan</td><td>False</td><td>False</td><td>0</td><td>-1</td><td>nan</td><td>nan</td><td>nan</td><td>nan</td><td>False</td><td>-1</td><td>nan</td><td>nan</td><td>nan</td><td>nan</td><td>-1</td><td>nan</td><td>nan</td><td>nan</td><td>nan</td><td>-1</td><td>nan</td><td>nan</td><td>nan</td><td>nan</td><td>-1</td><td>nan</td><td>nan</td><td>nan</td><td>nan</td><td>nan</td><td>nan</td><td>nan</td><td>nan</td><td>False</td><td>nan</td><td>nan</td><td>nan</td><td>nan</td><td>False</td><td>nan</td><td>nan</td><td>nan</td><td>nan</td><td>False</td><td>nan</td><td>nan</td><td>nan</td><td>nan</td><td>False</td><td>nan</td><td>nan</td><td>nan</td><td>nan</td><td>False</td><td>nan</td><td>False</td><td>0</td><td>-1</td></tr>\n",
       "<tr><td>8</td><td>10290</td><td>34.3721179693</td><td>-5.21799245973</td><td>0.699999988079</td><td>0.00202651</td><td>0.00576531</td><td>-0.0335463</td><td>0.0190292</td><td>0.00298273</td><td>0.00574464</td><td>0.0125992</td><td>0.0189148</td><td>0.0851452</td><td>0.0152042</td><td>0.075513</td><td>0.0450326</td><td>0.121132</td><td>0.016443</td><td>0.0909148</td><td>0.0397302</td><td>-0.0105424</td><td>0.0064933</td><td>-0.000704</td><td>0.003589</td><td>-0.0016523</td><td>0.006103</td><td>0.002381</td><td>0.0066523</td><td>-0.0106147</td><td>0.0092379</td><td>0.0122139</td><td>0.0235671</td><td>0.065116</td><td>0.0127878</td><td>0.0253353</td><td>30.6331281221</td><td>3.08886005924</td><td>False</td><td>nan</td><td>-0.615885846951</td><td>30.2134651442</td><td>2.09109226491</td><td>False</td><td>28.649142575</td><td>1.62998310732</td><td>26.5745995751</td><td>0.19387763966</td><td>False</td><td>26.7049456891</td><td>0.647484859751</td><td>26.1918527803</td><td>0.147382693383</td><td>False</td><td>26.5034135308</td><td>0.474471885351</td><td>nan</td><td>-0.6687292171</td><td>0.0</td><td>nan</td><td>-5.53509550977</td><td>False</td><td>nan</td><td>-4.01031777379</td><td>False</td><td>30.4581015115</td><td>3.03344937208</td><td>False</td><td>nan</td><td>-0.944908710179</td><td>False</td><td>28.6828641002</td><td>2.09496178216</td><td>False</td><td>26.8657807138</td><td>0.422437687641</td><td>False</td><td>False</td><td>0</td><td>False</td><td>-1</td><td>nan</td><td>nan</td><td>nan</td><td>nan</td><td>nan</td><td>nan</td><td>nan</td><td>nan</td><td>nan</td><td>nan</td><td>nan</td><td>nan</td><td>nan</td><td>nan</td><td>nan</td><td>nan</td><td>nan</td><td>nan</td><td>nan</td><td>nan</td><td>nan</td><td>nan</td><td>nan</td><td>nan</td><td>nan</td><td>nan</td><td>nan</td><td>False</td><td>nan</td><td>nan</td><td>False</td><td>nan</td><td>nan</td><td>False</td><td>nan</td><td>nan</td><td>False</td><td>nan</td><td>nan</td><td>False</td><td>nan</td><td>nan</td><td>False</td><td>nan</td><td>nan</td><td>nan</td><td>nan</td><td>nan</td><td>nan</td><td>nan</td><td>nan</td><td>nan</td><td>nan</td><td>nan</td><td>nan</td><td>False</td><td>0</td><td>-1</td><td>nan</td><td>nan</td><td>nan</td><td>nan</td><td>nan</td><td>nan</td><td>nan</td><td>nan</td><td>nan</td><td>nan</td><td>nan</td><td>nan</td><td>nan</td><td>nan</td><td>nan</td><td>nan</td><td>nan</td><td>nan</td><td>nan</td><td>nan</td><td>nan</td><td>nan</td><td>nan</td><td>False</td><td>nan</td><td>nan</td><td>False</td><td>nan</td><td>nan</td><td>False</td><td>nan</td><td>nan</td><td>False</td><td>nan</td><td>nan</td><td>False</td><td>nan</td><td>nan</td><td>nan</td><td>nan</td><td>nan</td><td>nan</td><td>nan</td><td>nan</td><td>nan</td><td>nan</td><td>False</td><td>0</td><td>-1</td><td>nan</td><td>nan</td><td>nan</td><td>nan</td><td>nan</td><td>nan</td><td>nan</td><td>nan</td><td>nan</td><td>False</td><td>nan</td><td>nan</td><td>nan</td><td>nan</td><td>nan</td><td>nan</td><td>nan</td><td>nan</td><td>False</td><td>nan</td><td>nan</td><td>nan</td><td>nan</td><td>nan</td><td>nan</td><td>nan</td><td>nan</td><td>False</td><td>nan</td><td>nan</td><td>nan</td><td>nan</td><td>nan</td><td>nan</td><td>nan</td><td>nan</td><td>False</td><td>nan</td><td>nan</td><td>nan</td><td>nan</td><td>nan</td><td>nan</td><td>nan</td><td>nan</td><td>False</td><td>False</td><td>0</td><td>-1</td><td>nan</td><td>nan</td><td>nan</td><td>nan</td><td>nan</td><td>nan</td><td>nan</td><td>nan</td><td>nan</td><td>nan</td><td>nan</td><td>nan</td><td>nan</td><td>nan</td><td>nan</td><td>nan</td><td>nan</td><td>nan</td><td>nan</td><td>nan</td><td>nan</td><td>nan</td><td>nan</td><td>nan</td><td>nan</td><td>nan</td><td>nan</td><td>nan</td><td>nan</td><td>nan</td><td>nan</td><td>nan</td><td>nan</td><td>nan</td><td>False</td><td>nan</td><td>nan</td><td>nan</td><td>nan</td><td>False</td><td>nan</td><td>nan</td><td>nan</td><td>nan</td><td>False</td><td>nan</td><td>nan</td><td>nan</td><td>nan</td><td>False</td><td>nan</td><td>nan</td><td>nan</td><td>nan</td><td>False</td><td>nan</td><td>nan</td><td>nan</td><td>nan</td><td>False</td><td>nan</td><td>nan</td><td>nan</td><td>nan</td><td>False</td><td>nan</td><td>nan</td><td>nan</td><td>nan</td><td>False</td><td>nan</td><td>nan</td><td>False</td><td>0</td><td>-1</td><td>nan</td><td>nan</td><td>nan</td><td>nan</td><td>nan</td><td>nan</td><td>nan</td><td>nan</td><td>nan</td><td>nan</td><td>nan</td><td>nan</td><td>nan</td><td>nan</td><td>nan</td><td>nan</td><td>False</td><td>nan</td><td>nan</td><td>False</td><td>nan</td><td>nan</td><td>False</td><td>nan</td><td>nan</td><td>False</td><td>nan</td><td>nan</td><td>False</td><td>nan</td><td>nan</td><td>False</td><td>nan</td><td>nan</td><td>False</td><td>False</td><td>0</td><td>-1</td><td>nan</td><td>nan</td><td>nan</td><td>nan</td><td>False</td><td>-1</td><td>nan</td><td>nan</td><td>nan</td><td>nan</td><td>-1</td><td>nan</td><td>nan</td><td>nan</td><td>nan</td><td>-1</td><td>nan</td><td>nan</td><td>nan</td><td>nan</td><td>-1</td><td>nan</td><td>nan</td><td>nan</td><td>nan</td><td>nan</td><td>nan</td><td>nan</td><td>nan</td><td>False</td><td>nan</td><td>nan</td><td>nan</td><td>nan</td><td>False</td><td>nan</td><td>nan</td><td>nan</td><td>nan</td><td>False</td><td>nan</td><td>nan</td><td>nan</td><td>nan</td><td>False</td><td>nan</td><td>nan</td><td>nan</td><td>nan</td><td>False</td><td>nan</td><td>False</td><td>0</td><td>-1</td></tr>\n",
       "<tr><td>9</td><td>30480</td><td>34.4393352693</td><td>-5.21873475973</td><td>0.709999978542</td><td>-0.00142079</td><td>0.00516246</td><td>-0.0420138</td><td>0.0193282</td><td>-0.00176442</td><td>0.00551065</td><td>-0.0195892</td><td>0.0206293</td><td>0.0360928</td><td>0.0129518</td><td>0.0310641</td><td>0.0448159</td><td>0.0594395</td><td>0.0138861</td><td>0.019035</td><td>0.0400623</td><td>0.0012722</td><td>0.0064643</td><td>-0.002361</td><td>0.003477</td><td>-0.000383</td><td>0.006916</td><td>0.0075941</td><td>0.0064209</td><td>0.0126521</td><td>0.0078891</td><td>0.0375685</td><td>0.0239401</td><td>0.02165</td><td>0.0127359</td><td>0.026029</td><td>nan</td><td>-3.9450374282</td><td>False</td><td>nan</td><td>-0.49948651426</td><td>nan</td><td>-3.39097959485</td><td>False</td><td>nan</td><td>-1.14338400184</td><td>27.5064485626</td><td>0.389613390393</td><td>False</td><td>27.669353061</td><td>1.5663819386</td><td>26.9648121312</td><td>0.253646842805</td><td>False</td><td>28.2011177971</td><td>2.28511108778</td><td>31.1386115219</td><td>5.51684055056</td><td>0.0</td><td>nan</td><td>-1.59894315288</td><td>False</td><td>nan</td><td>-19.605617734</td><td>False</td><td>29.1988092208</td><td>0.91800260691</td><td>False</td><td>28.6445934604</td><td>0.677000774018</td><td>False</td><td>27.4629403617</td><td>0.691873066945</td><td>False</td><td>28.0613552483</td><td>1.30534077015</td><td>False</td><td>False</td><td>0</td><td>False</td><td>-1</td><td>nan</td><td>nan</td><td>nan</td><td>nan</td><td>nan</td><td>nan</td><td>nan</td><td>nan</td><td>nan</td><td>nan</td><td>nan</td><td>nan</td><td>nan</td><td>nan</td><td>nan</td><td>nan</td><td>nan</td><td>nan</td><td>nan</td><td>nan</td><td>nan</td><td>nan</td><td>nan</td><td>nan</td><td>nan</td><td>nan</td><td>nan</td><td>False</td><td>nan</td><td>nan</td><td>False</td><td>nan</td><td>nan</td><td>False</td><td>nan</td><td>nan</td><td>False</td><td>nan</td><td>nan</td><td>False</td><td>nan</td><td>nan</td><td>False</td><td>nan</td><td>nan</td><td>nan</td><td>nan</td><td>nan</td><td>nan</td><td>nan</td><td>nan</td><td>nan</td><td>nan</td><td>nan</td><td>nan</td><td>False</td><td>0</td><td>-1</td><td>nan</td><td>nan</td><td>nan</td><td>nan</td><td>nan</td><td>nan</td><td>nan</td><td>nan</td><td>nan</td><td>nan</td><td>nan</td><td>nan</td><td>nan</td><td>nan</td><td>nan</td><td>nan</td><td>nan</td><td>nan</td><td>nan</td><td>nan</td><td>nan</td><td>nan</td><td>nan</td><td>False</td><td>nan</td><td>nan</td><td>False</td><td>nan</td><td>nan</td><td>False</td><td>nan</td><td>nan</td><td>False</td><td>nan</td><td>nan</td><td>False</td><td>nan</td><td>nan</td><td>nan</td><td>nan</td><td>nan</td><td>nan</td><td>nan</td><td>nan</td><td>nan</td><td>nan</td><td>False</td><td>0</td><td>-1</td><td>nan</td><td>nan</td><td>nan</td><td>nan</td><td>nan</td><td>nan</td><td>nan</td><td>nan</td><td>nan</td><td>False</td><td>nan</td><td>nan</td><td>nan</td><td>nan</td><td>nan</td><td>nan</td><td>nan</td><td>nan</td><td>False</td><td>nan</td><td>nan</td><td>nan</td><td>nan</td><td>nan</td><td>nan</td><td>nan</td><td>nan</td><td>False</td><td>nan</td><td>nan</td><td>nan</td><td>nan</td><td>nan</td><td>nan</td><td>nan</td><td>nan</td><td>False</td><td>nan</td><td>nan</td><td>nan</td><td>nan</td><td>nan</td><td>nan</td><td>nan</td><td>nan</td><td>False</td><td>False</td><td>0</td><td>-1</td><td>nan</td><td>nan</td><td>nan</td><td>nan</td><td>nan</td><td>nan</td><td>nan</td><td>nan</td><td>nan</td><td>nan</td><td>nan</td><td>nan</td><td>nan</td><td>nan</td><td>nan</td><td>nan</td><td>nan</td><td>nan</td><td>nan</td><td>nan</td><td>nan</td><td>nan</td><td>nan</td><td>nan</td><td>nan</td><td>nan</td><td>nan</td><td>nan</td><td>nan</td><td>nan</td><td>nan</td><td>nan</td><td>nan</td><td>nan</td><td>False</td><td>nan</td><td>nan</td><td>nan</td><td>nan</td><td>False</td><td>nan</td><td>nan</td><td>nan</td><td>nan</td><td>False</td><td>nan</td><td>nan</td><td>nan</td><td>nan</td><td>False</td><td>nan</td><td>nan</td><td>nan</td><td>nan</td><td>False</td><td>nan</td><td>nan</td><td>nan</td><td>nan</td><td>False</td><td>nan</td><td>nan</td><td>nan</td><td>nan</td><td>False</td><td>nan</td><td>nan</td><td>nan</td><td>nan</td><td>False</td><td>nan</td><td>nan</td><td>False</td><td>0</td><td>-1</td><td>nan</td><td>nan</td><td>nan</td><td>nan</td><td>nan</td><td>nan</td><td>nan</td><td>nan</td><td>nan</td><td>nan</td><td>nan</td><td>nan</td><td>nan</td><td>nan</td><td>nan</td><td>nan</td><td>False</td><td>nan</td><td>nan</td><td>False</td><td>nan</td><td>nan</td><td>False</td><td>nan</td><td>nan</td><td>False</td><td>nan</td><td>nan</td><td>False</td><td>nan</td><td>nan</td><td>False</td><td>nan</td><td>nan</td><td>False</td><td>False</td><td>0</td><td>-1</td><td>nan</td><td>nan</td><td>nan</td><td>nan</td><td>False</td><td>-1</td><td>nan</td><td>nan</td><td>nan</td><td>nan</td><td>-1</td><td>nan</td><td>nan</td><td>nan</td><td>nan</td><td>-1</td><td>nan</td><td>nan</td><td>nan</td><td>nan</td><td>-1</td><td>nan</td><td>nan</td><td>nan</td><td>nan</td><td>nan</td><td>nan</td><td>nan</td><td>nan</td><td>False</td><td>nan</td><td>nan</td><td>nan</td><td>nan</td><td>False</td><td>nan</td><td>nan</td><td>nan</td><td>nan</td><td>False</td><td>nan</td><td>nan</td><td>nan</td><td>nan</td><td>False</td><td>nan</td><td>nan</td><td>nan</td><td>nan</td><td>False</td><td>nan</td><td>False</td><td>0</td><td>-1</td></tr>\n",
       "</table><style>table.dataTable {clear: both; width: auto !important; margin: 0 !important;}\n",
       ".dataTables_info, .dataTables_length, .dataTables_filter, .dataTables_paginate{\n",
       "display: inline-block; margin-right: 1em; }\n",
       ".paginate_button { margin-right: 5px; }\n",
       "</style>\n",
       "<script>\n",
       "require.config({paths: {\n",
       "    datatables: 'https://cdn.datatables.net/1.10.12/js/jquery.dataTables.min'\n",
       "}});\n",
       "require([\"datatables\"], function(){\n",
       "    console.log(\"$('#table139944626079448-999581').dataTable()\");\n",
       "    $('#table139944626079448-999581').dataTable({\n",
       "        \"order\": [],\n",
       "        \"iDisplayLength\": 50,\n",
       "        \"aLengthMenu\": [[10, 25, 50, 100, 500, 1000, -1], [10, 25, 50, 100, 500, 1000, 'All']],\n",
       "        \"pagingType\": \"full_numbers\"\n",
       "    });\n",
       "});\n",
       "</script>\n"
      ],
      "text/plain": [
       "<IPython.core.display.HTML object>"
      ]
     },
     "execution_count": 20,
     "metadata": {},
     "output_type": "execute_result"
    }
   ],
   "source": [
    "master_catalogue[:10].show_in_notebook()"
   ]
  },
  {
   "cell_type": "code",
   "execution_count": 21,
   "metadata": {
    "collapsed": true
   },
   "outputs": [],
   "source": [
    "master_catalogue.add_column(Column(data=np.arange(len(master_catalogue)), \n",
    "                              name=\"cfht_intid\"))"
   ]
  },
  {
   "cell_type": "code",
   "execution_count": 22,
   "metadata": {},
   "outputs": [
    {
     "name": "stdout",
     "output_type": "stream",
     "text": [
      "['candels_id', 'cfhtls-deep_id', 'cfhtls-wide_id', 'sparcs_intid', 'wirds_id', 'vipers_id', 'sxds_b_id', 'sxds_v_id', 'sxds_r_id', 'sxds_i_id', 'sxds_z_id', 'sxds_intid', 'cfht_intid']\n"
     ]
    }
   ],
   "source": [
    "id_names = []\n",
    "for col in master_catalogue.colnames:\n",
    "    if '_id' in col:\n",
    "        id_names += [col]\n",
    "    if '_intid' in col:\n",
    "        id_names += [col]\n",
    "        \n",
    "print(id_names)"
   ]
  },
  {
   "cell_type": "markdown",
   "metadata": {},
   "source": [
    "## VII - Choosing between multiple values for the same filter\n",
    "\n"
   ]
  },
  {
   "cell_type": "markdown",
   "metadata": {},
   "source": [
    "### VII.a CFHT Megacam fluxes: CFHTLS-DEEP, CFHTLS-WIDE SpARCS, CANDELS, CFHT-WIRDS and VIPERS\n",
    "\n",
    "According to Mattia CFHTLenS is built on the same data as CFHTLS-WIDE and should not be included. I have therefore excluded it from the merge above.\n",
    "\n",
    "CFHTLS-DEEP is prefferred to CFHTLS-WIDE which is prefferred to SpARCS... CANDELS... WIRDS... VIPERS\n",
    "\n",
    "| Survey (in HELP use order)            | Bands                 | notes |\n",
    "|:-------------|:------------------|-------------------|\n",
    "| CFHTLS-DEEP | u, g, r, i, z, y ||\n",
    "| CFHTLS-WIDE | u, g, r, i, z    ||\n",
    "| SpARCS      | u, g, r, z, y    ||\n",
    "| CANDELS     | u                | Total fluxes only |\n",
    "| CFHT-WIRDS     | u, g, r, i, z  (+ WIRCAM J, H, Ks)            ||\n",
    "| VIPERS     | u, g, r, i, z, y  (+ WIRCAM Ks)            | Total fluxes only |\n"
   ]
  },
  {
   "cell_type": "code",
   "execution_count": 23,
   "metadata": {
    "collapsed": true
   },
   "outputs": [],
   "source": [
    "megacam_origin = Table()\n",
    "megacam_origin.add_column(master_catalogue['cfht_intid'])"
   ]
  },
  {
   "cell_type": "code",
   "execution_count": 24,
   "metadata": {
    "collapsed": true
   },
   "outputs": [
    {
     "name": "stderr",
     "output_type": "stream",
     "text": [
      "/opt/anaconda3/envs/herschelhelp_internal/lib/python3.6/site-packages/numpy/core/numeric.py:301: FutureWarning: in the future, full(6, 0) will return an array of dtype('int64')\n",
      "  format(shape, fill_value, array(fill_value).dtype), FutureWarning)\n"
     ]
    }
   ],
   "source": [
    "megacam_stats = Table()\n",
    "megacam_stats.add_column(Column(data=['u','g','r','i','z','y'], name=\"Band\"))\n",
    "for col in [\"CFHTLS-DEEP\", \"CFHTLS-WIDE\", \"SpARCS\", \"CANDELS\", \"CFHT-WIRDS\", \"VIPERS\"]:\n",
    "    megacam_stats.add_column(Column(data=np.full(6, 0), name=\"{}\".format(col)))\n",
    "    megacam_stats.add_column(Column(data=np.full(6, 0), name=\"use {}\".format(col)))\n",
    "    megacam_stats.add_column(Column(data=np.full(6, 0), name=\"{} ap\".format(col)))\n",
    "    megacam_stats.add_column(Column(data=np.full(6, 0), name=\"use {} ap\".format(col)))\n",
    "    "
   ]
  },
  {
   "cell_type": "code",
   "execution_count": 25,
   "metadata": {
    "collapsed": true
   },
   "outputs": [],
   "source": [
    "\n",
    "megacam_bands = ['u','g','r','i','z','y'] # Lowercase naming convention (k is Ks)\n",
    "for band in megacam_bands:\n",
    "\n",
    "    # Megacam total flux \n",
    "    has_cfhtls_deep = ~np.isnan(master_catalogue['f_cfhtls-deep_' + band])\n",
    "    if band == 'y':\n",
    "        has_cfhtls_wide = np.full(len(master_catalogue), False, dtype=bool)\n",
    "    else:\n",
    "        has_cfhtls_wide = ~np.isnan(master_catalogue['f_cfhtls-wide_' + band])\n",
    "        \n",
    "    if band == 'i':\n",
    "        has_sparcs = np.full(len(master_catalogue), False, dtype=bool)\n",
    "    else:\n",
    "        has_sparcs = ~np.isnan(master_catalogue['f_sparcs_' + band])\n",
    "        \n",
    "    if band == 'u':\n",
    "        has_candels = ~np.isnan(master_catalogue['f_candels-megacam_' + band])\n",
    "    else:\n",
    "        has_candels = np.full(len(master_catalogue), False, dtype=bool)\n",
    "        \n",
    "    if band == 'y':\n",
    "        has_wirds = np.full(len(master_catalogue), False, dtype=bool)\n",
    "    else:\n",
    "        has_wirds = ~np.isnan(master_catalogue['f_wirds_' + band])\n",
    "        \n",
    "    has_vipers  = ~np.isnan(master_catalogue['f_vipers_' + band])\n",
    "    \n",
    "\n",
    "    use_cfhtls_deep = has_cfhtls_deep \n",
    "    use_cfhtls_wide = has_cfhtls_wide & ~has_cfhtls_deep\n",
    "    use_sparcs = has_sparcs & ~has_cfhtls_wide & ~has_cfhtls_deep\n",
    "    use_candels = has_candels & ~has_sparcs & ~has_cfhtls_wide & ~has_cfhtls_deep\n",
    "    use_wirds = has_wirds & ~has_candels & ~has_sparcs & ~has_cfhtls_wide & ~has_cfhtls_deep\n",
    "    use_vipers = has_vipers & ~has_wirds & ~has_candels & ~has_sparcs & ~has_cfhtls_wide & ~has_cfhtls_deep\n",
    "\n",
    "    f_megacam = np.full(len(master_catalogue), np.nan)\n",
    "    f_megacam[use_cfhtls_deep] = master_catalogue['f_cfhtls-deep_' + band][use_cfhtls_deep]\n",
    "    if not (band == 'y'):\n",
    "        f_megacam[use_cfhtls_wide] = master_catalogue['f_cfhtls-wide_' + band][use_cfhtls_wide]\n",
    "    if not (band == 'i'):\n",
    "        f_megacam[use_sparcs] = master_catalogue['f_sparcs_' + band][use_sparcs]\n",
    "    if band == 'u':\n",
    "        f_megacam[use_candels] = master_catalogue['f_candels-megacam_' + band][use_candels] \n",
    "    if not (band == 'y'):\n",
    "        f_megacam[use_wirds] = master_catalogue['f_wirds_' + band][use_wirds]\n",
    "    f_megacam[use_vipers] = master_catalogue['f_vipers_' + band][use_vipers]    \n",
    "\n",
    "    ferr_megacam = np.full(len(master_catalogue), np.nan)\n",
    "    ferr_megacam[use_cfhtls_deep] = master_catalogue['ferr_cfhtls-deep_' + band][use_cfhtls_deep]\n",
    "    if not (band == 'y'):\n",
    "        ferr_megacam[use_cfhtls_wide] = master_catalogue['ferr_cfhtls-wide_' + band][use_cfhtls_wide]\n",
    "    if not (band == 'i'):\n",
    "        ferr_megacam[use_sparcs] = master_catalogue['ferr_sparcs_' + band][use_sparcs]\n",
    "    if band == 'u':\n",
    "        ferr_megacam[use_candels] = master_catalogue['ferr_candels-megacam_' + band][use_candels]\n",
    "    if not (band == 'y'):\n",
    "        ferr_megacam[use_wirds] = master_catalogue['ferr_wirds_' + band][use_wirds]\n",
    "    ferr_megacam[use_vipers] = master_catalogue['ferr_vipers_' + band][use_vipers] \n",
    "    \n",
    "    m_megacam = np.full(len(master_catalogue), np.nan)\n",
    "    m_megacam[use_cfhtls_deep] = master_catalogue['m_cfhtls-deep_' + band][use_cfhtls_deep]\n",
    "    if not (band == 'y'):\n",
    "        m_megacam[use_cfhtls_wide] = master_catalogue['m_cfhtls-wide_' + band][use_cfhtls_wide]\n",
    "    if not (band == 'i'):\n",
    "        m_megacam[use_sparcs] = master_catalogue['m_sparcs_' + band][use_sparcs]\n",
    "    if band == 'u':\n",
    "        m_megacam[use_candels] = master_catalogue['m_candels-megacam_' + band][use_candels]\n",
    "    if not (band == 'y'):\n",
    "        m_megacam[use_wirds] = master_catalogue['m_wirds_' + band][use_wirds]\n",
    "    m_megacam[use_vipers] = master_catalogue['m_vipers_' + band][use_vipers] \n",
    "\n",
    "    merr_megacam = np.full(len(master_catalogue), np.nan)\n",
    "    merr_megacam[use_cfhtls_deep] = master_catalogue['merr_cfhtls-deep_' + band][use_cfhtls_deep]\n",
    "    if not (band == 'y'):\n",
    "        merr_megacam[use_cfhtls_wide] = master_catalogue['merr_cfhtls-wide_' + band][use_cfhtls_wide]\n",
    "    if not (band == 'i'):\n",
    "        merr_megacam[use_sparcs] = master_catalogue['merr_sparcs_' + band][use_sparcs]\n",
    "    if band == 'u':\n",
    "        merr_megacam[use_candels] = master_catalogue['merr_candels-megacam_' + band][use_candels]\n",
    "    if not (band == 'y'):\n",
    "        merr_megacam[use_wirds] = master_catalogue['merr_wirds_' + band][use_wirds]\n",
    "    merr_megacam[use_vipers] = master_catalogue['merr_vipers_' + band][use_vipers] \n",
    "\n",
    "    flag_megacam = np.full(len(master_catalogue), False, dtype=bool)\n",
    "    flag_megacam[use_cfhtls_deep] = master_catalogue['flag_cfhtls-deep_' + band][use_cfhtls_deep]\n",
    "    if not (band == 'y'):\n",
    "        flag_megacam[use_cfhtls_wide] = master_catalogue['flag_cfhtls-wide_' + band][use_cfhtls_wide]\n",
    "    if not (band == 'i'):\n",
    "        flag_megacam[use_sparcs] = master_catalogue['flag_sparcs_' + band][use_sparcs]\n",
    "    if band == 'u':\n",
    "        flag_megacam[use_candels] = master_catalogue['flag_candels-megacam_' + band][use_candels]\n",
    "    if not (band == 'y'):\n",
    "        flag_megacam[use_wirds] = master_catalogue['flag_wirds_' + band][use_wirds]\n",
    "    flag_megacam[use_vipers] = master_catalogue['flag_vipers_' + band][use_vipers] \n",
    "\n",
    "    master_catalogue.add_column(Column(data=f_megacam, name=\"f_megacam_\" + band))\n",
    "    master_catalogue.add_column(Column(data=ferr_megacam, name=\"ferr_megacam_\" + band))\n",
    "    master_catalogue.add_column(Column(data=m_megacam, name=\"m_megacam_\" + band))\n",
    "    master_catalogue.add_column(Column(data=merr_megacam, name=\"merr_megacam_\" + band))\n",
    "    master_catalogue.add_column(Column(data=flag_megacam, name=\"flag_megacam_\" + band))\n",
    "\n",
    "    \n",
    "    old_columns = []\n",
    "    column_types = ['f', 'ferr', 'm', 'merr', 'flag'] \n",
    "    for col_t in column_types:\n",
    "        old_columns += ['{}_cfhtls-deep_{}'.format(col_t, band)]\n",
    "        if not (band == 'y'):\n",
    "            old_columns += ['{}_cfhtls-wide_{}'.format(col_t, band)]\n",
    "        if not (band == 'i'):\n",
    "            old_columns += ['{}_sparcs_{}'.format(col_t, band)]    \n",
    "        if band == 'u':\n",
    "            old_columns += ['{}_candels-megacam_{}'.format(col_t, band)] \n",
    "        if not (band == 'y'):\n",
    "            old_columns += ['{}_wirds_{}'.format(col_t, band)] \n",
    "        old_columns += ['{}_vipers_{}'.format(col_t, band)]     \n",
    "        \n",
    "    master_catalogue.remove_columns(old_columns)\n",
    "\n",
    "    origin = np.full(len(master_catalogue), '     ', dtype='<U5')\n",
    "    origin[use_cfhtls_deep] = \"CFHTLS-DEEP\"\n",
    "    origin[use_cfhtls_wide] = \"CFHTLS-WIDE\"\n",
    "    origin[use_sparcs] = \"SpARCS\"\n",
    "    origin[use_candels] = \"CANDELS\"\n",
    "    origin[use_wirds] = \"WIRDS\"\n",
    "    origin[use_vipers] = \"VIPERS\"\n",
    "    \n",
    "    megacam_origin.add_column(Column(data=origin, name= 'f_megacam_' + band ))\n",
    "    \n",
    "    # Megacam aperture flux \n",
    "    has_ap_cfhtls_deep = ~np.isnan(master_catalogue['f_ap_cfhtls-deep_' + band])\n",
    "    if band == 'y':\n",
    "        has_ap_cfhtls_wide = np.full(len(master_catalogue), False, dtype=bool)\n",
    "    else:\n",
    "        has_ap_cfhtls_wide = ~np.isnan(master_catalogue['f_ap_cfhtls-wide_' + band])\n",
    "    if band == 'i':\n",
    "        has_ap_sparcs = np.full(len(master_catalogue), False, dtype=bool)\n",
    "    else:\n",
    "        has_ap_sparcs = ~np.isnan(master_catalogue['f_ap_sparcs_' + band])\n",
    "    if not (band == 'y'):\n",
    "        has_ap_wirds = ~np.isnan(master_catalogue['f_ap_wirds_' + band])\n",
    "    else:\n",
    "        has_ap_wirds = np.full(len(master_catalogue), False, dtype=bool)\n",
    "    \n",
    "\n",
    "    use_ap_cfhtls_deep = has_ap_cfhtls_deep \n",
    "    use_ap_cfhtls_wide = has_ap_cfhtls_wide & ~has_ap_cfhtls_deep\n",
    "    use_ap_sparcs = has_ap_sparcs & ~has_ap_cfhtls_wide & ~has_ap_cfhtls_deep\n",
    "    use_ap_wirds = has_ap_wirds & ~has_ap_sparcs & ~has_ap_cfhtls_wide & ~has_ap_cfhtls_deep\n",
    "\n",
    "    f_ap_megacam = np.full(len(master_catalogue), np.nan)\n",
    "    f_ap_megacam[use_ap_cfhtls_deep] = master_catalogue['f_ap_cfhtls-deep_' + band][use_ap_cfhtls_deep]\n",
    "    if not (band == 'y'):\n",
    "        f_ap_megacam[use_ap_cfhtls_wide] = master_catalogue['f_ap_cfhtls-wide_' + band][use_ap_cfhtls_wide]\n",
    "    if not (band == 'i'):\n",
    "        f_ap_megacam[use_ap_sparcs] = master_catalogue['f_ap_sparcs_' + band][use_ap_sparcs]\n",
    "    if not (band == 'y'):\n",
    "        f_ap_megacam[use_ap_wirds] = master_catalogue['f_ap_wirds_' + band][use_ap_wirds]\n",
    "        \n",
    "    ferr_ap_megacam = np.full(len(master_catalogue), np.nan)\n",
    "    ferr_ap_megacam[use_ap_cfhtls_deep] = master_catalogue['ferr_ap_cfhtls-deep_' + band][use_ap_cfhtls_deep]\n",
    "    if not (band == 'y'):\n",
    "        ferr_ap_megacam[use_ap_cfhtls_wide] = master_catalogue['ferr_ap_cfhtls-wide_' + band][use_ap_cfhtls_wide]\n",
    "    if not (band == 'i'):\n",
    "        ferr_ap_megacam[use_ap_sparcs] = master_catalogue['ferr_ap_sparcs_' + band][use_ap_sparcs]\n",
    "    if not (band == 'y'):\n",
    "        ferr_ap_megacam[use_ap_wirds] = master_catalogue['ferr_ap_wirds_' + band][use_ap_wirds]\n",
    "    \n",
    "    m_ap_megacam = np.full(len(master_catalogue), np.nan)\n",
    "    m_ap_megacam[use_ap_cfhtls_deep] = master_catalogue['m_ap_cfhtls-deep_' + band][use_ap_cfhtls_deep]\n",
    "    if not (band == 'y'):\n",
    "        m_ap_megacam[use_ap_cfhtls_wide] = master_catalogue['m_ap_cfhtls-wide_' + band][use_ap_cfhtls_wide]\n",
    "    if not (band == 'i'):\n",
    "        m_ap_megacam[use_ap_sparcs] = master_catalogue['m_ap_sparcs_' + band][use_ap_sparcs]\n",
    "    if not (band == 'y'):\n",
    "        m_ap_megacam[use_ap_wirds] = master_catalogue['m_ap_wirds_' + band][use_ap_wirds]\n",
    "\n",
    "    merr_ap_megacam = np.full(len(master_catalogue), np.nan)\n",
    "    merr_ap_megacam[use_ap_cfhtls_deep] = master_catalogue['merr_ap_cfhtls-deep_' + band][use_ap_cfhtls_deep]\n",
    "    if not (band == 'y'):\n",
    "        merr_ap_megacam[use_ap_cfhtls_wide] = master_catalogue['merr_ap_cfhtls-wide_' + band][use_ap_cfhtls_wide]\n",
    "    if not (band == 'i'):\n",
    "        merr_ap_megacam[use_ap_sparcs] = master_catalogue['merr_ap_sparcs_' + band][use_ap_sparcs]\n",
    "    if not (band == 'y'):\n",
    "        merr_ap_megacam[use_ap_wirds] = master_catalogue['merr_ap_wirds_' + band][use_ap_wirds]\n",
    "\n",
    "\n",
    "\n",
    "    master_catalogue.add_column(Column(data=f_ap_megacam, name=\"f_ap_megacam_\" + band))\n",
    "    master_catalogue.add_column(Column(data=ferr_ap_megacam, name=\"ferr_ap_megacam_\" + band))\n",
    "    master_catalogue.add_column(Column(data=m_ap_megacam, name=\"m_ap_megacam_\" + band))\n",
    "    master_catalogue.add_column(Column(data=merr_ap_megacam, name=\"merr_ap_megacam_\" + band))\n",
    "\n",
    "\n",
    "    \n",
    "    old_ap_columns = []\n",
    "    column_types = ['f', 'ferr', 'm', 'merr'] \n",
    "    for col_t in column_types:\n",
    "        old_ap_columns += ['{}_ap_cfhtls-deep_{}'.format(col_t, band)]\n",
    "        if not (band == 'y'):\n",
    "            old_ap_columns += ['{}_ap_cfhtls-wide_{}'.format(col_t, band)]\n",
    "        if not (band == 'i'):\n",
    "            old_ap_columns += ['{}_ap_sparcs_{}'.format(col_t, band)]    \n",
    "        if not (band == 'y'):\n",
    "            old_ap_columns += ['{}_ap_wirds_{}'.format(col_t, band)] \n",
    "    \n",
    "        \n",
    "    master_catalogue.remove_columns(old_ap_columns)\n",
    "\n",
    "    origin_ap = np.full(len(master_catalogue), '     ', dtype='<U5')\n",
    "    origin_ap[use_ap_cfhtls_deep] = \"CFHTLS-DEEP\"\n",
    "    origin_ap[use_ap_cfhtls_wide] = \"CFHTLS-WIDE\"\n",
    "    origin_ap[use_ap_sparcs] = \"SpARCS\"\n",
    "    origin_ap[use_ap_wirds] = \"CFHT-WIRDS\"\n",
    "    \n",
    "    megacam_origin.add_column(Column(data=origin_ap, name= 'f_ap_megacam_' + band ))\n",
    "    \n",
    "\n",
    "   \n",
    "    megacam_stats['CFHTLS-DEEP'][megacam_stats['Band'] == band] = np.sum(has_cfhtls_deep)\n",
    "    megacam_stats['CFHTLS-WIDE'][megacam_stats['Band'] == band] = np.sum(has_cfhtls_wide)\n",
    "    megacam_stats['SpARCS'][megacam_stats['Band'] == band] = np.sum(has_sparcs)\n",
    "    megacam_stats['CANDELS'][megacam_stats['Band'] == band] = np.sum(has_candels)\n",
    "    megacam_stats['CFHT-WIRDS'][megacam_stats['Band'] == band] = np.sum(has_wirds)\n",
    "    megacam_stats['VIPERS'][megacam_stats['Band'] == band] = np.sum(has_vipers)\n",
    "    megacam_stats['use CFHTLS-DEEP'][megacam_stats['Band'] == band] = np.sum(use_cfhtls_deep)\n",
    "    megacam_stats['use CFHTLS-WIDE'][megacam_stats['Band'] == band] = np.sum(use_cfhtls_wide)\n",
    "    megacam_stats['use SpARCS'][megacam_stats['Band'] == band] = np.sum(use_sparcs)\n",
    "    megacam_stats['use CANDELS'][megacam_stats['Band'] == band] = np.sum(use_candels)\n",
    "    megacam_stats['use CFHT-WIRDS'][megacam_stats['Band'] == band] = np.sum(use_wirds)\n",
    "    megacam_stats['use VIPERS'][megacam_stats['Band'] == band] = np.sum(use_vipers)\n",
    "    \n",
    "    megacam_stats['CFHTLS-DEEP ap'][megacam_stats['Band'] == band] = np.sum(has_ap_cfhtls_deep)\n",
    "    megacam_stats['CFHTLS-WIDE ap'][megacam_stats['Band'] == band] = np.sum(has_ap_cfhtls_wide)\n",
    "    megacam_stats['SpARCS ap'][megacam_stats['Band'] == band] = np.sum(has_ap_sparcs)\n",
    "    megacam_stats['CFHT-WIRDS ap'][megacam_stats['Band'] == band] = np.sum(has_ap_wirds)\n",
    "    megacam_stats['use CFHTLS-DEEP ap'][megacam_stats['Band'] == band] = np.sum(use_ap_cfhtls_deep)\n",
    "    megacam_stats['use CFHTLS-WIDE ap'][megacam_stats['Band'] == band] = np.sum(use_ap_cfhtls_wide)\n",
    "    megacam_stats['use SpARCS ap'][megacam_stats['Band'] == band] = np.sum(use_ap_sparcs)\n",
    "    megacam_stats['use CFHT-WIRDS ap'][megacam_stats['Band'] == band] = np.sum(use_ap_wirds)"
   ]
  },
  {
   "cell_type": "code",
   "execution_count": 26,
   "metadata": {},
   "outputs": [
    {
     "data": {
      "text/html": [
       "&lt;Table length=6&gt;\n",
       "<table id=\"table139944556845432-643227\" class=\"table-striped table-bordered table-condensed\">\n",
       "<thead><tr><th>idx</th><th>Band</th><th>CFHTLS-DEEP</th><th>use CFHTLS-DEEP</th><th>CFHTLS-DEEP ap</th><th>use CFHTLS-DEEP ap</th><th>CFHTLS-WIDE</th><th>use CFHTLS-WIDE</th><th>CFHTLS-WIDE ap</th><th>use CFHTLS-WIDE ap</th><th>SpARCS</th><th>use SpARCS</th><th>SpARCS ap</th><th>use SpARCS ap</th><th>CANDELS</th><th>use CANDELS</th><th>CANDELS ap</th><th>use CANDELS ap</th><th>CFHT-WIRDS</th><th>use CFHT-WIRDS</th><th>CFHT-WIRDS ap</th><th>use CFHT-WIRDS ap</th><th>VIPERS</th><th>use VIPERS</th><th>VIPERS ap</th><th>use VIPERS ap</th></tr></thead>\n",
       "<tr><td>0</td><td>u</td><td>481650.0</td><td>481650.0</td><td>485877.0</td><td>485877.0</td><td>3115218.0</td><td>2928155.0</td><td>3163862.0</td><td>2974025.0</td><td>396423.0</td><td>375948.0</td><td>385887.0</td><td>365727.0</td><td>35931.0</td><td>23992.0</td><td>0.0</td><td>0.0</td><td>134630.0</td><td>24774.0</td><td>135091.0</td><td>24122.0</td><td>908447.0</td><td>3132.0</td><td>0.0</td><td>0.0</td></tr>\n",
       "<tr><td>1</td><td>g</td><td>551595.0</td><td>551595.0</td><td>553969.0</td><td>553969.0</td><td>3367177.0</td><td>3163292.0</td><td>3384048.0</td><td>3179110.0</td><td>436976.0</td><td>411025.0</td><td>429994.0</td><td>404289.0</td><td>0.0</td><td>0.0</td><td>0.0</td><td>0.0</td><td>143047.0</td><td>26012.0</td><td>142074.0</td><td>24642.0</td><td>945986.0</td><td>851.0</td><td>0.0</td><td>0.0</td></tr>\n",
       "<tr><td>2</td><td>r</td><td>561918.0</td><td>561918.0</td><td>565280.0</td><td>565280.0</td><td>3366913.0</td><td>3163239.0</td><td>3397813.0</td><td>3192615.0</td><td>446308.0</td><td>418750.0</td><td>442998.0</td><td>415461.0</td><td>0.0</td><td>0.0</td><td>0.0</td><td>0.0</td><td>144102.0</td><td>26115.0</td><td>143184.0</td><td>24852.0</td><td>949549.0</td><td>479.0</td><td>0.0</td><td>0.0</td></tr>\n",
       "<tr><td>3</td><td>i</td><td>557674.0</td><td>557674.0</td><td>561376.0</td><td>561376.0</td><td>3283920.0</td><td>3084634.0</td><td>3329406.0</td><td>3127407.0</td><td>0.0</td><td>0.0</td><td>0.0</td><td>0.0</td><td>0.0</td><td>0.0</td><td>0.0</td><td>0.0</td><td>144330.0</td><td>26167.0</td><td>143316.0</td><td>24852.0</td><td>728690.0</td><td>234.0</td><td>0.0</td><td>0.0</td></tr>\n",
       "<tr><td>4</td><td>z</td><td>499627.0</td><td>499627.0</td><td>506086.0</td><td>506086.0</td><td>2864911.0</td><td>2688653.0</td><td>2971971.0</td><td>2789427.0</td><td>413627.0</td><td>391475.0</td><td>389357.0</td><td>367615.0</td><td>0.0</td><td>0.0</td><td>0.0</td><td>0.0</td><td>141308.0</td><td>25190.0</td><td>141154.0</td><td>24142.0</td><td>922753.0</td><td>2444.0</td><td>0.0</td><td>0.0</td></tr>\n",
       "<tr><td>5</td><td>y</td><td>522629.0</td><td>522629.0</td><td>528982.0</td><td>528982.0</td><td>0.0</td><td>0.0</td><td>0.0</td><td>0.0</td><td>405761.0</td><td>405761.0</td><td>391629.0</td><td>391629.0</td><td>0.0</td><td>0.0</td><td>0.0</td><td>0.0</td><td>0.0</td><td>0.0</td><td>0.0</td><td>0.0</td><td>221194.0</td><td>205424.0</td><td>0.0</td><td>0.0</td></tr>\n",
       "</table><style>table.dataTable {clear: both; width: auto !important; margin: 0 !important;}\n",
       ".dataTables_info, .dataTables_length, .dataTables_filter, .dataTables_paginate{\n",
       "display: inline-block; margin-right: 1em; }\n",
       ".paginate_button { margin-right: 5px; }\n",
       "</style>\n",
       "<script>\n",
       "require.config({paths: {\n",
       "    datatables: 'https://cdn.datatables.net/1.10.12/js/jquery.dataTables.min'\n",
       "}});\n",
       "require([\"datatables\"], function(){\n",
       "    console.log(\"$('#table139944556845432-643227').dataTable()\");\n",
       "    $('#table139944556845432-643227').dataTable({\n",
       "        \"order\": [],\n",
       "        \"iDisplayLength\": 50,\n",
       "        \"aLengthMenu\": [[10, 25, 50, 100, 500, 1000, -1], [10, 25, 50, 100, 500, 1000, 'All']],\n",
       "        \"pagingType\": \"full_numbers\"\n",
       "    });\n",
       "});\n",
       "</script>\n"
      ],
      "text/plain": [
       "<IPython.core.display.HTML object>"
      ]
     },
     "execution_count": 26,
     "metadata": {},
     "output_type": "execute_result"
    }
   ],
   "source": [
    "megacam_stats.show_in_notebook()"
   ]
  },
  {
   "cell_type": "code",
   "execution_count": 27,
   "metadata": {
    "collapsed": true
   },
   "outputs": [],
   "source": [
    "megacam_origin.write(\"{}/xmm-lss_megacam_fluxes_origins{}.fits\".format(OUT_DIR, SUFFIX), overwrite=True)"
   ]
  },
  {
   "cell_type": "markdown",
   "metadata": {},
   "source": [
    "### VII.b CFHT WIRCAM fluxes: CFHT-WIRDS and VIPERS\n",
    "\n",
    "We take WIRDS over VIPERS"
   ]
  },
  {
   "cell_type": "code",
   "execution_count": 28,
   "metadata": {
    "collapsed": true
   },
   "outputs": [],
   "source": [
    "for col in master_catalogue.colnames:\n",
    "    if '_wirds_j' in col:\n",
    "        master_catalogue.rename_column(col, col.replace('_wirds_j', '_wircam_j'))\n",
    "    if '_wirds_h' in col:\n",
    "        master_catalogue.rename_column(col, col.replace('_wirds_h', '_wircam_h'))\n",
    "    if '_wirds_k' in col:\n",
    "        master_catalogue.rename_column(col, col.replace('_wirds_k', '_wircam_ks'))"
   ]
  },
  {
   "cell_type": "code",
   "execution_count": 29,
   "metadata": {
    "collapsed": true
   },
   "outputs": [],
   "source": [
    "has_wirds = ~np.isnan(master_catalogue['f_wircam_ks' ])\n",
    "has_vipers = ~np.isnan(master_catalogue['f_vipers_ks' ])\n",
    "\n",
    "use_wirds = has_wirds\n",
    "use_vipers = has_vipers & ~has_wirds\n",
    "\n",
    "master_catalogue['f_wircam_ks'][use_vipers] = master_catalogue['f_vipers_ks'][use_vipers]\n",
    "master_catalogue['ferr_wircam_ks'][use_vipers] = master_catalogue['ferr_vipers_ks'][use_vipers]\n",
    "master_catalogue['m_wircam_ks'][use_vipers] = master_catalogue['m_vipers_ks'][use_vipers]\n",
    "master_catalogue['merr_wircam_ks'][use_vipers] = master_catalogue['merr_vipers_ks'][use_vipers]\n",
    "master_catalogue['flag_wircam_ks'][use_vipers] = master_catalogue['flag_vipers_ks'][use_vipers]\n",
    "\n",
    "master_catalogue.remove_columns(['f_vipers_ks', 'ferr_vipers_ks', 'm_vipers_ks', 'merr_vipers_ks', 'flag_vipers_ks'])\n",
    "\n",
    "\n"
   ]
  },
  {
   "cell_type": "code",
   "execution_count": 30,
   "metadata": {},
   "outputs": [
    {
     "name": "stdout",
     "output_type": "stream",
     "text": [
      "There are 157497 objects with WIRDS Ks fluxes and 644584 with VIPERS Ks.\n",
      "We use all 157497 Ks fluxes and take the remaining 644510 VIPERS Ks fluxes.\n"
     ]
    }
   ],
   "source": [
    "print('There are {} objects with WIRDS Ks fluxes and {} with VIPERS Ks.'.format(np.sum(has_wirds), np.sum(has_vipers)))\n",
    "print('We use all {} Ks fluxes and take the remaining {} VIPERS Ks fluxes.'.format(np.sum(use_wirds), np.sum(use_vipers)))"
   ]
  },
  {
   "cell_type": "code",
   "execution_count": 31,
   "metadata": {
    "collapsed": true
   },
   "outputs": [],
   "source": [
    "wircam_origin = Table()\n",
    "wircam_origin.add_column(master_catalogue['cfht_intid'])\n",
    "origin = np.full(len(master_catalogue), '     ', dtype='<U5')\n",
    "origin[use_wirds] = \"CFHT-WIRDS\"\n",
    "origin[use_vipers] = \"VIPERS\"\n",
    "wircam_origin.add_column(Column(data=origin, name= 'f_wircam_ks'  ))\n",
    "wircam_origin.write(\"{}/xmm-lss_wircam_fluxes_origins{}.fits\".format(OUT_DIR, SUFFIX), overwrite=True)"
   ]
  },
  {
   "cell_type": "markdown",
   "metadata": {},
   "source": [
    "### VII.c Subaru SuprimeCam fluxes: SXDS and CANDELS-UDS\n",
    "\n",
    "We take SXDS over CANDELS so that there are not objects with total and ap mags from different source."
   ]
  },
  {
   "cell_type": "code",
   "execution_count": 32,
   "metadata": {
    "collapsed": true
   },
   "outputs": [],
   "source": [
    "suprime_origin = Table()\n",
    "suprime_origin.add_column(master_catalogue['cfht_intid'])"
   ]
  },
  {
   "cell_type": "code",
   "execution_count": 33,
   "metadata": {
    "collapsed": true
   },
   "outputs": [
    {
     "name": "stderr",
     "output_type": "stream",
     "text": [
      "/opt/anaconda3/envs/herschelhelp_internal/lib/python3.6/site-packages/numpy/core/numeric.py:301: FutureWarning: in the future, full(5, 0) will return an array of dtype('int64')\n",
      "  format(shape, fill_value, array(fill_value).dtype), FutureWarning)\n"
     ]
    }
   ],
   "source": [
    "suprime_stats = Table()\n",
    "suprime_bands = ['b', 'v', 'rc', 'ip', 'zp']\n",
    "suprime_stats.add_column(Column(data=suprime_bands, name=\"Band\"))\n",
    "for col in [\"SXDS\", \"CANDELS-UDS\"]:\n",
    "    suprime_stats.add_column(Column(data=np.full(5, 0), name=\"{}\".format(col)))\n",
    "    suprime_stats.add_column(Column(data=np.full(5, 0), name=\"use {}\".format(col)))\n",
    "    suprime_stats.add_column(Column(data=np.full(5, 0), name=\"{} ap\".format(col)))\n",
    "    suprime_stats.add_column(Column(data=np.full(5, 0), name=\"use {} ap\".format(col)))"
   ]
  },
  {
   "cell_type": "code",
   "execution_count": 34,
   "metadata": {
    "collapsed": true
   },
   "outputs": [],
   "source": [
    "suprime_bands = ['b', 'v', 'rc', 'ip', 'zp']\n",
    "for band in suprime_bands:\n",
    "\n",
    "    # SuprimeCam total flux \n",
    "    has_candels = ~np.isnan(master_catalogue['f_suprime_' + band])\n",
    "    has_sxds = ~np.isnan(master_catalogue['f_sxds-suprime_' + band])\n",
    "\n",
    "     \n",
    "    use_sxds = has_sxds \n",
    "    use_candels = has_candels & ~has_sxds\n",
    "\n",
    "\n",
    "    f_suprime = np.full(len(master_catalogue), np.nan)\n",
    "    f_suprime[use_candels] = master_catalogue['f_suprime_' + band][use_candels]\n",
    "    f_suprime[use_sxds] = master_catalogue['f_sxds-suprime_' + band][use_sxds]\n",
    "\n",
    "    ferr_suprime = np.full(len(master_catalogue), np.nan)\n",
    "    ferr_suprime[use_candels] = master_catalogue['ferr_suprime_' + band][use_candels]\n",
    "    ferr_suprime[use_sxds] = master_catalogue['ferr_sxds-suprime_' + band][use_sxds]\n",
    "    \n",
    "    m_suprime = np.full(len(master_catalogue), np.nan)\n",
    "    m_suprime[use_candels] = master_catalogue['m_suprime_' + band][use_candels]\n",
    "    m_suprime[use_sxds] = master_catalogue['m_sxds-suprime_' + band][use_sxds]\n",
    "    \n",
    "    merr_suprime = np.full(len(master_catalogue), np.nan)\n",
    "    merr_suprime[use_candels] = master_catalogue['merr_suprime_' + band][use_candels]\n",
    "    merr_suprime[use_sxds] = master_catalogue['merr_sxds-suprime_' + band][use_sxds]\n",
    "    \n",
    "    flag_suprime = np.full(len(master_catalogue), False, dtype=bool)\n",
    "    flag_suprime[use_candels] = master_catalogue['flag_suprime_' + band][use_candels]\n",
    "    flag_suprime[use_sxds] = master_catalogue['flag_sxds-suprime_' + band][use_sxds]\n",
    "\n",
    "    master_catalogue[\"f_suprime_\" + band][use_sxds] = master_catalogue[\"f_sxds-suprime_\" + band][use_sxds]\n",
    "    master_catalogue[\"ferr_suprime_\" + band][use_sxds] = master_catalogue[\"ferr_sxds-suprime_\" + band][use_sxds]\n",
    "    master_catalogue[\"m_suprime_\" + band][use_sxds] = master_catalogue[\"m_sxds-suprime_\" + band][use_sxds]\n",
    "    master_catalogue[\"merr_suprime_\" + band][use_sxds] = master_catalogue[\"merr_sxds-suprime_\" + band][use_sxds]\n",
    "    master_catalogue[\"flag_suprime_\" + band][use_sxds] = master_catalogue[\"flag_sxds-suprime_\" + band][use_sxds]\n",
    "\n",
    "\n",
    "    old_sxds_columns =      ['f_sxds-suprime_' + band,\n",
    "                               'ferr_sxds-suprime_' + band,\n",
    "                               'm_sxds-suprime_' + band, \n",
    "                               'merr_sxds-suprime_' + band,\n",
    "                               'flag_sxds-suprime_' + band]\n",
    "    \n",
    "\n",
    "    master_catalogue.remove_columns(old_sxds_columns)\n",
    "\n",
    "    origin = np.full(len(master_catalogue), '     ', dtype='<U7')\n",
    "    origin[use_candels] = \"CANDELS\"\n",
    "    origin[use_sxds] = \"SXDS\"\n",
    "\n",
    "    \n",
    "    suprime_origin.add_column(Column(data=origin, name= 'f_suprime_' + band ))\n",
    "        \n",
    "\n",
    "   \n",
    "    suprime_stats['CANDELS-UDS'][suprime_stats['Band'] == band] = np.sum(has_candels)\n",
    "    suprime_stats['SXDS'][suprime_stats['Band'] == band] = np.sum(has_sxds)\n",
    "\n",
    "    suprime_stats['use CANDELS-UDS'][suprime_stats['Band'] == band] = np.sum(use_candels)\n",
    "    suprime_stats['use SXDS'][suprime_stats['Band'] == band] = np.sum(use_sxds)\n",
    "    \n",
    "    suprime_stats['CANDELS-UDS ap'][suprime_stats['Band'] == band] = 0\n",
    "    has_ap_sxds = np.sum( ~np.isnan(master_catalogue['f_ap_sxds-suprime_' + band]))\n",
    "    suprime_stats['SXDS ap'][suprime_stats['Band'] == band] = has_ap_sxds\n",
    "\n",
    "    suprime_stats['use CANDELS-UDS ap'][suprime_stats['Band'] == band] = 0\n",
    "    suprime_stats['use SXDS ap'][suprime_stats['Band'] == band] = has_ap_sxds\n",
    "    \n",
    "\n"
   ]
  },
  {
   "cell_type": "code",
   "execution_count": 35,
   "metadata": {
    "collapsed": true
   },
   "outputs": [],
   "source": [
    "#Aperture fluxes all from SXDS\n",
    "for col in master_catalogue.colnames:\n",
    "    if '_ap_sxds-suprime_' in col:\n",
    "        master_catalogue.rename_column(col, col.replace('_ap_sxds-suprime_', '_ap_suprime_'))"
   ]
  },
  {
   "cell_type": "code",
   "execution_count": 36,
   "metadata": {},
   "outputs": [
    {
     "data": {
      "text/html": [
       "&lt;Table length=5&gt;\n",
       "<table id=\"table139944556969936-760223\" class=\"table-striped table-bordered table-condensed\">\n",
       "<thead><tr><th>idx</th><th>Band</th><th>SXDS</th><th>use SXDS</th><th>SXDS ap</th><th>use SXDS ap</th><th>CANDELS-UDS</th><th>use CANDELS-UDS</th><th>CANDELS-UDS ap</th><th>use CANDELS-UDS ap</th></tr></thead>\n",
       "<tr><td>0</td><td>b</td><td>906586.0</td><td>906586.0</td><td>883356.0</td><td>883356.0</td><td>35617.0</td><td>9700.0</td><td>0.0</td><td>0.0</td></tr>\n",
       "<tr><td>1</td><td>v</td><td>962918.0</td><td>962918.0</td><td>929147.0</td><td>929147.0</td><td>35617.0</td><td>9119.0</td><td>0.0</td><td>0.0</td></tr>\n",
       "<tr><td>2</td><td>rc</td><td>865238.0</td><td>865238.0</td><td>842176.0</td><td>842176.0</td><td>35617.0</td><td>9742.0</td><td>0.0</td><td>0.0</td></tr>\n",
       "<tr><td>3</td><td>ip</td><td>862149.0</td><td>862149.0</td><td>845761.0</td><td>845761.0</td><td>35617.0</td><td>9730.0</td><td>0.0</td><td>0.0</td></tr>\n",
       "<tr><td>4</td><td>zp</td><td>811734.0</td><td>811734.0</td><td>772022.0</td><td>772022.0</td><td>35617.0</td><td>12297.0</td><td>0.0</td><td>0.0</td></tr>\n",
       "</table><style>table.dataTable {clear: both; width: auto !important; margin: 0 !important;}\n",
       ".dataTables_info, .dataTables_length, .dataTables_filter, .dataTables_paginate{\n",
       "display: inline-block; margin-right: 1em; }\n",
       ".paginate_button { margin-right: 5px; }\n",
       "</style>\n",
       "<script>\n",
       "require.config({paths: {\n",
       "    datatables: 'https://cdn.datatables.net/1.10.12/js/jquery.dataTables.min'\n",
       "}});\n",
       "require([\"datatables\"], function(){\n",
       "    console.log(\"$('#table139944556969936-760223').dataTable()\");\n",
       "    $('#table139944556969936-760223').dataTable({\n",
       "        \"order\": [],\n",
       "        \"iDisplayLength\": 50,\n",
       "        \"aLengthMenu\": [[10, 25, 50, 100, 500, 1000, -1], [10, 25, 50, 100, 500, 1000, 'All']],\n",
       "        \"pagingType\": \"full_numbers\"\n",
       "    });\n",
       "});\n",
       "</script>\n"
      ],
      "text/plain": [
       "<IPython.core.display.HTML object>"
      ]
     },
     "execution_count": 36,
     "metadata": {},
     "output_type": "execute_result"
    }
   ],
   "source": [
    "suprime_stats.show_in_notebook()"
   ]
  },
  {
   "cell_type": "code",
   "execution_count": 37,
   "metadata": {
    "collapsed": true
   },
   "outputs": [],
   "source": [
    "suprime_origin.write(\"{}/xmm-lss_suprime_fluxes_origins{}.fits\".format(OUT_DIR, SUFFIX), overwrite=True)"
   ]
  },
  {
   "cell_type": "code",
   "execution_count": 38,
   "metadata": {},
   "outputs": [
    {
     "data": {
      "text/html": [
       "&lt;Table length=10&gt;\n",
       "<table id=\"table139944547050216-477817\" class=\"table-striped table-bordered table-condensed\">\n",
       "<thead><tr><th>idx</th><th>candels_id</th><th>cfht_ra</th><th>cfht_dec</th><th>candels_stellarity</th><th>f_acs_f606w</th><th>ferr_acs_f606w</th><th>f_ap_acs_f606w</th><th>ferr_ap_acs_f606w</th><th>f_acs_f814w</th><th>ferr_acs_f814w</th><th>f_ap_acs_f814w</th><th>ferr_ap_acs_f814w</th><th>f_wfc3_f125w</th><th>ferr_wfc3_f125w</th><th>f_ap_wfc3_f125w</th><th>ferr_ap_wfc3_f125w</th><th>f_wfc3_f160w</th><th>ferr_wfc3_f160w</th><th>f_ap_wfc3_f160w</th><th>ferr_ap_wfc3_f160w</th><th>f_suprime_b</th><th>ferr_suprime_b</th><th>f_suprime_v</th><th>ferr_suprime_v</th><th>f_suprime_rc</th><th>ferr_suprime_rc</th><th>f_suprime_ip</th><th>ferr_suprime_ip</th><th>f_suprime_zp</th><th>ferr_suprime_zp</th><th>f_hawki_k</th><th>ferr_hawki_y</th><th>ferr_hawki_k</th><th>m_acs_f606w</th><th>merr_acs_f606w</th><th>flag_acs_f606w</th><th>m_ap_acs_f606w</th><th>merr_ap_acs_f606w</th><th>m_acs_f814w</th><th>merr_acs_f814w</th><th>flag_acs_f814w</th><th>m_ap_acs_f814w</th><th>merr_ap_acs_f814w</th><th>m_wfc3_f125w</th><th>merr_wfc3_f125w</th><th>flag_wfc3_f125w</th><th>m_ap_wfc3_f125w</th><th>merr_ap_wfc3_f125w</th><th>m_wfc3_f160w</th><th>merr_wfc3_f160w</th><th>flag_wfc3_f160w</th><th>m_ap_wfc3_f160w</th><th>merr_ap_wfc3_f160w</th><th>m_suprime_b</th><th>merr_suprime_b</th><th>flag_suprime_b</th><th>m_suprime_v</th><th>merr_suprime_v</th><th>flag_suprime_v</th><th>m_suprime_rc</th><th>merr_suprime_rc</th><th>flag_suprime_rc</th><th>m_suprime_ip</th><th>merr_suprime_ip</th><th>flag_suprime_ip</th><th>m_suprime_zp</th><th>merr_suprime_zp</th><th>flag_suprime_zp</th><th>m_hawki_k</th><th>merr_hawki_k</th><th>flag_hawki_k</th><th>candels_flag_cleaned</th><th>candels_flag_gaia</th><th>cfht_flag_merged</th><th>cfhtls-deep_id</th><th>cfhtls-deep_stellarity</th><th>cfhtls-deep_flag_cleaned</th><th>cfhtls-deep_flag_gaia</th><th>cfhtls-wide_id</th><th>cfhtls-wide_stellarity</th><th>cfhtls-wide_flag_cleaned</th><th>cfhtls-wide_flag_gaia</th><th>sparcs_intid</th><th>sparcs_stellarity</th><th>sparcs_flag_cleaned</th><th>sparcs_flag_gaia</th><th>wirds_id</th><th>m_wircam_j</th><th>merr_wircam_j</th><th>m_ap_wircam_j</th><th>merr_ap_wircam_j</th><th>m_wircam_h</th><th>merr_wircam_h</th><th>m_ap_wircam_h</th><th>merr_ap_wircam_h</th><th>m_wircam_ks</th><th>merr_wircam_ks</th><th>m_ap_wircam_ks</th><th>merr_ap_wircam_ks</th><th>f_wircam_j</th><th>ferr_wircam_j</th><th>flag_wircam_j</th><th>f_ap_wircam_j</th><th>ferr_ap_wircam_j</th><th>f_wircam_h</th><th>ferr_wircam_h</th><th>flag_wircam_h</th><th>f_ap_wircam_h</th><th>ferr_ap_wircam_h</th><th>f_wircam_ks</th><th>ferr_wircam_ks</th><th>flag_wircam_ks</th><th>f_ap_wircam_ks</th><th>ferr_ap_wircam_ks</th><th>wirds_flag_cleaned</th><th>cfht-wirds_flag_gaia</th><th>vipers_id</th><th>vipers_flag_cleaned</th><th>vipers_flag_gaia</th><th>sxds_b_id</th><th>m_ap_suprime_b</th><th>merr_ap_suprime_b</th><th>sxds_flag_merged</th><th>sxds_v_id</th><th>m_ap_suprime_v</th><th>merr_ap_suprime_v</th><th>sxds_r_id</th><th>m_ap_suprime_rc</th><th>merr_ap_suprime_rc</th><th>sxds_i_id</th><th>m_ap_suprime_ip</th><th>merr_ap_suprime_ip</th><th>sxds_z_id</th><th>m_ap_suprime_zp</th><th>merr_ap_suprime_zp</th><th>f_ap_suprime_b</th><th>ferr_ap_suprime_b</th><th>f_ap_suprime_v</th><th>ferr_ap_suprime_v</th><th>f_ap_suprime_rc</th><th>ferr_ap_suprime_rc</th><th>f_ap_suprime_ip</th><th>ferr_ap_suprime_ip</th><th>f_ap_suprime_zp</th><th>ferr_ap_suprime_zp</th><th>sxds_stellarity</th><th>sxds_flag_cleaned</th><th>sxds_flag_gaia</th><th>sxds_intid</th><th>cfht_intid</th><th>f_megacam_u</th><th>ferr_megacam_u</th><th>m_megacam_u</th><th>merr_megacam_u</th><th>flag_megacam_u</th><th>f_ap_megacam_u</th><th>ferr_ap_megacam_u</th><th>m_ap_megacam_u</th><th>merr_ap_megacam_u</th><th>f_megacam_g</th><th>ferr_megacam_g</th><th>m_megacam_g</th><th>merr_megacam_g</th><th>flag_megacam_g</th><th>f_ap_megacam_g</th><th>ferr_ap_megacam_g</th><th>m_ap_megacam_g</th><th>merr_ap_megacam_g</th><th>f_megacam_r</th><th>ferr_megacam_r</th><th>m_megacam_r</th><th>merr_megacam_r</th><th>flag_megacam_r</th><th>f_ap_megacam_r</th><th>ferr_ap_megacam_r</th><th>m_ap_megacam_r</th><th>merr_ap_megacam_r</th><th>f_megacam_i</th><th>ferr_megacam_i</th><th>m_megacam_i</th><th>merr_megacam_i</th><th>flag_megacam_i</th><th>f_ap_megacam_i</th><th>ferr_ap_megacam_i</th><th>m_ap_megacam_i</th><th>merr_ap_megacam_i</th><th>f_megacam_z</th><th>ferr_megacam_z</th><th>m_megacam_z</th><th>merr_megacam_z</th><th>flag_megacam_z</th><th>f_ap_megacam_z</th><th>ferr_ap_megacam_z</th><th>m_ap_megacam_z</th><th>merr_ap_megacam_z</th><th>f_megacam_y</th><th>ferr_megacam_y</th><th>m_megacam_y</th><th>merr_megacam_y</th><th>flag_megacam_y</th><th>f_ap_megacam_y</th><th>ferr_ap_megacam_y</th><th>m_ap_megacam_y</th><th>merr_ap_megacam_y</th></tr></thead>\n",
       "<thead><tr><th></th><th></th><th>deg</th><th>deg</th><th></th><th></th><th></th><th></th><th></th><th></th><th></th><th></th><th></th><th></th><th></th><th></th><th></th><th></th><th></th><th></th><th></th><th></th><th></th><th></th><th></th><th></th><th></th><th></th><th></th><th></th><th></th><th></th><th></th><th></th><th></th><th></th><th></th><th></th><th></th><th></th><th></th><th></th><th></th><th></th><th></th><th></th><th></th><th></th><th></th><th></th><th></th><th></th><th></th><th></th><th></th><th></th><th></th><th></th><th></th><th></th><th></th><th></th><th></th><th></th><th></th><th></th><th></th><th></th><th></th><th></th><th></th><th></th><th></th><th></th><th></th><th></th><th></th><th></th><th></th><th></th><th></th><th></th><th></th><th></th><th></th><th></th><th></th><th></th><th></th><th></th><th></th><th></th><th></th><th></th><th></th><th></th><th></th><th></th><th></th><th></th><th></th><th></th><th></th><th></th><th></th><th></th><th></th><th></th><th></th><th></th><th></th><th></th><th></th><th></th><th></th><th></th><th></th><th></th><th></th><th></th><th></th><th></th><th></th><th></th><th></th><th></th><th></th><th></th><th></th><th></th><th></th><th></th><th></th><th></th><th></th><th></th><th></th><th></th><th></th><th></th><th></th><th></th><th></th><th></th><th></th><th></th><th></th><th></th><th></th><th></th><th></th><th></th><th></th><th></th><th></th><th></th><th></th><th></th><th></th><th></th><th></th><th></th><th></th><th></th><th></th><th></th><th></th><th></th><th></th><th></th><th></th><th></th><th></th><th></th><th></th><th></th><th></th><th></th><th></th><th></th><th></th><th></th><th></th><th></th><th></th><th></th><th></th><th></th><th></th><th></th><th></th><th></th><th></th><th></th><th></th><th></th><th></th><th></th><th></th><th></th><th></th><th></th><th></th><th></th><th></th></tr></thead>\n",
       "<tr><td>0</td><td>21539</td><td>34.3795257693</td><td>-5.15683775973</td><td>0.019999999553</td><td>0.0710597</td><td>0.00949195</td><td>0.107001</td><td>0.0121251</td><td>0.142095</td><td>0.0112729</td><td>0.23308</td><td>0.0142605</td><td>0.722495</td><td>0.0232445</td><td>0.991269</td><td>0.028352</td><td>1.09422</td><td>0.017616</td><td>1.50183</td><td>0.0215974</td><td>0.4852182</td><td>0.0037431</td><td>0.6368133</td><td>0.0041781</td><td>0.7070535</td><td>0.0061044</td><td>0.9404059</td><td>0.0062788</td><td>1.1989115</td><td>0.0159431</td><td>0.702083</td><td>0.0140271</td><td>0.0295765</td><td>26.7709415759</td><td>0.14502951418</td><td>False</td><td>26.3265304088</td><td>0.123033056292</td><td>26.0185530091</td><td>0.0861353014717</td><td>False</td><td>25.4812374765</td><td>0.0664284415134</td><td>24.2529128852</td><td>0.034930892548</td><td>False</td><td>23.9095211883</td><td>0.0310539246938</td><td>23.8022383788</td><td>0.0174794182002</td><td>False</td><td>23.4584480615</td><td>0.0156136707275</td><td>24.685157294</td><td>0.00837565282595</td><td>False</td><td>24.3899696871</td><td>0.00712346057644</td><td>False</td><td>24.2763693089</td><td>0.00937378584269</td><td>False</td><td>23.9667116371</td><td>0.00724912559825</td><td>False</td><td>23.703032185</td><td>0.0144380972958</td><td>False</td><td>24.2840288567</td><td>0.0457385762937</td><td>False</td><td>False</td><td>0</td><td>True</td><td>-1</td><td>nan</td><td>False</td><td>0</td><td>-1</td><td>nan</td><td>False</td><td>0</td><td>-1</td><td>nan</td><td>False</td><td>0</td><td>-1</td><td>nan</td><td>nan</td><td>nan</td><td>nan</td><td>nan</td><td>nan</td><td>nan</td><td>nan</td><td>nan</td><td>nan</td><td>nan</td><td>nan</td><td>nan</td><td>nan</td><td>False</td><td>nan</td><td>nan</td><td>nan</td><td>nan</td><td>False</td><td>nan</td><td>nan</td><td>nan</td><td>nan</td><td>False</td><td>nan</td><td>nan</td><td>False</td><td>0</td><td>-1</td><td>False</td><td>0</td><td>-1</td><td>nan</td><td>nan</td><td>False</td><td>-1</td><td>nan</td><td>nan</td><td>-1</td><td>nan</td><td>nan</td><td>-1</td><td>nan</td><td>nan</td><td>-1</td><td>nan</td><td>nan</td><td>nan</td><td>nan</td><td>nan</td><td>nan</td><td>nan</td><td>nan</td><td>nan</td><td>nan</td><td>nan</td><td>nan</td><td>nan</td><td>False</td><td>0</td><td>-1</td><td>0</td><td>0.3627532</td><td>0.0066298</td><td>25.0009718694</td><td>0.0198432815763</td><td>False</td><td>nan</td><td>nan</td><td>nan</td><td>nan</td><td>nan</td><td>nan</td><td>nan</td><td>nan</td><td>False</td><td>nan</td><td>nan</td><td>nan</td><td>nan</td><td>nan</td><td>nan</td><td>nan</td><td>nan</td><td>False</td><td>nan</td><td>nan</td><td>nan</td><td>nan</td><td>nan</td><td>nan</td><td>nan</td><td>nan</td><td>False</td><td>nan</td><td>nan</td><td>nan</td><td>nan</td><td>nan</td><td>nan</td><td>nan</td><td>nan</td><td>False</td><td>nan</td><td>nan</td><td>nan</td><td>nan</td><td>nan</td><td>nan</td><td>nan</td><td>nan</td><td>False</td><td>nan</td><td>nan</td><td>nan</td><td>nan</td></tr>\n",
       "<tr><td>1</td><td>20563</td><td>34.3530670693</td><td>-5.16239645973</td><td>0.0</td><td>0.133338</td><td>0.00879655</td><td>0.180807</td><td>0.0136602</td><td>0.197151</td><td>0.00897565</td><td>0.310126</td><td>0.0138066</td><td>0.333375</td><td>0.0187768</td><td>0.472117</td><td>0.0292274</td><td>0.538301</td><td>0.0144117</td><td>0.760123</td><td>0.0223591</td><td>0.2958344</td><td>0.0043875</td><td>0.4402928</td><td>0.0053329</td><td>0.5652437</td><td>0.007054</td><td>0.9049545</td><td>0.0085324</td><td>1.1906105</td><td>0.0191945</td><td>0.527608</td><td>0.0141214</td><td>0.0304363</td><td>26.0876151584</td><td>0.0716279891101</td><td>False</td><td>25.7569618992</td><td>0.0820287583127</td><td>25.6630025393</td><td>0.0494300722098</td><td>False</td><td>25.1711545558</td><td>0.0483362423164</td><td>25.0926674283</td><td>0.0611523106697</td><td>False</td><td>24.714875903</td><td>0.0672147928394</td><td>24.5724370335</td><td>0.0290679461159</td><td>False</td><td>24.1977903157</td><td>0.0319370475249</td><td>25.2223783177</td><td>0.0161024803011</td><td>False</td><td>24.790646041</td><td>0.0131506184211</td><td>False</td><td>24.5194106736</td><td>0.0135495241935</td><td>False</td><td>24.0084331401</td><td>0.0102369075942</td><td>False</td><td>23.7105757293</td><td>0.0175037626346</td><td>False</td><td>24.5942215699</td><td>0.0626332293083</td><td>False</td><td>False</td><td>0</td><td>False</td><td>-1</td><td>nan</td><td>False</td><td>0</td><td>-1</td><td>nan</td><td>False</td><td>0</td><td>-1</td><td>nan</td><td>False</td><td>0</td><td>-1</td><td>nan</td><td>nan</td><td>nan</td><td>nan</td><td>nan</td><td>nan</td><td>nan</td><td>nan</td><td>nan</td><td>nan</td><td>nan</td><td>nan</td><td>nan</td><td>nan</td><td>False</td><td>nan</td><td>nan</td><td>nan</td><td>nan</td><td>False</td><td>nan</td><td>nan</td><td>nan</td><td>nan</td><td>False</td><td>nan</td><td>nan</td><td>False</td><td>0</td><td>-1</td><td>False</td><td>0</td><td>-1</td><td>nan</td><td>nan</td><td>False</td><td>-1</td><td>nan</td><td>nan</td><td>-1</td><td>nan</td><td>nan</td><td>-1</td><td>nan</td><td>nan</td><td>-1</td><td>nan</td><td>nan</td><td>nan</td><td>nan</td><td>nan</td><td>nan</td><td>nan</td><td>nan</td><td>nan</td><td>nan</td><td>nan</td><td>nan</td><td>nan</td><td>False</td><td>0</td><td>-1</td><td>1</td><td>0.2452752</td><td>0.0068255</td><td>25.4258659037</td><td>0.0302137862514</td><td>False</td><td>nan</td><td>nan</td><td>nan</td><td>nan</td><td>nan</td><td>nan</td><td>nan</td><td>nan</td><td>False</td><td>nan</td><td>nan</td><td>nan</td><td>nan</td><td>nan</td><td>nan</td><td>nan</td><td>nan</td><td>False</td><td>nan</td><td>nan</td><td>nan</td><td>nan</td><td>nan</td><td>nan</td><td>nan</td><td>nan</td><td>False</td><td>nan</td><td>nan</td><td>nan</td><td>nan</td><td>nan</td><td>nan</td><td>nan</td><td>nan</td><td>False</td><td>nan</td><td>nan</td><td>nan</td><td>nan</td><td>nan</td><td>nan</td><td>nan</td><td>nan</td><td>False</td><td>nan</td><td>nan</td><td>nan</td><td>nan</td></tr>\n",
       "<tr><td>2</td><td>14826</td><td>34.2856193693</td><td>-5.19395515973</td><td>0.0</td><td>0.0491678</td><td>0.0074849</td><td>0.0619168</td><td>0.0160298</td><td>0.0972186</td><td>0.00783663</td><td>0.142508</td><td>0.0157403</td><td>0.264025</td><td>0.0154075</td><td>0.328606</td><td>0.0278024</td><td>0.344238</td><td>0.0123705</td><td>0.467226</td><td>0.0238434</td><td>0.2055707</td><td>0.0043688</td><td>0.2400314</td><td>0.0047257</td><td>0.3092149</td><td>0.0067454</td><td>0.3850932</td><td>0.0065248</td><td>0.5510579</td><td>0.0183486</td><td>0.471631</td><td>0.0210946</td><td>0.0445381</td><td>27.1707980592</td><td>0.165283517241</td><td>False</td><td>26.9204787427</td><td>0.281089045542</td><td>26.4306265932</td><td>0.0875193935553</td><td>False</td><td>26.0154018872</td><td>0.119921783926</td><td>25.3458873718</td><td>0.0633594567742</td><td>False</td><td>25.1083112777</td><td>0.0918609893282</td><td>25.0578529754</td><td>0.0390169002869</td><td>False</td><td>24.7261824945</td><td>0.0554071105301</td><td>25.6175969632</td><td>0.023074126475</td><td>False</td><td>25.4493298545</td><td>0.0213758015944</td><td>False</td><td>25.1743489677</td><td>0.0236849032682</td><td>False</td><td>24.9360853753</td><td>0.0183960962925</td><td>False</td><td>24.5470069179</td><td>0.0361518078711</td><td>False</td><td>24.7159941419</td><td>0.102530638701</td><td>False</td><td>False</td><td>0</td><td>False</td><td>-1</td><td>nan</td><td>False</td><td>0</td><td>-1</td><td>nan</td><td>False</td><td>0</td><td>-1</td><td>nan</td><td>False</td><td>0</td><td>-1</td><td>nan</td><td>nan</td><td>nan</td><td>nan</td><td>nan</td><td>nan</td><td>nan</td><td>nan</td><td>nan</td><td>nan</td><td>nan</td><td>nan</td><td>nan</td><td>nan</td><td>False</td><td>nan</td><td>nan</td><td>nan</td><td>nan</td><td>False</td><td>nan</td><td>nan</td><td>nan</td><td>nan</td><td>False</td><td>nan</td><td>nan</td><td>False</td><td>0</td><td>-1</td><td>False</td><td>0</td><td>-1</td><td>nan</td><td>nan</td><td>False</td><td>-1</td><td>nan</td><td>nan</td><td>-1</td><td>nan</td><td>nan</td><td>-1</td><td>nan</td><td>nan</td><td>-1</td><td>nan</td><td>nan</td><td>nan</td><td>nan</td><td>nan</td><td>nan</td><td>nan</td><td>nan</td><td>nan</td><td>nan</td><td>nan</td><td>nan</td><td>nan</td><td>False</td><td>0</td><td>-1</td><td>2</td><td>0.1681561</td><td>0.0073574</td><td>25.8357184342</td><td>0.0475046433218</td><td>False</td><td>nan</td><td>nan</td><td>nan</td><td>nan</td><td>nan</td><td>nan</td><td>nan</td><td>nan</td><td>False</td><td>nan</td><td>nan</td><td>nan</td><td>nan</td><td>nan</td><td>nan</td><td>nan</td><td>nan</td><td>False</td><td>nan</td><td>nan</td><td>nan</td><td>nan</td><td>nan</td><td>nan</td><td>nan</td><td>nan</td><td>False</td><td>nan</td><td>nan</td><td>nan</td><td>nan</td><td>nan</td><td>nan</td><td>nan</td><td>nan</td><td>False</td><td>nan</td><td>nan</td><td>nan</td><td>nan</td><td>nan</td><td>nan</td><td>nan</td><td>nan</td><td>False</td><td>nan</td><td>nan</td><td>nan</td><td>nan</td></tr>\n",
       "<tr><td>3</td><td>1265</td><td>34.3627124693</td><td>-5.26953255973</td><td>0.019999999553</td><td>0.195174</td><td>0.0114047</td><td>0.277966</td><td>0.0174607</td><td>0.394889</td><td>0.0137767</td><td>0.544339</td><td>0.0199322</td><td>0.665006</td><td>0.0217909</td><td>0.966486</td><td>0.0305951</td><td>0.750229</td><td>0.0151674</td><td>1.11416</td><td>0.0233303</td><td>0.0960998</td><td>0.0032959</td><td>0.1398806</td><td>0.0056783</td><td>0.1907871</td><td>0.0052222</td><td>0.4022798</td><td>0.0070876</td><td>0.5167124</td><td>0.0224519</td><td>0.553209</td><td>0.045561</td><td>0.0959896</td><td>25.6739450928</td><td>0.0634433669157</td><td>False</td><td>25.2900208062</td><td>0.0682015575661</td><td>24.9088124094</td><td>0.0378786493726</td><td>False</td><td>24.5603263722</td><td>0.0397566795333</td><td>24.3429360907</td><td>0.0355773768421</td><td>False</td><td>23.9370110814</td><td>0.0343700868488</td><td>24.2120153807</td><td>0.02195035824</td><td>False</td><td>23.7826310935</td><td>0.0227351110952</td><td>26.4431937904</td><td>0.0372371009852</td><td>False</td><td>26.0356062838</td><td>0.0440742739985</td><td>False</td><td>25.6986274833</td><td>0.0297186319646</td><td>False</td><td>24.8886794362</td><td>0.0191291333168</td><td>False</td><td>24.6168777905</td><td>0.0471768060832</td><td>False</td><td>24.5427769077</td><td>0.188390615482</td><td>False</td><td>False</td><td>0</td><td>True</td><td>-1</td><td>nan</td><td>False</td><td>0</td><td>-1</td><td>nan</td><td>False</td><td>0</td><td>-1</td><td>nan</td><td>False</td><td>0</td><td>-1</td><td>nan</td><td>nan</td><td>nan</td><td>nan</td><td>nan</td><td>nan</td><td>nan</td><td>nan</td><td>nan</td><td>nan</td><td>nan</td><td>nan</td><td>nan</td><td>nan</td><td>False</td><td>nan</td><td>nan</td><td>nan</td><td>nan</td><td>False</td><td>nan</td><td>nan</td><td>nan</td><td>nan</td><td>False</td><td>nan</td><td>nan</td><td>False</td><td>0</td><td>-1</td><td>False</td><td>0</td><td>-1</td><td>nan</td><td>nan</td><td>False</td><td>-1</td><td>nan</td><td>nan</td><td>-1</td><td>nan</td><td>nan</td><td>-1</td><td>nan</td><td>nan</td><td>-1</td><td>nan</td><td>nan</td><td>nan</td><td>nan</td><td>nan</td><td>nan</td><td>nan</td><td>nan</td><td>nan</td><td>nan</td><td>nan</td><td>nan</td><td>nan</td><td>False</td><td>0</td><td>-1</td><td>3</td><td>0.0529733</td><td>0.0075836</td><td>27.089857429</td><td>0.155432813935</td><td>False</td><td>nan</td><td>nan</td><td>nan</td><td>nan</td><td>nan</td><td>nan</td><td>nan</td><td>nan</td><td>False</td><td>nan</td><td>nan</td><td>nan</td><td>nan</td><td>nan</td><td>nan</td><td>nan</td><td>nan</td><td>False</td><td>nan</td><td>nan</td><td>nan</td><td>nan</td><td>nan</td><td>nan</td><td>nan</td><td>nan</td><td>False</td><td>nan</td><td>nan</td><td>nan</td><td>nan</td><td>nan</td><td>nan</td><td>nan</td><td>nan</td><td>False</td><td>nan</td><td>nan</td><td>nan</td><td>nan</td><td>nan</td><td>nan</td><td>nan</td><td>nan</td><td>False</td><td>nan</td><td>nan</td><td>nan</td><td>nan</td></tr>\n",
       "<tr><td>4</td><td>13273</td><td>34.3243668693</td><td>-5.20170115973</td><td>0.0</td><td>0.113233</td><td>0.00771246</td><td>0.161421</td><td>0.0175376</td><td>0.220957</td><td>0.00871852</td><td>0.318615</td><td>0.0181905</td><td>0.304997</td><td>0.0133402</td><td>0.473484</td><td>0.0277084</td><td>0.332122</td><td>0.00962214</td><td>0.508171</td><td>0.0236617</td><td>0.0859443</td><td>0.0048999</td><td>0.1259515</td><td>0.0058358</td><td>0.2384127</td><td>0.0085755</td><td>0.3344948</td><td>0.0111257</td><td>0.4307847</td><td>0.0230394</td><td>0.390239</td><td>0.0194855</td><td>0.0391507</td><td>26.2650674658</td><td>0.0739510306161</td><td>False</td><td>25.8800999164</td><td>0.117959913918</td><td>25.5392305882</td><td>0.0428409727499</td><td>False</td><td>25.141834455</td><td>0.0619873026463</td><td>25.1892610811</td><td>0.0474887888035</td><td>False</td><td>24.7117367303</td><td>0.0635375494334</td><td>25.0967558887</td><td>0.0314556270444</td><td>False</td><td>24.6349753066</td><td>0.0505545659948</td><td>26.5644573033</td><td>0.0619005429062</td><td>False</td><td>26.1494916399</td><td>0.0503061840766</td><td>False</td><td>25.4566765347</td><td>0.0390529985353</td><td>False</td><td>25.0890265733</td><td>0.0361128941116</td><td>False</td><td>24.8143493244</td><td>0.0580677789065</td><td>False</td><td>24.9216733248</td><td>0.108926407744</td><td>False</td><td>False</td><td>0</td><td>False</td><td>-1</td><td>nan</td><td>False</td><td>0</td><td>-1</td><td>nan</td><td>False</td><td>0</td><td>-1</td><td>nan</td><td>False</td><td>0</td><td>-1</td><td>nan</td><td>nan</td><td>nan</td><td>nan</td><td>nan</td><td>nan</td><td>nan</td><td>nan</td><td>nan</td><td>nan</td><td>nan</td><td>nan</td><td>nan</td><td>nan</td><td>False</td><td>nan</td><td>nan</td><td>nan</td><td>nan</td><td>False</td><td>nan</td><td>nan</td><td>nan</td><td>nan</td><td>False</td><td>nan</td><td>nan</td><td>False</td><td>0</td><td>-1</td><td>False</td><td>0</td><td>-1</td><td>nan</td><td>nan</td><td>False</td><td>-1</td><td>nan</td><td>nan</td><td>-1</td><td>nan</td><td>nan</td><td>-1</td><td>nan</td><td>nan</td><td>-1</td><td>nan</td><td>nan</td><td>nan</td><td>nan</td><td>nan</td><td>nan</td><td>nan</td><td>nan</td><td>nan</td><td>nan</td><td>nan</td><td>nan</td><td>nan</td><td>False</td><td>0</td><td>-1</td><td>4</td><td>0.0365908</td><td>0.0066596</td><td>27.4915702381</td><td>0.197606196891</td><td>False</td><td>nan</td><td>nan</td><td>nan</td><td>nan</td><td>nan</td><td>nan</td><td>nan</td><td>nan</td><td>False</td><td>nan</td><td>nan</td><td>nan</td><td>nan</td><td>nan</td><td>nan</td><td>nan</td><td>nan</td><td>False</td><td>nan</td><td>nan</td><td>nan</td><td>nan</td><td>nan</td><td>nan</td><td>nan</td><td>nan</td><td>False</td><td>nan</td><td>nan</td><td>nan</td><td>nan</td><td>nan</td><td>nan</td><td>nan</td><td>nan</td><td>False</td><td>nan</td><td>nan</td><td>nan</td><td>nan</td><td>nan</td><td>nan</td><td>nan</td><td>nan</td><td>False</td><td>nan</td><td>nan</td><td>nan</td><td>nan</td></tr>\n",
       "<tr><td>5</td><td>9036</td><td>34.2784354693</td><td>-5.22480465973</td><td>0.0</td><td>0.0543055</td><td>0.00773169</td><td>0.102759</td><td>0.0182538</td><td>0.110097</td><td>0.00870382</td><td>0.202327</td><td>0.0191073</td><td>0.262203</td><td>0.015319</td><td>0.379377</td><td>0.0315701</td><td>0.450288</td><td>0.0132094</td><td>0.713741</td><td>0.0276764</td><td>0.2187557</td><td>0.0036391</td><td>0.3882704</td><td>0.0065876</td><td>0.6772675</td><td>0.0064811</td><td>1.0186884</td><td>0.008968</td><td>1.122582</td><td>0.0226343</td><td>0.656931</td><td>0.0194469</td><td>0.039726</td><td>27.0628904583</td><td>0.154580581285</td><td>False</td><td>26.3704503268</td><td>0.192866917101</td><td>26.2955612871</td><td>0.0858338782501</td><td>False</td><td>25.6348653948</td><td>0.102534448616</td><td>25.3534058591</td><td>0.0634332670514</td><td>False</td><td>24.9523225052</td><td>0.0903502335614</td><td>24.7662740667</td><td>0.0318505574724</td><td>False</td><td>24.2661483875</td><td>0.0421010835827</td><td>25.5501015549</td><td>0.0180617127816</td><td>False</td><td>24.9271642922</td><td>0.018421172004</td><td>False</td><td>24.3230994109</td><td>0.0103899344301</td><td>False</td><td>23.879896598</td><td>0.0095582538137</td><td>False</td><td>23.7744548143</td><td>0.0218913887621</td><td>False</td><td>24.3562006092</td><td>0.0656567530992</td><td>False</td><td>False</td><td>0</td><td>False</td><td>-1</td><td>nan</td><td>False</td><td>0</td><td>-1</td><td>nan</td><td>False</td><td>0</td><td>-1</td><td>nan</td><td>False</td><td>0</td><td>-1</td><td>nan</td><td>nan</td><td>nan</td><td>nan</td><td>nan</td><td>nan</td><td>nan</td><td>nan</td><td>nan</td><td>nan</td><td>nan</td><td>nan</td><td>nan</td><td>nan</td><td>False</td><td>nan</td><td>nan</td><td>nan</td><td>nan</td><td>False</td><td>nan</td><td>nan</td><td>nan</td><td>nan</td><td>False</td><td>nan</td><td>nan</td><td>False</td><td>0</td><td>-1</td><td>False</td><td>0</td><td>-1</td><td>nan</td><td>nan</td><td>False</td><td>-1</td><td>nan</td><td>nan</td><td>-1</td><td>nan</td><td>nan</td><td>-1</td><td>nan</td><td>nan</td><td>-1</td><td>nan</td><td>nan</td><td>nan</td><td>nan</td><td>nan</td><td>nan</td><td>nan</td><td>nan</td><td>nan</td><td>nan</td><td>nan</td><td>nan</td><td>nan</td><td>False</td><td>0</td><td>-1</td><td>5</td><td>0.1593326</td><td>0.0068346</td><td>25.8942383924</td><td>0.046572846141</td><td>False</td><td>nan</td><td>nan</td><td>nan</td><td>nan</td><td>nan</td><td>nan</td><td>nan</td><td>nan</td><td>False</td><td>nan</td><td>nan</td><td>nan</td><td>nan</td><td>nan</td><td>nan</td><td>nan</td><td>nan</td><td>False</td><td>nan</td><td>nan</td><td>nan</td><td>nan</td><td>nan</td><td>nan</td><td>nan</td><td>nan</td><td>False</td><td>nan</td><td>nan</td><td>nan</td><td>nan</td><td>nan</td><td>nan</td><td>nan</td><td>nan</td><td>False</td><td>nan</td><td>nan</td><td>nan</td><td>nan</td><td>nan</td><td>nan</td><td>nan</td><td>nan</td><td>False</td><td>nan</td><td>nan</td><td>nan</td><td>nan</td></tr>\n",
       "<tr><td>6</td><td>3353</td><td>34.3749212693</td><td>-5.25793585973</td><td>0.0</td><td>0.0219845</td><td>0.0119491</td><td>0.036657</td><td>0.0189846</td><td>0.0715805</td><td>0.0121569</td><td>0.0942867</td><td>0.0190316</td><td>0.590133</td><td>0.0306195</td><td>0.762989</td><td>0.0439909</td><td>1.32479</td><td>0.0261523</td><td>1.58215</td><td>0.0382111</td><td>0.0002127</td><td>0.0038226</td><td>-0.0133222</td><td>0.0071063</td><td>-0.0022047</td><td>0.0064365</td><td>0.0108566</td><td>0.0077467</td><td>0.1016985</td><td>0.0246658</td><td>0.247723</td><td>0.0177556</td><td>0.0384577</td><td>28.0447085181</td><td>0.590123518128</td><td>False</td><td>27.4896077012</td><td>0.562300994431</td><td>26.7630131808</td><td>0.184396399405</td><td>False</td><td>26.4638739104</td><td>0.219153890787</td><td>24.4726252478</td><td>0.0563342496041</td><td>False</td><td>24.193704308</td><td>0.0625992154669</td><td>23.5946323969</td><td>0.0214332074877</td><td>False</td><td>23.4018808611</td><td>0.0262220236347</td><td>33.0805812752</td><td>19.5126244302</td><td>False</td><td>nan</td><td>-0.579151130584</td><td>False</td><td>nan</td><td>-3.1697469415</td><td>False</td><td>28.8107654075</td><td>0.774724375716</td><td>False</td><td>26.3817136316</td><td>0.263332812965</td><td>False</td><td>25.415084173</td><td>0.168554866693</td><td>False</td><td>False</td><td>0</td><td>False</td><td>-1</td><td>nan</td><td>False</td><td>0</td><td>-1</td><td>nan</td><td>False</td><td>0</td><td>-1</td><td>nan</td><td>False</td><td>0</td><td>-1</td><td>nan</td><td>nan</td><td>nan</td><td>nan</td><td>nan</td><td>nan</td><td>nan</td><td>nan</td><td>nan</td><td>nan</td><td>nan</td><td>nan</td><td>nan</td><td>nan</td><td>False</td><td>nan</td><td>nan</td><td>nan</td><td>nan</td><td>False</td><td>nan</td><td>nan</td><td>nan</td><td>nan</td><td>False</td><td>nan</td><td>nan</td><td>False</td><td>0</td><td>-1</td><td>False</td><td>0</td><td>-1</td><td>nan</td><td>nan</td><td>False</td><td>-1</td><td>nan</td><td>nan</td><td>-1</td><td>nan</td><td>nan</td><td>-1</td><td>nan</td><td>nan</td><td>-1</td><td>nan</td><td>nan</td><td>nan</td><td>nan</td><td>nan</td><td>nan</td><td>nan</td><td>nan</td><td>nan</td><td>nan</td><td>nan</td><td>nan</td><td>nan</td><td>False</td><td>0</td><td>-1</td><td>6</td><td>-0.0051325</td><td>0.0082125</td><td>nan</td><td>-1.73728369831</td><td>False</td><td>nan</td><td>nan</td><td>nan</td><td>nan</td><td>nan</td><td>nan</td><td>nan</td><td>nan</td><td>False</td><td>nan</td><td>nan</td><td>nan</td><td>nan</td><td>nan</td><td>nan</td><td>nan</td><td>nan</td><td>False</td><td>nan</td><td>nan</td><td>nan</td><td>nan</td><td>nan</td><td>nan</td><td>nan</td><td>nan</td><td>False</td><td>nan</td><td>nan</td><td>nan</td><td>nan</td><td>nan</td><td>nan</td><td>nan</td><td>nan</td><td>False</td><td>nan</td><td>nan</td><td>nan</td><td>nan</td><td>nan</td><td>nan</td><td>nan</td><td>nan</td><td>False</td><td>nan</td><td>nan</td><td>nan</td><td>nan</td></tr>\n",
       "<tr><td>7</td><td>30535</td><td>34.3719116693</td><td>-5.21773125973</td><td>0.0</td><td>0.0200661</td><td>0.00917157</td><td>-0.00216399</td><td>0.0189875</td><td>0.0597257</td><td>0.00988745</td><td>0.0881192</td><td>0.0191953</td><td>0.0968641</td><td>0.0228686</td><td>0.213073</td><td>0.0454037</td><td>0.112731</td><td>0.0212121</td><td>0.140503</td><td>0.0393608</td><td>0.005866</td><td>0.0037556</td><td>0.0223429</td><td>0.0064162</td><td>0.0384536</td><td>0.0069202</td><td>0.0829306</td><td>0.0096274</td><td>0.0957557</td><td>0.0246016</td><td>0.0821145</td><td>0.0146598</td><td>0.0307014</td><td>28.1438425694</td><td>0.49625515688</td><td>False</td><td>nan</td><td>-9.52657645731</td><td>26.9595968788</td><td>0.179741090313</td><td>False</td><td>26.5373236357</td><td>0.236509548103</td><td>26.4345928809</td><td>0.256330952047</td><td>False</td><td>25.5786789484</td><td>0.231359397577</td><td>26.2698916012</td><td>0.204298240492</td><td>False</td><td>26.0307860067</td><td>0.304160378129</td><td>29.4791448534</td><td>0.695122893043</td><td>False</td><td>28.0271511456</td><td>0.311790351162</td><td>False</td><td>27.437657489</td><td>0.195391632621</td><td>False</td><td>26.6032129813</td><td>0.126042941178</td><td>False</td><td>26.4470884114</td><td>0.278947862268</td><td>False</td><td>26.613950368</td><td>0.405940747575</td><td>False</td><td>False</td><td>0</td><td>False</td><td>-1</td><td>nan</td><td>False</td><td>0</td><td>-1</td><td>nan</td><td>False</td><td>0</td><td>-1</td><td>nan</td><td>False</td><td>0</td><td>-1</td><td>nan</td><td>nan</td><td>nan</td><td>nan</td><td>nan</td><td>nan</td><td>nan</td><td>nan</td><td>nan</td><td>nan</td><td>nan</td><td>nan</td><td>nan</td><td>nan</td><td>False</td><td>nan</td><td>nan</td><td>nan</td><td>nan</td><td>False</td><td>nan</td><td>nan</td><td>nan</td><td>nan</td><td>False</td><td>nan</td><td>nan</td><td>False</td><td>0</td><td>-1</td><td>False</td><td>0</td><td>-1</td><td>nan</td><td>nan</td><td>False</td><td>-1</td><td>nan</td><td>nan</td><td>-1</td><td>nan</td><td>nan</td><td>-1</td><td>nan</td><td>nan</td><td>-1</td><td>nan</td><td>nan</td><td>nan</td><td>nan</td><td>nan</td><td>nan</td><td>nan</td><td>nan</td><td>nan</td><td>nan</td><td>nan</td><td>nan</td><td>nan</td><td>False</td><td>0</td><td>-1</td><td>7</td><td>0.0027365</td><td>0.0067958</td><td>30.3070113688</td><td>2.69630772896</td><td>False</td><td>nan</td><td>nan</td><td>nan</td><td>nan</td><td>nan</td><td>nan</td><td>nan</td><td>nan</td><td>False</td><td>nan</td><td>nan</td><td>nan</td><td>nan</td><td>nan</td><td>nan</td><td>nan</td><td>nan</td><td>False</td><td>nan</td><td>nan</td><td>nan</td><td>nan</td><td>nan</td><td>nan</td><td>nan</td><td>nan</td><td>False</td><td>nan</td><td>nan</td><td>nan</td><td>nan</td><td>nan</td><td>nan</td><td>nan</td><td>nan</td><td>False</td><td>nan</td><td>nan</td><td>nan</td><td>nan</td><td>nan</td><td>nan</td><td>nan</td><td>nan</td><td>False</td><td>nan</td><td>nan</td><td>nan</td><td>nan</td></tr>\n",
       "<tr><td>8</td><td>10290</td><td>34.3721179693</td><td>-5.21799245973</td><td>0.699999988079</td><td>0.00202651</td><td>0.00576531</td><td>-0.0335463</td><td>0.0190292</td><td>0.00298273</td><td>0.00574464</td><td>0.0125992</td><td>0.0189148</td><td>0.0851452</td><td>0.0152042</td><td>0.075513</td><td>0.0450326</td><td>0.121132</td><td>0.016443</td><td>0.0909148</td><td>0.0397302</td><td>-0.000704</td><td>0.003589</td><td>-0.0016523</td><td>0.006103</td><td>0.002381</td><td>0.0066523</td><td>-0.0106147</td><td>0.0092379</td><td>0.0122139</td><td>0.0235671</td><td>0.065116</td><td>0.0127878</td><td>0.0253353</td><td>30.6331281221</td><td>3.08886005924</td><td>False</td><td>nan</td><td>-0.615885846951</td><td>30.2134651442</td><td>2.09109226491</td><td>False</td><td>28.649142575</td><td>1.62998310732</td><td>26.5745995751</td><td>0.19387763966</td><td>False</td><td>26.7049456891</td><td>0.647484859751</td><td>26.1918527803</td><td>0.147382693383</td><td>False</td><td>26.5034135308</td><td>0.474471885351</td><td>nan</td><td>-5.53509550977</td><td>False</td><td>nan</td><td>-4.01031777379</td><td>False</td><td>30.4581015115</td><td>3.03344937208</td><td>False</td><td>nan</td><td>-0.944908710179</td><td>False</td><td>28.6828641002</td><td>2.09496178216</td><td>False</td><td>26.8657807138</td><td>0.422437687641</td><td>False</td><td>False</td><td>0</td><td>False</td><td>-1</td><td>nan</td><td>False</td><td>0</td><td>-1</td><td>nan</td><td>False</td><td>0</td><td>-1</td><td>nan</td><td>False</td><td>0</td><td>-1</td><td>nan</td><td>nan</td><td>nan</td><td>nan</td><td>nan</td><td>nan</td><td>nan</td><td>nan</td><td>nan</td><td>nan</td><td>nan</td><td>nan</td><td>nan</td><td>nan</td><td>False</td><td>nan</td><td>nan</td><td>nan</td><td>nan</td><td>False</td><td>nan</td><td>nan</td><td>nan</td><td>nan</td><td>False</td><td>nan</td><td>nan</td><td>False</td><td>0</td><td>-1</td><td>False</td><td>0</td><td>-1</td><td>nan</td><td>nan</td><td>False</td><td>-1</td><td>nan</td><td>nan</td><td>-1</td><td>nan</td><td>nan</td><td>-1</td><td>nan</td><td>nan</td><td>-1</td><td>nan</td><td>nan</td><td>nan</td><td>nan</td><td>nan</td><td>nan</td><td>nan</td><td>nan</td><td>nan</td><td>nan</td><td>nan</td><td>nan</td><td>nan</td><td>False</td><td>0</td><td>-1</td><td>8</td><td>-0.0105424</td><td>0.0064933</td><td>nan</td><td>-0.6687292171</td><td>False</td><td>nan</td><td>nan</td><td>nan</td><td>nan</td><td>nan</td><td>nan</td><td>nan</td><td>nan</td><td>False</td><td>nan</td><td>nan</td><td>nan</td><td>nan</td><td>nan</td><td>nan</td><td>nan</td><td>nan</td><td>False</td><td>nan</td><td>nan</td><td>nan</td><td>nan</td><td>nan</td><td>nan</td><td>nan</td><td>nan</td><td>False</td><td>nan</td><td>nan</td><td>nan</td><td>nan</td><td>nan</td><td>nan</td><td>nan</td><td>nan</td><td>False</td><td>nan</td><td>nan</td><td>nan</td><td>nan</td><td>nan</td><td>nan</td><td>nan</td><td>nan</td><td>False</td><td>nan</td><td>nan</td><td>nan</td><td>nan</td></tr>\n",
       "<tr><td>9</td><td>30480</td><td>34.4393352693</td><td>-5.21873475973</td><td>0.709999978542</td><td>-0.00142079</td><td>0.00516246</td><td>-0.0420138</td><td>0.0193282</td><td>-0.00176442</td><td>0.00551065</td><td>-0.0195892</td><td>0.0206293</td><td>0.0360928</td><td>0.0129518</td><td>0.0310641</td><td>0.0448159</td><td>0.0594395</td><td>0.0138861</td><td>0.019035</td><td>0.0400623</td><td>-0.002361</td><td>0.003477</td><td>-0.000383</td><td>0.006916</td><td>0.0075941</td><td>0.0064209</td><td>0.0126521</td><td>0.0078891</td><td>0.0375685</td><td>0.0239401</td><td>0.02165</td><td>0.0127359</td><td>0.026029</td><td>nan</td><td>-3.9450374282</td><td>False</td><td>nan</td><td>-0.49948651426</td><td>nan</td><td>-3.39097959485</td><td>False</td><td>nan</td><td>-1.14338400184</td><td>27.5064485626</td><td>0.389613390393</td><td>False</td><td>27.669353061</td><td>1.5663819386</td><td>26.9648121312</td><td>0.253646842805</td><td>False</td><td>28.2011177971</td><td>2.28511108778</td><td>nan</td><td>-1.59894315288</td><td>False</td><td>nan</td><td>-19.605617734</td><td>False</td><td>29.1988092208</td><td>0.91800260691</td><td>False</td><td>28.6445934604</td><td>0.677000774018</td><td>False</td><td>27.4629403617</td><td>0.691873066945</td><td>False</td><td>28.0613552483</td><td>1.30534077015</td><td>False</td><td>False</td><td>0</td><td>False</td><td>-1</td><td>nan</td><td>False</td><td>0</td><td>-1</td><td>nan</td><td>False</td><td>0</td><td>-1</td><td>nan</td><td>False</td><td>0</td><td>-1</td><td>nan</td><td>nan</td><td>nan</td><td>nan</td><td>nan</td><td>nan</td><td>nan</td><td>nan</td><td>nan</td><td>nan</td><td>nan</td><td>nan</td><td>nan</td><td>nan</td><td>False</td><td>nan</td><td>nan</td><td>nan</td><td>nan</td><td>False</td><td>nan</td><td>nan</td><td>nan</td><td>nan</td><td>False</td><td>nan</td><td>nan</td><td>False</td><td>0</td><td>-1</td><td>False</td><td>0</td><td>-1</td><td>nan</td><td>nan</td><td>False</td><td>-1</td><td>nan</td><td>nan</td><td>-1</td><td>nan</td><td>nan</td><td>-1</td><td>nan</td><td>nan</td><td>-1</td><td>nan</td><td>nan</td><td>nan</td><td>nan</td><td>nan</td><td>nan</td><td>nan</td><td>nan</td><td>nan</td><td>nan</td><td>nan</td><td>nan</td><td>nan</td><td>False</td><td>0</td><td>-1</td><td>9</td><td>0.0012722</td><td>0.0064643</td><td>31.1386115219</td><td>5.51684055056</td><td>False</td><td>nan</td><td>nan</td><td>nan</td><td>nan</td><td>nan</td><td>nan</td><td>nan</td><td>nan</td><td>False</td><td>nan</td><td>nan</td><td>nan</td><td>nan</td><td>nan</td><td>nan</td><td>nan</td><td>nan</td><td>False</td><td>nan</td><td>nan</td><td>nan</td><td>nan</td><td>nan</td><td>nan</td><td>nan</td><td>nan</td><td>False</td><td>nan</td><td>nan</td><td>nan</td><td>nan</td><td>nan</td><td>nan</td><td>nan</td><td>nan</td><td>False</td><td>nan</td><td>nan</td><td>nan</td><td>nan</td><td>nan</td><td>nan</td><td>nan</td><td>nan</td><td>False</td><td>nan</td><td>nan</td><td>nan</td><td>nan</td></tr>\n",
       "</table><style>table.dataTable {clear: both; width: auto !important; margin: 0 !important;}\n",
       ".dataTables_info, .dataTables_length, .dataTables_filter, .dataTables_paginate{\n",
       "display: inline-block; margin-right: 1em; }\n",
       ".paginate_button { margin-right: 5px; }\n",
       "</style>\n",
       "<script>\n",
       "require.config({paths: {\n",
       "    datatables: 'https://cdn.datatables.net/1.10.12/js/jquery.dataTables.min'\n",
       "}});\n",
       "require([\"datatables\"], function(){\n",
       "    console.log(\"$('#table139944547050216-477817').dataTable()\");\n",
       "    $('#table139944547050216-477817').dataTable({\n",
       "        \"order\": [],\n",
       "        \"iDisplayLength\": 50,\n",
       "        \"aLengthMenu\": [[10, 25, 50, 100, 500, 1000, -1], [10, 25, 50, 100, 500, 1000, 'All']],\n",
       "        \"pagingType\": \"full_numbers\"\n",
       "    });\n",
       "});\n",
       "</script>\n"
      ],
      "text/plain": [
       "<IPython.core.display.HTML object>"
      ]
     },
     "execution_count": 38,
     "metadata": {},
     "output_type": "execute_result"
    }
   ],
   "source": [
    "master_catalogue[:10].show_in_notebook()"
   ]
  },
  {
   "cell_type": "markdown",
   "metadata": {},
   "source": [
    "## XI - Saving the catalogue"
   ]
  },
  {
   "cell_type": "code",
   "execution_count": 39,
   "metadata": {
    "collapsed": true
   },
   "outputs": [],
   "source": [
    "master_catalogue.write(\"{}/cfht_merged_catalogue_xmm-lss.fits\".format(TMP_DIR), overwrite=True)"
   ]
  }
 ],
 "metadata": {
  "kernelspec": {
   "display_name": "Python (herschelhelp_internal)",
   "language": "python",
   "name": "helpint"
  },
  "language_info": {
   "codemirror_mode": {
    "name": "ipython",
    "version": 3
   },
   "file_extension": ".py",
   "mimetype": "text/x-python",
   "name": "python",
   "nbconvert_exporter": "python",
   "pygments_lexer": "ipython3",
   "version": "3.6.1"
  }
 },
 "nbformat": 4,
 "nbformat_minor": 2
}
