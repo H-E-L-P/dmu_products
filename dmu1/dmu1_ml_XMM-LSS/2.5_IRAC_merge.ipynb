{
 "cells": [
  {
   "cell_type": "markdown",
   "metadata": {},
   "source": [
    "# XMM-LSS master catalogue - IRAC merging\n",
    "\n",
    "This notebook presents the merge of the IRAC pristine catalogues to produce the HELP master catalogue on XMM-LSS."
   ]
  },
  {
   "cell_type": "code",
   "execution_count": 1,
   "metadata": {},
   "outputs": [
    {
     "name": "stdout",
     "output_type": "stream",
     "text": [
      "This notebook was run with herschelhelp_internal version: \n",
      "0246c5d (Thu Jan 25 17:01:47 2018 +0000)\n"
     ]
    }
   ],
   "source": [
    "from herschelhelp_internal import git_version\n",
    "print(\"This notebook was run with herschelhelp_internal version: \\n{}\".format(git_version()))"
   ]
  },
  {
   "cell_type": "code",
   "execution_count": 2,
   "metadata": {},
   "outputs": [
    {
     "name": "stderr",
     "output_type": "stream",
     "text": [
      "/Users/rs548/anaconda/envs/herschelhelp_internal/lib/python3.6/site-packages/seaborn/apionly.py:6: UserWarning: As seaborn no longer sets a default style on import, the seaborn.apionly module is deprecated. It will be removed in a future version.\n",
      "  warnings.warn(msg, UserWarning)\n"
     ]
    }
   ],
   "source": [
    "%matplotlib inline\n",
    "#%config InlineBackend.figure_format = 'svg'\n",
    "\n",
    "import matplotlib.pyplot as plt\n",
    "plt.rc('figure', figsize=(10, 6))\n",
    "\n",
    "import os\n",
    "import time\n",
    "\n",
    "from astropy import units as u\n",
    "from astropy.coordinates import SkyCoord\n",
    "from astropy.table import Column, Table\n",
    "import numpy as np\n",
    "from pymoc import MOC\n",
    "\n",
    "from herschelhelp_internal.masterlist import merge_catalogues, nb_merge_dist_plot, specz_merge\n",
    "from herschelhelp_internal.utils import coords_to_hpidx, ebv, gen_help_id, inMoc"
   ]
  },
  {
   "cell_type": "code",
   "execution_count": 3,
   "metadata": {
    "collapsed": true
   },
   "outputs": [],
   "source": [
    "TMP_DIR = os.environ.get('TMP_DIR', \"./data_tmp\")\n",
    "OUT_DIR = os.environ.get('OUT_DIR', \"./data\")\n",
    "SUFFIX = os.environ.get('SUFFIX', time.strftime(\"_%Y%m%d\"))\n",
    "\n",
    "try:\n",
    "    os.makedirs(OUT_DIR)\n",
    "except FileExistsError:\n",
    "    pass"
   ]
  },
  {
   "cell_type": "markdown",
   "metadata": {},
   "source": [
    "## I - Reading the prepared pristine catalogues"
   ]
  },
  {
   "cell_type": "code",
   "execution_count": 4,
   "metadata": {
    "collapsed": true
   },
   "outputs": [],
   "source": [
    "candels = Table.read(\"{}/CANDELS-UDS.fits\".format(TMP_DIR))           # 1.2\n",
    "\n",
    "#cfht_wirds = Table.read(\"{}/CFHT-WIRDS.fits\".format(TMP_DIR))     # 1.3\n",
    "#cfhtls_wide = Table.read(\"{}/CFHTLS-WIDE.fits\".format(TMP_DIR))   # 1.4a\n",
    "#cfhtls_deep = Table.read(\"{}/CFHTLS-DEEP.fits\".format(TMP_DIR))   # 1.4b\n",
    "#We no longer use CFHTLenS as it is the same raw data set as CFHTLS-WIDE\n",
    "# cfhtlens = Table.read(\"{}/CFHTLENS.fits\".format(TMP_DIR))         # 1.5\n",
    "#decals = Table.read(\"{}/DECaLS.fits\".format(TMP_DIR))             # 1.6\n",
    "\n",
    "servs = Table.read(\"{}/SERVS.fits\".format(TMP_DIR))               # 1.8\n",
    "swire = Table.read(\"{}/SWIRE.fits\".format(TMP_DIR))               # 1.7\n",
    "\n",
    "#hsc_wide = Table.read(\"{}/HSC-WIDE.fits\".format(TMP_DIR))         # 1.9a\n",
    "#hsc_deep = Table.read(\"{}/HSC-DEEP.fits\".format(TMP_DIR))         # 1.9b\n",
    "#hsc_udeep = Table.read(\"{}/HSC-UDEEP.fits\".format(TMP_DIR))       # 1.9c\n",
    "#ps1 = Table.read(\"{}/PS1.fits\".format(TMP_DIR))                   # 1.10\n",
    "#sxds = Table.read(\"{}/SXDS.fits\".format(TMP_DIR))                 # 1.11\n",
    "#sparcs = Table.read(\"{}/SpARCS.fits\".format(TMP_DIR))             # 1.12\n",
    "#dxs = Table.read(\"{}/UKIDSS-DXS.fits\".format(TMP_DIR))            # 1.13\n",
    "#uds = Table.read(\"{}/UKIDSS-UDS.fits\".format(TMP_DIR))            # 1.14\n",
    "#vipers = Table.read(\"{}/VIPERS.fits\".format(TMP_DIR))             # 1.15\n",
    "#vhs = Table.read(\"{}/VISTA-VHS.fits\".format(TMP_DIR))             # 1.16\n",
    "#video = Table.read(\"{}/VISTA-VIDEO.fits\".format(TMP_DIR))         # 1.17\n",
    "#viking = Table.read(\"{}/VISTA-VIKING.fits\".format(TMP_DIR))       # 1.18"
   ]
  },
  {
   "cell_type": "markdown",
   "metadata": {},
   "source": [
    "## II - Merging tables\n",
    "\n",
    "We first merge the optical catalogues and then add the infrared ones. We start with PanSTARRS because it coevrs the whole field.\n",
    "\n",
    "At every step, we look at the distribution of the distances separating the sources from one catalogue to the other (within a maximum radius) to determine the best cross-matching radius."
   ]
  },
  {
   "cell_type": "markdown",
   "metadata": {},
   "source": [
    "### Start with CANDELS"
   ]
  },
  {
   "cell_type": "code",
   "execution_count": 5,
   "metadata": {},
   "outputs": [
    {
     "name": "stdout",
     "output_type": "stream",
     "text": [
      "f_acs_f606w  removed.\n",
      "ferr_acs_f606w  removed.\n",
      "f_ap_acs_f606w  removed.\n",
      "ferr_ap_acs_f606w  removed.\n",
      "f_acs_f814w  removed.\n",
      "ferr_acs_f814w  removed.\n",
      "f_ap_acs_f814w  removed.\n",
      "ferr_ap_acs_f814w  removed.\n",
      "f_wfc3_f125w  removed.\n",
      "ferr_wfc3_f125w  removed.\n",
      "f_ap_wfc3_f125w  removed.\n",
      "ferr_ap_wfc3_f125w  removed.\n",
      "f_wfc3_f160w  removed.\n",
      "ferr_wfc3_f160w  removed.\n",
      "f_ap_wfc3_f160w  removed.\n",
      "ferr_ap_wfc3_f160w  removed.\n",
      "f_candels-megacam_u  removed.\n",
      "ferr_candels-megacam_u  removed.\n",
      "f_suprime_b  removed.\n",
      "ferr_suprime_b  removed.\n",
      "f_suprime_v  removed.\n",
      "ferr_suprime_v  removed.\n",
      "f_suprime_rc  removed.\n",
      "ferr_suprime_rc  removed.\n",
      "f_suprime_ip  removed.\n",
      "ferr_suprime_ip  removed.\n",
      "f_suprime_zp  removed.\n",
      "ferr_suprime_zp  removed.\n",
      "f_hawki_k  removed.\n",
      "ferr_hawki_y  removed.\n",
      "ferr_hawki_k  removed.\n",
      "f_candels-ukidss_j  removed.\n",
      "ferr_candels-ukidss_j  removed.\n",
      "f_candels-ukidss_h  removed.\n",
      "ferr_candels-ukidss_h  removed.\n",
      "f_candels-ukidss_k  removed.\n",
      "ferr_candels-ukidss_k  removed.\n",
      "m_acs_f606w  removed.\n",
      "merr_acs_f606w  removed.\n",
      "flag_acs_f606w  removed.\n",
      "m_ap_acs_f606w  removed.\n",
      "merr_ap_acs_f606w  removed.\n",
      "m_acs_f814w  removed.\n",
      "merr_acs_f814w  removed.\n",
      "flag_acs_f814w  removed.\n",
      "m_ap_acs_f814w  removed.\n",
      "merr_ap_acs_f814w  removed.\n",
      "m_wfc3_f125w  removed.\n",
      "merr_wfc3_f125w  removed.\n",
      "flag_wfc3_f125w  removed.\n",
      "m_ap_wfc3_f125w  removed.\n",
      "merr_ap_wfc3_f125w  removed.\n",
      "m_wfc3_f160w  removed.\n",
      "merr_wfc3_f160w  removed.\n",
      "flag_wfc3_f160w  removed.\n",
      "m_ap_wfc3_f160w  removed.\n",
      "merr_ap_wfc3_f160w  removed.\n",
      "m_candels-megacam_u  removed.\n",
      "merr_candels-megacam_u  removed.\n",
      "flag_candels-megacam_u  removed.\n",
      "m_suprime_b  removed.\n",
      "merr_suprime_b  removed.\n",
      "flag_suprime_b  removed.\n",
      "m_suprime_v  removed.\n",
      "merr_suprime_v  removed.\n",
      "flag_suprime_v  removed.\n",
      "m_suprime_rc  removed.\n",
      "merr_suprime_rc  removed.\n",
      "flag_suprime_rc  removed.\n",
      "m_suprime_ip  removed.\n",
      "merr_suprime_ip  removed.\n",
      "flag_suprime_ip  removed.\n",
      "m_suprime_zp  removed.\n",
      "merr_suprime_zp  removed.\n",
      "flag_suprime_zp  removed.\n",
      "m_hawki_k  removed.\n",
      "merr_hawki_k  removed.\n",
      "flag_hawki_k  removed.\n",
      "m_candels-ukidss_j  removed.\n",
      "merr_candels-ukidss_j  removed.\n",
      "flag_candels-ukidss_j  removed.\n",
      "m_candels-ukidss_h  removed.\n",
      "merr_candels-ukidss_h  removed.\n",
      "flag_candels-ukidss_h  removed.\n",
      "m_candels-ukidss_k  removed.\n",
      "merr_candels-ukidss_k  removed.\n",
      "flag_candels-ukidss_k  removed.\n"
     ]
    }
   ],
   "source": [
    "master_catalogue = candels\n",
    "master_catalogue['candels_ra'].name = 'ra'\n",
    "master_catalogue['candels_dec'].name = 'dec'\n",
    "del candels\n",
    "unused_bands = [ 'candels-megacam', 'candels-ukidss', 'hawki', 'suprime', 'wfc3', 'acs']\n",
    "for col in master_catalogue.colnames:\n",
    "    \n",
    "    for band in unused_bands:\n",
    "        if band in col:\n",
    "            master_catalogue.remove_column(col)\n",
    "            print(col, ' removed.')"
   ]
  },
  {
   "cell_type": "markdown",
   "metadata": {},
   "source": [
    "### Add SERVS"
   ]
  },
  {
   "cell_type": "code",
   "execution_count": 6,
   "metadata": {},
   "outputs": [
    {
     "name": "stdout",
     "output_type": "stream",
     "text": [
      "HELP Warning: There weren't any cross matches. The two surveys probably don't overlap.\n"
     ]
    }
   ],
   "source": [
    "nb_merge_dist_plot(\n",
    "    SkyCoord(master_catalogue['ra'], master_catalogue['dec']),\n",
    "    SkyCoord(servs['servs_ra'], servs['servs_dec'])\n",
    ")"
   ]
  },
  {
   "cell_type": "code",
   "execution_count": 7,
   "metadata": {
    "collapsed": true
   },
   "outputs": [],
   "source": [
    "# Given the graph above, we use 1 arc-second radius\n",
    "master_catalogue = merge_catalogues(master_catalogue, servs, \"servs_ra\", \"servs_dec\", radius=1.*u.arcsec)"
   ]
  },
  {
   "cell_type": "markdown",
   "metadata": {},
   "source": [
    "### Add SWIRE"
   ]
  },
  {
   "cell_type": "code",
   "execution_count": 8,
   "metadata": {},
   "outputs": [
    {
     "data": {
      "image/png": "[encoded data removed]",
      "text/plain": [
       "<matplotlib.figure.Figure at 0x11822c748>"
      ]
     },
     "metadata": {},
     "output_type": "display_data"
    }
   ],
   "source": [
    "nb_merge_dist_plot(\n",
    "    SkyCoord(master_catalogue['ra'], master_catalogue['dec']),\n",
    "    SkyCoord(swire['swire_ra'], swire['swire_dec'])\n",
    ")"
   ]
  },
  {
   "cell_type": "code",
   "execution_count": 9,
   "metadata": {
    "collapsed": true
   },
   "outputs": [],
   "source": [
    "# Given the graph above, we use 1 arc-second radius\n",
    "master_catalogue = merge_catalogues(master_catalogue, swire, \"swire_ra\", \"swire_dec\", radius=1.*u.arcsec)"
   ]
  },
  {
   "cell_type": "markdown",
   "metadata": {},
   "source": [
    "### Cleaning\n",
    "\n",
    "When we merge the catalogues, astropy masks the non-existent values (e.g. when a row comes only from a catalogue and has no counterparts in the other, the columns from the latest are masked for that row). We indicate to use NaN for masked values for floats columns, False for flag columns and -1 for ID columns."
   ]
  },
  {
   "cell_type": "code",
   "execution_count": 10,
   "metadata": {
    "collapsed": true
   },
   "outputs": [],
   "source": [
    "for col in master_catalogue.colnames:\n",
    "    if \"m_\" in col or \"merr_\" in col or \"f_\" in col or \"ferr_\" in col or \"stellarity\" in col:\n",
    "        master_catalogue[col] = master_catalogue[col].astype(float)\n",
    "        master_catalogue[col].fill_value = np.nan\n",
    "    elif \"flag\" in col:\n",
    "        master_catalogue[col].fill_value = 0\n",
    "    elif \"id\" in col:\n",
    "        master_catalogue[col].fill_value = -1\n",
    "        \n",
    "master_catalogue = master_catalogue.filled()"
   ]
  },
  {
   "cell_type": "code",
   "execution_count": 11,
   "metadata": {
    "collapsed": true
   },
   "outputs": [],
   "source": [
    "#Since this is not the final merged catalogue. We rename column names to make them unique\n",
    "master_catalogue['ra'].name = 'irac_ra'\n",
    "master_catalogue['dec'].name = 'irac_dec'\n",
    "master_catalogue['flag_merged'].name = 'irac_flag_merged'"
   ]
  },
  {
   "cell_type": "code",
   "execution_count": 12,
   "metadata": {},
   "outputs": [
    {
     "data": {
      "text/html": [
       "&lt;Table length=10&gt;\n",
       "<table id=\"table4769189280-479057\" class=\"table-striped table-bordered table-condensed\">\n",
       "<thead><tr><th>idx</th><th>candels_id</th><th>irac_ra</th><th>irac_dec</th><th>candels_stellarity</th><th>f_candels-irac_i1</th><th>ferr_candels-irac_i1</th><th>f_candels-irac_i2</th><th>ferr_candels-irac_i2</th><th>f_candels-irac_i3</th><th>ferr_candels-irac_i3</th><th>f_candels-irac_i4</th><th>ferr_candels-irac_i4</th><th>m_candels-irac_i1</th><th>merr_candels-irac_i1</th><th>flag_candels-irac_i1</th><th>m_candels-irac_i2</th><th>merr_candels-irac_i2</th><th>flag_candels-irac_i2</th><th>m_candels-irac_i3</th><th>merr_candels-irac_i3</th><th>flag_candels-irac_i3</th><th>m_candels-irac_i4</th><th>merr_candels-irac_i4</th><th>flag_candels-irac_i4</th><th>candels_flag_cleaned</th><th>candels_flag_gaia</th><th>irac_flag_merged</th><th>servs_intid</th><th>f_ap_servs_irac_i1</th><th>ferr_ap_servs_irac_i1</th><th>f_servs_irac_i1</th><th>ferr_servs_irac_i1</th><th>servs_stellarity_irac_i1</th><th>f_ap_servs_irac_i2</th><th>ferr_ap_servs_irac_i2</th><th>f_servs_irac_i2</th><th>ferr_servs_irac_i2</th><th>servs_stellarity_irac_i2</th><th>m_ap_servs_irac_i1</th><th>merr_ap_servs_irac_i1</th><th>m_servs_irac_i1</th><th>merr_servs_irac_i1</th><th>flag_servs_irac_i1</th><th>m_ap_servs_irac_i2</th><th>merr_ap_servs_irac_i2</th><th>m_servs_irac_i2</th><th>merr_servs_irac_i2</th><th>flag_servs_irac_i2</th><th>servs_flag_cleaned</th><th>servs_flag_gaia</th><th>swire_intid</th><th>f_ap_swire_irac_i1</th><th>ferr_ap_swire_irac_i1</th><th>f_swire_irac_i1</th><th>ferr_swire_irac_i1</th><th>swire_stellarity_irac_i1</th><th>f_ap_swire_irac_i2</th><th>ferr_ap_swire_irac_i2</th><th>f_swire_irac_i2</th><th>ferr_swire_irac_i2</th><th>swire_stellarity_irac_i2</th><th>f_ap_irac_i3</th><th>ferr_ap_irac_i3</th><th>f_irac_i3</th><th>ferr_irac_i3</th><th>swire_stellarity_irac_i3</th><th>f_ap_irac_i4</th><th>ferr_ap_irac_i4</th><th>f_irac_i4</th><th>ferr_irac_i4</th><th>swire_stellarity_irac_i4</th><th>m_ap_swire_irac_i1</th><th>merr_ap_swire_irac_i1</th><th>m_swire_irac_i1</th><th>merr_swire_irac_i1</th><th>flag_swire_irac_i1</th><th>m_ap_swire_irac_i2</th><th>merr_ap_swire_irac_i2</th><th>m_swire_irac_i2</th><th>merr_swire_irac_i2</th><th>flag_swire_irac_i2</th><th>m_ap_irac_i3</th><th>merr_ap_irac_i3</th><th>m_irac_i3</th><th>merr_irac_i3</th><th>flag_irac_i3</th><th>m_ap_irac_i4</th><th>merr_ap_irac_i4</th><th>m_irac_i4</th><th>merr_irac_i4</th><th>flag_irac_i4</th><th>swire_flag_cleaned</th><th>swire_flag_gaia</th></tr></thead>\n",
       "<thead><tr><th></th><th></th><th>deg</th><th>deg</th><th></th><th></th><th></th><th></th><th></th><th></th><th></th><th></th><th></th><th></th><th></th><th></th><th></th><th></th><th></th><th></th><th></th><th></th><th></th><th></th><th></th><th></th><th></th><th></th><th></th><th>uJy</th><th>uJy</th><th>uJy</th><th>uJy</th><th></th><th>uJy</th><th>uJy</th><th>uJy</th><th>uJy</th><th></th><th></th><th></th><th></th><th></th><th></th><th></th><th></th><th></th><th></th><th></th><th></th><th></th><th></th><th>uJy</th><th>uJy</th><th>uJy</th><th>uJy</th><th></th><th>uJy</th><th>uJy</th><th>uJy</th><th>uJy</th><th></th><th>uJy</th><th>uJy</th><th>uJy</th><th>uJy</th><th></th><th>uJy</th><th>uJy</th><th>uJy</th><th>uJy</th><th></th><th></th><th></th><th></th><th></th><th></th><th></th><th></th><th></th><th></th><th></th><th></th><th></th><th></th><th></th><th></th><th></th><th></th><th></th><th></th><th></th><th></th><th></th></tr></thead>\n",
       "<tr><td>0</td><td>35489</td><td>34.4574665693</td><td>-5.12505315973</td><td>0.810000002384</td><td>-0.0050759</td><td>0.0137912</td><td>-0.0329934</td><td>0.0183968</td><td>0.4991309</td><td>0.5398261</td><td>-0.1158999</td><td>0.6673397</td><td>nan</td><td>-2.94994092615</td><td>False</td><td>nan</td><td>-0.605395982581</td><td>False</td><td>24.6544638579</td><td>1.17425857835</td><td>False</td><td>nan</td><td>-6.25155736254</td><td>False</td><td>False</td><td>0</td><td>False</td><td>-1</td><td>nan</td><td>nan</td><td>nan</td><td>nan</td><td>nan</td><td>nan</td><td>nan</td><td>nan</td><td>nan</td><td>nan</td><td>nan</td><td>nan</td><td>nan</td><td>nan</td><td>False</td><td>nan</td><td>nan</td><td>nan</td><td>nan</td><td>False</td><td>False</td><td>0</td><td>-1</td><td>nan</td><td>nan</td><td>nan</td><td>nan</td><td>nan</td><td>nan</td><td>nan</td><td>nan</td><td>nan</td><td>nan</td><td>nan</td><td>nan</td><td>nan</td><td>nan</td><td>nan</td><td>nan</td><td>nan</td><td>nan</td><td>nan</td><td>nan</td><td>nan</td><td>nan</td><td>nan</td><td>nan</td><td>False</td><td>nan</td><td>nan</td><td>nan</td><td>nan</td><td>False</td><td>nan</td><td>nan</td><td>nan</td><td>nan</td><td>False</td><td>nan</td><td>nan</td><td>nan</td><td>nan</td><td>False</td><td>False</td><td>0</td></tr>\n",
       "<tr><td>1</td><td>27199</td><td>34.3561903693</td><td>-5.27671705973</td><td>0.980000019073</td><td>0.2334918</td><td>0.0408433</td><td>0.1624291</td><td>0.0514223</td><td>-0.6488702</td><td>1.0783935</td><td>0.4441419</td><td>1.3083811</td><td>25.4793209171</td><td>0.189921228633</td><td>False</td><td>25.8733404051</td><td>0.343725679955</td><td>False</td><td>nan</td><td>-1.80444542826</td><td>False</td><td>24.7811956347</td><td>3.19842989344</td><td>False</td><td>False</td><td>0</td><td>False</td><td>-1</td><td>nan</td><td>nan</td><td>nan</td><td>nan</td><td>nan</td><td>nan</td><td>nan</td><td>nan</td><td>nan</td><td>nan</td><td>nan</td><td>nan</td><td>nan</td><td>nan</td><td>False</td><td>nan</td><td>nan</td><td>nan</td><td>nan</td><td>False</td><td>False</td><td>0</td><td>-1</td><td>nan</td><td>nan</td><td>nan</td><td>nan</td><td>nan</td><td>nan</td><td>nan</td><td>nan</td><td>nan</td><td>nan</td><td>nan</td><td>nan</td><td>nan</td><td>nan</td><td>nan</td><td>nan</td><td>nan</td><td>nan</td><td>nan</td><td>nan</td><td>nan</td><td>nan</td><td>nan</td><td>nan</td><td>False</td><td>nan</td><td>nan</td><td>nan</td><td>nan</td><td>False</td><td>nan</td><td>nan</td><td>nan</td><td>nan</td><td>False</td><td>nan</td><td>nan</td><td>nan</td><td>nan</td><td>False</td><td>False</td><td>0</td></tr>\n",
       "<tr><td>2</td><td>72</td><td>34.4389173693</td><td>-5.27655485973</td><td>0.00999999977648</td><td>0.3079384</td><td>0.0454404</td><td>0.3070924</td><td>0.0587367</td><td>0.769</td><td>1.3464183</td><td>0.0871364</td><td>1.6068749</td><td>25.1788403777</td><td>0.160214794383</td><td>False</td><td>25.1818273286</td><td>0.207665711486</td><td>False</td><td>24.1851841505</td><td>1.90098191815</td><td>False</td><td>26.5495009668</td><td>20.0219684936</td><td>False</td><td>False</td><td>0</td><td>False</td><td>-1</td><td>nan</td><td>nan</td><td>nan</td><td>nan</td><td>nan</td><td>nan</td><td>nan</td><td>nan</td><td>nan</td><td>nan</td><td>nan</td><td>nan</td><td>nan</td><td>nan</td><td>False</td><td>nan</td><td>nan</td><td>nan</td><td>nan</td><td>False</td><td>False</td><td>0</td><td>-1</td><td>nan</td><td>nan</td><td>nan</td><td>nan</td><td>nan</td><td>nan</td><td>nan</td><td>nan</td><td>nan</td><td>nan</td><td>nan</td><td>nan</td><td>nan</td><td>nan</td><td>nan</td><td>nan</td><td>nan</td><td>nan</td><td>nan</td><td>nan</td><td>nan</td><td>nan</td><td>nan</td><td>nan</td><td>False</td><td>nan</td><td>nan</td><td>nan</td><td>nan</td><td>False</td><td>nan</td><td>nan</td><td>nan</td><td>nan</td><td>False</td><td>nan</td><td>nan</td><td>nan</td><td>nan</td><td>False</td><td>False</td><td>0</td></tr>\n",
       "<tr><td>3</td><td>29734</td><td>34.3542499693</td><td>-5.23240925973</td><td>0.829999983311</td><td>0.0084598</td><td>0.0512751</td><td>0.0998262</td><td>0.0589584</td><td>-0.4559857</td><td>1.5066038</td><td>-3.7248702</td><td>1.7440617</td><td>29.0815997602</td><td>6.58067950455</td><td>False</td><td>26.4018886512</td><td>0.641247182149</td><td>False</td><td>nan</td><td>-3.58733682194</td><td>False</td><td>nan</td><td>-0.508364272941</td><td>False</td><td>False</td><td>0</td><td>False</td><td>-1</td><td>nan</td><td>nan</td><td>nan</td><td>nan</td><td>nan</td><td>nan</td><td>nan</td><td>nan</td><td>nan</td><td>nan</td><td>nan</td><td>nan</td><td>nan</td><td>nan</td><td>False</td><td>nan</td><td>nan</td><td>nan</td><td>nan</td><td>False</td><td>False</td><td>0</td><td>-1</td><td>nan</td><td>nan</td><td>nan</td><td>nan</td><td>nan</td><td>nan</td><td>nan</td><td>nan</td><td>nan</td><td>nan</td><td>nan</td><td>nan</td><td>nan</td><td>nan</td><td>nan</td><td>nan</td><td>nan</td><td>nan</td><td>nan</td><td>nan</td><td>nan</td><td>nan</td><td>nan</td><td>nan</td><td>False</td><td>nan</td><td>nan</td><td>nan</td><td>nan</td><td>False</td><td>nan</td><td>nan</td><td>nan</td><td>nan</td><td>False</td><td>nan</td><td>nan</td><td>nan</td><td>nan</td><td>False</td><td>False</td><td>0</td></tr>\n",
       "<tr><td>4</td><td>29795</td><td>34.5105653693</td><td>-5.23129955973</td><td>0.889999985695</td><td>-0.0245336</td><td>0.0503911</td><td>0.1683509</td><td>0.0589584</td><td>0.4356821</td><td>1.7339267</td><td>-1.482165</td><td>1.6043624</td><td>nan</td><td>-2.23006169774</td><td>False</td><td>25.8344613939</td><td>0.38023716805</td><td>False</td><td>24.8020757067</td><td>4.32101065108</td><td>False</td><td>nan</td><td>-1.17524995074</td><td>False</td><td>False</td><td>0</td><td>False</td><td>-1</td><td>nan</td><td>nan</td><td>nan</td><td>nan</td><td>nan</td><td>nan</td><td>nan</td><td>nan</td><td>nan</td><td>nan</td><td>nan</td><td>nan</td><td>nan</td><td>nan</td><td>False</td><td>nan</td><td>nan</td><td>nan</td><td>nan</td><td>False</td><td>False</td><td>0</td><td>-1</td><td>nan</td><td>nan</td><td>nan</td><td>nan</td><td>nan</td><td>nan</td><td>nan</td><td>nan</td><td>nan</td><td>nan</td><td>nan</td><td>nan</td><td>nan</td><td>nan</td><td>nan</td><td>nan</td><td>nan</td><td>nan</td><td>nan</td><td>nan</td><td>nan</td><td>nan</td><td>nan</td><td>nan</td><td>False</td><td>nan</td><td>nan</td><td>nan</td><td>nan</td><td>False</td><td>nan</td><td>nan</td><td>nan</td><td>nan</td><td>False</td><td>nan</td><td>nan</td><td>nan</td><td>nan</td><td>False</td><td>False</td><td>0</td></tr>\n",
       "<tr><td>5</td><td>29791</td><td>34.4299348693</td><td>-5.23140595973</td><td>0.730000019073</td><td>-0.0998262</td><td>0.0514519</td><td>0.000846</td><td>0.05918</td><td>3.8086226</td><td>1.2158153</td><td>0.4356821</td><td>2.1613164</td><td>nan</td><td>-0.559604498955</td><td>False</td><td>31.5815740924</td><td>75.9501992879</td><td>False</td><td>22.4480801496</td><td>0.346596349428</td><td>False</td><td>24.8020757067</td><td>5.38608188268</td><td>False</td><td>False</td><td>0</td><td>False</td><td>-1</td><td>nan</td><td>nan</td><td>nan</td><td>nan</td><td>nan</td><td>nan</td><td>nan</td><td>nan</td><td>nan</td><td>nan</td><td>nan</td><td>nan</td><td>nan</td><td>nan</td><td>False</td><td>nan</td><td>nan</td><td>nan</td><td>nan</td><td>False</td><td>False</td><td>0</td><td>-1</td><td>nan</td><td>nan</td><td>nan</td><td>nan</td><td>nan</td><td>nan</td><td>nan</td><td>nan</td><td>nan</td><td>nan</td><td>nan</td><td>nan</td><td>nan</td><td>nan</td><td>nan</td><td>nan</td><td>nan</td><td>nan</td><td>nan</td><td>nan</td><td>nan</td><td>nan</td><td>nan</td><td>nan</td><td>False</td><td>nan</td><td>nan</td><td>nan</td><td>nan</td><td>False</td><td>nan</td><td>nan</td><td>nan</td><td>nan</td><td>False</td><td>nan</td><td>nan</td><td>nan</td><td>nan</td><td>False</td><td>False</td><td>0</td></tr>\n",
       "<tr><td>6</td><td>8057</td><td>34.5051666693</td><td>-5.23047325973</td><td>0.0799999982119</td><td>0.2622552</td><td>0.0498606</td><td>0.1717349</td><td>0.05918</td><td>0.4001507</td><td>1.7827061</td><td>-0.3967668</td><td>1.4845964</td><td>25.3531897296</td><td>0.206422822544</td><td>False</td><td>25.8128535962</td><td>0.374145666359</td><td>False</td><td>24.8944410476</td><td>4.83704902981</td><td>False</td><td>nan</td><td>-4.06253764411</td><td>False</td><td>False</td><td>0</td><td>False</td><td>-1</td><td>nan</td><td>nan</td><td>nan</td><td>nan</td><td>nan</td><td>nan</td><td>nan</td><td>nan</td><td>nan</td><td>nan</td><td>nan</td><td>nan</td><td>nan</td><td>nan</td><td>False</td><td>nan</td><td>nan</td><td>nan</td><td>nan</td><td>False</td><td>False</td><td>0</td><td>-1</td><td>nan</td><td>nan</td><td>nan</td><td>nan</td><td>nan</td><td>nan</td><td>nan</td><td>nan</td><td>nan</td><td>nan</td><td>nan</td><td>nan</td><td>nan</td><td>nan</td><td>nan</td><td>nan</td><td>nan</td><td>nan</td><td>nan</td><td>nan</td><td>nan</td><td>nan</td><td>nan</td><td>nan</td><td>False</td><td>nan</td><td>nan</td><td>nan</td><td>nan</td><td>False</td><td>nan</td><td>nan</td><td>nan</td><td>nan</td><td>False</td><td>nan</td><td>nan</td><td>nan</td><td>nan</td><td>False</td><td>False</td><td>0</td></tr>\n",
       "<tr><td>7</td><td>34215</td><td>34.4212012693</td><td>-5.15455295973</td><td>0.910000026226</td><td>-0.0363773</td><td>0.0505679</td><td>0.1133619</td><td>0.0594017</td><td>-1.5566117</td><td>1.1297956</td><td>-0.494901</td><td>1.7403766</td><td>nan</td><td>-1.50927638468</td><td>False</td><td>26.2638322093</td><td>0.568926388091</td><td>False</td><td>nan</td><td>-0.788032100039</td><td>False</td><td>nan</td><td>-3.81811692547</td><td>False</td><td>False</td><td>0</td><td>False</td><td>-1</td><td>nan</td><td>nan</td><td>nan</td><td>nan</td><td>nan</td><td>nan</td><td>nan</td><td>nan</td><td>nan</td><td>nan</td><td>nan</td><td>nan</td><td>nan</td><td>nan</td><td>False</td><td>nan</td><td>nan</td><td>nan</td><td>nan</td><td>False</td><td>False</td><td>0</td><td>-1</td><td>nan</td><td>nan</td><td>nan</td><td>nan</td><td>nan</td><td>nan</td><td>nan</td><td>nan</td><td>nan</td><td>nan</td><td>nan</td><td>nan</td><td>nan</td><td>nan</td><td>nan</td><td>nan</td><td>nan</td><td>nan</td><td>nan</td><td>nan</td><td>nan</td><td>nan</td><td>nan</td><td>nan</td><td>False</td><td>nan</td><td>nan</td><td>nan</td><td>nan</td><td>False</td><td>nan</td><td>nan</td><td>nan</td><td>nan</td><td>False</td><td>nan</td><td>nan</td><td>nan</td><td>nan</td><td>False</td><td>False</td><td>0</td></tr>\n",
       "<tr><td>8</td><td>29842</td><td>34.3557057693</td><td>-5.23030265973</td><td>0.810000002384</td><td>0.4779813</td><td>0.0516288</td><td>0.4449879</td><td>0.0594017</td><td>-0.6184148</td><td>1.4218428</td><td>-0.8087612</td><td>1.7214483</td><td>24.7014727348</td><td>0.117275000859</td><td>False</td><td>24.7791294952</td><td>0.144935573111</td><td>False</td><td>nan</td><td>-2.49629569899</td><td>False</td><td>nan</td><td>-2.31098962701</td><td>False</td><td>False</td><td>0</td><td>False</td><td>-1</td><td>nan</td><td>nan</td><td>nan</td><td>nan</td><td>nan</td><td>nan</td><td>nan</td><td>nan</td><td>nan</td><td>nan</td><td>nan</td><td>nan</td><td>nan</td><td>nan</td><td>False</td><td>nan</td><td>nan</td><td>nan</td><td>nan</td><td>False</td><td>False</td><td>0</td><td>-1</td><td>nan</td><td>nan</td><td>nan</td><td>nan</td><td>nan</td><td>nan</td><td>nan</td><td>nan</td><td>nan</td><td>nan</td><td>nan</td><td>nan</td><td>nan</td><td>nan</td><td>nan</td><td>nan</td><td>nan</td><td>nan</td><td>nan</td><td>nan</td><td>nan</td><td>nan</td><td>nan</td><td>nan</td><td>False</td><td>nan</td><td>nan</td><td>nan</td><td>nan</td><td>False</td><td>nan</td><td>nan</td><td>nan</td><td>nan</td><td>False</td><td>nan</td><td>nan</td><td>nan</td><td>nan</td><td>False</td><td>False</td><td>0</td></tr>\n",
       "<tr><td>9</td><td>7713</td><td>34.4335831693</td><td>-5.23246385973</td><td>0.370000004768</td><td>-0.1514312</td><td>0.0518056</td><td>-0.0905204</td><td>0.0594017</td><td>0.4864412</td><td>1.2807498</td><td>2.1860242</td><td>2.1521039</td><td>nan</td><td>-0.371437428543</td><td>False</td><td>nan</td><td>-0.712486647365</td><td>False</td><td>24.6824241221</td><td>2.85863209592</td><td>False</td><td>23.0508625864</td><td>1.06888895403</td><td>False</td><td>False</td><td>0</td><td>False</td><td>-1</td><td>nan</td><td>nan</td><td>nan</td><td>nan</td><td>nan</td><td>nan</td><td>nan</td><td>nan</td><td>nan</td><td>nan</td><td>nan</td><td>nan</td><td>nan</td><td>nan</td><td>False</td><td>nan</td><td>nan</td><td>nan</td><td>nan</td><td>False</td><td>False</td><td>0</td><td>-1</td><td>nan</td><td>nan</td><td>nan</td><td>nan</td><td>nan</td><td>nan</td><td>nan</td><td>nan</td><td>nan</td><td>nan</td><td>nan</td><td>nan</td><td>nan</td><td>nan</td><td>nan</td><td>nan</td><td>nan</td><td>nan</td><td>nan</td><td>nan</td><td>nan</td><td>nan</td><td>nan</td><td>nan</td><td>False</td><td>nan</td><td>nan</td><td>nan</td><td>nan</td><td>False</td><td>nan</td><td>nan</td><td>nan</td><td>nan</td><td>False</td><td>nan</td><td>nan</td><td>nan</td><td>nan</td><td>False</td><td>False</td><td>0</td></tr>\n",
       "</table><style>table.dataTable {clear: both; width: auto !important; margin: 0 !important;}\n",
       ".dataTables_info, .dataTables_length, .dataTables_filter, .dataTables_paginate{\n",
       "display: inline-block; margin-right: 1em; }\n",
       ".paginate_button { margin-right: 5px; }\n",
       "</style>\n",
       "<script>\n",
       "\n",
       "var astropy_sort_num = function(a, b) {\n",
       "    var a_num = parseFloat(a);\n",
       "    var b_num = parseFloat(b);\n",
       "\n",
       "    if (isNaN(a_num) && isNaN(b_num))\n",
       "        return ((a < b) ? -1 : ((a > b) ? 1 : 0));\n",
       "    else if (!isNaN(a_num) && !isNaN(b_num))\n",
       "        return ((a_num < b_num) ? -1 : ((a_num > b_num) ? 1 : 0));\n",
       "    else\n",
       "        return isNaN(a_num) ? -1 : 1;\n",
       "}\n",
       "\n",
       "require.config({paths: {\n",
       "    datatables: 'https://cdn.datatables.net/1.10.12/js/jquery.dataTables.min'\n",
       "}});\n",
       "require([\"datatables\"], function(){\n",
       "    console.log(\"$('#table4769189280-479057').dataTable()\");\n",
       "    \n",
       "jQuery.extend( jQuery.fn.dataTableExt.oSort, {\n",
       "    \"optionalnum-asc\": astropy_sort_num,\n",
       "    \"optionalnum-desc\": function (a,b) { return -astropy_sort_num(a, b); }\n",
       "});\n",
       "\n",
       "    $('#table4769189280-479057').dataTable({\n",
       "        order: [],\n",
       "        pageLength: 50,\n",
       "        lengthMenu: [[10, 25, 50, 100, 500, 1000, -1], [10, 25, 50, 100, 500, 1000, 'All']],\n",
       "        pagingType: \"full_numbers\",\n",
       "        columnDefs: [{targets: [0, 1, 2, 3, 4, 5, 6, 7, 8, 9, 10, 11, 12, 13, 14, 16, 17, 19, 20, 22, 23, 26, 28, 29, 30, 31, 32, 33, 34, 35, 36, 37, 38, 39, 40, 41, 42, 44, 45, 46, 47, 50, 51, 52, 53, 54, 55, 56, 57, 58, 59, 60, 61, 62, 63, 64, 65, 66, 67, 68, 69, 70, 71, 72, 73, 74, 75, 77, 78, 79, 80, 82, 83, 84, 85, 87, 88, 89, 90, 93], type: \"optionalnum\"}]\n",
       "    });\n",
       "});\n",
       "</script>\n"
      ],
      "text/plain": [
       "<IPython.core.display.HTML object>"
      ]
     },
     "execution_count": 12,
     "metadata": {},
     "output_type": "execute_result"
    }
   ],
   "source": [
    "master_catalogue[:10].show_in_notebook()"
   ]
  },
  {
   "cell_type": "code",
   "execution_count": 13,
   "metadata": {
    "collapsed": true
   },
   "outputs": [],
   "source": [
    "master_catalogue.add_column(Column(data=(np.char.array(master_catalogue['servs_intid'].astype(str)) \n",
    "                                    +  np.char.array(master_catalogue['swire_intid'].astype(str) )\n",
    "                                         +  np.char.array(master_catalogue['candels_id'].astype(str) )), \n",
    "                              name=\"irac_intid\"))"
   ]
  },
  {
   "cell_type": "code",
   "execution_count": 14,
   "metadata": {},
   "outputs": [
    {
     "name": "stdout",
     "output_type": "stream",
     "text": [
      "['candels_id', 'servs_intid', 'swire_intid', 'irac_intid']\n"
     ]
    }
   ],
   "source": [
    "id_names = []\n",
    "for col in master_catalogue.colnames:\n",
    "    if '_id' in col:\n",
    "        id_names += [col]\n",
    "    if '_intid' in col:\n",
    "        id_names += [col]\n",
    "        \n",
    "print(id_names)"
   ]
  },
  {
   "cell_type": "markdown",
   "metadata": {},
   "source": [
    "## VII - Choosing between multiple values for the same filter\n",
    "\n"
   ]
  },
  {
   "cell_type": "markdown",
   "metadata": {},
   "source": [
    "### VII.a SERVS and SWIRE IRAC fluxes\n",
    "\n",
    "Both SERVS and SWIRE provide IRAC1 and IRAC2 fluxes. SERVS is deeper but tends to under-estimate flux of bright sources (Mattia said over 2000 µJy) as illustrated by this comparison of SWIRE, SERVS, and Spitzer-EIP fluxes. we include CANDELS fluxes where no other flux is available. CANDELS includes all four IRAC bands."
   ]
  },
  {
   "cell_type": "code",
   "execution_count": 15,
   "metadata": {
    "collapsed": true
   },
   "outputs": [],
   "source": [
    "seip = Table.read(\"../../dmu0/dmu0_SEIP/data/SEIP_XMM-LSS.fits\")\n",
    "seip_coords = SkyCoord(seip['ra'], seip['dec'])\n",
    "idx, d2d, _ = seip_coords.match_to_catalog_sky(SkyCoord(master_catalogue['irac_ra'], master_catalogue['irac_dec']))\n",
    "mask = d2d <= 2 * u.arcsec"
   ]
  },
  {
   "cell_type": "code",
   "execution_count": 16,
   "metadata": {},
   "outputs": [
    {
     "data": {
      "image/png": "[encoded data removed]",
      "text/plain": [
       "<matplotlib.figure.Figure at 0x119d0bb00>"
      ]
     },
     "metadata": {},
     "output_type": "display_data"
    }
   ],
   "source": [
    "fig, ax = plt.subplots()\n",
    "ax.scatter(seip['i1_f_ap1'][mask], master_catalogue[idx[mask]]['f_ap_servs_irac_i1'], label=\"SERVS\", s=2.)\n",
    "ax.scatter(seip['i1_f_ap1'][mask], master_catalogue[idx[mask]]['f_ap_swire_irac_i1'], label=\"SWIRE\", s=2.)\n",
    "ax.set_xscale('log')\n",
    "ax.set_yscale('log')\n",
    "ax.set_xlabel(\"SEIP flux [μJy]\")\n",
    "ax.set_ylabel(\"SERVS/SWIRE flux [μJy]\")\n",
    "ax.set_title(\"IRAC 1\")\n",
    "ax.legend()\n",
    "ax.axvline(2000, color=\"black\", linestyle=\"--\", linewidth=1.)\n",
    "ax.plot(seip['i1_f_ap1'][mask], seip['i1_f_ap1'][mask], linewidth=.1, color=\"black\", alpha=.5);"
   ]
  },
  {
   "cell_type": "code",
   "execution_count": 17,
   "metadata": {},
   "outputs": [
    {
     "data": {
      "image/png": "[encoded data removed]",
      "text/plain": [
       "<matplotlib.figure.Figure at 0x11ae37438>"
      ]
     },
     "metadata": {},
     "output_type": "display_data"
    }
   ],
   "source": [
    "fig, ax = plt.subplots()\n",
    "ax.scatter(seip['i2_f_ap1'][mask], master_catalogue[idx[mask]]['f_ap_servs_irac_i2'], label=\"SERVS\", s=2.)\n",
    "ax.scatter(seip['i2_f_ap1'][mask], master_catalogue[idx[mask]]['f_ap_swire_irac_i2'], label=\"SWIRE\", s=2.)\n",
    "ax.set_xscale('log')\n",
    "ax.set_yscale('log')\n",
    "ax.set_xlabel(\"SEIP flux [μJy]\")\n",
    "ax.set_ylabel(\"SERVS/SWIRE flux [μJy]\")\n",
    "ax.set_title(\"IRAC 2\")\n",
    "ax.legend()\n",
    "ax.axvline(2000, color=\"black\", linestyle=\"--\", linewidth=1.)\n",
    "\n",
    "ax.plot(seip['i1_f_ap2'][mask], seip['i1_f_ap2'][mask], linewidth=.1, color=\"black\", alpha=.5);"
   ]
  },
  {
   "cell_type": "markdown",
   "metadata": {},
   "source": [
    "When both SWIRE and SERVS fluxes are provided, we use the SERVS flux below 2000 μJy and the SWIRE flux over.\n",
    "\n",
    "We create a table indicating for each source the origin on the IRAC1 and IRAC2 fluxes that will be saved separately."
   ]
  },
  {
   "cell_type": "code",
   "execution_count": 18,
   "metadata": {
    "collapsed": true
   },
   "outputs": [],
   "source": [
    "irac_origin = Table()\n",
    "irac_origin.add_column(master_catalogue['irac_intid'])"
   ]
  },
  {
   "cell_type": "code",
   "execution_count": 19,
   "metadata": {},
   "outputs": [
    {
     "name": "stdout",
     "output_type": "stream",
     "text": [
      "1776 sources with SERVS flux\n",
      "735 sources with SWIRE flux\n",
      "660 sources with SERVS and SWIRE flux\n",
      "1775 sources for which we use SERVS\n",
      "76 sources for which we use SWIRE\n"
     ]
    }
   ],
   "source": [
    "# IRAC1 aperture flux and magnitudes\n",
    "has_servs = ~np.isnan(master_catalogue['f_ap_servs_irac_i1'])\n",
    "has_swire = ~np.isnan(master_catalogue['f_ap_swire_irac_i1'])\n",
    "has_both = has_servs & has_swire\n",
    "\n",
    "print(\"{} sources with SERVS flux\".format(np.sum(has_servs)))\n",
    "print(\"{} sources with SWIRE flux\".format(np.sum(has_swire)))\n",
    "print(\"{} sources with SERVS and SWIRE flux\".format(np.sum(has_both)))\n",
    "\n",
    "has_servs_above_limit = has_servs.copy()\n",
    "has_servs_above_limit[has_servs] = master_catalogue['f_ap_servs_irac_i1'][has_servs] > 2000\n",
    "\n",
    "use_swire = (has_swire & ~has_servs) | (has_both & has_servs_above_limit)\n",
    "use_servs = (has_servs & ~(has_both & has_servs_above_limit))\n",
    "\n",
    "print(\"{} sources for which we use SERVS\".format(np.sum(use_servs)))\n",
    "print(\"{} sources for which we use SWIRE\".format(np.sum(use_swire)))\n",
    "\n",
    "f_ap_irac_i = np.full(len(master_catalogue), np.nan)\n",
    "f_ap_irac_i[use_servs] = master_catalogue['f_ap_servs_irac_i1'][use_servs]\n",
    "f_ap_irac_i[use_swire] = master_catalogue['f_ap_swire_irac_i1'][use_swire]\n",
    "\n",
    "ferr_ap_irac_i = np.full(len(master_catalogue), np.nan)\n",
    "ferr_ap_irac_i[use_servs] = master_catalogue['ferr_ap_servs_irac_i1'][use_servs]\n",
    "ferr_ap_irac_i[use_swire] = master_catalogue['ferr_ap_swire_irac_i1'][use_swire]\n",
    "\n",
    "m_ap_irac_i = np.full(len(master_catalogue), np.nan)\n",
    "m_ap_irac_i[use_servs] = master_catalogue['m_ap_servs_irac_i1'][use_servs]\n",
    "m_ap_irac_i[use_swire] = master_catalogue['m_ap_swire_irac_i1'][use_swire]\n",
    "\n",
    "merr_ap_irac_i = np.full(len(master_catalogue), np.nan)\n",
    "merr_ap_irac_i[use_servs] = master_catalogue['merr_ap_servs_irac_i1'][use_servs]\n",
    "merr_ap_irac_i[use_swire] = master_catalogue['merr_ap_swire_irac_i1'][use_swire]\n",
    "\n",
    "master_catalogue.add_column(Column(data=f_ap_irac_i, name=\"f_ap_irac_i1\"))\n",
    "master_catalogue.add_column(Column(data=ferr_ap_irac_i, name=\"ferr_ap_irac_i1\"))\n",
    "master_catalogue.add_column(Column(data=m_ap_irac_i, name=\"m_ap_irac_i1\"))\n",
    "master_catalogue.add_column(Column(data=merr_ap_irac_i, name=\"merr_ap_irac_i1\"))\n",
    "\n",
    "master_catalogue.remove_columns(['f_ap_servs_irac_i1', 'f_ap_swire_irac_i1', 'ferr_ap_servs_irac_i1',\n",
    "                                     'ferr_ap_swire_irac_i1', 'm_ap_servs_irac_i1', 'm_ap_swire_irac_i1',\n",
    "                                     'merr_ap_servs_irac_i1', 'merr_ap_swire_irac_i1'])\n",
    "\n",
    "origin = np.full(len(master_catalogue), '     ', dtype='<U5')\n",
    "origin[use_servs] = \"SERVS\"\n",
    "origin[use_swire] = \"SWIRE\"\n",
    "irac_origin.add_column(Column(data=origin, name=\"IRAC1_app\"))"
   ]
  },
  {
   "cell_type": "code",
   "execution_count": 20,
   "metadata": {},
   "outputs": [
    {
     "name": "stdout",
     "output_type": "stream",
     "text": [
      "1776 sources with SERVS flux\n",
      "735 sources with SWIRE flux\n",
      "660 sources with SERVS and SWIRE flux\n",
      "35931 sources with CANDELS flux\n",
      "1775 sources for which we use SERVS\n",
      "76 sources for which we use SWIRE\n",
      "35931 sources for which we use CANDELS\n"
     ]
    }
   ],
   "source": [
    "# IRAC1 total flux and magnitudes\n",
    "has_servs = ~np.isnan(master_catalogue['f_servs_irac_i1'])\n",
    "has_swire = ~np.isnan(master_catalogue['f_swire_irac_i1'])\n",
    "has_both = has_servs & has_swire\n",
    "has_candels = ~np.isnan(master_catalogue['f_candels-irac_i1'])\n",
    "\n",
    "print(\"{} sources with SERVS flux\".format(np.sum(has_servs)))\n",
    "print(\"{} sources with SWIRE flux\".format(np.sum(has_swire)))\n",
    "print(\"{} sources with SERVS and SWIRE flux\".format(np.sum(has_both)))\n",
    "print(\"{} sources with CANDELS flux\".format(np.sum(has_candels)))\n",
    "\n",
    "has_servs_above_limit = has_servs.copy()\n",
    "has_servs_above_limit[has_servs] = master_catalogue['f_servs_irac_i1'][has_servs] > 2000\n",
    "\n",
    "use_swire = (has_swire & ~has_servs) | (has_both & has_servs_above_limit)\n",
    "use_servs = (has_servs & ~(has_both & has_servs_above_limit))\n",
    "use_candels = has_candels & ~has_servs & ~has_swire\n",
    "\n",
    "print(\"{} sources for which we use SERVS\".format(np.sum(use_servs)))\n",
    "print(\"{} sources for which we use SWIRE\".format(np.sum(use_swire)))\n",
    "print(\"{} sources for which we use CANDELS\".format(np.sum(use_candels)))\n",
    "\n",
    "f_irac_i = np.full(len(master_catalogue), np.nan)\n",
    "f_irac_i[use_servs] = master_catalogue['f_servs_irac_i1'][use_servs]\n",
    "f_irac_i[use_swire] = master_catalogue['f_swire_irac_i1'][use_swire]\n",
    "f_irac_i[use_candels] = master_catalogue['f_candels-irac_i1'][use_candels]\n",
    "\n",
    "ferr_irac_i = np.full(len(master_catalogue), np.nan)\n",
    "ferr_irac_i[use_servs] = master_catalogue['ferr_servs_irac_i1'][use_servs]\n",
    "ferr_irac_i[use_swire] = master_catalogue['ferr_swire_irac_i1'][use_swire]\n",
    "ferr_irac_i[use_candels] = master_catalogue['ferr_candels-irac_i1'][use_candels]\n",
    "\n",
    "flag_irac_i = np.full(len(master_catalogue), False, dtype=bool)\n",
    "flag_irac_i[use_servs] = master_catalogue['flag_servs_irac_i1'][use_servs]\n",
    "flag_irac_i[use_swire] = master_catalogue['flag_swire_irac_i1'][use_swire]\n",
    "flag_irac_i[use_candels] = master_catalogue['flag_candels-irac_i1'][use_candels]\n",
    "\n",
    "m_irac_i = np.full(len(master_catalogue), np.nan)\n",
    "m_irac_i[use_servs] = master_catalogue['m_servs_irac_i1'][use_servs]\n",
    "m_irac_i[use_swire] = master_catalogue['m_swire_irac_i1'][use_swire]\n",
    "m_irac_i[use_candels] = master_catalogue['m_candels-irac_i1'][use_candels]\n",
    "\n",
    "merr_irac_i = np.full(len(master_catalogue), np.nan)\n",
    "merr_irac_i[use_servs] = master_catalogue['merr_servs_irac_i1'][use_servs]\n",
    "merr_irac_i[use_swire] = master_catalogue['merr_swire_irac_i1'][use_swire]\n",
    "merr_irac_i[use_candels] = master_catalogue['merr_candels-irac_i1'][use_candels]\n",
    "\n",
    "master_catalogue.add_column(Column(data=f_irac_i, name=\"f_irac_i1\"))\n",
    "master_catalogue.add_column(Column(data=ferr_irac_i, name=\"ferr_irac_i1\"))\n",
    "master_catalogue.add_column(Column(data=m_irac_i, name=\"m_irac_i1\"))\n",
    "master_catalogue.add_column(Column(data=merr_irac_i, name=\"merr_irac_i1\"))\n",
    "master_catalogue.add_column(Column(data=flag_irac_i, name=\"flag_irac_i1\"))\n",
    "\n",
    "master_catalogue.remove_columns(['f_servs_irac_i1', 'f_swire_irac_i1', 'f_candels-irac_i1',\n",
    "                                 'ferr_servs_irac_i1','ferr_swire_irac_i1', 'ferr_candels-irac_i1',\n",
    "                                 'm_servs_irac_i1', 'm_swire_irac_i1', 'm_candels-irac_i1',\n",
    "                                 'merr_servs_irac_i1', 'merr_swire_irac_i1', 'merr_candels-irac_i1', \n",
    "                                 'flag_servs_irac_i1', 'flag_swire_irac_i1', 'flag_candels-irac_i1'])\n",
    "\n",
    "origin = np.full(len(master_catalogue), '     ', dtype='<U5')\n",
    "origin[use_servs] = \"SERVS\"\n",
    "origin[use_swire] = \"SWIRE\"\n",
    "origin[use_candels] = \"CANDELS\"\n",
    "irac_origin.add_column(Column(data=origin, name=\"IRAC1_total\"))"
   ]
  },
  {
   "cell_type": "code",
   "execution_count": 21,
   "metadata": {},
   "outputs": [
    {
     "name": "stdout",
     "output_type": "stream",
     "text": [
      "1856 sources with SERVS flux\n",
      "507 sources with SWIRE flux\n",
      "486 sources with SERVS and SWIRE flux\n",
      "1855 sources for which we use SERVS\n",
      "22 sources for which we use SWIRE\n"
     ]
    }
   ],
   "source": [
    "# IRAC2 aperture flux and magnitudes\n",
    "has_servs = ~np.isnan(master_catalogue['f_ap_servs_irac_i2'])\n",
    "has_swire = ~np.isnan(master_catalogue['f_ap_swire_irac_i2'])\n",
    "has_both = has_servs & has_swire\n",
    "\n",
    "print(\"{} sources with SERVS flux\".format(np.sum(has_servs)))\n",
    "print(\"{} sources with SWIRE flux\".format(np.sum(has_swire)))\n",
    "print(\"{} sources with SERVS and SWIRE flux\".format(np.sum(has_both)))\n",
    "\n",
    "has_servs_above_limit = has_servs.copy()\n",
    "has_servs_above_limit[has_servs] = master_catalogue['f_ap_servs_irac_i2'][has_servs] > 2000\n",
    "\n",
    "use_swire = (has_swire & ~has_servs) | (has_both & has_servs_above_limit)\n",
    "use_servs = (has_servs & ~(has_both & has_servs_above_limit))\n",
    "\n",
    "print(\"{} sources for which we use SERVS\".format(np.sum(use_servs)))\n",
    "print(\"{} sources for which we use SWIRE\".format(np.sum(use_swire)))\n",
    "\n",
    "f_ap_irac_i = np.full(len(master_catalogue), np.nan)\n",
    "f_ap_irac_i[use_servs] = master_catalogue['f_ap_servs_irac_i2'][use_servs]\n",
    "f_ap_irac_i[use_swire] = master_catalogue['f_ap_swire_irac_i2'][use_swire]\n",
    "\n",
    "ferr_ap_irac_i = np.full(len(master_catalogue), np.nan)\n",
    "ferr_ap_irac_i[use_servs] = master_catalogue['ferr_ap_servs_irac_i2'][use_servs]\n",
    "ferr_ap_irac_i[use_swire] = master_catalogue['ferr_ap_swire_irac_i2'][use_swire]\n",
    "\n",
    "m_ap_irac_i = np.full(len(master_catalogue), np.nan)\n",
    "m_ap_irac_i[use_servs] = master_catalogue['m_ap_servs_irac_i2'][use_servs]\n",
    "m_ap_irac_i[use_swire] = master_catalogue['m_ap_swire_irac_i2'][use_swire]\n",
    "\n",
    "merr_ap_irac_i = np.full(len(master_catalogue), np.nan)\n",
    "merr_ap_irac_i[use_servs] = master_catalogue['merr_ap_servs_irac_i2'][use_servs]\n",
    "merr_ap_irac_i[use_swire] = master_catalogue['merr_ap_swire_irac_i2'][use_swire]\n",
    "\n",
    "master_catalogue.add_column(Column(data=f_ap_irac_i, name=\"f_ap_irac_i2\"))\n",
    "master_catalogue.add_column(Column(data=ferr_ap_irac_i, name=\"ferr_ap_irac_i2\"))\n",
    "master_catalogue.add_column(Column(data=m_ap_irac_i, name=\"m_ap_irac_i2\"))\n",
    "master_catalogue.add_column(Column(data=merr_ap_irac_i, name=\"merr_ap_irac_i2\"))\n",
    "\n",
    "master_catalogue.remove_columns(['f_ap_servs_irac_i2', 'f_ap_swire_irac_i2', 'ferr_ap_servs_irac_i2',\n",
    "                                 'ferr_ap_swire_irac_i2', 'm_ap_servs_irac_i2', 'm_ap_swire_irac_i2',\n",
    "                                 'merr_ap_servs_irac_i2', 'merr_ap_swire_irac_i2'])\n",
    "\n",
    "origin = np.full(len(master_catalogue), '     ', dtype='<U5')\n",
    "origin[use_servs] = \"SERVS\"\n",
    "origin[use_swire] = \"SWIRE\"\n",
    "irac_origin.add_column(Column(data=origin, name=\"IRAC2_app\"))"
   ]
  },
  {
   "cell_type": "code",
   "execution_count": 22,
   "metadata": {},
   "outputs": [
    {
     "name": "stdout",
     "output_type": "stream",
     "text": [
      "1856 sources with SERVS flux\n",
      "507 sources with SWIRE flux\n",
      "486 sources with SERVS and SWIRE flux\n",
      "35931 sources with CANDELS flux\n",
      "1855 sources for which we use SERVS\n",
      "22 sources for which we use SWIRE\n",
      "35931 sources for which we use CANDELS\n"
     ]
    }
   ],
   "source": [
    "# IRAC2 total flux and magnitudes\n",
    "has_servs = ~np.isnan(master_catalogue['f_servs_irac_i2'])\n",
    "has_swire = ~np.isnan(master_catalogue['f_swire_irac_i2'])\n",
    "has_both = has_servs & has_swire\n",
    "has_candels = ~np.isnan(master_catalogue['f_candels-irac_i2'])\n",
    "\n",
    "print(\"{} sources with SERVS flux\".format(np.sum(has_servs)))\n",
    "print(\"{} sources with SWIRE flux\".format(np.sum(has_swire)))\n",
    "print(\"{} sources with SERVS and SWIRE flux\".format(np.sum(has_both)))\n",
    "print(\"{} sources with CANDELS flux\".format(np.sum(has_candels)))\n",
    "\n",
    "has_servs_above_limit = has_servs.copy()\n",
    "has_servs_above_limit[has_servs] = master_catalogue['f_servs_irac_i2'][has_servs] > 2000\n",
    "\n",
    "use_swire = (has_swire & ~has_servs) | (has_both & has_servs_above_limit)\n",
    "use_servs = (has_servs & ~(has_both & has_servs_above_limit))\n",
    "use_candels = has_candels & ~has_servs & ~has_swire\n",
    "\n",
    "print(\"{} sources for which we use SERVS\".format(np.sum(use_servs)))\n",
    "print(\"{} sources for which we use SWIRE\".format(np.sum(use_swire)))\n",
    "print(\"{} sources for which we use CANDELS\".format(np.sum(use_candels)))\n",
    "\n",
    "f_irac_i = np.full(len(master_catalogue), np.nan)\n",
    "f_irac_i[use_servs] = master_catalogue['f_servs_irac_i2'][use_servs]\n",
    "f_irac_i[use_swire] = master_catalogue['f_swire_irac_i2'][use_swire]\n",
    "f_irac_i[use_candels] = master_catalogue['f_candels-irac_i2'][use_candels]\n",
    "\n",
    "ferr_irac_i = np.full(len(master_catalogue), np.nan)\n",
    "ferr_irac_i[use_servs] = master_catalogue['ferr_servs_irac_i2'][use_servs]\n",
    "ferr_irac_i[use_swire] = master_catalogue['ferr_swire_irac_i2'][use_swire]\n",
    "ferr_irac_i[use_candels] = master_catalogue['ferr_candels-irac_i2'][use_candels]\n",
    "\n",
    "flag_irac_i = np.full(len(master_catalogue), False, dtype=bool)\n",
    "flag_irac_i[use_servs] = master_catalogue['flag_servs_irac_i2'][use_servs]\n",
    "flag_irac_i[use_swire] = master_catalogue['flag_swire_irac_i2'][use_swire]\n",
    "flag_irac_i[use_candels] = master_catalogue['flag_candels-irac_i2'][use_candels]\n",
    "\n",
    "m_irac_i = np.full(len(master_catalogue), np.nan)\n",
    "m_irac_i[use_servs] = master_catalogue['m_servs_irac_i2'][use_servs]\n",
    "m_irac_i[use_swire] = master_catalogue['m_swire_irac_i2'][use_swire]\n",
    "m_irac_i[use_candels] = master_catalogue['m_candels-irac_i2'][use_candels]\n",
    "\n",
    "merr_irac_i = np.full(len(master_catalogue), np.nan)\n",
    "merr_irac_i[use_servs] = master_catalogue['merr_servs_irac_i2'][use_servs]\n",
    "merr_irac_i[use_swire] = master_catalogue['merr_swire_irac_i2'][use_swire]\n",
    "merr_irac_i[use_candels] = master_catalogue['merr_candels-irac_i2'][use_candels]\n",
    "\n",
    "master_catalogue.add_column(Column(data=f_irac_i, name=\"f_irac_i2\"))\n",
    "master_catalogue.add_column(Column(data=ferr_irac_i, name=\"ferr_irac_i2\"))\n",
    "master_catalogue.add_column(Column(data=m_irac_i, name=\"m_irac_i2\"))\n",
    "master_catalogue.add_column(Column(data=merr_irac_i, name=\"merr_irac_i2\"))\n",
    "master_catalogue.add_column(Column(data=flag_irac_i, name=\"flag_irac_i2\"))\n",
    "\n",
    "master_catalogue.remove_columns(['f_servs_irac_i2', 'f_swire_irac_i2', 'f_candels-irac_i2',\n",
    "                                 'ferr_servs_irac_i2','ferr_swire_irac_i2', 'ferr_candels-irac_i2',\n",
    "                                 'm_servs_irac_i2', 'm_swire_irac_i2', 'm_candels-irac_i2',\n",
    "                                 'merr_servs_irac_i2', 'merr_swire_irac_i2', 'merr_candels-irac_i2', \n",
    "                                 'flag_servs_irac_i2', 'flag_swire_irac_i2', 'flag_candels-irac_i2'])\n",
    "\n",
    "origin = np.full(len(master_catalogue), '     ', dtype='<U5')\n",
    "origin[use_servs] = \"SERVS\"\n",
    "origin[use_swire] = \"SWIRE\"\n",
    "origin[use_candels] = \"CANDELS\"\n",
    "irac_origin.add_column(Column(data=origin, name=\"IRAC2_total\"))"
   ]
  },
  {
   "cell_type": "code",
   "execution_count": 23,
   "metadata": {
    "collapsed": true
   },
   "outputs": [],
   "source": [
    "has_candels_irac_i3 = ~np.isnan(master_catalogue['f_candels-irac_i3'])\n",
    "has_candels_irac_i4 = ~np.isnan(master_catalogue['f_candels-irac_i4'])\n",
    "has_swire_irac_i3 = ~np.isnan(master_catalogue['f_irac_i3'])\n",
    "has_swire_irac_i4 = ~np.isnan(master_catalogue['f_irac_i4'])\n",
    "\n",
    "use_candels_irac_i3 = has_candels_irac_i3 & ~has_swire_irac_i3\n",
    "use_candels_irac_i4 = has_candels_irac_i4 & ~has_swire_irac_i4\n",
    "\n",
    "master_catalogue['f_irac_i3'][use_candels_irac_i3] = master_catalogue['f_candels-irac_i3'][use_candels_irac_i3]\n",
    "master_catalogue['ferr_irac_i3'][use_candels_irac_i3] = master_catalogue['ferr_candels-irac_i3'][use_candels_irac_i3]\n",
    "master_catalogue['m_irac_i3'][use_candels_irac_i3] = master_catalogue['m_candels-irac_i3'][use_candels_irac_i3]\n",
    "master_catalogue['merr_irac_i3'][use_candels_irac_i3] = master_catalogue['merr_candels-irac_i3'][use_candels_irac_i3]\n",
    "master_catalogue['flag_irac_i3'][use_candels_irac_i3] = master_catalogue['flag_candels-irac_i3'][use_candels_irac_i3]\n",
    "\n",
    "master_catalogue['f_irac_i4'][use_candels_irac_i3] = master_catalogue['f_candels-irac_i4'][use_candels_irac_i3]\n",
    "master_catalogue['ferr_irac_i4'][use_candels_irac_i3] = master_catalogue['ferr_candels-irac_i4'][use_candels_irac_i3]\n",
    "master_catalogue['m_irac_i4'][use_candels_irac_i3] = master_catalogue['m_candels-irac_i4'][use_candels_irac_i3]\n",
    "master_catalogue['merr_irac_i4'][use_candels_irac_i3] = master_catalogue['merr_candels-irac_i4'][use_candels_irac_i3]\n",
    "master_catalogue['flag_irac_i4'][use_candels_irac_i3] = master_catalogue['flag_candels-irac_i4'][use_candels_irac_i3]\n",
    "\n",
    "origin = np.full(len(master_catalogue), '     ', dtype='<U5')\n",
    "origin[has_swire_irac_i3] = \"SWIRE\"\n",
    "origin[use_candels_irac_i3] = \"CANDELS\"\n",
    "irac_origin.add_column(Column(data=origin, name=\"IRAC3_total\"))\n",
    "\n",
    "origin = np.full(len(master_catalogue), '     ', dtype='<U5')\n",
    "origin[has_swire_irac_i4] = \"SWIRE\"\n",
    "origin[use_candels_irac_i4] = \"CANDELS\"\n",
    "irac_origin.add_column(Column(data=origin, name=\"IRAC4_total\"))\n",
    "\n",
    "master_catalogue.remove_columns(['f_candels-irac_i3',    'f_candels-irac_i4',\n",
    "                                 'ferr_candels-irac_i3', 'ferr_candels-irac_i4',\n",
    "                                 'm_candels-irac_i3',    'm_candels-irac_i4',\n",
    "                                 'merr_candels-irac_i3', 'merr_candels-irac_i4',\n",
    "                                 'flag_candels-irac_i3', 'flag_candels-irac_i4'])"
   ]
  },
  {
   "cell_type": "code",
   "execution_count": 24,
   "metadata": {
    "collapsed": true
   },
   "outputs": [],
   "source": [
    "irac_origin.write(\"{}/xmm-lss_irac_fluxes_origins{}.fits\".format(OUT_DIR, SUFFIX), overwrite=True)"
   ]
  },
  {
   "cell_type": "markdown",
   "metadata": {},
   "source": [
    "## XI - Saving the catalogue"
   ]
  },
  {
   "cell_type": "code",
   "execution_count": 25,
   "metadata": {
    "collapsed": true
   },
   "outputs": [],
   "source": [
    "columns = [\"help_id\", \"field\", \"ra\", \"dec\", \"hp_idx\"]\n",
    "\n",
    "bands = [column[5:] for column in master_catalogue.colnames if 'f_ap' in column]\n",
    "for band in bands:\n",
    "    columns += [\"f_ap_{}\".format(band), \"ferr_ap_{}\".format(band),\n",
    "                \"m_ap_{}\".format(band), \"merr_ap_{}\".format(band),\n",
    "                \"f_{}\".format(band), \"ferr_{}\".format(band),\n",
    "                \"m_{}\".format(band), \"merr_{}\".format(band),\n",
    "                \"flag_{}\".format(band)]    \n",
    "    \n",
    "columns += [\"stellarity\", \"stellarity_origin\", \"flag_cleaned\", \"flag_merged\", \n",
    "            \"flag_gaia\", \"flag_optnir_obs\", \"flag_optnir_det\" \n",
    "            ]"
   ]
  },
  {
   "cell_type": "code",
   "execution_count": 26,
   "metadata": {},
   "outputs": [
    {
     "name": "stdout",
     "output_type": "stream",
     "text": [
      "Missing columns: {'servs_flag_gaia', 'candels_id', 'swire_flag_cleaned', 'servs_stellarity_irac_i2', 'candels_flag_gaia', 'swire_intid', 'servs_stellarity_irac_i1', 'swire_flag_gaia', 'swire_stellarity_irac_i1', 'servs_intid', 'irac_flag_merged', 'irac_dec', 'servs_flag_cleaned', 'swire_stellarity_irac_i4', 'swire_stellarity_irac_i3', 'swire_stellarity_irac_i2', 'irac_ra', 'irac_intid', 'candels_stellarity', 'candels_flag_cleaned'}\n"
     ]
    }
   ],
   "source": [
    "# We check for columns in the master catalogue that we will not save to disk.\n",
    "print(\"Missing columns: {}\".format(set(master_catalogue.colnames) - set(columns)))"
   ]
  },
  {
   "cell_type": "code",
   "execution_count": 27,
   "metadata": {
    "collapsed": true
   },
   "outputs": [],
   "source": [
    "master_catalogue.write(\"{}/irac_merged_catalogue_xmm-lss.fits\".format(TMP_DIR), overwrite=True)"
   ]
  }
 ],
 "metadata": {
  "kernelspec": {
   "display_name": "Python (herschelhelp_internal)",
   "language": "python",
   "name": "helpint"
  },
  "language_info": {
   "codemirror_mode": {
    "name": "ipython",
    "version": 3
   },
   "file_extension": ".py",
   "mimetype": "text/x-python",
   "name": "python",
   "nbconvert_exporter": "python",
   "pygments_lexer": "ipython3",
   "version": "3.6.5"
  }
 },
 "nbformat": 4,
 "nbformat_minor": 2
}
