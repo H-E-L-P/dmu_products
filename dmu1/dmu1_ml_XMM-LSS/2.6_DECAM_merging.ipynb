{
 "cells": [
  {
   "cell_type": "markdown",
   "metadata": {},
   "source": [
    "# XMM-LSS DECAM merging\n",
    "\n",
    "Both DES and DECaLS provide DECam fluxes which have overlapping coverage. We chose which to use DES preferentially. In this notebook we cross match both catalogues and take the DES fluxes where available, using DECaLS otherwise"
   ]
  },
  {
   "cell_type": "code",
   "execution_count": 1,
   "metadata": {},
   "outputs": [
    {
     "name": "stdout",
     "output_type": "stream",
     "text": [
      "This notebook was run with herschelhelp_internal version: \n",
      "0246c5d (Thu Jan 25 17:01:47 2018 +0000) [with local modifications]\n",
      "This notebook was executed on: \n",
      "2018-02-21 16:20:44.979073\n"
     ]
    }
   ],
   "source": [
    "from herschelhelp_internal import git_version\n",
    "print(\"This notebook was run with herschelhelp_internal version: \\n{}\".format(git_version()))\n",
    "import datetime\n",
    "print(\"This notebook was executed on: \\n{}\".format(datetime.datetime.now()))"
   ]
  },
  {
   "cell_type": "code",
   "execution_count": 2,
   "metadata": {
    "collapsed": true
   },
   "outputs": [],
   "source": [
    "%matplotlib inline\n",
    "#%config InlineBackend.figure_format = 'svg'\n",
    "\n",
    "import matplotlib.pyplot as plt\n",
    "plt.rc('figure', figsize=(10, 6))\n",
    "\n",
    "import os\n",
    "import time\n",
    "\n",
    "from astropy import units as u\n",
    "from astropy.coordinates import SkyCoord\n",
    "from astropy.table import Column, Table\n",
    "import numpy as np\n",
    "from pymoc import MOC\n",
    "\n",
    "from herschelhelp_internal.masterlist import merge_catalogues, nb_merge_dist_plot\n",
    "from herschelhelp_internal.utils import coords_to_hpidx, ebv, gen_help_id, inMoc"
   ]
  },
  {
   "cell_type": "code",
   "execution_count": 3,
   "metadata": {
    "collapsed": true
   },
   "outputs": [],
   "source": [
    "TMP_DIR = os.environ.get('TMP_DIR', \"./data_tmp\")\n",
    "OUT_DIR = os.environ.get('OUT_DIR', \"./data\")\n",
    "SUFFIX = os.environ.get('SUFFIX', time.strftime(\"_%Y%m%d\"))\n",
    "\n",
    "try:\n",
    "    os.makedirs(OUT_DIR)\n",
    "except FileExistsError:\n",
    "    pass"
   ]
  },
  {
   "cell_type": "markdown",
   "metadata": {},
   "source": [
    "## I - Reading the prepared pristine catalogues"
   ]
  },
  {
   "cell_type": "code",
   "execution_count": 4,
   "metadata": {
    "collapsed": true
   },
   "outputs": [],
   "source": [
    "des = Table.read(\"{}/DES.fits\".format(TMP_DIR))\n",
    "decals = Table.read(\"{}/DECaLS.fits\".format(TMP_DIR))"
   ]
  },
  {
   "cell_type": "code",
   "execution_count": 5,
   "metadata": {
    "collapsed": true
   },
   "outputs": [],
   "source": [
    "for col in des.colnames:\n",
    "    if '_decam_' in col:\n",
    "        des[col].name = col.replace('_decam_', '_des-decam_')\n",
    "        \n",
    "for col in decals.colnames:\n",
    "    if '_decam_' in col:\n",
    "        decals[col].name = col.replace('_decam_', '_decals-decam_')"
   ]
  },
  {
   "cell_type": "markdown",
   "metadata": {},
   "source": [
    "## II - Merging tables\n",
    "\n",
    "We first merge the optical catalogues and then add the infrared ones: HSC, VHS, VICS82, UKIDSS-LAS, PanSTARRS, SHELA, SpIES.\n",
    "\n",
    "At every step, we look at the distribution of the distances separating the sources from one catalogue to the other (within a maximum radius) to determine the best cross-matching radius."
   ]
  },
  {
   "cell_type": "markdown",
   "metadata": {},
   "source": [
    "### DES"
   ]
  },
  {
   "cell_type": "code",
   "execution_count": 6,
   "metadata": {
    "collapsed": true
   },
   "outputs": [],
   "source": [
    "master_catalogue = des\n",
    "master_catalogue['des_ra'].name = 'ra'\n",
    "master_catalogue['des_dec'].name = 'dec'\n"
   ]
  },
  {
   "cell_type": "markdown",
   "metadata": {},
   "source": [
    "## Add DECaLS"
   ]
  },
  {
   "cell_type": "code",
   "execution_count": 7,
   "metadata": {
    "scrolled": true
   },
   "outputs": [
    {
     "data": {
      "image/png": "[encoded data removed]",
      "text/plain": [
       "<matplotlib.figure.Figure at 0x7f5c9b878c88>"
      ]
     },
     "metadata": {},
     "output_type": "display_data"
    }
   ],
   "source": [
    "nb_merge_dist_plot(\n",
    "    SkyCoord(master_catalogue['ra'], master_catalogue['dec']),\n",
    "    SkyCoord(decals['decals_ra'], decals['decals_dec'])\n",
    ")"
   ]
  },
  {
   "cell_type": "code",
   "execution_count": 8,
   "metadata": {
    "collapsed": true
   },
   "outputs": [],
   "source": [
    "# Given the graph above, we use 0.8 arc-second radius\n",
    "master_catalogue = merge_catalogues(master_catalogue, decals, \"decals_ra\", \"decals_dec\", radius=0.8*u.arcsec)\n"
   ]
  },
  {
   "cell_type": "markdown",
   "metadata": {},
   "source": [
    "### Cleaning\n",
    "\n",
    "When we merge the catalogues, astropy masks the non-existent values (e.g. when a row comes only from a catalogue and has no counterparts in the other, the columns from the latest are masked for that row). We indicate to use NaN for masked values for floats columns, False for flag columns and -1 for ID columns."
   ]
  },
  {
   "cell_type": "code",
   "execution_count": 9,
   "metadata": {
    "collapsed": true
   },
   "outputs": [],
   "source": [
    "for col in master_catalogue.colnames:\n",
    "    if \"m_\" in col or \"merr_\" in col or \"f_\" in col or \"ferr_\" in col or \"stellarity\" in col:\n",
    "        master_catalogue[col].fill_value = np.nan\n",
    "    elif \"flag\" in col:\n",
    "        master_catalogue[col].fill_value = 0\n",
    "    elif \"id\" in col:\n",
    "        master_catalogue[col].fill_value = -1\n",
    "        \n",
    "master_catalogue = master_catalogue.filled()"
   ]
  },
  {
   "cell_type": "code",
   "execution_count": 10,
   "metadata": {},
   "outputs": [
    {
     "data": {
      "text/html": [
       "&lt;Table length=10&gt;\n",
       "<table id=\"table140035422452256-310548\" class=\"table-striped table-bordered table-condensed\">\n",
       "<thead><tr><th>idx</th><th>des_id</th><th>ra</th><th>dec</th><th>des_stellarity</th><th>m_des-decam_g</th><th>merr_des-decam_g</th><th>m_ap_des-decam_g</th><th>merr_ap_des-decam_g</th><th>m_des-decam_r</th><th>merr_des-decam_r</th><th>m_ap_des-decam_r</th><th>merr_ap_des-decam_r</th><th>m_des-decam_i</th><th>merr_des-decam_i</th><th>m_ap_des-decam_i</th><th>merr_ap_des-decam_i</th><th>m_des-decam_z</th><th>merr_des-decam_z</th><th>m_ap_des-decam_z</th><th>merr_ap_des-decam_z</th><th>m_des-decam_y</th><th>merr_des-decam_y</th><th>m_ap_des-decam_y</th><th>merr_ap_des-decam_y</th><th>f_des-decam_g</th><th>ferr_des-decam_g</th><th>flag_des-decam_g</th><th>f_ap_des-decam_g</th><th>ferr_ap_des-decam_g</th><th>f_des-decam_r</th><th>ferr_des-decam_r</th><th>flag_des-decam_r</th><th>f_ap_des-decam_r</th><th>ferr_ap_des-decam_r</th><th>f_des-decam_i</th><th>ferr_des-decam_i</th><th>flag_des-decam_i</th><th>f_ap_des-decam_i</th><th>ferr_ap_des-decam_i</th><th>f_des-decam_z</th><th>ferr_des-decam_z</th><th>flag_des-decam_z</th><th>f_ap_des-decam_z</th><th>ferr_ap_des-decam_z</th><th>f_des-decam_y</th><th>ferr_des-decam_y</th><th>flag_des-decam_y</th><th>f_ap_des-decam_y</th><th>ferr_ap_des-decam_y</th><th>des_flag_cleaned</th><th>des_flag_gaia</th><th>flag_merged</th><th>decals_id</th><th>f_decals-decam_g</th><th>f_decals-decam_r</th><th>f_decals-decam_z</th><th>ferr_decals-decam_g</th><th>ferr_decals-decam_r</th><th>ferr_decals-decam_z</th><th>f_ap_decals-decam_g</th><th>f_ap_decals-decam_r</th><th>f_ap_decals-decam_z</th><th>ferr_ap_decals-decam_g</th><th>ferr_ap_decals-decam_r</th><th>ferr_ap_decals-decam_z</th><th>m_decals-decam_g</th><th>merr_decals-decam_g</th><th>flag_decals-decam_g</th><th>m_decals-decam_r</th><th>merr_decals-decam_r</th><th>flag_decals-decam_r</th><th>m_decals-decam_z</th><th>merr_decals-decam_z</th><th>flag_decals-decam_z</th><th>m_ap_decals-decam_g</th><th>merr_ap_decals-decam_g</th><th>m_ap_decals-decam_r</th><th>merr_ap_decals-decam_r</th><th>m_ap_decals-decam_z</th><th>merr_ap_decals-decam_z</th><th>decals_stellarity</th><th>decals_flag_cleaned</th><th>decals_flag_gaia</th></tr></thead>\n",
       "<thead><tr><th></th><th></th><th>deg</th><th>deg</th><th></th><th></th><th></th><th></th><th></th><th></th><th></th><th></th><th></th><th></th><th></th><th></th><th></th><th></th><th></th><th></th><th></th><th></th><th></th><th></th><th></th><th></th><th></th><th></th><th></th><th></th><th></th><th></th><th></th><th></th><th></th><th></th><th></th><th></th><th></th><th></th><th></th><th></th><th></th><th></th><th></th><th></th><th></th><th></th><th></th><th></th><th></th><th></th><th></th><th></th><th></th><th></th><th></th><th></th><th></th><th></th><th></th><th></th><th></th><th></th><th></th><th></th><th></th><th></th><th></th><th></th><th></th><th></th><th></th><th></th><th></th><th></th><th></th><th></th><th></th><th></th><th></th><th></th><th></th><th></th></tr></thead>\n",
       "<tr><td>0</td><td>88218898</td><td>33.2282420777</td><td>-3.0703912028</td><td>0.999468266964</td><td>14.9015989304</td><td>0.000234246384935</td><td>15.1681919098</td><td>0.000279493891867</td><td>17.2654056549</td><td>0.0023150050547</td><td>19.8153915405</td><td>0.00790432468057</td><td>17.5501842499</td><td>0.00468100514263</td><td>20.1605577469</td><td>0.0132164834067</td><td>16.8929386139</td><td>0.00541690457612</td><td>20.4275455475</td><td>0.0253638587892</td><td>13.8476161957</td><td>0.00237594149075</td><td>13.8538446426</td><td>0.00125757383648</td><td>3975.21321838</td><td>0.857647853751</td><td>False</td><td>3109.73395768</td><td>0.800518249916</td><td>450.648300975</td><td>0.960871609582</td><td>False</td><td>43.037138105</td><td>0.313316910142</td><td>346.67801406</td><td>1.4946554785</td><td>False</td><td>31.3167655667</td><td>0.381213696892</td><td>635.074323763</td><td>3.16848327936</td><td>False</td><td>24.4896050388</td><td>0.572101106405</td><td>10494.3011245</td><td>22.9649203452</td><td>False</td><td>10434.2717416</td><td>12.0856862722</td><td>False</td><td>3</td><td>False</td><td>-1</td><td>nan</td><td>nan</td><td>nan</td><td>nan</td><td>nan</td><td>nan</td><td>nan</td><td>nan</td><td>nan</td><td>nan</td><td>nan</td><td>nan</td><td>nan</td><td>nan</td><td>False</td><td>nan</td><td>nan</td><td>False</td><td>nan</td><td>nan</td><td>False</td><td>nan</td><td>nan</td><td>nan</td><td>nan</td><td>nan</td><td>nan</td><td>nan</td><td>False</td><td>0</td></tr>\n",
       "<tr><td>1</td><td>117493832</td><td>36.8564790777</td><td>-6.9075552028</td><td>0.998808920383</td><td>15.4073343277</td><td>0.000302307598758</td><td>15.37758255</td><td>0.000292854121653</td><td>17.4959030151</td><td>0.00220428756438</td><td>19.7489814758</td><td>0.00507304957137</td><td>17.3662700653</td><td>0.00278971693479</td><td>19.6503515244</td><td>0.00777488294989</td><td>17.1570491791</td><td>0.00503754103556</td><td>19.6446666718</td><td>0.0138195743784</td><td>14.3034200668</td><td>0.00111810828093</td><td>14.3385000229</td><td>0.000496420194395</td><td>2494.97540577</td><td>0.69468994455</td><td>False</td><td>2564.28906261</td><td>0.691662134691</td><td>364.45070439</td><td>0.739916521155</td><td>False</td><td>45.7517183143</td><td>0.213772676978</td><td>410.669050299</td><td>1.05518301701</td><td>False</td><td>50.102499256</td><td>0.358780581789</td><td>497.943798989</td><td>2.31033312679</td><td>False</td><td>50.3655210559</td><td>0.641067380171</td><td>6896.55133511</td><td>7.10217742015</td><td>False</td><td>6677.28619388</td><td>3.05298809773</td><td>False</td><td>3</td><td>False</td><td>-1</td><td>nan</td><td>nan</td><td>nan</td><td>nan</td><td>nan</td><td>nan</td><td>nan</td><td>nan</td><td>nan</td><td>nan</td><td>nan</td><td>nan</td><td>nan</td><td>nan</td><td>False</td><td>nan</td><td>nan</td><td>False</td><td>nan</td><td>nan</td><td>False</td><td>nan</td><td>nan</td><td>nan</td><td>nan</td><td>nan</td><td>nan</td><td>nan</td><td>False</td><td>0</td></tr>\n",
       "<tr><td>2</td><td>112078864</td><td>36.0083600777</td><td>-2.3679092028</td><td>0.999278306961</td><td>15.4926290512</td><td>0.000324958062265</td><td>15.4900579453</td><td>0.000295186706353</td><td>17.6761207581</td><td>0.00288242078386</td><td>20.0859050751</td><td>0.00940440222621</td><td>17.2500267029</td><td>0.00321809528396</td><td>19.7955636978</td><td>0.00999093055725</td><td>16.8486938477</td><td>0.00429351534694</td><td>19.4382648468</td><td>0.0127773527056</td><td>13.9780282974</td><td>0.000917025841773</td><td>14.0133342743</td><td>0.000442961230874</td><td>2306.47302376</td><td>0.690321462233</td><td>False</td><td>2311.94139961</td><td>0.628563700872</td><td>308.71071014</td><td>0.819567555368</td><td>False</td><td>33.5457858325</td><td>0.290566033979</td><td>457.076948006</td><td>1.35476478019</td><td>False</td><td>43.8303078363</td><td>0.403325927584</td><td>661.48874762</td><td>2.6158399041</td><td>False</td><td>60.9107660217</td><td>0.7168208425</td><td>9306.54927289</td><td>7.8604233179</td><td>False</td><td>9008.78640924</td><td>3.67542603722</td><td>False</td><td>3</td><td>False</td><td>-1</td><td>nan</td><td>nan</td><td>nan</td><td>nan</td><td>nan</td><td>nan</td><td>nan</td><td>nan</td><td>nan</td><td>nan</td><td>nan</td><td>nan</td><td>nan</td><td>nan</td><td>False</td><td>nan</td><td>nan</td><td>False</td><td>nan</td><td>nan</td><td>False</td><td>nan</td><td>nan</td><td>nan</td><td>nan</td><td>nan</td><td>nan</td><td>nan</td><td>False</td><td>0</td></tr>\n",
       "<tr><td>3</td><td>94364659</td><td>34.6459160777</td><td>-6.9474082028</td><td>0.999887526035</td><td>15.0154981613</td><td>0.000289184798021</td><td>14.9572525024</td><td>0.000300167681416</td><td>16.7303581238</td><td>0.00182618305553</td><td>19.0731525421</td><td>0.00413368688896</td><td>17.702085495</td><td>0.00583842443302</td><td>22.2413682938</td><td>0.03655680269</td><td>16.9626426697</td><td>0.00560154253617</td><td>19.3820819855</td><td>0.0186973847449</td><td>13.949962616</td><td>0.000871613738127</td><td>14.1731328964</td><td>0.00055247155251</td><td>3579.32171719</td><td>0.953348910446</td><td>False</td><td>3776.58269705</td><td>1.04409161902</td><td>737.660876842</td><td>1.24072844593</td><td>False</td><td>85.258754338</td><td>0.324602784205</td><td>301.415652879</td><td>1.6208288022</td><td>False</td><td>4.60736567517</td><td>0.155130276738</td><td>595.583876504</td><td>3.07274308757</td><td>False</td><td>64.1456493396</td><td>1.10464759318</td><td>9550.25468861</td><td>7.66680999742</td><td>False</td><td>7775.83150797</td><td>3.95669379582</td><td>False</td><td>3</td><td>False</td><td>-1</td><td>nan</td><td>nan</td><td>nan</td><td>nan</td><td>nan</td><td>nan</td><td>nan</td><td>nan</td><td>nan</td><td>nan</td><td>nan</td><td>nan</td><td>nan</td><td>nan</td><td>False</td><td>nan</td><td>nan</td><td>False</td><td>nan</td><td>nan</td><td>False</td><td>nan</td><td>nan</td><td>nan</td><td>nan</td><td>nan</td><td>nan</td><td>nan</td><td>False</td><td>0</td></tr>\n",
       "<tr><td>4</td><td>94365504</td><td>34.6207650777</td><td>-6.9686532028</td><td>0.991078555584</td><td>14.9421949387</td><td>0.00030461611459</td><td>14.9351043701</td><td>0.000314714416163</td><td>16.6659584045</td><td>0.00165945955086</td><td>19.1079483032</td><td>0.00474427407607</td><td>17.2819671631</td><td>0.00338827166706</td><td>19.6915636063</td><td>0.00650342321023</td><td>16.3339996338</td><td>0.0027849348262</td><td>18.9276924133</td><td>0.00605756090954</td><td>13.4329881668</td><td>0.000558770436328</td><td>13.7376356125</td><td>0.000382722559152</td><td>3829.32321416</td><td>1.07436185134</td><td>False</td><td>3854.41304017</td><td>1.11725052943</td><td>782.738396377</td><td>1.19635202548</td><td>False</td><td>82.5696946826</td><td>0.36079966776</td><td>443.826403153</td><td>1.38505506246</td><td>False</td><td>48.2363633039</td><td>0.288929744917</td><td>1062.67422383</td><td>2.72578038928</td><td>False</td><td>97.4816866118</td><td>0.54387175414</td><td>15374.6321336</td><td>7.91250201295</td><td>False</td><td>11613.0355365</td><td>4.09360087706</td><td>False</td><td>3</td><td>False</td><td>-1</td><td>nan</td><td>nan</td><td>nan</td><td>nan</td><td>nan</td><td>nan</td><td>nan</td><td>nan</td><td>nan</td><td>nan</td><td>nan</td><td>nan</td><td>nan</td><td>nan</td><td>False</td><td>nan</td><td>nan</td><td>False</td><td>nan</td><td>nan</td><td>False</td><td>nan</td><td>nan</td><td>nan</td><td>nan</td><td>nan</td><td>nan</td><td>nan</td><td>False</td><td>0</td></tr>\n",
       "<tr><td>5</td><td>90862137</td><td>33.5849720777</td><td>-6.3809972028</td><td>0.999827504158</td><td>15.1027698517</td><td>0.000304993765894</td><td>15.1115484238</td><td>0.000315041339491</td><td>17.2942199707</td><td>0.00210925773717</td><td>19.7791862488</td><td>0.00714883953333</td><td>17.6717643738</td><td>0.00392187386751</td><td>20.9574346542</td><td>0.0150378113613</td><td>16.6393814087</td><td>0.00307403714396</td><td>19.2144947052</td><td>0.00890615303069</td><td>13.8674116135</td><td>0.000931858783588</td><td>13.9963550568</td><td>0.000504301278852</td><td>3302.8744034</td><td>0.927809258044</td><td>False</td><td>3276.27713184</td><td>0.950657011928</td><td>438.845866133</td><td>0.852545060681</td><td>False</td><td>44.4964640216</td><td>0.292979159852</td><td>309.951862584</td><td>1.11960170871</td><td>False</td><td>15.0323243642</td><td>0.208202744939</td><td>802.134944514</td><td>2.27107892608</td><td>False</td><td>74.8517774926</td><td>0.613999406161</td><td>10304.7000451</td><td>8.84425259759</td><td>False</td><td>9150.77711296</td><td>4.25034053422</td><td>False</td><td>3</td><td>False</td><td>-1</td><td>nan</td><td>nan</td><td>nan</td><td>nan</td><td>nan</td><td>nan</td><td>nan</td><td>nan</td><td>nan</td><td>nan</td><td>nan</td><td>nan</td><td>nan</td><td>nan</td><td>False</td><td>nan</td><td>nan</td><td>False</td><td>nan</td><td>nan</td><td>False</td><td>nan</td><td>nan</td><td>nan</td><td>nan</td><td>nan</td><td>nan</td><td>nan</td><td>False</td><td>0</td></tr>\n",
       "<tr><td>6</td><td>90853704</td><td>33.3406230777</td><td>-6.2153602028</td><td>0.997185707092</td><td>15.2150688171</td><td>0.000263516034465</td><td>15.2125339508</td><td>0.000318219797919</td><td>15.5851564407</td><td>0.000372938229702</td><td>15.874584198</td><td>0.000469802966109</td><td>17.9346008301</td><td>0.00319461734034</td><td>20.8327856064</td><td>0.0165109969676</td><td>17.1395816803</td><td>0.00247428379953</td><td>19.3686218262</td><td>0.00791874248534</td><td>14.431429863</td><td>0.000800543639343</td><td>14.491736412</td><td>0.000590220966842</td><td>2978.32764832</td><td>0.722861674673</td><td>False</td><td>2985.28926792</td><td>0.874962208502</td><td>2118.05592842</td><td>0.727528496237</td><td>False</td><td>1622.43131734</td><td>0.702033368562</td><td>243.309837105</td><td>0.715903017035</td><td>False</td><td>16.8610943056</td><td>0.256409868005</td><td>506.019587058</td><td>1.15316783305</td><td>False</td><td>64.9458297199</td><td>0.473677951233</td><td>6129.54241786</td><td>4.5194828847</td><td>False</td><td>5798.36346452</td><td>3.15206923665</td><td>False</td><td>3</td><td>False</td><td>-1</td><td>nan</td><td>nan</td><td>nan</td><td>nan</td><td>nan</td><td>nan</td><td>nan</td><td>nan</td><td>nan</td><td>nan</td><td>nan</td><td>nan</td><td>nan</td><td>nan</td><td>False</td><td>nan</td><td>nan</td><td>False</td><td>nan</td><td>nan</td><td>False</td><td>nan</td><td>nan</td><td>nan</td><td>nan</td><td>nan</td><td>nan</td><td>nan</td><td>False</td><td>0</td></tr>\n",
       "<tr><td>7</td><td>130367335</td><td>37.8239360777</td><td>-3.8429172028</td><td>0.999870359898</td><td>14.9874992371</td><td>0.000306974136038</td><td>14.9314661026</td><td>0.000319588696584</td><td>17.3547649384</td><td>0.00209822249599</td><td>19.6887111664</td><td>0.00479562859982</td><td>17.6211147308</td><td>0.00597749743611</td><td>20.3152608871</td><td>0.0136634055525</td><td>17.4326248169</td><td>0.0114032104611</td><td>19.858789444</td><td>0.0194582324475</td><td>14.3554697037</td><td>0.00151116016787</td><td>14.3119401932</td><td>0.000597210542765</td><td>3672.82558585</td><td>1.03843130227</td><td>False</td><td>3867.35072055</td><td>1.13836268018</td><td>415.043889817</td><td>0.802086568193</td><td>False</td><td>48.3632562119</td><td>0.213617464034</td><td>324.753699901</td><td>1.78792454375</td><td>False</td><td>27.1578662509</td><td>0.341767124372</td><td>386.322562624</td><td>4.05744735064</td><td>False</td><td>41.3508291633</td><td>0.74107692295</td><td>6573.73387511</td><td>9.14951969243</td><td>False</td><td>6842.64363828</td><td>3.76380459936</td><td>False</td><td>3</td><td>False</td><td>-1</td><td>nan</td><td>nan</td><td>nan</td><td>nan</td><td>nan</td><td>nan</td><td>nan</td><td>nan</td><td>nan</td><td>nan</td><td>nan</td><td>nan</td><td>nan</td><td>nan</td><td>False</td><td>nan</td><td>nan</td><td>False</td><td>nan</td><td>nan</td><td>False</td><td>nan</td><td>nan</td><td>nan</td><td>nan</td><td>nan</td><td>nan</td><td>nan</td><td>False</td><td>0</td></tr>\n",
       "<tr><td>8</td><td>120096673</td><td>37.3318450777</td><td>-3.0320412028</td><td>0.998626232147</td><td>15.2508983612</td><td>0.000302770349663</td><td>15.2918519974</td><td>0.000319830607623</td><td>17.3395423889</td><td>0.00192318926565</td><td>19.6777439117</td><td>0.00470865517855</td><td>17.5405426025</td><td>0.00411444669589</td><td>20.225564003</td><td>0.014495683834</td><td>17.0824165344</td><td>0.0059210807085</td><td>19.9600696564</td><td>0.0198865458369</td><td>14.0837974548</td><td>0.000989286112599</td><td>14.1024522781</td><td>0.000453401589766</td><td>2881.64618115</td><td>0.803581033816</td><td>False</td><td>2774.97580619</td><td>0.81743815334</td><td>420.903991676</td><td>0.745556825972</td><td>False</td><td>48.8542595423</td><td>0.211872700919</td><td>349.770323732</td><td>1.32547053925</td><td>False</td><td>29.4967657207</td><td>0.393811856083</td><td>533.37589699</td><td>2.90877445203</td><td>False</td><td>37.6679631992</td><td>0.689933405059</td><td>8442.69340186</td><td>7.69269671471</td><td>False</td><td>8298.87243129</td><td>3.46559499179</td><td>False</td><td>3</td><td>False</td><td>-1</td><td>nan</td><td>nan</td><td>nan</td><td>nan</td><td>nan</td><td>nan</td><td>nan</td><td>nan</td><td>nan</td><td>nan</td><td>nan</td><td>nan</td><td>nan</td><td>nan</td><td>False</td><td>nan</td><td>nan</td><td>False</td><td>nan</td><td>nan</td><td>False</td><td>nan</td><td>nan</td><td>nan</td><td>nan</td><td>nan</td><td>nan</td><td>nan</td><td>False</td><td>0</td></tr>\n",
       "<tr><td>9</td><td>112065990</td><td>35.5748180777</td><td>-2.1198472028</td><td>0.999845087528</td><td>15.0605735779</td><td>0.000325458619045</td><td>14.991355896</td><td>0.000321292056469</td><td>17.7544250488</td><td>0.00310810073279</td><td>20.1559772491</td><td>0.00856275483966</td><td>17.5717964172</td><td>0.00448564626276</td><td>19.9845666885</td><td>0.0116816433147</td><td>17.4591579437</td><td>0.00786625500768</td><td>19.9381484985</td><td>0.024145854637</td><td>14.5205106735</td><td>0.00150599749759</td><td>14.5645503998</td><td>0.000650528934784</td><td>3433.76499407</td><td>1.02930012668</td><td>False</td><td>3659.80243367</td><td>1.08301210279</td><td>287.230120532</td><td>0.822244062776</td><td>False</td><td>31.4491636434</td><td>0.248026617341</td><td>339.845429133</td><td>1.40404858236</td><td>False</td><td>36.8275921251</td><td>0.396235101545</td><td>376.996069643</td><td>2.73136992919</td><td>False</td><td>38.4362138107</td><td>0.854788877265</td><td>5646.71320487</td><td>7.83241446575</td><td>False</td><td>5422.25377878</td><td>3.24879373036</td><td>False</td><td>3</td><td>False</td><td>-1</td><td>nan</td><td>nan</td><td>nan</td><td>nan</td><td>nan</td><td>nan</td><td>nan</td><td>nan</td><td>nan</td><td>nan</td><td>nan</td><td>nan</td><td>nan</td><td>nan</td><td>False</td><td>nan</td><td>nan</td><td>False</td><td>nan</td><td>nan</td><td>False</td><td>nan</td><td>nan</td><td>nan</td><td>nan</td><td>nan</td><td>nan</td><td>nan</td><td>False</td><td>0</td></tr>\n",
       "</table><style>table.dataTable {clear: both; width: auto !important; margin: 0 !important;}\n",
       ".dataTables_info, .dataTables_length, .dataTables_filter, .dataTables_paginate{\n",
       "display: inline-block; margin-right: 1em; }\n",
       ".paginate_button { margin-right: 5px; }\n",
       "</style>\n",
       "<script>\n",
       "require.config({paths: {\n",
       "    datatables: 'https://cdn.datatables.net/1.10.12/js/jquery.dataTables.min'\n",
       "}});\n",
       "require([\"datatables\"], function(){\n",
       "    console.log(\"$('#table140035422452256-310548').dataTable()\");\n",
       "    $('#table140035422452256-310548').dataTable({\n",
       "        \"order\": [],\n",
       "        \"iDisplayLength\": 50,\n",
       "        \"aLengthMenu\": [[10, 25, 50, 100, 500, 1000, -1], [10, 25, 50, 100, 500, 1000, 'All']],\n",
       "        \"pagingType\": \"full_numbers\"\n",
       "    });\n",
       "});\n",
       "</script>\n"
      ],
      "text/plain": [
       "<IPython.core.display.HTML object>"
      ]
     },
     "execution_count": 10,
     "metadata": {},
     "output_type": "execute_result"
    }
   ],
   "source": [
    "master_catalogue[:10].show_in_notebook()"
   ]
  },
  {
   "cell_type": "markdown",
   "metadata": {},
   "source": [
    "## III - Merging flags and stellarity\n",
    "\n",
    "Each pristine catalogue contains a flag indicating if the source was associated to a another nearby source that was removed during the cleaning process.  We merge these flags in a single one."
   ]
  },
  {
   "cell_type": "code",
   "execution_count": 11,
   "metadata": {
    "collapsed": true
   },
   "outputs": [],
   "source": [
    "flag_cleaned_columns = [column for column in master_catalogue.colnames\n",
    "                        if 'flag_cleaned' in column]\n",
    "\n",
    "flag_column = np.zeros(len(master_catalogue), dtype=bool)\n",
    "for column in flag_cleaned_columns:\n",
    "    flag_column |= master_catalogue[column]\n",
    "    \n",
    "master_catalogue.add_column(Column(data=flag_column, name=\"decam_flag_cleaned\"))\n",
    "master_catalogue.remove_columns(flag_cleaned_columns)"
   ]
  },
  {
   "cell_type": "markdown",
   "metadata": {},
   "source": [
    "Each pristine catalogue contains a flag indicating the probability of a source being a Gaia object (0: not a Gaia object, 1: possibly, 2: probably, 3: definitely).  We merge these flags taking the highest value."
   ]
  },
  {
   "cell_type": "code",
   "execution_count": 12,
   "metadata": {
    "collapsed": true
   },
   "outputs": [],
   "source": [
    "flag_gaia_columns = [column for column in master_catalogue.colnames\n",
    "                     if 'flag_gaia' in column]\n",
    "\n",
    "master_catalogue.add_column(Column(\n",
    "    data=np.max([master_catalogue[column] for column in flag_gaia_columns], axis=0),\n",
    "    name=\"decam_flag_gaia\"\n",
    "))\n",
    "master_catalogue.remove_columns(flag_gaia_columns)"
   ]
  },
  {
   "cell_type": "markdown",
   "metadata": {},
   "source": [
    "Each prisitine catalogue may contain one or several stellarity columns indicating the probability (0 to 1) of each source being a star.  We merge these columns taking the highest value."
   ]
  },
  {
   "cell_type": "code",
   "execution_count": 13,
   "metadata": {
    "collapsed": true
   },
   "outputs": [],
   "source": [
    "stellarity_columns = [column for column in master_catalogue.colnames\n",
    "                      if 'stellarity' in column]\n",
    "\n",
    "master_catalogue.add_column(Column(\n",
    "    data=np.nanmax([master_catalogue[column] for column in stellarity_columns], axis=0),\n",
    "    name=\"decam_stellarity\"\n",
    "))\n",
    "master_catalogue.remove_columns(stellarity_columns)"
   ]
  },
  {
   "cell_type": "markdown",
   "metadata": {},
   "source": [
    "## VIII - Cross-identification table\n",
    "\n",
    "We are producing a table associating to each HELP identifier, the identifiers of the sources in the pristine catalogue. This can be used to easily get additional information from them."
   ]
  },
  {
   "cell_type": "code",
   "execution_count": 14,
   "metadata": {
    "collapsed": true
   },
   "outputs": [],
   "source": [
    "master_catalogue.add_column(Column(data=(np.char.array(master_catalogue['des_id'].astype(str)) \n",
    "                                    +  np.char.array(master_catalogue['decals_id'].astype(str) )), \n",
    "                              name=\"decam_intid\"))\n"
   ]
  },
  {
   "cell_type": "code",
   "execution_count": 15,
   "metadata": {},
   "outputs": [
    {
     "name": "stdout",
     "output_type": "stream",
     "text": [
      "['des_id', 'decals_id', 'decam_intid']\n"
     ]
    }
   ],
   "source": [
    "\n",
    "id_names = []\n",
    "for col in master_catalogue.colnames:\n",
    "    if '_id' in col:\n",
    "        id_names += [col]\n",
    "    if '_intid' in col:\n",
    "        id_names += [col]\n",
    "        \n",
    "print(id_names)"
   ]
  },
  {
   "cell_type": "markdown",
   "metadata": {},
   "source": [
    "## VI - Choosing between multiple values for the same filter\n",
    "\n"
   ]
  },
  {
   "cell_type": "code",
   "execution_count": 16,
   "metadata": {
    "collapsed": true
   },
   "outputs": [],
   "source": [
    "decam_origin = Table()\n",
    "decam_origin.add_column(master_catalogue['decam_intid'])"
   ]
  },
  {
   "cell_type": "code",
   "execution_count": 17,
   "metadata": {
    "collapsed": true
   },
   "outputs": [
    {
     "name": "stderr",
     "output_type": "stream",
     "text": [
      "/opt/anaconda3/envs/herschelhelp_internal/lib/python3.6/site-packages/numpy/core/numeric.py:301: FutureWarning: in the future, full(5, 0) will return an array of dtype('int64')\n",
      "  format(shape, fill_value, array(fill_value).dtype), FutureWarning)\n"
     ]
    }
   ],
   "source": [
    "decam_stats = Table()\n",
    "decam_stats.add_column(Column(data=['g','r','i','z','y'], name=\"Band\"))\n",
    "for col in [\"DES\", \"DECaLS\"]:\n",
    "    decam_stats.add_column(Column(data=np.full(5, 0), name=\"{}\".format(col)))\n",
    "    decam_stats.add_column(Column(data=np.full(5, 0), name=\"use {}\".format(col)))\n",
    "    decam_stats.add_column(Column(data=np.full(5, 0), name=\"{} ap\".format(col)))\n",
    "    decam_stats.add_column(Column(data=np.full(5, 0), name=\"use {} ap\".format(col)))"
   ]
  },
  {
   "cell_type": "code",
   "execution_count": 18,
   "metadata": {
    "collapsed": true
   },
   "outputs": [],
   "source": [
    "decam_bands = ['g','r','i','z','y'] # Lowercase naming convention (k is Ks)\n",
    "for band in decam_bands:\n",
    "    if (band == 'i') or (band == 'y'):\n",
    "        master_catalogue[\"f_des-decam_{}\".format(band)].name = \"f_decam_{}\".format(band)\n",
    "        master_catalogue[\"ferr_des-decam_{}\".format(band)].name = \"ferr_decam_{}\".format(band)\n",
    "        master_catalogue[\"m_des-decam_{}\".format(band)].name = \"m_decam_{}\".format(band)\n",
    "        master_catalogue[\"merr_des-decam_{}\".format(band)].name = \"merr_decam_{}\".format(band)\n",
    "        master_catalogue[\"f_ap_des-decam_{}\".format(band)].name = \"f_ap_decam_{}\".format(band)\n",
    "        master_catalogue[\"ferr_ap_des-decam_{}\".format(band)].name = \"ferr_ap_decam_{}\".format(band)\n",
    "        master_catalogue[\"m_ap_des-decam_{}\".format(band)].name = \"m_ap_decam_{}\".format(band)\n",
    "        master_catalogue[\"merr_ap_des-decam_{}\".format(band)].name = \"merr_ap_decam_{}\".format(band)\n",
    "        master_catalogue[\"flag_des-decam_{}\".format(band)].name = \"flag_decam_{}\".format(band)\n",
    "        \n",
    "        continue\n",
    "\n",
    "    # DECam total flux \n",
    "    has_des = ~np.isnan(master_catalogue['f_des-decam_' + band])\n",
    "    has_decals = ~np.isnan(master_catalogue['f_decals-decam_' + band])\n",
    "\n",
    "    use_des = has_des \n",
    "    use_decals = has_decals & ~has_des\n",
    "\n",
    "\n",
    "    f_decam = np.full(len(master_catalogue), np.nan)\n",
    "    f_decam[use_des] = master_catalogue['f_des-decam_' + band][use_des]\n",
    "    f_decam[use_decals] = master_catalogue['f_decals-decam_' + band][use_decals]\n",
    "\n",
    "    ferr_decam = np.full(len(master_catalogue), np.nan)\n",
    "    ferr_decam[use_des] = master_catalogue['ferr_des-decam_' + band][use_des]\n",
    "    ferr_decam[use_decals] = master_catalogue['ferr_decals-decam_' + band][use_decals]\n",
    "    \n",
    "    m_decam = np.full(len(master_catalogue), np.nan)\n",
    "    m_decam[use_des] = master_catalogue['m_des-decam_' + band][use_des]\n",
    "    m_decam[use_decals] = master_catalogue['m_decals-decam_' + band][use_decals]\n",
    "    \n",
    "    merr_decam = np.full(len(master_catalogue), np.nan)\n",
    "    merr_decam[use_des] = master_catalogue['merr_des-decam_' + band][use_des]\n",
    "    merr_decam[use_decals] = master_catalogue['merr_decals-decam_' + band][use_decals]\n",
    "    \n",
    "    flag_decam = np.full(len(master_catalogue), False, dtype=bool)\n",
    "    flag_decam[use_des] = master_catalogue['flag_des-decam_' + band][use_des]\n",
    "    flag_decam[use_decals] = master_catalogue['flag_decals-decam_' + band][use_decals]\n",
    "\n",
    "    master_catalogue.add_column(Column(data=f_decam, name=\"f_decam_\" + band))\n",
    "    master_catalogue.add_column(Column(data=ferr_decam, name=\"ferr_decam_\" + band))\n",
    "    master_catalogue.add_column(Column(data=m_decam, name=\"m_decam_\" + band))\n",
    "    master_catalogue.add_column(Column(data=merr_decam, name=\"merr_decam_\" + band))\n",
    "    master_catalogue.add_column(Column(data=flag_decam, name=\"flag_decam_\" + band))\n",
    "\n",
    "\n",
    "    old_des_columns = ['f_des-decam_' + band,\n",
    "                               'ferr_des-decam_' + band,\n",
    "                               'm_des-decam_' + band, \n",
    "                               'merr_des-decam_' + band,\n",
    "                               'flag_des-decam_' + band]\n",
    "    old_decals_columns =      ['f_decals-decam_' + band,\n",
    "                               'ferr_decals-decam_' + band,\n",
    "                               'm_decals-decam_' + band, \n",
    "                               'merr_decals-decam_' + band,\n",
    "                               'flag_decals-decam_' + band]\n",
    "    \n",
    "    old_columns = old_des_columns + old_decals_columns\n",
    "    master_catalogue.remove_columns(old_columns)\n",
    "\n",
    "    origin = np.full(len(master_catalogue), '     ', dtype='<U5')\n",
    "    origin[use_des] = \"DES\"\n",
    "    origin[use_decals] = \"DECaLS\"\n",
    "\n",
    "    \n",
    "    decam_origin.add_column(Column(data=origin, name= 'f_decam_' + band ))\n",
    "    \n",
    "    # DECam aperture flux \n",
    " \n",
    "    has_ap_des = ~np.isnan(master_catalogue['f_ap_des-decam_' + band])\n",
    "    has_ap_decals = ~np.isnan(master_catalogue['f_ap_decals-decam_' + band])\n",
    "\n",
    "    use_ap_des = has_ap_des \n",
    "    use_ap_decals = has_ap_decals & ~has_ap_des\n",
    "\n",
    "\n",
    "    f_ap_decam = np.full(len(master_catalogue), np.nan)\n",
    "    f_ap_decam[use_ap_des] = master_catalogue['f_ap_des-decam_' + band][use_ap_des]\n",
    "    f_ap_decam[use_ap_decals] = master_catalogue['f_ap_decals-decam_' + band][use_ap_decals]\n",
    "\n",
    "    ferr_ap_decam = np.full(len(master_catalogue), np.nan)\n",
    "    ferr_ap_decam[use_ap_des] = master_catalogue['ferr_ap_des-decam_' + band][use_ap_des]\n",
    "    ferr_ap_decam[use_ap_decals] = master_catalogue['ferr_ap_decals-decam_' + band][use_ap_decals]\n",
    "    \n",
    "    m_ap_decam = np.full(len(master_catalogue), np.nan)\n",
    "    m_ap_decam[use_ap_des] = master_catalogue['m_ap_des-decam_' + band][use_ap_des]\n",
    "    m_ap_decam[use_ap_decals] = master_catalogue['m_ap_decals-decam_' + band][use_ap_decals]\n",
    "    \n",
    "    merr_ap_decam = np.full(len(master_catalogue), np.nan)\n",
    "    merr_ap_decam[use_ap_des] = master_catalogue['merr_ap_des-decam_' + band][use_ap_des]\n",
    "    merr_ap_decam[use_ap_decals] = master_catalogue['merr_ap_decals-decam_' + band][use_ap_decals]\n",
    "    \n",
    "\n",
    "    master_catalogue.add_column(Column(data=f_ap_decam, name=\"f_ap_decam_\" + band))\n",
    "    master_catalogue.add_column(Column(data=ferr_ap_decam, name=\"ferr_ap_decam_\" + band))\n",
    "    master_catalogue.add_column(Column(data=m_ap_decam, name=\"m_ap_decam_\" + band))\n",
    "    master_catalogue.add_column(Column(data=merr_ap_decam, name=\"merr_ap_decam_\" + band))\n",
    "  \n",
    "\n",
    "\n",
    "    old_ap_des_columns = ['f_ap_des-decam_' + band,\n",
    "                               'ferr_ap_des-decam_' + band,\n",
    "                               'm_ap_des-decam_' + band, \n",
    "                               'merr_ap_des-decam_' + band]\n",
    "    old_ap_decals_columns =      ['f_ap_decals-decam_' + band,\n",
    "                               'ferr_ap_decals-decam_' + band,\n",
    "                               'm_ap_decals-decam_' + band, \n",
    "                               'merr_ap_decals-decam_' + band]\n",
    "    \n",
    "    old_ap_columns = old_ap_des_columns + old_ap_decals_columns\n",
    "    master_catalogue.remove_columns(old_ap_columns)\n",
    "\n",
    "    origin_ap = np.full(len(master_catalogue), '     ', dtype='<U5')\n",
    "    origin_ap[use_ap_des] = \"DES\"\n",
    "    origin_ap[use_ap_decals] = \"DECaLS\"\n",
    "\n",
    "    \n",
    "    decam_origin.add_column(Column(data=origin_ap, name= 'f_ap_decam_' + band ))    \n",
    "\n",
    "   \n",
    "    decam_stats['DES'][decam_stats['Band'] == band] = np.sum(has_des)\n",
    "    decam_stats['DECaLS'][decam_stats['Band'] == band] = np.sum(has_decals)\n",
    "\n",
    "    decam_stats['use DES'][decam_stats['Band'] == band] = np.sum(use_des)\n",
    "    decam_stats['use DECaLS'][decam_stats['Band'] == band] = np.sum(use_decals)\n",
    "\n",
    "    decam_stats['DES ap'][decam_stats['Band'] == band] = np.sum(has_ap_des)\n",
    "    decam_stats['DECaLS ap'][decam_stats['Band'] == band] = np.sum(has_ap_decals)\n",
    "\n",
    "    decam_stats['use DES ap'][decam_stats['Band'] == band] = np.sum(use_ap_des)\n",
    "    decam_stats['use DECaLS ap'][decam_stats['Band'] == band] = np.sum(use_ap_decals)\n"
   ]
  },
  {
   "cell_type": "code",
   "execution_count": 19,
   "metadata": {},
   "outputs": [
    {
     "data": {
      "text/html": [
       "&lt;Table length=5&gt;\n",
       "<table id=\"table140035174285944-425597\" class=\"table-striped table-bordered table-condensed\">\n",
       "<thead><tr><th>idx</th><th>Band</th><th>DES</th><th>use DES</th><th>DES ap</th><th>use DES ap</th><th>DECaLS</th><th>use DECaLS</th><th>DECaLS ap</th><th>use DECaLS ap</th></tr></thead>\n",
       "<tr><td>0</td><td>g</td><td>1471093.0</td><td>1471093.0</td><td>1484375.0</td><td>1484375.0</td><td>1826777.0</td><td>501798.0</td><td>1732357.0</td><td>430954.0</td></tr>\n",
       "<tr><td>1</td><td>r</td><td>1503931.0</td><td>1503931.0</td><td>1505413.0</td><td>1505413.0</td><td>1825016.0</td><td>475749.0</td><td>1756613.0</td><td>418542.0</td></tr>\n",
       "<tr><td>2</td><td>i</td><td>0.0</td><td>0.0</td><td>0.0</td><td>0.0</td><td>0.0</td><td>0.0</td><td>0.0</td><td>0.0</td></tr>\n",
       "<tr><td>3</td><td>z</td><td>1489891.0</td><td>1489891.0</td><td>1502365.0</td><td>1502365.0</td><td>1826438.0</td><td>487714.0</td><td>1657504.0</td><td>378961.0</td></tr>\n",
       "<tr><td>4</td><td>y</td><td>0.0</td><td>0.0</td><td>0.0</td><td>0.0</td><td>0.0</td><td>0.0</td><td>0.0</td><td>0.0</td></tr>\n",
       "</table><style>table.dataTable {clear: both; width: auto !important; margin: 0 !important;}\n",
       ".dataTables_info, .dataTables_length, .dataTables_filter, .dataTables_paginate{\n",
       "display: inline-block; margin-right: 1em; }\n",
       ".paginate_button { margin-right: 5px; }\n",
       "</style>\n",
       "<script>\n",
       "require.config({paths: {\n",
       "    datatables: 'https://cdn.datatables.net/1.10.12/js/jquery.dataTables.min'\n",
       "}});\n",
       "require([\"datatables\"], function(){\n",
       "    console.log(\"$('#table140035174285944-425597').dataTable()\");\n",
       "    $('#table140035174285944-425597').dataTable({\n",
       "        \"order\": [],\n",
       "        \"iDisplayLength\": 50,\n",
       "        \"aLengthMenu\": [[10, 25, 50, 100, 500, 1000, -1], [10, 25, 50, 100, 500, 1000, 'All']],\n",
       "        \"pagingType\": \"full_numbers\"\n",
       "    });\n",
       "});\n",
       "</script>\n"
      ],
      "text/plain": [
       "<IPython.core.display.HTML object>"
      ]
     },
     "execution_count": 19,
     "metadata": {},
     "output_type": "execute_result"
    }
   ],
   "source": [
    "decam_stats.show_in_notebook()"
   ]
  },
  {
   "cell_type": "code",
   "execution_count": 20,
   "metadata": {
    "collapsed": true
   },
   "outputs": [],
   "source": [
    "decam_origin.write(\"{}/xmm-lss_decam_fluxes_origins{}.fits\".format(OUT_DIR, SUFFIX), overwrite=True)"
   ]
  },
  {
   "cell_type": "markdown",
   "metadata": {},
   "source": [
    "## IX - Saving the catalogue"
   ]
  },
  {
   "cell_type": "code",
   "execution_count": 21,
   "metadata": {},
   "outputs": [
    {
     "data": {
      "text/plain": [
       "['des_id',\n",
       " 'ra',\n",
       " 'dec',\n",
       " 'm_decam_i',\n",
       " 'merr_decam_i',\n",
       " 'm_ap_decam_i',\n",
       " 'merr_ap_decam_i',\n",
       " 'm_decam_y',\n",
       " 'merr_decam_y',\n",
       " 'm_ap_decam_y',\n",
       " 'merr_ap_decam_y',\n",
       " 'f_decam_i',\n",
       " 'ferr_decam_i',\n",
       " 'flag_decam_i',\n",
       " 'f_ap_decam_i',\n",
       " 'ferr_ap_decam_i',\n",
       " 'f_decam_y',\n",
       " 'ferr_decam_y',\n",
       " 'flag_decam_y',\n",
       " 'f_ap_decam_y',\n",
       " 'ferr_ap_decam_y',\n",
       " 'flag_merged',\n",
       " 'decals_id',\n",
       " 'decam_flag_cleaned',\n",
       " 'decam_flag_gaia',\n",
       " 'decam_stellarity',\n",
       " 'decam_intid',\n",
       " 'f_decam_g',\n",
       " 'ferr_decam_g',\n",
       " 'm_decam_g',\n",
       " 'merr_decam_g',\n",
       " 'flag_decam_g',\n",
       " 'f_ap_decam_g',\n",
       " 'ferr_ap_decam_g',\n",
       " 'm_ap_decam_g',\n",
       " 'merr_ap_decam_g',\n",
       " 'f_decam_r',\n",
       " 'ferr_decam_r',\n",
       " 'm_decam_r',\n",
       " 'merr_decam_r',\n",
       " 'flag_decam_r',\n",
       " 'f_ap_decam_r',\n",
       " 'ferr_ap_decam_r',\n",
       " 'm_ap_decam_r',\n",
       " 'merr_ap_decam_r',\n",
       " 'f_decam_z',\n",
       " 'ferr_decam_z',\n",
       " 'm_decam_z',\n",
       " 'merr_decam_z',\n",
       " 'flag_decam_z',\n",
       " 'f_ap_decam_z',\n",
       " 'ferr_ap_decam_z',\n",
       " 'm_ap_decam_z',\n",
       " 'merr_ap_decam_z']"
      ]
     },
     "execution_count": 21,
     "metadata": {},
     "output_type": "execute_result"
    }
   ],
   "source": [
    "master_catalogue.colnames"
   ]
  },
  {
   "cell_type": "code",
   "execution_count": 22,
   "metadata": {
    "collapsed": true
   },
   "outputs": [],
   "source": [
    "master_catalogue[\"ra\"].name = \"decam_ra\"\n",
    "master_catalogue[\"dec\"].name = \"decam_dec\"\n",
    "master_catalogue[\"flag_merged\"].name = \"decam_flag_merged\""
   ]
  },
  {
   "cell_type": "code",
   "execution_count": 23,
   "metadata": {
    "collapsed": true
   },
   "outputs": [],
   "source": [
    "columns = [\"decam_intid\", \"des_id\", \"decals_id\",\n",
    "           'decam_ra', 'decam_dec', 'decam_flag_merged',  \n",
    "           'decam_flag_cleaned',  'decam_flag_gaia', 'decam_stellarity']\n",
    "\n",
    "bands = [column[5:] for column in master_catalogue.colnames if 'f_ap' in column]\n",
    "for band in bands:\n",
    "    columns += [\"f_ap_{}\".format(band), \"ferr_ap_{}\".format(band),\n",
    "                \"m_ap_{}\".format(band), \"merr_ap_{}\".format(band),\n",
    "                \"f_{}\".format(band), \"ferr_{}\".format(band),\n",
    "                \"m_{}\".format(band), \"merr_{}\".format(band),\n",
    "                \"flag_{}\".format(band)]    \n"
   ]
  },
  {
   "cell_type": "code",
   "execution_count": 24,
   "metadata": {},
   "outputs": [
    {
     "name": "stdout",
     "output_type": "stream",
     "text": [
      "Missing columns: set()\n"
     ]
    }
   ],
   "source": [
    "# We check for columns in the master catalogue that we will not save to disk.\n",
    "print(\"Missing columns: {}\".format(set(master_catalogue.colnames) - set(columns)))"
   ]
  },
  {
   "cell_type": "code",
   "execution_count": 25,
   "metadata": {},
   "outputs": [
    {
     "data": {
      "text/html": [
       "&lt;Table length=10&gt;\n",
       "<table id=\"table140035423111880-61610\" class=\"table-striped table-bordered table-condensed\">\n",
       "<thead><tr><th>idx</th><th>des_id</th><th>decam_ra</th><th>decam_dec</th><th>m_decam_i</th><th>merr_decam_i</th><th>m_ap_decam_i</th><th>merr_ap_decam_i</th><th>m_decam_y</th><th>merr_decam_y</th><th>m_ap_decam_y</th><th>merr_ap_decam_y</th><th>f_decam_i</th><th>ferr_decam_i</th><th>flag_decam_i</th><th>f_ap_decam_i</th><th>ferr_ap_decam_i</th><th>f_decam_y</th><th>ferr_decam_y</th><th>flag_decam_y</th><th>f_ap_decam_y</th><th>ferr_ap_decam_y</th><th>decam_flag_merged</th><th>decals_id</th><th>decam_flag_cleaned</th><th>decam_flag_gaia</th><th>decam_stellarity</th><th>decam_intid</th><th>f_decam_g</th><th>ferr_decam_g</th><th>m_decam_g</th><th>merr_decam_g</th><th>flag_decam_g</th><th>f_ap_decam_g</th><th>ferr_ap_decam_g</th><th>m_ap_decam_g</th><th>merr_ap_decam_g</th><th>f_decam_r</th><th>ferr_decam_r</th><th>m_decam_r</th><th>merr_decam_r</th><th>flag_decam_r</th><th>f_ap_decam_r</th><th>ferr_ap_decam_r</th><th>m_ap_decam_r</th><th>merr_ap_decam_r</th><th>f_decam_z</th><th>ferr_decam_z</th><th>m_decam_z</th><th>merr_decam_z</th><th>flag_decam_z</th><th>f_ap_decam_z</th><th>ferr_ap_decam_z</th><th>m_ap_decam_z</th><th>merr_ap_decam_z</th></tr></thead>\n",
       "<thead><tr><th></th><th></th><th>deg</th><th>deg</th><th></th><th></th><th></th><th></th><th></th><th></th><th></th><th></th><th></th><th></th><th></th><th></th><th></th><th></th><th></th><th></th><th></th><th></th><th></th><th></th><th></th><th></th><th></th><th></th><th></th><th></th><th></th><th></th><th></th><th></th><th></th><th></th><th></th><th></th><th></th><th></th><th></th><th></th><th></th><th></th><th></th><th></th><th></th><th></th><th></th><th></th><th></th><th></th><th></th><th></th><th></th></tr></thead>\n",
       "<tr><td>0</td><td>88218898</td><td>33.2282420777</td><td>-3.0703912028</td><td>17.5501842499</td><td>0.00468100514263</td><td>20.1605577469</td><td>0.0132164834067</td><td>13.8476161957</td><td>0.00237594149075</td><td>13.8538446426</td><td>0.00125757383648</td><td>346.67801406</td><td>1.4946554785</td><td>False</td><td>31.3167655667</td><td>0.381213696892</td><td>10494.3011245</td><td>22.9649203452</td><td>False</td><td>10434.2717416</td><td>12.0856862722</td><td>False</td><td>-1</td><td>False</td><td>3</td><td>0.999468266964</td><td>88218898-1</td><td>3975.21321838</td><td>0.857647853751</td><td>14.9015989304</td><td>0.000234246384935</td><td>False</td><td>3109.73395768</td><td>0.800518249916</td><td>15.1681919098</td><td>0.000279493891867</td><td>450.648300975</td><td>0.960871609582</td><td>17.2654056549</td><td>0.0023150050547</td><td>False</td><td>43.037138105</td><td>0.313316910142</td><td>19.8153915405</td><td>0.00790432468057</td><td>635.074323763</td><td>3.16848327936</td><td>16.8929386139</td><td>0.00541690457612</td><td>False</td><td>24.4896050388</td><td>0.572101106405</td><td>20.4275455475</td><td>0.0253638587892</td></tr>\n",
       "<tr><td>1</td><td>117493832</td><td>36.8564790777</td><td>-6.9075552028</td><td>17.3662700653</td><td>0.00278971693479</td><td>19.6503515244</td><td>0.00777488294989</td><td>14.3034200668</td><td>0.00111810828093</td><td>14.3385000229</td><td>0.000496420194395</td><td>410.669050299</td><td>1.05518301701</td><td>False</td><td>50.102499256</td><td>0.358780581789</td><td>6896.55133511</td><td>7.10217742015</td><td>False</td><td>6677.28619388</td><td>3.05298809773</td><td>False</td><td>-1</td><td>False</td><td>3</td><td>0.998808920383</td><td>117493832-1</td><td>2494.97540577</td><td>0.69468994455</td><td>15.4073343277</td><td>0.000302307598758</td><td>False</td><td>2564.28906261</td><td>0.691662134691</td><td>15.37758255</td><td>0.000292854121653</td><td>364.45070439</td><td>0.739916521155</td><td>17.4959030151</td><td>0.00220428756438</td><td>False</td><td>45.7517183143</td><td>0.213772676978</td><td>19.7489814758</td><td>0.00507304957137</td><td>497.943798989</td><td>2.31033312679</td><td>17.1570491791</td><td>0.00503754103556</td><td>False</td><td>50.3655210559</td><td>0.641067380171</td><td>19.6446666718</td><td>0.0138195743784</td></tr>\n",
       "<tr><td>2</td><td>112078864</td><td>36.0083600777</td><td>-2.3679092028</td><td>17.2500267029</td><td>0.00321809528396</td><td>19.7955636978</td><td>0.00999093055725</td><td>13.9780282974</td><td>0.000917025841773</td><td>14.0133342743</td><td>0.000442961230874</td><td>457.076948006</td><td>1.35476478019</td><td>False</td><td>43.8303078363</td><td>0.403325927584</td><td>9306.54927289</td><td>7.8604233179</td><td>False</td><td>9008.78640924</td><td>3.67542603722</td><td>False</td><td>-1</td><td>False</td><td>3</td><td>0.999278306961</td><td>112078864-1</td><td>2306.47302376</td><td>0.690321462233</td><td>15.4926290512</td><td>0.000324958062265</td><td>False</td><td>2311.94139961</td><td>0.628563700872</td><td>15.4900579453</td><td>0.000295186706353</td><td>308.71071014</td><td>0.819567555368</td><td>17.6761207581</td><td>0.00288242078386</td><td>False</td><td>33.5457858325</td><td>0.290566033979</td><td>20.0859050751</td><td>0.00940440222621</td><td>661.48874762</td><td>2.6158399041</td><td>16.8486938477</td><td>0.00429351534694</td><td>False</td><td>60.9107660217</td><td>0.7168208425</td><td>19.4382648468</td><td>0.0127773527056</td></tr>\n",
       "<tr><td>3</td><td>94364659</td><td>34.6459160777</td><td>-6.9474082028</td><td>17.702085495</td><td>0.00583842443302</td><td>22.2413682938</td><td>0.03655680269</td><td>13.949962616</td><td>0.000871613738127</td><td>14.1731328964</td><td>0.00055247155251</td><td>301.415652879</td><td>1.6208288022</td><td>False</td><td>4.60736567517</td><td>0.155130276738</td><td>9550.25468861</td><td>7.66680999742</td><td>False</td><td>7775.83150797</td><td>3.95669379582</td><td>False</td><td>-1</td><td>False</td><td>3</td><td>0.999887526035</td><td>94364659-1</td><td>3579.32171719</td><td>0.953348910446</td><td>15.0154981613</td><td>0.000289184798021</td><td>False</td><td>3776.58269705</td><td>1.04409161902</td><td>14.9572525024</td><td>0.000300167681416</td><td>737.660876842</td><td>1.24072844593</td><td>16.7303581238</td><td>0.00182618305553</td><td>False</td><td>85.258754338</td><td>0.324602784205</td><td>19.0731525421</td><td>0.00413368688896</td><td>595.583876504</td><td>3.07274308757</td><td>16.9626426697</td><td>0.00560154253617</td><td>False</td><td>64.1456493396</td><td>1.10464759318</td><td>19.3820819855</td><td>0.0186973847449</td></tr>\n",
       "<tr><td>4</td><td>94365504</td><td>34.6207650777</td><td>-6.9686532028</td><td>17.2819671631</td><td>0.00338827166706</td><td>19.6915636063</td><td>0.00650342321023</td><td>13.4329881668</td><td>0.000558770436328</td><td>13.7376356125</td><td>0.000382722559152</td><td>443.826403153</td><td>1.38505506246</td><td>False</td><td>48.2363633039</td><td>0.288929744917</td><td>15374.6321336</td><td>7.91250201295</td><td>False</td><td>11613.0355365</td><td>4.09360087706</td><td>False</td><td>-1</td><td>False</td><td>3</td><td>0.991078555584</td><td>94365504-1</td><td>3829.32321416</td><td>1.07436185134</td><td>14.9421949387</td><td>0.00030461611459</td><td>False</td><td>3854.41304017</td><td>1.11725052943</td><td>14.9351043701</td><td>0.000314714416163</td><td>782.738396377</td><td>1.19635202548</td><td>16.6659584045</td><td>0.00165945955086</td><td>False</td><td>82.5696946826</td><td>0.36079966776</td><td>19.1079483032</td><td>0.00474427407607</td><td>1062.67422383</td><td>2.72578038928</td><td>16.3339996338</td><td>0.0027849348262</td><td>False</td><td>97.4816866118</td><td>0.54387175414</td><td>18.9276924133</td><td>0.00605756090954</td></tr>\n",
       "<tr><td>5</td><td>90862137</td><td>33.5849720777</td><td>-6.3809972028</td><td>17.6717643738</td><td>0.00392187386751</td><td>20.9574346542</td><td>0.0150378113613</td><td>13.8674116135</td><td>0.000931858783588</td><td>13.9963550568</td><td>0.000504301278852</td><td>309.951862584</td><td>1.11960170871</td><td>False</td><td>15.0323243642</td><td>0.208202744939</td><td>10304.7000451</td><td>8.84425259759</td><td>False</td><td>9150.77711296</td><td>4.25034053422</td><td>False</td><td>-1</td><td>False</td><td>3</td><td>0.999827504158</td><td>90862137-1</td><td>3302.8744034</td><td>0.927809258044</td><td>15.1027698517</td><td>0.000304993765894</td><td>False</td><td>3276.27713184</td><td>0.950657011928</td><td>15.1115484238</td><td>0.000315041339491</td><td>438.845866133</td><td>0.852545060681</td><td>17.2942199707</td><td>0.00210925773717</td><td>False</td><td>44.4964640216</td><td>0.292979159852</td><td>19.7791862488</td><td>0.00714883953333</td><td>802.134944514</td><td>2.27107892608</td><td>16.6393814087</td><td>0.00307403714396</td><td>False</td><td>74.8517774926</td><td>0.613999406161</td><td>19.2144947052</td><td>0.00890615303069</td></tr>\n",
       "<tr><td>6</td><td>90853704</td><td>33.3406230777</td><td>-6.2153602028</td><td>17.9346008301</td><td>0.00319461734034</td><td>20.8327856064</td><td>0.0165109969676</td><td>14.431429863</td><td>0.000800543639343</td><td>14.491736412</td><td>0.000590220966842</td><td>243.309837105</td><td>0.715903017035</td><td>False</td><td>16.8610943056</td><td>0.256409868005</td><td>6129.54241786</td><td>4.5194828847</td><td>False</td><td>5798.36346452</td><td>3.15206923665</td><td>False</td><td>-1</td><td>False</td><td>3</td><td>0.997185707092</td><td>90853704-1</td><td>2978.32764832</td><td>0.722861674673</td><td>15.2150688171</td><td>0.000263516034465</td><td>False</td><td>2985.28926792</td><td>0.874962208502</td><td>15.2125339508</td><td>0.000318219797919</td><td>2118.05592842</td><td>0.727528496237</td><td>15.5851564407</td><td>0.000372938229702</td><td>False</td><td>1622.43131734</td><td>0.702033368562</td><td>15.874584198</td><td>0.000469802966109</td><td>506.019587058</td><td>1.15316783305</td><td>17.1395816803</td><td>0.00247428379953</td><td>False</td><td>64.9458297199</td><td>0.473677951233</td><td>19.3686218262</td><td>0.00791874248534</td></tr>\n",
       "<tr><td>7</td><td>130367335</td><td>37.8239360777</td><td>-3.8429172028</td><td>17.6211147308</td><td>0.00597749743611</td><td>20.3152608871</td><td>0.0136634055525</td><td>14.3554697037</td><td>0.00151116016787</td><td>14.3119401932</td><td>0.000597210542765</td><td>324.753699901</td><td>1.78792454375</td><td>False</td><td>27.1578662509</td><td>0.341767124372</td><td>6573.73387511</td><td>9.14951969243</td><td>False</td><td>6842.64363828</td><td>3.76380459936</td><td>False</td><td>-1</td><td>False</td><td>3</td><td>0.999870359898</td><td>130367335-1</td><td>3672.82558585</td><td>1.03843130227</td><td>14.9874992371</td><td>0.000306974136038</td><td>False</td><td>3867.35072055</td><td>1.13836268018</td><td>14.9314661026</td><td>0.000319588696584</td><td>415.043889817</td><td>0.802086568193</td><td>17.3547649384</td><td>0.00209822249599</td><td>False</td><td>48.3632562119</td><td>0.213617464034</td><td>19.6887111664</td><td>0.00479562859982</td><td>386.322562624</td><td>4.05744735064</td><td>17.4326248169</td><td>0.0114032104611</td><td>False</td><td>41.3508291633</td><td>0.74107692295</td><td>19.858789444</td><td>0.0194582324475</td></tr>\n",
       "<tr><td>8</td><td>120096673</td><td>37.3318450777</td><td>-3.0320412028</td><td>17.5405426025</td><td>0.00411444669589</td><td>20.225564003</td><td>0.014495683834</td><td>14.0837974548</td><td>0.000989286112599</td><td>14.1024522781</td><td>0.000453401589766</td><td>349.770323732</td><td>1.32547053925</td><td>False</td><td>29.4967657207</td><td>0.393811856083</td><td>8442.69340186</td><td>7.69269671471</td><td>False</td><td>8298.87243129</td><td>3.46559499179</td><td>False</td><td>-1</td><td>False</td><td>3</td><td>0.998626232147</td><td>120096673-1</td><td>2881.64618115</td><td>0.803581033816</td><td>15.2508983612</td><td>0.000302770349663</td><td>False</td><td>2774.97580619</td><td>0.81743815334</td><td>15.2918519974</td><td>0.000319830607623</td><td>420.903991676</td><td>0.745556825972</td><td>17.3395423889</td><td>0.00192318926565</td><td>False</td><td>48.8542595423</td><td>0.211872700919</td><td>19.6777439117</td><td>0.00470865517855</td><td>533.37589699</td><td>2.90877445203</td><td>17.0824165344</td><td>0.0059210807085</td><td>False</td><td>37.6679631992</td><td>0.689933405059</td><td>19.9600696564</td><td>0.0198865458369</td></tr>\n",
       "<tr><td>9</td><td>112065990</td><td>35.5748180777</td><td>-2.1198472028</td><td>17.5717964172</td><td>0.00448564626276</td><td>19.9845666885</td><td>0.0116816433147</td><td>14.5205106735</td><td>0.00150599749759</td><td>14.5645503998</td><td>0.000650528934784</td><td>339.845429133</td><td>1.40404858236</td><td>False</td><td>36.8275921251</td><td>0.396235101545</td><td>5646.71320487</td><td>7.83241446575</td><td>False</td><td>5422.25377878</td><td>3.24879373036</td><td>False</td><td>-1</td><td>False</td><td>3</td><td>0.999845087528</td><td>112065990-1</td><td>3433.76499407</td><td>1.02930012668</td><td>15.0605735779</td><td>0.000325458619045</td><td>False</td><td>3659.80243367</td><td>1.08301210279</td><td>14.991355896</td><td>0.000321292056469</td><td>287.230120532</td><td>0.822244062776</td><td>17.7544250488</td><td>0.00310810073279</td><td>False</td><td>31.4491636434</td><td>0.248026617341</td><td>20.1559772491</td><td>0.00856275483966</td><td>376.996069643</td><td>2.73136992919</td><td>17.4591579437</td><td>0.00786625500768</td><td>False</td><td>38.4362138107</td><td>0.854788877265</td><td>19.9381484985</td><td>0.024145854637</td></tr>\n",
       "</table><style>table.dataTable {clear: both; width: auto !important; margin: 0 !important;}\n",
       ".dataTables_info, .dataTables_length, .dataTables_filter, .dataTables_paginate{\n",
       "display: inline-block; margin-right: 1em; }\n",
       ".paginate_button { margin-right: 5px; }\n",
       "</style>\n",
       "<script>\n",
       "require.config({paths: {\n",
       "    datatables: 'https://cdn.datatables.net/1.10.12/js/jquery.dataTables.min'\n",
       "}});\n",
       "require([\"datatables\"], function(){\n",
       "    console.log(\"$('#table140035423111880-61610').dataTable()\");\n",
       "    $('#table140035423111880-61610').dataTable({\n",
       "        \"order\": [],\n",
       "        \"iDisplayLength\": 50,\n",
       "        \"aLengthMenu\": [[10, 25, 50, 100, 500, 1000, -1], [10, 25, 50, 100, 500, 1000, 'All']],\n",
       "        \"pagingType\": \"full_numbers\"\n",
       "    });\n",
       "});\n",
       "</script>\n"
      ],
      "text/plain": [
       "<IPython.core.display.HTML object>"
      ]
     },
     "execution_count": 25,
     "metadata": {},
     "output_type": "execute_result"
    }
   ],
   "source": [
    "master_catalogue[:10].show_in_notebook()"
   ]
  },
  {
   "cell_type": "code",
   "execution_count": 26,
   "metadata": {
    "collapsed": true
   },
   "outputs": [],
   "source": [
    "master_catalogue[columns].write(\"{}/decam_merged_catalogue_xmm-lss.fits\".format(TMP_DIR), overwrite=True)"
   ]
  }
 ],
 "metadata": {
  "kernelspec": {
   "display_name": "Python (herschelhelp_internal)",
   "language": "python",
   "name": "helpint"
  },
  "language_info": {
   "codemirror_mode": {
    "name": "ipython",
    "version": 3
   },
   "file_extension": ".py",
   "mimetype": "text/x-python",
   "name": "python",
   "nbconvert_exporter": "python",
   "pygments_lexer": "ipython3",
   "version": "3.6.1"
  }
 },
 "nbformat": 4,
 "nbformat_minor": 2
}
