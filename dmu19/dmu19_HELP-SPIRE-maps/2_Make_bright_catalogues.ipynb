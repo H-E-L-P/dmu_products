{
 "cells": [
  {
   "cell_type": "markdown",
   "id": "quarterly-opposition",
   "metadata": {},
   "source": [
    "# Make catalogue of sources above limit\n",
    "\n",
    "We want a definitive list of bright objects. Here we look for all pixels above a level and make a catalogue of 'sources' of contiguous regions of such pixels."
   ]
  },
  {
   "cell_type": "code",
   "execution_count": null,
   "id": "representative-riding",
   "metadata": {},
   "outputs": [],
   "source": [
    "import glob\n",
    "import numpy as np\n",
    "import matplotlib.pyplot as plt\n",
    "from astropy.table import Table,vstack\n",
    "from astropy.wcs import WCS\n",
    "from astropy.io import fits\n",
    "from scipy.ndimage import label, generate_binary_structure\n",
    "\n"
   ]
  },
  {
   "cell_type": "code",
   "execution_count": null,
   "id": "constitutional-quilt",
   "metadata": {},
   "outputs": [],
   "source": [
    "maps = glob.glob('./data/*SPIRE500_v1.0.fits')"
   ]
  },
  {
   "cell_type": "code",
   "execution_count": null,
   "id": "chief-albany",
   "metadata": {},
   "outputs": [],
   "source": [
    "maps"
   ]
  },
  {
   "cell_type": "code",
   "execution_count": null,
   "id": "varied-joyce",
   "metadata": {},
   "outputs": [],
   "source": [
    "!mkdir figs"
   ]
  },
  {
   "cell_type": "code",
   "execution_count": null,
   "id": "awful-omega",
   "metadata": {},
   "outputs": [],
   "source": [
    "def makeCat(mapName,limit=100.e-3):\n",
    "    \"open map and make catalogue of sources\"\n",
    "    #mapName=maps[2]\n",
    "    #limit= 100.e-3\n",
    "\n",
    "    f=fits.open(mapName)\n",
    "    w = WCS(f[1].header)\n",
    "    #open the image as numpy array\n",
    "    image = f[1].data\n",
    "    #make a mask above the limit\n",
    "    aboveLim = image>limit\n",
    "    #show the whole image\n",
    "\n",
    "    #get contiguous regions\n",
    "    labeled_array, num_features = label(aboveLim)\n",
    "    \n",
    "    #make the catalogue of sources\n",
    "    cat = Table()\n",
    "    cat['id']=np.arange(1,num_features)\n",
    "    cat['field']=mapName.split('/')[-1].split('_')[0]\n",
    "    cat['field'] = cat['field'].astype('U50')\n",
    "    cat['num_pixels']=[np.sum(labeled_array==i) for i in cat['id']]\n",
    "    # cat['pixel_values']\n",
    "    cat['pixel_x'] = [np.where(labeled_array == i)[0] for i in cat['id']]\n",
    "    cat['pixel_y'] = [np.where(labeled_array == i)[1] for i in cat['id']]\n",
    "    cat['pixel_ra'] =[\n",
    "        w.pixel_to_world(\n",
    "            np.where(labeled_array == i)[0],np.where(labeled_array == i)[1]\n",
    "        ).ra.deg \n",
    "        for i in cat['id']]\n",
    "    cat['pixel_dec'] =[\n",
    "        w.pixel_to_world(\n",
    "            np.where(labeled_array == i)[0],np.where(labeled_array == i)[1]\n",
    "        ).dec.deg \n",
    "        for i in cat['id']]\n",
    "    cat['pixel_value']= [image[row['pixel_x'],row['pixel_y']] for row in cat]\n",
    "    cat['peak_pixel_value'] = [np.max(row['pixel_value']) for row in cat]\n",
    "    cat['peak_index'] = [int(np.where(np.isclose(row['pixel_value'],row['peak_pixel_value']))[0]) for row in cat]\n",
    "    cat['peak_pixel_x'] = [row['pixel_x'][row['peak_index']] for row in cat]\n",
    "    cat['peak_pixel_y'] = [row['pixel_y'][row['peak_index']] for row in cat]\n",
    "    cat['peak_pixel_ra'] = [row['pixel_ra'][row['peak_index']] for row in cat]\n",
    "    cat['peak_pixel_dec'] = [row['pixel_dec'][row['peak_index']] for row in cat]\n",
    "    \n",
    "    print(\"\"\"Pixels above {} Jy: {}. \n",
    "Number of sources: {}. \n",
    "Number of sources with more than one pixel:{}\"\"\".format(\n",
    "        limit,np.sum(aboveLim.flatten()), \n",
    "        num_features,\n",
    "        np.sum(cat['num_pixels']>1)\n",
    "    ))\n",
    "    plt.figure(figsize=(8,8),dpi=250)\n",
    "    plt.imshow(\n",
    "        image, \n",
    "        origin='lower',\n",
    "        clim=(\n",
    "            np.nanpercentile(image.ravel(),0.1), \n",
    "            np.nanpercentile(image.ravel(),99.9)\n",
    "            ))\n",
    "    #plt.ylim([0,np.max(image.shape[1])])\n",
    "    plt.scatter(cat['peak_pixel_y'],cat['peak_pixel_x'],s=200, facecolors='none', edgecolors='r')\n",
    "    \n",
    "    plt.savefig('./figs/{}.png'.format(mapName.split('/')[-1].replace('.fits',''))) \n",
    "    plt.show()\n",
    "    cat[cat['num_pixels']>1].show_in_notebook()\n",
    "\n",
    "    return cat\n",
    "    \n",
    "cat=makeCat(maps[2])"
   ]
  },
  {
   "cell_type": "code",
   "execution_count": null,
   "id": "incredible-faith",
   "metadata": {},
   "outputs": [],
   "source": [
    "!mkdir -p data/cats"
   ]
  },
  {
   "cell_type": "code",
   "execution_count": null,
   "id": "detected-basin",
   "metadata": {},
   "outputs": [],
   "source": [
    "fullCat=Table()\n",
    "for m in maps:\n",
    "    for limit in [80.,100.]:\n",
    "        cat=makeCat(m,limit =limit*1.e-3)\n",
    "        cat.write(\n",
    "            m.replace('data','data/cats').replace('.fits','_{}_pix_cat.vot').format(limit),\n",
    "            format='votable',overwrite=True)\n",
    "        nonObjCols=[]\n",
    "        for c in cat.colnames:\n",
    "            if str(cat[c].dtype)!='object':\n",
    "                nonObjCols.append(c)\n",
    "        cat[nonObjCols].write(\n",
    "            m.replace('data','data/cats').replace('.fits','_{}_pix_cat.fits').format(limit),\n",
    "            overwrite=True)\n",
    "        if limit>90:\n",
    "            fullCat=vstack([fullCat,cat[nonObjCols]])"
   ]
  },
  {
   "cell_type": "code",
   "execution_count": null,
   "id": "fitted-juvenile",
   "metadata": {},
   "outputs": [],
   "source": [
    "np.sum(fullCat['num_pixels']>1),len(fullCat)"
   ]
  },
  {
   "cell_type": "code",
   "execution_count": null,
   "id": "victorian-briefs",
   "metadata": {},
   "outputs": [],
   "source": [
    "fullCat[:5]"
   ]
  },
  {
   "cell_type": "code",
   "execution_count": null,
   "id": "preliminary-valuation",
   "metadata": {},
   "outputs": [],
   "source": [
    "fullCat.write('./figs/fullPixelCat_100mjy.fits',\n",
    "            overwrite=True)"
   ]
  }
 ],
 "metadata": {
  "kernelspec": {
   "display_name": "Python (herschelhelp_internal)",
   "language": "python",
   "name": "helpint"
  },
  "language_info": {
   "codemirror_mode": {
    "name": "ipython",
    "version": 3
   },
   "file_extension": ".py",
   "mimetype": "text/x-python",
   "name": "python",
   "nbconvert_exporter": "python",
   "pygments_lexer": "ipython3",
   "version": "3.6.12"
  }
 },
 "nbformat": 4,
 "nbformat_minor": 5
}
