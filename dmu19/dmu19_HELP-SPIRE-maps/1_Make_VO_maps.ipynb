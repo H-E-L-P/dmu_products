{
 "cells": [
  {
   "cell_type": "markdown",
   "id": "confidential-wrong",
   "metadata": {},
   "source": [
    "# Making fits files for the VO\n",
    "\n",
    "\n",
    "\n",
    "\n",
    "We make the VO images for the GAMA-09 and GAMA-12 fields. The notebook could easily be used to run over all fields. The VO expects one fits file per image layer with just two header key words"
   ]
  },
  {
   "cell_type": "code",
   "execution_count": 6,
   "id": "cognitive-bailey",
   "metadata": {},
   "outputs": [],
   "source": [
    "from datetime import datetime\n",
    "from itertools import product\n",
    "\n",
    "import numpy as np\n",
    "import os\n",
    "import glob\n",
    "\n",
    "from astropy.io import fits\n",
    "from astropy.table import Table\n",
    "import matplotlib.pyplot as plt\n",
    "from matplotlib.colors import LogNorm\n",
    "\n",
    "\n",
    "\n"
   ]
  },
  {
   "cell_type": "code",
   "execution_count": 69,
   "id": "interstate-sheffield",
   "metadata": {},
   "outputs": [],
   "source": [
    "help_maps=glob.glob('./data/*_v1.0.fits')"
   ]
  },
  {
   "cell_type": "code",
   "execution_count": 74,
   "id": "insured-tongue",
   "metadata": {},
   "outputs": [],
   "source": [
    "!mkdir -p ./data/vo/png"
   ]
  },
  {
   "cell_type": "code",
   "execution_count": 90,
   "id": "functioning-hypothetical",
   "metadata": {},
   "outputs": [
    {
     "name": "stdout",
     "output_type": "stream",
     "text": [
      "1 IMAGE\n",
      "2 NEBFILT\n",
      "3 ERROR\n",
      "4 EXPOSURE\n",
      "5 MASK\n",
      "6 MFILT\n",
      "7 MFILT_ERROR\n",
      "8 Matchedfilter\n"
     ]
    }
   ],
   "source": [
    "for n in np.arange(len(fits.open('./data/GAMA-12_SPIRE500_v1.0.fits'))):\n",
    "    try:\n",
    "        print(n,fits.open('./data/GAMA-12_SPIRE500_v1.0.fits')[n].header['EXTNAME'])\n",
    "    except:\n",
    "        pass"
   ]
  },
  {
   "cell_type": "code",
   "execution_count": 91,
   "id": "rural-jonathan",
   "metadata": {},
   "outputs": [
    {
     "name": "stdout",
     "output_type": "stream",
     "text": [
      "2 NEBFILT\n",
      "3 ERROR\n",
      "4 EXPOSURE\n",
      "2 NEBFILT\n",
      "3 ERROR\n",
      "4 EXPOSURE\n",
      "2 NEBFILT\n",
      "3 ERROR\n",
      "4 EXPOSURE\n",
      "2 NEBFILT\n",
      "3 ERROR\n",
      "4 EXPOSURE\n",
      "2 NEBFILT\n",
      "3 ERROR\n",
      "4 EXPOSURE\n",
      "2 NEBFILT\n",
      "3 ERROR\n",
      "4 EXPOSURE\n",
      "2 NEBFILT\n",
      "3 ERROR\n",
      "4 EXPOSURE\n",
      "2 NEBFILT\n",
      "3 ERROR\n",
      "4 EXPOSURE\n",
      "2 NEBFILT\n",
      "3 ERROR\n"
     ]
    },
    {
     "ename": "KeyboardInterrupt",
     "evalue": "",
     "output_type": "error",
     "traceback": [
      "\u001b[0;31m---------------------------------------------------------------------------\u001b[0m",
      "\u001b[0;31mKeyboardInterrupt\u001b[0m                         Traceback (most recent call last)",
      "\u001b[0;32m<ipython-input-91-5a2c4f589e9a>\u001b[0m in \u001b[0;36m<module>\u001b[0;34m\u001b[0m\n\u001b[1;32m     26\u001b[0m             \u001b[0mprimary_hdu_list\u001b[0m\u001b[0;34m.\u001b[0m\u001b[0mverify\u001b[0m\u001b[0;34m(\u001b[0m\u001b[0;34m'fix'\u001b[0m\u001b[0;34m)\u001b[0m\u001b[0;34m\u001b[0m\u001b[0;34m\u001b[0m\u001b[0m\n\u001b[1;32m     27\u001b[0m             primary_hdu_list.writeto('./data/vo/{}_{}_{}_VOX.fits'.format(\n\u001b[0;32m---> 28\u001b[0;31m                 field,hdu.header['EXTNAME'].lower(),wave),checksum=True,overwrite=True)\n\u001b[0m\u001b[1;32m     29\u001b[0m \u001b[0;34m\u001b[0m\u001b[0m\n",
      "\u001b[0;32m~/miniconda3/envs/herschelhelp_internal/lib/python3.6/site-packages/astropy/utils/decorators.py\u001b[0m in \u001b[0;36mwrapper\u001b[0;34m(*args, **kwargs)\u001b[0m\n\u001b[1;32m    533\u001b[0m                     \u001b[0mwarnings\u001b[0m\u001b[0;34m.\u001b[0m\u001b[0mwarn\u001b[0m\u001b[0;34m(\u001b[0m\u001b[0mmessage\u001b[0m\u001b[0;34m,\u001b[0m \u001b[0mwarning_type\u001b[0m\u001b[0;34m,\u001b[0m \u001b[0mstacklevel\u001b[0m\u001b[0;34m=\u001b[0m\u001b[0;36m2\u001b[0m\u001b[0;34m)\u001b[0m\u001b[0;34m\u001b[0m\u001b[0;34m\u001b[0m\u001b[0m\n\u001b[1;32m    534\u001b[0m \u001b[0;34m\u001b[0m\u001b[0m\n\u001b[0;32m--> 535\u001b[0;31m             \u001b[0;32mreturn\u001b[0m \u001b[0mfunction\u001b[0m\u001b[0;34m(\u001b[0m\u001b[0;34m*\u001b[0m\u001b[0margs\u001b[0m\u001b[0;34m,\u001b[0m \u001b[0;34m**\u001b[0m\u001b[0mkwargs\u001b[0m\u001b[0;34m)\u001b[0m\u001b[0;34m\u001b[0m\u001b[0;34m\u001b[0m\u001b[0m\n\u001b[0m\u001b[1;32m    536\u001b[0m \u001b[0;34m\u001b[0m\u001b[0m\n\u001b[1;32m    537\u001b[0m         \u001b[0;32mreturn\u001b[0m \u001b[0mwrapper\u001b[0m\u001b[0;34m\u001b[0m\u001b[0;34m\u001b[0m\u001b[0m\n",
      "\u001b[0;32m~/miniconda3/envs/herschelhelp_internal/lib/python3.6/site-packages/astropy/io/fits/hdu/hdulist.py\u001b[0m in \u001b[0;36mwriteto\u001b[0;34m(self, fileobj, output_verify, overwrite, checksum)\u001b[0m\n\u001b[1;32m    939\u001b[0m         \u001b[0;32mwith\u001b[0m \u001b[0m_free_space_check\u001b[0m\u001b[0;34m(\u001b[0m\u001b[0mself\u001b[0m\u001b[0;34m,\u001b[0m \u001b[0mdirname\u001b[0m\u001b[0;34m=\u001b[0m\u001b[0mdirname\u001b[0m\u001b[0;34m)\u001b[0m\u001b[0;34m:\u001b[0m\u001b[0;34m\u001b[0m\u001b[0;34m\u001b[0m\u001b[0m\n\u001b[1;32m    940\u001b[0m             \u001b[0;32mfor\u001b[0m \u001b[0mhdu\u001b[0m \u001b[0;32min\u001b[0m \u001b[0mself\u001b[0m\u001b[0;34m:\u001b[0m\u001b[0;34m\u001b[0m\u001b[0;34m\u001b[0m\u001b[0m\n\u001b[0;32m--> 941\u001b[0;31m                 \u001b[0mhdu\u001b[0m\u001b[0;34m.\u001b[0m\u001b[0m_prewriteto\u001b[0m\u001b[0;34m(\u001b[0m\u001b[0mchecksum\u001b[0m\u001b[0;34m=\u001b[0m\u001b[0mchecksum\u001b[0m\u001b[0;34m)\u001b[0m\u001b[0;34m\u001b[0m\u001b[0;34m\u001b[0m\u001b[0m\n\u001b[0m\u001b[1;32m    942\u001b[0m                 \u001b[0mhdu\u001b[0m\u001b[0;34m.\u001b[0m\u001b[0m_writeto\u001b[0m\u001b[0;34m(\u001b[0m\u001b[0mhdulist\u001b[0m\u001b[0;34m.\u001b[0m\u001b[0m_file\u001b[0m\u001b[0;34m)\u001b[0m\u001b[0;34m\u001b[0m\u001b[0;34m\u001b[0m\u001b[0m\n\u001b[1;32m    943\u001b[0m                 \u001b[0mhdu\u001b[0m\u001b[0;34m.\u001b[0m\u001b[0m_postwriteto\u001b[0m\u001b[0;34m(\u001b[0m\u001b[0;34m)\u001b[0m\u001b[0;34m\u001b[0m\u001b[0;34m\u001b[0m\u001b[0m\n",
      "\u001b[0;32m~/miniconda3/envs/herschelhelp_internal/lib/python3.6/site-packages/astropy/io/fits/hdu/image.py\u001b[0m in \u001b[0;36m_prewriteto\u001b[0;34m(self, checksum, inplace)\u001b[0m\n\u001b[1;32m    613\u001b[0m             \u001b[0m_\u001b[0m \u001b[0;34m=\u001b[0m \u001b[0mself\u001b[0m\u001b[0;34m.\u001b[0m\u001b[0mdata\u001b[0m\u001b[0;34m\u001b[0m\u001b[0;34m\u001b[0m\u001b[0m\n\u001b[1;32m    614\u001b[0m \u001b[0;34m\u001b[0m\u001b[0m\n\u001b[0;32m--> 615\u001b[0;31m         \u001b[0;32mreturn\u001b[0m \u001b[0msuper\u001b[0m\u001b[0;34m(\u001b[0m\u001b[0;34m)\u001b[0m\u001b[0;34m.\u001b[0m\u001b[0m_prewriteto\u001b[0m\u001b[0;34m(\u001b[0m\u001b[0mchecksum\u001b[0m\u001b[0;34m,\u001b[0m \u001b[0minplace\u001b[0m\u001b[0;34m)\u001b[0m\u001b[0;34m\u001b[0m\u001b[0;34m\u001b[0m\u001b[0m\n\u001b[0m\u001b[1;32m    616\u001b[0m \u001b[0;34m\u001b[0m\u001b[0m\n\u001b[1;32m    617\u001b[0m     \u001b[0;32mdef\u001b[0m \u001b[0m_writedata_internal\u001b[0m\u001b[0;34m(\u001b[0m\u001b[0mself\u001b[0m\u001b[0;34m,\u001b[0m \u001b[0mfileobj\u001b[0m\u001b[0;34m)\u001b[0m\u001b[0;34m:\u001b[0m\u001b[0;34m\u001b[0m\u001b[0;34m\u001b[0m\u001b[0m\n",
      "\u001b[0;32m~/miniconda3/envs/herschelhelp_internal/lib/python3.6/site-packages/astropy/io/fits/hdu/base.py\u001b[0m in \u001b[0;36m_prewriteto\u001b[0;34m(self, checksum, inplace)\u001b[0m\n\u001b[1;32m    530\u001b[0m \u001b[0;34m\u001b[0m\u001b[0m\n\u001b[1;32m    531\u001b[0m         \u001b[0;31m# Handle checksum\u001b[0m\u001b[0;34m\u001b[0m\u001b[0;34m\u001b[0m\u001b[0;34m\u001b[0m\u001b[0m\n\u001b[0;32m--> 532\u001b[0;31m         \u001b[0mself\u001b[0m\u001b[0;34m.\u001b[0m\u001b[0m_update_checksum\u001b[0m\u001b[0;34m(\u001b[0m\u001b[0mchecksum\u001b[0m\u001b[0;34m)\u001b[0m\u001b[0;34m\u001b[0m\u001b[0;34m\u001b[0m\u001b[0m\n\u001b[0m\u001b[1;32m    533\u001b[0m \u001b[0;34m\u001b[0m\u001b[0m\n\u001b[1;32m    534\u001b[0m     \u001b[0;32mdef\u001b[0m \u001b[0m_update_uint_scale_keywords\u001b[0m\u001b[0;34m(\u001b[0m\u001b[0mself\u001b[0m\u001b[0;34m)\u001b[0m\u001b[0;34m:\u001b[0m\u001b[0;34m\u001b[0m\u001b[0;34m\u001b[0m\u001b[0m\n",
      "\u001b[0;32m~/miniconda3/envs/herschelhelp_internal/lib/python3.6/site-packages/astropy/io/fits/hdu/base.py\u001b[0m in \u001b[0;36m_update_checksum\u001b[0;34m(self, checksum, checksum_keyword, datasum_keyword)\u001b[0m\n\u001b[1;32m    578\u001b[0m             \u001b[0;32melif\u001b[0m \u001b[0mchecksum\u001b[0m\u001b[0;34m:\u001b[0m\u001b[0;34m\u001b[0m\u001b[0;34m\u001b[0m\u001b[0m\n\u001b[1;32m    579\u001b[0m                 self.add_checksum(checksum_keyword=checksum_keyword,\n\u001b[0;32m--> 580\u001b[0;31m                                   datasum_keyword=datasum_keyword)\n\u001b[0m\u001b[1;32m    581\u001b[0m \u001b[0;34m\u001b[0m\u001b[0m\n\u001b[1;32m    582\u001b[0m     \u001b[0;32mdef\u001b[0m \u001b[0m_postwriteto\u001b[0m\u001b[0;34m(\u001b[0m\u001b[0mself\u001b[0m\u001b[0;34m)\u001b[0m\u001b[0;34m:\u001b[0m\u001b[0;34m\u001b[0m\u001b[0;34m\u001b[0m\u001b[0m\n",
      "\u001b[0;32m~/miniconda3/envs/herschelhelp_internal/lib/python3.6/site-packages/astropy/io/fits/hdu/base.py\u001b[0m in \u001b[0;36madd_checksum\u001b[0;34m(self, when, override_datasum, checksum_keyword, datasum_keyword)\u001b[0m\n\u001b[1;32m   1268\u001b[0m         \u001b[0;32mif\u001b[0m \u001b[0;32mnot\u001b[0m \u001b[0moverride_datasum\u001b[0m\u001b[0;34m:\u001b[0m\u001b[0;34m\u001b[0m\u001b[0;34m\u001b[0m\u001b[0m\n\u001b[1;32m   1269\u001b[0m             \u001b[0;31m# Calculate and add the data checksum to the header.\u001b[0m\u001b[0;34m\u001b[0m\u001b[0;34m\u001b[0m\u001b[0;34m\u001b[0m\u001b[0m\n\u001b[0;32m-> 1270\u001b[0;31m             \u001b[0mdata_cs\u001b[0m \u001b[0;34m=\u001b[0m \u001b[0mself\u001b[0m\u001b[0;34m.\u001b[0m\u001b[0madd_datasum\u001b[0m\u001b[0;34m(\u001b[0m\u001b[0mwhen\u001b[0m\u001b[0;34m,\u001b[0m \u001b[0mdatasum_keyword\u001b[0m\u001b[0;34m=\u001b[0m\u001b[0mdatasum_keyword\u001b[0m\u001b[0;34m)\u001b[0m\u001b[0;34m\u001b[0m\u001b[0;34m\u001b[0m\u001b[0m\n\u001b[0m\u001b[1;32m   1271\u001b[0m         \u001b[0;32melse\u001b[0m\u001b[0;34m:\u001b[0m\u001b[0;34m\u001b[0m\u001b[0;34m\u001b[0m\u001b[0m\n\u001b[1;32m   1272\u001b[0m             \u001b[0;31m# Just calculate the data checksum\u001b[0m\u001b[0;34m\u001b[0m\u001b[0;34m\u001b[0m\u001b[0;34m\u001b[0m\u001b[0m\n",
      "\u001b[0;32m~/miniconda3/envs/herschelhelp_internal/lib/python3.6/site-packages/astropy/io/fits/hdu/base.py\u001b[0m in \u001b[0;36madd_datasum\u001b[0;34m(self, when, datasum_keyword)\u001b[0m\n\u001b[1;32m   1224\u001b[0m         \"\"\"\n\u001b[1;32m   1225\u001b[0m \u001b[0;34m\u001b[0m\u001b[0m\n\u001b[0;32m-> 1226\u001b[0;31m         \u001b[0mcs\u001b[0m \u001b[0;34m=\u001b[0m \u001b[0mself\u001b[0m\u001b[0;34m.\u001b[0m\u001b[0m_calculate_datasum\u001b[0m\u001b[0;34m(\u001b[0m\u001b[0;34m)\u001b[0m\u001b[0;34m\u001b[0m\u001b[0;34m\u001b[0m\u001b[0m\n\u001b[0m\u001b[1;32m   1227\u001b[0m \u001b[0;34m\u001b[0m\u001b[0m\n\u001b[1;32m   1228\u001b[0m         \u001b[0;32mif\u001b[0m \u001b[0mwhen\u001b[0m \u001b[0;32mis\u001b[0m \u001b[0;32mNone\u001b[0m\u001b[0;34m:\u001b[0m\u001b[0;34m\u001b[0m\u001b[0;34m\u001b[0m\u001b[0m\n",
      "\u001b[0;32m~/miniconda3/envs/herschelhelp_internal/lib/python3.6/site-packages/astropy/io/fits/hdu/image.py\u001b[0m in \u001b[0;36m_calculate_datasum\u001b[0;34m(self)\u001b[0m\n\u001b[1;32m    903\u001b[0m                 \u001b[0mbyteswapped\u001b[0m \u001b[0;34m=\u001b[0m \u001b[0;32mFalse\u001b[0m\u001b[0;34m\u001b[0m\u001b[0;34m\u001b[0m\u001b[0m\n\u001b[1;32m    904\u001b[0m \u001b[0;34m\u001b[0m\u001b[0m\n\u001b[0;32m--> 905\u001b[0;31m             \u001b[0mcs\u001b[0m \u001b[0;34m=\u001b[0m \u001b[0mself\u001b[0m\u001b[0;34m.\u001b[0m\u001b[0m_compute_checksum\u001b[0m\u001b[0;34m(\u001b[0m\u001b[0md\u001b[0m\u001b[0;34m.\u001b[0m\u001b[0mflatten\u001b[0m\u001b[0;34m(\u001b[0m\u001b[0;34m)\u001b[0m\u001b[0;34m.\u001b[0m\u001b[0mview\u001b[0m\u001b[0;34m(\u001b[0m\u001b[0mnp\u001b[0m\u001b[0;34m.\u001b[0m\u001b[0muint8\u001b[0m\u001b[0;34m)\u001b[0m\u001b[0;34m)\u001b[0m\u001b[0;34m\u001b[0m\u001b[0;34m\u001b[0m\u001b[0m\n\u001b[0m\u001b[1;32m    906\u001b[0m \u001b[0;34m\u001b[0m\u001b[0m\n\u001b[1;32m    907\u001b[0m             \u001b[0;31m# If the data was byteswapped in this method then return it to\u001b[0m\u001b[0;34m\u001b[0m\u001b[0;34m\u001b[0m\u001b[0;34m\u001b[0m\u001b[0m\n",
      "\u001b[0;32m~/miniconda3/envs/herschelhelp_internal/lib/python3.6/site-packages/astropy/io/fits/hdu/base.py\u001b[0m in \u001b[0;36m_compute_checksum\u001b[0;34m(self, data, sum32)\u001b[0m\n\u001b[1;32m   1432\u001b[0m         \u001b[0;32mfor\u001b[0m \u001b[0mi\u001b[0m \u001b[0;32min\u001b[0m \u001b[0mrange\u001b[0m\u001b[0;34m(\u001b[0m\u001b[0;36m0\u001b[0m\u001b[0;34m,\u001b[0m \u001b[0mlen\u001b[0m\u001b[0;34m(\u001b[0m\u001b[0mdata\u001b[0m\u001b[0;34m)\u001b[0m\u001b[0;34m,\u001b[0m \u001b[0mblocklen\u001b[0m\u001b[0;34m)\u001b[0m\u001b[0;34m:\u001b[0m\u001b[0;34m\u001b[0m\u001b[0;34m\u001b[0m\u001b[0m\n\u001b[1;32m   1433\u001b[0m             \u001b[0mlength\u001b[0m \u001b[0;34m=\u001b[0m \u001b[0mmin\u001b[0m\u001b[0;34m(\u001b[0m\u001b[0mblocklen\u001b[0m\u001b[0;34m,\u001b[0m \u001b[0mlen\u001b[0m\u001b[0;34m(\u001b[0m\u001b[0mdata\u001b[0m\u001b[0;34m)\u001b[0m \u001b[0;34m-\u001b[0m \u001b[0mi\u001b[0m\u001b[0;34m)\u001b[0m   \u001b[0;31m# ????\u001b[0m\u001b[0;34m\u001b[0m\u001b[0;34m\u001b[0m\u001b[0m\n\u001b[0;32m-> 1434\u001b[0;31m             \u001b[0msum32\u001b[0m \u001b[0;34m=\u001b[0m \u001b[0mself\u001b[0m\u001b[0;34m.\u001b[0m\u001b[0m_compute_hdu_checksum\u001b[0m\u001b[0;34m(\u001b[0m\u001b[0mdata\u001b[0m\u001b[0;34m[\u001b[0m\u001b[0mi\u001b[0m\u001b[0;34m:\u001b[0m\u001b[0mi\u001b[0m \u001b[0;34m+\u001b[0m \u001b[0mlength\u001b[0m\u001b[0;34m]\u001b[0m\u001b[0;34m,\u001b[0m \u001b[0msum32\u001b[0m\u001b[0;34m)\u001b[0m\u001b[0;34m\u001b[0m\u001b[0;34m\u001b[0m\u001b[0m\n\u001b[0m\u001b[1;32m   1435\u001b[0m         \u001b[0;32mreturn\u001b[0m \u001b[0msum32\u001b[0m\u001b[0;34m\u001b[0m\u001b[0;34m\u001b[0m\u001b[0m\n\u001b[1;32m   1436\u001b[0m \u001b[0;34m\u001b[0m\u001b[0m\n",
      "\u001b[0;32m~/miniconda3/envs/herschelhelp_internal/lib/python3.6/site-packages/astropy/io/fits/hdu/base.py\u001b[0m in \u001b[0;36m_compute_hdu_checksum\u001b[0;34m(self, data, sum32)\u001b[0m\n\u001b[1;32m   1461\u001b[0m         \u001b[0mlo\u001b[0m \u001b[0;34m=\u001b[0m \u001b[0msum32\u001b[0m \u001b[0;34m&\u001b[0m \u001b[0muFFFF\u001b[0m\u001b[0;34m\u001b[0m\u001b[0;34m\u001b[0m\u001b[0m\n\u001b[1;32m   1462\u001b[0m         \u001b[0mhi\u001b[0m \u001b[0;34m+=\u001b[0m \u001b[0mnp\u001b[0m\u001b[0;34m.\u001b[0m\u001b[0madd\u001b[0m\u001b[0;34m.\u001b[0m\u001b[0mreduce\u001b[0m\u001b[0;34m(\u001b[0m\u001b[0mdata\u001b[0m\u001b[0;34m[\u001b[0m\u001b[0;36m0\u001b[0m\u001b[0;34m:\u001b[0m\u001b[0;34m:\u001b[0m\u001b[0;36m2\u001b[0m\u001b[0;34m]\u001b[0m\u001b[0;34m,\u001b[0m \u001b[0mdtype\u001b[0m\u001b[0;34m=\u001b[0m\u001b[0mnp\u001b[0m\u001b[0;34m.\u001b[0m\u001b[0muint64\u001b[0m\u001b[0;34m)\u001b[0m\u001b[0;34m\u001b[0m\u001b[0;34m\u001b[0m\u001b[0m\n\u001b[0;32m-> 1463\u001b[0;31m         \u001b[0mlo\u001b[0m \u001b[0;34m+=\u001b[0m \u001b[0mnp\u001b[0m\u001b[0;34m.\u001b[0m\u001b[0madd\u001b[0m\u001b[0;34m.\u001b[0m\u001b[0mreduce\u001b[0m\u001b[0;34m(\u001b[0m\u001b[0mdata\u001b[0m\u001b[0;34m[\u001b[0m\u001b[0;36m1\u001b[0m\u001b[0;34m:\u001b[0m\u001b[0;34m:\u001b[0m\u001b[0;36m2\u001b[0m\u001b[0;34m]\u001b[0m\u001b[0;34m,\u001b[0m \u001b[0mdtype\u001b[0m\u001b[0;34m=\u001b[0m\u001b[0mnp\u001b[0m\u001b[0;34m.\u001b[0m\u001b[0muint64\u001b[0m\u001b[0;34m)\u001b[0m\u001b[0;34m\u001b[0m\u001b[0;34m\u001b[0m\u001b[0m\n\u001b[0m\u001b[1;32m   1464\u001b[0m \u001b[0;34m\u001b[0m\u001b[0m\n\u001b[1;32m   1465\u001b[0m         \u001b[0;32mif\u001b[0m \u001b[0;34m(\u001b[0m\u001b[0mdata\u001b[0m\u001b[0;34m.\u001b[0m\u001b[0mnbytes\u001b[0m \u001b[0;34m//\u001b[0m \u001b[0;36m2\u001b[0m\u001b[0;34m)\u001b[0m \u001b[0;34m%\u001b[0m \u001b[0;36m2\u001b[0m\u001b[0;34m:\u001b[0m\u001b[0;34m\u001b[0m\u001b[0;34m\u001b[0m\u001b[0m\n",
      "\u001b[0;31mKeyboardInterrupt\u001b[0m: "
     ]
    }
   ],
   "source": [
    "#Make the VO simple layer fits files\n",
    "for file in help_maps:\n",
    "    hdu_list = fits.open(file)\n",
    "    wave=file.split('_')[1].strip('SPIRE')\n",
    "    field=file.split('/')[-1].split('_')[0]\n",
    "    if True:\n",
    "        for layer in [1,2,3,4]:\n",
    "#for field in ['Herschel-Stripe-82']: #['GAMA-09','GAMA-12','Herschel-Stripe-82']:\n",
    "#    for wave in [250]: #[250,350,500]:\n",
    "\n",
    "#        hdu_list = fits.open('./data/{}_SPIRE{}_v1.0.fits'.format(field,wave))\n",
    "#        for layer in [1,3,4]:\n",
    "\n",
    "            hdu = hdu_list[layer]\n",
    "            primary_hdu=fits.PrimaryHDU(hdu.data)\n",
    "            primary_hdu.header=hdu.header\n",
    "            #new_hdu=fits.ImageHDU(hdu.data)\n",
    "            #new_hdu.header=hdu.header\n",
    "            print(layer, hdu.header['EXTNAME'])\n",
    "            primary_hdu.header['HFIELD']=field\n",
    "            #if hdu.header['EXTNAME'].startswith('NEBFILT'):\n",
    "            #    hdu.header['EXTNAME']='IMAGE'\n",
    "            primary_hdu.header['HTYPE']=hdu.header['EXTNAME'].lower()\n",
    "            primary_hdu.header['HBAND']   = 'SPIRE{}'.format(wave)                                                            \n",
    "            primary_hdu.header['HTITLE']  = '{} SPIRE{} ({})'.format(field,wave,hdu.header['EXTNAME'].lower())\n",
    "            primary_hdu.header['INSTRUME']= 'SPIRE   '  \n",
    "            primary_hdu_list = fits.HDUList([primary_hdu])\n",
    "            primary_hdu_list.verify('fix') \n",
    "            primary_hdu_list.writeto('./data/vo/{}_{}_{}_VOX.fits'.format(\n",
    "                field,hdu.header['EXTNAME'].lower(),wave),checksum=True,overwrite=True)\n",
    "\n"
   ]
  },
  {
   "cell_type": "code",
   "execution_count": 93,
   "id": "novel-fairy",
   "metadata": {},
   "outputs": [],
   "source": [
    "new_fits = glob.glob('./data/vo/*.fits')"
   ]
  },
  {
   "cell_type": "code",
   "execution_count": 94,
   "id": "recognized-smith",
   "metadata": {},
   "outputs": [
    {
     "data": {
      "text/plain": [
       "['./data/vo/Herschel-Stripe-82_image_250_VOX.fits',\n",
       " './data/vo/Herschel-Stripe-82_nebfilt_500_VOX.fits',\n",
       " './data/vo/GAMA-12_exposure_500_VOX.fits',\n",
       " './data/vo/GAMA-09_error_500_VOX.fits',\n",
       " './data/vo/GAMA-09_nebfilt_500_VOX.fits',\n",
       " './data/vo/GAMA-12_image_250_VOX.fits',\n",
       " './data/vo/GAMA-09_nebfilt_350_VOX.fits',\n",
       " './data/vo/GAMA-09_error_350_VOX.fits',\n",
       " './data/vo/GAMA-12_exposure_350_VOX.fits',\n",
       " './data/vo/Herschel-Stripe-82_nebfilt_350_VOX.fits',\n",
       " './data/vo/Herschel-Stripe-82_error_500_VOX.fits',\n",
       " './data/vo/Herschel-Stripe-82_exposure_250_VOX.fits',\n",
       " './data/vo/GAMA-12_nebfilt_250_VOX.fits',\n",
       " './data/vo/GAMA-12_error_350_VOX.fits',\n",
       " './data/vo/GAMA-09_image_250_VOX.fits',\n",
       " './data/vo/GAMA-09_exposure_250_VOX.fits',\n",
       " './data/vo/GAMA-12_error_500_VOX.fits',\n",
       " './data/vo/Herschel-Stripe-82_error_350_VOX.fits',\n",
       " './data/vo/GAMA-12_image_350_VOX.fits',\n",
       " './data/vo/GAMA-09_nebfilt_250_VOX.fits',\n",
       " './data/vo/GAMA-12_exposure_250_VOX.fits',\n",
       " './data/vo/GAMA-09_error_250_VOX.fits',\n",
       " './data/vo/Herschel-Stripe-82_image_500_VOX.fits',\n",
       " './data/vo/Herschel-Stripe-82_nebfilt_250_VOX.fits',\n",
       " './data/vo/Herschel-Stripe-82_image_350_VOX.fits',\n",
       " './data/vo/GAMA-12_image_500_VOX.fits',\n",
       " './data/vo/GAMA-09_exposure_500_VOX.fits',\n",
       " './data/vo/GAMA-09_image_500_VOX.fits',\n",
       " './data/vo/GAMA-12_nebfilt_500_VOX.fits',\n",
       " './data/vo/Herschel-Stripe-82_error_250_VOX.fits',\n",
       " './data/vo/Herschel-Stripe-82_exposure_500_VOX.fits',\n",
       " './data/vo/Herschel-Stripe-82_exposure_350_VOX.fits',\n",
       " './data/vo/GAMA-12_error_250_VOX.fits',\n",
       " './data/vo/GAMA-12_nebfilt_350_VOX.fits',\n",
       " './data/vo/GAMA-09_image_350_VOX.fits',\n",
       " './data/vo/GAMA-09_exposure_350_VOX.fits']"
      ]
     },
     "execution_count": 94,
     "metadata": {},
     "output_type": "execute_result"
    }
   ],
   "source": [
    "new_fits"
   ]
  },
  {
   "cell_type": "code",
   "execution_count": null,
   "id": "nervous-reader",
   "metadata": {},
   "outputs": [
    {
     "name": "stderr",
     "output_type": "stream",
     "text": [
      "/Users/raphaelshirley/miniconda3/envs/herschelhelp_internal/lib/python3.6/site-packages/ipykernel_launcher.py:3: RuntimeWarning: More than 20 figures have been opened. Figures created through the pyplot interface (`matplotlib.pyplot.figure`) are retained until explicitly closed and may consume too much memory. (To control this warning, see the rcParam `figure.max_open_warning`).\n",
      "  This is separate from the ipykernel package so we can avoid doing imports until\n"
     ]
    }
   ],
   "source": [
    "#png previews\n",
    "for f in new_fits:\n",
    "    fig = plt.figure(dpi=250)\n",
    "    im_data=fits.getdata(f)\n",
    "    im = plt.imshow(\n",
    "        im_data, \n",
    "        clim=(\n",
    "            np.nanpercentile(im_data.ravel(),0.1), \n",
    "            np.nanpercentile(im_data.ravel(),99.9)\n",
    "        ))\n",
    "    plt.savefig('./data/vo/png/{}.png'.format(f.split('/')[-1]))"
   ]
  },
  {
   "cell_type": "markdown",
   "id": "jewish-visiting",
   "metadata": {},
   "source": [
    "## Show headers\n",
    "\n",
    "Here are a few representative headers"
   ]
  },
  {
   "cell_type": "code",
   "execution_count": 63,
   "id": "packed-decision",
   "metadata": {},
   "outputs": [
    {
     "data": {
      "text/plain": [
       "[<astropy.io.fits.hdu.image.PrimaryHDU object at 0x7fe0d8e83160>, <astropy.io.fits.hdu.image.ImageHDU object at 0x7fe0d8e5a7f0>]"
      ]
     },
     "execution_count": 63,
     "metadata": {},
     "output_type": "execute_result"
    }
   ],
   "source": [
    "fits.open('./data/vo/{}_{}_{}_VOX.fits'.format('Herschel-Stripe-82','image','250'))"
   ]
  },
  {
   "cell_type": "code",
   "execution_count": 65,
   "id": "fifteen-eugene",
   "metadata": {},
   "outputs": [
    {
     "data": {
      "text/plain": [
       "SIMPLE  =                    T                                                  \n",
       "BITPIX  =                  -64 / bits per data value                            \n",
       "NAXIS   =                    2 / number of axes                                 \n",
       "NAXIS1  =                30706 / size of the n'th axis                          \n",
       "NAXIS2  =                11550 / size of the n'th axis                          \n",
       "XTENSION= 'IMAGE   '           / marks beginning of new HDU                     \n",
       "PCOUNT  =                    0 / Required value                                 \n",
       "GCOUNT  =                    1 / Required value                                 \n",
       "LONGSTRN= 'OGIP 1.0'           / The OGIP long string convention may be used.   \n",
       "COMMENT This FITS file may contain long string keyword values that are          \n",
       "COMMENT continued over multiple keywords.  This convention uses the  '&'        \n",
       "COMMENT character at the end of a string which is then continued                \n",
       "COMMENT on subsequent keywords whose name = 'CONTINUE'.                         \n",
       "         -------------- Herschel Structure Data--------------------             \n",
       "         Following fields are private to the structure of the                   \n",
       "         Java object this HDU is representing.                                  \n",
       "EXTNAME = 'IMAGE   '           / name of this HDU                               \n",
       "CLASS___= 'herschel.ia.dataset.ArrayDataset' / java representation              \n",
       "INFO____= 'Image   '                                                            \n",
       "DATA____= 'herschel.ia.numeric.Double2d' / java Data                            \n",
       "QTTY____= 'Jy/beam '           / Unit of the data                               \n",
       "BUNIT   = 'Jy / beam'          / Unit of the data                               \n",
       "         -------------- Herschel Parameter Data--------------------             \n",
       "         All actual parameter names are converted to FITS compliant             \n",
       "         conventions. Note that the HIERARCH comments contain the               \n",
       "         appropriate key mapping                                                \n",
       "                                                                                \n",
       "        / TARGET AND POINTING INFORMATION                                       \n",
       "                                                                                \n",
       "EQUINOX =               2000.0 / [] WCS: Equinox, unit=Duration                 \n",
       "                                                                                \n",
       "        / WORLD COORDINATE SYSTEM AND RELATED PARAMETERS                        \n",
       "                                                                                \n",
       "CRPIX1  =              11790.0 / [] WCS: Reference pixel position axis 1        \n",
       "CRPIX2  =               5979.0 / [] WCS: Reference pixel position axis 2        \n",
       "CRVAL1  =   17.257551917243166 / [] WCS: First coordinate of reference pixel    \n",
       "CRVAL2  =  0.01411589928735194 / [] WCS: Second coordinate of reference pixel   \n",
       "CDELT1  = -0.00166666666666667 / [] WCS: Pixel scale axis 1, unit=Angle         \n",
       "CDELT2  = 0.001666666666666667 / [] WCS: Pixel scale axis 2, unit=Angle         \n",
       "CTYPE1  = 'RA---TAN'           / WCS: Projection type axis 1, default=\"LINEAR\"  \n",
       "CTYPE2  = 'DEC--TAN'           / WCS: Projection type axis 2, default=\"LINEAR\"  \n",
       "CROTA2  =                  0.0 / [] The Rotation angle                          \n",
       "                                                                                \n",
       "                                                                                \n",
       "HIERARCH  key.CRPIX1='crpix1'                                                   \n",
       "HIERARCH  key.CRPIX2='crpix2'                                                   \n",
       "HIERARCH  key.CRVAL1='crval1'                                                   \n",
       "HIERARCH  key.CRVAL2='crval2'                                                   \n",
       "HIERARCH  key.CDELT1='cdelt1'                                                   \n",
       "HIERARCH  key.CDELT2='cdelt2'                                                   \n",
       "HIERARCH  key.CTYPE1='ctype1'                                                   \n",
       "HIERARCH  key.CTYPE2='ctype2'                                                   \n",
       "HIERARCH  key.EQUINOX='equinox'                                                 \n",
       "HIERARCH  key.CROTA2='crota2'                                                   \n",
       "CHECKSUM= '6e7A6Z616d686Z68'   / HDU checksum updated 2021-05-11T18:12:36       \n",
       "DATASUM = '1573623333'         / data unit checksum updated 2021-05-11T18:12:36 \n",
       "HFIELD  = 'Herschel-Stripe-82'                                                  \n",
       "HTYPE   = 'image   '                                                            \n",
       "HBAND   = 'SPIRE250'                                                            \n",
       "HTITLE  = 'Herschel-Stripe-82 SPIRE250 (image)'                                 \n",
       "INSTRUME= 'SPIRE   '                                                            "
      ]
     },
     "execution_count": 65,
     "metadata": {},
     "output_type": "execute_result"
    }
   ],
   "source": [
    "fits.open('./data/vo/{}_{}_{}_VOX.fits'.format('Herschel-Stripe-82','image','250'))[0].header"
   ]
  },
  {
   "cell_type": "code",
   "execution_count": 54,
   "id": "dominant-division",
   "metadata": {},
   "outputs": [
    {
     "data": {
      "text/plain": [
       "XTENSION= 'IMAGE   '           / marks beginning of new HDU                     \n",
       "BITPIX  =                  -64 / bits per data value                            \n",
       "NAXIS   =                    2 / number of axes                                 \n",
       "NAXIS1  =                30706 / size of the n'th axis                          \n",
       "NAXIS2  =                11550 / size of the n'th axis                          \n",
       "PCOUNT  =                    0 / Required value                                 \n",
       "GCOUNT  =                    1 / Required value                                 \n",
       "LONGSTRN= 'OGIP 1.0'           / The OGIP long string convention may be used.   \n",
       "COMMENT This FITS file may contain long string keyword values that are          \n",
       "COMMENT continued over multiple keywords.  This convention uses the  '&'        \n",
       "COMMENT character at the end of a string which is then continued                \n",
       "COMMENT on subsequent keywords whose name = 'CONTINUE'.                         \n",
       "         -------------- Herschel Structure Data--------------------             \n",
       "         Following fields are private to the structure of the                   \n",
       "         Java object this HDU is representing.                                  \n",
       "EXTNAME = 'IMAGE   '           / name of this HDU                               \n",
       "CLASS___= 'herschel.ia.dataset.ArrayDataset' / java representation              \n",
       "INFO____= 'Image   '                                                            \n",
       "DATA____= 'herschel.ia.numeric.Double2d' / java Data                            \n",
       "QTTY____= 'Jy/beam '           / Unit of the data                               \n",
       "BUNIT   = 'Jy / beam'          / Unit of the data                               \n",
       "         -------------- Herschel Parameter Data--------------------             \n",
       "         All actual parameter names are converted to FITS compliant             \n",
       "         conventions. Note that the HIERARCH comments contain the               \n",
       "         appropriate key mapping                                                \n",
       "                                                                                \n",
       "        / TARGET AND POINTING INFORMATION                                       \n",
       "                                                                                \n",
       "EQUINOX =               2000.0 / [] WCS: Equinox, unit=Duration                 \n",
       "                                                                                \n",
       "        / WORLD COORDINATE SYSTEM AND RELATED PARAMETERS                        \n",
       "                                                                                \n",
       "CRPIX1  =              11790.0 / [] WCS: Reference pixel position axis 1        \n",
       "CRPIX2  =               5979.0 / [] WCS: Reference pixel position axis 2        \n",
       "CRVAL1  =   17.257551917243166 / [] WCS: First coordinate of reference pixel    \n",
       "CRVAL2  =  0.01411589928735194 / [] WCS: Second coordinate of reference pixel   \n",
       "CDELT1  = -0.00166666666666667 / [] WCS: Pixel scale axis 1, unit=Angle         \n",
       "CDELT2  = 0.001666666666666667 / [] WCS: Pixel scale axis 2, unit=Angle         \n",
       "CTYPE1  = 'RA---TAN'           / WCS: Projection type axis 1, default=\"LINEAR\"  \n",
       "CTYPE2  = 'DEC--TAN'           / WCS: Projection type axis 2, default=\"LINEAR\"  \n",
       "CROTA2  =                  0.0 / [] The Rotation angle                          \n",
       "                                                                                \n",
       "                                                                                \n",
       "HIERARCH  key.CRPIX1='crpix1'                                                   \n",
       "HIERARCH  key.CRPIX2='crpix2'                                                   \n",
       "HIERARCH  key.CRVAL1='crval1'                                                   \n",
       "HIERARCH  key.CRVAL2='crval2'                                                   \n",
       "HIERARCH  key.CDELT1='cdelt1'                                                   \n",
       "HIERARCH  key.CDELT2='cdelt2'                                                   \n",
       "HIERARCH  key.CTYPE1='ctype1'                                                   \n",
       "HIERARCH  key.CTYPE2='ctype2'                                                   \n",
       "HIERARCH  key.EQUINOX='equinox'                                                 \n",
       "HIERARCH  key.CROTA2='crota2'                                                   \n",
       "CHECKSUM= 'jAWkkAUhjAUhjAUh'   / HDU checksum updated 2020-10-06T15:37:53       \n",
       "DATASUM = '1573623333'         / data unit checksum updated 2020-10-06T15:37:53 "
      ]
     },
     "execution_count": 54,
     "metadata": {},
     "output_type": "execute_result"
    }
   ],
   "source": [
    "fits.open('./data/{}_SPIRE{}_v1.0.fits'.format('Herschel-Stripe-82','250'))[1].header"
   ]
  },
  {
   "cell_type": "code",
   "execution_count": 11,
   "id": "reduced-stage",
   "metadata": {},
   "outputs": [],
   "source": [
    "g12=fits.open('./data/GAMA-12_SPIRE250_v1.0.fits')"
   ]
  },
  {
   "cell_type": "code",
   "execution_count": 12,
   "id": "monetary-environment",
   "metadata": {},
   "outputs": [
    {
     "data": {
      "text/plain": [
       "XTENSION= 'IMAGE   '           / Image extension                                \n",
       "BITPIX  =                  -32 / array data type                                \n",
       "NAXIS   =                    2 / number of array dimensions                     \n",
       "NAXIS1  =                 8974                                                  \n",
       "NAXIS2  =                 3594                                                  \n",
       "PCOUNT  =                    0 / number of parameters                           \n",
       "GCOUNT  =                    1 / number of groups                               \n",
       "CTYPE1  = 'RA---TAN'                                                            \n",
       "CTYPE2  = 'DEC--TAN'                                                            \n",
       "CRVAL1  = 181.5354636915630522 /                                                \n",
       "CDELT1  =          -0.00166667                                                  \n",
       "CRPIX1  =               3374.5                                                  \n",
       "CRVAL2  =  -0.5735525328935012 /                                                \n",
       "CDELT2  =           0.00166667                                                  \n",
       "CRPIX2  =               1750.5                                                  \n",
       "WAVELNTH=              250.000 /[micrometer] Reference wavelenght               \n",
       "UNITS   = 'Jy/beam '           /Unit of the signal                              \n",
       "OBJECT  = 'original'                                                            \n",
       "INSTRUME= 'SPIRE   '                                                            \n",
       "OBSID001= '1342200112'                                                          \n",
       "OBSID002= '1342200113'                                                          \n",
       "OBSID003= '1342200121'                                                          \n",
       "OBSID004= '1342200122'                                                          \n",
       "OBSID005= '1342211317'                                                          \n",
       "OBSID006= '1342211318'                                                          \n",
       "OBSID007= '1342224030'                                                          \n",
       "OBSID008= '1342222625'                                                          \n",
       "OBSID009= '1342224138'                                                          \n",
       "EXTNAME = 'IMAGE   '                                                            \n",
       "BUNIT   = 'Jy / beam'                                                           \n",
       "CHECKSUM= 'nUYkpSXhnSXhnSXh'   / HDU checksum updated 2018-05-29T20:24:40       \n",
       "DATASUM = '3668871217'         / data unit checksum updated 2018-05-29T20:24:40 \n",
       "COMMENT Original HIPE maps:                                                     \n",
       "COMMENT GAMA12-PSWmap-mosaic-20141007                                           \n",
       "COMMENT GAMA12-PMWmap-mosaic-20141007                                           \n",
       "COMMENT GAMA12-PLWmap-mosaic-20141007                                           "
      ]
     },
     "execution_count": 12,
     "metadata": {},
     "output_type": "execute_result"
    }
   ],
   "source": [
    "g12[1].header"
   ]
  },
  {
   "cell_type": "code",
   "execution_count": 41,
   "id": "coordinate-rebel",
   "metadata": {},
   "outputs": [],
   "source": [
    "g15v=fits.open('./data/GAMA-15_error_250_itermap_20150708.fits')"
   ]
  },
  {
   "cell_type": "code",
   "execution_count": 42,
   "id": "invalid-communications",
   "metadata": {},
   "outputs": [
    {
     "data": {
      "text/plain": [
       "[<astropy.io.fits.hdu.image.PrimaryHDU object at 0x7fe0c866ecc0>]"
      ]
     },
     "execution_count": 42,
     "metadata": {},
     "output_type": "execute_result"
    }
   ],
   "source": [
    "g15v"
   ]
  },
  {
   "cell_type": "code",
   "execution_count": 44,
   "id": "unique-junior",
   "metadata": {},
   "outputs": [
    {
     "data": {
      "text/plain": [
       "SIMPLE  =                    T / file does conform to FITS standard             \n",
       "BITPIX  =                  -64 / number of bits per data pixel                  \n",
       "NAXIS   =                    2 / number of data axes                            \n",
       "NAXIS1  =                 9128 / length of data axis 1                          \n",
       "NAXIS2  =                 3644 / length of data axis 2                          \n",
       "EXTEND  =                    T / FITS dataset may contain extensions            \n",
       "COMMENT   FITS (Flexible Image Transport System) format is defined in 'Astronomy\n",
       "COMMENT   and Astrophysics', volume 376, page 359; bibcode: 2001A&A...376..359H \n",
       "COMMENT                                                                         \n",
       "COMMENT  This is a header for an SMAP pipeline product.                         \n",
       "COMMENT                                                                         \n",
       "TIMESYS = 'UTC     '           / All dates are in UTC time                      \n",
       "CREATOR = 'viero   '           / User who created this header                   \n",
       "DATE    = 'Thu Jul  9 05:33:19 2015' / Creation data of this product            \n",
       "TELESCOP= 'Herschel'           / Name of the telescope                          \n",
       "INSTRUME= 'SPIRE   '           / Name of the instrument                         \n",
       "DESC    = '250 microns'        / Name of the array                              \n",
       "WAVELN  =                  250 / Wavelength of the array                        \n",
       "COMMENT                                                                         \n",
       "COMMENT  Astrometry section.                                                    \n",
       "COMMENT                                                                         \n",
       "EQUINOX =        2000.00000000 / WCS: Equinox of celestial pointing             \n",
       "EPOCH   =              2000.00 / WCS: Epoch of celestial pointing               \n",
       "CRVAL1  =        222.169357300 / R.A. (degrees) of reference pixel              \n",
       "CRVAL2  =       0.449327766895 / Declination of reference pixel                 \n",
       "CD1_1   =    -0.00166666670702 / [degrees] WCS: Pixel scale axis 1,1            \n",
       "CD1_2   =        0.00000000000 / [degrees] WCS: Pixel scale axis 1,2            \n",
       "CD2_1   =        0.00000000000 / [degrees] WCS: Pixel scale axis 2,1            \n",
       "CD2_2   =     0.00166666670702 / [degrees] WCS: Pixel scale axis 2,2            \n",
       "CTYPE1  = 'RA---TAN'           / WCS: Projection type axis 1, default           \n",
       "CTYPE2  = 'DEC--TAN'           / WCS: Projection type axis 1, default           \n",
       "CRPIX1  =                 1708 / [pixel] WCS: Reference pixel position axis 1.  \n",
       "CRPIX2  =                 1820 / [pixel] WCS: Reference pixel position axis 2.  \n",
       "MAPMAKER= 'iterative'          /Type of SMAP map maker                          \n",
       "NITER   =                   20 /Number of map maker iterations                  \n",
       "FRSTOFFS=                    1 /First offset iteration                          \n",
       "FRSTGAIN=                    0 /First gain iteration                            \n",
       "FRSTWT  =                   10 /First weight iteration                          \n",
       "FRSTCLIP=                    5 /First clipping iteration                        \n",
       "FIXEDNT =                    0 /Fixed number of offset terms                    \n",
       "ITNTERMS=                    2 /Number of poly terms in map maker               \n",
       "ITNTSCAL=                    0 /Scale for poly order                            \n",
       "ITMNHITS=       0.100000000000 /Min exposure required                           \n",
       "ITCLPSIG=              10.0000 /Deglitching sigma clip                          \n",
       "ITCLPGRW=                    5 /Deglitching growing size                        \n",
       "MATCHFLT=                    F /Do matched filter                               \n",
       "REDSRC  =                    F /Do red source smoothing                         \n",
       "OBSID000=           1342189661 /OBSIDs in map                                   \n",
       "OBSID001=           1342189662 /OBSIDs in map                                   \n",
       "OBSID002=           1342189691 /OBSIDs in map                                   \n",
       "OBSID003=           1342189692 /OBSIDs in map                                   \n",
       "OBSID004=           1342189845 /OBSIDs in map                                   \n",
       "OBSID005=           1342189846 /OBSIDs in map                                   \n",
       "OBSID006=           1342190254 /OBSIDs in map                                   \n",
       "OBSID007=           1342190255 /OBSIDs in map                                   \n",
       "OBSHX000= '0x5000305D'         /OBSIDs in map (Hex)                             \n",
       "OBSHX001= '0x5000305E'         /OBSIDs in map (Hex)                             \n",
       "OBSHX002= '0x5000307B'         /OBSIDs in map (Hex)                             \n",
       "OBSHX003= '0x5000307C'         /OBSIDs in map (Hex)                             \n",
       "OBSHX004= '0x50003115'         /OBSIDs in map (Hex)                             \n",
       "OBSHX005= '0x50003116'         /OBSIDs in map (Hex)                             \n",
       "OBSHX006= '0x500032AE'         /OBSIDs in map (Hex)                             \n",
       "OBSHX007= '0x500032AF'         /OBSIDs in map (Hex)                             \n",
       "RA_NOM  =        212.625000000 / [deg] Requested Right Ascension of pointing    \n",
       "DEC_NOM =       0.500000000000 / [deg] Requested Declination of pointing        \n",
       "POSANGLE=        109.114513504 / [deg] Position Angle of pointing               \n",
       "HCSS____=                    5 / HCSS Fits Product Version                      \n",
       "CUSMODE = 'SpirePacsParallel'  / CUS observation mode                           \n",
       "AOR     = 'GAMA15_ro1'         / AOR Label as entered in HSpot                  \n",
       "INSTMODE= 'PARALLEL'           / Instrument Mode                                \n",
       "OBJECT  = 'gama15_rn1'         / Target name                                    \n",
       "OBSERVER= 'seales01'           / Observer name                                  \n",
       "OBS_MODE= 'Parallel Mode'      / Observation mode name                          \n",
       "POINTMOD= 'Line_scan'          / Pointing mode                                  \n",
       "PROPOSAL= 'KPOT_seales01_2'    / Proposal name                                  \n",
       "SUBSYS  = 'PHOTOMETER'         / Instrument Subsystem                           \n",
       "LONPOLE =        180.000000000 / Native longitude of Celestial pole             \n",
       "LATPOLE =        90.0000000000 / Celestial latitude of native pole              \n",
       "RADESYS = 'FK5     '           / Reference frame                                \n",
       "HISTORY PUTAST: Jul  8 22:33:19 2015 World Coordinate System parameters written \n",
       "TODMASK =            199653533 /                                                \n",
       "EXTNAME = 'error   '           / name of this HDU                               \n",
       "HFIELD  = 'GAMA-15 '                                                            \n",
       "HBAND   = 'SPIRE250'                                                            \n",
       "HTITLE  = 'GAMA-15 SPIRE250 (error)'                                            \n",
       "HTYPE   = 'error   '                                                            "
      ]
     },
     "execution_count": 44,
     "metadata": {},
     "output_type": "execute_result"
    }
   ],
   "source": [
    "g15v[0].header"
   ]
  },
  {
   "cell_type": "code",
   "execution_count": 16,
   "id": "unique-switch",
   "metadata": {},
   "outputs": [],
   "source": [
    "hs250=fits.open('./data/Stripe82-PSWmap-mosaic_MS-20200221.fits')"
   ]
  },
  {
   "cell_type": "code",
   "execution_count": 25,
   "id": "sustained-spotlight",
   "metadata": {},
   "outputs": [
    {
     "data": {
      "text/plain": [
       "XTENSION= 'IMAGE   '           / marks beginning of new HDU                     \n",
       "BITPIX  =                  -64 / bits per data value                            \n",
       "NAXIS   =                    2 / number of axes                                 \n",
       "NAXIS1  =                30706 / size of the n'th axis                          \n",
       "NAXIS2  =                11550 / size of the n'th axis                          \n",
       "PCOUNT  =                    0 / Required value                                 \n",
       "GCOUNT  =                    1 / Required value                                 \n",
       "LONGSTRN= 'OGIP 1.0'           / The OGIP long string convention may be used.   \n",
       "COMMENT This FITS file may contain long string keyword values that are          \n",
       "COMMENT continued over multiple keywords.  This convention uses the  '&'        \n",
       "COMMENT character at the end of a string which is then continued                \n",
       "COMMENT on subsequent keywords whose name = 'CONTINUE'.                         \n",
       "         -------------- Herschel Structure Data--------------------             \n",
       "         Following fields are private to the structure of the                   \n",
       "         Java object this HDU is representing.                                  \n",
       "EXTNAME = 'coverage'           / name of this HDU                               \n",
       "CLASS___= 'herschel.ia.dataset.ArrayDataset' / java representation              \n",
       "INFO____= 'Coverage'                                                            \n",
       "DATA____= 'herschel.ia.numeric.Double2d' / java Data                            \n",
       "QTTY____= '1       '           / Unit of the data                               \n",
       "BUNIT   = '1       '           / Unit of the data                               \n",
       "         -------------- Herschel Parameter Data--------------------             \n",
       "         All actual parameter names are converted to FITS compliant             \n",
       "         conventions. Note that the HIERARCH comments contain the               \n",
       "         appropriate key mapping                                                \n",
       "                                                                                \n",
       "        / TARGET AND POINTING INFORMATION                                       \n",
       "                                                                                \n",
       "EQUINOX =               2000.0 / [] WCS: Equinox, unit=Duration                 \n",
       "                                                                                \n",
       "        / WORLD COORDINATE SYSTEM AND RELATED PARAMETERS                        \n",
       "                                                                                \n",
       "CRPIX1  =              11790.0 / [] WCS: Reference pixel position axis 1        \n",
       "CRPIX2  =               5979.0 / [] WCS: Reference pixel position axis 2        \n",
       "CRVAL1  =   17.257551917243166 / [] WCS: First coordinate of reference pixel    \n",
       "CRVAL2  =  0.01411589928735194 / [] WCS: Second coordinate of reference pixel   \n",
       "CDELT1  = -0.00166666666666667 / [] WCS: Pixel scale axis 1, unit=Angle         \n",
       "CDELT2  = 0.001666666666666667 / [] WCS: Pixel scale axis 2, unit=Angle         \n",
       "CTYPE1  = 'RA---TAN'           / WCS: Projection type axis 1, default=\"LINEAR\"  \n",
       "CTYPE2  = 'DEC--TAN'           / WCS: Projection type axis 2, default=\"LINEAR\"  \n",
       "CROTA2  =                  0.0 / [] The Rotation angle                          \n",
       "                                                                                \n",
       "                                                                                \n",
       "HIERARCH  key.CRPIX1='crpix1'                                                   \n",
       "HIERARCH  key.CRPIX2='crpix2'                                                   \n",
       "HIERARCH  key.CRVAL1='crval1'                                                   \n",
       "HIERARCH  key.CRVAL2='crval2'                                                   \n",
       "HIERARCH  key.CDELT1='cdelt1'                                                   \n",
       "HIERARCH  key.CDELT2='cdelt2'                                                   \n",
       "HIERARCH  key.CTYPE1='ctype1'                                                   \n",
       "HIERARCH  key.CTYPE2='ctype2'                                                   \n",
       "HIERARCH  key.EQUINOX='equinox'                                                 \n",
       "HIERARCH  key.CROTA2='crota2'                                                   "
      ]
     },
     "execution_count": 25,
     "metadata": {},
     "output_type": "execute_result"
    }
   ],
   "source": [
    "hs250[3].header"
   ]
  },
  {
   "cell_type": "code",
   "execution_count": null,
   "id": "comparative-macro",
   "metadata": {},
   "outputs": [],
   "source": []
  }
 ],
 "metadata": {
  "kernelspec": {
   "display_name": "Python (herschelhelp_internal)",
   "language": "python",
   "name": "helpint"
  },
  "language_info": {
   "codemirror_mode": {
    "name": "ipython",
    "version": 3
   },
   "file_extension": ".py",
   "mimetype": "text/x-python",
   "name": "python",
   "nbconvert_exporter": "python",
   "pygments_lexer": "ipython3",
   "version": "3.6.12"
  }
 },
 "nbformat": 4,
 "nbformat_minor": 5
}
