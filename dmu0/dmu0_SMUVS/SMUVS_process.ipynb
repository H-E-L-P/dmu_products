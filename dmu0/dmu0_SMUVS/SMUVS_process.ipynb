{
 "cells": [
  {
   "cell_type": "markdown",
   "metadata": {},
   "source": [
    "# Spitzer Matching Survey of the Ultra-VISTA Deep Stripes (SMUVS)\n",
    "\n",
    "Converting table format."
   ]
  },
  {
   "cell_type": "code",
   "execution_count": 1,
   "metadata": {},
   "outputs": [
    {
     "name": "stdout",
     "output_type": "stream",
     "text": [
      "This notebook was run with herschelhelp_internal version: \n",
      "017bb1e (Mon Jun 18 14:58:59 2018 +0100) [with local modifications]\n",
      "This notebook was executed on: \n",
      "2018-10-23 12:11:31.380643\n"
     ]
    }
   ],
   "source": [
    "from herschelhelp_internal import git_version\n",
    "print(\"This notebook was run with herschelhelp_internal version: \\n{}\".format(git_version()))\n",
    "import datetime\n",
    "print(\"This notebook was executed on: \\n{}\".format(datetime.datetime.now()))"
   ]
  },
  {
   "cell_type": "code",
   "execution_count": 27,
   "metadata": {},
   "outputs": [],
   "source": [
    "\n",
    "from astropy.table import Table, Column\n",
    "from astropy.io import ascii\n",
    "\n",
    "import numpy as np\n",
    "\n",
    "import yaml\n",
    "\n",
    "import os\n",
    "\n",
    "from pymoc import MOC\n",
    "\n",
    "from herschelhelp_internal.utils import inMoc"
   ]
  },
  {
   "cell_type": "code",
   "execution_count": 6,
   "metadata": {},
   "outputs": [],
   "source": [
    "smuvs = ascii.read('./data/spitzer.smuvs10589.tbl')"
   ]
  },
  {
   "cell_type": "code",
   "execution_count": 7,
   "metadata": {},
   "outputs": [
    {
     "data": {
      "text/html": [
       "<i>Table masked=True length=355913</i>\n",
       "<table id=\"table36132093456\" class=\"table-striped table-bordered table-condensed\">\n",
       "<thead><tr><th>survey</th><th>object</th><th>ra</th><th>dec</th><th>mag1_psf</th><th>mag1_24</th><th>mag1_36</th><th>mag1_48</th><th>mag1_60</th><th>mag1_72</th><th>mag1_120</th><th>mag1_err</th><th>cov1</th><th>flag1</th><th>mag2_psf</th><th>mag2_24</th><th>mag2_36</th><th>mag2_48</th><th>mag2_60</th><th>mag2_72</th><th>mag2_120</th><th>mag2_err</th><th>cov2</th><th>flag2</th></tr></thead>\n",
       "<thead><tr><th></th><th></th><th>deg</th><th>deg</th><th>mag</th><th>mag</th><th>mag</th><th>mag</th><th>mag</th><th>mag</th><th>mag</th><th>mag</th><th>hs</th><th></th><th>mag</th><th>mag</th><th>mag</th><th>mag</th><th>mag</th><th>mag</th><th>mag</th><th>mag</th><th>hs</th><th></th></tr></thead>\n",
       "<thead><tr><th>str5</th><th>str19</th><th>float64</th><th>float64</th><th>float64</th><th>float64</th><th>float64</th><th>float64</th><th>float64</th><th>float64</th><th>float64</th><th>float64</th><th>int64</th><th>int64</th><th>float64</th><th>float64</th><th>float64</th><th>float64</th><th>float64</th><th>float64</th><th>float64</th><th>float64</th><th>int64</th><th>int64</th></tr></thead>\n",
       "<tr><td>SMUVS</td><td>J100059.87+021342.6</td><td>150.24947</td><td>2.22851</td><td>24.74</td><td>25.07</td><td>25.43</td><td>26.75</td><td>-99.0</td><td>-99.0</td><td>-99.0</td><td>0.25</td><td>152</td><td>3</td><td>--</td><td>--</td><td>--</td><td>--</td><td>--</td><td>--</td><td>--</td><td>--</td><td>--</td><td>0</td></tr>\n",
       "<tr><td>SMUVS</td><td>J100058.17+015800.5</td><td>150.24238</td><td>1.96681</td><td>24.74</td><td>24.95</td><td>24.98</td><td>25.02</td><td>25.27</td><td>25.87</td><td>-99.0</td><td>0.25</td><td>220</td><td>3</td><td>--</td><td>--</td><td>--</td><td>--</td><td>--</td><td>--</td><td>--</td><td>--</td><td>--</td><td>0</td></tr>\n",
       "<tr><td>SMUVS</td><td>J095957.96+022431.7</td><td>149.99151</td><td>2.4088</td><td>24.74</td><td>25.09</td><td>25.55</td><td>26.71</td><td>-99.0</td><td>-99.0</td><td>22.98</td><td>0.25</td><td>35</td><td>3</td><td>--</td><td>--</td><td>--</td><td>--</td><td>--</td><td>--</td><td>--</td><td>--</td><td>--</td><td>0</td></tr>\n",
       "<tr><td>SMUVS</td><td>J100050.92+021311.4</td><td>150.21218</td><td>2.21984</td><td>24.74</td><td>24.86</td><td>24.9</td><td>25.05</td><td>25.25</td><td>25.5</td><td>-99.0</td><td>0.25</td><td>1013</td><td>3</td><td>--</td><td>--</td><td>--</td><td>--</td><td>--</td><td>--</td><td>--</td><td>--</td><td>--</td><td>0</td></tr>\n",
       "<tr><td>SMUVS</td><td>J100038.49+023815.0</td><td>150.16037</td><td>2.6375</td><td>24.74</td><td>24.88</td><td>24.94</td><td>25.1</td><td>25.39</td><td>25.94</td><td>-99.0</td><td>0.25</td><td>442</td><td>3</td><td>--</td><td>--</td><td>--</td><td>--</td><td>--</td><td>--</td><td>--</td><td>--</td><td>--</td><td>0</td></tr>\n",
       "<tr><td>SMUVS</td><td>J100004.74+020347.2</td><td>150.01977</td><td>2.06312</td><td>24.74</td><td>24.9</td><td>25.02</td><td>25.18</td><td>25.49</td><td>25.89</td><td>-99.0</td><td>0.25</td><td>445</td><td>3</td><td>--</td><td>--</td><td>--</td><td>--</td><td>--</td><td>--</td><td>--</td><td>--</td><td>--</td><td>0</td></tr>\n",
       "<tr><td>SMUVS</td><td>J100057.99+022858.0</td><td>150.24162</td><td>2.48278</td><td>24.74</td><td>26.02</td><td>-99.0</td><td>-99.0</td><td>-99.0</td><td>-99.0</td><td>-99.0</td><td>0.25</td><td>252</td><td>3</td><td>--</td><td>--</td><td>--</td><td>--</td><td>--</td><td>--</td><td>--</td><td>--</td><td>--</td><td>0</td></tr>\n",
       "<tr><td>SMUVS</td><td>J100050.58+023756.6</td><td>150.21073</td><td>2.63238</td><td>24.74</td><td>25.97</td><td>29.12</td><td>-99.0</td><td>-99.0</td><td>-99.0</td><td>-99.0</td><td>0.25</td><td>368</td><td>3</td><td>--</td><td>--</td><td>--</td><td>--</td><td>--</td><td>--</td><td>--</td><td>--</td><td>--</td><td>0</td></tr>\n",
       "<tr><td>SMUVS</td><td>J095953.03+021037.7</td><td>149.97095</td><td>2.17714</td><td>24.74</td><td>24.86</td><td>24.88</td><td>24.99</td><td>25.32</td><td>25.42</td><td>-99.0</td><td>0.25</td><td>100</td><td>3</td><td>--</td><td>--</td><td>--</td><td>--</td><td>--</td><td>--</td><td>--</td><td>--</td><td>--</td><td>0</td></tr>\n",
       "<tr><td>...</td><td>...</td><td>...</td><td>...</td><td>...</td><td>...</td><td>...</td><td>...</td><td>...</td><td>...</td><td>...</td><td>...</td><td>...</td><td>...</td><td>...</td><td>...</td><td>...</td><td>...</td><td>...</td><td>...</td><td>...</td><td>...</td><td>...</td><td>...</td></tr>\n",
       "<tr><td>SMUVS</td><td>J100132.15+022517.8</td><td>150.38396</td><td>2.4216</td><td>20.95</td><td>20.78</td><td>20.68</td><td>20.58</td><td>20.43</td><td>20.3</td><td>19.9</td><td>0.09</td><td>758</td><td>0</td><td>20.98</td><td>20.87</td><td>20.8</td><td>20.71</td><td>20.58</td><td>20.49</td><td>20.05</td><td>0.09</td><td>902</td><td>0</td></tr>\n",
       "<tr><td>SMUVS</td><td>J100116.64+021647.1</td><td>150.31934</td><td>2.27976</td><td>20.95</td><td>20.81</td><td>20.72</td><td>20.62</td><td>20.5</td><td>20.39</td><td>19.94</td><td>0.09</td><td>171</td><td>0</td><td>21.13</td><td>21.12</td><td>21.09</td><td>21.05</td><td>21.01</td><td>20.97</td><td>20.84</td><td>0.1</td><td>205</td><td>0</td></tr>\n",
       "<tr><td>SMUVS</td><td>J100226.57+014458.3</td><td>150.6107</td><td>1.74952</td><td>20.95</td><td>20.95</td><td>20.95</td><td>20.95</td><td>20.95</td><td>20.95</td><td>20.98</td><td>0.09</td><td>216</td><td>0</td><td>21.03</td><td>21.01</td><td>20.98</td><td>20.94</td><td>20.92</td><td>20.91</td><td>20.92</td><td>0.1</td><td>217</td><td>0</td></tr>\n",
       "<tr><td>SMUVS</td><td>J100220.64+021150.0</td><td>150.58599</td><td>2.19724</td><td>20.95</td><td>20.94</td><td>20.94</td><td>20.93</td><td>20.91</td><td>20.9</td><td>20.89</td><td>0.09</td><td>491</td><td>0</td><td>21.51</td><td>21.0</td><td>21.02</td><td>20.98</td><td>20.89</td><td>20.84</td><td>20.8</td><td>0.1</td><td>394</td><td>0</td></tr>\n",
       "<tr><td>SMUVS</td><td>J100143.37+022821.3</td><td>150.43069</td><td>2.47259</td><td>20.95</td><td>20.95</td><td>20.95</td><td>20.95</td><td>20.94</td><td>20.94</td><td>20.87</td><td>0.09</td><td>1529</td><td>0</td><td>21.37</td><td>21.37</td><td>21.37</td><td>21.36</td><td>21.35</td><td>21.34</td><td>21.24</td><td>0.1</td><td>1364</td><td>0</td></tr>\n",
       "<tr><td>SMUVS</td><td>J100135.17+020925.5</td><td>150.39653</td><td>2.15708</td><td>20.95</td><td>20.87</td><td>20.81</td><td>20.77</td><td>20.72</td><td>20.68</td><td>20.54</td><td>0.09</td><td>430</td><td>0</td><td>20.91</td><td>20.86</td><td>20.83</td><td>20.79</td><td>20.76</td><td>20.73</td><td>20.65</td><td>0.09</td><td>515</td><td>0</td></tr>\n",
       "<tr><td>SMUVS</td><td>J100208.92+021443.3</td><td>150.53716</td><td>2.24536</td><td>20.95</td><td>20.92</td><td>20.87</td><td>20.84</td><td>20.81</td><td>20.79</td><td>20.5</td><td>0.09</td><td>850</td><td>0</td><td>21.16</td><td>21.14</td><td>21.1</td><td>21.07</td><td>21.06</td><td>21.06</td><td>20.85</td><td>0.1</td><td>744</td><td>0</td></tr>\n",
       "<tr><td>SMUVS</td><td>J100212.93+020529.9</td><td>150.55387</td><td>2.09163</td><td>20.95</td><td>20.91</td><td>20.9</td><td>20.88</td><td>20.82</td><td>20.78</td><td>20.71</td><td>0.09</td><td>1128</td><td>0</td><td>20.82</td><td>20.74</td><td>20.62</td><td>20.54</td><td>20.47</td><td>20.43</td><td>20.41</td><td>0.09</td><td>892</td><td>0</td></tr>\n",
       "<tr><td>SMUVS</td><td>J100130.34+020538.1</td><td>150.3764</td><td>2.09391</td><td>20.95</td><td>20.97</td><td>21.0</td><td>21.03</td><td>21.05</td><td>21.07</td><td>21.12</td><td>0.09</td><td>709</td><td>0</td><td>21.06</td><td>21.06</td><td>21.07</td><td>21.06</td><td>21.06</td><td>21.06</td><td>21.04</td><td>0.1</td><td>698</td><td>0</td></tr>\n",
       "<tr><td>SMUVS</td><td>J100148.69+021019.1</td><td>150.45287</td><td>2.17196</td><td>20.95</td><td>20.9</td><td>20.82</td><td>20.76</td><td>20.72</td><td>20.71</td><td>20.73</td><td>0.09</td><td>1736</td><td>0</td><td>21.43</td><td>21.37</td><td>21.27</td><td>21.21</td><td>21.17</td><td>21.15</td><td>21.18</td><td>0.1</td><td>1688</td><td>0</td></tr>\n",
       "</table>"
      ],
      "text/plain": [
       "<Table masked=True length=355913>\n",
       "survey        object           ra      dec   ... mag2_120 mag2_err  cov2 flag2\n",
       "                              deg      deg   ...   mag      mag      hs       \n",
       " str5         str19         float64  float64 ... float64  float64  int64 int64\n",
       "------ ------------------- --------- ------- ... -------- -------- ----- -----\n",
       " SMUVS J100059.87+021342.6 150.24947 2.22851 ...       --       --    --     0\n",
       " SMUVS J100058.17+015800.5 150.24238 1.96681 ...       --       --    --     0\n",
       " SMUVS J095957.96+022431.7 149.99151  2.4088 ...       --       --    --     0\n",
       " SMUVS J100050.92+021311.4 150.21218 2.21984 ...       --       --    --     0\n",
       " SMUVS J100038.49+023815.0 150.16037  2.6375 ...       --       --    --     0\n",
       " SMUVS J100004.74+020347.2 150.01977 2.06312 ...       --       --    --     0\n",
       " SMUVS J100057.99+022858.0 150.24162 2.48278 ...       --       --    --     0\n",
       " SMUVS J100050.58+023756.6 150.21073 2.63238 ...       --       --    --     0\n",
       " SMUVS J095953.03+021037.7 149.97095 2.17714 ...       --       --    --     0\n",
       "   ...                 ...       ...     ... ...      ...      ...   ...   ...\n",
       " SMUVS J100132.15+022517.8 150.38396  2.4216 ...    20.05     0.09   902     0\n",
       " SMUVS J100116.64+021647.1 150.31934 2.27976 ...    20.84      0.1   205     0\n",
       " SMUVS J100226.57+014458.3  150.6107 1.74952 ...    20.92      0.1   217     0\n",
       " SMUVS J100220.64+021150.0 150.58599 2.19724 ...     20.8      0.1   394     0\n",
       " SMUVS J100143.37+022821.3 150.43069 2.47259 ...    21.24      0.1  1364     0\n",
       " SMUVS J100135.17+020925.5 150.39653 2.15708 ...    20.65     0.09   515     0\n",
       " SMUVS J100208.92+021443.3 150.53716 2.24536 ...    20.85      0.1   744     0\n",
       " SMUVS J100212.93+020529.9 150.55387 2.09163 ...    20.41     0.09   892     0\n",
       " SMUVS J100130.34+020538.1  150.3764 2.09391 ...    21.04      0.1   698     0\n",
       " SMUVS J100148.69+021019.1 150.45287 2.17196 ...    21.18      0.1  1688     0"
      ]
     },
     "execution_count": 7,
     "metadata": {},
     "output_type": "execute_result"
    }
   ],
   "source": [
    "smuvs"
   ]
  },
  {
   "cell_type": "code",
   "execution_count": 12,
   "metadata": {},
   "outputs": [
    {
     "data": {
      "text/html": [
       "<i>Table length=355913</i>\n",
       "<table id=\"table35891350328\" class=\"table-striped table-bordered table-condensed\">\n",
       "<thead><tr><th>survey</th><th>object</th><th>ra</th><th>dec</th><th>mag1_psf</th><th>mag1_24</th><th>mag1_36</th><th>mag1_48</th><th>mag1_60</th><th>mag1_72</th><th>mag1_120</th><th>mag1_err</th><th>cov1</th><th>flag1</th><th>mag2_psf</th><th>mag2_24</th><th>mag2_36</th><th>mag2_48</th><th>mag2_60</th><th>mag2_72</th><th>mag2_120</th><th>mag2_err</th><th>cov2</th><th>flag2</th></tr></thead>\n",
       "<thead><tr><th></th><th></th><th>deg</th><th>deg</th><th>mag</th><th>mag</th><th>mag</th><th>mag</th><th>mag</th><th>mag</th><th>mag</th><th>mag</th><th>hs</th><th></th><th>mag</th><th>mag</th><th>mag</th><th>mag</th><th>mag</th><th>mag</th><th>mag</th><th>mag</th><th>hs</th><th></th></tr></thead>\n",
       "<thead><tr><th>str5</th><th>str19</th><th>float64</th><th>float64</th><th>float64</th><th>float64</th><th>float64</th><th>float64</th><th>float64</th><th>float64</th><th>float64</th><th>float64</th><th>int64</th><th>int64</th><th>float64</th><th>float64</th><th>float64</th><th>float64</th><th>float64</th><th>float64</th><th>float64</th><th>float64</th><th>int64</th><th>int64</th></tr></thead>\n",
       "<tr><td>SMUVS</td><td>J100059.87+021342.6</td><td>150.24947</td><td>2.22851</td><td>24.74</td><td>25.07</td><td>25.43</td><td>26.75</td><td>-99.0</td><td>-99.0</td><td>-99.0</td><td>0.25</td><td>152</td><td>3</td><td>nan</td><td>nan</td><td>nan</td><td>nan</td><td>nan</td><td>nan</td><td>nan</td><td>nan</td><td>-1</td><td>0</td></tr>\n",
       "<tr><td>SMUVS</td><td>J100058.17+015800.5</td><td>150.24238</td><td>1.96681</td><td>24.74</td><td>24.95</td><td>24.98</td><td>25.02</td><td>25.27</td><td>25.87</td><td>-99.0</td><td>0.25</td><td>220</td><td>3</td><td>nan</td><td>nan</td><td>nan</td><td>nan</td><td>nan</td><td>nan</td><td>nan</td><td>nan</td><td>-1</td><td>0</td></tr>\n",
       "<tr><td>SMUVS</td><td>J095957.96+022431.7</td><td>149.99151</td><td>2.4088</td><td>24.74</td><td>25.09</td><td>25.55</td><td>26.71</td><td>-99.0</td><td>-99.0</td><td>22.98</td><td>0.25</td><td>35</td><td>3</td><td>nan</td><td>nan</td><td>nan</td><td>nan</td><td>nan</td><td>nan</td><td>nan</td><td>nan</td><td>-1</td><td>0</td></tr>\n",
       "<tr><td>SMUVS</td><td>J100050.92+021311.4</td><td>150.21218</td><td>2.21984</td><td>24.74</td><td>24.86</td><td>24.9</td><td>25.05</td><td>25.25</td><td>25.5</td><td>-99.0</td><td>0.25</td><td>1013</td><td>3</td><td>nan</td><td>nan</td><td>nan</td><td>nan</td><td>nan</td><td>nan</td><td>nan</td><td>nan</td><td>-1</td><td>0</td></tr>\n",
       "<tr><td>SMUVS</td><td>J100038.49+023815.0</td><td>150.16037</td><td>2.6375</td><td>24.74</td><td>24.88</td><td>24.94</td><td>25.1</td><td>25.39</td><td>25.94</td><td>-99.0</td><td>0.25</td><td>442</td><td>3</td><td>nan</td><td>nan</td><td>nan</td><td>nan</td><td>nan</td><td>nan</td><td>nan</td><td>nan</td><td>-1</td><td>0</td></tr>\n",
       "<tr><td>SMUVS</td><td>J100004.74+020347.2</td><td>150.01977</td><td>2.06312</td><td>24.74</td><td>24.9</td><td>25.02</td><td>25.18</td><td>25.49</td><td>25.89</td><td>-99.0</td><td>0.25</td><td>445</td><td>3</td><td>nan</td><td>nan</td><td>nan</td><td>nan</td><td>nan</td><td>nan</td><td>nan</td><td>nan</td><td>-1</td><td>0</td></tr>\n",
       "<tr><td>SMUVS</td><td>J100057.99+022858.0</td><td>150.24162</td><td>2.48278</td><td>24.74</td><td>26.02</td><td>-99.0</td><td>-99.0</td><td>-99.0</td><td>-99.0</td><td>-99.0</td><td>0.25</td><td>252</td><td>3</td><td>nan</td><td>nan</td><td>nan</td><td>nan</td><td>nan</td><td>nan</td><td>nan</td><td>nan</td><td>-1</td><td>0</td></tr>\n",
       "<tr><td>SMUVS</td><td>J100050.58+023756.6</td><td>150.21073</td><td>2.63238</td><td>24.74</td><td>25.97</td><td>29.12</td><td>-99.0</td><td>-99.0</td><td>-99.0</td><td>-99.0</td><td>0.25</td><td>368</td><td>3</td><td>nan</td><td>nan</td><td>nan</td><td>nan</td><td>nan</td><td>nan</td><td>nan</td><td>nan</td><td>-1</td><td>0</td></tr>\n",
       "<tr><td>SMUVS</td><td>J095953.03+021037.7</td><td>149.97095</td><td>2.17714</td><td>24.74</td><td>24.86</td><td>24.88</td><td>24.99</td><td>25.32</td><td>25.42</td><td>-99.0</td><td>0.25</td><td>100</td><td>3</td><td>nan</td><td>nan</td><td>nan</td><td>nan</td><td>nan</td><td>nan</td><td>nan</td><td>nan</td><td>-1</td><td>0</td></tr>\n",
       "<tr><td>...</td><td>...</td><td>...</td><td>...</td><td>...</td><td>...</td><td>...</td><td>...</td><td>...</td><td>...</td><td>...</td><td>...</td><td>...</td><td>...</td><td>...</td><td>...</td><td>...</td><td>...</td><td>...</td><td>...</td><td>...</td><td>...</td><td>...</td><td>...</td></tr>\n",
       "<tr><td>SMUVS</td><td>J100132.15+022517.8</td><td>150.38396</td><td>2.4216</td><td>20.95</td><td>20.78</td><td>20.68</td><td>20.58</td><td>20.43</td><td>20.3</td><td>19.9</td><td>0.09</td><td>758</td><td>0</td><td>20.98</td><td>20.87</td><td>20.8</td><td>20.71</td><td>20.58</td><td>20.49</td><td>20.05</td><td>0.09</td><td>902</td><td>0</td></tr>\n",
       "<tr><td>SMUVS</td><td>J100116.64+021647.1</td><td>150.31934</td><td>2.27976</td><td>20.95</td><td>20.81</td><td>20.72</td><td>20.62</td><td>20.5</td><td>20.39</td><td>19.94</td><td>0.09</td><td>171</td><td>0</td><td>21.13</td><td>21.12</td><td>21.09</td><td>21.05</td><td>21.01</td><td>20.97</td><td>20.84</td><td>0.1</td><td>205</td><td>0</td></tr>\n",
       "<tr><td>SMUVS</td><td>J100226.57+014458.3</td><td>150.6107</td><td>1.74952</td><td>20.95</td><td>20.95</td><td>20.95</td><td>20.95</td><td>20.95</td><td>20.95</td><td>20.98</td><td>0.09</td><td>216</td><td>0</td><td>21.03</td><td>21.01</td><td>20.98</td><td>20.94</td><td>20.92</td><td>20.91</td><td>20.92</td><td>0.1</td><td>217</td><td>0</td></tr>\n",
       "<tr><td>SMUVS</td><td>J100220.64+021150.0</td><td>150.58599</td><td>2.19724</td><td>20.95</td><td>20.94</td><td>20.94</td><td>20.93</td><td>20.91</td><td>20.9</td><td>20.89</td><td>0.09</td><td>491</td><td>0</td><td>21.51</td><td>21.0</td><td>21.02</td><td>20.98</td><td>20.89</td><td>20.84</td><td>20.8</td><td>0.1</td><td>394</td><td>0</td></tr>\n",
       "<tr><td>SMUVS</td><td>J100143.37+022821.3</td><td>150.43069</td><td>2.47259</td><td>20.95</td><td>20.95</td><td>20.95</td><td>20.95</td><td>20.94</td><td>20.94</td><td>20.87</td><td>0.09</td><td>1529</td><td>0</td><td>21.37</td><td>21.37</td><td>21.37</td><td>21.36</td><td>21.35</td><td>21.34</td><td>21.24</td><td>0.1</td><td>1364</td><td>0</td></tr>\n",
       "<tr><td>SMUVS</td><td>J100135.17+020925.5</td><td>150.39653</td><td>2.15708</td><td>20.95</td><td>20.87</td><td>20.81</td><td>20.77</td><td>20.72</td><td>20.68</td><td>20.54</td><td>0.09</td><td>430</td><td>0</td><td>20.91</td><td>20.86</td><td>20.83</td><td>20.79</td><td>20.76</td><td>20.73</td><td>20.65</td><td>0.09</td><td>515</td><td>0</td></tr>\n",
       "<tr><td>SMUVS</td><td>J100208.92+021443.3</td><td>150.53716</td><td>2.24536</td><td>20.95</td><td>20.92</td><td>20.87</td><td>20.84</td><td>20.81</td><td>20.79</td><td>20.5</td><td>0.09</td><td>850</td><td>0</td><td>21.16</td><td>21.14</td><td>21.1</td><td>21.07</td><td>21.06</td><td>21.06</td><td>20.85</td><td>0.1</td><td>744</td><td>0</td></tr>\n",
       "<tr><td>SMUVS</td><td>J100212.93+020529.9</td><td>150.55387</td><td>2.09163</td><td>20.95</td><td>20.91</td><td>20.9</td><td>20.88</td><td>20.82</td><td>20.78</td><td>20.71</td><td>0.09</td><td>1128</td><td>0</td><td>20.82</td><td>20.74</td><td>20.62</td><td>20.54</td><td>20.47</td><td>20.43</td><td>20.41</td><td>0.09</td><td>892</td><td>0</td></tr>\n",
       "<tr><td>SMUVS</td><td>J100130.34+020538.1</td><td>150.3764</td><td>2.09391</td><td>20.95</td><td>20.97</td><td>21.0</td><td>21.03</td><td>21.05</td><td>21.07</td><td>21.12</td><td>0.09</td><td>709</td><td>0</td><td>21.06</td><td>21.06</td><td>21.07</td><td>21.06</td><td>21.06</td><td>21.06</td><td>21.04</td><td>0.1</td><td>698</td><td>0</td></tr>\n",
       "<tr><td>SMUVS</td><td>J100148.69+021019.1</td><td>150.45287</td><td>2.17196</td><td>20.95</td><td>20.9</td><td>20.82</td><td>20.76</td><td>20.72</td><td>20.71</td><td>20.73</td><td>0.09</td><td>1736</td><td>0</td><td>21.43</td><td>21.37</td><td>21.27</td><td>21.21</td><td>21.17</td><td>21.15</td><td>21.18</td><td>0.1</td><td>1688</td><td>0</td></tr>\n",
       "</table>"
      ],
      "text/plain": [
       "<Table length=355913>\n",
       "survey        object           ra      dec   ... mag2_120 mag2_err  cov2 flag2\n",
       "                              deg      deg   ...   mag      mag      hs       \n",
       " str5         str19         float64  float64 ... float64  float64  int64 int64\n",
       "------ ------------------- --------- ------- ... -------- -------- ----- -----\n",
       " SMUVS J100059.87+021342.6 150.24947 2.22851 ...      nan      nan    -1     0\n",
       " SMUVS J100058.17+015800.5 150.24238 1.96681 ...      nan      nan    -1     0\n",
       " SMUVS J095957.96+022431.7 149.99151  2.4088 ...      nan      nan    -1     0\n",
       " SMUVS J100050.92+021311.4 150.21218 2.21984 ...      nan      nan    -1     0\n",
       " SMUVS J100038.49+023815.0 150.16037  2.6375 ...      nan      nan    -1     0\n",
       " SMUVS J100004.74+020347.2 150.01977 2.06312 ...      nan      nan    -1     0\n",
       " SMUVS J100057.99+022858.0 150.24162 2.48278 ...      nan      nan    -1     0\n",
       " SMUVS J100050.58+023756.6 150.21073 2.63238 ...      nan      nan    -1     0\n",
       " SMUVS J095953.03+021037.7 149.97095 2.17714 ...      nan      nan    -1     0\n",
       "   ...                 ...       ...     ... ...      ...      ...   ...   ...\n",
       " SMUVS J100132.15+022517.8 150.38396  2.4216 ...    20.05     0.09   902     0\n",
       " SMUVS J100116.64+021647.1 150.31934 2.27976 ...    20.84      0.1   205     0\n",
       " SMUVS J100226.57+014458.3  150.6107 1.74952 ...    20.92      0.1   217     0\n",
       " SMUVS J100220.64+021150.0 150.58599 2.19724 ...     20.8      0.1   394     0\n",
       " SMUVS J100143.37+022821.3 150.43069 2.47259 ...    21.24      0.1  1364     0\n",
       " SMUVS J100135.17+020925.5 150.39653 2.15708 ...    20.65     0.09   515     0\n",
       " SMUVS J100208.92+021443.3 150.53716 2.24536 ...    20.85      0.1   744     0\n",
       " SMUVS J100212.93+020529.9 150.55387 2.09163 ...    20.41     0.09   892     0\n",
       " SMUVS J100130.34+020538.1  150.3764 2.09391 ...    21.04      0.1   698     0\n",
       " SMUVS J100148.69+021019.1 150.45287 2.17196 ...    21.18      0.1  1688     0"
      ]
     },
     "execution_count": 12,
     "metadata": {},
     "output_type": "execute_result"
    }
   ],
   "source": [
    "for col in smuvs.colnames:\n",
    "    if (smuvs[col].dtype == 'float64'): \n",
    "        smuvs[col].fill_value = np.nan\n",
    "    if (smuvs[col].dtype == 'int64'):\n",
    "        smuvs[col].fill_value = -1\n",
    "        \n",
    "smuvs = smuvs.filled()\n",
    "\n",
    "smuvs"
   ]
  },
  {
   "cell_type": "code",
   "execution_count": 45,
   "metadata": {},
   "outputs": [],
   "source": [
    "def cut_to_help(cat, fields_yml, ra_col='ra', dec_col='dec' ):\n",
    "    catalogue = cat.copy()\n",
    "    try:\n",
    "        catalogue.add_column(Column(data=np.full(len(catalogue), '') , dtype='S18', name = 'field'))\n",
    "    except ValueError:\n",
    "        print('field column already exists, flushing column')\n",
    "        catalogue['field'] = np.full(len(catalogue), '')\n",
    "        catalogue['field'] = catalogue['field'].astype('S18')\n",
    "    for field in fields_yml['fields']:\n",
    "        field_moc = MOC(filename= os.getcwd().split('dmu_products')[0] + field['region'] )\n",
    "        in_field = inMoc(catalogue[ra_col], catalogue[dec_col], field_moc)\n",
    "        catalogue['field'][in_field] = field['name']\n",
    "    \n",
    "    catalogue = catalogue[catalogue['field'] != '']\n",
    "    \n",
    "    return catalogue"
   ]
  },
  {
   "cell_type": "code",
   "execution_count": 46,
   "metadata": {},
   "outputs": [
    {
     "name": "stdout",
     "output_type": "stream",
     "text": [
      "field column already exists, flushing column\n"
     ]
    }
   ],
   "source": [
    "fields_yml = yaml.load(open(\"../../dmu2/meta_main.yml\", 'r'))\n",
    "smuvs =  cut_to_help(smuvs, fields_yml)"
   ]
  },
  {
   "cell_type": "code",
   "execution_count": 47,
   "metadata": {},
   "outputs": [
    {
     "data": {
      "text/html": [
       "&lt;Column name=&apos;field&apos; dtype=&apos;bytes18&apos; length=1&gt;\n",
       "<table>\n",
       "<tr><td>COSMOS</td></tr>\n",
       "</table>"
      ],
      "text/plain": [
       "<Column name='field' dtype='bytes18' length=1>\n",
       "COSMOS"
      ]
     },
     "execution_count": 47,
     "metadata": {},
     "output_type": "execute_result"
    }
   ],
   "source": [
    "np.unique(smuvs['field'])"
   ]
  },
  {
   "cell_type": "code",
   "execution_count": 48,
   "metadata": {},
   "outputs": [
    {
     "data": {
      "text/html": [
       "<i>Table length=355913</i>\n",
       "<table id=\"table35891050368\" class=\"table-striped table-bordered table-condensed\">\n",
       "<thead><tr><th>survey</th><th>object</th><th>ra</th><th>dec</th><th>mag1_psf</th><th>mag1_24</th><th>mag1_36</th><th>mag1_48</th><th>mag1_60</th><th>mag1_72</th><th>mag1_120</th><th>mag1_err</th><th>cov1</th><th>flag1</th><th>mag2_psf</th><th>mag2_24</th><th>mag2_36</th><th>mag2_48</th><th>mag2_60</th><th>mag2_72</th><th>mag2_120</th><th>mag2_err</th><th>cov2</th><th>flag2</th><th>field</th></tr></thead>\n",
       "<thead><tr><th></th><th></th><th>deg</th><th>deg</th><th>mag</th><th>mag</th><th>mag</th><th>mag</th><th>mag</th><th>mag</th><th>mag</th><th>mag</th><th>hs</th><th></th><th>mag</th><th>mag</th><th>mag</th><th>mag</th><th>mag</th><th>mag</th><th>mag</th><th>mag</th><th>hs</th><th></th><th></th></tr></thead>\n",
       "<thead><tr><th>str5</th><th>str19</th><th>float64</th><th>float64</th><th>float64</th><th>float64</th><th>float64</th><th>float64</th><th>float64</th><th>float64</th><th>float64</th><th>float64</th><th>int64</th><th>int64</th><th>float64</th><th>float64</th><th>float64</th><th>float64</th><th>float64</th><th>float64</th><th>float64</th><th>float64</th><th>int64</th><th>int64</th><th>bytes18</th></tr></thead>\n",
       "<tr><td>SMUVS</td><td>J100059.87+021342.6</td><td>150.24947</td><td>2.22851</td><td>24.74</td><td>25.07</td><td>25.43</td><td>26.75</td><td>-99.0</td><td>-99.0</td><td>-99.0</td><td>0.25</td><td>152</td><td>3</td><td>nan</td><td>nan</td><td>nan</td><td>nan</td><td>nan</td><td>nan</td><td>nan</td><td>nan</td><td>-1</td><td>0</td><td>COSMOS</td></tr>\n",
       "<tr><td>SMUVS</td><td>J100058.17+015800.5</td><td>150.24238</td><td>1.96681</td><td>24.74</td><td>24.95</td><td>24.98</td><td>25.02</td><td>25.27</td><td>25.87</td><td>-99.0</td><td>0.25</td><td>220</td><td>3</td><td>nan</td><td>nan</td><td>nan</td><td>nan</td><td>nan</td><td>nan</td><td>nan</td><td>nan</td><td>-1</td><td>0</td><td>COSMOS</td></tr>\n",
       "<tr><td>SMUVS</td><td>J095957.96+022431.7</td><td>149.99151</td><td>2.4088</td><td>24.74</td><td>25.09</td><td>25.55</td><td>26.71</td><td>-99.0</td><td>-99.0</td><td>22.98</td><td>0.25</td><td>35</td><td>3</td><td>nan</td><td>nan</td><td>nan</td><td>nan</td><td>nan</td><td>nan</td><td>nan</td><td>nan</td><td>-1</td><td>0</td><td>COSMOS</td></tr>\n",
       "<tr><td>SMUVS</td><td>J100050.92+021311.4</td><td>150.21218</td><td>2.21984</td><td>24.74</td><td>24.86</td><td>24.9</td><td>25.05</td><td>25.25</td><td>25.5</td><td>-99.0</td><td>0.25</td><td>1013</td><td>3</td><td>nan</td><td>nan</td><td>nan</td><td>nan</td><td>nan</td><td>nan</td><td>nan</td><td>nan</td><td>-1</td><td>0</td><td>COSMOS</td></tr>\n",
       "<tr><td>SMUVS</td><td>J100038.49+023815.0</td><td>150.16037</td><td>2.6375</td><td>24.74</td><td>24.88</td><td>24.94</td><td>25.1</td><td>25.39</td><td>25.94</td><td>-99.0</td><td>0.25</td><td>442</td><td>3</td><td>nan</td><td>nan</td><td>nan</td><td>nan</td><td>nan</td><td>nan</td><td>nan</td><td>nan</td><td>-1</td><td>0</td><td>COSMOS</td></tr>\n",
       "<tr><td>SMUVS</td><td>J100004.74+020347.2</td><td>150.01977</td><td>2.06312</td><td>24.74</td><td>24.9</td><td>25.02</td><td>25.18</td><td>25.49</td><td>25.89</td><td>-99.0</td><td>0.25</td><td>445</td><td>3</td><td>nan</td><td>nan</td><td>nan</td><td>nan</td><td>nan</td><td>nan</td><td>nan</td><td>nan</td><td>-1</td><td>0</td><td>COSMOS</td></tr>\n",
       "<tr><td>SMUVS</td><td>J100057.99+022858.0</td><td>150.24162</td><td>2.48278</td><td>24.74</td><td>26.02</td><td>-99.0</td><td>-99.0</td><td>-99.0</td><td>-99.0</td><td>-99.0</td><td>0.25</td><td>252</td><td>3</td><td>nan</td><td>nan</td><td>nan</td><td>nan</td><td>nan</td><td>nan</td><td>nan</td><td>nan</td><td>-1</td><td>0</td><td>COSMOS</td></tr>\n",
       "<tr><td>SMUVS</td><td>J100050.58+023756.6</td><td>150.21073</td><td>2.63238</td><td>24.74</td><td>25.97</td><td>29.12</td><td>-99.0</td><td>-99.0</td><td>-99.0</td><td>-99.0</td><td>0.25</td><td>368</td><td>3</td><td>nan</td><td>nan</td><td>nan</td><td>nan</td><td>nan</td><td>nan</td><td>nan</td><td>nan</td><td>-1</td><td>0</td><td>COSMOS</td></tr>\n",
       "<tr><td>SMUVS</td><td>J095953.03+021037.7</td><td>149.97095</td><td>2.17714</td><td>24.74</td><td>24.86</td><td>24.88</td><td>24.99</td><td>25.32</td><td>25.42</td><td>-99.0</td><td>0.25</td><td>100</td><td>3</td><td>nan</td><td>nan</td><td>nan</td><td>nan</td><td>nan</td><td>nan</td><td>nan</td><td>nan</td><td>-1</td><td>0</td><td>COSMOS</td></tr>\n",
       "<tr><td>...</td><td>...</td><td>...</td><td>...</td><td>...</td><td>...</td><td>...</td><td>...</td><td>...</td><td>...</td><td>...</td><td>...</td><td>...</td><td>...</td><td>...</td><td>...</td><td>...</td><td>...</td><td>...</td><td>...</td><td>...</td><td>...</td><td>...</td><td>...</td><td>...</td></tr>\n",
       "<tr><td>SMUVS</td><td>J100132.15+022517.8</td><td>150.38396</td><td>2.4216</td><td>20.95</td><td>20.78</td><td>20.68</td><td>20.58</td><td>20.43</td><td>20.3</td><td>19.9</td><td>0.09</td><td>758</td><td>0</td><td>20.98</td><td>20.87</td><td>20.8</td><td>20.71</td><td>20.58</td><td>20.49</td><td>20.05</td><td>0.09</td><td>902</td><td>0</td><td>COSMOS</td></tr>\n",
       "<tr><td>SMUVS</td><td>J100116.64+021647.1</td><td>150.31934</td><td>2.27976</td><td>20.95</td><td>20.81</td><td>20.72</td><td>20.62</td><td>20.5</td><td>20.39</td><td>19.94</td><td>0.09</td><td>171</td><td>0</td><td>21.13</td><td>21.12</td><td>21.09</td><td>21.05</td><td>21.01</td><td>20.97</td><td>20.84</td><td>0.1</td><td>205</td><td>0</td><td>COSMOS</td></tr>\n",
       "<tr><td>SMUVS</td><td>J100226.57+014458.3</td><td>150.6107</td><td>1.74952</td><td>20.95</td><td>20.95</td><td>20.95</td><td>20.95</td><td>20.95</td><td>20.95</td><td>20.98</td><td>0.09</td><td>216</td><td>0</td><td>21.03</td><td>21.01</td><td>20.98</td><td>20.94</td><td>20.92</td><td>20.91</td><td>20.92</td><td>0.1</td><td>217</td><td>0</td><td>COSMOS</td></tr>\n",
       "<tr><td>SMUVS</td><td>J100220.64+021150.0</td><td>150.58599</td><td>2.19724</td><td>20.95</td><td>20.94</td><td>20.94</td><td>20.93</td><td>20.91</td><td>20.9</td><td>20.89</td><td>0.09</td><td>491</td><td>0</td><td>21.51</td><td>21.0</td><td>21.02</td><td>20.98</td><td>20.89</td><td>20.84</td><td>20.8</td><td>0.1</td><td>394</td><td>0</td><td>COSMOS</td></tr>\n",
       "<tr><td>SMUVS</td><td>J100143.37+022821.3</td><td>150.43069</td><td>2.47259</td><td>20.95</td><td>20.95</td><td>20.95</td><td>20.95</td><td>20.94</td><td>20.94</td><td>20.87</td><td>0.09</td><td>1529</td><td>0</td><td>21.37</td><td>21.37</td><td>21.37</td><td>21.36</td><td>21.35</td><td>21.34</td><td>21.24</td><td>0.1</td><td>1364</td><td>0</td><td>COSMOS</td></tr>\n",
       "<tr><td>SMUVS</td><td>J100135.17+020925.5</td><td>150.39653</td><td>2.15708</td><td>20.95</td><td>20.87</td><td>20.81</td><td>20.77</td><td>20.72</td><td>20.68</td><td>20.54</td><td>0.09</td><td>430</td><td>0</td><td>20.91</td><td>20.86</td><td>20.83</td><td>20.79</td><td>20.76</td><td>20.73</td><td>20.65</td><td>0.09</td><td>515</td><td>0</td><td>COSMOS</td></tr>\n",
       "<tr><td>SMUVS</td><td>J100208.92+021443.3</td><td>150.53716</td><td>2.24536</td><td>20.95</td><td>20.92</td><td>20.87</td><td>20.84</td><td>20.81</td><td>20.79</td><td>20.5</td><td>0.09</td><td>850</td><td>0</td><td>21.16</td><td>21.14</td><td>21.1</td><td>21.07</td><td>21.06</td><td>21.06</td><td>20.85</td><td>0.1</td><td>744</td><td>0</td><td>COSMOS</td></tr>\n",
       "<tr><td>SMUVS</td><td>J100212.93+020529.9</td><td>150.55387</td><td>2.09163</td><td>20.95</td><td>20.91</td><td>20.9</td><td>20.88</td><td>20.82</td><td>20.78</td><td>20.71</td><td>0.09</td><td>1128</td><td>0</td><td>20.82</td><td>20.74</td><td>20.62</td><td>20.54</td><td>20.47</td><td>20.43</td><td>20.41</td><td>0.09</td><td>892</td><td>0</td><td>COSMOS</td></tr>\n",
       "<tr><td>SMUVS</td><td>J100130.34+020538.1</td><td>150.3764</td><td>2.09391</td><td>20.95</td><td>20.97</td><td>21.0</td><td>21.03</td><td>21.05</td><td>21.07</td><td>21.12</td><td>0.09</td><td>709</td><td>0</td><td>21.06</td><td>21.06</td><td>21.07</td><td>21.06</td><td>21.06</td><td>21.06</td><td>21.04</td><td>0.1</td><td>698</td><td>0</td><td>COSMOS</td></tr>\n",
       "<tr><td>SMUVS</td><td>J100148.69+021019.1</td><td>150.45287</td><td>2.17196</td><td>20.95</td><td>20.9</td><td>20.82</td><td>20.76</td><td>20.72</td><td>20.71</td><td>20.73</td><td>0.09</td><td>1736</td><td>0</td><td>21.43</td><td>21.37</td><td>21.27</td><td>21.21</td><td>21.17</td><td>21.15</td><td>21.18</td><td>0.1</td><td>1688</td><td>0</td><td>COSMOS</td></tr>\n",
       "</table>"
      ],
      "text/plain": [
       "<Table length=355913>\n",
       "survey        object           ra      dec   ... mag2_err  cov2 flag2  field \n",
       "                              deg      deg   ...   mag      hs               \n",
       " str5         str19         float64  float64 ... float64  int64 int64 bytes18\n",
       "------ ------------------- --------- ------- ... -------- ----- ----- -------\n",
       " SMUVS J100059.87+021342.6 150.24947 2.22851 ...      nan    -1     0  COSMOS\n",
       " SMUVS J100058.17+015800.5 150.24238 1.96681 ...      nan    -1     0  COSMOS\n",
       " SMUVS J095957.96+022431.7 149.99151  2.4088 ...      nan    -1     0  COSMOS\n",
       " SMUVS J100050.92+021311.4 150.21218 2.21984 ...      nan    -1     0  COSMOS\n",
       " SMUVS J100038.49+023815.0 150.16037  2.6375 ...      nan    -1     0  COSMOS\n",
       " SMUVS J100004.74+020347.2 150.01977 2.06312 ...      nan    -1     0  COSMOS\n",
       " SMUVS J100057.99+022858.0 150.24162 2.48278 ...      nan    -1     0  COSMOS\n",
       " SMUVS J100050.58+023756.6 150.21073 2.63238 ...      nan    -1     0  COSMOS\n",
       " SMUVS J095953.03+021037.7 149.97095 2.17714 ...      nan    -1     0  COSMOS\n",
       "   ...                 ...       ...     ... ...      ...   ...   ...     ...\n",
       " SMUVS J100132.15+022517.8 150.38396  2.4216 ...     0.09   902     0  COSMOS\n",
       " SMUVS J100116.64+021647.1 150.31934 2.27976 ...      0.1   205     0  COSMOS\n",
       " SMUVS J100226.57+014458.3  150.6107 1.74952 ...      0.1   217     0  COSMOS\n",
       " SMUVS J100220.64+021150.0 150.58599 2.19724 ...      0.1   394     0  COSMOS\n",
       " SMUVS J100143.37+022821.3 150.43069 2.47259 ...      0.1  1364     0  COSMOS\n",
       " SMUVS J100135.17+020925.5 150.39653 2.15708 ...     0.09   515     0  COSMOS\n",
       " SMUVS J100208.92+021443.3 150.53716 2.24536 ...      0.1   744     0  COSMOS\n",
       " SMUVS J100212.93+020529.9 150.55387 2.09163 ...     0.09   892     0  COSMOS\n",
       " SMUVS J100130.34+020538.1  150.3764 2.09391 ...      0.1   698     0  COSMOS\n",
       " SMUVS J100148.69+021019.1 150.45287 2.17196 ...      0.1  1688     0  COSMOS"
      ]
     },
     "execution_count": 48,
     "metadata": {},
     "output_type": "execute_result"
    }
   ],
   "source": [
    "smuvs"
   ]
  },
  {
   "cell_type": "code",
   "execution_count": 49,
   "metadata": {},
   "outputs": [
    {
     "name": "stderr",
     "output_type": "stream",
     "text": [
      "WARNING: Attribute `keywords` of type <class 'collections.OrderedDict'> cannot be added to FITS Header - skipping [astropy.io.fits.convenience]\n"
     ]
    }
   ],
   "source": [
    "smuvs.write('./data/SMUVS_COSMOS.fits', overwrite=True)"
   ]
  }
 ],
 "metadata": {
  "kernelspec": {
   "display_name": "Python (herschelhelp_internal)",
   "language": "python",
   "name": "helpint"
  },
  "language_info": {
   "codemirror_mode": {
    "name": "ipython",
    "version": 3
   },
   "file_extension": ".py",
   "mimetype": "text/x-python",
   "name": "python",
   "nbconvert_exporter": "python",
   "pygments_lexer": "ipython3",
   "version": "3.6.5"
  }
 },
 "nbformat": 4,
 "nbformat_minor": 2
}
