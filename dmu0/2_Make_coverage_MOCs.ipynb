{
 "cells": [
  {
   "cell_type": "markdown",
   "metadata": {},
   "source": [
    "# Make coverage MOCs\n",
    "\n",
    "We would like to have a MOC for each survey showing the coverage. In this notebook we simply add all the MOCs in teh data folders together to make a summary MOC. This should be equivalent to using the depth maps."
   ]
  },
  {
   "cell_type": "code",
   "execution_count": 12,
   "metadata": {},
   "outputs": [],
   "source": [
    "import glob\n",
    "\n",
    "from pymoc import MOC"
   ]
  },
  {
   "cell_type": "code",
   "execution_count": 7,
   "metadata": {},
   "outputs": [],
   "source": [
    "dirlist = glob.glob('dmu0_*')"
   ]
  },
  {
   "cell_type": "code",
   "execution_count": 8,
   "metadata": {},
   "outputs": [],
   "source": [
    "surveys = []\n",
    "for d in dirlist:\n",
    "    surveys.append(d[5:])"
   ]
  },
  {
   "cell_type": "code",
   "execution_count": 9,
   "metadata": {},
   "outputs": [
    {
     "data": {
      "text/plain": [
       "['CFHTLS',\n",
       " 'SpARCS',\n",
       " 'RCSLenS',\n",
       " 'DEEP2',\n",
       " 'CANDELS-UDS',\n",
       " 'CANDELS-3D-HST',\n",
       " 'VISTA-VIDEO-private',\n",
       " 'NDWFS',\n",
       " 'SpUDS',\n",
       " 'CANDELS-GOODS-S',\n",
       " 'SSDF',\n",
       " 'Fireworks',\n",
       " 'DataFusion-Spitzer',\n",
       " 'CANDELS-GOODS-N',\n",
       " 'GALEX-GCAT',\n",
       " 'SMUVS',\n",
       " 'CFHTLenS',\n",
       " 'INTWFC',\n",
       " 'zBootes',\n",
       " 'Bootes_Brown',\n",
       " 'IRAC-EGS',\n",
       " 'LegacySurvey',\n",
       " '2MASS-point-sources',\n",
       " 'Ultradeep-Ks-GOODS-N',\n",
       " 'PanSTARRS1-3SS',\n",
       " 'VIPERS-MLS',\n",
       " 'VISTA-VIKING',\n",
       " 'CFHT-WIRDS',\n",
       " 'SHELA',\n",
       " 'SDSS-S82',\n",
       " 'ATLAS',\n",
       " 'UKIDSS-DXS_DR10plus',\n",
       " 'DECaLS',\n",
       " 'Hawaii-HDFN',\n",
       " 'AKARI-NEP-OptNIR',\n",
       " 'KIDS',\n",
       " 'UKIDSS-DXS',\n",
       " 'NEP-Spitzer',\n",
       " 'ESIS-VOICE',\n",
       " 'COSMOS2015',\n",
       " 'SPLASH-SXDF',\n",
       " 'CANDELS-EGS',\n",
       " 'HSC',\n",
       " 'UKIDSS-UDS',\n",
       " 'ALLWISE',\n",
       " 'VISTA-VHS',\n",
       " '2MASS-extended-sources',\n",
       " 'SIMES',\n",
       " 'SDSS-DR13',\n",
       " 'GOODS-ACS',\n",
       " 'COMBO-17',\n",
       " 'SDWFS',\n",
       " 'UKIDSS-LAS',\n",
       " 'KPNO-FLS',\n",
       " 'AEGIS',\n",
       " 'VICS82',\n",
       " 'UHS',\n",
       " 'SpIES',\n",
       " 'SEIP',\n",
       " 'IBIS',\n",
       " 'SCUBA2-Duivenvoorden2018',\n",
       " 'DES',\n",
       " 'IAC_Stripe82_Legacy_Project',\n",
       " 'VISTA-VIDEO',\n",
       " 'GAIA',\n",
       " 'SXDS']"
      ]
     },
     "execution_count": 9,
     "metadata": {},
     "output_type": "execute_result"
    }
   ],
   "source": [
    "surveys"
   ]
  },
  {
   "cell_type": "code",
   "execution_count": 17,
   "metadata": {},
   "outputs": [
    {
     "name": "stdout",
     "output_type": "stream",
     "text": [
      "CFHTLS has a total area of 24.77801385583866 square degrees.\n",
      "SpARCS has a total area of 33.18570351655756 square degrees.\n",
      "RCSLenS has a total area of 164.45975370366824 square degrees.\n",
      "DEEP2 has a total area of 1.3712287777717598 square degrees.\n",
      "CANDELS-UDS has a total area of 0.06024226847951246 square degrees.\n",
      "CANDELS-3D-HST has a total area of 0.2353341678527893 square degrees.\n",
      "VISTA-VIDEO-private has a total area of 13.49513898852997 square degrees.\n",
      "NDWFS has a total area of 9.088693671915015 square degrees.\n",
      "SpUDS has a total area of 0.0 square degrees.\n",
      "CANDELS-GOODS-S has a total area of 0.05071415458734467 square degrees.\n",
      "SSDF has a total area of 98.19735648970652 square degrees.\n",
      "Fireworks has a total area of 0.05307056985099908 square degrees.\n",
      "DataFusion-Spitzer has a total area of 65.97389002342037 square degrees.\n",
      "CANDELS-GOODS-N has a total area of 0.0527632113383485 square degrees.\n",
      "GALEX-GCAT has a total area of 0.0 square degrees.\n",
      "SMUVS has a total area of 0.0 square degrees.\n",
      "CFHTLenS has a total area of 21.352605685185562 square degrees.\n",
      "INTWFC has a total area of 29.698618737699242 square degrees.\n",
      "zBootes has a total area of 12.22426276513862 square degrees.\n",
      "Bootes_Brown has a total area of 0.0 square degrees.\n",
      "IRAC-EGS has a total area of 0.521741075224349 square degrees.\n",
      "LegacySurvey has a total area of 3.635026676280787 square degrees.\n",
      "2MASS-point-sources has a total area of 909.6369438504278 square degrees.\n",
      "Ultradeep-Ks-GOODS-N has a total area of 0.38624719756422105 square degrees.\n",
      "PanSTARRS1-3SS has a total area of 367.18195393018107 square degrees.\n",
      "VIPERS-MLS has a total area of 14.760585211531156 square degrees.\n",
      "VISTA-VIKING has a total area of 379.6689057707984 square degrees.\n",
      "CFHT-WIRDS has a total area of 2.2855179000696664 square degrees.\n",
      "SHELA has a total area of 35.20443422764652 square degrees.\n",
      "SDSS-S82 has a total area of 114.7848807004327 square degrees.\n",
      "ATLAS has a total area of 309.3813414751648 square degrees.\n",
      "UKIDSS-DXS_DR10plus has a total area of 13.925799491172196 square degrees.\n",
      "DECaLS has a total area of 673.236446864416 square degrees.\n",
      "Hawaii-HDFN has a total area of 0.21740492128150585 square degrees.\n",
      "AKARI-NEP-OptNIR has a total area of 1.0663291332223905 square degrees.\n",
      "KIDS has a total area of 208.74888594256524 square degrees.\n",
      "UKIDSS-DXS has a total area of 8.37736362080404 square degrees.\n",
      "NEP-Spitzer has a total area of 7.532947333715363 square degrees.\n",
      "ESIS-VOICE has a total area of 4.9106669566182175 square degrees.\n",
      "COSMOS2015 has a total area of 2.5350930123419326 square degrees.\n",
      "SPLASH-SXDF has a total area of 0.0 square degrees.\n",
      "CANDELS-EGS has a total area of 0.06224009881174119 square degrees.\n",
      "HSC has a total area of 60.462746985920475 square degrees.\n",
      "UKIDSS-UDS has a total area of 0.8821189313071469 square degrees.\n",
      "ALLWISE has a total area of 0.0 square degrees.\n",
      "VISTA-VHS has a total area of 435.2262108948157 square degrees.\n",
      "2MASS-extended-sources has a total area of 10.910817387745169 square degrees.\n",
      "SIMES has a total area of 6.9864638982226435 square degrees.\n",
      "SDSS-DR13 has a total area of 265.5708688933022 square degrees.\n",
      "GOODS-ACS has a total area of 0.1116223665109334 square degrees.\n",
      "COMBO-17 has a total area of 0.2776471897610183 square degrees.\n",
      "SDWFS has a total area of 9.515819551661766 square degrees.\n",
      "UKIDSS-LAS has a total area of 548.15710504694 square degrees.\n",
      "KPNO-FLS has a total area of 6.9061408735832925 square degrees.\n",
      "AEGIS has a total area of 0.691556653463791 square degrees.\n",
      "VICS82 has a total area of 81.28280282152015 square degrees.\n",
      "UHS has a total area of 54.96143942082541 square degrees.\n",
      "SpIES has a total area of 66.74679422989901 square degrees.\n",
      "SEIP has a total area of 0.0 square degrees.\n",
      "IBIS has a total area of 9.315626707088692 square degrees.\n",
      "SCUBA2-Duivenvoorden2018 has a total area of 0.0 square degrees.\n",
      "DES has a total area of 469.24629032038206 square degrees.\n",
      "IAC_Stripe82_Legacy_Project has a total area of 273.8531562808596 square degrees.\n",
      "VISTA-VIDEO has a total area of 0.0 square degrees.\n",
      "GAIA has a total area of 0.0 square degrees.\n",
      "SXDS has a total area of 0.0 square degrees.\n"
     ]
    }
   ],
   "source": [
    "for survey in surveys:\n",
    "    moc_list = glob.glob('dmu0_{}/data/*_MOC.fits'.format(survey))\n",
    "    survey_moc = MOC()\n",
    "    for moc in moc_list:\n",
    "        survey_moc =survey_moc + MOC(filename=moc)\n",
    "    print(\"{} has a total area of {} square degrees.\".format(survey, survey_moc.area_sq_deg))\n",
    "    survey_moc.write('./dmu0_{}/survey_coverage_MOC.fits'.format(survey))"
   ]
  },
  {
   "cell_type": "code",
   "execution_count": null,
   "metadata": {},
   "outputs": [],
   "source": []
  }
 ],
 "metadata": {
  "kernelspec": {
   "display_name": "Python (herschelhelp_internal)",
   "language": "python",
   "name": "helpint"
  },
  "language_info": {
   "codemirror_mode": {
    "name": "ipython",
    "version": 3
   },
   "file_extension": ".py",
   "mimetype": "text/x-python",
   "name": "python",
   "nbconvert_exporter": "python",
   "pygments_lexer": "ipython3",
   "version": "3.6.5"
  }
 },
 "nbformat": 4,
 "nbformat_minor": 2
}
