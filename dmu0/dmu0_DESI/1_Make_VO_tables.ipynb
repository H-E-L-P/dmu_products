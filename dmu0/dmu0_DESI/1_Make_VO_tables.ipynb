{
 "cells": [
  {
   "cell_type": "markdown",
   "metadata": {},
   "source": [
    "# Make DESI photo-z tables for VO\n",
    "\n",
    "I was originally going to make a smaller VO table with only:\n",
    "    \n",
    "- field\n",
    "- desi_id\n",
    "- ra\n",
    "- dec\n",
    "- hp_idx\n",
    "- redshift\n",
    "- redshift_err\n",
    "- zspec\n",
    " \n",
    "\n",
    "The HELP field and hp_idx are made in this notebook.\n",
    "\n",
    "We later decided it would be advantageous to include all columns"
   ]
  },
  {
   "cell_type": "code",
   "execution_count": 2,
   "metadata": {},
   "outputs": [
    {
     "ename": "ImportError",
     "evalue": "cannot import name 'pos_to_field'",
     "output_type": "error",
     "traceback": [
      "\u001b[0;31m---------------------------------------------------------------------------\u001b[0m",
      "\u001b[0;31mImportError\u001b[0m                               Traceback (most recent call last)",
      "\u001b[0;32m<ipython-input-2-c61a0d95f62b>\u001b[0m in \u001b[0;36m<module>\u001b[0;34m()\u001b[0m\n\u001b[1;32m      1\u001b[0m \u001b[0;32mfrom\u001b[0m \u001b[0mastropy\u001b[0m\u001b[0;34m.\u001b[0m\u001b[0mtable\u001b[0m \u001b[0;32mimport\u001b[0m \u001b[0mTable\u001b[0m\u001b[0;34m\u001b[0m\u001b[0;34m\u001b[0m\u001b[0m\n\u001b[0;32m----> 2\u001b[0;31m \u001b[0;32mfrom\u001b[0m \u001b[0mherschelhelp\u001b[0m\u001b[0;34m.\u001b[0m\u001b[0mutils\u001b[0m \u001b[0;32mimport\u001b[0m \u001b[0mpos_to_field\u001b[0m\u001b[0;34m\u001b[0m\u001b[0;34m\u001b[0m\u001b[0m\n\u001b[0m",
      "\u001b[0;31mImportError\u001b[0m: cannot import name 'pos_to_field'"
     ]
    }
   ],
   "source": [
    "from astropy.table import Table, Column\n",
    "\n",
    "from herschelhelp.utils import position_to_field\n",
    "from herschelhelp_internal.utils import coords_to_hpidx"
   ]
  },
  {
   "cell_type": "markdown",
   "metadata": {},
   "source": [
    "## 1. Make csv file with corrects columns"
   ]
  },
  {
   "cell_type": "code",
   "execution_count": null,
   "metadata": {},
   "outputs": [],
   "source": [
    "#Load a smaller version with just required fields made using Stilts\n",
    "#stilts tpipe cmd='keepcols \"ID RA DEC photo_z photo_zerr spec_z\"' \n",
    "#./data/dr6dr7_photoz_csp_totcat.fits omode=out out=./data/dr6dr7_reduced.fits\n",
    "full_tab='./data/dr6dr7_photoz_csp_totcat.fits'\n",
    "small_tab='./data/dr6dr7_reduced.fits'\n",
    "desi = Table.read(small_tab)['ID', 'RA', 'DEC'] #, 'photo_z', 'photo_zerr', 'spec_z']\n",
    "#desi = Table.read(full_tab)"
   ]
  },
  {
   "cell_type": "code",
   "execution_count": null,
   "metadata": {},
   "outputs": [],
   "source": [
    "#desi['RA'].name = 'ra'\n",
    "#desi['DEC'].name = 'dec'\n",
    "#desi['ID'].name = 'desi_id'\n",
    "#desi['photo_z'].name = 'redshift'\n",
    "#desi['photo_zerr'].name = 'redshift_err'\n",
    "#desi['spec_z'].name = 'zspec'"
   ]
  },
  {
   "cell_type": "code",
   "execution_count": null,
   "metadata": {},
   "outputs": [],
   "source": [
    "desi.add_column(Column(\n",
    "    data=coords_to_hpidx(desi['RA'], desi['DEC'], order=13),\n",
    "    name=\"hp_idx\"\n",
    "))"
   ]
  },
  {
   "cell_type": "code",
   "execution_count": null,
   "metadata": {},
   "outputs": [],
   "source": [
    "desi.write('./data/desi_for_vo_1.fits', overwrite = True)"
   ]
  },
  {
   "cell_type": "code",
   "execution_count": null,
   "metadata": {},
   "outputs": [],
   "source": [
    "desi.add_column(Column(\n",
    "    data=position_to_field(desi['RA'], desi['DEC'], dmu_loc='../../'),\n",
    "    name=\"field\"\n",
    "))"
   ]
  },
  {
   "cell_type": "code",
   "execution_count": null,
   "metadata": {},
   "outputs": [],
   "source": [
    "#cols = ['field', 'desi_id', 'ra', 'dec', 'hp_idx', 'redshift', 'redshift_err', 'zspec']\n",
    "#cols = ['field', 'ID', 'RA', 'DEC', 'hp_idx', 'photo_z', 'photo_zerr', 'spec_z']\n",
    "desi.write('./data/desi_for_vo_2.fits', overwrite = True)"
   ]
  }
 ],
 "metadata": {
  "anaconda-cloud": {},
  "kernelspec": {
   "display_name": "Python (herschelhelp_internal)",
   "language": "python",
   "name": "helpint"
  },
  "language_info": {
   "codemirror_mode": {
    "name": "ipython",
    "version": 3
   },
   "file_extension": ".py",
   "mimetype": "text/x-python",
   "name": "python",
   "nbconvert_exporter": "python",
   "pygments_lexer": "ipython3",
   "version": "3.6.8"
  }
 },
 "nbformat": 4,
 "nbformat_minor": 2
}
