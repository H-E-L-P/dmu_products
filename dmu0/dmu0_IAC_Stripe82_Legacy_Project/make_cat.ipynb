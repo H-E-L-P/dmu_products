{
 "cells": [
  {
   "cell_type": "markdown",
   "metadata": {},
   "source": [
    "# DMU0: IAC SDSS S82 extraction\n",
    "\n",
    "The original extraction was missing objects below RA=0. In this notebook we combine the individual catalogues that were downloaded from ftp.iac.es and also available from http://www.iac.es/proyecto/stripe82/pages/data.php into one full catalogue to be used here and uploaded to CDS."
   ]
  },
  {
   "cell_type": "code",
   "execution_count": 1,
   "metadata": {},
   "outputs": [
    {
     "name": "stdout",
     "output_type": "stream",
     "text": [
      "This notebook was run with herschelhelp_internal version: \n",
      "017bb1e (Mon Jun 18 14:58:59 2018 +0100) [with local modifications]\n",
      "This notebook was executed on: \n",
      "2018-09-21 17:03:17.431555\n"
     ]
    }
   ],
   "source": [
    "from herschelhelp_internal import git_version\n",
    "print(\"This notebook was run with herschelhelp_internal version: \\n{}\".format(git_version()))\n",
    "import datetime\n",
    "print(\"This notebook was executed on: \\n{}\".format(datetime.datetime.now()))"
   ]
  },
  {
   "cell_type": "code",
   "execution_count": 2,
   "metadata": {},
   "outputs": [],
   "source": [
    "%matplotlib inline\n",
    "#%config InlineBackend.figure_format = 'svg'\n",
    "\n",
    "import matplotlib.pyplot as plt\n",
    "plt.rc('figure', figsize=(10, 6))\n",
    "\n",
    "import os\n",
    "import time\n",
    "\n",
    "from astropy import units as u\n",
    "from astropy.coordinates import SkyCoord\n",
    "from astropy.table import Column, Table, vstack, join\n",
    "import numpy as np\n",
    "from pymoc import MOC\n",
    "\n",
    "import glob"
   ]
  },
  {
   "cell_type": "markdown",
   "metadata": {},
   "source": [
    "## I - Get list of files\n",
    "Merge stars and galaxies into one table"
   ]
  },
  {
   "cell_type": "code",
   "execution_count": 3,
   "metadata": {},
   "outputs": [
    {
     "data": {
      "text/plain": [
       "['./data/tiles/f0011_gal.cat',\n",
       " './data/tiles/f0011_ps.cat',\n",
       " './data/tiles/f0141_gal.cat']"
      ]
     },
     "execution_count": 3,
     "metadata": {},
     "output_type": "execute_result"
    }
   ],
   "source": [
    "file_list = glob.glob('./data/tiles/*.cat')\n",
    "file_list[:10]"
   ]
  },
  {
   "cell_type": "code",
   "execution_count": 4,
   "metadata": {},
   "outputs": [],
   "source": [
    "\n",
    "test_gal = Table.read('./data/tiles/f0011_gal.cat', format='ascii')\n",
    "test_star = Table.read('./data/tiles/f0011_ps.cat', format='ascii')"
   ]
  },
  {
   "cell_type": "code",
   "execution_count": 5,
   "metadata": {},
   "outputs": [
    {
     "data": {
      "text/html": [
       "<i>Table length=10</i>\n",
       "<table id=\"table4360467960\" class=\"table-striped table-bordered table-condensed\">\n",
       "<thead><tr><th>col1</th><th>col2</th><th>col3</th><th>col4</th><th>col5</th><th>col6</th><th>col7</th><th>col8</th><th>col9</th><th>col10</th><th>col11</th><th>col12</th><th>col13</th><th>col14</th><th>col15</th><th>col16</th><th>col17</th><th>col18</th><th>col19</th><th>col20</th><th>col21</th><th>col22</th><th>col23</th><th>col24</th><th>col25</th><th>col26</th><th>col27</th><th>col28</th><th>col29</th><th>col30</th><th>col31</th><th>col32</th><th>col33</th><th>col34</th><th>col35</th><th>col36</th><th>col37</th><th>col38</th><th>col39</th><th>col40</th><th>col41</th><th>col42</th><th>col43</th><th>col44</th><th>col45</th><th>col46</th><th>col47</th><th>col48</th><th>col49</th><th>col50</th><th>col51</th><th>col52</th><th>col53</th><th>col54</th><th>col55</th><th>col56</th><th>col57</th><th>col58</th><th>col59</th><th>col60</th><th>col61</th><th>col62</th><th>col63</th><th>col64</th><th>col65</th><th>col66</th><th>col67</th><th>col68</th><th>col69</th><th>col70</th><th>col71</th><th>col72</th><th>col73</th><th>col74</th><th>col75</th></tr></thead>\n",
       "<thead><tr><th>float64</th><th>float64</th><th>float64</th><th>float64</th><th>float64</th><th>float64</th><th>float64</th><th>float64</th><th>float64</th><th>float64</th><th>float64</th><th>float64</th><th>float64</th><th>float64</th><th>float64</th><th>float64</th><th>float64</th><th>float64</th><th>float64</th><th>float64</th><th>float64</th><th>float64</th><th>float64</th><th>float64</th><th>float64</th><th>float64</th><th>float64</th><th>float64</th><th>float64</th><th>float64</th><th>float64</th><th>float64</th><th>float64</th><th>float64</th><th>float64</th><th>float64</th><th>float64</th><th>float64</th><th>float64</th><th>float64</th><th>float64</th><th>float64</th><th>float64</th><th>float64</th><th>float64</th><th>float64</th><th>float64</th><th>float64</th><th>float64</th><th>float64</th><th>float64</th><th>float64</th><th>float64</th><th>float64</th><th>float64</th><th>float64</th><th>float64</th><th>float64</th><th>float64</th><th>float64</th><th>float64</th><th>float64</th><th>float64</th><th>float64</th><th>float64</th><th>float64</th><th>float64</th><th>float64</th><th>float64</th><th>float64</th><th>float64</th><th>float64</th><th>float64</th><th>float64</th><th>int64</th></tr></thead>\n",
       "<tr><td>310.089107</td><td>-1.2355282</td><td>22.7462</td><td>23.1497</td><td>24.375</td><td>23.3181</td><td>22.8383</td><td>22.858</td><td>0.3598</td><td>0.7628</td><td>0.3202</td><td>0.2261</td><td>0.2654</td><td>0.3903</td><td>4.348</td><td>20.6771</td><td>20.7329</td><td>22.4156</td><td>21.5</td><td>20.8421</td><td>20.7255</td><td>0.029</td><td>0.0418</td><td>0.0394</td><td>0.0281</td><td>0.025</td><td>0.0297</td><td>5.364</td><td>19.1425</td><td>19.1395</td><td>20.7003</td><td>19.8245</td><td>19.2839</td><td>19.1504</td><td>0.0109</td><td>0.014</td><td>0.0164</td><td>0.0114</td><td>0.01</td><td>0.0109</td><td>4.655</td><td>18.5251</td><td>18.5078</td><td>20.0178</td><td>19.1803</td><td>18.6769</td><td>18.531</td><td>0.01</td><td>0.0129</td><td>0.0137</td><td>0.0098</td><td>0.009</td><td>0.0099</td><td>4.514</td><td>18.2026</td><td>18.233</td><td>19.6292</td><td>18.7985</td><td>18.3173</td><td>18.21</td><td>0.0219</td><td>0.0303</td><td>0.0265</td><td>0.0193</td><td>0.0185</td><td>0.0217</td><td>4.232</td><td>3.5</td><td>5.28</td><td>5.192</td><td>3.678</td><td>-51.25</td><td>1.412</td><td>0.292</td><td>3</td></tr>\n",
       "<tr><td>310.4277744</td><td>-1.240878</td><td>21.8127</td><td>21.7347</td><td>23.798</td><td>22.5158</td><td>21.8657</td><td>21.8246</td><td>0.1373</td><td>0.1644</td><td>0.209</td><td>0.1223</td><td>0.1167</td><td>0.1554</td><td>4.82</td><td>21.1949</td><td>21.1898</td><td>22.8877</td><td>21.7903</td><td>21.2244</td><td>21.1757</td><td>0.0386</td><td>0.0485</td><td>0.0522</td><td>0.0338</td><td>0.0328</td><td>0.0422</td><td>4.448</td><td>20.1127</td><td>20.1094</td><td>21.6674</td><td>20.654</td><td>20.1563</td><td>20.1062</td><td>0.0204</td><td>0.0251</td><td>0.0275</td><td>0.0184</td><td>0.0179</td><td>0.0223</td><td>4.207</td><td>19.749</td><td>19.7513</td><td>21.2348</td><td>20.262</td><td>19.79</td><td>19.7478</td><td>0.0231</td><td>0.0294</td><td>0.027</td><td>0.0189</td><td>0.0197</td><td>0.0257</td><td>4.072</td><td>19.6494</td><td>19.7808</td><td>20.9912</td><td>20.0667</td><td>19.6546</td><td>19.6937</td><td>0.062</td><td>0.0898</td><td>0.0588</td><td>0.0436</td><td>0.0501</td><td>0.0724</td><td>3.716</td><td>3.93</td><td>5.28</td><td>3.672</td><td>3.002</td><td>-13.12</td><td>1.223</td><td>0.182</td><td>0</td></tr>\n",
       "<tr><td>310.3773283</td><td>-1.2421887</td><td>21.1581</td><td>20.6522</td><td>23.2656</td><td>22.2165</td><td>21.4613</td><td>21.0663</td><td>0.0833</td><td>0.0907</td><td>0.1464</td><td>0.0988</td><td>0.0847</td><td>0.0824</td><td>6.566</td><td>20.5964</td><td>20.7456</td><td>22.2701</td><td>21.3078</td><td>20.7641</td><td>20.5813</td><td>0.0246</td><td>0.0454</td><td>0.0359</td><td>0.0246</td><td>0.0231</td><td>0.0257</td><td>4.794</td><td>20.1955</td><td>20.2528</td><td>21.8629</td><td>20.9056</td><td>20.3452</td><td>20.1907</td><td>0.0222</td><td>0.0389</td><td>0.0307</td><td>0.0213</td><td>0.0203</td><td>0.0235</td><td>4.8</td><td>19.8286</td><td>19.7923</td><td>21.5589</td><td>20.5944</td><td>20.0465</td><td>19.7964</td><td>0.0253</td><td>0.0425</td><td>0.0328</td><td>0.0234</td><td>0.0238</td><td>0.0264</td><td>5.061</td><td>19.645</td><td>19.8544</td><td>21.5127</td><td>20.525</td><td>19.8841</td><td>19.6068</td><td>0.0632</td><td>0.136</td><td>0.0825</td><td>0.06</td><td>0.0594</td><td>0.0658</td><td>5.568</td><td>3.52</td><td>6.6</td><td>4.257</td><td>3.632</td><td>65.66</td><td>1.172</td><td>0.147</td><td>3</td></tr>\n",
       "<tr><td>310.3473479</td><td>-1.2436515</td><td>20.9496</td><td>20.8676</td><td>23.1745</td><td>22.0697</td><td>21.3915</td><td>21.1149</td><td>0.0764</td><td>0.0886</td><td>0.1383</td><td>0.0895</td><td>0.0803</td><td>0.0856</td><td>7.436</td><td>19.5446</td><td>19.5233</td><td>21.3457</td><td>20.3725</td><td>19.8175</td><td>19.627</td><td>0.0124</td><td>0.0141</td><td>0.022</td><td>0.0145</td><td>0.0125</td><td>0.0129</td><td>5.391</td><td>18.541</td><td>18.5247</td><td>20.1045</td><td>19.2372</td><td>18.7668</td><td>18.6024</td><td>0.0073</td><td>0.0082</td><td>0.0121</td><td>0.0083</td><td>0.0073</td><td>0.0075</td><td>4.715</td><td>17.9975</td><td>17.9639</td><td>19.4694</td><td>18.6569</td><td>18.22</td><td>18.0607</td><td>0.0068</td><td>0.0077</td><td>0.0103</td><td>0.0073</td><td>0.0067</td><td>0.007</td><td>4.517</td><td>17.6516</td><td>17.6439</td><td>19.0806</td><td>18.2626</td><td>17.8474</td><td>17.7041</td><td>0.0142</td><td>0.0167</td><td>0.0198</td><td>0.0142</td><td>0.0133</td><td>0.0145</td><td>4.267</td><td>3.5</td><td>4.62</td><td>7.278</td><td>2.653</td><td>-43.49</td><td>2.743</td><td>0.635</td><td>0</td></tr>\n",
       "<tr><td>310.2980108</td><td>-1.2450647</td><td>21.607</td><td>21.4455</td><td>22.5854</td><td>21.8443</td><td>21.6392</td><td>21.6538</td><td>0.1661</td><td>0.271</td><td>0.0972</td><td>0.0772</td><td>0.0971</td><td>0.1339</td><td>2.899</td><td>20.1728</td><td>20.0293</td><td>21.4897</td><td>20.7411</td><td>20.4794</td><td>20.3217</td><td>0.0237</td><td>0.0366</td><td>0.0237</td><td>0.0179</td><td>0.0193</td><td>0.0217</td><td>3.894</td><td>19.5099</td><td>19.4089</td><td>20.7507</td><td>20.113</td><td>19.8271</td><td>19.6646</td><td>0.0173</td><td>0.0278</td><td>0.0168</td><td>0.0134</td><td>0.0143</td><td>0.016</td><td>3.939</td><td>19.121</td><td>19.1886</td><td>20.4609</td><td>19.8242</td><td>19.4339</td><td>19.2395</td><td>0.0191</td><td>0.0366</td><td>0.0173</td><td>0.0142</td><td>0.015</td><td>0.0168</td><td>4.589</td><td>18.9867</td><td>19.4636</td><td>20.3576</td><td>19.7081</td><td>19.2606</td><td>19.1228</td><td>0.051</td><td>0.1467</td><td>0.0397</td><td>0.034</td><td>0.0367</td><td>0.0447</td><td>4.693</td><td>3.68</td><td>7.26</td><td>6.386</td><td>4.705</td><td>-45.82</td><td>1.357</td><td>0.263</td><td>3</td></tr>\n",
       "<tr><td>310.1278317</td><td>-1.2453766</td><td>23.3106</td><td>23.2471</td><td>25.3441</td><td>23.6817</td><td>23.0434</td><td>22.7421</td><td>0.2596</td><td>0.3516</td><td>0.6795</td><td>0.2982</td><td>0.3114</td><td>0.3461</td><td>4.262</td><td>23.331</td><td>23.5734</td><td>24.214</td><td>23.4347</td><td>23.7548</td><td>24.6025</td><td>0.1259</td><td>0.2256</td><td>0.1305</td><td>0.1157</td><td>0.2815</td><td>0.9035</td><td>2.704</td><td>22.5988</td><td>22.5364</td><td>23.3221</td><td>22.6574</td><td>22.5755</td><td>22.8836</td><td>0.0846</td><td>0.1149</td><td>0.0791</td><td>0.0753</td><td>0.1259</td><td>0.2439</td><td>2.458</td><td>22.098</td><td>22.0664</td><td>22.7518</td><td>22.1337</td><td>22.074</td><td>22.4858</td><td>0.0868</td><td>0.1229</td><td>0.0744</td><td>0.0751</td><td>0.1313</td><td>0.2821</td><td>2.344</td><td>22.1788</td><td>21.8543</td><td>22.4306</td><td>22.0819</td><td>21.9869</td><td>24.6571</td><td>0.2878</td><td>0.3193</td><td>0.1665</td><td>0.2182</td><td>0.3824</td><td>6.5898</td><td>1.737</td><td>3.5</td><td>5.28</td><td>1.933</td><td>1.632</td><td>27.02</td><td>1.185</td><td>0.156</td><td>0</td></tr>\n",
       "<tr><td>310.3637914</td><td>-1.2472287</td><td>22.9821</td><td>22.8577</td><td>24.6088</td><td>23.5059</td><td>23.007</td><td>22.8343</td><td>0.2469</td><td>0.3547</td><td>0.383</td><td>0.2631</td><td>0.307</td><td>0.3822</td><td>3.967</td><td>22.225</td><td>22.5054</td><td>23.4052</td><td>22.5159</td><td>22.2627</td><td>22.5185</td><td>0.0608</td><td>0.1203</td><td>0.0724</td><td>0.0557</td><td>0.0749</td><td>0.1338</td><td>3.336</td><td>21.0813</td><td>21.1006</td><td>21.9346</td><td>21.2856</td><td>21.0696</td><td>21.0907</td><td>0.0307</td><td>0.0465</td><td>0.0321</td><td>0.0275</td><td>0.0357</td><td>0.0503</td><td>2.715</td><td>20.1607</td><td>20.1596</td><td>20.925</td><td>20.3568</td><td>20.1534</td><td>20.2078</td><td>0.0223</td><td>0.033</td><td>0.0224</td><td>0.02</td><td>0.0259</td><td>0.0374</td><td>2.535</td><td>19.7615</td><td>19.7994</td><td>20.4276</td><td>19.8861</td><td>19.7794</td><td>19.8618</td><td>0.0455</td><td>0.0713</td><td>0.0411</td><td>0.0379</td><td>0.0545</td><td>0.0823</td><td>2.315</td><td>3.5</td><td>5.94</td><td>2.755</td><td>1.888</td><td>-23.77</td><td>1.459</td><td>0.315</td><td>0</td></tr>\n",
       "<tr><td>310.2891375</td><td>-1.2472456</td><td>23.2258</td><td>23.1728</td><td>24.2551</td><td>23.389</td><td>22.9744</td><td>23.482</td><td>0.4581</td><td>0.5686</td><td>0.2919</td><td>0.2398</td><td>0.2962</td><td>0.6806</td><td>2.96</td><td>22.0734</td><td>22.1471</td><td>23.3574</td><td>22.4656</td><td>22.1238</td><td>22.1305</td><td>0.0787</td><td>0.1075</td><td>0.0707</td><td>0.0545</td><td>0.0675</td><td>0.0964</td><td>3.521</td><td>20.7921</td><td>20.686</td><td>22.069</td><td>21.2065</td><td>20.8365</td><td>20.7339</td><td>0.0343</td><td>0.0393</td><td>0.035</td><td>0.0263</td><td>0.0299</td><td>0.0376</td><td>3.627</td><td>19.9822</td><td>19.873</td><td>21.2539</td><td>20.4079</td><td>20.0316</td><td>19.93</td><td>0.0267</td><td>0.0306</td><td>0.0271</td><td>0.0207</td><td>0.0234</td><td>0.0294</td><td>3.646</td><td>19.4105</td><td>19.3525</td><td>20.8752</td><td>20.0434</td><td>19.564</td><td>19.3864</td><td>0.049</td><td>0.0589</td><td>0.0545</td><td>0.0429</td><td>0.0463</td><td>0.0555</td><td>4.354</td><td>4.5</td><td>5.94</td><td>2.993</td><td>2.622</td><td>40.65</td><td>1.142</td><td>0.124</td><td>3</td></tr>\n",
       "<tr><td>310.2111772</td><td>-1.2472397</td><td>23.6669</td><td>23.6513</td><td>24.9287</td><td>23.9817</td><td>23.2167</td><td>24.0539</td><td>0.378</td><td>0.5447</td><td>0.485</td><td>0.3825</td><td>0.3611</td><td>1.1245</td><td>3.527</td><td>23.1372</td><td>23.0819</td><td>24.048</td><td>23.2192</td><td>23.0711</td><td>23.4387</td><td>0.1153</td><td>0.1589</td><td>0.1154</td><td>0.0972</td><td>0.1532</td><td>0.3124</td><td>2.748</td><td>22.2373</td><td>22.2481</td><td>23.2441</td><td>22.3792</td><td>22.2296</td><td>22.6741</td><td>0.0668</td><td>0.0959</td><td>0.0744</td><td>0.0599</td><td>0.092</td><td>0.1995</td><td>2.922</td><td>22.3379</td><td>22.3337</td><td>23.108</td><td>22.449</td><td>22.4436</td><td>22.5266</td><td>0.1139</td><td>0.1672</td><td>0.0969</td><td>0.0965</td><td>0.1796</td><td>0.2867</td><td>2.536</td><td>22.8417</td><td>22.0175</td><td>23.6046</td><td>22.4794</td><td>22.2736</td><td>22.0898</td><td>0.5529</td><td>0.3936</td><td>0.4316</td><td>0.3003</td><td>0.4826</td><td>0.607</td><td>2.557</td><td>3.5</td><td>5.28</td><td>2.722</td><td>1.393</td><td>-50.81</td><td>1.954</td><td>0.488</td><td>0</td></tr>\n",
       "<tr><td>310.464261</td><td>-1.2476627</td><td>23.8785</td><td>24.3407</td><td>24.4548</td><td>23.5792</td><td>23.5797</td><td>25.1267</td><td>0.4809</td><td>1.1403</td><td>0.3349</td><td>0.2742</td><td>0.4971</td><td>2.9988</td><td>2.236</td><td>23.3489</td><td>23.6365</td><td>24.3295</td><td>23.5624</td><td>23.3996</td><td>23.439</td><td>0.1419</td><td>0.2836</td><td>0.1395</td><td>0.1252</td><td>0.1986</td><td>0.3026</td><td>2.89</td><td>22.7361</td><td>22.9859</td><td>23.7897</td><td>22.9324</td><td>22.7585</td><td>22.9193</td><td>0.1075</td><td>0.2079</td><td>0.1117</td><td>0.0935</td><td>0.147</td><td>0.2506</td><td>3.024</td><td>22.2007</td><td>22.0462</td><td>23.1071</td><td>22.334</td><td>22.1486</td><td>22.283</td><td>0.1105</td><td>0.1502</td><td>0.099</td><td>0.09</td><td>0.1424</td><td>0.238</td><td>2.76</td><td>21.7656</td><td>21.8856</td><td>22.9558</td><td>22.2185</td><td>21.7046</td><td>21.9959</td><td>0.2288</td><td>0.401</td><td>0.2535</td><td>0.2438</td><td>0.2939</td><td>0.5678</td><td>3.554</td><td>3.66</td><td>5.94</td><td>2.506</td><td>1.538</td><td>76.12</td><td>1.63</td><td>0.386</td><td>0</td></tr>\n",
       "</table>"
      ],
      "text/plain": [
       "<Table length=10>\n",
       "    col1       col2      col3    col4    col5  ...  col72   col73   col74  col75\n",
       "  float64    float64   float64 float64 float64 ... float64 float64 float64 int64\n",
       "----------- ---------- ------- ------- ------- ... ------- ------- ------- -----\n",
       " 310.089107 -1.2355282 22.7462 23.1497  24.375 ...  -51.25   1.412   0.292     3\n",
       "310.4277744  -1.240878 21.8127 21.7347  23.798 ...  -13.12   1.223   0.182     0\n",
       "310.3773283 -1.2421887 21.1581 20.6522 23.2656 ...   65.66   1.172   0.147     3\n",
       "310.3473479 -1.2436515 20.9496 20.8676 23.1745 ...  -43.49   2.743   0.635     0\n",
       "310.2980108 -1.2450647  21.607 21.4455 22.5854 ...  -45.82   1.357   0.263     3\n",
       "310.1278317 -1.2453766 23.3106 23.2471 25.3441 ...   27.02   1.185   0.156     0\n",
       "310.3637914 -1.2472287 22.9821 22.8577 24.6088 ...  -23.77   1.459   0.315     0\n",
       "310.2891375 -1.2472456 23.2258 23.1728 24.2551 ...   40.65   1.142   0.124     3\n",
       "310.2111772 -1.2472397 23.6669 23.6513 24.9287 ...  -50.81   1.954   0.488     0\n",
       " 310.464261 -1.2476627 23.8785 24.3407 24.4548 ...   76.12    1.63   0.386     0"
      ]
     },
     "execution_count": 5,
     "metadata": {},
     "output_type": "execute_result"
    }
   ],
   "source": [
    "test_gal[:10]"
   ]
  },
  {
   "cell_type": "code",
   "execution_count": 6,
   "metadata": {},
   "outputs": [
    {
     "data": {
      "text/html": [
       "<i>Table length=10</i>\n",
       "<table id=\"table4363026840\" class=\"table-striped table-bordered table-condensed\">\n",
       "<thead><tr><th>col1</th><th>col2</th><th>col3</th><th>col4</th><th>col5</th><th>col6</th><th>col7</th><th>col8</th><th>col9</th><th>col10</th><th>col11</th><th>col12</th><th>col13</th><th>col14</th><th>col15</th><th>col16</th><th>col17</th><th>col18</th><th>col19</th><th>col20</th><th>col21</th><th>col22</th><th>col23</th><th>col24</th><th>col25</th><th>col26</th><th>col27</th><th>col28</th><th>col29</th><th>col30</th><th>col31</th><th>col32</th><th>col33</th><th>col34</th><th>col35</th><th>col36</th><th>col37</th><th>col38</th><th>col39</th><th>col40</th><th>col41</th><th>col42</th><th>col43</th><th>col44</th><th>col45</th><th>col46</th><th>col47</th><th>col48</th><th>col49</th><th>col50</th><th>col51</th><th>col52</th><th>col53</th><th>col54</th><th>col55</th><th>col56</th><th>col57</th><th>col58</th><th>col59</th><th>col60</th><th>col61</th><th>col62</th><th>col63</th><th>col64</th><th>col65</th><th>col66</th><th>col67</th><th>col68</th><th>col69</th><th>col70</th><th>col71</th><th>col72</th><th>col73</th><th>col74</th><th>col75</th></tr></thead>\n",
       "<thead><tr><th>float64</th><th>float64</th><th>float64</th><th>float64</th><th>float64</th><th>float64</th><th>float64</th><th>float64</th><th>float64</th><th>float64</th><th>float64</th><th>float64</th><th>float64</th><th>float64</th><th>float64</th><th>float64</th><th>float64</th><th>float64</th><th>float64</th><th>float64</th><th>float64</th><th>float64</th><th>float64</th><th>float64</th><th>float64</th><th>float64</th><th>float64</th><th>float64</th><th>float64</th><th>float64</th><th>float64</th><th>float64</th><th>float64</th><th>float64</th><th>float64</th><th>float64</th><th>float64</th><th>float64</th><th>float64</th><th>float64</th><th>float64</th><th>float64</th><th>float64</th><th>float64</th><th>float64</th><th>float64</th><th>float64</th><th>float64</th><th>float64</th><th>float64</th><th>float64</th><th>float64</th><th>float64</th><th>float64</th><th>float64</th><th>float64</th><th>float64</th><th>float64</th><th>float64</th><th>float64</th><th>float64</th><th>float64</th><th>float64</th><th>float64</th><th>float64</th><th>float64</th><th>float64</th><th>float64</th><th>float64</th><th>float64</th><th>float64</th><th>float64</th><th>float64</th><th>float64</th><th>int64</th></tr></thead>\n",
       "<tr><td>310.0406973</td><td>-1.2388384</td><td>18.8416</td><td>18.8416</td><td>19.5305</td><td>18.9745</td><td>18.8274</td><td>18.7964</td><td>0.016</td><td>0.016</td><td>0.0209</td><td>0.0164</td><td>0.0161</td><td>0.0171</td><td>2.376</td><td>16.8871</td><td>16.8871</td><td>17.4646</td><td>16.9879</td><td>16.878</td><td>16.8573</td><td>0.0027</td><td>0.0027</td><td>0.0035</td><td>0.0028</td><td>0.0027</td><td>0.0027</td><td>2.145</td><td>16.1335</td><td>16.1335</td><td>16.6253</td><td>16.226</td><td>16.1239</td><td>16.101</td><td>0.0019</td><td>0.0019</td><td>0.0024</td><td>0.002</td><td>0.0019</td><td>0.0019</td><td>1.964</td><td>15.8372</td><td>15.8372</td><td>16.2734</td><td>15.9237</td><td>15.8279</td><td>15.8038</td><td>0.0019</td><td>0.0019</td><td>0.0023</td><td>0.0019</td><td>0.0019</td><td>0.0019</td><td>1.853</td><td>15.6703</td><td>15.6703</td><td>16.1325</td><td>15.7615</td><td>15.6608</td><td>15.6401</td><td>0.004</td><td>0.004</td><td>0.0048</td><td>0.0041</td><td>0.004</td><td>0.0042</td><td>1.919</td><td>3.5</td><td>3.5</td><td>2.574</td><td>2.509</td><td>54.91</td><td>1.026</td><td>0.025</td><td>2</td></tr>\n",
       "<tr><td>310.4340371</td><td>-1.2408615</td><td>16.0954</td><td>16.0954</td><td>16.8229</td><td>16.234</td><td>16.0964</td><td>16.0726</td><td>0.0043</td><td>0.0043</td><td>0.006</td><td>0.0046</td><td>0.0043</td><td>0.0043</td><td>2.455</td><td>14.6855</td><td>14.6855</td><td>15.2957</td><td>14.7986</td><td>14.6862</td><td>14.6661</td><td>0.001</td><td>0.001</td><td>0.0013</td><td>0.001</td><td>0.001</td><td>0.001</td><td>2.223</td><td>14.2378</td><td>14.2378</td><td>14.7416</td><td>14.3367</td><td>14.2388</td><td>14.2174</td><td>0.0008</td><td>0.0008</td><td>0.001</td><td>0.0008</td><td>0.0008</td><td>0.0008</td><td>2.002</td><td>14.06</td><td>14.06</td><td>14.5014</td><td>14.1524</td><td>14.0609</td><td>14.0368</td><td>0.0008</td><td>0.0008</td><td>0.001</td><td>0.0009</td><td>0.0008</td><td>0.0008</td><td>1.88</td><td>13.9569</td><td>13.9569</td><td>14.4215</td><td>14.0521</td><td>13.9578</td><td>13.9351</td><td>0.0018</td><td>0.0018</td><td>0.0022</td><td>0.0019</td><td>0.0018</td><td>0.0018</td><td>1.931</td><td>3.5</td><td>3.5</td><td>3.002</td><td>2.79</td><td>53.86</td><td>1.076</td><td>0.071</td><td>3</td></tr>\n",
       "<tr><td>310.1488541</td><td>-1.2407223</td><td>20.3273</td><td>20.3139</td><td>21.1015</td><td>20.5076</td><td>20.3018</td><td>20.2967</td><td>0.0358</td><td>0.0369</td><td>0.0444</td><td>0.0354</td><td>0.0377</td><td>0.0457</td><td>2.537</td><td>17.6022</td><td>17.5921</td><td>18.1504</td><td>17.694</td><td>17.5865</td><td>17.5671</td><td>0.0038</td><td>0.0038</td><td>0.0048</td><td>0.0039</td><td>0.0038</td><td>0.0039</td><td>2.086</td><td>16.2559</td><td>16.2454</td><td>16.7122</td><td>16.3355</td><td>16.2398</td><td>16.2184</td><td>0.002</td><td>0.002</td><td>0.0025</td><td>0.0021</td><td>0.002</td><td>0.002</td><td>1.898</td><td>15.7168</td><td>15.7059</td><td>16.1373</td><td>15.7948</td><td>15.7</td><td>15.6781</td><td>0.0018</td><td>0.0018</td><td>0.0021</td><td>0.0018</td><td>0.0018</td><td>0.0018</td><td>1.826</td><td>15.4062</td><td>15.3941</td><td>15.8584</td><td>15.4894</td><td>15.388</td><td>15.3682</td><td>0.0035</td><td>0.0035</td><td>0.0043</td><td>0.0036</td><td>0.0035</td><td>0.0036</td><td>1.903</td><td>3.5</td><td>3.96</td><td>2.36</td><td>2.331</td><td>-8.28</td><td>1.013</td><td>0.012</td><td>3</td></tr>\n",
       "<tr><td>310.468454</td><td>-1.2408565</td><td>17.2796</td><td>17.2796</td><td>18.0317</td><td>17.4302</td><td>17.2847</td><td>17.2639</td><td>0.0075</td><td>0.0075</td><td>0.0104</td><td>0.0079</td><td>0.0075</td><td>0.0076</td><td>2.473</td><td>15.7684</td><td>15.7684</td><td>16.3965</td><td>15.8865</td><td>15.7719</td><td>15.7533</td><td>0.0016</td><td>0.0016</td><td>0.0021</td><td>0.0017</td><td>0.0016</td><td>0.0016</td><td>2.241</td><td>15.2211</td><td>15.2211</td><td>15.7054</td><td>15.3212</td><td>15.2252</td><td>15.2059</td><td>0.0012</td><td>0.0012</td><td>0.0015</td><td>0.0013</td><td>0.0012</td><td>0.0012</td><td>1.941</td><td>15.0532</td><td>15.0532</td><td>15.4835</td><td>15.1484</td><td>15.0572</td><td>15.0359</td><td>0.0013</td><td>0.0013</td><td>0.0016</td><td>0.0014</td><td>0.0013</td><td>0.0013</td><td>1.834</td><td>14.9819</td><td>14.9819</td><td>15.4594</td><td>15.0864</td><td>14.9852</td><td>14.9656</td><td>0.0029</td><td>0.0029</td><td>0.0035</td><td>0.003</td><td>0.0029</td><td>0.0029</td><td>1.943</td><td>3.5</td><td>3.5</td><td>3.674</td><td>2.598</td><td>60.38</td><td>1.414</td><td>0.293</td><td>2</td></tr>\n",
       "<tr><td>310.3837857</td><td>-1.2413399</td><td>17.2569</td><td>17.2569</td><td>17.9518</td><td>17.3911</td><td>17.2494</td><td>17.2281</td><td>0.0074</td><td>0.0074</td><td>0.01</td><td>0.0078</td><td>0.0074</td><td>0.0075</td><td>2.402</td><td>15.922</td><td>15.922</td><td>16.5084</td><td>16.0296</td><td>15.9158</td><td>15.896</td><td>0.0017</td><td>0.0017</td><td>0.0022</td><td>0.0018</td><td>0.0017</td><td>0.0017</td><td>2.209</td><td>15.4462</td><td>15.4462</td><td>15.8933</td><td>15.5316</td><td>15.4401</td><td>15.4198</td><td>0.0014</td><td>0.0014</td><td>0.0017</td><td>0.0014</td><td>0.0014</td><td>0.0014</td><td>1.885</td><td>15.2785</td><td>15.2785</td><td>15.6734</td><td>15.3613</td><td>15.2719</td><td>15.249</td><td>0.0015</td><td>0.0015</td><td>0.0017</td><td>0.0015</td><td>0.0015</td><td>0.0015</td><td>1.762</td><td>15.2355</td><td>15.2355</td><td>15.6907</td><td>15.3286</td><td>15.2282</td><td>15.2069</td><td>0.0033</td><td>0.0033</td><td>0.0039</td><td>0.0034</td><td>0.0033</td><td>0.0033</td><td>1.933</td><td>3.5</td><td>3.5</td><td>2.645</td><td>2.591</td><td>-78.17</td><td>1.021</td><td>0.02</td><td>2</td></tr>\n",
       "<tr><td>310.4004031</td><td>-1.2416517</td><td>20.2297</td><td>20.2297</td><td>20.9228</td><td>20.3601</td><td>20.1808</td><td>20.186</td><td>0.0339</td><td>0.0339</td><td>0.0408</td><td>0.0329</td><td>0.0352</td><td>0.0426</td><td>2.388</td><td>17.6512</td><td>17.6512</td><td>18.1989</td><td>17.7452</td><td>17.6334</td><td>17.6151</td><td>0.0039</td><td>0.0039</td><td>0.0049</td><td>0.004</td><td>0.0039</td><td>0.004</td><td>2.129</td><td>16.5732</td><td>16.5732</td><td>17.0009</td><td>16.6504</td><td>16.5566</td><td>16.5379</td><td>0.0023</td><td>0.0023</td><td>0.0028</td><td>0.0024</td><td>0.0023</td><td>0.0024</td><td>1.843</td><td>16.2286</td><td>16.2286</td><td>16.6228</td><td>16.3058</td><td>16.2119</td><td>16.1923</td><td>0.0023</td><td>0.0023</td><td>0.0027</td><td>0.0023</td><td>0.0023</td><td>0.0024</td><td>1.763</td><td>16.0178</td><td>16.0178</td><td>16.4844</td><td>16.1081</td><td>15.9991</td><td>15.9806</td><td>0.0047</td><td>0.0047</td><td>0.0057</td><td>0.0048</td><td>0.0048</td><td>0.005</td><td>1.944</td><td>3.5</td><td>3.5</td><td>2.336</td><td>2.275</td><td>26.0</td><td>1.027</td><td>0.026</td><td>0</td></tr>\n",
       "<tr><td>310.3007964</td><td>-1.2426908</td><td>17.4917</td><td>17.4917</td><td>18.1921</td><td>17.6295</td><td>17.488</td><td>17.4653</td><td>0.0083</td><td>0.0083</td><td>0.0112</td><td>0.0087</td><td>0.0083</td><td>0.0084</td><td>2.385</td><td>15.7282</td><td>15.7282</td><td>16.305</td><td>15.8337</td><td>15.7248</td><td>15.7065</td><td>0.0016</td><td>0.0016</td><td>0.002</td><td>0.0016</td><td>0.0016</td><td>0.0016</td><td>2.133</td><td>15.122</td><td>15.122</td><td>15.5706</td><td>15.2098</td><td>15.1186</td><td>15.0998</td><td>0.0012</td><td>0.0012</td><td>0.0015</td><td>0.0012</td><td>0.0012</td><td>0.0012</td><td>1.862</td><td>14.9115</td><td>14.9115</td><td>15.3444</td><td>15.007</td><td>14.9077</td><td>14.887</td><td>0.0012</td><td>0.0012</td><td>0.0015</td><td>0.0013</td><td>0.0012</td><td>0.0012</td><td>1.828</td><td>14.8332</td><td>14.8332</td><td>15.3392</td><td>14.9465</td><td>14.8293</td><td>14.8095</td><td>0.0027</td><td>0.0027</td><td>0.0034</td><td>0.0028</td><td>0.0027</td><td>0.0027</td><td>1.993</td><td>3.5</td><td>3.5</td><td>2.862</td><td>2.571</td><td>76.14</td><td>1.113</td><td>0.102</td><td>2</td></tr>\n",
       "<tr><td>310.0110293</td><td>-1.2433437</td><td>17.9792</td><td>17.9792</td><td>18.6754</td><td>18.1315</td><td>17.9899</td><td>17.9799</td><td>0.0108</td><td>0.0108</td><td>0.014</td><td>0.011</td><td>0.0106</td><td>0.011</td><td>2.406</td><td>16.4606</td><td>16.4606</td><td>17.0606</td><td>16.5869</td><td>16.4765</td><td>16.4572</td><td>0.0022</td><td>0.0022</td><td>0.0029</td><td>0.0023</td><td>0.0022</td><td>0.0022</td><td>2.215</td><td>15.8552</td><td>15.8552</td><td>16.3783</td><td>15.9773</td><td>15.8738</td><td>15.8502</td><td>0.0017</td><td>0.0017</td><td>0.0021</td><td>0.0018</td><td>0.0017</td><td>0.0017</td><td>2.033</td><td>15.5736</td><td>15.5736</td><td>16.0266</td><td>15.6949</td><td>15.5973</td><td>15.5663</td><td>0.0017</td><td>0.0017</td><td>0.002</td><td>0.0018</td><td>0.0017</td><td>0.0017</td><td>1.86</td><td>15.4711</td><td>15.4711</td><td>15.9598</td><td>15.5937</td><td>15.4908</td><td>15.4668</td><td>0.0038</td><td>0.0038</td><td>0.0045</td><td>0.0038</td><td>0.0037</td><td>0.0038</td><td>1.965</td><td>3.5</td><td>3.5</td><td>4.145</td><td>3.596</td><td>-82.4</td><td>1.153</td><td>0.133</td><td>2</td></tr>\n",
       "<tr><td>310.3679257</td><td>-1.2431764</td><td>19.6956</td><td>19.6956</td><td>20.3975</td><td>19.8437</td><td>19.6648</td><td>19.6423</td><td>0.0252</td><td>0.0252</td><td>0.0316</td><td>0.0252</td><td>0.0258</td><td>0.0294</td><td>2.404</td><td>17.1761</td><td>17.1761</td><td>17.745</td><td>17.274</td><td>17.1622</td><td>17.1449</td><td>0.0031</td><td>0.0031</td><td>0.004</td><td>0.0032</td><td>0.0031</td><td>0.0031</td><td>2.148</td><td>16.0032</td><td>16.0032</td><td>16.4575</td><td>16.0845</td><td>15.9903</td><td>15.9714</td><td>0.0018</td><td>0.0018</td><td>0.0022</td><td>0.0019</td><td>0.0018</td><td>0.0018</td><td>1.892</td><td>15.546</td><td>15.546</td><td>15.9475</td><td>15.6214</td><td>15.5332</td><td>15.5147</td><td>0.0016</td><td>0.0016</td><td>0.002</td><td>0.0017</td><td>0.0016</td><td>0.0017</td><td>1.782</td><td>15.2946</td><td>15.2946</td><td>15.7466</td><td>15.3788</td><td>15.2807</td><td>15.2625</td><td>0.0033</td><td>0.0033</td><td>0.0041</td><td>0.0034</td><td>0.0034</td><td>0.0034</td><td>1.916</td><td>3.5</td><td>3.5</td><td>2.442</td><td>2.366</td><td>-88.25</td><td>1.032</td><td>0.031</td><td>0</td></tr>\n",
       "<tr><td>310.383409</td><td>-1.2447864</td><td>19.6408</td><td>19.6408</td><td>20.4547</td><td>19.8746</td><td>19.6284</td><td>19.545</td><td>0.025</td><td>0.025</td><td>0.0324</td><td>0.0255</td><td>0.0251</td><td>0.0274</td><td>2.635</td><td>17.0134</td><td>17.0134</td><td>17.6023</td><td>17.1246</td><td>17.0088</td><td>16.9792</td><td>0.0029</td><td>0.0029</td><td>0.0037</td><td>0.003</td><td>0.0029</td><td>0.0029</td><td>2.158</td><td>15.6955</td><td>15.6955</td><td>16.1575</td><td>15.7864</td><td>15.6919</td><td>15.6677</td><td>0.0016</td><td>0.0016</td><td>0.0019</td><td>0.0016</td><td>0.0016</td><td>0.0016</td><td>1.91</td><td>15.1507</td><td>15.1507</td><td>15.5632</td><td>15.2369</td><td>15.147</td><td>15.1215</td><td>0.0014</td><td>0.0014</td><td>0.0016</td><td>0.0014</td><td>0.0014</td><td>0.0014</td><td>1.824</td><td>14.8571</td><td>14.8571</td><td>15.3215</td><td>14.9525</td><td>14.8533</td><td>14.8323</td><td>0.0027</td><td>0.0027</td><td>0.0033</td><td>0.0028</td><td>0.0027</td><td>0.0028</td><td>1.928</td><td>3.5</td><td>3.5</td><td>2.81</td><td>2.653</td><td>26.7</td><td>1.059</td><td>0.056</td><td>2</td></tr>\n",
       "</table>"
      ],
      "text/plain": [
       "<Table length=10>\n",
       "    col1       col2      col3    col4    col5  ...  col72   col73   col74  col75\n",
       "  float64    float64   float64 float64 float64 ... float64 float64 float64 int64\n",
       "----------- ---------- ------- ------- ------- ... ------- ------- ------- -----\n",
       "310.0406973 -1.2388384 18.8416 18.8416 19.5305 ...   54.91   1.026   0.025     2\n",
       "310.4340371 -1.2408615 16.0954 16.0954 16.8229 ...   53.86   1.076   0.071     3\n",
       "310.1488541 -1.2407223 20.3273 20.3139 21.1015 ...   -8.28   1.013   0.012     3\n",
       " 310.468454 -1.2408565 17.2796 17.2796 18.0317 ...   60.38   1.414   0.293     2\n",
       "310.3837857 -1.2413399 17.2569 17.2569 17.9518 ...  -78.17   1.021    0.02     2\n",
       "310.4004031 -1.2416517 20.2297 20.2297 20.9228 ...    26.0   1.027   0.026     0\n",
       "310.3007964 -1.2426908 17.4917 17.4917 18.1921 ...   76.14   1.113   0.102     2\n",
       "310.0110293 -1.2433437 17.9792 17.9792 18.6754 ...   -82.4   1.153   0.133     2\n",
       "310.3679257 -1.2431764 19.6956 19.6956 20.3975 ...  -88.25   1.032   0.031     0\n",
       " 310.383409 -1.2447864 19.6408 19.6408 20.4547 ...    26.7   1.059   0.056     2"
      ]
     },
     "execution_count": 6,
     "metadata": {},
     "output_type": "execute_result"
    }
   ],
   "source": [
    "test_star[:10]"
   ]
  },
  {
   "cell_type": "code",
   "execution_count": 7,
   "metadata": {},
   "outputs": [],
   "source": [
    "columns = {\n",
    "\n",
    "    1:  'ALPHA_J2000'          ,#Right ascension of barycenter (J2000)                    [deg]\n",
    "    2:  'DELTA_J2000'          ,#Declination of barycenter (J2000)                        [deg]\n",
    "    3:  'MAG_AUTO_u'           ,#Sloan u | Kron-like elliptical aperture magnitude        [mag]\n",
    "    4:  'MAG_PETRO_u'          ,#Sloan u | Petrosian-like elliptical aperture magnitude   [mag]\n",
    "    5:  'MAG_APER_1_u'         ,#Sloan u | 5 pixel fixed aperture magnitude               [mag]\n",
    "    6:  'MAG_APER_2_u'         ,#Sloan u | 10 pixel fixed aperture magnitude              [mag]\n",
    "    7:  'MAG_APER_3_u'         ,#Sloan u | 20 pixel fixed aperture magnitude              [mag]\n",
    "    8:  'MAG_APER_4_u'         ,#Sloan u | 30 pixel fixed aperture magnitude              [mag]\n",
    "    9:  'MAGERR_AUTO_u'        ,#Sloan u | RMS error for AUTO magnitude                   [mag]\n",
    "    10: 'MAGERR_PETRO_u'       ,#Sloan u | RMS error for PETROsian magnitude              [mag]\n",
    "    11: 'MAGERR_APER_1_u'      ,#Sloan u | RMS error for MAG_APER (1)                     [mag]\n",
    "    12: 'MAGERR_APER_2_u'      ,#Sloan u | RMS error for MAG_APER (2)                     [mag]\n",
    "    13: 'MAGERR_APER_3_u'      ,#Sloan u | RMS error for MAG_APER (3)                     [mag]\n",
    "    14: 'MAGERR_APER_4_u'      ,#Sloan u | RMS error for MAG_APER (4)                     [mag]\n",
    "    15: 'FLUX_RADIUS_u'        ,#Sloan u | Fraction-of-light radii (0.5 of total)         [pixel] \n",
    "    16: 'MAG_AUTO_g'           ,#Sloan g | Kron-like elliptical aperture magnitude        [mag] \n",
    "    17: 'MAG_PETRO_g'          ,#Sloan g | Petrosian-like elliptical aperture magnitude   [mag] \n",
    "    18: 'MAG_APER_1_g'         ,#Sloan g | 5 pixel fixed aperture magnitude               [mag] \n",
    "    19: 'MAG_APER_2_g'         ,#Sloan g | 10 pixel fixed aperture magnitude              [mag] \n",
    "    20: 'MAG_APER_3_g'         ,#Sloan g | 20 pixel fixed aperture magnitude              [mag] \n",
    "    21: 'MAG_APER_4_g'         ,#Sloan g | 30 pixel fixed aperture magnitude              [mag] \n",
    "    22: 'MAGERR_AUTO_g'        ,#Sloan g | RMS error for AUTO magnitude                   [mag] \n",
    "    23: 'MAGERR_PETRO_g'       ,#Sloan g | RMS error for PETROsian magnitude              [mag] \n",
    "    24: 'MAGERR_APER_1_g'      ,#Sloan g | RMS error for MAG_APER (1)                     [mag] \n",
    "    25: 'MAGERR_APER_2_g'      ,#Sloan g | RMS error for MAG_APER (2)                     [mag] \n",
    "    26: 'MAGERR_APER_3_g'      ,#Sloan g | RMS error for MAG_APER (3)                     [mag] \n",
    "    27: 'MAGERR_APER_4_g'      ,#Sloan g | RMS error for MAG_APER (4)                     [mag] \n",
    "    28: 'FLUX_RADIUS_g'        ,#Sloan g | Fraction-of-light radii (0.5 of total)         [pixel] \n",
    "    29: 'MAG_AUTO_r'           ,#Sloan r | Kron-like elliptical aperture magnitude        [mag]  \n",
    "    30: 'MAG_PETRO_r'          ,#Sloan r | Petrosian-like elliptical aperture magnitude   [mag]  \n",
    "    31: 'MAG_APER_1_r'         ,#Sloan r | 5 pixel fixed aperture magnitude               [mag]  \n",
    "    32: 'MAG_APER_2_r'         ,#Sloan r | 10 pixel fixed aperture magnitude              [mag]  \n",
    "    33: 'MAG_APER_3_r'         ,#Sloan r | 20 pixel fixed aperture magnitude              [mag]  \n",
    "    34: 'MAG_APER_4_r'         ,#Sloan r | 30 pixel fixed aperture magnitude              [mag]  \n",
    "    35: 'MAGERR_AUTO_r'        ,#Sloan r | RMS error for AUTO magnitude                   [mag]  \n",
    "    36: 'MAGERR_PETRO_r'       ,#Sloan r | RMS error for PETROsian magnitude              [mag]  \n",
    "    37: 'MAGERR_APER_1_r'      ,#Sloan r | RMS error for MAG_APER (1)                     [mag]  \n",
    "    38: 'MAGERR_APER_2_r'      ,#Sloan r | RMS error for MAG_APER (2)                     [mag]  \n",
    "    39: 'MAGERR_APER_3_r'      ,#Sloan r | RMS error for MAG_APER (3)                     [mag]  \n",
    "    40: 'MAGERR_APER_4_r'      ,#Sloan r | RMS error for MAG_APER (4)                     [mag]  \n",
    "    41: 'FLUX_RADIUS_r'        ,#Sloan r | Fraction-of-light radii (0.5 of total)         [pixel]\n",
    "    42: 'MAG_AUTO_i'           ,#Sloan i | Kron-like elliptical aperture magnitude        [mag]  \n",
    "    43: 'MAG_PETRO_i'          ,#Sloan i | Petrosian-like elliptical aperture magnitude   [mag]  \n",
    "    44: 'MAG_APER_1_i'         ,#Sloan i | 5 pixel fixed aperture magnitude               [mag]  \n",
    "    45: 'MAG_APER_2_i'         ,#Sloan i | 10 pixel fixed aperture magnitude              [mag]  \n",
    "    46: 'MAG_APER_3_i'         ,#Sloan i | 20 pixel fixed aperture magnitude              [mag]  \n",
    "    47: 'MAG_APER_4_i'         ,#Sloan i | 30 pixel fixed aperture magnitude              [mag]  \n",
    "    48: 'MAGERR_AUTO_i'        ,#Sloan i | RMS error for AUTO magnitude                   [mag]  \n",
    "    49: 'MAGERR_PETRO_i'       ,#Sloan i | RMS error for PETROsian magnitude              [mag]  \n",
    "    50: 'MAGERR_APER_1_i'      ,#Sloan i | RMS error for MAG_APER (1)                     [mag]  \n",
    "    51: 'MAGERR_APER_2_i'      ,#Sloan i | RMS error for MAG_APER (2)                     [mag]  \n",
    "    52: 'MAGERR_APER_3_i'      ,#Sloan i | RMS error for MAG_APER (3)                     [mag]  \n",
    "    53: 'MAGERR_APER_4_i'      ,#Sloan i | RMS error for MAG_APER (4)                     [mag]  \n",
    "    54: 'FLUX_RADIUS_i'        ,#Sloan i | Fraction-of-light radii (0.5 of total)         [pixel]\n",
    "    55: 'MAG_AUTO_z'           ,#Sloan z | Kron-like elliptical aperture magnitude        [mag]  \n",
    "    56: 'MAG_PETRO_z'          ,#Sloan z | Petrosian-like elliptical aperture magnitude   [mag]  \n",
    "    57: 'MAG_APER_1_z'         ,#Sloan z | 5 pixel fixed aperture magnitude               [mag]  \n",
    "    58: 'MAG_APER_2_z'         ,#Sloan z | 10 pixel fixed aperture magnitude              [mag]  \n",
    "    59: 'MAG_APER_3_z'         ,#Sloan z | 20 pixel fixed aperture magnitude              [mag]  \n",
    "    60: 'MAG_APER_4_z'         ,#Sloan z | 30 pixel fixed aperture magnitude              [mag]  \n",
    "    61: 'MAGERR_AUTO_z'        ,#Sloan z | RMS error for AUTO magnitude                   [mag]  \n",
    "    62: 'MAGERR_PETRO_z'       ,#Sloan z | RMS error for PETROsian magnitude              [mag]  \n",
    "    63: 'MAGERR_APER_1_z'      ,#Sloan z | RMS error for MAG_APER (1)                     [mag]  \n",
    "    64: 'MAGERR_APER_2_z'      ,#Sloan z | RMS error for MAG_APER (2)                     [mag]  \n",
    "    65: 'MAGERR_APER_3_z'      ,#Sloan z | RMS error for MAG_APER (3)                     [mag]  \n",
    "    66: 'MAGERR_APER_4_z'      ,#Sloan z | RMS error for MAG_APER (4)                     [mag]  \n",
    "    67: 'FLUX_RADIUS_z'        ,#Sloan z | Fraction-of-light radii (0.5 of total)         [pixel]\n",
    "    68: 'KRON_RADIUS'          ,#Kron aperture in units of A_IMAGE                        \n",
    "    69: 'PETRO_RADIUS'         ,#Petrosian aperture in units of A_IMAGE                    \n",
    "    70: 'A_IMAGE'              ,#Profile RMS along major axis                             [pixel]  \n",
    "    71: 'B_IMAGE'              ,#Profile RMS along minor axis                             [pixel] \n",
    "    72: 'THETA_IMAGE'          ,#Position angle (CCW/x)                                   [deg] \n",
    "    73: 'ELONGATION'           ,#A_IMAGE/B_IMAGE\n",
    "    74: 'ELLIPTICITY'          ,#1 - B_IMAGE/A_IMAGE    \n",
    "    75: 'FLAGS'                ,#Extraction flags \n",
    "   \n",
    "}\n",
    "\n",
    "def fix_headers(cat):\n",
    "    for col in columns:\n",
    "        cat['col{}'.format(col)].name = columns[col]\n",
    "        if columns[col].startswith('MAG'):\n",
    "            cat[columns[col]].unit = u.mag\n",
    "        if columns[col].startswith('FLUX_RADIUS_'):\n",
    "            cat[columns[col]].unit = u.pix\n",
    "    cat['A_IMAGE'].unit = u.pix\n",
    "    cat['B_IMAGE'].unit = u.pix\n",
    "    cat['THETA_IMAGE'].unit = u.deg\n",
    "    cat['ALPHA_J2000'].unit = u.deg\n",
    "    cat['DELTA_J2000'].unit = u.deg\n",
    "    return cat"
   ]
  },
  {
   "cell_type": "code",
   "execution_count": 8,
   "metadata": {},
   "outputs": [
    {
     "name": "stdout",
     "output_type": "stream",
     "text": [
      "Bad file: ./data/tiles/f0141_gal.cat\n"
     ]
    }
   ],
   "source": [
    "full_cat = Table()\n",
    "for cat_name in file_list:\n",
    "    try:\n",
    "        cat = Table.read(cat_name, format='ascii')\n",
    "    except: \n",
    "        print('Bad file: ' + cat_name)\n",
    "        continue\n",
    "    fix_headers(cat)\n",
    "    \n",
    "    cat.add_column(Column(data=np.zeros(len(cat)), name='sdss_stellarity', dtype='int32'))\n",
    "    if 'ps.cat' in cat_name:\n",
    "        cat['sdss_stellarity'] = 1\n",
    "    \n",
    "    full_cat = vstack([full_cat, cat])\n",
    "    \n",
    "    "
   ]
  },
  {
   "cell_type": "code",
   "execution_count": 9,
   "metadata": {},
   "outputs": [
    {
     "data": {
      "text/plain": [
       "15694"
      ]
     },
     "execution_count": 9,
     "metadata": {},
     "output_type": "execute_result"
    }
   ],
   "source": [
    "len(full_cat)"
   ]
  },
  {
   "cell_type": "code",
   "execution_count": 10,
   "metadata": {},
   "outputs": [],
   "source": [
    "full_cat.add_column(Column(data=np.arange(len(full_cat)), name='sdss_iac_id', dtype='int32'))"
   ]
  },
  {
   "cell_type": "code",
   "execution_count": 11,
   "metadata": {},
   "outputs": [
    {
     "data": {
      "text/html": [
       "<i>Table masked=True length=15694</i>\n",
       "<table id=\"table4610687048\" class=\"table-striped table-bordered table-condensed\">\n",
       "<thead><tr><th>ALPHA_J2000</th><th>DELTA_J2000</th><th>MAG_AUTO_u</th><th>MAG_PETRO_u</th><th>MAG_APER_1_u</th><th>MAG_APER_2_u</th><th>MAG_APER_3_u</th><th>MAG_APER_4_u</th><th>MAGERR_AUTO_u</th><th>MAGERR_PETRO_u</th><th>MAGERR_APER_1_u</th><th>MAGERR_APER_2_u</th><th>MAGERR_APER_3_u</th><th>MAGERR_APER_4_u</th><th>FLUX_RADIUS_u</th><th>MAG_AUTO_g</th><th>MAG_PETRO_g</th><th>MAG_APER_1_g</th><th>MAG_APER_2_g</th><th>MAG_APER_3_g</th><th>MAG_APER_4_g</th><th>MAGERR_AUTO_g</th><th>MAGERR_PETRO_g</th><th>MAGERR_APER_1_g</th><th>MAGERR_APER_2_g</th><th>MAGERR_APER_3_g</th><th>MAGERR_APER_4_g</th><th>FLUX_RADIUS_g</th><th>MAG_AUTO_r</th><th>MAG_PETRO_r</th><th>MAG_APER_1_r</th><th>MAG_APER_2_r</th><th>MAG_APER_3_r</th><th>MAG_APER_4_r</th><th>MAGERR_AUTO_r</th><th>MAGERR_PETRO_r</th><th>MAGERR_APER_1_r</th><th>MAGERR_APER_2_r</th><th>MAGERR_APER_3_r</th><th>MAGERR_APER_4_r</th><th>FLUX_RADIUS_r</th><th>MAG_AUTO_i</th><th>MAG_PETRO_i</th><th>MAG_APER_1_i</th><th>MAG_APER_2_i</th><th>MAG_APER_3_i</th><th>MAG_APER_4_i</th><th>MAGERR_AUTO_i</th><th>MAGERR_PETRO_i</th><th>MAGERR_APER_1_i</th><th>MAGERR_APER_2_i</th><th>MAGERR_APER_3_i</th><th>MAGERR_APER_4_i</th><th>FLUX_RADIUS_i</th><th>MAG_AUTO_z</th><th>MAG_PETRO_z</th><th>MAG_APER_1_z</th><th>MAG_APER_2_z</th><th>MAG_APER_3_z</th><th>MAG_APER_4_z</th><th>MAGERR_AUTO_z</th><th>MAGERR_PETRO_z</th><th>MAGERR_APER_1_z</th><th>MAGERR_APER_2_z</th><th>MAGERR_APER_3_z</th><th>MAGERR_APER_4_z</th><th>FLUX_RADIUS_z</th><th>KRON_RADIUS</th><th>PETRO_RADIUS</th><th>A_IMAGE</th><th>B_IMAGE</th><th>THETA_IMAGE</th><th>ELONGATION</th><th>ELLIPTICITY</th><th>FLAGS</th><th>sdss_stellarity</th><th>sdss_iac_id</th></tr></thead>\n",
       "<thead><tr><th>deg</th><th>deg</th><th>mag</th><th>mag</th><th>mag</th><th>mag</th><th>mag</th><th>mag</th><th>mag</th><th>mag</th><th>mag</th><th>mag</th><th>mag</th><th>mag</th><th>pix</th><th>mag</th><th>mag</th><th>mag</th><th>mag</th><th>mag</th><th>mag</th><th>mag</th><th>mag</th><th>mag</th><th>mag</th><th>mag</th><th>mag</th><th>pix</th><th>mag</th><th>mag</th><th>mag</th><th>mag</th><th>mag</th><th>mag</th><th>mag</th><th>mag</th><th>mag</th><th>mag</th><th>mag</th><th>mag</th><th>pix</th><th>mag</th><th>mag</th><th>mag</th><th>mag</th><th>mag</th><th>mag</th><th>mag</th><th>mag</th><th>mag</th><th>mag</th><th>mag</th><th>mag</th><th>pix</th><th>mag</th><th>mag</th><th>mag</th><th>mag</th><th>mag</th><th>mag</th><th>mag</th><th>mag</th><th>mag</th><th>mag</th><th>mag</th><th>mag</th><th>pix</th><th></th><th></th><th>pix</th><th>pix</th><th>deg</th><th></th><th></th><th></th><th></th><th></th></tr></thead>\n",
       "<thead><tr><th>float64</th><th>float64</th><th>float64</th><th>float64</th><th>float64</th><th>float64</th><th>float64</th><th>float64</th><th>float64</th><th>float64</th><th>float64</th><th>float64</th><th>float64</th><th>float64</th><th>float64</th><th>float64</th><th>float64</th><th>float64</th><th>float64</th><th>float64</th><th>float64</th><th>float64</th><th>float64</th><th>float64</th><th>float64</th><th>float64</th><th>float64</th><th>float64</th><th>float64</th><th>float64</th><th>float64</th><th>float64</th><th>float64</th><th>float64</th><th>float64</th><th>float64</th><th>float64</th><th>float64</th><th>float64</th><th>float64</th><th>float64</th><th>float64</th><th>float64</th><th>float64</th><th>float64</th><th>float64</th><th>float64</th><th>float64</th><th>float64</th><th>float64</th><th>float64</th><th>float64</th><th>float64</th><th>float64</th><th>float64</th><th>float64</th><th>float64</th><th>float64</th><th>float64</th><th>float64</th><th>float64</th><th>float64</th><th>float64</th><th>float64</th><th>float64</th><th>float64</th><th>float64</th><th>float64</th><th>float64</th><th>float64</th><th>float64</th><th>float64</th><th>float64</th><th>float64</th><th>int64</th><th>int32</th><th>int32</th></tr></thead>\n",
       "<tr><td>310.089107</td><td>-1.2355282</td><td>22.7462</td><td>23.1497</td><td>24.375</td><td>23.3181</td><td>22.8383</td><td>22.858</td><td>0.3598</td><td>0.7628</td><td>0.3202</td><td>0.2261</td><td>0.2654</td><td>0.3903</td><td>4.348</td><td>20.6771</td><td>20.7329</td><td>22.4156</td><td>21.5</td><td>20.8421</td><td>20.7255</td><td>0.029</td><td>0.0418</td><td>0.0394</td><td>0.0281</td><td>0.025</td><td>0.0297</td><td>5.364</td><td>19.1425</td><td>19.1395</td><td>20.7003</td><td>19.8245</td><td>19.2839</td><td>19.1504</td><td>0.0109</td><td>0.014</td><td>0.0164</td><td>0.0114</td><td>0.01</td><td>0.0109</td><td>4.655</td><td>18.5251</td><td>18.5078</td><td>20.0178</td><td>19.1803</td><td>18.6769</td><td>18.531</td><td>0.01</td><td>0.0129</td><td>0.0137</td><td>0.0098</td><td>0.009</td><td>0.0099</td><td>4.514</td><td>18.2026</td><td>18.233</td><td>19.6292</td><td>18.7985</td><td>18.3173</td><td>18.21</td><td>0.0219</td><td>0.0303</td><td>0.0265</td><td>0.0193</td><td>0.0185</td><td>0.0217</td><td>4.232</td><td>3.5</td><td>5.28</td><td>5.192</td><td>3.678</td><td>-51.25</td><td>1.412</td><td>0.292</td><td>3</td><td>0</td><td>0</td></tr>\n",
       "<tr><td>310.4277744</td><td>-1.240878</td><td>21.8127</td><td>21.7347</td><td>23.798</td><td>22.5158</td><td>21.8657</td><td>21.8246</td><td>0.1373</td><td>0.1644</td><td>0.209</td><td>0.1223</td><td>0.1167</td><td>0.1554</td><td>4.82</td><td>21.1949</td><td>21.1898</td><td>22.8877</td><td>21.7903</td><td>21.2244</td><td>21.1757</td><td>0.0386</td><td>0.0485</td><td>0.0522</td><td>0.0338</td><td>0.0328</td><td>0.0422</td><td>4.448</td><td>20.1127</td><td>20.1094</td><td>21.6674</td><td>20.654</td><td>20.1563</td><td>20.1062</td><td>0.0204</td><td>0.0251</td><td>0.0275</td><td>0.0184</td><td>0.0179</td><td>0.0223</td><td>4.207</td><td>19.749</td><td>19.7513</td><td>21.2348</td><td>20.262</td><td>19.79</td><td>19.7478</td><td>0.0231</td><td>0.0294</td><td>0.027</td><td>0.0189</td><td>0.0197</td><td>0.0257</td><td>4.072</td><td>19.6494</td><td>19.7808</td><td>20.9912</td><td>20.0667</td><td>19.6546</td><td>19.6937</td><td>0.062</td><td>0.0898</td><td>0.0588</td><td>0.0436</td><td>0.0501</td><td>0.0724</td><td>3.716</td><td>3.93</td><td>5.28</td><td>3.672</td><td>3.002</td><td>-13.12</td><td>1.223</td><td>0.182</td><td>0</td><td>0</td><td>1</td></tr>\n",
       "<tr><td>310.3773283</td><td>-1.2421887</td><td>21.1581</td><td>20.6522</td><td>23.2656</td><td>22.2165</td><td>21.4613</td><td>21.0663</td><td>0.0833</td><td>0.0907</td><td>0.1464</td><td>0.0988</td><td>0.0847</td><td>0.0824</td><td>6.566</td><td>20.5964</td><td>20.7456</td><td>22.2701</td><td>21.3078</td><td>20.7641</td><td>20.5813</td><td>0.0246</td><td>0.0454</td><td>0.0359</td><td>0.0246</td><td>0.0231</td><td>0.0257</td><td>4.794</td><td>20.1955</td><td>20.2528</td><td>21.8629</td><td>20.9056</td><td>20.3452</td><td>20.1907</td><td>0.0222</td><td>0.0389</td><td>0.0307</td><td>0.0213</td><td>0.0203</td><td>0.0235</td><td>4.8</td><td>19.8286</td><td>19.7923</td><td>21.5589</td><td>20.5944</td><td>20.0465</td><td>19.7964</td><td>0.0253</td><td>0.0425</td><td>0.0328</td><td>0.0234</td><td>0.0238</td><td>0.0264</td><td>5.061</td><td>19.645</td><td>19.8544</td><td>21.5127</td><td>20.525</td><td>19.8841</td><td>19.6068</td><td>0.0632</td><td>0.136</td><td>0.0825</td><td>0.06</td><td>0.0594</td><td>0.0658</td><td>5.568</td><td>3.52</td><td>6.6</td><td>4.257</td><td>3.632</td><td>65.66</td><td>1.172</td><td>0.147</td><td>3</td><td>0</td><td>2</td></tr>\n",
       "<tr><td>310.3473479</td><td>-1.2436515</td><td>20.9496</td><td>20.8676</td><td>23.1745</td><td>22.0697</td><td>21.3915</td><td>21.1149</td><td>0.0764</td><td>0.0886</td><td>0.1383</td><td>0.0895</td><td>0.0803</td><td>0.0856</td><td>7.436</td><td>19.5446</td><td>19.5233</td><td>21.3457</td><td>20.3725</td><td>19.8175</td><td>19.627</td><td>0.0124</td><td>0.0141</td><td>0.022</td><td>0.0145</td><td>0.0125</td><td>0.0129</td><td>5.391</td><td>18.541</td><td>18.5247</td><td>20.1045</td><td>19.2372</td><td>18.7668</td><td>18.6024</td><td>0.0073</td><td>0.0082</td><td>0.0121</td><td>0.0083</td><td>0.0073</td><td>0.0075</td><td>4.715</td><td>17.9975</td><td>17.9639</td><td>19.4694</td><td>18.6569</td><td>18.22</td><td>18.0607</td><td>0.0068</td><td>0.0077</td><td>0.0103</td><td>0.0073</td><td>0.0067</td><td>0.007</td><td>4.517</td><td>17.6516</td><td>17.6439</td><td>19.0806</td><td>18.2626</td><td>17.8474</td><td>17.7041</td><td>0.0142</td><td>0.0167</td><td>0.0198</td><td>0.0142</td><td>0.0133</td><td>0.0145</td><td>4.267</td><td>3.5</td><td>4.62</td><td>7.278</td><td>2.653</td><td>-43.49</td><td>2.743</td><td>0.635</td><td>0</td><td>0</td><td>3</td></tr>\n",
       "<tr><td>310.2980108</td><td>-1.2450647</td><td>21.607</td><td>21.4455</td><td>22.5854</td><td>21.8443</td><td>21.6392</td><td>21.6538</td><td>0.1661</td><td>0.271</td><td>0.0972</td><td>0.0772</td><td>0.0971</td><td>0.1339</td><td>2.899</td><td>20.1728</td><td>20.0293</td><td>21.4897</td><td>20.7411</td><td>20.4794</td><td>20.3217</td><td>0.0237</td><td>0.0366</td><td>0.0237</td><td>0.0179</td><td>0.0193</td><td>0.0217</td><td>3.894</td><td>19.5099</td><td>19.4089</td><td>20.7507</td><td>20.113</td><td>19.8271</td><td>19.6646</td><td>0.0173</td><td>0.0278</td><td>0.0168</td><td>0.0134</td><td>0.0143</td><td>0.016</td><td>3.939</td><td>19.121</td><td>19.1886</td><td>20.4609</td><td>19.8242</td><td>19.4339</td><td>19.2395</td><td>0.0191</td><td>0.0366</td><td>0.0173</td><td>0.0142</td><td>0.015</td><td>0.0168</td><td>4.589</td><td>18.9867</td><td>19.4636</td><td>20.3576</td><td>19.7081</td><td>19.2606</td><td>19.1228</td><td>0.051</td><td>0.1467</td><td>0.0397</td><td>0.034</td><td>0.0367</td><td>0.0447</td><td>4.693</td><td>3.68</td><td>7.26</td><td>6.386</td><td>4.705</td><td>-45.82</td><td>1.357</td><td>0.263</td><td>3</td><td>0</td><td>4</td></tr>\n",
       "<tr><td>310.1278317</td><td>-1.2453766</td><td>23.3106</td><td>23.2471</td><td>25.3441</td><td>23.6817</td><td>23.0434</td><td>22.7421</td><td>0.2596</td><td>0.3516</td><td>0.6795</td><td>0.2982</td><td>0.3114</td><td>0.3461</td><td>4.262</td><td>23.331</td><td>23.5734</td><td>24.214</td><td>23.4347</td><td>23.7548</td><td>24.6025</td><td>0.1259</td><td>0.2256</td><td>0.1305</td><td>0.1157</td><td>0.2815</td><td>0.9035</td><td>2.704</td><td>22.5988</td><td>22.5364</td><td>23.3221</td><td>22.6574</td><td>22.5755</td><td>22.8836</td><td>0.0846</td><td>0.1149</td><td>0.0791</td><td>0.0753</td><td>0.1259</td><td>0.2439</td><td>2.458</td><td>22.098</td><td>22.0664</td><td>22.7518</td><td>22.1337</td><td>22.074</td><td>22.4858</td><td>0.0868</td><td>0.1229</td><td>0.0744</td><td>0.0751</td><td>0.1313</td><td>0.2821</td><td>2.344</td><td>22.1788</td><td>21.8543</td><td>22.4306</td><td>22.0819</td><td>21.9869</td><td>24.6571</td><td>0.2878</td><td>0.3193</td><td>0.1665</td><td>0.2182</td><td>0.3824</td><td>6.5898</td><td>1.737</td><td>3.5</td><td>5.28</td><td>1.933</td><td>1.632</td><td>27.02</td><td>1.185</td><td>0.156</td><td>0</td><td>0</td><td>5</td></tr>\n",
       "<tr><td>310.3637914</td><td>-1.2472287</td><td>22.9821</td><td>22.8577</td><td>24.6088</td><td>23.5059</td><td>23.007</td><td>22.8343</td><td>0.2469</td><td>0.3547</td><td>0.383</td><td>0.2631</td><td>0.307</td><td>0.3822</td><td>3.967</td><td>22.225</td><td>22.5054</td><td>23.4052</td><td>22.5159</td><td>22.2627</td><td>22.5185</td><td>0.0608</td><td>0.1203</td><td>0.0724</td><td>0.0557</td><td>0.0749</td><td>0.1338</td><td>3.336</td><td>21.0813</td><td>21.1006</td><td>21.9346</td><td>21.2856</td><td>21.0696</td><td>21.0907</td><td>0.0307</td><td>0.0465</td><td>0.0321</td><td>0.0275</td><td>0.0357</td><td>0.0503</td><td>2.715</td><td>20.1607</td><td>20.1596</td><td>20.925</td><td>20.3568</td><td>20.1534</td><td>20.2078</td><td>0.0223</td><td>0.033</td><td>0.0224</td><td>0.02</td><td>0.0259</td><td>0.0374</td><td>2.535</td><td>19.7615</td><td>19.7994</td><td>20.4276</td><td>19.8861</td><td>19.7794</td><td>19.8618</td><td>0.0455</td><td>0.0713</td><td>0.0411</td><td>0.0379</td><td>0.0545</td><td>0.0823</td><td>2.315</td><td>3.5</td><td>5.94</td><td>2.755</td><td>1.888</td><td>-23.77</td><td>1.459</td><td>0.315</td><td>0</td><td>0</td><td>6</td></tr>\n",
       "<tr><td>310.2891375</td><td>-1.2472456</td><td>23.2258</td><td>23.1728</td><td>24.2551</td><td>23.389</td><td>22.9744</td><td>23.482</td><td>0.4581</td><td>0.5686</td><td>0.2919</td><td>0.2398</td><td>0.2962</td><td>0.6806</td><td>2.96</td><td>22.0734</td><td>22.1471</td><td>23.3574</td><td>22.4656</td><td>22.1238</td><td>22.1305</td><td>0.0787</td><td>0.1075</td><td>0.0707</td><td>0.0545</td><td>0.0675</td><td>0.0964</td><td>3.521</td><td>20.7921</td><td>20.686</td><td>22.069</td><td>21.2065</td><td>20.8365</td><td>20.7339</td><td>0.0343</td><td>0.0393</td><td>0.035</td><td>0.0263</td><td>0.0299</td><td>0.0376</td><td>3.627</td><td>19.9822</td><td>19.873</td><td>21.2539</td><td>20.4079</td><td>20.0316</td><td>19.93</td><td>0.0267</td><td>0.0306</td><td>0.0271</td><td>0.0207</td><td>0.0234</td><td>0.0294</td><td>3.646</td><td>19.4105</td><td>19.3525</td><td>20.8752</td><td>20.0434</td><td>19.564</td><td>19.3864</td><td>0.049</td><td>0.0589</td><td>0.0545</td><td>0.0429</td><td>0.0463</td><td>0.0555</td><td>4.354</td><td>4.5</td><td>5.94</td><td>2.993</td><td>2.622</td><td>40.65</td><td>1.142</td><td>0.124</td><td>3</td><td>0</td><td>7</td></tr>\n",
       "<tr><td>310.2111772</td><td>-1.2472397</td><td>23.6669</td><td>23.6513</td><td>24.9287</td><td>23.9817</td><td>23.2167</td><td>24.0539</td><td>0.378</td><td>0.5447</td><td>0.485</td><td>0.3825</td><td>0.3611</td><td>1.1245</td><td>3.527</td><td>23.1372</td><td>23.0819</td><td>24.048</td><td>23.2192</td><td>23.0711</td><td>23.4387</td><td>0.1153</td><td>0.1589</td><td>0.1154</td><td>0.0972</td><td>0.1532</td><td>0.3124</td><td>2.748</td><td>22.2373</td><td>22.2481</td><td>23.2441</td><td>22.3792</td><td>22.2296</td><td>22.6741</td><td>0.0668</td><td>0.0959</td><td>0.0744</td><td>0.0599</td><td>0.092</td><td>0.1995</td><td>2.922</td><td>22.3379</td><td>22.3337</td><td>23.108</td><td>22.449</td><td>22.4436</td><td>22.5266</td><td>0.1139</td><td>0.1672</td><td>0.0969</td><td>0.0965</td><td>0.1796</td><td>0.2867</td><td>2.536</td><td>22.8417</td><td>22.0175</td><td>23.6046</td><td>22.4794</td><td>22.2736</td><td>22.0898</td><td>0.5529</td><td>0.3936</td><td>0.4316</td><td>0.3003</td><td>0.4826</td><td>0.607</td><td>2.557</td><td>3.5</td><td>5.28</td><td>2.722</td><td>1.393</td><td>-50.81</td><td>1.954</td><td>0.488</td><td>0</td><td>0</td><td>8</td></tr>\n",
       "<tr><td>...</td><td>...</td><td>...</td><td>...</td><td>...</td><td>...</td><td>...</td><td>...</td><td>...</td><td>...</td><td>...</td><td>...</td><td>...</td><td>...</td><td>...</td><td>...</td><td>...</td><td>...</td><td>...</td><td>...</td><td>...</td><td>...</td><td>...</td><td>...</td><td>...</td><td>...</td><td>...</td><td>...</td><td>...</td><td>...</td><td>...</td><td>...</td><td>...</td><td>...</td><td>...</td><td>...</td><td>...</td><td>...</td><td>...</td><td>...</td><td>...</td><td>...</td><td>...</td><td>...</td><td>...</td><td>...</td><td>...</td><td>...</td><td>...</td><td>...</td><td>...</td><td>...</td><td>...</td><td>...</td><td>...</td><td>...</td><td>...</td><td>...</td><td>...</td><td>...</td><td>...</td><td>...</td><td>...</td><td>...</td><td>...</td><td>...</td><td>...</td><td>...</td><td>...</td><td>...</td><td>...</td><td>...</td><td>...</td><td>...</td><td>...</td><td>...</td><td>...</td></tr>\n",
       "<tr><td>310.2661186</td><td>-1.2133282</td><td>22.2043</td><td>22.1431</td><td>22.9708</td><td>22.3564</td><td>22.0506</td><td>21.9967</td><td>0.1229</td><td>0.1271</td><td>0.1219</td><td>0.1087</td><td>0.1349</td><td>0.1798</td><td>2.529</td><td>19.6477</td><td>19.6341</td><td>20.2269</td><td>19.7332</td><td>19.6245</td><td>19.6333</td><td>0.0106</td><td>0.0107</td><td>0.0127</td><td>0.0104</td><td>0.0112</td><td>0.0132</td><td>2.142</td><td>18.2485</td><td>18.2372</td><td>18.7185</td><td>18.3195</td><td>18.2252</td><td>18.2159</td><td>0.0053</td><td>0.0053</td><td>0.0063</td><td>0.0053</td><td>0.0054</td><td>0.0059</td><td>1.918</td><td>17.1837</td><td>17.1708</td><td>17.6586</td><td>17.2566</td><td>17.1572</td><td>17.1411</td><td>0.0036</td><td>0.0036</td><td>0.0043</td><td>0.0037</td><td>0.0037</td><td>0.0039</td><td>1.929</td><td>16.6181</td><td>16.6045</td><td>17.1379</td><td>16.6943</td><td>16.5899</td><td>16.5694</td><td>0.0063</td><td>0.0064</td><td>0.0077</td><td>0.0064</td><td>0.0065</td><td>0.007</td><td>2.03</td><td>3.5</td><td>3.96</td><td>2.172</td><td>2.087</td><td>46.6</td><td>1.041</td><td>0.039</td><td>0</td><td>1</td><td>15684</td></tr>\n",
       "<tr><td>310.216265</td><td>-1.205938</td><td>21.1728</td><td>21.1178</td><td>21.8743</td><td>21.2487</td><td>21.1403</td><td>21.143</td><td>0.0591</td><td>0.0657</td><td>0.0661</td><td>0.0538</td><td>0.0673</td><td>0.0886</td><td>2.412</td><td>20.0782</td><td>20.0574</td><td>20.7457</td><td>20.1811</td><td>20.0579</td><td>20.0775</td><td>0.0135</td><td>0.0146</td><td>0.0163</td><td>0.0132</td><td>0.0147</td><td>0.0182</td><td>2.333</td><td>19.5262</td><td>19.5109</td><td>20.1476</td><td>19.6213</td><td>19.5084</td><td>19.5023</td><td>0.0106</td><td>0.0115</td><td>0.0124</td><td>0.0102</td><td>0.0116</td><td>0.0141</td><td>2.24</td><td>19.0092</td><td>18.9904</td><td>19.7349</td><td>19.1118</td><td>18.992</td><td>18.9934</td><td>0.0098</td><td>0.0109</td><td>0.0118</td><td>0.0094</td><td>0.0109</td><td>0.0138</td><td>2.449</td><td>18.5851</td><td>18.5561</td><td>19.4518</td><td>18.7049</td><td>18.5578</td><td>18.55</td><td>0.0193</td><td>0.0217</td><td>0.0241</td><td>0.0183</td><td>0.0218</td><td>0.0281</td><td>2.694</td><td>3.5</td><td>4.62</td><td>2.448</td><td>1.857</td><td>-46.25</td><td>1.319</td><td>0.242</td><td>0</td><td>1</td><td>15685</td></tr>\n",
       "<tr><td>310.113938</td><td>-1.1521328</td><td>20.7223</td><td>20.717</td><td>21.5331</td><td>20.9108</td><td>20.7334</td><td>20.7624</td><td>0.05</td><td>0.0524</td><td>0.055</td><td>0.0439</td><td>0.0476</td><td>0.0573</td><td>2.611</td><td>18.753</td><td>18.7428</td><td>19.478</td><td>18.9359</td><td>18.7674</td><td>18.7318</td><td>0.0069</td><td>0.0069</td><td>0.0089</td><td>0.007</td><td>0.0068</td><td>0.007</td><td>2.441</td><td>17.8432</td><td>17.8289</td><td>18.5453</td><td>18.0458</td><td>17.8641</td><td>17.8159</td><td>0.0044</td><td>0.0045</td><td>0.0058</td><td>0.0046</td><td>0.0044</td><td>0.0045</td><td>2.389</td><td>17.4266</td><td>17.4039</td><td>18.1577</td><td>17.6669</td><td>17.454</td><td>17.3836</td><td>0.0043</td><td>0.0043</td><td>0.0055</td><td>0.0044</td><td>0.0042</td><td>0.0043</td><td>2.446</td><td>17.2214</td><td>17.2048</td><td>18.0319</td><td>17.4735</td><td>17.2395</td><td>17.1943</td><td>0.0093</td><td>0.0094</td><td>0.0118</td><td>0.0094</td><td>0.0091</td><td>0.0097</td><td>2.619</td><td>3.5</td><td>3.96</td><td>3.95</td><td>2.409</td><td>0.74</td><td>1.64</td><td>0.39</td><td>3</td><td>1</td><td>15686</td></tr>\n",
       "<tr><td>310.2915559</td><td>-1.0614033</td><td>22.724</td><td>22.8624</td><td>23.457</td><td>22.6807</td><td>22.7607</td><td>25.9668</td><td>0.2134</td><td>0.2789</td><td>0.1657</td><td>0.137</td><td>0.2436</td><td>6.5029</td><td>2.488</td><td>22.466</td><td>22.6024</td><td>22.7588</td><td>22.27</td><td>22.5444</td><td>23.5308</td><td>0.0809</td><td>0.1052</td><td>0.0481</td><td>0.0469</td><td>0.0956</td><td>0.3336</td><td>1.816</td><td>22.0084</td><td>21.9846</td><td>22.5991</td><td>22.0973</td><td>21.9484</td><td>21.8802</td><td>0.0703</td><td>0.0801</td><td>0.0485</td><td>0.0492</td><td>0.074</td><td>0.1005</td><td>2.186</td><td>21.4373</td><td>21.3158</td><td>22.3801</td><td>21.7861</td><td>21.3882</td><td>21.076</td><td>0.0673</td><td>0.0706</td><td>0.0566</td><td>0.0565</td><td>0.0716</td><td>0.0788</td><td>2.973</td><td>21.3341</td><td>21.4023</td><td>22.3577</td><td>21.5228</td><td>21.2847</td><td>21.2204</td><td>0.1889</td><td>0.2362</td><td>0.1562</td><td>0.1344</td><td>0.2021</td><td>0.2807</td><td>3.035</td><td>5.56</td><td>6.6</td><td>1.872</td><td>1.36</td><td>17.86</td><td>1.376</td><td>0.273</td><td>0</td><td>1</td><td>15687</td></tr>\n",
       "<tr><td>310.1195582</td><td>-1.0538516</td><td>23.0781</td><td>22.8302</td><td>23.7272</td><td>23.1788</td><td>22.7356</td><td>22.7545</td><td>0.1802</td><td>0.1799</td><td>0.1719</td><td>0.1598</td><td>0.1779</td><td>0.2516</td><td>2.289</td><td>20.4674</td><td>20.4466</td><td>21.011</td><td>20.535</td><td>20.4413</td><td>20.4639</td><td>0.0153</td><td>0.016</td><td>0.0182</td><td>0.0151</td><td>0.0164</td><td>0.0196</td><td>2.093</td><td>19.0161</td><td>18.9864</td><td>19.5077</td><td>19.0861</td><td>18.9823</td><td>18.9685</td><td>0.0074</td><td>0.0076</td><td>0.009</td><td>0.0075</td><td>0.0076</td><td>0.0083</td><td>1.995</td><td>18.294</td><td>18.2715</td><td>18.7409</td><td>18.3559</td><td>18.265</td><td>18.2557</td><td>0.0061</td><td>0.0062</td><td>0.0072</td><td>0.0061</td><td>0.0063</td><td>0.0069</td><td>1.916</td><td>17.8772</td><td>17.8452</td><td>18.3584</td><td>17.9437</td><td>17.8393</td><td>17.8255</td><td>0.0115</td><td>0.0119</td><td>0.0136</td><td>0.0115</td><td>0.012</td><td>0.0135</td><td>1.984</td><td>3.5</td><td>4.62</td><td>2.07</td><td>1.882</td><td>-51.41</td><td>1.1</td><td>0.091</td><td>0</td><td>1</td><td>15688</td></tr>\n",
       "<tr><td>310.3663153</td><td>-1.0129531</td><td>22.4102</td><td>22.4896</td><td>23.0333</td><td>22.5438</td><td>22.3984</td><td>22.275</td><td>0.1324</td><td>0.1707</td><td>0.1255</td><td>0.1219</td><td>0.174</td><td>0.2213</td><td>2.263</td><td>21.1929</td><td>21.1701</td><td>21.7129</td><td>21.2606</td><td>21.1871</td><td>21.3029</td><td>0.0259</td><td>0.0291</td><td>0.0266</td><td>0.0241</td><td>0.0317</td><td>0.0467</td><td>2.068</td><td>20.5173</td><td>20.4648</td><td>20.984</td><td>20.595</td><td>20.4682</td><td>20.4366</td><td>0.0188</td><td>0.0206</td><td>0.0189</td><td>0.0176</td><td>0.0222</td><td>0.0288</td><td>1.933</td><td>20.1338</td><td>20.1104</td><td>20.6514</td><td>20.1979</td><td>20.1173</td><td>20.1724</td><td>0.0199</td><td>0.023</td><td>0.0192</td><td>0.018</td><td>0.0251</td><td>0.0364</td><td>2.019</td><td>19.8079</td><td>19.756</td><td>20.4715</td><td>19.9392</td><td>19.7657</td><td>19.8082</td><td>0.0412</td><td>0.0472</td><td>0.0417</td><td>0.0385</td><td>0.0519</td><td>0.0752</td><td>2.323</td><td>3.5</td><td>4.62</td><td>2.179</td><td>1.71</td><td>86.6</td><td>1.274</td><td>0.215</td><td>2</td><td>1</td><td>15689</td></tr>\n",
       "<tr><td>310.3933532</td><td>-0.9488526</td><td>22.0891</td><td>22.0492</td><td>22.8759</td><td>22.2622</td><td>22.0882</td><td>21.9755</td><td>0.1021</td><td>0.1142</td><td>0.114</td><td>0.1</td><td>0.1249</td><td>0.149</td><td>2.584</td><td>20.5646</td><td>20.5064</td><td>21.1309</td><td>20.6462</td><td>20.4948</td><td>20.4231</td><td>0.0172</td><td>0.0179</td><td>0.0197</td><td>0.0168</td><td>0.0184</td><td>0.0209</td><td>2.187</td><td>19.8036</td><td>19.7437</td><td>20.3166</td><td>19.8958</td><td>19.7334</td><td>19.6467</td><td>0.0119</td><td>0.0123</td><td>0.0135</td><td>0.0118</td><td>0.0127</td><td>0.0141</td><td>2.058</td><td>19.4822</td><td>19.4168</td><td>19.9743</td><td>19.5791</td><td>19.4034</td><td>19.3179</td><td>0.0127</td><td>0.0134</td><td>0.0133</td><td>0.0123</td><td>0.0139</td><td>0.0161</td><td>1.999</td><td>19.3221</td><td>19.2762</td><td>19.8463</td><td>19.402</td><td>19.2443</td><td>19.1592</td><td>0.0289</td><td>0.0316</td><td>0.0294</td><td>0.0272</td><td>0.0325</td><td>0.0387</td><td>2.116</td><td>3.5</td><td>4.62</td><td>2.087</td><td>1.788</td><td>-86.36</td><td>1.167</td><td>0.143</td><td>3</td><td>1</td><td>15690</td></tr>\n",
       "<tr><td>310.098663</td><td>-0.919236</td><td>20.5924</td><td>20.5477</td><td>21.3307</td><td>20.7277</td><td>20.5248</td><td>20.4528</td><td>0.0408</td><td>0.0414</td><td>0.0496</td><td>0.0395</td><td>0.0426</td><td>0.0496</td><td>2.474</td><td>20.1151</td><td>20.0949</td><td>20.7755</td><td>20.2286</td><td>20.0848</td><td>20.0595</td><td>0.0138</td><td>0.0142</td><td>0.0165</td><td>0.0134</td><td>0.0146</td><td>0.0174</td><td>2.315</td><td>19.8507</td><td>19.826</td><td>20.4091</td><td>19.9485</td><td>19.8115</td><td>19.7553</td><td>0.0128</td><td>0.0132</td><td>0.0141</td><td>0.0121</td><td>0.0137</td><td>0.0164</td><td>2.111</td><td>19.6894</td><td>19.6633</td><td>20.212</td><td>19.7867</td><td>19.6527</td><td>19.6291</td><td>0.0155</td><td>0.0162</td><td>0.015</td><td>0.0137</td><td>0.0172</td><td>0.0223</td><td>2.033</td><td>19.6844</td><td>19.6584</td><td>20.2672</td><td>19.7926</td><td>19.6982</td><td>19.6673</td><td>0.0425</td><td>0.0455</td><td>0.0375</td><td>0.0356</td><td>0.051</td><td>0.0692</td><td>2.167</td><td>3.5</td><td>3.96</td><td>2.431</td><td>2.089</td><td>65.94</td><td>1.164</td><td>0.141</td><td>0</td><td>1</td><td>15691</td></tr>\n",
       "<tr><td>310.4465418</td><td>-0.7544508</td><td>20.2464</td><td>20.2469</td><td>21.0085</td><td>20.4318</td><td>20.2461</td><td>20.1854</td><td>0.0359</td><td>0.0373</td><td>0.0425</td><td>0.0341</td><td>0.036</td><td>0.0395</td><td>2.527</td><td>19.0596</td><td>19.0401</td><td>19.844</td><td>19.2703</td><td>19.0572</td><td>19.0045</td><td>0.008</td><td>0.008</td><td>0.0105</td><td>0.0082</td><td>0.008</td><td>0.0083</td><td>2.576</td><td>18.6538</td><td>18.6341</td><td>19.2952</td><td>18.8388</td><td>18.6505</td><td>18.5972</td><td>0.0068</td><td>0.0069</td><td>0.0082</td><td>0.0068</td><td>0.0068</td><td>0.0071</td><td>2.241</td><td>18.3781</td><td>18.3465</td><td>19.0756</td><td>18.6162</td><td>18.3761</td><td>18.2814</td><td>0.0072</td><td>0.0073</td><td>0.0085</td><td>0.0072</td><td>0.0072</td><td>0.0077</td><td>2.362</td><td>18.3437</td><td>18.3356</td><td>19.0395</td><td>18.5539</td><td>18.345</td><td>18.3156</td><td>0.0183</td><td>0.0192</td><td>0.0194</td><td>0.0167</td><td>0.0184</td><td>0.0214</td><td>2.37</td><td>3.5</td><td>3.96</td><td>2.972</td><td>2.615</td><td>-1.71</td><td>1.136</td><td>0.12</td><td>3</td><td>1</td><td>15692</td></tr>\n",
       "<tr><td>310.3459376</td><td>-0.8299071</td><td>21.5851</td><td>21.4864</td><td>22.3026</td><td>21.7294</td><td>21.506</td><td>21.4154</td><td>0.0734</td><td>0.0791</td><td>0.0827</td><td>0.0714</td><td>0.0863</td><td>0.1072</td><td>2.435</td><td>20.0233</td><td>19.9932</td><td>20.6048</td><td>20.1017</td><td>19.986</td><td>19.9784</td><td>0.0125</td><td>0.0132</td><td>0.0151</td><td>0.0125</td><td>0.0136</td><td>0.0161</td><td>2.174</td><td>19.3779</td><td>19.3464</td><td>19.8687</td><td>19.4474</td><td>19.3368</td><td>19.322</td><td>0.0093</td><td>0.0097</td><td>0.0108</td><td>0.0092</td><td>0.01</td><td>0.0118</td><td>1.988</td><td>19.1819</td><td>19.1611</td><td>19.6207</td><td>19.2354</td><td>19.1579</td><td>19.1623</td><td>0.0103</td><td>0.0112</td><td>0.0111</td><td>0.0099</td><td>0.0118</td><td>0.0148</td><td>1.891</td><td>19.0596</td><td>19.0463</td><td>19.5351</td><td>19.1145</td><td>19.0354</td><td>19.0968</td><td>0.024</td><td>0.0271</td><td>0.0247</td><td>0.0225</td><td>0.0288</td><td>0.0399</td><td>1.973</td><td>3.5</td><td>4.62</td><td>2.072</td><td>1.792</td><td>-21.82</td><td>1.156</td><td>0.135</td><td>2</td><td>1</td><td>15693</td></tr>\n",
       "</table>"
      ],
      "text/plain": [
       "<Table masked=True length=15694>\n",
       "ALPHA_J2000 DELTA_J2000 MAG_AUTO_u ... FLAGS sdss_stellarity sdss_iac_id\n",
       "    deg         deg        mag     ...                                  \n",
       "  float64     float64    float64   ... int64      int32         int32   \n",
       "----------- ----------- ---------- ... ----- --------------- -----------\n",
       " 310.089107  -1.2355282    22.7462 ...     3               0           0\n",
       "310.4277744   -1.240878    21.8127 ...     0               0           1\n",
       "310.3773283  -1.2421887    21.1581 ...     3               0           2\n",
       "310.3473479  -1.2436515    20.9496 ...     0               0           3\n",
       "310.2980108  -1.2450647     21.607 ...     3               0           4\n",
       "310.1278317  -1.2453766    23.3106 ...     0               0           5\n",
       "310.3637914  -1.2472287    22.9821 ...     0               0           6\n",
       "310.2891375  -1.2472456    23.2258 ...     3               0           7\n",
       "310.2111772  -1.2472397    23.6669 ...     0               0           8\n",
       "        ...         ...        ... ...   ...             ...         ...\n",
       "310.2661186  -1.2133282    22.2043 ...     0               1       15684\n",
       " 310.216265   -1.205938    21.1728 ...     0               1       15685\n",
       " 310.113938  -1.1521328    20.7223 ...     3               1       15686\n",
       "310.2915559  -1.0614033     22.724 ...     0               1       15687\n",
       "310.1195582  -1.0538516    23.0781 ...     0               1       15688\n",
       "310.3663153  -1.0129531    22.4102 ...     2               1       15689\n",
       "310.3933532  -0.9488526    22.0891 ...     3               1       15690\n",
       " 310.098663   -0.919236    20.5924 ...     0               1       15691\n",
       "310.4465418  -0.7544508    20.2464 ...     3               1       15692\n",
       "310.3459376  -0.8299071    21.5851 ...     2               1       15693"
      ]
     },
     "execution_count": 11,
     "metadata": {},
     "output_type": "execute_result"
    }
   ],
   "source": [
    "full_cat[full_cat.colnames]"
   ]
  },
  {
   "cell_type": "code",
   "execution_count": 12,
   "metadata": {},
   "outputs": [],
   "source": [
    "cols = full_cat.colnames\n",
    "\n",
    "cols.insert(0, cols.pop(cols.index('sdss_iac_id')))\n"
   ]
  },
  {
   "cell_type": "code",
   "execution_count": 13,
   "metadata": {},
   "outputs": [],
   "source": [
    "full_cat[cols].write('./data/IAC-SDSS_Herschel-Stripe-82_full.fits', overwrite=True)"
   ]
  }
 ],
 "metadata": {
  "anaconda-cloud": {},
  "kernelspec": {
   "display_name": "Python (herschelhelp_internal)",
   "language": "python",
   "name": "helpint"
  },
  "language_info": {
   "codemirror_mode": {
    "name": "ipython",
    "version": 3
   },
   "file_extension": ".py",
   "mimetype": "text/x-python",
   "name": "python",
   "nbconvert_exporter": "python",
   "pygments_lexer": "ipython3",
   "version": "3.6.5"
  }
 },
 "nbformat": 4,
 "nbformat_minor": 2
}
