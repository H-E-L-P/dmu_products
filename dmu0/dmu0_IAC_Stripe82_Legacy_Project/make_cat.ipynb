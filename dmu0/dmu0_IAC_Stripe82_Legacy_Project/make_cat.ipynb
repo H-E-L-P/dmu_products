{
 "cells": [
  {
   "cell_type": "markdown",
   "metadata": {},
   "source": [
    "# DMU0: IAC SDSS S82 extraction\n",
    "\n",
    "The original extraction was missing objects below RA=0. In this notebook we combine the individual catalogues that were downloaded from ftp.iac.es and also available from http://www.iac.es/proyecto/stripe82/pages/data.php into one full catalogue to be used here and uploaded to CDS."
   ]
  },
  {
   "cell_type": "code",
   "execution_count": 1,
   "metadata": {},
   "outputs": [
    {
     "name": "stdout",
     "output_type": "stream",
     "text": [
      "This notebook was run with herschelhelp_internal version: \n",
      "017bb1e (Mon Jun 18 14:58:59 2018 +0100)\n",
      "This notebook was executed on: \n",
      "2018-09-21 18:05:43.317551\n"
     ]
    }
   ],
   "source": [
    "from herschelhelp_internal import git_version\n",
    "print(\"This notebook was run with herschelhelp_internal version: \\n{}\".format(git_version()))\n",
    "import datetime\n",
    "print(\"This notebook was executed on: \\n{}\".format(datetime.datetime.now()))"
   ]
  },
  {
   "cell_type": "code",
   "execution_count": 2,
   "metadata": {},
   "outputs": [],
   "source": [
    "%matplotlib inline\n",
    "#%config InlineBackend.figure_format = 'svg'\n",
    "\n",
    "import matplotlib.pyplot as plt\n",
    "plt.rc('figure', figsize=(10, 6))\n",
    "\n",
    "import os\n",
    "import time\n",
    "\n",
    "from astropy import units as u\n",
    "from astropy.coordinates import SkyCoord\n",
    "from astropy.table import Column, Table, vstack, join\n",
    "import numpy as np\n",
    "from pymoc import MOC\n",
    "\n",
    "import glob"
   ]
  },
  {
   "cell_type": "markdown",
   "metadata": {},
   "source": [
    "## I - Get list of files\n",
    "Merge stars and galaxies into one table"
   ]
  },
  {
   "cell_type": "code",
   "execution_count": 3,
   "metadata": {},
   "outputs": [
    {
     "data": {
      "text/plain": [
       "['./data/tiles/f0295_ps.cat',\n",
       " './data/tiles/f0312_gal.cat',\n",
       " './data/tiles/f0914_ps.cat',\n",
       " './data/tiles/f2012_ps.cat',\n",
       " './data/tiles/f1101_gal.cat',\n",
       " './data/tiles/f1464_ps.cat',\n",
       " './data/tiles/f1243_ps.cat',\n",
       " './data/tiles/f1633_gal.cat',\n",
       " './data/tiles/f2121_gal.cat',\n",
       " './data/tiles/f1714_gal.cat']"
      ]
     },
     "execution_count": 3,
     "metadata": {},
     "output_type": "execute_result"
    }
   ],
   "source": [
    "file_list = glob.glob('./data/tiles/*.cat')\n",
    "file_list[:10]"
   ]
  },
  {
   "cell_type": "code",
   "execution_count": 4,
   "metadata": {},
   "outputs": [],
   "source": [
    "\n",
    "test_gal = Table.read('./data/tiles/f0011_gal.cat', format='ascii')\n",
    "test_star = Table.read('./data/tiles/f0011_ps.cat', format='ascii')"
   ]
  },
  {
   "cell_type": "code",
   "execution_count": 5,
   "metadata": {},
   "outputs": [
    {
     "data": {
      "text/html": [
       "<i>Table length=10</i>\n",
       "<table id=\"table139677188276520\" class=\"table-striped table-bordered table-condensed\">\n",
       "<thead><tr><th>col1</th><th>col2</th><th>col3</th><th>col4</th><th>col5</th><th>col6</th><th>col7</th><th>col8</th><th>col9</th><th>col10</th><th>col11</th><th>col12</th><th>col13</th><th>col14</th><th>col15</th><th>col16</th><th>col17</th><th>col18</th><th>col19</th><th>col20</th><th>col21</th><th>col22</th><th>col23</th><th>col24</th><th>col25</th><th>col26</th><th>col27</th><th>col28</th><th>col29</th><th>col30</th><th>col31</th><th>col32</th><th>col33</th><th>col34</th><th>col35</th><th>col36</th><th>col37</th><th>col38</th><th>col39</th><th>col40</th><th>col41</th><th>col42</th><th>col43</th><th>col44</th><th>col45</th><th>col46</th><th>col47</th><th>col48</th><th>col49</th><th>col50</th><th>col51</th><th>col52</th><th>col53</th><th>col54</th><th>col55</th><th>col56</th><th>col57</th><th>col58</th><th>col59</th><th>col60</th><th>col61</th><th>col62</th><th>col63</th><th>col64</th><th>col65</th><th>col66</th><th>col67</th><th>col68</th><th>col69</th><th>col70</th><th>col71</th><th>col72</th><th>col73</th><th>col74</th><th>col75</th></tr></thead>\n",
       "<thead><tr><th>float64</th><th>float64</th><th>float64</th><th>float64</th><th>float64</th><th>float64</th><th>float64</th><th>float64</th><th>float64</th><th>float64</th><th>float64</th><th>float64</th><th>float64</th><th>float64</th><th>float64</th><th>float64</th><th>float64</th><th>float64</th><th>float64</th><th>float64</th><th>float64</th><th>float64</th><th>float64</th><th>float64</th><th>float64</th><th>float64</th><th>float64</th><th>float64</th><th>float64</th><th>float64</th><th>float64</th><th>float64</th><th>float64</th><th>float64</th><th>float64</th><th>float64</th><th>float64</th><th>float64</th><th>float64</th><th>float64</th><th>float64</th><th>float64</th><th>float64</th><th>float64</th><th>float64</th><th>float64</th><th>float64</th><th>float64</th><th>float64</th><th>float64</th><th>float64</th><th>float64</th><th>float64</th><th>float64</th><th>float64</th><th>float64</th><th>float64</th><th>float64</th><th>float64</th><th>float64</th><th>float64</th><th>float64</th><th>float64</th><th>float64</th><th>float64</th><th>float64</th><th>float64</th><th>float64</th><th>float64</th><th>float64</th><th>float64</th><th>float64</th><th>float64</th><th>float64</th><th>int64</th></tr></thead>\n",
       "<tr><td>310.089107</td><td>-1.2355282</td><td>22.7462</td><td>23.1497</td><td>24.375</td><td>23.3181</td><td>22.8383</td><td>22.858</td><td>0.3598</td><td>0.7628</td><td>0.3202</td><td>0.2261</td><td>0.2654</td><td>0.3903</td><td>4.348</td><td>20.6771</td><td>20.7329</td><td>22.4156</td><td>21.5</td><td>20.8421</td><td>20.7255</td><td>0.029</td><td>0.0418</td><td>0.0394</td><td>0.0281</td><td>0.025</td><td>0.0297</td><td>5.364</td><td>19.1425</td><td>19.1395</td><td>20.7003</td><td>19.8245</td><td>19.2839</td><td>19.1504</td><td>0.0109</td><td>0.014</td><td>0.0164</td><td>0.0114</td><td>0.01</td><td>0.0109</td><td>4.655</td><td>18.5251</td><td>18.5078</td><td>20.0178</td><td>19.1803</td><td>18.6769</td><td>18.531</td><td>0.01</td><td>0.0129</td><td>0.0137</td><td>0.0098</td><td>0.009</td><td>0.0099</td><td>4.514</td><td>18.2026</td><td>18.233</td><td>19.6292</td><td>18.7985</td><td>18.3173</td><td>18.21</td><td>0.0219</td><td>0.0303</td><td>0.0265</td><td>0.0193</td><td>0.0185</td><td>0.0217</td><td>4.232</td><td>3.5</td><td>5.28</td><td>5.192</td><td>3.678</td><td>-51.25</td><td>1.412</td><td>0.292</td><td>3</td></tr>\n",
       "<tr><td>310.4277744</td><td>-1.240878</td><td>21.8127</td><td>21.7347</td><td>23.798</td><td>22.5158</td><td>21.8657</td><td>21.8246</td><td>0.1373</td><td>0.1644</td><td>0.209</td><td>0.1223</td><td>0.1167</td><td>0.1554</td><td>4.82</td><td>21.1949</td><td>21.1898</td><td>22.8877</td><td>21.7903</td><td>21.2244</td><td>21.1757</td><td>0.0386</td><td>0.0485</td><td>0.0522</td><td>0.0338</td><td>0.0328</td><td>0.0422</td><td>4.448</td><td>20.1127</td><td>20.1094</td><td>21.6674</td><td>20.654</td><td>20.1563</td><td>20.1062</td><td>0.0204</td><td>0.0251</td><td>0.0275</td><td>0.0184</td><td>0.0179</td><td>0.0223</td><td>4.207</td><td>19.749</td><td>19.7513</td><td>21.2348</td><td>20.262</td><td>19.79</td><td>19.7478</td><td>0.0231</td><td>0.0294</td><td>0.027</td><td>0.0189</td><td>0.0197</td><td>0.0257</td><td>4.072</td><td>19.6494</td><td>19.7808</td><td>20.9912</td><td>20.0667</td><td>19.6546</td><td>19.6937</td><td>0.062</td><td>0.0898</td><td>0.0588</td><td>0.0436</td><td>0.0501</td><td>0.0724</td><td>3.716</td><td>3.93</td><td>5.28</td><td>3.672</td><td>3.002</td><td>-13.12</td><td>1.223</td><td>0.182</td><td>0</td></tr>\n",
       "<tr><td>310.3773283</td><td>-1.2421887</td><td>21.1581</td><td>20.6522</td><td>23.2656</td><td>22.2165</td><td>21.4613</td><td>21.0663</td><td>0.0833</td><td>0.0907</td><td>0.1464</td><td>0.0988</td><td>0.0847</td><td>0.0824</td><td>6.566</td><td>20.5964</td><td>20.7456</td><td>22.2701</td><td>21.3078</td><td>20.7641</td><td>20.5813</td><td>0.0246</td><td>0.0454</td><td>0.0359</td><td>0.0246</td><td>0.0231</td><td>0.0257</td><td>4.794</td><td>20.1955</td><td>20.2528</td><td>21.8629</td><td>20.9056</td><td>20.3452</td><td>20.1907</td><td>0.0222</td><td>0.0389</td><td>0.0307</td><td>0.0213</td><td>0.0203</td><td>0.0235</td><td>4.8</td><td>19.8286</td><td>19.7923</td><td>21.5589</td><td>20.5944</td><td>20.0465</td><td>19.7964</td><td>0.0253</td><td>0.0425</td><td>0.0328</td><td>0.0234</td><td>0.0238</td><td>0.0264</td><td>5.061</td><td>19.645</td><td>19.8544</td><td>21.5127</td><td>20.525</td><td>19.8841</td><td>19.6068</td><td>0.0632</td><td>0.136</td><td>0.0825</td><td>0.06</td><td>0.0594</td><td>0.0658</td><td>5.568</td><td>3.52</td><td>6.6</td><td>4.257</td><td>3.632</td><td>65.66</td><td>1.172</td><td>0.147</td><td>3</td></tr>\n",
       "<tr><td>310.3473479</td><td>-1.2436515</td><td>20.9496</td><td>20.8676</td><td>23.1745</td><td>22.0697</td><td>21.3915</td><td>21.1149</td><td>0.0764</td><td>0.0886</td><td>0.1383</td><td>0.0895</td><td>0.0803</td><td>0.0856</td><td>7.436</td><td>19.5446</td><td>19.5233</td><td>21.3457</td><td>20.3725</td><td>19.8175</td><td>19.627</td><td>0.0124</td><td>0.0141</td><td>0.022</td><td>0.0145</td><td>0.0125</td><td>0.0129</td><td>5.391</td><td>18.541</td><td>18.5247</td><td>20.1045</td><td>19.2372</td><td>18.7668</td><td>18.6024</td><td>0.0073</td><td>0.0082</td><td>0.0121</td><td>0.0083</td><td>0.0073</td><td>0.0075</td><td>4.715</td><td>17.9975</td><td>17.9639</td><td>19.4694</td><td>18.6569</td><td>18.22</td><td>18.0607</td><td>0.0068</td><td>0.0077</td><td>0.0103</td><td>0.0073</td><td>0.0067</td><td>0.007</td><td>4.517</td><td>17.6516</td><td>17.6439</td><td>19.0806</td><td>18.2626</td><td>17.8474</td><td>17.7041</td><td>0.0142</td><td>0.0167</td><td>0.0198</td><td>0.0142</td><td>0.0133</td><td>0.0145</td><td>4.267</td><td>3.5</td><td>4.62</td><td>7.278</td><td>2.653</td><td>-43.49</td><td>2.743</td><td>0.635</td><td>0</td></tr>\n",
       "<tr><td>310.2980108</td><td>-1.2450647</td><td>21.607</td><td>21.4455</td><td>22.5854</td><td>21.8443</td><td>21.6392</td><td>21.6538</td><td>0.1661</td><td>0.271</td><td>0.0972</td><td>0.0772</td><td>0.0971</td><td>0.1339</td><td>2.899</td><td>20.1728</td><td>20.0293</td><td>21.4897</td><td>20.7411</td><td>20.4794</td><td>20.3217</td><td>0.0237</td><td>0.0366</td><td>0.0237</td><td>0.0179</td><td>0.0193</td><td>0.0217</td><td>3.894</td><td>19.5099</td><td>19.4089</td><td>20.7507</td><td>20.113</td><td>19.8271</td><td>19.6646</td><td>0.0173</td><td>0.0278</td><td>0.0168</td><td>0.0134</td><td>0.0143</td><td>0.016</td><td>3.939</td><td>19.121</td><td>19.1886</td><td>20.4609</td><td>19.8242</td><td>19.4339</td><td>19.2395</td><td>0.0191</td><td>0.0366</td><td>0.0173</td><td>0.0142</td><td>0.015</td><td>0.0168</td><td>4.589</td><td>18.9867</td><td>19.4636</td><td>20.3576</td><td>19.7081</td><td>19.2606</td><td>19.1228</td><td>0.051</td><td>0.1467</td><td>0.0397</td><td>0.034</td><td>0.0367</td><td>0.0447</td><td>4.693</td><td>3.68</td><td>7.26</td><td>6.386</td><td>4.705</td><td>-45.82</td><td>1.357</td><td>0.263</td><td>3</td></tr>\n",
       "<tr><td>310.1278317</td><td>-1.2453766</td><td>23.3106</td><td>23.2471</td><td>25.3441</td><td>23.6817</td><td>23.0434</td><td>22.7421</td><td>0.2596</td><td>0.3516</td><td>0.6795</td><td>0.2982</td><td>0.3114</td><td>0.3461</td><td>4.262</td><td>23.331</td><td>23.5734</td><td>24.214</td><td>23.4347</td><td>23.7548</td><td>24.6025</td><td>0.1259</td><td>0.2256</td><td>0.1305</td><td>0.1157</td><td>0.2815</td><td>0.9035</td><td>2.704</td><td>22.5988</td><td>22.5364</td><td>23.3221</td><td>22.6574</td><td>22.5755</td><td>22.8836</td><td>0.0846</td><td>0.1149</td><td>0.0791</td><td>0.0753</td><td>0.1259</td><td>0.2439</td><td>2.458</td><td>22.098</td><td>22.0664</td><td>22.7518</td><td>22.1337</td><td>22.074</td><td>22.4858</td><td>0.0868</td><td>0.1229</td><td>0.0744</td><td>0.0751</td><td>0.1313</td><td>0.2821</td><td>2.344</td><td>22.1788</td><td>21.8543</td><td>22.4306</td><td>22.0819</td><td>21.9869</td><td>24.6571</td><td>0.2878</td><td>0.3193</td><td>0.1665</td><td>0.2182</td><td>0.3824</td><td>6.5898</td><td>1.737</td><td>3.5</td><td>5.28</td><td>1.933</td><td>1.632</td><td>27.02</td><td>1.185</td><td>0.156</td><td>0</td></tr>\n",
       "<tr><td>310.3637914</td><td>-1.2472287</td><td>22.9821</td><td>22.8577</td><td>24.6088</td><td>23.5059</td><td>23.007</td><td>22.8343</td><td>0.2469</td><td>0.3547</td><td>0.383</td><td>0.2631</td><td>0.307</td><td>0.3822</td><td>3.967</td><td>22.225</td><td>22.5054</td><td>23.4052</td><td>22.5159</td><td>22.2627</td><td>22.5185</td><td>0.0608</td><td>0.1203</td><td>0.0724</td><td>0.0557</td><td>0.0749</td><td>0.1338</td><td>3.336</td><td>21.0813</td><td>21.1006</td><td>21.9346</td><td>21.2856</td><td>21.0696</td><td>21.0907</td><td>0.0307</td><td>0.0465</td><td>0.0321</td><td>0.0275</td><td>0.0357</td><td>0.0503</td><td>2.715</td><td>20.1607</td><td>20.1596</td><td>20.925</td><td>20.3568</td><td>20.1534</td><td>20.2078</td><td>0.0223</td><td>0.033</td><td>0.0224</td><td>0.02</td><td>0.0259</td><td>0.0374</td><td>2.535</td><td>19.7615</td><td>19.7994</td><td>20.4276</td><td>19.8861</td><td>19.7794</td><td>19.8618</td><td>0.0455</td><td>0.0713</td><td>0.0411</td><td>0.0379</td><td>0.0545</td><td>0.0823</td><td>2.315</td><td>3.5</td><td>5.94</td><td>2.755</td><td>1.888</td><td>-23.77</td><td>1.459</td><td>0.315</td><td>0</td></tr>\n",
       "<tr><td>310.2891375</td><td>-1.2472456</td><td>23.2258</td><td>23.1728</td><td>24.2551</td><td>23.389</td><td>22.9744</td><td>23.482</td><td>0.4581</td><td>0.5686</td><td>0.2919</td><td>0.2398</td><td>0.2962</td><td>0.6806</td><td>2.96</td><td>22.0734</td><td>22.1471</td><td>23.3574</td><td>22.4656</td><td>22.1238</td><td>22.1305</td><td>0.0787</td><td>0.1075</td><td>0.0707</td><td>0.0545</td><td>0.0675</td><td>0.0964</td><td>3.521</td><td>20.7921</td><td>20.686</td><td>22.069</td><td>21.2065</td><td>20.8365</td><td>20.7339</td><td>0.0343</td><td>0.0393</td><td>0.035</td><td>0.0263</td><td>0.0299</td><td>0.0376</td><td>3.627</td><td>19.9822</td><td>19.873</td><td>21.2539</td><td>20.4079</td><td>20.0316</td><td>19.93</td><td>0.0267</td><td>0.0306</td><td>0.0271</td><td>0.0207</td><td>0.0234</td><td>0.0294</td><td>3.646</td><td>19.4105</td><td>19.3525</td><td>20.8752</td><td>20.0434</td><td>19.564</td><td>19.3864</td><td>0.049</td><td>0.0589</td><td>0.0545</td><td>0.0429</td><td>0.0463</td><td>0.0555</td><td>4.354</td><td>4.5</td><td>5.94</td><td>2.993</td><td>2.622</td><td>40.65</td><td>1.142</td><td>0.124</td><td>3</td></tr>\n",
       "<tr><td>310.2111772</td><td>-1.2472397</td><td>23.6669</td><td>23.6513</td><td>24.9287</td><td>23.9817</td><td>23.2167</td><td>24.0539</td><td>0.378</td><td>0.5447</td><td>0.485</td><td>0.3825</td><td>0.3611</td><td>1.1245</td><td>3.527</td><td>23.1372</td><td>23.0819</td><td>24.048</td><td>23.2192</td><td>23.0711</td><td>23.4387</td><td>0.1153</td><td>0.1589</td><td>0.1154</td><td>0.0972</td><td>0.1532</td><td>0.3124</td><td>2.748</td><td>22.2373</td><td>22.2481</td><td>23.2441</td><td>22.3792</td><td>22.2296</td><td>22.6741</td><td>0.0668</td><td>0.0959</td><td>0.0744</td><td>0.0599</td><td>0.092</td><td>0.1995</td><td>2.922</td><td>22.3379</td><td>22.3337</td><td>23.108</td><td>22.449</td><td>22.4436</td><td>22.5266</td><td>0.1139</td><td>0.1672</td><td>0.0969</td><td>0.0965</td><td>0.1796</td><td>0.2867</td><td>2.536</td><td>22.8417</td><td>22.0175</td><td>23.6046</td><td>22.4794</td><td>22.2736</td><td>22.0898</td><td>0.5529</td><td>0.3936</td><td>0.4316</td><td>0.3003</td><td>0.4826</td><td>0.607</td><td>2.557</td><td>3.5</td><td>5.28</td><td>2.722</td><td>1.393</td><td>-50.81</td><td>1.954</td><td>0.488</td><td>0</td></tr>\n",
       "<tr><td>310.464261</td><td>-1.2476627</td><td>23.8785</td><td>24.3407</td><td>24.4548</td><td>23.5792</td><td>23.5797</td><td>25.1267</td><td>0.4809</td><td>1.1403</td><td>0.3349</td><td>0.2742</td><td>0.4971</td><td>2.9988</td><td>2.236</td><td>23.3489</td><td>23.6365</td><td>24.3295</td><td>23.5624</td><td>23.3996</td><td>23.439</td><td>0.1419</td><td>0.2836</td><td>0.1395</td><td>0.1252</td><td>0.1986</td><td>0.3026</td><td>2.89</td><td>22.7361</td><td>22.9859</td><td>23.7897</td><td>22.9324</td><td>22.7585</td><td>22.9193</td><td>0.1075</td><td>0.2079</td><td>0.1117</td><td>0.0935</td><td>0.147</td><td>0.2506</td><td>3.024</td><td>22.2007</td><td>22.0462</td><td>23.1071</td><td>22.334</td><td>22.1486</td><td>22.283</td><td>0.1105</td><td>0.1502</td><td>0.099</td><td>0.09</td><td>0.1424</td><td>0.238</td><td>2.76</td><td>21.7656</td><td>21.8856</td><td>22.9558</td><td>22.2185</td><td>21.7046</td><td>21.9959</td><td>0.2288</td><td>0.401</td><td>0.2535</td><td>0.2438</td><td>0.2939</td><td>0.5678</td><td>3.554</td><td>3.66</td><td>5.94</td><td>2.506</td><td>1.538</td><td>76.12</td><td>1.63</td><td>0.386</td><td>0</td></tr>\n",
       "</table>"
      ],
      "text/plain": [
       "<Table length=10>\n",
       "    col1       col2      col3    col4    col5  ...  col72   col73   col74  col75\n",
       "  float64    float64   float64 float64 float64 ... float64 float64 float64 int64\n",
       "----------- ---------- ------- ------- ------- ... ------- ------- ------- -----\n",
       " 310.089107 -1.2355282 22.7462 23.1497  24.375 ...  -51.25   1.412   0.292     3\n",
       "310.4277744  -1.240878 21.8127 21.7347  23.798 ...  -13.12   1.223   0.182     0\n",
       "310.3773283 -1.2421887 21.1581 20.6522 23.2656 ...   65.66   1.172   0.147     3\n",
       "310.3473479 -1.2436515 20.9496 20.8676 23.1745 ...  -43.49   2.743   0.635     0\n",
       "310.2980108 -1.2450647  21.607 21.4455 22.5854 ...  -45.82   1.357   0.263     3\n",
       "310.1278317 -1.2453766 23.3106 23.2471 25.3441 ...   27.02   1.185   0.156     0\n",
       "310.3637914 -1.2472287 22.9821 22.8577 24.6088 ...  -23.77   1.459   0.315     0\n",
       "310.2891375 -1.2472456 23.2258 23.1728 24.2551 ...   40.65   1.142   0.124     3\n",
       "310.2111772 -1.2472397 23.6669 23.6513 24.9287 ...  -50.81   1.954   0.488     0\n",
       " 310.464261 -1.2476627 23.8785 24.3407 24.4548 ...   76.12    1.63   0.386     0"
      ]
     },
     "execution_count": 5,
     "metadata": {},
     "output_type": "execute_result"
    }
   ],
   "source": [
    "test_gal[:10]"
   ]
  },
  {
   "cell_type": "code",
   "execution_count": 6,
   "metadata": {},
   "outputs": [
    {
     "data": {
      "text/html": [
       "<i>Table length=10</i>\n",
       "<table id=\"table139675644734544\" class=\"table-striped table-bordered table-condensed\">\n",
       "<thead><tr><th>col1</th><th>col2</th><th>col3</th><th>col4</th><th>col5</th><th>col6</th><th>col7</th><th>col8</th><th>col9</th><th>col10</th><th>col11</th><th>col12</th><th>col13</th><th>col14</th><th>col15</th><th>col16</th><th>col17</th><th>col18</th><th>col19</th><th>col20</th><th>col21</th><th>col22</th><th>col23</th><th>col24</th><th>col25</th><th>col26</th><th>col27</th><th>col28</th><th>col29</th><th>col30</th><th>col31</th><th>col32</th><th>col33</th><th>col34</th><th>col35</th><th>col36</th><th>col37</th><th>col38</th><th>col39</th><th>col40</th><th>col41</th><th>col42</th><th>col43</th><th>col44</th><th>col45</th><th>col46</th><th>col47</th><th>col48</th><th>col49</th><th>col50</th><th>col51</th><th>col52</th><th>col53</th><th>col54</th><th>col55</th><th>col56</th><th>col57</th><th>col58</th><th>col59</th><th>col60</th><th>col61</th><th>col62</th><th>col63</th><th>col64</th><th>col65</th><th>col66</th><th>col67</th><th>col68</th><th>col69</th><th>col70</th><th>col71</th><th>col72</th><th>col73</th><th>col74</th><th>col75</th></tr></thead>\n",
       "<thead><tr><th>float64</th><th>float64</th><th>float64</th><th>float64</th><th>float64</th><th>float64</th><th>float64</th><th>float64</th><th>float64</th><th>float64</th><th>float64</th><th>float64</th><th>float64</th><th>float64</th><th>float64</th><th>float64</th><th>float64</th><th>float64</th><th>float64</th><th>float64</th><th>float64</th><th>float64</th><th>float64</th><th>float64</th><th>float64</th><th>float64</th><th>float64</th><th>float64</th><th>float64</th><th>float64</th><th>float64</th><th>float64</th><th>float64</th><th>float64</th><th>float64</th><th>float64</th><th>float64</th><th>float64</th><th>float64</th><th>float64</th><th>float64</th><th>float64</th><th>float64</th><th>float64</th><th>float64</th><th>float64</th><th>float64</th><th>float64</th><th>float64</th><th>float64</th><th>float64</th><th>float64</th><th>float64</th><th>float64</th><th>float64</th><th>float64</th><th>float64</th><th>float64</th><th>float64</th><th>float64</th><th>float64</th><th>float64</th><th>float64</th><th>float64</th><th>float64</th><th>float64</th><th>float64</th><th>float64</th><th>float64</th><th>float64</th><th>float64</th><th>float64</th><th>float64</th><th>float64</th><th>int64</th></tr></thead>\n",
       "<tr><td>310.0406973</td><td>-1.2388384</td><td>18.8416</td><td>18.8416</td><td>19.5305</td><td>18.9745</td><td>18.8274</td><td>18.7964</td><td>0.016</td><td>0.016</td><td>0.0209</td><td>0.0164</td><td>0.0161</td><td>0.0171</td><td>2.376</td><td>16.8871</td><td>16.8871</td><td>17.4646</td><td>16.9879</td><td>16.878</td><td>16.8573</td><td>0.0027</td><td>0.0027</td><td>0.0035</td><td>0.0028</td><td>0.0027</td><td>0.0027</td><td>2.145</td><td>16.1335</td><td>16.1335</td><td>16.6253</td><td>16.226</td><td>16.1239</td><td>16.101</td><td>0.0019</td><td>0.0019</td><td>0.0024</td><td>0.002</td><td>0.0019</td><td>0.0019</td><td>1.964</td><td>15.8372</td><td>15.8372</td><td>16.2734</td><td>15.9237</td><td>15.8279</td><td>15.8038</td><td>0.0019</td><td>0.0019</td><td>0.0023</td><td>0.0019</td><td>0.0019</td><td>0.0019</td><td>1.853</td><td>15.6703</td><td>15.6703</td><td>16.1325</td><td>15.7615</td><td>15.6608</td><td>15.6401</td><td>0.004</td><td>0.004</td><td>0.0048</td><td>0.0041</td><td>0.004</td><td>0.0042</td><td>1.919</td><td>3.5</td><td>3.5</td><td>2.574</td><td>2.509</td><td>54.91</td><td>1.026</td><td>0.025</td><td>2</td></tr>\n",
       "<tr><td>310.4340371</td><td>-1.2408615</td><td>16.0954</td><td>16.0954</td><td>16.8229</td><td>16.234</td><td>16.0964</td><td>16.0726</td><td>0.0043</td><td>0.0043</td><td>0.006</td><td>0.0046</td><td>0.0043</td><td>0.0043</td><td>2.455</td><td>14.6855</td><td>14.6855</td><td>15.2957</td><td>14.7986</td><td>14.6862</td><td>14.6661</td><td>0.001</td><td>0.001</td><td>0.0013</td><td>0.001</td><td>0.001</td><td>0.001</td><td>2.223</td><td>14.2378</td><td>14.2378</td><td>14.7416</td><td>14.3367</td><td>14.2388</td><td>14.2174</td><td>0.0008</td><td>0.0008</td><td>0.001</td><td>0.0008</td><td>0.0008</td><td>0.0008</td><td>2.002</td><td>14.06</td><td>14.06</td><td>14.5014</td><td>14.1524</td><td>14.0609</td><td>14.0368</td><td>0.0008</td><td>0.0008</td><td>0.001</td><td>0.0009</td><td>0.0008</td><td>0.0008</td><td>1.88</td><td>13.9569</td><td>13.9569</td><td>14.4215</td><td>14.0521</td><td>13.9578</td><td>13.9351</td><td>0.0018</td><td>0.0018</td><td>0.0022</td><td>0.0019</td><td>0.0018</td><td>0.0018</td><td>1.931</td><td>3.5</td><td>3.5</td><td>3.002</td><td>2.79</td><td>53.86</td><td>1.076</td><td>0.071</td><td>3</td></tr>\n",
       "<tr><td>310.1488541</td><td>-1.2407223</td><td>20.3273</td><td>20.3139</td><td>21.1015</td><td>20.5076</td><td>20.3018</td><td>20.2967</td><td>0.0358</td><td>0.0369</td><td>0.0444</td><td>0.0354</td><td>0.0377</td><td>0.0457</td><td>2.537</td><td>17.6022</td><td>17.5921</td><td>18.1504</td><td>17.694</td><td>17.5865</td><td>17.5671</td><td>0.0038</td><td>0.0038</td><td>0.0048</td><td>0.0039</td><td>0.0038</td><td>0.0039</td><td>2.086</td><td>16.2559</td><td>16.2454</td><td>16.7122</td><td>16.3355</td><td>16.2398</td><td>16.2184</td><td>0.002</td><td>0.002</td><td>0.0025</td><td>0.0021</td><td>0.002</td><td>0.002</td><td>1.898</td><td>15.7168</td><td>15.7059</td><td>16.1373</td><td>15.7948</td><td>15.7</td><td>15.6781</td><td>0.0018</td><td>0.0018</td><td>0.0021</td><td>0.0018</td><td>0.0018</td><td>0.0018</td><td>1.826</td><td>15.4062</td><td>15.3941</td><td>15.8584</td><td>15.4894</td><td>15.388</td><td>15.3682</td><td>0.0035</td><td>0.0035</td><td>0.0043</td><td>0.0036</td><td>0.0035</td><td>0.0036</td><td>1.903</td><td>3.5</td><td>3.96</td><td>2.36</td><td>2.331</td><td>-8.28</td><td>1.013</td><td>0.012</td><td>3</td></tr>\n",
       "<tr><td>310.468454</td><td>-1.2408565</td><td>17.2796</td><td>17.2796</td><td>18.0317</td><td>17.4302</td><td>17.2847</td><td>17.2639</td><td>0.0075</td><td>0.0075</td><td>0.0104</td><td>0.0079</td><td>0.0075</td><td>0.0076</td><td>2.473</td><td>15.7684</td><td>15.7684</td><td>16.3965</td><td>15.8865</td><td>15.7719</td><td>15.7533</td><td>0.0016</td><td>0.0016</td><td>0.0021</td><td>0.0017</td><td>0.0016</td><td>0.0016</td><td>2.241</td><td>15.2211</td><td>15.2211</td><td>15.7054</td><td>15.3212</td><td>15.2252</td><td>15.2059</td><td>0.0012</td><td>0.0012</td><td>0.0015</td><td>0.0013</td><td>0.0012</td><td>0.0012</td><td>1.941</td><td>15.0532</td><td>15.0532</td><td>15.4835</td><td>15.1484</td><td>15.0572</td><td>15.0359</td><td>0.0013</td><td>0.0013</td><td>0.0016</td><td>0.0014</td><td>0.0013</td><td>0.0013</td><td>1.834</td><td>14.9819</td><td>14.9819</td><td>15.4594</td><td>15.0864</td><td>14.9852</td><td>14.9656</td><td>0.0029</td><td>0.0029</td><td>0.0035</td><td>0.003</td><td>0.0029</td><td>0.0029</td><td>1.943</td><td>3.5</td><td>3.5</td><td>3.674</td><td>2.598</td><td>60.38</td><td>1.414</td><td>0.293</td><td>2</td></tr>\n",
       "<tr><td>310.3837857</td><td>-1.2413399</td><td>17.2569</td><td>17.2569</td><td>17.9518</td><td>17.3911</td><td>17.2494</td><td>17.2281</td><td>0.0074</td><td>0.0074</td><td>0.01</td><td>0.0078</td><td>0.0074</td><td>0.0075</td><td>2.402</td><td>15.922</td><td>15.922</td><td>16.5084</td><td>16.0296</td><td>15.9158</td><td>15.896</td><td>0.0017</td><td>0.0017</td><td>0.0022</td><td>0.0018</td><td>0.0017</td><td>0.0017</td><td>2.209</td><td>15.4462</td><td>15.4462</td><td>15.8933</td><td>15.5316</td><td>15.4401</td><td>15.4198</td><td>0.0014</td><td>0.0014</td><td>0.0017</td><td>0.0014</td><td>0.0014</td><td>0.0014</td><td>1.885</td><td>15.2785</td><td>15.2785</td><td>15.6734</td><td>15.3613</td><td>15.2719</td><td>15.249</td><td>0.0015</td><td>0.0015</td><td>0.0017</td><td>0.0015</td><td>0.0015</td><td>0.0015</td><td>1.762</td><td>15.2355</td><td>15.2355</td><td>15.6907</td><td>15.3286</td><td>15.2282</td><td>15.2069</td><td>0.0033</td><td>0.0033</td><td>0.0039</td><td>0.0034</td><td>0.0033</td><td>0.0033</td><td>1.933</td><td>3.5</td><td>3.5</td><td>2.645</td><td>2.591</td><td>-78.17</td><td>1.021</td><td>0.02</td><td>2</td></tr>\n",
       "<tr><td>310.4004031</td><td>-1.2416517</td><td>20.2297</td><td>20.2297</td><td>20.9228</td><td>20.3601</td><td>20.1808</td><td>20.186</td><td>0.0339</td><td>0.0339</td><td>0.0408</td><td>0.0329</td><td>0.0352</td><td>0.0426</td><td>2.388</td><td>17.6512</td><td>17.6512</td><td>18.1989</td><td>17.7452</td><td>17.6334</td><td>17.6151</td><td>0.0039</td><td>0.0039</td><td>0.0049</td><td>0.004</td><td>0.0039</td><td>0.004</td><td>2.129</td><td>16.5732</td><td>16.5732</td><td>17.0009</td><td>16.6504</td><td>16.5566</td><td>16.5379</td><td>0.0023</td><td>0.0023</td><td>0.0028</td><td>0.0024</td><td>0.0023</td><td>0.0024</td><td>1.843</td><td>16.2286</td><td>16.2286</td><td>16.6228</td><td>16.3058</td><td>16.2119</td><td>16.1923</td><td>0.0023</td><td>0.0023</td><td>0.0027</td><td>0.0023</td><td>0.0023</td><td>0.0024</td><td>1.763</td><td>16.0178</td><td>16.0178</td><td>16.4844</td><td>16.1081</td><td>15.9991</td><td>15.9806</td><td>0.0047</td><td>0.0047</td><td>0.0057</td><td>0.0048</td><td>0.0048</td><td>0.005</td><td>1.944</td><td>3.5</td><td>3.5</td><td>2.336</td><td>2.275</td><td>26.0</td><td>1.027</td><td>0.026</td><td>0</td></tr>\n",
       "<tr><td>310.3007964</td><td>-1.2426908</td><td>17.4917</td><td>17.4917</td><td>18.1921</td><td>17.6295</td><td>17.488</td><td>17.4653</td><td>0.0083</td><td>0.0083</td><td>0.0112</td><td>0.0087</td><td>0.0083</td><td>0.0084</td><td>2.385</td><td>15.7282</td><td>15.7282</td><td>16.305</td><td>15.8337</td><td>15.7248</td><td>15.7065</td><td>0.0016</td><td>0.0016</td><td>0.002</td><td>0.0016</td><td>0.0016</td><td>0.0016</td><td>2.133</td><td>15.122</td><td>15.122</td><td>15.5706</td><td>15.2098</td><td>15.1186</td><td>15.0998</td><td>0.0012</td><td>0.0012</td><td>0.0015</td><td>0.0012</td><td>0.0012</td><td>0.0012</td><td>1.862</td><td>14.9115</td><td>14.9115</td><td>15.3444</td><td>15.007</td><td>14.9077</td><td>14.887</td><td>0.0012</td><td>0.0012</td><td>0.0015</td><td>0.0013</td><td>0.0012</td><td>0.0012</td><td>1.828</td><td>14.8332</td><td>14.8332</td><td>15.3392</td><td>14.9465</td><td>14.8293</td><td>14.8095</td><td>0.0027</td><td>0.0027</td><td>0.0034</td><td>0.0028</td><td>0.0027</td><td>0.0027</td><td>1.993</td><td>3.5</td><td>3.5</td><td>2.862</td><td>2.571</td><td>76.14</td><td>1.113</td><td>0.102</td><td>2</td></tr>\n",
       "<tr><td>310.0110293</td><td>-1.2433437</td><td>17.9792</td><td>17.9792</td><td>18.6754</td><td>18.1315</td><td>17.9899</td><td>17.9799</td><td>0.0108</td><td>0.0108</td><td>0.014</td><td>0.011</td><td>0.0106</td><td>0.011</td><td>2.406</td><td>16.4606</td><td>16.4606</td><td>17.0606</td><td>16.5869</td><td>16.4765</td><td>16.4572</td><td>0.0022</td><td>0.0022</td><td>0.0029</td><td>0.0023</td><td>0.0022</td><td>0.0022</td><td>2.215</td><td>15.8552</td><td>15.8552</td><td>16.3783</td><td>15.9773</td><td>15.8738</td><td>15.8502</td><td>0.0017</td><td>0.0017</td><td>0.0021</td><td>0.0018</td><td>0.0017</td><td>0.0017</td><td>2.033</td><td>15.5736</td><td>15.5736</td><td>16.0266</td><td>15.6949</td><td>15.5973</td><td>15.5663</td><td>0.0017</td><td>0.0017</td><td>0.002</td><td>0.0018</td><td>0.0017</td><td>0.0017</td><td>1.86</td><td>15.4711</td><td>15.4711</td><td>15.9598</td><td>15.5937</td><td>15.4908</td><td>15.4668</td><td>0.0038</td><td>0.0038</td><td>0.0045</td><td>0.0038</td><td>0.0037</td><td>0.0038</td><td>1.965</td><td>3.5</td><td>3.5</td><td>4.145</td><td>3.596</td><td>-82.4</td><td>1.153</td><td>0.133</td><td>2</td></tr>\n",
       "<tr><td>310.3679257</td><td>-1.2431764</td><td>19.6956</td><td>19.6956</td><td>20.3975</td><td>19.8437</td><td>19.6648</td><td>19.6423</td><td>0.0252</td><td>0.0252</td><td>0.0316</td><td>0.0252</td><td>0.0258</td><td>0.0294</td><td>2.404</td><td>17.1761</td><td>17.1761</td><td>17.745</td><td>17.274</td><td>17.1622</td><td>17.1449</td><td>0.0031</td><td>0.0031</td><td>0.004</td><td>0.0032</td><td>0.0031</td><td>0.0031</td><td>2.148</td><td>16.0032</td><td>16.0032</td><td>16.4575</td><td>16.0845</td><td>15.9903</td><td>15.9714</td><td>0.0018</td><td>0.0018</td><td>0.0022</td><td>0.0019</td><td>0.0018</td><td>0.0018</td><td>1.892</td><td>15.546</td><td>15.546</td><td>15.9475</td><td>15.6214</td><td>15.5332</td><td>15.5147</td><td>0.0016</td><td>0.0016</td><td>0.002</td><td>0.0017</td><td>0.0016</td><td>0.0017</td><td>1.782</td><td>15.2946</td><td>15.2946</td><td>15.7466</td><td>15.3788</td><td>15.2807</td><td>15.2625</td><td>0.0033</td><td>0.0033</td><td>0.0041</td><td>0.0034</td><td>0.0034</td><td>0.0034</td><td>1.916</td><td>3.5</td><td>3.5</td><td>2.442</td><td>2.366</td><td>-88.25</td><td>1.032</td><td>0.031</td><td>0</td></tr>\n",
       "<tr><td>310.383409</td><td>-1.2447864</td><td>19.6408</td><td>19.6408</td><td>20.4547</td><td>19.8746</td><td>19.6284</td><td>19.545</td><td>0.025</td><td>0.025</td><td>0.0324</td><td>0.0255</td><td>0.0251</td><td>0.0274</td><td>2.635</td><td>17.0134</td><td>17.0134</td><td>17.6023</td><td>17.1246</td><td>17.0088</td><td>16.9792</td><td>0.0029</td><td>0.0029</td><td>0.0037</td><td>0.003</td><td>0.0029</td><td>0.0029</td><td>2.158</td><td>15.6955</td><td>15.6955</td><td>16.1575</td><td>15.7864</td><td>15.6919</td><td>15.6677</td><td>0.0016</td><td>0.0016</td><td>0.0019</td><td>0.0016</td><td>0.0016</td><td>0.0016</td><td>1.91</td><td>15.1507</td><td>15.1507</td><td>15.5632</td><td>15.2369</td><td>15.147</td><td>15.1215</td><td>0.0014</td><td>0.0014</td><td>0.0016</td><td>0.0014</td><td>0.0014</td><td>0.0014</td><td>1.824</td><td>14.8571</td><td>14.8571</td><td>15.3215</td><td>14.9525</td><td>14.8533</td><td>14.8323</td><td>0.0027</td><td>0.0027</td><td>0.0033</td><td>0.0028</td><td>0.0027</td><td>0.0028</td><td>1.928</td><td>3.5</td><td>3.5</td><td>2.81</td><td>2.653</td><td>26.7</td><td>1.059</td><td>0.056</td><td>2</td></tr>\n",
       "</table>"
      ],
      "text/plain": [
       "<Table length=10>\n",
       "    col1       col2      col3    col4    col5  ...  col72   col73   col74  col75\n",
       "  float64    float64   float64 float64 float64 ... float64 float64 float64 int64\n",
       "----------- ---------- ------- ------- ------- ... ------- ------- ------- -----\n",
       "310.0406973 -1.2388384 18.8416 18.8416 19.5305 ...   54.91   1.026   0.025     2\n",
       "310.4340371 -1.2408615 16.0954 16.0954 16.8229 ...   53.86   1.076   0.071     3\n",
       "310.1488541 -1.2407223 20.3273 20.3139 21.1015 ...   -8.28   1.013   0.012     3\n",
       " 310.468454 -1.2408565 17.2796 17.2796 18.0317 ...   60.38   1.414   0.293     2\n",
       "310.3837857 -1.2413399 17.2569 17.2569 17.9518 ...  -78.17   1.021    0.02     2\n",
       "310.4004031 -1.2416517 20.2297 20.2297 20.9228 ...    26.0   1.027   0.026     0\n",
       "310.3007964 -1.2426908 17.4917 17.4917 18.1921 ...   76.14   1.113   0.102     2\n",
       "310.0110293 -1.2433437 17.9792 17.9792 18.6754 ...   -82.4   1.153   0.133     2\n",
       "310.3679257 -1.2431764 19.6956 19.6956 20.3975 ...  -88.25   1.032   0.031     0\n",
       " 310.383409 -1.2447864 19.6408 19.6408 20.4547 ...    26.7   1.059   0.056     2"
      ]
     },
     "execution_count": 6,
     "metadata": {},
     "output_type": "execute_result"
    }
   ],
   "source": [
    "test_star[:10]"
   ]
  },
  {
   "cell_type": "code",
   "execution_count": 7,
   "metadata": {},
   "outputs": [],
   "source": [
    "columns = {\n",
    "\n",
    "    1:  'ALPHA_J2000'          ,#Right ascension of barycenter (J2000)                    [deg]\n",
    "    2:  'DELTA_J2000'          ,#Declination of barycenter (J2000)                        [deg]\n",
    "    3:  'MAG_AUTO_u'           ,#Sloan u | Kron-like elliptical aperture magnitude        [mag]\n",
    "    4:  'MAG_PETRO_u'          ,#Sloan u | Petrosian-like elliptical aperture magnitude   [mag]\n",
    "    5:  'MAG_APER_1_u'         ,#Sloan u | 5 pixel fixed aperture magnitude               [mag]\n",
    "    6:  'MAG_APER_2_u'         ,#Sloan u | 10 pixel fixed aperture magnitude              [mag]\n",
    "    7:  'MAG_APER_3_u'         ,#Sloan u | 20 pixel fixed aperture magnitude              [mag]\n",
    "    8:  'MAG_APER_4_u'         ,#Sloan u | 30 pixel fixed aperture magnitude              [mag]\n",
    "    9:  'MAGERR_AUTO_u'        ,#Sloan u | RMS error for AUTO magnitude                   [mag]\n",
    "    10: 'MAGERR_PETRO_u'       ,#Sloan u | RMS error for PETROsian magnitude              [mag]\n",
    "    11: 'MAGERR_APER_1_u'      ,#Sloan u | RMS error for MAG_APER (1)                     [mag]\n",
    "    12: 'MAGERR_APER_2_u'      ,#Sloan u | RMS error for MAG_APER (2)                     [mag]\n",
    "    13: 'MAGERR_APER_3_u'      ,#Sloan u | RMS error for MAG_APER (3)                     [mag]\n",
    "    14: 'MAGERR_APER_4_u'      ,#Sloan u | RMS error for MAG_APER (4)                     [mag]\n",
    "    15: 'FLUX_RADIUS_u'        ,#Sloan u | Fraction-of-light radii (0.5 of total)         [pixel] \n",
    "    16: 'MAG_AUTO_g'           ,#Sloan g | Kron-like elliptical aperture magnitude        [mag] \n",
    "    17: 'MAG_PETRO_g'          ,#Sloan g | Petrosian-like elliptical aperture magnitude   [mag] \n",
    "    18: 'MAG_APER_1_g'         ,#Sloan g | 5 pixel fixed aperture magnitude               [mag] \n",
    "    19: 'MAG_APER_2_g'         ,#Sloan g | 10 pixel fixed aperture magnitude              [mag] \n",
    "    20: 'MAG_APER_3_g'         ,#Sloan g | 20 pixel fixed aperture magnitude              [mag] \n",
    "    21: 'MAG_APER_4_g'         ,#Sloan g | 30 pixel fixed aperture magnitude              [mag] \n",
    "    22: 'MAGERR_AUTO_g'        ,#Sloan g | RMS error for AUTO magnitude                   [mag] \n",
    "    23: 'MAGERR_PETRO_g'       ,#Sloan g | RMS error for PETROsian magnitude              [mag] \n",
    "    24: 'MAGERR_APER_1_g'      ,#Sloan g | RMS error for MAG_APER (1)                     [mag] \n",
    "    25: 'MAGERR_APER_2_g'      ,#Sloan g | RMS error for MAG_APER (2)                     [mag] \n",
    "    26: 'MAGERR_APER_3_g'      ,#Sloan g | RMS error for MAG_APER (3)                     [mag] \n",
    "    27: 'MAGERR_APER_4_g'      ,#Sloan g | RMS error for MAG_APER (4)                     [mag] \n",
    "    28: 'FLUX_RADIUS_g'        ,#Sloan g | Fraction-of-light radii (0.5 of total)         [pixel] \n",
    "    29: 'MAG_AUTO_r'           ,#Sloan r | Kron-like elliptical aperture magnitude        [mag]  \n",
    "    30: 'MAG_PETRO_r'          ,#Sloan r | Petrosian-like elliptical aperture magnitude   [mag]  \n",
    "    31: 'MAG_APER_1_r'         ,#Sloan r | 5 pixel fixed aperture magnitude               [mag]  \n",
    "    32: 'MAG_APER_2_r'         ,#Sloan r | 10 pixel fixed aperture magnitude              [mag]  \n",
    "    33: 'MAG_APER_3_r'         ,#Sloan r | 20 pixel fixed aperture magnitude              [mag]  \n",
    "    34: 'MAG_APER_4_r'         ,#Sloan r | 30 pixel fixed aperture magnitude              [mag]  \n",
    "    35: 'MAGERR_AUTO_r'        ,#Sloan r | RMS error for AUTO magnitude                   [mag]  \n",
    "    36: 'MAGERR_PETRO_r'       ,#Sloan r | RMS error for PETROsian magnitude              [mag]  \n",
    "    37: 'MAGERR_APER_1_r'      ,#Sloan r | RMS error for MAG_APER (1)                     [mag]  \n",
    "    38: 'MAGERR_APER_2_r'      ,#Sloan r | RMS error for MAG_APER (2)                     [mag]  \n",
    "    39: 'MAGERR_APER_3_r'      ,#Sloan r | RMS error for MAG_APER (3)                     [mag]  \n",
    "    40: 'MAGERR_APER_4_r'      ,#Sloan r | RMS error for MAG_APER (4)                     [mag]  \n",
    "    41: 'FLUX_RADIUS_r'        ,#Sloan r | Fraction-of-light radii (0.5 of total)         [pixel]\n",
    "    42: 'MAG_AUTO_i'           ,#Sloan i | Kron-like elliptical aperture magnitude        [mag]  \n",
    "    43: 'MAG_PETRO_i'          ,#Sloan i | Petrosian-like elliptical aperture magnitude   [mag]  \n",
    "    44: 'MAG_APER_1_i'         ,#Sloan i | 5 pixel fixed aperture magnitude               [mag]  \n",
    "    45: 'MAG_APER_2_i'         ,#Sloan i | 10 pixel fixed aperture magnitude              [mag]  \n",
    "    46: 'MAG_APER_3_i'         ,#Sloan i | 20 pixel fixed aperture magnitude              [mag]  \n",
    "    47: 'MAG_APER_4_i'         ,#Sloan i | 30 pixel fixed aperture magnitude              [mag]  \n",
    "    48: 'MAGERR_AUTO_i'        ,#Sloan i | RMS error for AUTO magnitude                   [mag]  \n",
    "    49: 'MAGERR_PETRO_i'       ,#Sloan i | RMS error for PETROsian magnitude              [mag]  \n",
    "    50: 'MAGERR_APER_1_i'      ,#Sloan i | RMS error for MAG_APER (1)                     [mag]  \n",
    "    51: 'MAGERR_APER_2_i'      ,#Sloan i | RMS error for MAG_APER (2)                     [mag]  \n",
    "    52: 'MAGERR_APER_3_i'      ,#Sloan i | RMS error for MAG_APER (3)                     [mag]  \n",
    "    53: 'MAGERR_APER_4_i'      ,#Sloan i | RMS error for MAG_APER (4)                     [mag]  \n",
    "    54: 'FLUX_RADIUS_i'        ,#Sloan i | Fraction-of-light radii (0.5 of total)         [pixel]\n",
    "    55: 'MAG_AUTO_z'           ,#Sloan z | Kron-like elliptical aperture magnitude        [mag]  \n",
    "    56: 'MAG_PETRO_z'          ,#Sloan z | Petrosian-like elliptical aperture magnitude   [mag]  \n",
    "    57: 'MAG_APER_1_z'         ,#Sloan z | 5 pixel fixed aperture magnitude               [mag]  \n",
    "    58: 'MAG_APER_2_z'         ,#Sloan z | 10 pixel fixed aperture magnitude              [mag]  \n",
    "    59: 'MAG_APER_3_z'         ,#Sloan z | 20 pixel fixed aperture magnitude              [mag]  \n",
    "    60: 'MAG_APER_4_z'         ,#Sloan z | 30 pixel fixed aperture magnitude              [mag]  \n",
    "    61: 'MAGERR_AUTO_z'        ,#Sloan z | RMS error for AUTO magnitude                   [mag]  \n",
    "    62: 'MAGERR_PETRO_z'       ,#Sloan z | RMS error for PETROsian magnitude              [mag]  \n",
    "    63: 'MAGERR_APER_1_z'      ,#Sloan z | RMS error for MAG_APER (1)                     [mag]  \n",
    "    64: 'MAGERR_APER_2_z'      ,#Sloan z | RMS error for MAG_APER (2)                     [mag]  \n",
    "    65: 'MAGERR_APER_3_z'      ,#Sloan z | RMS error for MAG_APER (3)                     [mag]  \n",
    "    66: 'MAGERR_APER_4_z'      ,#Sloan z | RMS error for MAG_APER (4)                     [mag]  \n",
    "    67: 'FLUX_RADIUS_z'        ,#Sloan z | Fraction-of-light radii (0.5 of total)         [pixel]\n",
    "    68: 'KRON_RADIUS'          ,#Kron aperture in units of A_IMAGE                        \n",
    "    69: 'PETRO_RADIUS'         ,#Petrosian aperture in units of A_IMAGE                    \n",
    "    70: 'A_IMAGE'              ,#Profile RMS along major axis                             [pixel]  \n",
    "    71: 'B_IMAGE'              ,#Profile RMS along minor axis                             [pixel] \n",
    "    72: 'THETA_IMAGE'          ,#Position angle (CCW/x)                                   [deg] \n",
    "    73: 'ELONGATION'           ,#A_IMAGE/B_IMAGE\n",
    "    74: 'ELLIPTICITY'          ,#1 - B_IMAGE/A_IMAGE    \n",
    "    75: 'FLAGS'                ,#Extraction flags \n",
    "   \n",
    "}\n",
    "\n",
    "def fix_headers(cat):\n",
    "    for col in columns:\n",
    "        cat['col{}'.format(col)].name = columns[col]\n",
    "        if columns[col].startswith('MAG'):\n",
    "            cat[columns[col]].unit = u.mag\n",
    "        if columns[col].startswith('FLUX_RADIUS_'):\n",
    "            cat[columns[col]].unit = u.pix\n",
    "    cat['A_IMAGE'].unit = u.pix\n",
    "    cat['B_IMAGE'].unit = u.pix\n",
    "    cat['THETA_IMAGE'].unit = u.deg\n",
    "    cat['ALPHA_J2000'].unit = u.deg\n",
    "    cat['DELTA_J2000'].unit = u.deg\n",
    "    return cat"
   ]
  },
  {
   "cell_type": "code",
   "execution_count": 8,
   "metadata": {},
   "outputs": [
    {
     "name": "stdout",
     "output_type": "stream",
     "text": [
      "Bad file: ./data/tiles/f0141_gal.cat\n",
      "Bad file: ./data/tiles/f1805_gal.cat\n",
      "Bad file: ./data/tiles/f0141_ps.cat\n",
      "Bad file: ./data/tiles/f1641_gal.cat\n",
      "Bad file: ./data/tiles/f1805_ps.cat\n",
      "Bad file: ./data/tiles/f1641_ps.cat\n"
     ]
    }
   ],
   "source": [
    "full_cat = Table()\n",
    "for cat_name in file_list:\n",
    "    try:\n",
    "        cat = Table.read(cat_name, format='ascii')\n",
    "    except: \n",
    "        print('Bad file: ' + cat_name)\n",
    "        continue\n",
    "    fix_headers(cat)\n",
    "    \n",
    "    cat.add_column(Column(data=np.zeros(len(cat)), name='sdss_stellarity', dtype='int32'))\n",
    "    if 'ps.cat' in cat_name:\n",
    "        cat['sdss_stellarity'] = 1\n",
    "    \n",
    "    full_cat = vstack([full_cat, cat])\n",
    "    \n",
    "    "
   ]
  },
  {
   "cell_type": "code",
   "execution_count": 9,
   "metadata": {},
   "outputs": [
    {
     "data": {
      "text/plain": [
       "15368824"
      ]
     },
     "execution_count": 9,
     "metadata": {},
     "output_type": "execute_result"
    }
   ],
   "source": [
    "len(full_cat)"
   ]
  },
  {
   "cell_type": "code",
   "execution_count": 10,
   "metadata": {},
   "outputs": [],
   "source": [
    "full_cat.add_column(Column(data=np.arange(len(full_cat)), name='sdss_iac_id', dtype='int32'))"
   ]
  },
  {
   "cell_type": "code",
   "execution_count": 11,
   "metadata": {},
   "outputs": [
    {
     "data": {
      "text/html": [
       "<i>Table masked=True length=15368824</i>\n",
       "<table id=\"table139675669034096\" class=\"table-striped table-bordered table-condensed\">\n",
       "<thead><tr><th>ALPHA_J2000</th><th>DELTA_J2000</th><th>MAG_AUTO_u</th><th>MAG_PETRO_u</th><th>MAG_APER_1_u</th><th>MAG_APER_2_u</th><th>MAG_APER_3_u</th><th>MAG_APER_4_u</th><th>MAGERR_AUTO_u</th><th>MAGERR_PETRO_u</th><th>MAGERR_APER_1_u</th><th>MAGERR_APER_2_u</th><th>MAGERR_APER_3_u</th><th>MAGERR_APER_4_u</th><th>FLUX_RADIUS_u</th><th>MAG_AUTO_g</th><th>MAG_PETRO_g</th><th>MAG_APER_1_g</th><th>MAG_APER_2_g</th><th>MAG_APER_3_g</th><th>MAG_APER_4_g</th><th>MAGERR_AUTO_g</th><th>MAGERR_PETRO_g</th><th>MAGERR_APER_1_g</th><th>MAGERR_APER_2_g</th><th>MAGERR_APER_3_g</th><th>MAGERR_APER_4_g</th><th>FLUX_RADIUS_g</th><th>MAG_AUTO_r</th><th>MAG_PETRO_r</th><th>MAG_APER_1_r</th><th>MAG_APER_2_r</th><th>MAG_APER_3_r</th><th>MAG_APER_4_r</th><th>MAGERR_AUTO_r</th><th>MAGERR_PETRO_r</th><th>MAGERR_APER_1_r</th><th>MAGERR_APER_2_r</th><th>MAGERR_APER_3_r</th><th>MAGERR_APER_4_r</th><th>FLUX_RADIUS_r</th><th>MAG_AUTO_i</th><th>MAG_PETRO_i</th><th>MAG_APER_1_i</th><th>MAG_APER_2_i</th><th>MAG_APER_3_i</th><th>MAG_APER_4_i</th><th>MAGERR_AUTO_i</th><th>MAGERR_PETRO_i</th><th>MAGERR_APER_1_i</th><th>MAGERR_APER_2_i</th><th>MAGERR_APER_3_i</th><th>MAGERR_APER_4_i</th><th>FLUX_RADIUS_i</th><th>MAG_AUTO_z</th><th>MAG_PETRO_z</th><th>MAG_APER_1_z</th><th>MAG_APER_2_z</th><th>MAG_APER_3_z</th><th>MAG_APER_4_z</th><th>MAGERR_AUTO_z</th><th>MAGERR_PETRO_z</th><th>MAGERR_APER_1_z</th><th>MAGERR_APER_2_z</th><th>MAGERR_APER_3_z</th><th>MAGERR_APER_4_z</th><th>FLUX_RADIUS_z</th><th>KRON_RADIUS</th><th>PETRO_RADIUS</th><th>A_IMAGE</th><th>B_IMAGE</th><th>THETA_IMAGE</th><th>ELONGATION</th><th>ELLIPTICITY</th><th>FLAGS</th><th>sdss_stellarity</th><th>sdss_iac_id</th></tr></thead>\n",
       "<thead><tr><th>deg</th><th>deg</th><th>mag</th><th>mag</th><th>mag</th><th>mag</th><th>mag</th><th>mag</th><th>mag</th><th>mag</th><th>mag</th><th>mag</th><th>mag</th><th>mag</th><th>pix</th><th>mag</th><th>mag</th><th>mag</th><th>mag</th><th>mag</th><th>mag</th><th>mag</th><th>mag</th><th>mag</th><th>mag</th><th>mag</th><th>mag</th><th>pix</th><th>mag</th><th>mag</th><th>mag</th><th>mag</th><th>mag</th><th>mag</th><th>mag</th><th>mag</th><th>mag</th><th>mag</th><th>mag</th><th>mag</th><th>pix</th><th>mag</th><th>mag</th><th>mag</th><th>mag</th><th>mag</th><th>mag</th><th>mag</th><th>mag</th><th>mag</th><th>mag</th><th>mag</th><th>mag</th><th>pix</th><th>mag</th><th>mag</th><th>mag</th><th>mag</th><th>mag</th><th>mag</th><th>mag</th><th>mag</th><th>mag</th><th>mag</th><th>mag</th><th>mag</th><th>pix</th><th></th><th></th><th>pix</th><th>pix</th><th>deg</th><th></th><th></th><th></th><th></th><th></th></tr></thead>\n",
       "<thead><tr><th>float64</th><th>float64</th><th>float64</th><th>float64</th><th>float64</th><th>float64</th><th>float64</th><th>float64</th><th>float64</th><th>float64</th><th>float64</th><th>float64</th><th>float64</th><th>float64</th><th>float64</th><th>float64</th><th>float64</th><th>float64</th><th>float64</th><th>float64</th><th>float64</th><th>float64</th><th>float64</th><th>float64</th><th>float64</th><th>float64</th><th>float64</th><th>float64</th><th>float64</th><th>float64</th><th>float64</th><th>float64</th><th>float64</th><th>float64</th><th>float64</th><th>float64</th><th>float64</th><th>float64</th><th>float64</th><th>float64</th><th>float64</th><th>float64</th><th>float64</th><th>float64</th><th>float64</th><th>float64</th><th>float64</th><th>float64</th><th>float64</th><th>float64</th><th>float64</th><th>float64</th><th>float64</th><th>float64</th><th>float64</th><th>float64</th><th>float64</th><th>float64</th><th>float64</th><th>float64</th><th>float64</th><th>float64</th><th>float64</th><th>float64</th><th>float64</th><th>float64</th><th>float64</th><th>float64</th><th>float64</th><th>float64</th><th>float64</th><th>float64</th><th>float64</th><th>float64</th><th>int64</th><th>int32</th><th>int32</th></tr></thead>\n",
       "<tr><td>324.4023353</td><td>0.7574207</td><td>19.3612</td><td>19.3612</td><td>19.8706</td><td>19.4629</td><td>19.3708</td><td>19.3311</td><td>0.0212</td><td>0.0212</td><td>0.0239</td><td>0.0204</td><td>0.0217</td><td>0.0242</td><td>2.044</td><td>17.4098</td><td>17.4098</td><td>17.8864</td><td>17.5001</td><td>17.4081</td><td>17.3825</td><td>0.0033</td><td>0.0033</td><td>0.004</td><td>0.0034</td><td>0.0033</td><td>0.0033</td><td>1.972</td><td>16.6788</td><td>16.6788</td><td>17.1085</td><td>16.7643</td><td>16.6766</td><td>16.649</td><td>0.0024</td><td>0.0024</td><td>0.0029</td><td>0.0025</td><td>0.0024</td><td>0.0025</td><td>1.868</td><td>16.4283</td><td>16.4283</td><td>16.8071</td><td>16.5125</td><td>16.4262</td><td>16.3964</td><td>0.0026</td><td>0.0026</td><td>0.003</td><td>0.0026</td><td>0.0026</td><td>0.0026</td><td>1.751</td><td>16.3193</td><td>16.3193</td><td>16.7205</td><td>16.4127</td><td>16.3182</td><td>16.283</td><td>0.0053</td><td>0.0053</td><td>0.0061</td><td>0.0054</td><td>0.0054</td><td>0.0057</td><td>1.787</td><td>3.5</td><td>3.5</td><td>3.358</td><td>2.134</td><td>-31.71</td><td>1.574</td><td>0.365</td><td>0</td><td>1</td><td>0</td></tr>\n",
       "<tr><td>324.3606858</td><td>0.7568644</td><td>19.2149</td><td>19.2091</td><td>19.6985</td><td>19.2853</td><td>19.1971</td><td>19.2026</td><td>0.0187</td><td>0.019</td><td>0.0221</td><td>0.0187</td><td>0.0196</td><td>0.0222</td><td>1.969</td><td>17.81</td><td>17.7979</td><td>18.274</td><td>17.8735</td><td>17.7854</td><td>17.7729</td><td>0.0039</td><td>0.0039</td><td>0.0048</td><td>0.004</td><td>0.0039</td><td>0.004</td><td>1.943</td><td>17.2392</td><td>17.2274</td><td>17.6435</td><td>17.2979</td><td>17.2139</td><td>17.1998</td><td>0.0032</td><td>0.0032</td><td>0.0038</td><td>0.0032</td><td>0.0032</td><td>0.0033</td><td>1.83</td><td>17.0115</td><td>16.9985</td><td>17.3552</td><td>17.0673</td><td>16.986</td><td>16.9743</td><td>0.0034</td><td>0.0034</td><td>0.0039</td><td>0.0034</td><td>0.0034</td><td>0.0036</td><td>1.682</td><td>16.909</td><td>16.8975</td><td>17.2607</td><td>16.9669</td><td>16.8843</td><td>16.8721</td><td>0.007</td><td>0.0071</td><td>0.0078</td><td>0.007</td><td>0.0072</td><td>0.008</td><td>1.692</td><td>3.5</td><td>3.96</td><td>2.111</td><td>1.986</td><td>8.19</td><td>1.063</td><td>0.059</td><td>0</td><td>1</td><td>1</td></tr>\n",
       "<tr><td>324.4837562</td><td>0.7563622</td><td>21.5381</td><td>21.5501</td><td>22.0467</td><td>21.6386</td><td>21.5056</td><td>21.5582</td><td>0.0765</td><td>0.0827</td><td>0.071</td><td>0.0677</td><td>0.0895</td><td>0.1272</td><td>2.062</td><td>18.9037</td><td>18.8924</td><td>19.3698</td><td>18.9735</td><td>18.8822</td><td>18.8665</td><td>0.0067</td><td>0.0067</td><td>0.008</td><td>0.0068</td><td>0.0068</td><td>0.0071</td><td>1.949</td><td>17.4526</td><td>17.4419</td><td>17.873</td><td>17.5164</td><td>17.4298</td><td>17.4127</td><td>0.0035</td><td>0.0035</td><td>0.0042</td><td>0.0036</td><td>0.0035</td><td>0.0036</td><td>1.848</td><td>16.6265</td><td>16.6161</td><td>16.995</td><td>16.6862</td><td>16.6035</td><td>16.587</td><td>0.0028</td><td>0.0028</td><td>0.0033</td><td>0.0029</td><td>0.0028</td><td>0.0029</td><td>1.712</td><td>16.1829</td><td>16.1713</td><td>16.5654</td><td>16.2489</td><td>16.1599</td><td>16.1422</td><td>0.0049</td><td>0.0049</td><td>0.0057</td><td>0.005</td><td>0.0049</td><td>0.0052</td><td>1.74</td><td>3.5</td><td>3.96</td><td>2.179</td><td>2.048</td><td>29.14</td><td>1.064</td><td>0.06</td><td>2</td><td>1</td><td>2</td></tr>\n",
       "<tr><td>324.1039602</td><td>0.7557376</td><td>99.0</td><td>26.3378</td><td>26.3923</td><td>28.4312</td><td>99.0</td><td>99.0</td><td>99.0</td><td>3.6046</td><td>1.7499</td><td>22.0312</td><td>99.0</td><td>99.0</td><td>9.501</td><td>24.3509</td><td>24.3073</td><td>24.8998</td><td>24.418</td><td>25.5738</td><td>26.131</td><td>0.187</td><td>0.2039</td><td>0.1779</td><td>0.2039</td><td>1.0927</td><td>2.7208</td><td>2.173</td><td>23.5151</td><td>23.5436</td><td>23.868</td><td>23.5631</td><td>24.0179</td><td>99.0</td><td>0.1373</td><td>0.1596</td><td>0.1116</td><td>0.1475</td><td>0.4195</td><td>99.0</td><td>1.886</td><td>23.4943</td><td>23.5081</td><td>23.5867</td><td>23.5455</td><td>99.0</td><td>99.0</td><td>0.2045</td><td>0.2367</td><td>0.1289</td><td>0.221</td><td>99.0</td><td>99.0</td><td>1.515</td><td>22.6582</td><td>22.9777</td><td>23.0953</td><td>22.6747</td><td>22.7594</td><td>24.9855</td><td>0.3156</td><td>0.4812</td><td>0.2605</td><td>0.331</td><td>0.6936</td><td>8.0063</td><td>2.057</td><td>0.0</td><td>3.96</td><td>1.584</td><td>1.233</td><td>80.51</td><td>1.284</td><td>0.221</td><td>0</td><td>1</td><td>3</td></tr>\n",
       "<tr><td>324.1856491</td><td>0.7544211</td><td>21.4834</td><td>21.4563</td><td>21.9584</td><td>21.5157</td><td>21.466</td><td>21.6521</td><td>0.0715</td><td>0.0745</td><td>0.0676</td><td>0.0624</td><td>0.0862</td><td>0.1369</td><td>2.007</td><td>19.1285</td><td>19.1178</td><td>19.6103</td><td>19.2003</td><td>19.1005</td><td>19.0945</td><td>0.0074</td><td>0.0075</td><td>0.009</td><td>0.0075</td><td>0.0076</td><td>0.0081</td><td>1.994</td><td>18.1793</td><td>18.1687</td><td>18.5981</td><td>18.2424</td><td>18.1522</td><td>18.1417</td><td>0.005</td><td>0.005</td><td>0.0058</td><td>0.005</td><td>0.0051</td><td>0.0054</td><td>1.878</td><td>17.8542</td><td>17.8427</td><td>18.2169</td><td>17.9137</td><td>17.826</td><td>17.8119</td><td>0.0051</td><td>0.0051</td><td>0.0058</td><td>0.0051</td><td>0.0053</td><td>0.0057</td><td>1.742</td><td>17.6737</td><td>17.662</td><td>18.043</td><td>17.7301</td><td>17.6405</td><td>17.6209</td><td>0.0104</td><td>0.0106</td><td>0.0114</td><td>0.0102</td><td>0.0111</td><td>0.0129</td><td>1.741</td><td>3.5</td><td>3.96</td><td>2.076</td><td>1.95</td><td>3.25</td><td>1.065</td><td>0.061</td><td>2</td><td>1</td><td>4</td></tr>\n",
       "<tr><td>324.3565806</td><td>0.7541935</td><td>19.4347</td><td>19.4278</td><td>19.9126</td><td>19.4991</td><td>19.4138</td><td>19.4188</td><td>0.0208</td><td>0.0212</td><td>0.0244</td><td>0.0207</td><td>0.0221</td><td>0.0255</td><td>1.983</td><td>18.5304</td><td>18.518</td><td>18.9888</td><td>18.5913</td><td>18.5014</td><td>18.4873</td><td>0.0056</td><td>0.0056</td><td>0.0067</td><td>0.0057</td><td>0.0056</td><td>0.0058</td><td>1.953</td><td>18.2068</td><td>18.1941</td><td>18.6059</td><td>18.2606</td><td>18.179</td><td>18.1674</td><td>0.005</td><td>0.0051</td><td>0.0059</td><td>0.0051</td><td>0.0052</td><td>0.0055</td><td>1.829</td><td>18.0641</td><td>18.0491</td><td>18.4012</td><td>18.1146</td><td>18.0368</td><td>18.0251</td><td>0.0056</td><td>0.0057</td><td>0.0063</td><td>0.0056</td><td>0.0059</td><td>0.0065</td><td>1.684</td><td>18.0092</td><td>17.9941</td><td>18.3532</td><td>18.0602</td><td>17.9902</td><td>17.9845</td><td>0.0125</td><td>0.0128</td><td>0.0132</td><td>0.0121</td><td>0.0139</td><td>0.0168</td><td>1.701</td><td>3.5</td><td>3.96</td><td>2.088</td><td>1.873</td><td>-12.6</td><td>1.115</td><td>0.103</td><td>0</td><td>1</td><td>5</td></tr>\n",
       "<tr><td>324.4251938</td><td>0.7532412</td><td>20.067</td><td>20.0371</td><td>20.5763</td><td>20.1366</td><td>20.0317</td><td>20.0085</td><td>0.029</td><td>0.0305</td><td>0.0335</td><td>0.0286</td><td>0.0317</td><td>0.0375</td><td>2.05</td><td>19.8193</td><td>19.7839</td><td>20.3331</td><td>19.8883</td><td>19.7778</td><td>19.759</td><td>0.0105</td><td>0.0107</td><td>0.0126</td><td>0.0105</td><td>0.0109</td><td>0.0122</td><td>2.042</td><td>19.801</td><td>19.7793</td><td>20.2786</td><td>19.8648</td><td>19.7739</td><td>19.7741</td><td>0.0115</td><td>0.0123</td><td>0.013</td><td>0.0113</td><td>0.0128</td><td>0.0156</td><td>1.966</td><td>19.8547</td><td>19.8445</td><td>20.3029</td><td>19.9114</td><td>19.8492</td><td>19.8505</td><td>0.0153</td><td>0.0171</td><td>0.0159</td><td>0.0145</td><td>0.0183</td><td>0.0239</td><td>1.896</td><td>19.9844</td><td>19.9851</td><td>20.4357</td><td>20.0378</td><td>19.992</td><td>19.9964</td><td>0.0446</td><td>0.0539</td><td>0.039</td><td>0.0393</td><td>0.0595</td><td>0.0843</td><td>1.891</td><td>3.5</td><td>4.62</td><td>2.054</td><td>1.789</td><td>24.71</td><td>1.148</td><td>0.129</td><td>0</td><td>1</td><td>6</td></tr>\n",
       "<tr><td>324.0874968</td><td>0.7526712</td><td>21.3288</td><td>21.3132</td><td>21.8034</td><td>21.4009</td><td>21.2495</td><td>21.1445</td><td>0.0602</td><td>0.063</td><td>0.0621</td><td>0.0579</td><td>0.0725</td><td>0.0889</td><td>1.949</td><td>20.3475</td><td>20.3312</td><td>20.8123</td><td>20.4042</td><td>20.3077</td><td>20.2865</td><td>0.0137</td><td>0.0138</td><td>0.0159</td><td>0.0136</td><td>0.0149</td><td>0.0173</td><td>1.937</td><td>19.9527</td><td>19.9405</td><td>20.3632</td><td>20.0019</td><td>19.9142</td><td>19.9048</td><td>0.0124</td><td>0.0127</td><td>0.0135</td><td>0.0121</td><td>0.014</td><td>0.0172</td><td>1.84</td><td>19.7735</td><td>19.7556</td><td>20.1301</td><td>19.8226</td><td>19.7292</td><td>19.7071</td><td>0.0143</td><td>0.0148</td><td>0.0145</td><td>0.0138</td><td>0.0169</td><td>0.0215</td><td>1.711</td><td>19.789</td><td>19.759</td><td>20.0785</td><td>19.8146</td><td>19.7084</td><td>19.6405</td><td>0.0368</td><td>0.0387</td><td>0.0318</td><td>0.0335</td><td>0.0467</td><td>0.0611</td><td>1.641</td><td>3.5</td><td>3.96</td><td>1.854</td><td>1.745</td><td>-30.85</td><td>1.062</td><td>0.059</td><td>0</td><td>1</td><td>7</td></tr>\n",
       "<tr><td>324.128704</td><td>0.7524714</td><td>26.0298</td><td>26.5127</td><td>24.7711</td><td>25.7266</td><td>25.4617</td><td>99.0</td><td>2.3571</td><td>5.149</td><td>0.4343</td><td>1.819</td><td>2.8057</td><td>99.0</td><td>0.691</td><td>24.4163</td><td>24.5544</td><td>25.1065</td><td>24.4489</td><td>24.707</td><td>23.8425</td><td>0.1976</td><td>0.3017</td><td>0.2064</td><td>0.2058</td><td>0.4855</td><td>0.3274</td><td>2.412</td><td>23.8617</td><td>24.0606</td><td>24.4156</td><td>23.9796</td><td>24.2536</td><td>23.5918</td><td>0.1809</td><td>0.2953</td><td>0.1663</td><td>0.2032</td><td>0.4964</td><td>0.4031</td><td>2.089</td><td>23.7203</td><td>23.7826</td><td>23.8408</td><td>23.8326</td><td>24.149</td><td>23.4042</td><td>0.2487</td><td>0.3641</td><td>0.1556</td><td>0.2787</td><td>0.7209</td><td>0.5437</td><td>1.575</td><td>22.8571</td><td>24.1925</td><td>23.2132</td><td>23.2099</td><td>23.6933</td><td>22.0002</td><td>0.3713</td><td>1.7385</td><td>0.2799</td><td>0.5162</td><td>1.5714</td><td>0.4981</td><td>1.94</td><td>4.65</td><td>6.6</td><td>1.253</td><td>0.898</td><td>2.14</td><td>1.396</td><td>0.284</td><td>0</td><td>1</td><td>8</td></tr>\n",
       "<tr><td>...</td><td>...</td><td>...</td><td>...</td><td>...</td><td>...</td><td>...</td><td>...</td><td>...</td><td>...</td><td>...</td><td>...</td><td>...</td><td>...</td><td>...</td><td>...</td><td>...</td><td>...</td><td>...</td><td>...</td><td>...</td><td>...</td><td>...</td><td>...</td><td>...</td><td>...</td><td>...</td><td>...</td><td>...</td><td>...</td><td>...</td><td>...</td><td>...</td><td>...</td><td>...</td><td>...</td><td>...</td><td>...</td><td>...</td><td>...</td><td>...</td><td>...</td><td>...</td><td>...</td><td>...</td><td>...</td><td>...</td><td>...</td><td>...</td><td>...</td><td>...</td><td>...</td><td>...</td><td>...</td><td>...</td><td>...</td><td>...</td><td>...</td><td>...</td><td>...</td><td>...</td><td>...</td><td>...</td><td>...</td><td>...</td><td>...</td><td>...</td><td>...</td><td>...</td><td>...</td><td>...</td><td>...</td><td>...</td><td>...</td><td>...</td><td>...</td><td>...</td></tr>\n",
       "<tr><td>50.4826845</td><td>1.1902065</td><td>23.8486</td><td>22.9871</td><td>24.9245</td><td>24.2521</td><td>22.9197</td><td>23.0373</td><td>0.4089</td><td>0.2707</td><td>0.4411</td><td>0.4337</td><td>0.25</td><td>0.4009</td><td>3.143</td><td>23.529</td><td>23.3744</td><td>24.7657</td><td>23.8774</td><td>23.3661</td><td>23.4428</td><td>0.1122</td><td>0.1341</td><td>0.1463</td><td>0.1159</td><td>0.1303</td><td>0.2014</td><td>3.458</td><td>23.3892</td><td>23.3842</td><td>24.2385</td><td>23.78</td><td>23.4044</td><td>23.3372</td><td>0.1474</td><td>0.2063</td><td>0.1338</td><td>0.1551</td><td>0.2053</td><td>0.2851</td><td>2.654</td><td>23.8354</td><td>24.55</td><td>24.5451</td><td>23.7897</td><td>24.3959</td><td>99.0</td><td>0.3342</td><td>0.9216</td><td>0.2477</td><td>0.2353</td><td>0.7814</td><td>99.0</td><td>2.384</td><td>22.6258</td><td>22.0191</td><td>24.9678</td><td>23.344</td><td>22.1363</td><td>22.4524</td><td>0.3761</td><td>0.3126</td><td>1.1613</td><td>0.5206</td><td>0.339</td><td>0.6736</td><td>4.782</td><td>5.49</td><td>7.92</td><td>1.447</td><td>1.161</td><td>15.33</td><td>1.247</td><td>0.198</td><td>3</td><td>0</td><td>15368814</td></tr>\n",
       "<tr><td>50.4242726</td><td>1.1614527</td><td>99.0</td><td>99.0</td><td>27.7176</td><td>99.0</td><td>99.0</td><td>99.0</td><td>99.0</td><td>99.0</td><td>5.0588</td><td>99.0</td><td>99.0</td><td>99.0</td><td>-28.025</td><td>24.5998</td><td>24.835</td><td>24.8822</td><td>24.7093</td><td>24.839</td><td>26.5741</td><td>0.2055</td><td>0.4046</td><td>0.1625</td><td>0.2348</td><td>0.4942</td><td>3.5896</td><td>1.687</td><td>23.4892</td><td>23.3399</td><td>23.8797</td><td>23.4467</td><td>23.6221</td><td>24.0417</td><td>0.1189</td><td>0.1649</td><td>0.1035</td><td>0.1194</td><td>0.2566</td><td>0.5552</td><td>1.988</td><td>22.7803</td><td>22.8866</td><td>23.2163</td><td>22.7908</td><td>23.043</td><td>23.4186</td><td>0.0973</td><td>0.1681</td><td>0.0882</td><td>0.102</td><td>0.2344</td><td>0.488</td><td>2.012</td><td>22.3876</td><td>22.0355</td><td>22.7994</td><td>22.2805</td><td>22.2643</td><td>23.0531</td><td>0.2177</td><td>0.2582</td><td>0.1845</td><td>0.2072</td><td>0.3853</td><td>1.1747</td><td>2.04</td><td>0.0</td><td>0.0</td><td>1.587</td><td>1.167</td><td>3.27</td><td>1.36</td><td>0.264</td><td>0</td><td>0</td><td>15368815</td></tr>\n",
       "<tr><td>50.4343304</td><td>1.1889465</td><td>25.1605</td><td>25.1706</td><td>26.1982</td><td>25.2424</td><td>25.29</td><td>99.0</td><td>1.0496</td><td>1.9446</td><td>1.2609</td><td>1.0186</td><td>2.0698</td><td>99.0</td><td>4.181</td><td>23.818</td><td>24.0797</td><td>24.5275</td><td>23.8204</td><td>24.0423</td><td>24.0308</td><td>0.1206</td><td>0.256</td><td>0.1243</td><td>0.1117</td><td>0.2372</td><td>0.3436</td><td>2.435</td><td>23.3199</td><td>23.0292</td><td>24.0564</td><td>23.419</td><td>23.0211</td><td>22.8579</td><td>0.1149</td><td>0.1547</td><td>0.1159</td><td>0.1142</td><td>0.1471</td><td>0.1858</td><td>2.474</td><td>23.3073</td><td>24.0656</td><td>23.9324</td><td>23.3277</td><td>23.921</td><td>24.3333</td><td>0.1703</td><td>0.6086</td><td>0.1502</td><td>0.1575</td><td>0.5093</td><td>1.1093</td><td>2.301</td><td>22.9249</td><td>22.4893</td><td>23.6493</td><td>22.9323</td><td>22.6772</td><td>21.4891</td><td>0.3949</td><td>0.4856</td><td>0.364</td><td>0.359</td><td>0.5501</td><td>0.2779</td><td>2.322</td><td>3.5</td><td>6.6</td><td>1.69</td><td>1.494</td><td>20.71</td><td>1.131</td><td>0.116</td><td>0</td><td>0</td><td>15368816</td></tr>\n",
       "<tr><td>50.2930919</td><td>1.191679</td><td>28.6748</td><td>99.0</td><td>27.4984</td><td>99.0</td><td>99.0</td><td>99.0</td><td>29.2932</td><td>99.0</td><td>4.1338</td><td>99.0</td><td>99.0</td><td>99.0</td><td>1.97</td><td>24.258</td><td>24.1617</td><td>24.8358</td><td>24.2622</td><td>24.4091</td><td>25.269</td><td>0.1868</td><td>0.2323</td><td>0.1555</td><td>0.1598</td><td>0.3314</td><td>1.0711</td><td>2.115</td><td>24.3941</td><td>23.9236</td><td>24.673</td><td>24.2427</td><td>23.9683</td><td>25.1189</td><td>0.3133</td><td>0.2847</td><td>0.1866</td><td>0.2291</td><td>0.3406</td><td>1.4471</td><td>1.713</td><td>23.501</td><td>23.5994</td><td>24.2894</td><td>23.7428</td><td>23.5514</td><td>24.0218</td><td>0.2179</td><td>0.3287</td><td>0.2002</td><td>0.2251</td><td>0.3625</td><td>0.8285</td><td>2.567</td><td>22.6971</td><td>22.6699</td><td>23.7871</td><td>23.1116</td><td>22.8771</td><td>23.4963</td><td>0.3477</td><td>0.4715</td><td>0.4052</td><td>0.4177</td><td>0.6563</td><td>1.7236</td><td>3.525</td><td>4.71</td><td>0.0</td><td>1.555</td><td>1.101</td><td>-74.17</td><td>1.412</td><td>0.292</td><td>0</td><td>0</td><td>15368817</td></tr>\n",
       "<tr><td>50.3920613</td><td>1.1862131</td><td>25.6398</td><td>25.0769</td><td>25.2209</td><td>26.0309</td><td>24.3906</td><td>25.0622</td><td>1.3107</td><td>1.3203</td><td>0.574</td><td>2.1479</td><td>0.9505</td><td>2.5989</td><td>2.047</td><td>25.5435</td><td>99.0</td><td>25.3379</td><td>25.9246</td><td>99.0</td><td>99.0</td><td>0.4248</td><td>99.0</td><td>0.231</td><td>0.6829</td><td>99.0</td><td>99.0</td><td>1.249</td><td>24.2476</td><td>24.557</td><td>24.6453</td><td>24.2926</td><td>24.8877</td><td>99.0</td><td>0.2068</td><td>0.446</td><td>0.1865</td><td>0.2451</td><td>0.8092</td><td>99.0</td><td>1.896</td><td>23.2486</td><td>23.4698</td><td>23.6441</td><td>23.265</td><td>24.0435</td><td>27.4556</td><td>0.1287</td><td>0.2504</td><td>0.119</td><td>0.1475</td><td>0.5629</td><td>19.3376</td><td>1.852</td><td>22.837</td><td>23.5788</td><td>23.1417</td><td>23.05</td><td>25.2115</td><td>99.0</td><td>0.2948</td><td>0.9513</td><td>0.2437</td><td>0.4069</td><td>5.7388</td><td>99.0</td><td>1.824</td><td>3.5</td><td>5.94</td><td>1.372</td><td>1.135</td><td>19.44</td><td>1.209</td><td>0.173</td><td>0</td><td>0</td><td>15368818</td></tr>\n",
       "<tr><td>50.4823552</td><td>1.158689</td><td>24.5143</td><td>24.0231</td><td>24.8043</td><td>24.4362</td><td>23.8835</td><td>23.193</td><td>0.4907</td><td>0.507</td><td>0.4032</td><td>0.5116</td><td>0.5861</td><td>0.4626</td><td>1.808</td><td>24.1913</td><td>24.0058</td><td>24.5998</td><td>24.2133</td><td>24.1066</td><td>24.231</td><td>0.1362</td><td>0.1769</td><td>0.13</td><td>0.1522</td><td>0.2506</td><td>0.411</td><td>2.052</td><td>23.6121</td><td>23.5531</td><td>23.8517</td><td>23.6508</td><td>23.6181</td><td>25.0266</td><td>0.1221</td><td>0.1806</td><td>0.1002</td><td>0.1396</td><td>0.2506</td><td>1.3381</td><td>1.748</td><td>23.371</td><td>23.7248</td><td>23.5307</td><td>23.3975</td><td>23.6439</td><td>99.0</td><td>0.1483</td><td>0.3234</td><td>0.1107</td><td>0.169</td><td>0.3979</td><td>99.0</td><td>1.706</td><td>22.4389</td><td>22.6857</td><td>23.0573</td><td>22.5176</td><td>24.4335</td><td>99.0</td><td>0.2123</td><td>0.4252</td><td>0.2247</td><td>0.2537</td><td>2.7869</td><td>99.0</td><td>2.296</td><td>3.5</td><td>5.94</td><td>1.4</td><td>1.127</td><td>10.83</td><td>1.242</td><td>0.195</td><td>0</td><td>0</td><td>15368819</td></tr>\n",
       "<tr><td>50.4102025</td><td>1.2000397</td><td>26.1229</td><td>24.6911</td><td>25.4176</td><td>25.5962</td><td>24.6377</td><td>99.0</td><td>3.0633</td><td>1.3459</td><td>0.6677</td><td>1.4362</td><td>1.1762</td><td>99.0</td><td>0.778</td><td>24.4618</td><td>24.5133</td><td>25.129</td><td>24.4794</td><td>24.7873</td><td>24.1355</td><td>0.2437</td><td>0.4022</td><td>0.1956</td><td>0.1935</td><td>0.4724</td><td>0.387</td><td>2.38</td><td>23.1215</td><td>23.2784</td><td>23.9937</td><td>23.2691</td><td>23.1309</td><td>23.0391</td><td>0.1148</td><td>0.2045</td><td>0.1124</td><td>0.1029</td><td>0.1651</td><td>0.2224</td><td>2.718</td><td>22.7542</td><td>22.6504</td><td>23.4622</td><td>22.8113</td><td>22.708</td><td>22.779</td><td>0.1254</td><td>0.1786</td><td>0.1058</td><td>0.1037</td><td>0.1731</td><td>0.2708</td><td>2.432</td><td>22.5383</td><td>21.9682</td><td>23.5256</td><td>22.8929</td><td>22.0317</td><td>21.5966</td><td>0.3373</td><td>0.3222</td><td>0.3345</td><td>0.3539</td><td>0.3135</td><td>0.3115</td><td>3.264</td><td>4.03</td><td>6.6</td><td>1.85</td><td>1.468</td><td>-4.79</td><td>1.26</td><td>0.207</td><td>0</td><td>0</td><td>15368820</td></tr>\n",
       "<tr><td>50.3425869</td><td>1.1903489</td><td>99.0</td><td>25.1223</td><td>25.3883</td><td>25.4006</td><td>27.3313</td><td>25.0933</td><td>99.0</td><td>2.3484</td><td>0.6335</td><td>1.1758</td><td>13.4962</td><td>2.572</td><td>-4.274</td><td>23.6382</td><td>23.7805</td><td>24.3281</td><td>23.6925</td><td>23.6493</td><td>23.8657</td><td>0.1584</td><td>0.238</td><td>0.1065</td><td>0.0993</td><td>0.1641</td><td>0.2874</td><td>2.396</td><td>21.8515</td><td>21.7276</td><td>22.8423</td><td>22.1906</td><td>21.825</td><td>21.7078</td><td>0.0523</td><td>0.0604</td><td>0.0504</td><td>0.0442</td><td>0.0524</td><td>0.0657</td><td>3.004</td><td>21.099</td><td>20.9942</td><td>21.9686</td><td>21.3235</td><td>21.1131</td><td>20.9403</td><td>0.0416</td><td>0.0486</td><td>0.0382</td><td>0.0329</td><td>0.0431</td><td>0.0513</td><td>2.743</td><td>20.6151</td><td>20.3256</td><td>21.49</td><td>20.8995</td><td>20.5815</td><td>20.22</td><td>0.0862</td><td>0.0877</td><td>0.0708</td><td>0.0668</td><td>0.0859</td><td>0.0888</td><td>2.768</td><td>0.0</td><td>6.6</td><td>2.184</td><td>1.871</td><td>-8.01</td><td>1.167</td><td>0.143</td><td>0</td><td>0</td><td>15368821</td></tr>\n",
       "<tr><td>50.4336647</td><td>1.1557664</td><td>26.213</td><td>25.7973</td><td>27.839</td><td>26.5995</td><td>99.0</td><td>99.0</td><td>2.2879</td><td>2.9333</td><td>5.4532</td><td>3.4832</td><td>99.0</td><td>99.0</td><td>4.781</td><td>24.7686</td><td>24.9046</td><td>25.3982</td><td>24.9826</td><td>25.094</td><td>25.3244</td><td>0.2277</td><td>0.456</td><td>0.2358</td><td>0.29</td><td>0.6064</td><td>1.1147</td><td>2.148</td><td>24.4381</td><td>27.1734</td><td>24.8549</td><td>24.5712</td><td>26.5037</td><td>99.0</td><td>0.2571</td><td>5.7215</td><td>0.2174</td><td>0.3082</td><td>3.4813</td><td>99.0</td><td>2.068</td><td>23.1897</td><td>23.8918</td><td>23.8576</td><td>23.2852</td><td>23.8764</td><td>99.0</td><td>0.1326</td><td>0.4424</td><td>0.1414</td><td>0.1526</td><td>0.4899</td><td>99.0</td><td>2.338</td><td>23.2906</td><td>25.1126</td><td>23.6581</td><td>23.7262</td><td>23.5951</td><td>99.0</td><td>0.4612</td><td>4.5395</td><td>0.3649</td><td>0.7283</td><td>1.2701</td><td>99.0</td><td>1.555</td><td>3.5</td><td>6.6</td><td>1.712</td><td>1.062</td><td>37.85</td><td>1.613</td><td>0.38</td><td>0</td><td>0</td><td>15368822</td></tr>\n",
       "<tr><td>50.3535174</td><td>1.1841074</td><td>24.2758</td><td>23.5367</td><td>25.9907</td><td>24.5873</td><td>23.8665</td><td>23.4576</td><td>0.8843</td><td>0.7536</td><td>1.064</td><td>0.5825</td><td>0.5784</td><td>0.5897</td><td>3.237</td><td>22.0307</td><td>21.9814</td><td>23.5263</td><td>22.7357</td><td>22.0619</td><td>22.0091</td><td>0.0465</td><td>0.0664</td><td>0.0651</td><td>0.0511</td><td>0.0459</td><td>0.0587</td><td>4.78</td><td>20.5278</td><td>20.4654</td><td>21.7441</td><td>21.0827</td><td>20.5521</td><td>20.4585</td><td>0.0206</td><td>0.0275</td><td>0.027</td><td>0.0217</td><td>0.0203</td><td>0.0241</td><td>3.976</td><td>19.9146</td><td>19.9089</td><td>21.0365</td><td>20.4302</td><td>19.9486</td><td>19.8803</td><td>0.0183</td><td>0.0256</td><td>0.0228</td><td>0.0188</td><td>0.0181</td><td>0.022</td><td>3.622</td><td>19.4532</td><td>19.4314</td><td>20.557</td><td>19.9599</td><td>19.4847</td><td>19.3648</td><td>0.0368</td><td>0.0538</td><td>0.0406</td><td>0.0352</td><td>0.0362</td><td>0.044</td><td>3.543</td><td>3.5</td><td>5.94</td><td>3.83</td><td>2.378</td><td>-1.88</td><td>1.611</td><td>0.379</td><td>3</td><td>0</td><td>15368823</td></tr>\n",
       "</table>"
      ],
      "text/plain": [
       "<Table masked=True length=15368824>\n",
       "ALPHA_J2000 DELTA_J2000 MAG_AUTO_u ... FLAGS sdss_stellarity sdss_iac_id\n",
       "    deg         deg        mag     ...                                  \n",
       "  float64     float64    float64   ... int64      int32         int32   \n",
       "----------- ----------- ---------- ... ----- --------------- -----------\n",
       "324.4023353   0.7574207    19.3612 ...     0               1           0\n",
       "324.3606858   0.7568644    19.2149 ...     0               1           1\n",
       "324.4837562   0.7563622    21.5381 ...     2               1           2\n",
       "324.1039602   0.7557376       99.0 ...     0               1           3\n",
       "324.1856491   0.7544211    21.4834 ...     2               1           4\n",
       "324.3565806   0.7541935    19.4347 ...     0               1           5\n",
       "324.4251938   0.7532412     20.067 ...     0               1           6\n",
       "324.0874968   0.7526712    21.3288 ...     0               1           7\n",
       " 324.128704   0.7524714    26.0298 ...     0               1           8\n",
       "        ...         ...        ... ...   ...             ...         ...\n",
       " 50.4826845   1.1902065    23.8486 ...     3               0    15368814\n",
       " 50.4242726   1.1614527       99.0 ...     0               0    15368815\n",
       " 50.4343304   1.1889465    25.1605 ...     0               0    15368816\n",
       " 50.2930919    1.191679    28.6748 ...     0               0    15368817\n",
       " 50.3920613   1.1862131    25.6398 ...     0               0    15368818\n",
       " 50.4823552    1.158689    24.5143 ...     0               0    15368819\n",
       " 50.4102025   1.2000397    26.1229 ...     0               0    15368820\n",
       " 50.3425869   1.1903489       99.0 ...     0               0    15368821\n",
       " 50.4336647   1.1557664     26.213 ...     0               0    15368822\n",
       " 50.3535174   1.1841074    24.2758 ...     3               0    15368823"
      ]
     },
     "execution_count": 11,
     "metadata": {},
     "output_type": "execute_result"
    }
   ],
   "source": [
    "full_cat[full_cat.colnames]"
   ]
  },
  {
   "cell_type": "code",
   "execution_count": 12,
   "metadata": {},
   "outputs": [],
   "source": [
    "cols = full_cat.colnames\n",
    "\n",
    "cols.insert(0, cols.pop(cols.index('sdss_iac_id')))\n"
   ]
  },
  {
   "cell_type": "code",
   "execution_count": 13,
   "metadata": {},
   "outputs": [],
   "source": [
    "full_cat[cols].write('./data/IAC-SDSS_Herschel-Stripe-82_full.fits', overwrite=True)"
   ]
  }
 ],
 "metadata": {
  "anaconda-cloud": {},
  "kernelspec": {
   "display_name": "Python (herschelhelp_internal)",
   "language": "python",
   "name": "helpint"
  },
  "language_info": {
   "codemirror_mode": {
    "name": "ipython",
    "version": 3
   },
   "file_extension": ".py",
   "mimetype": "text/x-python",
   "name": "python",
   "nbconvert_exporter": "python",
   "pygments_lexer": "ipython3",
   "version": "3.6.5"
  }
 },
 "nbformat": 4,
 "nbformat_minor": 2
}
