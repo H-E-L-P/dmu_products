{
 "cells": [
  {
   "cell_type": "code",
   "execution_count": 99,
   "metadata": {},
   "outputs": [],
   "source": [
    "import glob\n",
    "import numpy as np"
   ]
  },
  {
   "cell_type": "code",
   "execution_count": 146,
   "metadata": {},
   "outputs": [],
   "source": [
    "dirlist = glob.glob('*')"
   ]
  },
  {
   "cell_type": "code",
   "execution_count": 147,
   "metadata": {
    "collapsed": true
   },
   "outputs": [],
   "source": [
    "surveys = []\n",
    "for dir in dirlist:\n",
    "    surveys.append(dir[5:])"
   ]
  },
  {
   "cell_type": "code",
   "execution_count": 148,
   "metadata": {},
   "outputs": [
    {
     "data": {
      "text/plain": [
       "['2MASS-extended-sources',\n",
       " '2MASS-point-sources',\n",
       " 'AEGIS',\n",
       " 'AKARI-NEP-OptNIR',\n",
       " 'ALLWISE',\n",
       " 'ATLAS',\n",
       " 'Bootes_Brown',\n",
       " 'CANDELS-3D-HST',\n",
       " 'CANDELS-EGS',\n",
       " 'CANDELS-GOODS-N',\n",
       " 'CANDELS-GOODS-S',\n",
       " 'CANDELS-UDS',\n",
       " 'CFHT-WIRDS',\n",
       " 'CFHTLS',\n",
       " 'CFHTLenS',\n",
       " 'COMBO-17',\n",
       " 'COSMOS2015',\n",
       " 'DECaLS',\n",
       " 'DEEP2',\n",
       " 'DES',\n",
       " 'DataFusion-Spitzer',\n",
       " 'ESIS-VOICE',\n",
       " 'Fireworks',\n",
       " 'GAIA',\n",
       " 'GALEX-GCAT',\n",
       " 'GOODS-ACS',\n",
       " 'HSC',\n",
       " 'Hawaii-HDFN',\n",
       " 'IAC_Stripe82_Legacy_Project',\n",
       " 'IBIS',\n",
       " 'INTWFC',\n",
       " 'IRAC-EGS',\n",
       " 'KIDS',\n",
       " 'KPNO-FLS',\n",
       " 'LegacySurvey',\n",
       " 'NDWFS',\n",
       " 'NEP-Spitzer',\n",
       " 'PanSTARRS1-3SS',\n",
       " 'RCSLenS',\n",
       " 'SCUBA2-Duivenvoorden2018',\n",
       " 'SDSS-DR13',\n",
       " 'SDSS-S82',\n",
       " 'SDWFS',\n",
       " 'SEIP',\n",
       " 'SHELA',\n",
       " 'SIMES',\n",
       " 'SMUVS',\n",
       " 'SPLASH-SXDF',\n",
       " 'SSDF',\n",
       " 'SXDS',\n",
       " 'SpARCS',\n",
       " 'SpIES',\n",
       " 'SpUDS',\n",
       " 'UHS',\n",
       " 'UKIDSS-DXS',\n",
       " 'UKIDSS-DXS_DR10plus',\n",
       " 'UKIDSS-LAS',\n",
       " 'UKIDSS-UDS',\n",
       " 'Ultradeep-Ks-GOODS-N',\n",
       " 'VICS82',\n",
       " 'VIPERS-MLS',\n",
       " 'VISTA-VHS',\n",
       " 'VISTA-VIDEO-private',\n",
       " 'VISTA-VIDEO',\n",
       " 'VISTA-VIKING',\n",
       " 'zBootes',\n",
       " 'e.md',\n",
       " 'led.ipynb']"
      ]
     },
     "execution_count": 148,
     "metadata": {},
     "output_type": "execute_result"
    }
   ],
   "source": [
    "surveys"
   ]
  },
  {
   "cell_type": "code",
   "execution_count": 149,
   "metadata": {},
   "outputs": [],
   "source": [
    "sur_fields = []\n",
    "surveys = []\n",
    "for dir in dirlist:\n",
    "    try:\n",
    "        fopen = open(dir + '/meta_survey.yml','r')\n",
    "    except:\n",
    "        continue\n",
    "    surveys.append(dir[5:])\n",
    "    lines = []\n",
    "    for f in fopen:\n",
    "        lines.append(f)\n",
    "    \n",
    "    newlines = []\n",
    "    tmp = ''\n",
    "    for line in lines:\n",
    "        if line[:2] == '\\n':\n",
    "            newlines.append(tmp)\n",
    "            tmp = ''\n",
    "            continue\n",
    "        tmp = tmp + line[2:-1]\n",
    "        \n",
    "    fields = ''\n",
    "    for line in newlines:\n",
    "        if line[:3]=='eld':\n",
    "            fields = line[5:].split(',')\n",
    "    sur_fields.append(fields)    "
   ]
  },
  {
   "cell_type": "code",
   "execution_count": 150,
   "metadata": {},
   "outputs": [
    {
     "data": {
      "text/plain": [
       "[[' AKARI-NEP',\n",
       "  ' AKARI-SEP',\n",
       "  ' Bootes',\n",
       "  ' CDFS-SWIRE',\n",
       "  ' COSMOS',\n",
       "  ' EGS',\n",
       "  ' ELAIS-N1',\n",
       "  'ELAIS-N2',\n",
       "  ' ELAIS-S1',\n",
       "  ' GAMA-09',\n",
       "  ' GAMA-12',\n",
       "  ' GAMA-15',\n",
       "  ' HATLAS-NGP',\n",
       "  ' HATLAS-SGP',\n",
       "  ' HDF-N',\n",
       "  'Herschel-Stripe-82',\n",
       "  ' Lockman-SWIRE',\n",
       "  ' SA13',\n",
       "  ' SPIRE-NEP',\n",
       "  ' SSDF',\n",
       "  ' XMM-13hr',\n",
       "  ' XMM-LSS',\n",
       "  'xFLS'],\n",
       " [' AKARI-NEP',\n",
       "  ' AKARI-SEP',\n",
       "  ' Bootes',\n",
       "  ' CDFS-SWIRE',\n",
       "  ' COSMOS',\n",
       "  ' EGS',\n",
       "  ' ELAIS-N1',\n",
       "  'ELAIS-N2',\n",
       "  ' ELAIS-S1',\n",
       "  ' GAMA-09',\n",
       "  ' GAMA-12',\n",
       "  ' GAMA-15',\n",
       "  ' HATLAS-NGP',\n",
       "  ' HATLAS-SGP',\n",
       "  ' HDF-N',\n",
       "  'Herschel-Stripe-82',\n",
       "  ' Lockman-SWIRE',\n",
       "  ' SA13',\n",
       "  ' SPIRE-NEP',\n",
       "  ' SSDF',\n",
       "  ' XMM-13hr',\n",
       "  ' XMM-LSS',\n",
       "  'xFLS'],\n",
       " [' EGS'],\n",
       " [' AKARI-NEP'],\n",
       " [' All HELP Fields'],\n",
       " [' CDFS-SWIRE', ' HATLAS-SGP'],\n",
       " [' CDFS-SWIRE', ' COSMOS', ' EGS', ' HDF-N', ' XMM-LSS'],\n",
       " [' EGS'],\n",
       " [' CDFS-SWIRE'],\n",
       " [' CDFS-SWIRE'],\n",
       " [' XMM-LSS'],\n",
       " [' COSMOS', ' EGS', ' XMM-LSS'],\n",
       " [' COSMOS', ' EGS', ' GAMA-09', ' XMM-LSS'],\n",
       " [' EGS', ' GAMA-09', ' XMM-LSS'],\n",
       " [' CDFS-SWIRE'],\n",
       " [' COSMOS'],\n",
       " '',\n",
       " [' EGS', ' Herschel-Stripe-82'],\n",
       " [' Herschel-Stripe-82',\n",
       "  ' XMM-LSS',\n",
       "  ' CDFS-SWIRE',\n",
       "  ' HATLAS-SGP',\n",
       "  ' ELAIS-S1',\n",
       "  ' AKARI-SEP',\n",
       "  ' SSDF'],\n",
       " [' Bootes',\n",
       "  ' CDFS-SWIRE',\n",
       "  ' ELAIS-N1',\n",
       "  ' ELAIS-S1',\n",
       "  ' Lockman-SWIRE',\n",
       "  ' XMM-LSS'],\n",
       " [' ELAIS-S1'],\n",
       " [' CDFS-SWIRE'],\n",
       " [' All HELP Fields'],\n",
       " [' All HELP Fields'],\n",
       " [' CDFS-SWIRE', ' HDF-N'],\n",
       " [' COSMOS',\n",
       "  ' EGS',\n",
       "  ' ELAIS-N1',\n",
       "  ' GAMA-09',\n",
       "  ' GAMA-12',\n",
       "  ' GAMA-15',\n",
       "  ' Herschel-Stripe-82',\n",
       "  'XMM-LSS'],\n",
       " [' HDF-N'],\n",
       " [' Herschel-Stripe-82'],\n",
       " [' Bootes'],\n",
       " [' ELAIS-N1', ' ELAIS-N2', ' Lockman-SWIRE', ' xFLS'],\n",
       " [' EGS'],\n",
       " [' CDFS-SWIRE', ' COSMOS', ' GAMA-09', ' GAMA-12', ' GAMA-15', ' HATLAS-SGP'],\n",
       " [' ELAIS-N1', ' xFLS'],\n",
       " [' Bootes',\n",
       "  ' EGS',\n",
       "  ' ELAIS-N1',\n",
       "  ' ELAIS-N2',\n",
       "  ' Lockman-SWIRE',\n",
       "  ' NGP',\n",
       "  ' SA13',\n",
       "  ' xFLS',\n",
       "  ' XMM-13hr'],\n",
       " [' Bootes'],\n",
       " [' AKARI-NEP'],\n",
       " [' AKARI-NEP',\n",
       "  ' Bootes',\n",
       "  ' CDFS-SWIRE',\n",
       "  ' COSMOS',\n",
       "  ' EGS',\n",
       "  ' ELAIS-N1',\n",
       "  ' ELAIS-N2',\n",
       "  ' GAMA-09',\n",
       "  'GAMA-12',\n",
       "  ' GAMA-15',\n",
       "  ' HDF-N',\n",
       "  ' Herschel-Stripe-82',\n",
       "  ' Lockman-SWIRE',\n",
       "  ' HATLAS-NGP',\n",
       "  ' SGP',\n",
       "  'SPIRE-NEP',\n",
       "  ' XMM-LSS',\n",
       "  ' xFLS'],\n",
       " [' ELAIS-N1', ' Lockman-SWIRE', ' ELAIS-N2', ' Herschel-Stripe-82'],\n",
       " [' HELMS '],\n",
       " [' AKARI-NEP',\n",
       "  ' Bootes',\n",
       "  ' COSMOS',\n",
       "  ' EGS',\n",
       "  ' ELAIS-N1',\n",
       "  ' ELAIS-N2',\n",
       "  ' GAMA-09',\n",
       "  ' GAMA-12',\n",
       "  'GAMA-15',\n",
       "  ' HDF-N',\n",
       "  ' Herschel-Stripe-82',\n",
       "  ' Lockman-SWIRE',\n",
       "  ' SPIRE-NEP',\n",
       "  ' XMM-LSS',\n",
       "  ' xFLS'],\n",
       " [' Herschel-Stripe-82'],\n",
       " [' Bootes'],\n",
       " [' Herschel-Stripe-82'],\n",
       " [' AKARI-SEP'],\n",
       " [' COSMOS'],\n",
       " '',\n",
       " [' SSDF'],\n",
       " [' XMM-LSS'],\n",
       " [' ELAIS-N1', ' ELAIS-N2', ' Lockman-SWIRE', ' XMM-LSS'],\n",
       " [' Herschel-Stripe-82'],\n",
       " [' XMM-LSS'],\n",
       " [' Bootes',\n",
       "  ' EGS',\n",
       "  ' ELAIS-N1',\n",
       "  ' ELAIS-N2',\n",
       "  ' Lockman-SWIRE',\n",
       "  ' NGP',\n",
       "  ' SA13',\n",
       "  ' xFLS',\n",
       "  ' XMM-13hr'],\n",
       " [' ELAIS-N1', ' Lockman-SWIRE', ' XMM-LSS'],\n",
       " [' COSMOS',\n",
       "  ' GAMA-09',\n",
       "  ' GAMA-12',\n",
       "  ' GAMA-15',\n",
       "  ' Herschel-Stripe-82',\n",
       "  ' HATLAS-NGP'],\n",
       " [' XMM-LSS'],\n",
       " [' HDF-N'],\n",
       " [' Herschel-Stripe-82'],\n",
       " [' XMM-LSS'],\n",
       " [' AKARI-SEP',\n",
       "  ' CDFS-SWIRE',\n",
       "  ' ELAIS-S1',\n",
       "  ' GAMA-09',\n",
       "  ' Herschel-Stripe-82',\n",
       "  ' SSDF',\n",
       "  'XMM-LSS'],\n",
       " [' CDFS-SWIRE', ' ELAIS-S1', ' XMM-LSS'],\n",
       " [' CDFS-SWIRE',\n",
       "  ' GAMA-09',\n",
       "  ' GAMA-12',\n",
       "  ' GAMA-15',\n",
       "  ' HATLAS-SGP',\n",
       "  ' XMM-LSS'],\n",
       " [' Bootes']]"
      ]
     },
     "execution_count": 150,
     "metadata": {},
     "output_type": "execute_result"
    }
   ],
   "source": [
    "sur_fields"
   ]
  },
  {
   "cell_type": "code",
   "execution_count": 162,
   "metadata": {},
   "outputs": [],
   "source": [
    "output = []\n",
    "for n,sur in enumerate(sur_fields):\n",
    "    for m,field in enumerate(sur):\n",
    "        sur_fields[n][m] = field.replace(' ','')\n",
    "        if field.replace(' ','') not in output:\n",
    "            output.append(field.replace(' ',''))"
   ]
  },
  {
   "cell_type": "code",
   "execution_count": 163,
   "metadata": {},
   "outputs": [
    {
     "data": {
      "text/plain": [
       "['AKARI-NEP',\n",
       " 'AKARI-SEP',\n",
       " 'Bootes',\n",
       " 'CDFS-SWIRE',\n",
       " 'COSMOS',\n",
       " 'EGS',\n",
       " 'ELAIS-N1',\n",
       " 'ELAIS-N2',\n",
       " 'ELAIS-S1',\n",
       " 'GAMA-09',\n",
       " 'GAMA-12',\n",
       " 'GAMA-15',\n",
       " 'HATLAS-NGP',\n",
       " 'HATLAS-SGP',\n",
       " 'HDF-N',\n",
       " 'Herschel-Stripe-82',\n",
       " 'Lockman-SWIRE',\n",
       " 'SA13',\n",
       " 'SPIRE-NEP',\n",
       " 'SSDF',\n",
       " 'XMM-13hr',\n",
       " 'XMM-LSS',\n",
       " 'xFLS',\n",
       " 'AllHELPFields',\n",
       " 'NGP',\n",
       " 'SGP',\n",
       " 'HELMS']"
      ]
     },
     "execution_count": 163,
     "metadata": {},
     "output_type": "execute_result"
    }
   ],
   "source": [
    "output"
   ]
  },
  {
   "cell_type": "code",
   "execution_count": 201,
   "metadata": {},
   "outputs": [],
   "source": [
    "survey_table = open('survey_table.csv','a') "
   ]
  },
  {
   "cell_type": "code",
   "execution_count": 202,
   "metadata": {},
   "outputs": [],
   "source": [
    "firstline = 'Survey'\n",
    "for field in output:\n",
    "    if field == 'AllHELPFields':\n",
    "        continue\n",
    "    firstline = firstline + ',' + field\n",
    "firstline = firstline + '\\n'"
   ]
  },
  {
   "cell_type": "code",
   "execution_count": 203,
   "metadata": {},
   "outputs": [
    {
     "data": {
      "text/plain": [
       "'Survey,AKARI-NEP,AKARI-SEP,Bootes,CDFS-SWIRE,COSMOS,EGS,ELAIS-N1,ELAIS-N2,ELAIS-S1,GAMA-09,GAMA-12,GAMA-15,HATLAS-NGP,HATLAS-SGP,HDF-N,Herschel-Stripe-82,Lockman-SWIRE,SA13,SPIRE-NEP,SSDF,XMM-13hr,XMM-LSS,xFLS,NGP,SGP,HELMS\\n'"
      ]
     },
     "execution_count": 203,
     "metadata": {},
     "output_type": "execute_result"
    }
   ],
   "source": [
    "firstline"
   ]
  },
  {
   "cell_type": "code",
   "execution_count": 204,
   "metadata": {},
   "outputs": [],
   "source": [
    "lines = [firstline]\n",
    "line = ''\n",
    "for n,survey in enumerate(surveys):\n",
    "    line = line + survey\n",
    "    allhelp = line + ',' + firstline[7:]\n",
    "    \n",
    "    for field in output:\n",
    "        lineold = line\n",
    "        for f in sur_fields[n]:\n",
    "\n",
    "            if f == 'AllHELPFields':\n",
    "                line = line + ',' + firstline[7:]\n",
    "\n",
    "                break\n",
    "            if f in field:\n",
    "                line = line + ',' + field\n",
    "                break\n",
    "        if line == allhelp:\n",
    "            break\n",
    "        if lineold == line:\n",
    "            line = line + ','\n",
    "    line = line + '\\n'\n",
    "    lines.append(line)\n",
    "    line = ''"
   ]
  },
  {
   "cell_type": "code",
   "execution_count": 205,
   "metadata": {},
   "outputs": [],
   "source": [
    "for line in lines:\n",
    "    survey_table.write(line)"
   ]
  },
  {
   "cell_type": "code",
   "execution_count": 206,
   "metadata": {},
   "outputs": [
    {
     "name": "stdout",
     "output_type": "stream",
     "text": [
      "Survey,AKARI-NEP,AKARI-SEP,Bootes,CDFS-SWIRE,COSMOS,EGS,ELAIS-N1,ELAIS-N2,ELAIS-S1,GAMA-09,GAMA-12,GAMA-15,HATLAS-NGP,HATLAS-SGP,HDF-N,Herschel-Stripe-82,Lockman-SWIRE,SA13,SPIRE-NEP,SSDF,XMM-13hr,XMM-LSS,xFLS,NGP,SGP,HELMS\n",
      "\n",
      "2MASS-extended-sources,AKARI-NEP,AKARI-SEP,Bootes,CDFS-SWIRE,COSMOS,EGS,ELAIS-N1,ELAIS-N2,ELAIS-S1,GAMA-09,GAMA-12,GAMA-15,HATLAS-NGP,HATLAS-SGP,HDF-N,Herschel-Stripe-82,Lockman-SWIRE,SA13,SPIRE-NEP,SSDF,XMM-13hr,XMM-LSS,xFLS,,,,\n",
      "\n",
      "2MASS-point-sources,AKARI-NEP,AKARI-SEP,Bootes,CDFS-SWIRE,COSMOS,EGS,ELAIS-N1,ELAIS-N2,ELAIS-S1,GAMA-09,GAMA-12,GAMA-15,HATLAS-NGP,HATLAS-SGP,HDF-N,Herschel-Stripe-82,Lockman-SWIRE,SA13,SPIRE-NEP,SSDF,XMM-13hr,XMM-LSS,xFLS,,,,\n",
      "\n",
      "AEGIS,,,,,,EGS,,,,,,,,,,,,,,,,,,,,,\n",
      "\n",
      "AKARI-NEP-OptNIR,AKARI-NEP,,,,,,,,,,,,,,,,,,,,,,,,,,\n",
      "\n",
      "ALLWISE,AKARI-NEP,AKARI-SEP,Bootes,CDFS-SWIRE,COSMOS,EGS,ELAIS-N1,ELAIS-N2,ELAIS-S1,GAMA-09,GAMA-12,GAMA-15,HATLAS-NGP,HATLAS-SGP,HDF-N,Herschel-Stripe-82,Lockman-SWIRE,SA13,SPIRE-NEP,SSDF,XMM-13hr,XMM-LSS,xFLS,NGP,SGP,HELMS\n",
      "\n",
      "\n",
      "\n",
      "ATLAS,,,,CDFS-SWIRE,,,,,,,,,,HATLAS-SGP,,,,,,,,,,,,,\n",
      "\n",
      "CANDELS-3D-HST,,,,CDFS-SWIRE,COSMOS,EGS,,,,,,,,,HDF-N,,,,,,,XMM-LSS,,,,,\n",
      "\n",
      "CANDELS-EGS,,,,,,EGS,,,,,,,,,,,,,,,,,,,,,\n",
      "\n",
      "CANDELS-GOODS-N,,,,CDFS-SWIRE,,,,,,,,,,,,,,,,,,,,,,,\n",
      "\n",
      "CANDELS-GOODS-S,,,,CDFS-SWIRE,,,,,,,,,,,,,,,,,,,,,,,\n",
      "\n",
      "CANDELS-UDS,,,,,,,,,,,,,,,,,,,,,,XMM-LSS,,,,,\n",
      "\n",
      "CFHT-WIRDS,,,,,COSMOS,EGS,,,,,,,,,,,,,,,,XMM-LSS,,,,,\n",
      "\n",
      "CFHTLS,,,,,COSMOS,EGS,,,,GAMA-09,,,,,,,,,,,,XMM-LSS,,,,,\n",
      "\n",
      "CFHTLenS,,,,,,EGS,,,,GAMA-09,,,,,,,,,,,,XMM-LSS,,,,,\n",
      "\n",
      "COMBO-17,,,,CDFS-SWIRE,,,,,,,,,,,,,,,,,,,,,,,\n",
      "\n",
      "COSMOS2015,,,,,COSMOS,,,,,,,,,,,,,,,,,,,,,,\n",
      "\n",
      "DECaLS,,,,,,,,,,,,,,,,,,,,,,,,,,,\n",
      "\n",
      "DEEP2,,,,,,EGS,,,,,,,,,,Herschel-Stripe-82,,,,,,,,,,,\n",
      "\n",
      "DES,,AKARI-SEP,,CDFS-SWIRE,,,,,ELAIS-S1,,,,,HATLAS-SGP,,Herschel-Stripe-82,,,,SSDF,,XMM-LSS,,,,,\n",
      "\n",
      "DataFusion-Spitzer,,,Bootes,CDFS-SWIRE,,,ELAIS-N1,,ELAIS-S1,,,,,,,,Lockman-SWIRE,,,,,XMM-LSS,,,,,\n",
      "\n",
      "ESIS-VOICE,,,,,,,,,ELAIS-S1,,,,,,,,,,,,,,,,,,\n",
      "\n",
      "Fireworks,,,,CDFS-SWIRE,,,,,,,,,,,,,,,,,,,,,,,\n",
      "\n",
      "GAIA,AKARI-NEP,AKARI-SEP,Bootes,CDFS-SWIRE,COSMOS,EGS,ELAIS-N1,ELAIS-N2,ELAIS-S1,GAMA-09,GAMA-12,GAMA-15,HATLAS-NGP,HATLAS-SGP,HDF-N,Herschel-Stripe-82,Lockman-SWIRE,SA13,SPIRE-NEP,SSDF,XMM-13hr,XMM-LSS,xFLS,NGP,SGP,HELMS\n",
      "\n",
      "\n",
      "\n",
      "GALEX-GCAT,AKARI-NEP,AKARI-SEP,Bootes,CDFS-SWIRE,COSMOS,EGS,ELAIS-N1,ELAIS-N2,ELAIS-S1,GAMA-09,GAMA-12,GAMA-15,HATLAS-NGP,HATLAS-SGP,HDF-N,Herschel-Stripe-82,Lockman-SWIRE,SA13,SPIRE-NEP,SSDF,XMM-13hr,XMM-LSS,xFLS,NGP,SGP,HELMS\n",
      "\n",
      "\n",
      "\n",
      "GOODS-ACS,,,,CDFS-SWIRE,,,,,,,,,,,HDF-N,,,,,,,,,,,,\n",
      "\n",
      "HSC,,,,,COSMOS,EGS,ELAIS-N1,,,GAMA-09,GAMA-12,GAMA-15,,,,Herschel-Stripe-82,,,,,,XMM-LSS,,,,,\n",
      "\n",
      "Hawaii-HDFN,,,,,,,,,,,,,,,HDF-N,,,,,,,,,,,,\n",
      "\n",
      "IAC_Stripe82_Legacy_Project,,,,,,,,,,,,,,,,Herschel-Stripe-82,,,,,,,,,,,\n",
      "\n",
      "IBIS,,,Bootes,,,,,,,,,,,,,,,,,,,,,,,,\n",
      "\n",
      "INTWFC,,,,,,,ELAIS-N1,ELAIS-N2,,,,,,,,,Lockman-SWIRE,,,,,,xFLS,,,,\n",
      "\n",
      "IRAC-EGS,,,,,,EGS,,,,,,,,,,,,,,,,,,,,,\n",
      "\n",
      "KIDS,,,,CDFS-SWIRE,COSMOS,,,,,GAMA-09,GAMA-12,GAMA-15,,HATLAS-SGP,,,,,,,,,,,,,\n",
      "\n",
      "KPNO-FLS,,,,,,,ELAIS-N1,,,,,,,,,,,,,,,,xFLS,,,,\n",
      "\n",
      "LegacySurvey,,,Bootes,,,EGS,ELAIS-N1,ELAIS-N2,,,,,HATLAS-NGP,,,,Lockman-SWIRE,SA13,,,XMM-13hr,,xFLS,,NGP,,\n",
      "\n",
      "NDWFS,,,Bootes,,,,,,,,,,,,,,,,,,,,,,,,\n",
      "\n",
      "NEP-Spitzer,AKARI-NEP,,,,,,,,,,,,,,,,,,,,,,,,,,\n",
      "\n",
      "PanSTARRS1-3SS,AKARI-NEP,,Bootes,CDFS-SWIRE,COSMOS,EGS,ELAIS-N1,ELAIS-N2,,GAMA-09,GAMA-12,GAMA-15,HATLAS-NGP,HATLAS-SGP,HDF-N,Herschel-Stripe-82,Lockman-SWIRE,,SPIRE-NEP,,,XMM-LSS,xFLS,,,SGP,\n",
      "\n",
      "RCSLenS,,,,,,,ELAIS-N1,ELAIS-N2,,,,,,,,Herschel-Stripe-82,Lockman-SWIRE,,,,,,,,,,\n",
      "\n",
      "SCUBA2-Duivenvoorden2018,,,,,,,,,,,,,,,,,,,,,,,,,,,HELMS\n",
      "\n",
      "SDSS-DR13,AKARI-NEP,,Bootes,,COSMOS,EGS,ELAIS-N1,ELAIS-N2,,GAMA-09,GAMA-12,GAMA-15,,,HDF-N,Herschel-Stripe-82,Lockman-SWIRE,,SPIRE-NEP,,,XMM-LSS,xFLS,,,,\n",
      "\n",
      "SDSS-S82,,,,,,,,,,,,,,,,Herschel-Stripe-82,,,,,,,,,,,\n",
      "\n",
      "SDWFS,,,Bootes,,,,,,,,,,,,,,,,,,,,,,,,\n",
      "\n",
      "SHELA,,,,,,,,,,,,,,,,Herschel-Stripe-82,,,,,,,,,,,\n",
      "\n",
      "SIMES,,AKARI-SEP,,,,,,,,,,,,,,,,,,,,,,,,,\n",
      "\n",
      "SMUVS,,,,,COSMOS,,,,,,,,,,,,,,,,,,,,,,\n",
      "\n",
      "SPLASH-SXDF,,,,,,,,,,,,,,,,,,,,,,,,,,,\n",
      "\n",
      "SSDF,,,,,,,,,,,,,,,,,,,,SSDF,,,,,,,\n",
      "\n",
      "SXDS,,,,,,,,,,,,,,,,,,,,,,XMM-LSS,,,,,\n",
      "\n",
      "SpARCS,,,,,,,ELAIS-N1,ELAIS-N2,,,,,,,,,Lockman-SWIRE,,,,,XMM-LSS,,,,,\n",
      "\n",
      "SpIES,,,,,,,,,,,,,,,,Herschel-Stripe-82,,,,,,,,,,,\n",
      "\n",
      "SpUDS,,,,,,,,,,,,,,,,,,,,,,XMM-LSS,,,,,\n",
      "\n",
      "UHS,,,Bootes,,,EGS,ELAIS-N1,ELAIS-N2,,,,,HATLAS-NGP,,,,Lockman-SWIRE,SA13,,,XMM-13hr,,xFLS,,NGP,,\n",
      "\n",
      "UKIDSS-DXS_DR10plus,,,,,,,ELAIS-N1,,,,,,,,,,Lockman-SWIRE,,,,,XMM-LSS,,,,,\n",
      "\n",
      "UKIDSS-LAS,,,,,COSMOS,,,,,GAMA-09,GAMA-12,GAMA-15,HATLAS-NGP,,,Herschel-Stripe-82,,,,,,,,,,,\n",
      "\n",
      "UKIDSS-UDS,,,,,,,,,,,,,,,,,,,,,,XMM-LSS,,,,,\n",
      "\n",
      "Ultradeep-Ks-GOODS-N,,,,,,,,,,,,,,,HDF-N,,,,,,,,,,,,\n",
      "\n",
      "VICS82,,,,,,,,,,,,,,,,Herschel-Stripe-82,,,,,,,,,,,\n",
      "\n",
      "VIPERS-MLS,,,,,,,,,,,,,,,,,,,,,,XMM-LSS,,,,,\n",
      "\n",
      "VISTA-VHS,,AKARI-SEP,,CDFS-SWIRE,,,,,ELAIS-S1,GAMA-09,,,,,,Herschel-Stripe-82,,,,SSDF,,XMM-LSS,,,,,\n",
      "\n",
      "VISTA-VIDEO-private,,,,CDFS-SWIRE,,,,,ELAIS-S1,,,,,,,,,,,,,XMM-LSS,,,,,\n",
      "\n",
      "VISTA-VIKING,,,,CDFS-SWIRE,,,,,,GAMA-09,GAMA-12,GAMA-15,,HATLAS-SGP,,,,,,,,XMM-LSS,,,,,\n",
      "\n",
      "zBootes,,,Bootes,,,,,,,,,,,,,,,,,,,,,,,,\n",
      "\n"
     ]
    }
   ],
   "source": [
    "test = open('survey_table.csv','r')\n",
    "for f in test:\n",
    "    print(f)"
   ]
  },
  {
   "cell_type": "code",
   "execution_count": null,
   "metadata": {
    "collapsed": true
   },
   "outputs": [],
   "source": []
  },
  {
   "cell_type": "code",
   "execution_count": 7,
   "metadata": {},
   "outputs": [],
   "source": [
    "fopen = open(dirlist[0]+'/meta_survey.yml','r')"
   ]
  },
  {
   "cell_type": "code",
   "execution_count": 8,
   "metadata": {},
   "outputs": [
    {
     "data": {
      "text/plain": [
       "<_io.TextIOWrapper name='dmu0_2MASS-extended-sources/meta_survey.yml' mode='r' encoding='UTF-8'>"
      ]
     },
     "execution_count": 8,
     "metadata": {},
     "output_type": "execute_result"
    }
   ],
   "source": [
    "fopen"
   ]
  },
  {
   "cell_type": "code",
   "execution_count": 9,
   "metadata": {
    "collapsed": true
   },
   "outputs": [],
   "source": [
    "lines = []\n",
    "for f in fopen:\n",
    "    lines.append(f)"
   ]
  },
  {
   "cell_type": "code",
   "execution_count": 32,
   "metadata": {},
   "outputs": [
    {
     "name": "stdout",
     "output_type": "stream",
     "text": [
      "rvey: Two Micron All Sky Survey (2MASS) - Extended sources\n",
      "lescope: 2MASS dedicated telescopes\n",
      "strument: Dedicated instrument\n",
      "lters: J, H, Ks\n",
      "elds: AKARI-NEP, AKARI-SEP, Bootes, CDFS-SWIRE, COSMOS, EGS, ELAIS-N1,\n",
      "ELAIS-N2, ELAIS-S1, GAMA-09, GAMA-12, GAMA-15, HATLAS-NGP, HATLAS-SGP, HDF-N,\n",
      "Herschel-Stripe-82, Lockman-SWIRE, SA13, SPIRE-NEP, SSDF, XMM-13hr, XMM-LSS,\n",
      "xFLS\n",
      "I.: M.F. Skrutskie\n",
      "ference: 2006AJ....131.1163S\n",
      "L: http://www.ipac.caltech.edu/2mass/\n",
      "knowledgement: This publication makes use of data products from the Two Micron\n",
      "All Sky Survey, which is a joint project of the University of Massachusetts\n",
      "and the Infrared Processing and Analysis Center/California Institute of\n",
      "Technology, funded by the National Aeronautics and Space Administration\n",
      "and the National Science Foundation.\n"
     ]
    }
   ],
   "source": [
    "newlines = []\n",
    "tmp = ''\n",
    "for line in lines:\n",
    "    if line[:2] == '\\n':\n",
    "        newlines.append(tmp)\n",
    "        tmp = ''\n",
    "        continue\n",
    "    tmp = tmp + line[2:-1]\n",
    "    print(line[2:-1])"
   ]
  },
  {
   "cell_type": "code",
   "execution_count": 39,
   "metadata": {},
   "outputs": [
    {
     "name": "stdout",
     "output_type": "stream",
     "text": [
      "yes\n"
     ]
    }
   ],
   "source": [
    "fields = ''\n",
    "for line in newlines:\n",
    "    if line[:3]=='eld':\n",
    "        print('yes')\n",
    "        fields = line[5:].split(',')"
   ]
  },
  {
   "cell_type": "code",
   "execution_count": 41,
   "metadata": {},
   "outputs": [
    {
     "data": {
      "text/plain": [
       "[' AKARI-NEP',\n",
       " ' AKARI-SEP',\n",
       " ' Bootes',\n",
       " ' CDFS-SWIRE',\n",
       " ' COSMOS',\n",
       " ' EGS',\n",
       " ' ELAIS-N1',\n",
       " 'ELAIS-N2',\n",
       " ' ELAIS-S1',\n",
       " ' GAMA-09',\n",
       " ' GAMA-12',\n",
       " ' GAMA-15',\n",
       " ' HATLAS-NGP',\n",
       " ' HATLAS-SGP',\n",
       " ' HDF-N',\n",
       " 'Herschel-Stripe-82',\n",
       " ' Lockman-SWIRE',\n",
       " ' SA13',\n",
       " ' SPIRE-NEP',\n",
       " ' SSDF',\n",
       " ' XMM-13hr',\n",
       " ' XMM-LSS',\n",
       " 'xFLS']"
      ]
     },
     "execution_count": 41,
     "metadata": {},
     "output_type": "execute_result"
    }
   ],
   "source": [
    "fields"
   ]
  },
  {
   "cell_type": "code",
   "execution_count": null,
   "metadata": {
    "collapsed": true
   },
   "outputs": [],
   "source": []
  }
 ],
 "metadata": {
  "kernelspec": {
   "display_name": "Python 3",
   "language": "python",
   "name": "python3"
  },
  "language_info": {
   "codemirror_mode": {
    "name": "ipython",
    "version": 3
   },
   "file_extension": ".py",
   "mimetype": "text/x-python",
   "name": "python",
   "nbconvert_exporter": "python",
   "pygments_lexer": "ipython3",
   "version": "3.6.3"
  }
 },
 "nbformat": 4,
 "nbformat_minor": 2
}
