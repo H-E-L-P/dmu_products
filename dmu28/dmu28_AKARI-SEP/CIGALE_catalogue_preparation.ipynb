{
 "cells": [
  {
   "cell_type": "markdown",
   "metadata": {},
   "source": [
    "# CIGALE catalogue preparation on the AKARI-SEP field.\n",
    "\n",
    "This notebook prepares the catalogues that will be analysed by CIGALE for SED fitting and physical parameter estimation.\n",
    "\n",
    "We are also making a further catalogue including recent MeerKat data."
   ]
  },
  {
   "cell_type": "code",
   "execution_count": 1,
   "metadata": {},
   "outputs": [],
   "source": [
    "import numpy as np\n",
    "import os\n",
    "os.environ['LOG_LEVEL'] = 'INFO'\n",
    "\n",
    "from astropy.table import Table, join\n",
    "\n",
    "\n",
    "from herschelhelp.filters import correct_galactic_extinction\n",
    "from herschelhelp.external import convert_table_for_cigale\n",
    "\n",
    "from collections import OrderedDict"
   ]
  },
  {
   "cell_type": "code",
   "execution_count": 2,
   "metadata": {},
   "outputs": [],
   "source": [
    "SUFFIX = '20180221'\n",
    "\n",
    "master_catalogue = Table.read(\"../../dmu32/dmu32_AKARI-SEP/data/AKARI-SEP_{}_cigale.fits\".format(SUFFIX))"
   ]
  },
  {
   "cell_type": "code",
   "execution_count": 3,
   "metadata": {},
   "outputs": [
    {
     "data": {
      "text/plain": [
       "844172"
      ]
     },
     "execution_count": 3,
     "metadata": {},
     "output_type": "execute_result"
    }
   ],
   "source": [
    "len(master_catalogue)"
   ]
  },
  {
   "cell_type": "markdown",
   "metadata": {},
   "source": [
    "# Best sources\n",
    "\n",
    "Define a good far-IR measurement as:\n",
    "- an existing flux in the band;\n",
    "- the flag from XID+ must not be set;\n",
    "- the signal to noise ratio must be over 2."
   ]
  },
  {
   "cell_type": "code",
   "execution_count": 4,
   "metadata": {},
   "outputs": [],
   "source": [
    "good = {}\n",
    "for band in ['pacs_green', 'pacs_red', 'spire_250', 'spire_350', 'spire_500']:\n",
    "    good[band] = (~np.isnan(master_catalogue['f_{}'.format(band)]) & \n",
    "                                   ~master_catalogue['flag_{}'.format(band)])\n",
    "    good[band][good[band]] &= (master_catalogue[good[band]]['f_{}'.format(band)] /\n",
    "                              master_catalogue[good[band]]['ferr_{}'.format(band)] >= 2)"
   ]
  },
  {
   "cell_type": "markdown",
   "metadata": {},
   "source": [
    "We will keep only sources with at leat 2 good far-IR measurements (we may actually use less sources are not all may have a redshift)."
   ]
  },
  {
   "cell_type": "code",
   "execution_count": 5,
   "metadata": {},
   "outputs": [],
   "source": [
    "combined_good = np.sum(list(good.values()), axis=0) >= 2"
   ]
  },
  {
   "cell_type": "code",
   "execution_count": 6,
   "metadata": {},
   "outputs": [
    {
     "name": "stdout",
     "output_type": "stream",
     "text": [
      "Number of good sources: 946\n"
     ]
    }
   ],
   "source": [
    "print(\"Number of good sources: {}\".format(np.sum(combined_good)))"
   ]
  },
  {
   "cell_type": "code",
   "execution_count": 7,
   "metadata": {},
   "outputs": [],
   "source": [
    "# Only sources with at least two optical and at least two near infrared detections\n",
    "optnir = ((master_catalogue['flag_optnir_det'] == 3) \n",
    "          | (master_catalogue['flag_optnir_det'] == 7))"
   ]
  },
  {
   "cell_type": "markdown",
   "metadata": {},
   "source": [
    "# Main catalogue for CIGALE"
   ]
  },
  {
   "cell_type": "code",
   "execution_count": 8,
   "metadata": {},
   "outputs": [],
   "source": [
    "best_catalogue = master_catalogue[combined_good].copy()\n"
   ]
  },
  {
   "cell_type": "code",
   "execution_count": 9,
   "metadata": {},
   "outputs": [],
   "source": [
    "best_catalogue = best_catalogue[~np.isnan(best_catalogue[\"redshift\"])]"
   ]
  },
  {
   "cell_type": "code",
   "execution_count": 10,
   "metadata": {},
   "outputs": [],
   "source": [
    "# Correction for galactic extinction\n",
    "best_catalogue = correct_galactic_extinction(best_catalogue, inplace=True)"
   ]
  },
  {
   "cell_type": "code",
   "execution_count": 11,
   "metadata": {},
   "outputs": [],
   "source": [
    "# Convertion to CIGALE format\n",
    "best_catalogue = convert_table_for_cigale(best_catalogue, inplace=True, remove_zerofluxes=True)"
   ]
  },
  {
   "cell_type": "markdown",
   "metadata": {},
   "source": [
    "## Band selection\n",
    "\n",
    "We want to use only one filter for similar bands. We define an order of preference and set to NaN the flux in the lower prefered bands when a prefered band is available. Some band may have a 0 flux, we set there values to NaN."
   ]
  },
  {
   "cell_type": "code",
   "execution_count": 12,
   "metadata": {},
   "outputs": [],
   "source": [
    "u_bands = []\n",
    "g_bands = [\"decam_g\"]\n",
    "r_bands = [\"decam_r\"]\n",
    "i_bands = [\"decam_i\"]\n",
    "z_bands = [\"decam_z\"]\n",
    "y_bands = [\"decam_y\"]\n",
    "\n",
    "def remove_unneeded_fluxes(list_of_bands):\n",
    "    for band_idx, band in enumerate(list_of_bands[:-1]):\n",
    "        mask = ~np.isnan(best_catalogue[band])\n",
    "        for lower_band in list_of_bands[band_idx+1:]:\n",
    "            best_catalogue[lower_band][mask] = np.nan\n",
    "            best_catalogue[\"{}_err\".format(lower_band)][mask] = np.nan"
   ]
  },
  {
   "cell_type": "code",
   "execution_count": 13,
   "metadata": {},
   "outputs": [],
   "source": [
    "remove_unneeded_fluxes(u_bands)\n",
    "remove_unneeded_fluxes(g_bands)\n",
    "remove_unneeded_fluxes(r_bands)\n",
    "remove_unneeded_fluxes(i_bands)\n",
    "remove_unneeded_fluxes(z_bands)\n",
    "remove_unneeded_fluxes(y_bands)"
   ]
  },
  {
   "cell_type": "code",
   "execution_count": 14,
   "metadata": {},
   "outputs": [
    {
     "name": "stdout",
     "output_type": "stream",
     "text": [
      "mkdir: data_tmp: File exists\n"
     ]
    }
   ],
   "source": [
    "!mkdir data_tmp"
   ]
  },
  {
   "cell_type": "code",
   "execution_count": 15,
   "metadata": {},
   "outputs": [],
   "source": [
    "best_catalogue.write(\"data_tmp/AKARI-SEP_cigale_best_extcor_{}.fits\".format(SUFFIX), overwrite=True)"
   ]
  },
  {
   "cell_type": "markdown",
   "metadata": {},
   "source": [
    "# Catalogue using spectroscopic redshift"
   ]
  },
  {
   "cell_type": "code",
   "execution_count": 16,
   "metadata": {},
   "outputs": [],
   "source": [
    "best_catalogue = master_catalogue[combined_good].copy()"
   ]
  },
  {
   "cell_type": "code",
   "execution_count": 17,
   "metadata": {},
   "outputs": [],
   "source": [
    "best_catalogue.remove_column(\"redshift\")\n",
    "best_catalogue[\"zspec\"].name = \"redshift\""
   ]
  },
  {
   "cell_type": "code",
   "execution_count": 18,
   "metadata": {},
   "outputs": [],
   "source": [
    "best_catalogue = best_catalogue[~np.isnan(best_catalogue[\"redshift\"])]"
   ]
  },
  {
   "cell_type": "code",
   "execution_count": 19,
   "metadata": {},
   "outputs": [
    {
     "name": "stdout",
     "output_type": "stream",
     "text": [
      "Number of sources with z-spec: 71\n"
     ]
    }
   ],
   "source": [
    "print(\"Number of sources with z-spec: {}\".format(len(best_catalogue)))"
   ]
  },
  {
   "cell_type": "code",
   "execution_count": 20,
   "metadata": {},
   "outputs": [],
   "source": [
    "# Correction for galactic extinction\n",
    "best_catalogue = correct_galactic_extinction(best_catalogue, inplace=True)"
   ]
  },
  {
   "cell_type": "code",
   "execution_count": 21,
   "metadata": {},
   "outputs": [],
   "source": [
    "# Convertion to CIGALE format\n",
    "os.environ['LOG_LEVEL'] = 'INFO'\n",
    "best_catalogue = convert_table_for_cigale(best_catalogue, inplace=True, remove_zerofluxes=True)"
   ]
  },
  {
   "cell_type": "code",
   "execution_count": 22,
   "metadata": {},
   "outputs": [],
   "source": [
    "remove_unneeded_fluxes(g_bands)\n",
    "remove_unneeded_fluxes(u_bands)\n",
    "remove_unneeded_fluxes(r_bands)\n",
    "remove_unneeded_fluxes(i_bands)\n",
    "remove_unneeded_fluxes(z_bands)\n",
    "remove_unneeded_fluxes(y_bands)"
   ]
  },
  {
   "cell_type": "code",
   "execution_count": 23,
   "metadata": {
    "tags": []
   },
   "outputs": [],
   "source": [
    "best_catalogue.write(\"data_tmp/AKARI-SEP_cigale_best_extcor_zspec_{}.fits\".format(SUFFIX), overwrite=True)"
   ]
  },
  {
   "cell_type": "markdown",
   "metadata": {},
   "source": [
    "## MeerKat catalogue"
   ]
  },
  {
   "cell_type": "code",
   "execution_count": 24,
   "metadata": {},
   "outputs": [],
   "source": [
    "meerkat=Table.read('../../dmu9/dmu9_MeerKat/data/adfs_meerkat_all_s9_matched_srcs_ver5.fits')"
   ]
  },
  {
   "cell_type": "code",
   "execution_count": 25,
   "metadata": {},
   "outputs": [],
   "source": [
    "best_catalogue = master_catalogue[combined_good].copy()"
   ]
  },
  {
   "cell_type": "code",
   "execution_count": 26,
   "metadata": {},
   "outputs": [
    {
     "data": {
      "text/html": [
       "<i>Table masked=True length=5</i>\n",
       "<table id=\"table140260761029320\" class=\"table-striped table-bordered table-condensed\">\n",
       "<thead><tr><th>ID_S9</th><th>RA_S9</th><th>DEC_S9</th><th>TOTAL_FLUX_S9</th><th>E_TOTAL_FLUX_S9</th><th>PEAK_FLUX_S9</th><th>E_PEAK_FLUX_S9</th><th>ISL_RMS_S9</th><th>MATCH_ID</th><th>HELP_ID</th><th>RA_HELP</th><th>DEC_HELP</th><th>ZBEST</th><th>Z_PHOTO</th><th>E_Z_PHOTO</th><th>Z_SPEC</th><th>NRCs_S9</th><th>RC_S9</th></tr></thead>\n",
       "<thead><tr><th>int32</th><th>float64</th><th>float64</th><th>float64</th><th>float64</th><th>float64</th><th>float64</th><th>float64</th><th>int32</th><th>bytes27</th><th>float64</th><th>float64</th><th>float64</th><th>float64</th><th>float64</th><th>float64</th><th>int16</th><th>bytes42</th></tr></thead>\n",
       "<tr><td>2</td><td>73.6874587111701</td><td>-52.87401454557761</td><td>3.0003349429645423e-05</td><td>8.05257766425511e-06</td><td>1.0697886712665846e-05</td><td>2.17915980779838e-06</td><td>2.106207148244721e-06</td><td>553025</td><td>HELP_J045444.881-525225.354</td><td>73.68700314051341</td><td>-52.873709421457704</td><td>0.3864355</td><td>0.3864355</td><td>0.10539615</td><td>nan</td><td>1</td><td>[2]</td></tr>\n",
       "<tr><td>7</td><td>73.67599940758815</td><td>-52.80897480584811</td><td>4.245745096044256e-05</td><td>5.696126596292526e-06</td><td>2.403726760005785e-05</td><td>2.203890412591199e-06</td><td>2.0401498659339268e-06</td><td>484471</td><td>HELP_J045442.129-524831.962</td><td>73.67553619459312</td><td>-52.80887823188071</td><td>nan</td><td>nan</td><td>nan</td><td>nan</td><td>1</td><td>[7]</td></tr>\n",
       "<tr><td>8</td><td>73.6911122603053</td><td>-53.09929881259075</td><td>1.2451530909212555e-05</td><td>5.108263627616426e-06</td><td>8.591369347374768e-06</td><td>2.278275684462228e-06</td><td>2.141669256161549e-06</td><td>347972</td><td>HELP_J045445.762-530557.482</td><td>73.69067543588658</td><td>-53.099300435340346</td><td>0.039888</td><td>0.026589284</td><td>0.007870829000000001</td><td>0.039888</td><td>1</td><td>[8]</td></tr>\n",
       "<tr><td>9</td><td>73.68674172101788</td><td>-53.061034927872065</td><td>8.936688465253442e-06</td><td>3.1092906092600507e-06</td><td>1.1321505889260284e-05</td><td>2.065669598037972e-06</td><td>2.241039055661531e-06</td><td>994252</td><td>HELP_J045444.737-530339.749</td><td>73.6864021934515</td><td>-53.06104125020421</td><td>0.72683567</td><td>0.72683567</td><td>0.26864845</td><td>nan</td><td>1</td><td>[9]</td></tr>\n",
       "<tr><td>10</td><td>73.65029964301772</td><td>-52.437255754196826</td><td>1.924403774353546e-05</td><td>5.6494271866775076e-06</td><td>1.3488011297328689e-05</td><td>2.5545346458872798e-06</td><td>2.3938555386848748e-06</td><td>236184</td><td>HELP_J045435.951-522615.173</td><td>73.64979592157016</td><td>-52.437548065655285</td><td>0.46191818</td><td>0.46191818</td><td>0.019458273</td><td>nan</td><td>1</td><td>[10]</td></tr>\n",
       "</table>"
      ],
      "text/plain": [
       "<Table masked=True length=5>\n",
       "ID_S9       RA_S9              DEC_S9       ...  Z_SPEC  NRCs_S9  RC_S9 \n",
       "int32      float64            float64       ... float64   int16  bytes42\n",
       "----- ----------------- ------------------- ... -------- ------- -------\n",
       "    2  73.6874587111701  -52.87401454557761 ...      nan       1     [2]\n",
       "    7 73.67599940758815  -52.80897480584811 ...      nan       1     [7]\n",
       "    8  73.6911122603053  -53.09929881259075 ... 0.039888       1     [8]\n",
       "    9 73.68674172101788 -53.061034927872065 ...      nan       1     [9]\n",
       "   10 73.65029964301772 -52.437255754196826 ...      nan       1    [10]"
      ]
     },
     "execution_count": 26,
     "metadata": {},
     "output_type": "execute_result"
    }
   ],
   "source": [
    "meerkat[:5]"
   ]
  },
  {
   "cell_type": "code",
   "execution_count": 27,
   "metadata": {},
   "outputs": [],
   "source": [
    "imported_columns=OrderedDict({\n",
    "    'HELP_ID':'help_id',\n",
    "    'TOTAL_FLUX_S9':'f_meerkat_s9',\n",
    "    'E_TOTAL_FLUX_S9':'ferr_meerkat_s9',\n",
    "    'ZBEST':'meerkat_photoz',\n",
    "})\n",
    "meerkat=meerkat[list(imported_columns)]\n",
    "for column in imported_columns:\n",
    "    meerkat[column].name = imported_columns[column]"
   ]
  },
  {
   "cell_type": "code",
   "execution_count": 28,
   "metadata": {},
   "outputs": [
    {
     "data": {
      "text/plain": [
       "12877"
      ]
     },
     "execution_count": 28,
     "metadata": {},
     "output_type": "execute_result"
    }
   ],
   "source": [
    "len(meerkat)"
   ]
  },
  {
   "cell_type": "code",
   "execution_count": 29,
   "metadata": {},
   "outputs": [
    {
     "data": {
      "text/html": [
       "<i>Table length=5</i>\n",
       "<table id=\"table140260758980760\" class=\"table-striped table-bordered table-condensed\">\n",
       "<thead><tr><th>help_id</th><th>field</th><th>ra</th><th>dec</th><th>hp_idx</th><th>ebv</th><th>redshift</th><th>zspec</th><th>f_decam_g</th><th>ferr_decam_g</th><th>f_ap_decam_g</th><th>ferr_ap_decam_g</th><th>m_decam_g</th><th>merr_decam_g</th><th>m_ap_decam_g</th><th>merr_ap_decam_g</th><th>flag_decam_g</th><th>f_decam_r</th><th>ferr_decam_r</th><th>f_ap_decam_r</th><th>ferr_ap_decam_r</th><th>m_decam_r</th><th>merr_decam_r</th><th>m_ap_decam_r</th><th>merr_ap_decam_r</th><th>flag_decam_r</th><th>f_decam_i</th><th>ferr_decam_i</th><th>f_ap_decam_i</th><th>ferr_ap_decam_i</th><th>m_decam_i</th><th>merr_decam_i</th><th>m_ap_decam_i</th><th>merr_ap_decam_i</th><th>flag_decam_i</th><th>f_decam_z</th><th>ferr_decam_z</th><th>f_ap_decam_z</th><th>ferr_ap_decam_z</th><th>m_decam_z</th><th>merr_decam_z</th><th>m_ap_decam_z</th><th>merr_ap_decam_z</th><th>flag_decam_z</th><th>f_decam_y</th><th>ferr_decam_y</th><th>f_ap_decam_y</th><th>ferr_ap_decam_y</th><th>m_decam_y</th><th>merr_decam_y</th><th>m_ap_decam_y</th><th>merr_ap_decam_y</th><th>flag_decam_y</th><th>f_vista_j</th><th>ferr_vista_j</th><th>f_ap_vista_j</th><th>ferr_ap_vista_j</th><th>m_vista_j</th><th>merr_vista_j</th><th>m_ap_vista_j</th><th>merr_ap_vista_j</th><th>flag_vista_j</th><th>f_vista_h</th><th>ferr_vista_h</th><th>f_ap_vista_h</th><th>ferr_ap_vista_h</th><th>m_vista_h</th><th>merr_vista_h</th><th>m_ap_vista_h</th><th>merr_ap_vista_h</th><th>flag_vista_h</th><th>f_vista_ks</th><th>ferr_vista_ks</th><th>f_ap_vista_ks</th><th>ferr_ap_vista_ks</th><th>m_vista_ks</th><th>merr_vista_ks</th><th>m_ap_vista_ks</th><th>merr_ap_vista_ks</th><th>flag_vista_ks</th><th>f_irac_i1</th><th>ferr_irac_i1</th><th>f_ap_irac_i1</th><th>ferr_ap_irac_i1</th><th>m_irac_i1</th><th>merr_irac_i1</th><th>m_ap_irac_i1</th><th>merr_ap_irac_i1</th><th>flag_irac_i1</th><th>f_irac_i2</th><th>ferr_irac_i2</th><th>f_ap_irac_i2</th><th>ferr_ap_irac_i2</th><th>m_irac_i2</th><th>merr_irac_i2</th><th>m_ap_irac_i2</th><th>merr_ap_irac_i2</th><th>flag_irac_i2</th><th>f_mips_24</th><th>ferr_mips_24</th><th>flag_mips_24</th><th>f_pacs_green</th><th>ferr_pacs_green</th><th>flag_pacs_green</th><th>f_pacs_red</th><th>ferr_pacs_red</th><th>flag_pacs_red</th><th>f_spire_250</th><th>ferr_spire_250</th><th>flag_spire_250</th><th>f_spire_350</th><th>ferr_spire_350</th><th>flag_spire_350</th><th>f_spire_500</th><th>ferr_spire_500</th><th>flag_spire_500</th><th>stellarity</th><th>stellarity_origin</th><th>flag_cleaned</th><th>flag_merged</th><th>flag_gaia</th><th>flag_optnir_obs</th><th>flag_optnir_det</th><th>zspec_qual</th><th>zspec_association_flag</th></tr></thead>\n",
       "<thead><tr><th></th><th></th><th>deg</th><th>deg</th><th></th><th></th><th></th><th></th><th>uJy</th><th>uJy</th><th>uJy</th><th>uJy</th><th>mag</th><th>mag</th><th>mag</th><th>mag</th><th></th><th>uJy</th><th>uJy</th><th>uJy</th><th>uJy</th><th>mag</th><th>mag</th><th>mag</th><th>mag</th><th></th><th>uJy</th><th>uJy</th><th>uJy</th><th>uJy</th><th>mag</th><th>mag</th><th>mag</th><th>mag</th><th></th><th>uJy</th><th>uJy</th><th>uJy</th><th>uJy</th><th>mag</th><th>mag</th><th>mag</th><th>mag</th><th></th><th>uJy</th><th>uJy</th><th>uJy</th><th>uJy</th><th>mag</th><th>mag</th><th>mag</th><th>mag</th><th></th><th>uJy</th><th>uJy</th><th>uJy</th><th>uJy</th><th>mag</th><th>mag</th><th>mag</th><th>mag</th><th></th><th>uJy</th><th>uJy</th><th>uJy</th><th>uJy</th><th>mag</th><th>mag</th><th>mag</th><th>mag</th><th></th><th>uJy</th><th>uJy</th><th>uJy</th><th>uJy</th><th>mag</th><th>mag</th><th>mag</th><th>mag</th><th></th><th>uJy</th><th>uJy</th><th>uJy</th><th>uJy</th><th>mag</th><th>mag</th><th>mag</th><th>mag</th><th></th><th>uJy</th><th>uJy</th><th>uJy</th><th>uJy</th><th>mag</th><th>mag</th><th>mag</th><th>mag</th><th></th><th>uJy</th><th>uJy</th><th></th><th>uJy</th><th>uJy</th><th></th><th>uJy</th><th>uJy</th><th></th><th>uJy</th><th>uJy</th><th></th><th>uJy</th><th>uJy</th><th></th><th>uJy</th><th>uJy</th><th></th><th></th><th></th><th></th><th></th><th></th><th></th><th></th><th></th><th></th></tr></thead>\n",
       "<thead><tr><th>bytes27</th><th>bytes18</th><th>float64</th><th>float64</th><th>int64</th><th>float64</th><th>float32</th><th>float64</th><th>float64</th><th>float64</th><th>float64</th><th>float64</th><th>float64</th><th>float64</th><th>float64</th><th>float64</th><th>bool</th><th>float64</th><th>float64</th><th>float64</th><th>float64</th><th>float64</th><th>float64</th><th>float64</th><th>float64</th><th>bool</th><th>float64</th><th>float64</th><th>float64</th><th>float64</th><th>float64</th><th>float64</th><th>float64</th><th>float64</th><th>bool</th><th>float64</th><th>float64</th><th>float64</th><th>float64</th><th>float64</th><th>float64</th><th>float64</th><th>float64</th><th>bool</th><th>float64</th><th>float64</th><th>float64</th><th>float64</th><th>float64</th><th>float64</th><th>float64</th><th>float64</th><th>bool</th><th>float32</th><th>float32</th><th>float32</th><th>float32</th><th>float32</th><th>float32</th><th>float32</th><th>float32</th><th>bool</th><th>float32</th><th>float32</th><th>float32</th><th>float32</th><th>float32</th><th>float32</th><th>float32</th><th>float32</th><th>bool</th><th>float32</th><th>float32</th><th>float32</th><th>float32</th><th>float32</th><th>float32</th><th>float32</th><th>float32</th><th>bool</th><th>float32</th><th>float32</th><th>float32</th><th>float32</th><th>float32</th><th>float32</th><th>float32</th><th>float32</th><th>bool</th><th>float32</th><th>float32</th><th>float32</th><th>float32</th><th>float32</th><th>float32</th><th>float32</th><th>float32</th><th>bool</th><th>float32</th><th>float32</th><th>bool</th><th>float32</th><th>float32</th><th>bool</th><th>float32</th><th>float32</th><th>bool</th><th>float32</th><th>float32</th><th>bool</th><th>float32</th><th>float32</th><th>bool</th><th>float32</th><th>float32</th><th>bool</th><th>float64</th><th>bytes20</th><th>bool</th><th>bool</th><th>int64</th><th>int64</th><th>int64</th><th>int64</th><th>bool</th></tr></thead>\n",
       "<tr><td>HELP_J043743.047-541546.529</td><td>AKARI-SEP</td><td>69.42936156056442</td><td>-54.26292467587036</td><td>556165883</td><td>0.005216917337193211</td><td>nan</td><td>nan</td><td>1.1602380903150522</td><td>0.2087293811479051</td><td>1.0023778377777695</td><td>0.12966795457713476</td><td>23.738632202148438</td><td>0.1953263282775879</td><td>23.89742136001587</td><td>0.14045122265815735</td><td>False</td><td>1.9693890208952047</td><td>0.22847464966012418</td><td>1.9488443098278312</td><td>0.13654527652564724</td><td>23.16417121887207</td><td>0.12595947086811066</td><td>23.175557136535645</td><td>0.0760718286037445</td><td>False</td><td>2.2630519261799336</td><td>0.4343343840479813</td><td>2.554178941192882</td><td>0.24907195271175267</td><td>23.013263702392578</td><td>0.20837903022766113</td><td>22.881871700286865</td><td>0.10587607324123383</td><td>False</td><td>4.426770795468066</td><td>0.7643476754630564</td><td>4.347653160843821</td><td>0.4314072593419604</td><td>22.28478240966797</td><td>0.18746846914291382</td><td>22.304362773895264</td><td>0.10773501545190811</td><td>False</td><td>5.242857136142722</td><td>2.4113265347221673</td><td>3.491993489184114</td><td>1.3888638898821069</td><td>22.1010799407959</td><td>0.4993583559989929</td><td>22.542316436767578</td><td>0.4318277835845947</td><td>False</td><td>nan</td><td>nan</td><td>nan</td><td>nan</td><td>nan</td><td>nan</td><td>nan</td><td>nan</td><td>False</td><td>nan</td><td>nan</td><td>nan</td><td>nan</td><td>nan</td><td>nan</td><td>nan</td><td>nan</td><td>False</td><td>nan</td><td>nan</td><td>nan</td><td>nan</td><td>nan</td><td>nan</td><td>nan</td><td>nan</td><td>False</td><td>46.757805</td><td>1.2191161</td><td>43.877453</td><td>0.9411782</td><td>19.725365</td><td>0.028308395</td><td>19.794395</td><td>0.02328921</td><td>False</td><td>59.56756</td><td>1.3536267</td><td>54.976746</td><td>1.0564173</td><td>19.462479</td><td>0.024672514</td><td>19.549553</td><td>0.020863194</td><td>False</td><td>249.02927</td><td>26.547607</td><td>False</td><td>735244.75</td><td>314663.53</td><td>False</td><td>742493.56</td><td>128094.94</td><td>False</td><td>8180.619</td><td>5360.3105</td><td>False</td><td>11556.527</td><td>8673.527</td><td>True</td><td>6945.0034</td><td>4967.2036</td><td>False</td><td>0.75154048204422</td><td>des_stellarity</td><td>False</td><td>False</td><td>0</td><td>7</td><td>5</td><td>-99</td><td>False</td></tr>\n",
       "<tr><td>HELP_J043746.555-541806.072</td><td>AKARI-SEP</td><td>69.44398085049404</td><td>-54.30168671165807</td><td>556165857</td><td>0.006254108628880296</td><td>nan</td><td>nan</td><td>nan</td><td>nan</td><td>nan</td><td>nan</td><td>nan</td><td>nan</td><td>nan</td><td>nan</td><td>False</td><td>0.780385084193625</td><td>0.17599262352466818</td><td>0.9310539313825914</td><td>0.14333417510050894</td><td>24.169227600097656</td><td>0.24485547840595245</td><td>23.97756290435791</td><td>0.16714724898338318</td><td>False</td><td>1.5828903672398975</td><td>0.3817862347431749</td><td>1.3353345794624119</td><td>0.309403497829293</td><td>23.4013729095459</td><td>0.26187482476234436</td><td>23.58602476119995</td><td>0.25157034397125244</td><td>False</td><td>3.0621263157247616</td><td>0.6190264820592373</td><td>2.385355641268547</td><td>0.49475283508195955</td><td>22.6849422454834</td><td>0.21948783099651337</td><td>22.956117153167725</td><td>0.22519537806510925</td><td>False</td><td>4.926103241036573</td><td>1.9789327955656628</td><td>4.3317634634194375</td><td>1.6171310111523678</td><td>22.16874122619629</td><td>0.43616604804992676</td><td>22.308338165283203</td><td>0.40532630681991577</td><td>False</td><td>nan</td><td>nan</td><td>nan</td><td>nan</td><td>nan</td><td>nan</td><td>nan</td><td>nan</td><td>False</td><td>nan</td><td>nan</td><td>nan</td><td>nan</td><td>nan</td><td>nan</td><td>nan</td><td>nan</td><td>False</td><td>nan</td><td>nan</td><td>nan</td><td>nan</td><td>nan</td><td>nan</td><td>nan</td><td>nan</td><td>False</td><td>40.57041</td><td>1.4458822</td><td>34.95694</td><td>1.0072293</td><td>19.879478</td><td>0.03869437</td><td>20.041168</td><td>0.031283785</td><td>False</td><td>39.03826</td><td>1.2252822</td><td>34.158974</td><td>0.8826808</td><td>19.92128</td><td>0.034077674</td><td>20.066238</td><td>0.028055834</td><td>False</td><td>256.18924</td><td>24.913437</td><td>False</td><td>10093.119</td><td>3460.084</td><td>False</td><td>51389.934</td><td>10079.1875</td><td>False</td><td>9448.615</td><td>6411.997</td><td>True</td><td>9152.745</td><td>6486.145</td><td>False</td><td>6098.5005</td><td>4199.103</td><td>False</td><td>0.4288212060928345</td><td>des_stellarity</td><td>False</td><td>False</td><td>0</td><td>7</td><td>5</td><td>-99</td><td>False</td></tr>\n",
       "<tr><td>HELP_J043753.510-542147.298</td><td>AKARI-SEP</td><td>69.472960104891</td><td>-54.36313845819467</td><td>556165765</td><td>0.007650207056777916</td><td>1.1072309</td><td>nan</td><td>1.8886663511825779</td><td>0.19308435510915176</td><td>1.364791110250854</td><td>0.1260819613709477</td><td>23.209611892700195</td><td>0.1109982579946518</td><td>23.562334537506104</td><td>0.10030234605073929</td><td>False</td><td>2.2142294652916914</td><td>0.20833320923034376</td><td>1.8596526742885608</td><td>0.13034230918458029</td><td>23.036943435668945</td><td>0.10215513408184052</td><td>23.226420402526855</td><td>0.07609881460666656</td><td>False</td><td>2.9250909473799513</td><td>0.4579018704229761</td><td>2.4191837766030932</td><td>0.28493299267235367</td><td>22.734651565551758</td><td>0.16996416449546814</td><td>22.9408278465271</td><td>0.12787869572639465</td><td>False</td><td>2.836493742602281</td><td>0.7182143508571345</td><td>3.0085450151440334</td><td>0.42388150845409234</td><td>22.76804542541504</td><td>0.27491381764411926</td><td>22.704108715057373</td><td>0.15297211706638336</td><td>False</td><td>5.270746157633433</td><td>2.3943094160972147</td><td>3.4727292813986197</td><td>1.4439361852000163</td><td>22.095319747924805</td><td>0.49321070313453674</td><td>22.548322677612305</td><td>0.4514414072036743</td><td>False</td><td>nan</td><td>nan</td><td>nan</td><td>nan</td><td>nan</td><td>nan</td><td>nan</td><td>nan</td><td>False</td><td>nan</td><td>nan</td><td>nan</td><td>nan</td><td>nan</td><td>nan</td><td>nan</td><td>nan</td><td>False</td><td>nan</td><td>nan</td><td>nan</td><td>nan</td><td>nan</td><td>nan</td><td>nan</td><td>nan</td><td>False</td><td>11.151337</td><td>0.879033</td><td>11.09408</td><td>0.8676993</td><td>21.281685</td><td>0.08558597</td><td>21.28727</td><td>0.08491849</td><td>False</td><td>13.80771</td><td>0.8268005</td><td>13.922115</td><td>0.821894</td><td>21.049698</td><td>0.06501348</td><td>21.040741</td><td>0.064096585</td><td>False</td><td>333.89978</td><td>27.587677</td><td>False</td><td>9269.369</td><td>4153.1465</td><td>False</td><td>31606.28</td><td>8336.275</td><td>False</td><td>13336.344</td><td>8929.906</td><td>True</td><td>8843.796</td><td>6057.7637</td><td>False</td><td>6687.0913</td><td>4465.855</td><td>False</td><td>0.45468759536743164</td><td>simes_stellarity</td><td>False</td><td>False</td><td>0</td><td>7</td><td>5</td><td>-99</td><td>False</td></tr>\n",
       "<tr><td>HELP_J043754.742-542143.599</td><td>AKARI-SEP</td><td>69.47809313072611</td><td>-54.362110812839056</td><td>556165776</td><td>0.007741280019220469</td><td>0.49036536</td><td>nan</td><td>9.924539342026984</td><td>0.23818117220957355</td><td>7.947315444467615</td><td>0.1352496724101542</td><td>21.40822410583496</td><td>0.026056818664073944</td><td>21.64944887161255</td><td>0.018477367237210274</td><td>False</td><td>29.74285959374672</td><td>0.2620131039502265</td><td>23.791127464995842</td><td>0.15114699662583006</td><td>20.216543197631836</td><td>0.009564551524817944</td><td>20.458962440490723</td><td>0.00689777173101902</td><td>False</td><td>43.71208291598464</td><td>0.4849550336043222</td><td>34.103392587988516</td><td>0.2540574391208271</td><td>19.79849624633789</td><td>0.012045484967529774</td><td>20.06800603866577</td><td>0.008088326081633568</td><td>False</td><td>57.325349367667535</td><td>0.9437427254497713</td><td>44.131302170647565</td><td>0.4966326879868763</td><td>19.504133224487305</td><td>0.01787438988685608</td><td>19.788133144378662</td><td>0.012218358926475048</td><td>False</td><td>62.84155423388688</td><td>2.929698410971557</td><td>48.091128902420834</td><td>1.477323365969639</td><td>19.404382705688477</td><td>0.05061745643615723</td><td>19.69483757019043</td><td>0.03335300087928772</td><td>False</td><td>68.1234</td><td>11.206076</td><td>66.34743</td><td>4.480242</td><td>19.31676</td><td>0.17860004</td><td>19.34544</td><td>0.0733165</td><td>False</td><td>97.93603</td><td>18.270737</td><td>94.58359</td><td>6.7107043</td><td>18.922644</td><td>0.20255265</td><td>18.96046</td><td>0.077032976</td><td>False</td><td>181.43253</td><td>21.232965</td><td>114.90085</td><td>6.4208302</td><td>18.253212</td><td>0.12706321</td><td>18.749191</td><td>0.060672555</td><td>False</td><td>116.49943</td><td>1.9787371</td><td>93.072426</td><td>1.225413</td><td>18.734192</td><td>0.018441178</td><td>18.977951</td><td>0.014295052</td><td>False</td><td>91.13598</td><td>1.8300834</td><td>72.61479</td><td>1.1105905</td><td>19.000778</td><td>0.02180245</td><td>19.247437</td><td>0.016605545</td><td>False</td><td>528.93353</td><td>25.562103</td><td>True</td><td>16160.301</td><td>3513.412</td><td>False</td><td>18632.244</td><td>7854.2607</td><td>False</td><td>11135.589</td><td>8130.1396</td><td>True</td><td>12328.018</td><td>8271.453</td><td>True</td><td>14500.22</td><td>9895.335</td><td>True</td><td>0.06062188744544983</td><td>simes_stellarity</td><td>False</td><td>False</td><td>0</td><td>7</td><td>7</td><td>-99</td><td>False</td></tr>\n",
       "<tr><td>HELP_J043837.261-542338.899</td><td>AKARI-SEP</td><td>69.65525581448394</td><td>-54.394138602801355</td><td>556165336</td><td>0.008053855900555674</td><td>nan</td><td>nan</td><td>nan</td><td>nan</td><td>0.11253109500129364</td><td>0.09994427878075815</td><td>nan</td><td>nan</td><td>26.2718186378479</td><td>0.9642945528030396</td><td>False</td><td>0.4051926795848784</td><td>0.19953739308606455</td><td>0.5304842204447291</td><td>0.11176520833643179</td><td>24.88084602355957</td><td>0.5346714854240417</td><td>24.588318824768066</td><td>0.228748619556427</td><td>False</td><td>2.9369388046154947</td><td>0.3841892010126666</td><td>2.11332735201543</td><td>0.21273991331411565</td><td>22.730262756347656</td><td>0.14202819764614105</td><td>23.08758306503296</td><td>0.10929656773805618</td><td>False</td><td>4.505509362383805</td><td>0.6741303425306514</td><td>2.9221030916258894</td><td>0.36831645410664</td><td>22.265640258789062</td><td>0.16245171427726746</td><td>22.735761165618896</td><td>0.13685160875320435</td><td>False</td><td>8.118230251677428</td><td>2.2322423596661203</td><td>5.154165453711805</td><td>1.246269840372257</td><td>21.626346588134766</td><td>0.29854121804237366</td><td>22.119604110717773</td><td>0.2625294625759125</td><td>False</td><td>nan</td><td>nan</td><td>nan</td><td>nan</td><td>nan</td><td>nan</td><td>nan</td><td>nan</td><td>False</td><td>nan</td><td>nan</td><td>nan</td><td>nan</td><td>nan</td><td>nan</td><td>nan</td><td>nan</td><td>False</td><td>nan</td><td>nan</td><td>nan</td><td>nan</td><td>nan</td><td>nan</td><td>nan</td><td>nan</td><td>False</td><td>36.544796</td><td>1.3680388</td><td>31.337387</td><td>0.8973578</td><td>19.992935</td><td>0.040644065</td><td>20.159843</td><td>0.031090463</td><td>False</td><td>27.327822</td><td>1.3820319</td><td>24.866787</td><td>0.8836572</td><td>20.308487</td><td>0.054908216</td><td>20.41095</td><td>0.03858233</td><td>False</td><td>534.0917</td><td>32.563934</td><td>True</td><td>16271.49</td><td>3397.1123</td><td>False</td><td>24753.316</td><td>11347.004</td><td>False</td><td>14864.464</td><td>10487.292</td><td>True</td><td>5093.5474</td><td>3467.482</td><td>False</td><td>4470.0044</td><td>3015.4863</td><td>False</td><td>0.3500291705131531</td><td>des_stellarity</td><td>False</td><td>False</td><td>0</td><td>7</td><td>5</td><td>-99</td><td>False</td></tr>\n",
       "</table>"
      ],
      "text/plain": [
       "<Table length=5>\n",
       "          help_id             field   ... zspec_qual zspec_association_flag\n",
       "                                      ...                                  \n",
       "          bytes27            bytes18  ...   int64             bool         \n",
       "--------------------------- --------- ... ---------- ----------------------\n",
       "HELP_J043743.047-541546.529 AKARI-SEP ...        -99                  False\n",
       "HELP_J043746.555-541806.072 AKARI-SEP ...        -99                  False\n",
       "HELP_J043753.510-542147.298 AKARI-SEP ...        -99                  False\n",
       "HELP_J043754.742-542143.599 AKARI-SEP ...        -99                  False\n",
       "HELP_J043837.261-542338.899 AKARI-SEP ...        -99                  False"
      ]
     },
     "execution_count": 29,
     "metadata": {},
     "output_type": "execute_result"
    }
   ],
   "source": [
    "best_catalogue[:5]"
   ]
  },
  {
   "cell_type": "code",
   "execution_count": 30,
   "metadata": {},
   "outputs": [
    {
     "data": {
      "text/plain": [
       "946"
      ]
     },
     "execution_count": 30,
     "metadata": {},
     "output_type": "execute_result"
    }
   ],
   "source": [
    "len(best_catalogue)"
   ]
  },
  {
   "cell_type": "code",
   "execution_count": 31,
   "metadata": {},
   "outputs": [
    {
     "data": {
      "text/plain": [
       "608"
      ]
     },
     "execution_count": 31,
     "metadata": {},
     "output_type": "execute_result"
    }
   ],
   "source": [
    "len(set(meerkat['help_id']).intersection(set(best_catalogue['help_id'])))"
   ]
  },
  {
   "cell_type": "code",
   "execution_count": 32,
   "metadata": {},
   "outputs": [],
   "source": [
    "best_catalogue=join(best_catalogue, meerkat, join_type='left')"
   ]
  },
  {
   "cell_type": "code",
   "execution_count": 33,
   "metadata": {},
   "outputs": [],
   "source": [
    "best_catalogue['redshift']=best_catalogue['meerkat_photoz']"
   ]
  },
  {
   "cell_type": "code",
   "execution_count": 34,
   "metadata": {},
   "outputs": [],
   "source": [
    "best_catalogue.write(\"data_tmp/AKARI-SEP_cigale_best_extcor_meerkat_{}.fits\".format(SUFFIX), overwrite=True)"
   ]
  },
  {
   "cell_type": "code",
   "execution_count": null,
   "metadata": {},
   "outputs": [],
   "source": []
  }
 ],
 "metadata": {
  "anaconda-cloud": {},
  "kernelspec": {
   "display_name": "Python (herschelhelp_internal)",
   "language": "python",
   "name": "helpint"
  },
  "language_info": {
   "codemirror_mode": {
    "name": "ipython",
    "version": 3
   },
   "file_extension": ".py",
   "mimetype": "text/x-python",
   "name": "python",
   "nbconvert_exporter": "python",
   "pygments_lexer": "ipython3",
   "version": "3.6.12"
  }
 },
 "nbformat": 4,
 "nbformat_minor": 4
}
