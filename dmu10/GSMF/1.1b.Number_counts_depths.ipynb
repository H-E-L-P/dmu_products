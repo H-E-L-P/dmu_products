{
 "cells": [
  {
   "cell_type": "markdown",
   "metadata": {},
   "source": [
    "# Depths\n",
    "\n",
    "\n"
   ]
  },
  {
   "cell_type": "code",
   "execution_count": 1,
   "metadata": {},
   "outputs": [],
   "source": [
    "import numpy as np\n",
    "from astropy.table import Table, join\n",
    "from astropy.io import fits\n",
    "from astropy import units as u\n",
    "from astropy.modeling import models, fitting\n",
    "from astropy.modeling.models import custom_model\n",
    "from astropy.coordinates import SkyCoord, search_around_sky\n",
    "from IPython.display import clear_output\n",
    "from scipy.interpolate import interp1d\n",
    "\n",
    "import scipy\n",
    "from scipy.optimize import curve_fit\n",
    "import scipy.stats\n",
    "import pickle\n",
    "import os\n",
    "from pymoc.util import catalog\n",
    "from pymoc import MOC\n",
    "import healpy as hp\n",
    "import matplotlib.pyplot as plt\n",
    "import matplotlib.patches as patches\n",
    "from matplotlib import gridspec\n",
    "#import utils\n",
    "\n",
    "from herschelhelp_internal.utils import flux_to_mag, mag_to_flux, inMoc, coords_to_hpidx\n",
    "from herschelhelp.external import convert_table_for_cigale"
   ]
  },
  {
   "cell_type": "markdown",
   "metadata": {},
   "source": [
    "### Catalogues from HS-82 and deeper surveys"
   ]
  },
  {
   "cell_type": "code",
   "execution_count": 3,
   "metadata": {},
   "outputs": [],
   "source": [
    "DMU_DIR = '../dmu_products/'\n",
    "FIELD = 'Herschel-Stripe-82'\n",
    "# final_cat = Table.read('../dmu_products/dmu1/dmu1_ml_Herschel-Stripe-82/data/master_catalogue_herschel-stripe-82_20180307.fits', memmap=True)\n",
    "depths_cat = Table.read('../dmu_products/dmu1/dmu1_ml_Herschel-Stripe-82/data/depths_herschel-stripe-82_20210513.fits', memmap=True)"
   ]
  },
  {
   "cell_type": "code",
   "execution_count": 4,
   "metadata": {},
   "outputs": [
    {
     "data": {
      "text/html": [
       "<i>Table masked=True length=5</i>\n",
       "<table id=\"table140331298442496\" class=\"table-striped table-bordered table-condensed\">\n",
       "<thead><tr><th>hp_idx_O_13</th><th>hp_idx_O_10</th><th>ferr_ap_suprime_g_mean</th><th>f_ap_suprime_g_p90</th><th>ferr_suprime_g_mean</th><th>f_suprime_g_p90</th><th>ferr_ap_suprime_r_mean</th><th>f_ap_suprime_r_p90</th><th>ferr_suprime_r_mean</th><th>f_suprime_r_p90</th><th>ferr_ap_suprime_i_mean</th><th>f_ap_suprime_i_p90</th><th>ferr_suprime_i_mean</th><th>f_suprime_i_p90</th><th>ferr_ap_suprime_z_mean</th><th>f_ap_suprime_z_p90</th><th>ferr_suprime_z_mean</th><th>f_suprime_z_p90</th><th>ferr_ap_suprime_y_mean</th><th>f_ap_suprime_y_p90</th><th>ferr_suprime_y_mean</th><th>f_suprime_y_p90</th><th>ferr_ap_suprime_n921_mean</th><th>f_ap_suprime_n921_p90</th><th>ferr_suprime_n921_mean</th><th>f_suprime_n921_p90</th><th>ferr_ap_suprime_n816_mean</th><th>f_ap_suprime_n816_p90</th><th>ferr_suprime_n816_mean</th><th>f_suprime_n816_p90</th><th>ferr_ap_vista_y_mean</th><th>f_ap_vista_y_p90</th><th>ferr_vista_y_mean</th><th>f_vista_y_p90</th><th>ferr_ap_vista_h_mean</th><th>f_ap_vista_h_p90</th><th>ferr_vista_h_mean</th><th>f_vista_h_p90</th><th>ferr_ap_wircam_j_mean</th><th>f_ap_wircam_j_p90</th><th>ferr_wircam_j_mean</th><th>f_wircam_j_p90</th><th>ferr_ap_vista_j_mean</th><th>f_ap_vista_j_p90</th><th>ferr_vista_j_mean</th><th>f_vista_j_p90</th><th>ferr_ap_wircam_ks_mean</th><th>f_ap_wircam_ks_p90</th><th>ferr_wircam_ks_mean</th><th>f_wircam_ks_p90</th><th>ferr_ap_vista_ks_mean</th><th>f_ap_vista_ks_p90</th><th>ferr_vista_ks_mean</th><th>f_vista_ks_p90</th><th>ferr_ukidss_y_mean</th><th>f_ukidss_y_p90</th><th>ferr_ap_ukidss_y_mean</th><th>f_ap_ukidss_y_p90</th><th>ferr_ukidss_j_mean</th><th>f_ukidss_j_p90</th><th>ferr_ap_ukidss_j_mean</th><th>f_ap_ukidss_j_p90</th><th>ferr_ap_ukidss_h_mean</th><th>f_ap_ukidss_h_p90</th><th>ferr_ukidss_h_mean</th><th>f_ukidss_h_p90</th><th>ferr_ap_ukidss_k_mean</th><th>f_ap_ukidss_k_p90</th><th>ferr_ukidss_k_mean</th><th>f_ukidss_k_p90</th><th>ferr_ap_gpc1_g_mean</th><th>f_ap_gpc1_g_p90</th><th>ferr_gpc1_g_mean</th><th>f_gpc1_g_p90</th><th>ferr_ap_gpc1_r_mean</th><th>f_ap_gpc1_r_p90</th><th>ferr_gpc1_r_mean</th><th>f_gpc1_r_p90</th><th>ferr_ap_gpc1_i_mean</th><th>f_ap_gpc1_i_p90</th><th>ferr_gpc1_i_mean</th><th>f_gpc1_i_p90</th><th>ferr_ap_gpc1_z_mean</th><th>f_ap_gpc1_z_p90</th><th>ferr_gpc1_z_mean</th><th>f_gpc1_z_p90</th><th>ferr_ap_gpc1_y_mean</th><th>f_ap_gpc1_y_p90</th><th>ferr_gpc1_y_mean</th><th>f_gpc1_y_p90</th><th>ferr_ap_irac_i1_mean</th><th>f_ap_irac_i1_p90</th><th>ferr_irac_i1_mean</th><th>f_irac_i1_p90</th><th>ferr_ap_irac_i2_mean</th><th>f_ap_irac_i2_p90</th><th>ferr_irac_i2_mean</th><th>f_irac_i2_p90</th><th>ferr_ap_decam_i_mean</th><th>f_ap_decam_i_p90</th><th>ferr_decam_i_mean</th><th>f_decam_i_p90</th><th>ferr_ap_decam_y_mean</th><th>f_ap_decam_y_p90</th><th>ferr_decam_y_mean</th><th>f_decam_y_p90</th><th>ferr_ap_decam_g_mean</th><th>f_ap_decam_g_p90</th><th>ferr_decam_g_mean</th><th>f_decam_g_p90</th><th>ferr_ap_decam_r_mean</th><th>f_ap_decam_r_p90</th><th>ferr_decam_r_mean</th><th>f_decam_r_p90</th><th>ferr_ap_decam_z_mean</th><th>f_ap_decam_z_p90</th><th>ferr_decam_z_mean</th><th>f_decam_z_p90</th><th>ferr_megacam_g_mean</th><th>f_megacam_g_p90</th><th>ferr_megacam_r_mean</th><th>f_megacam_r_p90</th><th>ferr_megacam_i_mean</th><th>f_megacam_i_p90</th><th>ferr_megacam_z_mean</th><th>f_megacam_z_p90</th><th>ferr_megacam_y_mean</th><th>f_megacam_y_p90</th><th>ferr_sdss_u_mean</th><th>f_sdss_u_p90</th><th>ferr_sdss_g_mean</th><th>f_sdss_g_p90</th><th>ferr_sdss_r_mean</th><th>f_sdss_r_p90</th><th>ferr_sdss_i_mean</th><th>f_sdss_i_p90</th><th>ferr_sdss_z_mean</th><th>f_sdss_z_p90</th><th>ferr_ap_sdss_u_mean</th><th>f_ap_sdss_u_p90</th><th>ferr_ap_sdss_g_mean</th><th>f_ap_sdss_g_p90</th><th>ferr_ap_sdss_r_mean</th><th>f_ap_sdss_r_p90</th><th>ferr_ap_sdss_i_mean</th><th>f_ap_sdss_i_p90</th><th>ferr_ap_sdss_z_mean</th><th>f_ap_sdss_z_p90</th></tr></thead>\n",
       "<thead><tr><th>int64</th><th>int64</th><th>float64</th><th>float64</th><th>float64</th><th>float64</th><th>float64</th><th>float64</th><th>float64</th><th>float64</th><th>float64</th><th>float64</th><th>float64</th><th>float64</th><th>float64</th><th>float64</th><th>float64</th><th>float64</th><th>float64</th><th>float64</th><th>float64</th><th>float64</th><th>float64</th><th>float64</th><th>float64</th><th>float64</th><th>float64</th><th>float64</th><th>float64</th><th>float64</th><th>float64</th><th>float64</th><th>float64</th><th>float64</th><th>float64</th><th>float64</th><th>float64</th><th>float64</th><th>float64</th><th>float64</th><th>float64</th><th>float64</th><th>float64</th><th>float64</th><th>float64</th><th>float64</th><th>float64</th><th>float64</th><th>float64</th><th>float64</th><th>float64</th><th>float64</th><th>float64</th><th>float64</th><th>float64</th><th>float64</th><th>float64</th><th>float64</th><th>float64</th><th>float64</th><th>float64</th><th>float64</th><th>float64</th><th>float64</th><th>float64</th><th>float64</th><th>float64</th><th>float64</th><th>float64</th><th>float64</th><th>float64</th><th>float64</th><th>float64</th><th>float64</th><th>float64</th><th>float64</th><th>float64</th><th>float64</th><th>float64</th><th>float64</th><th>float64</th><th>float64</th><th>float64</th><th>float64</th><th>float64</th><th>float64</th><th>float64</th><th>float64</th><th>float64</th><th>float64</th><th>float64</th><th>float64</th><th>float64</th><th>float64</th><th>float64</th><th>float64</th><th>float64</th><th>float64</th><th>float64</th><th>float64</th><th>float64</th><th>float64</th><th>float64</th><th>float64</th><th>float64</th><th>float64</th><th>float64</th><th>float64</th><th>float64</th><th>float64</th><th>float64</th><th>float64</th><th>float64</th><th>float64</th><th>float64</th><th>float64</th><th>float64</th><th>float64</th><th>float64</th><th>float64</th><th>float64</th><th>float64</th><th>float64</th><th>float64</th><th>float64</th><th>float64</th><th>float64</th><th>float64</th><th>float64</th><th>float64</th><th>float64</th><th>float64</th><th>float64</th><th>float64</th><th>float64</th><th>float64</th><th>float64</th><th>float64</th><th>float64</th><th>float64</th><th>float64</th><th>float64</th><th>float64</th><th>float64</th><th>float64</th><th>float64</th><th>float64</th><th>float64</th></tr></thead>\n",
       "<tr><td>283010926</td><td>4422045</td><td>nan</td><td>nan</td><td>nan</td><td>nan</td><td>nan</td><td>nan</td><td>nan</td><td>nan</td><td>nan</td><td>nan</td><td>nan</td><td>nan</td><td>nan</td><td>nan</td><td>nan</td><td>nan</td><td>nan</td><td>nan</td><td>nan</td><td>nan</td><td>nan</td><td>nan</td><td>nan</td><td>nan</td><td>nan</td><td>nan</td><td>nan</td><td>nan</td><td>nan</td><td>nan</td><td>nan</td><td>nan</td><td>nan</td><td>nan</td><td>nan</td><td>nan</td><td>nan</td><td>nan</td><td>nan</td><td>nan</td><td>nan</td><td>nan</td><td>nan</td><td>nan</td><td>nan</td><td>nan</td><td>nan</td><td>nan</td><td>nan</td><td>nan</td><td>nan</td><td>nan</td><td>nan</td><td>nan</td><td>nan</td><td>nan</td><td>nan</td><td>nan</td><td>nan</td><td>nan</td><td>nan</td><td>nan</td><td>nan</td><td>nan</td><td>nan</td><td>nan</td><td>nan</td><td>nan</td><td>0.6663945163855857</td><td>8.562372086859712</td><td>0.6980252584378036</td><td>8.166195614575006</td><td>0.54884360007069</td><td>17.649615659888585</td><td>0.6899060993495375</td><td>17.546317639488713</td><td>0.8827311377207262</td><td>33.03907493909644</td><td>0.8871972250203473</td><td>29.16519112722181</td><td>1.8656364290878744</td><td>40.02308230594046</td><td>1.8354863031939121</td><td>36.930620373406086</td><td>4.332169976068439</td><td>66.16562344711417</td><td>4.748989122537494</td><td>63.3108166784456</td><td>nan</td><td>nan</td><td>nan</td><td>nan</td><td>nan</td><td>nan</td><td>nan</td><td>nan</td><td>0.287777422508373</td><td>11.057299090383063</td><td>0.5814616016516413</td><td>14.497351554021874</td><td>2.3481376293320775</td><td>44.63492890415645</td><td>4.301787402886749</td><td>76.17839928863256</td><td>0.15947791023820646</td><td>4.526811759858735</td><td>0.24114446887380153</td><td>4.664934175511461</td><td>0.1886506803341955</td><td>10.745291299726365</td><td>0.36203104660801155</td><td>12.745302089889968</td><td>0.48431180485670944</td><td>22.309875589064944</td><td>0.9886748545950814</td><td>26.212934747843523</td><td>nan</td><td>nan</td><td>nan</td><td>nan</td><td>nan</td><td>nan</td><td>nan</td><td>nan</td><td>nan</td><td>nan</td><td>nan</td><td>nan</td><td>nan</td><td>nan</td><td>nan</td><td>nan</td><td>nan</td><td>nan</td><td>nan</td><td>nan</td><td>nan</td><td>nan</td><td>nan</td><td>nan</td><td>nan</td><td>nan</td><td>nan</td><td>nan</td><td>nan</td><td>nan</td></tr>\n",
       "<tr><td>283010939</td><td>4422045</td><td>nan</td><td>nan</td><td>nan</td><td>nan</td><td>nan</td><td>nan</td><td>nan</td><td>nan</td><td>nan</td><td>nan</td><td>nan</td><td>nan</td><td>nan</td><td>nan</td><td>nan</td><td>nan</td><td>nan</td><td>nan</td><td>nan</td><td>nan</td><td>nan</td><td>nan</td><td>nan</td><td>nan</td><td>nan</td><td>nan</td><td>nan</td><td>nan</td><td>nan</td><td>nan</td><td>nan</td><td>nan</td><td>nan</td><td>nan</td><td>nan</td><td>nan</td><td>nan</td><td>nan</td><td>nan</td><td>nan</td><td>nan</td><td>nan</td><td>nan</td><td>nan</td><td>nan</td><td>nan</td><td>nan</td><td>nan</td><td>nan</td><td>nan</td><td>nan</td><td>nan</td><td>nan</td><td>nan</td><td>nan</td><td>nan</td><td>nan</td><td>nan</td><td>nan</td><td>nan</td><td>nan</td><td>nan</td><td>nan</td><td>nan</td><td>nan</td><td>nan</td><td>nan</td><td>nan</td><td>0.6663945163855857</td><td>8.562372086859712</td><td>0.6980252584378036</td><td>8.166195614575006</td><td>0.54884360007069</td><td>17.649615659888585</td><td>0.6899060993495375</td><td>17.546317639488713</td><td>0.8827311377207262</td><td>33.03907493909644</td><td>0.8871972250203473</td><td>29.16519112722181</td><td>1.8656364290878744</td><td>40.02308230594046</td><td>1.8354863031939121</td><td>36.930620373406086</td><td>4.332169976068439</td><td>66.16562344711417</td><td>4.748989122537494</td><td>63.3108166784456</td><td>nan</td><td>nan</td><td>nan</td><td>nan</td><td>nan</td><td>nan</td><td>nan</td><td>nan</td><td>0.287777422508373</td><td>11.057299090383063</td><td>0.5814616016516413</td><td>14.497351554021874</td><td>2.3481376293320775</td><td>44.63492890415645</td><td>4.301787402886749</td><td>76.17839928863256</td><td>0.15947791023820646</td><td>4.526811759858735</td><td>0.24114446887380153</td><td>4.664934175511461</td><td>0.1886506803341955</td><td>10.745291299726365</td><td>0.36203104660801155</td><td>12.745302089889968</td><td>0.48431180485670944</td><td>22.309875589064944</td><td>0.9886748545950814</td><td>26.212934747843523</td><td>nan</td><td>nan</td><td>nan</td><td>nan</td><td>nan</td><td>nan</td><td>nan</td><td>nan</td><td>nan</td><td>nan</td><td>nan</td><td>nan</td><td>nan</td><td>nan</td><td>nan</td><td>nan</td><td>nan</td><td>nan</td><td>nan</td><td>nan</td><td>nan</td><td>nan</td><td>nan</td><td>nan</td><td>nan</td><td>nan</td><td>nan</td><td>nan</td><td>nan</td><td>nan</td></tr>\n",
       "<tr><td>283010937</td><td>4422045</td><td>nan</td><td>nan</td><td>nan</td><td>nan</td><td>nan</td><td>nan</td><td>nan</td><td>nan</td><td>nan</td><td>nan</td><td>nan</td><td>nan</td><td>nan</td><td>nan</td><td>nan</td><td>nan</td><td>nan</td><td>nan</td><td>nan</td><td>nan</td><td>nan</td><td>nan</td><td>nan</td><td>nan</td><td>nan</td><td>nan</td><td>nan</td><td>nan</td><td>nan</td><td>nan</td><td>nan</td><td>nan</td><td>nan</td><td>nan</td><td>nan</td><td>nan</td><td>nan</td><td>nan</td><td>nan</td><td>nan</td><td>nan</td><td>nan</td><td>nan</td><td>nan</td><td>nan</td><td>nan</td><td>nan</td><td>nan</td><td>nan</td><td>nan</td><td>nan</td><td>nan</td><td>nan</td><td>nan</td><td>nan</td><td>nan</td><td>nan</td><td>nan</td><td>nan</td><td>nan</td><td>nan</td><td>nan</td><td>nan</td><td>nan</td><td>nan</td><td>nan</td><td>nan</td><td>nan</td><td>0.6663945163855857</td><td>8.562372086859712</td><td>0.6980252584378036</td><td>8.166195614575006</td><td>0.54884360007069</td><td>17.649615659888585</td><td>0.6899060993495375</td><td>17.546317639488713</td><td>0.8827311377207262</td><td>33.03907493909644</td><td>0.8871972250203473</td><td>29.16519112722181</td><td>1.8656364290878744</td><td>40.02308230594046</td><td>1.8354863031939121</td><td>36.930620373406086</td><td>4.332169976068439</td><td>66.16562344711417</td><td>4.748989122537494</td><td>63.3108166784456</td><td>nan</td><td>nan</td><td>nan</td><td>nan</td><td>nan</td><td>nan</td><td>nan</td><td>nan</td><td>0.287777422508373</td><td>11.057299090383063</td><td>0.5814616016516413</td><td>14.497351554021874</td><td>2.3481376293320775</td><td>44.63492890415645</td><td>4.301787402886749</td><td>76.17839928863256</td><td>0.15947791023820646</td><td>4.526811759858735</td><td>0.24114446887380153</td><td>4.664934175511461</td><td>0.1886506803341955</td><td>10.745291299726365</td><td>0.36203104660801155</td><td>12.745302089889968</td><td>0.48431180485670944</td><td>22.309875589064944</td><td>0.9886748545950814</td><td>26.212934747843523</td><td>nan</td><td>nan</td><td>nan</td><td>nan</td><td>nan</td><td>nan</td><td>nan</td><td>nan</td><td>nan</td><td>nan</td><td>nan</td><td>nan</td><td>nan</td><td>nan</td><td>nan</td><td>nan</td><td>nan</td><td>nan</td><td>nan</td><td>nan</td><td>nan</td><td>nan</td><td>nan</td><td>nan</td><td>nan</td><td>nan</td><td>nan</td><td>nan</td><td>nan</td><td>nan</td></tr>\n",
       "<tr><td>283010938</td><td>4422045</td><td>nan</td><td>nan</td><td>nan</td><td>nan</td><td>nan</td><td>nan</td><td>nan</td><td>nan</td><td>nan</td><td>nan</td><td>nan</td><td>nan</td><td>nan</td><td>nan</td><td>nan</td><td>nan</td><td>nan</td><td>nan</td><td>nan</td><td>nan</td><td>nan</td><td>nan</td><td>nan</td><td>nan</td><td>nan</td><td>nan</td><td>nan</td><td>nan</td><td>nan</td><td>nan</td><td>nan</td><td>nan</td><td>nan</td><td>nan</td><td>nan</td><td>nan</td><td>nan</td><td>nan</td><td>nan</td><td>nan</td><td>nan</td><td>nan</td><td>nan</td><td>nan</td><td>nan</td><td>nan</td><td>nan</td><td>nan</td><td>nan</td><td>nan</td><td>nan</td><td>nan</td><td>nan</td><td>nan</td><td>nan</td><td>nan</td><td>nan</td><td>nan</td><td>nan</td><td>nan</td><td>nan</td><td>nan</td><td>nan</td><td>nan</td><td>nan</td><td>nan</td><td>nan</td><td>nan</td><td>0.6663945163855857</td><td>8.562372086859712</td><td>0.6980252584378036</td><td>8.166195614575006</td><td>0.54884360007069</td><td>17.649615659888585</td><td>0.6899060993495375</td><td>17.546317639488713</td><td>0.8827311377207262</td><td>33.03907493909644</td><td>0.8871972250203473</td><td>29.16519112722181</td><td>1.8656364290878744</td><td>40.02308230594046</td><td>1.8354863031939121</td><td>36.930620373406086</td><td>4.332169976068439</td><td>66.16562344711417</td><td>4.748989122537494</td><td>63.3108166784456</td><td>nan</td><td>nan</td><td>nan</td><td>nan</td><td>nan</td><td>nan</td><td>nan</td><td>nan</td><td>0.287777422508373</td><td>11.057299090383063</td><td>0.5814616016516413</td><td>14.497351554021874</td><td>2.3481376293320775</td><td>44.63492890415645</td><td>4.301787402886749</td><td>76.17839928863256</td><td>0.15947791023820646</td><td>4.526811759858735</td><td>0.24114446887380153</td><td>4.664934175511461</td><td>0.1886506803341955</td><td>10.745291299726365</td><td>0.36203104660801155</td><td>12.745302089889968</td><td>0.48431180485670944</td><td>22.309875589064944</td><td>0.9886748545950814</td><td>26.212934747843523</td><td>nan</td><td>nan</td><td>nan</td><td>nan</td><td>nan</td><td>nan</td><td>nan</td><td>nan</td><td>nan</td><td>nan</td><td>nan</td><td>nan</td><td>nan</td><td>nan</td><td>nan</td><td>nan</td><td>nan</td><td>nan</td><td>nan</td><td>nan</td><td>nan</td><td>nan</td><td>nan</td><td>nan</td><td>nan</td><td>nan</td><td>nan</td><td>nan</td><td>nan</td><td>nan</td></tr>\n",
       "<tr><td>283010942</td><td>4422045</td><td>nan</td><td>nan</td><td>nan</td><td>nan</td><td>nan</td><td>nan</td><td>nan</td><td>nan</td><td>nan</td><td>nan</td><td>nan</td><td>nan</td><td>nan</td><td>nan</td><td>nan</td><td>nan</td><td>nan</td><td>nan</td><td>nan</td><td>nan</td><td>nan</td><td>nan</td><td>nan</td><td>nan</td><td>nan</td><td>nan</td><td>nan</td><td>nan</td><td>nan</td><td>nan</td><td>nan</td><td>nan</td><td>nan</td><td>nan</td><td>nan</td><td>nan</td><td>nan</td><td>nan</td><td>nan</td><td>nan</td><td>nan</td><td>nan</td><td>nan</td><td>nan</td><td>nan</td><td>nan</td><td>nan</td><td>nan</td><td>nan</td><td>nan</td><td>nan</td><td>nan</td><td>nan</td><td>nan</td><td>nan</td><td>nan</td><td>nan</td><td>nan</td><td>nan</td><td>nan</td><td>nan</td><td>nan</td><td>nan</td><td>nan</td><td>nan</td><td>nan</td><td>nan</td><td>nan</td><td>0.6663945163855857</td><td>8.562372086859712</td><td>0.6980252584378036</td><td>8.166195614575006</td><td>0.54884360007069</td><td>17.649615659888585</td><td>0.6899060993495375</td><td>17.546317639488713</td><td>0.8827311377207262</td><td>33.03907493909644</td><td>0.8871972250203473</td><td>29.16519112722181</td><td>1.8656364290878744</td><td>40.02308230594046</td><td>1.8354863031939121</td><td>36.930620373406086</td><td>4.332169976068439</td><td>66.16562344711417</td><td>4.748989122537494</td><td>63.3108166784456</td><td>nan</td><td>nan</td><td>nan</td><td>nan</td><td>nan</td><td>nan</td><td>nan</td><td>nan</td><td>0.287777422508373</td><td>11.057299090383063</td><td>0.5814616016516413</td><td>14.497351554021874</td><td>2.3481376293320775</td><td>44.63492890415645</td><td>4.301787402886749</td><td>76.17839928863256</td><td>0.15947791023820646</td><td>4.526811759858735</td><td>0.24114446887380153</td><td>4.664934175511461</td><td>0.1886506803341955</td><td>10.745291299726365</td><td>0.36203104660801155</td><td>12.745302089889968</td><td>0.48431180485670944</td><td>22.309875589064944</td><td>0.9886748545950814</td><td>26.212934747843523</td><td>nan</td><td>nan</td><td>nan</td><td>nan</td><td>nan</td><td>nan</td><td>nan</td><td>nan</td><td>nan</td><td>nan</td><td>nan</td><td>nan</td><td>nan</td><td>nan</td><td>nan</td><td>nan</td><td>nan</td><td>nan</td><td>nan</td><td>nan</td><td>nan</td><td>nan</td><td>nan</td><td>nan</td><td>nan</td><td>nan</td><td>nan</td><td>nan</td><td>nan</td><td>nan</td></tr>\n",
       "</table>"
      ],
      "text/plain": [
       "<Table masked=True length=5>\n",
       "hp_idx_O_13 hp_idx_O_10 ... ferr_ap_sdss_z_mean f_ap_sdss_z_p90\n",
       "   int64       int64    ...       float64           float64    \n",
       "----------- ----------- ... ------------------- ---------------\n",
       "  283010926     4422045 ...                 nan             nan\n",
       "  283010939     4422045 ...                 nan             nan\n",
       "  283010937     4422045 ...                 nan             nan\n",
       "  283010938     4422045 ...                 nan             nan\n",
       "  283010942     4422045 ...                 nan             nan"
      ]
     },
     "execution_count": 4,
     "metadata": {},
     "output_type": "execute_result"
    }
   ],
   "source": [
    "depths_cat[:5]"
   ]
  },
  {
   "cell_type": "markdown",
   "metadata": {},
   "source": [
    "## Depths"
   ]
  },
  {
   "cell_type": "code",
   "execution_count": 5,
   "metadata": {},
   "outputs": [],
   "source": [
    "theta, phi = hp.pixelfunc.pix2ang(hp.order2nside(13),depths_cat['hp_idx_O_13'], nest = True) \n",
    "ra,dec = np.degrees(phi), -np.degrees(theta-np.pi/2)"
   ]
  },
  {
   "cell_type": "code",
   "execution_count": null,
   "metadata": {},
   "outputs": [],
   "source": []
  },
  {
   "cell_type": "code",
   "execution_count": 6,
   "metadata": {
    "editable": true,
    "tags": []
   },
   "outputs": [
    {
     "data": {
      "text/plain": [
       "{'decam_g',\n",
       " 'decam_i',\n",
       " 'decam_r',\n",
       " 'decam_y',\n",
       " 'decam_z',\n",
       " 'gpc1_g',\n",
       " 'gpc1_i',\n",
       " 'gpc1_r',\n",
       " 'gpc1_y',\n",
       " 'gpc1_z',\n",
       " 'irac_i1',\n",
       " 'irac_i2',\n",
       " 'megacam_g',\n",
       " 'megacam_i',\n",
       " 'megacam_r',\n",
       " 'megacam_y',\n",
       " 'megacam_z',\n",
       " 'sdss_g',\n",
       " 'sdss_i',\n",
       " 'sdss_r',\n",
       " 'sdss_u',\n",
       " 'sdss_z',\n",
       " 'suprime_g',\n",
       " 'suprime_i',\n",
       " 'suprime_n816',\n",
       " 'suprime_n921',\n",
       " 'suprime_r',\n",
       " 'suprime_y',\n",
       " 'suprime_z',\n",
       " 'ukidss_h',\n",
       " 'ukidss_j',\n",
       " 'ukidss_k',\n",
       " 'ukidss_y',\n",
       " 'vista_h',\n",
       " 'vista_j',\n",
       " 'vista_ks',\n",
       " 'vista_y',\n",
       " 'wircam_j',\n",
       " 'wircam_ks'}"
      ]
     },
     "execution_count": 6,
     "metadata": {},
     "output_type": "execute_result"
    }
   ],
   "source": [
    "tot_bands = [column[2:-4] for column in depths_cat.colnames \n",
    "             if (column.startswith('f_') & ~column.startswith('f_ap_'))]\n",
    "ap_bands = [column[5:-4] for column in depths_cat.colnames \n",
    "            if column.startswith('f_ap_') ]\n",
    "bands = set(tot_bands) | set(ap_bands)\n",
    "bands"
   ]
  },
  {
   "cell_type": "code",
   "execution_count": 7,
   "metadata": {
    "tags": []
   },
   "outputs": [
    {
     "data": {
      "text/plain": [
       "['sdss_u',\n",
       " 'suprime_g',\n",
       " 'decam_g',\n",
       " 'sdss_g',\n",
       " 'suprime_r',\n",
       " 'decam_r',\n",
       " 'sdss_r',\n",
       " 'suprime_i',\n",
       " 'decam_i',\n",
       " 'sdss_i',\n",
       " 'suprime_z',\n",
       " 'decam_z',\n",
       " 'sdss_z',\n",
       " 'suprime_y',\n",
       " 'decam_y',\n",
       " 'vista_y',\n",
       " 'ukidss_y',\n",
       " 'vista_h',\n",
       " 'ukidss_h',\n",
       " 'vista_j',\n",
       " 'ukidss_j',\n",
       " 'vista_ks',\n",
       " 'ukidss_k']"
      ]
     },
     "execution_count": 7,
     "metadata": {},
     "output_type": "execute_result"
    }
   ],
   "source": [
    "# HELP bands\n",
    "############\n",
    "\n",
    "u = [                        'sdss_u']\n",
    "g = ['suprime_g', 'decam_g', 'sdss_g']\n",
    "r = ['suprime_r', 'decam_r', 'sdss_r']\n",
    "i = ['suprime_i', 'decam_i', 'sdss_i']\n",
    "z = ['suprime_z', 'decam_z', 'sdss_z']\n",
    "y = ['suprime_y', 'decam_y']\n",
    "\n",
    "y_nir = ['vista_y',  'ukidss_y']\n",
    "h = ['vista_h',  'ukidss_h']\n",
    "j = ['vista_j',  'ukidss_j']\n",
    "k = ['vista_ks', 'ukidss_k']\n",
    "\n",
    "helpbands = u + g + r + i + z + y + y_nir + h + j + k\n",
    "helpbands"
   ]
  },
  {
   "cell_type": "markdown",
   "metadata": {},
   "source": [
    "### Test_ area pixels above certain S/N \n",
    "\n"
   ]
  },
  {
   "cell_type": "code",
   "execution_count": 8,
   "metadata": {},
   "outputs": [],
   "source": [
    "def get_moc_above_sn(depths_cat, bands, order, mag, sn):\n",
    "    \"\"\"\n",
    "    parameters:\n",
    "    ----------------\n",
    "    band: str\n",
    "        Band name in depth_catalogue  \n",
    "    order: int\n",
    "        healpix order\n",
    "    mag: float\n",
    "        Magnitude cut\n",
    "    sn: int\n",
    "        Signal to noise\n",
    "    \n",
    "    return:\n",
    "    ----------------\n",
    "    mocs: list \n",
    "        MOCs for each band. Healpix where a source with magnitude \"mag\" can be detected with s/n >= \"sn\"\n",
    "    \"\"\"\n",
    "            \n",
    "    # Convert mag to flux\n",
    "    f = mag_to_flux(mag) # Flux in Jy\n",
    "    \n",
    "    # Maximum noise a healpix cell could have, to detect a source above the given sn\n",
    "    N = f[0] * 1e6 / sn # in microJy\n",
    "    \n",
    "    mocs = []\n",
    "    for idx, band in enumerate(bands):\n",
    "        print(band)\n",
    "        moc_b = MOC()\n",
    "        ind = depths_cat[band] < N[idx]\n",
    "        moc_b.add(order, depths_cat['hp_idx_O_{}'.format(order)][ind])\n",
    "        mocs.append(moc_b)\n",
    "        \n",
    "        moc_b.write('./data/mocs/' + band[5:-5] + '_sn' + str(sn) + '_mag_'+ str(mag[idx]) + '.fits', overwrite=True)\n",
    "\n",
    "    return mocs\n"
   ]
  },
  {
   "cell_type": "markdown",
   "metadata": {},
   "source": [
    "### SDSS"
   ]
  },
  {
   "cell_type": "code",
   "execution_count": 9,
   "metadata": {},
   "outputs": [],
   "source": [
    "sdss_bands = ['ferr_sdss_u_mean',\n",
    " 'ferr_sdss_g_mean',\n",
    " 'ferr_sdss_r_mean',\n",
    " 'ferr_sdss_i_mean',\n",
    " 'ferr_sdss_z_mean']"
   ]
  },
  {
   "cell_type": "code",
   "execution_count": 10,
   "metadata": {},
   "outputs": [],
   "source": [
    "magcuts_sdss = {'u': 22.8,\n",
    " 'g': 23.7,\n",
    " 'r': 23.5,\n",
    " 'i': 22.9,\n",
    " 'z': 21.5}"
   ]
  },
  {
   "cell_type": "code",
   "execution_count": 11,
   "metadata": {},
   "outputs": [],
   "source": [
    "magcuts_sdss = np.array(list(magcuts_sdss.values()))"
   ]
  },
  {
   "cell_type": "code",
   "execution_count": 13,
   "metadata": {},
   "outputs": [],
   "source": [
    "mocs_sdss = get_moc_above_sn(depths_cat, sdss_bands, 13, magcuts_sdss, 3)"
   ]
  },
  {
   "cell_type": "markdown",
   "metadata": {},
   "source": [
    "### HSC"
   ]
  },
  {
   "cell_type": "code",
   "execution_count": 12,
   "metadata": {},
   "outputs": [],
   "source": [
    "hsc_bands = ['ferr_suprime_g_mean',\n",
    " 'ferr_suprime_r_mean',\n",
    " 'ferr_suprime_i_mean',\n",
    " 'ferr_suprime_z_mean', \n",
    " 'ferr_suprime_y_mean']"
   ]
  },
  {
   "cell_type": "code",
   "execution_count": 13,
   "metadata": {},
   "outputs": [],
   "source": [
    "magcuts_hsc = {\n",
    "    'g': 25.4,\n",
    "    'r': 25.4, \n",
    "    'i': 25.1,\n",
    "    'z': 24.2,\n",
    "    'y': 23.7}"
   ]
  },
  {
   "cell_type": "code",
   "execution_count": 14,
   "metadata": {},
   "outputs": [],
   "source": [
    "magcuts_hsc = np.array(list(magcuts_hsc.values()))"
   ]
  },
  {
   "cell_type": "code",
   "execution_count": 15,
   "metadata": {},
   "outputs": [
    {
     "name": "stdout",
     "output_type": "stream",
     "text": [
      "ferr_suprime_g_mean\n",
      "ferr_suprime_r_mean\n",
      "ferr_suprime_i_mean\n",
      "ferr_suprime_z_mean\n",
      "ferr_suprime_y_mean\n"
     ]
    }
   ],
   "source": [
    "mocs_hsc = get_moc_above_sn(depths_cat, hsc_bands, 13, magcuts_hsc, 3)"
   ]
  },
  {
   "cell_type": "markdown",
   "metadata": {},
   "source": [
    "### DECam"
   ]
  },
  {
   "cell_type": "code",
   "execution_count": 8,
   "metadata": {},
   "outputs": [],
   "source": [
    "decals_MOC=MOC()\n",
    "decals_MOC.read('../dmu_products/dmu1/dmu1_ml_Herschel-Stripe-82/data_tmp/Sub_DECaLS_DES-DR1_Herschel-Stripe-82_MOC.fits')\n",
    "\n",
    "des_MOC=MOC()\n",
    "des_MOC.read('../dmu_products/dmu0/dmu0_DES/data/DES-DR1_Herschel-Stripe-82_MOC.fits')"
   ]
  },
  {
   "cell_type": "code",
   "execution_count": 9,
   "metadata": {},
   "outputs": [],
   "source": [
    "depths_cat_des = depths_cat[inMoc(ra, dec, des_MOC)]"
   ]
  },
  {
   "cell_type": "code",
   "execution_count": 10,
   "metadata": {},
   "outputs": [],
   "source": [
    "depths_cat_decals = depths_cat[inMoc(ra, dec, decals_MOC)]"
   ]
  },
  {
   "cell_type": "code",
   "execution_count": 30,
   "metadata": {},
   "outputs": [],
   "source": [
    "des_bands = ['ferr_decam_g_mean',\n",
    " 'ferr_decam_r_mean',\n",
    " 'ferr_decam_i_mean',\n",
    " 'ferr_decam_z_mean', \n",
    " 'ferr_decam_y_mean']"
   ]
  },
  {
   "cell_type": "code",
   "execution_count": 31,
   "metadata": {},
   "outputs": [],
   "source": [
    "magcuts_des = {'g': 23.3,\n",
    " 'r': 23.1,\n",
    " 'i': 22.7,\n",
    " 'z': 21.8,\n",
    " 'y': 20.6}"
   ]
  },
  {
   "cell_type": "code",
   "execution_count": 13,
   "metadata": {},
   "outputs": [],
   "source": [
    "magcuts_des = np.array(list(magcuts_des.values()))"
   ]
  },
  {
   "cell_type": "code",
   "execution_count": 14,
   "metadata": {},
   "outputs": [
    {
     "name": "stdout",
     "output_type": "stream",
     "text": [
      "ferr_decam_z_mean\n",
      "ferr_decam_y_mean\n"
     ]
    }
   ],
   "source": [
    "mocs_des = get_moc_above_sn(depths_cat_des, des_bands, 13, magcuts_des, 5)"
   ]
  },
  {
   "cell_type": "code",
   "execution_count": null,
   "metadata": {},
   "outputs": [],
   "source": []
  },
  {
   "cell_type": "code",
   "execution_count": 15,
   "metadata": {},
   "outputs": [],
   "source": [
    "decals_bands = ['ferr_decam_g_mean',\n",
    " 'ferr_decam_r_mean',\n",
    " 'ferr_decam_z_mean']"
   ]
  },
  {
   "cell_type": "code",
   "execution_count": 16,
   "metadata": {},
   "outputs": [],
   "source": [
    "magcuts_decals =  {'g': 23.95, 'r': 23.54, 'z': 22.5}"
   ]
  },
  {
   "cell_type": "code",
   "execution_count": 17,
   "metadata": {},
   "outputs": [],
   "source": [
    "magcuts_decals = np.array(list(magcuts_decals.values()))"
   ]
  },
  {
   "cell_type": "code",
   "execution_count": 18,
   "metadata": {},
   "outputs": [
    {
     "name": "stdout",
     "output_type": "stream",
     "text": [
      "ferr_decam_g_mean\n",
      "ferr_decam_r_mean\n",
      "ferr_decam_z_mean\n"
     ]
    }
   ],
   "source": [
    "mocs_decals = get_moc_above_sn(depths_cat, decals_bands, 13, magcuts_decals, 5)"
   ]
  },
  {
   "cell_type": "code",
   "execution_count": null,
   "metadata": {},
   "outputs": [],
   "source": []
  },
  {
   "cell_type": "code",
   "execution_count": 17,
   "metadata": {
    "collapsed": true,
    "jupyter": {
     "outputs_hidden": true
    },
    "tags": []
   },
   "outputs": [
    {
     "data": {
      "text/plain": [
       "{'help_id': <MaskedColumn name='hp_idx_O_13' dtype='int64' length=7090628>\n",
       " 283010926\n",
       " 283010937\n",
       " 283010939\n",
       " 283010938\n",
       " 283010943\n",
       " 283010942\n",
       " 283010927\n",
       " 283011007\n",
       " 283011004\n",
       " 283010972\n",
       " 283010974\n",
       " 283010993\n",
       "       ...\n",
       " 320214034\n",
       " 320214016\n",
       " 320214052\n",
       " 320214050\n",
       " 320214144\n",
       " 320214145\n",
       " 320214146\n",
       " 320214147\n",
       " 320214152\n",
       " 320214153\n",
       " 320214154\n",
       " 320214176}"
      ]
     },
     "execution_count": 17,
     "metadata": {},
     "output_type": "execute_result"
    }
   ],
   "source": [
    "\n",
    "nb_band = {}\n",
    "nb_band['help_id'] = depths_cat['hp_idx_O_13']\n",
    "\n",
    "nb_band"
   ]
  },
  {
   "cell_type": "code",
   "execution_count": 18,
   "metadata": {},
   "outputs": [],
   "source": [
    "\n",
    "nb = ['optband', 'nirband', 'mirband']\n",
    "nx = ['optvalue', 'nirvalue', 'mirvalue']"
   ]
  },
  {
   "cell_type": "code",
   "execution_count": 19,
   "metadata": {},
   "outputs": [],
   "source": [
    "nb_band[nb[0]] = np.zeros(len(depths_cat))"
   ]
  },
  {
   "cell_type": "markdown",
   "metadata": {},
   "source": [
    "### VISTA"
   ]
  },
  {
   "cell_type": "code",
   "execution_count": null,
   "metadata": {},
   "outputs": [],
   "source": []
  },
  {
   "cell_type": "code",
   "execution_count": 9,
   "metadata": {},
   "outputs": [],
   "source": [
    "vhs_MOC=MOC()\n",
    "vhs_MOC.read('../dmu_products/dmu0/dmu0_VISTA-VHS/data/VHS_Herschel-Stripe-82_MOC.fits')\n",
    "\n",
    "vics_MOC=MOC()\n",
    "vics_MOC.read('../dmu_products/dmu1/dmu1_ml_Herschel-Stripe-82/data_tmp/VICS82_VISTA_MOC.fits')"
   ]
  },
  {
   "cell_type": "code",
   "execution_count": null,
   "metadata": {},
   "outputs": [],
   "source": [
    "depths_cat_vhs = depths_cat[inMoc(ra, dec, vhs_MOC)]"
   ]
  },
  {
   "cell_type": "code",
   "execution_count": 10,
   "metadata": {},
   "outputs": [],
   "source": [
    "depths_cat_vics = depths_cat[inMoc(ra, dec, vics_MOC)]"
   ]
  },
  {
   "cell_type": "code",
   "execution_count": null,
   "metadata": {},
   "outputs": [],
   "source": []
  },
  {
   "cell_type": "code",
   "execution_count": 14,
   "metadata": {},
   "outputs": [],
   "source": [
    "vista_vhs_bands = ['ferr_vista_y_mean',\n",
    " 'ferr_vista_h_mean',\n",
    " 'ferr_vista_j_mean',\n",
    " 'ferr_vista_ks_mean']"
   ]
  },
  {
   "cell_type": "code",
   "execution_count": 15,
   "metadata": {},
   "outputs": [],
   "source": [
    "# vhs - s/n > 3\n",
    "magcuts_vhs = {'y': 20.1,\n",
    " 'h': 19.6,\n",
    " 'j': 19.95,\n",
    " 'k': 19.6}"
   ]
  },
  {
   "cell_type": "code",
   "execution_count": 16,
   "metadata": {},
   "outputs": [],
   "source": [
    "magcuts_vhs = np.array(list(magcuts_vhs.values()))"
   ]
  },
  {
   "cell_type": "code",
   "execution_count": 17,
   "metadata": {},
   "outputs": [
    {
     "name": "stdout",
     "output_type": "stream",
     "text": [
      "ferr_vista_y_mean\n",
      "ferr_vista_h_mean\n",
      "ferr_vista_j_mean\n",
      "ferr_vista_ks_mean\n"
     ]
    }
   ],
   "source": [
    "mocs_vista_vhs = get_moc_above_sn(depths_cat_vhs, vista_vhs_bands, 13, magcuts_vhs, 3)"
   ]
  },
  {
   "cell_type": "code",
   "execution_count": null,
   "metadata": {},
   "outputs": [],
   "source": []
  },
  {
   "cell_type": "code",
   "execution_count": null,
   "metadata": {},
   "outputs": [],
   "source": []
  },
  {
   "cell_type": "code",
   "execution_count": 11,
   "metadata": {},
   "outputs": [],
   "source": [
    "vista_vics_bands = ['ferr_vista_j_mean',\n",
    " 'ferr_vista_ks_mean']"
   ]
  },
  {
   "cell_type": "code",
   "execution_count": 12,
   "metadata": {},
   "outputs": [],
   "source": [
    "# vics - s/n > 5\n",
    "magcuts_vics = {'j': 21.0,\n",
    " 'k': 21.0}"
   ]
  },
  {
   "cell_type": "code",
   "execution_count": 13,
   "metadata": {},
   "outputs": [],
   "source": [
    "magcuts_vics = np.array(list(magcuts_vics.values()))"
   ]
  },
  {
   "cell_type": "code",
   "execution_count": 15,
   "metadata": {},
   "outputs": [
    {
     "name": "stdout",
     "output_type": "stream",
     "text": [
      "ferr_vista_j_mean\n",
      "ferr_vista_ks_mean\n"
     ]
    }
   ],
   "source": [
    "mocs_vista_vics = get_moc_above_sn(depths_cat_vics, vista_vics_bands, 13, magcuts_vics, 5)"
   ]
  },
  {
   "cell_type": "code",
   "execution_count": null,
   "metadata": {},
   "outputs": [],
   "source": []
  },
  {
   "cell_type": "code",
   "execution_count": 18,
   "metadata": {},
   "outputs": [
    {
     "data": {
      "text/plain": [
       "(array([1.44543977e-05, 1.44543977e-05]), None)"
      ]
     },
     "execution_count": 18,
     "metadata": {},
     "output_type": "execute_result"
    }
   ],
   "source": [
    "            \n",
    "    # Convert mag to flux\n",
    "f = mag_to_flux(magcuts_vics) # Flux in Jy\n",
    "f"
   ]
  },
  {
   "cell_type": "code",
   "execution_count": 21,
   "metadata": {},
   "outputs": [
    {
     "data": {
      "text/plain": [
       "array([4.81813257, 4.81813257])"
      ]
     },
     "execution_count": 21,
     "metadata": {},
     "output_type": "execute_result"
    }
   ],
   "source": [
    "# Maximum noise a healpix cell could have, to detect a source above the given sn\n",
    "sn = 5\n",
    "N = f[0] * 1e6 / 5 # in microJy\n",
    "N"
   ]
  },
  {
   "cell_type": "code",
   "execution_count": null,
   "metadata": {},
   "outputs": [],
   "source": [
    "mocs = []\n",
    "for idx, band in enumerate(bands):\n",
    "    print(band)\n",
    "    moc_b = MOC()\n",
    "    ind = depths_cat[band] < N[idx]\n",
    "    moc_b.add(order, depths_cat['hp_idx_O_{}'.format(order)][ind])\n",
    "    mocs.append(moc_b)"
   ]
  },
  {
   "cell_type": "code",
   "execution_count": null,
   "metadata": {},
   "outputs": [],
   "source": [
    "ind = depths_cat['ferr_vista_ks_mean']"
   ]
  },
  {
   "cell_type": "markdown",
   "metadata": {},
   "source": [
    "### UKIDSS - LAS"
   ]
  },
  {
   "cell_type": "code",
   "execution_count": 20,
   "metadata": {},
   "outputs": [],
   "source": [
    "ukidss_bands = ['ferr_ukidss_h_mean',\n",
    " 'ferr_ukidss_j_mean',\n",
    " 'ferr_ukidss_k_mean',\n",
    " 'ferr_ukidss_y_mean']"
   ]
  },
  {
   "cell_type": "code",
   "execution_count": 21,
   "metadata": {},
   "outputs": [],
   "source": [
    "magcuts_ukidss = {'h':19.0, 'j':19.0, 'k':19.0, 'y':20.16}"
   ]
  },
  {
   "cell_type": "code",
   "execution_count": 22,
   "metadata": {},
   "outputs": [],
   "source": [
    "magcuts_ukidss = np.array(list(magcuts_ukidss.values()))"
   ]
  },
  {
   "cell_type": "code",
   "execution_count": 23,
   "metadata": {},
   "outputs": [
    {
     "name": "stdout",
     "output_type": "stream",
     "text": [
      "ferr_ukidss_h_mean\n",
      "ferr_ukidss_j_mean\n",
      "ferr_ukidss_k_mean\n",
      "ferr_ukidss_y_mean\n"
     ]
    }
   ],
   "source": [
    "mocs_ukidss = get_moc_above_sn(depths_cat, ukidss_bands, 13, magcuts_ukidss, 3)"
   ]
  },
  {
   "cell_type": "code",
   "execution_count": null,
   "metadata": {},
   "outputs": [],
   "source": []
  },
  {
   "cell_type": "code",
   "execution_count": null,
   "metadata": {},
   "outputs": [],
   "source": []
  },
  {
   "cell_type": "code",
   "execution_count": 42,
   "metadata": {},
   "outputs": [],
   "source": [
    "# SDSS\n",
    "magcuts_sdss = {'sdss_u': 22.8,\n",
    " 'sdss_g': 23.7,\n",
    " 'sdss_r': 23.5,\n",
    " 'sdss_i': 22.9,\n",
    " 'sdss_z': 21.5}\n",
    "\n",
    "# HSC\n",
    "magcuts_hsc = {\n",
    "    'suprime_g': 25.4,\n",
    "    'suprime_r': 25.4, \n",
    "    'suprime_i': 25.1,\n",
    "    'suprime_z': 24.2,\n",
    "    'suprime_y': 23.7}\n",
    "\n",
    "# DECam: DECaLS + DES\n",
    "magcuts_des = {'decam_g_des': 23.3,\n",
    " 'decam_r_des': 23.1,\n",
    " 'decam_i_des': 22.7,\n",
    " 'decam_z_des': 21.8,\n",
    " 'decam_y_des': 20.6}\n",
    "\n",
    "magcuts_decals =  {'decam_g_decals': 23.9, 'decam_r_decals': 23.5, 'decam_z_decals': 22.5}\n",
    "\n",
    "# VISTA: VHS + VICS82\n",
    "magcuts_vhs = {'vista_y_vhs': 20.1,\n",
    " 'vista_h_vhs': 19.6,\n",
    " 'vista_j_vhs': 19.9,\n",
    " 'vista_ks_vhs': 19.6}\n",
    "\n",
    "magcuts_vics = {'vista_j_vics': 21.0,\n",
    " 'vista_ks_vics': 21.0}\n",
    "\n",
    "# UKIDSS - LAS\n",
    "magcuts_ukidss = {'ukidss_h':19.0, 'ukidss_j':19.0, 'ukidss_k':19.0, 'ukidss_y':20.2}"
   ]
  },
  {
   "cell_type": "code",
   "execution_count": 43,
   "metadata": {},
   "outputs": [
    {
     "data": {
      "text/plain": [
       "{'sdss_u': 22.8,\n",
       " 'sdss_g': 23.7,\n",
       " 'sdss_r': 23.5,\n",
       " 'sdss_i': 22.9,\n",
       " 'sdss_z': 21.5,\n",
       " 'suprime_g': 25.4,\n",
       " 'suprime_r': 25.4,\n",
       " 'suprime_i': 25.1,\n",
       " 'suprime_z': 24.2,\n",
       " 'suprime_y': 23.7,\n",
       " 'decam_g_des': 23.3,\n",
       " 'decam_r_des': 23.1,\n",
       " 'decam_i_des': 22.7,\n",
       " 'decam_z_des': 21.8,\n",
       " 'decam_y_des': 20.6,\n",
       " 'decam_g_decals': 23.9,\n",
       " 'decam_r_decals': 23.5,\n",
       " 'decam_z_decals': 22.5,\n",
       " 'vista_y_vhs': 20.1,\n",
       " 'vista_h_vhs': 19.6,\n",
       " 'vista_j_vhs': 19.9,\n",
       " 'vista_ks_vhs': 19.6,\n",
       " 'vista_j_vics': 21.0,\n",
       " 'vista_ks_vics': 21.0,\n",
       " 'ukidss_h': 19.0,\n",
       " 'ukidss_j': 19.0,\n",
       " 'ukidss_k': 19.0,\n",
       " 'ukidss_y': 20.2}"
      ]
     },
     "execution_count": 43,
     "metadata": {},
     "output_type": "execute_result"
    }
   ],
   "source": [
    "mcuts = magcuts_sdss.copy()\n",
    "\n",
    "mcuts.update(magcuts_hsc)\n",
    "mcuts.update(magcuts_des)\n",
    "mcuts.update(magcuts_decals)\n",
    "mcuts.update(magcuts_vhs)\n",
    "mcuts.update(magcuts_vics)\n",
    "mcuts.update(magcuts_ukidss)\n",
    "mcuts"
   ]
  },
  {
   "cell_type": "code",
   "execution_count": 65,
   "metadata": {},
   "outputs": [],
   "source": [
    "def get_area_sn(band, order, sn, mag_limits=[20,28]):\n",
    "    x = np.linspace(mag_limits[0],mag_limits[1],100)\n",
    "    x_f = mag_to_flux(x)\n",
    "    N = x_f[0] * 1e6 / sn\n",
    "\n",
    "    areas = []\n",
    "    for idx, n in enumerate(N):\n",
    "        ind = depths_cat[band] < n\n",
    "\n",
    "        t_moc = MOC(order, [depths_cat['hp_idx_O_{}'.format(order)][0]])\n",
    "        area = len(np.unique(depths_cat['hp_idx_O_{}'.format(order)][ind]))*t_moc.area_sq_deg\n",
    "        areas.append(area)\n",
    "\n",
    "    areas = np.array(areas)\n",
    "    \n",
    "    return areas\n"
   ]
  },
  {
   "cell_type": "code",
   "execution_count": 8,
   "metadata": {
    "tags": []
   },
   "outputs": [
    {
     "data": {
      "text/plain": [
       "<matplotlib.legend.Legend at 0x7ff219917d60>"
      ]
     },
     "execution_count": 8,
     "metadata": {},
     "output_type": "execute_result"
    },
    {
     "data": {
      "image/png": "[encoded data removed]",
      "text/plain": [
       "<Figure size 864x720 with 1 Axes>"
      ]
     },
     "metadata": {
      "needs_background": "light"
     },
     "output_type": "display_data"
    }
   ],
   "source": [
    "areas_g = get_area_sn('ferr_decam_g_mean', 13, 5)\n",
    "areas_r = get_area_sn('ferr_decam_r_mean', 13, 5)\n",
    "areas_i = get_area_sn('ferr_decam_i_mean', 13, 5)\n",
    "areas_z = get_area_sn('ferr_decam_z_mean', 13, 5)\n",
    "areas_y = get_area_sn('ferr_decam_y_mean', 13, 5)\n",
    "\n",
    "areas_decam = [areas_g, areas_r, areas_i, areas_z, areas_y]\n",
    "areas_lb = ['g', 'r', 'i', 'z', 'y']\n",
    "\n",
    "x = np.linspace(20,28,100)\n",
    "plt.figure(figsize=(12,10))\n",
    "for idx, area in enumerate(areas_decam):\n",
    "    plt.plot(x, area, label=areas_lb[idx]);\n",
    "\n",
    "plt.title('DECAM')\n",
    "plt.xlabel('magnitude - AB')\n",
    "plt.ylabel('area - deg^2')\n",
    "plt.legend()"
   ]
  }
 ],
 "metadata": {
  "anaconda-cloud": {},
  "kernelspec": {
   "display_name": "Python (herschelhelp_python)",
   "language": "python",
   "name": "helpext"
  },
  "language_info": {
   "codemirror_mode": {
    "name": "ipython",
    "version": 3
   },
   "file_extension": ".py",
   "mimetype": "text/x-python",
   "name": "python",
   "nbconvert_exporter": "python",
   "pygments_lexer": "ipython3",
   "version": "3.8.5"
  }
 },
 "nbformat": 4,
 "nbformat_minor": 4
}
