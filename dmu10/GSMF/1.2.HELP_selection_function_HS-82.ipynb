{
 "cells": [
  {
   "cell_type": "code",
   "execution_count": 1,
   "metadata": {},
   "outputs": [
    {
     "name": "stdout",
     "output_type": "stream",
     "text": [
      "This notebook was run with herschelhelp_internal version: \n",
      "1407877 (Mon Feb 4 12:56:29 2019 +0000) [with local modifications]\n",
      "This notebook was executed on: \n",
      "2021-05-19 12:11:50.662325\n"
     ]
    }
   ],
   "source": [
    "from herschelhelp_internal import git_version\n",
    "print(\"This notebook was run with herschelhelp_internal version: \\n{}\".format(git_version()))\n",
    "import datetime\n",
    "print(\"This notebook was executed on: \\n{}\".format(datetime.datetime.now()))"
   ]
  },
  {
   "cell_type": "code",
   "execution_count": 2,
   "metadata": {},
   "outputs": [],
   "source": [
    "%load_ext autoreload\n",
    "%autoreload 2\n",
    "\n",
    "%matplotlib inline\n",
    "#%config InlineBackend.figure_format = 'svg'\n",
    "\n",
    "import matplotlib.pyplot as plt\n",
    "plt.rc('figure', figsize=(10, 6))\n",
    "\n",
    "import os\n",
    "import time\n",
    "import gc\n",
    "import glob\n",
    "from matplotlib_venn import venn2\n",
    "from astropy import units as u\n",
    "from astropy.coordinates import SkyCoord\n",
    "from astropy.table import Column, QTable, Table, join, vstack, hstack, setdiff, unique\n",
    "import numpy as np\n",
    "import pymoc \n",
    "from pymoc import MOC\n",
    "\n",
    "\n",
    "from herschelhelp_internal.masterlist import merge_catalogues, nb_merge_dist_plot, specz_merge\n",
    "from herschelhelp_internal.utils import coords_to_hpidx, ebv, gen_help_id, inMoc"
   ]
  },
  {
   "cell_type": "code",
   "execution_count": 3,
   "metadata": {},
   "outputs": [
    {
     "data": {
      "text/plain": [
       "22"
      ]
     },
     "execution_count": 3,
     "metadata": {},
     "output_type": "execute_result"
    }
   ],
   "source": [
    "gc.collect()"
   ]
  },
  {
   "cell_type": "code",
   "execution_count": 4,
   "metadata": {},
   "outputs": [],
   "source": [
    "def select_sample(catalogue, allbands, mocs_list, mcuts, ndet=2):\n",
    "    \"\"\"\n",
    "    param.\n",
    "    ---------------\n",
    "    catalogue: astropy.table\n",
    "        HELP catalogue \n",
    "    allbands: [[..., str]]\n",
    "        Names of bands used in the selections: [[opt_bands], [nir_bands], [mir_bands]]\n",
    "    mocs_list: : [..., str] \n",
    "        list containing the mocs fits files.\n",
    "    mcuts: dict\n",
    "        magnitude cuts limits for each band.\n",
    "    ndet: int\n",
    "        number of detections required per group of bands (opt/nir/mid). Default 2; it requires 2 detection on each to pass the selection.\n",
    "    \n",
    "    output\n",
    "    ---------------\n",
    "    nb_band: astropy.Table \n",
    "        Table with flags for each source indicating whether the source has at least \"ndet\" detections above the magnitude cut.\n",
    "        Flags: optband=1, nirband=2, mirband=4, ndet_total = (optband + nirband + mirband)\n",
    "    \"\"\"\n",
    "    import numpy as np\n",
    "    from astropy.table import Column, Table, join\n",
    "    import time\n",
    "    from pymoc import MOC\n",
    "    \n",
    "    \n",
    "    nb_band = {}\n",
    "    nb_band['help_id'] = catalogue['help_id']\n",
    "    nb = ['optband', 'nirband', 'mirband']\n",
    "    nx = ['optvalue', 'nirvalue', 'mirvalue']\n",
    "    \n",
    "    r_filter = np.zeros(len(catalogue))\n",
    "\n",
    "    # Name of all moc files \n",
    "    mocs = [x[12:] for x in mocs_list]\n",
    "    path_mocs = mocs_list[0][:12]\n",
    "                  \n",
    "\n",
    "    for idx, bands in enumerate(allbands):\n",
    "        nb_band[nb[idx]] = np.zeros(len(catalogue))\n",
    "        nb_filter = np.zeros(len(catalogue))\n",
    "\n",
    "        for i, filt in enumerate(bands):\n",
    "            # mocs in that filter\n",
    "            mocs_filt = [moc for moc in mocs if filt in moc]\n",
    "            ind = np.zeros(len(catalogue))\n",
    "            for moc_ in mocs_filt:\n",
    "                # Get the name of the filter and survey\n",
    "                m = moc_[:-18]\n",
    "                \n",
    "                # Read in the moc for the specific survey     \n",
    "                moc = MOC()\n",
    "                moc.read(path_mocs+moc_)\n",
    "                ind_moc = inMoc(catalogue['ra'], catalogue['dec'],moc)\n",
    "                \n",
    "                # Source 'detection'\n",
    "                ind_filter = 1 * (catalogue['m_'+filt] <= mcuts[m]) # Sources with magnitude below the magnitud cut defined for that survey\n",
    "                ind_filter = ind_filter * ind_moc # Sources within the moc survey\n",
    "                ind += ind_filter\n",
    "\n",
    "            nb_filter += ind \n",
    "            # Count sources detected on the 'r' filter\n",
    "            if '_r' in filt:\n",
    "                r_filter += ind                   \n",
    "                \n",
    "        # sources detected in at least two filters of those bands (opt, nir, mir)\n",
    "        if idx==2:\n",
    "            n = 2\n",
    "        else:\n",
    "            n = 1\n",
    "        # add flag: 1 * opt ; 2 * nir ; 4 * mir    \n",
    "        nb_band[nb[idx]] += (idx+n) * (nb_filter >= ndet)  \n",
    "    \n",
    "    nb_band = Table(nb_band)\n",
    "    \n",
    "    # at least 1det in r band\n",
    "    has_r_det = 1 * (r_filter >= 1)\n",
    "    nb_band['optband'] = nb_band['optband'] * has_r_det\n",
    "            \n",
    "    total = np.zeros(len(catalogue))\n",
    "    for i in range(len(allbands)):\n",
    "        total += nb_band[nb[i]]\n",
    "\n",
    "    nb_band['ndet_total'] = total\n",
    "    \n",
    "    return nb_band\n"
   ]
  },
  {
   "cell_type": "code",
   "execution_count": 5,
   "metadata": {},
   "outputs": [],
   "source": [
    "def select_sample_subfiles(file_list, allbands, mocs_list, mcut, ndet=2):\n",
    "    \n",
    "    nb = ['optband', 'nirband', 'mirband']\n",
    "    names_det = ['help_id'] + nb[:len(allbands)] + ['ndet_total']\n",
    "    nb_band = Table(names=names_det, dtype=('str','float','float','float'))  \n",
    "    \n",
    "    # read sub_files to calculate snr per each band\n",
    "    ################################################\n",
    "    print('Reading sub_catalogues')\n",
    "    start = time.time()  \n",
    "    for idx, sub_file in enumerate(file_list):\n",
    "        print('subfile: ', idx)\n",
    "        start_sub = time.time() \n",
    "        \n",
    "        sub_catalogue = Table.read(sub_file)\n",
    "        sub_nb_band = select_sample(sub_catalogue, allbands, mocs_list, mcut, ndet=ndet)\n",
    "        nb_band = vstack([nb_band, sub_nb_band])\n",
    "        \n",
    "        end_sub = time.time()\n",
    "        time_ = end_sub - start_sub\n",
    "        print('select_sample subcatalogue time: ', time_)\n",
    "        \n",
    "        del sub_catalogue\n",
    "        del sub_nb_band\n",
    "        gc.collect()\n",
    "    \n",
    "    end = time.time()\n",
    "    time_all = end - start\n",
    "    print('select_sample total time: ', time_all)    \n",
    "    \n",
    "    return nb_band     "
   ]
  },
  {
   "cell_type": "code",
   "execution_count": 6,
   "metadata": {},
   "outputs": [],
   "source": [
    "def compare_cats_venndiagram(cat1, cat2, ind_catalogue, ind_names, cat1name, cat2name, save=False):\n",
    "    \"\"\"\n",
    "    \"\"\"\n",
    "    for i, ind_cat in enumerate(ind_catalogue):\n",
    "#             print('joining catalogues')\n",
    "        plt.figure(figsize=(10,10))\n",
    "        set1 = set(cat1.tolist())\n",
    "        set2 = set(cat2[ind_cat].tolist())\n",
    "\n",
    "        out = venn2([set1, set2], (cat1name, cat2name))\n",
    "\n",
    "        for text in out.set_labels:\n",
    "            text.set_fontsize(20)\n",
    "        plt.title(ind_names[i])\n",
    "        \n",
    "        if save==True:\n",
    "            plt.savefig('./data/figs/'+ind_names[i]+'.png', format='png')\n",
    "            plt.savefig('./data/figs/'+ind_names[i]+'.pdf', format='pdf')\n",
    "        plt.show()\n"
   ]
  },
  {
   "cell_type": "code",
   "execution_count": null,
   "metadata": {},
   "outputs": [],
   "source": []
  },
  {
   "cell_type": "code",
   "execution_count": 7,
   "metadata": {},
   "outputs": [],
   "source": [
    "DMU_DIR = '../dmu_products/'\n",
    "FIELD = 'Herschel-Stripe-82'"
   ]
  },
  {
   "cell_type": "markdown",
   "metadata": {},
   "source": [
    "## 1. SELECTION FUNCTION\n",
    "\n",
    "### 1.1 Read in files"
   ]
  },
  {
   "cell_type": "markdown",
   "metadata": {},
   "source": [
    "#### MOCs"
   ]
  },
  {
   "cell_type": "code",
   "execution_count": 8,
   "metadata": {},
   "outputs": [
    {
     "data": {
      "text/plain": [
       "28"
      ]
     },
     "execution_count": 8,
     "metadata": {},
     "output_type": "execute_result"
    }
   ],
   "source": [
    "moc_list = glob.glob('./data/mocs/*.fits')\n",
    "len(moc_list)"
   ]
  },
  {
   "cell_type": "markdown",
   "metadata": {},
   "source": [
    "#### Masterlist / Subfiles"
   ]
  },
  {
   "cell_type": "code",
   "execution_count": 9,
   "metadata": {},
   "outputs": [
    {
     "name": "stdout",
     "output_type": "stream",
     "text": [
      "There are 502 subfiles\n"
     ]
    }
   ],
   "source": [
    "use_subfiles = True\n",
    "\n",
    "if use_subfiles == False:\n",
    "    print('masterlist')\n",
    "#     masterfile = DMU_DIR + 'dmu1/dmu1_ml_Herschel-Stripe-82/data/master_catalogue_herschel-stripe-82_20180307.fits' # too big\n",
    "#     masterlist = Table.read(masterfile, memmap=True)\n",
    "\n",
    "else:\n",
    "    file_list = glob.glob(DMU_DIR + 'dmu1/dmu1_ml_Herschel-Stripe-82/data/tiles/sub_catalogue_herschel-stripe-82_2021*.fits')\n",
    "    print('There are {} subfiles'.format(len(file_list)))"
   ]
  },
  {
   "cell_type": "markdown",
   "metadata": {},
   "source": [
    "### 1.2 Bands definition"
   ]
  },
  {
   "cell_type": "code",
   "execution_count": 10,
   "metadata": {},
   "outputs": [],
   "source": [
    "# HELP bands\n",
    "############\n",
    "\n",
    "u = [                        'sdss_u']\n",
    "g = ['suprime_g', 'decam_g', 'sdss_g']\n",
    "r = ['suprime_r', 'decam_r', 'sdss_r']\n",
    "i = ['suprime_i', 'decam_i', 'sdss_i']\n",
    "z = ['suprime_z', 'decam_z', 'sdss_z']\n",
    "y = ['suprime_y', 'decam_y']\n",
    "\n",
    "y_nir = ['vista_y',  'ukidss_y']\n",
    "h = ['vista_h',  'ukidss_h']\n",
    "j = ['vista_j',  'ukidss_j']\n",
    "k = ['vista_ks', 'ukidss_k']\n",
    "\n",
    "helpbands = [u + g + r + i + z + y] + [y_nir + h + j + k] "
   ]
  },
  {
   "cell_type": "markdown",
   "metadata": {},
   "source": [
    "### 1.3 Magnitude cuts"
   ]
  },
  {
   "cell_type": "code",
   "execution_count": 11,
   "metadata": {},
   "outputs": [],
   "source": [
    "# SDSS\n",
    "magcuts_sdss = {'sdss_u': 22.8,\n",
    " 'sdss_g': 23.7,\n",
    " 'sdss_r': 23.5,\n",
    " 'sdss_i': 22.9,\n",
    " 'sdss_z': 21.5}\n",
    "\n",
    "# HSC\n",
    "magcuts_hsc = {\n",
    "    'suprime_g': 25.4,\n",
    "    'suprime_r': 25.4, \n",
    "    'suprime_i': 25.1,\n",
    "    'suprime_z': 24.2,\n",
    "    'suprime_y': 23.7}\n",
    "\n",
    "# DECam: DECaLS + DES\n",
    "magcuts_des = {'decam_g_des': 23.3,\n",
    " 'decam_r_des': 23.1,\n",
    " 'decam_i_des': 22.7,\n",
    " 'decam_z_des': 21.8,\n",
    " 'decam_y_des': 20.6}\n",
    "\n",
    "magcuts_decals =  {'decam_g_decals': 23.9, 'decam_r_decals': 23.5, 'decam_z_decals': 22.5}\n",
    "\n",
    "# VISTA: VHS + VICS82\n",
    "magcuts_vhs = {'vista_y_vhs': 20.1,\n",
    " 'vista_h_vhs': 19.6,\n",
    " 'vista_j_vhs': 19.9,\n",
    " 'vista_ks_vhs': 19.6}\n",
    "\n",
    "magcuts_vics = {'vista_j_vics': 21.0,\n",
    " 'vista_ks_vics': 21.0}\n",
    "\n",
    "# UKIDSS - LAS\n",
    "magcuts_ukidss = {'ukidss_h':19.0, 'ukidss_j':19.0, 'ukidss_k':19.0, 'ukidss_y':20.2}"
   ]
  },
  {
   "cell_type": "code",
   "execution_count": 12,
   "metadata": {
    "tags": []
   },
   "outputs": [
    {
     "data": {
      "text/plain": [
       "{'sdss_u': 22.8,\n",
       " 'sdss_g': 23.7,\n",
       " 'sdss_r': 23.5,\n",
       " 'sdss_i': 22.9,\n",
       " 'sdss_z': 21.5,\n",
       " 'suprime_g': 25.4,\n",
       " 'suprime_r': 25.4,\n",
       " 'suprime_i': 25.1,\n",
       " 'suprime_z': 24.2,\n",
       " 'suprime_y': 23.7,\n",
       " 'decam_g_des': 23.3,\n",
       " 'decam_r_des': 23.1,\n",
       " 'decam_i_des': 22.7,\n",
       " 'decam_z_des': 21.8,\n",
       " 'decam_y_des': 20.6,\n",
       " 'decam_g_decals': 23.9,\n",
       " 'decam_r_decals': 23.5,\n",
       " 'decam_z_decals': 22.5,\n",
       " 'vista_y_vhs': 20.1,\n",
       " 'vista_h_vhs': 19.6,\n",
       " 'vista_j_vhs': 19.9,\n",
       " 'vista_ks_vhs': 19.6,\n",
       " 'vista_j_vics': 21.0,\n",
       " 'vista_ks_vics': 21.0,\n",
       " 'ukidss_h': 19.0,\n",
       " 'ukidss_j': 19.0,\n",
       " 'ukidss_k': 19.0,\n",
       " 'ukidss_y': 20.2}"
      ]
     },
     "execution_count": 12,
     "metadata": {},
     "output_type": "execute_result"
    }
   ],
   "source": [
    "mcuts = magcuts_sdss.copy()\n",
    "\n",
    "mcuts.update(magcuts_hsc)\n",
    "mcuts.update(magcuts_des)\n",
    "mcuts.update(magcuts_decals)\n",
    "mcuts.update(magcuts_vhs)\n",
    "mcuts.update(magcuts_vics)\n",
    "mcuts.update(magcuts_ukidss)\n",
    "mcuts"
   ]
  },
  {
   "cell_type": "markdown",
   "metadata": {},
   "source": [
    "### 1.4 Flagged catalogue"
   ]
  },
  {
   "cell_type": "code",
   "execution_count": null,
   "metadata": {},
   "outputs": [],
   "source": [
    "if use_subfiles == False:\n",
    "    ind_cat = select_sample(masterlist, helpbands, moc_list, mcuts)\n",
    "\n",
    "else:\n",
    "    ind_cat = select_sample_subfiles(file_list, helpbands, moc_list, mcuts)\n"
   ]
  },
  {
   "cell_type": "code",
   "execution_count": 25,
   "metadata": {
    "tags": []
   },
   "outputs": [
    {
     "name": "stdout",
     "output_type": "stream",
     "text": [
      "Reading sub_catalogues\n",
      "subfile:  0\n",
      "select_sample subcatalogue time:  13.285945415496826\n",
      "subfile:  1\n",
      "select_sample subcatalogue time:  13.513476371765137\n",
      "subfile:  2\n",
      "select_sample subcatalogue time:  13.225817203521729\n",
      "subfile:  3\n",
      "select_sample subcatalogue time:  13.725852727890015\n",
      "subfile:  4\n",
      "select_sample subcatalogue time:  14.094137907028198\n",
      "subfile:  5\n",
      "select_sample subcatalogue time:  15.683226108551025\n",
      "subfile:  6\n",
      "select_sample subcatalogue time:  14.588437557220459\n",
      "subfile:  7\n",
      "select_sample subcatalogue time:  14.251049518585205\n",
      "subfile:  8\n",
      "select_sample subcatalogue time:  14.909456491470337\n",
      "subfile:  9\n",
      "select_sample subcatalogue time:  14.760400772094727\n",
      "subfile:  10\n",
      "select_sample subcatalogue time:  13.726845741271973\n",
      "subfile:  11\n",
      "select_sample subcatalogue time:  14.593874454498291\n",
      "subfile:  12\n",
      "select_sample subcatalogue time:  14.283641815185547\n",
      "subfile:  13\n",
      "select_sample subcatalogue time:  13.73071026802063\n",
      "subfile:  14\n",
      "select_sample subcatalogue time:  13.75347900390625\n",
      "subfile:  15\n",
      "select_sample subcatalogue time:  14.230966806411743\n",
      "subfile:  16\n",
      "select_sample subcatalogue time:  14.49446964263916\n",
      "subfile:  17\n",
      "select_sample subcatalogue time:  14.955588817596436\n",
      "subfile:  18\n",
      "select_sample subcatalogue time:  14.823453664779663\n",
      "subfile:  19\n",
      "select_sample subcatalogue time:  15.250511884689331\n",
      "subfile:  20\n",
      "select_sample subcatalogue time:  14.979905843734741\n",
      "subfile:  21\n",
      "select_sample subcatalogue time:  15.11211347579956\n",
      "subfile:  22\n",
      "select_sample subcatalogue time:  15.442249298095703\n",
      "subfile:  23\n",
      "select_sample subcatalogue time:  15.494108438491821\n",
      "subfile:  24\n",
      "select_sample subcatalogue time:  15.392110586166382\n",
      "subfile:  25\n",
      "select_sample subcatalogue time:  14.921419620513916\n",
      "subfile:  26\n",
      "select_sample subcatalogue time:  14.582030534744263\n",
      "subfile:  27\n",
      "select_sample subcatalogue time:  14.664386510848999\n",
      "subfile:  28\n",
      "select_sample subcatalogue time:  14.973542928695679\n",
      "subfile:  29\n",
      "select_sample subcatalogue time:  14.441070556640625\n",
      "subfile:  30\n",
      "select_sample subcatalogue time:  14.587635278701782\n",
      "subfile:  31\n",
      "select_sample subcatalogue time:  14.786803722381592\n",
      "subfile:  32\n",
      "select_sample subcatalogue time:  14.50205135345459\n",
      "subfile:  33\n",
      "select_sample subcatalogue time:  14.355229616165161\n",
      "subfile:  34\n",
      "select_sample subcatalogue time:  14.958232164382935\n",
      "subfile:  35\n",
      "select_sample subcatalogue time:  14.570739269256592\n",
      "subfile:  36\n",
      "select_sample subcatalogue time:  14.85289978981018\n",
      "subfile:  37\n",
      "select_sample subcatalogue time:  14.721646785736084\n",
      "subfile:  38\n",
      "select_sample subcatalogue time:  14.721314668655396\n",
      "subfile:  39\n",
      "select_sample subcatalogue time:  14.303651332855225\n",
      "subfile:  40\n",
      "select_sample subcatalogue time:  13.87643837928772\n",
      "subfile:  41\n",
      "select_sample subcatalogue time:  14.766663789749146\n",
      "subfile:  42\n",
      "select_sample subcatalogue time:  14.869580507278442\n",
      "subfile:  43\n",
      "select_sample subcatalogue time:  15.261768579483032\n",
      "subfile:  44\n",
      "select_sample subcatalogue time:  15.39349889755249\n",
      "subfile:  45\n",
      "select_sample subcatalogue time:  14.705636262893677\n",
      "subfile:  46\n",
      "select_sample subcatalogue time:  15.128849029541016\n",
      "subfile:  47\n",
      "select_sample subcatalogue time:  14.959012508392334\n",
      "subfile:  48\n",
      "select_sample subcatalogue time:  15.101283550262451\n",
      "subfile:  49\n",
      "select_sample subcatalogue time:  14.86293363571167\n",
      "subfile:  50\n",
      "select_sample subcatalogue time:  14.631471872329712\n",
      "subfile:  51\n",
      "select_sample subcatalogue time:  14.62173056602478\n",
      "subfile:  52\n",
      "select_sample subcatalogue time:  15.167444705963135\n",
      "subfile:  53\n",
      "select_sample subcatalogue time:  15.120864391326904\n",
      "subfile:  54\n",
      "select_sample subcatalogue time:  15.071654081344604\n",
      "subfile:  55\n",
      "select_sample subcatalogue time:  15.000916957855225\n",
      "subfile:  56\n",
      "select_sample subcatalogue time:  15.196444034576416\n",
      "subfile:  57\n",
      "select_sample subcatalogue time:  15.634045362472534\n",
      "subfile:  58\n",
      "select_sample subcatalogue time:  15.18429684638977\n",
      "subfile:  59\n",
      "select_sample subcatalogue time:  15.026700019836426\n",
      "subfile:  60\n",
      "select_sample subcatalogue time:  15.300286531448364\n",
      "subfile:  61\n",
      "select_sample subcatalogue time:  16.06247591972351\n",
      "subfile:  62\n",
      "select_sample subcatalogue time:  15.707404851913452\n",
      "subfile:  63\n",
      "select_sample subcatalogue time:  16.332414388656616\n",
      "subfile:  64\n",
      "select_sample subcatalogue time:  16.508687257766724\n",
      "subfile:  65\n",
      "select_sample subcatalogue time:  16.614315509796143\n",
      "subfile:  66\n",
      "select_sample subcatalogue time:  17.29556703567505\n",
      "subfile:  67\n",
      "select_sample subcatalogue time:  16.619264602661133\n",
      "subfile:  68\n",
      "select_sample subcatalogue time:  17.293811798095703\n",
      "subfile:  69\n",
      "select_sample subcatalogue time:  17.322913646697998\n",
      "subfile:  70\n",
      "select_sample subcatalogue time:  18.166062593460083\n",
      "subfile:  71\n",
      "select_sample subcatalogue time:  18.458178520202637\n",
      "subfile:  72\n",
      "select_sample subcatalogue time:  19.74208402633667\n",
      "subfile:  73\n",
      "select_sample subcatalogue time:  16.924118280410767\n",
      "subfile:  74\n",
      "select_sample subcatalogue time:  16.725566387176514\n",
      "subfile:  75\n",
      "select_sample subcatalogue time:  16.998023986816406\n",
      "subfile:  76\n",
      "select_sample subcatalogue time:  17.69899344444275\n",
      "subfile:  77\n",
      "select_sample subcatalogue time:  18.247055768966675\n",
      "subfile:  78\n",
      "select_sample subcatalogue time:  16.23394274711609\n",
      "subfile:  79\n",
      "select_sample subcatalogue time:  16.303090572357178\n",
      "subfile:  80\n",
      "select_sample subcatalogue time:  16.65208673477173\n",
      "subfile:  81\n",
      "select_sample subcatalogue time:  17.427213430404663\n",
      "subfile:  82\n",
      "select_sample subcatalogue time:  18.828480005264282\n",
      "subfile:  83\n",
      "select_sample subcatalogue time:  18.206239938735962\n",
      "subfile:  84\n",
      "select_sample subcatalogue time:  17.677372217178345\n",
      "subfile:  85\n",
      "select_sample subcatalogue time:  17.44109296798706\n",
      "subfile:  86\n",
      "select_sample subcatalogue time:  17.02780032157898\n",
      "subfile:  87\n",
      "select_sample subcatalogue time:  16.523738622665405\n",
      "subfile:  88\n",
      "select_sample subcatalogue time:  16.56026816368103\n",
      "subfile:  89\n",
      "select_sample subcatalogue time:  16.50402283668518\n",
      "subfile:  90\n",
      "select_sample subcatalogue time:  16.526756286621094\n",
      "subfile:  91\n",
      "select_sample subcatalogue time:  16.65433692932129\n",
      "subfile:  92\n",
      "select_sample subcatalogue time:  16.54377007484436\n",
      "subfile:  93\n",
      "select_sample subcatalogue time:  16.649555683135986\n",
      "subfile:  94\n",
      "select_sample subcatalogue time:  16.460927724838257\n",
      "subfile:  95\n",
      "select_sample subcatalogue time:  16.375770568847656\n",
      "subfile:  96\n",
      "select_sample subcatalogue time:  16.344192504882812\n",
      "subfile:  97\n",
      "select_sample subcatalogue time:  16.406591653823853\n",
      "subfile:  98\n",
      "select_sample subcatalogue time:  16.475816011428833\n",
      "subfile:  99\n",
      "select_sample subcatalogue time:  17.075483322143555\n",
      "subfile:  100\n",
      "select_sample subcatalogue time:  16.739163637161255\n",
      "subfile:  101\n",
      "select_sample subcatalogue time:  16.565112590789795\n",
      "select_sample total time:  1597.8450057506561\n"
     ]
    }
   ],
   "source": [
    "ind_cat = select_sample_subfiles(file_list[400:], helpbands, moc_list, mcuts)\n"
   ]
  },
  {
   "cell_type": "code",
   "execution_count": 26,
   "metadata": {},
   "outputs": [],
   "source": [
    "ind_cat.write('./data/ind_cat_sf_20210519_sub400_501.fits')"
   ]
  },
  {
   "cell_type": "code",
   "execution_count": 27,
   "metadata": {},
   "outputs": [],
   "source": [
    "del ind_cat"
   ]
  },
  {
   "cell_type": "code",
   "execution_count": null,
   "metadata": {},
   "outputs": [],
   "source": []
  },
  {
   "cell_type": "markdown",
   "metadata": {},
   "source": [
    "## II Compare with Ldust catalogue"
   ]
  },
  {
   "cell_type": "code",
   "execution_count": 28,
   "metadata": {},
   "outputs": [],
   "source": [
    "ind_catalogue = Table.read('./data/ind_cat_sf_20210519_all.fits')"
   ]
  },
  {
   "cell_type": "code",
   "execution_count": 29,
   "metadata": {},
   "outputs": [],
   "source": [
    "ldustfile = DMU_DIR + 'dmu28/dmu28_Herschel-Stripe-82/data/Ldust/old/herschel_stripe_82_Ldust_prediction_all.fits'\n",
    "ldust_cat = Table.read(ldustfile, memmap=True)\n",
    "ldust_cat['id'].name = 'help_id'"
   ]
  },
  {
   "cell_type": "code",
   "execution_count": 31,
   "metadata": {
    "tags": []
   },
   "outputs": [
    {
     "data": {
      "image/png": "[encoded data removed]",
      "text/plain": [
       "<Figure size 720x720 with 1 Axes>"
      ]
     },
     "metadata": {},
     "output_type": "display_data"
    }
   ],
   "source": [
    "# indexs catalogues based on flags\n",
    "ind_catalogue_ldustcriteria = (ind_catalogue['ndet_total']==3) | (ind_catalogue['ndet_total']==7)\n",
    "# ind_catalogue_iraccriteria = ind_catalogue['ndet_total']>=5\n",
    "\n",
    "\n",
    "# Compare sources after selection criteria with ldust catalogue \n",
    "# Plotting Venn diagrams \n",
    "#########################################\n",
    "ind_catalogues = np.array([\n",
    "    ind_catalogue_ldustcriteria,\n",
    "#     ind_catalogue_iraccriteria\n",
    "    ])\n",
    "\n",
    "ind_names =  np.array([\n",
    "    '_ldustcriteria',\n",
    "#     cat_name+'_iraccriteria'\n",
    "])\n",
    "\n",
    "# Venn Diagrams\n",
    "compare_cats_venndiagram(ldust_cat['help_id'], ind_catalogue['help_id'], ind_catalogues, ind_names, 'ldust', 'sf', save=True)\n"
   ]
  },
  {
   "cell_type": "markdown",
   "metadata": {},
   "source": [
    "## III Selected catalogue"
   ]
  },
  {
   "cell_type": "markdown",
   "metadata": {},
   "source": [
    "### 3.1 Define the final sample\n"
   ]
  },
  {
   "cell_type": "code",
   "execution_count": null,
   "metadata": {},
   "outputs": [],
   "source": [
    "hs82_cat_selected = masterlist[ind_catalogue_ldustcriteria]"
   ]
  },
  {
   "cell_type": "code",
   "execution_count": null,
   "metadata": {},
   "outputs": [],
   "source": [
    "# len(hs82_cat_selected)"
   ]
  },
  {
   "cell_type": "code",
   "execution_count": null,
   "metadata": {},
   "outputs": [],
   "source": [
    "hs82_cat_selected.write('./data/hs82_selected_sources_sf_20210506.fits')"
   ]
  }
 ],
 "metadata": {
  "kernelspec": {
   "display_name": "Python (herschelhelp_python)",
   "language": "python",
   "name": "helpext"
  },
  "language_info": {
   "codemirror_mode": {
    "name": "ipython",
    "version": 3
   },
   "file_extension": ".py",
   "mimetype": "text/x-python",
   "name": "python",
   "nbconvert_exporter": "python",
   "pygments_lexer": "ipython3",
   "version": "3.8.5"
  }
 },
 "nbformat": 4,
 "nbformat_minor": 4
}
