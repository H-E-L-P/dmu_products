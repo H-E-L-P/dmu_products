{
 "cells": [
  {
   "cell_type": "markdown",
   "metadata": {},
   "source": [
    "# Make simple catalogue of CIGALE objects for HiPS\n",
    "\n",
    "The aim is to make a simplified list of all CIGALE objects so that we can display objects including SEDs over an Aladin Lite map."
   ]
  },
  {
   "cell_type": "code",
   "execution_count": 1,
   "metadata": {},
   "outputs": [],
   "source": [
    "import pyvo as vo\n",
    "import glob\n",
    "import time\n",
    "import numpy as np\n",
    "\n",
    "import matplotlib as mpl\n",
    "import matplotlib.pyplot as plt\n",
    "import random\n",
    "import yaml\n",
    "\n",
    "from astropy.coordinates import SkyCoord\n",
    "from astropy import units as u\n",
    "\n",
    "from astropy.table import Table, Column, vstack, join\n",
    "\n",
    "from herschelhelp_internal.utils import inMoc, gen_help_id\n",
    "\n",
    "from pymoc import MOC"
   ]
  },
  {
   "cell_type": "code",
   "execution_count": 2,
   "metadata": {},
   "outputs": [],
   "source": [
    "cigale_query = \"\"\"\n",
    "SELECT \n",
    "    field, \n",
    "    help_id, \n",
    "    ra, \n",
    "    dec, \n",
    "    redshift, \n",
    "    zspec,\n",
    "    f_pacs_green,\n",
    "    f_pacs_red,\n",
    "    f_spire_250,\n",
    "    f_spire_350,\n",
    "    f_spire_500,\n",
    "    ferr_pacs_green,\n",
    "    ferr_pacs_red,\n",
    "    ferr_spire_250,\n",
    "    ferr_spire_350,\n",
    "    ferr_spire_500,\n",
    "    cigale_dustlumin,\n",
    "    cigale_dustlumin_err,\n",
    "    cigale_dustlumin_ironly,\n",
    "    cigale_dustlumin_ironly_err,\n",
    "    cigale_mstar,\n",
    "    cigale_mstar_err,\n",
    "    cigale_sfr,\n",
    "    cigale_sfr_err,\n",
    "    flag_optnir_obs,\n",
    "    flag_optnir_det,\n",
    "    hp_idx\n",
    "FROM herschelhelp.main \n",
    "WHERE (herschelhelp.main.cigale_dustlumin > 0)\"\"\"\n",
    "\n",
    "\n",
    "\n",
    "# construct a service; I’ve taken the URL from TOPCAT’s\n",
    "# TAP service browser # (\"Selected TAP Service\" near the\n",
    "# foot of the dialog)\n",
    "service = vo.dal.TAPService(\n",
    "          \"https://herschel-vos.phys.sussex.ac.uk/__system__/tap/run/tap\")"
   ]
  },
  {
   "cell_type": "code",
   "execution_count": 3,
   "metadata": {},
   "outputs": [
    {
     "name": "stdout",
     "output_type": "stream",
     "text": [
      "Job still running after 1 seconds.\n",
      "Job still running after 11 seconds.\n",
      "Job still running after 32 seconds.\n",
      "Job still running after 73 seconds.\n",
      "Job still running after 153 seconds.\n",
      "Job still running after 314 seconds.\n",
      "COMPLETED\n"
     ]
    },
    {
     "name": "stderr",
     "output_type": "stream",
     "text": [
      "WARNING: W35: None:2:1151: W35: 'value' attribute required for INFO elements [astropy.io.votable.tree]\n",
      "WARNING: W27: None:2:1529: W27: COOSYS deprecated in VOTable 1.2 [astropy.io.votable.tree]\n",
      "WARNING: W06: None:21:929: W06: Invalid UCD 'src.redsfhit': Unknown word 'src.redsfhit' [astropy.io.votable.tree]\n",
      "WARNING: W06: None:21:1350: W06: Invalid UCD 'phot.flux;em.IR.1500-3000GHz': Unknown word 'em.IR.1500-3000GHz' [astropy.io.votable.tree]\n",
      "WARNING: W06: None:21:1621: W06: Invalid UCD 'phot.flux;em.IR.750-1500GHz': Unknown word 'em.IR.750-1500GHz' [astropy.io.votable.tree]\n",
      "WARNING: W06: None:21:1894: W06: Invalid UCD 'phot.flux;em.IR.750-1500GHz': Unknown word 'em.IR.750-1500GHz' [astropy.io.votable.tree]\n",
      "WARNING: W06: None:21:2167: W06: Invalid UCD 'phot.flux;em.IR.400-750GHz': Unknown word 'em.IR.400-750GHz' [astropy.io.votable.tree]\n",
      "WARNING: W06: None:21:2623: W06: Invalid UCD 'stat.error;phot.flux;em.IR.1500-3000GHz': Unknown word 'em.IR.1500-3000GHz' [astropy.io.votable.tree]\n",
      "WARNING: W06: None:21:2806: W06: Invalid UCD 'stat.error;phot.flux;em.IR.750-1500GHz': Unknown word 'em.IR.750-1500GHz' [astropy.io.votable.tree]\n",
      "WARNING: W06: None:21:2991: W06: Invalid UCD 'stat.error;phot.flux;em.IR.750-1500GHz': Unknown word 'em.IR.750-1500GHz' [astropy.io.votable.tree]\n",
      "WARNING: W06: None:21:3176: W06: Invalid UCD 'stat.error;phot.flux;em.IR.400-750GHz': Unknown word 'em.IR.400-750GHz' [astropy.io.votable.tree]\n",
      "WARNING: W06: None:21:3360: W06: Invalid UCD 'phys.dust;phys.luminosity': Unknown word 'phys.dust' (suppressing further warnings of this type...) [astropy.io.votable.tree]\n"
     ]
    }
   ],
   "source": [
    "job = service.submit_job(cigale_query)\n",
    "job.run()\n",
    "job_url = job.url\n",
    "job_result = vo.dal.tap.AsyncTAPJob(job_url)\n",
    "start_time = time.time()\n",
    "wait = 10\n",
    "while job.phase == 'EXECUTING':\n",
    "    print('Job still running after {} seconds.'.format(round(time.time() - start_time)))\n",
    "    time.sleep(wait) #wait ten seconds and try again\n",
    "    wait = 2*wait\n",
    "\n",
    "print(job.phase)\n",
    "result = job_result.fetch_result()"
   ]
  },
  {
   "cell_type": "code",
   "execution_count": 4,
   "metadata": {},
   "outputs": [
    {
     "data": {
      "text/html": [
       "<i>Table masked=True length=10</i>\n",
       "<table id=\"table34705320480-48731\" class=\"table-striped table-bordered table-condensed\">\n",
       "<thead><tr><th>idx</th><th>field</th><th>help_id</th><th>ra</th><th>dec</th><th>redshift</th><th>zspec</th><th>f_pacs_green</th><th>f_pacs_red</th><th>f_spire_250</th><th>f_spire_350</th><th>f_spire_500</th><th>ferr_pacs_green</th><th>ferr_pacs_red</th><th>ferr_spire_250</th><th>ferr_spire_350</th><th>ferr_spire_500</th><th>cigale_dustlumin</th><th>cigale_dustlumin_err</th><th>cigale_dustlumin_ironly</th><th>cigale_dustlumin_ironly_err</th><th>cigale_mstar</th><th>cigale_mstar_err</th><th>cigale_sfr</th><th>cigale_sfr_err</th><th>flag_optnir_obs</th><th>flag_optnir_det</th><th>hp_idx</th></tr></thead>\n",
       "<thead><tr><th></th><th></th><th></th><th>deg</th><th>deg</th><th></th><th></th><th>uJy</th><th>uJy</th><th>uJy</th><th>uJy</th><th>uJy</th><th>uJy</th><th>uJy</th><th>uJy</th><th>uJy</th><th>uJy</th><th>W</th><th>W</th><th>W</th><th>W</th><th>Msun</th><th>Msun</th><th>Msun / yr</th><th>Msun / yr</th><th></th><th></th><th></th></tr></thead>\n",
       "<tr><td>0</td><td>HATLAS-SGP</td><td>HELP_J234040.389-315108.706</td><td>355.16828789586</td><td>-31.8524183563571</td><td>1.0735</td><td>--</td><td>--</td><td>--</td><td>2985.9941</td><td>15432.032</td><td>14509.491</td><td>--</td><td>--</td><td>2852.6367</td><td>3978.038</td><td>4816.865</td><td>4.44162309305727e+38</td><td>1.60496095521651e+38</td><td>4.62137194701594e+38</td><td>1.3712964372218e+38</td><td>75712577634.1003</td><td>35711614246.0008</td><td>122.367513874161</td><td>54.5418378615914</td><td>3</td><td>3</td><td>270746099</td></tr>\n",
       "<tr><td>1</td><td>HATLAS-SGP</td><td>HELP_J234053.127-315425.759</td><td>355.221364552832</td><td>-31.9071553050597</td><td>0.9664</td><td>--</td><td>--</td><td>--</td><td>20425.7</td><td>15119.818</td><td>8245.5205</td><td>--</td><td>--</td><td>4316.8525</td><td>4186.9756</td><td>5053.2725</td><td>3.08270302154601e+38</td><td>5.12118165487713e+37</td><td>3.17990970800791e+38</td><td>7.41496215632844e+37</td><td>143057050574.645</td><td>36965889609.7293</td><td>66.9553970372392</td><td>21.9321852841353</td><td>3</td><td>3</td><td>270745947</td></tr>\n",
       "<tr><td>2</td><td>HATLAS-SGP</td><td>HELP_J234052.394-315358.753</td><td>355.218310013345</td><td>-31.8996535703626</td><td>0.6925</td><td>--</td><td>--</td><td>--</td><td>18308.998</td><td>10564.895</td><td>4270.3594</td><td>--</td><td>--</td><td>4194.416</td><td>4195.99</td><td>4371.3105</td><td>1.60490700911014e+38</td><td>4.06451271097613e+37</td><td>1.67679879370784e+38</td><td>4.57604902348417e+37</td><td>13595354035.8552</td><td>4676003980.64402</td><td>53.9513503646876</td><td>19.7897309863592</td><td>3</td><td>3</td><td>270745972</td></tr>\n",
       "<tr><td>3</td><td>HATLAS-SGP</td><td>HELP_J234055.756-315329.992</td><td>355.232318025995</td><td>-31.8916643124239</td><td>0.5569</td><td>--</td><td>--</td><td>--</td><td>21086.463</td><td>26888.72</td><td>23736.895</td><td>--</td><td>--</td><td>4329.9004</td><td>4373.7285</td><td>4622.4805</td><td>1.50441064117579e+38</td><td>3.35024950533308e+37</td><td>1.52383234461298e+38</td><td>2.96113739958104e+37</td><td>24024594478.2071</td><td>15097055407.9407</td><td>42.7509671470982</td><td>14.2332299172373</td><td>3</td><td>3</td><td>270746634</td></tr>\n",
       "<tr><td>4</td><td>HATLAS-SGP</td><td>HELP_J234100.230-315239.276</td><td>355.250959042836</td><td>-31.8775767794675</td><td>0.6144</td><td>--</td><td>--</td><td>--</td><td>37747.477</td><td>35127.543</td><td>21892.291</td><td>--</td><td>--</td><td>4500.0273</td><td>4949.3945</td><td>5417.959</td><td>2.58571861816433e+38</td><td>4.14934283911742e+37</td><td>2.77092791597091e+38</td><td>5.40726085559827e+37</td><td>7899208002.8411</td><td>3761643074.29722</td><td>118.097454641016</td><td>33.1457864044651</td><td>3</td><td>3</td><td>270746639</td></tr>\n",
       "<tr><td>5</td><td>HATLAS-SGP</td><td>HELP_J234105.507-315427.894</td><td>355.272946715752</td><td>-31.9077483124058</td><td>0.5487</td><td>--</td><td>--</td><td>--</td><td>9599.586</td><td>5543.7695</td><td>13252.52</td><td>--</td><td>--</td><td>4341.37</td><td>3826.588</td><td>4615.673</td><td>6.57535978635814e+37</td><td>2.45138225548723e+37</td><td>7.0099005040519e+37</td><td>1.83900158056727e+37</td><td>7210830296.24201</td><td>3576156879.41248</td><td>24.1046788576206</td><td>9.96650291266059</td><td>3</td><td>3</td><td>270659244</td></tr>\n",
       "<tr><td>6</td><td>HATLAS-SGP</td><td>HELP_J234109.718-315458.998</td><td>355.290492157837</td><td>-31.9163882312677</td><td>0.4713</td><td>--</td><td>--</td><td>--</td><td>7630.3643</td><td>8790.703</td><td>11874.207</td><td>--</td><td>--</td><td>4184.8584</td><td>4150.78</td><td>4781.6504</td><td>3.94061408126611e+37</td><td>2.51061484167469e+37</td><td>5.22554296314686e+37</td><td>1.50439169584799e+37</td><td>2076569476.0544</td><td>871581019.551319</td><td>16.9226437946661</td><td>13.9506758136917</td><td>3</td><td>3</td><td>270659237</td></tr>\n",
       "<tr><td>7</td><td>HATLAS-SGP</td><td>HELP_J234106.293-315335.856</td><td>355.276221212023</td><td>-31.8932933250107</td><td>0.8565</td><td>--</td><td>--</td><td>--</td><td>35815.586</td><td>20942.742</td><td>15782.43</td><td>--</td><td>--</td><td>4419.373</td><td>4423.5684</td><td>5075.2695</td><td>3.70268506803201e+38</td><td>7.57982547867796e+37</td><td>4.31742880965391e+38</td><td>1.08700946861325e+38</td><td>19116882346.7954</td><td>7732443201.73702</td><td>131.619168758133</td><td>43.8724968271715</td><td>3</td><td>3</td><td>270659247</td></tr>\n",
       "<tr><td>8</td><td>HATLAS-SGP</td><td>HELP_J234105.021-315241.042</td><td>355.270922427225</td><td>-31.8780671921819</td><td>0.8192</td><td>--</td><td>--</td><td>--</td><td>6632.401</td><td>8955.827</td><td>11774.765</td><td>--</td><td>--</td><td>4372.7563</td><td>4046.9668</td><td>5589.2354</td><td>1.22159227952387e+38</td><td>4.52160819845257e+37</td><td>1.11674776156302e+38</td><td>2.57050370801172e+37</td><td>38731931785.6575</td><td>15182525007.4566</td><td>30.6250750061685</td><td>14.8939130465412</td><td>3</td><td>3</td><td>270746642</td></tr>\n",
       "<tr><td>9</td><td>HATLAS-SGP</td><td>HELP_J234100.445-315203.921</td><td>355.251852389293</td><td>-31.8677557646238</td><td>0.6787</td><td>--</td><td>--</td><td>--</td><td>12018.717</td><td>15784.025</td><td>16479.39</td><td>--</td><td>--</td><td>4352.8594</td><td>4242.5195</td><td>5485.0625</td><td>1.27319265579493e+38</td><td>3.97138621333005e+37</td><td>1.34509227033821e+38</td><td>3.22157107591706e+37</td><td>9675893012.76188</td><td>4440580713.21866</td><td>41.8628002205805</td><td>15.7105645022032</td><td>3</td><td>3</td><td>270746672</td></tr>\n",
       "</table><style>table.dataTable {clear: both; width: auto !important; margin: 0 !important;}\n",
       ".dataTables_info, .dataTables_length, .dataTables_filter, .dataTables_paginate{\n",
       "display: inline-block; margin-right: 1em; }\n",
       ".paginate_button { margin-right: 5px; }\n",
       "</style>\n",
       "<script>\n",
       "\n",
       "var astropy_sort_num = function(a, b) {\n",
       "    var a_num = parseFloat(a);\n",
       "    var b_num = parseFloat(b);\n",
       "\n",
       "    if (isNaN(a_num) && isNaN(b_num))\n",
       "        return ((a < b) ? -1 : ((a > b) ? 1 : 0));\n",
       "    else if (!isNaN(a_num) && !isNaN(b_num))\n",
       "        return ((a_num < b_num) ? -1 : ((a_num > b_num) ? 1 : 0));\n",
       "    else\n",
       "        return isNaN(a_num) ? -1 : 1;\n",
       "}\n",
       "\n",
       "require.config({paths: {\n",
       "    datatables: 'https://cdn.datatables.net/1.10.12/js/jquery.dataTables.min'\n",
       "}});\n",
       "require([\"datatables\"], function(){\n",
       "    console.log(\"$('#table34705320480-48731').dataTable()\");\n",
       "    \n",
       "jQuery.extend( jQuery.fn.dataTableExt.oSort, {\n",
       "    \"optionalnum-asc\": astropy_sort_num,\n",
       "    \"optionalnum-desc\": function (a,b) { return -astropy_sort_num(a, b); }\n",
       "});\n",
       "\n",
       "    $('#table34705320480-48731').dataTable({\n",
       "        order: [],\n",
       "        pageLength: 50,\n",
       "        lengthMenu: [[10, 25, 50, 100, 500, 1000, -1], [10, 25, 50, 100, 500, 1000, 'All']],\n",
       "        pagingType: \"full_numbers\",\n",
       "        columnDefs: [{targets: [0, 3, 4, 5, 6, 7, 8, 9, 10, 11, 12, 13, 14, 15, 16, 17, 18, 19, 20, 21, 22, 23, 24, 25, 26, 27], type: \"optionalnum\"}]\n",
       "    });\n",
       "});\n",
       "</script>\n"
      ],
      "text/plain": [
       "<IPython.core.display.HTML object>"
      ]
     },
     "execution_count": 4,
     "metadata": {},
     "output_type": "execute_result"
    }
   ],
   "source": [
    "cigale_objects = result.table\n",
    "cigale_objects[:10].show_in_notebook()"
   ]
  },
  {
   "cell_type": "code",
   "execution_count": 6,
   "metadata": {},
   "outputs": [
    {
     "name": "stdout",
     "output_type": "stream",
     "text": [
      "field object\n",
      "help_id object\n"
     ]
    }
   ],
   "source": [
    "def clean_table(table):\n",
    "    \"\"\"Take a table produced by a VO query and remove all empty columns\n",
    "    \n",
    "    Often many columns are empty and make the tables hard to read\n",
    "    \n",
    "    Inputs\n",
    "    =======\n",
    "    table\n",
    "    \n",
    "    Returns\n",
    "    =======\n",
    "    table\n",
    "    \n",
    "    \"\"\"\n",
    "    table = table.copy()\n",
    "    for col in table.colnames:\n",
    "        if np.all(table[col].mask):\n",
    "            table.remove_column(col)\n",
    "    for col in table.colnames:\n",
    "        if table[col].dtype == 'object':\n",
    "            print(col, table[col].dtype )\n",
    "        \n",
    "            table[col] = table[col].astype(str)\n",
    "    return table\n",
    "cigale_objects = clean_table(cigale_objects)"
   ]
  },
  {
   "cell_type": "code",
   "execution_count": 8,
   "metadata": {},
   "outputs": [],
   "source": [
    "cigale_objects['field', \n",
    "    'help_id', \n",
    "    'ra', \n",
    "    'dec', \n",
    "    'redshift', \n",
    "    'zspec',\n",
    "    'f_pacs_green',\n",
    "    'ferr_pacs_green',\n",
    "    'f_pacs_red',\n",
    "    'ferr_pacs_red',\n",
    "    'f_spire_250',\n",
    "    'ferr_spire_250',\n",
    "    'f_spire_350',\n",
    "    'ferr_spire_350',\n",
    "    'f_spire_500',\n",
    "    'ferr_spire_500',\n",
    "    'cigale_dustlumin',\n",
    "    'cigale_dustlumin_err',\n",
    "    'cigale_dustlumin_ironly',\n",
    "    'cigale_dustlumin_ironly_err',\n",
    "    'cigale_mstar',\n",
    "    'cigale_mstar_err',\n",
    "    'cigale_sfr',\n",
    "    'cigale_sfr_err',\n",
    "    'flag_optnir_obs',\n",
    "    'flag_optnir_det',\n",
    "    'hp_idx'].write('./data/cigale_objects.fits', overwrite=True)"
   ]
  },
  {
   "cell_type": "code",
   "execution_count": null,
   "metadata": {},
   "outputs": [],
   "source": []
  }
 ],
 "metadata": {
  "anaconda-cloud": {},
  "kernelspec": {
   "display_name": "Python (herschelhelp_internal)",
   "language": "python",
   "name": "helpint"
  },
  "language_info": {
   "codemirror_mode": {
    "name": "ipython",
    "version": 3
   },
   "file_extension": ".py",
   "mimetype": "text/x-python",
   "name": "python",
   "nbconvert_exporter": "python",
   "pygments_lexer": "ipython3",
   "version": "3.6.8"
  }
 },
 "nbformat": 4,
 "nbformat_minor": 2
}
