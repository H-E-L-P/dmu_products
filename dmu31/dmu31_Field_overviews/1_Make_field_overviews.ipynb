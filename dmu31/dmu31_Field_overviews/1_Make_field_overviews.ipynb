{
 "cells": [
  {
   "cell_type": "markdown",
   "metadata": {},
   "source": [
    "# Loop over fields and make html overview pages"
   ]
  },
  {
   "cell_type": "code",
   "execution_count": 1,
   "metadata": {},
   "outputs": [],
   "source": [
    "import yaml\n",
    "import glob\n",
    "import numpy as np\n",
    "from astropy.table import Table\n",
    "from astropy import units as u\n",
    "from astropy.coordinates import SkyCoord\n",
    "from pymoc import MOC\n",
    "import healpy as hp\n",
    "\n",
    "from herschelhelp_internal.utils import flux_to_mag"
   ]
  },
  {
   "cell_type": "code",
   "execution_count": 2,
   "metadata": {},
   "outputs": [],
   "source": [
    "def field_to_sex(moc_file):\n",
    "    \"Take a moc and return the median ra dec\"\n",
    "    m = MOC(filename=moc_file)\n",
    "    ra, dec = [],[]\n",
    "    \n",
    "    for cell in m.flattened(7):\n",
    "        \n",
    "        theta,phi = hp.pix2ang(2**7, cell, nest=True)\n",
    "\n",
    "        dec.append((0.5*np.pi - theta) * 180/np.pi)\n",
    "        ra.append(phi* 180/np.pi)\n",
    "        \n",
    "        \n",
    "\n",
    "    c = SkyCoord(np.median(ra), np.median(dec),frame='icrs', unit='deg')\n",
    "    \n",
    "    return c.to_string('hmsdms').replace('h',' ').replace('m',' ').replace('d',' ').replace('s',' ')\n",
    "    \n",
    "#field_to_sex(yml['region'].replace('dmu_products','../../'))"
   ]
  },
  {
   "cell_type": "code",
   "execution_count": 3,
   "metadata": {},
   "outputs": [],
   "source": [
    "meta_ymls = glob.glob('../../dmu32/*/meta_main.yml')"
   ]
  },
  {
   "cell_type": "code",
   "execution_count": 13,
   "metadata": {},
   "outputs": [],
   "source": []
  },
  {
   "cell_type": "code",
   "execution_count": 5,
   "metadata": {},
   "outputs": [],
   "source": [
    "hedam='http://hedam.lam.fr/HELP/dataproducts'"
   ]
  },
  {
   "cell_type": "code",
   "execution_count": 6,
   "metadata": {},
   "outputs": [],
   "source": [
    "overview=Table.read('../../dmu32/dr1_data_products_overview.csv')\n",
    "depth_overviews=Table.read('../../dmu32/dmu32_AllSky/dr1_depth_overviews.csv')"
   ]
  },
  {
   "cell_type": "code",
   "execution_count": 7,
   "metadata": {},
   "outputs": [
    {
     "data": {
      "text/html": [
       "<i>Table length=23</i>\n",
       "<table id=\"table4849046752\" class=\"table-striped table-bordered table-condensed\">\n",
       "<thead><tr><th>field</th><th>ferr_u_mean_median</th><th>ferr_g_mean_median</th><th>ferr_r_mean_median</th><th>ferr_i_mean_median</th><th>ferr_z_mean_median</th><th>ferr_y_mean_median</th><th>ferr_j_mean_median</th><th>ferr_h_mean_median</th><th>ferr_k_mean_median</th><th>ferr_ks_mean_median</th><th>ferr_irac_i1_mean_median</th><th>ferr_irac_i2_mean_median</th><th>ferr_irac_i3_mean_median</th><th>ferr_irac_i4_mean_median</th><th>ferr_mips_24_mean_median</th><th>ferr_pacs_green_mean_median</th><th>ferr_pacs_red_mean_median</th><th>ferr_spire_250_mean_median</th><th>ferr_spire_350_mean_median</th><th>ferr_spire_500_mean_median</th></tr></thead>\n",
       "<thead><tr><th>str18</th><th>float64</th><th>float64</th><th>float64</th><th>float64</th><th>float64</th><th>float64</th><th>float64</th><th>float64</th><th>float64</th><th>float64</th><th>float64</th><th>float64</th><th>float64</th><th>float64</th><th>float64</th><th>float64</th><th>float64</th><th>float64</th><th>float64</th><th>float64</th></tr></thead>\n",
       "<tr><td>SA13</td><td>nan</td><td>0.499644935131073</td><td>0.7986563444137573</td><td>nan</td><td>0.9065105319023132</td><td>nan</td><td>14.501233100891113</td><td>nan</td><td>nan</td><td>nan</td><td>nan</td><td>nan</td><td>nan</td><td>nan</td><td>nan</td><td>nan</td><td>nan</td><td>3705.364013671875</td><td>4037.108642578125</td><td>4141.72412109375</td></tr>\n",
       "<tr><td>Bootes</td><td>0.10898130033345059</td><td>0.3188217580318451</td><td>0.19392904215934278</td><td>0.40504239216048094</td><td>0.3396558149016761</td><td>1.15686392984606</td><td>1.8290149834742848</td><td>2.433102216580356</td><td>4.946307573339122</td><td>23.00567387582105</td><td>1.3749062614269807</td><td>1.8823400908678791</td><td>10.836242823983468</td><td>15.135585643717517</td><td>16.38863754272461</td><td>9715.158203125</td><td>13206.236328125</td><td>3246.1162109375</td><td>3740.114990234375</td><td>5223.958984375</td></tr>\n",
       "<tr><td>xFLS</td><td>2.5981874465942383</td><td>0.577968418598175</td><td>0.16221551597118378</td><td>1.590234294227871</td><td>2.751865564430781</td><td>6.875311435130419</td><td>11.35222053527832</td><td>nan</td><td>nan</td><td>nan</td><td>7.403669558268787</td><td>8.833639499169525</td><td>29.367724531714284</td><td>29.851775776160004</td><td>9.724309921264648</td><td>nan</td><td>nan</td><td>3286.6875</td><td>3642.482666015625</td><td>4220.560546875</td></tr>\n",
       "<tr><td>GAMA-15</td><td>0.4427473247051239</td><td>0.12072403728961945</td><td>0.12575195729732513</td><td>0.48367467522621155</td><td>0.452085018157959</td><td>3.2316691875457764</td><td>3.6990435123443604</td><td>6.410440921783447</td><td>12.525550842285156</td><td>7.522132396697998</td><td>nan</td><td>nan</td><td>nan</td><td>nan</td><td>nan</td><td>19691.93359375</td><td>18558.060546875</td><td>5106.9755859375</td><td>5166.611328125</td><td>6490.95751953125</td></tr>\n",
       "<tr><td>GAMA-12</td><td>0.41562238335609436</td><td>0.13120463490486145</td><td>0.13316823542118073</td><td>0.5314038991928101</td><td>0.39746949076652527</td><td>3.540733575820923</td><td>4.398492336273193</td><td>7.363485813140869</td><td>12.678882598876953</td><td>8.253340721130371</td><td>nan</td><td>nan</td><td>nan</td><td>nan</td><td>nan</td><td>21138.68359375</td><td>19303.3671875</td><td>5076.7255859375</td><td>5106.244140625</td><td>6284.501953125</td></tr>\n",
       "<tr><td>HDF-N</td><td>0.06014675394855649</td><td>1.3818777735856416</td><td>1.1716443860025318</td><td>1.6228076050734046</td><td>2.9377319800322845</td><td>5.8660030659659</td><td>nan</td><td>nan</td><td>0.05740212276214833</td><td>0.4566996904024768</td><td>0.10814776693584569</td><td>0.10191452447040789</td><td>0.692944523239918</td><td>0.675048084995405</td><td>nan</td><td>nan</td><td>nan</td><td>2362.53662109375</td><td>2806.37451171875</td><td>2727.918212890625</td></tr>\n",
       "<tr><td>HATLAS-NGP</td><td>nan</td><td>1.1068435373359502</td><td>1.1280449351446002</td><td>1.346519620469588</td><td>0.8371601700782776</td><td>5.200235573175303</td><td>6.290984153747559</td><td>10.445904731750488</td><td>11.602095603942871</td><td>nan</td><td>nan</td><td>nan</td><td>nan</td><td>nan</td><td>nan</td><td>19003.72265625</td><td>18367.27734375</td><td>5174.78125</td><td>5124.71240234375</td><td>5790.87890625</td></tr>\n",
       "<tr><td>ELAIS-N2</td><td>0.021648168563842773</td><td>0.021362041543176936</td><td>0.029633822046084647</td><td>0.07714027911424637</td><td>0.1036979019628619</td><td>5.692292634532179</td><td>nan</td><td>nan</td><td>nan</td><td>nan</td><td>0.8554748603351955</td><td>1.1536211920529802</td><td>4.81047619047619</td><td>5.009145768025078</td><td>14.556729316711426</td><td>23417.884765625</td><td>14200.380859375</td><td>3349.41748046875</td><td>3733.767578125</td><td>4536.9248046875</td></tr>\n",
       "<tr><td>EGS</td><td>0.08380091767084885</td><td>0.04328254815720886</td><td>0.0690450668334961</td><td>0.12278351160752989</td><td>0.24312596023082733</td><td>5.537406787291107</td><td>12.964601516723633</td><td>0.17524227621391958</td><td>2.621839515379559</td><td>0.2610806312441928</td><td>0.47927530201342283</td><td>0.44784326769525834</td><td>1.3045725</td><td>1.5293367837692826</td><td>nan</td><td>5127.20068359375</td><td>6389.46826171875</td><td>nan</td><td>8507.791015625</td><td>13703.501953125</td></tr>\n",
       "<tr><td>COSMOS</td><td>0.0157054272168928</td><td>0.03435012107951955</td><td>0.04222205885971367</td><td>0.04593066566965388</td><td>0.07118493291013499</td><td>0.281536650582612</td><td>5.00678873831226</td><td>8.709416061639786</td><td>11.476829460689</td><td>0.14436165717867888</td><td>0.08034571709348072</td><td>0.0925659009844332</td><td>3.8457104629305876</td><td>6.694406648476918</td><td>6.219132423400879</td><td>1232.279649109773</td><td>4635.778800150351</td><td>1499.47998046875</td><td>1975.371826171875</td><td>2105.90673828125</td></tr>\n",
       "<tr><td>...</td><td>...</td><td>...</td><td>...</td><td>...</td><td>...</td><td>...</td><td>...</td><td>...</td><td>...</td><td>...</td><td>...</td><td>...</td><td>...</td><td>...</td><td>...</td><td>...</td><td>...</td><td>...</td><td>...</td><td>...</td></tr>\n",
       "<tr><td>ELAIS-N1</td><td>0.019151365384459496</td><td>0.01338229700922966</td><td>0.026388978585600853</td><td>0.08936943113803864</td><td>0.06265846639871597</td><td>0.4700567126274109</td><td>0.7145328521728516</td><td>nan</td><td>0.9512724876403809</td><td>nan</td><td>0.8422565681444991</td><td>1.162595419847328</td><td>5.0848148148148145</td><td>5.34253663003663</td><td>14.674064303959131</td><td>16373.70703125</td><td>24139.98046875</td><td>3145.5224982683985</td><td>3465.7372941176473</td><td>4373.563149285714</td></tr>\n",
       "<tr><td>AKARI-SEP</td><td>nan</td><td>0.1638194899333738</td><td>0.20247847867582794</td><td>0.36581064852331513</td><td>0.7352514496291919</td><td>2.684849291603666</td><td>8.88608169555664</td><td>14.644022941589355</td><td>nan</td><td>17.339191436767578</td><td>1.5033944845199585</td><td>1.3817453384399414</td><td>nan</td><td>nan</td><td>32.257118225097656</td><td>2436.84375</td><td>5730.814453125</td><td>nan</td><td>nan</td><td>11756.189453125</td></tr>\n",
       "<tr><td>GAMA-09</td><td>0.49408671259880066</td><td>0.12755326926708221</td><td>0.1226644515991211</td><td>0.3611517338919444</td><td>0.5064490437507629</td><td>3.289641410839267</td><td>4.46015354792277</td><td>7.6092741672809305</td><td>10.821016311645508</td><td>8.076903040592487</td><td>nan</td><td>nan</td><td>nan</td><td>nan</td><td>nan</td><td>nan</td><td>nan</td><td>5202.1318359375</td><td>5304.60107421875</td><td>6743.455078125</td></tr>\n",
       "<tr><td>AKARI-NEP</td><td>0.02289699576795101</td><td>1.6874522100531717</td><td>1.679151044169694</td><td>1.4960020491419808</td><td>3.291870180628686</td><td>7.624104250024761</td><td>0.8175007104873657</td><td>nan</td><td>nan</td><td>0.9437398910522461</td><td>2.3798959255218506</td><td>1.9808772802352905</td><td>nan</td><td>nan</td><td>243.60186767578125</td><td>14753.4375</td><td>14529.650390625</td><td>4984.0537109375</td><td>5300.73095703125</td><td>6000.7333984375</td></tr>\n",
       "<tr><td>ELAIS-S1</td><td>nan</td><td>0.17147434671339187</td><td>0.17739224433898926</td><td>0.449877824758422</td><td>0.8433735783268991</td><td>1.793659929515126</td><td>4.3969772806707415</td><td>7.270071649551392</td><td>nan</td><td>11.856416393728818</td><td>0.8021556886227543</td><td>1.1292903225806452</td><td>5.405454545454545</td><td>5.977647058823529</td><td>28.3387508392334</td><td>15108.5078125</td><td>20724.3359375</td><td>2995.979736328125</td><td>3430.412841796875</td><td>4187.9091796875</td></tr>\n",
       "<tr><td>XMM-13hr</td><td>nan</td><td>0.4560602605342865</td><td>0.3923824429512024</td><td>nan</td><td>0.712295413017273</td><td>nan</td><td>14.327215194702148</td><td>nan</td><td>nan</td><td>nan</td><td>nan</td><td>nan</td><td>nan</td><td>nan</td><td>nan</td><td>nan</td><td>nan</td><td>3703.67626953125</td><td>3958.593017578125</td><td>4224.82421875</td></tr>\n",
       "<tr><td>Herschel-Stripe-82</td><td>0.6864234859998154</td><td>0.16209108536206196</td><td>0.22488051793665315</td><td>0.4492722966201254</td><td>0.7344161053234455</td><td>2.9157514193063117</td><td>7.144738551548549</td><td>12.398811976114908</td><td>12.546700053744846</td><td>17.93561939966111</td><td>2.948255732819274</td><td>2.7847867567278892</td><td>nan</td><td>nan</td><td>148.20855712890625</td><td>nan</td><td>nan</td><td>7332.13818359375</td><td>7226.1484375</td><td>8512.892578125</td></tr>\n",
       "<tr><td>CDFS-SWIRE</td><td>3.4223345304309745</td><td>0.16141806081195087</td><td>0.19151053480605099</td><td>0.3948345179246271</td><td>0.793416836944245</td><td>2.679456500318671</td><td>2.4205652626163987</td><td>0.9484897776255532</td><td>0.04806102067232132</td><td>1.0882046875319904</td><td>0.7191956989425013</td><td>0.8575252835604631</td><td>4.813548387096775</td><td>5.252352941176471</td><td>13.994115829467773</td><td>23222.78515625</td><td>20919.732421875</td><td>2315.248291015625</td><td>2779.864013671875</td><td>3260.890625</td></tr>\n",
       "<tr><td>SPIRE-NEP</td><td>nan</td><td>1.675706174488259</td><td>1.8574386738285082</td><td>1.6852855206836246</td><td>3.970280827576203</td><td>7.689797494685946</td><td>nan</td><td>nan</td><td>nan</td><td>nan</td><td>nan</td><td>nan</td><td>nan</td><td>nan</td><td>14.384136199951172</td><td>nan</td><td>nan</td><td>2581.65185546875</td><td>3046.0673828125</td><td>3179.427734375</td></tr>\n",
       "<tr><td>SSDF</td><td>nan</td><td>0.15106440157128784</td><td>0.20215228667675636</td><td>0.35732552772439663</td><td>0.6988015632210205</td><td>2.14554883230302</td><td>6.657228946685791</td><td>10.618463516235352</td><td>nan</td><td>14.741318702697754</td><td>12.648787498474121</td><td>141.58482360839844</td><td>nan</td><td>nan</td><td>nan</td><td>nan</td><td>nan</td><td>5573.1484375</td><td>5964.1728515625</td><td>8035.0205078125</td></tr>\n",
       "</table>"
      ],
      "text/plain": [
       "<Table length=23>\n",
       "      field         ferr_u_mean_median  ... ferr_spire_500_mean_median\n",
       "      str18              float64        ...          float64          \n",
       "------------------ -------------------- ... --------------------------\n",
       "              SA13                  nan ...           4141.72412109375\n",
       "            Bootes  0.10898130033345059 ...             5223.958984375\n",
       "              xFLS   2.5981874465942383 ...             4220.560546875\n",
       "           GAMA-15   0.4427473247051239 ...           6490.95751953125\n",
       "           GAMA-12  0.41562238335609436 ...             6284.501953125\n",
       "             HDF-N  0.06014675394855649 ...          2727.918212890625\n",
       "        HATLAS-NGP                  nan ...              5790.87890625\n",
       "          ELAIS-N2 0.021648168563842773 ...            4536.9248046875\n",
       "               EGS  0.08380091767084885 ...            13703.501953125\n",
       "            COSMOS   0.0157054272168928 ...           2105.90673828125\n",
       "               ...                  ... ...                        ...\n",
       "          ELAIS-N1 0.019151365384459496 ...          4373.563149285714\n",
       "         AKARI-SEP                  nan ...            11756.189453125\n",
       "           GAMA-09  0.49408671259880066 ...             6743.455078125\n",
       "         AKARI-NEP  0.02289699576795101 ...            6000.7333984375\n",
       "          ELAIS-S1                  nan ...            4187.9091796875\n",
       "          XMM-13hr                  nan ...              4224.82421875\n",
       "Herschel-Stripe-82   0.6864234859998154 ...             8512.892578125\n",
       "        CDFS-SWIRE   3.4223345304309745 ...                3260.890625\n",
       "         SPIRE-NEP                  nan ...             3179.427734375\n",
       "              SSDF                  nan ...            8035.0205078125"
      ]
     },
     "execution_count": 7,
     "metadata": {},
     "output_type": "execute_result"
    }
   ],
   "source": [
    "depth_overviews"
   ]
  },
  {
   "cell_type": "code",
   "execution_count": 8,
   "metadata": {},
   "outputs": [
    {
     "data": {
      "text/html": [
       "<i>Table length=23</i>\n",
       "<table id=\"table4849046416\" class=\"table-striped table-bordered table-condensed\">\n",
       "<thead><tr><th>field</th><th>objects</th><th>dr1_file</th><th>dr1_file_hash</th><th>area_sq_degrees</th><th>file_size_bytes</th><th>file_size_readable</th><th>xid_objects</th><th>photoz_objects</th><th>cigale_objects</th></tr></thead>\n",
       "<thead><tr><th>str18</th><th>int64</th><th>str81</th><th>str32</th><th>float64</th><th>int64</th><th>str9</th><th>int64</th><th>int64</th><th>int64</th></tr></thead>\n",
       "<tr><td>AKARI-NEP</td><td>531746</td><td>dmu_products/dmu32/dmu32_AKARI-NEP/data/AKARI-NEP_20180215.fits</td><td>5b33074e816785e05407952f03e78354</td><td>9.194732358779467</td><td>433440000</td><td>433.44 MB</td><td>31441</td><td>107228</td><td>1239</td></tr>\n",
       "<tr><td>AKARI-SEP</td><td>844172</td><td>dmu_products/dmu32/dmu32_AKARI-SEP/data/AKARI-SEP_20180221.fits</td><td>56889960f654742f80329e8ebb0053d5</td><td>8.713306475131118</td><td>668652480</td><td>668.65 MB</td><td>108119</td><td>139059</td><td>566</td></tr>\n",
       "<tr><td>Bootes</td><td>3398098</td><td>dmu_products/dmu32/dmu32_Bootes/data/Bootes_20190701.fits</td><td>6d2f18ef25a42999d805b258c751fde2</td><td>11.42815299095486</td><td>5556003840</td><td>5.56 GB</td><td>495159</td><td>1570512</td><td>38980</td></tr>\n",
       "<tr><td>CDFS-SWIRE</td><td>2171051</td><td>dmu_products/dmu32/dmu32_CDFS-SWIRE/data/CDFS-SWIRE_20180613.fits</td><td>7bb01da6145d35ffa157b7c3ee0209ce</td><td>12.971246403717068</td><td>6059603520</td><td>6.06 GB</td><td>73511</td><td>136944</td><td>9308</td></tr>\n",
       "<tr><td>COSMOS</td><td>2599374</td><td>dmu_products/dmu32/dmu32_COSMOS/data/COSMOS_20190402.fits</td><td>c900763f01cd327b84fafa3defe46151</td><td>5.083863478496816</td><td>10954031040</td><td>10.95 GB</td><td>25898</td><td>691502</td><td>15747</td></tr>\n",
       "<tr><td>EGS</td><td>1412613</td><td>dmu_products/dmu32/dmu32_EGS/data/EGS_20180501.fits</td><td>74ce7e6bd7a982141d7558fad62b38df</td><td>3.566383275122158</td><td>4018965120</td><td>4.02 GB</td><td>223598</td><td>1182503</td><td>4159</td></tr>\n",
       "<tr><td>ELAIS-N1</td><td>4026292</td><td>dmu_products/dmu32/dmu32_ELAIS-N1/data/ELAIS-N1_20171016.fits</td><td>97ccb7d86c92aa9e9ba0657c9e737276</td><td>13.507484555454763</td><td>6007360320</td><td>6.01 GB</td><td>269611</td><td>2714686</td><td>49985</td></tr>\n",
       "<tr><td>ELAIS-N2</td><td>1783240</td><td>dmu_products/dmu32/dmu32_ELAIS-N2/data/ELAIS-N2_20180218.fits</td><td>09628a8b89fd5eeea27d6059988eb900</td><td>9.167479903991113</td><td>2321884800</td><td>2.32 GB</td><td>86591</td><td>120723</td><td>6798</td></tr>\n",
       "<tr><td>ELAIS-S1</td><td>1655564</td><td>dmu_products/dmu32/dmu32_ELAIS-S1/data/ELAIS-S1_20180416.fits</td><td>e1e31bd8ae8b7646c47aaec6a40e2cf4</td><td>9.002940646885508</td><td>2231798400</td><td>2.23 GB</td><td>194276</td><td>1013582</td><td>25393</td></tr>\n",
       "<tr><td>GAMA-09</td><td>12937982</td><td>dmu_products/dmu32/dmu32_GAMA-09/data/GAMA-09_20180601.fits</td><td>6712784e0dd54abaca5dc46b82a2c7a5</td><td>62.01393417284915</td><td>21839469120</td><td>21.84 GB</td><td>1386659</td><td>8833874</td><td>130293</td></tr>\n",
       "<tr><td>...</td><td>...</td><td>...</td><td>...</td><td>...</td><td>...</td><td>...</td><td>...</td><td>...</td><td>...</td></tr>\n",
       "<tr><td>HATLAS-SGP</td><td>29790690</td><td>dmu_products/dmu32/dmu32_SGP/data/SGP_20180221.fits</td><td>d16d97a07cca1f4c2552206a2b51dc68</td><td>294.5684540900642</td><td>47039604480</td><td>47.04 GB</td><td>3511594</td><td>17054138</td><td>352804</td></tr>\n",
       "<tr><td>HDF-N</td><td>130679</td><td>dmu_products/dmu32/dmu32_HDF-N/data/HDF-N_20180427.fits</td><td>eda45995ea7811f618393675056ff003</td><td>0.6717832558166041</td><td>190630080</td><td>190.63 MB</td><td>834</td><td>7435</td><td>0</td></tr>\n",
       "<tr><td>Herschel-Stripe-82</td><td>50196455</td><td>dmu_products/dmu32/dmu32_Herschel-Stripe-82/data/Herschel-Stripe-82_20180307.fits</td><td>2e39482611301daf8a0c1e4cad573842</td><td>363.22747930641884</td><td>133673333760</td><td>133.67 GB</td><td>2976447</td><td>21509448</td><td>250644</td></tr>\n",
       "<tr><td>Lockman-SWIRE</td><td>4366298</td><td>dmu_products/dmu32/dmu32_Lockman-SWIRE/data/Lockman-SWIRE_20180219.fits</td><td>72c4ab422be2081358fb50ba3cb9a867</td><td>22.413863402949218</td><td>5990670720</td><td>5.99 GB</td><td>242065</td><td>1377139</td><td>46719</td></tr>\n",
       "<tr><td>SA13</td><td>9799</td><td>dmu_products/dmu32/dmu32_SA13/data/SA13_20180501.fits</td><td>c2e822dab8edfcf4b178e31c245b1f77</td><td>0.27416379328431184</td><td>4011840</td><td>4.01 MB</td><td>812</td><td>2884</td><td>70</td></tr>\n",
       "<tr><td>SPIRE-NEP</td><td>2674</td><td>dmu_products/dmu32/dmu32_SPIRE-NEP/data/SPIRE-NEP_20180220.fits</td><td>e24491b6b9f3db62e7d6e96e4a384ff3</td><td>0.1280660469377391</td><td>1578240</td><td>1.58 MB</td><td>562</td><td>935</td><td>71</td></tr>\n",
       "<tr><td>SSDF</td><td>12661903</td><td>dmu_products/dmu32/dmu32_SSDF/data/SSDF_20180221.fits</td><td>fc789fa2236f6fc3f2a1cce9e8aa8256</td><td>111.11624949343539</td><td>9737064000</td><td>9.74 GB</td><td>4395253</td><td>9250727</td><td>305576</td></tr>\n",
       "<tr><td>XMM-13hr</td><td>38629</td><td>dmu_products/dmu32/dmu32_XMM-13hr/data/XMM-13hr_20180501.fits</td><td>da7c644f7aeee09034af7040439b32e0</td><td>0.7570240166583633</td><td>15747840</td><td>15.75 MB</td><td>3563</td><td>10773</td><td>670</td></tr>\n",
       "<tr><td>XMM-LSS</td><td>8705837</td><td>dmu_products/dmu32/dmu32_XMM-LSS/data/XMM-LSS_20190328.fits</td><td>53e3b49a42cc1900ff06aad3763bc475</td><td>21.75457939331374</td><td>29547829440</td><td>29.55 GB</td><td>360500</td><td>6124027</td><td>61888</td></tr>\n",
       "<tr><td>xFLS</td><td>977148</td><td>dmu_products/dmu32/dmu32_xFLS/data/xFLS_20180501.fits</td><td>983336d6ca349d809ea831cba71a9b1b</td><td>7.44043242140754</td><td>1187294400</td><td>1.19 GB</td><td>52187</td><td>100993</td><td>5944</td></tr>\n",
       "</table>"
      ],
      "text/plain": [
       "<Table length=23>\n",
       "      field        objects  ... photoz_objects cigale_objects\n",
       "      str18         int64   ...     int64          int64     \n",
       "------------------ -------- ... -------------- --------------\n",
       "         AKARI-NEP   531746 ...         107228           1239\n",
       "         AKARI-SEP   844172 ...         139059            566\n",
       "            Bootes  3398098 ...        1570512          38980\n",
       "        CDFS-SWIRE  2171051 ...         136944           9308\n",
       "            COSMOS  2599374 ...         691502          15747\n",
       "               EGS  1412613 ...        1182503           4159\n",
       "          ELAIS-N1  4026292 ...        2714686          49985\n",
       "          ELAIS-N2  1783240 ...         120723           6798\n",
       "          ELAIS-S1  1655564 ...        1013582          25393\n",
       "           GAMA-09 12937982 ...        8833874         130293\n",
       "               ...      ... ...            ...            ...\n",
       "        HATLAS-SGP 29790690 ...       17054138         352804\n",
       "             HDF-N   130679 ...           7435              0\n",
       "Herschel-Stripe-82 50196455 ...       21509448         250644\n",
       "     Lockman-SWIRE  4366298 ...        1377139          46719\n",
       "              SA13     9799 ...           2884             70\n",
       "         SPIRE-NEP     2674 ...            935             71\n",
       "              SSDF 12661903 ...        9250727         305576\n",
       "          XMM-13hr    38629 ...          10773            670\n",
       "           XMM-LSS  8705837 ...        6124027          61888\n",
       "              xFLS   977148 ...         100993           5944"
      ]
     },
     "execution_count": 8,
     "metadata": {},
     "output_type": "execute_result"
    }
   ],
   "source": [
    "overview"
   ]
  },
  {
   "cell_type": "code",
   "execution_count": 9,
   "metadata": {},
   "outputs": [
    {
     "name": "stderr",
     "output_type": "stream",
     "text": [
      "/Users/rs548/miniconda3/envs/herschelhelp_internal/lib/python3.6/site-packages/ipykernel_launcher.py:1: YAMLLoadWarning: calling yaml.load() without Loader=... is deprecated, as the default Loader is unsafe. Please read https://msg.pyyaml.org/load for full details.\n",
      "  \"\"\"Entry point for launching an IPython kernel.\n"
     ]
    }
   ],
   "source": [
    "regions = yaml.load(open('../../dmu2/meta_main.yml', 'r'))"
   ]
  },
  {
   "cell_type": "code",
   "execution_count": 15,
   "metadata": {},
   "outputs": [
    {
     "name": "stderr",
     "output_type": "stream",
     "text": [
      "/Users/rs548/miniconda3/envs/herschelhelp_internal/lib/python3.6/site-packages/ipykernel_launcher.py:3: YAMLLoadWarning: calling yaml.load() without Loader=... is deprecated, as the default Loader is unsafe. Please read https://msg.pyyaml.org/load for full details.\n",
      "  This is separate from the ipykernel package so we can avoid doing imports until\n"
     ]
    },
    {
     "name": "stdout",
     "output_type": "stream",
     "text": [
      "COSMOS\n",
      "ELAIS-S1\n",
      "GAMA-09\n",
      "Lockman-SWIRE\n",
      "ELAIS-N2\n",
      "Herschel-Stripe-82\n",
      "SA13\n",
      "GAMA-12\n"
     ]
    },
    {
     "name": "stderr",
     "output_type": "stream",
     "text": [
      "/Users/rs548/miniconda3/envs/herschelhelp_internal/lib/python3.6/site-packages/ipykernel_launcher.py:21: RuntimeWarning: All-NaN axis encountered\n"
     ]
    },
    {
     "name": "stdout",
     "output_type": "stream",
     "text": [
      "GAMA-15\n",
      "AKARI-SEP\n",
      "HATLAS-SGP\n",
      "xFLS\n",
      "CDFS-SWIRE\n",
      "SSDF\n",
      "XMM-LSS\n",
      "SPIRE-NEP\n",
      "AKARI-NEP\n",
      "ELAIS-N1\n",
      "HATLAS-NGP\n",
      "XMM-13hr\n",
      "Bootes\n",
      "HDF-N\n",
      "EGS\n"
     ]
    }
   ],
   "source": [
    "template = open('./html.template', 'r').read()\n",
    "for field_meta in meta_ymls:\n",
    "    yml = yaml.load(open(field_meta, 'r'))\n",
    "    print(yml['field'])\n",
    "    \n",
    "    description = yml['field']\n",
    "    for f in regions['fields']:\n",
    "        if f['name'] == yml['field']:\n",
    "            description = f['description']\n",
    "    #make html_table of surveys:\n",
    "    survey_table = '<ul>' \n",
    "    for s in yml['surveys']:\n",
    "        survey_table+='<li> <a href=\"https://github.com/H-E-L-P/dmu_products/tree/master/dmu0/dmu0_{}\">{}</a></li>'.format(\n",
    "            s, s\n",
    "        ) \n",
    "    survey_table+= '</ul>'\n",
    "\n",
    "    median_g_depth=depth_overviews[depth_overviews['field'] ==yml['field']]['ferr_g_mean_median'][0]\n",
    "    median_k_depth=np.nanmin([\n",
    "                    depth_overviews[depth_overviews['field'] ==yml['field']]['ferr_ks_mean_median'][0],\n",
    "                    depth_overviews[depth_overviews['field'] ==yml['field']]['ferr_k_mean_median'][0]\n",
    "                ])\n",
    "    median_i1_depth=depth_overviews[depth_overviews['field'] ==yml['field']]['ferr_irac_i1_mean_median'][0]\n",
    "    median_250_depth=depth_overviews[depth_overviews['field'] ==yml['field']]['ferr_spire_250_mean_median'][0]\n",
    "    field_html = open('./' + yml['field'] + '.html', \"w+\")\n",
    "    field_html.write(template.format(\n",
    "        field=yml['field'],\n",
    "        field_description=description,\n",
    "        target = field_to_sex(yml['region'].replace('dmu_products','../../')), # '10 45 00 +45 00 00',\n",
    "        fov=3*np.sqrt(overview[overview['field'] == yml['field']]['area_sq_degrees'][0]),\n",
    "        area=round(overview[overview['field'] == yml['field']]['area_sq_degrees'][0],2),\n",
    "        masterist_objects=overview[overview['field'] == yml['field']]['objects'][0],\n",
    "        xid_objects=overview[overview['field'] == yml['field']]['xid_objects'][0],\n",
    "        photoz_objects=overview[overview['field'] == yml['field']]['photoz_objects'][0],\n",
    "        cigale_objects=overview[overview['field'] == yml['field']]['cigale_objects'][0],\n",
    "        median_g_depth=\"AB {} mag, or {} uJy\".format(\n",
    "            round(flux_to_mag(median_g_depth*1.e-6)[0],2),\n",
    "            round(median_g_depth,2)),\n",
    "        median_k_depth=\"AB {} mag, or {} uJy\".format(\n",
    "            round(flux_to_mag(median_k_depth*1.e-6)[0],2),\n",
    "            round(median_k_depth,2)),\n",
    "        median_i1_depth=\"AB {} mag, or {} uJy\".format(\n",
    "            round(flux_to_mag(median_i1_depth*1.e-6)[0],2),\n",
    "            round(median_i1_depth,2)),\n",
    "        median_250_depth=\"AB {} mag, or {} uJy\".format(\n",
    "            round(flux_to_mag(median_250_depth*1.e-6)[0],2),\n",
    "            round(median_250_depth,2)),\n",
    "        best_phot=hedam + '/dmu32/dmu32_AllSky/data/{}_best_phot_20201111.fits'.format(yml['field']),\n",
    "        master_list=hedam+yml['final'].replace('dmu_products',''),\n",
    "        blind_list=(\n",
    "            hedam+\n",
    "            '/dmu22/dmu22_{}/data/dmu22_XID+SPIRE_{}_BLIND_Matched_MF.fits'.format(\n",
    "                yml['field'],yml['field']\n",
    "            )\n",
    "        ),\n",
    "        spire_250=hedam+'/dmu19/dmu19_HELP-SPIRE-maps/data/{}_SPIRE250_v1.0.fits'.format(yml['field']),\n",
    "        spire_350=hedam+'/dmu19/dmu19_HELP-SPIRE-maps/data/{}_SPIRE350_v1.0.fits'.format(yml['field']), \n",
    "        spire_500=hedam+'/dmu19/dmu19_HELP-SPIRE-maps/data/{}_SPIRE500_v1.0.fits'.format(yml['field']),\n",
    "        photoz_file=hedam+yml['photoz'],\n",
    "        cigale_file=hedam+yml['cigale'],\n",
    "        seds=hedam+'/dmu28/dmu28_{}/data/zphot/SEDs/'.format(yml['field']),\n",
    "        moc=hedam+yml['region'],\n",
    "        survey_table=survey_table\n",
    "    ))\n",
    "    field_html.close()"
   ]
  },
  {
   "cell_type": "code",
   "execution_count": null,
   "metadata": {},
   "outputs": [],
   "source": []
  }
 ],
 "metadata": {
  "kernelspec": {
   "display_name": "Python (herschelhelp_internal)",
   "language": "python",
   "name": "helpint"
  },
  "language_info": {
   "codemirror_mode": {
    "name": "ipython",
    "version": 3
   },
   "file_extension": ".py",
   "mimetype": "text/x-python",
   "name": "python",
   "nbconvert_exporter": "python",
   "pygments_lexer": "ipython3",
   "version": "3.6.10"
  }
 },
 "nbformat": 4,
 "nbformat_minor": 4
}
