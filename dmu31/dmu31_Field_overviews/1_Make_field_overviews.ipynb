{
 "cells": [
  {
   "cell_type": "markdown",
   "metadata": {},
   "source": [
    "# Loop over fields and make html overview pages"
   ]
  },
  {
   "cell_type": "code",
   "execution_count": 1,
   "metadata": {},
   "outputs": [],
   "source": [
    "import yaml\n",
    "import glob\n",
    "import numpy as np\n",
    "from astropy.table import Table\n",
    "from astropy import units as u\n",
    "from astropy.coordinates import SkyCoord\n",
    "from pymoc import MOC\n",
    "import healpy as hp"
   ]
  },
  {
   "cell_type": "code",
   "execution_count": 2,
   "metadata": {},
   "outputs": [],
   "source": [
    "def field_to_sex(moc_file):\n",
    "    \"Take a moc and return the median ra dec\"\n",
    "    m = MOC(filename=moc_file)\n",
    "    ra, dec = [],[]\n",
    "    \n",
    "    for cell in m.flattened(7):\n",
    "        \n",
    "        theta,phi = hp.pix2ang(2**7, cell, nest=True)\n",
    "\n",
    "        dec.append((0.5*np.pi - theta) * 180/np.pi)\n",
    "        ra.append(phi* 180/np.pi)\n",
    "        \n",
    "        \n",
    "\n",
    "    c = SkyCoord(np.median(ra), np.median(dec),frame='icrs', unit='deg')\n",
    "    \n",
    "    return c.to_string('hmsdms').replace('h',' ').replace('m',' ').replace('d',' ').replace('s',' ')\n",
    "    \n",
    "#field_to_sex(yml['region'].replace('dmu_products','../../'))"
   ]
  },
  {
   "cell_type": "code",
   "execution_count": 3,
   "metadata": {},
   "outputs": [],
   "source": [
    "meta_ymls = glob.glob('../../dmu32/*/meta_main.yml')"
   ]
  },
  {
   "cell_type": "code",
   "execution_count": 4,
   "metadata": {},
   "outputs": [],
   "source": [
    "template = open('./html.template', 'r').read()"
   ]
  },
  {
   "cell_type": "code",
   "execution_count": 5,
   "metadata": {},
   "outputs": [],
   "source": [
    "hedam='http://hedam.lam.fr/HELP/dataproducts'"
   ]
  },
  {
   "cell_type": "code",
   "execution_count": 6,
   "metadata": {},
   "outputs": [],
   "source": [
    "overview=Table.read('../../dmu32/dr1_data_products_overview.csv')"
   ]
  },
  {
   "cell_type": "code",
   "execution_count": 7,
   "metadata": {},
   "outputs": [
    {
     "data": {
      "text/html": [
       "<i>Table length=23</i>\n",
       "<table id=\"table4704815760\" class=\"table-striped table-bordered table-condensed\">\n",
       "<thead><tr><th>field</th><th>objects</th><th>dr1_file</th><th>dr1_file_hash</th><th>area_sq_degrees</th><th>file_size_bytes</th><th>file_size_readable</th><th>xid_objects</th><th>photoz_objects</th><th>cigale_objects</th></tr></thead>\n",
       "<thead><tr><th>str18</th><th>int64</th><th>str81</th><th>str32</th><th>float64</th><th>int64</th><th>str9</th><th>int64</th><th>int64</th><th>int64</th></tr></thead>\n",
       "<tr><td>AKARI-NEP</td><td>531746</td><td>dmu_products/dmu32/dmu32_AKARI-NEP/data/AKARI-NEP_20180215.fits</td><td>5b33074e816785e05407952f03e78354</td><td>9.194732358779467</td><td>433440000</td><td>433.44 MB</td><td>31441</td><td>107228</td><td>1239</td></tr>\n",
       "<tr><td>AKARI-SEP</td><td>844172</td><td>dmu_products/dmu32/dmu32_AKARI-SEP/data/AKARI-SEP_20180221.fits</td><td>56889960f654742f80329e8ebb0053d5</td><td>8.713306475131118</td><td>668652480</td><td>668.65 MB</td><td>108119</td><td>139059</td><td>566</td></tr>\n",
       "<tr><td>Bootes</td><td>3398098</td><td>dmu_products/dmu32/dmu32_Bootes/data/Bootes_20190701.fits</td><td>6d2f18ef25a42999d805b258c751fde2</td><td>11.42815299095486</td><td>5556003840</td><td>5.56 GB</td><td>495159</td><td>1570512</td><td>38980</td></tr>\n",
       "<tr><td>CDFS-SWIRE</td><td>2171051</td><td>dmu_products/dmu32/dmu32_CDFS-SWIRE/data/CDFS-SWIRE_20180613.fits</td><td>7bb01da6145d35ffa157b7c3ee0209ce</td><td>12.971246403717068</td><td>6059603520</td><td>6.06 GB</td><td>73511</td><td>136944</td><td>9308</td></tr>\n",
       "<tr><td>COSMOS</td><td>2599374</td><td>dmu_products/dmu32/dmu32_COSMOS/data/COSMOS_20190402.fits</td><td>c900763f01cd327b84fafa3defe46151</td><td>5.083863478496816</td><td>10954031040</td><td>10.95 GB</td><td>25898</td><td>691502</td><td>15747</td></tr>\n",
       "<tr><td>EGS</td><td>1412613</td><td>dmu_products/dmu32/dmu32_EGS/data/EGS_20180501.fits</td><td>74ce7e6bd7a982141d7558fad62b38df</td><td>3.566383275122158</td><td>4018965120</td><td>4.02 GB</td><td>223598</td><td>1182503</td><td>4159</td></tr>\n",
       "<tr><td>ELAIS-N1</td><td>4026292</td><td>dmu_products/dmu32/dmu32_ELAIS-N1/data/ELAIS-N1_20171016.fits</td><td>97ccb7d86c92aa9e9ba0657c9e737276</td><td>13.507484555454763</td><td>6007360320</td><td>6.01 GB</td><td>269611</td><td>2714686</td><td>49985</td></tr>\n",
       "<tr><td>ELAIS-N2</td><td>1783240</td><td>dmu_products/dmu32/dmu32_ELAIS-N2/data/ELAIS-N2_20180218.fits</td><td>09628a8b89fd5eeea27d6059988eb900</td><td>9.167479903991113</td><td>2321884800</td><td>2.32 GB</td><td>86591</td><td>120723</td><td>6798</td></tr>\n",
       "<tr><td>ELAIS-S1</td><td>1655564</td><td>dmu_products/dmu32/dmu32_ELAIS-S1/data/ELAIS-S1_20180416.fits</td><td>e1e31bd8ae8b7646c47aaec6a40e2cf4</td><td>9.002940646885508</td><td>2231798400</td><td>2.23 GB</td><td>194276</td><td>1013582</td><td>25393</td></tr>\n",
       "<tr><td>GAMA-09</td><td>12937982</td><td>dmu_products/dmu32/dmu32_GAMA-09/data/GAMA-09_20180601.fits</td><td>6712784e0dd54abaca5dc46b82a2c7a5</td><td>62.01393417284915</td><td>21839469120</td><td>21.84 GB</td><td>1386659</td><td>8833874</td><td>130293</td></tr>\n",
       "<tr><td>...</td><td>...</td><td>...</td><td>...</td><td>...</td><td>...</td><td>...</td><td>...</td><td>...</td><td>...</td></tr>\n",
       "<tr><td>HATLAS-SGP</td><td>29790690</td><td>dmu_products/dmu32/dmu32_SGP/data/SGP_20180221.fits</td><td>d16d97a07cca1f4c2552206a2b51dc68</td><td>294.5684540900642</td><td>47039604480</td><td>47.04 GB</td><td>3511594</td><td>17054138</td><td>352804</td></tr>\n",
       "<tr><td>HDF-N</td><td>130679</td><td>dmu_products/dmu32/dmu32_HDF-N/data/HDF-N_20180427.fits</td><td>eda45995ea7811f618393675056ff003</td><td>0.6717832558166041</td><td>190630080</td><td>190.63 MB</td><td>834</td><td>7435</td><td>0</td></tr>\n",
       "<tr><td>Herschel-Stripe-82</td><td>50196455</td><td>dmu_products/dmu32/dmu32_Herschel-Stripe-82/data/Herschel-Stripe-82_20180307.fits</td><td>2e39482611301daf8a0c1e4cad573842</td><td>363.22747930641884</td><td>133673333760</td><td>133.67 GB</td><td>2976447</td><td>21509448</td><td>250644</td></tr>\n",
       "<tr><td>Lockman-SWIRE</td><td>4366298</td><td>dmu_products/dmu32/dmu32_Lockman-SWIRE/data/Lockman-SWIRE_20180219.fits</td><td>72c4ab422be2081358fb50ba3cb9a867</td><td>22.413863402949218</td><td>5990670720</td><td>5.99 GB</td><td>242065</td><td>1377139</td><td>46719</td></tr>\n",
       "<tr><td>SA13</td><td>9799</td><td>dmu_products/dmu32/dmu32_SA13/data/SA13_20180501.fits</td><td>c2e822dab8edfcf4b178e31c245b1f77</td><td>0.27416379328431184</td><td>4011840</td><td>4.01 MB</td><td>812</td><td>2884</td><td>70</td></tr>\n",
       "<tr><td>SPIRE-NEP</td><td>2674</td><td>dmu_products/dmu32/dmu32_SPIRE-NEP/data/SPIRE-NEP_20180220.fits</td><td>e24491b6b9f3db62e7d6e96e4a384ff3</td><td>0.1280660469377391</td><td>1578240</td><td>1.58 MB</td><td>562</td><td>935</td><td>71</td></tr>\n",
       "<tr><td>SSDF</td><td>12661903</td><td>dmu_products/dmu32/dmu32_SSDF/data/SSDF_20180221.fits</td><td>fc789fa2236f6fc3f2a1cce9e8aa8256</td><td>111.11624949343539</td><td>9737064000</td><td>9.74 GB</td><td>4395253</td><td>9250727</td><td>305576</td></tr>\n",
       "<tr><td>XMM-13hr</td><td>38629</td><td>dmu_products/dmu32/dmu32_XMM-13hr/data/XMM-13hr_20180501.fits</td><td>da7c644f7aeee09034af7040439b32e0</td><td>0.7570240166583633</td><td>15747840</td><td>15.75 MB</td><td>3563</td><td>10773</td><td>670</td></tr>\n",
       "<tr><td>XMM-LSS</td><td>8705837</td><td>dmu_products/dmu32/dmu32_XMM-LSS/data/XMM-LSS_20190328.fits</td><td>53e3b49a42cc1900ff06aad3763bc475</td><td>21.75457939331374</td><td>29547829440</td><td>29.55 GB</td><td>360500</td><td>6124027</td><td>61888</td></tr>\n",
       "<tr><td>xFLS</td><td>977148</td><td>dmu_products/dmu32/dmu32_xFLS/data/xFLS_20180501.fits</td><td>983336d6ca349d809ea831cba71a9b1b</td><td>7.44043242140754</td><td>1187294400</td><td>1.19 GB</td><td>52187</td><td>100993</td><td>5944</td></tr>\n",
       "</table>"
      ],
      "text/plain": [
       "<Table length=23>\n",
       "      field        objects  ... photoz_objects cigale_objects\n",
       "      str18         int64   ...     int64          int64     \n",
       "------------------ -------- ... -------------- --------------\n",
       "         AKARI-NEP   531746 ...         107228           1239\n",
       "         AKARI-SEP   844172 ...         139059            566\n",
       "            Bootes  3398098 ...        1570512          38980\n",
       "        CDFS-SWIRE  2171051 ...         136944           9308\n",
       "            COSMOS  2599374 ...         691502          15747\n",
       "               EGS  1412613 ...        1182503           4159\n",
       "          ELAIS-N1  4026292 ...        2714686          49985\n",
       "          ELAIS-N2  1783240 ...         120723           6798\n",
       "          ELAIS-S1  1655564 ...        1013582          25393\n",
       "           GAMA-09 12937982 ...        8833874         130293\n",
       "               ...      ... ...            ...            ...\n",
       "        HATLAS-SGP 29790690 ...       17054138         352804\n",
       "             HDF-N   130679 ...           7435              0\n",
       "Herschel-Stripe-82 50196455 ...       21509448         250644\n",
       "     Lockman-SWIRE  4366298 ...        1377139          46719\n",
       "              SA13     9799 ...           2884             70\n",
       "         SPIRE-NEP     2674 ...            935             71\n",
       "              SSDF 12661903 ...        9250727         305576\n",
       "          XMM-13hr    38629 ...          10773            670\n",
       "           XMM-LSS  8705837 ...        6124027          61888\n",
       "              xFLS   977148 ...         100993           5944"
      ]
     },
     "execution_count": 7,
     "metadata": {},
     "output_type": "execute_result"
    }
   ],
   "source": [
    "overview"
   ]
  },
  {
   "cell_type": "code",
   "execution_count": 8,
   "metadata": {},
   "outputs": [
    {
     "name": "stderr",
     "output_type": "stream",
     "text": [
      "/Users/rs548/miniconda3/envs/herschelhelp_internal/lib/python3.6/site-packages/ipykernel_launcher.py:1: YAMLLoadWarning: calling yaml.load() without Loader=... is deprecated, as the default Loader is unsafe. Please read https://msg.pyyaml.org/load for full details.\n",
      "  \"\"\"Entry point for launching an IPython kernel.\n"
     ]
    }
   ],
   "source": [
    "regions = yaml.load(open('../../dmu2/meta_main.yml', 'r'))"
   ]
  },
  {
   "cell_type": "code",
   "execution_count": 9,
   "metadata": {},
   "outputs": [
    {
     "name": "stderr",
     "output_type": "stream",
     "text": [
      "/Users/rs548/miniconda3/envs/herschelhelp_internal/lib/python3.6/site-packages/ipykernel_launcher.py:2: YAMLLoadWarning: calling yaml.load() without Loader=... is deprecated, as the default Loader is unsafe. Please read https://msg.pyyaml.org/load for full details.\n",
      "  \n"
     ]
    },
    {
     "name": "stdout",
     "output_type": "stream",
     "text": [
      "COSMOS\n",
      "ELAIS-S1\n",
      "GAMA-09\n",
      "Lockman-SWIRE\n",
      "ELAIS-N2\n",
      "Herschel-Stripe-82\n",
      "SA13\n",
      "GAMA-12\n",
      "GAMA-15\n",
      "AKARI-SEP\n",
      "HATLAS-SGP\n",
      "xFLS\n",
      "CDFS-SWIRE\n",
      "SSDF\n",
      "XMM-LSS\n",
      "SPIRE-NEP\n",
      "AKARI-NEP\n",
      "ELAIS-N1\n",
      "HATLAS-NGP\n",
      "XMM-13hr\n",
      "Bootes\n",
      "HDF-N\n",
      "EGS\n"
     ]
    }
   ],
   "source": [
    "for field_meta in meta_ymls:\n",
    "    yml = yaml.load(open(field_meta, 'r'))\n",
    "    print(yml['field'])\n",
    "    \n",
    "    description = yml['field']\n",
    "    for f in regions['fields']:\n",
    "        if f['name'] == yml['field']:\n",
    "            description = f['description']\n",
    "    #make html_table of surveys:\n",
    "    survey_table = '<ul>' \n",
    "    for s in yml['surveys']:\n",
    "        survey_table+='<li> <a href=\"https://github.com/H-E-L-P/dmu_products/tree/master/dmu0/dmu0_{}\">{}</a></li>'.format(\n",
    "            s, s\n",
    "        ) \n",
    "    survey_table+= '</ul>'\n",
    "\n",
    "\n",
    "    field_html = open('./' + yml['field'] + '.html', \"w+\")\n",
    "    field_html.write(template.format(\n",
    "        field=yml['field'],\n",
    "        field_description=description,\n",
    "        target = field_to_sex(yml['region'].replace('dmu_products','../../')), # '10 45 00 +45 00 00',\n",
    "        fov=3*np.sqrt(overview[overview['field'] == yml['field']]['area_sq_degrees'][0]),\n",
    "        area=round(overview[overview['field'] == yml['field']]['area_sq_degrees'][0],2),\n",
    "        masterist_objects=overview[overview['field'] == yml['field']]['objects'][0],\n",
    "        xid_objects=overview[overview['field'] == yml['field']]['xid_objects'][0],\n",
    "        photoz_objects=overview[overview['field'] == yml['field']]['photoz_objects'][0],\n",
    "        cigale_objects=overview[overview['field'] == yml['field']]['cigale_objects'][0],\n",
    "        median_g_depth='PLACEHOLDER',\n",
    "        median_k_depth='PLACEHOLDER',\n",
    "        median_i1_depth='PLACEHOLDER',\n",
    "        median_250_depth='PLACEHOLDER',\n",
    "        best_phot=hedam + '/dmu32/dmu32_AllSky/data/{}_best_phot_20201111.fits'.format(yml['field']),\n",
    "        master_list=hedam+yml['final'],\n",
    "        blind_list=(\n",
    "            hedam+\n",
    "            '/dmu22/dmu22_{}/data/dmu22_XID+SPIRE_{}_BLIND_Matched_MF.fits'.format(\n",
    "                yml['field'],yml['field']\n",
    "            )\n",
    "        ),\n",
    "        spire_250=hedam+'/dmu19/dmu19_HELP-SPIRE-maps/data/{}_SPIRE250_v1.0.fits'.format(yml['field']),\n",
    "        spire_350=hedam+'/dmu19/dmu19_HELP-SPIRE-maps/data/{}_SPIRE350_v1.0.fits'.format(yml['field']), \n",
    "        spire_500=hedam+'/dmu19/dmu19_HELP-SPIRE-maps/data/{}_SPIRE500_v1.0.fits'.format(yml['field']),\n",
    "        photoz_file=hedam+yml['photoz'],\n",
    "        cigale_file=hedam+yml['cigale'],\n",
    "        seds=hedam+'/dmu28/dmu28_{}/data/zphot/SEDs/'.format(yml['field']),\n",
    "        moc=hedam+yml['region'],\n",
    "        survey_table=survey_table\n",
    "    ))\n",
    "    field_html.close()"
   ]
  },
  {
   "cell_type": "code",
   "execution_count": null,
   "metadata": {},
   "outputs": [],
   "source": []
  }
 ],
 "metadata": {
  "kernelspec": {
   "display_name": "Python (herschelhelp_internal)",
   "language": "python",
   "name": "helpint"
  },
  "language_info": {
   "codemirror_mode": {
    "name": "ipython",
    "version": 3
   },
   "file_extension": ".py",
   "mimetype": "text/x-python",
   "name": "python",
   "nbconvert_exporter": "python",
   "pygments_lexer": "ipython3",
   "version": "3.6.10"
  }
 },
 "nbformat": 4,
 "nbformat_minor": 4
}
