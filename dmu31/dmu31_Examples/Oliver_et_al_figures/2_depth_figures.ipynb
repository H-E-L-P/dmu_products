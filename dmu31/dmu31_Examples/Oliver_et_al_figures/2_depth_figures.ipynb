{
 "cells": [
  {
   "cell_type": "markdown",
   "metadata": {},
   "source": [
    "# Make depth summary figures\n",
    "\n",
    "This notebook is to produce some figures for the ELAIS-N1 paper.\n",
    "\n",
    "First we will, for every helpix 13 in HELP get the highest K or Ks depth, g depth, and irac 1 depth. We will then plot cumulative area histograms and generate the 25%, 50%, 75% areas to summarise the depths across all HELP.\n",
    "\n"
   ]
  },
  {
   "cell_type": "code",
   "execution_count": 1,
   "metadata": {},
   "outputs": [
    {
     "name": "stdout",
     "output_type": "stream",
     "text": [
      "This notebook was run with herschelhelp_internal version: \n",
      "1407877 (Mon Feb 4 12:56:29 2019 +0000)\n"
     ]
    }
   ],
   "source": [
    "from herschelhelp_internal import git_version\n",
    "print(\"This notebook was run with herschelhelp_internal version: \\n{}\".format(git_version()))\n"
   ]
  },
  {
   "cell_type": "code",
   "execution_count": 2,
   "metadata": {},
   "outputs": [
    {
     "name": "stderr",
     "output_type": "stream",
     "text": [
      "WARNING: AstropyDeprecationWarning: astropy.extern.six will be removed in 4.0, use the six module directly if it is still needed [astropy.extern.six]\n"
     ]
    }
   ],
   "source": [
    "import pyvo as vo\n",
    "import glob\n",
    "import time\n",
    "import numpy as np\n",
    "\n",
    "import matplotlib as mpl\n",
    "import matplotlib.pyplot as plt\n",
    "from mpl_toolkits.axes_grid1.inset_locator import inset_axes\n",
    "\n",
    "import random\n",
    "\n",
    "import herschelhelp as hh\n",
    "from herschelhelp_internal.utils import flux_to_mag\n",
    "\n",
    "from astropy.table import Table, Column, vstack, join, unique\n",
    "\n",
    "from pymoc import MOC\n",
    "\n",
    "import pandas as pd\n",
    "\n",
    "import yaml\n",
    "\n",
    "from pcigale.sed import SED\n",
    "from pcigale.sed_modules import get_module"
   ]
  },
  {
   "cell_type": "code",
   "execution_count": 3,
   "metadata": {},
   "outputs": [],
   "source": [
    "\n",
    "#Then we establish the VO connection to our database\n",
    "service = vo.dal.TAPService(\"https://herschel-vos.phys.sussex.ac.uk/__system__/tap/run/tap\")"
   ]
  },
  {
   "cell_type": "code",
   "execution_count": 4,
   "metadata": {},
   "outputs": [],
   "source": [
    "herschelhelp_python_loc = ('../../../../herschelhelp_python/')\n",
    "\n",
    "filter_locs  = glob.glob(herschelhelp_python_loc + 'database_builder/filters/*')"
   ]
  },
  {
   "cell_type": "code",
   "execution_count": 5,
   "metadata": {},
   "outputs": [
    {
     "name": "stdout",
     "output_type": "stream",
     "text": [
      "no readme\n"
     ]
    }
   ],
   "source": [
    "filters = [f.split('/')[-1].split('.')[0] for f in filter_locs]\n",
    "try:\n",
    "    filters.remove('readme')\n",
    "except ValueError:\n",
    "    print('no readme')\n",
    "\n",
    "bands = ['u', 'g', 'r', 'i', 'z', 'y',\n",
    "        'J', 'H', 'K', 'Ks',\n",
    "        'i1', 'i2', 'i3', 'i4']"
   ]
  },
  {
   "cell_type": "code",
   "execution_count": 6,
   "metadata": {},
   "outputs": [
    {
     "data": {
      "text/plain": [
       "['wfi_696nm',\n",
       " 'suprime_nb816',\n",
       " 'wfc3_f125w',\n",
       " 'mmt_g',\n",
       " 'omegacam_r',\n",
       " 'decam_z',\n",
       " 'wfi_416nm',\n",
       " 'sdss_i',\n",
       " 'omegacam_g',\n",
       " 'suprime_ib464',\n",
       " 'wfi_571nm',\n",
       " 'mmt_r',\n",
       " 'wfc3_f105w',\n",
       " 'spire_350',\n",
       " 'decam_y',\n",
       " 'suprime_ib505',\n",
       " 'cfht12k_b',\n",
       " '90prime_z',\n",
       " 'omegacam_u',\n",
       " 'suprime_ip',\n",
       " 'isaac_k',\n",
       " 'galex_nuv',\n",
       " 'acs_f775w',\n",
       " 'moircs_k',\n",
       " 'sdss_z',\n",
       " 'acs_f606w',\n",
       " 'cfht12k_r',\n",
       " 'decam_i',\n",
       " 'quirc_hk',\n",
       " 'mmt_u',\n",
       " 'suprime_zpp',\n",
       " 'suprime_ia624',\n",
       " 'megacam_r',\n",
       " 'bessell_v',\n",
       " 'wircam_ks',\n",
       " 'mips_24',\n",
       " 'omega2000_j',\n",
       " 'wfi_r',\n",
       " 'spire_250',\n",
       " 'suprime_r',\n",
       " 'gpc1_i',\n",
       " 'suprime_g',\n",
       " 'bessell_b',\n",
       " 'bessell_u',\n",
       " 'mosaic_r',\n",
       " 'wfi_753nm',\n",
       " 'acs_f850lp',\n",
       " 'ukidss_y',\n",
       " 'megacam_g',\n",
       " 'wfc_z',\n",
       " 'lbc_u',\n",
       " 'suprime_ia527',\n",
       " 'wfc_i',\n",
       " 'wfi_b123',\n",
       " 'gpc1_y',\n",
       " 'suprime_b',\n",
       " 'wfi_b',\n",
       " 'wfi_u',\n",
       " 'suprime_ia679',\n",
       " 'ukidss_j',\n",
       " 'suprime_ib827',\n",
       " 'suprime_ia484',\n",
       " 'ukidss_k',\n",
       " 'megacam_u',\n",
       " 'newfirm_j1',\n",
       " 'suprime_n816',\n",
       " 'gpc1_z',\n",
       " 'newfirm_j3',\n",
       " 'suprime_v',\n",
       " 'wfi_v',\n",
       " 'mosaic_b',\n",
       " 'mosaic_u',\n",
       " 'ukidss_h',\n",
       " 'bessell_r',\n",
       " 'suprime_ib574',\n",
       " 'newfirm_j2',\n",
       " 'suprime_zp',\n",
       " 'wfc3_f140w',\n",
       " 'suprime_z',\n",
       " 'irac_i3',\n",
       " 'irac_i2',\n",
       " 'bessell_i',\n",
       " 'megacam_z',\n",
       " 'vista_z',\n",
       " 'wfc_g',\n",
       " 'wfi_856nm',\n",
       " 'wfc_r',\n",
       " 'suprime_y',\n",
       " 'vista_ks',\n",
       " 'irac_i1',\n",
       " 'acs_f814w',\n",
       " 'mosaic_z',\n",
       " 'megacam_y',\n",
       " 'suprime_ib427',\n",
       " 'wfc3_f160w',\n",
       " 'wfi_646nm',\n",
       " 'vista_y',\n",
       " 'suprime_nb711',\n",
       " 'spire_500',\n",
       " 'pacs_red',\n",
       " 'gpc1_g',\n",
       " 'newfirm_h1',\n",
       " 'suprime_ia738',\n",
       " 'vista_j',\n",
       " 'mosaic_i',\n",
       " 'irac_i4',\n",
       " 'wfi_815nm',\n",
       " 'lbc_y',\n",
       " 'newfirm_h2',\n",
       " 'wfi_485nm',\n",
       " 'megacam_i',\n",
       " 'moircs_ks',\n",
       " 'nicmos_f160w',\n",
       " 'wfi_i',\n",
       " 'acs_f435w',\n",
       " 'vista_h',\n",
       " 'suprime_i',\n",
       " 'gpc1_r',\n",
       " 'wfc_u',\n",
       " 'wfi_461nm',\n",
       " 'cfht12k_i',\n",
       " 'wfc3_f098m',\n",
       " 'newfirm_h',\n",
       " 'decam_r',\n",
       " 'omegacam_z',\n",
       " 'pacs_green',\n",
       " 'nicmos_f110w',\n",
       " 'wfi_914nm',\n",
       " 'sdss_u',\n",
       " 'suprime_rc',\n",
       " 'wircam_y',\n",
       " 'newfirm_k',\n",
       " 'omega2000_ks',\n",
       " 'mmt_z',\n",
       " 'wfi_518nm',\n",
       " 'decam_g',\n",
       " 'tifkam_ks',\n",
       " 'newfirm_j',\n",
       " 'wircs_j',\n",
       " 'suprime_ia767',\n",
       " 'sdss_r',\n",
       " 'suprime_n921',\n",
       " 'mmt_i',\n",
       " 'wfi_604nm',\n",
       " 'wircs_k',\n",
       " 'galex_fuv',\n",
       " '90prime_r',\n",
       " 'wircam_j',\n",
       " 'suprime_ib709',\n",
       " 'wircam_h',\n",
       " 'suprime_rp',\n",
       " '90prime_g',\n",
       " 'hawki_k',\n",
       " 'omegacam_i',\n",
       " 'sdss_g']"
      ]
     },
     "execution_count": 6,
     "metadata": {},
     "output_type": "execute_result"
    }
   ],
   "source": [
    "filters"
   ]
  },
  {
   "cell_type": "code",
   "execution_count": 7,
   "metadata": {},
   "outputs": [
    {
     "name": "stdout",
     "output_type": "stream",
     "text": [
      "Job still running after 0 seconds.\n"
     ]
    }
   ],
   "source": [
    "irac_i1_query=\"\"\"\n",
    "SELECT DISTINCT hp_idx_O_10, ferr_ap_irac_i1_mean\n",
    "FROM depth.main\n",
    "WHERE ferr_ap_irac_i1_mean IS NOT NULL\n",
    "\"\"\"\n",
    "\n",
    "#Then we execute the query\n",
    "#resultset = service.run_async(irac_i1_query)\n",
    "job = service.submit_job(irac_i1_query)\n",
    "job.run()\n",
    "job_url = job.url\n",
    "job_result = vo.dal.tap.AsyncTAPJob(job_url)\n",
    "start_time = time.time()\n",
    "while job.phase == 'EXECUTING':\n",
    "    print('Job still running after {} seconds.'.format(round(time.time() - start_time)))\n",
    "    time.sleep(10) #wait ten seconds and try again\n",
    "    \n",
    "table = job_result.fetch_result() \n",
    "i1_table = table.table"
   ]
  },
  {
   "cell_type": "code",
   "execution_count": 8,
   "metadata": {},
   "outputs": [
    {
     "data": {
      "text/html": [
       "<i>Table masked=True length=83313</i>\n",
       "<table id=\"table4809655016\" class=\"table-striped table-bordered table-condensed\">\n",
       "<thead><tr><th>hp_idx_o_10</th><th>ferr_ap_irac_i1_mean</th></tr></thead>\n",
       "<thead><tr><th></th><th>uJy</th></tr></thead>\n",
       "<thead><tr><th>int64</th><th>float64</th></tr></thead>\n",
       "<tr><td>1547506</td><td>1.43366666666667</td></tr>\n",
       "<tr><td>1547507</td><td>1.52794117647059</td></tr>\n",
       "<tr><td>1547510</td><td>1.66105263157895</td></tr>\n",
       "<tr><td>1547511</td><td>1.94072727272727</td></tr>\n",
       "<tr><td>1547512</td><td>1.62485294117647</td></tr>\n",
       "<tr><td>1547513</td><td>1.03740540540541</td></tr>\n",
       "<tr><td>1547514</td><td>1.42491329479769</td></tr>\n",
       "<tr><td>1547515</td><td>0.732934782608696</td></tr>\n",
       "<tr><td>1547516</td><td>1.19547872340426</td></tr>\n",
       "<tr><td>...</td><td>...</td></tr>\n",
       "<tr><td>11870851</td><td>206.8402</td></tr>\n",
       "<tr><td>11870852</td><td>106.708244</td></tr>\n",
       "<tr><td>11870853</td><td>261.2762</td></tr>\n",
       "<tr><td>11870854</td><td>265.9595</td></tr>\n",
       "<tr><td>11870855</td><td>260.12</td></tr>\n",
       "<tr><td>11870856</td><td>303.03732</td></tr>\n",
       "<tr><td>11870857</td><td>232.01556</td></tr>\n",
       "<tr><td>11870858</td><td>557.28467</td></tr>\n",
       "<tr><td>11870860</td><td>679.73</td></tr>\n",
       "<tr><td>11870864</td><td>152.82677</td></tr>\n",
       "</table>"
      ],
      "text/plain": [
       "<Table masked=True length=83313>\n",
       "hp_idx_o_10 ferr_ap_irac_i1_mean\n",
       "                    uJy         \n",
       "   int64          float64       \n",
       "----------- --------------------\n",
       "    1547506     1.43366666666667\n",
       "    1547507     1.52794117647059\n",
       "    1547510     1.66105263157895\n",
       "    1547511     1.94072727272727\n",
       "    1547512     1.62485294117647\n",
       "    1547513     1.03740540540541\n",
       "    1547514     1.42491329479769\n",
       "    1547515    0.732934782608696\n",
       "    1547516     1.19547872340426\n",
       "        ...                  ...\n",
       "   11870851             206.8402\n",
       "   11870852           106.708244\n",
       "   11870853             261.2762\n",
       "   11870854             265.9595\n",
       "   11870855               260.12\n",
       "   11870856            303.03732\n",
       "   11870857            232.01556\n",
       "   11870858            557.28467\n",
       "   11870860               679.73\n",
       "   11870864            152.82677"
      ]
     },
     "execution_count": 8,
     "metadata": {},
     "output_type": "execute_result"
    }
   ],
   "source": [
    "i1_table"
   ]
  },
  {
   "cell_type": "code",
   "execution_count": 9,
   "metadata": {},
   "outputs": [
    {
     "data": {
      "text/plain": [
       "(array([1.8694e+04, 3.2534e+04, 3.2980e+03, 1.0970e+03, 1.2085e+04,\n",
       "        1.4502e+04, 1.0610e+03, 3.7000e+01, 2.0000e+00, 3.0000e+00]),\n",
       " array([-0.49291727, -0.01875222,  0.45541283,  0.92957788,  1.40374293,\n",
       "         1.87790798,  2.35207303,  2.82623808,  3.30040313,  3.77456818,\n",
       "         4.24873323]),\n",
       " <a list of 10 Patch objects>)"
      ]
     },
     "execution_count": 9,
     "metadata": {},
     "output_type": "execute_result"
    },
    {
     "data": {
      "image/png": "[encoded data removed]",
      "text/plain": [
       "<matplotlib.figure.Figure at 0x122f356d8>"
      ]
     },
     "metadata": {},
     "output_type": "display_data"
    }
   ],
   "source": [
    "plt.hist(np.log10(i1_table['ferr_ap_irac_i1_mean']) )"
   ]
  },
  {
   "cell_type": "code",
   "execution_count": 10,
   "metadata": {},
   "outputs": [
    {
     "data": {
      "text/plain": [
       "273.1409041542108"
      ]
     },
     "execution_count": 10,
     "metadata": {},
     "output_type": "execute_result"
    }
   ],
   "source": [
    "irac_i1_moc = MOC(10, i1_table['hp_idx_o_10'])\n",
    "irac_i1_moc.area_sq_deg\n",
    "total_area = irac_i1_moc.area_sq_deg\n",
    "total_area"
   ]
  },
  {
   "cell_type": "code",
   "execution_count": 11,
   "metadata": {},
   "outputs": [
    {
     "data": {
      "image/png": "[encoded data removed]",
      "text/plain": [
       "<matplotlib.figure.Figure at 0x1245747b8>"
      ]
     },
     "metadata": {},
     "output_type": "display_data"
    }
   ],
   "source": [
    "fig, ax = plt.subplots()\n",
    "\n",
    "cells, fluxes = np.histogram(np.log10(i1_table['ferr_ap_irac_i1_mean']*1.e-6), bins=50)\n",
    "ax.plot(fluxes[1:],\n",
    "         np.cumsum(cells)*total_area/cells.sum() ,\n",
    "        drawstyle='steps')\n",
    "\n",
    "ax.set_xlabel('Log$_{10}$ ( Mean IRAC 1 flux error [Jy] )')\n",
    "ax.set_ylabel('Cumulative area [deg.$^2$]')\n",
    "ax.set_xlim([-6.5,-3.0])\n",
    "#y_vals = ax.get_yticks()\n",
    "#ax.set_yticklabels([n for n in y_vals])\n",
    "\n",
    "plt.rc('font', family='serif', serif='Times')\n",
    "plt.rc('text') #, usetex=True)\n",
    "plt.rc('xtick', labelsize=12)\n",
    "plt.rc('ytick', labelsize=12)\n",
    "plt.rc('axes', labelsize=12)\n",
    "\n",
    "column_width_cm = 8.9\n",
    "width_cm = 1.4 * column_width_cm\n",
    "hieght_cm = width_cm / 1.618\n",
    "width_inches = width_cm/2.5\n",
    "hieght_inches = hieght_cm/2.5\n",
    "fig.set_size_inches(width_inches, hieght_inches)\n",
    "\n",
    "plt.tight_layout()\n",
    "plt.savefig('./figs/IRAC_i1_cumulative_area_depth.pdf')\n",
    "plt.savefig('./figs/IRAC_i1_cumulative_area_depth.png')"
   ]
  },
  {
   "cell_type": "code",
   "execution_count": 12,
   "metadata": {},
   "outputs": [
    {
     "data": {
      "text/plain": [
       "'\\nThe IRAC i1 band has coverage over 273.1409041542108 square degrees with  3 sigma \\ndepths at the 25th, 50th and 75th percentiles of 2.955037033451454, 5.86515255980631, 176.669196 respectively.'"
      ]
     },
     "execution_count": 12,
     "metadata": {},
     "output_type": "execute_result"
    }
   ],
   "source": [
    "i1_p25, i1_p50, i1_p75 = np.nanpercentile(i1_table['ferr_ap_irac_i1_mean'] * 3.,[25, 50, 75])\n",
    "\"\"\"\n",
    "The IRAC i1 band has coverage over {} square degrees with  3 sigma \n",
    "depths at the 25th, 50th and 75th percentiles of {}, {}, {} respectively.\"\"\".format(total_area, i1_p25, i1_p50, i1_p75)"
   ]
  },
  {
   "cell_type": "markdown",
   "metadata": {},
   "source": [
    "In mags as per reviewer request"
   ]
  },
  {
   "cell_type": "code",
   "execution_count": 13,
   "metadata": {},
   "outputs": [
    {
     "name": "stderr",
     "output_type": "stream",
     "text": [
      "/Users/rs548/anaconda/envs/herschelhelp_internal/lib/python3.6/site-packages/matplotlib/font_manager.py:1297: UserWarning: findfont: Font family ['serif'] not found. Falling back to DejaVu Sans\n",
      "  (prop.get_family(), self.defaultFamily[fontext]))\n"
     ]
    },
    {
     "data": {
      "image/png": "[encoded data removed]",
      "text/plain": [
       "<matplotlib.figure.Figure at 0x12521bc50>"
      ]
     },
     "metadata": {},
     "output_type": "display_data"
    }
   ],
   "source": [
    "fig, ax = plt.subplots()\n",
    "\n",
    "i1_pix_mag_depths, _ = flux_to_mag(i1_table['ferr_ap_irac_i1_mean']*1.e-6*5)\n",
    "cells, fluxes = np.histogram(i1_pix_mag_depths, bins=1000)\n",
    "#We want cumulative from faint to bright\n",
    "cells =np.flip(cells)\n",
    "fluxes = np.flip(fluxes)\n",
    "ax.plot(fluxes[1:],\n",
    "         np.cumsum(cells)*total_area/cells.sum() ,\n",
    "        drawstyle='steps')\n",
    "\n",
    "ax.set_xlabel('5$\\sigma$ IRAC $i1$ depth [mag]')\n",
    "ax.set_ylabel('Cumulative area [deg.$^2$]')\n",
    "ax.set_xlim([23,16])\n",
    "ax.set_ylim([0,300])\n",
    "#y_vals = ax.get_yticks()\n",
    "#ax.set_yticklabels([n for n in y_vals])\n",
    "\n",
    "plt.rc('font', family='serif', serif='Times')\n",
    "plt.rc('text') #, usetex=True)\n",
    "plt.rc('xtick', labelsize=12)\n",
    "plt.rc('ytick', labelsize=12)\n",
    "plt.rc('axes', labelsize=12)\n",
    "\n",
    "column_width_cm = 8.9\n",
    "width_cm = 1.0 * column_width_cm\n",
    "hieght_cm = width_cm \n",
    "width_inches = width_cm/2.5\n",
    "hieght_inches = hieght_cm/2.5\n",
    "fig.set_size_inches(width_inches, hieght_inches)\n",
    "\n",
    "\n",
    "\n",
    "plt.savefig('./figs/IRAC_i1_cumulative_area_depth_mag.pdf', bbox_inches='tight')\n",
    "plt.savefig('./figs/IRAC_i1_cumulative_area_depth_mag.png', bbox_inches='tight')"
   ]
  },
  {
   "cell_type": "code",
   "execution_count": 14,
   "metadata": {},
   "outputs": [
    {
     "data": {
      "text/plain": [
       "'\\nThe IRAC i1 band has coverage over 273.1409041542108 square degrees with  5 sigma \\ndepths at the 25th, 50th and 75th percentiles of 17.727476044402813, 21.424679843133582, 22.16897080604381 respectively.'"
      ]
     },
     "execution_count": 14,
     "metadata": {},
     "output_type": "execute_result"
    }
   ],
   "source": [
    "mi1_p25, mi1_p50, mi1_p75 = np.nanpercentile(i1_pix_mag_depths ,[25, 50, 75])\n",
    "\"\"\"\n",
    "The IRAC i1 band has coverage over {} square degrees with  5 sigma \n",
    "depths at the 25th, 50th and 75th percentiles of {}, {}, {} respectively.\"\"\".format(total_area, mi1_p25, mi1_p50, mi1_p75)"
   ]
  },
  {
   "cell_type": "markdown",
   "metadata": {},
   "source": [
    "## g bands\n",
    "\n",
    "There are multiple g type bands so we the the maximum depth of all of them."
   ]
  },
  {
   "cell_type": "code",
   "execution_count": 15,
   "metadata": {},
   "outputs": [
    {
     "name": "stdout",
     "output_type": "stream",
     "text": [
      ", ferr_ap_mmt_g_mean, ferr_ap_omegacam_g_mean, ferr_ap_suprime_g_mean, ferr_ap_megacam_g_mean, ferr_ap_wfc_g_mean, ferr_ap_gpc1_g_mean, ferr_ap_decam_g_mean, ferr_ap_90prime_g_mean, ferr_ap_sdss_g_mean\n"
     ]
    }
   ],
   "source": [
    "g_filters = [f for f in filters if f.split('_')[1] == 'g']\n",
    "spaced_list = ''\n",
    "for g in g_filters:\n",
    "    spaced_list = spaced_list + ', ferr_ap_' + g + '_mean'\n",
    "print(spaced_list)"
   ]
  },
  {
   "cell_type": "code",
   "execution_count": 16,
   "metadata": {},
   "outputs": [
    {
     "data": {
      "text/plain": [
       "'\\nSELECT DISTINCT hp_idx_O_10, ferr_ap_mmt_g_mean, ferr_ap_omegacam_g_mean, ferr_ap_suprime_g_mean, ferr_ap_megacam_g_mean, ferr_ap_wfc_g_mean, ferr_ap_gpc1_g_mean, ferr_ap_decam_g_mean, ferr_ap_90prime_g_mean, ferr_ap_sdss_g_mean\\nFROM depth.main\\n\\n'"
      ]
     },
     "execution_count": 16,
     "metadata": {},
     "output_type": "execute_result"
    }
   ],
   "source": [
    "g_bands_query=\"\"\"\n",
    "SELECT DISTINCT hp_idx_O_10{}\n",
    "FROM depth.main\n",
    "\n",
    "\"\"\".format(spaced_list)\n",
    "g_bands_query"
   ]
  },
  {
   "cell_type": "code",
   "execution_count": 17,
   "metadata": {},
   "outputs": [
    {
     "name": "stdout",
     "output_type": "stream",
     "text": [
      "Job still running after 0 seconds.\n",
      "Job still running after 10 seconds.\n",
      "Job still running after 20 seconds.\n",
      "Job still running after 31 seconds.\n",
      "Job still running after 41 seconds.\n",
      "COMPLETED\n"
     ]
    }
   ],
   "source": [
    "#Then we execute the query\n",
    "#resultset = service.run_async(irac_i1_query)\n",
    "job = service.submit_job(g_bands_query)\n",
    "job.run()\n",
    "job_url = job.url\n",
    "job_result = vo.dal.tap.AsyncTAPJob(job_url)\n",
    "start_time = time.time()\n",
    "while job.phase == 'EXECUTING':\n",
    "    print('Job still running after {} seconds.'.format(round(time.time() - start_time)))\n",
    "    time.sleep(10) #wait ten seconds and try again\n",
    "    \n",
    "print(job.phase)\n",
    "table = job_result.fetch_result() \n",
    "\n",
    "\n"
   ]
  },
  {
   "cell_type": "code",
   "execution_count": 18,
   "metadata": {},
   "outputs": [
    {
     "data": {
      "text/plain": [
       "['ferr_ap_mmt_g_mean',\n",
       " 'ferr_ap_omegacam_g_mean',\n",
       " 'ferr_ap_suprime_g_mean',\n",
       " 'ferr_ap_megacam_g_mean',\n",
       " 'ferr_ap_wfc_g_mean',\n",
       " 'ferr_ap_gpc1_g_mean',\n",
       " 'ferr_ap_decam_g_mean',\n",
       " 'ferr_ap_90prime_g_mean',\n",
       " 'ferr_ap_sdss_g_mean']"
      ]
     },
     "execution_count": 18,
     "metadata": {},
     "output_type": "execute_result"
    }
   ],
   "source": [
    "g_depth_cols  = [\"ferr_ap_{}_mean\".format(band) for band in g_filters]\n",
    "g_depth_cols"
   ]
  },
  {
   "cell_type": "code",
   "execution_count": 19,
   "metadata": {},
   "outputs": [],
   "source": [
    "g_table = Table(table.table)\n",
    "for col in g_depth_cols:\n",
    "    g_table[col].fill_value = np.nan\n",
    "g_table = g_table.filled()"
   ]
  },
  {
   "cell_type": "code",
   "execution_count": 20,
   "metadata": {},
   "outputs": [
    {
     "name": "stderr",
     "output_type": "stream",
     "text": [
      "/Users/rs548/anaconda/envs/herschelhelp_internal/lib/python3.6/site-packages/ipykernel/__main__.py:1: RuntimeWarning: All-NaN axis encountered\n",
      "  if __name__ == '__main__':\n"
     ]
    },
    {
     "data": {
      "text/plain": [
       "array([2.07127300e-07, 2.18198880e-07, 1.93754770e-07, ...,\n",
       "       6.84728411e-01, 4.62498951e-01, 5.92936370e-01])"
      ]
     },
     "execution_count": 20,
     "metadata": {},
     "output_type": "execute_result"
    }
   ],
   "source": [
    "np.nanmin([g_table[column] for column in g_depth_cols], axis=0)"
   ]
  },
  {
   "cell_type": "code",
   "execution_count": 21,
   "metadata": {},
   "outputs": [
    {
     "name": "stdout",
     "output_type": "stream",
     "text": [
      "ferr_ap_mmt_g_mean 0\n",
      "ferr_ap_omegacam_g_mean 0\n",
      "ferr_ap_suprime_g_mean 0\n",
      "ferr_ap_megacam_g_mean 4\n",
      "ferr_ap_wfc_g_mean 0\n",
      "ferr_ap_gpc1_g_mean 2\n",
      "ferr_ap_decam_g_mean 42483\n",
      "ferr_ap_90prime_g_mean 9564\n",
      "ferr_ap_sdss_g_mean 0\n"
     ]
    },
    {
     "name": "stderr",
     "output_type": "stream",
     "text": [
      "/Users/rs548/anaconda/envs/herschelhelp_internal/lib/python3.6/site-packages/ipykernel/__main__.py:2: RuntimeWarning: invalid value encountered in less\n",
      "  from ipykernel import kernelapp as app\n"
     ]
    }
   ],
   "source": [
    "for col in g_depth_cols:\n",
    "    print(col, np.sum(np.log10(np.array(g_table[col])*1.e-6) < -9))"
   ]
  },
  {
   "cell_type": "code",
   "execution_count": 22,
   "metadata": {},
   "outputs": [
    {
     "name": "stderr",
     "output_type": "stream",
     "text": [
      "/Users/rs548/anaconda/envs/herschelhelp_internal/lib/python3.6/site-packages/ipykernel/__main__.py:1: RuntimeWarning: invalid value encountered in less\n",
      "  if __name__ == '__main__':\n",
      "/Users/rs548/anaconda/envs/herschelhelp_internal/lib/python3.6/site-packages/ipykernel/__main__.py:2: RuntimeWarning: invalid value encountered in less\n",
      "  from ipykernel import kernelapp as app\n"
     ]
    }
   ],
   "source": [
    "decam_low = (np.log10(np.array(g_table['ferr_ap_decam_g_mean'])*1.e-6) < -9)\n",
    "prime_low = (np.log10(np.array(g_table['ferr_ap_90prime_g_mean'])*1.e-6) < -9)"
   ]
  },
  {
   "cell_type": "code",
   "execution_count": 23,
   "metadata": {},
   "outputs": [
    {
     "name": "stdout",
     "output_type": "stream",
     "text": [
      "AKARI-NEP has 0.0 sq deg of bad DECam and 0.0 sq degrees of bad 90Prime\n",
      "AKARI-SEP has 0.0 sq deg of bad DECam and 0.0 sq degrees of bad 90Prime\n",
      "Bootes has 0.0 sq deg of bad DECam and 0.0 sq degrees of bad 90Prime\n",
      "CDFS-SWIRE has 0.0 sq deg of bad DECam and 0.0 sq degrees of bad 90Prime\n",
      "COSMOS has 4.993602528615098 sq deg of bad DECam and 4.993602528615098 sq degrees of bad 90Prime\n",
      "EGS has 0.0 sq deg of bad DECam and 0.0 sq degrees of bad 90Prime\n",
      "ELAIS-N1 has 0.0 sq deg of bad DECam and 0.0 sq degrees of bad 90Prime\n",
      "ELAIS-N2 has 0.0 sq deg of bad DECam and 0.0 sq degrees of bad 90Prime\n",
      "ELAIS-S1 has 0.0 sq deg of bad DECam and 0.0 sq degrees of bad 90Prime\n",
      "GAMA-09 has 58.83676922758017 sq deg of bad DECam and 58.83676922758017 sq degrees of bad 90Prime\n",
      "GAMA-12 has 41.50292732171963 sq deg of bad DECam and 41.50292732171963 sq degrees of bad 90Prime\n",
      "GAMA-15 has 24.055567671853485 sq deg of bad DECam and 24.055567671853485 sq degrees of bad 90Prime\n",
      "HDF-N has 0.0 sq deg of bad DECam and 0.0 sq degrees of bad 90Prime\n",
      "Herschel-Stripe-82 has 7.849065563976479 sq deg of bad DECam and 7.849065563976479 sq degrees of bad 90Prime\n",
      "Lockman-SWIRE has 0.0 sq deg of bad DECam and 0.0 sq degrees of bad 90Prime\n",
      "HATLAS-NGP has 0.0 sq deg of bad DECam and 0.0 sq degrees of bad 90Prime\n",
      "SA13 has 0.0 sq deg of bad DECam and 0.0 sq degrees of bad 90Prime\n",
      "HATLAS-SGP has 0.0 sq deg of bad DECam and 0.0 sq degrees of bad 90Prime\n",
      "SPIRE-NEP has 0.0 sq deg of bad DECam and 0.0 sq degrees of bad 90Prime\n",
      "SSDF has 0.0 sq deg of bad DECam and 0.0 sq degrees of bad 90Prime\n",
      "xFLS has 0.0 sq deg of bad DECam and 0.0 sq degrees of bad 90Prime\n",
      "XMM-13hr has 0.0 sq deg of bad DECam and 0.0 sq degrees of bad 90Prime\n",
      "XMM-LSS has 0.04267160683965466 sq deg of bad DECam and 0.04267160683965466 sq degrees of bad 90Prime\n"
     ]
    }
   ],
   "source": [
    "decam_bad_moc = MOC(10, g_table['hp_idx_o_10'][decam_low])\n",
    "prime_bad_moc = MOC(10, g_table['hp_idx_o_10'][decam_low])\n",
    "\n",
    "fields = yaml.load(open('../../../dmu2/meta_main.yml', 'r'))\n",
    "\n",
    "\n",
    "for field in fields['fields']:\n",
    "    field_moc = MOC(filename=field['region'].replace('dmu_products/', '../../../'))\n",
    "    decam_bad_area = decam_bad_moc.intersection(field_moc).area_sq_deg\n",
    "    prime_bad_area = prime_bad_moc.intersection(field_moc).area_sq_deg\n",
    "    print(\"{} has {} sq deg of bad DECam and {} sq degrees of bad 90Prime\".format(field['name'], \n",
    "                                                                                  decam_bad_area, \n",
    "                                                                                  prime_bad_area))"
   ]
  },
  {
   "cell_type": "code",
   "execution_count": 24,
   "metadata": {},
   "outputs": [],
   "source": [
    "g_table['ferr_ap_decam_g_mean'][decam_low] = g_table['ferr_ap_decam_g_mean'][decam_low] * 1.e6\n",
    "g_table['ferr_ap_90prime_g_mean'][prime_low] = g_table['ferr_ap_90prime_g_mean'][prime_low] * 1.e6"
   ]
  },
  {
   "cell_type": "code",
   "execution_count": 25,
   "metadata": {},
   "outputs": [
    {
     "name": "stderr",
     "output_type": "stream",
     "text": [
      "/Users/rs548/anaconda/envs/herschelhelp_internal/lib/python3.6/site-packages/ipykernel/__main__.py:1: RuntimeWarning: All-NaN axis encountered\n",
      "  if __name__ == '__main__':\n"
     ]
    }
   ],
   "source": [
    "g_table.add_column(Column(data=np.nanmin([g_table[column] for column in g_depth_cols], axis=0), name='ferr_g_min'))"
   ]
  },
  {
   "cell_type": "code",
   "execution_count": 26,
   "metadata": {},
   "outputs": [
    {
     "data": {
      "text/html": [
       "<i>Table length=394298</i>\n",
       "<table id=\"table4920228552\" class=\"table-striped table-bordered table-condensed\">\n",
       "<thead><tr><th>hp_idx_o_10</th><th>ferr_g_min</th></tr></thead>\n",
       "<thead><tr><th>int64</th><th>float64</th></tr></thead>\n",
       "<tr><td>1048576</td><td>0.01926224</td></tr>\n",
       "<tr><td>1048577</td><td>0.020717567</td></tr>\n",
       "<tr><td>1048578</td><td>0.021378249</td></tr>\n",
       "<tr><td>1048579</td><td>0.021092668</td></tr>\n",
       "<tr><td>1048580</td><td>0.020199573</td></tr>\n",
       "<tr><td>1048581</td><td>0.022394473</td></tr>\n",
       "<tr><td>1048582</td><td>0.020951325</td></tr>\n",
       "<tr><td>1048583</td><td>0.020383537</td></tr>\n",
       "<tr><td>1048584</td><td>0.022677435</td></tr>\n",
       "<tr><td>1048585</td><td>0.021453133</td></tr>\n",
       "<tr><td>...</td><td>...</td></tr>\n",
       "<tr><td>12042983</td><td>0.470593447975413</td></tr>\n",
       "<tr><td>12042985</td><td>0.401245270265415</td></tr>\n",
       "<tr><td>12043008</td><td>1.12891318891637</td></tr>\n",
       "<tr><td>12043009</td><td>0.508966908339133</td></tr>\n",
       "<tr><td>12043010</td><td>0.494158403628982</td></tr>\n",
       "<tr><td>12043011</td><td>0.577247280662618</td></tr>\n",
       "<tr><td>12043012</td><td>0.445860992796356</td></tr>\n",
       "<tr><td>12043016</td><td>0.684728410968042</td></tr>\n",
       "<tr><td>12043017</td><td>0.462498951222175</td></tr>\n",
       "<tr><td>12043018</td><td>0.592936370182139</td></tr>\n",
       "</table>"
      ],
      "text/plain": [
       "<Table length=394298>\n",
       "hp_idx_o_10     ferr_g_min   \n",
       "   int64         float64     \n",
       "----------- -----------------\n",
       "    1048576        0.01926224\n",
       "    1048577       0.020717567\n",
       "    1048578       0.021378249\n",
       "    1048579       0.021092668\n",
       "    1048580       0.020199573\n",
       "    1048581       0.022394473\n",
       "    1048582       0.020951325\n",
       "    1048583       0.020383537\n",
       "    1048584       0.022677435\n",
       "    1048585       0.021453133\n",
       "        ...               ...\n",
       "   12042983 0.470593447975413\n",
       "   12042985 0.401245270265415\n",
       "   12043008  1.12891318891637\n",
       "   12043009 0.508966908339133\n",
       "   12043010 0.494158403628982\n",
       "   12043011 0.577247280662618\n",
       "   12043012 0.445860992796356\n",
       "   12043016 0.684728410968042\n",
       "   12043017 0.462498951222175\n",
       "   12043018 0.592936370182139"
      ]
     },
     "execution_count": 26,
     "metadata": {},
     "output_type": "execute_result"
    }
   ],
   "source": [
    "g_table['hp_idx_o_10', 'ferr_g_min']"
   ]
  },
  {
   "cell_type": "code",
   "execution_count": 27,
   "metadata": {},
   "outputs": [
    {
     "data": {
      "text/plain": [
       "1292.6302392940547"
      ]
     },
     "execution_count": 27,
     "metadata": {},
     "output_type": "execute_result"
    }
   ],
   "source": [
    "g_moc = MOC(10, g_table['hp_idx_o_10'])\n",
    "g_moc.area_sq_deg\n",
    "total_area_g = g_moc.area_sq_deg\n",
    "total_area_g"
   ]
  },
  {
   "cell_type": "code",
   "execution_count": 28,
   "metadata": {},
   "outputs": [
    {
     "name": "stderr",
     "output_type": "stream",
     "text": [
      "/Users/rs548/anaconda/envs/herschelhelp_internal/lib/python3.6/site-packages/ipykernel/__main__.py:5: RuntimeWarning: invalid value encountered in greater\n",
      "/Users/rs548/anaconda/envs/herschelhelp_internal/lib/python3.6/site-packages/ipykernel/__main__.py:6: RuntimeWarning: invalid value encountered in less\n",
      "/Users/rs548/anaconda/envs/herschelhelp_internal/lib/python3.6/site-packages/matplotlib/font_manager.py:1297: UserWarning: findfont: Font family ['serif'] not found. Falling back to DejaVu Sans\n",
      "  (prop.get_family(), self.defaultFamily[fontext]))\n"
     ]
    },
    {
     "data": {
      "image/png": "[encoded data removed]",
      "text/plain": [
       "<matplotlib.figure.Figure at 0x12539abe0>"
      ]
     },
     "metadata": {},
     "output_type": "display_data"
    }
   ],
   "source": [
    "g_table['hp_idx_o_10', 'ferr_g_min']\n",
    "\n",
    "fig, ax = plt.subplots()\n",
    "\n",
    "good = np.log10(np.array(g_table['ferr_g_min'])*1.e-6) > -20\n",
    "good &= np.log10(np.array(g_table['ferr_g_min'])*1.e-6) <20\n",
    "\n",
    "cells, fluxes = np.histogram(np.log10(np.array(g_table['ferr_g_min'][good ])*1.e-6), bins=100)\n",
    "ax.plot(fluxes[1:],\n",
    "         np.cumsum(cells)*1270./cells.sum() ,\n",
    "        drawstyle='steps')\n",
    "\n",
    "ax.set_xlabel('Log$_{10}$ ( Mean g flux error [Jy] )')\n",
    "ax.set_ylabel('Cumulative area [deg.$^2$]')\n",
    "ax.set_xlim([-8,-4.0])\n",
    "#y_vals = ax.get_yticks()\n",
    "#ax.set_yticklabels([n for n in y_vals])\n",
    "\n",
    "\n",
    "\n",
    "plt.rc('font', family='serif', serif='Times')\n",
    "plt.rc('text') #, usetex=True)\n",
    "plt.rc('xtick', labelsize=12)\n",
    "plt.rc('ytick', labelsize=12)\n",
    "plt.rc('axes', labelsize=12)\n",
    "\n",
    "column_width_cm = 8.9\n",
    "width_cm = 1.0 * column_width_cm\n",
    "hieght_cm = width_cm / 1.618\n",
    "width_inches = width_cm/2.5\n",
    "hieght_inches = hieght_cm/2.5\n",
    "fig.set_size_inches(width_inches, hieght_inches)\n",
    "\n",
    "plt.tight_layout()\n",
    "plt.savefig('./figs/g_cumulative_area_depth.pdf')\n",
    "plt.savefig('./figs/g_cumulative_area_depth.png')"
   ]
  },
  {
   "cell_type": "code",
   "execution_count": 29,
   "metadata": {},
   "outputs": [
    {
     "data": {
      "text/plain": [
       "'\\nThe g band has coverage over 1270 square degrees with  3 sigma \\ndepths at the 25th, 50th and 75th percentiles of 0.30178651661213773, 0.367626929893692, 0.8854647236256772 respectively.'"
      ]
     },
     "execution_count": 29,
     "metadata": {},
     "output_type": "execute_result"
    }
   ],
   "source": [
    "g_p25, g_p50, g_p75 = np.nanpercentile(g_table['ferr_g_min'][good ] * 3.,[25, 50, 75])\n",
    "\"\"\"\n",
    "The g band has coverage over {} square degrees with  3 sigma \n",
    "depths at the 25th, 50th and 75th percentiles of {}, {}, {} respectively.\"\"\".format(1270, g_p25, g_p50, g_p75)"
   ]
  },
  {
   "cell_type": "markdown",
   "metadata": {},
   "source": [
    "In mags as per reviewer request"
   ]
  },
  {
   "cell_type": "code",
   "execution_count": 30,
   "metadata": {},
   "outputs": [
    {
     "name": "stderr",
     "output_type": "stream",
     "text": [
      "/Users/rs548/anaconda/envs/herschelhelp_internal/lib/python3.6/site-packages/ipykernel/__main__.py:5: RuntimeWarning: invalid value encountered in greater\n",
      "/Users/rs548/anaconda/envs/herschelhelp_internal/lib/python3.6/site-packages/ipykernel/__main__.py:6: RuntimeWarning: invalid value encountered in less\n",
      "/Users/rs548/anaconda/envs/herschelhelp_internal/lib/python3.6/site-packages/matplotlib/font_manager.py:1297: UserWarning: findfont: Font family ['serif'] not found. Falling back to DejaVu Sans\n",
      "  (prop.get_family(), self.defaultFamily[fontext]))\n"
     ]
    },
    {
     "data": {
      "image/png": "[encoded data removed]",
      "text/plain": [
       "<matplotlib.figure.Figure at 0x128b974e0>"
      ]
     },
     "metadata": {},
     "output_type": "display_data"
    }
   ],
   "source": [
    "g_table['hp_idx_o_10', 'ferr_g_min']\n",
    "\n",
    "fig, ax = plt.subplots()\n",
    "\n",
    "good = np.log10(np.array(g_table['ferr_g_min'])*1.e-6) > -20\n",
    "good &= np.log10(np.array(g_table['ferr_g_min'])*1.e-6) <20\n",
    "\n",
    "g_pix_mag_depths, _ = flux_to_mag(np.array(g_table['ferr_g_min'][good ])*1.e-6*5)\n",
    "cells, fluxes = np.histogram(g_pix_mag_depths, bins=1000)\n",
    "cells =np.flip(cells)\n",
    "fluxes = np.flip(fluxes)\n",
    "\n",
    "ax.plot(fluxes[1:],\n",
    "         np.cumsum(cells)*1270./cells.sum() ,\n",
    "        drawstyle='steps')\n",
    "\n",
    "ax.set_xlabel('5$\\sigma$ $g$ depth [mag] ')\n",
    "ax.set_ylabel('Cumulative area [deg.$^2$]')\n",
    "ax.set_xlim([27,20])\n",
    "ax.set_ylim([0,1300])\n",
    "#y_vals = ax.get_yticks()\n",
    "#ax.set_yticklabels([n for n in y_vals])\n",
    "\n",
    "\n",
    "\n",
    "plt.rc('font', family='serif', serif='Times')\n",
    "plt.rc('text') #, usetex=True)\n",
    "plt.rc('xtick', labelsize=12)\n",
    "plt.rc('ytick', labelsize=12)\n",
    "plt.rc('axes', labelsize=12)\n",
    "\n",
    "column_width_cm = 8.9\n",
    "width_cm = 1.0 * column_width_cm\n",
    "hieght_cm = width_cm \n",
    "width_inches = width_cm/2.5\n",
    "hieght_inches = hieght_cm/2.5\n",
    "fig.set_size_inches(width_inches, hieght_inches)\n",
    "\n",
    "\n",
    "plt.savefig('./figs/g_cumulative_area_depth_mag.pdf', bbox_inches='tight')\n",
    "plt.savefig('./figs/g_cumulative_area_depth_mag.png', bbox_inches='tight')"
   ]
  },
  {
   "cell_type": "code",
   "execution_count": 31,
   "metadata": {},
   "outputs": [
    {
     "data": {
      "text/plain": [
       "'\\nThe g band has coverage over 1270 square degrees with  3 sigma \\ndepths at the 25th, 50th and 75th percentiles of 23.47744996638206, 24.43185983247774, 24.646128545411877 respectively.'"
      ]
     },
     "execution_count": 31,
     "metadata": {},
     "output_type": "execute_result"
    }
   ],
   "source": [
    "mg_p25, mg_p50, mg_p75 = np.nanpercentile(g_pix_mag_depths,[25, 50, 75])\n",
    "\"\"\"\n",
    "The g band has coverage over {} square degrees with  3 sigma \n",
    "depths at the 25th, 50th and 75th percentiles of {}, {}, {} respectively.\"\"\".format(1270, mg_p25, mg_p50, mg_p75)"
   ]
  },
  {
   "cell_type": "code",
   "execution_count": 32,
   "metadata": {},
   "outputs": [
    {
     "data": {
      "text/html": [
       "<i>Table length=9564</i>\n",
       "<table id=\"table4919408736\" class=\"table-striped table-bordered table-condensed\">\n",
       "<thead><tr><th>hp_idx_o_10</th><th>ferr_ap_mmt_g_mean</th><th>ferr_ap_omegacam_g_mean</th><th>ferr_ap_suprime_g_mean</th><th>ferr_ap_megacam_g_mean</th><th>ferr_ap_wfc_g_mean</th><th>ferr_ap_gpc1_g_mean</th><th>ferr_ap_decam_g_mean</th><th>ferr_ap_90prime_g_mean</th><th>ferr_ap_sdss_g_mean</th><th>ferr_g_min</th></tr></thead>\n",
       "<thead><tr><th></th><th>uJy</th><th>uJy</th><th>uJy</th><th>uJy</th><th>uJy</th><th>uJy</th><th>uJy</th><th>uJy</th><th>uJy</th><th></th></tr></thead>\n",
       "<thead><tr><th>int64</th><th>float64</th><th>float64</th><th>float64</th><th>float64</th><th>float64</th><th>float64</th><th>float64</th><th>float64</th><th>float64</th><th>float64</th></tr></thead>\n",
       "<tr><td>2652662</td><td>nan</td><td>nan</td><td>nan</td><td>nan</td><td>nan</td><td>0.987825059481603</td><td>nan</td><td>0.20031881999999998</td><td>nan</td><td>0.20031881999999998</td></tr>\n",
       "<tr><td>2652663</td><td>nan</td><td>nan</td><td>nan</td><td>nan</td><td>nan</td><td>42.3153061976883</td><td>nan</td><td>0.1769414</td><td>nan</td><td>0.1769414</td></tr>\n",
       "<tr><td>2652667</td><td>nan</td><td>nan</td><td>nan</td><td>nan</td><td>nan</td><td>0.777482608504748</td><td>nan</td><td>0.200318</td><td>nan</td><td>0.200318</td></tr>\n",
       "<tr><td>2652668</td><td>nan</td><td>nan</td><td>nan</td><td>nan</td><td>nan</td><td>1.21649049703478</td><td>nan</td><td>0.20031815</td><td>nan</td><td>0.20031815</td></tr>\n",
       "<tr><td>2652669</td><td>nan</td><td>nan</td><td>nan</td><td>nan</td><td>nan</td><td>26.3897794278116</td><td>nan</td><td>0.18906452</td><td>nan</td><td>0.18906452</td></tr>\n",
       "<tr><td>2652670</td><td>nan</td><td>nan</td><td>nan</td><td>nan</td><td>nan</td><td>0.909743596951121</td><td>nan</td><td>0.2003182</td><td>nan</td><td>0.2003182</td></tr>\n",
       "<tr><td>2652671</td><td>nan</td><td>nan</td><td>nan</td><td>nan</td><td>nan</td><td>0.907613326799461</td><td>nan</td><td>0.20031814</td><td>nan</td><td>0.20031814</td></tr>\n",
       "<tr><td>2652983</td><td>nan</td><td>nan</td><td>nan</td><td>nan</td><td>nan</td><td>0.759221342327773</td><td>nan</td><td>0.19815181</td><td>nan</td><td>0.19815181</td></tr>\n",
       "<tr><td>2652985</td><td>nan</td><td>nan</td><td>nan</td><td>nan</td><td>nan</td><td>0.709532414323448</td><td>nan</td><td>0.19815195</td><td>nan</td><td>0.19815195</td></tr>\n",
       "<tr><td>...</td><td>...</td><td>...</td><td>...</td><td>...</td><td>...</td><td>...</td><td>...</td><td>...</td><td>...</td><td>...</td></tr>\n",
       "<tr><td>2758725</td><td>nan</td><td>nan</td><td>nan</td><td>nan</td><td>nan</td><td>0.962989379875482</td><td>nan</td><td>0.16304098</td><td>nan</td><td>0.16304098</td></tr>\n",
       "<tr><td>2758726</td><td>nan</td><td>nan</td><td>nan</td><td>nan</td><td>nan</td><td>1.592190840778</td><td>nan</td><td>0.16239852</td><td>nan</td><td>0.16239852</td></tr>\n",
       "<tr><td>2758727</td><td>nan</td><td>nan</td><td>nan</td><td>nan</td><td>nan</td><td>1.68717381553481</td><td>nan</td><td>0.1647915</td><td>nan</td><td>0.1647915</td></tr>\n",
       "<tr><td>2758728</td><td>nan</td><td>nan</td><td>nan</td><td>nan</td><td>nan</td><td>1.41524050155837</td><td>nan</td><td>0.17226333</td><td>nan</td><td>0.17226333</td></tr>\n",
       "<tr><td>2758729</td><td>nan</td><td>nan</td><td>nan</td><td>nan</td><td>nan</td><td>1549.36707196568</td><td>nan</td><td>0.16137253</td><td>nan</td><td>0.16137253</td></tr>\n",
       "<tr><td>2758730</td><td>nan</td><td>nan</td><td>nan</td><td>nan</td><td>nan</td><td>1.5850016725736</td><td>nan</td><td>0.16344784</td><td>nan</td><td>0.16344784</td></tr>\n",
       "<tr><td>2758732</td><td>nan</td><td>nan</td><td>nan</td><td>nan</td><td>nan</td><td>nan</td><td>nan</td><td>0.1635113</td><td>nan</td><td>0.1635113</td></tr>\n",
       "<tr><td>2758736</td><td>nan</td><td>nan</td><td>nan</td><td>nan</td><td>nan</td><td>0.829615297934712</td><td>nan</td><td>0.20959587</td><td>nan</td><td>0.20959587</td></tr>\n",
       "<tr><td>2758737</td><td>nan</td><td>nan</td><td>nan</td><td>nan</td><td>nan</td><td>0.892086609466304</td><td>nan</td><td>0.22579443999999999</td><td>nan</td><td>0.22579443999999999</td></tr>\n",
       "<tr><td>2758784</td><td>nan</td><td>nan</td><td>nan</td><td>nan</td><td>nan</td><td>0.88569399826493</td><td>nan</td><td>0.1444143</td><td>nan</td><td>0.1444143</td></tr>\n",
       "</table>"
      ],
      "text/plain": [
       "<Table length=9564>\n",
       "hp_idx_o_10 ferr_ap_mmt_g_mean ... ferr_ap_sdss_g_mean      ferr_g_min    \n",
       "                   uJy         ...         uJy                            \n",
       "   int64         float64       ...       float64             float64      \n",
       "----------- ------------------ ... ------------------- -------------------\n",
       "    2652662                nan ...                 nan 0.20031881999999998\n",
       "    2652663                nan ...                 nan           0.1769414\n",
       "    2652667                nan ...                 nan            0.200318\n",
       "    2652668                nan ...                 nan          0.20031815\n",
       "    2652669                nan ...                 nan          0.18906452\n",
       "    2652670                nan ...                 nan           0.2003182\n",
       "    2652671                nan ...                 nan          0.20031814\n",
       "    2652983                nan ...                 nan          0.19815181\n",
       "    2652985                nan ...                 nan          0.19815195\n",
       "        ...                ... ...                 ...                 ...\n",
       "    2758725                nan ...                 nan          0.16304098\n",
       "    2758726                nan ...                 nan          0.16239852\n",
       "    2758727                nan ...                 nan           0.1647915\n",
       "    2758728                nan ...                 nan          0.17226333\n",
       "    2758729                nan ...                 nan          0.16137253\n",
       "    2758730                nan ...                 nan          0.16344784\n",
       "    2758732                nan ...                 nan           0.1635113\n",
       "    2758736                nan ...                 nan          0.20959587\n",
       "    2758737                nan ...                 nan 0.22579443999999999\n",
       "    2758784                nan ...                 nan           0.1444143"
      ]
     },
     "execution_count": 32,
     "metadata": {},
     "output_type": "execute_result"
    }
   ],
   "source": [
    "g_table[prime_low]"
   ]
  },
  {
   "cell_type": "markdown",
   "metadata": {},
   "source": [
    "## K or Ks filters\n",
    "the same for K"
   ]
  },
  {
   "cell_type": "code",
   "execution_count": 33,
   "metadata": {},
   "outputs": [
    {
     "data": {
      "text/plain": [
       "['isaac_k',\n",
       " 'moircs_k',\n",
       " 'wircam_ks',\n",
       " 'ukidss_k',\n",
       " 'vista_ks',\n",
       " 'moircs_ks',\n",
       " 'newfirm_k',\n",
       " 'omega2000_ks',\n",
       " 'tifkam_ks',\n",
       " 'wircs_k',\n",
       " 'hawki_k']"
      ]
     },
     "execution_count": 33,
     "metadata": {},
     "output_type": "execute_result"
    }
   ],
   "source": [
    "K_filters = [f for f in filters if f.split('_')[1].startswith('k')]\n",
    "K_filters"
   ]
  },
  {
   "cell_type": "code",
   "execution_count": 34,
   "metadata": {},
   "outputs": [
    {
     "name": "stdout",
     "output_type": "stream",
     "text": [
      ", ferr_ap_isaac_k_mean, ferr_ap_moircs_k_mean, ferr_ap_wircam_ks_mean, ferr_ap_ukidss_k_mean, ferr_ap_vista_ks_mean, ferr_ap_moircs_ks_mean, ferr_ap_newfirm_k_mean, ferr_ap_omega2000_ks_mean, ferr_ap_tifkam_ks_mean, ferr_ap_wircs_k_mean, ferr_ap_hawki_k_mean\n"
     ]
    }
   ],
   "source": [
    "\n",
    "spaced_list = ''\n",
    "for K in K_filters:\n",
    "    spaced_list = spaced_list + ', ferr_ap_' + K + '_mean'\n",
    "print(spaced_list)"
   ]
  },
  {
   "cell_type": "code",
   "execution_count": 35,
   "metadata": {},
   "outputs": [
    {
     "data": {
      "text/plain": [
       "'\\nSELECT DISTINCT hp_idx_O_10, ferr_ap_isaac_k_mean, ferr_ap_moircs_k_mean, ferr_ap_wircam_ks_mean, ferr_ap_ukidss_k_mean, ferr_ap_vista_ks_mean, ferr_ap_moircs_ks_mean, ferr_ap_newfirm_k_mean, ferr_ap_omega2000_ks_mean, ferr_ap_tifkam_ks_mean, ferr_ap_wircs_k_mean, ferr_ap_hawki_k_mean\\nFROM depth.main\\n\\n'"
      ]
     },
     "execution_count": 35,
     "metadata": {},
     "output_type": "execute_result"
    }
   ],
   "source": [
    "K_bands_query=\"\"\"\n",
    "SELECT DISTINCT hp_idx_O_10{}\n",
    "FROM depth.main\n",
    "\n",
    "\"\"\".format(spaced_list)\n",
    "K_bands_query"
   ]
  },
  {
   "cell_type": "code",
   "execution_count": 36,
   "metadata": {},
   "outputs": [
    {
     "name": "stdout",
     "output_type": "stream",
     "text": [
      "Job still running after 0 seconds.\n",
      "Job still running after 10 seconds.\n",
      "Job still running after 20 seconds.\n",
      "Job still running after 31 seconds.\n",
      "Job still running after 41 seconds.\n",
      "COMPLETED\n"
     ]
    }
   ],
   "source": [
    "#Then we execute the query\n",
    "#resultset = service.run_async(irac_i1_query)\n",
    "job = service.submit_job(K_bands_query)\n",
    "job.run()\n",
    "job_url = job.url\n",
    "job_result = vo.dal.tap.AsyncTAPJob(job_url)\n",
    "start_time = time.time()\n",
    "while job.phase == 'EXECUTING':\n",
    "    print('Job still running after {} seconds.'.format(round(time.time() - start_time)))\n",
    "    time.sleep(10) #wait ten seconds and try again\n",
    "    \n",
    "print(job.phase)\n",
    "table = job_result.fetch_result() "
   ]
  },
  {
   "cell_type": "code",
   "execution_count": 37,
   "metadata": {},
   "outputs": [
    {
     "data": {
      "text/plain": [
       "['ferr_ap_isaac_k_mean',\n",
       " 'ferr_ap_moircs_k_mean',\n",
       " 'ferr_ap_wircam_ks_mean',\n",
       " 'ferr_ap_ukidss_k_mean',\n",
       " 'ferr_ap_vista_ks_mean',\n",
       " 'ferr_ap_moircs_ks_mean',\n",
       " 'ferr_ap_newfirm_k_mean',\n",
       " 'ferr_ap_omega2000_ks_mean',\n",
       " 'ferr_ap_tifkam_ks_mean',\n",
       " 'ferr_ap_wircs_k_mean',\n",
       " 'ferr_ap_hawki_k_mean']"
      ]
     },
     "execution_count": 37,
     "metadata": {},
     "output_type": "execute_result"
    }
   ],
   "source": [
    "depth_cols  = [\"ferr_ap_{}_mean\".format(band) for band in K_filters]\n",
    "depth_cols"
   ]
  },
  {
   "cell_type": "code",
   "execution_count": 38,
   "metadata": {},
   "outputs": [],
   "source": [
    "K_table = Table(table.table)\n",
    "for col in depth_cols:\n",
    "    K_table[col].fill_value = np.nan\n",
    "K_table = K_table.filled()"
   ]
  },
  {
   "cell_type": "code",
   "execution_count": 39,
   "metadata": {},
   "outputs": [
    {
     "data": {
      "text/plain": [
       "394298"
      ]
     },
     "execution_count": 39,
     "metadata": {},
     "output_type": "execute_result"
    }
   ],
   "source": [
    "len(K_table)"
   ]
  },
  {
   "cell_type": "code",
   "execution_count": 40,
   "metadata": {},
   "outputs": [
    {
     "name": "stderr",
     "output_type": "stream",
     "text": [
      "/Users/rs548/anaconda/envs/herschelhelp_internal/lib/python3.6/site-packages/ipykernel/__main__.py:1: RuntimeWarning: All-NaN axis encountered\n",
      "  if __name__ == '__main__':\n"
     ]
    }
   ],
   "source": [
    "K_table.add_column(Column(data=np.nanmin([K_table[column] for column in depth_cols], axis=0), name='ferr_K_min'))"
   ]
  },
  {
   "cell_type": "code",
   "execution_count": 41,
   "metadata": {},
   "outputs": [
    {
     "data": {
      "text/plain": [
       "44649"
      ]
     },
     "execution_count": 41,
     "metadata": {},
     "output_type": "execute_result"
    }
   ],
   "source": [
    "np.sum(np.isnan(K_table['ferr_K_min'] ))"
   ]
  },
  {
   "cell_type": "code",
   "execution_count": 42,
   "metadata": {},
   "outputs": [
    {
     "data": {
      "text/plain": [
       "1146.2587389655478"
      ]
     },
     "execution_count": 42,
     "metadata": {},
     "output_type": "execute_result"
    }
   ],
   "source": [
    "K_moc = MOC(10, K_table[~np.isnan(K_table['ferr_K_min'] )]['hp_idx_o_10'])\n",
    "K_moc.area_sq_deg\n",
    "total_area_K = K_moc.area_sq_deg\n",
    "total_area_K"
   ]
  },
  {
   "cell_type": "code",
   "execution_count": 43,
   "metadata": {},
   "outputs": [
    {
     "name": "stderr",
     "output_type": "stream",
     "text": [
      "/Users/rs548/anaconda/envs/herschelhelp_internal/lib/python3.6/site-packages/ipykernel/__main__.py:5: RuntimeWarning: divide by zero encountered in log10\n",
      "/Users/rs548/anaconda/envs/herschelhelp_internal/lib/python3.6/site-packages/ipykernel/__main__.py:5: RuntimeWarning: invalid value encountered in greater\n",
      "/Users/rs548/anaconda/envs/herschelhelp_internal/lib/python3.6/site-packages/ipykernel/__main__.py:6: RuntimeWarning: divide by zero encountered in log10\n",
      "/Users/rs548/anaconda/envs/herschelhelp_internal/lib/python3.6/site-packages/ipykernel/__main__.py:6: RuntimeWarning: invalid value encountered in less\n",
      "/Users/rs548/anaconda/envs/herschelhelp_internal/lib/python3.6/site-packages/matplotlib/font_manager.py:1297: UserWarning: findfont: Font family ['serif'] not found. Falling back to DejaVu Sans\n",
      "  (prop.get_family(), self.defaultFamily[fontext]))\n"
     ]
    },
    {
     "data": {
      "image/png": "[encoded data removed]",
      "text/plain": [
       "<matplotlib.figure.Figure at 0x12516ce80>"
      ]
     },
     "metadata": {},
     "output_type": "display_data"
    }
   ],
   "source": [
    "K_table['hp_idx_o_10', 'ferr_K_min']\n",
    "\n",
    "fig, ax = plt.subplots()\n",
    "\n",
    "good = np.log10(np.array(K_table['ferr_K_min'])*1.e-6) > -20\n",
    "good &= np.log10(np.array(K_table['ferr_K_min'])*1.e-6) <20\n",
    "\n",
    "cells, fluxes = np.histogram(np.log10(np.array(K_table['ferr_K_min'][good ])*1.e-6), bins=100)\n",
    "ax.plot(fluxes[1:],\n",
    "         np.cumsum(cells)*total_area_K/cells.sum() ,\n",
    "        drawstyle='steps')\n",
    "\n",
    "ax.set_xlabel('Log$_{10}$ ( Mean K or Ks flux error [Jy] )')\n",
    "ax.set_ylabel('Cumulative area [deg.$^2$]')\n",
    "ax.set_xlim([-6.5,-4.5])\n",
    "#y_vals = ax.get_yticks()\n",
    "#ax.set_yticklabels([n for n in y_vals])\n",
    "\n",
    "plt.rc('font', family='serif', serif='Times')\n",
    "plt.rc('text') #, usetex=True)\n",
    "plt.rc('xtick', labelsize=12)\n",
    "plt.rc('ytick', labelsize=12)\n",
    "plt.rc('axes', labelsize=12)\n",
    "\n",
    "column_width_cm = 8.9\n",
    "width_cm = 1.4 * column_width_cm\n",
    "hieght_cm = width_cm / 1.618\n",
    "width_inches = width_cm/2.5\n",
    "hieght_inches = hieght_cm/2.5\n",
    "fig.set_size_inches(width_inches, hieght_inches)\n",
    "plt.tight_layout()\n",
    "\n",
    "plt.savefig('./figs/K_cumulative_area_depth.pdf')\n",
    "plt.savefig('./figs/K_cumulative_area_depth.png')"
   ]
  },
  {
   "cell_type": "code",
   "execution_count": 44,
   "metadata": {},
   "outputs": [
    {
     "data": {
      "text/plain": [
       "'\\nThe K band has coverage over 1146.2587389655478 square degrees with  3 sigma \\ndepths at the 25th, 50th and 75th percentiles of 8.507107317226373, 15.31927155, 18.434229287923927 respectively.'"
      ]
     },
     "execution_count": 44,
     "metadata": {},
     "output_type": "execute_result"
    }
   ],
   "source": [
    "K_p25, K_p50, K_p75 = np.nanpercentile(K_table['ferr_K_min'][good ] * 3.,[25, 50, 75])\n",
    "\"\"\"\n",
    "The K band has coverage over {} square degrees with  3 sigma \n",
    "depths at the 25th, 50th and 75th percentiles of {}, {}, {} respectively.\"\"\".format(total_area_K, K_p25, K_p50, K_p75)"
   ]
  },
  {
   "cell_type": "markdown",
   "metadata": {},
   "source": [
    "And in mags as per reviewer request"
   ]
  },
  {
   "cell_type": "code",
   "execution_count": 45,
   "metadata": {},
   "outputs": [
    {
     "name": "stderr",
     "output_type": "stream",
     "text": [
      "/Users/rs548/anaconda/envs/herschelhelp_internal/lib/python3.6/site-packages/ipykernel/__main__.py:5: RuntimeWarning: divide by zero encountered in log10\n",
      "/Users/rs548/anaconda/envs/herschelhelp_internal/lib/python3.6/site-packages/ipykernel/__main__.py:5: RuntimeWarning: invalid value encountered in greater\n",
      "/Users/rs548/anaconda/envs/herschelhelp_internal/lib/python3.6/site-packages/ipykernel/__main__.py:6: RuntimeWarning: divide by zero encountered in log10\n",
      "/Users/rs548/anaconda/envs/herschelhelp_internal/lib/python3.6/site-packages/ipykernel/__main__.py:6: RuntimeWarning: invalid value encountered in less\n",
      "/Users/rs548/anaconda/envs/herschelhelp_internal/lib/python3.6/site-packages/matplotlib/font_manager.py:1297: UserWarning: findfont: Font family ['serif'] not found. Falling back to DejaVu Sans\n",
      "  (prop.get_family(), self.defaultFamily[fontext]))\n"
     ]
    },
    {
     "data": {
      "image/png": "[encoded data removed]",
      "text/plain": [
       "<matplotlib.figure.Figure at 0x128703550>"
      ]
     },
     "metadata": {},
     "output_type": "display_data"
    }
   ],
   "source": [
    "K_table['hp_idx_o_10', 'ferr_K_min']\n",
    "\n",
    "fig, ax = plt.subplots()\n",
    "\n",
    "good = np.log10(np.array(K_table['ferr_K_min'])*1.e-6) > -20\n",
    "good &= np.log10(np.array(K_table['ferr_K_min'])*1.e-6) <20\n",
    "\n",
    "#cells, fluxes = np.histogram(np.log10(np.array(K_table['ferr_K_min'][good ])*1.e-6), bins=100)\n",
    "\n",
    "K_pix_mag_depths, _ = flux_to_mag(np.array(K_table['ferr_K_min'][good ])*1.e-6*5)\n",
    "cells, fluxes = np.histogram(K_pix_mag_depths, bins=1000)\n",
    "cells =np.flip(cells)\n",
    "fluxes = np.flip(fluxes)\n",
    "\n",
    "\n",
    "\n",
    "ax.plot(fluxes[1:],\n",
    "         np.cumsum(cells)*total_area_K/cells.sum() ,\n",
    "        drawstyle='steps')\n",
    "\n",
    "ax.set_xlabel('5$\\sigma$ $K$ or $Ks$ depth [mag]')\n",
    "ax.set_ylabel('Cumulative area [deg.$^2$]')\n",
    "ax.set_xlim([22,19])\n",
    "ax.set_ylim([0,1200])\n",
    "#y_vals = ax.get_yticks()\n",
    "#ax.set_yticklabels([n for n in y_vals])\n",
    "\n",
    "plt.rc('font', family='serif', serif='Times')\n",
    "plt.rc('text') #, usetex=True)\n",
    "plt.rc('xtick', labelsize=12)\n",
    "plt.rc('ytick', labelsize=12)\n",
    "plt.rc('axes', labelsize=12)\n",
    "\n",
    "column_width_cm = 8.9\n",
    "width_cm = 1.0 * column_width_cm\n",
    "hieght_cm = width_cm \n",
    "width_inches = width_cm/2.5\n",
    "hieght_inches = hieght_cm/2.5\n",
    "fig.set_size_inches(width_inches, hieght_inches)\n",
    "\n",
    "\n",
    "plt.savefig('./figs/K_cumulative_area_depth_mag.pdf', bbox_inches='tight')\n",
    "plt.savefig('./figs/K_cumulative_area_depth_mag.png', bbox_inches='tight')"
   ]
  },
  {
   "cell_type": "code",
   "execution_count": null,
   "metadata": {},
   "outputs": [],
   "source": []
  },
  {
   "cell_type": "code",
   "execution_count": 46,
   "metadata": {},
   "outputs": [
    {
     "data": {
      "text/plain": [
       "'The K or Ks band has coverage over 1146.2587389655478 square degrees with  5 sigmadepths at the 25th, 50th and 75th percentiles of 20.181315663428137, 20.38228283956797, 21.020923347289685 respectively.'"
      ]
     },
     "execution_count": 46,
     "metadata": {},
     "output_type": "execute_result"
    }
   ],
   "source": [
    "K_p25, K_p50, K_p75 = np.nanpercentile(K_pix_mag_depths,[25, 50, 75])\n",
    "(\"The K or Ks band has coverage over {} square degrees with  5 sigma\"  +\n",
    "\"depths at the 25th, 50th and 75th percentiles of {}, {}, {} respectively.\").format(total_area_K, K_p25, K_p50, K_p75)"
   ]
  },
  {
   "cell_type": "markdown",
   "metadata": {},
   "source": [
    "## Make a table of bands available on each field"
   ]
  },
  {
   "cell_type": "code",
   "execution_count": 47,
   "metadata": {},
   "outputs": [],
   "source": [
    "bands = ['u', 'g', 'r', 'i', 'z', 'y',\n",
    "        'J', 'H', 'K', 'Ks',\n",
    "        'i1', 'i2', 'i3', 'i4']"
   ]
  },
  {
   "cell_type": "code",
   "execution_count": 48,
   "metadata": {},
   "outputs": [],
   "source": [
    "spaced_list = ''\n",
    "for m, band in enumerate(bands):\n",
    "    specific_bands = [f for f in filters if f.split('_')[1] == band.lower()]\n",
    "    for specific_band in specific_bands:\n",
    "        spaced_list = spaced_list + ', ferr_ap_' + specific_band + '_mean'\n",
    "        \n",
    "spaced_list = spaced_list.replace(' ferr_ap_lbc_u_mean,', '')\n",
    "spaced_list = spaced_list.replace(' ferr_ap_lbc_y_mean,', '')"
   ]
  },
  {
   "cell_type": "code",
   "execution_count": 49,
   "metadata": {},
   "outputs": [
    {
     "data": {
      "text/plain": [
       "', ferr_ap_omegacam_u_mean, ferr_ap_mmt_u_mean, ferr_ap_bessell_u_mean, ferr_ap_wfi_u_mean, ferr_ap_megacam_u_mean, ferr_ap_mosaic_u_mean, ferr_ap_wfc_u_mean, ferr_ap_sdss_u_mean, ferr_ap_mmt_g_mean, ferr_ap_omegacam_g_mean, ferr_ap_suprime_g_mean, ferr_ap_megacam_g_mean, ferr_ap_wfc_g_mean, ferr_ap_gpc1_g_mean, ferr_ap_decam_g_mean, ferr_ap_90prime_g_mean, ferr_ap_sdss_g_mean, ferr_ap_omegacam_r_mean, ferr_ap_mmt_r_mean, ferr_ap_cfht12k_r_mean, ferr_ap_megacam_r_mean, ferr_ap_wfi_r_mean, ferr_ap_suprime_r_mean, ferr_ap_mosaic_r_mean, ferr_ap_bessell_r_mean, ferr_ap_wfc_r_mean, ferr_ap_gpc1_r_mean, ferr_ap_decam_r_mean, ferr_ap_sdss_r_mean, ferr_ap_90prime_r_mean, ferr_ap_sdss_i_mean, ferr_ap_decam_i_mean, ferr_ap_gpc1_i_mean, ferr_ap_wfc_i_mean, ferr_ap_bessell_i_mean, ferr_ap_mosaic_i_mean, ferr_ap_megacam_i_mean, ferr_ap_wfi_i_mean, ferr_ap_suprime_i_mean, ferr_ap_cfht12k_i_mean, ferr_ap_mmt_i_mean, ferr_ap_omegacam_i_mean, ferr_ap_decam_z_mean, ferr_ap_90prime_z_mean, ferr_ap_sdss_z_mean, ferr_ap_wfc_z_mean, ferr_ap_gpc1_z_mean, ferr_ap_suprime_z_mean, ferr_ap_megacam_z_mean, ferr_ap_vista_z_mean, ferr_ap_mosaic_z_mean, ferr_ap_omegacam_z_mean, ferr_ap_mmt_z_mean, ferr_ap_decam_y_mean, ferr_ap_ukidss_y_mean, ferr_ap_gpc1_y_mean, ferr_ap_suprime_y_mean, ferr_ap_megacam_y_mean, ferr_ap_vista_y_mean, ferr_ap_wircam_y_mean, ferr_ap_omega2000_j_mean, ferr_ap_ukidss_j_mean, ferr_ap_vista_j_mean, ferr_ap_newfirm_j_mean, ferr_ap_wircs_j_mean, ferr_ap_wircam_j_mean, ferr_ap_ukidss_h_mean, ferr_ap_vista_h_mean, ferr_ap_newfirm_h_mean, ferr_ap_wircam_h_mean, ferr_ap_isaac_k_mean, ferr_ap_moircs_k_mean, ferr_ap_ukidss_k_mean, ferr_ap_newfirm_k_mean, ferr_ap_wircs_k_mean, ferr_ap_hawki_k_mean, ferr_ap_wircam_ks_mean, ferr_ap_vista_ks_mean, ferr_ap_moircs_ks_mean, ferr_ap_omega2000_ks_mean, ferr_ap_tifkam_ks_mean, ferr_ap_irac_i1_mean, ferr_ap_irac_i2_mean, ferr_ap_irac_i3_mean, ferr_ap_irac_i4_mean'"
      ]
     },
     "execution_count": 49,
     "metadata": {},
     "output_type": "execute_result"
    }
   ],
   "source": [
    "spaced_list"
   ]
  },
  {
   "cell_type": "code",
   "execution_count": 50,
   "metadata": {},
   "outputs": [
    {
     "name": "stdout",
     "output_type": "stream",
     "text": [
      "1576062295.95764\n",
      "Job still running after 0 seconds.\n",
      "Job still running after 50 seconds.\n",
      "Job still running after 100 seconds.\n",
      "Job still running after 151 seconds.\n",
      "Job still running after 201 seconds.\n"
     ]
    },
    {
     "name": "stderr",
     "output_type": "stream",
     "text": [
      "WARNING: W06: None:2:20168: W06: Invalid UCD 'stat.error;phot.flux;em.IR.I': Unknown word 'em.IR.I' [astropy.io.votable.tree]\n",
      "WARNING:astropy:W06: None:2:20168: W06: Invalid UCD 'stat.error;phot.flux;em.IR.I': Unknown word 'em.IR.I'\n",
      "WARNING: W06: None:2:20456: W06: Invalid UCD 'stat.error;phot.flux;em.opt.J': Unknown word 'em.opt.J' [astropy.io.votable.tree]\n",
      "WARNING:astropy:W06: None:2:20456: W06: Invalid UCD 'stat.error;phot.flux;em.opt.J': Unknown word 'em.opt.J'\n"
     ]
    },
    {
     "name": "stdout",
     "output_type": "stream",
     "text": [
      "COMPLETED\n",
      "Fetching result 1576062547.0170062\n"
     ]
    }
   ],
   "source": [
    "\n",
    "query = \"\"\"\n",
    "SELECT DISTINCT hp_idx_O_10{}\n",
    "FROM depth.main\n",
    "\"\"\".format(spaced_list)\n",
    "job = service.submit_job(query)\n",
    "job.run()\n",
    "job_url = job.url\n",
    "job_result = vo.dal.tap.AsyncTAPJob(job_url)\n",
    "start_time = time.time()\n",
    "print(time.time())\n",
    "while job.phase == 'EXECUTING':\n",
    "    print('Job still running after {} seconds.'.format(round(time.time() - start_time)))\n",
    "    time.sleep(50) #wait ten seconds and try again\n",
    "    \n",
    "print(job.phase)\n",
    "print('Fetching result', time.time())\n",
    "table = job_result.fetch_result()"
   ]
  },
  {
   "cell_type": "code",
   "execution_count": 51,
   "metadata": {},
   "outputs": [
    {
     "data": {
      "text/html": [
       "<i>Table masked=True length=394298</i>\n",
       "<table id=\"table4975949416\" class=\"table-striped table-bordered table-condensed\">\n",
       "<thead><tr><th>hp_idx_o_10</th><th>ferr_ap_omegacam_u_mean</th><th>ferr_ap_mmt_u_mean</th><th>ferr_ap_bessell_u_mean</th><th>ferr_ap_wfi_u_mean</th><th>ferr_ap_megacam_u_mean</th><th>ferr_ap_mosaic_u_mean</th><th>ferr_ap_wfc_u_mean</th><th>ferr_ap_sdss_u_mean</th><th>ferr_ap_mmt_g_mean</th><th>ferr_ap_omegacam_g_mean</th><th>ferr_ap_suprime_g_mean</th><th>ferr_ap_megacam_g_mean</th><th>ferr_ap_wfc_g_mean</th><th>ferr_ap_gpc1_g_mean</th><th>ferr_ap_decam_g_mean</th><th>ferr_ap_90prime_g_mean</th><th>ferr_ap_sdss_g_mean</th><th>ferr_ap_omegacam_r_mean</th><th>ferr_ap_mmt_r_mean</th><th>ferr_ap_cfht12k_r_mean</th><th>ferr_ap_megacam_r_mean</th><th>ferr_ap_wfi_r_mean</th><th>ferr_ap_suprime_r_mean</th><th>ferr_ap_mosaic_r_mean</th><th>ferr_ap_bessell_r_mean</th><th>ferr_ap_wfc_r_mean</th><th>ferr_ap_gpc1_r_mean</th><th>ferr_ap_decam_r_mean</th><th>ferr_ap_sdss_r_mean</th><th>ferr_ap_90prime_r_mean</th><th>ferr_ap_sdss_i_mean</th><th>ferr_ap_decam_i_mean</th><th>ferr_ap_gpc1_i_mean</th><th>ferr_ap_wfc_i_mean</th><th>ferr_ap_bessell_i_mean</th><th>ferr_ap_mosaic_i_mean</th><th>ferr_ap_megacam_i_mean</th><th>ferr_ap_wfi_i_mean</th><th>ferr_ap_suprime_i_mean</th><th>ferr_ap_cfht12k_i_mean</th><th>ferr_ap_mmt_i_mean</th><th>ferr_ap_omegacam_i_mean</th><th>ferr_ap_decam_z_mean</th><th>ferr_ap_90prime_z_mean</th><th>ferr_ap_sdss_z_mean</th><th>ferr_ap_wfc_z_mean</th><th>ferr_ap_gpc1_z_mean</th><th>ferr_ap_suprime_z_mean</th><th>ferr_ap_megacam_z_mean</th><th>ferr_ap_vista_z_mean</th><th>ferr_ap_mosaic_z_mean</th><th>ferr_ap_omegacam_z_mean</th><th>ferr_ap_mmt_z_mean</th><th>ferr_ap_decam_y_mean</th><th>ferr_ap_ukidss_y_mean</th><th>ferr_ap_gpc1_y_mean</th><th>ferr_ap_suprime_y_mean</th><th>ferr_ap_megacam_y_mean</th><th>ferr_ap_vista_y_mean</th><th>ferr_ap_wircam_y_mean</th><th>ferr_ap_omega2000_j_mean</th><th>ferr_ap_ukidss_j_mean</th><th>ferr_ap_vista_j_mean</th><th>ferr_ap_newfirm_j_mean</th><th>ferr_ap_wircs_j_mean</th><th>ferr_ap_wircam_j_mean</th><th>ferr_ap_ukidss_h_mean</th><th>ferr_ap_vista_h_mean</th><th>ferr_ap_newfirm_h_mean</th><th>ferr_ap_wircam_h_mean</th><th>ferr_ap_isaac_k_mean</th><th>ferr_ap_moircs_k_mean</th><th>ferr_ap_ukidss_k_mean</th><th>ferr_ap_newfirm_k_mean</th><th>ferr_ap_wircs_k_mean</th><th>ferr_ap_hawki_k_mean</th><th>ferr_ap_wircam_ks_mean</th><th>ferr_ap_vista_ks_mean</th><th>ferr_ap_moircs_ks_mean</th><th>ferr_ap_omega2000_ks_mean</th><th>ferr_ap_tifkam_ks_mean</th><th>ferr_ap_irac_i1_mean</th><th>ferr_ap_irac_i2_mean</th><th>ferr_ap_irac_i3_mean</th><th>ferr_ap_irac_i4_mean</th></tr></thead>\n",
       "<thead><tr><th></th><th>uJy</th><th>uJy</th><th>uJy</th><th>uJy</th><th>uJy</th><th>uJy</th><th>uJy</th><th>uJy</th><th>uJy</th><th>uJy</th><th>uJy</th><th>uJy</th><th>uJy</th><th>uJy</th><th>uJy</th><th>uJy</th><th>uJy</th><th>uJy</th><th>uJy</th><th>uJy</th><th>uJy</th><th>uJy</th><th>uJy</th><th>uJy</th><th>uJy</th><th>uJy</th><th>uJy</th><th>uJy</th><th>uJy</th><th>uJy</th><th>uJy</th><th>uJy</th><th>uJy</th><th>uJy</th><th>uJy</th><th>uJy</th><th>uJy</th><th>uJy</th><th>uJy</th><th>uJy</th><th>uJy</th><th>uJy</th><th>uJy</th><th>uJy</th><th>uJy</th><th>uJy</th><th>uJy</th><th>uJy</th><th>uJy</th><th>uJy</th><th>uJy</th><th>uJy</th><th>uJy</th><th>uJy</th><th>uJy</th><th>uJy</th><th>uJy</th><th>uJy</th><th>uJy</th><th>uJy</th><th>uJy</th><th>uJy</th><th>uJy</th><th>uJy</th><th>uJy</th><th>uJy</th><th>uJy</th><th>uJy</th><th>uJy</th><th>uJy</th><th>uJy</th><th>uJy</th><th>uJy</th><th>uJy</th><th>uJy</th><th>uJy</th><th>uJy</th><th>uJy</th><th>uJy</th><th>uJy</th><th>uJy</th><th>uJy</th><th>uJy</th><th>uJy</th><th>uJy</th></tr></thead>\n",
       "<thead><tr><th>int64</th><th>float64</th><th>float64</th><th>float64</th><th>float64</th><th>float64</th><th>float64</th><th>float64</th><th>float64</th><th>float64</th><th>float64</th><th>float64</th><th>float64</th><th>float64</th><th>float64</th><th>float64</th><th>float64</th><th>float64</th><th>float64</th><th>float64</th><th>float64</th><th>float64</th><th>float64</th><th>float64</th><th>float64</th><th>float64</th><th>float64</th><th>float64</th><th>float64</th><th>float64</th><th>float64</th><th>float64</th><th>float64</th><th>float64</th><th>float64</th><th>float64</th><th>float64</th><th>float64</th><th>float64</th><th>float64</th><th>float64</th><th>float64</th><th>float64</th><th>float64</th><th>float64</th><th>float64</th><th>float64</th><th>float64</th><th>float64</th><th>float64</th><th>float64</th><th>float64</th><th>float64</th><th>float64</th><th>float64</th><th>float64</th><th>float64</th><th>float64</th><th>float64</th><th>float64</th><th>float64</th><th>float64</th><th>float64</th><th>float64</th><th>float64</th><th>float64</th><th>float64</th><th>float64</th><th>float64</th><th>float64</th><th>float64</th><th>float64</th><th>float64</th><th>float64</th><th>float64</th><th>float64</th><th>float64</th><th>float64</th><th>float64</th><th>float64</th><th>float64</th><th>float64</th><th>float64</th><th>float64</th><th>float64</th><th>float64</th></tr></thead>\n",
       "<tr><td>1048576</td><td>0.3888968</td><td>--</td><td>--</td><td>--</td><td>--</td><td>--</td><td>--</td><td>--</td><td>--</td><td>0.10194926</td><td>0.01926224</td><td>--</td><td>--</td><td>0.91465111996888</td><td>2.071273e-07</td><td>--</td><td>--</td><td>0.13300735</td><td>--</td><td>--</td><td>--</td><td>--</td><td>0.030870374</td><td>--</td><td>--</td><td>--</td><td>2.42656648971231</td><td>3.1425782e-07</td><td>--</td><td>--</td><td>--</td><td>--</td><td>2.17693319900341</td><td>--</td><td>--</td><td>--</td><td>--</td><td>--</td><td>0.041768204</td><td>--</td><td>--</td><td>0.23194352</td><td>2.2510854e-07</td><td>--</td><td>--</td><td>--</td><td>146.925748841671</td><td>0.06151843</td><td>--</td><td>0.46263823</td><td>--</td><td>--</td><td>--</td><td>--</td><td>3.2966712</td><td>68.0845813961089</td><td>0.14352015</td><td>--</td><td>--</td><td>--</td><td>--</td><td>4.862965</td><td>1.92945241928101</td><td>--</td><td>--</td><td>--</td><td>4.8178754</td><td>1.7355504155159</td><td>--</td><td>--</td><td>--</td><td>--</td><td>6.3801355</td><td>--</td><td>--</td><td>--</td><td>--</td><td>2.36790292603629</td><td>--</td><td>--</td><td>--</td><td>--</td><td>--</td><td>--</td><td>--</td></tr>\n",
       "<tr><td>1048577</td><td>0.3287</td><td>--</td><td>--</td><td>--</td><td>--</td><td>--</td><td>--</td><td>--</td><td>--</td><td>0.097032174</td><td>0.020717567</td><td>--</td><td>--</td><td>1.94901887644096</td><td>2.1819888e-07</td><td>--</td><td>--</td><td>0.117325865</td><td>--</td><td>--</td><td>--</td><td>--</td><td>0.03293594</td><td>--</td><td>--</td><td>--</td><td>2.40327171228006</td><td>3.3950195e-07</td><td>--</td><td>--</td><td>--</td><td>--</td><td>2.99968585945623</td><td>--</td><td>--</td><td>--</td><td>--</td><td>--</td><td>0.044771805</td><td>--</td><td>--</td><td>0.20181328</td><td>2.5253004e-07</td><td>--</td><td>--</td><td>--</td><td>5.5478680208702</td><td>0.06634453</td><td>--</td><td>0.46295264</td><td>--</td><td>--</td><td>--</td><td>--</td><td>4.16338</td><td>6.02002735205644</td><td>0.1526159</td><td>--</td><td>--</td><td>--</td><td>--</td><td>5.2789373</td><td>1.91976457834244</td><td>--</td><td>--</td><td>--</td><td>5.391274</td><td>1.66691474914551</td><td>--</td><td>--</td><td>--</td><td>--</td><td>6.573922</td><td>--</td><td>--</td><td>--</td><td>--</td><td>2.3642338684627</td><td>--</td><td>--</td><td>--</td><td>--</td><td>--</td><td>--</td><td>--</td></tr>\n",
       "<tr><td>1048578</td><td>0.3846171</td><td>--</td><td>--</td><td>--</td><td>--</td><td>--</td><td>--</td><td>--</td><td>--</td><td>0.08947918</td><td>0.021378249</td><td>--</td><td>--</td><td>14.2197571078478</td><td>1.9375477e-07</td><td>--</td><td>--</td><td>0.11576792</td><td>--</td><td>--</td><td>--</td><td>--</td><td>0.035876982</td><td>--</td><td>--</td><td>--</td><td>24.8165442511329</td><td>2.86895e-07</td><td>--</td><td>--</td><td>--</td><td>--</td><td>2.29361599869134</td><td>--</td><td>--</td><td>--</td><td>--</td><td>--</td><td>0.047181558</td><td>--</td><td>--</td><td>0.19726121</td><td>2.2915148e-07</td><td>--</td><td>--</td><td>--</td><td>387.524588818173</td><td>0.06980607</td><td>--</td><td>0.5684549</td><td>--</td><td>--</td><td>--</td><td>--</td><td>4.1563735</td><td>93.6458186809371</td><td>0.15956911</td><td>--</td><td>--</td><td>--</td><td>--</td><td>6.4571457</td><td>2.23670622490454</td><td>--</td><td>--</td><td>--</td><td>5.920647</td><td>2.36486881526548</td><td>--</td><td>--</td><td>--</td><td>--</td><td>6.919189</td><td>--</td><td>--</td><td>--</td><td>--</td><td>3.06828086159446</td><td>--</td><td>--</td><td>--</td><td>--</td><td>--</td><td>--</td><td>--</td></tr>\n",
       "<tr><td>1048579</td><td>0.37277982</td><td>--</td><td>--</td><td>--</td><td>--</td><td>--</td><td>--</td><td>--</td><td>--</td><td>0.10624343</td><td>0.021092668</td><td>--</td><td>--</td><td>1.58031976257619</td><td>2.2411628e-07</td><td>--</td><td>--</td><td>0.12313704</td><td>--</td><td>--</td><td>--</td><td>--</td><td>0.03373764</td><td>--</td><td>--</td><td>--</td><td>1.95740634399024</td><td>3.246678e-07</td><td>--</td><td>--</td><td>--</td><td>--</td><td>2.56385495210278</td><td>--</td><td>--</td><td>--</td><td>--</td><td>--</td><td>0.04277464</td><td>--</td><td>--</td><td>0.21281403</td><td>2.2523724e-07</td><td>--</td><td>--</td><td>--</td><td>3.83482825927494</td><td>0.063606665</td><td>--</td><td>0.6386163</td><td>--</td><td>--</td><td>--</td><td>--</td><td>3.8073263</td><td>5.7849368965693</td><td>0.14877433</td><td>--</td><td>--</td><td>--</td><td>--</td><td>4.935857</td><td>2.08620972292764</td><td>--</td><td>--</td><td>--</td><td>5.151513</td><td>1.8796404004097</td><td>--</td><td>--</td><td>--</td><td>--</td><td>6.4581065</td><td>--</td><td>--</td><td>--</td><td>--</td><td>2.60780441455352</td><td>--</td><td>--</td><td>--</td><td>--</td><td>--</td><td>--</td><td>--</td></tr>\n",
       "<tr><td>1048580</td><td>0.2911744</td><td>--</td><td>--</td><td>--</td><td>--</td><td>--</td><td>--</td><td>--</td><td>--</td><td>0.09364398</td><td>0.020199573</td><td>--</td><td>--</td><td>1.47638389071289</td><td>2.1773542e-07</td><td>--</td><td>--</td><td>0.11573956</td><td>--</td><td>--</td><td>--</td><td>--</td><td>0.03168788</td><td>--</td><td>--</td><td>--</td><td>1.44028260428952</td><td>3.1325948e-07</td><td>--</td><td>--</td><td>--</td><td>--</td><td>1.59535184757387</td><td>--</td><td>--</td><td>--</td><td>--</td><td>--</td><td>0.042326976</td><td>--</td><td>--</td><td>0.19229569</td><td>2.3032695e-07</td><td>--</td><td>--</td><td>--</td><td>2.48770550779343</td><td>0.06250173</td><td>--</td><td>0.62160707</td><td>--</td><td>--</td><td>--</td><td>--</td><td>2.9357395</td><td>5.26548030528673</td><td>0.14537382</td><td>--</td><td>--</td><td>--</td><td>--</td><td>4.092122</td><td>1.78109755970183</td><td>--</td><td>--</td><td>--</td><td>4.3745513</td><td>1.78018177407128</td><td>--</td><td>--</td><td>--</td><td>--</td><td>5.6970916</td><td>--</td><td>--</td><td>--</td><td>--</td><td>2.52248514782299</td><td>--</td><td>--</td><td>--</td><td>--</td><td>--</td><td>--</td><td>--</td></tr>\n",
       "<tr><td>1048581</td><td>0.33193266</td><td>--</td><td>--</td><td>--</td><td>--</td><td>--</td><td>--</td><td>--</td><td>--</td><td>0.109383814</td><td>0.022394473</td><td>--</td><td>--</td><td>82.0531657693273</td><td>2.130428e-07</td><td>--</td><td>--</td><td>0.12735996</td><td>--</td><td>--</td><td>--</td><td>--</td><td>0.03486983</td><td>--</td><td>--</td><td>--</td><td>17.6783910921382</td><td>3.2084301e-07</td><td>--</td><td>--</td><td>--</td><td>--</td><td>21.478622746853</td><td>--</td><td>--</td><td>--</td><td>--</td><td>--</td><td>0.04694038</td><td>--</td><td>--</td><td>0.22670881</td><td>2.0998698e-07</td><td>--</td><td>--</td><td>--</td><td>116.218369964138</td><td>0.069550596</td><td>--</td><td>0.79693997</td><td>--</td><td>--</td><td>--</td><td>--</td><td>4.0269303</td><td>191.831890508377</td><td>0.16066769</td><td>--</td><td>--</td><td>--</td><td>--</td><td>4.463511</td><td>1.90774633487066</td><td>--</td><td>--</td><td>--</td><td>4.566603</td><td>2.03642669806244</td><td>--</td><td>--</td><td>--</td><td>--</td><td>6.03468</td><td>--</td><td>--</td><td>--</td><td>--</td><td>2.77342678705851</td><td>--</td><td>--</td><td>--</td><td>--</td><td>--</td><td>--</td><td>--</td></tr>\n",
       "<tr><td>1048582</td><td>0.31823373</td><td>--</td><td>--</td><td>--</td><td>--</td><td>--</td><td>--</td><td>--</td><td>--</td><td>0.094925046</td><td>0.020951325</td><td>--</td><td>--</td><td>0.936137486996368</td><td>2.0650837e-07</td><td>--</td><td>--</td><td>0.11751947</td><td>--</td><td>--</td><td>--</td><td>--</td><td>0.033160187</td><td>--</td><td>--</td><td>--</td><td>3.23226119681583</td><td>3.2076025e-07</td><td>--</td><td>--</td><td>--</td><td>--</td><td>6.7363921433714</td><td>--</td><td>--</td><td>--</td><td>--</td><td>--</td><td>0.04638167</td><td>--</td><td>--</td><td>0.19668551</td><td>2.1693563e-07</td><td>--</td><td>--</td><td>--</td><td>3.77465356020109</td><td>0.06910887</td><td>--</td><td>0.7444448</td><td>--</td><td>--</td><td>--</td><td>--</td><td>3.8319368</td><td>5.79217715590866</td><td>0.16291834</td><td>--</td><td>--</td><td>--</td><td>--</td><td>4.949667</td><td>1.95878115219948</td><td>--</td><td>--</td><td>--</td><td>5.1181474</td><td>1.83907379195804</td><td>--</td><td>--</td><td>--</td><td>--</td><td>6.4513354</td><td>--</td><td>--</td><td>--</td><td>--</td><td>2.62036830054389</td><td>--</td><td>--</td><td>--</td><td>--</td><td>--</td><td>--</td><td>--</td></tr>\n",
       "<tr><td>1048583</td><td>0.25143299</td><td>--</td><td>--</td><td>--</td><td>--</td><td>--</td><td>--</td><td>--</td><td>--</td><td>0.09194561</td><td>0.020383537</td><td>--</td><td>--</td><td>0.90263284756015</td><td>1.9091698e-07</td><td>--</td><td>--</td><td>0.11914382</td><td>--</td><td>--</td><td>--</td><td>--</td><td>0.031862717</td><td>--</td><td>--</td><td>--</td><td>1.28034373432542</td><td>3.0067554e-07</td><td>--</td><td>--</td><td>--</td><td>--</td><td>0.914074638367121</td><td>--</td><td>--</td><td>--</td><td>--</td><td>--</td><td>0.04413113</td><td>--</td><td>--</td><td>0.19904326</td><td>2.1251756e-07</td><td>--</td><td>--</td><td>--</td><td>2.12251573662501</td><td>0.06531107</td><td>--</td><td>0.6908586</td><td>--</td><td>--</td><td>--</td><td>--</td><td>2.6936746</td><td>4.72364528747557</td><td>0.1515935</td><td>--</td><td>--</td><td>--</td><td>--</td><td>4.014827</td><td>1.84046977950681</td><td>--</td><td>--</td><td>--</td><td>4.3152866</td><td>1.75781759311413</td><td>--</td><td>--</td><td>--</td><td>--</td><td>5.647315</td><td>--</td><td>--</td><td>--</td><td>--</td><td>2.52217631393604</td><td>--</td><td>--</td><td>--</td><td>--</td><td>--</td><td>--</td><td>--</td></tr>\n",
       "<tr><td>1048584</td><td>0.36621407</td><td>--</td><td>--</td><td>--</td><td>--</td><td>--</td><td>--</td><td>--</td><td>--</td><td>0.09452543</td><td>0.022677435</td><td>--</td><td>--</td><td>1.39575847968715</td><td>2.0709993e-07</td><td>--</td><td>--</td><td>0.11679542</td><td>--</td><td>--</td><td>--</td><td>--</td><td>0.03732341</td><td>--</td><td>--</td><td>--</td><td>1.33385864037525</td><td>3.0700738e-07</td><td>--</td><td>--</td><td>--</td><td>--</td><td>1.56957843197039</td><td>--</td><td>--</td><td>--</td><td>--</td><td>--</td><td>0.045192935</td><td>--</td><td>--</td><td>0.20225216</td><td>2.3029378e-07</td><td>--</td><td>--</td><td>--</td><td>2.63779838375143</td><td>0.06752495</td><td>--</td><td>0.72929496</td><td>--</td><td>--</td><td>--</td><td>--</td><td>3.7204466</td><td>5.47030180931924</td><td>0.15900145</td><td>--</td><td>--</td><td>--</td><td>--</td><td>4.878065</td><td>1.98236000979388</td><td>--</td><td>--</td><td>--</td><td>5.0677514</td><td>1.81433707039531</td><td>--</td><td>--</td><td>--</td><td>--</td><td>6.44909</td><td>--</td><td>--</td><td>--</td><td>--</td><td>2.55789082050323</td><td>--</td><td>--</td><td>--</td><td>--</td><td>--</td><td>--</td><td>--</td></tr>\n",
       "<tr><td>...</td><td>...</td><td>...</td><td>...</td><td>...</td><td>...</td><td>...</td><td>...</td><td>...</td><td>...</td><td>...</td><td>...</td><td>...</td><td>...</td><td>...</td><td>...</td><td>...</td><td>...</td><td>...</td><td>...</td><td>...</td><td>...</td><td>...</td><td>...</td><td>...</td><td>...</td><td>...</td><td>...</td><td>...</td><td>...</td><td>...</td><td>...</td><td>...</td><td>...</td><td>...</td><td>...</td><td>...</td><td>...</td><td>...</td><td>...</td><td>...</td><td>...</td><td>...</td><td>...</td><td>...</td><td>...</td><td>...</td><td>...</td><td>...</td><td>...</td><td>...</td><td>...</td><td>...</td><td>...</td><td>...</td><td>...</td><td>...</td><td>...</td><td>...</td><td>...</td><td>...</td><td>...</td><td>...</td><td>...</td><td>...</td><td>...</td><td>...</td><td>...</td><td>...</td><td>...</td><td>...</td><td>...</td><td>...</td><td>...</td><td>...</td><td>...</td><td>...</td><td>...</td><td>...</td><td>...</td><td>...</td><td>...</td><td>...</td><td>...</td><td>...</td><td>...</td></tr>\n",
       "<tr><td>12042983</td><td>--</td><td>--</td><td>--</td><td>--</td><td>--</td><td>--</td><td>--</td><td>--</td><td>--</td><td>0.470593447975413</td><td>--</td><td>--</td><td>--</td><td>--</td><td>--</td><td>--</td><td>--</td><td>0.705364210222036</td><td>--</td><td>--</td><td>--</td><td>--</td><td>--</td><td>--</td><td>--</td><td>--</td><td>--</td><td>--</td><td>--</td><td>--</td><td>--</td><td>--</td><td>--</td><td>--</td><td>--</td><td>--</td><td>--</td><td>--</td><td>--</td><td>--</td><td>--</td><td>0.980352786966052</td><td>--</td><td>--</td><td>--</td><td>--</td><td>--</td><td>--</td><td>--</td><td>--</td><td>--</td><td>--</td><td>--</td><td>--</td><td>--</td><td>--</td><td>--</td><td>--</td><td>--</td><td>--</td><td>--</td><td>--</td><td>--</td><td>--</td><td>--</td><td>--</td><td>--</td><td>--</td><td>--</td><td>--</td><td>--</td><td>--</td><td>--</td><td>--</td><td>--</td><td>--</td><td>--</td><td>--</td><td>--</td><td>--</td><td>--</td><td>--</td><td>--</td><td>--</td><td>--</td></tr>\n",
       "<tr><td>12042985</td><td>--</td><td>--</td><td>--</td><td>--</td><td>--</td><td>--</td><td>--</td><td>--</td><td>--</td><td>0.401245270265415</td><td>--</td><td>--</td><td>--</td><td>--</td><td>--</td><td>--</td><td>--</td><td>0.631963384503022</td><td>--</td><td>--</td><td>--</td><td>--</td><td>--</td><td>--</td><td>--</td><td>--</td><td>--</td><td>--</td><td>--</td><td>--</td><td>--</td><td>--</td><td>--</td><td>--</td><td>--</td><td>--</td><td>--</td><td>--</td><td>--</td><td>--</td><td>--</td><td>0.886734809470708</td><td>--</td><td>--</td><td>--</td><td>--</td><td>--</td><td>--</td><td>--</td><td>--</td><td>--</td><td>--</td><td>--</td><td>--</td><td>--</td><td>--</td><td>--</td><td>--</td><td>--</td><td>--</td><td>--</td><td>--</td><td>--</td><td>--</td><td>--</td><td>--</td><td>--</td><td>--</td><td>--</td><td>--</td><td>--</td><td>--</td><td>--</td><td>--</td><td>--</td><td>--</td><td>--</td><td>--</td><td>--</td><td>--</td><td>--</td><td>--</td><td>--</td><td>--</td><td>--</td></tr>\n",
       "<tr><td>12043008</td><td>3.43117117596714</td><td>--</td><td>--</td><td>--</td><td>--</td><td>--</td><td>--</td><td>--</td><td>--</td><td>1.12891318891637</td><td>--</td><td>--</td><td>--</td><td>--</td><td>--</td><td>--</td><td>--</td><td>1.56644287506227</td><td>--</td><td>--</td><td>--</td><td>--</td><td>--</td><td>--</td><td>--</td><td>--</td><td>--</td><td>--</td><td>--</td><td>--</td><td>--</td><td>--</td><td>--</td><td>--</td><td>--</td><td>--</td><td>--</td><td>--</td><td>--</td><td>--</td><td>--</td><td>1.66926372262749</td><td>--</td><td>--</td><td>--</td><td>--</td><td>--</td><td>--</td><td>--</td><td>--</td><td>--</td><td>4.31668842759001</td><td>--</td><td>--</td><td>--</td><td>--</td><td>--</td><td>--</td><td>--</td><td>--</td><td>--</td><td>--</td><td>--</td><td>--</td><td>--</td><td>--</td><td>--</td><td>--</td><td>--</td><td>--</td><td>--</td><td>--</td><td>--</td><td>--</td><td>--</td><td>--</td><td>--</td><td>--</td><td>--</td><td>--</td><td>--</td><td>--</td><td>--</td><td>--</td><td>--</td></tr>\n",
       "<tr><td>12043009</td><td>1.81201014966394</td><td>--</td><td>--</td><td>--</td><td>--</td><td>--</td><td>--</td><td>--</td><td>--</td><td>0.508966908339133</td><td>--</td><td>--</td><td>--</td><td>--</td><td>--</td><td>--</td><td>--</td><td>0.890091881795282</td><td>--</td><td>--</td><td>--</td><td>--</td><td>--</td><td>--</td><td>--</td><td>--</td><td>--</td><td>--</td><td>--</td><td>--</td><td>--</td><td>--</td><td>--</td><td>--</td><td>--</td><td>--</td><td>--</td><td>--</td><td>--</td><td>--</td><td>--</td><td>1.1312017674427</td><td>--</td><td>--</td><td>--</td><td>--</td><td>--</td><td>--</td><td>--</td><td>--</td><td>--</td><td>3.09896943585728</td><td>--</td><td>--</td><td>--</td><td>--</td><td>--</td><td>--</td><td>--</td><td>--</td><td>--</td><td>--</td><td>--</td><td>--</td><td>--</td><td>--</td><td>--</td><td>--</td><td>--</td><td>--</td><td>--</td><td>--</td><td>--</td><td>--</td><td>--</td><td>--</td><td>--</td><td>--</td><td>--</td><td>--</td><td>--</td><td>--</td><td>--</td><td>--</td><td>--</td></tr>\n",
       "<tr><td>12043010</td><td>2.49268285441886</td><td>--</td><td>--</td><td>--</td><td>--</td><td>--</td><td>--</td><td>--</td><td>--</td><td>0.494158403628982</td><td>--</td><td>--</td><td>--</td><td>--</td><td>--</td><td>--</td><td>--</td><td>0.909613505597342</td><td>--</td><td>--</td><td>--</td><td>--</td><td>--</td><td>--</td><td>--</td><td>--</td><td>--</td><td>--</td><td>--</td><td>--</td><td>--</td><td>--</td><td>--</td><td>--</td><td>--</td><td>--</td><td>--</td><td>--</td><td>--</td><td>--</td><td>--</td><td>1.136793192659</td><td>--</td><td>--</td><td>--</td><td>--</td><td>--</td><td>--</td><td>--</td><td>--</td><td>--</td><td>3.12670346706475</td><td>--</td><td>--</td><td>--</td><td>--</td><td>--</td><td>--</td><td>--</td><td>--</td><td>--</td><td>--</td><td>--</td><td>--</td><td>--</td><td>--</td><td>--</td><td>--</td><td>--</td><td>--</td><td>--</td><td>--</td><td>--</td><td>--</td><td>--</td><td>--</td><td>--</td><td>--</td><td>--</td><td>--</td><td>--</td><td>--</td><td>--</td><td>--</td><td>--</td></tr>\n",
       "<tr><td>12043011</td><td>2.09373553263053</td><td>--</td><td>--</td><td>--</td><td>--</td><td>--</td><td>--</td><td>--</td><td>--</td><td>0.577247280662618</td><td>--</td><td>--</td><td>--</td><td>--</td><td>--</td><td>--</td><td>--</td><td>0.991298854740798</td><td>--</td><td>--</td><td>--</td><td>--</td><td>--</td><td>--</td><td>--</td><td>--</td><td>--</td><td>--</td><td>--</td><td>--</td><td>--</td><td>--</td><td>--</td><td>--</td><td>--</td><td>--</td><td>--</td><td>--</td><td>--</td><td>--</td><td>--</td><td>1.22674660501041</td><td>--</td><td>--</td><td>--</td><td>--</td><td>--</td><td>--</td><td>--</td><td>--</td><td>--</td><td>3.39733806461695</td><td>--</td><td>--</td><td>--</td><td>--</td><td>--</td><td>--</td><td>--</td><td>--</td><td>--</td><td>--</td><td>--</td><td>--</td><td>--</td><td>--</td><td>--</td><td>--</td><td>--</td><td>--</td><td>--</td><td>--</td><td>--</td><td>--</td><td>--</td><td>--</td><td>--</td><td>--</td><td>--</td><td>--</td><td>--</td><td>--</td><td>--</td><td>--</td><td>--</td></tr>\n",
       "<tr><td>12043012</td><td>--</td><td>--</td><td>--</td><td>--</td><td>--</td><td>--</td><td>--</td><td>--</td><td>--</td><td>0.445860992796356</td><td>--</td><td>--</td><td>--</td><td>--</td><td>--</td><td>--</td><td>--</td><td>--</td><td>--</td><td>--</td><td>--</td><td>--</td><td>--</td><td>--</td><td>--</td><td>--</td><td>--</td><td>--</td><td>--</td><td>--</td><td>--</td><td>--</td><td>--</td><td>--</td><td>--</td><td>--</td><td>--</td><td>--</td><td>--</td><td>--</td><td>--</td><td>1.02642671074533</td><td>--</td><td>--</td><td>--</td><td>--</td><td>--</td><td>--</td><td>--</td><td>--</td><td>--</td><td>--</td><td>--</td><td>--</td><td>--</td><td>--</td><td>--</td><td>--</td><td>--</td><td>--</td><td>--</td><td>--</td><td>--</td><td>--</td><td>--</td><td>--</td><td>--</td><td>--</td><td>--</td><td>--</td><td>--</td><td>--</td><td>--</td><td>--</td><td>--</td><td>--</td><td>--</td><td>--</td><td>--</td><td>--</td><td>--</td><td>--</td><td>--</td><td>--</td><td>--</td></tr>\n",
       "<tr><td>12043016</td><td>3.58693278533988</td><td>--</td><td>--</td><td>--</td><td>--</td><td>--</td><td>--</td><td>--</td><td>--</td><td>0.684728410968042</td><td>--</td><td>--</td><td>--</td><td>--</td><td>--</td><td>--</td><td>--</td><td>1.19586028947091</td><td>--</td><td>--</td><td>--</td><td>--</td><td>--</td><td>--</td><td>--</td><td>--</td><td>--</td><td>--</td><td>--</td><td>--</td><td>--</td><td>--</td><td>--</td><td>--</td><td>--</td><td>--</td><td>--</td><td>--</td><td>--</td><td>--</td><td>--</td><td>1.38443063072352</td><td>--</td><td>--</td><td>--</td><td>--</td><td>--</td><td>--</td><td>--</td><td>--</td><td>--</td><td>3.92742906404126</td><td>--</td><td>--</td><td>--</td><td>--</td><td>--</td><td>--</td><td>--</td><td>--</td><td>--</td><td>--</td><td>--</td><td>--</td><td>--</td><td>--</td><td>--</td><td>--</td><td>--</td><td>--</td><td>--</td><td>--</td><td>--</td><td>--</td><td>--</td><td>--</td><td>--</td><td>--</td><td>--</td><td>--</td><td>--</td><td>--</td><td>--</td><td>--</td><td>--</td></tr>\n",
       "<tr><td>12043017</td><td>--</td><td>--</td><td>--</td><td>--</td><td>--</td><td>--</td><td>--</td><td>--</td><td>--</td><td>0.462498951222175</td><td>--</td><td>--</td><td>--</td><td>--</td><td>--</td><td>--</td><td>--</td><td>0.85118486016068</td><td>--</td><td>--</td><td>--</td><td>--</td><td>--</td><td>--</td><td>--</td><td>--</td><td>--</td><td>--</td><td>--</td><td>--</td><td>--</td><td>--</td><td>--</td><td>--</td><td>--</td><td>--</td><td>--</td><td>--</td><td>--</td><td>--</td><td>--</td><td>1.08096952471151</td><td>--</td><td>--</td><td>--</td><td>--</td><td>--</td><td>--</td><td>--</td><td>--</td><td>--</td><td>2.88149622026963</td><td>--</td><td>--</td><td>--</td><td>--</td><td>--</td><td>--</td><td>--</td><td>--</td><td>--</td><td>--</td><td>--</td><td>--</td><td>--</td><td>--</td><td>--</td><td>--</td><td>--</td><td>--</td><td>--</td><td>--</td><td>--</td><td>--</td><td>--</td><td>--</td><td>--</td><td>--</td><td>--</td><td>--</td><td>--</td><td>--</td><td>--</td><td>--</td><td>--</td></tr>\n",
       "<tr><td>12043018</td><td>2.01032084617047</td><td>--</td><td>--</td><td>--</td><td>--</td><td>--</td><td>--</td><td>--</td><td>--</td><td>0.592936370182139</td><td>--</td><td>--</td><td>--</td><td>--</td><td>--</td><td>--</td><td>--</td><td>1.04206028405916</td><td>--</td><td>--</td><td>--</td><td>--</td><td>--</td><td>--</td><td>--</td><td>--</td><td>--</td><td>--</td><td>--</td><td>--</td><td>--</td><td>--</td><td>--</td><td>--</td><td>--</td><td>--</td><td>--</td><td>--</td><td>--</td><td>--</td><td>--</td><td>1.31215521774914</td><td>--</td><td>--</td><td>--</td><td>--</td><td>--</td><td>--</td><td>--</td><td>--</td><td>--</td><td>4.08352324846221</td><td>--</td><td>--</td><td>--</td><td>--</td><td>--</td><td>--</td><td>--</td><td>--</td><td>--</td><td>--</td><td>--</td><td>--</td><td>--</td><td>--</td><td>--</td><td>--</td><td>--</td><td>--</td><td>--</td><td>--</td><td>--</td><td>--</td><td>--</td><td>--</td><td>--</td><td>--</td><td>--</td><td>--</td><td>--</td><td>--</td><td>--</td><td>--</td><td>--</td></tr>\n",
       "</table>"
      ],
      "text/plain": [
       "<Table masked=True length=394298>\n",
       "hp_idx_o_10 ferr_ap_omegacam_u_mean ... ferr_ap_irac_i4_mean\n",
       "                      uJy           ...         uJy         \n",
       "   int64            float64         ...       float64       \n",
       "----------- ----------------------- ... --------------------\n",
       "    1048576               0.3888968 ...                   --\n",
       "    1048577                  0.3287 ...                   --\n",
       "    1048578               0.3846171 ...                   --\n",
       "    1048579              0.37277982 ...                   --\n",
       "    1048580               0.2911744 ...                   --\n",
       "    1048581              0.33193266 ...                   --\n",
       "    1048582              0.31823373 ...                   --\n",
       "    1048583              0.25143299 ...                   --\n",
       "    1048584              0.36621407 ...                   --\n",
       "        ...                     ... ...                  ...\n",
       "   12042983                      -- ...                   --\n",
       "   12042985                      -- ...                   --\n",
       "   12043008        3.43117117596714 ...                   --\n",
       "   12043009        1.81201014966394 ...                   --\n",
       "   12043010        2.49268285441886 ...                   --\n",
       "   12043011        2.09373553263053 ...                   --\n",
       "   12043012                      -- ...                   --\n",
       "   12043016        3.58693278533988 ...                   --\n",
       "   12043017                      -- ...                   --\n",
       "   12043018        2.01032084617047 ...                   --"
      ]
     },
     "execution_count": 51,
     "metadata": {},
     "output_type": "execute_result"
    }
   ],
   "source": [
    "depth_table = table.table\n",
    "depth_table "
   ]
  },
  {
   "cell_type": "code",
   "execution_count": 52,
   "metadata": {},
   "outputs": [],
   "source": [
    "cosmos_coverage = Table.read('../../../dmu1/dmu1_ml_COSMOS/data/depths_cosmos_20190402.fits')"
   ]
  },
  {
   "cell_type": "code",
   "execution_count": 53,
   "metadata": {},
   "outputs": [
    {
     "data": {
      "text/html": [
       "<i>Table length=10</i>\n",
       "<table id=\"table4974013520-663388\" class=\"table-striped table-bordered table-condensed\">\n",
       "<thead><tr><th>idx</th><th>hp_idx_O_13</th><th>hp_idx_O_10</th><th>ferr_ap_vista_ks_mean</th><th>f_ap_vista_ks_p90</th><th>ferr_vista_ks_mean</th><th>f_vista_ks_p90</th><th>ferr_ap_vista_y_mean</th><th>f_ap_vista_y_p90</th><th>ferr_vista_y_mean</th><th>f_vista_y_p90</th><th>ferr_ap_vista_h_mean</th><th>f_ap_vista_h_p90</th><th>ferr_vista_h_mean</th><th>f_vista_h_p90</th><th>ferr_ap_vista_j_mean</th><th>f_ap_vista_j_p90</th><th>ferr_vista_j_mean</th><th>f_vista_j_p90</th><th>ferr_ap_suprime_b_mean</th><th>f_ap_suprime_b_p90</th><th>ferr_suprime_b_mean</th><th>f_suprime_b_p90</th><th>ferr_ap_suprime_v_mean</th><th>f_ap_suprime_v_p90</th><th>ferr_suprime_v_mean</th><th>f_suprime_v_p90</th><th>ferr_ap_suprime_ip_mean</th><th>f_ap_suprime_ip_p90</th><th>ferr_suprime_ip_mean</th><th>f_suprime_ip_p90</th><th>ferr_ap_suprime_rc_mean</th><th>f_ap_suprime_rc_p90</th><th>ferr_suprime_rc_mean</th><th>f_suprime_rc_p90</th><th>ferr_ap_suprime_zp_mean</th><th>f_ap_suprime_zp_p90</th><th>ferr_suprime_zp_mean</th><th>f_suprime_zp_p90</th><th>ferr_ap_suprime_zpp_mean</th><th>f_ap_suprime_zpp_p90</th><th>ferr_suprime_zpp_mean</th><th>f_suprime_zpp_p90</th><th>ferr_ap_suprime_ia484_mean</th><th>f_ap_suprime_ia484_p90</th><th>ferr_suprime_ia484_mean</th><th>f_suprime_ia484_p90</th><th>ferr_ap_suprime_ia527_mean</th><th>f_ap_suprime_ia527_p90</th><th>ferr_suprime_ia527_mean</th><th>f_suprime_ia527_p90</th><th>ferr_ap_suprime_ia624_mean</th><th>f_ap_suprime_ia624_p90</th><th>ferr_suprime_ia624_mean</th><th>f_suprime_ia624_p90</th><th>ferr_ap_suprime_ia679_mean</th><th>f_ap_suprime_ia679_p90</th><th>ferr_suprime_ia679_mean</th><th>f_suprime_ia679_p90</th><th>ferr_ap_suprime_ia738_mean</th><th>f_ap_suprime_ia738_p90</th><th>ferr_suprime_ia738_mean</th><th>f_suprime_ia738_p90</th><th>ferr_ap_suprime_ia767_mean</th><th>f_ap_suprime_ia767_p90</th><th>ferr_suprime_ia767_mean</th><th>f_suprime_ia767_p90</th><th>ferr_ap_suprime_ib427_mean</th><th>f_ap_suprime_ib427_p90</th><th>ferr_suprime_ib427_mean</th><th>f_suprime_ib427_p90</th><th>ferr_ap_suprime_ib464_mean</th><th>f_ap_suprime_ib464_p90</th><th>ferr_suprime_ib464_mean</th><th>f_suprime_ib464_p90</th><th>ferr_ap_suprime_ib505_mean</th><th>f_ap_suprime_ib505_p90</th><th>ferr_suprime_ib505_mean</th><th>f_suprime_ib505_p90</th><th>ferr_ap_suprime_ib574_mean</th><th>f_ap_suprime_ib574_p90</th><th>ferr_suprime_ib574_mean</th><th>f_suprime_ib574_p90</th><th>ferr_ap_suprime_ib709_mean</th><th>f_ap_suprime_ib709_p90</th><th>ferr_suprime_ib709_mean</th><th>f_suprime_ib709_p90</th><th>ferr_ap_suprime_ib827_mean</th><th>f_ap_suprime_ib827_p90</th><th>ferr_suprime_ib827_mean</th><th>f_suprime_ib827_p90</th><th>ferr_ap_suprime_nb711_mean</th><th>f_ap_suprime_nb711_p90</th><th>ferr_suprime_nb711_mean</th><th>f_suprime_nb711_p90</th><th>ferr_ap_suprime_nb816_mean</th><th>f_ap_suprime_nb816_p90</th><th>ferr_suprime_nb816_mean</th><th>f_suprime_nb816_p90</th><th>ferr_ap_wfc3_f140w_mean</th><th>f_ap_wfc3_f140w_p90</th><th>ferr_wfc3_f140w_mean</th><th>f_wfc3_f140w_p90</th><th>ferr_ap_wfc3_f160w_mean</th><th>f_ap_wfc3_f160w_p90</th><th>ferr_wfc3_f160w_mean</th><th>f_wfc3_f160w_p90</th><th>ferr_ap_megacam_u_mean</th><th>f_ap_megacam_u_p90</th><th>ferr_megacam_u_mean</th><th>f_megacam_u_p90</th><th>ferr_ap_megacam_g_mean</th><th>f_ap_megacam_g_p90</th><th>ferr_megacam_g_mean</th><th>f_megacam_g_p90</th><th>ferr_ap_megacam_r_mean</th><th>f_ap_megacam_r_p90</th><th>ferr_megacam_r_mean</th><th>f_megacam_r_p90</th><th>ferr_ap_megacam_i_mean</th><th>f_ap_megacam_i_p90</th><th>ferr_megacam_i_mean</th><th>f_megacam_i_p90</th><th>ferr_ap_megacam_z_mean</th><th>f_ap_megacam_z_p90</th><th>ferr_megacam_z_mean</th><th>f_megacam_z_p90</th><th>ferr_ap_decam_g_mean</th><th>f_ap_decam_g_p90</th><th>ferr_decam_g_mean</th><th>f_decam_g_p90</th><th>ferr_ap_decam_r_mean</th><th>f_ap_decam_r_p90</th><th>ferr_decam_r_mean</th><th>f_decam_r_p90</th><th>ferr_ap_decam_z_mean</th><th>f_ap_decam_z_p90</th><th>ferr_decam_z_mean</th><th>f_decam_z_p90</th><th>ferr_ap_omegacam_u_mean</th><th>f_ap_omegacam_u_p90</th><th>ferr_omegacam_u_mean</th><th>f_omegacam_u_p90</th><th>ferr_ap_omegacam_g_mean</th><th>f_ap_omegacam_g_p90</th><th>ferr_omegacam_g_mean</th><th>f_omegacam_g_p90</th><th>ferr_ap_omegacam_r_mean</th><th>f_ap_omegacam_r_p90</th><th>ferr_omegacam_r_mean</th><th>f_omegacam_r_p90</th><th>ferr_ap_omegacam_i_mean</th><th>f_ap_omegacam_i_p90</th><th>ferr_omegacam_i_mean</th><th>f_omegacam_i_p90</th><th>ferr_ap_ukidss_y_mean</th><th>f_ap_ukidss_y_p90</th><th>ferr_ukidss_y_mean</th><th>f_ukidss_y_p90</th><th>ferr_ap_ukidss_j_mean</th><th>f_ap_ukidss_j_p90</th><th>ferr_ukidss_j_mean</th><th>f_ukidss_j_p90</th><th>ferr_ap_ukidss_h_mean</th><th>f_ap_ukidss_h_p90</th><th>ferr_ukidss_h_mean</th><th>f_ukidss_h_p90</th><th>ferr_ap_ukidss_k_mean</th><th>f_ap_ukidss_k_p90</th><th>ferr_ukidss_k_mean</th><th>f_ukidss_k_p90</th><th>ferr_ap_wircam_j_mean</th><th>f_ap_wircam_j_p90</th><th>ferr_wircam_j_mean</th><th>f_wircam_j_p90</th><th>ferr_ap_gpc1_g_mean</th><th>f_ap_gpc1_g_p90</th><th>ferr_gpc1_g_mean</th><th>f_gpc1_g_p90</th><th>ferr_ap_gpc1_r_mean</th><th>f_ap_gpc1_r_p90</th><th>ferr_gpc1_r_mean</th><th>f_gpc1_r_p90</th><th>ferr_ap_gpc1_i_mean</th><th>f_ap_gpc1_i_p90</th><th>ferr_gpc1_i_mean</th><th>f_gpc1_i_p90</th><th>ferr_ap_gpc1_z_mean</th><th>f_ap_gpc1_z_p90</th><th>ferr_gpc1_z_mean</th><th>f_gpc1_z_p90</th><th>ferr_ap_gpc1_y_mean</th><th>f_ap_gpc1_y_p90</th><th>ferr_gpc1_y_mean</th><th>f_gpc1_y_p90</th><th>ferr_ap_suprime_g_mean</th><th>f_ap_suprime_g_p90</th><th>ferr_suprime_g_mean</th><th>f_suprime_g_p90</th><th>ferr_ap_suprime_r_mean</th><th>f_ap_suprime_r_p90</th><th>ferr_suprime_r_mean</th><th>f_suprime_r_p90</th><th>ferr_ap_suprime_i_mean</th><th>f_ap_suprime_i_p90</th><th>ferr_suprime_i_mean</th><th>f_suprime_i_p90</th><th>ferr_ap_suprime_z_mean</th><th>f_ap_suprime_z_p90</th><th>ferr_suprime_z_mean</th><th>f_suprime_z_p90</th><th>ferr_ap_suprime_y_mean</th><th>f_ap_suprime_y_p90</th><th>ferr_suprime_y_mean</th><th>f_suprime_y_p90</th><th>ferr_ap_suprime_n921_mean</th><th>f_ap_suprime_n921_p90</th><th>ferr_suprime_n921_mean</th><th>f_suprime_n921_p90</th><th>ferr_ap_wircam_h_mean</th><th>f_ap_wircam_h_p90</th><th>ferr_wircam_h_mean</th><th>f_wircam_h_p90</th><th>ferr_ap_wircam_ks_mean</th><th>f_ap_wircam_ks_p90</th><th>ferr_wircam_ks_mean</th><th>f_wircam_ks_p90</th><th>ferr_wfc3_f125w_mean</th><th>f_wfc3_f125w_p90</th><th>ferr_acs_f606w_mean</th><th>f_acs_f606w_p90</th><th>ferr_acs_f814w_mean</th><th>f_acs_f814w_p90</th><th>ferr_irac_i1_mean</th><th>f_irac_i1_p90</th><th>ferr_irac_i2_mean</th><th>f_irac_i2_p90</th><th>ferr_irac_i3_mean</th><th>f_irac_i3_p90</th><th>ferr_irac_i4_mean</th><th>f_irac_i4_p90</th></tr></thead>\n",
       "<thead><tr><th></th><th></th><th></th><th>uJy</th><th>uJy</th><th></th><th></th><th>uJy</th><th>uJy</th><th></th><th></th><th>uJy</th><th>uJy</th><th></th><th></th><th>uJy</th><th>uJy</th><th></th><th></th><th>uJy</th><th>uJy</th><th></th><th></th><th>uJy</th><th>uJy</th><th></th><th></th><th>uJy</th><th>uJy</th><th></th><th></th><th>uJy</th><th>uJy</th><th></th><th></th><th>uJy</th><th>uJy</th><th></th><th></th><th>uJy</th><th>uJy</th><th></th><th></th><th>uJy</th><th>uJy</th><th></th><th></th><th>uJy</th><th>uJy</th><th></th><th></th><th>uJy</th><th>uJy</th><th></th><th></th><th>uJy</th><th>uJy</th><th></th><th></th><th>uJy</th><th>uJy</th><th></th><th></th><th>uJy</th><th>uJy</th><th></th><th></th><th>uJy</th><th>uJy</th><th></th><th></th><th>uJy</th><th>uJy</th><th></th><th></th><th>uJy</th><th>uJy</th><th></th><th></th><th>uJy</th><th>uJy</th><th></th><th></th><th>uJy</th><th>uJy</th><th></th><th></th><th>uJy</th><th>uJy</th><th></th><th></th><th>uJy</th><th>uJy</th><th></th><th></th><th>uJy</th><th>uJy</th><th></th><th></th><th>uJy</th><th>uJy</th><th>uJy</th><th>uJy</th><th>uJy</th><th>uJy</th><th>uJy</th><th>uJy</th><th></th><th></th><th></th><th></th><th></th><th></th><th></th><th></th><th></th><th></th><th></th><th></th><th></th><th></th><th></th><th></th><th></th><th></th><th></th><th></th><th></th><th></th><th></th><th></th><th></th><th></th><th></th><th></th><th></th><th></th><th></th><th></th><th>uJy</th><th>uJy</th><th></th><th></th><th>uJy</th><th>uJy</th><th></th><th></th><th>uJy</th><th>uJy</th><th></th><th></th><th>uJy</th><th>uJy</th><th></th><th></th><th></th><th></th><th></th><th></th><th></th><th></th><th></th><th></th><th></th><th></th><th></th><th></th><th></th><th></th><th></th><th></th><th></th><th></th><th></th><th></th><th></th><th></th><th></th><th></th><th></th><th></th><th></th><th></th><th></th><th></th><th></th><th></th><th></th><th></th><th></th><th></th><th></th><th></th><th></th><th></th><th></th><th></th><th></th><th></th><th></th><th></th><th></th><th></th><th></th><th></th><th></th><th></th><th></th><th></th><th></th><th></th><th></th><th></th><th></th><th></th><th></th><th></th><th></th><th></th><th></th><th></th><th></th><th></th><th></th><th></th><th></th><th></th><th>uJy</th><th>uJy</th><th>uJy</th><th>uJy</th><th>uJy</th><th>uJy</th><th>uJy</th><th>uJy</th><th>uJy</th><th>uJy</th><th>uJy</th><th>uJy</th><th>uJy</th><th>uJy</th></tr></thead>\n",
       "<tr><td>0</td><td>446299838</td><td>6973434</td><td>nan</td><td>nan</td><td>nan</td><td>nan</td><td>nan</td><td>nan</td><td>nan</td><td>nan</td><td>nan</td><td>nan</td><td>nan</td><td>nan</td><td>nan</td><td>nan</td><td>nan</td><td>nan</td><td>nan</td><td>nan</td><td>nan</td><td>nan</td><td>nan</td><td>nan</td><td>nan</td><td>nan</td><td>nan</td><td>nan</td><td>nan</td><td>nan</td><td>nan</td><td>nan</td><td>nan</td><td>nan</td><td>nan</td><td>nan</td><td>nan</td><td>nan</td><td>nan</td><td>nan</td><td>nan</td><td>nan</td><td>nan</td><td>nan</td><td>nan</td><td>nan</td><td>nan</td><td>nan</td><td>nan</td><td>nan</td><td>nan</td><td>nan</td><td>nan</td><td>nan</td><td>nan</td><td>nan</td><td>nan</td><td>nan</td><td>nan</td><td>nan</td><td>nan</td><td>nan</td><td>nan</td><td>nan</td><td>nan</td><td>nan</td><td>nan</td><td>nan</td><td>nan</td><td>nan</td><td>nan</td><td>nan</td><td>nan</td><td>nan</td><td>nan</td><td>nan</td><td>nan</td><td>nan</td><td>nan</td><td>nan</td><td>nan</td><td>nan</td><td>nan</td><td>nan</td><td>nan</td><td>nan</td><td>nan</td><td>nan</td><td>nan</td><td>nan</td><td>nan</td><td>nan</td><td>nan</td><td>nan</td><td>nan</td><td>nan</td><td>nan</td><td>nan</td><td>nan</td><td>nan</td><td>nan</td><td>nan</td><td>nan</td><td>nan</td><td>nan</td><td>nan</td><td>nan</td><td>nan</td><td>nan</td><td>nan</td><td>nan</td><td>nan</td><td>nan</td><td>nan</td><td>nan</td><td>nan</td><td>nan</td><td>nan</td><td>nan</td><td>nan</td><td>nan</td><td>nan</td><td>nan</td><td>nan</td><td>nan</td><td>nan</td><td>nan</td><td>nan</td><td>nan</td><td>nan</td><td>nan</td><td>nan</td><td>nan</td><td>nan</td><td>nan</td><td>nan</td><td>nan</td><td>nan</td><td>nan</td><td>nan</td><td>nan</td><td>nan</td><td>nan</td><td>nan</td><td>nan</td><td>nan</td><td>nan</td><td>nan</td><td>nan</td><td>nan</td><td>nan</td><td>nan</td><td>nan</td><td>nan</td><td>2.8505101203918457</td><td>37.48317337036133</td><td>8.278599739074707</td><td>80.66513061523438</td><td>3.2582598527272544</td><td>48.91586685180664</td><td>7.860165119171143</td><td>94.22247314453125</td><td>5.232518196105957</td><td>63.661014556884766</td><td>21.813302993774414</td><td>146.0596466064453</td><td>7.147817373275757</td><td>54.77119750976563</td><td>nan</td><td>nan</td><td>nan</td><td>nan</td><td>nan</td><td>nan</td><td>0.48212004905557143</td><td>25.888394494136428</td><td>0.6527904442019116</td><td>34.062201989021034</td><td>0.5638927089991637</td><td>36.09468288693829</td><td>0.7475171382251685</td><td>41.5250191124787</td><td>1.1189651869221844</td><td>46.611243664998</td><td>1.214346981656823</td><td>51.45170592147461</td><td>1.411597082977303</td><td>40.390585450970306</td><td>1.998903369026414</td><td>52.632461948009976</td><td>2.9088533378750294</td><td>68.28103014129479</td><td>5.0590533532548445</td><td>78.0808791189587</td><td>0.029852682435563927</td><td>1.035833090543747</td><td>0.03439833802985959</td><td>1.2990733981132507</td><td>0.03440181640607695</td><td>1.7467877388000494</td><td>0.0458691752130034</td><td>2.580722808837891</td><td>0.03760844810118138</td><td>2.3739564657211303</td><td>0.04841819788599687</td><td>3.513943648338319</td><td>0.054781220271252096</td><td>3.528129148483276</td><td>0.07248468104572524</td><td>4.705669307708743</td><td>0.21782649035860852</td><td>12.866525650024414</td><td>0.33165973990127956</td><td>16.844839477539058</td><td>nan</td><td>nan</td><td>nan</td><td>nan</td><td>nan</td><td>nan</td><td>nan</td><td>nan</td><td>nan</td><td>nan</td><td>nan</td><td>nan</td><td>nan</td><td>nan</td><td>nan</td><td>nan</td><td>nan</td><td>nan</td><td>nan</td><td>nan</td><td>nan</td><td>nan</td><td>nan</td><td>nan</td><td>nan</td><td>nan</td></tr>\n",
       "<tr><td>1</td><td>446299835</td><td>6973434</td><td>nan</td><td>nan</td><td>nan</td><td>nan</td><td>nan</td><td>nan</td><td>nan</td><td>nan</td><td>nan</td><td>nan</td><td>nan</td><td>nan</td><td>nan</td><td>nan</td><td>nan</td><td>nan</td><td>nan</td><td>nan</td><td>nan</td><td>nan</td><td>nan</td><td>nan</td><td>nan</td><td>nan</td><td>nan</td><td>nan</td><td>nan</td><td>nan</td><td>nan</td><td>nan</td><td>nan</td><td>nan</td><td>nan</td><td>nan</td><td>nan</td><td>nan</td><td>nan</td><td>nan</td><td>nan</td><td>nan</td><td>nan</td><td>nan</td><td>nan</td><td>nan</td><td>nan</td><td>nan</td><td>nan</td><td>nan</td><td>nan</td><td>nan</td><td>nan</td><td>nan</td><td>nan</td><td>nan</td><td>nan</td><td>nan</td><td>nan</td><td>nan</td><td>nan</td><td>nan</td><td>nan</td><td>nan</td><td>nan</td><td>nan</td><td>nan</td><td>nan</td><td>nan</td><td>nan</td><td>nan</td><td>nan</td><td>nan</td><td>nan</td><td>nan</td><td>nan</td><td>nan</td><td>nan</td><td>nan</td><td>nan</td><td>nan</td><td>nan</td><td>nan</td><td>nan</td><td>nan</td><td>nan</td><td>nan</td><td>nan</td><td>nan</td><td>nan</td><td>nan</td><td>nan</td><td>nan</td><td>nan</td><td>nan</td><td>nan</td><td>nan</td><td>nan</td><td>nan</td><td>nan</td><td>nan</td><td>nan</td><td>nan</td><td>nan</td><td>nan</td><td>nan</td><td>nan</td><td>nan</td><td>nan</td><td>nan</td><td>nan</td><td>nan</td><td>nan</td><td>nan</td><td>nan</td><td>nan</td><td>nan</td><td>nan</td><td>nan</td><td>nan</td><td>nan</td><td>nan</td><td>nan</td><td>nan</td><td>nan</td><td>nan</td><td>nan</td><td>nan</td><td>nan</td><td>nan</td><td>nan</td><td>nan</td><td>nan</td><td>nan</td><td>nan</td><td>nan</td><td>nan</td><td>nan</td><td>nan</td><td>nan</td><td>nan</td><td>nan</td><td>nan</td><td>nan</td><td>nan</td><td>nan</td><td>nan</td><td>nan</td><td>nan</td><td>nan</td><td>nan</td><td>nan</td><td>nan</td><td>nan</td><td>2.8505101203918457</td><td>37.48317337036133</td><td>8.278599739074707</td><td>80.66513061523438</td><td>3.2582598527272544</td><td>48.91586685180664</td><td>7.860165119171143</td><td>94.22247314453125</td><td>5.232518196105957</td><td>63.661014556884766</td><td>21.813302993774414</td><td>146.0596466064453</td><td>7.147817373275757</td><td>54.77119750976563</td><td>nan</td><td>nan</td><td>nan</td><td>nan</td><td>nan</td><td>nan</td><td>0.48212004905557143</td><td>25.888394494136428</td><td>0.6527904442019116</td><td>34.062201989021034</td><td>0.5638927089991637</td><td>36.09468288693829</td><td>0.7475171382251685</td><td>41.5250191124787</td><td>1.1189651869221844</td><td>46.611243664998</td><td>1.214346981656823</td><td>51.45170592147461</td><td>1.411597082977303</td><td>40.390585450970306</td><td>1.998903369026414</td><td>52.632461948009976</td><td>2.9088533378750294</td><td>68.28103014129479</td><td>5.0590533532548445</td><td>78.0808791189587</td><td>0.029852682435563927</td><td>1.035833090543747</td><td>0.03439833802985959</td><td>1.2990733981132507</td><td>0.03440181640607695</td><td>1.7467877388000494</td><td>0.0458691752130034</td><td>2.580722808837891</td><td>0.03760844810118138</td><td>2.3739564657211303</td><td>0.04841819788599687</td><td>3.513943648338319</td><td>0.054781220271252096</td><td>3.528129148483276</td><td>0.07248468104572524</td><td>4.705669307708743</td><td>0.21782649035860852</td><td>12.866525650024414</td><td>0.33165973990127956</td><td>16.844839477539058</td><td>nan</td><td>nan</td><td>nan</td><td>nan</td><td>nan</td><td>nan</td><td>nan</td><td>nan</td><td>nan</td><td>nan</td><td>nan</td><td>nan</td><td>nan</td><td>nan</td><td>nan</td><td>nan</td><td>nan</td><td>nan</td><td>nan</td><td>nan</td><td>nan</td><td>nan</td><td>nan</td><td>nan</td><td>nan</td><td>nan</td></tr>\n",
       "<tr><td>2</td><td>446299834</td><td>6973434</td><td>nan</td><td>nan</td><td>nan</td><td>nan</td><td>nan</td><td>nan</td><td>nan</td><td>nan</td><td>nan</td><td>nan</td><td>nan</td><td>nan</td><td>nan</td><td>nan</td><td>nan</td><td>nan</td><td>nan</td><td>nan</td><td>nan</td><td>nan</td><td>nan</td><td>nan</td><td>nan</td><td>nan</td><td>nan</td><td>nan</td><td>nan</td><td>nan</td><td>nan</td><td>nan</td><td>nan</td><td>nan</td><td>nan</td><td>nan</td><td>nan</td><td>nan</td><td>nan</td><td>nan</td><td>nan</td><td>nan</td><td>nan</td><td>nan</td><td>nan</td><td>nan</td><td>nan</td><td>nan</td><td>nan</td><td>nan</td><td>nan</td><td>nan</td><td>nan</td><td>nan</td><td>nan</td><td>nan</td><td>nan</td><td>nan</td><td>nan</td><td>nan</td><td>nan</td><td>nan</td><td>nan</td><td>nan</td><td>nan</td><td>nan</td><td>nan</td><td>nan</td><td>nan</td><td>nan</td><td>nan</td><td>nan</td><td>nan</td><td>nan</td><td>nan</td><td>nan</td><td>nan</td><td>nan</td><td>nan</td><td>nan</td><td>nan</td><td>nan</td><td>nan</td><td>nan</td><td>nan</td><td>nan</td><td>nan</td><td>nan</td><td>nan</td><td>nan</td><td>nan</td><td>nan</td><td>nan</td><td>nan</td><td>nan</td><td>nan</td><td>nan</td><td>nan</td><td>nan</td><td>nan</td><td>nan</td><td>nan</td><td>nan</td><td>nan</td><td>nan</td><td>nan</td><td>nan</td><td>nan</td><td>nan</td><td>nan</td><td>nan</td><td>nan</td><td>nan</td><td>nan</td><td>nan</td><td>nan</td><td>nan</td><td>nan</td><td>nan</td><td>nan</td><td>nan</td><td>nan</td><td>nan</td><td>nan</td><td>nan</td><td>nan</td><td>nan</td><td>nan</td><td>nan</td><td>nan</td><td>nan</td><td>nan</td><td>nan</td><td>nan</td><td>nan</td><td>nan</td><td>nan</td><td>nan</td><td>nan</td><td>nan</td><td>nan</td><td>nan</td><td>nan</td><td>nan</td><td>nan</td><td>nan</td><td>nan</td><td>nan</td><td>nan</td><td>nan</td><td>nan</td><td>nan</td><td>nan</td><td>nan</td><td>2.8505101203918457</td><td>37.48317337036133</td><td>8.278599739074707</td><td>80.66513061523438</td><td>3.2582598527272544</td><td>48.91586685180664</td><td>7.860165119171143</td><td>94.22247314453125</td><td>5.232518196105957</td><td>63.661014556884766</td><td>21.813302993774414</td><td>146.0596466064453</td><td>7.147817373275757</td><td>54.77119750976563</td><td>nan</td><td>nan</td><td>nan</td><td>nan</td><td>nan</td><td>nan</td><td>0.48212004905557143</td><td>25.888394494136428</td><td>0.6527904442019116</td><td>34.062201989021034</td><td>0.5638927089991637</td><td>36.09468288693829</td><td>0.7475171382251685</td><td>41.5250191124787</td><td>1.1189651869221844</td><td>46.611243664998</td><td>1.214346981656823</td><td>51.45170592147461</td><td>1.411597082977303</td><td>40.390585450970306</td><td>1.998903369026414</td><td>52.632461948009976</td><td>2.9088533378750294</td><td>68.28103014129479</td><td>5.0590533532548445</td><td>78.0808791189587</td><td>0.029852682435563927</td><td>1.035833090543747</td><td>0.03439833802985959</td><td>1.2990733981132507</td><td>0.03440181640607695</td><td>1.7467877388000494</td><td>0.0458691752130034</td><td>2.580722808837891</td><td>0.03760844810118138</td><td>2.3739564657211303</td><td>0.04841819788599687</td><td>3.513943648338319</td><td>0.054781220271252096</td><td>3.528129148483276</td><td>0.07248468104572524</td><td>4.705669307708743</td><td>0.21782649035860852</td><td>12.866525650024414</td><td>0.33165973990127956</td><td>16.844839477539058</td><td>nan</td><td>nan</td><td>nan</td><td>nan</td><td>nan</td><td>nan</td><td>nan</td><td>nan</td><td>nan</td><td>nan</td><td>nan</td><td>nan</td><td>nan</td><td>nan</td><td>nan</td><td>nan</td><td>nan</td><td>nan</td><td>nan</td><td>nan</td><td>nan</td><td>nan</td><td>nan</td><td>nan</td><td>nan</td><td>nan</td></tr>\n",
       "<tr><td>3</td><td>446299833</td><td>6973434</td><td>nan</td><td>nan</td><td>nan</td><td>nan</td><td>nan</td><td>nan</td><td>nan</td><td>nan</td><td>nan</td><td>nan</td><td>nan</td><td>nan</td><td>nan</td><td>nan</td><td>nan</td><td>nan</td><td>nan</td><td>nan</td><td>nan</td><td>nan</td><td>nan</td><td>nan</td><td>nan</td><td>nan</td><td>nan</td><td>nan</td><td>nan</td><td>nan</td><td>nan</td><td>nan</td><td>nan</td><td>nan</td><td>nan</td><td>nan</td><td>nan</td><td>nan</td><td>nan</td><td>nan</td><td>nan</td><td>nan</td><td>nan</td><td>nan</td><td>nan</td><td>nan</td><td>nan</td><td>nan</td><td>nan</td><td>nan</td><td>nan</td><td>nan</td><td>nan</td><td>nan</td><td>nan</td><td>nan</td><td>nan</td><td>nan</td><td>nan</td><td>nan</td><td>nan</td><td>nan</td><td>nan</td><td>nan</td><td>nan</td><td>nan</td><td>nan</td><td>nan</td><td>nan</td><td>nan</td><td>nan</td><td>nan</td><td>nan</td><td>nan</td><td>nan</td><td>nan</td><td>nan</td><td>nan</td><td>nan</td><td>nan</td><td>nan</td><td>nan</td><td>nan</td><td>nan</td><td>nan</td><td>nan</td><td>nan</td><td>nan</td><td>nan</td><td>nan</td><td>nan</td><td>nan</td><td>nan</td><td>nan</td><td>nan</td><td>nan</td><td>nan</td><td>nan</td><td>nan</td><td>nan</td><td>nan</td><td>nan</td><td>nan</td><td>nan</td><td>nan</td><td>nan</td><td>nan</td><td>nan</td><td>nan</td><td>nan</td><td>nan</td><td>nan</td><td>nan</td><td>nan</td><td>nan</td><td>nan</td><td>nan</td><td>nan</td><td>nan</td><td>nan</td><td>nan</td><td>nan</td><td>nan</td><td>nan</td><td>nan</td><td>nan</td><td>nan</td><td>nan</td><td>nan</td><td>nan</td><td>nan</td><td>nan</td><td>nan</td><td>nan</td><td>nan</td><td>nan</td><td>nan</td><td>nan</td><td>nan</td><td>nan</td><td>nan</td><td>nan</td><td>nan</td><td>nan</td><td>nan</td><td>nan</td><td>nan</td><td>nan</td><td>nan</td><td>nan</td><td>nan</td><td>nan</td><td>nan</td><td>nan</td><td>2.8505101203918457</td><td>37.48317337036133</td><td>8.278599739074707</td><td>80.66513061523438</td><td>3.2582598527272544</td><td>48.91586685180664</td><td>7.860165119171143</td><td>94.22247314453125</td><td>5.232518196105957</td><td>63.661014556884766</td><td>21.813302993774414</td><td>146.0596466064453</td><td>7.147817373275757</td><td>54.77119750976563</td><td>nan</td><td>nan</td><td>nan</td><td>nan</td><td>nan</td><td>nan</td><td>0.48212004905557143</td><td>25.888394494136428</td><td>0.6527904442019116</td><td>34.062201989021034</td><td>0.5638927089991637</td><td>36.09468288693829</td><td>0.7475171382251685</td><td>41.5250191124787</td><td>1.1189651869221844</td><td>46.611243664998</td><td>1.214346981656823</td><td>51.45170592147461</td><td>1.411597082977303</td><td>40.390585450970306</td><td>1.998903369026414</td><td>52.632461948009976</td><td>2.9088533378750294</td><td>68.28103014129479</td><td>5.0590533532548445</td><td>78.0808791189587</td><td>0.029852682435563927</td><td>1.035833090543747</td><td>0.03439833802985959</td><td>1.2990733981132507</td><td>0.03440181640607695</td><td>1.7467877388000494</td><td>0.0458691752130034</td><td>2.580722808837891</td><td>0.03760844810118138</td><td>2.3739564657211303</td><td>0.04841819788599687</td><td>3.513943648338319</td><td>0.054781220271252096</td><td>3.528129148483276</td><td>0.07248468104572524</td><td>4.705669307708743</td><td>0.21782649035860852</td><td>12.866525650024414</td><td>0.33165973990127956</td><td>16.844839477539058</td><td>nan</td><td>nan</td><td>nan</td><td>nan</td><td>nan</td><td>nan</td><td>nan</td><td>nan</td><td>nan</td><td>nan</td><td>nan</td><td>nan</td><td>nan</td><td>nan</td><td>nan</td><td>nan</td><td>nan</td><td>nan</td><td>nan</td><td>nan</td><td>nan</td><td>nan</td><td>nan</td><td>nan</td><td>nan</td><td>nan</td></tr>\n",
       "<tr><td>4</td><td>446299839</td><td>6973434</td><td>nan</td><td>nan</td><td>nan</td><td>nan</td><td>nan</td><td>nan</td><td>nan</td><td>nan</td><td>nan</td><td>nan</td><td>nan</td><td>nan</td><td>nan</td><td>nan</td><td>nan</td><td>nan</td><td>nan</td><td>nan</td><td>nan</td><td>nan</td><td>nan</td><td>nan</td><td>nan</td><td>nan</td><td>nan</td><td>nan</td><td>nan</td><td>nan</td><td>nan</td><td>nan</td><td>nan</td><td>nan</td><td>nan</td><td>nan</td><td>nan</td><td>nan</td><td>nan</td><td>nan</td><td>nan</td><td>nan</td><td>nan</td><td>nan</td><td>nan</td><td>nan</td><td>nan</td><td>nan</td><td>nan</td><td>nan</td><td>nan</td><td>nan</td><td>nan</td><td>nan</td><td>nan</td><td>nan</td><td>nan</td><td>nan</td><td>nan</td><td>nan</td><td>nan</td><td>nan</td><td>nan</td><td>nan</td><td>nan</td><td>nan</td><td>nan</td><td>nan</td><td>nan</td><td>nan</td><td>nan</td><td>nan</td><td>nan</td><td>nan</td><td>nan</td><td>nan</td><td>nan</td><td>nan</td><td>nan</td><td>nan</td><td>nan</td><td>nan</td><td>nan</td><td>nan</td><td>nan</td><td>nan</td><td>nan</td><td>nan</td><td>nan</td><td>nan</td><td>nan</td><td>nan</td><td>nan</td><td>nan</td><td>nan</td><td>nan</td><td>nan</td><td>nan</td><td>nan</td><td>nan</td><td>nan</td><td>nan</td><td>nan</td><td>nan</td><td>nan</td><td>nan</td><td>nan</td><td>nan</td><td>nan</td><td>nan</td><td>nan</td><td>nan</td><td>nan</td><td>nan</td><td>nan</td><td>nan</td><td>nan</td><td>nan</td><td>nan</td><td>nan</td><td>nan</td><td>nan</td><td>nan</td><td>nan</td><td>nan</td><td>nan</td><td>nan</td><td>nan</td><td>nan</td><td>nan</td><td>nan</td><td>nan</td><td>nan</td><td>nan</td><td>nan</td><td>nan</td><td>nan</td><td>nan</td><td>nan</td><td>nan</td><td>nan</td><td>nan</td><td>nan</td><td>nan</td><td>nan</td><td>nan</td><td>nan</td><td>nan</td><td>nan</td><td>nan</td><td>nan</td><td>nan</td><td>nan</td><td>nan</td><td>2.8505101203918457</td><td>37.48317337036133</td><td>8.278599739074707</td><td>80.66513061523438</td><td>3.2582598527272544</td><td>48.91586685180664</td><td>7.860165119171143</td><td>94.22247314453125</td><td>5.232518196105957</td><td>63.661014556884766</td><td>21.813302993774414</td><td>146.0596466064453</td><td>7.147817373275757</td><td>54.77119750976563</td><td>nan</td><td>nan</td><td>nan</td><td>nan</td><td>nan</td><td>nan</td><td>0.48212004905557143</td><td>25.888394494136428</td><td>0.6527904442019116</td><td>34.062201989021034</td><td>0.5638927089991637</td><td>36.09468288693829</td><td>0.7475171382251685</td><td>41.5250191124787</td><td>1.1189651869221844</td><td>46.611243664998</td><td>1.214346981656823</td><td>51.45170592147461</td><td>1.411597082977303</td><td>40.390585450970306</td><td>1.998903369026414</td><td>52.632461948009976</td><td>2.9088533378750294</td><td>68.28103014129479</td><td>5.0590533532548445</td><td>78.0808791189587</td><td>0.029852682435563927</td><td>1.035833090543747</td><td>0.03439833802985959</td><td>1.2990733981132507</td><td>0.03440181640607695</td><td>1.7467877388000494</td><td>0.0458691752130034</td><td>2.580722808837891</td><td>0.03760844810118138</td><td>2.3739564657211303</td><td>0.04841819788599687</td><td>3.513943648338319</td><td>0.054781220271252096</td><td>3.528129148483276</td><td>0.07248468104572524</td><td>4.705669307708743</td><td>0.21782649035860852</td><td>12.866525650024414</td><td>0.33165973990127956</td><td>16.844839477539058</td><td>nan</td><td>nan</td><td>nan</td><td>nan</td><td>nan</td><td>nan</td><td>nan</td><td>nan</td><td>nan</td><td>nan</td><td>nan</td><td>nan</td><td>nan</td><td>nan</td><td>nan</td><td>nan</td><td>nan</td><td>nan</td><td>nan</td><td>nan</td><td>nan</td><td>nan</td><td>nan</td><td>nan</td><td>nan</td><td>nan</td></tr>\n",
       "<tr><td>5</td><td>446299837</td><td>6973434</td><td>nan</td><td>nan</td><td>nan</td><td>nan</td><td>nan</td><td>nan</td><td>nan</td><td>nan</td><td>nan</td><td>nan</td><td>nan</td><td>nan</td><td>nan</td><td>nan</td><td>nan</td><td>nan</td><td>nan</td><td>nan</td><td>nan</td><td>nan</td><td>nan</td><td>nan</td><td>nan</td><td>nan</td><td>nan</td><td>nan</td><td>nan</td><td>nan</td><td>nan</td><td>nan</td><td>nan</td><td>nan</td><td>nan</td><td>nan</td><td>nan</td><td>nan</td><td>nan</td><td>nan</td><td>nan</td><td>nan</td><td>nan</td><td>nan</td><td>nan</td><td>nan</td><td>nan</td><td>nan</td><td>nan</td><td>nan</td><td>nan</td><td>nan</td><td>nan</td><td>nan</td><td>nan</td><td>nan</td><td>nan</td><td>nan</td><td>nan</td><td>nan</td><td>nan</td><td>nan</td><td>nan</td><td>nan</td><td>nan</td><td>nan</td><td>nan</td><td>nan</td><td>nan</td><td>nan</td><td>nan</td><td>nan</td><td>nan</td><td>nan</td><td>nan</td><td>nan</td><td>nan</td><td>nan</td><td>nan</td><td>nan</td><td>nan</td><td>nan</td><td>nan</td><td>nan</td><td>nan</td><td>nan</td><td>nan</td><td>nan</td><td>nan</td><td>nan</td><td>nan</td><td>nan</td><td>nan</td><td>nan</td><td>nan</td><td>nan</td><td>nan</td><td>nan</td><td>nan</td><td>nan</td><td>nan</td><td>nan</td><td>nan</td><td>nan</td><td>nan</td><td>nan</td><td>nan</td><td>nan</td><td>nan</td><td>nan</td><td>nan</td><td>nan</td><td>nan</td><td>nan</td><td>nan</td><td>nan</td><td>nan</td><td>nan</td><td>nan</td><td>nan</td><td>nan</td><td>nan</td><td>nan</td><td>nan</td><td>nan</td><td>nan</td><td>nan</td><td>nan</td><td>nan</td><td>nan</td><td>nan</td><td>nan</td><td>nan</td><td>nan</td><td>nan</td><td>nan</td><td>nan</td><td>nan</td><td>nan</td><td>nan</td><td>nan</td><td>nan</td><td>nan</td><td>nan</td><td>nan</td><td>nan</td><td>nan</td><td>nan</td><td>nan</td><td>nan</td><td>nan</td><td>nan</td><td>nan</td><td>nan</td><td>2.8505101203918457</td><td>37.48317337036133</td><td>8.278599739074707</td><td>80.66513061523438</td><td>3.2582598527272544</td><td>48.91586685180664</td><td>7.860165119171143</td><td>94.22247314453125</td><td>5.232518196105957</td><td>63.661014556884766</td><td>21.813302993774414</td><td>146.0596466064453</td><td>7.147817373275757</td><td>54.77119750976563</td><td>nan</td><td>nan</td><td>nan</td><td>nan</td><td>nan</td><td>nan</td><td>0.48212004905557143</td><td>25.888394494136428</td><td>0.6527904442019116</td><td>34.062201989021034</td><td>0.5638927089991637</td><td>36.09468288693829</td><td>0.7475171382251685</td><td>41.5250191124787</td><td>1.1189651869221844</td><td>46.611243664998</td><td>1.214346981656823</td><td>51.45170592147461</td><td>1.411597082977303</td><td>40.390585450970306</td><td>1.998903369026414</td><td>52.632461948009976</td><td>2.9088533378750294</td><td>68.28103014129479</td><td>5.0590533532548445</td><td>78.0808791189587</td><td>0.029852682435563927</td><td>1.035833090543747</td><td>0.03439833802985959</td><td>1.2990733981132507</td><td>0.03440181640607695</td><td>1.7467877388000494</td><td>0.0458691752130034</td><td>2.580722808837891</td><td>0.03760844810118138</td><td>2.3739564657211303</td><td>0.04841819788599687</td><td>3.513943648338319</td><td>0.054781220271252096</td><td>3.528129148483276</td><td>0.07248468104572524</td><td>4.705669307708743</td><td>0.21782649035860852</td><td>12.866525650024414</td><td>0.33165973990127956</td><td>16.844839477539058</td><td>nan</td><td>nan</td><td>nan</td><td>nan</td><td>nan</td><td>nan</td><td>nan</td><td>nan</td><td>nan</td><td>nan</td><td>nan</td><td>nan</td><td>nan</td><td>nan</td><td>nan</td><td>nan</td><td>nan</td><td>nan</td><td>nan</td><td>nan</td><td>nan</td><td>nan</td><td>nan</td><td>nan</td><td>nan</td><td>nan</td></tr>\n",
       "<tr><td>6</td><td>446299819</td><td>6973434</td><td>nan</td><td>nan</td><td>nan</td><td>nan</td><td>nan</td><td>nan</td><td>nan</td><td>nan</td><td>nan</td><td>nan</td><td>nan</td><td>nan</td><td>nan</td><td>nan</td><td>nan</td><td>nan</td><td>nan</td><td>nan</td><td>nan</td><td>nan</td><td>nan</td><td>nan</td><td>nan</td><td>nan</td><td>nan</td><td>nan</td><td>nan</td><td>nan</td><td>nan</td><td>nan</td><td>nan</td><td>nan</td><td>nan</td><td>nan</td><td>nan</td><td>nan</td><td>nan</td><td>nan</td><td>nan</td><td>nan</td><td>nan</td><td>nan</td><td>nan</td><td>nan</td><td>nan</td><td>nan</td><td>nan</td><td>nan</td><td>nan</td><td>nan</td><td>nan</td><td>nan</td><td>nan</td><td>nan</td><td>nan</td><td>nan</td><td>nan</td><td>nan</td><td>nan</td><td>nan</td><td>nan</td><td>nan</td><td>nan</td><td>nan</td><td>nan</td><td>nan</td><td>nan</td><td>nan</td><td>nan</td><td>nan</td><td>nan</td><td>nan</td><td>nan</td><td>nan</td><td>nan</td><td>nan</td><td>nan</td><td>nan</td><td>nan</td><td>nan</td><td>nan</td><td>nan</td><td>nan</td><td>nan</td><td>nan</td><td>nan</td><td>nan</td><td>nan</td><td>nan</td><td>nan</td><td>nan</td><td>nan</td><td>nan</td><td>nan</td><td>nan</td><td>nan</td><td>nan</td><td>nan</td><td>nan</td><td>nan</td><td>nan</td><td>nan</td><td>nan</td><td>nan</td><td>nan</td><td>nan</td><td>nan</td><td>nan</td><td>nan</td><td>nan</td><td>nan</td><td>nan</td><td>nan</td><td>nan</td><td>nan</td><td>nan</td><td>nan</td><td>nan</td><td>nan</td><td>nan</td><td>nan</td><td>nan</td><td>nan</td><td>nan</td><td>nan</td><td>nan</td><td>nan</td><td>nan</td><td>nan</td><td>nan</td><td>nan</td><td>nan</td><td>nan</td><td>nan</td><td>nan</td><td>nan</td><td>nan</td><td>nan</td><td>nan</td><td>nan</td><td>nan</td><td>nan</td><td>nan</td><td>nan</td><td>nan</td><td>nan</td><td>nan</td><td>nan</td><td>nan</td><td>nan</td><td>nan</td><td>nan</td><td>2.8505101203918457</td><td>37.48317337036133</td><td>8.278599739074707</td><td>80.66513061523438</td><td>3.2582598527272544</td><td>48.91586685180664</td><td>7.860165119171143</td><td>94.22247314453125</td><td>5.232518196105957</td><td>63.661014556884766</td><td>21.813302993774414</td><td>146.0596466064453</td><td>7.147817373275757</td><td>54.77119750976563</td><td>nan</td><td>nan</td><td>nan</td><td>nan</td><td>nan</td><td>nan</td><td>0.48212004905557143</td><td>25.888394494136428</td><td>0.6527904442019116</td><td>34.062201989021034</td><td>0.5638927089991637</td><td>36.09468288693829</td><td>0.7475171382251685</td><td>41.5250191124787</td><td>1.1189651869221844</td><td>46.611243664998</td><td>1.214346981656823</td><td>51.45170592147461</td><td>1.411597082977303</td><td>40.390585450970306</td><td>1.998903369026414</td><td>52.632461948009976</td><td>2.9088533378750294</td><td>68.28103014129479</td><td>5.0590533532548445</td><td>78.0808791189587</td><td>0.029852682435563927</td><td>1.035833090543747</td><td>0.03439833802985959</td><td>1.2990733981132507</td><td>0.03440181640607695</td><td>1.7467877388000494</td><td>0.0458691752130034</td><td>2.580722808837891</td><td>0.03760844810118138</td><td>2.3739564657211303</td><td>0.04841819788599687</td><td>3.513943648338319</td><td>0.054781220271252096</td><td>3.528129148483276</td><td>0.07248468104572524</td><td>4.705669307708743</td><td>0.21782649035860852</td><td>12.866525650024414</td><td>0.33165973990127956</td><td>16.844839477539058</td><td>nan</td><td>nan</td><td>nan</td><td>nan</td><td>nan</td><td>nan</td><td>nan</td><td>nan</td><td>nan</td><td>nan</td><td>nan</td><td>nan</td><td>nan</td><td>nan</td><td>nan</td><td>nan</td><td>nan</td><td>nan</td><td>nan</td><td>nan</td><td>nan</td><td>nan</td><td>nan</td><td>nan</td><td>nan</td><td>nan</td></tr>\n",
       "<tr><td>7</td><td>446299832</td><td>6973434</td><td>nan</td><td>nan</td><td>nan</td><td>nan</td><td>nan</td><td>nan</td><td>nan</td><td>nan</td><td>nan</td><td>nan</td><td>nan</td><td>nan</td><td>nan</td><td>nan</td><td>nan</td><td>nan</td><td>nan</td><td>nan</td><td>nan</td><td>nan</td><td>nan</td><td>nan</td><td>nan</td><td>nan</td><td>nan</td><td>nan</td><td>nan</td><td>nan</td><td>nan</td><td>nan</td><td>nan</td><td>nan</td><td>nan</td><td>nan</td><td>nan</td><td>nan</td><td>nan</td><td>nan</td><td>nan</td><td>nan</td><td>nan</td><td>nan</td><td>nan</td><td>nan</td><td>nan</td><td>nan</td><td>nan</td><td>nan</td><td>nan</td><td>nan</td><td>nan</td><td>nan</td><td>nan</td><td>nan</td><td>nan</td><td>nan</td><td>nan</td><td>nan</td><td>nan</td><td>nan</td><td>nan</td><td>nan</td><td>nan</td><td>nan</td><td>nan</td><td>nan</td><td>nan</td><td>nan</td><td>nan</td><td>nan</td><td>nan</td><td>nan</td><td>nan</td><td>nan</td><td>nan</td><td>nan</td><td>nan</td><td>nan</td><td>nan</td><td>nan</td><td>nan</td><td>nan</td><td>nan</td><td>nan</td><td>nan</td><td>nan</td><td>nan</td><td>nan</td><td>nan</td><td>nan</td><td>nan</td><td>nan</td><td>nan</td><td>nan</td><td>nan</td><td>nan</td><td>nan</td><td>nan</td><td>nan</td><td>nan</td><td>nan</td><td>nan</td><td>nan</td><td>nan</td><td>nan</td><td>nan</td><td>nan</td><td>nan</td><td>nan</td><td>nan</td><td>nan</td><td>nan</td><td>nan</td><td>nan</td><td>nan</td><td>nan</td><td>nan</td><td>nan</td><td>nan</td><td>nan</td><td>nan</td><td>nan</td><td>nan</td><td>nan</td><td>nan</td><td>nan</td><td>nan</td><td>nan</td><td>nan</td><td>nan</td><td>nan</td><td>nan</td><td>nan</td><td>nan</td><td>nan</td><td>nan</td><td>nan</td><td>nan</td><td>nan</td><td>nan</td><td>nan</td><td>nan</td><td>nan</td><td>nan</td><td>nan</td><td>nan</td><td>nan</td><td>nan</td><td>nan</td><td>nan</td><td>nan</td><td>nan</td><td>2.8505101203918457</td><td>37.48317337036133</td><td>8.278599739074707</td><td>80.66513061523438</td><td>3.2582598527272544</td><td>48.91586685180664</td><td>7.860165119171143</td><td>94.22247314453125</td><td>5.232518196105957</td><td>63.661014556884766</td><td>21.813302993774414</td><td>146.0596466064453</td><td>7.147817373275757</td><td>54.77119750976563</td><td>nan</td><td>nan</td><td>nan</td><td>nan</td><td>nan</td><td>nan</td><td>0.48212004905557143</td><td>25.888394494136428</td><td>0.6527904442019116</td><td>34.062201989021034</td><td>0.5638927089991637</td><td>36.09468288693829</td><td>0.7475171382251685</td><td>41.5250191124787</td><td>1.1189651869221844</td><td>46.611243664998</td><td>1.214346981656823</td><td>51.45170592147461</td><td>1.411597082977303</td><td>40.390585450970306</td><td>1.998903369026414</td><td>52.632461948009976</td><td>2.9088533378750294</td><td>68.28103014129479</td><td>5.0590533532548445</td><td>78.0808791189587</td><td>0.029852682435563927</td><td>1.035833090543747</td><td>0.03439833802985959</td><td>1.2990733981132507</td><td>0.03440181640607695</td><td>1.7467877388000494</td><td>0.0458691752130034</td><td>2.580722808837891</td><td>0.03760844810118138</td><td>2.3739564657211303</td><td>0.04841819788599687</td><td>3.513943648338319</td><td>0.054781220271252096</td><td>3.528129148483276</td><td>0.07248468104572524</td><td>4.705669307708743</td><td>0.21782649035860852</td><td>12.866525650024414</td><td>0.33165973990127956</td><td>16.844839477539058</td><td>nan</td><td>nan</td><td>nan</td><td>nan</td><td>nan</td><td>nan</td><td>nan</td><td>nan</td><td>nan</td><td>nan</td><td>nan</td><td>nan</td><td>nan</td><td>nan</td><td>nan</td><td>nan</td><td>nan</td><td>nan</td><td>nan</td><td>nan</td><td>nan</td><td>nan</td><td>nan</td><td>nan</td><td>nan</td><td>nan</td></tr>\n",
       "<tr><td>8</td><td>446299823</td><td>6973434</td><td>nan</td><td>nan</td><td>nan</td><td>nan</td><td>nan</td><td>nan</td><td>nan</td><td>nan</td><td>nan</td><td>nan</td><td>nan</td><td>nan</td><td>nan</td><td>nan</td><td>nan</td><td>nan</td><td>nan</td><td>nan</td><td>nan</td><td>nan</td><td>nan</td><td>nan</td><td>nan</td><td>nan</td><td>nan</td><td>nan</td><td>nan</td><td>nan</td><td>nan</td><td>nan</td><td>nan</td><td>nan</td><td>nan</td><td>nan</td><td>nan</td><td>nan</td><td>nan</td><td>nan</td><td>nan</td><td>nan</td><td>nan</td><td>nan</td><td>nan</td><td>nan</td><td>nan</td><td>nan</td><td>nan</td><td>nan</td><td>nan</td><td>nan</td><td>nan</td><td>nan</td><td>nan</td><td>nan</td><td>nan</td><td>nan</td><td>nan</td><td>nan</td><td>nan</td><td>nan</td><td>nan</td><td>nan</td><td>nan</td><td>nan</td><td>nan</td><td>nan</td><td>nan</td><td>nan</td><td>nan</td><td>nan</td><td>nan</td><td>nan</td><td>nan</td><td>nan</td><td>nan</td><td>nan</td><td>nan</td><td>nan</td><td>nan</td><td>nan</td><td>nan</td><td>nan</td><td>nan</td><td>nan</td><td>nan</td><td>nan</td><td>nan</td><td>nan</td><td>nan</td><td>nan</td><td>nan</td><td>nan</td><td>nan</td><td>nan</td><td>nan</td><td>nan</td><td>nan</td><td>nan</td><td>nan</td><td>nan</td><td>nan</td><td>nan</td><td>nan</td><td>nan</td><td>nan</td><td>nan</td><td>nan</td><td>nan</td><td>nan</td><td>nan</td><td>nan</td><td>nan</td><td>nan</td><td>nan</td><td>nan</td><td>nan</td><td>nan</td><td>nan</td><td>nan</td><td>nan</td><td>nan</td><td>nan</td><td>nan</td><td>nan</td><td>nan</td><td>nan</td><td>nan</td><td>nan</td><td>nan</td><td>nan</td><td>nan</td><td>nan</td><td>nan</td><td>nan</td><td>nan</td><td>nan</td><td>nan</td><td>nan</td><td>nan</td><td>nan</td><td>nan</td><td>nan</td><td>nan</td><td>nan</td><td>nan</td><td>nan</td><td>nan</td><td>nan</td><td>nan</td><td>nan</td><td>nan</td><td>nan</td><td>2.8505101203918457</td><td>37.48317337036133</td><td>8.278599739074707</td><td>80.66513061523438</td><td>3.2582598527272544</td><td>48.91586685180664</td><td>7.860165119171143</td><td>94.22247314453125</td><td>5.232518196105957</td><td>63.661014556884766</td><td>21.813302993774414</td><td>146.0596466064453</td><td>7.147817373275757</td><td>54.77119750976563</td><td>nan</td><td>nan</td><td>nan</td><td>nan</td><td>nan</td><td>nan</td><td>0.48212004905557143</td><td>25.888394494136428</td><td>0.6527904442019116</td><td>34.062201989021034</td><td>0.5638927089991637</td><td>36.09468288693829</td><td>0.7475171382251685</td><td>41.5250191124787</td><td>1.1189651869221844</td><td>46.611243664998</td><td>1.214346981656823</td><td>51.45170592147461</td><td>1.411597082977303</td><td>40.390585450970306</td><td>1.998903369026414</td><td>52.632461948009976</td><td>2.9088533378750294</td><td>68.28103014129479</td><td>5.0590533532548445</td><td>78.0808791189587</td><td>0.029852682435563927</td><td>1.035833090543747</td><td>0.03439833802985959</td><td>1.2990733981132507</td><td>0.03440181640607695</td><td>1.7467877388000494</td><td>0.0458691752130034</td><td>2.580722808837891</td><td>0.03760844810118138</td><td>2.3739564657211303</td><td>0.04841819788599687</td><td>3.513943648338319</td><td>0.054781220271252096</td><td>3.528129148483276</td><td>0.07248468104572524</td><td>4.705669307708743</td><td>0.21782649035860852</td><td>12.866525650024414</td><td>0.33165973990127956</td><td>16.844839477539058</td><td>nan</td><td>nan</td><td>nan</td><td>nan</td><td>nan</td><td>nan</td><td>nan</td><td>nan</td><td>nan</td><td>nan</td><td>nan</td><td>nan</td><td>nan</td><td>nan</td><td>nan</td><td>nan</td><td>nan</td><td>nan</td><td>nan</td><td>nan</td><td>nan</td><td>nan</td><td>nan</td><td>nan</td><td>nan</td><td>nan</td></tr>\n",
       "<tr><td>9</td><td>446299822</td><td>6973434</td><td>nan</td><td>nan</td><td>nan</td><td>nan</td><td>nan</td><td>nan</td><td>nan</td><td>nan</td><td>nan</td><td>nan</td><td>nan</td><td>nan</td><td>nan</td><td>nan</td><td>nan</td><td>nan</td><td>nan</td><td>nan</td><td>nan</td><td>nan</td><td>nan</td><td>nan</td><td>nan</td><td>nan</td><td>nan</td><td>nan</td><td>nan</td><td>nan</td><td>nan</td><td>nan</td><td>nan</td><td>nan</td><td>nan</td><td>nan</td><td>nan</td><td>nan</td><td>nan</td><td>nan</td><td>nan</td><td>nan</td><td>nan</td><td>nan</td><td>nan</td><td>nan</td><td>nan</td><td>nan</td><td>nan</td><td>nan</td><td>nan</td><td>nan</td><td>nan</td><td>nan</td><td>nan</td><td>nan</td><td>nan</td><td>nan</td><td>nan</td><td>nan</td><td>nan</td><td>nan</td><td>nan</td><td>nan</td><td>nan</td><td>nan</td><td>nan</td><td>nan</td><td>nan</td><td>nan</td><td>nan</td><td>nan</td><td>nan</td><td>nan</td><td>nan</td><td>nan</td><td>nan</td><td>nan</td><td>nan</td><td>nan</td><td>nan</td><td>nan</td><td>nan</td><td>nan</td><td>nan</td><td>nan</td><td>nan</td><td>nan</td><td>nan</td><td>nan</td><td>nan</td><td>nan</td><td>nan</td><td>nan</td><td>nan</td><td>nan</td><td>nan</td><td>nan</td><td>nan</td><td>nan</td><td>nan</td><td>nan</td><td>nan</td><td>nan</td><td>nan</td><td>nan</td><td>nan</td><td>nan</td><td>nan</td><td>nan</td><td>nan</td><td>nan</td><td>nan</td><td>nan</td><td>nan</td><td>nan</td><td>nan</td><td>nan</td><td>nan</td><td>nan</td><td>nan</td><td>nan</td><td>nan</td><td>nan</td><td>nan</td><td>nan</td><td>nan</td><td>nan</td><td>nan</td><td>nan</td><td>nan</td><td>nan</td><td>nan</td><td>nan</td><td>nan</td><td>nan</td><td>nan</td><td>nan</td><td>nan</td><td>nan</td><td>nan</td><td>nan</td><td>nan</td><td>nan</td><td>nan</td><td>nan</td><td>nan</td><td>nan</td><td>nan</td><td>nan</td><td>nan</td><td>nan</td><td>nan</td><td>nan</td><td>2.8505101203918457</td><td>37.48317337036133</td><td>8.278599739074707</td><td>80.66513061523438</td><td>3.2582598527272544</td><td>48.91586685180664</td><td>7.860165119171143</td><td>94.22247314453125</td><td>5.232518196105957</td><td>63.661014556884766</td><td>21.813302993774414</td><td>146.0596466064453</td><td>7.147817373275757</td><td>54.77119750976563</td><td>nan</td><td>nan</td><td>nan</td><td>nan</td><td>nan</td><td>nan</td><td>0.48212004905557143</td><td>25.888394494136428</td><td>0.6527904442019116</td><td>34.062201989021034</td><td>0.5638927089991637</td><td>36.09468288693829</td><td>0.7475171382251685</td><td>41.5250191124787</td><td>1.1189651869221844</td><td>46.611243664998</td><td>1.214346981656823</td><td>51.45170592147461</td><td>1.411597082977303</td><td>40.390585450970306</td><td>1.998903369026414</td><td>52.632461948009976</td><td>2.9088533378750294</td><td>68.28103014129479</td><td>5.0590533532548445</td><td>78.0808791189587</td><td>0.029852682435563927</td><td>1.035833090543747</td><td>0.03439833802985959</td><td>1.2990733981132507</td><td>0.03440181640607695</td><td>1.7467877388000494</td><td>0.0458691752130034</td><td>2.580722808837891</td><td>0.03760844810118138</td><td>2.3739564657211303</td><td>0.04841819788599687</td><td>3.513943648338319</td><td>0.054781220271252096</td><td>3.528129148483276</td><td>0.07248468104572524</td><td>4.705669307708743</td><td>0.21782649035860852</td><td>12.866525650024414</td><td>0.33165973990127956</td><td>16.844839477539058</td><td>nan</td><td>nan</td><td>nan</td><td>nan</td><td>nan</td><td>nan</td><td>nan</td><td>nan</td><td>nan</td><td>nan</td><td>nan</td><td>nan</td><td>nan</td><td>nan</td><td>nan</td><td>nan</td><td>nan</td><td>nan</td><td>nan</td><td>nan</td><td>nan</td><td>nan</td><td>nan</td><td>nan</td><td>nan</td><td>nan</td></tr>\n",
       "</table><style>table.dataTable {clear: both; width: auto !important; margin: 0 !important;}\n",
       ".dataTables_info, .dataTables_length, .dataTables_filter, .dataTables_paginate{\n",
       "display: inline-block; margin-right: 1em; }\n",
       ".paginate_button { margin-right: 5px; }\n",
       "</style>\n",
       "<script>\n",
       "\n",
       "var astropy_sort_num = function(a, b) {\n",
       "    var a_num = parseFloat(a);\n",
       "    var b_num = parseFloat(b);\n",
       "\n",
       "    if (isNaN(a_num) && isNaN(b_num))\n",
       "        return ((a < b) ? -1 : ((a > b) ? 1 : 0));\n",
       "    else if (!isNaN(a_num) && !isNaN(b_num))\n",
       "        return ((a_num < b_num) ? -1 : ((a_num > b_num) ? 1 : 0));\n",
       "    else\n",
       "        return isNaN(a_num) ? -1 : 1;\n",
       "}\n",
       "\n",
       "require.config({paths: {\n",
       "    datatables: 'https://cdn.datatables.net/1.10.12/js/jquery.dataTables.min'\n",
       "}});\n",
       "require([\"datatables\"], function(){\n",
       "    console.log(\"$('#table4974013520-663388').dataTable()\");\n",
       "    \n",
       "jQuery.extend( jQuery.fn.dataTableExt.oSort, {\n",
       "    \"optionalnum-asc\": astropy_sort_num,\n",
       "    \"optionalnum-desc\": function (a,b) { return -astropy_sort_num(a, b); }\n",
       "});\n",
       "\n",
       "    $('#table4974013520-663388').dataTable({\n",
       "        order: [],\n",
       "        pageLength: 50,\n",
       "        lengthMenu: [[10, 25, 50, 100, 500, 1000, -1], [10, 25, 50, 100, 500, 1000, 'All']],\n",
       "        pagingType: \"full_numbers\",\n",
       "        columnDefs: [{targets: [0, 1, 2, 3, 4, 5, 6, 7, 8, 9, 10, 11, 12, 13, 14, 15, 16, 17, 18, 19, 20, 21, 22, 23, 24, 25, 26, 27, 28, 29, 30, 31, 32, 33, 34, 35, 36, 37, 38, 39, 40, 41, 42, 43, 44, 45, 46, 47, 48, 49, 50, 51, 52, 53, 54, 55, 56, 57, 58, 59, 60, 61, 62, 63, 64, 65, 66, 67, 68, 69, 70, 71, 72, 73, 74, 75, 76, 77, 78, 79, 80, 81, 82, 83, 84, 85, 86, 87, 88, 89, 90, 91, 92, 93, 94, 95, 96, 97, 98, 99, 100, 101, 102, 103, 104, 105, 106, 107, 108, 109, 110, 111, 112, 113, 114, 115, 116, 117, 118, 119, 120, 121, 122, 123, 124, 125, 126, 127, 128, 129, 130, 131, 132, 133, 134, 135, 136, 137, 138, 139, 140, 141, 142, 143, 144, 145, 146, 147, 148, 149, 150, 151, 152, 153, 154, 155, 156, 157, 158, 159, 160, 161, 162, 163, 164, 165, 166, 167, 168, 169, 170, 171, 172, 173, 174, 175, 176, 177, 178, 179, 180, 181, 182, 183, 184, 185, 186, 187, 188, 189, 190, 191, 192, 193, 194, 195, 196, 197, 198, 199, 200, 201, 202, 203, 204, 205, 206, 207, 208, 209, 210, 211, 212, 213, 214, 215, 216, 217, 218, 219, 220, 221, 222, 223, 224, 225, 226, 227, 228, 229, 230, 231, 232, 233, 234, 235, 236, 237, 238, 239, 240], type: \"optionalnum\"}]\n",
       "    });\n",
       "});\n",
       "</script>\n"
      ],
      "text/plain": [
       "<IPython.core.display.HTML object>"
      ]
     },
     "execution_count": 53,
     "metadata": {},
     "output_type": "execute_result"
    }
   ],
   "source": [
    "cosmos_coverage[:10].show_in_notebook()"
   ]
  },
  {
   "cell_type": "code",
   "execution_count": 54,
   "metadata": {},
   "outputs": [
    {
     "data": {
      "text/plain": [
       "43200"
      ]
     },
     "execution_count": 54,
     "metadata": {},
     "output_type": "execute_result"
    }
   ],
   "source": [
    "np.sum(~np.isnan(cosmos_coverage['ferr_irac_i1_mean']))"
   ]
  },
  {
   "cell_type": "code",
   "execution_count": 55,
   "metadata": {},
   "outputs": [
    {
     "data": {
      "text/plain": [
       "(array([  448.,  1216.,  5440., 16384., 10368.,  2560.,  1664.,   768.,\n",
       "          704.,   192.,   640.,  1152.,   512.,   192.,   256.,   192.,\n",
       "            0.,    64.,    64.,     0.,     0.,     0.,    64.,     0.,\n",
       "            0.,     0.,    64.,    64.,     0.,     0.,    64.,     0.,\n",
       "            0.,     0.,     0.,     0.,    64.,     0.,     0.,     0.,\n",
       "            0.,     0.,     0.,     0.,     0.,     0.,     0.,     0.,\n",
       "            0.,     0.,     0.,     0.,     0.,     0.,     0.,     0.,\n",
       "            0.,     0.,     0.,     0.,     0.,     0.,     0.,     0.,\n",
       "            0.,     0.,     0.,     0.,     0.,     0.,     0.,     0.,\n",
       "            0.,     0.,     0.,     0.,     0.,     0.,     0.,     0.,\n",
       "            0.,     0.,     0.,     0.,     0.,     0.,     0.,     0.,\n",
       "            0.,     0.,     0.,     0.,     0.,     0.,     0.,     0.,\n",
       "            0.,     0.,     0.,    64.]),\n",
       " array([0.0337089 , 0.04570781, 0.05770672, 0.06970563, 0.08170455,\n",
       "        0.09370346, 0.10570237, 0.11770128, 0.12970019, 0.1416991 ,\n",
       "        0.15369801, 0.16569692, 0.17769583, 0.18969475, 0.20169366,\n",
       "        0.21369257, 0.22569148, 0.23769039, 0.2496893 , 0.26168821,\n",
       "        0.27368712, 0.28568604, 0.29768495, 0.30968386, 0.32168277,\n",
       "        0.33368168, 0.34568059, 0.3576795 , 0.36967841, 0.38167733,\n",
       "        0.39367624, 0.40567515, 0.41767406, 0.42967297, 0.44167188,\n",
       "        0.45367079, 0.4656697 , 0.47766861, 0.48966753, 0.50166644,\n",
       "        0.51366535, 0.52566426, 0.53766317, 0.54966208, 0.56166099,\n",
       "        0.5736599 , 0.58565882, 0.59765773, 0.60965664, 0.62165555,\n",
       "        0.63365446, 0.64565337, 0.65765228, 0.66965119, 0.68165011,\n",
       "        0.69364902, 0.70564793, 0.71764684, 0.72964575, 0.74164466,\n",
       "        0.75364357, 0.76564248, 0.77764139, 0.78964031, 0.80163922,\n",
       "        0.81363813, 0.82563704, 0.83763595, 0.84963486, 0.86163377,\n",
       "        0.87363268, 0.8856316 , 0.89763051, 0.90962942, 0.92162833,\n",
       "        0.93362724, 0.94562615, 0.95762506, 0.96962397, 0.98162289,\n",
       "        0.9936218 , 1.00562071, 1.01761962, 1.02961853, 1.04161744,\n",
       "        1.05361635, 1.06561526, 1.07761417, 1.08961309, 1.101612  ,\n",
       "        1.11361091, 1.12560982, 1.13760873, 1.14960764, 1.16160655,\n",
       "        1.17360546, 1.18560438, 1.19760329, 1.2096022 , 1.22160111,\n",
       "        1.23360002]),\n",
       " <a list of 100 Patch objects>)"
      ]
     },
     "execution_count": 55,
     "metadata": {},
     "output_type": "execute_result"
    },
    {
     "name": "stderr",
     "output_type": "stream",
     "text": [
      "/Users/rs548/anaconda/envs/herschelhelp_internal/lib/python3.6/site-packages/matplotlib/font_manager.py:1297: UserWarning: findfont: Font family ['serif'] not found. Falling back to DejaVu Sans\n",
      "  (prop.get_family(), self.defaultFamily[fontext]))\n"
     ]
    },
    {
     "data": {
      "image/png": "[encoded data removed]",
      "text/plain": [
       "<matplotlib.figure.Figure at 0x128745ef0>"
      ]
     },
     "metadata": {},
     "output_type": "display_data"
    }
   ],
   "source": [
    "plt.hist(cosmos_coverage[~np.isnan(cosmos_coverage['ferr_irac_i1_mean'])]['ferr_irac_i1_mean'], bins=100)"
   ]
  },
  {
   "cell_type": "code",
   "execution_count": 56,
   "metadata": {},
   "outputs": [],
   "source": [
    "#We use total here because apertur fluxes are absent\n",
    "cosmos_coverage['ferr_irac_i1_mean'].name = 'ferr_ap_irac_i1_mean'\n",
    "cosmos_coverage['ferr_irac_i2_mean'].name = 'ferr_ap_irac_i2_mean'\n",
    "cosmos_coverage['ferr_irac_i3_mean'].name = 'ferr_ap_irac_i3_mean'\n",
    "cosmos_coverage['ferr_irac_i4_mean'].name = 'ferr_ap_irac_i4_mean'"
   ]
  },
  {
   "cell_type": "code",
   "execution_count": 57,
   "metadata": {},
   "outputs": [],
   "source": [
    "cosmos_coverage['hp_idx_O_10'].name='hp_idx_o_10'"
   ]
  },
  {
   "cell_type": "code",
   "execution_count": 58,
   "metadata": {},
   "outputs": [
    {
     "data": {
      "text/plain": [
       "99243"
      ]
     },
     "execution_count": 58,
     "metadata": {},
     "output_type": "execute_result"
    }
   ],
   "source": [
    "len(cosmos_coverage)"
   ]
  },
  {
   "cell_type": "code",
   "execution_count": 59,
   "metadata": {},
   "outputs": [
    {
     "data": {
      "text/plain": [
       "1645"
      ]
     },
     "execution_count": 59,
     "metadata": {},
     "output_type": "execute_result"
    }
   ],
   "source": [
    "len(np.unique(cosmos_coverage['hp_idx_o_10']))"
   ]
  },
  {
   "cell_type": "code",
   "execution_count": 60,
   "metadata": {},
   "outputs": [],
   "source": [
    "cosmos_coverage.sort('hp_idx_o_10')\n",
    "is_duplicate = cosmos_coverage['hp_idx_o_10'][1:] == cosmos_coverage['hp_idx_o_10'][:-1]\n",
    "#np.append(is_duplicate,False)\n",
    "cosmos_coverage = cosmos_coverage[~np.append(is_duplicate,False)]"
   ]
  },
  {
   "cell_type": "code",
   "execution_count": 61,
   "metadata": {},
   "outputs": [
    {
     "data": {
      "text/plain": [
       "1645"
      ]
     },
     "execution_count": 61,
     "metadata": {},
     "output_type": "execute_result"
    }
   ],
   "source": [
    "len(cosmos_coverage)"
   ]
  },
  {
   "cell_type": "code",
   "execution_count": 62,
   "metadata": {},
   "outputs": [],
   "source": [
    "shared_cols = set(cosmos_coverage.colnames).intersection(set(depth_table.colnames))"
   ]
  },
  {
   "cell_type": "code",
   "execution_count": 63,
   "metadata": {},
   "outputs": [
    {
     "data": {
      "text/plain": [
       "{'ferr_ap_decam_g_mean',\n",
       " 'ferr_ap_decam_r_mean',\n",
       " 'ferr_ap_decam_z_mean',\n",
       " 'ferr_ap_gpc1_g_mean',\n",
       " 'ferr_ap_gpc1_i_mean',\n",
       " 'ferr_ap_gpc1_r_mean',\n",
       " 'ferr_ap_gpc1_y_mean',\n",
       " 'ferr_ap_gpc1_z_mean',\n",
       " 'ferr_ap_irac_i1_mean',\n",
       " 'ferr_ap_irac_i2_mean',\n",
       " 'ferr_ap_irac_i3_mean',\n",
       " 'ferr_ap_irac_i4_mean',\n",
       " 'ferr_ap_megacam_g_mean',\n",
       " 'ferr_ap_megacam_i_mean',\n",
       " 'ferr_ap_megacam_r_mean',\n",
       " 'ferr_ap_megacam_u_mean',\n",
       " 'ferr_ap_megacam_z_mean',\n",
       " 'ferr_ap_omegacam_g_mean',\n",
       " 'ferr_ap_omegacam_i_mean',\n",
       " 'ferr_ap_omegacam_r_mean',\n",
       " 'ferr_ap_omegacam_u_mean',\n",
       " 'ferr_ap_suprime_g_mean',\n",
       " 'ferr_ap_suprime_i_mean',\n",
       " 'ferr_ap_suprime_r_mean',\n",
       " 'ferr_ap_suprime_y_mean',\n",
       " 'ferr_ap_suprime_z_mean',\n",
       " 'ferr_ap_ukidss_h_mean',\n",
       " 'ferr_ap_ukidss_j_mean',\n",
       " 'ferr_ap_ukidss_k_mean',\n",
       " 'ferr_ap_ukidss_y_mean',\n",
       " 'ferr_ap_vista_h_mean',\n",
       " 'ferr_ap_vista_j_mean',\n",
       " 'ferr_ap_vista_ks_mean',\n",
       " 'ferr_ap_vista_y_mean',\n",
       " 'ferr_ap_wircam_h_mean',\n",
       " 'ferr_ap_wircam_j_mean',\n",
       " 'ferr_ap_wircam_ks_mean',\n",
       " 'hp_idx_o_10'}"
      ]
     },
     "execution_count": 63,
     "metadata": {},
     "output_type": "execute_result"
    }
   ],
   "source": [
    "shared_cols"
   ]
  },
  {
   "cell_type": "code",
   "execution_count": 64,
   "metadata": {},
   "outputs": [],
   "source": [
    "cosmos_pixels = np.in1d(depth_table['hp_idx_o_10'], np.unique(cosmos_coverage['hp_idx_o_10']))"
   ]
  },
  {
   "cell_type": "code",
   "execution_count": 65,
   "metadata": {},
   "outputs": [
    {
     "data": {
      "text/plain": [
       "1645"
      ]
     },
     "execution_count": 65,
     "metadata": {},
     "output_type": "execute_result"
    }
   ],
   "source": [
    "np.sum(cosmos_pixels)"
   ]
  },
  {
   "cell_type": "code",
   "execution_count": 66,
   "metadata": {},
   "outputs": [
    {
     "data": {
      "text/plain": [
       "394298"
      ]
     },
     "execution_count": 66,
     "metadata": {},
     "output_type": "execute_result"
    }
   ],
   "source": [
    "len(depth_table)"
   ]
  },
  {
   "cell_type": "code",
   "execution_count": 67,
   "metadata": {},
   "outputs": [
    {
     "data": {
      "text/plain": [
       "392653"
      ]
     },
     "execution_count": 67,
     "metadata": {},
     "output_type": "execute_result"
    }
   ],
   "source": [
    "depth_table= depth_table[~cosmos_pixels]\n",
    "len(depth_table)"
   ]
  },
  {
   "cell_type": "code",
   "execution_count": 68,
   "metadata": {},
   "outputs": [
    {
     "data": {
      "text/plain": [
       "394298"
      ]
     },
     "execution_count": 68,
     "metadata": {},
     "output_type": "execute_result"
    }
   ],
   "source": [
    "\n",
    "depth_table = vstack([depth_table, cosmos_coverage[list(shared_cols)]])\n",
    "len(depth_table)"
   ]
  },
  {
   "cell_type": "code",
   "execution_count": 69,
   "metadata": {},
   "outputs": [
    {
     "name": "stderr",
     "output_type": "stream",
     "text": [
      "/Users/rs548/anaconda/envs/herschelhelp_internal/lib/python3.6/site-packages/astropy/table/column.py:984: RuntimeWarning: invalid value encountered in less\n",
      "  result = getattr(super(), op)(other)\n",
      "/Users/rs548/anaconda/envs/herschelhelp_internal/lib/python3.6/site-packages/astropy/table/column.py:984: RuntimeWarning: invalid value encountered in less\n",
      "  result = getattr(super(), op)(other)\n",
      "/Users/rs548/anaconda/envs/herschelhelp_internal/lib/python3.6/site-packages/astropy/table/column.py:984: RuntimeWarning: invalid value encountered in less\n",
      "  result = getattr(super(), op)(other)\n",
      "/Users/rs548/anaconda/envs/herschelhelp_internal/lib/python3.6/site-packages/astropy/table/column.py:984: RuntimeWarning: invalid value encountered in less\n",
      "  result = getattr(super(), op)(other)\n",
      "/Users/rs548/anaconda/envs/herschelhelp_internal/lib/python3.6/site-packages/astropy/table/column.py:984: RuntimeWarning: invalid value encountered in less\n",
      "  result = getattr(super(), op)(other)\n",
      "/Users/rs548/anaconda/envs/herschelhelp_internal/lib/python3.6/site-packages/astropy/table/column.py:984: RuntimeWarning: invalid value encountered in less\n",
      "  result = getattr(super(), op)(other)\n",
      "/Users/rs548/anaconda/envs/herschelhelp_internal/lib/python3.6/site-packages/astropy/table/column.py:984: RuntimeWarning: invalid value encountered in less\n",
      "  result = getattr(super(), op)(other)\n",
      "/Users/rs548/anaconda/envs/herschelhelp_internal/lib/python3.6/site-packages/astropy/table/column.py:984: RuntimeWarning: invalid value encountered in less\n",
      "  result = getattr(super(), op)(other)\n",
      "/Users/rs548/anaconda/envs/herschelhelp_internal/lib/python3.6/site-packages/astropy/table/column.py:984: RuntimeWarning: invalid value encountered in less\n",
      "  result = getattr(super(), op)(other)\n",
      "/Users/rs548/anaconda/envs/herschelhelp_internal/lib/python3.6/site-packages/astropy/table/column.py:984: RuntimeWarning: invalid value encountered in less\n",
      "  result = getattr(super(), op)(other)\n",
      "/Users/rs548/anaconda/envs/herschelhelp_internal/lib/python3.6/site-packages/astropy/table/column.py:984: RuntimeWarning: invalid value encountered in less\n",
      "  result = getattr(super(), op)(other)\n",
      "/Users/rs548/anaconda/envs/herschelhelp_internal/lib/python3.6/site-packages/astropy/table/column.py:984: RuntimeWarning: invalid value encountered in less\n",
      "  result = getattr(super(), op)(other)\n",
      "/Users/rs548/anaconda/envs/herschelhelp_internal/lib/python3.6/site-packages/astropy/table/column.py:984: RuntimeWarning: invalid value encountered in less\n",
      "  result = getattr(super(), op)(other)\n",
      "/Users/rs548/anaconda/envs/herschelhelp_internal/lib/python3.6/site-packages/astropy/table/column.py:984: RuntimeWarning: invalid value encountered in less\n",
      "  result = getattr(super(), op)(other)\n",
      "/Users/rs548/anaconda/envs/herschelhelp_internal/lib/python3.6/site-packages/astropy/table/column.py:984: RuntimeWarning: invalid value encountered in less\n",
      "  result = getattr(super(), op)(other)\n",
      "/Users/rs548/anaconda/envs/herschelhelp_internal/lib/python3.6/site-packages/astropy/table/column.py:984: RuntimeWarning: invalid value encountered in less\n",
      "  result = getattr(super(), op)(other)\n",
      "/Users/rs548/anaconda/envs/herschelhelp_internal/lib/python3.6/site-packages/astropy/table/column.py:984: RuntimeWarning: invalid value encountered in less\n",
      "  result = getattr(super(), op)(other)\n",
      "/Users/rs548/anaconda/envs/herschelhelp_internal/lib/python3.6/site-packages/astropy/table/column.py:984: RuntimeWarning: invalid value encountered in less\n",
      "  result = getattr(super(), op)(other)\n",
      "/Users/rs548/anaconda/envs/herschelhelp_internal/lib/python3.6/site-packages/astropy/table/column.py:984: RuntimeWarning: invalid value encountered in less\n",
      "  result = getattr(super(), op)(other)\n",
      "/Users/rs548/anaconda/envs/herschelhelp_internal/lib/python3.6/site-packages/astropy/table/column.py:984: RuntimeWarning: invalid value encountered in less\n",
      "  result = getattr(super(), op)(other)\n",
      "/Users/rs548/anaconda/envs/herschelhelp_internal/lib/python3.6/site-packages/astropy/table/column.py:984: RuntimeWarning: invalid value encountered in less\n",
      "  result = getattr(super(), op)(other)\n",
      "/Users/rs548/anaconda/envs/herschelhelp_internal/lib/python3.6/site-packages/astropy/table/column.py:984: RuntimeWarning: invalid value encountered in less\n",
      "  result = getattr(super(), op)(other)\n",
      "/Users/rs548/anaconda/envs/herschelhelp_internal/lib/python3.6/site-packages/astropy/table/column.py:984: RuntimeWarning: invalid value encountered in less\n",
      "  result = getattr(super(), op)(other)\n",
      "/Users/rs548/anaconda/envs/herschelhelp_internal/lib/python3.6/site-packages/astropy/table/column.py:984: RuntimeWarning: invalid value encountered in less\n",
      "  result = getattr(super(), op)(other)\n",
      "/Users/rs548/anaconda/envs/herschelhelp_internal/lib/python3.6/site-packages/astropy/table/column.py:984: RuntimeWarning: invalid value encountered in less\n",
      "  result = getattr(super(), op)(other)\n",
      "/Users/rs548/anaconda/envs/herschelhelp_internal/lib/python3.6/site-packages/astropy/table/column.py:984: RuntimeWarning: invalid value encountered in less\n",
      "  result = getattr(super(), op)(other)\n",
      "/Users/rs548/anaconda/envs/herschelhelp_internal/lib/python3.6/site-packages/astropy/table/column.py:984: RuntimeWarning: invalid value encountered in less\n",
      "  result = getattr(super(), op)(other)\n",
      "/Users/rs548/anaconda/envs/herschelhelp_internal/lib/python3.6/site-packages/astropy/table/column.py:984: RuntimeWarning: invalid value encountered in less\n",
      "  result = getattr(super(), op)(other)\n",
      "/Users/rs548/anaconda/envs/herschelhelp_internal/lib/python3.6/site-packages/astropy/table/column.py:984: RuntimeWarning: invalid value encountered in less\n",
      "  result = getattr(super(), op)(other)\n",
      "/Users/rs548/anaconda/envs/herschelhelp_internal/lib/python3.6/site-packages/astropy/table/column.py:984: RuntimeWarning: invalid value encountered in less\n",
      "  result = getattr(super(), op)(other)\n",
      "/Users/rs548/anaconda/envs/herschelhelp_internal/lib/python3.6/site-packages/astropy/table/column.py:984: RuntimeWarning: invalid value encountered in less\n",
      "  result = getattr(super(), op)(other)\n",
      "/Users/rs548/anaconda/envs/herschelhelp_internal/lib/python3.6/site-packages/astropy/table/column.py:984: RuntimeWarning: invalid value encountered in less\n",
      "  result = getattr(super(), op)(other)\n",
      "/Users/rs548/anaconda/envs/herschelhelp_internal/lib/python3.6/site-packages/astropy/table/column.py:984: RuntimeWarning: invalid value encountered in less\n",
      "  result = getattr(super(), op)(other)\n",
      "/Users/rs548/anaconda/envs/herschelhelp_internal/lib/python3.6/site-packages/astropy/table/column.py:984: RuntimeWarning: invalid value encountered in less\n",
      "  result = getattr(super(), op)(other)\n",
      "/Users/rs548/anaconda/envs/herschelhelp_internal/lib/python3.6/site-packages/astropy/table/column.py:984: RuntimeWarning: invalid value encountered in less\n",
      "  result = getattr(super(), op)(other)\n",
      "/Users/rs548/anaconda/envs/herschelhelp_internal/lib/python3.6/site-packages/astropy/table/column.py:984: RuntimeWarning: invalid value encountered in less\n",
      "  result = getattr(super(), op)(other)\n",
      "/Users/rs548/anaconda/envs/herschelhelp_internal/lib/python3.6/site-packages/astropy/table/column.py:984: RuntimeWarning: invalid value encountered in less\n",
      "  result = getattr(super(), op)(other)\n",
      "/Users/rs548/anaconda/envs/herschelhelp_internal/lib/python3.6/site-packages/astropy/table/column.py:984: RuntimeWarning: invalid value encountered in less\n",
      "  result = getattr(super(), op)(other)\n",
      "/Users/rs548/anaconda/envs/herschelhelp_internal/lib/python3.6/site-packages/astropy/table/column.py:984: RuntimeWarning: invalid value encountered in less\n",
      "  result = getattr(super(), op)(other)\n",
      "/Users/rs548/anaconda/envs/herschelhelp_internal/lib/python3.6/site-packages/astropy/table/column.py:984: RuntimeWarning: invalid value encountered in less\n",
      "  result = getattr(super(), op)(other)\n",
      "/Users/rs548/anaconda/envs/herschelhelp_internal/lib/python3.6/site-packages/astropy/table/column.py:984: RuntimeWarning: invalid value encountered in less\n",
      "  result = getattr(super(), op)(other)\n",
      "/Users/rs548/anaconda/envs/herschelhelp_internal/lib/python3.6/site-packages/astropy/table/column.py:984: RuntimeWarning: invalid value encountered in less\n",
      "  result = getattr(super(), op)(other)\n",
      "/Users/rs548/anaconda/envs/herschelhelp_internal/lib/python3.6/site-packages/astropy/table/column.py:984: RuntimeWarning: invalid value encountered in less\n",
      "  result = getattr(super(), op)(other)\n",
      "/Users/rs548/anaconda/envs/herschelhelp_internal/lib/python3.6/site-packages/astropy/table/column.py:984: RuntimeWarning: invalid value encountered in less\n",
      "  result = getattr(super(), op)(other)\n",
      "/Users/rs548/anaconda/envs/herschelhelp_internal/lib/python3.6/site-packages/astropy/table/column.py:984: RuntimeWarning: invalid value encountered in less\n",
      "  result = getattr(super(), op)(other)\n",
      "/Users/rs548/anaconda/envs/herschelhelp_internal/lib/python3.6/site-packages/astropy/table/column.py:984: RuntimeWarning: invalid value encountered in less\n",
      "  result = getattr(super(), op)(other)\n",
      "/Users/rs548/anaconda/envs/herschelhelp_internal/lib/python3.6/site-packages/astropy/table/column.py:984: RuntimeWarning: invalid value encountered in less\n",
      "  result = getattr(super(), op)(other)\n",
      "/Users/rs548/anaconda/envs/herschelhelp_internal/lib/python3.6/site-packages/astropy/table/column.py:984: RuntimeWarning: invalid value encountered in less\n",
      "  result = getattr(super(), op)(other)\n",
      "/Users/rs548/anaconda/envs/herschelhelp_internal/lib/python3.6/site-packages/astropy/table/column.py:984: RuntimeWarning: invalid value encountered in less\n",
      "  result = getattr(super(), op)(other)\n",
      "/Users/rs548/anaconda/envs/herschelhelp_internal/lib/python3.6/site-packages/astropy/table/column.py:984: RuntimeWarning: invalid value encountered in less\n",
      "  result = getattr(super(), op)(other)\n",
      "/Users/rs548/anaconda/envs/herschelhelp_internal/lib/python3.6/site-packages/astropy/table/column.py:984: RuntimeWarning: invalid value encountered in less\n",
      "  result = getattr(super(), op)(other)\n",
      "/Users/rs548/anaconda/envs/herschelhelp_internal/lib/python3.6/site-packages/astropy/table/column.py:984: RuntimeWarning: invalid value encountered in less\n",
      "  result = getattr(super(), op)(other)\n",
      "/Users/rs548/anaconda/envs/herschelhelp_internal/lib/python3.6/site-packages/astropy/table/column.py:984: RuntimeWarning: invalid value encountered in less\n",
      "  result = getattr(super(), op)(other)\n",
      "/Users/rs548/anaconda/envs/herschelhelp_internal/lib/python3.6/site-packages/astropy/table/column.py:984: RuntimeWarning: invalid value encountered in less\n",
      "  result = getattr(super(), op)(other)\n",
      "/Users/rs548/anaconda/envs/herschelhelp_internal/lib/python3.6/site-packages/astropy/table/column.py:984: RuntimeWarning: invalid value encountered in less\n",
      "  result = getattr(super(), op)(other)\n",
      "/Users/rs548/anaconda/envs/herschelhelp_internal/lib/python3.6/site-packages/astropy/table/column.py:984: RuntimeWarning: invalid value encountered in less\n",
      "  result = getattr(super(), op)(other)\n",
      "/Users/rs548/anaconda/envs/herschelhelp_internal/lib/python3.6/site-packages/astropy/table/column.py:984: RuntimeWarning: invalid value encountered in less\n",
      "  result = getattr(super(), op)(other)\n",
      "/Users/rs548/anaconda/envs/herschelhelp_internal/lib/python3.6/site-packages/astropy/table/column.py:984: RuntimeWarning: invalid value encountered in less\n",
      "  result = getattr(super(), op)(other)\n",
      "/Users/rs548/anaconda/envs/herschelhelp_internal/lib/python3.6/site-packages/astropy/table/column.py:984: RuntimeWarning: invalid value encountered in less\n",
      "  result = getattr(super(), op)(other)\n",
      "/Users/rs548/anaconda/envs/herschelhelp_internal/lib/python3.6/site-packages/astropy/table/column.py:984: RuntimeWarning: invalid value encountered in less\n",
      "  result = getattr(super(), op)(other)\n",
      "/Users/rs548/anaconda/envs/herschelhelp_internal/lib/python3.6/site-packages/astropy/table/column.py:984: RuntimeWarning: invalid value encountered in less\n",
      "  result = getattr(super(), op)(other)\n",
      "/Users/rs548/anaconda/envs/herschelhelp_internal/lib/python3.6/site-packages/astropy/table/column.py:984: RuntimeWarning: invalid value encountered in less\n",
      "  result = getattr(super(), op)(other)\n",
      "/Users/rs548/anaconda/envs/herschelhelp_internal/lib/python3.6/site-packages/astropy/table/column.py:984: RuntimeWarning: invalid value encountered in less\n",
      "  result = getattr(super(), op)(other)\n",
      "/Users/rs548/anaconda/envs/herschelhelp_internal/lib/python3.6/site-packages/astropy/table/column.py:984: RuntimeWarning: invalid value encountered in less\n",
      "  result = getattr(super(), op)(other)\n",
      "/Users/rs548/anaconda/envs/herschelhelp_internal/lib/python3.6/site-packages/astropy/table/column.py:984: RuntimeWarning: invalid value encountered in less\n",
      "  result = getattr(super(), op)(other)\n",
      "/Users/rs548/anaconda/envs/herschelhelp_internal/lib/python3.6/site-packages/astropy/table/column.py:984: RuntimeWarning: invalid value encountered in less\n",
      "  result = getattr(super(), op)(other)\n",
      "/Users/rs548/anaconda/envs/herschelhelp_internal/lib/python3.6/site-packages/astropy/table/column.py:984: RuntimeWarning: invalid value encountered in less\n",
      "  result = getattr(super(), op)(other)\n",
      "/Users/rs548/anaconda/envs/herschelhelp_internal/lib/python3.6/site-packages/astropy/table/column.py:984: RuntimeWarning: invalid value encountered in less\n",
      "  result = getattr(super(), op)(other)\n",
      "/Users/rs548/anaconda/envs/herschelhelp_internal/lib/python3.6/site-packages/astropy/table/column.py:984: RuntimeWarning: invalid value encountered in less\n",
      "  result = getattr(super(), op)(other)\n",
      "/Users/rs548/anaconda/envs/herschelhelp_internal/lib/python3.6/site-packages/astropy/table/column.py:984: RuntimeWarning: invalid value encountered in less\n",
      "  result = getattr(super(), op)(other)\n",
      "/Users/rs548/anaconda/envs/herschelhelp_internal/lib/python3.6/site-packages/astropy/table/column.py:984: RuntimeWarning: invalid value encountered in less\n",
      "  result = getattr(super(), op)(other)\n",
      "/Users/rs548/anaconda/envs/herschelhelp_internal/lib/python3.6/site-packages/astropy/table/column.py:984: RuntimeWarning: invalid value encountered in less\n",
      "  result = getattr(super(), op)(other)\n",
      "/Users/rs548/anaconda/envs/herschelhelp_internal/lib/python3.6/site-packages/astropy/table/column.py:984: RuntimeWarning: invalid value encountered in less\n",
      "  result = getattr(super(), op)(other)\n",
      "/Users/rs548/anaconda/envs/herschelhelp_internal/lib/python3.6/site-packages/astropy/table/column.py:984: RuntimeWarning: invalid value encountered in less\n",
      "  result = getattr(super(), op)(other)\n",
      "/Users/rs548/anaconda/envs/herschelhelp_internal/lib/python3.6/site-packages/astropy/table/column.py:984: RuntimeWarning: invalid value encountered in less\n",
      "  result = getattr(super(), op)(other)\n",
      "/Users/rs548/anaconda/envs/herschelhelp_internal/lib/python3.6/site-packages/astropy/table/column.py:984: RuntimeWarning: invalid value encountered in less\n",
      "  result = getattr(super(), op)(other)\n",
      "/Users/rs548/anaconda/envs/herschelhelp_internal/lib/python3.6/site-packages/astropy/table/column.py:984: RuntimeWarning: invalid value encountered in less\n",
      "  result = getattr(super(), op)(other)\n",
      "/Users/rs548/anaconda/envs/herschelhelp_internal/lib/python3.6/site-packages/astropy/table/column.py:984: RuntimeWarning: invalid value encountered in less\n",
      "  result = getattr(super(), op)(other)\n",
      "/Users/rs548/anaconda/envs/herschelhelp_internal/lib/python3.6/site-packages/astropy/table/column.py:984: RuntimeWarning: invalid value encountered in less\n",
      "  result = getattr(super(), op)(other)\n",
      "/Users/rs548/anaconda/envs/herschelhelp_internal/lib/python3.6/site-packages/astropy/table/column.py:984: RuntimeWarning: invalid value encountered in less\n",
      "  result = getattr(super(), op)(other)\n",
      "/Users/rs548/anaconda/envs/herschelhelp_internal/lib/python3.6/site-packages/astropy/table/column.py:984: RuntimeWarning: invalid value encountered in less\n",
      "  result = getattr(super(), op)(other)\n",
      "/Users/rs548/anaconda/envs/herschelhelp_internal/lib/python3.6/site-packages/astropy/table/column.py:984: RuntimeWarning: invalid value encountered in less\n",
      "  result = getattr(super(), op)(other)\n",
      "/Users/rs548/anaconda/envs/herschelhelp_internal/lib/python3.6/site-packages/astropy/table/column.py:984: RuntimeWarning: invalid value encountered in less\n",
      "  result = getattr(super(), op)(other)\n"
     ]
    },
    {
     "name": "stderr",
     "output_type": "stream",
     "text": [
      "/Users/rs548/anaconda/envs/herschelhelp_internal/lib/python3.6/site-packages/astropy/table/column.py:984: RuntimeWarning: invalid value encountered in less\n",
      "  result = getattr(super(), op)(other)\n",
      "/Users/rs548/anaconda/envs/herschelhelp_internal/lib/python3.6/site-packages/astropy/table/column.py:984: RuntimeWarning: invalid value encountered in less\n",
      "  result = getattr(super(), op)(other)\n"
     ]
    },
    {
     "name": "stdout",
     "output_type": "stream",
     "text": [
      "['omegacam_u', 'mmt_u', 'bessell_u', 'lbc_u', 'wfi_u', 'megacam_u', 'mosaic_u', 'wfc_u', 'sdss_u']\n",
      "['omegacam_u', 'mmt_u', 'bessell_u', 'wfi_u', 'megacam_u', 'mosaic_u', 'wfc_u', 'sdss_u']\n",
      "['mmt_g', 'omegacam_g', 'suprime_g', 'megacam_g', 'wfc_g', 'gpc1_g', 'decam_g', '90prime_g', 'sdss_g']\n",
      "['mmt_g', 'omegacam_g', 'suprime_g', 'megacam_g', 'wfc_g', 'gpc1_g', 'decam_g', '90prime_g', 'sdss_g']\n",
      "['omegacam_r', 'mmt_r', 'cfht12k_r', 'megacam_r', 'wfi_r', 'suprime_r', 'mosaic_r', 'bessell_r', 'wfc_r', 'gpc1_r', 'decam_r', 'sdss_r', '90prime_r']\n",
      "['omegacam_r', 'mmt_r', 'cfht12k_r', 'megacam_r', 'wfi_r', 'suprime_r', 'mosaic_r', 'bessell_r', 'wfc_r', 'gpc1_r', 'decam_r', 'sdss_r', '90prime_r']\n",
      "['sdss_i', 'decam_i', 'gpc1_i', 'wfc_i', 'bessell_i', 'mosaic_i', 'megacam_i', 'wfi_i', 'suprime_i', 'cfht12k_i', 'mmt_i', 'omegacam_i']\n",
      "['sdss_i', 'decam_i', 'gpc1_i', 'wfc_i', 'bessell_i', 'mosaic_i', 'megacam_i', 'wfi_i', 'suprime_i', 'cfht12k_i', 'mmt_i', 'omegacam_i']\n",
      "['decam_z', '90prime_z', 'sdss_z', 'wfc_z', 'gpc1_z', 'suprime_z', 'megacam_z', 'vista_z', 'mosaic_z', 'omegacam_z', 'mmt_z']\n",
      "['decam_z', '90prime_z', 'sdss_z', 'wfc_z', 'gpc1_z', 'suprime_z', 'megacam_z', 'vista_z', 'mosaic_z', 'omegacam_z', 'mmt_z']\n",
      "['decam_y', 'ukidss_y', 'gpc1_y', 'suprime_y', 'megacam_y', 'vista_y', 'lbc_y', 'wircam_y']\n",
      "['decam_y', 'ukidss_y', 'gpc1_y', 'suprime_y', 'megacam_y', 'vista_y', 'wircam_y']\n"
     ]
    },
    {
     "name": "stderr",
     "output_type": "stream",
     "text": [
      "/Users/rs548/anaconda/envs/herschelhelp_internal/lib/python3.6/site-packages/ipykernel/__main__.py:20: RuntimeWarning: All-NaN axis encountered\n"
     ]
    },
    {
     "name": "stdout",
     "output_type": "stream",
     "text": [
      "['omega2000_j', 'ukidss_j', 'vista_j', 'newfirm_j', 'wircs_j', 'wircam_j']\n",
      "['omega2000_j', 'ukidss_j', 'vista_j', 'newfirm_j', 'wircs_j', 'wircam_j']\n",
      "['ukidss_h', 'vista_h', 'newfirm_h', 'wircam_h']\n",
      "['ukidss_h', 'vista_h', 'newfirm_h', 'wircam_h']\n",
      "['isaac_k', 'moircs_k', 'ukidss_k', 'newfirm_k', 'wircs_k', 'hawki_k']\n",
      "['isaac_k', 'moircs_k', 'ukidss_k', 'newfirm_k', 'wircs_k', 'hawki_k']\n",
      "['wircam_ks', 'vista_ks', 'moircs_ks', 'omega2000_ks', 'tifkam_ks']\n",
      "['wircam_ks', 'vista_ks', 'moircs_ks', 'omega2000_ks', 'tifkam_ks']\n",
      "['irac_i1']\n",
      "['irac_i1']\n",
      "['irac_i2']\n",
      "['irac_i2']\n",
      "['irac_i3']\n",
      "['irac_i3']\n",
      "['irac_i4']\n",
      "['irac_i4']\n"
     ]
    }
   ],
   "source": [
    "\n",
    "for col in depth_table.colnames:\n",
    "    if depth_table[col].dtype == 'float64':\n",
    "        depth_table[col].fill_value = np.nan\n",
    "    if col.startswith('ferr'):\n",
    "        depth_table[col][depth_table[col] < 1.e-3] *= 1.e6 \n",
    "    \n",
    "depth_table = depth_table.filled()\n",
    "coverage = Table()\n",
    "coverage.add_column(Column(data=depth_table['hp_idx_o_10'], name='hp_idx_o_10'))\n",
    "for band in bands:\n",
    "    specific_bands = [f for f in filters if f.split('_')[1] == band.lower()]\n",
    "    print(specific_bands)\n",
    "    for specific_band in specific_bands:\n",
    "        if 'ferr_ap_{}_mean'.format(specific_band) not in depth_table.colnames:\n",
    "            specific_bands.remove(specific_band)\n",
    "    print(specific_bands)\n",
    "    lowest_depths = np.nanmin([depth_table[column] for column in \n",
    "                               ['ferr_ap_{}_mean'.format(s) for s in specific_bands]]\n",
    "                              , axis=0)\n",
    "    \n",
    "    coverage.add_column(Column(data=lowest_depths, name='ferr_ap_{}_mean_min'.format(band)))"
   ]
  },
  {
   "cell_type": "code",
   "execution_count": 70,
   "metadata": {},
   "outputs": [
    {
     "data": {
      "text/html": [
       "<i>Table length=394298</i>\n",
       "<table id=\"table4904050248\" class=\"table-striped table-bordered table-condensed\">\n",
       "<thead><tr><th>hp_idx_o_10</th><th>ferr_ap_u_mean_min</th><th>ferr_ap_g_mean_min</th><th>ferr_ap_r_mean_min</th><th>ferr_ap_i_mean_min</th><th>ferr_ap_z_mean_min</th><th>ferr_ap_y_mean_min</th><th>ferr_ap_J_mean_min</th><th>ferr_ap_H_mean_min</th><th>ferr_ap_K_mean_min</th><th>ferr_ap_Ks_mean_min</th><th>ferr_ap_i1_mean_min</th><th>ferr_ap_i2_mean_min</th><th>ferr_ap_i3_mean_min</th><th>ferr_ap_i4_mean_min</th></tr></thead>\n",
       "<thead><tr><th>int64</th><th>float64</th><th>float64</th><th>float64</th><th>float64</th><th>float64</th><th>float64</th><th>float64</th><th>float64</th><th>float64</th><th>float64</th><th>float64</th><th>float64</th><th>float64</th><th>float64</th></tr></thead>\n",
       "<tr><td>1048576</td><td>0.3888968</td><td>0.01926224</td><td>0.030870374</td><td>0.041768204</td><td>0.06151843</td><td>0.14352015</td><td>1.92945241928101</td><td>1.7355504155159</td><td>6.3801355</td><td>2.36790292603629</td><td>nan</td><td>nan</td><td>nan</td><td>nan</td></tr>\n",
       "<tr><td>1048577</td><td>0.3287</td><td>0.020717567</td><td>0.03293594</td><td>0.044771805</td><td>0.06634453</td><td>0.1526159</td><td>1.91976457834244</td><td>1.66691474914551</td><td>6.573922</td><td>2.3642338684627</td><td>nan</td><td>nan</td><td>nan</td><td>nan</td></tr>\n",
       "<tr><td>1048578</td><td>0.3846171</td><td>0.021378249</td><td>0.035876982</td><td>0.047181558</td><td>0.06980607</td><td>0.15956911</td><td>2.23670622490454</td><td>2.36486881526548</td><td>6.919189</td><td>3.06828086159446</td><td>nan</td><td>nan</td><td>nan</td><td>nan</td></tr>\n",
       "<tr><td>1048579</td><td>0.37277982</td><td>0.021092668</td><td>0.03373764</td><td>0.04277464</td><td>0.063606665</td><td>0.14877433</td><td>2.08620972292764</td><td>1.8796404004097</td><td>6.4581065</td><td>2.60780441455352</td><td>nan</td><td>nan</td><td>nan</td><td>nan</td></tr>\n",
       "<tr><td>1048580</td><td>0.2911744</td><td>0.020199573</td><td>0.03168788</td><td>0.042326976</td><td>0.06250173</td><td>0.14537382</td><td>1.78109755970183</td><td>1.78018177407128</td><td>5.6970916</td><td>2.52248514782299</td><td>nan</td><td>nan</td><td>nan</td><td>nan</td></tr>\n",
       "<tr><td>1048581</td><td>0.33193266</td><td>0.022394473</td><td>0.03486983</td><td>0.04694038</td><td>0.069550596</td><td>0.16066769</td><td>1.90774633487066</td><td>2.03642669806244</td><td>6.03468</td><td>2.77342678705851</td><td>nan</td><td>nan</td><td>nan</td><td>nan</td></tr>\n",
       "<tr><td>1048582</td><td>0.31823373</td><td>0.020951325</td><td>0.033160187</td><td>0.04638167</td><td>0.06910887</td><td>0.16291834</td><td>1.95878115219948</td><td>1.83907379195804</td><td>6.4513354</td><td>2.62036830054389</td><td>nan</td><td>nan</td><td>nan</td><td>nan</td></tr>\n",
       "<tr><td>1048583</td><td>0.25143299</td><td>0.020383537</td><td>0.031862717</td><td>0.04413113</td><td>0.06531107</td><td>0.1515935</td><td>1.84046977950681</td><td>1.75781759311413</td><td>5.647315</td><td>2.52217631393604</td><td>nan</td><td>nan</td><td>nan</td><td>nan</td></tr>\n",
       "<tr><td>1048584</td><td>0.36621407</td><td>0.022677435</td><td>0.03732341</td><td>0.045192935</td><td>0.06752495</td><td>0.15900145</td><td>1.98236000979388</td><td>1.81433707039531</td><td>6.44909</td><td>2.55789082050323</td><td>nan</td><td>nan</td><td>nan</td><td>nan</td></tr>\n",
       "<tr><td>1048585</td><td>0.3486292</td><td>0.021453133</td><td>0.035325576</td><td>0.047727607</td><td>0.07056533</td><td>0.1620837</td><td>1.87658194197884</td><td>1.76719227291289</td><td>6.3426943</td><td>2.52972699237126</td><td>nan</td><td>nan</td><td>nan</td><td>nan</td></tr>\n",
       "<tr><td>...</td><td>...</td><td>...</td><td>...</td><td>...</td><td>...</td><td>...</td><td>...</td><td>...</td><td>...</td><td>...</td><td>...</td><td>...</td><td>...</td><td>...</td></tr>\n",
       "<tr><td>7000392</td><td>nan</td><td>0.0394904918657155</td><td>0.04229387314990163</td><td>0.05326698553100758</td><td>0.08633544535740562</td><td>0.3404268474428804</td><td>4.901239450772604</td><td>6.840175117765154</td><td>5.3777127999525804</td><td>nan</td><td>nan</td><td>nan</td><td>nan</td><td>nan</td></tr>\n",
       "<tr><td>7000393</td><td>nan</td><td>0.059330806574400735</td><td>0.07126002870500088</td><td>0.10206484173734982</td><td>0.17218849406792566</td><td>nan</td><td>nan</td><td>nan</td><td>nan</td><td>nan</td><td>nan</td><td>nan</td><td>nan</td><td>nan</td></tr>\n",
       "<tr><td>7000396</td><td>nan</td><td>0.34280033770348933</td><td>0.3533991646241768</td><td>1.2923103713392066</td><td>2.022006002903677</td><td>2.7723952531814575</td><td>3.232567548751831</td><td>5.363752501351493</td><td>4.35411622789171</td><td>nan</td><td>nan</td><td>nan</td><td>nan</td><td>nan</td></tr>\n",
       "<tr><td>7000400</td><td>nan</td><td>0.03391403728618031</td><td>0.036789359743681437</td><td>0.05117668405564499</td><td>0.06787620947116942</td><td>0.3338688948964761</td><td>3.500476175546646</td><td>5.527325975483861</td><td>5.044542247598821</td><td>nan</td><td>nan</td><td>nan</td><td>nan</td><td>nan</td></tr>\n",
       "<tr><td>7000401</td><td>nan</td><td>0.03454892228417579</td><td>0.037396522568203895</td><td>0.04763496337375648</td><td>0.06489686949817114</td><td>0.32496646472385954</td><td>3.3937675612313405</td><td>5.40865327835083</td><td>5.025601618630546</td><td>nan</td><td>nan</td><td>nan</td><td>nan</td><td>nan</td></tr>\n",
       "<tr><td>7000402</td><td>nan</td><td>0.03927496369732054</td><td>0.044748860566566385</td><td>0.06450666666030884</td><td>0.07829057398651328</td><td>4.756171686390534</td><td>6.445928573608398</td><td>7.600554943084717</td><td>6.771794319152832</td><td>nan</td><td>nan</td><td>nan</td><td>nan</td><td>nan</td></tr>\n",
       "<tr><td>7000403</td><td>nan</td><td>0.041530940930048624</td><td>0.04639462865889073</td><td>0.07045896060299128</td><td>0.082881796540636</td><td>2.844708283742269</td><td>3.2797275384267173</td><td>5.298804759979248</td><td>4.9634097417195635</td><td>nan</td><td>nan</td><td>nan</td><td>nan</td><td>nan</td></tr>\n",
       "<tr><td>7000404</td><td>nan</td><td>0.03801334702854982</td><td>0.04080435353473334</td><td>0.04620892308057488</td><td>0.06340826585797069</td><td>0.28847769896189374</td><td>3.973314666748047</td><td>6.007118569480048</td><td>5.45918771955702</td><td>nan</td><td>nan</td><td>nan</td><td>nan</td><td>nan</td></tr>\n",
       "<tr><td>7000405</td><td>nan</td><td>0.036335002879301706</td><td>0.041023195322070806</td><td>0.03987756400154187</td><td>0.05604921064029137</td><td>0.1984483927488327</td><td>nan</td><td>nan</td><td>4.802572250366211</td><td>nan</td><td>nan</td><td>nan</td><td>nan</td><td>nan</td></tr>\n",
       "<tr><td>7001088</td><td>nan</td><td>0.03338943598301787</td><td>0.03636889196932316</td><td>0.03876476412860014</td><td>0.0542959848071559</td><td>0.20661117672920226</td><td>3.968056082725525</td><td>6.504214286804199</td><td>5.0468034744262695</td><td>nan</td><td>nan</td><td>nan</td><td>nan</td><td>nan</td></tr>\n",
       "</table>"
      ],
      "text/plain": [
       "<Table length=394298>\n",
       "hp_idx_o_10 ferr_ap_u_mean_min ... ferr_ap_i3_mean_min ferr_ap_i4_mean_min\n",
       "   int64         float64       ...       float64             float64      \n",
       "----------- ------------------ ... ------------------- -------------------\n",
       "    1048576          0.3888968 ...                 nan                 nan\n",
       "    1048577             0.3287 ...                 nan                 nan\n",
       "    1048578          0.3846171 ...                 nan                 nan\n",
       "    1048579         0.37277982 ...                 nan                 nan\n",
       "    1048580          0.2911744 ...                 nan                 nan\n",
       "    1048581         0.33193266 ...                 nan                 nan\n",
       "    1048582         0.31823373 ...                 nan                 nan\n",
       "    1048583         0.25143299 ...                 nan                 nan\n",
       "    1048584         0.36621407 ...                 nan                 nan\n",
       "    1048585          0.3486292 ...                 nan                 nan\n",
       "        ...                ... ...                 ...                 ...\n",
       "    7000392                nan ...                 nan                 nan\n",
       "    7000393                nan ...                 nan                 nan\n",
       "    7000396                nan ...                 nan                 nan\n",
       "    7000400                nan ...                 nan                 nan\n",
       "    7000401                nan ...                 nan                 nan\n",
       "    7000402                nan ...                 nan                 nan\n",
       "    7000403                nan ...                 nan                 nan\n",
       "    7000404                nan ...                 nan                 nan\n",
       "    7000405                nan ...                 nan                 nan\n",
       "    7001088                nan ...                 nan                 nan"
      ]
     },
     "execution_count": 70,
     "metadata": {},
     "output_type": "execute_result"
    }
   ],
   "source": [
    "coverage"
   ]
  },
  {
   "cell_type": "code",
   "execution_count": 71,
   "metadata": {},
   "outputs": [],
   "source": [
    "#for m, band in enumerate(bands):\n",
    "#    field_coverages.add_column(Column(data=np.full(len(field_coverages), np.nan), name='ferr_ap_{}_mean_median'.format(band)))\n",
    "\n",
    "fields_table = Table()\n",
    "for n, field in enumerate(fields['fields']):\n",
    "    field_moc = MOC(filename=field['region'].replace('dmu_products/', '../../../'))\n",
    "    field_cells= Table()\n",
    "    field_cells.add_column(Column(data=list(field_moc.flattened(order=10)), name='hp_idx_o_10'))\n",
    "    field_cells.add_column(Column(data=np.full(len(field_cells), field['name'] ), name='field'))\n",
    "    fields_table = vstack([fields_table, field_cells])\n",
    "                           \n"
   ]
  },
  {
   "cell_type": "code",
   "execution_count": 72,
   "metadata": {},
   "outputs": [],
   "source": [
    "coverage = join(coverage, fields_table, join_type='left', keys='hp_idx_o_10')"
   ]
  },
  {
   "cell_type": "code",
   "execution_count": 73,
   "metadata": {},
   "outputs": [],
   "source": [
    "coverage.write('./data/coverage_band_overview.fits', overwrite=True)"
   ]
  },
  {
   "cell_type": "code",
   "execution_count": 74,
   "metadata": {},
   "outputs": [],
   "source": [
    "coverage = Table.read('./data/coverage_band_overview.fits')"
   ]
  },
  {
   "cell_type": "code",
   "execution_count": 75,
   "metadata": {},
   "outputs": [
    {
     "data": {
      "text/html": [
       "<i>Table masked=True length=449146</i>\n",
       "<table id=\"table4868867576\" class=\"table-striped table-bordered table-condensed\">\n",
       "<thead><tr><th>hp_idx_o_10</th><th>ferr_ap_u_mean_min</th><th>ferr_ap_g_mean_min</th><th>ferr_ap_r_mean_min</th><th>ferr_ap_i_mean_min</th><th>ferr_ap_z_mean_min</th><th>ferr_ap_y_mean_min</th><th>ferr_ap_J_mean_min</th><th>ferr_ap_H_mean_min</th><th>ferr_ap_K_mean_min</th><th>ferr_ap_Ks_mean_min</th><th>ferr_ap_i1_mean_min</th><th>ferr_ap_i2_mean_min</th><th>ferr_ap_i3_mean_min</th><th>ferr_ap_i4_mean_min</th><th>field</th></tr></thead>\n",
       "<thead><tr><th>int64</th><th>float64</th><th>float64</th><th>float64</th><th>float64</th><th>float64</th><th>float64</th><th>float64</th><th>float64</th><th>float64</th><th>float64</th><th>float64</th><th>float64</th><th>float64</th><th>float64</th><th>bytes18</th></tr></thead>\n",
       "<tr><td>1048576</td><td>0.3888968</td><td>0.01926224</td><td>0.030870374</td><td>0.041768204</td><td>0.06151843</td><td>0.14352015</td><td>1.92945241928101</td><td>1.7355504155159</td><td>6.3801355</td><td>2.36790292603629</td><td>nan</td><td>nan</td><td>nan</td><td>nan</td><td>GAMA-09</td></tr>\n",
       "<tr><td>1048577</td><td>0.3287</td><td>0.020717567</td><td>0.03293594</td><td>0.044771805</td><td>0.06634453</td><td>0.1526159</td><td>1.91976457834244</td><td>1.66691474914551</td><td>6.573922</td><td>2.3642338684627</td><td>nan</td><td>nan</td><td>nan</td><td>nan</td><td>GAMA-09</td></tr>\n",
       "<tr><td>1048578</td><td>0.3846171</td><td>0.021378249</td><td>0.035876982</td><td>0.047181558</td><td>0.06980607</td><td>0.15956911</td><td>2.23670622490454</td><td>2.36486881526548</td><td>6.919189</td><td>3.06828086159446</td><td>nan</td><td>nan</td><td>nan</td><td>nan</td><td>GAMA-09</td></tr>\n",
       "<tr><td>1048579</td><td>0.37277982</td><td>0.021092668</td><td>0.03373764</td><td>0.04277464</td><td>0.063606665</td><td>0.14877433</td><td>2.08620972292764</td><td>1.8796404004097</td><td>6.4581065</td><td>2.60780441455352</td><td>nan</td><td>nan</td><td>nan</td><td>nan</td><td>GAMA-09</td></tr>\n",
       "<tr><td>1048580</td><td>0.2911744</td><td>0.020199573</td><td>0.03168788</td><td>0.042326976</td><td>0.06250173</td><td>0.14537382</td><td>1.78109755970183</td><td>1.78018177407128</td><td>5.6970916</td><td>2.52248514782299</td><td>nan</td><td>nan</td><td>nan</td><td>nan</td><td>GAMA-09</td></tr>\n",
       "<tr><td>1048581</td><td>0.33193266</td><td>0.022394473</td><td>0.03486983</td><td>0.04694038</td><td>0.069550596</td><td>0.16066769</td><td>1.90774633487066</td><td>2.03642669806244</td><td>6.03468</td><td>2.77342678705851</td><td>nan</td><td>nan</td><td>nan</td><td>nan</td><td>GAMA-09</td></tr>\n",
       "<tr><td>1048582</td><td>0.31823373</td><td>0.020951325</td><td>0.033160187</td><td>0.04638167</td><td>0.06910887</td><td>0.16291834</td><td>1.95878115219948</td><td>1.83907379195804</td><td>6.4513354</td><td>2.62036830054389</td><td>nan</td><td>nan</td><td>nan</td><td>nan</td><td>GAMA-09</td></tr>\n",
       "<tr><td>1048583</td><td>0.25143299</td><td>0.020383537</td><td>0.031862717</td><td>0.04413113</td><td>0.06531107</td><td>0.1515935</td><td>1.84046977950681</td><td>1.75781759311413</td><td>5.647315</td><td>2.52217631393604</td><td>nan</td><td>nan</td><td>nan</td><td>nan</td><td>GAMA-09</td></tr>\n",
       "<tr><td>1048584</td><td>0.36621407</td><td>0.022677435</td><td>0.03732341</td><td>0.045192935</td><td>0.06752495</td><td>0.15900145</td><td>1.98236000979388</td><td>1.81433707039531</td><td>6.44909</td><td>2.55789082050323</td><td>nan</td><td>nan</td><td>nan</td><td>nan</td><td>GAMA-09</td></tr>\n",
       "<tr><td>1048585</td><td>0.3486292</td><td>0.021453133</td><td>0.035325576</td><td>0.047727607</td><td>0.07056533</td><td>0.1620837</td><td>1.87658194197884</td><td>1.76719227291289</td><td>6.3426943</td><td>2.52972699237126</td><td>nan</td><td>nan</td><td>nan</td><td>nan</td><td>GAMA-09</td></tr>\n",
       "<tr><td>...</td><td>...</td><td>...</td><td>...</td><td>...</td><td>...</td><td>...</td><td>...</td><td>...</td><td>...</td><td>...</td><td>...</td><td>...</td><td>...</td><td>...</td><td>...</td></tr>\n",
       "<tr><td>12042983</td><td>nan</td><td>0.470593447975413</td><td>0.705364210222036</td><td>0.980352786966052</td><td>nan</td><td>nan</td><td>nan</td><td>nan</td><td>nan</td><td>nan</td><td>nan</td><td>nan</td><td>nan</td><td>nan</td><td>N/A</td></tr>\n",
       "<tr><td>12042985</td><td>nan</td><td>0.401245270265415</td><td>0.631963384503022</td><td>0.886734809470708</td><td>nan</td><td>nan</td><td>nan</td><td>nan</td><td>nan</td><td>nan</td><td>nan</td><td>nan</td><td>nan</td><td>nan</td><td>N/A</td></tr>\n",
       "<tr><td>12043008</td><td>3.43117117596714</td><td>1.12891318891637</td><td>1.56644287506227</td><td>1.66926372262749</td><td>4.31668842759001</td><td>nan</td><td>nan</td><td>nan</td><td>nan</td><td>nan</td><td>nan</td><td>nan</td><td>nan</td><td>nan</td><td>N/A</td></tr>\n",
       "<tr><td>12043009</td><td>1.81201014966394</td><td>0.508966908339133</td><td>0.890091881795282</td><td>1.1312017674427</td><td>3.09896943585728</td><td>nan</td><td>nan</td><td>nan</td><td>nan</td><td>nan</td><td>nan</td><td>nan</td><td>nan</td><td>nan</td><td>N/A</td></tr>\n",
       "<tr><td>12043010</td><td>2.49268285441886</td><td>0.494158403628982</td><td>0.909613505597342</td><td>1.136793192659</td><td>3.12670346706475</td><td>nan</td><td>nan</td><td>nan</td><td>nan</td><td>nan</td><td>nan</td><td>nan</td><td>nan</td><td>nan</td><td>N/A</td></tr>\n",
       "<tr><td>12043011</td><td>2.09373553263053</td><td>0.577247280662618</td><td>0.991298854740798</td><td>1.22674660501041</td><td>3.39733806461695</td><td>nan</td><td>nan</td><td>nan</td><td>nan</td><td>nan</td><td>nan</td><td>nan</td><td>nan</td><td>nan</td><td>N/A</td></tr>\n",
       "<tr><td>12043012</td><td>nan</td><td>0.445860992796356</td><td>nan</td><td>1.02642671074533</td><td>nan</td><td>nan</td><td>nan</td><td>nan</td><td>nan</td><td>nan</td><td>nan</td><td>nan</td><td>nan</td><td>nan</td><td>N/A</td></tr>\n",
       "<tr><td>12043016</td><td>3.58693278533988</td><td>0.684728410968042</td><td>1.19586028947091</td><td>1.38443063072352</td><td>3.92742906404126</td><td>nan</td><td>nan</td><td>nan</td><td>nan</td><td>nan</td><td>nan</td><td>nan</td><td>nan</td><td>nan</td><td>N/A</td></tr>\n",
       "<tr><td>12043017</td><td>nan</td><td>0.462498951222175</td><td>0.85118486016068</td><td>1.08096952471151</td><td>2.88149622026963</td><td>nan</td><td>nan</td><td>nan</td><td>nan</td><td>nan</td><td>nan</td><td>nan</td><td>nan</td><td>nan</td><td>N/A</td></tr>\n",
       "<tr><td>12043018</td><td>2.01032084617047</td><td>0.592936370182139</td><td>1.04206028405916</td><td>1.31215521774914</td><td>4.08352324846221</td><td>nan</td><td>nan</td><td>nan</td><td>nan</td><td>nan</td><td>nan</td><td>nan</td><td>nan</td><td>nan</td><td>N/A</td></tr>\n",
       "</table>"
      ],
      "text/plain": [
       "<Table masked=True length=449146>\n",
       "hp_idx_o_10 ferr_ap_u_mean_min ... ferr_ap_i4_mean_min  field \n",
       "   int64         float64       ...       float64       bytes18\n",
       "----------- ------------------ ... ------------------- -------\n",
       "    1048576          0.3888968 ...                 nan GAMA-09\n",
       "    1048577             0.3287 ...                 nan GAMA-09\n",
       "    1048578          0.3846171 ...                 nan GAMA-09\n",
       "    1048579         0.37277982 ...                 nan GAMA-09\n",
       "    1048580          0.2911744 ...                 nan GAMA-09\n",
       "    1048581         0.33193266 ...                 nan GAMA-09\n",
       "    1048582         0.31823373 ...                 nan GAMA-09\n",
       "    1048583         0.25143299 ...                 nan GAMA-09\n",
       "    1048584         0.36621407 ...                 nan GAMA-09\n",
       "    1048585          0.3486292 ...                 nan GAMA-09\n",
       "        ...                ... ...                 ...     ...\n",
       "   12042983                nan ...                 nan     N/A\n",
       "   12042985                nan ...                 nan     N/A\n",
       "   12043008   3.43117117596714 ...                 nan     N/A\n",
       "   12043009   1.81201014966394 ...                 nan     N/A\n",
       "   12043010   2.49268285441886 ...                 nan     N/A\n",
       "   12043011   2.09373553263053 ...                 nan     N/A\n",
       "   12043012                nan ...                 nan     N/A\n",
       "   12043016   3.58693278533988 ...                 nan     N/A\n",
       "   12043017                nan ...                 nan     N/A\n",
       "   12043018   2.01032084617047 ...                 nan     N/A"
      ]
     },
     "execution_count": 75,
     "metadata": {},
     "output_type": "execute_result"
    }
   ],
   "source": [
    "coverage"
   ]
  },
  {
   "cell_type": "markdown",
   "metadata": {},
   "source": [
    "## Make field summaries"
   ]
  },
  {
   "cell_type": "code",
   "execution_count": 76,
   "metadata": {},
   "outputs": [
    {
     "data": {
      "text/plain": [
       "0.0032784908016061202"
      ]
     },
     "execution_count": 76,
     "metadata": {},
     "output_type": "execute_result"
    }
   ],
   "source": [
    "order10_area = MOC(order=10, cells=[1]).area_sq_deg\n",
    "order10_area"
   ]
  },
  {
   "cell_type": "code",
   "execution_count": 77,
   "metadata": {},
   "outputs": [
    {
     "name": "stderr",
     "output_type": "stream",
     "text": [
      "/Users/rs548/anaconda/envs/herschelhelp_internal/lib/python3.6/site-packages/numpy/core/fromnumeric.py:745: UserWarning: Warning: 'partition' will ignore the 'mask' of the MaskedColumn.\n",
      "  a.partition(kth, axis=axis, kind=kind, order=order)\n"
     ]
    },
    {
     "name": "stdout",
     "output_type": "stream",
     "text": [
      "Field: AKARI-NEP, i1 band coverage: 7.173337873914191, median depth = 1.6617190000000002, max depth = 9.11136\n",
      "Field: AKARI-SEP, i1 band coverage: 7.294642033573617, median depth = 1.0387509, max depth = 62.539757\n",
      "Field: Bootes, i1 band coverage: 10.117422613756487, median depth = 0.7535689270149595, max depth = 23.952327804264\n",
      "Field: CDFS-SWIRE, i1 band coverage: 8.22245493042815, median depth = 0.5481367645686981, max depth = 7.6217866678337\n",
      "Field: COSMOS, i1 band coverage: 2.212981291084131, median depth = 0.08034571709348072, max depth = 1.2336000204086304\n",
      "Field: EGS, i1 band coverage: 0.0, median depth = nan, max depth = nan\n",
      "Field: ELAIS-N1, i1 band coverage: 9.710889754357328, median depth = 0.78441163003663, max depth = 6.62454545454545\n",
      "Field: ELAIS-N2, i1 band coverage: 4.484975416597172, median depth = 0.8212270942408375, max depth = 5.89333333333333\n",
      "Field: ELAIS-S1, i1 band coverage: 7.206122781930253, median depth = 0.706632612529864, max depth = 10.5114285714286\n",
      "Field: GAMA-09, i1 band coverage: 0.0, median depth = nan, max depth = nan\n",
      "Field: GAMA-12, i1 band coverage: 0.0, median depth = nan, max depth = nan\n",
      "Field: GAMA-15, i1 band coverage: 0.0, median depth = nan, max depth = nan\n",
      "Field: HDF-N, i1 band coverage: 0.0, median depth = nan, max depth = nan\n",
      "Field: Herschel-Stripe-82, i1 band coverage: 98.92518144766308, median depth = 1.9088288565758451, max depth = 80.1761464394222\n",
      "Field: Lockman-SWIRE, i1 band coverage: 11.612414419288879, median depth = 0.6888698618707021, max depth = 4.76666666666667\n",
      "Field: HATLAS-NGP, i1 band coverage: 0.0, median depth = nan, max depth = nan\n",
      "Field: SA13, i1 band coverage: 0.0, median depth = nan, max depth = nan\n",
      "Field: HATLAS-SGP, i1 band coverage: 0.0, median depth = nan, max depth = nan\n",
      "Field: SPIRE-NEP, i1 band coverage: 0.0, median depth = nan, max depth = nan\n",
      "Field: SSDF, i1 band coverage: 94.2795599817872, median depth = 79.68621, max depth = 17731.0\n",
      "Field: xFLS, i1 band coverage: 4.091556520404438, median depth = 5.391215873751545, max depth = 1211.70427483696\n",
      "Field: XMM-13hr, i1 band coverage: 0.0, median depth = nan, max depth = nan\n",
      "Field: XMM-LSS, i1 band coverage: 10.02234638050991, median depth = 0.669229317030779, max depth = 15.175\n"
     ]
    }
   ],
   "source": [
    "#Make a list of all bands\n",
    "#this was too slow so tried to run whole query at once\n",
    "field_coverages = Table()\n",
    "field_coverages.add_column(Column(data=[field['name'] for field in fields['fields']], name='field' ))\n",
    "\n",
    "for m, band in enumerate(bands):\n",
    "    field_coverages.add_column(Column(data=np.full(len(field_coverages), np.nan), \n",
    "                                      name='{}_band_area'.format(band)))\n",
    "    field_coverages.add_column(Column(data=np.full(len(field_coverages), np.nan), \n",
    "                                      name='ferr_ap_{}_mean_meadian'.format(band)))\n",
    "\n",
    "\n",
    "for n, field in enumerate(fields['fields']):\n",
    "    in_field = coverage['field'] == field['name']\n",
    "    for m, band in enumerate(bands):\n",
    "        has_band = in_field & ~np.isnan(coverage['ferr_ap_{}_mean_min'.format(band)])\n",
    "        area = np.sum(has_band) * order10_area\n",
    "        \n",
    "        field_coverages['{}_band_area'.format(band)][field_coverages['field'] == field['name']] = area\n",
    "        \n",
    "        if np.sum(has_band) != 0:\n",
    "            depth_median = np.nanmedian(coverage['ferr_ap_{}_mean_min'.format(band)][has_band])\n",
    "            depth_max = np.nanmax(coverage['ferr_ap_{}_mean_min'.format(band)][has_band])\n",
    "        else:\n",
    "            depth_median = np.nan\n",
    "            depth_max = np.nan\n",
    "        \n",
    "        field_coverages['ferr_ap_{}_mean_meadian'.format(band)][field_coverages['field'] == field['name']] = depth_median\n",
    "        \n",
    "        if band == 'i1':\n",
    "            print(\"Field: {}, {} band coverage: {}, median depth = {}, max depth = {}\".format(field['name'],\n",
    "                                                       band,\n",
    "                                                       area,\n",
    "                                                       depth_median,\n",
    "                                                       depth_max))\n",
    "        \n",
    "        \n",
    "            "
   ]
  },
  {
   "cell_type": "code",
   "execution_count": 78,
   "metadata": {},
   "outputs": [
    {
     "data": {
      "text/html": [
       "<i>Table length=23</i>\n",
       "<table id=\"table4917933504\" class=\"table-striped table-bordered table-condensed\">\n",
       "<thead><tr><th>field</th><th>u_band_area</th><th>ferr_ap_u_mean_meadian</th><th>g_band_area</th><th>ferr_ap_g_mean_meadian</th><th>r_band_area</th><th>ferr_ap_r_mean_meadian</th><th>i_band_area</th><th>ferr_ap_i_mean_meadian</th><th>z_band_area</th><th>ferr_ap_z_mean_meadian</th><th>y_band_area</th><th>ferr_ap_y_mean_meadian</th><th>J_band_area</th><th>ferr_ap_J_mean_meadian</th><th>H_band_area</th><th>ferr_ap_H_mean_meadian</th><th>K_band_area</th><th>ferr_ap_K_mean_meadian</th><th>Ks_band_area</th><th>ferr_ap_Ks_mean_meadian</th><th>i1_band_area</th><th>ferr_ap_i1_mean_meadian</th><th>i2_band_area</th><th>ferr_ap_i2_mean_meadian</th><th>i3_band_area</th><th>ferr_ap_i3_mean_meadian</th><th>i4_band_area</th><th>ferr_ap_i4_mean_meadian</th></tr></thead>\n",
       "<thead><tr><th>str18</th><th>float64</th><th>float64</th><th>float64</th><th>float64</th><th>float64</th><th>float64</th><th>float64</th><th>float64</th><th>float64</th><th>float64</th><th>float64</th><th>float64</th><th>float64</th><th>float64</th><th>float64</th><th>float64</th><th>float64</th><th>float64</th><th>float64</th><th>float64</th><th>float64</th><th>float64</th><th>float64</th><th>float64</th><th>float64</th><th>float64</th><th>float64</th><th>float64</th></tr></thead>\n",
       "<tr><td>AKARI-NEP</td><td>0.0</td><td>nan</td><td>9.59942106710272</td><td>1.536827162750925</td><td>9.602699557904327</td><td>1.61083239572973</td><td>9.602699557904327</td><td>1.49735885594663</td><td>9.602699557904327</td><td>3.21315620879421</td><td>9.602699557904327</td><td>7.15520400483974</td><td>0.0</td><td>nan</td><td>0.0</td><td>nan</td><td>0.0</td><td>nan</td><td>0.0</td><td>nan</td><td>7.173337873914191</td><td>1.6617190000000002</td><td>7.19956580032704</td><td>1.3667493</td><td>0.0</td><td>nan</td><td>0.0</td><td>nan</td></tr>\n",
       "<tr><td>AKARI-SEP</td><td>0.0</td><td>nan</td><td>9.251901042132472</td><td>0.104915095925005</td><td>9.255179532934077</td><td>0.125698409010999</td><td>9.251901042132472</td><td>0.20756766661390752</td><td>9.248622551330865</td><td>0.391442809248999</td><td>9.21911613411641</td><td>1.377751747991525</td><td>9.14371084567947</td><td>3.6549892</td><td>8.57653193700161</td><td>5.8562853</td><td>0.0</td><td>nan</td><td>7.891327359465931</td><td>6.456957</td><td>7.294642033573617</td><td>1.0387509</td><td>7.170059383112585</td><td>0.95154566</td><td>0.0</td><td>nan</td><td>0.0</td><td>nan</td></tr>\n",
       "<tr><td>Bootes</td><td>0.0</td><td>nan</td><td>11.871415192615762</td><td>0.13059406</td><td>11.904200100631822</td><td>0.0983771149450248</td><td>11.904200100631822</td><td>0.188483000017298</td><td>11.89764311902861</td><td>0.194683520434957</td><td>11.858301229409337</td><td>4.34152971665177</td><td>11.828794812194882</td><td>1.352333866503605</td><td>9.714168245158934</td><td>1.53883572050549</td><td>9.678104846341267</td><td>2.99438841899167</td><td>5.2947626445938845</td><td>12.1435666098401</td><td>10.117422613756487</td><td>0.7535689270149595</td><td>10.107587141351669</td><td>1.0259800454185</td><td>9.983004490890636</td><td>5.41250849744194</td><td>9.973169018485818</td><td>7.358867777855445</td></tr>\n",
       "<tr><td>CDFS-SWIRE</td><td>13.218874912075878</td><td>2.171292834300915</td><td>13.471318703799549</td><td>0.0977666424488224</td><td>13.471318703799549</td><td>0.115082730555597</td><td>13.468040212997941</td><td>0.11245510773311851</td><td>13.464761722196336</td><td>0.190439038420737</td><td>13.451647758989912</td><td>0.178570739320055</td><td>10.57968981678295</td><td>2.26735938919915</td><td>10.196106392995034</td><td>0.8936069325053565</td><td>0.0</td><td>nan</td><td>10.160042994177367</td><td>0.947683537250045</td><td>8.22245493042815</td><td>0.5481367645686981</td><td>8.160163605197633</td><td>0.615964773574546</td><td>8.071644353554268</td><td>4.653515789473685</td><td>8.022466991530177</td><td>4.809375</td></tr>\n",
       "<tr><td>COSMOS</td><td>2.1965888370761006</td><td>0.02069985913500188</td><td>5.393117368642068</td><td>0.023992855570115948</td><td>5.393117368642068</td><td>0.026350057989586402</td><td>5.393117368642068</td><td>0.029323167878912267</td><td>5.393117368642068</td><td>0.04321565098551094</td><td>5.386560387038855</td><td>0.17343890659416777</td><td>5.291484153792278</td><td>3.847396804527803</td><td>5.301319626197096</td><td>4.710432613597197</td><td>5.337383025014764</td><td>5.874063080161568</td><td>2.1998673278777066</td><td>0.19619321266467543</td><td>2.212981291084131</td><td>0.08034571709348072</td><td>2.2195382726873434</td><td>0.0925659009844332</td><td>2.1310190210439783</td><td>3.8457104629305876</td><td>2.101512603829523</td><td>6.694406648476918</td></tr>\n",
       "<tr><td>EGS</td><td>3.848948201085585</td><td>0.06136235137911395</td><td>3.8587836734904037</td><td>0.0330897253496109</td><td>3.8587836734904037</td><td>0.0644414866754704</td><td>3.8555051826887974</td><td>0.09422033565637555</td><td>3.8555051826887974</td><td>0.182129986344655</td><td>3.675188188600461</td><td>5.09225178682018</td><td>3.793213857458281</td><td>6.290292</td><td>0.5639004178762527</td><td>0.1058561568713875</td><td>0.8753570440288341</td><td>1.49700838204022</td><td>0.5671789086778588</td><td>0.132265599310671</td><td>0.0</td><td>nan</td><td>0.0</td><td>nan</td><td>0.0</td><td>nan</td><td>0.0</td><td>nan</td></tr>\n",
       "<tr><td>ELAIS-N1</td><td>13.20903943967106</td><td>0.015195865</td><td>13.910636471214769</td><td>0.010846859</td><td>13.913914962016374</td><td>0.0206746535</td><td>13.897522508008343</td><td>0.0561627831144065</td><td>13.913914962016374</td><td>0.048017051500000005</td><td>13.835231182777827</td><td>0.1675075365656985</td><td>9.268293496140503</td><td>0.5481815</td><td>0.0</td><td>nan</td><td>9.284685950148532</td><td>0.6810364200000001</td><td>0.0</td><td>nan</td><td>9.710889754357328</td><td>0.78441163003663</td><td>9.730560699166965</td><td>1.032171282360025</td><td>9.638762956721994</td><td>4.9424583333333345</td><td>9.651876919928418</td><td>4.86182194616977</td></tr>\n",
       "<tr><td>ELAIS-N2</td><td>8.268353801650635</td><td>0.018435468</td><td>9.510901815459356</td><td>0.016938776</td><td>9.520737287864174</td><td>0.026051025999999998</td><td>9.520737287864174</td><td>1.276548604815555</td><td>9.520737287864174</td><td>0.061326118</td><td>9.520737287864174</td><td>5.1374358923371855</td><td>0.0</td><td>nan</td><td>0.0</td><td>nan</td><td>0.0</td><td>nan</td><td>0.0</td><td>nan</td><td>4.484975416597172</td><td>0.8212270942408375</td><td>4.47841843499396</td><td>1.053597412807315</td><td>4.422684091366656</td><td>4.78756756756757</td><td>4.406291637358626</td><td>4.64675</td></tr>\n",
       "<tr><td>ELAIS-S1</td><td>0.0</td><td>nan</td><td>9.461724453435263</td><td>0.123386014493398</td><td>9.442053508625627</td><td>0.1321958691688965</td><td>9.458445962633657</td><td>0.243956206321972</td><td>9.461724453435263</td><td>0.4426376157783</td><td>9.45516747183205</td><td>1.08228543218399</td><td>9.432218036220808</td><td>2.57862389087677</td><td>8.229011912031362</td><td>3.73898710310459</td><td>0.0</td><td>nan</td><td>9.228951606521228</td><td>5.28415390014648</td><td>7.206122781930253</td><td>0.706632612529864</td><td>7.389718266820195</td><td>0.9709450715250505</td><td>6.711070670887728</td><td>5.27769230769231</td><td>6.704513689284516</td><td>5.45833333333333</td></tr>\n",
       "<tr><td>GAMA-09</td><td>59.06201179093426</td><td>0.28324196</td><td>63.49125286390412</td><td>0.09360176</td><td>63.51420229951537</td><td>0.092538275</td><td>63.50436682711055</td><td>0.248370125</td><td>63.501088336308946</td><td>0.52900565</td><td>63.533873244325</td><td>1.4495289293054</td><td>63.468303428292884</td><td>1.90078674554825</td><td>63.41584757546718</td><td>3.11484928131104</td><td>59.97671072458236</td><td>6.09829165</td><td>56.55724481850718</td><td>3.08633001453905</td><td>0.0</td><td>nan</td><td>0.0</td><td>nan</td><td>0.0</td><td>nan</td><td>0.0</td><td>nan</td></tr>\n",
       "<tr><td>...</td><td>...</td><td>...</td><td>...</td><td>...</td><td>...</td><td>...</td><td>...</td><td>...</td><td>...</td><td>...</td><td>...</td><td>...</td><td>...</td><td>...</td><td>...</td><td>...</td><td>...</td><td>...</td><td>...</td><td>...</td><td>...</td><td>...</td><td>...</td><td>...</td><td>...</td><td>...</td><td>...</td><td>...</td></tr>\n",
       "<tr><td>Herschel-Stripe-82</td><td>115.75039624150568</td><td>0.28281020784016797</td><td>366.85656371812166</td><td>0.13312250161150452</td><td>366.9483614605666</td><td>0.1607005552674815</td><td>366.8500067365184</td><td>0.2505212891630565</td><td>366.9549184421698</td><td>0.438992619723303</td><td>368.0400988975015</td><td>1.66655107462496</td><td>356.0768859624407</td><td>4.01589206055859</td><td>351.28045391969096</td><td>5.46538630775783</td><td>233.90392624058865</td><td>6.27123086397038</td><td>241.21823921897192</td><td>6.5121349945212845</td><td>98.92518144766308</td><td>1.9088288565758451</td><td>99.02681466251286</td><td>1.84950237989795</td><td>0.0</td><td>nan</td><td>0.0</td><td>nan</td></tr>\n",
       "<tr><td>Lockman-SWIRE</td><td>14.805664460053238</td><td>0.012160642999999999</td><td>22.119977438436493</td><td>0.010908862</td><td>22.1232559292381</td><td>0.0158166105</td><td>22.09702800282525</td><td>1.22765921174757</td><td>22.051129131602764</td><td>0.042485971</td><td>21.975723843165824</td><td>6.2348010206086</td><td>20.434833166410947</td><td>5.50630805803382</td><td>0.0</td><td>nan</td><td>8.61915231742249</td><td>0.6219037</td><td>0.0</td><td>nan</td><td>11.612414419288879</td><td>0.6888698618707021</td><td>11.612414419288879</td><td>0.942080821221227</td><td>11.451768370010178</td><td>5.01866666666667</td><td>11.451768370010178</td><td>5.26111111111111</td></tr>\n",
       "<tr><td>HATLAS-NGP</td><td>0.0</td><td>nan</td><td>179.57605516717362</td><td>1.13681224196556</td><td>179.58916913038004</td><td>1.0795281666189451</td><td>179.57277667637203</td><td>1.2273446313397</td><td>179.6186755475945</td><td>1.0867627</td><td>179.57277667637203</td><td>3.2590716</td><td>177.19914933600919</td><td>4.1193457</td><td>177.2548836796365</td><td>5.139570300000001</td><td>178.35317809817454</td><td>5.7126484</td><td>0.0</td><td>nan</td><td>0.0</td><td>nan</td><td>0.0</td><td>nan</td><td>0.0</td><td>nan</td><td>0.0</td><td>nan</td></tr>\n",
       "<tr><td>SA13</td><td>0.0</td><td>nan</td><td>0.28195020893812633</td><td>0.19077162</td><td>0.28522869973973247</td><td>0.310113</td><td>0.0</td><td>nan</td><td>0.28522869973973247</td><td>1.0367432</td><td>0.0</td><td>nan</td><td>0.3376845525654304</td><td>6.8016524</td><td>0.0</td><td>nan</td><td>0.0</td><td>nan</td><td>0.0</td><td>nan</td><td>0.0</td><td>nan</td><td>0.0</td><td>nan</td><td>0.0</td><td>nan</td><td>0.0</td><td>nan</td></tr>\n",
       "<tr><td>HATLAS-SGP</td><td>0.0</td><td>nan</td><td>179.57605516717362</td><td>1.13681224196556</td><td>179.58916913038004</td><td>1.0795281666189451</td><td>179.57277667637203</td><td>1.2273446313397</td><td>179.6186755475945</td><td>1.0867627</td><td>179.57277667637203</td><td>3.2590716</td><td>177.19914933600919</td><td>4.1193457</td><td>177.2548836796365</td><td>5.139570300000001</td><td>178.35317809817454</td><td>5.7126484</td><td>0.0</td><td>nan</td><td>0.0</td><td>nan</td><td>0.0</td><td>nan</td><td>0.0</td><td>nan</td><td>0.0</td><td>nan</td></tr>\n",
       "<tr><td>SPIRE-NEP</td><td>0.0</td><td>nan</td><td>0.16392454008030602</td><td>1.55082952822566</td><td>0.16392454008030602</td><td>1.583133793801325</td><td>0.16392454008030602</td><td>1.63476561565194</td><td>0.16392454008030602</td><td>3.8823939628278303</td><td>0.16392454008030602</td><td>7.08925699700644</td><td>0.0</td><td>nan</td><td>0.0</td><td>nan</td><td>0.0</td><td>nan</td><td>0.0</td><td>nan</td><td>0.0</td><td>nan</td><td>0.0</td><td>nan</td><td>0.0</td><td>nan</td><td>0.0</td><td>nan</td></tr>\n",
       "<tr><td>SSDF</td><td>0.0</td><td>nan</td><td>112.77024810284571</td><td>0.107691356484737</td><td>112.78008357525054</td><td>0.13076024198950348</td><td>112.77680508444892</td><td>0.209138197405894</td><td>112.77680508444892</td><td>0.367745113347188</td><td>112.72762772242484</td><td>1.1696262000282052</td><td>111.67523217510927</td><td>2.6950576</td><td>97.96786213359408</td><td>4.07128</td><td>0.0</td><td>nan</td><td>107.49187791225987</td><td>5.464754</td><td>94.2795599817872</td><td>79.68621</td><td>92.97144215194636</td><td>86.92516</td><td>0.0</td><td>nan</td><td>0.0</td><td>nan</td></tr>\n",
       "<tr><td>xFLS</td><td>4.72430524511442</td><td>2.4389915</td><td>7.825757543433809</td><td>0.16266994</td><td>7.855263960648264</td><td>0.08979115</td><td>7.842149997441839</td><td>1.45430361333212</td><td>7.838871506640234</td><td>2.47723755139006</td><td>7.829036034235415</td><td>6.22290315975504</td><td>5.616054743151284</td><td>6.0884147</td><td>0.0</td><td>nan</td><td>0.0</td><td>nan</td><td>0.0</td><td>nan</td><td>4.091556520404438</td><td>5.391215873751545</td><td>4.065328593991589</td><td>6.001673211030055</td><td>3.9636953791417993</td><td>21.0148110529703</td><td>3.9636953791417993</td><td>20.4360184558011</td></tr>\n",
       "<tr><td>XMM-13hr</td><td>0.0</td><td>nan</td><td>0.8491291176159852</td><td>0.203149</td><td>0.8491291176159852</td><td>0.20270073</td><td>0.0</td><td>nan</td><td>0.8458506268143791</td><td>0.83700032</td><td>0.0</td><td>nan</td><td>0.8655215716240158</td><td>6.18549875</td><td>0.0</td><td>nan</td><td>0.0</td><td>nan</td><td>0.0</td><td>nan</td><td>0.0</td><td>nan</td><td>0.0</td><td>nan</td><td>0.0</td><td>nan</td><td>0.0</td><td>nan</td></tr>\n",
       "<tr><td>XMM-LSS</td><td>18.867714563243222</td><td>0.0522112322398103</td><td>22.447826518597104</td><td>0.0222373198474122</td><td>22.451105009398713</td><td>0.03863177234339065</td><td>22.451105009398713</td><td>0.043623703745848855</td><td>22.447826518597104</td><td>0.0900361084884592</td><td>22.437991046192288</td><td>0.18066349603606952</td><td>22.329800849739286</td><td>2.59141069192153</td><td>21.070860381922536</td><td>3.55862103189741</td><td>7.117603530286887</td><td>0.596759371819549</td><td>21.992116297173855</td><td>5.1315355474298645</td><td>10.02234638050991</td><td>0.669229317030779</td><td>9.822358441611936</td><td>0.7878361639525785</td><td>9.33714180297423</td><td>5.848945454545454</td><td>9.346977275379048</td><td>6.38166666666667</td></tr>\n",
       "</table>"
      ],
      "text/plain": [
       "<Table length=23>\n",
       "      field           u_band_area     ... ferr_ap_i4_mean_meadian\n",
       "      str18             float64       ...         float64        \n",
       "------------------ ------------------ ... -----------------------\n",
       "         AKARI-NEP                0.0 ...                     nan\n",
       "         AKARI-SEP                0.0 ...                     nan\n",
       "            Bootes                0.0 ...       7.358867777855445\n",
       "        CDFS-SWIRE 13.218874912075878 ...                4.809375\n",
       "            COSMOS 2.1965888370761006 ...       6.694406648476918\n",
       "               EGS  3.848948201085585 ...                     nan\n",
       "          ELAIS-N1  13.20903943967106 ...        4.86182194616977\n",
       "          ELAIS-N2  8.268353801650635 ...                 4.64675\n",
       "          ELAIS-S1                0.0 ...        5.45833333333333\n",
       "           GAMA-09  59.06201179093426 ...                     nan\n",
       "               ...                ... ...                     ...\n",
       "Herschel-Stripe-82 115.75039624150568 ...                     nan\n",
       "     Lockman-SWIRE 14.805664460053238 ...        5.26111111111111\n",
       "        HATLAS-NGP                0.0 ...                     nan\n",
       "              SA13                0.0 ...                     nan\n",
       "        HATLAS-SGP                0.0 ...                     nan\n",
       "         SPIRE-NEP                0.0 ...                     nan\n",
       "              SSDF                0.0 ...                     nan\n",
       "              xFLS   4.72430524511442 ...        20.4360184558011\n",
       "          XMM-13hr                0.0 ...                     nan\n",
       "           XMM-LSS 18.867714563243222 ...        6.38166666666667"
      ]
     },
     "execution_count": 78,
     "metadata": {},
     "output_type": "execute_result"
    }
   ],
   "source": [
    "field_coverages"
   ]
  },
  {
   "cell_type": "code",
   "execution_count": 79,
   "metadata": {},
   "outputs": [
    {
     "name": "stderr",
     "output_type": "stream",
     "text": [
      "/Users/rs548/anaconda/envs/herschelhelp_internal/lib/python3.6/site-packages/astropy/table/column.py:984: RuntimeWarning: invalid value encountered in greater\n",
      "  result = getattr(super(), op)(other)\n"
     ]
    },
    {
     "data": {
      "text/html": [
       "<i>Table length=1</i>\n",
       "<table id=\"table4797435744\" class=\"table-striped table-bordered table-condensed\">\n",
       "<thead><tr><th>field</th><th>ferr_ap_i1_mean_meadian</th></tr></thead>\n",
       "<thead><tr><th>str18</th><th>float64</th></tr></thead>\n",
       "<tr><td>SSDF</td><td>79.68621</td></tr>\n",
       "</table>"
      ],
      "text/plain": [
       "<Table length=1>\n",
       "field ferr_ap_i1_mean_meadian\n",
       "str18         float64        \n",
       "----- -----------------------\n",
       " SSDF                79.68621"
      ]
     },
     "execution_count": 79,
     "metadata": {},
     "output_type": "execute_result"
    }
   ],
   "source": [
    "field_coverages['field', 'ferr_ap_i1_mean_meadian'][field_coverages['ferr_ap_i1_mean_meadian'] > 10]"
   ]
  },
  {
   "cell_type": "code",
   "execution_count": 80,
   "metadata": {},
   "outputs": [],
   "source": [
    "field_coverages.write('./data/field_coverages_band_overview.fits', overwrite=True)"
   ]
  },
  {
   "cell_type": "code",
   "execution_count": 81,
   "metadata": {},
   "outputs": [],
   "source": [
    "field_coverages = Table.read('./data/field_coverages_band_overview.fits')"
   ]
  },
  {
   "cell_type": "code",
   "execution_count": 82,
   "metadata": {},
   "outputs": [],
   "source": [
    "table = 'field '\n",
    "for band in bands:\n",
    "    table += '& \\\\multicolumn{2}{c}{' + band + '}'\n",
    "    \n",
    "table += ' \\\\\\\\ \\n'\n",
    "\n",
    "table += '\\\\cline{1-29} \\n'\n",
    "\n",
    "for band in bands:\n",
    "    table += '& a & \\\\sigma '\n",
    "\n",
    "table += '\\\\\\\\ \\n'"
   ]
  },
  {
   "cell_type": "code",
   "execution_count": 83,
   "metadata": {},
   "outputs": [
    {
     "data": {
      "text/plain": [
       "29"
      ]
     },
     "execution_count": 83,
     "metadata": {},
     "output_type": "execute_result"
    }
   ],
   "source": [
    "len('AKARI-NEP&&&9.6&1.5&9.6&1.6&9.6&1.5&9.6&3.2&9.6&7.2&&&&&&&&&7.2&1.7&7.2&1.4&&&&\\\\'.split('&'))"
   ]
  },
  {
   "cell_type": "code",
   "execution_count": 84,
   "metadata": {},
   "outputs": [
    {
     "name": "stdout",
     "output_type": "stream",
     "text": [
      "field & \\multicolumn{2}{c}{u}& \\multicolumn{2}{c}{g}& \\multicolumn{2}{c}{r}& \\multicolumn{2}{c}{i}& \\multicolumn{2}{c}{z}& \\multicolumn{2}{c}{y}& \\multicolumn{2}{c}{J}& \\multicolumn{2}{c}{H}& \\multicolumn{2}{c}{K}& \\multicolumn{2}{c}{Ks}& \\multicolumn{2}{c}{i1}& \\multicolumn{2}{c}{i2}& \\multicolumn{2}{c}{i3}& \\multicolumn{2}{c}{i4} \\\\ \n",
      "\\cline{1-29} \n",
      "& a & \\sigma & a & \\sigma & a & \\sigma & a & \\sigma & a & \\sigma & a & \\sigma & a & \\sigma & a & \\sigma & a & \\sigma & a & \\sigma & a & \\sigma & a & \\sigma & a & \\sigma & a & \\sigma \\\\ \n",
      "\n"
     ]
    }
   ],
   "source": [
    "print(table)"
   ]
  },
  {
   "cell_type": "code",
   "execution_count": 85,
   "metadata": {},
   "outputs": [
    {
     "name": "stdout",
     "output_type": "stream",
     "text": [
      "AKARI-NEP&&&9.6&1.5&9.6&1.6&9.6&1.5&9.6&3.2&9.6&7.2&&&&&&&&&7.2&1.7&7.2&1.4&&&&\\\\\n",
      "AKARI-SEP&&&9.3&0.1&9.3&0.1&9.3&0.2&9.2&0.4&9.2&1.4&9.1&3.7&8.6&5.9&&&7.9&6.5&7.3&1.0&7.2&1.0&&&&\\\\\n",
      "Bootes&&&11.9&0.1&11.9&0.1&11.9&0.2&11.9&0.2&11.9&4.3&11.8&1.4&9.7&1.5&9.7&3.0&5.3&12.1&10.1&0.8&10.1&1.0&10.0&5.4&10.0&7.4\\\\\n",
      "CDFS-SWIRE&13.2&2.2&13.5&0.1&13.5&0.1&13.5&0.1&13.5&0.2&13.5&0.2&10.6&2.3&10.2&0.9&&&10.2&0.9&8.2&0.5&8.2&0.6&8.1&4.7&8.0&4.8\\\\\n",
      "COSMOS&2.2&0.0&5.4&0.0&5.4&0.0&5.4&0.0&5.4&0.0&5.4&0.2&5.3&3.8&5.3&4.7&5.3&5.9&2.2&0.2&2.2&0.1&2.2&0.1&2.1&3.8&2.1&6.7\\\\\n",
      "EGS&3.8&0.1&3.9&0.0&3.9&0.1&3.9&0.1&3.9&0.2&3.7&5.1&3.8&6.3&0.6&0.1&0.9&1.5&0.6&0.1&&&&&&&&\\\\\n",
      "ELAIS-N1&13.2&0.0&13.9&0.0&13.9&0.0&13.9&0.1&13.9&0.0&13.8&0.2&9.3&0.5&&&9.3&0.7&&&9.7&0.8&9.7&1.0&9.6&4.9&9.7&4.9\\\\\n",
      "ELAIS-N2&8.3&0.0&9.5&0.0&9.5&0.0&9.5&1.3&9.5&0.1&9.5&5.1&&&&&&&&&4.5&0.8&4.5&1.1&4.4&4.8&4.4&4.6\\\\\n",
      "ELAIS-S1&&&9.5&0.1&9.4&0.1&9.5&0.2&9.5&0.4&9.5&1.1&9.4&2.6&8.2&3.7&&&9.2&5.3&7.2&0.7&7.4&1.0&6.7&5.3&6.7&5.5\\\\\n",
      "GAMA-09&59.1&0.3&63.5&0.1&63.5&0.1&63.5&0.2&63.5&0.5&63.5&1.4&63.5&1.9&63.4&3.1&60.0&6.1&56.6&3.1&&&&&&&&\\\\\n",
      "GAMA-12&62.1&0.2&64.2&0.1&64.2&0.1&64.2&0.4&64.2&0.5&64.1&1.4&64.1&1.7&64.0&2.7&62.4&6.3&61.8&2.9&&&&&&&&\\\\\n",
      "GAMA-15&62.0&0.3&63.2&0.1&63.3&0.1&63.2&0.3&63.2&0.6&63.2&1.4&63.0&1.5&63.1&2.5&62.1&6.6&60.6&2.8&&&&&&&&\\\\\n",
      "HDF-N&0.3&0.0&0.8&1.2&0.8&1.2&0.8&1.5&0.8&2.8&0.8&5.0&&&&&&&&&&&&&&&&\\\\\n",
      "Herschel-Stripe-82&115.8&0.3&366.9&0.1&366.9&0.2&366.9&0.3&367.0&0.4&368.0&1.7&356.1&4.0&351.3&5.5&233.9&6.3&241.2&6.5&98.9&1.9&99.0&1.8&&&&\\\\\n",
      "Lockman-SWIRE&14.8&0.0&22.1&0.0&22.1&0.0&22.1&1.2&22.1&0.0&22.0&6.2&20.4&5.5&&&8.6&0.6&&&11.6&0.7&11.6&0.9&11.5&5.0&11.5&5.3\\\\\n",
      "HATLAS-NGP&&&179.6&1.1&179.6&1.1&179.6&1.2&179.6&1.1&179.6&3.3&177.2&4.1&177.3&5.1&178.4&5.7&&&&&&&&&&\\\\\n",
      "SA13&&&0.3&0.2&0.3&0.3&&&0.3&1.0&&&0.3&6.8&&&&&&&&&&&&&&\\\\\n",
      "HATLAS-SGP&&&179.6&1.1&179.6&1.1&179.6&1.2&179.6&1.1&179.6&3.3&177.2&4.1&177.3&5.1&178.4&5.7&&&&&&&&&&\\\\\n",
      "SPIRE-NEP&&&0.2&1.6&0.2&1.6&0.2&1.6&0.2&3.9&0.2&7.1&&&&&&&&&&&&&&&&\\\\\n",
      "SSDF&&&112.8&0.1&112.8&0.1&112.8&0.2&112.8&0.4&112.7&1.2&111.7&2.7&98.0&4.1&&&107.5&5.5&94.3&79.7&93.0&86.9&&&&\\\\\n",
      "xFLS&4.7&2.4&7.8&0.2&7.9&0.1&7.8&1.5&7.8&2.5&7.8&6.2&5.6&6.1&&&&&&&4.1&5.4&4.1&6.0&4.0&21.0&4.0&20.4\\\\\n",
      "XMM-13hr&&&0.8&0.2&0.8&0.2&&&0.8&0.8&&&0.9&6.2&&&&&&&&&&&&&&\\\\\n",
      "XMM-LSS&18.9&0.1&22.4&0.0&22.5&0.0&22.5&0.0&22.4&0.1&22.4&0.2&22.3&2.6&21.1&3.6&7.1&0.6&22.0&5.1&10.0&0.7&9.8&0.8&9.3&5.8&9.3&6.4\\\\\n"
     ]
    }
   ],
   "source": [
    "\n",
    "\n",
    "for n, field in enumerate(field_coverages):\n",
    "    latex = ''\n",
    "    for element in field:\n",
    "\n",
    "\n",
    "        if isinstance(element , float):\n",
    "            if np.isnan(element):\n",
    "                element = ''\n",
    "            elif np.isclose(element, 0.0):\n",
    "                element = ''\n",
    "            else:\n",
    "                element = round(element,1)\n",
    "\n",
    "\n",
    "        \n",
    "        latex +=  str(element) + '&' \n",
    "    print(latex[:-1] + '\\\\\\\\')\n",
    "    table += latex[:-1] + '\\\\\\\\ \\n'\n",
    "\n",
    "table += '\\\\hline'"
   ]
  },
  {
   "cell_type": "code",
   "execution_count": 86,
   "metadata": {},
   "outputs": [
    {
     "name": "stdout",
     "output_type": "stream",
     "text": [
      "field & \\multicolumn{2}{c}{u}& \\multicolumn{2}{c}{g}& \\multicolumn{2}{c}{r}& \\multicolumn{2}{c}{i}& \\multicolumn{2}{c}{z}& \\multicolumn{2}{c}{y}& \\multicolumn{2}{c}{J}& \\multicolumn{2}{c}{H}& \\multicolumn{2}{c}{K}& \\multicolumn{2}{c}{Ks}& \\multicolumn{2}{c}{i1}& \\multicolumn{2}{c}{i2}& \\multicolumn{2}{c}{i3}& \\multicolumn{2}{c}{i4} \\\\ \n",
      "\\cline{1-29} \n",
      "& a & \\sigma & a & \\sigma & a & \\sigma & a & \\sigma & a & \\sigma & a & \\sigma & a & \\sigma & a & \\sigma & a & \\sigma & a & \\sigma & a & \\sigma & a & \\sigma & a & \\sigma & a & \\sigma \\\\ \n",
      "AKARI-NEP&&&9.6&1.5&9.6&1.6&9.6&1.5&9.6&3.2&9.6&7.2&&&&&&&&&7.2&1.7&7.2&1.4&&&&\\\\ \n",
      "AKARI-SEP&&&9.3&0.1&9.3&0.1&9.3&0.2&9.2&0.4&9.2&1.4&9.1&3.7&8.6&5.9&&&7.9&6.5&7.3&1.0&7.2&1.0&&&&\\\\ \n",
      "Bootes&&&11.9&0.1&11.9&0.1&11.9&0.2&11.9&0.2&11.9&4.3&11.8&1.4&9.7&1.5&9.7&3.0&5.3&12.1&10.1&0.8&10.1&1.0&10.0&5.4&10.0&7.4\\\\ \n",
      "CDFS-SWIRE&13.2&2.2&13.5&0.1&13.5&0.1&13.5&0.1&13.5&0.2&13.5&0.2&10.6&2.3&10.2&0.9&&&10.2&0.9&8.2&0.5&8.2&0.6&8.1&4.7&8.0&4.8\\\\ \n",
      "COSMOS&2.2&0.0&5.4&0.0&5.4&0.0&5.4&0.0&5.4&0.0&5.4&0.2&5.3&3.8&5.3&4.7&5.3&5.9&2.2&0.2&2.2&0.1&2.2&0.1&2.1&3.8&2.1&6.7\\\\ \n",
      "EGS&3.8&0.1&3.9&0.0&3.9&0.1&3.9&0.1&3.9&0.2&3.7&5.1&3.8&6.3&0.6&0.1&0.9&1.5&0.6&0.1&&&&&&&&\\\\ \n",
      "ELAIS-N1&13.2&0.0&13.9&0.0&13.9&0.0&13.9&0.1&13.9&0.0&13.8&0.2&9.3&0.5&&&9.3&0.7&&&9.7&0.8&9.7&1.0&9.6&4.9&9.7&4.9\\\\ \n",
      "ELAIS-N2&8.3&0.0&9.5&0.0&9.5&0.0&9.5&1.3&9.5&0.1&9.5&5.1&&&&&&&&&4.5&0.8&4.5&1.1&4.4&4.8&4.4&4.6\\\\ \n",
      "ELAIS-S1&&&9.5&0.1&9.4&0.1&9.5&0.2&9.5&0.4&9.5&1.1&9.4&2.6&8.2&3.7&&&9.2&5.3&7.2&0.7&7.4&1.0&6.7&5.3&6.7&5.5\\\\ \n",
      "GAMA-09&59.1&0.3&63.5&0.1&63.5&0.1&63.5&0.2&63.5&0.5&63.5&1.4&63.5&1.9&63.4&3.1&60.0&6.1&56.6&3.1&&&&&&&&\\\\ \n",
      "GAMA-12&62.1&0.2&64.2&0.1&64.2&0.1&64.2&0.4&64.2&0.5&64.1&1.4&64.1&1.7&64.0&2.7&62.4&6.3&61.8&2.9&&&&&&&&\\\\ \n",
      "GAMA-15&62.0&0.3&63.2&0.1&63.3&0.1&63.2&0.3&63.2&0.6&63.2&1.4&63.0&1.5&63.1&2.5&62.1&6.6&60.6&2.8&&&&&&&&\\\\ \n",
      "HDF-N&0.3&0.0&0.8&1.2&0.8&1.2&0.8&1.5&0.8&2.8&0.8&5.0&&&&&&&&&&&&&&&&\\\\ \n",
      "Herschel-Stripe-82&115.8&0.3&366.9&0.1&366.9&0.2&366.9&0.3&367.0&0.4&368.0&1.7&356.1&4.0&351.3&5.5&233.9&6.3&241.2&6.5&98.9&1.9&99.0&1.8&&&&\\\\ \n",
      "Lockman-SWIRE&14.8&0.0&22.1&0.0&22.1&0.0&22.1&1.2&22.1&0.0&22.0&6.2&20.4&5.5&&&8.6&0.6&&&11.6&0.7&11.6&0.9&11.5&5.0&11.5&5.3\\\\ \n",
      "HATLAS-NGP&&&179.6&1.1&179.6&1.1&179.6&1.2&179.6&1.1&179.6&3.3&177.2&4.1&177.3&5.1&178.4&5.7&&&&&&&&&&\\\\ \n",
      "SA13&&&0.3&0.2&0.3&0.3&&&0.3&1.0&&&0.3&6.8&&&&&&&&&&&&&&\\\\ \n",
      "HATLAS-SGP&&&179.6&1.1&179.6&1.1&179.6&1.2&179.6&1.1&179.6&3.3&177.2&4.1&177.3&5.1&178.4&5.7&&&&&&&&&&\\\\ \n",
      "SPIRE-NEP&&&0.2&1.6&0.2&1.6&0.2&1.6&0.2&3.9&0.2&7.1&&&&&&&&&&&&&&&&\\\\ \n",
      "SSDF&&&112.8&0.1&112.8&0.1&112.8&0.2&112.8&0.4&112.7&1.2&111.7&2.7&98.0&4.1&&&107.5&5.5&94.3&79.7&93.0&86.9&&&&\\\\ \n",
      "xFLS&4.7&2.4&7.8&0.2&7.9&0.1&7.8&1.5&7.8&2.5&7.8&6.2&5.6&6.1&&&&&&&4.1&5.4&4.1&6.0&4.0&21.0&4.0&20.4\\\\ \n",
      "XMM-13hr&&&0.8&0.2&0.8&0.2&&&0.8&0.8&&&0.9&6.2&&&&&&&&&&&&&&\\\\ \n",
      "XMM-LSS&18.9&0.1&22.4&0.0&22.5&0.0&22.5&0.0&22.4&0.1&22.4&0.2&22.3&2.6&21.1&3.6&7.1&0.6&22.0&5.1&10.0&0.7&9.8&0.8&9.3&5.8&9.3&6.4\\\\ \n",
      "\\hline\n"
     ]
    }
   ],
   "source": [
    "print(table)"
   ]
  },
  {
   "cell_type": "code",
   "execution_count": 87,
   "metadata": {},
   "outputs": [
    {
     "data": {
      "text/plain": [
       "nan"
      ]
     },
     "execution_count": 87,
     "metadata": {},
     "output_type": "execute_result"
    }
   ],
   "source": [
    "round(np.nan,2)"
   ]
  },
  {
   "cell_type": "code",
   "execution_count": 88,
   "metadata": {},
   "outputs": [
    {
     "data": {
      "text/plain": [
       "10"
      ]
     },
     "execution_count": 88,
     "metadata": {},
     "output_type": "execute_result"
    }
   ],
   "source": [
    "np.sum(np.isnan(field_coverages['ferr_ap_u_mean_meadian']))"
   ]
  },
  {
   "cell_type": "markdown",
   "metadata": {},
   "source": [
    "## Plot general overview of depths"
   ]
  },
  {
   "cell_type": "code",
   "execution_count": 89,
   "metadata": {},
   "outputs": [
    {
     "name": "stderr",
     "output_type": "stream",
     "text": [
      "/Users/rs548/anaconda/envs/herschelhelp_internal/lib/python3.6/site-packages/astropy/table/column.py:984: RuntimeWarning: invalid value encountered in greater\n",
      "  result = getattr(super(), op)(other)\n",
      "/Users/rs548/anaconda/envs/herschelhelp_internal/lib/python3.6/site-packages/astropy/table/column.py:984: RuntimeWarning: invalid value encountered in less\n",
      "  result = getattr(super(), op)(other)\n"
     ]
    }
   ],
   "source": [
    "def depths_sample(band):\n",
    "    mask = ~np.isnan(coverage['ferr_ap_{}_mean_min'.format(band)])\n",
    "    mask &= coverage['ferr_ap_{}_mean_min'.format(band)] > 0.\n",
    "    mask &= coverage['ferr_ap_{}_mean_min'.format(band)] <1.e3\n",
    "    area = (np.sum(mask)/len(coverage)) * 1270.\n",
    "    return np.log10(np.array(coverage['ferr_ap_{}_mean_min'.format(band)][mask]) *5.e-6 ), area\n",
    "    \n",
    "\n",
    "data = [ depths_sample(band)[0] for band in bands ]\n",
    "areas = [ depths_sample(band)[1] for band in bands ]"
   ]
  },
  {
   "cell_type": "code",
   "execution_count": 140,
   "metadata": {},
   "outputs": [
    {
     "data": {
      "text/plain": [
       "['u', 'g', 'r', 'i', 'z', 'y', 'J', 'H', 'K', 'Ks', 'i1', 'i2', 'i3', 'i4']"
      ]
     },
     "execution_count": 140,
     "metadata": {},
     "output_type": "execute_result"
    }
   ],
   "source": [
    "bands"
   ]
  },
  {
   "cell_type": "code",
   "execution_count": 156,
   "metadata": {},
   "outputs": [],
   "source": [
    "bands_fir = ['u', 'g', 'r', 'i', 'z', 'y', 'J', 'H', 'K', 'Ks', 'i1', 'i2', 'i3', 'i4', \n",
    "             '24', '100', '160', '250', '350', '500']"
   ]
  },
  {
   "cell_type": "code",
   "execution_count": 149,
   "metadata": {},
   "outputs": [],
   "source": [
    "en1_depths = Table.read('../../../dmu32/dmu32_ELAIS-N1/data/depths_elais-n1_20171016.fits'\n",
    "                       )['hp_idx_O_10', \n",
    "           'ferr_mips_24_mean',\n",
    "           'ferr_pacs_green_mean',\n",
    "           'ferr_pacs_red_mean',\n",
    "           'ferr_spire_250_mean',\n",
    "           'ferr_spire_350_mean',\n",
    "           'ferr_spire_500_mean']\n",
    "en1_depths['hp_idx_O_10'].name = 'hp_idx_o_10'"
   ]
  },
  {
   "cell_type": "code",
   "execution_count": 150,
   "metadata": {},
   "outputs": [
    {
     "data": {
      "text/plain": [
       "263682"
      ]
     },
     "execution_count": 150,
     "metadata": {},
     "output_type": "execute_result"
    }
   ],
   "source": [
    "len(en1_depths)"
   ]
  },
  {
   "cell_type": "code",
   "execution_count": 151,
   "metadata": {},
   "outputs": [],
   "source": [
    "en1_depths.sort('hp_idx_o_10')\n",
    "is_duplicate = en1_depths['hp_idx_o_10'][1:] == en1_depths['hp_idx_o_10'][:-1]\n",
    "#np.append(is_duplicate,False)\n",
    "en1_coverage = en1_depths[~np.append(is_duplicate,False)]"
   ]
  },
  {
   "cell_type": "code",
   "execution_count": 152,
   "metadata": {},
   "outputs": [
    {
     "data": {
      "text/plain": [
       "4265"
      ]
     },
     "execution_count": 152,
     "metadata": {},
     "output_type": "execute_result"
    }
   ],
   "source": [
    "len(en1_coverage)"
   ]
  },
  {
   "cell_type": "code",
   "execution_count": 155,
   "metadata": {},
   "outputs": [],
   "source": [
    "full_coverage = join(coverage, en1_coverage, join_type='left', keys='hp_idx_o_10')"
   ]
  },
  {
   "cell_type": "code",
   "execution_count": 166,
   "metadata": {},
   "outputs": [
    {
     "data": {
      "text/html": [
       "<i>Table masked=True length=449146</i>\n",
       "<table id=\"table5530151848\" class=\"table-striped table-bordered table-condensed\">\n",
       "<thead><tr><th>hp_idx_o_10</th><th>ferr_ap_u_mean_min</th><th>ferr_ap_g_mean_min</th><th>ferr_ap_r_mean_min</th><th>ferr_ap_i_mean_min</th><th>ferr_ap_z_mean_min</th><th>ferr_ap_y_mean_min</th><th>ferr_ap_J_mean_min</th><th>ferr_ap_H_mean_min</th><th>ferr_ap_K_mean_min</th><th>ferr_ap_Ks_mean_min</th><th>ferr_ap_i1_mean_min</th><th>ferr_ap_i2_mean_min</th><th>ferr_ap_i3_mean_min</th><th>ferr_ap_i4_mean_min</th><th>field</th><th>ferr_mips_24_mean</th><th>ferr_pacs_green_mean</th><th>ferr_pacs_red_mean</th><th>ferr_spire_250_mean</th><th>ferr_spire_350_mean</th><th>ferr_spire_500_mean</th></tr></thead>\n",
       "<thead><tr><th></th><th></th><th></th><th></th><th></th><th></th><th></th><th></th><th></th><th></th><th></th><th></th><th></th><th></th><th></th><th></th><th>uJy</th><th>uJy</th><th>uJy</th><th>uJy</th><th>uJy</th><th>uJy</th></tr></thead>\n",
       "<thead><tr><th>int64</th><th>float64</th><th>float64</th><th>float64</th><th>float64</th><th>float64</th><th>float64</th><th>float64</th><th>float64</th><th>float64</th><th>float64</th><th>float64</th><th>float64</th><th>float64</th><th>float64</th><th>bytes18</th><th>float64</th><th>float32</th><th>float32</th><th>float64</th><th>float64</th><th>float64</th></tr></thead>\n",
       "<tr><td>1048576</td><td>0.3888968</td><td>0.01926224</td><td>0.030870374</td><td>0.041768204</td><td>0.06151843</td><td>0.14352015</td><td>1.92945241928101</td><td>1.7355504155159</td><td>6.3801355</td><td>2.36790292603629</td><td>nan</td><td>nan</td><td>nan</td><td>nan</td><td>GAMA-09</td><td>--</td><td>--</td><td>--</td><td>--</td><td>--</td><td>--</td></tr>\n",
       "<tr><td>1048577</td><td>0.3287</td><td>0.020717567</td><td>0.03293594</td><td>0.044771805</td><td>0.06634453</td><td>0.1526159</td><td>1.91976457834244</td><td>1.66691474914551</td><td>6.573922</td><td>2.3642338684627</td><td>nan</td><td>nan</td><td>nan</td><td>nan</td><td>GAMA-09</td><td>--</td><td>--</td><td>--</td><td>--</td><td>--</td><td>--</td></tr>\n",
       "<tr><td>1048578</td><td>0.3846171</td><td>0.021378249</td><td>0.035876982</td><td>0.047181558</td><td>0.06980607</td><td>0.15956911</td><td>2.23670622490454</td><td>2.36486881526548</td><td>6.919189</td><td>3.06828086159446</td><td>nan</td><td>nan</td><td>nan</td><td>nan</td><td>GAMA-09</td><td>--</td><td>--</td><td>--</td><td>--</td><td>--</td><td>--</td></tr>\n",
       "<tr><td>1048579</td><td>0.37277982</td><td>0.021092668</td><td>0.03373764</td><td>0.04277464</td><td>0.063606665</td><td>0.14877433</td><td>2.08620972292764</td><td>1.8796404004097</td><td>6.4581065</td><td>2.60780441455352</td><td>nan</td><td>nan</td><td>nan</td><td>nan</td><td>GAMA-09</td><td>--</td><td>--</td><td>--</td><td>--</td><td>--</td><td>--</td></tr>\n",
       "<tr><td>1048580</td><td>0.2911744</td><td>0.020199573</td><td>0.03168788</td><td>0.042326976</td><td>0.06250173</td><td>0.14537382</td><td>1.78109755970183</td><td>1.78018177407128</td><td>5.6970916</td><td>2.52248514782299</td><td>nan</td><td>nan</td><td>nan</td><td>nan</td><td>GAMA-09</td><td>--</td><td>--</td><td>--</td><td>--</td><td>--</td><td>--</td></tr>\n",
       "<tr><td>1048581</td><td>0.33193266</td><td>0.022394473</td><td>0.03486983</td><td>0.04694038</td><td>0.069550596</td><td>0.16066769</td><td>1.90774633487066</td><td>2.03642669806244</td><td>6.03468</td><td>2.77342678705851</td><td>nan</td><td>nan</td><td>nan</td><td>nan</td><td>GAMA-09</td><td>--</td><td>--</td><td>--</td><td>--</td><td>--</td><td>--</td></tr>\n",
       "<tr><td>1048582</td><td>0.31823373</td><td>0.020951325</td><td>0.033160187</td><td>0.04638167</td><td>0.06910887</td><td>0.16291834</td><td>1.95878115219948</td><td>1.83907379195804</td><td>6.4513354</td><td>2.62036830054389</td><td>nan</td><td>nan</td><td>nan</td><td>nan</td><td>GAMA-09</td><td>--</td><td>--</td><td>--</td><td>--</td><td>--</td><td>--</td></tr>\n",
       "<tr><td>1048583</td><td>0.25143299</td><td>0.020383537</td><td>0.031862717</td><td>0.04413113</td><td>0.06531107</td><td>0.1515935</td><td>1.84046977950681</td><td>1.75781759311413</td><td>5.647315</td><td>2.52217631393604</td><td>nan</td><td>nan</td><td>nan</td><td>nan</td><td>GAMA-09</td><td>--</td><td>--</td><td>--</td><td>--</td><td>--</td><td>--</td></tr>\n",
       "<tr><td>1048584</td><td>0.36621407</td><td>0.022677435</td><td>0.03732341</td><td>0.045192935</td><td>0.06752495</td><td>0.15900145</td><td>1.98236000979388</td><td>1.81433707039531</td><td>6.44909</td><td>2.55789082050323</td><td>nan</td><td>nan</td><td>nan</td><td>nan</td><td>GAMA-09</td><td>--</td><td>--</td><td>--</td><td>--</td><td>--</td><td>--</td></tr>\n",
       "<tr><td>...</td><td>...</td><td>...</td><td>...</td><td>...</td><td>...</td><td>...</td><td>...</td><td>...</td><td>...</td><td>...</td><td>...</td><td>...</td><td>...</td><td>...</td><td>...</td><td>...</td><td>...</td><td>...</td><td>...</td><td>...</td><td>...</td></tr>\n",
       "<tr><td>12042983</td><td>nan</td><td>0.470593447975413</td><td>0.705364210222036</td><td>0.980352786966052</td><td>nan</td><td>nan</td><td>nan</td><td>nan</td><td>nan</td><td>nan</td><td>nan</td><td>nan</td><td>nan</td><td>nan</td><td>N/A</td><td>--</td><td>--</td><td>--</td><td>--</td><td>--</td><td>--</td></tr>\n",
       "<tr><td>12042985</td><td>nan</td><td>0.401245270265415</td><td>0.631963384503022</td><td>0.886734809470708</td><td>nan</td><td>nan</td><td>nan</td><td>nan</td><td>nan</td><td>nan</td><td>nan</td><td>nan</td><td>nan</td><td>nan</td><td>N/A</td><td>--</td><td>--</td><td>--</td><td>--</td><td>--</td><td>--</td></tr>\n",
       "<tr><td>12043008</td><td>3.43117117596714</td><td>1.12891318891637</td><td>1.56644287506227</td><td>1.66926372262749</td><td>4.31668842759001</td><td>nan</td><td>nan</td><td>nan</td><td>nan</td><td>nan</td><td>nan</td><td>nan</td><td>nan</td><td>nan</td><td>N/A</td><td>--</td><td>--</td><td>--</td><td>--</td><td>--</td><td>--</td></tr>\n",
       "<tr><td>12043009</td><td>1.81201014966394</td><td>0.508966908339133</td><td>0.890091881795282</td><td>1.1312017674427</td><td>3.09896943585728</td><td>nan</td><td>nan</td><td>nan</td><td>nan</td><td>nan</td><td>nan</td><td>nan</td><td>nan</td><td>nan</td><td>N/A</td><td>--</td><td>--</td><td>--</td><td>--</td><td>--</td><td>--</td></tr>\n",
       "<tr><td>12043010</td><td>2.49268285441886</td><td>0.494158403628982</td><td>0.909613505597342</td><td>1.136793192659</td><td>3.12670346706475</td><td>nan</td><td>nan</td><td>nan</td><td>nan</td><td>nan</td><td>nan</td><td>nan</td><td>nan</td><td>nan</td><td>N/A</td><td>--</td><td>--</td><td>--</td><td>--</td><td>--</td><td>--</td></tr>\n",
       "<tr><td>12043011</td><td>2.09373553263053</td><td>0.577247280662618</td><td>0.991298854740798</td><td>1.22674660501041</td><td>3.39733806461695</td><td>nan</td><td>nan</td><td>nan</td><td>nan</td><td>nan</td><td>nan</td><td>nan</td><td>nan</td><td>nan</td><td>N/A</td><td>--</td><td>--</td><td>--</td><td>--</td><td>--</td><td>--</td></tr>\n",
       "<tr><td>12043012</td><td>nan</td><td>0.445860992796356</td><td>nan</td><td>1.02642671074533</td><td>nan</td><td>nan</td><td>nan</td><td>nan</td><td>nan</td><td>nan</td><td>nan</td><td>nan</td><td>nan</td><td>nan</td><td>N/A</td><td>--</td><td>--</td><td>--</td><td>--</td><td>--</td><td>--</td></tr>\n",
       "<tr><td>12043016</td><td>3.58693278533988</td><td>0.684728410968042</td><td>1.19586028947091</td><td>1.38443063072352</td><td>3.92742906404126</td><td>nan</td><td>nan</td><td>nan</td><td>nan</td><td>nan</td><td>nan</td><td>nan</td><td>nan</td><td>nan</td><td>N/A</td><td>--</td><td>--</td><td>--</td><td>--</td><td>--</td><td>--</td></tr>\n",
       "<tr><td>12043017</td><td>nan</td><td>0.462498951222175</td><td>0.85118486016068</td><td>1.08096952471151</td><td>2.88149622026963</td><td>nan</td><td>nan</td><td>nan</td><td>nan</td><td>nan</td><td>nan</td><td>nan</td><td>nan</td><td>nan</td><td>N/A</td><td>--</td><td>--</td><td>--</td><td>--</td><td>--</td><td>--</td></tr>\n",
       "<tr><td>12043018</td><td>2.01032084617047</td><td>0.592936370182139</td><td>1.04206028405916</td><td>1.31215521774914</td><td>4.08352324846221</td><td>nan</td><td>nan</td><td>nan</td><td>nan</td><td>nan</td><td>nan</td><td>nan</td><td>nan</td><td>nan</td><td>N/A</td><td>--</td><td>--</td><td>--</td><td>--</td><td>--</td><td>--</td></tr>\n",
       "</table>"
      ],
      "text/plain": [
       "<Table masked=True length=449146>\n",
       "hp_idx_o_10 ferr_ap_u_mean_min ... ferr_spire_350_mean ferr_spire_500_mean\n",
       "                               ...         uJy                 uJy        \n",
       "   int64         float64       ...       float64             float64      \n",
       "----------- ------------------ ... ------------------- -------------------\n",
       "    1048576          0.3888968 ...                  --                  --\n",
       "    1048577             0.3287 ...                  --                  --\n",
       "    1048578          0.3846171 ...                  --                  --\n",
       "    1048579         0.37277982 ...                  --                  --\n",
       "    1048580          0.2911744 ...                  --                  --\n",
       "    1048581         0.33193266 ...                  --                  --\n",
       "    1048582         0.31823373 ...                  --                  --\n",
       "    1048583         0.25143299 ...                  --                  --\n",
       "    1048584         0.36621407 ...                  --                  --\n",
       "        ...                ... ...                 ...                 ...\n",
       "   12042983                nan ...                  --                  --\n",
       "   12042985                nan ...                  --                  --\n",
       "   12043008   3.43117117596714 ...                  --                  --\n",
       "   12043009   1.81201014966394 ...                  --                  --\n",
       "   12043010   2.49268285441886 ...                  --                  --\n",
       "   12043011   2.09373553263053 ...                  --                  --\n",
       "   12043012                nan ...                  --                  --\n",
       "   12043016   3.58693278533988 ...                  --                  --\n",
       "   12043017                nan ...                  --                  --\n",
       "   12043018   2.01032084617047 ...                  --                  --"
      ]
     },
     "execution_count": 166,
     "metadata": {},
     "output_type": "execute_result"
    }
   ],
   "source": [
    "full_coverage"
   ]
  },
  {
   "cell_type": "code",
   "execution_count": 194,
   "metadata": {},
   "outputs": [
    {
     "name": "stderr",
     "output_type": "stream",
     "text": [
      "/Users/rs548/anaconda/envs/herschelhelp_internal/lib/python3.6/site-packages/astropy/table/column.py:984: RuntimeWarning: invalid value encountered in greater\n",
      "  result = getattr(super(), op)(other)\n",
      "/Users/rs548/anaconda/envs/herschelhelp_internal/lib/python3.6/site-packages/astropy/table/column.py:984: RuntimeWarning: invalid value encountered in less\n",
      "  result = getattr(super(), op)(other)\n"
     ]
    }
   ],
   "source": [
    "full_names = {\n",
    "    '24':'mips_24', \n",
    "    '100':'pacs_green', \n",
    "    '160':'pacs_red', \n",
    "    '250':'spire_250', \n",
    "    '350':'spire_350', \n",
    "    '500':'spire_500'\n",
    "}\n",
    "def depths_sample(band):\n",
    "    if band in ['24', '100', '160', '250', '350', '500']:\n",
    "        band = full_names[band] \n",
    "        mask = ~np.isnan(full_coverage['ferr_{}_mean'.format(band)])\n",
    "        mask &= full_coverage['ferr_{}_mean'.format(band)] > 0.\n",
    "        #mask &= full_coverage['ferr_{}_mean'.format(band)] <1.e3\n",
    "        area = (np.sum(mask)/len(full_coverage)) * 1270. * (1270./14.)\n",
    "        return np.log10(np.array(full_coverage['ferr_{}_mean'.format(band)][mask]) *5.e-6 ), area\n",
    "    else:\n",
    "        mask = ~np.isnan(coverage['ferr_ap_{}_mean_min'.format(band)])\n",
    "        mask &= full_coverage['ferr_ap_{}_mean_min'.format(band)] > 0.\n",
    "        mask &= full_coverage['ferr_ap_{}_mean_min'.format(band)] <1.e3\n",
    "        area = (np.sum(mask)/len(full_coverage)) * 1270.\n",
    "        return np.log10(np.array(full_coverage['ferr_ap_{}_mean_min'.format(band)][mask]) *5.e-6 ), area\n",
    "    \n",
    "\n",
    "data = [ depths_sample(band)[0] for band in bands_fir ]\n",
    "areas = [ depths_sample(band)[1] for band in bands_fir ]"
   ]
  },
  {
   "cell_type": "code",
   "execution_count": 195,
   "metadata": {},
   "outputs": [
    {
     "data": {
      "text/plain": [
       "20"
      ]
     },
     "execution_count": 195,
     "metadata": {},
     "output_type": "execute_result"
    }
   ],
   "source": [
    "len(data)"
   ]
  },
  {
   "cell_type": "code",
   "execution_count": 196,
   "metadata": {},
   "outputs": [
    {
     "name": "stderr",
     "output_type": "stream",
     "text": [
      "/Users/rs548/anaconda/envs/herschelhelp_internal/lib/python3.6/site-packages/matplotlib/font_manager.py:1297: UserWarning: findfont: Font family ['serif'] not found. Falling back to DejaVu Sans\n",
      "  (prop.get_family(), self.defaultFamily[fontext]))\n"
     ]
    },
    {
     "data": {
      "image/png": "[encoded data removed]",
      "text/plain": [
       "<matplotlib.figure.Figure at 0x144892da0>"
      ]
     },
     "metadata": {},
     "output_type": "display_data"
    }
   ],
   "source": [
    "\n",
    "\n",
    "# fake data\n",
    "fs = 10  # fontsize\n",
    "#pos = [1, 2, 4, 5, 7, 8]\n",
    "#data = np.array([np.array(coverage['ferr_ap_{}_mean_min'.format(b)]) for b in bands]).T\n",
    "\n",
    "cmap = mpl.cm.viridis\n",
    "norm = mpl.colors.Normalize(vmin=np.min(areas), vmax=np.max(areas))\n",
    "scalmap = mpl.cm.ScalarMappable( cmap=cmap, norm=norm)\n",
    "colors = scalmap.to_rgba(areas)   # The color is the angle\n",
    "colors[:, 3] = 1\n",
    "\n",
    "fig, ax = plt.subplots()\n",
    "\n",
    "def set_axis_style(ax, labels):\n",
    "    ax.get_xaxis().set_tick_params(direction='out')\n",
    "    ax.xaxis.set_ticks_position('bottom')\n",
    "    ax.set_xticks(np.arange(1, len(labels) + 1))\n",
    "    ax.set_xticklabels(labels)\n",
    "    ax.set_xlim(0.25, len(labels) + 0.75)\n",
    "    ax.set_xlabel('band')\n",
    "\n",
    "#ax.violinplot(np.array(coverage['ferr_ap_{}_mean_min'.format('g') ] ) )\n",
    "#ax.set_title('Custom violinplot 1', fontsize=fs)\n",
    "\n",
    "ax.set_ylabel('log10( 5$\\sigma$ Depths  [Jy] )')\n",
    "set_axis_style(ax, ['$' + band + '$' for band in bands_fir])\n",
    "ax.set_ylim(-7, 0)\n",
    "\n",
    "\n",
    "\n",
    "parts = ax.violinplot(data, showmeans=False, showmedians=False,\n",
    "        showextrema=False)\n",
    "\n",
    "for n, part in enumerate(parts['bodies']):\n",
    "    part.set_facecolor(colors[n])\n",
    "    part.set_alpha(1)\n",
    "\n",
    "cax, _ = mpl.colorbar.make_axes(ax)\n",
    "n_ticks = 7\n",
    "values = np.linspace(0,1200, n_ticks)\n",
    "ticks = values/np.max(areas)\n",
    "\n",
    "cbar = mpl.colorbar.ColorbarBase(cax, cmap=cmap, ticks = ticks)\n",
    "cax.set_yticklabels([int(d) for d in values])\n",
    "cbar.set_label('area [square degrees]')\n",
    "\n",
    "plt.rc('font', family='serif', serif='Times')\n",
    "plt.rc('text') #, usetex=True)\n",
    "plt.rc('xtick', labelsize=12)\n",
    "plt.rc('ytick', labelsize=12)\n",
    "plt.rc('axes', labelsize=12)\n",
    "\n",
    "#fig.suptitle(\"Violin Plotting Examples\")\n",
    "#fig.subplots_adjust(hspace=0.4)\n",
    "#plt.ylim(-10,10)\n",
    "column_width_cm = 8.9\n",
    "width_cm = 3.0 * column_width_cm\n",
    "hieght_cm = width_cm / 1.9\n",
    "width_inches = width_cm/2.5\n",
    "hieght_inches = hieght_cm/2.5\n",
    "fig.set_size_inches(width_inches, hieght_inches)\n",
    "\n",
    "plt.savefig('./figs/band_depths_overviews.pdf', bbox_inches='tight')\n",
    "plt.savefig('./figs/band_depths_overviews.png', bbox_inches='tight')"
   ]
  },
  {
   "cell_type": "code",
   "execution_count": 197,
   "metadata": {},
   "outputs": [
    {
     "name": "stdout",
     "output_type": "stream",
     "text": [
      "[0.12543783 0.28233033 0.2600706  0.27458386 0.2332077  0.23691955\n",
      " 0.22385508 0.22926965 0.36306825 0.20109221 0.06786699 0.06636376\n",
      " 0.02697374 0.02281629 1.         0.50937929 0.75651191 0.47791881\n",
      " 0.40442308 0.39960632]\n"
     ]
    }
   ],
   "source": [
    "widths = [np.max(np.histogram(data[n], bins = 100, density = True)[0])*areas[n] for n in np.arange(len(data)) ]\n",
    "widths /= np.max(widths)\n",
    "\n",
    "print(widths)"
   ]
  },
  {
   "cell_type": "code",
   "execution_count": 198,
   "metadata": {},
   "outputs": [
    {
     "name": "stderr",
     "output_type": "stream",
     "text": [
      "/Users/rs548/anaconda/envs/herschelhelp_internal/lib/python3.6/site-packages/matplotlib/font_manager.py:1297: UserWarning: findfont: Font family ['serif'] not found. Falling back to DejaVu Sans\n",
      "  (prop.get_family(), self.defaultFamily[fontext]))\n"
     ]
    },
    {
     "data": {
      "image/png": "[encoded data removed]",
      "text/plain": [
       "<matplotlib.figure.Figure at 0x144892550>"
      ]
     },
     "metadata": {},
     "output_type": "display_data"
    }
   ],
   "source": [
    "# fake data\n",
    "fs = 10  # fontsize\n",
    "#pos = [1, 2, 4, 5, 7, 8]\n",
    "#data = np.array([np.array(coverage['ferr_ap_{}_mean_min'.format(b)]) for b in bands]).T\n",
    "\n",
    "cmap = mpl.cm.viridis\n",
    "norm = mpl.colors.Normalize(vmin=np.min(areas), vmax=np.max(areas))\n",
    "scalmap = mpl.cm.ScalarMappable( cmap=cmap, norm=norm)\n",
    "colors = scalmap.to_rgba(areas)   # The color is the angle\n",
    "colors[:, 3] = 1\n",
    "\n",
    "fig, ax = plt.subplots()\n",
    "\n",
    "def set_axis_style(ax, labels):\n",
    "    ax.get_xaxis().set_tick_params(direction='out')\n",
    "    ax.xaxis.set_ticks_position('bottom')\n",
    "    ax.set_xticks(np.arange(1, len(labels) + 1))\n",
    "    ax.set_xticklabels(labels)\n",
    "    ax.set_xlim(0.25, len(labels) + 0.75)\n",
    "    ax.set_xlabel('band')\n",
    "\n",
    "#ax.violinplot(np.array(coverage['ferr_ap_{}_mean_min'.format('g') ] ) )\n",
    "#ax.set_title('Custom violinplot 1', fontsize=fs)\n",
    "\n",
    "ax.set_ylabel('log10( 5$\\sigma$ Depths  [Jy] )')\n",
    "set_axis_style(ax, ['$' + band + '$' for band in bands_fir])\n",
    "ax.set_ylim(-7, 0)\n",
    "\n",
    "\n",
    "#areas/np.max(areas)\n",
    "parts = ax.violinplot(data, widths=widths, showmeans=False, showmedians=False,\n",
    "        showextrema=False)\n",
    "\n",
    "for n, part in enumerate(parts['bodies']):\n",
    "    part.set_facecolor(colors[n])\n",
    "    part.set_alpha(1)\n",
    "\n",
    "cax, _ = mpl.colorbar.make_axes(ax)\n",
    "n_ticks = 7\n",
    "values = np.linspace(0,1200, n_ticks)\n",
    "ticks = values/np.max(areas)\n",
    "\n",
    "cbar = mpl.colorbar.ColorbarBase(cax, cmap=cmap, ticks = ticks)\n",
    "cax.set_yticklabels([int(d) for d in values])\n",
    "cbar.set_label('Area [square degrees]')\n",
    "\n",
    "plt.rc('font', family='serif', serif='Times')\n",
    "plt.rc('text') #, usetex=True)\n",
    "plt.rc('xtick', labelsize=12)\n",
    "plt.rc('ytick', labelsize=12)\n",
    "plt.rc('axes', labelsize=12)\n",
    "\n",
    "#fig.suptitle(\"Violin Plotting Examples\")\n",
    "#fig.subplots_adjust(hspace=0.4)\n",
    "#plt.ylim(-10,10)\n",
    "column_width_cm = 8.9\n",
    "width_cm = 3.0 * column_width_cm\n",
    "hieght_cm = width_cm / 1.9\n",
    "width_inches = width_cm/2.5\n",
    "hieght_inches = hieght_cm/2.5\n",
    "fig.set_size_inches(width_inches, hieght_inches)\n",
    "\n",
    "plt.savefig('./figs/band_depths_overviews_areaweighted.pdf', bbox_inches='tight')\n",
    "plt.savefig('./figs/band_depths_overviews_areaweighted.png', bbox_inches='tight')"
   ]
  },
  {
   "cell_type": "code",
   "execution_count": 199,
   "metadata": {},
   "outputs": [
    {
     "name": "stderr",
     "output_type": "stream",
     "text": [
      "/Users/rs548/anaconda/envs/herschelhelp_internal/lib/python3.6/site-packages/matplotlib/font_manager.py:1297: UserWarning: findfont: Font family ['serif'] not found. Falling back to DejaVu Sans\n",
      "  (prop.get_family(), self.defaultFamily[fontext]))\n"
     ]
    },
    {
     "data": {
      "image/png": "[encoded data removed]",
      "text/plain": [
       "<matplotlib.figure.Figure at 0x14b1dcd30>"
      ]
     },
     "metadata": {},
     "output_type": "display_data"
    }
   ],
   "source": [
    "# fake data\n",
    "fs = 10  # fontsize\n",
    "#pos = [1, 2, 4, 5, 7, 8]\n",
    "#data = np.array([np.array(coverage['ferr_ap_{}_mean_min'.format(b)]) for b in bands]).T\n",
    "\n",
    "cmap = mpl.cm.viridis\n",
    "norm = mpl.colors.Normalize(vmin=np.min(areas), vmax=np.max(areas))\n",
    "scalmap = mpl.cm.ScalarMappable( cmap=cmap, norm=norm)\n",
    "colors = scalmap.to_rgba(areas)   # The color is the angle\n",
    "colors[:, 3] = 1\n",
    "\n",
    "fig, ax = plt.subplots()\n",
    "\n",
    "def set_axis_style(ax, labels):\n",
    "    ax.get_xaxis().set_tick_params(direction='out')\n",
    "    ax.xaxis.set_ticks_position('bottom')\n",
    "    ax.set_xticks(np.arange(1, len(labels) + 1))\n",
    "    ax.set_xticklabels(labels)\n",
    "    ax.set_xlim(0.25, len(labels) + 0.75)\n",
    "    ax.set_xlabel('band')\n",
    "\n",
    "#ax.violinplot(np.array(coverage['ferr_ap_{}_mean_min'.format('g') ] ) )\n",
    "#ax.set_title('Custom violinplot 1', fontsize=fs)\n",
    "\n",
    "ax.set_ylabel('log10( 5$\\sigma$ Depths  [Jy] )')\n",
    "set_axis_style(ax, ['$' + band + '$' for band in bands_fir])\n",
    "ax.set_ylim(-7, 0)\n",
    "\n",
    "\n",
    "\n",
    "parts = ax.violinplot(data, widths=np.log10(areas)/np.log10(np.max(areas)), showmeans=False, showmedians=False,\n",
    "        showextrema=False)\n",
    "\n",
    "for n, part in enumerate(parts['bodies']):\n",
    "    part.set_facecolor(colors[n])\n",
    "    part.set_alpha(1)\n",
    "\n",
    "cax, _ = mpl.colorbar.make_axes(ax)\n",
    "n_ticks = 7\n",
    "values = np.linspace(0,1200, n_ticks)\n",
    "ticks = values/np.max(areas)\n",
    "\n",
    "cbar = mpl.colorbar.ColorbarBase(cax, cmap=cmap, ticks = ticks)\n",
    "cax.set_yticklabels([int(d) for d in values])\n",
    "cbar.set_label('area [square degrees]')\n",
    "\n",
    "plt.rc('font', family='serif', serif='Times')\n",
    "plt.rc('text') #, usetex=True)\n",
    "plt.rc('xtick', labelsize=12)\n",
    "plt.rc('ytick', labelsize=12)\n",
    "plt.rc('axes', labelsize=12)\n",
    "\n",
    "#fig.suptitle(\"Violin Plotting Examples\")\n",
    "#fig.subplots_adjust(hspace=0.4)\n",
    "#plt.ylim(-10,10)\n",
    "column_width_cm = 8.9\n",
    "width_cm = 3.0 * column_width_cm\n",
    "hieght_cm = width_cm / 1.9\n",
    "width_inches = width_cm/2.5\n",
    "hieght_inches = hieght_cm/2.5\n",
    "fig.set_size_inches(width_inches, hieght_inches)\n",
    "\n",
    "plt.savefig('./figs/band_depths_overviews_logareaweighted.pdf', bbox_inches='tight')\n",
    "plt.savefig('./figs/band_depths_overviews_logareaweighted.png', bbox_inches='tight')"
   ]
  },
  {
   "cell_type": "markdown",
   "metadata": {},
   "source": [
    "## Add SED to plot"
   ]
  },
  {
   "cell_type": "code",
   "execution_count": 200,
   "metadata": {},
   "outputs": [],
   "source": [
    "#s.add_contribution(\"HELP_SED\", orig_spec['WAVE'], orig_spec['LUMIN'])"
   ]
  },
  {
   "cell_type": "code",
   "execution_count": 96,
   "metadata": {},
   "outputs": [],
   "source": [
    "cigale_filternames = {\n",
    "    'u':  'u_prime',\n",
    "    'g':  'MCam_g',\n",
    "    'r':  'MCam_r',\n",
    "    'i':  'MCam_i',\n",
    "    'z':  'MCam_z',\n",
    "    'y':  'WFCAM_Y',\n",
    "    'J':  'WFCAM_J',\n",
    "    'H':  'WFI_H',\n",
    "    'K':  'WFI_K',\n",
    "    'Ks': 'Ks_2mass',\n",
    "    'i1': 'IRAC1',\n",
    "    'i2': 'IRAC2',\n",
    "    'i3': 'IRAC3',\n",
    "    'i4': 'IRAC4'\n",
    "}"
   ]
  },
  {
   "cell_type": "code",
   "execution_count": 97,
   "metadata": {},
   "outputs": [],
   "source": [
    "\n",
    "\n",
    "\n",
    "gal1 = './data/HELP_J095946.083p021914.438_best_model.fits'\n",
    "gal2 = './data/HELP_J100130.443p020929.494_best_model.fits'\n",
    "gal3 = './data/HELP_J095809.302p013203.775_best_model.fits'\n",
    "gal4 = './data/HELP_J095822.986p013145.336_best_model.figs'\n",
    "gal5 = './data/HELP_J003412.527-441056.846_best_model.fits'  #z=4\n",
    "gal6 = './data/HELP_J095738.934+021508.530_best_model.fits' #From hedam - high fluxes\n",
    "gal7 = './data/HELP_J095818.598+013057.910_best_model.fits'\n",
    "gal8 = './data/HELP_J095809.488+013225.513_best_model.fits'\n",
    "gal9 = './data/HELP_J100108.952+022730.528_best_model.fits'\n",
    "orig_spec = Table.read(gal9)\n",
    "        \n",
    "s = SED()\n",
    "    # This is wrong because the best SED we get from CIGALE is redshifted (written by Yannick)\n",
    "s.add_contribution(\"HELP_SED\", orig_spec['wavelength'], orig_spec['L_lambda_total'])\n",
    "    \n",
    "#z=1\n",
    "zs = np.arange(1, 5, 1)\n",
    "\n",
    "\n"
   ]
  },
  {
   "cell_type": "code",
   "execution_count": 130,
   "metadata": {},
   "outputs": [],
   "source": [
    "gal_fluxes = np.full([len(zs), len(bands)], np.nan)"
   ]
  },
  {
   "cell_type": "raw",
   "metadata": {},
   "source": [
    "\n",
    "for n, z in enumerate(zs):\n",
    "    print('z = {}:'.format(z))\n",
    "    sed = s.copy()\n",
    "    mod = get_module(\"redshifting\", redshift=z)\n",
    "    mod.process(sed)\n",
    "    for m, band in enumerate(cigale_filternames):\n",
    "        flux = sed.compute_fnu(cigale_filternames[band])\n",
    "        print(\"{} band: {} mJy\".format(band,flux))\n",
    "        gal_fluxes[n, m] = flux"
   ]
  },
  {
   "cell_type": "code",
   "execution_count": 131,
   "metadata": {},
   "outputs": [
    {
     "name": "stdout",
     "output_type": "stream",
     "text": [
      "z = 1:\n",
      "z = 2:\n",
      "z = 3:\n",
      "z = 4:\n"
     ]
    },
    {
     "data": {
      "text/plain": [
       "(-7, 0)"
      ]
     },
     "execution_count": 131,
     "metadata": {},
     "output_type": "execute_result"
    },
    {
     "name": "stderr",
     "output_type": "stream",
     "text": [
      "/Users/rs548/anaconda/envs/herschelhelp_internal/lib/python3.6/site-packages/matplotlib/font_manager.py:1297: UserWarning: findfont: Font family ['serif'] not found. Falling back to DejaVu Sans\n",
      "  (prop.get_family(), self.defaultFamily[fontext]))\n"
     ]
    },
    {
     "data": {
      "image/png": "[encoded data removed]",
      "text/plain": [
       "<matplotlib.figure.Figure at 0x14afb9ef0>"
      ]
     },
     "metadata": {},
     "output_type": "display_data"
    }
   ],
   "source": [
    "fig, ax = plt.subplots()\n",
    "for n, z in enumerate(zs):\n",
    "    print('z = {}:'.format(z))\n",
    "    sed = s.copy()\n",
    "    mod = get_module(\"redshifting\", redshift=z)\n",
    "    mod.process(sed)\n",
    "    ax.plot(np.log10(sed.wavelength_grid), np.log10(sed.fnu * 1.e-3), label=str(z))\n",
    "#ax.plot(np.log10(orig_spec['wavelength']), np.log10(orig_spec['Fnu']))\n",
    "\n",
    "plt.legend()\n",
    "ax.set_ylim(-7, 0)\n",
    "#ax.set_xlim(0, 14.75)"
   ]
  },
  {
   "cell_type": "code",
   "execution_count": 188,
   "metadata": {},
   "outputs": [],
   "source": [
    "pos = [3561.,     #u  (SDSS)\n",
    "       4866.,     #g  (GPC1)\n",
    "       6215.,     #r  (GPC1)\n",
    "       7545.,     #i  (GPC1)\n",
    "       8680.,     #z  (GPC1)\n",
    "       9633.,     #y  (GPC1)\n",
    "       12510.,    #J  (UKIRT)\n",
    "       16377.,    #H  (UKIRT)\n",
    "       22081.,    #K   (UKIRT)\n",
    "       21496.,    #Ks (WIRCam)\n",
    "       36000.,    #i1\n",
    "       45000.,    #i2 \n",
    "       56000.,    #i3\n",
    "       80000.,    #i4\n",
    "       240000.,    #mips_24\n",
    "       1000000.,    #pacs_100\n",
    "       1600000.,    #pacs_160\n",
    "       2500000.,    #spire_250\n",
    "       3500000.,    #spire_350\n",
    "       5000000.,    #spire_500\n",
    "      ]   \n",
    "fwhms = [\n",
    "       [3048., 4028.],     #u  (SDSS)\n",
    "       [3943., 5593.],     #g  (GPC1)\n",
    "       [5386., 7036.],     #r  (GPC1)\n",
    "       [6778., 8304.],     #i  (GPC1)\n",
    "       [8028., 9346.],     #z  (GPC1)\n",
    "       [9100., 10838.],     #y  (GPC1)\n",
    "       [11690., 13280],     #J  (UKIRT)\n",
    "       [14920., 17840.],     #H  (UKIRT)\n",
    "       [20290., 23800.],     #K   (UKIRT)\n",
    "       [19578., 23431.],     #Ks (WIRCam)\n",
    "       [31296, 39614 ],     #i1\n",
    "       [39173, 50561],      #i2 \n",
    "       [48983, 65089],     #i3\n",
    "       [62994, 95876],      #i4\n",
    "       [240000.,340000.],    #mips_24 GUESSES!!!!\n",
    "       [1000000.,1500000.],    #pacs_100\n",
    "       [1600000.,1900000.],    #pacs_160\n",
    "       [2500000.,3000000.],    #spire_250\n",
    "       [3500000.,4000000.],    #spire_350\n",
    "       [5000000.,5500000.]    #spire_500\n",
    "        ]"
   ]
  },
  {
   "cell_type": "code",
   "execution_count": 221,
   "metadata": {},
   "outputs": [
    {
     "data": {
      "text/plain": [
       "['$u$',\n",
       " '$g$',\n",
       " '$r$',\n",
       " '$i$',\n",
       " '$z$',\n",
       " '$y$',\n",
       " '$J$',\n",
       " '$H$',\n",
       " '$K/Ks$',\n",
       " '',\n",
       " '$i1$',\n",
       " '$i2$',\n",
       " '$i3$',\n",
       " '$i4$',\n",
       " '$24$',\n",
       " '$PACS 100/ $',\n",
       " '$ $',\n",
       " '$SPIRE 250/ / $',\n",
       " '$ $',\n",
       " '$ $']"
      ]
     },
     "execution_count": 221,
     "metadata": {},
     "output_type": "execute_result"
    }
   ],
   "source": [
    "['${}$'.format(band).replace(\n",
    "    '$Ks$', '').replace(\n",
    "    'K', 'K/Ks').replace(\n",
    "     '100', 'PACS 100/160').replace(\n",
    "     '160', ' ').replace(\n",
    "     '250', 'SPIRE 250/350/500').replace(\n",
    "     '350', ' ').replace(\n",
    "     '500', ' ') for band in bands_fir]"
   ]
  },
  {
   "cell_type": "code",
   "execution_count": 231,
   "metadata": {},
   "outputs": [
    {
     "name": "stderr",
     "output_type": "stream",
     "text": [
      "/Users/rs548/anaconda/envs/herschelhelp_internal/lib/python3.6/site-packages/matplotlib/font_manager.py:1297: UserWarning: findfont: Font family ['serif'] not found. Falling back to DejaVu Sans\n",
      "  (prop.get_family(), self.defaultFamily[fontext]))\n"
     ]
    },
    {
     "data": {
      "image/png": "[encoded data removed]",
      "text/plain": [
       "<matplotlib.figure.Figure at 0x14c40a4a8>"
      ]
     },
     "metadata": {},
     "output_type": "display_data"
    }
   ],
   "source": [
    "# fake data\n",
    "fs = 10  # fontsize\n",
    "# Angstroms     \n",
    "\n",
    "\n",
    "#data = np.array([np.array(coverage['ferr_ap_{}_mean_min'.format(b)]) for b in bands]).T\n",
    "\n",
    "cmap = mpl.cm.viridis\n",
    "norm = mpl.colors.Normalize(vmin=np.min(areas), vmax=np.max(areas))\n",
    "scalmap = mpl.cm.ScalarMappable( cmap=cmap, norm=norm)\n",
    "colors = scalmap.to_rgba(areas)   # The color is the angle\n",
    "colors[:, 3] = 1\n",
    "\n",
    "fig, ax = plt.subplots()\n",
    "\n",
    "ax2 = ax.twiny()\n",
    "\n",
    "#ax2.set_xlim(3000., 100000)\n",
    "#ax2.set_xticks(pos)\n",
    "#ax2.set_xticklabels(['$' + band + '$' for band in bands])\n",
    "#ax2.set_xlabel('band')\n",
    "#ax2.set_xscale('log')\n",
    "ax2.set_xlim(np.log10(3000.), np.log10(10000000))\n",
    "ax2.set_xticks(np.log10(pos))\n",
    "ax2.set_xticklabels(['$u$',\n",
    " '$g$',\n",
    " '$r$',\n",
    " '$i$',\n",
    " '$z$',\n",
    " '$y$',\n",
    " '$J$',\n",
    " '$H$',\n",
    " '  $K/Ks$',\n",
    " '',\n",
    " '$i1$',\n",
    " '$i2$',\n",
    " '$i3$',\n",
    " '$i4$',\n",
    " 'MIPS 24',\n",
    " '       PACS',\n",
    " '',\n",
    " '           SPIRE',\n",
    " '',\n",
    " ''])\n",
    "ax2.set_xlabel('band')\n",
    "#ax2.set_xscale('log')\n",
    "\n",
    "\n",
    "line_styles = [':', '-.', '--', '-']\n",
    "colours = ['y', 'b', 'g', 'r', 'k']\n",
    "for n, z in enumerate([0.25, 1, 2, 3, 4]):\n",
    "    sed = s.copy()\n",
    "    mod = get_module(\"redshifting\", redshift=z)\n",
    "    mod.process(sed)\n",
    "    ax.plot(sed.wavelength_grid*10, \n",
    "            np.log10(sed.fnu * 1.e-3),\n",
    "            c='k',\n",
    "            #c= colours[n],\n",
    "            #linestyle = line_styles[n],\n",
    "            label= 'z = {}'.format(z),\n",
    "            linewidth=1.0,\n",
    "            alpha=1.\n",
    "           )\n",
    "    for m, band in enumerate(cigale_filternames):\n",
    "        continue\n",
    "        if m == 0:\n",
    "            lab = 'z = {}'.format(z)\n",
    "        else:\n",
    "            lab=None\n",
    "        ax.plot([fwhms[m][0], fwhms[m][1]], [np.log10(gal_fluxes[n, m]   )-3, \n",
    "                                     np.log10(gal_fluxes[n, m]   )-3], \n",
    "               # c='k',\n",
    "                c= colours[n],\n",
    "               #linestyle = line_styles[n],\n",
    "               label=lab,\n",
    "                alpha=1.0\n",
    "               )\n",
    "\n",
    "        \n",
    "\n",
    "\n",
    "\n",
    "\n",
    "ax.set_ylabel('log10(Depths [Jy] )')\n",
    "\n",
    "#ax.set_xticks(pos)\n",
    "#ax.set_xticklabels(['${}$'.format(band.replace('Ks', '').replace('K', 'K/Ks')) for band in bands])\n",
    "ax.set_xlim(3000., 10000000)\n",
    "ax.set_xscale('log')    \n",
    "ax.set_xlabel('Wavelength [nm]')\n",
    "ax.set_ylim(-7, 0)\n",
    "#ax.legend(loc=2)\n",
    "\n",
    "\n",
    "#widths\n",
    "log_widths = np.ones(len(pos)) * (pos) * .2# * widths\n",
    "#log_widths = np.ones(len(pos)) * 1000.\n",
    "#areas/np.max(areas)\n",
    "parts = ax.violinplot(data, \n",
    "                      positions=pos, \n",
    "                      widths=log_widths, \n",
    "                      showmeans=False, \n",
    "                      showmedians=False, #widths=widths,\n",
    "        showextrema=False)\n",
    "\n",
    "for n, part in enumerate(parts['bodies']):\n",
    "    part.set_facecolor(colors[n])\n",
    "    part.set_alpha(1.0)\n",
    "\n",
    "cax, _ = mpl.colorbar.make_axes([ax, ax2])\n",
    "n_ticks = 7\n",
    "values = np.linspace(0,1200, n_ticks)\n",
    "ticks = values/np.max(areas)\n",
    "\n",
    "cbar = mpl.colorbar.ColorbarBase(cax, cmap=cmap, ticks = ticks)\n",
    "cax.set_yticklabels([int(d) for d in values])\n",
    "cbar.set_label('Area [square degrees]')\n",
    "\n",
    "\n",
    "\n",
    "plt.figtext(0.335, 0.6, 'z=0.25')\n",
    "plt.figtext(0.38, 0.45, 'z=1')\n",
    "plt.figtext(0.4, 0.38, 'z=2')\n",
    "plt.figtext(0.44, 0.35, 'z=3')\n",
    "plt.figtext(0.45, 0.27, 'z=4')\n",
    "\n",
    "\n",
    "\n",
    "\n",
    "\n",
    "plt.rc('font', family='serif', serif='Times')\n",
    "plt.rc('text') #, usetex=True)\n",
    "plt.rc('xtick', labelsize=12)\n",
    "plt.rc('ytick', labelsize=12)\n",
    "plt.rc('axes', labelsize=12)\n",
    "\n",
    "#fig.suptitle(\"Violin Plotting Examples\")\n",
    "#fig.subplots_adjust(hspace=0.4)\n",
    "#plt.ylim(-10,10)\n",
    "column_width_cm = 8.9\n",
    "width_cm = 3.0 * column_width_cm\n",
    "hieght_cm = width_cm / 1.9\n",
    "width_inches = width_cm/2.5\n",
    "hieght_inches = hieght_cm/2.5\n",
    "fig.set_size_inches(width_inches, hieght_inches)\n",
    "plt.savefig('./figs/band_depths_overviews_areaweighted_with_black_seds_wave.pdf', bbox_inches='tight')\n",
    "plt.savefig('./figs/band_depths_overviews_areaweighted_with_black_seds_wave.png', bbox_inches='tight')"
   ]
  },
  {
   "cell_type": "code",
   "execution_count": null,
   "metadata": {},
   "outputs": [],
   "source": [
    "#take the median luminosity in a redshift bin?\n",
    "#nu Lnu??"
   ]
  },
  {
   "cell_type": "code",
   "execution_count": 203,
   "metadata": {},
   "outputs": [
    {
     "data": {
      "text/plain": [
       "array([4.46684107e+02, 1.37381940e+03, 1.61633880e+03, 2.07173523e+03,\n",
       "       2.02424284e+03, 2.28224601e+03, 2.80042710e+03, 3.75474907e+03,\n",
       "       8.01691007e+03, 4.32267821e+03, 2.44321180e+03, 2.98636938e+03,\n",
       "       1.51052942e+03, 1.82530336e+03, 2.40000000e+05, 5.09379292e+05,\n",
       "       1.21041905e+06, 1.19479702e+06, 1.41548078e+06, 1.99803159e+06])"
      ]
     },
     "execution_count": 203,
     "metadata": {},
     "output_type": "execute_result"
    }
   ],
   "source": [
    "log_widths"
   ]
  },
  {
   "cell_type": "code",
   "execution_count": 137,
   "metadata": {},
   "outputs": [
    {
     "name": "stderr",
     "output_type": "stream",
     "text": [
      "/Users/rs548/anaconda/envs/herschelhelp_internal/lib/python3.6/site-packages/matplotlib/font_manager.py:1297: UserWarning: findfont: Font family ['serif'] not found. Falling back to DejaVu Sans\n",
      "  (prop.get_family(), self.defaultFamily[fontext]))\n"
     ]
    },
    {
     "data": {
      "image/png": "[encoded data removed]",
      "text/plain": [
       "<matplotlib.figure.Figure at 0x14afb9898>"
      ]
     },
     "metadata": {},
     "output_type": "display_data"
    }
   ],
   "source": [
    "# fake data\n",
    "fs = 10  # fontsize\n",
    "# Angstroms     \n",
    "\n",
    "\n",
    "#data = np.array([np.array(coverage['ferr_ap_{}_mean_min'.format(b)]) for b in bands]).T\n",
    "\n",
    "cmap = mpl.cm.viridis\n",
    "norm = mpl.colors.Normalize(vmin=np.min(areas), vmax=np.max(areas))\n",
    "scalmap = mpl.cm.ScalarMappable( cmap=cmap, norm=norm)\n",
    "colors = scalmap.to_rgba(areas)   # The color is the angle\n",
    "colors[:, 3] = 1\n",
    "\n",
    "fig, ax = plt.subplots()\n",
    "\n",
    "ax2 = ax.twiny()\n",
    "\n",
    "#ax2.set_xlim(3000., 100000)\n",
    "#ax2.set_xticks(pos)\n",
    "#ax2.set_xticklabels(['$' + band + '$' for band in bands])\n",
    "#ax2.set_xlabel('band')\n",
    "#ax2.set_xscale('log')\n",
    "ax2.set_xlim(np.log10(300.), np.log10(1000000))\n",
    "ax2.set_xticks(np.log10(np.array(pos)/10))\n",
    "ax2.set_xticklabels(['${}$'.format(band).replace('$Ks$', '').replace('K', 'K/Ks') for band in bands])\n",
    "ax2.set_xlabel('band')\n",
    "#ax2.set_xscale('log')\n",
    "\n",
    "\n",
    "line_styles = [':', '-.', '--', '-']\n",
    "colours = ['y', 'b', 'g', 'r', 'k']\n",
    "for n, z in enumerate([0.25, 1, 2, 3, 4]):\n",
    "    sed = s.copy()\n",
    "    mod = get_module(\"redshifting\", redshift=z)\n",
    "    mod.process(sed)\n",
    "    ax.plot(sed.wavelength_grid, #*10 factor ten turns angstrom to nm fix unit error\n",
    "            #np.log10(sed.fnu * 1.e-3), #This is for flux in Jy\n",
    "            flux_to_mag(sed.fnu * 1.e-3)[0], #This is for flux in mag\n",
    "            c='k',\n",
    "            #c= colours[n],\n",
    "            #linestyle = line_styles[n],\n",
    "            label= 'z = {}'.format(z),\n",
    "            linewidth=1.0,\n",
    "            alpha=1.\n",
    "           )\n",
    "    for m, band in enumerate(cigale_filternames):\n",
    "        continue\n",
    "        if m == 0:\n",
    "            lab = 'z = {}'.format(z)\n",
    "        else:\n",
    "            lab=None\n",
    "        ax.plot([fwhms[m][0], fwhms[m][1]], [np.log10(gal_fluxes[n, m]   )-3, \n",
    "                                     np.log10(gal_fluxes[n, m]   )-3], \n",
    "               # c='k',\n",
    "                c= colours[n],\n",
    "               #linestyle = line_styles[n],\n",
    "               label=lab,\n",
    "                alpha=1.0\n",
    "               )\n",
    "\n",
    "        \n",
    "\n",
    "\n",
    "\n",
    "\n",
    "ax.set_ylabel('5$\\sigma$ depth [mag]')\n",
    "\n",
    "#ax.set_xticks(pos)\n",
    "#ax.set_xticklabels(['${}$'.format(band.replace('Ks', '').replace('K', 'K/Ks')) for band in bands])\n",
    "ax.set_xlim(300., 1000000)\n",
    "ax.set_xscale('log')    \n",
    "ax.set_xlabel('Wavelength [nm]')\n",
    "ax.set_ylim(27, 16)\n",
    "#ax.legend(loc=2)\n",
    "\n",
    "\n",
    "#widths\n",
    "log_widths = np.ones(len(pos)) * (pos) * .2 * widths\n",
    "#areas/np.max(areas)\n",
    "parts = ax.violinplot([flux_to_mag(10**d)[0] for d in data], #flux_to_mag assumes Jy\n",
    "                      positions=np.array(pos)/10, #fix unit error \n",
    "                      widths=log_widths/10, \n",
    "                      showmeans=False, \n",
    "                      showmedians=False, #widths=widths,\n",
    "        showextrema=False)\n",
    "\n",
    "for n, part in enumerate(parts['bodies']):\n",
    "    part.set_facecolor(colors[n])\n",
    "    part.set_alpha(1.0)\n",
    "\n",
    "cax, _ = mpl.colorbar.make_axes([ax, ax2])\n",
    "n_ticks = 7\n",
    "values = np.linspace(0,1200, n_ticks)\n",
    "ticks = values/np.max(areas)\n",
    "\n",
    "cbar = mpl.colorbar.ColorbarBase(cax, cmap=cmap, ticks = ticks)\n",
    "cax.set_yticklabels([int(d) for d in values])\n",
    "cbar.set_label('Area [deg.$^2$]')\n",
    "\n",
    "\n",
    "\n",
    "plt.figtext(0.49, 0.81, 'z = 0.25')\n",
    "plt.figtext(0.70, 0.645, 'z = 1')\n",
    "plt.figtext(0.70, 0.52, 'z = 2')\n",
    "plt.figtext(0.70, 0.435, 'z = 3')\n",
    "plt.figtext(0.70, 0.385, 'z = 4')\n",
    "\n",
    "\n",
    "\n",
    "\n",
    "\n",
    "plt.rc('font', family='serif', serif='Times')\n",
    "plt.rc('text') #, usetex=True)\n",
    "plt.rc('xtick', labelsize=12)\n",
    "plt.rc('ytick', labelsize=12)\n",
    "plt.rc('axes', labelsize=12)\n",
    "\n",
    "#fig.suptitle(\"Violin Plotting Examples\")\n",
    "#fig.subplots_adjust(hspace=0.4)\n",
    "#plt.ylim(-10,10)\n",
    "column_width_cm = 8.9\n",
    "width_cm = 3.0 * column_width_cm\n",
    "hieght_cm = width_cm / 1.9\n",
    "width_inches = width_cm/2.5\n",
    "hieght_inches = hieght_cm/2.5\n",
    "fig.set_size_inches(width_inches, hieght_inches)\n",
    "plt.savefig('./figs/band_depths_overviews_areaweighted_with_black_seds_wave_mag.pdf', bbox_inches='tight')\n",
    "plt.savefig('./figs/band_depths_overviews_areaweighted_with_black_seds_wave_mag.png', bbox_inches='tight')"
   ]
  },
  {
   "cell_type": "code",
   "execution_count": 127,
   "metadata": {},
   "outputs": [
    {
     "data": {
      "text/plain": [
       "['$u$',\n",
       " '$g$',\n",
       " '$r$',\n",
       " '$i$',\n",
       " '$z$',\n",
       " '$y$',\n",
       " '$J$',\n",
       " '$H$',\n",
       " '$K/Ks$',\n",
       " '',\n",
       " '$i1$',\n",
       " '$i2$',\n",
       " '$i3$',\n",
       " '$i4$']"
      ]
     },
     "execution_count": 127,
     "metadata": {},
     "output_type": "execute_result"
    }
   ],
   "source": [
    "['${}$'.format(band).replace('$Ks$', '').replace('K', 'K/Ks') for band in bands]"
   ]
  },
  {
   "cell_type": "code",
   "execution_count": 128,
   "metadata": {},
   "outputs": [
    {
     "data": {
      "text/plain": [
       "(204388,)"
      ]
     },
     "execution_count": 128,
     "metadata": {},
     "output_type": "execute_result"
    }
   ],
   "source": [
    "data[0].shape"
   ]
  },
  {
   "cell_type": "code",
   "execution_count": 129,
   "metadata": {},
   "outputs": [
    {
     "name": "stderr",
     "output_type": "stream",
     "text": [
      "/Users/rs548/anaconda/envs/herschelhelp_internal/lib/python3.6/site-packages/matplotlib/font_manager.py:1297: UserWarning: findfont: Font family ['serif'] not found. Falling back to DejaVu Sans\n",
      "  (prop.get_family(), self.defaultFamily[fontext]))\n"
     ]
    },
    {
     "data": {
      "image/png": "[encoded data removed]",
      "text/plain": [
       "<matplotlib.figure.Figure at 0x148adfa58>"
      ]
     },
     "metadata": {},
     "output_type": "display_data"
    }
   ],
   "source": [
    "\n",
    "\n",
    "fig, ax = plt.subplots()\n",
    "#cmap = mpl.cm.get_cmap('viridis', 256)\n",
    "#norm = mpl.colors.Normalize(vmin=np.min(areas), vmax=np.min(areas))\n",
    "\n",
    "cmap = mpl.cm.viridis\n",
    "norm = mpl.colors.Normalize(vmin=np.min(areas), vmax=np.max(areas))\n",
    "scalmap = mpl.cm.ScalarMappable( cmap=cmap, norm=norm)\n",
    "colors = scalmap.to_rgba(areas)   # The color is the angle\n",
    "colors[:, 3] = 1\n",
    "\n",
    "#cb = mpl.colorbar.ColorbarBase(ax, cmap=cmap,  norm=norm)\n",
    "\n",
    "#cmap = mpl.colors.ListedColormap('viridis')\n",
    "#colors = cmap(np.array(areas))\n",
    "\n",
    "\n",
    "im = plt.scatter(np.arange(len(areas)), areas, c=colors)\n",
    "\n",
    "\n",
    "cax, _ = mpl.colorbar.make_axes(ax)\n",
    "cbar = mpl.colorbar.ColorbarBase(cax, cmap=cmap)\n",
    "cbar.set_label('area [square degrees]')\n",
    "#cax.set_yticklabels(['$-\\pi$', '0', '$\\pi$'])\n",
    "#cb = mpl.colorbar.ColorbarBase(ax, cmap=cmap,  norm=norm)\n",
    "# Optionally add a colorbar\n",
    "#cax, _ = mpl.colorbar.make_axes(ax)\n",
    "#cbar = mpl.colorbar.ColorbarBase(cax, cmap=cmap)\n",
    "\n"
   ]
  },
  {
   "cell_type": "code",
   "execution_count": 106,
   "metadata": {},
   "outputs": [
    {
     "data": {
      "text/plain": [
       "array([[0.151918, 0.500685, 0.557587, 1.      ],\n",
       "       [0.993248, 0.906157, 0.143936, 1.      ],\n",
       "       [0.983868, 0.904867, 0.136897, 1.      ],\n",
       "       [0.983868, 0.904867, 0.136897, 1.      ],\n",
       "       [0.993248, 0.906157, 0.143936, 1.      ],\n",
       "       [0.9553  , 0.901065, 0.118128, 1.      ],\n",
       "       [0.814576, 0.883393, 0.110347, 1.      ],\n",
       "       [0.657642, 0.860219, 0.203082, 1.      ],\n",
       "       [0.120092, 0.600104, 0.54253 , 1.      ],\n",
       "       [0.120565, 0.596422, 0.543611, 1.      ],\n",
       "       [0.273006, 0.20452 , 0.501721, 1.      ],\n",
       "       [0.274128, 0.199721, 0.498911, 1.      ],\n",
       "       [0.267004, 0.004874, 0.329415, 1.      ],\n",
       "       [0.267004, 0.004874, 0.329415, 1.      ]])"
      ]
     },
     "execution_count": 106,
     "metadata": {},
     "output_type": "execute_result"
    }
   ],
   "source": [
    "colors"
   ]
  },
  {
   "cell_type": "code",
   "execution_count": 107,
   "metadata": {},
   "outputs": [
    {
     "name": "stdout",
     "output_type": "stream",
     "text": [
      "(0.9990204970624408, 0.0, 0.0, 1.0) (1.0, 1.0, 0.13529325294031186, 1.0) (0.13425359648991364, 0.0, 0.0, 1.0)\n"
     ]
    },
    {
     "data": {
      "text/plain": [
       "array([[1.        , 0.17402028, 0.        , 1.        ],\n",
       "       [1.        , 1.        , 1.        , 1.        ],\n",
       "       [1.        , 1.        , 0.98455881, 1.        ],\n",
       "       [1.        , 1.        , 0.98455881, 1.        ],\n",
       "       [1.        , 1.        , 1.        , 1.        ],\n",
       "       [1.        , 1.        , 0.93823523, 1.        ],\n",
       "       [1.        , 1.        , 0.72205855, 1.        ],\n",
       "       [1.        , 1.        , 0.49044067, 1.        ],\n",
       "       [1.        , 0.45196101, 0.        , 1.        ],\n",
       "       [1.        , 0.44166691, 0.        , 1.        ],\n",
       "       [0.43280407, 0.        , 0.        , 1.        ],\n",
       "       [0.42250923, 0.        , 0.        , 1.        ],\n",
       "       [0.0416    , 0.        , 0.        , 1.        ],\n",
       "       [0.0416    , 0.        , 0.        , 1.        ]])"
      ]
     },
     "execution_count": 107,
     "metadata": {},
     "output_type": "execute_result"
    }
   ],
   "source": [
    "cmap = mpl.cm.hot\n",
    "norm = mpl.colors.Normalize(vmin=np.min(areas), vmax=np.max(areas))\n",
    "scalmap = mpl.cm.ScalarMappable( cmap=cmap, norm=norm)\n",
    "colors = scalmap.to_rgba(areas)  # The color is the angle\n",
    "#colors[:, 3] = 0.5\n",
    "print(scalmap.to_rgba(500),\n",
    "     scalmap.to_rgba(1000),\n",
    "     scalmap.to_rgba(100))\n",
    "colors"
   ]
  },
  {
   "cell_type": "code",
   "execution_count": 108,
   "metadata": {},
   "outputs": [
    {
     "name": "stderr",
     "output_type": "stream",
     "text": [
      "/Users/rs548/anaconda/envs/herschelhelp_internal/lib/python3.6/site-packages/astropy/table/column.py:984: RuntimeWarning: invalid value encountered in greater\n",
      "  result = getattr(super(), op)(other)\n",
      "/Users/rs548/anaconda/envs/herschelhelp_internal/lib/python3.6/site-packages/astropy/table/column.py:984: RuntimeWarning: invalid value encountered in less\n",
      "  result = getattr(super(), op)(other)\n"
     ]
    },
    {
     "data": {
      "text/plain": [
       "(array([7.0000e+00, 1.7000e+01, 1.8600e+02, 3.4000e+02, 5.3000e+01,\n",
       "        2.6000e+01, 3.5000e+01, 5.0000e+00, 2.8000e+01, 3.2990e+03,\n",
       "        2.6680e+03, 5.9660e+03, 1.2033e+04, 4.6040e+03, 3.4370e+03,\n",
       "        1.7157e+04, 2.4320e+03, 1.5290e+03, 4.9600e+02, 6.8100e+02,\n",
       "        2.0300e+02, 1.0200e+02, 1.6800e+02, 2.9900e+02, 4.3800e+02,\n",
       "        7.4700e+02, 1.4360e+03, 3.1540e+03, 5.1880e+03, 5.7870e+03,\n",
       "        4.5870e+03, 3.0960e+03, 2.1500e+03, 1.0010e+03, 3.9300e+02,\n",
       "        1.2300e+02, 6.0000e+01, 2.6000e+01, 1.3000e+01, 8.0000e+00,\n",
       "        3.0000e+00, 2.0000e+00, 0.0000e+00, 1.0000e+00, 1.0000e+00,\n",
       "        0.0000e+00, 1.0000e+00, 0.0000e+00, 0.0000e+00, 2.0000e+00]),\n",
       " array([-7.47225542, -7.35783564, -7.24341587, -7.1289961 , -7.01457632,\n",
       "        -6.90015655, -6.78573678, -6.67131701, -6.55689723, -6.44247746,\n",
       "        -6.32805769, -6.21363791, -6.09921814, -5.98479837, -5.8703786 ,\n",
       "        -5.75595882, -5.64153905, -5.52711928, -5.4126995 , -5.29827973,\n",
       "        -5.18385996, -5.06944019, -4.95502041, -4.84060064, -4.72618087,\n",
       "        -4.61176109, -4.49734132, -4.38292155, -4.26850177, -4.154082  ,\n",
       "        -4.03966223, -3.92524246, -3.81082268, -3.69640291, -3.58198314,\n",
       "        -3.46756336, -3.35314359, -3.23872382, -3.12430405, -3.00988427,\n",
       "        -2.8954645 , -2.78104473, -2.66662495, -2.55220518, -2.43778541,\n",
       "        -2.32336563, -2.20894586, -2.09452609, -1.98010632, -1.86568654,\n",
       "        -1.75126677]),\n",
       " <a list of 50 Patch objects>)"
      ]
     },
     "execution_count": 108,
     "metadata": {},
     "output_type": "execute_result"
    },
    {
     "name": "stderr",
     "output_type": "stream",
     "text": [
      "/Users/rs548/anaconda/envs/herschelhelp_internal/lib/python3.6/site-packages/matplotlib/font_manager.py:1297: UserWarning: findfont: Font family ['serif'] not found. Falling back to DejaVu Sans\n",
      "  (prop.get_family(), self.defaultFamily[fontext]))\n"
     ]
    },
    {
     "data": {
      "image/png": "[encoded data removed]",
      "text/plain": [
       "<matplotlib.figure.Figure at 0x14478b978>"
      ]
     },
     "metadata": {},
     "output_type": "display_data"
    }
   ],
   "source": [
    "mask = ~np.isnan(coverage['ferr_ap_{}_mean_min'.format('i1')])\n",
    "mask |= coverage['ferr_ap_{}_mean_min'.format('i1')] > 0.\n",
    "mask |= coverage['ferr_ap_{}_mean_min'.format('i1')] <1.e3\n",
    "plt.hist(np.log10(np.array(coverage['ferr_ap_{}_mean_min'.format('i1')][mask ]) *1.e-6), bins=50)"
   ]
  },
  {
   "cell_type": "code",
   "execution_count": 109,
   "metadata": {},
   "outputs": [
    {
     "data": {
      "text/plain": [
       "[577.9251290226341,\n",
       " 1265.6398587541692,\n",
       " 1259.37392295601,\n",
       " 1260.7368205438765,\n",
       " 1263.7397193785541,\n",
       " 1243.774117992813,\n",
       " 1178.0213783491338,\n",
       " 1107.826497397283,\n",
       " 703.7980523037053,\n",
       " 699.6075663592685,\n",
       " 237.4354218895415,\n",
       " 235.95942076741193,\n",
       " 56.67335343073299,\n",
       " 56.5970085451056]"
      ]
     },
     "execution_count": 109,
     "metadata": {},
     "output_type": "execute_result"
    }
   ],
   "source": [
    "areas"
   ]
  },
  {
   "cell_type": "code",
   "execution_count": 110,
   "metadata": {},
   "outputs": [
    {
     "name": "stderr",
     "output_type": "stream",
     "text": [
      "/Users/rs548/anaconda/envs/herschelhelp_internal/lib/python3.6/site-packages/astropy/table/column.py:984: RuntimeWarning: invalid value encountered in greater\n",
      "  result = getattr(super(), op)(other)\n"
     ]
    },
    {
     "data": {
      "text/plain": [
       "17"
      ]
     },
     "execution_count": 110,
     "metadata": {},
     "output_type": "execute_result"
    }
   ],
   "source": [
    "np.sum(np.log10(coverage['ferr_ap_{}_mean_min'.format('i1')] )  >3)"
   ]
  },
  {
   "cell_type": "code",
   "execution_count": 111,
   "metadata": {},
   "outputs": [
    {
     "name": "stderr",
     "output_type": "stream",
     "text": [
      "/Users/rs548/anaconda/envs/herschelhelp_internal/lib/python3.6/site-packages/astropy/table/column.py:984: RuntimeWarning: invalid value encountered in greater\n",
      "  result = getattr(super(), op)(other)\n"
     ]
    },
    {
     "data": {
      "text/plain": [
       "28723"
      ]
     },
     "execution_count": 111,
     "metadata": {},
     "output_type": "execute_result"
    }
   ],
   "source": [
    "np.sum(coverage['ferr_ap_{}_mean_min'.format('i1')]  >10.)"
   ]
  },
  {
   "cell_type": "markdown",
   "metadata": {},
   "source": [
    "## All field comparison"
   ]
  },
  {
   "cell_type": "code",
   "execution_count": 112,
   "metadata": {},
   "outputs": [
    {
     "name": "stderr",
     "output_type": "stream",
     "text": [
      "/Users/rs548/anaconda/envs/herschelhelp_internal/lib/python3.6/site-packages/astropy/table/column.py:984: RuntimeWarning: invalid value encountered in greater\n",
      "  result = getattr(super(), op)(other)\n",
      "/Users/rs548/anaconda/envs/herschelhelp_internal/lib/python3.6/site-packages/astropy/table/column.py:984: RuntimeWarning: invalid value encountered in less\n",
      "  result = getattr(super(), op)(other)\n"
     ]
    }
   ],
   "source": [
    "def depths_sample_field(band, field):\n",
    "    \n",
    "    mask = ~np.isnan(coverage['ferr_ap_{}_mean_min'.format(band)])\n",
    "    mask &= coverage['ferr_ap_{}_mean_min'.format(band)] > 0.\n",
    "    mask &= coverage['ferr_ap_{}_mean_min'.format(band)] <1.e3\n",
    "    mask &= coverage['field'] == field\n",
    "    area = (np.sum(mask)/len(coverage[coverage['field'] == field])) #* 1270. #Return fractional areas\n",
    "    \n",
    "    pixel_depths = np.log10(np.array(coverage['ferr_ap_{}_mean_min'.format(band)][mask]) *5.e-6 )\n",
    "    if np.sum(mask)== 0:\n",
    "        pixel_depths = np.full(100, -9.)\n",
    "    return pixel_depths, area\n",
    "    \n",
    "f = 'ELAIS-N1'\n",
    "data_field = [ depths_sample_field(band, f)[0] for band in bands ]\n",
    "areas_field = [ depths_sample_field(band, f)[1] for band in bands ]"
   ]
  },
  {
   "cell_type": "code",
   "execution_count": 113,
   "metadata": {},
   "outputs": [
    {
     "data": {
      "text/plain": [
       "[0.9446658851113716,\n",
       " 0.994841735052755,\n",
       " 0.9950762016412661,\n",
       " 0.9939038686987104,\n",
       " 0.9950762016412661,\n",
       " 0.9894490035169988,\n",
       " 0.6628370457209848,\n",
       " 0.0,\n",
       " 0.6640093786635405,\n",
       " 0.0,\n",
       " 0.6944900351699883,\n",
       " 0.6958968347010551,\n",
       " 0.6893317702227433,\n",
       " 0.6902696365767879]"
      ]
     },
     "execution_count": 113,
     "metadata": {},
     "output_type": "execute_result"
    }
   ],
   "source": [
    "areas_field"
   ]
  },
  {
   "cell_type": "code",
   "execution_count": 114,
   "metadata": {},
   "outputs": [
    {
     "name": "stderr",
     "output_type": "stream",
     "text": [
      "/Users/rs548/anaconda/envs/herschelhelp_internal/lib/python3.6/site-packages/astropy/table/column.py:984: RuntimeWarning: invalid value encountered in greater\n",
      "  result = getattr(super(), op)(other)\n",
      "/Users/rs548/anaconda/envs/herschelhelp_internal/lib/python3.6/site-packages/astropy/table/column.py:984: RuntimeWarning: invalid value encountered in less\n",
      "  result = getattr(super(), op)(other)\n",
      "/Users/rs548/anaconda/envs/herschelhelp_internal/lib/python3.6/site-packages/matplotlib/font_manager.py:1297: UserWarning: findfont: Font family ['serif'] not found. Falling back to DejaVu Sans\n",
      "  (prop.get_family(), self.defaultFamily[fontext]))\n"
     ]
    },
    {
     "data": {
      "image/png": "[encoded data removed]",
      "text/plain": [
       "<matplotlib.figure.Figure at 0x123be50b8>"
      ]
     },
     "metadata": {},
     "output_type": "display_data"
    }
   ],
   "source": [
    "dim = [4,6]\n",
    "fig, axes = plt.subplots(dim[1], dim[0], sharex=True, sharey=True)\n",
    "plt.rcParams.update({'font.size': 12})\n",
    "cmap = mpl.cm.viridis\n",
    "norm = mpl.colors.Normalize(vmin=0, vmax=1)\n",
    "scalmap = mpl.cm.ScalarMappable( cmap=cmap, norm=norm)\n",
    "\n",
    "for n, f in enumerate(np.unique(coverage['field'])):\n",
    "        \n",
    "    x, y = np.floor_divide(n, dim[0]), np.remainder(n, dim[0])\n",
    "    \n",
    "    \n",
    "    #axes[x,y].scatter( np.arange(20), np.arange(20))\n",
    "    #axes[x,y].legend()\n",
    "    \n",
    "    \n",
    "    #####MAKE FIELD DATA#####\n",
    "    data_field = [ depths_sample_field(band, f)[0] for band in bands ]\n",
    "    areas_field = [ depths_sample_field(band, f)[1] for band in bands ]\n",
    "    data_field_mag = [flux_to_mag(10**d)[0] for d in data_field]\n",
    "    \n",
    "    \n",
    "    colors = scalmap.to_rgba(areas_field)   # The color is the angle\n",
    "    colors[:, 3] = 1\n",
    "\n",
    "   \n",
    "\n",
    "    def set_axis_style(ax, labels):\n",
    "        axes[x,y].get_xaxis().set_tick_params(direction='out')\n",
    "        axes[x,y].xaxis.set_ticks_position('bottom')\n",
    "        axes[x,y].tick_params(axis='x', labelsize=8)\n",
    "        axes[x,y].set_xticks(np.arange(1, len(labels) + 1))\n",
    "        axes[x,y].set_xticklabels(labels)\n",
    "        axes[x,y].set_xlim(0.25, len(labels) + 0.75)\n",
    "        #axes[x,y].set_xlabel('band')\n",
    "        #axes[x,y].set_ylabel('5$\\sigma$ depth [mag]')\n",
    "    #ax.violinplot(np.array(coverage['ferr_ap_{}_mean_min'.format('g') ] ) )\n",
    "    #ax.set_title('Custom violinplot 1', fontsize=fs)\n",
    "\n",
    "    #axes[x,y].set_ylabel('log10( 5$\\sigma$ Depths  [Jy] )')\n",
    "    set_axis_style(axes[x,y], ['$' + band + '$' for band in bands])\n",
    "    axes[x,y].set_ylim(28, 17)\n",
    "\n",
    "\n",
    "\n",
    "    parts = axes[x,y].violinplot(data_field_mag, widths=0.75, showmeans=False, showmedians=False,\n",
    "            showextrema=False)\n",
    "    \n",
    "    \n",
    "    #This is just to add the field name\n",
    "    axes[x,y].scatter([-99],[-99], \n",
    "                      label=f.replace('SGP', 'HATLAS-SGP').replace('NGP', 'HATLAS-NGP'), \n",
    "                      c='w', s=0.0001)\n",
    "    axes[x,y].legend(frameon=False, loc=4)\n",
    "\n",
    "    for n, part in enumerate(parts['bodies']):\n",
    "        part.set_facecolor(colors[n])\n",
    "        part.set_alpha(1)\n",
    "\n",
    "#cax, _ = mpl.colorbar.make_axes(axes[dim[1]-1,dim[0]-1], panchor=(-8.8, 10.6)) #5 3 depend on 4 x 6\n",
    "#This bit moves the color bar\n",
    "cax = inset_axes(axes[dim[1]-1,dim[0]-1],\n",
    "                   width=\"5%\",  # width = 5% of parent_bbox width\n",
    "                   height=\"85%\",  # height : 50%\n",
    "                   loc=3,\n",
    "                   bbox_to_anchor=(0.05, 0.08, 1, 1),\n",
    "                   bbox_transform=axes[dim[1]-1,dim[0]-1].transAxes,\n",
    "                   borderpad=0,\n",
    "                   )\n",
    "\n",
    "ticks = [0, 0.5, 1]\n",
    "cbar = mpl.colorbar.ColorbarBase(cax, cmap=cmap, ticks = ticks)\n",
    "cax.set_yticklabels(ticks)\n",
    "cbar.set_label('coverage')\n",
    "    \n",
    "axes[dim[1]-1,dim[0]-1].tick_params(axis='x', labelsize=8)\n",
    "#axes[dim[1]-1,dim[0]-1].set_xlabel('band')\n",
    "    \n",
    "fig.text(0.5, 0.07, 'Bands', ha='center')\n",
    "fig.text(0.04, 0.5, '5$\\sigma$ depth [mag]', va='center', rotation='vertical')\n",
    "\n",
    "fig.set_size_inches(10, 12)\n",
    "fig.subplots_adjust(hspace=0, wspace=0)\n",
    "\n",
    "plt.rc('axes', labelsize=12)\n",
    "plt.savefig('./figs/fields_depths_comparison_grid.pdf', bbox_inches='tight')\n",
    "plt.savefig('./figs/fields_depths_comparison_grid.png', bbox_inches='tight')"
   ]
  },
  {
   "cell_type": "markdown",
   "metadata": {},
   "source": [
    "## Summarise the filters"
   ]
  },
  {
   "cell_type": "code",
   "execution_count": 115,
   "metadata": {},
   "outputs": [
    {
     "name": "stdout",
     "output_type": "stream",
     "text": [
      "['omegacam_u', 'mmt_u', 'bessell_u', 'lbc_u', 'wfi_u', 'megacam_u', 'mosaic_u', 'wfc_u', 'sdss_u']\n",
      "['mmt_g', 'omegacam_g', 'suprime_g', 'megacam_g', 'wfc_g', 'gpc1_g', 'decam_g', '90prime_g', 'sdss_g']\n",
      "['omegacam_r', 'mmt_r', 'cfht12k_r', 'megacam_r', 'wfi_r', 'suprime_r', 'mosaic_r', 'bessell_r', 'wfc_r', 'gpc1_r', 'decam_r', 'sdss_r', '90prime_r']\n",
      "['sdss_i', 'decam_i', 'gpc1_i', 'wfc_i', 'bessell_i', 'mosaic_i', 'megacam_i', 'wfi_i', 'suprime_i', 'cfht12k_i', 'mmt_i', 'omegacam_i']\n",
      "['decam_z', '90prime_z', 'sdss_z', 'wfc_z', 'gpc1_z', 'suprime_z', 'megacam_z', 'vista_z', 'mosaic_z', 'omegacam_z', 'mmt_z']\n",
      "['decam_y', 'ukidss_y', 'gpc1_y', 'suprime_y', 'megacam_y', 'vista_y', 'lbc_y', 'wircam_y']\n",
      "['omega2000_j', 'ukidss_j', 'vista_j', 'newfirm_j', 'wircs_j', 'wircam_j']\n",
      "['ukidss_h', 'vista_h', 'newfirm_h', 'wircam_h']\n",
      "['isaac_k', 'moircs_k', 'ukidss_k', 'newfirm_k', 'wircs_k', 'hawki_k']\n",
      "['wircam_ks', 'vista_ks', 'moircs_ks', 'omega2000_ks', 'tifkam_ks']\n",
      "['irac_i1']\n",
      "['irac_i2']\n",
      "['irac_i3']\n",
      "['irac_i4']\n"
     ]
    }
   ],
   "source": [
    "for band in bands:\n",
    "    specific_bands = [f for f in filters if f.split('_')[1] == band.lower()]\n",
    "    print(specific_bands)\n",
    "    for specific_band in specific_bands:\n",
    "        if 'ferr_ap_{}_mean'.format(specific_band) not in coverage.colnames:\n",
    "            specific_bands.remove(specific_band)\n",
    "    #print(specific_bands)"
   ]
  },
  {
   "cell_type": "code",
   "execution_count": 116,
   "metadata": {},
   "outputs": [],
   "source": [
    "filter_info = Table.read(herschelhelp_python_loc + 'documentation/filters.csv')"
   ]
  },
  {
   "cell_type": "code",
   "execution_count": 117,
   "metadata": {},
   "outputs": [
    {
     "data": {
      "text/html": [
       "<i>Table masked=True length=80</i>\n",
       "<table id=\"table5513697936\" class=\"table-striped table-bordered table-condensed\">\n",
       "<thead><tr><th>﻿filter_file</th><th>telescope</th><th>camera</th><th>filter</th><th>surveys</th><th>description</th><th>wavelength_region</th><th>ucd</th></tr></thead>\n",
       "<thead><tr><th>str17</th><th>str83</th><th>str83</th><th>str6</th><th>int64</th><th>int64</th><th>str3</th><th>str12</th></tr></thead>\n",
       "<tr><td>90prime_g.xml</td><td>The Bok Telescope</td><td>The 90-inch prime focus camera (90prime)</td><td>g</td><td>--</td><td>--</td><td>opt</td><td>B</td></tr>\n",
       "<tr><td>90prime_r.xml</td><td>The Bok Telescope</td><td>The 90-inch prime focus camera (90prime)</td><td>r</td><td>--</td><td>--</td><td>opt</td><td>R</td></tr>\n",
       "<tr><td>90prime_z.xml</td><td>The Bok Telescope</td><td>The 90-inch prime focus camera (90prime)</td><td>z</td><td>--</td><td>--</td><td>opt</td><td>I</td></tr>\n",
       "<tr><td>bessell_i.xml</td><td>Standardised telescope response (telescope uknown)</td><td>Standard camera response (camera unknown)</td><td>i</td><td>--</td><td>--</td><td>opt</td><td>I</td></tr>\n",
       "<tr><td>bessell_r.xml</td><td>Standardised telescope response (telescope uknown)</td><td>Standard camera response (camera unknown)</td><td>r</td><td>--</td><td>--</td><td>opt</td><td>R</td></tr>\n",
       "<tr><td>bessell_u.xml</td><td>Standardised telescope response (telescope uknown)</td><td>Standard camera response (camera unknown)</td><td>u</td><td>--</td><td>--</td><td>opt</td><td>U</td></tr>\n",
       "<tr><td>cfht12k_i.xml</td><td>Canada France Hawaii Telescope (CFHT)</td><td>The CFH12K prime focus 12K camera</td><td>i</td><td>--</td><td>--</td><td>opt</td><td>I</td></tr>\n",
       "<tr><td>cfht12k_r.xml</td><td>Canada France Hawaii Telescope (CFHT)</td><td>The CFH12K prime focus 12K camera</td><td>r</td><td>--</td><td>--</td><td>opt</td><td>R</td></tr>\n",
       "<tr><td>decam_g.xml</td><td>Blanco</td><td>The Dark Energy Camera (DECam)</td><td>g</td><td>--</td><td>--</td><td>opt</td><td>B</td></tr>\n",
       "<tr><td>decam_i.xml</td><td>Blanco</td><td>The Dark Energy Camera (DECam)</td><td>i</td><td>--</td><td>--</td><td>opt</td><td>I</td></tr>\n",
       "<tr><td>...</td><td>...</td><td>...</td><td>...</td><td>...</td><td>...</td><td>...</td><td>...</td></tr>\n",
       "<tr><td>wfc_r.xml</td><td>Isaac Newton Telescope (INT)</td><td>The Wide Field Camera (WFC)</td><td>r</td><td>--</td><td>--</td><td>opt</td><td>R</td></tr>\n",
       "<tr><td>wfc_u.xml</td><td>Isaac Newton Telescope (INT)</td><td>The Wide Field Camera (WFC)</td><td>u</td><td>--</td><td>--</td><td>opt</td><td>U</td></tr>\n",
       "<tr><td>wfc_z.xml</td><td>Isaac Newton Telescope (INT)</td><td>The Wide Field Camera (WFC)</td><td>z</td><td>--</td><td>--</td><td>opt</td><td>I</td></tr>\n",
       "<tr><td>wfi_i.xml</td><td>The Max Planck Gesellschaft (MPG) telescope</td><td>The Wide Field Imager (WFI)</td><td>i</td><td>--</td><td>--</td><td>opt</td><td>I</td></tr>\n",
       "<tr><td>wfi_u.xml</td><td>The Max Planck Gesellschaft (MPG) telescope</td><td>The Wide Field Imager (WFI)</td><td>u</td><td>--</td><td>--</td><td>opt</td><td>U</td></tr>\n",
       "<tr><td>wircam_h.xml</td><td>Canada France Hawaii Telescope (CFHT)</td><td>Wide-field InfraRed Camera (WIRCam)</td><td>H</td><td>--</td><td>--</td><td>IR</td><td>H</td></tr>\n",
       "<tr><td>wircam_j.xml</td><td>Canada France Hawaii Telescope (CFHT)</td><td>Wide-field InfraRed Camera (WIRCam)</td><td>J</td><td>--</td><td>--</td><td>IR</td><td>J</td></tr>\n",
       "<tr><td>wircam_ks.xml</td><td>Canada France Hawaii Telescope (CFHT)</td><td>Wide-field InfraRed Camera (WIRCam)</td><td>Ks</td><td>--</td><td>--</td><td>IR</td><td>K</td></tr>\n",
       "<tr><td>wircs_j.xml</td><td>Palomar 200-inch Hale Telescope (P200)</td><td>Wide Infrared Camera (WIRC)</td><td>J</td><td>--</td><td>--</td><td>IR</td><td>J</td></tr>\n",
       "<tr><td>wircs_k.xml</td><td>Palomar 200-inch Hale Telescope (P200)</td><td>Wide Infrared Camera (WIRC)</td><td>Ks</td><td>--</td><td>--</td><td>IR</td><td>K</td></tr>\n",
       "</table>"
      ],
      "text/plain": [
       "<Table masked=True length=80>\n",
       " ﻿filter_file                     telescope                      ...  ucd \n",
       "    str17                           str83                        ... str12\n",
       "------------- -------------------------------------------------- ... -----\n",
       "90prime_g.xml                                  The Bok Telescope ...     B\n",
       "90prime_r.xml                                  The Bok Telescope ...     R\n",
       "90prime_z.xml                                  The Bok Telescope ...     I\n",
       "bessell_i.xml Standardised telescope response (telescope uknown) ...     I\n",
       "bessell_r.xml Standardised telescope response (telescope uknown) ...     R\n",
       "bessell_u.xml Standardised telescope response (telescope uknown) ...     U\n",
       "cfht12k_i.xml              Canada France Hawaii Telescope (CFHT) ...     I\n",
       "cfht12k_r.xml              Canada France Hawaii Telescope (CFHT) ...     R\n",
       "  decam_g.xml                                             Blanco ...     B\n",
       "  decam_i.xml                                             Blanco ...     I\n",
       "          ...                                                ... ...   ...\n",
       "    wfc_r.xml                       Isaac Newton Telescope (INT) ...     R\n",
       "    wfc_u.xml                       Isaac Newton Telescope (INT) ...     U\n",
       "    wfc_z.xml                       Isaac Newton Telescope (INT) ...     I\n",
       "    wfi_i.xml        The Max Planck Gesellschaft (MPG) telescope ...     I\n",
       "    wfi_u.xml        The Max Planck Gesellschaft (MPG) telescope ...     U\n",
       " wircam_h.xml              Canada France Hawaii Telescope (CFHT) ...     H\n",
       " wircam_j.xml              Canada France Hawaii Telescope (CFHT) ...     J\n",
       "wircam_ks.xml              Canada France Hawaii Telescope (CFHT) ...     K\n",
       "  wircs_j.xml             Palomar 200-inch Hale Telescope (P200) ...     J\n",
       "  wircs_k.xml             Palomar 200-inch Hale Telescope (P200) ...     K"
      ]
     },
     "execution_count": 117,
     "metadata": {},
     "output_type": "execute_result"
    }
   ],
   "source": [
    "has_broad_typical = np.full(len(filter_info), False)\n",
    "for band in bands:\n",
    "    has_broad_typical |= filter_info['filter'] == band\n",
    "    \n",
    "filter_info[has_broad_typical]"
   ]
  },
  {
   "cell_type": "code",
   "execution_count": 118,
   "metadata": {},
   "outputs": [],
   "source": [
    "has_optical = np.full(len(filter_info), False)\n",
    "optical_bands = ['u', 'g', 'r', 'i', 'z', 'y']\n",
    "has_near_infrared = np.full(len(filter_info), False)\n",
    "near_infrared_bands = ['J', 'H', 'K', 'Ks']\n",
    "\n",
    "for band in bands:\n",
    "    if band in optical_bands:\n",
    "        has_optical |= filter_info['filter'] == band\n",
    "    if band in near_infrared_bands:\n",
    "        has_near_infrared |= filter_info['filter'] == band"
   ]
  },
  {
   "cell_type": "code",
   "execution_count": 119,
   "metadata": {},
   "outputs": [
    {
     "name": "stdout",
     "output_type": "stream",
     "text": [
      "$grizy$\n"
     ]
    }
   ],
   "source": [
    "def get_bands(camera):\n",
    "    band_list = []\n",
    "    for b in filter_info['filter'][filter_info['camera'] == camera]:\n",
    "        #print(b)\n",
    "        band_list.append( b)\n",
    "    band_list_ordered_string = ''\n",
    "    for band in bands:\n",
    "        if band in band_list:\n",
    "            band_list_ordered_string += band\n",
    "    \n",
    "    return '$' + band_list_ordered_string + '$'\n",
    "\n",
    "\n",
    "\n",
    "print(get_bands('HyperSuprimeCam'))"
   ]
  },
  {
   "cell_type": "code",
   "execution_count": 120,
   "metadata": {},
   "outputs": [
    {
     "name": "stdout",
     "output_type": "stream",
     "text": [
      "From HyperSuprimeCam on the Subaru telescope we have the optical bands $grizy$. From MegaCam on the Multiple Mirror Telescope (MMT) Observatory we have the optical bands $ugriz$. From MegaPrime/MegaCam on Canada France Hawaii Telescope (CFHT) we have the optical bands $ugrizy$. From Mosaic-3 Wide Field Imager on the Kitt Peak National Observatory we have the optical bands $uriz$. From OmegaCAM on the Very Large Telescope (VLT) Survey Telescope (VST) at Paranal we have the optical bands $ugriz$. From the 90-inch prime focus camera (90prime) on the Bok Telescope we have the optical bands $grz$. From the CFH12K prime focus 12K camera on Canada France Hawaii Telescope (CFHT) we have the optical bands $ri$. From the Dark Energy Camera (DECam) on Blanco we have the optical bands $grizy$. From the Pan-STARRS Gigapixel Camera on the Panoramic Survey Telescope and Rapid Response System (Pan-STARRS) we have the optical bands $grizy$. From the Sloan Digital Sky Survey (SDSS) standard camera on the Sloan Digital Sky Survey (SDSS) dedicated telescope at Apache Point Observatory we have the optical bands $ugriz$. From the Wide Field Camera (WFC) on Isaac Newton Telescope (INT) we have the optical bands $ugriz$. From the Wide Field Imager (WFI) on the Max Planck Gesellschaft (MPG) telescope we have the optical bands $ui$. \n"
     ]
    }
   ],
   "source": [
    "\n",
    "\n",
    "optical_sentence = ''\n",
    "for camera in np.unique(filter_info['camera'][has_optical]):\n",
    "    if camera == 'Standard camera response (camera unknown)':\n",
    "        continue\n",
    "    row = filter_info[filter_info['camera'] == camera][0] \n",
    "    optical_sentence += 'From {} on {} we have the optical bands {}. '.format(row['camera'].replace('The', 'the'), \n",
    "                                                             row['telescope'].replace('The', 'the'),\n",
    "                                                             get_bands(camera))\n",
    "    \n",
    "print(optical_sentence)"
   ]
  },
  {
   "cell_type": "code",
   "execution_count": 121,
   "metadata": {},
   "outputs": [
    {
     "name": "stdout",
     "output_type": "stream",
     "text": [
      "From National Optical Astronomy Observatory (NOAO) Extremely Wide-Field Imager (NEWFIRM) on National Optical Astronomy Observatory (NOAO) Gemini Observatory we have the optical bands $JHK$. From the High Acuity Wide field K-band Imager (HAWK-I) on the Very Large Telescope (VLT) at Paranal we have the optical bands $K$. From the Infrared Spectrometer And Array Camera (ISAAC) on the Very Large Telescope (VLT) at Paranal we have the optical bands $Ks$. From the Infrared Wide-Field Camera OMEGA2000 on the 3.5m telescope at Calar Alto we have the optical bands $JKs$. From the Instrument Formerly Known as Mosaic (TIFKAM) on the Michigan Dartmouth MIT (MDM) Observatory we have the optical bands $Ks$. From the Multi Object Infrared Camera and Spectrograph (MOIRCS) on the Subaru telescope we have the optical bands $KKs$. From the VISTA InfraRed CAMera (VIRCAM) on the 4.1m Visible and Infrared Survey Telescope for Astronomy (VISTA) we have the optical bands $JHKs$. From the Wide Field Camera (WFCAM) on the United Kingdom Infrared Telescope (UKIRT) we have the optical bands $JHK$. From Wide Infrared Camera (WIRC) on Palomar 200-inch Hale Telescope (P200) we have the optical bands $JKs$. From Wide-field InfraRed Camera (WIRCam) on Canada France Hawaii Telescope (CFHT) we have the optical bands $JHKs$. \n"
     ]
    }
   ],
   "source": [
    "near_infrared_sentence = ''\n",
    "for camera in np.unique(filter_info['camera'][has_near_infrared]):\n",
    "    if camera == 'Standard camera response (camera unknown)':\n",
    "        continue\n",
    "    row = filter_info[filter_info['camera'] == camera][0] \n",
    "    near_infrared_sentence += 'From {} on {} we have the optical bands {}. '.format(row['camera'].replace('The', 'the'), \n",
    "                                                             row['telescope'].replace('The', 'the'),\n",
    "                                                             get_bands(camera))\n",
    "    \n",
    "print(near_infrared_sentence)"
   ]
  },
  {
   "cell_type": "markdown",
   "metadata": {},
   "source": [
    "## Count the number of flagged objects\n",
    "\n",
    "For each band lets count the number of objects that have a flag"
   ]
  },
  {
   "cell_type": "raw",
   "metadata": {},
   "source": [
    "\n",
    "# Import the module\n",
    "\n",
    "# Setting up the service object \n",
    "service = vo.dal.TAPService(\"https://herschel-vos.phys.sussex.ac.uk/__system__/tap/run/tap\")\n",
    "# Downloading the data\n",
    "query = \"SELECT COUNT(*) as n, flag_merged FROM herschelhelp.main GROUP BY flag_merged \" \n",
    "    \n",
    "\n",
    "\n",
    "#Then we execute the query\n",
    "#resultset = service.run_async(irac_i1_query)\n",
    "job = service.submit_job(query)\n",
    "job.run()\n",
    "job_url = job.url\n",
    "job_result = vo.dal.tap.AsyncTAPJob(job_url)\n",
    "start_time = time.time()\n",
    "wait = 10\n",
    "while job.phase == 'EXECUTING':\n",
    "    print('Job still running after {} seconds.'.format(round(time.time() - start_time)))\n",
    "    time.sleep(wait) #wait ten seconds and try again\n",
    "    wait *= 2\n",
    "    \n",
    "print(job.phase)\n",
    "table = job_result.fetch_result() "
   ]
  },
  {
   "cell_type": "markdown",
   "metadata": {},
   "source": [
    "# Make cumulative 1 d depths for MIPS, PACS, SPIRE"
   ]
  },
  {
   "cell_type": "code",
   "execution_count": 235,
   "metadata": {},
   "outputs": [
    {
     "data": {
      "text/plain": [
       "array([15.0531  , 15.0531  , 15.0531  , ..., 44.835475, 44.835475,\n",
       "       44.835475])"
      ]
     },
     "execution_count": 235,
     "metadata": {},
     "output_type": "execute_result"
    }
   ],
   "source": [
    "np.array(en1_depths['ferr_mips_24_mean'])[~np.isnan(en1_depths['ferr_mips_24_mean'])]"
   ]
  },
  {
   "cell_type": "code",
   "execution_count": 257,
   "metadata": {},
   "outputs": [
    {
     "name": "stderr",
     "output_type": "stream",
     "text": [
      "/Users/rs548/anaconda/envs/herschelhelp_internal/lib/python3.6/site-packages/matplotlib/font_manager.py:1297: UserWarning: findfont: Font family ['serif'] not found. Falling back to DejaVu Sans\n",
      "  (prop.get_family(), self.defaultFamily[fontext]))\n"
     ]
    },
    {
     "data": {
      "image/png": "[encoded data removed]",
      "text/plain": [
       "<matplotlib.figure.Figure at 0x1278d5748>"
      ]
     },
     "metadata": {},
     "output_type": "display_data"
    }
   ],
   "source": [
    "\n",
    "\n",
    "fig, ax = plt.subplots()\n",
    "\n",
    "#good = np.log10(np.array(g_table['ferr_g_min'])*1.e-6) > -20\n",
    "#good &= np.log10(np.array(g_table['ferr_g_min'])*1.e-6) <20\n",
    "\n",
    "mips_pix_mag_depths = np.array(np.log10(en1_depths['ferr_mips_24_mean']*1.e-6 ))\n",
    "cells, fluxes = np.histogram(mips_pix_mag_depths[~np.isnan(mips_pix_mag_depths)], bins=1000)\n",
    "cells =np.flip(cells)\n",
    "fluxes = np.flip(fluxes)\n",
    "\n",
    "ax.plot(fluxes[1:],\n",
    "         np.cumsum(cells)*200./cells.sum() ,\n",
    "        drawstyle='steps')\n",
    "\n",
    "ax.set_xlabel('log10(2$\\sigma$ MIPS 24 depth [Jy]) ')\n",
    "ax.set_ylabel('Cumulative area [deg.$^2$]')\n",
    "ax.set_xlim([-5,-4.5])\n",
    "ax.set_ylim([0,210])\n",
    "#y_vals = ax.get_yticks()\n",
    "#ax.set_yticklabels([n for n in y_vals])\n",
    "\n",
    "\n",
    "\n",
    "plt.rc('font', family='serif', serif='Times')\n",
    "plt.rc('text') #, usetex=True)\n",
    "plt.rc('xtick', labelsize=12)\n",
    "plt.rc('ytick', labelsize=12)\n",
    "plt.rc('axes', labelsize=12)\n",
    "\n",
    "column_width_cm = 8.9\n",
    "width_cm = 1.0 * column_width_cm\n",
    "hieght_cm = width_cm \n",
    "width_inches = width_cm/2.5\n",
    "hieght_inches = hieght_cm/2.5\n",
    "fig.set_size_inches(width_inches, hieght_inches)\n",
    "\n",
    "\n",
    "plt.savefig('./figs/mips_cumulative_area_depth.pdf', bbox_inches='tight')\n",
    "plt.savefig('./figs/mips_cumulative_area_depth.png', bbox_inches='tight')"
   ]
  },
  {
   "cell_type": "code",
   "execution_count": 258,
   "metadata": {},
   "outputs": [
    {
     "name": "stderr",
     "output_type": "stream",
     "text": [
      "/Users/rs548/anaconda/envs/herschelhelp_internal/lib/python3.6/site-packages/matplotlib/font_manager.py:1297: UserWarning: findfont: Font family ['serif'] not found. Falling back to DejaVu Sans\n",
      "  (prop.get_family(), self.defaultFamily[fontext]))\n"
     ]
    },
    {
     "data": {
      "image/png": "[encoded data removed]",
      "text/plain": [
       "<matplotlib.figure.Figure at 0x148a36eb8>"
      ]
     },
     "metadata": {},
     "output_type": "display_data"
    }
   ],
   "source": [
    "\n",
    "\n",
    "fig, ax = plt.subplots()\n",
    "\n",
    "#good = np.log10(np.array(g_table['ferr_g_min'])*1.e-6) > -20\n",
    "#good &= np.log10(np.array(g_table['ferr_g_min'])*1.e-6) <20\n",
    "\n",
    "pacs_pix_mag_depths = np.array(np.log10(en1_depths['ferr_pacs_green_mean']*1.e-6 ))\n",
    "cells, fluxes = np.histogram(pacs_pix_mag_depths[~np.isnan(pacs_pix_mag_depths)], bins=1000)\n",
    "cells =np.flip(cells)\n",
    "fluxes = np.flip(fluxes)\n",
    "\n",
    "ax.plot(fluxes[1:],\n",
    "         np.cumsum(cells)*200./cells.sum() ,\n",
    "        drawstyle='steps')\n",
    "\n",
    "ax.set_xlabel('log10(2$\\sigma$ PACS 100 depth [Jy]) ')\n",
    "ax.set_ylabel('Cumulative area [deg.$^2$]')\n",
    "ax.set_xlim([-2.2,-1.5])\n",
    "ax.set_ylim([0,210])\n",
    "#y_vals = ax.get_yticks()\n",
    "#ax.set_yticklabels([n for n in y_vals])\n",
    "\n",
    "\n",
    "\n",
    "plt.rc('font', family='serif', serif='Times')\n",
    "plt.rc('text') #, usetex=True)\n",
    "plt.rc('xtick', labelsize=12)\n",
    "plt.rc('ytick', labelsize=12)\n",
    "plt.rc('axes', labelsize=12)\n",
    "\n",
    "column_width_cm = 8.9\n",
    "width_cm = 1.0 * column_width_cm\n",
    "hieght_cm = width_cm \n",
    "width_inches = width_cm/2.5\n",
    "hieght_inches = hieght_cm/2.5\n",
    "fig.set_size_inches(width_inches, hieght_inches)\n",
    "\n",
    "\n",
    "plt.savefig('./figs/pacs_cumulative_area_depth.pdf', bbox_inches='tight')\n",
    "plt.savefig('./figs/pacs_cumulative_area_depth.png', bbox_inches='tight')"
   ]
  },
  {
   "cell_type": "code",
   "execution_count": 259,
   "metadata": {},
   "outputs": [
    {
     "name": "stderr",
     "output_type": "stream",
     "text": [
      "/Users/rs548/anaconda/envs/herschelhelp_internal/lib/python3.6/site-packages/matplotlib/font_manager.py:1297: UserWarning: findfont: Font family ['serif'] not found. Falling back to DejaVu Sans\n",
      "  (prop.get_family(), self.defaultFamily[fontext]))\n"
     ]
    },
    {
     "data": {
      "image/png": "[encoded data removed]",
      "text/plain": [
       "<matplotlib.figure.Figure at 0x149d72400>"
      ]
     },
     "metadata": {},
     "output_type": "display_data"
    }
   ],
   "source": [
    "\n",
    "\n",
    "fig, ax = plt.subplots()\n",
    "\n",
    "#good = np.log10(np.array(g_table['ferr_g_min'])*1.e-6) > -20\n",
    "#good &= np.log10(np.array(g_table['ferr_g_min'])*1.e-6) <20\n",
    "\n",
    "spire_pix_mag_depths = np.array(np.log10(en1_depths['ferr_spire_250_mean']*1.e-6 ))\n",
    "cells, fluxes = np.histogram(spire_pix_mag_depths[~np.isnan(spire_pix_mag_depths)], bins=1000)\n",
    "cells =np.flip(cells)\n",
    "fluxes = np.flip(fluxes)\n",
    "\n",
    "ax.plot(fluxes[1:],\n",
    "         np.cumsum(cells)*1100./cells.sum() ,\n",
    "        drawstyle='steps')\n",
    "\n",
    "ax.set_xlabel('log10(2$\\sigma$ SPIRE 250 depth [Jy])')\n",
    "ax.set_ylabel('Cumulative area [deg.$^2$]')\n",
    "#ax.set_xlim([-2.2,-1.5])\n",
    "ax.set_ylim([0,1200])\n",
    "#y_vals = ax.get_yticks()\n",
    "#ax.set_yticklabels([n for n in y_vals])\n",
    "\n",
    "\n",
    "\n",
    "plt.rc('font', family='serif', serif='Times')\n",
    "plt.rc('text') #, usetex=True)\n",
    "plt.rc('xtick', labelsize=12)\n",
    "plt.rc('ytick', labelsize=12)\n",
    "plt.rc('axes', labelsize=12)\n",
    "\n",
    "column_width_cm = 8.9\n",
    "width_cm = 1.0 * column_width_cm\n",
    "hieght_cm = width_cm \n",
    "width_inches = width_cm/2.5\n",
    "hieght_inches = hieght_cm/2.5\n",
    "fig.set_size_inches(width_inches, hieght_inches)\n",
    "\n",
    "\n",
    "plt.savefig('./figs/spire_cumulative_area_depth.pdf', bbox_inches='tight')\n",
    "plt.savefig('./figs/spire_cumulative_area_depth.png', bbox_inches='tight')"
   ]
  },
  {
   "cell_type": "markdown",
   "metadata": {},
   "source": [
    "# 2d depth plots\n",
    "\n",
    "Make a cumulative 2d area that is at least as deep."
   ]
  },
  {
   "cell_type": "code",
   "execution_count": 263,
   "metadata": {},
   "outputs": [],
   "source": [
    "en1_d = Table.read('../../../dmu32/dmu32_ELAIS-N1/data/depths_elais-n1_20171016.fits')"
   ]
  },
  {
   "cell_type": "code",
   "execution_count": 277,
   "metadata": {},
   "outputs": [
    {
     "name": "stderr",
     "output_type": "stream",
     "text": [
      "/Users/rs548/anaconda/envs/herschelhelp_internal/lib/python3.6/site-packages/astropy/table/column.py:984: RuntimeWarning: invalid value encountered in less\n",
      "  result = getattr(super(), op)(other)\n",
      "/Users/rs548/anaconda/envs/herschelhelp_internal/lib/python3.6/site-packages/astropy/table/column.py:984: RuntimeWarning: invalid value encountered in greater\n",
      "  result = getattr(super(), op)(other)\n"
     ]
    },
    {
     "data": {
      "text/plain": [
       "(array([[   0.,    0.,    0.,    0.,    0.,    0.,    0.,   64.,   64.,\n",
       "           64.,  192.,  128.,  256.,  128.,  192.,   64.,  320.,    0.,\n",
       "            0.,    0.,    0.,    0.,    0.,    0.,    0.],\n",
       "        [   0.,    0.,    0.,    0.,    0.,    0.,   64.,   64.,  192.,\n",
       "          256.,  512.,  768.,  896.,  320.,  960.,  640.,  320.,  192.,\n",
       "            0.,    0.,    0.,    0.,    0.,    0.,    0.],\n",
       "        [   0.,    0.,    0.,    0.,    0.,    0.,   64.,  192.,  384.,\n",
       "          448.,  704.,  896., 1344.,  512.,  576.,  448.,  448.,  320.,\n",
       "          128.,   64.,    0.,    0.,    0.,    0.,    0.],\n",
       "        [   0.,    0.,    0.,    0.,    0.,    0.,   64.,  256.,  128.,\n",
       "          768.,  960., 1152., 1280., 1344.,  832.,  832.,  320.,  192.,\n",
       "            0.,    0.,    0.,    0.,    0.,    0.,    0.],\n",
       "        [   0.,    0.,   64.,    0.,    0.,   64.,  128.,  320.,  256.,\n",
       "          384.,  576.,  640.,  576.,  448.,  640.,  512.,  320.,  256.,\n",
       "           64.,    0.,   64.,    0.,    0.,    0.,    0.],\n",
       "        [   0.,    0.,   64.,    0.,    0.,    0.,    0.,  128.,  128.,\n",
       "          448.,  384.,  512.,  640.,  576.,  640.,  256.,  192.,  256.,\n",
       "          192.,    0.,    0.,    0.,    0.,    0.,    0.],\n",
       "        [  64.,    0.,    0.,    0.,    0.,    0.,   64.,  192.,  448.,\n",
       "          192.,  192.,  384.,  448.,  384.,  512.,   64.,  320.,   64.,\n",
       "          128.,    0.,    0.,    0.,    0.,    0.,    0.],\n",
       "        [   0.,   64.,    0.,    0.,    0.,   64.,   64.,   64.,    0.,\n",
       "          384.,  448.,  192.,  320.,  384.,  256.,  256.,  192.,    0.,\n",
       "            0.,    0.,   64.,   64.,    0.,    0.,    0.],\n",
       "        [  64.,   64.,    0.,   64.,    0.,    0.,   64.,  192.,  320.,\n",
       "          256.,  128.,  576.,  704.,  384.,  192.,  256.,    0.,   64.,\n",
       "            0.,    0.,    0.,    0.,    0.,    0.,   64.],\n",
       "        [  64.,   64.,   64.,    0.,    0.,    0.,  192.,  192.,  192.,\n",
       "          256.,  192.,  384.,  640.,  256.,  448.,  192.,  320.,   64.,\n",
       "           64.,    0.,   64.,    0.,   64.,    0.,    0.],\n",
       "        [   0.,   64.,   64.,  192.,    0.,    0.,  320.,  704.,  256.,\n",
       "          384.,  512.,  512.,  576.,  832.,   64.,  320.,   64.,    0.,\n",
       "            0.,    0.,   64.,    0.,    0.,   64.,    0.],\n",
       "        [  64.,   64.,    0.,  128.,  128.,  128.,  128.,  320.,  256.,\n",
       "          384.,  576.,  576.,  320.,  512.,  576.,   64.,   64.,  128.,\n",
       "           64.,    0.,    0.,    0.,    0.,    0.,    0.],\n",
       "        [ 128.,   64.,    0.,    0.,  128.,  128.,  320.,  384.,  576.,\n",
       "          960.,  960.,  960.,  704.,  640.,  704.,   64.,  256.,  128.,\n",
       "            0.,   64.,    0.,    0.,    0.,    0.,    0.],\n",
       "        [   0.,  192.,  192.,  256.,  256.,  320.,   64.,  576., 1536.,\n",
       "          768.,  768.,  832.,  832.,  768.,  448.,  576.,  256.,  256.,\n",
       "            0.,  128.,    0.,   64.,    0.,    0.,    0.],\n",
       "        [  64.,  128.,    0.,  256.,  256.,  704.,  448.,  832., 1600.,\n",
       "          704., 1280., 1344., 1344., 1152.,  320.,  576.,  256.,    0.,\n",
       "           64.,    0.,    0.,    0.,    0.,    0.,   64.],\n",
       "        [ 192.,   64.,  256.,  448.,  448.,  384.,  576., 1088., 1152.,\n",
       "         1088., 1792., 1664., 1536.,  512.,  832.,  896.,    0.,   64.,\n",
       "           64.,  128.,  128.,    0.,    0.,    0.,   64.],\n",
       "        [   0.,   64.,  128.,  256.,   64.,  832., 1408.,  896., 1536.,\n",
       "         1408., 1344., 1536., 1344.,  960.,  576.,  576.,  192.,    0.,\n",
       "            0.,   64.,   64.,    0.,    0.,    0.,    0.],\n",
       "        [ 192.,   64.,  320.,  256.,  320.,  576.,  640., 1088., 1024.,\n",
       "         1088., 1088., 1024., 1024.,  640.,  960.,  192.,  256.,   64.,\n",
       "           64.,    0.,    0.,    0.,    0.,    0.,    0.],\n",
       "        [  64.,  320.,   64.,  192.,  384.,  704.,  768., 1088.,  832.,\n",
       "         1152., 1024., 1408., 1024.,  448.,  320.,  384.,  320.,  128.,\n",
       "           64.,    0.,    0.,    0.,    0.,    0.,   64.],\n",
       "        [ 128.,   64.,    0.,  128.,  256.,  576.,  384.,  512.,  896.,\n",
       "         1152.,  768.,  960.,  576., 1088.,  704.,  320.,  192.,    0.,\n",
       "            0.,    0.,   64.,    0.,    0.,    0.,    0.],\n",
       "        [   0.,  192.,    0.,  256.,  128.,  256.,   64.,  576.,  448.,\n",
       "          384.,  512.,  320.,  448.,  768.,  320.,  192.,   64.,  128.,\n",
       "            0.,    0.,    0.,    0.,    0.,    0.,    0.],\n",
       "        [  64.,   64.,    0.,  128.,  384.,  192.,  320.,  512.,  448.,\n",
       "          256.,  640.,  640.,  384.,  704.,  192.,  192.,   64.,    0.,\n",
       "           64.,    0.,    0.,    0.,    0.,    0.,   64.],\n",
       "        [  64.,    0.,   64.,   64.,  128.,  256.,  512.,  256.,  192.,\n",
       "          704.,  384.,  512.,  512.,  576.,  320.,  256.,   64.,   64.,\n",
       "            0.,    0.,    0.,    0.,    0.,    0.,   64.],\n",
       "        [   0.,    0.,   64.,    0.,   64.,  256.,  128.,   64.,  256.,\n",
       "          320.,  256.,  256.,  512.,  128.,    0.,  128.,   64.,    0.,\n",
       "            0.,    0.,    0.,    0.,    0.,    0.,    0.],\n",
       "        [   0.,    0.,    0.,    0.,   64.,    0.,  320.,  192.,  128.,\n",
       "          192.,  576.,  192.,  128.,  128.,  256.,    0.,   64.,    0.,\n",
       "            0.,    0.,    0.,    0.,    0.,    0.,    0.]]),\n",
       " array([0.4199544 , 0.44310762, 0.46626085, 0.48941408, 0.5125673 ,\n",
       "        0.53572053, 0.55887375, 0.58202698, 0.60518021, 0.62833343,\n",
       "        0.65148666, 0.67463988, 0.69779311, 0.72094634, 0.74409956,\n",
       "        0.76725279, 0.79040601, 0.81355924, 0.83671247, 0.85986569,\n",
       "        0.88301892, 0.90617214, 0.92932537, 0.95247859, 0.97563182,\n",
       "        0.99878505]),\n",
       " array([12.00327292, 12.24016343, 12.47705395, 12.71394446, 12.95083498,\n",
       "        13.18772549, 13.42461601, 13.66150652, 13.89839703, 14.13528755,\n",
       "        14.37217806, 14.60906858, 14.84595909, 15.08284961, 15.31974012,\n",
       "        15.55663063, 15.79352115, 16.03041166, 16.26730218, 16.50419269,\n",
       "        16.7410832 , 16.97797372, 17.21486423, 17.45175475, 17.68864526,\n",
       "        17.92553578]),\n",
       " <matplotlib.image.AxesImage at 0x149e1d390>)"
      ]
     },
     "execution_count": 277,
     "metadata": {},
     "output_type": "execute_result"
    },
    {
     "name": "stderr",
     "output_type": "stream",
     "text": [
      "/Users/rs548/anaconda/envs/herschelhelp_internal/lib/python3.6/site-packages/matplotlib/font_manager.py:1297: UserWarning: findfont: Font family ['serif'] not found. Falling back to DejaVu Sans\n",
      "  (prop.get_family(), self.defaultFamily[fontext]))\n"
     ]
    },
    {
     "data": {
      "image/png": "[encoded data removed]",
      "text/plain": [
       "<matplotlib.figure.Figure at 0x149e1dd68>"
      ]
     },
     "metadata": {},
     "output_type": "display_data"
    }
   ],
   "source": [
    "fig, ax = plt.subplots()\n",
    "good = ~np.isnan(en1_d['ferr_ap_irac_i1_mean']) & ~np.isnan(en1_d['ferr_mips_24_mean'])\n",
    "good &= en1_d['ferr_ap_irac_i1_mean'] < 1.\n",
    "good &= en1_d['ferr_mips_24_mean'] > 12.\n",
    "good &= en1_d['ferr_mips_24_mean'] < 18.\n",
    "ax.hist2d(en1_d['ferr_ap_irac_i1_mean'][good],en1_d['ferr_mips_24_mean'][good],  bins=25)\n"
   ]
  },
  {
   "cell_type": "code",
   "execution_count": 278,
   "metadata": {},
   "outputs": [
    {
     "name": "stderr",
     "output_type": "stream",
     "text": [
      "/Users/rs548/anaconda/envs/herschelhelp_internal/lib/python3.6/site-packages/astropy/table/column.py:984: RuntimeWarning: invalid value encountered in less\n",
      "  result = getattr(super(), op)(other)\n",
      "/Users/rs548/anaconda/envs/herschelhelp_internal/lib/python3.6/site-packages/astropy/table/column.py:984: RuntimeWarning: invalid value encountered in greater\n",
      "  result = getattr(super(), op)(other)\n"
     ]
    },
    {
     "data": {
      "text/plain": [
       "(array([[   0.,    0.,    0.,    0.,    0.,    0.,    0.,   64.,   64.,\n",
       "           64.,  192.,  128.,  256.,  128.,  192.,   64.,  320.,    0.,\n",
       "            0.,    0.,    0.,    0.,    0.,    0.,    0.],\n",
       "        [   0.,    0.,    0.,    0.,    0.,    0.,   64.,   64.,  192.,\n",
       "          256.,  512.,  768.,  896.,  320.,  960.,  640.,  320.,  192.,\n",
       "            0.,    0.,    0.,    0.,    0.,    0.,    0.],\n",
       "        [   0.,    0.,    0.,    0.,    0.,    0.,   64.,  192.,  384.,\n",
       "          448.,  704.,  896., 1344.,  512.,  576.,  448.,  448.,  320.,\n",
       "          128.,   64.,    0.,    0.,    0.,    0.,    0.],\n",
       "        [   0.,    0.,    0.,    0.,    0.,    0.,   64.,  256.,  128.,\n",
       "          768.,  960., 1152., 1280., 1344.,  832.,  832.,  320.,  192.,\n",
       "            0.,    0.,    0.,    0.,    0.,    0.,    0.],\n",
       "        [   0.,    0.,   64.,    0.,    0.,   64.,  128.,  320.,  256.,\n",
       "          384.,  576.,  640.,  576.,  448.,  640.,  512.,  320.,  256.,\n",
       "           64.,    0.,   64.,    0.,    0.,    0.,    0.],\n",
       "        [   0.,    0.,   64.,    0.,    0.,    0.,    0.,  128.,  128.,\n",
       "          448.,  384.,  512.,  640.,  576.,  640.,  256.,  192.,  256.,\n",
       "          192.,    0.,    0.,    0.,    0.,    0.,    0.],\n",
       "        [  64.,    0.,    0.,    0.,    0.,    0.,   64.,  192.,  448.,\n",
       "          192.,  192.,  384.,  448.,  384.,  512.,   64.,  320.,   64.,\n",
       "          128.,    0.,    0.,    0.,    0.,    0.,    0.],\n",
       "        [   0.,   64.,    0.,    0.,    0.,   64.,   64.,   64.,    0.,\n",
       "          384.,  448.,  192.,  320.,  384.,  256.,  256.,  192.,    0.,\n",
       "            0.,    0.,   64.,   64.,    0.,    0.,    0.],\n",
       "        [  64.,   64.,    0.,   64.,    0.,    0.,   64.,  192.,  320.,\n",
       "          256.,  128.,  576.,  704.,  384.,  192.,  256.,    0.,   64.,\n",
       "            0.,    0.,    0.,    0.,    0.,    0.,   64.],\n",
       "        [  64.,   64.,   64.,    0.,    0.,    0.,  192.,  192.,  192.,\n",
       "          256.,  192.,  384.,  640.,  256.,  448.,  192.,  320.,   64.,\n",
       "           64.,    0.,   64.,    0.,   64.,    0.,    0.],\n",
       "        [   0.,   64.,   64.,  192.,    0.,    0.,  320.,  704.,  256.,\n",
       "          384.,  512.,  512.,  576.,  832.,   64.,  320.,   64.,    0.,\n",
       "            0.,    0.,   64.,    0.,    0.,   64.,    0.],\n",
       "        [  64.,   64.,    0.,  128.,  128.,  128.,  128.,  320.,  256.,\n",
       "          384.,  576.,  576.,  320.,  512.,  576.,   64.,   64.,  128.,\n",
       "           64.,    0.,    0.,    0.,    0.,    0.,    0.],\n",
       "        [ 128.,   64.,    0.,    0.,  128.,  128.,  320.,  384.,  576.,\n",
       "          960.,  960.,  960.,  704.,  640.,  704.,   64.,  256.,  128.,\n",
       "            0.,   64.,    0.,    0.,    0.,    0.,    0.],\n",
       "        [   0.,  192.,  192.,  256.,  256.,  320.,   64.,  576., 1536.,\n",
       "          768.,  768.,  832.,  832.,  768.,  448.,  576.,  256.,  256.,\n",
       "            0.,  128.,    0.,   64.,    0.,    0.,    0.],\n",
       "        [  64.,  128.,    0.,  256.,  256.,  704.,  448.,  832., 1600.,\n",
       "          704., 1280., 1344., 1344., 1152.,  320.,  576.,  256.,    0.,\n",
       "           64.,    0.,    0.,    0.,    0.,    0.,   64.],\n",
       "        [ 192.,   64.,  256.,  448.,  448.,  384.,  576., 1088., 1152.,\n",
       "         1088., 1792., 1664., 1536.,  512.,  832.,  896.,    0.,   64.,\n",
       "           64.,  128.,  128.,    0.,    0.,    0.,   64.],\n",
       "        [   0.,   64.,  128.,  256.,   64.,  832., 1408.,  896., 1536.,\n",
       "         1408., 1344., 1536., 1344.,  960.,  576.,  576.,  192.,    0.,\n",
       "            0.,   64.,   64.,    0.,    0.,    0.,    0.],\n",
       "        [ 192.,   64.,  320.,  256.,  320.,  576.,  640., 1088., 1024.,\n",
       "         1088., 1088., 1024., 1024.,  640.,  960.,  192.,  256.,   64.,\n",
       "           64.,    0.,    0.,    0.,    0.,    0.,    0.],\n",
       "        [  64.,  320.,   64.,  192.,  384.,  704.,  768., 1088.,  832.,\n",
       "         1152., 1024., 1408., 1024.,  448.,  320.,  384.,  320.,  128.,\n",
       "           64.,    0.,    0.,    0.,    0.,    0.,   64.],\n",
       "        [ 128.,   64.,    0.,  128.,  256.,  576.,  384.,  512.,  896.,\n",
       "         1152.,  768.,  960.,  576., 1088.,  704.,  320.,  192.,    0.,\n",
       "            0.,    0.,   64.,    0.,    0.,    0.,    0.],\n",
       "        [   0.,  192.,    0.,  256.,  128.,  256.,   64.,  576.,  448.,\n",
       "          384.,  512.,  320.,  448.,  768.,  320.,  192.,   64.,  128.,\n",
       "            0.,    0.,    0.,    0.,    0.,    0.,    0.],\n",
       "        [  64.,   64.,    0.,  128.,  384.,  192.,  320.,  512.,  448.,\n",
       "          256.,  640.,  640.,  384.,  704.,  192.,  192.,   64.,    0.,\n",
       "           64.,    0.,    0.,    0.,    0.,    0.,   64.],\n",
       "        [  64.,    0.,   64.,   64.,  128.,  256.,  512.,  256.,  192.,\n",
       "          704.,  384.,  512.,  512.,  576.,  320.,  256.,   64.,   64.,\n",
       "            0.,    0.,    0.,    0.,    0.,    0.,   64.],\n",
       "        [   0.,    0.,   64.,    0.,   64.,  256.,  128.,   64.,  256.,\n",
       "          320.,  256.,  256.,  512.,  128.,    0.,  128.,   64.,    0.,\n",
       "            0.,    0.,    0.,    0.,    0.,    0.,    0.],\n",
       "        [   0.,    0.,    0.,    0.,   64.,    0.,  320.,  192.,  128.,\n",
       "          192.,  576.,  192.,  128.,  128.,  256.,    0.,   64.,    0.,\n",
       "            0.,    0.,    0.,    0.,    0.,    0.,    0.]]),\n",
       " array([0.4199544 , 0.44310762, 0.46626085, 0.48941408, 0.5125673 ,\n",
       "        0.53572053, 0.55887375, 0.58202698, 0.60518021, 0.62833343,\n",
       "        0.65148666, 0.67463988, 0.69779311, 0.72094634, 0.74409956,\n",
       "        0.76725279, 0.79040601, 0.81355924, 0.83671247, 0.85986569,\n",
       "        0.88301892, 0.90617214, 0.92932537, 0.95247859, 0.97563182,\n",
       "        0.99878505]),\n",
       " array([12.00327292, 12.24016343, 12.47705395, 12.71394446, 12.95083498,\n",
       "        13.18772549, 13.42461601, 13.66150652, 13.89839703, 14.13528755,\n",
       "        14.37217806, 14.60906858, 14.84595909, 15.08284961, 15.31974012,\n",
       "        15.55663063, 15.79352115, 16.03041166, 16.26730218, 16.50419269,\n",
       "        16.7410832 , 16.97797372, 17.21486423, 17.45175475, 17.68864526,\n",
       "        17.92553578]))"
      ]
     },
     "execution_count": 278,
     "metadata": {},
     "output_type": "execute_result"
    }
   ],
   "source": [
    "good &= en1_d['ferr_ap_irac_i1_mean'] < 1.\n",
    "good &= en1_d['ferr_mips_24_mean'] > 12.\n",
    "good &= en1_d['ferr_mips_24_mean'] < 18.\n",
    "\n",
    "hist = np.histogram2d(en1_d['ferr_ap_irac_i1_mean'][good],en1_d['ferr_mips_24_mean'][good],  bins=25)\n",
    "hist"
   ]
  },
  {
   "cell_type": "code",
   "execution_count": 261,
   "metadata": {},
   "outputs": [
    {
     "data": {
      "text/html": [
       "<i>Table length=263682</i>\n",
       "<table id=\"table4974012792\" class=\"table-striped table-bordered table-condensed\">\n",
       "<thead><tr><th>hp_idx_o_10</th><th>ferr_mips_24_mean</th><th>ferr_pacs_green_mean</th><th>ferr_pacs_red_mean</th><th>ferr_spire_250_mean</th><th>ferr_spire_350_mean</th><th>ferr_spire_500_mean</th></tr></thead>\n",
       "<thead><tr><th></th><th>uJy</th><th>uJy</th><th>uJy</th><th>uJy</th><th>uJy</th><th>uJy</th></tr></thead>\n",
       "<thead><tr><th>int64</th><th>float64</th><th>float32</th><th>float32</th><th>float64</th><th>float64</th><th>float64</th></tr></thead>\n",
       "<tr><td>2555765</td><td>nan</td><td>nan</td><td>nan</td><td>nan</td><td>nan</td><td>nan</td></tr>\n",
       "<tr><td>2555765</td><td>nan</td><td>nan</td><td>nan</td><td>nan</td><td>nan</td><td>nan</td></tr>\n",
       "<tr><td>2555765</td><td>nan</td><td>nan</td><td>nan</td><td>nan</td><td>nan</td><td>nan</td></tr>\n",
       "<tr><td>2555765</td><td>nan</td><td>nan</td><td>nan</td><td>nan</td><td>nan</td><td>nan</td></tr>\n",
       "<tr><td>2555765</td><td>nan</td><td>nan</td><td>nan</td><td>nan</td><td>nan</td><td>nan</td></tr>\n",
       "<tr><td>2555765</td><td>nan</td><td>nan</td><td>nan</td><td>nan</td><td>nan</td><td>nan</td></tr>\n",
       "<tr><td>2555765</td><td>nan</td><td>nan</td><td>nan</td><td>nan</td><td>nan</td><td>nan</td></tr>\n",
       "<tr><td>2555767</td><td>nan</td><td>nan</td><td>nan</td><td>nan</td><td>nan</td><td>nan</td></tr>\n",
       "<tr><td>2555767</td><td>nan</td><td>nan</td><td>nan</td><td>nan</td><td>nan</td><td>nan</td></tr>\n",
       "<tr><td>...</td><td>...</td><td>...</td><td>...</td><td>...</td><td>...</td><td>...</td></tr>\n",
       "<tr><td>2950836</td><td>nan</td><td>nan</td><td>nan</td><td>nan</td><td>nan</td><td>nan</td></tr>\n",
       "<tr><td>2950836</td><td>nan</td><td>nan</td><td>nan</td><td>nan</td><td>nan</td><td>nan</td></tr>\n",
       "<tr><td>2950836</td><td>nan</td><td>nan</td><td>nan</td><td>nan</td><td>nan</td><td>nan</td></tr>\n",
       "<tr><td>2950836</td><td>nan</td><td>nan</td><td>nan</td><td>nan</td><td>nan</td><td>nan</td></tr>\n",
       "<tr><td>2950836</td><td>nan</td><td>nan</td><td>nan</td><td>nan</td><td>nan</td><td>nan</td></tr>\n",
       "<tr><td>2950836</td><td>nan</td><td>nan</td><td>nan</td><td>nan</td><td>nan</td><td>nan</td></tr>\n",
       "<tr><td>2950848</td><td>nan</td><td>nan</td><td>nan</td><td>nan</td><td>nan</td><td>nan</td></tr>\n",
       "<tr><td>2950848</td><td>nan</td><td>nan</td><td>nan</td><td>nan</td><td>nan</td><td>nan</td></tr>\n",
       "<tr><td>2950848</td><td>nan</td><td>nan</td><td>nan</td><td>nan</td><td>nan</td><td>nan</td></tr>\n",
       "<tr><td>2950848</td><td>nan</td><td>nan</td><td>nan</td><td>nan</td><td>nan</td><td>nan</td></tr>\n",
       "</table>"
      ],
      "text/plain": [
       "<Table length=263682>\n",
       "hp_idx_o_10 ferr_mips_24_mean ... ferr_spire_350_mean ferr_spire_500_mean\n",
       "                   uJy        ...         uJy                 uJy        \n",
       "   int64         float64      ...       float64             float64      \n",
       "----------- ----------------- ... ------------------- -------------------\n",
       "    2555765               nan ...                 nan                 nan\n",
       "    2555765               nan ...                 nan                 nan\n",
       "    2555765               nan ...                 nan                 nan\n",
       "    2555765               nan ...                 nan                 nan\n",
       "    2555765               nan ...                 nan                 nan\n",
       "    2555765               nan ...                 nan                 nan\n",
       "    2555765               nan ...                 nan                 nan\n",
       "    2555767               nan ...                 nan                 nan\n",
       "    2555767               nan ...                 nan                 nan\n",
       "        ...               ... ...                 ...                 ...\n",
       "    2950836               nan ...                 nan                 nan\n",
       "    2950836               nan ...                 nan                 nan\n",
       "    2950836               nan ...                 nan                 nan\n",
       "    2950836               nan ...                 nan                 nan\n",
       "    2950836               nan ...                 nan                 nan\n",
       "    2950836               nan ...                 nan                 nan\n",
       "    2950848               nan ...                 nan                 nan\n",
       "    2950848               nan ...                 nan                 nan\n",
       "    2950848               nan ...                 nan                 nan\n",
       "    2950848               nan ...                 nan                 nan"
      ]
     },
     "execution_count": 261,
     "metadata": {},
     "output_type": "execute_result"
    }
   ],
   "source": [
    "en1_depths"
   ]
  },
  {
   "cell_type": "code",
   "execution_count": null,
   "metadata": {},
   "outputs": [],
   "source": []
  }
 ],
 "metadata": {
  "anaconda-cloud": {},
  "kernelspec": {
   "display_name": "Python (herschelhelp_internal)",
   "language": "python",
   "name": "helpint"
  },
  "language_info": {
   "codemirror_mode": {
    "name": "ipython",
    "version": 3
   },
   "file_extension": ".py",
   "mimetype": "text/x-python",
   "name": "python",
   "nbconvert_exporter": "python",
   "pygments_lexer": "ipython3",
   "version": "3.6.7"
  }
 },
 "nbformat": 4,
 "nbformat_minor": 1
}
