{
 "cells": [
  {
   "cell_type": "markdown",
   "metadata": {},
   "source": [
    "# Make depth summary figures\n",
    "\n",
    "This notebook is to produce some figures for the ELAIS-N1 paper.\n",
    "\n",
    "First we will, for every helpix 13 in HELP get the highest K or Ks depth, g depth, and irac 1 depth. We will then plot cumulative area histograms and generate the 25%, 50%, 75% areas to summarise the depths across all HELP.\n",
    "\n"
   ]
  },
  {
   "cell_type": "code",
   "execution_count": 1,
   "metadata": {},
   "outputs": [
    {
     "name": "stdout",
     "output_type": "stream",
     "text": [
      "This notebook was run with herschelhelp_internal version: \n",
      "1407877 (Mon Feb 4 12:56:29 2019 +0000)\n"
     ]
    }
   ],
   "source": [
    "from herschelhelp_internal import git_version\n",
    "print(\"This notebook was run with herschelhelp_internal version: \\n{}\".format(git_version()))\n"
   ]
  },
  {
   "cell_type": "code",
   "execution_count": 2,
   "metadata": {},
   "outputs": [
    {
     "name": "stderr",
     "output_type": "stream",
     "text": [
      "WARNING: AstropyDeprecationWarning: astropy.extern.six will be removed in 4.0, use the six module directly if it is still needed [astropy.extern.six]\n"
     ]
    }
   ],
   "source": [
    "import pyvo as vo\n",
    "import glob\n",
    "import time\n",
    "import numpy as np\n",
    "\n",
    "import matplotlib as mpl\n",
    "import matplotlib.pyplot as plt\n",
    "from mpl_toolkits.axes_grid1.inset_locator import inset_axes\n",
    "\n",
    "import random\n",
    "\n",
    "import herschelhelp as hh\n",
    "from herschelhelp_internal.utils import flux_to_mag\n",
    "\n",
    "from astropy.table import Table, Column, vstack, join, unique\n",
    "\n",
    "from pymoc import MOC\n",
    "\n",
    "import pandas as pd\n",
    "\n",
    "import yaml\n",
    "\n",
    "from pcigale.sed import SED\n",
    "from pcigale.sed_modules import get_module"
   ]
  },
  {
   "cell_type": "code",
   "execution_count": 3,
   "metadata": {},
   "outputs": [],
   "source": [
    "\n",
    "#Then we establish the VO connection to our database\n",
    "service = vo.dal.TAPService(\"https://herschel-vos.phys.sussex.ac.uk/__system__/tap/run/tap\")"
   ]
  },
  {
   "cell_type": "code",
   "execution_count": 4,
   "metadata": {},
   "outputs": [],
   "source": [
    "herschelhelp_python_loc = ('../../../../herschelhelp_python/')\n",
    "\n",
    "filter_locs  = glob.glob(herschelhelp_python_loc + 'database_builder/filters/*')"
   ]
  },
  {
   "cell_type": "code",
   "execution_count": 5,
   "metadata": {},
   "outputs": [
    {
     "name": "stdout",
     "output_type": "stream",
     "text": [
      "no readme\n"
     ]
    }
   ],
   "source": [
    "filters = [f.split('/')[-1].split('.')[0] for f in filter_locs]\n",
    "try:\n",
    "    filters.remove('readme')\n",
    "except ValueError:\n",
    "    print('no readme')\n",
    "\n",
    "bands = ['u', 'g', 'r', 'i', 'z', 'y',\n",
    "        'J', 'H', 'K', 'Ks',\n",
    "        'i1', 'i2', 'i3', 'i4']"
   ]
  },
  {
   "cell_type": "code",
   "execution_count": 6,
   "metadata": {},
   "outputs": [
    {
     "data": {
      "text/plain": [
       "['wfi_696nm',\n",
       " 'suprime_nb816',\n",
       " 'wfc3_f125w',\n",
       " 'mmt_g',\n",
       " 'omegacam_r',\n",
       " 'decam_z',\n",
       " 'wfi_416nm',\n",
       " 'sdss_i',\n",
       " 'omegacam_g',\n",
       " 'suprime_ib464',\n",
       " 'wfi_571nm',\n",
       " 'mmt_r',\n",
       " 'wfc3_f105w',\n",
       " 'spire_350',\n",
       " 'decam_y',\n",
       " 'suprime_ib505',\n",
       " 'cfht12k_b',\n",
       " '90prime_z',\n",
       " 'omegacam_u',\n",
       " 'suprime_ip',\n",
       " 'isaac_k',\n",
       " 'galex_nuv',\n",
       " 'acs_f775w',\n",
       " 'moircs_k',\n",
       " 'sdss_z',\n",
       " 'acs_f606w',\n",
       " 'cfht12k_r',\n",
       " 'decam_i',\n",
       " 'quirc_hk',\n",
       " 'mmt_u',\n",
       " 'suprime_zpp',\n",
       " 'suprime_ia624',\n",
       " 'megacam_r',\n",
       " 'bessell_v',\n",
       " 'wircam_ks',\n",
       " 'mips_24',\n",
       " 'omega2000_j',\n",
       " 'wfi_r',\n",
       " 'spire_250',\n",
       " 'suprime_r',\n",
       " 'gpc1_i',\n",
       " 'suprime_g',\n",
       " 'bessell_b',\n",
       " 'bessell_u',\n",
       " 'mosaic_r',\n",
       " 'wfi_753nm',\n",
       " 'acs_f850lp',\n",
       " 'ukidss_y',\n",
       " 'megacam_g',\n",
       " 'wfc_z',\n",
       " 'lbc_u',\n",
       " 'suprime_ia527',\n",
       " 'wfc_i',\n",
       " 'wfi_b123',\n",
       " 'gpc1_y',\n",
       " 'suprime_b',\n",
       " 'wfi_b',\n",
       " 'wfi_u',\n",
       " 'suprime_ia679',\n",
       " 'ukidss_j',\n",
       " 'suprime_ib827',\n",
       " 'suprime_ia484',\n",
       " 'ukidss_k',\n",
       " 'megacam_u',\n",
       " 'newfirm_j1',\n",
       " 'suprime_n816',\n",
       " 'gpc1_z',\n",
       " 'newfirm_j3',\n",
       " 'suprime_v',\n",
       " 'wfi_v',\n",
       " 'mosaic_b',\n",
       " 'mosaic_u',\n",
       " 'ukidss_h',\n",
       " 'bessell_r',\n",
       " 'suprime_ib574',\n",
       " 'newfirm_j2',\n",
       " 'suprime_zp',\n",
       " 'wfc3_f140w',\n",
       " 'suprime_z',\n",
       " 'irac_i3',\n",
       " 'irac_i2',\n",
       " 'bessell_i',\n",
       " 'megacam_z',\n",
       " 'vista_z',\n",
       " 'wfc_g',\n",
       " 'wfi_856nm',\n",
       " 'wfc_r',\n",
       " 'suprime_y',\n",
       " 'vista_ks',\n",
       " 'irac_i1',\n",
       " 'acs_f814w',\n",
       " 'mosaic_z',\n",
       " 'megacam_y',\n",
       " 'suprime_ib427',\n",
       " 'wfc3_f160w',\n",
       " 'wfi_646nm',\n",
       " 'vista_y',\n",
       " 'suprime_nb711',\n",
       " 'spire_500',\n",
       " 'pacs_red',\n",
       " 'gpc1_g',\n",
       " 'newfirm_h1',\n",
       " 'suprime_ia738',\n",
       " 'vista_j',\n",
       " 'mosaic_i',\n",
       " 'irac_i4',\n",
       " 'wfi_815nm',\n",
       " 'lbc_y',\n",
       " 'newfirm_h2',\n",
       " 'wfi_485nm',\n",
       " 'megacam_i',\n",
       " 'moircs_ks',\n",
       " 'nicmos_f160w',\n",
       " 'wfi_i',\n",
       " 'acs_f435w',\n",
       " 'vista_h',\n",
       " 'suprime_i',\n",
       " 'gpc1_r',\n",
       " 'wfc_u',\n",
       " 'wfi_461nm',\n",
       " 'cfht12k_i',\n",
       " 'wfc3_f098m',\n",
       " 'newfirm_h',\n",
       " 'decam_r',\n",
       " 'omegacam_z',\n",
       " 'pacs_green',\n",
       " 'nicmos_f110w',\n",
       " 'wfi_914nm',\n",
       " 'sdss_u',\n",
       " 'suprime_rc',\n",
       " 'wircam_y',\n",
       " 'newfirm_k',\n",
       " 'omega2000_ks',\n",
       " 'mmt_z',\n",
       " 'wfi_518nm',\n",
       " 'decam_g',\n",
       " 'tifkam_ks',\n",
       " 'newfirm_j',\n",
       " 'wircs_j',\n",
       " 'suprime_ia767',\n",
       " 'sdss_r',\n",
       " 'suprime_n921',\n",
       " 'mmt_i',\n",
       " 'wfi_604nm',\n",
       " 'wircs_k',\n",
       " 'galex_fuv',\n",
       " '90prime_r',\n",
       " 'wircam_j',\n",
       " 'suprime_ib709',\n",
       " 'wircam_h',\n",
       " 'suprime_rp',\n",
       " '90prime_g',\n",
       " 'hawki_k',\n",
       " 'omegacam_i',\n",
       " 'sdss_g']"
      ]
     },
     "execution_count": 6,
     "metadata": {},
     "output_type": "execute_result"
    }
   ],
   "source": [
    "filters"
   ]
  },
  {
   "cell_type": "code",
   "execution_count": 7,
   "metadata": {},
   "outputs": [
    {
     "name": "stdout",
     "output_type": "stream",
     "text": [
      "Job still running after 0 seconds.\n"
     ]
    }
   ],
   "source": [
    "irac_i1_query=\"\"\"\n",
    "SELECT DISTINCT hp_idx_O_10, ferr_ap_irac_i1_mean\n",
    "FROM depth.main\n",
    "WHERE ferr_ap_irac_i1_mean IS NOT NULL\n",
    "\"\"\"\n",
    "\n",
    "#Then we execute the query\n",
    "#resultset = service.run_async(irac_i1_query)\n",
    "job = service.submit_job(irac_i1_query)\n",
    "job.run()\n",
    "job_url = job.url\n",
    "job_result = vo.dal.tap.AsyncTAPJob(job_url)\n",
    "start_time = time.time()\n",
    "while job.phase == 'EXECUTING':\n",
    "    print('Job still running after {} seconds.'.format(round(time.time() - start_time)))\n",
    "    time.sleep(10) #wait ten seconds and try again\n",
    "    \n",
    "table = job_result.fetch_result() \n",
    "i1_table = table.table"
   ]
  },
  {
   "cell_type": "code",
   "execution_count": 8,
   "metadata": {},
   "outputs": [
    {
     "data": {
      "text/html": [
       "<i>Table masked=True length=83313</i>\n",
       "<table id=\"table4809655016\" class=\"table-striped table-bordered table-condensed\">\n",
       "<thead><tr><th>hp_idx_o_10</th><th>ferr_ap_irac_i1_mean</th></tr></thead>\n",
       "<thead><tr><th></th><th>uJy</th></tr></thead>\n",
       "<thead><tr><th>int64</th><th>float64</th></tr></thead>\n",
       "<tr><td>1547506</td><td>1.43366666666667</td></tr>\n",
       "<tr><td>1547507</td><td>1.52794117647059</td></tr>\n",
       "<tr><td>1547510</td><td>1.66105263157895</td></tr>\n",
       "<tr><td>1547511</td><td>1.94072727272727</td></tr>\n",
       "<tr><td>1547512</td><td>1.62485294117647</td></tr>\n",
       "<tr><td>1547513</td><td>1.03740540540541</td></tr>\n",
       "<tr><td>1547514</td><td>1.42491329479769</td></tr>\n",
       "<tr><td>1547515</td><td>0.732934782608696</td></tr>\n",
       "<tr><td>1547516</td><td>1.19547872340426</td></tr>\n",
       "<tr><td>...</td><td>...</td></tr>\n",
       "<tr><td>11870851</td><td>206.8402</td></tr>\n",
       "<tr><td>11870852</td><td>106.708244</td></tr>\n",
       "<tr><td>11870853</td><td>261.2762</td></tr>\n",
       "<tr><td>11870854</td><td>265.9595</td></tr>\n",
       "<tr><td>11870855</td><td>260.12</td></tr>\n",
       "<tr><td>11870856</td><td>303.03732</td></tr>\n",
       "<tr><td>11870857</td><td>232.01556</td></tr>\n",
       "<tr><td>11870858</td><td>557.28467</td></tr>\n",
       "<tr><td>11870860</td><td>679.73</td></tr>\n",
       "<tr><td>11870864</td><td>152.82677</td></tr>\n",
       "</table>"
      ],
      "text/plain": [
       "<Table masked=True length=83313>\n",
       "hp_idx_o_10 ferr_ap_irac_i1_mean\n",
       "                    uJy         \n",
       "   int64          float64       \n",
       "----------- --------------------\n",
       "    1547506     1.43366666666667\n",
       "    1547507     1.52794117647059\n",
       "    1547510     1.66105263157895\n",
       "    1547511     1.94072727272727\n",
       "    1547512     1.62485294117647\n",
       "    1547513     1.03740540540541\n",
       "    1547514     1.42491329479769\n",
       "    1547515    0.732934782608696\n",
       "    1547516     1.19547872340426\n",
       "        ...                  ...\n",
       "   11870851             206.8402\n",
       "   11870852           106.708244\n",
       "   11870853             261.2762\n",
       "   11870854             265.9595\n",
       "   11870855               260.12\n",
       "   11870856            303.03732\n",
       "   11870857            232.01556\n",
       "   11870858            557.28467\n",
       "   11870860               679.73\n",
       "   11870864            152.82677"
      ]
     },
     "execution_count": 8,
     "metadata": {},
     "output_type": "execute_result"
    }
   ],
   "source": [
    "i1_table"
   ]
  },
  {
   "cell_type": "code",
   "execution_count": 9,
   "metadata": {},
   "outputs": [
    {
     "data": {
      "text/plain": [
       "(array([1.8694e+04, 3.2534e+04, 3.2980e+03, 1.0970e+03, 1.2085e+04,\n",
       "        1.4502e+04, 1.0610e+03, 3.7000e+01, 2.0000e+00, 3.0000e+00]),\n",
       " array([-0.49291727, -0.01875222,  0.45541283,  0.92957788,  1.40374293,\n",
       "         1.87790798,  2.35207303,  2.82623808,  3.30040313,  3.77456818,\n",
       "         4.24873323]),\n",
       " <a list of 10 Patch objects>)"
      ]
     },
     "execution_count": 9,
     "metadata": {},
     "output_type": "execute_result"
    },
    {
     "data": {
      "image/png": "[encoded data removed]",
      "text/plain": [
       "<matplotlib.figure.Figure at 0x122f356d8>"
      ]
     },
     "metadata": {},
     "output_type": "display_data"
    }
   ],
   "source": [
    "plt.hist(np.log10(i1_table['ferr_ap_irac_i1_mean']) )"
   ]
  },
  {
   "cell_type": "code",
   "execution_count": 10,
   "metadata": {},
   "outputs": [
    {
     "data": {
      "text/plain": [
       "273.1409041542108"
      ]
     },
     "execution_count": 10,
     "metadata": {},
     "output_type": "execute_result"
    }
   ],
   "source": [
    "irac_i1_moc = MOC(10, i1_table['hp_idx_o_10'])\n",
    "irac_i1_moc.area_sq_deg\n",
    "total_area = irac_i1_moc.area_sq_deg\n",
    "total_area"
   ]
  },
  {
   "cell_type": "code",
   "execution_count": 11,
   "metadata": {},
   "outputs": [
    {
     "data": {
      "image/png": "[encoded data removed]",
      "text/plain": [
       "<matplotlib.figure.Figure at 0x1245747b8>"
      ]
     },
     "metadata": {},
     "output_type": "display_data"
    }
   ],
   "source": [
    "fig, ax = plt.subplots()\n",
    "\n",
    "cells, fluxes = np.histogram(np.log10(i1_table['ferr_ap_irac_i1_mean']*1.e-6), bins=50)\n",
    "ax.plot(fluxes[1:],\n",
    "         np.cumsum(cells)*total_area/cells.sum() ,\n",
    "        drawstyle='steps')\n",
    "\n",
    "ax.set_xlabel('Log$_{10}$ ( Mean IRAC 1 flux error [Jy] )')\n",
    "ax.set_ylabel('Cumulative area [deg.$^2$]')\n",
    "ax.set_xlim([-6.5,-3.0])\n",
    "#y_vals = ax.get_yticks()\n",
    "#ax.set_yticklabels([n for n in y_vals])\n",
    "\n",
    "plt.rc('font', family='serif', serif='Times')\n",
    "plt.rc('text') #, usetex=True)\n",
    "plt.rc('xtick', labelsize=12)\n",
    "plt.rc('ytick', labelsize=12)\n",
    "plt.rc('axes', labelsize=12)\n",
    "\n",
    "column_width_cm = 8.9\n",
    "width_cm = 1.4 * column_width_cm\n",
    "hieght_cm = width_cm / 1.618\n",
    "width_inches = width_cm/2.5\n",
    "hieght_inches = hieght_cm/2.5\n",
    "fig.set_size_inches(width_inches, hieght_inches)\n",
    "\n",
    "plt.tight_layout()\n",
    "plt.savefig('./figs/IRAC_i1_cumulative_area_depth.pdf')\n",
    "plt.savefig('./figs/IRAC_i1_cumulative_area_depth.png')"
   ]
  },
  {
   "cell_type": "code",
   "execution_count": 12,
   "metadata": {},
   "outputs": [
    {
     "data": {
      "text/plain": [
       "'\\nThe IRAC i1 band has coverage over 273.1409041542108 square degrees with  3 sigma \\ndepths at the 25th, 50th and 75th percentiles of 2.955037033451454, 5.86515255980631, 176.669196 respectively.'"
      ]
     },
     "execution_count": 12,
     "metadata": {},
     "output_type": "execute_result"
    }
   ],
   "source": [
    "i1_p25, i1_p50, i1_p75 = np.nanpercentile(i1_table['ferr_ap_irac_i1_mean'] * 3.,[25, 50, 75])\n",
    "\"\"\"\n",
    "The IRAC i1 band has coverage over {} square degrees with  3 sigma \n",
    "depths at the 25th, 50th and 75th percentiles of {}, {}, {} respectively.\"\"\".format(total_area, i1_p25, i1_p50, i1_p75)"
   ]
  },
  {
   "cell_type": "markdown",
   "metadata": {},
   "source": [
    "In mags as per reviewer request"
   ]
  },
  {
   "cell_type": "code",
   "execution_count": 13,
   "metadata": {},
   "outputs": [
    {
     "name": "stderr",
     "output_type": "stream",
     "text": [
      "/Users/rs548/anaconda/envs/herschelhelp_internal/lib/python3.6/site-packages/matplotlib/font_manager.py:1297: UserWarning: findfont: Font family ['serif'] not found. Falling back to DejaVu Sans\n",
      "  (prop.get_family(), self.defaultFamily[fontext]))\n"
     ]
    },
    {
     "data": {
      "image/png": "[encoded data removed]",
      "text/plain": [
       "<matplotlib.figure.Figure at 0x12521bc50>"
      ]
     },
     "metadata": {},
     "output_type": "display_data"
    }
   ],
   "source": [
    "fig, ax = plt.subplots()\n",
    "\n",
    "i1_pix_mag_depths, _ = flux_to_mag(i1_table['ferr_ap_irac_i1_mean']*1.e-6*5)\n",
    "cells, fluxes = np.histogram(i1_pix_mag_depths, bins=1000)\n",
    "#We want cumulative from faint to bright\n",
    "cells =np.flip(cells)\n",
    "fluxes = np.flip(fluxes)\n",
    "ax.plot(fluxes[1:],\n",
    "         np.cumsum(cells)*total_area/cells.sum() ,\n",
    "        drawstyle='steps')\n",
    "\n",
    "ax.set_xlabel('5$\\sigma$ IRAC $i1$ depth [mag]')\n",
    "ax.set_ylabel('Cumulative area [deg.$^2$]')\n",
    "ax.set_xlim([23,16])\n",
    "ax.set_ylim([0,300])\n",
    "#y_vals = ax.get_yticks()\n",
    "#ax.set_yticklabels([n for n in y_vals])\n",
    "\n",
    "plt.rc('font', family='serif', serif='Times')\n",
    "plt.rc('text') #, usetex=True)\n",
    "plt.rc('xtick', labelsize=12)\n",
    "plt.rc('ytick', labelsize=12)\n",
    "plt.rc('axes', labelsize=12)\n",
    "\n",
    "column_width_cm = 8.9\n",
    "width_cm = 1.0 * column_width_cm\n",
    "hieght_cm = width_cm \n",
    "width_inches = width_cm/2.5\n",
    "hieght_inches = hieght_cm/2.5\n",
    "fig.set_size_inches(width_inches, hieght_inches)\n",
    "\n",
    "\n",
    "\n",
    "plt.savefig('./figs/IRAC_i1_cumulative_area_depth_mag.pdf', bbox_inches='tight')\n",
    "plt.savefig('./figs/IRAC_i1_cumulative_area_depth_mag.png', bbox_inches='tight')"
   ]
  },
  {
   "cell_type": "code",
   "execution_count": 14,
   "metadata": {},
   "outputs": [
    {
     "data": {
      "text/plain": [
       "'\\nThe IRAC i1 band has coverage over 273.1409041542108 square degrees with  5 sigma \\ndepths at the 25th, 50th and 75th percentiles of 17.727476044402813, 21.424679843133582, 22.16897080604381 respectively.'"
      ]
     },
     "execution_count": 14,
     "metadata": {},
     "output_type": "execute_result"
    }
   ],
   "source": [
    "mi1_p25, mi1_p50, mi1_p75 = np.nanpercentile(i1_pix_mag_depths ,[25, 50, 75])\n",
    "\"\"\"\n",
    "The IRAC i1 band has coverage over {} square degrees with  5 sigma \n",
    "depths at the 25th, 50th and 75th percentiles of {}, {}, {} respectively.\"\"\".format(total_area, mi1_p25, mi1_p50, mi1_p75)"
   ]
  },
  {
   "cell_type": "markdown",
   "metadata": {},
   "source": [
    "## g bands\n",
    "\n",
    "There are multiple g type bands so we the the maximum depth of all of them."
   ]
  },
  {
   "cell_type": "code",
   "execution_count": 15,
   "metadata": {},
   "outputs": [
    {
     "name": "stdout",
     "output_type": "stream",
     "text": [
      ", ferr_ap_mmt_g_mean, ferr_ap_omegacam_g_mean, ferr_ap_suprime_g_mean, ferr_ap_megacam_g_mean, ferr_ap_wfc_g_mean, ferr_ap_gpc1_g_mean, ferr_ap_decam_g_mean, ferr_ap_90prime_g_mean, ferr_ap_sdss_g_mean\n"
     ]
    }
   ],
   "source": [
    "g_filters = [f for f in filters if f.split('_')[1] == 'g']\n",
    "spaced_list = ''\n",
    "for g in g_filters:\n",
    "    spaced_list = spaced_list + ', ferr_ap_' + g + '_mean'\n",
    "print(spaced_list)"
   ]
  },
  {
   "cell_type": "code",
   "execution_count": 16,
   "metadata": {},
   "outputs": [
    {
     "data": {
      "text/plain": [
       "'\\nSELECT DISTINCT hp_idx_O_10, ferr_ap_mmt_g_mean, ferr_ap_omegacam_g_mean, ferr_ap_suprime_g_mean, ferr_ap_megacam_g_mean, ferr_ap_wfc_g_mean, ferr_ap_gpc1_g_mean, ferr_ap_decam_g_mean, ferr_ap_90prime_g_mean, ferr_ap_sdss_g_mean\\nFROM depth.main\\n\\n'"
      ]
     },
     "execution_count": 16,
     "metadata": {},
     "output_type": "execute_result"
    }
   ],
   "source": [
    "g_bands_query=\"\"\"\n",
    "SELECT DISTINCT hp_idx_O_10{}\n",
    "FROM depth.main\n",
    "\n",
    "\"\"\".format(spaced_list)\n",
    "g_bands_query"
   ]
  },
  {
   "cell_type": "code",
   "execution_count": 17,
   "metadata": {},
   "outputs": [
    {
     "name": "stdout",
     "output_type": "stream",
     "text": [
      "Job still running after 0 seconds.\n",
      "Job still running after 10 seconds.\n",
      "Job still running after 20 seconds.\n",
      "Job still running after 31 seconds.\n",
      "Job still running after 41 seconds.\n",
      "COMPLETED\n"
     ]
    }
   ],
   "source": [
    "#Then we execute the query\n",
    "#resultset = service.run_async(irac_i1_query)\n",
    "job = service.submit_job(g_bands_query)\n",
    "job.run()\n",
    "job_url = job.url\n",
    "job_result = vo.dal.tap.AsyncTAPJob(job_url)\n",
    "start_time = time.time()\n",
    "while job.phase == 'EXECUTING':\n",
    "    print('Job still running after {} seconds.'.format(round(time.time() - start_time)))\n",
    "    time.sleep(10) #wait ten seconds and try again\n",
    "    \n",
    "print(job.phase)\n",
    "table = job_result.fetch_result() \n",
    "\n",
    "\n"
   ]
  },
  {
   "cell_type": "code",
   "execution_count": 18,
   "metadata": {},
   "outputs": [
    {
     "data": {
      "text/plain": [
       "['ferr_ap_mmt_g_mean',\n",
       " 'ferr_ap_omegacam_g_mean',\n",
       " 'ferr_ap_suprime_g_mean',\n",
       " 'ferr_ap_megacam_g_mean',\n",
       " 'ferr_ap_wfc_g_mean',\n",
       " 'ferr_ap_gpc1_g_mean',\n",
       " 'ferr_ap_decam_g_mean',\n",
       " 'ferr_ap_90prime_g_mean',\n",
       " 'ferr_ap_sdss_g_mean']"
      ]
     },
     "execution_count": 18,
     "metadata": {},
     "output_type": "execute_result"
    }
   ],
   "source": [
    "g_depth_cols  = [\"ferr_ap_{}_mean\".format(band) for band in g_filters]\n",
    "g_depth_cols"
   ]
  },
  {
   "cell_type": "code",
   "execution_count": 19,
   "metadata": {},
   "outputs": [],
   "source": [
    "g_table = Table(table.table)\n",
    "for col in g_depth_cols:\n",
    "    g_table[col].fill_value = np.nan\n",
    "g_table = g_table.filled()"
   ]
  },
  {
   "cell_type": "code",
   "execution_count": 20,
   "metadata": {},
   "outputs": [
    {
     "name": "stderr",
     "output_type": "stream",
     "text": [
      "/Users/rs548/anaconda/envs/herschelhelp_internal/lib/python3.6/site-packages/ipykernel/__main__.py:1: RuntimeWarning: All-NaN axis encountered\n",
      "  if __name__ == '__main__':\n"
     ]
    },
    {
     "data": {
      "text/plain": [
       "array([2.07127300e-07, 2.18198880e-07, 1.93754770e-07, ...,\n",
       "       6.84728411e-01, 4.62498951e-01, 5.92936370e-01])"
      ]
     },
     "execution_count": 20,
     "metadata": {},
     "output_type": "execute_result"
    }
   ],
   "source": [
    "np.nanmin([g_table[column] for column in g_depth_cols], axis=0)"
   ]
  },
  {
   "cell_type": "code",
   "execution_count": 21,
   "metadata": {},
   "outputs": [
    {
     "name": "stdout",
     "output_type": "stream",
     "text": [
      "ferr_ap_mmt_g_mean 0\n",
      "ferr_ap_omegacam_g_mean 0\n",
      "ferr_ap_suprime_g_mean 0\n",
      "ferr_ap_megacam_g_mean 4\n",
      "ferr_ap_wfc_g_mean 0\n",
      "ferr_ap_gpc1_g_mean 2\n",
      "ferr_ap_decam_g_mean 42483\n",
      "ferr_ap_90prime_g_mean 9564\n",
      "ferr_ap_sdss_g_mean 0\n"
     ]
    },
    {
     "name": "stderr",
     "output_type": "stream",
     "text": [
      "/Users/rs548/anaconda/envs/herschelhelp_internal/lib/python3.6/site-packages/ipykernel/__main__.py:2: RuntimeWarning: invalid value encountered in less\n",
      "  from ipykernel import kernelapp as app\n"
     ]
    }
   ],
   "source": [
    "for col in g_depth_cols:\n",
    "    print(col, np.sum(np.log10(np.array(g_table[col])*1.e-6) < -9))"
   ]
  },
  {
   "cell_type": "code",
   "execution_count": 22,
   "metadata": {},
   "outputs": [
    {
     "name": "stderr",
     "output_type": "stream",
     "text": [
      "/Users/rs548/anaconda/envs/herschelhelp_internal/lib/python3.6/site-packages/ipykernel/__main__.py:1: RuntimeWarning: invalid value encountered in less\n",
      "  if __name__ == '__main__':\n",
      "/Users/rs548/anaconda/envs/herschelhelp_internal/lib/python3.6/site-packages/ipykernel/__main__.py:2: RuntimeWarning: invalid value encountered in less\n",
      "  from ipykernel import kernelapp as app\n"
     ]
    }
   ],
   "source": [
    "decam_low = (np.log10(np.array(g_table['ferr_ap_decam_g_mean'])*1.e-6) < -9)\n",
    "prime_low = (np.log10(np.array(g_table['ferr_ap_90prime_g_mean'])*1.e-6) < -9)"
   ]
  },
  {
   "cell_type": "code",
   "execution_count": 23,
   "metadata": {},
   "outputs": [
    {
     "name": "stdout",
     "output_type": "stream",
     "text": [
      "AKARI-NEP has 0.0 sq deg of bad DECam and 0.0 sq degrees of bad 90Prime\n",
      "AKARI-SEP has 0.0 sq deg of bad DECam and 0.0 sq degrees of bad 90Prime\n",
      "Bootes has 0.0 sq deg of bad DECam and 0.0 sq degrees of bad 90Prime\n",
      "CDFS-SWIRE has 0.0 sq deg of bad DECam and 0.0 sq degrees of bad 90Prime\n",
      "COSMOS has 4.993602528615098 sq deg of bad DECam and 4.993602528615098 sq degrees of bad 90Prime\n",
      "EGS has 0.0 sq deg of bad DECam and 0.0 sq degrees of bad 90Prime\n",
      "ELAIS-N1 has 0.0 sq deg of bad DECam and 0.0 sq degrees of bad 90Prime\n",
      "ELAIS-N2 has 0.0 sq deg of bad DECam and 0.0 sq degrees of bad 90Prime\n",
      "ELAIS-S1 has 0.0 sq deg of bad DECam and 0.0 sq degrees of bad 90Prime\n",
      "GAMA-09 has 58.83676922758017 sq deg of bad DECam and 58.83676922758017 sq degrees of bad 90Prime\n",
      "GAMA-12 has 41.50292732171963 sq deg of bad DECam and 41.50292732171963 sq degrees of bad 90Prime\n",
      "GAMA-15 has 24.055567671853485 sq deg of bad DECam and 24.055567671853485 sq degrees of bad 90Prime\n",
      "HDF-N has 0.0 sq deg of bad DECam and 0.0 sq degrees of bad 90Prime\n",
      "Herschel-Stripe-82 has 7.849065563976479 sq deg of bad DECam and 7.849065563976479 sq degrees of bad 90Prime\n",
      "Lockman-SWIRE has 0.0 sq deg of bad DECam and 0.0 sq degrees of bad 90Prime\n",
      "HATLAS-NGP has 0.0 sq deg of bad DECam and 0.0 sq degrees of bad 90Prime\n",
      "SA13 has 0.0 sq deg of bad DECam and 0.0 sq degrees of bad 90Prime\n",
      "HATLAS-SGP has 0.0 sq deg of bad DECam and 0.0 sq degrees of bad 90Prime\n",
      "SPIRE-NEP has 0.0 sq deg of bad DECam and 0.0 sq degrees of bad 90Prime\n",
      "SSDF has 0.0 sq deg of bad DECam and 0.0 sq degrees of bad 90Prime\n",
      "xFLS has 0.0 sq deg of bad DECam and 0.0 sq degrees of bad 90Prime\n",
      "XMM-13hr has 0.0 sq deg of bad DECam and 0.0 sq degrees of bad 90Prime\n",
      "XMM-LSS has 0.04267160683965466 sq deg of bad DECam and 0.04267160683965466 sq degrees of bad 90Prime\n"
     ]
    }
   ],
   "source": [
    "decam_bad_moc = MOC(10, g_table['hp_idx_o_10'][decam_low])\n",
    "prime_bad_moc = MOC(10, g_table['hp_idx_o_10'][decam_low])\n",
    "\n",
    "fields = yaml.load(open('../../../dmu2/meta_main.yml', 'r'))\n",
    "\n",
    "\n",
    "for field in fields['fields']:\n",
    "    field_moc = MOC(filename=field['region'].replace('dmu_products/', '../../../'))\n",
    "    decam_bad_area = decam_bad_moc.intersection(field_moc).area_sq_deg\n",
    "    prime_bad_area = prime_bad_moc.intersection(field_moc).area_sq_deg\n",
    "    print(\"{} has {} sq deg of bad DECam and {} sq degrees of bad 90Prime\".format(field['name'], \n",
    "                                                                                  decam_bad_area, \n",
    "                                                                                  prime_bad_area))"
   ]
  },
  {
   "cell_type": "code",
   "execution_count": 24,
   "metadata": {},
   "outputs": [],
   "source": [
    "g_table['ferr_ap_decam_g_mean'][decam_low] = g_table['ferr_ap_decam_g_mean'][decam_low] * 1.e6\n",
    "g_table['ferr_ap_90prime_g_mean'][prime_low] = g_table['ferr_ap_90prime_g_mean'][prime_low] * 1.e6"
   ]
  },
  {
   "cell_type": "code",
   "execution_count": 25,
   "metadata": {},
   "outputs": [
    {
     "name": "stderr",
     "output_type": "stream",
     "text": [
      "/Users/rs548/anaconda/envs/herschelhelp_internal/lib/python3.6/site-packages/ipykernel/__main__.py:1: RuntimeWarning: All-NaN axis encountered\n",
      "  if __name__ == '__main__':\n"
     ]
    }
   ],
   "source": [
    "g_table.add_column(Column(data=np.nanmin([g_table[column] for column in g_depth_cols], axis=0), name='ferr_g_min'))"
   ]
  },
  {
   "cell_type": "code",
   "execution_count": 26,
   "metadata": {},
   "outputs": [
    {
     "data": {
      "text/html": [
       "<i>Table length=394298</i>\n",
       "<table id=\"table4920228552\" class=\"table-striped table-bordered table-condensed\">\n",
       "<thead><tr><th>hp_idx_o_10</th><th>ferr_g_min</th></tr></thead>\n",
       "<thead><tr><th>int64</th><th>float64</th></tr></thead>\n",
       "<tr><td>1048576</td><td>0.01926224</td></tr>\n",
       "<tr><td>1048577</td><td>0.020717567</td></tr>\n",
       "<tr><td>1048578</td><td>0.021378249</td></tr>\n",
       "<tr><td>1048579</td><td>0.021092668</td></tr>\n",
       "<tr><td>1048580</td><td>0.020199573</td></tr>\n",
       "<tr><td>1048581</td><td>0.022394473</td></tr>\n",
       "<tr><td>1048582</td><td>0.020951325</td></tr>\n",
       "<tr><td>1048583</td><td>0.020383537</td></tr>\n",
       "<tr><td>1048584</td><td>0.022677435</td></tr>\n",
       "<tr><td>1048585</td><td>0.021453133</td></tr>\n",
       "<tr><td>...</td><td>...</td></tr>\n",
       "<tr><td>12042983</td><td>0.470593447975413</td></tr>\n",
       "<tr><td>12042985</td><td>0.401245270265415</td></tr>\n",
       "<tr><td>12043008</td><td>1.12891318891637</td></tr>\n",
       "<tr><td>12043009</td><td>0.508966908339133</td></tr>\n",
       "<tr><td>12043010</td><td>0.494158403628982</td></tr>\n",
       "<tr><td>12043011</td><td>0.577247280662618</td></tr>\n",
       "<tr><td>12043012</td><td>0.445860992796356</td></tr>\n",
       "<tr><td>12043016</td><td>0.684728410968042</td></tr>\n",
       "<tr><td>12043017</td><td>0.462498951222175</td></tr>\n",
       "<tr><td>12043018</td><td>0.592936370182139</td></tr>\n",
       "</table>"
      ],
      "text/plain": [
       "<Table length=394298>\n",
       "hp_idx_o_10     ferr_g_min   \n",
       "   int64         float64     \n",
       "----------- -----------------\n",
       "    1048576        0.01926224\n",
       "    1048577       0.020717567\n",
       "    1048578       0.021378249\n",
       "    1048579       0.021092668\n",
       "    1048580       0.020199573\n",
       "    1048581       0.022394473\n",
       "    1048582       0.020951325\n",
       "    1048583       0.020383537\n",
       "    1048584       0.022677435\n",
       "    1048585       0.021453133\n",
       "        ...               ...\n",
       "   12042983 0.470593447975413\n",
       "   12042985 0.401245270265415\n",
       "   12043008  1.12891318891637\n",
       "   12043009 0.508966908339133\n",
       "   12043010 0.494158403628982\n",
       "   12043011 0.577247280662618\n",
       "   12043012 0.445860992796356\n",
       "   12043016 0.684728410968042\n",
       "   12043017 0.462498951222175\n",
       "   12043018 0.592936370182139"
      ]
     },
     "execution_count": 26,
     "metadata": {},
     "output_type": "execute_result"
    }
   ],
   "source": [
    "g_table['hp_idx_o_10', 'ferr_g_min']"
   ]
  },
  {
   "cell_type": "code",
   "execution_count": 27,
   "metadata": {},
   "outputs": [
    {
     "data": {
      "text/plain": [
       "1292.6302392940547"
      ]
     },
     "execution_count": 27,
     "metadata": {},
     "output_type": "execute_result"
    }
   ],
   "source": [
    "g_moc = MOC(10, g_table['hp_idx_o_10'])\n",
    "g_moc.area_sq_deg\n",
    "total_area_g = g_moc.area_sq_deg\n",
    "total_area_g"
   ]
  },
  {
   "cell_type": "code",
   "execution_count": 28,
   "metadata": {},
   "outputs": [
    {
     "name": "stderr",
     "output_type": "stream",
     "text": [
      "/Users/rs548/anaconda/envs/herschelhelp_internal/lib/python3.6/site-packages/ipykernel/__main__.py:5: RuntimeWarning: invalid value encountered in greater\n",
      "/Users/rs548/anaconda/envs/herschelhelp_internal/lib/python3.6/site-packages/ipykernel/__main__.py:6: RuntimeWarning: invalid value encountered in less\n",
      "/Users/rs548/anaconda/envs/herschelhelp_internal/lib/python3.6/site-packages/matplotlib/font_manager.py:1297: UserWarning: findfont: Font family ['serif'] not found. Falling back to DejaVu Sans\n",
      "  (prop.get_family(), self.defaultFamily[fontext]))\n"
     ]
    },
    {
     "data": {
      "image/png": "[encoded data removed]",
      "text/plain": [
       "<matplotlib.figure.Figure at 0x12539abe0>"
      ]
     },
     "metadata": {},
     "output_type": "display_data"
    }
   ],
   "source": [
    "g_table['hp_idx_o_10', 'ferr_g_min']\n",
    "\n",
    "fig, ax = plt.subplots()\n",
    "\n",
    "good = np.log10(np.array(g_table['ferr_g_min'])*1.e-6) > -20\n",
    "good &= np.log10(np.array(g_table['ferr_g_min'])*1.e-6) <20\n",
    "\n",
    "cells, fluxes = np.histogram(np.log10(np.array(g_table['ferr_g_min'][good ])*1.e-6), bins=100)\n",
    "ax.plot(fluxes[1:],\n",
    "         np.cumsum(cells)*1270./cells.sum() ,\n",
    "        drawstyle='steps')\n",
    "\n",
    "ax.set_xlabel('Log$_{10}$ ( Mean g flux error [Jy] )')\n",
    "ax.set_ylabel('Cumulative area [deg.$^2$]')\n",
    "ax.set_xlim([-8,-4.0])\n",
    "#y_vals = ax.get_yticks()\n",
    "#ax.set_yticklabels([n for n in y_vals])\n",
    "\n",
    "\n",
    "\n",
    "plt.rc('font', family='serif', serif='Times')\n",
    "plt.rc('text') #, usetex=True)\n",
    "plt.rc('xtick', labelsize=12)\n",
    "plt.rc('ytick', labelsize=12)\n",
    "plt.rc('axes', labelsize=12)\n",
    "\n",
    "column_width_cm = 8.9\n",
    "width_cm = 1.0 * column_width_cm\n",
    "hieght_cm = width_cm / 1.618\n",
    "width_inches = width_cm/2.5\n",
    "hieght_inches = hieght_cm/2.5\n",
    "fig.set_size_inches(width_inches, hieght_inches)\n",
    "\n",
    "plt.tight_layout()\n",
    "plt.savefig('./figs/g_cumulative_area_depth.pdf')\n",
    "plt.savefig('./figs/g_cumulative_area_depth.png')"
   ]
  },
  {
   "cell_type": "code",
   "execution_count": 29,
   "metadata": {},
   "outputs": [
    {
     "data": {
      "text/plain": [
       "'\\nThe g band has coverage over 1270 square degrees with  3 sigma \\ndepths at the 25th, 50th and 75th percentiles of 0.30178651661213773, 0.367626929893692, 0.8854647236256772 respectively.'"
      ]
     },
     "execution_count": 29,
     "metadata": {},
     "output_type": "execute_result"
    }
   ],
   "source": [
    "g_p25, g_p50, g_p75 = np.nanpercentile(g_table['ferr_g_min'][good ] * 3.,[25, 50, 75])\n",
    "\"\"\"\n",
    "The g band has coverage over {} square degrees with  3 sigma \n",
    "depths at the 25th, 50th and 75th percentiles of {}, {}, {} respectively.\"\"\".format(1270, g_p25, g_p50, g_p75)"
   ]
  },
  {
   "cell_type": "markdown",
   "metadata": {},
   "source": [
    "In mags as per reviewer request"
   ]
  },
  {
   "cell_type": "code",
   "execution_count": 30,
   "metadata": {},
   "outputs": [
    {
     "name": "stderr",
     "output_type": "stream",
     "text": [
      "/Users/rs548/anaconda/envs/herschelhelp_internal/lib/python3.6/site-packages/ipykernel/__main__.py:5: RuntimeWarning: invalid value encountered in greater\n",
      "/Users/rs548/anaconda/envs/herschelhelp_internal/lib/python3.6/site-packages/ipykernel/__main__.py:6: RuntimeWarning: invalid value encountered in less\n",
      "/Users/rs548/anaconda/envs/herschelhelp_internal/lib/python3.6/site-packages/matplotlib/font_manager.py:1297: UserWarning: findfont: Font family ['serif'] not found. Falling back to DejaVu Sans\n",
      "  (prop.get_family(), self.defaultFamily[fontext]))\n"
     ]
    },
    {
     "data": {
      "image/png": "[encoded data removed]",
      "text/plain": [
       "<matplotlib.figure.Figure at 0x128b974e0>"
      ]
     },
     "metadata": {},
     "output_type": "display_data"
    }
   ],
   "source": [
    "g_table['hp_idx_o_10', 'ferr_g_min']\n",
    "\n",
    "fig, ax = plt.subplots()\n",
    "\n",
    "good = np.log10(np.array(g_table['ferr_g_min'])*1.e-6) > -20\n",
    "good &= np.log10(np.array(g_table['ferr_g_min'])*1.e-6) <20\n",
    "\n",
    "g_pix_mag_depths, _ = flux_to_mag(np.array(g_table['ferr_g_min'][good ])*1.e-6*5)\n",
    "cells, fluxes = np.histogram(g_pix_mag_depths, bins=1000)\n",
    "cells =np.flip(cells)\n",
    "fluxes = np.flip(fluxes)\n",
    "\n",
    "ax.plot(fluxes[1:],\n",
    "         np.cumsum(cells)*1270./cells.sum() ,\n",
    "        drawstyle='steps')\n",
    "\n",
    "ax.set_xlabel('5$\\sigma$ $g$ depth [mag] ')\n",
    "ax.set_ylabel('Cumulative area [deg.$^2$]')\n",
    "ax.set_xlim([27,20])\n",
    "ax.set_ylim([0,1300])\n",
    "#y_vals = ax.get_yticks()\n",
    "#ax.set_yticklabels([n for n in y_vals])\n",
    "\n",
    "\n",
    "\n",
    "plt.rc('font', family='serif', serif='Times')\n",
    "plt.rc('text') #, usetex=True)\n",
    "plt.rc('xtick', labelsize=12)\n",
    "plt.rc('ytick', labelsize=12)\n",
    "plt.rc('axes', labelsize=12)\n",
    "\n",
    "column_width_cm = 8.9\n",
    "width_cm = 1.0 * column_width_cm\n",
    "hieght_cm = width_cm \n",
    "width_inches = width_cm/2.5\n",
    "hieght_inches = hieght_cm/2.5\n",
    "fig.set_size_inches(width_inches, hieght_inches)\n",
    "\n",
    "\n",
    "plt.savefig('./figs/g_cumulative_area_depth_mag.pdf', bbox_inches='tight')\n",
    "plt.savefig('./figs/g_cumulative_area_depth_mag.png', bbox_inches='tight')"
   ]
  },
  {
   "cell_type": "code",
   "execution_count": 31,
   "metadata": {},
   "outputs": [
    {
     "data": {
      "text/plain": [
       "'\\nThe g band has coverage over 1270 square degrees with  3 sigma \\ndepths at the 25th, 50th and 75th percentiles of 23.47744996638206, 24.43185983247774, 24.646128545411877 respectively.'"
      ]
     },
     "execution_count": 31,
     "metadata": {},
     "output_type": "execute_result"
    }
   ],
   "source": [
    "mg_p25, mg_p50, mg_p75 = np.nanpercentile(g_pix_mag_depths,[25, 50, 75])\n",
    "\"\"\"\n",
    "The g band has coverage over {} square degrees with  3 sigma \n",
    "depths at the 25th, 50th and 75th percentiles of {}, {}, {} respectively.\"\"\".format(1270, mg_p25, mg_p50, mg_p75)"
   ]
  },
  {
   "cell_type": "code",
   "execution_count": 32,
   "metadata": {},
   "outputs": [
    {
     "data": {
      "text/html": [
       "<i>Table length=9564</i>\n",
       "<table id=\"table4919408736\" class=\"table-striped table-bordered table-condensed\">\n",
       "<thead><tr><th>hp_idx_o_10</th><th>ferr_ap_mmt_g_mean</th><th>ferr_ap_omegacam_g_mean</th><th>ferr_ap_suprime_g_mean</th><th>ferr_ap_megacam_g_mean</th><th>ferr_ap_wfc_g_mean</th><th>ferr_ap_gpc1_g_mean</th><th>ferr_ap_decam_g_mean</th><th>ferr_ap_90prime_g_mean</th><th>ferr_ap_sdss_g_mean</th><th>ferr_g_min</th></tr></thead>\n",
       "<thead><tr><th></th><th>uJy</th><th>uJy</th><th>uJy</th><th>uJy</th><th>uJy</th><th>uJy</th><th>uJy</th><th>uJy</th><th>uJy</th><th></th></tr></thead>\n",
       "<thead><tr><th>int64</th><th>float64</th><th>float64</th><th>float64</th><th>float64</th><th>float64</th><th>float64</th><th>float64</th><th>float64</th><th>float64</th><th>float64</th></tr></thead>\n",
       "<tr><td>2652662</td><td>nan</td><td>nan</td><td>nan</td><td>nan</td><td>nan</td><td>0.987825059481603</td><td>nan</td><td>0.20031881999999998</td><td>nan</td><td>0.20031881999999998</td></tr>\n",
       "<tr><td>2652663</td><td>nan</td><td>nan</td><td>nan</td><td>nan</td><td>nan</td><td>42.3153061976883</td><td>nan</td><td>0.1769414</td><td>nan</td><td>0.1769414</td></tr>\n",
       "<tr><td>2652667</td><td>nan</td><td>nan</td><td>nan</td><td>nan</td><td>nan</td><td>0.777482608504748</td><td>nan</td><td>0.200318</td><td>nan</td><td>0.200318</td></tr>\n",
       "<tr><td>2652668</td><td>nan</td><td>nan</td><td>nan</td><td>nan</td><td>nan</td><td>1.21649049703478</td><td>nan</td><td>0.20031815</td><td>nan</td><td>0.20031815</td></tr>\n",
       "<tr><td>2652669</td><td>nan</td><td>nan</td><td>nan</td><td>nan</td><td>nan</td><td>26.3897794278116</td><td>nan</td><td>0.18906452</td><td>nan</td><td>0.18906452</td></tr>\n",
       "<tr><td>2652670</td><td>nan</td><td>nan</td><td>nan</td><td>nan</td><td>nan</td><td>0.909743596951121</td><td>nan</td><td>0.2003182</td><td>nan</td><td>0.2003182</td></tr>\n",
       "<tr><td>2652671</td><td>nan</td><td>nan</td><td>nan</td><td>nan</td><td>nan</td><td>0.907613326799461</td><td>nan</td><td>0.20031814</td><td>nan</td><td>0.20031814</td></tr>\n",
       "<tr><td>2652983</td><td>nan</td><td>nan</td><td>nan</td><td>nan</td><td>nan</td><td>0.759221342327773</td><td>nan</td><td>0.19815181</td><td>nan</td><td>0.19815181</td></tr>\n",
       "<tr><td>2652985</td><td>nan</td><td>nan</td><td>nan</td><td>nan</td><td>nan</td><td>0.709532414323448</td><td>nan</td><td>0.19815195</td><td>nan</td><td>0.19815195</td></tr>\n",
       "<tr><td>...</td><td>...</td><td>...</td><td>...</td><td>...</td><td>...</td><td>...</td><td>...</td><td>...</td><td>...</td><td>...</td></tr>\n",
       "<tr><td>2758725</td><td>nan</td><td>nan</td><td>nan</td><td>nan</td><td>nan</td><td>0.962989379875482</td><td>nan</td><td>0.16304098</td><td>nan</td><td>0.16304098</td></tr>\n",
       "<tr><td>2758726</td><td>nan</td><td>nan</td><td>nan</td><td>nan</td><td>nan</td><td>1.592190840778</td><td>nan</td><td>0.16239852</td><td>nan</td><td>0.16239852</td></tr>\n",
       "<tr><td>2758727</td><td>nan</td><td>nan</td><td>nan</td><td>nan</td><td>nan</td><td>1.68717381553481</td><td>nan</td><td>0.1647915</td><td>nan</td><td>0.1647915</td></tr>\n",
       "<tr><td>2758728</td><td>nan</td><td>nan</td><td>nan</td><td>nan</td><td>nan</td><td>1.41524050155837</td><td>nan</td><td>0.17226333</td><td>nan</td><td>0.17226333</td></tr>\n",
       "<tr><td>2758729</td><td>nan</td><td>nan</td><td>nan</td><td>nan</td><td>nan</td><td>1549.36707196568</td><td>nan</td><td>0.16137253</td><td>nan</td><td>0.16137253</td></tr>\n",
       "<tr><td>2758730</td><td>nan</td><td>nan</td><td>nan</td><td>nan</td><td>nan</td><td>1.5850016725736</td><td>nan</td><td>0.16344784</td><td>nan</td><td>0.16344784</td></tr>\n",
       "<tr><td>2758732</td><td>nan</td><td>nan</td><td>nan</td><td>nan</td><td>nan</td><td>nan</td><td>nan</td><td>0.1635113</td><td>nan</td><td>0.1635113</td></tr>\n",
       "<tr><td>2758736</td><td>nan</td><td>nan</td><td>nan</td><td>nan</td><td>nan</td><td>0.829615297934712</td><td>nan</td><td>0.20959587</td><td>nan</td><td>0.20959587</td></tr>\n",
       "<tr><td>2758737</td><td>nan</td><td>nan</td><td>nan</td><td>nan</td><td>nan</td><td>0.892086609466304</td><td>nan</td><td>0.22579443999999999</td><td>nan</td><td>0.22579443999999999</td></tr>\n",
       "<tr><td>2758784</td><td>nan</td><td>nan</td><td>nan</td><td>nan</td><td>nan</td><td>0.88569399826493</td><td>nan</td><td>0.1444143</td><td>nan</td><td>0.1444143</td></tr>\n",
       "</table>"
      ],
      "text/plain": [
       "<Table length=9564>\n",
       "hp_idx_o_10 ferr_ap_mmt_g_mean ... ferr_ap_sdss_g_mean      ferr_g_min    \n",
       "                   uJy         ...         uJy                            \n",
       "   int64         float64       ...       float64             float64      \n",
       "----------- ------------------ ... ------------------- -------------------\n",
       "    2652662                nan ...                 nan 0.20031881999999998\n",
       "    2652663                nan ...                 nan           0.1769414\n",
       "    2652667                nan ...                 nan            0.200318\n",
       "    2652668                nan ...                 nan          0.20031815\n",
       "    2652669                nan ...                 nan          0.18906452\n",
       "    2652670                nan ...                 nan           0.2003182\n",
       "    2652671                nan ...                 nan          0.20031814\n",
       "    2652983                nan ...                 nan          0.19815181\n",
       "    2652985                nan ...                 nan          0.19815195\n",
       "        ...                ... ...                 ...                 ...\n",
       "    2758725                nan ...                 nan          0.16304098\n",
       "    2758726                nan ...                 nan          0.16239852\n",
       "    2758727                nan ...                 nan           0.1647915\n",
       "    2758728                nan ...                 nan          0.17226333\n",
       "    2758729                nan ...                 nan          0.16137253\n",
       "    2758730                nan ...                 nan          0.16344784\n",
       "    2758732                nan ...                 nan           0.1635113\n",
       "    2758736                nan ...                 nan          0.20959587\n",
       "    2758737                nan ...                 nan 0.22579443999999999\n",
       "    2758784                nan ...                 nan           0.1444143"
      ]
     },
     "execution_count": 32,
     "metadata": {},
     "output_type": "execute_result"
    }
   ],
   "source": [
    "g_table[prime_low]"
   ]
  },
  {
   "cell_type": "markdown",
   "metadata": {},
   "source": [
    "## K or Ks filters\n",
    "the same for K"
   ]
  },
  {
   "cell_type": "code",
   "execution_count": 33,
   "metadata": {},
   "outputs": [
    {
     "data": {
      "text/plain": [
       "['isaac_k',\n",
       " 'moircs_k',\n",
       " 'wircam_ks',\n",
       " 'ukidss_k',\n",
       " 'vista_ks',\n",
       " 'moircs_ks',\n",
       " 'newfirm_k',\n",
       " 'omega2000_ks',\n",
       " 'tifkam_ks',\n",
       " 'wircs_k',\n",
       " 'hawki_k']"
      ]
     },
     "execution_count": 33,
     "metadata": {},
     "output_type": "execute_result"
    }
   ],
   "source": [
    "K_filters = [f for f in filters if f.split('_')[1].startswith('k')]\n",
    "K_filters"
   ]
  },
  {
   "cell_type": "code",
   "execution_count": 34,
   "metadata": {},
   "outputs": [
    {
     "name": "stdout",
     "output_type": "stream",
     "text": [
      ", ferr_ap_isaac_k_mean, ferr_ap_moircs_k_mean, ferr_ap_wircam_ks_mean, ferr_ap_ukidss_k_mean, ferr_ap_vista_ks_mean, ferr_ap_moircs_ks_mean, ferr_ap_newfirm_k_mean, ferr_ap_omega2000_ks_mean, ferr_ap_tifkam_ks_mean, ferr_ap_wircs_k_mean, ferr_ap_hawki_k_mean\n"
     ]
    }
   ],
   "source": [
    "\n",
    "spaced_list = ''\n",
    "for K in K_filters:\n",
    "    spaced_list = spaced_list + ', ferr_ap_' + K + '_mean'\n",
    "print(spaced_list)"
   ]
  },
  {
   "cell_type": "code",
   "execution_count": 35,
   "metadata": {},
   "outputs": [
    {
     "data": {
      "text/plain": [
       "'\\nSELECT DISTINCT hp_idx_O_10, ferr_ap_isaac_k_mean, ferr_ap_moircs_k_mean, ferr_ap_wircam_ks_mean, ferr_ap_ukidss_k_mean, ferr_ap_vista_ks_mean, ferr_ap_moircs_ks_mean, ferr_ap_newfirm_k_mean, ferr_ap_omega2000_ks_mean, ferr_ap_tifkam_ks_mean, ferr_ap_wircs_k_mean, ferr_ap_hawki_k_mean\\nFROM depth.main\\n\\n'"
      ]
     },
     "execution_count": 35,
     "metadata": {},
     "output_type": "execute_result"
    }
   ],
   "source": [
    "K_bands_query=\"\"\"\n",
    "SELECT DISTINCT hp_idx_O_10{}\n",
    "FROM depth.main\n",
    "\n",
    "\"\"\".format(spaced_list)\n",
    "K_bands_query"
   ]
  },
  {
   "cell_type": "code",
   "execution_count": 36,
   "metadata": {},
   "outputs": [
    {
     "name": "stdout",
     "output_type": "stream",
     "text": [
      "Job still running after 0 seconds.\n",
      "Job still running after 10 seconds.\n",
      "Job still running after 20 seconds.\n",
      "Job still running after 31 seconds.\n",
      "Job still running after 41 seconds.\n",
      "COMPLETED\n"
     ]
    }
   ],
   "source": [
    "#Then we execute the query\n",
    "#resultset = service.run_async(irac_i1_query)\n",
    "job = service.submit_job(K_bands_query)\n",
    "job.run()\n",
    "job_url = job.url\n",
    "job_result = vo.dal.tap.AsyncTAPJob(job_url)\n",
    "start_time = time.time()\n",
    "while job.phase == 'EXECUTING':\n",
    "    print('Job still running after {} seconds.'.format(round(time.time() - start_time)))\n",
    "    time.sleep(10) #wait ten seconds and try again\n",
    "    \n",
    "print(job.phase)\n",
    "table = job_result.fetch_result() "
   ]
  },
  {
   "cell_type": "code",
   "execution_count": 37,
   "metadata": {},
   "outputs": [
    {
     "data": {
      "text/plain": [
       "['ferr_ap_isaac_k_mean',\n",
       " 'ferr_ap_moircs_k_mean',\n",
       " 'ferr_ap_wircam_ks_mean',\n",
       " 'ferr_ap_ukidss_k_mean',\n",
       " 'ferr_ap_vista_ks_mean',\n",
       " 'ferr_ap_moircs_ks_mean',\n",
       " 'ferr_ap_newfirm_k_mean',\n",
       " 'ferr_ap_omega2000_ks_mean',\n",
       " 'ferr_ap_tifkam_ks_mean',\n",
       " 'ferr_ap_wircs_k_mean',\n",
       " 'ferr_ap_hawki_k_mean']"
      ]
     },
     "execution_count": 37,
     "metadata": {},
     "output_type": "execute_result"
    }
   ],
   "source": [
    "depth_cols  = [\"ferr_ap_{}_mean\".format(band) for band in K_filters]\n",
    "depth_cols"
   ]
  },
  {
   "cell_type": "code",
   "execution_count": 38,
   "metadata": {},
   "outputs": [],
   "source": [
    "K_table = Table(table.table)\n",
    "for col in depth_cols:\n",
    "    K_table[col].fill_value = np.nan\n",
    "K_table = K_table.filled()"
   ]
  },
  {
   "cell_type": "code",
   "execution_count": 39,
   "metadata": {},
   "outputs": [
    {
     "data": {
      "text/plain": [
       "394298"
      ]
     },
     "execution_count": 39,
     "metadata": {},
     "output_type": "execute_result"
    }
   ],
   "source": [
    "len(K_table)"
   ]
  },
  {
   "cell_type": "code",
   "execution_count": 40,
   "metadata": {},
   "outputs": [
    {
     "name": "stderr",
     "output_type": "stream",
     "text": [
      "/Users/rs548/anaconda/envs/herschelhelp_internal/lib/python3.6/site-packages/ipykernel/__main__.py:1: RuntimeWarning: All-NaN axis encountered\n",
      "  if __name__ == '__main__':\n"
     ]
    }
   ],
   "source": [
    "K_table.add_column(Column(data=np.nanmin([K_table[column] for column in depth_cols], axis=0), name='ferr_K_min'))"
   ]
  },
  {
   "cell_type": "code",
   "execution_count": 41,
   "metadata": {},
   "outputs": [
    {
     "data": {
      "text/plain": [
       "44649"
      ]
     },
     "execution_count": 41,
     "metadata": {},
     "output_type": "execute_result"
    }
   ],
   "source": [
    "np.sum(np.isnan(K_table['ferr_K_min'] ))"
   ]
  },
  {
   "cell_type": "code",
   "execution_count": 42,
   "metadata": {},
   "outputs": [
    {
     "data": {
      "text/plain": [
       "1146.2587389655478"
      ]
     },
     "execution_count": 42,
     "metadata": {},
     "output_type": "execute_result"
    }
   ],
   "source": [
    "K_moc = MOC(10, K_table[~np.isnan(K_table['ferr_K_min'] )]['hp_idx_o_10'])\n",
    "K_moc.area_sq_deg\n",
    "total_area_K = K_moc.area_sq_deg\n",
    "total_area_K"
   ]
  },
  {
   "cell_type": "code",
   "execution_count": 43,
   "metadata": {},
   "outputs": [
    {
     "name": "stderr",
     "output_type": "stream",
     "text": [
      "/Users/rs548/anaconda/envs/herschelhelp_internal/lib/python3.6/site-packages/ipykernel/__main__.py:5: RuntimeWarning: divide by zero encountered in log10\n",
      "/Users/rs548/anaconda/envs/herschelhelp_internal/lib/python3.6/site-packages/ipykernel/__main__.py:5: RuntimeWarning: invalid value encountered in greater\n",
      "/Users/rs548/anaconda/envs/herschelhelp_internal/lib/python3.6/site-packages/ipykernel/__main__.py:6: RuntimeWarning: divide by zero encountered in log10\n",
      "/Users/rs548/anaconda/envs/herschelhelp_internal/lib/python3.6/site-packages/ipykernel/__main__.py:6: RuntimeWarning: invalid value encountered in less\n",
      "/Users/rs548/anaconda/envs/herschelhelp_internal/lib/python3.6/site-packages/matplotlib/font_manager.py:1297: UserWarning: findfont: Font family ['serif'] not found. Falling back to DejaVu Sans\n",
      "  (prop.get_family(), self.defaultFamily[fontext]))\n"
     ]
    },
    {
     "data": {
      "image/png": "[encoded data removed]",
      "text/plain": [
       "<matplotlib.figure.Figure at 0x12516ce80>"
      ]
     },
     "metadata": {},
     "output_type": "display_data"
    }
   ],
   "source": [
    "K_table['hp_idx_o_10', 'ferr_K_min']\n",
    "\n",
    "fig, ax = plt.subplots()\n",
    "\n",
    "good = np.log10(np.array(K_table['ferr_K_min'])*1.e-6) > -20\n",
    "good &= np.log10(np.array(K_table['ferr_K_min'])*1.e-6) <20\n",
    "\n",
    "cells, fluxes = np.histogram(np.log10(np.array(K_table['ferr_K_min'][good ])*1.e-6), bins=100)\n",
    "ax.plot(fluxes[1:],\n",
    "         np.cumsum(cells)*total_area_K/cells.sum() ,\n",
    "        drawstyle='steps')\n",
    "\n",
    "ax.set_xlabel('Log$_{10}$ ( Mean K or Ks flux error [Jy] )')\n",
    "ax.set_ylabel('Cumulative area [deg.$^2$]')\n",
    "ax.set_xlim([-6.5,-4.5])\n",
    "#y_vals = ax.get_yticks()\n",
    "#ax.set_yticklabels([n for n in y_vals])\n",
    "\n",
    "plt.rc('font', family='serif', serif='Times')\n",
    "plt.rc('text') #, usetex=True)\n",
    "plt.rc('xtick', labelsize=12)\n",
    "plt.rc('ytick', labelsize=12)\n",
    "plt.rc('axes', labelsize=12)\n",
    "\n",
    "column_width_cm = 8.9\n",
    "width_cm = 1.4 * column_width_cm\n",
    "hieght_cm = width_cm / 1.618\n",
    "width_inches = width_cm/2.5\n",
    "hieght_inches = hieght_cm/2.5\n",
    "fig.set_size_inches(width_inches, hieght_inches)\n",
    "plt.tight_layout()\n",
    "\n",
    "plt.savefig('./figs/K_cumulative_area_depth.pdf')\n",
    "plt.savefig('./figs/K_cumulative_area_depth.png')"
   ]
  },
  {
   "cell_type": "code",
   "execution_count": 44,
   "metadata": {},
   "outputs": [
    {
     "data": {
      "text/plain": [
       "'\\nThe K band has coverage over 1146.2587389655478 square degrees with  3 sigma \\ndepths at the 25th, 50th and 75th percentiles of 8.507107317226373, 15.31927155, 18.434229287923927 respectively.'"
      ]
     },
     "execution_count": 44,
     "metadata": {},
     "output_type": "execute_result"
    }
   ],
   "source": [
    "K_p25, K_p50, K_p75 = np.nanpercentile(K_table['ferr_K_min'][good ] * 3.,[25, 50, 75])\n",
    "\"\"\"\n",
    "The K band has coverage over {} square degrees with  3 sigma \n",
    "depths at the 25th, 50th and 75th percentiles of {}, {}, {} respectively.\"\"\".format(total_area_K, K_p25, K_p50, K_p75)"
   ]
  },
  {
   "cell_type": "markdown",
   "metadata": {},
   "source": [
    "And in mags as per reviewer request"
   ]
  },
  {
   "cell_type": "code",
   "execution_count": 45,
   "metadata": {},
   "outputs": [
    {
     "name": "stderr",
     "output_type": "stream",
     "text": [
      "/Users/rs548/anaconda/envs/herschelhelp_internal/lib/python3.6/site-packages/ipykernel/__main__.py:5: RuntimeWarning: divide by zero encountered in log10\n",
      "/Users/rs548/anaconda/envs/herschelhelp_internal/lib/python3.6/site-packages/ipykernel/__main__.py:5: RuntimeWarning: invalid value encountered in greater\n",
      "/Users/rs548/anaconda/envs/herschelhelp_internal/lib/python3.6/site-packages/ipykernel/__main__.py:6: RuntimeWarning: divide by zero encountered in log10\n",
      "/Users/rs548/anaconda/envs/herschelhelp_internal/lib/python3.6/site-packages/ipykernel/__main__.py:6: RuntimeWarning: invalid value encountered in less\n",
      "/Users/rs548/anaconda/envs/herschelhelp_internal/lib/python3.6/site-packages/matplotlib/font_manager.py:1297: UserWarning: findfont: Font family ['serif'] not found. Falling back to DejaVu Sans\n",
      "  (prop.get_family(), self.defaultFamily[fontext]))\n"
     ]
    },
    {
     "data": {
      "image/png": "[encoded data removed]",
      "text/plain": [
       "<matplotlib.figure.Figure at 0x128703550>"
      ]
     },
     "metadata": {},
     "output_type": "display_data"
    }
   ],
   "source": [
    "K_table['hp_idx_o_10', 'ferr_K_min']\n",
    "\n",
    "fig, ax = plt.subplots()\n",
    "\n",
    "good = np.log10(np.array(K_table['ferr_K_min'])*1.e-6) > -20\n",
    "good &= np.log10(np.array(K_table['ferr_K_min'])*1.e-6) <20\n",
    "\n",
    "#cells, fluxes = np.histogram(np.log10(np.array(K_table['ferr_K_min'][good ])*1.e-6), bins=100)\n",
    "\n",
    "K_pix_mag_depths, _ = flux_to_mag(np.array(K_table['ferr_K_min'][good ])*1.e-6*5)\n",
    "cells, fluxes = np.histogram(K_pix_mag_depths, bins=1000)\n",
    "cells =np.flip(cells)\n",
    "fluxes = np.flip(fluxes)\n",
    "\n",
    "\n",
    "\n",
    "ax.plot(fluxes[1:],\n",
    "         np.cumsum(cells)*total_area_K/cells.sum() ,\n",
    "        drawstyle='steps')\n",
    "\n",
    "ax.set_xlabel('5$\\sigma$ $K$ or $Ks$ depth [mag]')\n",
    "ax.set_ylabel('Cumulative area [deg.$^2$]')\n",
    "ax.set_xlim([22,19])\n",
    "ax.set_ylim([0,1200])\n",
    "#y_vals = ax.get_yticks()\n",
    "#ax.set_yticklabels([n for n in y_vals])\n",
    "\n",
    "plt.rc('font', family='serif', serif='Times')\n",
    "plt.rc('text') #, usetex=True)\n",
    "plt.rc('xtick', labelsize=12)\n",
    "plt.rc('ytick', labelsize=12)\n",
    "plt.rc('axes', labelsize=12)\n",
    "\n",
    "column_width_cm = 8.9\n",
    "width_cm = 1.0 * column_width_cm\n",
    "hieght_cm = width_cm \n",
    "width_inches = width_cm/2.5\n",
    "hieght_inches = hieght_cm/2.5\n",
    "fig.set_size_inches(width_inches, hieght_inches)\n",
    "\n",
    "\n",
    "plt.savefig('./figs/K_cumulative_area_depth_mag.pdf', bbox_inches='tight')\n",
    "plt.savefig('./figs/K_cumulative_area_depth_mag.png', bbox_inches='tight')"
   ]
  },
  {
   "cell_type": "code",
   "execution_count": null,
   "metadata": {},
   "outputs": [],
   "source": []
  },
  {
   "cell_type": "code",
   "execution_count": 46,
   "metadata": {},
   "outputs": [
    {
     "data": {
      "text/plain": [
       "'The K or Ks band has coverage over 1146.2587389655478 square degrees with  5 sigmadepths at the 25th, 50th and 75th percentiles of 20.181315663428137, 20.38228283956797, 21.020923347289685 respectively.'"
      ]
     },
     "execution_count": 46,
     "metadata": {},
     "output_type": "execute_result"
    }
   ],
   "source": [
    "K_p25, K_p50, K_p75 = np.nanpercentile(K_pix_mag_depths,[25, 50, 75])\n",
    "(\"The K or Ks band has coverage over {} square degrees with  5 sigma\"  +\n",
    "\"depths at the 25th, 50th and 75th percentiles of {}, {}, {} respectively.\").format(total_area_K, K_p25, K_p50, K_p75)"
   ]
  },
  {
   "cell_type": "markdown",
   "metadata": {},
   "source": [
    "## Make a table of bands available on each field"
   ]
  },
  {
   "cell_type": "code",
   "execution_count": 47,
   "metadata": {},
   "outputs": [],
   "source": [
    "bands = ['u', 'g', 'r', 'i', 'z', 'y',\n",
    "        'J', 'H', 'K', 'Ks',\n",
    "        'i1', 'i2', 'i3', 'i4']"
   ]
  },
  {
   "cell_type": "code",
   "execution_count": 48,
   "metadata": {},
   "outputs": [],
   "source": [
    "spaced_list = ''\n",
    "for m, band in enumerate(bands):\n",
    "    specific_bands = [f for f in filters if f.split('_')[1] == band.lower()]\n",
    "    for specific_band in specific_bands:\n",
    "        spaced_list = spaced_list + ', ferr_ap_' + specific_band + '_mean'\n",
    "        \n",
    "spaced_list = spaced_list.replace(' ferr_ap_lbc_u_mean,', '')\n",
    "spaced_list = spaced_list.replace(' ferr_ap_lbc_y_mean,', '')"
   ]
  },
  {
   "cell_type": "code",
   "execution_count": 49,
   "metadata": {},
   "outputs": [
    {
     "data": {
      "text/plain": [
       "', ferr_ap_omegacam_u_mean, ferr_ap_mmt_u_mean, ferr_ap_bessell_u_mean, ferr_ap_wfi_u_mean, ferr_ap_megacam_u_mean, ferr_ap_mosaic_u_mean, ferr_ap_wfc_u_mean, ferr_ap_sdss_u_mean, ferr_ap_mmt_g_mean, ferr_ap_omegacam_g_mean, ferr_ap_suprime_g_mean, ferr_ap_megacam_g_mean, ferr_ap_wfc_g_mean, ferr_ap_gpc1_g_mean, ferr_ap_decam_g_mean, ferr_ap_90prime_g_mean, ferr_ap_sdss_g_mean, ferr_ap_omegacam_r_mean, ferr_ap_mmt_r_mean, ferr_ap_cfht12k_r_mean, ferr_ap_megacam_r_mean, ferr_ap_wfi_r_mean, ferr_ap_suprime_r_mean, ferr_ap_mosaic_r_mean, ferr_ap_bessell_r_mean, ferr_ap_wfc_r_mean, ferr_ap_gpc1_r_mean, ferr_ap_decam_r_mean, ferr_ap_sdss_r_mean, ferr_ap_90prime_r_mean, ferr_ap_sdss_i_mean, ferr_ap_decam_i_mean, ferr_ap_gpc1_i_mean, ferr_ap_wfc_i_mean, ferr_ap_bessell_i_mean, ferr_ap_mosaic_i_mean, ferr_ap_megacam_i_mean, ferr_ap_wfi_i_mean, ferr_ap_suprime_i_mean, ferr_ap_cfht12k_i_mean, ferr_ap_mmt_i_mean, ferr_ap_omegacam_i_mean, ferr_ap_decam_z_mean, ferr_ap_90prime_z_mean, ferr_ap_sdss_z_mean, ferr_ap_wfc_z_mean, ferr_ap_gpc1_z_mean, ferr_ap_suprime_z_mean, ferr_ap_megacam_z_mean, ferr_ap_vista_z_mean, ferr_ap_mosaic_z_mean, ferr_ap_omegacam_z_mean, ferr_ap_mmt_z_mean, ferr_ap_decam_y_mean, ferr_ap_ukidss_y_mean, ferr_ap_gpc1_y_mean, ferr_ap_suprime_y_mean, ferr_ap_megacam_y_mean, ferr_ap_vista_y_mean, ferr_ap_wircam_y_mean, ferr_ap_omega2000_j_mean, ferr_ap_ukidss_j_mean, ferr_ap_vista_j_mean, ferr_ap_newfirm_j_mean, ferr_ap_wircs_j_mean, ferr_ap_wircam_j_mean, ferr_ap_ukidss_h_mean, ferr_ap_vista_h_mean, ferr_ap_newfirm_h_mean, ferr_ap_wircam_h_mean, ferr_ap_isaac_k_mean, ferr_ap_moircs_k_mean, ferr_ap_ukidss_k_mean, ferr_ap_newfirm_k_mean, ferr_ap_wircs_k_mean, ferr_ap_hawki_k_mean, ferr_ap_wircam_ks_mean, ferr_ap_vista_ks_mean, ferr_ap_moircs_ks_mean, ferr_ap_omega2000_ks_mean, ferr_ap_tifkam_ks_mean, ferr_ap_irac_i1_mean, ferr_ap_irac_i2_mean, ferr_ap_irac_i3_mean, ferr_ap_irac_i4_mean'"
      ]
     },
     "execution_count": 49,
     "metadata": {},
     "output_type": "execute_result"
    }
   ],
   "source": [
    "spaced_list"
   ]
  },
  {
   "cell_type": "code",
   "execution_count": null,
   "metadata": {},
   "outputs": [
    {
     "name": "stdout",
     "output_type": "stream",
     "text": [
      "1576062295.95764\n",
      "Job still running after 0 seconds.\n"
     ]
    }
   ],
   "source": [
    "\n",
    "query = \"\"\"\n",
    "SELECT DISTINCT hp_idx_O_10{}\n",
    "FROM depth.main\n",
    "\"\"\".format(spaced_list)\n",
    "job = service.submit_job(query)\n",
    "job.run()\n",
    "job_url = job.url\n",
    "job_result = vo.dal.tap.AsyncTAPJob(job_url)\n",
    "start_time = time.time()\n",
    "print(time.time())\n",
    "while job.phase == 'EXECUTING':\n",
    "    print('Job still running after {} seconds.'.format(round(time.time() - start_time)))\n",
    "    time.sleep(50) #wait ten seconds and try again\n",
    "    \n",
    "print(job.phase)\n",
    "print('Fetching result', time.time())\n",
    "table = job_result.fetch_result()"
   ]
  },
  {
   "cell_type": "code",
   "execution_count": null,
   "metadata": {},
   "outputs": [],
   "source": [
    "depth_table = table.table\n",
    "depth_table "
   ]
  },
  {
   "cell_type": "code",
   "execution_count": null,
   "metadata": {},
   "outputs": [],
   "source": [
    "cosmos_coverage = Table.read('../../../dmu1/dmu1_ml_COSMOS/data/depths_cosmos_20190402.fits')"
   ]
  },
  {
   "cell_type": "code",
   "execution_count": null,
   "metadata": {},
   "outputs": [],
   "source": [
    "cosmos_coverage[:10].show_in_notebook()"
   ]
  },
  {
   "cell_type": "code",
   "execution_count": null,
   "metadata": {},
   "outputs": [],
   "source": [
    "np.sum(~np.isnan(cosmos_coverage['ferr_irac_i1_mean']))"
   ]
  },
  {
   "cell_type": "code",
   "execution_count": null,
   "metadata": {},
   "outputs": [],
   "source": [
    "plt.hist(cosmos_coverage[~np.isnan(cosmos_coverage['ferr_irac_i1_mean'])]['ferr_irac_i1_mean'], bins=100)"
   ]
  },
  {
   "cell_type": "code",
   "execution_count": null,
   "metadata": {},
   "outputs": [],
   "source": [
    "#We use total here because apertur fluxes are absent\n",
    "cosmos_coverage['ferr_irac_i1_mean'].name = 'ferr_ap_irac_i1_mean'\n",
    "cosmos_coverage['ferr_irac_i2_mean'].name = 'ferr_ap_irac_i2_mean'\n",
    "cosmos_coverage['ferr_irac_i3_mean'].name = 'ferr_ap_irac_i3_mean'\n",
    "cosmos_coverage['ferr_irac_i4_mean'].name = 'ferr_ap_irac_i4_mean'"
   ]
  },
  {
   "cell_type": "code",
   "execution_count": null,
   "metadata": {},
   "outputs": [],
   "source": [
    "cosmos_coverage['hp_idx_O_10'].name='hp_idx_o_10'"
   ]
  },
  {
   "cell_type": "code",
   "execution_count": null,
   "metadata": {},
   "outputs": [],
   "source": [
    "len(cosmos_coverage)"
   ]
  },
  {
   "cell_type": "code",
   "execution_count": null,
   "metadata": {},
   "outputs": [],
   "source": [
    "len(np.unique(cosmos_coverage['hp_idx_o_10']))"
   ]
  },
  {
   "cell_type": "code",
   "execution_count": null,
   "metadata": {},
   "outputs": [],
   "source": [
    "cosmos_coverage.sort('hp_idx_o_10')\n",
    "is_duplicate = cosmos_coverage['hp_idx_o_10'][1:] == cosmos_coverage['hp_idx_o_10'][:-1]\n",
    "#np.append(is_duplicate,False)\n",
    "cosmos_coverage = cosmos_coverage[~np.append(is_duplicate,False)]"
   ]
  },
  {
   "cell_type": "code",
   "execution_count": null,
   "metadata": {},
   "outputs": [],
   "source": [
    "len(cosmos_coverage)"
   ]
  },
  {
   "cell_type": "code",
   "execution_count": null,
   "metadata": {},
   "outputs": [],
   "source": [
    "shared_cols = set(cosmos_coverage.colnames).intersection(set(depth_table.colnames))"
   ]
  },
  {
   "cell_type": "code",
   "execution_count": null,
   "metadata": {},
   "outputs": [],
   "source": [
    "shared_cols"
   ]
  },
  {
   "cell_type": "code",
   "execution_count": null,
   "metadata": {},
   "outputs": [],
   "source": [
    "cosmos_pixels = np.in1d(depth_table['hp_idx_o_10'], np.unique(cosmos_coverage['hp_idx_o_10']))"
   ]
  },
  {
   "cell_type": "code",
   "execution_count": null,
   "metadata": {},
   "outputs": [],
   "source": [
    "np.sum(cosmos_pixels)"
   ]
  },
  {
   "cell_type": "code",
   "execution_count": null,
   "metadata": {},
   "outputs": [],
   "source": [
    "len(depth_table)"
   ]
  },
  {
   "cell_type": "code",
   "execution_count": null,
   "metadata": {},
   "outputs": [],
   "source": [
    "depth_table= depth_table[~cosmos_pixels]\n",
    "len(depth_table)"
   ]
  },
  {
   "cell_type": "code",
   "execution_count": null,
   "metadata": {},
   "outputs": [],
   "source": [
    "\n",
    "depth_table = vstack([depth_table, cosmos_coverage[list(shared_cols)]])\n",
    "len(depth_table)"
   ]
  },
  {
   "cell_type": "code",
   "execution_count": null,
   "metadata": {},
   "outputs": [],
   "source": [
    "\n",
    "for col in depth_table.colnames:\n",
    "    if depth_table[col].dtype == 'float64':\n",
    "        depth_table[col].fill_value = np.nan\n",
    "    if col.startswith('ferr'):\n",
    "        depth_table[col][depth_table[col] < 1.e-3] *= 1.e6 \n",
    "    \n",
    "depth_table = depth_table.filled()\n",
    "coverage = Table()\n",
    "coverage.add_column(Column(data=depth_table['hp_idx_o_10'], name='hp_idx_o_10'))\n",
    "for band in bands:\n",
    "    specific_bands = [f for f in filters if f.split('_')[1] == band.lower()]\n",
    "    print(specific_bands)\n",
    "    for specific_band in specific_bands:\n",
    "        if 'ferr_ap_{}_mean'.format(specific_band) not in depth_table.colnames:\n",
    "            specific_bands.remove(specific_band)\n",
    "    print(specific_bands)\n",
    "    lowest_depths = np.nanmin([depth_table[column] for column in \n",
    "                               ['ferr_ap_{}_mean'.format(s) for s in specific_bands]]\n",
    "                              , axis=0)\n",
    "    \n",
    "    coverage.add_column(Column(data=lowest_depths, name='ferr_ap_{}_mean_min'.format(band)))"
   ]
  },
  {
   "cell_type": "code",
   "execution_count": null,
   "metadata": {},
   "outputs": [],
   "source": [
    "coverage"
   ]
  },
  {
   "cell_type": "code",
   "execution_count": null,
   "metadata": {},
   "outputs": [],
   "source": [
    "#for m, band in enumerate(bands):\n",
    "#    field_coverages.add_column(Column(data=np.full(len(field_coverages), np.nan), name='ferr_ap_{}_mean_median'.format(band)))\n",
    "\n",
    "fields_table = Table()\n",
    "for n, field in enumerate(fields['fields']):\n",
    "    field_moc = MOC(filename=field['region'].replace('dmu_products/', '../../../'))\n",
    "    field_cells= Table()\n",
    "    field_cells.add_column(Column(data=list(field_moc.flattened(order=10)), name='hp_idx_o_10'))\n",
    "    field_cells.add_column(Column(data=np.full(len(field_cells), field['name'] ), name='field'))\n",
    "    fields_table = vstack([fields_table, field_cells])\n",
    "                           \n"
   ]
  },
  {
   "cell_type": "code",
   "execution_count": null,
   "metadata": {},
   "outputs": [],
   "source": [
    "coverage = join(coverage, fields_table, join_type='left', keys='hp_idx_o_10')"
   ]
  },
  {
   "cell_type": "code",
   "execution_count": null,
   "metadata": {},
   "outputs": [],
   "source": [
    "coverage.write('./data/coverage_band_overview.fits', overwrite=True)"
   ]
  },
  {
   "cell_type": "code",
   "execution_count": null,
   "metadata": {},
   "outputs": [],
   "source": [
    "coverage = Table.read('./data/coverage_band_overview.fits')"
   ]
  },
  {
   "cell_type": "code",
   "execution_count": null,
   "metadata": {},
   "outputs": [],
   "source": [
    "coverage"
   ]
  },
  {
   "cell_type": "markdown",
   "metadata": {},
   "source": [
    "## Make field summaries"
   ]
  },
  {
   "cell_type": "code",
   "execution_count": null,
   "metadata": {},
   "outputs": [],
   "source": [
    "order10_area = MOC(order=10, cells=[1]).area_sq_deg\n",
    "order10_area"
   ]
  },
  {
   "cell_type": "code",
   "execution_count": null,
   "metadata": {},
   "outputs": [],
   "source": [
    "#Make a list of all bands\n",
    "#this was too slow so tried to run whole query at once\n",
    "field_coverages = Table()\n",
    "field_coverages.add_column(Column(data=[field['name'] for field in fields['fields']], name='field' ))\n",
    "\n",
    "for m, band in enumerate(bands):\n",
    "    field_coverages.add_column(Column(data=np.full(len(field_coverages), np.nan), \n",
    "                                      name='{}_band_area'.format(band)))\n",
    "    field_coverages.add_column(Column(data=np.full(len(field_coverages), np.nan), \n",
    "                                      name='ferr_ap_{}_mean_meadian'.format(band)))\n",
    "\n",
    "\n",
    "for n, field in enumerate(fields['fields']):\n",
    "    in_field = coverage['field'] == field['name']\n",
    "    for m, band in enumerate(bands):\n",
    "        has_band = in_field & ~np.isnan(coverage['ferr_ap_{}_mean_min'.format(band)])\n",
    "        area = np.sum(has_band) * order10_area\n",
    "        \n",
    "        field_coverages['{}_band_area'.format(band)][field_coverages['field'] == field['name']] = area\n",
    "        \n",
    "        if np.sum(has_band) != 0:\n",
    "            depth_median = np.nanmedian(coverage['ferr_ap_{}_mean_min'.format(band)][has_band])\n",
    "            depth_max = np.nanmax(coverage['ferr_ap_{}_mean_min'.format(band)][has_band])\n",
    "        else:\n",
    "            depth_median = np.nan\n",
    "            depth_max = np.nan\n",
    "        \n",
    "        field_coverages['ferr_ap_{}_mean_meadian'.format(band)][field_coverages['field'] == field['name']] = depth_median\n",
    "        \n",
    "        if band == 'i1':\n",
    "            print(\"Field: {}, {} band coverage: {}, median depth = {}, max depth = {}\".format(field['name'],\n",
    "                                                       band,\n",
    "                                                       area,\n",
    "                                                       depth_median,\n",
    "                                                       depth_max))\n",
    "        \n",
    "        \n",
    "            "
   ]
  },
  {
   "cell_type": "code",
   "execution_count": null,
   "metadata": {},
   "outputs": [],
   "source": [
    "field_coverages"
   ]
  },
  {
   "cell_type": "code",
   "execution_count": null,
   "metadata": {},
   "outputs": [],
   "source": [
    "field_coverages['field', 'ferr_ap_i1_mean_meadian'][field_coverages['ferr_ap_i1_mean_meadian'] > 10]"
   ]
  },
  {
   "cell_type": "code",
   "execution_count": null,
   "metadata": {},
   "outputs": [],
   "source": [
    "field_coverages.write('./data/field_coverages_band_overview.fits', overwrite=True)"
   ]
  },
  {
   "cell_type": "code",
   "execution_count": null,
   "metadata": {},
   "outputs": [],
   "source": [
    "field_coverages = Table.read('./data/field_coverages_band_overview.fits')"
   ]
  },
  {
   "cell_type": "code",
   "execution_count": null,
   "metadata": {},
   "outputs": [],
   "source": [
    "table = 'field '\n",
    "for band in bands:\n",
    "    table += '& \\\\multicolumn{2}{c}{' + band + '}'\n",
    "    \n",
    "table += ' \\\\\\\\ \\n'\n",
    "\n",
    "table += '\\\\cline{1-29} \\n'\n",
    "\n",
    "for band in bands:\n",
    "    table += '& a & \\\\sigma '\n",
    "\n",
    "table += '\\\\\\\\ \\n'"
   ]
  },
  {
   "cell_type": "code",
   "execution_count": null,
   "metadata": {},
   "outputs": [],
   "source": [
    "len('AKARI-NEP&&&9.6&1.5&9.6&1.6&9.6&1.5&9.6&3.2&9.6&7.2&&&&&&&&&7.2&1.7&7.2&1.4&&&&\\\\'.split('&'))"
   ]
  },
  {
   "cell_type": "code",
   "execution_count": null,
   "metadata": {},
   "outputs": [],
   "source": [
    "print(table)"
   ]
  },
  {
   "cell_type": "code",
   "execution_count": null,
   "metadata": {},
   "outputs": [],
   "source": [
    "\n",
    "\n",
    "for n, field in enumerate(field_coverages):\n",
    "    latex = ''\n",
    "    for element in field:\n",
    "\n",
    "\n",
    "        if isinstance(element , float):\n",
    "            if np.isnan(element):\n",
    "                element = ''\n",
    "            elif np.isclose(element, 0.0):\n",
    "                element = ''\n",
    "            else:\n",
    "                element = round(element,1)\n",
    "\n",
    "\n",
    "        \n",
    "        latex +=  str(element) + '&' \n",
    "    print(latex[:-1] + '\\\\\\\\')\n",
    "    table += latex[:-1] + '\\\\\\\\ \\n'\n",
    "\n",
    "table += '\\\\hline'"
   ]
  },
  {
   "cell_type": "code",
   "execution_count": null,
   "metadata": {},
   "outputs": [],
   "source": [
    "print(table)"
   ]
  },
  {
   "cell_type": "code",
   "execution_count": null,
   "metadata": {},
   "outputs": [],
   "source": [
    "round(np.nan,2)"
   ]
  },
  {
   "cell_type": "code",
   "execution_count": null,
   "metadata": {},
   "outputs": [],
   "source": [
    "np.sum(np.isnan(field_coverages['ferr_ap_u_mean_meadian']))"
   ]
  },
  {
   "cell_type": "markdown",
   "metadata": {},
   "source": [
    "## Plot general overview of depths"
   ]
  },
  {
   "cell_type": "code",
   "execution_count": null,
   "metadata": {},
   "outputs": [],
   "source": [
    "def depths_sample(band):\n",
    "    mask = ~np.isnan(coverage['ferr_ap_{}_mean_min'.format(band)])\n",
    "    mask &= coverage['ferr_ap_{}_mean_min'.format(band)] > 0.\n",
    "    mask &= coverage['ferr_ap_{}_mean_min'.format(band)] <1.e3\n",
    "    area = (np.sum(mask)/len(coverage)) * 1270.\n",
    "    return np.log10(np.array(coverage['ferr_ap_{}_mean_min'.format(band)][mask]) *5.e-6 ), area\n",
    "    \n",
    "\n",
    "data = [ depths_sample(band)[0] for band in bands ]\n",
    "areas = [ depths_sample(band)[1] for band in bands ]"
   ]
  },
  {
   "cell_type": "code",
   "execution_count": null,
   "metadata": {},
   "outputs": [],
   "source": [
    "len(data)"
   ]
  },
  {
   "cell_type": "code",
   "execution_count": null,
   "metadata": {},
   "outputs": [],
   "source": [
    "\n",
    "\n",
    "# fake data\n",
    "fs = 10  # fontsize\n",
    "#pos = [1, 2, 4, 5, 7, 8]\n",
    "#data = np.array([np.array(coverage['ferr_ap_{}_mean_min'.format(b)]) for b in bands]).T\n",
    "\n",
    "cmap = mpl.cm.viridis\n",
    "norm = mpl.colors.Normalize(vmin=np.min(areas), vmax=np.max(areas))\n",
    "scalmap = mpl.cm.ScalarMappable( cmap=cmap, norm=norm)\n",
    "colors = scalmap.to_rgba(areas)   # The color is the angle\n",
    "colors[:, 3] = 1\n",
    "\n",
    "fig, ax = plt.subplots()\n",
    "\n",
    "def set_axis_style(ax, labels):\n",
    "    ax.get_xaxis().set_tick_params(direction='out')\n",
    "    ax.xaxis.set_ticks_position('bottom')\n",
    "    ax.set_xticks(np.arange(1, len(labels) + 1))\n",
    "    ax.set_xticklabels(labels)\n",
    "    ax.set_xlim(0.25, len(labels) + 0.75)\n",
    "    ax.set_xlabel('band')\n",
    "\n",
    "#ax.violinplot(np.array(coverage['ferr_ap_{}_mean_min'.format('g') ] ) )\n",
    "#ax.set_title('Custom violinplot 1', fontsize=fs)\n",
    "\n",
    "ax.set_ylabel('log10( 5$\\sigma$ Depths  [Jy] )')\n",
    "set_axis_style(ax, ['$' + band + '$' for band in bands])\n",
    "ax.set_ylim(-7, -3)\n",
    "\n",
    "\n",
    "\n",
    "parts = ax.violinplot(data, showmeans=False, showmedians=False,\n",
    "        showextrema=False)\n",
    "\n",
    "for n, part in enumerate(parts['bodies']):\n",
    "    part.set_facecolor(colors[n])\n",
    "    part.set_alpha(1)\n",
    "\n",
    "cax, _ = mpl.colorbar.make_axes(ax)\n",
    "n_ticks = 7\n",
    "values = np.linspace(0,1200, n_ticks)\n",
    "ticks = values/np.max(areas)\n",
    "\n",
    "cbar = mpl.colorbar.ColorbarBase(cax, cmap=cmap, ticks = ticks)\n",
    "cax.set_yticklabels([int(d) for d in values])\n",
    "cbar.set_label('area [square degrees]')\n",
    "\n",
    "plt.rc('font', family='serif', serif='Times')\n",
    "plt.rc('text') #, usetex=True)\n",
    "plt.rc('xtick', labelsize=12)\n",
    "plt.rc('ytick', labelsize=12)\n",
    "plt.rc('axes', labelsize=12)\n",
    "\n",
    "#fig.suptitle(\"Violin Plotting Examples\")\n",
    "#fig.subplots_adjust(hspace=0.4)\n",
    "#plt.ylim(-10,10)\n",
    "column_width_cm = 8.9\n",
    "width_cm = 3.0 * column_width_cm\n",
    "hieght_cm = width_cm / 1.9\n",
    "width_inches = width_cm/2.5\n",
    "hieght_inches = hieght_cm/2.5\n",
    "fig.set_size_inches(width_inches, hieght_inches)\n",
    "\n",
    "plt.savefig('./figs/band_depths_overviews.pdf', bbox_inches='tight')\n",
    "plt.savefig('./figs/band_depths_overviews.png', bbox_inches='tight')"
   ]
  },
  {
   "cell_type": "code",
   "execution_count": null,
   "metadata": {},
   "outputs": [],
   "source": [
    "widths = [np.max(np.histogram(data[n], bins = 100, density = True)[0])*areas[n] for n in np.arange(len(data)) ]\n",
    "widths /= np.max(widths)\n",
    "\n",
    "print(widths)"
   ]
  },
  {
   "cell_type": "code",
   "execution_count": null,
   "metadata": {},
   "outputs": [],
   "source": [
    "# fake data\n",
    "fs = 10  # fontsize\n",
    "#pos = [1, 2, 4, 5, 7, 8]\n",
    "#data = np.array([np.array(coverage['ferr_ap_{}_mean_min'.format(b)]) for b in bands]).T\n",
    "\n",
    "cmap = mpl.cm.viridis\n",
    "norm = mpl.colors.Normalize(vmin=np.min(areas), vmax=np.max(areas))\n",
    "scalmap = mpl.cm.ScalarMappable( cmap=cmap, norm=norm)\n",
    "colors = scalmap.to_rgba(areas)   # The color is the angle\n",
    "colors[:, 3] = 1\n",
    "\n",
    "fig, ax = plt.subplots()\n",
    "\n",
    "def set_axis_style(ax, labels):\n",
    "    ax.get_xaxis().set_tick_params(direction='out')\n",
    "    ax.xaxis.set_ticks_position('bottom')\n",
    "    ax.set_xticks(np.arange(1, len(labels) + 1))\n",
    "    ax.set_xticklabels(labels)\n",
    "    ax.set_xlim(0.25, len(labels) + 0.75)\n",
    "    ax.set_xlabel('band')\n",
    "\n",
    "#ax.violinplot(np.array(coverage['ferr_ap_{}_mean_min'.format('g') ] ) )\n",
    "#ax.set_title('Custom violinplot 1', fontsize=fs)\n",
    "\n",
    "ax.set_ylabel('log10( 5$\\sigma$ Depths  [Jy] )')\n",
    "set_axis_style(ax, ['$' + band + '$' for band in bands])\n",
    "ax.set_ylim(-7, -3)\n",
    "\n",
    "\n",
    "#areas/np.max(areas)\n",
    "parts = ax.violinplot(data, widths=widths, showmeans=False, showmedians=False,\n",
    "        showextrema=False)\n",
    "\n",
    "for n, part in enumerate(parts['bodies']):\n",
    "    part.set_facecolor(colors[n])\n",
    "    part.set_alpha(1)\n",
    "\n",
    "cax, _ = mpl.colorbar.make_axes(ax)\n",
    "n_ticks = 7\n",
    "values = np.linspace(0,1200, n_ticks)\n",
    "ticks = values/np.max(areas)\n",
    "\n",
    "cbar = mpl.colorbar.ColorbarBase(cax, cmap=cmap, ticks = ticks)\n",
    "cax.set_yticklabels([int(d) for d in values])\n",
    "cbar.set_label('Area [square degrees]')\n",
    "\n",
    "plt.rc('font', family='serif', serif='Times')\n",
    "plt.rc('text') #, usetex=True)\n",
    "plt.rc('xtick', labelsize=12)\n",
    "plt.rc('ytick', labelsize=12)\n",
    "plt.rc('axes', labelsize=12)\n",
    "\n",
    "#fig.suptitle(\"Violin Plotting Examples\")\n",
    "#fig.subplots_adjust(hspace=0.4)\n",
    "#plt.ylim(-10,10)\n",
    "column_width_cm = 8.9\n",
    "width_cm = 3.0 * column_width_cm\n",
    "hieght_cm = width_cm / 1.9\n",
    "width_inches = width_cm/2.5\n",
    "hieght_inches = hieght_cm/2.5\n",
    "fig.set_size_inches(width_inches, hieght_inches)\n",
    "\n",
    "plt.savefig('./figs/band_depths_overviews_areaweighted.pdf', bbox_inches='tight')\n",
    "plt.savefig('./figs/band_depths_overviews_areaweighted.png', bbox_inches='tight')"
   ]
  },
  {
   "cell_type": "code",
   "execution_count": null,
   "metadata": {},
   "outputs": [],
   "source": [
    "# fake data\n",
    "fs = 10  # fontsize\n",
    "#pos = [1, 2, 4, 5, 7, 8]\n",
    "#data = np.array([np.array(coverage['ferr_ap_{}_mean_min'.format(b)]) for b in bands]).T\n",
    "\n",
    "cmap = mpl.cm.viridis\n",
    "norm = mpl.colors.Normalize(vmin=np.min(areas), vmax=np.max(areas))\n",
    "scalmap = mpl.cm.ScalarMappable( cmap=cmap, norm=norm)\n",
    "colors = scalmap.to_rgba(areas)   # The color is the angle\n",
    "colors[:, 3] = 1\n",
    "\n",
    "fig, ax = plt.subplots()\n",
    "\n",
    "def set_axis_style(ax, labels):\n",
    "    ax.get_xaxis().set_tick_params(direction='out')\n",
    "    ax.xaxis.set_ticks_position('bottom')\n",
    "    ax.set_xticks(np.arange(1, len(labels) + 1))\n",
    "    ax.set_xticklabels(labels)\n",
    "    ax.set_xlim(0.25, len(labels) + 0.75)\n",
    "    ax.set_xlabel('band')\n",
    "\n",
    "#ax.violinplot(np.array(coverage['ferr_ap_{}_mean_min'.format('g') ] ) )\n",
    "#ax.set_title('Custom violinplot 1', fontsize=fs)\n",
    "\n",
    "ax.set_ylabel('log10( 5$\\sigma$ Depths  [Jy] )')\n",
    "set_axis_style(ax, ['$' + band + '$' for band in bands])\n",
    "ax.set_ylim(-7, -3)\n",
    "\n",
    "\n",
    "\n",
    "parts = ax.violinplot(data, widths=np.log10(areas)/np.log10(np.max(areas)), showmeans=False, showmedians=False,\n",
    "        showextrema=False)\n",
    "\n",
    "for n, part in enumerate(parts['bodies']):\n",
    "    part.set_facecolor(colors[n])\n",
    "    part.set_alpha(1)\n",
    "\n",
    "cax, _ = mpl.colorbar.make_axes(ax)\n",
    "n_ticks = 7\n",
    "values = np.linspace(0,1200, n_ticks)\n",
    "ticks = values/np.max(areas)\n",
    "\n",
    "cbar = mpl.colorbar.ColorbarBase(cax, cmap=cmap, ticks = ticks)\n",
    "cax.set_yticklabels([int(d) for d in values])\n",
    "cbar.set_label('area [square degrees]')\n",
    "\n",
    "plt.rc('font', family='serif', serif='Times')\n",
    "plt.rc('text') #, usetex=True)\n",
    "plt.rc('xtick', labelsize=12)\n",
    "plt.rc('ytick', labelsize=12)\n",
    "plt.rc('axes', labelsize=12)\n",
    "\n",
    "#fig.suptitle(\"Violin Plotting Examples\")\n",
    "#fig.subplots_adjust(hspace=0.4)\n",
    "#plt.ylim(-10,10)\n",
    "column_width_cm = 8.9\n",
    "width_cm = 3.0 * column_width_cm\n",
    "hieght_cm = width_cm / 1.9\n",
    "width_inches = width_cm/2.5\n",
    "hieght_inches = hieght_cm/2.5\n",
    "fig.set_size_inches(width_inches, hieght_inches)\n",
    "\n",
    "plt.savefig('./figs/band_depths_overviews_logareaweighted.pdf', bbox_inches='tight')\n",
    "plt.savefig('./figs/band_depths_overviews_logareaweighted.png', bbox_inches='tight')"
   ]
  },
  {
   "cell_type": "markdown",
   "metadata": {},
   "source": [
    "## Add SED to plot"
   ]
  },
  {
   "cell_type": "code",
   "execution_count": null,
   "metadata": {},
   "outputs": [],
   "source": [
    "#s.add_contribution(\"HELP_SED\", orig_spec['WAVE'], orig_spec['LUMIN'])"
   ]
  },
  {
   "cell_type": "code",
   "execution_count": null,
   "metadata": {},
   "outputs": [],
   "source": [
    "cigale_filternames = {\n",
    "    'u':  'u_prime',\n",
    "    'g':  'MCam_g',\n",
    "    'r':  'MCam_r',\n",
    "    'i':  'MCam_i',\n",
    "    'z':  'MCam_z',\n",
    "    'y':  'WFCAM_Y',\n",
    "    'J':  'WFCAM_J',\n",
    "    'H':  'WFI_H',\n",
    "    'K':  'WFI_K',\n",
    "    'Ks': 'Ks_2mass',\n",
    "    'i1': 'IRAC1',\n",
    "    'i2': 'IRAC2',\n",
    "    'i3': 'IRAC3',\n",
    "    'i4': 'IRAC4'\n",
    "}"
   ]
  },
  {
   "cell_type": "code",
   "execution_count": null,
   "metadata": {},
   "outputs": [],
   "source": [
    "\n",
    "\n",
    "\n",
    "gal1 = './data/HELP_J095946.083p021914.438_best_model.fits'\n",
    "gal2 = './data/HELP_J100130.443p020929.494_best_model.fits'\n",
    "gal3 = './data/HELP_J095809.302p013203.775_best_model.fits'\n",
    "gal4 = './data/HELP_J095822.986p013145.336_best_model.figs'\n",
    "gal5 = './data/HELP_J003412.527-441056.846_best_model.fits'  #z=4\n",
    "gal6 = './data/HELP_J095738.934+021508.530_best_model.fits' #From hedam - high fluxes\n",
    "gal7 = './data/HELP_J095818.598+013057.910_best_model.fits'\n",
    "gal8 = './data/HELP_J095809.488+013225.513_best_model.fits'\n",
    "gal9 = './data/HELP_J100108.952+022730.528_best_model.fits'\n",
    "orig_spec = Table.read(gal9)\n",
    "        \n",
    "s = SED()\n",
    "    # This is wrong because the best SED we get from CIGALE is redshifted (written by Yannick)\n",
    "s.add_contribution(\"HELP_SED\", orig_spec['wavelength'], orig_spec['L_lambda_total'])\n",
    "    \n",
    "#z=1\n",
    "zs = np.arange(1, 5, 1)\n",
    "\n",
    "\n"
   ]
  },
  {
   "cell_type": "raw",
   "metadata": {},
   "source": [
    "gal_fluxes = np.full([len(zs), len(bands)], np.nan)\n",
    "for n, z in enumerate(zs):\n",
    "    print('z = {}:'.format(z))\n",
    "    sed = s.copy()\n",
    "    mod = get_module(\"redshifting\", redshift=z)\n",
    "    mod.process(sed)\n",
    "    for m, band in enumerate(cigale_filternames):\n",
    "        flux = sed.compute_fnu(cigale_filternames[band])\n",
    "        print(\"{} band: {} mJy\".format(band,flux))\n",
    "        gal_fluxes[n, m] = flux"
   ]
  },
  {
   "cell_type": "code",
   "execution_count": null,
   "metadata": {},
   "outputs": [],
   "source": [
    "fig, ax = plt.subplots()\n",
    "for n, z in enumerate(zs):\n",
    "    print('z = {}:'.format(z))\n",
    "    sed = s.copy()\n",
    "    mod = get_module(\"redshifting\", redshift=z)\n",
    "    mod.process(sed)\n",
    "    ax.plot(np.log10(sed.wavelength_grid), np.log10(sed.fnu * 1.e-3), label=str(z))\n",
    "#ax.plot(np.log10(orig_spec['wavelength']), np.log10(orig_spec['Fnu']))\n",
    "\n",
    "plt.legend()\n",
    "ax.set_ylim(-7, 0)\n",
    "#ax.set_xlim(0, 14.75)"
   ]
  },
  {
   "cell_type": "code",
   "execution_count": null,
   "metadata": {},
   "outputs": [],
   "source": [
    "gal_fluxes"
   ]
  },
  {
   "cell_type": "code",
   "execution_count": null,
   "metadata": {},
   "outputs": [],
   "source": [
    "pos = [3561.,     #u  (SDSS)\n",
    "       4866.,     #g  (GPC1)\n",
    "       6215.,     #r  (GPC1)\n",
    "       7545.,     #i  (GPC1)\n",
    "       8680.,     #z  (GPC1)\n",
    "       9633.,     #y  (GPC1)\n",
    "       12510.,    #J  (UKIRT)\n",
    "       16377.,    #H  (UKIRT)\n",
    "       22081.,    #K   (UKIRT)\n",
    "       21496.,    #Ks (WIRCam)\n",
    "       36000.,    #i1\n",
    "       45000.,    #i2 \n",
    "       56000.,    #i3\n",
    "       80000.    #i4\n",
    "      ]   \n",
    "fwhms = [\n",
    "       [3048., 4028.],     #u  (SDSS)\n",
    "       [3943., 5593.],     #g  (GPC1)\n",
    "       [5386., 7036.],     #r  (GPC1)\n",
    "       [6778., 8304.],     #i  (GPC1)\n",
    "       [8028., 9346.],     #z  (GPC1)\n",
    "       [9100., 10838.],     #y  (GPC1)\n",
    "       [11690., 13280],     #J  (UKIRT)\n",
    "       [14920., 17840.],     #H  (UKIRT)\n",
    "       [20290., 23800.],     #K   (UKIRT)\n",
    "       [19578., 23431.],     #Ks (WIRCam)\n",
    "       [31296, 39614 ],     #i1\n",
    "       [39173, 50561],      #i2 \n",
    "       [48983, 65089],     #i3\n",
    "       [62994, 95876]      #i4\n",
    "        ]"
   ]
  },
  {
   "cell_type": "code",
   "execution_count": null,
   "metadata": {},
   "outputs": [],
   "source": [
    "fig, ax = plt.subplots()\n",
    "\n",
    "line_styles = [':', '-.', '--', '-']\n",
    "colours = ['b', 'g', 'r', 'k']\n",
    "for n, z in enumerate(zs):\n",
    "    sed = s.copy()\n",
    "    mod = get_module(\"redshifting\", redshift=z)\n",
    "    mod.process(sed)\n",
    "    ax.plot(sed.wavelength_grid*10, \n",
    "            np.log10(sed.fnu * 1.e-3),\n",
    "            #c='k',\n",
    "            c= colours[n],\n",
    "            #linestyle = line_styles[n],\n",
    "           )\n",
    "    for m, band in enumerate(cigale_filternames):\n",
    "        if m == 0:\n",
    "            lab = 'z = {}'.format(z)\n",
    "        else:\n",
    "            lab=None\n",
    "        ax.plot([fwhms[m][0], fwhms[m][1]], [np.log10(gal_fluxes[n, m]   )-3, \n",
    "                                     np.log10(gal_fluxes[n, m]   )-3], \n",
    "               # c='k',\n",
    "                c= colours[n],\n",
    "               #linestyle = line_styles[n],\n",
    "               label=lab\n",
    "               )\n",
    "\n",
    "\n",
    "plt.legend()\n",
    "plt.xscale('log')\n",
    "ax.set_ylim(-7, -3)\n",
    "ax.set_xlim(3000., 100000)"
   ]
  },
  {
   "cell_type": "code",
   "execution_count": null,
   "metadata": {},
   "outputs": [],
   "source": [
    "# fake data\n",
    "fs = 10  # fontsize\n",
    "# Angstroms     \n",
    "   \n",
    "#data = np.array([np.array(coverage['ferr_ap_{}_mean_min'.format(b)]) for b in bands]).T\n",
    "\n",
    "cmap = mpl.cm.viridis\n",
    "norm = mpl.colors.Normalize(vmin=np.min(areas), vmax=np.max(areas))\n",
    "scalmap = mpl.cm.ScalarMappable( cmap=cmap, norm=norm)\n",
    "colors = scalmap.to_rgba(areas)   # The color is the angle\n",
    "colors[:, 3] = 1\n",
    "\n",
    "fig, ax = plt.subplots()\n",
    "\n",
    "def set_axis_style(ax, labels, positions=False):\n",
    "    ax.get_xaxis().set_tick_params(direction='out')\n",
    "    ax.xaxis.set_ticks_position('bottom')\n",
    "    if not positions:\n",
    "        ax.set_xticks(np.arange(1, len(labels) + 1))\n",
    "        ax.set_xticklabels(labels)\n",
    "        ax.set_xlim(0.25, len(labels) + 0.75)\n",
    "    else:\n",
    "        ax.set_xticks(positions)\n",
    "        ax.set_xticklabels(labels)\n",
    "        ax.set_xlim(3000., 100000)\n",
    "        plt.xscale('log')\n",
    "    \n",
    "    ax.set_xlabel('band')\n",
    "\n",
    "#ax.violinplot(np.array(coverage['ferr_ap_{}_mean_min'.format('g') ] ) )\n",
    "#ax.set_title('Custom violinplot 1', fontsize=fs)\n",
    "\n",
    "ax.set_ylabel('log10( 5$\\sigma$ Depths  [Jy] )')\n",
    "set_axis_style(ax, ['$' + band + '$' for band in bands])\n",
    "ax.set_ylim(-7, -3)\n",
    "\n",
    "\n",
    "#widths\n",
    "log_widths = np.ones(len(pos)) * (pos) * .2 * widths\n",
    "#areas/np.max(areas)\n",
    "parts = ax.violinplot(data, \n",
    "                      #positions=pos, \n",
    "                      widths=widths, \n",
    "                      showmeans=False, \n",
    "                      showmedians=False, #widths=widths,\n",
    "        showextrema=False)\n",
    "\n",
    "for n, part in enumerate(parts['bodies']):\n",
    "    part.set_facecolor(colors[n])\n",
    "    part.set_alpha(1.)\n",
    "\n",
    "cax, _ = mpl.colorbar.make_axes(ax)\n",
    "n_ticks = 7\n",
    "values = np.linspace(0,1200, n_ticks)\n",
    "ticks = values/np.max(areas)\n",
    "\n",
    "cbar = mpl.colorbar.ColorbarBase(cax, cmap=cmap, ticks = ticks)\n",
    "cax.set_yticklabels([int(d) for d in values])\n",
    "cbar.set_label('Area [square degrees]')\n",
    "\n",
    "plt.rc('font', family='serif', serif='Times')\n",
    "plt.rc('text') #, usetex=True)\n",
    "plt.rc('xtick', labelsize=12)\n",
    "plt.rc('ytick', labelsize=12)\n",
    "plt.rc('axes', labelsize=12)\n",
    "\n",
    "#fig.suptitle(\"Violin Plotting Examples\")\n",
    "#fig.subplots_adjust(hspace=0.4)\n",
    "#plt.ylim(-10,10)\n",
    "column_width_cm = 8.9\n",
    "width_cm = 3.0 * column_width_cm\n",
    "hieght_cm = width_cm / 1.9\n",
    "width_inches = width_cm/2.5\n",
    "hieght_inches = hieght_cm/2.5\n",
    "fig.set_size_inches(width_inches, hieght_inches)\n",
    "\n",
    "\n",
    "line_styles = [':', '-.', '--', '-']\n",
    "for n, z in enumerate(zs):\n",
    "    for m, band in enumerate(cigale_filternames):\n",
    "        if m == 0:\n",
    "            lab = 'z = {}'.format(z)\n",
    "        else:\n",
    "            lab=None\n",
    "        ax.plot([m + 0.5, m + 1.5], [np.log10(gal_fluxes[n, m]  *1.e-3 ), \n",
    "                                     np.log10(gal_fluxes[n, m]  *1.e-3 )], \n",
    "                c='k',\n",
    "               linestyle = line_styles[n],\n",
    "               label=lab\n",
    "               )\n",
    "\n",
    "ax.legend(loc=2)\n",
    "\n",
    "plt.savefig('./figs/band_depths_overviews_areaweighted_with_seds.pdf', bbox_inches='tight')\n",
    "plt.savefig('./figs/band_depths_overviews_areaweighted_with_seds.png', bbox_inches='tight')"
   ]
  },
  {
   "cell_type": "code",
   "execution_count": null,
   "metadata": {},
   "outputs": [],
   "source": [
    "# fake data\n",
    "fs = 10  # fontsize\n",
    "# Angstroms     \n",
    "\n",
    "\n",
    "#data = np.array([np.array(coverage['ferr_ap_{}_mean_min'.format(b)]) for b in bands]).T\n",
    "\n",
    "cmap = mpl.cm.viridis\n",
    "norm = mpl.colors.Normalize(vmin=np.min(areas), vmax=np.max(areas))\n",
    "scalmap = mpl.cm.ScalarMappable( cmap=cmap, norm=norm)\n",
    "colors = scalmap.to_rgba(areas)   # The color is the angle\n",
    "colors[:, 3] = 1\n",
    "\n",
    "fig, ax = plt.subplots()\n",
    "\n",
    "ax2 = ax.twiny()\n",
    "\n",
    "#ax2.set_xlim(3000., 100000)\n",
    "#ax2.set_xticks(pos)\n",
    "#ax2.set_xticklabels(['$' + band + '$' for band in bands])\n",
    "#ax2.set_xlabel('band')\n",
    "#ax2.set_xscale('log')\n",
    "ax2.set_xlim(np.log10(3000.), np.log10(100000))\n",
    "ax2.set_xticks(np.log10(pos))\n",
    "ax2.set_xticklabels(['${}$'.format(band).replace('$Ks$', '').replace('K', 'K/Ks') for band in bands])\n",
    "ax2.set_xlabel('band')\n",
    "#ax2.set_xscale('log')\n",
    "\n",
    "line_styles = [':', '-.', '--', '-']\n",
    "colours = ['y', 'b', 'g', 'r', 'k']\n",
    "for n, z in enumerate([0.25, 1, 2, 3, 4]):\n",
    "    sed = s.copy()\n",
    "    mod = get_module(\"redshifting\", redshift=z)\n",
    "    mod.process(sed)\n",
    "    ax.plot(sed.wavelength_grid*10, \n",
    "            np.log10(sed.fnu * 1.e-3),\n",
    "            #c='k',\n",
    "            c= colours[n],\n",
    "            #linestyle = line_styles[n],\n",
    "            label= 'z = {}'.format(z),\n",
    "            alpha=0.5\n",
    "           )\n",
    "    for m, band in enumerate(cigale_filternames):\n",
    "        continue\n",
    "        if m == 0:\n",
    "            lab = 'z = {}'.format(z)\n",
    "        else:\n",
    "            lab=None\n",
    "        ax.plot([fwhms[m][0], fwhms[m][1]], [np.log10(gal_fluxes[n, m]   )-3, \n",
    "                                     np.log10(gal_fluxes[n, m]   )-3], \n",
    "               # c='k',\n",
    "                c= colours[n],\n",
    "               #linestyle = line_styles[n],\n",
    "               label=lab,\n",
    "                alpha=0.7\n",
    "               )\n",
    "\n",
    "        \n",
    "\n",
    "\n",
    "\n",
    "\n",
    "ax.set_ylabel('log10( 5$\\sigma$ Depths  [Jy] )')\n",
    "\n",
    "#ax.set_xticks(pos)\n",
    "#ax.set_xticklabels(['${}$'.format(band.replace('Ks', '').replace('K', 'K/Ks')) for band in bands])\n",
    "ax.set_xlim(3000., 100000)\n",
    "ax.set_xscale('log')    \n",
    "ax.set_xlabel('Wavelength [nm]')\n",
    "ax.set_ylim(-7, -3)\n",
    "ax.legend(loc=2)\n",
    "\n",
    "#widths\n",
    "log_widths = np.ones(len(pos)) * (pos) * .2 * widths\n",
    "#areas/np.max(areas)\n",
    "parts = ax.violinplot(data, \n",
    "                      positions=pos, \n",
    "                      widths=log_widths, \n",
    "                      showmeans=False, \n",
    "                      showmedians=False, #widths=widths,\n",
    "        showextrema=False)\n",
    "\n",
    "for n, part in enumerate(parts['bodies']):\n",
    "    part.set_facecolor(colors[n])\n",
    "    part.set_alpha(.9)\n",
    "\n",
    "cax, _ = mpl.colorbar.make_axes([ax, ax2])\n",
    "n_ticks = 7\n",
    "values = np.linspace(0,1200, n_ticks)\n",
    "ticks = values/np.max(areas)\n",
    "\n",
    "cbar = mpl.colorbar.ColorbarBase(cax, cmap=cmap, ticks = ticks)\n",
    "cax.set_yticklabels([int(d) for d in values])\n",
    "cbar.set_label('Area [square degrees]')\n",
    "\n",
    "\n",
    "\n",
    "\n",
    "\n",
    "\n",
    "\n",
    "\n",
    "\n",
    "plt.rc('font', family='serif', serif='Times')\n",
    "plt.rc('text') #, usetex=True)\n",
    "plt.rc('xtick', labelsize=12)\n",
    "plt.rc('ytick', labelsize=12)\n",
    "plt.rc('axes', labelsize=12)\n",
    "\n",
    "#fig.suptitle(\"Violin Plotting Examples\")\n",
    "#fig.subplots_adjust(hspace=0.4)\n",
    "#plt.ylim(-10,10)\n",
    "column_width_cm = 8.9\n",
    "width_cm = 3.0 * column_width_cm\n",
    "hieght_cm = width_cm / 1.9\n",
    "width_inches = width_cm/2.5\n",
    "hieght_inches = hieght_cm/2.5\n",
    "fig.set_size_inches(width_inches, hieght_inches)\n",
    "plt.savefig('./figs/band_depths_overviews_areaweighted_with_seds_wave.pdf', bbox_inches='tight')\n",
    "plt.savefig('./figs/band_depths_overviews_areaweighted_with_seds_wave.png', bbox_inches='tight')"
   ]
  },
  {
   "cell_type": "code",
   "execution_count": null,
   "metadata": {},
   "outputs": [],
   "source": [
    "# fake data\n",
    "fs = 10  # fontsize\n",
    "# Angstroms     \n",
    "\n",
    "\n",
    "#data = np.array([np.array(coverage['ferr_ap_{}_mean_min'.format(b)]) for b in bands]).T\n",
    "\n",
    "cmap = mpl.cm.viridis\n",
    "norm = mpl.colors.Normalize(vmin=np.min(areas), vmax=np.max(areas))\n",
    "scalmap = mpl.cm.ScalarMappable( cmap=cmap, norm=norm)\n",
    "colors = scalmap.to_rgba(areas)   # The color is the angle\n",
    "colors[:, 3] = 1\n",
    "\n",
    "fig, ax = plt.subplots()\n",
    "\n",
    "ax2 = ax.twiny()\n",
    "\n",
    "#ax2.set_xlim(3000., 100000)\n",
    "#ax2.set_xticks(pos)\n",
    "#ax2.set_xticklabels(['$' + band + '$' for band in bands])\n",
    "#ax2.set_xlabel('band')\n",
    "#ax2.set_xscale('log')\n",
    "ax2.set_xlim(np.log10(3000.), np.log10(100000))\n",
    "ax2.set_xticks(np.log10(pos))\n",
    "ax2.set_xticklabels(['${}$'.format(band).replace('$Ks$', '').replace('K', 'K/Ks') for band in bands])\n",
    "ax2.set_xlabel('band')\n",
    "#ax2.set_xscale('log')\n",
    "\n",
    "\n",
    "line_styles = [':', '-.', '--', '-']\n",
    "colours = ['y', 'b', 'g', 'r', 'k']\n",
    "for n, z in enumerate([0.25, 1, 2, 3, 4]):\n",
    "    sed = s.copy()\n",
    "    mod = get_module(\"redshifting\", redshift=z)\n",
    "    mod.process(sed)\n",
    "    ax.plot(sed.wavelength_grid*10, \n",
    "            np.log10(sed.fnu * 1.e-3),\n",
    "            c='k',\n",
    "            #c= colours[n],\n",
    "            #linestyle = line_styles[n],\n",
    "            label= 'z = {}'.format(z),\n",
    "            linewidth=1.0,\n",
    "            alpha=1.\n",
    "           )\n",
    "    for m, band in enumerate(cigale_filternames):\n",
    "        continue\n",
    "        if m == 0:\n",
    "            lab = 'z = {}'.format(z)\n",
    "        else:\n",
    "            lab=None\n",
    "        ax.plot([fwhms[m][0], fwhms[m][1]], [np.log10(gal_fluxes[n, m]   )-3, \n",
    "                                     np.log10(gal_fluxes[n, m]   )-3], \n",
    "               # c='k',\n",
    "                c= colours[n],\n",
    "               #linestyle = line_styles[n],\n",
    "               label=lab,\n",
    "                alpha=1.0\n",
    "               )\n",
    "\n",
    "        \n",
    "\n",
    "\n",
    "\n",
    "\n",
    "ax.set_ylabel('log10( 5$\\sigma$ Depths  [Jy] )')\n",
    "\n",
    "#ax.set_xticks(pos)\n",
    "#ax.set_xticklabels(['${}$'.format(band.replace('Ks', '').replace('K', 'K/Ks')) for band in bands])\n",
    "ax.set_xlim(3000., 100000)\n",
    "ax.set_xscale('log')    \n",
    "ax.set_xlabel('Wavelength [nm]')\n",
    "ax.set_ylim(-7, -3)\n",
    "#ax.legend(loc=2)\n",
    "\n",
    "\n",
    "#widths\n",
    "log_widths = np.ones(len(pos)) * (pos) * .2 * widths\n",
    "#areas/np.max(areas)\n",
    "parts = ax.violinplot(data, \n",
    "                      positions=pos, \n",
    "                      widths=log_widths, \n",
    "                      showmeans=False, \n",
    "                      showmedians=False, #widths=widths,\n",
    "        showextrema=False)\n",
    "\n",
    "for n, part in enumerate(parts['bodies']):\n",
    "    part.set_facecolor(colors[n])\n",
    "    part.set_alpha(1.0)\n",
    "\n",
    "cax, _ = mpl.colorbar.make_axes([ax, ax2])\n",
    "n_ticks = 7\n",
    "values = np.linspace(0,1200, n_ticks)\n",
    "ticks = values/np.max(areas)\n",
    "\n",
    "cbar = mpl.colorbar.ColorbarBase(cax, cmap=cmap, ticks = ticks)\n",
    "cax.set_yticklabels([int(d) for d in values])\n",
    "cbar.set_label('Area [square degrees]')\n",
    "\n",
    "\n",
    "\n",
    "plt.figtext(0.49, 0.83, 'z = 0.25')\n",
    "plt.figtext(0.71, 0.645, 'z = 1')\n",
    "plt.figtext(0.71, 0.51, 'z = 2')\n",
    "plt.figtext(0.71, 0.425, 'z = 3')\n",
    "plt.figtext(0.71, 0.365, 'z = 4')\n",
    "\n",
    "\n",
    "\n",
    "\n",
    "\n",
    "plt.rc('font', family='serif', serif='Times')\n",
    "plt.rc('text') #, usetex=True)\n",
    "plt.rc('xtick', labelsize=12)\n",
    "plt.rc('ytick', labelsize=12)\n",
    "plt.rc('axes', labelsize=12)\n",
    "\n",
    "#fig.suptitle(\"Violin Plotting Examples\")\n",
    "#fig.subplots_adjust(hspace=0.4)\n",
    "#plt.ylim(-10,10)\n",
    "column_width_cm = 8.9\n",
    "width_cm = 3.0 * column_width_cm\n",
    "hieght_cm = width_cm / 1.9\n",
    "width_inches = width_cm/2.5\n",
    "hieght_inches = hieght_cm/2.5\n",
    "fig.set_size_inches(width_inches, hieght_inches)\n",
    "plt.savefig('./figs/band_depths_overviews_areaweighted_with_black_seds_wave.pdf', bbox_inches='tight')\n",
    "plt.savefig('./figs/band_depths_overviews_areaweighted_with_black_seds_wave.png', bbox_inches='tight')"
   ]
  },
  {
   "cell_type": "code",
   "execution_count": null,
   "metadata": {},
   "outputs": [],
   "source": [
    "# fake data\n",
    "fs = 10  # fontsize\n",
    "# Angstroms     \n",
    "\n",
    "\n",
    "#data = np.array([np.array(coverage['ferr_ap_{}_mean_min'.format(b)]) for b in bands]).T\n",
    "\n",
    "cmap = mpl.cm.viridis\n",
    "norm = mpl.colors.Normalize(vmin=np.min(areas), vmax=np.max(areas))\n",
    "scalmap = mpl.cm.ScalarMappable( cmap=cmap, norm=norm)\n",
    "colors = scalmap.to_rgba(areas)   # The color is the angle\n",
    "colors[:, 3] = 1\n",
    "\n",
    "fig, ax = plt.subplots()\n",
    "\n",
    "ax2 = ax.twiny()\n",
    "\n",
    "#ax2.set_xlim(3000., 100000)\n",
    "#ax2.set_xticks(pos)\n",
    "#ax2.set_xticklabels(['$' + band + '$' for band in bands])\n",
    "#ax2.set_xlabel('band')\n",
    "#ax2.set_xscale('log')\n",
    "ax2.set_xlim(np.log10(300.), np.log10(10000))\n",
    "ax2.set_xticks(np.log10(np.array(pos)/10))\n",
    "ax2.set_xticklabels(['${}$'.format(band).replace('$Ks$', '').replace('K', 'K/Ks') for band in bands])\n",
    "ax2.set_xlabel('band')\n",
    "#ax2.set_xscale('log')\n",
    "\n",
    "\n",
    "line_styles = [':', '-.', '--', '-']\n",
    "colours = ['y', 'b', 'g', 'r', 'k']\n",
    "for n, z in enumerate([0.25, 1, 2, 3, 4]):\n",
    "    sed = s.copy()\n",
    "    mod = get_module(\"redshifting\", redshift=z)\n",
    "    mod.process(sed)\n",
    "    ax.plot(sed.wavelength_grid, #*10 factor ten turns angstrom to nm fix unit error\n",
    "            #np.log10(sed.fnu * 1.e-3), #This is for flux in Jy\n",
    "            flux_to_mag(sed.fnu * 1.e-3)[0], #This is for flux in mag\n",
    "            c='k',\n",
    "            #c= colours[n],\n",
    "            #linestyle = line_styles[n],\n",
    "            label= 'z = {}'.format(z),\n",
    "            linewidth=1.0,\n",
    "            alpha=1.\n",
    "           )\n",
    "    for m, band in enumerate(cigale_filternames):\n",
    "        continue\n",
    "        if m == 0:\n",
    "            lab = 'z = {}'.format(z)\n",
    "        else:\n",
    "            lab=None\n",
    "        ax.plot([fwhms[m][0], fwhms[m][1]], [np.log10(gal_fluxes[n, m]   )-3, \n",
    "                                     np.log10(gal_fluxes[n, m]   )-3], \n",
    "               # c='k',\n",
    "                c= colours[n],\n",
    "               #linestyle = line_styles[n],\n",
    "               label=lab,\n",
    "                alpha=1.0\n",
    "               )\n",
    "\n",
    "        \n",
    "\n",
    "\n",
    "\n",
    "\n",
    "ax.set_ylabel('5$\\sigma$ depth [mag]')\n",
    "\n",
    "#ax.set_xticks(pos)\n",
    "#ax.set_xticklabels(['${}$'.format(band.replace('Ks', '').replace('K', 'K/Ks')) for band in bands])\n",
    "ax.set_xlim(300., 10000)\n",
    "ax.set_xscale('log')    \n",
    "ax.set_xlabel('Wavelength [nm]')\n",
    "ax.set_ylim(27, 16)\n",
    "#ax.legend(loc=2)\n",
    "\n",
    "\n",
    "#widths\n",
    "log_widths = np.ones(len(pos)) * (pos) * .2 * widths\n",
    "#areas/np.max(areas)\n",
    "parts = ax.violinplot([flux_to_mag(10**d)[0] for d in data], #flux_to_mag assumes Jy\n",
    "                      positions=np.array(pos)/10, #fix unit error \n",
    "                      widths=log_widths/10, \n",
    "                      showmeans=False, \n",
    "                      showmedians=False, #widths=widths,\n",
    "        showextrema=False)\n",
    "\n",
    "for n, part in enumerate(parts['bodies']):\n",
    "    part.set_facecolor(colors[n])\n",
    "    part.set_alpha(1.0)\n",
    "\n",
    "cax, _ = mpl.colorbar.make_axes([ax, ax2])\n",
    "n_ticks = 7\n",
    "values = np.linspace(0,1200, n_ticks)\n",
    "ticks = values/np.max(areas)\n",
    "\n",
    "cbar = mpl.colorbar.ColorbarBase(cax, cmap=cmap, ticks = ticks)\n",
    "cax.set_yticklabels([int(d) for d in values])\n",
    "cbar.set_label('Area [deg.$^2$]')\n",
    "\n",
    "\n",
    "\n",
    "plt.figtext(0.49, 0.81, 'z = 0.25')\n",
    "plt.figtext(0.70, 0.645, 'z = 1')\n",
    "plt.figtext(0.70, 0.52, 'z = 2')\n",
    "plt.figtext(0.70, 0.435, 'z = 3')\n",
    "plt.figtext(0.70, 0.385, 'z = 4')\n",
    "\n",
    "\n",
    "\n",
    "\n",
    "\n",
    "plt.rc('font', family='serif', serif='Times')\n",
    "plt.rc('text') #, usetex=True)\n",
    "plt.rc('xtick', labelsize=12)\n",
    "plt.rc('ytick', labelsize=12)\n",
    "plt.rc('axes', labelsize=12)\n",
    "\n",
    "#fig.suptitle(\"Violin Plotting Examples\")\n",
    "#fig.subplots_adjust(hspace=0.4)\n",
    "#plt.ylim(-10,10)\n",
    "column_width_cm = 8.9\n",
    "width_cm = 3.0 * column_width_cm\n",
    "hieght_cm = width_cm / 1.9\n",
    "width_inches = width_cm/2.5\n",
    "hieght_inches = hieght_cm/2.5\n",
    "fig.set_size_inches(width_inches, hieght_inches)\n",
    "plt.savefig('./figs/band_depths_overviews_areaweighted_with_black_seds_wave_mag.pdf', bbox_inches='tight')\n",
    "plt.savefig('./figs/band_depths_overviews_areaweighted_with_black_seds_wave_mag.png', bbox_inches='tight')"
   ]
  },
  {
   "cell_type": "code",
   "execution_count": null,
   "metadata": {},
   "outputs": [],
   "source": [
    "['${}$'.format(band).replace('$Ks$', '').replace('K', 'K/Ks') for band in bands]"
   ]
  },
  {
   "cell_type": "code",
   "execution_count": null,
   "metadata": {},
   "outputs": [],
   "source": [
    "data[0].shape"
   ]
  },
  {
   "cell_type": "code",
   "execution_count": null,
   "metadata": {},
   "outputs": [],
   "source": [
    "\n",
    "\n",
    "fig, ax = plt.subplots()\n",
    "#cmap = mpl.cm.get_cmap('viridis', 256)\n",
    "#norm = mpl.colors.Normalize(vmin=np.min(areas), vmax=np.min(areas))\n",
    "\n",
    "cmap = mpl.cm.viridis\n",
    "norm = mpl.colors.Normalize(vmin=np.min(areas), vmax=np.max(areas))\n",
    "scalmap = mpl.cm.ScalarMappable( cmap=cmap, norm=norm)\n",
    "colors = scalmap.to_rgba(areas)   # The color is the angle\n",
    "colors[:, 3] = 1\n",
    "\n",
    "#cb = mpl.colorbar.ColorbarBase(ax, cmap=cmap,  norm=norm)\n",
    "\n",
    "#cmap = mpl.colors.ListedColormap('viridis')\n",
    "#colors = cmap(np.array(areas))\n",
    "\n",
    "\n",
    "im = plt.scatter(np.arange(len(areas)), areas, c=colors)\n",
    "\n",
    "\n",
    "cax, _ = mpl.colorbar.make_axes(ax)\n",
    "cbar = mpl.colorbar.ColorbarBase(cax, cmap=cmap)\n",
    "cbar.set_label('area [square degrees]')\n",
    "#cax.set_yticklabels(['$-\\pi$', '0', '$\\pi$'])\n",
    "#cb = mpl.colorbar.ColorbarBase(ax, cmap=cmap,  norm=norm)\n",
    "# Optionally add a colorbar\n",
    "#cax, _ = mpl.colorbar.make_axes(ax)\n",
    "#cbar = mpl.colorbar.ColorbarBase(cax, cmap=cmap)\n",
    "\n"
   ]
  },
  {
   "cell_type": "code",
   "execution_count": null,
   "metadata": {},
   "outputs": [],
   "source": [
    "colors"
   ]
  },
  {
   "cell_type": "code",
   "execution_count": null,
   "metadata": {},
   "outputs": [],
   "source": [
    "cmap = mpl.cm.hot\n",
    "norm = mpl.colors.Normalize(vmin=np.min(areas), vmax=np.max(areas))\n",
    "scalmap = mpl.cm.ScalarMappable( cmap=cmap, norm=norm)\n",
    "colors = scalmap.to_rgba(areas)  # The color is the angle\n",
    "#colors[:, 3] = 0.5\n",
    "print(scalmap.to_rgba(500),\n",
    "     scalmap.to_rgba(1000),\n",
    "     scalmap.to_rgba(100))\n",
    "colors"
   ]
  },
  {
   "cell_type": "code",
   "execution_count": null,
   "metadata": {},
   "outputs": [],
   "source": [
    "mask = ~np.isnan(coverage['ferr_ap_{}_mean_min'.format('i1')])\n",
    "mask |= coverage['ferr_ap_{}_mean_min'.format('i1')] > 0.\n",
    "mask |= coverage['ferr_ap_{}_mean_min'.format('i1')] <1.e3\n",
    "plt.hist(np.log10(np.array(coverage['ferr_ap_{}_mean_min'.format('i1')][mask ]) *1.e-6), bins=50)"
   ]
  },
  {
   "cell_type": "code",
   "execution_count": null,
   "metadata": {},
   "outputs": [],
   "source": [
    "areas"
   ]
  },
  {
   "cell_type": "code",
   "execution_count": null,
   "metadata": {},
   "outputs": [],
   "source": [
    "np.sum(np.log10(coverage['ferr_ap_{}_mean_min'.format('i1')] )  >3)"
   ]
  },
  {
   "cell_type": "code",
   "execution_count": null,
   "metadata": {},
   "outputs": [],
   "source": [
    "np.sum(coverage['ferr_ap_{}_mean_min'.format('i1')]  >10.)"
   ]
  },
  {
   "cell_type": "markdown",
   "metadata": {},
   "source": [
    "## All field comparison"
   ]
  },
  {
   "cell_type": "code",
   "execution_count": null,
   "metadata": {},
   "outputs": [],
   "source": [
    "def depths_sample_field(band, field):\n",
    "    \n",
    "    mask = ~np.isnan(coverage['ferr_ap_{}_mean_min'.format(band)])\n",
    "    mask &= coverage['ferr_ap_{}_mean_min'.format(band)] > 0.\n",
    "    mask &= coverage['ferr_ap_{}_mean_min'.format(band)] <1.e3\n",
    "    mask &= coverage['field'] == field\n",
    "    area = (np.sum(mask)/len(coverage[coverage['field'] == field])) #* 1270. #Return fractional areas\n",
    "    \n",
    "    pixel_depths = np.log10(np.array(coverage['ferr_ap_{}_mean_min'.format(band)][mask]) *5.e-6 )\n",
    "    if np.sum(mask)== 0:\n",
    "        pixel_depths = np.full(100, -9.)\n",
    "    return pixel_depths, area\n",
    "    \n",
    "f = 'ELAIS-N1'\n",
    "data_field = [ depths_sample_field(band, f)[0] for band in bands ]\n",
    "areas_field = [ depths_sample_field(band, f)[1] for band in bands ]"
   ]
  },
  {
   "cell_type": "code",
   "execution_count": null,
   "metadata": {},
   "outputs": [],
   "source": [
    "areas_field"
   ]
  },
  {
   "cell_type": "code",
   "execution_count": null,
   "metadata": {},
   "outputs": [],
   "source": [
    "dim = [4,6]\n",
    "fig, axes = plt.subplots(dim[1], dim[0], sharex=True, sharey=True)\n",
    "plt.rcParams.update({'font.size': 12})\n",
    "cmap = mpl.cm.viridis\n",
    "norm = mpl.colors.Normalize(vmin=0, vmax=1)\n",
    "scalmap = mpl.cm.ScalarMappable( cmap=cmap, norm=norm)\n",
    "\n",
    "for n, f in enumerate(np.unique(coverage['field'])):\n",
    "        \n",
    "    x, y = np.floor_divide(n, dim[0]), np.remainder(n, dim[0])\n",
    "    \n",
    "    \n",
    "    #axes[x,y].scatter( np.arange(20), np.arange(20))\n",
    "    #axes[x,y].legend()\n",
    "    \n",
    "    \n",
    "    #####MAKE FIELD DATA#####\n",
    "    data_field = [ depths_sample_field(band, f)[0] for band in bands ]\n",
    "    areas_field = [ depths_sample_field(band, f)[1] for band in bands ]\n",
    "    data_field_mag = [flux_to_mag(10**d)[0] for d in data_field]\n",
    "    \n",
    "    \n",
    "    colors = scalmap.to_rgba(areas_field)   # The color is the angle\n",
    "    colors[:, 3] = 1\n",
    "\n",
    "   \n",
    "\n",
    "    def set_axis_style(ax, labels):\n",
    "        axes[x,y].get_xaxis().set_tick_params(direction='out')\n",
    "        axes[x,y].xaxis.set_ticks_position('bottom')\n",
    "        axes[x,y].tick_params(axis='x', labelsize=8)\n",
    "        axes[x,y].set_xticks(np.arange(1, len(labels) + 1))\n",
    "        axes[x,y].set_xticklabels(labels)\n",
    "        axes[x,y].set_xlim(0.25, len(labels) + 0.75)\n",
    "        #axes[x,y].set_xlabel('band')\n",
    "        #axes[x,y].set_ylabel('5$\\sigma$ depth [mag]')\n",
    "    #ax.violinplot(np.array(coverage['ferr_ap_{}_mean_min'.format('g') ] ) )\n",
    "    #ax.set_title('Custom violinplot 1', fontsize=fs)\n",
    "\n",
    "    #axes[x,y].set_ylabel('log10( 5$\\sigma$ Depths  [Jy] )')\n",
    "    set_axis_style(axes[x,y], ['$' + band + '$' for band in bands])\n",
    "    axes[x,y].set_ylim(28, 17)\n",
    "\n",
    "\n",
    "\n",
    "    parts = axes[x,y].violinplot(data_field_mag, widths=0.75, showmeans=False, showmedians=False,\n",
    "            showextrema=False)\n",
    "    \n",
    "    \n",
    "    #This is just to add the field name\n",
    "    axes[x,y].scatter([-99],[-99], \n",
    "                      label=f.replace('SGP', 'HATLAS-SGP').replace('NGP', 'HATLAS-NGP'), \n",
    "                      c='w', s=0.0001)\n",
    "    axes[x,y].legend(frameon=False, loc=4)\n",
    "\n",
    "    for n, part in enumerate(parts['bodies']):\n",
    "        part.set_facecolor(colors[n])\n",
    "        part.set_alpha(1)\n",
    "\n",
    "#cax, _ = mpl.colorbar.make_axes(axes[dim[1]-1,dim[0]-1], panchor=(-8.8, 10.6)) #5 3 depend on 4 x 6\n",
    "#This bit moves the color bar\n",
    "cax = inset_axes(axes[dim[1]-1,dim[0]-1],\n",
    "                   width=\"5%\",  # width = 5% of parent_bbox width\n",
    "                   height=\"85%\",  # height : 50%\n",
    "                   loc=3,\n",
    "                   bbox_to_anchor=(0.05, 0.08, 1, 1),\n",
    "                   bbox_transform=axes[dim[1]-1,dim[0]-1].transAxes,\n",
    "                   borderpad=0,\n",
    "                   )\n",
    "\n",
    "ticks = [0, 0.5, 1]\n",
    "cbar = mpl.colorbar.ColorbarBase(cax, cmap=cmap, ticks = ticks)\n",
    "cax.set_yticklabels(ticks)\n",
    "cbar.set_label('coverage')\n",
    "    \n",
    "axes[dim[1]-1,dim[0]-1].tick_params(axis='x', labelsize=8)\n",
    "#axes[dim[1]-1,dim[0]-1].set_xlabel('band')\n",
    "    \n",
    "fig.text(0.5, 0.07, 'Bands', ha='center')\n",
    "fig.text(0.04, 0.5, '5$\\sigma$ depth [mag]', va='center', rotation='vertical')\n",
    "\n",
    "fig.set_size_inches(10, 12)\n",
    "fig.subplots_adjust(hspace=0, wspace=0)\n",
    "\n",
    "plt.rc('axes', labelsize=12)\n",
    "plt.savefig('./figs/fields_depths_comparison_grid.pdf', bbox_inches='tight')\n",
    "plt.savefig('./figs/fields_depths_comparison_grid.png', bbox_inches='tight')"
   ]
  },
  {
   "cell_type": "markdown",
   "metadata": {},
   "source": [
    "## Summarise the filters"
   ]
  },
  {
   "cell_type": "code",
   "execution_count": null,
   "metadata": {},
   "outputs": [],
   "source": [
    "for band in bands:\n",
    "    specific_bands = [f for f in filters if f.split('_')[1] == band.lower()]\n",
    "    print(specific_bands)\n",
    "    for specific_band in specific_bands:\n",
    "        if 'ferr_ap_{}_mean'.format(specific_band) not in coverage.colnames:\n",
    "            specific_bands.remove(specific_band)\n",
    "    #print(specific_bands)"
   ]
  },
  {
   "cell_type": "code",
   "execution_count": null,
   "metadata": {},
   "outputs": [],
   "source": [
    "filter_info = Table.read(herschelhelp_python_loc + 'documentation/filters.csv')"
   ]
  },
  {
   "cell_type": "code",
   "execution_count": null,
   "metadata": {},
   "outputs": [],
   "source": [
    "has_broad_typical = np.full(len(filter_info), False)\n",
    "for band in bands:\n",
    "    has_broad_typical |= filter_info['filter'] == band\n",
    "    \n",
    "filter_info[has_broad_typical]"
   ]
  },
  {
   "cell_type": "code",
   "execution_count": null,
   "metadata": {},
   "outputs": [],
   "source": [
    "has_optical = np.full(len(filter_info), False)\n",
    "optical_bands = ['u', 'g', 'r', 'i', 'z', 'y']\n",
    "has_near_infrared = np.full(len(filter_info), False)\n",
    "near_infrared_bands = ['J', 'H', 'K', 'Ks']\n",
    "\n",
    "for band in bands:\n",
    "    if band in optical_bands:\n",
    "        has_optical |= filter_info['filter'] == band\n",
    "    if band in near_infrared_bands:\n",
    "        has_near_infrared |= filter_info['filter'] == band"
   ]
  },
  {
   "cell_type": "code",
   "execution_count": null,
   "metadata": {},
   "outputs": [],
   "source": [
    "def get_bands(camera):\n",
    "    band_list = []\n",
    "    for b in filter_info['filter'][filter_info['camera'] == camera]:\n",
    "        #print(b)\n",
    "        band_list.append( b)\n",
    "    band_list_ordered_string = ''\n",
    "    for band in bands:\n",
    "        if band in band_list:\n",
    "            band_list_ordered_string += band\n",
    "    \n",
    "    return '$' + band_list_ordered_string + '$'\n",
    "\n",
    "\n",
    "\n",
    "print(get_bands('HyperSuprimeCam'))"
   ]
  },
  {
   "cell_type": "code",
   "execution_count": null,
   "metadata": {},
   "outputs": [],
   "source": [
    "\n",
    "\n",
    "optical_sentence = ''\n",
    "for camera in np.unique(filter_info['camera'][has_optical]):\n",
    "    if camera == 'Standard camera response (camera unknown)':\n",
    "        continue\n",
    "    row = filter_info[filter_info['camera'] == camera][0] \n",
    "    optical_sentence += 'From {} on {} we have the optical bands {}. '.format(row['camera'].replace('The', 'the'), \n",
    "                                                             row['telescope'].replace('The', 'the'),\n",
    "                                                             get_bands(camera))\n",
    "    \n",
    "print(optical_sentence)"
   ]
  },
  {
   "cell_type": "code",
   "execution_count": null,
   "metadata": {},
   "outputs": [],
   "source": [
    "near_infrared_sentence = ''\n",
    "for camera in np.unique(filter_info['camera'][has_near_infrared]):\n",
    "    if camera == 'Standard camera response (camera unknown)':\n",
    "        continue\n",
    "    row = filter_info[filter_info['camera'] == camera][0] \n",
    "    near_infrared_sentence += 'From {} on {} we have the optical bands {}. '.format(row['camera'].replace('The', 'the'), \n",
    "                                                             row['telescope'].replace('The', 'the'),\n",
    "                                                             get_bands(camera))\n",
    "    \n",
    "print(near_infrared_sentence)"
   ]
  },
  {
   "cell_type": "markdown",
   "metadata": {},
   "source": [
    "## Count the number of flagged objects\n",
    "\n",
    "For each band lets count the number of objects that have a flag"
   ]
  },
  {
   "cell_type": "raw",
   "metadata": {},
   "source": [
    "\n",
    "# Import the module\n",
    "\n",
    "# Setting up the service object \n",
    "service = vo.dal.TAPService(\"https://herschel-vos.phys.sussex.ac.uk/__system__/tap/run/tap\")\n",
    "# Downloading the data\n",
    "query = \"SELECT COUNT(*) as n, flag_merged FROM herschelhelp.main GROUP BY flag_merged \" \n",
    "    \n",
    "\n",
    "\n",
    "#Then we execute the query\n",
    "#resultset = service.run_async(irac_i1_query)\n",
    "job = service.submit_job(query)\n",
    "job.run()\n",
    "job_url = job.url\n",
    "job_result = vo.dal.tap.AsyncTAPJob(job_url)\n",
    "start_time = time.time()\n",
    "wait = 10\n",
    "while job.phase == 'EXECUTING':\n",
    "    print('Job still running after {} seconds.'.format(round(time.time() - start_time)))\n",
    "    time.sleep(wait) #wait ten seconds and try again\n",
    "    wait *= 2\n",
    "    \n",
    "print(job.phase)\n",
    "table = job_result.fetch_result() "
   ]
  },
  {
   "cell_type": "code",
   "execution_count": null,
   "metadata": {},
   "outputs": [],
   "source": []
  },
  {
   "cell_type": "code",
   "execution_count": null,
   "metadata": {},
   "outputs": [],
   "source": []
  },
  {
   "cell_type": "code",
   "execution_count": null,
   "metadata": {},
   "outputs": [],
   "source": []
  },
  {
   "cell_type": "code",
   "execution_count": null,
   "metadata": {},
   "outputs": [],
   "source": []
  },
  {
   "cell_type": "code",
   "execution_count": null,
   "metadata": {},
   "outputs": [],
   "source": []
  },
  {
   "cell_type": "code",
   "execution_count": null,
   "metadata": {},
   "outputs": [],
   "source": []
  }
 ],
 "metadata": {
  "anaconda-cloud": {},
  "kernelspec": {
   "display_name": "Python (herschelhelp_internal)",
   "language": "python",
   "name": "helpint"
  },
  "language_info": {
   "codemirror_mode": {
    "name": "ipython",
    "version": 3
   },
   "file_extension": ".py",
   "mimetype": "text/x-python",
   "name": "python",
   "nbconvert_exporter": "python",
   "pygments_lexer": "ipython3",
   "version": "3.6.7"
  }
 },
 "nbformat": 4,
 "nbformat_minor": 1
}
