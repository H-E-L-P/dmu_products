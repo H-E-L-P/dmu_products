{
 "cells": [
  {
   "cell_type": "markdown",
   "metadata": {},
   "source": [
    "# 4 Summarise HELP numbers\n",
    "\n",
    "Here we will make the Latex tables to give rough overview of the HELP data"
   ]
  },
  {
   "cell_type": "code",
   "execution_count": 1,
   "metadata": {},
   "outputs": [],
   "source": [
    "from astropy.table import Table\n",
    "import numpy as np"
   ]
  },
  {
   "cell_type": "code",
   "execution_count": 2,
   "metadata": {},
   "outputs": [],
   "source": [
    "dr1 = Table.read('../../../dmu32/dr1_data_products_overview.csv')"
   ]
  },
  {
   "cell_type": "code",
   "execution_count": 9,
   "metadata": {},
   "outputs": [
    {
     "data": {
      "text/html": [
       "<i>Table length=23</i>\n",
       "<table id=\"table4704188568\" class=\"table-striped table-bordered table-condensed\">\n",
       "<thead><tr><th>field</th><th>objects</th><th>dr1_file</th><th>dr1_file_hash</th><th>area_sq_degrees</th><th>file_size_bytes</th><th>file_size_readable</th><th>xid_objects</th><th>photoz_objects</th><th>cigale_objects</th><th>blind_objects</th></tr></thead>\n",
       "<thead><tr><th>str18</th><th>int64</th><th>str81</th><th>str32</th><th>float64</th><th>int64</th><th>str9</th><th>int64</th><th>int64</th><th>int64</th><th>int64</th></tr></thead>\n",
       "<tr><td>AKARI-NEP</td><td>531746</td><td>dmu_products/dmu32/dmu32_AKARI-NEP/data/AKARI-NEP_20180215.fits</td><td>5b33074e816785e05407952f03e78354</td><td>9.194732358779467</td><td>433440000</td><td>433.44 MB</td><td>31441</td><td>107228</td><td>1239</td><td>9848</td></tr>\n",
       "<tr><td>AKARI-SEP</td><td>844172</td><td>dmu_products/dmu32/dmu32_AKARI-SEP/data/AKARI-SEP_20180221.fits</td><td>56889960f654742f80329e8ebb0053d5</td><td>8.713306475131118</td><td>668652480</td><td>668.65 MB</td><td>108119</td><td>139059</td><td>566</td><td>20169</td></tr>\n",
       "<tr><td>Bootes</td><td>3398098</td><td>dmu_products/dmu32/dmu32_Bootes/data/Bootes_20190701.fits</td><td>6d2f18ef25a42999d805b258c751fde2</td><td>11.42815299095486</td><td>5556003840</td><td>5.56 GB</td><td>495159</td><td>1570512</td><td>38980</td><td>30566</td></tr>\n",
       "<tr><td>CDFS-SWIRE</td><td>2171051</td><td>dmu_products/dmu32/dmu32_CDFS-SWIRE/data/CDFS-SWIRE_20180613.fits</td><td>14a8d5110b0be3a9d54c0fa6045ab727</td><td>12.971246403717068</td><td>6059603520</td><td>6.06 GB</td><td>283406</td><td>136944</td><td>9308</td><td>40880</td></tr>\n",
       "<tr><td>COSMOS</td><td>2599374</td><td>dmu_products/dmu32/dmu32_COSMOS/data/COSMOS_20190402.fits</td><td>c900763f01cd327b84fafa3defe46151</td><td>5.083863478496816</td><td>10954031040</td><td>10.95 GB</td><td>25898</td><td>691502</td><td>15747</td><td>12603</td></tr>\n",
       "<tr><td>EGS</td><td>1412613</td><td>dmu_products/dmu32/dmu32_EGS/data/EGS_20180501.fits</td><td>74ce7e6bd7a982141d7558fad62b38df</td><td>3.566383275122158</td><td>4018965120</td><td>4.02 GB</td><td>223598</td><td>1182503</td><td>4159</td><td>9551</td></tr>\n",
       "<tr><td>ELAIS-N1</td><td>4026292</td><td>dmu_products/dmu32/dmu32_ELAIS-N1/data/ELAIS-N1_20171016.fits</td><td>97ccb7d86c92aa9e9ba0657c9e737276</td><td>13.507484555454763</td><td>6007360320</td><td>6.01 GB</td><td>269611</td><td>2714686</td><td>49985</td><td>34501</td></tr>\n",
       "<tr><td>ELAIS-N2</td><td>1783240</td><td>dmu_products/dmu32/dmu32_ELAIS-N2/data/ELAIS-N2_20180218.fits</td><td>09628a8b89fd5eeea27d6059988eb900</td><td>9.167479903991113</td><td>2321884800</td><td>2.32 GB</td><td>86591</td><td>120723</td><td>6798</td><td>19483</td></tr>\n",
       "<tr><td>ELAIS-S1</td><td>1655564</td><td>dmu_products/dmu32/dmu32_ELAIS-S1/data/ELAIS-S1_20180416.fits</td><td>e1e31bd8ae8b7646c47aaec6a40e2cf4</td><td>9.002940646885508</td><td>2231798400</td><td>2.23 GB</td><td>194276</td><td>1013582</td><td>25393</td><td>22743</td></tr>\n",
       "<tr><td>GAMA-09</td><td>12937982</td><td>dmu_products/dmu32/dmu32_GAMA-09/data/GAMA-09_20180601.fits</td><td>6712784e0dd54abaca5dc46b82a2c7a5</td><td>62.01393417284915</td><td>21839469120</td><td>21.84 GB</td><td>1386659</td><td>8833874</td><td>130293</td><td>112461</td></tr>\n",
       "<tr><td>...</td><td>...</td><td>...</td><td>...</td><td>...</td><td>...</td><td>...</td><td>...</td><td>...</td><td>...</td><td>...</td></tr>\n",
       "<tr><td>HATLAS-SGP</td><td>29790690</td><td>dmu_products/dmu32/dmu32_SGP/data/SGP_20180221.fits</td><td>d16d97a07cca1f4c2552206a2b51dc68</td><td>294.5684540900642</td><td>47039604480</td><td>47.04 GB</td><td>3511594</td><td>17054138</td><td>352804</td><td>497501</td></tr>\n",
       "<tr><td>HDF-N</td><td>130679</td><td>dmu_products/dmu32/dmu32_HDF-N/data/HDF-N_20180427.fits</td><td>eda45995ea7811f618393675056ff003</td><td>0.6717832558166041</td><td>190630080</td><td>190.63 MB</td><td>834</td><td>7435</td><td>0</td><td>0</td></tr>\n",
       "<tr><td>Herschel-Stripe-82</td><td>50196455</td><td>dmu_products/dmu32/dmu32_Herschel-Stripe-82/data/Herschel-Stripe-82_20180307.fits</td><td>2e39482611301daf8a0c1e4cad573842</td><td>363.22747930641884</td><td>133673333760</td><td>133.67 GB</td><td>2976447</td><td>21509448</td><td>250644</td><td>232589</td></tr>\n",
       "<tr><td>Lockman-SWIRE</td><td>4366298</td><td>dmu_products/dmu32/dmu32_Lockman-SWIRE/data/Lockman-SWIRE_20180219.fits</td><td>72c4ab422be2081358fb50ba3cb9a867</td><td>22.413863402949218</td><td>5990670720</td><td>5.99 GB</td><td>242065</td><td>1377139</td><td>46719</td><td>54106</td></tr>\n",
       "<tr><td>SA13</td><td>9799</td><td>dmu_products/dmu32/dmu32_SA13/data/SA13_20180501.fits</td><td>c2e822dab8edfcf4b178e31c245b1f77</td><td>0.27416379328431184</td><td>4011840</td><td>4.01 MB</td><td>812</td><td>2884</td><td>70</td><td>315</td></tr>\n",
       "<tr><td>SPIRE-NEP</td><td>2674</td><td>dmu_products/dmu32/dmu32_SPIRE-NEP/data/SPIRE-NEP_20180220.fits</td><td>e24491b6b9f3db62e7d6e96e4a384ff3</td><td>0.1280660469377391</td><td>1578240</td><td>1.58 MB</td><td>562</td><td>935</td><td>71</td><td>374</td></tr>\n",
       "<tr><td>SSDF</td><td>12661903</td><td>dmu_products/dmu32/dmu32_SSDF/data/SSDF_20180221.fits</td><td>fc789fa2236f6fc3f2a1cce9e8aa8256</td><td>111.11624949343539</td><td>9737064000</td><td>9.74 GB</td><td>4395253</td><td>9250727</td><td>305576</td><td>196895</td></tr>\n",
       "<tr><td>XMM-13hr</td><td>38629</td><td>dmu_products/dmu32/dmu32_XMM-13hr/data/XMM-13hr_20180501.fits</td><td>da7c644f7aeee09034af7040439b32e0</td><td>0.7570240166583633</td><td>15747840</td><td>15.75 MB</td><td>3563</td><td>10773</td><td>670</td><td>1218</td></tr>\n",
       "<tr><td>XMM-LSS</td><td>8705837</td><td>dmu_products/dmu32/dmu32_XMM-LSS/data/XMM-LSS_20190328.fits</td><td>53e3b49a42cc1900ff06aad3763bc475</td><td>21.75457939331374</td><td>29547829440</td><td>29.55 GB</td><td>360500</td><td>6124027</td><td>61888</td><td>50362</td></tr>\n",
       "<tr><td>xFLS</td><td>977148</td><td>dmu_products/dmu32/dmu32_xFLS/data/xFLS_20180501.fits</td><td>983336d6ca349d809ea831cba71a9b1b</td><td>7.44043242140754</td><td>1187294400</td><td>1.19 GB</td><td>52187</td><td>100993</td><td>5944</td><td>19757</td></tr>\n",
       "</table>"
      ],
      "text/plain": [
       "<Table length=23>\n",
       "      field        objects  ... cigale_objects blind_objects\n",
       "      str18         int64   ...     int64          int64    \n",
       "------------------ -------- ... -------------- -------------\n",
       "         AKARI-NEP   531746 ...           1239          9848\n",
       "         AKARI-SEP   844172 ...            566         20169\n",
       "            Bootes  3398098 ...          38980         30566\n",
       "        CDFS-SWIRE  2171051 ...           9308         40880\n",
       "            COSMOS  2599374 ...          15747         12603\n",
       "               EGS  1412613 ...           4159          9551\n",
       "          ELAIS-N1  4026292 ...          49985         34501\n",
       "          ELAIS-N2  1783240 ...           6798         19483\n",
       "          ELAIS-S1  1655564 ...          25393         22743\n",
       "           GAMA-09 12937982 ...         130293        112461\n",
       "               ...      ... ...            ...           ...\n",
       "        HATLAS-SGP 29790690 ...         352804        497501\n",
       "             HDF-N   130679 ...              0             0\n",
       "Herschel-Stripe-82 50196455 ...         250644        232589\n",
       "     Lockman-SWIRE  4366298 ...          46719         54106\n",
       "              SA13     9799 ...             70           315\n",
       "         SPIRE-NEP     2674 ...             71           374\n",
       "              SSDF 12661903 ...         305576        196895\n",
       "          XMM-13hr    38629 ...            670          1218\n",
       "           XMM-LSS  8705837 ...          61888         50362\n",
       "              xFLS   977148 ...           5944         19757"
      ]
     },
     "execution_count": 9,
     "metadata": {},
     "output_type": "execute_result"
    }
   ],
   "source": [
    "dr1"
   ]
  },
  {
   "cell_type": "code",
   "execution_count": 13,
   "metadata": {
    "scrolled": true
   },
   "outputs": [
    {
     "name": "stdout",
     "output_type": "stream",
     "text": [
      "\\hline\n",
      "Field & Objects & area deg.$^2$ & {\\sc XID+} & photo-z & CIGALE & Blind\\\\\n",
      "\\hline\n",
      "AKARI-NEP & 531 746 & 9.2 & 31 441 & 107 228 & 1 239 & 9 848 \\\\\n",
      "AKARI-SEP & 844 172 & 8.7 & 108 119 & 139 059 & 566 & 20 169 \\\\\n",
      "Bootes & 3 398 098 & 11.4 & 495 159 & 1 570 512 & 38 980 & 30 566 \\\\\n",
      "CDFS-SWIRE & 2 171 051 & 13.0 & 283 406 & 136 944 & 9 308 & 40 880 \\\\\n",
      "COSMOS & 2 599 374 & 5.1 & 25 898 & 691 502 & 15 747 & 12 603 \\\\\n",
      "EGS & 1 412 613 & 3.6 & 223 598 & 1 182 503 & 4 159 & 9 551 \\\\\n",
      "ELAIS-N1 & 4 026 292 & 13.5 & 269 611 & 2 714 686 & 49 985 & 34 501 \\\\\n",
      "ELAIS-N2 & 1 783 240 & 9.2 & 86 591 & 120 723 & 6 798 & 19 483 \\\\\n",
      "ELAIS-S1 & 1 655 564 & 9.0 & 194 276 & 1 013 582 & 25 393 & 22 743 \\\\\n",
      "GAMA-09 & 12 937 982 & 62.0 & 1 386 659 & 8 833 874 & 130 293 & 112 461 \\\\\n",
      "GAMA-12 & 12 369 415 & 62.7 & 1 099 477 & 8 569 951 & 108 139 & 112 471 \\\\\n",
      "GAMA-15 & 14 232 880 & 61.7 & 1 236 395 & 10 083 210 & 117 234 & 116 436 \\\\\n",
      "HATLAS-NGP & 6 759 591 & 177.7 & 1 233 547 & 3 166 952 & 185 290 & 344 635 \\\\\n",
      "HATLAS-SGP & 29 790 690 & 294.6 & 3 511 594 & 17 054 138 & 352 804 & 497 501 \\\\\n",
      "HDF-N & 130 679 & 0.67 & 834 & 7 435 & 0 & 0 \\\\\n",
      "Herschel-Stripe-82 & 50 196 455 & 363.2 & 2 976 447 & 21 509 448 & 250 644 & 232 589 \\\\\n",
      "Lockman-SWIRE & 4 366 298 & 22.4 & 242 065 & 1 377 139 & 46 719 & 54 106 \\\\\n",
      "SA13 & 9 799 & 0.27 & 812 & 2 884 & 70 & 315 \\\\\n",
      "SPIRE-NEP & 2 674 & 0.13 & 562 & 935 & 71 & 374 \\\\\n",
      "SSDF & 12 661 903 & 111.1 & 4 395 253 & 9 250 727 & 305 576 & 196 895 \\\\\n",
      "XMM-13hr & 38 629 & 0.76 & 3 563 & 10 773 & 670 & 1 218 \\\\\n",
      "XMM-LSS & 8 705 837 & 21.8 & 360 500 & 6 124 027 & 61 888 & 50 362 \\\\\n",
      "xFLS & 977 148 & 7.4 & 52 187 & 100 993 & 5 944 & 19 757 \\\\\n",
      "\\hline\n",
      "Totals: & 171 602 130 & 1269.1 & 18 217 994 & 93 769 225 & 1 717 517 & 1 939 464 \\\\\n",
      "Percentages &  &  & 10.6\\% & 54.6\\% & 1.0\\% \\\\\n",
      "\\hline\n"
     ]
    }
   ],
   "source": [
    "\n",
    "print(\"\"\"\\\\hline\n",
    "Field & Objects & area deg.$^2$ & {\\\\sc XID+} & photo-z & CIGALE & Blind\\\\\\\\\n",
    "\\\\hline\"\"\")\n",
    "for row in dr1:\n",
    "    print(\n",
    "        \"{field} & {num} & {area} & {xid} & {photoz} & {cigale} & {blind} \\\\\\\\\".format(\n",
    "            field = row['field'],\n",
    "            num = '{:,}'.format(row['objects']).replace(',', ' '),\n",
    "            area = round(row['area_sq_degrees'],1) if row['area_sq_degrees']>1 else round(row['area_sq_degrees'],2),\n",
    "            xid='{:,}'.format(row['xid_objects']).replace(',', ' '),\n",
    "            photoz='{:,}'.format(row['photoz_objects']).replace(',', ' '),\n",
    "            cigale='{:,}'.format(row['cigale_objects']).replace(',', ' '),\n",
    "            blind='{:,}'.format(row['blind_objects']).replace(',', ' '),\n",
    "    ))\n",
    "print(\"\\\\hline\")\n",
    "print(\n",
    "    \"{field} & {num} & {area} & {xid} & {photoz} & {cigale} & {blind} \\\\\\\\\".format(\n",
    "        field = 'Totals:',\n",
    "        num = '{:,}'.format(np.sum(dr1['objects'])).replace(',', ' '),\n",
    "        area = round(np.sum(dr1['area_sq_degrees']),1),\n",
    "        xid='{:,}'.format(np.sum(dr1['xid_objects'])).replace(',', ' '),\n",
    "        photoz='{:,}'.format(np.sum(dr1['photoz_objects'])).replace(',', ' '),\n",
    "        cigale='{:,}'.format(np.sum(dr1['cigale_objects'])).replace(',', ' '),\n",
    "        blind='{:,}'.format(np.sum(dr1['blind_objects'])).replace(',', ' '),\n",
    "    ))\n",
    "print(\n",
    "     \"{field} & {num} & {area} & {xid} & {photoz} & {cigale} \\\\\\\\\".format(\n",
    "        field = 'Percentages',\n",
    "        num = '',\n",
    "        area = '',\n",
    "        xid='{}\\%'.format(round(100*np.sum(dr1['xid_objects'])/np.sum(dr1['objects']),1)),\n",
    "        photoz='{}\\%'.format(round(100*np.sum(dr1['photoz_objects'])/np.sum(dr1['objects']),1)),\n",
    "        cigale='{}\\%'.format(round(100*np.sum(dr1['cigale_objects'])/np.sum(dr1['objects']),1)),\n",
    "    ))\n",
    "print(\"\\\\hline\")"
   ]
  },
  {
   "cell_type": "markdown",
   "metadata": {},
   "source": [
    "## Sankey diagram\n",
    "\n",
    "We want to present the flow numbers of objects between each stage of the pipeline using  Sankey diagram. Example format for web based diagram (http://sankeymatic.com/build/):\n",
    "\n",
    "```\n",
    "Wages [2000] Budget\n",
    "Interest [25] Budget\n",
    "Budget [500] Taxes\n",
    "Budget [450] Housing\n",
    "Budget [310] Food\n",
    "Budget [205] Transportation\n",
    "Budget [400] Health Care\n",
    "Budget [160] Other Necessities\n",
    "```\n"
   ]
  },
  {
   "cell_type": "code",
   "execution_count": 5,
   "metadata": {},
   "outputs": [],
   "source": [
    "final=Table.read('../../../dmu32/dmu32_AllSky/data/HELP_all_sky_A-list_20201111.fits')[\n",
    "    'redshift', 'zspec','f_irac_i1','f_mips_24','f_spire_500','cigale_sfr']"
   ]
  },
  {
   "cell_type": "code",
   "execution_count": 7,
   "metadata": {},
   "outputs": [],
   "source": [
    "master_photoz=np.sum(dr1['photoz_objects'])\n",
    "master_nphotoz=np.sum(dr1['objects'])-np.sum(dr1['photoz_objects'])\n",
    "\n",
    "photoz_mips=np.sum(~np.isnan(final['redshift']) & ~np.isnan(final['f_mips_24']))\n",
    "photoz_nmips=np.sum(dr1['photoz_objects']) - photoz_mips\n",
    "nphotoz_mips=np.sum(np.isnan(final['redshift']) & ~np.isnan(final['f_mips_24']))\n",
    "nphotoz_nmips=(\n",
    "    (np.sum(dr1['objects'])-np.sum(dr1['photoz_objects']))\n",
    "    -(np.sum(np.isnan(final['redshift']) & ~np.isnan(final['f_mips_24'])))\n",
    ")\n",
    "\n",
    "mips_xid=np.sum(~np.isnan(final['f_mips_24']) & ~np.isnan(final['f_spire_500']))\n",
    "#mips_nxid=np.sum(~np.isnan(final['f_mips_24']) & np.isnan(final['f_spire_250']))\n",
    "nmips_xid=np.sum(np.isnan(final['f_mips_24']) & ~np.isnan(final['f_spire_500']))\n",
    "nmips_nxid=(\n",
    "    (np.sum(dr1['objects'])-np.sum(dr1['xid_objects']))\n",
    "    #+(np.sum(np.isnan(final['f_mips_24']) & ~np.isnan(final['f_spire_250'])))\n",
    ")\n",
    "\n",
    "nxid_nphotoz=(\n",
    "   (np.sum(dr1['objects'])-np.sum(dr1['photoz_objects'])   )\n",
    "    -(np.sum(~np.isnan(final['f_spire_500']) & np.isnan(final['redshift'])))\n",
    ")\n",
    "nxid_photoz=(\n",
    "   (np.sum(dr1['photoz_objects'])   )\n",
    "    -(np.sum(~np.isnan(final['f_spire_500']) & ~np.isnan(final['redshift'])))\n",
    ")\n",
    "xid_npnc=np.sum(~np.isnan(final['f_spire_500']) & np.isnan(final['redshift']))\n",
    "xid_pnc=np.sum(~np.isnan(final['f_spire_500']) & ~np.isnan(final['redshift']) & np.isnan(final['cigale_sfr']))\n",
    "xid_pc=np.sum(dr1['cigale_objects'])"
   ]
  },
  {
   "cell_type": "code",
   "execution_count": 8,
   "metadata": {},
   "outputs": [
    {
     "name": "stdout",
     "output_type": "stream",
     "text": [
      "\n",
      "Masterlist [93769225] Photo-z\n",
      "Masterlist [77832905] No photo-z\n",
      "\n",
      "Photo-z [264636] MIPS\n",
      "Photo-z [93504589] No MIPS\n",
      "No photo-z [0] MIPS\n",
      "No photo-z [77832905] No MIPS\n",
      "\n",
      "MIPS [264636] XID+ prior\n",
      "No MIPS [1453464] XID+ prior\n",
      "No MIPS [153384136] no XID+ prior\n",
      "\n",
      "no XID+ prior [77832905] no photo-z \n",
      "no XID+ prior [92051125] photo-z \n",
      "XID+ prior [0] no photo-z no CIGALE\n",
      "XID+ prior [0] photo-z no CIGALE\n",
      "XID+ prior [1717517] photo-z and CIGALE\n",
      "\n"
     ]
    }
   ],
   "source": [
    "print(\"\"\"\n",
    "Masterlist [{master_photoz}] Photo-z\n",
    "Masterlist [{master_nphotoz}] No photo-z\n",
    "\n",
    "Photo-z [{photoz_mips}] MIPS\n",
    "Photo-z [{photoz_nmips}] No MIPS\n",
    "No photo-z [{nphotoz_mips}] MIPS\n",
    "No photo-z [{nphotoz_nmips}] No MIPS\n",
    "\n",
    "MIPS [{mips_xid}] XID+ prior\n",
    "No MIPS [{nmips_xid}] XID+ prior\n",
    "No MIPS [{nmips_nxid}] no XID+ prior\n",
    "\n",
    "no XID+ prior [{nxid_nphotoz}] no photo-z \n",
    "no XID+ prior [{nxid_photoz}] photo-z \n",
    "XID+ prior [{xid_npnc}] no photo-z no CIGALE\n",
    "XID+ prior [{xid_pnc}] photo-z no CIGALE\n",
    "XID+ prior [{xid_pc}] photo-z and CIGALE\n",
    "\"\"\".format(\n",
    "master_photoz=master_photoz,\n",
    "master_nphotoz=master_nphotoz,\n",
    "\n",
    "photoz_mips=photoz_mips,\n",
    "photoz_nmips=photoz_nmips,\n",
    "nphotoz_mips=nphotoz_mips,\n",
    "nphotoz_nmips=nphotoz_nmips,\n",
    "\n",
    "mips_xid=mips_xid,\n",
    "#mips_nxid=mips_nxid,\n",
    "nmips_xid=nmips_xid,\n",
    "nmips_nxid=nmips_nxid,\n",
    "\n",
    "nxid_nphotoz=nxid_nphotoz,\n",
    "nxid_photoz=nxid_photoz,\n",
    "xid_npnc=xid_npnc,\n",
    "xid_pnc=xid_pnc,\n",
    "xid_pc=xid_pc,\n",
    "\n",
    "))"
   ]
  },
  {
   "cell_type": "markdown",
   "metadata": {},
   "source": [
    "```\n",
    "Masterlist [93771513] Photo-z\n",
    "Masterlist [77832905] No photo-z\n",
    "\n",
    "Photo-z [1688059] MIPS\n",
    "Photo-z [92083454] No MIPS\n",
    "No photo-z [275690] MIPS\n",
    "No photo-z [77557215] No MIPS\n",
    "\n",
    "MIPS [1963749] XID+ prior\n",
    "No MIPS [16044350] XID+ prior\n",
    "No MIPS [153594031] no XID+ prior\n",
    "\n",
    "not XID+ prior [77557214] no photo-z \n",
    "not XID+ prior [76039105] photo-z \n",
    "XID+ prior [275691] no photo-z no CIGALE\n",
    "XID+ prior [16014307] photo-z no CIGALE\n",
    "XID+ prior [1717895] photo-z and CIGALE\n",
    "```"
   ]
  }
 ],
 "metadata": {
  "kernelspec": {
   "display_name": "Python (herschelhelp_internal)",
   "language": "python",
   "name": "helpint"
  },
  "language_info": {
   "codemirror_mode": {
    "name": "ipython",
    "version": 3
   },
   "file_extension": ".py",
   "mimetype": "text/x-python",
   "name": "python",
   "nbconvert_exporter": "python",
   "pygments_lexer": "ipython3",
   "version": "3.6.10"
  }
 },
 "nbformat": 4,
 "nbformat_minor": 4
}
