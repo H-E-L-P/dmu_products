{
 "cells": [
  {
   "cell_type": "markdown",
   "metadata": {},
   "source": [
    "# 4 Summarise HELP numbers\n",
    "\n",
    "Here we will make the Latex tables to give rough overview of the HELP data"
   ]
  },
  {
   "cell_type": "code",
   "execution_count": 16,
   "metadata": {},
   "outputs": [],
   "source": [
    "from astropy.table import Table\n",
    "import numpy as np"
   ]
  },
  {
   "cell_type": "code",
   "execution_count": 3,
   "metadata": {},
   "outputs": [],
   "source": [
    "dr1 = Table.read('../../../dmu32/dr1_data_products_overview.csv')"
   ]
  },
  {
   "cell_type": "code",
   "execution_count": 30,
   "metadata": {
    "scrolled": true
   },
   "outputs": [
    {
     "name": "stdout",
     "output_type": "stream",
     "text": [
      "\\hline\n",
      "Field & Objects & area deg.$^2$ & {\\sc XID+} & photo-z & CIGALE \\\\\n",
      "\\hline\n",
      "AKARI-NEP & 531 746 & 9.2 & 31 441 & 107 228 & 1 239 \\\\\n",
      "AKARI-SEP & 844 172 & 8.7 & 108 119 & 139 059 & 566 \\\\\n",
      "Bootes & 3 398 098 & 11.4 & 495 159 & 1 570 512 & 38 980 \\\\\n",
      "CDFS-SWIRE & 2 171 051 & 13.0 & 73 511 & 136 944 & 9 308 \\\\\n",
      "COSMOS & 2 599 374 & 5.1 & 25 898 & 691 502 & 15 747 \\\\\n",
      "EGS & 1 412 613 & 3.6 & 223 598 & 1 182 503 & 4 159 \\\\\n",
      "ELAIS-N1 & 4 026 292 & 13.5 & 269 611 & 2 714 686 & 49 985 \\\\\n",
      "ELAIS-N2 & 1 783 240 & 9.2 & 86 591 & 120 723 & 6 798 \\\\\n",
      "ELAIS-S1 & 1 655 564 & 9.0 & 194 276 & 1 013 582 & 25 393 \\\\\n",
      "GAMA-09 & 12 937 982 & 62.0 & 1 386 659 & 8 833 874 & 130 293 \\\\\n",
      "GAMA-12 & 12 369 415 & 62.7 & 1 099 477 & 8 569 951 & 108 139 \\\\\n",
      "GAMA-15 & 14 232 880 & 61.7 & 1 236 395 & 10 083 210 & 117 234 \\\\\n",
      "HATLAS-NGP & 6 761 879 & 177.7 & 1 235 835 & 3 169 240 & 185 668 \\\\\n",
      "HATLAS-SGP & 29 790 690 & 294.6 & 3 511 594 & 17 054 138 & 352 804 \\\\\n",
      "HDF-N & 130 679 & 0.67 & 834 & 7 435 & 0 \\\\\n",
      "Herschel-Stripe-82 & 50 196 455 & 363.2 & 2 976 447 & 21 509 448 & 250 644 \\\\\n",
      "Lockman-SWIRE & 4 366 298 & 22.4 & 242 065 & 1 377 139 & 46 719 \\\\\n",
      "SA13 & 9 799 & 0.27 & 812 & 2 884 & 70 \\\\\n",
      "SPIRE-NEP & 2 674 & 0.13 & 562 & 935 & 71 \\\\\n",
      "SSDF & 12 661 903 & 111.1 & 4 395 253 & 9 250 727 & 305 576 \\\\\n",
      "XMM-13hr & 38 629 & 0.76 & 3 563 & 10 773 & 670 \\\\\n",
      "XMM-LSS & 8 705 837 & 21.8 & 360 500 & 6 124 027 & 61 888 \\\\\n",
      "xFLS & 977 148 & 7.4 & 52 187 & 100 993 & 5 944 \\\\\n",
      "\\hline\n",
      "Totals: & 171 604 418 & 1269.1 & 18 010 387 & 93 771 513 & 1 717 895 \\\\\n",
      "Percentages &  &  & 10.5\\% & 54.6\\% & 1.0\\% \\\\\n",
      "\\hline\n"
     ]
    }
   ],
   "source": [
    "\n",
    "print(\"\"\"\\\\hline\n",
    "Field & Objects & area deg.$^2$ & {\\\\sc XID+} & photo-z & CIGALE \\\\\\\\\n",
    "\\\\hline\"\"\")\n",
    "for row in dr1:\n",
    "    print(\n",
    "        \"{field} & {num} & {area} & {xid} & {photoz} & {cigale} \\\\\\\\\".format(\n",
    "            field = row['field'],\n",
    "            num = '{:,}'.format(row['objects']).replace(',', ' '),\n",
    "            area = round(row['area_sq_degrees'],1) if row['area_sq_degrees']>1 else round(row['area_sq_degrees'],2),\n",
    "            xid='{:,}'.format(row['xid_objects']).replace(',', ' '),\n",
    "            photoz='{:,}'.format(row['photoz_objects']).replace(',', ' '),\n",
    "            cigale='{:,}'.format(row['cigale_objects']).replace(',', ' '),\n",
    "    ))\n",
    "print(\"\\\\hline\")\n",
    "print(\n",
    "    \"{field} & {num} & {area} & {xid} & {photoz} & {cigale} \\\\\\\\\".format(\n",
    "        field = 'Totals:',\n",
    "        num = '{:,}'.format(np.sum(dr1['objects'])).replace(',', ' '),\n",
    "        area = round(np.sum(dr1['area_sq_degrees']),1),\n",
    "        xid='{:,}'.format(np.sum(dr1['xid_objects'])).replace(',', ' '),\n",
    "        photoz='{:,}'.format(np.sum(dr1['photoz_objects'])).replace(',', ' '),\n",
    "        cigale='{:,}'.format(np.sum(dr1['cigale_objects'])).replace(',', ' '),\n",
    "    ))\n",
    "print(\n",
    "     \"{field} & {num} & {area} & {xid} & {photoz} & {cigale} \\\\\\\\\".format(\n",
    "        field = 'Percentages',\n",
    "        num = '',\n",
    "        area = '',\n",
    "        xid='{}\\%'.format(round(100*np.sum(dr1['xid_objects'])/np.sum(dr1['objects']),1)),\n",
    "        photoz='{}\\%'.format(round(100*np.sum(dr1['photoz_objects'])/np.sum(dr1['objects']),1)),\n",
    "        cigale='{}\\%'.format(round(100*np.sum(dr1['cigale_objects'])/np.sum(dr1['objects']),1)),\n",
    "    ))\n",
    "print(\"\\\\hline\")"
   ]
  },
  {
   "cell_type": "markdown",
   "metadata": {},
   "source": [
    "## Sankey diagram\n",
    "\n",
    "We want to present the flow numbers of objects between each stage of the pipeline using  Sankey diagram. Example format for web based diagram (http://sankeymatic.com/build/):\n",
    "\n",
    "```\n",
    "Wages [2000] Budget\n",
    "Interest [25] Budget\n",
    "Budget [500] Taxes\n",
    "Budget [450] Housing\n",
    "Budget [310] Food\n",
    "Budget [205] Transportation\n",
    "Budget [400] Health Care\n",
    "Budget [160] Other Necessities\n",
    "```\n"
   ]
  },
  {
   "cell_type": "code",
   "execution_count": null,
   "metadata": {},
   "outputs": [],
   "source": [
    "final=Table.read('../../../dmu32/dmu32_AllSky/data/HELP_all_sky_xid_prior_20201111.fits')[\n",
    "    'redshift', 'zspec','f_irac_i1','f_mips_24','f_spire_500','cigale_sfr']"
   ]
  },
  {
   "cell_type": "code",
   "execution_count": null,
   "metadata": {},
   "outputs": [],
   "source": [
    "master_photoz=np.sum(dr1['photoz_objects'])\n",
    "master_nphotoz=np.sum(dr1['objects'])-np.sum(dr1['photoz_objects'])\n",
    "\n",
    "photoz_mips=np.sum(~np.isnan(final['redshift']) & ~np.isnan(final['f_mips_24']))\n",
    "photoz_nmips=np.sum(dr1['photoz_objects']) - photoz_mips\n",
    "nphotoz_mips=np.sum(np.isnan(final['redshift']) & ~np.isnan(final['f_mips_24']))\n",
    "nphotoz_nmips=(\n",
    "    (np.sum(dr1['objects'])-np.sum(dr1['photoz_objects']))\n",
    "    -(np.sum(np.isnan(final['redshift']) & ~np.isnan(final['f_mips_24'])))\n",
    ")\n",
    "\n",
    "mips_xid=np.sum(~np.isnan(final['f_mips_24']) & ~np.isnan(final['f_spire_250']))\n",
    "#mips_nxid=np.sum(~np.isnan(final['f_mips_24']) & np.isnan(final['f_spire_250']))\n",
    "nmips_xid=np.sum(np.isnan(final['f_mips_24']) & ~np.isnan(final['f_spire_250']))\n",
    "nmips_nxid=(\n",
    "    (np.sum(dr1['objects'])-np.sum(dr1['xid_objects']))\n",
    "    #+(np.sum(np.isnan(final['f_mips_24']) & ~np.isnan(final['f_spire_250'])))\n",
    ")\n",
    "\n",
    "nxid_nphotoz=(\n",
    "   (np.sum(dr1['objects'])-np.sum(dr1['photoz_objects'])   )\n",
    "    -(np.sum(~np.isnan(final['f_spire_250']) & np.isnan(final['redshift'])))\n",
    ")\n",
    "nxid_photoz=(\n",
    "   (np.sum(dr1['photoz_objects'])   )\n",
    "    -(np.sum(~np.isnan(final['f_spire_250']) & ~np.isnan(final['redshift'])))\n",
    ")\n",
    "xid_npnc=np.sum(~np.isnan(final['f_spire_250']) & np.isnan(final['redshift']))\n",
    "xid_pnc=np.sum(~np.isnan(final['f_spire_250']) & ~np.isnan(final['redshift']) & np.isnan(final['cigale_sfr']))\n",
    "xid_pc=np.sum(dr1['cigale_objects'])"
   ]
  },
  {
   "cell_type": "code",
   "execution_count": 32,
   "metadata": {},
   "outputs": [
    {
     "name": "stdout",
     "output_type": "stream",
     "text": [
      "\n",
      "Masterlist [93771513] Photo-z\n",
      "Masterlist [77832905] No photo-z\n",
      "\n",
      "Photo-z [0] MIPS\n",
      "Photo-z [0] not in MIPS\n",
      "No photo-z [0] MIPS\n",
      "No photo-z [0] not in MIPS\n",
      "\n",
      "MIPS [0] XID+ prior\n",
      "MIPS [0] no XID+ prior\n",
      "not in MIPS [0] XID+ prior\n",
      "not in MIPS [0] no XID+ prior\n",
      "\n",
      "not XID+ prior [0] no photo-z \n",
      "not XID+ prior [0] photo-z \n",
      "XID+ prior [0] no photo-z no CIGALE\n",
      "XID+ prior [0] photo-z no CIGALE\n",
      "XID+ prior [0] photo-z and CIGALE\n",
      "\n"
     ]
    }
   ],
   "source": [
    "print(\"\"\"\n",
    "Masterlist [{master_photoz}] Photo-z\n",
    "Masterlist [{master_nphotoz}] No photo-z\n",
    "\n",
    "Photo-z [{photoz_mips}] MIPS\n",
    "Photo-z [{photoz_nmips}] No MIPS\n",
    "No photo-z [{nphotoz_mips}] MIPS\n",
    "No photo-z [{nphotoz_nmips}] No MIPS\n",
    "\n",
    "MIPS [{mips_xid}] XID+ prior\n",
    "No MIPS [{nmips_xid}] XID+ prior\n",
    "No MIPS [{nmips_nxid}] no XID+ prior\n",
    "\n",
    "no XID+ prior [{nxid_nphotoz}] no photo-z \n",
    "no XID+ prior [{nxid_photoz}] photo-z \n",
    "XID+ prior [{xid_npnc}] no photo-z no CIGALE\n",
    "XID+ prior [{xid_pnc}] photo-z no CIGALE\n",
    "XID+ prior [{xid_pc}] photo-z and CIGALE\n",
    "\"\"\".format(\n",
    "master_photoz=master_photoz,\n",
    "master_nphotoz=master_nphotoz,\n",
    "\n",
    "photoz_mips=photoz_mips,\n",
    "photoz_nmips=photoz_nmips,\n",
    "nphotoz_mips=nphotoz_mips,\n",
    "nphotoz_nmips=nphotoz_nmips,\n",
    "\n",
    "mips_xid=mips_xid,\n",
    "#mips_nxid=mips_nxid,\n",
    "nmips_xid=nmips_xid,\n",
    "nmips_nxid=nmips_nxid,\n",
    "\n",
    "nxid_nphotoz=nxid_nphotoz,\n",
    "nxid_photoz=nxid_photoz,\n",
    "xid_npnc=xid_npnc,\n",
    "xid_pnc=xid_pnc,\n",
    "xid_pc=xid_pc,\n",
    "\n",
    "))"
   ]
  },
  {
   "cell_type": "markdown",
   "metadata": {},
   "source": [
    "```\n",
    "Masterlist [93771513] Photo-z\n",
    "Masterlist [77832905] No photo-z\n",
    "\n",
    "Photo-z [1688059] MIPS\n",
    "Photo-z [92083454] No MIPS\n",
    "No photo-z [275690] MIPS\n",
    "No photo-z [77557215] No MIPS\n",
    "\n",
    "MIPS [1963749] XID+ prior\n",
    "No MIPS [16044350] XID+ prior\n",
    "No MIPS [153594031] no XID+ prior\n",
    "\n",
    "not XID+ prior [77557214] no photo-z \n",
    "not XID+ prior [76039105] photo-z \n",
    "XID+ prior [275691] no photo-z no CIGALE\n",
    "XID+ prior [16014307] photo-z no CIGALE\n",
    "XID+ prior [1717895] photo-z and CIGALE\n",
    "```"
   ]
  }
 ],
 "metadata": {
  "kernelspec": {
   "display_name": "Python (herschelhelp_internal)",
   "language": "python",
   "name": "helpint"
  },
  "language_info": {
   "codemirror_mode": {
    "name": "ipython",
    "version": 3
   },
   "file_extension": ".py",
   "mimetype": "text/x-python",
   "name": "python",
   "nbconvert_exporter": "python",
   "pygments_lexer": "ipython3",
   "version": "3.6.10"
  }
 },
 "nbformat": 4,
 "nbformat_minor": 4
}
