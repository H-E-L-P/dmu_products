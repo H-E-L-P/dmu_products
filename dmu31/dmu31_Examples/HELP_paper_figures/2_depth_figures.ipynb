{
 "cells": [
  {
   "cell_type": "markdown",
   "metadata": {},
   "source": [
    "# Make depth summary figures\n",
    "\n",
    "This notebook is to produce some figures for the ELAIS-N1 paper.\n",
    "\n",
    "First we will, for every helpix 13 in HELP get the highest K or Ks depth, g depth, and irac 1 depth. We will then plot cumulative area histograms and generate the 25%, 50%, 75% areas to summarise the depths across all HELP.\n",
    "\n"
   ]
  },
  {
   "cell_type": "code",
   "execution_count": 1,
   "metadata": {},
   "outputs": [
    {
     "name": "stdout",
     "output_type": "stream",
     "text": [
      "This notebook was run with herschelhelp_internal version: \n",
      "1407877 (Mon Feb 4 12:56:29 2019 +0000)\n"
     ]
    }
   ],
   "source": [
    "from herschelhelp_internal import git_version\n",
    "print(\"This notebook was run with herschelhelp_internal version: \\n{}\".format(git_version()))\n"
   ]
  },
  {
   "cell_type": "code",
   "execution_count": 2,
   "metadata": {},
   "outputs": [],
   "source": [
    "import pyvo as vo\n",
    "import glob\n",
    "import time\n",
    "import numpy as np\n",
    "\n",
    "import matplotlib as mpl\n",
    "import matplotlib.pyplot as plt\n",
    "from mpl_toolkits.axes_grid1.inset_locator import inset_axes\n",
    "\n",
    "import random\n",
    "\n",
    "import herschelhelp as hh\n",
    "from herschelhelp_internal.utils import flux_to_mag\n",
    "\n",
    "from astropy.table import Table, Column, vstack, join, unique\n",
    "\n",
    "from pymoc import MOC\n",
    "\n",
    "import pandas as pd\n",
    "\n",
    "import yaml\n",
    "\n",
    "from pcigale.sed import SED\n",
    "from pcigale.sed_modules import get_module"
   ]
  },
  {
   "cell_type": "code",
   "execution_count": 3,
   "metadata": {},
   "outputs": [],
   "source": [
    "\n",
    "#Then we establish the VO connection to our database\n",
    "service = vo.dal.TAPService(\"https://herschel-vos.phys.sussex.ac.uk/__system__/tap/run/tap\")"
   ]
  },
  {
   "cell_type": "code",
   "execution_count": 4,
   "metadata": {},
   "outputs": [],
   "source": [
    "herschelhelp_python_loc = ('../../../../herschelhelp_python/')\n",
    "\n",
    "filter_locs  = glob.glob(herschelhelp_python_loc + 'database_builder/filters/*')"
   ]
  },
  {
   "cell_type": "code",
   "execution_count": 5,
   "metadata": {},
   "outputs": [
    {
     "name": "stdout",
     "output_type": "stream",
     "text": [
      "no readme\n"
     ]
    }
   ],
   "source": [
    "filters = [f.split('/')[-1].split('.')[0] for f in filter_locs]\n",
    "try:\n",
    "    filters.remove('readme')\n",
    "except ValueError:\n",
    "    print('no readme')\n",
    "\n",
    "bands = ['u', 'g', 'r', 'i', 'z', 'y',\n",
    "        'J', 'H', 'K', 'Ks',\n",
    "        'i1', 'i2', 'i3', 'i4']"
   ]
  },
  {
   "cell_type": "code",
   "execution_count": 6,
   "metadata": {},
   "outputs": [
    {
     "data": {
      "text/plain": [
       "['wfi_696nm',\n",
       " 'suprime_nb816',\n",
       " 'wfc3_f125w',\n",
       " 'mmt_g',\n",
       " 'omegacam_r',\n",
       " 'decam_z',\n",
       " 'wfi_416nm',\n",
       " 'sdss_i',\n",
       " 'omegacam_g',\n",
       " 'suprime_ib464',\n",
       " 'wfi_571nm',\n",
       " 'mmt_r',\n",
       " 'wfc3_f105w',\n",
       " 'spire_350',\n",
       " 'decam_y',\n",
       " 'suprime_ib505',\n",
       " 'cfht12k_b',\n",
       " '90prime_z',\n",
       " 'omegacam_u',\n",
       " 'mips_160',\n",
       " 'suprime_ip',\n",
       " 'isaac_k',\n",
       " 'galex_nuv',\n",
       " 'acs_f775w',\n",
       " 'moircs_k',\n",
       " 'sdss_z',\n",
       " 'acs_f606w',\n",
       " 'cfht12k_r',\n",
       " 'decam_i',\n",
       " 'quirc_hk',\n",
       " 'mmt_u',\n",
       " 'suprime_zpp',\n",
       " 'suprime_ia624',\n",
       " 'megacam_r',\n",
       " 'bessell_v',\n",
       " 'wircam_ks',\n",
       " 'mips_24',\n",
       " 'omega2000_j',\n",
       " 'wfi_r',\n",
       " 'spire_250',\n",
       " 'suprime_r',\n",
       " 'pacs_blue',\n",
       " 'gpc1_i',\n",
       " 'suprime_g',\n",
       " 'bessell_b',\n",
       " 'bessell_u',\n",
       " 'mosaic_r',\n",
       " 'wfi_753nm',\n",
       " 'acs_f850lp',\n",
       " 'ukidss_y',\n",
       " 'megacam_g',\n",
       " 'wfc_z',\n",
       " 'lbc_u',\n",
       " 'suprime_ia527',\n",
       " 'wfc_i',\n",
       " 'wfi_b123',\n",
       " 'gpc1_y',\n",
       " 'suprime_b',\n",
       " 'wfi_b',\n",
       " 'wfi_u',\n",
       " 'suprime_ia679',\n",
       " 'ukidss_j',\n",
       " 'suprime_ib827',\n",
       " 'suprime_ia484',\n",
       " 'ukidss_k',\n",
       " 'megacam_u',\n",
       " 'newfirm_j1',\n",
       " 'suprime_n816',\n",
       " 'gpc1_z',\n",
       " 'newfirm_j3',\n",
       " 'suprime_v',\n",
       " 'wfi_v',\n",
       " 'mosaic_b',\n",
       " 'mosaic_u',\n",
       " 'ukidss_h',\n",
       " 'bessell_r',\n",
       " 'suprime_ib574',\n",
       " 'newfirm_j2',\n",
       " 'suprime_zp',\n",
       " 'wfc3_f140w',\n",
       " 'suprime_z',\n",
       " 'irac_i3',\n",
       " 'irac_i2',\n",
       " 'bessell_i',\n",
       " 'megacam_z',\n",
       " 'vista_z',\n",
       " 'wfc_g',\n",
       " 'wfi_856nm',\n",
       " 'wfc_r',\n",
       " 'suprime_y',\n",
       " 'vista_ks',\n",
       " 'irac_i1',\n",
       " 'acs_f814w',\n",
       " 'mosaic_z',\n",
       " 'megacam_y',\n",
       " 'suprime_ib427',\n",
       " 'wfc3_f160w',\n",
       " 'wfi_646nm',\n",
       " 'vista_y',\n",
       " 'suprime_nb711',\n",
       " 'spire_500',\n",
       " 'pacs_red',\n",
       " 'gpc1_g',\n",
       " 'newfirm_h1',\n",
       " 'suprime_ia738',\n",
       " 'vista_j',\n",
       " 'mosaic_i',\n",
       " 'irac_i4',\n",
       " 'wfi_815nm',\n",
       " 'lbc_y',\n",
       " 'newfirm_h2',\n",
       " 'wfi_485nm',\n",
       " 'megacam_i',\n",
       " 'moircs_ks',\n",
       " 'nicmos_f160w',\n",
       " 'wfi_i',\n",
       " 'acs_f435w',\n",
       " 'vista_h',\n",
       " 'suprime_i',\n",
       " 'gpc1_r',\n",
       " 'wfc_u',\n",
       " 'wfi_461nm',\n",
       " 'cfht12k_i',\n",
       " 'wfc3_f098m',\n",
       " 'newfirm_h',\n",
       " 'decam_r',\n",
       " 'omegacam_z',\n",
       " 'pacs_green',\n",
       " 'nicmos_f110w',\n",
       " 'wfi_914nm',\n",
       " 'sdss_u',\n",
       " 'suprime_rc',\n",
       " 'wircam_y',\n",
       " 'newfirm_k',\n",
       " 'omega2000_ks',\n",
       " 'mips_70',\n",
       " 'mmt_z',\n",
       " 'wfi_518nm',\n",
       " 'decam_g',\n",
       " 'tifkam_ks',\n",
       " 'newfirm_j',\n",
       " 'wircs_j',\n",
       " 'suprime_ia767',\n",
       " 'sdss_r',\n",
       " 'suprime_n921',\n",
       " 'mmt_i',\n",
       " 'wfi_604nm',\n",
       " 'wircs_k',\n",
       " 'galex_fuv',\n",
       " '90prime_r',\n",
       " 'wircam_j',\n",
       " 'suprime_ib709',\n",
       " 'wircam_h',\n",
       " 'suprime_rp',\n",
       " '90prime_g',\n",
       " 'hawki_k',\n",
       " 'omegacam_i',\n",
       " 'sdss_g']"
      ]
     },
     "execution_count": 6,
     "metadata": {},
     "output_type": "execute_result"
    }
   ],
   "source": [
    "filters"
   ]
  },
  {
   "cell_type": "code",
   "execution_count": 7,
   "metadata": {},
   "outputs": [
    {
     "name": "stdout",
     "output_type": "stream",
     "text": [
      "Job still running after 0 seconds.\n",
      "Job still running after 10 seconds.\n",
      "Job still running after 20 seconds.\n"
     ]
    },
    {
     "ename": "AttributeError",
     "evalue": "'NoneType' object has no attribute 'href'",
     "output_type": "error",
     "traceback": [
      "\u001b[0;31m---------------------------------------------------------------------------\u001b[0m",
      "\u001b[0;31mAttributeError\u001b[0m                            Traceback (most recent call last)",
      "\u001b[0;32m<ipython-input-7-03e98b283564>\u001b[0m in \u001b[0;36m<module>\u001b[0;34m\u001b[0m\n\u001b[1;32m     16\u001b[0m     \u001b[0mtime\u001b[0m\u001b[0;34m.\u001b[0m\u001b[0msleep\u001b[0m\u001b[0;34m(\u001b[0m\u001b[0;36m10\u001b[0m\u001b[0;34m)\u001b[0m \u001b[0;31m#wait ten seconds and try again\u001b[0m\u001b[0;34m\u001b[0m\u001b[0;34m\u001b[0m\u001b[0m\n\u001b[1;32m     17\u001b[0m \u001b[0;34m\u001b[0m\u001b[0m\n\u001b[0;32m---> 18\u001b[0;31m \u001b[0mtable\u001b[0m \u001b[0;34m=\u001b[0m \u001b[0mjob_result\u001b[0m\u001b[0;34m.\u001b[0m\u001b[0mfetch_result\u001b[0m\u001b[0;34m(\u001b[0m\u001b[0;34m)\u001b[0m\u001b[0;34m\u001b[0m\u001b[0;34m\u001b[0m\u001b[0m\n\u001b[0m\u001b[1;32m     19\u001b[0m \u001b[0mi1_table\u001b[0m \u001b[0;34m=\u001b[0m \u001b[0mtable\u001b[0m\u001b[0;34m.\u001b[0m\u001b[0mtable\u001b[0m\u001b[0;34m\u001b[0m\u001b[0;34m\u001b[0m\u001b[0m\n",
      "\u001b[0;32m~/miniconda3/envs/herschelhelp_internal/lib/python3.6/site-packages/pyvo/dal/tap.py\u001b[0m in \u001b[0;36mfetch_result\u001b[0;34m(self)\u001b[0m\n\u001b[1;32m    829\u001b[0m         \"\"\"\n\u001b[1;32m    830\u001b[0m         \u001b[0;32mtry\u001b[0m\u001b[0;34m:\u001b[0m\u001b[0;34m\u001b[0m\u001b[0;34m\u001b[0m\u001b[0m\n\u001b[0;32m--> 831\u001b[0;31m             \u001b[0mresponse\u001b[0m \u001b[0;34m=\u001b[0m \u001b[0mself\u001b[0m\u001b[0;34m.\u001b[0m\u001b[0m_session\u001b[0m\u001b[0;34m.\u001b[0m\u001b[0mget\u001b[0m\u001b[0;34m(\u001b[0m\u001b[0mself\u001b[0m\u001b[0;34m.\u001b[0m\u001b[0mresult_uri\u001b[0m\u001b[0;34m,\u001b[0m \u001b[0mstream\u001b[0m\u001b[0;34m=\u001b[0m\u001b[0;32mTrue\u001b[0m\u001b[0;34m)\u001b[0m\u001b[0;34m\u001b[0m\u001b[0;34m\u001b[0m\u001b[0m\n\u001b[0m\u001b[1;32m    832\u001b[0m             \u001b[0mresponse\u001b[0m\u001b[0;34m.\u001b[0m\u001b[0mraise_for_status\u001b[0m\u001b[0;34m(\u001b[0m\u001b[0;34m)\u001b[0m\u001b[0;34m\u001b[0m\u001b[0;34m\u001b[0m\u001b[0m\n\u001b[1;32m    833\u001b[0m         \u001b[0;32mexcept\u001b[0m \u001b[0mrequests\u001b[0m\u001b[0;34m.\u001b[0m\u001b[0mRequestException\u001b[0m \u001b[0;32mas\u001b[0m \u001b[0mex\u001b[0m\u001b[0;34m:\u001b[0m\u001b[0;34m\u001b[0m\u001b[0;34m\u001b[0m\u001b[0m\n",
      "\u001b[0;32m~/miniconda3/envs/herschelhelp_internal/lib/python3.6/site-packages/pyvo/dal/tap.py\u001b[0m in \u001b[0;36mresult_uri\u001b[0;34m(self)\u001b[0m\n\u001b[1;32m    720\u001b[0m         \"\"\"\n\u001b[1;32m    721\u001b[0m         \u001b[0;32mtry\u001b[0m\u001b[0;34m:\u001b[0m\u001b[0;34m\u001b[0m\u001b[0;34m\u001b[0m\u001b[0m\n\u001b[0;32m--> 722\u001b[0;31m             \u001b[0muri\u001b[0m \u001b[0;34m=\u001b[0m \u001b[0mself\u001b[0m\u001b[0;34m.\u001b[0m\u001b[0mresult\u001b[0m\u001b[0;34m.\u001b[0m\u001b[0mhref\u001b[0m\u001b[0;34m\u001b[0m\u001b[0;34m\u001b[0m\u001b[0m\n\u001b[0m\u001b[1;32m    723\u001b[0m             \u001b[0;32mif\u001b[0m \u001b[0;32mnot\u001b[0m \u001b[0murlparse\u001b[0m\u001b[0;34m(\u001b[0m\u001b[0muri\u001b[0m\u001b[0;34m)\u001b[0m\u001b[0;34m.\u001b[0m\u001b[0mnetloc\u001b[0m\u001b[0;34m:\u001b[0m\u001b[0;34m\u001b[0m\u001b[0;34m\u001b[0m\u001b[0m\n\u001b[1;32m    724\u001b[0m                 \u001b[0muri\u001b[0m \u001b[0;34m=\u001b[0m \u001b[0murljoin\u001b[0m\u001b[0;34m(\u001b[0m\u001b[0mself\u001b[0m\u001b[0;34m.\u001b[0m\u001b[0murl\u001b[0m\u001b[0;34m,\u001b[0m \u001b[0muri\u001b[0m\u001b[0;34m)\u001b[0m\u001b[0;34m\u001b[0m\u001b[0;34m\u001b[0m\u001b[0m\n",
      "\u001b[0;31mAttributeError\u001b[0m: 'NoneType' object has no attribute 'href'"
     ]
    }
   ],
   "source": [
    "irac_i1_query=\"\"\"\n",
    "SELECT DISTINCT hp_idx_O_10, ferr_ap_irac_i1_mean\n",
    "FROM depth.main\n",
    "WHERE ferr_ap_irac_i1_mean IS NOT NULL\n",
    "\"\"\"\n",
    "\n",
    "#Then we execute the query\n",
    "#resultset = service.run_async(irac_i1_query)\n",
    "job = service.submit_job(irac_i1_query)\n",
    "job.run()\n",
    "job_url = job.url\n",
    "job_result = vo.dal.tap.AsyncTAPJob(job_url)\n",
    "start_time = time.time()\n",
    "while job.phase == 'EXECUTING':\n",
    "    print('Job still running after {} seconds.'.format(round(time.time() - start_time)))\n",
    "    time.sleep(10) #wait ten seconds and try again\n",
    "    \n",
    "table = job_result.fetch_result() \n",
    "i1_table = table.table"
   ]
  },
  {
   "cell_type": "code",
   "execution_count": null,
   "metadata": {},
   "outputs": [],
   "source": [
    "i1_table"
   ]
  },
  {
   "cell_type": "code",
   "execution_count": null,
   "metadata": {},
   "outputs": [],
   "source": [
    "plt.hist(np.log10(i1_table['ferr_ap_irac_i1_mean']) )"
   ]
  },
  {
   "cell_type": "code",
   "execution_count": null,
   "metadata": {},
   "outputs": [],
   "source": [
    "irac_i1_moc = MOC(10, i1_table['hp_idx_o_10'])\n",
    "irac_i1_moc.area_sq_deg\n",
    "total_area = irac_i1_moc.area_sq_deg\n",
    "total_area"
   ]
  },
  {
   "cell_type": "code",
   "execution_count": null,
   "metadata": {},
   "outputs": [],
   "source": [
    "fig, ax = plt.subplots()\n",
    "\n",
    "cells, fluxes = np.histogram(np.log10(i1_table['ferr_ap_irac_i1_mean']*1.e-6), bins=50)\n",
    "ax.plot(fluxes[1:],\n",
    "         np.cumsum(cells)*total_area/cells.sum() ,\n",
    "        drawstyle='steps')\n",
    "\n",
    "ax.set_xlabel('Log$_{10}$ ( Mean IRAC 1 flux error [Jy] )')\n",
    "ax.set_ylabel('Cumulative area [deg.$^2$]')\n",
    "ax.set_xlim([-6.5,-3.0])\n",
    "#y_vals = ax.get_yticks()\n",
    "#ax.set_yticklabels([n for n in y_vals])\n",
    "\n",
    "plt.rc('font', family='serif', serif='Times')\n",
    "plt.rc('text') #, usetex=True)\n",
    "plt.rc('xtick', labelsize=12)\n",
    "plt.rc('ytick', labelsize=12)\n",
    "plt.rc('axes', labelsize=12)\n",
    "\n",
    "column_width_cm = 8.9\n",
    "width_cm = 1.4 * column_width_cm\n",
    "hieght_cm = width_cm / 1.618\n",
    "width_inches = width_cm/2.5\n",
    "hieght_inches = hieght_cm/2.5\n",
    "fig.set_size_inches(width_inches, hieght_inches)\n",
    "\n",
    "plt.tight_layout()\n",
    "plt.savefig('./figs/IRAC_i1_cumulative_area_depth.pdf')\n",
    "plt.savefig('./figs/IRAC_i1_cumulative_area_depth.png')"
   ]
  },
  {
   "cell_type": "code",
   "execution_count": null,
   "metadata": {},
   "outputs": [],
   "source": [
    "i1_p25, i1_p50, i1_p75 = np.nanpercentile(i1_table['ferr_ap_irac_i1_mean'] * 3.,[25, 50, 75])\n",
    "\"\"\"\n",
    "The IRAC i1 band has coverage over {} square degrees with  3 sigma \n",
    "depths at the 25th, 50th and 75th percentiles of {}, {}, {} respectively.\"\"\".format(total_area, i1_p25, i1_p50, i1_p75)"
   ]
  },
  {
   "cell_type": "markdown",
   "metadata": {},
   "source": [
    "In mags as per reviewer request"
   ]
  },
  {
   "cell_type": "code",
   "execution_count": null,
   "metadata": {},
   "outputs": [],
   "source": [
    "fig, ax = plt.subplots()\n",
    "\n",
    "i1_pix_mag_depths, _ = flux_to_mag(i1_table['ferr_ap_irac_i1_mean']*1.e-6*5)\n",
    "cells, fluxes = np.histogram(i1_pix_mag_depths, bins=1000)\n",
    "#We want cumulative from faint to bright\n",
    "cells =np.flip(cells)\n",
    "fluxes = np.flip(fluxes)\n",
    "ax.plot(fluxes[1:],\n",
    "         np.cumsum(cells)*total_area/cells.sum() ,\n",
    "        drawstyle='steps')\n",
    "\n",
    "ax.set_xlabel('5$\\sigma$ IRAC $i1$ depth [mag]')\n",
    "ax.set_ylabel('Cumulative area [deg.$^2$]')\n",
    "ax.set_xlim([23,16])\n",
    "ax.set_ylim([0,300])\n",
    "#y_vals = ax.get_yticks()\n",
    "#ax.set_yticklabels([n for n in y_vals])\n",
    "\n",
    "plt.rc('font', family='serif', serif='Times')\n",
    "plt.rc('text') #, usetex=True)\n",
    "plt.rc('xtick', labelsize=12)\n",
    "plt.rc('ytick', labelsize=12)\n",
    "plt.rc('axes', labelsize=12)\n",
    "\n",
    "column_width_cm = 8.9\n",
    "width_cm = 1.0 * column_width_cm\n",
    "hieght_cm = width_cm \n",
    "width_inches = width_cm/2.5\n",
    "hieght_inches = hieght_cm/2.5\n",
    "fig.set_size_inches(width_inches, hieght_inches)\n",
    "\n",
    "\n",
    "\n",
    "plt.savefig('./figs/IRAC_i1_cumulative_area_depth_mag.pdf', bbox_inches='tight')\n",
    "plt.savefig('./figs/IRAC_i1_cumulative_area_depth_mag.png', bbox_inches='tight')"
   ]
  },
  {
   "cell_type": "code",
   "execution_count": null,
   "metadata": {},
   "outputs": [],
   "source": [
    "mi1_p25, mi1_p50, mi1_p75 = np.nanpercentile(i1_pix_mag_depths ,[25, 50, 75])\n",
    "\"\"\"\n",
    "The IRAC i1 band has coverage over {} square degrees with  5 sigma \n",
    "depths at the 25th, 50th and 75th percentiles of {}, {}, {} respectively.\"\"\".format(total_area, mi1_p25, mi1_p50, mi1_p75)"
   ]
  },
  {
   "cell_type": "markdown",
   "metadata": {},
   "source": [
    "## g bands\n",
    "\n",
    "There are multiple g type bands so we the the maximum depth of all of them."
   ]
  },
  {
   "cell_type": "code",
   "execution_count": null,
   "metadata": {},
   "outputs": [],
   "source": [
    "g_filters = [f for f in filters if f.split('_')[1] == 'g']\n",
    "spaced_list = ''\n",
    "for g in g_filters:\n",
    "    spaced_list = spaced_list + ', ferr_ap_' + g + '_mean'\n",
    "print(spaced_list)"
   ]
  },
  {
   "cell_type": "code",
   "execution_count": null,
   "metadata": {},
   "outputs": [],
   "source": [
    "g_bands_query=\"\"\"\n",
    "SELECT DISTINCT hp_idx_O_10{}\n",
    "FROM depth.main\n",
    "\n",
    "\"\"\".format(spaced_list)\n",
    "g_bands_query"
   ]
  },
  {
   "cell_type": "code",
   "execution_count": null,
   "metadata": {},
   "outputs": [],
   "source": [
    "#Then we execute the query\n",
    "#resultset = service.run_async(irac_i1_query)\n",
    "job = service.submit_job(g_bands_query)\n",
    "job.run()\n",
    "job_url = job.url\n",
    "job_result = vo.dal.tap.AsyncTAPJob(job_url)\n",
    "start_time = time.time()\n",
    "while job.phase == 'EXECUTING':\n",
    "    print('Job still running after {} seconds.'.format(round(time.time() - start_time)))\n",
    "    time.sleep(10) #wait ten seconds and try again\n",
    "    \n",
    "print(job.phase)\n",
    "table = job_result.fetch_result() \n",
    "\n",
    "\n"
   ]
  },
  {
   "cell_type": "code",
   "execution_count": null,
   "metadata": {},
   "outputs": [],
   "source": [
    "g_depth_cols  = [\"ferr_ap_{}_mean\".format(band) for band in g_filters]\n",
    "g_depth_cols"
   ]
  },
  {
   "cell_type": "code",
   "execution_count": null,
   "metadata": {},
   "outputs": [],
   "source": [
    "g_table = Table(table.table)\n",
    "for col in g_depth_cols:\n",
    "    g_table[col].fill_value = np.nan\n",
    "g_table = g_table.filled()"
   ]
  },
  {
   "cell_type": "code",
   "execution_count": null,
   "metadata": {},
   "outputs": [],
   "source": [
    "np.nanmin([g_table[column] for column in g_depth_cols], axis=0)"
   ]
  },
  {
   "cell_type": "code",
   "execution_count": null,
   "metadata": {},
   "outputs": [],
   "source": [
    "for col in g_depth_cols:\n",
    "    print(col, np.sum(np.log10(np.array(g_table[col])*1.e-6) < -9))"
   ]
  },
  {
   "cell_type": "code",
   "execution_count": null,
   "metadata": {},
   "outputs": [],
   "source": [
    "decam_low = (np.log10(np.array(g_table['ferr_ap_decam_g_mean'])*1.e-6) < -9)\n",
    "prime_low = (np.log10(np.array(g_table['ferr_ap_90prime_g_mean'])*1.e-6) < -9)"
   ]
  },
  {
   "cell_type": "code",
   "execution_count": null,
   "metadata": {},
   "outputs": [],
   "source": [
    "decam_bad_moc = MOC(10, g_table['hp_idx_o_10'][decam_low])\n",
    "prime_bad_moc = MOC(10, g_table['hp_idx_o_10'][decam_low])\n",
    "\n",
    "fields = yaml.load(open('../../../dmu2/meta_main.yml', 'r'))\n",
    "\n",
    "\n",
    "for field in fields['fields']:\n",
    "    field_moc = MOC(filename=field['region'].replace('dmu_products/', '../../../'))\n",
    "    decam_bad_area = decam_bad_moc.intersection(field_moc).area_sq_deg\n",
    "    prime_bad_area = prime_bad_moc.intersection(field_moc).area_sq_deg\n",
    "    print(\"{} has {} sq deg of bad DECam and {} sq degrees of bad 90Prime\".format(field['name'], \n",
    "                                                                                  decam_bad_area, \n",
    "                                                                                  prime_bad_area))"
   ]
  },
  {
   "cell_type": "code",
   "execution_count": null,
   "metadata": {},
   "outputs": [],
   "source": [
    "g_table['ferr_ap_decam_g_mean'][decam_low] = g_table['ferr_ap_decam_g_mean'][decam_low] * 1.e6\n",
    "g_table['ferr_ap_90prime_g_mean'][prime_low] = g_table['ferr_ap_90prime_g_mean'][prime_low] * 1.e6"
   ]
  },
  {
   "cell_type": "code",
   "execution_count": null,
   "metadata": {},
   "outputs": [],
   "source": [
    "g_table.add_column(Column(data=np.nanmin([g_table[column] for column in g_depth_cols], axis=0), name='ferr_g_min'))"
   ]
  },
  {
   "cell_type": "code",
   "execution_count": null,
   "metadata": {},
   "outputs": [],
   "source": [
    "g_table['hp_idx_o_10', 'ferr_g_min']"
   ]
  },
  {
   "cell_type": "code",
   "execution_count": null,
   "metadata": {},
   "outputs": [],
   "source": [
    "g_moc = MOC(10, g_table['hp_idx_o_10'])\n",
    "g_moc.area_sq_deg\n",
    "total_area_g = g_moc.area_sq_deg\n",
    "total_area_g"
   ]
  },
  {
   "cell_type": "code",
   "execution_count": null,
   "metadata": {},
   "outputs": [],
   "source": [
    "g_table['hp_idx_o_10', 'ferr_g_min']\n",
    "\n",
    "fig, ax = plt.subplots()\n",
    "\n",
    "good = np.log10(np.array(g_table['ferr_g_min'])*1.e-6) > -20\n",
    "good &= np.log10(np.array(g_table['ferr_g_min'])*1.e-6) <20\n",
    "\n",
    "cells, fluxes = np.histogram(np.log10(np.array(g_table['ferr_g_min'][good ])*1.e-6), bins=100)\n",
    "ax.plot(fluxes[1:],\n",
    "         np.cumsum(cells)*1270./cells.sum() ,\n",
    "        drawstyle='steps')\n",
    "\n",
    "ax.set_xlabel('Log$_{10}$ ( Mean g flux error [Jy] )')\n",
    "ax.set_ylabel('Cumulative area [deg.$^2$]')\n",
    "ax.set_xlim([-8,-4.0])\n",
    "#y_vals = ax.get_yticks()\n",
    "#ax.set_yticklabels([n for n in y_vals])\n",
    "\n",
    "\n",
    "\n",
    "plt.rc('font', family='serif', serif='Times')\n",
    "plt.rc('text') #, usetex=True)\n",
    "plt.rc('xtick', labelsize=12)\n",
    "plt.rc('ytick', labelsize=12)\n",
    "plt.rc('axes', labelsize=12)\n",
    "\n",
    "column_width_cm = 8.9\n",
    "width_cm = 1.0 * column_width_cm\n",
    "hieght_cm = width_cm / 1.618\n",
    "width_inches = width_cm/2.5\n",
    "hieght_inches = hieght_cm/2.5\n",
    "fig.set_size_inches(width_inches, hieght_inches)\n",
    "\n",
    "plt.tight_layout()\n",
    "plt.savefig('./figs/g_cumulative_area_depth.pdf')\n",
    "plt.savefig('./figs/g_cumulative_area_depth.png')"
   ]
  },
  {
   "cell_type": "code",
   "execution_count": null,
   "metadata": {},
   "outputs": [],
   "source": [
    "g_p25, g_p50, g_p75 = np.nanpercentile(g_table['ferr_g_min'][good ] * 3.,[25, 50, 75])\n",
    "\"\"\"\n",
    "The g band has coverage over {} square degrees with  3 sigma \n",
    "depths at the 25th, 50th and 75th percentiles of {}, {}, {} respectively.\"\"\".format(1270, g_p25, g_p50, g_p75)"
   ]
  },
  {
   "cell_type": "markdown",
   "metadata": {},
   "source": [
    "In mags as per reviewer request"
   ]
  },
  {
   "cell_type": "code",
   "execution_count": null,
   "metadata": {},
   "outputs": [],
   "source": [
    "g_table['hp_idx_o_10', 'ferr_g_min']\n",
    "\n",
    "fig, ax = plt.subplots()\n",
    "\n",
    "good = np.log10(np.array(g_table['ferr_g_min'])*1.e-6) > -20\n",
    "good &= np.log10(np.array(g_table['ferr_g_min'])*1.e-6) <20\n",
    "\n",
    "g_pix_mag_depths, _ = flux_to_mag(np.array(g_table['ferr_g_min'][good ])*1.e-6*5)\n",
    "cells, fluxes = np.histogram(g_pix_mag_depths, bins=1000)\n",
    "cells =np.flip(cells)\n",
    "fluxes = np.flip(fluxes)\n",
    "\n",
    "ax.plot(fluxes[1:],\n",
    "         np.cumsum(cells)*1270./cells.sum() ,\n",
    "        drawstyle='steps')\n",
    "\n",
    "ax.set_xlabel('5$\\sigma$ $g$ depth [mag] ')\n",
    "ax.set_ylabel('Cumulative area [deg.$^2$]')\n",
    "ax.set_xlim([27,20])\n",
    "ax.set_ylim([0,1300])\n",
    "#y_vals = ax.get_yticks()\n",
    "#ax.set_yticklabels([n for n in y_vals])\n",
    "\n",
    "\n",
    "\n",
    "plt.rc('font', family='serif', serif='Times')\n",
    "plt.rc('text') #, usetex=True)\n",
    "plt.rc('xtick', labelsize=12)\n",
    "plt.rc('ytick', labelsize=12)\n",
    "plt.rc('axes', labelsize=12)\n",
    "\n",
    "column_width_cm = 8.9\n",
    "width_cm = 1.0 * column_width_cm\n",
    "hieght_cm = width_cm \n",
    "width_inches = width_cm/2.5\n",
    "hieght_inches = hieght_cm/2.5\n",
    "fig.set_size_inches(width_inches, hieght_inches)\n",
    "\n",
    "\n",
    "plt.savefig('./figs/g_cumulative_area_depth_mag.pdf', bbox_inches='tight')\n",
    "plt.savefig('./figs/g_cumulative_area_depth_mag.png', bbox_inches='tight')"
   ]
  },
  {
   "cell_type": "code",
   "execution_count": null,
   "metadata": {},
   "outputs": [],
   "source": [
    "mg_p25, mg_p50, mg_p75 = np.nanpercentile(g_pix_mag_depths,[25, 50, 75])\n",
    "\"\"\"\n",
    "The g band has coverage over {} square degrees with  3 sigma \n",
    "depths at the 25th, 50th and 75th percentiles of {}, {}, {} respectively.\"\"\".format(1270, mg_p25, mg_p50, mg_p75)"
   ]
  },
  {
   "cell_type": "code",
   "execution_count": null,
   "metadata": {},
   "outputs": [],
   "source": [
    "g_table[prime_low]"
   ]
  },
  {
   "cell_type": "markdown",
   "metadata": {},
   "source": [
    "## K or Ks filters\n",
    "the same for K"
   ]
  },
  {
   "cell_type": "code",
   "execution_count": null,
   "metadata": {},
   "outputs": [],
   "source": [
    "K_filters = [f for f in filters if f.split('_')[1].startswith('k')]\n",
    "K_filters"
   ]
  },
  {
   "cell_type": "code",
   "execution_count": null,
   "metadata": {},
   "outputs": [],
   "source": [
    "\n",
    "spaced_list = ''\n",
    "for K in K_filters:\n",
    "    spaced_list = spaced_list + ', ferr_ap_' + K + '_mean'\n",
    "print(spaced_list)"
   ]
  },
  {
   "cell_type": "code",
   "execution_count": null,
   "metadata": {},
   "outputs": [],
   "source": [
    "K_bands_query=\"\"\"\n",
    "SELECT DISTINCT hp_idx_O_10{}\n",
    "FROM depth.main\n",
    "\n",
    "\"\"\".format(spaced_list)\n",
    "K_bands_query"
   ]
  },
  {
   "cell_type": "code",
   "execution_count": null,
   "metadata": {},
   "outputs": [],
   "source": [
    "#Then we execute the query\n",
    "#resultset = service.run_async(irac_i1_query)\n",
    "job = service.submit_job(K_bands_query)\n",
    "job.run()\n",
    "job_url = job.url\n",
    "job_result = vo.dal.tap.AsyncTAPJob(job_url)\n",
    "start_time = time.time()\n",
    "while job.phase == 'EXECUTING':\n",
    "    print('Job still running after {} seconds.'.format(round(time.time() - start_time)))\n",
    "    time.sleep(10) #wait ten seconds and try again\n",
    "    \n",
    "print(job.phase)\n",
    "table = job_result.fetch_result() "
   ]
  },
  {
   "cell_type": "code",
   "execution_count": null,
   "metadata": {},
   "outputs": [],
   "source": [
    "depth_cols  = [\"ferr_ap_{}_mean\".format(band) for band in K_filters]\n",
    "depth_cols"
   ]
  },
  {
   "cell_type": "code",
   "execution_count": null,
   "metadata": {},
   "outputs": [],
   "source": [
    "K_table = Table(table.table)\n",
    "for col in depth_cols:\n",
    "    K_table[col].fill_value = np.nan\n",
    "K_table = K_table.filled()"
   ]
  },
  {
   "cell_type": "code",
   "execution_count": null,
   "metadata": {},
   "outputs": [],
   "source": [
    "len(K_table)"
   ]
  },
  {
   "cell_type": "code",
   "execution_count": null,
   "metadata": {},
   "outputs": [],
   "source": [
    "K_table.add_column(Column(data=np.nanmin([K_table[column] for column in depth_cols], axis=0), name='ferr_K_min'))"
   ]
  },
  {
   "cell_type": "code",
   "execution_count": null,
   "metadata": {},
   "outputs": [],
   "source": [
    "np.sum(np.isnan(K_table['ferr_K_min'] ))"
   ]
  },
  {
   "cell_type": "code",
   "execution_count": null,
   "metadata": {},
   "outputs": [],
   "source": [
    "K_moc = MOC(10, K_table[~np.isnan(K_table['ferr_K_min'] )]['hp_idx_o_10'])\n",
    "K_moc.area_sq_deg\n",
    "total_area_K = K_moc.area_sq_deg\n",
    "total_area_K"
   ]
  },
  {
   "cell_type": "code",
   "execution_count": null,
   "metadata": {},
   "outputs": [],
   "source": [
    "K_table['hp_idx_o_10', 'ferr_K_min']\n",
    "\n",
    "fig, ax = plt.subplots()\n",
    "\n",
    "good = np.log10(np.array(K_table['ferr_K_min'])*1.e-6) > -20\n",
    "good &= np.log10(np.array(K_table['ferr_K_min'])*1.e-6) <20\n",
    "\n",
    "cells, fluxes = np.histogram(np.log10(np.array(K_table['ferr_K_min'][good ])*1.e-6), bins=100)\n",
    "ax.plot(fluxes[1:],\n",
    "         np.cumsum(cells)*total_area_K/cells.sum() ,\n",
    "        drawstyle='steps')\n",
    "\n",
    "ax.set_xlabel('Log$_{10}$ ( Mean K or Ks flux error [Jy] )')\n",
    "ax.set_ylabel('Cumulative area [deg.$^2$]')\n",
    "ax.set_xlim([-6.5,-4.5])\n",
    "#y_vals = ax.get_yticks()\n",
    "#ax.set_yticklabels([n for n in y_vals])\n",
    "\n",
    "plt.rc('font', family='serif', serif='Times')\n",
    "plt.rc('text') #, usetex=True)\n",
    "plt.rc('xtick', labelsize=12)\n",
    "plt.rc('ytick', labelsize=12)\n",
    "plt.rc('axes', labelsize=12)\n",
    "\n",
    "column_width_cm = 8.9\n",
    "width_cm = 1.4 * column_width_cm\n",
    "hieght_cm = width_cm / 1.618\n",
    "width_inches = width_cm/2.5\n",
    "hieght_inches = hieght_cm/2.5\n",
    "fig.set_size_inches(width_inches, hieght_inches)\n",
    "plt.tight_layout()\n",
    "\n",
    "plt.savefig('./figs/K_cumulative_area_depth.pdf')\n",
    "plt.savefig('./figs/K_cumulative_area_depth.png')"
   ]
  },
  {
   "cell_type": "code",
   "execution_count": null,
   "metadata": {},
   "outputs": [],
   "source": [
    "K_p25, K_p50, K_p75 = np.nanpercentile(K_table['ferr_K_min'][good ] * 3.,[25, 50, 75])\n",
    "\"\"\"\n",
    "The K band has coverage over {} square degrees with  3 sigma \n",
    "depths at the 25th, 50th and 75th percentiles of {}, {}, {} respectively.\"\"\".format(total_area_K, K_p25, K_p50, K_p75)"
   ]
  },
  {
   "cell_type": "markdown",
   "metadata": {},
   "source": [
    "And in mags as per reviewer request"
   ]
  },
  {
   "cell_type": "code",
   "execution_count": null,
   "metadata": {},
   "outputs": [],
   "source": [
    "K_table['hp_idx_o_10', 'ferr_K_min']\n",
    "\n",
    "fig, ax = plt.subplots()\n",
    "\n",
    "good = np.log10(np.array(K_table['ferr_K_min'])*1.e-6) > -20\n",
    "good &= np.log10(np.array(K_table['ferr_K_min'])*1.e-6) <20\n",
    "\n",
    "#cells, fluxes = np.histogram(np.log10(np.array(K_table['ferr_K_min'][good ])*1.e-6), bins=100)\n",
    "\n",
    "K_pix_mag_depths, _ = flux_to_mag(np.array(K_table['ferr_K_min'][good ])*1.e-6*5)\n",
    "cells, fluxes = np.histogram(K_pix_mag_depths, bins=1000)\n",
    "cells =np.flip(cells)\n",
    "fluxes = np.flip(fluxes)\n",
    "\n",
    "\n",
    "\n",
    "ax.plot(fluxes[1:],\n",
    "         np.cumsum(cells)*total_area_K/cells.sum() ,\n",
    "        drawstyle='steps')\n",
    "\n",
    "ax.set_xlabel('5$\\sigma$ $K$ or $Ks$ depth [mag]')\n",
    "ax.set_ylabel('Cumulative area [deg.$^2$]')\n",
    "ax.set_xlim([22,19])\n",
    "ax.set_ylim([0,1200])\n",
    "#y_vals = ax.get_yticks()\n",
    "#ax.set_yticklabels([n for n in y_vals])\n",
    "\n",
    "plt.rc('font', family='serif', serif='Times')\n",
    "plt.rc('text') #, usetex=True)\n",
    "plt.rc('xtick', labelsize=12)\n",
    "plt.rc('ytick', labelsize=12)\n",
    "plt.rc('axes', labelsize=12)\n",
    "\n",
    "column_width_cm = 8.9\n",
    "width_cm = 1.0 * column_width_cm\n",
    "hieght_cm = width_cm \n",
    "width_inches = width_cm/2.5\n",
    "hieght_inches = hieght_cm/2.5\n",
    "fig.set_size_inches(width_inches, hieght_inches)\n",
    "\n",
    "\n",
    "plt.savefig('./figs/K_cumulative_area_depth_mag.pdf', bbox_inches='tight')\n",
    "plt.savefig('./figs/K_cumulative_area_depth_mag.png', bbox_inches='tight')"
   ]
  },
  {
   "cell_type": "code",
   "execution_count": null,
   "metadata": {},
   "outputs": [],
   "source": []
  },
  {
   "cell_type": "code",
   "execution_count": null,
   "metadata": {},
   "outputs": [],
   "source": [
    "K_p25, K_p50, K_p75 = np.nanpercentile(K_pix_mag_depths,[25, 50, 75])\n",
    "(\"The K or Ks band has coverage over {} square degrees with  5 sigma\"  +\n",
    "\"depths at the 25th, 50th and 75th percentiles of {}, {}, {} respectively.\").format(total_area_K, K_p25, K_p50, K_p75)"
   ]
  },
  {
   "cell_type": "markdown",
   "metadata": {},
   "source": [
    "## Make a table of bands available on each field"
   ]
  },
  {
   "cell_type": "code",
   "execution_count": null,
   "metadata": {},
   "outputs": [],
   "source": [
    "bands = ['u', 'g', 'r', 'i', 'z', 'y',\n",
    "        'J', 'H', 'K', 'Ks',\n",
    "        'i1', 'i2', 'i3', 'i4']"
   ]
  },
  {
   "cell_type": "code",
   "execution_count": null,
   "metadata": {},
   "outputs": [],
   "source": [
    "spaced_list = ''\n",
    "for m, band in enumerate(bands):\n",
    "    specific_bands = [f for f in filters if f.split('_')[1] == band.lower()]\n",
    "    for specific_band in specific_bands:\n",
    "        spaced_list = spaced_list + ', ferr_ap_' + specific_band + '_mean'\n",
    "        \n",
    "spaced_list = spaced_list.replace(' ferr_ap_lbc_u_mean,', '')\n",
    "spaced_list = spaced_list.replace(' ferr_ap_lbc_y_mean,', '')"
   ]
  },
  {
   "cell_type": "code",
   "execution_count": null,
   "metadata": {},
   "outputs": [],
   "source": [
    "spaced_list"
   ]
  },
  {
   "cell_type": "code",
   "execution_count": null,
   "metadata": {},
   "outputs": [],
   "source": [
    "\n",
    "query = \"\"\"\n",
    "SELECT DISTINCT hp_idx_O_10{}\n",
    "FROM depth.main\n",
    "\"\"\".format(spaced_list)\n",
    "job = service.submit_job(query)\n",
    "job.run()\n",
    "job_url = job.url\n",
    "job_result = vo.dal.tap.AsyncTAPJob(job_url)\n",
    "start_time = time.time()\n",
    "print(time.time())\n",
    "while job.phase == 'EXECUTING':\n",
    "    print('Job still running after {} seconds.'.format(round(time.time() - start_time)))\n",
    "    time.sleep(50) #wait ten seconds and try again\n",
    "    \n",
    "print(job.phase)\n",
    "print('Fetching result', time.time())\n",
    "table = job_result.fetch_result()"
   ]
  },
  {
   "cell_type": "code",
   "execution_count": null,
   "metadata": {},
   "outputs": [],
   "source": [
    "depth_table = table.table\n",
    "depth_table "
   ]
  },
  {
   "cell_type": "code",
   "execution_count": null,
   "metadata": {},
   "outputs": [],
   "source": [
    "cosmos_coverage = Table.read('../../../dmu1/dmu1_ml_COSMOS/data/depths_cosmos_20190402.fits')"
   ]
  },
  {
   "cell_type": "code",
   "execution_count": null,
   "metadata": {},
   "outputs": [],
   "source": [
    "cosmos_coverage[:10].show_in_notebook()"
   ]
  },
  {
   "cell_type": "code",
   "execution_count": null,
   "metadata": {},
   "outputs": [],
   "source": [
    "np.sum(~np.isnan(cosmos_coverage['ferr_irac_i1_mean']))"
   ]
  },
  {
   "cell_type": "code",
   "execution_count": null,
   "metadata": {},
   "outputs": [],
   "source": [
    "plt.hist(cosmos_coverage[~np.isnan(cosmos_coverage['ferr_irac_i1_mean'])]['ferr_irac_i1_mean'], bins=100)"
   ]
  },
  {
   "cell_type": "code",
   "execution_count": null,
   "metadata": {},
   "outputs": [],
   "source": [
    "#We use total here because apertur fluxes are absent\n",
    "cosmos_coverage['ferr_irac_i1_mean'].name = 'ferr_ap_irac_i1_mean'\n",
    "cosmos_coverage['ferr_irac_i2_mean'].name = 'ferr_ap_irac_i2_mean'\n",
    "cosmos_coverage['ferr_irac_i3_mean'].name = 'ferr_ap_irac_i3_mean'\n",
    "cosmos_coverage['ferr_irac_i4_mean'].name = 'ferr_ap_irac_i4_mean'"
   ]
  },
  {
   "cell_type": "code",
   "execution_count": null,
   "metadata": {},
   "outputs": [],
   "source": [
    "cosmos_coverage['hp_idx_O_10'].name='hp_idx_o_10'"
   ]
  },
  {
   "cell_type": "code",
   "execution_count": null,
   "metadata": {},
   "outputs": [],
   "source": [
    "len(cosmos_coverage)"
   ]
  },
  {
   "cell_type": "code",
   "execution_count": null,
   "metadata": {},
   "outputs": [],
   "source": [
    "len(np.unique(cosmos_coverage['hp_idx_o_10']))"
   ]
  },
  {
   "cell_type": "code",
   "execution_count": null,
   "metadata": {},
   "outputs": [],
   "source": [
    "cosmos_coverage.sort('hp_idx_o_10')\n",
    "is_duplicate = cosmos_coverage['hp_idx_o_10'][1:] == cosmos_coverage['hp_idx_o_10'][:-1]\n",
    "#np.append(is_duplicate,False)\n",
    "cosmos_coverage = cosmos_coverage[~np.append(is_duplicate,False)]"
   ]
  },
  {
   "cell_type": "code",
   "execution_count": null,
   "metadata": {},
   "outputs": [],
   "source": [
    "len(cosmos_coverage)"
   ]
  },
  {
   "cell_type": "code",
   "execution_count": null,
   "metadata": {},
   "outputs": [],
   "source": [
    "shared_cols = set(cosmos_coverage.colnames).intersection(set(depth_table.colnames))"
   ]
  },
  {
   "cell_type": "code",
   "execution_count": null,
   "metadata": {},
   "outputs": [],
   "source": [
    "shared_cols"
   ]
  },
  {
   "cell_type": "code",
   "execution_count": null,
   "metadata": {},
   "outputs": [],
   "source": [
    "cosmos_pixels = np.in1d(depth_table['hp_idx_o_10'], np.unique(cosmos_coverage['hp_idx_o_10']))"
   ]
  },
  {
   "cell_type": "code",
   "execution_count": null,
   "metadata": {},
   "outputs": [],
   "source": [
    "np.sum(cosmos_pixels)"
   ]
  },
  {
   "cell_type": "code",
   "execution_count": null,
   "metadata": {},
   "outputs": [],
   "source": [
    "len(depth_table)"
   ]
  },
  {
   "cell_type": "code",
   "execution_count": null,
   "metadata": {},
   "outputs": [],
   "source": [
    "depth_table= depth_table[~cosmos_pixels]\n",
    "len(depth_table)"
   ]
  },
  {
   "cell_type": "code",
   "execution_count": null,
   "metadata": {},
   "outputs": [],
   "source": [
    "\n",
    "depth_table = vstack([depth_table, cosmos_coverage[list(shared_cols)]])\n",
    "len(depth_table)"
   ]
  },
  {
   "cell_type": "code",
   "execution_count": null,
   "metadata": {},
   "outputs": [],
   "source": [
    "\n",
    "for col in depth_table.colnames:\n",
    "    if depth_table[col].dtype == 'float64':\n",
    "        depth_table[col].fill_value = np.nan\n",
    "    if col.startswith('ferr'):\n",
    "        depth_table[col][depth_table[col] < 1.e-3] *= 1.e6 \n",
    "    \n",
    "depth_table = depth_table.filled()\n",
    "coverage = Table()\n",
    "coverage.add_column(Column(data=depth_table['hp_idx_o_10'], name='hp_idx_o_10'))\n",
    "for band in bands:\n",
    "    specific_bands = [f for f in filters if f.split('_')[1] == band.lower()]\n",
    "    print(specific_bands)\n",
    "    for specific_band in specific_bands:\n",
    "        if 'ferr_ap_{}_mean'.format(specific_band) not in depth_table.colnames:\n",
    "            specific_bands.remove(specific_band)\n",
    "    print(specific_bands)\n",
    "    lowest_depths = np.nanmin([depth_table[column] for column in \n",
    "                               ['ferr_ap_{}_mean'.format(s) for s in specific_bands]]\n",
    "                              , axis=0)\n",
    "    \n",
    "    coverage.add_column(Column(data=lowest_depths, name='ferr_ap_{}_mean_min'.format(band)))"
   ]
  },
  {
   "cell_type": "code",
   "execution_count": null,
   "metadata": {},
   "outputs": [],
   "source": [
    "coverage"
   ]
  },
  {
   "cell_type": "code",
   "execution_count": null,
   "metadata": {},
   "outputs": [],
   "source": [
    "#for m, band in enumerate(bands):\n",
    "#    field_coverages.add_column(Column(data=np.full(len(field_coverages), np.nan), name='ferr_ap_{}_mean_median'.format(band)))\n",
    "\n",
    "fields_table = Table()\n",
    "for n, field in enumerate(fields['fields']):\n",
    "    field_moc = MOC(filename=field['region'].replace('dmu_products/', '../../../'))\n",
    "    field_cells= Table()\n",
    "    field_cells.add_column(Column(data=list(field_moc.flattened(order=10)), name='hp_idx_o_10'))\n",
    "    field_cells.add_column(Column(data=np.full(len(field_cells), field['name'] ), name='field'))\n",
    "    fields_table = vstack([fields_table, field_cells])\n",
    "                           \n"
   ]
  },
  {
   "cell_type": "code",
   "execution_count": null,
   "metadata": {},
   "outputs": [],
   "source": [
    "coverage = join(coverage, fields_table, join_type='left', keys='hp_idx_o_10')"
   ]
  },
  {
   "cell_type": "code",
   "execution_count": null,
   "metadata": {},
   "outputs": [],
   "source": [
    "coverage.write('./data/coverage_band_overview.fits', overwrite=True)"
   ]
  },
  {
   "cell_type": "code",
   "execution_count": null,
   "metadata": {},
   "outputs": [],
   "source": [
    "coverage = Table.read('./data/coverage_band_overview.fits')"
   ]
  },
  {
   "cell_type": "code",
   "execution_count": null,
   "metadata": {},
   "outputs": [],
   "source": [
    "coverage"
   ]
  },
  {
   "cell_type": "markdown",
   "metadata": {},
   "source": [
    "## Make field summaries"
   ]
  },
  {
   "cell_type": "code",
   "execution_count": null,
   "metadata": {},
   "outputs": [],
   "source": [
    "order10_area = MOC(order=10, cells=[1]).area_sq_deg\n",
    "order10_area"
   ]
  },
  {
   "cell_type": "code",
   "execution_count": null,
   "metadata": {},
   "outputs": [],
   "source": [
    "#Make a list of all bands\n",
    "#this was too slow so tried to run whole query at once\n",
    "field_coverages = Table()\n",
    "field_coverages.add_column(Column(data=[field['name'] for field in fields['fields']], name='field' ))\n",
    "\n",
    "for m, band in enumerate(bands):\n",
    "    field_coverages.add_column(Column(data=np.full(len(field_coverages), np.nan), \n",
    "                                      name='{}_band_area'.format(band)))\n",
    "    field_coverages.add_column(Column(data=np.full(len(field_coverages), np.nan), \n",
    "                                      name='ferr_ap_{}_mean_meadian'.format(band)))\n",
    "\n",
    "\n",
    "for n, field in enumerate(fields['fields']):\n",
    "    in_field = coverage['field'] == field['name']\n",
    "    for m, band in enumerate(bands):\n",
    "        has_band = in_field & ~np.isnan(coverage['ferr_ap_{}_mean_min'.format(band)])\n",
    "        area = np.sum(has_band) * order10_area\n",
    "        \n",
    "        field_coverages['{}_band_area'.format(band)][field_coverages['field'] == field['name']] = area\n",
    "        \n",
    "        if np.sum(has_band) != 0:\n",
    "            depth_median = np.nanmedian(coverage['ferr_ap_{}_mean_min'.format(band)][has_band])\n",
    "            depth_max = np.nanmax(coverage['ferr_ap_{}_mean_min'.format(band)][has_band])\n",
    "        else:\n",
    "            depth_median = np.nan\n",
    "            depth_max = np.nan\n",
    "        \n",
    "        field_coverages['ferr_ap_{}_mean_meadian'.format(band)][field_coverages['field'] == field['name']] = depth_median\n",
    "        \n",
    "        if band == 'i1':\n",
    "            print(\"Field: {}, {} band coverage: {}, median depth = {}, max depth = {}\".format(field['name'],\n",
    "                                                       band,\n",
    "                                                       area,\n",
    "                                                       depth_median,\n",
    "                                                       depth_max))\n",
    "        \n",
    "        \n",
    "            "
   ]
  },
  {
   "cell_type": "code",
   "execution_count": null,
   "metadata": {},
   "outputs": [],
   "source": [
    "field_coverages"
   ]
  },
  {
   "cell_type": "code",
   "execution_count": null,
   "metadata": {},
   "outputs": [],
   "source": [
    "field_coverages['field', 'ferr_ap_i1_mean_meadian'][field_coverages['ferr_ap_i1_mean_meadian'] > 10]"
   ]
  },
  {
   "cell_type": "code",
   "execution_count": null,
   "metadata": {},
   "outputs": [],
   "source": [
    "field_coverages.write('./data/field_coverages_band_overview.fits', overwrite=True)"
   ]
  },
  {
   "cell_type": "code",
   "execution_count": null,
   "metadata": {},
   "outputs": [],
   "source": [
    "field_coverages = Table.read('./data/field_coverages_band_overview.fits')"
   ]
  },
  {
   "cell_type": "code",
   "execution_count": null,
   "metadata": {},
   "outputs": [],
   "source": [
    "table = 'field '\n",
    "for band in bands:\n",
    "    table += '& \\\\multicolumn{2}{c}{' + band + '}'\n",
    "    \n",
    "table += ' \\\\\\\\ \\n'\n",
    "\n",
    "table += '\\\\cline{1-29} \\n'\n",
    "\n",
    "for band in bands:\n",
    "    table += '& a & \\\\sigma '\n",
    "\n",
    "table += '\\\\\\\\ \\n'"
   ]
  },
  {
   "cell_type": "code",
   "execution_count": null,
   "metadata": {},
   "outputs": [],
   "source": [
    "len('AKARI-NEP&&&9.6&1.5&9.6&1.6&9.6&1.5&9.6&3.2&9.6&7.2&&&&&&&&&7.2&1.7&7.2&1.4&&&&\\\\'.split('&'))"
   ]
  },
  {
   "cell_type": "code",
   "execution_count": null,
   "metadata": {},
   "outputs": [],
   "source": [
    "print(table)"
   ]
  },
  {
   "cell_type": "code",
   "execution_count": null,
   "metadata": {},
   "outputs": [],
   "source": [
    "\n",
    "\n",
    "for n, field in enumerate(field_coverages):\n",
    "    latex = ''\n",
    "    for element in field:\n",
    "\n",
    "\n",
    "        if isinstance(element , float):\n",
    "            if np.isnan(element):\n",
    "                element = ''\n",
    "            elif np.isclose(element, 0.0):\n",
    "                element = ''\n",
    "            else:\n",
    "                element = round(element,1)\n",
    "\n",
    "\n",
    "        \n",
    "        latex +=  str(element) + '&' \n",
    "    print(latex[:-1] + '\\\\\\\\')\n",
    "    table += latex[:-1] + '\\\\\\\\ \\n'\n",
    "\n",
    "table += '\\\\hline'"
   ]
  },
  {
   "cell_type": "code",
   "execution_count": null,
   "metadata": {},
   "outputs": [],
   "source": [
    "print(table)"
   ]
  },
  {
   "cell_type": "code",
   "execution_count": null,
   "metadata": {},
   "outputs": [],
   "source": [
    "round(np.nan,2)"
   ]
  },
  {
   "cell_type": "markdown",
   "metadata": {},
   "source": [
    "## Plot general overview of depths"
   ]
  },
  {
   "cell_type": "code",
   "execution_count": null,
   "metadata": {},
   "outputs": [],
   "source": [
    "def depths_sample(band):\n",
    "    mask = ~np.isnan(coverage['ferr_ap_{}_mean_min'.format(band)])\n",
    "    mask &= coverage['ferr_ap_{}_mean_min'.format(band)] > 0.\n",
    "    mask &= coverage['ferr_ap_{}_mean_min'.format(band)] <1.e3\n",
    "    area = (np.sum(mask)/len(coverage)) * 1270.\n",
    "    return np.log10(np.array(coverage['ferr_ap_{}_mean_min'.format(band)][mask]) *5.e-6 ), area\n",
    "    \n",
    "\n",
    "data = [ depths_sample(band)[0] for band in bands ]\n",
    "areas = [ depths_sample(band)[1] for band in bands ]"
   ]
  },
  {
   "cell_type": "code",
   "execution_count": null,
   "metadata": {},
   "outputs": [],
   "source": [
    "bands"
   ]
  },
  {
   "cell_type": "code",
   "execution_count": null,
   "metadata": {},
   "outputs": [],
   "source": [
    "bands_fir = ['u', 'g', 'r', 'i', 'z', 'y', 'J', 'H', 'K', 'Ks', 'i1', 'i2', 'i3', 'i4', \n",
    "             '24', '100', '160', '250', '350', '500']"
   ]
  },
  {
   "cell_type": "code",
   "execution_count": null,
   "metadata": {},
   "outputs": [],
   "source": [
    "en1_depths = Table.read('../../../dmu32/dmu32_ELAIS-N1/data/depths_elais-n1_20171016.fits'\n",
    "                       )['hp_idx_O_10', \n",
    "           'ferr_mips_24_mean',\n",
    "           'ferr_pacs_green_mean',\n",
    "           'ferr_pacs_red_mean',\n",
    "           'ferr_spire_250_mean',\n",
    "           'ferr_spire_350_mean',\n",
    "           'ferr_spire_500_mean']\n",
    "en1_depths['hp_idx_O_10'].name = 'hp_idx_o_10'"
   ]
  },
  {
   "cell_type": "code",
   "execution_count": null,
   "metadata": {},
   "outputs": [],
   "source": [
    "len(en1_depths)"
   ]
  },
  {
   "cell_type": "code",
   "execution_count": null,
   "metadata": {},
   "outputs": [],
   "source": [
    "en1_depths.sort('hp_idx_o_10')\n",
    "is_duplicate = en1_depths['hp_idx_o_10'][1:] == en1_depths['hp_idx_o_10'][:-1]\n",
    "#np.append(is_duplicate,False)\n",
    "en1_coverage = en1_depths[~np.append(is_duplicate,False)]"
   ]
  },
  {
   "cell_type": "code",
   "execution_count": null,
   "metadata": {},
   "outputs": [],
   "source": [
    "len(en1_coverage)"
   ]
  },
  {
   "cell_type": "code",
   "execution_count": null,
   "metadata": {},
   "outputs": [],
   "source": [
    "full_coverage = join(coverage, en1_coverage, join_type='left', keys='hp_idx_o_10')"
   ]
  },
  {
   "cell_type": "code",
   "execution_count": null,
   "metadata": {},
   "outputs": [],
   "source": [
    "full_coverage"
   ]
  },
  {
   "cell_type": "code",
   "execution_count": null,
   "metadata": {},
   "outputs": [],
   "source": [
    "full_names = {\n",
    "    '24':'mips_24', \n",
    "    '100':'pacs_green', \n",
    "    '160':'pacs_red', \n",
    "    '250':'spire_250', \n",
    "    '350':'spire_350', \n",
    "    '500':'spire_500'\n",
    "}\n",
    "def depths_sample(band):\n",
    "    if band in ['24', '100', '160', '250', '350', '500']:\n",
    "        band = full_names[band] \n",
    "        mask = ~np.isnan(full_coverage['ferr_{}_mean'.format(band)])\n",
    "        mask &= full_coverage['ferr_{}_mean'.format(band)] > 0.\n",
    "        #mask &= full_coverage['ferr_{}_mean'.format(band)] <1.e3\n",
    "        area = (np.sum(mask)/len(full_coverage)) * 1270. * (1270./14.)\n",
    "        return np.log10(np.array(full_coverage['ferr_{}_mean'.format(band)][mask]) *5.e-6 ), area\n",
    "    else:\n",
    "        mask = ~np.isnan(coverage['ferr_ap_{}_mean_min'.format(band)])\n",
    "        mask &= full_coverage['ferr_ap_{}_mean_min'.format(band)] > 0.\n",
    "        mask &= full_coverage['ferr_ap_{}_mean_min'.format(band)] <1.e3\n",
    "        area = (np.sum(mask)/len(full_coverage)) * 1270.\n",
    "        return np.log10(np.array(full_coverage['ferr_ap_{}_mean_min'.format(band)][mask]) *5.e-6 ), area\n",
    "    \n",
    "\n",
    "data = [ depths_sample(band)[0] for band in bands_fir ]\n",
    "areas = [ depths_sample(band)[1] for band in bands_fir ]"
   ]
  },
  {
   "cell_type": "code",
   "execution_count": null,
   "metadata": {},
   "outputs": [],
   "source": [
    "len(data)"
   ]
  },
  {
   "cell_type": "code",
   "execution_count": null,
   "metadata": {},
   "outputs": [],
   "source": [
    "\n",
    "\n",
    "# fake data\n",
    "fs = 10  # fontsize\n",
    "#pos = [1, 2, 4, 5, 7, 8]\n",
    "#data = np.array([np.array(coverage['ferr_ap_{}_mean_min'.format(b)]) for b in bands]).T\n",
    "\n",
    "cmap = mpl.cm.viridis\n",
    "norm = mpl.colors.Normalize(vmin=np.min(areas), vmax=np.max(areas))\n",
    "scalmap = mpl.cm.ScalarMappable( cmap=cmap, norm=norm)\n",
    "colors = scalmap.to_rgba(areas)   # The color is the angle\n",
    "colors[:, 3] = 1\n",
    "\n",
    "fig, ax = plt.subplots()\n",
    "\n",
    "def set_axis_style(ax, labels):\n",
    "    ax.get_xaxis().set_tick_params(direction='out')\n",
    "    ax.xaxis.set_ticks_position('bottom')\n",
    "    ax.set_xticks(np.arange(1, len(labels) + 1))\n",
    "    ax.set_xticklabels(labels)\n",
    "    ax.set_xlim(0.25, len(labels) + 0.75)\n",
    "    ax.set_xlabel('band')\n",
    "\n",
    "#ax.violinplot(np.array(coverage['ferr_ap_{}_mean_min'.format('g') ] ) )\n",
    "#ax.set_title('Custom violinplot 1', fontsize=fs)\n",
    "\n",
    "ax.set_ylabel('log10( 5$\\sigma$ Depths  [Jy] )')\n",
    "set_axis_style(ax, ['$' + band + '$' for band in bands_fir])\n",
    "ax.set_ylim(-7, 0)\n",
    "\n",
    "\n",
    "\n",
    "parts = ax.violinplot(data, showmeans=False, showmedians=False,\n",
    "        showextrema=False)\n",
    "\n",
    "for n, part in enumerate(parts['bodies']):\n",
    "    part.set_facecolor(colors[n])\n",
    "    part.set_alpha(1)\n",
    "\n",
    "cax, _ = mpl.colorbar.make_axes(ax)\n",
    "n_ticks = 7\n",
    "values = np.linspace(0,1200, n_ticks)\n",
    "ticks = values/np.max(areas)\n",
    "\n",
    "cbar = mpl.colorbar.ColorbarBase(cax, cmap=cmap, ticks = ticks)\n",
    "cax.set_yticklabels([int(d) for d in values])\n",
    "cbar.set_label('area [square degrees]')\n",
    "\n",
    "plt.rc('font', family='serif', serif='Times')\n",
    "plt.rc('text') #, usetex=True)\n",
    "plt.rc('xtick', labelsize=12)\n",
    "plt.rc('ytick', labelsize=12)\n",
    "plt.rc('axes', labelsize=12)\n",
    "\n",
    "#fig.suptitle(\"Violin Plotting Examples\")\n",
    "#fig.subplots_adjust(hspace=0.4)\n",
    "#plt.ylim(-10,10)\n",
    "column_width_cm = 8.9\n",
    "width_cm = 3.0 * column_width_cm\n",
    "hieght_cm = width_cm / 1.9\n",
    "width_inches = width_cm/2.5\n",
    "hieght_inches = hieght_cm/2.5\n",
    "fig.set_size_inches(width_inches, hieght_inches)\n",
    "\n",
    "plt.savefig('./figs/band_depths_overviews.pdf', bbox_inches='tight')\n",
    "plt.savefig('./figs/band_depths_overviews.png', bbox_inches='tight')"
   ]
  },
  {
   "cell_type": "code",
   "execution_count": null,
   "metadata": {},
   "outputs": [],
   "source": [
    "widths = [np.max(np.histogram(data[n], bins = 100, density = True)[0])*areas[n] for n in np.arange(len(data)) ]\n",
    "widths /= np.max(widths)\n",
    "\n",
    "print(widths)"
   ]
  },
  {
   "cell_type": "code",
   "execution_count": null,
   "metadata": {},
   "outputs": [],
   "source": [
    "# fake data\n",
    "fs = 10  # fontsize\n",
    "#pos = [1, 2, 4, 5, 7, 8]\n",
    "#data = np.array([np.array(coverage['ferr_ap_{}_mean_min'.format(b)]) for b in bands]).T\n",
    "\n",
    "cmap = mpl.cm.viridis\n",
    "norm = mpl.colors.Normalize(vmin=np.min(areas), vmax=np.max(areas))\n",
    "scalmap = mpl.cm.ScalarMappable( cmap=cmap, norm=norm)\n",
    "colors = scalmap.to_rgba(areas)   # The color is the angle\n",
    "colors[:, 3] = 1\n",
    "\n",
    "fig, ax = plt.subplots()\n",
    "\n",
    "def set_axis_style(ax, labels):\n",
    "    ax.get_xaxis().set_tick_params(direction='out')\n",
    "    ax.xaxis.set_ticks_position('bottom')\n",
    "    ax.set_xticks(np.arange(1, len(labels) + 1))\n",
    "    ax.set_xticklabels(labels)\n",
    "    ax.set_xlim(0.25, len(labels) + 0.75)\n",
    "    ax.set_xlabel('band')\n",
    "\n",
    "#ax.violinplot(np.array(coverage['ferr_ap_{}_mean_min'.format('g') ] ) )\n",
    "#ax.set_title('Custom violinplot 1', fontsize=fs)\n",
    "\n",
    "ax.set_ylabel('log10( 5$\\sigma$ Depths  [Jy] )')\n",
    "set_axis_style(ax, ['$' + band + '$' for band in bands_fir])\n",
    "ax.set_ylim(-7, 0)\n",
    "\n",
    "\n",
    "#areas/np.max(areas)\n",
    "parts = ax.violinplot(data, widths=widths, showmeans=False, showmedians=False,\n",
    "        showextrema=False)\n",
    "\n",
    "for n, part in enumerate(parts['bodies']):\n",
    "    part.set_facecolor(colors[n])\n",
    "    part.set_alpha(1)\n",
    "\n",
    "cax, _ = mpl.colorbar.make_axes(ax)\n",
    "n_ticks = 7\n",
    "values = np.linspace(0,1200, n_ticks)\n",
    "ticks = values/np.max(areas)\n",
    "\n",
    "cbar = mpl.colorbar.ColorbarBase(cax, cmap=cmap, ticks = ticks)\n",
    "cax.set_yticklabels([int(d) for d in values])\n",
    "cbar.set_label('Area [square degrees]')\n",
    "\n",
    "plt.rc('font', family='serif', serif='Times')\n",
    "plt.rc('text') #, usetex=True)\n",
    "plt.rc('xtick', labelsize=12)\n",
    "plt.rc('ytick', labelsize=12)\n",
    "plt.rc('axes', labelsize=12)\n",
    "\n",
    "#fig.suptitle(\"Violin Plotting Examples\")\n",
    "#fig.subplots_adjust(hspace=0.4)\n",
    "#plt.ylim(-10,10)\n",
    "column_width_cm = 8.9\n",
    "width_cm = 3.0 * column_width_cm\n",
    "hieght_cm = width_cm / 1.9\n",
    "width_inches = width_cm/2.5\n",
    "hieght_inches = hieght_cm/2.5\n",
    "fig.set_size_inches(width_inches, hieght_inches)\n",
    "\n",
    "plt.savefig('./figs/band_depths_overviews_areaweighted.pdf', bbox_inches='tight')\n",
    "plt.savefig('./figs/band_depths_overviews_areaweighted.png', bbox_inches='tight')"
   ]
  },
  {
   "cell_type": "code",
   "execution_count": null,
   "metadata": {},
   "outputs": [],
   "source": [
    "# fake data\n",
    "fs = 10  # fontsize\n",
    "#pos = [1, 2, 4, 5, 7, 8]\n",
    "#data = np.array([np.array(coverage['ferr_ap_{}_mean_min'.format(b)]) for b in bands]).T\n",
    "\n",
    "cmap = mpl.cm.viridis\n",
    "norm = mpl.colors.Normalize(vmin=np.min(areas), vmax=np.max(areas))\n",
    "scalmap = mpl.cm.ScalarMappable( cmap=cmap, norm=norm)\n",
    "colors = scalmap.to_rgba(areas)   # The color is the angle\n",
    "colors[:, 3] = 1\n",
    "\n",
    "fig, ax = plt.subplots()\n",
    "\n",
    "def set_axis_style(ax, labels):\n",
    "    ax.get_xaxis().set_tick_params(direction='out')\n",
    "    ax.xaxis.set_ticks_position('bottom')\n",
    "    ax.set_xticks(np.arange(1, len(labels) + 1))\n",
    "    ax.set_xticklabels(labels)\n",
    "    ax.set_xlim(0.25, len(labels) + 0.75)\n",
    "    ax.set_xlabel('band')\n",
    "\n",
    "#ax.violinplot(np.array(coverage['ferr_ap_{}_mean_min'.format('g') ] ) )\n",
    "#ax.set_title('Custom violinplot 1', fontsize=fs)\n",
    "\n",
    "ax.set_ylabel('log10( 5$\\sigma$ Depths  [Jy] )')\n",
    "set_axis_style(ax, ['$' + band + '$' for band in bands_fir])\n",
    "ax.set_ylim(-7, 0)\n",
    "\n",
    "\n",
    "\n",
    "parts = ax.violinplot(data, widths=np.log10(areas)/np.log10(np.max(areas)), showmeans=False, showmedians=False,\n",
    "        showextrema=False)\n",
    "\n",
    "for n, part in enumerate(parts['bodies']):\n",
    "    part.set_facecolor(colors[n])\n",
    "    part.set_alpha(1)\n",
    "\n",
    "cax, _ = mpl.colorbar.make_axes(ax)\n",
    "n_ticks = 7\n",
    "values = np.linspace(0,1200, n_ticks)\n",
    "ticks = values/np.max(areas)\n",
    "\n",
    "cbar = mpl.colorbar.ColorbarBase(cax, cmap=cmap, ticks = ticks)\n",
    "cax.set_yticklabels([int(d) for d in values])\n",
    "cbar.set_label('area [square degrees]')\n",
    "\n",
    "plt.rc('font', family='serif', serif='Times')\n",
    "plt.rc('text') #, usetex=True)\n",
    "plt.rc('xtick', labelsize=12)\n",
    "plt.rc('ytick', labelsize=12)\n",
    "plt.rc('axes', labelsize=12)\n",
    "\n",
    "#fig.suptitle(\"Violin Plotting Examples\")\n",
    "#fig.subplots_adjust(hspace=0.4)\n",
    "#plt.ylim(-10,10)\n",
    "column_width_cm = 8.9\n",
    "width_cm = 3.0 * column_width_cm\n",
    "hieght_cm = width_cm / 1.9\n",
    "width_inches = width_cm/2.5\n",
    "hieght_inches = hieght_cm/2.5\n",
    "fig.set_size_inches(width_inches, hieght_inches)\n",
    "\n",
    "plt.savefig('./figs/band_depths_overviews_logareaweighted.pdf', bbox_inches='tight')\n",
    "plt.savefig('./figs/band_depths_overviews_logareaweighted.png', bbox_inches='tight')"
   ]
  },
  {
   "cell_type": "markdown",
   "metadata": {},
   "source": [
    "## Add SED to plot"
   ]
  },
  {
   "cell_type": "code",
   "execution_count": null,
   "metadata": {},
   "outputs": [],
   "source": [
    "#s.add_contribution(\"HELP_SED\", orig_spec['WAVE'], orig_spec['LUMIN'])"
   ]
  },
  {
   "cell_type": "code",
   "execution_count": null,
   "metadata": {},
   "outputs": [],
   "source": [
    "cigale_filternames = {\n",
    "    'u':  'u_prime',\n",
    "    'g':  'MCam_g',\n",
    "    'r':  'MCam_r',\n",
    "    'i':  'MCam_i',\n",
    "    'z':  'MCam_z',\n",
    "    'y':  'WFCAM_Y',\n",
    "    'J':  'WFCAM_J',\n",
    "    'H':  'WFI_H',\n",
    "    'K':  'WFI_K',\n",
    "    'Ks': 'Ks_2mass',\n",
    "    'i1': 'IRAC1',\n",
    "    'i2': 'IRAC2',\n",
    "    'i3': 'IRAC3',\n",
    "    'i4': 'IRAC4'\n",
    "}"
   ]
  },
  {
   "cell_type": "code",
   "execution_count": null,
   "metadata": {},
   "outputs": [],
   "source": [
    "\n",
    "\n",
    "\n",
    "gal1 = './data/HELP_J095946.083p021914.438_best_model.fits'\n",
    "gal2 = './data/HELP_J100130.443p020929.494_best_model.fits'\n",
    "gal3 = './data/HELP_J095809.302p013203.775_best_model.fits'\n",
    "gal4 = './data/HELP_J095822.986p013145.336_best_model.figs'\n",
    "gal5 = './data/HELP_J003412.527-441056.846_best_model.fits'  #z=4\n",
    "gal6 = './data/HELP_J095738.934+021508.530_best_model.fits' #From hedam - high fluxes\n",
    "gal7 = './data/HELP_J095818.598+013057.910_best_model.fits'\n",
    "gal8 = './data/HELP_J095809.488+013225.513_best_model.fits'\n",
    "gal9 = './data/HELP_J100108.952+022730.528_best_model.fits'\n",
    "orig_spec = Table.read(gal9)\n",
    "        \n",
    "s = SED()\n",
    "    # This is wrong because the best SED we get from CIGALE is redshifted (written by Yannick)\n",
    "s.add_contribution(\"HELP_SED\", orig_spec['wavelength'], orig_spec['L_lambda_total'])\n",
    "    \n",
    "#z=1\n",
    "zs = np.arange(1, 5, 1)\n",
    "\n",
    "\n"
   ]
  },
  {
   "cell_type": "code",
   "execution_count": null,
   "metadata": {},
   "outputs": [],
   "source": [
    "gal_fluxes = np.full([len(zs), len(bands)], np.nan)"
   ]
  },
  {
   "cell_type": "raw",
   "metadata": {},
   "source": [
    "\n",
    "for n, z in enumerate(zs):\n",
    "    print('z = {}:'.format(z))\n",
    "    sed = s.copy()\n",
    "    mod = get_module(\"redshifting\", redshift=z)\n",
    "    mod.process(sed)\n",
    "    for m, band in enumerate(cigale_filternames):\n",
    "        flux = sed.compute_fnu(cigale_filternames[band])\n",
    "        print(\"{} band: {} mJy\".format(band,flux))\n",
    "        gal_fluxes[n, m] = flux"
   ]
  },
  {
   "cell_type": "code",
   "execution_count": null,
   "metadata": {},
   "outputs": [],
   "source": [
    "fig, ax = plt.subplots()\n",
    "for n, z in enumerate(zs):\n",
    "    print('z = {}:'.format(z))\n",
    "    sed = s.copy()\n",
    "    mod = get_module(\"redshifting\", redshift=z)\n",
    "    mod.process(sed)\n",
    "    ax.plot(np.log10(sed.wavelength_grid), np.log10(sed.fnu * 1.e-3), label=str(z))\n",
    "#ax.plot(np.log10(orig_spec['wavelength']), np.log10(orig_spec['Fnu']))\n",
    "\n",
    "plt.legend()\n",
    "ax.set_ylim(-7, 0)\n",
    "#ax.set_xlim(0, 14.75)"
   ]
  },
  {
   "cell_type": "code",
   "execution_count": null,
   "metadata": {},
   "outputs": [],
   "source": [
    "pos = [3561.,     #u  (SDSS)\n",
    "       4866.,     #g  (GPC1)\n",
    "       6215.,     #r  (GPC1)\n",
    "       7545.,     #i  (GPC1)\n",
    "       8680.,     #z  (GPC1)\n",
    "       9633.,     #y  (GPC1)\n",
    "       12510.,    #J  (UKIRT)\n",
    "       16377.,    #H  (UKIRT)\n",
    "       22081.,    #K   (UKIRT)\n",
    "       21496.,    #Ks (WIRCam)\n",
    "       36000.,    #i1\n",
    "       45000.,    #i2 \n",
    "       56000.,    #i3\n",
    "       80000.,    #i4\n",
    "       240000.,    #mips_24\n",
    "       1000000.,    #pacs_100\n",
    "       1600000.,    #pacs_160\n",
    "       2500000.,    #spire_250\n",
    "       3500000.,    #spire_350\n",
    "       5000000.,    #spire_500\n",
    "      ]   \n",
    "fwhms = [\n",
    "       [3048., 4028.],     #u  (SDSS)\n",
    "       [3943., 5593.],     #g  (GPC1)\n",
    "       [5386., 7036.],     #r  (GPC1)\n",
    "       [6778., 8304.],     #i  (GPC1)\n",
    "       [8028., 9346.],     #z  (GPC1)\n",
    "       [9100., 10838.],     #y  (GPC1)\n",
    "       [11690., 13280],     #J  (UKIRT)\n",
    "       [14920., 17840.],     #H  (UKIRT)\n",
    "       [20290., 23800.],     #K   (UKIRT)\n",
    "       [19578., 23431.],     #Ks (WIRCam)\n",
    "       [31296, 39614 ],     #i1\n",
    "       [39173, 50561],      #i2 \n",
    "       [48983, 65089],     #i3\n",
    "       [62994, 95876],      #i4\n",
    "       [240000.,340000.],    #mips_24 GUESSES!!!!\n",
    "       [1000000.,1500000.],    #pacs_100\n",
    "       [1600000.,1900000.],    #pacs_160\n",
    "       [2500000.,3000000.],    #spire_250\n",
    "       [3500000.,4000000.],    #spire_350\n",
    "       [5000000.,5500000.]    #spire_500\n",
    "        ]"
   ]
  },
  {
   "cell_type": "code",
   "execution_count": null,
   "metadata": {},
   "outputs": [],
   "source": [
    "['${}$'.format(band).replace(\n",
    "    '$Ks$', '').replace(\n",
    "    'K', 'K/Ks').replace(\n",
    "     '100', 'PACS 100/160').replace(\n",
    "     '160', ' ').replace(\n",
    "     '250', 'SPIRE 250/350/500').replace(\n",
    "     '350', ' ').replace(\n",
    "     '500', ' ') for band in bands_fir]"
   ]
  },
  {
   "cell_type": "code",
   "execution_count": null,
   "metadata": {},
   "outputs": [],
   "source": [
    "# fake data\n",
    "fs = 10  # fontsize\n",
    "# Angstroms     \n",
    "\n",
    "\n",
    "#data = np.array([np.array(coverage['ferr_ap_{}_mean_min'.format(b)]) for b in bands]).T\n",
    "\n",
    "cmap = mpl.cm.viridis\n",
    "norm = mpl.colors.Normalize(vmin=np.min(areas), vmax=np.max(areas))\n",
    "scalmap = mpl.cm.ScalarMappable( cmap=cmap, norm=norm)\n",
    "colors = scalmap.to_rgba(areas)   # The color is the angle\n",
    "colors[:, 3] = 1\n",
    "\n",
    "fig, ax = plt.subplots()\n",
    "\n",
    "ax2 = ax.twiny()\n",
    "\n",
    "#ax2.set_xlim(3000., 100000)\n",
    "#ax2.set_xticks(pos)\n",
    "#ax2.set_xticklabels(['$' + band + '$' for band in bands])\n",
    "#ax2.set_xlabel('band')\n",
    "#ax2.set_xscale('log')\n",
    "ax2.set_xlim(np.log10(3000.), np.log10(10000000))\n",
    "ax2.set_xticks(np.log10(pos))\n",
    "ax2.set_xticklabels(['$u$',\n",
    " '$g$',\n",
    " '$r$',\n",
    " '$i$',\n",
    " '$z$',\n",
    " '$y$',\n",
    " '$J$',\n",
    " '$H$',\n",
    " '  $K/Ks$',\n",
    " '',\n",
    " '$i1$',\n",
    " '$i2$',\n",
    " '$i3$',\n",
    " '$i4$',\n",
    " 'MIPS 24',\n",
    " '       PACS',\n",
    " '',\n",
    " '           SPIRE',\n",
    " '',\n",
    " ''])\n",
    "ax2.set_xlabel('band')\n",
    "#ax2.set_xscale('log')\n",
    "\n",
    "\n",
    "line_styles = [':', '-.', '--', '-']\n",
    "colours = ['y', 'b', 'g', 'r', 'k']\n",
    "for n, z in enumerate([0.25, 1, 2, 3, 4]):\n",
    "    sed = s.copy()\n",
    "    mod = get_module(\"redshifting\", redshift=z)\n",
    "    mod.process(sed)\n",
    "    ax.plot(sed.wavelength_grid*10, \n",
    "            np.log10(sed.fnu * 1.e-3),\n",
    "            c='k',\n",
    "            #c= colours[n],\n",
    "            #linestyle = line_styles[n],\n",
    "            label= 'z = {}'.format(z),\n",
    "            linewidth=1.0,\n",
    "            alpha=1.\n",
    "           )\n",
    "    for m, band in enumerate(cigale_filternames):\n",
    "        continue\n",
    "        if m == 0:\n",
    "            lab = 'z = {}'.format(z)\n",
    "        else:\n",
    "            lab=None\n",
    "        ax.plot([fwhms[m][0], fwhms[m][1]], [np.log10(gal_fluxes[n, m]   )-3, \n",
    "                                     np.log10(gal_fluxes[n, m]   )-3], \n",
    "               # c='k',\n",
    "                c= colours[n],\n",
    "               #linestyle = line_styles[n],\n",
    "               label=lab,\n",
    "                alpha=1.0\n",
    "               )\n",
    "\n",
    "        \n",
    "\n",
    "\n",
    "\n",
    "\n",
    "ax.set_ylabel('log10(Depths [Jy] )')\n",
    "\n",
    "#ax.set_xticks(pos)\n",
    "#ax.set_xticklabels(['${}$'.format(band.replace('Ks', '').replace('K', 'K/Ks')) for band in bands])\n",
    "ax.set_xlim(3000., 10000000)\n",
    "ax.set_xscale('log')    \n",
    "ax.set_xlabel('Wavelength [nm]')\n",
    "ax.set_ylim(-7, 0)\n",
    "#ax.legend(loc=2)\n",
    "\n",
    "\n",
    "#widths\n",
    "log_widths = np.ones(len(pos)) * (pos) * .2# * widths\n",
    "#log_widths = np.ones(len(pos)) * 1000.\n",
    "#areas/np.max(areas)\n",
    "parts = ax.violinplot(data, \n",
    "                      positions=pos, \n",
    "                      widths=log_widths, \n",
    "                      showmeans=False, \n",
    "                      showmedians=False, #widths=widths,\n",
    "        showextrema=False)\n",
    "\n",
    "for n, part in enumerate(parts['bodies']):\n",
    "    part.set_facecolor(colors[n])\n",
    "    part.set_alpha(1.0)\n",
    "\n",
    "cax, _ = mpl.colorbar.make_axes([ax, ax2])\n",
    "n_ticks = 7\n",
    "values = np.linspace(0,1200, n_ticks)\n",
    "ticks = values/np.max(areas)\n",
    "\n",
    "cbar = mpl.colorbar.ColorbarBase(cax, cmap=cmap, ticks = ticks)\n",
    "cax.set_yticklabels([int(d) for d in values])\n",
    "cbar.set_label('Area [square degrees]')\n",
    "\n",
    "\n",
    "\n",
    "plt.figtext(0.335, 0.6, 'z=0.25')\n",
    "plt.figtext(0.38, 0.45, 'z=1')\n",
    "plt.figtext(0.4, 0.38, 'z=2')\n",
    "plt.figtext(0.44, 0.35, 'z=3')\n",
    "plt.figtext(0.45, 0.27, 'z=4')\n",
    "\n",
    "\n",
    "\n",
    "\n",
    "\n",
    "plt.rc('font', family='serif', serif='Times')\n",
    "plt.rc('text') #, usetex=True)\n",
    "plt.rc('xtick', labelsize=12)\n",
    "plt.rc('ytick', labelsize=12)\n",
    "plt.rc('axes', labelsize=12)\n",
    "\n",
    "#fig.suptitle(\"Violin Plotting Examples\")\n",
    "#fig.subplots_adjust(hspace=0.4)\n",
    "#plt.ylim(-10,10)\n",
    "column_width_cm = 8.9\n",
    "width_cm = 3.0 * column_width_cm\n",
    "hieght_cm = width_cm / 1.9\n",
    "width_inches = width_cm/2.5\n",
    "hieght_inches = hieght_cm/2.5\n",
    "fig.set_size_inches(width_inches, hieght_inches)\n",
    "plt.savefig('./figs/band_depths_overviews_areaweighted_with_black_seds_wave.pdf', bbox_inches='tight')\n",
    "plt.savefig('./figs/band_depths_overviews_areaweighted_with_black_seds_wave.png', bbox_inches='tight')"
   ]
  },
  {
   "cell_type": "code",
   "execution_count": null,
   "metadata": {},
   "outputs": [],
   "source": [
    "#take the median luminosity in a redshift bin?\n",
    "#nu Lnu??"
   ]
  },
  {
   "cell_type": "code",
   "execution_count": null,
   "metadata": {},
   "outputs": [],
   "source": [
    "log_widths"
   ]
  },
  {
   "cell_type": "code",
   "execution_count": null,
   "metadata": {},
   "outputs": [],
   "source": [
    "# fake data\n",
    "fs = 10  # fontsize\n",
    "# Angstroms     \n",
    "\n",
    "\n",
    "#data = np.array([np.array(coverage['ferr_ap_{}_mean_min'.format(b)]) for b in bands]).T\n",
    "\n",
    "cmap = mpl.cm.viridis\n",
    "norm = mpl.colors.Normalize(vmin=np.min(areas), vmax=np.max(areas))\n",
    "scalmap = mpl.cm.ScalarMappable( cmap=cmap, norm=norm)\n",
    "colors = scalmap.to_rgba(areas)   # The color is the angle\n",
    "colors[:, 3] = 1\n",
    "\n",
    "fig, ax = plt.subplots()\n",
    "\n",
    "ax2 = ax.twiny()\n",
    "\n",
    "#ax2.set_xlim(3000., 100000)\n",
    "#ax2.set_xticks(pos)\n",
    "#ax2.set_xticklabels(['$' + band + '$' for band in bands])\n",
    "#ax2.set_xlabel('band')\n",
    "#ax2.set_xscale('log')\n",
    "ax2.set_xlim(np.log10(300.), np.log10(1000000))\n",
    "ax2.set_xticks(np.log10(np.array(pos)/10))\n",
    "ax2.set_xticklabels(['${}$'.format(band).replace('$Ks$', '').replace('K', 'K/Ks') for band in bands])\n",
    "ax2.set_xlabel('band')\n",
    "#ax2.set_xscale('log')\n",
    "\n",
    "\n",
    "line_styles = [':', '-.', '--', '-']\n",
    "colours = ['y', 'b', 'g', 'r', 'k']\n",
    "for n, z in enumerate([0.25, 1, 2, 3, 4]):\n",
    "    sed = s.copy()\n",
    "    mod = get_module(\"redshifting\", redshift=z)\n",
    "    mod.process(sed)\n",
    "    ax.plot(sed.wavelength_grid, #*10 factor ten turns angstrom to nm fix unit error\n",
    "            #np.log10(sed.fnu * 1.e-3), #This is for flux in Jy\n",
    "            flux_to_mag(sed.fnu * 1.e-3)[0], #This is for flux in mag\n",
    "            c='k',\n",
    "            #c= colours[n],\n",
    "            #linestyle = line_styles[n],\n",
    "            label= 'z = {}'.format(z),\n",
    "            linewidth=1.0,\n",
    "            alpha=1.\n",
    "           )\n",
    "    for m, band in enumerate(cigale_filternames):\n",
    "        continue\n",
    "        if m == 0:\n",
    "            lab = 'z = {}'.format(z)\n",
    "        else:\n",
    "            lab=None\n",
    "        ax.plot([fwhms[m][0], fwhms[m][1]], [np.log10(gal_fluxes[n, m]   )-3, \n",
    "                                     np.log10(gal_fluxes[n, m]   )-3], \n",
    "               # c='k',\n",
    "                c= colours[n],\n",
    "               #linestyle = line_styles[n],\n",
    "               label=lab,\n",
    "                alpha=1.0\n",
    "               )\n",
    "\n",
    "        \n",
    "\n",
    "\n",
    "\n",
    "\n",
    "ax.set_ylabel('5$\\sigma$ depth [mag]')\n",
    "\n",
    "#ax.set_xticks(pos)\n",
    "#ax.set_xticklabels(['${}$'.format(band.replace('Ks', '').replace('K', 'K/Ks')) for band in bands])\n",
    "ax.set_xlim(300., 1000000)\n",
    "ax.set_xscale('log')    \n",
    "ax.set_xlabel('Wavelength [nm]')\n",
    "ax.set_ylim(27, 16)\n",
    "#ax.legend(loc=2)\n",
    "\n",
    "\n",
    "#widths\n",
    "log_widths = np.ones(len(pos)) * (pos) * .2 * widths\n",
    "#areas/np.max(areas)\n",
    "parts = ax.violinplot([flux_to_mag(10**d)[0] for d in data], #flux_to_mag assumes Jy\n",
    "                      positions=np.array(pos)/10, #fix unit error \n",
    "                      widths=log_widths/10, \n",
    "                      showmeans=False, \n",
    "                      showmedians=False, #widths=widths,\n",
    "        showextrema=False)\n",
    "\n",
    "for n, part in enumerate(parts['bodies']):\n",
    "    part.set_facecolor(colors[n])\n",
    "    part.set_alpha(1.0)\n",
    "\n",
    "cax, _ = mpl.colorbar.make_axes([ax, ax2])\n",
    "n_ticks = 7\n",
    "values = np.linspace(0,1200, n_ticks)\n",
    "ticks = values/np.max(areas)\n",
    "\n",
    "cbar = mpl.colorbar.ColorbarBase(cax, cmap=cmap, ticks = ticks)\n",
    "cax.set_yticklabels([int(d) for d in values])\n",
    "cbar.set_label('Area [deg.$^2$]')\n",
    "\n",
    "\n",
    "\n",
    "plt.figtext(0.49, 0.81, 'z = 0.25')\n",
    "plt.figtext(0.70, 0.645, 'z = 1')\n",
    "plt.figtext(0.70, 0.52, 'z = 2')\n",
    "plt.figtext(0.70, 0.435, 'z = 3')\n",
    "plt.figtext(0.70, 0.385, 'z = 4')\n",
    "\n",
    "\n",
    "\n",
    "\n",
    "\n",
    "plt.rc('font', family='serif', serif='Times')\n",
    "plt.rc('text') #, usetex=True)\n",
    "plt.rc('xtick', labelsize=12)\n",
    "plt.rc('ytick', labelsize=12)\n",
    "plt.rc('axes', labelsize=12)\n",
    "\n",
    "#fig.suptitle(\"Violin Plotting Examples\")\n",
    "#fig.subplots_adjust(hspace=0.4)\n",
    "#plt.ylim(-10,10)\n",
    "column_width_cm = 8.9\n",
    "width_cm = 3.0 * column_width_cm\n",
    "hieght_cm = width_cm / 1.9\n",
    "width_inches = width_cm/2.5\n",
    "hieght_inches = hieght_cm/2.5\n",
    "fig.set_size_inches(width_inches, hieght_inches)\n",
    "plt.savefig('./figs/band_depths_overviews_areaweighted_with_black_seds_wave_mag.pdf', bbox_inches='tight')\n",
    "plt.savefig('./figs/band_depths_overviews_areaweighted_with_black_seds_wave_mag.png', bbox_inches='tight')"
   ]
  },
  {
   "cell_type": "code",
   "execution_count": null,
   "metadata": {},
   "outputs": [],
   "source": [
    "['${}$'.format(band).replace('$Ks$', '').replace('K', 'K/Ks') for band in bands]"
   ]
  },
  {
   "cell_type": "code",
   "execution_count": null,
   "metadata": {},
   "outputs": [],
   "source": [
    "data[0].shape"
   ]
  },
  {
   "cell_type": "code",
   "execution_count": null,
   "metadata": {},
   "outputs": [],
   "source": [
    "\n",
    "\n",
    "fig, ax = plt.subplots()\n",
    "#cmap = mpl.cm.get_cmap('viridis', 256)\n",
    "#norm = mpl.colors.Normalize(vmin=np.min(areas), vmax=np.min(areas))\n",
    "\n",
    "cmap = mpl.cm.viridis\n",
    "norm = mpl.colors.Normalize(vmin=np.min(areas), vmax=np.max(areas))\n",
    "scalmap = mpl.cm.ScalarMappable( cmap=cmap, norm=norm)\n",
    "colors = scalmap.to_rgba(areas)   # The color is the angle\n",
    "colors[:, 3] = 1\n",
    "\n",
    "#cb = mpl.colorbar.ColorbarBase(ax, cmap=cmap,  norm=norm)\n",
    "\n",
    "#cmap = mpl.colors.ListedColormap('viridis')\n",
    "#colors = cmap(np.array(areas))\n",
    "\n",
    "\n",
    "im = plt.scatter(np.arange(len(areas)), areas, c=colors)\n",
    "\n",
    "\n",
    "cax, _ = mpl.colorbar.make_axes(ax)\n",
    "cbar = mpl.colorbar.ColorbarBase(cax, cmap=cmap)\n",
    "cbar.set_label('area [square degrees]')\n",
    "#cax.set_yticklabels(['$-\\pi$', '0', '$\\pi$'])\n",
    "#cb = mpl.colorbar.ColorbarBase(ax, cmap=cmap,  norm=norm)\n",
    "# Optionally add a colorbar\n",
    "#cax, _ = mpl.colorbar.make_axes(ax)\n",
    "#cbar = mpl.colorbar.ColorbarBase(cax, cmap=cmap)\n",
    "\n"
   ]
  },
  {
   "cell_type": "code",
   "execution_count": null,
   "metadata": {},
   "outputs": [],
   "source": [
    "colors"
   ]
  },
  {
   "cell_type": "code",
   "execution_count": null,
   "metadata": {},
   "outputs": [],
   "source": [
    "cmap = mpl.cm.hot\n",
    "norm = mpl.colors.Normalize(vmin=np.min(areas), vmax=np.max(areas))\n",
    "scalmap = mpl.cm.ScalarMappable( cmap=cmap, norm=norm)\n",
    "colors = scalmap.to_rgba(areas)  # The color is the angle\n",
    "#colors[:, 3] = 0.5\n",
    "print(scalmap.to_rgba(500),\n",
    "     scalmap.to_rgba(1000),\n",
    "     scalmap.to_rgba(100))\n",
    "colors"
   ]
  },
  {
   "cell_type": "code",
   "execution_count": null,
   "metadata": {},
   "outputs": [],
   "source": [
    "mask = ~np.isnan(coverage['ferr_ap_{}_mean_min'.format('i1')])\n",
    "mask |= coverage['ferr_ap_{}_mean_min'.format('i1')] > 0.\n",
    "mask |= coverage['ferr_ap_{}_mean_min'.format('i1')] <1.e3\n",
    "plt.hist(np.log10(np.array(coverage['ferr_ap_{}_mean_min'.format('i1')][mask ]) *1.e-6), bins=50)"
   ]
  },
  {
   "cell_type": "code",
   "execution_count": null,
   "metadata": {},
   "outputs": [],
   "source": [
    "areas"
   ]
  },
  {
   "cell_type": "code",
   "execution_count": null,
   "metadata": {},
   "outputs": [],
   "source": [
    "np.sum(np.log10(coverage['ferr_ap_{}_mean_min'.format('i1')] )  >3)"
   ]
  },
  {
   "cell_type": "code",
   "execution_count": null,
   "metadata": {},
   "outputs": [],
   "source": [
    "np.sum(coverage['ferr_ap_{}_mean_min'.format('i1')]  >10.)"
   ]
  },
  {
   "cell_type": "markdown",
   "metadata": {},
   "source": [
    "## All field comparison"
   ]
  },
  {
   "cell_type": "code",
   "execution_count": null,
   "metadata": {},
   "outputs": [],
   "source": [
    "def depths_sample_field(band, field):\n",
    "    \n",
    "    mask = ~np.isnan(coverage['ferr_ap_{}_mean_min'.format(band)])\n",
    "    mask &= coverage['ferr_ap_{}_mean_min'.format(band)] > 0.\n",
    "    mask &= coverage['ferr_ap_{}_mean_min'.format(band)] <1.e3\n",
    "    mask &= coverage['field'] == field\n",
    "    area = (np.sum(mask)/len(coverage[coverage['field'] == field])) #* 1270. #Return fractional areas\n",
    "    \n",
    "    pixel_depths = np.log10(np.array(coverage['ferr_ap_{}_mean_min'.format(band)][mask]) *5.e-6 )\n",
    "    if np.sum(mask)== 0:\n",
    "        pixel_depths = np.full(100, -9.)\n",
    "    return pixel_depths, area\n",
    "    \n",
    "f = 'ELAIS-N1'\n",
    "data_field = [ depths_sample_field(band, f)[0] for band in bands ]\n",
    "areas_field = [ depths_sample_field(band, f)[1] for band in bands ]"
   ]
  },
  {
   "cell_type": "code",
   "execution_count": null,
   "metadata": {},
   "outputs": [],
   "source": [
    "areas_field"
   ]
  },
  {
   "cell_type": "code",
   "execution_count": null,
   "metadata": {},
   "outputs": [],
   "source": [
    "dim = [4,6]\n",
    "fig, axes = plt.subplots(dim[1], dim[0], sharex=True, sharey=True)\n",
    "plt.rcParams.update({'font.size': 12})\n",
    "cmap = mpl.cm.viridis\n",
    "norm = mpl.colors.Normalize(vmin=0, vmax=1)\n",
    "scalmap = mpl.cm.ScalarMappable( cmap=cmap, norm=norm)\n",
    "\n",
    "for n, f in enumerate(np.unique(coverage['field'])):\n",
    "        \n",
    "    x, y = np.floor_divide(n, dim[0]), np.remainder(n, dim[0])\n",
    "    \n",
    "    \n",
    "    #axes[x,y].scatter( np.arange(20), np.arange(20))\n",
    "    #axes[x,y].legend()\n",
    "    \n",
    "    \n",
    "    #####MAKE FIELD DATA#####\n",
    "    data_field = [ depths_sample_field(band, f)[0] for band in bands ]\n",
    "    areas_field = [ depths_sample_field(band, f)[1] for band in bands ]\n",
    "    data_field_mag = [flux_to_mag(10**d)[0] for d in data_field]\n",
    "    \n",
    "    \n",
    "    colors = scalmap.to_rgba(areas_field)   # The color is the angle\n",
    "    colors[:, 3] = 1\n",
    "\n",
    "   \n",
    "\n",
    "    def set_axis_style(ax, labels):\n",
    "        axes[x,y].get_xaxis().set_tick_params(direction='out')\n",
    "        axes[x,y].xaxis.set_ticks_position('bottom')\n",
    "        axes[x,y].tick_params(axis='x', labelsize=8)\n",
    "        axes[x,y].set_xticks(np.arange(1, len(labels) + 1))\n",
    "        axes[x,y].set_xticklabels(labels)\n",
    "        axes[x,y].set_xlim(0.25, len(labels) + 0.75)\n",
    "        #axes[x,y].set_xlabel('band')\n",
    "        #axes[x,y].set_ylabel('5$\\sigma$ depth [mag]')\n",
    "    #ax.violinplot(np.array(coverage['ferr_ap_{}_mean_min'.format('g') ] ) )\n",
    "    #ax.set_title('Custom violinplot 1', fontsize=fs)\n",
    "\n",
    "    #axes[x,y].set_ylabel('log10( 5$\\sigma$ Depths  [Jy] )')\n",
    "    set_axis_style(axes[x,y], ['$' + band + '$' for band in bands])\n",
    "    axes[x,y].set_ylim(28, 17)\n",
    "\n",
    "\n",
    "\n",
    "    parts = axes[x,y].violinplot(data_field_mag, widths=0.75, showmeans=False, showmedians=False,\n",
    "            showextrema=False)\n",
    "    \n",
    "    \n",
    "    #This is just to add the field name\n",
    "    axes[x,y].scatter([-99],[-99], \n",
    "                      label=f.replace('SGP', 'HATLAS-SGP').replace('NGP', 'HATLAS-NGP'), \n",
    "                      c='w', s=0.0001)\n",
    "    axes[x,y].legend(frameon=False, loc=4)\n",
    "\n",
    "    for n, part in enumerate(parts['bodies']):\n",
    "        part.set_facecolor(colors[n])\n",
    "        part.set_alpha(1)\n",
    "\n",
    "#cax, _ = mpl.colorbar.make_axes(axes[dim[1]-1,dim[0]-1], panchor=(-8.8, 10.6)) #5 3 depend on 4 x 6\n",
    "#This bit moves the color bar\n",
    "cax = inset_axes(axes[dim[1]-1,dim[0]-1],\n",
    "                   width=\"5%\",  # width = 5% of parent_bbox width\n",
    "                   height=\"85%\",  # height : 50%\n",
    "                   loc=3,\n",
    "                   bbox_to_anchor=(0.05, 0.08, 1, 1),\n",
    "                   bbox_transform=axes[dim[1]-1,dim[0]-1].transAxes,\n",
    "                   borderpad=0,\n",
    "                   )\n",
    "\n",
    "ticks = [0, 0.5, 1]\n",
    "cbar = mpl.colorbar.ColorbarBase(cax, cmap=cmap, ticks = ticks)\n",
    "cax.set_yticklabels(ticks)\n",
    "cbar.set_label('coverage')\n",
    "    \n",
    "axes[dim[1]-1,dim[0]-1].tick_params(axis='x', labelsize=8)\n",
    "#axes[dim[1]-1,dim[0]-1].set_xlabel('band')\n",
    "    \n",
    "fig.text(0.5, 0.07, 'Bands', ha='center')\n",
    "fig.text(0.04, 0.5, '5$\\sigma$ depth [mag]', va='center', rotation='vertical')\n",
    "\n",
    "fig.set_size_inches(10, 12)\n",
    "fig.subplots_adjust(hspace=0, wspace=0)\n",
    "\n",
    "plt.rc('axes', labelsize=12)\n",
    "plt.savefig('./figs/fields_depths_comparison_grid.pdf', bbox_inches='tight')\n",
    "plt.savefig('./figs/fields_depths_comparison_grid.png', bbox_inches='tight')"
   ]
  },
  {
   "cell_type": "markdown",
   "metadata": {},
   "source": [
    "## Summarise the filters"
   ]
  },
  {
   "cell_type": "code",
   "execution_count": null,
   "metadata": {},
   "outputs": [],
   "source": [
    "for band in bands:\n",
    "    specific_bands = [f for f in filters if f.split('_')[1] == band.lower()]\n",
    "    print(specific_bands)\n",
    "    for specific_band in specific_bands:\n",
    "        if 'ferr_ap_{}_mean'.format(specific_band) not in coverage.colnames:\n",
    "            specific_bands.remove(specific_band)\n",
    "    #print(specific_bands)"
   ]
  },
  {
   "cell_type": "code",
   "execution_count": null,
   "metadata": {},
   "outputs": [],
   "source": [
    "filter_info = Table.read(herschelhelp_python_loc + 'documentation/filters.csv')"
   ]
  },
  {
   "cell_type": "code",
   "execution_count": null,
   "metadata": {},
   "outputs": [],
   "source": [
    "has_broad_typical = np.full(len(filter_info), False)\n",
    "for band in bands:\n",
    "    has_broad_typical |= filter_info['filter'] == band\n",
    "    \n",
    "filter_info[has_broad_typical]"
   ]
  },
  {
   "cell_type": "code",
   "execution_count": null,
   "metadata": {},
   "outputs": [],
   "source": [
    "has_optical = np.full(len(filter_info), False)\n",
    "optical_bands = ['u', 'g', 'r', 'i', 'z', 'y']\n",
    "has_near_infrared = np.full(len(filter_info), False)\n",
    "near_infrared_bands = ['J', 'H', 'K', 'Ks']\n",
    "\n",
    "for band in bands:\n",
    "    if band in optical_bands:\n",
    "        has_optical |= filter_info['filter'] == band\n",
    "    if band in near_infrared_bands:\n",
    "        has_near_infrared |= filter_info['filter'] == band"
   ]
  },
  {
   "cell_type": "code",
   "execution_count": null,
   "metadata": {},
   "outputs": [],
   "source": [
    "def get_bands(camera):\n",
    "    band_list = []\n",
    "    for b in filter_info['filter'][filter_info['camera'] == camera]:\n",
    "        #print(b)\n",
    "        band_list.append( b)\n",
    "    band_list_ordered_string = ''\n",
    "    for band in bands:\n",
    "        if band in band_list:\n",
    "            band_list_ordered_string += band\n",
    "    \n",
    "    return '$' + band_list_ordered_string + '$'\n",
    "\n",
    "\n",
    "\n",
    "print(get_bands('HyperSuprimeCam'))"
   ]
  },
  {
   "cell_type": "code",
   "execution_count": null,
   "metadata": {},
   "outputs": [],
   "source": [
    "\n",
    "\n",
    "optical_sentence = ''\n",
    "for camera in np.unique(filter_info['camera'][has_optical]):\n",
    "    if camera == 'Standard camera response (camera unknown)':\n",
    "        continue\n",
    "    row = filter_info[filter_info['camera'] == camera][0] \n",
    "    optical_sentence += 'From {} on {} we have the optical bands {}. '.format(row['camera'].replace('The', 'the'), \n",
    "                                                             row['telescope'].replace('The', 'the'),\n",
    "                                                             get_bands(camera))\n",
    "    \n",
    "print(optical_sentence)"
   ]
  },
  {
   "cell_type": "code",
   "execution_count": null,
   "metadata": {},
   "outputs": [],
   "source": [
    "near_infrared_sentence = ''\n",
    "for camera in np.unique(filter_info['camera'][has_near_infrared]):\n",
    "    if camera == 'Standard camera response (camera unknown)':\n",
    "        continue\n",
    "    row = filter_info[filter_info['camera'] == camera][0] \n",
    "    near_infrared_sentence += 'From {} on {} we have the optical bands {}. '.format(row['camera'].replace('The', 'the'), \n",
    "                                                             row['telescope'].replace('The', 'the'),\n",
    "                                                             get_bands(camera))\n",
    "    \n",
    "print(near_infrared_sentence)"
   ]
  },
  {
   "cell_type": "markdown",
   "metadata": {},
   "source": [
    "## Count the number of flagged objects\n",
    "\n",
    "For each band lets count the number of objects that have a flag"
   ]
  },
  {
   "cell_type": "raw",
   "metadata": {},
   "source": [
    "\n",
    "# Import the module\n",
    "\n",
    "# Setting up the service object \n",
    "service = vo.dal.TAPService(\"https://herschel-vos.phys.sussex.ac.uk/__system__/tap/run/tap\")\n",
    "# Downloading the data\n",
    "query = \"SELECT COUNT(*) as n, flag_merged FROM herschelhelp.main GROUP BY flag_merged \" \n",
    "    \n",
    "\n",
    "\n",
    "#Then we execute the query\n",
    "#resultset = service.run_async(irac_i1_query)\n",
    "job = service.submit_job(query)\n",
    "job.run()\n",
    "job_url = job.url\n",
    "job_result = vo.dal.tap.AsyncTAPJob(job_url)\n",
    "start_time = time.time()\n",
    "wait = 10\n",
    "while job.phase == 'EXECUTING':\n",
    "    print('Job still running after {} seconds.'.format(round(time.time() - start_time)))\n",
    "    time.sleep(wait) #wait ten seconds and try again\n",
    "    wait *= 2\n",
    "    \n",
    "print(job.phase)\n",
    "table = job_result.fetch_result() "
   ]
  },
  {
   "cell_type": "markdown",
   "metadata": {},
   "source": [
    "# Make cumulative 1 d depths for MIPS, PACS, SPIRE"
   ]
  },
  {
   "cell_type": "code",
   "execution_count": null,
   "metadata": {},
   "outputs": [],
   "source": [
    "np.array(en1_depths['ferr_mips_24_mean'])[~np.isnan(en1_depths['ferr_mips_24_mean'])]"
   ]
  },
  {
   "cell_type": "code",
   "execution_count": null,
   "metadata": {},
   "outputs": [],
   "source": [
    "\n",
    "\n",
    "fig, ax = plt.subplots()\n",
    "\n",
    "#good = np.log10(np.array(g_table['ferr_g_min'])*1.e-6) > -20\n",
    "#good &= np.log10(np.array(g_table['ferr_g_min'])*1.e-6) <20\n",
    "\n",
    "mips_pix_mag_depths = np.array(np.log10(en1_depths['ferr_mips_24_mean']*1.e-6 ))\n",
    "cells, fluxes = np.histogram(mips_pix_mag_depths[~np.isnan(mips_pix_mag_depths)], bins=1000)\n",
    "cells =np.flip(cells)\n",
    "fluxes = np.flip(fluxes)\n",
    "\n",
    "ax.plot(fluxes[1:],\n",
    "         np.cumsum(cells)*200./cells.sum() ,\n",
    "        drawstyle='steps')\n",
    "\n",
    "ax.set_xlabel('log10(2$\\sigma$ MIPS 24 depth [Jy]) ')\n",
    "ax.set_ylabel('Cumulative area [deg.$^2$]')\n",
    "ax.set_xlim([-5,-4.5])\n",
    "ax.set_ylim([0,210])\n",
    "#y_vals = ax.get_yticks()\n",
    "#ax.set_yticklabels([n for n in y_vals])\n",
    "\n",
    "\n",
    "\n",
    "plt.rc('font', family='serif', serif='Times')\n",
    "plt.rc('text') #, usetex=True)\n",
    "plt.rc('xtick', labelsize=12)\n",
    "plt.rc('ytick', labelsize=12)\n",
    "plt.rc('axes', labelsize=12)\n",
    "\n",
    "column_width_cm = 8.9\n",
    "width_cm = 1.0 * column_width_cm\n",
    "hieght_cm = width_cm \n",
    "width_inches = width_cm/2.5\n",
    "hieght_inches = hieght_cm/2.5\n",
    "fig.set_size_inches(width_inches, hieght_inches)\n",
    "\n",
    "\n",
    "plt.savefig('./figs/mips_cumulative_area_depth.pdf', bbox_inches='tight')\n",
    "plt.savefig('./figs/mips_cumulative_area_depth.png', bbox_inches='tight')"
   ]
  },
  {
   "cell_type": "code",
   "execution_count": null,
   "metadata": {},
   "outputs": [],
   "source": [
    "\n",
    "\n",
    "fig, ax = plt.subplots()\n",
    "\n",
    "#good = np.log10(np.array(g_table['ferr_g_min'])*1.e-6) > -20\n",
    "#good &= np.log10(np.array(g_table['ferr_g_min'])*1.e-6) <20\n",
    "\n",
    "pacs_pix_mag_depths = np.array(np.log10(en1_depths['ferr_pacs_green_mean']*1.e-6 ))\n",
    "cells, fluxes = np.histogram(pacs_pix_mag_depths[~np.isnan(pacs_pix_mag_depths)], bins=1000)\n",
    "cells =np.flip(cells)\n",
    "fluxes = np.flip(fluxes)\n",
    "\n",
    "ax.plot(fluxes[1:],\n",
    "         np.cumsum(cells)*200./cells.sum() ,\n",
    "        drawstyle='steps')\n",
    "\n",
    "ax.set_xlabel('log10(2$\\sigma$ PACS 100 depth [Jy]) ')\n",
    "ax.set_ylabel('Cumulative area [deg.$^2$]')\n",
    "ax.set_xlim([-2.2,-1.5])\n",
    "ax.set_ylim([0,210])\n",
    "#y_vals = ax.get_yticks()\n",
    "#ax.set_yticklabels([n for n in y_vals])\n",
    "\n",
    "\n",
    "\n",
    "plt.rc('font', family='serif', serif='Times')\n",
    "plt.rc('text') #, usetex=True)\n",
    "plt.rc('xtick', labelsize=12)\n",
    "plt.rc('ytick', labelsize=12)\n",
    "plt.rc('axes', labelsize=12)\n",
    "\n",
    "column_width_cm = 8.9\n",
    "width_cm = 1.0 * column_width_cm\n",
    "hieght_cm = width_cm \n",
    "width_inches = width_cm/2.5\n",
    "hieght_inches = hieght_cm/2.5\n",
    "fig.set_size_inches(width_inches, hieght_inches)\n",
    "\n",
    "\n",
    "plt.savefig('./figs/pacs_cumulative_area_depth.pdf', bbox_inches='tight')\n",
    "plt.savefig('./figs/pacs_cumulative_area_depth.png', bbox_inches='tight')"
   ]
  },
  {
   "cell_type": "code",
   "execution_count": null,
   "metadata": {},
   "outputs": [],
   "source": [
    "\n",
    "\n",
    "fig, ax = plt.subplots()\n",
    "\n",
    "#good = np.log10(np.array(g_table['ferr_g_min'])*1.e-6) > -20\n",
    "#good &= np.log10(np.array(g_table['ferr_g_min'])*1.e-6) <20\n",
    "\n",
    "spire_pix_mag_depths = np.array(np.log10(en1_depths['ferr_spire_250_mean']*1.e-6 ))\n",
    "cells, fluxes = np.histogram(spire_pix_mag_depths[~np.isnan(spire_pix_mag_depths)], bins=1000)\n",
    "cells =np.flip(cells)\n",
    "fluxes = np.flip(fluxes)\n",
    "\n",
    "ax.plot(fluxes[1:],\n",
    "         np.cumsum(cells)*1100./cells.sum() ,\n",
    "        drawstyle='steps')\n",
    "\n",
    "ax.set_xlabel('log10(2$\\sigma$ SPIRE 250 depth [Jy])')\n",
    "ax.set_ylabel('Cumulative area [deg.$^2$]')\n",
    "#ax.set_xlim([-2.2,-1.5])\n",
    "ax.set_ylim([0,1200])\n",
    "#y_vals = ax.get_yticks()\n",
    "#ax.set_yticklabels([n for n in y_vals])\n",
    "\n",
    "\n",
    "\n",
    "plt.rc('font', family='serif', serif='Times')\n",
    "plt.rc('text') #, usetex=True)\n",
    "plt.rc('xtick', labelsize=12)\n",
    "plt.rc('ytick', labelsize=12)\n",
    "plt.rc('axes', labelsize=12)\n",
    "\n",
    "column_width_cm = 8.9\n",
    "width_cm = 1.0 * column_width_cm\n",
    "hieght_cm = width_cm \n",
    "width_inches = width_cm/2.5\n",
    "hieght_inches = hieght_cm/2.5\n",
    "fig.set_size_inches(width_inches, hieght_inches)\n",
    "\n",
    "\n",
    "plt.savefig('./figs/spire_cumulative_area_depth.pdf', bbox_inches='tight')\n",
    "plt.savefig('./figs/spire_cumulative_area_depth.png', bbox_inches='tight')"
   ]
  },
  {
   "cell_type": "markdown",
   "metadata": {},
   "source": [
    "# 2d depth plots\n",
    "\n",
    "Make a cumulative 2d area that is at least as deep."
   ]
  },
  {
   "cell_type": "code",
   "execution_count": null,
   "metadata": {},
   "outputs": [],
   "source": [
    "en1_d = Table.read('../../../dmu32/dmu32_ELAIS-N1/data/depths_elais-n1_20171016.fits')"
   ]
  },
  {
   "cell_type": "code",
   "execution_count": null,
   "metadata": {},
   "outputs": [],
   "source": [
    "fig, ax = plt.subplots()\n",
    "good = ~np.isnan(en1_d['ferr_ap_irac_i1_mean']) & ~np.isnan(en1_d['ferr_mips_24_mean'])\n",
    "good &= en1_d['ferr_ap_irac_i1_mean'] < 1.\n",
    "good &= en1_d['ferr_mips_24_mean'] > 12.\n",
    "good &= en1_d['ferr_mips_24_mean'] < 18.\n",
    "ax.hist2d(en1_d['ferr_ap_irac_i1_mean'][good],en1_d['ferr_mips_24_mean'][good],  bins=25)\n"
   ]
  },
  {
   "cell_type": "code",
   "execution_count": null,
   "metadata": {},
   "outputs": [],
   "source": [
    "good &= en1_d['ferr_ap_irac_i1_mean'] < 1.\n",
    "good &= en1_d['ferr_mips_24_mean'] > 12.\n",
    "good &= en1_d['ferr_mips_24_mean'] < 18.\n",
    "\n",
    "hist = np.histogram2d(en1_d['ferr_ap_irac_i1_mean'][good],en1_d['ferr_mips_24_mean'][good],  bins=25)\n",
    "hist"
   ]
  },
  {
   "cell_type": "code",
   "execution_count": null,
   "metadata": {},
   "outputs": [],
   "source": [
    "vals"
   ]
  },
  {
   "cell_type": "code",
   "execution_count": null,
   "metadata": {},
   "outputs": [],
   "source": [
    "from pymoc import MOC\n",
    "t_moc = MOC(13, [en1_d['hp_idx_O_13'][0] ])\n",
    "t_moc.area_sq_deg"
   ]
  },
  {
   "cell_type": "code",
   "execution_count": null,
   "metadata": {},
   "outputs": [],
   "source": [
    "band1 = ['ferr_ap_irac_i1_mean',0.,1.]\n",
    "band2 = ['ferr_mips_24_mean',0.,20. ]\n",
    "#good = ~np.isnan(en1_d[band1[0]] ) & ~np.isnan(en1_d[band2[0]] )\n",
    "good = en1_d[band1[0]] > band1[1]\n",
    "good &= en1_d[band1[0]] < band1[2]\n",
    "good &= en1_d[band2[0]] > band2[1]\n",
    "good &= en1_d[band2[0]] < band2[2]\n",
    "\n",
    "hist = np.histogram2d(en1_d[band1[0]][good],en1_d[band2[0]][good],  bins=1000)\n",
    "vals = hist[0].copy() * t_moc.area_sq_deg\n",
    "#vals = np.flip(np.cumsum(np.cumsum(np.flip(vals), axis=0),axis=1))\n",
    "vals = np.cumsum(np.cumsum(vals, axis=0),axis=1)\n",
    "fig, ax = plt.subplots()\n",
    "\n",
    "\n",
    "#im = imshow(np.flip(Z, axis=0),cmap=\"viridis\", extent=[t1,t2,p1,p2], aspect=\"auto\") # drawing the function\n",
    "# adding the Contour lines with labels\n",
    "#cset = contour(Z,arange(-1,1.5,0.2),linewidths=2,cmap=cm.Set2)\n",
    "#clabel(cset,inline=True,fmt='%1.1f',fontsize=10)\n",
    "#cbar = fig.colorbar(im) # adding the colobar on the right\n",
    "#cbar.set_label('Yield [tonnes ha$^{-1}$]')\n",
    "# latex fashion title\n",
    "#title('$z=(1-x^2+y^3) e^{-(x^2+y^2)/2}$')\n",
    "\n",
    "CS = ax.contour(hist[1][:-1] + (hist[1][1]-hist[1][0])/2, \n",
    "                hist[2][:-1] + (hist[2][1]-hist[2][0])/2, \n",
    "                vals\n",
    "                #,[levels]\n",
    "               )\n",
    "ax.clabel(CS, inline=1, fontsize=10)\n",
    "ax.set_xlim([0.5, 1.])\n",
    "ax.set_ylim([12., 19.])\n",
    "\n",
    "ax.set_xlabel('IRAC $i1$ Depth [$\\mu$Jy]')\n",
    "ax.set_ylabel('MIPS 24$\\mu$m Depth [$\\mu$Jy]')\n",
    "\n",
    "\n",
    "plt.rc('font', family='serif', serif='Times')\n",
    "plt.rc('text') #, usetex=True)\n",
    "plt.rc('xtick', labelsize=12)\n",
    "plt.rc('ytick', labelsize=12)\n",
    "plt.rc('axes', labelsize=12)\n",
    "\n",
    "column_width_cm = 8.9\n",
    "width_cm = 1.0 * column_width_cm\n",
    "hieght_cm = width_cm \n",
    "width_inches = width_cm/2.5\n",
    "hieght_inches = hieght_cm/2.5\n",
    "fig.set_size_inches(width_inches, hieght_inches)\n",
    "\n",
    "plt.savefig('./figs/2d_i1_mips_depth.pdf', bbox_inches='tight')\n",
    "plt.savefig('./figs/2d_i1_mips_depth.png', bbox_inches='tight')"
   ]
  },
  {
   "cell_type": "code",
   "execution_count": null,
   "metadata": {},
   "outputs": [],
   "source": [
    "band1 = ['ferr_ap_r_mean',0.,1.2]\n",
    "band2 = ['ferr_ap_k_mean',0.,1.1 ]\n",
    "#good = ~np.isnan(en1_d[band1[0]] ) & ~np.isnan(en1_d[band2[0]] )\n",
    "good = en1_d[band1[0]] > band1[1]\n",
    "good &= en1_d[band1[0]] < band1[2]\n",
    "good &= en1_d[band2[0]] > band2[1]\n",
    "good &= en1_d[band2[0]] < band2[2]\n",
    "\n",
    "hist = np.histogram2d(en1_d[band1[0]][good],en1_d[band2[0]][good],  bins=100)\n",
    "vals = hist[0].copy() * t_moc.area_sq_deg\n",
    "#vals = np.flip(np.cumsum(np.cumsum(np.flip(vals), axis=0),axis=1))\n",
    "vals = np.cumsum(np.cumsum(vals, axis=0),axis=1)\n",
    "fig, ax = plt.subplots()\n",
    "\n",
    "\n",
    "#im = imshow(np.flip(Z, axis=0),cmap=\"viridis\", extent=[t1,t2,p1,p2], aspect=\"auto\") # drawing the function\n",
    "# adding the Contour lines with labels\n",
    "#cset = contour(Z,arange(-1,1.5,0.2),linewidths=2,cmap=cm.Set2)\n",
    "#clabel(cset,inline=True,fmt='%1.1f',fontsize=10)\n",
    "#cbar = fig.colorbar(im) # adding the colobar on the right\n",
    "#cbar.set_label('Yield [tonnes ha$^{-1}$]')\n",
    "# latex fashion title\n",
    "#title('$z=(1-x^2+y^3) e^{-(x^2+y^2)/2}$')\n",
    "\n",
    "CS = ax.contour(hist[1][:-1] + (hist[1][1]-hist[1][0])/2, \n",
    "                hist[2][:-1] + (hist[2][1]-hist[2][0])/2, \n",
    "                vals\n",
    "                #,[levels]\n",
    "               )\n",
    "ax.clabel(CS, inline=1, fontsize=10)\n",
    "ax.set_xlim([0.05, .07075])\n",
    "ax.set_ylim([0.3, 1.1])\n",
    "\n",
    "ax.set_xlabel('Deepest $r$ Depth [$\\mu$Jy]')\n",
    "ax.set_ylabel('Deepest $K$ or $K_s$ Depth [$\\mu$Jy]')\n",
    "\n",
    "plt.rc('font', family='serif', serif='Times')\n",
    "plt.rc('text') #, usetex=True)\n",
    "plt.rc('xtick', labelsize=12)\n",
    "plt.rc('ytick', labelsize=12)\n",
    "plt.rc('axes', labelsize=12)\n",
    "\n",
    "column_width_cm = 8.9\n",
    "width_cm = 1.0 * column_width_cm\n",
    "hieght_cm = width_cm \n",
    "width_inches = width_cm/2.5\n",
    "hieght_inches = hieght_cm/2.5\n",
    "fig.set_size_inches(width_inches, hieght_inches)\n",
    "\n",
    "plt.savefig('./figs/2d_r_k_depth.pdf', bbox_inches='tight')\n",
    "plt.savefig('./figs/2d_r_k_depth.png', bbox_inches='tight')"
   ]
  },
  {
   "cell_type": "code",
   "execution_count": null,
   "metadata": {},
   "outputs": [],
   "source": []
  },
  {
   "cell_type": "code",
   "execution_count": null,
   "metadata": {},
   "outputs": [],
   "source": [
    "np.sum(vals)"
   ]
  },
  {
   "cell_type": "code",
   "execution_count": null,
   "metadata": {},
   "outputs": [],
   "source": [
    "band1 = ['ferr_pacs_green_mean',0.,40000.2]\n",
    "band2 = ['ferr_spire_350_mean',0.,4500.1 ]\n",
    "#good = ~np.isnan(en1_d[band1[0]] ) & ~np.isnan(en1_d[band2[0]] )\n",
    "good = en1_d[band1[0]] > band1[1]\n",
    "good &= en1_d[band1[0]] < band1[2]\n",
    "good &= en1_d[band2[0]] > band2[1]\n",
    "good &= en1_d[band2[0]] < band2[2]\n",
    "\n",
    "hist = np.histogram2d(en1_d[band1[0]][good],en1_d[band2[0]][good],  bins=100)\n",
    "vals = hist[0].copy() * t_moc.area_sq_deg\n",
    "#vals = np.flip(np.cumsum(np.cumsum(np.flip(vals), axis=0),axis=1))\n",
    "vals = np.cumsum(np.cumsum(vals, axis=0),axis=1)\n",
    "fig, ax = plt.subplots()\n",
    "\n",
    "\n",
    "#im = imshow(np.flip(Z, axis=0),cmap=\"viridis\", extent=[t1,t2,p1,p2], aspect=\"auto\") # drawing the function\n",
    "# adding the Contour lines with labels\n",
    "#cset = contour(Z,arange(-1,1.5,0.2),linewidths=2,cmap=cm.Set2)\n",
    "#clabel(cset,inline=True,fmt='%1.1f',fontsize=10)\n",
    "#cbar = fig.colorbar(im) # adding the colobar on the right\n",
    "#cbar.set_label('Yield [tonnes ha$^{-1}$]')\n",
    "# latex fashion title\n",
    "#title('$z=(1-x^2+y^3) e^{-(x^2+y^2)/2}$')\n",
    "\n",
    "CS = ax.contour(hist[1][:-1] + (hist[1][1]-hist[1][0])/2, \n",
    "                hist[2][:-1] + (hist[2][1]-hist[2][0])/2, \n",
    "                vals\n",
    "                #,[levels]\n",
    "               )\n",
    "ax.clabel(CS, inline=1, fontsize=10)\n",
    "ax.set_xlim([9000., 40000.])\n",
    "ax.set_ylim([2000., 4500.])\n",
    "\n",
    "ax.set_xlabel('PACS 100$\\mu$m Depth [$\\mu$Jy]')\n",
    "ax.set_ylabel('SPIRE 250$\\mu$m Depth [$\\mu$Jy]')\n",
    "\n",
    "plt.rc('font', family='serif', serif='Times')\n",
    "plt.rc('text') #, usetex=True)\n",
    "plt.rc('xtick', labelsize=12)\n",
    "plt.rc('ytick', labelsize=12)\n",
    "plt.rc('axes', labelsize=12)\n",
    "\n",
    "column_width_cm = 8.9\n",
    "width_cm = 1.0 * column_width_cm\n",
    "hieght_cm = width_cm \n",
    "width_inches = width_cm/2.5\n",
    "hieght_inches = hieght_cm/2.5\n",
    "fig.set_size_inches(width_inches, hieght_inches)\n",
    "\n",
    "plt.savefig('./figs/2d_pacs_spire_depth.pdf', bbox_inches='tight')\n",
    "plt.savefig('./figs/2d_pacs_spire_depth.png', bbox_inches='tight')"
   ]
  },
  {
   "cell_type": "code",
   "execution_count": null,
   "metadata": {},
   "outputs": [],
   "source": []
  },
  {
   "cell_type": "code",
   "execution_count": null,
   "metadata": {},
   "outputs": [],
   "source": []
  },
  {
   "cell_type": "code",
   "execution_count": null,
   "metadata": {},
   "outputs": [],
   "source": []
  }
 ],
 "metadata": {
  "anaconda-cloud": {},
  "kernelspec": {
   "display_name": "Python (herschelhelp_internal)",
   "language": "python",
   "name": "helpint"
  },
  "language_info": {
   "codemirror_mode": {
    "name": "ipython",
    "version": 3
   },
   "file_extension": ".py",
   "mimetype": "text/x-python",
   "name": "python",
   "nbconvert_exporter": "python",
   "pygments_lexer": "ipython3",
   "version": "3.6.10"
  }
 },
 "nbformat": 4,
 "nbformat_minor": 1
}
