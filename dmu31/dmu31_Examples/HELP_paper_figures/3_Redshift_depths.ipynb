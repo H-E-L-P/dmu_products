{
 "cells": [
  {
   "cell_type": "markdown",
   "metadata": {},
   "source": [
    "Use following code here http://sankeymatic.com/build/ to make sankey plot\n",
    "\n",
    "' Type a list of Flows, like this:\n",
    "'     SOURCE [AMOUNT] TARGET\n",
    "' Examples:\n",
    "\n",
    "\n",
    "\n",
    "Masterlist [60000000] has photo-z\n",
    "Masterlist [111000000] no photo-z\n",
    "has photo-z [4000000] in MIPS\n",
    "has photo-z [56000000] not in MIPS\n",
    "no photo-z [10000000] in MIPS\n",
    "no photo-z [101000000] not in MIPS\n",
    "not in MIPS [10000000] XID+ prior\n",
    "in MIPS [1000000] XID+ prior\n",
    "not in MIPS [147000000] no XID+ prior\n",
    "in MIPS [13000000] no XID+ prior\n",
    "no XID+ prior [50000000] optical or NIR only\n",
    "XID+ prior [0] optical or NIR only\n",
    "no XID+ prior [110000000] photo-z only\n",
    "XID+ prior [0] photo-z only\n",
    "no XID+ prior [0] XID+ only\n",
    "XID+ prior [5000000] XID+ only\n",
    "no XID+ prior [0] photo-z and XID+ but no SED\n",
    "XID+ prior [1000000] photo-z and XID+ but no SED\n",
    "no XID+ prior [0] photo-z and XID+ and SED\n",
    "XID+ prior [5000000] photo-z and XID+ and SED\n",
    "\n",
    "' After your Flows are entered, use the\n",
    "' controls below to customize your\n",
    "' diagram's appearance.\n",
    "\n",
    "' For even finer control over presentation,\n",
    "' see the Manual (linked above)."
   ]
  },
  {
   "cell_type": "code",
   "execution_count": null,
   "metadata": {},
   "outputs": [],
   "source": [
    "\"\"\"Masterlist [{has_photoz}] has photo-z\n",
    "Masterlist [{no_photoz}] no photo-z\n",
    "has photo-z [{photoz_mips}] in MIPS\n",
    "has photo-z [{photoz_no_mips}] not in MIPS\n",
    "no photo-z [{no_photo_z_mips}] in MIPS\n",
    "no photo-z [{no_photo_z_no_mips}] not in MIPS\n",
    "in MIPS [{mips_xid}] XID+ prior\n",
    "not in MIPS [{no_mips_xid}] XID+ prior\n",
    "in MIPS [{mips_noxid}] no XID+ prior\n",
    "not in MIPS [{no_mips_no_xid}] no XID+ prior\n",
    "no XID+ prior [no_xid_no] optical or NIR only\n",
    "XID+ prior [0] optical or NIR only\n",
    "no XID+ prior [110000000] photo-z only\n",
    "XID+ prior [0] photo-z only\n",
    "no XID+ prior [0] XID+ only\n",
    "XID+ prior [5000000] XID+ only\n",
    "no XID+ prior [0] photo-z and XID+ but no SED\n",
    "XID+ prior [1000000] photo-z and XID+ but no SED\n",
    "no XID+ prior [0] photo-z and XID+ and SED\n",
    "XID+ prior [5000000] photo-z and XID+ and SED\"\"\".format()"
   ]
  }
 ],
 "metadata": {
  "kernelspec": {
   "display_name": "Python (herschelhelp_internal)",
   "language": "python",
   "name": "helpint"
  },
  "language_info": {
   "codemirror_mode": {
    "name": "ipython",
    "version": 3
   },
   "file_extension": ".py",
   "mimetype": "text/x-python",
   "name": "python",
   "nbconvert_exporter": "python",
   "pygments_lexer": "ipython3",
   "version": "3.6.7"
  }
 },
 "nbformat": 4,
 "nbformat_minor": 2
}
