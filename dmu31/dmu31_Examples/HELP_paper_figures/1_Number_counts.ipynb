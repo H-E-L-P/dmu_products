{
 "cells": [
  {
   "cell_type": "markdown",
   "metadata": {},
   "source": [
    "# Make a full overview of number counts for SPIRE bands\n",
    "\n"
   ]
  },
  {
   "cell_type": "code",
   "execution_count": 1,
   "metadata": {},
   "outputs": [],
   "source": [
    "%matplotlib inline\n",
    "#%config InlineBackend.figure_format = 'svg'\n",
    "\n",
    "import matplotlib as mpl\n",
    "mpl.use('pdf')\n",
    "import matplotlib.pyplot as plt\n",
    "import matplotlib.gridspec as gridspec\n",
    "\n",
    "import numpy as np\n",
    "#plt.rc('figure', figsize=(10, 6))\n",
    "from matplotlib_venn import venn3\n",
    "\n",
    "import herschelhelp \n",
    "from herschelhelp.utils import clean_table\n",
    "\n",
    "from astropy.table import Table, vstack\n",
    "\n",
    "import pyvo as vo\n",
    "\n",
    "from pymoc import MOC\n",
    "\n",
    "import time\n",
    "\n",
    "import yaml\n",
    "\n",
    "\n",
    "\n",
    "import warnings\n",
    "warnings.filterwarnings('ignore')"
   ]
  },
  {
   "cell_type": "code",
   "execution_count": 2,
   "metadata": {},
   "outputs": [],
   "source": [
    "#Then we establish the VO connection to our database\n",
    "service = vo.dal.TAPService(\"https://herschel-vos.phys.sussex.ac.uk/__system__/tap/run/tap\"\n",
    "                           )"
   ]
  },
  {
   "cell_type": "code",
   "execution_count": 3,
   "metadata": {},
   "outputs": [],
   "source": [
    "fields = yaml.load(open('../../../dmu2/meta_main.yml', 'r'))['fields']"
   ]
  },
  {
   "cell_type": "code",
   "execution_count": 4,
   "metadata": {},
   "outputs": [],
   "source": [
    "bands = [\n",
    "    'pacs_green', \n",
    "    'pacs_red', \n",
    "    'spire_250', \n",
    "    'spire_350', \n",
    "    'spire_500'\n",
    "]\n",
    "mag_tables = {}\n",
    "\n",
    "\n",
    "for band in bands:\n",
    "    mag_tables[band] = {}\n",
    "    for f in fields:\n",
    "      \n",
    "        mag_tables[band].update({f['name']: None})"
   ]
  },
  {
   "cell_type": "code",
   "execution_count": 6,
   "metadata": {},
   "outputs": [
    {
     "name": "stdout",
     "output_type": "stream",
     "text": [
      "pacs_green\n",
      "Querying VOX for pacs_green mags on AKARI-NEP\n",
      "COMPLETED\n",
      "No mags.\n",
      "Querying VOX for pacs_green mags on AKARI-SEP\n",
      "COMPLETED\n",
      "No mags.\n",
      "Querying VOX for pacs_green mags on Bootes\n",
      "COMPLETED\n",
      "No mags.\n",
      "Querying VOX for pacs_green mags on CDFS-SWIRE\n",
      "COMPLETED\n",
      "No mags.\n",
      "Querying VOX for pacs_green mags on COSMOS\n",
      "COMPLETED\n",
      "No mags.\n",
      "Querying VOX for pacs_green mags on EGS\n",
      "COMPLETED\n",
      "No mags.\n",
      "Querying VOX for pacs_green mags on ELAIS-N1\n",
      "COMPLETED\n",
      "No mags.\n",
      "Querying VOX for pacs_green mags on ELAIS-N2\n",
      "COMPLETED\n",
      "No mags.\n",
      "Querying VOX for pacs_green mags on ELAIS-S1\n",
      "COMPLETED\n",
      "No mags.\n",
      "Querying VOX for pacs_green mags on GAMA-09\n",
      "COMPLETED\n",
      "No mags.\n",
      "Querying VOX for pacs_green mags on GAMA-12\n",
      "COMPLETED\n",
      "No mags.\n",
      "Querying VOX for pacs_green mags on GAMA-15\n",
      "COMPLETED\n",
      "No mags.\n",
      "Querying VOX for pacs_green mags on HDF-N\n",
      "COMPLETED\n",
      "No mags.\n",
      "Querying VOX for pacs_green mags on Herschel-Stripe-82\n",
      "COMPLETED\n",
      "No mags.\n",
      "Querying VOX for pacs_green mags on Lockman-SWIRE\n",
      "COMPLETED\n",
      "No mags.\n",
      "Querying VOX for pacs_green mags on HATLAS-NGP\n",
      "COMPLETED\n",
      "No mags.\n",
      "Querying VOX for pacs_green mags on SA13\n",
      "COMPLETED\n",
      "No mags.\n",
      "Querying VOX for pacs_green mags on HATLAS-SGP\n",
      "COMPLETED\n",
      "No mags.\n",
      "Querying VOX for pacs_green mags on SPIRE-NEP\n",
      "COMPLETED\n",
      "No mags.\n",
      "Querying VOX for pacs_green mags on SSDF\n"
     ]
    },
    {
     "ename": "KeyboardInterrupt",
     "evalue": "",
     "output_type": "error",
     "traceback": [
      "\u001b[0;31m---------------------------------------------------------------------------\u001b[0m",
      "\u001b[0;31mKeyboardInterrupt\u001b[0m                         Traceback (most recent call last)",
      "\u001b[0;32m<ipython-input-6-53b06aac9415>\u001b[0m in \u001b[0;36m<module>\u001b[0;34m\u001b[0m\n\u001b[1;32m     31\u001b[0m         \u001b[0;32mwhile\u001b[0m \u001b[0mjob\u001b[0m\u001b[0;34m.\u001b[0m\u001b[0mphase\u001b[0m \u001b[0;34m==\u001b[0m \u001b[0;34m'EXECUTING'\u001b[0m\u001b[0;34m:\u001b[0m\u001b[0;34m\u001b[0m\u001b[0;34m\u001b[0m\u001b[0m\n\u001b[1;32m     32\u001b[0m             \u001b[0;31m#print('Job still running after {} seconds.'.format(round(time.time() - start_time)))\u001b[0m\u001b[0;34m\u001b[0m\u001b[0;34m\u001b[0m\u001b[0;34m\u001b[0m\u001b[0m\n\u001b[0;32m---> 33\u001b[0;31m             \u001b[0mtime\u001b[0m\u001b[0;34m.\u001b[0m\u001b[0msleep\u001b[0m\u001b[0;34m(\u001b[0m\u001b[0mwait\u001b[0m\u001b[0;34m)\u001b[0m\u001b[0;34m\u001b[0m\u001b[0;34m\u001b[0m\u001b[0m\n\u001b[0m\u001b[1;32m     34\u001b[0m             \u001b[0;31m#wait *=2\u001b[0m\u001b[0;34m\u001b[0m\u001b[0;34m\u001b[0m\u001b[0;34m\u001b[0m\u001b[0m\n\u001b[1;32m     35\u001b[0m \u001b[0;34m\u001b[0m\u001b[0m\n",
      "\u001b[0;31mKeyboardInterrupt\u001b[0m: "
     ]
    }
   ],
   "source": [
    "start = time.time()\n",
    "for band in bands:\n",
    "    print(band)\n",
    "    \n",
    "    for f in fields:\n",
    "     \n",
    "     \n",
    "        try:\n",
    "            \n",
    "            mag_tables[band].update({f['name'] : Table.read('./data/{}_{}.fits'.format(band, f['name']))})\n",
    "            print(\"loaded {} from file ({} objects)\".format(band, len(mag_tables[band][f['name']])))\n",
    "            continue\n",
    "        except FileNotFoundError:\n",
    "            print(\"Querying VOX for {} mags on {}\".format(band, f['name']))\n",
    "    \n",
    "        query = \"\"\"\n",
    "        SELECT \n",
    "        f_{}\n",
    "        FROM help_a_list.main\n",
    "        WHERE help_a_list.main.f_{} IS NOT NULL\n",
    "        AND help_a_list.main.field='{}'\"\"\".format(\n",
    "            band, band, \n",
    "            f['name'].replace('Lockman-SWIRE','Lockman SWIRE' ).replace('HATLAS-NGP','NGP' ))\n",
    "\n",
    "        job = service.submit_job(query, maxrec=100000000)\n",
    "        job.run()\n",
    "        job_url = job.url\n",
    "        job_result = vo.dal.tap.AsyncTAPJob(job_url)\n",
    "        start_time = time.time()\n",
    "        wait = 10.\n",
    "        while job.phase == 'EXECUTING':\n",
    "            #print('Job still running after {} seconds.'.format(round(time.time() - start_time)))\n",
    "            time.sleep(wait) \n",
    "            #wait *=2\n",
    "\n",
    "        print(job.phase)\n",
    "        try:\n",
    "            result = job_result.fetch_result()\n",
    "            mag_tables[band].update({ f['name']: result.table})\n",
    "            if len(mag_tables[band][f['name']]) != 0:\n",
    "                print(\"Band {} field {} done in {} seconds with {} objects\".format(\n",
    "                    band, \n",
    "                    f['name'],                                                         \n",
    "                    round(time.time() - start_time), \n",
    "                    len(mag_tables[band][f['name']])\n",
    "                ))\n",
    "        except:\n",
    "            print('No mags.')\n",
    "    \n",
    "print(\"Total time: {} seconds\".format(round(time.time() - start)))"
   ]
  },
  {
   "cell_type": "code",
   "execution_count": 20,
   "metadata": {},
   "outputs": [
    {
     "name": "stdout",
     "output_type": "stream",
     "text": [
      "COMPLETED\n"
     ]
    }
   ],
   "source": [
    "query = \"\"\"\n",
    "SELECT \n",
    "f_spire_250\n",
    "FROM help_a_list.main\n",
    "WHERE f_spire_250 IS NOT NULL\n",
    "AND field='ELAIS-N1'\n",
    "\"\"\"\n",
    "\n",
    "job = service.submit_job(query, maxrec=100000000)\n",
    "job.run()\n",
    "job_url = job.url\n",
    "job_result = vo.dal.tap.AsyncTAPJob(job_url)\n",
    "start_time = time.time()\n",
    "wait = 10.\n",
    "while job.phase == 'EXECUTING':\n",
    "            #print('Job still running after {} seconds.'.format(round(time.time() - start_time)))\n",
    "    time.sleep(wait) \n",
    "            #wait *=2\n",
    "\n",
    "print(job.phase)"
   ]
  },
  {
   "cell_type": "code",
   "execution_count": 21,
   "metadata": {},
   "outputs": [
    {
     "ename": "AttributeError",
     "evalue": "'NoneType' object has no attribute 'href'",
     "output_type": "error",
     "traceback": [
      "\u001b[0;31m---------------------------------------------------------------------------\u001b[0m",
      "\u001b[0;31mAttributeError\u001b[0m                            Traceback (most recent call last)",
      "\u001b[0;32m<ipython-input-21-c442777c2ae6>\u001b[0m in \u001b[0;36m<module>\u001b[0;34m\u001b[0m\n\u001b[0;32m----> 1\u001b[0;31m \u001b[0mresult\u001b[0m \u001b[0;34m=\u001b[0m \u001b[0mjob_result\u001b[0m\u001b[0;34m.\u001b[0m\u001b[0mfetch_result\u001b[0m\u001b[0;34m(\u001b[0m\u001b[0;34m)\u001b[0m\u001b[0;34m\u001b[0m\u001b[0;34m\u001b[0m\u001b[0m\n\u001b[0m",
      "\u001b[0;32m~/miniconda3/envs/herschelhelp_internal/lib/python3.6/site-packages/pyvo/dal/tap.py\u001b[0m in \u001b[0;36mfetch_result\u001b[0;34m(self)\u001b[0m\n\u001b[1;32m    829\u001b[0m         \"\"\"\n\u001b[1;32m    830\u001b[0m         \u001b[0;32mtry\u001b[0m\u001b[0;34m:\u001b[0m\u001b[0;34m\u001b[0m\u001b[0;34m\u001b[0m\u001b[0m\n\u001b[0;32m--> 831\u001b[0;31m             \u001b[0mresponse\u001b[0m \u001b[0;34m=\u001b[0m \u001b[0mself\u001b[0m\u001b[0;34m.\u001b[0m\u001b[0m_session\u001b[0m\u001b[0;34m.\u001b[0m\u001b[0mget\u001b[0m\u001b[0;34m(\u001b[0m\u001b[0mself\u001b[0m\u001b[0;34m.\u001b[0m\u001b[0mresult_uri\u001b[0m\u001b[0;34m,\u001b[0m \u001b[0mstream\u001b[0m\u001b[0;34m=\u001b[0m\u001b[0;32mTrue\u001b[0m\u001b[0;34m)\u001b[0m\u001b[0;34m\u001b[0m\u001b[0;34m\u001b[0m\u001b[0m\n\u001b[0m\u001b[1;32m    832\u001b[0m             \u001b[0mresponse\u001b[0m\u001b[0;34m.\u001b[0m\u001b[0mraise_for_status\u001b[0m\u001b[0;34m(\u001b[0m\u001b[0;34m)\u001b[0m\u001b[0;34m\u001b[0m\u001b[0;34m\u001b[0m\u001b[0m\n\u001b[1;32m    833\u001b[0m         \u001b[0;32mexcept\u001b[0m \u001b[0mrequests\u001b[0m\u001b[0;34m.\u001b[0m\u001b[0mRequestException\u001b[0m \u001b[0;32mas\u001b[0m \u001b[0mex\u001b[0m\u001b[0;34m:\u001b[0m\u001b[0;34m\u001b[0m\u001b[0;34m\u001b[0m\u001b[0m\n",
      "\u001b[0;32m~/miniconda3/envs/herschelhelp_internal/lib/python3.6/site-packages/pyvo/dal/tap.py\u001b[0m in \u001b[0;36mresult_uri\u001b[0;34m(self)\u001b[0m\n\u001b[1;32m    720\u001b[0m         \"\"\"\n\u001b[1;32m    721\u001b[0m         \u001b[0;32mtry\u001b[0m\u001b[0;34m:\u001b[0m\u001b[0;34m\u001b[0m\u001b[0;34m\u001b[0m\u001b[0m\n\u001b[0;32m--> 722\u001b[0;31m             \u001b[0muri\u001b[0m \u001b[0;34m=\u001b[0m \u001b[0mself\u001b[0m\u001b[0;34m.\u001b[0m\u001b[0mresult\u001b[0m\u001b[0;34m.\u001b[0m\u001b[0mhref\u001b[0m\u001b[0;34m\u001b[0m\u001b[0;34m\u001b[0m\u001b[0m\n\u001b[0m\u001b[1;32m    723\u001b[0m             \u001b[0;32mif\u001b[0m \u001b[0;32mnot\u001b[0m \u001b[0murlparse\u001b[0m\u001b[0;34m(\u001b[0m\u001b[0muri\u001b[0m\u001b[0;34m)\u001b[0m\u001b[0;34m.\u001b[0m\u001b[0mnetloc\u001b[0m\u001b[0;34m:\u001b[0m\u001b[0;34m\u001b[0m\u001b[0;34m\u001b[0m\u001b[0m\n\u001b[1;32m    724\u001b[0m                 \u001b[0muri\u001b[0m \u001b[0;34m=\u001b[0m \u001b[0murljoin\u001b[0m\u001b[0;34m(\u001b[0m\u001b[0mself\u001b[0m\u001b[0;34m.\u001b[0m\u001b[0murl\u001b[0m\u001b[0;34m,\u001b[0m \u001b[0muri\u001b[0m\u001b[0;34m)\u001b[0m\u001b[0;34m\u001b[0m\u001b[0;34m\u001b[0m\u001b[0m\n",
      "\u001b[0;31mAttributeError\u001b[0m: 'NoneType' object has no attribute 'href'"
     ]
    }
   ],
   "source": [
    "result = job_result.fetch_result()"
   ]
  },
  {
   "cell_type": "code",
   "execution_count": 17,
   "metadata": {},
   "outputs": [
    {
     "ename": "TypeError",
     "evalue": "'Result' object is not callable",
     "output_type": "error",
     "traceback": [
      "\u001b[0;31m---------------------------------------------------------------------------\u001b[0m",
      "\u001b[0;31mTypeError\u001b[0m                                 Traceback (most recent call last)",
      "\u001b[0;32m<ipython-input-17-a95fadf579e1>\u001b[0m in \u001b[0;36m<module>\u001b[0;34m\u001b[0m\n\u001b[0;32m----> 1\u001b[0;31m \u001b[0mjob_result\u001b[0m\u001b[0;34m.\u001b[0m\u001b[0mresult\u001b[0m\u001b[0;34m(\u001b[0m\u001b[0;34m)\u001b[0m\u001b[0;34m\u001b[0m\u001b[0;34m\u001b[0m\u001b[0m\n\u001b[0m",
      "\u001b[0;31mTypeError\u001b[0m: 'Result' object is not callable"
     ]
    }
   ],
   "source": [
    "job_result."
   ]
  },
  {
   "cell_type": "code",
   "execution_count": null,
   "metadata": {},
   "outputs": [],
   "source": [
    "mag_tables['spire_500']['COSMOS']['f_spire_500']"
   ]
  },
  {
   "cell_type": "code",
   "execution_count": null,
   "metadata": {},
   "outputs": [],
   "source": [
    "mag_tables"
   ]
  },
  {
   "cell_type": "code",
   "execution_count": null,
   "metadata": {},
   "outputs": [],
   "source": [
    "#service.maxrec=100000000\n",
    "print(service.hardlimit)"
   ]
  },
  {
   "cell_type": "markdown",
   "metadata": {},
   "source": [
    "Herschel Stripe 82 hits the hard limit on rows so we must get it from two queries"
   ]
  },
  {
   "cell_type": "code",
   "execution_count": null,
   "metadata": {},
   "outputs": [],
   "source": [
    "write = True\n",
    "read = False\n",
    "for band in bands:\n",
    "    for f in fields:\n",
    "        if write and (len(mag_tables[band][f['name']]) != 0):\n",
    "            clean_table(mag_tables[band][f['name']]).write(\n",
    "                './data/{}_{}.fits'.format(band, f['name']), overwrite = True\n",
    "            )\n",
    "            print('Table cleaned and written to ./data/{}_{}.fits'.format(band, f['name']))\n",
    "        elif read:\n",
    "            mag_tables[band].update( \n",
    "                {f['name'] : Table.read('./data/{}_{}.fits'.format(band, f['name']))} \n",
    "            ) \n",
    "    "
   ]
  },
  {
   "cell_type": "markdown",
   "metadata": {},
   "source": [
    "## Plot the histograms"
   ]
  },
  {
   "cell_type": "code",
   "execution_count": null,
   "metadata": {},
   "outputs": [],
   "source": [
    "bands_plotting = {\n",
    "    'pacs_green':['PACS Green','g'], \n",
    "    'pacs_red':['PACS red','r'], \n",
    "    'spire_250':['SPIRE 250','b'],  \n",
    "    'spire_350':['SPIRE 350','c'],  \n",
    "    'spire_500':['SPIRE 500','m'],  \n",
    "\n",
    "}"
   ]
  },
  {
   "cell_type": "code",
   "execution_count": null,
   "metadata": {},
   "outputs": [],
   "source": [
    "fig, ax = plt.subplots()\n",
    "\n",
    "\n",
    "f = 'COSMOS'\n",
    "area = 5\n",
    "for band in [b for b in mag_tables if b.endswith('green')]:\n",
    "    mask = np.isfinite(mag_tables[band][f]['f_'+band])\n",
    "    mags = mag_tables[band][f][mask]['f_'+band]\n",
    "    if not np.sum(mask)==0:\n",
    "        #vz.hist(table[name][mask], bins='scott', label=label, alpha=.5)\n",
    "        h = np.histogram(np.log10(mags), bins = 100)\n",
    "        bin_width = (np.abs(h[1][5] - h[1][4]) )\n",
    "        #ax.fill_between( h[1][:-1], h[0]/bin_width)#, alpha=0.4)\n",
    "        ax.plot( h[1][:-1], h[0]/bin_width , c=bands_plotting[band][1])#, alpha=0.4)\n",
    "\n",
    "\n",
    "ax.legend(loc=1, fontsize=8)\n",
    "\n",
    "plt.xlim(2.,5.)\n",
    "plt.xlabel(\"Log(Flux /[uJy])\")\n",
    "plt.yscale('log')\n",
    "#plt.xscale('log')\n",
    "#plt.ylim(0.,0.4)\n",
    "plt.ylabel('Number [dex$^{-1}$]')\n",
    "\n",
    "plt.rc('font', family='serif', serif='Times')\n",
    "plt.rc('text') #, usetex=True)\n",
    "plt.rc('xtick', labelsize=12)\n",
    "plt.rc('ytick', labelsize=12)\n",
    "plt.rc('axes', labelsize=12)\n",
    "\n",
    "\n",
    "#plt.savefig('./figs/numbers_g_en1.pdf', bbox_inches='tight')\n",
    "#plt.savefig('./figs/numbers_g_en1.png', bbox_inches='tight')"
   ]
  },
  {
   "cell_type": "code",
   "execution_count": null,
   "metadata": {},
   "outputs": [],
   "source": [
    "for n, f in enumerate(fields):\n",
    "    print(f['name'])"
   ]
  },
  {
   "cell_type": "code",
   "execution_count": null,
   "metadata": {},
   "outputs": [],
   "source": [
    "areas = {}\n",
    "for band in bands:\n",
    "    areas.update({band: {}})\n",
    "    for n, f in enumerate(fields):\n",
    "        f = f['name']\n",
    "        f_moc = MOC(filename='../../../dmu2/dmu2_field_coverages/{}_MOC.fits'.format(f))\n",
    "    \n",
    "        #band_moc = MOC(10,\n",
    "        #    depth_result[~np.isnan(depth_result['ferr_{}_mean'.format(band)])]['hp_idx_o_10']\n",
    "        #)\n",
    "        area = f_moc.area_sq_deg #.flattened(order=10)\n",
    "        areas[band].update({f: area})\n",
    "        \n",
    "np.save('./data/areas.npy', areas) "
   ]
  },
  {
   "cell_type": "code",
   "execution_count": null,
   "metadata": {},
   "outputs": [],
   "source": [
    "\n",
    "areas = np.load('./data/areas.npy').item()"
   ]
  },
  {
   "cell_type": "code",
   "execution_count": null,
   "metadata": {},
   "outputs": [],
   "source": [
    "areas"
   ]
  },
  {
   "cell_type": "code",
   "execution_count": null,
   "metadata": {},
   "outputs": [],
   "source": [
    "dim = [4,6]\n",
    "fig, axes = plt.subplots(dim[1], dim[0], sharex=True, sharey=True)\n",
    "plt.rcParams.update({'font.size': 12})\n",
    "\n",
    "#area_per_pixel  = MOC(10, (1234)).area_sq_degrees\n",
    "for n, f in enumerate(fields):\n",
    "    f = f['name']\n",
    "        \n",
    "    x, y = np.floor_divide(n, dim[0]), np.remainder(n, dim[0])\n",
    "    \n",
    "   \n",
    "    \n",
    "    \n",
    "    for band in mag_tables: #[b for b in mag_tables if b.endswith('g')]:\n",
    "        mask = np.isfinite(mag_tables[band][f]['f_'+band])\n",
    "        #mask &= (bands[band][0]['field'] == f)\n",
    "\n",
    "        \n",
    "        area = areas[band][f]\n",
    "        #area=f_moc.area_sq_deg\n",
    "        mags = mag_tables[band][f][mask]['f_'+band]\n",
    "        if not np.sum(mask)==0:\n",
    "            #vz.hist(table[name][mask], bins='scott', label=label, alpha=.5)\n",
    "            h = np.histogram(np.log10(mags), bins = 100)\n",
    "            bin_width = (np.abs(h[1][5] - h[1][4]) )\n",
    "            #ax.fill_between( h[1][:-1], h[0]/bin_width)#, alpha=0.4)\n",
    "            axes[x,y].plot( h[1][:-1], h[0]/(bin_width*area), c=bands_plotting[band][1])#, alpha=0.4)\n",
    "\n",
    "\n",
    " \n",
    "   \n",
    "\n",
    "\n",
    "    axes[x,y].get_xaxis().set_tick_params(direction='out')\n",
    "    axes[x,y].xaxis.set_ticks_position('bottom')\n",
    "    axes[x,y].tick_params(axis='x', labelsize=8)\n",
    "    axes[x,y].set_xlim(2, 5)\n",
    "    axes[x,y].set_xticks([2,3,4])\n",
    "    axes[x,y].set_ylim(1.e1, 1.e6)\n",
    "    axes[x,y].set_yscale('log')\n",
    "    \n",
    "    axes[x,y].scatter([-99],[-99], \n",
    "                      label=f, \n",
    "                      c='w', s=0.0001)\n",
    "    axes[x,y].legend(frameon=False, loc=(-0.2, 0.8)) #, bbox_to_anchor=(0.1, 0.7, 0.2, 0.2)\n",
    "\n",
    "\n",
    "\n",
    "\n",
    "for band in mag_tables: #[b for b in mag_tables if b.endswith('g')]:\n",
    "    axes[dim[1]-1,dim[0]-1].scatter([-99],[-99], \n",
    "                      label=bands_plotting[band][0], \n",
    "                      c=bands_plotting[band][1], s=5.)\n",
    "axes[dim[1]-1,dim[0]-1].legend( prop={'size': 10},ncol=1)    \n",
    "    \n",
    "axes[dim[1]-1,dim[0]-1].tick_params(axis='x', labelsize=8)\n",
    "#axes[dim[1]-1,dim[0]-1].set_xlabel('band')\n",
    "    \n",
    "fig.text(0.5, 0.07, 'Log10(flux/[$\\mu$Jy]) ', ha='center')\n",
    "fig.text(0.04, 0.5, 'Differential $Herschel$ number counts [deg.$^{-2}$ dex$^{-1}$]', va='center', rotation='vertical')\n",
    "\n",
    "fig.set_size_inches(10, 12)\n",
    "fig.subplots_adjust(hspace=0, wspace=0)\n",
    "\n",
    "plt.rc('axes', labelsize=12)\n",
    "plt.savefig('./figs/numbers_Herschel_allfields.pdf', bbox_inches='tight')\n",
    "plt.savefig('./figs/numbers_Herschel_allfields.png', bbox_inches='tight')"
   ]
  },
  {
   "cell_type": "code",
   "execution_count": null,
   "metadata": {},
   "outputs": [],
   "source": []
  }
 ],
 "metadata": {
  "anaconda-cloud": {},
  "kernelspec": {
   "display_name": "Python (herschelhelp_internal)",
   "language": "python",
   "name": "helpint"
  },
  "language_info": {
   "codemirror_mode": {
    "name": "ipython",
    "version": 3
   },
   "file_extension": ".py",
   "mimetype": "text/x-python",
   "name": "python",
   "nbconvert_exporter": "python",
   "pygments_lexer": "ipython3",
   "version": "3.6.10"
  }
 },
 "nbformat": 4,
 "nbformat_minor": 2
}
