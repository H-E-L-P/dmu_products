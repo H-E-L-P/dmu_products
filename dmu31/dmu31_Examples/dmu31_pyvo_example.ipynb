{
 "cells": [
  {
   "cell_type": "markdown",
   "metadata": {
    "deletable": true,
    "editable": true
   },
   "source": [
    "# Some simple examples of interacting with the HELP database\n",
    "\n",
    "In this notebook we will demostrate some ways you can use HELP data. The simplest way to use HELP data is probably to download a fits table from HeDaM and use the table with TOPCAT or astropy. In this example we will look at the ELAIS-N1 field. You can download the file (10Gb) here:\n",
    "\n",
    "http://hedam.lam.fr/HELP/dataproducts/dmu32/dmu32_ELAIS-N1/data/ELAIS-N1_20171016.fits\n",
    "\n",
    "That is a large fiel that would take some time to download. Perhaps you only want to look a small region with the field or only want a subset of columns for you analysis. This is where the Virtual Obersvatory (VO) can be very useful. It allows you to query the database for only the specific information you are interested in.\n",
    "\n",
    "In order to do this we will use PyVO...\n",
    "\n",
    "\n",
    "\n",
    "\n",
    "\n"
   ]
  },
  {
   "cell_type": "code",
   "execution_count": 22,
   "metadata": {
    "collapsed": true,
    "deletable": true,
    "editable": true
   },
   "outputs": [],
   "source": [
    "import pyvo as vo"
   ]
  },
  {
   "cell_type": "markdown",
   "metadata": {
    "deletable": true,
    "editable": true
   },
   "source": [
    "If that failed you probably haven't installed PyVO. If you install the herschelhelp_python package and run this notebook with that kernel then you will have PyVO installed.\n",
    "\n",
    "https://github.com/H-E-L-P/herschelhelp_python\n",
    "\n",
    "Alternatively you can install it individually using your preferred method for installing Python packages.\n",
    "\n",
    "Now in order to query the VO we need to write a query. As an example lets get all the ELAIS-N1 objects with a redshift greater than 4."
   ]
  },
  {
   "cell_type": "code",
   "execution_count": 23,
   "metadata": {
    "collapsed": true,
    "deletable": true,
    "editable": true
   },
   "outputs": [],
   "source": [
    "# SELECT - columns you want to select\n",
    "# FROM -  which table you want to \n",
    "# WHERE - the criteria the search results must meet\n",
    "\n",
    "example_query=\"\"\"\n",
    "SELECT ra, dec, redshift, cigale_dustlumin\n",
    "FROM herschelhelp.main\n",
    "WHERE (\n",
    "herschelhelp.main.field='ELAIS-N1'\n",
    "AND herschelhelp.main.redshift>4\n",
    ")\n",
    "\"\"\""
   ]
  },
  {
   "cell_type": "markdown",
   "metadata": {
    "deletable": true,
    "editable": true
   },
   "source": [
    "You could copy paste the above query into the html query page:\n",
    "\n",
    "http://vohedamtest.lam.fr/__system__/adql/query/form\n",
    "\n",
    "But here we will execute it using PyVO:"
   ]
  },
  {
   "cell_type": "code",
   "execution_count": 24,
   "metadata": {
    "collapsed": true,
    "deletable": true,
    "editable": true
   },
   "outputs": [],
   "source": [
    "#Then we establish the VO connection to our database\n",
    "service = vo.dal.TAPService(\"http://vohedamtest.lam.fr/__system__/tap/run/tap\")"
   ]
  },
  {
   "cell_type": "code",
   "execution_count": 25,
   "metadata": {
    "collapsed": false,
    "deletable": true,
    "editable": true
   },
   "outputs": [
    {
     "name": "stderr",
     "output_type": "stream",
     "text": [
      "WARNING: W27: None:2:1176: W27: COOSYS deprecated in VOTable 1.2 [astropy.io.votable.tree]\n",
      "WARNING: W06: None:2:2476: W06: Invalid UCD 'phys.dust;phys.luminosity': Unknown word 'phys.dust' [astropy.io.votable.tree]\n"
     ]
    }
   ],
   "source": [
    "#Then we execute the query\n",
    "resultset = service.search(example_query)"
   ]
  },
  {
   "cell_type": "code",
   "execution_count": 26,
   "metadata": {
    "collapsed": false,
    "deletable": true,
    "editable": true
   },
   "outputs": [
    {
     "data": {
      "text/html": [
       "<i>Table masked=True length=85572</i>\n",
       "<table id=\"table4924444968\" class=\"table-striped table-bordered table-condensed\">\n",
       "<thead><tr><th>ra</th><th>dec</th><th>redshift</th><th>cigale_dustlumin</th></tr></thead>\n",
       "<thead><tr><th>deg</th><th>deg</th><th></th><th>W</th></tr></thead>\n",
       "<thead><tr><th>float64</th><th>float64</th><th>float32</th><th>float64</th></tr></thead>\n",
       "<tr><td>246.555662513057</td><td>55.003551059499301</td><td>4.5766001</td><td>--</td></tr>\n",
       "<tr><td>246.546474785057</td><td>54.997026013499301</td><td>4.8196998</td><td>--</td></tr>\n",
       "<tr><td>246.397152569057</td><td>54.927381462499298</td><td>4.2312999</td><td>--</td></tr>\n",
       "<tr><td>246.38414028705699</td><td>54.952376668499298</td><td>4.8771</td><td>--</td></tr>\n",
       "<tr><td>246.391144082057</td><td>54.9396872434993</td><td>4.0481</td><td>--</td></tr>\n",
       "<tr><td>246.44518433205701</td><td>55.000396006499301</td><td>5.0402002</td><td>--</td></tr>\n",
       "<tr><td>246.41164064105701</td><td>55.0204406554993</td><td>5.0925999</td><td>--</td></tr>\n",
       "<tr><td>246.413862278057</td><td>55.0054131774993</td><td>4.6952</td><td>--</td></tr>\n",
       "<tr><td>246.401368546057</td><td>55.012446681499299</td><td>4.9246001</td><td>--</td></tr>\n",
       "<tr><td>...</td><td>...</td><td>...</td><td>...</td></tr>\n",
       "<tr><td>239.10977223905701</td><td>54.642360868499303</td><td>4.6788998</td><td>--</td></tr>\n",
       "<tr><td>239.100740939057</td><td>54.648426408499297</td><td>4.5992999</td><td>--</td></tr>\n",
       "<tr><td>239.11018292746701</td><td>54.7110898655787</td><td>4.7849998</td><td>--</td></tr>\n",
       "<tr><td>239.09112570705699</td><td>54.715674113499297</td><td>4.5995002</td><td>--</td></tr>\n",
       "<tr><td>239.083845867924</td><td>54.729565023113899</td><td>5.2941999</td><td>--</td></tr>\n",
       "<tr><td>239.11001283105699</td><td>55.001597679499298</td><td>6.9067998</td><td>--</td></tr>\n",
       "<tr><td>239.10892315305699</td><td>54.995338971499301</td><td>4.3011999</td><td>--</td></tr>\n",
       "<tr><td>239.105466580057</td><td>54.998672856499297</td><td>4.1054001</td><td>--</td></tr>\n",
       "<tr><td>239.095654958057</td><td>55.0079141494993</td><td>4.6278</td><td>--</td></tr>\n",
       "<tr><td>239.09667155205699</td><td>54.9927280284993</td><td>4.7912002</td><td>--</td></tr>\n",
       "</table>"
      ],
      "text/plain": [
       "<Table masked=True length=85572>\n",
       "        ra                dec          redshift cigale_dustlumin\n",
       "       deg                deg                          W        \n",
       "     float64            float64        float32      float64     \n",
       "------------------ ------------------ --------- ----------------\n",
       "  246.555662513057 55.003551059499301 4.5766001               --\n",
       "  246.546474785057 54.997026013499301 4.8196998               --\n",
       "  246.397152569057 54.927381462499298 4.2312999               --\n",
       "246.38414028705699 54.952376668499298    4.8771               --\n",
       "  246.391144082057   54.9396872434993    4.0481               --\n",
       "246.44518433205701 55.000396006499301 5.0402002               --\n",
       "246.41164064105701   55.0204406554993 5.0925999               --\n",
       "  246.413862278057   55.0054131774993    4.6952               --\n",
       "  246.401368546057 55.012446681499299 4.9246001               --\n",
       "               ...                ...       ...              ...\n",
       "239.10977223905701 54.642360868499303 4.6788998               --\n",
       "  239.100740939057 54.648426408499297 4.5992999               --\n",
       "239.11018292746701   54.7110898655787 4.7849998               --\n",
       "239.09112570705699 54.715674113499297 4.5995002               --\n",
       "  239.083845867924 54.729565023113899 5.2941999               --\n",
       "239.11001283105699 55.001597679499298 6.9067998               --\n",
       "239.10892315305699 54.995338971499301 4.3011999               --\n",
       "  239.105466580057 54.998672856499297 4.1054001               --\n",
       "  239.095654958057   55.0079141494993    4.6278               --\n",
       "239.09667155205699   54.9927280284993 4.7912002               --"
      ]
     },
     "execution_count": 26,
     "metadata": {},
     "output_type": "execute_result"
    }
   ],
   "source": [
    "resultset.table"
   ]
  },
  {
   "cell_type": "code",
   "execution_count": 27,
   "metadata": {
    "collapsed": false,
    "deletable": true,
    "editable": true
   },
   "outputs": [
    {
     "name": "stdout",
     "output_type": "stream",
     "text": [
      "There are 85572 objects in ELAIS-N1 with a redshift above 4.\n"
     ]
    }
   ],
   "source": [
    "print(\"There are {} objects in ELAIS-N1 with a redshift above 4.\".format(len(resultset.table)))"
   ]
  },
  {
   "cell_type": "markdown",
   "metadata": {
    "deletable": true,
    "editable": true
   },
   "source": [
    "Lets just look at the galxies with a CIGALE dust luminosity"
   ]
  },
  {
   "cell_type": "code",
   "execution_count": 28,
   "metadata": {
    "collapsed": false,
    "deletable": true,
    "editable": true
   },
   "outputs": [
    {
     "name": "stderr",
     "output_type": "stream",
     "text": [
      "/Users/rs548/anaconda/envs/herschelhelp_internal/lib/python3.6/site-packages/astropy/table/column.py:965: RuntimeWarning: invalid value encountered in greater\n",
      "  return getattr(self.data, op)(other)\n"
     ]
    },
    {
     "data": {
      "text/html": [
       "<i>Table masked=True length=548</i>\n",
       "<table id=\"table4924389864\" class=\"table-striped table-bordered table-condensed\">\n",
       "<thead><tr><th>ra</th><th>dec</th><th>redshift</th><th>cigale_dustlumin</th></tr></thead>\n",
       "<thead><tr><th>deg</th><th>deg</th><th></th><th>W</th></tr></thead>\n",
       "<thead><tr><th>float64</th><th>float64</th><th>float32</th><th>float64</th></tr></thead>\n",
       "<tr><td>246.14931803705699</td><td>54.809186737499303</td><td>5.0386</td><td>2.5676551478449e+39</td></tr>\n",
       "<tr><td>246.142722151057</td><td>54.796410900499303</td><td>5.5542998</td><td>4.9495341508333003e+39</td></tr>\n",
       "<tr><td>246.052311434057</td><td>54.833570216499297</td><td>5.7277002</td><td>1.9968836505858899e+39</td></tr>\n",
       "<tr><td>245.662680998057</td><td>54.803000700499297</td><td>4.9025998</td><td>2.9256870365008103e+39</td></tr>\n",
       "<tr><td>245.53703475905701</td><td>54.636527328499298</td><td>4.9355001</td><td>2.7411183850620899e+39</td></tr>\n",
       "<tr><td>245.427574447057</td><td>54.692954164499298</td><td>4.8910999</td><td>5.4584847835451502e+39</td></tr>\n",
       "<tr><td>245.25461235305701</td><td>54.697848129499299</td><td>5.6761999</td><td>6.2213053662153604e+39</td></tr>\n",
       "<tr><td>245.83274087705701</td><td>55.346899091499303</td><td>4.1290002</td><td>2.42122800018857e+39</td></tr>\n",
       "<tr><td>245.37802747605701</td><td>55.282590311499298</td><td>5.5229001</td><td>4.5451596391438499e+39</td></tr>\n",
       "<tr><td>...</td><td>...</td><td>...</td><td>...</td></tr>\n",
       "<tr><td>240.21271985405701</td><td>54.6885793514993</td><td>4.9288998</td><td>7.6360474232459204e+39</td></tr>\n",
       "<tr><td>240.08311886605699</td><td>54.6845476884993</td><td>4.9776001</td><td>3.6463978077662102e+39</td></tr>\n",
       "<tr><td>240.054497359057</td><td>54.710187106499298</td><td>5.1499</td><td>1.5075099182612501e+39</td></tr>\n",
       "<tr><td>240.27762134005701</td><td>55.2502169034993</td><td>4.9631</td><td>5.22705283434084e+39</td></tr>\n",
       "<tr><td>240.22574852705699</td><td>55.268350270499297</td><td>5.0251002</td><td>4.4490955781957303e+39</td></tr>\n",
       "<tr><td>240.15862158205701</td><td>55.100210505499298</td><td>4.5486999</td><td>2.5656889062731399e+39</td></tr>\n",
       "<tr><td>240.173950076057</td><td>54.9782225514993</td><td>4.4177999</td><td>6.8265540614961194e+39</td></tr>\n",
       "<tr><td>239.56528639605699</td><td>54.808217529499302</td><td>5.0035</td><td>5.9250862731313694e+39</td></tr>\n",
       "<tr><td>239.356651982057</td><td>55.013747431499297</td><td>4.6564999</td><td>1.51565546266832e+39</td></tr>\n",
       "<tr><td>239.598031613057</td><td>55.130811222499297</td><td>4.9376001</td><td>6.2590117397044798e+39</td></tr>\n",
       "</table>"
      ],
      "text/plain": [
       "<Table masked=True length=548>\n",
       "        ra                dec          redshift    cigale_dustlumin   \n",
       "       deg                deg                             W           \n",
       "     float64            float64        float32         float64        \n",
       "------------------ ------------------ --------- ----------------------\n",
       "246.14931803705699 54.809186737499303    5.0386    2.5676551478449e+39\n",
       "  246.142722151057 54.796410900499303 5.5542998 4.9495341508333003e+39\n",
       "  246.052311434057 54.833570216499297 5.7277002 1.9968836505858899e+39\n",
       "  245.662680998057 54.803000700499297 4.9025998 2.9256870365008103e+39\n",
       "245.53703475905701 54.636527328499298 4.9355001 2.7411183850620899e+39\n",
       "  245.427574447057 54.692954164499298 4.8910999 5.4584847835451502e+39\n",
       "245.25461235305701 54.697848129499299 5.6761999 6.2213053662153604e+39\n",
       "245.83274087705701 55.346899091499303 4.1290002   2.42122800018857e+39\n",
       "245.37802747605701 55.282590311499298 5.5229001 4.5451596391438499e+39\n",
       "               ...                ...       ...                    ...\n",
       "240.21271985405701   54.6885793514993 4.9288998 7.6360474232459204e+39\n",
       "240.08311886605699   54.6845476884993 4.9776001 3.6463978077662102e+39\n",
       "  240.054497359057 54.710187106499298    5.1499 1.5075099182612501e+39\n",
       "240.27762134005701   55.2502169034993    4.9631   5.22705283434084e+39\n",
       "240.22574852705699 55.268350270499297 5.0251002 4.4490955781957303e+39\n",
       "240.15862158205701 55.100210505499298 4.5486999 2.5656889062731399e+39\n",
       "  240.173950076057   54.9782225514993 4.4177999 6.8265540614961194e+39\n",
       "239.56528639605699 54.808217529499302    5.0035 5.9250862731313694e+39\n",
       "  239.356651982057 55.013747431499297 4.6564999   1.51565546266832e+39\n",
       "  239.598031613057 55.130811222499297 4.9376001 6.2590117397044798e+39"
      ]
     },
     "execution_count": 28,
     "metadata": {},
     "output_type": "execute_result"
    }
   ],
   "source": [
    "resultset.table[resultset.table['cigale_dustlumin'] > 0]"
   ]
  },
  {
   "cell_type": "markdown",
   "metadata": {
    "deletable": true,
    "editable": true
   },
   "source": [
    "We can then investigate the data using typical Python commands"
   ]
  },
  {
   "cell_type": "code",
   "execution_count": 29,
   "metadata": {
    "collapsed": false,
    "deletable": true,
    "editable": true
   },
   "outputs": [
    {
     "name": "stderr",
     "output_type": "stream",
     "text": [
      "/Users/rs548/anaconda/envs/herschelhelp_internal/lib/python3.6/site-packages/matplotlib/__init__.py:1401: UserWarning:  This call to matplotlib.use() has no effect\n",
      "because the backend has already been chosen;\n",
      "matplotlib.use() must be called *before* pylab, matplotlib.pyplot,\n",
      "or matplotlib.backends is imported for the first time.\n",
      "\n",
      "  warnings.warn(_use_error_msg)\n"
     ]
    }
   ],
   "source": [
    "#You must have matplot lib installed to produce these plots\n",
    "%matplotlib inline\n",
    "#%config InlineBackend.figure_format = 'svg'\n",
    "\n",
    "import matplotlib as mpl\n",
    "mpl.use('pdf')\n",
    "import matplotlib.pyplot as plt"
   ]
  },
  {
   "cell_type": "code",
   "execution_count": 31,
   "metadata": {
    "collapsed": false
   },
   "outputs": [
    {
     "name": "stderr",
     "output_type": "stream",
     "text": [
      "/Users/rs548/anaconda/envs/herschelhelp_internal/lib/python3.6/site-packages/astropy/table/column.py:965: RuntimeWarning: invalid value encountered in greater\n",
      "  return getattr(self.data, op)(other)\n"
     ]
    }
   ],
   "source": [
    "example_table = resultset.table[resultset.table['cigale_dustlumin'] > 0]"
   ]
  },
  {
   "cell_type": "code",
   "execution_count": 33,
   "metadata": {
    "collapsed": false,
    "deletable": true,
    "editable": true
   },
   "outputs": [
    {
     "data": {
      "text/plain": [
       "<matplotlib.collections.PathCollection at 0x1244c2160>"
      ]
     },
     "execution_count": 33,
     "metadata": {},
     "output_type": "execute_result"
    },
    {
     "data": {
      "image/png": "[encoded data removed]",
      "text/plain": [
       "<matplotlib.figure.Figure at 0x11c8f3748>"
      ]
     },
     "metadata": {},
     "output_type": "display_data"
    }
   ],
   "source": [
    "fig, ax = plt.subplots()\n",
    "\n",
    "ax.scatter(example_table['redshift'], example_table['cigale_dustlumin'])"
   ]
  },
  {
   "cell_type": "markdown",
   "metadata": {
    "deletable": true,
    "editable": true
   },
   "source": [
    "## More advanced queries\n",
    "\n",
    "We have written some code in hershelhelp_python to perform more advanced queries. Spefically it is possible to use the depth map tables to get areas that satisfy some depth criteria.\n"
   ]
  },
  {
   "cell_type": "code",
   "execution_count": 16,
   "metadata": {
    "collapsed": true,
    "deletable": true,
    "editable": true
   },
   "outputs": [],
   "source": [
    "\n",
    "\n",
    "#This function requires pymoc\n",
    "from pymoc import MOC\n",
    "\n",
    "\n",
    "\n",
    "\n",
    "def get_depth_coverage(coverage_dict):\n",
    "    \"\"\"Generate a Multi-Order Coverage maps corresponding to depth constraints\n",
    "    This method connects to HELP Virtual Observatory server to get the list of\n",
    "    HEALPix cells corresponding to depth constraints. The constraints are\n",
    "    expressed as a dictionnary associated to a band name the minimum depth\n",
    "    value in this band.\n",
    "    This method returns the Multi-Order Coverage maps of the corresponding\n",
    "    area.\n",
    "    Parameters\n",
    "    ----------\n",
    "    coverage_dict : dict\n",
    "        Dictionnary associating to a band name the required minimum depth\n",
    "        value.\n",
    "    Returns\n",
    "    -------\n",
    "    pymoc.MOC\n",
    "        The Multi-Order Coverage map corresponding to the depth constraints in\n",
    "        HELP data.\n",
    "    \"\"\"\n",
    "\n",
    "    moc_list = []\n",
    "\n",
    "    for band in coverage_dict:\n",
    "\n",
    "        query = \"select top 100000000 hp_idx_O_13 from \" \\\n",
    "                \"depth.main where ferr_{}_mean <= {}\".format(\n",
    "                    str(band), float(coverage_dict[band]))\n",
    "\n",
    "   \n",
    "        vo_result = vo.tablesearch(\n",
    "            \"http://vohedamtest.lam.fr/__system__/tap/run/tap\", query).table\n",
    "\n",
    "        moc = MOC()\n",
    "        if len(vo_result):\n",
    "            #for group in vo_result.group_by('healpix_order').groups:\n",
    "            #    order = group['healpix_order'][0]\n",
    "            #    cells = group['healpix_npix']\n",
    "            #    moc.add(order, cells)\n",
    "            moc.add(13, vo_result['hp_idx_o_13'])\n",
    "        moc_list.append(moc)\n",
    "\n",
    "    result_moc = moc_list.pop()\n",
    "    for moc in moc_list:\n",
    "        result_moc = result_moc.intersection(moc)\n",
    "\n",
    "    return result_moc"
   ]
  },
  {
   "cell_type": "code",
   "execution_count": 17,
   "metadata": {
    "collapsed": true,
    "deletable": true,
    "editable": true
   },
   "outputs": [],
   "source": [
    "#We are using our internal code to convert mad to flux \n",
    "#you can comment this and the next cell and set flux_lim = 4.5\n",
    "#if you don't have hershcelhelp_internal installed\n",
    "from herschelhelp_internal.utils import mag_to_flux\n"
   ]
  },
  {
   "cell_type": "code",
   "execution_count": 18,
   "metadata": {
    "collapsed": false,
    "deletable": true,
    "editable": true
   },
   "outputs": [],
   "source": [
    "#Suppose we want all the regions with IRAC 1 depth higher than 24mag. First lets get 24mag in uJy\n",
    "flux_lim = mag_to_flux([24])[0] * 1.e6\n",
    "#Lets assume a 5 sigma cut\n",
    "flux_lim = flux_lim * 5"
   ]
  },
  {
   "cell_type": "code",
   "execution_count": 19,
   "metadata": {
    "collapsed": false,
    "deletable": true,
    "editable": true
   },
   "outputs": [
    {
     "data": {
      "text/plain": [
       "array([ 4.5600542])"
      ]
     },
     "execution_count": 19,
     "metadata": {},
     "output_type": "execute_result"
    }
   ],
   "source": [
    "#The limiting flux an object must have in order to be in the catalogue\n",
    "flux_lim"
   ]
  },
  {
   "cell_type": "code",
   "execution_count": 20,
   "metadata": {
    "collapsed": false,
    "deletable": true,
    "editable": true
   },
   "outputs": [],
   "source": [
    "test_moc = get_depth_coverage({'irac_i1':flux_lim})"
   ]
  },
  {
   "cell_type": "code",
   "execution_count": 21,
   "metadata": {
    "collapsed": false,
    "deletable": true,
    "editable": true
   },
   "outputs": [],
   "source": [
    "#Folder data must exist\n",
    "test_moc.write('./data/irac_i1_deeper_than_24_MOC.fits', overwrite=True)"
   ]
  },
  {
   "cell_type": "code",
   "execution_count": null,
   "metadata": {
    "collapsed": true
   },
   "outputs": [],
   "source": []
  }
 ],
 "metadata": {
  "kernelspec": {
   "display_name": "Python (herschelhelp_internal)",
   "language": "python",
   "name": "helpint"
  },
  "language_info": {
   "codemirror_mode": {
    "name": "ipython",
    "version": 3
   },
   "file_extension": ".py",
   "mimetype": "text/x-python",
   "name": "python",
   "nbconvert_exporter": "python",
   "pygments_lexer": "ipython3",
   "version": "3.6.4"
  }
 },
 "nbformat": 4,
 "nbformat_minor": 2
}
