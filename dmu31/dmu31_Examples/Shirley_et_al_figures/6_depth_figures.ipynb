{
 "cells": [
  {
   "cell_type": "markdown",
   "metadata": {},
   "source": [
    "# Make depth summary figures\n",
    "\n",
    "This notebook is to produce some figures for the ELAIS-N1 paper.\n",
    "\n",
    "First we will, for every helpix 13 in HELP get the highest K or Ks depth, g depth, and irac 1 depth. We will then plot cumulative area histograms and generate the 25%, 50%, 75% areas to summarise the depths across all HELP.\n",
    "\n"
   ]
  },
  {
   "cell_type": "code",
   "execution_count": 1,
   "metadata": {},
   "outputs": [
    {
     "name": "stdout",
     "output_type": "stream",
     "text": [
      "This notebook was run with herschelhelp_internal version: \n",
      "1407877 (Mon Feb 4 12:56:29 2019 +0000)\n"
     ]
    }
   ],
   "source": [
    "from herschelhelp_internal import git_version\n",
    "print(\"This notebook was run with herschelhelp_internal version: \\n{}\".format(git_version()))\n"
   ]
  },
  {
   "cell_type": "code",
   "execution_count": 13,
   "metadata": {},
   "outputs": [],
   "source": [
    "import pyvo as vo\n",
    "import glob\n",
    "import time\n",
    "import numpy as np\n",
    "\n",
    "import matplotlib as mpl\n",
    "import matplotlib.pyplot as plt\n",
    "import random\n",
    "\n",
    "\n",
    "from astropy.table import Table, Column, vstack, join\n",
    "\n",
    "from pymoc import MOC\n",
    "\n",
    "import pandas as pd\n",
    "\n",
    "import yaml\n",
    "\n",
    "from pcigale.sed import SED\n",
    "from pcigale.sed_modules import get_module"
   ]
  },
  {
   "cell_type": "code",
   "execution_count": 3,
   "metadata": {},
   "outputs": [],
   "source": [
    "\n",
    "#Then we establish the VO connection to our database\n",
    "service = vo.dal.TAPService(\"https://herschel-vos.phys.sussex.ac.uk/__system__/tap/run/tap\")"
   ]
  },
  {
   "cell_type": "code",
   "execution_count": 4,
   "metadata": {},
   "outputs": [],
   "source": [
    "herschelhelp_python_loc = ('../../herschelhelp_python/')\n",
    "\n",
    "filter_locs  = glob.glob(herschelhelp_python_loc + 'database_builder/filters/*')"
   ]
  },
  {
   "cell_type": "code",
   "execution_count": 5,
   "metadata": {},
   "outputs": [],
   "source": [
    "filters = [f.split('/')[-1].split('.')[0] for f in filter_locs]\n",
    "filters.remove('readme')\n",
    "\n",
    "bands = ['u', 'g', 'r', 'i', 'z', 'y',\n",
    "        'J', 'H', 'K', 'Ks',\n",
    "        'i1', 'i2', 'i3', 'i4']"
   ]
  },
  {
   "cell_type": "code",
   "execution_count": 6,
   "metadata": {},
   "outputs": [
    {
     "data": {
      "text/plain": [
       "['wfi_696nm',\n",
       " 'suprime_nb816',\n",
       " 'wfc3_f125w',\n",
       " 'mmt_g',\n",
       " 'omegacam_r',\n",
       " 'decam_z',\n",
       " 'wfi_416nm',\n",
       " 'sdss_i',\n",
       " 'omegacam_g',\n",
       " 'suprime_ib464',\n",
       " 'wfi_571nm',\n",
       " 'mmt_r',\n",
       " 'wfc3_f105w',\n",
       " 'spire_350',\n",
       " 'decam_y',\n",
       " 'suprime_ib505',\n",
       " 'cfht12k_b',\n",
       " '90prime_z',\n",
       " 'omegacam_u',\n",
       " 'suprime_ip',\n",
       " 'isaac_k',\n",
       " 'galex_nuv',\n",
       " 'acs_f775w',\n",
       " 'moircs_k',\n",
       " 'sdss_z',\n",
       " 'acs_f606w',\n",
       " 'cfht12k_r',\n",
       " 'decam_i',\n",
       " 'quirc_hk',\n",
       " 'mmt_u',\n",
       " 'suprime_zpp',\n",
       " 'suprime_ia624',\n",
       " 'megacam_r',\n",
       " 'bessell_v',\n",
       " 'wircam_ks',\n",
       " 'mips_24',\n",
       " 'omega2000_j',\n",
       " 'wfi_r',\n",
       " 'spire_250',\n",
       " 'suprime_r',\n",
       " 'gpc1_i',\n",
       " 'suprime_g',\n",
       " 'bessell_b',\n",
       " 'bessell_u',\n",
       " 'mosaic_r',\n",
       " 'wfi_753nm',\n",
       " 'acs_f850lp',\n",
       " 'ukidss_y',\n",
       " 'megacam_g',\n",
       " 'wfc_z',\n",
       " 'lbc_u',\n",
       " 'suprime_ia527',\n",
       " 'wfc_i',\n",
       " 'wfi_b123',\n",
       " 'gpc1_y',\n",
       " 'suprime_b',\n",
       " 'wfi_b',\n",
       " 'wfi_u',\n",
       " 'suprime_ia679',\n",
       " 'ukidss_j',\n",
       " 'suprime_ib827',\n",
       " 'suprime_ia484',\n",
       " 'ukidss_k',\n",
       " 'megacam_u',\n",
       " 'newfirm_j1',\n",
       " 'suprime_n816',\n",
       " 'gpc1_z',\n",
       " 'newfirm_j3',\n",
       " 'suprime_v',\n",
       " 'wfi_v',\n",
       " 'mosaic_b',\n",
       " 'mosaic_u',\n",
       " 'ukidss_h',\n",
       " 'bessell_r',\n",
       " 'suprime_ib574',\n",
       " 'newfirm_j2',\n",
       " 'suprime_zp',\n",
       " 'wfc3_f140w',\n",
       " 'suprime_z',\n",
       " 'irac_i3',\n",
       " 'irac_i2',\n",
       " 'bessell_i',\n",
       " 'megacam_z',\n",
       " 'vista_z',\n",
       " 'wfc_g',\n",
       " 'wfi_856nm',\n",
       " 'wfc_r',\n",
       " 'suprime_y',\n",
       " 'vista_ks',\n",
       " 'irac_i1',\n",
       " 'acs_f814w',\n",
       " 'mosaic_z',\n",
       " 'megacam_y',\n",
       " 'suprime_ib427',\n",
       " 'wfc3_f160w',\n",
       " 'wfi_646nm',\n",
       " 'vista_y',\n",
       " 'suprime_nb711',\n",
       " 'spire_500',\n",
       " 'pacs_red',\n",
       " 'gpc1_g',\n",
       " 'newfirm_h1',\n",
       " 'suprime_ia738',\n",
       " 'vista_j',\n",
       " 'mosaic_i',\n",
       " 'irac_i4',\n",
       " 'wfi_815nm',\n",
       " 'lbc_y',\n",
       " 'newfirm_h2',\n",
       " 'wfi_485nm',\n",
       " 'megacam_i',\n",
       " 'moircs_ks',\n",
       " 'nicmos_f160w',\n",
       " 'wfi_i',\n",
       " 'acs_f435w',\n",
       " 'vista_h',\n",
       " 'suprime_i',\n",
       " 'gpc1_r',\n",
       " 'wfc_u',\n",
       " 'wfi_461nm',\n",
       " 'cfht12k_i',\n",
       " 'wfc3_f098m',\n",
       " 'newfirm_h',\n",
       " 'decam_r',\n",
       " 'omegacam_z',\n",
       " 'pacs_green',\n",
       " 'nicmos_f110w',\n",
       " 'wfi_914nm',\n",
       " 'sdss_u',\n",
       " 'suprime_rc',\n",
       " 'wircam_y',\n",
       " 'newfirm_k',\n",
       " 'omega2000_ks',\n",
       " 'mmt_z',\n",
       " 'wfi_518nm',\n",
       " 'decam_g',\n",
       " 'tifkam_ks',\n",
       " 'newfirm_j',\n",
       " 'wircs_j',\n",
       " 'suprime_ia767',\n",
       " 'sdss_r',\n",
       " 'suprime_n921',\n",
       " 'mmt_i',\n",
       " 'wfi_604nm',\n",
       " 'wircs_k',\n",
       " 'galex_fuv',\n",
       " '90prime_r',\n",
       " 'wircam_j',\n",
       " 'suprime_ib709',\n",
       " 'wircam_h',\n",
       " 'suprime_rp',\n",
       " '90prime_g',\n",
       " 'hawki_k',\n",
       " 'omegacam_i',\n",
       " 'sdss_g']"
      ]
     },
     "execution_count": 6,
     "metadata": {},
     "output_type": "execute_result"
    }
   ],
   "source": [
    "filters"
   ]
  },
  {
   "cell_type": "code",
   "execution_count": 7,
   "metadata": {},
   "outputs": [
    {
     "name": "stdout",
     "output_type": "stream",
     "text": [
      "Job still running after 0 seconds.\n",
      "Job still running after 10 seconds.\n",
      "Job still running after 20 seconds.\n"
     ]
    }
   ],
   "source": [
    "irac_i1_query=\"\"\"\n",
    "SELECT DISTINCT hp_idx_O_10, ferr_ap_irac_i1_mean\n",
    "FROM depth.main\n",
    "WHERE ferr_ap_irac_i1_mean IS NOT NULL\n",
    "\"\"\"\n",
    "\n",
    "#Then we execute the query\n",
    "#resultset = service.run_async(irac_i1_query)\n",
    "job = service.submit_job(irac_i1_query)\n",
    "job.run()\n",
    "job_url = job.url\n",
    "job_result = vo.dal.tap.AsyncTAPJob(job_url)\n",
    "start_time = time.time()\n",
    "while job.phase == 'EXECUTING':\n",
    "    print('Job still running after {} seconds.'.format(round(time.time() - start_time)))\n",
    "    time.sleep(10) #wait ten seconds and try again\n",
    "    \n",
    "table = job_result.fetch_result() \n",
    "i1_table = table.table"
   ]
  },
  {
   "cell_type": "code",
   "execution_count": 389,
   "metadata": {},
   "outputs": [
    {
     "data": {
      "text/html": [
       "<i>Table masked=True length=83313</i>\n",
       "<table id=\"table4463556424\" class=\"table-striped table-bordered table-condensed\">\n",
       "<thead><tr><th>hp_idx_o_10</th><th>ferr_ap_irac_i1_mean</th></tr></thead>\n",
       "<thead><tr><th></th><th>uJy</th></tr></thead>\n",
       "<thead><tr><th>int64</th><th>float64</th></tr></thead>\n",
       "<tr><td>1547506</td><td>1.43366666666667</td></tr>\n",
       "<tr><td>1547507</td><td>1.52794117647059</td></tr>\n",
       "<tr><td>1547510</td><td>1.66105263157895</td></tr>\n",
       "<tr><td>1547511</td><td>1.94072727272727</td></tr>\n",
       "<tr><td>1547512</td><td>1.62485294117647</td></tr>\n",
       "<tr><td>1547513</td><td>1.03740540540541</td></tr>\n",
       "<tr><td>1547514</td><td>1.42491329479769</td></tr>\n",
       "<tr><td>1547515</td><td>0.732934782608696</td></tr>\n",
       "<tr><td>1547516</td><td>1.19547872340426</td></tr>\n",
       "<tr><td>...</td><td>...</td></tr>\n",
       "<tr><td>11870851</td><td>206.8402</td></tr>\n",
       "<tr><td>11870852</td><td>106.708244</td></tr>\n",
       "<tr><td>11870853</td><td>261.2762</td></tr>\n",
       "<tr><td>11870854</td><td>265.9595</td></tr>\n",
       "<tr><td>11870855</td><td>260.12</td></tr>\n",
       "<tr><td>11870856</td><td>303.03732</td></tr>\n",
       "<tr><td>11870857</td><td>232.01556</td></tr>\n",
       "<tr><td>11870858</td><td>557.28467</td></tr>\n",
       "<tr><td>11870860</td><td>679.73</td></tr>\n",
       "<tr><td>11870864</td><td>152.82677</td></tr>\n",
       "</table>"
      ],
      "text/plain": [
       "<Table masked=True length=83313>\n",
       "hp_idx_o_10 ferr_ap_irac_i1_mean\n",
       "                    uJy         \n",
       "   int64          float64       \n",
       "----------- --------------------\n",
       "    1547506     1.43366666666667\n",
       "    1547507     1.52794117647059\n",
       "    1547510     1.66105263157895\n",
       "    1547511     1.94072727272727\n",
       "    1547512     1.62485294117647\n",
       "    1547513     1.03740540540541\n",
       "    1547514     1.42491329479769\n",
       "    1547515    0.732934782608696\n",
       "    1547516     1.19547872340426\n",
       "        ...                  ...\n",
       "   11870851             206.8402\n",
       "   11870852           106.708244\n",
       "   11870853             261.2762\n",
       "   11870854             265.9595\n",
       "   11870855               260.12\n",
       "   11870856            303.03732\n",
       "   11870857            232.01556\n",
       "   11870858            557.28467\n",
       "   11870860               679.73\n",
       "   11870864            152.82677"
      ]
     },
     "execution_count": 389,
     "metadata": {},
     "output_type": "execute_result"
    }
   ],
   "source": [
    "i1_table"
   ]
  },
  {
   "cell_type": "code",
   "execution_count": 392,
   "metadata": {},
   "outputs": [
    {
     "data": {
      "text/plain": [
       "(array([1.8694e+04, 3.2534e+04, 3.2980e+03, 1.0970e+03, 1.2085e+04,\n",
       "        1.4502e+04, 1.0610e+03, 3.7000e+01, 2.0000e+00, 3.0000e+00]),\n",
       " array([-0.49291727, -0.01875222,  0.45541283,  0.92957788,  1.40374293,\n",
       "         1.87790798,  2.35207303,  2.82623808,  3.30040313,  3.77456818,\n",
       "         4.24873323]),\n",
       " <a list of 10 Patch objects>)"
      ]
     },
     "execution_count": 392,
     "metadata": {},
     "output_type": "execute_result"
    },
    {
     "name": "stderr",
     "output_type": "stream",
     "text": [
      "/Users/rs548/anaconda/envs/herschelhelp_internal/lib/python3.6/site-packages/matplotlib/font_manager.py:1297: UserWarning: findfont: Font family ['serif'] not found. Falling back to DejaVu Sans\n",
      "  (prop.get_family(), self.defaultFamily[fontext]))\n"
     ]
    },
    {
     "data": {
      "image/png": "[encoded data removed]",
      "text/plain": [
       "<matplotlib.figure.Figure at 0x89b319438>"
      ]
     },
     "metadata": {},
     "output_type": "display_data"
    }
   ],
   "source": [
    "plt.hist(np.log10(i1_table['ferr_ap_irac_i1_mean']) )"
   ]
  },
  {
   "cell_type": "code",
   "execution_count": 9,
   "metadata": {},
   "outputs": [
    {
     "data": {
      "text/plain": [
       "273.1409041542108"
      ]
     },
     "execution_count": 9,
     "metadata": {},
     "output_type": "execute_result"
    }
   ],
   "source": [
    "irac_i1_moc = MOC(10, i1_table['hp_idx_o_10'])\n",
    "irac_i1_moc.area_sq_deg\n",
    "total_area = irac_i1_moc.area_sq_deg\n",
    "total_area"
   ]
  },
  {
   "cell_type": "code",
   "execution_count": 10,
   "metadata": {},
   "outputs": [
    {
     "data": {
      "image/png": "[encoded data removed]",
      "text/plain": [
       "<matplotlib.figure.Figure at 0x81bdb1cf8>"
      ]
     },
     "metadata": {},
     "output_type": "display_data"
    }
   ],
   "source": [
    "fig, ax = plt.subplots()\n",
    "\n",
    "cells, fluxes = np.histogram(np.log10(i1_table['ferr_ap_irac_i1_mean']*1.e-6), bins=50)\n",
    "ax.plot(fluxes[1:],\n",
    "         np.cumsum(cells)*total_area/cells.sum() ,\n",
    "        drawstyle='steps')\n",
    "\n",
    "ax.set_xlabel('Log$_{10}$ ( Mean IRAC 1 flux error [Jy] )')\n",
    "ax.set_ylabel('Cumulative area [deg.$^2$]')\n",
    "ax.set_xlim([-6.5,-3.0])\n",
    "#y_vals = ax.get_yticks()\n",
    "#ax.set_yticklabels([n for n in y_vals])\n",
    "\n",
    "plt.rc('font', family='serif', serif='Times')\n",
    "plt.rc('text') #, usetex=True)\n",
    "plt.rc('xtick', labelsize=12)\n",
    "plt.rc('ytick', labelsize=12)\n",
    "plt.rc('axes', labelsize=12)\n",
    "\n",
    "column_width_cm = 8.9\n",
    "width_cm = 1.4 * column_width_cm\n",
    "hieght_cm = width_cm / 1.618\n",
    "width_inches = width_cm/2.5\n",
    "hieght_inches = hieght_cm/2.5\n",
    "fig.set_size_inches(width_inches, hieght_inches)\n",
    "\n",
    "plt.tight_layout()\n",
    "plt.savefig('./figs/IRAC_i1_cumulative_area_depth.pdf')\n",
    "plt.savefig('./figs/IRAC_i1_cumulative_area_depth.png')"
   ]
  },
  {
   "cell_type": "code",
   "execution_count": 11,
   "metadata": {},
   "outputs": [
    {
     "data": {
      "text/plain": [
       "'\\nThe IRAC i1 band has coverage over 273.1409041542108 square degrees with  3 sigma \\ndepths at the 25th, 50th and 75th percentiles of 2.955037033451454, 5.86515255980631, 176.669196 respectively.'"
      ]
     },
     "execution_count": 11,
     "metadata": {},
     "output_type": "execute_result"
    }
   ],
   "source": [
    "i1_p25, i1_p50, i1_p75 = np.nanpercentile(i1_table['ferr_ap_irac_i1_mean'] * 3.,[25, 50, 75])\n",
    "\"\"\"\n",
    "The IRAC i1 band has coverage over {} square degrees with  3 sigma \n",
    "depths at the 25th, 50th and 75th percentiles of {}, {}, {} respectively.\"\"\".format(total_area, i1_p25, i1_p50, i1_p75)"
   ]
  },
  {
   "cell_type": "markdown",
   "metadata": {},
   "source": [
    "## g bands\n",
    "\n",
    "There are multiple g type bands so we the the maximum depth of all of them."
   ]
  },
  {
   "cell_type": "code",
   "execution_count": 12,
   "metadata": {},
   "outputs": [
    {
     "name": "stdout",
     "output_type": "stream",
     "text": [
      ", ferr_ap_mmt_g_mean, ferr_ap_omegacam_g_mean, ferr_ap_suprime_g_mean, ferr_ap_megacam_g_mean, ferr_ap_wfc_g_mean, ferr_ap_gpc1_g_mean, ferr_ap_decam_g_mean, ferr_ap_90prime_g_mean, ferr_ap_sdss_g_mean\n"
     ]
    }
   ],
   "source": [
    "g_filters = [f for f in filters if f.split('_')[1] == 'g']\n",
    "spaced_list = ''\n",
    "for g in g_filters:\n",
    "    spaced_list = spaced_list + ', ferr_ap_' + g + '_mean'\n",
    "print(spaced_list)"
   ]
  },
  {
   "cell_type": "code",
   "execution_count": 13,
   "metadata": {},
   "outputs": [
    {
     "data": {
      "text/plain": [
       "'\\nSELECT DISTINCT hp_idx_O_10, ferr_ap_mmt_g_mean, ferr_ap_omegacam_g_mean, ferr_ap_suprime_g_mean, ferr_ap_megacam_g_mean, ferr_ap_wfc_g_mean, ferr_ap_gpc1_g_mean, ferr_ap_decam_g_mean, ferr_ap_90prime_g_mean, ferr_ap_sdss_g_mean\\nFROM depth.main\\n\\n'"
      ]
     },
     "execution_count": 13,
     "metadata": {},
     "output_type": "execute_result"
    }
   ],
   "source": [
    "g_bands_query=\"\"\"\n",
    "SELECT DISTINCT hp_idx_O_10{}\n",
    "FROM depth.main\n",
    "\n",
    "\"\"\".format(spaced_list)\n",
    "g_bands_query"
   ]
  },
  {
   "cell_type": "code",
   "execution_count": 14,
   "metadata": {},
   "outputs": [
    {
     "name": "stdout",
     "output_type": "stream",
     "text": [
      "Job still running after 0 seconds.\n",
      "Job still running after 10 seconds.\n",
      "Job still running after 20 seconds.\n",
      "Job still running after 30 seconds.\n",
      "Job still running after 40 seconds.\n",
      "Job still running after 51 seconds.\n",
      "COMPLETED\n"
     ]
    }
   ],
   "source": [
    "#Then we execute the query\n",
    "#resultset = service.run_async(irac_i1_query)\n",
    "job = service.submit_job(g_bands_query)\n",
    "job.run()\n",
    "job_url = job.url\n",
    "job_result = vo.dal.tap.AsyncTAPJob(job_url)\n",
    "start_time = time.time()\n",
    "while job.phase == 'EXECUTING':\n",
    "    print('Job still running after {} seconds.'.format(round(time.time() - start_time)))\n",
    "    time.sleep(10) #wait ten seconds and try again\n",
    "    \n",
    "print(job.phase)\n",
    "table = job_result.fetch_result() \n",
    "\n",
    "\n"
   ]
  },
  {
   "cell_type": "code",
   "execution_count": 15,
   "metadata": {},
   "outputs": [
    {
     "data": {
      "text/plain": [
       "['ferr_ap_mmt_g_mean',\n",
       " 'ferr_ap_omegacam_g_mean',\n",
       " 'ferr_ap_suprime_g_mean',\n",
       " 'ferr_ap_megacam_g_mean',\n",
       " 'ferr_ap_wfc_g_mean',\n",
       " 'ferr_ap_gpc1_g_mean',\n",
       " 'ferr_ap_decam_g_mean',\n",
       " 'ferr_ap_90prime_g_mean',\n",
       " 'ferr_ap_sdss_g_mean']"
      ]
     },
     "execution_count": 15,
     "metadata": {},
     "output_type": "execute_result"
    }
   ],
   "source": [
    "g_depth_cols  = [\"ferr_ap_{}_mean\".format(band) for band in g_filters]\n",
    "g_depth_cols"
   ]
  },
  {
   "cell_type": "code",
   "execution_count": 16,
   "metadata": {},
   "outputs": [],
   "source": [
    "g_table = Table(table.table)\n",
    "for col in g_depth_cols:\n",
    "    g_table[col].fill_value = np.nan\n",
    "g_table = g_table.filled()"
   ]
  },
  {
   "cell_type": "code",
   "execution_count": 17,
   "metadata": {},
   "outputs": [
    {
     "name": "stderr",
     "output_type": "stream",
     "text": [
      "/Users/rs548/anaconda/envs/herschelhelp_internal/lib/python3.6/site-packages/ipykernel/__main__.py:1: RuntimeWarning: All-NaN axis encountered\n",
      "  if __name__ == '__main__':\n"
     ]
    },
    {
     "data": {
      "text/plain": [
       "array([2.07127300e-07, 2.18198880e-07, 1.93754770e-07, ...,\n",
       "       6.84728411e-01, 4.62498951e-01, 5.92936370e-01])"
      ]
     },
     "execution_count": 17,
     "metadata": {},
     "output_type": "execute_result"
    }
   ],
   "source": [
    "np.nanmin([g_table[column] for column in g_depth_cols], axis=0)"
   ]
  },
  {
   "cell_type": "code",
   "execution_count": 18,
   "metadata": {},
   "outputs": [
    {
     "name": "stdout",
     "output_type": "stream",
     "text": [
      "ferr_ap_mmt_g_mean 0\n",
      "ferr_ap_omegacam_g_mean 0\n",
      "ferr_ap_suprime_g_mean 0\n",
      "ferr_ap_megacam_g_mean 4\n",
      "ferr_ap_wfc_g_mean 0\n",
      "ferr_ap_gpc1_g_mean 2\n",
      "ferr_ap_decam_g_mean 42483\n",
      "ferr_ap_90prime_g_mean 9564\n",
      "ferr_ap_sdss_g_mean 0\n"
     ]
    },
    {
     "name": "stderr",
     "output_type": "stream",
     "text": [
      "/Users/rs548/anaconda/envs/herschelhelp_internal/lib/python3.6/site-packages/ipykernel/__main__.py:2: RuntimeWarning: invalid value encountered in less\n",
      "  from ipykernel import kernelapp as app\n"
     ]
    }
   ],
   "source": [
    "for col in g_depth_cols:\n",
    "    print(col, np.sum(np.log10(np.array(g_table[col])*1.e-6) < -9))"
   ]
  },
  {
   "cell_type": "code",
   "execution_count": 19,
   "metadata": {},
   "outputs": [
    {
     "name": "stderr",
     "output_type": "stream",
     "text": [
      "/Users/rs548/anaconda/envs/herschelhelp_internal/lib/python3.6/site-packages/ipykernel/__main__.py:1: RuntimeWarning: invalid value encountered in less\n",
      "  if __name__ == '__main__':\n",
      "/Users/rs548/anaconda/envs/herschelhelp_internal/lib/python3.6/site-packages/ipykernel/__main__.py:2: RuntimeWarning: invalid value encountered in less\n",
      "  from ipykernel import kernelapp as app\n"
     ]
    }
   ],
   "source": [
    "decam_low = (np.log10(np.array(g_table['ferr_ap_decam_g_mean'])*1.e-6) < -9)\n",
    "prime_low = (np.log10(np.array(g_table['ferr_ap_90prime_g_mean'])*1.e-6) < -9)"
   ]
  },
  {
   "cell_type": "code",
   "execution_count": 22,
   "metadata": {},
   "outputs": [
    {
     "name": "stdout",
     "output_type": "stream",
     "text": [
      "AKARI-NEP has 0.0 sq deg of bad DECam and 0.0 sq degrees of bad 90Prime\n",
      "AKARI-SEP has 0.0 sq deg of bad DECam and 0.0 sq degrees of bad 90Prime\n",
      "Bootes has 0.0 sq deg of bad DECam and 0.0 sq degrees of bad 90Prime\n",
      "CDFS-SWIRE has 0.0 sq deg of bad DECam and 0.0 sq degrees of bad 90Prime\n",
      "COSMOS has 4.993602528615098 sq deg of bad DECam and 4.993602528615098 sq degrees of bad 90Prime\n",
      "EGS has 0.0 sq deg of bad DECam and 0.0 sq degrees of bad 90Prime\n",
      "ELAIS-N1 has 0.0 sq deg of bad DECam and 0.0 sq degrees of bad 90Prime\n",
      "ELAIS-N2 has 0.0 sq deg of bad DECam and 0.0 sq degrees of bad 90Prime\n",
      "ELAIS-S1 has 0.0 sq deg of bad DECam and 0.0 sq degrees of bad 90Prime\n",
      "GAMA-09 has 58.83676922758017 sq deg of bad DECam and 58.83676922758017 sq degrees of bad 90Prime\n",
      "GAMA-12 has 41.50292732171963 sq deg of bad DECam and 41.50292732171963 sq degrees of bad 90Prime\n",
      "GAMA-15 has 24.055567671853485 sq deg of bad DECam and 24.055567671853485 sq degrees of bad 90Prime\n",
      "HDF-N has 0.0 sq deg of bad DECam and 0.0 sq degrees of bad 90Prime\n",
      "Herschel-Stripe-82 has 7.849065563976479 sq deg of bad DECam and 7.849065563976479 sq degrees of bad 90Prime\n",
      "Lockman-SWIRE has 0.0 sq deg of bad DECam and 0.0 sq degrees of bad 90Prime\n",
      "NGP has 0.0 sq deg of bad DECam and 0.0 sq degrees of bad 90Prime\n",
      "SA13 has 0.0 sq deg of bad DECam and 0.0 sq degrees of bad 90Prime\n",
      "SGP has 0.0 sq deg of bad DECam and 0.0 sq degrees of bad 90Prime\n",
      "SPIRE-NEP has 0.0 sq deg of bad DECam and 0.0 sq degrees of bad 90Prime\n",
      "SSDF has 0.0 sq deg of bad DECam and 0.0 sq degrees of bad 90Prime\n",
      "xFLS has 0.0 sq deg of bad DECam and 0.0 sq degrees of bad 90Prime\n",
      "XMM-13hr has 0.0 sq deg of bad DECam and 0.0 sq degrees of bad 90Prime\n",
      "XMM-LSS has 0.04267160683965466 sq deg of bad DECam and 0.04267160683965466 sq degrees of bad 90Prime\n"
     ]
    }
   ],
   "source": [
    "decam_bad_moc = MOC(10, g_table['hp_idx_o_10'][decam_low])\n",
    "prime_bad_moc = MOC(10, g_table['hp_idx_o_10'][decam_low])\n",
    "\n",
    "fields = yaml.load(open('../dmu2/meta_main.yml', 'r'))\n",
    "\n",
    "\n",
    "for field in fields['fields']:\n",
    "    field_moc = MOC(filename=field['region'].replace('dmu_products/', '../'))\n",
    "    decam_bad_area = decam_bad_moc.intersection(field_moc).area_sq_deg\n",
    "    prime_bad_area = prime_bad_moc.intersection(field_moc).area_sq_deg\n",
    "    print(\"{} has {} sq deg of bad DECam and {} sq degrees of bad 90Prime\".format(field['name'], \n",
    "                                                                                  decam_bad_area, \n",
    "                                                                                  prime_bad_area))"
   ]
  },
  {
   "cell_type": "code",
   "execution_count": 23,
   "metadata": {},
   "outputs": [],
   "source": [
    "g_table['ferr_ap_decam_g_mean'][decam_low] = g_table['ferr_ap_decam_g_mean'][decam_low] * 1.e6\n",
    "g_table['ferr_ap_90prime_g_mean'][prime_low] = g_table['ferr_ap_90prime_g_mean'][prime_low] * 1.e6"
   ]
  },
  {
   "cell_type": "code",
   "execution_count": 24,
   "metadata": {},
   "outputs": [
    {
     "name": "stderr",
     "output_type": "stream",
     "text": [
      "/Users/rs548/anaconda/envs/herschelhelp_internal/lib/python3.6/site-packages/ipykernel/__main__.py:1: RuntimeWarning: All-NaN axis encountered\n",
      "  if __name__ == '__main__':\n"
     ]
    }
   ],
   "source": [
    "g_table.add_column(Column(data=np.nanmin([g_table[column] for column in g_depth_cols], axis=0), name='ferr_g_min'))"
   ]
  },
  {
   "cell_type": "code",
   "execution_count": 25,
   "metadata": {},
   "outputs": [
    {
     "data": {
      "text/html": [
       "<i>Table length=394298</i>\n",
       "<table id=\"table4442212840\" class=\"table-striped table-bordered table-condensed\">\n",
       "<thead><tr><th>hp_idx_o_10</th><th>ferr_g_min</th></tr></thead>\n",
       "<thead><tr><th>int64</th><th>float64</th></tr></thead>\n",
       "<tr><td>1048576</td><td>0.01926224</td></tr>\n",
       "<tr><td>1048577</td><td>0.020717567</td></tr>\n",
       "<tr><td>1048578</td><td>0.021378249</td></tr>\n",
       "<tr><td>1048579</td><td>0.021092668</td></tr>\n",
       "<tr><td>1048580</td><td>0.020199573</td></tr>\n",
       "<tr><td>1048581</td><td>0.022394473</td></tr>\n",
       "<tr><td>1048582</td><td>0.020951325</td></tr>\n",
       "<tr><td>1048583</td><td>0.020383537</td></tr>\n",
       "<tr><td>1048584</td><td>0.022677435</td></tr>\n",
       "<tr><td>1048585</td><td>0.021453133</td></tr>\n",
       "<tr><td>...</td><td>...</td></tr>\n",
       "<tr><td>12042983</td><td>0.470593447975413</td></tr>\n",
       "<tr><td>12042985</td><td>0.401245270265415</td></tr>\n",
       "<tr><td>12043008</td><td>1.12891318891637</td></tr>\n",
       "<tr><td>12043009</td><td>0.508966908339133</td></tr>\n",
       "<tr><td>12043010</td><td>0.494158403628982</td></tr>\n",
       "<tr><td>12043011</td><td>0.577247280662618</td></tr>\n",
       "<tr><td>12043012</td><td>0.445860992796356</td></tr>\n",
       "<tr><td>12043016</td><td>0.684728410968042</td></tr>\n",
       "<tr><td>12043017</td><td>0.462498951222175</td></tr>\n",
       "<tr><td>12043018</td><td>0.592936370182139</td></tr>\n",
       "</table>"
      ],
      "text/plain": [
       "<Table length=394298>\n",
       "hp_idx_o_10     ferr_g_min   \n",
       "   int64         float64     \n",
       "----------- -----------------\n",
       "    1048576        0.01926224\n",
       "    1048577       0.020717567\n",
       "    1048578       0.021378249\n",
       "    1048579       0.021092668\n",
       "    1048580       0.020199573\n",
       "    1048581       0.022394473\n",
       "    1048582       0.020951325\n",
       "    1048583       0.020383537\n",
       "    1048584       0.022677435\n",
       "    1048585       0.021453133\n",
       "        ...               ...\n",
       "   12042983 0.470593447975413\n",
       "   12042985 0.401245270265415\n",
       "   12043008  1.12891318891637\n",
       "   12043009 0.508966908339133\n",
       "   12043010 0.494158403628982\n",
       "   12043011 0.577247280662618\n",
       "   12043012 0.445860992796356\n",
       "   12043016 0.684728410968042\n",
       "   12043017 0.462498951222175\n",
       "   12043018 0.592936370182139"
      ]
     },
     "execution_count": 25,
     "metadata": {},
     "output_type": "execute_result"
    }
   ],
   "source": [
    "g_table['hp_idx_o_10', 'ferr_g_min']"
   ]
  },
  {
   "cell_type": "code",
   "execution_count": 26,
   "metadata": {},
   "outputs": [
    {
     "data": {
      "text/plain": [
       "1292.6302392940547"
      ]
     },
     "execution_count": 26,
     "metadata": {},
     "output_type": "execute_result"
    }
   ],
   "source": [
    "g_moc = MOC(10, g_table['hp_idx_o_10'])\n",
    "g_moc.area_sq_deg\n",
    "total_area_g = g_moc.area_sq_deg\n",
    "total_area_g"
   ]
  },
  {
   "cell_type": "code",
   "execution_count": 27,
   "metadata": {},
   "outputs": [
    {
     "name": "stderr",
     "output_type": "stream",
     "text": [
      "/Users/rs548/anaconda/envs/herschelhelp_internal/lib/python3.6/site-packages/ipykernel/__main__.py:5: RuntimeWarning: invalid value encountered in greater\n",
      "/Users/rs548/anaconda/envs/herschelhelp_internal/lib/python3.6/site-packages/ipykernel/__main__.py:6: RuntimeWarning: invalid value encountered in less\n",
      "/Users/rs548/anaconda/envs/herschelhelp_internal/lib/python3.6/site-packages/matplotlib/font_manager.py:1297: UserWarning: findfont: Font family ['serif'] not found. Falling back to DejaVu Sans\n",
      "  (prop.get_family(), self.defaultFamily[fontext]))\n"
     ]
    },
    {
     "data": {
      "image/png": "[encoded data removed]",
      "text/plain": [
       "<matplotlib.figure.Figure at 0x81bf3fb00>"
      ]
     },
     "metadata": {},
     "output_type": "display_data"
    }
   ],
   "source": [
    "g_table['hp_idx_o_10', 'ferr_g_min']\n",
    "\n",
    "fig, ax = plt.subplots()\n",
    "\n",
    "good = np.log10(np.array(g_table['ferr_g_min'])*1.e-6) > -20\n",
    "good &= np.log10(np.array(g_table['ferr_g_min'])*1.e-6) <20\n",
    "\n",
    "cells, fluxes = np.histogram(np.log10(np.array(g_table['ferr_g_min'][good ])*1.e-6), bins=100)\n",
    "ax.plot(fluxes[1:],\n",
    "         np.cumsum(cells)*1270./cells.sum() ,\n",
    "        drawstyle='steps')\n",
    "\n",
    "ax.set_xlabel('Log$_{10}$ ( Mean g flux error [Jy] )')\n",
    "ax.set_ylabel('Cumulative area [deg.$^2$]')\n",
    "ax.set_xlim([-8,-4.0])\n",
    "#y_vals = ax.get_yticks()\n",
    "#ax.set_yticklabels([n for n in y_vals])\n",
    "\n",
    "\n",
    "\n",
    "plt.rc('font', family='serif', serif='Times')\n",
    "plt.rc('text') #, usetex=True)\n",
    "plt.rc('xtick', labelsize=12)\n",
    "plt.rc('ytick', labelsize=12)\n",
    "plt.rc('axes', labelsize=12)\n",
    "\n",
    "column_width_cm = 8.9\n",
    "width_cm = 1.4 * column_width_cm\n",
    "hieght_cm = width_cm / 1.618\n",
    "width_inches = width_cm/2.5\n",
    "hieght_inches = hieght_cm/2.5\n",
    "fig.set_size_inches(width_inches, hieght_inches)\n",
    "\n",
    "plt.tight_layout()\n",
    "plt.savefig('./figs/g_cumulative_area_depth.pdf')\n",
    "plt.savefig('./figs/g_cumulative_area_depth.png')"
   ]
  },
  {
   "cell_type": "code",
   "execution_count": 28,
   "metadata": {},
   "outputs": [
    {
     "data": {
      "text/plain": [
       "'\\nThe IRAC i1 band has coverage over 1270 square degrees with  3 sigma \\ndepths at the 25th, 50th and 75th percentiles of 0.30178651661213773, 0.367626929893692, 0.8854647236256772 respectively.'"
      ]
     },
     "execution_count": 28,
     "metadata": {},
     "output_type": "execute_result"
    }
   ],
   "source": [
    "g_p25, g_p50, g_p75 = np.nanpercentile(g_table['ferr_g_min'][good ] * 3.,[25, 50, 75])\n",
    "\"\"\"\n",
    "The g band has coverage over {} square degrees with  3 sigma \n",
    "depths at the 25th, 50th and 75th percentiles of {}, {}, {} respectively.\"\"\".format(1270, g_p25, g_p50, g_p75)"
   ]
  },
  {
   "cell_type": "code",
   "execution_count": 29,
   "metadata": {},
   "outputs": [
    {
     "data": {
      "text/html": [
       "<i>Table length=9564</i>\n",
       "<table id=\"table34964115072\" class=\"table-striped table-bordered table-condensed\">\n",
       "<thead><tr><th>hp_idx_o_10</th><th>ferr_ap_mmt_g_mean</th><th>ferr_ap_omegacam_g_mean</th><th>ferr_ap_suprime_g_mean</th><th>ferr_ap_megacam_g_mean</th><th>ferr_ap_wfc_g_mean</th><th>ferr_ap_gpc1_g_mean</th><th>ferr_ap_decam_g_mean</th><th>ferr_ap_90prime_g_mean</th><th>ferr_ap_sdss_g_mean</th><th>ferr_g_min</th></tr></thead>\n",
       "<thead><tr><th></th><th>uJy</th><th>uJy</th><th>uJy</th><th>uJy</th><th>uJy</th><th>uJy</th><th>uJy</th><th>uJy</th><th>uJy</th><th></th></tr></thead>\n",
       "<thead><tr><th>int64</th><th>float64</th><th>float64</th><th>float64</th><th>float64</th><th>float64</th><th>float64</th><th>float64</th><th>float64</th><th>float64</th><th>float64</th></tr></thead>\n",
       "<tr><td>2652662</td><td>nan</td><td>nan</td><td>nan</td><td>nan</td><td>nan</td><td>0.987825059481603</td><td>nan</td><td>0.20031881999999998</td><td>nan</td><td>0.20031881999999998</td></tr>\n",
       "<tr><td>2652663</td><td>nan</td><td>nan</td><td>nan</td><td>nan</td><td>nan</td><td>42.3153061976883</td><td>nan</td><td>0.1769414</td><td>nan</td><td>0.1769414</td></tr>\n",
       "<tr><td>2652667</td><td>nan</td><td>nan</td><td>nan</td><td>nan</td><td>nan</td><td>0.777482608504748</td><td>nan</td><td>0.200318</td><td>nan</td><td>0.200318</td></tr>\n",
       "<tr><td>2652668</td><td>nan</td><td>nan</td><td>nan</td><td>nan</td><td>nan</td><td>1.21649049703478</td><td>nan</td><td>0.20031815</td><td>nan</td><td>0.20031815</td></tr>\n",
       "<tr><td>2652669</td><td>nan</td><td>nan</td><td>nan</td><td>nan</td><td>nan</td><td>26.3897794278116</td><td>nan</td><td>0.18906452</td><td>nan</td><td>0.18906452</td></tr>\n",
       "<tr><td>2652670</td><td>nan</td><td>nan</td><td>nan</td><td>nan</td><td>nan</td><td>0.909743596951121</td><td>nan</td><td>0.2003182</td><td>nan</td><td>0.2003182</td></tr>\n",
       "<tr><td>2652671</td><td>nan</td><td>nan</td><td>nan</td><td>nan</td><td>nan</td><td>0.907613326799461</td><td>nan</td><td>0.20031814</td><td>nan</td><td>0.20031814</td></tr>\n",
       "<tr><td>2652983</td><td>nan</td><td>nan</td><td>nan</td><td>nan</td><td>nan</td><td>0.759221342327773</td><td>nan</td><td>0.19815181</td><td>nan</td><td>0.19815181</td></tr>\n",
       "<tr><td>2652985</td><td>nan</td><td>nan</td><td>nan</td><td>nan</td><td>nan</td><td>0.709532414323448</td><td>nan</td><td>0.19815195</td><td>nan</td><td>0.19815195</td></tr>\n",
       "<tr><td>...</td><td>...</td><td>...</td><td>...</td><td>...</td><td>...</td><td>...</td><td>...</td><td>...</td><td>...</td><td>...</td></tr>\n",
       "<tr><td>2758725</td><td>nan</td><td>nan</td><td>nan</td><td>nan</td><td>nan</td><td>0.962989379875482</td><td>nan</td><td>0.16304098</td><td>nan</td><td>0.16304098</td></tr>\n",
       "<tr><td>2758726</td><td>nan</td><td>nan</td><td>nan</td><td>nan</td><td>nan</td><td>1.592190840778</td><td>nan</td><td>0.16239852</td><td>nan</td><td>0.16239852</td></tr>\n",
       "<tr><td>2758727</td><td>nan</td><td>nan</td><td>nan</td><td>nan</td><td>nan</td><td>1.68717381553481</td><td>nan</td><td>0.1647915</td><td>nan</td><td>0.1647915</td></tr>\n",
       "<tr><td>2758728</td><td>nan</td><td>nan</td><td>nan</td><td>nan</td><td>nan</td><td>1.41524050155837</td><td>nan</td><td>0.17226333</td><td>nan</td><td>0.17226333</td></tr>\n",
       "<tr><td>2758729</td><td>nan</td><td>nan</td><td>nan</td><td>nan</td><td>nan</td><td>1549.36707196568</td><td>nan</td><td>0.16137253</td><td>nan</td><td>0.16137253</td></tr>\n",
       "<tr><td>2758730</td><td>nan</td><td>nan</td><td>nan</td><td>nan</td><td>nan</td><td>1.5850016725736</td><td>nan</td><td>0.16344784</td><td>nan</td><td>0.16344784</td></tr>\n",
       "<tr><td>2758732</td><td>nan</td><td>nan</td><td>nan</td><td>nan</td><td>nan</td><td>nan</td><td>nan</td><td>0.1635113</td><td>nan</td><td>0.1635113</td></tr>\n",
       "<tr><td>2758736</td><td>nan</td><td>nan</td><td>nan</td><td>nan</td><td>nan</td><td>0.829615297934712</td><td>nan</td><td>0.20959587</td><td>nan</td><td>0.20959587</td></tr>\n",
       "<tr><td>2758737</td><td>nan</td><td>nan</td><td>nan</td><td>nan</td><td>nan</td><td>0.892086609466304</td><td>nan</td><td>0.22579443999999999</td><td>nan</td><td>0.22579443999999999</td></tr>\n",
       "<tr><td>2758784</td><td>nan</td><td>nan</td><td>nan</td><td>nan</td><td>nan</td><td>0.88569399826493</td><td>nan</td><td>0.1444143</td><td>nan</td><td>0.1444143</td></tr>\n",
       "</table>"
      ],
      "text/plain": [
       "<Table length=9564>\n",
       "hp_idx_o_10 ferr_ap_mmt_g_mean ... ferr_ap_sdss_g_mean      ferr_g_min    \n",
       "                   uJy         ...         uJy                            \n",
       "   int64         float64       ...       float64             float64      \n",
       "----------- ------------------ ... ------------------- -------------------\n",
       "    2652662                nan ...                 nan 0.20031881999999998\n",
       "    2652663                nan ...                 nan           0.1769414\n",
       "    2652667                nan ...                 nan            0.200318\n",
       "    2652668                nan ...                 nan          0.20031815\n",
       "    2652669                nan ...                 nan          0.18906452\n",
       "    2652670                nan ...                 nan           0.2003182\n",
       "    2652671                nan ...                 nan          0.20031814\n",
       "    2652983                nan ...                 nan          0.19815181\n",
       "    2652985                nan ...                 nan          0.19815195\n",
       "        ...                ... ...                 ...                 ...\n",
       "    2758725                nan ...                 nan          0.16304098\n",
       "    2758726                nan ...                 nan          0.16239852\n",
       "    2758727                nan ...                 nan           0.1647915\n",
       "    2758728                nan ...                 nan          0.17226333\n",
       "    2758729                nan ...                 nan          0.16137253\n",
       "    2758730                nan ...                 nan          0.16344784\n",
       "    2758732                nan ...                 nan           0.1635113\n",
       "    2758736                nan ...                 nan          0.20959587\n",
       "    2758737                nan ...                 nan 0.22579443999999999\n",
       "    2758784                nan ...                 nan           0.1444143"
      ]
     },
     "execution_count": 29,
     "metadata": {},
     "output_type": "execute_result"
    }
   ],
   "source": [
    "g_table[prime_low]"
   ]
  },
  {
   "cell_type": "markdown",
   "metadata": {},
   "source": [
    "## K or Ks filters\n",
    "the same for K"
   ]
  },
  {
   "cell_type": "code",
   "execution_count": 30,
   "metadata": {},
   "outputs": [
    {
     "data": {
      "text/plain": [
       "['isaac_k',\n",
       " 'moircs_k',\n",
       " 'wircam_ks',\n",
       " 'ukidss_k',\n",
       " 'vista_ks',\n",
       " 'moircs_ks',\n",
       " 'newfirm_k',\n",
       " 'omega2000_ks',\n",
       " 'tifkam_ks',\n",
       " 'wircs_k',\n",
       " 'hawki_k']"
      ]
     },
     "execution_count": 30,
     "metadata": {},
     "output_type": "execute_result"
    }
   ],
   "source": [
    "K_filters = [f for f in filters if f.split('_')[1].startswith('k')]\n",
    "K_filters"
   ]
  },
  {
   "cell_type": "code",
   "execution_count": 31,
   "metadata": {},
   "outputs": [
    {
     "name": "stdout",
     "output_type": "stream",
     "text": [
      ", ferr_ap_isaac_k_mean, ferr_ap_moircs_k_mean, ferr_ap_wircam_ks_mean, ferr_ap_ukidss_k_mean, ferr_ap_vista_ks_mean, ferr_ap_moircs_ks_mean, ferr_ap_newfirm_k_mean, ferr_ap_omega2000_ks_mean, ferr_ap_tifkam_ks_mean, ferr_ap_wircs_k_mean, ferr_ap_hawki_k_mean\n"
     ]
    }
   ],
   "source": [
    "\n",
    "spaced_list = ''\n",
    "for K in K_filters:\n",
    "    spaced_list = spaced_list + ', ferr_ap_' + K + '_mean'\n",
    "print(spaced_list)"
   ]
  },
  {
   "cell_type": "code",
   "execution_count": 32,
   "metadata": {},
   "outputs": [
    {
     "data": {
      "text/plain": [
       "'\\nSELECT DISTINCT hp_idx_O_10, ferr_ap_isaac_k_mean, ferr_ap_moircs_k_mean, ferr_ap_wircam_ks_mean, ferr_ap_ukidss_k_mean, ferr_ap_vista_ks_mean, ferr_ap_moircs_ks_mean, ferr_ap_newfirm_k_mean, ferr_ap_omega2000_ks_mean, ferr_ap_tifkam_ks_mean, ferr_ap_wircs_k_mean, ferr_ap_hawki_k_mean\\nFROM depth.main\\n\\n'"
      ]
     },
     "execution_count": 32,
     "metadata": {},
     "output_type": "execute_result"
    }
   ],
   "source": [
    "K_bands_query=\"\"\"\n",
    "SELECT DISTINCT hp_idx_O_10{}\n",
    "FROM depth.main\n",
    "\n",
    "\"\"\".format(spaced_list)\n",
    "K_bands_query"
   ]
  },
  {
   "cell_type": "code",
   "execution_count": 33,
   "metadata": {},
   "outputs": [
    {
     "name": "stdout",
     "output_type": "stream",
     "text": [
      "Job still running after 0 seconds.\n",
      "Job still running after 10 seconds.\n",
      "Job still running after 20 seconds.\n",
      "Job still running after 30 seconds.\n",
      "Job still running after 40 seconds.\n",
      "COMPLETED\n"
     ]
    }
   ],
   "source": [
    "#Then we execute the query\n",
    "#resultset = service.run_async(irac_i1_query)\n",
    "job = service.submit_job(K_bands_query)\n",
    "job.run()\n",
    "job_url = job.url\n",
    "job_result = vo.dal.tap.AsyncTAPJob(job_url)\n",
    "start_time = time.time()\n",
    "while job.phase == 'EXECUTING':\n",
    "    print('Job still running after {} seconds.'.format(round(time.time() - start_time)))\n",
    "    time.sleep(10) #wait ten seconds and try again\n",
    "    \n",
    "print(job.phase)\n",
    "table = job_result.fetch_result() "
   ]
  },
  {
   "cell_type": "code",
   "execution_count": 34,
   "metadata": {},
   "outputs": [
    {
     "data": {
      "text/plain": [
       "['ferr_ap_isaac_k_mean',\n",
       " 'ferr_ap_moircs_k_mean',\n",
       " 'ferr_ap_wircam_ks_mean',\n",
       " 'ferr_ap_ukidss_k_mean',\n",
       " 'ferr_ap_vista_ks_mean',\n",
       " 'ferr_ap_moircs_ks_mean',\n",
       " 'ferr_ap_newfirm_k_mean',\n",
       " 'ferr_ap_omega2000_ks_mean',\n",
       " 'ferr_ap_tifkam_ks_mean',\n",
       " 'ferr_ap_wircs_k_mean',\n",
       " 'ferr_ap_hawki_k_mean']"
      ]
     },
     "execution_count": 34,
     "metadata": {},
     "output_type": "execute_result"
    }
   ],
   "source": [
    "depth_cols  = [\"ferr_ap_{}_mean\".format(band) for band in K_filters]\n",
    "depth_cols"
   ]
  },
  {
   "cell_type": "code",
   "execution_count": 35,
   "metadata": {},
   "outputs": [],
   "source": [
    "K_table = Table(table.table)\n",
    "for col in depth_cols:\n",
    "    K_table[col].fill_value = np.nan\n",
    "K_table = K_table.filled()"
   ]
  },
  {
   "cell_type": "code",
   "execution_count": 36,
   "metadata": {},
   "outputs": [
    {
     "data": {
      "text/html": [
       "<i>Table length=394298</i>\n",
       "<table id=\"table34770419496\" class=\"table-striped table-bordered table-condensed\">\n",
       "<thead><tr><th>hp_idx_o_10</th><th>ferr_ap_isaac_k_mean</th><th>ferr_ap_moircs_k_mean</th><th>ferr_ap_wircam_ks_mean</th><th>ferr_ap_ukidss_k_mean</th><th>ferr_ap_vista_ks_mean</th><th>ferr_ap_moircs_ks_mean</th><th>ferr_ap_newfirm_k_mean</th><th>ferr_ap_omega2000_ks_mean</th><th>ferr_ap_tifkam_ks_mean</th><th>ferr_ap_wircs_k_mean</th><th>ferr_ap_hawki_k_mean</th></tr></thead>\n",
       "<thead><tr><th></th><th>uJy</th><th>uJy</th><th>uJy</th><th>uJy</th><th>uJy</th><th>uJy</th><th>uJy</th><th>uJy</th><th>uJy</th><th>uJy</th><th>uJy</th></tr></thead>\n",
       "<thead><tr><th>int64</th><th>float64</th><th>float64</th><th>float64</th><th>float64</th><th>float64</th><th>float64</th><th>float64</th><th>float64</th><th>float64</th><th>float64</th><th>float64</th></tr></thead>\n",
       "<tr><td>1048576</td><td>nan</td><td>nan</td><td>nan</td><td>6.3801355</td><td>2.36790292603629</td><td>nan</td><td>nan</td><td>nan</td><td>nan</td><td>nan</td><td>nan</td></tr>\n",
       "<tr><td>1048577</td><td>nan</td><td>nan</td><td>nan</td><td>6.573922</td><td>2.3642338684627</td><td>nan</td><td>nan</td><td>nan</td><td>nan</td><td>nan</td><td>nan</td></tr>\n",
       "<tr><td>1048578</td><td>nan</td><td>nan</td><td>nan</td><td>6.919189</td><td>3.06828086159446</td><td>nan</td><td>nan</td><td>nan</td><td>nan</td><td>nan</td><td>nan</td></tr>\n",
       "<tr><td>1048579</td><td>nan</td><td>nan</td><td>nan</td><td>6.4581065</td><td>2.60780441455352</td><td>nan</td><td>nan</td><td>nan</td><td>nan</td><td>nan</td><td>nan</td></tr>\n",
       "<tr><td>1048580</td><td>nan</td><td>nan</td><td>nan</td><td>5.6970916</td><td>2.52248514782299</td><td>nan</td><td>nan</td><td>nan</td><td>nan</td><td>nan</td><td>nan</td></tr>\n",
       "<tr><td>1048581</td><td>nan</td><td>nan</td><td>nan</td><td>6.03468</td><td>2.77342678705851</td><td>nan</td><td>nan</td><td>nan</td><td>nan</td><td>nan</td><td>nan</td></tr>\n",
       "<tr><td>1048582</td><td>nan</td><td>nan</td><td>nan</td><td>6.4513354</td><td>2.62036830054389</td><td>nan</td><td>nan</td><td>nan</td><td>nan</td><td>nan</td><td>nan</td></tr>\n",
       "<tr><td>1048583</td><td>nan</td><td>nan</td><td>nan</td><td>5.647315</td><td>2.52217631393604</td><td>nan</td><td>nan</td><td>nan</td><td>nan</td><td>nan</td><td>nan</td></tr>\n",
       "<tr><td>1048584</td><td>nan</td><td>nan</td><td>nan</td><td>6.44909</td><td>2.55789082050323</td><td>nan</td><td>nan</td><td>nan</td><td>nan</td><td>nan</td><td>nan</td></tr>\n",
       "<tr><td>...</td><td>...</td><td>...</td><td>...</td><td>...</td><td>...</td><td>...</td><td>...</td><td>...</td><td>...</td><td>...</td><td>...</td></tr>\n",
       "<tr><td>12042983</td><td>nan</td><td>nan</td><td>nan</td><td>nan</td><td>nan</td><td>nan</td><td>nan</td><td>nan</td><td>nan</td><td>nan</td><td>nan</td></tr>\n",
       "<tr><td>12042985</td><td>nan</td><td>nan</td><td>nan</td><td>nan</td><td>nan</td><td>nan</td><td>nan</td><td>nan</td><td>nan</td><td>nan</td><td>nan</td></tr>\n",
       "<tr><td>12043008</td><td>nan</td><td>nan</td><td>nan</td><td>nan</td><td>nan</td><td>nan</td><td>nan</td><td>nan</td><td>nan</td><td>nan</td><td>nan</td></tr>\n",
       "<tr><td>12043009</td><td>nan</td><td>nan</td><td>nan</td><td>nan</td><td>nan</td><td>nan</td><td>nan</td><td>nan</td><td>nan</td><td>nan</td><td>nan</td></tr>\n",
       "<tr><td>12043010</td><td>nan</td><td>nan</td><td>nan</td><td>nan</td><td>nan</td><td>nan</td><td>nan</td><td>nan</td><td>nan</td><td>nan</td><td>nan</td></tr>\n",
       "<tr><td>12043011</td><td>nan</td><td>nan</td><td>nan</td><td>nan</td><td>nan</td><td>nan</td><td>nan</td><td>nan</td><td>nan</td><td>nan</td><td>nan</td></tr>\n",
       "<tr><td>12043012</td><td>nan</td><td>nan</td><td>nan</td><td>nan</td><td>nan</td><td>nan</td><td>nan</td><td>nan</td><td>nan</td><td>nan</td><td>nan</td></tr>\n",
       "<tr><td>12043016</td><td>nan</td><td>nan</td><td>nan</td><td>nan</td><td>nan</td><td>nan</td><td>nan</td><td>nan</td><td>nan</td><td>nan</td><td>nan</td></tr>\n",
       "<tr><td>12043017</td><td>nan</td><td>nan</td><td>nan</td><td>nan</td><td>nan</td><td>nan</td><td>nan</td><td>nan</td><td>nan</td><td>nan</td><td>nan</td></tr>\n",
       "<tr><td>12043018</td><td>nan</td><td>nan</td><td>nan</td><td>nan</td><td>nan</td><td>nan</td><td>nan</td><td>nan</td><td>nan</td><td>nan</td><td>nan</td></tr>\n",
       "</table>"
      ],
      "text/plain": [
       "<Table length=394298>\n",
       "hp_idx_o_10 ferr_ap_isaac_k_mean ... ferr_ap_wircs_k_mean ferr_ap_hawki_k_mean\n",
       "                    uJy          ...         uJy                  uJy         \n",
       "   int64          float64        ...       float64              float64       \n",
       "----------- -------------------- ... -------------------- --------------------\n",
       "    1048576                  nan ...                  nan                  nan\n",
       "    1048577                  nan ...                  nan                  nan\n",
       "    1048578                  nan ...                  nan                  nan\n",
       "    1048579                  nan ...                  nan                  nan\n",
       "    1048580                  nan ...                  nan                  nan\n",
       "    1048581                  nan ...                  nan                  nan\n",
       "    1048582                  nan ...                  nan                  nan\n",
       "    1048583                  nan ...                  nan                  nan\n",
       "    1048584                  nan ...                  nan                  nan\n",
       "        ...                  ... ...                  ...                  ...\n",
       "   12042983                  nan ...                  nan                  nan\n",
       "   12042985                  nan ...                  nan                  nan\n",
       "   12043008                  nan ...                  nan                  nan\n",
       "   12043009                  nan ...                  nan                  nan\n",
       "   12043010                  nan ...                  nan                  nan\n",
       "   12043011                  nan ...                  nan                  nan\n",
       "   12043012                  nan ...                  nan                  nan\n",
       "   12043016                  nan ...                  nan                  nan\n",
       "   12043017                  nan ...                  nan                  nan\n",
       "   12043018                  nan ...                  nan                  nan"
      ]
     },
     "execution_count": 36,
     "metadata": {},
     "output_type": "execute_result"
    }
   ],
   "source": [
    "K_table"
   ]
  },
  {
   "cell_type": "code",
   "execution_count": 37,
   "metadata": {},
   "outputs": [
    {
     "name": "stderr",
     "output_type": "stream",
     "text": [
      "/Users/rs548/anaconda/envs/herschelhelp_internal/lib/python3.6/site-packages/ipykernel/__main__.py:1: RuntimeWarning: All-NaN axis encountered\n",
      "  if __name__ == '__main__':\n"
     ]
    }
   ],
   "source": [
    "K_table.add_column(Column(data=np.nanmin([K_table[column] for column in depth_cols], axis=0), name='ferr_K_min'))"
   ]
  },
  {
   "cell_type": "code",
   "execution_count": 38,
   "metadata": {},
   "outputs": [
    {
     "data": {
      "text/plain": [
       "0"
      ]
     },
     "execution_count": 38,
     "metadata": {},
     "output_type": "execute_result"
    }
   ],
   "source": [
    "np.sum(K_table['ferr_K_min'] == np.nan)"
   ]
  },
  {
   "cell_type": "code",
   "execution_count": 39,
   "metadata": {},
   "outputs": [
    {
     "data": {
      "text/plain": [
       "1292.6302392940547"
      ]
     },
     "execution_count": 39,
     "metadata": {},
     "output_type": "execute_result"
    }
   ],
   "source": [
    "K_moc = MOC(10, K_table['hp_idx_o_10'])\n",
    "K_moc.area_sq_deg\n",
    "total_area_K = K_moc.area_sq_deg\n",
    "total_area_K"
   ]
  },
  {
   "cell_type": "code",
   "execution_count": 40,
   "metadata": {},
   "outputs": [
    {
     "name": "stderr",
     "output_type": "stream",
     "text": [
      "/Users/rs548/anaconda/envs/herschelhelp_internal/lib/python3.6/site-packages/ipykernel/__main__.py:5: RuntimeWarning: divide by zero encountered in log10\n",
      "/Users/rs548/anaconda/envs/herschelhelp_internal/lib/python3.6/site-packages/ipykernel/__main__.py:5: RuntimeWarning: invalid value encountered in greater\n",
      "/Users/rs548/anaconda/envs/herschelhelp_internal/lib/python3.6/site-packages/ipykernel/__main__.py:6: RuntimeWarning: divide by zero encountered in log10\n",
      "/Users/rs548/anaconda/envs/herschelhelp_internal/lib/python3.6/site-packages/ipykernel/__main__.py:6: RuntimeWarning: invalid value encountered in less\n",
      "/Users/rs548/anaconda/envs/herschelhelp_internal/lib/python3.6/site-packages/matplotlib/font_manager.py:1297: UserWarning: findfont: Font family ['serif'] not found. Falling back to DejaVu Sans\n",
      "  (prop.get_family(), self.defaultFamily[fontext]))\n"
     ]
    },
    {
     "data": {
      "image/png": "[encoded data removed]",
      "text/plain": [
       "<matplotlib.figure.Figure at 0x81f7a6e10>"
      ]
     },
     "metadata": {},
     "output_type": "display_data"
    }
   ],
   "source": [
    "K_table['hp_idx_o_10', 'ferr_K_min']\n",
    "\n",
    "fig, ax = plt.subplots()\n",
    "\n",
    "good = np.log10(np.array(K_table['ferr_K_min'])*1.e-6) > -20\n",
    "good &= np.log10(np.array(K_table['ferr_K_min'])*1.e-6) <20\n",
    "\n",
    "cells, fluxes = np.histogram(np.log10(np.array(K_table['ferr_K_min'][good ])*1.e-6), bins=100)\n",
    "ax.plot(fluxes[1:],\n",
    "         np.cumsum(cells)*1270./cells.sum() ,\n",
    "        drawstyle='steps')\n",
    "\n",
    "ax.set_xlabel('Log$_{10}$ ( Mean K or Ks flux error [Jy] )')\n",
    "ax.set_ylabel('Cumulative area [deg.$^2$]')\n",
    "ax.set_xlim([-6.5,-4.5])\n",
    "#y_vals = ax.get_yticks()\n",
    "#ax.set_yticklabels([n for n in y_vals])\n",
    "\n",
    "plt.rc('font', family='serif', serif='Times')\n",
    "plt.rc('text') #, usetex=True)\n",
    "plt.rc('xtick', labelsize=12)\n",
    "plt.rc('ytick', labelsize=12)\n",
    "plt.rc('axes', labelsize=12)\n",
    "\n",
    "column_width_cm = 8.9\n",
    "width_cm = 1.4 * column_width_cm\n",
    "hieght_cm = width_cm / 1.618\n",
    "width_inches = width_cm/2.5\n",
    "hieght_inches = hieght_cm/2.5\n",
    "fig.set_size_inches(width_inches, hieght_inches)\n",
    "plt.tight_layout()\n",
    "\n",
    "plt.savefig('./figs/K_cumulative_area_depth.pdf')\n",
    "plt.savefig('./figs/K_cumulative_area_depth.png')"
   ]
  },
  {
   "cell_type": "code",
   "execution_count": 41,
   "metadata": {},
   "outputs": [
    {
     "data": {
      "text/plain": [
       "'\\nThe IRAC i1 band has coverage over 1273 square degrees with  3 sigma \\ndepths at the 25th, 50th and 75th percentiles of 8.507107317226373, 15.31927155, 18.434229287923927 respectively.'"
      ]
     },
     "execution_count": 41,
     "metadata": {},
     "output_type": "execute_result"
    }
   ],
   "source": [
    "K_p25, K_p50, K_p75 = np.nanpercentile(K_table['ferr_K_min'][good ] * 3.,[25, 50, 75])\n",
    "\"\"\"\n",
    "The IRAC i1 band has coverage over {} square degrees with  3 sigma \n",
    "depths at the 25th, 50th and 75th percentiles of {}, {}, {} respectively.\"\"\".format(1273, K_p25, K_p50, K_p75)"
   ]
  },
  {
   "cell_type": "markdown",
   "metadata": {},
   "source": [
    "## Make a table of bands available on each field"
   ]
  },
  {
   "cell_type": "code",
   "execution_count": 8,
   "metadata": {},
   "outputs": [],
   "source": [
    "bands = ['u', 'g', 'r', 'i', 'z', 'y',\n",
    "        'J', 'H', 'K', 'Ks',\n",
    "        'i1', 'i2', 'i3', 'i4']"
   ]
  },
  {
   "cell_type": "code",
   "execution_count": 58,
   "metadata": {},
   "outputs": [],
   "source": [
    "spaced_list = ''\n",
    "for m, band in enumerate(bands):\n",
    "    specific_bands = [f for f in filters if f.split('_')[1] == band.lower()]\n",
    "    for specific_band in specific_bands:\n",
    "        spaced_list = spaced_list + ', ferr_ap_' + specific_band + '_mean'\n",
    "        \n",
    "spaced_list = spaced_list.replace(' ferr_ap_lbc_u_mean,', '')\n",
    "spaced_list = spaced_list.replace(' ferr_ap_lbc_y_mean,', '')"
   ]
  },
  {
   "cell_type": "code",
   "execution_count": 59,
   "metadata": {},
   "outputs": [
    {
     "data": {
      "text/plain": [
       "', ferr_ap_omegacam_u_mean, ferr_ap_mmt_u_mean, ferr_ap_bessell_u_mean, ferr_ap_wfi_u_mean, ferr_ap_megacam_u_mean, ferr_ap_mosaic_u_mean, ferr_ap_wfc_u_mean, ferr_ap_sdss_u_mean, ferr_ap_mmt_g_mean, ferr_ap_omegacam_g_mean, ferr_ap_suprime_g_mean, ferr_ap_megacam_g_mean, ferr_ap_wfc_g_mean, ferr_ap_gpc1_g_mean, ferr_ap_decam_g_mean, ferr_ap_90prime_g_mean, ferr_ap_sdss_g_mean, ferr_ap_omegacam_r_mean, ferr_ap_mmt_r_mean, ferr_ap_cfht12k_r_mean, ferr_ap_megacam_r_mean, ferr_ap_wfi_r_mean, ferr_ap_suprime_r_mean, ferr_ap_mosaic_r_mean, ferr_ap_bessell_r_mean, ferr_ap_wfc_r_mean, ferr_ap_gpc1_r_mean, ferr_ap_decam_r_mean, ferr_ap_sdss_r_mean, ferr_ap_90prime_r_mean, ferr_ap_sdss_i_mean, ferr_ap_decam_i_mean, ferr_ap_gpc1_i_mean, ferr_ap_wfc_i_mean, ferr_ap_bessell_i_mean, ferr_ap_mosaic_i_mean, ferr_ap_megacam_i_mean, ferr_ap_wfi_i_mean, ferr_ap_suprime_i_mean, ferr_ap_cfht12k_i_mean, ferr_ap_mmt_i_mean, ferr_ap_omegacam_i_mean, ferr_ap_decam_z_mean, ferr_ap_90prime_z_mean, ferr_ap_sdss_z_mean, ferr_ap_wfc_z_mean, ferr_ap_gpc1_z_mean, ferr_ap_suprime_z_mean, ferr_ap_megacam_z_mean, ferr_ap_vista_z_mean, ferr_ap_mosaic_z_mean, ferr_ap_omegacam_z_mean, ferr_ap_mmt_z_mean, ferr_ap_decam_y_mean, ferr_ap_ukidss_y_mean, ferr_ap_gpc1_y_mean, ferr_ap_suprime_y_mean, ferr_ap_megacam_y_mean, ferr_ap_vista_y_mean, ferr_ap_wircam_y_mean, ferr_ap_omega2000_j_mean, ferr_ap_ukidss_j_mean, ferr_ap_vista_j_mean, ferr_ap_newfirm_j_mean, ferr_ap_wircs_j_mean, ferr_ap_wircam_j_mean, ferr_ap_ukidss_h_mean, ferr_ap_vista_h_mean, ferr_ap_newfirm_h_mean, ferr_ap_wircam_h_mean, ferr_ap_isaac_k_mean, ferr_ap_moircs_k_mean, ferr_ap_ukidss_k_mean, ferr_ap_newfirm_k_mean, ferr_ap_wircs_k_mean, ferr_ap_hawki_k_mean, ferr_ap_wircam_ks_mean, ferr_ap_vista_ks_mean, ferr_ap_moircs_ks_mean, ferr_ap_omega2000_ks_mean, ferr_ap_tifkam_ks_mean, ferr_ap_irac_i1_mean, ferr_ap_irac_i2_mean, ferr_ap_irac_i3_mean, ferr_ap_irac_i4_mean'"
      ]
     },
     "execution_count": 59,
     "metadata": {},
     "output_type": "execute_result"
    }
   ],
   "source": [
    "spaced_list"
   ]
  },
  {
   "cell_type": "code",
   "execution_count": 60,
   "metadata": {},
   "outputs": [
    {
     "name": "stdout",
     "output_type": "stream",
     "text": [
      "1550748718.205667\n",
      "Job still running after 0 seconds.\n",
      "Job still running after 50 seconds.\n",
      "Job still running after 100 seconds.\n",
      "Job still running after 150 seconds.\n",
      "Job still running after 200 seconds.\n",
      "COMPLETED\n",
      "Fetching result 1550748968.785324\n"
     ]
    },
    {
     "name": "stderr",
     "output_type": "stream",
     "text": [
      "WARNING: W06: None:2:20168: W06: Invalid UCD 'stat.error;phot.flux;em.IR.I': Unknown word 'em.IR.I' [astropy.io.votable.tree]\n",
      "WARNING: W06: None:2:20456: W06: Invalid UCD 'stat.error;phot.flux;em.opt.J': Unknown word 'em.opt.J' [astropy.io.votable.tree]\n"
     ]
    }
   ],
   "source": [
    "\n",
    "query = \"\"\"\n",
    "SELECT DISTINCT hp_idx_O_10{}\n",
    "FROM depth.main\n",
    "\"\"\".format(spaced_list)\n",
    "job = service.submit_job(query)\n",
    "job.run()\n",
    "job_url = job.url\n",
    "job_result = vo.dal.tap.AsyncTAPJob(job_url)\n",
    "start_time = time.time()\n",
    "print(time.time())\n",
    "while job.phase == 'EXECUTING':\n",
    "    print('Job still running after {} seconds.'.format(round(time.time() - start_time)))\n",
    "    time.sleep(50) #wait ten seconds and try again\n",
    "    \n",
    "print(job.phase)\n",
    "print('Fetching result', time.time())\n",
    "table = job_result.fetch_result()"
   ]
  },
  {
   "cell_type": "code",
   "execution_count": 334,
   "metadata": {},
   "outputs": [
    {
     "data": {
      "text/html": [
       "<i>Table length=394298</i>\n",
       "<table id=\"table34881686888\" class=\"table-striped table-bordered table-condensed\">\n",
       "<thead><tr><th>hp_idx_o_10</th><th>ferr_ap_omegacam_u_mean</th><th>ferr_ap_mmt_u_mean</th><th>ferr_ap_bessell_u_mean</th><th>ferr_ap_wfi_u_mean</th><th>ferr_ap_megacam_u_mean</th><th>ferr_ap_mosaic_u_mean</th><th>ferr_ap_wfc_u_mean</th><th>ferr_ap_sdss_u_mean</th><th>ferr_ap_mmt_g_mean</th><th>ferr_ap_omegacam_g_mean</th><th>ferr_ap_suprime_g_mean</th><th>ferr_ap_megacam_g_mean</th><th>ferr_ap_wfc_g_mean</th><th>ferr_ap_gpc1_g_mean</th><th>ferr_ap_decam_g_mean</th><th>ferr_ap_90prime_g_mean</th><th>ferr_ap_sdss_g_mean</th><th>ferr_ap_omegacam_r_mean</th><th>ferr_ap_mmt_r_mean</th><th>ferr_ap_cfht12k_r_mean</th><th>ferr_ap_megacam_r_mean</th><th>ferr_ap_wfi_r_mean</th><th>ferr_ap_suprime_r_mean</th><th>ferr_ap_mosaic_r_mean</th><th>ferr_ap_bessell_r_mean</th><th>ferr_ap_wfc_r_mean</th><th>ferr_ap_gpc1_r_mean</th><th>ferr_ap_decam_r_mean</th><th>ferr_ap_sdss_r_mean</th><th>ferr_ap_90prime_r_mean</th><th>ferr_ap_sdss_i_mean</th><th>ferr_ap_decam_i_mean</th><th>ferr_ap_gpc1_i_mean</th><th>ferr_ap_wfc_i_mean</th><th>ferr_ap_bessell_i_mean</th><th>ferr_ap_mosaic_i_mean</th><th>ferr_ap_megacam_i_mean</th><th>ferr_ap_wfi_i_mean</th><th>ferr_ap_suprime_i_mean</th><th>ferr_ap_cfht12k_i_mean</th><th>ferr_ap_mmt_i_mean</th><th>ferr_ap_omegacam_i_mean</th><th>ferr_ap_decam_z_mean</th><th>ferr_ap_90prime_z_mean</th><th>ferr_ap_sdss_z_mean</th><th>ferr_ap_wfc_z_mean</th><th>ferr_ap_gpc1_z_mean</th><th>ferr_ap_suprime_z_mean</th><th>ferr_ap_megacam_z_mean</th><th>ferr_ap_vista_z_mean</th><th>ferr_ap_mosaic_z_mean</th><th>ferr_ap_omegacam_z_mean</th><th>ferr_ap_mmt_z_mean</th><th>ferr_ap_decam_y_mean</th><th>ferr_ap_ukidss_y_mean</th><th>ferr_ap_gpc1_y_mean</th><th>ferr_ap_suprime_y_mean</th><th>ferr_ap_megacam_y_mean</th><th>ferr_ap_vista_y_mean</th><th>ferr_ap_wircam_y_mean</th><th>ferr_ap_omega2000_j_mean</th><th>ferr_ap_ukidss_j_mean</th><th>ferr_ap_vista_j_mean</th><th>ferr_ap_newfirm_j_mean</th><th>ferr_ap_wircs_j_mean</th><th>ferr_ap_wircam_j_mean</th><th>ferr_ap_ukidss_h_mean</th><th>ferr_ap_vista_h_mean</th><th>ferr_ap_newfirm_h_mean</th><th>ferr_ap_wircam_h_mean</th><th>ferr_ap_isaac_k_mean</th><th>ferr_ap_moircs_k_mean</th><th>ferr_ap_ukidss_k_mean</th><th>ferr_ap_newfirm_k_mean</th><th>ferr_ap_wircs_k_mean</th><th>ferr_ap_hawki_k_mean</th><th>ferr_ap_wircam_ks_mean</th><th>ferr_ap_vista_ks_mean</th><th>ferr_ap_moircs_ks_mean</th><th>ferr_ap_omega2000_ks_mean</th><th>ferr_ap_tifkam_ks_mean</th><th>ferr_ap_irac_i1_mean</th><th>ferr_ap_irac_i2_mean</th><th>ferr_ap_irac_i3_mean</th><th>ferr_ap_irac_i4_mean</th></tr></thead>\n",
       "<thead><tr><th></th><th>uJy</th><th>uJy</th><th>uJy</th><th>uJy</th><th>uJy</th><th>uJy</th><th>uJy</th><th>uJy</th><th>uJy</th><th>uJy</th><th>uJy</th><th>uJy</th><th>uJy</th><th>uJy</th><th>uJy</th><th>uJy</th><th>uJy</th><th>uJy</th><th>uJy</th><th>uJy</th><th>uJy</th><th>uJy</th><th>uJy</th><th>uJy</th><th>uJy</th><th>uJy</th><th>uJy</th><th>uJy</th><th>uJy</th><th>uJy</th><th>uJy</th><th>uJy</th><th>uJy</th><th>uJy</th><th>uJy</th><th>uJy</th><th>uJy</th><th>uJy</th><th>uJy</th><th>uJy</th><th>uJy</th><th>uJy</th><th>uJy</th><th>uJy</th><th>uJy</th><th>uJy</th><th>uJy</th><th>uJy</th><th>uJy</th><th>uJy</th><th>uJy</th><th>uJy</th><th>uJy</th><th>uJy</th><th>uJy</th><th>uJy</th><th>uJy</th><th>uJy</th><th>uJy</th><th>uJy</th><th>uJy</th><th>uJy</th><th>uJy</th><th>uJy</th><th>uJy</th><th>uJy</th><th>uJy</th><th>uJy</th><th>uJy</th><th>uJy</th><th>uJy</th><th>uJy</th><th>uJy</th><th>uJy</th><th>uJy</th><th>uJy</th><th>uJy</th><th>uJy</th><th>uJy</th><th>uJy</th><th>uJy</th><th>uJy</th><th>uJy</th><th>uJy</th><th>uJy</th></tr></thead>\n",
       "<thead><tr><th>int64</th><th>float64</th><th>float64</th><th>float64</th><th>float64</th><th>float64</th><th>float64</th><th>float64</th><th>float64</th><th>float64</th><th>float64</th><th>float64</th><th>float64</th><th>float64</th><th>float64</th><th>float64</th><th>float64</th><th>float64</th><th>float64</th><th>float64</th><th>float64</th><th>float64</th><th>float64</th><th>float64</th><th>float64</th><th>float64</th><th>float64</th><th>float64</th><th>float64</th><th>float64</th><th>float64</th><th>float64</th><th>float64</th><th>float64</th><th>float64</th><th>float64</th><th>float64</th><th>float64</th><th>float64</th><th>float64</th><th>float64</th><th>float64</th><th>float64</th><th>float64</th><th>float64</th><th>float64</th><th>float64</th><th>float64</th><th>float64</th><th>float64</th><th>float64</th><th>float64</th><th>float64</th><th>float64</th><th>float64</th><th>float64</th><th>float64</th><th>float64</th><th>float64</th><th>float64</th><th>float64</th><th>float64</th><th>float64</th><th>float64</th><th>float64</th><th>float64</th><th>float64</th><th>float64</th><th>float64</th><th>float64</th><th>float64</th><th>float64</th><th>float64</th><th>float64</th><th>float64</th><th>float64</th><th>float64</th><th>float64</th><th>float64</th><th>float64</th><th>float64</th><th>float64</th><th>float64</th><th>float64</th><th>float64</th><th>float64</th></tr></thead>\n",
       "<tr><td>1048576</td><td>0.3888968</td><td>nan</td><td>nan</td><td>nan</td><td>nan</td><td>nan</td><td>nan</td><td>nan</td><td>nan</td><td>0.10194926</td><td>0.01926224</td><td>nan</td><td>nan</td><td>0.91465111996888</td><td>0.20712730000000001</td><td>nan</td><td>nan</td><td>0.13300735</td><td>nan</td><td>nan</td><td>nan</td><td>nan</td><td>0.030870374</td><td>nan</td><td>nan</td><td>nan</td><td>2.42656648971231</td><td>0.31425781999999997</td><td>nan</td><td>nan</td><td>nan</td><td>nan</td><td>2.17693319900341</td><td>nan</td><td>nan</td><td>nan</td><td>nan</td><td>nan</td><td>0.041768204</td><td>nan</td><td>nan</td><td>0.23194352</td><td>0.22510854</td><td>nan</td><td>nan</td><td>nan</td><td>146.925748841671</td><td>0.06151843</td><td>nan</td><td>0.46263823</td><td>nan</td><td>nan</td><td>nan</td><td>nan</td><td>3.2966712</td><td>68.0845813961089</td><td>0.14352015</td><td>nan</td><td>nan</td><td>nan</td><td>nan</td><td>4.862965</td><td>1.92945241928101</td><td>nan</td><td>nan</td><td>nan</td><td>4.8178754</td><td>1.7355504155159</td><td>nan</td><td>nan</td><td>nan</td><td>nan</td><td>6.3801355</td><td>nan</td><td>nan</td><td>nan</td><td>nan</td><td>2.36790292603629</td><td>nan</td><td>nan</td><td>nan</td><td>nan</td><td>nan</td><td>nan</td><td>nan</td></tr>\n",
       "<tr><td>1048577</td><td>0.3287</td><td>nan</td><td>nan</td><td>nan</td><td>nan</td><td>nan</td><td>nan</td><td>nan</td><td>nan</td><td>0.097032174</td><td>0.020717567</td><td>nan</td><td>nan</td><td>1.94901887644096</td><td>0.21819887999999998</td><td>nan</td><td>nan</td><td>0.117325865</td><td>nan</td><td>nan</td><td>nan</td><td>nan</td><td>0.03293594</td><td>nan</td><td>nan</td><td>nan</td><td>2.40327171228006</td><td>0.33950195</td><td>nan</td><td>nan</td><td>nan</td><td>nan</td><td>2.99968585945623</td><td>nan</td><td>nan</td><td>nan</td><td>nan</td><td>nan</td><td>0.044771805</td><td>nan</td><td>nan</td><td>0.20181328</td><td>0.25253004</td><td>nan</td><td>nan</td><td>nan</td><td>5.5478680208702</td><td>0.06634453</td><td>nan</td><td>0.46295264</td><td>nan</td><td>nan</td><td>nan</td><td>nan</td><td>4.16338</td><td>6.02002735205644</td><td>0.1526159</td><td>nan</td><td>nan</td><td>nan</td><td>nan</td><td>5.2789373</td><td>1.91976457834244</td><td>nan</td><td>nan</td><td>nan</td><td>5.391274</td><td>1.66691474914551</td><td>nan</td><td>nan</td><td>nan</td><td>nan</td><td>6.573922</td><td>nan</td><td>nan</td><td>nan</td><td>nan</td><td>2.3642338684627</td><td>nan</td><td>nan</td><td>nan</td><td>nan</td><td>nan</td><td>nan</td><td>nan</td></tr>\n",
       "<tr><td>1048578</td><td>0.3846171</td><td>nan</td><td>nan</td><td>nan</td><td>nan</td><td>nan</td><td>nan</td><td>nan</td><td>nan</td><td>0.08947918</td><td>0.021378249</td><td>nan</td><td>nan</td><td>14.2197571078478</td><td>0.19375477</td><td>nan</td><td>nan</td><td>0.11576792</td><td>nan</td><td>nan</td><td>nan</td><td>nan</td><td>0.035876982</td><td>nan</td><td>nan</td><td>nan</td><td>24.8165442511329</td><td>0.28689499999999996</td><td>nan</td><td>nan</td><td>nan</td><td>nan</td><td>2.29361599869134</td><td>nan</td><td>nan</td><td>nan</td><td>nan</td><td>nan</td><td>0.047181558</td><td>nan</td><td>nan</td><td>0.19726121</td><td>0.22915148000000002</td><td>nan</td><td>nan</td><td>nan</td><td>387.524588818173</td><td>0.06980607</td><td>nan</td><td>0.5684549</td><td>nan</td><td>nan</td><td>nan</td><td>nan</td><td>4.1563735</td><td>93.6458186809371</td><td>0.15956911</td><td>nan</td><td>nan</td><td>nan</td><td>nan</td><td>6.4571457</td><td>2.23670622490454</td><td>nan</td><td>nan</td><td>nan</td><td>5.920647</td><td>2.36486881526548</td><td>nan</td><td>nan</td><td>nan</td><td>nan</td><td>6.919189</td><td>nan</td><td>nan</td><td>nan</td><td>nan</td><td>3.06828086159446</td><td>nan</td><td>nan</td><td>nan</td><td>nan</td><td>nan</td><td>nan</td><td>nan</td></tr>\n",
       "<tr><td>1048579</td><td>0.37277982</td><td>nan</td><td>nan</td><td>nan</td><td>nan</td><td>nan</td><td>nan</td><td>nan</td><td>nan</td><td>0.10624343</td><td>0.021092668</td><td>nan</td><td>nan</td><td>1.58031976257619</td><td>0.22411628</td><td>nan</td><td>nan</td><td>0.12313704</td><td>nan</td><td>nan</td><td>nan</td><td>nan</td><td>0.03373764</td><td>nan</td><td>nan</td><td>nan</td><td>1.95740634399024</td><td>0.3246678</td><td>nan</td><td>nan</td><td>nan</td><td>nan</td><td>2.56385495210278</td><td>nan</td><td>nan</td><td>nan</td><td>nan</td><td>nan</td><td>0.04277464</td><td>nan</td><td>nan</td><td>0.21281403</td><td>0.22523723999999998</td><td>nan</td><td>nan</td><td>nan</td><td>3.83482825927494</td><td>0.063606665</td><td>nan</td><td>0.6386163</td><td>nan</td><td>nan</td><td>nan</td><td>nan</td><td>3.8073263</td><td>5.7849368965693</td><td>0.14877433</td><td>nan</td><td>nan</td><td>nan</td><td>nan</td><td>4.935857</td><td>2.08620972292764</td><td>nan</td><td>nan</td><td>nan</td><td>5.151513</td><td>1.8796404004097</td><td>nan</td><td>nan</td><td>nan</td><td>nan</td><td>6.4581065</td><td>nan</td><td>nan</td><td>nan</td><td>nan</td><td>2.60780441455352</td><td>nan</td><td>nan</td><td>nan</td><td>nan</td><td>nan</td><td>nan</td><td>nan</td></tr>\n",
       "<tr><td>1048580</td><td>0.2911744</td><td>nan</td><td>nan</td><td>nan</td><td>nan</td><td>nan</td><td>nan</td><td>nan</td><td>nan</td><td>0.09364398</td><td>0.020199573</td><td>nan</td><td>nan</td><td>1.47638389071289</td><td>0.21773541999999999</td><td>nan</td><td>nan</td><td>0.11573956</td><td>nan</td><td>nan</td><td>nan</td><td>nan</td><td>0.03168788</td><td>nan</td><td>nan</td><td>nan</td><td>1.44028260428952</td><td>0.31325948000000003</td><td>nan</td><td>nan</td><td>nan</td><td>nan</td><td>1.59535184757387</td><td>nan</td><td>nan</td><td>nan</td><td>nan</td><td>nan</td><td>0.042326976</td><td>nan</td><td>nan</td><td>0.19229569</td><td>0.23032695</td><td>nan</td><td>nan</td><td>nan</td><td>2.48770550779343</td><td>0.06250173</td><td>nan</td><td>0.62160707</td><td>nan</td><td>nan</td><td>nan</td><td>nan</td><td>2.9357395</td><td>5.26548030528673</td><td>0.14537382</td><td>nan</td><td>nan</td><td>nan</td><td>nan</td><td>4.092122</td><td>1.78109755970183</td><td>nan</td><td>nan</td><td>nan</td><td>4.3745513</td><td>1.78018177407128</td><td>nan</td><td>nan</td><td>nan</td><td>nan</td><td>5.6970916</td><td>nan</td><td>nan</td><td>nan</td><td>nan</td><td>2.52248514782299</td><td>nan</td><td>nan</td><td>nan</td><td>nan</td><td>nan</td><td>nan</td><td>nan</td></tr>\n",
       "<tr><td>1048581</td><td>0.33193266</td><td>nan</td><td>nan</td><td>nan</td><td>nan</td><td>nan</td><td>nan</td><td>nan</td><td>nan</td><td>0.109383814</td><td>0.022394473</td><td>nan</td><td>nan</td><td>82.0531657693273</td><td>0.2130428</td><td>nan</td><td>nan</td><td>0.12735996</td><td>nan</td><td>nan</td><td>nan</td><td>nan</td><td>0.03486983</td><td>nan</td><td>nan</td><td>nan</td><td>17.6783910921382</td><td>0.32084301000000004</td><td>nan</td><td>nan</td><td>nan</td><td>nan</td><td>21.478622746853</td><td>nan</td><td>nan</td><td>nan</td><td>nan</td><td>nan</td><td>0.04694038</td><td>nan</td><td>nan</td><td>0.22670881</td><td>0.20998698</td><td>nan</td><td>nan</td><td>nan</td><td>116.218369964138</td><td>0.069550596</td><td>nan</td><td>0.79693997</td><td>nan</td><td>nan</td><td>nan</td><td>nan</td><td>4.0269303</td><td>191.831890508377</td><td>0.16066769</td><td>nan</td><td>nan</td><td>nan</td><td>nan</td><td>4.463511</td><td>1.90774633487066</td><td>nan</td><td>nan</td><td>nan</td><td>4.566603</td><td>2.03642669806244</td><td>nan</td><td>nan</td><td>nan</td><td>nan</td><td>6.03468</td><td>nan</td><td>nan</td><td>nan</td><td>nan</td><td>2.77342678705851</td><td>nan</td><td>nan</td><td>nan</td><td>nan</td><td>nan</td><td>nan</td><td>nan</td></tr>\n",
       "<tr><td>1048582</td><td>0.31823373</td><td>nan</td><td>nan</td><td>nan</td><td>nan</td><td>nan</td><td>nan</td><td>nan</td><td>nan</td><td>0.094925046</td><td>0.020951325</td><td>nan</td><td>nan</td><td>0.936137486996368</td><td>0.20650837</td><td>nan</td><td>nan</td><td>0.11751947</td><td>nan</td><td>nan</td><td>nan</td><td>nan</td><td>0.033160187</td><td>nan</td><td>nan</td><td>nan</td><td>3.23226119681583</td><td>0.32076024999999997</td><td>nan</td><td>nan</td><td>nan</td><td>nan</td><td>6.7363921433714</td><td>nan</td><td>nan</td><td>nan</td><td>nan</td><td>nan</td><td>0.04638167</td><td>nan</td><td>nan</td><td>0.19668551</td><td>0.21693563000000002</td><td>nan</td><td>nan</td><td>nan</td><td>3.77465356020109</td><td>0.06910887</td><td>nan</td><td>0.7444448</td><td>nan</td><td>nan</td><td>nan</td><td>nan</td><td>3.8319368</td><td>5.79217715590866</td><td>0.16291834</td><td>nan</td><td>nan</td><td>nan</td><td>nan</td><td>4.949667</td><td>1.95878115219948</td><td>nan</td><td>nan</td><td>nan</td><td>5.1181474</td><td>1.83907379195804</td><td>nan</td><td>nan</td><td>nan</td><td>nan</td><td>6.4513354</td><td>nan</td><td>nan</td><td>nan</td><td>nan</td><td>2.62036830054389</td><td>nan</td><td>nan</td><td>nan</td><td>nan</td><td>nan</td><td>nan</td><td>nan</td></tr>\n",
       "<tr><td>1048583</td><td>0.25143299</td><td>nan</td><td>nan</td><td>nan</td><td>nan</td><td>nan</td><td>nan</td><td>nan</td><td>nan</td><td>0.09194561</td><td>0.020383537</td><td>nan</td><td>nan</td><td>0.90263284756015</td><td>0.19091698</td><td>nan</td><td>nan</td><td>0.11914382</td><td>nan</td><td>nan</td><td>nan</td><td>nan</td><td>0.031862717</td><td>nan</td><td>nan</td><td>nan</td><td>1.28034373432542</td><td>0.30067553999999996</td><td>nan</td><td>nan</td><td>nan</td><td>nan</td><td>0.914074638367121</td><td>nan</td><td>nan</td><td>nan</td><td>nan</td><td>nan</td><td>0.04413113</td><td>nan</td><td>nan</td><td>0.19904326</td><td>0.21251756</td><td>nan</td><td>nan</td><td>nan</td><td>2.12251573662501</td><td>0.06531107</td><td>nan</td><td>0.6908586</td><td>nan</td><td>nan</td><td>nan</td><td>nan</td><td>2.6936746</td><td>4.72364528747557</td><td>0.1515935</td><td>nan</td><td>nan</td><td>nan</td><td>nan</td><td>4.014827</td><td>1.84046977950681</td><td>nan</td><td>nan</td><td>nan</td><td>4.3152866</td><td>1.75781759311413</td><td>nan</td><td>nan</td><td>nan</td><td>nan</td><td>5.647315</td><td>nan</td><td>nan</td><td>nan</td><td>nan</td><td>2.52217631393604</td><td>nan</td><td>nan</td><td>nan</td><td>nan</td><td>nan</td><td>nan</td><td>nan</td></tr>\n",
       "<tr><td>1048584</td><td>0.36621407</td><td>nan</td><td>nan</td><td>nan</td><td>nan</td><td>nan</td><td>nan</td><td>nan</td><td>nan</td><td>0.09452543</td><td>0.022677435</td><td>nan</td><td>nan</td><td>1.39575847968715</td><td>0.20709993000000002</td><td>nan</td><td>nan</td><td>0.11679542</td><td>nan</td><td>nan</td><td>nan</td><td>nan</td><td>0.03732341</td><td>nan</td><td>nan</td><td>nan</td><td>1.33385864037525</td><td>0.30700738</td><td>nan</td><td>nan</td><td>nan</td><td>nan</td><td>1.56957843197039</td><td>nan</td><td>nan</td><td>nan</td><td>nan</td><td>nan</td><td>0.045192935</td><td>nan</td><td>nan</td><td>0.20225216</td><td>0.23029378</td><td>nan</td><td>nan</td><td>nan</td><td>2.63779838375143</td><td>0.06752495</td><td>nan</td><td>0.72929496</td><td>nan</td><td>nan</td><td>nan</td><td>nan</td><td>3.7204466</td><td>5.47030180931924</td><td>0.15900145</td><td>nan</td><td>nan</td><td>nan</td><td>nan</td><td>4.878065</td><td>1.98236000979388</td><td>nan</td><td>nan</td><td>nan</td><td>5.0677514</td><td>1.81433707039531</td><td>nan</td><td>nan</td><td>nan</td><td>nan</td><td>6.44909</td><td>nan</td><td>nan</td><td>nan</td><td>nan</td><td>2.55789082050323</td><td>nan</td><td>nan</td><td>nan</td><td>nan</td><td>nan</td><td>nan</td><td>nan</td></tr>\n",
       "<tr><td>...</td><td>...</td><td>...</td><td>...</td><td>...</td><td>...</td><td>...</td><td>...</td><td>...</td><td>...</td><td>...</td><td>...</td><td>...</td><td>...</td><td>...</td><td>...</td><td>...</td><td>...</td><td>...</td><td>...</td><td>...</td><td>...</td><td>...</td><td>...</td><td>...</td><td>...</td><td>...</td><td>...</td><td>...</td><td>...</td><td>...</td><td>...</td><td>...</td><td>...</td><td>...</td><td>...</td><td>...</td><td>...</td><td>...</td><td>...</td><td>...</td><td>...</td><td>...</td><td>...</td><td>...</td><td>...</td><td>...</td><td>...</td><td>...</td><td>...</td><td>...</td><td>...</td><td>...</td><td>...</td><td>...</td><td>...</td><td>...</td><td>...</td><td>...</td><td>...</td><td>...</td><td>...</td><td>...</td><td>...</td><td>...</td><td>...</td><td>...</td><td>...</td><td>...</td><td>...</td><td>...</td><td>...</td><td>...</td><td>...</td><td>...</td><td>...</td><td>...</td><td>...</td><td>...</td><td>...</td><td>...</td><td>...</td><td>...</td><td>...</td><td>...</td><td>...</td></tr>\n",
       "<tr><td>12042983</td><td>nan</td><td>nan</td><td>nan</td><td>nan</td><td>nan</td><td>nan</td><td>nan</td><td>nan</td><td>nan</td><td>0.470593447975413</td><td>nan</td><td>nan</td><td>nan</td><td>nan</td><td>nan</td><td>nan</td><td>nan</td><td>0.705364210222036</td><td>nan</td><td>nan</td><td>nan</td><td>nan</td><td>nan</td><td>nan</td><td>nan</td><td>nan</td><td>nan</td><td>nan</td><td>nan</td><td>nan</td><td>nan</td><td>nan</td><td>nan</td><td>nan</td><td>nan</td><td>nan</td><td>nan</td><td>nan</td><td>nan</td><td>nan</td><td>nan</td><td>0.980352786966052</td><td>nan</td><td>nan</td><td>nan</td><td>nan</td><td>nan</td><td>nan</td><td>nan</td><td>nan</td><td>nan</td><td>nan</td><td>nan</td><td>nan</td><td>nan</td><td>nan</td><td>nan</td><td>nan</td><td>nan</td><td>nan</td><td>nan</td><td>nan</td><td>nan</td><td>nan</td><td>nan</td><td>nan</td><td>nan</td><td>nan</td><td>nan</td><td>nan</td><td>nan</td><td>nan</td><td>nan</td><td>nan</td><td>nan</td><td>nan</td><td>nan</td><td>nan</td><td>nan</td><td>nan</td><td>nan</td><td>nan</td><td>nan</td><td>nan</td><td>nan</td></tr>\n",
       "<tr><td>12042985</td><td>nan</td><td>nan</td><td>nan</td><td>nan</td><td>nan</td><td>nan</td><td>nan</td><td>nan</td><td>nan</td><td>0.401245270265415</td><td>nan</td><td>nan</td><td>nan</td><td>nan</td><td>nan</td><td>nan</td><td>nan</td><td>0.631963384503022</td><td>nan</td><td>nan</td><td>nan</td><td>nan</td><td>nan</td><td>nan</td><td>nan</td><td>nan</td><td>nan</td><td>nan</td><td>nan</td><td>nan</td><td>nan</td><td>nan</td><td>nan</td><td>nan</td><td>nan</td><td>nan</td><td>nan</td><td>nan</td><td>nan</td><td>nan</td><td>nan</td><td>0.886734809470708</td><td>nan</td><td>nan</td><td>nan</td><td>nan</td><td>nan</td><td>nan</td><td>nan</td><td>nan</td><td>nan</td><td>nan</td><td>nan</td><td>nan</td><td>nan</td><td>nan</td><td>nan</td><td>nan</td><td>nan</td><td>nan</td><td>nan</td><td>nan</td><td>nan</td><td>nan</td><td>nan</td><td>nan</td><td>nan</td><td>nan</td><td>nan</td><td>nan</td><td>nan</td><td>nan</td><td>nan</td><td>nan</td><td>nan</td><td>nan</td><td>nan</td><td>nan</td><td>nan</td><td>nan</td><td>nan</td><td>nan</td><td>nan</td><td>nan</td><td>nan</td></tr>\n",
       "<tr><td>12043008</td><td>3.43117117596714</td><td>nan</td><td>nan</td><td>nan</td><td>nan</td><td>nan</td><td>nan</td><td>nan</td><td>nan</td><td>1.12891318891637</td><td>nan</td><td>nan</td><td>nan</td><td>nan</td><td>nan</td><td>nan</td><td>nan</td><td>1.56644287506227</td><td>nan</td><td>nan</td><td>nan</td><td>nan</td><td>nan</td><td>nan</td><td>nan</td><td>nan</td><td>nan</td><td>nan</td><td>nan</td><td>nan</td><td>nan</td><td>nan</td><td>nan</td><td>nan</td><td>nan</td><td>nan</td><td>nan</td><td>nan</td><td>nan</td><td>nan</td><td>nan</td><td>1.66926372262749</td><td>nan</td><td>nan</td><td>nan</td><td>nan</td><td>nan</td><td>nan</td><td>nan</td><td>nan</td><td>nan</td><td>4.31668842759001</td><td>nan</td><td>nan</td><td>nan</td><td>nan</td><td>nan</td><td>nan</td><td>nan</td><td>nan</td><td>nan</td><td>nan</td><td>nan</td><td>nan</td><td>nan</td><td>nan</td><td>nan</td><td>nan</td><td>nan</td><td>nan</td><td>nan</td><td>nan</td><td>nan</td><td>nan</td><td>nan</td><td>nan</td><td>nan</td><td>nan</td><td>nan</td><td>nan</td><td>nan</td><td>nan</td><td>nan</td><td>nan</td><td>nan</td></tr>\n",
       "<tr><td>12043009</td><td>1.81201014966394</td><td>nan</td><td>nan</td><td>nan</td><td>nan</td><td>nan</td><td>nan</td><td>nan</td><td>nan</td><td>0.508966908339133</td><td>nan</td><td>nan</td><td>nan</td><td>nan</td><td>nan</td><td>nan</td><td>nan</td><td>0.890091881795282</td><td>nan</td><td>nan</td><td>nan</td><td>nan</td><td>nan</td><td>nan</td><td>nan</td><td>nan</td><td>nan</td><td>nan</td><td>nan</td><td>nan</td><td>nan</td><td>nan</td><td>nan</td><td>nan</td><td>nan</td><td>nan</td><td>nan</td><td>nan</td><td>nan</td><td>nan</td><td>nan</td><td>1.1312017674427</td><td>nan</td><td>nan</td><td>nan</td><td>nan</td><td>nan</td><td>nan</td><td>nan</td><td>nan</td><td>nan</td><td>3.09896943585728</td><td>nan</td><td>nan</td><td>nan</td><td>nan</td><td>nan</td><td>nan</td><td>nan</td><td>nan</td><td>nan</td><td>nan</td><td>nan</td><td>nan</td><td>nan</td><td>nan</td><td>nan</td><td>nan</td><td>nan</td><td>nan</td><td>nan</td><td>nan</td><td>nan</td><td>nan</td><td>nan</td><td>nan</td><td>nan</td><td>nan</td><td>nan</td><td>nan</td><td>nan</td><td>nan</td><td>nan</td><td>nan</td><td>nan</td></tr>\n",
       "<tr><td>12043010</td><td>2.49268285441886</td><td>nan</td><td>nan</td><td>nan</td><td>nan</td><td>nan</td><td>nan</td><td>nan</td><td>nan</td><td>0.494158403628982</td><td>nan</td><td>nan</td><td>nan</td><td>nan</td><td>nan</td><td>nan</td><td>nan</td><td>0.909613505597342</td><td>nan</td><td>nan</td><td>nan</td><td>nan</td><td>nan</td><td>nan</td><td>nan</td><td>nan</td><td>nan</td><td>nan</td><td>nan</td><td>nan</td><td>nan</td><td>nan</td><td>nan</td><td>nan</td><td>nan</td><td>nan</td><td>nan</td><td>nan</td><td>nan</td><td>nan</td><td>nan</td><td>1.136793192659</td><td>nan</td><td>nan</td><td>nan</td><td>nan</td><td>nan</td><td>nan</td><td>nan</td><td>nan</td><td>nan</td><td>3.12670346706475</td><td>nan</td><td>nan</td><td>nan</td><td>nan</td><td>nan</td><td>nan</td><td>nan</td><td>nan</td><td>nan</td><td>nan</td><td>nan</td><td>nan</td><td>nan</td><td>nan</td><td>nan</td><td>nan</td><td>nan</td><td>nan</td><td>nan</td><td>nan</td><td>nan</td><td>nan</td><td>nan</td><td>nan</td><td>nan</td><td>nan</td><td>nan</td><td>nan</td><td>nan</td><td>nan</td><td>nan</td><td>nan</td><td>nan</td></tr>\n",
       "<tr><td>12043011</td><td>2.09373553263053</td><td>nan</td><td>nan</td><td>nan</td><td>nan</td><td>nan</td><td>nan</td><td>nan</td><td>nan</td><td>0.577247280662618</td><td>nan</td><td>nan</td><td>nan</td><td>nan</td><td>nan</td><td>nan</td><td>nan</td><td>0.991298854740798</td><td>nan</td><td>nan</td><td>nan</td><td>nan</td><td>nan</td><td>nan</td><td>nan</td><td>nan</td><td>nan</td><td>nan</td><td>nan</td><td>nan</td><td>nan</td><td>nan</td><td>nan</td><td>nan</td><td>nan</td><td>nan</td><td>nan</td><td>nan</td><td>nan</td><td>nan</td><td>nan</td><td>1.22674660501041</td><td>nan</td><td>nan</td><td>nan</td><td>nan</td><td>nan</td><td>nan</td><td>nan</td><td>nan</td><td>nan</td><td>3.39733806461695</td><td>nan</td><td>nan</td><td>nan</td><td>nan</td><td>nan</td><td>nan</td><td>nan</td><td>nan</td><td>nan</td><td>nan</td><td>nan</td><td>nan</td><td>nan</td><td>nan</td><td>nan</td><td>nan</td><td>nan</td><td>nan</td><td>nan</td><td>nan</td><td>nan</td><td>nan</td><td>nan</td><td>nan</td><td>nan</td><td>nan</td><td>nan</td><td>nan</td><td>nan</td><td>nan</td><td>nan</td><td>nan</td><td>nan</td></tr>\n",
       "<tr><td>12043012</td><td>nan</td><td>nan</td><td>nan</td><td>nan</td><td>nan</td><td>nan</td><td>nan</td><td>nan</td><td>nan</td><td>0.445860992796356</td><td>nan</td><td>nan</td><td>nan</td><td>nan</td><td>nan</td><td>nan</td><td>nan</td><td>nan</td><td>nan</td><td>nan</td><td>nan</td><td>nan</td><td>nan</td><td>nan</td><td>nan</td><td>nan</td><td>nan</td><td>nan</td><td>nan</td><td>nan</td><td>nan</td><td>nan</td><td>nan</td><td>nan</td><td>nan</td><td>nan</td><td>nan</td><td>nan</td><td>nan</td><td>nan</td><td>nan</td><td>1.02642671074533</td><td>nan</td><td>nan</td><td>nan</td><td>nan</td><td>nan</td><td>nan</td><td>nan</td><td>nan</td><td>nan</td><td>nan</td><td>nan</td><td>nan</td><td>nan</td><td>nan</td><td>nan</td><td>nan</td><td>nan</td><td>nan</td><td>nan</td><td>nan</td><td>nan</td><td>nan</td><td>nan</td><td>nan</td><td>nan</td><td>nan</td><td>nan</td><td>nan</td><td>nan</td><td>nan</td><td>nan</td><td>nan</td><td>nan</td><td>nan</td><td>nan</td><td>nan</td><td>nan</td><td>nan</td><td>nan</td><td>nan</td><td>nan</td><td>nan</td><td>nan</td></tr>\n",
       "<tr><td>12043016</td><td>3.58693278533988</td><td>nan</td><td>nan</td><td>nan</td><td>nan</td><td>nan</td><td>nan</td><td>nan</td><td>nan</td><td>0.684728410968042</td><td>nan</td><td>nan</td><td>nan</td><td>nan</td><td>nan</td><td>nan</td><td>nan</td><td>1.19586028947091</td><td>nan</td><td>nan</td><td>nan</td><td>nan</td><td>nan</td><td>nan</td><td>nan</td><td>nan</td><td>nan</td><td>nan</td><td>nan</td><td>nan</td><td>nan</td><td>nan</td><td>nan</td><td>nan</td><td>nan</td><td>nan</td><td>nan</td><td>nan</td><td>nan</td><td>nan</td><td>nan</td><td>1.38443063072352</td><td>nan</td><td>nan</td><td>nan</td><td>nan</td><td>nan</td><td>nan</td><td>nan</td><td>nan</td><td>nan</td><td>3.92742906404126</td><td>nan</td><td>nan</td><td>nan</td><td>nan</td><td>nan</td><td>nan</td><td>nan</td><td>nan</td><td>nan</td><td>nan</td><td>nan</td><td>nan</td><td>nan</td><td>nan</td><td>nan</td><td>nan</td><td>nan</td><td>nan</td><td>nan</td><td>nan</td><td>nan</td><td>nan</td><td>nan</td><td>nan</td><td>nan</td><td>nan</td><td>nan</td><td>nan</td><td>nan</td><td>nan</td><td>nan</td><td>nan</td><td>nan</td></tr>\n",
       "<tr><td>12043017</td><td>nan</td><td>nan</td><td>nan</td><td>nan</td><td>nan</td><td>nan</td><td>nan</td><td>nan</td><td>nan</td><td>0.462498951222175</td><td>nan</td><td>nan</td><td>nan</td><td>nan</td><td>nan</td><td>nan</td><td>nan</td><td>0.85118486016068</td><td>nan</td><td>nan</td><td>nan</td><td>nan</td><td>nan</td><td>nan</td><td>nan</td><td>nan</td><td>nan</td><td>nan</td><td>nan</td><td>nan</td><td>nan</td><td>nan</td><td>nan</td><td>nan</td><td>nan</td><td>nan</td><td>nan</td><td>nan</td><td>nan</td><td>nan</td><td>nan</td><td>1.08096952471151</td><td>nan</td><td>nan</td><td>nan</td><td>nan</td><td>nan</td><td>nan</td><td>nan</td><td>nan</td><td>nan</td><td>2.88149622026963</td><td>nan</td><td>nan</td><td>nan</td><td>nan</td><td>nan</td><td>nan</td><td>nan</td><td>nan</td><td>nan</td><td>nan</td><td>nan</td><td>nan</td><td>nan</td><td>nan</td><td>nan</td><td>nan</td><td>nan</td><td>nan</td><td>nan</td><td>nan</td><td>nan</td><td>nan</td><td>nan</td><td>nan</td><td>nan</td><td>nan</td><td>nan</td><td>nan</td><td>nan</td><td>nan</td><td>nan</td><td>nan</td><td>nan</td></tr>\n",
       "<tr><td>12043018</td><td>2.01032084617047</td><td>nan</td><td>nan</td><td>nan</td><td>nan</td><td>nan</td><td>nan</td><td>nan</td><td>nan</td><td>0.592936370182139</td><td>nan</td><td>nan</td><td>nan</td><td>nan</td><td>nan</td><td>nan</td><td>nan</td><td>1.04206028405916</td><td>nan</td><td>nan</td><td>nan</td><td>nan</td><td>nan</td><td>nan</td><td>nan</td><td>nan</td><td>nan</td><td>nan</td><td>nan</td><td>nan</td><td>nan</td><td>nan</td><td>nan</td><td>nan</td><td>nan</td><td>nan</td><td>nan</td><td>nan</td><td>nan</td><td>nan</td><td>nan</td><td>1.31215521774914</td><td>nan</td><td>nan</td><td>nan</td><td>nan</td><td>nan</td><td>nan</td><td>nan</td><td>nan</td><td>nan</td><td>4.08352324846221</td><td>nan</td><td>nan</td><td>nan</td><td>nan</td><td>nan</td><td>nan</td><td>nan</td><td>nan</td><td>nan</td><td>nan</td><td>nan</td><td>nan</td><td>nan</td><td>nan</td><td>nan</td><td>nan</td><td>nan</td><td>nan</td><td>nan</td><td>nan</td><td>nan</td><td>nan</td><td>nan</td><td>nan</td><td>nan</td><td>nan</td><td>nan</td><td>nan</td><td>nan</td><td>nan</td><td>nan</td><td>nan</td><td>nan</td></tr>\n",
       "</table>"
      ],
      "text/plain": [
       "<Table length=394298>\n",
       "hp_idx_o_10 ferr_ap_omegacam_u_mean ... ferr_ap_irac_i4_mean\n",
       "                      uJy           ...         uJy         \n",
       "   int64            float64         ...       float64       \n",
       "----------- ----------------------- ... --------------------\n",
       "    1048576               0.3888968 ...                  nan\n",
       "    1048577                  0.3287 ...                  nan\n",
       "    1048578               0.3846171 ...                  nan\n",
       "    1048579              0.37277982 ...                  nan\n",
       "    1048580               0.2911744 ...                  nan\n",
       "    1048581              0.33193266 ...                  nan\n",
       "    1048582              0.31823373 ...                  nan\n",
       "    1048583              0.25143299 ...                  nan\n",
       "    1048584              0.36621407 ...                  nan\n",
       "        ...                     ... ...                  ...\n",
       "   12042983                     nan ...                  nan\n",
       "   12042985                     nan ...                  nan\n",
       "   12043008        3.43117117596714 ...                  nan\n",
       "   12043009        1.81201014966394 ...                  nan\n",
       "   12043010        2.49268285441886 ...                  nan\n",
       "   12043011        2.09373553263053 ...                  nan\n",
       "   12043012                     nan ...                  nan\n",
       "   12043016        3.58693278533988 ...                  nan\n",
       "   12043017                     nan ...                  nan\n",
       "   12043018        2.01032084617047 ...                  nan"
      ]
     },
     "execution_count": 334,
     "metadata": {},
     "output_type": "execute_result"
    }
   ],
   "source": [
    "depth_table = table.table\n",
    "depth_table "
   ]
  },
  {
   "cell_type": "code",
   "execution_count": 351,
   "metadata": {},
   "outputs": [
    {
     "name": "stderr",
     "output_type": "stream",
     "text": [
      "/Users/rs548/anaconda/envs/herschelhelp_internal/lib/python3.6/site-packages/astropy/table/column.py:965: RuntimeWarning: invalid value encountered in less\n",
      "  return getattr(self.data, op)(other)\n"
     ]
    },
    {
     "name": "stdout",
     "output_type": "stream",
     "text": [
      "['omegacam_u', 'mmt_u', 'bessell_u', 'lbc_u', 'wfi_u', 'megacam_u', 'mosaic_u', 'wfc_u', 'sdss_u']\n",
      "['omegacam_u', 'mmt_u', 'bessell_u', 'wfi_u', 'megacam_u', 'mosaic_u', 'wfc_u', 'sdss_u']\n",
      "['mmt_g', 'omegacam_g', 'suprime_g', 'megacam_g', 'wfc_g', 'gpc1_g', 'decam_g', '90prime_g', 'sdss_g']\n",
      "['mmt_g', 'omegacam_g', 'suprime_g', 'megacam_g', 'wfc_g', 'gpc1_g', 'decam_g', '90prime_g', 'sdss_g']\n",
      "['omegacam_r', 'mmt_r', 'cfht12k_r', 'megacam_r', 'wfi_r', 'suprime_r', 'mosaic_r', 'bessell_r', 'wfc_r', 'gpc1_r', 'decam_r', 'sdss_r', '90prime_r']\n",
      "['omegacam_r', 'mmt_r', 'cfht12k_r', 'megacam_r', 'wfi_r', 'suprime_r', 'mosaic_r', 'bessell_r', 'wfc_r', 'gpc1_r', 'decam_r', 'sdss_r', '90prime_r']\n",
      "['sdss_i', 'decam_i', 'gpc1_i', 'wfc_i', 'bessell_i', 'mosaic_i', 'megacam_i', 'wfi_i', 'suprime_i', 'cfht12k_i', 'mmt_i', 'omegacam_i']\n",
      "['sdss_i', 'decam_i', 'gpc1_i', 'wfc_i', 'bessell_i', 'mosaic_i', 'megacam_i', 'wfi_i', 'suprime_i', 'cfht12k_i', 'mmt_i', 'omegacam_i']\n",
      "['decam_z', '90prime_z', 'sdss_z', 'wfc_z', 'gpc1_z', 'suprime_z', 'megacam_z', 'vista_z', 'mosaic_z', 'omegacam_z', 'mmt_z']\n",
      "['decam_z', '90prime_z', 'sdss_z', 'wfc_z', 'gpc1_z', 'suprime_z', 'megacam_z', 'vista_z', 'mosaic_z', 'omegacam_z', 'mmt_z']\n",
      "['decam_y', 'ukidss_y', 'gpc1_y', 'suprime_y', 'megacam_y', 'vista_y', 'lbc_y', 'wircam_y']\n",
      "['decam_y', 'ukidss_y', 'gpc1_y', 'suprime_y', 'megacam_y', 'vista_y', 'wircam_y']\n"
     ]
    },
    {
     "name": "stderr",
     "output_type": "stream",
     "text": [
      "/Users/rs548/anaconda/envs/herschelhelp_internal/lib/python3.6/site-packages/ipykernel/__main__.py:20: RuntimeWarning: All-NaN axis encountered\n"
     ]
    },
    {
     "name": "stdout",
     "output_type": "stream",
     "text": [
      "['omega2000_j', 'ukidss_j', 'vista_j', 'newfirm_j', 'wircs_j', 'wircam_j']\n",
      "['omega2000_j', 'ukidss_j', 'vista_j', 'newfirm_j', 'wircs_j', 'wircam_j']\n",
      "['ukidss_h', 'vista_h', 'newfirm_h', 'wircam_h']\n",
      "['ukidss_h', 'vista_h', 'newfirm_h', 'wircam_h']\n",
      "['isaac_k', 'moircs_k', 'ukidss_k', 'newfirm_k', 'wircs_k', 'hawki_k']\n",
      "['isaac_k', 'moircs_k', 'ukidss_k', 'newfirm_k', 'wircs_k', 'hawki_k']\n",
      "['wircam_ks', 'vista_ks', 'moircs_ks', 'omega2000_ks', 'tifkam_ks']\n",
      "['wircam_ks', 'vista_ks', 'moircs_ks', 'omega2000_ks', 'tifkam_ks']\n",
      "['irac_i1']\n",
      "['irac_i1']\n",
      "['irac_i2']\n",
      "['irac_i2']\n",
      "['irac_i3']\n",
      "['irac_i3']\n",
      "['irac_i4']\n",
      "['irac_i4']\n"
     ]
    }
   ],
   "source": [
    "\n",
    "for col in depth_table.colnames:\n",
    "    if depth_table[col].dtype == 'float64':\n",
    "        depth_table[col].fill_value = np.nan\n",
    "    if col.startswith('ferr'):\n",
    "        depth_table[col][depth_table[col] < 1.e-7] *= 1.e6 \n",
    "    \n",
    "depth_table = depth_table.filled()\n",
    "coverage = Table()\n",
    "coverage.add_column(Column(data=depth_table['hp_idx_o_10'], name='hp_idx_o_10'))\n",
    "for band in bands:\n",
    "    specific_bands = [f for f in filters if f.split('_')[1] == band.lower()]\n",
    "    print(specific_bands)\n",
    "    for specific_band in specific_bands:\n",
    "        if 'ferr_ap_{}_mean'.format(specific_band) not in depth_table.colnames:\n",
    "            specific_bands.remove(specific_band)\n",
    "    print(specific_bands)\n",
    "    lowest_depths = np.nanmin([depth_table[column] for column in \n",
    "                               ['ferr_ap_{}_mean'.format(s) for s in specific_bands]]\n",
    "                              , axis=0)\n",
    "    \n",
    "    coverage.add_column(Column(data=lowest_depths, name='ferr_ap_{}_mean_min'.format(band)))"
   ]
  },
  {
   "cell_type": "code",
   "execution_count": 352,
   "metadata": {},
   "outputs": [
    {
     "data": {
      "text/html": [
       "<i>Table length=394298</i>\n",
       "<table id=\"table39443367528\" class=\"table-striped table-bordered table-condensed\">\n",
       "<thead><tr><th>hp_idx_o_10</th><th>ferr_ap_u_mean_min</th><th>ferr_ap_g_mean_min</th><th>ferr_ap_r_mean_min</th><th>ferr_ap_i_mean_min</th><th>ferr_ap_z_mean_min</th><th>ferr_ap_y_mean_min</th><th>ferr_ap_J_mean_min</th><th>ferr_ap_H_mean_min</th><th>ferr_ap_K_mean_min</th><th>ferr_ap_Ks_mean_min</th><th>ferr_ap_i1_mean_min</th><th>ferr_ap_i2_mean_min</th><th>ferr_ap_i3_mean_min</th><th>ferr_ap_i4_mean_min</th></tr></thead>\n",
       "<thead><tr><th>int64</th><th>float64</th><th>float64</th><th>float64</th><th>float64</th><th>float64</th><th>float64</th><th>float64</th><th>float64</th><th>float64</th><th>float64</th><th>float64</th><th>float64</th><th>float64</th><th>float64</th></tr></thead>\n",
       "<tr><td>1048576</td><td>0.3888968</td><td>0.01926224</td><td>0.030870374</td><td>0.041768204</td><td>0.06151843</td><td>0.14352015</td><td>1.92945241928101</td><td>1.7355504155159</td><td>6.3801355</td><td>2.36790292603629</td><td>nan</td><td>nan</td><td>nan</td><td>nan</td></tr>\n",
       "<tr><td>1048577</td><td>0.3287</td><td>0.020717567</td><td>0.03293594</td><td>0.044771805</td><td>0.06634453</td><td>0.1526159</td><td>1.91976457834244</td><td>1.66691474914551</td><td>6.573922</td><td>2.3642338684627</td><td>nan</td><td>nan</td><td>nan</td><td>nan</td></tr>\n",
       "<tr><td>1048578</td><td>0.3846171</td><td>0.021378249</td><td>0.035876982</td><td>0.047181558</td><td>0.06980607</td><td>0.15956911</td><td>2.23670622490454</td><td>2.36486881526548</td><td>6.919189</td><td>3.06828086159446</td><td>nan</td><td>nan</td><td>nan</td><td>nan</td></tr>\n",
       "<tr><td>1048579</td><td>0.37277982</td><td>0.021092668</td><td>0.03373764</td><td>0.04277464</td><td>0.063606665</td><td>0.14877433</td><td>2.08620972292764</td><td>1.8796404004097</td><td>6.4581065</td><td>2.60780441455352</td><td>nan</td><td>nan</td><td>nan</td><td>nan</td></tr>\n",
       "<tr><td>1048580</td><td>0.2911744</td><td>0.020199573</td><td>0.03168788</td><td>0.042326976</td><td>0.06250173</td><td>0.14537382</td><td>1.78109755970183</td><td>1.78018177407128</td><td>5.6970916</td><td>2.52248514782299</td><td>nan</td><td>nan</td><td>nan</td><td>nan</td></tr>\n",
       "<tr><td>1048581</td><td>0.33193266</td><td>0.022394473</td><td>0.03486983</td><td>0.04694038</td><td>0.069550596</td><td>0.16066769</td><td>1.90774633487066</td><td>2.03642669806244</td><td>6.03468</td><td>2.77342678705851</td><td>nan</td><td>nan</td><td>nan</td><td>nan</td></tr>\n",
       "<tr><td>1048582</td><td>0.31823373</td><td>0.020951325</td><td>0.033160187</td><td>0.04638167</td><td>0.06910887</td><td>0.16291834</td><td>1.95878115219948</td><td>1.83907379195804</td><td>6.4513354</td><td>2.62036830054389</td><td>nan</td><td>nan</td><td>nan</td><td>nan</td></tr>\n",
       "<tr><td>1048583</td><td>0.25143299</td><td>0.020383537</td><td>0.031862717</td><td>0.04413113</td><td>0.06531107</td><td>0.1515935</td><td>1.84046977950681</td><td>1.75781759311413</td><td>5.647315</td><td>2.52217631393604</td><td>nan</td><td>nan</td><td>nan</td><td>nan</td></tr>\n",
       "<tr><td>1048584</td><td>0.36621407</td><td>0.022677435</td><td>0.03732341</td><td>0.045192935</td><td>0.06752495</td><td>0.15900145</td><td>1.98236000979388</td><td>1.81433707039531</td><td>6.44909</td><td>2.55789082050323</td><td>nan</td><td>nan</td><td>nan</td><td>nan</td></tr>\n",
       "<tr><td>1048585</td><td>0.3486292</td><td>0.021453133</td><td>0.035325576</td><td>0.047727607</td><td>0.07056533</td><td>0.1620837</td><td>1.87658194197884</td><td>1.76719227291289</td><td>6.3426943</td><td>2.52972699237126</td><td>nan</td><td>nan</td><td>nan</td><td>nan</td></tr>\n",
       "<tr><td>...</td><td>...</td><td>...</td><td>...</td><td>...</td><td>...</td><td>...</td><td>...</td><td>...</td><td>...</td><td>...</td><td>...</td><td>...</td><td>...</td><td>...</td></tr>\n",
       "<tr><td>12042983</td><td>nan</td><td>0.470593447975413</td><td>0.705364210222036</td><td>0.980352786966052</td><td>nan</td><td>nan</td><td>nan</td><td>nan</td><td>nan</td><td>nan</td><td>nan</td><td>nan</td><td>nan</td><td>nan</td></tr>\n",
       "<tr><td>12042985</td><td>nan</td><td>0.401245270265415</td><td>0.631963384503022</td><td>0.886734809470708</td><td>nan</td><td>nan</td><td>nan</td><td>nan</td><td>nan</td><td>nan</td><td>nan</td><td>nan</td><td>nan</td><td>nan</td></tr>\n",
       "<tr><td>12043008</td><td>3.43117117596714</td><td>1.12891318891637</td><td>1.56644287506227</td><td>1.66926372262749</td><td>4.31668842759001</td><td>nan</td><td>nan</td><td>nan</td><td>nan</td><td>nan</td><td>nan</td><td>nan</td><td>nan</td><td>nan</td></tr>\n",
       "<tr><td>12043009</td><td>1.81201014966394</td><td>0.508966908339133</td><td>0.890091881795282</td><td>1.1312017674427</td><td>3.09896943585728</td><td>nan</td><td>nan</td><td>nan</td><td>nan</td><td>nan</td><td>nan</td><td>nan</td><td>nan</td><td>nan</td></tr>\n",
       "<tr><td>12043010</td><td>2.49268285441886</td><td>0.494158403628982</td><td>0.909613505597342</td><td>1.136793192659</td><td>3.12670346706475</td><td>nan</td><td>nan</td><td>nan</td><td>nan</td><td>nan</td><td>nan</td><td>nan</td><td>nan</td><td>nan</td></tr>\n",
       "<tr><td>12043011</td><td>2.09373553263053</td><td>0.577247280662618</td><td>0.991298854740798</td><td>1.22674660501041</td><td>3.39733806461695</td><td>nan</td><td>nan</td><td>nan</td><td>nan</td><td>nan</td><td>nan</td><td>nan</td><td>nan</td><td>nan</td></tr>\n",
       "<tr><td>12043012</td><td>nan</td><td>0.445860992796356</td><td>nan</td><td>1.02642671074533</td><td>nan</td><td>nan</td><td>nan</td><td>nan</td><td>nan</td><td>nan</td><td>nan</td><td>nan</td><td>nan</td><td>nan</td></tr>\n",
       "<tr><td>12043016</td><td>3.58693278533988</td><td>0.684728410968042</td><td>1.19586028947091</td><td>1.38443063072352</td><td>3.92742906404126</td><td>nan</td><td>nan</td><td>nan</td><td>nan</td><td>nan</td><td>nan</td><td>nan</td><td>nan</td><td>nan</td></tr>\n",
       "<tr><td>12043017</td><td>nan</td><td>0.462498951222175</td><td>0.85118486016068</td><td>1.08096952471151</td><td>2.88149622026963</td><td>nan</td><td>nan</td><td>nan</td><td>nan</td><td>nan</td><td>nan</td><td>nan</td><td>nan</td><td>nan</td></tr>\n",
       "<tr><td>12043018</td><td>2.01032084617047</td><td>0.592936370182139</td><td>1.04206028405916</td><td>1.31215521774914</td><td>4.08352324846221</td><td>nan</td><td>nan</td><td>nan</td><td>nan</td><td>nan</td><td>nan</td><td>nan</td><td>nan</td><td>nan</td></tr>\n",
       "</table>"
      ],
      "text/plain": [
       "<Table length=394298>\n",
       "hp_idx_o_10 ferr_ap_u_mean_min ... ferr_ap_i3_mean_min ferr_ap_i4_mean_min\n",
       "   int64         float64       ...       float64             float64      \n",
       "----------- ------------------ ... ------------------- -------------------\n",
       "    1048576          0.3888968 ...                 nan                 nan\n",
       "    1048577             0.3287 ...                 nan                 nan\n",
       "    1048578          0.3846171 ...                 nan                 nan\n",
       "    1048579         0.37277982 ...                 nan                 nan\n",
       "    1048580          0.2911744 ...                 nan                 nan\n",
       "    1048581         0.33193266 ...                 nan                 nan\n",
       "    1048582         0.31823373 ...                 nan                 nan\n",
       "    1048583         0.25143299 ...                 nan                 nan\n",
       "    1048584         0.36621407 ...                 nan                 nan\n",
       "    1048585          0.3486292 ...                 nan                 nan\n",
       "        ...                ... ...                 ...                 ...\n",
       "   12042983                nan ...                 nan                 nan\n",
       "   12042985                nan ...                 nan                 nan\n",
       "   12043008   3.43117117596714 ...                 nan                 nan\n",
       "   12043009   1.81201014966394 ...                 nan                 nan\n",
       "   12043010   2.49268285441886 ...                 nan                 nan\n",
       "   12043011   2.09373553263053 ...                 nan                 nan\n",
       "   12043012                nan ...                 nan                 nan\n",
       "   12043016   3.58693278533988 ...                 nan                 nan\n",
       "   12043017                nan ...                 nan                 nan\n",
       "   12043018   2.01032084617047 ...                 nan                 nan"
      ]
     },
     "execution_count": 352,
     "metadata": {},
     "output_type": "execute_result"
    }
   ],
   "source": [
    "coverage"
   ]
  },
  {
   "cell_type": "code",
   "execution_count": 353,
   "metadata": {},
   "outputs": [],
   "source": [
    "#for m, band in enumerate(bands):\n",
    "#    field_coverages.add_column(Column(data=np.full(len(field_coverages), np.nan), name='ferr_ap_{}_mean_median'.format(band)))\n",
    "\n",
    "fields_table = Table()\n",
    "for n, field in enumerate(fields['fields']):\n",
    "    field_moc = MOC(filename=field['region'].replace('dmu_products/', '../'))\n",
    "    field_cells= Table()\n",
    "    field_cells.add_column(Column(data=list(field_moc.flattened(order=10)), name='hp_idx_o_10'))\n",
    "    field_cells.add_column(Column(data=np.full(len(field_cells), field['name'] ), name='field'))\n",
    "    fields_table = vstack([fields_table, field_cells])\n",
    "                           \n"
   ]
  },
  {
   "cell_type": "code",
   "execution_count": 354,
   "metadata": {},
   "outputs": [],
   "source": [
    "coverage = join(coverage, fields_table, join_type='left', keys='hp_idx_o_10')"
   ]
  },
  {
   "cell_type": "code",
   "execution_count": 355,
   "metadata": {},
   "outputs": [],
   "source": [
    "coverage.write('./data/coverage_band_overview.fits', overwrite=True)"
   ]
  },
  {
   "cell_type": "code",
   "execution_count": 10,
   "metadata": {},
   "outputs": [],
   "source": [
    "coverage = Table.read('./data/coverage_band_overview.fits')"
   ]
  },
  {
   "cell_type": "code",
   "execution_count": 356,
   "metadata": {},
   "outputs": [
    {
     "data": {
      "text/html": [
       "<i>Table masked=True length=394342</i>\n",
       "<table id=\"table39444870312\" class=\"table-striped table-bordered table-condensed\">\n",
       "<thead><tr><th>hp_idx_o_10</th><th>ferr_ap_u_mean_min</th><th>ferr_ap_g_mean_min</th><th>ferr_ap_r_mean_min</th><th>ferr_ap_i_mean_min</th><th>ferr_ap_z_mean_min</th><th>ferr_ap_y_mean_min</th><th>ferr_ap_J_mean_min</th><th>ferr_ap_H_mean_min</th><th>ferr_ap_K_mean_min</th><th>ferr_ap_Ks_mean_min</th><th>ferr_ap_i1_mean_min</th><th>ferr_ap_i2_mean_min</th><th>ferr_ap_i3_mean_min</th><th>ferr_ap_i4_mean_min</th><th>field</th></tr></thead>\n",
       "<thead><tr><th>int64</th><th>float64</th><th>float64</th><th>float64</th><th>float64</th><th>float64</th><th>float64</th><th>float64</th><th>float64</th><th>float64</th><th>float64</th><th>float64</th><th>float64</th><th>float64</th><th>float64</th><th>str18</th></tr></thead>\n",
       "<tr><td>1048576</td><td>0.3888968</td><td>0.01926224</td><td>0.030870374</td><td>0.041768204</td><td>0.06151843</td><td>0.14352015</td><td>1.92945241928101</td><td>1.7355504155159</td><td>6.3801355</td><td>2.36790292603629</td><td>nan</td><td>nan</td><td>nan</td><td>nan</td><td>GAMA-09</td></tr>\n",
       "<tr><td>1048577</td><td>0.3287</td><td>0.020717567</td><td>0.03293594</td><td>0.044771805</td><td>0.06634453</td><td>0.1526159</td><td>1.91976457834244</td><td>1.66691474914551</td><td>6.573922</td><td>2.3642338684627</td><td>nan</td><td>nan</td><td>nan</td><td>nan</td><td>GAMA-09</td></tr>\n",
       "<tr><td>1048578</td><td>0.3846171</td><td>0.021378249</td><td>0.035876982</td><td>0.047181558</td><td>0.06980607</td><td>0.15956911</td><td>2.23670622490454</td><td>2.36486881526548</td><td>6.919189</td><td>3.06828086159446</td><td>nan</td><td>nan</td><td>nan</td><td>nan</td><td>GAMA-09</td></tr>\n",
       "<tr><td>1048579</td><td>0.37277982</td><td>0.021092668</td><td>0.03373764</td><td>0.04277464</td><td>0.063606665</td><td>0.14877433</td><td>2.08620972292764</td><td>1.8796404004097</td><td>6.4581065</td><td>2.60780441455352</td><td>nan</td><td>nan</td><td>nan</td><td>nan</td><td>GAMA-09</td></tr>\n",
       "<tr><td>1048580</td><td>0.2911744</td><td>0.020199573</td><td>0.03168788</td><td>0.042326976</td><td>0.06250173</td><td>0.14537382</td><td>1.78109755970183</td><td>1.78018177407128</td><td>5.6970916</td><td>2.52248514782299</td><td>nan</td><td>nan</td><td>nan</td><td>nan</td><td>GAMA-09</td></tr>\n",
       "<tr><td>1048581</td><td>0.33193266</td><td>0.022394473</td><td>0.03486983</td><td>0.04694038</td><td>0.069550596</td><td>0.16066769</td><td>1.90774633487066</td><td>2.03642669806244</td><td>6.03468</td><td>2.77342678705851</td><td>nan</td><td>nan</td><td>nan</td><td>nan</td><td>GAMA-09</td></tr>\n",
       "<tr><td>1048582</td><td>0.31823373</td><td>0.020951325</td><td>0.033160187</td><td>0.04638167</td><td>0.06910887</td><td>0.16291834</td><td>1.95878115219948</td><td>1.83907379195804</td><td>6.4513354</td><td>2.62036830054389</td><td>nan</td><td>nan</td><td>nan</td><td>nan</td><td>GAMA-09</td></tr>\n",
       "<tr><td>1048583</td><td>0.25143299</td><td>0.020383537</td><td>0.031862717</td><td>0.04413113</td><td>0.06531107</td><td>0.1515935</td><td>1.84046977950681</td><td>1.75781759311413</td><td>5.647315</td><td>2.52217631393604</td><td>nan</td><td>nan</td><td>nan</td><td>nan</td><td>GAMA-09</td></tr>\n",
       "<tr><td>1048584</td><td>0.36621407</td><td>0.022677435</td><td>0.03732341</td><td>0.045192935</td><td>0.06752495</td><td>0.15900145</td><td>1.98236000979388</td><td>1.81433707039531</td><td>6.44909</td><td>2.55789082050323</td><td>nan</td><td>nan</td><td>nan</td><td>nan</td><td>GAMA-09</td></tr>\n",
       "<tr><td>1048585</td><td>0.3486292</td><td>0.021453133</td><td>0.035325576</td><td>0.047727607</td><td>0.07056533</td><td>0.1620837</td><td>1.87658194197884</td><td>1.76719227291289</td><td>6.3426943</td><td>2.52972699237126</td><td>nan</td><td>nan</td><td>nan</td><td>nan</td><td>GAMA-09</td></tr>\n",
       "<tr><td>...</td><td>...</td><td>...</td><td>...</td><td>...</td><td>...</td><td>...</td><td>...</td><td>...</td><td>...</td><td>...</td><td>...</td><td>...</td><td>...</td><td>...</td><td>...</td></tr>\n",
       "<tr><td>12042983</td><td>nan</td><td>0.470593447975413</td><td>0.705364210222036</td><td>0.980352786966052</td><td>nan</td><td>nan</td><td>nan</td><td>nan</td><td>nan</td><td>nan</td><td>nan</td><td>nan</td><td>nan</td><td>nan</td><td>SGP</td></tr>\n",
       "<tr><td>12042985</td><td>nan</td><td>0.401245270265415</td><td>0.631963384503022</td><td>0.886734809470708</td><td>nan</td><td>nan</td><td>nan</td><td>nan</td><td>nan</td><td>nan</td><td>nan</td><td>nan</td><td>nan</td><td>nan</td><td>SGP</td></tr>\n",
       "<tr><td>12043008</td><td>3.43117117596714</td><td>1.12891318891637</td><td>1.56644287506227</td><td>1.66926372262749</td><td>4.31668842759001</td><td>nan</td><td>nan</td><td>nan</td><td>nan</td><td>nan</td><td>nan</td><td>nan</td><td>nan</td><td>nan</td><td>SGP</td></tr>\n",
       "<tr><td>12043009</td><td>1.81201014966394</td><td>0.508966908339133</td><td>0.890091881795282</td><td>1.1312017674427</td><td>3.09896943585728</td><td>nan</td><td>nan</td><td>nan</td><td>nan</td><td>nan</td><td>nan</td><td>nan</td><td>nan</td><td>nan</td><td>SGP</td></tr>\n",
       "<tr><td>12043010</td><td>2.49268285441886</td><td>0.494158403628982</td><td>0.909613505597342</td><td>1.136793192659</td><td>3.12670346706475</td><td>nan</td><td>nan</td><td>nan</td><td>nan</td><td>nan</td><td>nan</td><td>nan</td><td>nan</td><td>nan</td><td>SGP</td></tr>\n",
       "<tr><td>12043011</td><td>2.09373553263053</td><td>0.577247280662618</td><td>0.991298854740798</td><td>1.22674660501041</td><td>3.39733806461695</td><td>nan</td><td>nan</td><td>nan</td><td>nan</td><td>nan</td><td>nan</td><td>nan</td><td>nan</td><td>nan</td><td>SGP</td></tr>\n",
       "<tr><td>12043012</td><td>nan</td><td>0.445860992796356</td><td>nan</td><td>1.02642671074533</td><td>nan</td><td>nan</td><td>nan</td><td>nan</td><td>nan</td><td>nan</td><td>nan</td><td>nan</td><td>nan</td><td>nan</td><td>SGP</td></tr>\n",
       "<tr><td>12043016</td><td>3.58693278533988</td><td>0.684728410968042</td><td>1.19586028947091</td><td>1.38443063072352</td><td>3.92742906404126</td><td>nan</td><td>nan</td><td>nan</td><td>nan</td><td>nan</td><td>nan</td><td>nan</td><td>nan</td><td>nan</td><td>SGP</td></tr>\n",
       "<tr><td>12043017</td><td>nan</td><td>0.462498951222175</td><td>0.85118486016068</td><td>1.08096952471151</td><td>2.88149622026963</td><td>nan</td><td>nan</td><td>nan</td><td>nan</td><td>nan</td><td>nan</td><td>nan</td><td>nan</td><td>nan</td><td>SGP</td></tr>\n",
       "<tr><td>12043018</td><td>2.01032084617047</td><td>0.592936370182139</td><td>1.04206028405916</td><td>1.31215521774914</td><td>4.08352324846221</td><td>nan</td><td>nan</td><td>nan</td><td>nan</td><td>nan</td><td>nan</td><td>nan</td><td>nan</td><td>nan</td><td>SGP</td></tr>\n",
       "</table>"
      ],
      "text/plain": [
       "<Table masked=True length=394342>\n",
       "hp_idx_o_10 ferr_ap_u_mean_min ... ferr_ap_i4_mean_min  field \n",
       "   int64         float64       ...       float64        str18 \n",
       "----------- ------------------ ... ------------------- -------\n",
       "    1048576          0.3888968 ...                 nan GAMA-09\n",
       "    1048577             0.3287 ...                 nan GAMA-09\n",
       "    1048578          0.3846171 ...                 nan GAMA-09\n",
       "    1048579         0.37277982 ...                 nan GAMA-09\n",
       "    1048580          0.2911744 ...                 nan GAMA-09\n",
       "    1048581         0.33193266 ...                 nan GAMA-09\n",
       "    1048582         0.31823373 ...                 nan GAMA-09\n",
       "    1048583         0.25143299 ...                 nan GAMA-09\n",
       "    1048584         0.36621407 ...                 nan GAMA-09\n",
       "    1048585          0.3486292 ...                 nan GAMA-09\n",
       "        ...                ... ...                 ...     ...\n",
       "   12042983                nan ...                 nan     SGP\n",
       "   12042985                nan ...                 nan     SGP\n",
       "   12043008   3.43117117596714 ...                 nan     SGP\n",
       "   12043009   1.81201014966394 ...                 nan     SGP\n",
       "   12043010   2.49268285441886 ...                 nan     SGP\n",
       "   12043011   2.09373553263053 ...                 nan     SGP\n",
       "   12043012                nan ...                 nan     SGP\n",
       "   12043016   3.58693278533988 ...                 nan     SGP\n",
       "   12043017                nan ...                 nan     SGP\n",
       "   12043018   2.01032084617047 ...                 nan     SGP"
      ]
     },
     "execution_count": 356,
     "metadata": {},
     "output_type": "execute_result"
    }
   ],
   "source": [
    "coverage"
   ]
  },
  {
   "cell_type": "markdown",
   "metadata": {},
   "source": [
    "## Make field summaries"
   ]
  },
  {
   "cell_type": "code",
   "execution_count": 357,
   "metadata": {},
   "outputs": [
    {
     "data": {
      "text/plain": [
       "0.0032784908016061202"
      ]
     },
     "execution_count": 357,
     "metadata": {},
     "output_type": "execute_result"
    }
   ],
   "source": [
    "order10_area = MOC(order=10, cells=[1]).area_sq_deg\n",
    "order10_area"
   ]
  },
  {
   "cell_type": "code",
   "execution_count": 388,
   "metadata": {},
   "outputs": [
    {
     "name": "stderr",
     "output_type": "stream",
     "text": [
      "/Users/rs548/anaconda/envs/herschelhelp_internal/lib/python3.6/site-packages/numpy/core/fromnumeric.py:688: UserWarning: Warning: 'partition' will ignore the 'mask' of the MaskedColumn.\n",
      "  a.partition(kth, axis=axis, kind=kind, order=order)\n"
     ]
    },
    {
     "name": "stdout",
     "output_type": "stream",
     "text": [
      "Field: AKARI-NEP, i1 band coverage: 7.173337873914191, median depth = 1.6617190000000002, max depth = 9.11136\n",
      "Field: AKARI-SEP, i1 band coverage: 7.294642033573617, median depth = 1.0387509, max depth = 62.539757\n",
      "Field: Bootes, i1 band coverage: 10.117422613756487, median depth = 0.7535689270149595, max depth = 23.952327804264\n",
      "Field: CDFS-SWIRE, i1 band coverage: 8.22245493042815, median depth = 0.5481367645686981, max depth = 7.6217866678337\n",
      "Field: COSMOS, i1 band coverage: 0.0, median depth = nan, max depth = nan\n",
      "Field: EGS, i1 band coverage: 0.0, median depth = nan, max depth = nan\n",
      "Field: ELAIS-N1, i1 band coverage: 9.710889754357328, median depth = 0.78441163003663, max depth = 6.62454545454545\n",
      "Field: ELAIS-N2, i1 band coverage: 4.484975416597172, median depth = 0.8212270942408375, max depth = 5.89333333333333\n",
      "Field: ELAIS-S1, i1 band coverage: 7.206122781930253, median depth = 0.706632612529864, max depth = 10.5114285714286\n",
      "Field: GAMA-09, i1 band coverage: 0.0, median depth = nan, max depth = nan\n",
      "Field: GAMA-12, i1 band coverage: 0.0, median depth = nan, max depth = nan\n",
      "Field: GAMA-15, i1 band coverage: 0.0, median depth = nan, max depth = nan\n",
      "Field: HDF-N, i1 band coverage: 0.0, median depth = nan, max depth = nan\n",
      "Field: Herschel-Stripe-82, i1 band coverage: 98.92518144766308, median depth = 1.9088288565758451, max depth = 80.1761464394222\n",
      "Field: Lockman-SWIRE, i1 band coverage: 11.612414419288879, median depth = 0.6888698618707021, max depth = 4.76666666666667\n",
      "Field: NGP, i1 band coverage: 0.0, median depth = nan, max depth = nan\n",
      "Field: SA13, i1 band coverage: 0.0, median depth = nan, max depth = nan\n",
      "Field: SGP, i1 band coverage: 0.0, median depth = nan, max depth = nan\n",
      "Field: SPIRE-NEP, i1 band coverage: 0.0, median depth = nan, max depth = nan\n",
      "Field: SSDF, i1 band coverage: 94.2795599817872, median depth = 79.68621, max depth = 17731.0\n",
      "Field: xFLS, i1 band coverage: 4.091556520404438, median depth = 5.391215873751545, max depth = 1211.70427483696\n",
      "Field: XMM-13hr, i1 band coverage: 0.0, median depth = nan, max depth = nan\n",
      "Field: XMM-LSS, i1 band coverage: 10.02234638050991, median depth = 0.669229317030779, max depth = 15.175\n"
     ]
    }
   ],
   "source": [
    "#Make a list of all bands\n",
    "#this was too slow so tried to run whole query at once\n",
    "field_coverages = Table()\n",
    "field_coverages.add_column(Column(data=[field['name'] for field in fields['fields']], name='field' ))\n",
    "\n",
    "for m, band in enumerate(bands):\n",
    "    field_coverages.add_column(Column(data=np.full(len(field_coverages), np.nan), \n",
    "                                      name='{}_band_area'.format(band)))\n",
    "    field_coverages.add_column(Column(data=np.full(len(field_coverages), np.nan), \n",
    "                                      name='ferr_ap_{}_mean_meadian'.format(band)))\n",
    "\n",
    "\n",
    "for n, field in enumerate(fields['fields']):\n",
    "    in_field = coverage['field'] == field['name']\n",
    "    for m, band in enumerate(bands):\n",
    "        has_band = in_field & ~np.isnan(coverage['ferr_ap_{}_mean_min'.format(band)])\n",
    "        area = np.sum(has_band) * order10_area\n",
    "        \n",
    "        field_coverages['{}_band_area'.format(band)][field_coverages['field'] == field['name']] = area\n",
    "        \n",
    "        if np.sum(has_band) != 0:\n",
    "            depth_median = np.nanmedian(coverage['ferr_ap_{}_mean_min'.format(band)][has_band])\n",
    "            depth_max = np.nanmax(coverage['ferr_ap_{}_mean_min'.format(band)][has_band])\n",
    "        else:\n",
    "            depth_median = np.nan\n",
    "            depth_max = np.nan\n",
    "        \n",
    "        field_coverages['ferr_ap_{}_mean_meadian'.format(band)][field_coverages['field'] == field['name']] = depth_median\n",
    "        \n",
    "        if band == 'i1':\n",
    "            print(\"Field: {}, {} band coverage: {}, median depth = {}, max depth = {}\".format(field['name'],\n",
    "                                                       band,\n",
    "                                                       area,\n",
    "                                                       depth_median,\n",
    "                                                       depth_max))\n",
    "        \n",
    "        \n",
    "            "
   ]
  },
  {
   "cell_type": "code",
   "execution_count": 359,
   "metadata": {},
   "outputs": [
    {
     "data": {
      "text/html": [
       "<i>Table length=23</i>\n",
       "<table id=\"table39446627160\" class=\"table-striped table-bordered table-condensed\">\n",
       "<thead><tr><th>field</th><th>u_band_area</th><th>ferr_ap_u_mean_meadian</th><th>g_band_area</th><th>ferr_ap_g_mean_meadian</th><th>r_band_area</th><th>ferr_ap_r_mean_meadian</th><th>i_band_area</th><th>ferr_ap_i_mean_meadian</th><th>z_band_area</th><th>ferr_ap_z_mean_meadian</th><th>y_band_area</th><th>ferr_ap_y_mean_meadian</th><th>J_band_area</th><th>ferr_ap_J_mean_meadian</th><th>H_band_area</th><th>ferr_ap_H_mean_meadian</th><th>K_band_area</th><th>ferr_ap_K_mean_meadian</th><th>Ks_band_area</th><th>ferr_ap_Ks_mean_meadian</th><th>i1_band_area</th><th>ferr_ap_i1_mean_meadian</th><th>i2_band_area</th><th>ferr_ap_i2_mean_meadian</th><th>i3_band_area</th><th>ferr_ap_i3_mean_meadian</th><th>i4_band_area</th><th>ferr_ap_i4_mean_meadian</th></tr></thead>\n",
       "<thead><tr><th>str18</th><th>float64</th><th>float64</th><th>float64</th><th>float64</th><th>float64</th><th>float64</th><th>float64</th><th>float64</th><th>float64</th><th>float64</th><th>float64</th><th>float64</th><th>float64</th><th>float64</th><th>float64</th><th>float64</th><th>float64</th><th>float64</th><th>float64</th><th>float64</th><th>float64</th><th>float64</th><th>float64</th><th>float64</th><th>float64</th><th>float64</th><th>float64</th><th>float64</th></tr></thead>\n",
       "<tr><td>AKARI-NEP</td><td>0.0</td><td>nan</td><td>9.59942106710272</td><td>1.536827162750925</td><td>9.602699557904327</td><td>1.61083239572973</td><td>9.602699557904327</td><td>1.49735885594663</td><td>9.602699557904327</td><td>3.21315620879421</td><td>9.602699557904327</td><td>7.15520400483974</td><td>0.0</td><td>nan</td><td>0.0</td><td>nan</td><td>0.0</td><td>nan</td><td>0.0</td><td>nan</td><td>7.173337873914191</td><td>1.6617190000000002</td><td>7.19956580032704</td><td>1.3667493</td><td>0.0</td><td>nan</td><td>0.0</td><td>nan</td></tr>\n",
       "<tr><td>AKARI-SEP</td><td>0.0</td><td>nan</td><td>9.251901042132472</td><td>0.104915095925005</td><td>9.255179532934077</td><td>0.125698409010999</td><td>9.251901042132472</td><td>0.20756766661390752</td><td>9.248622551330865</td><td>0.391442809248999</td><td>9.21911613411641</td><td>1.377751747991525</td><td>9.14371084567947</td><td>3.6549892</td><td>8.57653193700161</td><td>5.8562853</td><td>0.0</td><td>nan</td><td>7.891327359465931</td><td>6.456957</td><td>7.294642033573617</td><td>1.0387509</td><td>7.170059383112585</td><td>0.95154566</td><td>0.0</td><td>nan</td><td>0.0</td><td>nan</td></tr>\n",
       "<tr><td>Bootes</td><td>0.0</td><td>nan</td><td>11.871415192615762</td><td>0.13059406</td><td>11.904200100631822</td><td>0.0983771149450248</td><td>11.904200100631822</td><td>0.188483000017298</td><td>11.89764311902861</td><td>0.194683520434957</td><td>11.858301229409337</td><td>4.34152971665177</td><td>11.828794812194882</td><td>1.352333866503605</td><td>9.714168245158934</td><td>1.53883572050549</td><td>9.678104846341267</td><td>2.99438841899167</td><td>5.2947626445938845</td><td>12.1435666098401</td><td>10.117422613756487</td><td>0.7535689270149595</td><td>10.107587141351669</td><td>1.0259800454185</td><td>9.983004490890636</td><td>5.41250849744194</td><td>9.973169018485818</td><td>7.358867777855445</td></tr>\n",
       "<tr><td>CDFS-SWIRE</td><td>13.218874912075878</td><td>2.171292834300915</td><td>13.471318703799549</td><td>0.0977666424488224</td><td>13.471318703799549</td><td>0.115082730555597</td><td>13.468040212997941</td><td>0.11245510773311851</td><td>13.464761722196336</td><td>0.190439038420737</td><td>13.451647758989912</td><td>0.178570739320055</td><td>10.57968981678295</td><td>2.26735938919915</td><td>10.196106392995034</td><td>0.8936069325053565</td><td>0.0</td><td>nan</td><td>10.160042994177367</td><td>0.947683537250045</td><td>8.22245493042815</td><td>0.5481367645686981</td><td>8.160163605197633</td><td>0.615964773574546</td><td>8.071644353554268</td><td>4.653515789473685</td><td>8.022466991530177</td><td>4.809375</td></tr>\n",
       "<tr><td>COSMOS</td><td>2.1965888370761006</td><td>0.02069985913500185</td><td>5.393117368642068</td><td>0.0239928555701159</td><td>5.393117368642068</td><td>0.0263500579895864</td><td>5.393117368642068</td><td>0.0293231678789123</td><td>5.393117368642068</td><td>0.0432156509855109</td><td>5.386560387038855</td><td>0.173438906594168</td><td>5.291484153792278</td><td>3.8473968045277998</td><td>5.301319626197096</td><td>4.7104326135972</td><td>5.337383025014764</td><td>5.874063080161569</td><td>2.1998673278777066</td><td>0.196193212664675</td><td>0.0</td><td>nan</td><td>0.0</td><td>nan</td><td>0.0</td><td>nan</td><td>0.0</td><td>nan</td></tr>\n",
       "<tr><td>EGS</td><td>3.848948201085585</td><td>0.06136235137911395</td><td>3.8587836734904037</td><td>0.0330897253496109</td><td>3.8587836734904037</td><td>0.0644414866754704</td><td>3.8555051826887974</td><td>0.09422033565637555</td><td>3.8555051826887974</td><td>0.182129986344655</td><td>3.675188188600461</td><td>5.09225178682018</td><td>3.793213857458281</td><td>6.290292</td><td>0.5639004178762527</td><td>0.1058561568713875</td><td>0.8753570440288341</td><td>1.49700838204022</td><td>0.5671789086778588</td><td>0.132265599310671</td><td>0.0</td><td>nan</td><td>0.0</td><td>nan</td><td>0.0</td><td>nan</td><td>0.0</td><td>nan</td></tr>\n",
       "<tr><td>ELAIS-N1</td><td>13.20903943967106</td><td>0.015195865</td><td>13.910636471214769</td><td>0.010846859</td><td>13.913914962016374</td><td>0.0206746535</td><td>13.897522508008343</td><td>0.0561627831144065</td><td>13.913914962016374</td><td>0.048017051500000005</td><td>13.835231182777827</td><td>0.1675075365656985</td><td>9.268293496140503</td><td>0.5481815</td><td>0.0</td><td>nan</td><td>9.284685950148532</td><td>0.6810364200000001</td><td>0.0</td><td>nan</td><td>9.710889754357328</td><td>0.78441163003663</td><td>9.730560699166965</td><td>1.032171282360025</td><td>9.638762956721994</td><td>4.9424583333333345</td><td>9.651876919928418</td><td>4.86182194616977</td></tr>\n",
       "<tr><td>ELAIS-N2</td><td>8.268353801650635</td><td>0.018435468</td><td>9.510901815459356</td><td>0.016938776</td><td>9.520737287864174</td><td>0.026051025999999998</td><td>9.520737287864174</td><td>1.276548604815555</td><td>9.520737287864174</td><td>0.061326118</td><td>9.520737287864174</td><td>5.1374358923371855</td><td>0.0</td><td>nan</td><td>0.0</td><td>nan</td><td>0.0</td><td>nan</td><td>0.0</td><td>nan</td><td>4.484975416597172</td><td>0.8212270942408375</td><td>4.47841843499396</td><td>1.053597412807315</td><td>4.422684091366656</td><td>4.78756756756757</td><td>4.406291637358626</td><td>4.64675</td></tr>\n",
       "<tr><td>ELAIS-S1</td><td>0.0</td><td>nan</td><td>9.461724453435263</td><td>0.123386014493398</td><td>9.442053508625627</td><td>0.1321958691688965</td><td>9.458445962633657</td><td>0.243956206321972</td><td>9.461724453435263</td><td>0.4426376157783</td><td>9.45516747183205</td><td>1.08228543218399</td><td>9.432218036220808</td><td>2.57862389087677</td><td>8.229011912031362</td><td>3.73898710310459</td><td>0.0</td><td>nan</td><td>9.228951606521228</td><td>5.28415390014648</td><td>7.206122781930253</td><td>0.706632612529864</td><td>7.389718266820195</td><td>0.9709450715250505</td><td>6.711070670887728</td><td>5.27769230769231</td><td>6.704513689284516</td><td>5.45833333333333</td></tr>\n",
       "<tr><td>GAMA-09</td><td>59.06201179093426</td><td>0.28324196</td><td>63.49125286390412</td><td>0.09360176</td><td>63.51420229951537</td><td>0.092538275</td><td>63.50436682711055</td><td>0.248370125</td><td>63.501088336308946</td><td>0.52900565</td><td>63.533873244325</td><td>1.4495289293054</td><td>63.468303428292884</td><td>1.90078674554825</td><td>63.41584757546718</td><td>3.11484928131104</td><td>59.97671072458236</td><td>6.09829165</td><td>56.55724481850718</td><td>3.08633001453905</td><td>0.0</td><td>nan</td><td>0.0</td><td>nan</td><td>0.0</td><td>nan</td><td>0.0</td><td>nan</td></tr>\n",
       "<tr><td>...</td><td>...</td><td>...</td><td>...</td><td>...</td><td>...</td><td>...</td><td>...</td><td>...</td><td>...</td><td>...</td><td>...</td><td>...</td><td>...</td><td>...</td><td>...</td><td>...</td><td>...</td><td>...</td><td>...</td><td>...</td><td>...</td><td>...</td><td>...</td><td>...</td><td>...</td><td>...</td><td>...</td><td>...</td></tr>\n",
       "<tr><td>Herschel-Stripe-82</td><td>115.75039624150568</td><td>0.28281020784016797</td><td>366.85656371812166</td><td>0.13312250161150452</td><td>366.9483614605666</td><td>0.1607005552674815</td><td>366.8500067365184</td><td>0.2505212891630565</td><td>366.9549184421698</td><td>0.438992619723303</td><td>368.0400988975015</td><td>1.66655107462496</td><td>356.0768859624407</td><td>4.01589206055859</td><td>351.28045391969096</td><td>5.46538630775783</td><td>233.90392624058865</td><td>6.27123086397038</td><td>241.21823921897192</td><td>6.5121349945212845</td><td>98.92518144766308</td><td>1.9088288565758451</td><td>99.02681466251286</td><td>1.84950237989795</td><td>0.0</td><td>nan</td><td>0.0</td><td>nan</td></tr>\n",
       "<tr><td>Lockman-SWIRE</td><td>14.805664460053238</td><td>0.012160642999999999</td><td>22.119977438436493</td><td>0.010908862</td><td>22.1232559292381</td><td>0.0158166105</td><td>22.09702800282525</td><td>1.22765921174757</td><td>22.051129131602764</td><td>0.042485971</td><td>21.975723843165824</td><td>6.2348010206086</td><td>20.434833166410947</td><td>5.50630805803382</td><td>0.0</td><td>nan</td><td>8.61915231742249</td><td>0.6219037</td><td>0.0</td><td>nan</td><td>11.612414419288879</td><td>0.6888698618707021</td><td>11.612414419288879</td><td>0.942080821221227</td><td>11.451768370010178</td><td>5.01866666666667</td><td>11.451768370010178</td><td>5.26111111111111</td></tr>\n",
       "<tr><td>NGP</td><td>0.0</td><td>nan</td><td>179.57605516717362</td><td>1.13681224196556</td><td>179.58916913038004</td><td>1.0795281666189451</td><td>179.57277667637203</td><td>1.2273446313397</td><td>179.6186755475945</td><td>1.0867627</td><td>179.57277667637203</td><td>3.2590716</td><td>177.19914933600919</td><td>4.1193457</td><td>177.2548836796365</td><td>5.139570300000001</td><td>178.35317809817454</td><td>5.7126484</td><td>0.0</td><td>nan</td><td>0.0</td><td>nan</td><td>0.0</td><td>nan</td><td>0.0</td><td>nan</td><td>0.0</td><td>nan</td></tr>\n",
       "<tr><td>SA13</td><td>0.0</td><td>nan</td><td>0.28195020893812633</td><td>0.19077162</td><td>0.28522869973973247</td><td>0.310113</td><td>0.0</td><td>nan</td><td>0.28522869973973247</td><td>1.0367432</td><td>0.0</td><td>nan</td><td>0.3376845525654304</td><td>6.8016524</td><td>0.0</td><td>nan</td><td>0.0</td><td>nan</td><td>0.0</td><td>nan</td><td>0.0</td><td>nan</td><td>0.0</td><td>nan</td><td>0.0</td><td>nan</td><td>0.0</td><td>nan</td></tr>\n",
       "<tr><td>SGP</td><td>291.75289643492863</td><td>1.7685729773113</td><td>298.6901829711272</td><td>0.124589110808832</td><td>290.0579166904983</td><td>0.146888081354326</td><td>292.81840594545065</td><td>0.28402036628467</td><td>294.70025966557256</td><td>0.534856022490005</td><td>272.4163576870557</td><td>1.272873406124395</td><td>244.23445075644955</td><td>1.4971647785365199</td><td>226.5896132622054</td><td>2.4367145522153297</td><td>0.0</td><td>nan</td><td>226.24209323723514</td><td>2.606821075843395</td><td>0.0</td><td>nan</td><td>0.0</td><td>nan</td><td>0.0</td><td>nan</td><td>0.0</td><td>nan</td></tr>\n",
       "<tr><td>SPIRE-NEP</td><td>0.0</td><td>nan</td><td>0.16392454008030602</td><td>1.55082952822566</td><td>0.16392454008030602</td><td>1.583133793801325</td><td>0.16392454008030602</td><td>1.63476561565194</td><td>0.16392454008030602</td><td>3.8823939628278303</td><td>0.16392454008030602</td><td>7.08925699700644</td><td>0.0</td><td>nan</td><td>0.0</td><td>nan</td><td>0.0</td><td>nan</td><td>0.0</td><td>nan</td><td>0.0</td><td>nan</td><td>0.0</td><td>nan</td><td>0.0</td><td>nan</td><td>0.0</td><td>nan</td></tr>\n",
       "<tr><td>SSDF</td><td>0.0</td><td>nan</td><td>112.77024810284571</td><td>0.107691356484737</td><td>112.78008357525054</td><td>0.13076024198950348</td><td>112.77680508444892</td><td>0.209138197405894</td><td>112.77680508444892</td><td>0.367745113347188</td><td>112.72762772242484</td><td>1.1696262000282052</td><td>111.67523217510927</td><td>2.6950576</td><td>97.96786213359408</td><td>4.07128</td><td>0.0</td><td>nan</td><td>107.49187791225987</td><td>5.464754</td><td>94.2795599817872</td><td>79.68621</td><td>92.97144215194636</td><td>86.92516</td><td>0.0</td><td>nan</td><td>0.0</td><td>nan</td></tr>\n",
       "<tr><td>xFLS</td><td>4.72430524511442</td><td>2.4389915</td><td>7.825757543433809</td><td>0.16266994</td><td>7.855263960648264</td><td>0.08979115</td><td>7.842149997441839</td><td>1.45430361333212</td><td>7.838871506640234</td><td>2.47723755139006</td><td>7.829036034235415</td><td>6.22290315975504</td><td>5.616054743151284</td><td>6.0884147</td><td>0.0</td><td>nan</td><td>0.0</td><td>nan</td><td>0.0</td><td>nan</td><td>4.091556520404438</td><td>5.391215873751545</td><td>4.065328593991589</td><td>6.001673211030055</td><td>3.9636953791417993</td><td>21.0148110529703</td><td>3.9636953791417993</td><td>20.4360184558011</td></tr>\n",
       "<tr><td>XMM-13hr</td><td>0.0</td><td>nan</td><td>0.8491291176159852</td><td>0.203149</td><td>0.8491291176159852</td><td>0.20270073</td><td>0.0</td><td>nan</td><td>0.8458506268143791</td><td>0.83700032</td><td>0.0</td><td>nan</td><td>0.8655215716240158</td><td>6.18549875</td><td>0.0</td><td>nan</td><td>0.0</td><td>nan</td><td>0.0</td><td>nan</td><td>0.0</td><td>nan</td><td>0.0</td><td>nan</td><td>0.0</td><td>nan</td><td>0.0</td><td>nan</td></tr>\n",
       "<tr><td>XMM-LSS</td><td>18.867714563243222</td><td>0.0522112322398103</td><td>22.447826518597104</td><td>0.0222373198474122</td><td>22.451105009398713</td><td>0.03863177234339065</td><td>22.451105009398713</td><td>0.043623703745848855</td><td>22.447826518597104</td><td>0.0900361084884592</td><td>22.437991046192288</td><td>0.18066349603606952</td><td>22.329800849739286</td><td>2.59141069192153</td><td>21.070860381922536</td><td>3.55862103189741</td><td>7.117603530286887</td><td>0.596759371819549</td><td>21.992116297173855</td><td>5.1315355474298645</td><td>10.02234638050991</td><td>0.669229317030779</td><td>9.822358441611936</td><td>0.7878361639525785</td><td>9.33714180297423</td><td>5.848945454545454</td><td>9.346977275379048</td><td>6.38166666666667</td></tr>\n",
       "</table>"
      ],
      "text/plain": [
       "<Table length=23>\n",
       "      field           u_band_area     ... ferr_ap_i4_mean_meadian\n",
       "      str18             float64       ...         float64        \n",
       "------------------ ------------------ ... -----------------------\n",
       "         AKARI-NEP                0.0 ...                     nan\n",
       "         AKARI-SEP                0.0 ...                     nan\n",
       "            Bootes                0.0 ...       7.358867777855445\n",
       "        CDFS-SWIRE 13.218874912075878 ...                4.809375\n",
       "            COSMOS 2.1965888370761006 ...                     nan\n",
       "               EGS  3.848948201085585 ...                     nan\n",
       "          ELAIS-N1  13.20903943967106 ...        4.86182194616977\n",
       "          ELAIS-N2  8.268353801650635 ...                 4.64675\n",
       "          ELAIS-S1                0.0 ...        5.45833333333333\n",
       "           GAMA-09  59.06201179093426 ...                     nan\n",
       "               ...                ... ...                     ...\n",
       "Herschel-Stripe-82 115.75039624150568 ...                     nan\n",
       "     Lockman-SWIRE 14.805664460053238 ...        5.26111111111111\n",
       "               NGP                0.0 ...                     nan\n",
       "              SA13                0.0 ...                     nan\n",
       "               SGP 291.75289643492863 ...                     nan\n",
       "         SPIRE-NEP                0.0 ...                     nan\n",
       "              SSDF                0.0 ...                     nan\n",
       "              xFLS   4.72430524511442 ...        20.4360184558011\n",
       "          XMM-13hr                0.0 ...                     nan\n",
       "           XMM-LSS 18.867714563243222 ...        6.38166666666667"
      ]
     },
     "execution_count": 359,
     "metadata": {},
     "output_type": "execute_result"
    }
   ],
   "source": [
    "field_coverages"
   ]
  },
  {
   "cell_type": "code",
   "execution_count": 374,
   "metadata": {},
   "outputs": [
    {
     "name": "stderr",
     "output_type": "stream",
     "text": [
      "/Users/rs548/anaconda/envs/herschelhelp_internal/lib/python3.6/site-packages/astropy/table/column.py:965: RuntimeWarning: invalid value encountered in greater\n",
      "  return getattr(self.data, op)(other)\n"
     ]
    },
    {
     "data": {
      "text/html": [
       "<i>Table length=1</i>\n",
       "<table id=\"table36585952424\" class=\"table-striped table-bordered table-condensed\">\n",
       "<thead><tr><th>field</th><th>ferr_ap_i1_mean_meadian</th></tr></thead>\n",
       "<thead><tr><th>str18</th><th>float64</th></tr></thead>\n",
       "<tr><td>SSDF</td><td>79.68621</td></tr>\n",
       "</table>"
      ],
      "text/plain": [
       "<Table length=1>\n",
       "field ferr_ap_i1_mean_meadian\n",
       "str18         float64        \n",
       "----- -----------------------\n",
       " SSDF                79.68621"
      ]
     },
     "execution_count": 374,
     "metadata": {},
     "output_type": "execute_result"
    }
   ],
   "source": [
    "field_coverages['field', 'ferr_ap_i1_mean_meadian'][field_coverages['ferr_ap_i1_mean_meadian'] > 10]"
   ]
  },
  {
   "cell_type": "code",
   "execution_count": 360,
   "metadata": {},
   "outputs": [],
   "source": [
    "field_coverages.write('./data/field_coverages_band_overview.fits', overwrite=True)"
   ]
  },
  {
   "cell_type": "code",
   "execution_count": 6,
   "metadata": {},
   "outputs": [],
   "source": [
    "field_coverages = Table.read('./data/field_coverages_band_overview.fits')"
   ]
  },
  {
   "cell_type": "code",
   "execution_count": 361,
   "metadata": {},
   "outputs": [],
   "source": [
    "table = 'field '\n",
    "for band in bands:\n",
    "    table += '& \\\\multicolumn{2}{c}{' + band + '}'\n",
    "    \n",
    "table += ' \\\\\\\\ \\n'\n",
    "\n",
    "table += '\\\\cline{1-29} \\n'\n",
    "\n",
    "for band in bands:\n",
    "    table += '& a & \\\\sigma '\n",
    "\n",
    "table += '\\\\\\\\ \\n'"
   ]
  },
  {
   "cell_type": "code",
   "execution_count": 362,
   "metadata": {},
   "outputs": [
    {
     "data": {
      "text/plain": [
       "29"
      ]
     },
     "execution_count": 362,
     "metadata": {},
     "output_type": "execute_result"
    }
   ],
   "source": [
    "len('AKARI-NEP&&&9.6&1.5&9.6&1.6&9.6&1.5&9.6&3.2&9.6&7.2&&&&&&&&&7.2&1.7&7.2&1.4&&&&\\\\'.split('&'))"
   ]
  },
  {
   "cell_type": "code",
   "execution_count": 363,
   "metadata": {},
   "outputs": [
    {
     "name": "stdout",
     "output_type": "stream",
     "text": [
      "field & \\multicolumn{2}{c}{u}& \\multicolumn{2}{c}{g}& \\multicolumn{2}{c}{r}& \\multicolumn{2}{c}{i}& \\multicolumn{2}{c}{z}& \\multicolumn{2}{c}{y}& \\multicolumn{2}{c}{J}& \\multicolumn{2}{c}{H}& \\multicolumn{2}{c}{K}& \\multicolumn{2}{c}{Ks}& \\multicolumn{2}{c}{i1}& \\multicolumn{2}{c}{i2}& \\multicolumn{2}{c}{i3}& \\multicolumn{2}{c}{i4} \\\\ \n",
      "\\cline{1-29} \n",
      "& a & \\sigma & a & \\sigma & a & \\sigma & a & \\sigma & a & \\sigma & a & \\sigma & a & \\sigma & a & \\sigma & a & \\sigma & a & \\sigma & a & \\sigma & a & \\sigma & a & \\sigma & a & \\sigma \\\\ \n",
      "\n"
     ]
    }
   ],
   "source": [
    "print(table)"
   ]
  },
  {
   "cell_type": "code",
   "execution_count": 364,
   "metadata": {},
   "outputs": [
    {
     "name": "stdout",
     "output_type": "stream",
     "text": [
      "AKARI-NEP&&&9.6&1.5&9.6&1.6&9.6&1.5&9.6&3.2&9.6&7.2&&&&&&&&&7.2&1.7&7.2&1.4&&&&\\\\\n",
      "AKARI-SEP&&&9.3&0.1&9.3&0.1&9.3&0.2&9.2&0.4&9.2&1.4&9.1&3.7&8.6&5.9&&&7.9&6.5&7.3&1.0&7.2&1.0&&&&\\\\\n",
      "Bootes&&&11.9&0.1&11.9&0.1&11.9&0.2&11.9&0.2&11.9&4.3&11.8&1.4&9.7&1.5&9.7&3.0&5.3&12.1&10.1&0.8&10.1&1.0&10.0&5.4&10.0&7.4\\\\\n",
      "CDFS-SWIRE&13.2&2.2&13.5&0.1&13.5&0.1&13.5&0.1&13.5&0.2&13.5&0.2&10.6&2.3&10.2&0.9&&&10.2&0.9&8.2&0.5&8.2&0.6&8.1&4.7&8.0&4.8\\\\\n",
      "COSMOS&2.2&0.0&5.4&0.0&5.4&0.0&5.4&0.0&5.4&0.0&5.4&0.2&5.3&3.8&5.3&4.7&5.3&5.9&2.2&0.2&&&&&&&&\\\\\n",
      "EGS&3.8&0.1&3.9&0.0&3.9&0.1&3.9&0.1&3.9&0.2&3.7&5.1&3.8&6.3&0.6&0.1&0.9&1.5&0.6&0.1&&&&&&&&\\\\\n",
      "ELAIS-N1&13.2&0.0&13.9&0.0&13.9&0.0&13.9&0.1&13.9&0.0&13.8&0.2&9.3&0.5&&&9.3&0.7&&&9.7&0.8&9.7&1.0&9.6&4.9&9.7&4.9\\\\\n",
      "ELAIS-N2&8.3&0.0&9.5&0.0&9.5&0.0&9.5&1.3&9.5&0.1&9.5&5.1&&&&&&&&&4.5&0.8&4.5&1.1&4.4&4.8&4.4&4.6\\\\\n",
      "ELAIS-S1&&&9.5&0.1&9.4&0.1&9.5&0.2&9.5&0.4&9.5&1.1&9.4&2.6&8.2&3.7&&&9.2&5.3&7.2&0.7&7.4&1.0&6.7&5.3&6.7&5.5\\\\\n",
      "GAMA-09&59.1&0.3&63.5&0.1&63.5&0.1&63.5&0.2&63.5&0.5&63.5&1.4&63.5&1.9&63.4&3.1&60.0&6.1&56.6&3.1&&&&&&&&\\\\\n",
      "GAMA-12&62.1&0.2&64.2&0.1&64.2&0.1&64.2&0.4&64.2&0.5&64.1&1.4&64.1&1.7&64.0&2.7&62.4&6.3&61.8&2.9&&&&&&&&\\\\\n",
      "GAMA-15&62.0&0.3&63.2&0.1&63.3&0.1&63.2&0.3&63.2&0.6&63.2&1.4&63.0&1.5&63.1&2.5&62.1&6.6&60.6&2.8&&&&&&&&\\\\\n",
      "HDF-N&0.3&0.0&0.8&1.2&0.8&1.2&0.8&1.5&0.8&2.8&0.8&5.0&&&&&&&&&&&&&&&&\\\\\n",
      "Herschel-Stripe-82&115.8&0.3&366.9&0.1&366.9&0.2&366.9&0.3&367.0&0.4&368.0&1.7&356.1&4.0&351.3&5.5&233.9&6.3&241.2&6.5&98.9&1.9&99.0&1.8&&&&\\\\\n",
      "Lockman-SWIRE&14.8&0.0&22.1&0.0&22.1&0.0&22.1&1.2&22.1&0.0&22.0&6.2&20.4&5.5&&&8.6&0.6&&&11.6&0.7&11.6&0.9&11.5&5.0&11.5&5.3\\\\\n",
      "NGP&&&179.6&1.1&179.6&1.1&179.6&1.2&179.6&1.1&179.6&3.3&177.2&4.1&177.3&5.1&178.4&5.7&&&&&&&&&&\\\\\n",
      "SA13&&&0.3&0.2&0.3&0.3&&&0.3&1.0&&&0.3&6.8&&&&&&&&&&&&&&\\\\\n",
      "SGP&291.8&1.8&298.7&0.1&290.1&0.1&292.8&0.3&294.7&0.5&272.4&1.3&244.2&1.5&226.6&2.4&&&226.2&2.6&&&&&&&&\\\\\n",
      "SPIRE-NEP&&&0.2&1.6&0.2&1.6&0.2&1.6&0.2&3.9&0.2&7.1&&&&&&&&&&&&&&&&\\\\\n",
      "SSDF&&&112.8&0.1&112.8&0.1&112.8&0.2&112.8&0.4&112.7&1.2&111.7&2.7&98.0&4.1&&&107.5&5.5&94.3&79.7&93.0&86.9&&&&\\\\\n",
      "xFLS&4.7&2.4&7.8&0.2&7.9&0.1&7.8&1.5&7.8&2.5&7.8&6.2&5.6&6.1&&&&&&&4.1&5.4&4.1&6.0&4.0&21.0&4.0&20.4\\\\\n",
      "XMM-13hr&&&0.8&0.2&0.8&0.2&&&0.8&0.8&&&0.9&6.2&&&&&&&&&&&&&&\\\\\n",
      "XMM-LSS&18.9&0.1&22.4&0.0&22.5&0.0&22.5&0.0&22.4&0.1&22.4&0.2&22.3&2.6&21.1&3.6&7.1&0.6&22.0&5.1&10.0&0.7&9.8&0.8&9.3&5.8&9.3&6.4\\\\\n"
     ]
    }
   ],
   "source": [
    "\n",
    "\n",
    "for n, field in enumerate(field_coverages):\n",
    "    latex = ''\n",
    "    for element in field:\n",
    "\n",
    "\n",
    "        if isinstance(element , float):\n",
    "            if np.isnan(element):\n",
    "                element = ''\n",
    "            elif np.isclose(element, 0.0):\n",
    "                element = ''\n",
    "            else:\n",
    "                element = round(element,1)\n",
    "\n",
    "\n",
    "        \n",
    "        latex +=  str(element) + '&' \n",
    "    print(latex[:-1] + '\\\\\\\\')\n",
    "    table += latex[:-1] + '\\\\\\\\ \\n'\n",
    "\n",
    "table += '\\\\hline'"
   ]
  },
  {
   "cell_type": "code",
   "execution_count": 365,
   "metadata": {},
   "outputs": [
    {
     "name": "stdout",
     "output_type": "stream",
     "text": [
      "field & \\multicolumn{2}{c}{u}& \\multicolumn{2}{c}{g}& \\multicolumn{2}{c}{r}& \\multicolumn{2}{c}{i}& \\multicolumn{2}{c}{z}& \\multicolumn{2}{c}{y}& \\multicolumn{2}{c}{J}& \\multicolumn{2}{c}{H}& \\multicolumn{2}{c}{K}& \\multicolumn{2}{c}{Ks}& \\multicolumn{2}{c}{i1}& \\multicolumn{2}{c}{i2}& \\multicolumn{2}{c}{i3}& \\multicolumn{2}{c}{i4} \\\\ \n",
      "\\cline{1-29} \n",
      "& a & \\sigma & a & \\sigma & a & \\sigma & a & \\sigma & a & \\sigma & a & \\sigma & a & \\sigma & a & \\sigma & a & \\sigma & a & \\sigma & a & \\sigma & a & \\sigma & a & \\sigma & a & \\sigma \\\\ \n",
      "AKARI-NEP&&&9.6&1.5&9.6&1.6&9.6&1.5&9.6&3.2&9.6&7.2&&&&&&&&&7.2&1.7&7.2&1.4&&&&\\\\ \n",
      "AKARI-SEP&&&9.3&0.1&9.3&0.1&9.3&0.2&9.2&0.4&9.2&1.4&9.1&3.7&8.6&5.9&&&7.9&6.5&7.3&1.0&7.2&1.0&&&&\\\\ \n",
      "Bootes&&&11.9&0.1&11.9&0.1&11.9&0.2&11.9&0.2&11.9&4.3&11.8&1.4&9.7&1.5&9.7&3.0&5.3&12.1&10.1&0.8&10.1&1.0&10.0&5.4&10.0&7.4\\\\ \n",
      "CDFS-SWIRE&13.2&2.2&13.5&0.1&13.5&0.1&13.5&0.1&13.5&0.2&13.5&0.2&10.6&2.3&10.2&0.9&&&10.2&0.9&8.2&0.5&8.2&0.6&8.1&4.7&8.0&4.8\\\\ \n",
      "COSMOS&2.2&0.0&5.4&0.0&5.4&0.0&5.4&0.0&5.4&0.0&5.4&0.2&5.3&3.8&5.3&4.7&5.3&5.9&2.2&0.2&&&&&&&&\\\\ \n",
      "EGS&3.8&0.1&3.9&0.0&3.9&0.1&3.9&0.1&3.9&0.2&3.7&5.1&3.8&6.3&0.6&0.1&0.9&1.5&0.6&0.1&&&&&&&&\\\\ \n",
      "ELAIS-N1&13.2&0.0&13.9&0.0&13.9&0.0&13.9&0.1&13.9&0.0&13.8&0.2&9.3&0.5&&&9.3&0.7&&&9.7&0.8&9.7&1.0&9.6&4.9&9.7&4.9\\\\ \n",
      "ELAIS-N2&8.3&0.0&9.5&0.0&9.5&0.0&9.5&1.3&9.5&0.1&9.5&5.1&&&&&&&&&4.5&0.8&4.5&1.1&4.4&4.8&4.4&4.6\\\\ \n",
      "ELAIS-S1&&&9.5&0.1&9.4&0.1&9.5&0.2&9.5&0.4&9.5&1.1&9.4&2.6&8.2&3.7&&&9.2&5.3&7.2&0.7&7.4&1.0&6.7&5.3&6.7&5.5\\\\ \n",
      "GAMA-09&59.1&0.3&63.5&0.1&63.5&0.1&63.5&0.2&63.5&0.5&63.5&1.4&63.5&1.9&63.4&3.1&60.0&6.1&56.6&3.1&&&&&&&&\\\\ \n",
      "GAMA-12&62.1&0.2&64.2&0.1&64.2&0.1&64.2&0.4&64.2&0.5&64.1&1.4&64.1&1.7&64.0&2.7&62.4&6.3&61.8&2.9&&&&&&&&\\\\ \n",
      "GAMA-15&62.0&0.3&63.2&0.1&63.3&0.1&63.2&0.3&63.2&0.6&63.2&1.4&63.0&1.5&63.1&2.5&62.1&6.6&60.6&2.8&&&&&&&&\\\\ \n",
      "HDF-N&0.3&0.0&0.8&1.2&0.8&1.2&0.8&1.5&0.8&2.8&0.8&5.0&&&&&&&&&&&&&&&&\\\\ \n",
      "Herschel-Stripe-82&115.8&0.3&366.9&0.1&366.9&0.2&366.9&0.3&367.0&0.4&368.0&1.7&356.1&4.0&351.3&5.5&233.9&6.3&241.2&6.5&98.9&1.9&99.0&1.8&&&&\\\\ \n",
      "Lockman-SWIRE&14.8&0.0&22.1&0.0&22.1&0.0&22.1&1.2&22.1&0.0&22.0&6.2&20.4&5.5&&&8.6&0.6&&&11.6&0.7&11.6&0.9&11.5&5.0&11.5&5.3\\\\ \n",
      "NGP&&&179.6&1.1&179.6&1.1&179.6&1.2&179.6&1.1&179.6&3.3&177.2&4.1&177.3&5.1&178.4&5.7&&&&&&&&&&\\\\ \n",
      "SA13&&&0.3&0.2&0.3&0.3&&&0.3&1.0&&&0.3&6.8&&&&&&&&&&&&&&\\\\ \n",
      "SGP&291.8&1.8&298.7&0.1&290.1&0.1&292.8&0.3&294.7&0.5&272.4&1.3&244.2&1.5&226.6&2.4&&&226.2&2.6&&&&&&&&\\\\ \n",
      "SPIRE-NEP&&&0.2&1.6&0.2&1.6&0.2&1.6&0.2&3.9&0.2&7.1&&&&&&&&&&&&&&&&\\\\ \n",
      "SSDF&&&112.8&0.1&112.8&0.1&112.8&0.2&112.8&0.4&112.7&1.2&111.7&2.7&98.0&4.1&&&107.5&5.5&94.3&79.7&93.0&86.9&&&&\\\\ \n",
      "xFLS&4.7&2.4&7.8&0.2&7.9&0.1&7.8&1.5&7.8&2.5&7.8&6.2&5.6&6.1&&&&&&&4.1&5.4&4.1&6.0&4.0&21.0&4.0&20.4\\\\ \n",
      "XMM-13hr&&&0.8&0.2&0.8&0.2&&&0.8&0.8&&&0.9&6.2&&&&&&&&&&&&&&\\\\ \n",
      "XMM-LSS&18.9&0.1&22.4&0.0&22.5&0.0&22.5&0.0&22.4&0.1&22.4&0.2&22.3&2.6&21.1&3.6&7.1&0.6&22.0&5.1&10.0&0.7&9.8&0.8&9.3&5.8&9.3&6.4\\\\ \n",
      "\\hline\n"
     ]
    }
   ],
   "source": [
    "print(table)"
   ]
  },
  {
   "cell_type": "code",
   "execution_count": 366,
   "metadata": {},
   "outputs": [
    {
     "data": {
      "text/plain": [
       "nan"
      ]
     },
     "execution_count": 366,
     "metadata": {},
     "output_type": "execute_result"
    }
   ],
   "source": [
    "round(np.nan,2)"
   ]
  },
  {
   "cell_type": "code",
   "execution_count": 367,
   "metadata": {},
   "outputs": [
    {
     "data": {
      "text/plain": [
       "9"
      ]
     },
     "execution_count": 367,
     "metadata": {},
     "output_type": "execute_result"
    }
   ],
   "source": [
    "np.sum(np.isnan(field_coverages['ferr_ap_u_mean_meadian']))"
   ]
  },
  {
   "cell_type": "markdown",
   "metadata": {},
   "source": [
    "## Plot general overview of depths"
   ]
  },
  {
   "cell_type": "code",
   "execution_count": 11,
   "metadata": {},
   "outputs": [
    {
     "name": "stderr",
     "output_type": "stream",
     "text": [
      "/Users/rs548/anaconda/envs/herschelhelp_internal/lib/python3.6/site-packages/astropy/table/column.py:965: RuntimeWarning: invalid value encountered in greater\n",
      "  return getattr(self.data, op)(other)\n",
      "/Users/rs548/anaconda/envs/herschelhelp_internal/lib/python3.6/site-packages/astropy/table/column.py:965: RuntimeWarning: invalid value encountered in less\n",
      "  return getattr(self.data, op)(other)\n"
     ]
    }
   ],
   "source": [
    "def depths_sample(band):\n",
    "    mask = ~np.isnan(coverage['ferr_ap_{}_mean_min'.format(band)])\n",
    "    mask &= coverage['ferr_ap_{}_mean_min'.format(band)] > 0.\n",
    "    mask &= coverage['ferr_ap_{}_mean_min'.format(band)] <1.e3\n",
    "    area = (np.sum(mask)/len(coverage)) * 1270.\n",
    "    return np.log10(np.array(coverage['ferr_ap_{}_mean_min'.format(band)][mask]) *5.e-6 ), area\n",
    "    \n",
    "\n",
    "data = [ depths_sample(band)[0] for band in bands ]\n",
    "areas = [ depths_sample(band)[1] for band in bands ]"
   ]
  },
  {
   "cell_type": "code",
   "execution_count": 21,
   "metadata": {},
   "outputs": [
    {
     "data": {
      "text/plain": [
       "14"
      ]
     },
     "execution_count": 21,
     "metadata": {},
     "output_type": "execute_result"
    }
   ],
   "source": [
    "len(data)"
   ]
  },
  {
   "cell_type": "code",
   "execution_count": 131,
   "metadata": {},
   "outputs": [
    {
     "name": "stderr",
     "output_type": "stream",
     "text": [
      "/Users/rs548/anaconda/envs/herschelhelp_internal/lib/python3.6/site-packages/matplotlib/font_manager.py:1297: UserWarning: findfont: Font family ['serif'] not found. Falling back to DejaVu Sans\n",
      "  (prop.get_family(), self.defaultFamily[fontext]))\n"
     ]
    },
    {
     "data": {
      "image/png": "[encoded data removed]",
      "text/plain": [
       "<matplotlib.figure.Figure at 0x826daae48>"
      ]
     },
     "metadata": {},
     "output_type": "display_data"
    }
   ],
   "source": [
    "\n",
    "\n",
    "# fake data\n",
    "fs = 10  # fontsize\n",
    "#pos = [1, 2, 4, 5, 7, 8]\n",
    "#data = np.array([np.array(coverage['ferr_ap_{}_mean_min'.format(b)]) for b in bands]).T\n",
    "\n",
    "cmap = mpl.cm.viridis\n",
    "norm = mpl.colors.Normalize(vmin=np.min(areas), vmax=np.max(areas))\n",
    "scalmap = mpl.cm.ScalarMappable( cmap=cmap, norm=norm)\n",
    "colors = scalmap.to_rgba(areas)   # The color is the angle\n",
    "colors[:, 3] = 1\n",
    "\n",
    "fig, ax = plt.subplots()\n",
    "\n",
    "def set_axis_style(ax, labels):\n",
    "    ax.get_xaxis().set_tick_params(direction='out')\n",
    "    ax.xaxis.set_ticks_position('bottom')\n",
    "    ax.set_xticks(np.arange(1, len(labels) + 1))\n",
    "    ax.set_xticklabels(labels)\n",
    "    ax.set_xlim(0.25, len(labels) + 0.75)\n",
    "    ax.set_xlabel('band')\n",
    "\n",
    "#ax.violinplot(np.array(coverage['ferr_ap_{}_mean_min'.format('g') ] ) )\n",
    "#ax.set_title('Custom violinplot 1', fontsize=fs)\n",
    "\n",
    "ax.set_ylabel('log10( 5$\\sigma$ Depths  [Jy] )')\n",
    "set_axis_style(ax, ['$' + band + '$' for band in bands])\n",
    "ax.set_ylim(-7, -3)\n",
    "\n",
    "\n",
    "\n",
    "parts = ax.violinplot(data, showmeans=False, showmedians=False,\n",
    "        showextrema=False)\n",
    "\n",
    "for n, part in enumerate(parts['bodies']):\n",
    "    part.set_facecolor(colors[n])\n",
    "    part.set_alpha(1)\n",
    "\n",
    "cax, _ = mpl.colorbar.make_axes(ax)\n",
    "n_ticks = 7\n",
    "values = np.linspace(0,1200, n_ticks)\n",
    "ticks = values/np.max(areas)\n",
    "\n",
    "cbar = mpl.colorbar.ColorbarBase(cax, cmap=cmap, ticks = ticks)\n",
    "cax.set_yticklabels([int(d) for d in values])\n",
    "cbar.set_label('area [square degrees]')\n",
    "\n",
    "plt.rc('font', family='serif', serif='Times')\n",
    "plt.rc('text') #, usetex=True)\n",
    "plt.rc('xtick', labelsize=12)\n",
    "plt.rc('ytick', labelsize=12)\n",
    "plt.rc('axes', labelsize=12)\n",
    "\n",
    "#fig.suptitle(\"Violin Plotting Examples\")\n",
    "#fig.subplots_adjust(hspace=0.4)\n",
    "#plt.ylim(-10,10)\n",
    "column_width_cm = 8.9\n",
    "width_cm = 3.0 * column_width_cm\n",
    "hieght_cm = width_cm / 1.9\n",
    "width_inches = width_cm/2.5\n",
    "hieght_inches = hieght_cm/2.5\n",
    "fig.set_size_inches(width_inches, hieght_inches)\n",
    "\n",
    "plt.savefig('./figs/band_depths_overviews.pdf', bbox_inches='tight')\n",
    "plt.savefig('./figs/band_depths_overviews.png', bbox_inches='tight')"
   ]
  },
  {
   "cell_type": "code",
   "execution_count": 28,
   "metadata": {},
   "outputs": [
    {
     "name": "stdout",
     "output_type": "stream",
     "text": [
      "[0.43695366 0.9828557  0.9059077  0.95649314 0.81234594 0.82529222\n",
      " 0.58725582 0.60772143 1.         0.70049027 0.25972733 0.25204318\n",
      " 0.09478411 0.07913627]\n"
     ]
    },
    {
     "name": "stderr",
     "output_type": "stream",
     "text": [
      "/Users/rs548/anaconda/envs/herschelhelp_internal/lib/python3.6/site-packages/ipykernel/__main__.py:3: RuntimeWarning: divide by zero encountered in true_divide\n",
      "  app.launch_new_instance()\n",
      "/Users/rs548/anaconda/envs/herschelhelp_internal/lib/python3.6/site-packages/ipykernel/__main__.py:3: RuntimeWarning: invalid value encountered in true_divide\n",
      "  app.launch_new_instance()\n"
     ]
    }
   ],
   "source": [
    "widths = [np.max(np.histogram(data[n], bins = 100, density = True)[0])*areas[n] for n in np.arange(len(data)) ]\n",
    "widths /= np.max(widths)\n",
    "\n",
    "print(widths)"
   ]
  },
  {
   "cell_type": "code",
   "execution_count": 198,
   "metadata": {},
   "outputs": [
    {
     "name": "stderr",
     "output_type": "stream",
     "text": [
      "/Users/rs548/anaconda/envs/herschelhelp_internal/lib/python3.6/site-packages/matplotlib/font_manager.py:1297: UserWarning: findfont: Font family ['serif'] not found. Falling back to DejaVu Sans\n",
      "  (prop.get_family(), self.defaultFamily[fontext]))\n"
     ]
    },
    {
     "data": {
      "image/png": "[encoded data removed]",
      "text/plain": [
       "<matplotlib.figure.Figure at 0x8283022e8>"
      ]
     },
     "metadata": {},
     "output_type": "display_data"
    }
   ],
   "source": [
    "# fake data\n",
    "fs = 10  # fontsize\n",
    "#pos = [1, 2, 4, 5, 7, 8]\n",
    "#data = np.array([np.array(coverage['ferr_ap_{}_mean_min'.format(b)]) for b in bands]).T\n",
    "\n",
    "cmap = mpl.cm.viridis\n",
    "norm = mpl.colors.Normalize(vmin=np.min(areas), vmax=np.max(areas))\n",
    "scalmap = mpl.cm.ScalarMappable( cmap=cmap, norm=norm)\n",
    "colors = scalmap.to_rgba(areas)   # The color is the angle\n",
    "colors[:, 3] = 1\n",
    "\n",
    "fig, ax = plt.subplots()\n",
    "\n",
    "def set_axis_style(ax, labels):\n",
    "    ax.get_xaxis().set_tick_params(direction='out')\n",
    "    ax.xaxis.set_ticks_position('bottom')\n",
    "    ax.set_xticks(np.arange(1, len(labels) + 1))\n",
    "    ax.set_xticklabels(labels)\n",
    "    ax.set_xlim(0.25, len(labels) + 0.75)\n",
    "    ax.set_xlabel('band')\n",
    "\n",
    "#ax.violinplot(np.array(coverage['ferr_ap_{}_mean_min'.format('g') ] ) )\n",
    "#ax.set_title('Custom violinplot 1', fontsize=fs)\n",
    "\n",
    "ax.set_ylabel('log10( 5$\\sigma$ Depths  [Jy] )')\n",
    "set_axis_style(ax, ['$' + band + '$' for band in bands])\n",
    "ax.set_ylim(-7, -3)\n",
    "\n",
    "\n",
    "#areas/np.max(areas)\n",
    "parts = ax.violinplot(data, widths=widths, showmeans=False, showmedians=False,\n",
    "        showextrema=False)\n",
    "\n",
    "for n, part in enumerate(parts['bodies']):\n",
    "    part.set_facecolor(colors[n])\n",
    "    part.set_alpha(1)\n",
    "\n",
    "cax, _ = mpl.colorbar.make_axes(ax)\n",
    "n_ticks = 7\n",
    "values = np.linspace(0,1200, n_ticks)\n",
    "ticks = values/np.max(areas)\n",
    "\n",
    "cbar = mpl.colorbar.ColorbarBase(cax, cmap=cmap, ticks = ticks)\n",
    "cax.set_yticklabels([int(d) for d in values])\n",
    "cbar.set_label('Area [square degrees]')\n",
    "\n",
    "plt.rc('font', family='serif', serif='Times')\n",
    "plt.rc('text') #, usetex=True)\n",
    "plt.rc('xtick', labelsize=12)\n",
    "plt.rc('ytick', labelsize=12)\n",
    "plt.rc('axes', labelsize=12)\n",
    "\n",
    "#fig.suptitle(\"Violin Plotting Examples\")\n",
    "#fig.subplots_adjust(hspace=0.4)\n",
    "#plt.ylim(-10,10)\n",
    "column_width_cm = 8.9\n",
    "width_cm = 3.0 * column_width_cm\n",
    "hieght_cm = width_cm / 1.9\n",
    "width_inches = width_cm/2.5\n",
    "hieght_inches = hieght_cm/2.5\n",
    "fig.set_size_inches(width_inches, hieght_inches)\n",
    "\n",
    "plt.savefig('./figs/band_depths_overviews_areaweighted.pdf', bbox_inches='tight')\n",
    "plt.savefig('./figs/band_depths_overviews_areaweighted.png', bbox_inches='tight')"
   ]
  },
  {
   "cell_type": "code",
   "execution_count": 191,
   "metadata": {},
   "outputs": [
    {
     "name": "stderr",
     "output_type": "stream",
     "text": [
      "/Users/rs548/anaconda/envs/herschelhelp_internal/lib/python3.6/site-packages/matplotlib/font_manager.py:1297: UserWarning: findfont: Font family ['serif'] not found. Falling back to DejaVu Sans\n",
      "  (prop.get_family(), self.defaultFamily[fontext]))\n"
     ]
    },
    {
     "data": {
      "image/png": "[encoded data removed]",
      "text/plain": [
       "<matplotlib.figure.Figure at 0x826fb8c18>"
      ]
     },
     "metadata": {},
     "output_type": "display_data"
    }
   ],
   "source": [
    "# fake data\n",
    "fs = 10  # fontsize\n",
    "#pos = [1, 2, 4, 5, 7, 8]\n",
    "#data = np.array([np.array(coverage['ferr_ap_{}_mean_min'.format(b)]) for b in bands]).T\n",
    "\n",
    "cmap = mpl.cm.viridis\n",
    "norm = mpl.colors.Normalize(vmin=np.min(areas), vmax=np.max(areas))\n",
    "scalmap = mpl.cm.ScalarMappable( cmap=cmap, norm=norm)\n",
    "colors = scalmap.to_rgba(areas)   # The color is the angle\n",
    "colors[:, 3] = 1\n",
    "\n",
    "fig, ax = plt.subplots()\n",
    "\n",
    "def set_axis_style(ax, labels):\n",
    "    ax.get_xaxis().set_tick_params(direction='out')\n",
    "    ax.xaxis.set_ticks_position('bottom')\n",
    "    ax.set_xticks(np.arange(1, len(labels) + 1))\n",
    "    ax.set_xticklabels(labels)\n",
    "    ax.set_xlim(0.25, len(labels) + 0.75)\n",
    "    ax.set_xlabel('band')\n",
    "\n",
    "#ax.violinplot(np.array(coverage['ferr_ap_{}_mean_min'.format('g') ] ) )\n",
    "#ax.set_title('Custom violinplot 1', fontsize=fs)\n",
    "\n",
    "ax.set_ylabel('log10( 5$\\sigma$ Depths  [Jy] )')\n",
    "set_axis_style(ax, ['$' + band + '$' for band in bands])\n",
    "ax.set_ylim(-7, -3)\n",
    "\n",
    "\n",
    "\n",
    "parts = ax.violinplot(data, widths=np.log10(areas)/np.log10(np.max(areas)), showmeans=False, showmedians=False,\n",
    "        showextrema=False)\n",
    "\n",
    "for n, part in enumerate(parts['bodies']):\n",
    "    part.set_facecolor(colors[n])\n",
    "    part.set_alpha(1)\n",
    "\n",
    "cax, _ = mpl.colorbar.make_axes(ax)\n",
    "n_ticks = 7\n",
    "values = np.linspace(0,1200, n_ticks)\n",
    "ticks = values/np.max(areas)\n",
    "\n",
    "cbar = mpl.colorbar.ColorbarBase(cax, cmap=cmap, ticks = ticks)\n",
    "cax.set_yticklabels([int(d) for d in values])\n",
    "cbar.set_label('area [square degrees]')\n",
    "\n",
    "plt.rc('font', family='serif', serif='Times')\n",
    "plt.rc('text') #, usetex=True)\n",
    "plt.rc('xtick', labelsize=12)\n",
    "plt.rc('ytick', labelsize=12)\n",
    "plt.rc('axes', labelsize=12)\n",
    "\n",
    "#fig.suptitle(\"Violin Plotting Examples\")\n",
    "#fig.subplots_adjust(hspace=0.4)\n",
    "#plt.ylim(-10,10)\n",
    "column_width_cm = 8.9\n",
    "width_cm = 3.0 * column_width_cm\n",
    "hieght_cm = width_cm / 1.9\n",
    "width_inches = width_cm/2.5\n",
    "hieght_inches = hieght_cm/2.5\n",
    "fig.set_size_inches(width_inches, hieght_inches)\n",
    "\n",
    "plt.savefig('./figs/band_depths_overviews_logareaweighted.pdf', bbox_inches='tight')\n",
    "plt.savefig('./figs/band_depths_overviews_logareaweighted.png', bbox_inches='tight')"
   ]
  },
  {
   "cell_type": "markdown",
   "metadata": {},
   "source": [
    "## Add SED to plot"
   ]
  },
  {
   "cell_type": "code",
   "execution_count": 54,
   "metadata": {},
   "outputs": [],
   "source": [
    "s.add_contribution(\"HELP_SED\", orig_spec['WAVE'], orig_spec['LUMIN'])"
   ]
  },
  {
   "cell_type": "code",
   "execution_count": 187,
   "metadata": {},
   "outputs": [
    {
     "data": {
      "text/html": [
       "<i>Table length=2389</i>\n",
       "<table id=\"table34993851640\" class=\"table-striped table-bordered table-condensed\">\n",
       "<thead><tr><th>wavelength</th><th>Fnu</th><th>L_lambda_total</th><th>stellar.old</th><th>stellar.young</th><th>attenuation.stellar.old</th><th>attenuation.stellar.young</th><th>lyc_absorption</th><th>dust.Umin_Umin</th><th>dust.Umin_Umax</th><th>agn.fritz2006_therm</th><th>agn.fritz2006_scatt</th><th>agn.fritz2006_agn</th><th>igm</th></tr></thead>\n",
       "<thead><tr><th>nm</th><th>mJy</th><th>W / nm</th><th>W / nm</th><th>W / nm</th><th>W / nm</th><th>W / nm</th><th>W / nm</th><th>W / nm</th><th>W / nm</th><th>W / nm</th><th>W / nm</th><th>W / nm</th><th>W / nm</th></tr></thead>\n",
       "<thead><tr><th>float64</th><th>float64</th><th>float64</th><th>float64</th><th>float64</th><th>float64</th><th>float64</th><th>float64</th><th>float64</th><th>float64</th><th>float64</th><th>float64</th><th>float64</th><th>float64</th></tr></thead>\n",
       "<tr><td>1.8399999999999999</td><td>0.0</td><td>0.0</td><td>0.0</td><td>0.0</td><td>0.0</td><td>0.0</td><td>0.0</td><td>0.0</td><td>0.0</td><td>0.0</td><td>0.0</td><td>0.0</td><td>-0.0</td></tr>\n",
       "<tr><td>2.0644799999999996</td><td>0.0</td><td>0.0</td><td>0.0</td><td>0.0</td><td>0.0</td><td>0.0</td><td>0.0</td><td>0.0</td><td>0.0</td><td>0.0</td><td>0.0</td><td>0.0</td><td>-0.0</td></tr>\n",
       "<tr><td>2.3165599999999995</td><td>0.0</td><td>0.0</td><td>0.0</td><td>0.0</td><td>0.0</td><td>0.0</td><td>0.0</td><td>0.0</td><td>0.0</td><td>0.0</td><td>0.0</td><td>0.0</td><td>-0.0</td></tr>\n",
       "<tr><td>2.59992</td><td>0.0</td><td>0.0</td><td>0.0</td><td>0.0</td><td>0.0</td><td>0.0</td><td>0.0</td><td>0.0</td><td>0.0</td><td>0.0</td><td>0.0</td><td>0.0</td><td>-0.0</td></tr>\n",
       "<tr><td>2.9164</td><td>0.0</td><td>0.0</td><td>0.0</td><td>0.0</td><td>0.0</td><td>0.0</td><td>0.0</td><td>0.0</td><td>0.0</td><td>0.0</td><td>0.0</td><td>0.0</td><td>-0.0</td></tr>\n",
       "<tr><td>3.2715199999999998</td><td>0.0</td><td>0.0</td><td>0.0</td><td>0.0</td><td>0.0</td><td>0.0</td><td>0.0</td><td>0.0</td><td>0.0</td><td>0.0</td><td>0.0</td><td>0.0</td><td>-0.0</td></tr>\n",
       "<tr><td>3.6707999999999994</td><td>0.0</td><td>0.0</td><td>0.0</td><td>0.0</td><td>0.0</td><td>0.0</td><td>0.0</td><td>0.0</td><td>0.0</td><td>0.0</td><td>0.0</td><td>0.0</td><td>-0.0</td></tr>\n",
       "<tr><td>4.11976</td><td>0.0</td><td>0.0</td><td>0.0</td><td>0.0</td><td>0.0</td><td>0.0</td><td>0.0</td><td>0.0</td><td>0.0</td><td>0.0</td><td>0.0</td><td>0.0</td><td>-0.0</td></tr>\n",
       "<tr><td>4.6220799999999995</td><td>0.0</td><td>0.0</td><td>0.0</td><td>0.0</td><td>0.0</td><td>0.0</td><td>0.0</td><td>0.0</td><td>0.0</td><td>0.0</td><td>0.0</td><td>0.0</td><td>-0.0</td></tr>\n",
       "<tr><td>...</td><td>...</td><td>...</td><td>...</td><td>...</td><td>...</td><td>...</td><td>...</td><td>...</td><td>...</td><td>...</td><td>...</td><td>...</td><td>...</td></tr>\n",
       "<tr><td>16935360.0</td><td>0.0001259456189725549</td><td>4.555751857522447e+23</td><td>0.0</td><td>0.0</td><td>0.0</td><td>0.0</td><td>0.0</td><td>4.4461324591473895e+23</td><td>1.096193983750571e+22</td><td>0.0</td><td>0.0</td><td>0.0</td><td>0.0</td></tr>\n",
       "<tr><td>17093600.0</td><td>0.0001226204860023008</td><td>4.353733292910076e+23</td><td>0.0</td><td>0.0</td><td>0.0</td><td>0.0</td><td>0.0</td><td>4.248994483694446e+23</td><td>1.0473880921562992e+22</td><td>0.0</td><td>0.0</td><td>0.0</td><td>0.0</td></tr>\n",
       "<tr><td>17251840.0</td><td>0.00011935163639795547</td><td>4.160288001758702e+23</td><td>0.0</td><td>0.0</td><td>0.0</td><td>0.0</td><td>0.0</td><td>4.0601930450274065e+23</td><td>1.000949567312955e+22</td><td>0.0</td><td>0.0</td><td>0.0</td><td>0.0</td></tr>\n",
       "<tr><td>17410080.0</td><td>0.00011619314633460755</td><td>3.976901552711792e+23</td><td>0.0</td><td>0.0</td><td>0.0</td><td>0.0</td><td>0.0</td><td>3.8812241441957594e+23</td><td>9.56774085160322e+21</td><td>0.0</td><td>0.0</td><td>0.0</td><td>0.0</td></tr>\n",
       "<tr><td>17572000.0</td><td>0.0001130898360417584</td><td>3.7996802111245866e+23</td><td>0.0</td><td>0.0</td><td>0.0</td><td>0.0</td><td>0.0</td><td>3.708279351195022e+23</td><td>9.140085992956366e+21</td><td>0.0</td><td>0.0</td><td>0.0</td><td>0.0</td></tr>\n",
       "<tr><td>17733920.0</td><td>0.00011009688528990669</td><td>3.631879279610982e+23</td><td>0.0</td><td>0.0</td><td>0.0</td><td>0.0</td><td>0.0</td><td>3.544542634477698e+23</td><td>8.733664513328472e+21</td><td>0.0</td><td>0.0</td><td>0.0</td><td>0.0</td></tr>\n",
       "<tr><td>17897680.0</td><td>0.00010716132149937371</td><td>3.4706470071752847e+23</td><td>0.0</td><td>0.0</td><td>0.0</td><td>0.0</td><td>0.0</td><td>3.387153037856821e+23</td><td>8.349396931846377e+21</td><td>0.0</td><td>0.0</td><td>0.0</td><td>0.0</td></tr>\n",
       "<tr><td>18063280.0</td><td>0.00010433391005901826</td><td>3.317402115501952e+23</td><td>0.0</td><td>0.0</td><td>0.0</td><td>0.0</td><td>0.0</td><td>3.237642701407009e+23</td><td>7.975941409494329e+21</td><td>0.0</td><td>0.0</td><td>0.0</td><td>0.0</td></tr>\n",
       "<tr><td>18230720.0</td><td>0.00010156388557998147</td><td>3.17027931799803e+23</td><td>0.0</td><td>0.0</td><td>0.0</td><td>0.0</td><td>0.0</td><td>3.094045175536554e+23</td><td>7.623414246147605e+21</td><td>0.0</td><td>0.0</td><td>0.0</td><td>0.0</td></tr>\n",
       "<tr><td>18400000.0</td><td>9.884904087144349e-05</td><td>3.02902372866702e+23</td><td>0.0</td><td>0.0</td><td>0.0</td><td>0.0</td><td>0.0</td><td>2.956181068049082e+23</td><td>7.284266061793861e+21</td><td>0.0</td><td>0.0</td><td>0.0</td><td>0.0</td></tr>\n",
       "</table>"
      ],
      "text/plain": [
       "<Table length=2389>\n",
       "    wavelength              Fnu           ... agn.fritz2006_agn   igm  \n",
       "        nm                  mJy           ...       W / nm       W / nm\n",
       "     float64              float64         ...      float64      float64\n",
       "------------------ ---------------------- ... ----------------- -------\n",
       "1.8399999999999999                    0.0 ...               0.0    -0.0\n",
       "2.0644799999999996                    0.0 ...               0.0    -0.0\n",
       "2.3165599999999995                    0.0 ...               0.0    -0.0\n",
       "           2.59992                    0.0 ...               0.0    -0.0\n",
       "            2.9164                    0.0 ...               0.0    -0.0\n",
       "3.2715199999999998                    0.0 ...               0.0    -0.0\n",
       "3.6707999999999994                    0.0 ...               0.0    -0.0\n",
       "           4.11976                    0.0 ...               0.0    -0.0\n",
       "4.6220799999999995                    0.0 ...               0.0    -0.0\n",
       "               ...                    ... ...               ...     ...\n",
       "        16935360.0  0.0001259456189725549 ...               0.0     0.0\n",
       "        17093600.0  0.0001226204860023008 ...               0.0     0.0\n",
       "        17251840.0 0.00011935163639795547 ...               0.0     0.0\n",
       "        17410080.0 0.00011619314633460755 ...               0.0     0.0\n",
       "        17572000.0  0.0001130898360417584 ...               0.0     0.0\n",
       "        17733920.0 0.00011009688528990669 ...               0.0     0.0\n",
       "        17897680.0 0.00010716132149937371 ...               0.0     0.0\n",
       "        18063280.0 0.00010433391005901826 ...               0.0     0.0\n",
       "        18230720.0 0.00010156388557998147 ...               0.0     0.0\n",
       "        18400000.0  9.884904087144349e-05 ...               0.0     0.0"
      ]
     },
     "execution_count": 187,
     "metadata": {},
     "output_type": "execute_result"
    }
   ],
   "source": [
    "orig_spec"
   ]
  },
  {
   "cell_type": "code",
   "execution_count": 75,
   "metadata": {},
   "outputs": [],
   "source": [
    "cigale_filternames = {\n",
    "    'u':  'u_prime',\n",
    "    'g':  'MCam_g',\n",
    "    'r':  'MCam_r',\n",
    "    'i':  'MCam_i',\n",
    "    'z':  'MCam_z',\n",
    "    'y':  'WFCAM_Y',\n",
    "    'J':  'WFCAM_J',\n",
    "    'H':  'WFI_H',\n",
    "    'K':  'WFI_K',\n",
    "    'Ks': 'Ks_2mass',\n",
    "    'i1': 'IRAC1',\n",
    "    'i2': 'IRAC2',\n",
    "    'i3': 'IRAC3',\n",
    "    'i4': 'IRAC4'\n",
    "}"
   ]
  },
  {
   "cell_type": "code",
   "execution_count": 269,
   "metadata": {},
   "outputs": [
    {
     "name": "stdout",
     "output_type": "stream",
     "text": [
      "z = 1:\n",
      "u band: 0.000345705181569687 mJy\n",
      "g band: 0.0020727509172920105 mJy\n",
      "r band: 0.0035672472622119626 mJy\n",
      "i band: 0.005085630076314563 mJy\n",
      "z band: 0.005708087805331559 mJy\n",
      "y band: 0.007608334451131614 mJy\n",
      "J band: 0.011418834181925972 mJy\n",
      "H band: 0.03522875392105456 mJy\n",
      "K band: 0.05210806268693783 mJy\n",
      "Ks band: 0.05332146627933601 mJy\n",
      "i1 band: 0.09779605439203325 mJy\n",
      "i2 band: 0.11418383481316734 mJy\n",
      "i3 band: 0.13622194619065717 mJy\n",
      "i4 band: 0.1202500847416484 mJy\n",
      "z = 2:\n",
      "u band: 0.0 mJy\n",
      "g band: 2.870000304312308e-05 mJy\n",
      "r band: 0.00030184455668674147 mJy\n",
      "i band: 0.0006770343984792332 mJy\n",
      "z band: 0.0008379015843598832 mJy\n",
      "y band: 0.0011340006978686412 mJy\n",
      "J band: 0.001455884630560549 mJy\n",
      "H band: 0.0023378592953374297 mJy\n",
      "K band: 0.0054148427311438325 mJy\n",
      "Ks band: 0.005985712083754886 mJy\n",
      "i1 band: 0.01584985688035568 mJy\n",
      "i2 band: 0.020969097280759418 mJy\n",
      "i3 band: 0.02764747901950443 mJy\n",
      "i4 band: 0.03400290722838351 mJy\n",
      "z = 3:\n",
      "u band: -1.729476561370473e-22 mJy\n",
      "g band: 1.3730611596988728e-21 mJy\n",
      "r band: 1.2964650375625177e-06 mJy\n",
      "i band: 0.00010230560917890813 mJy\n",
      "z band: 0.000191977853120144 mJy\n",
      "y band: 0.0003516857169392519 mJy\n",
      "J band: 0.000485415787614439 mJy\n",
      "H band: 0.0007154221770812986 mJy\n",
      "K band: 0.0010823389829936318 mJy\n",
      "Ks band: 0.0011227892083702454 mJy\n",
      "i1 band: 0.005262194284342827 mJy\n",
      "i2 band: 0.007361053004486661 mJy\n",
      "i3 band: 0.009784221453940277 mJy\n",
      "i4 band: 0.01384344896571057 mJy\n",
      "z = 4:\n",
      "u band: 0.0 mJy\n",
      "g band: -3.272347465830504e-22 mJy\n",
      "r band: 9.573845062695628e-22 mJy\n",
      "i band: 3.3793615531415933e-07 mJy\n",
      "z band: 2.6894838911762513e-05 mJy\n",
      "y band: 9.967940931364017e-05 mJy\n",
      "J band: 0.0002054094864758079 mJy\n",
      "H band: 0.00032620894669253467 mJy\n",
      "K band: 0.00045618495686176663 mJy\n",
      "Ks band: 0.00045818407360277084 mJy\n",
      "i1 band: 0.0017383599865512728 mJy\n",
      "i2 band: 0.003362287979960138 mJy\n",
      "i3 band: 0.0047222977091636725 mJy\n",
      "i4 band: 0.006942327606159042 mJy\n"
     ]
    }
   ],
   "source": [
    "\n",
    "\n",
    "\n",
    "gal1 = './data/HELP_J095946.083p021914.438_best_model.fits'\n",
    "gal2 = './data/HELP_J100130.443p020929.494_best_model.fits'\n",
    "gal3 = './data/HELP_J095809.302p013203.775_best_model.fits'\n",
    "gal4 = './data/HELP_J095822.986p013145.336_best_model.figs'\n",
    "gal5 = './data/HELP_J003412.527-441056.846_best_model.fits'  #z=4\n",
    "gal6 = './data/HELP_J095738.934+021508.530_best_model.fits' #From hedam\n",
    "gal7 = './data/HELP_J095818.598+013057.910_best_model.fits'\n",
    "gal8 = './data/HELP_J095809.488+013225.513_best_model.fits'\n",
    "orig_spec = Table.read(gal6)\n",
    "        \n",
    "s = SED()\n",
    "    # This is wrong because the best SED we get from CIGALE is redshifted (written by Yannick)\n",
    "s.add_contribution(\"HELP_SED\", orig_spec['wavelength'], orig_spec['L_lambda_total'])\n",
    "    \n",
    "#z=1\n",
    "zs = np.arange(1, 5, 1)\n",
    "\n",
    "gal_fluxes = np.full([len(zs), len(bands)], np.nan)\n",
    "for n, z in enumerate(zs):\n",
    "    print('z = {}:'.format(z))\n",
    "    sed = s.copy()\n",
    "    mod = get_module(\"redshifting\", redshift=z)\n",
    "    mod.process(sed)\n",
    "    for m, band in enumerate(cigale_filternames):\n",
    "        flux = sed.compute_fnu(cigale_filternames[band])\n",
    "        print(\"{} band: {} mJy\".format(band,flux))\n",
    "        gal_fluxes[n, m] = flux\n"
   ]
  },
  {
   "cell_type": "code",
   "execution_count": 270,
   "metadata": {},
   "outputs": [
    {
     "name": "stdout",
     "output_type": "stream",
     "text": [
      "z = 1:\n",
      "z = 2:\n",
      "z = 3:\n",
      "z = 4:\n"
     ]
    },
    {
     "name": "stderr",
     "output_type": "stream",
     "text": [
      "/Users/rs548/anaconda/envs/herschelhelp_internal/lib/python3.6/site-packages/ipykernel/__main__.py:7: RuntimeWarning: divide by zero encountered in log10\n",
      "/Users/rs548/anaconda/envs/herschelhelp_internal/lib/python3.6/site-packages/ipykernel/__main__.py:7: RuntimeWarning: invalid value encountered in log10\n"
     ]
    },
    {
     "data": {
      "text/plain": [
       "(-7, 0)"
      ]
     },
     "execution_count": 270,
     "metadata": {},
     "output_type": "execute_result"
    },
    {
     "name": "stderr",
     "output_type": "stream",
     "text": [
      "/Users/rs548/anaconda/envs/herschelhelp_internal/lib/python3.6/site-packages/matplotlib/font_manager.py:1297: UserWarning: findfont: Font family ['serif'] not found. Falling back to DejaVu Sans\n",
      "  (prop.get_family(), self.defaultFamily[fontext]))\n"
     ]
    },
    {
     "data": {
      "image/png": "[encoded data removed]",
      "text/plain": [
       "<matplotlib.figure.Figure at 0x82519a7f0>"
      ]
     },
     "metadata": {},
     "output_type": "display_data"
    }
   ],
   "source": [
    "fig, ax = plt.subplots()\n",
    "for n, z in enumerate(zs):\n",
    "    print('z = {}:'.format(z))\n",
    "    sed = s.copy()\n",
    "    mod = get_module(\"redshifting\", redshift=z)\n",
    "    mod.process(sed)\n",
    "    ax.plot(np.log10(sed.wavelength_grid), np.log10(sed.fnu * 1.e-3), label=str(z))\n",
    "#ax.plot(np.log10(orig_spec['wavelength']), np.log10(orig_spec['Fnu']))\n",
    "\n",
    "plt.legend()\n",
    "ax.set_ylim(-7, 0)\n",
    "#ax.set_xlim(0, 14.75)"
   ]
  },
  {
   "cell_type": "code",
   "execution_count": 271,
   "metadata": {},
   "outputs": [
    {
     "data": {
      "text/plain": [
       "array([[ 3.45705182e-04,  2.07275092e-03,  3.56724726e-03,\n",
       "         5.08563008e-03,  5.70808781e-03,  7.60833445e-03,\n",
       "         1.14188342e-02,  3.52287539e-02,  5.21080627e-02,\n",
       "         5.33214663e-02,  9.77960544e-02,  1.14183835e-01,\n",
       "         1.36221946e-01,  1.20250085e-01],\n",
       "       [ 0.00000000e+00,  2.87000030e-05,  3.01844557e-04,\n",
       "         6.77034398e-04,  8.37901584e-04,  1.13400070e-03,\n",
       "         1.45588463e-03,  2.33785930e-03,  5.41484273e-03,\n",
       "         5.98571208e-03,  1.58498569e-02,  2.09690973e-02,\n",
       "         2.76474790e-02,  3.40029072e-02],\n",
       "       [-1.72947656e-22,  1.37306116e-21,  1.29646504e-06,\n",
       "         1.02305609e-04,  1.91977853e-04,  3.51685717e-04,\n",
       "         4.85415788e-04,  7.15422177e-04,  1.08233898e-03,\n",
       "         1.12278921e-03,  5.26219428e-03,  7.36105300e-03,\n",
       "         9.78422145e-03,  1.38434490e-02],\n",
       "       [ 0.00000000e+00, -3.27234747e-22,  9.57384506e-22,\n",
       "         3.37936155e-07,  2.68948389e-05,  9.96794093e-05,\n",
       "         2.05409486e-04,  3.26208947e-04,  4.56184957e-04,\n",
       "         4.58184074e-04,  1.73835999e-03,  3.36228798e-03,\n",
       "         4.72229771e-03,  6.94232761e-03]])"
      ]
     },
     "execution_count": 271,
     "metadata": {},
     "output_type": "execute_result"
    }
   ],
   "source": [
    "gal_fluxes"
   ]
  },
  {
   "cell_type": "code",
   "execution_count": 272,
   "metadata": {},
   "outputs": [],
   "source": [
    "pos = [3561.,     #u  (SDSS)\n",
    "       4866.,     #g  (GPC1)\n",
    "       6215.,     #r  (GPC1)\n",
    "       7545.,     #i  (GPC1)\n",
    "       8680.,     #z  (GPC1)\n",
    "       9633.,     #y  (GPC1)\n",
    "       12510.,    #J  (UKIRT)\n",
    "       16377.,    #H  (UKIRT)\n",
    "       22081.,    #K   (UKIRT)\n",
    "       21496.,    #Ks (WIRCam)\n",
    "       36000.,    #i1\n",
    "       45000.,    #i2 \n",
    "       56000.,    #i3\n",
    "       80000.    #i4\n",
    "      ]   \n",
    "fwhms = [\n",
    "       [3048., 4028.],     #u  (SDSS)\n",
    "       [3943., 5593.],     #g  (GPC1)\n",
    "       [5386., 7036.],     #r  (GPC1)\n",
    "       [6778., 8304.],     #i  (GPC1)\n",
    "       [8028., 9346.],     #z  (GPC1)\n",
    "       [9100., 10838.],     #y  (GPC1)\n",
    "       [11690., 13280],     #J  (UKIRT)\n",
    "       [14920., 17840.],     #H  (UKIRT)\n",
    "       [20290., 23800.],     #K   (UKIRT)\n",
    "       [19578., 23431.],     #Ks (WIRCam)\n",
    "       [31296, 39614 ],     #i1\n",
    "       [39173, 50561],      #i2 \n",
    "       [48983, 65089],     #i3\n",
    "       [62994, 95876]      #i4\n",
    "        ]"
   ]
  },
  {
   "cell_type": "code",
   "execution_count": 273,
   "metadata": {},
   "outputs": [
    {
     "name": "stderr",
     "output_type": "stream",
     "text": [
      "/Users/rs548/anaconda/envs/herschelhelp_internal/lib/python3.6/site-packages/ipykernel/__main__.py:10: RuntimeWarning: divide by zero encountered in log10\n",
      "/Users/rs548/anaconda/envs/herschelhelp_internal/lib/python3.6/site-packages/ipykernel/__main__.py:10: RuntimeWarning: invalid value encountered in log10\n",
      "/Users/rs548/anaconda/envs/herschelhelp_internal/lib/python3.6/site-packages/ipykernel/__main__.py:20: RuntimeWarning: divide by zero encountered in log10\n",
      "/Users/rs548/anaconda/envs/herschelhelp_internal/lib/python3.6/site-packages/ipykernel/__main__.py:21: RuntimeWarning: divide by zero encountered in log10\n",
      "/Users/rs548/anaconda/envs/herschelhelp_internal/lib/python3.6/site-packages/ipykernel/__main__.py:20: RuntimeWarning: invalid value encountered in log10\n",
      "/Users/rs548/anaconda/envs/herschelhelp_internal/lib/python3.6/site-packages/ipykernel/__main__.py:21: RuntimeWarning: invalid value encountered in log10\n"
     ]
    },
    {
     "data": {
      "text/plain": [
       "(3000.0, 100000)"
      ]
     },
     "execution_count": 273,
     "metadata": {},
     "output_type": "execute_result"
    },
    {
     "name": "stderr",
     "output_type": "stream",
     "text": [
      "/Users/rs548/anaconda/envs/herschelhelp_internal/lib/python3.6/site-packages/matplotlib/font_manager.py:1297: UserWarning: findfont: Font family ['serif'] not found. Falling back to DejaVu Sans\n",
      "  (prop.get_family(), self.defaultFamily[fontext]))\n"
     ]
    },
    {
     "data": {
      "image/png": "[encoded data removed]",
      "text/plain": [
       "<matplotlib.figure.Figure at 0x15273dce80>"
      ]
     },
     "metadata": {},
     "output_type": "display_data"
    }
   ],
   "source": [
    "fig, ax = plt.subplots()\n",
    "\n",
    "line_styles = [':', '-.', '--', '-']\n",
    "colours = ['b', 'g', 'r', 'k']\n",
    "for n, z in enumerate(zs):\n",
    "    sed = s.copy()\n",
    "    mod = get_module(\"redshifting\", redshift=z)\n",
    "    mod.process(sed)\n",
    "    ax.plot(sed.wavelength_grid*10, \n",
    "            np.log10(sed.fnu * 1.e-3),\n",
    "            #c='k',\n",
    "            c= colours[n],\n",
    "            #linestyle = line_styles[n],\n",
    "           )\n",
    "    for m, band in enumerate(cigale_filternames):\n",
    "        if m == 0:\n",
    "            lab = 'z = {}'.format(z)\n",
    "        else:\n",
    "            lab=None\n",
    "        ax.plot([fwhms[m][0], fwhms[m][1]], [np.log10(gal_fluxes[n, m]   )-3, \n",
    "                                     np.log10(gal_fluxes[n, m]   )-3], \n",
    "               # c='k',\n",
    "                c= colours[n],\n",
    "               #linestyle = line_styles[n],\n",
    "               label=lab\n",
    "               )\n",
    "\n",
    "\n",
    "plt.legend()\n",
    "plt.xscale('log')\n",
    "ax.set_ylim(-7, -3)\n",
    "ax.set_xlim(3000., 100000)"
   ]
  },
  {
   "cell_type": "code",
   "execution_count": 274,
   "metadata": {},
   "outputs": [
    {
     "name": "stderr",
     "output_type": "stream",
     "text": [
      "/Users/rs548/anaconda/envs/herschelhelp_internal/lib/python3.6/site-packages/ipykernel/__main__.py:85: RuntimeWarning: divide by zero encountered in log10\n",
      "/Users/rs548/anaconda/envs/herschelhelp_internal/lib/python3.6/site-packages/ipykernel/__main__.py:86: RuntimeWarning: divide by zero encountered in log10\n",
      "/Users/rs548/anaconda/envs/herschelhelp_internal/lib/python3.6/site-packages/ipykernel/__main__.py:85: RuntimeWarning: invalid value encountered in log10\n",
      "/Users/rs548/anaconda/envs/herschelhelp_internal/lib/python3.6/site-packages/ipykernel/__main__.py:86: RuntimeWarning: invalid value encountered in log10\n",
      "/Users/rs548/anaconda/envs/herschelhelp_internal/lib/python3.6/site-packages/matplotlib/font_manager.py:1297: UserWarning: findfont: Font family ['serif'] not found. Falling back to DejaVu Sans\n",
      "  (prop.get_family(), self.defaultFamily[fontext]))\n"
     ]
    },
    {
     "data": {
      "image/png": "[encoded data removed]",
      "text/plain": [
       "<matplotlib.figure.Figure at 0x152743ce80>"
      ]
     },
     "metadata": {},
     "output_type": "display_data"
    }
   ],
   "source": [
    "# fake data\n",
    "fs = 10  # fontsize\n",
    "# Angstroms     \n",
    "   \n",
    "#data = np.array([np.array(coverage['ferr_ap_{}_mean_min'.format(b)]) for b in bands]).T\n",
    "\n",
    "cmap = mpl.cm.viridis\n",
    "norm = mpl.colors.Normalize(vmin=np.min(areas), vmax=np.max(areas))\n",
    "scalmap = mpl.cm.ScalarMappable( cmap=cmap, norm=norm)\n",
    "colors = scalmap.to_rgba(areas)   # The color is the angle\n",
    "colors[:, 3] = 1\n",
    "\n",
    "fig, ax = plt.subplots()\n",
    "\n",
    "def set_axis_style(ax, labels, positions=False):\n",
    "    ax.get_xaxis().set_tick_params(direction='out')\n",
    "    ax.xaxis.set_ticks_position('bottom')\n",
    "    if not positions:\n",
    "        ax.set_xticks(np.arange(1, len(labels) + 1))\n",
    "        ax.set_xticklabels(labels)\n",
    "        ax.set_xlim(0.25, len(labels) + 0.75)\n",
    "    else:\n",
    "        ax.set_xticks(positions)\n",
    "        ax.set_xticklabels(labels)\n",
    "        ax.set_xlim(3000., 100000)\n",
    "        plt.xscale('log')\n",
    "    \n",
    "    ax.set_xlabel('band')\n",
    "\n",
    "#ax.violinplot(np.array(coverage['ferr_ap_{}_mean_min'.format('g') ] ) )\n",
    "#ax.set_title('Custom violinplot 1', fontsize=fs)\n",
    "\n",
    "ax.set_ylabel('log10( 5$\\sigma$ Depths  [Jy] )')\n",
    "set_axis_style(ax, ['$' + band + '$' for band in bands])\n",
    "ax.set_ylim(-7, -3)\n",
    "\n",
    "\n",
    "#widths\n",
    "log_widths = np.ones(len(pos)) * (pos) * .2 * widths\n",
    "#areas/np.max(areas)\n",
    "parts = ax.violinplot(data, \n",
    "                      #positions=pos, \n",
    "                      widths=widths, \n",
    "                      showmeans=False, \n",
    "                      showmedians=False, #widths=widths,\n",
    "        showextrema=False)\n",
    "\n",
    "for n, part in enumerate(parts['bodies']):\n",
    "    part.set_facecolor(colors[n])\n",
    "    part.set_alpha(1.)\n",
    "\n",
    "cax, _ = mpl.colorbar.make_axes(ax)\n",
    "n_ticks = 7\n",
    "values = np.linspace(0,1200, n_ticks)\n",
    "ticks = values/np.max(areas)\n",
    "\n",
    "cbar = mpl.colorbar.ColorbarBase(cax, cmap=cmap, ticks = ticks)\n",
    "cax.set_yticklabels([int(d) for d in values])\n",
    "cbar.set_label('Area [square degrees]')\n",
    "\n",
    "plt.rc('font', family='serif', serif='Times')\n",
    "plt.rc('text') #, usetex=True)\n",
    "plt.rc('xtick', labelsize=12)\n",
    "plt.rc('ytick', labelsize=12)\n",
    "plt.rc('axes', labelsize=12)\n",
    "\n",
    "#fig.suptitle(\"Violin Plotting Examples\")\n",
    "#fig.subplots_adjust(hspace=0.4)\n",
    "#plt.ylim(-10,10)\n",
    "column_width_cm = 8.9\n",
    "width_cm = 3.0 * column_width_cm\n",
    "hieght_cm = width_cm / 1.9\n",
    "width_inches = width_cm/2.5\n",
    "hieght_inches = hieght_cm/2.5\n",
    "fig.set_size_inches(width_inches, hieght_inches)\n",
    "\n",
    "\n",
    "line_styles = [':', '-.', '--', '-']\n",
    "for n, z in enumerate(zs):\n",
    "    for m, band in enumerate(cigale_filternames):\n",
    "        if m == 0:\n",
    "            lab = 'z = {}'.format(z)\n",
    "        else:\n",
    "            lab=None\n",
    "        ax.plot([m + 0.5, m + 1.5], [np.log10(gal_fluxes[n, m]  *1.e-3 ), \n",
    "                                     np.log10(gal_fluxes[n, m]  *1.e-3 )], \n",
    "                c='k',\n",
    "               linestyle = line_styles[n],\n",
    "               label=lab\n",
    "               )\n",
    "\n",
    "ax.legend(loc=2)\n",
    "\n",
    "plt.savefig('./figs/band_depths_overviews_areaweighted_with_seds.pdf', bbox_inches='tight')\n",
    "plt.savefig('./figs/band_depths_overviews_areaweighted_with_seds.png', bbox_inches='tight')"
   ]
  },
  {
   "cell_type": "code",
   "execution_count": 286,
   "metadata": {},
   "outputs": [
    {
     "name": "stderr",
     "output_type": "stream",
     "text": [
      "/Users/rs548/anaconda/envs/herschelhelp_internal/lib/python3.6/site-packages/ipykernel/__main__.py:36: RuntimeWarning: divide by zero encountered in log10\n",
      "/Users/rs548/anaconda/envs/herschelhelp_internal/lib/python3.6/site-packages/ipykernel/__main__.py:36: RuntimeWarning: invalid value encountered in log10\n",
      "/Users/rs548/anaconda/envs/herschelhelp_internal/lib/python3.6/site-packages/matplotlib/font_manager.py:1297: UserWarning: findfont: Font family ['serif'] not found. Falling back to DejaVu Sans\n",
      "  (prop.get_family(), self.defaultFamily[fontext]))\n"
     ]
    },
    {
     "data": {
      "image/png": "[encoded data removed]",
      "text/plain": [
       "<matplotlib.figure.Figure at 0x8254155f8>"
      ]
     },
     "metadata": {},
     "output_type": "display_data"
    }
   ],
   "source": [
    "# fake data\n",
    "fs = 10  # fontsize\n",
    "# Angstroms     \n",
    "\n",
    "\n",
    "#data = np.array([np.array(coverage['ferr_ap_{}_mean_min'.format(b)]) for b in bands]).T\n",
    "\n",
    "cmap = mpl.cm.viridis\n",
    "norm = mpl.colors.Normalize(vmin=np.min(areas), vmax=np.max(areas))\n",
    "scalmap = mpl.cm.ScalarMappable( cmap=cmap, norm=norm)\n",
    "colors = scalmap.to_rgba(areas)   # The color is the angle\n",
    "colors[:, 3] = 1\n",
    "\n",
    "fig, ax = plt.subplots()\n",
    "\n",
    "ax2 = ax.twiny()\n",
    "\n",
    "#ax2.set_xlim(3000., 100000)\n",
    "#ax2.set_xticks(pos)\n",
    "#ax2.set_xticklabels(['$' + band + '$' for band in bands])\n",
    "#ax2.set_xlabel('band')\n",
    "#ax2.set_xscale('log')\n",
    "ax2.set_xlim(np.log10(3000.), np.log10(100000))\n",
    "ax2.set_xticks(np.log10(pos))\n",
    "ax2.set_xticklabels(['${}$'.format(band).replace('$Ks$', '').replace('K', 'K/Ks') for band in bands])\n",
    "ax2.set_xlabel('band')\n",
    "#ax2.set_xscale('log')\n",
    "\n",
    "line_styles = [':', '-.', '--', '-']\n",
    "colours = ['y', 'b', 'g', 'r', 'k']\n",
    "for n, z in enumerate([0.25, 1, 2, 3, 4]):\n",
    "    sed = s.copy()\n",
    "    mod = get_module(\"redshifting\", redshift=z)\n",
    "    mod.process(sed)\n",
    "    ax.plot(sed.wavelength_grid*10, \n",
    "            np.log10(sed.fnu * 1.e-3),\n",
    "            #c='k',\n",
    "            c= colours[n],\n",
    "            #linestyle = line_styles[n],\n",
    "            label= 'z = {}'.format(z),\n",
    "            alpha=0.5\n",
    "           )\n",
    "    for m, band in enumerate(cigale_filternames):\n",
    "        continue\n",
    "        if m == 0:\n",
    "            lab = 'z = {}'.format(z)\n",
    "        else:\n",
    "            lab=None\n",
    "        ax.plot([fwhms[m][0], fwhms[m][1]], [np.log10(gal_fluxes[n, m]   )-3, \n",
    "                                     np.log10(gal_fluxes[n, m]   )-3], \n",
    "               # c='k',\n",
    "                c= colours[n],\n",
    "               #linestyle = line_styles[n],\n",
    "               label=lab,\n",
    "                alpha=0.7\n",
    "               )\n",
    "\n",
    "        \n",
    "\n",
    "\n",
    "\n",
    "\n",
    "ax.set_ylabel('log10( 5$\\sigma$ Depths  [Jy] )')\n",
    "\n",
    "#ax.set_xticks(pos)\n",
    "#ax.set_xticklabels(['${}$'.format(band.replace('Ks', '').replace('K', 'K/Ks')) for band in bands])\n",
    "ax.set_xlim(3000., 100000)\n",
    "ax.set_xscale('log')    \n",
    "ax.set_xlabel('Wavelength [nm]')\n",
    "ax.set_ylim(-7, -3)\n",
    "ax.legend(loc=2)\n",
    "\n",
    "#widths\n",
    "log_widths = np.ones(len(pos)) * (pos) * .2 * widths\n",
    "#areas/np.max(areas)\n",
    "parts = ax.violinplot(data, \n",
    "                      positions=pos, \n",
    "                      widths=log_widths, \n",
    "                      showmeans=False, \n",
    "                      showmedians=False, #widths=widths,\n",
    "        showextrema=False)\n",
    "\n",
    "for n, part in enumerate(parts['bodies']):\n",
    "    part.set_facecolor(colors[n])\n",
    "    part.set_alpha(.9)\n",
    "\n",
    "cax, _ = mpl.colorbar.make_axes([ax, ax2])\n",
    "n_ticks = 7\n",
    "values = np.linspace(0,1200, n_ticks)\n",
    "ticks = values/np.max(areas)\n",
    "\n",
    "cbar = mpl.colorbar.ColorbarBase(cax, cmap=cmap, ticks = ticks)\n",
    "cax.set_yticklabels([int(d) for d in values])\n",
    "cbar.set_label('Area [square degrees]')\n",
    "\n",
    "\n",
    "\n",
    "\n",
    "\n",
    "\n",
    "\n",
    "\n",
    "\n",
    "plt.rc('font', family='serif', serif='Times')\n",
    "plt.rc('text') #, usetex=True)\n",
    "plt.rc('xtick', labelsize=12)\n",
    "plt.rc('ytick', labelsize=12)\n",
    "plt.rc('axes', labelsize=12)\n",
    "\n",
    "#fig.suptitle(\"Violin Plotting Examples\")\n",
    "#fig.subplots_adjust(hspace=0.4)\n",
    "#plt.ylim(-10,10)\n",
    "column_width_cm = 8.9\n",
    "width_cm = 3.0 * column_width_cm\n",
    "hieght_cm = width_cm / 1.9\n",
    "width_inches = width_cm/2.5\n",
    "hieght_inches = hieght_cm/2.5\n",
    "fig.set_size_inches(width_inches, hieght_inches)\n",
    "plt.savefig('./figs/band_depths_overviews_areaweighted_with_seds_wave.pdf', bbox_inches='tight')\n",
    "plt.savefig('./figs/band_depths_overviews_areaweighted_with_seds_wave.png', bbox_inches='tight')"
   ]
  },
  {
   "cell_type": "code",
   "execution_count": 284,
   "metadata": {},
   "outputs": [
    {
     "data": {
      "text/plain": [
       "['$u$',\n",
       " '$g$',\n",
       " '$r$',\n",
       " '$i$',\n",
       " '$z$',\n",
       " '$y$',\n",
       " '$J$',\n",
       " '$H$',\n",
       " '$K/Ks$',\n",
       " '',\n",
       " '$i1$',\n",
       " '$i2$',\n",
       " '$i3$',\n",
       " '$i4$']"
      ]
     },
     "execution_count": 284,
     "metadata": {},
     "output_type": "execute_result"
    }
   ],
   "source": [
    "['${}$'.format(band).replace('$Ks$', '').replace('K', 'K/Ks') for band in bands]"
   ]
  },
  {
   "cell_type": "code",
   "execution_count": null,
   "metadata": {},
   "outputs": [],
   "source": []
  },
  {
   "cell_type": "code",
   "execution_count": 158,
   "metadata": {},
   "outputs": [
    {
     "name": "stderr",
     "output_type": "stream",
     "text": [
      "/Users/rs548/anaconda/envs/herschelhelp_internal/lib/python3.6/site-packages/matplotlib/font_manager.py:1297: UserWarning: findfont: Font family ['serif'] not found. Falling back to DejaVu Sans\n",
      "  (prop.get_family(), self.defaultFamily[fontext]))\n"
     ]
    },
    {
     "data": {
      "image/png": "[encoded data removed]",
      "text/plain": [
       "<matplotlib.figure.Figure at 0x8263210f0>"
      ]
     },
     "metadata": {},
     "output_type": "display_data"
    }
   ],
   "source": [
    "\n",
    "\n",
    "fig, ax = plt.subplots()\n",
    "#cmap = mpl.cm.get_cmap('viridis', 256)\n",
    "#norm = mpl.colors.Normalize(vmin=np.min(areas), vmax=np.min(areas))\n",
    "\n",
    "cmap = mpl.cm.viridis\n",
    "norm = mpl.colors.Normalize(vmin=np.min(areas), vmax=np.max(areas))\n",
    "scalmap = mpl.cm.ScalarMappable( cmap=cmap, norm=norm)\n",
    "colors = scalmap.to_rgba(areas)   # The color is the angle\n",
    "colors[:, 3] = 1\n",
    "\n",
    "#cb = mpl.colorbar.ColorbarBase(ax, cmap=cmap,  norm=norm)\n",
    "\n",
    "#cmap = mpl.colors.ListedColormap('viridis')\n",
    "#colors = cmap(np.array(areas))\n",
    "\n",
    "\n",
    "im = plt.scatter(np.arange(len(areas)), areas, c=colors)\n",
    "\n",
    "\n",
    "cax, _ = mpl.colorbar.make_axes(ax)\n",
    "cbar = mpl.colorbar.ColorbarBase(cax, cmap=cmap)\n",
    "cbar.set_label('area [square degrees]')\n",
    "#cax.set_yticklabels(['$-\\pi$', '0', '$\\pi$'])\n",
    "#cb = mpl.colorbar.ColorbarBase(ax, cmap=cmap,  norm=norm)\n",
    "# Optionally add a colorbar\n",
    "#cax, _ = mpl.colorbar.make_axes(ax)\n",
    "#cbar = mpl.colorbar.ColorbarBase(cax, cmap=cmap)\n",
    "\n"
   ]
  },
  {
   "cell_type": "code",
   "execution_count": 101,
   "metadata": {},
   "outputs": [
    {
     "data": {
      "text/plain": [
       "array([[0.993248, 0.906157, 0.143936, 1.      ],\n",
       "       [0.993248, 0.906157, 0.143936, 1.      ],\n",
       "       [0.993248, 0.906157, 0.143936, 1.      ],\n",
       "       [0.993248, 0.906157, 0.143936, 1.      ],\n",
       "       [0.993248, 0.906157, 0.143936, 1.      ],\n",
       "       [0.993248, 0.906157, 0.143936, 1.      ],\n",
       "       [0.993248, 0.906157, 0.143936, 1.      ],\n",
       "       [0.993248, 0.906157, 0.143936, 1.      ],\n",
       "       [0.993248, 0.906157, 0.143936, 1.      ],\n",
       "       [0.993248, 0.906157, 0.143936, 1.      ],\n",
       "       [0.993248, 0.906157, 0.143936, 1.      ],\n",
       "       [0.993248, 0.906157, 0.143936, 1.      ],\n",
       "       [0.993248, 0.906157, 0.143936, 1.      ],\n",
       "       [0.993248, 0.906157, 0.143936, 1.      ]])"
      ]
     },
     "execution_count": 101,
     "metadata": {},
     "output_type": "execute_result"
    }
   ],
   "source": [
    "colors"
   ]
  },
  {
   "cell_type": "code",
   "execution_count": 105,
   "metadata": {},
   "outputs": [
    {
     "name": "stdout",
     "output_type": "stream",
     "text": [
      "(0.9990204970624408, 0.0, 0.0, 1.0) (1.0, 1.0, 0.13529325294031186, 1.0) (0.11366390838104393, 0.0, 0.0, 1.0)\n"
     ]
    },
    {
     "data": {
      "text/plain": [
       "array([[1.        , 0.3387259 , 0.        , 1.        ],\n",
       "       [1.        , 1.        , 1.        , 1.        ],\n",
       "       [1.        , 1.        , 0.98455881, 1.        ],\n",
       "       [1.        , 1.        , 0.98455881, 1.        ],\n",
       "       [1.        , 1.        , 1.        , 1.        ],\n",
       "       [1.        , 1.        , 0.92279404, 1.        ],\n",
       "       [1.        , 1.        , 0.69117616, 1.        ],\n",
       "       [1.        , 1.        , 0.4286759 , 1.        ],\n",
       "       [1.        , 0.26666719, 0.        , 1.        ],\n",
       "       [1.        , 0.64754893, 0.        , 1.        ],\n",
       "       [0.48427829, 0.        , 0.        , 1.        ],\n",
       "       [0.48427829, 0.        , 0.        , 1.        ],\n",
       "       [0.0416    , 0.        , 0.        , 1.        ],\n",
       "       [0.0416    , 0.        , 0.        , 1.        ]])"
      ]
     },
     "execution_count": 105,
     "metadata": {},
     "output_type": "execute_result"
    }
   ],
   "source": [
    "cmap = mpl.cm.hot\n",
    "norm = mpl.colors.Normalize(vmin=np.min(areas), vmax=np.max(areas))\n",
    "scalmap = mpl.cm.ScalarMappable( cmap=cmap, norm=norm)\n",
    "colors = scalmap.to_rgba(areas)  # The color is the angle\n",
    "#colors[:, 3] = 0.5\n",
    "print(scalmap.to_rgba(500),\n",
    "     scalmap.to_rgba(1000),\n",
    "     scalmap.to_rgba(100))\n",
    "colors"
   ]
  },
  {
   "cell_type": "code",
   "execution_count": 396,
   "metadata": {},
   "outputs": [
    {
     "name": "stderr",
     "output_type": "stream",
     "text": [
      "/Users/rs548/anaconda/envs/herschelhelp_internal/lib/python3.6/site-packages/astropy/table/column.py:965: RuntimeWarning: invalid value encountered in greater\n",
      "  return getattr(self.data, op)(other)\n",
      "/Users/rs548/anaconda/envs/herschelhelp_internal/lib/python3.6/site-packages/astropy/table/column.py:965: RuntimeWarning: invalid value encountered in less\n",
      "  return getattr(self.data, op)(other)\n"
     ]
    },
    {
     "data": {
      "text/plain": [
       "(array([3.1700e+02, 3.9170e+03, 1.8860e+03, 4.6520e+03, 7.9220e+03,\n",
       "        8.8520e+03, 1.7800e+03, 4.1160e+03, 1.5802e+04, 1.9840e+03,\n",
       "        1.7110e+03, 3.4500e+02, 6.8800e+02, 3.8800e+02, 1.6600e+02,\n",
       "        8.4000e+01, 1.2800e+02, 1.7700e+02, 2.9000e+02, 4.1800e+02,\n",
       "        6.3400e+02, 1.0740e+03, 2.1020e+03, 3.5980e+03, 4.6770e+03,\n",
       "        4.6920e+03, 3.7840e+03, 2.6940e+03, 2.0660e+03, 1.2660e+03,\n",
       "        6.0700e+02, 2.6800e+02, 1.0300e+02, 5.3000e+01, 3.0000e+01,\n",
       "        1.8000e+01, 8.0000e+00, 6.0000e+00, 3.0000e+00, 2.0000e+00,\n",
       "        0.0000e+00, 1.0000e+00, 0.0000e+00, 1.0000e+00, 0.0000e+00,\n",
       "        1.0000e+00, 0.0000e+00, 0.0000e+00, 0.0000e+00, 2.0000e+00]),\n",
       " array([-6.49291727, -6.39808426, -6.30325125, -6.20841824, -6.11358523,\n",
       "        -6.01875222, -5.92391921, -5.8290862 , -5.73425319, -5.63942018,\n",
       "        -5.54458717, -5.44975416, -5.35492115, -5.26008814, -5.16525513,\n",
       "        -5.07042212, -4.97558911, -4.8807561 , -4.78592309, -4.69109008,\n",
       "        -4.59625707, -4.50142406, -4.40659105, -4.31175804, -4.21692503,\n",
       "        -4.12209202, -4.02725901, -3.932426  , -3.83759299, -3.74275998,\n",
       "        -3.64792697, -3.55309396, -3.45826095, -3.36342794, -3.26859493,\n",
       "        -3.17376192, -3.07892891, -2.9840959 , -2.88926289, -2.79442988,\n",
       "        -2.69959687, -2.60476386, -2.50993085, -2.41509784, -2.32026483,\n",
       "        -2.22543182, -2.13059881, -2.0357658 , -1.94093279, -1.84609978,\n",
       "        -1.75126677]),\n",
       " <a list of 50 Patch objects>)"
      ]
     },
     "execution_count": 396,
     "metadata": {},
     "output_type": "execute_result"
    },
    {
     "name": "stderr",
     "output_type": "stream",
     "text": [
      "/Users/rs548/anaconda/envs/herschelhelp_internal/lib/python3.6/site-packages/matplotlib/font_manager.py:1297: UserWarning: findfont: Font family ['serif'] not found. Falling back to DejaVu Sans\n",
      "  (prop.get_family(), self.defaultFamily[fontext]))\n"
     ]
    },
    {
     "data": {
      "image/png": "[encoded data removed]",
      "text/plain": [
       "<matplotlib.figure.Figure at 0x8c0c51ba8>"
      ]
     },
     "metadata": {},
     "output_type": "display_data"
    }
   ],
   "source": [
    "mask = ~np.isnan(coverage['ferr_ap_{}_mean_min'.format('i1')])\n",
    "mask |= coverage['ferr_ap_{}_mean_min'.format('i1')] > 0.\n",
    "mask |= coverage['ferr_ap_{}_mean_min'.format('i1')] <1.e3\n",
    "plt.hist(np.log10(np.array(coverage['ferr_ap_{}_mean_min'.format('i1')][mask ]) *1.e-6), bins=50)"
   ]
  },
  {
   "cell_type": "code",
   "execution_count": 51,
   "metadata": {},
   "outputs": [
    {
     "data": {
      "text/plain": [
       "[658.24274360834,\n",
       " 1265.8776899239747,\n",
       " 1258.2256518453526,\n",
       " 1259.6749014814552,\n",
       " 1262.9244412210721,\n",
       " 1240.2549563576792,\n",
       " 1167.670093472164,\n",
       " 1087.6650724498024,\n",
       " 626.4075599352846,\n",
       " 796.836096586212,\n",
       " 268.2593281973515,\n",
       " 266.5717575099786,\n",
       " 62.45621820653138,\n",
       " 62.39824822108728]"
      ]
     },
     "execution_count": 51,
     "metadata": {},
     "output_type": "execute_result"
    }
   ],
   "source": [
    "areas"
   ]
  },
  {
   "cell_type": "code",
   "execution_count": 383,
   "metadata": {},
   "outputs": [
    {
     "name": "stderr",
     "output_type": "stream",
     "text": [
      "/Users/rs548/anaconda/envs/herschelhelp_internal/lib/python3.6/site-packages/astropy/table/column.py:965: RuntimeWarning: invalid value encountered in greater\n",
      "  return getattr(self.data, op)(other)\n"
     ]
    },
    {
     "data": {
      "text/plain": [
       "17"
      ]
     },
     "execution_count": 383,
     "metadata": {},
     "output_type": "execute_result"
    }
   ],
   "source": [
    "np.sum(np.log10(coverage['ferr_ap_{}_mean_min'.format('i1')] )  >3)"
   ]
  },
  {
   "cell_type": "code",
   "execution_count": 382,
   "metadata": {},
   "outputs": [
    {
     "name": "stderr",
     "output_type": "stream",
     "text": [
      "/Users/rs548/anaconda/envs/herschelhelp_internal/lib/python3.6/site-packages/astropy/table/column.py:965: RuntimeWarning: invalid value encountered in greater\n",
      "  return getattr(self.data, op)(other)\n"
     ]
    },
    {
     "data": {
      "text/plain": [
       "28723"
      ]
     },
     "execution_count": 382,
     "metadata": {},
     "output_type": "execute_result"
    }
   ],
   "source": [
    "np.sum(coverage['ferr_ap_{}_mean_min'.format('i1')]  >10.)"
   ]
  },
  {
   "cell_type": "markdown",
   "metadata": {},
   "source": [
    "## Summarise the filters"
   ]
  },
  {
   "cell_type": "code",
   "execution_count": 139,
   "metadata": {},
   "outputs": [
    {
     "name": "stdout",
     "output_type": "stream",
     "text": [
      "['omegacam_u', 'mmt_u', 'bessell_u', 'lbc_u', 'wfi_u', 'megacam_u', 'mosaic_u', 'wfc_u', 'sdss_u']\n",
      "['mmt_g', 'omegacam_g', 'suprime_g', 'megacam_g', 'wfc_g', 'gpc1_g', 'decam_g', '90prime_g', 'sdss_g']\n",
      "['omegacam_r', 'mmt_r', 'cfht12k_r', 'megacam_r', 'wfi_r', 'suprime_r', 'mosaic_r', 'bessell_r', 'wfc_r', 'gpc1_r', 'decam_r', 'sdss_r', '90prime_r']\n",
      "['sdss_i', 'decam_i', 'gpc1_i', 'wfc_i', 'bessell_i', 'mosaic_i', 'megacam_i', 'wfi_i', 'suprime_i', 'cfht12k_i', 'mmt_i', 'omegacam_i']\n",
      "['decam_z', '90prime_z', 'sdss_z', 'wfc_z', 'gpc1_z', 'suprime_z', 'megacam_z', 'vista_z', 'mosaic_z', 'omegacam_z', 'mmt_z']\n",
      "['decam_y', 'ukidss_y', 'gpc1_y', 'suprime_y', 'megacam_y', 'vista_y', 'lbc_y', 'wircam_y']\n",
      "['omega2000_j', 'ukidss_j', 'vista_j', 'newfirm_j', 'wircs_j', 'wircam_j']\n",
      "['ukidss_h', 'vista_h', 'newfirm_h', 'wircam_h']\n",
      "['isaac_k', 'moircs_k', 'ukidss_k', 'newfirm_k', 'wircs_k', 'hawki_k']\n",
      "['wircam_ks', 'vista_ks', 'moircs_ks', 'omega2000_ks', 'tifkam_ks']\n",
      "['irac_i1']\n",
      "['irac_i2']\n",
      "['irac_i3']\n",
      "['irac_i4']\n"
     ]
    }
   ],
   "source": [
    "for band in bands:\n",
    "    specific_bands = [f for f in filters if f.split('_')[1] == band.lower()]\n",
    "    print(specific_bands)\n",
    "    for specific_band in specific_bands:\n",
    "        if 'ferr_ap_{}_mean'.format(specific_band) not in coverage.colnames:\n",
    "            specific_bands.remove(specific_band)\n",
    "    #print(specific_bands)"
   ]
  },
  {
   "cell_type": "code",
   "execution_count": 140,
   "metadata": {},
   "outputs": [],
   "source": [
    "filter_info = Table.read(herschelhelp_python_loc + 'documentation/filters.csv')"
   ]
  },
  {
   "cell_type": "code",
   "execution_count": 143,
   "metadata": {},
   "outputs": [
    {
     "data": {
      "text/html": [
       "<i>Table masked=True length=80</i>\n",
       "<table id=\"table35014522808\" class=\"table-striped table-bordered table-condensed\">\n",
       "<thead><tr><th>﻿filter_file</th><th>telescope</th><th>camera</th><th>filter</th><th>surveys</th><th>description</th><th>wavelength_region</th><th>ucd</th></tr></thead>\n",
       "<thead><tr><th>str17</th><th>str83</th><th>str83</th><th>str6</th><th>int64</th><th>int64</th><th>str3</th><th>str12</th></tr></thead>\n",
       "<tr><td>90prime_g.xml</td><td>The Bok Telescope</td><td>The 90-inch prime focus camera (90prime)</td><td>g</td><td>--</td><td>--</td><td>opt</td><td>B</td></tr>\n",
       "<tr><td>90prime_r.xml</td><td>The Bok Telescope</td><td>The 90-inch prime focus camera (90prime)</td><td>r</td><td>--</td><td>--</td><td>opt</td><td>R</td></tr>\n",
       "<tr><td>90prime_z.xml</td><td>The Bok Telescope</td><td>The 90-inch prime focus camera (90prime)</td><td>z</td><td>--</td><td>--</td><td>opt</td><td>I</td></tr>\n",
       "<tr><td>bessell_i.xml</td><td>Standardised telescope response (telescope uknown)</td><td>Standard camera response (camera unknown)</td><td>i</td><td>--</td><td>--</td><td>opt</td><td>I</td></tr>\n",
       "<tr><td>bessell_r.xml</td><td>Standardised telescope response (telescope uknown)</td><td>Standard camera response (camera unknown)</td><td>r</td><td>--</td><td>--</td><td>opt</td><td>R</td></tr>\n",
       "<tr><td>bessell_u.xml</td><td>Standardised telescope response (telescope uknown)</td><td>Standard camera response (camera unknown)</td><td>u</td><td>--</td><td>--</td><td>opt</td><td>U</td></tr>\n",
       "<tr><td>cfht12k_i.xml</td><td>Canada France Hawaii Telescope (CFHT)</td><td>The CFH12K prime focus 12K camera</td><td>i</td><td>--</td><td>--</td><td>opt</td><td>I</td></tr>\n",
       "<tr><td>cfht12k_r.xml</td><td>Canada France Hawaii Telescope (CFHT)</td><td>The CFH12K prime focus 12K camera</td><td>r</td><td>--</td><td>--</td><td>opt</td><td>R</td></tr>\n",
       "<tr><td>decam_g.xml</td><td>Blanco</td><td>The Dark Energy Camera (DECam)</td><td>g</td><td>--</td><td>--</td><td>opt</td><td>B</td></tr>\n",
       "<tr><td>decam_i.xml</td><td>Blanco</td><td>The Dark Energy Camera (DECam)</td><td>i</td><td>--</td><td>--</td><td>opt</td><td>I</td></tr>\n",
       "<tr><td>...</td><td>...</td><td>...</td><td>...</td><td>...</td><td>...</td><td>...</td><td>...</td></tr>\n",
       "<tr><td>wfc_r.xml</td><td>Isaac Newton Telescope (INT)</td><td>The Wide Field Camera (WFC)</td><td>r</td><td>--</td><td>--</td><td>opt</td><td>R</td></tr>\n",
       "<tr><td>wfc_u.xml</td><td>Isaac Newton Telescope (INT)</td><td>The Wide Field Camera (WFC)</td><td>u</td><td>--</td><td>--</td><td>opt</td><td>U</td></tr>\n",
       "<tr><td>wfc_z.xml</td><td>Isaac Newton Telescope (INT)</td><td>The Wide Field Camera (WFC)</td><td>z</td><td>--</td><td>--</td><td>opt</td><td>I</td></tr>\n",
       "<tr><td>wfi_i.xml</td><td>The Max Planck Gesellschaft (MPG) telescope</td><td>The Wide Field Imager (WFI)</td><td>i</td><td>--</td><td>--</td><td>opt</td><td>I</td></tr>\n",
       "<tr><td>wfi_u.xml</td><td>The Max Planck Gesellschaft (MPG) telescope</td><td>The Wide Field Imager (WFI)</td><td>u</td><td>--</td><td>--</td><td>opt</td><td>U</td></tr>\n",
       "<tr><td>wircam_h.xml</td><td>Canada France Hawaii Telescope (CFHT)</td><td>Wide-field InfraRed Camera (WIRCam)</td><td>H</td><td>--</td><td>--</td><td>IR</td><td>H</td></tr>\n",
       "<tr><td>wircam_j.xml</td><td>Canada France Hawaii Telescope (CFHT)</td><td>Wide-field InfraRed Camera (WIRCam)</td><td>J</td><td>--</td><td>--</td><td>IR</td><td>J</td></tr>\n",
       "<tr><td>wircam_ks.xml</td><td>Canada France Hawaii Telescope (CFHT)</td><td>Wide-field InfraRed Camera (WIRCam)</td><td>Ks</td><td>--</td><td>--</td><td>IR</td><td>K</td></tr>\n",
       "<tr><td>wircs_j.xml</td><td>Palomar 200-inch Hale Telescope (P200)</td><td>Wide Infrared Camera (WIRC)</td><td>J</td><td>--</td><td>--</td><td>IR</td><td>J</td></tr>\n",
       "<tr><td>wircs_k.xml</td><td>Palomar 200-inch Hale Telescope (P200)</td><td>Wide Infrared Camera (WIRC)</td><td>Ks</td><td>--</td><td>--</td><td>IR</td><td>K</td></tr>\n",
       "</table>"
      ],
      "text/plain": [
       "<Table masked=True length=80>\n",
       " ﻿filter_file                     telescope                      ...  ucd \n",
       "    str17                           str83                        ... str12\n",
       "------------- -------------------------------------------------- ... -----\n",
       "90prime_g.xml                                  The Bok Telescope ...     B\n",
       "90prime_r.xml                                  The Bok Telescope ...     R\n",
       "90prime_z.xml                                  The Bok Telescope ...     I\n",
       "bessell_i.xml Standardised telescope response (telescope uknown) ...     I\n",
       "bessell_r.xml Standardised telescope response (telescope uknown) ...     R\n",
       "bessell_u.xml Standardised telescope response (telescope uknown) ...     U\n",
       "cfht12k_i.xml              Canada France Hawaii Telescope (CFHT) ...     I\n",
       "cfht12k_r.xml              Canada France Hawaii Telescope (CFHT) ...     R\n",
       "  decam_g.xml                                             Blanco ...     B\n",
       "  decam_i.xml                                             Blanco ...     I\n",
       "          ...                                                ... ...   ...\n",
       "    wfc_r.xml                       Isaac Newton Telescope (INT) ...     R\n",
       "    wfc_u.xml                       Isaac Newton Telescope (INT) ...     U\n",
       "    wfc_z.xml                       Isaac Newton Telescope (INT) ...     I\n",
       "    wfi_i.xml        The Max Planck Gesellschaft (MPG) telescope ...     I\n",
       "    wfi_u.xml        The Max Planck Gesellschaft (MPG) telescope ...     U\n",
       " wircam_h.xml              Canada France Hawaii Telescope (CFHT) ...     H\n",
       " wircam_j.xml              Canada France Hawaii Telescope (CFHT) ...     J\n",
       "wircam_ks.xml              Canada France Hawaii Telescope (CFHT) ...     K\n",
       "  wircs_j.xml             Palomar 200-inch Hale Telescope (P200) ...     J\n",
       "  wircs_k.xml             Palomar 200-inch Hale Telescope (P200) ...     K"
      ]
     },
     "execution_count": 143,
     "metadata": {},
     "output_type": "execute_result"
    }
   ],
   "source": [
    "has_broad_typical = np.full(len(filter_info), False)\n",
    "for band in bands:\n",
    "    has_broad_typical |= filter_info['filter'] == band\n",
    "    \n",
    "filter_info[has_broad_typical]"
   ]
  },
  {
   "cell_type": "code",
   "execution_count": 144,
   "metadata": {},
   "outputs": [],
   "source": [
    "has_optical = np.full(len(filter_info), False)\n",
    "optical_bands = ['u', 'g', 'r', 'i', 'z', 'y']\n",
    "has_near_infrared = np.full(len(filter_info), False)\n",
    "near_infrared_bands = ['J', 'H', 'K', 'Ks']\n",
    "\n",
    "for band in bands:\n",
    "    if band in optical_bands:\n",
    "        has_optical |= filter_info['filter'] == band\n",
    "    if band in near_infrared_bands:\n",
    "        has_near_infrared |= filter_info['filter'] == band"
   ]
  },
  {
   "cell_type": "code",
   "execution_count": 165,
   "metadata": {},
   "outputs": [
    {
     "name": "stdout",
     "output_type": "stream",
     "text": [
      "$grizy$\n"
     ]
    }
   ],
   "source": [
    "def get_bands(camera):\n",
    "    band_list = []\n",
    "    for b in filter_info['filter'][filter_info['camera'] == camera]:\n",
    "        #print(b)\n",
    "        band_list.append( b)\n",
    "    band_list_ordered_string = ''\n",
    "    for band in bands:\n",
    "        if band in band_list:\n",
    "            band_list_ordered_string += band\n",
    "    \n",
    "    return '$' + band_list_ordered_string + '$'\n",
    "\n",
    "\n",
    "\n",
    "print(get_bands('HyperSuprimeCam'))"
   ]
  },
  {
   "cell_type": "code",
   "execution_count": 166,
   "metadata": {},
   "outputs": [
    {
     "name": "stdout",
     "output_type": "stream",
     "text": [
      "From HyperSuprimeCam on the Subaru telescope we have the optical bands $grizy$. From MegaCam on the Multiple Mirror Telescope (MMT) Observatory we have the optical bands $ugriz$. From MegaPrime/MegaCam on Canada France Hawaii Telescope (CFHT) we have the optical bands $ugrizy$. From Mosaic-3 Wide Field Imager on the Kitt Peak National Observatory we have the optical bands $uriz$. From OmegaCAM on the Very Large Telescope (VLT) Survey Telescope (VST) at Paranal we have the optical bands $ugriz$. From the 90-inch prime focus camera (90prime) on the Bok Telescope we have the optical bands $grz$. From the CFH12K prime focus 12K camera on Canada France Hawaii Telescope (CFHT) we have the optical bands $ri$. From the Dark Energy Camera (DECam) on Blanco we have the optical bands $grizy$. From the Pan-STARRS Gigapixel Camera on the Panoramic Survey Telescope and Rapid Response System (Pan-STARRS) we have the optical bands $grizy$. From the Sloan Digital Sky Survey (SDSS) standard camera on the Sloan Digital Sky Survey (SDSS) dedicated telescope at Apache Point Observatory we have the optical bands $ugriz$. From the Wide Field Camera (WFC) on Isaac Newton Telescope (INT) we have the optical bands $ugriz$. From the Wide Field Imager (WFI) on the Max Planck Gesellschaft (MPG) telescope we have the optical bands $ui$. \n"
     ]
    }
   ],
   "source": [
    "\n",
    "\n",
    "optical_sentence = ''\n",
    "for camera in np.unique(filter_info['camera'][has_optical]):\n",
    "    if camera == 'Standard camera response (camera unknown)':\n",
    "        continue\n",
    "    row = filter_info[filter_info['camera'] == camera][0] \n",
    "    optical_sentence += 'From {} on {} we have the optical bands {}. '.format(row['camera'].replace('The', 'the'), \n",
    "                                                             row['telescope'].replace('The', 'the'),\n",
    "                                                             get_bands(camera))\n",
    "    \n",
    "print(optical_sentence)"
   ]
  },
  {
   "cell_type": "code",
   "execution_count": 169,
   "metadata": {},
   "outputs": [
    {
     "name": "stdout",
     "output_type": "stream",
     "text": [
      "From National Optical Astronomy Observatory (NOAO) Extremely Wide-Field Imager (NEWFIRM) on National Optical Astronomy Observatory (NOAO) Gemini Observatory we have the optical bands $JHK$. From the High Acuity Wide field K-band Imager (HAWK-I) on the Very Large Telescope (VLT) at Paranal we have the optical bands $K$. From the Infrared Spectrometer And Array Camera (ISAAC) on the Very Large Telescope (VLT) at Paranal we have the optical bands $Ks$. From the Infrared Wide-Field Camera OMEGA2000 on the 3.5m telescope at Calar Alto we have the optical bands $JKs$. From the Instrument Formerly Known as Mosaic (TIFKAM) on the Michigan Dartmouth MIT (MDM) Observatory we have the optical bands $Ks$. From the Multi Object Infrared Camera and Spectrograph (MOIRCS) on the Subaru telescope we have the optical bands $KKs$. From the VISTA InfraRed CAMera (VIRCAM) on the 4.1m Visible and Infrared Survey Telescope for Astronomy (VISTA) we have the optical bands $JHKs$. From the Wide Field Camera (WFCAM) on the United Kingdom Infrared Telescope (UKIRT) we have the optical bands $JHK$. From Wide Infrared Camera (WIRC) on Palomar 200-inch Hale Telescope (P200) we have the optical bands $JKs$. From Wide-field InfraRed Camera (WIRCam) on Canada France Hawaii Telescope (CFHT) we have the optical bands $JHKs$. \n"
     ]
    }
   ],
   "source": [
    "near_infrared_sentence = ''\n",
    "for camera in np.unique(filter_info['camera'][has_near_infrared]):\n",
    "    if camera == 'Standard camera response (camera unknown)':\n",
    "        continue\n",
    "    row = filter_info[filter_info['camera'] == camera][0] \n",
    "    near_infrared_sentence += 'From {} on {} we have the optical bands {}. '.format(row['camera'].replace('The', 'the'), \n",
    "                                                             row['telescope'].replace('The', 'the'),\n",
    "                                                             get_bands(camera))\n",
    "    \n",
    "print(near_infrared_sentence)"
   ]
  },
  {
   "cell_type": "markdown",
   "metadata": {},
   "source": [
    "## Count the number of flagged objects\n",
    "\n",
    "For each band lets count the number of objects that have a flag"
   ]
  },
  {
   "cell_type": "code",
   "execution_count": 186,
   "metadata": {},
   "outputs": [
    {
     "name": "stdout",
     "output_type": "stream",
     "text": [
      "Job still running after 0 seconds.\n",
      "ERROR\n"
     ]
    },
    {
     "ename": "DALQueryError",
     "evalue": "Field query: Could not parse your query: Expected numeric expression (at char 21), (line:1, col:22)",
     "output_type": "error",
     "traceback": [
      "\u001b[0;31m---------------------------------------------------------------------------\u001b[0m",
      "\u001b[0;31mMissingSchema\u001b[0m                             Traceback (most recent call last)",
      "\u001b[0;32m~/anaconda/envs/herschelhelp_internal/lib/python3.6/site-packages/pyvo/dal/tap.py\u001b[0m in \u001b[0;36mfetch_result\u001b[0;34m(self)\u001b[0m\n\u001b[1;32m    602\u001b[0m         \u001b[0;32mtry\u001b[0m\u001b[0;34m:\u001b[0m\u001b[0;34m\u001b[0m\u001b[0;34m\u001b[0m\u001b[0m\n\u001b[0;32m--> 603\u001b[0;31m             \u001b[0mresponse\u001b[0m \u001b[0;34m=\u001b[0m \u001b[0mrequests\u001b[0m\u001b[0;34m.\u001b[0m\u001b[0mget\u001b[0m\u001b[0;34m(\u001b[0m\u001b[0mself\u001b[0m\u001b[0;34m.\u001b[0m\u001b[0mresult_uri\u001b[0m\u001b[0;34m,\u001b[0m \u001b[0mstream\u001b[0m\u001b[0;34m=\u001b[0m\u001b[0;32mTrue\u001b[0m\u001b[0;34m)\u001b[0m\u001b[0;34m\u001b[0m\u001b[0;34m\u001b[0m\u001b[0m\n\u001b[0m\u001b[1;32m    604\u001b[0m             \u001b[0mresponse\u001b[0m\u001b[0;34m.\u001b[0m\u001b[0mraise_for_status\u001b[0m\u001b[0;34m(\u001b[0m\u001b[0;34m)\u001b[0m\u001b[0;34m\u001b[0m\u001b[0;34m\u001b[0m\u001b[0m\n",
      "\u001b[0;32m~/anaconda/envs/herschelhelp_internal/lib/python3.6/site-packages/requests/api.py\u001b[0m in \u001b[0;36mget\u001b[0;34m(url, params, **kwargs)\u001b[0m\n\u001b[1;32m     71\u001b[0m     \u001b[0mkwargs\u001b[0m\u001b[0;34m.\u001b[0m\u001b[0msetdefault\u001b[0m\u001b[0;34m(\u001b[0m\u001b[0;34m'allow_redirects'\u001b[0m\u001b[0;34m,\u001b[0m \u001b[0;32mTrue\u001b[0m\u001b[0;34m)\u001b[0m\u001b[0;34m\u001b[0m\u001b[0;34m\u001b[0m\u001b[0m\n\u001b[0;32m---> 72\u001b[0;31m     \u001b[0;32mreturn\u001b[0m \u001b[0mrequest\u001b[0m\u001b[0;34m(\u001b[0m\u001b[0;34m'get'\u001b[0m\u001b[0;34m,\u001b[0m \u001b[0murl\u001b[0m\u001b[0;34m,\u001b[0m \u001b[0mparams\u001b[0m\u001b[0;34m=\u001b[0m\u001b[0mparams\u001b[0m\u001b[0;34m,\u001b[0m \u001b[0;34m**\u001b[0m\u001b[0mkwargs\u001b[0m\u001b[0;34m)\u001b[0m\u001b[0;34m\u001b[0m\u001b[0;34m\u001b[0m\u001b[0m\n\u001b[0m\u001b[1;32m     73\u001b[0m \u001b[0;34m\u001b[0m\u001b[0m\n",
      "\u001b[0;32m~/anaconda/envs/herschelhelp_internal/lib/python3.6/site-packages/requests/api.py\u001b[0m in \u001b[0;36mrequest\u001b[0;34m(method, url, **kwargs)\u001b[0m\n\u001b[1;32m     57\u001b[0m     \u001b[0;32mwith\u001b[0m \u001b[0msessions\u001b[0m\u001b[0;34m.\u001b[0m\u001b[0mSession\u001b[0m\u001b[0;34m(\u001b[0m\u001b[0;34m)\u001b[0m \u001b[0;32mas\u001b[0m \u001b[0msession\u001b[0m\u001b[0;34m:\u001b[0m\u001b[0;34m\u001b[0m\u001b[0;34m\u001b[0m\u001b[0m\n\u001b[0;32m---> 58\u001b[0;31m         \u001b[0;32mreturn\u001b[0m \u001b[0msession\u001b[0m\u001b[0;34m.\u001b[0m\u001b[0mrequest\u001b[0m\u001b[0;34m(\u001b[0m\u001b[0mmethod\u001b[0m\u001b[0;34m=\u001b[0m\u001b[0mmethod\u001b[0m\u001b[0;34m,\u001b[0m \u001b[0murl\u001b[0m\u001b[0;34m=\u001b[0m\u001b[0murl\u001b[0m\u001b[0;34m,\u001b[0m \u001b[0;34m**\u001b[0m\u001b[0mkwargs\u001b[0m\u001b[0;34m)\u001b[0m\u001b[0;34m\u001b[0m\u001b[0;34m\u001b[0m\u001b[0m\n\u001b[0m\u001b[1;32m     59\u001b[0m \u001b[0;34m\u001b[0m\u001b[0m\n",
      "\u001b[0;32m~/anaconda/envs/herschelhelp_internal/lib/python3.6/site-packages/requests/sessions.py\u001b[0m in \u001b[0;36mrequest\u001b[0;34m(self, method, url, params, data, headers, cookies, files, auth, timeout, allow_redirects, proxies, hooks, stream, verify, cert, json)\u001b[0m\n\u001b[1;32m    497\u001b[0m         )\n\u001b[0;32m--> 498\u001b[0;31m         \u001b[0mprep\u001b[0m \u001b[0;34m=\u001b[0m \u001b[0mself\u001b[0m\u001b[0;34m.\u001b[0m\u001b[0mprepare_request\u001b[0m\u001b[0;34m(\u001b[0m\u001b[0mreq\u001b[0m\u001b[0;34m)\u001b[0m\u001b[0;34m\u001b[0m\u001b[0;34m\u001b[0m\u001b[0m\n\u001b[0m\u001b[1;32m    499\u001b[0m \u001b[0;34m\u001b[0m\u001b[0m\n",
      "\u001b[0;32m~/anaconda/envs/herschelhelp_internal/lib/python3.6/site-packages/requests/sessions.py\u001b[0m in \u001b[0;36mprepare_request\u001b[0;34m(self, request)\u001b[0m\n\u001b[1;32m    440\u001b[0m             \u001b[0mcookies\u001b[0m\u001b[0;34m=\u001b[0m\u001b[0mmerged_cookies\u001b[0m\u001b[0;34m,\u001b[0m\u001b[0;34m\u001b[0m\u001b[0;34m\u001b[0m\u001b[0m\n\u001b[0;32m--> 441\u001b[0;31m             \u001b[0mhooks\u001b[0m\u001b[0;34m=\u001b[0m\u001b[0mmerge_hooks\u001b[0m\u001b[0;34m(\u001b[0m\u001b[0mrequest\u001b[0m\u001b[0;34m.\u001b[0m\u001b[0mhooks\u001b[0m\u001b[0;34m,\u001b[0m \u001b[0mself\u001b[0m\u001b[0;34m.\u001b[0m\u001b[0mhooks\u001b[0m\u001b[0;34m)\u001b[0m\u001b[0;34m,\u001b[0m\u001b[0;34m\u001b[0m\u001b[0;34m\u001b[0m\u001b[0m\n\u001b[0m\u001b[1;32m    442\u001b[0m         )\n",
      "\u001b[0;32m~/anaconda/envs/herschelhelp_internal/lib/python3.6/site-packages/requests/models.py\u001b[0m in \u001b[0;36mprepare\u001b[0;34m(self, method, url, headers, files, data, params, auth, cookies, hooks, json)\u001b[0m\n\u001b[1;32m    308\u001b[0m         \u001b[0mself\u001b[0m\u001b[0;34m.\u001b[0m\u001b[0mprepare_method\u001b[0m\u001b[0;34m(\u001b[0m\u001b[0mmethod\u001b[0m\u001b[0;34m)\u001b[0m\u001b[0;34m\u001b[0m\u001b[0;34m\u001b[0m\u001b[0m\n\u001b[0;32m--> 309\u001b[0;31m         \u001b[0mself\u001b[0m\u001b[0;34m.\u001b[0m\u001b[0mprepare_url\u001b[0m\u001b[0;34m(\u001b[0m\u001b[0murl\u001b[0m\u001b[0;34m,\u001b[0m \u001b[0mparams\u001b[0m\u001b[0;34m)\u001b[0m\u001b[0;34m\u001b[0m\u001b[0;34m\u001b[0m\u001b[0m\n\u001b[0m\u001b[1;32m    310\u001b[0m         \u001b[0mself\u001b[0m\u001b[0;34m.\u001b[0m\u001b[0mprepare_headers\u001b[0m\u001b[0;34m(\u001b[0m\u001b[0mheaders\u001b[0m\u001b[0;34m)\u001b[0m\u001b[0;34m\u001b[0m\u001b[0;34m\u001b[0m\u001b[0m\n",
      "\u001b[0;32m~/anaconda/envs/herschelhelp_internal/lib/python3.6/site-packages/requests/models.py\u001b[0m in \u001b[0;36mprepare_url\u001b[0;34m(self, url, params)\u001b[0m\n\u001b[1;32m    382\u001b[0m \u001b[0;34m\u001b[0m\u001b[0m\n\u001b[0;32m--> 383\u001b[0;31m             \u001b[0;32mraise\u001b[0m \u001b[0mMissingSchema\u001b[0m\u001b[0;34m(\u001b[0m\u001b[0merror\u001b[0m\u001b[0;34m)\u001b[0m\u001b[0;34m\u001b[0m\u001b[0;34m\u001b[0m\u001b[0m\n\u001b[0m\u001b[1;32m    384\u001b[0m \u001b[0;34m\u001b[0m\u001b[0m\n",
      "\u001b[0;31mMissingSchema\u001b[0m: Invalid URL 'None': No schema supplied. Perhaps you meant http://None?",
      "\nDuring handling of the above exception, another exception occurred:\n",
      "\u001b[0;31mDALQueryError\u001b[0m                             Traceback (most recent call last)",
      "\u001b[0;32m<ipython-input-186-535ce0352cbd>\u001b[0m in \u001b[0;36m<module>\u001b[0;34m()\u001b[0m\n\u001b[1;32m     21\u001b[0m \u001b[0;34m\u001b[0m\u001b[0m\n\u001b[1;32m     22\u001b[0m \u001b[0mprint\u001b[0m\u001b[0;34m(\u001b[0m\u001b[0mjob\u001b[0m\u001b[0;34m.\u001b[0m\u001b[0mphase\u001b[0m\u001b[0;34m)\u001b[0m\u001b[0;34m\u001b[0m\u001b[0;34m\u001b[0m\u001b[0m\n\u001b[0;32m---> 23\u001b[0;31m \u001b[0mtable\u001b[0m \u001b[0;34m=\u001b[0m \u001b[0mjob_result\u001b[0m\u001b[0;34m.\u001b[0m\u001b[0mfetch_result\u001b[0m\u001b[0;34m(\u001b[0m\u001b[0;34m)\u001b[0m\u001b[0;34m\u001b[0m\u001b[0;34m\u001b[0m\u001b[0m\n\u001b[0m",
      "\u001b[0;32m~/anaconda/envs/herschelhelp_internal/lib/python3.6/site-packages/pyvo/dal/tap.py\u001b[0m in \u001b[0;36mfetch_result\u001b[0;34m(self)\u001b[0m\n\u001b[1;32m    606\u001b[0m             \u001b[0mself\u001b[0m\u001b[0;34m.\u001b[0m\u001b[0m_update\u001b[0m\u001b[0;34m(\u001b[0m\u001b[0;34m)\u001b[0m\u001b[0;34m\u001b[0m\u001b[0;34m\u001b[0m\u001b[0m\n\u001b[1;32m    607\u001b[0m             \u001b[0;31m# we propably got a 404 because query error. raise with error msg\u001b[0m\u001b[0;34m\u001b[0m\u001b[0;34m\u001b[0m\u001b[0;34m\u001b[0m\u001b[0m\n\u001b[0;32m--> 608\u001b[0;31m             \u001b[0mself\u001b[0m\u001b[0;34m.\u001b[0m\u001b[0mraise_if_error\u001b[0m\u001b[0;34m(\u001b[0m\u001b[0;34m)\u001b[0m\u001b[0;34m\u001b[0m\u001b[0;34m\u001b[0m\u001b[0m\n\u001b[0m\u001b[1;32m    609\u001b[0m             \u001b[0;32mraise\u001b[0m \u001b[0mDALServiceError\u001b[0m\u001b[0;34m.\u001b[0m\u001b[0mfrom_except\u001b[0m\u001b[0;34m(\u001b[0m\u001b[0mex\u001b[0m\u001b[0;34m,\u001b[0m \u001b[0mself\u001b[0m\u001b[0;34m.\u001b[0m\u001b[0murl\u001b[0m\u001b[0;34m)\u001b[0m\u001b[0;34m\u001b[0m\u001b[0;34m\u001b[0m\u001b[0m\n\u001b[1;32m    610\u001b[0m \u001b[0;34m\u001b[0m\u001b[0m\n",
      "\u001b[0;32m~/anaconda/envs/herschelhelp_internal/lib/python3.6/site-packages/pyvo/dal/tap.py\u001b[0m in \u001b[0;36mraise_if_error\u001b[0;34m(self)\u001b[0m\n\u001b[1;32m    594\u001b[0m             raise DALQueryError(\n\u001b[1;32m    595\u001b[0m                 \u001b[0mself\u001b[0m\u001b[0;34m.\u001b[0m\u001b[0m_job\u001b[0m\u001b[0;34m.\u001b[0m\u001b[0mget\u001b[0m\u001b[0;34m(\u001b[0m\u001b[0;34m\"message\"\u001b[0m\u001b[0;34m,\u001b[0m \u001b[0;34m\"Unknown Query Error\"\u001b[0m\u001b[0;34m)\u001b[0m\u001b[0;34m,\u001b[0m\u001b[0;34m\u001b[0m\u001b[0;34m\u001b[0m\u001b[0m\n\u001b[0;32m--> 596\u001b[0;31m                 self.phase, self.url)\n\u001b[0m\u001b[1;32m    597\u001b[0m \u001b[0;34m\u001b[0m\u001b[0m\n\u001b[1;32m    598\u001b[0m     \u001b[0;32mdef\u001b[0m \u001b[0mfetch_result\u001b[0m\u001b[0;34m(\u001b[0m\u001b[0mself\u001b[0m\u001b[0;34m)\u001b[0m\u001b[0;34m:\u001b[0m\u001b[0;34m\u001b[0m\u001b[0;34m\u001b[0m\u001b[0m\n",
      "\u001b[0;31mDALQueryError\u001b[0m: Field query: Could not parse your query: Expected numeric expression (at char 21), (line:1, col:22)"
     ]
    }
   ],
   "source": [
    "\n",
    "# Import the module\n",
    "\n",
    "# Setting up the service object \n",
    "service = vo.dal.TAPService(\"https://herschel-vos.phys.sussex.ac.uk/__system__/tap/run/tap\")\n",
    "# Downloading the data\n",
    "query = \"SELECT COUNT(DISTINCT) FROM herschelhelp.main\" \n",
    "    \n",
    "\n",
    "\n",
    "#Then we execute the query\n",
    "#resultset = service.run_async(irac_i1_query)\n",
    "job = service.submit_job(query)\n",
    "job.run()\n",
    "job_url = job.url\n",
    "job_result = vo.dal.tap.AsyncTAPJob(job_url)\n",
    "start_time = time.time()\n",
    "while job.phase == 'EXECUTING':\n",
    "    print('Job still running after {} seconds.'.format(round(time.time() - start_time)))\n",
    "    time.sleep(50) #wait ten seconds and try again\n",
    "    \n",
    "print(job.phase)\n",
    "table = job_result.fetch_result() "
   ]
  },
  {
   "cell_type": "code",
   "execution_count": 181,
   "metadata": {},
   "outputs": [
    {
     "data": {
      "text/html": [
       "<i>Table masked=True length=2</i>\n",
       "<table id=\"table34944814888\" class=\"table-striped table-bordered table-condensed\">\n",
       "<thead><tr><th>flag_sdss_g</th></tr></thead>\n",
       "<thead><tr><th>bool</th></tr></thead>\n",
       "<tr><td>False</td></tr>\n",
       "<tr><td>--</td></tr>\n",
       "</table>"
      ],
      "text/plain": [
       "<Table masked=True length=2>\n",
       "flag_sdss_g\n",
       "    bool   \n",
       "-----------\n",
       "      False\n",
       "         --"
      ]
     },
     "execution_count": 181,
     "metadata": {},
     "output_type": "execute_result"
    }
   ],
   "source": [
    "table.table"
   ]
  },
  {
   "cell_type": "code",
   "execution_count": null,
   "metadata": {},
   "outputs": [],
   "source": []
  }
 ],
 "metadata": {
  "anaconda-cloud": {},
  "kernelspec": {
   "display_name": "Python (herschelhelp_internal)",
   "language": "python",
   "name": "helpint"
  }
 },
 "nbformat": 4,
 "nbformat_minor": 1
}
