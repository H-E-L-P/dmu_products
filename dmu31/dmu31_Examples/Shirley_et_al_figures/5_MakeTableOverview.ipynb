{
 "cells": [
  {
   "cell_type": "code",
   "execution_count": 1,
   "metadata": {
    "collapsed": true
   },
   "outputs": [],
   "source": [
    "%matplotlib inline\n",
    "import vaex as vx\n",
    "from astropy import units as u\n",
    "from astropy.coordinates import SkyCoord\n",
    "from astropy.table import Column, Table, join\n",
    "from astropy.cosmology import FlatLambdaCDM\n",
    "\n",
    "import numpy as np\n",
    "\n",
    "import ipyvolume as ipv"
   ]
  },
  {
   "cell_type": "code",
   "execution_count": 2,
   "metadata": {
    "collapsed": true
   },
   "outputs": [],
   "source": [
    "overview = Table.read(\"../dmu32/dr1_data_products_overview_20180627.csv\")"
   ]
  },
  {
   "cell_type": "code",
   "execution_count": 3,
   "metadata": {},
   "outputs": [
    {
     "data": {
      "text/html": [
       "<i>Table length=23</i>\n",
       "<table id=\"table4570441040\" class=\"table-striped table-bordered table-condensed\">\n",
       "<thead><tr><th>field</th><th>dr1_suffix</th><th>last_suffix</th><th>objects</th><th>area_sq_degrees</th><th>file_size_bytes</th><th>file_size_readable</th><th>xid_objects</th><th>photoz_objects</th><th>cigale_objects</th></tr></thead>\n",
       "<thead><tr><th>str18</th><th>int64</th><th>int64</th><th>int64</th><th>float64</th><th>int64</th><th>str9</th><th>int64</th><th>int64</th><th>int64</th></tr></thead>\n",
       "<tr><td>AKARI-NEP</td><td>20180215</td><td>20180215</td><td>531746</td><td>9.19473235878</td><td>348848640</td><td>348.85 MB</td><td>0</td><td>0</td><td>0</td></tr>\n",
       "<tr><td>AKARI-SEP</td><td>20180221</td><td>20180221</td><td>844172</td><td>8.71330647513</td><td>538606080</td><td>538.61 MB</td><td>0</td><td>0</td><td>0</td></tr>\n",
       "<tr><td>Bootes</td><td>20180520</td><td>20180520</td><td>3481661</td><td>11.428152991</td><td>5002044480</td><td>5 GB</td><td>0</td><td>0</td><td>0</td></tr>\n",
       "<tr><td>CDFS-SWIRE</td><td>20180613</td><td>20180613</td><td>2171051</td><td>12.9712464037</td><td>5705593920</td><td>5.71 GB</td><td>240489</td><td>139532</td><td>9308</td></tr>\n",
       "<tr><td>COSMOS</td><td>20180619</td><td>20180619</td><td>2599374</td><td>5.0838634785</td><td>10517175360</td><td>10.52 GB</td><td>44310</td><td>694478</td><td>15747</td></tr>\n",
       "<tr><td>EGS</td><td>20180501</td><td>20180501</td><td>1412613</td><td>3.56638327512</td><td>3808480320</td><td>3.81 GB</td><td>0</td><td>1183490</td><td>0</td></tr>\n",
       "<tr><td>ELAIS-N1</td><td>20171016</td><td>20180216</td><td>4026292</td><td>13.5074845555</td><td>5242279680</td><td>5.24 GB</td><td>120282</td><td>2885116</td><td>50129</td></tr>\n",
       "<tr><td>ELAIS-N2</td><td>20180218</td><td>20180218</td><td>1783240</td><td>9.16747990399</td><td>2007964800</td><td>2.01 GB</td><td>0</td><td>0</td><td>0</td></tr>\n",
       "<tr><td>ELAIS-S1</td><td>20180416</td><td>20180416</td><td>1655564</td><td>9.00294064689</td><td>1970156160</td><td>1.97 GB</td><td>194276</td><td>1102319</td><td>25393</td></tr>\n",
       "<tr><td>GAMA-09</td><td>20180601</td><td>20180601</td><td>12937982</td><td>62.0139341728</td><td>19911611520</td><td>19.91 GB</td><td>1386659</td><td>8834023</td><td>130293</td></tr>\n",
       "<tr><td>...</td><td>...</td><td>...</td><td>...</td><td>...</td><td>...</td><td>...</td><td>...</td><td>...</td><td>...</td></tr>\n",
       "<tr><td>Herschel-Stripe-82</td><td>20180307</td><td>20180307</td><td>50196455</td><td>363.227479306</td><td>127047306240</td><td>127.05 GB</td><td>0</td><td>21613821</td><td>0</td></tr>\n",
       "<tr><td>Lockman-SWIRE</td><td>20180219</td><td>20180219</td><td>4366298</td><td>22.4138634029</td><td>5195931840</td><td>5.2 GB</td><td>242065</td><td>1382438</td><td>46719</td></tr>\n",
       "<tr><td>NGP</td><td>20180219</td><td>20180501</td><td>6759591</td><td>177.698197108</td><td>4954806720</td><td>4.95 GB</td><td>0</td><td>3175339</td><td>0</td></tr>\n",
       "<tr><td>SA13</td><td>20180501</td><td>20180501</td><td>9799</td><td>0.274163793284</td><td>2721600</td><td>2.72 MB</td><td>0</td><td>0</td><td>0</td></tr>\n",
       "<tr><td>SGP</td><td>20180221</td><td>20180221</td><td>29790690</td><td>294.56845409</td><td>45192530880</td><td>45.19 GB</td><td>3511594</td><td>17057212</td><td>0</td></tr>\n",
       "<tr><td>SPIRE-NEP</td><td>20180220</td><td>20180220</td><td>2674</td><td>0.128066046938</td><td>1203840</td><td>1.2 MB</td><td>0</td><td>0</td><td>0</td></tr>\n",
       "<tr><td>SSDF</td><td>20180221</td><td>20180221</td><td>12661903</td><td>111.116249493</td><td>8078319360</td><td>8.08 GB</td><td>0</td><td>9268783</td><td>0</td></tr>\n",
       "<tr><td>xFLS</td><td>20180501</td><td>20180501</td><td>977148</td><td>7.44043242141</td><td>1050474240</td><td>1.05 GB</td><td>0</td><td>0</td><td>0</td></tr>\n",
       "<tr><td>XMM-13hr</td><td>20180501</td><td>20180501</td><td>38629</td><td>0.757024016658</td><td>10676160</td><td>10.68 MB</td><td>0</td><td>0</td><td>0</td></tr>\n",
       "<tr><td>XMM-LSS</td><td>20180504</td><td>20180504</td><td>8705837</td><td>21.7545793933</td><td>28241838720</td><td>28.24 GB</td><td>0</td><td>6152920</td><td>0</td></tr>\n",
       "</table>"
      ],
      "text/plain": [
       "<Table length=23>\n",
       "      field        dr1_suffix last_suffix ... photoz_objects cigale_objects\n",
       "      str18          int64       int64    ...     int64          int64     \n",
       "------------------ ---------- ----------- ... -------------- --------------\n",
       "         AKARI-NEP   20180215    20180215 ...              0              0\n",
       "         AKARI-SEP   20180221    20180221 ...              0              0\n",
       "            Bootes   20180520    20180520 ...              0              0\n",
       "        CDFS-SWIRE   20180613    20180613 ...         139532           9308\n",
       "            COSMOS   20180619    20180619 ...         694478          15747\n",
       "               EGS   20180501    20180501 ...        1183490              0\n",
       "          ELAIS-N1   20171016    20180216 ...        2885116          50129\n",
       "          ELAIS-N2   20180218    20180218 ...              0              0\n",
       "          ELAIS-S1   20180416    20180416 ...        1102319          25393\n",
       "           GAMA-09   20180601    20180601 ...        8834023         130293\n",
       "               ...        ...         ... ...            ...            ...\n",
       "Herschel-Stripe-82   20180307    20180307 ...       21613821              0\n",
       "     Lockman-SWIRE   20180219    20180219 ...        1382438          46719\n",
       "               NGP   20180219    20180501 ...        3175339              0\n",
       "              SA13   20180501    20180501 ...              0              0\n",
       "               SGP   20180221    20180221 ...       17057212              0\n",
       "         SPIRE-NEP   20180220    20180220 ...              0              0\n",
       "              SSDF   20180221    20180221 ...        9268783              0\n",
       "              xFLS   20180501    20180501 ...              0              0\n",
       "          XMM-13hr   20180501    20180501 ...              0              0\n",
       "           XMM-LSS   20180504    20180504 ...        6152920              0"
      ]
     },
     "execution_count": 3,
     "metadata": {},
     "output_type": "execute_result"
    }
   ],
   "source": [
    "overview"
   ]
  },
  {
   "cell_type": "code",
   "execution_count": 5,
   "metadata": {},
   "outputs": [
    {
     "name": "stderr",
     "output_type": "stream",
     "text": [
      "WARNING: AstropyDeprecationWarning: overview_table.tex already exists. Automatically overwriting ASCII files is deprecated. Use the argument 'overwrite=True' in the future. [astropy.io.ascii.ui]\n",
      "WARNING:MainThread:astropy:AstropyDeprecationWarning: overview_table.tex already exists. Automatically overwriting ASCII files is deprecated. Use the argument 'overwrite=True' in the future.\n"
     ]
    }
   ],
   "source": [
    "overview['field', \n",
    "         'area_sq_degrees', \n",
    "         'objects', \n",
    "         'xid_objects', \n",
    "         'photoz_objects', \n",
    "         'cigale_objects'].write('overview_table.tex')"
   ]
  },
  {
   "cell_type": "code",
   "execution_count": null,
   "metadata": {
    "collapsed": true
   },
   "outputs": [],
   "source": [
    "np.sum()"
   ]
  },
  {
   "cell_type": "code",
   "execution_count": 1,
   "metadata": {},
   "outputs": [],
   "source": [
    "from astropy.table import Table, Column\n",
    "from astropy import units as u\n",
    "from astropy.io import fits\n",
    "from astropy.coordinates import SkyCoord\n",
    "\n",
    "import numpy as np\n",
    "\n",
    "import re\n",
    "\n",
    "import yaml\n",
    "\n",
    "import glob\n",
    "\n",
    "from shutil import copyfile\n",
    "\n",
    "\n",
    "import os\n",
    "import time\n",
    "\n",
    "import humanfriendly\n",
    "\n",
    "def name_to_ra_dec(help_id):\n",
    "    \"\"\"Take a HELP id and return the ra dec in deg\n",
    "    \n",
    "    parameters\n",
    "    ----------\n",
    "    \n",
    "    help_id: string\n",
    "       The help ID\n",
    "       \n",
    "    returns\n",
    "    -------\n",
    "    \n",
    "    ra: flaot\n",
    "       Right Ascension in degrees\n",
    "       \n",
    "    dec: float\n",
    "        Declination in degrees\n",
    "    \"\"\"\n",
    "    if '-' in help_id:\n",
    "        ra, dec = help_id.strip('HELP_J').split('-')\n",
    "        dec = '-' + dec\n",
    "    if '+' in help_id:\n",
    "        ra, dec = help_id.strip('HELP_J').split('+')\n",
    "        dec = '+' + dec\n",
    "    \n",
    "    ra = ra[:2] + 'h' + ra[2:]\n",
    "    ra = ra[:5] + 'm' + ra[5:]\n",
    "    ra = ra + 's' \n",
    "    \n",
    "    \n",
    "    \n",
    "    dec = dec[:3] + 'd' + dec[3:]\n",
    "    dec = dec[:6] + 'm' + dec[6:]\n",
    "    dec = dec + 's'\n",
    "    \n",
    "    coords = SkyCoord('{} {}'.format(ra, dec))\n",
    "    \n",
    "    return coords.ra.value, coords.dec.value"
   ]
  },
  {
   "cell_type": "code",
   "execution_count": 3,
   "metadata": {},
   "outputs": [],
   "source": [
    "ids = Table.read('cdfs_ids.fits')"
   ]
  },
  {
   "cell_type": "code",
   "execution_count": 11,
   "metadata": {},
   "outputs": [],
   "source": [
    "ra_max = 0.0\n",
    "for gal in ids:\n",
    "    ra, dec = name_to_ra_dec(gal[0])\n",
    "    if ra > ra_max:\n",
    "        ra_max = ra\n",
    "    if ra == np.nan:\n",
    "        print(ra, dec, 'bad ra')\n",
    "    if dec == np.nan:\n",
    "        print(ra, dec, 'bad dec')\n",
    "    "
   ]
  },
  {
   "cell_type": "code",
   "execution_count": 12,
   "metadata": {},
   "outputs": [
    {
     "data": {
      "text/plain": [
       "51.701924999999996"
      ]
     },
     "execution_count": 12,
     "metadata": {},
     "output_type": "execute_result"
    }
   ],
   "source": [
    "ra_max"
   ]
  },
  {
   "cell_type": "code",
   "execution_count": null,
   "metadata": {},
   "outputs": [],
   "source": []
  }
 ],
 "metadata": {
  "kernelspec": {
   "display_name": "Python (herschelhelp_internal)",
   "language": "python",
   "name": "helpint"
  },
  "language_info": {
   "codemirror_mode": {
    "name": "ipython",
    "version": 3
   },
   "file_extension": ".py",
   "mimetype": "text/x-python",
   "name": "python",
   "nbconvert_exporter": "python",
   "pygments_lexer": "ipython3",
   "version": "3.6.5"
  }
 },
 "nbformat": 4,
 "nbformat_minor": 2
}
