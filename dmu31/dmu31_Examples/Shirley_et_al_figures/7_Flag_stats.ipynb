{
 "cells": [
  {
   "cell_type": "markdown",
   "metadata": {},
   "source": [
    "# Plot stats of the band flags\n",
    "\n",
    "Plot a histogram for some key g and k bands as a function of PanSTARRS g magnitude"
   ]
  },
  {
   "cell_type": "code",
   "execution_count": 10,
   "metadata": {},
   "outputs": [
    {
     "name": "stderr",
     "output_type": "stream",
     "text": [
      "/Users/rs548/anaconda/envs/herschelhelp_internal/lib/python3.6/site-packages/matplotlib/__init__.py:1405: UserWarning: \n",
      "This call to matplotlib.use() has no effect because the backend has already\n",
      "been chosen; matplotlib.use() must be called *before* pylab, matplotlib.pyplot,\n",
      "or matplotlib.backends is imported for the first time.\n",
      "\n",
      "  warnings.warn(_use_error_msg)\n"
     ]
    }
   ],
   "source": [
    "%matplotlib inline\n",
    "#%config InlineBackend.figure_format = 'svg'\n",
    "\n",
    "import matplotlib as mpl\n",
    "mpl.use('pdf')\n",
    "import matplotlib.pyplot as plt\n",
    "import pyvo as vo\n",
    "import time\n",
    "\n",
    "import numpy as np"
   ]
  },
  {
   "cell_type": "code",
   "execution_count": 2,
   "metadata": {},
   "outputs": [],
   "source": [
    "service = vo.dal.TAPService(\n",
    "    \"https://herschel-vos.phys.sussex.ac.uk/__system__/tap/run/tap\"\n",
    ")"
   ]
  },
  {
   "cell_type": "code",
   "execution_count": 3,
   "metadata": {},
   "outputs": [],
   "source": [
    "flag_query=\"\"\"SELECT\n",
    "m_gpc1_g,\n",
    "flag_mmt_g, \n",
    "flag_omegacam_g, \n",
    "flag_suprime_g, \n",
    "flag_megacam_g, \n",
    "flag_wfc_g, \n",
    "flag_gpc1_g, \n",
    "flag_decam_g, \n",
    "flag_90prime_g, \n",
    "flag_sdss_g,\n",
    "flag_isaac_k, \n",
    "flag_moircs_k, \n",
    "flag_ukidss_k, \n",
    "flag_newfirm_k, \n",
    "flag_wircs_k, \n",
    "flag_hawki_k,\n",
    "flag_wircam_ks, \n",
    "flag_vista_ks, \n",
    "flag_moircs_ks, \n",
    "flag_omega2000_ks, \n",
    "flag_tifkam_ks\n",
    "FROM herschelhelp.main\n",
    "WHERE m_gpc1_g IS NOT NULL\"\"\""
   ]
  },
  {
   "cell_type": "code",
   "execution_count": 15,
   "metadata": {},
   "outputs": [
    {
     "name": "stdout",
     "output_type": "stream",
     "text": [
      "Job COMPLETED after 595 seconds.\n"
     ]
    },
    {
     "name": "stderr",
     "output_type": "stream",
     "text": [
      "WARNING: W35: None:2:1052: W35: 'value' attribute required for INFO elements [astropy.io.votable.tree]\n"
     ]
    }
   ],
   "source": [
    "job = service.submit_job(flag_query)\n",
    "job.run()\n",
    "job_url = job.url\n",
    "job_result = vo.dal.tap.AsyncTAPJob(job_url)\n",
    "start_time = time.time()\n",
    "wait = 5.\n",
    "while job.phase == 'EXECUTING':\n",
    "    \n",
    "    time.sleep(wait) #wait and try again\n",
    "    #wait *= 2\n",
    "\n",
    "print('Job {} after {} seconds.'.format(job.phase, round(time.time() - start_time)))\n",
    "\n",
    "result = job_result.fetch_result()\n",
    "flags = result.table"
   ]
  },
  {
   "cell_type": "code",
   "execution_count": 18,
   "metadata": {},
   "outputs": [],
   "source": [
    "flags.write('./data/flags.fits', overwrite=True)"
   ]
  },
  {
   "cell_type": "code",
   "execution_count": null,
   "metadata": {},
   "outputs": [],
   "source": [
    "#flags = Table.read('./data/flags.fits')"
   ]
  },
  {
   "cell_type": "code",
   "execution_count": 16,
   "metadata": {},
   "outputs": [
    {
     "data": {
      "text/plain": [
       "16473810"
      ]
     },
     "execution_count": 16,
     "metadata": {},
     "output_type": "execute_result"
    }
   ],
   "source": [
    "len(flags)"
   ]
  },
  {
   "cell_type": "code",
   "execution_count": 19,
   "metadata": {},
   "outputs": [
    {
     "data": {
      "text/html": [
       "<i>Table masked=True length=10</i>\n",
       "<table id=\"table34830740000-393115\" class=\"table-striped table-bordered table-condensed\">\n",
       "<thead><tr><th>idx</th><th>m_gpc1_g</th><th>flag_mmt_g</th><th>flag_omegacam_g</th><th>flag_suprime_g</th><th>flag_megacam_g</th><th>flag_wfc_g</th><th>flag_gpc1_g</th><th>flag_decam_g</th><th>flag_90prime_g</th><th>flag_sdss_g</th><th>flag_isaac_k</th><th>flag_moircs_k</th><th>flag_ukidss_k</th><th>flag_newfirm_k</th><th>flag_wircs_k</th><th>flag_hawki_k</th><th>flag_wircam_ks</th><th>flag_vista_ks</th><th>flag_moircs_ks</th><th>flag_omega2000_ks</th><th>flag_tifkam_ks</th></tr></thead>\n",
       "<thead><tr><th></th><th>mag</th><th></th><th></th><th></th><th></th><th></th><th></th><th></th><th></th><th></th><th></th><th></th><th></th><th></th><th></th><th></th><th></th><th></th><th></th><th></th><th></th></tr></thead>\n",
       "<tr><td>0</td><td>22.8649997711182</td><td>--</td><td>--</td><td>--</td><td>--</td><td>--</td><td>False</td><td>--</td><td>--</td><td>--</td><td>--</td><td>--</td><td>--</td><td>--</td><td>--</td><td>--</td><td>--</td><td>--</td><td>--</td><td>--</td><td>--</td></tr>\n",
       "<tr><td>1</td><td>21.6070003509521</td><td>--</td><td>--</td><td>--</td><td>--</td><td>--</td><td>False</td><td>--</td><td>--</td><td>--</td><td>--</td><td>--</td><td>--</td><td>--</td><td>--</td><td>--</td><td>--</td><td>--</td><td>--</td><td>--</td><td>--</td></tr>\n",
       "<tr><td>2</td><td>20.7877006530762</td><td>--</td><td>--</td><td>--</td><td>--</td><td>--</td><td>False</td><td>--</td><td>--</td><td>--</td><td>--</td><td>--</td><td>--</td><td>--</td><td>--</td><td>--</td><td>--</td><td>--</td><td>--</td><td>--</td><td>--</td></tr>\n",
       "<tr><td>3</td><td>23.6667995452881</td><td>--</td><td>--</td><td>--</td><td>--</td><td>--</td><td>False</td><td>--</td><td>--</td><td>--</td><td>--</td><td>--</td><td>--</td><td>--</td><td>--</td><td>--</td><td>--</td><td>--</td><td>--</td><td>--</td><td>--</td></tr>\n",
       "<tr><td>4</td><td>21.6905002593994</td><td>--</td><td>--</td><td>--</td><td>--</td><td>--</td><td>False</td><td>--</td><td>--</td><td>--</td><td>--</td><td>--</td><td>--</td><td>--</td><td>--</td><td>--</td><td>--</td><td>--</td><td>--</td><td>--</td><td>--</td></tr>\n",
       "<tr><td>5</td><td>22.8159008026123</td><td>--</td><td>--</td><td>--</td><td>--</td><td>--</td><td>False</td><td>--</td><td>--</td><td>--</td><td>--</td><td>--</td><td>--</td><td>--</td><td>--</td><td>--</td><td>--</td><td>--</td><td>--</td><td>--</td><td>--</td></tr>\n",
       "<tr><td>6</td><td>23.5333995819092</td><td>--</td><td>--</td><td>--</td><td>--</td><td>--</td><td>False</td><td>--</td><td>--</td><td>--</td><td>--</td><td>--</td><td>--</td><td>--</td><td>--</td><td>--</td><td>--</td><td>--</td><td>--</td><td>--</td><td>--</td></tr>\n",
       "<tr><td>7</td><td>22.300500869751</td><td>--</td><td>--</td><td>--</td><td>--</td><td>--</td><td>False</td><td>--</td><td>--</td><td>--</td><td>--</td><td>--</td><td>--</td><td>--</td><td>--</td><td>--</td><td>--</td><td>--</td><td>--</td><td>--</td><td>--</td></tr>\n",
       "<tr><td>8</td><td>16.4899005889893</td><td>--</td><td>--</td><td>--</td><td>--</td><td>--</td><td>False</td><td>--</td><td>--</td><td>--</td><td>--</td><td>--</td><td>--</td><td>--</td><td>--</td><td>--</td><td>--</td><td>--</td><td>--</td><td>--</td><td>--</td></tr>\n",
       "<tr><td>9</td><td>22.5300998687744</td><td>--</td><td>--</td><td>--</td><td>--</td><td>--</td><td>False</td><td>--</td><td>--</td><td>--</td><td>--</td><td>--</td><td>--</td><td>--</td><td>--</td><td>--</td><td>--</td><td>--</td><td>--</td><td>--</td><td>--</td></tr>\n",
       "</table><style>table.dataTable {clear: both; width: auto !important; margin: 0 !important;}\n",
       ".dataTables_info, .dataTables_length, .dataTables_filter, .dataTables_paginate{\n",
       "display: inline-block; margin-right: 1em; }\n",
       ".paginate_button { margin-right: 5px; }\n",
       "</style>\n",
       "<script>\n",
       "\n",
       "var astropy_sort_num = function(a, b) {\n",
       "    var a_num = parseFloat(a);\n",
       "    var b_num = parseFloat(b);\n",
       "\n",
       "    if (isNaN(a_num) && isNaN(b_num))\n",
       "        return ((a < b) ? -1 : ((a > b) ? 1 : 0));\n",
       "    else if (!isNaN(a_num) && !isNaN(b_num))\n",
       "        return ((a_num < b_num) ? -1 : ((a_num > b_num) ? 1 : 0));\n",
       "    else\n",
       "        return isNaN(a_num) ? -1 : 1;\n",
       "}\n",
       "\n",
       "require.config({paths: {\n",
       "    datatables: 'https://cdn.datatables.net/1.10.12/js/jquery.dataTables.min'\n",
       "}});\n",
       "require([\"datatables\"], function(){\n",
       "    console.log(\"$('#table34830740000-393115').dataTable()\");\n",
       "    \n",
       "jQuery.extend( jQuery.fn.dataTableExt.oSort, {\n",
       "    \"optionalnum-asc\": astropy_sort_num,\n",
       "    \"optionalnum-desc\": function (a,b) { return -astropy_sort_num(a, b); }\n",
       "});\n",
       "\n",
       "    $('#table34830740000-393115').dataTable({\n",
       "        order: [],\n",
       "        pageLength: 50,\n",
       "        lengthMenu: [[10, 25, 50, 100, 500, 1000, -1], [10, 25, 50, 100, 500, 1000, 'All']],\n",
       "        pagingType: \"full_numbers\",\n",
       "        columnDefs: [{targets: [0, 1], type: \"optionalnum\"}]\n",
       "    });\n",
       "});\n",
       "</script>\n"
      ],
      "text/plain": [
       "<IPython.core.display.HTML object>"
      ]
     },
     "execution_count": 19,
     "metadata": {},
     "output_type": "execute_result"
    }
   ],
   "source": [
    "flags[:10].show_in_notebook()"
   ]
  },
  {
   "cell_type": "code",
   "execution_count": 14,
   "metadata": {},
   "outputs": [
    {
     "data": {
      "text/html": [
       "&lt;Column name=&apos;flag_mmt_g&apos; dtype=&apos;bool&apos; description=&apos;Flag set to true for sources for which niether the mmt_g aperture nor total flux should be used for SED fitting (see documentation).&apos; length=2&gt;\n",
       "<table>\n",
       "<tr><td>False</td></tr>\n",
       "<tr><td>True</td></tr>\n",
       "</table>"
      ],
      "text/plain": [
       "<Column name='flag_mmt_g' dtype='bool' description='Flag set to true for sources for which niether the mmt_g aperture nor total flux should be used for SED fitting (see documentation).' length=2>\n",
       "False\n",
       " True"
      ]
     },
     "execution_count": 14,
     "metadata": {},
     "output_type": "execute_result"
    }
   ],
   "source": [
    "np.unique(flags['flag_mmt_g'])"
   ]
  },
  {
   "cell_type": "code",
   "execution_count": 11,
   "metadata": {},
   "outputs": [],
   "source": [
    "bins = np.linspace(10, 30, 100)"
   ]
  },
  {
   "cell_type": "code",
   "execution_count": 21,
   "metadata": {},
   "outputs": [],
   "source": [
    "flag_cols = [\n",
    "    \"flag_mmt_g\", \n",
    "    \"flag_omegacam_g\", \n",
    "    \"flag_suprime_g\", \n",
    "    \"flag_megacam_g\", \n",
    "    \"flag_wfc_g\", \n",
    "    \"flag_gpc1_g\", \n",
    "    \"flag_decam_g\", \n",
    "    \"flag_90prime_g\", \n",
    "    \"flag_sdss_g\",\n",
    "    \"flag_isaac_k\", \n",
    "    \"flag_moircs_k\", \n",
    "    \"flag_ukidss_k\", \n",
    "    \"flag_newfirm_k\", \n",
    "    \"flag_wircs_k\", \n",
    "    \"flag_hawki_k\",\n",
    "    \"flag_wircam_ks\", \n",
    "    \"flag_vista_ks\", \n",
    "    \"flag_moircs_ks\", \n",
    "    \"flag_omega2000_ks\", \n",
    "    \"flag_tifkam_ks\"\n",
    "]"
   ]
  },
  {
   "cell_type": "code",
   "execution_count": 22,
   "metadata": {},
   "outputs": [],
   "source": [
    "def make_flag_counts(table, bins, flag_col):\n",
    "    frac = np.full(len(bins)-1, np.nan)\n",
    "    for n, b in enumerate(bins[:-1]):\n",
    "        mask = table['m_gpc1_g'] > bins[n]\n",
    "        mask &= table['m_gpc1_g'] < bins[n+1]\n",
    "        flagged = np.sum(table[mask][flag_col])\n",
    "        not_flagged = np.sum(~table[mask][flag_col])\n",
    "        frac[n] = flagged/not_flagged\n",
    "    return frac\n",
    "        "
   ]
  },
  {
   "cell_type": "code",
   "execution_count": 37,
   "metadata": {},
   "outputs": [
    {
     "name": "stdout",
     "output_type": "stream",
     "text": [
      "flag_mmt_g: total: 55742, True: 0, False: 55742\n"
     ]
    },
    {
     "name": "stderr",
     "output_type": "stream",
     "text": [
      "/Users/rs548/anaconda/envs/herschelhelp_internal/lib/python3.6/site-packages/ipykernel/__main__.py:8: UserWarning: Warning: converting a masked element to nan.\n"
     ]
    },
    {
     "name": "stdout",
     "output_type": "stream",
     "text": [
      "flag_omegacam_g: total: 5055312, True: 0, False: 5055312\n",
      "flag_suprime_g: total: 11031667, True: 0, False: 11031667\n",
      "flag_megacam_g: total: 9127570, True: 0, False: 9127570\n",
      "flag_wfc_g: total: 979238, True: 0, False: 979238\n",
      "flag_gpc1_g: total: 16473810, True: 12595, False: 16461215\n",
      "flag_decam_g: total: 11799615, True: 402, False: 11799213\n",
      "flag_90prime_g: total: 3303325, True: 0, False: 3303325\n",
      "flag_sdss_g: total: 6382965, True: 0, False: 6382965\n",
      "flag_isaac_k: total: 0, True: 0.0, False: 0.0\n",
      "flag_moircs_k: total: 9543, True: 0, False: 9543\n",
      "flag_ukidss_k: total: 14065742, True: 0, False: 14065742\n",
      "flag_newfirm_k: total: 55742, True: 0, False: 55742\n",
      "flag_wircs_k: total: 55742, True: 2, False: 55740\n",
      "flag_hawki_k: total: 361338, True: 0, False: 361338\n",
      "flag_wircam_ks: total: 6933990, True: 0, False: 6933990\n",
      "flag_vista_ks: total: 11799615, True: 0, False: 11799615\n",
      "flag_moircs_ks: total: 55742, True: 0, False: 55742\n",
      "flag_omega2000_ks: total: 55742, True: 0, False: 55742\n",
      "flag_tifkam_ks: total: 0, True: 0.0, False: 0.0\n"
     ]
    }
   ],
   "source": [
    "flag_counts = {}\n",
    "for col in flag_cols:\n",
    "    print(\"{} total: {}, True: {}, False: {}\".format(\n",
    "        col,\n",
    "        np.sum(~flags[col].mask), \n",
    "        np.sum(flags[col]), \n",
    "        np.sum(~flags[col])\n",
    "    ))\n",
    "    flag_counts.update({col: make_flag_counts(flags, bins, col)})"
   ]
  },
  {
   "cell_type": "code",
   "execution_count": 40,
   "metadata": {},
   "outputs": [
    {
     "data": {
      "text/plain": [
       "[<matplotlib.lines.Line2D at 0xe7315fa20>]"
      ]
     },
     "execution_count": 40,
     "metadata": {},
     "output_type": "execute_result"
    },
    {
     "data": {
      "image/png": "[encoded data removed]",
      "text/plain": [
       "<matplotlib.figure.Figure at 0xe7315f9b0>"
      ]
     },
     "metadata": {},
     "output_type": "display_data"
    }
   ],
   "source": [
    "fig, ax = plt.subplots()\n",
    "\n",
    "ax.plot(bins[:-1]+(bins[1] - bins[0])/2, flag_counts['flag_gpc1_g'], label=f)\n",
    "    \n",
    "#ax.legend()\n",
    "#ax.set_xscale([15,26])\n",
    "#ax.set_yscale(0,1)\n",
    "    "
   ]
  },
  {
   "cell_type": "code",
   "execution_count": 44,
   "metadata": {},
   "outputs": [],
   "source": [
    "gpc_query=\"\"\"SELECT\n",
    "m_gpc1_g,\n",
    "flag_gpc1_g, \n",
    "m_gpc1_r,\n",
    "flag_gpc1_r, \n",
    "m_gpc1_i,\n",
    "flag_gpc1_i, \n",
    "m_gpc1_z,\n",
    "flag_gpc1_z, \n",
    "m_gpc1_y,\n",
    "flag_gpc1_y\n",
    "FROM herschelhelp.main\n",
    "WHERE m_gpc1_g IS NOT NULL\n",
    "OR m_gpc1_r IS NOT NULL\n",
    "OR m_gpc1_i IS NOT NULL\n",
    "OR m_gpc1_z IS NOT NULL\n",
    "OR m_gpc1_y IS NOT NULL\n",
    "\"\"\""
   ]
  },
  {
   "cell_type": "code",
   "execution_count": 45,
   "metadata": {},
   "outputs": [
    {
     "name": "stdout",
     "output_type": "stream",
     "text": [
      "Job COMPLETED after 603 seconds.\n"
     ]
    },
    {
     "name": "stderr",
     "output_type": "stream",
     "text": [
      "WARNING: W35: None:2:954: W35: 'value' attribute required for INFO elements [astropy.io.votable.tree]\n"
     ]
    }
   ],
   "source": [
    "job = service.submit_job(gpc_query)\n",
    "job.run()\n",
    "job_url = job.url\n",
    "job_result = vo.dal.tap.AsyncTAPJob(job_url)\n",
    "start_time = time.time()\n",
    "wait = 5.\n",
    "while job.phase == 'EXECUTING':\n",
    "    \n",
    "    time.sleep(wait) #wait and try again\n",
    "    #wait *= 2\n",
    "\n",
    "print('Job {} after {} seconds.'.format(job.phase, round(time.time() - start_time)))\n",
    "\n",
    "result = job_result.fetch_result()\n",
    "gpcflags = result.table"
   ]
  },
  {
   "cell_type": "code",
   "execution_count": 46,
   "metadata": {},
   "outputs": [
    {
     "name": "stdout",
     "output_type": "stream",
     "text": [
      "flag_gpc1_g total: 17754704, True: 12682, False: 17742022\n"
     ]
    },
    {
     "name": "stderr",
     "output_type": "stream",
     "text": [
      "/Users/rs548/anaconda/envs/herschelhelp_internal/lib/python3.6/site-packages/astropy/table/column.py:965: RuntimeWarning: invalid value encountered in greater\n",
      "  return getattr(self.data, op)(other)\n",
      "/Users/rs548/anaconda/envs/herschelhelp_internal/lib/python3.6/site-packages/astropy/table/column.py:965: RuntimeWarning: invalid value encountered in less\n",
      "  return getattr(self.data, op)(other)\n"
     ]
    },
    {
     "name": "stdout",
     "output_type": "stream",
     "text": [
      "flag_gpc1_r total: 17754704, True: 17004, False: 17737700\n",
      "flag_gpc1_i total: 17754704, True: 16475, False: 17738229\n",
      "flag_gpc1_z total: 17754704, True: 14029, False: 17740675\n",
      "flag_gpc1_y total: 17754704, True: 6485, False: 17748219\n"
     ]
    }
   ],
   "source": [
    "gpc_counts = {}\n",
    "for col in ['g','r','i','z','y']:\n",
    "    col = \"flag_gpc1_{}\".format(col)\n",
    "    print(\"{} total: {}, True: {}, False: {}\".format(\n",
    "        col,\n",
    "        np.sum(~gpcflags[col].mask), \n",
    "        np.sum(gpcflags[col]), \n",
    "        np.sum(~gpcflags[col])\n",
    "    ))\n",
    "    gpc_counts.update({col: make_flag_counts(gpcflags, bins, col)})"
   ]
  },
  {
   "cell_type": "code",
   "execution_count": 52,
   "metadata": {},
   "outputs": [
    {
     "name": "stderr",
     "output_type": "stream",
     "text": [
      "/Users/rs548/anaconda/envs/herschelhelp_internal/lib/python3.6/site-packages/matplotlib/font_manager.py:1297: UserWarning: findfont: Font family ['serif'] not found. Falling back to DejaVu Sans\n",
      "  (prop.get_family(), self.defaultFamily[fontext]))\n"
     ]
    },
    {
     "data": {
      "image/png": "[encoded data removed]",
      "text/plain": [
       "<matplotlib.figure.Figure at 0xe72ef20b8>"
      ]
     },
     "metadata": {},
     "output_type": "display_data"
    }
   ],
   "source": [
    "fig, ax = plt.subplots()\n",
    "\n",
    "ax.plot(bins[:-1]+(bins[1] - bins[0])/2, gpc_counts['flag_gpc1_g'], label='g')\n",
    "ax.plot(bins[:-1]+(bins[1] - bins[0])/2, gpc_counts['flag_gpc1_r'], label='r')\n",
    "ax.plot(bins[:-1]+(bins[1] - bins[0])/2, gpc_counts['flag_gpc1_i'], label='i')\n",
    "ax.plot(bins[:-1]+(bins[1] - bins[0])/2, gpc_counts['flag_gpc1_z'], label='z')\n",
    "ax.plot(bins[:-1]+(bins[1] - bins[0])/2, gpc_counts['flag_gpc1_y'], label='y')\n",
    "\n",
    "ax.set_xlim(10,18)\n",
    "ax.set_xlabel(\"Magnitude [mag]\")\n",
    "ax.set_ylabel(\"Fraction flagged\")\n",
    "legend = ax.legend( markerscale=2)\n",
    "\n",
    "plt.rc('font', family='serif', serif='Times')\n",
    "plt.rc('text') #, usetex=True)\n",
    "plt.rc('xtick', labelsize=12)\n",
    "plt.rc('ytick', labelsize=12)\n",
    "plt.rc('axes', labelsize=12)\n",
    "\n",
    "column_width_cm = 8.9\n",
    "width_cm = 1.0 * column_width_cm\n",
    "hieght_cm = width_cm / 1.0\n",
    "width_inches = width_cm/2.5\n",
    "hieght_inches = hieght_cm/2.5\n",
    "fig.set_size_inches(width_inches, hieght_inches)\n",
    "plt.savefig('./figs/flags.pdf', bbox_inches='tight')\n",
    "plt.savefig('./figs/flags.png', bbox_inches='tight')"
   ]
  },
  {
   "cell_type": "code",
   "execution_count": null,
   "metadata": {},
   "outputs": [],
   "source": []
  }
 ],
 "metadata": {
  "kernelspec": {
   "display_name": "Python (herschelhelp_internal)",
   "language": "python",
   "name": "helpint"
  },
  "language_info": {
   "codemirror_mode": {
    "name": "ipython",
    "version": 3
   },
   "file_extension": ".py",
   "mimetype": "text/x-python",
   "name": "python",
   "nbconvert_exporter": "python",
   "pygments_lexer": "ipython3",
   "version": "3.6.8"
  }
 },
 "nbformat": 4,
 "nbformat_minor": 2
}
