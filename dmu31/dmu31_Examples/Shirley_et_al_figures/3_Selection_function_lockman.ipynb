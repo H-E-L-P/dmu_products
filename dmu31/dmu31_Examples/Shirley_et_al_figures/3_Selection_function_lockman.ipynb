{
 "cells": [
  {
   "cell_type": "markdown",
   "metadata": {
    "collapsed": true
   },
   "source": [
    "# Selection Functions and Number Counts\n",
    "\n",
    "Using the depths maps for ELAIS-N1 you can calculate the probability that a source of true flux f will be detected in each healpix\n",
    "\n",
    "In the field with an associated error calculated in the depth map"
   ]
  },
  {
   "cell_type": "code",
   "execution_count": 1,
   "metadata": {},
   "outputs": [],
   "source": [
    "import numpy as np\n",
    "from astropy.table import Table\n",
    "from astropy import units as u\n",
    "from astropy.modeling import models, fitting\n",
    "from astropy.modeling.models import custom_model\n",
    "from astropy.coordinates import SkyCoord, search_around_sky\n",
    "from IPython.display import clear_output\n",
    "import scipy\n",
    "from scipy.optimize import curve_fit\n",
    "import scipy.stats\n",
    "import pickle\n",
    "import os\n",
    "from pymoc.util import catalog\n",
    "from pymoc import MOC\n",
    "import matplotlib.pyplot as plt\n",
    "import matplotlib.patches as patches\n",
    "from matplotlib import gridspec\n",
    "#import utils\n",
    "\n"
   ]
  },
  {
   "cell_type": "code",
   "execution_count": 2,
   "metadata": {},
   "outputs": [],
   "source": [
    "DMU_LOC = '../../../'"
   ]
  },
  {
   "cell_type": "code",
   "execution_count": 3,
   "metadata": {},
   "outputs": [],
   "source": [
    "def get_center(bins):\n",
    "    \"\"\"\n",
    "    Get the central positions for an array defining bins\n",
    "    \"\"\"\n",
    "    return (bins[:-1] + bins[1:]) / 2"
   ]
  },
  {
   "cell_type": "code",
   "execution_count": 4,
   "metadata": {},
   "outputs": [],
   "source": [
    "def gaus_cdf(val, mean,sig):\n",
    "    \n",
    "    return(0.5*(1 + scipy.special.erf((val - mean)/(np.sqrt(2)*sig))))"
   ]
  },
  {
   "cell_type": "code",
   "execution_count": 5,
   "metadata": {},
   "outputs": [],
   "source": [
    "def gaus_prob(errors, confidence, hist_errors):\n",
    "    '''\n",
    "    Returns the probability of a source of a given true flux being detected to a confidence level\n",
    "    The fluxes used for this are in the range 0,98\n",
    "    This is done assuming gaussian errors\n",
    "    \n",
    "    Parameters\n",
    "    -----------\n",
    "    Errors: a list of errors found in the field\n",
    "    confidence: a integer, the confidence level you are working at eg 2/3/4 sigma\n",
    "    hist_errors: a list of the number of regions of your field that have an error given in errors\n",
    "    \n",
    "    Returns\n",
    "    ---------\n",
    "    Prob: the probability that a source of given flux will be detected in the field averaged across\n",
    "    all the regions in the field\n",
    "    '''\n",
    "    \n",
    "    prob = np.zeros(len(hist_errors))\n",
    "    cutoff = np.zeros(len(hist_errors))\n",
    "    true_flux = np.arange(0,len(hist_errors),0.1)\n",
    "    \n",
    "    cutoffs = confidence * errors\n",
    "    #print(errors)\n",
    "    #print(hist_errors)\n",
    "    #print(cutoffs)\n",
    "\n",
    "    for n in range(len(errors)-1):\n",
    "        prob = prob + (1 - scipy.stats.norm(np.array(true_flux[:(len(cutoffs)-1)]),errors[n]).cdf(cutoffs[n]))*hist_errors[n]\n",
    "    return(prob/sum(hist_errors))"
   ]
  },
  {
   "cell_type": "markdown",
   "metadata": {},
   "source": [
    "### Load in the depth map and data for Lockman-SWIRE"
   ]
  },
  {
   "cell_type": "code",
   "execution_count": 6,
   "metadata": {},
   "outputs": [],
   "source": [
    "depth_elais = Table.read(DMU_LOC + 'dmu1/dmu1_ml_ELAIS-N1/data/depths_elais-n1_20180216.fits')\n",
    "SERVS_elais = Table.read(DMU_LOC + 'dmu1/dmu1_ml_ELAIS-N1/data_tmp/SERVS.fits')\n",
    "SWIRE_elais = Table.read(DMU_LOC + 'dmu1/dmu1_ml_ELAIS-N1/data_tmp/SWIRE.fits')"
   ]
  },
  {
   "cell_type": "code",
   "execution_count": 7,
   "metadata": {},
   "outputs": [],
   "source": [
    "servs_coords = SkyCoord(SERVS_elais['servs_ra'],SERVS_elais['servs_dec'])\n",
    "servs_elais_moc = catalog.catalog_to_moc(servs_coords,10,11)\n",
    "elais_servs_area = servs_elais_moc.area\n",
    "\n",
    "swire_coords = SkyCoord(SWIRE_elais['swire_ra'],SWIRE_elais['swire_dec'])\n",
    "swire_elais_moc = catalog.catalog_to_moc(swire_coords,10,11)\n",
    "elais_swire_area = swire_elais_moc.area"
   ]
  },
  {
   "cell_type": "code",
   "execution_count": 12,
   "metadata": {},
   "outputs": [
    {
     "name": "stderr",
     "output_type": "stream",
     "text": [
      "/Users/rs548/anaconda/envs/herschelhelp_internal/lib/python3.6/site-packages/matplotlib/font_manager.py:1297: UserWarning: findfont: Font family ['serif'] not found. Falling back to DejaVu Sans\n",
      "  (prop.get_family(), self.defaultFamily[fontext]))\n"
     ]
    },
    {
     "data": {
      "image/png": "[encoded data removed]",
      "text/plain": [
       "<matplotlib.figure.Figure at 0x1a437295f8>"
      ]
     },
     "metadata": {},
     "output_type": "display_data"
    }
   ],
   "source": [
    "bins = np.arange(0,20,0.1)\n",
    "bin_cent = get_center(bins)\n",
    "\n",
    "\n",
    "#fig = plt.figure()\n",
    "#fig.figsize=[5,3]\n",
    "#ax1 = fig.add_axes([0.1, 0.6, 1.5, 1.2])\n",
    "#ax2 = fig.add_axes([0.1, 0.1, 1.5, 0.5])\n",
    "\n",
    "\n",
    "fig = plt.figure()\n",
    "gs = gridspec.GridSpec(2, 1, height_ratios=[3, 1]) \n",
    "ax1 = plt.subplot(gs[0])\n",
    "ax2 = plt.subplot(gs[1])\n",
    "fig.subplots_adjust(hspace=0, wspace=0)\n",
    "\n",
    "\n",
    "mask = ~(np.isnan(SERVS_elais['f_servs_irac_i1']))\n",
    "plotting_servs = np.histogram(SERVS_elais['f_servs_irac_i1'][mask],bins=bins)\n",
    "ax1.plot(bin_cent,plotting_servs[0]/elais_servs_area,c='red', linestyle='-.', label='True SERVS counts')\n",
    "weights = np.zeros(len(SERVS_elais[mask]))\n",
    "weights = weights + 1/elais_servs_area\n",
    "ax1.hist(SERVS_elais['f_servs_irac_i1'][mask],bins=bins,color='red',alpha=0.3,weights=weights,log=True, label=None)\n",
    "\n",
    "mask = ~(np.isnan(SWIRE_elais['f_swire_irac_i1']))\n",
    "plotting_swire = np.histogram(SWIRE_elais['f_swire_irac_i1'][mask],bins=bins)\n",
    "ax1.plot(bin_cent,plotting_swire[0]/elais_swire_area,c='blue', label='True SWIRE counts')\n",
    "weights = np.zeros(len(SWIRE_elais[mask]))\n",
    "weights = weights + 1/elais_swire_area\n",
    "ax1.hist(SWIRE_elais['f_swire_irac_i1'][mask],bins=bins,color='blue',alpha=0.3,weights=weights,log=True, label=None)\n",
    "\n",
    "errors = np.arange(0.5,20.5,0.1)\n",
    "mask = ~np.isnan(depth_elais['ferr_irac_i1_mean'])\n",
    "irac_error_elais = depth_elais['ferr_irac_i1_mean'][mask]\n",
    "irac_error_elais = np.histogram(irac_error_elais,errors)\n",
    "probg_swire = gaus_prob(errors,5,irac_error_elais[0])\n",
    "cdf = gaus_cdf(bin_cent,4,1)\n",
    "\n",
    "probg_swire_interp = np.interp(bin_cent,np.arange(0,19.9,0.1),probg_swire)\n",
    "#ax1.plot(np.arange(0,19.9,0.1),probg_swire_interp*plotting_servs[0]/elais_servs_area,c='red')\n",
    "ax1.plot(bin_cent,cdf*plotting_servs[0]/elais_servs_area,c='black', linestyle='--', label='Predicted SWIRE counts')\n",
    "\n",
    "ax2.plot(bin_cent,cdf,c='black')\n",
    "#ax2.plot(np.arange(0,19.9,0.1),probg_swire,c='red')\n",
    "ax2.set_xlim([-0.05,8.2])\n",
    "ax1.set_xlim([-0.05,8.2])\n",
    "ax1.set_ylim([10**1.7,10**7.1])\n",
    "ax2.set_ylabel('c',fontsize='xx-large')\n",
    "ax2.set_xlabel('Flux density [$\\mu$Jy]')\n",
    "ax1.set_ylabel('N [$\\mu$Jy$^{-1}$ deg.$^{-2}$]')#,fontsize='xx-large')\n",
    "\n",
    "ax1.legend()\n",
    "\n",
    "plt.rc('font', family='serif', serif='Times')\n",
    "plt.rc('text') #, usetex=True)\n",
    "plt.rc('xtick', labelsize=12)\n",
    "plt.rc('ytick', labelsize=12)\n",
    "plt.rc('axes', labelsize=12)\n",
    "\n",
    "column_width_cm = 6.9\n",
    "width_cm = 1.4 * column_width_cm\n",
    "hieght_cm = width_cm / 1.3 # 1.67\n",
    "width_inches = width_cm/2.5\n",
    "hieght_inches = hieght_cm/2.5\n",
    "fig.set_size_inches(width_inches, hieght_inches)\n",
    "\n",
    "\n",
    "plt.savefig('./figs/completeness.pdf', bbox_inches='tight')\n",
    "plt.savefig('./figs/completeness.png', bbox_inches='tight')\n",
    "#plt.show()"
   ]
  },
  {
   "cell_type": "code",
   "execution_count": null,
   "metadata": {},
   "outputs": [],
   "source": []
  }
 ],
 "metadata": {
  "anaconda-cloud": {},
  "kernelspec": {
   "display_name": "Python [conda env:herschelhelp_internal]",
   "language": "python",
   "name": "conda-env-herschelhelp_internal-py"
  },
  "language_info": {
   "codemirror_mode": {
    "name": "ipython",
    "version": 3
   },
   "file_extension": ".py",
   "mimetype": "text/x-python",
   "name": "python",
   "nbconvert_exporter": "python",
   "pygments_lexer": "ipython3",
   "version": "3.6.8"
  }
 },
 "nbformat": 4,
 "nbformat_minor": 2
}
