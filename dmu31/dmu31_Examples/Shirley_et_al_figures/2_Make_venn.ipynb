{
 "cells": [
  {
   "cell_type": "markdown",
   "metadata": {},
   "source": [
    "# Venn diagram summarising detections\n",
    "\n",
    "We want to see what fraction of obejcts that are observed in all wavelength regimes are detected in each region"
   ]
  },
  {
   "cell_type": "code",
   "execution_count": 6,
   "metadata": {},
   "outputs": [],
   "source": [
    "%matplotlib inline\n",
    "#%config InlineBackend.figure_format = 'svg'\n",
    "\n",
    "import matplotlib as mpl\n",
    "mpl.use('pdf')\n",
    "import matplotlib.pyplot as plt\n",
    "import matplotlib.gridspec as gridspec\n",
    "\n",
    "import numpy as np\n",
    "#plt.rc('figure', figsize=(10, 6))\n",
    "from matplotlib_venn import venn3\n",
    "\n",
    "import pyvo as vo\n",
    "\n",
    "import time\n",
    "\n",
    "import warnings\n",
    "warnings.filterwarnings('ignore')"
   ]
  },
  {
   "cell_type": "code",
   "execution_count": 2,
   "metadata": {},
   "outputs": [],
   "source": [
    "service = vo.dal.TAPService(\n",
    "          \"https://herschel-vos.phys.sussex.ac.uk/__system__/tap/run/tap\")"
   ]
  },
  {
   "cell_type": "code",
   "execution_count": 3,
   "metadata": {},
   "outputs": [
    {
     "name": "stdout",
     "output_type": "stream",
     "text": [
      "Job still running after 0 seconds.\n",
      "Job still running after 3 seconds.\n",
      "Job still running after 7 seconds.\n",
      "Job still running after 16 seconds.\n",
      "Job still running after 32 seconds.\n",
      "Job still running after 64 seconds.\n",
      "Job still running after 129 seconds.\n",
      "Job still running after 257 seconds.\n",
      "Job still running after 513 seconds.\n",
      "COMPLETED\n"
     ]
    }
   ],
   "source": [
    "query = \"\"\"\n",
    "SELECT \n",
    "COUNT(*) as n,\n",
    "flag_optnir_det\n",
    "FROM herschelhelp.main \n",
    "WHERE herschelhelp.main.flag_optnir_obs=7\n",
    "GROUP BY herschelhelp.main.flag_optnir_det\"\"\"\n",
    "\n",
    "job = service.submit_job(query)\n",
    "job.run()\n",
    "job_url = job.url\n",
    "job_result = vo.dal.tap.AsyncTAPJob(job_url)\n",
    "start_time = time.time()\n",
    "wait = 2.\n",
    "while job.phase == 'EXECUTING':\n",
    "    print('Job still running after {} seconds.'.format(round(time.time() - start_time)))\n",
    "    time.sleep(wait) \n",
    "    wait *=2\n",
    "\n",
    "print(job.phase)\n",
    "result = job_result.fetch_result()"
   ]
  },
  {
   "cell_type": "code",
   "execution_count": 4,
   "metadata": {},
   "outputs": [
    {
     "data": {
      "text/html": [
       "<i>Table masked=True length=8</i>\n",
       "<table id=\"table4436445616\" class=\"table-striped table-bordered table-condensed\">\n",
       "<thead><tr><th>n</th><th>flag_optnir_det</th></tr></thead>\n",
       "<thead><tr><th>int32</th><th>int16</th></tr></thead>\n",
       "<tr><td>18252840</td><td>0</td></tr>\n",
       "<tr><td>20012214</td><td>1</td></tr>\n",
       "<tr><td>1648312</td><td>2</td></tr>\n",
       "<tr><td>1822311</td><td>3</td></tr>\n",
       "<tr><td>3590283</td><td>4</td></tr>\n",
       "<tr><td>4894139</td><td>5</td></tr>\n",
       "<tr><td>512915</td><td>6</td></tr>\n",
       "<tr><td>5885563</td><td>7</td></tr>\n",
       "</table>"
      ],
      "text/plain": [
       "<Table masked=True length=8>\n",
       "   n     flag_optnir_det\n",
       " int32        int16     \n",
       "-------- ---------------\n",
       "18252840               0\n",
       "20012214               1\n",
       " 1648312               2\n",
       " 1822311               3\n",
       " 3590283               4\n",
       " 4894139               5\n",
       "  512915               6\n",
       " 5885563               7"
      ]
     },
     "execution_count": 4,
     "metadata": {},
     "output_type": "execute_result"
    }
   ],
   "source": [
    "result.table"
   ]
  },
  {
   "cell_type": "code",
   "execution_count": 20,
   "metadata": {},
   "outputs": [
    {
     "name": "stdout",
     "output_type": "stream",
     "text": [
      "All objects observed by all wavelength regimes\n"
     ]
    },
    {
     "data": {
      "image/png": "[encoded data removed]",
      "text/plain": [
       "<matplotlib.figure.Figure at 0x101a9b80f0>"
      ]
     },
     "metadata": {},
     "output_type": "display_data"
    }
   ],
   "source": [
    "print(\"All objects observed by all wavelength regimes\")\n",
    "fig, ax = plt.subplots()\n",
    "venn3(\n",
    "    [\n",
    "        result.table['n'][4],\n",
    "        result.table['n'][2],\n",
    "        result.table['n'][6],\n",
    "        result.table['n'][1],\n",
    "        result.table['n'][5],\n",
    "        result.table['n'][3],\n",
    "        result.table['n'][7]\n",
    "    ],\n",
    "    set_labels=('Mid-IR', 'Near-IR', 'Optical'),\n",
    "    subset_label_formatter=lambda x: \"{}%\".format(int(100*x/np.sum(result.table['n'])))\n",
    ")\n",
    "#plt.title(\"Detection of the {} sources detected\\n in given wavelength domains \"\n",
    "#          \"(among {} sources)\".format(\n",
    "#              locale.format('%d', np.sum(flag_det != 0), grouping=True),\n",
    "#              locale.format('%d', len(flag_det), grouping=True)));\n",
    "plt.rc('font', family='serif', serif='Times')\n",
    "plt.rc('text') #, usetex=True)\n",
    "plt.rc('xtick', labelsize=12)\n",
    "plt.rc('ytick', labelsize=12)\n",
    "plt.rc('axes', labelsize=12)\n",
    "\n",
    "column_width_cm = 8.9\n",
    "width_cm = 2.0 * column_width_cm\n",
    "hieght_cm = width_cm / 1.618\n",
    "width_inches = width_cm/2.5\n",
    "hieght_inches = hieght_cm/2.5\n",
    "fig.set_size_inches(width_inches, hieght_inches)\n",
    "plt.savefig('./figs/detection_pie_allHELP.pdf', bbox_inches='tight')\n",
    "plt.savefig('./figs/detection_pie_allHELP.png', bbox_inches='tight')"
   ]
  },
  {
   "cell_type": "markdown",
   "metadata": {},
   "source": [
    "## 2. All objects flag_optnir_det"
   ]
  },
  {
   "cell_type": "code",
   "execution_count": 9,
   "metadata": {},
   "outputs": [
    {
     "name": "stdout",
     "output_type": "stream",
     "text": [
      "Job still running after 0 seconds.\n",
      "Job still running after 3 seconds.\n",
      "Job still running after 7 seconds.\n",
      "Job still running after 16 seconds.\n",
      "Job still running after 32 seconds.\n",
      "Job still running after 64 seconds.\n",
      "Job still running after 128 seconds.\n",
      "Job still running after 257 seconds.\n",
      "Job still running after 513 seconds.\n",
      "COMPLETED\n"
     ]
    }
   ],
   "source": [
    "query = \"\"\"\n",
    "SELECT \n",
    "COUNT(*) as n,\n",
    "flag_optnir_det\n",
    "FROM herschelhelp.main \n",
    "GROUP BY herschelhelp.main.flag_optnir_det\"\"\"\n",
    "\n",
    "job = service.submit_job(query)\n",
    "job.run()\n",
    "job_url = job.url\n",
    "job_result = vo.dal.tap.AsyncTAPJob(job_url)\n",
    "start_time = time.time()\n",
    "wait = 2.\n",
    "while job.phase == 'EXECUTING':\n",
    "    print('Job still running after {} seconds.'.format(round(time.time() - start_time)))\n",
    "    time.sleep(wait) \n",
    "    wait *=2\n",
    "\n",
    "print(job.phase)\n",
    "result2 = job_result.fetch_result()"
   ]
  },
  {
   "cell_type": "code",
   "execution_count": 10,
   "metadata": {},
   "outputs": [
    {
     "data": {
      "text/html": [
       "<i>Table masked=True length=8</i>\n",
       "<table id=\"table69154277976\" class=\"table-striped table-bordered table-condensed\">\n",
       "<thead><tr><th>n</th><th>flag_optnir_det</th></tr></thead>\n",
       "<thead><tr><th>int32</th><th>int16</th></tr></thead>\n",
       "<tr><td>44572066</td><td>0</td></tr>\n",
       "<tr><td>91467449</td><td>1</td></tr>\n",
       "<tr><td>3921090</td><td>2</td></tr>\n",
       "<tr><td>16178692</td><td>3</td></tr>\n",
       "<tr><td>3845138</td><td>4</td></tr>\n",
       "<tr><td>5218297</td><td>5</td></tr>\n",
       "<tr><td>512946</td><td>6</td></tr>\n",
       "<tr><td>5886452</td><td>7</td></tr>\n",
       "</table>"
      ],
      "text/plain": [
       "<Table masked=True length=8>\n",
       "   n     flag_optnir_det\n",
       " int32        int16     \n",
       "-------- ---------------\n",
       "44572066               0\n",
       "91467449               1\n",
       " 3921090               2\n",
       "16178692               3\n",
       " 3845138               4\n",
       " 5218297               5\n",
       "  512946               6\n",
       " 5886452               7"
      ]
     },
     "execution_count": 10,
     "metadata": {},
     "output_type": "execute_result"
    }
   ],
   "source": [
    "result2.table"
   ]
  },
  {
   "cell_type": "code",
   "execution_count": 16,
   "metadata": {},
   "outputs": [
    {
     "name": "stdout",
     "output_type": "stream",
     "text": [
      "All objects\n"
     ]
    },
    {
     "data": {
      "image/png": "[encoded data removed]",
      "text/plain": [
       "<matplotlib.figure.Figure at 0x101a9a2c50>"
      ]
     },
     "metadata": {},
     "output_type": "display_data"
    }
   ],
   "source": [
    "print(\"All objects\")\n",
    "fig, ax = plt.subplots()\n",
    "venn3(\n",
    "    [\n",
    "        result2.table['n'][4],\n",
    "        result2.table['n'][2],\n",
    "        result2.table['n'][6],\n",
    "        result2.table['n'][1],\n",
    "        result2.table['n'][5],\n",
    "        result2.table['n'][3],\n",
    "        result2.table['n'][7]\n",
    "    ],\n",
    "    set_labels=('Mid-IR', 'Near-IR', 'Optical'),\n",
    "    subset_label_formatter=lambda x: \"{}%\".format(int(100*x/np.sum(result2.table['n'])))\n",
    ")\n",
    "#plt.title(\"Detection of the {} sources detected\\n in given wavelength domains \"\n",
    "#          \"(among {} sources)\".format(\n",
    "#              locale.format('%d', np.sum(flag_det != 0), grouping=True),\n",
    "#              locale.format('%d', len(flag_det), grouping=True)));\n",
    "plt.rc('font', family='serif', serif='Times')\n",
    "plt.rc('text') #, usetex=True)\n",
    "plt.rc('xtick', labelsize=12)\n",
    "plt.rc('ytick', labelsize=12)\n",
    "plt.rc('axes', labelsize=12)\n",
    "\n",
    "column_width_cm = 8.9\n",
    "width_cm = 2.0 * column_width_cm\n",
    "hieght_cm = width_cm / 1.618\n",
    "width_inches = width_cm/2.5\n",
    "hieght_inches = hieght_cm/2.5\n",
    "fig.set_size_inches(width_inches, hieght_inches)\n",
    "plt.savefig('./figs/detection_pie_allHELP_allobjects.pdf', bbox_inches='tight')\n",
    "plt.savefig('./figs/detection_pie_allHELP_allobjects.png', bbox_inches='tight')"
   ]
  },
  {
   "cell_type": "code",
   "execution_count": 11,
   "metadata": {},
   "outputs": [
    {
     "name": "stdout",
     "output_type": "stream",
     "text": [
      "Job still running after 0 seconds.\n",
      "Job still running after 3 seconds.\n",
      "Job still running after 7 seconds.\n",
      "Job still running after 15 seconds.\n",
      "Job still running after 32 seconds.\n",
      "Job still running after 64 seconds.\n",
      "Job still running after 128 seconds.\n",
      "Job still running after 256 seconds.\n",
      "COMPLETED\n"
     ]
    }
   ],
   "source": [
    "query = \"\"\"\n",
    "SELECT \n",
    "COUNT(*) as n,\n",
    "flag_optnir_det\n",
    "FROM herschelhelp.main \n",
    "WHERE herschelhelp.main.f_irac_i1 IS NOT NULL\n",
    "GROUP BY herschelhelp.main.flag_optnir_det\"\"\"\n",
    "\n",
    "job = service.submit_job(query)\n",
    "job.run()\n",
    "job_url = job.url\n",
    "job_result = vo.dal.tap.AsyncTAPJob(job_url)\n",
    "start_time = time.time()\n",
    "wait = 2.\n",
    "while job.phase == 'EXECUTING':\n",
    "    print('Job still running after {} seconds.'.format(round(time.time() - start_time)))\n",
    "    time.sleep(wait) \n",
    "    wait *=2\n",
    "\n",
    "print(job.phase)\n",
    "result3 = job_result.fetch_result()"
   ]
  },
  {
   "cell_type": "code",
   "execution_count": 12,
   "metadata": {},
   "outputs": [
    {
     "data": {
      "text/html": [
       "<i>Table masked=True length=8</i>\n",
       "<table id=\"table69154279040\" class=\"table-striped table-bordered table-condensed\">\n",
       "<thead><tr><th>n</th><th>flag_optnir_det</th></tr></thead>\n",
       "<thead><tr><th>int32</th><th>int16</th></tr></thead>\n",
       "<tr><td>1611987</td><td>0</td></tr>\n",
       "<tr><td>624068</td><td>1</td></tr>\n",
       "<tr><td>123759</td><td>2</td></tr>\n",
       "<tr><td>301611</td><td>3</td></tr>\n",
       "<tr><td>3813902</td><td>4</td></tr>\n",
       "<tr><td>5205306</td><td>5</td></tr>\n",
       "<tr><td>511639</td><td>6</td></tr>\n",
       "<tr><td>5877213</td><td>7</td></tr>\n",
       "</table>"
      ],
      "text/plain": [
       "<Table masked=True length=8>\n",
       "   n    flag_optnir_det\n",
       " int32       int16     \n",
       "------- ---------------\n",
       "1611987               0\n",
       " 624068               1\n",
       " 123759               2\n",
       " 301611               3\n",
       "3813902               4\n",
       "5205306               5\n",
       " 511639               6\n",
       "5877213               7"
      ]
     },
     "execution_count": 12,
     "metadata": {},
     "output_type": "execute_result"
    }
   ],
   "source": [
    "result3.table"
   ]
  },
  {
   "cell_type": "code",
   "execution_count": 13,
   "metadata": {},
   "outputs": [
    {
     "data": {
      "text/plain": [
       "18069485"
      ]
     },
     "execution_count": 13,
     "metadata": {},
     "output_type": "execute_result"
    }
   ],
   "source": [
    "np.sum(result3.table['n'])"
   ]
  },
  {
   "cell_type": "code",
   "execution_count": 19,
   "metadata": {},
   "outputs": [
    {
     "name": "stdout",
     "output_type": "stream",
     "text": [
      "Total number of objects = 171602130\n",
      "Observed in all wavelength regimes = 56618577\n",
      "Total detected in two or more opt  = 118750890\n",
      "Total detected in two or more nir = 26499180\n",
      "Total detected in two or more opt and two or more nir = 22065144\n",
      "Total detected in two or more opt and two or more nir and in IRAC 1 = 6178824\n",
      "Total detected in two or more opt or two or more nir and in IRAC 1 = 11594158\n"
     ]
    }
   ],
   "source": [
    "\n",
    "print(\"Total number of objects = {}\".format(np.sum(result2.table['n'])))\n",
    "\n",
    "print(\"Observed in all wavelength regimes = {}\".format(np.sum(result.table['n']) ))\n",
    "print(\"Total detected in two or more opt  = {}\".format(\n",
    "    result2.table['n'][1] + result2.table['n'][3] + result2.table['n'][5] + result2.table['n'][7]\n",
    "))\n",
    "print(\"Total detected in two or more nir = {}\".format(\n",
    "    result2.table['n'][2] +  result2.table['n'][3] + result2.table['n'][6] + result2.table['n'][7] \n",
    "))\n",
    "print(\"Total detected in two or more opt and two or more nir = {}\".format(\n",
    "    result2.table['n'][3] + result2.table['n'][7]\n",
    "))\n",
    "print(\"Total detected in two or more opt and two or more nir and in IRAC 1 = {}\".format(\n",
    "    result3.table['n'][3] + result3.table['n'][7]\n",
    "))\n",
    "print(\"Total detected in two or more opt or two or more nir and in IRAC 1 = {}\".format(\n",
    "    result3.table['n'][5] + result3.table['n'][6] + result3.table['n'][7]\n",
    "))"
   ]
  },
  {
   "cell_type": "code",
   "execution_count": null,
   "metadata": {},
   "outputs": [],
   "source": []
  }
 ],
 "metadata": {
  "kernelspec": {
   "display_name": "Python (herschelhelp_internal)",
   "language": "python",
   "name": "helpint"
  },
  "language_info": {
   "codemirror_mode": {
    "name": "ipython",
    "version": 3
   },
   "file_extension": ".py",
   "mimetype": "text/x-python",
   "name": "python",
   "nbconvert_exporter": "python",
   "pygments_lexer": "ipython3",
   "version": "3.6.8"
  }
 },
 "nbformat": 4,
 "nbformat_minor": 2
}
