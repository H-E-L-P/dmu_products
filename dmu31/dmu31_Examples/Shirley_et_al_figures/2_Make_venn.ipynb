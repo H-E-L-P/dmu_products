{
 "cells": [
  {
   "cell_type": "markdown",
   "metadata": {},
   "source": [
    "# Venn diagram summarising detections\n",
    "\n",
    "We want to see what fraction of obejcts that are observed in all wavelength regimes are detected in each region"
   ]
  },
  {
   "cell_type": "code",
   "execution_count": 8,
   "metadata": {},
   "outputs": [],
   "source": [
    "%matplotlib inline\n",
    "#%config InlineBackend.figure_format = 'svg'\n",
    "\n",
    "import matplotlib as mpl\n",
    "mpl.use('pdf')\n",
    "import matplotlib.pyplot as plt\n",
    "import matplotlib.gridspec as gridspec\n",
    "\n",
    "\n",
    "#plt.rc('figure', figsize=(10, 6))\n",
    "from matplotlib_venn import venn3\n",
    "\n",
    "import pyvo as vo\n",
    "\n",
    "import time\n",
    "\n",
    "import warnings\n",
    "warnings.filterwarnings('ignore')"
   ]
  },
  {
   "cell_type": "code",
   "execution_count": 9,
   "metadata": {},
   "outputs": [],
   "source": [
    "service = vo.dal.TAPService(\n",
    "          \"https://herschel-vos.phys.sussex.ac.uk/__system__/tap/run/tap\")"
   ]
  },
  {
   "cell_type": "code",
   "execution_count": 13,
   "metadata": {},
   "outputs": [
    {
     "name": "stdout",
     "output_type": "stream",
     "text": [
      "Job still running after 0 seconds.\n",
      "Job still running after 3 seconds.\n",
      "Job still running after 7 seconds.\n",
      "Job still running after 15 seconds.\n",
      "Job still running after 32 seconds.\n",
      "Job still running after 64 seconds.\n",
      "Job still running after 128 seconds.\n",
      "Job still running after 257 seconds.\n",
      "Job still running after 513 seconds.\n",
      "COMPLETED\n"
     ]
    }
   ],
   "source": [
    "query = \"\"\"\n",
    "SELECT \n",
    "COUNT(*) as n,\n",
    "flag_optnir_det\n",
    "FROM herschelhelp.main \n",
    "WHERE herschelhelp.main.flag_optnir_obs=7\n",
    "GROUP BY herschelhelp.main.flag_optnir_det\"\"\"\n",
    "\n",
    "job = service.submit_job(query)\n",
    "job.run()\n",
    "job_url = job.url\n",
    "job_result = vo.dal.tap.AsyncTAPJob(job_url)\n",
    "start_time = time.time()\n",
    "wait = 2.\n",
    "while job.phase == 'EXECUTING':\n",
    "    print('Job still running after {} seconds.'.format(round(time.time() - start_time)))\n",
    "    time.sleep(wait) \n",
    "    wait *=2\n",
    "\n",
    "print(job.phase)\n",
    "result = job_result.fetch_result()"
   ]
  },
  {
   "cell_type": "code",
   "execution_count": 14,
   "metadata": {},
   "outputs": [
    {
     "data": {
      "text/html": [
       "<i>Table masked=True length=8</i>\n",
       "<table id=\"table112156877208\" class=\"table-striped table-bordered table-condensed\">\n",
       "<thead><tr><th>n</th></tr></thead>\n",
       "<thead><tr><th>int32</th></tr></thead>\n",
       "<tr><td>18252840</td></tr>\n",
       "<tr><td>20012214</td></tr>\n",
       "<tr><td>1648312</td></tr>\n",
       "<tr><td>1822311</td></tr>\n",
       "<tr><td>3590283</td></tr>\n",
       "<tr><td>4894139</td></tr>\n",
       "<tr><td>512915</td></tr>\n",
       "<tr><td>5885563</td></tr>\n",
       "</table>"
      ],
      "text/plain": [
       "<Table masked=True length=8>\n",
       "   n    \n",
       " int32  \n",
       "--------\n",
       "18252840\n",
       "20012214\n",
       " 1648312\n",
       " 1822311\n",
       " 3590283\n",
       " 4894139\n",
       "  512915\n",
       " 5885563"
      ]
     },
     "execution_count": 14,
     "metadata": {},
     "output_type": "execute_result"
    }
   ],
   "source": [
    "result.table"
   ]
  },
  {
   "cell_type": "code",
   "execution_count": 12,
   "metadata": {},
   "outputs": [
    {
     "data": {
      "text/html": [
       "<i>Table masked=True length=1</i>\n",
       "<table id=\"table112156768240\" class=\"table-striped table-bordered table-condensed\">\n",
       "<thead><tr><th>ndigubllwaha</th></tr></thead>\n",
       "<thead><tr><th>int32</th></tr></thead>\n",
       "<tr><td>20012214</td></tr>\n",
       "</table>"
      ],
      "text/plain": [
       "<Table masked=True length=1>\n",
       "ndigubllwaha\n",
       "   int32    \n",
       "------------\n",
       "    20012214"
      ]
     },
     "execution_count": 12,
     "metadata": {},
     "output_type": "execute_result"
    }
   ],
   "source": [
    "result.table"
   ]
  },
  {
   "cell_type": "code",
   "execution_count": 19,
   "metadata": {},
   "outputs": [
    {
     "data": {
      "image/png": "[encoded data removed]",
      "text/plain": [
       "<matplotlib.figure.Figure at 0x1a1df46eb8>"
      ]
     },
     "metadata": {},
     "output_type": "display_data"
    }
   ],
   "source": [
    "fig, ax = plt.subplots()\n",
    "venn3(\n",
    "    [\n",
    "        result.table['n'][4],\n",
    "        result.table['n'][2],\n",
    "        result.table['n'][6],\n",
    "        result.table['n'][1],\n",
    "        result.table['n'][5],\n",
    "        result.table['n'][3],\n",
    "        result.table['n'][7]\n",
    "    ],\n",
    "    set_labels=('mid-IR', 'near-IR', 'Optical'),\n",
    "    subset_label_formatter=lambda x: \"{}%\".format(int(100*x/np.sum(result.table['n'])))\n",
    ")\n",
    "#plt.title(\"Detection of the {} sources detected\\n in given wavelength domains \"\n",
    "#          \"(among {} sources)\".format(\n",
    "#              locale.format('%d', np.sum(flag_det != 0), grouping=True),\n",
    "#              locale.format('%d', len(flag_det), grouping=True)));\n",
    "plt.rc('font', family='serif', serif='Times')\n",
    "plt.rc('text') #, usetex=True)\n",
    "plt.rc('xtick', labelsize=12)\n",
    "plt.rc('ytick', labelsize=12)\n",
    "plt.rc('axes', labelsize=12)\n",
    "\n",
    "column_width_cm = 8.9\n",
    "width_cm = 2.0 * column_width_cm\n",
    "hieght_cm = width_cm / 1.618\n",
    "width_inches = width_cm/2.5\n",
    "hieght_inches = hieght_cm/2.5\n",
    "fig.set_size_inches(width_inches, hieght_inches)\n",
    "plt.savefig('./figs/detection_pie_allHELP.pdf', bbox_inches='tight')\n",
    "plt.savefig('./figs/detection_pie_allHELP.png', bbox_inches='tight')"
   ]
  },
  {
   "cell_type": "code",
   "execution_count": null,
   "metadata": {},
   "outputs": [],
   "source": []
  }
 ],
 "metadata": {
  "kernelspec": {
   "display_name": "Python (herschelhelp_internal)",
   "language": "python",
   "name": "helpint"
  },
  "language_info": {
   "codemirror_mode": {
    "name": "ipython",
    "version": 3
   },
   "file_extension": ".py",
   "mimetype": "text/x-python",
   "name": "python",
   "nbconvert_exporter": "python",
   "pygments_lexer": "ipython3",
   "version": "3.6.8"
  }
 },
 "nbformat": 4,
 "nbformat_minor": 2
}
