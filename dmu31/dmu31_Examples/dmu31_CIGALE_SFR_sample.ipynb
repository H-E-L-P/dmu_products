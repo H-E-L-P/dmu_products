{
  "nbformat": 4,
  "nbformat_minor": 0,
  "metadata": {
    "colab": {
      "name": "dmu31_CIGALE_SFR_sample.ipynb",
      "provenance": [],
      "authorship_tag": "ABX9TyOzGcT4djZyNJmcLAFlve0P",
      "include_colab_link": true
    },
    "kernelspec": {
      "name": "python3",
      "display_name": "Python 3"
    }
  },
  "cells": [
    {
      "cell_type": "markdown",
      "metadata": {
        "id": "view-in-github",
        "colab_type": "text"
      },
      "source": [
        "<a href=\"https://colab.research.google.com/github/H-E-L-P/dmu_products/blob/master/dmu31/dmu31_Examples/dmu31_CIGALE_SFR_sample.ipynb\" target=\"_parent\"><img src=\"https://colab.research.google.com/assets/colab-badge.svg\" alt=\"Open In Colab\"/></a>"
      ]
    },
    {
      "cell_type": "markdown",
      "metadata": {
        "id": "0YYENGvej56m"
      },
      "source": [
        "# ![](https://avatars1.githubusercontent.com/u/7880370?s=75&v=4) Selecting interesting objects using CIGALE physical properties\n",
        "\n",
        "---\n",
        "As covered in our introduction to using the HELP virtual observatory server (VOX), we can easily search the HELP database for catalogues in images. In this example, we show how you can do similar searches, but using CIGALE properties rather than positions. One of the advantages of HELP is that it covers a large area, and with a larger area, you can get larger statistical samples of the rarer objects.\n",
        "\n",
        "In this notebook, we will search the entire HELP database for some galaxies with extreme starformation and get the corresponding SPIRE cutouts.\n"
      ]
    },
    {
      "cell_type": "code",
      "metadata": {
        "colab": {
          "base_uri": "https://localhost:8080/"
        },
        "id": "Yqt7J3NNln31",
        "outputId": "a9cd51da-6a07-427b-dc84-4aa81ce5ea24"
      },
      "source": [
        "!pip install pyvo"
      ],
      "execution_count": 1,
      "outputs": [
        {
          "output_type": "stream",
          "text": [
            "Collecting pyvo\n",
            "\u001b[?25l  Downloading https://files.pythonhosted.org/packages/9b/7f/f593e8ca1b2e24106165c6ecb47b4416afe346b5ff158f559cb3dd4e8d88/pyvo-1.1.tar.gz (804kB)\n",
            "\r\u001b[K     |▍                               | 10kB 12.9MB/s eta 0:00:01\r\u001b[K     |▉                               | 20kB 11.7MB/s eta 0:00:01\r\u001b[K     |█▏                              | 30kB 8.3MB/s eta 0:00:01\r\u001b[K     |█▋                              | 40kB 7.3MB/s eta 0:00:01\r\u001b[K     |██                              | 51kB 4.2MB/s eta 0:00:01\r\u001b[K     |██▍                             | 61kB 4.6MB/s eta 0:00:01\r\u001b[K     |██▉                             | 71kB 5.0MB/s eta 0:00:01\r\u001b[K     |███▎                            | 81kB 5.0MB/s eta 0:00:01\r\u001b[K     |███▋                            | 92kB 5.4MB/s eta 0:00:01\r\u001b[K     |████                            | 102kB 5.7MB/s eta 0:00:01\r\u001b[K     |████▌                           | 112kB 5.7MB/s eta 0:00:01\r\u001b[K     |████▉                           | 122kB 5.7MB/s eta 0:00:01\r\u001b[K     |█████▎                          | 133kB 5.7MB/s eta 0:00:01\r\u001b[K     |█████▊                          | 143kB 5.7MB/s eta 0:00:01\r\u001b[K     |██████                          | 153kB 5.7MB/s eta 0:00:01\r\u001b[K     |██████▌                         | 163kB 5.7MB/s eta 0:00:01\r\u001b[K     |███████                         | 174kB 5.7MB/s eta 0:00:01\r\u001b[K     |███████▎                        | 184kB 5.7MB/s eta 0:00:01\r\u001b[K     |███████▊                        | 194kB 5.7MB/s eta 0:00:01\r\u001b[K     |████████▏                       | 204kB 5.7MB/s eta 0:00:01\r\u001b[K     |████████▌                       | 215kB 5.7MB/s eta 0:00:01\r\u001b[K     |█████████                       | 225kB 5.7MB/s eta 0:00:01\r\u001b[K     |█████████▍                      | 235kB 5.7MB/s eta 0:00:01\r\u001b[K     |█████████▊                      | 245kB 5.7MB/s eta 0:00:01\r\u001b[K     |██████████▏                     | 256kB 5.7MB/s eta 0:00:01\r\u001b[K     |██████████▋                     | 266kB 5.7MB/s eta 0:00:01\r\u001b[K     |███████████                     | 276kB 5.7MB/s eta 0:00:01\r\u001b[K     |███████████▍                    | 286kB 5.7MB/s eta 0:00:01\r\u001b[K     |███████████▉                    | 296kB 5.7MB/s eta 0:00:01\r\u001b[K     |████████████▏                   | 307kB 5.7MB/s eta 0:00:01\r\u001b[K     |████████████▋                   | 317kB 5.7MB/s eta 0:00:01\r\u001b[K     |█████████████                   | 327kB 5.7MB/s eta 0:00:01\r\u001b[K     |█████████████▍                  | 337kB 5.7MB/s eta 0:00:01\r\u001b[K     |█████████████▉                  | 348kB 5.7MB/s eta 0:00:01\r\u001b[K     |██████████████▎                 | 358kB 5.7MB/s eta 0:00:01\r\u001b[K     |██████████████▋                 | 368kB 5.7MB/s eta 0:00:01\r\u001b[K     |███████████████                 | 378kB 5.7MB/s eta 0:00:01\r\u001b[K     |███████████████▌                | 389kB 5.7MB/s eta 0:00:01\r\u001b[K     |███████████████▉                | 399kB 5.7MB/s eta 0:00:01\r\u001b[K     |████████████████▎               | 409kB 5.7MB/s eta 0:00:01\r\u001b[K     |████████████████▊               | 419kB 5.7MB/s eta 0:00:01\r\u001b[K     |█████████████████               | 430kB 5.7MB/s eta 0:00:01\r\u001b[K     |█████████████████▌              | 440kB 5.7MB/s eta 0:00:01\r\u001b[K     |██████████████████              | 450kB 5.7MB/s eta 0:00:01\r\u001b[K     |██████████████████▎             | 460kB 5.7MB/s eta 0:00:01\r\u001b[K     |██████████████████▊             | 471kB 5.7MB/s eta 0:00:01\r\u001b[K     |███████████████████▏            | 481kB 5.7MB/s eta 0:00:01\r\u001b[K     |███████████████████▌            | 491kB 5.7MB/s eta 0:00:01\r\u001b[K     |████████████████████            | 501kB 5.7MB/s eta 0:00:01\r\u001b[K     |████████████████████▍           | 512kB 5.7MB/s eta 0:00:01\r\u001b[K     |████████████████████▊           | 522kB 5.7MB/s eta 0:00:01\r\u001b[K     |█████████████████████▏          | 532kB 5.7MB/s eta 0:00:01\r\u001b[K     |█████████████████████▋          | 542kB 5.7MB/s eta 0:00:01\r\u001b[K     |██████████████████████          | 552kB 5.7MB/s eta 0:00:01\r\u001b[K     |██████████████████████▍         | 563kB 5.7MB/s eta 0:00:01\r\u001b[K     |██████████████████████▉         | 573kB 5.7MB/s eta 0:00:01\r\u001b[K     |███████████████████████▏        | 583kB 5.7MB/s eta 0:00:01\r\u001b[K     |███████████████████████▋        | 593kB 5.7MB/s eta 0:00:01\r\u001b[K     |████████████████████████        | 604kB 5.7MB/s eta 0:00:01\r\u001b[K     |████████████████████████▍       | 614kB 5.7MB/s eta 0:00:01\r\u001b[K     |████████████████████████▉       | 624kB 5.7MB/s eta 0:00:01\r\u001b[K     |█████████████████████████▎      | 634kB 5.7MB/s eta 0:00:01\r\u001b[K     |█████████████████████████▋      | 645kB 5.7MB/s eta 0:00:01\r\u001b[K     |██████████████████████████      | 655kB 5.7MB/s eta 0:00:01\r\u001b[K     |██████████████████████████▌     | 665kB 5.7MB/s eta 0:00:01\r\u001b[K     |██████████████████████████▉     | 675kB 5.7MB/s eta 0:00:01\r\u001b[K     |███████████████████████████▎    | 686kB 5.7MB/s eta 0:00:01\r\u001b[K     |███████████████████████████▊    | 696kB 5.7MB/s eta 0:00:01\r\u001b[K     |████████████████████████████    | 706kB 5.7MB/s eta 0:00:01\r\u001b[K     |████████████████████████████▌   | 716kB 5.7MB/s eta 0:00:01\r\u001b[K     |█████████████████████████████   | 727kB 5.7MB/s eta 0:00:01\r\u001b[K     |█████████████████████████████▎  | 737kB 5.7MB/s eta 0:00:01\r\u001b[K     |█████████████████████████████▊  | 747kB 5.7MB/s eta 0:00:01\r\u001b[K     |██████████████████████████████▏ | 757kB 5.7MB/s eta 0:00:01\r\u001b[K     |██████████████████████████████▌ | 768kB 5.7MB/s eta 0:00:01\r\u001b[K     |███████████████████████████████ | 778kB 5.7MB/s eta 0:00:01\r\u001b[K     |███████████████████████████████▍| 788kB 5.7MB/s eta 0:00:01\r\u001b[K     |███████████████████████████████▊| 798kB 5.7MB/s eta 0:00:01\r\u001b[K     |████████████████████████████████| 808kB 5.7MB/s \n",
            "\u001b[?25hRequirement already satisfied: astropy in /usr/local/lib/python3.7/dist-packages (from pyvo) (4.2)\n",
            "Requirement already satisfied: requests in /usr/local/lib/python3.7/dist-packages (from pyvo) (2.23.0)\n",
            "Collecting mimeparse\n",
            "  Downloading https://files.pythonhosted.org/packages/38/0c/7b02c30765658744acc51876781c580234cb1110296b231a3a524722f9c7/mimeparse-0.1.3.tar.gz\n",
            "Requirement already satisfied: pyerfa in /usr/local/lib/python3.7/dist-packages (from astropy->pyvo) (1.7.2)\n",
            "Requirement already satisfied: numpy>=1.17 in /usr/local/lib/python3.7/dist-packages (from astropy->pyvo) (1.19.5)\n",
            "Requirement already satisfied: urllib3!=1.25.0,!=1.25.1,<1.26,>=1.21.1 in /usr/local/lib/python3.7/dist-packages (from requests->pyvo) (1.24.3)\n",
            "Requirement already satisfied: idna<3,>=2.5 in /usr/local/lib/python3.7/dist-packages (from requests->pyvo) (2.10)\n",
            "Requirement already satisfied: certifi>=2017.4.17 in /usr/local/lib/python3.7/dist-packages (from requests->pyvo) (2020.12.5)\n",
            "Requirement already satisfied: chardet<4,>=3.0.2 in /usr/local/lib/python3.7/dist-packages (from requests->pyvo) (3.0.4)\n",
            "Building wheels for collected packages: pyvo, mimeparse\n",
            "  Building wheel for pyvo (setup.py) ... \u001b[?25l\u001b[?25hdone\n",
            "  Created wheel for pyvo: filename=pyvo-1.1-cp37-none-any.whl size=801573 sha256=24e3774bdeae7ec76549f0e24e778fe6cf5b4eb235927b18e6e2022258a10668\n",
            "  Stored in directory: /root/.cache/pip/wheels/d9/00/df/656aac56938f1c83dfcb361346f74101ce1f8c849fc93b18dc\n",
            "  Building wheel for mimeparse (setup.py) ... \u001b[?25l\u001b[?25hdone\n",
            "  Created wheel for mimeparse: filename=mimeparse-0.1.3-cp37-none-any.whl size=3864 sha256=6adf19efd3cfcb6c1c3910fdca837f6213002f3833978589033e0e7d81899103\n",
            "  Stored in directory: /root/.cache/pip/wheels/54/ca/c7/3db47cc5c748286db22a7fab43ccf985903d2b9ca119de16ab\n",
            "Successfully built pyvo mimeparse\n",
            "Installing collected packages: mimeparse, pyvo\n",
            "Successfully installed mimeparse-0.1.3 pyvo-1.1\n"
          ],
          "name": "stdout"
        }
      ]
    },
    {
      "cell_type": "code",
      "metadata": {
        "id": "SgsAvf7MltBf"
      },
      "source": [
        "from astropy.io import ascii, fits\n",
        "import numpy as np\n",
        "from astropy.table import Table\n",
        "import pylab as plt\n",
        "import seaborn as sns\n",
        "%matplotlib inline\n",
        "from astropy import wcs\n",
        "import pyvo as vo"
      ],
      "execution_count": 3,
      "outputs": []
    },
    {
      "cell_type": "markdown",
      "metadata": {
        "id": "0HsTXNStlzv-"
      },
      "source": [
        "First, create the TAP service using [PyVO](https://pyvo.readthedocs.io/en/latest/)"
      ]
    },
    {
      "cell_type": "code",
      "metadata": {
        "id": "oaiTLndflzJK"
      },
      "source": [
        "service = vo.dal.TAPService(\"https://herschel-vos.phys.sussex.ac.uk/__system__/tap/run/tap\")"
      ],
      "execution_count": 5,
      "outputs": []
    },
    {
      "cell_type": "markdown",
      "metadata": {
        "id": "sIBrInuVlgGv"
      },
      "source": [
        " Lets select the top 1000 galaxies which have high starformation rate (i.e. SFR>1000 $M_{\\odot}/yr$)\n",
        "\n",
        "As before, we need to create a query, so:\n",
        "* use the `SELECT` operational statement and ask for the `TOP 1000` results\n",
        "* we specify what columns we want (i.e. redshift, starformation rate and stellar mass), rather than returning all (as before)\n",
        "* Tell the VO to get the results `FROM herschelhelp.main`, i.e. the main HELP masterlist. You can find the other tables you could use [here](https://herschel-vos.phys.sussex.ac.uk/__system__/dc_tables/list/form).\n",
        "* specify our condition"
      ]
    },
    {
      "cell_type": "code",
      "metadata": {
        "id": "4DZFihPmjl29"
      },
      "source": [
        "resultset= service.search(\"SELECT TOP 100 ra,dec,redshift,cigale_mstar,cigale_sfr FROM herschelhelp.main WHERE cigale_sfr>1000\")"
      ],
      "execution_count": 8,
      "outputs": []
    },
    {
      "cell_type": "code",
      "metadata": {
        "id": "mWoeZlLUmROF"
      },
      "source": [
        "masterlist=resultset.to_table()"
      ],
      "execution_count": 9,
      "outputs": []
    },
    {
      "cell_type": "code",
      "metadata": {
        "colab": {
          "base_uri": "https://localhost:8080/",
          "height": 1000
        },
        "id": "q5gptkwTob9g",
        "outputId": "47e978ce-6a7d-462b-8ee4-5aa273859df1"
      },
      "source": [
        "masterlist.show_in_notebook()"
      ],
      "execution_count": 24,
      "outputs": [
        {
          "output_type": "execute_result",
          "data": {
            "text/html": [
              "<i>Table length=100</i>\n",
              "<table id=\"table139893047750032-985486\" class=\"table-striped table-bordered table-condensed\">\n",
              "<thead><tr><th>idx</th><th>ra</th><th>dec</th><th>redshift</th><th>cigale_mstar</th><th>cigale_sfr</th></tr></thead>\n",
              "<thead><tr><th></th><th>deg</th><th>deg</th><th></th><th>Msun</th><th>Msun / yr</th></tr></thead>\n",
              "<tr><td>0</td><td>34.6715089475648</td><td>-5.64677315829761</td><td>5.5069</td><td>189901422274.742</td><td>1497.14628391181</td></tr>\n",
              "<tr><td>1</td><td>34.7214719475648</td><td>-5.65702015829761</td><td>5.1541</td><td>439717232811.725</td><td>2592.40844298865</td></tr>\n",
              "<tr><td>2</td><td>34.8559762522776</td><td>-5.69354112477323</td><td>4.1005</td><td>449923925549.177</td><td>1588.63468495625</td></tr>\n",
              "<tr><td>3</td><td>35.0222152722776</td><td>-5.69805032477323</td><td>4.2907</td><td>799333947897.97</td><td>5045.7118616998</td></tr>\n",
              "<tr><td>4</td><td>34.9233084422776</td><td>-5.60976520477323</td><td>5.6961</td><td>135131688898.356</td><td>5462.43158380247</td></tr>\n",
              "<tr><td>5</td><td>35.0984050822776</td><td>-5.51291523477323</td><td>5.1875</td><td>633300196639.846</td><td>1725.04141562314</td></tr>\n",
              "<tr><td>6</td><td>34.6088506122776</td><td>-5.46179850477323</td><td>4.1559</td><td>1809691425872.29</td><td>4797.29912286647</td></tr>\n",
              "<tr><td>7</td><td>34.7898939475648</td><td>-5.42053215829761</td><td>1.9407</td><td>1633228166190.24</td><td>1571.92375035589</td></tr>\n",
              "<tr><td>8</td><td>34.8067338722776</td><td>-5.35714472477323</td><td>2.9219</td><td>262978332262.599</td><td>1540.89465885952</td></tr>\n",
              "<tr><td>9</td><td>34.8919648322776</td><td>-5.34949297477323</td><td>2.8803</td><td>1364555930395.42</td><td>3619.57801552597</td></tr>\n",
              "<tr><td>10</td><td>34.9350279475648</td><td>-5.23579515829761</td><td>5.5878</td><td>39502900281.5883</td><td>1087.58841628607</td></tr>\n",
              "<tr><td>11</td><td>35.2255119475648</td><td>-5.80290615829762</td><td>3.7632</td><td>406959308136.167</td><td>1103.98605142256</td></tr>\n",
              "<tr><td>12</td><td>35.1835389475648</td><td>-5.73958815829761</td><td>4.5042</td><td>593236497030.535</td><td>1602.42365491299</td></tr>\n",
              "<tr><td>13</td><td>35.3909650422776</td><td>-5.81190011477323</td><td>1.877</td><td>2174825041572.36</td><td>2097.83103916779</td></tr>\n",
              "<tr><td>14</td><td>35.2058528730314</td><td>-5.54575028537423</td><td>4.2979</td><td>733028434993.243</td><td>1957.64582775986</td></tr>\n",
              "<tr><td>15</td><td>35.6529233022776</td><td>-5.64781026477323</td><td>2.8518</td><td>175000659329.127</td><td>1109.76505721406</td></tr>\n",
              "<tr><td>16</td><td>35.5107039475648</td><td>-5.56411215829761</td><td>2.7811</td><td>174837658438.832</td><td>1114.41373064963</td></tr>\n",
              "<tr><td>17</td><td>35.5920774685735</td><td>-5.5664786902912</td><td>2.2201</td><td>144383633793.247</td><td>1310.37760246103</td></tr>\n",
              "<tr><td>18</td><td>35.1453549475648</td><td>-5.34494115829762</td><td>4.7254</td><td>248881447432.875</td><td>1326.45569815482</td></tr>\n",
              "<tr><td>19</td><td>35.4081347722776</td><td>-5.44344290477323</td><td>5.7446</td><td>2366149415441.07</td><td>6267.24256980812</td></tr>\n",
              "<tr><td>20</td><td>35.3188729475648</td><td>-5.34646315829761</td><td>5.0969</td><td>427536638253.521</td><td>12357.2772583364</td></tr>\n",
              "<tr><td>21</td><td>35.1233584522776</td><td>-5.17298078477323</td><td>2.658</td><td>407490714991.295</td><td>1060.7713303599</td></tr>\n",
              "<tr><td>22</td><td>35.5321425322776</td><td>-5.31074318477323</td><td>2.7153</td><td>237283875750.296</td><td>1650.73939180245</td></tr>\n",
              "<tr><td>23</td><td>35.6350796822776</td><td>-5.37861774477323</td><td>3.1984</td><td>241024752834.531</td><td>1192.27002757693</td></tr>\n",
              "<tr><td>24</td><td>35.6156722322776</td><td>-5.13076963477323</td><td>1.0448</td><td>107872729745.113</td><td>1770.10404893357</td></tr>\n",
              "<tr><td>25</td><td>34.6320449475648</td><td>-5.10477015829762</td><td>4.157</td><td>511058748815.404</td><td>1631.15205728139</td></tr>\n",
              "<tr><td>26</td><td>34.5398173122776</td><td>-5.03342352477323</td><td>2.8353</td><td>188435484765.029</td><td>1272.10449442896</td></tr>\n",
              "<tr><td>27</td><td>34.5343513922776</td><td>-4.97925629477323</td><td>2.8276</td><td>1130620469548.15</td><td>2981.44407316261</td></tr>\n",
              "<tr><td>28</td><td>35.0087127422776</td><td>-5.01724400477323</td><td>1.7836</td><td>130544935192.487</td><td>1178.48403138048</td></tr>\n",
              "<tr><td>29</td><td>34.8470674622776</td><td>-4.86356870477323</td><td>2.6134</td><td>2156313508146.11</td><td>2081.60922436172</td></tr>\n",
              "<tr><td>30</td><td>34.8593275953778</td><td>-4.87017932896823</td><td>2.0086</td><td>380047213552.996</td><td>1446.19152001234</td></tr>\n",
              "<tr><td>31</td><td>34.6716713522776</td><td>-4.74353943477323</td><td>4.1966</td><td>1659172763657.32</td><td>4388.57513284079</td></tr>\n",
              "<tr><td>32</td><td>34.8210799475648</td><td>-4.66222915829761</td><td>1.961</td><td>431726346315.886</td><td>1180.27336165523</td></tr>\n",
              "<tr><td>33</td><td>35.0459769475648</td><td>-4.57680715829762</td><td>5.4398</td><td>43069469197.1919</td><td>1732.91174083607</td></tr>\n",
              "<tr><td>34</td><td>35.0597432722776</td><td>-4.48810737477323</td><td>2.3713</td><td>738926053578.875</td><td>1240.20201782855</td></tr>\n",
              "<tr><td>35</td><td>34.9913136522776</td><td>-4.48096846477323</td><td>4.0335</td><td>223226950110.709</td><td>3790.45155527935</td></tr>\n",
              "<tr><td>36</td><td>35.0725659475648</td><td>-4.47837915829762</td><td>5.7401</td><td>71980839213.5728</td><td>2911.59188388255</td></tr>\n",
              "<tr><td>37</td><td>35.1126787522776</td><td>-5.06723381477323</td><td>4.0084</td><td>215299221733.806</td><td>1503.75407866323</td></tr>\n",
              "<tr><td>38</td><td>35.1993039475648</td><td>-4.93103215829762</td><td>4.7968</td><td>67306776109.5649</td><td>1067.50475265492</td></tr>\n",
              "<tr><td>39</td><td>35.3034509475648</td><td>-4.85818015829761</td><td>5.4182</td><td>516930444764.813</td><td>1410.20116267768</td></tr>\n",
              "<tr><td>40</td><td>35.3437946222776</td><td>-4.78298735477323</td><td>2.6282</td><td>697832431779.717</td><td>1001.39657979695</td></tr>\n",
              "<tr><td>41</td><td>35.4100166822776</td><td>-4.58176314477323</td><td>5.7097</td><td>1100782300736.8</td><td>3397.05890650607</td></tr>\n",
              "<tr><td>42</td><td>35.3986569475648</td><td>-4.53185215829762</td><td>4.9121</td><td>549188376595.57</td><td>1530.85478372981</td></tr>\n",
              "<tr><td>43</td><td>35.3665699475648</td><td>-4.46945315829761</td><td>5.1317</td><td>967330337272.652</td><td>6574.87574209613</td></tr>\n",
              "<tr><td>44</td><td>35.3829471122776</td><td>-4.50434875477323</td><td>5.6973</td><td>396564451601.55</td><td>10507.3852549397</td></tr>\n",
              "<tr><td>45</td><td>35.3637209475648</td><td>-4.43832515829762</td><td>4.8074</td><td>922040330241.208</td><td>2465.22681594516</td></tr>\n",
              "<tr><td>46</td><td>35.5560172722776</td><td>-4.69489626477323</td><td>3.2863</td><td>245644401107.084</td><td>1032.67657367729</td></tr>\n",
              "<tr><td>47</td><td>35.4152109475648</td><td>-4.58418615829761</td><td>5.2981</td><td>75920551391.914</td><td>1104.88476324426</td></tr>\n",
              "<tr><td>48</td><td>35.5466289475648</td><td>-4.41404715829762</td><td>3.5154</td><td>86547153529.7278</td><td>1178.90293826913</td></tr>\n",
              "<tr><td>49</td><td>35.6139789475648</td><td>-4.38014015829761</td><td>3.8538</td><td>607827120555.689</td><td>1617.39514188156</td></tr>\n",
              "<tr><td>50</td><td>36.0979485222776</td><td>-5.76325033477323</td><td>3.4034</td><td>188106563792.755</td><td>1120.77840971595</td></tr>\n",
              "<tr><td>51</td><td>36.2102444822776</td><td>-5.67551584477323</td><td>1.0185</td><td>3255706377043.44</td><td>1920.72815887178</td></tr>\n",
              "<tr><td>52</td><td>35.7069823922776</td><td>-5.24811251477323</td><td>1.9588</td><td>1402346615034.02</td><td>1351.51725035982</td></tr>\n",
              "<tr><td>53</td><td>35.7156899722776</td><td>-5.12014972477323</td><td>4.0646</td><td>1375482767484.95</td><td>3640.17659626632</td></tr>\n",
              "<tr><td>54</td><td>35.9558417215293</td><td>-5.08123655684401</td><td>2.3927</td><td>292148719758.566</td><td>1728.19322887365</td></tr>\n",
              "<tr><td>55</td><td>36.2055862369884</td><td>-5.34676220401501</td><td>4.6843</td><td>927085429952.369</td><td>2473.71860380698</td></tr>\n",
              "<tr><td>56</td><td>36.2323905222776</td><td>-5.36664821477323</td><td>2.7901</td><td>296664111033.889</td><td>1131.27636639451</td></tr>\n",
              "<tr><td>57</td><td>36.3505779475648</td><td>-5.47461615829761</td><td>3.7484</td><td>582577694281.789</td><td>1565.6044057002</td></tr>\n",
              "<tr><td>58</td><td>36.5147909475648</td><td>-5.17955715829761</td><td>1.7127</td><td>127317669358.594</td><td>1041.47581013654</td></tr>\n",
              "<tr><td>59</td><td>36.4796089475648</td><td>-5.08775215829762</td><td>2.5878</td><td>1134991405321.31</td><td>1095.46183902282</td></tr>\n",
              "<tr><td>60</td><td>36.6752489475648</td><td>-5.33379515829762</td><td>5.7714</td><td>432258357395.311</td><td>1187.85391142476</td></tr>\n",
              "<tr><td>61</td><td>36.0797872822776</td><td>-5.01146555477323</td><td>1.6638</td><td>2539040423698.19</td><td>2447.05803634788</td></tr>\n",
              "<tr><td>62</td><td>36.2182438563488</td><td>-4.9582644928832</td><td>4.9199</td><td>34860166563.6005</td><td>1283.26531165882</td></tr>\n",
              "<tr><td>63</td><td>36.1363428563488</td><td>-4.6962234928832</td><td>4.8449</td><td>181441794701.713</td><td>1053.62219420884</td></tr>\n",
              "<tr><td>64</td><td>36.1849008563488</td><td>-4.7264394928832</td><td>2.1107</td><td>89988800528.9649</td><td>1076.1570203295</td></tr>\n",
              "<tr><td>65</td><td>36.2263017522776</td><td>-4.71997444477323</td><td>4.2404</td><td>465282016792.039</td><td>2505.3326753472</td></tr>\n",
              "<tr><td>66</td><td>35.7583499475648</td><td>-4.64319515829762</td><td>3.6662</td><td>190130950166.163</td><td>1167.69113957868</td></tr>\n",
              "<tr><td>67</td><td>35.8901949475648</td><td>-4.66560015829761</td><td>2.2733</td><td>26605991190.315</td><td>1035.17172426637</td></tr>\n",
              "<tr><td>68</td><td>35.7154351707378</td><td>-4.4029452057986</td><td>2.0026</td><td>283111120546.35</td><td>1333.63498274499</td></tr>\n",
              "<tr><td>69</td><td>35.799661809384</td><td>-4.38429113528852</td><td>2.7166</td><td>389712769363.929</td><td>1032.22170944533</td></tr>\n",
              "<tr><td>70</td><td>36.1784708522776</td><td>-4.59642973477323</td><td>3.4073</td><td>131316878777.915</td><td>1277.07255083826</td></tr>\n",
              "<tr><td>71</td><td>36.4017967222776</td><td>-5.00331357477323</td><td>0.6186</td><td>4471631892546.51</td><td>1292.18018141735</td></tr>\n",
              "<tr><td>72</td><td>36.3099753122776</td><td>-4.78341661477323</td><td>1.8894</td><td>382538251352.129</td><td>1613.88982482428</td></tr>\n",
              "<tr><td>73</td><td>36.8094048563488</td><td>-4.9287974928832</td><td>5.1783</td><td>2233484517578.69</td><td>5927.14655026521</td></tr>\n",
              "<tr><td>74</td><td>36.81473108181</td><td>-4.93093708298349</td><td>2.5745</td><td>223036499146.185</td><td>1149.05772914591</td></tr>\n",
              "<tr><td>75</td><td>36.6234348922776</td><td>-4.82071365477323</td><td>3.4236</td><td>525455414268.46</td><td>1636.39977949769</td></tr>\n",
              "<tr><td>76</td><td>36.6267778563488</td><td>-4.7715794928832</td><td>5.0673</td><td>871297489556.718</td><td>4639.13391835221</td></tr>\n",
              "<tr><td>77</td><td>36.8464058563488</td><td>-4.8150484928832</td><td>4.6405</td><td>189519721627.472</td><td>1262.38199014912</td></tr>\n",
              "<tr><td>78</td><td>36.8061359475648</td><td>-4.69195315829761</td><td>4.8065</td><td>30754904554.7029</td><td>1168.71031733041</td></tr>\n",
              "<tr><td>79</td><td>36.6503224522776</td><td>-4.57474336477323</td><td>2.7309</td><td>238012956443.017</td><td>1594.59579047057</td></tr>\n",
              "<tr><td>80</td><td>36.5969715122776</td><td>-4.48151001477323</td><td>3.7854</td><td>961992627171.472</td><td>2547.57023305508</td></tr>\n",
              "<tr><td>81</td><td>36.6027918563488</td><td>-4.3865804928832</td><td>2.3687</td><td>206288255781.941</td><td>1039.54895968725</td></tr>\n",
              "<tr><td>82</td><td>36.6452738563488</td><td>-4.3268404928832</td><td>2.8103</td><td>101786249465.191</td><td>1012.89513206236</td></tr>\n",
              "<tr><td>83</td><td>36.6667580422776</td><td>-4.30260918477323</td><td>1.8706</td><td>128160062182.402</td><td>1078.41589039397</td></tr>\n",
              "<tr><td>84</td><td>34.7453059022776</td><td>-4.39900060477323</td><td>2.8043</td><td>314699519653.939</td><td>1391.81738541518</td></tr>\n",
              "<tr><td>85</td><td>34.7760575722776</td><td>-4.32613641477323</td><td>3.2416</td><td>250345855822.613</td><td>1979.99411443603</td></tr>\n",
              "<tr><td>86</td><td>34.5889688822776</td><td>-4.18045903477323</td><td>2.8536</td><td>508391759141.404</td><td>1362.51463338931</td></tr>\n",
              "<tr><td>87</td><td>34.5408193322776</td><td>-4.13581516477323</td><td>3.7948</td><td>373909098919.583</td><td>2310.70290351374</td></tr>\n",
              "<tr><td>88</td><td>34.6282772122776</td><td>-4.05162796477323</td><td>3.0815</td><td>459697147914.469</td><td>1225.31450004264</td></tr>\n",
              "<tr><td>89</td><td>34.7390319475648</td><td>-4.11482315829761</td><td>5.1092</td><td>1802990206500.36</td><td>4798.3517605931</td></tr>\n",
              "<tr><td>90</td><td>34.8780879475648</td><td>-4.35490215829761</td><td>3.6427</td><td>443879348217.08</td><td>1466.75402273708</td></tr>\n",
              "<tr><td>91</td><td>34.9103013550186</td><td>-4.36880392964102</td><td>4.0738</td><td>398059999419.483</td><td>1092.08617444129</td></tr>\n",
              "<tr><td>92</td><td>34.5447664622776</td><td>-4.03364427477323</td><td>5.7821</td><td>358145873841.936</td><td>9107.79626997041</td></tr>\n",
              "<tr><td>93</td><td>35.0128507522776</td><td>-3.87982542477323</td><td>2.7428</td><td>849021139324.318</td><td>2246.37475295397</td></tr>\n",
              "<tr><td>94</td><td>35.2901749475648</td><td>-4.32656515829762</td><td>5.534</td><td>243104195145.753</td><td>3839.67359349602</td></tr>\n",
              "<tr><td>95</td><td>35.3461714822776</td><td>-4.32838325477323</td><td>2.8423</td><td>45195627794.3027</td><td>1765.84734661283</td></tr>\n",
              "<tr><td>96</td><td>35.1544219475648</td><td>-4.15335015829761</td><td>5.0421</td><td>705470691338.353</td><td>1895.69249168985</td></tr>\n",
              "<tr><td>97</td><td>35.3975229475648</td><td>-4.03383715829762</td><td>3.4908</td><td>35412478559.336</td><td>1263.75716608771</td></tr>\n",
              "<tr><td>98</td><td>35.4759145822776</td><td>-4.24960577477323</td><td>2.5175</td><td>320818810830.81</td><td>1876.23522781576</td></tr>\n",
              "<tr><td>99</td><td>35.6446593622776</td><td>-4.07159427477323</td><td>2.57</td><td>123376545743.833</td><td>1116.57448298443</td></tr>\n",
              "</table><style>table.dataTable {clear: both; width: auto !important; margin: 0 !important;}\n",
              ".dataTables_info, .dataTables_length, .dataTables_filter, .dataTables_paginate{\n",
              "display: inline-block; margin-right: 1em; }\n",
              ".paginate_button { margin-right: 5px; }\n",
              "</style>\n",
              "<script>\n",
              "\n",
              "var astropy_sort_num = function(a, b) {\n",
              "    var a_num = parseFloat(a);\n",
              "    var b_num = parseFloat(b);\n",
              "\n",
              "    if (isNaN(a_num) && isNaN(b_num))\n",
              "        return ((a < b) ? -1 : ((a > b) ? 1 : 0));\n",
              "    else if (!isNaN(a_num) && !isNaN(b_num))\n",
              "        return ((a_num < b_num) ? -1 : ((a_num > b_num) ? 1 : 0));\n",
              "    else\n",
              "        return isNaN(a_num) ? -1 : 1;\n",
              "}\n",
              "\n",
              "require.config({paths: {\n",
              "    datatables: 'https://cdn.datatables.net/1.10.12/js/jquery.dataTables.min'\n",
              "}});\n",
              "require([\"datatables\"], function(){\n",
              "    console.log(\"$('#table139893047750032-985486').dataTable()\");\n",
              "    \n",
              "jQuery.extend( jQuery.fn.dataTableExt.oSort, {\n",
              "    \"optionalnum-asc\": astropy_sort_num,\n",
              "    \"optionalnum-desc\": function (a,b) { return -astropy_sort_num(a, b); }\n",
              "});\n",
              "\n",
              "    $('#table139893047750032-985486').dataTable({\n",
              "        order: [],\n",
              "        pageLength: 50,\n",
              "        lengthMenu: [[10, 25, 50, 100, 500, 1000, -1], [10, 25, 50, 100, 500, 1000, 'All']],\n",
              "        pagingType: \"full_numbers\",\n",
              "        columnDefs: [{targets: [0, 1, 2, 3, 4, 5], type: \"optionalnum\"}]\n",
              "    });\n",
              "});\n",
              "</script>\n"
            ],
            "text/plain": [
              "<IPython.core.display.HTML object>"
            ]
          },
          "metadata": {
            "tags": []
          },
          "execution_count": 24
        }
      ]
    },
    {
      "cell_type": "markdown",
      "metadata": {
        "id": "YYIE70eLoqUN"
      },
      "source": [
        "Lets look at the marginalised distributions"
      ]
    },
    {
      "cell_type": "code",
      "metadata": {
        "colab": {
          "base_uri": "https://localhost:8080/",
          "height": 553
        },
        "id": "TdLDYXcyoo8_",
        "outputId": "5f9fc81f-fa72-48cb-cf72-e5e96502a0bc"
      },
      "source": [
        "g=sns.PairGrid(masterlist[['redshift','cigale_sfr','cigale_mstar']].to_pandas())\n",
        "g.map_diag(plt.hist)\n",
        "g.map_upper(plt.scatter)\n",
        "g.map_lower(plt.scatter)\n",
        "\n",
        "g.axes[0,1].set_xscale('log')\n",
        "g.axes[0,2].set_xscale('log')\n",
        "g.axes[1,0].set_yscale('log')\n",
        "g.axes[2,0].set_yscale('log')"
      ],
      "execution_count": 33,
      "outputs": [
        {
          "output_type": "display_data",
          "data": {
            "image/png": "[encoded data removed]",
            "text/plain": [
              "<Figure size 540x540 with 12 Axes>"
            ]
          },
          "metadata": {
            "tags": [],
            "needs_background": "light"
          }
        }
      ]
    },
    {
      "cell_type": "markdown",
      "metadata": {
        "id": "z45c21dTp_hS"
      },
      "source": [
        "Lets look at the object that has an SFR of over 12000 $M_{\\odot}/yr$"
      ]
    },
    {
      "cell_type": "markdown",
      "metadata": {
        "id": "3oBCv_izt0Ix"
      },
      "source": [
        "![](https://avatars1.githubusercontent.com/u/7880370?s=75&v=4)\n",
        "\n",
        "**Authors**: Peter Hurley\n",
        "\n",
        "The Herschel Extragalactic Legacy Project, (HELP), is a European Commission Research Executive Agency funded project under the SP1-Cooperation, Collaborative project, Small or medium-scale focused research project, FP7-SPACE-2013-1 scheme, Grant Agreement Number 607254.\n"
      ]
    },
    {
      "cell_type": "code",
      "metadata": {
        "id": "KWdxlnGDp_N6"
      },
      "source": [
        ""
      ],
      "execution_count": null,
      "outputs": []
    },
    {
      "cell_type": "code",
      "metadata": {
        "id": "XUpnbYr2ox7s"
      },
      "source": [
        ""
      ],
      "execution_count": null,
      "outputs": []
    }
  ]
}