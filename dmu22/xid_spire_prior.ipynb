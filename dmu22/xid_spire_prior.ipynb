{
 "cells": [
  {
   "cell_type": "markdown",
   "metadata": {},
   "source": [
    "# XID+ prior model for blind catalogues\n",
    "\n",
    "![HELP LOGO](https://avatars1.githubusercontent.com/u/7880370?s=100&v=4>)\n",
    "\n",
    "\n",
    "The final processing stage requires:\n",
    "1. Create xid+ prior files for all fields\n",
    "2. Description on runnning xid+\n"
   ]
  },
  {
   "cell_type": "code",
   "execution_count": 2,
   "metadata": {},
   "outputs": [
    {
     "name": "stderr",
     "output_type": "stream",
     "text": [
      "/Users/Steven/anaconda/envs/herschelhelp_internal/lib/python3.6/site-packages/matplotlib/cbook/deprecation.py:107: MatplotlibDeprecationWarning: The mpl_toolkits.axes_grid module was deprecated in version 2.1. Use mpl_toolkits.axes_grid1 and mpl_toolkits.axisartist provies the same functionality instead.\n",
      "  warnings.warn(message, mplDeprecation, stacklevel=1)\n"
     ]
    }
   ],
   "source": [
    "import pylab\n",
    "import pymoc\n",
    "import xidplus\n",
    "\n",
    "import numpy as np\n",
    "%matplotlib inline\n",
    "from astropy.table import Table\n",
    "import os\n",
    "import seaborn as sns"
   ]
  },
  {
   "cell_type": "markdown",
   "metadata": {},
   "source": [
    "This notebook uses all the raw data from the Blind SPIRE catalogue to create XID+ prior object and relevant tiling scheme"
   ]
  },
  {
   "cell_type": "markdown",
   "metadata": {},
   "source": [
    "## Read in XID+SPIRE catalogue"
   ]
  },
  {
   "cell_type": "code",
   "execution_count": 6,
   "metadata": {},
   "outputs": [
    {
     "name": "stdout",
     "output_type": "stream",
     "text": [
      "SA13_SPIRE\n"
     ]
    }
   ],
   "source": [
    "name_field= ['AKARI-SEP_SPIRE','EGS_SPIRE','ELAIS-S1_SPIRE','SA13_SPIRE','XMM-13hr_SPIRE',\\\n",
    "            'COSMOS_SPIRE','ELAIS-N2_SPIRE','HDF-N_SPIRE','SPIRE-NEP_SPIRE','xFLS_SPIRE','ELAIS-N1_SPIRE',\\\n",
    "            'XMM-LSS_SPIRE','Lockman-SWIRE_SPIRE','CDFS-SWIRE_SPIRE', 'GAMA-09_SPIRE','GAMA-12_SPIRE',\\\n",
    "            'GAMA-15_SPIRE','SSDF_SPIRE','Bootes_SPIRE','HATLAS-NGP_SPIRE','HATLAS-SGP_SPIRE','AKARI-NEP_SPIRE']\n",
    "which_field = 3\n",
    "name_field = name_field[which_field] # select a field, in this case SA13\n",
    "print(name_field)\n",
    "loc = 'dmu22_'+name_field[0:-6]+'/data/'\n",
    "XID_table=Table.read(loc+name_field+'_all.fits')"
   ]
  },
  {
   "cell_type": "code",
   "execution_count": 7,
   "metadata": {},
   "outputs": [
    {
     "data": {
      "text/html": [
       "<i>Table length=10</i>\n",
       "<table id=\"table112172018880\" class=\"table-striped table-bordered table-condensed\">\n",
       "<thead><tr><th>RA</th><th>Dec</th><th>F_BLIND_MF_SPIRE_250</th><th>FErr_BLIND_MF_SPIRE_250</th><th>F_BLIND_MF_SPIRE_350</th><th>FErr_BLIND_MF_SPIRE_350</th><th>F_BLIND_MF_SPIRE_500</th><th>FErr_BLIND_MF_SPIRE_500</th><th>r</th><th>P</th><th>RA_pix</th><th>Dec_pix</th><th>F_BLIND_pix_SPIRE</th><th>FErr_BLIND_pix_SPIRE</th><th>flag</th></tr></thead>\n",
       "<thead><tr><th>deg</th><th>deg</th><th>Jy</th><th>Jy</th><th>Jy</th><th>Jy</th><th>Jy</th><th>Jy</th><th></th><th></th><th>deg</th><th>deg</th><th>Jy</th><th>Jy</th><th></th></tr></thead>\n",
       "<thead><tr><th>float64</th><th>float64</th><th>float64</th><th>float64</th><th>float64</th><th>float64</th><th>float64</th><th>float64</th><th>float64</th><th>float64</th><th>float64</th><th>float64</th><th>float64</th><th>float64</th><th>float64</th></tr></thead>\n",
       "<tr><td>198.06337961</td><td>42.777285694</td><td>0.174921463062</td><td>0.00411698069274</td><td>0.0848341568104</td><td>0.00383701629864</td><td>0.0266220019538</td><td>0.00442267945767</td><td>0.880306019381</td><td>1.0</td><td>198.0622444</td><td>42.7781191216</td><td>0.152322496208</td><td>0.00403260597164</td><td>0.0</td></tr>\n",
       "<tr><td>198.329407543</td><td>42.773343072</td><td>0.118975870006</td><td>0.00540319640865</td><td>0.0545838147223</td><td>0.00565900507626</td><td>0.0175428012507</td><td>0.005563266414</td><td>0.784632010795</td><td>1.0</td><td>198.330169333</td><td>42.7744523474</td><td>0.130994825707</td><td>0.00605067733462</td><td>0.0</td></tr>\n",
       "<tr><td>198.00639904</td><td>42.5592214774</td><td>0.113273783798</td><td>0.00406633884128</td><td>0.0793237587566</td><td>0.00410391673076</td><td>0.0444053602442</td><td>0.0042688952543</td><td>0.911868542159</td><td>1.0</td><td>198.005644381</td><td>42.5597767196</td><td>0.111921783735</td><td>0.00398707240269</td><td>0.0</td></tr>\n",
       "<tr><td>197.991791843</td><td>42.8397695835</td><td>0.0896780758099</td><td>0.00397924498275</td><td>0.0572663233901</td><td>0.00389896981598</td><td>0.0351235968433</td><td>0.00473998490223</td><td>0.847715305286</td><td>1.0</td><td>197.991791843</td><td>42.8397695835</td><td>0.0893860583827</td><td>0.00390532763268</td><td>0.0</td></tr>\n",
       "<tr><td>198.342598377</td><td>42.5996998443</td><td>0.0762023576227</td><td>0.0056582987614</td><td>0.0380412504912</td><td>0.00685315010816</td><td>0.0217257330937</td><td>0.00652934354966</td><td>0.809571876268</td><td>1.0</td><td>198.342974438</td><td>42.5994211208</td><td>0.0873410027586</td><td>0.00555015594339</td><td>0.0</td></tr>\n",
       "<tr><td>198.267161768</td><td>42.8293089882</td><td>0.0817752615638</td><td>0.00531935198585</td><td>0.0223310562285</td><td>0.00582153019135</td><td>0.00308796638223</td><td>0.00617319054322</td><td>0.692136338787</td><td>1.0</td><td>198.266783968</td><td>42.8295874676</td><td>0.079489839312</td><td>0.00521785795632</td><td>0.0</td></tr>\n",
       "<tr><td>198.025152372</td><td>42.7870049436</td><td>0.0755291999502</td><td>0.00382864826869</td><td>0.044233146678</td><td>0.00374377864238</td><td>0.0174650290569</td><td>0.00392739300945</td><td>0.83672750294</td><td>1.0</td><td>198.025909623</td><td>42.786449571</td><td>0.0741238667737</td><td>0.00375610547806</td><td>0.0</td></tr>\n",
       "<tr><td>197.855149993</td><td>42.5671160212</td><td>0.0685685028067</td><td>0.0051566457393</td><td>0.0608390412102</td><td>0.00574253314892</td><td>0.0544541463514</td><td>0.00663157706565</td><td>0.893320880645</td><td>1.0</td><td>197.85401584</td><td>42.5679473904</td><td>0.073739195298</td><td>0.005056220699</td><td>0.0</td></tr>\n",
       "<tr><td>198.264733413</td><td>42.894590782</td><td>0.0755286542811</td><td>0.00753808422757</td><td>0.0204314174933</td><td>0.00760585287313</td><td>0.00389119355737</td><td>0.00673442064752</td><td>0.707805667434</td><td>1.0</td><td>198.264733413</td><td>42.894590782</td><td>0.0718701487337</td><td>0.00736886940102</td><td>0.0</td></tr>\n",
       "<tr><td>197.938720886</td><td>42.6538959062</td><td>0.0747532915357</td><td>0.00388832995903</td><td>0.0240716569564</td><td>0.00376750336467</td><td>0.00374643173661</td><td>0.00404092810127</td><td>0.717660739207</td><td>1.0</td><td>197.937586262</td><td>42.6547281036</td><td>0.0717401624925</td><td>0.00381652826373</td><td>0.0</td></tr>\n",
       "</table>"
      ],
      "text/plain": [
       "<Table length=10>\n",
       "      RA           Dec      ... FErr_BLIND_pix_SPIRE   flag \n",
       "     deg           deg      ...          Jy                 \n",
       "   float64       float64    ...       float64        float64\n",
       "------------- ------------- ... -------------------- -------\n",
       " 198.06337961  42.777285694 ...     0.00403260597164     0.0\n",
       "198.329407543  42.773343072 ...     0.00605067733462     0.0\n",
       " 198.00639904 42.5592214774 ...     0.00398707240269     0.0\n",
       "197.991791843 42.8397695835 ...     0.00390532763268     0.0\n",
       "198.342598377 42.5996998443 ...     0.00555015594339     0.0\n",
       "198.267161768 42.8293089882 ...     0.00521785795632     0.0\n",
       "198.025152372 42.7870049436 ...     0.00375610547806     0.0\n",
       "197.855149993 42.5671160212 ...       0.005056220699     0.0\n",
       "198.264733413  42.894590782 ...     0.00736886940102     0.0\n",
       "197.938720886 42.6538959062 ...     0.00381652826373     0.0"
      ]
     },
     "execution_count": 7,
     "metadata": {},
     "output_type": "execute_result"
    }
   ],
   "source": [
    "XID_table[0:10]"
   ]
  },
  {
   "cell_type": "markdown",
   "metadata": {},
   "source": [
    "The uncertianties become Gaussian by $\\sim 20 \\mathrm{\\mu Jy}$"
   ]
  },
  {
   "cell_type": "markdown",
   "metadata": {},
   "source": [
    "## Read in Maps"
   ]
  },
  {
   "cell_type": "code",
   "execution_count": 15,
   "metadata": {},
   "outputs": [],
   "source": [
    "loc = '../dmu19/dmu19_HELP-SPIRE-maps/data/'\n",
    "name = [name_field+'250_v1.0.fits',name_field+'350_v1.0.fits',name_field+'500_v1.0.fits']\n",
    "pswfits=loc+name[0]\n",
    "pmwfits=loc+name[1]\n",
    "plwfits=loc+name[2]\n",
    "os.mkdir('./OUT_'+name_field[0:-6])\n",
    "output_folder ='./OUT_'+name_field[0:-6]+'/'\n"
   ]
  },
  {
   "cell_type": "code",
   "execution_count": 16,
   "metadata": {},
   "outputs": [],
   "source": [
    "from astropy.io import fits\n",
    "from astropy import wcs\n",
    "\n",
    "#-----250-------------\n",
    "hdulist = fits.open(pswfits)\n",
    "im250phdu=hdulist[0].header\n",
    "im250hdu=hdulist[1].header\n",
    "\n",
    "im250=hdulist['IMAGE'].data*1.0E3 #convert to mJy\n",
    "nim250=hdulist['ERROR'].data*1.0E3 #convert to mJy\n",
    "w_250 = wcs.WCS(hdulist[1].header)\n",
    "pixsize250 = hdulist[\"Matchedfilter\"].header[\"PIXSIZE\"] \n",
    "\n",
    "hdulist.close()\n",
    "#-----350-------------\n",
    "hdulist = fits.open(pmwfits)\n",
    "im350phdu=hdulist[0].header\n",
    "im350hdu=hdulist[1].header\n",
    "\n",
    "im350=hdulist['IMAGE'].data*1.0E3 #convert to mJy\n",
    "nim350=hdulist['ERROR'].data*1.0E3 #convert to mJy\n",
    "w_350 = wcs.WCS(hdulist[1].header)\n",
    "pixsize350 = hdulist[\"Matchedfilter\"].header[\"PIXSIZE\"] \n",
    "hdulist.close()\n",
    "#-----500-------------\n",
    "hdulist = fits.open(plwfits)\n",
    "im500phdu=hdulist[0].header\n",
    "im500hdu=hdulist[1].header\n",
    "im500=hdulist['IMAGE'].data*1.0E3 #convert to mJy\n",
    "nim500=hdulist['ERROR'].data*1.0E3 #convert to mJy\n",
    "w_500 = wcs.WCS(hdulist[1].header)\n",
    "pixsize500 = hdulist[\"Matchedfilter\"].header[\"PIXSIZE\"] \n",
    "\n",
    "hdulist.close()"
   ]
  },
  {
   "cell_type": "code",
   "execution_count": 17,
   "metadata": {},
   "outputs": [],
   "source": [
    "## Set XID+ prior class\n",
    "ID = np.arange(1,np.size(XID_table['RA'])+1)\n",
    "ID = ID.astype(str)"
   ]
  },
  {
   "cell_type": "code",
   "execution_count": 19,
   "metadata": {},
   "outputs": [],
   "source": [
    "#---prior250--------\n",
    "prior250=xidplus.prior(im250,nim250,im250phdu,im250hdu)#Initialise with map, uncertianty map, wcs info and primary header\n",
    "prior250.prior_cat(XID_table['RA'],XID_table['Dec'],name_field+'_250_XID.fits',ID=ID)#Set input catalogue\n",
    "prior250.prior_bkg(-5.0,5)#Set prior on background (assumes Gaussian pdf with mu and sigma)\n",
    "#---prior350--------\n",
    "prior350=xidplus.prior(im350,nim350,im350phdu,im350hdu)\n",
    "prior350.prior_cat(XID_table['RA'],XID_table['Dec'],name_field+'_350_XID.fits',ID=ID)#Set input catalogue\n",
    "prior350.prior_bkg(-5.0,5)\n",
    "\n",
    "#---prior500--------\n",
    "prior500=xidplus.prior(im500,nim500,im500phdu,im500hdu)\n",
    "prior500.prior_cat(XID_table['RA'],XID_table['Dec'],name_field+'_500_XID.fits',ID=ID)#Set input catalogue\n",
    "prior500.prior_bkg(-5.0,5)\n"
   ]
  },
  {
   "cell_type": "code",
   "execution_count": 20,
   "metadata": {},
   "outputs": [],
   "source": [
    "#pixsize array (size of pixels in arcseconds)\n",
    "pixsize=np.array([pixsize250,pixsize350,pixsize500])\n",
    "#point response function for the three bands\n",
    "prfsize=np.array([18.15,25.15,36.3])\n",
    "#use Gaussian2DKernel to create prf (requires stddev rather than fwhm hence pfwhm/2.355)\n",
    "from astropy.convolution import Gaussian2DKernel\n",
    "\n",
    "##---------fit using Gaussian beam-----------------------\n",
    "prf250=Gaussian2DKernel(prfsize[0]/2.355,x_size=101,y_size=101)\n",
    "prf250.normalize(mode='peak')\n",
    "prf350=Gaussian2DKernel(prfsize[1]/2.355,x_size=101,y_size=101)\n",
    "prf350.normalize(mode='peak')\n",
    "prf500=Gaussian2DKernel(prfsize[2]/2.355,x_size=101,y_size=101)\n",
    "prf500.normalize(mode='peak')\n",
    "\n",
    "pind250=np.arange(0,101,1)*1.0/pixsize[0] #get 250 scale in terms of pixel scale of map\n",
    "pind350=np.arange(0,101,1)*1.0/pixsize[1] #get 350 scale in terms of pixel scale of map\n",
    "pind500=np.arange(0,101,1)*1.0/pixsize[2] #get 500 scale in terms of pixel scale of map\n",
    "\n",
    "prior250.set_prf(prf250.array,pind250,pind250)#requires psf as 2d grid, and x and y bins for grid (in pixel scale)\n",
    "prior350.set_prf(prf350.array,pind350,pind350)\n",
    "prior500.set_prf(prf500.array,pind500,pind500)"
   ]
  },
  {
   "cell_type": "code",
   "execution_count": 21,
   "metadata": {},
   "outputs": [
    {
     "name": "stdout",
     "output_type": "stream",
     "text": [
      "----- There are 5 tiles required for input catalogue and 2 large tiles\n"
     ]
    }
   ],
   "source": [
    "import pickle\n",
    "#from moc, get healpix pixels at a given order\n",
    "from xidplus import moc_routines\n",
    "\n",
    "order=7 \n",
    "tiles=moc_routines.get_HEALPix_pixels(order,prior250.sra,prior250.sdec,unique=True)\n",
    "order_large=6\n",
    "tiles_large=moc_routines.get_HEALPix_pixels(order_large,prior250.sra,prior250.sdec,unique=True)\n",
    "print('----- There are '+str(len(tiles))+' tiles required for input catalogue and '+str(len(tiles_large))+' large tiles')\n",
    "#output_folder='./'\n",
    "outfile=output_folder+'Master_prior.pkl'\n",
    "\n",
    "with open(outfile, 'wb') as f:\n",
    "    xidplus.io.pickle.dump({'priors':[prior250,prior350,prior500],'tiles':tiles,'order':order,'version':xidplus.io.git_version()},f)\n",
    "    \n",
    "outfile=output_folder+'Tiles.pkl'\n",
    "with open(outfile, 'wb') as f:\n",
    "    pickle.dump({'tiles':tiles,'order':order,'tiles_large':tiles_large,'order_large':order_large,'version':xidplus.io.git_version()},f)\n"
   ]
  },
  {
   "cell_type": "code",
   "execution_count": 22,
   "metadata": {},
   "outputs": [
    {
     "name": "stdout",
     "output_type": "stream",
     "text": [
      "./OUT_SA13/\n"
     ]
    }
   ],
   "source": [
    "print(output_folder)"
   ]
  },
  {
   "cell_type": "markdown",
   "metadata": {
    "collapsed": true
   },
   "source": [
    "## The Master_prior.pkl and Tiles.pkl are used to run XID+\n",
    "# Running on Apollo\n"
   ]
  },
  {
   "cell_type": "markdown",
   "metadata": {
    "collapsed": true
   },
   "source": [
    "% mv XID\\_plus\\_hier.sh OUT\\_\"name_field\"\n",
    "\n",
    "% cd OUT_\"name_field\"\n",
    "\n",
    "% module load sge\n",
    "\n",
    "% qsub -t 1-$n_hier -q mps.q -jc mps.short XID_plus_hier.sh \n",
    "\n",
    "### n_hier is the number of large tiles\n",
    "\n",
    "% cd ..\n",
    "\n",
    "% qsub -t 1-$n_tiles -pe openmp 4 -l h_rt=6:00:00 -l m_mem_free=13G -q mps.q XID_plus_tile.sh\n",
    "### n_hier is the number of small tiles\n",
    "### Then combine the Bayesian maps into one:\n",
    "\n",
    "% python make_combined_map.py\n",
    "\n",
    "% cd output\n",
    "\n",
    "% ls *cat.fits > cat_files \n",
    "\n",
    "% module load starlink/hikianalia-64bit\n",
    "\n",
    "% stilts tcat ifmt=fits in=@cat_files out=dmu22_XID+SPIRE_\"name_field\"_BLIND.fits\n",
    "\n"
   ]
  },
  {
   "cell_type": "markdown",
   "metadata": {
    "collapsed": true
   },
   "source": [
    "## The data products are:\n",
    "### dmu22XID+SPIRE\"name_field\"_BLIND.fits\n",
    "#### dmu22_XID+SPIRE\\_psw_\"name_field\"_Bayes_Pval\n",
    "#### dmu22_XID+SPIRE\\_pmw_\"name_field\"_Bayes_Pval\n",
    "#### dmu22_XID+SPIRE\\_plw_\"name_field\"_Bayes_Pval"
   ]
  },
  {
   "cell_type": "markdown",
   "metadata": {},
   "source": [
    "# Final validation of the data can be found at: \n",
    "# http://hedam.lam.fr/HELP/dataproducts/dmu22/\n",
    "# or\n",
    "# https://github.com/H-E-L-P/dmu_products/tree/master/dmu22\n",
    "# dmu22_\"name\\_field\"/XID+BLIND_\"name_field\"_final_processing.ipynb"
   ]
  },
  {
   "cell_type": "markdown",
   "metadata": {
    "collapsed": true
   },
   "source": [
    "*This is a default HELP jupyter notebook *\n",
    "\n",
    " ![HELP LOGO](https://avatars1.githubusercontent.com/u/7880370?s=75&v=4)\n",
    "\n",
    "**Authors**: S. Duivenvoorden, P.D. Hurely\n",
    "\n",
    " \n",
    "For a full description of the database and how it is organised in to `dmu_products` please the top level [readme](../readme.md).\n",
    " \n",
    "The Herschel Extragalactic Legacy Project, ([HELP](http://herschel.sussex.ac.uk/)), is a [European Commission Research Executive Agency](https://ec.europa.eu/info/departments/research-executive-agency_en)\n",
    "funded project under the SP1-Cooperation, Collaborative project, Small or medium-scale focused research project, FP7-SPACE-2013-1 scheme, Grant Agreement\n",
    "Number 607254.\n",
    "\n",
    "[Acknowledgements](http://herschel.sussex.ac.uk/acknowledgements)"
   ]
  },
  {
   "cell_type": "code",
   "execution_count": null,
   "metadata": {},
   "outputs": [],
   "source": []
  }
 ],
 "metadata": {
  "kernelspec": {
   "display_name": "Python 3",
   "language": "python",
   "name": "python3"
  },
  "language_info": {
   "codemirror_mode": {
    "name": "ipython",
    "version": 3
   },
   "file_extension": ".py",
   "mimetype": "text/x-python",
   "name": "python",
   "nbconvert_exporter": "python",
   "pygments_lexer": "ipython3",
   "version": "3.6.5"
  }
 },
 "nbformat": 4,
 "nbformat_minor": 2
}
