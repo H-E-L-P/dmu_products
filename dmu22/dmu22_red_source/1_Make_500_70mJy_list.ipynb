{
 "cells": [
  {
   "cell_type": "markdown",
   "metadata": {},
   "source": [
    "# Get every blind source above 70mJy\n",
    "\n",
    "We also make a full catalogue to ingest into the VO."
   ]
  },
  {
   "cell_type": "code",
   "execution_count": 1,
   "metadata": {},
   "outputs": [],
   "source": [
    "import glob\n",
    "from astropy.table import Table, Column, vstack\n",
    "import numpy as np\n"
   ]
  },
  {
   "cell_type": "code",
   "execution_count": 2,
   "metadata": {},
   "outputs": [],
   "source": [
    "cats = glob.glob('../dmu22_*/data/dmu22_XID+SPIRE_*_BLIND_Matched_MF.fits')"
   ]
  },
  {
   "cell_type": "code",
   "execution_count": 3,
   "metadata": {},
   "outputs": [
    {
     "data": {
      "text/plain": [
       "['../dmu22_HATLAS-SGP/data/dmu22_XID+SPIRE_HATLAS-SGP_BLIND_Matched_MF.fits',\n",
       " '../dmu22_ELAIS-N1/data/dmu22_XID+SPIRE_ELAIS-N1_BLIND_Matched_MF.fits']"
      ]
     },
     "execution_count": 3,
     "metadata": {},
     "output_type": "execute_result"
    }
   ],
   "source": [
    "cats"
   ]
  },
  {
   "cell_type": "code",
   "execution_count": 4,
   "metadata": {},
   "outputs": [
    {
     "name": "stderr",
     "output_type": "stream",
     "text": [
      "WARNING: MergeConflictWarning: Cannot merge meta key 'EXTNAME' types <class 'str'> and <class 'str'>, choosing EXTNAME='Tile_39933_7_SPIRE_cat.fits' [astropy.utils.metadata]\n",
      "WARNING: MergeConflictWarning: Cannot merge meta key 'DATE-HDU' types <class 'str'> and <class 'str'>, choosing DATE-HDU='2018-06-29T09:22:20' [astropy.utils.metadata]\n",
      "WARNING: MergeConflictWarning: Cannot merge meta key 'STILVERS' types <class 'str'> and <class 'str'>, choosing STILVERS='3.0-3+' [astropy.utils.metadata]\n"
     ]
    }
   ],
   "source": [
    "full_cat = Table()\n",
    "for c in cats:\n",
    "    t = Table.read(c)\n",
    "    full_cat = vstack([full_cat,t])\n"
   ]
  },
  {
   "cell_type": "code",
   "execution_count": 5,
   "metadata": {},
   "outputs": [
    {
     "name": "stdout",
     "output_type": "stream",
     "text": [
      "mkdir: data: File exists\r\n"
     ]
    },
    {
     "name": "stderr",
     "output_type": "stream",
     "text": [
      "WARNING: UnitsWarning: 'mJy/Beam' did not parse as fits unit: At col 4, Unit 'Beam' not supported by the FITS standard. Did you mean beam? [astropy.units.core]\n"
     ]
    }
   ],
   "source": [
    "!mkdir data\n",
    "full_cat.write('./data/dmu22_XID+SPIRE_HELP_BLIND_Matched_MF.fits', overwrite=Tr\n",
    "full_cat.write('./data/dmu22_XID+SPIRE_HELP_BLIND_Matched_MF.csv', overwrite=True)\n",
    "full_cat = full_cat[full_cat['F_SPIRE_500'] > 70 ]\n",
    "full_cat.write('./data/dmu22_XID+SPIRE_HELP_BLIND_Matched_MF_500_70mJy.fits', overwrite=True)"
   ]
  },
  {
   "cell_type": "code",
   "execution_count": 6,
   "metadata": {},
   "outputs": [
    {
     "data": {
      "text/html": [
       "<i>Table masked=True length=10</i>\n",
       "<table id=\"table4882686640-487043\" class=\"table-striped table-bordered table-condensed\">\n",
       "<thead><tr><th>idx</th><th>HELP_ID</th><th>RA</th><th>Dec</th><th>F_SPIRE_250</th><th>FErr_SPIRE_250_u</th><th>FErr_SPIRE_250_l</th><th>F_SPIRE_350</th><th>FErr_SPIRE_350_u</th><th>FErr_SPIRE_350_l</th><th>F_SPIRE_500</th><th>FErr_SPIRE_500_u</th><th>FErr_SPIRE_500_l</th><th>Bkg_SPIRE_250</th><th>Bkg_SPIRE_350</th><th>Bkg_SPIRE_500</th><th>Sig_conf_SPIRE_250</th><th>Sig_conf_SPIRE_350</th><th>Sig_conf_SPIRE_500</th><th>Rhat_SPIRE_250</th><th>Rhat_SPIRE_350</th><th>Rhat_SPIRE_500</th><th>n_eff_SPIRE_250</th><th>n_eff_SPIRE_500</th><th>n_eff_SPIRE_350</th><th>Pval_res_250</th><th>Pval_res_350</th><th>Pval_res_500</th><th>flag_spire_250</th><th>flag_spire_350</th><th>flag_spire_500</th><th>F_BLIND_MF_SPIRE_250</th><th>FErr_BLIND_MF_SPIRE_250</th><th>F_BLIND_MF_SPIRE_350</th><th>FErr_BLIND_MF_SPIRE_350</th><th>F_BLIND_MF_SPIRE_500</th><th>FErr_BLIND_MF_SPIRE_500</th><th>r</th><th>P</th><th>RA_pix</th><th>Dec_pix</th><th>F_BLIND_pix_SPIRE</th><th>FErr_BLIND_pix_SPIRE</th><th>flag</th><th>field</th></tr></thead>\n",
       "<thead><tr><th></th><th></th><th>deg</th><th>deg</th><th>mJy</th><th>mJy</th><th>mJy</th><th>mJy</th><th>mJy</th><th>mJy</th><th>mJy</th><th>mJy</th><th>mJy</th><th>mJy/Beam</th><th>mJy/Beam</th><th>mJy/Beam</th><th>mJy/Beam</th><th>mJy/Beam</th><th>mJy/Beam</th><th></th><th></th><th></th><th></th><th></th><th></th><th></th><th></th><th></th><th></th><th></th><th></th><th>mJy</th><th>mJy</th><th>mJy</th><th>mJy</th><th>mJy</th><th>mJy</th><th></th><th></th><th>deg</th><th>deg</th><th>mJy</th><th>mJy</th><th></th><th></th></tr></thead>\n",
       "<tr><td>0</td><td>HELP_BLIND_J013418.247-292504.076</td><td>23.576030685681996</td><td>-29.417798820443977</td><td>7338.0063</td><td>7338.1016</td><td>7337.797</td><td>3040.7656</td><td>3040.8384</td><td>3040.614</td><td>1158.1316</td><td>1158.2952</td><td>1157.7551</td><td>1.3189089</td><td>-0.060842633</td><td>-2.4782755</td><td>33.33059</td><td>17.920471</td><td>8.448366</td><td>nan</td><td>nan</td><td>nan</td><td>2000.0</td><td>2000.0</td><td>2000.0</td><td>1.0</td><td>1.0</td><td>1.0</td><td>True</td><td>True</td><td>True</td><td>8200.071698029207</td><td>6.550556282278859</td><td>3468.6063437166213</td><td>6.675632324175556</td><td>1315.3480809678617</td><td>6.627404082320592</td><td>0.7618829191980064</td><td>1.0</td><td>23.574995639909197</td><td>-29.418496353454362</td><td>7432.693694522196</td><td>7.140621364580817</td><td>0.0</td><td>HATLAS-SGP</td></tr>\n",
       "<tr><td>1</td><td>HELP_BLIND_J003658.943-292839.836</td><td>9.245597684665976</td><td>-29.47773220760467</td><td>4905.4097</td><td>4905.431</td><td>4905.364</td><td>2091.3</td><td>2091.4075</td><td>2091.0486</td><td>721.5712</td><td>722.3961</td><td>719.8997</td><td>-1.4096897</td><td>-2.490783</td><td>-3.0668695</td><td>9.082307</td><td>4.4316545</td><td>4.009743</td><td>nan</td><td>nan</td><td>0.99844223</td><td>2000.0</td><td>2000.0</td><td>2000.0</td><td>1.0</td><td>1.0</td><td>1.0</td><td>True</td><td>True</td><td>True</td><td>5951.877920538894</td><td>5.720892339095079</td><td>2282.713422606224</td><td>6.191077942391159</td><td>765.5583569079846</td><td>5.964367016426502</td><td>0.8080278913432264</td><td>1.0</td><td>9.244600678915319</td><td>-29.476944008747704</td><td>5436.274457795295</td><td>5.606872904904791</td><td>0.0</td><td>HATLAS-SGP</td></tr>\n",
       "<tr><td>2</td><td>HELP_BLIND_J003025.503-331349.473</td><td>7.606261418687875</td><td>-33.23040907634703</td><td>2947.7336</td><td>2947.942</td><td>2947.2715</td><td>1903.8616</td><td>1903.9933</td><td>1903.5337</td><td>1124.233</td><td>1131.7231</td><td>1116.4612</td><td>2.9709816</td><td>0.7645627</td><td>-2.2054443</td><td>61.964752</td><td>31.986877</td><td>14.177862</td><td>nan</td><td>nan</td><td>1.000345</td><td>2000.0</td><td>2000.0</td><td>2000.0</td><td>1.0</td><td>1.0</td><td>1.0</td><td>True</td><td>True</td><td>True</td><td>3881.0931805788573</td><td>5.283958009497216</td><td>2229.0769630452814</td><td>5.4163279284879895</td><td>1270.3021711754525</td><td>5.47259538327628</td><td>0.7474127508950765</td><td>1.0</td><td>7.60721835732064</td><td>-33.229547518026436</td><td>2933.955318494376</td><td>5.0949106088124285</td><td>0.0</td><td>HATLAS-SGP</td></tr>\n",
       "<tr><td>3</td><td>HELP_BLIND_J003023.994-331418.132</td><td>7.5999760544956665</td><td>-33.238369941639675</td><td>2968.1638</td><td>2968.344</td><td>2967.778</td><td>1903.9036</td><td>1904.002</td><td>1903.693</td><td>1146.5585</td><td>1146.8257</td><td>1146.0201</td><td>2.9709816</td><td>0.7645627</td><td>-2.2054443</td><td>61.964752</td><td>31.986877</td><td>14.177862</td><td>nan</td><td>nan</td><td>nan</td><td>2000.0</td><td>2000.0</td><td>2000.0</td><td>1.0</td><td>1.0</td><td>1.0</td><td>True</td><td>True</td><td>True</td><td>3959.462898346167</td><td>4.867407136145616</td><td>2330.9003647511036</td><td>5.127293463067438</td><td>1604.598362600863</td><td>5.379913123146164</td><td>0.6422098562179501</td><td>1.0</td><td>7.5997043870627</td><td>-33.23976576322971</td><td>2789.9745922798743</td><td>4.7044328281719</td><td>0.0</td><td>HATLAS-SGP</td></tr>\n",
       "<tr><td>4</td><td>HELP_BLIND_J003019.808-331455.994</td><td>7.582532641812671</td><td>-33.248887231007956</td><td>2617.957</td><td>2618.188</td><td>2617.4604</td><td>1702.8484</td><td>1702.9911</td><td>1702.5398</td><td>972.6759</td><td>980.90436</td><td>964.7796</td><td>2.9709816</td><td>0.7645627</td><td>-2.2054443</td><td>61.964752</td><td>31.986877</td><td>14.177862</td><td>nan</td><td>nan</td><td>0.9992325</td><td>2000.0</td><td>2000.0</td><td>2000.0</td><td>1.0</td><td>1.0</td><td>1.0</td><td>True</td><td>True</td><td>True</td><td>3479.05759010081</td><td>4.591012656737879</td><td>1968.0986568365013</td><td>4.799987396919365</td><td>1347.4668260790363</td><td>5.080968085537862</td><td>0.638538554640308</td><td>1.0</td><td>7.582189923514415</td><td>-33.24862002960785</td><td>2526.5139448176124</td><td>4.5027048326486865</td><td>0.0</td><td>HATLAS-SGP</td></tr>\n",
       "<tr><td>5</td><td>HELP_BLIND_J003415.425-274810.756</td><td>8.564271112449152</td><td>-27.802987836651987</td><td>2403.6943</td><td>2403.7402</td><td>2403.5964</td><td>1103.5088</td><td>1103.5471</td><td>1103.4163</td><td>546.12463</td><td>546.3061</td><td>545.7182</td><td>-1.6029669</td><td>-2.4692276</td><td>-3.251275</td><td>15.094136</td><td>8.362483</td><td>4.6614757</td><td>nan</td><td>nan</td><td>nan</td><td>2000.0</td><td>2000.0</td><td>2000.0</td><td>1.0</td><td>1.0</td><td>1.0</td><td>True</td><td>True</td><td>True</td><td>2897.5744318301554</td><td>6.191954210624119</td><td>1323.0015683756956</td><td>5.785489793423783</td><td>692.6454357794975</td><td>5.631108170234877</td><td>0.8340018792889147</td><td>1.0</td><td>8.564596046200665</td><td>-27.80325188668614</td><td>2345.887222281524</td><td>6.063115417110927</td><td>0.0</td><td>HATLAS-SGP</td></tr>\n",
       "<tr><td>6</td><td>HELP_BLIND_J003021.334-331433.324</td><td>7.588891359574094</td><td>-33.24259008906997</td><td>2697.913</td><td>2698.1296</td><td>2697.446</td><td>1903.821</td><td>1903.9807</td><td>1903.5015</td><td>1099.0212</td><td>1106.6805</td><td>1090.9218</td><td>2.9709816</td><td>0.7645627</td><td>-2.2054443</td><td>61.964752</td><td>31.986877</td><td>14.177862</td><td>nan</td><td>nan</td><td>0.9985403</td><td>2000.0</td><td>2000.0</td><td>2000.0</td><td>1.0</td><td>1.0</td><td>1.0</td><td>True</td><td>True</td><td>True</td><td>3348.060683118184</td><td>4.7185176484572064</td><td>2165.346438576066</td><td>4.837652541889353</td><td>1546.7581140315533</td><td>5.461546130129344</td><td>0.6149760159439496</td><td>1.0</td><td>7.58786323648785</td><td>-33.24178853172228</td><td>2317.6636570597</td><td>4.625848011411195</td><td>0.0</td><td>HATLAS-SGP</td></tr>\n",
       "<tr><td>7</td><td>HELP_BLIND_J005242.189-311220.895</td><td>13.175785994767553</td><td>-31.205804271565214</td><td>2319.262</td><td>2319.3142</td><td>2319.1458</td><td>1218.9568</td><td>1219.0062</td><td>1218.852</td><td>596.0592</td><td>596.158</td><td>595.83795</td><td>-0.04087512</td><td>-1.1868863</td><td>-2.4621134</td><td>18.647226</td><td>11.735652</td><td>6.919123</td><td>nan</td><td>nan</td><td>nan</td><td>2000.0</td><td>2000.0</td><td>2000.0</td><td>1.0</td><td>1.0</td><td>1.0</td><td>True</td><td>True</td><td>True</td><td>2816.1333271559815</td><td>5.882308871444732</td><td>1447.596503680568</td><td>6.300673660278124</td><td>788.6677617841177</td><td>6.835059423106945</td><td>0.8670784555471979</td><td>1.0</td><td>13.176477195051403</td><td>-31.20630570745839</td><td>2296.124357100874</td><td>5.77199252540963</td><td>0.0</td><td>HATLAS-SGP</td></tr>\n",
       "<tr><td>8</td><td>HELP_BLIND_J222521.114-312116.297</td><td>336.33797460651846</td><td>-31.354526961038992</td><td>1796.2463</td><td>1796.3129</td><td>1796.0887</td><td>761.4438</td><td>761.58966</td><td>761.1385</td><td>344.20364</td><td>345.16965</td><td>342.38525</td><td>-1.0843351</td><td>-2.8053334</td><td>-5.068332</td><td>5.7719893</td><td>2.79338</td><td>0.22676381</td><td>nan</td><td>nan</td><td>1.000461</td><td>2000.0</td><td>2000.0</td><td>2000.0</td><td>1.0</td><td>1.0</td><td>0.969</td><td>True</td><td>True</td><td>True</td><td>2114.258871583106</td><td>8.477879272100049</td><td>891.6987051324982</td><td>8.731167396383773</td><td>393.7029903467024</td><td>9.152029129576027</td><td>0.8184497122193779</td><td>1.0</td><td>336.33797460651846</td><td>-31.354526961038992</td><td>1901.3599363429591</td><td>8.315855663587776</td><td>0.0</td><td>HATLAS-SGP</td></tr>\n",
       "<tr><td>9</td><td>HELP_BLIND_J003018.069-331527.751</td><td>7.57528599295159</td><td>-33.25770847700573</td><td>1998.9368</td><td>1999.346</td><td>1998.0703</td><td>1556.0326</td><td>1556.4224</td><td>1555.085</td><td>829.64716</td><td>837.34717</td><td>822.0486</td><td>2.9709816</td><td>0.7645627</td><td>-2.2054443</td><td>61.964752</td><td>31.986877</td><td>14.177862</td><td>nan</td><td>nan</td><td>0.9989113</td><td>2000.0</td><td>2000.0</td><td>2000.0</td><td>1.0</td><td>1.0</td><td>1.0</td><td>True</td><td>True</td><td>True</td><td>2308.3476668239714</td><td>4.688886624833868</td><td>1366.1658500440228</td><td>4.6734805579441225</td><td>1011.8808474573799</td><td>4.936218284983717</td><td>0.6478803840486845</td><td>1.0</td><td>7.574529928880583</td><td>-33.25551102038429</td><td>1813.8001684561757</td><td>4.847853313252707</td><td>0.0</td><td>HATLAS-SGP</td></tr>\n",
       "</table><style>table.dataTable {clear: both; width: auto !important; margin: 0 !important;}\n",
       ".dataTables_info, .dataTables_length, .dataTables_filter, .dataTables_paginate{\n",
       "display: inline-block; margin-right: 1em; }\n",
       ".paginate_button { margin-right: 5px; }\n",
       "</style>\n",
       "<script>\n",
       "\n",
       "var astropy_sort_num = function(a, b) {\n",
       "    var a_num = parseFloat(a);\n",
       "    var b_num = parseFloat(b);\n",
       "\n",
       "    if (isNaN(a_num) && isNaN(b_num))\n",
       "        return ((a < b) ? -1 : ((a > b) ? 1 : 0));\n",
       "    else if (!isNaN(a_num) && !isNaN(b_num))\n",
       "        return ((a_num < b_num) ? -1 : ((a_num > b_num) ? 1 : 0));\n",
       "    else\n",
       "        return isNaN(a_num) ? -1 : 1;\n",
       "}\n",
       "\n",
       "require.config({paths: {\n",
       "    datatables: 'https://cdn.datatables.net/1.10.12/js/jquery.dataTables.min'\n",
       "}});\n",
       "require([\"datatables\"], function(){\n",
       "    console.log(\"$('#table4882686640-487043').dataTable()\");\n",
       "    \n",
       "jQuery.extend( jQuery.fn.dataTableExt.oSort, {\n",
       "    \"optionalnum-asc\": astropy_sort_num,\n",
       "    \"optionalnum-desc\": function (a,b) { return -astropy_sort_num(a, b); }\n",
       "});\n",
       "\n",
       "    $('#table4882686640-487043').dataTable({\n",
       "        order: [],\n",
       "        pageLength: 50,\n",
       "        lengthMenu: [[10, 25, 50, 100, 500, 1000, -1], [10, 25, 50, 100, 500, 1000, 'All']],\n",
       "        pagingType: \"full_numbers\",\n",
       "        columnDefs: [{targets: [0, 2, 3, 4, 5, 6, 7, 8, 9, 10, 11, 12, 13, 14, 15, 16, 17, 18, 19, 20, 21, 22, 23, 24, 25, 26, 27, 31, 32, 33, 34, 35, 36, 37, 38, 39, 40, 41, 42, 43], type: \"optionalnum\"}]\n",
       "    });\n",
       "});\n",
       "</script>\n"
      ],
      "text/plain": [
       "<IPython.core.display.HTML object>"
      ]
     },
     "execution_count": 6,
     "metadata": {},
     "output_type": "execute_result"
    }
   ],
   "source": [
    "full_cat[:10].show_in_notebook()"
   ]
  },
  {
   "cell_type": "code",
   "execution_count": null,
   "metadata": {},
   "outputs": [],
   "source": []
  }
 ],
 "metadata": {
  "kernelspec": {
   "display_name": "Python (herschelhelp_internal)",
   "language": "python",
   "name": "helpint"
  },
  "language_info": {
   "codemirror_mode": {
    "name": "ipython",
    "version": 3
   },
   "file_extension": ".py",
   "mimetype": "text/x-python",
   "name": "python",
   "nbconvert_exporter": "python",
   "pygments_lexer": "ipython3",
   "version": "3.6.10"
  }
 },
 "nbformat": 4,
 "nbformat_minor": 4
}
