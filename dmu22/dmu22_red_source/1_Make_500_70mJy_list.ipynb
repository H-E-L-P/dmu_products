{
 "cells": [
  {
   "cell_type": "markdown",
   "metadata": {},
   "source": [
    "# Get every blind source above 70mJy"
   ]
  },
  {
   "cell_type": "code",
   "execution_count": 1,
   "metadata": {},
   "outputs": [],
   "source": [
    "import glob\n",
    "from astropy.table import Table, Column, vstack\n",
    "import numpy as np\n"
   ]
  },
  {
   "cell_type": "code",
   "execution_count": 2,
   "metadata": {},
   "outputs": [],
   "source": [
    "cats = glob.glob('../dmu22_*/data/dmu22_XID+SPIRE_*_BLIND_Matched_MF.fits')"
   ]
  },
  {
   "cell_type": "code",
   "execution_count": 3,
   "metadata": {},
   "outputs": [
    {
     "data": {
      "text/plain": [
       "['../dmu22_HATLAS-NGP/data/dmu22_XID+SPIRE_HATLAS-NGP_BLIND_Matched_MF.fits',\n",
       " '../dmu22_AKARI-SEP/data/dmu22_XID+SPIRE_AKARI-SEP_BLIND_Matched_MF.fits',\n",
       " '../dmu22_XMM-LSS/data/dmu22_XID+SPIRE_XMM-LSS_BLIND_Matched_MF.fits',\n",
       " '../dmu22_Lockman-SWIRE/data/dmu22_XID+SPIRE_Lockman-SWIRE_BLIND_Matched_MF.fits',\n",
       " '../dmu22_ELAIS-N1/data/dmu22_XID+SPIRE_ELAIS-N1_BLIND_Matched_MF.fits',\n",
       " '../dmu22_SSDF/data/dmu22_XID+SPIRE_SSDF_BLIND_Matched_MF.fits',\n",
       " '../dmu22_COSMOS/data/dmu22_XID+SPIRE_COSMOS_BLIND_Matched_MF.fits',\n",
       " '../dmu22_GAMA-12/data/dmu22_XID+SPIRE_GAMA-12_BLIND_Matched_MF.fits',\n",
       " '../dmu22_EGS/data/dmu22_XID+SPIRE_EGS_BLIND_Matched_MF.fits',\n",
       " '../dmu22_SPIRE-NEP/data/dmu22_XID+SPIRE_SPIRE-NEP_BLIND_Matched_MF.fits',\n",
       " '../dmu22_ELAIS-N2/data/dmu22_XID+SPIRE_ELAIS-N2_BLIND_Matched_MF.fits',\n",
       " '../dmu22_AKARI-NEP/data/dmu22_XID+SPIRE_AKARI-NEP_BLIND_Matched_MF.fits',\n",
       " '../dmu22_Bootes/data/dmu22_XID+SPIRE_Bootes_BLIND_Matched_MF.fits',\n",
       " '../dmu22_GAMA-15/data/dmu22_XID+SPIRE_GAMA-15_BLIND_Matched_MF.fits',\n",
       " '../dmu22_HATLAS-SGP/data/dmu22_XID+SPIRE_HATLAS-SGP_BLIND_Matched_MF.fits',\n",
       " '../dmu22_XMM-13hr/data/dmu22_XID+SPIRE_XMM-13hr_BLIND_Matched_MF.fits',\n",
       " '../dmu22_HDF-N/data/dmu22_XID+SPIRE_HDF-N_BLIND_Matched_MF.fits',\n",
       " '../dmu22_ELAIS-S1/data/dmu22_XID+SPIRE_ELAIS-S1_BLIND_Matched_MF.fits',\n",
       " '../dmu22_CDFS-SWIRE/data/dmu22_XID+SPIRE_CDFS-SWIRE_BLIND_Matched_MF.fits',\n",
       " '../dmu22_GAMA-09/data/dmu22_XID+SPIRE_GAMA-09_BLIND_Matched_MF.fits',\n",
       " '../dmu22_xFLS/data/dmu22_XID+SPIRE_xFLS_BLIND_Matched_MF.fits',\n",
       " '../dmu22_SA13/data/dmu22_XID+SPIRE_SA13_BLIND_Matched_MF.fits']"
      ]
     },
     "execution_count": 3,
     "metadata": {},
     "output_type": "execute_result"
    }
   ],
   "source": [
    "cats"
   ]
  },
  {
   "cell_type": "code",
   "execution_count": 4,
   "metadata": {},
   "outputs": [
    {
     "name": "stderr",
     "output_type": "stream",
     "text": [
      "WARNING: MergeConflictWarning: Cannot merge meta key 'EXTNAME' types <class 'str'> and <class 'str'>, choosing EXTNAME='Tile_135734_7_SPIRE_cat.fits' [astropy.utils.metadata]\n",
      "WARNING: MergeConflictWarning: Cannot merge meta key 'DATE-HDU' types <class 'str'> and <class 'str'>, choosing DATE-HDU='2018-06-29T09:38:39' [astropy.utils.metadata]\n",
      "WARNING: MergeConflictWarning: Cannot merge meta key 'STILVERS' types <class 'str'> and <class 'str'>, choosing STILVERS='3.0-3+' [astropy.utils.metadata]\n",
      "WARNING: MergeConflictWarning: Cannot merge meta key 'EXTNAME' types <class 'str'> and <class 'str'>, choosing EXTNAME='Tile_147178_7_SPIRE_cat.fits' [astropy.utils.metadata]\n",
      "WARNING: MergeConflictWarning: Cannot merge meta key 'DATE-HDU' types <class 'str'> and <class 'str'>, choosing DATE-HDU='2018-09-21T13:59:13' [astropy.utils.metadata]\n",
      "WARNING: MergeConflictWarning: Cannot merge meta key 'EXTNAME' types <class 'str'> and <class 'str'>, choosing EXTNAME='Tile_24174_7_SPIRE_cat.fits' [astropy.utils.metadata]\n",
      "WARNING: MergeConflictWarning: Cannot merge meta key 'DATE-HDU' types <class 'str'> and <class 'str'>, choosing DATE-HDU='2018-09-21T13:56:11' [astropy.utils.metadata]\n",
      "WARNING: MergeConflictWarning: Cannot merge meta key 'EXTNAME' types <class 'str'> and <class 'str'>, choosing EXTNAME='Tile_39933_7_SPIRE_cat.fits' [astropy.utils.metadata]\n",
      "WARNING: MergeConflictWarning: Cannot merge meta key 'DATE-HDU' types <class 'str'> and <class 'str'>, choosing DATE-HDU='2018-06-29T09:22:20' [astropy.utils.metadata]\n",
      "WARNING: MergeConflictWarning: Cannot merge meta key 'EXTNAME' types <class 'str'> and <class 'str'>, choosing EXTNAME='SSDF_SPIRE500_cat_MF0.fits' [astropy.utils.metadata]\n",
      "WARNING: MergeConflictWarning: Cannot merge meta key 'DATE-HDU' types <class 'str'> and <class 'str'>, choosing DATE-HDU='2018-06-09T12:38:45' [astropy.utils.metadata]\n",
      "WARNING: MergeConflictWarning: Cannot merge meta key 'STILVERS' types <class 'str'> and <class 'str'>, choosing STILVERS='3.1-' [astropy.utils.metadata]\n",
      "WARNING: MergeConflictWarning: Cannot merge meta key 'EXTNAME' types <class 'str'> and <class 'str'>, choosing EXTNAME='Tile_108980_7_SPIRE_cat.fits' [astropy.utils.metadata]\n",
      "WARNING: MergeConflictWarning: Cannot merge meta key 'DATE-HDU' types <class 'str'> and <class 'str'>, choosing DATE-HDU='2018-09-21T13:52:24' [astropy.utils.metadata]\n",
      "WARNING: MergeConflictWarning: Cannot merge meta key 'STILVERS' types <class 'str'> and <class 'str'>, choosing STILVERS='3.0-3+' [astropy.utils.metadata]\n",
      "WARNING: MergeConflictWarning: Cannot merge meta key 'EXTNAME' types <class 'str'> and <class 'str'>, choosing EXTNAME='GAMA-12_SPIRE500_cat_MF0.fits' [astropy.utils.metadata]\n",
      "WARNING: MergeConflictWarning: Cannot merge meta key 'DATE-HDU' types <class 'str'> and <class 'str'>, choosing DATE-HDU='2018-06-09T12:09:15' [astropy.utils.metadata]\n",
      "WARNING: MergeConflictWarning: Cannot merge meta key 'STILVERS' types <class 'str'> and <class 'str'>, choosing STILVERS='3.1-' [astropy.utils.metadata]\n",
      "WARNING: MergeConflictWarning: Cannot merge meta key 'EXTNAME' types <class 'str'> and <class 'str'>, choosing EXTNAME='Tile_42965_7_SPIRE_cat.fits' [astropy.utils.metadata]\n",
      "WARNING: MergeConflictWarning: Cannot merge meta key 'DATE-HDU' types <class 'str'> and <class 'str'>, choosing DATE-HDU='2018-06-29T09:29:29' [astropy.utils.metadata]\n",
      "WARNING: MergeConflictWarning: Cannot merge meta key 'STILVERS' types <class 'str'> and <class 'str'>, choosing STILVERS='3.0-3+' [astropy.utils.metadata]\n",
      "WARNING: MergeConflictWarning: Cannot merge meta key 'EXTNAME' types <class 'str'> and <class 'str'>, choosing EXTNAME='Tile_46546_7_SPIRE_cat.fits' [astropy.utils.metadata]\n",
      "WARNING: MergeConflictWarning: Cannot merge meta key 'DATE-HDU' types <class 'str'> and <class 'str'>, choosing DATE-HDU='2018-06-19T13:06:50' [astropy.utils.metadata]\n",
      "WARNING: MergeConflictWarning: Cannot merge meta key 'EXTNAME' types <class 'str'> and <class 'str'>, choosing EXTNAME='Tile_37851_7_SPIRE_cat.fits' [astropy.utils.metadata]\n",
      "WARNING: MergeConflictWarning: Cannot merge meta key 'DATE-HDU' types <class 'str'> and <class 'str'>, choosing DATE-HDU='2018-06-29T09:34:59' [astropy.utils.metadata]\n",
      "WARNING: MergeConflictWarning: Cannot merge meta key 'EXTNAME' types <class 'str'> and <class 'str'>, choosing EXTNAME='Tile_40949_7_SPIRE_cat.fits' [astropy.utils.metadata]\n",
      "WARNING: MergeConflictWarning: Cannot merge meta key 'DATE-HDU' types <class 'str'> and <class 'str'>, choosing DATE-HDU='2018-09-21T13:46:25' [astropy.utils.metadata]\n",
      "WARNING: MergeConflictWarning: Cannot merge meta key 'EXTNAME' types <class 'str'> and <class 'str'>, choosing EXTNAME='Tile_36541_7_SPIRE_cat.fits' [astropy.utils.metadata]\n",
      "WARNING: MergeConflictWarning: Cannot merge meta key 'DATE-HDU' types <class 'str'> and <class 'str'>, choosing DATE-HDU='2018-09-21T13:49:29' [astropy.utils.metadata]\n",
      "WARNING: MergeConflictWarning: Cannot merge meta key 'EXTNAME' types <class 'str'> and <class 'str'>, choosing EXTNAME='GAMA-15_SPIRE500_cat_MF0.fits' [astropy.utils.metadata]\n",
      "WARNING: MergeConflictWarning: Cannot merge meta key 'DATE-HDU' types <class 'str'> and <class 'str'>, choosing DATE-HDU='2018-06-09T12:14:01' [astropy.utils.metadata]\n",
      "WARNING: MergeConflictWarning: Cannot merge meta key 'STILVERS' types <class 'str'> and <class 'str'>, choosing STILVERS='3.1-' [astropy.utils.metadata]\n",
      "WARNING: MergeConflictWarning: Cannot merge meta key 'EXTNAME' types <class 'str'> and <class 'str'>, choosing EXTNAME='HATLAS-SGP_SPIRE500_cat_MF0.fits' [astropy.utils.metadata]\n",
      "WARNING: MergeConflictWarning: Cannot merge meta key 'DATE-HDU' types <class 'str'> and <class 'str'>, choosing DATE-HDU='2018-06-11T14:18:56' [astropy.utils.metadata]\n",
      "WARNING: MergeConflictWarning: Cannot merge meta key 'EXTNAME' types <class 'str'> and <class 'str'>, choosing EXTNAME='Tile_41925_7_SPIRE_cat.fits' [astropy.utils.metadata]\n",
      "WARNING: MergeConflictWarning: Cannot merge meta key 'DATE-HDU' types <class 'str'> and <class 'str'>, choosing DATE-HDU='2018-06-19T13:06:06' [astropy.utils.metadata]\n",
      "WARNING: MergeConflictWarning: Cannot merge meta key 'STILVERS' types <class 'str'> and <class 'str'>, choosing STILVERS='3.0-3+' [astropy.utils.metadata]\n",
      "WARNING: MergeConflictWarning: Cannot merge meta key 'EXTNAME' types <class 'str'> and <class 'str'>, choosing EXTNAME='Tile_44911_7_SPIRE_cat.fits' [astropy.utils.metadata]\n",
      "WARNING: MergeConflictWarning: Cannot merge meta key 'DATE-HDU' types <class 'str'> and <class 'str'>, choosing DATE-HDU='2018-06-19T13:04:56' [astropy.utils.metadata]\n",
      "WARNING: MergeConflictWarning: Cannot merge meta key 'EXTNAME' types <class 'str'> and <class 'str'>, choosing EXTNAME='Tile_141518_7_SPIRE_cat.fits' [astropy.utils.metadata]\n",
      "WARNING: MergeConflictWarning: Cannot merge meta key 'DATE-HDU' types <class 'str'> and <class 'str'>, choosing DATE-HDU='2018-06-29T09:29:59' [astropy.utils.metadata]\n",
      "WARNING: MergeConflictWarning: Cannot merge meta key 'EXTNAME' types <class 'str'> and <class 'str'>, choosing EXTNAME='Tile_143695_7_SPIRE_cat.fits' [astropy.utils.metadata]\n",
      "WARNING: MergeConflictWarning: Cannot merge meta key 'DATE-HDU' types <class 'str'> and <class 'str'>, choosing DATE-HDU='2018-09-21T13:51:18' [astropy.utils.metadata]\n",
      "WARNING: MergeConflictWarning: Cannot merge meta key 'EXTNAME' types <class 'str'> and <class 'str'>, choosing EXTNAME='GAMA-09_SPIRE500_cat_MF0.fits' [astropy.utils.metadata]\n",
      "WARNING: MergeConflictWarning: Cannot merge meta key 'DATE-HDU' types <class 'str'> and <class 'str'>, choosing DATE-HDU='2018-06-09T12:05:32' [astropy.utils.metadata]\n",
      "WARNING: MergeConflictWarning: Cannot merge meta key 'STILVERS' types <class 'str'> and <class 'str'>, choosing STILVERS='3.1-' [astropy.utils.metadata]\n",
      "WARNING: MergeConflictWarning: Cannot merge meta key 'EXTNAME' types <class 'str'> and <class 'str'>, choosing EXTNAME='Tile_40727_7_SPIRE_cat.fits' [astropy.utils.metadata]\n",
      "WARNING: MergeConflictWarning: Cannot merge meta key 'DATE-HDU' types <class 'str'> and <class 'str'>, choosing DATE-HDU='2018-06-29T09:35:42' [astropy.utils.metadata]\n",
      "WARNING: MergeConflictWarning: Cannot merge meta key 'STILVERS' types <class 'str'> and <class 'str'>, choosing STILVERS='3.0-3+' [astropy.utils.metadata]\n",
      "WARNING: MergeConflictWarning: Cannot merge meta key 'EXTNAME' types <class 'str'> and <class 'str'>, choosing EXTNAME='Tile_43372_7_SPIRE_cat.fits' [astropy.utils.metadata]\n",
      "WARNING: MergeConflictWarning: Cannot merge meta key 'DATE-HDU' types <class 'str'> and <class 'str'>, choosing DATE-HDU='2018-06-18T10:41:42' [astropy.utils.metadata]\n"
     ]
    }
   ],
   "source": [
    "full_cat = Table()\n",
    "for c in cats:\n",
    "    t = Table.read(c)\n",
    "    t = t[t['F_SPIRE_500'] > 70 ]\n",
    "    full_cat = vstack([full_cat,t])\n"
   ]
  },
  {
   "cell_type": "code",
   "execution_count": 5,
   "metadata": {},
   "outputs": [
    {
     "name": "stdout",
     "output_type": "stream",
     "text": [
      "mkdir: cannot create directory ‘data’: File exists\r\n"
     ]
    },
    {
     "name": "stderr",
     "output_type": "stream",
     "text": [
      "WARNING: UnitsWarning: 'mJy/Beam' did not parse as fits unit: At col 4, Unit 'Beam' not supported by the FITS standard. Did you mean beam? [astropy.units.core]\n"
     ]
    }
   ],
   "source": [
    "!mkdir data\n",
    "full_cat.write('./data/dmu22_XID+SPIRE_HELP_BLIND_Matched_MF_500_70mJy.fits')"
   ]
  },
  {
   "cell_type": "code",
   "execution_count": 6,
   "metadata": {},
   "outputs": [
    {
     "data": {
      "text/html": [
       "<i>Table masked=True length=10</i>\n",
       "<table id=\"table139985130387944-477079\" class=\"table-striped table-bordered table-condensed\">\n",
       "<thead><tr><th>idx</th><th>HELP_ID</th><th>RA</th><th>Dec</th><th>F_SPIRE_250</th><th>FErr_SPIRE_250_u</th><th>FErr_SPIRE_250_l</th><th>F_SPIRE_350</th><th>FErr_SPIRE_350_u</th><th>FErr_SPIRE_350_l</th><th>F_SPIRE_500</th><th>FErr_SPIRE_500_u</th><th>FErr_SPIRE_500_l</th><th>Bkg_SPIRE_250</th><th>Bkg_SPIRE_350</th><th>Bkg_SPIRE_500</th><th>Sig_conf_SPIRE_250</th><th>Sig_conf_SPIRE_350</th><th>Sig_conf_SPIRE_500</th><th>Rhat_SPIRE_250</th><th>Rhat_SPIRE_350</th><th>Rhat_SPIRE_500</th><th>n_eff_SPIRE_250</th><th>n_eff_SPIRE_500</th><th>n_eff_SPIRE_350</th><th>Pval_res_250</th><th>Pval_res_350</th><th>Pval_res_500</th><th>flag_spire_250</th><th>flag_spire_350</th><th>flag_spire_500</th><th>F_BLIND_MF_SPIRE_250</th><th>FErr_BLIND_MF_SPIRE_250</th><th>F_BLIND_MF_SPIRE_350</th><th>FErr_BLIND_MF_SPIRE_350</th><th>F_BLIND_MF_SPIRE_500</th><th>FErr_BLIND_MF_SPIRE_500</th><th>r</th><th>P</th><th>RA_pix</th><th>Dec_pix</th><th>F_BLIND_pix_SPIRE</th><th>FErr_BLIND_pix_SPIRE</th><th>flag</th><th>field</th></tr></thead>\n",
       "<thead><tr><th></th><th></th><th>deg</th><th>deg</th><th>mJy</th><th>mJy</th><th>mJy</th><th>mJy</th><th>mJy</th><th>mJy</th><th>mJy</th><th>mJy</th><th>mJy</th><th>mJy/Beam</th><th>mJy/Beam</th><th>mJy/Beam</th><th>mJy/Beam</th><th>mJy/Beam</th><th>mJy/Beam</th><th></th><th></th><th></th><th></th><th></th><th></th><th></th><th></th><th></th><th></th><th></th><th></th><th>mJy</th><th>mJy</th><th>mJy</th><th>mJy</th><th>mJy</th><th>mJy</th><th></th><th></th><th>deg</th><th>deg</th><th>mJy</th><th>mJy</th><th></th><th></th></tr></thead>\n",
       "<tr><td>0</td><td>HELP_BLIND_J132035.199+340823.944</td><td>200.14666093222147</td><td>34.139984460626756</td><td>5585.709</td><td>5585.7417</td><td>5585.6445</td><td>2149.6992</td><td>2149.81</td><td>2149.446</td><td>659.279</td><td>659.7341</td><td>658.2682</td><td>-1.460162</td><td>-2.159969</td><td>-3.4670208</td><td>7.2524767</td><td>4.448374</td><td>3.1155865</td><td>nan</td><td>nan</td><td>0.9995246</td><td>2000.0</td><td>2000.0</td><td>2000.0</td><td>1.0</td><td>1.0</td><td>1.0</td><td>True</td><td>True</td><td>True</td><td>6390.488777765193</td><td>6.475020475713654</td><td>2371.1640106039195</td><td>6.544042884037684</td><td>735.0517441505609</td><td>6.452658666321968</td><td>0.7965170388143706</td><td>1.0</td><td>200.1476401466958</td><td>34.139150647568016</td><td>5808.073027312961</td><td>6.622847430622127</td><td>0.0</td><td>HATLAS-NGP</td></tr>\n",
       "<tr><td>1</td><td>HELP_BLIND_J131503.697+243709.274</td><td>198.76540292122607</td><td>24.619242858594557</td><td>3730.1772</td><td>3730.2734</td><td>3729.9421</td><td>1502.2577</td><td>1506.5585</td><td>1497.7003</td><td>516.32574</td><td>518.7789</td><td>512.27045</td><td>-1.2838266</td><td>-2.7109509</td><td>-4.1480207</td><td>5.668097</td><td>4.231518</td><td>3.2830224</td><td>nan</td><td>1.0000073</td><td>0.9995233</td><td>2000.0</td><td>2000.0</td><td>2000.0</td><td>1.0</td><td>1.0</td><td>1.0</td><td>True</td><td>True</td><td>True</td><td>3994.117869072061</td><td>6.324876530541631</td><td>1567.0040038706527</td><td>5.598440312095881</td><td>536.9172365043631</td><td>6.311143787466074</td><td>0.7807693245774889</td><td>1.0</td><td>198.76448128689057</td><td>24.618414825611595</td><td>3833.333240383705</td><td>6.203769866835555</td><td>0.0</td><td>HATLAS-NGP</td></tr>\n",
       "<tr><td>2</td><td>HELP_BLIND_J125440.864+285621.115</td><td>193.6702686733103</td><td>28.939198567126557</td><td>3371.739</td><td>3371.7888</td><td>3371.6328</td><td>1765.58</td><td>1765.6238</td><td>1765.4854</td><td>860.104</td><td>860.21045</td><td>859.85803</td><td>-0.5651935</td><td>-1.9437292</td><td>-3.5710735</td><td>25.787022</td><td>13.055087</td><td>6.358543</td><td>nan</td><td>nan</td><td>nan</td><td>2000.0</td><td>2000.0</td><td>2000.0</td><td>1.0</td><td>1.0</td><td>1.0</td><td>True</td><td>True</td><td>True</td><td>4336.075321306187</td><td>5.561965754359003</td><td>2297.586230671728</td><td>5.613884128048924</td><td>1073.6664924712218</td><td>5.879615410558071</td><td>0.7623766258950777</td><td>1.0</td><td>193.66935390611053</td><td>28.93833936573529</td><td>3333.2032635538617</td><td>5.457766939853846</td><td>0.0</td><td>HATLAS-NGP</td></tr>\n",
       "<tr><td>3</td><td>HELP_BLIND_J133955.603+282402.670</td><td>204.9816801055134</td><td>28.400741740256905</td><td>2135.466</td><td>2135.4993</td><td>2135.387</td><td>1049.1398</td><td>1049.2178</td><td>1048.9945</td><td>472.19516</td><td>472.7262</td><td>471.0313</td><td>-0.8959201</td><td>-1.7262993</td><td>-2.8792737</td><td>8.486645</td><td>4.9961395</td><td>4.03243</td><td>nan</td><td>nan</td><td>0.9992486</td><td>2000.0</td><td>2000.0</td><td>2000.0</td><td>1.0</td><td>1.0</td><td>1.0</td><td>True</td><td>True</td><td>True</td><td>2504.0886134660827</td><td>5.852280827955278</td><td>1168.3056811014544</td><td>5.838565811620903</td><td>527.4015769955221</td><td>6.492418954889658</td><td>0.8113158679247728</td><td>1.0</td><td>204.98138554544394</td><td>28.401032976576335</td><td>2152.6956528993496</td><td>5.738864517699985</td><td>0.0</td><td>HATLAS-NGP</td></tr>\n",
       "<tr><td>4</td><td>HELP_BLIND_J130125.252+291849.285</td><td>195.35521522575544</td><td>29.313690334163766</td><td>1762.0795</td><td>1762.3076</td><td>1761.5529</td><td>661.7097</td><td>662.2488</td><td>660.5981</td><td>217.47719</td><td>219.12042</td><td>214.50778</td><td>-1.4513615</td><td>-2.020604</td><td>-3.6917322</td><td>4.4567766</td><td>4.031373</td><td>3.614342</td><td>nan</td><td>1.000221</td><td>0.99962765</td><td>2000.0</td><td>2000.0</td><td>2000.0</td><td>1.0</td><td>1.0</td><td>0.0</td><td>True</td><td>True</td><td>False</td><td>1851.6291091763517</td><td>6.026787479063286</td><td>696.6617160954174</td><td>5.580877219928563</td><td>236.4402131547448</td><td>5.930806503390525</td><td>0.7922672534032332</td><td>1.0</td><td>195.3548913282094</td><td>29.31396069609381</td><td>1846.0224374904212</td><td>5.906271642088381</td><td>0.0</td><td>HATLAS-NGP</td></tr>\n",
       "<tr><td>5</td><td>HELP_BLIND_J134308.777+302014.958</td><td>205.78657201094646</td><td>30.337488259932606</td><td>1703.2823</td><td>1703.3297</td><td>1703.1681</td><td>805.45734</td><td>805.99384</td><td>804.33655</td><td>281.27017</td><td>282.5429</td><td>278.7146</td><td>-2.1089737</td><td>-2.889791</td><td>-4.0776606</td><td>4.588914</td><td>3.7598858</td><td>3.5982335</td><td>nan</td><td>0.9989836</td><td>1.0002501</td><td>2000.0</td><td>2000.0</td><td>2000.0</td><td>1.0</td><td>1.0</td><td>0.0</td><td>True</td><td>True</td><td>False</td><td>1967.4646745337122</td><td>6.2281900742863145</td><td>856.062092756587</td><td>5.81421977414214</td><td>329.69409963223745</td><td>6.510396347154257</td><td>0.826689287786854</td><td>1.0</td><td>205.78727946966663</td><td>30.338545405817506</td><td>1769.9024075831865</td><td>6.033066645887539</td><td>0.0</td><td>HATLAS-NGP</td></tr>\n",
       "<tr><td>6</td><td>HELP_BLIND_J125253.544+282214.911</td><td>193.22309890286277</td><td>28.37080851425361</td><td>1637.7931</td><td>1637.8218</td><td>1637.728</td><td>808.9395</td><td>808.99646</td><td>808.81647</td><td>342.6074</td><td>342.91336</td><td>341.91287</td><td>-1.4085709</td><td>-2.230449</td><td>-2.9427047</td><td>7.9528856</td><td>5.0041</td><td>4.1427274</td><td>nan</td><td>nan</td><td>0.99892557</td><td>2000.0</td><td>2000.0</td><td>2000.0</td><td>1.0</td><td>1.0</td><td>1.0</td><td>True</td><td>True</td><td>True</td><td>1969.411644988085</td><td>4.21737572638777</td><td>926.7237614820187</td><td>4.3848833490438475</td><td>377.196614941436</td><td>4.186979732834765</td><td>0.7697724954075745</td><td>1.0</td><td>193.22342389852028</td><td>28.370543072768402</td><td>1712.9733753503438</td><td>4.133355714842169</td><td>0.0</td><td>HATLAS-NGP</td></tr>\n",
       "<tr><td>7</td><td>HELP_BLIND_J133457.334+340239.826</td><td>203.73889093017067</td><td>34.04439601192066</td><td>1466.6207</td><td>1466.6515</td><td>1466.5485</td><td>715.50824</td><td>715.5751</td><td>715.3592</td><td>309.984</td><td>310.21262</td><td>309.4891</td><td>-1.3116179</td><td>-2.560468</td><td>-3.1043909</td><td>7.5350137</td><td>4.761308</td><td>3.1590936</td><td>nan</td><td>nan</td><td>0.9993818</td><td>2000.0</td><td>2000.0</td><td>2000.0</td><td>1.0</td><td>1.0</td><td>1.0</td><td>True</td><td>True</td><td>True</td><td>1813.9429339760732</td><td>5.687438141805156</td><td>850.9761438450657</td><td>6.022023875222843</td><td>390.01225430143865</td><td>6.9491241137566675</td><td>0.8378722106955885</td><td>1.0</td><td>203.73785996103345</td><td>34.043628816968564</td><td>1541.015464956403</td><td>5.586731649390533</td><td>0.0</td><td>HATLAS-NGP</td></tr>\n",
       "<tr><td>8</td><td>HELP_BLIND_J124610.150+304356.306</td><td>191.54229196307944</td><td>30.732307179105398</td><td>1339.6061</td><td>1339.6874</td><td>1339.4321</td><td>559.9317</td><td>560.16266</td><td>559.392</td><td>230.87695</td><td>234.82462</td><td>225.61716</td><td>-1.3613981</td><td>-2.645531</td><td>-3.4274657</td><td>4.4002438</td><td>3.7724805</td><td>4.109659</td><td>nan</td><td>nan</td><td>0.9986765</td><td>2000.0</td><td>2000.0</td><td>2000.0</td><td>1.0</td><td>1.0</td><td>0.012</td><td>True</td><td>True</td><td>False</td><td>1504.6235081049654</td><td>5.933601841674385</td><td>603.5769243043727</td><td>5.544414594331803</td><td>251.94744579795696</td><td>6.404239486974522</td><td>0.8180168248911274</td><td>1.0</td><td>191.5426262913458</td><td>30.732048783065707</td><td>1410.622500214571</td><td>5.8155384935763355</td><td>0.0</td><td>HATLAS-NGP</td></tr>\n",
       "<tr><td>9</td><td>HELP_BLIND_J130850.446+320952.141</td><td>197.2101906745117</td><td>32.164483479826934</td><td>1265.0002</td><td>1265.07</td><td>1264.8242</td><td>554.13116</td><td>554.7499</td><td>552.73083</td><td>193.96872</td><td>198.1445</td><td>189.82455</td><td>-0.92667186</td><td>-1.3647313</td><td>-2.201004</td><td>4.146472</td><td>4.134046</td><td>3.9684172</td><td>nan</td><td>0.9990471</td><td>0.99968886</td><td>2000.0</td><td>2000.0</td><td>2000.0</td><td>1.0</td><td>0.949</td><td>0.0</td><td>True</td><td>True</td><td>False</td><td>1420.0686959425516</td><td>5.021991757401452</td><td>580.9539670192898</td><td>4.6475244901355435</td><td>201.8995502335316</td><td>4.57777663291984</td><td>0.8066126206267729</td><td>1.0</td><td>197.20986247006266</td><td>32.16475611218879</td><td>1370.9150634937603</td><td>4.923026901576613</td><td>0.0</td><td>HATLAS-NGP</td></tr>\n",
       "</table><style>table.dataTable {clear: both; width: auto !important; margin: 0 !important;}\n",
       ".dataTables_info, .dataTables_length, .dataTables_filter, .dataTables_paginate{\n",
       "display: inline-block; margin-right: 1em; }\n",
       ".paginate_button { margin-right: 5px; }\n",
       "</style>\n",
       "<script>\n",
       "\n",
       "var astropy_sort_num = function(a, b) {\n",
       "    var a_num = parseFloat(a);\n",
       "    var b_num = parseFloat(b);\n",
       "\n",
       "    if (isNaN(a_num) && isNaN(b_num))\n",
       "        return ((a < b) ? -1 : ((a > b) ? 1 : 0));\n",
       "    else if (!isNaN(a_num) && !isNaN(b_num))\n",
       "        return ((a_num < b_num) ? -1 : ((a_num > b_num) ? 1 : 0));\n",
       "    else\n",
       "        return isNaN(a_num) ? -1 : 1;\n",
       "}\n",
       "\n",
       "require.config({paths: {\n",
       "    datatables: 'https://cdn.datatables.net/1.10.12/js/jquery.dataTables.min'\n",
       "}});\n",
       "require([\"datatables\"], function(){\n",
       "    console.log(\"$('#table139985130387944-477079').dataTable()\");\n",
       "    \n",
       "jQuery.extend( jQuery.fn.dataTableExt.oSort, {\n",
       "    \"optionalnum-asc\": astropy_sort_num,\n",
       "    \"optionalnum-desc\": function (a,b) { return -astropy_sort_num(a, b); }\n",
       "});\n",
       "\n",
       "    $('#table139985130387944-477079').dataTable({\n",
       "        order: [],\n",
       "        pageLength: 50,\n",
       "        lengthMenu: [[10, 25, 50, 100, 500, 1000, -1], [10, 25, 50, 100, 500, 1000, 'All']],\n",
       "        pagingType: \"full_numbers\",\n",
       "        columnDefs: [{targets: [0, 2, 3, 4, 5, 6, 7, 8, 9, 10, 11, 12, 13, 14, 15, 16, 17, 18, 19, 20, 21, 22, 23, 24, 25, 26, 27, 31, 32, 33, 34, 35, 36, 37, 38, 39, 40, 41, 42, 43], type: \"optionalnum\"}]\n",
       "    });\n",
       "});\n",
       "</script>\n"
      ],
      "text/plain": [
       "<IPython.core.display.HTML object>"
      ]
     },
     "execution_count": 6,
     "metadata": {},
     "output_type": "execute_result"
    }
   ],
   "source": [
    "full_cat[:10].show_in_notebook()"
   ]
  },
  {
   "cell_type": "code",
   "execution_count": null,
   "metadata": {},
   "outputs": [],
   "source": []
  }
 ],
 "metadata": {
  "kernelspec": {
   "display_name": "Python (herschelhelp_internal)",
   "language": "python",
   "name": "helpint"
  },
  "language_info": {
   "codemirror_mode": {
    "name": "ipython",
    "version": 3
   },
   "file_extension": ".py",
   "mimetype": "text/x-python",
   "name": "python",
   "nbconvert_exporter": "python",
   "pygments_lexer": "ipython3",
   "version": "3.7.2"
  }
 },
 "nbformat": 4,
 "nbformat_minor": 4
}
