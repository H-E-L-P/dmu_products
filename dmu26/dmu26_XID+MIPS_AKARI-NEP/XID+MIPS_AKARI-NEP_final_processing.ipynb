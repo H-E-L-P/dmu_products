{
 "cells": [
  {
   "cell_type": "code",
   "execution_count": 1,
   "metadata": {
    "collapsed": true
   },
   "outputs": [
    {
     "name": "stderr",
     "output_type": "stream",
     "text": [
      "/home/mc741/anaconda3/lib/python3.6/site-packages/mpl_toolkits/axes_grid/__init__.py:12: MatplotlibDeprecationWarning: \n",
      "The mpl_toolkits.axes_grid module was deprecated in Matplotlib 2.1 and will be removed two minor releases later. Use mpl_toolkits.axes_grid1 and mpl_toolkits.axisartist, which provide the same functionality instead.\n",
      "  obj_type='module')\n"
     ]
    }
   ],
   "source": [
    "import pylab\n",
    "import pymoc\n",
    "import xidplus\n",
    "import numpy as np\n",
    "%matplotlib inline\n",
    "from astropy.io import fits\n",
    "from astropy import wcs\n",
    "from astropy.table import Table\n",
    "import pandas as pd"
   ]
  },
  {
   "cell_type": "markdown",
   "metadata": {},
   "source": [
    "## Read tables"
   ]
  },
  {
   "cell_type": "code",
   "execution_count": 2,
   "metadata": {},
   "outputs": [],
   "source": [
    "cat1=Table.read('data/output/dmu26_XID+MIPS_AKARI-NEP_cat40039570.fits')\n",
    "cat2=Table.read('data/output/dmu26_XID+MIPS_AKARI-NEP_cat40039610.fits')\n",
    "cat3=Table.read('data/output/dmu26_XID+MIPS_AKARI-NEP_cat40049400.fits')\n",
    "cat4=Table.read('data/output/dmu26_XID+MIPS_AKARI-NEP_cat60080410.fits')\n",
    "cat5=Table.read('data/output/dmu26_XID+MIPS_AKARI-NEP_cat60092780.fits')\n",
    "cat6=Table.read('data/output/dmu26_XID+MIPS_AKARI-NEP_cat60096211_0.fits')\n",
    "cat7=Table.read('data/output/dmu26_XID+MIPS_AKARI-NEP_cat60096211_1.fits')\n",
    "cat8=Table.read('data/output/dmu26_XID+MIPS_AKARI-NEP_cat60096211_2.fits')\n",
    "cat9=Table.read('data/output/dmu26_XID+MIPS_AKARI-NEP_cat60096211_3.fits')\n",
    "cat10=Table.read('data/output/dmu26_XID+MIPS_AKARI-NEP_cat60096211_4.fits')\n",
    "cat11=Table.read('data/output/dmu26_XID+MIPS_AKARI-NEP_cat60096211_5.fits')\n",
    "cat12=Table.read('data/output/dmu26_XID+MIPS_AKARI-NEP_cat60096211_6.fits')\n",
    "cat13=Table.read('data/output/dmu26_XID+MIPS_AKARI-NEP_cat60096211_8.fits')\n",
    "cat14=Table.read('data/output/dmu26_XID+MIPS_AKARI-NEP_cat60096211_9.fits')\n",
    "cat15=Table.read('data/output/dmu26_XID+MIPS_AKARI-NEP_cat60096211_10.fits')\n",
    "cat16=Table.read('data/output/dmu26_XID+MIPS_AKARI-NEP_cat60096211_11.fits')\n",
    "cat17=Table.read('data/output/dmu26_XID+MIPS_AKARI-NEP_cat60096211_12.fits')\n",
    "cat18=Table.read('data/output/dmu26_XID+MIPS_AKARI-NEP_cat60096211_13.fits')\n",
    "cat19=Table.read('data/output/dmu26_XID+MIPS_AKARI-NEP_cat60096211_7.fits')\n",
    "cat20=Table.read('data/output/dmu26_XID+MIPS_AKARI-NEP_cat40019880.fits')"
   ]
  },
  {
   "cell_type": "code",
   "execution_count": 3,
   "metadata": {},
   "outputs": [],
   "source": [
    "catalogs=[cat2,cat3,cat4,cat5,cat6,cat7,cat8,cat9,cat10,cat11,cat12,cat13,cat14,cat15,cat16,cat17,cat18, cat19,cat20]\n",
    "for c in catalogs:\n",
    "    for i,source in enumerate(c['help_id']):\n",
    "        if source in cat1['help_id']:\n",
    "            if c[i]['FErr_MIPS_24_u'] < cat1[i]['FErr_MIPS_24_u']:\n",
    "            #if c[i]['Rhat_MIPS_24'] < cat1[i]['Rhat_MIPS_24']:\n",
    "                cat1[i] = c[i]\n",
    "            else:\n",
    "                continue\n",
    "        else:\n",
    "            cat1.add_row(c[i])\n",
    "        \n"
   ]
  },
  {
   "cell_type": "code",
   "execution_count": 4,
   "metadata": {},
   "outputs": [],
   "source": [
    "NEP_cat=cat1"
   ]
  },
  {
   "cell_type": "markdown",
   "metadata": {},
   "source": [
    "## Look at Symmetry of PDFs to determine depth level of catalogue"
   ]
  },
  {
   "cell_type": "code",
   "execution_count": 5,
   "metadata": {},
   "outputs": [
    {
     "name": "stdout",
     "output_type": "stream",
     "text": [
      "2.7453837\n"
     ]
    },
    {
     "data": {
      "image/png": "[encoded data removed]",
      "text/plain": [
       "<Figure size 432x432 with 3 Axes>"
      ]
     },
     "metadata": {
      "needs_background": "light"
     },
     "output_type": "display_data"
    }
   ],
   "source": [
    "import seaborn as sns\n",
    "skew=(NEP_cat['FErr_MIPS_24_u']-NEP_cat['F_MIPS_24'])/(NEP_cat['F_MIPS_24']-NEP_cat['FErr_MIPS_24_l'])\n",
    "skew.name='(84th-50th)/(50th-16th) percentile'\n",
    "use = skew < 5\n",
    "g=sns.jointplot(x=np.log10(NEP_cat['F_MIPS_24'][use]),y=skew[use], kind='hex')\n",
    "print(np.max(skew[use]))\n"
   ]
  },
  {
   "cell_type": "markdown",
   "metadata": {},
   "source": [
    "Both seem to have flux pdfs that become Gaussian at ~30$\\mathrm{\\mu Jy}$ "
   ]
  },
  {
   "cell_type": "markdown",
   "metadata": {},
   "source": [
    "## Add flag to catalogue"
   ]
  },
  {
   "cell_type": "code",
   "execution_count": 6,
   "metadata": {
    "collapsed": true
   },
   "outputs": [],
   "source": [
    "from astropy.table import Column\n",
    "NEP_cat.add_column(Column(np.zeros(len(NEP_cat), dtype=bool),name='flag_mips_24'))\n"
   ]
  },
  {
   "cell_type": "code",
   "execution_count": null,
   "metadata": {
    "collapsed": true
   },
   "outputs": [],
   "source": []
  },
  {
   "cell_type": "code",
   "execution_count": 7,
   "metadata": {
    "collapsed": true
   },
   "outputs": [],
   "source": [
    "ind_NEP=(NEP_cat['Pval_res_24']>0.5) | (NEP_cat['F_MIPS_24'] < 30.0)"
   ]
  },
  {
   "cell_type": "code",
   "execution_count": 8,
   "metadata": {
    "collapsed": true
   },
   "outputs": [],
   "source": [
    "NEP_cat['flag_mips_24'][ind_NEP]=True\n"
   ]
  },
  {
   "cell_type": "code",
   "execution_count": 9,
   "metadata": {},
   "outputs": [
    {
     "name": "stderr",
     "output_type": "stream",
     "text": [
      "WARNING: UnitsWarning: 'degrees' did not parse as fits unit: At col 0, Unit 'degrees' not supported by the FITS standard.  [astropy.units.core]\n",
      "WARNING: UnitsWarning: 'muJy' did not parse as fits unit: At col 0, Unit 'muJy' not supported by the FITS standard. Did you mean MJy, mJy or uJy? [astropy.units.core]\n"
     ]
    }
   ],
   "source": [
    "NEP_cat.write('./data/output/dmu26_XID+MIPS_AKARI-NEP_cat_20190227.fits', format='fits',overwrite=True)"
   ]
  },
  {
   "cell_type": "code",
   "execution_count": null,
   "metadata": {
    "collapsed": true
   },
   "outputs": [],
   "source": []
  },
  {
   "cell_type": "markdown",
   "metadata": {},
   "source": [
    "### Check Map\n"
   ]
  },
  {
   "cell_type": "code",
   "execution_count": 10,
   "metadata": {},
   "outputs": [],
   "source": [
    "from astropy.io import fits\n",
    "import pylab as plt"
   ]
  },
  {
   "cell_type": "code",
   "execution_count": 11,
   "metadata": {},
   "outputs": [],
   "source": [
    "MIPS_pval=fits.open('./data/output/Pval/dmu26_XID+MIPS_AKARI-NEP_Bayes_Pval1.fits')\n"
   ]
  },
  {
   "cell_type": "code",
   "execution_count": 12,
   "metadata": {},
   "outputs": [
    {
     "data": {
      "image/png": "[encoded data removed]",
      "text/plain": [
       "<Figure size 432x288 with 1 Axes>"
      ]
     },
     "metadata": {
      "needs_background": "light"
     },
     "output_type": "display_data"
    }
   ],
   "source": [
    "plt.hist(MIPS_pval[1].data[np.isfinite(MIPS_pval[1].data)],bins=np.arange(-6,6,0.05));"
   ]
  },
  {
   "cell_type": "code",
   "execution_count": null,
   "metadata": {},
   "outputs": [],
   "source": []
  }
 ],
 "metadata": {
  "kernelspec": {
   "display_name": "Python (herschelhelp_internal)",
   "language": "python",
   "name": "helpint"
  },
  "language_info": {
   "codemirror_mode": {
    "name": "ipython",
    "version": 3
   },
   "file_extension": ".py",
   "mimetype": "text/x-python",
   "name": "python",
   "nbconvert_exporter": "python",
   "pygments_lexer": "ipython3",
   "version": "3.6.8"
  }
 },
 "nbformat": 4,
 "nbformat_minor": 2
}
