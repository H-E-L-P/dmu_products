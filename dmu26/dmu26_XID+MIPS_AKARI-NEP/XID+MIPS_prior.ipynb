{
 "cells": [
  {
   "cell_type": "code",
   "execution_count": 24,
   "metadata": {
    "collapsed": true
   },
   "outputs": [],
   "source": [
    "import pylab\n",
    "import pymoc\n",
    "import xidplus\n",
    "import numpy as np\n",
    "%matplotlib inline\n",
    "import pylab as plt"
   ]
  },
  {
   "cell_type": "code",
   "execution_count": null,
   "metadata": {},
   "outputs": [],
   "source": []
  },
  {
   "cell_type": "markdown",
   "metadata": {},
   "source": [
    "This notebook uses all the raw data from the masterlist, maps, PSF and relevant MOCs to create XID+ prior object and relevant tiling scheme"
   ]
  },
  {
   "cell_type": "markdown",
   "metadata": {},
   "source": [
    "## Read in MOCs\n",
    "The selection functions required are the main MOC associated with the masterlist. Here we use the DataFusion-Spitzer MOC."
   ]
  },
  {
   "cell_type": "code",
   "execution_count": 25,
   "metadata": {
    "collapsed": true
   },
   "outputs": [],
   "source": [
    "Sel_func=pymoc.MOC()\n",
    "Sel_func.read('../../dmu4/dmu4_sm_AKARI-NEP/data/holes_AKARI-NEP_O16_MOC.fits')\n",
    "SWIRE_MOC=pymoc.MOC()\n",
    "SWIRE_MOC.read('../../dmu17/dmu17_HELP-SEIP-maps/AKARI-NEP/data/40039610.40039610-0.MIPS.1.moc.fits')"
   ]
  },
  {
   "cell_type": "code",
   "execution_count": 26,
   "metadata": {
    "collapsed": true
   },
   "outputs": [],
   "source": [
    "Final=Sel_func.intersection(SWIRE_MOC)"
   ]
  },
  {
   "cell_type": "code",
   "execution_count": 27,
   "metadata": {
    "collapsed": true
   },
   "outputs": [],
   "source": [
    "Final.write('./data/testMoc.fits', overwrite=True)"
   ]
  },
  {
   "cell_type": "markdown",
   "metadata": {},
   "source": [
    "## Read in Masterlist\n",
    "Next step is to read in Masterlist and select only sources that are detected in mid-infrared and at least one other wavelength domain (i.e. optical or nir). This will remove most of the objects in the catalogue that are artefacts. We can do this by using the `flag_optnir_det` flag and selecting sources that have a binary value of $>= 5$"
   ]
  },
  {
   "cell_type": "code",
   "execution_count": 28,
   "metadata": {
    "collapsed": true
   },
   "outputs": [],
   "source": [
    "from astropy.io import fits\n",
    "masterfile='master_catalogue_akari-nep_20180215.fits'\n",
    "masterlist=fits.open('../../dmu1/dmu1_ml_AKARI-NEP/data/'+masterfile)"
   ]
  },
  {
   "cell_type": "code",
   "execution_count": 29,
   "metadata": {
    "collapsed": true
   },
   "outputs": [],
   "source": [
    "good=masterlist[1].data['flag_optnir_det']>=5"
   ]
  },
  {
   "cell_type": "markdown",
   "metadata": {},
   "source": [
    "### Create uninformative (i.e. conservative) upper and lower limits based on IRAC fluxes\n",
    "As the default flux prior for XID+ is a uniform distribution, it makes sense to set reasonable upper and lower 24 micron flux limits based on the longest wavelength IRAC flux available. For a lower limit I take IRAC/500.0 and for upper limit I take IRACx500."
   ]
  },
  {
   "cell_type": "code",
   "execution_count": null,
   "metadata": {
    "collapsed": true
   },
   "outputs": [],
   "source": [
    "MIPS_lower=np.full(good.sum(),0.0)\n",
    "MIPS_upper=np.full(good.sum(),1E5)"
   ]
  },
  {
   "cell_type": "code",
   "execution_count": null,
   "metadata": {},
   "outputs": [],
   "source": [
    "#masterlist[1].header"
   ]
  },
  {
   "cell_type": "code",
   "execution_count": null,
   "metadata": {
    "collapsed": true
   },
   "outputs": [],
   "source": [
    "for i in range(0,good.sum()):\n",
    "    if masterlist[1].data['f_irac_i2'][good][i]>0:\n",
    "        MIPS_lower[i]=masterlist[1].data['f_irac_i2'][good][i]/500.0\n",
    "        MIPS_upper[i]=masterlist[1].data['f_irac_i2'][good][i]*500.0\n",
    "    elif masterlist[1].data['f_irac_i1'][good][i]>0:\n",
    "        MIPS_lower[i]=masterlist[1].data['f_irac_i1'][good][i]/500.0\n",
    "        MIPS_upper[i]=masterlist[1].data['f_irac_i1'][good][i]*500.0"
   ]
  },
  {
   "cell_type": "code",
   "execution_count": null,
   "metadata": {},
   "outputs": [],
   "source": [
    "#np.savez('./tmp_mips_prior', MIPS_lower, MIPS_upper)"
   ]
  },
  {
   "cell_type": "code",
   "execution_count": 30,
   "metadata": {},
   "outputs": [],
   "source": [
    "npzfile = np.load('./tmp_mips_prior.npz')\n",
    "MIPS_lower=npzfile['arr_0']\n",
    "MIPS_upper=npzfile['arr_1']"
   ]
  },
  {
   "cell_type": "code",
   "execution_count": 31,
   "metadata": {},
   "outputs": [
    {
     "data": {
      "text/plain": [
       "array([23828.11355591, 20200.84571838, 15462.85629272, ...,\n",
       "       15659.21592712, 30378.74794006,  9380.15651703])"
      ]
     },
     "execution_count": 31,
     "metadata": {},
     "output_type": "execute_result"
    }
   ],
   "source": [
    "MIPS_upper\n"
   ]
  },
  {
   "cell_type": "markdown",
   "metadata": {},
   "source": [
    "## Read in Map\n",
    "We are now ready to read in the MIPS map\n"
   ]
  },
  {
   "cell_type": "code",
   "execution_count": 32,
   "metadata": {
    "collapsed": true
   },
   "outputs": [],
   "source": [
    "filename='40039610.40039610-0.MIPS.1.help.fits'"
   ]
  },
  {
   "cell_type": "code",
   "execution_count": 33,
   "metadata": {},
   "outputs": [],
   "source": [
    "MIPS_Map=fits.open('../../dmu17/dmu17_HELP-SEIP-maps/AKARI-NEP/data/'+filename)"
   ]
  },
  {
   "cell_type": "code",
   "execution_count": 34,
   "metadata": {},
   "outputs": [
    {
     "data": {
      "image/png": "[encoded data removed]",
      "text/plain": [
       "<Figure size 432x288 with 1 Axes>"
      ]
     },
     "metadata": {
      "needs_background": "light"
     },
     "output_type": "display_data"
    }
   ],
   "source": [
    "data=MIPS_Map[1].data\n",
    "plt.hist(data.flatten(),bins=np.arange(-1.0,10.0,0.1));\n",
    "plt.yscale('log')"
   ]
  },
  {
   "cell_type": "code",
   "execution_count": 35,
   "metadata": {},
   "outputs": [
    {
     "data": {
      "text/plain": [
       "0.3016144873657638"
      ]
     },
     "execution_count": 35,
     "metadata": {},
     "output_type": "execute_result"
    }
   ],
   "source": [
    "np.mean(~np.isnan(data))"
   ]
  },
  {
   "cell_type": "code",
   "execution_count": 36,
   "metadata": {},
   "outputs": [
    {
     "data": {
      "text/plain": [
       "XTENSION= 'IMAGE   '           / Image extension                                \n",
       "BITPIX  =                  -32 / array data type                                \n",
       "NAXIS   =                    2 / number of array dimensions                     \n",
       "NAXIS1  =                  353                                                  \n",
       "NAXIS2  =                  349                                                  \n",
       "PCOUNT  =                    0 / number of parameters                           \n",
       "GCOUNT  =                    1 / number of groups                               \n",
       "ORIGIN  = 'Spitzer Super-Mosaic Pipeline' / Origin of these image data          \n",
       "CREATOR = 'Spitzer Science Center' / Creator of this FITS file                  \n",
       "                                                                                \n",
       "          / TIME AND EXPOSURE INFORMATION                                       \n",
       "                                                                                \n",
       "TELESCOP= 'Spitzer '           / Name of Telescope                              \n",
       "INSTRUME= 'MIPS    '           / Name of Instrument                             \n",
       "CHNLNUM =                    1 / Instrument channel number                      \n",
       "WAVELEN =                23.68 / [microns] effective wavelength of band / Effect\n",
       "MJDSTART=         54339.783254 / MJD of first observation in mosaic             \n",
       "MJDMEAN =          54339.79891 / Mean MJD of observations in mosaic             \n",
       "MJDMED  =            54339.797 / Median MJD of observations in mosaic           \n",
       "MJDEND  =         54339.814565 / MJD of last observation in mosaic              \n",
       "EXPTIME =              1222.64 / Mean exposure time in seconds per pixel        \n",
       "MEXPTIME=              1113.48 / Median exposure time in seconds per pixel      \n",
       "ETMIN   =                30.93 / Minimum exposure time in seconds of input expos\n",
       "ETMAX   =                30.93 / Maximum exposure time in seconds of input expos\n",
       "COV     =                39.53 / Mean coverage in exposures per pixel           \n",
       "MEDCOV  =                39.53 / Median coverage in exposures per pixel         \n",
       "SATMAX  =                6.466 / Soft saturation counts for shortest exposure in\n",
       "SATMIN  =                6.466 / Soft saturation counts for longest exposure / S\n",
       "                                                                                \n",
       "          / SUPER-MOSAIC DATA PRODUCT INFORMATION                               \n",
       "                                                                                \n",
       "IMTYPE  = 'mean    '           / Image product type                             \n",
       "REGID   =             40039610 / Mosaic region identifier                       \n",
       "SUBREGID= '40039610-0'         / Sub-mosaic region identifier                   \n",
       "NXTILE  =                    1 / Number of sub-region tiles in X direction      \n",
       "NYTILE  =                    1 / Number of sub-region tiles in Y direction      \n",
       "XTILE   =                    0 / X position of sub-region tile                  \n",
       "YTILE   =                    0 / Y position of sub-region tile                  \n",
       "SMCASE  =                    3 / Super-Mosaic use-case                          \n",
       "                                                                                \n",
       "          / DATA PROCESSING INFORMATION                                         \n",
       "                                                                                \n",
       "OVRLPNL = 'overlap_gal_mips.nl' / Overlap correction namelist                   \n",
       "MOSNL   = 'mosaic_gal_mips.nl' / Mosaic namelist                                \n",
       "MOPEXVER= '18.5.4  '           / Version of MOPEX used for mosaic processing    \n",
       "PIPEVER = 'S18.12.0'           / Version of calibration pipeline for input image\n",
       "SMVER   = '2.0     '           / Super-Mosaic pipeline version                  \n",
       "FCREATE = '2012-09-29T11:25:00' / File creation date/time (UTC)                 \n",
       "                                                                                \n",
       "          / PHOTOMETRY                                                          \n",
       "                                                                                \n",
       "BUNIT   = 'MJy/sr  '           / Units for image counts                         \n",
       "GAIN    =           136760.626 / Mean conversion in e- / Mean conversion in e-/(\n",
       "EXPGAIN =                5.000 / e- / e-/DN for input exposures                 \n",
       "EFCONV  =               0.0447 / (MJy / (MJy/sr)/(DN/s) for input exposures     \n",
       "ZPAB    =              18.5263 / Magnitude Zero-Point on AB System / Magnitude Z\n",
       "ZPVEGA  =              11.7293 / Magnitude Zero-Point on Vega System / Magnitude\n",
       "                                                                                \n",
       "          / ASTROMETRY                                                          \n",
       "                                                                                \n",
       "RADESYS = 'ICRS    '           / International Celestial Reference System       \n",
       "CRVAL1  =        268.817291571 / [deg] RA of reference point                    \n",
       "CRVAL2  =        66.1703141722 / [deg] DEC of reference point                   \n",
       "CRPIX1  =             177.1643 / [pix] Image reference point                    \n",
       "CRPIX2  =             175.0118 / [pix] Image reference point                    \n",
       "CTYPE1  = 'RA---TAN'           / RA projection type                             \n",
       "CTYPE2  = 'DEC--TAN'           / DEC projection type                            \n",
       "PA      =                  -0. / [deg] Position angle of axis 2 (E of N)        \n",
       "CD1_1   =         -0.000680556 / Transformation matrix                          \n",
       "CD1_2   =                  -0.                                                  \n",
       "CD2_1   =                  -0.                                                  \n",
       "CD2_2   =          0.000680556                                                  \n",
       "PIXSCALE=                 2.45 / arcsec/pix                                     \n",
       "EQUINOX =                2000. / [yr] Equatorial coordinates definition         \n",
       "                                                                                \n",
       "          / SKY BACKGROUND INFORMATION                                          \n",
       "                                                                                \n",
       "ISM_EST =                0.094 / Estimated mean ISM background MJy/str          \n",
       "ZODY_EST=               13.663 / Estimated mean Zody background MJy/str         \n",
       "EXTNAME = 'IMAGE   '                                                            \n",
       "CHECKSUM= '3UaaASVa6SaaASUa'   / HDU checksum updated 2018-06-19T23:35:23       \n",
       "DATASUM = '1616428656'         / data unit checksum updated 2018-06-19T23:35:23 \n",
       "CRVAL1_0=        268.817611000 /CRVAL1 at Wed Jun 20 00:35:22 2018By: sjo       \n",
       "CRVAL2_0=        66.1701330000 /CRVAL2 at Wed Jun 20 00:35:22 2018By: sjo       \n",
       "HISTORY Original Astrometry preserved  with HERMES_FIX_ASTROM                   \n",
       "HISTORY Wed Jun 20 00:35:22 2018                                                \n",
       "HISTORY By: sjo                                                                 \n",
       "HISTORY Astrometry updated with HERMES_FIX_ASTROM                               \n",
       "HISTORY Wed Jun 20 00:35:22 2018                                                \n",
       "HISTORY By: sjo                                                                 \n",
       "HISTORY Old CRVAL:      268.817611000      66.1701330000                        \n",
       "HISTORY New CRVAL:      268.817291571      66.1703141722                        "
      ]
     },
     "execution_count": 36,
     "metadata": {},
     "output_type": "execute_result"
    }
   ],
   "source": [
    "MIPS_Map[1].header"
   ]
  },
  {
   "cell_type": "code",
   "execution_count": 37,
   "metadata": {},
   "outputs": [
    {
     "data": {
      "text/plain": [
       "<matplotlib.image.AxesImage at 0x7f885d979ac8>"
      ]
     },
     "execution_count": 37,
     "metadata": {},
     "output_type": "execute_result"
    },
    {
     "data": {
      "image/png": "[encoded data removed]",
      "text/plain": [
       "<Figure size 432x288 with 1 Axes>"
      ]
     },
     "metadata": {
      "needs_background": "light"
     },
     "output_type": "display_data"
    }
   ],
   "source": [
    "plt.imshow(np.log10(MIPS_Map[1].data))"
   ]
  },
  {
   "cell_type": "markdown",
   "metadata": {},
   "source": [
    "## Read in PSF"
   ]
  },
  {
   "cell_type": "code",
   "execution_count": 50,
   "metadata": {
    "collapsed": true
   },
   "outputs": [],
   "source": [
    "MIPS_psf=fits.open('../../dmu17/dmu17_HELP-SEIP-maps/AKARI-NEP/data/output_data/dmu17_MIPS_AKARI-NEP_20190206_pix.fits')"
   ]
  },
  {
   "cell_type": "code",
   "execution_count": 58,
   "metadata": {},
   "outputs": [
    {
     "data": {
      "image/png": "[encoded data removed]",
      "text/plain": [
       "<Figure size 432x288 with 1 Axes>"
      ]
     },
     "metadata": {},
     "output_type": "display_data"
    }
   ],
   "source": [
    "dat=MIPS_psf[1].data\n",
    "plt.hist(dat.flatten(),bins=np.arange(-0.02,0.05,0.001));\n",
    "plt.yscale('log')"
   ]
  },
  {
   "cell_type": "code",
   "execution_count": 40,
   "metadata": {},
   "outputs": [
    {
     "data": {
      "text/plain": [
       "1.0"
      ]
     },
     "execution_count": 40,
     "metadata": {},
     "output_type": "execute_result"
    }
   ],
   "source": [
    "np.mean(~np.isnan(dat))"
   ]
  },
  {
   "cell_type": "code",
   "execution_count": 41,
   "metadata": {
    "collapsed": true
   },
   "outputs": [],
   "source": [
    "centre=np.long((MIPS_psf[1].header['NAXIS1']-1)/2)\n",
    "radius=5"
   ]
  },
  {
   "cell_type": "code",
   "execution_count": 42,
   "metadata": {},
   "outputs": [
    {
     "data": {
      "text/plain": [
       "<matplotlib.colorbar.Colorbar at 0x7f885cec1ba8>"
      ]
     },
     "execution_count": 42,
     "metadata": {},
     "output_type": "execute_result"
    },
    {
     "data": {
      "image/png": "[encoded data removed]",
      "text/plain": [
       "<Figure size 432x288 with 2 Axes>"
      ]
     },
     "metadata": {
      "needs_background": "light"
     },
     "output_type": "display_data"
    }
   ],
   "source": [
    "plt.imshow(np.log10(MIPS_psf[1].data[centre-radius:centre+radius+1,centre-radius:centre+radius+1]/np.max(MIPS_psf[1].data[centre-radius:centre+radius+1,centre-radius:centre+radius+1])))\n",
    "plt.colorbar()"
   ]
  },
  {
   "cell_type": "markdown",
   "metadata": {},
   "source": [
    "## Set XID+ prior class"
   ]
  },
  {
   "cell_type": "code",
   "execution_count": 43,
   "metadata": {},
   "outputs": [
    {
     "name": "stderr",
     "output_type": "stream",
     "text": [
      "WARNING: FITSFixedWarning: CRVAL1_0= 268.817611000 /CRVAL1 at Wed Jun 20 00:35:22 2018By: sjo \n",
      "keyword looks very much like CRVALia but isn't. [astropy.wcs.wcs]\n",
      "WARNING: FITSFixedWarning: CRVAL2_0= 66.1701330000 /CRVAL2 at Wed Jun 20 00:35:22 2018By: sjo \n",
      "keyword looks very much like CRVALia but isn't. [astropy.wcs.wcs]\n"
     ]
    }
   ],
   "source": [
    "prior_MIPS=xidplus.prior(MIPS_Map[1].data,MIPS_Map[2].data,MIPS_Map[0].header,MIPS_Map[1].header,moc=Final)\n",
    "prior_MIPS.prior_cat(masterlist[1].data['ra'][good],masterlist[1].data['dec'][good],masterfile,flux_lower=MIPS_lower,\n",
    "                     flux_upper=MIPS_upper,ID=masterlist[1].data['help_id'][good])\n"
   ]
  },
  {
   "cell_type": "code",
   "execution_count": 44,
   "metadata": {},
   "outputs": [
    {
     "data": {
      "text/plain": [
       "array([268.77394351, 268.72307791, 268.86497791, 268.9250807 ,\n",
       "       268.79743985, 268.77145831, 268.91627791, 268.7598677 ,\n",
       "       268.67297791, 268.70887791, 268.78477791, 268.82457791,\n",
       "       268.7220981 , 268.90337791, 268.83690681, 268.96705998,\n",
       "       268.75477791, 268.8627537 , 268.93587791, 268.93098581,\n",
       "       268.86477532, 268.76643096, 268.70108256, 268.70127791,\n",
       "       268.80313729, 268.75310216, 268.64177791, 268.77307791,\n",
       "       268.8498451 , 268.65505914, 268.78767791, 268.85867791,\n",
       "       268.94037791, 268.82447791, 268.69353631, 268.8655912 ,\n",
       "       268.83567791, 268.80463773, 268.89267791, 268.76149212,\n",
       "       268.62082938, 268.72886302, 268.63327791, 268.82867791,\n",
       "       268.75048029, 268.87857772, 268.61894004, 268.81476244,\n",
       "       268.95746915, 268.84397791, 268.89468482, 268.78209129,\n",
       "       268.85047791, 268.74967791, 269.02107791, 268.79182376,\n",
       "       268.73557791, 268.69637727, 268.85766273, 269.0109178 ,\n",
       "       268.79850081, 268.79887791, 268.72567791, 268.88366062,\n",
       "       268.83717791, 268.78177791, 268.65327791, 268.84887791,\n",
       "       268.71221545, 268.93023482, 268.86831717, 268.95477791,\n",
       "       268.86817651, 268.79737791, 268.79852298, 268.8547173 ,\n",
       "       268.86676472, 268.98167791, 268.9094845 , 268.70957791,\n",
       "       268.78047791, 268.88994292, 268.78927282, 268.69794878,\n",
       "       268.96099464, 268.87167791, 268.76671627, 268.8704741 ,\n",
       "       268.73577791, 268.77038458, 268.63707791, 268.85898895,\n",
       "       268.65771506, 268.81137791, 268.67784912, 268.7695909 ,\n",
       "       269.003719  , 268.78582373, 268.91607791, 268.80717791,\n",
       "       268.67917791, 268.79286231, 268.84507791, 268.78847791,\n",
       "       268.95405093, 268.94357791, 268.73047791, 268.69237791,\n",
       "       268.7707751 , 268.81367791, 268.69617791, 268.9344892 ,\n",
       "       268.99903964, 268.95368669, 268.69548183, 268.74644369,\n",
       "       268.92411581, 268.89387791, 268.92823919, 268.78857791,\n",
       "       268.93067791, 268.93167791, 268.72357791, 268.78323985,\n",
       "       268.78894709, 268.85937791, 268.79980091, 268.77227791,\n",
       "       268.82397751, 268.74257791, 268.98027791, 268.80938466,\n",
       "       268.82932033, 268.76390427, 268.87269138, 268.94234545,\n",
       "       268.79803404, 268.72640806, 268.76617791, 268.80602547,\n",
       "       268.84679311, 268.70557791, 268.71790271, 268.87087791,\n",
       "       268.95673371, 268.73259384, 268.78032102, 268.80467791,\n",
       "       268.88527791, 268.97014807, 268.77167791, 268.8989491 ,\n",
       "       268.99438616, 268.86507791, 269.0136995 , 268.85991675,\n",
       "       268.83382757, 268.71167791, 268.94707791, 268.90987117,\n",
       "       268.79737791, 268.71857791, 268.72187791, 268.81249095,\n",
       "       268.84753084, 269.02951643, 268.69280163, 268.82777791,\n",
       "       268.62513021, 268.82450389, 268.78324766, 268.78197791,\n",
       "       268.77097791, 268.71233549, 268.85947791, 268.9190777 ,\n",
       "       268.79007791, 268.64967791, 268.87467791, 268.81847791,\n",
       "       268.82324987, 268.94080684, 268.72477182, 268.75051103,\n",
       "       268.77006413, 268.76885674, 268.91889768, 268.90507791,\n",
       "       268.64449278, 268.69473641, 268.71955096, 268.90847791,\n",
       "       268.7141087 , 268.87907972, 268.83657823, 268.85077791,\n",
       "       268.76837791, 268.67051992, 268.87642766, 268.89248345,\n",
       "       268.79807791, 268.88842398, 268.75257791, 268.68038062,\n",
       "       268.87420678, 269.00936048, 268.75722499, 268.82597791,\n",
       "       268.87287791, 268.77197791, 268.81932083, 268.88007791,\n",
       "       268.72697791, 268.84757791, 268.69567791, 268.64587791,\n",
       "       268.87937791, 268.7683992 , 268.78837791, 268.98655961,\n",
       "       268.76658635, 268.73917097, 268.63669891, 268.8827365 ,\n",
       "       268.76723758, 268.88827791, 268.77157791, 268.83781594,\n",
       "       268.88589498, 268.79307791, 268.74537123, 268.88177791,\n",
       "       268.73481664, 268.90187791, 268.95751246, 268.85412205,\n",
       "       268.63677791, 268.79428725, 268.72265749, 268.83521599,\n",
       "       268.91397791, 268.7846047 , 268.68987791, 268.84921776,\n",
       "       268.77077791, 268.86904478, 268.65037717, 268.89667791,\n",
       "       268.76444378, 268.80554289, 268.78712176, 268.68204889,\n",
       "       268.78587791, 268.71247791, 268.7045183 , 268.82467791,\n",
       "       268.99838147, 268.88719208, 268.8187529 , 268.71187791,\n",
       "       268.92195619, 268.80897791, 268.84533714, 268.90011402,\n",
       "       268.88090132, 268.94397399, 268.79177791, 268.74438349,\n",
       "       268.72407791, 268.82027791, 268.90916566, 268.88605965,\n",
       "       268.80942226, 268.95733178, 268.83107791, 268.88087791,\n",
       "       268.80567791, 268.90527791, 268.98787487, 268.87088115,\n",
       "       268.84561629, 268.77407791, 268.80627791, 268.83997791,\n",
       "       268.84557791, 268.81717791, 268.81169213, 268.76597791,\n",
       "       268.93077791, 268.82087791, 268.78863385, 268.83410789,\n",
       "       268.76683454, 268.83847791, 268.80042683, 268.74490464,\n",
       "       268.85827791, 268.79777791, 268.77297791, 268.68197791,\n",
       "       268.9206267 , 268.89316345, 268.93027235, 268.88567791,\n",
       "       268.90743253, 268.9408242 , 268.87567791, 268.79487791,\n",
       "       268.74841865, 268.84817791, 268.99617791, 268.88545187,\n",
       "       268.92509533, 268.74408464, 268.63697791, 268.80747791,\n",
       "       268.97637791, 268.82837791, 268.83797791, 268.99151057,\n",
       "       268.71279534, 268.88025869, 269.02567791, 268.63466831,\n",
       "       268.87758758, 268.69964339, 268.89087791, 268.66667815,\n",
       "       268.74864964, 268.93195115, 268.85397791, 268.84584853,\n",
       "       269.01437791, 268.64837791, 268.98450138, 268.95027791,\n",
       "       268.86662591, 268.75293209, 268.97299897, 268.73287791,\n",
       "       268.87277791, 268.65317791, 268.71642983, 268.83687791,\n",
       "       268.78307791, 268.76277791, 268.9171389 , 268.85247791,\n",
       "       268.70477791, 268.78777791, 268.93636104, 268.79536878,\n",
       "       268.89859485, 268.95646199, 268.85607791, 268.85120879,\n",
       "       268.80187791, 268.92833329, 268.75467791, 269.01528151,\n",
       "       268.79467791, 268.5991489 , 268.85287791, 268.93827791,\n",
       "       268.82387791, 268.84697791, 268.75451472, 268.86877791,\n",
       "       268.90157791, 268.72227791, 268.88363542, 268.78457791,\n",
       "       268.7910125 , 268.83247791, 268.70757791, 268.94807791,\n",
       "       268.80317791, 268.96962579, 268.97051014, 268.59609006,\n",
       "       268.75777791, 268.87107791, 268.74927791, 268.88236373,\n",
       "       268.75420441, 268.83657791, 268.93329735, 268.74000353,\n",
       "       268.80817791, 268.80637791, 268.88467791, 268.75827791,\n",
       "       268.69507791, 268.65947791, 268.81207791, 268.96924379,\n",
       "       268.78137791, 268.89777791, 268.66657791, 268.76147791,\n",
       "       268.91717791, 268.74287791, 268.86907791, 268.80030835,\n",
       "       268.81777791, 268.97137791, 268.93597791, 268.83397791,\n",
       "       268.83151716, 268.65955755, 268.75667791, 268.69007791,\n",
       "       268.79521944, 268.84147791, 268.92497791, 268.62114784,\n",
       "       268.73257791, 268.83724945, 268.75437791, 268.80377791,\n",
       "       268.68277791, 268.7428906 , 268.82507791, 268.94827791,\n",
       "       268.72879218, 268.91292398, 268.86915188, 268.9242738 ,\n",
       "       268.86757791, 268.75497791, 268.73727791, 268.76287791,\n",
       "       268.80747791, 268.71696485, 268.83617791, 268.73157791,\n",
       "       268.7865732 , 268.80367791, 268.85717791, 268.9553858 ,\n",
       "       268.83507791, 268.80987791, 268.75367791, 268.95447791,\n",
       "       268.82194987, 268.92207791, 268.91362679, 268.93856654,\n",
       "       268.95307791, 268.68757791, 268.77948856, 268.81365729,\n",
       "       268.74417791, 268.73127791, 268.97246072, 268.81208961,\n",
       "       268.96057791, 268.94797791, 268.92947791, 268.63287791,\n",
       "       268.72217791, 268.73077791, 268.65727791, 268.72197791,\n",
       "       268.83866571, 268.80636312, 268.79399458, 268.97357791,\n",
       "       268.83687791, 268.90124899, 268.77317791, 268.92297791,\n",
       "       268.82027791, 268.89037791, 268.69987791, 268.85398834,\n",
       "       268.88887301, 268.84984286, 268.65367791, 268.96047791,\n",
       "       268.9407143 , 268.92848192, 268.62150721, 269.03794802,\n",
       "       268.80217791, 268.77871932, 268.75770028, 269.01027791,\n",
       "       268.8216535 , 268.94528748, 268.73017791, 268.75497791,\n",
       "       268.72987791, 268.86447791, 268.74607791, 268.76527791,\n",
       "       268.77617791, 268.81862679, 268.87967997, 268.61987791,\n",
       "       268.90375615, 268.78039592, 268.71127793, 268.87410196,\n",
       "       268.86207791, 268.80227791, 268.70977791, 268.89998728,\n",
       "       268.96337791, 268.80212805, 268.85957791, 268.98408451,\n",
       "       268.72325346, 268.70987791, 268.71944222, 268.76378614,\n",
       "       268.70183007, 268.77447791, 268.61747791, 268.87124197,\n",
       "       268.84718338, 268.73407791, 268.74097791, 268.93902163,\n",
       "       268.91067791, 268.72568011, 268.99057791, 268.77222132,\n",
       "       268.90425188, 268.80427791, 268.97817791, 268.83045034,\n",
       "       268.70627747, 268.7702754 , 268.93917791, 268.87327791,\n",
       "       268.76407791, 268.75715303, 268.74951674, 268.64047791,\n",
       "       268.91761859, 268.82167791, 268.85101809, 268.64167791,\n",
       "       268.84817791, 268.83132464, 268.83327791, 268.83995221,\n",
       "       268.77247791, 268.80387791, 268.69387791, 268.74377791,\n",
       "       268.70407791, 268.75709088])"
      ]
     },
     "execution_count": 44,
     "metadata": {},
     "output_type": "execute_result"
    }
   ],
   "source": [
    "prior_MIPS.sra"
   ]
  },
  {
   "cell_type": "code",
   "execution_count": 45,
   "metadata": {},
   "outputs": [
    {
     "name": "stderr",
     "output_type": "stream",
     "text": [
      "WARNING: Cannot determine equinox. Assuming J2000. [aplpy.wcs_util]\n",
      "WARNING: Cannot determine equinox. Assuming J2000. [aplpy.wcs_util]\n"
     ]
    },
    {
     "data": {
      "text/plain": [
       "([<aplpy.core.FITSFigure at 0x7f885cf8ceb8>],\n",
       " <Figure size 720x720 with 2 Axes>)"
      ]
     },
     "execution_count": 45,
     "metadata": {},
     "output_type": "execute_result"
    },
    {
     "data": {
      "image/png": "[encoded data removed]",
      "text/plain": [
       "<Figure size 720x720 with 2 Axes>"
      ]
     },
     "metadata": {},
     "output_type": "display_data"
    }
   ],
   "source": [
    "xidplus.plot_map([prior_MIPS])"
   ]
  },
  {
   "cell_type": "code",
   "execution_count": 46,
   "metadata": {
    "collapsed": true
   },
   "outputs": [],
   "source": [
    "prior_MIPS.set_prf(MIPS_psf[1].data[centre-radius:centre+radius+1,centre-radius:centre+radius+1]/1.0E6,np.arange(0,41/2.0,0.5),np.arange(0,41/2.0,0.5))"
   ]
  },
  {
   "cell_type": "markdown",
   "metadata": {},
   "source": [
    "## Calculate tiles\n",
    "As fitting the whole map would be too computationally expensive, I split based on HEALPix pixels. For MIPS, the optimum order is 11. So that I don't have to read the master prior based on the whole map into memory each time (which requires a lot more memory) I also create another layer of HEALPix pixels based at the lower order of 6."
   ]
  },
  {
   "cell_type": "code",
   "execution_count": 47,
   "metadata": {},
   "outputs": [
    {
     "name": "stdout",
     "output_type": "stream",
     "text": [
      "----- There are 31 tiles required for input catalogue and 2 large tiles\n"
     ]
    },
    {
     "ename": "SystemExit",
     "evalue": "",
     "output_type": "error",
     "traceback": [
      "An exception has occurred, use %tb to see the full traceback.\n",
      "\u001b[0;31mSystemExit\u001b[0m\n"
     ]
    }
   ],
   "source": [
    "import pickle\n",
    "#from moc, get healpix pixels at a given order\n",
    "from xidplus import moc_routines\n",
    "order=11\n",
    "tiles=moc_routines.get_HEALPix_pixels(order,prior_MIPS.sra,prior_MIPS.sdec,unique=True)\n",
    "order_large=6\n",
    "tiles_large=moc_routines.get_HEALPix_pixels(order_large,prior_MIPS.sra,prior_MIPS.sdec,unique=True)\n",
    "print('----- There are '+str(len(tiles))+' tiles required for input catalogue and '+str(len(tiles_large))+' large tiles')\n",
    "output_folder='./data/'\n",
    "outfile=output_folder+'Master_prior2.pkl'\n",
    "with open(outfile, 'wb') as f:\n",
    "    pickle.dump({'priors':[prior_MIPS],'tiles':tiles,'order':order,'version':xidplus.io.git_version()},f)\n",
    "outfile=output_folder+'Tiles2.pkl'\n",
    "with open(outfile, 'wb') as f:\n",
    "    pickle.dump({'tiles':tiles,'order':order,'tiles_large':tiles_large,'order_large':order_large,'version':xidplus.io.git_version()},f)\n",
    "raise SystemExit()"
   ]
  },
  {
   "cell_type": "code",
   "execution_count": null,
   "metadata": {},
   "outputs": [],
   "source": [
    "prior_MIPS.nsrc"
   ]
  },
  {
   "cell_type": "code",
   "execution_count": null,
   "metadata": {
    "collapsed": true
   },
   "outputs": [],
   "source": []
  }
 ],
 "metadata": {
  "kernelspec": {
   "display_name": "Python (herschelhelp_internal)",
   "language": "python",
   "name": "helpint"
  },
  "language_info": {
   "codemirror_mode": {
    "name": "ipython",
    "version": 3
   },
   "file_extension": ".py",
   "mimetype": "text/x-python",
   "name": "python",
   "nbconvert_exporter": "python",
   "pygments_lexer": "ipython3",
   "version": "3.6.6"
  }
 },
 "nbformat": 4,
 "nbformat_minor": 2
}
