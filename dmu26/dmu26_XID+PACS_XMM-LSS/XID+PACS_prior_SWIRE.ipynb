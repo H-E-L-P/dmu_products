{
 "cells": [
  {
   "cell_type": "code",
   "execution_count": 1,
   "metadata": {
    "collapsed": true
   },
   "outputs": [
    {
     "name": "stderr",
     "output_type": "stream",
     "text": [
      "/cm/shared/apps/python/intel/intelpython3/3.5.3/envs/jupyterhub/lib/python3.6/site-packages/matplotlib/cbook/deprecation.py:107: MatplotlibDeprecationWarning: The mpl_toolkits.axes_grid module was deprecated in version 2.1. Use mpl_toolkits.axes_grid1 and mpl_toolkits.axisartist provies the same functionality instead.\n",
      "  warnings.warn(message, mplDeprecation, stacklevel=1)\n"
     ]
    }
   ],
   "source": [
    "import pylab\n",
    "import pymoc\n",
    "import xidplus\n",
    "import numpy as np\n",
    "%matplotlib inline\n",
    "from astropy.table import Table\n",
    "from astropy.io import fits\n",
    "from astropy import wcs\n",
    "import seaborn as sns"
   ]
  },
  {
   "cell_type": "markdown",
   "metadata": {},
   "source": [
    "This notebook uses all the raw data from the XID+MIPS catalogue, maps, PSF and relevant MOCs to create XID+ prior object and relevant tiling scheme"
   ]
  },
  {
   "cell_type": "markdown",
   "metadata": {},
   "source": [
    "## Read in MOCs\n",
    "The selection functions required are the main MOC associated with the masterlist. As the prior for XID+ is based on IRAC detected sources coming from two different surveys at different depths (SPUDS and SWIRE) I will split the XID+ run into two different runs. Here we use the SWIRE depth."
   ]
  },
  {
   "cell_type": "code",
   "execution_count": 2,
   "metadata": {
    "collapsed": true
   },
   "outputs": [],
   "source": [
    "Sel_func=pymoc.MOC()\n",
    "Sel_func.read('../../dmu4/dmu4_sm_XMM-LSS/data/holes_XMM-LSS_irac1_O16_20180420_MOC.fits')\n",
    "SWIRE_MOC=pymoc.MOC()\n",
    "SWIRE_MOC.read('../../dmu0/dmu0_DataFusion-Spitzer/data/Sub_wp4_xmm-lss_mips24_map_v1-1-_MOCmips_mosaic_MOC.fits')\n",
    "Final=Sel_func.intersection(SWIRE_MOC)"
   ]
  },
  {
   "cell_type": "markdown",
   "metadata": {},
   "source": [
    "## Read in XID+MIPS catalogue"
   ]
  },
  {
   "cell_type": "code",
   "execution_count": 3,
   "metadata": {
    "collapsed": false
   },
   "outputs": [],
   "source": [
    "XID_MIPS=Table.read('../dmu26_XID+MIPS_XMM-LSS/data/dmu26_XID+MIPS_XMM-LSS_SWIREnSPUDS_concat_20190106.fits')"
   ]
  },
  {
   "cell_type": "code",
   "execution_count": 4,
   "metadata": {
    "collapsed": false
   },
   "outputs": [
    {
     "data": {
      "text/html": [
       "<i>Table length=10</i>\n",
       "<table id=\"table46912777209672\" class=\"table-striped table-bordered table-condensed\">\n",
       "<thead><tr><th>help_id</th><th>RA</th><th>Dec</th><th>F_MIPS_24</th><th>FErr_MIPS_24_u</th><th>FErr_MIPS_24_l</th><th>Bkg_MIPS_24</th><th>Sig_conf_MIPS_24</th><th>Rhat_MIPS_24</th><th>n_eff_MIPS_24</th><th>Pval_res_24</th><th>flag_mips_24</th></tr></thead>\n",
       "<thead><tr><th></th><th>degrees</th><th>degrees</th><th>muJy</th><th>muJy</th><th>muJy</th><th>MJy / sr</th><th>MJy / sr</th><th></th><th></th><th></th><th></th></tr></thead>\n",
       "<thead><tr><th>bytes27</th><th>float64</th><th>float64</th><th>float32</th><th>float32</th><th>float32</th><th>float32</th><th>float32</th><th>float32</th><th>float32</th><th>float32</th><th>bool</th></tr></thead>\n",
       "<tr><td>HELP_J021846.087-062301.346</td><td>34.692030947564795</td><td>-6.383707158297614</td><td>30.09487</td><td>46.226128</td><td>14.67685</td><td>-0.0009270066</td><td>4.858147e-06</td><td>nan</td><td>1142.0</td><td>0.0</td><td>False</td></tr>\n",
       "<tr><td>HELP_J021843.070-062345.559</td><td>34.6794586722776</td><td>-6.39598871477323</td><td>4170.4424</td><td>4190.5127</td><td>4150.0</td><td>-0.0009270066</td><td>4.858147e-06</td><td>nan</td><td>2000.0</td><td>0.373</td><td>False</td></tr>\n",
       "<tr><td>HELP_J021852.610-062138.457</td><td>34.7192093322776</td><td>-6.36068236477323</td><td>327.6509</td><td>346.8575</td><td>307.92105</td><td>-0.0046012965</td><td>4.779417e-06</td><td>nan</td><td>1248.0</td><td>0.0</td><td>False</td></tr>\n",
       "<tr><td>HELP_J021854.601-062151.326</td><td>34.7275025122776</td><td>-6.36425716477323</td><td>65.46506</td><td>83.40683</td><td>47.538906</td><td>-0.0046012965</td><td>4.779417e-06</td><td>nan</td><td>1179.0</td><td>0.398</td><td>False</td></tr>\n",
       "<tr><td>HELP_J021851.714-062215.569</td><td>34.7154747122776</td><td>-6.3709913347732305</td><td>3.1386747</td><td>7.2766647</td><td>0.9495287</td><td>-0.0046012965</td><td>4.779417e-06</td><td>nan</td><td>1711.0</td><td>0.0</td><td>True</td></tr>\n",
       "<tr><td>HELP_J021911.572-062135.966</td><td>34.7982186822776</td><td>-6.359990434773231</td><td>554.56165</td><td>571.6919</td><td>537.1004</td><td>-0.012682672</td><td>4.8390184e-06</td><td>nan</td><td>555.0</td><td>0.0</td><td>False</td></tr>\n",
       "<tr><td>HELP_J021917.826-062026.091</td><td>34.8242763422776</td><td>-6.34058070477323</td><td>963.8944</td><td>982.96875</td><td>944.89764</td><td>-0.005463596</td><td>4.9658024e-06</td><td>nan</td><td>893.0</td><td>0.011</td><td>False</td></tr>\n",
       "<tr><td>HELP_J021923.350-061946.651</td><td>34.8472902722776</td><td>-6.32962525477323</td><td>2255.2812</td><td>2275.3945</td><td>2235.6658</td><td>0.0036527414</td><td>4.8568736e-06</td><td>nan</td><td>2000.0</td><td>0.0</td><td>False</td></tr>\n",
       "<tr><td>HELP_J021926.399-061956.955</td><td>34.8599972322776</td><td>-6.3324875447732305</td><td>215.53192</td><td>235.60165</td><td>196.8128</td><td>0.0036527414</td><td>4.8568736e-06</td><td>0.9989383</td><td>2000.0</td><td>0.0</td><td>False</td></tr>\n",
       "<tr><td>HELP_J021922.877-062008.894</td><td>34.8453220422776</td><td>-6.33580400477323</td><td>338.14105</td><td>355.7203</td><td>320.7381</td><td>0.0036527414</td><td>4.8568736e-06</td><td>nan</td><td>2000.0</td><td>0.0</td><td>False</td></tr>\n",
       "</table>"
      ],
      "text/plain": [
       "<Table length=10>\n",
       "          help_id                   RA         ... Pval_res_24 flag_mips_24\n",
       "                                 degrees       ...                         \n",
       "          bytes27                float64       ...   float32       bool    \n",
       "--------------------------- ------------------ ... ----------- ------------\n",
       "HELP_J021846.087-062301.346 34.692030947564795 ...         0.0        False\n",
       "HELP_J021843.070-062345.559   34.6794586722776 ...       0.373        False\n",
       "HELP_J021852.610-062138.457   34.7192093322776 ...         0.0        False\n",
       "HELP_J021854.601-062151.326   34.7275025122776 ...       0.398        False\n",
       "HELP_J021851.714-062215.569   34.7154747122776 ...         0.0         True\n",
       "HELP_J021911.572-062135.966   34.7982186822776 ...         0.0        False\n",
       "HELP_J021917.826-062026.091   34.8242763422776 ...       0.011        False\n",
       "HELP_J021923.350-061946.651   34.8472902722776 ...         0.0        False\n",
       "HELP_J021926.399-061956.955   34.8599972322776 ...         0.0        False\n",
       "HELP_J021922.877-062008.894   34.8453220422776 ...         0.0        False"
      ]
     },
     "execution_count": 4,
     "metadata": {},
     "output_type": "execute_result"
    }
   ],
   "source": [
    "XID_MIPS[0:10]"
   ]
  },
  {
   "cell_type": "code",
   "execution_count": 5,
   "metadata": {
    "collapsed": false
   },
   "outputs": [
    {
     "name": "stdout",
     "output_type": "stream",
     "text": [
      "4.987116\n",
      "630\n"
     ]
    },
    {
     "data": {
      "image/png": "[encoded data removed]",
      "text/plain": [
       "<Figure size 432x432 with 3 Axes>"
      ]
     },
     "metadata": {},
     "output_type": "display_data"
    }
   ],
   "source": [
    "skew=(XID_MIPS['FErr_MIPS_24_u']-XID_MIPS['F_MIPS_24'])/(XID_MIPS['F_MIPS_24']-XID_MIPS['FErr_MIPS_24_l'])\n",
    "skew.name='(84th-50th)/(50th-16th) percentile'\n",
    "use = skew < 5 \n",
    "n_use=skew>5\n",
    "g=sns.jointplot(x=np.log10(XID_MIPS['F_MIPS_24'][use]),y=skew[use] ,kind='hex')\n",
    "print(np.max(skew[use]))\n",
    "print(len(skew[n_use]))"
   ]
  },
  {
   "cell_type": "markdown",
   "metadata": {},
   "source": [
    "The uncertianties become Gaussian by $\\sim 20 \\mathrm{\\mu Jy}$"
   ]
  },
  {
   "cell_type": "code",
   "execution_count": 6,
   "metadata": {
    "collapsed": true
   },
   "outputs": [],
   "source": [
    "good=XID_MIPS['F_MIPS_24']>20"
   ]
  },
  {
   "cell_type": "code",
   "execution_count": 7,
   "metadata": {
    "collapsed": false
   },
   "outputs": [
    {
     "data": {
      "text/plain": [
       "287595"
      ]
     },
     "execution_count": 7,
     "metadata": {},
     "output_type": "execute_result"
    }
   ],
   "source": [
    "good.sum()"
   ]
  },
  {
   "cell_type": "markdown",
   "metadata": {},
   "source": [
    "## Read in Maps"
   ]
  },
  {
   "cell_type": "code",
   "execution_count": 8,
   "metadata": {
    "collapsed": true
   },
   "outputs": [],
   "source": [
    "#im100fits='../../dmu18/dmu18_XMM-LSS/data/input_data/XMM-LSS_PACS100_20160728_img_wgls.fits'#PACS 100 map\n",
    "#nim100fits='../../dmu18/dmu18_XMM-LSS/data/input_data/XMM-LSS_PACS100_20160728_img_noise.fits'#PACS 100 noise map\n",
    "#im160fits='../../dmu18/dmu18_XMM-LSS/data/input_data/XMM-LSS_PACS160_20160728_img_wgls.fits'#PACS 160 map\n",
    "#nim160fits='../../dmu18/dmu18_XMM-LSS/data/input_data/XMM-LSS_PACS160_20160728_img_noise.fits'#PACS 100 noise map\n",
    "\n",
    "im100fits='../../dmu18/dmu18_XMM-LSS/data/input_data/XMM-LSS_PACS100_v0.9.fits'#PACS 100 map\n",
    "im160fits='../../dmu18/dmu18_XMM-LSS/data/input_data/XMM-LSS_PACS160_v0.9.fits'#PACS 160 map\n",
    "\n",
    "#output folder\n",
    "output_folder='./'"
   ]
  },
  {
   "cell_type": "code",
   "execution_count": 9,
   "metadata": {},
   "outputs": [
    {
     "data": {
      "text/plain": [
       "SIMPLE  =                    T / conforms to FITS standard                      \n",
       "BITPIX  =                    8 / array data type                                \n",
       "NAXIS   =                    0 / number of array dimensions                     \n",
       "EXTEND  =                    T                                                  \n",
       "CREATOR = 'Herschel Extragalactic Legacy Project'                               \n",
       "TIMESYS = 'UTC     '           / All dates are in UTC time                      \n",
       "DATE    = '2018-02-06T12:46:23' / Date of file creation                         \n",
       "VERSION = '0.9     '           / HELP product version                           \n",
       "TELESCOP= 'Herschel'           / Name of the telescope                          \n",
       "INSTRUME= 'PACS    '           / Name of the instrument                         \n",
       "FILTER  = 'PACS-100'           / Name of the filter                             \n",
       "FIELD   = 'XMM-LSS '           / Name of the HELP field                         \n",
       "OBSID000=           1342213032                                                  \n",
       "OBSID001=           1342213033                                                  \n",
       "OBSID002=           1342213034                                                  \n",
       "OBSID003=           1342213035                                                  \n",
       "OBSID004=           1342213952                                                  \n",
       "OBSID005=           1342213953                                                  \n",
       "OBSID006=           1342213954                                                  \n",
       "OBSID007=           1342213955                                                  \n",
       "OBSID008=           1342213956                                                  \n",
       "OBSID009=           1342213957                                                  \n",
       "OBSID010=           1342213958                                                  \n",
       "OBSID011=           1342213959                                                  \n",
       "OBSID012=           1342213960                                                  \n",
       "OBSID013=           1342213961                                                  \n",
       "OBSID014=           1342213962                                                  \n",
       "OBSID015=           1342213963                                                  \n",
       "OBSID016=           1342213964                                                  \n",
       "OBSID017=           1342214010                                                  \n",
       "OBSID018=           1342214011                                                  \n",
       "OBSID019=           1342214012                                                  \n",
       "OBSID020=           1342214013                                                  \n",
       "OBSID021=           1342214014                                                  \n",
       "OBSID022=           1342214015                                                  \n",
       "OBSID023=           1342214016                                                  \n",
       "OBSID024=           1342214017                                                  \n",
       "OBSID025=           1342214018                                                  \n",
       "OBSID026=           1342214019                                                  \n",
       "OBSID027=           1342214053                                                  \n",
       "OBSID028=           1342214054                                                  \n",
       "OBSID029=           1342214055                                                  \n",
       "OBSID030=           1342214056                                                  \n",
       "OBSID031=           1342214057                                                  \n",
       "OBSID032=           1342214058                                                  \n",
       "OBSID033=           1342214153                                                  \n",
       "OBSID034=           1342214154                                                  \n",
       "OBSID035=           1342214155                                                  \n",
       "OBSID036=           1342214156                                                  \n",
       "OBSID037=           1342214169                                                  \n",
       "OBSID038=           1342214205                                                  \n",
       "OBSID039=           1342214206                                                  \n",
       "OBSID040=           1342214207                                                  \n",
       "OBSID041=           1342239455                                                  \n",
       "OBSID042=           1342239456                                                  \n",
       "OBSID043=           1342247646                                                  \n",
       "OBSID044=           1342247647                                                  \n",
       "OBSID045=           1342247648                                                  \n",
       "OBSID046=           1342247649                                                  \n",
       "OBSID047=           1342247650                                                  \n",
       "OBSID048=           1342247675                                                  \n",
       "OBSID049=           1342247676                                                  \n",
       "OBSID050=           1342247677                                                  \n",
       "OBSID051=           1342247678                                                  \n",
       "OBSID052=           1342247679                                                  \n",
       "OBSID053=           1342247680                                                  \n",
       "OBSID054=           1342247698                                                  \n",
       "OBSID055=           1342247699                                                  \n",
       "OBSID056=           1342248021                                                  \n",
       "OBSID057=           1342248022                                                  \n",
       "OBSID058=           1342248023                                                  \n",
       "OBSID059=           1342248024                                                  \n",
       "OBSID060=           1342248095                                                  \n",
       "OBSID061=           1342248096                                                  \n",
       "OBSID062=           1342248097                                                  \n",
       "OBSID063=           1342248098                                                  \n",
       "OBSID064=           1342248099                                                  \n",
       "OBSID065=           1342248100                                                  \n",
       "OBSID066=           1342248290                                                  \n",
       "OBSID067=           1342248291                                                  \n",
       "OBSID068=           1342248724                                                  \n",
       "OBSID069=           1342248725                                                  \n",
       "OBSID070=           1342258806                                                  \n",
       "OBSID071=           1342258807                                                  \n",
       "OBSID072=           1342261957                                                  \n",
       "OBSID073=           1342261958                                                  \n",
       "CHECKSUM= 'CpjqFojnCojnCojn'   / HDU checksum updated 2018-02-06T12:46:23       \n",
       "DATASUM = '0       '           / data unit checksum updated 2018-02-06T12:46:23 "
      ]
     },
     "execution_count": 9,
     "metadata": {},
     "output_type": "execute_result"
    }
   ],
   "source": [
    "hdulist = fits.open(im100fits)\n",
    "hdulist[0].header"
   ]
  },
  {
   "cell_type": "code",
   "execution_count": 10,
   "metadata": {
    "collapsed": true
   },
   "outputs": [],
   "source": [
    "from astropy.io import fits\n",
    "from astropy import wcs\n",
    "\n",
    "#-----100-------------\n",
    "hdulist = fits.open(im100fits)\n",
    "im100phdu=hdulist['PRIMARY'].header\n",
    "im100hdu=hdulist['IMAGE'].header\n",
    "im100=hdulist['IMAGE'].data\n",
    "w_100 = wcs.WCS(hdulist['IMAGE'].header)\n",
    "pixsize100=3600.0*np.abs(hdulist['IMAGE'].header['CDELT1']) #pixel size (in arcseconds)\n",
    "nim100=hdulist['ERROR'].data\n",
    "\n",
    "hdulist.close()\n",
    "\n",
    "#-----160-------------\n",
    "hdulist = fits.open(im160fits)\n",
    "im160phdu=hdulist['PRIMARY'].header\n",
    "im160hdu=hdulist['IMAGE'].header\n",
    "im160=hdulist['IMAGE'].data\n",
    "w_160 = wcs.WCS(hdulist['IMAGE'].header)\n",
    "pixsize160=3600.0*np.abs(hdulist['IMAGE'].header['CDELT1']) #pixel size (in arcseconds)\n",
    "nim160=hdulist['ERROR'].data\n",
    "\n",
    "hdulist.close()"
   ]
  },
  {
   "cell_type": "markdown",
   "metadata": {},
   "source": [
    "## Read in PSF"
   ]
  },
  {
   "cell_type": "code",
   "execution_count": 11,
   "metadata": {
    "collapsed": true
   },
   "outputs": [
    {
     "data": {
      "text/plain": [
       "XTENSION= 'IMAGE   '           / Image extension                                \n",
       "BITPIX  =                  -32 / array data type                                \n",
       "NAXIS   =                    2 / number of array dimensions                     \n",
       "NAXIS1  =                  301 /                                                \n",
       "NAXIS2  =                  301 /                                                \n",
       "PCOUNT  =                    0 / number of parameters                           \n",
       "GCOUNT  =                    1 / number of groups                               \n",
       "IMG_TYPE= 'wgls    '                                                            \n",
       "CTYPE1  = 'RA---TAN'           /                                                \n",
       "CTYPE2  = 'DEC--TAN'           /                                                \n",
       "CRPIX1  =       -4.46484300000 /                                                \n",
       "CRPIX2  =       -3.85839900000 /                                                \n",
       "CRVAL1  =        0.00000000000 / R.A. (degrees) of reference pixel              \n",
       "CRVAL2  =        0.00000000000 / Declination of reference pixel                 \n",
       "CDELT1  =   -0.000185185189667 /                                                \n",
       "CDELT2  =    0.000185185189667 /                                                \n",
       "MAPCENT1=          35.45277023                                                  \n",
       "MAPCENT2=         -4.422952175                                                  \n",
       "CROTA2  =              0.00000 /                                                \n",
       "MAPMAKER= 'UniMap 6.4.2 - University of Rome Map Maker'                         \n",
       "HOMEPAGE= 'http://infocom.uniroma1.it/unimap'                                   \n",
       "CONTACT = 'Lorenzo Piazzo - lorenzo.piazzo@uniroma1.it'                         \n",
       "DATE_MAP= '02-Jul-2016 map creation date'                                       \n",
       "BUNIT   = 'MJy/sr  '                                                            \n",
       "INSTRUME= 'PACS BLUE'                                                           \n",
       "EXTNAME = 'IMAGE   '           /                                                \n",
       "CHECKSUM= 'gfKEhcK9gcKEgcK9'   / HDU checksum updated 2018-02-06T12:46:28       \n",
       "DATASUM = '3060959039'         / data unit checksum updated 2018-02-06T12:46:28 \n",
       "CRVAL1_0=        35.4527702300 /CRVAL1 at Wed Jan 16 11:57:38 2019By: mc741     \n",
       "CRVAL2_0=       -4.42295217500 /CRVAL2 at Wed Jan 16 11:57:38 2019By: mc741     \n",
       "EQUINOX =              2000.00 / Equinox of Ref. Coord.                         \n",
       "LONPOLE =        180.000000000 / Native longitude of Celestial pole             \n",
       "LATPOLE =        90.0000000000 / Celestial latitude of native pole              \n",
       "HISTORY Original Astrometry preserved  with HERMES_FIX_ASTROM                   \n",
       "HISTORY Wed Jan 16 11:57:38 2019                                                \n",
       "HISTORY By: mc741                                                               \n",
       "HISTORY HCONGRID:Jan 16 11:57:40 2019 Original Image Size Was 10297 by 10339    \n",
       "HISTORY HCONGRID:Jan 16 11:57:40 2019 Bilinear Interpolation                    \n",
       "HISTORY HEXTRACT: Wed Jan 16 12:16:56 2019                                      \n",
       "HISTORY Original image size was 30891 by 31017                                  \n",
       "HISTORY Extracted Image: [15445:15745,15508:15808]                              \n",
       "HISTORY PUTAST: Jan 16 12:16:56 2019 World Coordinate System parameters written "
      ]
     },
     "execution_count": 11,
     "metadata": {},
     "output_type": "execute_result"
    }
   ],
   "source": [
    "pacs100_psf=fits.open('../../dmu18/dmu18_XMM-LSS/dmu18_PACS_100_PSF_XMM-LSS_20190125_sr.fits')\n",
    "pacs160_psf=fits.open('../../dmu18/dmu18_XMM-LSS/dmu18_PACS_160_PSF_XMM-LSS_20190125_sr.fits')\n",
    "\n",
    "pacs100_psf['IMAGE'].header"
   ]
  },
  {
   "cell_type": "code",
   "execution_count": 12,
   "metadata": {},
   "outputs": [],
   "source": [
    "centre100=np.long((pacs100_psf[1].header['NAXIS1']-1)/2)\n",
    "radius100=15\n",
    "centre160=np.long((pacs160_psf[1].header['NAXIS1']-1)/2)\n",
    "radius160=15\n",
    "\n",
    "pind100=np.arange(0,radius100+1+radius100,1)*3600*np.abs(pacs100_psf[1].header['CDELT1'])/pixsize100 #get 100 scale in terms of pixel scale of map\n",
    "pind160=np.arange(0,radius160+1+radius160,1)*3600*np.abs(pacs160_psf[1].header['CDELT1'])/pixsize160 #get 160 scale in terms of pixel scale of map\n",
    "\n"
   ]
  },
  {
   "cell_type": "code",
   "execution_count": 13,
   "metadata": {
    "collapsed": false
   },
   "outputs": [
    {
     "name": "stdout",
     "output_type": "stream",
     "text": [
      "[ 0.          0.33333333  0.66666667  1.          1.33333333  1.66666667\n",
      "  2.          2.33333333  2.66666667  3.          3.33333333  3.66666667\n",
      "  4.          4.33333333  4.66666667  5.          5.33333333  5.66666667\n",
      "  6.          6.33333333  6.66666667  7.          7.33333333  7.66666667\n",
      "  8.          8.33333333  8.66666667  9.          9.33333333  9.66666667\n",
      " 10.        ]\n"
     ]
    }
   ],
   "source": [
    "print(pind100)"
   ]
  },
  {
   "cell_type": "code",
   "execution_count": 14,
   "metadata": {
    "collapsed": false
   },
   "outputs": [
    {
     "data": {
      "text/plain": [
       "<matplotlib.colorbar.Colorbar at 0x2aaaf62af748>"
      ]
     },
     "execution_count": 14,
     "metadata": {},
     "output_type": "execute_result"
    },
    {
     "data": {
      "image/png": "[encoded data removed]",
      "text/plain": [
       "<Figure size 1440x720 with 4 Axes>"
      ]
     },
     "metadata": {},
     "output_type": "display_data"
    }
   ],
   "source": [
    "import pylab as plt\n",
    "plt.figure(figsize=(20,10))\n",
    "plt.subplot(1,2,1)\n",
    "plt.imshow(pacs100_psf[1].data[centre100-radius100:centre100+radius100+1,centre100-radius100:centre100+radius100+1])\n",
    "plt.colorbar()\n",
    "plt.subplot(1,2,2)\n",
    "plt.imshow(pacs160_psf[1].data[centre160-radius160:centre160+radius160+1,centre160-radius160:centre160+radius160+1])\n",
    "plt.colorbar()\n"
   ]
  },
  {
   "cell_type": "markdown",
   "metadata": {},
   "source": [
    "## Set XID+ prior class"
   ]
  },
  {
   "cell_type": "code",
   "execution_count": 15,
   "metadata": {
    "collapsed": true
   },
   "outputs": [],
   "source": [
    "#---prior100--------\n",
    "prior100=xidplus.prior(im100,nim100,im100phdu,im100hdu, moc=Final)#Initialise with map, uncertianty map, wcs info and primary header\n",
    "prior100.prior_cat(XID_MIPS['RA'][good],XID_MIPS['Dec'][good],'dmu26_XID+MIPS_XMM-LSS_SWIREnSPUDS_concat_20190106.fits',ID=XID_MIPS['help_id'][good])#Set input catalogue\n",
    "prior100.prior_bkg(0.0,5)#Set prior on background (assumes Gaussian pdf with mu and sigma)\n",
    "\n",
    "#---prior160--------\n",
    "prior160=xidplus.prior(im160,nim160,im160phdu,im160hdu, moc=Final)\n",
    "prior160.prior_cat(XID_MIPS['RA'][good],XID_MIPS['Dec'][good],'dmu26_XID+MIPS_XMM-LSS_SWIREnSPUDS_concat_20190106.fits',ID=XID_MIPS['help_id'][good])\n",
    "prior160.prior_bkg(0.0,5)\n"
   ]
  },
  {
   "cell_type": "code",
   "execution_count": 16,
   "metadata": {
    "collapsed": true
   },
   "outputs": [],
   "source": [
    "# Divide by 1000 so that units are mJy\n",
    "prior100.set_prf(pacs100_psf[1].data[centre100-radius100:centre100+radius100+1,centre100-radius100:centre100+radius100+1]/1000.0,\n",
    "                pind100,pind100)\n",
    "prior160.set_prf(pacs160_psf[1].data[centre160-radius160:centre160+radius160+1,centre160-radius160:centre160+radius160+1]/1000.0,\n",
    "                pind160,pind160)"
   ]
  },
  {
   "cell_type": "code",
   "execution_count": 17,
   "metadata": {
    "collapsed": false
   },
   "outputs": [
    {
     "name": "stdout",
     "output_type": "stream",
     "text": [
      "----- There are 9883 tiles required for input catalogue and 21 large tiles\n"
     ]
    },
    {
     "ename": "SystemExit",
     "evalue": "",
     "output_type": "error",
     "traceback": [
      "An exception has occurred, use %tb to see the full traceback.\n",
      "\u001b[0;31mSystemExit\u001b[0m\n"
     ]
    }
   ],
   "source": [
    "import pickle\n",
    "#from moc, get healpix pixels at a given order\n",
    "from xidplus import moc_routines\n",
    "order=11\n",
    "tiles=moc_routines.get_HEALPix_pixels(order,prior100.sra,prior100.sdec,unique=True)\n",
    "order_large=6\n",
    "tiles_large=moc_routines.get_HEALPix_pixels(order_large,prior100.sra,prior100.sdec,unique=True)\n",
    "print('----- There are '+str(len(tiles))+' tiles required for input catalogue and '+str(len(tiles_large))+' large tiles')\n",
    "output_folder='./data/SWIRE/'\n",
    "outfile=output_folder+'Master_prior_SWIRE.pkl'\n",
    "with open(outfile, 'wb') as f:\n",
    "    pickle.dump({'priors':[prior100,prior160],'tiles':tiles,'order':order,'version':xidplus.io.git_version()},f)\n",
    "outfile=output_folder+'Tiles_SWIRE.pkl'\n",
    "with open(outfile, 'wb') as f:\n",
    "    pickle.dump({'tiles':tiles,'order':order,'tiles_large':tiles_large,'order_large':order_large,'version':xidplus.io.git_version()},f)\n",
    "raise SystemExit()"
   ]
  },
  {
   "cell_type": "code",
   "execution_count": null,
   "metadata": {
    "collapsed": true
   },
   "outputs": [],
   "source": []
  }
 ],
 "metadata": {
  "kernelspec": {
   "display_name": "Python 3",
   "language": "python",
   "name": "python3"
  },
  "language_info": {
   "codemirror_mode": {
    "name": "ipython",
    "version": 3
   },
   "file_extension": ".py",
   "mimetype": "text/x-python",
   "name": "python",
   "nbconvert_exporter": "python",
   "pygments_lexer": "ipython3",
   "version": "3.6.7"
  }
 },
 "nbformat": 4,
 "nbformat_minor": 2
}
