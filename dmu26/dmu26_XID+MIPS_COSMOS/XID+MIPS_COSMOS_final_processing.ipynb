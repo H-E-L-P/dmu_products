{
 "cells": [
  {
   "cell_type": "code",
   "execution_count": 1,
   "id": "e6d5bbbb",
   "metadata": {},
   "outputs": [
    {
     "name": "stderr",
     "output_type": "stream",
     "text": [
      "/Users/pdh21/anaconda3/envs/xidplus/lib/python3.6/site-packages/dask/config.py:168: YAMLLoadWarning: calling yaml.load() without Loader=... is deprecated, as the default Loader is unsafe. Please read https://msg.pyyaml.org/load for full details.\n",
      "  data = yaml.load(f.read()) or {}\n",
      "WARNING: AstropyDeprecationWarning: block_reduce was moved to the astropy.nddata.blocks module.  Please update your import statement. [astropy.nddata.utils]\n"
     ]
    }
   ],
   "source": [
    "import pylab\n",
    "import pymoc\n",
    "import xidplus\n",
    "import numpy as np\n",
    "%matplotlib inline\n",
    "\n",
    "from astropy.io import fits\n",
    "from astropy import wcs\n",
    "from astropy.table import Table"
   ]
  },
  {
   "cell_type": "markdown",
   "id": "cd2fa2c0",
   "metadata": {},
   "source": [
    "## Read Tables"
   ]
  },
  {
   "cell_type": "code",
   "execution_count": 2,
   "id": "9a6d23c7",
   "metadata": {},
   "outputs": [],
   "source": [
    "new_cat=Table.read('./data/dmu26_XID+MIPS24_cat.fits')\n",
    "new_cat['help_id']=list(map(str.strip,new_cat['help_id']))"
   ]
  },
  {
   "cell_type": "code",
   "execution_count": 3,
   "id": "acd2f588",
   "metadata": {},
   "outputs": [
    {
     "data": {
      "text/html": [
       "<i>Table length=370712</i>\n",
       "<table id=\"table140495177800392\" class=\"table-striped table-bordered table-condensed\">\n",
       "<thead><tr><th>help_id</th><th>RA</th><th>Dec</th><th>F_MIPS_24</th><th>FErr_MIPS_24_u</th><th>FErr_MIPS_24_l</th><th>Bkg_MIPS_24</th><th>Sig_conf_MIPS_24</th><th>Rhat_MIPS_24</th><th>n_eff_MIPS_24</th><th>Pval_res_24</th></tr></thead>\n",
       "<thead><tr><th></th><th>degrees</th><th>degrees</th><th>muJy</th><th>muJy</th><th>muJy</th><th>MJy / sr</th><th>MJy / sr</th><th></th><th></th><th></th></tr></thead>\n",
       "<thead><tr><th>str27</th><th>float64</th><th>float64</th><th>float32</th><th>float32</th><th>float32</th><th>float32</th><th>float32</th><th>float32</th><th>float32</th><th>float32</th></tr></thead>\n",
       "<tr><td>HELP_J100012.973+013237.564</td><td>150.05405287512485</td><td>1.5437677021173994</td><td>0.49646598</td><td>1.403249</td><td>0.124439694</td><td>0.004970582</td><td>0.0</td><td>0.9971175</td><td>1028.5126</td><td>0.0</td></tr>\n",
       "<tr><td>HELP_J100012.882+013232.241</td><td>150.05367558945562</td><td>1.5422892067980194</td><td>0.5897039</td><td>1.6710175</td><td>0.15259618</td><td>0.004970582</td><td>0.0</td><td>0.9981769</td><td>1132.4781</td><td>0.0</td></tr>\n",
       "<tr><td>HELP_J100011.891+013233.079</td><td>150.0495458070415</td><td>1.5425220007377403</td><td>0.29764035</td><td>0.7383409</td><td>0.089707546</td><td>0.004970582</td><td>0.0</td><td>1.001006</td><td>555.51874</td><td>0.0</td></tr>\n",
       "<tr><td>HELP_J100012.253+013233.101</td><td>150.05105493739904</td><td>1.5425279615202658</td><td>0.26129657</td><td>0.7371073</td><td>0.06772871</td><td>0.004970582</td><td>0.0</td><td>1.0007117</td><td>868.1644</td><td>0.0</td></tr>\n",
       "<tr><td>HELP_J100013.276+013236.500</td><td>150.05531667970394</td><td>1.5434722282893418</td><td>7.5753193</td><td>12.1057825</td><td>3.6927054</td><td>0.004970582</td><td>0.0</td><td>0.9965922</td><td>463.14423</td><td>0.0</td></tr>\n",
       "<tr><td>HELP_J100012.506+013230.158</td><td>150.05210980277354</td><td>1.541710518644412</td><td>228.51671</td><td>232.93771</td><td>223.81583</td><td>0.004970582</td><td>0.0</td><td>0.99773717</td><td>508.09918</td><td>0.008</td></tr>\n",
       "<tr><td>HELP_J100011.741+013235.358</td><td>150.04892090641232</td><td>1.5431548761371576</td><td>0.32918763</td><td>0.8483454</td><td>0.08682933</td><td>0.004970582</td><td>0.0</td><td>0.99793184</td><td>805.11176</td><td>0.0</td></tr>\n",
       "<tr><td>HELP_J100012.331+013251.704</td><td>150.05137774947212</td><td>1.5476956426794155</td><td>0.37708926</td><td>1.0851567</td><td>0.10761273</td><td>0.004970582</td><td>0.0</td><td>0.99774724</td><td>421.197</td><td>0.0</td></tr>\n",
       "<tr><td>HELP_J100013.669+013235.769</td><td>150.05695450244968</td><td>1.5432692613970325</td><td>0.6086623</td><td>1.4172128</td><td>0.18364817</td><td>0.004970582</td><td>0.0</td><td>0.996643</td><td>745.16833</td><td>0.0</td></tr>\n",
       "<tr><td>...</td><td>...</td><td>...</td><td>...</td><td>...</td><td>...</td><td>...</td><td>...</td><td>...</td><td>...</td><td>...</td></tr>\n",
       "<tr><td>HELP_J095656.215+025216.901</td><td>149.2342297066836</td><td>2.8713612616068485</td><td>72.970314</td><td>121.06135</td><td>22.314865</td><td>-0.019662954</td><td>0.0</td><td>0.99877965</td><td>1328.9971</td><td>0.0</td></tr>\n",
       "<tr><td>HELP_J095655.196+025200.995</td><td>149.22998248768414</td><td>2.8669431026443783</td><td>482.52768</td><td>815.0589</td><td>162.14214</td><td>-0.019662954</td><td>0.0</td><td>0.9980042</td><td>1472.9829</td><td>0.0</td></tr>\n",
       "<tr><td>HELP_J095655.612+025210.938</td><td>149.23171513382118</td><td>2.8697050813141463</td><td>231.69717</td><td>390.91705</td><td>74.64358</td><td>-0.019662954</td><td>0.0</td><td>0.9985891</td><td>1587.8258</td><td>0.0</td></tr>\n",
       "<tr><td>HELP_J095655.912+025219.130</td><td>149.23296707851551</td><td>2.8719806752422965</td><td>793.2105</td><td>1384.7565</td><td>262.72913</td><td>-0.019662954</td><td>0.0</td><td>0.99814266</td><td>1569.6158</td><td>0.0</td></tr>\n",
       "<tr><td>HELP_J095657.249+025230.284</td><td>149.23853636145736</td><td>2.875078990666915</td><td>94.37112</td><td>169.95798</td><td>31.064657</td><td>-0.020116137</td><td>0.0</td><td>0.99902946</td><td>1105.0361</td><td>0.0</td></tr>\n",
       "<tr><td>HELP_J095707.962+025229.810</td><td>149.28317544288302</td><td>2.8749473320471077</td><td>113.70822</td><td>195.22554</td><td>35.05373</td><td>-0.019748619</td><td>0.0</td><td>0.9991961</td><td>1461.1504</td><td>0.0</td></tr>\n",
       "<tr><td>HELP_J095707.846+025233.688</td><td>149.28269367539048</td><td>2.876024572703866</td><td>105.51401</td><td>175.76723</td><td>34.404186</td><td>-0.019748619</td><td>0.0</td><td>0.9983891</td><td>1715.4247</td><td>0.0</td></tr>\n",
       "<tr><td>HELP_J095707.732+025228.958</td><td>149.2822159502034</td><td>2.874710564828325</td><td>93.74803</td><td>158.31609</td><td>29.028439</td><td>-0.019748619</td><td>0.0</td><td>0.99844307</td><td>1364.217</td><td>0.0</td></tr>\n",
       "<tr><td>HELP_J095707.799+025232.080</td><td>149.28249422935676</td><td>2.8755777406136405</td><td>55.669937</td><td>95.58244</td><td>18.169466</td><td>-0.019748619</td><td>0.0</td><td>0.9983852</td><td>1502.2891</td><td>0.0</td></tr>\n",
       "<tr><td>HELP_J095707.849+025229.302</td><td>149.28270468464905</td><td>2.874806025207362</td><td>356.96164</td><td>592.708</td><td>132.74896</td><td>-0.019748619</td><td>0.0</td><td>0.9989662</td><td>1368.45</td><td>0.0</td></tr>\n",
       "</table>"
      ],
      "text/plain": [
       "<Table length=370712>\n",
       "          help_id                   RA         ... n_eff_MIPS_24 Pval_res_24\n",
       "                                 degrees       ...                          \n",
       "           str27                 float64       ...    float32      float32  \n",
       "--------------------------- ------------------ ... ------------- -----------\n",
       "HELP_J100012.973+013237.564 150.05405287512485 ...     1028.5126         0.0\n",
       "HELP_J100012.882+013232.241 150.05367558945562 ...     1132.4781         0.0\n",
       "HELP_J100011.891+013233.079  150.0495458070415 ...     555.51874         0.0\n",
       "HELP_J100012.253+013233.101 150.05105493739904 ...      868.1644         0.0\n",
       "HELP_J100013.276+013236.500 150.05531667970394 ...     463.14423         0.0\n",
       "HELP_J100012.506+013230.158 150.05210980277354 ...     508.09918       0.008\n",
       "HELP_J100011.741+013235.358 150.04892090641232 ...     805.11176         0.0\n",
       "HELP_J100012.331+013251.704 150.05137774947212 ...       421.197         0.0\n",
       "HELP_J100013.669+013235.769 150.05695450244968 ...     745.16833         0.0\n",
       "                        ...                ... ...           ...         ...\n",
       "HELP_J095656.215+025216.901  149.2342297066836 ...     1328.9971         0.0\n",
       "HELP_J095655.196+025200.995 149.22998248768414 ...     1472.9829         0.0\n",
       "HELP_J095655.612+025210.938 149.23171513382118 ...     1587.8258         0.0\n",
       "HELP_J095655.912+025219.130 149.23296707851551 ...     1569.6158         0.0\n",
       "HELP_J095657.249+025230.284 149.23853636145736 ...     1105.0361         0.0\n",
       "HELP_J095707.962+025229.810 149.28317544288302 ...     1461.1504         0.0\n",
       "HELP_J095707.846+025233.688 149.28269367539048 ...     1715.4247         0.0\n",
       "HELP_J095707.732+025228.958  149.2822159502034 ...      1364.217         0.0\n",
       "HELP_J095707.799+025232.080 149.28249422935676 ...     1502.2891         0.0\n",
       "HELP_J095707.849+025229.302 149.28270468464905 ...       1368.45         0.0"
      ]
     },
     "execution_count": 3,
     "metadata": {},
     "output_type": "execute_result"
    }
   ],
   "source": [
    "new_cat"
   ]
  },
  {
   "cell_type": "markdown",
   "id": "dcac71f4",
   "metadata": {},
   "source": [
    "## Look at Symmetry of PDFs to determine depth level of catalogue\n"
   ]
  },
  {
   "cell_type": "code",
   "execution_count": 4,
   "id": "4e881959",
   "metadata": {},
   "outputs": [
    {
     "name": "stdout",
     "output_type": "stream",
     "text": [
      "4.987846\n"
     ]
    },
    {
     "data": {
      "text/plain": [
       "<matplotlib.lines.Line2D at 0x7fc79538ac18>"
      ]
     },
     "execution_count": 4,
     "metadata": {},
     "output_type": "execute_result"
    },
    {
     "data": {
      "image/png": "[encoded data removed]",
      "text/plain": [
       "<Figure size 432x432 with 3 Axes>"
      ]
     },
     "metadata": {
      "needs_background": "light"
     },
     "output_type": "display_data"
    }
   ],
   "source": [
    "import seaborn as sns \n",
    "skew=(new_cat['FErr_MIPS_24_u']-new_cat['F_MIPS_24'])/(new_cat['F_MIPS_24']-new_cat['FErr_MIPS_24_l'])\n",
    "skew.name='(84th-50th)/(50th-16th) percentile'\n",
    "use = skew < 5\n",
    "g=sns.jointplot(x=np.log10(new_cat['F_MIPS_24'][use]),y=skew[use], kind='hex')\n",
    "print(np.max(skew[use]))\n",
    "g.ax_joint.axvline(x=1.0)"
   ]
  },
  {
   "cell_type": "markdown",
   "id": "d4ea6d2a",
   "metadata": {},
   "source": [
    "## Read in old catalogue and compare"
   ]
  },
  {
   "cell_type": "code",
   "execution_count": 5,
   "id": "fb85b6f5",
   "metadata": {},
   "outputs": [],
   "source": [
    "old_cat=Table.read('./data/dmu26_XID+MIPS_COSMOS_20170213.fits')"
   ]
  },
  {
   "cell_type": "code",
   "execution_count": 6,
   "id": "1395b97f",
   "metadata": {},
   "outputs": [],
   "source": [
    "old_cat['help_id']=list(map(str.strip,old_cat['help_id']))"
   ]
  },
  {
   "cell_type": "code",
   "execution_count": 7,
   "id": "5ef00796",
   "metadata": {},
   "outputs": [
    {
     "data": {
      "text/html": [
       "<i>Table length=320092</i>\n",
       "<table id=\"table140494831368400\" class=\"table-striped table-bordered table-condensed\">\n",
       "<thead><tr><th>help_id</th><th>RA</th><th>Dec</th><th>F_MIPS_24</th><th>FErr_MIPS_24_u</th><th>FErr_MIPS_24_l</th><th>Bkg_MIPS_24</th><th>Sig_conf_MIPS_24</th><th>Rhat_MIPS_24</th><th>n_eff_MIPS_24</th><th>Pval_res_24</th></tr></thead>\n",
       "<thead><tr><th></th><th>degrees</th><th>degrees</th><th>uJy</th><th>uJy</th><th>uJy</th><th>MJy / sr</th><th>MJy / sr</th><th></th><th></th><th></th></tr></thead>\n",
       "<thead><tr><th>str25</th><th>float64</th><th>float64</th><th>float32</th><th>float32</th><th>float32</th><th>float32</th><th>float32</th><th>float32</th><th>float32</th><th>float32</th></tr></thead>\n",
       "<tr><td>HELP_J100019.68+012956.21</td><td>150.08198246138633</td><td>1.4989468814815219</td><td>1.7369019</td><td>4.0648217</td><td>0.45971057</td><td>-0.0073026787</td><td>5.1616803e-06</td><td>0.9998885</td><td>2000.0</td><td>0.0</td></tr>\n",
       "<tr><td>HELP_J100022.32+012956.58</td><td>150.09301971863644</td><td>1.4990489627822126</td><td>0.534336</td><td>1.4047855</td><td>0.13813874</td><td>-0.0073026787</td><td>5.1616803e-06</td><td>1.0008082</td><td>2000.0</td><td>0.0</td></tr>\n",
       "<tr><td>HELP_J100020.61+012956.18</td><td>150.0858593774897</td><td>1.498937737564352</td><td>0.42040396</td><td>1.0317029</td><td>0.11496559</td><td>-0.0073026787</td><td>5.1616803e-06</td><td>0.9993968</td><td>2000.0</td><td>0.0</td></tr>\n",
       "<tr><td>HELP_J100019.96+012958.61</td><td>150.08314728761647</td><td>1.4996138585251841</td><td>0.81501496</td><td>2.1149762</td><td>0.22654483</td><td>-0.0073026787</td><td>5.1616803e-06</td><td>0.99840444</td><td>2000.0</td><td>0.0</td></tr>\n",
       "<tr><td>HELP_J100024.06+012959.33</td><td>150.10025123058278</td><td>1.4998144435963177</td><td>1.5809047</td><td>3.9761553</td><td>0.41531694</td><td>-0.0073026787</td><td>5.1616803e-06</td><td>0.9988023</td><td>2000.0</td><td>1.0</td></tr>\n",
       "<tr><td>HELP_J100023.65+013001.20</td><td>150.09852850532508</td><td>1.5003328816318249</td><td>0.8597981</td><td>2.1717572</td><td>0.25181934</td><td>-0.0073026787</td><td>5.1616803e-06</td><td>0.99857545</td><td>2000.0</td><td>0.0</td></tr>\n",
       "<tr><td>HELP_J100021.22+012958.28</td><td>150.08841156572743</td><td>1.4995229715980405</td><td>1.8914821</td><td>4.1563582</td><td>0.5219331</td><td>-0.0073026787</td><td>5.1616803e-06</td><td>0.99866873</td><td>2000.0</td><td>0.0</td></tr>\n",
       "<tr><td>HELP_J100022.87+013002.79</td><td>150.09530976030405</td><td>1.500773689476644</td><td>0.60483384</td><td>1.5343629</td><td>0.14979702</td><td>-0.0073026787</td><td>5.1616803e-06</td><td>0.99842775</td><td>2000.0</td><td>0.0</td></tr>\n",
       "<tr><td>HELP_J100024.58+013004.76</td><td>150.10242526549754</td><td>1.501321992640335</td><td>7.5935764</td><td>12.547622</td><td>3.1375694</td><td>-0.0073026787</td><td>5.1616803e-06</td><td>1.0018497</td><td>1283.0</td><td>1.0</td></tr>\n",
       "<tr><td>...</td><td>...</td><td>...</td><td>...</td><td>...</td><td>...</td><td>...</td><td>...</td><td>...</td><td>...</td><td>...</td></tr>\n",
       "<tr><td>HELP_J095803.09+025437.07</td><td>149.5128566527872</td><td>2.910297627516596</td><td>2.2827168</td><td>5.470954</td><td>0.5936968</td><td>-0.0075327684</td><td>4.9686623e-06</td><td>0.9996874</td><td>2000.0</td><td>1.0</td></tr>\n",
       "<tr><td>HELP_J095803.58+025445.08</td><td>149.51491565722205</td><td>2.912523251178334</td><td>96.21681</td><td>103.9681</td><td>88.69481</td><td>-0.0075327684</td><td>4.9686623e-06</td><td>0.9985982</td><td>2000.0</td><td>1.0</td></tr>\n",
       "<tr><td>HELP_J095808.52+025441.99</td><td>149.5355143044917</td><td>2.9116643895890824</td><td>5.7771354</td><td>11.776819</td><td>1.7227762</td><td>-0.0075327684</td><td>4.9686623e-06</td><td>0.9995946</td><td>2000.0</td><td>0.0</td></tr>\n",
       "<tr><td>HELP_J095802.84+025444.78</td><td>149.51183091273603</td><td>2.912439294141072</td><td>137.80504</td><td>145.34134</td><td>130.19098</td><td>-0.0075327684</td><td>4.9686623e-06</td><td>0.9991807</td><td>2000.0</td><td>1.0</td></tr>\n",
       "<tr><td>HELP_J095805.07+025443.36</td><td>149.5211405578248</td><td>2.912044122387757</td><td>824.0586</td><td>830.52264</td><td>817.68524</td><td>-0.0075327684</td><td>4.9686623e-06</td><td>1.0005759</td><td>2000.0</td><td>0.1095</td></tr>\n",
       "<tr><td>HELP_J095821.43+025442.95</td><td>149.58928085203908</td><td>2.911931579466397</td><td>0.91105646</td><td>2.3610349</td><td>0.2535014</td><td>0.003429758</td><td>5.0791523e-06</td><td>0.9986443</td><td>2000.0</td><td>0.0015</td></tr>\n",
       "<tr><td>HELP_J095821.47+025441.74</td><td>149.58947776195166</td><td>2.911595293800888</td><td>1.1020719</td><td>2.9297106</td><td>0.25209245</td><td>0.003429758</td><td>5.0791523e-06</td><td>1.0000694</td><td>2000.0</td><td>0.0005</td></tr>\n",
       "<tr><td>HELP_J095821.61+025444.35</td><td>149.59003864637364</td><td>2.912320112239567</td><td>41.349422</td><td>46.93231</td><td>36.056145</td><td>0.003429758</td><td>5.0791523e-06</td><td>1.0020957</td><td>2000.0</td><td>0.005</td></tr>\n",
       "<tr><td>HELP_J095842.69+025441.17</td><td>149.67788546345267</td><td>2.9114354737459496</td><td>0.9522427</td><td>2.461616</td><td>0.24543993</td><td>-0.001948536</td><td>5.074883e-06</td><td>0.99844134</td><td>2000.0</td><td>1.0</td></tr>\n",
       "<tr><td>HELP_J095842.35+025444.76</td><td>149.6764623163377</td><td>2.9124342584968823</td><td>395.98605</td><td>401.17053</td><td>390.78568</td><td>-0.001948536</td><td>5.074883e-06</td><td>0.99986076</td><td>2000.0</td><td>1.0</td></tr>\n",
       "</table>"
      ],
      "text/plain": [
       "<Table length=320092>\n",
       "         help_id                  RA         ... n_eff_MIPS_24 Pval_res_24\n",
       "                               degrees       ...                          \n",
       "          str25                float64       ...    float32      float32  \n",
       "------------------------- ------------------ ... ------------- -----------\n",
       "HELP_J100019.68+012956.21 150.08198246138633 ...        2000.0         0.0\n",
       "HELP_J100022.32+012956.58 150.09301971863644 ...        2000.0         0.0\n",
       "HELP_J100020.61+012956.18  150.0858593774897 ...        2000.0         0.0\n",
       "HELP_J100019.96+012958.61 150.08314728761647 ...        2000.0         0.0\n",
       "HELP_J100024.06+012959.33 150.10025123058278 ...        2000.0         1.0\n",
       "HELP_J100023.65+013001.20 150.09852850532508 ...        2000.0         0.0\n",
       "HELP_J100021.22+012958.28 150.08841156572743 ...        2000.0         0.0\n",
       "HELP_J100022.87+013002.79 150.09530976030405 ...        2000.0         0.0\n",
       "HELP_J100024.58+013004.76 150.10242526549754 ...        1283.0         1.0\n",
       "                      ...                ... ...           ...         ...\n",
       "HELP_J095803.09+025437.07  149.5128566527872 ...        2000.0         1.0\n",
       "HELP_J095803.58+025445.08 149.51491565722205 ...        2000.0         1.0\n",
       "HELP_J095808.52+025441.99  149.5355143044917 ...        2000.0         0.0\n",
       "HELP_J095802.84+025444.78 149.51183091273603 ...        2000.0         1.0\n",
       "HELP_J095805.07+025443.36  149.5211405578248 ...        2000.0      0.1095\n",
       "HELP_J095821.43+025442.95 149.58928085203908 ...        2000.0      0.0015\n",
       "HELP_J095821.47+025441.74 149.58947776195166 ...        2000.0      0.0005\n",
       "HELP_J095821.61+025444.35 149.59003864637364 ...        2000.0       0.005\n",
       "HELP_J095842.69+025441.17 149.67788546345267 ...        2000.0         1.0\n",
       "HELP_J095842.35+025444.76  149.6764623163377 ...        2000.0         1.0"
      ]
     },
     "execution_count": 7,
     "metadata": {},
     "output_type": "execute_result"
    }
   ],
   "source": [
    "old_cat"
   ]
  },
  {
   "cell_type": "code",
   "execution_count": 8,
   "id": "8ceb2fbc",
   "metadata": {},
   "outputs": [],
   "source": [
    "from astropy.coordinates import SkyCoord\n",
    "from astropy import units as u\n",
    "c = SkyCoord(ra=old_cat['RA'].data*u.degree, dec=old_cat['Dec'].data*u.degree)\n",
    "catalog = SkyCoord(ra=new_cat['RA'].data*u.degree,dec=new_cat['Dec'].data*u.degree)\n",
    "idx, d2d, d3d = c.match_to_catalog_sky(catalog)"
   ]
  },
  {
   "cell_type": "code",
   "execution_count": 9,
   "id": "6c8d7a73",
   "metadata": {},
   "outputs": [],
   "source": [
    "max_sep=1.0*u.arcsec\n",
    "sep_constraint = d2d < max_sep"
   ]
  },
  {
   "cell_type": "code",
   "execution_count": 10,
   "id": "85d212d7",
   "metadata": {},
   "outputs": [],
   "source": [
    "c_matches = c[sep_constraint]\n",
    "catalog_matches = catalog[idx[sep_constraint]]"
   ]
  },
  {
   "cell_type": "code",
   "execution_count": 11,
   "id": "65f51f00",
   "metadata": {},
   "outputs": [
    {
     "data": {
      "text/plain": [
       "[<matplotlib.lines.Line2D at 0x7fc7819e5860>]"
      ]
     },
     "execution_count": 11,
     "metadata": {},
     "output_type": "execute_result"
    },
    {
     "data": {
      "image/png": "[encoded data removed]",
      "text/plain": [
       "<Figure size 432x432 with 3 Axes>"
      ]
     },
     "metadata": {
      "needs_background": "light"
     },
     "output_type": "display_data"
    }
   ],
   "source": [
    "g=sns.jointplot(x=np.log10(old_cat[sep_constraint]['F_MIPS_24']),y=np.log10(new_cat[idx[sep_constraint]]['F_MIPS_24']),kind='hex')\n",
    "g.ax_joint.plot(np.arange(-1,4),np.arange(-1,4),'r')"
   ]
  },
  {
   "cell_type": "code",
   "execution_count": 80,
   "id": "2ee82089",
   "metadata": {},
   "outputs": [],
   "source": [
    "image_moc=pymoc.MOC()\n",
    "image_moc.read('wp4_cosmos_mips24_map_v1.0-1-_MOC.fits')"
   ]
  },
  {
   "cell_type": "code",
   "execution_count": 85,
   "id": "78921868",
   "metadata": {},
   "outputs": [],
   "source": [
    "from xidplus.moc_routines import check_in_moc"
   ]
  },
  {
   "cell_type": "code",
   "execution_count": 87,
   "id": "7b346e25",
   "metadata": {},
   "outputs": [],
   "source": [
    "ind_moc=check_in_moc(new_cat['RA'],new_cat['Dec'],image_moc)"
   ]
  },
  {
   "cell_type": "code",
   "execution_count": 89,
   "id": "45d5a76e",
   "metadata": {},
   "outputs": [],
   "source": [
    "from astropy.table import Column\n",
    "new_cat.add_column(Column(np.zeros(len(new_cat), dtype=bool),name='flag_mips_24'))"
   ]
  },
  {
   "cell_type": "code",
   "execution_count": 90,
   "id": "046a43f0",
   "metadata": {},
   "outputs": [],
   "source": [
    "ind_cat=(new_cat['Pval_res_24']>0.5) | (new_cat['F_MIPS_24'] < 10.0)"
   ]
  },
  {
   "cell_type": "code",
   "execution_count": 91,
   "id": "ac66e30c",
   "metadata": {},
   "outputs": [],
   "source": [
    "new_cat['flag_mips_24'][ind_cat]=True\n"
   ]
  },
  {
   "cell_type": "code",
   "execution_count": 92,
   "id": "adbd187e",
   "metadata": {},
   "outputs": [
    {
     "name": "stderr",
     "output_type": "stream",
     "text": [
      "WARNING: UnitsWarning: 'degrees' did not parse as fits unit: At col 0, Unit 'degrees' not supported by the FITS standard.  If this is meant to be a custom unit, define it with 'u.def_unit'. To have it recognized inside a file reader or other code, enable it with 'u.add_enabled_units'. For details, see https://docs.astropy.org/en/latest/units/combining_and_defining.html [astropy.units.core]\n",
      "WARNING: UnitsWarning: 'muJy' did not parse as fits unit: At col 0, Unit 'muJy' not supported by the FITS standard. Did you mean MJy, mJy or uJy? If this is meant to be a custom unit, define it with 'u.def_unit'. To have it recognized inside a file reader or other code, enable it with 'u.add_enabled_units'. For details, see https://docs.astropy.org/en/latest/units/combining_and_defining.html [astropy.units.core]\n"
     ]
    }
   ],
   "source": [
    "new_cat[ind_moc].write('./data/dmu26_XID+MIPS_COSMOS_20210716.fits', format='fits',overwrite=True)\n"
   ]
  },
  {
   "cell_type": "code",
   "execution_count": 96,
   "id": "7a230096",
   "metadata": {},
   "outputs": [
    {
     "data": {
      "text/plain": [
       "0.6362998769934612"
      ]
     },
     "execution_count": 96,
     "metadata": {},
     "output_type": "execute_result"
    }
   ],
   "source": [
    "\n",
    "ind_cat.sum()/len(ind_cat)"
   ]
  },
  {
   "cell_type": "code",
   "execution_count": null,
   "id": "877fbe72",
   "metadata": {},
   "outputs": [],
   "source": []
  }
 ],
 "metadata": {
  "kernelspec": {
   "display_name": "Python 3",
   "language": "python",
   "name": "python3"
  },
  "language_info": {
   "codemirror_mode": {
    "name": "ipython",
    "version": 3
   },
   "file_extension": ".py",
   "mimetype": "text/x-python",
   "name": "python",
   "nbconvert_exporter": "python",
   "pygments_lexer": "ipython3",
   "version": "3.6.13"
  }
 },
 "nbformat": 4,
 "nbformat_minor": 5
}
