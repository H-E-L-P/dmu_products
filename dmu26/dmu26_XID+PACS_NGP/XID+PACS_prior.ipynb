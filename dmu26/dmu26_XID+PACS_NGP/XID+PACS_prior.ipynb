{
 "cells": [
  {
   "cell_type": "markdown",
   "metadata": {},
   "source": [
    "# XID+PACS NGP Prior"
   ]
  },
  {
   "cell_type": "code",
   "execution_count": 1,
   "metadata": {
    "collapsed": true
   },
   "outputs": [
    {
     "name": "stderr",
     "output_type": "stream",
     "text": [
      "/home/mc741/anaconda3/lib/python3.6/site-packages/mpl_toolkits/axes_grid/__init__.py:12: MatplotlibDeprecationWarning: \n",
      "The mpl_toolkits.axes_grid module was deprecated in Matplotlib 2.1 and will be removed two minor releases later. Use mpl_toolkits.axes_grid1 and mpl_toolkits.axisartist, which provide the same functionality instead.\n",
      "  obj_type='module')\n"
     ]
    }
   ],
   "source": [
    "import pylab\n",
    "import pymoc\n",
    "import xidplus\n",
    "import numpy as np\n",
    "%matplotlib inline\n",
    "from astropy.table import Table , join\n",
    "from mocpy import MOC\n",
    "from astropy.io import fits\n",
    "from astropy import wcs"
   ]
  },
  {
   "cell_type": "code",
   "execution_count": 2,
   "metadata": {
    "collapsed": true
   },
   "outputs": [],
   "source": [
    "import seaborn as sns"
   ]
  },
  {
   "cell_type": "markdown",
   "metadata": {},
   "source": [
    "This notebook uses all the raw data from the XID+PACS catalogue, maps, PSF and relevant MOCs to create XID+ prior object and relevant tiling scheme"
   ]
  },
  {
   "cell_type": "markdown",
   "metadata": {},
   "source": [
    "## Read in MOCs\n",
    "The selection functions required are the main MOC associated with the masterlist. As the prior for XID+ is based on IRAC detected sources."
   ]
  },
  {
   "cell_type": "code",
   "execution_count": 11,
   "metadata": {
    "collapsed": true
   },
   "outputs": [
    {
     "ename": "MemoryError",
     "evalue": "",
     "output_type": "error",
     "traceback": [
      "\u001b[0;31m---------------------------------------------------------------------------\u001b[0m",
      "\u001b[0;31mMemoryError\u001b[0m                               Traceback (most recent call last)",
      "\u001b[0;32m<ipython-input-11-52dfc779cecf>\u001b[0m in \u001b[0;36m<module>\u001b[0;34m\u001b[0m\n\u001b[1;32m      5\u001b[0m \u001b[0mhdulist\u001b[0m \u001b[0;34m=\u001b[0m \u001b[0mfits\u001b[0m\u001b[0;34m.\u001b[0m\u001b[0mopen\u001b[0m\u001b[0;34m(\u001b[0m\u001b[0mfilename\u001b[0m\u001b[0;34m)\u001b[0m\u001b[0;34m\u001b[0m\u001b[0;34m\u001b[0m\u001b[0m\n\u001b[1;32m      6\u001b[0m \u001b[0mim100phdu\u001b[0m\u001b[0;34m=\u001b[0m\u001b[0mhdulist\u001b[0m\u001b[0;34m[\u001b[0m\u001b[0;34m'IMAGE'\u001b[0m\u001b[0;34m]\u001b[0m\u001b[0;34m.\u001b[0m\u001b[0mheader\u001b[0m\u001b[0;34m\u001b[0m\u001b[0;34m\u001b[0m\u001b[0m\n\u001b[0;32m----> 7\u001b[0;31m \u001b[0mngp_moc\u001b[0m\u001b[0;34m=\u001b[0m\u001b[0mMOC\u001b[0m\u001b[0;34m.\u001b[0m\u001b[0mfrom_image\u001b[0m\u001b[0;34m(\u001b[0m\u001b[0mim100phdu\u001b[0m\u001b[0;34m,\u001b[0m\u001b[0;36m13\u001b[0m\u001b[0;34m,\u001b[0m \u001b[0;34m~\u001b[0m\u001b[0mnp\u001b[0m\u001b[0;34m.\u001b[0m\u001b[0misnan\u001b[0m\u001b[0;34m(\u001b[0m\u001b[0mhdulist\u001b[0m\u001b[0;34m[\u001b[0m\u001b[0;34m'IMAGE'\u001b[0m\u001b[0;34m]\u001b[0m\u001b[0;34m.\u001b[0m\u001b[0mdata\u001b[0m\u001b[0;34m)\u001b[0m\u001b[0;34m)\u001b[0m\u001b[0;34m\u001b[0m\u001b[0;34m\u001b[0m\u001b[0m\n\u001b[0m\u001b[1;32m      8\u001b[0m \u001b[0mngp_moc\u001b[0m\u001b[0;34m.\u001b[0m\u001b[0mwrite\u001b[0m\u001b[0;34m(\u001b[0m\u001b[0;34m'./data/ngp_moc.fits'\u001b[0m\u001b[0;34m)\u001b[0m\u001b[0;34m\u001b[0m\u001b[0;34m\u001b[0m\u001b[0m\n\u001b[1;32m      9\u001b[0m \u001b[0;34m\u001b[0m\u001b[0m\n",
      "\u001b[0;32m~/anaconda3/lib/python3.6/site-packages/mocpy/moc/moc.py\u001b[0m in \u001b[0;36mfrom_image\u001b[0;34m(cls, header, max_norder, mask)\u001b[0m\n\u001b[1;32m    326\u001b[0m             \u001b[0;31m# We have an array of pixels that are part of of survey\u001b[0m\u001b[0;34m\u001b[0m\u001b[0;34m\u001b[0m\u001b[0;34m\u001b[0m\u001b[0m\n\u001b[1;32m    327\u001b[0m             \u001b[0my\u001b[0m\u001b[0;34m,\u001b[0m \u001b[0mx\u001b[0m \u001b[0;34m=\u001b[0m \u001b[0mnp\u001b[0m\u001b[0;34m.\u001b[0m\u001b[0mwhere\u001b[0m\u001b[0;34m(\u001b[0m\u001b[0mmask\u001b[0m\u001b[0;34m)\u001b[0m\u001b[0;34m\u001b[0m\u001b[0;34m\u001b[0m\u001b[0m\n\u001b[0;32m--> 328\u001b[0;31m             \u001b[0mpix_crd\u001b[0m \u001b[0;34m=\u001b[0m \u001b[0mnp\u001b[0m\u001b[0;34m.\u001b[0m\u001b[0mdstack\u001b[0m\u001b[0;34m(\u001b[0m\u001b[0;34m(\u001b[0m\u001b[0mx\u001b[0m\u001b[0;34m,\u001b[0m \u001b[0my\u001b[0m\u001b[0;34m)\u001b[0m\u001b[0;34m)\u001b[0m\u001b[0;34m[\u001b[0m\u001b[0;36m0\u001b[0m\u001b[0;34m]\u001b[0m\u001b[0;34m\u001b[0m\u001b[0;34m\u001b[0m\u001b[0m\n\u001b[0m\u001b[1;32m    329\u001b[0m         \u001b[0;32melse\u001b[0m\u001b[0;34m:\u001b[0m\u001b[0;34m\u001b[0m\u001b[0;34m\u001b[0m\u001b[0m\n\u001b[1;32m    330\u001b[0m             \u001b[0;31m# If we do not have a mask array we create the moc of all the image\u001b[0m\u001b[0;34m\u001b[0m\u001b[0;34m\u001b[0m\u001b[0;34m\u001b[0m\u001b[0m\n",
      "\u001b[0;32m~/anaconda3/lib/python3.6/site-packages/numpy/lib/shape_base.py\u001b[0m in \u001b[0;36mdstack\u001b[0;34m(tup)\u001b[0m\n\u001b[1;32m    644\u001b[0m \u001b[0;34m\u001b[0m\u001b[0m\n\u001b[1;32m    645\u001b[0m     \"\"\"\n\u001b[0;32m--> 646\u001b[0;31m     \u001b[0;32mreturn\u001b[0m \u001b[0m_nx\u001b[0m\u001b[0;34m.\u001b[0m\u001b[0mconcatenate\u001b[0m\u001b[0;34m(\u001b[0m\u001b[0;34m[\u001b[0m\u001b[0matleast_3d\u001b[0m\u001b[0;34m(\u001b[0m\u001b[0m_m\u001b[0m\u001b[0;34m)\u001b[0m \u001b[0;32mfor\u001b[0m \u001b[0m_m\u001b[0m \u001b[0;32min\u001b[0m \u001b[0mtup\u001b[0m\u001b[0;34m]\u001b[0m\u001b[0;34m,\u001b[0m \u001b[0;36m2\u001b[0m\u001b[0;34m)\u001b[0m\u001b[0;34m\u001b[0m\u001b[0;34m\u001b[0m\u001b[0m\n\u001b[0m\u001b[1;32m    647\u001b[0m \u001b[0;34m\u001b[0m\u001b[0m\n\u001b[1;32m    648\u001b[0m \u001b[0;32mdef\u001b[0m \u001b[0m_replace_zero_by_x_arrays\u001b[0m\u001b[0;34m(\u001b[0m\u001b[0msub_arys\u001b[0m\u001b[0;34m)\u001b[0m\u001b[0;34m:\u001b[0m\u001b[0;34m\u001b[0m\u001b[0;34m\u001b[0m\u001b[0m\n",
      "\u001b[0;31mMemoryError\u001b[0m: "
     ]
    }
   ],
   "source": [
    "#Sel_func=pymoc.MOC()\n",
    "#Sel_func.read('../../dmu4/dmu4_sm_NGP/data/holes_NGP_ukidss_k_O16_20190204_MOC.fits')\n",
    "\n",
    "#filename='../../dmu18/dmu18_HELP-PACS-maps/data/NGP_PACS100_v0.9.fits'\n",
    "#hdulist = fits.open(filename)\n",
    "#im100phdu=hdulist['IMAGE'].header\n",
    "#ngp_moc=MOC.from_image(im100phdu,13, ~np.isnan(hdulist['IMAGE'].data))\n",
    "#ngp_moc.write('./data/ngp_moc.fits')\n",
    "\n",
    "\n",
    "\n",
    "#im_moc=pymoc.MOC()\n",
    "#im_moc.read('./data/ngp_moc.fits')\n",
    "\n",
    "#Final=Sel_func.intersection(im_moc)"
   ]
  },
  {
   "cell_type": "code",
   "execution_count": null,
   "metadata": {},
   "outputs": [],
   "source": [
    "#Final.write('./data/testMoc.fits', overwrite=True)\n",
    "#Final=pymoc.MOC()\n",
    "#Final.read('./data/testMoc.fits')"
   ]
  },
  {
   "cell_type": "code",
   "execution_count": 3,
   "metadata": {},
   "outputs": [],
   "source": [
    "Sel_func=pymoc.MOC()\n",
    "Sel_func.read('../../dmu4/dmu4_sm_NGP/data/holes_NGP_ukidss_k_O16_20190204_MOC.fits')\n"
   ]
  },
  {
   "cell_type": "markdown",
   "metadata": {},
   "source": [
    "## Read in CIGALE predictions catalogue"
   ]
  },
  {
   "cell_type": "code",
   "execution_count": 4,
   "metadata": {
    "collapsed": true
   },
   "outputs": [],
   "source": [
    "cigale=Table.read('../../dmu28/dmu28_NGP/data/NGP_results_Ldust_prediction.fits')\n"
   ]
  },
  {
   "cell_type": "code",
   "execution_count": 5,
   "metadata": {
    "collapsed": true
   },
   "outputs": [],
   "source": [
    "cigale['id'].name = 'help_id'"
   ]
  },
  {
   "cell_type": "code",
   "execution_count": 6,
   "metadata": {},
   "outputs": [
    {
     "data": {
      "text/html": [
       "<i>Table length=1473955</i>\n",
       "<table id=\"table140674666659624\" class=\"table-striped table-bordered table-condensed\">\n",
       "<thead><tr><th>help_id</th><th>bayes.dust.luminosity</th><th>bayes.dust.luminosity_err</th><th>best.chi_square</th><th>best.reduced_chi_square</th></tr></thead>\n",
       "<thead><tr><th>bytes27</th><th>float64</th><th>float64</th><th>float64</th><th>float64</th></tr></thead>\n",
       "<tr><td>HELP_J124043.436+340454.964</td><td>2.6255726460825376e+38</td><td>2.3341106226548585e+38</td><td>13.6758146750549</td><td>1.9536878107221285</td></tr>\n",
       "<tr><td>HELP_J124044.261+340515.932</td><td>4.454774001790711e+36</td><td>1.1836721760690504e+36</td><td>40.1312554377252</td><td>5.01640692971565</td></tr>\n",
       "<tr><td>HELP_J124044.423+340508.303</td><td>7.425850359374088e+38</td><td>8.50041825482934e+38</td><td>1.997400689108806</td><td>0.3329001148514677</td></tr>\n",
       "<tr><td>HELP_J124047.274+340554.983</td><td>1.4016155289703243e+38</td><td>1.4433711696275098e+38</td><td>36.513319610044825</td><td>5.216188515720689</td></tr>\n",
       "<tr><td>HELP_J124047.353+340507.994</td><td>3.6873140591071903e+37</td><td>2.5681660957952962e+37</td><td>36.02051777349351</td><td>4.502564721686689</td></tr>\n",
       "<tr><td>HELP_J124048.661+340635.189</td><td>2.3995085208439427e+35</td><td>1.1545619603215568e+35</td><td>84.95623366011355</td><td>10.619529207514194</td></tr>\n",
       "<tr><td>HELP_J124049.481+340533.486</td><td>1.03643281738859e+37</td><td>3.722264512058079e+36</td><td>268.4185900808973</td><td>33.55232376011216</td></tr>\n",
       "<tr><td>HELP_J124049.705+340627.843</td><td>8.703772920561137e+36</td><td>7.527415818915938e+36</td><td>179.84914554202115</td><td>25.692735077431593</td></tr>\n",
       "<tr><td>HELP_J124050.462+340830.858</td><td>5.183459585477802e+38</td><td>5.7490736768374256e+38</td><td>7.275370250021841</td><td>1.0393386071459774</td></tr>\n",
       "<tr><td>HELP_J124050.879+340445.811</td><td>5.653579254171697e+39</td><td>3.2226817865027835e+39</td><td>178.69838887213336</td><td>22.33729860901667</td></tr>\n",
       "<tr><td>...</td><td>...</td><td>...</td><td>...</td><td>...</td></tr>\n",
       "<tr><td>HELP_J135159.418+234354.890</td><td>7.461172966310608e+37</td><td>8.326149414968744e+37</td><td>9.752297763874548</td><td>1.2190372204843185</td></tr>\n",
       "<tr><td>HELP_J135159.427+233452.235</td><td>2.176014166381297e+38</td><td>2.9921560143277654e+38</td><td>2.9450782572408913</td><td>0.4908463762068152</td></tr>\n",
       "<tr><td>HELP_J135159.455+233704.417</td><td>7.191836237872661e+38</td><td>9.253222575607047e+38</td><td>14.827187098559502</td><td>1.8533983873199378</td></tr>\n",
       "<tr><td>HELP_J135159.631+233659.037</td><td>1.5629847355631444e+38</td><td>1.944873488930478e+38</td><td>13.952049864196784</td><td>1.9931499805995405</td></tr>\n",
       "<tr><td>HELP_J135159.634+234408.055</td><td>2.1001621135172227e+37</td><td>2.197789962569013e+37</td><td>14.77316623725598</td><td>1.8466457796569975</td></tr>\n",
       "<tr><td>HELP_J135159.652+233129.787</td><td>6.216848794517417e+37</td><td>6.093618868577244e+37</td><td>3.7780351955128224</td><td>0.4722543994391028</td></tr>\n",
       "<tr><td>HELP_J135159.729+233139.022</td><td>7.190633460347819e+37</td><td>7.105843237132505e+37</td><td>6.212953433143757</td><td>0.7766191791429696</td></tr>\n",
       "<tr><td>HELP_J135159.854+233206.672</td><td>3.053461116040867e+38</td><td>3.462232577245399e+38</td><td>3.5594572690851827</td><td>0.44493215863564783</td></tr>\n",
       "<tr><td>HELP_J135159.896+233644.734</td><td>5.153674999945474e+37</td><td>5.243524093406064e+37</td><td>12.683045162367128</td><td>1.585380645295891</td></tr>\n",
       "<tr><td>HELP_J135159.920+233945.349</td><td>1.4586030615052245e+38</td><td>1.5263739794240154e+38</td><td>12.885754955320973</td><td>1.6107193694151216</td></tr>\n",
       "</table>"
      ],
      "text/plain": [
       "<Table length=1473955>\n",
       "          help_id           bayes.dust.luminosity  ... best.reduced_chi_square\n",
       "          bytes27                  float64         ...         float64        \n",
       "--------------------------- ---------------------- ... -----------------------\n",
       "HELP_J124043.436+340454.964 2.6255726460825376e+38 ...      1.9536878107221285\n",
       "HELP_J124044.261+340515.932  4.454774001790711e+36 ...        5.01640692971565\n",
       "HELP_J124044.423+340508.303  7.425850359374088e+38 ...      0.3329001148514677\n",
       "HELP_J124047.274+340554.983 1.4016155289703243e+38 ...       5.216188515720689\n",
       "HELP_J124047.353+340507.994 3.6873140591071903e+37 ...       4.502564721686689\n",
       "HELP_J124048.661+340635.189 2.3995085208439427e+35 ...      10.619529207514194\n",
       "HELP_J124049.481+340533.486   1.03643281738859e+37 ...       33.55232376011216\n",
       "HELP_J124049.705+340627.843  8.703772920561137e+36 ...      25.692735077431593\n",
       "HELP_J124050.462+340830.858  5.183459585477802e+38 ...      1.0393386071459774\n",
       "HELP_J124050.879+340445.811  5.653579254171697e+39 ...       22.33729860901667\n",
       "                        ...                    ... ...                     ...\n",
       "HELP_J135159.418+234354.890  7.461172966310608e+37 ...      1.2190372204843185\n",
       "HELP_J135159.427+233452.235  2.176014166381297e+38 ...      0.4908463762068152\n",
       "HELP_J135159.455+233704.417  7.191836237872661e+38 ...      1.8533983873199378\n",
       "HELP_J135159.631+233659.037 1.5629847355631444e+38 ...      1.9931499805995405\n",
       "HELP_J135159.634+234408.055 2.1001621135172227e+37 ...      1.8466457796569975\n",
       "HELP_J135159.652+233129.787  6.216848794517417e+37 ...      0.4722543994391028\n",
       "HELP_J135159.729+233139.022  7.190633460347819e+37 ...      0.7766191791429696\n",
       "HELP_J135159.854+233206.672  3.053461116040867e+38 ...     0.44493215863564783\n",
       "HELP_J135159.896+233644.734  5.153674999945474e+37 ...       1.585380645295891\n",
       "HELP_J135159.920+233945.349 1.4586030615052245e+38 ...      1.6107193694151216"
      ]
     },
     "execution_count": 6,
     "metadata": {},
     "output_type": "execute_result"
    }
   ],
   "source": [
    "cigale"
   ]
  },
  {
   "cell_type": "markdown",
   "metadata": {},
   "source": [
    "## Read in photoz"
   ]
  },
  {
   "cell_type": "code",
   "execution_count": 7,
   "metadata": {},
   "outputs": [],
   "source": [
    "photoz=Table.read('../../dmu24/dmu24_NGP/data/master_catalogue_ngp_20180501_photoz_20180601_r_optimised.fits')"
   ]
  },
  {
   "cell_type": "code",
   "execution_count": 8,
   "metadata": {},
   "outputs": [
    {
     "data": {
      "text/html": [
       "<i>Table length=3175339</i>\n",
       "<table id=\"table140674452041568\" class=\"table-striped table-bordered table-condensed\">\n",
       "<thead><tr><th>help_id</th><th>RA</th><th>DEC</th><th>id</th><th>z1_median</th><th>z1_min</th><th>z1_max</th><th>z1_area</th><th>z2_median</th><th>z2_min</th><th>z2_max</th><th>z2_area</th><th>za_hb</th><th>chi_r_eazy</th><th>chi_r_atlas</th><th>chi_r_cosmos</th><th>chi_r_stellar</th><th>stellar_type</th></tr></thead>\n",
       "<thead><tr><th>bytes27</th><th>float64</th><th>float64</th><th>int64</th><th>float64</th><th>float64</th><th>float64</th><th>float64</th><th>float64</th><th>float64</th><th>float64</th><th>float64</th><th>float64</th><th>float64</th><th>float64</th><th>float64</th><th>float64</th><th>bytes6</th></tr></thead>\n",
       "<tr><td>HELP_J131410.500+302813.489</td><td>198.54375042943158</td><td>30.47041372674147</td><td>2020994</td><td>0.1631</td><td>0.1017</td><td>0.2345</td><td>0.784</td><td>-99.0</td><td>-99.0</td><td>-99.0</td><td>-99.0</td><td>0.15233281491278122</td><td>0.162043</td><td>0.4889565</td><td>0.74402625</td><td>0.10714735</td><td>rg5iii</td></tr>\n",
       "<tr><td>HELP_J133855.810+281107.598</td><td>204.73254078095655</td><td>28.18544379782179</td><td>2020995</td><td>0.7177</td><td>0.2645</td><td>1.1746</td><td>0.798</td><td>-99.0</td><td>-99.0</td><td>-99.0</td><td>-99.0</td><td>0.7266483072093366</td><td>0.096690075</td><td>0.40835875</td><td>0.058110825</td><td>1.23097825</td><td>m0iii</td></tr>\n",
       "<tr><td>HELP_J130324.552+285933.902</td><td>195.85230149733783</td><td>28.99275044788535</td><td>2020996</td><td>0.5396</td><td>0.1697</td><td>0.9004</td><td>0.796</td><td>-99.0</td><td>-99.0</td><td>-99.0</td><td>-99.0</td><td>0.5782503582578263</td><td>0.012402935</td><td>0.0416054</td><td>0.61970925</td><td>0.6092085</td><td>g5ii</td></tr>\n",
       "<tr><td>HELP_J125051.674+284236.699</td><td>192.71530874422427</td><td>28.710194027938023</td><td>2020997</td><td>0.6721</td><td>0.3466</td><td>1.0359</td><td>0.786</td><td>1.0625</td><td>1.0543</td><td>1.0728</td><td>0.005</td><td>0.6165284812310255</td><td>0.25206375</td><td>0.2741105</td><td>0.2977545</td><td>1.9183805</td><td>m3v</td></tr>\n",
       "<tr><td>HELP_J133040.559+290320.044</td><td>202.66899411411032</td><td>29.055567760898036</td><td>2020998</td><td>0.622</td><td>0.2721</td><td>0.9996</td><td>0.753</td><td>0.217</td><td>0.1803</td><td>0.2532</td><td>0.044</td><td>0.606872782679902</td><td>0.0116719175</td><td>0.03691225</td><td>0.1725548</td><td>0.57439175</td><td>rf8v</td></tr>\n",
       "<tr><td>HELP_J125342.104+271050.555</td><td>193.42543477062267</td><td>27.18070960590991</td><td>2020999</td><td>0.6738</td><td>0.2457</td><td>1.1167</td><td>0.795</td><td>-99.0</td><td>-99.0</td><td>-99.0</td><td>-99.0</td><td>0.8387533654647497</td><td>0.041452575</td><td>0.0949765</td><td>0.071398625</td><td>3.30642</td><td>m2p5v</td></tr>\n",
       "<tr><td>HELP_J130655.638+304710.237</td><td>196.7318269709398</td><td>30.78617683330146</td><td>2021000</td><td>0.4578</td><td>0.115</td><td>0.8609</td><td>0.797</td><td>-99.0</td><td>-99.0</td><td>-99.0</td><td>-99.0</td><td>0.37509586981766757</td><td>1.94464675</td><td>4.1566</td><td>3.7360075</td><td>5.64026</td><td>a3iii</td></tr>\n",
       "<tr><td>HELP_J132321.501+264200.206</td><td>200.83958711978946</td><td>26.700057193650885</td><td>2021001</td><td>0.191</td><td>0.1352</td><td>0.2419</td><td>0.789</td><td>-99.0</td><td>-99.0</td><td>-99.0</td><td>-99.0</td><td>0.19093536712258813</td><td>0.330772</td><td>0.031593175</td><td>0.011386015</td><td>0.71356825</td><td>rk4iii</td></tr>\n",
       "<tr><td>HELP_J130554.319+305415.277</td><td>196.4763310378609</td><td>30.904243743657744</td><td>2021002</td><td>0.4068</td><td>0.1697</td><td>0.6458</td><td>0.799</td><td>-99.0</td><td>-99.0</td><td>-99.0</td><td>-99.0</td><td>0.38335882089940193</td><td>0.59804725</td><td>0.215782625</td><td>0.4299075</td><td>0.5903925</td><td>rk3iii</td></tr>\n",
       "<tr><td>HELP_J133509.654+295231.029</td><td>203.79022411876866</td><td>29.875285928172218</td><td>2021003</td><td>0.6878</td><td>0.2645</td><td>1.1167</td><td>0.795</td><td>-99.0</td><td>-99.0</td><td>-99.0</td><td>-99.0</td><td>0.8498024344378273</td><td>0.00037110575</td><td>0.0084950725</td><td>0.0054490625</td><td>1.97335075</td><td>m2p5v</td></tr>\n",
       "<tr><td>...</td><td>...</td><td>...</td><td>...</td><td>...</td><td>...</td><td>...</td><td>...</td><td>...</td><td>...</td><td>...</td><td>...</td><td>...</td><td>...</td><td>...</td><td>...</td><td>...</td><td>...</td></tr>\n",
       "<tr><td>HELP_J134135.307+344421.576</td><td>205.3971133074335</td><td>34.7393265997969</td><td>6081856</td><td>0.6246</td><td>0.1454</td><td>1.1295</td><td>0.797</td><td>-99.0</td><td>-99.0</td><td>-99.0</td><td>-99.0</td><td>0.5972747586551431</td><td>-99.0</td><td>-99.0</td><td>-99.0</td><td>-99.0</td><td></td></tr>\n",
       "<tr><td>HELP_J124858.080+341216.830</td><td>192.2420010874335</td><td>34.2046748997969</td><td>6081857</td><td>0.7911</td><td>0.2721</td><td>1.3367</td><td>0.799</td><td>-99.0</td><td>-99.0</td><td>-99.0</td><td>-99.0</td><td>0.7632358947773135</td><td>0.0131332775</td><td>0.000813626</td><td>0.0046128825</td><td>0.155416775</td><td>m5v</td></tr>\n",
       "<tr><td>HELP_J134424.709+335630.506</td><td>206.10295449743347</td><td>33.9418071297969</td><td>6081858</td><td>0.4668</td><td>0.125</td><td>0.8223</td><td>0.798</td><td>-99.0</td><td>-99.0</td><td>-99.0</td><td>-99.0</td><td>0.4512751936257148</td><td>-99.0</td><td>-99.0</td><td>-99.0</td><td>-99.0</td><td></td></tr>\n",
       "<tr><td>HELP_J133709.162+345604.772</td><td>204.28817473743348</td><td>34.9346589397969</td><td>6081859</td><td>0.5455</td><td>0.1838</td><td>0.9523</td><td>0.798</td><td>-99.0</td><td>-99.0</td><td>-99.0</td><td>-99.0</td><td>0.4084467818129748</td><td>0.34569975</td><td>1.33296925</td><td>0.81952125</td><td>2.979185</td><td>f5iii</td></tr>\n",
       "<tr><td>HELP_J134920.644+332452.682</td><td>207.3360167874335</td><td>33.4146339197969</td><td>6081860</td><td>0.7343</td><td>0.3875</td><td>1.079</td><td>0.798</td><td>-99.0</td><td>-99.0</td><td>-99.0</td><td>-99.0</td><td>0.7579620087510602</td><td>0.10483351428571429</td><td>0.13722192857142856</td><td>0.23014</td><td>3.830704285714286</td><td>m3ii</td></tr>\n",
       "<tr><td>HELP_J125306.685+333113.670</td><td>193.2778540874335</td><td>33.5204639597969</td><td>6081862</td><td>0.6199</td><td>0.2125</td><td>1.0481</td><td>0.798</td><td>-99.0</td><td>-99.0</td><td>-99.0</td><td>-99.0</td><td>0.517972022837197</td><td>0.000487424</td><td>0.019583675</td><td>0.071689425</td><td>1.0567145</td><td>m1v</td></tr>\n",
       "<tr><td>HELP_J124548.943+313103.543</td><td>191.45392821032934</td><td>31.5176509039592</td><td>6081863</td><td>0.5218</td><td>0.2569</td><td>0.7952</td><td>0.793</td><td>-99.0</td><td>-99.0</td><td>-99.0</td><td>-99.0</td><td>0.5362698216644108</td><td>0.48726766666666665</td><td>0.14310031666666667</td><td>0.13941498333333333</td><td>3.8422983333333334</td><td>m2i</td></tr>\n",
       "<tr><td>HELP_J125400.987+335609.752</td><td>193.50411202743348</td><td>33.9360422697969</td><td>6081868</td><td>-99.0</td><td>-99.0</td><td>-99.0</td><td>-99.0</td><td>-99.0</td><td>-99.0</td><td>-99.0</td><td>-99.0</td><td>0.0628029174171393</td><td>-99.0</td><td>-99.0</td><td>-99.0</td><td>-99.0</td><td></td></tr>\n",
       "<tr><td>HELP_J132505.187+340052.360</td><td>201.271613098188</td><td>34.01454455049162</td><td>6081875</td><td>0.4392</td><td>0.1558</td><td>0.7422</td><td>0.66</td><td>0.8877</td><td>0.8333</td><td>0.964</td><td>0.131</td><td>0.4126721221584137</td><td>0.19716165</td><td>2.18888425</td><td>2.3407385</td><td>11.774875</td><td>k0iv</td></tr>\n",
       "<tr><td>HELP_J124622.195+335623.136</td><td>191.5924800774335</td><td>33.9397599497969</td><td>6081877</td><td>0.1264</td><td>0.0222</td><td>0.2017</td><td>0.797</td><td>-99.0</td><td>-99.0</td><td>-99.0</td><td>-99.0</td><td>0.12168143590239443</td><td>6.49939</td><td>16.357805</td><td>22.56374</td><td>27.0209</td><td>f0v</td></tr>\n",
       "</table>"
      ],
      "text/plain": [
       "<Table length=3175339>\n",
       "          help_id                   RA         ... stellar_type\n",
       "          bytes27                float64       ...    bytes6   \n",
       "--------------------------- ------------------ ... ------------\n",
       "HELP_J131410.500+302813.489 198.54375042943158 ...       rg5iii\n",
       "HELP_J133855.810+281107.598 204.73254078095655 ...        m0iii\n",
       "HELP_J130324.552+285933.902 195.85230149733783 ...         g5ii\n",
       "HELP_J125051.674+284236.699 192.71530874422427 ...          m3v\n",
       "HELP_J133040.559+290320.044 202.66899411411032 ...         rf8v\n",
       "HELP_J125342.104+271050.555 193.42543477062267 ...        m2p5v\n",
       "HELP_J130655.638+304710.237  196.7318269709398 ...        a3iii\n",
       "HELP_J132321.501+264200.206 200.83958711978946 ...       rk4iii\n",
       "HELP_J130554.319+305415.277  196.4763310378609 ...       rk3iii\n",
       "HELP_J133509.654+295231.029 203.79022411876866 ...        m2p5v\n",
       "                        ...                ... ...          ...\n",
       "HELP_J134135.307+344421.576  205.3971133074335 ...             \n",
       "HELP_J124858.080+341216.830  192.2420010874335 ...          m5v\n",
       "HELP_J134424.709+335630.506 206.10295449743347 ...             \n",
       "HELP_J133709.162+345604.772 204.28817473743348 ...        f5iii\n",
       "HELP_J134920.644+332452.682  207.3360167874335 ...         m3ii\n",
       "HELP_J125306.685+333113.670  193.2778540874335 ...          m1v\n",
       "HELP_J124548.943+313103.543 191.45392821032934 ...          m2i\n",
       "HELP_J125400.987+335609.752 193.50411202743348 ...             \n",
       "HELP_J132505.187+340052.360   201.271613098188 ...         k0iv\n",
       "HELP_J124622.195+335623.136  191.5924800774335 ...          f0v"
      ]
     },
     "execution_count": 8,
     "metadata": {},
     "output_type": "execute_result"
    }
   ],
   "source": [
    "photoz"
   ]
  },
  {
   "cell_type": "markdown",
   "metadata": {},
   "source": [
    "## Join CIGALE and photoz tables"
   ]
  },
  {
   "cell_type": "code",
   "execution_count": 9,
   "metadata": {},
   "outputs": [],
   "source": [
    "prior=join(cigale,photoz,keys='help_id')"
   ]
  },
  {
   "cell_type": "code",
   "execution_count": 10,
   "metadata": {},
   "outputs": [],
   "source": [
    "from astropy.cosmology import Planck15 as cosmo\n",
    "from astropy import units as u\n",
    "f_pred=prior['bayes.dust.luminosity']/(4*np.pi*cosmo.luminosity_distance(prior['z1_median']).to(u.cm))\n"
   ]
  },
  {
   "cell_type": "code",
   "execution_count": 11,
   "metadata": {},
   "outputs": [],
   "source": [
    "prior=prior[np.isfinite(f_pred.value)][np.log10(f_pred.value[np.isfinite(f_pred.value)])>8.5]"
   ]
  },
  {
   "cell_type": "code",
   "execution_count": 12,
   "metadata": {},
   "outputs": [],
   "source": [
    "prior['DEC'].name='Dec'"
   ]
  },
  {
   "cell_type": "markdown",
   "metadata": {},
   "source": [
    "## Read in Maps"
   ]
  },
  {
   "cell_type": "code",
   "execution_count": 13,
   "metadata": {
    "collapsed": true
   },
   "outputs": [],
   "source": [
    "im100fits='../../dmu18/dmu18_HELP-PACS-maps/data/NGP_PACS100_v0.9.fits'\n",
    "im160fits='../../dmu18/dmu18_HELP-PACS-maps/data/NGP_PACS160_v0.9.fits'\n",
    "#output folder\n",
    "output_folder='./'"
   ]
  },
  {
   "cell_type": "code",
   "execution_count": 14,
   "metadata": {
    "collapsed": true
   },
   "outputs": [],
   "source": [
    "from astropy.io import fits\n",
    "from astropy import wcs\n",
    "\n",
    "\n",
    "#-----100-------------\n",
    "hdulist = fits.open(im100fits)\n",
    "im100phdu=hdulist['PRIMARY'].header\n",
    "im100hdu=hdulist['IMAGE'].header\n",
    "im100=hdulist['IMAGE'].data\n",
    "w_100 = wcs.WCS(hdulist['IMAGE'].header)\n",
    "pixsize100=3600.0*np.abs(hdulist['IMAGE'].header['CDELT1']) #pixel size (in arcseconds)\n",
    "nim100=hdulist['ERROR'].data\n",
    "\n",
    "hdulist.close()\n",
    "\n",
    "#-----160-------------\n",
    "hdulist = fits.open(im160fits)\n",
    "im160phdu=hdulist['PRIMARY'].header\n",
    "im160hdu=hdulist['IMAGE'].header\n",
    "im160=hdulist['IMAGE'].data\n",
    "w_160 = wcs.WCS(hdulist['IMAGE'].header)\n",
    "pixsize160=3600.0*np.abs(hdulist['IMAGE'].header['CDELT1']) #pixel size (in arcseconds)\n",
    "nim160=hdulist['ERROR'].data\n",
    "\n",
    "hdulist.close()\n"
   ]
  },
  {
   "cell_type": "code",
   "execution_count": null,
   "metadata": {},
   "outputs": [],
   "source": []
  },
  {
   "cell_type": "markdown",
   "metadata": {},
   "source": [
    "## Read in PSF"
   ]
  },
  {
   "cell_type": "code",
   "execution_count": 21,
   "metadata": {
    "collapsed": true
   },
   "outputs": [],
   "source": [
    "pacs100_psf=fits.open('../../dmu18/dmu18_NGP/data/dmu18_PACS_100_PSF_NGP_20190125.fits')\n",
    "pacs160_psf=fits.open('../../dmu18/dmu18_NGP/data/dmu18_PACS_160_PSF_NGP_20190125.fits')\n",
    "\n",
    "centre100=np.long((pacs100_psf[0].header['NAXIS1']-1)/2)\n",
    "radius100=10\n",
    "centre160=np.long((pacs160_psf[0].header['NAXIS1']-1)/2)\n",
    "radius160=10\n",
    "\n",
    "pind100=np.arange(0,radius100+1+radius100,1)*3600*np.abs(pacs100_psf[0].header['CDELT1'])/pixsize100 #get 100 scale in terms of pixel scale of map\n",
    "pind160=np.arange(0,radius160+1+radius160,1)*3600*np.abs(pacs160_psf[0].header['CDELT1'])/pixsize160 #get 160 scale in terms of pixel scale of map"
   ]
  },
  {
   "cell_type": "code",
   "execution_count": 22,
   "metadata": {},
   "outputs": [
    {
     "name": "stdout",
     "output_type": "stream",
     "text": [
      "[ 0.  1.  2.  3.  4.  5.  6.  7.  8.  9. 10. 11. 12. 13. 14. 15. 16. 17.\n",
      " 18. 19. 20.]\n"
     ]
    }
   ],
   "source": [
    "print(pind100)"
   ]
  },
  {
   "cell_type": "code",
   "execution_count": 23,
   "metadata": {},
   "outputs": [
    {
     "data": {
      "text/plain": [
       "<matplotlib.colorbar.Colorbar at 0x7ff155106048>"
      ]
     },
     "execution_count": 23,
     "metadata": {},
     "output_type": "execute_result"
    },
    {
     "data": {
      "image/png": "[encoded data removed]",
      "text/plain": [
       "<Figure size 1440x720 with 4 Axes>"
      ]
     },
     "metadata": {
      "needs_background": "light"
     },
     "output_type": "display_data"
    }
   ],
   "source": [
    "import pylab as plt\n",
    "plt.figure(figsize=(20,10))\n",
    "plt.subplot(1,2,1)\n",
    "plt.imshow(pacs100_psf[0].data[centre100-radius100:centre100+radius100+1,centre100-radius100:centre100+radius100+1])\n",
    "plt.colorbar()\n",
    "plt.subplot(1,2,2)\n",
    "plt.imshow(pacs160_psf[0].data[centre160-radius160:centre160+radius160+1,centre160-radius160:centre160+radius160+1])\n",
    "plt.colorbar()"
   ]
  },
  {
   "cell_type": "markdown",
   "metadata": {},
   "source": [
    "## Set XID+ prior class"
   ]
  },
  {
   "cell_type": "code",
   "execution_count": 26,
   "metadata": {
    "collapsed": true
   },
   "outputs": [
    {
     "name": "stderr",
     "output_type": "stream",
     "text": [
      "WARNING: AstropyDeprecationWarning: \n",
      "Private attributes \"_naxis1\" and \"_naxis2\" have been deprecated since v3.1.\n",
      "Instead use the \"pixel_shape\" property which returns a list of NAXISj keyword values.\n",
      " [astropy.wcs.wcs]\n",
      "WARNING: AstropyDeprecationWarning: \n",
      "Private attributes \"_naxis1\" and \"_naxis2\" have been deprecated since v3.1.\n",
      "Instead use the \"pixel_shape\" property which returns a list of NAXISj keyword values.\n",
      " [astropy.wcs.wcs]\n"
     ]
    },
    {
     "ename": "MemoryError",
     "evalue": "",
     "output_type": "error",
     "traceback": [
      "\u001b[0;31m---------------------------------------------------------------------------\u001b[0m",
      "\u001b[0;31mMemoryError\u001b[0m                               Traceback (most recent call last)",
      "\u001b[0;32m<ipython-input-26-5e5649741c3a>\u001b[0m in \u001b[0;36m<module>\u001b[0;34m\u001b[0m\n\u001b[1;32m      1\u001b[0m \u001b[0;31m#---prior100--------\u001b[0m\u001b[0;34m\u001b[0m\u001b[0;34m\u001b[0m\u001b[0;34m\u001b[0m\u001b[0m\n\u001b[0;32m----> 2\u001b[0;31m \u001b[0mprior100\u001b[0m\u001b[0;34m=\u001b[0m\u001b[0mxidplus\u001b[0m\u001b[0;34m.\u001b[0m\u001b[0mprior\u001b[0m\u001b[0;34m(\u001b[0m\u001b[0mim100\u001b[0m\u001b[0;34m,\u001b[0m\u001b[0mnim100\u001b[0m\u001b[0;34m,\u001b[0m\u001b[0mim100phdu\u001b[0m\u001b[0;34m,\u001b[0m\u001b[0mim100hdu\u001b[0m\u001b[0;34m,\u001b[0m \u001b[0mmoc\u001b[0m\u001b[0;34m=\u001b[0m\u001b[0mSel_func\u001b[0m\u001b[0;34m)\u001b[0m\u001b[0;31m#Initialise with map, uncertianty map, wcs info and primary header\u001b[0m\u001b[0;34m\u001b[0m\u001b[0;34m\u001b[0m\u001b[0m\n\u001b[0m\u001b[1;32m      3\u001b[0m \u001b[0mprior100\u001b[0m\u001b[0;34m.\u001b[0m\u001b[0mprior_cat\u001b[0m\u001b[0;34m(\u001b[0m\u001b[0mprior\u001b[0m\u001b[0;34m[\u001b[0m\u001b[0;34m'RA'\u001b[0m\u001b[0;34m]\u001b[0m \u001b[0;34m,\u001b[0m\u001b[0mprior\u001b[0m\u001b[0;34m[\u001b[0m\u001b[0;34m'Dec'\u001b[0m\u001b[0;34m]\u001b[0m \u001b[0;34m,\u001b[0m\u001b[0;34m'NGP_results_Ldust_prediction.fits'\u001b[0m\u001b[0;34m,\u001b[0m\u001b[0mID\u001b[0m\u001b[0;34m=\u001b[0m\u001b[0mprior\u001b[0m\u001b[0;34m[\u001b[0m\u001b[0;34m'help_id'\u001b[0m\u001b[0;34m]\u001b[0m\u001b[0;34m)\u001b[0m\u001b[0;31m#Set input catalogue\u001b[0m\u001b[0;34m\u001b[0m\u001b[0;34m\u001b[0m\u001b[0m\n\u001b[1;32m      4\u001b[0m \u001b[0mprior100\u001b[0m\u001b[0;34m.\u001b[0m\u001b[0mprior_bkg\u001b[0m\u001b[0;34m(\u001b[0m\u001b[0;36m0.0\u001b[0m\u001b[0;34m,\u001b[0m\u001b[0;36m5\u001b[0m\u001b[0;34m)\u001b[0m\u001b[0;31m#Set prior on background (assumes Gaussian pdf with mu and sigma)\u001b[0m\u001b[0;34m\u001b[0m\u001b[0;34m\u001b[0m\u001b[0m\n\u001b[1;32m      5\u001b[0m \u001b[0;34m\u001b[0m\u001b[0m\n",
      "\u001b[0;32m~/Documents/git_hub/XID_plus/xidplus/prior.py\u001b[0m in \u001b[0;36m__init__\u001b[0;34m(self, im, nim, imphdu, imhdu, moc)\u001b[0m\n\u001b[1;32m     72\u001b[0m \u001b[0;34m\u001b[0m\u001b[0m\n\u001b[1;32m     73\u001b[0m         \u001b[0mx_pix\u001b[0m\u001b[0;34m,\u001b[0m \u001b[0my_pix\u001b[0m \u001b[0;34m=\u001b[0m \u001b[0mnp\u001b[0m\u001b[0;34m.\u001b[0m\u001b[0mmeshgrid\u001b[0m\u001b[0;34m(\u001b[0m\u001b[0mnp\u001b[0m\u001b[0;34m.\u001b[0m\u001b[0marange\u001b[0m\u001b[0;34m(\u001b[0m\u001b[0;36m0\u001b[0m\u001b[0;34m,\u001b[0m \u001b[0mwcs_temp\u001b[0m\u001b[0;34m.\u001b[0m\u001b[0m_naxis1\u001b[0m\u001b[0;34m)\u001b[0m\u001b[0;34m,\u001b[0m \u001b[0mnp\u001b[0m\u001b[0;34m.\u001b[0m\u001b[0marange\u001b[0m\u001b[0;34m(\u001b[0m\u001b[0;36m0\u001b[0m\u001b[0;34m,\u001b[0m \u001b[0mwcs_temp\u001b[0m\u001b[0;34m.\u001b[0m\u001b[0m_naxis2\u001b[0m\u001b[0;34m)\u001b[0m\u001b[0;34m)\u001b[0m\u001b[0;34m\u001b[0m\u001b[0;34m\u001b[0m\u001b[0m\n\u001b[0;32m---> 74\u001b[0;31m         \u001b[0mself\u001b[0m\u001b[0;34m.\u001b[0m\u001b[0msx_pix\u001b[0m \u001b[0;34m=\u001b[0m \u001b[0mx_pix\u001b[0m\u001b[0;34m.\u001b[0m\u001b[0mflatten\u001b[0m\u001b[0;34m(\u001b[0m\u001b[0;34m)\u001b[0m\u001b[0;34m\u001b[0m\u001b[0;34m\u001b[0m\u001b[0m\n\u001b[0m\u001b[1;32m     75\u001b[0m         \u001b[0mself\u001b[0m\u001b[0;34m.\u001b[0m\u001b[0msy_pix\u001b[0m \u001b[0;34m=\u001b[0m \u001b[0my_pix\u001b[0m\u001b[0;34m.\u001b[0m\u001b[0mflatten\u001b[0m\u001b[0;34m(\u001b[0m\u001b[0;34m)\u001b[0m\u001b[0;34m\u001b[0m\u001b[0;34m\u001b[0m\u001b[0m\n\u001b[1;32m     76\u001b[0m         \u001b[0mself\u001b[0m\u001b[0;34m.\u001b[0m\u001b[0msnim\u001b[0m \u001b[0;34m=\u001b[0m \u001b[0mnim\u001b[0m\u001b[0;34m.\u001b[0m\u001b[0mflatten\u001b[0m\u001b[0;34m(\u001b[0m\u001b[0;34m)\u001b[0m\u001b[0;34m\u001b[0m\u001b[0;34m\u001b[0m\u001b[0m\n",
      "\u001b[0;31mMemoryError\u001b[0m: "
     ]
    }
   ],
   "source": [
    "#---prior100--------\n",
    "prior100=xidplus.prior(im100,nim100,im100phdu,im100hdu, moc=Sel_func)#Initialise with map, uncertianty map, wcs info and primary header\n",
    "prior100.prior_cat(prior['RA'] ,prior['Dec'] ,'NGP_results_Ldust_prediction.fits',ID=prior['help_id'])#Set input catalogue\n",
    "prior100.prior_bkg(0.0,5)#Set prior on background (assumes Gaussian pdf with mu and sigma)\n",
    "\n",
    "#---prior160--------\n",
    "prior160=xidplus.prior(im160,nim160,im160phdu,im160hdu, moc=Sel_func)\n",
    "prior160.prior_cat(prior['RA'] ,prior['Dec'] ,'NGP_results_Ldust_prediction.fits',ID=prior['help_id'])\n",
    "prior160.prior_bkg(0.0,5)"
   ]
  },
  {
   "cell_type": "code",
   "execution_count": 16,
   "metadata": {
    "collapsed": true
   },
   "outputs": [],
   "source": [
    "# Divide by 1000 so that units are mJy\n",
    "prior100.set_prf(pacs100_psf[0].data[centre100-radius100:centre100+radius100+1,centre100-radius100:centre100+radius100+1]/1000.0,\n",
    "                pind100,pind100)\n",
    "prior160.set_prf(pacs160_psf[0].data[centre160-radius160:centre160+radius160+1,centre160-radius160:centre160+radius160+1]/1000.0,\n",
    "                pind160,pind160)"
   ]
  },
  {
   "cell_type": "code",
   "execution_count": null,
   "metadata": {},
   "outputs": [],
   "source": [
    "xidplus.plot_map([prior100])"
   ]
  },
  {
   "cell_type": "code",
   "execution_count": 17,
   "metadata": {},
   "outputs": [
    {
     "name": "stdout",
     "output_type": "stream",
     "text": [
      "----- There are 2165 tiles required for input catalogue and 18 large tiles\n",
      "writing total_bytes=781068219...\n",
      "writing bytes [0, 781068219)... done.\n"
     ]
    },
    {
     "ename": "SystemExit",
     "evalue": "",
     "output_type": "error",
     "traceback": [
      "An exception has occurred, use %tb to see the full traceback.\n",
      "\u001b[0;31mSystemExit\u001b[0m\n"
     ]
    }
   ],
   "source": [
    "import pickle\n",
    "#from moc, get healpix pixels at a given order\n",
    "from xidplus import moc_routines\n",
    "order=11\n",
    "tiles=moc_routines.get_HEALPix_pixels(order,prior100.sra,prior100.sdec,unique=True)\n",
    "order_large=6\n",
    "tiles_large=moc_routines.get_HEALPix_pixels(order_large,prior100.sra,prior100.sdec,unique=True)\n",
    "print('----- There are '+str(len(tiles))+' tiles required for input catalogue and '+str(len(tiles_large))+' large tiles')\n",
    "output_folder='./data/'\n",
    "xidplus.io.pickle_dump({'priors':[prior100,prior160],'tiles':tiles,'order':order,'version':xidplus.io.git_version()},'Master_prior.pkl')\n",
    "outfile=output_folder+'Tiles.pkl'\n",
    "with open(outfile, 'wb') as f:\n",
    "    pickle.dump({'tiles':tiles,'order':order,'tiles_large':tiles_large,'order_large':order_large,'version':xidplus.io.git_version()},f)\n",
    "raise SystemExit()"
   ]
  },
  {
   "cell_type": "code",
   "execution_count": 18,
   "metadata": {},
   "outputs": [
    {
     "name": "stdout",
     "output_type": "stream",
     "text": [
      "total 1525656\n",
      "drwxr-xr-x@ 3 pdh21  pdh21   102B 14 Feb 16:33 \u001b[34mdata\u001b[m\u001b[m/\n",
      "-rw-rw-r--  1 pdh21  pdh21    41K 15 Feb 11:16 XID+PACS_prior.ipynb\n",
      "-rw-rw-r--  1 pdh21  pdh21    18K 15 Feb 11:25 Tiles.pkl\n",
      "-rw-rw-r--  1 pdh21  pdh21   745M 15 Feb 11:25 Master_prior.pkl\n"
     ]
    }
   ],
   "source": [
    "ls -ltrh"
   ]
  },
  {
   "cell_type": "code",
   "execution_count": null,
   "metadata": {
    "collapsed": true
   },
   "outputs": [],
   "source": []
  },
  {
   "cell_type": "code",
   "execution_count": null,
   "metadata": {
    "collapsed": true
   },
   "outputs": [],
   "source": []
  },
  {
   "cell_type": "code",
   "execution_count": null,
   "metadata": {
    "collapsed": true
   },
   "outputs": [],
   "source": []
  }
 ],
 "metadata": {
  "kernelspec": {
   "display_name": "Python (herschelhelp_internal)",
   "language": "python",
   "name": "helpint"
  },
  "language_info": {
   "codemirror_mode": {
    "name": "ipython",
    "version": 3
   },
   "file_extension": ".py",
   "mimetype": "text/x-python",
   "name": "python",
   "nbconvert_exporter": "python",
   "pygments_lexer": "ipython3",
   "version": "3.6.7"
  }
 },
 "nbformat": 4,
 "nbformat_minor": 2
}
