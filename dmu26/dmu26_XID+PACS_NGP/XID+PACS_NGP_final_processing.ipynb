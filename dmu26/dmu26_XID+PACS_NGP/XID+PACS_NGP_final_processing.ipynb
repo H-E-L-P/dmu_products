{
 "cells": [
  {
   "cell_type": "markdown",
   "metadata": {},
   "source": [
    "# Final Processing\n",
    "The final processing stage requires:\n",
    "1. Quick validation of catalogues and Bayesian Pvalue maps\n",
    "2. Skewness level\n",
    "3. Adding flag to catalogue"
   ]
  },
  {
   "cell_type": "code",
   "execution_count": 1,
   "metadata": {
    "collapsed": true
   },
   "outputs": [],
   "source": [
    "import seaborn as sns\n",
    "from astropy.table import Table\n",
    "%matplotlib inline\n",
    "import numpy as np\n",
    "import pylab as plt"
   ]
  },
  {
   "cell_type": "markdown",
   "metadata": {},
   "source": [
    "## Read tables"
   ]
  },
  {
   "cell_type": "code",
   "execution_count": 2,
   "metadata": {},
   "outputs": [],
   "source": [
    "SWIRE_cat=Table.read('./data/dmu26_XID+PACS_ELAIS-N2_cat.fits')"
   ]
  },
  {
   "cell_type": "code",
   "execution_count": 3,
   "metadata": {},
   "outputs": [
    {
     "data": {
      "text/html": [
       "<i>Table length=10</i>\n",
       "<table id=\"table140148359904000\" class=\"table-striped table-bordered table-condensed\">\n",
       "<thead><tr><th>help_id</th><th>RA</th><th>Dec</th><th>F_PACS_100</th><th>FErr_PACS_100_u</th><th>FErr_PACS_100_l</th><th>F_PACS_160</th><th>FErr_PACS_160_u</th><th>FErr_PACS_160_l</th><th>Bkg_PACS_100</th><th>Bkg_PACS_160</th><th>Sig_conf_PACS_100</th><th>Sig_conf_PACS_160</th><th>Rhat_PACS_100</th><th>Rhat_PACS_160</th><th>n_eff_PACS_100</th><th>n_eff_PACS_160</th><th>Pval_res_100</th><th>Pval_res_160</th></tr></thead>\n",
       "<thead><tr><th></th><th>degrees</th><th>degrees</th><th>mJy</th><th>mJy</th><th>mJy</th><th>mJy</th><th>mJy</th><th>mJy</th><th>mJy/Beam</th><th>mJy/Beam</th><th>mJy/Beam</th><th>mJy/Beam</th><th></th><th></th><th></th><th></th><th></th><th></th></tr></thead>\n",
       "<thead><tr><th>bytes27</th><th>float64</th><th>float64</th><th>float32</th><th>float32</th><th>float32</th><th>float32</th><th>float32</th><th>float32</th><th>float32</th><th>float32</th><th>float32</th><th>float32</th><th>float32</th><th>float32</th><th>float32</th><th>float32</th><th>float32</th><th>float32</th></tr></thead>\n",
       "<tr><td>HELP_J163354.120+394351.612</td><td>248.475501874607</td><td>39.7310033402657</td><td>19.389559</td><td>36.723473</td><td>6.37674</td><td>9.128418</td><td>19.719961</td><td>2.5309186</td><td>0.000794067</td><td>0.0012264469</td><td>3.3196167e-05</td><td>0.0012500787</td><td>0.9985592</td><td>0.9984493</td><td>2000.0</td><td>2000.0</td><td>0.0</td><td>1.0</td></tr>\n",
       "<tr><td>HELP_J163352.386+394403.444</td><td>248.468276218376</td><td>39.7342898946138</td><td>27.611212</td><td>48.53772</td><td>10.395375</td><td>3.1805172</td><td>8.050185</td><td>0.82772666</td><td>0.000794067</td><td>0.0012264469</td><td>3.3196167e-05</td><td>0.0012500787</td><td>1.0012512</td><td>1.0001676</td><td>2000.0</td><td>2000.0</td><td>0.0</td><td>1.0</td></tr>\n",
       "<tr><td>HELP_J163352.492+394246.993</td><td>248.468716218376</td><td>39.7130536946138</td><td>19.835646</td><td>40.97127</td><td>5.7923427</td><td>28.474012</td><td>43.19387</td><td>14.588883</td><td>0.000794067</td><td>0.0012264469</td><td>3.3196167e-05</td><td>0.0012500787</td><td>0.99895173</td><td>1.00079</td><td>2000.0</td><td>1118.0</td><td>0.0</td><td>1.0</td></tr>\n",
       "<tr><td>HELP_J163352.915+394257.838</td><td>248.470479318376</td><td>39.7160660946138</td><td>15.362442</td><td>32.626335</td><td>4.803632</td><td>8.359196</td><td>17.443798</td><td>2.2208073</td><td>0.000794067</td><td>0.0012264469</td><td>3.3196167e-05</td><td>0.0012500787</td><td>1.0028542</td><td>1.0011356</td><td>2000.0</td><td>2000.0</td><td>0.0</td><td>1.0</td></tr>\n",
       "<tr><td>HELP_J163350.599+394301.108</td><td>248.460827683607</td><td>39.71697437126569</td><td>17.79864</td><td>36.421066</td><td>5.0390177</td><td>39.620625</td><td>53.982338</td><td>25.963675</td><td>0.000794067</td><td>0.0012264469</td><td>3.3196167e-05</td><td>0.0012500787</td><td>0.999915</td><td>0.99910337</td><td>2000.0</td><td>2000.0</td><td>0.0</td><td>1.0</td></tr>\n",
       "<tr><td>HELP_J163353.119+394332.116</td><td>248.47133095060698</td><td>39.7255878742657</td><td>34.08253</td><td>56.34407</td><td>14.974244</td><td>52.511333</td><td>66.49122</td><td>38.22004</td><td>0.000794067</td><td>0.0012264469</td><td>3.3196167e-05</td><td>0.0012500787</td><td>1.0011331</td><td>0.9987118</td><td>2000.0</td><td>1809.0</td><td>0.0</td><td>1.0</td></tr>\n",
       "<tr><td>HELP_J163352.514+394240.707</td><td>248.468809963607</td><td>39.71130763026569</td><td>32.544655</td><td>56.017796</td><td>12.886926</td><td>17.707657</td><td>31.812624</td><td>6.219413</td><td>0.000794067</td><td>0.0012264469</td><td>3.3196167e-05</td><td>0.0012500787</td><td>0.999227</td><td>1.0016896</td><td>2000.0</td><td>1334.0</td><td>0.0</td><td>1.0</td></tr>\n",
       "<tr><td>HELP_J163355.261+394312.761</td><td>248.480254726607</td><td>39.7202114822657</td><td>14.618176</td><td>31.464136</td><td>3.9259667</td><td>27.757725</td><td>46.598953</td><td>10.219876</td><td>0.000794067</td><td>0.0012264469</td><td>3.3196167e-05</td><td>0.0012500787</td><td>1.0015632</td><td>1.0026351</td><td>2000.0</td><td>1371.0</td><td>0.0</td><td>1.0</td></tr>\n",
       "<tr><td>HELP_J163356.385+394302.904</td><td>248.484935418607</td><td>39.7174734302657</td><td>16.621424</td><td>34.23195</td><td>5.2733016</td><td>20.823479</td><td>35.311802</td><td>8.105063</td><td>0.000794067</td><td>0.0012264469</td><td>3.3196167e-05</td><td>0.0012500787</td><td>1.000586</td><td>1.0008776</td><td>2000.0</td><td>2000.0</td><td>0.0</td><td>1.0</td></tr>\n",
       "<tr><td>HELP_J163355.639+394313.080</td><td>248.481830321607</td><td>39.7202999192657</td><td>16.645704</td><td>36.33447</td><td>4.817338</td><td>21.68119</td><td>39.909508</td><td>7.7636204</td><td>0.000794067</td><td>0.0012264469</td><td>3.3196167e-05</td><td>0.0012500787</td><td>1.0001271</td><td>1.002336</td><td>2000.0</td><td>1213.0</td><td>0.0</td><td>1.0</td></tr>\n",
       "</table>"
      ],
      "text/plain": [
       "<Table length=10>\n",
       "          help_id                   RA         ... Pval_res_100 Pval_res_160\n",
       "                                 degrees       ...                          \n",
       "          bytes27                float64       ...   float32      float32   \n",
       "--------------------------- ------------------ ... ------------ ------------\n",
       "HELP_J163354.120+394351.612   248.475501874607 ...          0.0          1.0\n",
       "HELP_J163352.386+394403.444   248.468276218376 ...          0.0          1.0\n",
       "HELP_J163352.492+394246.993   248.468716218376 ...          0.0          1.0\n",
       "HELP_J163352.915+394257.838   248.470479318376 ...          0.0          1.0\n",
       "HELP_J163350.599+394301.108   248.460827683607 ...          0.0          1.0\n",
       "HELP_J163353.119+394332.116 248.47133095060698 ...          0.0          1.0\n",
       "HELP_J163352.514+394240.707   248.468809963607 ...          0.0          1.0\n",
       "HELP_J163355.261+394312.761   248.480254726607 ...          0.0          1.0\n",
       "HELP_J163356.385+394302.904   248.484935418607 ...          0.0          1.0\n",
       "HELP_J163355.639+394313.080   248.481830321607 ...          0.0          1.0"
      ]
     },
     "execution_count": 3,
     "metadata": {},
     "output_type": "execute_result"
    }
   ],
   "source": [
    "SWIRE_cat[0:10]"
   ]
  },
  {
   "cell_type": "code",
   "execution_count": 4,
   "metadata": {},
   "outputs": [
    {
     "data": {
      "text/html": [
       "<i>Table length=86591</i>\n",
       "<table id=\"table140147505348000\" class=\"table-striped table-bordered table-condensed\">\n",
       "<thead><tr><th>help_id</th><th>RA</th><th>Dec</th><th>F_PACS_100</th><th>FErr_PACS_100_u</th><th>FErr_PACS_100_l</th><th>F_PACS_160</th><th>FErr_PACS_160_u</th><th>FErr_PACS_160_l</th><th>Bkg_PACS_100</th><th>Bkg_PACS_160</th><th>Sig_conf_PACS_100</th><th>Sig_conf_PACS_160</th><th>Rhat_PACS_100</th><th>Rhat_PACS_160</th><th>n_eff_PACS_100</th><th>n_eff_PACS_160</th><th>Pval_res_100</th><th>Pval_res_160</th></tr></thead>\n",
       "<thead><tr><th></th><th>degrees</th><th>degrees</th><th>mJy</th><th>mJy</th><th>mJy</th><th>mJy</th><th>mJy</th><th>mJy</th><th>mJy/Beam</th><th>mJy/Beam</th><th>mJy/Beam</th><th>mJy/Beam</th><th></th><th></th><th></th><th></th><th></th><th></th></tr></thead>\n",
       "<thead><tr><th>bytes27</th><th>float64</th><th>float64</th><th>float32</th><th>float32</th><th>float32</th><th>float32</th><th>float32</th><th>float32</th><th>float32</th><th>float32</th><th>float32</th><th>float32</th><th>float32</th><th>float32</th><th>float32</th><th>float32</th><th>float32</th><th>float32</th></tr></thead>\n",
       "<tr><td>HELP_J163354.120+394351.612</td><td>248.475501874607</td><td>39.7310033402657</td><td>19.389559</td><td>36.723473</td><td>6.37674</td><td>9.128418</td><td>19.719961</td><td>2.5309186</td><td>0.000794067</td><td>0.0012264469</td><td>3.3196167e-05</td><td>0.0012500787</td><td>0.9985592</td><td>0.9984493</td><td>2000.0</td><td>2000.0</td><td>0.0</td><td>1.0</td></tr>\n",
       "<tr><td>HELP_J163352.386+394403.444</td><td>248.468276218376</td><td>39.7342898946138</td><td>27.611212</td><td>48.53772</td><td>10.395375</td><td>3.1805172</td><td>8.050185</td><td>0.82772666</td><td>0.000794067</td><td>0.0012264469</td><td>3.3196167e-05</td><td>0.0012500787</td><td>1.0012512</td><td>1.0001676</td><td>2000.0</td><td>2000.0</td><td>0.0</td><td>1.0</td></tr>\n",
       "<tr><td>HELP_J163352.492+394246.993</td><td>248.468716218376</td><td>39.7130536946138</td><td>19.835646</td><td>40.97127</td><td>5.7923427</td><td>28.474012</td><td>43.19387</td><td>14.588883</td><td>0.000794067</td><td>0.0012264469</td><td>3.3196167e-05</td><td>0.0012500787</td><td>0.99895173</td><td>1.00079</td><td>2000.0</td><td>1118.0</td><td>0.0</td><td>1.0</td></tr>\n",
       "<tr><td>HELP_J163352.915+394257.838</td><td>248.470479318376</td><td>39.7160660946138</td><td>15.362442</td><td>32.626335</td><td>4.803632</td><td>8.359196</td><td>17.443798</td><td>2.2208073</td><td>0.000794067</td><td>0.0012264469</td><td>3.3196167e-05</td><td>0.0012500787</td><td>1.0028542</td><td>1.0011356</td><td>2000.0</td><td>2000.0</td><td>0.0</td><td>1.0</td></tr>\n",
       "<tr><td>HELP_J163350.599+394301.108</td><td>248.460827683607</td><td>39.71697437126569</td><td>17.79864</td><td>36.421066</td><td>5.0390177</td><td>39.620625</td><td>53.982338</td><td>25.963675</td><td>0.000794067</td><td>0.0012264469</td><td>3.3196167e-05</td><td>0.0012500787</td><td>0.999915</td><td>0.99910337</td><td>2000.0</td><td>2000.0</td><td>0.0</td><td>1.0</td></tr>\n",
       "<tr><td>HELP_J163353.119+394332.116</td><td>248.47133095060698</td><td>39.7255878742657</td><td>34.08253</td><td>56.34407</td><td>14.974244</td><td>52.511333</td><td>66.49122</td><td>38.22004</td><td>0.000794067</td><td>0.0012264469</td><td>3.3196167e-05</td><td>0.0012500787</td><td>1.0011331</td><td>0.9987118</td><td>2000.0</td><td>1809.0</td><td>0.0</td><td>1.0</td></tr>\n",
       "<tr><td>HELP_J163352.514+394240.707</td><td>248.468809963607</td><td>39.71130763026569</td><td>32.544655</td><td>56.017796</td><td>12.886926</td><td>17.707657</td><td>31.812624</td><td>6.219413</td><td>0.000794067</td><td>0.0012264469</td><td>3.3196167e-05</td><td>0.0012500787</td><td>0.999227</td><td>1.0016896</td><td>2000.0</td><td>1334.0</td><td>0.0</td><td>1.0</td></tr>\n",
       "<tr><td>HELP_J163355.261+394312.761</td><td>248.480254726607</td><td>39.7202114822657</td><td>14.618176</td><td>31.464136</td><td>3.9259667</td><td>27.757725</td><td>46.598953</td><td>10.219876</td><td>0.000794067</td><td>0.0012264469</td><td>3.3196167e-05</td><td>0.0012500787</td><td>1.0015632</td><td>1.0026351</td><td>2000.0</td><td>1371.0</td><td>0.0</td><td>1.0</td></tr>\n",
       "<tr><td>HELP_J163356.385+394302.904</td><td>248.484935418607</td><td>39.7174734302657</td><td>16.621424</td><td>34.23195</td><td>5.2733016</td><td>20.823479</td><td>35.311802</td><td>8.105063</td><td>0.000794067</td><td>0.0012264469</td><td>3.3196167e-05</td><td>0.0012500787</td><td>1.000586</td><td>1.0008776</td><td>2000.0</td><td>2000.0</td><td>0.0</td><td>1.0</td></tr>\n",
       "<tr><td>...</td><td>...</td><td>...</td><td>...</td><td>...</td><td>...</td><td>...</td><td>...</td><td>...</td><td>...</td><td>...</td><td>...</td><td>...</td><td>...</td><td>...</td><td>...</td><td>...</td><td>...</td><td>...</td></tr>\n",
       "<tr><td>HELP_J164040.041+421127.242</td><td>250.166838961607</td><td>42.190900607265704</td><td>40.637012</td><td>62.678448</td><td>20.582441</td><td>12.233872</td><td>23.335512</td><td>3.9235358</td><td>0.0009621118</td><td>0.0008198751</td><td>3.1023712e-05</td><td>0.0011955247</td><td>1.0002599</td><td>1.0012665</td><td>851.0</td><td>2000.0</td><td>0.0</td><td>0.999</td></tr>\n",
       "<tr><td>HELP_J164043.104+421444.703</td><td>250.179600175607</td><td>42.2457507032657</td><td>31.180954</td><td>52.68144</td><td>13.118675</td><td>3.5353029</td><td>8.982183</td><td>0.8293763</td><td>0.00096886867</td><td>0.0010828365</td><td>3.4303743e-05</td><td>0.0011552939</td><td>1.0014113</td><td>0.9997417</td><td>1482.0</td><td>2000.0</td><td>0.0</td><td>0.999</td></tr>\n",
       "<tr><td>HELP_J164040.756+421401.873</td><td>250.169816904607</td><td>42.2338535452657</td><td>51.3822</td><td>77.75228</td><td>26.469198</td><td>29.676233</td><td>43.429108</td><td>16.1133</td><td>0.00096886867</td><td>0.0010828365</td><td>3.4303743e-05</td><td>0.0011552939</td><td>1.0038719</td><td>1.0048037</td><td>2000.0</td><td>2000.0</td><td>0.0</td><td>1.0</td></tr>\n",
       "<tr><td>HELP_J164037.737+421321.082</td><td>250.157237864607</td><td>42.22252283126569</td><td>20.385443</td><td>39.580338</td><td>7.053993</td><td>54.927242</td><td>68.08647</td><td>41.58494</td><td>0.00096886867</td><td>0.0010828365</td><td>3.4303743e-05</td><td>0.0011552939</td><td>0.99888897</td><td>1.0023205</td><td>2000.0</td><td>2000.0</td><td>0.0</td><td>0.999</td></tr>\n",
       "<tr><td>HELP_J164040.440+421311.872</td><td>250.168499884607</td><td>42.21996457126569</td><td>62.575443</td><td>85.43746</td><td>38.964684</td><td>112.985985</td><td>125.550186</td><td>99.99795</td><td>0.00096886867</td><td>0.0010828365</td><td>3.4303743e-05</td><td>0.0011552939</td><td>1.0001096</td><td>1.0000186</td><td>2000.0</td><td>2000.0</td><td>0.0</td><td>1.0</td></tr>\n",
       "<tr><td>HELP_J164036.727+421356.549</td><td>250.15302731760698</td><td>42.232374687265704</td><td>23.943647</td><td>43.528633</td><td>8.368374</td><td>10.323051</td><td>21.640099</td><td>3.2787387</td><td>0.00096886867</td><td>0.0010828365</td><td>3.4303743e-05</td><td>0.0011552939</td><td>1.0005676</td><td>1.0009007</td><td>2000.0</td><td>2000.0</td><td>0.0</td><td>1.0</td></tr>\n",
       "<tr><td>HELP_J164037.218+421411.910</td><td>250.15507681460699</td><td>42.2366415452657</td><td>36.567127</td><td>63.101593</td><td>16.021418</td><td>13.882914</td><td>25.0266</td><td>4.6453514</td><td>0.00096886867</td><td>0.0010828365</td><td>3.4303743e-05</td><td>0.0011552939</td><td>1.0014263</td><td>1.0013578</td><td>2000.0</td><td>2000.0</td><td>0.0</td><td>1.0</td></tr>\n",
       "<tr><td>HELP_J164031.414+421835.597</td><td>250.13089156060698</td><td>42.309888151265696</td><td>36.832077</td><td>59.92387</td><td>16.27969</td><td>59.544468</td><td>74.141975</td><td>45.88694</td><td>0.00053778145</td><td>0.0015237639</td><td>3.405803e-05</td><td>0.0011869345</td><td>1.0077432</td><td>1.005176</td><td>483.0</td><td>946.0</td><td>0.0</td><td>1.0</td></tr>\n",
       "<tr><td>HELP_J164025.693+422040.072</td><td>250.107055834607</td><td>42.34446439226569</td><td>15.206321</td><td>32.6184</td><td>4.352934</td><td>9.433724</td><td>20.830912</td><td>3.0775323</td><td>0.00064708444</td><td>0.000919995</td><td>3.74639e-05</td><td>0.0011314326</td><td>1.0004673</td><td>1.0022492</td><td>1024.0</td><td>1600.0</td><td>0.0</td><td>0.998</td></tr>\n",
       "<tr><td>HELP_J164026.936+422026.418</td><td>250.112231915607</td><td>42.3406715432657</td><td>23.16444</td><td>42.755836</td><td>8.207187</td><td>7.172628</td><td>16.838709</td><td>1.8925309</td><td>0.00064708444</td><td>0.000919995</td><td>3.74639e-05</td><td>0.0011314326</td><td>0.9991114</td><td>1.0029272</td><td>967.0</td><td>1341.0</td><td>0.0</td><td>0.986</td></tr>\n",
       "</table>"
      ],
      "text/plain": [
       "<Table length=86591>\n",
       "          help_id                   RA         ... Pval_res_100 Pval_res_160\n",
       "                                 degrees       ...                          \n",
       "          bytes27                float64       ...   float32      float32   \n",
       "--------------------------- ------------------ ... ------------ ------------\n",
       "HELP_J163354.120+394351.612   248.475501874607 ...          0.0          1.0\n",
       "HELP_J163352.386+394403.444   248.468276218376 ...          0.0          1.0\n",
       "HELP_J163352.492+394246.993   248.468716218376 ...          0.0          1.0\n",
       "HELP_J163352.915+394257.838   248.470479318376 ...          0.0          1.0\n",
       "HELP_J163350.599+394301.108   248.460827683607 ...          0.0          1.0\n",
       "HELP_J163353.119+394332.116 248.47133095060698 ...          0.0          1.0\n",
       "HELP_J163352.514+394240.707   248.468809963607 ...          0.0          1.0\n",
       "HELP_J163355.261+394312.761   248.480254726607 ...          0.0          1.0\n",
       "HELP_J163356.385+394302.904   248.484935418607 ...          0.0          1.0\n",
       "                        ...                ... ...          ...          ...\n",
       "HELP_J164040.041+421127.242   250.166838961607 ...          0.0        0.999\n",
       "HELP_J164043.104+421444.703   250.179600175607 ...          0.0        0.999\n",
       "HELP_J164040.756+421401.873   250.169816904607 ...          0.0          1.0\n",
       "HELP_J164037.737+421321.082   250.157237864607 ...          0.0        0.999\n",
       "HELP_J164040.440+421311.872   250.168499884607 ...          0.0          1.0\n",
       "HELP_J164036.727+421356.549 250.15302731760698 ...          0.0          1.0\n",
       "HELP_J164037.218+421411.910 250.15507681460699 ...          0.0          1.0\n",
       "HELP_J164031.414+421835.597 250.13089156060698 ...          0.0          1.0\n",
       "HELP_J164025.693+422040.072   250.107055834607 ...          0.0        0.998\n",
       "HELP_J164026.936+422026.418   250.112231915607 ...          0.0        0.986"
      ]
     },
     "execution_count": 4,
     "metadata": {},
     "output_type": "execute_result"
    }
   ],
   "source": [
    "SWIRE_cat"
   ]
  },
  {
   "cell_type": "markdown",
   "metadata": {},
   "source": [
    "## Look at Symmetry of PDFs to determine depth level of catalogue"
   ]
  },
  {
   "cell_type": "code",
   "execution_count": 11,
   "metadata": {},
   "outputs": [
    {
     "data": {
      "image/png": "[encoded data removed]",
      "text/plain": [
       "<Figure size 432x432 with 3 Axes>"
      ]
     },
     "metadata": {
      "needs_background": "light"
     },
     "output_type": "display_data"
    }
   ],
   "source": [
    "skew=(SWIRE_cat['FErr_PACS_100_u']-SWIRE_cat['F_PACS_100'])/(SWIRE_cat['F_PACS_100']-SWIRE_cat['FErr_PACS_100_l'])\n",
    "skew.name='(84th-50th)/(50th-16th) percentile'\n",
    "g=sns.jointplot(x=np.log10(SWIRE_cat['F_PACS_100']),y=skew, kind='scatter')"
   ]
  },
  {
   "cell_type": "code",
   "execution_count": 12,
   "metadata": {},
   "outputs": [
    {
     "data": {
      "image/png": "[encoded data removed]",
      "text/plain": [
       "<Figure size 432x432 with 3 Axes>"
      ]
     },
     "metadata": {
      "needs_background": "light"
     },
     "output_type": "display_data"
    }
   ],
   "source": [
    "skew=(SWIRE_cat['FErr_PACS_160_u']-SWIRE_cat['F_PACS_160'])/(SWIRE_cat['F_PACS_160']-SWIRE_cat['FErr_PACS_160_l'])\n",
    "skew.name='(84th-50th)/(50th-16th) percentile'\n",
    "g=sns.jointplot(x=np.log10(SWIRE_cat['F_PACS_160']),y=skew, kind='scatter')"
   ]
  },
  {
   "cell_type": "markdown",
   "metadata": {},
   "source": [
    "## Add flag to catalogue"
   ]
  },
  {
   "cell_type": "code",
   "execution_count": 13,
   "metadata": {
    "collapsed": true
   },
   "outputs": [],
   "source": [
    "from astropy.table import Column\n",
    "SWIRE_cat.add_column(Column(np.zeros(len(SWIRE_cat), dtype=bool),name='flag_PACS_100'))\n",
    "SWIRE_cat.add_column(Column(np.zeros(len(SWIRE_cat), dtype=bool),name='flag_PACS_160'))\n"
   ]
  },
  {
   "cell_type": "code",
   "execution_count": 14,
   "metadata": {
    "collapsed": true
   },
   "outputs": [],
   "source": [
    "ind_SWIRE_100=(SWIRE_cat['Pval_res_100']>0.5) | (SWIRE_cat['F_PACS_100'] < 12.5) | ((SWIRE_cat['FErr_PACS_100_u']-SWIRE_cat['F_PACS_100'])>150)\n",
    "ind_SWIRE_160=(SWIRE_cat['Pval_res_160']>0.5) | (SWIRE_cat['F_PACS_160'] < 17.5) | ((SWIRE_cat['FErr_PACS_160_u']-SWIRE_cat['F_PACS_160'])>150)\n"
   ]
  },
  {
   "cell_type": "code",
   "execution_count": 15,
   "metadata": {},
   "outputs": [
    {
     "name": "stdout",
     "output_type": "stream",
     "text": [
      "19337 86591 86591\n"
     ]
    }
   ],
   "source": [
    "print(ind_SWIRE_100.sum(),ind_SWIRE_160.sum(),len(SWIRE_cat))"
   ]
  },
  {
   "cell_type": "code",
   "execution_count": 16,
   "metadata": {
    "collapsed": true
   },
   "outputs": [],
   "source": [
    "SWIRE_cat['flag_PACS_100'][ind_SWIRE_100]=True\n",
    "SWIRE_cat['flag_PACS_160'][ind_SWIRE_160]=True"
   ]
  },
  {
   "cell_type": "code",
   "execution_count": 18,
   "metadata": {
    "collapsed": true
   },
   "outputs": [],
   "source": [
    "SWIRE_cat.write('./data/dmu26_XID+PACS_ELAIS-N2_cat_20190206.fits', format='fits',overwrite=True)\n"
   ]
  },
  {
   "cell_type": "code",
   "execution_count": null,
   "metadata": {
    "collapsed": true
   },
   "outputs": [],
   "source": []
  }
 ],
 "metadata": {
  "kernelspec": {
   "display_name": "Python (herschelhelp_internal)",
   "language": "python",
   "name": "helpint"
  },
  "language_info": {
   "codemirror_mode": {
    "name": "ipython",
    "version": 3
   },
   "file_extension": ".py",
   "mimetype": "text/x-python",
   "name": "python",
   "nbconvert_exporter": "python",
   "pygments_lexer": "ipython3",
   "version": "3.6.6"
  }
 },
 "nbformat": 4,
 "nbformat_minor": 2
}
