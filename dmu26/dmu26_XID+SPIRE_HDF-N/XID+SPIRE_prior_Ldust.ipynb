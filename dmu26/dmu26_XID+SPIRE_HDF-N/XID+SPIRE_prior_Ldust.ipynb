{
 "cells": [
  {
   "cell_type": "code",
   "execution_count": 1,
   "metadata": {
    "collapsed": true
   },
   "outputs": [
    {
     "name": "stderr",
     "output_type": "stream",
     "text": [
      "WARNING: AstropyDeprecationWarning: astropy.extern.six will be removed in 4.0, use the six module directly if it is still needed [astropy.extern.six]\n"
     ]
    }
   ],
   "source": [
    "import pylab as plt\n",
    "import pymoc\n",
    "import xidplus\n",
    "import numpy as np\n",
    "%matplotlib inline\n",
    "from astropy.table import Table, join"
   ]
  },
  {
   "cell_type": "code",
   "execution_count": 2,
   "metadata": {
    "collapsed": true
   },
   "outputs": [],
   "source": [
    "import seaborn as sns"
   ]
  },
  {
   "cell_type": "markdown",
   "metadata": {},
   "source": [
    "This notebook uses all the raw data from the CIGALE predictions and photoz catalogue, maps, PSF and relevant MOCs to create XID+ prior object and relevant tiling scheme"
   ]
  },
  {
   "cell_type": "markdown",
   "metadata": {},
   "source": [
    "## Read in MOCs\n",
    "The selection functions required are the main MOC associated with the masterlist. "
   ]
  },
  {
   "cell_type": "code",
   "execution_count": 3,
   "metadata": {
    "collapsed": true
   },
   "outputs": [],
   "source": [
    "Sel_func=pymoc.MOC()\n",
    "Sel_func.read('../../dmu4/dmu4_sm_HDF-N/data/holes_HDF-N_irac1_O16_20190201_WARNING-MADE-WITH-Lockman-SWIRE-PARAMS.fits')"
   ]
  },
  {
   "cell_type": "markdown",
   "metadata": {},
   "source": [
    "## Read in CIGALE predictions catalogue"
   ]
  },
  {
   "cell_type": "code",
   "execution_count": 4,
   "metadata": {
    "collapsed": true
   },
   "outputs": [],
   "source": [
    "cigale=Table.read('../../dmu28/dmu28_HDF-N/data/HDF-N_cigale_optnir_extcor_20180427.fits')"
   ]
  },
  {
   "cell_type": "code",
   "execution_count": 5,
   "metadata": {
    "collapsed": true
   },
   "outputs": [],
   "source": [
    "cigale['id'].name = 'help_id'"
   ]
  },
  {
   "cell_type": "code",
   "execution_count": 6,
   "metadata": {},
   "outputs": [
    {
     "data": {
      "text/html": [
       "<i>Table length=1446</i>\n",
       "<table id=\"table140274399272128\" class=\"table-striped table-bordered table-condensed\">\n",
       "<thead><tr><th>help_id</th><th>ra</th><th>dec</th><th>ebv</th><th>redshift</th><th>stellarity</th><th>flag_gaia</th><th>mosaic_u</th><th>mosaic_u_err</th><th>acs_f435w</th><th>acs_f435w_err</th><th>suprime_b</th><th>suprime_b_err</th><th>gpc1_g</th><th>gpc1_g_err</th><th>suprime_v</th><th>suprime_v_err</th><th>acs_f606w</th><th>acs_f606w_err</th><th>suprime_r</th><th>suprime_r_err</th><th>gpc1_r</th><th>gpc1_r_err</th><th>gpc1_i</th><th>gpc1_i_err</th><th>suprime_ip</th><th>suprime_ip_err</th><th>acs_f775w</th><th>acs_f775w_err</th><th>acs_f814w</th><th>acs_f814w_err</th><th>suprime_zp</th><th>suprime_zp_err</th><th>quirc_hk</th><th>quirc_hk_err</th><th>gpc1_z</th><th>gpc1_z_err</th><th>acs_f850lp</th><th>acs_f850lp_err</th><th>gpc1_y</th><th>gpc1_y_err</th><th>wfc3_f105w</th><th>wfc3_f105w_err</th><th>wfc3_f125w</th><th>wfc3_f125w_err</th><th>wfc3_f140w</th><th>wfc3_f140w_err</th><th>wfc3_f160w</th><th>wfc3_f160w_err</th><th>wircam_ks</th><th>wircam_ks_err</th><th>moircs_k</th><th>moircs_k_err</th><th>irac_i1</th><th>irac_i1_err</th><th>irac_i2</th><th>irac_i2_err</th><th>irac_i3</th><th>irac_i3_err</th><th>irac_i4</th><th>irac_i4_err</th></tr></thead>\n",
       "<thead><tr><th></th><th>deg</th><th>deg</th><th></th><th></th><th></th><th></th><th>uJy</th><th>uJy</th><th>uJy</th><th>uJy</th><th>uJy</th><th>uJy</th><th>uJy</th><th>uJy</th><th>uJy</th><th>uJy</th><th>uJy</th><th>uJy</th><th>uJy</th><th>uJy</th><th>uJy</th><th>uJy</th><th>uJy</th><th>uJy</th><th>uJy</th><th>uJy</th><th>uJy</th><th>uJy</th><th>uJy</th><th>uJy</th><th>uJy</th><th>uJy</th><th>uJy</th><th>uJy</th><th>uJy</th><th>uJy</th><th>uJy</th><th>uJy</th><th>uJy</th><th>uJy</th><th>uJy</th><th>uJy</th><th>uJy</th><th>uJy</th><th>uJy</th><th>uJy</th><th>uJy</th><th>uJy</th><th>uJy</th><th>uJy</th><th>uJy</th><th>uJy</th><th>uJy</th><th>uJy</th><th>uJy</th><th>uJy</th><th>uJy</th><th>uJy</th><th>uJy</th><th>uJy</th></tr></thead>\n",
       "<thead><tr><th>bytes27</th><th>float64</th><th>float64</th><th>float64</th><th>float64</th><th>float64</th><th>int64</th><th>float64</th><th>float64</th><th>float64</th><th>float64</th><th>float64</th><th>float64</th><th>float64</th><th>float64</th><th>float64</th><th>float64</th><th>float64</th><th>float64</th><th>float64</th><th>float64</th><th>float64</th><th>float64</th><th>float64</th><th>float64</th><th>float64</th><th>float64</th><th>float64</th><th>float64</th><th>float64</th><th>float64</th><th>float64</th><th>float64</th><th>float64</th><th>float64</th><th>float64</th><th>float64</th><th>float64</th><th>float64</th><th>float64</th><th>float64</th><th>float64</th><th>float64</th><th>float64</th><th>float64</th><th>float64</th><th>float64</th><th>float64</th><th>float64</th><th>float64</th><th>float64</th><th>float64</th><th>float64</th><th>float64</th><th>float64</th><th>float64</th><th>float64</th><th>float64</th><th>float64</th><th>float64</th><th>float64</th></tr></thead>\n",
       "<tr><td>HELP_J123503.293+621515.419</td><td>188.76372150513802</td><td>62.254283169711755</td><td>0.01019150286931473</td><td>0.6422372</td><td>nan</td><td>0</td><td>0.00012457534372344202</td><td>3.766983093620655e-05</td><td>nan</td><td>nan</td><td>0.00037093159439027156</td><td>2.362835443703174e-05</td><td>nan</td><td>nan</td><td>0.0008715470771225467</td><td>5.2812627057636727e-05</td><td>nan</td><td>nan</td><td>0.002209210869665933</td><td>4.34792934626456e-05</td><td>nan</td><td>nan</td><td>nan</td><td>nan</td><td>0.004460767201978454</td><td>0.00011034388034600003</td><td>nan</td><td>nan</td><td>nan</td><td>nan</td><td>0.0056416573659377875</td><td>0.00011307409788823542</td><td>0.0223475494357809</td><td>0.014673044834089884</td><td>nan</td><td>nan</td><td>nan</td><td>nan</td><td>nan</td><td>nan</td><td>nan</td><td>nan</td><td>nan</td><td>nan</td><td>nan</td><td>nan</td><td>nan</td><td>nan</td><td>0.014309201378914945</td><td>0.00020868839481239017</td><td>nan</td><td>nan</td><td>nan</td><td>nan</td><td>nan</td><td>nan</td><td>nan</td><td>nan</td><td>nan</td><td>nan</td></tr>\n",
       "<tr><td>HELP_J123503.919+621610.085</td><td>188.766329505138</td><td>62.26946816971174</td><td>0.010291831728041611</td><td>0.7803647</td><td>nan</td><td>0</td><td>0.003592188914552406</td><td>0.00013031578829229628</td><td>nan</td><td>nan</td><td>nan</td><td>nan</td><td>nan</td><td>nan</td><td>0.0030657231792039093</td><td>6.463528160905694e-05</td><td>nan</td><td>nan</td><td>0.004403813008012354</td><td>5.475395684901884e-05</td><td>nan</td><td>nan</td><td>nan</td><td>nan</td><td>0.005335020861874162</td><td>0.00012034645565669116</td><td>nan</td><td>nan</td><td>nan</td><td>nan</td><td>0.005011166592988484</td><td>0.00012616272851872612</td><td>0.014420450922091805</td><td>0.007836348179745056</td><td>nan</td><td>nan</td><td>nan</td><td>nan</td><td>nan</td><td>nan</td><td>nan</td><td>nan</td><td>nan</td><td>nan</td><td>nan</td><td>nan</td><td>nan</td><td>nan</td><td>0.00820031601016766</td><td>0.0002488288719590823</td><td>nan</td><td>nan</td><td>nan</td><td>nan</td><td>nan</td><td>nan</td><td>nan</td><td>nan</td><td>nan</td><td>nan</td></tr>\n",
       "<tr><td>HELP_J123504.655+621539.737</td><td>188.76939450513802</td><td>62.26103816971175</td><td>0.01021946589366344</td><td>0.6621503</td><td>nan</td><td>0</td><td>0.000707718939452209</td><td>6.326429813663715e-05</td><td>nan</td><td>nan</td><td>0.0010390800753708113</td><td>2.9285386720373577e-05</td><td>nan</td><td>nan</td><td>0.0022124743038865477</td><td>5.9238643117481034e-05</td><td>nan</td><td>nan</td><td>0.003632680160640546</td><td>5.048382448196435e-05</td><td>nan</td><td>nan</td><td>nan</td><td>nan</td><td>0.004644252560292363</td><td>0.00011150174004026988</td><td>nan</td><td>nan</td><td>nan</td><td>nan</td><td>0.005142753591953785</td><td>0.00011961509081538304</td><td>0.001978154080307473</td><td>0.007352380810842247</td><td>nan</td><td>nan</td><td>nan</td><td>nan</td><td>nan</td><td>nan</td><td>nan</td><td>nan</td><td>nan</td><td>nan</td><td>nan</td><td>nan</td><td>nan</td><td>nan</td><td>0.010480666996181663</td><td>0.0002688894079051011</td><td>nan</td><td>nan</td><td>nan</td><td>nan</td><td>nan</td><td>nan</td><td>nan</td><td>nan</td><td>nan</td><td>nan</td></tr>\n",
       "<tr><td>HELP_J123505.022+621639.557</td><td>188.770924986992</td><td>62.27765484314524</td><td>0.010338930745740887</td><td>0.54832095</td><td>nan</td><td>0</td><td>0.0005960023800687729</td><td>8.106185487739004e-05</td><td>nan</td><td>nan</td><td>0.0019770724878836717</td><td>5.33174869615079e-05</td><td>0.0018946883502106125</td><td>0.0005510519846610432</td><td>0.005802537950243952</td><td>0.0001209704860384843</td><td>nan</td><td>nan</td><td>0.016934897137896397</td><td>0.00010774917050099337</td><td>nan</td><td>nan</td><td>nan</td><td>nan</td><td>0.03053827752897969</td><td>0.00022815783410045672</td><td>nan</td><td>nan</td><td>nan</td><td>nan</td><td>0.037692132722846106</td><td>0.00025481075441523434</td><td>0.1334424207175961</td><td>0.012852910794109005</td><td>nan</td><td>nan</td><td>nan</td><td>nan</td><td>0.03138491433955076</td><td>0.007820731776692985</td><td>nan</td><td>nan</td><td>nan</td><td>nan</td><td>nan</td><td>nan</td><td>nan</td><td>nan</td><td>0.12982041950914885</td><td>0.000311040839409489</td><td>nan</td><td>nan</td><td>nan</td><td>nan</td><td>nan</td><td>nan</td><td>nan</td><td>nan</td><td>nan</td><td>nan</td></tr>\n",
       "<tr><td>HELP_J123505.064+621601.550</td><td>188.771101505138</td><td>62.26709716971175</td><td>0.010257400281080424</td><td>0.5835653</td><td>nan</td><td>0</td><td>0.0006546246741040712</td><td>6.054235227686613e-05</td><td>nan</td><td>nan</td><td>0.0009751433544652229</td><td>2.758802945402771e-05</td><td>nan</td><td>nan</td><td>0.0018984551982962076</td><td>5.7892414599336376e-05</td><td>nan</td><td>nan</td><td>0.0042338495309143355</td><td>5.360209349562738e-05</td><td>nan</td><td>nan</td><td>nan</td><td>nan</td><td>0.0062509477718950416</td><td>0.00011997570156959764</td><td>nan</td><td>nan</td><td>nan</td><td>nan</td><td>0.007535526805622296</td><td>0.00012073541484231161</td><td>0.022805942187535646</td><td>0.006319924156623956</td><td>nan</td><td>nan</td><td>nan</td><td>nan</td><td>nan</td><td>nan</td><td>nan</td><td>nan</td><td>nan</td><td>nan</td><td>nan</td><td>nan</td><td>nan</td><td>nan</td><td>0.018516474077137145</td><td>0.00021069951537246281</td><td>nan</td><td>nan</td><td>nan</td><td>nan</td><td>nan</td><td>nan</td><td>nan</td><td>nan</td><td>nan</td><td>nan</td></tr>\n",
       "<tr><td>HELP_J123505.907+621504.454</td><td>188.774610456992</td><td>62.25123710314524</td><td>0.010139321875291922</td><td>0.4162233</td><td>nan</td><td>0</td><td>0.002699667437837443</td><td>0.00011509069580300157</td><td>nan</td><td>nan</td><td>0.0028561824770297565</td><td>3.207682175448172e-05</td><td>0.002820261627614334</td><td>0.0012561837046768233</td><td>0.004044308845618172</td><td>7.006372932288011e-05</td><td>nan</td><td>nan</td><td>0.005909177639877374</td><td>5.962493414655526e-05</td><td>nan</td><td>nan</td><td>nan</td><td>nan</td><td>0.007697147105310617</td><td>0.00012753246239273104</td><td>nan</td><td>nan</td><td>nan</td><td>nan</td><td>0.007842749187265673</td><td>0.00013428260316222454</td><td>0.004932395880992533</td><td>0.006964863617079312</td><td>nan</td><td>nan</td><td>nan</td><td>nan</td><td>0.05015813680876784</td><td>0.020015972147758312</td><td>nan</td><td>nan</td><td>nan</td><td>nan</td><td>nan</td><td>nan</td><td>nan</td><td>nan</td><td>0.008566112366613837</td><td>0.00014848730736224497</td><td>nan</td><td>nan</td><td>nan</td><td>nan</td><td>nan</td><td>nan</td><td>nan</td><td>nan</td><td>nan</td><td>nan</td></tr>\n",
       "<tr><td>HELP_J123506.557+621601.759</td><td>188.77732250513802</td><td>62.26715516971174</td><td>0.010235863957621749</td><td>0.75323</td><td>nan</td><td>0</td><td>0.0018552602516426387</td><td>0.00011230937007248687</td><td>nan</td><td>nan</td><td>0.004504595022389925</td><td>6.20286321729295e-05</td><td>nan</td><td>nan</td><td>0.006288671606726604</td><td>0.00012121910123245831</td><td>nan</td><td>nan</td><td>0.01051164887482669</td><td>9.839671216172014e-05</td><td>nan</td><td>nan</td><td>nan</td><td>nan</td><td>0.010831074688551235</td><td>0.00023166052262322534</td><td>nan</td><td>nan</td><td>nan</td><td>nan</td><td>0.018205843057933206</td><td>0.00023508555185041454</td><td>0.01942359413069187</td><td>0.012678432493561737</td><td>nan</td><td>nan</td><td>nan</td><td>nan</td><td>nan</td><td>nan</td><td>nan</td><td>nan</td><td>nan</td><td>nan</td><td>nan</td><td>nan</td><td>nan</td><td>nan</td><td>0.029417460271913613</td><td>0.0002749107815315256</td><td>nan</td><td>nan</td><td>nan</td><td>nan</td><td>nan</td><td>nan</td><td>nan</td><td>nan</td><td>nan</td><td>nan</td></tr>\n",
       "<tr><td>HELP_J123506.643+621637.216</td><td>188.777677596992</td><td>62.277004563145255</td><td>0.01030486423272809</td><td>0.614631</td><td>nan</td><td>0</td><td>0.00025515183743786933</td><td>5.389919161926483e-05</td><td>nan</td><td>nan</td><td>0.001194539872551055</td><td>4.0801840615077104e-05</td><td>0.0026361400844193447</td><td>0.0009300939622822963</td><td>0.0038798582238989076</td><td>7.383495995008662e-05</td><td>nan</td><td>nan</td><td>0.011470339918375191</td><td>7.813416877133445e-05</td><td>nan</td><td>nan</td><td>nan</td><td>nan</td><td>0.023731224927350934</td><td>0.0001511278335160385</td><td>nan</td><td>nan</td><td>nan</td><td>nan</td><td>0.029126461573243754</td><td>0.00017356094834480444</td><td>0.07383538224986182</td><td>0.007801251491626999</td><td>nan</td><td>nan</td><td>nan</td><td>nan</td><td>0.032787189122888805</td><td>0.005717892709629075</td><td>nan</td><td>nan</td><td>nan</td><td>nan</td><td>nan</td><td>nan</td><td>nan</td><td>nan</td><td>0.09492961908943624</td><td>0.00028495039604916754</td><td>nan</td><td>nan</td><td>nan</td><td>nan</td><td>nan</td><td>nan</td><td>nan</td><td>nan</td><td>nan</td><td>nan</td></tr>\n",
       "<tr><td>HELP_J123506.757+621458.288</td><td>188.778153296992</td><td>62.249524333145246</td><td>0.010118127910863322</td><td>0.8126521</td><td>nan</td><td>0</td><td>0.003234781851458169</td><td>0.00013412155740332297</td><td>nan</td><td>nan</td><td>0.0038341985246766468</td><td>5.320862676815442e-05</td><td>0.002470010562100325</td><td>0.0012576204633113338</td><td>0.005236261179552317</td><td>0.000111663242808136</td><td>nan</td><td>nan</td><td>0.008803594379923185</td><td>8.638046554551827e-05</td><td>nan</td><td>nan</td><td>nan</td><td>nan</td><td>0.0204752173283488</td><td>0.00021522735689109818</td><td>nan</td><td>nan</td><td>nan</td><td>nan</td><td>0.02436787874249252</td><td>0.0002269686616915791</td><td>0.07487694640318689</td><td>0.011361252567727435</td><td>nan</td><td>nan</td><td>nan</td><td>nan</td><td>0.018503389326575987</td><td>0.005566510502998843</td><td>nan</td><td>nan</td><td>nan</td><td>nan</td><td>nan</td><td>nan</td><td>nan</td><td>nan</td><td>0.0773051715705417</td><td>0.0003792420034997763</td><td>nan</td><td>nan</td><td>nan</td><td>nan</td><td>nan</td><td>nan</td><td>nan</td><td>nan</td><td>nan</td><td>nan</td></tr>\n",
       "<tr><td>...</td><td>...</td><td>...</td><td>...</td><td>...</td><td>...</td><td>...</td><td>...</td><td>...</td><td>...</td><td>...</td><td>...</td><td>...</td><td>...</td><td>...</td><td>...</td><td>...</td><td>...</td><td>...</td><td>...</td><td>...</td><td>...</td><td>...</td><td>...</td><td>...</td><td>...</td><td>...</td><td>...</td><td>...</td><td>...</td><td>...</td><td>...</td><td>...</td><td>...</td><td>...</td><td>...</td><td>...</td><td>...</td><td>...</td><td>...</td><td>...</td><td>...</td><td>...</td><td>...</td><td>...</td><td>...</td><td>...</td><td>...</td><td>...</td><td>...</td><td>...</td><td>...</td><td>...</td><td>...</td><td>...</td><td>...</td><td>...</td><td>...</td><td>...</td><td>...</td><td>...</td></tr>\n",
       "<tr><td>HELP_J123835.902+621112.333</td><td>189.649589846992</td><td>62.18675908314525</td><td>0.009353296860485708</td><td>0.5783681</td><td>nan</td><td>0</td><td>0.00020594122781618162</td><td>6.082933222948926e-05</td><td>nan</td><td>nan</td><td>0.0010332238326930315</td><td>4.441959683697568e-05</td><td>nan</td><td>nan</td><td>0.0030860158873510404</td><td>6.590573582469074e-05</td><td>nan</td><td>nan</td><td>0.009484939267967504</td><td>7.503916328553104e-05</td><td>nan</td><td>nan</td><td>nan</td><td>nan</td><td>0.01696130083235938</td><td>0.00011364756935915695</td><td>nan</td><td>nan</td><td>nan</td><td>nan</td><td>0.02340928057261382</td><td>0.00018167772785806813</td><td>0.05210939931484752</td><td>0.006564887689475089</td><td>nan</td><td>nan</td><td>nan</td><td>nan</td><td>0.023450351667119698</td><td>0.005118645697987365</td><td>nan</td><td>nan</td><td>nan</td><td>nan</td><td>nan</td><td>nan</td><td>nan</td><td>nan</td><td>0.08286890907993563</td><td>0.00030191413049287835</td><td>nan</td><td>nan</td><td>nan</td><td>nan</td><td>nan</td><td>nan</td><td>nan</td><td>nan</td><td>nan</td><td>nan</td></tr>\n",
       "<tr><td>HELP_J123836.175+621040.667</td><td>189.650728505138</td><td>62.177963169711745</td><td>0.009302488654006152</td><td>0.8733377</td><td>nan</td><td>0</td><td>0.001894119255544019</td><td>0.00010521422814195106</td><td>nan</td><td>nan</td><td>0.0021245158597826387</td><td>3.5941553326225103e-05</td><td>nan</td><td>nan</td><td>0.002823782991211068</td><td>5.251997503946764e-05</td><td>nan</td><td>nan</td><td>0.004195613192502291</td><td>5.3928784425081344e-05</td><td>nan</td><td>nan</td><td>nan</td><td>nan</td><td>0.006788877927896672</td><td>8.338815773434934e-05</td><td>nan</td><td>nan</td><td>nan</td><td>nan</td><td>0.008622702068290149</td><td>0.00013218869100195814</td><td>0.012795291389746723</td><td>0.004844155463899206</td><td>nan</td><td>nan</td><td>nan</td><td>nan</td><td>nan</td><td>nan</td><td>nan</td><td>nan</td><td>nan</td><td>nan</td><td>nan</td><td>nan</td><td>nan</td><td>nan</td><td>0.024018327845820742</td><td>0.0002768336459302817</td><td>nan</td><td>nan</td><td>nan</td><td>nan</td><td>nan</td><td>nan</td><td>nan</td><td>nan</td><td>nan</td><td>nan</td></tr>\n",
       "<tr><td>HELP_J123837.107+621013.635</td><td>189.654611505138</td><td>62.170454169711746</td><td>0.009253047461088189</td><td>1.063059</td><td>nan</td><td>0</td><td>0.0018228342357086897</td><td>0.00010102092691774315</td><td>nan</td><td>nan</td><td>0.0017237860769295722</td><td>3.1689998475545396e-05</td><td>nan</td><td>nan</td><td>0.0020489840093494203</td><td>4.328769284658088e-05</td><td>nan</td><td>nan</td><td>0.0024311476621692754</td><td>4.3118632677427087e-05</td><td>nan</td><td>nan</td><td>nan</td><td>nan</td><td>0.004124212675466311</td><td>6.650227489685718e-05</td><td>nan</td><td>nan</td><td>nan</td><td>nan</td><td>0.005086534383007993</td><td>0.00010521499465411867</td><td>0.013086176829992103</td><td>0.003967390645636523</td><td>nan</td><td>nan</td><td>nan</td><td>nan</td><td>nan</td><td>nan</td><td>nan</td><td>nan</td><td>nan</td><td>nan</td><td>nan</td><td>nan</td><td>nan</td><td>nan</td><td>0.014256704242415565</td><td>0.00028084122610639927</td><td>nan</td><td>nan</td><td>nan</td><td>nan</td><td>nan</td><td>nan</td><td>nan</td><td>nan</td><td>nan</td><td>nan</td></tr>\n",
       "<tr><td>HELP_J123837.130+621607.472</td><td>189.654709666992</td><td>62.26874223314525</td><td>0.009767495744921927</td><td>0.3041219</td><td>nan</td><td>0</td><td>0.004332742097216168</td><td>0.0001654355810297303</td><td>nan</td><td>nan</td><td>nan</td><td>nan</td><td>0.008919732998025301</td><td>0.001684152412558452</td><td>0.019399120411384044</td><td>0.00012407374269289887</td><td>nan</td><td>nan</td><td>0.0320459103665673</td><td>0.00011954956752036637</td><td>nan</td><td>nan</td><td>nan</td><td>nan</td><td>0.04318655213430043</td><td>0.00021882768964143936</td><td>nan</td><td>nan</td><td>nan</td><td>nan</td><td>0.0539249552322024</td><td>0.0002883406798176213</td><td>0.09969481991970829</td><td>0.009507404474872836</td><td>nan</td><td>nan</td><td>nan</td><td>nan</td><td>0.04635704138527704</td><td>0.005940480297545395</td><td>nan</td><td>nan</td><td>nan</td><td>nan</td><td>nan</td><td>nan</td><td>nan</td><td>nan</td><td>0.16179654443676414</td><td>0.0003832115818262325</td><td>nan</td><td>nan</td><td>nan</td><td>nan</td><td>nan</td><td>nan</td><td>nan</td><td>nan</td><td>nan</td><td>nan</td></tr>\n",
       "<tr><td>HELP_J123837.376+621121.135</td><td>189.65573250513802</td><td>62.18920416971174</td><td>0.009365108319186261</td><td>0.85777384</td><td>nan</td><td>0</td><td>0.0023650050633854842</td><td>0.00012358443224184726</td><td>nan</td><td>nan</td><td>0.0026623237878832147</td><td>5.294334805632263e-05</td><td>nan</td><td>nan</td><td>0.0043404540802285995</td><td>8.086843822001389e-05</td><td>nan</td><td>nan</td><td>0.007101085070960404</td><td>7.745612759261459e-05</td><td>nan</td><td>nan</td><td>nan</td><td>nan</td><td>0.0144496021006238</td><td>0.0001302316178086746</td><td>nan</td><td>nan</td><td>nan</td><td>nan</td><td>0.01979411816462634</td><td>0.00020573933291431808</td><td>0.039968454799058084</td><td>0.00787222282692693</td><td>nan</td><td>nan</td><td>nan</td><td>nan</td><td>nan</td><td>nan</td><td>nan</td><td>nan</td><td>nan</td><td>nan</td><td>nan</td><td>nan</td><td>nan</td><td>nan</td><td>0.08359041276138017</td><td>0.0004323105931357602</td><td>nan</td><td>nan</td><td>nan</td><td>nan</td><td>nan</td><td>nan</td><td>nan</td><td>nan</td><td>nan</td><td>nan</td></tr>\n",
       "<tr><td>HELP_J123837.918+621236.458</td><td>189.65799350513802</td><td>62.210127169711754</td><td>0.009484009571687156</td><td>0.47192445</td><td>nan</td><td>0</td><td>0.0019579579662192706</td><td>0.0001117191324177466</td><td>nan</td><td>nan</td><td>0.002629884825564363</td><td>4.260991474513755e-05</td><td>nan</td><td>nan</td><td>0.0050225540956972455</td><td>6.831028202032585e-05</td><td>nan</td><td>nan</td><td>0.006506129992757994</td><td>6.794283726056815e-05</td><td>nan</td><td>nan</td><td>nan</td><td>nan</td><td>0.007330752883519734</td><td>0.00010199225296301193</td><td>nan</td><td>nan</td><td>nan</td><td>nan</td><td>0.007749940835491795</td><td>0.0001624198025503609</td><td>0.02183634699991762</td><td>0.006188931978678365</td><td>nan</td><td>nan</td><td>nan</td><td>nan</td><td>nan</td><td>nan</td><td>nan</td><td>nan</td><td>nan</td><td>nan</td><td>nan</td><td>nan</td><td>nan</td><td>nan</td><td>0.012984863940619179</td><td>0.000293902289270098</td><td>nan</td><td>nan</td><td>nan</td><td>nan</td><td>nan</td><td>nan</td><td>nan</td><td>nan</td><td>nan</td><td>nan</td></tr>\n",
       "<tr><td>HELP_J123838.706+621031.001</td><td>189.661275505138</td><td>62.175278169711746</td><td>0.009281709029340918</td><td>0.44252804</td><td>nan</td><td>0</td><td>0.002492498167524951</td><td>0.00012437109333888243</td><td>nan</td><td>nan</td><td>0.0028722384942839025</td><td>5.24949013624501e-05</td><td>nan</td><td>nan</td><td>0.006256784798633011</td><td>8.375070022059188e-05</td><td>nan</td><td>nan</td><td>0.009022274736296935</td><td>8.545758749763911e-05</td><td>nan</td><td>nan</td><td>nan</td><td>nan</td><td>0.00895771909556638</td><td>0.0001255048947124618</td><td>nan</td><td>nan</td><td>nan</td><td>nan</td><td>0.010757561780799714</td><td>0.00019898266405900302</td><td>0.02014103800361234</td><td>0.007376017121706819</td><td>nan</td><td>nan</td><td>nan</td><td>nan</td><td>nan</td><td>nan</td><td>nan</td><td>nan</td><td>nan</td><td>nan</td><td>nan</td><td>nan</td><td>nan</td><td>nan</td><td>0.017387242474011765</td><td>0.00045837726049168594</td><td>nan</td><td>nan</td><td>nan</td><td>nan</td><td>nan</td><td>nan</td><td>nan</td><td>nan</td><td>nan</td><td>nan</td></tr>\n",
       "<tr><td>HELP_J123840.640+621125.934</td><td>189.669333505138</td><td>62.190537169711746</td><td>0.00937227623958931</td><td>0.7849549</td><td>nan</td><td>0</td><td>0.0009389435814870348</td><td>7.660473059950109e-05</td><td>nan</td><td>nan</td><td>0.0013369062671552898</td><td>3.198915711967262e-05</td><td>nan</td><td>nan</td><td>0.0016895584909860186</td><td>4.617428208758096e-05</td><td>nan</td><td>nan</td><td>0.0018064888926518539</td><td>4.5024243380786026e-05</td><td>nan</td><td>nan</td><td>nan</td><td>nan</td><td>0.0024450513621617756</td><td>7.284986345124157e-05</td><td>nan</td><td>nan</td><td>nan</td><td>nan</td><td>0.002921659674075648</td><td>0.00011411176523424669</td><td>0.006355481023001031</td><td>0.004210501461760554</td><td>nan</td><td>nan</td><td>nan</td><td>nan</td><td>nan</td><td>nan</td><td>nan</td><td>nan</td><td>nan</td><td>nan</td><td>nan</td><td>nan</td><td>nan</td><td>nan</td><td>0.010231040132835741</td><td>0.0002838612115286779</td><td>nan</td><td>nan</td><td>nan</td><td>nan</td><td>nan</td><td>nan</td><td>nan</td><td>nan</td><td>nan</td><td>nan</td></tr>\n",
       "<tr><td>HELP_J123843.550+621227.176</td><td>189.681456606992</td><td>62.20754879314525</td><td>0.00950731396974629</td><td>0.69180536</td><td>nan</td><td>0</td><td>0.0005874378209966475</td><td>6.724625632122878e-05</td><td>nan</td><td>nan</td><td>0.0012228272965495075</td><td>4.1024537314341626e-05</td><td>0.0053237356614300796</td><td>0.0010033364930316377</td><td>0.0025993325539752925</td><td>5.762925046990529e-05</td><td>nan</td><td>nan</td><td>0.0060795289444262835</td><td>6.366410737345811e-05</td><td>nan</td><td>nan</td><td>nan</td><td>nan</td><td>0.011464898295672307</td><td>9.455395306291029e-05</td><td>nan</td><td>nan</td><td>nan</td><td>nan</td><td>0.015212309855446799</td><td>0.0001546369614048377</td><td>0.057188770907775945</td><td>0.005184010176458713</td><td>nan</td><td>nan</td><td>nan</td><td>nan</td><td>0.026748924402546084</td><td>0.00731221322750912</td><td>nan</td><td>nan</td><td>nan</td><td>nan</td><td>nan</td><td>nan</td><td>nan</td><td>nan</td><td>0.08247482150866424</td><td>0.00029691377101427385</td><td>nan</td><td>nan</td><td>nan</td><td>nan</td><td>nan</td><td>nan</td><td>nan</td><td>nan</td><td>nan</td><td>nan</td></tr>\n",
       "<tr><td>HELP_J123843.647+621209.865</td><td>189.681864505138</td><td>62.202740169711745</td><td>0.009472029425871394</td><td>0.524759</td><td>nan</td><td>0</td><td>0.0016635270284736632</td><td>9.756870942015429e-05</td><td>nan</td><td>nan</td><td>0.0017570608284159259</td><td>4.2482417447161064e-05</td><td>nan</td><td>nan</td><td>0.0028832812382781486</td><td>5.605199422127302e-05</td><td>nan</td><td>nan</td><td>0.004013048435618907</td><td>5.6417388079669934e-05</td><td>nan</td><td>nan</td><td>nan</td><td>nan</td><td>0.004555672797461638</td><td>8.411353707021993e-05</td><td>nan</td><td>nan</td><td>nan</td><td>nan</td><td>0.004852927302360697</td><td>0.00013298204830335632</td><td>7.97490256283279e-05</td><td>0.004873541734952904</td><td>nan</td><td>nan</td><td>nan</td><td>nan</td><td>nan</td><td>nan</td><td>nan</td><td>nan</td><td>nan</td><td>nan</td><td>nan</td><td>nan</td><td>nan</td><td>nan</td><td>0.006229099411411761</td><td>0.00024876274622063067</td><td>nan</td><td>nan</td><td>nan</td><td>nan</td><td>nan</td><td>nan</td><td>nan</td><td>nan</td><td>nan</td><td>nan</td></tr>\n",
       "</table>"
      ],
      "text/plain": [
       "<Table length=1446>\n",
       "          help_id                   ra         ... irac_i4 irac_i4_err\n",
       "                                   deg         ...   uJy       uJy    \n",
       "          bytes27                float64       ... float64   float64  \n",
       "--------------------------- ------------------ ... ------- -----------\n",
       "HELP_J123503.293+621515.419 188.76372150513802 ...     nan         nan\n",
       "HELP_J123503.919+621610.085   188.766329505138 ...     nan         nan\n",
       "HELP_J123504.655+621539.737 188.76939450513802 ...     nan         nan\n",
       "HELP_J123505.022+621639.557   188.770924986992 ...     nan         nan\n",
       "HELP_J123505.064+621601.550   188.771101505138 ...     nan         nan\n",
       "HELP_J123505.907+621504.454   188.774610456992 ...     nan         nan\n",
       "HELP_J123506.557+621601.759 188.77732250513802 ...     nan         nan\n",
       "HELP_J123506.643+621637.216   188.777677596992 ...     nan         nan\n",
       "HELP_J123506.757+621458.288   188.778153296992 ...     nan         nan\n",
       "                        ...                ... ...     ...         ...\n",
       "HELP_J123835.902+621112.333   189.649589846992 ...     nan         nan\n",
       "HELP_J123836.175+621040.667   189.650728505138 ...     nan         nan\n",
       "HELP_J123837.107+621013.635   189.654611505138 ...     nan         nan\n",
       "HELP_J123837.130+621607.472   189.654709666992 ...     nan         nan\n",
       "HELP_J123837.376+621121.135 189.65573250513802 ...     nan         nan\n",
       "HELP_J123837.918+621236.458 189.65799350513802 ...     nan         nan\n",
       "HELP_J123838.706+621031.001   189.661275505138 ...     nan         nan\n",
       "HELP_J123840.640+621125.934   189.669333505138 ...     nan         nan\n",
       "HELP_J123843.550+621227.176   189.681456606992 ...     nan         nan\n",
       "HELP_J123843.647+621209.865   189.681864505138 ...     nan         nan"
      ]
     },
     "execution_count": 6,
     "metadata": {},
     "output_type": "execute_result"
    }
   ],
   "source": [
    "cigale"
   ]
  },
  {
   "cell_type": "markdown",
   "metadata": {},
   "source": [
    "## Read in photoz"
   ]
  },
  {
   "cell_type": "code",
   "execution_count": 4,
   "metadata": {
    "collapsed": true
   },
   "outputs": [],
   "source": [
    "photoz=Table.read('../../dmu24/dmu24_HDF-N/data/')"
   ]
  },
  {
   "cell_type": "code",
   "execution_count": 5,
   "metadata": {},
   "outputs": [
    {
     "data": {
      "text/html": [
       "<i>Table length=1183490</i>\n",
       "<table id=\"table139694389036144\" class=\"table-striped table-bordered table-condensed\">\n",
       "<thead><tr><th>help_id</th><th>RA</th><th>DEC</th><th>id</th><th>z1_median</th><th>z1_min</th><th>z1_max</th><th>z1_area</th><th>z2_median</th><th>z2_min</th><th>z2_max</th><th>z2_area</th><th>za_hb</th><th>chi_r_eazy</th><th>chi_r_atlas</th><th>chi_r_cosmos</th><th>chi_r_stellar</th><th>stellar_type</th></tr></thead>\n",
       "<thead><tr><th>bytes27</th><th>float64</th><th>float64</th><th>int64</th><th>float64</th><th>float64</th><th>float64</th><th>float64</th><th>float64</th><th>float64</th><th>float64</th><th>float64</th><th>float64</th><th>float64</th><th>float64</th><th>float64</th><th>float64</th><th>bytes6</th></tr></thead>\n",
       "<tr><td>HELP_J141604.525+522314.318</td><td>214.01885343855852</td><td>52.38731062037661</td><td>1</td><td>0.3287</td><td>0.2017</td><td>0.46</td><td>0.79</td><td>-99.0</td><td>-99.0</td><td>-99.0</td><td>-99.0</td><td>0.3107445158917243</td><td>0.00941402</td><td>0.005750465</td><td>0.038778125</td><td>1.16068175</td><td>k4i</td></tr>\n",
       "<tr><td>HELP_J141625.630+515253.992</td><td>214.10679106334706</td><td>51.881664522183016</td><td>2</td><td>0.3341</td><td>0.1838</td><td>0.4776</td><td>0.797</td><td>-99.0</td><td>-99.0</td><td>-99.0</td><td>-99.0</td><td>0.3186207796877177</td><td>0.172925325</td><td>0.057914225</td><td>0.093599325</td><td>1.79632475</td><td>m2v</td></tr>\n",
       "<tr><td>HELP_J141911.366+530320.518</td><td>214.79735831765808</td><td>53.05569947987607</td><td>3</td><td>0.3557</td><td>0.1874</td><td>0.5225</td><td>0.791</td><td>-99.0</td><td>-99.0</td><td>-99.0</td><td>-99.0</td><td>0.3465622852301831</td><td>0.0053131625</td><td>0.03812535</td><td>0.0809428</td><td>2.155046</td><td>k5iii</td></tr>\n",
       "<tr><td>HELP_J141525.065+522526.822</td><td>213.85443844608528</td><td>52.42411731941239</td><td>4</td><td>0.4947</td><td>0.3958</td><td>0.6165</td><td>0.433</td><td>0.2238</td><td>0.1284</td><td>0.299</td><td>0.358</td><td>0.42542435154728503</td><td>0.024677515</td><td>0.13246265</td><td>0.1400433</td><td>5.7028675</td><td>wg8iii</td></tr>\n",
       "<tr><td>HELP_J141943.168+523158.983</td><td>214.92986686469408</td><td>52.53305086665113</td><td>5</td><td>0.2834</td><td>0.1183</td><td>0.4426</td><td>0.797</td><td>-99.0</td><td>-99.0</td><td>-99.0</td><td>-99.0</td><td>0.2912590674014151</td><td>0.00083104725</td><td>0.1810521</td><td>0.123727875</td><td>3.5283325</td><td>rk0v</td></tr>\n",
       "<tr><td>HELP_J141848.923+525921.139</td><td>214.70384569336562</td><td>52.98920527391837</td><td>6</td><td>0.3486</td><td>0.1803</td><td>0.5225</td><td>0.79</td><td>-99.0</td><td>-99.0</td><td>-99.0</td><td>-99.0</td><td>0.2990182431374302</td><td>0.0020962585</td><td>0.0013756125</td><td>0.0577491</td><td>0.91910475</td><td>wk3iii</td></tr>\n",
       "<tr><td>HELP_J142111.698+522044.991</td><td>215.29874092601307</td><td>52.345830748462134</td><td>7</td><td>0.4852</td><td>0.2721</td><td>0.6607</td><td>0.794</td><td>-99.0</td><td>-99.0</td><td>-99.0</td><td>-99.0</td><td>0.5270935167224258</td><td>0.0397356</td><td>0.233541025</td><td>0.39683775</td><td>1.8079045</td><td>m3iii</td></tr>\n",
       "<tr><td>HELP_J141322.317+522430.572</td><td>213.3429865295886</td><td>52.40849213212558</td><td>8</td><td>0.3965</td><td>0.1909</td><td>0.5877</td><td>0.793</td><td>-99.0</td><td>-99.0</td><td>-99.0</td><td>-99.0</td><td>0.42542435154728503</td><td>0.000403126</td><td>0.014958385</td><td>0.0261745</td><td>5.6493875</td><td>wk3iii</td></tr>\n",
       "<tr><td>HELP_J141553.974+523158.605</td><td>213.97489187629904</td><td>52.53294582179002</td><td>9</td><td>0.4897</td><td>0.3385</td><td>0.6458</td><td>0.791</td><td>-99.0</td><td>-99.0</td><td>-99.0</td><td>-99.0</td><td>0.49093314336472166</td><td>0.0200424975</td><td>0.00545671</td><td>0.0926184</td><td>5.765695</td><td>m2i</td></tr>\n",
       "<tr><td>HELP_J142124.634+523919.058</td><td>215.35264162821156</td><td>52.655293920582814</td><td>10</td><td>0.2346</td><td>0.1116</td><td>0.3506</td><td>0.574</td><td>0.4024</td><td>0.3587</td><td>0.434</td><td>0.119</td><td>0.2758794782719946</td><td>0.068781925</td><td>0.039115325</td><td>0.085653075</td><td>0.3371225</td><td>k0v</td></tr>\n",
       "<tr><td>...</td><td>...</td><td>...</td><td>...</td><td>...</td><td>...</td><td>...</td><td>...</td><td>...</td><td>...</td><td>...</td><td>...</td><td>...</td><td>...</td><td>...</td><td>...</td><td>...</td><td>...</td></tr>\n",
       "<tr><td>HELP_J141208.840+520414.659</td><td>213.0368334257345</td><td>52.07073853599059</td><td>1409883</td><td>0.6109</td><td>0.4954</td><td>0.7215</td><td>0.74</td><td>0.4187</td><td>0.4084</td><td>0.4297</td><td>0.034</td><td>0.6409223331305786</td><td>6.437084285714286</td><td>7.735181428571429</td><td>5.020698571428571</td><td>25.259442857142858</td><td>m2v</td></tr>\n",
       "<tr><td>HELP_J141825.165+515736.828</td><td>214.604852588233</td><td>51.96023010133997</td><td>1409884</td><td>1.2773</td><td>0.5044</td><td>2.0873</td><td>0.797</td><td>-99.0</td><td>-99.0</td><td>-99.0</td><td>-99.0</td><td>1.1876487655820742</td><td>4.638508</td><td>7.47856</td><td>7.152582</td><td>7.874588</td><td>a47iv</td></tr>\n",
       "<tr><td>HELP_J142353.479+525321.113</td><td>215.9728304357345</td><td>52.889198115990595</td><td>1409885</td><td>0.8915</td><td>0.7318</td><td>1.0543</td><td>0.793</td><td>-99.0</td><td>-99.0</td><td>-99.0</td><td>-99.0</td><td>0.9290274556241438</td><td>0.479408375</td><td>0.6519505</td><td>0.72598725</td><td>24.37385</td><td>m1v</td></tr>\n",
       "<tr><td>HELP_J142244.525+534343.490</td><td>215.685520625746</td><td>53.7287472135701</td><td>1409886</td><td>0.7668</td><td>0.4732</td><td>1.0915</td><td>0.571</td><td>1.3237</td><td>1.1358</td><td>1.5184</td><td>0.225</td><td>0.7370237368873575</td><td>0.7187038</td><td>2.28909</td><td>1.1771426</td><td>7.022502</td><td>m3v</td></tr>\n",
       "<tr><td>HELP_J142002.946+515546.084</td><td>215.0122737657345</td><td>51.929467865990595</td><td>1409887</td><td>0.3333</td><td>0.2089</td><td>0.4513</td><td>0.8</td><td>-99.0</td><td>-99.0</td><td>-99.0</td><td>-99.0</td><td>0.3425346811866232</td><td>0.7057915</td><td>0.602337875</td><td>0.8003085</td><td>10.1896025</td><td>wg5iii</td></tr>\n",
       "<tr><td>HELP_J142352.333+524729.641</td><td>215.9680523957345</td><td>52.7915669659906</td><td>1409888</td><td>0.7474</td><td>0.6021</td><td>0.889</td><td>0.789</td><td>-99.0</td><td>-99.0</td><td>-99.0</td><td>-99.0</td><td>0.7685256024616454</td><td>1.03091475</td><td>0.810291875</td><td>0.665984625</td><td>38.296</td><td>wg5iii</td></tr>\n",
       "<tr><td>HELP_J141749.058+514257.085</td><td>214.4544090757345</td><td>51.71585681599059</td><td>1409890</td><td>0.6521</td><td>0.5317</td><td>0.7738</td><td>0.792</td><td>-99.0</td><td>-99.0</td><td>-99.0</td><td>-99.0</td><td>0.6507826354303602</td><td>0.07191204</td><td>0.304054</td><td>0.16834842</td><td>12.36873</td><td>m2p5v</td></tr>\n",
       "<tr><td>HELP_J142210.881+522302.142</td><td>215.5453377357345</td><td>52.383928245990596</td><td>1409891</td><td>0.1461</td><td>0.0565</td><td>0.2419</td><td>0.708</td><td>0.0315</td><td>0.0192</td><td>0.0439</td><td>0.071</td><td>0.08532365580152321</td><td>2.727012857142857</td><td>2.768932857142857</td><td>2.0134314285714288</td><td>14.159622857142859</td><td>wg5v</td></tr>\n",
       "<tr><td>HELP_J142411.545+524707.318</td><td>216.048105625746</td><td>52.7853662135701</td><td>1409893</td><td>0.6079</td><td>0.4865</td><td>0.7318</td><td>0.794</td><td>-99.0</td><td>-99.0</td><td>-99.0</td><td>-99.0</td><td>0.606872782679902</td><td>1.5107034000000001</td><td>1.2261438</td><td>0.7836124</td><td>8.561204</td><td>m3ii</td></tr>\n",
       "<tr><td>HELP_J141505.314+515819.053</td><td>213.77214140424604</td><td>51.97195917179327</td><td>1409894</td><td>0.3973</td><td>0.1909</td><td>0.6069</td><td>0.795</td><td>-99.0</td><td>-99.0</td><td>-99.0</td><td>-99.0</td><td>0.39584643832634897</td><td>-99.0</td><td>-99.0</td><td>-99.0</td><td>-99.0</td><td></td></tr>\n",
       "</table>"
      ],
      "text/plain": [
       "<Table length=1183490>\n",
       "          help_id                   RA         ... stellar_type\n",
       "          bytes27                float64       ...    bytes6   \n",
       "--------------------------- ------------------ ... ------------\n",
       "HELP_J141604.525+522314.318 214.01885343855852 ...          k4i\n",
       "HELP_J141625.630+515253.992 214.10679106334706 ...          m2v\n",
       "HELP_J141911.366+530320.518 214.79735831765808 ...        k5iii\n",
       "HELP_J141525.065+522526.822 213.85443844608528 ...       wg8iii\n",
       "HELP_J141943.168+523158.983 214.92986686469408 ...         rk0v\n",
       "HELP_J141848.923+525921.139 214.70384569336562 ...       wk3iii\n",
       "HELP_J142111.698+522044.991 215.29874092601307 ...        m3iii\n",
       "HELP_J141322.317+522430.572  213.3429865295886 ...       wk3iii\n",
       "HELP_J141553.974+523158.605 213.97489187629904 ...          m2i\n",
       "HELP_J142124.634+523919.058 215.35264162821156 ...          k0v\n",
       "                        ...                ... ...          ...\n",
       "HELP_J141208.840+520414.659  213.0368334257345 ...          m2v\n",
       "HELP_J141825.165+515736.828   214.604852588233 ...        a47iv\n",
       "HELP_J142353.479+525321.113  215.9728304357345 ...          m1v\n",
       "HELP_J142244.525+534343.490   215.685520625746 ...          m3v\n",
       "HELP_J142002.946+515546.084  215.0122737657345 ...       wg5iii\n",
       "HELP_J142352.333+524729.641  215.9680523957345 ...       wg5iii\n",
       "HELP_J141749.058+514257.085  214.4544090757345 ...        m2p5v\n",
       "HELP_J142210.881+522302.142  215.5453377357345 ...         wg5v\n",
       "HELP_J142411.545+524707.318   216.048105625746 ...         m3ii\n",
       "HELP_J141505.314+515819.053 213.77214140424604 ...             "
      ]
     },
     "execution_count": 5,
     "metadata": {},
     "output_type": "execute_result"
    }
   ],
   "source": [
    "photoz"
   ]
  },
  {
   "cell_type": "markdown",
   "metadata": {},
   "source": [
    "## Join CIGALE and photoz tables"
   ]
  },
  {
   "cell_type": "code",
   "execution_count": 9,
   "metadata": {
    "collapsed": true
   },
   "outputs": [],
   "source": [
    "prior=join(cigale,photoz)"
   ]
  },
  {
   "cell_type": "code",
   "execution_count": 10,
   "metadata": {
    "collapsed": true
   },
   "outputs": [
    {
     "ename": "KeyError",
     "evalue": "'bayes.dust.luminosity'",
     "output_type": "error",
     "traceback": [
      "\u001b[0;31m---------------------------------------------------------------------------\u001b[0m",
      "\u001b[0;31mKeyError\u001b[0m                                  Traceback (most recent call last)",
      "\u001b[0;32m<ipython-input-10-eeac5d3aa637>\u001b[0m in \u001b[0;36m<module>\u001b[0;34m\u001b[0m\n\u001b[1;32m      1\u001b[0m \u001b[0;32mfrom\u001b[0m \u001b[0mastropy\u001b[0m\u001b[0;34m.\u001b[0m\u001b[0mcosmology\u001b[0m \u001b[0;32mimport\u001b[0m \u001b[0mPlanck15\u001b[0m \u001b[0;32mas\u001b[0m \u001b[0mcosmo\u001b[0m\u001b[0;34m\u001b[0m\u001b[0;34m\u001b[0m\u001b[0m\n\u001b[1;32m      2\u001b[0m \u001b[0;32mfrom\u001b[0m \u001b[0mastropy\u001b[0m \u001b[0;32mimport\u001b[0m \u001b[0munits\u001b[0m \u001b[0;32mas\u001b[0m \u001b[0mu\u001b[0m\u001b[0;34m\u001b[0m\u001b[0;34m\u001b[0m\u001b[0m\n\u001b[0;32m----> 3\u001b[0;31m \u001b[0mf_pred\u001b[0m\u001b[0;34m=\u001b[0m\u001b[0mprior\u001b[0m\u001b[0;34m[\u001b[0m\u001b[0;34m'bayes.dust.luminosity'\u001b[0m\u001b[0;34m]\u001b[0m\u001b[0;34m/\u001b[0m\u001b[0;34m(\u001b[0m\u001b[0;36m4\u001b[0m\u001b[0;34m*\u001b[0m\u001b[0mnp\u001b[0m\u001b[0;34m.\u001b[0m\u001b[0mpi\u001b[0m\u001b[0;34m*\u001b[0m\u001b[0mcosmo\u001b[0m\u001b[0;34m.\u001b[0m\u001b[0mluminosity_distance\u001b[0m\u001b[0;34m(\u001b[0m\u001b[0mprior\u001b[0m\u001b[0;34m[\u001b[0m\u001b[0;34m'z1_median'\u001b[0m\u001b[0;34m]\u001b[0m\u001b[0;34m)\u001b[0m\u001b[0;34m.\u001b[0m\u001b[0mto\u001b[0m\u001b[0;34m(\u001b[0m\u001b[0mu\u001b[0m\u001b[0;34m.\u001b[0m\u001b[0mcm\u001b[0m\u001b[0;34m)\u001b[0m\u001b[0;34m)\u001b[0m\u001b[0;34m\u001b[0m\u001b[0;34m\u001b[0m\u001b[0m\n\u001b[0m",
      "\u001b[0;32m~/anaconda3/lib/python3.6/site-packages/astropy/table/table.py\u001b[0m in \u001b[0;36m__getitem__\u001b[0;34m(self, item)\u001b[0m\n\u001b[1;32m   1344\u001b[0m     \u001b[0;32mdef\u001b[0m \u001b[0m__getitem__\u001b[0m\u001b[0;34m(\u001b[0m\u001b[0mself\u001b[0m\u001b[0;34m,\u001b[0m \u001b[0mitem\u001b[0m\u001b[0;34m)\u001b[0m\u001b[0;34m:\u001b[0m\u001b[0;34m\u001b[0m\u001b[0;34m\u001b[0m\u001b[0m\n\u001b[1;32m   1345\u001b[0m         \u001b[0;32mif\u001b[0m \u001b[0misinstance\u001b[0m\u001b[0;34m(\u001b[0m\u001b[0mitem\u001b[0m\u001b[0;34m,\u001b[0m \u001b[0mstr\u001b[0m\u001b[0;34m)\u001b[0m\u001b[0;34m:\u001b[0m\u001b[0;34m\u001b[0m\u001b[0;34m\u001b[0m\u001b[0m\n\u001b[0;32m-> 1346\u001b[0;31m             \u001b[0;32mreturn\u001b[0m \u001b[0mself\u001b[0m\u001b[0;34m.\u001b[0m\u001b[0mcolumns\u001b[0m\u001b[0;34m[\u001b[0m\u001b[0mitem\u001b[0m\u001b[0;34m]\u001b[0m\u001b[0;34m\u001b[0m\u001b[0;34m\u001b[0m\u001b[0m\n\u001b[0m\u001b[1;32m   1347\u001b[0m         \u001b[0;32melif\u001b[0m \u001b[0misinstance\u001b[0m\u001b[0;34m(\u001b[0m\u001b[0mitem\u001b[0m\u001b[0;34m,\u001b[0m \u001b[0;34m(\u001b[0m\u001b[0mint\u001b[0m\u001b[0;34m,\u001b[0m \u001b[0mnp\u001b[0m\u001b[0;34m.\u001b[0m\u001b[0minteger\u001b[0m\u001b[0;34m)\u001b[0m\u001b[0;34m)\u001b[0m\u001b[0;34m:\u001b[0m\u001b[0;34m\u001b[0m\u001b[0;34m\u001b[0m\u001b[0m\n\u001b[1;32m   1348\u001b[0m             \u001b[0;32mreturn\u001b[0m \u001b[0mself\u001b[0m\u001b[0;34m.\u001b[0m\u001b[0mRow\u001b[0m\u001b[0;34m(\u001b[0m\u001b[0mself\u001b[0m\u001b[0;34m,\u001b[0m \u001b[0mitem\u001b[0m\u001b[0;34m)\u001b[0m\u001b[0;34m\u001b[0m\u001b[0;34m\u001b[0m\u001b[0m\n",
      "\u001b[0;32m~/anaconda3/lib/python3.6/site-packages/astropy/table/table.py\u001b[0m in \u001b[0;36m__getitem__\u001b[0;34m(self, item)\u001b[0m\n\u001b[1;32m    188\u001b[0m         \"\"\"\n\u001b[1;32m    189\u001b[0m         \u001b[0;32mif\u001b[0m \u001b[0misinstance\u001b[0m\u001b[0;34m(\u001b[0m\u001b[0mitem\u001b[0m\u001b[0;34m,\u001b[0m \u001b[0mstr\u001b[0m\u001b[0;34m)\u001b[0m\u001b[0;34m:\u001b[0m\u001b[0;34m\u001b[0m\u001b[0;34m\u001b[0m\u001b[0m\n\u001b[0;32m--> 190\u001b[0;31m             \u001b[0;32mreturn\u001b[0m \u001b[0mOrderedDict\u001b[0m\u001b[0;34m.\u001b[0m\u001b[0m__getitem__\u001b[0m\u001b[0;34m(\u001b[0m\u001b[0mself\u001b[0m\u001b[0;34m,\u001b[0m \u001b[0mitem\u001b[0m\u001b[0;34m)\u001b[0m\u001b[0;34m\u001b[0m\u001b[0;34m\u001b[0m\u001b[0m\n\u001b[0m\u001b[1;32m    191\u001b[0m         \u001b[0;32melif\u001b[0m \u001b[0misinstance\u001b[0m\u001b[0;34m(\u001b[0m\u001b[0mitem\u001b[0m\u001b[0;34m,\u001b[0m \u001b[0;34m(\u001b[0m\u001b[0mint\u001b[0m\u001b[0;34m,\u001b[0m \u001b[0mnp\u001b[0m\u001b[0;34m.\u001b[0m\u001b[0minteger\u001b[0m\u001b[0;34m)\u001b[0m\u001b[0;34m)\u001b[0m\u001b[0;34m:\u001b[0m\u001b[0;34m\u001b[0m\u001b[0;34m\u001b[0m\u001b[0m\n\u001b[1;32m    192\u001b[0m             \u001b[0;32mreturn\u001b[0m \u001b[0mself\u001b[0m\u001b[0;34m.\u001b[0m\u001b[0mvalues\u001b[0m\u001b[0;34m(\u001b[0m\u001b[0;34m)\u001b[0m\u001b[0;34m[\u001b[0m\u001b[0mitem\u001b[0m\u001b[0;34m]\u001b[0m\u001b[0;34m\u001b[0m\u001b[0;34m\u001b[0m\u001b[0m\n",
      "\u001b[0;31mKeyError\u001b[0m: 'bayes.dust.luminosity'"
     ]
    }
   ],
   "source": [
    "from astropy.cosmology import Planck15 as cosmo\n",
    "from astropy import units as u\n",
    "f_pred=prior['bayes.dust.luminosity']/(4*np.pi*cosmo.luminosity_distance(prior['z1_median']).to(u.cm))"
   ]
  },
  {
   "cell_type": "code",
   "execution_count": 10,
   "metadata": {
    "collapsed": true
   },
   "outputs": [],
   "source": [
    "prior=prior[np.isfinite(f_pred.value)][np.log10(f_pred.value[np.isfinite(f_pred.value)])>8.5]"
   ]
  },
  {
   "cell_type": "code",
   "execution_count": 11,
   "metadata": {
    "collapsed": true
   },
   "outputs": [],
   "source": [
    "prior['DEC'].name='Dec'"
   ]
  },
  {
   "cell_type": "code",
   "execution_count": 13,
   "metadata": {},
   "outputs": [
    {
     "data": {
      "text/plain": [
       "4436690"
      ]
     },
     "execution_count": 13,
     "metadata": {},
     "output_type": "execute_result"
    }
   ],
   "source": [
    "len(cigale)"
   ]
  },
  {
   "cell_type": "markdown",
   "metadata": {},
   "source": [
    "## Read in Maps"
   ]
  },
  {
   "cell_type": "code",
   "execution_count": 14,
   "metadata": {
    "collapsed": true
   },
   "outputs": [],
   "source": [
    "pswfits='../../dmu19/dmu19_HELP-SPIRE-maps/data/HDF-N_SPIRE250_v1.0.fits'#SPIRE 250 map\n",
    "pmwfits='../../dmu19/dmu19_HELP-SPIRE-maps/data/HDF-N_SPIRE350_v1.0.fits'#SPIRE 350 map\n",
    "plwfits='../../dmu19/dmu19_HELP-SPIRE-maps/data/HDF-N_SPIRE500_v1.0.fits'#SPIRE 500 map\n",
    "\n",
    "#output folder\n",
    "output_folder='./'"
   ]
  },
  {
   "cell_type": "code",
   "execution_count": 15,
   "metadata": {
    "collapsed": true
   },
   "outputs": [],
   "source": [
    "from astropy.io import fits\n",
    "from astropy import wcs\n",
    "\n",
    "#-----250-------------\n",
    "hdulist = fits.open(pswfits)\n",
    "im250phdu=hdulist['PRIMARY'].header\n",
    "im250hdu=hdulist['IMAGE'].header\n",
    "\n",
    "im250=hdulist['IMAGE'].data*1.0E3 #convert to mJy\n",
    "nim250=hdulist['ERROR'].data*1.0E3 #convert to mJy\n",
    "w_250 = wcs.WCS(hdulist['IMAGE'].header)\n",
    "pixsize250=3600.0*w_250.wcs.cd[1,1] #pixel size (in arcseconds)\n",
    "hdulist.close()\n",
    "#-----350-------------\n",
    "hdulist = fits.open(pmwfits)\n",
    "im350phdu=hdulist['PRIMARY'].header\n",
    "im350hdu=hdulist['IMAGE'].header\n",
    "\n",
    "im350=hdulist['IMAGE'].data*1.0E3 #convert to mJy\n",
    "nim350=hdulist['ERROR'].data*1.0E3 #convert to mJy\n",
    "w_350 = wcs.WCS(hdulist['IMAGE'].header)\n",
    "pixsize350=3600.0*w_350.wcs.cd[1,1] #pixel size (in arcseconds)\n",
    "hdulist.close()\n",
    "#-----500-------------\n",
    "hdulist = fits.open(plwfits)\n",
    "im500phdu=hdulist['PRIMARY'].header\n",
    "im500hdu=hdulist['IMAGE'].header\n",
    "\n",
    "im500=hdulist['IMAGE'].data*1.0E3 #convert to mJy\n",
    "nim500=hdulist['ERROR'].data*1.0E3 #convert to mJy\n",
    "w_500 = wcs.WCS(hdulist['IMAGE'].header)\n",
    "pixsize500=3600.0*w_500.wcs.cd[1,1] #pixel size (in arcseconds)\n",
    "hdulist.close()"
   ]
  },
  {
   "cell_type": "code",
   "execution_count": 16,
   "metadata": {
    "collapsed": true
   },
   "outputs": [],
   "source": [
    "## Set XID+ prior class"
   ]
  },
  {
   "cell_type": "code",
   "execution_count": 17,
   "metadata": {
    "collapsed": true
   },
   "outputs": [],
   "source": [
    "#---prior250--------\n",
    "prior250=xidplus.prior(im250,nim250,im250phdu,im250hdu, moc=Sel_func)#Initialise with map, uncertianty map, wcs info and primary header\n",
    "prior250.prior_cat(prior['RA'] ,prior['Dec'] ,'hatlas_sgp_Ldust_prediction_results.fits',ID=prior['help_id'] )#Set input catalogue\n",
    "prior250.prior_bkg(-5.0,5)#Set prior on background (assumes Gaussian pdf with mu and sigma)\n",
    "#---prior350--------\n",
    "prior350=xidplus.prior(im350,nim350,im350phdu,im350hdu, moc=Sel_func)\n",
    "prior350.prior_cat(prior['RA'] ,prior['Dec'] ,'hatlas_sgp_Ldust_prediction_results.fits',ID=prior['help_id'] )\n",
    "prior350.prior_bkg(-5.0,5)\n",
    "\n",
    "#---prior500--------\n",
    "prior500=xidplus.prior(im500,nim500,im500phdu,im500hdu, moc=Sel_func)\n",
    "prior500.prior_cat(prior['RA'] ,prior['Dec'] ,'hatlas_sgp_Ldust_prediction_results.fits',ID=prior['help_id'] )\n",
    "prior500.prior_bkg(-5.0,5)"
   ]
  },
  {
   "cell_type": "code",
   "execution_count": 18,
   "metadata": {
    "collapsed": true
   },
   "outputs": [],
   "source": [
    "#pixsize array (size of pixels in arcseconds)\n",
    "pixsize=np.array([pixsize250,pixsize350,pixsize500])\n",
    "#point response function for the three bands\n",
    "prfsize=np.array([18.15,25.15,36.3])\n",
    "#use Gaussian2DKernel to create prf (requires stddev rather than fwhm hence pfwhm/2.355)\n",
    "from astropy.convolution import Gaussian2DKernel\n",
    "\n",
    "##---------fit using Gaussian beam-----------------------\n",
    "prf250=Gaussian2DKernel(prfsize[0]/2.355,x_size=101,y_size=101)\n",
    "prf250.normalize(mode='peak')\n",
    "prf350=Gaussian2DKernel(prfsize[1]/2.355,x_size=101,y_size=101)\n",
    "prf350.normalize(mode='peak')\n",
    "prf500=Gaussian2DKernel(prfsize[2]/2.355,x_size=101,y_size=101)\n",
    "prf500.normalize(mode='peak')\n",
    "\n",
    "pind250=np.arange(0,101,1)*1.0/pixsize[0,1] #get 250 scale in terms of pixel scale of map\n",
    "pind350=np.arange(0,101,1)*1.0/pixsize[1,1] #get 350 scale in terms of pixel scale of map\n",
    "pind500=np.arange(0,101,1)*1.0/pixsize[2,1] #get 500 scale in terms of pixel scale of map\n",
    "\n",
    "prior250.set_prf(prf250.array,pind250,pind250)#requires psf as 2d grid, and x and y bins for grid (in pixel scale)\n",
    "prior350.set_prf(prf350.array,pind350,pind350)\n",
    "prior500.set_prf(prf500.array,pind500,pind500)"
   ]
  },
  {
   "cell_type": "code",
   "execution_count": 19,
   "metadata": {},
   "outputs": [
    {
     "name": "stdout",
     "output_type": "stream",
     "text": [
      "----- There are 18279 tiles required for input catalogue and 379 large tiles\n",
      "writing total_bytes=5118646130...\n",
      "writing bytes [0, 1073741824)... done.\n",
      "writing bytes [1073741824, 2147483648)... done.\n",
      "writing bytes [2147483648, 3221225472)... done.\n",
      "writing bytes [3221225472, 4294967296)... done.\n",
      "writing bytes [4294967296, 5118646130)... done.\n"
     ]
    },
    {
     "ename": "SystemExit",
     "evalue": "",
     "output_type": "error",
     "traceback": [
      "An exception has occurred, use %tb to see the full traceback.\n",
      "\u001b[0;31mSystemExit\u001b[0m\n"
     ]
    }
   ],
   "source": [
    "import pickle\n",
    "#from moc, get healpix pixels at a given order\n",
    "from xidplus import moc_routines\n",
    "order=9\n",
    "tiles=moc_routines.get_HEALPix_pixels(order,prior250.sra,prior250.sdec,unique=True)\n",
    "order_large=6\n",
    "tiles_large=moc_routines.get_HEALPix_pixels(order_large,prior250.sra,prior250.sdec,unique=True)\n",
    "print('----- There are '+str(len(tiles))+' tiles required for input catalogue and '+str(len(tiles_large))+' large tiles')\n",
    "output_folder='./'\n",
    "outfile=output_folder+'Master_prior.pkl'\n",
    "xidplus.io.pickle_dump({'priors':[prior250,prior350,prior500],'tiles':tiles,'order':order,'version':xidplus.io.git_version()},outfile)\n",
    "outfile=output_folder+'Tiles.pkl'\n",
    "with open(outfile, 'wb') as f:\n",
    "    pickle.dump({'tiles':tiles,'order':order,'tiles_large':tiles_large,'order_large':order_large,'version':xidplus.io.git_version()},f)\n",
    "raise SystemExit()"
   ]
  },
  {
   "cell_type": "code",
   "execution_count": 57,
   "metadata": {},
   "outputs": [
    {
     "data": {
      "text/plain": [
       "1236678"
      ]
     },
     "execution_count": 57,
     "metadata": {},
     "output_type": "execute_result"
    }
   ],
   "source": [
    "prior250.nsrc"
   ]
  },
  {
   "cell_type": "code",
   "execution_count": null,
   "metadata": {
    "collapsed": true
   },
   "outputs": [],
   "source": []
  }
 ],
 "metadata": {
  "kernelspec": {
   "display_name": "Python 3",
   "language": "python",
   "name": "python3"
  },
  "language_info": {
   "codemirror_mode": {
    "name": "ipython",
    "version": 3
   },
   "file_extension": ".py",
   "mimetype": "text/x-python",
   "name": "python",
   "nbconvert_exporter": "python",
   "pygments_lexer": "ipython3",
   "version": "3.6.7"
  }
 },
 "nbformat": 4,
 "nbformat_minor": 2
}
