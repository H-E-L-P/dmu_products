{
 "cells": [
  {
   "cell_type": "code",
   "execution_count": 2,
   "metadata": {
    "collapsed": true
   },
   "outputs": [
    {
     "name": "stderr",
     "output_type": "stream",
     "text": [
      "WARNING: AstropyDeprecationWarning: astropy.extern.six will be removed in 4.0, use the six module directly if it is still needed [astropy.extern.six]\n"
     ]
    }
   ],
   "source": [
    "import pylab as plt\n",
    "import pymoc\n",
    "import xidplus\n",
    "import numpy as np\n",
    "%matplotlib inline\n",
    "from astropy.table import Table, join"
   ]
  },
  {
   "cell_type": "code",
   "execution_count": 3,
   "metadata": {
    "collapsed": true
   },
   "outputs": [],
   "source": [
    "import seaborn as sns"
   ]
  },
  {
   "cell_type": "markdown",
   "metadata": {},
   "source": [
    "This notebook uses all the raw data from the CIGALE predictions and photoz catalogue, maps, PSF and relevant MOCs to create XID+ prior object and relevant tiling scheme"
   ]
  },
  {
   "cell_type": "markdown",
   "metadata": {},
   "source": [
    "## Read in MOCs\n",
    "The selection functions required are the main MOC associated with the masterlist. "
   ]
  },
  {
   "cell_type": "code",
   "execution_count": 4,
   "metadata": {
    "collapsed": true
   },
   "outputs": [],
   "source": [
    "Sel_func=pymoc.MOC()\n",
    "Sel_func.read('../../dmu4/dmu4_sm_HDF-N/data/holes_HDF-N_irac1_O16_20190201_WARNING-MADE-WITH-Lockman-SWIRE-PARAMS.fits')"
   ]
  },
  {
   "cell_type": "markdown",
   "metadata": {},
   "source": [
    "## Read in CIGALE predictions catalogue"
   ]
  },
  {
   "cell_type": "code",
   "execution_count": 10,
   "metadata": {
    "collapsed": true
   },
   "outputs": [],
   "source": [
    "cigale=Table.read('../../dmu28/dmu28_HDF-N/data/')"
   ]
  },
  {
   "cell_type": "code",
   "execution_count": 11,
   "metadata": {
    "collapsed": true
   },
   "outputs": [],
   "source": [
    "cigale['id'].name = 'help_id'"
   ]
  },
  {
   "cell_type": "code",
   "execution_count": 13,
   "metadata": {},
   "outputs": [
    {
     "data": {
      "text/html": [
       "<i>Table length=115944</i>\n",
       "<table id=\"table139694387430792\" class=\"table-striped table-bordered table-condensed\">\n",
       "<thead><tr><th>help_id</th><th>ra</th><th>dec</th><th>ebv</th><th>redshift</th><th>stellarity</th><th>flag_gaia</th><th>mmt_u</th><th>mmt_u_err</th><th>megacam_u</th><th>megacam_u_err</th><th>cfht12k_b</th><th>cfht12k_b_err</th><th>mmt_g</th><th>mmt_g_err</th><th>suprime_g</th><th>suprime_g_err</th><th>90prime_g</th><th>90prime_g_err</th><th>megacam_g</th><th>megacam_g_err</th><th>gpc1_g</th><th>gpc1_g_err</th><th>acs_f606w</th><th>acs_f606w_err</th><th>suprime_r</th><th>suprime_r_err</th><th>gpc1_r</th><th>gpc1_r_err</th><th>megacam_r</th><th>megacam_r_err</th><th>90prime_r</th><th>90prime_r_err</th><th>suprime_rc</th><th>suprime_rc_err</th><th>cfht12k_r</th><th>cfht12k_r_err</th><th>gpc1_i</th><th>gpc1_i_err</th><th>megacam_i</th><th>megacam_i_err</th><th>suprime_i</th><th>suprime_i_err</th><th>mmt_i</th><th>mmt_i_err</th><th>acs_f814w</th><th>acs_f814w_err</th><th>cfht12k_i</th><th>cfht12k_i_err</th><th>gpc1_z</th><th>gpc1_z_err</th><th>megacam_z</th><th>megacam_z_err</th><th>suprime_z</th><th>suprime_z_err</th><th>mmt_z</th><th>mmt_z_err</th><th>mosaic_z</th><th>mosaic_z_err</th><th>gpc1_y</th><th>gpc1_y_err</th><th>suprime_y</th><th>suprime_y_err</th><th>nicmos_f110w</th><th>nicmos_f110w_err</th><th>wircs_j</th><th>wircs_j_err</th><th>omega2000_j</th><th>omega2000_j_err</th><th>ukidss_j</th><th>ukidss_j_err</th><th>newfirm_j3</th><th>newfirm_j3_err</th><th>newfirm_j1</th><th>newfirm_j1_err</th><th>newfirm_j2</th><th>newfirm_j2_err</th><th>wfc3_f125w</th><th>wfc3_f125w_err</th><th>wircam_j</th><th>wircam_j_err</th><th>wfc3_f140w</th><th>wfc3_f140w_err</th><th>wfc3_f160w</th><th>wfc3_f160w_err</th><th>nicmos_f160w</th><th>nicmos_f160w_err</th><th>wircam_h</th><th>wircam_h_err</th><th>newfirm_h2</th><th>newfirm_h2_err</th><th>newfirm_h1</th><th>newfirm_h1_err</th><th>omega2000_ks</th><th>omega2000_ks_err</th><th>newfirm_k</th><th>newfirm_k_err</th><th>wircs_k</th><th>wircs_k_err</th><th>moircs_ks</th><th>moircs_ks_err</th><th>wircam_ks</th><th>wircam_ks_err</th><th>irac_i1</th><th>irac_i1_err</th><th>irac_i2</th><th>irac_i2_err</th><th>irac_i3</th><th>irac_i3_err</th><th>irac_i4</th><th>irac_i4_err</th></tr></thead>\n",
       "<thead><tr><th></th><th>deg</th><th>deg</th><th></th><th></th><th></th><th></th><th></th><th></th><th></th><th></th><th></th><th></th><th></th><th></th><th></th><th></th><th>uJy</th><th>uJy</th><th></th><th></th><th></th><th></th><th>uJy</th><th>uJy</th><th></th><th></th><th></th><th></th><th></th><th></th><th>uJy</th><th>uJy</th><th></th><th></th><th></th><th></th><th></th><th></th><th></th><th></th><th></th><th></th><th></th><th></th><th>uJy</th><th>uJy</th><th></th><th></th><th></th><th></th><th></th><th></th><th></th><th></th><th></th><th></th><th>uJy</th><th>uJy</th><th></th><th></th><th></th><th></th><th></th><th></th><th></th><th></th><th></th><th></th><th></th><th></th><th>uJy</th><th>uJy</th><th>uJy</th><th>uJy</th><th>uJy</th><th>uJy</th><th>uJy</th><th>uJy</th><th></th><th></th><th>uJy</th><th>uJy</th><th>uJy</th><th>uJy</th><th></th><th></th><th></th><th></th><th>uJy</th><th>uJy</th><th>uJy</th><th>uJy</th><th></th><th></th><th>uJy</th><th>uJy</th><th></th><th></th><th></th><th></th><th></th><th></th><th></th><th></th><th></th><th></th><th></th><th></th><th></th><th></th></tr></thead>\n",
       "<thead><tr><th>bytes27</th><th>float64</th><th>float64</th><th>float64</th><th>float64</th><th>float64</th><th>int64</th><th>float64</th><th>float64</th><th>float64</th><th>float64</th><th>float64</th><th>float64</th><th>float64</th><th>float64</th><th>float32</th><th>float32</th><th>float32</th><th>float32</th><th>float64</th><th>float64</th><th>float64</th><th>float64</th><th>float64</th><th>float64</th><th>float32</th><th>float32</th><th>float64</th><th>float64</th><th>float64</th><th>float64</th><th>float32</th><th>float32</th><th>float64</th><th>float64</th><th>float64</th><th>float64</th><th>float64</th><th>float64</th><th>float64</th><th>float64</th><th>float32</th><th>float32</th><th>float64</th><th>float64</th><th>float64</th><th>float64</th><th>float64</th><th>float64</th><th>float64</th><th>float64</th><th>float64</th><th>float64</th><th>float32</th><th>float32</th><th>float64</th><th>float64</th><th>float32</th><th>float32</th><th>float64</th><th>float64</th><th>float32</th><th>float32</th><th>float64</th><th>float64</th><th>float64</th><th>float64</th><th>float64</th><th>float64</th><th>float32</th><th>float32</th><th>float64</th><th>float64</th><th>float64</th><th>float64</th><th>float64</th><th>float64</th><th>float64</th><th>float64</th><th>float64</th><th>float64</th><th>float64</th><th>float64</th><th>float64</th><th>float64</th><th>float64</th><th>float64</th><th>float64</th><th>float64</th><th>float64</th><th>float64</th><th>float64</th><th>float64</th><th>float64</th><th>float64</th><th>float64</th><th>float64</th><th>float64</th><th>float64</th><th>float64</th><th>float64</th><th>float64</th><th>float64</th><th>float64</th><th>float64</th><th>float64</th><th>float64</th><th>float64</th><th>float64</th><th>float64</th><th>float64</th></tr></thead>\n",
       "<tr><td>HELP_J141353.236+520956.472</td><td>213.47181730590532</td><td>52.16568666069597</td><td>0.017691252655112837</td><td>0.3081</td><td>0.05000000074505806</td><td>0</td><td>nan</td><td>nan</td><td>0.0025102467805714827</td><td>0.00016877766353845918</td><td>0.005034728115337867</td><td>6.920120403232445e-05</td><td>nan</td><td>nan</td><td>0.007976665</td><td>3.5745623e-05</td><td>nan</td><td>nan</td><td>0.008356210389620209</td><td>6.926718146100777e-05</td><td>nan</td><td>nan</td><td>nan</td><td>nan</td><td>nan</td><td>nan</td><td>nan</td><td>nan</td><td>0.02983831503352342</td><td>0.00013741052646954512</td><td>nan</td><td>nan</td><td>nan</td><td>nan</td><td>0.036478070969930776</td><td>8.405970695254416e-05</td><td>nan</td><td>nan</td><td>0.05155031126085158</td><td>0.00018991837879266547</td><td>nan</td><td>nan</td><td>nan</td><td>nan</td><td>nan</td><td>nan</td><td>0.06353562809041798</td><td>0.00017013777118318288</td><td>nan</td><td>nan</td><td>0.06764226764912255</td><td>0.0003738050068799751</td><td>nan</td><td>nan</td><td>nan</td><td>nan</td><td>nan</td><td>nan</td><td>nan</td><td>nan</td><td>0.08337247</td><td>0.00040462255</td><td>nan</td><td>nan</td><td>nan</td><td>nan</td><td>nan</td><td>nan</td><td>0.09833587</td><td>0.014159142</td><td>nan</td><td>nan</td><td>nan</td><td>nan</td><td>nan</td><td>nan</td><td>nan</td><td>nan</td><td>nan</td><td>nan</td><td>nan</td><td>nan</td><td>nan</td><td>nan</td><td>nan</td><td>nan</td><td>nan</td><td>nan</td><td>nan</td><td>nan</td><td>nan</td><td>nan</td><td>nan</td><td>nan</td><td>nan</td><td>nan</td><td>0.19699217117942414</td><td>0.0018143649260506873</td><td>nan</td><td>nan</td><td>nan</td><td>nan</td><td>nan</td><td>nan</td><td>nan</td><td>nan</td><td>nan</td><td>nan</td><td>nan</td><td>nan</td></tr>\n",
       "<tr><td>HELP_J141353.694+520941.613</td><td>213.4737261971912</td><td>52.161559222027165</td><td>0.017582207549654148</td><td>0.3868</td><td>0.05000000074505806</td><td>0</td><td>nan</td><td>nan</td><td>0.003217479477789976</td><td>0.0002548531104481642</td><td>0.008834789449106248</td><td>7.213999308590089e-05</td><td>nan</td><td>nan</td><td>0.014387285</td><td>4.043895e-05</td><td>nan</td><td>nan</td><td>0.017711354191746416</td><td>9.787655821077576e-05</td><td>nan</td><td>nan</td><td>nan</td><td>nan</td><td>nan</td><td>nan</td><td>nan</td><td>nan</td><td>0.07149300478254714</td><td>0.00019754246308702466</td><td>nan</td><td>nan</td><td>nan</td><td>nan</td><td>0.07310872134384977</td><td>8.777467609791957e-05</td><td>nan</td><td>nan</td><td>0.12443673193867348</td><td>0.0002292209580107236</td><td>nan</td><td>nan</td><td>nan</td><td>nan</td><td>nan</td><td>nan</td><td>0.1268425918331667</td><td>0.00019193052172308115</td><td>nan</td><td>nan</td><td>0.16075162441571442</td><td>0.000592230871608175</td><td>nan</td><td>nan</td><td>nan</td><td>nan</td><td>nan</td><td>nan</td><td>nan</td><td>nan</td><td>0.178287</td><td>0.00046187683</td><td>nan</td><td>nan</td><td>nan</td><td>nan</td><td>nan</td><td>nan</td><td>0.27188143</td><td>0.018512087</td><td>nan</td><td>nan</td><td>nan</td><td>nan</td><td>nan</td><td>nan</td><td>nan</td><td>nan</td><td>nan</td><td>nan</td><td>nan</td><td>nan</td><td>nan</td><td>nan</td><td>nan</td><td>nan</td><td>nan</td><td>nan</td><td>nan</td><td>nan</td><td>nan</td><td>nan</td><td>nan</td><td>nan</td><td>nan</td><td>nan</td><td>0.4885097781630402</td><td>0.004499341053894247</td><td>nan</td><td>nan</td><td>nan</td><td>nan</td><td>nan</td><td>nan</td><td>nan</td><td>nan</td><td>nan</td><td>nan</td><td>nan</td><td>nan</td></tr>\n",
       "<tr><td>HELP_J141354.107+520654.968</td><td>213.47544479124258</td><td>52.11526895492435</td><td>0.017489113555288063</td><td>0.449</td><td>0.05000000074505806</td><td>0</td><td>nan</td><td>nan</td><td>0.006185069738460403</td><td>0.00016520313451279505</td><td>0.009731125949348997</td><td>7.054629150198071e-05</td><td>nan</td><td>nan</td><td>0.01036938</td><td>4.2910804e-05</td><td>nan</td><td>nan</td><td>0.010030383935392828</td><td>6.466827722937418e-05</td><td>nan</td><td>nan</td><td>nan</td><td>nan</td><td>nan</td><td>nan</td><td>nan</td><td>nan</td><td>0.023975543533029046</td><td>0.000132493745108546</td><td>nan</td><td>nan</td><td>nan</td><td>nan</td><td>0.02807771434691996</td><td>7.815982880808733e-05</td><td>nan</td><td>nan</td><td>0.032664602036535394</td><td>0.0001504260443586476</td><td>nan</td><td>nan</td><td>nan</td><td>nan</td><td>nan</td><td>nan</td><td>0.0374458640040078</td><td>0.00015450172852178714</td><td>nan</td><td>nan</td><td>0.037748686603182764</td><td>0.0003824460800284743</td><td>nan</td><td>nan</td><td>nan</td><td>nan</td><td>nan</td><td>nan</td><td>nan</td><td>nan</td><td>0.04707538</td><td>0.00047148883</td><td>nan</td><td>nan</td><td>nan</td><td>nan</td><td>nan</td><td>nan</td><td>0.038048573</td><td>0.011132006</td><td>nan</td><td>nan</td><td>nan</td><td>nan</td><td>nan</td><td>nan</td><td>nan</td><td>nan</td><td>nan</td><td>nan</td><td>nan</td><td>nan</td><td>nan</td><td>nan</td><td>nan</td><td>nan</td><td>nan</td><td>nan</td><td>nan</td><td>nan</td><td>nan</td><td>nan</td><td>nan</td><td>nan</td><td>nan</td><td>nan</td><td>0.0667514138024576</td><td>0.003233139452343427</td><td>nan</td><td>nan</td><td>nan</td><td>nan</td><td>nan</td><td>nan</td><td>nan</td><td>nan</td><td>nan</td><td>nan</td><td>nan</td><td>nan</td></tr>\n",
       "<tr><td>HELP_J141354.470+520930.989</td><td>213.47695827169156</td><td>52.158608181322236</td><td>0.01748441090134467</td><td>0.4295</td><td>0.05000000074505806</td><td>0</td><td>nan</td><td>nan</td><td>0.0036119007968960833</td><td>0.0002328678618357175</td><td>0.00578302481867345</td><td>8.151146260085375e-05</td><td>nan</td><td>nan</td><td>0.010574359</td><td>4.526067e-05</td><td>nan</td><td>nan</td><td>0.011537451292309849</td><td>8.50110793926625e-05</td><td>nan</td><td>nan</td><td>nan</td><td>nan</td><td>nan</td><td>nan</td><td>nan</td><td>nan</td><td>0.041972461598977204</td><td>0.00019329031672325896</td><td>nan</td><td>nan</td><td>nan</td><td>nan</td><td>0.04484943303141859</td><td>9.794215534225542e-05</td><td>nan</td><td>nan</td><td>0.07650214835432616</td><td>0.000211383251503033</td><td>nan</td><td>nan</td><td>nan</td><td>nan</td><td>nan</td><td>nan</td><td>0.08466819689021084</td><td>0.00018551751902599588</td><td>nan</td><td>nan</td><td>0.10502650707019526</td><td>0.0005803979355018941</td><td>nan</td><td>nan</td><td>nan</td><td>nan</td><td>nan</td><td>nan</td><td>nan</td><td>nan</td><td>0.13392791</td><td>0.00052882906</td><td>nan</td><td>nan</td><td>nan</td><td>nan</td><td>nan</td><td>nan</td><td>0.18746038</td><td>0.02548785</td><td>nan</td><td>nan</td><td>nan</td><td>nan</td><td>nan</td><td>nan</td><td>nan</td><td>nan</td><td>nan</td><td>nan</td><td>nan</td><td>nan</td><td>nan</td><td>nan</td><td>nan</td><td>nan</td><td>nan</td><td>nan</td><td>nan</td><td>nan</td><td>nan</td><td>nan</td><td>nan</td><td>nan</td><td>nan</td><td>nan</td><td>0.40988252858103497</td><td>0.0037751576447943315</td><td>nan</td><td>nan</td><td>nan</td><td>nan</td><td>nan</td><td>nan</td><td>nan</td><td>nan</td><td>nan</td><td>nan</td><td>nan</td><td>nan</td></tr>\n",
       "<tr><td>HELP_J141355.122+520300.321</td><td>213.4796737257345</td><td>52.05008918599059</td><td>0.01861878555735946</td><td>0.052</td><td>0.9938650131225586</td><td>3</td><td>nan</td><td>nan</td><td>0.0065981316532833885</td><td>0.0001336962729464993</td><td>0.030419067995637036</td><td>4.4280303088985424e-05</td><td>nan</td><td>nan</td><td>nan</td><td>nan</td><td>nan</td><td>nan</td><td>0.04456078059532428</td><td>8.208399127597234e-05</td><td>nan</td><td>nan</td><td>nan</td><td>nan</td><td>nan</td><td>nan</td><td>nan</td><td>nan</td><td>0.12283333003266615</td><td>0.00011313368423665838</td><td>nan</td><td>nan</td><td>nan</td><td>nan</td><td>0.1457290969095835</td><td>5.0998915559644085e-05</td><td>nan</td><td>nan</td><td>0.2036738041718777</td><td>0.0001875905233393846</td><td>nan</td><td>nan</td><td>nan</td><td>nan</td><td>nan</td><td>nan</td><td>0.23379269300398425</td><td>9.334493031889708e-05</td><td>nan</td><td>nan</td><td>0.24163176085478788</td><td>0.0004451021862511721</td><td>nan</td><td>nan</td><td>nan</td><td>nan</td><td>nan</td><td>nan</td><td>0.24672589031113737</td><td>0.003675427302087593</td><td>nan</td><td>nan</td><td>nan</td><td>nan</td><td>nan</td><td>nan</td><td>nan</td><td>nan</td><td>0.31835648</td><td>0.011431674</td><td>nan</td><td>nan</td><td>nan</td><td>nan</td><td>nan</td><td>nan</td><td>nan</td><td>nan</td><td>nan</td><td>nan</td><td>nan</td><td>nan</td><td>nan</td><td>nan</td><td>nan</td><td>nan</td><td>nan</td><td>nan</td><td>nan</td><td>nan</td><td>nan</td><td>nan</td><td>nan</td><td>nan</td><td>nan</td><td>nan</td><td>0.3377691078345251</td><td>0.0031109682801291733</td><td>nan</td><td>nan</td><td>nan</td><td>nan</td><td>nan</td><td>nan</td><td>nan</td><td>nan</td><td>nan</td><td>nan</td><td>nan</td><td>nan</td></tr>\n",
       "<tr><td>HELP_J141356.014+520532.964</td><td>213.48338966115014</td><td>52.09248996809682</td><td>0.017778399586687647</td><td>0.0323</td><td>1.0</td><td>3</td><td>nan</td><td>nan</td><td>0.012287869717894348</td><td>0.00012449301763396145</td><td>0.02091991511044528</td><td>4.160779727476201e-05</td><td>nan</td><td>nan</td><td>0.019234564</td><td>2.3762148e-05</td><td>nan</td><td>nan</td><td>0.020442596384297716</td><td>5.6484984161592014e-05</td><td>nan</td><td>nan</td><td>nan</td><td>nan</td><td>nan</td><td>nan</td><td>nan</td><td>nan</td><td>0.02549543700131131</td><td>9.392866651082053e-05</td><td>nan</td><td>nan</td><td>nan</td><td>nan</td><td>0.027549533789671236</td><td>5.27813349857862e-05</td><td>nan</td><td>nan</td><td>0.028151221142201675</td><td>0.00010371294036168877</td><td>nan</td><td>nan</td><td>nan</td><td>nan</td><td>nan</td><td>nan</td><td>0.030263189293515264</td><td>0.00010041234968415022</td><td>nan</td><td>nan</td><td>0.027788733135089037</td><td>0.0002559436912465991</td><td>nan</td><td>nan</td><td>nan</td><td>nan</td><td>nan</td><td>nan</td><td>nan</td><td>nan</td><td>0.02724376</td><td>0.00019415595</td><td>nan</td><td>nan</td><td>nan</td><td>nan</td><td>nan</td><td>nan</td><td>0.037391968</td><td>0.009667568</td><td>nan</td><td>nan</td><td>nan</td><td>nan</td><td>nan</td><td>nan</td><td>nan</td><td>nan</td><td>nan</td><td>nan</td><td>nan</td><td>nan</td><td>nan</td><td>nan</td><td>nan</td><td>nan</td><td>nan</td><td>nan</td><td>nan</td><td>nan</td><td>nan</td><td>nan</td><td>nan</td><td>nan</td><td>nan</td><td>nan</td><td>0.012902111904761362</td><td>0.002494111210929408</td><td>nan</td><td>nan</td><td>nan</td><td>nan</td><td>nan</td><td>nan</td><td>nan</td><td>nan</td><td>nan</td><td>nan</td><td>nan</td><td>nan</td></tr>\n",
       "<tr><td>HELP_J141356.050+520943.625</td><td>213.48354342677763</td><td>52.16211795084214</td><td>0.017469952809807426</td><td>0.4113</td><td>0.05000000074505806</td><td>0</td><td>nan</td><td>nan</td><td>0.014973030499677758</td><td>0.00022065073660974013</td><td>0.027350871180226746</td><td>8.936260062254842e-05</td><td>nan</td><td>nan</td><td>0.03140369</td><td>5.4601016e-05</td><td>nan</td><td>nan</td><td>0.02954533960316726</td><td>8.163678642452645e-05</td><td>nan</td><td>nan</td><td>nan</td><td>nan</td><td>nan</td><td>nan</td><td>nan</td><td>nan</td><td>0.07567446196284401</td><td>0.00020909627921731271</td><td>nan</td><td>nan</td><td>nan</td><td>nan</td><td>0.09444596555878913</td><td>0.0001105138342253131</td><td>nan</td><td>nan</td><td>0.10976469799135961</td><td>0.000202194061079096</td><td>nan</td><td>nan</td><td>nan</td><td>nan</td><td>nan</td><td>nan</td><td>0.14148528960716322</td><td>0.0002577573533393778</td><td>nan</td><td>nan</td><td>0.13246164360426993</td><td>0.00048800674872943547</td><td>nan</td><td>nan</td><td>nan</td><td>nan</td><td>nan</td><td>nan</td><td>nan</td><td>nan</td><td>0.18665706</td><td>0.0006190125</td><td>nan</td><td>nan</td><td>nan</td><td>nan</td><td>nan</td><td>nan</td><td>0.17800735</td><td>0.021140914</td><td>nan</td><td>nan</td><td>nan</td><td>nan</td><td>nan</td><td>nan</td><td>nan</td><td>nan</td><td>nan</td><td>nan</td><td>nan</td><td>nan</td><td>nan</td><td>nan</td><td>nan</td><td>nan</td><td>nan</td><td>nan</td><td>nan</td><td>nan</td><td>nan</td><td>nan</td><td>nan</td><td>nan</td><td>nan</td><td>nan</td><td>0.38709496243814673</td><td>0.003565276122572941</td><td>nan</td><td>nan</td><td>nan</td><td>nan</td><td>nan</td><td>nan</td><td>nan</td><td>nan</td><td>nan</td><td>nan</td><td>nan</td><td>nan</td></tr>\n",
       "<tr><td>HELP_J141356.939+520312.806</td><td>213.4872439157345</td><td>52.05355734599059</td><td>0.01868165275516151</td><td>0.0057</td><td>1.0</td><td>3</td><td>nan</td><td>nan</td><td>0.15063872668637288</td><td>0.00027748678846298833</td><td>0.5387284401419228</td><td>4.7250669505921856e-05</td><td>nan</td><td>nan</td><td>nan</td><td>nan</td><td>nan</td><td>nan</td><td>0.5202876017926328</td><td>0.0004792026222052642</td><td>nan</td><td>nan</td><td>nan</td><td>nan</td><td>nan</td><td>nan</td><td>nan</td><td>nan</td><td>0.8514920744208115</td><td>0.0007842532956919542</td><td>nan</td><td>nan</td><td>nan</td><td>nan</td><td>0.832311216002419</td><td>0.00013312011675171515</td><td>nan</td><td>nan</td><td>0.9776499911054183</td><td>0.000900449007127738</td><td>nan</td><td>nan</td><td>nan</td><td>nan</td><td>nan</td><td>nan</td><td>0.015074122646705795</td><td>nan</td><td>nan</td><td>nan</td><td>1.1890229513145105</td><td>0.001095130615341032</td><td>nan</td><td>nan</td><td>nan</td><td>nan</td><td>nan</td><td>nan</td><td>1.3207054913518188</td><td>0.012497444171022602</td><td>nan</td><td>nan</td><td>nan</td><td>nan</td><td>nan</td><td>nan</td><td>nan</td><td>nan</td><td>1.5335075</td><td>0.0123451585</td><td>nan</td><td>nan</td><td>nan</td><td>nan</td><td>nan</td><td>nan</td><td>nan</td><td>nan</td><td>nan</td><td>nan</td><td>nan</td><td>nan</td><td>nan</td><td>nan</td><td>nan</td><td>nan</td><td>nan</td><td>nan</td><td>nan</td><td>nan</td><td>nan</td><td>nan</td><td>nan</td><td>nan</td><td>nan</td><td>nan</td><td>1.3277279973174287</td><td>0.01222882588022092</td><td>nan</td><td>nan</td><td>nan</td><td>nan</td><td>nan</td><td>nan</td><td>nan</td><td>nan</td><td>nan</td><td>nan</td><td>nan</td><td>nan</td></tr>\n",
       "<tr><td>HELP_J141357.096+520542.481</td><td>213.4878981951246</td><td>52.09513366314892</td><td>0.017681090113370844</td><td>0.0319</td><td>0.9938650131225586</td><td>3</td><td>nan</td><td>nan</td><td>0.0058951893658977985</td><td>0.00012488241683677944</td><td>0.023515783384736266</td><td>3.996964848631872e-05</td><td>nan</td><td>nan</td><td>0.03434232</td><td>3.0345249e-05</td><td>nan</td><td>nan</td><td>0.03746230494150669</td><td>6.90081259660705e-05</td><td>nan</td><td>nan</td><td>nan</td><td>nan</td><td>nan</td><td>nan</td><td>nan</td><td>nan</td><td>0.10923543363945121</td><td>0.00020121912316621555</td><td>nan</td><td>nan</td><td>nan</td><td>nan</td><td>0.14071557972370446</td><td>4.5509997672057416e-05</td><td>nan</td><td>nan</td><td>0.25693495096911245</td><td>0.00023664584636075625</td><td>nan</td><td>nan</td><td>nan</td><td>nan</td><td>nan</td><td>nan</td><td>0.328375435339078</td><td>8.732039300969937e-05</td><td>nan</td><td>nan</td><td>0.3553142395657563</td><td>0.000327256491901864</td><td>nan</td><td>nan</td><td>nan</td><td>nan</td><td>nan</td><td>nan</td><td>nan</td><td>nan</td><td>0.42935818</td><td>0.0002504017</td><td>nan</td><td>nan</td><td>nan</td><td>nan</td><td>nan</td><td>nan</td><td>0.506952</td><td>0.0111635905</td><td>nan</td><td>nan</td><td>nan</td><td>nan</td><td>nan</td><td>nan</td><td>nan</td><td>nan</td><td>nan</td><td>nan</td><td>nan</td><td>nan</td><td>nan</td><td>nan</td><td>nan</td><td>nan</td><td>nan</td><td>nan</td><td>nan</td><td>nan</td><td>nan</td><td>nan</td><td>nan</td><td>nan</td><td>nan</td><td>nan</td><td>0.47381362117867465</td><td>0.00436398438590557</td><td>nan</td><td>nan</td><td>nan</td><td>nan</td><td>nan</td><td>nan</td><td>nan</td><td>nan</td><td>nan</td><td>nan</td><td>nan</td><td>nan</td></tr>\n",
       "<tr><td>...</td><td>...</td><td>...</td><td>...</td><td>...</td><td>...</td><td>...</td><td>...</td><td>...</td><td>...</td><td>...</td><td>...</td><td>...</td><td>...</td><td>...</td><td>...</td><td>...</td><td>...</td><td>...</td><td>...</td><td>...</td><td>...</td><td>...</td><td>...</td><td>...</td><td>...</td><td>...</td><td>...</td><td>...</td><td>...</td><td>...</td><td>...</td><td>...</td><td>...</td><td>...</td><td>...</td><td>...</td><td>...</td><td>...</td><td>...</td><td>...</td><td>...</td><td>...</td><td>...</td><td>...</td><td>...</td><td>...</td><td>...</td><td>...</td><td>...</td><td>...</td><td>...</td><td>...</td><td>...</td><td>...</td><td>...</td><td>...</td><td>...</td><td>...</td><td>...</td><td>...</td><td>...</td><td>...</td><td>...</td><td>...</td><td>...</td><td>...</td><td>...</td><td>...</td><td>...</td><td>...</td><td>...</td><td>...</td><td>...</td><td>...</td><td>...</td><td>...</td><td>...</td><td>...</td><td>...</td><td>...</td><td>...</td><td>...</td><td>...</td><td>...</td><td>...</td><td>...</td><td>...</td><td>...</td><td>...</td><td>...</td><td>...</td><td>...</td><td>...</td><td>...</td><td>...</td><td>...</td><td>...</td><td>...</td><td>...</td><td>...</td><td>...</td><td>...</td><td>...</td><td>...</td><td>...</td><td>...</td><td>...</td><td>...</td><td>...</td><td>...</td></tr>\n",
       "<tr><td>HELP_J142419.756+533339.693</td><td>216.0823164057345</td><td>53.561025885990595</td><td>0.009017765619866764</td><td>0.003</td><td>1.0</td><td>3</td><td>nan</td><td>nan</td><td>0.40604524935004593</td><td>0.0003739815127011545</td><td>0.9385809365837846</td><td>5.785207691120702e-05</td><td>nan</td><td>nan</td><td>nan</td><td>nan</td><td>nan</td><td>nan</td><td>0.6203742727001506</td><td>0.0005713858288687778</td><td>nan</td><td>nan</td><td>nan</td><td>nan</td><td>nan</td><td>nan</td><td>nan</td><td>nan</td><td>0.824825206854168</td><td>0.0007596921417335037</td><td>nan</td><td>nan</td><td>nan</td><td>nan</td><td>0.7793599610275471</td><td>5.276507705418598e-05</td><td>nan</td><td>nan</td><td>0.7312168504213388</td><td>0.0006734756449597955</td><td>nan</td><td>nan</td><td>nan</td><td>nan</td><td>nan</td><td>nan</td><td>0.5835020925281788</td><td>0.000245977931165808</td><td>nan</td><td>nan</td><td>0.9479998169053501</td><td>0.0008731401013846285</td><td>nan</td><td>nan</td><td>nan</td><td>nan</td><td>nan</td><td>nan</td><td>0.8988795450230371</td><td>0.011188222433979158</td><td>nan</td><td>nan</td><td>nan</td><td>nan</td><td>nan</td><td>nan</td><td>nan</td><td>nan</td><td>0.8656255</td><td>0.010939934</td><td>nan</td><td>nan</td><td>nan</td><td>nan</td><td>nan</td><td>nan</td><td>nan</td><td>nan</td><td>nan</td><td>nan</td><td>nan</td><td>nan</td><td>nan</td><td>nan</td><td>nan</td><td>nan</td><td>nan</td><td>nan</td><td>nan</td><td>nan</td><td>nan</td><td>nan</td><td>nan</td><td>nan</td><td>nan</td><td>nan</td><td>0.5323337939222212</td><td>0.004902975316878505</td><td>nan</td><td>nan</td><td>nan</td><td>nan</td><td>nan</td><td>nan</td><td>nan</td><td>nan</td><td>nan</td><td>nan</td><td>nan</td><td>nan</td></tr>\n",
       "<tr><td>HELP_J142419.846+533524.653</td><td>216.0826904357345</td><td>53.59018150599059</td><td>0.009657806132753544</td><td>0.648</td><td>0.595990002155304</td><td>0</td><td>nan</td><td>nan</td><td>0.000133952416576686</td><td>7.575209203345727e-05</td><td>0.0003460411281913018</td><td>5.440507842549798e-05</td><td>nan</td><td>nan</td><td>nan</td><td>nan</td><td>nan</td><td>nan</td><td>0.00066188194613582</td><td>4.5721184599251505e-05</td><td>nan</td><td>nan</td><td>nan</td><td>nan</td><td>nan</td><td>nan</td><td>nan</td><td>nan</td><td>0.0030214242447754404</td><td>8.348503730604883e-05</td><td>nan</td><td>nan</td><td>nan</td><td>nan</td><td>0.004107156466202014</td><td>5.022540403110423e-05</td><td>nan</td><td>nan</td><td>0.01001225808989526</td><td>0.00015676774130937102</td><td>nan</td><td>nan</td><td>nan</td><td>nan</td><td>nan</td><td>nan</td><td>0.013766572612625037</td><td>0.00023350534737673033</td><td>nan</td><td>nan</td><td>0.013464132163904925</td><td>0.00027282032344448306</td><td>nan</td><td>nan</td><td>nan</td><td>nan</td><td>nan</td><td>nan</td><td>0.028908194987993564</td><td>0.006577546701324052</td><td>nan</td><td>nan</td><td>nan</td><td>nan</td><td>nan</td><td>nan</td><td>nan</td><td>nan</td><td>0.03337727</td><td>0.010848724</td><td>nan</td><td>nan</td><td>nan</td><td>nan</td><td>nan</td><td>nan</td><td>nan</td><td>nan</td><td>nan</td><td>nan</td><td>nan</td><td>nan</td><td>nan</td><td>nan</td><td>nan</td><td>nan</td><td>nan</td><td>nan</td><td>nan</td><td>nan</td><td>nan</td><td>nan</td><td>nan</td><td>nan</td><td>nan</td><td>nan</td><td>0.06638567499026424</td><td>0.0017119802412595675</td><td>nan</td><td>nan</td><td>nan</td><td>nan</td><td>nan</td><td>nan</td><td>nan</td><td>nan</td><td>nan</td><td>nan</td><td>nan</td><td>nan</td></tr>\n",
       "<tr><td>HELP_J142420.010+533132.000</td><td>216.0833769457345</td><td>53.5255556859906</td><td>0.008784664650386619</td><td>0.3761</td><td>0.05000000074505806</td><td>0</td><td>nan</td><td>nan</td><td>0.005154022442826657</td><td>0.00013291684357829203</td><td>0.008879070781771664</td><td>9.227317696804287e-05</td><td>nan</td><td>nan</td><td>nan</td><td>nan</td><td>nan</td><td>nan</td><td>0.010488588651280958</td><td>7.728278208832736e-05</td><td>nan</td><td>nan</td><td>nan</td><td>nan</td><td>nan</td><td>nan</td><td>nan</td><td>nan</td><td>0.02643167196362681</td><td>0.0001460668075158846</td><td>nan</td><td>nan</td><td>nan</td><td>nan</td><td>0.031295285639936055</td><td>8.32140905039515e-05</td><td>nan</td><td>nan</td><td>0.0384652870970945</td><td>0.00024799486040963197</td><td>nan</td><td>nan</td><td>nan</td><td>nan</td><td>nan</td><td>nan</td><td>0.05629739921137849</td><td>0.0004205924146050151</td><td>nan</td><td>nan</td><td>0.04490287356527235</td><td>0.00041357070732991023</td><td>nan</td><td>nan</td><td>nan</td><td>nan</td><td>nan</td><td>nan</td><td>0.029704684282778674</td><td>0.004152716999782251</td><td>nan</td><td>nan</td><td>nan</td><td>nan</td><td>nan</td><td>nan</td><td>nan</td><td>nan</td><td>0.063270174</td><td>0.012105915</td><td>nan</td><td>nan</td><td>nan</td><td>nan</td><td>nan</td><td>nan</td><td>nan</td><td>nan</td><td>nan</td><td>nan</td><td>nan</td><td>nan</td><td>nan</td><td>nan</td><td>nan</td><td>nan</td><td>nan</td><td>nan</td><td>nan</td><td>nan</td><td>nan</td><td>nan</td><td>nan</td><td>nan</td><td>nan</td><td>nan</td><td>0.116947430282027</td><td>0.0010771256499408272</td><td>nan</td><td>nan</td><td>nan</td><td>nan</td><td>nan</td><td>nan</td><td>nan</td><td>nan</td><td>nan</td><td>nan</td><td>nan</td><td>nan</td></tr>\n",
       "<tr><td>HELP_J142420.580+533313.968</td><td>216.0857503957345</td><td>53.5538800559906</td><td>0.00893210858127856</td><td>0.006</td><td>1.0</td><td>3</td><td>nan</td><td>nan</td><td>0.31218866815099366</td><td>0.0005750728937577998</td><td>2.637125411218663</td><td>9.126112559238899e-05</td><td>nan</td><td>nan</td><td>nan</td><td>nan</td><td>nan</td><td>nan</td><td>1.1601925968983677</td><td>0.001068576933049204</td><td>nan</td><td>nan</td><td>nan</td><td>nan</td><td>nan</td><td>nan</td><td>nan</td><td>nan</td><td>2.404776715611584</td><td>0.002214881281708007</td><td>nan</td><td>nan</td><td>nan</td><td>nan</td><td>2.2326344701635112</td><td>9.601837759090084e-05</td><td>nan</td><td>nan</td><td>2.743981167655263</td><td>0.0025272999917583827</td><td>nan</td><td>nan</td><td>nan</td><td>nan</td><td>nan</td><td>nan</td><td>1.526390970900257</td><td>0.0004460211332462082</td><td>nan</td><td>nan</td><td>4.910874268990319</td><td>0.004523082291819621</td><td>nan</td><td>nan</td><td>nan</td><td>nan</td><td>nan</td><td>nan</td><td>7.971479075286753</td><td>0.026049428671429536</td><td>nan</td><td>nan</td><td>nan</td><td>nan</td><td>nan</td><td>nan</td><td>nan</td><td>nan</td><td>9.579922</td><td>0.018015381</td><td>nan</td><td>nan</td><td>nan</td><td>nan</td><td>nan</td><td>nan</td><td>nan</td><td>nan</td><td>nan</td><td>nan</td><td>nan</td><td>nan</td><td>nan</td><td>nan</td><td>nan</td><td>nan</td><td>nan</td><td>nan</td><td>nan</td><td>nan</td><td>nan</td><td>nan</td><td>nan</td><td>nan</td><td>nan</td><td>nan</td><td>8.599873798527607</td><td>0.07920775524891117</td><td>nan</td><td>nan</td><td>nan</td><td>nan</td><td>nan</td><td>nan</td><td>nan</td><td>nan</td><td>nan</td><td>nan</td><td>nan</td><td>nan</td></tr>\n",
       "<tr><td>HELP_J142420.843+533542.145</td><td>216.0868456157345</td><td>53.595040325990595</td><td>0.009830876162484169</td><td>0.6293</td><td>0.05000000074505806</td><td>0</td><td>nan</td><td>nan</td><td>0.0003948833361590681</td><td>0.00011856652935876673</td><td>0.0007500550096192724</td><td>6.892006460036989e-05</td><td>nan</td><td>nan</td><td>nan</td><td>nan</td><td>nan</td><td>nan</td><td>0.0024111886974937545</td><td>8.438989559349647e-05</td><td>nan</td><td>nan</td><td>nan</td><td>nan</td><td>nan</td><td>nan</td><td>nan</td><td>nan</td><td>0.01065584140714074</td><td>0.00015703029155119335</td><td>nan</td><td>nan</td><td>nan</td><td>nan</td><td>0.011608728810650936</td><td>6.749335632663064e-05</td><td>nan</td><td>nan</td><td>0.03331683406228296</td><td>0.0002454875252724351</td><td>nan</td><td>nan</td><td>nan</td><td>nan</td><td>nan</td><td>nan</td><td>0.04175801932387746</td><td>0.0003409647611527612</td><td>nan</td><td>nan</td><td>0.04980559764413734</td><td>0.0004128538752303449</td><td>nan</td><td>nan</td><td>nan</td><td>nan</td><td>nan</td><td>nan</td><td>0.05222371689820013</td><td>0.008970039505738405</td><td>nan</td><td>nan</td><td>nan</td><td>nan</td><td>nan</td><td>nan</td><td>nan</td><td>nan</td><td>0.07664783</td><td>0.012626637</td><td>nan</td><td>nan</td><td>nan</td><td>nan</td><td>nan</td><td>nan</td><td>nan</td><td>nan</td><td>nan</td><td>nan</td><td>nan</td><td>nan</td><td>nan</td><td>nan</td><td>nan</td><td>nan</td><td>nan</td><td>nan</td><td>nan</td><td>nan</td><td>nan</td><td>nan</td><td>nan</td><td>nan</td><td>nan</td><td>nan</td><td>0.21608200856518983</td><td>0.001990188856296563</td><td>nan</td><td>nan</td><td>nan</td><td>nan</td><td>nan</td><td>nan</td><td>nan</td><td>nan</td><td>nan</td><td>nan</td><td>nan</td><td>nan</td></tr>\n",
       "<tr><td>HELP_J142420.940+533222.726</td><td>216.0872495257345</td><td>53.53964609599059</td><td>0.00882105000343728</td><td>0.0427</td><td>1.0</td><td>3</td><td>nan</td><td>nan</td><td>0.058588567866756217</td><td>0.0001618861830705284</td><td>0.13693275895391588</td><td>5.343504153429509e-05</td><td>nan</td><td>nan</td><td>nan</td><td>nan</td><td>nan</td><td>nan</td><td>0.1348866632602047</td><td>0.00012423522650697923</td><td>nan</td><td>nan</td><td>nan</td><td>nan</td><td>nan</td><td>nan</td><td>nan</td><td>nan</td><td>0.2007066636682882</td><td>0.0001848576781649519</td><td>nan</td><td>nan</td><td>nan</td><td>nan</td><td>0.21039389627676372</td><td>4.531466073144417e-05</td><td>nan</td><td>nan</td><td>0.2420452512262733</td><td>0.00022293193134752912</td><td>nan</td><td>nan</td><td>nan</td><td>nan</td><td>nan</td><td>nan</td><td>0.24436118825754194</td><td>0.00025812026245750297</td><td>nan</td><td>nan</td><td>0.24182135955972311</td><td>0.0004454514232591819</td><td>nan</td><td>nan</td><td>nan</td><td>nan</td><td>nan</td><td>nan</td><td>0.230846421094431</td><td>0.00476326784651229</td><td>nan</td><td>nan</td><td>nan</td><td>nan</td><td>nan</td><td>nan</td><td>nan</td><td>nan</td><td>0.26236343</td><td>0.010216448</td><td>nan</td><td>nan</td><td>nan</td><td>nan</td><td>nan</td><td>nan</td><td>nan</td><td>nan</td><td>nan</td><td>nan</td><td>nan</td><td>nan</td><td>nan</td><td>nan</td><td>nan</td><td>nan</td><td>nan</td><td>nan</td><td>nan</td><td>nan</td><td>nan</td><td>nan</td><td>nan</td><td>nan</td><td>nan</td><td>nan</td><td>0.18366914088648684</td><td>0.0016916553543645787</td><td>nan</td><td>nan</td><td>nan</td><td>nan</td><td>nan</td><td>nan</td><td>nan</td><td>nan</td><td>nan</td><td>nan</td><td>nan</td><td>nan</td></tr>\n",
       "<tr><td>HELP_J142420.992+533109.582</td><td>216.0874655957345</td><td>53.519328195990596</td><td>0.008732893641381604</td><td>0.6723</td><td>0.9800000190734863</td><td>0</td><td>nan</td><td>nan</td><td>8.996027724683377e-05</td><td>6.123093743638879e-05</td><td>0.0004629798078163822</td><td>4.426070601630487e-05</td><td>nan</td><td>nan</td><td>nan</td><td>nan</td><td>nan</td><td>nan</td><td>0.0008991684087865379</td><td>4.223640173556115e-05</td><td>nan</td><td>nan</td><td>nan</td><td>nan</td><td>nan</td><td>nan</td><td>nan</td><td>nan</td><td>0.0027648522883358716</td><td>8.148873760337226e-05</td><td>nan</td><td>nan</td><td>nan</td><td>nan</td><td>0.003839805617628099</td><td>4.333915979940376e-05</td><td>nan</td><td>nan</td><td>0.011215794572848584</td><td>0.00011363140848039924</td><td>nan</td><td>nan</td><td>nan</td><td>nan</td><td>nan</td><td>nan</td><td>0.017319451776687454</td><td>0.00024651280553170357</td><td>nan</td><td>nan</td><td>0.016945098369786457</td><td>0.00020289117150132564</td><td>nan</td><td>nan</td><td>nan</td><td>nan</td><td>nan</td><td>nan</td><td>0.0411793163364163</td><td>0.008131325534330028</td><td>nan</td><td>nan</td><td>nan</td><td>nan</td><td>nan</td><td>nan</td><td>nan</td><td>nan</td><td>0.05331704</td><td>0.010481808</td><td>nan</td><td>nan</td><td>nan</td><td>nan</td><td>nan</td><td>nan</td><td>nan</td><td>nan</td><td>nan</td><td>nan</td><td>nan</td><td>nan</td><td>nan</td><td>nan</td><td>nan</td><td>nan</td><td>nan</td><td>nan</td><td>nan</td><td>nan</td><td>nan</td><td>nan</td><td>nan</td><td>nan</td><td>nan</td><td>nan</td><td>0.03700871868338363</td><td>0.0024880568453764388</td><td>nan</td><td>nan</td><td>nan</td><td>nan</td><td>nan</td><td>nan</td><td>nan</td><td>nan</td><td>nan</td><td>nan</td><td>nan</td><td>nan</td></tr>\n",
       "<tr><td>HELP_J142421.539+533538.388</td><td>216.08974688573448</td><td>53.59399654599059</td><td>0.009846088316635722</td><td>0.1953</td><td>0.05000000074505806</td><td>0</td><td>nan</td><td>nan</td><td>0.011038178249197853</td><td>0.00016266462098681297</td><td>0.020919825565643802</td><td>0.0001239188098802188</td><td>nan</td><td>nan</td><td>nan</td><td>nan</td><td>nan</td><td>nan</td><td>0.024972001231976213</td><td>0.00011500031996761232</td><td>nan</td><td>nan</td><td>nan</td><td>nan</td><td>nan</td><td>nan</td><td>nan</td><td>nan</td><td>0.052288165659739656</td><td>0.00024079589321580064</td><td>nan</td><td>nan</td><td>nan</td><td>nan</td><td>0.06139302194794914</td><td>0.00011892274209805455</td><td>nan</td><td>nan</td><td>0.0746577308328417</td><td>0.0002750492970411101</td><td>nan</td><td>nan</td><td>nan</td><td>nan</td><td>nan</td><td>nan</td><td>0.09990572780070654</td><td>0.0005524086230310806</td><td>nan</td><td>nan</td><td>0.08342321405014358</td><td>0.0005378493798828723</td><td>nan</td><td>nan</td><td>nan</td><td>nan</td><td>nan</td><td>nan</td><td>0.09246024795301809</td><td>0.008089256788593164</td><td>nan</td><td>nan</td><td>nan</td><td>nan</td><td>nan</td><td>nan</td><td>nan</td><td>nan</td><td>0.13726884</td><td>0.021717712</td><td>nan</td><td>nan</td><td>nan</td><td>nan</td><td>nan</td><td>nan</td><td>nan</td><td>nan</td><td>nan</td><td>nan</td><td>nan</td><td>nan</td><td>nan</td><td>nan</td><td>nan</td><td>nan</td><td>nan</td><td>nan</td><td>nan</td><td>nan</td><td>nan</td><td>nan</td><td>nan</td><td>nan</td><td>nan</td><td>nan</td><td>0.1824656689852126</td><td>0.001680570885702763</td><td>nan</td><td>nan</td><td>nan</td><td>nan</td><td>nan</td><td>nan</td><td>nan</td><td>nan</td><td>nan</td><td>nan</td><td>nan</td><td>nan</td></tr>\n",
       "<tr><td>HELP_J142421.588+532915.941</td><td>216.0899485857345</td><td>53.48776127599059</td><td>0.008517044557528991</td><td>0.7171</td><td>0.9938650131225586</td><td>0</td><td>nan</td><td>nan</td><td>nan</td><td>nan</td><td>2.2127200122632096e-05</td><td>4.513802364401089e-05</td><td>nan</td><td>nan</td><td>nan</td><td>nan</td><td>nan</td><td>nan</td><td>0.0002646846142959061</td><td>3.437348302967004e-05</td><td>nan</td><td>nan</td><td>nan</td><td>nan</td><td>nan</td><td>nan</td><td>nan</td><td>nan</td><td>0.0009859462514722245</td><td>7.991192887063761e-05</td><td>nan</td><td>nan</td><td>nan</td><td>nan</td><td>0.0014464596907892687</td><td>5.205162888470281e-05</td><td>nan</td><td>nan</td><td>0.005239214052588635</td><td>0.00011581186821162126</td><td>nan</td><td>nan</td><td>nan</td><td>nan</td><td>nan</td><td>nan</td><td>0.008541043614684354</td><td>0.00023730518011580835</td><td>nan</td><td>nan</td><td>0.008537281958129798</td><td>0.0002123044462700514</td><td>nan</td><td>nan</td><td>nan</td><td>nan</td><td>nan</td><td>nan</td><td>0.011831817228516067</td><td>0.006030865587678686</td><td>nan</td><td>nan</td><td>nan</td><td>nan</td><td>nan</td><td>nan</td><td>nan</td><td>nan</td><td>0.013685633</td><td>0.0071426304</td><td>nan</td><td>nan</td><td>nan</td><td>nan</td><td>nan</td><td>nan</td><td>nan</td><td>nan</td><td>nan</td><td>nan</td><td>nan</td><td>nan</td><td>nan</td><td>nan</td><td>nan</td><td>nan</td><td>nan</td><td>nan</td><td>nan</td><td>nan</td><td>nan</td><td>nan</td><td>nan</td><td>nan</td><td>nan</td><td>nan</td><td>0.01907010428388969</td><td>0.0023038807698255314</td><td>nan</td><td>nan</td><td>nan</td><td>nan</td><td>nan</td><td>nan</td><td>nan</td><td>nan</td><td>nan</td><td>nan</td><td>nan</td><td>nan</td></tr>\n",
       "<tr><td>HELP_J142421.622+533426.966</td><td>216.0900909857345</td><td>53.5741572259906</td><td>0.009410092064843292</td><td>0.0484</td><td>1.0</td><td>3</td><td>nan</td><td>nan</td><td>0.05129745048684517</td><td>0.00018898680739114397</td><td>0.2744093111593198</td><td>7.027065759295215e-05</td><td>nan</td><td>nan</td><td>nan</td><td>nan</td><td>nan</td><td>nan</td><td>0.33114766767066045</td><td>0.0003049982869699734</td><td>nan</td><td>nan</td><td>nan</td><td>nan</td><td>nan</td><td>nan</td><td>nan</td><td>nan</td><td>0.8605193207791717</td><td>0.0007925676252774626</td><td>nan</td><td>nan</td><td>nan</td><td>nan</td><td>0.9448168235634778</td><td>7.251977458821607e-05</td><td>nan</td><td>nan</td><td>1.6964618334383537</td><td>0.0015624991074164947</td><td>nan</td><td>nan</td><td>nan</td><td>nan</td><td>nan</td><td>nan</td><td>0.8416702855864713</td><td>0.00037845449655245987</td><td>nan</td><td>nan</td><td>3.4437771681063976</td><td>0.003171836339906942</td><td>nan</td><td>nan</td><td>nan</td><td>nan</td><td>nan</td><td>nan</td><td>5.180569028776388</td><td>0.029010601811484415</td><td>nan</td><td>nan</td><td>nan</td><td>nan</td><td>nan</td><td>nan</td><td>nan</td><td>nan</td><td>7.0262322</td><td>0.01607122</td><td>nan</td><td>nan</td><td>nan</td><td>nan</td><td>nan</td><td>nan</td><td>nan</td><td>nan</td><td>nan</td><td>nan</td><td>nan</td><td>nan</td><td>nan</td><td>nan</td><td>nan</td><td>nan</td><td>nan</td><td>nan</td><td>nan</td><td>nan</td><td>nan</td><td>nan</td><td>nan</td><td>nan</td><td>nan</td><td>nan</td><td>6.489329339068259</td><td>0.05976893047799122</td><td>nan</td><td>nan</td><td>nan</td><td>nan</td><td>nan</td><td>nan</td><td>nan</td><td>nan</td><td>nan</td><td>nan</td><td>nan</td><td>nan</td></tr>\n",
       "</table>"
      ],
      "text/plain": [
       "<Table length=115944>\n",
       "          help_id                   ra         ... irac_i4 irac_i4_err\n",
       "                                   deg         ...                    \n",
       "          bytes27                float64       ... float64   float64  \n",
       "--------------------------- ------------------ ... ------- -----------\n",
       "HELP_J141353.236+520956.472 213.47181730590532 ...     nan         nan\n",
       "HELP_J141353.694+520941.613  213.4737261971912 ...     nan         nan\n",
       "HELP_J141354.107+520654.968 213.47544479124258 ...     nan         nan\n",
       "HELP_J141354.470+520930.989 213.47695827169156 ...     nan         nan\n",
       "HELP_J141355.122+520300.321  213.4796737257345 ...     nan         nan\n",
       "HELP_J141356.014+520532.964 213.48338966115014 ...     nan         nan\n",
       "HELP_J141356.050+520943.625 213.48354342677763 ...     nan         nan\n",
       "HELP_J141356.939+520312.806  213.4872439157345 ...     nan         nan\n",
       "HELP_J141357.096+520542.481  213.4878981951246 ...     nan         nan\n",
       "                        ...                ... ...     ...         ...\n",
       "HELP_J142419.756+533339.693  216.0823164057345 ...     nan         nan\n",
       "HELP_J142419.846+533524.653  216.0826904357345 ...     nan         nan\n",
       "HELP_J142420.010+533132.000  216.0833769457345 ...     nan         nan\n",
       "HELP_J142420.580+533313.968  216.0857503957345 ...     nan         nan\n",
       "HELP_J142420.843+533542.145  216.0868456157345 ...     nan         nan\n",
       "HELP_J142420.940+533222.726  216.0872495257345 ...     nan         nan\n",
       "HELP_J142420.992+533109.582  216.0874655957345 ...     nan         nan\n",
       "HELP_J142421.539+533538.388 216.08974688573448 ...     nan         nan\n",
       "HELP_J142421.588+532915.941  216.0899485857345 ...     nan         nan\n",
       "HELP_J142421.622+533426.966  216.0900909857345 ...     nan         nan"
      ]
     },
     "execution_count": 13,
     "metadata": {},
     "output_type": "execute_result"
    }
   ],
   "source": [
    "cigale"
   ]
  },
  {
   "cell_type": "markdown",
   "metadata": {},
   "source": [
    "## Read in photoz"
   ]
  },
  {
   "cell_type": "code",
   "execution_count": 4,
   "metadata": {
    "collapsed": true
   },
   "outputs": [],
   "source": [
    "photoz=Table.read('../../dmu24/dmu24_HDF-N/data/')"
   ]
  },
  {
   "cell_type": "code",
   "execution_count": 5,
   "metadata": {},
   "outputs": [
    {
     "data": {
      "text/html": [
       "<i>Table length=1183490</i>\n",
       "<table id=\"table139694389036144\" class=\"table-striped table-bordered table-condensed\">\n",
       "<thead><tr><th>help_id</th><th>RA</th><th>DEC</th><th>id</th><th>z1_median</th><th>z1_min</th><th>z1_max</th><th>z1_area</th><th>z2_median</th><th>z2_min</th><th>z2_max</th><th>z2_area</th><th>za_hb</th><th>chi_r_eazy</th><th>chi_r_atlas</th><th>chi_r_cosmos</th><th>chi_r_stellar</th><th>stellar_type</th></tr></thead>\n",
       "<thead><tr><th>bytes27</th><th>float64</th><th>float64</th><th>int64</th><th>float64</th><th>float64</th><th>float64</th><th>float64</th><th>float64</th><th>float64</th><th>float64</th><th>float64</th><th>float64</th><th>float64</th><th>float64</th><th>float64</th><th>float64</th><th>bytes6</th></tr></thead>\n",
       "<tr><td>HELP_J141604.525+522314.318</td><td>214.01885343855852</td><td>52.38731062037661</td><td>1</td><td>0.3287</td><td>0.2017</td><td>0.46</td><td>0.79</td><td>-99.0</td><td>-99.0</td><td>-99.0</td><td>-99.0</td><td>0.3107445158917243</td><td>0.00941402</td><td>0.005750465</td><td>0.038778125</td><td>1.16068175</td><td>k4i</td></tr>\n",
       "<tr><td>HELP_J141625.630+515253.992</td><td>214.10679106334706</td><td>51.881664522183016</td><td>2</td><td>0.3341</td><td>0.1838</td><td>0.4776</td><td>0.797</td><td>-99.0</td><td>-99.0</td><td>-99.0</td><td>-99.0</td><td>0.3186207796877177</td><td>0.172925325</td><td>0.057914225</td><td>0.093599325</td><td>1.79632475</td><td>m2v</td></tr>\n",
       "<tr><td>HELP_J141911.366+530320.518</td><td>214.79735831765808</td><td>53.05569947987607</td><td>3</td><td>0.3557</td><td>0.1874</td><td>0.5225</td><td>0.791</td><td>-99.0</td><td>-99.0</td><td>-99.0</td><td>-99.0</td><td>0.3465622852301831</td><td>0.0053131625</td><td>0.03812535</td><td>0.0809428</td><td>2.155046</td><td>k5iii</td></tr>\n",
       "<tr><td>HELP_J141525.065+522526.822</td><td>213.85443844608528</td><td>52.42411731941239</td><td>4</td><td>0.4947</td><td>0.3958</td><td>0.6165</td><td>0.433</td><td>0.2238</td><td>0.1284</td><td>0.299</td><td>0.358</td><td>0.42542435154728503</td><td>0.024677515</td><td>0.13246265</td><td>0.1400433</td><td>5.7028675</td><td>wg8iii</td></tr>\n",
       "<tr><td>HELP_J141943.168+523158.983</td><td>214.92986686469408</td><td>52.53305086665113</td><td>5</td><td>0.2834</td><td>0.1183</td><td>0.4426</td><td>0.797</td><td>-99.0</td><td>-99.0</td><td>-99.0</td><td>-99.0</td><td>0.2912590674014151</td><td>0.00083104725</td><td>0.1810521</td><td>0.123727875</td><td>3.5283325</td><td>rk0v</td></tr>\n",
       "<tr><td>HELP_J141848.923+525921.139</td><td>214.70384569336562</td><td>52.98920527391837</td><td>6</td><td>0.3486</td><td>0.1803</td><td>0.5225</td><td>0.79</td><td>-99.0</td><td>-99.0</td><td>-99.0</td><td>-99.0</td><td>0.2990182431374302</td><td>0.0020962585</td><td>0.0013756125</td><td>0.0577491</td><td>0.91910475</td><td>wk3iii</td></tr>\n",
       "<tr><td>HELP_J142111.698+522044.991</td><td>215.29874092601307</td><td>52.345830748462134</td><td>7</td><td>0.4852</td><td>0.2721</td><td>0.6607</td><td>0.794</td><td>-99.0</td><td>-99.0</td><td>-99.0</td><td>-99.0</td><td>0.5270935167224258</td><td>0.0397356</td><td>0.233541025</td><td>0.39683775</td><td>1.8079045</td><td>m3iii</td></tr>\n",
       "<tr><td>HELP_J141322.317+522430.572</td><td>213.3429865295886</td><td>52.40849213212558</td><td>8</td><td>0.3965</td><td>0.1909</td><td>0.5877</td><td>0.793</td><td>-99.0</td><td>-99.0</td><td>-99.0</td><td>-99.0</td><td>0.42542435154728503</td><td>0.000403126</td><td>0.014958385</td><td>0.0261745</td><td>5.6493875</td><td>wk3iii</td></tr>\n",
       "<tr><td>HELP_J141553.974+523158.605</td><td>213.97489187629904</td><td>52.53294582179002</td><td>9</td><td>0.4897</td><td>0.3385</td><td>0.6458</td><td>0.791</td><td>-99.0</td><td>-99.0</td><td>-99.0</td><td>-99.0</td><td>0.49093314336472166</td><td>0.0200424975</td><td>0.00545671</td><td>0.0926184</td><td>5.765695</td><td>m2i</td></tr>\n",
       "<tr><td>HELP_J142124.634+523919.058</td><td>215.35264162821156</td><td>52.655293920582814</td><td>10</td><td>0.2346</td><td>0.1116</td><td>0.3506</td><td>0.574</td><td>0.4024</td><td>0.3587</td><td>0.434</td><td>0.119</td><td>0.2758794782719946</td><td>0.068781925</td><td>0.039115325</td><td>0.085653075</td><td>0.3371225</td><td>k0v</td></tr>\n",
       "<tr><td>...</td><td>...</td><td>...</td><td>...</td><td>...</td><td>...</td><td>...</td><td>...</td><td>...</td><td>...</td><td>...</td><td>...</td><td>...</td><td>...</td><td>...</td><td>...</td><td>...</td><td>...</td></tr>\n",
       "<tr><td>HELP_J141208.840+520414.659</td><td>213.0368334257345</td><td>52.07073853599059</td><td>1409883</td><td>0.6109</td><td>0.4954</td><td>0.7215</td><td>0.74</td><td>0.4187</td><td>0.4084</td><td>0.4297</td><td>0.034</td><td>0.6409223331305786</td><td>6.437084285714286</td><td>7.735181428571429</td><td>5.020698571428571</td><td>25.259442857142858</td><td>m2v</td></tr>\n",
       "<tr><td>HELP_J141825.165+515736.828</td><td>214.604852588233</td><td>51.96023010133997</td><td>1409884</td><td>1.2773</td><td>0.5044</td><td>2.0873</td><td>0.797</td><td>-99.0</td><td>-99.0</td><td>-99.0</td><td>-99.0</td><td>1.1876487655820742</td><td>4.638508</td><td>7.47856</td><td>7.152582</td><td>7.874588</td><td>a47iv</td></tr>\n",
       "<tr><td>HELP_J142353.479+525321.113</td><td>215.9728304357345</td><td>52.889198115990595</td><td>1409885</td><td>0.8915</td><td>0.7318</td><td>1.0543</td><td>0.793</td><td>-99.0</td><td>-99.0</td><td>-99.0</td><td>-99.0</td><td>0.9290274556241438</td><td>0.479408375</td><td>0.6519505</td><td>0.72598725</td><td>24.37385</td><td>m1v</td></tr>\n",
       "<tr><td>HELP_J142244.525+534343.490</td><td>215.685520625746</td><td>53.7287472135701</td><td>1409886</td><td>0.7668</td><td>0.4732</td><td>1.0915</td><td>0.571</td><td>1.3237</td><td>1.1358</td><td>1.5184</td><td>0.225</td><td>0.7370237368873575</td><td>0.7187038</td><td>2.28909</td><td>1.1771426</td><td>7.022502</td><td>m3v</td></tr>\n",
       "<tr><td>HELP_J142002.946+515546.084</td><td>215.0122737657345</td><td>51.929467865990595</td><td>1409887</td><td>0.3333</td><td>0.2089</td><td>0.4513</td><td>0.8</td><td>-99.0</td><td>-99.0</td><td>-99.0</td><td>-99.0</td><td>0.3425346811866232</td><td>0.7057915</td><td>0.602337875</td><td>0.8003085</td><td>10.1896025</td><td>wg5iii</td></tr>\n",
       "<tr><td>HELP_J142352.333+524729.641</td><td>215.9680523957345</td><td>52.7915669659906</td><td>1409888</td><td>0.7474</td><td>0.6021</td><td>0.889</td><td>0.789</td><td>-99.0</td><td>-99.0</td><td>-99.0</td><td>-99.0</td><td>0.7685256024616454</td><td>1.03091475</td><td>0.810291875</td><td>0.665984625</td><td>38.296</td><td>wg5iii</td></tr>\n",
       "<tr><td>HELP_J141749.058+514257.085</td><td>214.4544090757345</td><td>51.71585681599059</td><td>1409890</td><td>0.6521</td><td>0.5317</td><td>0.7738</td><td>0.792</td><td>-99.0</td><td>-99.0</td><td>-99.0</td><td>-99.0</td><td>0.6507826354303602</td><td>0.07191204</td><td>0.304054</td><td>0.16834842</td><td>12.36873</td><td>m2p5v</td></tr>\n",
       "<tr><td>HELP_J142210.881+522302.142</td><td>215.5453377357345</td><td>52.383928245990596</td><td>1409891</td><td>0.1461</td><td>0.0565</td><td>0.2419</td><td>0.708</td><td>0.0315</td><td>0.0192</td><td>0.0439</td><td>0.071</td><td>0.08532365580152321</td><td>2.727012857142857</td><td>2.768932857142857</td><td>2.0134314285714288</td><td>14.159622857142859</td><td>wg5v</td></tr>\n",
       "<tr><td>HELP_J142411.545+524707.318</td><td>216.048105625746</td><td>52.7853662135701</td><td>1409893</td><td>0.6079</td><td>0.4865</td><td>0.7318</td><td>0.794</td><td>-99.0</td><td>-99.0</td><td>-99.0</td><td>-99.0</td><td>0.606872782679902</td><td>1.5107034000000001</td><td>1.2261438</td><td>0.7836124</td><td>8.561204</td><td>m3ii</td></tr>\n",
       "<tr><td>HELP_J141505.314+515819.053</td><td>213.77214140424604</td><td>51.97195917179327</td><td>1409894</td><td>0.3973</td><td>0.1909</td><td>0.6069</td><td>0.795</td><td>-99.0</td><td>-99.0</td><td>-99.0</td><td>-99.0</td><td>0.39584643832634897</td><td>-99.0</td><td>-99.0</td><td>-99.0</td><td>-99.0</td><td></td></tr>\n",
       "</table>"
      ],
      "text/plain": [
       "<Table length=1183490>\n",
       "          help_id                   RA         ... stellar_type\n",
       "          bytes27                float64       ...    bytes6   \n",
       "--------------------------- ------------------ ... ------------\n",
       "HELP_J141604.525+522314.318 214.01885343855852 ...          k4i\n",
       "HELP_J141625.630+515253.992 214.10679106334706 ...          m2v\n",
       "HELP_J141911.366+530320.518 214.79735831765808 ...        k5iii\n",
       "HELP_J141525.065+522526.822 213.85443844608528 ...       wg8iii\n",
       "HELP_J141943.168+523158.983 214.92986686469408 ...         rk0v\n",
       "HELP_J141848.923+525921.139 214.70384569336562 ...       wk3iii\n",
       "HELP_J142111.698+522044.991 215.29874092601307 ...        m3iii\n",
       "HELP_J141322.317+522430.572  213.3429865295886 ...       wk3iii\n",
       "HELP_J141553.974+523158.605 213.97489187629904 ...          m2i\n",
       "HELP_J142124.634+523919.058 215.35264162821156 ...          k0v\n",
       "                        ...                ... ...          ...\n",
       "HELP_J141208.840+520414.659  213.0368334257345 ...          m2v\n",
       "HELP_J141825.165+515736.828   214.604852588233 ...        a47iv\n",
       "HELP_J142353.479+525321.113  215.9728304357345 ...          m1v\n",
       "HELP_J142244.525+534343.490   215.685520625746 ...          m3v\n",
       "HELP_J142002.946+515546.084  215.0122737657345 ...       wg5iii\n",
       "HELP_J142352.333+524729.641  215.9680523957345 ...       wg5iii\n",
       "HELP_J141749.058+514257.085  214.4544090757345 ...        m2p5v\n",
       "HELP_J142210.881+522302.142  215.5453377357345 ...         wg5v\n",
       "HELP_J142411.545+524707.318   216.048105625746 ...         m3ii\n",
       "HELP_J141505.314+515819.053 213.77214140424604 ...             "
      ]
     },
     "execution_count": 5,
     "metadata": {},
     "output_type": "execute_result"
    }
   ],
   "source": [
    "photoz"
   ]
  },
  {
   "cell_type": "markdown",
   "metadata": {},
   "source": [
    "## Join CIGALE and photoz tables"
   ]
  },
  {
   "cell_type": "code",
   "execution_count": 9,
   "metadata": {
    "collapsed": true
   },
   "outputs": [],
   "source": [
    "prior=join(cigale,photoz)"
   ]
  },
  {
   "cell_type": "code",
   "execution_count": 10,
   "metadata": {
    "collapsed": true
   },
   "outputs": [
    {
     "ename": "KeyError",
     "evalue": "'bayes.dust.luminosity'",
     "output_type": "error",
     "traceback": [
      "\u001b[0;31m---------------------------------------------------------------------------\u001b[0m",
      "\u001b[0;31mKeyError\u001b[0m                                  Traceback (most recent call last)",
      "\u001b[0;32m<ipython-input-10-eeac5d3aa637>\u001b[0m in \u001b[0;36m<module>\u001b[0;34m\u001b[0m\n\u001b[1;32m      1\u001b[0m \u001b[0;32mfrom\u001b[0m \u001b[0mastropy\u001b[0m\u001b[0;34m.\u001b[0m\u001b[0mcosmology\u001b[0m \u001b[0;32mimport\u001b[0m \u001b[0mPlanck15\u001b[0m \u001b[0;32mas\u001b[0m \u001b[0mcosmo\u001b[0m\u001b[0;34m\u001b[0m\u001b[0;34m\u001b[0m\u001b[0m\n\u001b[1;32m      2\u001b[0m \u001b[0;32mfrom\u001b[0m \u001b[0mastropy\u001b[0m \u001b[0;32mimport\u001b[0m \u001b[0munits\u001b[0m \u001b[0;32mas\u001b[0m \u001b[0mu\u001b[0m\u001b[0;34m\u001b[0m\u001b[0;34m\u001b[0m\u001b[0m\n\u001b[0;32m----> 3\u001b[0;31m \u001b[0mf_pred\u001b[0m\u001b[0;34m=\u001b[0m\u001b[0mprior\u001b[0m\u001b[0;34m[\u001b[0m\u001b[0;34m'bayes.dust.luminosity'\u001b[0m\u001b[0;34m]\u001b[0m\u001b[0;34m/\u001b[0m\u001b[0;34m(\u001b[0m\u001b[0;36m4\u001b[0m\u001b[0;34m*\u001b[0m\u001b[0mnp\u001b[0m\u001b[0;34m.\u001b[0m\u001b[0mpi\u001b[0m\u001b[0;34m*\u001b[0m\u001b[0mcosmo\u001b[0m\u001b[0;34m.\u001b[0m\u001b[0mluminosity_distance\u001b[0m\u001b[0;34m(\u001b[0m\u001b[0mprior\u001b[0m\u001b[0;34m[\u001b[0m\u001b[0;34m'z1_median'\u001b[0m\u001b[0;34m]\u001b[0m\u001b[0;34m)\u001b[0m\u001b[0;34m.\u001b[0m\u001b[0mto\u001b[0m\u001b[0;34m(\u001b[0m\u001b[0mu\u001b[0m\u001b[0;34m.\u001b[0m\u001b[0mcm\u001b[0m\u001b[0;34m)\u001b[0m\u001b[0;34m)\u001b[0m\u001b[0;34m\u001b[0m\u001b[0;34m\u001b[0m\u001b[0m\n\u001b[0m",
      "\u001b[0;32m~/anaconda3/lib/python3.6/site-packages/astropy/table/table.py\u001b[0m in \u001b[0;36m__getitem__\u001b[0;34m(self, item)\u001b[0m\n\u001b[1;32m   1344\u001b[0m     \u001b[0;32mdef\u001b[0m \u001b[0m__getitem__\u001b[0m\u001b[0;34m(\u001b[0m\u001b[0mself\u001b[0m\u001b[0;34m,\u001b[0m \u001b[0mitem\u001b[0m\u001b[0;34m)\u001b[0m\u001b[0;34m:\u001b[0m\u001b[0;34m\u001b[0m\u001b[0;34m\u001b[0m\u001b[0m\n\u001b[1;32m   1345\u001b[0m         \u001b[0;32mif\u001b[0m \u001b[0misinstance\u001b[0m\u001b[0;34m(\u001b[0m\u001b[0mitem\u001b[0m\u001b[0;34m,\u001b[0m \u001b[0mstr\u001b[0m\u001b[0;34m)\u001b[0m\u001b[0;34m:\u001b[0m\u001b[0;34m\u001b[0m\u001b[0;34m\u001b[0m\u001b[0m\n\u001b[0;32m-> 1346\u001b[0;31m             \u001b[0;32mreturn\u001b[0m \u001b[0mself\u001b[0m\u001b[0;34m.\u001b[0m\u001b[0mcolumns\u001b[0m\u001b[0;34m[\u001b[0m\u001b[0mitem\u001b[0m\u001b[0;34m]\u001b[0m\u001b[0;34m\u001b[0m\u001b[0;34m\u001b[0m\u001b[0m\n\u001b[0m\u001b[1;32m   1347\u001b[0m         \u001b[0;32melif\u001b[0m \u001b[0misinstance\u001b[0m\u001b[0;34m(\u001b[0m\u001b[0mitem\u001b[0m\u001b[0;34m,\u001b[0m \u001b[0;34m(\u001b[0m\u001b[0mint\u001b[0m\u001b[0;34m,\u001b[0m \u001b[0mnp\u001b[0m\u001b[0;34m.\u001b[0m\u001b[0minteger\u001b[0m\u001b[0;34m)\u001b[0m\u001b[0;34m)\u001b[0m\u001b[0;34m:\u001b[0m\u001b[0;34m\u001b[0m\u001b[0;34m\u001b[0m\u001b[0m\n\u001b[1;32m   1348\u001b[0m             \u001b[0;32mreturn\u001b[0m \u001b[0mself\u001b[0m\u001b[0;34m.\u001b[0m\u001b[0mRow\u001b[0m\u001b[0;34m(\u001b[0m\u001b[0mself\u001b[0m\u001b[0;34m,\u001b[0m \u001b[0mitem\u001b[0m\u001b[0;34m)\u001b[0m\u001b[0;34m\u001b[0m\u001b[0;34m\u001b[0m\u001b[0m\n",
      "\u001b[0;32m~/anaconda3/lib/python3.6/site-packages/astropy/table/table.py\u001b[0m in \u001b[0;36m__getitem__\u001b[0;34m(self, item)\u001b[0m\n\u001b[1;32m    188\u001b[0m         \"\"\"\n\u001b[1;32m    189\u001b[0m         \u001b[0;32mif\u001b[0m \u001b[0misinstance\u001b[0m\u001b[0;34m(\u001b[0m\u001b[0mitem\u001b[0m\u001b[0;34m,\u001b[0m \u001b[0mstr\u001b[0m\u001b[0;34m)\u001b[0m\u001b[0;34m:\u001b[0m\u001b[0;34m\u001b[0m\u001b[0;34m\u001b[0m\u001b[0m\n\u001b[0;32m--> 190\u001b[0;31m             \u001b[0;32mreturn\u001b[0m \u001b[0mOrderedDict\u001b[0m\u001b[0;34m.\u001b[0m\u001b[0m__getitem__\u001b[0m\u001b[0;34m(\u001b[0m\u001b[0mself\u001b[0m\u001b[0;34m,\u001b[0m \u001b[0mitem\u001b[0m\u001b[0;34m)\u001b[0m\u001b[0;34m\u001b[0m\u001b[0;34m\u001b[0m\u001b[0m\n\u001b[0m\u001b[1;32m    191\u001b[0m         \u001b[0;32melif\u001b[0m \u001b[0misinstance\u001b[0m\u001b[0;34m(\u001b[0m\u001b[0mitem\u001b[0m\u001b[0;34m,\u001b[0m \u001b[0;34m(\u001b[0m\u001b[0mint\u001b[0m\u001b[0;34m,\u001b[0m \u001b[0mnp\u001b[0m\u001b[0;34m.\u001b[0m\u001b[0minteger\u001b[0m\u001b[0;34m)\u001b[0m\u001b[0;34m)\u001b[0m\u001b[0;34m:\u001b[0m\u001b[0;34m\u001b[0m\u001b[0;34m\u001b[0m\u001b[0m\n\u001b[1;32m    192\u001b[0m             \u001b[0;32mreturn\u001b[0m \u001b[0mself\u001b[0m\u001b[0;34m.\u001b[0m\u001b[0mvalues\u001b[0m\u001b[0;34m(\u001b[0m\u001b[0;34m)\u001b[0m\u001b[0;34m[\u001b[0m\u001b[0mitem\u001b[0m\u001b[0;34m]\u001b[0m\u001b[0;34m\u001b[0m\u001b[0;34m\u001b[0m\u001b[0m\n",
      "\u001b[0;31mKeyError\u001b[0m: 'bayes.dust.luminosity'"
     ]
    }
   ],
   "source": [
    "from astropy.cosmology import Planck15 as cosmo\n",
    "from astropy import units as u\n",
    "f_pred=prior['bayes.dust.luminosity']/(4*np.pi*cosmo.luminosity_distance(prior['z1_median']).to(u.cm))"
   ]
  },
  {
   "cell_type": "code",
   "execution_count": 10,
   "metadata": {
    "collapsed": true
   },
   "outputs": [],
   "source": [
    "prior=prior[np.isfinite(f_pred.value)][np.log10(f_pred.value[np.isfinite(f_pred.value)])>8.5]"
   ]
  },
  {
   "cell_type": "code",
   "execution_count": 11,
   "metadata": {
    "collapsed": true
   },
   "outputs": [],
   "source": [
    "prior['DEC'].name='Dec'"
   ]
  },
  {
   "cell_type": "code",
   "execution_count": 13,
   "metadata": {},
   "outputs": [
    {
     "data": {
      "text/plain": [
       "4436690"
      ]
     },
     "execution_count": 13,
     "metadata": {},
     "output_type": "execute_result"
    }
   ],
   "source": [
    "len(cigale)"
   ]
  },
  {
   "cell_type": "markdown",
   "metadata": {},
   "source": [
    "## Read in Maps"
   ]
  },
  {
   "cell_type": "code",
   "execution_count": 14,
   "metadata": {
    "collapsed": true
   },
   "outputs": [],
   "source": [
    "pswfits='../../dmu19/dmu19_HELP-SPIRE-maps/data/HATLAS-SGP_SPIRE250_v0.9.fits'#SPIRE 250 map\n",
    "pmwfits='../../dmu19/dmu19_HELP-SPIRE-maps/data/HATLAS-SGP_SPIRE350_v0.9.fits'#SPIRE 350 map\n",
    "plwfits='../../dmu19/dmu19_HELP-SPIRE-maps/data/HATLAS-SGP_SPIRE500_v0.9.fits'#SPIRE 500 map\n",
    "\n",
    "#output folder\n",
    "output_folder='./'"
   ]
  },
  {
   "cell_type": "code",
   "execution_count": 15,
   "metadata": {
    "collapsed": true
   },
   "outputs": [],
   "source": [
    "from astropy.io import fits\n",
    "from astropy import wcs\n",
    "\n",
    "#-----250-------------\n",
    "hdulist = fits.open(pswfits)\n",
    "im250phdu=hdulist[0].header\n",
    "im250hdu=hdulist[1].header\n",
    "\n",
    "im250=hdulist[1].data*1.0E3 #convert to mJy\n",
    "nim250=hdulist[3].data*1.0E3 #convert to mJy\n",
    "w_250 = wcs.WCS(hdulist[1].header)\n",
    "pixsize250=3600.0*w_250.wcs.cdelt #pixel size (in arcseconds)\n",
    "hdulist.close()\n",
    "#-----350-------------\n",
    "hdulist = fits.open(pmwfits)\n",
    "im350phdu=hdulist[0].header\n",
    "im350hdu=hdulist[1].header\n",
    "\n",
    "im350=hdulist[1].data*1.0E3 #convert to mJy\n",
    "nim350=hdulist[3].data*1.0E3 #convert to mJy\n",
    "w_350 = wcs.WCS(hdulist[1].header)\n",
    "pixsize350=3600.0*w_350.wcs.cdelt #pixel size (in arcseconds)\n",
    "hdulist.close()\n",
    "#-----500-------------\n",
    "hdulist = fits.open(plwfits)\n",
    "im500phdu=hdulist[0].header\n",
    "im500hdu=hdulist[1].header\n",
    "im500=hdulist[1].data*1.0E3 #convert to mJy\n",
    "nim500=hdulist[3].data*1.0E3 #convert to mJy\n",
    "w_500 = wcs.WCS(hdulist[1].header)\n",
    "pixsize500=3600.0*w_500.wcs.cdelt #pixel size (in arcseconds)\n",
    "hdulist.close()"
   ]
  },
  {
   "cell_type": "code",
   "execution_count": 16,
   "metadata": {
    "collapsed": true
   },
   "outputs": [],
   "source": [
    "## Set XID+ prior class"
   ]
  },
  {
   "cell_type": "code",
   "execution_count": 17,
   "metadata": {
    "collapsed": true
   },
   "outputs": [],
   "source": [
    "#---prior250--------\n",
    "prior250=xidplus.prior(im250,nim250,im250phdu,im250hdu, moc=Sel_func)#Initialise with map, uncertianty map, wcs info and primary header\n",
    "prior250.prior_cat(prior['RA'] ,prior['Dec'] ,'hatlas_sgp_Ldust_prediction_results.fits',ID=prior['help_id'] )#Set input catalogue\n",
    "prior250.prior_bkg(-5.0,5)#Set prior on background (assumes Gaussian pdf with mu and sigma)\n",
    "#---prior350--------\n",
    "prior350=xidplus.prior(im350,nim350,im350phdu,im350hdu, moc=Sel_func)\n",
    "prior350.prior_cat(prior['RA'] ,prior['Dec'] ,'hatlas_sgp_Ldust_prediction_results.fits',ID=prior['help_id'] )\n",
    "prior350.prior_bkg(-5.0,5)\n",
    "\n",
    "#---prior500--------\n",
    "prior500=xidplus.prior(im500,nim500,im500phdu,im500hdu, moc=Sel_func)\n",
    "prior500.prior_cat(prior['RA'] ,prior['Dec'] ,'hatlas_sgp_Ldust_prediction_results.fits',ID=prior['help_id'] )\n",
    "prior500.prior_bkg(-5.0,5)"
   ]
  },
  {
   "cell_type": "code",
   "execution_count": 18,
   "metadata": {
    "collapsed": true
   },
   "outputs": [],
   "source": [
    "#pixsize array (size of pixels in arcseconds)\n",
    "pixsize=np.array([pixsize250,pixsize350,pixsize500])\n",
    "#point response function for the three bands\n",
    "prfsize=np.array([18.15,25.15,36.3])\n",
    "#use Gaussian2DKernel to create prf (requires stddev rather than fwhm hence pfwhm/2.355)\n",
    "from astropy.convolution import Gaussian2DKernel\n",
    "\n",
    "##---------fit using Gaussian beam-----------------------\n",
    "prf250=Gaussian2DKernel(prfsize[0]/2.355,x_size=101,y_size=101)\n",
    "prf250.normalize(mode='peak')\n",
    "prf350=Gaussian2DKernel(prfsize[1]/2.355,x_size=101,y_size=101)\n",
    "prf350.normalize(mode='peak')\n",
    "prf500=Gaussian2DKernel(prfsize[2]/2.355,x_size=101,y_size=101)\n",
    "prf500.normalize(mode='peak')\n",
    "\n",
    "pind250=np.arange(0,101,1)*1.0/pixsize[0,1] #get 250 scale in terms of pixel scale of map\n",
    "pind350=np.arange(0,101,1)*1.0/pixsize[1,1] #get 350 scale in terms of pixel scale of map\n",
    "pind500=np.arange(0,101,1)*1.0/pixsize[2,1] #get 500 scale in terms of pixel scale of map\n",
    "\n",
    "prior250.set_prf(prf250.array,pind250,pind250)#requires psf as 2d grid, and x and y bins for grid (in pixel scale)\n",
    "prior350.set_prf(prf350.array,pind350,pind350)\n",
    "prior500.set_prf(prf500.array,pind500,pind500)"
   ]
  },
  {
   "cell_type": "code",
   "execution_count": 19,
   "metadata": {},
   "outputs": [
    {
     "name": "stdout",
     "output_type": "stream",
     "text": [
      "----- There are 18279 tiles required for input catalogue and 379 large tiles\n",
      "writing total_bytes=5118646130...\n",
      "writing bytes [0, 1073741824)... done.\n",
      "writing bytes [1073741824, 2147483648)... done.\n",
      "writing bytes [2147483648, 3221225472)... done.\n",
      "writing bytes [3221225472, 4294967296)... done.\n",
      "writing bytes [4294967296, 5118646130)... done.\n"
     ]
    },
    {
     "ename": "SystemExit",
     "evalue": "",
     "output_type": "error",
     "traceback": [
      "An exception has occurred, use %tb to see the full traceback.\n",
      "\u001b[0;31mSystemExit\u001b[0m\n"
     ]
    }
   ],
   "source": [
    "import pickle\n",
    "#from moc, get healpix pixels at a given order\n",
    "from xidplus import moc_routines\n",
    "order=9\n",
    "tiles=moc_routines.get_HEALPix_pixels(order,prior250.sra,prior250.sdec,unique=True)\n",
    "order_large=6\n",
    "tiles_large=moc_routines.get_HEALPix_pixels(order_large,prior250.sra,prior250.sdec,unique=True)\n",
    "print('----- There are '+str(len(tiles))+' tiles required for input catalogue and '+str(len(tiles_large))+' large tiles')\n",
    "output_folder='./'\n",
    "outfile=output_folder+'Master_prior.pkl'\n",
    "xidplus.io.pickle_dump({'priors':[prior250,prior350,prior500],'tiles':tiles,'order':order,'version':xidplus.io.git_version()},outfile)\n",
    "outfile=output_folder+'Tiles.pkl'\n",
    "with open(outfile, 'wb') as f:\n",
    "    pickle.dump({'tiles':tiles,'order':order,'tiles_large':tiles_large,'order_large':order_large,'version':xidplus.io.git_version()},f)\n",
    "raise SystemExit()"
   ]
  },
  {
   "cell_type": "code",
   "execution_count": 57,
   "metadata": {},
   "outputs": [
    {
     "data": {
      "text/plain": [
       "1236678"
      ]
     },
     "execution_count": 57,
     "metadata": {},
     "output_type": "execute_result"
    }
   ],
   "source": [
    "prior250.nsrc"
   ]
  },
  {
   "cell_type": "code",
   "execution_count": null,
   "metadata": {
    "collapsed": true
   },
   "outputs": [],
   "source": []
  }
 ],
 "metadata": {
  "kernelspec": {
   "display_name": "Python 3",
   "language": "python",
   "name": "python3"
  },
  "language_info": {
   "codemirror_mode": {
    "name": "ipython",
    "version": 3
   },
   "file_extension": ".py",
   "mimetype": "text/x-python",
   "name": "python",
   "nbconvert_exporter": "python",
   "pygments_lexer": "ipython3",
   "version": "3.6.7"
  }
 },
 "nbformat": 4,
 "nbformat_minor": 2
}
