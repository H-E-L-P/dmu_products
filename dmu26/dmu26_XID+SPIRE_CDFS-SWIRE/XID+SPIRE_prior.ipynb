{
 "cells": [
  {
   "cell_type": "code",
   "execution_count": 1,
   "metadata": {},
   "outputs": [
    {
     "name": "stderr",
     "output_type": "stream",
     "text": [
      "WARNING: AstropyDeprecationWarning: block_reduce was moved to the astropy.nddata.blocks module.  Please update your import statement. [astropy.nddata.utils]\n"
     ]
    }
   ],
   "source": [
    "import pylab\n",
    "import pymoc\n",
    "import xidplus\n",
    "import numpy as np\n",
    "%matplotlib inline\n",
    "from astropy.table import Table"
   ]
  },
  {
   "cell_type": "code",
   "execution_count": 2,
   "metadata": {},
   "outputs": [],
   "source": [
    "import seaborn as sns"
   ]
  },
  {
   "cell_type": "markdown",
   "metadata": {},
   "source": [
    "This notebook uses all the raw data from the XID+MIPS catalogue, maps, PSF and relevant MOCs to create XID+ prior object and relevant tiling scheme"
   ]
  },
  {
   "cell_type": "markdown",
   "metadata": {},
   "source": [
    "## Read in MOCs\n",
    "The selection functions required are the main MOC associated with the masterlist. "
   ]
  },
  {
   "cell_type": "code",
   "execution_count": 3,
   "metadata": {},
   "outputs": [],
   "source": [
    "Sel_func=pymoc.MOC()\n",
    "# Sel_func.read('../data/CDFS-SWIRE/holes_CDFS-SWIRE_irac1_O16_MOC.fits')\n",
    "Sel_func.read('../../dmu4/dmu4_sm_CDFS-SWIRE/data/holes_CDFS-SWIRE_irac1_O16_MOC.fits') # Update masterlist"
   ]
  },
  {
   "cell_type": "markdown",
   "metadata": {},
   "source": [
    "## Read in XID+MIPS catalogue"
   ]
  },
  {
   "cell_type": "code",
   "execution_count": 4,
   "metadata": {},
   "outputs": [],
   "source": [
    "# XID_MIPS=Table.read('../data/CDFS-SWIRE/MIPS/dmu26_XID+MIPS_CDFS-SWIRE_cat_20170901.fits')\n",
    "XID_MIPS=Table.read('../dmu26_XID+MIPS_CDFS-SWIRE/data/dmu26_XID+MIPS_CDFS-SWIRE_cat_20201205.fits') # Update masterlist"
   ]
  },
  {
   "cell_type": "code",
   "execution_count": 5,
   "metadata": {},
   "outputs": [
    {
     "data": {
      "text/html": [
       "<i>Table length=10</i>\n",
       "<table id=\"table139687836547248\" class=\"table-striped table-bordered table-condensed\">\n",
       "<thead><tr><th>help_id</th><th>RA</th><th>Dec</th><th>F_MIPS_24</th><th>FErr_MIPS_24_u</th><th>FErr_MIPS_24_l</th><th>Bkg_MIPS_24</th><th>Sig_conf_MIPS_24</th><th>Rhat_MIPS_24</th><th>n_eff_MIPS_24</th><th>Pval_res_24</th><th>flag_mips_24</th></tr></thead>\n",
       "<thead><tr><th></th><th>degrees</th><th>degrees</th><th>muJy</th><th>muJy</th><th>muJy</th><th>MJy / sr</th><th>MJy / sr</th><th></th><th></th><th></th><th></th></tr></thead>\n",
       "<thead><tr><th>bytes27</th><th>float64</th><th>float64</th><th>float32</th><th>float32</th><th>float32</th><th>float32</th><th>float32</th><th>float32</th><th>float32</th><th>float32</th><th>bool</th></tr></thead>\n",
       "<tr><td>HELP_J033650.824-295620.783</td><td>54.211766390022845</td><td>-29.9391064859918</td><td>272.50247</td><td>540.70447</td><td>86.236374</td><td>-0.003483794</td><td>5.029496e-06</td><td>1.0027044</td><td>1124.0</td><td>0.0</td><td>False</td></tr>\n",
       "<tr><td>HELP_J033655.442-295449.596</td><td>54.23101021455793</td><td>-29.91377659143576</td><td>236.55391</td><td>506.73215</td><td>68.16577</td><td>-0.0006361296</td><td>5.0581343e-06</td><td>0.9994119</td><td>1476.0</td><td>0.0</td><td>False</td></tr>\n",
       "<tr><td>HELP_J033616.314-295548.181</td><td>54.067976200022855</td><td>-29.9300503059918</td><td>301.9198</td><td>318.07288</td><td>286.00903</td><td>-0.004160782</td><td>5.0500876e-06</td><td>nan</td><td>1700.0</td><td>0.0</td><td>False</td></tr>\n",
       "<tr><td>HELP_J033601.094-295546.425</td><td>54.00455690002285</td><td>-29.929562435991798</td><td>81.58568</td><td>95.428375</td><td>67.528366</td><td>0.0016651336</td><td>4.938521e-06</td><td>nan</td><td>1122.0</td><td>0.0</td><td>False</td></tr>\n",
       "<tr><td>HELP_J033608.786-295409.821</td><td>54.03660934002285</td><td>-29.9027279559918</td><td>6.9124126</td><td>15.632443</td><td>2.0185032</td><td>-0.0052455342</td><td>5.063621e-06</td><td>nan</td><td>2000.0</td><td>0.0</td><td>True</td></tr>\n",
       "<tr><td>HELP_J033606.888-295518.496</td><td>54.028701300022846</td><td>-29.9218044959918</td><td>36.028355</td><td>50.140163</td><td>21.682087</td><td>-0.0052455342</td><td>5.063621e-06</td><td>nan</td><td>719.0</td><td>0.0</td><td>False</td></tr>\n",
       "<tr><td>HELP_J033610.856-295506.940</td><td>54.04523478002285</td><td>-29.918594405991797</td><td>250.45511</td><td>263.87708</td><td>237.46614</td><td>-0.0052455342</td><td>5.063621e-06</td><td>nan</td><td>1863.0</td><td>0.0</td><td>False</td></tr>\n",
       "<tr><td>HELP_J033607.350-295516.790</td><td>54.030623590022856</td><td>-29.9213304359918</td><td>184.89633</td><td>199.12378</td><td>170.45247</td><td>-0.0052455342</td><td>5.063621e-06</td><td>nan</td><td>1419.0</td><td>0.0</td><td>False</td></tr>\n",
       "<tr><td>HELP_J033555.160-295410.647</td><td>53.97983175002285</td><td>-29.9029574059918</td><td>1659.3827</td><td>1672.8367</td><td>1645.4224</td><td>-0.0065137288</td><td>5.1315847e-06</td><td>nan</td><td>2000.0</td><td>0.993</td><td>True</td></tr>\n",
       "<tr><td>HELP_J033557.604-295401.282</td><td>53.99001862002285</td><td>-29.900356185991797</td><td>15.390374</td><td>26.97467</td><td>5.390874</td><td>-0.0065137288</td><td>5.1315847e-06</td><td>0.9992996</td><td>1482.0</td><td>0.0</td><td>True</td></tr>\n",
       "</table>"
      ],
      "text/plain": [
       "<Table length=10>\n",
       "          help_id                   RA         ... Pval_res_24 flag_mips_24\n",
       "                                 degrees       ...                         \n",
       "          bytes27                float64       ...   float32       bool    \n",
       "--------------------------- ------------------ ... ----------- ------------\n",
       "HELP_J033650.824-295620.783 54.211766390022845 ...         0.0        False\n",
       "HELP_J033655.442-295449.596  54.23101021455793 ...         0.0        False\n",
       "HELP_J033616.314-295548.181 54.067976200022855 ...         0.0        False\n",
       "HELP_J033601.094-295546.425  54.00455690002285 ...         0.0        False\n",
       "HELP_J033608.786-295409.821  54.03660934002285 ...         0.0         True\n",
       "HELP_J033606.888-295518.496 54.028701300022846 ...         0.0        False\n",
       "HELP_J033610.856-295506.940  54.04523478002285 ...         0.0        False\n",
       "HELP_J033607.350-295516.790 54.030623590022856 ...         0.0        False\n",
       "HELP_J033555.160-295410.647  53.97983175002285 ...       0.993         True\n",
       "HELP_J033557.604-295401.282  53.99001862002285 ...         0.0         True"
      ]
     },
     "execution_count": 5,
     "metadata": {},
     "output_type": "execute_result"
    }
   ],
   "source": [
    "XID_MIPS[0:10]"
   ]
  },
  {
   "cell_type": "code",
   "execution_count": 8,
   "metadata": {},
   "outputs": [
    {
     "data": {
      "image/png": "[encoded data removed]",
      "text/plain": [
       "<Figure size 432x432 with 3 Axes>"
      ]
     },
     "metadata": {
      "needs_background": "light"
     },
     "output_type": "display_data"
    }
   ],
   "source": [
    "import seaborn as sns\n",
    "skew=(XID_MIPS['FErr_MIPS_24_u']-XID_MIPS['F_MIPS_24'])/(XID_MIPS['F_MIPS_24']-XID_MIPS['FErr_MIPS_24_l'])\n",
    "skew.name='(84th-50th)/(50th-16th) percentile'\n",
    "use = skew < 5\n",
    "g=sns.jointplot(x=np.log10(XID_MIPS['F_MIPS_24'][use]),y=skew[use], kind='hex')"
   ]
  },
  {
   "cell_type": "markdown",
   "metadata": {},
   "source": [
    "The uncertianties become Gaussian by $\\sim 20 \\mathrm{\\mu Jy}$"
   ]
  },
  {
   "cell_type": "code",
   "execution_count": 9,
   "metadata": {},
   "outputs": [],
   "source": [
    "good=XID_MIPS['F_MIPS_24']>20"
   ]
  },
  {
   "cell_type": "code",
   "execution_count": 10,
   "metadata": {},
   "outputs": [
    {
     "data": {
      "text/plain": [
       "283406"
      ]
     },
     "execution_count": 10,
     "metadata": {},
     "output_type": "execute_result"
    }
   ],
   "source": [
    "good.sum()"
   ]
  },
  {
   "cell_type": "markdown",
   "metadata": {},
   "source": [
    "## Read in Maps"
   ]
  },
  {
   "cell_type": "code",
   "execution_count": 11,
   "metadata": {},
   "outputs": [],
   "source": [
    "# pswfits='../data/CDFS-SWIRE/SPIRE/CDFS-SWIRE-NEST_image_250_SMAP_v6.0.fits'#SPIRE 250 map\n",
    "# pmwfits='../data/CDFS-SWIRE/SPIRE/CDFS-SWIRE-NEST_image_350_SMAP_v6.0.fits'#SPIRE 350 map\n",
    "# plwfits='../data/CDFS-SWIRE/SPIRE/CDFS-SWIRE-NEST_image_500_SMAP_v6.0.fits'#SPIRE 500 map\n",
    "\n",
    "# pswfits='../../dmu19/dmu19_CDFS-SWIRE/data/CDFS-SWIRE-NEST_image_250_SMAP_v6.0.fits'#SPIRE 250 map\n",
    "# pmwfits='../../dmu19/dmu19_CDFS-SWIRE/data/CDFS-SWIRE-NEST_image_350_SMAP_v6.0.fits'#SPIRE 350 map\n",
    "# plwfits='../../dmu19/dmu19_CDFS-SWIRE/data/CDFS-SWIRE-NEST_image_500_SMAP_v6.0.fits'#SPIRE 500 map\n",
    "\n",
    "pswfits='../../dmu19/dmu19_HELP-SPIRE-maps/data/CDFS-SWIRE_SPIRE250_v1.0.fits'#SPIRE 250 map\n",
    "pmwfits='../../dmu19/dmu19_HELP-SPIRE-maps/data/CDFS-SWIRE_SPIRE350_v1.0.fits'#SPIRE 350 map\n",
    "plwfits='../../dmu19/dmu19_HELP-SPIRE-maps/data/CDFS-SWIRE_SPIRE500_v1.0.fits'#SPIRE 500 map\n",
    "\n",
    "\n",
    "#output folder\n",
    "output_folder='./data/'"
   ]
  },
  {
   "cell_type": "code",
   "execution_count": 10,
   "metadata": {
    "collapsed": true,
    "jupyter": {
     "outputs_hidden": true
    }
   },
   "outputs": [],
   "source": [
    "# from astropy.io import fits\n",
    "# from astropy import wcs\n",
    "\n",
    "# #-----250-------------\n",
    "# hdulist = fits.open(pswfits)\n",
    "# im250phdu=hdulist[0].header\n",
    "# im250hdu=hdulist[1].header\n",
    "\n",
    "# im250=hdulist[1].data*1.0E3 #convert to mJy\n",
    "# nim250=hdulist[2].data*1.0E3 #convert to mJy\n",
    "# w_250 = wcs.WCS(hdulist[1].header)\n",
    "# pixsize250=3600.0*w_250.wcs.cd[1,1] #pixel size (in arcseconds)\n",
    "# hdulist.close()\n",
    "# #-----350-------------\n",
    "# hdulist = fits.open(pmwfits)\n",
    "# im350phdu=hdulist[0].header\n",
    "# im350hdu=hdulist[1].header\n",
    "\n",
    "# im350=hdulist[1].data*1.0E3 #convert to mJy\n",
    "# nim350=hdulist[2].data*1.0E3 #convert to mJy\n",
    "# w_350 = wcs.WCS(hdulist[1].header)\n",
    "# pixsize350=3600.0*w_350.wcs.cd[1,1] #pixel size (in arcseconds)\n",
    "# hdulist.close()\n",
    "# #-----500-------------\n",
    "# hdulist = fits.open(plwfits)\n",
    "# im500phdu=hdulist[0].header\n",
    "# im500hdu=hdulist[1].header\n",
    "# im500=hdulist[1].data*1.0E3 #convert to mJy\n",
    "# nim500=hdulist[2].data*1.0E3 #convert to mJy\n",
    "# w_500 = wcs.WCS(hdulist[1].header)\n",
    "# pixsize500=3600.0*w_500.wcs.cd[1,1] #pixel size (in arcseconds)\n",
    "# hdulist.close()"
   ]
  },
  {
   "cell_type": "code",
   "execution_count": 12,
   "metadata": {},
   "outputs": [],
   "source": [
    "from astropy.io import fits\n",
    "from astropy import wcs\n",
    "\n",
    "#-----250-------------\n",
    "hdulist = fits.open(pswfits)\n",
    "im250phdu=hdulist[0].header\n",
    "im250hdu=hdulist['IMAGE'].header\n",
    "\n",
    "im250=hdulist['IMAGE'].data*1.0E3 #convert to mJy\n",
    "nim250=hdulist['ERROR'].data*1.0E3 #convert to mJy\n",
    "w_250 = wcs.WCS(hdulist['IMAGE'].header)\n",
    "pixsize250=3600.0*w_250.wcs.cd[1,1] #pixel size (in arcseconds)\n",
    "hdulist.close()\n",
    "#-----350-------------\n",
    "hdulist = fits.open(pmwfits)\n",
    "im350phdu=hdulist[0].header\n",
    "im350hdu=hdulist['IMAGE'].header\n",
    "\n",
    "im350=hdulist['IMAGE'].data*1.0E3 #convert to mJy\n",
    "nim350=hdulist['ERROR'].data*1.0E3 #convert to mJy\n",
    "w_350 = wcs.WCS(hdulist['IMAGE'].header)\n",
    "pixsize350=3600.0*w_350.wcs.cd[1,1] #pixel size (in arcseconds)\n",
    "hdulist.close()\n",
    "#-----500-------------\n",
    "hdulist = fits.open(plwfits)\n",
    "im500phdu=hdulist[0].header\n",
    "im500hdu=hdulist['IMAGE'].header\n",
    "\n",
    "im500=hdulist['IMAGE'].data*1.0E3 #convert to mJy\n",
    "nim500=hdulist['ERROR'].data*1.0E3 #convert to mJy\n",
    "w_500 = wcs.WCS(hdulist['IMAGE'].header)\n",
    "pixsize500=3600.0*w_500.wcs.cd[1,1] #pixel size (in arcseconds)\n",
    "hdulist.close()"
   ]
  },
  {
   "cell_type": "code",
   "execution_count": 13,
   "metadata": {},
   "outputs": [],
   "source": [
    "## Set XID+ prior class"
   ]
  },
  {
   "cell_type": "code",
   "execution_count": 14,
   "metadata": {},
   "outputs": [],
   "source": [
    "#---prior250--------\n",
    "prior250=xidplus.prior(im250,nim250,im250phdu,im250hdu, moc=Sel_func)#Initialise with map, uncertianty map, wcs info and primary header\n",
    "prior250.prior_cat(XID_MIPS['RA'][good],XID_MIPS['Dec'][good],'dmu26_XID+MIPS_CDFS-SWIRE_cat_20201205.fits',ID=XID_MIPS['help_id'][good])#Set input catalogue\n",
    "prior250.prior_bkg(-5.0,5)#Set prior on background (assumes Gaussian pdf with mu and sigma)\n",
    "#---prior350--------\n",
    "prior350=xidplus.prior(im350,nim350,im350phdu,im350hdu, moc=Sel_func)\n",
    "prior350.prior_cat(XID_MIPS['RA'][good],XID_MIPS['Dec'][good],'dmu26_XID+MIPS_CDFS-SWIRE_cat_20201205.fits',ID=XID_MIPS['help_id'][good])\n",
    "prior350.prior_bkg(-5.0,5)\n",
    "\n",
    "#---prior500--------\n",
    "prior500=xidplus.prior(im500,nim500,im500phdu,im500hdu, moc=Sel_func)\n",
    "prior500.prior_cat(XID_MIPS['RA'][good],XID_MIPS['Dec'][good],'dmu26_XID+MIPS_CDFS-SWIRE_cat_20201205.fits',ID=XID_MIPS['help_id'][good])\n",
    "prior500.prior_bkg(-5.0,5)"
   ]
  },
  {
   "cell_type": "code",
   "execution_count": 15,
   "metadata": {},
   "outputs": [],
   "source": [
    "#pixsize array (size of pixels in arcseconds)\n",
    "pixsize=np.array([pixsize250,pixsize350,pixsize500])\n",
    "#point response function for the three bands\n",
    "prfsize=np.array([18.15,25.15,36.3])\n",
    "#use Gaussian2DKernel to create prf (requires stddev rather than fwhm hence pfwhm/2.355)\n",
    "from astropy.convolution import Gaussian2DKernel\n",
    "\n",
    "##---------fit using Gaussian beam-----------------------\n",
    "prf250=Gaussian2DKernel(prfsize[0]/2.355,x_size=101,y_size=101)\n",
    "prf250.normalize(mode='peak')\n",
    "prf350=Gaussian2DKernel(prfsize[1]/2.355,x_size=101,y_size=101)\n",
    "prf350.normalize(mode='peak')\n",
    "prf500=Gaussian2DKernel(prfsize[2]/2.355,x_size=101,y_size=101)\n",
    "prf500.normalize(mode='peak')\n",
    "\n",
    "pind250=np.arange(0,101,1)*1.0/pixsize[0] #get 250 scale in terms of pixel scale of map\n",
    "pind350=np.arange(0,101,1)*1.0/pixsize[1] #get 350 scale in terms of pixel scale of map\n",
    "pind500=np.arange(0,101,1)*1.0/pixsize[2] #get 500 scale in terms of pixel scale of map\n",
    "\n",
    "prior250.set_prf(prf250.array,pind250,pind250)#requires psf as 2d grid, and x and y bins for grid (in pixel scale)\n",
    "prior350.set_prf(prf350.array,pind350,pind350)\n",
    "prior500.set_prf(prf500.array,pind500,pind500)"
   ]
  },
  {
   "cell_type": "code",
   "execution_count": 17,
   "metadata": {},
   "outputs": [
    {
     "name": "stdout",
     "output_type": "stream",
     "text": [
      "----- There are 670 tiles required for input catalogue and 18 large tiles\n"
     ]
    },
    {
     "ename": "SystemExit",
     "evalue": "",
     "output_type": "error",
     "traceback": [
      "An exception has occurred, use %tb to see the full traceback.\n",
      "\u001b[0;31mSystemExit\u001b[0m\n"
     ]
    }
   ],
   "source": [
    "# import pickle\n",
    "# #from moc, get healpix pixels at a given order\n",
    "# from xidplus import moc_routines\n",
    "# order=9\n",
    "# tiles=moc_routines.get_HEALPix_pixels(order,prior250.sra,prior250.sdec,unique=True)\n",
    "# order_large=6\n",
    "# tiles_large=moc_routines.get_HEALPix_pixels(order_large,prior250.sra,prior250.sdec,unique=True)\n",
    "# print('----- There are '+str(len(tiles))+' tiles required for input catalogue and '+str(len(tiles_large))+' large tiles')\n",
    "# output_folder='./'\n",
    "# outfile=output_folder+'Master_prior.pkl'\n",
    "# with open(outfile, 'wb') as f:\n",
    "#     pickle.dump({'priors':[prior250,prior350,prior500],'tiles':tiles,'order':order,'version':xidplus.io.git_version()},f)\n",
    "# outfile=output_folder+'Tiles.pkl'\n",
    "# with open(outfile, 'wb') as f:\n",
    "#     pickle.dump({'tiles':tiles,'order':order,'tiles_large':tiles_large,'order_large':order_large,'version':xidplus.io.git_version()},f)\n",
    "# raise SystemExit()"
   ]
  },
  {
   "cell_type": "code",
   "execution_count": 18,
   "metadata": {},
   "outputs": [
    {
     "data": {
      "text/plain": [
       "240489"
      ]
     },
     "execution_count": 18,
     "metadata": {},
     "output_type": "execute_result"
    }
   ],
   "source": [
    "# prior250.nsrc"
   ]
  },
  {
   "cell_type": "code",
   "execution_count": 16,
   "metadata": {},
   "outputs": [
    {
     "name": "stdout",
     "output_type": "stream",
     "text": [
      "----- There are 676 tiles required for input catalogue and 18 large tiles\n"
     ]
    },
    {
     "ename": "SystemExit",
     "evalue": "",
     "output_type": "error",
     "traceback": [
      "An exception has occurred, use %tb to see the full traceback.\n",
      "\u001b[0;31mSystemExit\u001b[0m\n"
     ]
    }
   ],
   "source": [
    "import pickle\n",
    "#from moc, get healpix pixels at a given order\n",
    "from xidplus import moc_routines\n",
    "order=9\n",
    "tiles=moc_routines.get_HEALPix_pixels(order,prior250.sra,prior250.sdec,unique=True)\n",
    "order_large=6\n",
    "tiles_large=moc_routines.get_HEALPix_pixels(order_large,prior250.sra,prior250.sdec,unique=True)\n",
    "print('----- There are '+str(len(tiles))+' tiles required for input catalogue and '+str(len(tiles_large))+' large tiles')\n",
    "output_folder='./data/'\n",
    "outfile=output_folder+'Master_prior.pkl'\n",
    "with open(outfile, 'wb') as f:\n",
    "    pickle.dump({'priors':[prior250,prior350,prior500],'tiles':tiles,'order':order,'version':xidplus.io.git_version()},f)\n",
    "outfile=output_folder+'Tiles.pkl'\n",
    "with open(outfile, 'wb') as f:\n",
    "    pickle.dump({'tiles':tiles,'order':order,'tiles_large':tiles_large,'order_large':order_large,'version':xidplus.io.git_version()},f)\n",
    "raise SystemExit()"
   ]
  },
  {
   "cell_type": "code",
   "execution_count": 17,
   "metadata": {},
   "outputs": [
    {
     "data": {
      "text/plain": [
       "283406"
      ]
     },
     "execution_count": 17,
     "metadata": {},
     "output_type": "execute_result"
    }
   ],
   "source": [
    "prior250.nsrc"
   ]
  },
  {
   "cell_type": "code",
   "execution_count": null,
   "metadata": {
    "collapsed": true,
    "jupyter": {
     "outputs_hidden": true
    }
   },
   "outputs": [],
   "source": []
  }
 ],
 "metadata": {
  "kernelspec": {
   "display_name": "Python 3",
   "language": "python",
   "name": "python3"
  },
  "language_info": {
   "codemirror_mode": {
    "name": "ipython",
    "version": 3
   },
   "file_extension": ".py",
   "mimetype": "text/x-python",
   "name": "python",
   "nbconvert_exporter": "python",
   "pygments_lexer": "ipython3",
   "version": "3.8.3"
  }
 },
 "nbformat": 4,
 "nbformat_minor": 4
}
