{
 "cells": [
  {
   "cell_type": "code",
   "execution_count": 1,
   "metadata": {
    "collapsed": true
   },
   "outputs": [
    {
     "name": "stderr",
     "output_type": "stream",
     "text": [
      "/home/mc741/anaconda3/lib/python3.6/site-packages/mpl_toolkits/axes_grid/__init__.py:12: MatplotlibDeprecationWarning: \n",
      "The mpl_toolkits.axes_grid module was deprecated in Matplotlib 2.1 and will be removed two minor releases later. Use mpl_toolkits.axes_grid1 and mpl_toolkits.axisartist provies the same functionality instead.\n",
      "  obj_type='module')\n"
     ]
    }
   ],
   "source": [
    "import pylab\n",
    "import pymoc\n",
    "import xidplus\n",
    "import numpy as np\n",
    "%matplotlib inline\n",
    "from astropy.table import Table\n",
    "from astropy.io import fits\n",
    "from astropy import wcs\n",
    "import seaborn as sns"
   ]
  },
  {
   "cell_type": "markdown",
   "metadata": {},
   "source": [
    "This notebook uses all the raw data from the XID+MIPS catalogue, maps, PSF and relevant MOCs to create XID+ prior object and relevant tiling scheme"
   ]
  },
  {
   "cell_type": "markdown",
   "metadata": {},
   "source": [
    "## Read in MOCs\n",
    "The selection functions required are the main MOC associated with the masterlist. The prior for XID+ is based on IRAC detected sources coming from SWIRE."
   ]
  },
  {
   "cell_type": "code",
   "execution_count": 2,
   "metadata": {
    "collapsed": true
   },
   "outputs": [],
   "source": [
    "Sel_func=pymoc.MOC()\n",
    "Sel_func.read('../../dmu4/dmu4_sm_ELAIS-N2/data/holes_ELAIS-N2_irac_i1_O16_20180921_MOC.fits')\n",
    "SWIRE_MOC=pymoc.MOC()\n",
    "SWIRE_MOC.read('../../dmu0/dmu0_DataFusion-Spitzer/data/DF-SWIRE_ELAIS-N2_MOC.fits')\n",
    "Final=Sel_func.intersection(SWIRE_MOC)"
   ]
  },
  {
   "cell_type": "markdown",
   "metadata": {},
   "source": [
    "## Read in XID+MIPS catalogue"
   ]
  },
  {
   "cell_type": "code",
   "execution_count": 3,
   "metadata": {
    "collapsed": false
   },
   "outputs": [],
   "source": [
    "XID_MIPS=Table.read('../dmu26_XID+MIPS_ELAIS-N2/data/output/dmu26_XID+MIPS_ELAIS-N2_SWIRE_cat_20181108.fits')"
   ]
  },
  {
   "cell_type": "code",
   "execution_count": 4,
   "metadata": {
    "collapsed": false
   },
   "outputs": [
    {
     "data": {
      "text/html": [
       "<i>Table length=10</i>\n",
       "<table id=\"table140134582541560\" class=\"table-striped table-bordered table-condensed\">\n",
       "<thead><tr><th>help_id</th><th>RA</th><th>Dec</th><th>F_MIPS_24</th><th>FErr_MIPS_24_u</th><th>FErr_MIPS_24_l</th><th>Bkg_MIPS_24</th><th>Sig_conf_MIPS_24</th><th>Rhat_MIPS_24</th><th>n_eff_MIPS_24</th><th>Pval_res_24</th><th>flag_mips_24</th></tr></thead>\n",
       "<thead><tr><th></th><th>degrees</th><th>degrees</th><th>muJy</th><th>muJy</th><th>muJy</th><th>MJy / sr</th><th>MJy / sr</th><th></th><th></th><th></th><th></th></tr></thead>\n",
       "<thead><tr><th>bytes27</th><th>float64</th><th>float64</th><th>float32</th><th>float32</th><th>float32</th><th>float32</th><th>float32</th><th>float32</th><th>float32</th><th>float32</th><th>bool</th></tr></thead>\n",
       "<tr><td>HELP_J163346.992+394243.420</td><td>248.445799537607</td><td>39.712061083265695</td><td>14.360089</td><td>28.563936</td><td>5.267528</td><td>-0.00041493773</td><td>5.2701807e-06</td><td>nan</td><td>801.0</td><td>0.0</td><td>True</td></tr>\n",
       "<tr><td>HELP_J163354.120+394351.612</td><td>248.475501874607</td><td>39.7310033402657</td><td>25.430574</td><td>40.34344</td><td>11.7319975</td><td>0.0006374985</td><td>5.1512056e-06</td><td>nan</td><td>2000.0</td><td>0.0</td><td>False</td></tr>\n",
       "<tr><td>HELP_J163352.386+394403.444</td><td>248.468276218376</td><td>39.7342898946138</td><td>125.43618</td><td>140.12993</td><td>109.88434</td><td>0.0006374985</td><td>5.1512056e-06</td><td>1.0011711</td><td>2000.0</td><td>0.0</td><td>False</td></tr>\n",
       "<tr><td>HELP_J163352.492+394246.993</td><td>248.468716218376</td><td>39.7130536946138</td><td>262.72702</td><td>276.2755</td><td>247.86346</td><td>0.0006374985</td><td>5.1512056e-06</td><td>0.9981907</td><td>2000.0</td><td>0.0</td><td>False</td></tr>\n",
       "<tr><td>HELP_J163352.915+394257.838</td><td>248.470479318376</td><td>39.7160660946138</td><td>71.052124</td><td>83.45411</td><td>59.446747</td><td>0.0006374985</td><td>5.1512056e-06</td><td>nan</td><td>2000.0</td><td>0.0</td><td>False</td></tr>\n",
       "<tr><td>HELP_J163350.599+394301.108</td><td>248.460827683607</td><td>39.71697437126569</td><td>117.74637</td><td>131.73906</td><td>103.897964</td><td>0.0006374985</td><td>5.1512056e-06</td><td>0.9987709</td><td>2000.0</td><td>0.0</td><td>False</td></tr>\n",
       "<tr><td>HELP_J163353.384+394244.961</td><td>248.472431358607</td><td>39.712489031265704</td><td>3.9729717</td><td>9.538257</td><td>1.1805742</td><td>0.0006374985</td><td>5.1512056e-06</td><td>nan</td><td>2000.0</td><td>0.0</td><td>True</td></tr>\n",
       "<tr><td>HELP_J163353.119+394332.116</td><td>248.47133095060698</td><td>39.7255878742657</td><td>141.08069</td><td>156.3033</td><td>126.02507</td><td>0.0006374985</td><td>5.1512056e-06</td><td>nan</td><td>2000.0</td><td>0.0</td><td>False</td></tr>\n",
       "<tr><td>HELP_J163352.514+394240.707</td><td>248.468809963607</td><td>39.71130763026569</td><td>139.11339</td><td>153.15056</td><td>124.75665</td><td>0.0006374985</td><td>5.1512056e-06</td><td>nan</td><td>2000.0</td><td>0.0</td><td>False</td></tr>\n",
       "<tr><td>HELP_J163352.582+394323.793</td><td>248.469093346607</td><td>39.7232758642657</td><td>6.942023</td><td>15.529887</td><td>1.9808115</td><td>0.0006374985</td><td>5.1512056e-06</td><td>nan</td><td>2000.0</td><td>0.0</td><td>True</td></tr>\n",
       "</table>"
      ],
      "text/plain": [
       "<Table length=10>\n",
       "          help_id                   RA         ... Pval_res_24 flag_mips_24\n",
       "                                 degrees       ...                         \n",
       "          bytes27                float64       ...   float32       bool    \n",
       "--------------------------- ------------------ ... ----------- ------------\n",
       "HELP_J163346.992+394243.420   248.445799537607 ...         0.0         True\n",
       "HELP_J163354.120+394351.612   248.475501874607 ...         0.0        False\n",
       "HELP_J163352.386+394403.444   248.468276218376 ...         0.0        False\n",
       "HELP_J163352.492+394246.993   248.468716218376 ...         0.0        False\n",
       "HELP_J163352.915+394257.838   248.470479318376 ...         0.0        False\n",
       "HELP_J163350.599+394301.108   248.460827683607 ...         0.0        False\n",
       "HELP_J163353.384+394244.961   248.472431358607 ...         0.0         True\n",
       "HELP_J163353.119+394332.116 248.47133095060698 ...         0.0        False\n",
       "HELP_J163352.514+394240.707   248.468809963607 ...         0.0        False\n",
       "HELP_J163352.582+394323.793   248.469093346607 ...         0.0         True"
      ]
     },
     "execution_count": 4,
     "metadata": {},
     "output_type": "execute_result"
    }
   ],
   "source": [
    "XID_MIPS[0:10]"
   ]
  },
  {
   "cell_type": "code",
   "execution_count": 5,
   "metadata": {
    "collapsed": false
   },
   "outputs": [
    {
     "name": "stdout",
     "output_type": "stream",
     "text": [
      "4.9961205\n",
      "86\n"
     ]
    },
    {
     "data": {
      "image/png": "[encoded data removed]",
      "text/plain": [
       "<Figure size 432x432 with 3 Axes>"
      ]
     },
     "metadata": {
      "needs_background": "light"
     },
     "output_type": "display_data"
    }
   ],
   "source": [
    "skew=(XID_MIPS['FErr_MIPS_24_u']-XID_MIPS['F_MIPS_24'])/(XID_MIPS['F_MIPS_24']-XID_MIPS['FErr_MIPS_24_l'])\n",
    "skew.name='(84th-50th)/(50th-16th) percentile'\n",
    "use = skew < 5 \n",
    "n_use=skew>5\n",
    "g=sns.jointplot(x=np.log10(XID_MIPS['F_MIPS_24'][use]),y=skew[use] ,kind='hex')\n",
    "print(np.max(skew[use]))\n",
    "print(len(skew[n_use]))\n"
   ]
  },
  {
   "cell_type": "markdown",
   "metadata": {},
   "source": [
    "The uncertianties become Gaussian by $\\sim 20 \\mathrm{\\mu Jy}$"
   ]
  },
  {
   "cell_type": "code",
   "execution_count": 6,
   "metadata": {
    "collapsed": true
   },
   "outputs": [],
   "source": [
    "good=XID_MIPS['F_MIPS_24']>20"
   ]
  },
  {
   "cell_type": "code",
   "execution_count": 7,
   "metadata": {
    "collapsed": false
   },
   "outputs": [
    {
     "data": {
      "text/plain": [
       "86591"
      ]
     },
     "execution_count": 7,
     "metadata": {},
     "output_type": "execute_result"
    }
   ],
   "source": [
    "good.sum()"
   ]
  },
  {
   "cell_type": "markdown",
   "metadata": {},
   "source": [
    "## Read in Maps"
   ]
  },
  {
   "cell_type": "code",
   "execution_count": 8,
   "metadata": {
    "collapsed": true
   },
   "outputs": [],
   "source": [
    "\n",
    "#im100fits='../../dmu18/dmu18_ELAIS-N2/data/ELAIS-N2-100um-img_wgls.fits'#PACS 100 map\n",
    "#nim100fits='../../dmu18/dmu18_ELAIS-N2/data/ELAIS-N2-100um-img_noise.fits'#PACS 100 noise map\n",
    "#im160fits='../../dmu18/dmu18_ELAIS-N2/data/ELAIS-N2-160um-img_wgls.fits'#PACS 160 map\n",
    "#nim160fits='../../dmu18/dmu18_ELAIS-N2/data/ELAIS-N2-160um-img_noise.fits'#PACS 160 noise map\n",
    "\n",
    "\n",
    "im100fits='../../dmu18/dmu18_ELAIS-N2/data/input_data/HerMES_PACS_level6_ELAIS_N2_SWIRE_100um_EdoIbar_Unimap.fits'#PACS 100 map\n",
    "im160fits='../../dmu18/dmu18_ELAIS-N2/data/input_data/HerMES_PACS_level6_ELAIS_N2_SWIRE_160um_EdoIbar_Unimap.fits'#PACS 160 map\n",
    "\n",
    "#output folder\n",
    "output_folder='./'"
   ]
  },
  {
   "cell_type": "code",
   "execution_count": 9,
   "metadata": {},
   "outputs": [
    {
     "name": "stdout",
     "output_type": "stream",
     "text": [
      "Filename: ../../dmu18/dmu18_ELAIS-N2/data/input_data/HerMES_PACS_level6_ELAIS_N2_SWIRE_100um_EdoIbar_Unimap.fits\n",
      "No.    Name      Ver    Type      Cards   Dimensions   Format\n",
      "  0  PRIMARY       1 PrimaryHDU       6   ()      \n",
      "  1  IMAGE         1 ImageHDU        29   (7655, 6704)   float32   \n",
      "  2  ERROR         1 ImageHDU        29   (7655, 6704)   float32   \n",
      "  3  COVERAGE      1 ImageHDU        29   (7655, 6704)   float32   \n",
      "  4  Mask          1 ImageHDU        34   (1913, 1676)   int16   \n"
     ]
    }
   ],
   "source": [
    "hdulist = fits.open(im100fits)\n",
    "hdulist.info()\n"
   ]
  },
  {
   "cell_type": "code",
   "execution_count": 10,
   "metadata": {
    "collapsed": true
   },
   "outputs": [
    {
     "name": "stderr",
     "output_type": "stream",
     "text": [
      "WARNING: FITSFixedWarning: The WCS transformation has more axes (2) than the image it is associated with (0) [astropy.wcs.wcs]\n"
     ]
    }
   ],
   "source": [
    "from astropy.io import fits\n",
    "from astropy import wcs\n",
    "\n",
    "#-----100-------------\n",
    "hdulist = fits.open(im100fits)\n",
    "im100phdu=hdulist[0].header\n",
    "im100hdu=hdulist['IMAGE'].header\n",
    "im100=hdulist['IMAGE'].data\n",
    "w_100 = wcs.WCS(hdulist[0].header)\n",
    "pixsize100=3600.0*np.abs(hdulist['IMAGE'].header['CDELT1']) #pixel size (in arcseconds)\n",
    "\n",
    "nim100=hdulist['ERROR'].data\n",
    "hdulist.close()\n",
    "\n",
    "#-----160-------------\n",
    "hdulist = fits.open(im160fits)\n",
    "im160phdu=hdulist['IMAGE'].header\n",
    "im160hdu=hdulist['IMAGE'].header\n",
    "\n",
    "im160=hdulist['IMAGE'].data #convert to mJy\n",
    "w_160 = wcs.WCS(hdulist['IMAGE'].header)\n",
    "pixsize160=3600.0*np.abs(hdulist['IMAGE'].header['CDELT1']) #pixel size (in arcseconds)\n",
    "\n",
    "nim160=hdulist['ERROR'].data\n",
    "hdulist.close()\n"
   ]
  },
  {
   "cell_type": "code",
   "execution_count": 11,
   "metadata": {},
   "outputs": [
    {
     "name": "stdout",
     "output_type": "stream",
     "text": [
      "XTENSION= 'IMAGE   '           /Image Extension created by MWRFITS v1.11        SIMPLE  =                    T                                                  BITPIX  =                  -32                                                  NAXIS   =                    2                                                  NAXIS1  =                 7655                                                  NAXIS2  =                 6704                                                  BSCALE  =                    1                                                  BZERO   =                    0                                                  IMG_TYPE= 'wgls    '                                                            CTYPE1  = 'RA---TAN'                                                            CTYPE2  = 'DEC--TAN'                                                            CRPIX1  =          3826.850098                                                  CRPIX2  =          3351.360352                                                  CRVAL1  =          249.1884613                                                  CRVAL2  =          41.01945496                                                  CDELT1  =      -0.000555555569                                                  CDELT2  =       0.000555555569                                                  MAPCENT1=          249.1884613                                                  MAPCENT2=          41.01945496                                                  CROTA2  =                    0                                                  MAPMAKER= 'UniMap 5.4.4 - University of Rome Map Maker'                         HOMEPAGE= 'http://w3.uniroma1.it/unimap'                                        CONTACT = 'Lorenzo Piazzo - lorenzo.piazzo@uniroma1.it'                         DATE_MAP= '17-Aug-2013 map creation date'                                       BUNIT   = 'Jy/pix  '                                                            INSTRUME= 'PACS    '                                                            EXTNAME = 'IMAGE   '           /                                                PCOUNT  =                    0 /                                                GCOUNT  =                    1 /                                                END                                                                                                                                                                                                                                                                                                                                                                                                                                                                                                                                                                             \n"
     ]
    }
   ],
   "source": [
    "print (im100hdu)"
   ]
  },
  {
   "cell_type": "markdown",
   "metadata": {},
   "source": [
    "## Read in PSF"
   ]
  },
  {
   "cell_type": "code",
   "execution_count": 12,
   "metadata": {
    "collapsed": true
   },
   "outputs": [
    {
     "name": "stdout",
     "output_type": "stream",
     "text": [
      "[<astropy.io.fits.hdu.image.PrimaryHDU object at 0x7f736a69b278>, <astropy.io.fits.hdu.image.ImageHDU object at 0x7f736a6b29b0>, <astropy.io.fits.hdu.image.ImageHDU object at 0x7f736a323b38>]\n"
     ]
    }
   ],
   "source": [
    "pacs100_psf=fits.open('../../dmu18/dmu18_ELAIS-N2/data/dmu18_PACS_100_PSF_ELAIS-N2_20181213.fits')\n",
    "pacs160_psf=fits.open('../../dmu18/dmu18_ELAIS-N2/data/dmu18_PACS_160_PSF_ELAIS-N2_20181213.fits')\n",
    "\n",
    "print (pacs100_psf)\n",
    "centre100=np.long((pacs100_psf[1].header['NAXIS1']-1)/2)\n",
    "radius100=15\n",
    "centre160=np.long((pacs160_psf[1].header['NAXIS1']-1)/2)\n",
    "radius160=25\n",
    "\n",
    "pind100=np.arange(0,radius100+1+radius100,1)*3600*np.abs(pacs100_psf[1].header['CDELT1'])/pixsize100 #get 100 scale in terms of pixel scale of map\n",
    "pind160=np.arange(0,radius160+1+radius160,1)*3600*np.abs(pacs160_psf[1].header['CDELT1'])/pixsize160 #get 160 scale in terms of pixel scale of map\n",
    "\n",
    "\n"
   ]
  },
  {
   "cell_type": "code",
   "execution_count": 13,
   "metadata": {
    "collapsed": false
   },
   "outputs": [
    {
     "name": "stdout",
     "output_type": "stream",
     "text": [
      "[ 0.  1.  2.  3.  4.  5.  6.  7.  8.  9. 10. 11. 12. 13. 14. 15. 16. 17.\n",
      " 18. 19. 20. 21. 22. 23. 24. 25. 26. 27. 28. 29. 30.]\n"
     ]
    }
   ],
   "source": [
    "print(pind100)"
   ]
  },
  {
   "cell_type": "code",
   "execution_count": 14,
   "metadata": {
    "collapsed": false
   },
   "outputs": [
    {
     "data": {
      "text/plain": [
       "<matplotlib.colorbar.Colorbar at 0x7f73688c6f60>"
      ]
     },
     "execution_count": 14,
     "metadata": {},
     "output_type": "execute_result"
    },
    {
     "data": {
      "image/png": "[encoded data removed]",
      "text/plain": [
       "<Figure size 1440x720 with 4 Axes>"
      ]
     },
     "metadata": {
      "needs_background": "light"
     },
     "output_type": "display_data"
    }
   ],
   "source": [
    "import pylab as plt\n",
    "plt.figure(figsize=(20,10))\n",
    "plt.subplot(1,2,1)\n",
    "plt.imshow(pacs100_psf[1].data[centre100-radius100:centre100+radius100+1,centre100-radius100:centre100+radius100+1])\n",
    "plt.colorbar()\n",
    "plt.subplot(1,2,2)\n",
    "plt.imshow(pacs160_psf[1].data[centre160-radius160:centre160+radius160+1,centre160-radius160:centre160+radius160+1])\n",
    "plt.colorbar()\n"
   ]
  },
  {
   "cell_type": "markdown",
   "metadata": {},
   "source": [
    "## Set XID+ prior class"
   ]
  },
  {
   "cell_type": "code",
   "execution_count": 15,
   "metadata": {
    "collapsed": true
   },
   "outputs": [],
   "source": [
    "#---prior100--------\n",
    "prior100=xidplus.prior(im100,nim100,im100phdu,im100hdu, moc=Final)#Initialise with map, uncertianty map, wcs info and primary header\n",
    "prior100.prior_cat(XID_MIPS['RA'][good],XID_MIPS['Dec'][good],'dmu26_XID+MIPS_ELAIS-N2.fits',ID=XID_MIPS['help_id'][good])#Set input catalogue\n",
    "prior100.prior_bkg(0.0,5)#Set prior on background (assumes Gaussian pdf with mu and sigma)\n",
    "\n",
    "#---prior160--------\n",
    "prior160=xidplus.prior(im160,nim160,im160phdu,im160hdu, moc=Final)\n",
    "prior160.prior_cat(XID_MIPS['RA'][good],XID_MIPS['Dec'][good],'dmu26_XID+MIPS_ELAIS-N2.fits',ID=XID_MIPS['help_id'][good])\n",
    "prior160.prior_bkg(0.0,5)\n"
   ]
  },
  {
   "cell_type": "code",
   "execution_count": 16,
   "metadata": {
    "collapsed": true
   },
   "outputs": [],
   "source": [
    "# Divide by 1000 so that units are mJy\n",
    "prior100.set_prf(pacs100_psf[1].data[centre100-radius100:centre100+radius100+1,centre100-radius100:centre100+radius100+1]/1000.0,\n",
    "                pind100,pind100)\n",
    "prior160.set_prf(pacs160_psf[1].data[centre160-radius160:centre160+radius160+1,centre160-radius160:centre160+radius160+1]/1000.0,\n",
    "                pind160,pind160)"
   ]
  },
  {
   "cell_type": "code",
   "execution_count": 17,
   "metadata": {
    "collapsed": false
   },
   "outputs": [
    {
     "name": "stdout",
     "output_type": "stream",
     "text": [
      "----- There are 5409 tiles required for input catalogue and 13 large tiles\n"
     ]
    },
    {
     "ename": "SystemExit",
     "evalue": "",
     "output_type": "error",
     "traceback": [
      "An exception has occurred, use %tb to see the full traceback.\n",
      "\u001b[0;31mSystemExit\u001b[0m\n"
     ]
    }
   ],
   "source": [
    "import pickle\n",
    "#from moc, get healpix pixels at a given order\n",
    "from xidplus import moc_routines\n",
    "order=11\n",
    "tiles=moc_routines.get_HEALPix_pixels(order,prior100.sra,prior100.sdec,unique=True)\n",
    "order_large=6\n",
    "tiles_large=moc_routines.get_HEALPix_pixels(order_large,prior100.sra,prior100.sdec,unique=True)\n",
    "print('----- There are '+str(len(tiles))+' tiles required for input catalogue and '+str(len(tiles_large))+' large tiles')\n",
    "output_folder='./'\n",
    "outfile=output_folder+'Master_prior.pkl'\n",
    "with open(outfile, 'wb') as f:\n",
    "    pickle.dump({'priors':[prior100,prior160],'tiles':tiles,'order':order,'version':xidplus.io.git_version()},f)\n",
    "outfile=output_folder+'Tiles.pkl'\n",
    "with open(outfile, 'wb') as f:\n",
    "    pickle.dump({'tiles':tiles,'order':order,'tiles_large':tiles_large,'order_large':order_large,'version':xidplus.io.git_version()},f)\n",
    "raise SystemExit()"
   ]
  },
  {
   "cell_type": "code",
   "execution_count": null,
   "metadata": {
    "collapsed": true
   },
   "outputs": [],
   "source": []
  }
 ],
 "metadata": {
  "kernelspec": {
   "display_name": "Python 3",
   "language": "python",
   "name": "python3"
  },
  "language_info": {
   "codemirror_mode": {
    "name": "ipython",
    "version": 3
   },
   "file_extension": ".py",
   "mimetype": "text/x-python",
   "name": "python",
   "nbconvert_exporter": "python",
   "pygments_lexer": "ipython3",
   "version": "3.6.6"
  }
 },
 "nbformat": 4,
 "nbformat_minor": 2
}
