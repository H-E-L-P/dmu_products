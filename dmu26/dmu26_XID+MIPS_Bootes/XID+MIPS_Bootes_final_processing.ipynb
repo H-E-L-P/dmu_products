{
 "cells": [
  {
   "cell_type": "code",
   "execution_count": 5,
   "metadata": {},
   "outputs": [],
   "source": [
    "import pylab\n",
    "import pymoc\n",
    "import xidplus\n",
    "import numpy as np\n",
    "%matplotlib inline\n",
    "from astropy.io import fits\n",
    "from astropy import wcs\n",
    "from astropy.table import Table"
   ]
  },
  {
   "cell_type": "markdown",
   "metadata": {},
   "source": [
    "## Read tables"
   ]
  },
  {
   "cell_type": "code",
   "execution_count": 6,
   "metadata": {},
   "outputs": [],
   "source": [
    "SWIRE_cat=Table.read('./data/dmu26_XID+MIPS_Bootes_cat.fits')"
   ]
  },
  {
   "cell_type": "code",
   "execution_count": 7,
   "metadata": {},
   "outputs": [
    {
     "data": {
      "text/html": [
       "<i>Table length=10</i>\n",
       "<table id=\"table140021165206352\" class=\"table-striped table-bordered table-condensed\">\n",
       "<thead><tr><th>help_id</th><th>RA</th><th>Dec</th><th>F_MIPS_24</th><th>FErr_MIPS_24_u</th><th>FErr_MIPS_24_l</th><th>Bkg_MIPS_24</th><th>Sig_conf_MIPS_24</th><th>Rhat_MIPS_24</th><th>n_eff_MIPS_24</th><th>Pval_res_24</th></tr></thead>\n",
       "<thead><tr><th></th><th>degrees</th><th>degrees</th><th>muJy</th><th>muJy</th><th>muJy</th><th>MJy / sr</th><th>MJy / sr</th><th></th><th></th><th></th></tr></thead>\n",
       "<thead><tr><th>bytes27</th><th>float64</th><th>float64</th><th>float32</th><th>float32</th><th>float32</th><th>float32</th><th>float32</th><th>float32</th><th>float32</th><th>float32</th></tr></thead>\n",
       "<tr><td>HELP_J142532.010+323934.707</td><td>216.383375208803</td><td>32.6596409059389</td><td>3.432481</td><td>8.387222</td><td>0.89181817</td><td>-0.0013047275</td><td>4.913415e-06</td><td>0.9986426</td><td>2000.0</td><td>0.0</td></tr>\n",
       "<tr><td>HELP_J142532.800+323945.723</td><td>216.38666555616197</td><td>32.662700727634004</td><td>-39.001587</td><td>-25.958603</td><td>-53.792427</td><td>-0.0013047275</td><td>4.913415e-06</td><td>1.0025071</td><td>2000.0</td><td>0.0</td></tr>\n",
       "<tr><td>HELP_J142533.193+323941.822</td><td>216.38830235616197</td><td>32.661617327634</td><td>-29.605513</td><td>-15.073171</td><td>-44.363415</td><td>-0.0013047275</td><td>4.913415e-06</td><td>1.0059888</td><td>776.0</td><td>0.0</td></tr>\n",
       "<tr><td>HELP_J142535.865+323854.257</td><td>216.3994360921625</td><td>32.64840483834955</td><td>19.40917</td><td>33.105164</td><td>7.6843433</td><td>-0.0013047275</td><td>4.913415e-06</td><td>1.0001347</td><td>1096.0</td><td>0.0</td></tr>\n",
       "<tr><td>HELP_J142540.861+324026.226</td><td>216.42025485616196</td><td>32.673951727634</td><td>18.31059</td><td>33.506855</td><td>6.543136</td><td>-0.0020661626</td><td>5.005267e-06</td><td>1.0009118</td><td>2000.0</td><td>0.0</td></tr>\n",
       "<tr><td>HELP_J142541.339+323925.955</td><td>216.42224695616198</td><td>32.657209627634</td><td>-6.903529</td><td>-1.9368844</td><td>-15.973758</td><td>-0.0020661626</td><td>5.005267e-06</td><td>1.0005563</td><td>2000.0</td><td>0.0</td></tr>\n",
       "<tr><td>HELP_J142540.401+323948.506</td><td>216.41833815616198</td><td>32.663473927634</td><td>-12.98247</td><td>-4.0506277</td><td>-26.492723</td><td>-0.0020661626</td><td>5.005267e-06</td><td>1.0003942</td><td>2000.0</td><td>0.0</td></tr>\n",
       "<tr><td>HELP_J142538.888+324021.250</td><td>216.41203535616197</td><td>32.672569527634</td><td>-3.1099455</td><td>-0.7689666</td><td>-7.426327</td><td>-0.0020661626</td><td>5.005267e-06</td><td>0.999253</td><td>2000.0</td><td>0.0</td></tr>\n",
       "<tr><td>HELP_J142538.271+323927.172</td><td>216.40946075616196</td><td>32.657547727634004</td><td>21.587107</td><td>43.70243</td><td>7.3118677</td><td>-0.0020661626</td><td>5.005267e-06</td><td>1.0024972</td><td>1399.0</td><td>0.0</td></tr>\n",
       "<tr><td>HELP_J142533.224+323952.361</td><td>216.38843415616196</td><td>32.664544727634</td><td>3.9452796</td><td>9.64574</td><td>0.89110094</td><td>-0.0020661626</td><td>5.005267e-06</td><td>0.99893737</td><td>2000.0</td><td>0.0</td></tr>\n",
       "</table>"
      ],
      "text/plain": [
       "<Table length=10>\n",
       "          help_id                   RA         ... n_eff_MIPS_24 Pval_res_24\n",
       "                                 degrees       ...                          \n",
       "          bytes27                float64       ...    float32      float32  \n",
       "--------------------------- ------------------ ... ------------- -----------\n",
       "HELP_J142532.010+323934.707   216.383375208803 ...        2000.0         0.0\n",
       "HELP_J142532.800+323945.723 216.38666555616197 ...        2000.0         0.0\n",
       "HELP_J142533.193+323941.822 216.38830235616197 ...         776.0         0.0\n",
       "HELP_J142535.865+323854.257  216.3994360921625 ...        1096.0         0.0\n",
       "HELP_J142540.861+324026.226 216.42025485616196 ...        2000.0         0.0\n",
       "HELP_J142541.339+323925.955 216.42224695616198 ...        2000.0         0.0\n",
       "HELP_J142540.401+323948.506 216.41833815616198 ...        2000.0         0.0\n",
       "HELP_J142538.888+324021.250 216.41203535616197 ...        2000.0         0.0\n",
       "HELP_J142538.271+323927.172 216.40946075616196 ...        1399.0         0.0\n",
       "HELP_J142533.224+323952.361 216.38843415616196 ...        2000.0         0.0"
      ]
     },
     "execution_count": 7,
     "metadata": {},
     "output_type": "execute_result"
    }
   ],
   "source": [
    "SWIRE_cat[0:10]"
   ]
  },
  {
   "cell_type": "markdown",
   "metadata": {},
   "source": [
    "## Look at Symmetry of PDFs to determine depth level of catalogue"
   ]
  },
  {
   "cell_type": "code",
   "execution_count": 9,
   "metadata": {},
   "outputs": [
    {
     "name": "stdout",
     "output_type": "stream",
     "text": [
      "4.9971194\n"
     ]
    },
    {
     "data": {
      "image/png": "[encoded data removed]",
      "text/plain": [
       "<Figure size 432x432 with 3 Axes>"
      ]
     },
     "metadata": {
      "needs_background": "light"
     },
     "output_type": "display_data"
    }
   ],
   "source": [
    "import seaborn as sns \n",
    "skew=(SWIRE_cat['FErr_MIPS_24_u']-SWIRE_cat['F_MIPS_24'])/(SWIRE_cat['F_MIPS_24']-SWIRE_cat['FErr_MIPS_24_l'])\n",
    "skew.name='(84th-50th)/(50th-16th) percentile'\n",
    "use = skew < 5\n",
    "g=sns.jointplot(x=np.log10(SWIRE_cat['F_MIPS_24'][use]),y=skew[use], kind='hex')\n",
    "print(np.max(skew[use]))\n",
    "g.savefig('../../data/figs/sk_MIPS_Bootes.pdf', bbox='tight')\n",
    "g.savefig('../../data/figs/sk_MIPS_Bootes.png', bbox='tight')\n"
   ]
  },
  {
   "cell_type": "markdown",
   "metadata": {},
   "source": [
    "Both seem to have flux pdfs that become Gaussian at ~20$\\mathrm{\\mu Jy}$ "
   ]
  },
  {
   "cell_type": "code",
   "execution_count": 11,
   "metadata": {},
   "outputs": [
    {
     "data": {
      "text/plain": [
       "19.952623149688797"
      ]
     },
     "execution_count": 11,
     "metadata": {},
     "output_type": "execute_result"
    }
   ],
   "source": [
    "10**1.3"
   ]
  },
  {
   "cell_type": "markdown",
   "metadata": {},
   "source": [
    "## Add flag to catalogue"
   ]
  },
  {
   "cell_type": "code",
   "execution_count": 12,
   "metadata": {},
   "outputs": [],
   "source": [
    "from astropy.table import Column\n",
    "SWIRE_cat.add_column(Column(np.zeros(len(SWIRE_cat), dtype=bool),name='flag_mips_24'))\n"
   ]
  },
  {
   "cell_type": "code",
   "execution_count": null,
   "metadata": {
    "collapsed": true,
    "jupyter": {
     "outputs_hidden": true
    }
   },
   "outputs": [],
   "source": []
  },
  {
   "cell_type": "code",
   "execution_count": 13,
   "metadata": {},
   "outputs": [],
   "source": [
    "ind_SWIRE=(SWIRE_cat['Pval_res_24']>0.5) | (SWIRE_cat['F_MIPS_24'] < 20.0)"
   ]
  },
  {
   "cell_type": "code",
   "execution_count": 14,
   "metadata": {},
   "outputs": [],
   "source": [
    "SWIRE_cat['flag_mips_24'][ind_SWIRE]=True\n"
   ]
  },
  {
   "cell_type": "code",
   "execution_count": 10,
   "metadata": {},
   "outputs": [],
   "source": [
    "SWIRE_cat.write('./data/dmu26_XID+MIPS_Bootes_cat_20190320.fits', format='fits',overwrite=True)"
   ]
  },
  {
   "cell_type": "code",
   "execution_count": null,
   "metadata": {
    "collapsed": true,
    "jupyter": {
     "outputs_hidden": true
    }
   },
   "outputs": [],
   "source": []
  }
 ],
 "metadata": {
  "kernelspec": {
   "display_name": "Python 3",
   "language": "python",
   "name": "python3"
  },
  "language_info": {
   "codemirror_mode": {
    "name": "ipython",
    "version": 3
   },
   "file_extension": ".py",
   "mimetype": "text/x-python",
   "name": "python",
   "nbconvert_exporter": "python",
   "pygments_lexer": "ipython3",
   "version": "3.8.3"
  }
 },
 "nbformat": 4,
 "nbformat_minor": 4
}
