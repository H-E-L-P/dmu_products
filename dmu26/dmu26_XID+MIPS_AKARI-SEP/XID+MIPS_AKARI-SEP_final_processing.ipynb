{
 "cells": [
  {
   "cell_type": "code",
   "execution_count": 9,
   "metadata": {
    "collapsed": true,
    "jupyter": {
     "outputs_hidden": true
    }
   },
   "outputs": [],
   "source": [
    "import pylab\n",
    "import pymoc\n",
    "import xidplus\n",
    "import numpy as np\n",
    "%matplotlib inline\n",
    "from astropy.io import fits\n",
    "from astropy import wcs\n",
    "from astropy.table import Table\n",
    "import seaborn as sns\n",
    "import matplotlib.pyplot as plt\n"
   ]
  },
  {
   "cell_type": "markdown",
   "metadata": {},
   "source": [
    "## Read tables"
   ]
  },
  {
   "cell_type": "code",
   "execution_count": 2,
   "metadata": {},
   "outputs": [],
   "source": [
    "SEP_cat=Table.read('./data/dmu26_XID+MIPS_AKARI-SEP_cat.fits')"
   ]
  },
  {
   "cell_type": "code",
   "execution_count": 3,
   "metadata": {},
   "outputs": [
    {
     "data": {
      "text/html": [
       "<i>Table length=10</i>\n",
       "<table id=\"table140608241385088\" class=\"table-striped table-bordered table-condensed\">\n",
       "<thead><tr><th>help_id</th><th>RA</th><th>Dec</th><th>F_MIPS_24</th><th>FErr_MIPS_24_u</th><th>FErr_MIPS_24_l</th><th>Bkg_MIPS_24</th><th>Sig_conf_MIPS_24</th><th>Rhat_MIPS_24</th><th>n_eff_MIPS_24</th><th>Pval_res_24</th></tr></thead>\n",
       "<thead><tr><th></th><th>degrees</th><th>degrees</th><th>muJy</th><th>muJy</th><th>muJy</th><th>MJy / sr</th><th>MJy / sr</th><th></th><th></th><th></th></tr></thead>\n",
       "<thead><tr><th>bytes27</th><th>float64</th><th>float64</th><th>float32</th><th>float32</th><th>float32</th><th>float32</th><th>float32</th><th>float32</th><th>float32</th><th>float32</th></tr></thead>\n",
       "<tr><td>HELP_J043429.210-545654.901</td><td>68.62170653034099</td><td>-54.94858348648463</td><td>80.42802</td><td>113.913284</td><td>49.530167</td><td>0.002208595</td><td>5.1016723e-06</td><td>1.0022461</td><td>680.5849</td><td>0.0</td></tr>\n",
       "<tr><td>HELP_J043423.165-545626.480</td><td>68.59652177460741</td><td>-54.94068890812353</td><td>55.272625</td><td>84.64747</td><td>26.577156</td><td>-0.0012659467</td><td>4.908135e-06</td><td>1.0029539</td><td>1063.1514</td><td>0.001</td></tr>\n",
       "<tr><td>HELP_J043416.087-545549.460</td><td>68.56703012381632</td><td>-54.93040549335446</td><td>10.661816</td><td>26.498941</td><td>2.7642608</td><td>-0.0012659467</td><td>4.908135e-06</td><td>0.99987483</td><td>1812.1738</td><td>0.0</td></tr>\n",
       "<tr><td>HELP_J043424.834-545603.188</td><td>68.6034770052052</td><td>-54.934218985884876</td><td>27.242163</td><td>49.51786</td><td>9.029449</td><td>-0.0012659467</td><td>4.908135e-06</td><td>1.0007945</td><td>1698.6595</td><td>0.0</td></tr>\n",
       "<tr><td>HELP_J043418.700-545621.169</td><td>68.57791531857676</td><td>-54.939213555347365</td><td>347.0184</td><td>376.3759</td><td>317.50742</td><td>-0.0012659467</td><td>4.908135e-06</td><td>1.001546</td><td>1373.7151</td><td>0.463</td></tr>\n",
       "<tr><td>HELP_J043419.811-545645.131</td><td>68.58254550848122</td><td>-54.9458696905712</td><td>212.85785</td><td>241.46736</td><td>186.06978</td><td>-0.0012659467</td><td>4.908135e-06</td><td>0.99938905</td><td>2057.627</td><td>0.003</td></tr>\n",
       "<tr><td>HELP_J043424.458-545559.494</td><td>68.60190668409987</td><td>-54.93319268410401</td><td>21.687775</td><td>45.13706</td><td>6.4285336</td><td>-0.0012659467</td><td>4.908135e-06</td><td>1.0014269</td><td>1901.6733</td><td>0.001</td></tr>\n",
       "<tr><td>HELP_J043418.300-545543.616</td><td>68.5762489879036</td><td>-54.9287820921008</td><td>7.165051</td><td>17.531206</td><td>1.9945031</td><td>-0.0012659467</td><td>4.908135e-06</td><td>0.99980235</td><td>1944.1476</td><td>0.006</td></tr>\n",
       "<tr><td>HELP_J043422.670-545622.727</td><td>68.59445635687415</td><td>-54.939646450036875</td><td>73.999</td><td>103.30518</td><td>44.605175</td><td>-0.0012659467</td><td>4.908135e-06</td><td>1.0036998</td><td>1170.6284</td><td>0.001</td></tr>\n",
       "<tr><td>HELP_J043422.919-545553.064</td><td>68.59549682751823</td><td>-54.93140654688979</td><td>13.619313</td><td>30.754026</td><td>3.739685</td><td>-0.0012659467</td><td>4.908135e-06</td><td>0.9995668</td><td>1927.3462</td><td>0.042</td></tr>\n",
       "</table>"
      ],
      "text/plain": [
       "<Table length=10>\n",
       "          help_id                   RA        ... n_eff_MIPS_24 Pval_res_24\n",
       "                                 degrees      ...                          \n",
       "          bytes27                float64      ...    float32      float32  \n",
       "--------------------------- ----------------- ... ------------- -----------\n",
       "HELP_J043429.210-545654.901 68.62170653034099 ...      680.5849         0.0\n",
       "HELP_J043423.165-545626.480 68.59652177460741 ...     1063.1514       0.001\n",
       "HELP_J043416.087-545549.460 68.56703012381632 ...     1812.1738         0.0\n",
       "HELP_J043424.834-545603.188  68.6034770052052 ...     1698.6595         0.0\n",
       "HELP_J043418.700-545621.169 68.57791531857676 ...     1373.7151       0.463\n",
       "HELP_J043419.811-545645.131 68.58254550848122 ...      2057.627       0.003\n",
       "HELP_J043424.458-545559.494 68.60190668409987 ...     1901.6733       0.001\n",
       "HELP_J043418.300-545543.616  68.5762489879036 ...     1944.1476       0.006\n",
       "HELP_J043422.670-545622.727 68.59445635687415 ...     1170.6284       0.001\n",
       "HELP_J043422.919-545553.064 68.59549682751823 ...     1927.3462       0.042"
      ]
     },
     "execution_count": 3,
     "metadata": {},
     "output_type": "execute_result"
    }
   ],
   "source": [
    "SEP_cat[0:10]"
   ]
  },
  {
   "cell_type": "markdown",
   "metadata": {},
   "source": [
    "## Look at Symmetry of PDFs to determine depth level of catalogue"
   ]
  },
  {
   "cell_type": "code",
   "execution_count": 10,
   "metadata": {},
   "outputs": [
    {
     "name": "stdout",
     "output_type": "stream",
     "text": [
      "4.3571267\n"
     ]
    },
    {
     "data": {
      "text/plain": [
       "<matplotlib.lines.Line2D at 0x7fe1b22ed208>"
      ]
     },
     "execution_count": 10,
     "metadata": {},
     "output_type": "execute_result"
    },
    {
     "data": {
      "image/png": "[encoded data removed]",
      "text/plain": [
       "<Figure size 432x432 with 3 Axes>"
      ]
     },
     "metadata": {
      "needs_background": "light"
     },
     "output_type": "display_data"
    }
   ],
   "source": [
    "skew=(SEP_cat['FErr_MIPS_24_u']-SEP_cat['F_MIPS_24'])/(SEP_cat['F_MIPS_24']-SEP_cat['FErr_MIPS_24_l'])\n",
    "skew.name='(84th-50th)/(50th-16th) percentile'\n",
    "use = skew < 5\n",
    "g=sns.jointplot(x=np.log10(SEP_cat['F_MIPS_24'][use]),y=skew[use], kind='hex')\n",
    "print(np.max(skew[use]))\n",
    "plt.axvline(1.7, 0)\n",
    "g.savefig('../../data/figs/sk_MIPS_AKARI-SEP.pdf', bbox='tight')\n",
    "g.savefig('../../data/figs/sk_MIPS_AKARI-SEP.png', bbox='tight')\n"
   ]
  },
  {
   "cell_type": "markdown",
   "metadata": {},
   "source": [
    "Both seem to have flux pdfs that become Gaussian at ~40$\\mathrm{\\mu Jy}$ "
   ]
  },
  {
   "cell_type": "markdown",
   "metadata": {},
   "source": [
    "## Add flag to catalogue"
   ]
  },
  {
   "cell_type": "code",
   "execution_count": 11,
   "metadata": {
    "collapsed": true,
    "jupyter": {
     "outputs_hidden": true
    }
   },
   "outputs": [],
   "source": [
    "from astropy.table import Column\n",
    "SEP_cat.add_column(Column(np.zeros(len(SEP_cat), dtype=bool),name='flag_mips_24'))\n"
   ]
  },
  {
   "cell_type": "code",
   "execution_count": null,
   "metadata": {
    "collapsed": true,
    "jupyter": {
     "outputs_hidden": true
    }
   },
   "outputs": [],
   "source": []
  },
  {
   "cell_type": "code",
   "execution_count": 12,
   "metadata": {
    "collapsed": true,
    "jupyter": {
     "outputs_hidden": true
    }
   },
   "outputs": [],
   "source": [
    "ind_SEP=(SEP_cat['Pval_res_24']>0.5) | (SEP_cat['F_MIPS_24'] < 40.0)"
   ]
  },
  {
   "cell_type": "code",
   "execution_count": 13,
   "metadata": {
    "collapsed": true,
    "jupyter": {
     "outputs_hidden": true
    }
   },
   "outputs": [],
   "source": [
    "SEP_cat['flag_mips_24'][ind_SEP]=True\n"
   ]
  },
  {
   "cell_type": "code",
   "execution_count": 14,
   "metadata": {},
   "outputs": [
    {
     "name": "stderr",
     "output_type": "stream",
     "text": [
      "WARNING: UnitsWarning: 'degrees' did not parse as fits unit: At col 0, Unit 'degrees' not supported by the FITS standard.  [astropy.units.core]\n",
      "WARNING: UnitsWarning: 'muJy' did not parse as fits unit: At col 0, Unit 'muJy' not supported by the FITS standard. Did you mean MJy, mJy or uJy? [astropy.units.core]\n"
     ]
    }
   ],
   "source": [
    "SEP_cat.write('./data/dmu26_XID+MIPS_AKARI-SEP_cat_20190909.fits', format='fits',overwrite=True)"
   ]
  },
  {
   "cell_type": "code",
   "execution_count": null,
   "metadata": {
    "collapsed": true,
    "jupyter": {
     "outputs_hidden": true
    }
   },
   "outputs": [],
   "source": []
  }
 ],
 "metadata": {
  "kernelspec": {
   "display_name": "Python 3",
   "language": "python",
   "name": "python3"
  },
  "language_info": {
   "codemirror_mode": {
    "name": "ipython",
    "version": 3
   },
   "file_extension": ".py",
   "mimetype": "text/x-python",
   "name": "python",
   "nbconvert_exporter": "python",
   "pygments_lexer": "ipython3",
   "version": "3.8.3"
  }
 },
 "nbformat": 4,
 "nbformat_minor": 4
}
