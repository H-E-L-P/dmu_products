{
 "cells": [
  {
   "cell_type": "code",
   "execution_count": 1,
   "metadata": {
    "collapsed": true
   },
   "outputs": [],
   "source": [
    "import pylab\n",
    "import pymoc\n",
    "import numpy as np\n",
    "%matplotlib inline\n",
    "import pylab as plt\n",
    "from astropy.io import fits\n",
    "from astropy.table import Table\n",
    "from astropy.table import Column\n",
    "from astropy import wcs\n",
    "\n",
    "import xidplus"
   ]
  },
  {
   "cell_type": "code",
   "execution_count": null,
   "metadata": {},
   "outputs": [],
   "source": []
  },
  {
   "cell_type": "markdown",
   "metadata": {},
   "source": [
    "This notebook uses all the raw data from the masterlist, maps, PSF and relevant MOCs to create XID+ prior object and relevant tiling scheme"
   ]
  },
  {
   "cell_type": "markdown",
   "metadata": {},
   "source": [
    "## Read in MOCs\n",
    "The selection functions required are the main MOC associated with the masterlist. Here we use the DataFusion-Spitzer MOC."
   ]
  },
  {
   "cell_type": "code",
   "execution_count": 2,
   "metadata": {
    "collapsed": true
   },
   "outputs": [],
   "source": [
    "Sel_func=pymoc.MOC()\n",
    "Sel_func.read('../../dmu4/dmu4_sm_AKARI-SEP/data/holes_AKARI-SEP_irac_i1_O16_20180424.fits')\n",
    "MOC=pymoc.MOC()\n",
    "MOC.read('../../dmu17/dmu17_HELP-SEIP-maps/AKARI-SEP/data/60096371.60096371-99.MIPS.1.moc.fits')"
   ]
  },
  {
   "cell_type": "code",
   "execution_count": 3,
   "metadata": {
    "collapsed": true
   },
   "outputs": [],
   "source": [
    "Final=Sel_func.intersection(MOC)"
   ]
  },
  {
   "cell_type": "code",
   "execution_count": 4,
   "metadata": {
    "collapsed": true
   },
   "outputs": [],
   "source": [
    "Final.write('./data/testMoc.fits', overwrite=True)"
   ]
  },
  {
   "cell_type": "markdown",
   "metadata": {},
   "source": [
    "## Read in Masterlist\n",
    "Next step is to read in Masterlist and select only sources that are detected in mid-infrared and at least one other wavelength domain (i.e. optical or nir). This will remove most of the objects in the catalogue that are artefacts. We can do this by using the `flag_optnir_det` flag and selecting sources that have a binary value of $>= 5$"
   ]
  },
  {
   "cell_type": "code",
   "execution_count": 5,
   "metadata": {
    "collapsed": true
   },
   "outputs": [],
   "source": [
    "from astropy.io import fits\n",
    "masterfile='master_catalogue_akari-sep_20180221.fits'\n",
    "masterlist=fits.open('../../dmu1/dmu1_ml_AKARI-SEP/data/'+masterfile)"
   ]
  },
  {
   "cell_type": "code",
   "execution_count": 6,
   "metadata": {
    "collapsed": true
   },
   "outputs": [],
   "source": [
    "good=masterlist[1].data['flag_optnir_det']>=5"
   ]
  },
  {
   "cell_type": "code",
   "execution_count": 7,
   "metadata": {},
   "outputs": [
    {
     "data": {
      "text/plain": [
       "844172"
      ]
     },
     "execution_count": 7,
     "metadata": {},
     "output_type": "execute_result"
    }
   ],
   "source": [
    "len(good)"
   ]
  },
  {
   "cell_type": "code",
   "execution_count": 8,
   "metadata": {},
   "outputs": [
    {
     "data": {
      "text/plain": [
       "216296"
      ]
     },
     "execution_count": 8,
     "metadata": {},
     "output_type": "execute_result"
    }
   ],
   "source": [
    "good.sum()"
   ]
  },
  {
   "cell_type": "markdown",
   "metadata": {},
   "source": [
    "### Create uninformative (i.e. conservative) upper and lower limits based on IRAC fluxes\n",
    "As the default flux prior for XID+ is a uniform distribution, it makes sense to set reasonable upper and lower 24 micron flux limits based on the longest wavelength IRAC flux available. For a lower limit I take IRAC/500.0 and for upper limit I take IRACx500."
   ]
  },
  {
   "cell_type": "code",
   "execution_count": 9,
   "metadata": {
    "collapsed": true
   },
   "outputs": [],
   "source": [
    "MIPS_lower=np.full(good.sum(),0.0)\n",
    "MIPS_upper=np.full(good.sum(),1E5)"
   ]
  },
  {
   "cell_type": "code",
   "execution_count": 10,
   "metadata": {},
   "outputs": [
    {
     "data": {
      "text/plain": [
       "XTENSION= 'BINTABLE'           / binary table extension                         \n",
       "BITPIX  =                    8 / array data type                                \n",
       "NAXIS   =                    2 / number of array dimensions                     \n",
       "NAXIS1  =                  638 / length of dimension 1                          \n",
       "NAXIS2  =               844172 / length of dimension 2                          \n",
       "PCOUNT  =                    0 / number of group parameters                     \n",
       "GCOUNT  =                    1 / number of groups                               \n",
       "TFIELDS =                  106 / number of table fields                         \n",
       "TTYPE1  = 'help_id '                                                            \n",
       "TFORM1  = '27A     '                                                            \n",
       "TTYPE2  = 'field   '                                                            \n",
       "TFORM2  = '18A     '                                                            \n",
       "TTYPE3  = 'ra      '                                                            \n",
       "TFORM3  = 'D       '                                                            \n",
       "TTYPE4  = 'dec     '                                                            \n",
       "TFORM4  = 'D       '                                                            \n",
       "TTYPE5  = 'hp_idx  '                                                            \n",
       "TFORM5  = 'K       '                                                            \n",
       "TTYPE6  = 'f_ap_vista_j'                                                        \n",
       "TFORM6  = 'E       '                                                            \n",
       "TTYPE7  = 'ferr_ap_vista_j'                                                     \n",
       "TFORM7  = 'E       '                                                            \n",
       "TTYPE8  = 'm_ap_vista_j'                                                        \n",
       "TFORM8  = 'E       '                                                            \n",
       "TTYPE9  = 'merr_ap_vista_j'                                                     \n",
       "TFORM9  = 'E       '                                                            \n",
       "TTYPE10 = 'f_vista_j'                                                           \n",
       "TFORM10 = 'E       '                                                            \n",
       "TTYPE11 = 'ferr_vista_j'                                                        \n",
       "TFORM11 = 'E       '                                                            \n",
       "TTYPE12 = 'm_vista_j'                                                           \n",
       "TFORM12 = 'E       '                                                            \n",
       "TTYPE13 = 'merr_vista_j'                                                        \n",
       "TFORM13 = 'E       '                                                            \n",
       "TTYPE14 = 'flag_vista_j'                                                        \n",
       "TFORM14 = 'L       '                                                            \n",
       "TTYPE15 = 'f_ap_vista_h'                                                        \n",
       "TFORM15 = 'E       '                                                            \n",
       "TTYPE16 = 'ferr_ap_vista_h'                                                     \n",
       "TFORM16 = 'E       '                                                            \n",
       "TTYPE17 = 'm_ap_vista_h'                                                        \n",
       "TFORM17 = 'E       '                                                            \n",
       "TTYPE18 = 'merr_ap_vista_h'                                                     \n",
       "TFORM18 = 'E       '                                                            \n",
       "TTYPE19 = 'f_vista_h'                                                           \n",
       "TFORM19 = 'E       '                                                            \n",
       "TTYPE20 = 'ferr_vista_h'                                                        \n",
       "TFORM20 = 'E       '                                                            \n",
       "TTYPE21 = 'm_vista_h'                                                           \n",
       "TFORM21 = 'E       '                                                            \n",
       "TTYPE22 = 'merr_vista_h'                                                        \n",
       "TFORM22 = 'E       '                                                            \n",
       "TTYPE23 = 'flag_vista_h'                                                        \n",
       "TFORM23 = 'L       '                                                            \n",
       "TTYPE24 = 'f_ap_vista_ks'                                                       \n",
       "TFORM24 = 'E       '                                                            \n",
       "TTYPE25 = 'ferr_ap_vista_ks'                                                    \n",
       "TFORM25 = 'E       '                                                            \n",
       "TTYPE26 = 'm_ap_vista_ks'                                                       \n",
       "TFORM26 = 'E       '                                                            \n",
       "TTYPE27 = 'merr_ap_vista_ks'                                                    \n",
       "TFORM27 = 'E       '                                                            \n",
       "TTYPE28 = 'f_vista_ks'                                                          \n",
       "TFORM28 = 'E       '                                                            \n",
       "TTYPE29 = 'ferr_vista_ks'                                                       \n",
       "TFORM29 = 'E       '                                                            \n",
       "TTYPE30 = 'm_vista_ks'                                                          \n",
       "TFORM30 = 'E       '                                                            \n",
       "TTYPE31 = 'merr_vista_ks'                                                       \n",
       "TFORM31 = 'E       '                                                            \n",
       "TTYPE32 = 'flag_vista_ks'                                                       \n",
       "TFORM32 = 'L       '                                                            \n",
       "TTYPE33 = 'f_ap_irac_i1'                                                        \n",
       "TFORM33 = 'E       '                                                            \n",
       "TTYPE34 = 'ferr_ap_irac_i1'                                                     \n",
       "TFORM34 = 'E       '                                                            \n",
       "TTYPE35 = 'm_ap_irac_i1'                                                        \n",
       "TFORM35 = 'E       '                                                            \n",
       "TTYPE36 = 'merr_ap_irac_i1'                                                     \n",
       "TFORM36 = 'E       '                                                            \n",
       "TTYPE37 = 'f_irac_i1'                                                           \n",
       "TFORM37 = 'E       '                                                            \n",
       "TTYPE38 = 'ferr_irac_i1'                                                        \n",
       "TFORM38 = 'E       '                                                            \n",
       "TTYPE39 = 'm_irac_i1'                                                           \n",
       "TFORM39 = 'E       '                                                            \n",
       "TTYPE40 = 'merr_irac_i1'                                                        \n",
       "TFORM40 = 'E       '                                                            \n",
       "TTYPE41 = 'flag_irac_i1'                                                        \n",
       "TFORM41 = 'L       '                                                            \n",
       "TTYPE42 = 'f_ap_irac_i2'                                                        \n",
       "TFORM42 = 'E       '                                                            \n",
       "TTYPE43 = 'ferr_ap_irac_i2'                                                     \n",
       "TFORM43 = 'E       '                                                            \n",
       "TTYPE44 = 'm_ap_irac_i2'                                                        \n",
       "TFORM44 = 'E       '                                                            \n",
       "TTYPE45 = 'merr_ap_irac_i2'                                                     \n",
       "TFORM45 = 'E       '                                                            \n",
       "TTYPE46 = 'f_irac_i2'                                                           \n",
       "TFORM46 = 'E       '                                                            \n",
       "TTYPE47 = 'ferr_irac_i2'                                                        \n",
       "TFORM47 = 'E       '                                                            \n",
       "TTYPE48 = 'm_irac_i2'                                                           \n",
       "TFORM48 = 'E       '                                                            \n",
       "TTYPE49 = 'merr_irac_i2'                                                        \n",
       "TFORM49 = 'E       '                                                            \n",
       "TTYPE50 = 'flag_irac_i2'                                                        \n",
       "TFORM50 = 'L       '                                                            \n",
       "TTYPE51 = 'f_ap_decam_g'                                                        \n",
       "TFORM51 = 'D       '                                                            \n",
       "TTYPE52 = 'ferr_ap_decam_g'                                                     \n",
       "TFORM52 = 'D       '                                                            \n",
       "TTYPE53 = 'm_ap_decam_g'                                                        \n",
       "TFORM53 = 'D       '                                                            \n",
       "TTYPE54 = 'merr_ap_decam_g'                                                     \n",
       "TFORM54 = 'D       '                                                            \n",
       "TTYPE55 = 'f_decam_g'                                                           \n",
       "TFORM55 = 'D       '                                                            \n",
       "TTYPE56 = 'ferr_decam_g'                                                        \n",
       "TFORM56 = 'D       '                                                            \n",
       "TTYPE57 = 'm_decam_g'                                                           \n",
       "TFORM57 = 'D       '                                                            \n",
       "TTYPE58 = 'merr_decam_g'                                                        \n",
       "TFORM58 = 'D       '                                                            \n",
       "TTYPE59 = 'flag_decam_g'                                                        \n",
       "TFORM59 = 'L       '                                                            \n",
       "TTYPE60 = 'f_ap_decam_r'                                                        \n",
       "TFORM60 = 'D       '                                                            \n",
       "TTYPE61 = 'ferr_ap_decam_r'                                                     \n",
       "TFORM61 = 'D       '                                                            \n",
       "TTYPE62 = 'm_ap_decam_r'                                                        \n",
       "TFORM62 = 'D       '                                                            \n",
       "TTYPE63 = 'merr_ap_decam_r'                                                     \n",
       "TFORM63 = 'D       '                                                            \n",
       "TTYPE64 = 'f_decam_r'                                                           \n",
       "TFORM64 = 'D       '                                                            \n",
       "TTYPE65 = 'ferr_decam_r'                                                        \n",
       "TFORM65 = 'D       '                                                            \n",
       "TTYPE66 = 'm_decam_r'                                                           \n",
       "TFORM66 = 'D       '                                                            \n",
       "TTYPE67 = 'merr_decam_r'                                                        \n",
       "TFORM67 = 'D       '                                                            \n",
       "TTYPE68 = 'flag_decam_r'                                                        \n",
       "TFORM68 = 'L       '                                                            \n",
       "TTYPE69 = 'f_ap_decam_i'                                                        \n",
       "TFORM69 = 'D       '                                                            \n",
       "TTYPE70 = 'ferr_ap_decam_i'                                                     \n",
       "TFORM70 = 'D       '                                                            \n",
       "TTYPE71 = 'm_ap_decam_i'                                                        \n",
       "TFORM71 = 'D       '                                                            \n",
       "TTYPE72 = 'merr_ap_decam_i'                                                     \n",
       "TFORM72 = 'D       '                                                            \n",
       "TTYPE73 = 'f_decam_i'                                                           \n",
       "TFORM73 = 'D       '                                                            \n",
       "TTYPE74 = 'ferr_decam_i'                                                        \n",
       "TFORM74 = 'D       '                                                            \n",
       "TTYPE75 = 'm_decam_i'                                                           \n",
       "TFORM75 = 'D       '                                                            \n",
       "TTYPE76 = 'merr_decam_i'                                                        \n",
       "TFORM76 = 'D       '                                                            \n",
       "TTYPE77 = 'flag_decam_i'                                                        \n",
       "TFORM77 = 'L       '                                                            \n",
       "TTYPE78 = 'f_ap_decam_z'                                                        \n",
       "TFORM78 = 'D       '                                                            \n",
       "TTYPE79 = 'ferr_ap_decam_z'                                                     \n",
       "TFORM79 = 'D       '                                                            \n",
       "TTYPE80 = 'm_ap_decam_z'                                                        \n",
       "TFORM80 = 'D       '                                                            \n",
       "TTYPE81 = 'merr_ap_decam_z'                                                     \n",
       "TFORM81 = 'D       '                                                            \n",
       "TTYPE82 = 'f_decam_z'                                                           \n",
       "TFORM82 = 'D       '                                                            \n",
       "TTYPE83 = 'ferr_decam_z'                                                        \n",
       "TFORM83 = 'D       '                                                            \n",
       "TTYPE84 = 'm_decam_z'                                                           \n",
       "TFORM84 = 'D       '                                                            \n",
       "TTYPE85 = 'merr_decam_z'                                                        \n",
       "TFORM85 = 'D       '                                                            \n",
       "TTYPE86 = 'flag_decam_z'                                                        \n",
       "TFORM86 = 'L       '                                                            \n",
       "TTYPE87 = 'f_ap_decam_y'                                                        \n",
       "TFORM87 = 'D       '                                                            \n",
       "TTYPE88 = 'ferr_ap_decam_y'                                                     \n",
       "TFORM88 = 'D       '                                                            \n",
       "TTYPE89 = 'm_ap_decam_y'                                                        \n",
       "TFORM89 = 'D       '                                                            \n",
       "TTYPE90 = 'merr_ap_decam_y'                                                     \n",
       "TFORM90 = 'D       '                                                            \n",
       "TTYPE91 = 'f_decam_y'                                                           \n",
       "TFORM91 = 'D       '                                                            \n",
       "TTYPE92 = 'ferr_decam_y'                                                        \n",
       "TFORM92 = 'D       '                                                            \n",
       "TTYPE93 = 'm_decam_y'                                                           \n",
       "TFORM93 = 'D       '                                                            \n",
       "TTYPE94 = 'merr_decam_y'                                                        \n",
       "TFORM94 = 'D       '                                                            \n",
       "TTYPE95 = 'flag_decam_y'                                                        \n",
       "TFORM95 = 'L       '                                                            \n",
       "TTYPE96 = 'stellarity'                                                          \n",
       "TFORM96 = 'D       '                                                            \n",
       "TTYPE97 = 'stellarity_origin'                                                   \n",
       "TFORM97 = '20A     '                                                            \n",
       "TTYPE98 = 'flag_cleaned'                                                        \n",
       "TFORM98 = 'L       '                                                            \n",
       "TTYPE99 = 'flag_merged'                                                         \n",
       "TFORM99 = 'L       '                                                            \n",
       "TTYPE100= 'flag_gaia'                                                           \n",
       "TFORM100= 'K       '                                                            \n",
       "TTYPE101= 'flag_optnir_obs'                                                     \n",
       "TFORM101= 'K       '                                                            \n",
       "TTYPE102= 'flag_optnir_det'                                                     \n",
       "TFORM102= 'K       '                                                            \n",
       "TTYPE103= 'ebv     '                                                            \n",
       "TFORM103= 'D       '                                                            \n",
       "TTYPE104= 'zspec_association_flag'                                              \n",
       "TFORM104= 'L       '                                                            \n",
       "TTYPE105= 'zspec_qual'                                                          \n",
       "TFORM105= 'K       '                                                            \n",
       "TTYPE106= 'zspec   '                                                            \n",
       "TFORM106= 'D       '                                                            \n",
       "TUNIT3  = 'deg     '                                                            \n",
       "TUNIT4  = 'deg     '                                                            "
      ]
     },
     "execution_count": 10,
     "metadata": {},
     "output_type": "execute_result"
    }
   ],
   "source": [
    "masterlist[1].header"
   ]
  },
  {
   "cell_type": "code",
   "execution_count": 11,
   "metadata": {
    "collapsed": true
   },
   "outputs": [],
   "source": [
    "for i in range(0,good.sum()):\n",
    "    if ~np.isnan(masterlist[1].data['f_irac_i2'][good][i]):\n",
    "        MIPS_lower[i]=masterlist[1].data['f_irac_i2'][good][i]/500.0\n",
    "        MIPS_upper[i]=masterlist[1].data['f_irac_i2'][good][i]*500.0\n",
    "    elif ~np.isnan(masterlist[1].data['f_irac_i1'][good][i]):\n",
    "        MIPS_lower[i]=masterlist[1].data['f_irac_i1'][good][i]/500.0\n",
    "        MIPS_upper[i]=masterlist[1].data['f_irac_i1'][good][i]*500.0"
   ]
  },
  {
   "cell_type": "code",
   "execution_count": 13,
   "metadata": {},
   "outputs": [],
   "source": [
    "np.savez('./data/tmp_mips_prior', MIPS_lower, MIPS_upper)"
   ]
  },
  {
   "cell_type": "code",
   "execution_count": 10,
   "metadata": {},
   "outputs": [],
   "source": [
    "#npzfile = np.load('./data/tmp_mips_prior.npz')\n",
    "#MIPS_lower=npzfile['arr_0']\n",
    "#MIPS_upper=npzfile['arr_1']"
   ]
  },
  {
   "cell_type": "code",
   "execution_count": 12,
   "metadata": {},
   "outputs": [
    {
     "data": {
      "text/plain": [
       "216296"
      ]
     },
     "execution_count": 12,
     "metadata": {},
     "output_type": "execute_result"
    }
   ],
   "source": [
    "sum(~np.isnan(masterlist[1].data['f_irac_i1'][good]))\n"
   ]
  },
  {
   "cell_type": "code",
   "execution_count": 17,
   "metadata": {},
   "outputs": [
    {
     "data": {
      "text/plain": [
       "array([42164.57366943, 30825.20484924,  9201.95484161, ...,\n",
       "        3902.54211426,  8940.86265564,  6794.04592514])"
      ]
     },
     "execution_count": 17,
     "metadata": {},
     "output_type": "execute_result"
    }
   ],
   "source": [
    "MIPS_upper"
   ]
  },
  {
   "cell_type": "markdown",
   "metadata": {},
   "source": [
    "## Read in Map\n",
    "We are now ready to read in the MIPS map\n"
   ]
  },
  {
   "cell_type": "code",
   "execution_count": 15,
   "metadata": {
    "collapsed": true
   },
   "outputs": [],
   "source": [
    "filename='60096371.60096371-99.MIPS.1.help.fits'\n",
    "moc_file='60096371.60096371-99.MIPS.1.moc.fits'"
   ]
  },
  {
   "cell_type": "code",
   "execution_count": 16,
   "metadata": {},
   "outputs": [],
   "source": [
    "MIPS_Map=fits.open('../../dmu17/dmu17_HELP-SEIP-maps/AKARI-SEP/data/'+filename)\n",
    "moc_Map=fits.open('../../dmu17/dmu17_HELP-SEIP-maps/AKARI-SEP/data/'+moc_file)"
   ]
  },
  {
   "cell_type": "code",
   "execution_count": 17,
   "metadata": {},
   "outputs": [
    {
     "name": "stdout",
     "output_type": "stream",
     "text": [
      "w_im:  WCS Keywords\n",
      "\n",
      "Number of WCS axes: 2\n",
      "CTYPE : 'RA---TAN'  'DEC--TAN'  \n",
      "CRVAL : 72.9195578295  -51.859999916  \n",
      "CRPIX : 412.8019  387.1783  \n",
      "CD1_1 CD1_2  : -0.000680556  -0.0  \n",
      "CD2_1 CD2_2  : -0.0  0.000680556  \n",
      "NAXIS : 825  773 \n",
      " w_nim:  WCS Keywords\n",
      "\n",
      "Number of WCS axes: 2\n",
      "CTYPE : 'RA---TAN'  'DEC--TAN'  \n",
      "CRVAL : 72.919581  -51.859862  \n",
      "CRPIX : 412.8019  387.1783  \n",
      "CD1_1 CD1_2  : -0.000680556  -0.0  \n",
      "CD2_1 CD2_2  : -0.0  0.000680556  \n",
      "NAXIS : 825  773\n"
     ]
    },
    {
     "name": "stderr",
     "output_type": "stream",
     "text": [
      "WARNING: FITSFixedWarning: CRVAL1_0= 72.9195810000 /CRVAL1 at Wed Jun 20 00:42:02 2018By: sjo \n",
      "keyword looks very much like CRVALia but isn't. [astropy.wcs.wcs]\n",
      "WARNING: FITSFixedWarning: CRVAL2_0= -51.8598620000 /CRVAL2 at Wed Jun 20 00:42:02 2018By: sjo \n",
      "keyword looks very much like CRVALia but isn't. [astropy.wcs.wcs]\n"
     ]
    }
   ],
   "source": [
    "w_im = wcs.WCS(MIPS_Map[1].header) \n",
    "w_nim = wcs.WCS(MIPS_Map[2].header) \n",
    "print('w_im: ', w_im, '\\n w_nim: ', w_nim)"
   ]
  },
  {
   "cell_type": "code",
   "execution_count": 18,
   "metadata": {},
   "outputs": [
    {
     "data": {
      "text/plain": [
       "72.9195578295"
      ]
     },
     "execution_count": 18,
     "metadata": {},
     "output_type": "execute_result"
    }
   ],
   "source": [
    "MIPS_Map[1].header['CRVAL1']"
   ]
  },
  {
   "cell_type": "code",
   "execution_count": 19,
   "metadata": {},
   "outputs": [
    {
     "data": {
      "text/plain": [
       "72.919581"
      ]
     },
     "execution_count": 19,
     "metadata": {},
     "output_type": "execute_result"
    }
   ],
   "source": [
    "MIPS_Map[2].header['CRVAL1']"
   ]
  },
  {
   "cell_type": "code",
   "execution_count": 20,
   "metadata": {},
   "outputs": [],
   "source": [
    "MIPS_Map[1].header['CRVAL1']=MIPS_Map[2].header['CRVAL1']\n",
    "MIPS_Map[1].header['CRVAL2']=MIPS_Map[2].header['CRVAL2']"
   ]
  },
  {
   "cell_type": "code",
   "execution_count": 21,
   "metadata": {},
   "outputs": [],
   "source": [
    "MIPS_Map.writeto('../../dmu17/dmu17_HELP-SEIP-maps/AKARI-SEP/data/60096371.60096371-99.MIPS.1.help2.fits')"
   ]
  },
  {
   "cell_type": "code",
   "execution_count": 22,
   "metadata": {},
   "outputs": [],
   "source": [
    "#MIPS_Map[1].header"
   ]
  },
  {
   "cell_type": "code",
   "execution_count": 23,
   "metadata": {},
   "outputs": [
    {
     "data": {
      "image/png": "[encoded data removed]",
      "text/plain": [
       "<Figure size 432x288 with 1 Axes>"
      ]
     },
     "metadata": {
      "needs_background": "light"
     },
     "output_type": "display_data"
    }
   ],
   "source": [
    "data=MIPS_Map[1].data\n",
    "plt.hist(data.flatten(),bins=np.arange(-1.0,10.0,0.1));\n",
    "plt.yscale('log')"
   ]
  },
  {
   "cell_type": "code",
   "execution_count": 24,
   "metadata": {},
   "outputs": [
    {
     "data": {
      "text/plain": [
       "0.5798110470814223"
      ]
     },
     "execution_count": 24,
     "metadata": {},
     "output_type": "execute_result"
    }
   ],
   "source": [
    "np.mean(~np.isnan(data))"
   ]
  },
  {
   "cell_type": "code",
   "execution_count": 25,
   "metadata": {},
   "outputs": [],
   "source": [
    "#MIPS_Map[1].header"
   ]
  },
  {
   "cell_type": "code",
   "execution_count": 26,
   "metadata": {},
   "outputs": [
    {
     "data": {
      "text/plain": [
       "<matplotlib.image.AxesImage at 0x7f4b59ab4f60>"
      ]
     },
     "execution_count": 26,
     "metadata": {},
     "output_type": "execute_result"
    },
    {
     "data": {
      "image/png": "[encoded data removed]",
      "text/plain": [
       "<Figure size 432x288 with 1 Axes>"
      ]
     },
     "metadata": {
      "needs_background": "light"
     },
     "output_type": "display_data"
    }
   ],
   "source": [
    "plt.imshow(np.log10(MIPS_Map[1].data))"
   ]
  },
  {
   "cell_type": "markdown",
   "metadata": {},
   "source": [
    "## Read in PSF"
   ]
  },
  {
   "cell_type": "code",
   "execution_count": 2,
   "metadata": {
    "collapsed": true
   },
   "outputs": [],
   "source": [
    "MIPS_psf=fits.open('../../dmu17/dmu17_HELP-SEIP-maps/AKARI-SEP/data/output_data/dmu17_MIPS_AKARI-SEP_20190328.fits')"
   ]
  },
  {
   "cell_type": "code",
   "execution_count": 3,
   "metadata": {},
   "outputs": [
    {
     "data": {
      "image/png": "[encoded data removed]",
      "text/plain": [
       "<Figure size 432x288 with 1 Axes>"
      ]
     },
     "metadata": {
      "needs_background": "light"
     },
     "output_type": "display_data"
    }
   ],
   "source": [
    "dat=MIPS_psf[1].data\n",
    "plt.hist(dat.flatten(),bins=np.arange(-100.0,200.0,1.0));\n",
    "plt.yscale('log')"
   ]
  },
  {
   "cell_type": "code",
   "execution_count": 4,
   "metadata": {},
   "outputs": [
    {
     "data": {
      "text/plain": [
       "1.0"
      ]
     },
     "execution_count": 4,
     "metadata": {},
     "output_type": "execute_result"
    }
   ],
   "source": [
    "np.mean(~np.isnan(dat))"
   ]
  },
  {
   "cell_type": "code",
   "execution_count": 5,
   "metadata": {
    "collapsed": true
   },
   "outputs": [],
   "source": [
    "centre=np.long((MIPS_psf[1].header['NAXIS1']-1)/2)\n",
    "radius=5"
   ]
  },
  {
   "cell_type": "code",
   "execution_count": 6,
   "metadata": {},
   "outputs": [
    {
     "data": {
      "text/plain": [
       "<matplotlib.colorbar.Colorbar at 0x7fb0e519c2b0>"
      ]
     },
     "execution_count": 6,
     "metadata": {},
     "output_type": "execute_result"
    },
    {
     "data": {
      "image/png": "[encoded data removed]",
      "text/plain": [
       "<Figure size 432x288 with 2 Axes>"
      ]
     },
     "metadata": {
      "needs_background": "light"
     },
     "output_type": "display_data"
    }
   ],
   "source": [
    "plt.imshow(np.log10(MIPS_psf[1].data[centre-radius:centre+radius+1,centre-radius:centre+radius+1]/np.max(MIPS_psf[1].data[centre-radius:centre+radius+1,centre-radius:centre+radius+1])))\n",
    "plt.colorbar()"
   ]
  },
  {
   "cell_type": "markdown",
   "metadata": {},
   "source": [
    "## Set XID+ prior class"
   ]
  },
  {
   "cell_type": "code",
   "execution_count": 32,
   "metadata": {},
   "outputs": [
    {
     "name": "stderr",
     "output_type": "stream",
     "text": [
      "WARNING: AstropyDeprecationWarning: \n",
      "Private attributes \"_naxis1\" and \"_naxis2\" have been deprecated since v3.1.\n",
      "Instead use the \"pixel_shape\" property which returns a list of NAXISj keyword values.\n",
      " [astropy.wcs.wcs]\n",
      "WARNING: AstropyDeprecationWarning: \n",
      "Private attributes \"_naxis1\" and \"_naxis2\" have been deprecated since v3.1.\n",
      "Instead use the \"pixel_shape\" property which returns a list of NAXISj keyword values.\n",
      " [astropy.wcs.wcs]\n"
     ]
    }
   ],
   "source": [
    "prior_MIPS=xidplus.prior(MIPS_Map[1].data,MIPS_Map[2].data,MIPS_Map[0].header,MIPS_Map[1].header,moc=Final)\n",
    "prior_MIPS.prior_cat(masterlist[1].data['ra'][good],masterlist[1].data['dec'][good],masterfile,flux_lower=MIPS_lower,\n",
    "                     flux_upper=MIPS_upper,ID=masterlist[1].data['help_id'][good])\n"
   ]
  },
  {
   "cell_type": "code",
   "execution_count": 33,
   "metadata": {},
   "outputs": [
    {
     "data": {
      "text/plain": [
       "array([], dtype=float64)"
      ]
     },
     "execution_count": 33,
     "metadata": {},
     "output_type": "execute_result"
    }
   ],
   "source": [
    "prior_MIPS.sra"
   ]
  },
  {
   "cell_type": "code",
   "execution_count": 34,
   "metadata": {},
   "outputs": [
    {
     "ename": "ValueError",
     "evalue": "zero-size array to reduction operation maximum which has no identity",
     "output_type": "error",
     "traceback": [
      "\u001b[0;31m---------------------------------------------------------------------------\u001b[0m",
      "\u001b[0;31mValueError\u001b[0m                                Traceback (most recent call last)",
      "\u001b[0;32m<ipython-input-34-4ae154ea13f1>\u001b[0m in \u001b[0;36m<module>\u001b[0;34m\u001b[0m\n\u001b[0;32m----> 1\u001b[0;31m \u001b[0mxidplus\u001b[0m\u001b[0;34m.\u001b[0m\u001b[0mplot_map\u001b[0m\u001b[0;34m(\u001b[0m\u001b[0;34m[\u001b[0m\u001b[0mprior_MIPS\u001b[0m\u001b[0;34m]\u001b[0m\u001b[0;34m)\u001b[0m\u001b[0;34m\u001b[0m\u001b[0;34m\u001b[0m\u001b[0m\n\u001b[0m",
      "\u001b[0;32m~/Documents/git_hub/XID_plus/xidplus/plots.py\u001b[0m in \u001b[0;36mplot_map\u001b[0;34m(priors)\u001b[0m\n\u001b[1;32m     59\u001b[0m \u001b[0;34m\u001b[0m\u001b[0m\n\u001b[1;32m     60\u001b[0m     \u001b[0mcmap\u001b[0m\u001b[0;34m=\u001b[0m\u001b[0msns\u001b[0m\u001b[0;34m.\u001b[0m\u001b[0mcubehelix_palette\u001b[0m\u001b[0;34m(\u001b[0m\u001b[0;36m8\u001b[0m\u001b[0;34m,\u001b[0m \u001b[0mstart\u001b[0m\u001b[0;34m=\u001b[0m\u001b[0;36m.5\u001b[0m\u001b[0;34m,\u001b[0m \u001b[0mrot\u001b[0m\u001b[0;34m=\u001b[0m\u001b[0;34m-\u001b[0m\u001b[0;36m.75\u001b[0m\u001b[0;34m,\u001b[0m\u001b[0mas_cmap\u001b[0m\u001b[0;34m=\u001b[0m\u001b[0;32mTrue\u001b[0m\u001b[0;34m)\u001b[0m\u001b[0;34m\u001b[0m\u001b[0;34m\u001b[0m\u001b[0m\n\u001b[0;32m---> 61\u001b[0;31m     \u001b[0mhdulists\u001b[0m\u001b[0;34m=\u001b[0m\u001b[0mlist\u001b[0m\u001b[0;34m(\u001b[0m\u001b[0mmap\u001b[0m\u001b[0;34m(\u001b[0m\u001b[0;32mlambda\u001b[0m \u001b[0mprior\u001b[0m\u001b[0;34m:\u001b[0m\u001b[0mpostmaps\u001b[0m\u001b[0;34m.\u001b[0m\u001b[0mmake_fits_image\u001b[0m\u001b[0;34m(\u001b[0m\u001b[0mprior\u001b[0m\u001b[0;34m,\u001b[0m\u001b[0mprior\u001b[0m\u001b[0;34m.\u001b[0m\u001b[0msim\u001b[0m\u001b[0;34m)\u001b[0m\u001b[0;34m,\u001b[0m \u001b[0mpriors\u001b[0m\u001b[0;34m)\u001b[0m\u001b[0;34m)\u001b[0m\u001b[0;34m\u001b[0m\u001b[0;34m\u001b[0m\u001b[0m\n\u001b[0m\u001b[1;32m     62\u001b[0m     \u001b[0mfig\u001b[0m \u001b[0;34m=\u001b[0m \u001b[0mplt\u001b[0m\u001b[0;34m.\u001b[0m\u001b[0mfigure\u001b[0m\u001b[0;34m(\u001b[0m\u001b[0mfigsize\u001b[0m\u001b[0;34m=\u001b[0m\u001b[0;34m(\u001b[0m\u001b[0;36m10\u001b[0m\u001b[0;34m*\u001b[0m\u001b[0mlen\u001b[0m\u001b[0;34m(\u001b[0m\u001b[0mpriors\u001b[0m\u001b[0;34m)\u001b[0m\u001b[0;34m,\u001b[0m\u001b[0;36m10\u001b[0m\u001b[0;34m)\u001b[0m\u001b[0;34m)\u001b[0m\u001b[0;34m\u001b[0m\u001b[0;34m\u001b[0m\u001b[0m\n\u001b[1;32m     63\u001b[0m     \u001b[0mfigs\u001b[0m\u001b[0;34m=\u001b[0m\u001b[0;34m[\u001b[0m\u001b[0;34m]\u001b[0m\u001b[0;34m\u001b[0m\u001b[0;34m\u001b[0m\u001b[0m\n",
      "\u001b[0;32m~/Documents/git_hub/XID_plus/xidplus/plots.py\u001b[0m in \u001b[0;36m<lambda>\u001b[0;34m(prior)\u001b[0m\n\u001b[1;32m     59\u001b[0m \u001b[0;34m\u001b[0m\u001b[0m\n\u001b[1;32m     60\u001b[0m     \u001b[0mcmap\u001b[0m\u001b[0;34m=\u001b[0m\u001b[0msns\u001b[0m\u001b[0;34m.\u001b[0m\u001b[0mcubehelix_palette\u001b[0m\u001b[0;34m(\u001b[0m\u001b[0;36m8\u001b[0m\u001b[0;34m,\u001b[0m \u001b[0mstart\u001b[0m\u001b[0;34m=\u001b[0m\u001b[0;36m.5\u001b[0m\u001b[0;34m,\u001b[0m \u001b[0mrot\u001b[0m\u001b[0;34m=\u001b[0m\u001b[0;34m-\u001b[0m\u001b[0;36m.75\u001b[0m\u001b[0;34m,\u001b[0m\u001b[0mas_cmap\u001b[0m\u001b[0;34m=\u001b[0m\u001b[0;32mTrue\u001b[0m\u001b[0;34m)\u001b[0m\u001b[0;34m\u001b[0m\u001b[0;34m\u001b[0m\u001b[0m\n\u001b[0;32m---> 61\u001b[0;31m     \u001b[0mhdulists\u001b[0m\u001b[0;34m=\u001b[0m\u001b[0mlist\u001b[0m\u001b[0;34m(\u001b[0m\u001b[0mmap\u001b[0m\u001b[0;34m(\u001b[0m\u001b[0;32mlambda\u001b[0m \u001b[0mprior\u001b[0m\u001b[0;34m:\u001b[0m\u001b[0mpostmaps\u001b[0m\u001b[0;34m.\u001b[0m\u001b[0mmake_fits_image\u001b[0m\u001b[0;34m(\u001b[0m\u001b[0mprior\u001b[0m\u001b[0;34m,\u001b[0m\u001b[0mprior\u001b[0m\u001b[0;34m.\u001b[0m\u001b[0msim\u001b[0m\u001b[0;34m)\u001b[0m\u001b[0;34m,\u001b[0m \u001b[0mpriors\u001b[0m\u001b[0;34m)\u001b[0m\u001b[0;34m)\u001b[0m\u001b[0;34m\u001b[0m\u001b[0;34m\u001b[0m\u001b[0m\n\u001b[0m\u001b[1;32m     62\u001b[0m     \u001b[0mfig\u001b[0m \u001b[0;34m=\u001b[0m \u001b[0mplt\u001b[0m\u001b[0;34m.\u001b[0m\u001b[0mfigure\u001b[0m\u001b[0;34m(\u001b[0m\u001b[0mfigsize\u001b[0m\u001b[0;34m=\u001b[0m\u001b[0;34m(\u001b[0m\u001b[0;36m10\u001b[0m\u001b[0;34m*\u001b[0m\u001b[0mlen\u001b[0m\u001b[0;34m(\u001b[0m\u001b[0mpriors\u001b[0m\u001b[0;34m)\u001b[0m\u001b[0;34m,\u001b[0m\u001b[0;36m10\u001b[0m\u001b[0;34m)\u001b[0m\u001b[0;34m)\u001b[0m\u001b[0;34m\u001b[0m\u001b[0;34m\u001b[0m\u001b[0m\n\u001b[1;32m     63\u001b[0m     \u001b[0mfigs\u001b[0m\u001b[0;34m=\u001b[0m\u001b[0;34m[\u001b[0m\u001b[0;34m]\u001b[0m\u001b[0;34m\u001b[0m\u001b[0;34m\u001b[0m\u001b[0m\n",
      "\u001b[0;32m~/Documents/git_hub/XID_plus/xidplus/posterior_maps.py\u001b[0m in \u001b[0;36mmake_fits_image\u001b[0;34m(prior, pixel_values)\u001b[0m\n\u001b[1;32m     77\u001b[0m     \u001b[0;34m:\u001b[0m\u001b[0;32mreturn\u001b[0m\u001b[0;34m:\u001b[0m \u001b[0mFITS\u001b[0m \u001b[0mhdulist\u001b[0m\u001b[0;34m\u001b[0m\u001b[0;34m\u001b[0m\u001b[0m\n\u001b[1;32m     78\u001b[0m     \"\"\"\n\u001b[0;32m---> 79\u001b[0;31m     \u001b[0mx_range\u001b[0m\u001b[0;34m=\u001b[0m\u001b[0mnp\u001b[0m\u001b[0;34m.\u001b[0m\u001b[0mmax\u001b[0m\u001b[0;34m(\u001b[0m\u001b[0mprior\u001b[0m\u001b[0;34m.\u001b[0m\u001b[0msx_pix\u001b[0m\u001b[0;34m)\u001b[0m\u001b[0;34m-\u001b[0m\u001b[0mnp\u001b[0m\u001b[0;34m.\u001b[0m\u001b[0mmin\u001b[0m\u001b[0;34m(\u001b[0m\u001b[0mprior\u001b[0m\u001b[0;34m.\u001b[0m\u001b[0msx_pix\u001b[0m\u001b[0;34m)\u001b[0m\u001b[0;34m\u001b[0m\u001b[0;34m\u001b[0m\u001b[0m\n\u001b[0m\u001b[1;32m     80\u001b[0m     \u001b[0my_range\u001b[0m\u001b[0;34m=\u001b[0m\u001b[0mnp\u001b[0m\u001b[0;34m.\u001b[0m\u001b[0mmax\u001b[0m\u001b[0;34m(\u001b[0m\u001b[0mprior\u001b[0m\u001b[0;34m.\u001b[0m\u001b[0msy_pix\u001b[0m\u001b[0;34m)\u001b[0m\u001b[0;34m-\u001b[0m\u001b[0mnp\u001b[0m\u001b[0;34m.\u001b[0m\u001b[0mmin\u001b[0m\u001b[0;34m(\u001b[0m\u001b[0mprior\u001b[0m\u001b[0;34m.\u001b[0m\u001b[0msy_pix\u001b[0m\u001b[0;34m)\u001b[0m\u001b[0;34m\u001b[0m\u001b[0;34m\u001b[0m\u001b[0m\n\u001b[1;32m     81\u001b[0m     \u001b[0mdata\u001b[0m\u001b[0;34m=\u001b[0m\u001b[0mnp\u001b[0m\u001b[0;34m.\u001b[0m\u001b[0mfull\u001b[0m\u001b[0;34m(\u001b[0m\u001b[0;34m(\u001b[0m\u001b[0my_range\u001b[0m\u001b[0;34m,\u001b[0m\u001b[0mx_range\u001b[0m\u001b[0;34m)\u001b[0m\u001b[0;34m,\u001b[0m\u001b[0mnp\u001b[0m\u001b[0;34m.\u001b[0m\u001b[0mnan\u001b[0m\u001b[0;34m)\u001b[0m\u001b[0;34m\u001b[0m\u001b[0;34m\u001b[0m\u001b[0m\n",
      "\u001b[0;32m~/anaconda3/lib/python3.6/site-packages/numpy/core/fromnumeric.py\u001b[0m in \u001b[0;36mamax\u001b[0;34m(a, axis, out, keepdims, initial)\u001b[0m\n\u001b[1;32m   2332\u001b[0m     \"\"\"\n\u001b[1;32m   2333\u001b[0m     return _wrapreduction(a, np.maximum, 'max', axis, None, out, keepdims=keepdims,\n\u001b[0;32m-> 2334\u001b[0;31m                           initial=initial)\n\u001b[0m\u001b[1;32m   2335\u001b[0m \u001b[0;34m\u001b[0m\u001b[0m\n\u001b[1;32m   2336\u001b[0m \u001b[0;34m\u001b[0m\u001b[0m\n",
      "\u001b[0;32m~/anaconda3/lib/python3.6/site-packages/numpy/core/fromnumeric.py\u001b[0m in \u001b[0;36m_wrapreduction\u001b[0;34m(obj, ufunc, method, axis, dtype, out, **kwargs)\u001b[0m\n\u001b[1;32m     81\u001b[0m                 \u001b[0;32mreturn\u001b[0m \u001b[0mreduction\u001b[0m\u001b[0;34m(\u001b[0m\u001b[0maxis\u001b[0m\u001b[0;34m=\u001b[0m\u001b[0maxis\u001b[0m\u001b[0;34m,\u001b[0m \u001b[0mout\u001b[0m\u001b[0;34m=\u001b[0m\u001b[0mout\u001b[0m\u001b[0;34m,\u001b[0m \u001b[0;34m**\u001b[0m\u001b[0mpasskwargs\u001b[0m\u001b[0;34m)\u001b[0m\u001b[0;34m\u001b[0m\u001b[0;34m\u001b[0m\u001b[0m\n\u001b[1;32m     82\u001b[0m \u001b[0;34m\u001b[0m\u001b[0m\n\u001b[0;32m---> 83\u001b[0;31m     \u001b[0;32mreturn\u001b[0m \u001b[0mufunc\u001b[0m\u001b[0;34m.\u001b[0m\u001b[0mreduce\u001b[0m\u001b[0;34m(\u001b[0m\u001b[0mobj\u001b[0m\u001b[0;34m,\u001b[0m \u001b[0maxis\u001b[0m\u001b[0;34m,\u001b[0m \u001b[0mdtype\u001b[0m\u001b[0;34m,\u001b[0m \u001b[0mout\u001b[0m\u001b[0;34m,\u001b[0m \u001b[0;34m**\u001b[0m\u001b[0mpasskwargs\u001b[0m\u001b[0;34m)\u001b[0m\u001b[0;34m\u001b[0m\u001b[0;34m\u001b[0m\u001b[0m\n\u001b[0m\u001b[1;32m     84\u001b[0m \u001b[0;34m\u001b[0m\u001b[0m\n\u001b[1;32m     85\u001b[0m \u001b[0;34m\u001b[0m\u001b[0m\n",
      "\u001b[0;31mValueError\u001b[0m: zero-size array to reduction operation maximum which has no identity"
     ]
    }
   ],
   "source": [
    "xidplus.plot_map([prior_MIPS])"
   ]
  },
  {
   "cell_type": "code",
   "execution_count": null,
   "metadata": {
    "collapsed": true
   },
   "outputs": [],
   "source": [
    "prior_MIPS.set_prf(MIPS_psf[1].data[centre-radius:centre+radius+1,centre-radius:centre+radius+1]/1.0E6,np.arange(0,11/2.0,0.5),np.arange(0,11/2.0,0.5))"
   ]
  },
  {
   "cell_type": "markdown",
   "metadata": {},
   "source": [
    "## Calculate tiles\n",
    "As fitting the whole map would be too computationally expensive, I split based on HEALPix pixels. For MIPS, the optimum order is 11. So that I don't have to read the master prior based on the whole map into memory each time (which requires a lot more memory) I also create another layer of HEALPix pixels based at the lower order of 6."
   ]
  },
  {
   "cell_type": "code",
   "execution_count": null,
   "metadata": {},
   "outputs": [],
   "source": [
    "import pickle\n",
    "#from moc, get healpix pixels at a given order\n",
    "from xidplus import moc_routines\n",
    "order=11\n",
    "tiles=moc_routines.get_HEALPix_pixels(order,prior_MIPS.sra,prior_MIPS.sdec,unique=True)\n",
    "order_large=6\n",
    "tiles_large=moc_routines.get_HEALPix_pixels(order_large,prior_MIPS.sra,prior_MIPS.sdec,unique=True)\n",
    "print('----- There are '+str(len(tiles))+' tiles required for input catalogue and '+str(len(tiles_large))+' large tiles')\n",
    "output_folder='./data/'\n",
    "outfile=output_folder+'Master_prior52.pkl'\n",
    "with open(outfile, 'wb') as f:\n",
    "    pickle.dump({'priors':[prior_MIPS],'tiles':tiles,'order':order,'version':xidplus.io.git_version()},f)\n",
    "outfile=output_folder+'Tiles52.pkl'\n",
    "with open(outfile, 'wb') as f:\n",
    "    pickle.dump({'tiles':tiles,'order':order,'tiles_large':tiles_large,'order_large':order_large,'version':xidplus.io.git_version()},f)\n",
    "raise SystemExit()"
   ]
  },
  {
   "cell_type": "code",
   "execution_count": null,
   "metadata": {},
   "outputs": [],
   "source": [
    "prior_MIPS.nsrc"
   ]
  },
  {
   "cell_type": "code",
   "execution_count": null,
   "metadata": {
    "collapsed": true
   },
   "outputs": [],
   "source": []
  }
 ],
 "metadata": {
  "kernelspec": {
   "display_name": "Python (herschelhelp_internal)",
   "language": "python",
   "name": "helpint"
  },
  "language_info": {
   "codemirror_mode": {
    "name": "ipython",
    "version": 3
   },
   "file_extension": ".py",
   "mimetype": "text/x-python",
   "name": "python",
   "nbconvert_exporter": "python",
   "pygments_lexer": "ipython3",
   "version": "3.6.7"
  }
 },
 "nbformat": 4,
 "nbformat_minor": 2
}
