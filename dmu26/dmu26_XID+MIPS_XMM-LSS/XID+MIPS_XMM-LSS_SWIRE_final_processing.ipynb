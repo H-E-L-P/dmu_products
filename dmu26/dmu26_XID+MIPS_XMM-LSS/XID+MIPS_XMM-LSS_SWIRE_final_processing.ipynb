{
 "cells": [
  {
   "cell_type": "code",
   "execution_count": 9,
   "metadata": {
    "collapsed": true,
    "jupyter": {
     "outputs_hidden": true
    }
   },
   "outputs": [],
   "source": [
    "import seaborn as sns\n",
    "import pylab\n",
    "import pymoc\n",
    "import xidplus\n",
    "import numpy as np\n",
    "%matplotlib inline\n",
    "from astropy.io import fits\n",
    "from astropy import wcs\n",
    "from astropy.table import Table"
   ]
  },
  {
   "cell_type": "markdown",
   "metadata": {},
   "source": [
    "## Read tables"
   ]
  },
  {
   "cell_type": "code",
   "execution_count": 10,
   "metadata": {},
   "outputs": [],
   "source": [
    "SWIRE_cat=Table.read('./data/dmu26_XID+MIPS_XMM-LSS_SWIREnSPUDS_concat20190105.fits')"
   ]
  },
  {
   "cell_type": "code",
   "execution_count": 11,
   "metadata": {},
   "outputs": [
    {
     "data": {
      "text/html": [
       "<i>Table length=10</i>\n",
       "<table id=\"table140701932130256\" class=\"table-striped table-bordered table-condensed\">\n",
       "<thead><tr><th>help_id</th><th>RA</th><th>Dec</th><th>F_MIPS_24</th><th>FErr_MIPS_24_u</th><th>FErr_MIPS_24_l</th><th>Bkg_MIPS_24</th><th>Sig_conf_MIPS_24</th><th>Rhat_MIPS_24</th><th>n_eff_MIPS_24</th><th>Pval_res_24</th></tr></thead>\n",
       "<thead><tr><th></th><th>degrees</th><th>degrees</th><th>muJy</th><th>muJy</th><th>muJy</th><th>MJy / sr</th><th>MJy / sr</th><th></th><th></th><th></th></tr></thead>\n",
       "<thead><tr><th>bytes27</th><th>float64</th><th>float64</th><th>float32</th><th>float32</th><th>float32</th><th>float32</th><th>float32</th><th>float32</th><th>float32</th><th>float32</th></tr></thead>\n",
       "<tr><td>HELP_J021846.087-062301.346</td><td>34.692030947564795</td><td>-6.383707158297614</td><td>30.09487</td><td>46.226128</td><td>14.67685</td><td>-0.0009270066</td><td>4.858147e-06</td><td>nan</td><td>1142.0</td><td>0.0</td></tr>\n",
       "<tr><td>HELP_J021843.070-062345.559</td><td>34.6794586722776</td><td>-6.39598871477323</td><td>4170.4424</td><td>4190.5127</td><td>4150.0</td><td>-0.0009270066</td><td>4.858147e-06</td><td>nan</td><td>2000.0</td><td>0.373</td></tr>\n",
       "<tr><td>HELP_J021852.610-062138.457</td><td>34.7192093322776</td><td>-6.36068236477323</td><td>327.6509</td><td>346.8575</td><td>307.92105</td><td>-0.0046012965</td><td>4.779417e-06</td><td>nan</td><td>1248.0</td><td>0.0</td></tr>\n",
       "<tr><td>HELP_J021854.601-062151.326</td><td>34.7275025122776</td><td>-6.36425716477323</td><td>65.46506</td><td>83.40683</td><td>47.538906</td><td>-0.0046012965</td><td>4.779417e-06</td><td>nan</td><td>1179.0</td><td>0.398</td></tr>\n",
       "<tr><td>HELP_J021851.714-062215.569</td><td>34.7154747122776</td><td>-6.3709913347732305</td><td>3.1386747</td><td>7.2766647</td><td>0.9495287</td><td>-0.0046012965</td><td>4.779417e-06</td><td>nan</td><td>1711.0</td><td>0.0</td></tr>\n",
       "<tr><td>HELP_J021911.572-062135.966</td><td>34.7982186822776</td><td>-6.359990434773231</td><td>554.56165</td><td>571.6919</td><td>537.1004</td><td>-0.012682672</td><td>4.8390184e-06</td><td>nan</td><td>555.0</td><td>0.0</td></tr>\n",
       "<tr><td>HELP_J021917.826-062026.091</td><td>34.8242763422776</td><td>-6.34058070477323</td><td>963.8944</td><td>982.96875</td><td>944.89764</td><td>-0.005463596</td><td>4.9658024e-06</td><td>nan</td><td>893.0</td><td>0.011</td></tr>\n",
       "<tr><td>HELP_J021923.350-061946.651</td><td>34.8472902722776</td><td>-6.32962525477323</td><td>2255.2812</td><td>2275.3945</td><td>2235.6658</td><td>0.0036527414</td><td>4.8568736e-06</td><td>nan</td><td>2000.0</td><td>0.0</td></tr>\n",
       "<tr><td>HELP_J021926.399-061956.955</td><td>34.8599972322776</td><td>-6.3324875447732305</td><td>215.53192</td><td>235.60165</td><td>196.8128</td><td>0.0036527414</td><td>4.8568736e-06</td><td>0.9989383</td><td>2000.0</td><td>0.0</td></tr>\n",
       "<tr><td>HELP_J021922.877-062008.894</td><td>34.8453220422776</td><td>-6.33580400477323</td><td>338.14105</td><td>355.7203</td><td>320.7381</td><td>0.0036527414</td><td>4.8568736e-06</td><td>nan</td><td>2000.0</td><td>0.0</td></tr>\n",
       "</table>"
      ],
      "text/plain": [
       "<Table length=10>\n",
       "          help_id                   RA         ... n_eff_MIPS_24 Pval_res_24\n",
       "                                 degrees       ...                          \n",
       "          bytes27                float64       ...    float32      float32  \n",
       "--------------------------- ------------------ ... ------------- -----------\n",
       "HELP_J021846.087-062301.346 34.692030947564795 ...        1142.0         0.0\n",
       "HELP_J021843.070-062345.559   34.6794586722776 ...        2000.0       0.373\n",
       "HELP_J021852.610-062138.457   34.7192093322776 ...        1248.0         0.0\n",
       "HELP_J021854.601-062151.326   34.7275025122776 ...        1179.0       0.398\n",
       "HELP_J021851.714-062215.569   34.7154747122776 ...        1711.0         0.0\n",
       "HELP_J021911.572-062135.966   34.7982186822776 ...         555.0         0.0\n",
       "HELP_J021917.826-062026.091   34.8242763422776 ...         893.0       0.011\n",
       "HELP_J021923.350-061946.651   34.8472902722776 ...        2000.0         0.0\n",
       "HELP_J021926.399-061956.955   34.8599972322776 ...        2000.0         0.0\n",
       "HELP_J021922.877-062008.894   34.8453220422776 ...        2000.0         0.0"
      ]
     },
     "execution_count": 11,
     "metadata": {},
     "output_type": "execute_result"
    }
   ],
   "source": [
    "SWIRE_cat[0:10]"
   ]
  },
  {
   "cell_type": "markdown",
   "metadata": {},
   "source": [
    "## Look at Symmetry of PDFs to determine depth level of catalogue"
   ]
  },
  {
   "cell_type": "code",
   "execution_count": 12,
   "metadata": {},
   "outputs": [
    {
     "name": "stdout",
     "output_type": "stream",
     "text": [
      "6.9675155\n"
     ]
    },
    {
     "data": {
      "image/png": "[encoded data removed]",
      "text/plain": [
       "<Figure size 432x432 with 3 Axes>"
      ]
     },
     "metadata": {
      "needs_background": "light"
     },
     "output_type": "display_data"
    }
   ],
   "source": [
    "skew=(SWIRE_cat['FErr_MIPS_24_u']-SWIRE_cat['F_MIPS_24'])/(SWIRE_cat['F_MIPS_24']-SWIRE_cat['FErr_MIPS_24_l'])\n",
    "skew.name='(84th-50th)/(50th-16th) percentile'\n",
    "use = skew < 7\n",
    "#g=sns.jointplot(x=np.log10(SWIRE_cat['F_MIPS_24']),y=skew, kind='hex')\n",
    "#print(np.max(skew))\n",
    "\n",
    "g=sns.jointplot(x=np.log10(SWIRE_cat['F_MIPS_24'][use]),y=skew[use], kind='hex')\n",
    "print(np.max(skew[use]))\n",
    "\n"
   ]
  },
  {
   "cell_type": "markdown",
   "metadata": {},
   "source": [
    "Both seem to have flux pdfs that become Gaussian at ~20$\\mathrm{\\mu Jy}$ "
   ]
  },
  {
   "cell_type": "markdown",
   "metadata": {},
   "source": [
    "## Add flag to catalogue"
   ]
  },
  {
   "cell_type": "code",
   "execution_count": 13,
   "metadata": {
    "collapsed": true,
    "jupyter": {
     "outputs_hidden": true
    }
   },
   "outputs": [],
   "source": [
    "from astropy.table import Column\n",
    "SWIRE_cat.add_column(Column(np.zeros(len(SWIRE_cat), dtype=bool),name='flag_mips_24'))\n"
   ]
  },
  {
   "cell_type": "code",
   "execution_count": null,
   "metadata": {
    "collapsed": true,
    "jupyter": {
     "outputs_hidden": true
    }
   },
   "outputs": [],
   "source": []
  },
  {
   "cell_type": "code",
   "execution_count": 14,
   "metadata": {
    "collapsed": true,
    "jupyter": {
     "outputs_hidden": true
    }
   },
   "outputs": [],
   "source": [
    "ind_SWIRE=(SWIRE_cat['Pval_res_24']>0.5) | (SWIRE_cat['F_MIPS_24'] < 20.0)"
   ]
  },
  {
   "cell_type": "code",
   "execution_count": 15,
   "metadata": {
    "collapsed": true,
    "jupyter": {
     "outputs_hidden": true
    }
   },
   "outputs": [],
   "source": [
    "SWIRE_cat['flag_mips_24'][ind_SWIRE]=True\n"
   ]
  },
  {
   "cell_type": "code",
   "execution_count": 16,
   "metadata": {},
   "outputs": [],
   "source": [
    "SWIRE_cat.write('./data/dmu26_XID+MIPS_XMM-LSS_SWIREnSPUDS_concat_20190106.fits', format='fits',overwrite=True)"
   ]
  },
  {
   "cell_type": "code",
   "execution_count": null,
   "metadata": {
    "collapsed": true,
    "jupyter": {
     "outputs_hidden": true
    }
   },
   "outputs": [],
   "source": []
  }
 ],
 "metadata": {
  "kernelspec": {
   "display_name": "Python (herschelhelp_python)",
   "language": "python",
   "name": "helpext"
  },
  "language_info": {
   "codemirror_mode": {
    "name": "ipython",
    "version": 3
   },
   "file_extension": ".py",
   "mimetype": "text/x-python",
   "name": "python",
   "nbconvert_exporter": "python",
   "pygments_lexer": "ipython3",
   "version": "3.8.5"
  }
 },
 "nbformat": 4,
 "nbformat_minor": 4
}
