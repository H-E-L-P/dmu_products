{
 "cells": [
  {
   "cell_type": "code",
   "execution_count": 1,
   "metadata": {
    "collapsed": true
   },
   "outputs": [
    {
     "name": "stderr",
     "output_type": "stream",
     "text": [
      "/home/mc741/anaconda3/lib/python3.6/site-packages/mpl_toolkits/axes_grid/__init__.py:12: MatplotlibDeprecationWarning: \n",
      "The mpl_toolkits.axes_grid module was deprecated in Matplotlib 2.1 and will be removed two minor releases later. Use mpl_toolkits.axes_grid1 and mpl_toolkits.axisartist provies the same functionality instead.\n",
      "  obj_type='module')\n"
     ]
    }
   ],
   "source": [
    "import seaborn as sns\n",
    "import pylab\n",
    "import pymoc\n",
    "import xidplus\n",
    "import numpy as np\n",
    "%matplotlib inline\n",
    "from astropy.io import fits\n",
    "from astropy import wcs\n",
    "from astropy.table import Table"
   ]
  },
  {
   "cell_type": "markdown",
   "metadata": {},
   "source": [
    "## Read tables"
   ]
  },
  {
   "cell_type": "code",
   "execution_count": 2,
   "metadata": {},
   "outputs": [],
   "source": [
    "SWIRE_cat=Table.read('./data/dmu26_XID+MIPS_XMM-LSS_SWIRE_cat.fits')"
   ]
  },
  {
   "cell_type": "code",
   "execution_count": 3,
   "metadata": {},
   "outputs": [
    {
     "data": {
      "text/html": [
       "<i>Table length=10</i>\n",
       "<table id=\"table140426821988872\" class=\"table-striped table-bordered table-condensed\">\n",
       "<thead><tr><th>help_id</th><th>RA</th><th>Dec</th><th>F_MIPS_24</th><th>FErr_MIPS_24_u</th><th>FErr_MIPS_24_l</th><th>Bkg_MIPS_24</th><th>Sig_conf_MIPS_24</th><th>Rhat_MIPS_24</th><th>n_eff_MIPS_24</th><th>Pval_res_24</th></tr></thead>\n",
       "<thead><tr><th></th><th>degrees</th><th>degrees</th><th>muJy</th><th>muJy</th><th>muJy</th><th>MJy / sr</th><th>MJy / sr</th><th></th><th></th><th></th></tr></thead>\n",
       "<thead><tr><th>bytes27</th><th>float64</th><th>float64</th><th>float32</th><th>float32</th><th>float32</th><th>float32</th><th>float32</th><th>float32</th><th>float32</th><th>float32</th></tr></thead>\n",
       "<tr><td>HELP_J021748.362-055951.987</td><td>34.4515079475648</td><td>-5.997774158297615</td><td>70.693794</td><td>85.76198</td><td>56.05105</td><td>-0.008213474</td><td>5.073016e-06</td><td>nan</td><td>2000.0</td><td>0.0</td></tr>\n",
       "<tr><td>HELP_J021752.307-060010.534</td><td>34.4679459475648</td><td>-6.0029261582976154</td><td>52.802345</td><td>69.704544</td><td>34.738716</td><td>-0.008213474</td><td>5.073016e-06</td><td>0.9995451</td><td>2000.0</td><td>0.0</td></tr>\n",
       "<tr><td>HELP_J021751.385-055945.435</td><td>34.4641039475648</td><td>-5.995954158297614</td><td>93.22881</td><td>112.51605</td><td>74.50907</td><td>-0.008213474</td><td>5.073016e-06</td><td>0.99897915</td><td>2000.0</td><td>0.0</td></tr>\n",
       "<tr><td>HELP_J021750.783-055947.249</td><td>34.46159632650286</td><td>-5.99645794184492</td><td>25.406834</td><td>43.95581</td><td>10.495363</td><td>-0.008213474</td><td>5.073016e-06</td><td>0.9989409</td><td>2000.0</td><td>0.0</td></tr>\n",
       "<tr><td>HELP_J021748.345-060031.486</td><td>34.4514379475648</td><td>-6.008746158297615</td><td>18.272541</td><td>35.620014</td><td>6.020218</td><td>-0.008213474</td><td>5.073016e-06</td><td>1.0035707</td><td>1392.0</td><td>0.0</td></tr>\n",
       "<tr><td>HELP_J021749.970-060043.885</td><td>34.4582099475648</td><td>-6.012190158297615</td><td>47.94679</td><td>65.271614</td><td>32.40726</td><td>-0.008213474</td><td>5.073016e-06</td><td>0.9988124</td><td>2000.0</td><td>0.0</td></tr>\n",
       "<tr><td>HELP_J021751.903-060012.889</td><td>34.4662639475648</td><td>-6.0035801582976145</td><td>135.13516</td><td>156.18826</td><td>115.71621</td><td>-0.008213474</td><td>5.073016e-06</td><td>0.9995046</td><td>2000.0</td><td>0.0</td></tr>\n",
       "<tr><td>HELP_J021750.428-055931.946</td><td>34.4601149475648</td><td>-5.9922071582976155</td><td>54.398857</td><td>73.35995</td><td>36.6787</td><td>-0.008213474</td><td>5.073016e-06</td><td>1.0006229</td><td>2000.0</td><td>0.0</td></tr>\n",
       "<tr><td>HELP_J021752.337-055946.576</td><td>34.468068947564795</td><td>-5.996271158297615</td><td>70.863815</td><td>86.3188</td><td>56.09029</td><td>-0.008213474</td><td>5.073016e-06</td><td>0.99997437</td><td>2000.0</td><td>0.0</td></tr>\n",
       "<tr><td>HELP_J021745.343-055943.984</td><td>34.4389289475648</td><td>-5.995551158297616</td><td>5.272469</td><td>13.045074</td><td>1.3416591</td><td>-0.008213474</td><td>5.073016e-06</td><td>1.0002347</td><td>2000.0</td><td>0.0</td></tr>\n",
       "</table>"
      ],
      "text/plain": [
       "<Table length=10>\n",
       "          help_id                   RA         ... n_eff_MIPS_24 Pval_res_24\n",
       "                                 degrees       ...                          \n",
       "          bytes27                float64       ...    float32      float32  \n",
       "--------------------------- ------------------ ... ------------- -----------\n",
       "HELP_J021748.362-055951.987   34.4515079475648 ...        2000.0         0.0\n",
       "HELP_J021752.307-060010.534   34.4679459475648 ...        2000.0         0.0\n",
       "HELP_J021751.385-055945.435   34.4641039475648 ...        2000.0         0.0\n",
       "HELP_J021750.783-055947.249  34.46159632650286 ...        2000.0         0.0\n",
       "HELP_J021748.345-060031.486   34.4514379475648 ...        1392.0         0.0\n",
       "HELP_J021749.970-060043.885   34.4582099475648 ...        2000.0         0.0\n",
       "HELP_J021751.903-060012.889   34.4662639475648 ...        2000.0         0.0\n",
       "HELP_J021750.428-055931.946   34.4601149475648 ...        2000.0         0.0\n",
       "HELP_J021752.337-055946.576 34.468068947564795 ...        2000.0         0.0\n",
       "HELP_J021745.343-055943.984   34.4389289475648 ...        2000.0         0.0"
      ]
     },
     "execution_count": 3,
     "metadata": {},
     "output_type": "execute_result"
    }
   ],
   "source": [
    "SWIRE_cat[0:10]"
   ]
  },
  {
   "cell_type": "markdown",
   "metadata": {},
   "source": [
    "## Look at Symmetry of PDFs to determine depth level of catalogue"
   ]
  },
  {
   "cell_type": "code",
   "execution_count": 4,
   "metadata": {},
   "outputs": [
    {
     "name": "stdout",
     "output_type": "stream",
     "text": [
      "6.9675155\n"
     ]
    },
    {
     "data": {
      "image/png": "[encoded data removed]",
      "text/plain": [
       "<Figure size 432x432 with 3 Axes>"
      ]
     },
     "metadata": {
      "needs_background": "light"
     },
     "output_type": "display_data"
    }
   ],
   "source": [
    "skew=(SWIRE_cat['FErr_MIPS_24_u']-SWIRE_cat['F_MIPS_24'])/(SWIRE_cat['F_MIPS_24']-SWIRE_cat['FErr_MIPS_24_l'])\n",
    "skew.name='(84th-50th)/(50th-16th) percentile'\n",
    "use = skew < 7\n",
    "#g=sns.jointplot(x=np.log10(SWIRE_cat['F_MIPS_24']),y=skew, kind='hex')\n",
    "#print(np.max(skew))\n",
    "\n",
    "g=sns.jointplot(x=np.log10(SWIRE_cat['F_MIPS_24'][use]),y=skew[use], kind='hex')\n",
    "print(np.max(skew[use]))\n",
    "\n"
   ]
  },
  {
   "cell_type": "markdown",
   "metadata": {},
   "source": [
    "Both seem to have flux pdfs that become Gaussian at ~20$\\mathrm{\\mu Jy}$ "
   ]
  },
  {
   "cell_type": "markdown",
   "metadata": {},
   "source": [
    "## Add flag to catalogue"
   ]
  },
  {
   "cell_type": "code",
   "execution_count": 5,
   "metadata": {
    "collapsed": true
   },
   "outputs": [],
   "source": [
    "from astropy.table import Column\n",
    "SWIRE_cat.add_column(Column(np.zeros(len(SWIRE_cat), dtype=bool),name='flag_mips_24'))\n"
   ]
  },
  {
   "cell_type": "code",
   "execution_count": null,
   "metadata": {
    "collapsed": true
   },
   "outputs": [],
   "source": []
  },
  {
   "cell_type": "code",
   "execution_count": 6,
   "metadata": {
    "collapsed": true
   },
   "outputs": [],
   "source": [
    "ind_SWIRE=(SWIRE_cat['Pval_res_24']>0.5) | (SWIRE_cat['F_MIPS_24'] < 20.0)"
   ]
  },
  {
   "cell_type": "code",
   "execution_count": 7,
   "metadata": {
    "collapsed": true
   },
   "outputs": [],
   "source": [
    "SWIRE_cat['flag_mips_24'][ind_SWIRE]=True\n"
   ]
  },
  {
   "cell_type": "code",
   "execution_count": 8,
   "metadata": {},
   "outputs": [
    {
     "name": "stderr",
     "output_type": "stream",
     "text": [
      "WARNING: UnitsWarning: 'degrees' did not parse as fits unit: At col 0, Unit 'degrees' not supported by the FITS standard.  [astropy.units.core]\n",
      "WARNING: UnitsWarning: 'muJy' did not parse as fits unit: At col 0, Unit 'muJy' not supported by the FITS standard. Did you mean MJy, mJy or uJy? [astropy.units.core]\n"
     ]
    }
   ],
   "source": [
    "SWIRE_cat.write('./data/dmu26_XID+MIPS_XMM-LSS_SWIRE_cat_20181210.fits', format='fits',overwrite=True)"
   ]
  },
  {
   "cell_type": "code",
   "execution_count": null,
   "metadata": {
    "collapsed": true
   },
   "outputs": [],
   "source": []
  }
 ],
 "metadata": {
  "kernelspec": {
   "display_name": "Python (herschelhelp_internal)",
   "language": "python",
   "name": "helpint"
  },
  "language_info": {
   "codemirror_mode": {
    "name": "ipython",
    "version": 3
   },
   "file_extension": ".py",
   "mimetype": "text/x-python",
   "name": "python",
   "nbconvert_exporter": "python",
   "pygments_lexer": "ipython3",
   "version": "3.6.6"
  }
 },
 "nbformat": 4,
 "nbformat_minor": 2
}
