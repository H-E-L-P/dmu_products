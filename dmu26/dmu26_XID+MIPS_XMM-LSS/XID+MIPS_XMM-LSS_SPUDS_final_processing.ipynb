{
 "cells": [
  {
   "cell_type": "code",
   "execution_count": 1,
   "metadata": {},
   "outputs": [],
   "source": [
    "import seaborn as sns\n",
    "import pylab\n",
    "import pymoc\n",
    "import xidplus\n",
    "import numpy as np\n",
    "%matplotlib inline\n",
    "from astropy.io import fits\n",
    "from astropy import wcs\n",
    "from astropy.table import Table"
   ]
  },
  {
   "cell_type": "markdown",
   "metadata": {},
   "source": [
    "## Read tables"
   ]
  },
  {
   "cell_type": "code",
   "execution_count": 2,
   "metadata": {},
   "outputs": [],
   "source": [
    "SPUDS_cat=Table.read('./data/dmu26_XID+MIPS_XMM-LSS_SPUDS_cat.fits')"
   ]
  },
  {
   "cell_type": "code",
   "execution_count": 3,
   "metadata": {},
   "outputs": [
    {
     "data": {
      "text/html": [
       "<i>Table length=10</i>\n",
       "<table id=\"table140595728468720\" class=\"table-striped table-bordered table-condensed\">\n",
       "<thead><tr><th>help_id</th><th>RA</th><th>Dec</th><th>F_MIPS_24</th><th>FErr_MIPS_24_u</th><th>FErr_MIPS_24_l</th><th>Bkg_MIPS_24</th><th>Sig_conf_MIPS_24</th><th>Rhat_MIPS_24</th><th>n_eff_MIPS_24</th><th>Pval_res_24</th></tr></thead>\n",
       "<thead><tr><th></th><th>degrees</th><th>degrees</th><th>muJy</th><th>muJy</th><th>muJy</th><th>MJy / sr</th><th>MJy / sr</th><th></th><th></th><th></th></tr></thead>\n",
       "<thead><tr><th>bytes27</th><th>float64</th><th>float64</th><th>float32</th><th>float32</th><th>float32</th><th>float32</th><th>float32</th><th>float32</th><th>float32</th><th>float32</th></tr></thead>\n",
       "<tr><td>HELP_J021748.384-055853.332</td><td>34.4515999475648</td><td>-5.9814811582976155</td><td>305.31146</td><td>323.17114</td><td>287.40622</td><td>-0.007987332</td><td>5.0641715e-06</td><td>1.0000608</td><td>1343.0</td><td>0.0</td></tr>\n",
       "<tr><td>HELP_J021747.552-055909.435</td><td>34.4481319475648</td><td>-5.985954158297615</td><td>61.64442</td><td>83.24991</td><td>39.762577</td><td>-0.007987332</td><td>5.0641715e-06</td><td>1.0007377</td><td>1146.0</td><td>0.0</td></tr>\n",
       "<tr><td>HELP_J021751.319-055843.666</td><td>34.4638289475648</td><td>-5.978796158297614</td><td>40.07564</td><td>60.321735</td><td>21.23005</td><td>-0.011716769</td><td>5.1117663e-06</td><td>0.99953556</td><td>2000.0</td><td>0.0</td></tr>\n",
       "<tr><td>HELP_J021751.808-055827.121</td><td>34.465864947564796</td><td>-5.974200158297615</td><td>14.507545</td><td>27.912325</td><td>4.470504</td><td>-0.011716769</td><td>5.1117663e-06</td><td>1.0026258</td><td>2000.0</td><td>0.0</td></tr>\n",
       "<tr><td>HELP_J021752.105-055836.873</td><td>34.4671040222776</td><td>-5.97690909477323</td><td>329.24072</td><td>347.7774</td><td>309.96005</td><td>-0.011716769</td><td>5.1117663e-06</td><td>nan</td><td>2000.0</td><td>0.0</td></tr>\n",
       "<tr><td>HELP_J021756.415-055812.803</td><td>34.4850609475648</td><td>-5.970223158297616</td><td>68.94973</td><td>96.15068</td><td>39.50831</td><td>-0.011716769</td><td>5.1117663e-06</td><td>1.0022622</td><td>865.0</td><td>0.0</td></tr>\n",
       "<tr><td>HELP_J021755.590-055800.544</td><td>34.4816249822776</td><td>-5.96681790477323</td><td>256.0221</td><td>272.37762</td><td>240.00948</td><td>-0.011716769</td><td>5.1117663e-06</td><td>nan</td><td>2000.0</td><td>0.0</td></tr>\n",
       "<tr><td>HELP_J021754.691-055807.994</td><td>34.4778793322776</td><td>-5.96888729477323</td><td>87.04866</td><td>103.543526</td><td>70.45882</td><td>-0.011716769</td><td>5.1117663e-06</td><td>1.0004507</td><td>2000.0</td><td>0.0</td></tr>\n",
       "<tr><td>HELP_J021753.142-055808.510</td><td>34.4714244322776</td><td>-5.96903052477323</td><td>4.630757</td><td>11.176104</td><td>1.2804906</td><td>-0.011716769</td><td>5.1117663e-06</td><td>nan</td><td>2000.0</td><td>0.0</td></tr>\n",
       "<tr><td>HELP_J021801.185-055721.111</td><td>34.5049369475648</td><td>-5.955864158297615</td><td>61.69538</td><td>79.60493</td><td>42.87912</td><td>-0.015876269</td><td>4.941601e-06</td><td>1.00648</td><td>2000.0</td><td>0.0</td></tr>\n",
       "</table>"
      ],
      "text/plain": [
       "<Table length=10>\n",
       "          help_id                   RA         ... n_eff_MIPS_24 Pval_res_24\n",
       "                                 degrees       ...                          \n",
       "          bytes27                float64       ...    float32      float32  \n",
       "--------------------------- ------------------ ... ------------- -----------\n",
       "HELP_J021748.384-055853.332   34.4515999475648 ...        1343.0         0.0\n",
       "HELP_J021747.552-055909.435   34.4481319475648 ...        1146.0         0.0\n",
       "HELP_J021751.319-055843.666   34.4638289475648 ...        2000.0         0.0\n",
       "HELP_J021751.808-055827.121 34.465864947564796 ...        2000.0         0.0\n",
       "HELP_J021752.105-055836.873   34.4671040222776 ...        2000.0         0.0\n",
       "HELP_J021756.415-055812.803   34.4850609475648 ...         865.0         0.0\n",
       "HELP_J021755.590-055800.544   34.4816249822776 ...        2000.0         0.0\n",
       "HELP_J021754.691-055807.994   34.4778793322776 ...        2000.0         0.0\n",
       "HELP_J021753.142-055808.510   34.4714244322776 ...        2000.0         0.0\n",
       "HELP_J021801.185-055721.111   34.5049369475648 ...        2000.0         0.0"
      ]
     },
     "execution_count": 3,
     "metadata": {},
     "output_type": "execute_result"
    }
   ],
   "source": [
    "SPUDS_cat[0:10]"
   ]
  },
  {
   "cell_type": "markdown",
   "metadata": {},
   "source": [
    "## Look at Symmetry of PDFs to determine depth level of catalogue"
   ]
  },
  {
   "cell_type": "code",
   "execution_count": 4,
   "metadata": {},
   "outputs": [
    {
     "name": "stdout",
     "output_type": "stream",
     "text": [
      "6.992063\n"
     ]
    },
    {
     "data": {
      "image/png": "[encoded data removed]",
      "text/plain": [
       "<Figure size 432x432 with 3 Axes>"
      ]
     },
     "metadata": {
      "needs_background": "light"
     },
     "output_type": "display_data"
    }
   ],
   "source": [
    "import seaborn as sns \n",
    "skew=(SPUDS_cat['FErr_MIPS_24_u']-SPUDS_cat['F_MIPS_24'])/(SPUDS_cat['F_MIPS_24']-SPUDS_cat['FErr_MIPS_24_l'])\n",
    "skew.name='(84th-50th)/(50th-16th) percentile'\n",
    "use = skew < 7\n",
    "#g=sns.jointplot(x=np.log10(SWIRE_SPUDS_cat['F_MIPS_24']),y=skew, kind='hex')\n",
    "#print(np.max(skew))\n",
    "\n",
    "g=sns.jointplot(x=np.log10(SPUDS_cat['F_MIPS_24'][use]),y=skew[use], kind='hex')\n",
    "print(np.max(skew[use]))\n",
    "\n",
    "\n",
    "g.savefig('../../data/figs/sk_MIPS_XMM-LSS_SPUDS.pdf', bbox='tight')\n",
    "g.savefig('../../data/figs/sk_MIPS_XMM-LSS_SPUDS.png', bbox='tight')"
   ]
  },
  {
   "cell_type": "markdown",
   "metadata": {},
   "source": [
    "Both seem to have flux pdfs that become Gaussian at ~10$\\mathrm{\\mu Jy}$ "
   ]
  },
  {
   "cell_type": "markdown",
   "metadata": {},
   "source": [
    "## Add flag to catalogue"
   ]
  },
  {
   "cell_type": "code",
   "execution_count": 5,
   "metadata": {
    "collapsed": true,
    "jupyter": {
     "outputs_hidden": true
    }
   },
   "outputs": [],
   "source": [
    "from astropy.table import Column\n",
    "SPUDS_cat.add_column(Column(np.zeros(len(SPUDS_cat), dtype=bool),name='flag_mips_24'))\n"
   ]
  },
  {
   "cell_type": "code",
   "execution_count": null,
   "metadata": {
    "collapsed": true,
    "jupyter": {
     "outputs_hidden": true
    }
   },
   "outputs": [],
   "source": []
  },
  {
   "cell_type": "code",
   "execution_count": 6,
   "metadata": {
    "collapsed": true,
    "jupyter": {
     "outputs_hidden": true
    }
   },
   "outputs": [],
   "source": [
    "ind_SPUDS=(SPUDS_cat['Pval_res_24']>0.5) | (SPUDS_cat['F_MIPS_24'] < 10.0)"
   ]
  },
  {
   "cell_type": "code",
   "execution_count": 7,
   "metadata": {
    "collapsed": true,
    "jupyter": {
     "outputs_hidden": true
    }
   },
   "outputs": [],
   "source": [
    "SPUDS_cat['flag_mips_24'][ind_SPUDS]=True\n"
   ]
  },
  {
   "cell_type": "code",
   "execution_count": 8,
   "metadata": {},
   "outputs": [
    {
     "name": "stderr",
     "output_type": "stream",
     "text": [
      "WARNING: UnitsWarning: 'degrees' did not parse as fits unit: At col 0, Unit 'degrees' not supported by the FITS standard.  [astropy.units.core]\n",
      "WARNING: UnitsWarning: 'muJy' did not parse as fits unit: At col 0, Unit 'muJy' not supported by the FITS standard. Did you mean MJy, mJy or uJy? [astropy.units.core]\n"
     ]
    }
   ],
   "source": [
    "SPUDS_cat.write('./data/dmu26_XID+MIPS_XMM-LSS_SPUDS_cat_20181210.fits', format='fits',overwrite=True)"
   ]
  },
  {
   "cell_type": "code",
   "execution_count": null,
   "metadata": {
    "collapsed": true,
    "jupyter": {
     "outputs_hidden": true
    }
   },
   "outputs": [],
   "source": []
  }
 ],
 "metadata": {
  "kernelspec": {
   "display_name": "Python (herschelhelp_python)",
   "language": "python",
   "name": "helpext"
  },
  "language_info": {
   "codemirror_mode": {
    "name": "ipython",
    "version": 3
   },
   "file_extension": ".py",
   "mimetype": "text/x-python",
   "name": "python",
   "nbconvert_exporter": "python",
   "pygments_lexer": "ipython3",
   "version": "3.8.5"
  }
 },
 "nbformat": 4,
 "nbformat_minor": 4
}
