{
 "cells": [
  {
   "cell_type": "code",
   "execution_count": 1,
   "metadata": {},
   "outputs": [
    {
     "name": "stderr",
     "output_type": "stream",
     "text": [
      "/Users/pdh21/anaconda3/envs/xidplus/lib/python3.6/site-packages/dask/config.py:168: YAMLLoadWarning: calling yaml.load() without Loader=... is deprecated, as the default Loader is unsafe. Please read https://msg.pyyaml.org/load for full details.\n",
      "  data = yaml.load(f.read()) or {}\n",
      "WARNING: AstropyDeprecationWarning: block_reduce was moved to the astropy.nddata.blocks module.  Please update your import statement. [astropy.nddata.utils]\n"
     ]
    }
   ],
   "source": [
    "import pylab as plt\n",
    "import pymoc\n",
    "import xidplus\n",
    "import numpy as np\n",
    "%matplotlib inline\n",
    "from astropy.table import Table, join"
   ]
  },
  {
   "cell_type": "code",
   "execution_count": 2,
   "metadata": {},
   "outputs": [],
   "source": [
    "import seaborn as sns"
   ]
  },
  {
   "cell_type": "markdown",
   "metadata": {},
   "source": [
    "This notebook uses all the raw data from the CIGALE predictions and photoz catalogue, maps, PSF and relevant MOCs to create XID+ prior object and relevant tiling scheme"
   ]
  },
  {
   "cell_type": "markdown",
   "metadata": {},
   "source": [
    "## Read in MOCs\n",
    "The selection functions required are the main MOC associated with the masterlist. "
   ]
  },
  {
   "cell_type": "code",
   "execution_count": 3,
   "metadata": {},
   "outputs": [],
   "source": [
    "Sel_func=pymoc.MOC()\n",
    "Sel_func.read('../../dmu4/dmu4_sm_GAMA-15/data/holes_GAMA-15_ukidss_k_O16_20180327.fits')"
   ]
  },
  {
   "cell_type": "markdown",
   "metadata": {},
   "source": [
    "## Read in CIGALE predictions catalogue"
   ]
  },
  {
   "cell_type": "code",
   "execution_count": 4,
   "metadata": {},
   "outputs": [],
   "source": [
    "cigale=Table.read('../GAMA15_Ldust_prediction_results.fits')"
   ]
  },
  {
   "cell_type": "code",
   "execution_count": 5,
   "metadata": {},
   "outputs": [],
   "source": [
    "cigale['id'].name = 'help_id'"
   ]
  },
  {
   "cell_type": "markdown",
   "metadata": {},
   "source": [
    "## Read in photoz"
   ]
  },
  {
   "cell_type": "code",
   "execution_count": 6,
   "metadata": {},
   "outputs": [],
   "source": [
    "photoz=Table.read('../../dmu24/dmu24_GAMA-15/data/master_catalogue_gama-15_20180119_photoz_20180210_r_optimised.fits')"
   ]
  },
  {
   "cell_type": "code",
   "execution_count": null,
   "metadata": {},
   "outputs": [],
   "source": []
  },
  {
   "cell_type": "code",
   "execution_count": 7,
   "metadata": {},
   "outputs": [
    {
     "data": {
      "text/html": [
       "<i>Table length=10109159</i>\n",
       "<table id=\"table140252458143248\" class=\"table-striped table-bordered table-condensed\">\n",
       "<thead><tr><th>help_id</th><th>RA</th><th>DEC</th><th>id</th><th>z1_median</th><th>z1_min</th><th>z1_max</th><th>z1_area</th><th>z2_median</th><th>z2_min</th><th>z2_max</th><th>z2_area</th><th>za_hb</th><th>chi_r_eazy</th><th>chi_r_atlas</th><th>chi_r_cosmos</th><th>chi_r_stellar</th><th>stellar_type</th></tr></thead>\n",
       "<thead><tr><th>bytes27</th><th>float64</th><th>float64</th><th>int64</th><th>float64</th><th>float64</th><th>float64</th><th>float64</th><th>float64</th><th>float64</th><th>float64</th><th>float64</th><th>float64</th><th>float64</th><th>float64</th><th>float64</th><th>float64</th><th>bytes6</th></tr></thead>\n",
       "<tr><td>HELP_J141546.547+000529.927</td><td>213.94394443384806</td><td>0.09164634854640615</td><td>322065</td><td>0.9028</td><td>0.583</td><td>1.2407</td><td>0.78</td><td>1.6682</td><td>1.642</td><td>1.698</td><td>0.019</td><td>0.8889996515380697</td><td>0.0038901725</td><td>0.036354</td><td>0.070896275</td><td>1.8363205</td><td>m4iii</td></tr>\n",
       "<tr><td>HELP_J144113.844-000720.633</td><td>220.3076845382463</td><td>-0.12239815588151215</td><td>322066</td><td>1.1282</td><td>0.5225</td><td>1.856</td><td>0.775</td><td>0.3912</td><td>0.3587</td><td>0.4212</td><td>0.021</td><td>0.8609178972663641</td><td>0.067539125</td><td>0.034600075</td><td>0.01283038</td><td>1.328487</td><td>f8v</td></tr>\n",
       "<tr><td>HELP_J143631.813+002833.098</td><td>219.13255328515575</td><td>0.475860557928688</td><td>322067</td><td>1.29</td><td>0.7952</td><td>1.8991</td><td>0.796</td><td>-99.0</td><td>-99.0</td><td>-99.0</td><td>-99.0</td><td>1.048127879735366</td><td>0.0010802005</td><td>0.01882907</td><td>0.0368701</td><td>9.1299375</td><td>m1iii</td></tr>\n",
       "<tr><td>HELP_J143302.417+002405.826</td><td>218.2600711193127</td><td>0.4016182827662753</td><td>322068</td><td>1.1347</td><td>0.3875</td><td>1.9517</td><td>0.798</td><td>-99.0</td><td>-99.0</td><td>-99.0</td><td>-99.0</td><td>1.0056287119426772</td><td>-99.0</td><td>-99.0</td><td>-99.0</td><td>-99.0</td><td></td></tr>\n",
       "<tr><td>HELP_J144038.334-002408.434</td><td>220.1597268871738</td><td>-0.40234281903922925</td><td>322069</td><td>1.0148</td><td>0.6858</td><td>1.4809</td><td>0.775</td><td>1.7087</td><td>1.6659</td><td>1.7552</td><td>0.024</td><td>0.8665006509581632</td><td>0.000401907</td><td>0.125252075</td><td>0.29048875</td><td>12.5883675</td><td>wg8iii</td></tr>\n",
       "<tr><td>HELP_J143418.946-004636.350</td><td>218.5789415174339</td><td>-0.7767638219889839</td><td>322070</td><td>0.886</td><td>0.5089</td><td>1.2677</td><td>0.702</td><td>1.7168</td><td>1.5872</td><td>1.856</td><td>0.073</td><td>0.8833496027298801</td><td>0.2708705</td><td>0.57580525</td><td>0.44484775</td><td>6.14024</td><td>wk2iii</td></tr>\n",
       "<tr><td>HELP_J143159.128-000214.789</td><td>217.99636806811705</td><td>-0.03744126534387154</td><td>322071</td><td>0.8571</td><td>0.3958</td><td>1.2813</td><td>0.641</td><td>1.6539</td><td>1.3862</td><td>1.9165</td><td>0.156</td><td>0.8833496027298801</td><td>0.041801725</td><td>0.573121</td><td>0.220772575</td><td>2.48693275</td><td>wk2iii</td></tr>\n",
       "<tr><td>HELP_J144020.768-002750.029</td><td>220.0865319196699</td><td>-0.4638968494879676</td><td>322072</td><td>0.9088</td><td>0.6908</td><td>1.2207</td><td>0.796</td><td>-99.0</td><td>-99.0</td><td>-99.0</td><td>-99.0</td><td>0.8721001529110377</td><td>0.11123585</td><td>0.70335325</td><td>0.6111925</td><td>18.1824775</td><td>wk2iii</td></tr>\n",
       "<tr><td>HELP_J143048.452+010925.488</td><td>217.7018829344781</td><td>1.1570799647325665</td><td>322073</td><td>0.9517</td><td>0.6262</td><td>1.2677</td><td>0.796</td><td>-99.0</td><td>-99.0</td><td>-99.0</td><td>-99.0</td><td>0.8889996515380697</td><td>0.1052213</td><td>0.85642575</td><td>0.41004575</td><td>17.4037275</td><td>wk2iii</td></tr>\n",
       "<tr><td>HELP_J143927.123-001348.344</td><td>219.8630134158708</td><td>-0.23009561481440874</td><td>322074</td><td>0.5226</td><td>0.2198</td><td>0.8388</td><td>0.8</td><td>-99.0</td><td>-99.0</td><td>-99.0</td><td>-99.0</td><td>0.5043918371050699</td><td>0.074208675</td><td>0.043641775</td><td>0.157884675</td><td>2.0616415</td><td>m2v</td></tr>\n",
       "<tr><td>...</td><td>...</td><td>...</td><td>...</td><td>...</td><td>...</td><td>...</td><td>...</td><td>...</td><td>...</td><td>...</td><td>...</td><td>...</td><td>...</td><td>...</td><td>...</td><td>...</td><td>...</td></tr>\n",
       "<tr><td>HELP_J141432.049-001555.249</td><td>213.63353550752552</td><td>-0.26534696189718154</td><td>13138251</td><td>1.4656</td><td>0.6908</td><td>2.3878</td><td>0.798</td><td>-99.0</td><td>-99.0</td><td>-99.0</td><td>-99.0</td><td>1.288187406863617</td><td>2.977648</td><td>3.185886</td><td>3.05304</td><td>4.956148000000001</td><td>g5v</td></tr>\n",
       "<tr><td>HELP_J145243.725-004513.007</td><td>223.18218789304356</td><td>-0.7536130565235344</td><td>13138252</td><td>1.0016</td><td>0.6069</td><td>1.415</td><td>0.796</td><td>-99.0</td><td>-99.0</td><td>-99.0</td><td>-99.0</td><td>0.9996298224752516</td><td>0.13213506666666666</td><td>0.05726725</td><td>0.41764850000000003</td><td>8.421793333333333</td><td>rf6v</td></tr>\n",
       "<tr><td>HELP_J143044.968-005458.450</td><td>217.6873673975006</td><td>-0.916236072865664</td><td>13138253</td><td>1.4788</td><td>0.964</td><td>1.9873</td><td>0.795</td><td>-99.0</td><td>-99.0</td><td>-99.0</td><td>-99.0</td><td>1.4735224113635392</td><td>1.9733033333333332</td><td>2.260025</td><td>1.4975866666666666</td><td>10.41183</td><td>wg8iii</td></tr>\n",
       "<tr><td>HELP_J142956.441+005309.413</td><td>217.485170313671</td><td>0.8859479605979759</td><td>13138254</td><td>1.9846</td><td>1.5184</td><td>2.5118</td><td>0.748</td><td>1.4381</td><td>1.3862</td><td>1.4884</td><td>0.026</td><td>1.942862458604582</td><td>8.671508571428571</td><td>8.411755714285714</td><td>9.111554285714286</td><td>19.02781428571429</td><td>m3iii</td></tr>\n",
       "<tr><td>HELP_J142936.521+000426.316</td><td>217.40216937806636</td><td>0.07397659035594513</td><td>13138255</td><td>1.307</td><td>0.4169</td><td>2.3175</td><td>0.798</td><td>-99.0</td><td>-99.0</td><td>-99.0</td><td>-99.0</td><td>1.09780218548486</td><td>2.7254840000000002</td><td>2.713892</td><td>2.793834</td><td>3.6528419999999997</td><td>k3i</td></tr>\n",
       "<tr><td>HELP_J143426.623-021144.593</td><td>218.61093082246975</td><td>-2.195720222420037</td><td>13138256</td><td>0.8812</td><td>0.3186</td><td>1.4884</td><td>0.798</td><td>-99.0</td><td>-99.0</td><td>-99.0</td><td>-99.0</td><td>0.8005987714174512</td><td>-99.0</td><td>-99.0</td><td>-99.0</td><td>-99.0</td><td></td></tr>\n",
       "<tr><td>HELP_J140237.451+002023.210</td><td>210.65604727754518</td><td>0.3397804972717036</td><td>13138257</td><td>0.3699</td><td>0.1981</td><td>0.5548</td><td>0.795</td><td>-99.0</td><td>-99.0</td><td>-99.0</td><td>-99.0</td><td>0.3107445158917243</td><td>1.028767625</td><td>1.076810625</td><td>0.794361625</td><td>3.46422375</td><td>rk5iii</td></tr>\n",
       "<tr><td>HELP_J142950.230+010506.501</td><td>217.45928972216942</td><td>1.0851390777958916</td><td>13138259</td><td>2.9565</td><td>2.4389</td><td>3.3052</td><td>0.619</td><td>1.8947</td><td>1.6184</td><td>2.2003</td><td>0.177</td><td>2.994524902030375</td><td>0.7181672</td><td>0.687532</td><td>5.801876</td><td>13.938702000000001</td><td>rk3iii</td></tr>\n",
       "<tr><td>HELP_J142338.189+014606.589</td><td>215.909120200048</td><td>1.768496941255207</td><td>13138260</td><td>0.4161</td><td>0.1627</td><td>0.6858</td><td>0.795</td><td>-99.0</td><td>-99.0</td><td>-99.0</td><td>-99.0</td><td>0.38750889736210015</td><td>-99.0</td><td>-99.0</td><td>-99.0</td><td>-99.0</td><td></td></tr>\n",
       "<tr><td>HELP_J143044.353+004718.948</td><td>217.68480353193527</td><td>0.7885965317087582</td><td>13138261</td><td>0.3838</td><td>0.2271</td><td>0.5363</td><td>0.782</td><td>0.2082</td><td>0.2017</td><td>0.2162</td><td>0.01</td><td>0.38335882089940193</td><td>0.2774884444444445</td><td>0.3230988888888889</td><td>0.46124466666666664</td><td>1.3538244444444443</td><td>rk4iii</td></tr>\n",
       "</table>"
      ],
      "text/plain": [
       "<Table length=10109159>\n",
       "          help_id                   RA         ... stellar_type\n",
       "          bytes27                float64       ...    bytes6   \n",
       "--------------------------- ------------------ ... ------------\n",
       "HELP_J141546.547+000529.927 213.94394443384806 ...        m4iii\n",
       "HELP_J144113.844-000720.633  220.3076845382463 ...          f8v\n",
       "HELP_J143631.813+002833.098 219.13255328515575 ...        m1iii\n",
       "HELP_J143302.417+002405.826  218.2600711193127 ...             \n",
       "HELP_J144038.334-002408.434  220.1597268871738 ...       wg8iii\n",
       "HELP_J143418.946-004636.350  218.5789415174339 ...       wk2iii\n",
       "HELP_J143159.128-000214.789 217.99636806811705 ...       wk2iii\n",
       "HELP_J144020.768-002750.029  220.0865319196699 ...       wk2iii\n",
       "HELP_J143048.452+010925.488  217.7018829344781 ...       wk2iii\n",
       "HELP_J143927.123-001348.344  219.8630134158708 ...          m2v\n",
       "                        ...                ... ...          ...\n",
       "HELP_J141432.049-001555.249 213.63353550752552 ...          g5v\n",
       "HELP_J145243.725-004513.007 223.18218789304356 ...         rf6v\n",
       "HELP_J143044.968-005458.450  217.6873673975006 ...       wg8iii\n",
       "HELP_J142956.441+005309.413   217.485170313671 ...        m3iii\n",
       "HELP_J142936.521+000426.316 217.40216937806636 ...          k3i\n",
       "HELP_J143426.623-021144.593 218.61093082246975 ...             \n",
       "HELP_J140237.451+002023.210 210.65604727754518 ...       rk5iii\n",
       "HELP_J142950.230+010506.501 217.45928972216942 ...       rk3iii\n",
       "HELP_J142338.189+014606.589   215.909120200048 ...             \n",
       "HELP_J143044.353+004718.948 217.68480353193527 ...       rk4iii"
      ]
     },
     "execution_count": 7,
     "metadata": {},
     "output_type": "execute_result"
    }
   ],
   "source": [
    "photoz"
   ]
  },
  {
   "cell_type": "markdown",
   "metadata": {},
   "source": [
    "## Join CIGALE and photoz tables"
   ]
  },
  {
   "cell_type": "code",
   "execution_count": 8,
   "metadata": {},
   "outputs": [],
   "source": [
    "prior=join(cigale,photoz)"
   ]
  },
  {
   "cell_type": "markdown",
   "metadata": {},
   "source": [
    "## Import model/s to find f250_pred\n"
   ]
  },
  {
   "cell_type": "code",
   "execution_count": 9,
   "metadata": {},
   "outputs": [],
   "source": [
    "# We have fit a model to the data on other fields to obtained an empirical relationship\n",
    "# between the ratio (Ldust/f250) and redshift\n",
    "\n",
    "import pickle\n",
    "\n",
    "# Function used to fit the data (exponential)\n",
    "def func(p, x):\n",
    "    p1, p2 = p\n",
    "    return p1*np.log(x)+p2\n",
    "\n",
    "# read model (fitted to all data - XID+)\n",
    "c_model1a = pickle.load(open('../Ldust_investigation/cosmos_model_usingChi2.pkl', 'rb'))"
   ]
  },
  {
   "cell_type": "markdown",
   "metadata": {},
   "source": [
    "## Find Ldust/f250 ratio relationship for each model"
   ]
  },
  {
   "cell_type": "code",
   "execution_count": 10,
   "metadata": {},
   "outputs": [],
   "source": [
    "# ## NEW MODELS - XID+ ##\n",
    "#######################\n",
    "\n",
    "# Read model and apply ratio - z function to the dataset\n",
    "logLflux_ratioC = func(c_model1a.beta, prior['z1_median'])\n",
    "# Extract the flux prediction from the ratio (Ldust/f250) relationship\n",
    "Lflux_ratioC = 10**logLflux_ratioC\n",
    "f_pred = prior['bayes.dust.luminosity'] / Lflux_ratioC\n"
   ]
  },
  {
   "cell_type": "code",
   "execution_count": 11,
   "metadata": {},
   "outputs": [
    {
     "name": "stdout",
     "output_type": "stream",
     "text": [
      "len total prior list:  1726717\n",
      "len C1 cut > 0.2:  1726396\n",
      "len C1 cut > 1:  1725948\n",
      "len C1 cut > 2:  1724096\n",
      "len C1 cut > 3:  1717011\n",
      "len C1 cut > 4:  1700498\n",
      "len C1 cut > 5:  1669694\n",
      "len C1 cut > 7:  1578557\n",
      "len C1 cut > 10:  1434052\n",
      "len C1 cut > 20:  1090885\n",
      "len C1 cut > 50:  605015\n",
      "len C1 cut > 100:  295333\n"
     ]
    }
   ],
   "source": [
    "# Different flux cuts\n",
    "# After an analysis running XID+ on a few tiles with different flux cuts, \n",
    "# we decided to use f_pred > 5mJy as our flux cut\n",
    "print('len total prior list: ', len(prior))\n",
    "print('len C1 cut > 0.2: ', len(prior[f_pred > 0.2]))\n",
    "print('len C1 cut > 1: ', len(prior[f_pred > 1]))\n",
    "print('len C1 cut > 2: ', len(prior[f_pred > 2]))\n",
    "print('len C1 cut > 3: ', len(prior[f_pred > 3]))\n",
    "print('len C1 cut > 4: ', len(prior[f_pred > 4]))\n",
    "print('len C1 cut > 5: ', len(prior[f_pred > 5]))\n",
    "print('len C1 cut > 7: ', len(prior[f_pred > 7]))\n",
    "print('len C1 cut > 10: ', len(prior[f_pred > 10]))\n",
    "print('len C1 cut > 20: ', len(prior[f_pred > 20]))\n",
    "print('len C1 cut > 50: ', len(prior[f_pred > 50]))\n",
    "print('len C1 cut > 100: ', len(prior[f_pred > 100]))"
   ]
  },
  {
   "cell_type": "code",
   "execution_count": 12,
   "metadata": {},
   "outputs": [],
   "source": [
    "prior_sel = prior[['help_id', 'RA', 'DEC']]\n",
    "prior_sel['f250_pred'] = f_pred\n",
    "prior_sel['DEC'].name='Dec'\n",
    "prior_sel=prior_sel[f_pred>5]"
   ]
  },
  {
   "cell_type": "code",
   "execution_count": 13,
   "metadata": {},
   "outputs": [
    {
     "data": {
      "text/html": [
       "<i>Table length=1669694</i>\n",
       "<table id=\"table140252002831888\" class=\"table-striped table-bordered table-condensed\">\n",
       "<thead><tr><th>help_id</th><th>RA</th><th>Dec</th><th>f250_pred</th></tr></thead>\n",
       "<thead><tr><th>bytes27</th><th>float64</th><th>float64</th><th>float64</th></tr></thead>\n",
       "<tr><td>HELP_J140011.281+012223.464</td><td>210.04700380700902</td><td>1.3731843653253262</td><td>27.30008402913021</td></tr>\n",
       "<tr><td>HELP_J140011.780+012459.432</td><td>210.04908433885802</td><td>1.4165089588858322</td><td>198.56400360488286</td></tr>\n",
       "<tr><td>HELP_J140012.393+012309.583</td><td>210.05163616447652</td><td>1.3859951494563272</td><td>134.15493823556724</td></tr>\n",
       "<tr><td>HELP_J140012.790+012311.829</td><td>210.0532936292695</td><td>1.3866190856275589</td><td>40.41331087325194</td></tr>\n",
       "<tr><td>HELP_J140012.839+012417.993</td><td>210.05349653945746</td><td>1.4049981030735224</td><td>16.313739001690557</td></tr>\n",
       "<tr><td>HELP_J140012.859+012656.739</td><td>210.05357924856725</td><td>1.449094303505662</td><td>119.18346714062172</td></tr>\n",
       "<tr><td>HELP_J140012.887+012644.810</td><td>210.05369404812356</td><td>1.4457804182051432</td><td>32.080835848886196</td></tr>\n",
       "<tr><td>HELP_J140013.203+012516.958</td><td>210.0550133505917</td><td>1.4213771677872309</td><td>584.9652686875751</td></tr>\n",
       "<tr><td>HELP_J140013.430+012310.483</td><td>210.05595847576842</td><td>1.3862452235271698</td><td>36.56166381092505</td></tr>\n",
       "<tr><td>HELP_J140014.171+012606.038</td><td>210.05904673401966</td><td>1.43501061381568</td><td>121.66700671696452</td></tr>\n",
       "<tr><td>...</td><td>...</td><td>...</td><td>...</td></tr>\n",
       "<tr><td>HELP_J145949.863-002015.172</td><td>224.95776361517355</td><td>-0.3375477067491832</td><td>10.865955074809039</td></tr>\n",
       "<tr><td>HELP_J145950.162-002028.003</td><td>224.95901033926052</td><td>-0.34111188331665854</td><td>16.776064026310216</td></tr>\n",
       "<tr><td>HELP_J145950.175-001938.108</td><td>224.9590611216669</td><td>-0.32725208490655816</td><td>53.98809057943815</td></tr>\n",
       "<tr><td>HELP_J145950.182-001954.047</td><td>224.95909207216988</td><td>-0.3316796959814587</td><td>11.067891971562078</td></tr>\n",
       "<tr><td>HELP_J145950.371-002133.470</td><td>224.9598801804098</td><td>-0.3592971727056416</td><td>35.40321498900228</td></tr>\n",
       "<tr><td>HELP_J145950.377-002129.383</td><td>224.9599039238534</td><td>-0.3581620317173466</td><td>69.86482053225855</td></tr>\n",
       "<tr><td>HELP_J145950.387-001853.505</td><td>224.95994620541572</td><td>-0.3148623909597719</td><td>8.51480179791412</td></tr>\n",
       "<tr><td>HELP_J145951.005-001919.798</td><td>224.96252196339123</td><td>-0.32216604487002676</td><td>16.91074204924323</td></tr>\n",
       "<tr><td>HELP_J145951.557-002012.157</td><td>224.96482047291994</td><td>-0.3367101589305369</td><td>44.87282331086427</td></tr>\n",
       "<tr><td>HELP_J145951.913-001903.079</td><td>224.96630305706265</td><td>-0.31752189050780866</td><td>1644.9564042685145</td></tr>\n",
       "</table>"
      ],
      "text/plain": [
       "<Table length=1669694>\n",
       "          help_id                   RA         ...     f250_pred     \n",
       "          bytes27                float64       ...      float64      \n",
       "--------------------------- ------------------ ... ------------------\n",
       "HELP_J140011.281+012223.464 210.04700380700902 ...  27.30008402913021\n",
       "HELP_J140011.780+012459.432 210.04908433885802 ... 198.56400360488286\n",
       "HELP_J140012.393+012309.583 210.05163616447652 ... 134.15493823556724\n",
       "HELP_J140012.790+012311.829  210.0532936292695 ...  40.41331087325194\n",
       "HELP_J140012.839+012417.993 210.05349653945746 ... 16.313739001690557\n",
       "HELP_J140012.859+012656.739 210.05357924856725 ... 119.18346714062172\n",
       "HELP_J140012.887+012644.810 210.05369404812356 ... 32.080835848886196\n",
       "HELP_J140013.203+012516.958  210.0550133505917 ...  584.9652686875751\n",
       "HELP_J140013.430+012310.483 210.05595847576842 ...  36.56166381092505\n",
       "HELP_J140014.171+012606.038 210.05904673401966 ... 121.66700671696452\n",
       "                        ...                ... ...                ...\n",
       "HELP_J145949.863-002015.172 224.95776361517355 ... 10.865955074809039\n",
       "HELP_J145950.162-002028.003 224.95901033926052 ... 16.776064026310216\n",
       "HELP_J145950.175-001938.108  224.9590611216669 ...  53.98809057943815\n",
       "HELP_J145950.182-001954.047 224.95909207216988 ... 11.067891971562078\n",
       "HELP_J145950.371-002133.470  224.9598801804098 ...  35.40321498900228\n",
       "HELP_J145950.377-002129.383  224.9599039238534 ...  69.86482053225855\n",
       "HELP_J145950.387-001853.505 224.95994620541572 ...   8.51480179791412\n",
       "HELP_J145951.005-001919.798 224.96252196339123 ...  16.91074204924323\n",
       "HELP_J145951.557-002012.157 224.96482047291994 ...  44.87282331086427\n",
       "HELP_J145951.913-001903.079 224.96630305706265 ... 1644.9564042685145"
      ]
     },
     "execution_count": 13,
     "metadata": {},
     "output_type": "execute_result"
    }
   ],
   "source": [
    "prior_sel"
   ]
  },
  {
   "cell_type": "code",
   "execution_count": 14,
   "metadata": {},
   "outputs": [],
   "source": [
    "prior['DEC'].name='Dec'"
   ]
  },
  {
   "cell_type": "markdown",
   "metadata": {},
   "source": [
    "## Read in Maps"
   ]
  },
  {
   "cell_type": "code",
   "execution_count": 15,
   "metadata": {},
   "outputs": [],
   "source": [
    "pswfits='../../dmu19/dmu19_HELP-SPIRE-maps/data/GAMA-15_SPIRE250_v1.0.fits'#SPIRE 250 map\n",
    "pmwfits='../../dmu19/dmu19_HELP-SPIRE-maps/data/GAMA-15_SPIRE350_v1.0.fits'#SPIRE 350 map\n",
    "plwfits='../../dmu19/dmu19_HELP-SPIRE-maps/data/GAMA-15_SPIRE500_v1.0.fits'#SPIRE 500 map\n",
    "\n",
    "#output folder\n",
    "output_folder='./'"
   ]
  },
  {
   "cell_type": "code",
   "execution_count": 16,
   "metadata": {},
   "outputs": [],
   "source": [
    "from astropy.io import fits\n",
    "from astropy import wcs\n",
    "\n",
    "#-----250-------------\n",
    "hdulist = fits.open(pswfits)\n",
    "im250phdu=hdulist[0].header\n",
    "im250hdu=hdulist[1].header\n",
    "\n",
    "im250=hdulist[1].data*1.0E3 #convert to mJy\n",
    "nim250=hdulist[3].data*1.0E3 #convert to mJy\n",
    "w_250 = wcs.WCS(hdulist[1].header)\n",
    "pixsize250=3600.0*w_250.wcs.cdelt #pixel size (in arcseconds)\n",
    "hdulist.close()\n",
    "#-----350-------------\n",
    "hdulist = fits.open(pmwfits)\n",
    "im350phdu=hdulist[0].header\n",
    "im350hdu=hdulist[1].header\n",
    "\n",
    "im350=hdulist[1].data*1.0E3 #convert to mJy\n",
    "nim350=hdulist[3].data*1.0E3 #convert to mJy\n",
    "w_350 = wcs.WCS(hdulist[1].header)\n",
    "pixsize350=3600.0*w_350.wcs.cdelt #pixel size (in arcseconds)\n",
    "hdulist.close()\n",
    "#-----500-------------\n",
    "hdulist = fits.open(plwfits)\n",
    "im500phdu=hdulist[0].header\n",
    "im500hdu=hdulist[1].header\n",
    "im500=hdulist[1].data*1.0E3 #convert to mJy\n",
    "nim500=hdulist[3].data*1.0E3 #convert to mJy\n",
    "w_500 = wcs.WCS(hdulist[1].header)\n",
    "pixsize500=3600.0*w_500.wcs.cdelt #pixel size (in arcseconds)\n",
    "hdulist.close()"
   ]
  },
  {
   "cell_type": "code",
   "execution_count": 17,
   "metadata": {},
   "outputs": [],
   "source": [
    "## Set XID+ prior class"
   ]
  },
  {
   "cell_type": "code",
   "execution_count": 18,
   "metadata": {},
   "outputs": [],
   "source": [
    "#---prior250--------\n",
    "prior250=xidplus.prior(im250,nim250,im250phdu,im250hdu, moc=Sel_func)#Initialise with map, uncertianty map, wcs info and primary header\n",
    "prior250.prior_cat(prior_sel['RA'] ,prior_sel['Dec'] ,'GAMA15_Ldust_prediction_results.fits',ID=prior_sel['help_id'] )#Set input catalogue\n",
    "prior250.prior_bkg(-5.0,5)#Set prior on background (assumes Gaussian pdf with mu and sigma)\n",
    "#---prior350--------\n",
    "prior350=xidplus.prior(im350,nim350,im350phdu,im350hdu, moc=Sel_func)\n",
    "prior350.prior_cat(prior_sel['RA'] ,prior_sel['Dec'] ,'GAMA15_Ldust_prediction_results.fits',ID=prior_sel['help_id'] )\n",
    "prior350.prior_bkg(-5.0,5)\n",
    "\n",
    "#---prior500--------\n",
    "prior500=xidplus.prior(im500,nim500,im500phdu,im500hdu, moc=Sel_func)\n",
    "prior500.prior_cat(prior_sel['RA'] ,prior_sel['Dec'] ,'GAMA15_Ldust_prediction_results.fits',ID=prior_sel['help_id'] )\n",
    "prior500.prior_bkg(-5.0,5)"
   ]
  },
  {
   "cell_type": "code",
   "execution_count": 19,
   "metadata": {},
   "outputs": [],
   "source": [
    "#pixsize array (size of pixels in arcseconds)\n",
    "pixsize=np.array([pixsize250,pixsize350,pixsize500])\n",
    "#point response function for the three bands\n",
    "prfsize=np.array([18.15,25.15,36.3])\n",
    "#use Gaussian2DKernel to create prf (requires stddev rather than fwhm hence pfwhm/2.355)\n",
    "from astropy.convolution import Gaussian2DKernel\n",
    "\n",
    "##---------fit using Gaussian beam-----------------------\n",
    "prf250=Gaussian2DKernel(prfsize[0]/2.355,x_size=101,y_size=101)\n",
    "prf250.normalize(mode='peak')\n",
    "prf350=Gaussian2DKernel(prfsize[1]/2.355,x_size=101,y_size=101)\n",
    "prf350.normalize(mode='peak')\n",
    "prf500=Gaussian2DKernel(prfsize[2]/2.355,x_size=101,y_size=101)\n",
    "prf500.normalize(mode='peak')\n",
    "\n",
    "pind250=np.arange(0,101,1)*1.0/pixsize[0,1] #get 250 scale in terms of pixel scale of map\n",
    "pind350=np.arange(0,101,1)*1.0/pixsize[1,1] #get 350 scale in terms of pixel scale of map\n",
    "pind500=np.arange(0,101,1)*1.0/pixsize[2,1] #get 500 scale in terms of pixel scale of map\n",
    "\n",
    "prior250.set_prf(prf250.array,pind250,pind250)#requires psf as 2d grid, and x and y bins for grid (in pixel scale)\n",
    "prior350.set_prf(prf350.array,pind350,pind350)\n",
    "prior500.set_prf(prf500.array,pind500,pind500)"
   ]
  },
  {
   "cell_type": "code",
   "execution_count": 20,
   "metadata": {},
   "outputs": [
    {
     "name": "stdout",
     "output_type": "stream",
     "text": [
      "----- There are 4940 tiles required for input catalogue and 101 large tiles\n",
      "writing total_bytes=1320401211...\n",
      "writing bytes [0, 1073741824)... done.\n",
      "writing bytes [1073741824, 1320401211)... done.\n"
     ]
    },
    {
     "ename": "SystemExit",
     "evalue": "",
     "output_type": "error",
     "traceback": [
      "An exception has occurred, use %tb to see the full traceback.\n",
      "\u001b[0;31mSystemExit\u001b[0m\n"
     ]
    }
   ],
   "source": [
    "import pickle\n",
    "#from moc, get healpix pixels at a given order\n",
    "from xidplus import moc_routines\n",
    "order=9\n",
    "tiles=moc_routines.get_HEALPix_pixels(order,prior250.sra,prior250.sdec,unique=True)\n",
    "order_large=6\n",
    "tiles_large=moc_routines.get_HEALPix_pixels(order_large,prior250.sra,prior250.sdec,unique=True)\n",
    "print('----- There are '+str(len(tiles))+' tiles required for input catalogue and '+str(len(tiles_large))+' large tiles')\n",
    "output_folder='./'\n",
    "outfile=output_folder+'Master_prior.pkl'\n",
    "xidplus.io.pickle_dump({'priors':[prior250,prior350,prior500],'tiles':tiles,'order':order,'version':xidplus.io.git_version()},outfile)\n",
    "outfile=output_folder+'Tiles.pkl'\n",
    "with open(outfile, 'wb') as f:\n",
    "    pickle.dump({'tiles':tiles,'order':order,'tiles_large':tiles_large,'order_large':order_large,'version':xidplus.io.git_version()},f)\n",
    "raise SystemExit()"
   ]
  },
  {
   "cell_type": "code",
   "execution_count": null,
   "metadata": {},
   "outputs": [],
   "source": [
    "prior250.nsrc"
   ]
  },
  {
   "cell_type": "code",
   "execution_count": null,
   "metadata": {},
   "outputs": [],
   "source": []
  }
 ],
 "metadata": {
  "kernelspec": {
   "display_name": "Python 3",
   "language": "python",
   "name": "python3"
  },
  "language_info": {
   "codemirror_mode": {
    "name": "ipython",
    "version": 3
   },
   "file_extension": ".py",
   "mimetype": "text/x-python",
   "name": "python",
   "nbconvert_exporter": "python",
   "pygments_lexer": "ipython3",
   "version": "3.6.6"
  }
 },
 "nbformat": 4,
 "nbformat_minor": 1
}
