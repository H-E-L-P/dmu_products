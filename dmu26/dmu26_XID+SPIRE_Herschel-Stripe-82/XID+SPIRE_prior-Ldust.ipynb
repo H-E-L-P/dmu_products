{
 "cells": [
  {
   "cell_type": "code",
   "execution_count": 2,
   "metadata": {},
   "outputs": [],
   "source": [
    "import pylab as plt\n",
    "import pymoc\n",
    "import xidplus\n",
    "import numpy as np\n",
    "%matplotlib inline\n",
    "from astropy.table import Table, join\n",
    "\n",
    "import seaborn as sns"
   ]
  },
  {
   "cell_type": "markdown",
   "metadata": {},
   "source": [
    "This notebook uses all the raw data from the CIGALE predictions and photoz catalogue, maps, PSF and relevant MOCs to create XID+ prior object and relevant tiling scheme"
   ]
  },
  {
   "cell_type": "markdown",
   "metadata": {},
   "source": [
    "## Read in MOCs\n",
    "The selection functions required are the main MOC associated with the masterlist. "
   ]
  },
  {
   "cell_type": "code",
   "execution_count": 3,
   "metadata": {},
   "outputs": [],
   "source": [
    "Sel_func=pymoc.MOC()\n",
    "Sel_func.read('../../dmu4/dmu4_sm_Herschel-Stripe-82/data/holes_Herschel-Stripe-82_irac_i1_O16_20180423.fits')\n"
   ]
  },
  {
   "cell_type": "markdown",
   "metadata": {},
   "source": [
    "## Read in CIGALE predictions catalogue"
   ]
  },
  {
   "cell_type": "code",
   "execution_count": 4,
   "metadata": {},
   "outputs": [],
   "source": [
    "cigale=Table.read('../../dmu28/dmu28_Herschel-Stripe-82/data/herschel_stripe_82_Ldust_prediction.fits')\n"
   ]
  },
  {
   "cell_type": "code",
   "execution_count": 5,
   "metadata": {},
   "outputs": [],
   "source": [
    "cigale['id'].name = 'help_id'"
   ]
  },
  {
   "cell_type": "code",
   "execution_count": 5,
   "metadata": {},
   "outputs": [
    {
     "data": {
      "text/html": [
       "<i>Table length=3459384</i>\n",
       "<table id=\"table139790619826328\" class=\"table-striped table-bordered table-condensed\">\n",
       "<thead><tr><th>help_id</th><th>bayes.dust.luminosity</th><th>bayes.dust.luminosity_err</th><th>best.chi_square</th><th>best.reduced_chi_square</th></tr></thead>\n",
       "<thead><tr><th>bytes27</th><th>float64</th><th>float64</th><th>float64</th><th>float64</th></tr></thead>\n",
       "<tr><td>HELP_J000000.145-061343.694</td><td>5.991032835191308e+36</td><td>2.073375984739078e+36</td><td>42.650335725249654</td><td>6.092905103607094</td></tr>\n",
       "<tr><td>HELP_J000000.174-063316.625</td><td>1.1922685734022064e+37</td><td>1.007034883608234e+37</td><td>14.401098904785375</td><td>2.057299843540768</td></tr>\n",
       "<tr><td>HELP_J000000.182-062220.818</td><td>1.26929055301189e+36</td><td>7.761389069674436e+35</td><td>39.79861861350918</td><td>5.685516944787025</td></tr>\n",
       "<tr><td>HELP_J000000.234-062514.991</td><td>3.779273091699734e+36</td><td>3.942424327027322e+36</td><td>22.181170452015497</td><td>3.168738636002214</td></tr>\n",
       "<tr><td>HELP_J000000.339-062430.217</td><td>4.212570194347156e+35</td><td>3.923272506045582e+35</td><td>16.898678074058523</td><td>2.414096867722646</td></tr>\n",
       "<tr><td>HELP_J000000.384-063829.535</td><td>3.4107708433206693e+36</td><td>3.6234580513671275e+36</td><td>10.926686520209497</td><td>1.5609552171727852</td></tr>\n",
       "<tr><td>HELP_J000000.593-070438.548</td><td>1.8502502811053166e+37</td><td>1.985541509663344e+37</td><td>1.3065688564927103</td><td>0.1866526937846729</td></tr>\n",
       "<tr><td>HELP_J000000.687-055314.779</td><td>4.870325839303231e+37</td><td>4.551981012430787e+37</td><td>6.3534669843177545</td><td>0.907638140616822</td></tr>\n",
       "<tr><td>HELP_J000000.715-055222.305</td><td>7.437747923659208e+37</td><td>7.931593687201441e+37</td><td>6.202412842780946</td><td>0.8860589775401352</td></tr>\n",
       "<tr><td>HELP_J000000.876-070215.223</td><td>4.662065973907582e+36</td><td>1.5702248319342117e+36</td><td>52.49929492112335</td><td>7.499899274446193</td></tr>\n",
       "<tr><td>...</td><td>...</td><td>...</td><td>...</td><td>...</td></tr>\n",
       "<tr><td>HELP_J000245.118-052342.686</td><td>1.138237204778582e+39</td><td>1.54492735986977e+39</td><td>16.375730636605574</td><td>2.3393900909436534</td></tr>\n",
       "<tr><td>HELP_J000245.118-053735.014</td><td>1.592358099741325e+39</td><td>1.0206299128238727e+39</td><td>101.19167846017399</td><td>14.45595406573914</td></tr>\n",
       "<tr><td>HELP_J000245.126-033510.993</td><td>6.358773088239791e+38</td><td>4.1264228450934594e+38</td><td>80.13755597615321</td><td>11.4482222823076</td></tr>\n",
       "<tr><td>HELP_J000245.146+012258.770</td><td>1.5367514354719e+39</td><td>2.258424623678218e+39</td><td>36.34069407249329</td><td>6.056782345415549</td></tr>\n",
       "<tr><td>HELP_J000245.157-005119.819</td><td>8.901587022803635e+38</td><td>3.519738235869458e+38</td><td>404.29709478078865</td><td>36.75428134370806</td></tr>\n",
       "<tr><td>HELP_J000245.172-053228.430</td><td>3.810597376984018e+38</td><td>4.436828047995355e+38</td><td>1.8413719729703475</td><td>0.26305313899576394</td></tr>\n",
       "<tr><td>HELP_J000245.173-055224.480</td><td>4.7954377997086145e+38</td><td>3.418795884841044e+38</td><td>41.34622882538128</td><td>5.906604117911612</td></tr>\n",
       "<tr><td>HELP_J000245.175-045413.715</td><td>1.5127936886354237e+39</td><td>2.5036909458163202e+39</td><td>7.136839504748291</td><td>1.1894732507913819</td></tr>\n",
       "<tr><td>HELP_J000245.183+022704.968</td><td>4.381142799582106e+38</td><td>5.254986087265233e+38</td><td>7.061971662013741</td><td>1.1769952770022902</td></tr>\n",
       "<tr><td>HELP_J000245.185-020203.074</td><td>5.555375747195586e+38</td><td>9.467640160121559e+38</td><td>6.096561906332135</td><td>0.870937415190305</td></tr>\n",
       "</table>"
      ],
      "text/plain": [
       "<Table length=3459384>\n",
       "          help_id           bayes.dust.luminosity  ... best.reduced_chi_square\n",
       "          bytes27                  float64         ...         float64        \n",
       "--------------------------- ---------------------- ... -----------------------\n",
       "HELP_J000000.145-061343.694  5.991032835191308e+36 ...       6.092905103607094\n",
       "HELP_J000000.174-063316.625 1.1922685734022064e+37 ...       2.057299843540768\n",
       "HELP_J000000.182-062220.818   1.26929055301189e+36 ...       5.685516944787025\n",
       "HELP_J000000.234-062514.991  3.779273091699734e+36 ...       3.168738636002214\n",
       "HELP_J000000.339-062430.217  4.212570194347156e+35 ...       2.414096867722646\n",
       "HELP_J000000.384-063829.535 3.4107708433206693e+36 ...      1.5609552171727852\n",
       "HELP_J000000.593-070438.548 1.8502502811053166e+37 ...      0.1866526937846729\n",
       "HELP_J000000.687-055314.779  4.870325839303231e+37 ...       0.907638140616822\n",
       "HELP_J000000.715-055222.305  7.437747923659208e+37 ...      0.8860589775401352\n",
       "HELP_J000000.876-070215.223  4.662065973907582e+36 ...       7.499899274446193\n",
       "                        ...                    ... ...                     ...\n",
       "HELP_J000245.118-052342.686  1.138237204778582e+39 ...      2.3393900909436534\n",
       "HELP_J000245.118-053735.014  1.592358099741325e+39 ...       14.45595406573914\n",
       "HELP_J000245.126-033510.993  6.358773088239791e+38 ...        11.4482222823076\n",
       "HELP_J000245.146+012258.770    1.5367514354719e+39 ...       6.056782345415549\n",
       "HELP_J000245.157-005119.819  8.901587022803635e+38 ...       36.75428134370806\n",
       "HELP_J000245.172-053228.430  3.810597376984018e+38 ...     0.26305313899576394\n",
       "HELP_J000245.173-055224.480 4.7954377997086145e+38 ...       5.906604117911612\n",
       "HELP_J000245.175-045413.715 1.5127936886354237e+39 ...      1.1894732507913819\n",
       "HELP_J000245.183+022704.968  4.381142799582106e+38 ...      1.1769952770022902\n",
       "HELP_J000245.185-020203.074  5.555375747195586e+38 ...       0.870937415190305"
      ]
     },
     "execution_count": 5,
     "metadata": {},
     "output_type": "execute_result"
    }
   ],
   "source": [
    "cigale"
   ]
  },
  {
   "cell_type": "markdown",
   "metadata": {},
   "source": [
    "## Read in photoz"
   ]
  },
  {
   "cell_type": "code",
   "execution_count": 6,
   "metadata": {},
   "outputs": [],
   "source": [
    "photoz=Table.read('../../dmu24/dmu24_Herschel-Stripe-82/data/master_catalogue_herschel-stripe-82_20180307_photoz_20180509.fits')"
   ]
  },
  {
   "cell_type": "code",
   "execution_count": 7,
   "metadata": {},
   "outputs": [
    {
     "data": {
      "text/html": [
       "<i>Table length=21613821</i>\n",
       "<table id=\"table46913885241184\" class=\"table-striped table-bordered table-condensed\">\n",
       "<thead><tr><th>help_id</th><th>RA</th><th>DEC</th><th>id</th><th>z1_median</th><th>z1_min</th><th>z1_max</th><th>z1_area</th><th>z2_median</th><th>z2_min</th><th>z2_max</th><th>z2_area</th><th>za_hb</th><th>chi_r_eazy</th><th>chi_r_atlas</th><th>chi_r_cosmos</th><th>chi_r_stellar</th><th>stellar_type</th></tr></thead>\n",
       "<thead><tr><th>bytes27</th><th>float64</th><th>float64</th><th>int64</th><th>float64</th><th>float64</th><th>float64</th><th>float64</th><th>float64</th><th>float64</th><th>float64</th><th>float64</th><th>float64</th><th>float64</th><th>float64</th><th>float64</th><th>float64</th><th>bytes6</th></tr></thead>\n",
       "<tr><td>HELP_J000011.420-053811.645</td><td>0.047583188985</td><td>-5.636568125</td><td>16337</td><td>0.2542</td><td>0.1352</td><td>0.3751</td><td>0.8</td><td>-99.0</td><td>-99.0</td><td>-99.0</td><td>-99.0</td><td>0.291259067401</td><td>0.00022997255</td><td>0.01326589</td><td>0.036343025</td><td>5.2573925</td><td>rk4iii</td></tr>\n",
       "<tr><td>HELP_J000007.852-025803.860</td><td>0.032715924565</td><td>-2.96773899701</td><td>16340</td><td>0.717</td><td>0.3147</td><td>1.1295</td><td>0.797</td><td>-99.0</td><td>-99.0</td><td>-99.0</td><td>-99.0</td><td>0.700980058178</td><td>-99.0</td><td>-99.0</td><td>-99.0</td><td>-99.0</td><td></td></tr>\n",
       "<tr><td>HELP_J000010.783-043823.932</td><td>0.044930924565</td><td>-4.63998099701</td><td>16364</td><td>0.8444</td><td>0.3958</td><td>1.3019</td><td>0.799</td><td>-99.0</td><td>-99.0</td><td>-99.0</td><td>-99.0</td><td>0.706082998352</td><td>0.224733725</td><td>0.17715925</td><td>0.5573955</td><td>1.35493675</td><td>m1v</td></tr>\n",
       "<tr><td>HELP_J000002.636-054016.363</td><td>0.010984924565</td><td>-5.67121199701</td><td>16365</td><td>0.8058</td><td>0.4383</td><td>1.1942</td><td>0.796</td><td>-99.0</td><td>-99.0</td><td>-99.0</td><td>-99.0</td><td>0.695892381034</td><td>0.002343731</td><td>0.175668775</td><td>0.120380925</td><td>2.122863</td><td>wk2iii</td></tr>\n",
       "<tr><td>HELP_J000011.248-004431.596</td><td>0.046864924565</td><td>-0.742109997014</td><td>16366</td><td>0.8469</td><td>0.3628</td><td>1.3437</td><td>0.796</td><td>-99.0</td><td>-99.0</td><td>-99.0</td><td>-99.0</td><td>0.822303383619</td><td>-99.0</td><td>-99.0</td><td>-99.0</td><td>-99.0</td><td></td></tr>\n",
       "<tr><td>HELP_J000007.520+020945.378</td><td>0.031334924565</td><td>2.16260500299</td><td>16367</td><td>0.7458</td><td>0.3226</td><td>1.2008</td><td>0.796</td><td>-99.0</td><td>-99.0</td><td>-99.0</td><td>-99.0</td><td>0.726648307209</td><td>0.0209771875</td><td>0.03476325</td><td>0.042987725</td><td>0.08211085</td><td>k0v</td></tr>\n",
       "<tr><td>HELP_J000011.740-065234.280</td><td>0.048914924565</td><td>-6.87618899701</td><td>16368</td><td>0.8621</td><td>0.3669</td><td>1.3719</td><td>0.798</td><td>-99.0</td><td>-99.0</td><td>-99.0</td><td>-99.0</td><td>0.838753365465</td><td>-99.0</td><td>-99.0</td><td>-99.0</td><td>-99.0</td><td></td></tr>\n",
       "<tr><td>HELP_J000003.753-044259.915</td><td>0.015636924565</td><td>-4.71664299701</td><td>16369</td><td>0.8138</td><td>0.4297</td><td>1.2273</td><td>0.797</td><td>-99.0</td><td>-99.0</td><td>-99.0</td><td>-99.0</td><td>0.706082998352</td><td>0.123441675</td><td>0.114085875</td><td>0.3742695</td><td>2.1744365</td><td>wk3iii</td></tr>\n",
       "<tr><td>HELP_J000009.306-014619.906</td><td>0.038774924565</td><td>-1.77219599701</td><td>16370</td><td>0.8821</td><td>0.4254</td><td>1.4077</td><td>0.798</td><td>-99.0</td><td>-99.0</td><td>-99.0</td><td>-99.0</td><td>0.700980058178</td><td>0.1414335</td><td>0.21377695</td><td>0.48909675</td><td>1.90867425</td><td>m0iii</td></tr>\n",
       "<tr><td>HELP_J000004.542-054216.528</td><td>0.018925924565</td><td>-5.70459099701</td><td>16371</td><td>0.92</td><td>0.5688</td><td>1.3158</td><td>0.796</td><td>-99.0</td><td>-99.0</td><td>-99.0</td><td>-99.0</td><td>0.844269625561</td><td>0.39820425</td><td>0.29112325</td><td>0.635659</td><td>5.0923675</td><td>m2iii</td></tr>\n",
       "<tr><td>...</td><td>...</td><td>...</td><td>...</td><td>...</td><td>...</td><td>...</td><td>...</td><td>...</td><td>...</td><td>...</td><td>...</td><td>...</td><td>...</td><td>...</td><td>...</td><td>...</td><td>...</td></tr>\n",
       "<tr><td>HELP_J000242.302+010750.734</td><td>0.676258438184</td><td>1.130759505</td><td>50196446</td><td>0.4658</td><td>0.2017</td><td>0.7952</td><td>0.798</td><td>-99.0</td><td>-99.0</td><td>-99.0</td><td>-99.0</td><td>0.442606570742</td><td>0.697465777778</td><td>0.758785222222</td><td>0.674130111111</td><td>1.27379222222</td><td>k3i</td></tr>\n",
       "<tr><td>HELP_J000242.504+011216.312</td><td>0.677100148995</td><td>1.20453114827</td><td>50196447</td><td>0.8751</td><td>0.5044</td><td>1.2474</td><td>0.8</td><td>-99.0</td><td>-99.0</td><td>-99.0</td><td>-99.0</td><td>0.849802434438</td><td>1.23258111111</td><td>1.34689666667</td><td>1.27812111111</td><td>2.23259</td><td>m3iii</td></tr>\n",
       "<tr><td>HELP_J000242.579+010815.220</td><td>0.677412154551</td><td>1.13756099398</td><td>50196448</td><td>1.0568</td><td>0.6508</td><td>1.4661</td><td>0.798</td><td>-99.0</td><td>-99.0</td><td>-99.0</td><td>-99.0</td><td>1.04812787974</td><td>0.374877454545</td><td>0.550148818182</td><td>0.491026636364</td><td>2.61125636364</td><td>m4iii</td></tr>\n",
       "<tr><td>HELP_J000242.734+010613.905</td><td>0.678057308109</td><td>1.10386238356</td><td>50196449</td><td>0.8959</td><td>0.4297</td><td>1.3719</td><td>0.797</td><td>-99.0</td><td>-99.0</td><td>-99.0</td><td>-99.0</td><td>0.860917897266</td><td>0.451562888889</td><td>0.447343777778</td><td>0.454744222222</td><td>0.954897777778</td><td>m2iii</td></tr>\n",
       "<tr><td>HELP_J000243.130+011414.647</td><td>0.679709926508</td><td>1.23740206728</td><td>50196450</td><td>0.9521</td><td>0.5595</td><td>1.3578</td><td>0.735</td><td>0.4759</td><td>0.4297</td><td>0.5225</td><td>0.045</td><td>0.75270389706</td><td>0.43844</td><td>0.729763222222</td><td>0.604691444444</td><td>2.27641666667</td><td>m1iii</td></tr>\n",
       "<tr><td>HELP_J000243.609+010924.945</td><td>0.681703428084</td><td>1.1569292662</td><td>50196451</td><td>0.831</td><td>0.3226</td><td>1.3367</td><td>0.796</td><td>-99.0</td><td>-99.0</td><td>-99.0</td><td>-99.0</td><td>0.75270389706</td><td>0.0096737575</td><td>0.106355975</td><td>0.073943625</td><td>0.67710725</td><td>k1iv</td></tr>\n",
       "<tr><td>HELP_J000243.928+011342.847</td><td>0.683031823767</td><td>1.22856868598</td><td>50196452</td><td>0.5971</td><td>0.2457</td><td>0.9758</td><td>0.796</td><td>-99.0</td><td>-99.0</td><td>-99.0</td><td>-99.0</td><td>0.611693401028</td><td>0.325117666667</td><td>0.769385777778</td><td>0.420392</td><td>1.36528222222</td><td>rk1iii</td></tr>\n",
       "<tr><td>HELP_J000244.475+011316.114</td><td>0.685314317041</td><td>1.22114275951</td><td>50196453</td><td>0.6827</td><td>0.3587</td><td>1.0116</td><td>0.797</td><td>-99.0</td><td>-99.0</td><td>-99.0</td><td>-99.0</td><td>0.706082998352</td><td>0.986144</td><td>1.24820777778</td><td>1.00628877778</td><td>2.14657111111</td><td>m2iii</td></tr>\n",
       "<tr><td>HELP_J000244.607+010926.431</td><td>0.685862542007</td><td>1.15734200181</td><td>50196454</td><td>0.8195</td><td>0.6557</td><td>0.9996</td><td>0.795</td><td>-99.0</td><td>-99.0</td><td>-99.0</td><td>-99.0</td><td>0.827770293769</td><td>2.079924</td><td>2.17183</td><td>1.553938</td><td>3.806466</td><td>m4v</td></tr>\n",
       "<tr><td>HELP_J000244.917+010936.187</td><td>0.687154326186</td><td>1.1600519261</td><td>50196455</td><td>0.4301</td><td>0.2683</td><td>0.6117</td><td>0.794</td><td>-99.0</td><td>-99.0</td><td>-99.0</td><td>-99.0</td><td>0.42116086894</td><td>0.291826111111</td><td>0.305126222222</td><td>0.333149222222</td><td>1.19757777778</td><td>k4i</td></tr>\n",
       "</table>"
      ],
      "text/plain": [
       "<Table length=21613821>\n",
       "          help_id                 RA       ... chi_r_stellar  stellar_type\n",
       "          bytes27              float64     ...    float64        bytes6   \n",
       "--------------------------- -------------- ... -------------- ------------\n",
       "HELP_J000011.420-053811.645 0.047583188985 ...      5.2573925       rk4iii\n",
       "HELP_J000007.852-025803.860 0.032715924565 ...          -99.0             \n",
       "HELP_J000010.783-043823.932 0.044930924565 ...     1.35493675          m1v\n",
       "HELP_J000002.636-054016.363 0.010984924565 ...       2.122863       wk2iii\n",
       "HELP_J000011.248-004431.596 0.046864924565 ...          -99.0             \n",
       "HELP_J000007.520+020945.378 0.031334924565 ...     0.08211085          k0v\n",
       "HELP_J000011.740-065234.280 0.048914924565 ...          -99.0             \n",
       "HELP_J000003.753-044259.915 0.015636924565 ...      2.1744365       wk3iii\n",
       "HELP_J000009.306-014619.906 0.038774924565 ...     1.90867425        m0iii\n",
       "HELP_J000004.542-054216.528 0.018925924565 ...      5.0923675        m2iii\n",
       "                        ...            ... ...            ...          ...\n",
       "HELP_J000242.302+010750.734 0.676258438184 ...  1.27379222222          k3i\n",
       "HELP_J000242.504+011216.312 0.677100148995 ...        2.23259        m3iii\n",
       "HELP_J000242.579+010815.220 0.677412154551 ...  2.61125636364        m4iii\n",
       "HELP_J000242.734+010613.905 0.678057308109 ... 0.954897777778        m2iii\n",
       "HELP_J000243.130+011414.647 0.679709926508 ...  2.27641666667        m1iii\n",
       "HELP_J000243.609+010924.945 0.681703428084 ...     0.67710725         k1iv\n",
       "HELP_J000243.928+011342.847 0.683031823767 ...  1.36528222222       rk1iii\n",
       "HELP_J000244.475+011316.114 0.685314317041 ...  2.14657111111        m2iii\n",
       "HELP_J000244.607+010926.431 0.685862542007 ...       3.806466          m4v\n",
       "HELP_J000244.917+010936.187 0.687154326186 ...  1.19757777778          k4i"
      ]
     },
     "execution_count": 7,
     "metadata": {},
     "output_type": "execute_result"
    }
   ],
   "source": [
    "photoz"
   ]
  },
  {
   "cell_type": "markdown",
   "metadata": {},
   "source": [
    "## Join CIGALE and photoz tables"
   ]
  },
  {
   "cell_type": "code",
   "execution_count": 7,
   "metadata": {},
   "outputs": [],
   "source": [
    "prior=join(cigale,photoz,keys='help_id')"
   ]
  },
  {
   "cell_type": "code",
   "execution_count": 8,
   "metadata": {},
   "outputs": [
    {
     "data": {
      "text/plain": [
       "3459384"
      ]
     },
     "execution_count": 8,
     "metadata": {},
     "output_type": "execute_result"
    }
   ],
   "source": [
    "len(prior)"
   ]
  },
  {
   "cell_type": "markdown",
   "metadata": {},
   "source": [
    "## Import model/s to find f250_pred"
   ]
  },
  {
   "cell_type": "code",
   "execution_count": 9,
   "metadata": {},
   "outputs": [],
   "source": [
    "import pickle\n",
    "\n",
    "# Function used to fit the data (exponential)\n",
    "\n",
    "def func(p, x):\n",
    "    p1, p2 = p\n",
    "    return p1*np.log(x)+p2\n",
    "\n",
    "\n",
    "# fit to all data - XID+ \n",
    "c_model1a = pickle.load(open('../data/Ldust_correction/data_test_depths/cosmos_model_usingChi2.pkl', 'rb'))"
   ]
  },
  {
   "cell_type": "markdown",
   "metadata": {},
   "source": [
    "## Find Ldust/f250 ratio relationship for each model"
   ]
  },
  {
   "cell_type": "code",
   "execution_count": 10,
   "metadata": {},
   "outputs": [],
   "source": [
    "# ## NEW MODELS - XID+ ##\n",
    "#######################\n",
    "\n",
    "# Read model and apply ratio - z function to the dataset\n",
    "logLflux_ratioC = func(c_model1a.beta, prior['z1_median'])\n",
    "# Extract the flux prediction from the ratio (Ldust/f250) relationship\n",
    "Lflux_ratioC = 10**logLflux_ratioC\n",
    "f_pred = prior['bayes.dust.luminosity'] / Lflux_ratioC\n"
   ]
  },
  {
   "cell_type": "code",
   "execution_count": 11,
   "metadata": {},
   "outputs": [
    {
     "name": "stdout",
     "output_type": "stream",
     "text": [
      "len total prior list:  3459384\n",
      "len C1 cut > 0.2:  3452207\n",
      "len C1 cut > 1:  3440380\n",
      "len C1 cut > 2:  3369477\n",
      "len C1 cut > 3:  3271916\n",
      "len C1 cut > 4:  3175379\n",
      "len C1 cut > 5:  3087365\n",
      "len C1 cut > 7:  2935859\n",
      "len C1 cut > 10:  2747923\n",
      "len C1 cut > 20:  2243921\n",
      "len C1 cut > 50:  1324290\n",
      "len C1 cut > 100:  659018\n"
     ]
    }
   ],
   "source": [
    "print('len total prior list: ', len(prior))\n",
    "print('len C1 cut > 0.2: ', len(prior[f_pred > 0.2]))\n",
    "print('len C1 cut > 1: ', len(prior[f_pred > 1]))\n",
    "print('len C1 cut > 2: ', len(prior[f_pred > 2]))\n",
    "print('len C1 cut > 3: ', len(prior[f_pred > 3]))\n",
    "print('len C1 cut > 4: ', len(prior[f_pred > 4]))\n",
    "print('len C1 cut > 5: ', len(prior[f_pred > 5]))\n",
    "print('len C1 cut > 7: ', len(prior[f_pred > 7]))\n",
    "print('len C1 cut > 10: ', len(prior[f_pred > 10]))\n",
    "print('len C1 cut > 20: ', len(prior[f_pred > 20]))\n",
    "print('len C1 cut > 50: ', len(prior[f_pred > 50]))\n",
    "print('len C1 cut > 100: ', len(prior[f_pred > 100]))"
   ]
  },
  {
   "cell_type": "code",
   "execution_count": 12,
   "metadata": {},
   "outputs": [],
   "source": [
    "prior_sel = prior[['help_id', 'RA', 'DEC']]"
   ]
  },
  {
   "cell_type": "code",
   "execution_count": 13,
   "metadata": {},
   "outputs": [],
   "source": [
    "prior_sel['f250_pred'] = f_pred"
   ]
  },
  {
   "cell_type": "code",
   "execution_count": 20,
   "metadata": {},
   "outputs": [],
   "source": [
    "prior_sel.write('./data/prior_fpred.fits', format='csv')"
   ]
  },
  {
   "cell_type": "code",
   "execution_count": null,
   "metadata": {},
   "outputs": [],
   "source": []
  },
  {
   "cell_type": "code",
   "execution_count": 14,
   "metadata": {},
   "outputs": [],
   "source": [
    "prior_flux5 = prior_sel[prior_sel['f250_pred'] > 5]\n",
    "prior_flux10 = prior_sel[prior_sel['f250_pred'] > 10]\n",
    "prior_flux20 = prior_sel[prior_sel['f250_pred'] > 20]\n"
   ]
  },
  {
   "cell_type": "code",
   "execution_count": 15,
   "metadata": {},
   "outputs": [],
   "source": [
    "prior_flux5.write('./data/prior_fpred_f5.csv', format='csv')"
   ]
  },
  {
   "cell_type": "code",
   "execution_count": 16,
   "metadata": {},
   "outputs": [
    {
     "data": {
      "text/html": [
       "<i>Table length=3087365</i>\n",
       "<table id=\"table139787540099024\" class=\"table-striped table-bordered table-condensed\">\n",
       "<thead><tr><th>help_id</th><th>RA</th><th>DEC</th><th>f250_pred</th></tr></thead>\n",
       "<thead><tr><th>bytes27</th><th>float64</th><th>float64</th><th>float64</th></tr></thead>\n",
       "<tr><td>HELP_J000000.010-064910.922</td><td>4.1198736843203295e-05</td><td>-6.819700457556638</td><td>26.265092460926294</td></tr>\n",
       "<tr><td>HELP_J000000.013-054502.126</td><td>5.339160527689408e-05</td><td>-5.7505906518719</td><td>209.44689820744892</td></tr>\n",
       "<tr><td>HELP_J000000.024-061806.142</td><td>9.94133258531746e-05</td><td>-6.301706051906884</td><td>59.3631554805296</td></tr>\n",
       "<tr><td>HELP_J000000.074-062930.669</td><td>0.00030713412186005886</td><td>-6.491852466468119</td><td>110.71186357510689</td></tr>\n",
       "<tr><td>HELP_J000000.085-002724.577</td><td>0.0003541980827977469</td><td>-0.4568270336986107</td><td>6.53815768082034</td></tr>\n",
       "<tr><td>HELP_J000000.125-071319.607</td><td>0.0005220151825337324</td><td>-7.2221130282394155</td><td>149.34688247309433</td></tr>\n",
       "<tr><td>HELP_J000000.130-070023.661</td><td>0.0005423859806820877</td><td>-7.006572578194231</td><td>104.68420554178412</td></tr>\n",
       "<tr><td>HELP_J000000.134-055950.800</td><td>0.0005574665556670507</td><td>-5.99744447895593</td><td>22.02854153027873</td></tr>\n",
       "<tr><td>HELP_J000000.137-065834.931</td><td>0.0005716498495369486</td><td>-6.976369601593522</td><td>81.52817390732942</td></tr>\n",
       "<tr><td>HELP_J000000.145-061343.694</td><td>0.0006036116266410582</td><td>-6.228803786144263</td><td>36.14685978460131</td></tr>\n",
       "<tr><td>...</td><td>...</td><td>...</td><td>...</td></tr>\n",
       "<tr><td>HELP_J235959.945-031905.954</td><td>359.99976970294614</td><td>-3.318320687252261</td><td>43.644686052870284</td></tr>\n",
       "<tr><td>HELP_J235959.947-063208.521</td><td>359.99978059729955</td><td>-6.535700152271272</td><td>72.84502547533366</td></tr>\n",
       "<tr><td>HELP_J235959.949-064102.746</td><td>359.99978930028436</td><td>-6.684096195728643</td><td>100.72990206951214</td></tr>\n",
       "<tr><td>HELP_J235959.958-065327.140</td><td>359.9998269397221</td><td>-6.89087215453149</td><td>148.70447167782376</td></tr>\n",
       "<tr><td>HELP_J235959.959-015513.350</td><td>359.99982822385266</td><td>-1.9203748912727765</td><td>62.745373643424365</td></tr>\n",
       "<tr><td>HELP_J235959.963-040859.343</td><td>359.99984505551726</td><td>-4.149817597633773</td><td>91.72535591176286</td></tr>\n",
       "<tr><td>HELP_J235959.965-061854.307</td><td>359.999852176511</td><td>-6.315085368946006</td><td>251.80513207002687</td></tr>\n",
       "<tr><td>HELP_J235959.970-021458.032</td><td>359.999875016317</td><td>-2.249453407034105</td><td>29.991990287864912</td></tr>\n",
       "<tr><td>HELP_J235959.978-070540.898</td><td>359.9999092879962</td><td>-7.09469381920128</td><td>51.961142705820485</td></tr>\n",
       "<tr><td>HELP_J235959.980-072620.802</td><td>359.9999180311241</td><td>-7.439111596659952</td><td>44.55679964311605</td></tr>\n",
       "</table>"
      ],
      "text/plain": [
       "<Table length=3087365>\n",
       "          help_id                     RA           ...     f250_pred     \n",
       "          bytes27                  float64         ...      float64      \n",
       "--------------------------- ---------------------- ... ------------------\n",
       "HELP_J000000.010-064910.922 4.1198736843203295e-05 ... 26.265092460926294\n",
       "HELP_J000000.013-054502.126  5.339160527689408e-05 ... 209.44689820744892\n",
       "HELP_J000000.024-061806.142   9.94133258531746e-05 ...   59.3631554805296\n",
       "HELP_J000000.074-062930.669 0.00030713412186005886 ... 110.71186357510689\n",
       "HELP_J000000.085-002724.577  0.0003541980827977469 ...   6.53815768082034\n",
       "HELP_J000000.125-071319.607  0.0005220151825337324 ... 149.34688247309433\n",
       "HELP_J000000.130-070023.661  0.0005423859806820877 ... 104.68420554178412\n",
       "HELP_J000000.134-055950.800  0.0005574665556670507 ...  22.02854153027873\n",
       "HELP_J000000.137-065834.931  0.0005716498495369486 ...  81.52817390732942\n",
       "HELP_J000000.145-061343.694  0.0006036116266410582 ...  36.14685978460131\n",
       "                        ...                    ... ...                ...\n",
       "HELP_J235959.945-031905.954     359.99976970294614 ... 43.644686052870284\n",
       "HELP_J235959.947-063208.521     359.99978059729955 ...  72.84502547533366\n",
       "HELP_J235959.949-064102.746     359.99978930028436 ... 100.72990206951214\n",
       "HELP_J235959.958-065327.140      359.9998269397221 ... 148.70447167782376\n",
       "HELP_J235959.959-015513.350     359.99982822385266 ... 62.745373643424365\n",
       "HELP_J235959.963-040859.343     359.99984505551726 ...  91.72535591176286\n",
       "HELP_J235959.965-061854.307       359.999852176511 ... 251.80513207002687\n",
       "HELP_J235959.970-021458.032       359.999875016317 ... 29.991990287864912\n",
       "HELP_J235959.978-070540.898      359.9999092879962 ... 51.961142705820485\n",
       "HELP_J235959.980-072620.802      359.9999180311241 ...  44.55679964311605"
      ]
     },
     "execution_count": 16,
     "metadata": {},
     "output_type": "execute_result"
    }
   ],
   "source": [
    "prior_flux5"
   ]
  },
  {
   "cell_type": "markdown",
   "metadata": {},
   "source": [
    "## Read in Maps"
   ]
  },
  {
   "cell_type": "code",
   "execution_count": 23,
   "metadata": {},
   "outputs": [],
   "source": [
    "\n",
    "pswfits='../../dmu19/dmu19_HS82_ATLAS/data/Stripe82-PSWmap-mosaic_MS-20200221.fits'#SPIRE 250 map\n",
    "pmwfits='../../dmu19/dmu19_HS82_ATLAS/data/Stripe82-PMWmap-mosaic_MS-20200221.fits'#SPIRE 350 map\n",
    "plwfits='../../dmu19/dmu19_HS82_ATLAS/data/Stripe82-PLWmap-mosaic_MS-20200221.fits'#SPIRE 500 map\n",
    "\n",
    "pswfits_n='../../dmu19/dmu19_HS82_ATLAS/data/Stripe82-PSWmap-mosaic_MS-20200221-nebulised.fits'#SPIRE 250 map\n",
    "pmwfits_n='../../dmu19/dmu19_HS82_ATLAS/data/Stripe82-PMWmap-mosaic_MS-20200221-nebulised.fits'#SPIRE 350 map\n",
    "plwfits_n='../../dmu19/dmu19_HS82_ATLAS/data/Stripe82-PLWmap-mosaic_MS-20200221-nebulised.fits'#SPIRE 500 map\n",
    "\n",
    "#output folder\n",
    "output_folder='./'"
   ]
  },
  {
   "cell_type": "code",
   "execution_count": 24,
   "metadata": {},
   "outputs": [
    {
     "ename": "MemoryError",
     "evalue": "Unable to allocate 1.49 GiB for an array with shape (8671, 23033) and data type float64",
     "output_type": "error",
     "traceback": [
      "\u001b[0;31m---------------------------------------------------------------------------\u001b[0m",
      "\u001b[0;31mMemoryError\u001b[0m                               Traceback (most recent call last)",
      "\u001b[0;32m<ipython-input-24-5c6cdac1fd00>\u001b[0m in \u001b[0;36m<module>\u001b[0;34m\u001b[0m\n\u001b[1;32m     21\u001b[0m \u001b[0mim350hdu\u001b[0m\u001b[0;34m=\u001b[0m\u001b[0mneb_hdulist\u001b[0m\u001b[0;34m[\u001b[0m\u001b[0;36m0\u001b[0m\u001b[0;34m]\u001b[0m\u001b[0;34m.\u001b[0m\u001b[0mheader\u001b[0m\u001b[0;34m\u001b[0m\u001b[0;34m\u001b[0m\u001b[0m\n\u001b[1;32m     22\u001b[0m \u001b[0mim350\u001b[0m\u001b[0;34m=\u001b[0m\u001b[0mneb_hdulist\u001b[0m\u001b[0;34m[\u001b[0m\u001b[0;36m0\u001b[0m\u001b[0;34m]\u001b[0m\u001b[0;34m.\u001b[0m\u001b[0mdata\u001b[0m\u001b[0;34m*\u001b[0m\u001b[0;36m1.0E3\u001b[0m \u001b[0;31m#convert to mJy\u001b[0m\u001b[0;34m\u001b[0m\u001b[0;34m\u001b[0m\u001b[0m\n\u001b[0;32m---> 23\u001b[0;31m \u001b[0mnim350\u001b[0m \u001b[0;34m=\u001b[0m \u001b[0mhdulist\u001b[0m\u001b[0;34m[\u001b[0m\u001b[0;34m'ERROR'\u001b[0m\u001b[0;34m]\u001b[0m\u001b[0;34m.\u001b[0m\u001b[0mdata\u001b[0m\u001b[0;34m*\u001b[0m\u001b[0;36m1.0E3\u001b[0m \u001b[0;31m#convert to mJy\u001b[0m\u001b[0;34m\u001b[0m\u001b[0;34m\u001b[0m\u001b[0m\n\u001b[0m\u001b[1;32m     24\u001b[0m \u001b[0mw_350\u001b[0m \u001b[0;34m=\u001b[0m \u001b[0mwcs\u001b[0m\u001b[0;34m.\u001b[0m\u001b[0mWCS\u001b[0m\u001b[0;34m(\u001b[0m\u001b[0mneb_hdulist\u001b[0m\u001b[0;34m[\u001b[0m\u001b[0;36m0\u001b[0m\u001b[0;34m]\u001b[0m\u001b[0;34m.\u001b[0m\u001b[0mheader\u001b[0m\u001b[0;34m)\u001b[0m\u001b[0;34m\u001b[0m\u001b[0;34m\u001b[0m\u001b[0m\n\u001b[1;32m     25\u001b[0m \u001b[0mpixsize350\u001b[0m\u001b[0;34m=\u001b[0m\u001b[0;36m3600.0\u001b[0m\u001b[0;34m*\u001b[0m\u001b[0mw_350\u001b[0m\u001b[0;34m.\u001b[0m\u001b[0mwcs\u001b[0m\u001b[0;34m.\u001b[0m\u001b[0mcdelt\u001b[0m\u001b[0;34m[\u001b[0m\u001b[0;36m1\u001b[0m\u001b[0;34m]\u001b[0m \u001b[0;31m#pixel size (in arcseconds)\u001b[0m\u001b[0;34m\u001b[0m\u001b[0;34m\u001b[0m\u001b[0m\n",
      "\u001b[0;31mMemoryError\u001b[0m: Unable to allocate 1.49 GiB for an array with shape (8671, 23033) and data type float64"
     ]
    }
   ],
   "source": [
    "from astropy.io import fits\n",
    "from astropy import wcs\n",
    "\n",
    "#-----250-------------\n",
    "hdulist =fits.open(pswfits)\n",
    "neb_hdulist = fits.open(pswfits_n)\n",
    "im250phdu=hdulist[0].header\n",
    "im250hdu=neb_hdulist[0].header\n",
    "im250=neb_hdulist[0].data*1.0E3 #convert to mJy\n",
    "nim250 = hdulist['ERROR'].data*1.0E3 #convert to mJy\n",
    "w_250 = wcs.WCS(neb_hdulist[0].header)\n",
    "pixsize250=3600.0*w_250.wcs.cdelt[1] #pixel size (in arcseconds)\n",
    "hdulist.close()\n",
    "neb_hdulist.close()\n",
    "\n",
    "\n",
    "#-----350-------------\n",
    "hdulist =fits.open(pmwfits)\n",
    "neb_hdulist = fits.open(pmwfits_n)\n",
    "im350phdu=hdulist[0].header\n",
    "im350hdu=neb_hdulist[0].header\n",
    "im350=neb_hdulist[0].data*1.0E3 #convert to mJy\n",
    "nim350 = hdulist['ERROR'].data*1.0E3 #convert to mJy\n",
    "w_350 = wcs.WCS(neb_hdulist[0].header)\n",
    "pixsize350=3600.0*w_350.wcs.cdelt[1] #pixel size (in arcseconds)\n",
    "hdulist.close()\n",
    "neb_hdulist.close()\n",
    "\n",
    "\n",
    "#-----500------------\n",
    "hdulist =fits.open(plwfits)\n",
    "neb_hdulist = fits.open(plwfits_n)\n",
    "im500phdu=hdulist[0].header\n",
    "im500hdu=neb_hdulist[0].header\n",
    "im500=neb_hdulist[0].data*1.0E3 #convert to mJy\n",
    "nim500 = hdulist['ERROR'].data*1.0E3 #convert to mJy\n",
    "w_500 = wcs.WCS(neb_hdulist[0].header)\n",
    "pixsize500=3600.0*w_500.wcs.cdelt[1] #pixel size (in arcseconds)\n",
    "hdulist.close()\n",
    "neb_hdulist.close()\n"
   ]
  },
  {
   "cell_type": "code",
   "execution_count": 26,
   "metadata": {},
   "outputs": [
    {
     "data": {
      "text/plain": [
       "6.000000000000001"
      ]
     },
     "execution_count": 26,
     "metadata": {},
     "output_type": "execute_result"
    }
   ],
   "source": [
    "pixsize250"
   ]
  },
  {
   "cell_type": "code",
   "execution_count": 6,
   "metadata": {},
   "outputs": [
    {
     "name": "stdout",
     "output_type": "stream",
     "text": [
      "250 [30706, 11550]\n",
      "350 [23033, 8671]\n",
      "500 [15355, 5781]\n"
     ]
    }
   ],
   "source": [
    "# obtain wcs info of each image\n",
    "wcs_temp250 = wcs.WCS(im250hdu)\n",
    "wcs_temp350 = wcs.WCS(im350hdu)\n",
    "wcs_temp500 = wcs.WCS(im500hdu)\n",
    "\n",
    "wcs_list = [wcs_temp250, wcs_temp350, wcs_temp500]\n",
    "im = ['250', '350','500']\n",
    "pix_size = [pixsize250, pixsize350, pixsize500]\n",
    "naxis_list = []\n",
    "   \n",
    "for index, wcs_ in enumerate(wcs_list):\n",
    "    naxis = wcs_._naxis\n",
    "    naxis_list.append(naxis)\n",
    "\n",
    "coord = {'250':naxis_list[0], '350':naxis_list[1], '500':naxis_list[2]}\n",
    "for key, val in coord.items():\n",
    "    print(key, val)"
   ]
  },
  {
   "cell_type": "markdown",
   "metadata": {},
   "source": [
    "## Cutout maps"
   ]
  },
  {
   "cell_type": "code",
   "execution_count": 7,
   "metadata": {},
   "outputs": [],
   "source": [
    "def open_image_save_cutout(file, file_n, position, size, cutout_filename):\n",
    "\n",
    "    # Load the image and the WCS\n",
    "    \n",
    "    hdu = fits.open(file, mode='denywrite')\n",
    "    neb_hdu = fits.open(file_n, mode='denywrite')\n",
    "    wcs_ = wcs.WCS(hdu[1].header)\n",
    "    # Make the cutout, including the WCS\n",
    "    cutout_im  = Cutout2D(neb_hdu[0].data, position=position, size=size, wcs=wcs_)\n",
    "    cutout_err = Cutout2D(hdu['ERROR'].data, position=position, size=size, wcs=wcs_)\n",
    "    cutout_cov = Cutout2D(hdu['COVERAGE'].data, position=position, size=size, wcs=wcs_)\n",
    "\n",
    "    # Put the cutout image in the FITS HDU\n",
    "    hdu['IMAGE'].data = cutout_im.data\n",
    "    hdu['ERROR'].data = cutout_err.data\n",
    "    hdu['COVERAGE'].data = cutout_cov.data\n",
    "\n",
    "    # Update the FITS header with the cutout WCS\n",
    "    hdu['IMAGE'].header.update(cutout_im.wcs.to_header())\n",
    "    hdu['ERROR'].header.update(cutout_err.wcs.to_header())\n",
    "    hdu['COVERAGE'].header.update(cutout_cov.wcs.to_header())\n",
    "\n",
    "    # Write the cutout to a new FITS file\n",
    "    hdu.writeto(cutout_filename, overwrite=True)\n",
    "    \n",
    "    "
   ]
  },
  {
   "cell_type": "code",
   "execution_count": 8,
   "metadata": {},
   "outputs": [
    {
     "name": "stdout",
     "output_type": "stream",
     "text": [
      "250 [30706, 11550]\n",
      "350 [23033, 8671]\n",
      "500 [15355, 5781]\n"
     ]
    }
   ],
   "source": [
    "# Define centers of cutout\n",
    "centers1 = []\n",
    "centers2 = []\n",
    "centers3 = []\n",
    "centers4 = []\n",
    "sizes = []\n",
    "for key, val in coord.items():\n",
    "    print(key, val)\n",
    "    # centers (x,y)\n",
    "    c1 = (val[0]/8, val[1]/2)\n",
    "    c2 = (val[0]*3/8, val[1]/2)\n",
    "    c3 = (val[0]*5/8, val[1]/2)\n",
    "    c4 = (val[0]*7/8, val[1]/2)\n",
    "    # sizes (y,x)\n",
    "    s1 = (val[1],val[0]/4)\n",
    "    \n",
    "    # append to list\n",
    "    centers1.append(c1)\n",
    "    centers2.append(c2)\n",
    "    centers3.append(c3)\n",
    "    centers4.append(c4)\n",
    "    sizes.append(s1)\n",
    " \n",
    "\n"
   ]
  },
  {
   "cell_type": "code",
   "execution_count": 10,
   "metadata": {},
   "outputs": [
    {
     "name": "stdout",
     "output_type": "stream",
     "text": [
      "cutout  1  done.\n",
      "cutout  2  done.\n",
      "cutout  3  done.\n",
      "cutout  4  done.\n"
     ]
    }
   ],
   "source": [
    "# Save cutouts\n",
    "centers = [centers1, centers2, centers3, centers4]\n",
    "for index, center in enumerate(centers): \n",
    "    open_image_save_cutout(pswfits, pswfits_n, center[0], sizes[0], './data/HS82_PSW_cutout'+str(index+1)+'.fits' )\n",
    "    open_image_save_cutout(pmwfits, pmwfits_n, center[1], sizes[1], './data/HS82_PMW_cutout'+str(index+1)+'.fits' )\n",
    "    open_image_save_cutout(plwfits, plwfits_n, center[2], sizes[2], './data/HS82_PLW_cutout'+str(index+1)+'.fits' )\n",
    "    print('cutout ', index+1, ' done.')"
   ]
  },
  {
   "cell_type": "markdown",
   "metadata": {},
   "source": [
    "## Use cutout maps"
   ]
  },
  {
   "cell_type": "code",
   "execution_count": 3,
   "metadata": {},
   "outputs": [],
   "source": [
    "# Maps\n",
    "pswfits='./data/HS82_PSW_cutout1.fits'#SPIRE 250 map\n",
    "pmwfits='./data/HS82_PMW_cutout1.fits'#SPIRE 350 map\n",
    "plwfits='./data/HS82_PLW_cutout1.fits'#SPIRE 500 map\n",
    "\n",
    "#output folder\n",
    "output_folder='./'"
   ]
  },
  {
   "cell_type": "code",
   "execution_count": 5,
   "metadata": {},
   "outputs": [],
   "source": [
    "from astropy.io import fits\n",
    "from astropy import wcs\n",
    "#-----250-------------\n",
    "hdulist = fits.open(pswfits)\n",
    "im250phdu=hdulist[0].header\n",
    "im250hdu=hdulist['IMAGE'].header\n",
    "\n",
    "im250=hdulist['IMAGE'].data*1.0E3 #convert to mJy\n",
    "nim250=hdulist['ERROR'].data*1.0E3 #convert to mJy\n",
    "w_250 = wcs.WCS(hdulist['IMAGE'].header)\n",
    "pixsize250=3600.0*w_250.wcs.cdelt[1]#[1,1] #pixel size (in arcseconds)\n",
    "hdulist.close()\n",
    "#-----350-------------\n",
    "hdulist = fits.open(pmwfits)\n",
    "im350phdu=hdulist[0].header\n",
    "im350hdu=hdulist['IMAGE'].header\n",
    "\n",
    "im350=hdulist['IMAGE'].data*1.0E3 #convert to mJy\n",
    "nim350=hdulist['ERROR'].data*1.0E3 #convert to mJy\n",
    "w_350 = wcs.WCS(hdulist['IMAGE'].header)\n",
    "pixsize350=3600.0*w_350.wcs.cdelt[1]#[1,1] #pixel size (in arcseconds)\n",
    "hdulist.close()\n",
    "#-----500-------------\n",
    "hdulist = fits.open(plwfits)\n",
    "im500phdu=hdulist[0].header\n",
    "im500hdu=hdulist['IMAGE'].header\n",
    "\n",
    "im500=hdulist['IMAGE'].data*1.0E3 #convert to mJy\n",
    "nim500=hdulist['ERROR'].data*1.0E3 #convert to mJy\n",
    "w_500 = wcs.WCS(hdulist['IMAGE'].header)\n",
    "pixsize500=3600.0*w_500.wcs.cdelt[1]#[1,1] #pixel size (in arcseconds)\n",
    "hdulist.close()"
   ]
  },
  {
   "cell_type": "code",
   "execution_count": 6,
   "metadata": {},
   "outputs": [
    {
     "data": {
      "text/plain": [
       "6.00000000000012"
      ]
     },
     "execution_count": 6,
     "metadata": {},
     "output_type": "execute_result"
    }
   ],
   "source": [
    "pixsize250"
   ]
  },
  {
   "cell_type": "markdown",
   "metadata": {
    "jupyter": {
     "outputs_hidden": true
    }
   },
   "source": [
    "## Set XID+ prior class\n",
    "\n",
    "This has been run on Apollo, applied iteratively to each cutout"
   ]
  },
  {
   "cell_type": "code",
   "execution_count": null,
   "metadata": {},
   "outputs": [],
   "source": [
    "#---prior250--------\n",
    "prior250=xidplus.prior(im250,nim250,im250phdu,im250hdu, moc=Sel_func)#Initialise with map, uncertianty map, wcs info and primary header\n",
    "prior250.prior_cat(prior_flux20['RA'] ,prior_flux20['DEC'] ,'herschel_stripe_82_Ldust_prediction.fits',ID=prior_flux20['help_id'] )#Set input catalogue\n",
    "prior250.prior_bkg(-5.0,5)#Set prior on background (assumes Gaussian pdf with mu and sigma)\n",
    "#---prior350--------\n",
    "prior350=xidplus.prior(im350,nim350,im350phdu,im350hdu, moc=Sel_func)\n",
    "prior350.prior_cat(prior_flux20['RA'] ,prior_flux20['DEC'] ,'herschel_stripe_82_Ldust_prediction.fits',ID=prior_flux20['help_id'] )\n",
    "prior350.prior_bkg(-5.0,5)\n",
    "\n",
    "#---prior500--------\n",
    "prior500=xidplus.prior(im500,nim500,im500phdu,im500hdu, moc=Sel_func)\n",
    "prior500.prior_cat(prior_flux20['RA'] ,prior_flux20['DEC'] ,'herschel_stripe_82_Ldust_prediction.fits',ID=prior_flux20['help_id'] )\n",
    "prior500.prior_bkg(-5.0,5)"
   ]
  },
  {
   "cell_type": "code",
   "execution_count": 17,
   "metadata": {},
   "outputs": [],
   "source": [
    "#pixsize array (size of pixels in arcseconds)\n",
    "pixsize=np.array([pixsize250,pixsize350,pixsize500])\n",
    "#point response function for the three bands\n",
    "prfsize=np.array([18.15,25.15,36.3])\n",
    "#use Gaussian2DKernel to create prf (requires stddev rather than fwhm hence pfwhm/2.355)\n",
    "from astropy.convolution import Gaussian2DKernel\n",
    "\n",
    "##---------fit using Gaussian beam-----------------------\n",
    "prf250=Gaussian2DKernel(prfsize[0]/2.355,x_size=101,y_size=101)\n",
    "prf250.normalize(mode='peak')\n",
    "prf350=Gaussian2DKernel(prfsize[1]/2.355,x_size=101,y_size=101)\n",
    "prf350.normalize(mode='peak')\n",
    "prf500=Gaussian2DKernel(prfsize[2]/2.355,x_size=101,y_size=101)\n",
    "prf500.normalize(mode='peak')\n",
    "\n",
    "pind250=np.arange(0,101,1)*1.0/pixsize[0] #get 250 scale in terms of pixel scale of map\n",
    "pind350=np.arange(0,101,1)*1.0/pixsize[1] #get 350 scale in terms of pixel scale of map\n",
    "pind500=np.arange(0,101,1)*1.0/pixsize[2] #get 500 scale in terms of pixel scale of map\n",
    "\n",
    "prior250.set_prf(prf250.array,pind250,pind250)#requires psf as 2d grid, and x and y bins for grid (in pixel scale)\n",
    "prior350.set_prf(prf350.array,pind350,pind350)\n",
    "prior500.set_prf(prf500.array,pind500,pind500)"
   ]
  },
  {
   "cell_type": "code",
   "execution_count": 2,
   "metadata": {},
   "outputs": [],
   "source": [
    "import numpy as np\n",
    "pixsize=np.array([6.0,8.0,12.0])\n",
    "#point response function for the three bands\n",
    "prfsize=np.array([18.15,25.15,36.3])\n",
    "#use Gaussian2DKernel to create prf (requires stddev rather than fwhm hence pfwhm/2.355)\n",
    "from astropy.convolution import Gaussian2DKernel\n",
    "\n",
    "##---------fit using Gaussian beam-----------------------\n",
    "prf250=Gaussian2DKernel(prfsize[0]/2.355,x_size=101,y_size=101)\n",
    "prf250.normalize(mode='peak')\n",
    "prf350=Gaussian2DKernel(prfsize[1]/2.355,x_size=101,y_size=101)\n",
    "prf350.normalize(mode='peak')\n",
    "prf500=Gaussian2DKernel(prfsize[2]/2.355,x_size=101,y_size=101)\n",
    "prf500.normalize(mode='peak')\n",
    "\n",
    "pind250=np.arange(0,101,1)*1.0/pixsize[0] #get 250 scale in terms of pixel scale of map\n",
    "pind350=np.arange(0,101,1)*1.0/pixsize[1] #get 350 scale in terms of pixel scale of map\n",
    "pind500=np.arange(0,101,1)*1.0/pixsize[2] #get 500 scale in terms of pixel scale of map\n",
    "\n",
    "prior250.set_prf(prf250.array,pind250,pind250)#requires psf as 2d grid, and x and y bins for grid (in pixel scale)\n",
    "prior350.set_prf(prf350.array,pind350,pind350)\n",
    "prior500.set_prf(prf500.array,pind500,pind500)"
   ]
  },
  {
   "cell_type": "code",
   "execution_count": 12,
   "metadata": {},
   "outputs": [
    {
     "data": {
      "text/plain": [
       "array([  0.,   1.,   2.,   3.,   4.,   5.,   6.,   7.,   8.,   9.,  10.,\n",
       "        11.,  12.,  13.,  14.,  15.,  16.,  17.,  18.,  19.,  20.,  21.,\n",
       "        22.,  23.,  24.,  25.,  26.,  27.,  28.,  29.,  30.,  31.,  32.,\n",
       "        33.,  34.,  35.,  36.,  37.,  38.,  39.,  40.,  41.,  42.,  43.,\n",
       "        44.,  45.,  46.,  47.,  48.,  49.,  50.,  51.,  52.,  53.,  54.,\n",
       "        55.,  56.,  57.,  58.,  59.,  60.,  61.,  62.,  63.,  64.,  65.,\n",
       "        66.,  67.,  68.,  69.,  70.,  71.,  72.,  73.,  74.,  75.,  76.,\n",
       "        77.,  78.,  79.,  80.,  81.,  82.,  83.,  84.,  85.,  86.,  87.,\n",
       "        88.,  89.,  90.,  91.,  92.,  93.,  94.,  95.,  96.,  97.,  98.,\n",
       "        99., 100.])"
      ]
     },
     "execution_count": 12,
     "metadata": {},
     "output_type": "execute_result"
    }
   ],
   "source": [
    "np.arange(0,101,1)*1.0"
   ]
  },
  {
   "cell_type": "code",
   "execution_count": 11,
   "metadata": {},
   "outputs": [
    {
     "data": {
      "text/plain": [
       "array([0.        , 0.08333333, 0.16666667, 0.25      , 0.33333333,\n",
       "       0.41666667, 0.5       , 0.58333333, 0.66666667, 0.75      ,\n",
       "       0.83333333, 0.91666667, 1.        , 1.08333333, 1.16666667,\n",
       "       1.25      , 1.33333333, 1.41666667, 1.5       , 1.58333333,\n",
       "       1.66666667, 1.75      , 1.83333333, 1.91666667, 2.        ,\n",
       "       2.08333333, 2.16666667, 2.25      , 2.33333333, 2.41666667,\n",
       "       2.5       , 2.58333333, 2.66666667, 2.75      , 2.83333333,\n",
       "       2.91666667, 3.        , 3.08333333, 3.16666667, 3.25      ,\n",
       "       3.33333333, 3.41666667, 3.5       , 3.58333333, 3.66666667,\n",
       "       3.75      , 3.83333333, 3.91666667, 4.        , 4.08333333,\n",
       "       4.16666667, 4.25      , 4.33333333, 4.41666667, 4.5       ,\n",
       "       4.58333333, 4.66666667, 4.75      , 4.83333333, 4.91666667,\n",
       "       5.        , 5.08333333, 5.16666667, 5.25      , 5.33333333,\n",
       "       5.41666667, 5.5       , 5.58333333, 5.66666667, 5.75      ,\n",
       "       5.83333333, 5.91666667, 6.        , 6.08333333, 6.16666667,\n",
       "       6.25      , 6.33333333, 6.41666667, 6.5       , 6.58333333,\n",
       "       6.66666667, 6.75      , 6.83333333, 6.91666667, 7.        ,\n",
       "       7.08333333, 7.16666667, 7.25      , 7.33333333, 7.41666667,\n",
       "       7.5       , 7.58333333, 7.66666667, 7.75      , 7.83333333,\n",
       "       7.91666667, 8.        , 8.08333333, 8.16666667, 8.25      ,\n",
       "       8.33333333])"
      ]
     },
     "execution_count": 11,
     "metadata": {},
     "output_type": "execute_result"
    }
   ],
   "source": [
    "pind500"
   ]
  },
  {
   "cell_type": "code",
   "execution_count": 5,
   "metadata": {},
   "outputs": [
    {
     "data": {
      "text/plain": [
       "<matplotlib.image.AxesImage at 0x7f1db5faf898>"
      ]
     },
     "execution_count": 5,
     "metadata": {},
     "output_type": "execute_result"
    },
    {
     "data": {
      "image/png": "[encoded data removed]",
      "text/plain": [
       "<Figure size 432x288 with 1 Axes>"
      ]
     },
     "metadata": {
      "needs_background": "light"
     },
     "output_type": "display_data"
    }
   ],
   "source": [
    "import matplotlib.pyplot as plt\n",
    "plt.imshow(prf250)"
   ]
  },
  {
   "cell_type": "code",
   "execution_count": 27,
   "metadata": {},
   "outputs": [],
   "source": [
    "import pickle\n",
    "#from moc, get healpix pixels at a given order\n",
    "from xidplus import moc_routines\n",
    "order=9\n",
    "tiles=moc_routines.get_HEALPix_pixels(order,prior250.sra,prior250.sdec,unique=True)\n",
    "order_large=6\n",
    "tiles_large=moc_routines.get_HEALPix_pixels(order_large,prior250.sra,prior250.sdec,unique=True)\n",
    "print('----- There are '+str(len(tiles))+' tiles required for input catalogue and '+str(len(tiles_large))+' large tiles')\n",
    "output_folder='./data/'\n",
    "outfile=output_folder+'Master_prior.pkl'\n",
    "xidplus.io.pickle_dump({'priors':[prior250,prior350,prior500],'tiles':tiles,'order':order,'version':xidplus.io.git_version()},outfile)\n",
    "outfile=output_folder+'Tiles.pkl'\n",
    "with open(outfile, 'wb') as f:\n",
    "    pickle.dump({'tiles':tiles,'order':order,'tiles_large':tiles_large,'order_large':order_large,'version':xidplus.io.git_version()},f)\n",
    "raise SystemExit()"
   ]
  }
 ],
 "metadata": {
  "kernelspec": {
   "display_name": "Python (base)",
   "language": "python",
   "name": "python3"
  },
  "language_info": {
   "codemirror_mode": {
    "name": "ipython",
    "version": 3
   },
   "file_extension": ".py",
   "mimetype": "text/x-python",
   "name": "python",
   "nbconvert_exporter": "python",
   "pygments_lexer": "ipython3",
   "version": "3.6.7"
  }
 },
 "nbformat": 4,
 "nbformat_minor": 4
}
