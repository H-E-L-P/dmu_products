{
 "cells": [
  {
   "cell_type": "code",
   "execution_count": 1,
   "metadata": {},
   "outputs": [],
   "source": [
    "import pylab as plt\n",
    "import pymoc\n",
    "import xidplus\n",
    "import numpy as np\n",
    "%matplotlib inline\n",
    "from astropy.table import Table, join\n",
    "\n",
    "import seaborn as sns\n",
    "\n",
    "from herschelhelp_internal.masterlist import merge_catalogues, nb_merge_dist_plot, specz_merge\n",
    "from herschelhelp_internal.utils import coords_to_hpidx, ebv, gen_help_id, inMoc"
   ]
  },
  {
   "cell_type": "markdown",
   "metadata": {},
   "source": [
    "This notebook uses all the raw data from the CIGALE predictions and photoz catalogue, maps, PSF and relevant MOCs to create XID+ prior object and relevant tiling scheme"
   ]
  },
  {
   "cell_type": "markdown",
   "metadata": {},
   "source": [
    "## Read in MOCs\n",
    "The selection functions required are the main MOC associated with the masterlist. "
   ]
  },
  {
   "cell_type": "code",
   "execution_count": 2,
   "metadata": {},
   "outputs": [],
   "source": [
    "spies_moc = pymoc.MOC()\n",
    "spies_moc.read('../../dmu0/dmu0_SpIES/data/Int_holes_Herschel-Stripe-82_irac_i1_O16_20180423Uni_SpIES_ch1andch2_HELP-coverage_MOCshela_irac_v1.3_flux_cat_MOC.fits')\n",
    "\n",
    "\n",
    "Sel_func=pymoc.MOC()\n",
    "Sel_func.read('../../dmu4/dmu4_sm_Herschel-Stripe-82/data/holes_Herschel-Stripe-82_irac_i1_O16_20180423.fits')\n",
    "\n",
    "Final = Sel_func.intersection(spies_moc)\n",
    "\n",
    "Final.write('./data/testMoc.fits', overwrite=True)"
   ]
  },
  {
   "cell_type": "code",
   "execution_count": 2,
   "metadata": {},
   "outputs": [],
   "source": [
    "Final=pymoc.MOC()\n",
    "Final.read('./data/testMoc.fits')"
   ]
  },
  {
   "cell_type": "markdown",
   "metadata": {},
   "source": [
    "## Read in masterlist catalogue"
   ]
  },
  {
   "cell_type": "code",
   "execution_count": 3,
   "metadata": {},
   "outputs": [],
   "source": [
    "flag_5=Table.read('../../dmu1/dmu1_ml_Herschel-Stripe-82/data/master_herschel-stripe-82_flag_opt_nir5_2020310.fits')\n"
   ]
  },
  {
   "cell_type": "code",
   "execution_count": 4,
   "metadata": {},
   "outputs": [],
   "source": [
    "good = inMoc(flag_5['ra'],flag_5['dec'],Final)"
   ]
  },
  {
   "cell_type": "code",
   "execution_count": 9,
   "metadata": {},
   "outputs": [
    {
     "data": {
      "text/html": [
       "<i>Table length=3917403</i>\n",
       "<table id=\"table140514991167528\" class=\"table-striped table-bordered table-condensed\">\n",
       "<thead><tr><th>ra</th><th>dec</th><th>help_id</th><th>f_irac_i1</th><th>ferr_irac_i1</th><th>f_irac_i2</th><th>ferr_irac_i2</th><th>flag_optnir_det</th></tr></thead>\n",
       "<thead><tr><th>deg</th><th>deg</th><th></th><th></th><th></th><th></th><th></th><th></th></tr></thead>\n",
       "<thead><tr><th>float64</th><th>float64</th><th>bytes27</th><th>float64</th><th>float64</th><th>float64</th><th>float64</th><th>int64</th></tr></thead>\n",
       "<tr><td>0.007540972779270765</td><td>0.3694032741676629</td><td>HELP_J000001.810+002209.852</td><td>30.80837360131247</td><td>8.536253456684241</td><td>22.654781300959208</td><td>8.470910246037025</td><td>6</td></tr>\n",
       "<tr><td>0.00698120070617847</td><td>-0.3693473292226484</td><td>HELP_J000001.675-002209.650</td><td>63.900460801111535</td><td>3.336289004784528</td><td>57.77647325626383</td><td>4.317703621284579</td><td>6</td></tr>\n",
       "<tr><td>0.005920930216326146</td><td>0.8277094841054147</td><td>HELP_J000001.421+004939.754</td><td>71.42381483070862</td><td>4.088549511715205</td><td>50.37355809355533</td><td>3.6157026368127885</td><td>6</td></tr>\n",
       "<tr><td>0.05071234420844917</td><td>0.3425732351708978</td><td>HELP_J000012.171+002033.264</td><td>27.935768948590145</td><td>2.182618817188596</td><td>29.147353688467554</td><td>2.6880605952310566</td><td>5</td></tr>\n",
       "<tr><td>0.035775677515772486</td><td>0.18234710859215017</td><td>HELP_J000008.586+001056.450</td><td>122.91065246434175</td><td>5.071151777036509</td><td>123.98433208427454</td><td>5.5712727815600935</td><td>5</td></tr>\n",
       "<tr><td>0.0039016761719612436</td><td>-0.2196113198992692</td><td>HELP_J000000.936-001310.601</td><td>-4.534804261508181</td><td>5.848417062592018</td><td>14.206640910441884</td><td>2.334650947394617</td><td>6</td></tr>\n",
       "<tr><td>0.007357141435392123</td><td>0.8897120166233953</td><td>HELP_J000001.766+005322.963</td><td>293.39453479414715</td><td>3.768783311425264</td><td>335.1028412167026</td><td>3.2726699977126668</td><td>5</td></tr>\n",
       "<tr><td>0.041524539085770584</td><td>0.29495399265767425</td><td>HELP_J000009.966+001741.834</td><td>53.87498517347393</td><td>6.117883257863702</td><td>33.724542145620255</td><td>5.27919348445364</td><td>5</td></tr>\n",
       "<tr><td>0.030762818308375017</td><td>0.8819520824535847</td><td>HELP_J000007.383+005255.027</td><td>57.73317175142469</td><td>2.7061405470745337</td><td>46.763192240117675</td><td>2.7130206425630625</td><td>5</td></tr>\n",
       "<tr><td>...</td><td>...</td><td>...</td><td>...</td><td>...</td><td>...</td><td>...</td><td>...</td></tr>\n",
       "<tr><td>0.6664447672050543</td><td>0.7569432856233587</td><td>HELP_J000239.947+004524.996</td><td>23.661058674072393</td><td>2.150655108528917</td><td>15.556402519504669</td><td>3.384867023130322</td><td>5</td></tr>\n",
       "<tr><td>0.6675453908883655</td><td>0.758415561112602</td><td>HELP_J000240.211+004530.296</td><td>9.693665437031715</td><td>1.5256298418149619</td><td>10.666598645637997</td><td>2.1082227254542887</td><td>5</td></tr>\n",
       "<tr><td>0.6687309546653382</td><td>0.8212278376900464</td><td>HELP_J000240.495+004916.420</td><td>16.32640228960804</td><td>2.5697256258852854</td><td>7.868201069131182</td><td>2.9055432808552784</td><td>5</td></tr>\n",
       "<tr><td>0.6711466575115137</td><td>0.731847106811326</td><td>HELP_J000241.075+004354.650</td><td>4.3628787877254425</td><td>1.2196949459033823</td><td>2.6140592837440564</td><td>1.2600057791724544</td><td>5</td></tr>\n",
       "<tr><td>0.6738862659257965</td><td>0.6819214459241005</td><td>HELP_J000241.733+004054.917</td><td>6.19027885232245</td><td>1.284176770360209</td><td>7.990066743199121</td><td>2.2342695901261767</td><td>5</td></tr>\n",
       "<tr><td>0.6753332697065758</td><td>0.8304079534369615</td><td>HELP_J000242.080+004949.469</td><td>13.783305354233574</td><td>2.5249915138376138</td><td>9.762072494282833</td><td>3.0188627380076927</td><td>5</td></tr>\n",
       "<tr><td>0.678184609450064</td><td>0.752463980722647</td><td>HELP_J000242.764+004508.870</td><td>13.646091794243162</td><td>3.308747692290312</td><td>13.033978905544624</td><td>1.7658243069367145</td><td>5</td></tr>\n",
       "<tr><td>0.6816798288407757</td><td>0.696764989082761</td><td>HELP_J000243.603+004148.354</td><td>2.730293381649189</td><td>1.3114570815411302</td><td>8.661923967299202</td><td>2.766470685423696</td><td>5</td></tr>\n",
       "<tr><td>0.682272173532174</td><td>0.7056605851592554</td><td>HELP_J000243.745+004220.378</td><td>30.179990884446273</td><td>2.909772763006567</td><td>39.25209190696081</td><td>3.458749812281816</td><td>7</td></tr>\n",
       "<tr><td>0.683802142942523</td><td>0.7229160730627073</td><td>HELP_J000244.113+004322.498</td><td>32.68492766259074</td><td>1.8759978786945828</td><td>43.48926035779464</td><td>3.4975169551747185</td><td>7</td></tr>\n",
       "</table>"
      ],
      "text/plain": [
       "<Table length=3917403>\n",
       "          ra                  dec         ...    ferr_irac_i2    flag_optnir_det\n",
       "         deg                  deg         ...                                   \n",
       "       float64              float64       ...      float64            int64     \n",
       "--------------------- ------------------- ... ------------------ ---------------\n",
       " 0.007540972779270765  0.3694032741676629 ...  8.470910246037025               6\n",
       "  0.00698120070617847 -0.3693473292226484 ...  4.317703621284579               6\n",
       " 0.005920930216326146  0.8277094841054147 ... 3.6157026368127885               6\n",
       "  0.05071234420844917  0.3425732351708978 ... 2.6880605952310566               5\n",
       " 0.035775677515772486 0.18234710859215017 ... 5.5712727815600935               5\n",
       "0.0039016761719612436 -0.2196113198992692 ...  2.334650947394617               6\n",
       " 0.007357141435392123  0.8897120166233953 ... 3.2726699977126668               5\n",
       " 0.041524539085770584 0.29495399265767425 ...   5.27919348445364               5\n",
       " 0.030762818308375017  0.8819520824535847 ... 2.7130206425630625               5\n",
       "                  ...                 ... ...                ...             ...\n",
       "   0.6664447672050543  0.7569432856233587 ...  3.384867023130322               5\n",
       "   0.6675453908883655   0.758415561112602 ... 2.1082227254542887               5\n",
       "   0.6687309546653382  0.8212278376900464 ... 2.9055432808552784               5\n",
       "   0.6711466575115137   0.731847106811326 ... 1.2600057791724544               5\n",
       "   0.6738862659257965  0.6819214459241005 ... 2.2342695901261767               5\n",
       "   0.6753332697065758  0.8304079534369615 ... 3.0188627380076927               5\n",
       "    0.678184609450064   0.752463980722647 ... 1.7658243069367145               5\n",
       "   0.6816798288407757   0.696764989082761 ...  2.766470685423696               5\n",
       "    0.682272173532174  0.7056605851592554 ...  3.458749812281816               7\n",
       "    0.683802142942523  0.7229160730627073 ... 3.4975169551747185               7"
      ]
     },
     "execution_count": 9,
     "metadata": {},
     "output_type": "execute_result"
    }
   ],
   "source": [
    "flag_5[good]"
   ]
  },
  {
   "cell_type": "markdown",
   "metadata": {},
   "source": [
    "### Check number sources per beam\n"
   ]
  },
  {
   "cell_type": "code",
   "execution_count": 11,
   "metadata": {},
   "outputs": [
    {
     "data": {
      "text/plain": [
       "9.91"
      ]
     },
     "execution_count": 11,
     "metadata": {},
     "output_type": "execute_result"
    }
   ],
   "source": [
    "round(np.sqrt(Final.area_sq_deg), 2)"
   ]
  },
  {
   "cell_type": "code",
   "execution_count": 49,
   "metadata": {},
   "outputs": [],
   "source": [
    "# n_prior = len(flag_5[good])#[flag_5[good]['f_irac_i1']>20])\n",
    "# area = Final.area_sq_deg * 3600**2 # arcsec^2\n",
    "fwhm = [18.15,25.15,36.3]"
   ]
  },
  {
   "cell_type": "code",
   "execution_count": 30,
   "metadata": {},
   "outputs": [
    {
     "name": "stdout",
     "output_type": "stream",
     "text": [
      "# priors for different f_irac cuts: \n",
      " ALL  3917403 \n",
      " f_irac_1 > 5  3316671 \n",
      " f_irac_1 > 10  2496451 \n",
      " f_irac_1 > 20  1615256\n"
     ]
    }
   ],
   "source": [
    "print('# priors for different f_irac cuts: \\n' ,\n",
    "      'ALL ', str(n_prior), '\\n' ,     \n",
    "      'f_irac_1 > 5 ', str(n_prior5), '\\n',\n",
    "      'f_irac_1 > 10 ', str(n_prior10), '\\n',\n",
    "      'f_irac_1 > 20 ', str(n_prior20))"
   ]
  },
  {
   "cell_type": "code",
   "execution_count": 53,
   "metadata": {},
   "outputs": [
    {
     "name": "stdout",
     "output_type": "stream",
     "text": [
      " ------------------  Density -------------------------------------------------------\n",
      " -----------------------------------------------------------------------------------\n",
      "FWHM     ALL   |  f_irac1 > 5| f_irac1 > 10| f_irac1 > 20\n",
      " -----------------------------------------------------------------------------------\n",
      "18.15  :  1.148   | 0.972   | 0.732   | 0.474\n",
      "25.15  :  2.205   | 1.867   | 1.405   | 0.909\n",
      "36.3  :  4.594   | 3.889   | 2.927   | 1.894\n"
     ]
    }
   ],
   "source": [
    "print(' ------------------  Density -------------------------------------------------------')\n",
    "print(' -----------------------------------------------------------------------------------')\n",
    "print('FWHM  ', '  ALL   |', ' f_irac1 > 5|', 'f_irac1 > 10|', 'f_irac1 > 20')\n",
    "print(' -----------------------------------------------------------------------------------')\n",
    "for i in fwhm:\n",
    "    density = [x / area * (np.pi/(4*np.log(2)) * i**2) for x in [n_prior, n_prior5, n_prior10, n_prior20]]\n",
    "    print(str(i), ' : ', str(round(density[0],3)),'  |', str(round(density[1],3)),'  |',str(round(density[2],3)),'  |', str(round(density[3],3)))"
   ]
  },
  {
   "cell_type": "code",
   "execution_count": 54,
   "metadata": {},
   "outputs": [
    {
     "data": {
      "text/plain": [
       "36.4"
      ]
     },
     "execution_count": 54,
     "metadata": {},
     "output_type": "execute_result"
    }
   ],
   "source": [
    "(14 * 22100) / 8500"
   ]
  },
  {
   "cell_type": "code",
   "execution_count": 5,
   "metadata": {},
   "outputs": [],
   "source": [
    "\n",
    "pswfits='../../dmu19/dmu19_HS82_ATLAS/data/Stripe82-PSWmap-mosaic_MS-20200221.fits'#SPIRE 250 map\n",
    "pmwfits='../../dmu19/dmu19_HS82_ATLAS/data/Stripe82-PMWmap-mosaic_MS-20200221.fits'#SPIRE 350 map\n",
    "plwfits='../../dmu19/dmu19_HS82_ATLAS/data/Stripe82-PLWmap-mosaic_MS-20200221.fits'#SPIRE 500 map\n",
    "\n",
    "pswfits_n='../../dmu19/dmu19_HS82_ATLAS/data/Stripe82-PSWmap-mosaic_MS-20200221-nebulised.fits'#SPIRE 250 map\n",
    "pmwfits_n='../../dmu19/dmu19_HS82_ATLAS/data/Stripe82-PMWmap-mosaic_MS-20200221-nebulised.fits'#SPIRE 350 map\n",
    "plwfits_n='../../dmu19/dmu19_HS82_ATLAS/data/Stripe82-PLWmap-mosaic_MS-20200221-nebulised.fits'#SPIRE 500 map\n",
    "\n",
    "#output folder\n",
    "output_folder='./'"
   ]
  },
  {
   "cell_type": "code",
   "execution_count": 6,
   "metadata": {},
   "outputs": [],
   "source": [
    "from astropy.io import fits\n",
    "from astropy import wcs\n",
    "\n",
    "#-----250-------------\n",
    "hdulist =fits.open(pswfits)\n",
    "neb_hdulist = fits.open(pswfits_n)\n",
    "im250phdu=hdulist[0].header\n",
    "im250hdu=neb_hdulist[0].header\n",
    "im250=neb_hdulist[0].data*1.0E3 #convert to mJy\n",
    "nim250 = hdulist['ERROR'].data*1.0E3 #convert to mJy\n",
    "w_250 = wcs.WCS(neb_hdulist[0].header)\n",
    "pixsize250=3600.0*w_250.wcs.cdelt[1] #pixel size (in arcseconds)\n",
    "hdulist.close()\n",
    "neb_hdulist.close()\n",
    "\n",
    "\n",
    "#-----350-------------\n",
    "hdulist =fits.open(pmwfits)\n",
    "neb_hdulist = fits.open(pmwfits_n)\n",
    "im350phdu=hdulist[0].header\n",
    "im350hdu=neb_hdulist[0].header\n",
    "im350=neb_hdulist[0].data*1.0E3 #convert to mJy\n",
    "nim350 = hdulist['ERROR'].data*1.0E3 #convert to mJy\n",
    "w_350 = wcs.WCS(neb_hdulist[0].header)\n",
    "pixsize350=3600.0*w_350.wcs.cdelt[1] #pixel size (in arcseconds)\n",
    "hdulist.close()\n",
    "neb_hdulist.close()\n",
    "\n",
    "\n",
    "#-----500------------\n",
    "hdulist =fits.open(plwfits)\n",
    "neb_hdulist = fits.open(plwfits_n)\n",
    "im500phdu=hdulist[0].header\n",
    "im500hdu=neb_hdulist[0].header\n",
    "im500=neb_hdulist[0].data*1.0E3 #convert to mJy\n",
    "nim500 = hdulist['ERROR'].data*1.0E3 #convert to mJy\n",
    "w_500 = wcs.WCS(neb_hdulist[0].header)\n",
    "pixsize500=3600.0*w_500.wcs.cdelt[1] #pixel size (in arcseconds)\n",
    "hdulist.close()\n",
    "neb_hdulist.close()\n"
   ]
  },
  {
   "cell_type": "code",
   "execution_count": 7,
   "metadata": {},
   "outputs": [
    {
     "data": {
      "text/plain": [
       "6.000000000000001"
      ]
     },
     "execution_count": 7,
     "metadata": {},
     "output_type": "execute_result"
    }
   ],
   "source": [
    "pixsize250"
   ]
  },
  {
   "cell_type": "code",
   "execution_count": 8,
   "metadata": {},
   "outputs": [
    {
     "name": "stdout",
     "output_type": "stream",
     "text": [
      "250 [30706, 11550]\n",
      "350 [23033, 8671]\n",
      "500 [15355, 5781]\n"
     ]
    }
   ],
   "source": [
    "# obtain wcs info of each image\n",
    "wcs_temp250 = wcs.WCS(im250hdu)\n",
    "wcs_temp350 = wcs.WCS(im350hdu)\n",
    "wcs_temp500 = wcs.WCS(im500hdu)\n",
    "\n",
    "wcs_list = [wcs_temp250, wcs_temp350, wcs_temp500]\n",
    "im = ['250', '350','500']\n",
    "pix_size = [pixsize250, pixsize350, pixsize500]\n",
    "naxis_list = []\n",
    "   \n",
    "for index, wcs_ in enumerate(wcs_list):\n",
    "    naxis = wcs_._naxis\n",
    "    naxis_list.append(naxis)\n",
    "\n",
    "coord = {'250':naxis_list[0], '350':naxis_list[1], '500':naxis_list[2]}\n",
    "for key, val in coord.items():\n",
    "    print(key, val)"
   ]
  },
  {
   "cell_type": "markdown",
   "metadata": {
    "jupyter": {
     "outputs_hidden": true
    }
   },
   "source": [
    "## Set XID+ prior class\n",
    "\n",
    "This has been run on Apollo, applied iteratively to each cutout"
   ]
  },
  {
   "cell_type": "code",
   "execution_count": 10,
   "metadata": {},
   "outputs": [
    {
     "ename": "MemoryError",
     "evalue": "Unable to allocate 2.64 GiB for an array with shape (11550, 30706) and data type int64",
     "output_type": "error",
     "traceback": [
      "\u001b[0;31m---------------------------------------------------------------------------\u001b[0m",
      "\u001b[0;31mMemoryError\u001b[0m                               Traceback (most recent call last)",
      "\u001b[0;32m<ipython-input-10-af6c55864fd1>\u001b[0m in \u001b[0;36m<module>\u001b[0;34m\u001b[0m\n\u001b[1;32m      1\u001b[0m \u001b[0;31m#---prior250--------\u001b[0m\u001b[0;34m\u001b[0m\u001b[0;34m\u001b[0m\u001b[0;34m\u001b[0m\u001b[0m\n\u001b[0;32m----> 2\u001b[0;31m \u001b[0mprior250\u001b[0m\u001b[0;34m=\u001b[0m\u001b[0mxidplus\u001b[0m\u001b[0;34m.\u001b[0m\u001b[0mprior\u001b[0m\u001b[0;34m(\u001b[0m\u001b[0mim250\u001b[0m\u001b[0;34m,\u001b[0m\u001b[0mnim250\u001b[0m\u001b[0;34m,\u001b[0m\u001b[0mim250phdu\u001b[0m\u001b[0;34m,\u001b[0m\u001b[0mim250hdu\u001b[0m\u001b[0;34m,\u001b[0m \u001b[0mmoc\u001b[0m\u001b[0;34m=\u001b[0m\u001b[0mFinal\u001b[0m\u001b[0;34m)\u001b[0m\u001b[0;31m#Initialise with map, uncertianty map, wcs info and primary header\u001b[0m\u001b[0;34m\u001b[0m\u001b[0;34m\u001b[0m\u001b[0m\n\u001b[0m\u001b[1;32m      3\u001b[0m \u001b[0mprior250\u001b[0m\u001b[0;34m.\u001b[0m\u001b[0mprior_cat\u001b[0m\u001b[0;34m(\u001b[0m\u001b[0mflag_5\u001b[0m\u001b[0;34m[\u001b[0m\u001b[0mgood\u001b[0m\u001b[0;34m]\u001b[0m\u001b[0;34m[\u001b[0m\u001b[0;34m'RA'\u001b[0m\u001b[0;34m]\u001b[0m\u001b[0;34m,\u001b[0m \u001b[0mflag_5\u001b[0m\u001b[0;34m[\u001b[0m\u001b[0mgood\u001b[0m\u001b[0;34m]\u001b[0m\u001b[0;34m[\u001b[0m\u001b[0;34m'DEC'\u001b[0m\u001b[0;34m]\u001b[0m\u001b[0;34m,\u001b[0m \u001b[0;34m'master_herschel-stripe-82_flag_opt_nir5_2020310.fits'\u001b[0m\u001b[0;34m,\u001b[0m\u001b[0mID\u001b[0m\u001b[0;34m=\u001b[0m\u001b[0mflag_5\u001b[0m\u001b[0;34m[\u001b[0m\u001b[0mgood\u001b[0m\u001b[0;34m]\u001b[0m\u001b[0;34m[\u001b[0m\u001b[0;34m'help_id'\u001b[0m\u001b[0;34m]\u001b[0m \u001b[0;34m)\u001b[0m\u001b[0;31m#Set input catalogue\u001b[0m\u001b[0;34m\u001b[0m\u001b[0;34m\u001b[0m\u001b[0m\n\u001b[1;32m      4\u001b[0m \u001b[0mprior250\u001b[0m\u001b[0;34m.\u001b[0m\u001b[0mprior_bkg\u001b[0m\u001b[0;34m(\u001b[0m\u001b[0;34m-\u001b[0m\u001b[0;36m5.0\u001b[0m\u001b[0;34m,\u001b[0m\u001b[0;36m5\u001b[0m\u001b[0;34m)\u001b[0m\u001b[0;31m#Set prior on background (assumes Gaussian pdf with mu and sigma)\u001b[0m\u001b[0;34m\u001b[0m\u001b[0;34m\u001b[0m\u001b[0m\n\u001b[1;32m      5\u001b[0m \u001b[0;31m#---prior350--------\u001b[0m\u001b[0;34m\u001b[0m\u001b[0;34m\u001b[0m\u001b[0;34m\u001b[0m\u001b[0m\n",
      "\u001b[0;32m~/Documents/git_hub/XID_plus/xidplus/prior.py\u001b[0m in \u001b[0;36m__init__\u001b[0;34m(self, im, nim, imphdu, imhdu, moc)\u001b[0m\n\u001b[1;32m     71\u001b[0m         \u001b[0mself\u001b[0m\u001b[0;34m.\u001b[0m\u001b[0mimhdu\u001b[0m \u001b[0;34m=\u001b[0m \u001b[0mimhdu\u001b[0m\u001b[0;34m\u001b[0m\u001b[0;34m\u001b[0m\u001b[0m\n\u001b[1;32m     72\u001b[0m \u001b[0;34m\u001b[0m\u001b[0m\n\u001b[0;32m---> 73\u001b[0;31m         \u001b[0mx_pix\u001b[0m\u001b[0;34m,\u001b[0m \u001b[0my_pix\u001b[0m \u001b[0;34m=\u001b[0m \u001b[0mnp\u001b[0m\u001b[0;34m.\u001b[0m\u001b[0mmeshgrid\u001b[0m\u001b[0;34m(\u001b[0m\u001b[0mnp\u001b[0m\u001b[0;34m.\u001b[0m\u001b[0marange\u001b[0m\u001b[0;34m(\u001b[0m\u001b[0;36m0\u001b[0m\u001b[0;34m,\u001b[0m \u001b[0mwcs_temp\u001b[0m\u001b[0;34m.\u001b[0m\u001b[0m_naxis\u001b[0m\u001b[0;34m[\u001b[0m\u001b[0;36m0\u001b[0m\u001b[0;34m]\u001b[0m\u001b[0;34m)\u001b[0m\u001b[0;34m,\u001b[0m \u001b[0mnp\u001b[0m\u001b[0;34m.\u001b[0m\u001b[0marange\u001b[0m\u001b[0;34m(\u001b[0m\u001b[0;36m0\u001b[0m\u001b[0;34m,\u001b[0m \u001b[0mwcs_temp\u001b[0m\u001b[0;34m.\u001b[0m\u001b[0m_naxis\u001b[0m\u001b[0;34m[\u001b[0m\u001b[0;36m1\u001b[0m\u001b[0;34m]\u001b[0m\u001b[0;34m)\u001b[0m\u001b[0;34m)\u001b[0m\u001b[0;34m\u001b[0m\u001b[0;34m\u001b[0m\u001b[0m\n\u001b[0m\u001b[1;32m     74\u001b[0m         \u001b[0mself\u001b[0m\u001b[0;34m.\u001b[0m\u001b[0msx_pix\u001b[0m \u001b[0;34m=\u001b[0m \u001b[0mx_pix\u001b[0m\u001b[0;34m.\u001b[0m\u001b[0mflatten\u001b[0m\u001b[0;34m(\u001b[0m\u001b[0;34m)\u001b[0m\u001b[0;34m\u001b[0m\u001b[0;34m\u001b[0m\u001b[0m\n\u001b[1;32m     75\u001b[0m         \u001b[0mself\u001b[0m\u001b[0;34m.\u001b[0m\u001b[0msy_pix\u001b[0m \u001b[0;34m=\u001b[0m \u001b[0my_pix\u001b[0m\u001b[0;34m.\u001b[0m\u001b[0mflatten\u001b[0m\u001b[0;34m(\u001b[0m\u001b[0;34m)\u001b[0m\u001b[0;34m\u001b[0m\u001b[0;34m\u001b[0m\u001b[0m\n",
      "\u001b[0;32m<__array_function__ internals>\u001b[0m in \u001b[0;36mmeshgrid\u001b[0;34m(*args, **kwargs)\u001b[0m\n",
      "\u001b[0;32m~/anaconda3/lib/python3.6/site-packages/numpy/lib/function_base.py\u001b[0m in \u001b[0;36mmeshgrid\u001b[0;34m(*xi, **kwargs)\u001b[0m\n\u001b[1;32m   4207\u001b[0m \u001b[0;34m\u001b[0m\u001b[0m\n\u001b[1;32m   4208\u001b[0m     \u001b[0;32mif\u001b[0m \u001b[0mcopy_\u001b[0m\u001b[0;34m:\u001b[0m\u001b[0;34m\u001b[0m\u001b[0;34m\u001b[0m\u001b[0m\n\u001b[0;32m-> 4209\u001b[0;31m         \u001b[0moutput\u001b[0m \u001b[0;34m=\u001b[0m \u001b[0;34m[\u001b[0m\u001b[0mx\u001b[0m\u001b[0;34m.\u001b[0m\u001b[0mcopy\u001b[0m\u001b[0;34m(\u001b[0m\u001b[0;34m)\u001b[0m \u001b[0;32mfor\u001b[0m \u001b[0mx\u001b[0m \u001b[0;32min\u001b[0m \u001b[0moutput\u001b[0m\u001b[0;34m]\u001b[0m\u001b[0;34m\u001b[0m\u001b[0;34m\u001b[0m\u001b[0m\n\u001b[0m\u001b[1;32m   4210\u001b[0m \u001b[0;34m\u001b[0m\u001b[0m\n\u001b[1;32m   4211\u001b[0m     \u001b[0;32mreturn\u001b[0m \u001b[0moutput\u001b[0m\u001b[0;34m\u001b[0m\u001b[0;34m\u001b[0m\u001b[0m\n",
      "\u001b[0;32m~/anaconda3/lib/python3.6/site-packages/numpy/lib/function_base.py\u001b[0m in \u001b[0;36m<listcomp>\u001b[0;34m(.0)\u001b[0m\n\u001b[1;32m   4207\u001b[0m \u001b[0;34m\u001b[0m\u001b[0m\n\u001b[1;32m   4208\u001b[0m     \u001b[0;32mif\u001b[0m \u001b[0mcopy_\u001b[0m\u001b[0;34m:\u001b[0m\u001b[0;34m\u001b[0m\u001b[0;34m\u001b[0m\u001b[0m\n\u001b[0;32m-> 4209\u001b[0;31m         \u001b[0moutput\u001b[0m \u001b[0;34m=\u001b[0m \u001b[0;34m[\u001b[0m\u001b[0mx\u001b[0m\u001b[0;34m.\u001b[0m\u001b[0mcopy\u001b[0m\u001b[0;34m(\u001b[0m\u001b[0;34m)\u001b[0m \u001b[0;32mfor\u001b[0m \u001b[0mx\u001b[0m \u001b[0;32min\u001b[0m \u001b[0moutput\u001b[0m\u001b[0;34m]\u001b[0m\u001b[0;34m\u001b[0m\u001b[0;34m\u001b[0m\u001b[0m\n\u001b[0m\u001b[1;32m   4210\u001b[0m \u001b[0;34m\u001b[0m\u001b[0m\n\u001b[1;32m   4211\u001b[0m     \u001b[0;32mreturn\u001b[0m \u001b[0moutput\u001b[0m\u001b[0;34m\u001b[0m\u001b[0;34m\u001b[0m\u001b[0m\n",
      "\u001b[0;31mMemoryError\u001b[0m: Unable to allocate 2.64 GiB for an array with shape (11550, 30706) and data type int64"
     ]
    }
   ],
   "source": [
    "#---prior250--------\n",
    "prior250=xidplus.prior(im250,nim250,im250phdu,im250hdu, moc=Final)#Initialise with map, uncertianty map, wcs info and primary header\n",
    "prior250.prior_cat(flag_5[good]['RA'], flag_5[good]['DEC'], 'master_herschel-stripe-82_flag_opt_nir5_2020310.fits',ID=flag_5[good]['help_id'] )#Set input catalogue\n",
    "prior250.prior_bkg(-5.0,5)#Set prior on background (assumes Gaussian pdf with mu and sigma)\n",
    "#---prior350--------\n",
    "prior350=xidplus.prior(im350,nim350,im350phdu,im350hdu, moc=Final)\n",
    "prior350.prior_cat(flag_5[good]['RA'], flag_5[good]['DEC'], 'master_herschel-stripe-82_flag_opt_nir5_2020310.fits',ID=flag_5[good]['help_id'] )\n",
    "prior350.prior_bkg(-5.0,5)\n",
    "\n",
    "#---prior500--------\n",
    "prior500=xidplus.prior(im500,nim500,im500phdu,im500hdu, moc=Final)\n",
    "prior500.prior_cat(flag_5[good]['RA'], flag_5[good]['DEC'], 'master_herschel-stripe-82_flag_opt_nir5_2020310.fits',ID=flag_5[good]['help_id'] )\n",
    "prior500.prior_bkg(-5.0,5)"
   ]
  },
  {
   "cell_type": "code",
   "execution_count": 17,
   "metadata": {},
   "outputs": [],
   "source": [
    "#pixsize array (size of pixels in arcseconds)\n",
    "pixsize=np.array([pixsize250,pixsize350,pixsize500])\n",
    "#point response function for the three bands\n",
    "prfsize=np.array([18.15,25.15,36.3])\n",
    "#use Gaussian2DKernel to create prf (requires stddev rather than fwhm hence pfwhm/2.355)\n",
    "from astropy.convolution import Gaussian2DKernel\n",
    "\n",
    "##---------fit using Gaussian beam-----------------------\n",
    "prf250=Gaussian2DKernel(prfsize[0]/2.355,x_size=101,y_size=101)\n",
    "prf250.normalize(mode='peak')\n",
    "prf350=Gaussian2DKernel(prfsize[1]/2.355,x_size=101,y_size=101)\n",
    "prf350.normalize(mode='peak')\n",
    "prf500=Gaussian2DKernel(prfsize[2]/2.355,x_size=101,y_size=101)\n",
    "prf500.normalize(mode='peak')\n",
    "\n",
    "pind250=np.arange(0,101,1)*1.0/pixsize[0] #get 250 scale in terms of pixel scale of map\n",
    "pind350=np.arange(0,101,1)*1.0/pixsize[1] #get 350 scale in terms of pixel scale of map\n",
    "pind500=np.arange(0,101,1)*1.0/pixsize[2] #get 500 scale in terms of pixel scale of map\n",
    "\n",
    "prior250.set_prf(prf250.array,pind250,pind250)#requires psf as 2d grid, and x and y bins for grid (in pixel scale)\n",
    "prior350.set_prf(prf350.array,pind350,pind350)\n",
    "prior500.set_prf(prf500.array,pind500,pind500)"
   ]
  },
  {
   "cell_type": "code",
   "execution_count": 2,
   "metadata": {},
   "outputs": [],
   "source": [
    "import numpy as np\n",
    "pixsize=np.array([6.0,8.0,12.0])\n",
    "#point response function for the three bands\n",
    "prfsize=np.array([18.15,25.15,36.3])\n",
    "#use Gaussian2DKernel to create prf (requires stddev rather than fwhm hence pfwhm/2.355)\n",
    "from astropy.convolution import Gaussian2DKernel\n",
    "\n",
    "##---------fit using Gaussian beam-----------------------\n",
    "prf250=Gaussian2DKernel(prfsize[0]/2.355,x_size=101,y_size=101)\n",
    "prf250.normalize(mode='peak')\n",
    "prf350=Gaussian2DKernel(prfsize[1]/2.355,x_size=101,y_size=101)\n",
    "prf350.normalize(mode='peak')\n",
    "prf500=Gaussian2DKernel(prfsize[2]/2.355,x_size=101,y_size=101)\n",
    "prf500.normalize(mode='peak')\n",
    "\n",
    "pind250=np.arange(0,101,1)*1.0/pixsize[0] #get 250 scale in terms of pixel scale of map\n",
    "pind350=np.arange(0,101,1)*1.0/pixsize[1] #get 350 scale in terms of pixel scale of map\n",
    "pind500=np.arange(0,101,1)*1.0/pixsize[2] #get 500 scale in terms of pixel scale of map\n",
    "\n",
    "prior250.set_prf(prf250.array,pind250,pind250)#requires psf as 2d grid, and x and y bins for grid (in pixel scale)\n",
    "prior350.set_prf(prf350.array,pind350,pind350)\n",
    "prior500.set_prf(prf500.array,pind500,pind500)"
   ]
  },
  {
   "cell_type": "code",
   "execution_count": 12,
   "metadata": {},
   "outputs": [
    {
     "data": {
      "text/plain": [
       "array([  0.,   1.,   2.,   3.,   4.,   5.,   6.,   7.,   8.,   9.,  10.,\n",
       "        11.,  12.,  13.,  14.,  15.,  16.,  17.,  18.,  19.,  20.,  21.,\n",
       "        22.,  23.,  24.,  25.,  26.,  27.,  28.,  29.,  30.,  31.,  32.,\n",
       "        33.,  34.,  35.,  36.,  37.,  38.,  39.,  40.,  41.,  42.,  43.,\n",
       "        44.,  45.,  46.,  47.,  48.,  49.,  50.,  51.,  52.,  53.,  54.,\n",
       "        55.,  56.,  57.,  58.,  59.,  60.,  61.,  62.,  63.,  64.,  65.,\n",
       "        66.,  67.,  68.,  69.,  70.,  71.,  72.,  73.,  74.,  75.,  76.,\n",
       "        77.,  78.,  79.,  80.,  81.,  82.,  83.,  84.,  85.,  86.,  87.,\n",
       "        88.,  89.,  90.,  91.,  92.,  93.,  94.,  95.,  96.,  97.,  98.,\n",
       "        99., 100.])"
      ]
     },
     "execution_count": 12,
     "metadata": {},
     "output_type": "execute_result"
    }
   ],
   "source": [
    "np.arange(0,101,1)*1.0"
   ]
  },
  {
   "cell_type": "code",
   "execution_count": 11,
   "metadata": {},
   "outputs": [
    {
     "data": {
      "text/plain": [
       "array([0.        , 0.08333333, 0.16666667, 0.25      , 0.33333333,\n",
       "       0.41666667, 0.5       , 0.58333333, 0.66666667, 0.75      ,\n",
       "       0.83333333, 0.91666667, 1.        , 1.08333333, 1.16666667,\n",
       "       1.25      , 1.33333333, 1.41666667, 1.5       , 1.58333333,\n",
       "       1.66666667, 1.75      , 1.83333333, 1.91666667, 2.        ,\n",
       "       2.08333333, 2.16666667, 2.25      , 2.33333333, 2.41666667,\n",
       "       2.5       , 2.58333333, 2.66666667, 2.75      , 2.83333333,\n",
       "       2.91666667, 3.        , 3.08333333, 3.16666667, 3.25      ,\n",
       "       3.33333333, 3.41666667, 3.5       , 3.58333333, 3.66666667,\n",
       "       3.75      , 3.83333333, 3.91666667, 4.        , 4.08333333,\n",
       "       4.16666667, 4.25      , 4.33333333, 4.41666667, 4.5       ,\n",
       "       4.58333333, 4.66666667, 4.75      , 4.83333333, 4.91666667,\n",
       "       5.        , 5.08333333, 5.16666667, 5.25      , 5.33333333,\n",
       "       5.41666667, 5.5       , 5.58333333, 5.66666667, 5.75      ,\n",
       "       5.83333333, 5.91666667, 6.        , 6.08333333, 6.16666667,\n",
       "       6.25      , 6.33333333, 6.41666667, 6.5       , 6.58333333,\n",
       "       6.66666667, 6.75      , 6.83333333, 6.91666667, 7.        ,\n",
       "       7.08333333, 7.16666667, 7.25      , 7.33333333, 7.41666667,\n",
       "       7.5       , 7.58333333, 7.66666667, 7.75      , 7.83333333,\n",
       "       7.91666667, 8.        , 8.08333333, 8.16666667, 8.25      ,\n",
       "       8.33333333])"
      ]
     },
     "execution_count": 11,
     "metadata": {},
     "output_type": "execute_result"
    }
   ],
   "source": [
    "pind500"
   ]
  },
  {
   "cell_type": "code",
   "execution_count": 5,
   "metadata": {},
   "outputs": [
    {
     "data": {
      "text/plain": [
       "<matplotlib.image.AxesImage at 0x7f1db5faf898>"
      ]
     },
     "execution_count": 5,
     "metadata": {},
     "output_type": "execute_result"
    },
    {
     "data": {
      "image/png": "[encoded data removed]",
      "text/plain": [
       "<Figure size 432x288 with 1 Axes>"
      ]
     },
     "metadata": {
      "needs_background": "light"
     },
     "output_type": "display_data"
    }
   ],
   "source": [
    "import matplotlib.pyplot as plt\n",
    "plt.imshow(prf250)"
   ]
  },
  {
   "cell_type": "code",
   "execution_count": 27,
   "metadata": {},
   "outputs": [],
   "source": [
    "import pickle\n",
    "#from moc, get healpix pixels at a given order\n",
    "from xidplus import moc_routines\n",
    "order=9\n",
    "tiles=moc_routines.get_HEALPix_pixels(order,prior250.sra,prior250.sdec,unique=True)\n",
    "order_large=6\n",
    "tiles_large=moc_routines.get_HEALPix_pixels(order_large,prior250.sra,prior250.sdec,unique=True)\n",
    "print('----- There are '+str(len(tiles))+' tiles required for input catalogue and '+str(len(tiles_large))+' large tiles')\n",
    "output_folder='./data/'\n",
    "outfile=output_folder+'Master_prior.pkl'\n",
    "xidplus.io.pickle_dump({'priors':[prior250,prior350,prior500],'tiles':tiles,'order':order,'version':xidplus.io.git_version()},outfile)\n",
    "outfile=output_folder+'Tiles.pkl'\n",
    "with open(outfile, 'wb') as f:\n",
    "    pickle.dump({'tiles':tiles,'order':order,'tiles_large':tiles_large,'order_large':order_large,'version':xidplus.io.git_version()},f)\n",
    "raise SystemExit()"
   ]
  }
 ],
 "metadata": {
  "kernelspec": {
   "display_name": "Python (base)",
   "language": "python",
   "name": "python3"
  },
  "language_info": {
   "codemirror_mode": {
    "name": "ipython",
    "version": 3
   },
   "file_extension": ".py",
   "mimetype": "text/x-python",
   "name": "python",
   "nbconvert_exporter": "python",
   "pygments_lexer": "ipython3",
   "version": "3.6.7"
  }
 },
 "nbformat": 4,
 "nbformat_minor": 4
}
