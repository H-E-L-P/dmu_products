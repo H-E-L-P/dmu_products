{
 "cells": [
  {
   "cell_type": "code",
   "execution_count": 5,
   "metadata": {
    "collapsed": true
   },
   "outputs": [],
   "source": [
    "import pylab\n",
    "import pymoc\n",
    "import xidplus\n",
    "import numpy as np\n",
    "%matplotlib inline\n",
    "from astropy.io import fits\n",
    "from astropy import wcs\n",
    "from astropy.table import Table\n",
    "import seaborn as sns"
   ]
  },
  {
   "cell_type": "markdown",
   "metadata": {},
   "source": [
    "## Read tables"
   ]
  },
  {
   "cell_type": "code",
   "execution_count": 6,
   "metadata": {},
   "outputs": [],
   "source": [
    "SWIRE_cat=Table.read('./data/dmu26_XID+MIPS_xFLS_cat.fits')"
   ]
  },
  {
   "cell_type": "code",
   "execution_count": 7,
   "metadata": {},
   "outputs": [
    {
     "data": {
      "text/html": [
       "<i>Table length=10</i>\n",
       "<table id=\"table140059823747368\" class=\"table-striped table-bordered table-condensed\">\n",
       "<thead><tr><th>help_id</th><th>RA</th><th>Dec</th><th>F_MIPS_24</th><th>FErr_MIPS_24_u</th><th>FErr_MIPS_24_l</th><th>Bkg_MIPS_24</th><th>Sig_conf_MIPS_24</th><th>Rhat_MIPS_24</th><th>n_eff_MIPS_24</th><th>Pval_res_24</th></tr></thead>\n",
       "<thead><tr><th></th><th>degrees</th><th>degrees</th><th>muJy</th><th>muJy</th><th>muJy</th><th>MJy / sr</th><th>MJy / sr</th><th></th><th></th><th></th></tr></thead>\n",
       "<thead><tr><th>bytes27</th><th>float64</th><th>float64</th><th>float32</th><th>float32</th><th>float32</th><th>float32</th><th>float32</th><th>float32</th><th>float32</th><th>float32</th></tr></thead>\n",
       "<tr><td>HELP_J172157.292+582747.401</td><td>260.48871547709</td><td>58.4631669127439</td><td>36.047565</td><td>50.33046</td><td>22.906105</td><td>-0.006020973</td><td>4.9903842e-06</td><td>1.000451</td><td>2000.0</td><td>1.0</td></tr>\n",
       "<tr><td>HELP_J172149.959+582648.312</td><td>260.45816376109</td><td>58.4467533677439</td><td>9.310755</td><td>18.464592</td><td>2.7519283</td><td>-0.006020973</td><td>4.9903842e-06</td><td>nan</td><td>2000.0</td><td>1.0</td></tr>\n",
       "<tr><td>HELP_J172156.521+582733.179</td><td>260.48550221309</td><td>58.4592162607439</td><td>83.74838</td><td>96.388016</td><td>70.7704</td><td>-0.006020973</td><td>4.9903842e-06</td><td>nan</td><td>2000.0</td><td>1.0</td></tr>\n",
       "<tr><td>HELP_J172150.002+582652.059</td><td>260.45834254009</td><td>58.4477941787439</td><td>3.4517977</td><td>8.208153</td><td>0.8952491</td><td>-0.006020973</td><td>4.9903842e-06</td><td>nan</td><td>2000.0</td><td>1.0</td></tr>\n",
       "<tr><td>HELP_J172158.112+582657.669</td><td>260.49213396009</td><td>58.4493524757439</td><td>41.592514</td><td>55.158154</td><td>28.037321</td><td>-0.006020973</td><td>4.9903842e-06</td><td>nan</td><td>2000.0</td><td>1.0</td></tr>\n",
       "<tr><td>HELP_J172154.937+582622.555</td><td>260.47890287109</td><td>58.4395985157439</td><td>236.1334</td><td>250.01031</td><td>221.65387</td><td>-0.006020973</td><td>4.9903842e-06</td><td>nan</td><td>2000.0</td><td>1.0</td></tr>\n",
       "<tr><td>HELP_J172152.074+582702.845</td><td>260.46697353308997</td><td>58.4507903867439</td><td>3.3220572</td><td>8.644255</td><td>0.922599</td><td>-0.006020973</td><td>4.9903842e-06</td><td>nan</td><td>2000.0</td><td>1.0</td></tr>\n",
       "<tr><td>HELP_J172153.735+582618.703</td><td>260.47389745309</td><td>58.4385287057439</td><td>70.92072</td><td>85.27206</td><td>56.804512</td><td>-0.006020973</td><td>4.9903842e-06</td><td>1.0009941</td><td>2000.0</td><td>1.0</td></tr>\n",
       "<tr><td>HELP_J172154.582+582658.374</td><td>260.47742300008997</td><td>58.4495484467439</td><td>19.3271</td><td>32.967743</td><td>7.3597827</td><td>-0.006020973</td><td>4.9903842e-06</td><td>1.0046115</td><td>2000.0</td><td>1.0</td></tr>\n",
       "<tr><td>HELP_J172138.960+582706.132</td><td>260.41233390709</td><td>58.4517033537439</td><td>3.3813016</td><td>8.502518</td><td>0.97529036</td><td>-0.0012401526</td><td>4.8903657e-06</td><td>nan</td><td>2000.0</td><td>1.0</td></tr>\n",
       "</table>"
      ],
      "text/plain": [
       "<Table length=10>\n",
       "          help_id                   RA         ... n_eff_MIPS_24 Pval_res_24\n",
       "                                 degrees       ...                          \n",
       "          bytes27                float64       ...    float32      float32  \n",
       "--------------------------- ------------------ ... ------------- -----------\n",
       "HELP_J172157.292+582747.401    260.48871547709 ...        2000.0         1.0\n",
       "HELP_J172149.959+582648.312    260.45816376109 ...        2000.0         1.0\n",
       "HELP_J172156.521+582733.179    260.48550221309 ...        2000.0         1.0\n",
       "HELP_J172150.002+582652.059    260.45834254009 ...        2000.0         1.0\n",
       "HELP_J172158.112+582657.669    260.49213396009 ...        2000.0         1.0\n",
       "HELP_J172154.937+582622.555    260.47890287109 ...        2000.0         1.0\n",
       "HELP_J172152.074+582702.845 260.46697353308997 ...        2000.0         1.0\n",
       "HELP_J172153.735+582618.703    260.47389745309 ...        2000.0         1.0\n",
       "HELP_J172154.582+582658.374 260.47742300008997 ...        2000.0         1.0\n",
       "HELP_J172138.960+582706.132    260.41233390709 ...        2000.0         1.0"
      ]
     },
     "execution_count": 7,
     "metadata": {},
     "output_type": "execute_result"
    }
   ],
   "source": [
    "SWIRE_cat[0:10]"
   ]
  },
  {
   "cell_type": "markdown",
   "metadata": {},
   "source": [
    "## Look at Symmetry of PDFs to determine depth level of catalogue"
   ]
  },
  {
   "cell_type": "code",
   "execution_count": 8,
   "metadata": {},
   "outputs": [
    {
     "name": "stdout",
     "output_type": "stream",
     "text": [
      "4.997848\n"
     ]
    },
    {
     "data": {
      "image/png": "[encoded data removed]",
      "text/plain": [
       "<Figure size 432x432 with 3 Axes>"
      ]
     },
     "metadata": {
      "needs_background": "light"
     },
     "output_type": "display_data"
    }
   ],
   "source": [
    "skew=(SWIRE_cat['FErr_MIPS_24_u']-SWIRE_cat['F_MIPS_24'])/(SWIRE_cat['F_MIPS_24']-SWIRE_cat['FErr_MIPS_24_l'])\n",
    "skew.name='(84th-50th)/(50th-16th) percentile'\n",
    "use = skew < 5\n",
    "g=sns.jointplot(x=np.log10(SWIRE_cat['F_MIPS_24'][use]),y=skew[use], kind='hex')\n",
    "print(np.max(skew[use]))\n"
   ]
  },
  {
   "cell_type": "markdown",
   "metadata": {},
   "source": [
    "Both seem to have flux pdfs that become Gaussian at ~20$\\mathrm{\\mu Jy}$ "
   ]
  },
  {
   "cell_type": "markdown",
   "metadata": {},
   "source": [
    "## Add flag to catalogue"
   ]
  },
  {
   "cell_type": "code",
   "execution_count": 9,
   "metadata": {
    "collapsed": true
   },
   "outputs": [],
   "source": [
    "from astropy.table import Column\n",
    "SWIRE_cat.add_column(Column(np.zeros(len(SWIRE_cat), dtype=bool),name='flag_mips_24'))\n"
   ]
  },
  {
   "cell_type": "code",
   "execution_count": null,
   "metadata": {
    "collapsed": true
   },
   "outputs": [],
   "source": []
  },
  {
   "cell_type": "code",
   "execution_count": 10,
   "metadata": {
    "collapsed": true
   },
   "outputs": [],
   "source": [
    "ind_SWIRE=(SWIRE_cat['Pval_res_24']>0.5) | (SWIRE_cat['F_MIPS_24'] < 20.0)"
   ]
  },
  {
   "cell_type": "code",
   "execution_count": 11,
   "metadata": {
    "collapsed": true
   },
   "outputs": [],
   "source": [
    "SWIRE_cat['flag_mips_24'][ind_SWIRE]=True\n"
   ]
  },
  {
   "cell_type": "code",
   "execution_count": 12,
   "metadata": {},
   "outputs": [
    {
     "name": "stderr",
     "output_type": "stream",
     "text": [
      "WARNING: UnitsWarning: 'degrees' did not parse as fits unit: At col 0, Unit 'degrees' not supported by the FITS standard.  [astropy.units.core]\n",
      "WARNING: UnitsWarning: 'muJy' did not parse as fits unit: At col 0, Unit 'muJy' not supported by the FITS standard. Did you mean MJy, mJy or uJy? [astropy.units.core]\n"
     ]
    }
   ],
   "source": [
    "SWIRE_cat.write('./data/dmu26_XID+MIPS_xFLS_cat_20190122.fits', format='fits',overwrite=True)"
   ]
  },
  {
   "cell_type": "code",
   "execution_count": null,
   "metadata": {
    "collapsed": true
   },
   "outputs": [],
   "source": []
  }
 ],
 "metadata": {
  "kernelspec": {
   "display_name": "Python (herschelhelp_internal)",
   "language": "python",
   "name": "helpint"
  },
  "language_info": {
   "codemirror_mode": {
    "name": "ipython",
    "version": 3
   },
   "file_extension": ".py",
   "mimetype": "text/x-python",
   "name": "python",
   "nbconvert_exporter": "python",
   "pygments_lexer": "ipython3",
   "version": "3.6.6"
  }
 },
 "nbformat": 4,
 "nbformat_minor": 2
}
