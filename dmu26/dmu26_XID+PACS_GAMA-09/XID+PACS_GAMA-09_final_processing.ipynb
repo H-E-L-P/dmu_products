{
 "cells": [
  {
   "cell_type": "markdown",
   "metadata": {},
   "source": [
    "# XID+PACS ELAIS-S1 Final Processing\n",
    "The final processing stage requires:\n",
    "1. Quick validation of catalogues and Bayesian Pvalue maps\n",
    "2. Skewness level\n",
    "3. Adding flag to catalogue"
   ]
  },
  {
   "cell_type": "code",
   "execution_count": 1,
   "metadata": {
    "collapsed": true
   },
   "outputs": [],
   "source": [
    "import seaborn as sns\n",
    "from astropy.table import Table\n",
    "%matplotlib inline\n",
    "import numpy as np\n",
    "import pylab as plt"
   ]
  },
  {
   "cell_type": "markdown",
   "metadata": {},
   "source": [
    "## Read tables"
   ]
  },
  {
   "cell_type": "code",
   "execution_count": 2,
   "metadata": {
    "collapsed": true
   },
   "outputs": [],
   "source": [
    "cat=Table.read('./data/dmu26_XID+PACS_ELAIS-S1_20180313.fits')\n"
   ]
  },
  {
   "cell_type": "code",
   "execution_count": 3,
   "metadata": {},
   "outputs": [
    {
     "data": {
      "text/html": [
       "&lt;Table length=10&gt;\n",
       "<table id=\"table4377413896\" class=\"table-striped table-bordered table-condensed\">\n",
       "<thead><tr><th>help_id</th><th>RA</th><th>Dec</th><th>F_PACS_100</th><th>FErr_PACS_100_u</th><th>FErr_PACS_100_l</th><th>F_PACS_160</th><th>FErr_PACS_160_u</th><th>FErr_PACS_160_l</th><th>Bkg_PACS_100</th><th>Bkg_PACS_160</th><th>Sig_conf_PACS_100</th><th>Sig_conf_PACS_160</th><th>Rhat_PACS_100</th><th>Rhat_PACS_160</th><th>n_eff_PACS_100</th><th>n_eff_PACS_160</th><th>Pval_res_100</th><th>Pval_res_160</th></tr></thead>\n",
       "<thead><tr><th></th><th>degrees</th><th>degrees</th><th>mJy</th><th>mJy</th><th>mJy</th><th>mJy</th><th>mJy</th><th>mJy</th><th>mJy/Beam</th><th>mJy/Beam</th><th>mJy/Beam</th><th>mJy/Beam</th><th></th><th></th><th></th><th></th><th></th><th></th></tr></thead>\n",
       "<thead><tr><th>str27</th><th>float64</th><th>float64</th><th>float32</th><th>float32</th><th>float32</th><th>float32</th><th>float32</th><th>float32</th><th>float32</th><th>float32</th><th>float32</th><th>float32</th><th>float32</th><th>float32</th><th>float32</th><th>float32</th><th>float32</th><th>float32</th></tr></thead>\n",
       "<tr><td>HELP_J003311.854-452559.212</td><td>8.2993897334</td><td>-45.4331144811</td><td>16.5375</td><td>37.641</td><td>4.9669</td><td>35.7054</td><td>78.6511</td><td>10.9955</td><td>6.1366</td><td>2.97714</td><td>0.30545</td><td>0.24376</td><td>0.999529</td><td>1.00004</td><td>2000.0</td><td>2000.0</td><td>0.0</td><td>0.0</td></tr>\n",
       "<tr><td>HELP_J003311.199-452603.296</td><td>8.2966614384</td><td>-45.4342490173</td><td>19.7787</td><td>45.1303</td><td>5.36146</td><td>64.5017</td><td>113.157</td><td>23.7768</td><td>6.1366</td><td>2.97714</td><td>0.30545</td><td>0.24376</td><td>1.00011</td><td>1.00013</td><td>2000.0</td><td>2000.0</td><td>0.0</td><td>0.0</td></tr>\n",
       "<tr><td>HELP_J003315.424-452615.143</td><td>8.31426712989</td><td>-45.4375397927</td><td>37.0218</td><td>67.9627</td><td>13.084</td><td>57.083</td><td>104.619</td><td>21.5648</td><td>6.1366</td><td>2.97714</td><td>0.30545</td><td>0.24376</td><td>0.999639</td><td>1.0003</td><td>2000.0</td><td>2000.0</td><td>0.0</td><td>0.0</td></tr>\n",
       "<tr><td>HELP_J003314.599-452546.572</td><td>8.31082943334</td><td>-45.4296033101</td><td>20.7089</td><td>43.2105</td><td>6.12599</td><td>41.4091</td><td>81.1052</td><td>11.4299</td><td>6.1366</td><td>2.97714</td><td>0.30545</td><td>0.24376</td><td>0.999339</td><td>0.998972</td><td>2000.0</td><td>2000.0</td><td>0.0</td><td>0.0</td></tr>\n",
       "<tr><td>HELP_J003306.225-452506.589</td><td>8.27593562562</td><td>-45.4184968362</td><td>24.6044</td><td>50.3357</td><td>7.5248</td><td>30.641</td><td>68.9784</td><td>8.07923</td><td>6.1366</td><td>2.97714</td><td>0.30545</td><td>0.24376</td><td>0.998942</td><td>0.998576</td><td>2000.0</td><td>2000.0</td><td>0.0</td><td>0.0</td></tr>\n",
       "<tr><td>HELP_J003304.883-452634.388</td><td>8.27034568672</td><td>-45.4428854649</td><td>51.5526</td><td>84.8748</td><td>22.6136</td><td>66.464</td><td>127.866</td><td>20.3079</td><td>6.1366</td><td>2.97714</td><td>0.30545</td><td>0.24376</td><td>0.999517</td><td>0.99981</td><td>2000.0</td><td>2000.0</td><td>0.0</td><td>0.0</td></tr>\n",
       "<tr><td>HELP_J003304.125-452627.612</td><td>8.26718894541</td><td>-45.4410033252</td><td>20.8498</td><td>46.3817</td><td>6.79294</td><td>87.9617</td><td>141.257</td><td>42.6801</td><td>6.1366</td><td>2.97714</td><td>0.30545</td><td>0.24376</td><td>0.999107</td><td>1.00148</td><td>2000.0</td><td>2000.0</td><td>0.0</td><td>0.0</td></tr>\n",
       "<tr><td>HELP_J003310.155-452508.483</td><td>8.29231242172</td><td>-45.4190229197</td><td>32.2101</td><td>60.2823</td><td>11.4265</td><td>35.6171</td><td>75.4184</td><td>10.267</td><td>6.1366</td><td>2.97714</td><td>0.30545</td><td>0.24376</td><td>0.99907</td><td>1.00008</td><td>2000.0</td><td>2000.0</td><td>0.0</td><td>0.0</td></tr>\n",
       "<tr><td>HELP_J003315.147-452344.738</td><td>8.31311281702</td><td>-45.3957605639</td><td>37.1298</td><td>66.3937</td><td>14.1939</td><td>42.4204</td><td>82.9373</td><td>12.4911</td><td>6.1366</td><td>2.97714</td><td>0.30545</td><td>0.24376</td><td>1.00139</td><td>1.00097</td><td>2000.0</td><td>2000.0</td><td>0.0</td><td>0.0</td></tr>\n",
       "<tr><td>HELP_J003310.778-452509.629</td><td>8.29490656008</td><td>-45.4193414912</td><td>17.727</td><td>39.1233</td><td>5.2358</td><td>29.1855</td><td>69.9082</td><td>7.75969</td><td>6.1366</td><td>2.97714</td><td>0.30545</td><td>0.24376</td><td>0.999926</td><td>0.999946</td><td>2000.0</td><td>2000.0</td><td>0.0</td><td>0.0</td></tr>\n",
       "</table>"
      ],
      "text/plain": [
       "<Table length=10>\n",
       "          help_id                 RA      ... Pval_res_100 Pval_res_160\n",
       "                               degrees    ...                          \n",
       "           str27               float64    ...   float32      float32   \n",
       "--------------------------- ------------- ... ------------ ------------\n",
       "HELP_J003311.854-452559.212  8.2993897334 ...          0.0          0.0\n",
       "HELP_J003311.199-452603.296  8.2966614384 ...          0.0          0.0\n",
       "HELP_J003315.424-452615.143 8.31426712989 ...          0.0          0.0\n",
       "HELP_J003314.599-452546.572 8.31082943334 ...          0.0          0.0\n",
       "HELP_J003306.225-452506.589 8.27593562562 ...          0.0          0.0\n",
       "HELP_J003304.883-452634.388 8.27034568672 ...          0.0          0.0\n",
       "HELP_J003304.125-452627.612 8.26718894541 ...          0.0          0.0\n",
       "HELP_J003310.155-452508.483 8.29231242172 ...          0.0          0.0\n",
       "HELP_J003315.147-452344.738 8.31311281702 ...          0.0          0.0\n",
       "HELP_J003310.778-452509.629 8.29490656008 ...          0.0          0.0"
      ]
     },
     "execution_count": 3,
     "metadata": {},
     "output_type": "execute_result"
    }
   ],
   "source": [
    "cat[0:10]"
   ]
  },
  {
   "cell_type": "code",
   "execution_count": 4,
   "metadata": {
    "collapsed": true
   },
   "outputs": [],
   "source": [
    "from astropy import units as u\n",
    "cat['RA'].unit=u.degree\n",
    "cat['Dec'].unit=u.degree"
   ]
  },
  {
   "cell_type": "markdown",
   "metadata": {},
   "source": [
    "## Look at Symmetry of PDFs to determine depth level of catalogue"
   ]
  },
  {
   "cell_type": "code",
   "execution_count": 5,
   "metadata": {},
   "outputs": [
    {
     "data": {
      "text/plain": [
       "(0, 10)"
      ]
     },
     "execution_count": 5,
     "metadata": {},
     "output_type": "execute_result"
    },
    {
     "data": {
      "image/png": "[encoded data removed]",
      "text/plain": [
       "<matplotlib.figure.Figure at 0x104ea06d8>"
      ]
     },
     "metadata": {},
     "output_type": "display_data"
    }
   ],
   "source": [
    "skew=(cat['FErr_PACS_100_u']-cat['F_PACS_100'])/(cat['F_PACS_100']-cat['FErr_PACS_100_l'])\n",
    "skew.name='(84th-50th)/(50th-16th) percentile'\n",
    "g=sns.jointplot(x=np.log10(cat['F_PACS_100']),y=skew, kind='scatter')\n",
    "plt.ylim(0,10)"
   ]
  },
  {
   "cell_type": "code",
   "execution_count": null,
   "metadata": {},
   "outputs": [
    {
     "data": {
      "text/plain": [
       "19.952623149688797"
      ]
     },
     "execution_count": 6,
     "metadata": {},
     "output_type": "execute_result"
    }
   ],
   "source": [
    "10.0**1.3"
   ]
  },
  {
   "cell_type": "markdown",
   "metadata": {},
   "source": [
    "For 100 $\\mathrm{\\mu m}$ depth is ~ 16mJy"
   ]
  },
  {
   "cell_type": "code",
   "execution_count": 6,
   "metadata": {},
   "outputs": [
    {
     "data": {
      "text/plain": [
       "(0, 10)"
      ]
     },
     "execution_count": 6,
     "metadata": {},
     "output_type": "execute_result"
    },
    {
     "data": {
      "image/png": "[encoded data removed]",
      "text/plain": [
       "<matplotlib.figure.Figure at 0x11216cd30>"
      ]
     },
     "metadata": {},
     "output_type": "display_data"
    }
   ],
   "source": [
    "skew=(cat['FErr_PACS_160_u']-cat['F_PACS_160'])/(cat['F_PACS_160']-cat['FErr_PACS_160_l'])\n",
    "skew.name='(84th-50th)/(50th-16th) percentile'\n",
    "g=sns.jointplot(x=np.log10(cat['F_PACS_160']),y=skew, kind='scatter')\n",
    "plt.ylim(0,10)"
   ]
  },
  {
   "cell_type": "markdown",
   "metadata": {},
   "source": [
    "For 160 $\\mathrm{\\mu m}$ depth is ~ 30mJy"
   ]
  },
  {
   "cell_type": "markdown",
   "metadata": {},
   "source": [
    "## Add flag to catalogue"
   ]
  },
  {
   "cell_type": "code",
   "execution_count": 8,
   "metadata": {
    "collapsed": true
   },
   "outputs": [],
   "source": [
    "from astropy.table import Column\n",
    "cat.add_column(Column(np.zeros(len(cat), dtype=bool),name='flag_PACS_100'))\n",
    "cat.add_column(Column(np.zeros(len(cat), dtype=bool),name='flag_PACS_160'))\n",
    "\n"
   ]
  },
  {
   "cell_type": "code",
   "execution_count": 9,
   "metadata": {
    "collapsed": true
   },
   "outputs": [],
   "source": [
    "ind_100=(cat['F_PACS_100'] < 20)\n",
    "ind_160=(cat['F_PACS_160'] < 30) \n"
   ]
  },
  {
   "cell_type": "code",
   "execution_count": 10,
   "metadata": {},
   "outputs": [
    {
     "name": "stdout",
     "output_type": "stream",
     "text": [
      "169768 158225 194276\n"
     ]
    }
   ],
   "source": [
    "print(ind_100.sum(),ind_160.sum(),len(cat))"
   ]
  },
  {
   "cell_type": "code",
   "execution_count": 11,
   "metadata": {
    "collapsed": true
   },
   "outputs": [],
   "source": [
    "cat['flag_PACS_100'][ind_100]=True\n",
    "cat['flag_PACS_160'][ind_160]=True\n"
   ]
  },
  {
   "cell_type": "code",
   "execution_count": 12,
   "metadata": {},
   "outputs": [
    {
     "name": "stderr",
     "output_type": "stream",
     "text": [
      "WARNING: UnitsWarning: 'mJy/Beam' did not parse as fits unit: At col 4, Unit 'Beam' not supported by the FITS standard. Did you mean beam? [astropy.units.core]\n"
     ]
    }
   ],
   "source": [
    "cat.write('./data/dmu26_XID+PACS_ELAIS-S1_cat_20180416.fits', format='fits',overwrite=True)\n"
   ]
  },
  {
   "cell_type": "code",
   "execution_count": null,
   "metadata": {
    "collapsed": true
   },
   "outputs": [],
   "source": []
  }
 ],
 "metadata": {
  "kernelspec": {
   "display_name": "Python [conda env:new]",
   "language": "python",
   "name": "conda-env-new-py"
  },
  "language_info": {
   "codemirror_mode": {
    "name": "ipython",
    "version": 3
   },
   "file_extension": ".py",
   "mimetype": "text/x-python",
   "name": "python",
   "nbconvert_exporter": "python",
   "pygments_lexer": "ipython3",
   "version": "3.6.0"
  }
 },
 "nbformat": 4,
 "nbformat_minor": 2
}
