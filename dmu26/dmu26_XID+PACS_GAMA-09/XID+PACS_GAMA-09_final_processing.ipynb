{
 "cells": [
  {
   "cell_type": "markdown",
   "metadata": {},
   "source": [
    "# XID+PACS GAMA-09 Final Processing\n",
    "The final processing stage requires:\n",
    "1. Quick validation of catalogues and Bayesian Pvalue maps\n",
    "2. Skewness level\n",
    "3. Adding flag to catalogue"
   ]
  },
  {
   "cell_type": "code",
   "execution_count": 1,
   "metadata": {
    "collapsed": true
   },
   "outputs": [],
   "source": [
    "import seaborn as sns\n",
    "from astropy.table import Table\n",
    "%matplotlib inline\n",
    "import numpy as np\n",
    "import pylab as plt"
   ]
  },
  {
   "cell_type": "markdown",
   "metadata": {},
   "source": [
    "## Read tables"
   ]
  },
  {
   "cell_type": "code",
   "execution_count": 2,
   "metadata": {
    "collapsed": true
   },
   "outputs": [],
   "source": [
    "cat=Table.read('./data/dmu26_XID+PACS_GAMA09_cat.fits')\n"
   ]
  },
  {
   "cell_type": "code",
   "execution_count": 3,
   "metadata": {},
   "outputs": [
    {
     "data": {
      "text/html": [
       "<i>Table length=10</i>\n",
       "<table id=\"table139822562094776\" class=\"table-striped table-bordered table-condensed\">\n",
       "<thead><tr><th>help_id</th><th>RA</th><th>Dec</th><th>F_PACS_100</th><th>FErr_PACS_100_u</th><th>FErr_PACS_100_l</th><th>F_PACS_160</th><th>FErr_PACS_160_u</th><th>FErr_PACS_160_l</th><th>Bkg_PACS_100</th><th>Bkg_PACS_160</th><th>Sig_conf_PACS_100</th><th>Sig_conf_PACS_160</th><th>Rhat_PACS_100</th><th>Rhat_PACS_160</th><th>n_eff_PACS_100</th><th>n_eff_PACS_160</th><th>Pval_res_100</th><th>Pval_res_160</th></tr></thead>\n",
       "<thead><tr><th></th><th>degrees</th><th>degrees</th><th>mJy</th><th>mJy</th><th>mJy</th><th>mJy</th><th>mJy</th><th>mJy</th><th>mJy/Beam</th><th>mJy/Beam</th><th>mJy/Beam</th><th>mJy/Beam</th><th></th><th></th><th></th><th></th><th></th><th></th></tr></thead>\n",
       "<thead><tr><th>bytes27</th><th>float64</th><th>float64</th><th>float32</th><th>float32</th><th>float32</th><th>float32</th><th>float32</th><th>float32</th><th>float32</th><th>float32</th><th>float32</th><th>float32</th><th>float32</th><th>float32</th><th>float32</th><th>float32</th><th>float32</th><th>float32</th></tr></thead>\n",
       "<tr><td>HELP_J084010.818-014917.918</td><td>130.045073591754</td><td>-1.821643930630163</td><td>10.275918</td><td>24.073088</td><td>2.7069516</td><td>5.538744</td><td>13.214717</td><td>1.5386654</td><td>0.0010062944</td><td>0.00036446907</td><td>0.0025899494</td><td>0.0017402443</td><td>1.0000238</td><td>0.99906206</td><td>2000.0</td><td>2000.0</td><td>1.0</td><td>1.0</td></tr>\n",
       "<tr><td>HELP_J084010.887-014926.515</td><td>130.045364346364</td><td>-1.824032071544403</td><td>6.676865</td><td>16.719364</td><td>1.691394</td><td>5.415179</td><td>14.514021</td><td>1.3053118</td><td>0.0010062944</td><td>0.00036446907</td><td>0.0025899494</td><td>0.0017402443</td><td>0.9994702</td><td>0.9990447</td><td>2000.0</td><td>2000.0</td><td>1.0</td><td>1.0</td></tr>\n",
       "<tr><td>HELP_J084011.031-014928.056</td><td>130.045962871422</td><td>-1.824460022287783</td><td>7.2524934</td><td>17.409412</td><td>1.7849734</td><td>12.669696</td><td>27.385946</td><td>4.007434</td><td>0.0010062944</td><td>0.00036446907</td><td>0.0025899494</td><td>0.0017402443</td><td>0.99872184</td><td>0.9992431</td><td>2000.0</td><td>2000.0</td><td>1.0</td><td>1.0</td></tr>\n",
       "<tr><td>HELP_J084012.339-014917.775</td><td>130.051412969849</td><td>-1.821604146407573</td><td>51.92741</td><td>72.61022</td><td>30.69428</td><td>19.106487</td><td>34.419655</td><td>6.690286</td><td>0.0010062944</td><td>0.00036446907</td><td>0.0025899494</td><td>0.0017402443</td><td>1.0064857</td><td>0.99835885</td><td>1221.0</td><td>2000.0</td><td>1.0</td><td>1.0</td></tr>\n",
       "<tr><td>HELP_J084013.846-014841.302</td><td>130.05769199847</td><td>-1.811472810596263</td><td>15.3898945</td><td>31.062845</td><td>4.8046646</td><td>5.7299933</td><td>13.944969</td><td>1.4411653</td><td>0.0010062944</td><td>0.00036446907</td><td>0.0025899494</td><td>0.0017402443</td><td>1.0002383</td><td>0.99848574</td><td>2000.0</td><td>2000.0</td><td>1.0</td><td>1.0</td></tr>\n",
       "<tr><td>HELP_J084014.169-014858.371</td><td>130.059036452828</td><td>-1.816214293107473</td><td>14.309193</td><td>30.51642</td><td>4.5450616</td><td>18.596914</td><td>34.35812</td><td>6.192915</td><td>0.0010062944</td><td>0.00036446907</td><td>0.0025899494</td><td>0.0017402443</td><td>1.0000792</td><td>1.0002693</td><td>2000.0</td><td>2000.0</td><td>1.0</td><td>1.0</td></tr>\n",
       "<tr><td>HELP_J084014.705-014930.818</td><td>130.061271280055</td><td>-1.8252271509358031</td><td>15.088003</td><td>30.086046</td><td>4.191089</td><td>8.625801</td><td>19.375345</td><td>2.4013424</td><td>0.0010062944</td><td>0.00036446907</td><td>0.0025899494</td><td>0.0017402443</td><td>0.99918133</td><td>0.99937606</td><td>2000.0</td><td>2000.0</td><td>1.0</td><td>1.0</td></tr>\n",
       "<tr><td>HELP_J084015.056-014950.849</td><td>130.06273337588598</td><td>-1.830791362858903</td><td>11.567237</td><td>24.931627</td><td>3.4698431</td><td>10.311219</td><td>21.941086</td><td>2.8660188</td><td>0.0010062944</td><td>0.00036446907</td><td>0.0025899494</td><td>0.0017402443</td><td>1.000161</td><td>0.99895155</td><td>2000.0</td><td>2000.0</td><td>1.0</td><td>1.0</td></tr>\n",
       "<tr><td>HELP_J084015.598-015000.321</td><td>130.06499065802</td><td>-1.833422385120853</td><td>13.3082905</td><td>28.877865</td><td>3.3916502</td><td>13.056043</td><td>26.548904</td><td>4.440684</td><td>0.0010062944</td><td>0.00036446907</td><td>0.0025899494</td><td>0.0017402443</td><td>0.999647</td><td>0.9985756</td><td>2000.0</td><td>2000.0</td><td>1.0</td><td>1.0</td></tr>\n",
       "<tr><td>HELP_J084015.861-014954.568</td><td>130.066086381487</td><td>-1.831824565797443</td><td>8.48649</td><td>19.907297</td><td>2.0334759</td><td>4.704043</td><td>11.900919</td><td>1.3000857</td><td>0.0010062944</td><td>0.00036446907</td><td>0.0025899494</td><td>0.0017402443</td><td>0.9999131</td><td>0.9996734</td><td>2000.0</td><td>2000.0</td><td>1.0</td><td>1.0</td></tr>\n",
       "</table>"
      ],
      "text/plain": [
       "<Table length=10>\n",
       "          help_id                   RA         ... Pval_res_100 Pval_res_160\n",
       "                                 degrees       ...                          \n",
       "          bytes27                float64       ...   float32      float32   \n",
       "--------------------------- ------------------ ... ------------ ------------\n",
       "HELP_J084010.818-014917.918   130.045073591754 ...          1.0          1.0\n",
       "HELP_J084010.887-014926.515   130.045364346364 ...          1.0          1.0\n",
       "HELP_J084011.031-014928.056   130.045962871422 ...          1.0          1.0\n",
       "HELP_J084012.339-014917.775   130.051412969849 ...          1.0          1.0\n",
       "HELP_J084013.846-014841.302    130.05769199847 ...          1.0          1.0\n",
       "HELP_J084014.169-014858.371   130.059036452828 ...          1.0          1.0\n",
       "HELP_J084014.705-014930.818   130.061271280055 ...          1.0          1.0\n",
       "HELP_J084015.056-014950.849 130.06273337588598 ...          1.0          1.0\n",
       "HELP_J084015.598-015000.321    130.06499065802 ...          1.0          1.0\n",
       "HELP_J084015.861-014954.568   130.066086381487 ...          1.0          1.0"
      ]
     },
     "execution_count": 3,
     "metadata": {},
     "output_type": "execute_result"
    }
   ],
   "source": [
    "cat[0:10]"
   ]
  },
  {
   "cell_type": "code",
   "execution_count": 4,
   "metadata": {
    "collapsed": true
   },
   "outputs": [],
   "source": [
    "from astropy import units as u\n",
    "cat['RA'].unit=u.degree\n",
    "cat['Dec'].unit=u.degree"
   ]
  },
  {
   "cell_type": "markdown",
   "metadata": {},
   "source": [
    "## Look at Symmetry of PDFs to determine depth level of catalogue"
   ]
  },
  {
   "cell_type": "code",
   "execution_count": 5,
   "metadata": {},
   "outputs": [
    {
     "data": {
      "text/plain": [
       "(0, 10)"
      ]
     },
     "execution_count": 5,
     "metadata": {},
     "output_type": "execute_result"
    },
    {
     "data": {
      "image/png": "[encoded data removed]",
      "text/plain": [
       "<Figure size 432x432 with 3 Axes>"
      ]
     },
     "metadata": {
      "needs_background": "light"
     },
     "output_type": "display_data"
    }
   ],
   "source": [
    "skew=(cat['FErr_PACS_100_u']-cat['F_PACS_100'])/(cat['F_PACS_100']-cat['FErr_PACS_100_l'])\n",
    "skew.name='(84th-50th)/(50th-16th) percentile'\n",
    "g=sns.jointplot(x=np.log10(cat['F_PACS_100']),y=skew, kind='scatter')\n",
    "plt.ylim(0,10)"
   ]
  },
  {
   "cell_type": "code",
   "execution_count": 8,
   "metadata": {},
   "outputs": [
    {
     "data": {
      "text/plain": [
       "19.952623149688797"
      ]
     },
     "execution_count": 8,
     "metadata": {},
     "output_type": "execute_result"
    }
   ],
   "source": [
    "10**1.3"
   ]
  },
  {
   "cell_type": "markdown",
   "metadata": {},
   "source": [
    "For 100 $\\mathrm{\\mu m}$ depth is ~ 16mJy"
   ]
  },
  {
   "cell_type": "code",
   "execution_count": 9,
   "metadata": {},
   "outputs": [
    {
     "data": {
      "text/plain": [
       "(0, 10)"
      ]
     },
     "execution_count": 9,
     "metadata": {},
     "output_type": "execute_result"
    },
    {
     "data": {
      "image/png": "[encoded data removed]",
      "text/plain": [
       "<Figure size 432x432 with 3 Axes>"
      ]
     },
     "metadata": {
      "needs_background": "light"
     },
     "output_type": "display_data"
    }
   ],
   "source": [
    "skew=(cat['FErr_PACS_160_u']-cat['F_PACS_160'])/(cat['F_PACS_160']-cat['FErr_PACS_160_l'])\n",
    "skew.name='(84th-50th)/(50th-16th) percentile'\n",
    "g=sns.jointplot(x=np.log10(cat['F_PACS_160']),y=skew, kind='scatter')\n",
    "plt.ylim(0,10)"
   ]
  },
  {
   "cell_type": "markdown",
   "metadata": {},
   "source": [
    "For 160 $\\mathrm{\\mu m}$ depth is ~ 30mJy"
   ]
  },
  {
   "cell_type": "markdown",
   "metadata": {},
   "source": [
    "## Add flag to catalogue"
   ]
  },
  {
   "cell_type": "code",
   "execution_count": 10,
   "metadata": {
    "collapsed": true
   },
   "outputs": [],
   "source": [
    "from astropy.table import Column\n",
    "cat.add_column(Column(np.zeros(len(cat), dtype=bool),name='flag_PACS_100'))\n",
    "cat.add_column(Column(np.zeros(len(cat), dtype=bool),name='flag_PACS_160'))\n",
    "\n"
   ]
  },
  {
   "cell_type": "code",
   "execution_count": 11,
   "metadata": {
    "collapsed": true
   },
   "outputs": [],
   "source": [
    "ind_100=(cat['F_PACS_100'] < 20)\n",
    "ind_160=(cat['F_PACS_160'] < 30) \n"
   ]
  },
  {
   "cell_type": "code",
   "execution_count": 12,
   "metadata": {},
   "outputs": [
    {
     "name": "stdout",
     "output_type": "stream",
     "text": [
      "897306 1095180 1322112\n"
     ]
    }
   ],
   "source": [
    "print(ind_100.sum(),ind_160.sum(),len(cat))"
   ]
  },
  {
   "cell_type": "code",
   "execution_count": 13,
   "metadata": {
    "collapsed": true
   },
   "outputs": [],
   "source": [
    "cat['flag_PACS_100'][ind_100]=True\n",
    "cat['flag_PACS_160'][ind_160]=True\n"
   ]
  },
  {
   "cell_type": "code",
   "execution_count": 14,
   "metadata": {},
   "outputs": [
    {
     "name": "stderr",
     "output_type": "stream",
     "text": [
      "WARNING: UnitsWarning: 'mJy/Beam' did not parse as fits unit: At col 4, Unit 'Beam' not supported by the FITS standard. Did you mean beam? [astropy.units.core]\n"
     ]
    }
   ],
   "source": [
    "cat.write('./data/dmu26_XID+PACS_GAMA-09_cat_20190918.fits', format='fits',overwrite=True)\n"
   ]
  },
  {
   "cell_type": "code",
   "execution_count": null,
   "metadata": {
    "collapsed": true
   },
   "outputs": [],
   "source": []
  }
 ],
 "metadata": {
  "kernelspec": {
   "display_name": "Python (herschelhelp_internal)",
   "language": "python",
   "name": "helpint"
  },
  "language_info": {
   "codemirror_mode": {
    "name": "ipython",
    "version": 3
   },
   "file_extension": ".py",
   "mimetype": "text/x-python",
   "name": "python",
   "nbconvert_exporter": "python",
   "pygments_lexer": "ipython3",
   "version": "3.6.7"
  }
 },
 "nbformat": 4,
 "nbformat_minor": 2
}
