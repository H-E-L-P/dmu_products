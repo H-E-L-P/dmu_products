{
 "cells": [
  {
   "cell_type": "markdown",
   "metadata": {},
   "source": [
    "# XID+PACS GAMA-09 Prior"
   ]
  },
  {
   "cell_type": "code",
   "execution_count": 1,
   "metadata": {
    "collapsed": true
   },
   "outputs": [
    {
     "name": "stderr",
     "output_type": "stream",
     "text": [
      "/home/mc741/anaconda3/lib/python3.6/site-packages/mpl_toolkits/axes_grid/__init__.py:12: MatplotlibDeprecationWarning: \n",
      "The mpl_toolkits.axes_grid module was deprecated in Matplotlib 2.1 and will be removed two minor releases later. Use mpl_toolkits.axes_grid1 and mpl_toolkits.axisartist, which provide the same functionality instead.\n",
      "  obj_type='module')\n"
     ]
    }
   ],
   "source": [
    "import pylab\n",
    "import pymoc\n",
    "import xidplus\n",
    "import numpy as np\n",
    "%matplotlib inline\n",
    "from astropy.table import Table"
   ]
  },
  {
   "cell_type": "code",
   "execution_count": 2,
   "metadata": {
    "collapsed": true
   },
   "outputs": [],
   "source": [
    "import seaborn as sns"
   ]
  },
  {
   "cell_type": "markdown",
   "metadata": {},
   "source": [
    "This notebook uses all the raw data from the XID+PACS catalogue, maps, PSF and relevant MOCs to create XID+ prior object and relevant tiling scheme"
   ]
  },
  {
   "cell_type": "markdown",
   "metadata": {},
   "source": [
    "## Read in MOCs\n",
    "The selection functions required are the main MOC associated with the masterlist. As the prior for XID+ is based on IRAC detected sources."
   ]
  },
  {
   "cell_type": "code",
   "execution_count": 3,
   "metadata": {
    "collapsed": true
   },
   "outputs": [],
   "source": [
    "Sel_func=pymoc.MOC()\n",
    "Sel_func.read('../../dmu4/dmu4_sm_GAMA-09/data/holes_GAMA-09_ukidss_k_O16_20180417.fits')"
   ]
  },
  {
   "cell_type": "markdown",
   "metadata": {},
   "source": [
    "## Read in CIGALE predictions catalogue"
   ]
  },
  {
   "cell_type": "code",
   "execution_count": 14,
   "metadata": {
    "collapsed": true
   },
   "outputs": [],
   "source": [
    "cigale=Table.read('../../dmu28/dmu28_GAMA-09/data/GAMA9_Ldust_prediction_results.fits')\n"
   ]
  },
  {
   "cell_type": "code",
   "execution_count": 5,
   "metadata": {
    "collapsed": true
   },
   "outputs": [
    {
     "ename": "KeyError",
     "evalue": "'id'",
     "output_type": "error",
     "traceback": [
      "\u001b[0;31m---------------------------------------------------------------------------\u001b[0m",
      "\u001b[0;31mKeyError\u001b[0m                                  Traceback (most recent call last)",
      "\u001b[0;32m<ipython-input-5-cc26fb1fff49>\u001b[0m in \u001b[0;36m<module>\u001b[0;34m\u001b[0m\n\u001b[0;32m----> 1\u001b[0;31m \u001b[0mcigale\u001b[0m\u001b[0;34m[\u001b[0m\u001b[0;34m'id'\u001b[0m\u001b[0;34m]\u001b[0m\u001b[0;34m.\u001b[0m\u001b[0mname\u001b[0m \u001b[0;34m=\u001b[0m \u001b[0;34m'help_id'\u001b[0m\u001b[0;34m\u001b[0m\u001b[0;34m\u001b[0m\u001b[0m\n\u001b[0m",
      "\u001b[0;32m~/anaconda3/lib/python3.6/site-packages/astropy/table/table.py\u001b[0m in \u001b[0;36m__getitem__\u001b[0;34m(self, item)\u001b[0m\n\u001b[1;32m   1223\u001b[0m     \u001b[0;32mdef\u001b[0m \u001b[0m__getitem__\u001b[0m\u001b[0;34m(\u001b[0m\u001b[0mself\u001b[0m\u001b[0;34m,\u001b[0m \u001b[0mitem\u001b[0m\u001b[0;34m)\u001b[0m\u001b[0;34m:\u001b[0m\u001b[0;34m\u001b[0m\u001b[0;34m\u001b[0m\u001b[0m\n\u001b[1;32m   1224\u001b[0m         \u001b[0;32mif\u001b[0m \u001b[0misinstance\u001b[0m\u001b[0;34m(\u001b[0m\u001b[0mitem\u001b[0m\u001b[0;34m,\u001b[0m \u001b[0mstr\u001b[0m\u001b[0;34m)\u001b[0m\u001b[0;34m:\u001b[0m\u001b[0;34m\u001b[0m\u001b[0;34m\u001b[0m\u001b[0m\n\u001b[0;32m-> 1225\u001b[0;31m             \u001b[0;32mreturn\u001b[0m \u001b[0mself\u001b[0m\u001b[0;34m.\u001b[0m\u001b[0mcolumns\u001b[0m\u001b[0;34m[\u001b[0m\u001b[0mitem\u001b[0m\u001b[0;34m]\u001b[0m\u001b[0;34m\u001b[0m\u001b[0;34m\u001b[0m\u001b[0m\n\u001b[0m\u001b[1;32m   1226\u001b[0m         \u001b[0;32melif\u001b[0m \u001b[0misinstance\u001b[0m\u001b[0;34m(\u001b[0m\u001b[0mitem\u001b[0m\u001b[0;34m,\u001b[0m \u001b[0;34m(\u001b[0m\u001b[0mint\u001b[0m\u001b[0;34m,\u001b[0m \u001b[0mnp\u001b[0m\u001b[0;34m.\u001b[0m\u001b[0minteger\u001b[0m\u001b[0;34m)\u001b[0m\u001b[0;34m)\u001b[0m\u001b[0;34m:\u001b[0m\u001b[0;34m\u001b[0m\u001b[0;34m\u001b[0m\u001b[0m\n\u001b[1;32m   1227\u001b[0m             \u001b[0;32mreturn\u001b[0m \u001b[0mself\u001b[0m\u001b[0;34m.\u001b[0m\u001b[0mRow\u001b[0m\u001b[0;34m(\u001b[0m\u001b[0mself\u001b[0m\u001b[0;34m,\u001b[0m \u001b[0mitem\u001b[0m\u001b[0;34m)\u001b[0m\u001b[0;34m\u001b[0m\u001b[0;34m\u001b[0m\u001b[0m\n",
      "\u001b[0;32m~/anaconda3/lib/python3.6/site-packages/astropy/table/table.py\u001b[0m in \u001b[0;36m__getitem__\u001b[0;34m(self, item)\u001b[0m\n\u001b[1;32m    105\u001b[0m         \"\"\"\n\u001b[1;32m    106\u001b[0m         \u001b[0;32mif\u001b[0m \u001b[0misinstance\u001b[0m\u001b[0;34m(\u001b[0m\u001b[0mitem\u001b[0m\u001b[0;34m,\u001b[0m \u001b[0mstr\u001b[0m\u001b[0;34m)\u001b[0m\u001b[0;34m:\u001b[0m\u001b[0;34m\u001b[0m\u001b[0;34m\u001b[0m\u001b[0m\n\u001b[0;32m--> 107\u001b[0;31m             \u001b[0;32mreturn\u001b[0m \u001b[0mOrderedDict\u001b[0m\u001b[0;34m.\u001b[0m\u001b[0m__getitem__\u001b[0m\u001b[0;34m(\u001b[0m\u001b[0mself\u001b[0m\u001b[0;34m,\u001b[0m \u001b[0mitem\u001b[0m\u001b[0;34m)\u001b[0m\u001b[0;34m\u001b[0m\u001b[0;34m\u001b[0m\u001b[0m\n\u001b[0m\u001b[1;32m    108\u001b[0m         \u001b[0;32melif\u001b[0m \u001b[0misinstance\u001b[0m\u001b[0;34m(\u001b[0m\u001b[0mitem\u001b[0m\u001b[0;34m,\u001b[0m \u001b[0;34m(\u001b[0m\u001b[0mint\u001b[0m\u001b[0;34m,\u001b[0m \u001b[0mnp\u001b[0m\u001b[0;34m.\u001b[0m\u001b[0minteger\u001b[0m\u001b[0;34m)\u001b[0m\u001b[0;34m)\u001b[0m\u001b[0;34m:\u001b[0m\u001b[0;34m\u001b[0m\u001b[0;34m\u001b[0m\u001b[0m\n\u001b[1;32m    109\u001b[0m             \u001b[0;32mreturn\u001b[0m \u001b[0mself\u001b[0m\u001b[0;34m.\u001b[0m\u001b[0mvalues\u001b[0m\u001b[0;34m(\u001b[0m\u001b[0;34m)\u001b[0m\u001b[0;34m[\u001b[0m\u001b[0mitem\u001b[0m\u001b[0;34m]\u001b[0m\u001b[0;34m\u001b[0m\u001b[0;34m\u001b[0m\u001b[0m\n",
      "\u001b[0;31mKeyError\u001b[0m: 'id'"
     ]
    }
   ],
   "source": [
    "cigale['id'].name = 'help_id'"
   ]
  },
  {
   "cell_type": "code",
   "execution_count": 15,
   "metadata": {},
   "outputs": [
    {
     "data": {
      "text/html": [
       "<i>Table length=1815905</i>\n",
       "<table id=\"table140684224522112\" class=\"table-striped table-bordered table-condensed\">\n",
       "<thead><tr><th>bayes.dust.luminosity</th><th>bayes.dust.luminosity_err</th><th>best.omegacam_u</th><th>best.megacam_u</th><th>best.omegacam_g</th><th>best.suprime_g</th><th>best.decam_g</th><th>best.megacam_g</th><th>best.gpc1_g</th><th>best.suprime_r</th><th>best.gpc1_r</th><th>best.megacam_r</th><th>best.omegacam_r</th><th>best.decam_r</th><th>best.gpc1_i</th><th>best.megacam_i</th><th>best.omegacam_i</th><th>best.suprime_i</th><th>best.gpc1_z</th><th>best.vista_z</th><th>best.megacam_z</th><th>best.suprime_z</th><th>best.decam_z</th><th>best.gpc1_y</th><th>best.suprime_y</th><th>best.vista_y</th><th>best.ukidss_y</th><th>best.ukidss_j</th><th>best.vista_j</th><th>best.ukidss_h</th><th>best.vista_h</th><th>best.vista_ks</th><th>best.ukidss_k</th></tr></thead>\n",
       "<thead><tr><th></th><th></th><th>mJy</th><th>mJy</th><th>mJy</th><th>mJy</th><th>mJy</th><th>mJy</th><th>mJy</th><th>mJy</th><th>mJy</th><th>mJy</th><th>mJy</th><th>mJy</th><th>mJy</th><th>mJy</th><th>mJy</th><th>mJy</th><th>mJy</th><th>mJy</th><th>mJy</th><th>mJy</th><th>mJy</th><th>mJy</th><th>mJy</th><th>mJy</th><th>mJy</th><th>mJy</th><th>mJy</th><th>mJy</th><th>mJy</th><th>mJy</th><th>mJy</th></tr></thead>\n",
       "<thead><tr><th>float64</th><th>float64</th><th>float64</th><th>float64</th><th>float64</th><th>float64</th><th>float64</th><th>float64</th><th>float64</th><th>float64</th><th>float64</th><th>float64</th><th>float64</th><th>float64</th><th>float64</th><th>float64</th><th>float64</th><th>float64</th><th>float64</th><th>float64</th><th>float64</th><th>float64</th><th>float64</th><th>float64</th><th>float64</th><th>float64</th><th>float64</th><th>float64</th><th>float64</th><th>float64</th><th>float64</th><th>float64</th><th>float64</th></tr></thead>\n",
       "<tr><td>1.7756811583627856e+39</td><td>1.8560994213383705e+39</td><td>0.0006849655648856183</td><td>0.0008213525215570016</td><td>0.0014418320784829225</td><td>0.0014851635254180297</td><td>0.0014918097398899804</td><td>0.0015248420785701489</td><td>0.0015223639970083685</td><td>0.0029236244063870925</td><td>0.0029323451806340392</td><td>0.0029942044550754767</td><td>0.003071945806420398</td><td>0.003209946563396643</td><td>0.00570727344151689</td><td>0.005874273794688017</td><td>0.006124423478050316</td><td>0.006517263751715815</td><td>0.012043668064701779</td><td>0.012387236998768944</td><td>0.012730939515909855</td><td>0.012885496989621615</td><td>0.013894760724993507</td><td>0.015677503791890205</td><td>0.015995150517214757</td><td>0.01681551604212792</td><td>0.017040868125072547</td><td>0.024214296725186508</td><td>0.02429380670766754</td><td>0.03624442746030166</td><td>0.03653520866519151</td><td>0.053322189508958964</td><td>0.05449461857253117</td></tr>\n",
       "<tr><td>2.7021265703371776e+37</td><td>2.4317979538966422e+36</td><td>0.05731104329672883</td><td>0.056223578961906474</td><td>0.06033796980008266</td><td>0.06082318037150582</td><td>0.06095714255843882</td><td>0.060962559918838935</td><td>0.06123168837954967</td><td>0.05832850068459655</td><td>0.05801617455383524</td><td>0.0574112860668829</td><td>0.05741336122906761</td><td>0.056988475834606624</td><td>0.05282675100407725</td><td>0.053128606958725344</td><td>0.05306034143787001</td><td>0.05267269867326263</td><td>0.051136801552879335</td><td>0.051096163964210975</td><td>0.051204577645507635</td><td>0.05120398359763581</td><td>0.05122226385822606</td><td>0.05100542972748624</td><td>0.05089417995814178</td><td>0.051669357982216245</td><td>0.052035689812129096</td><td>0.053585319826126916</td><td>0.05354605081471752</td><td>0.05234953875464276</td><td>0.052339845325697625</td><td>0.052655239140812916</td><td>0.0514389634370146</td></tr>\n",
       "<tr><td>4.570194861817776e+37</td><td>2.8856447896428874e+37</td><td>0.001562775024576193</td><td>0.0019241849445430818</td><td>0.004073465839980223</td><td>0.004389458937042463</td><td>0.004445338813423105</td><td>0.0046145338160607985</td><td>0.004617749979019916</td><td>0.013338348306415565</td><td>0.013418082449615516</td><td>0.013756858071279767</td><td>0.014021819449388108</td><td>0.01455585883157852</td><td>0.021016747199825565</td><td>0.02094968585405312</td><td>0.02126166115867816</td><td>0.021866551844849095</td><td>0.027435222606925637</td><td>0.02793834579131693</td><td>0.02841994636277121</td><td>0.02873496116158678</td><td>0.030069647897269628</td><td>0.032687682671318524</td><td>0.03361467379577717</td><td>0.03654262073705172</td><td>0.03715744099421227</td><td>0.05233128843384468</td><td>0.0525172784307798</td><td>0.06935969566164578</td><td>0.06970494617425149</td><td>0.09128148854208384</td><td>0.09383798173773936</td></tr>\n",
       "<tr><td>1.5495572578977246e+39</td><td>2.0426412306543896e+39</td><td>0.0007113458085920682</td><td>0.0008620998241307844</td><td>0.0014636804186210113</td><td>0.0015183653964489588</td><td>0.001528907940829464</td><td>0.0015650614718851665</td><td>0.001565504843687772</td><td>0.003486666574064081</td><td>0.0034925073419556116</td><td>0.003569124910119692</td><td>0.003707632994832172</td><td>0.003974755257606487</td><td>0.009555373494452808</td><td>0.009514978147316</td><td>0.009834455087319656</td><td>0.01053562651452195</td><td>0.017090714828527045</td><td>0.01772392654238113</td><td>0.017995607058220953</td><td>0.018406453207120137</td><td>0.01938260611424127</td><td>0.021299714542906932</td><td>0.022002392212932025</td><td>0.024543109914095355</td><td>0.025282734427615784</td><td>0.03732825099814391</td><td>0.037421056282661354</td><td>0.061449745967043015</td><td>0.06211407956664785</td><td>0.08968285075940517</td><td>0.09202998934088379</td></tr>\n",
       "<tr><td>1.9836831174912827e+39</td><td>1.1247053696095027e+38</td><td>6.298024535939316</td><td>6.138427217228513</td><td>6.478874044154541</td><td>6.499129387376567</td><td>6.5054687822726445</td><td>6.517273282028814</td><td>6.524689489260027</td><td>5.877294815665693</td><td>5.8475216229471565</td><td>5.792011289163387</td><td>5.782899379492132</td><td>5.7419449044740025</td><td>5.257985530146233</td><td>5.269362159585479</td><td>5.26062085048225</td><td>5.222712494633159</td><td>5.05455001321386</td><td>5.061177790248698</td><td>5.070187866004547</td><td>5.080311092127211</td><td>5.070331782010034</td><td>5.02012905273381</td><td>5.034770027035303</td><td>5.152091010483606</td><td>5.171181713596566</td><td>5.150449480333911</td><td>5.154095789248365</td><td>5.051034687088109</td><td>5.0549338616517465</td><td>4.9150757859246115</td><td>4.793075837926555</td></tr>\n",
       "<tr><td>9.008484458912574e+35</td><td>6.91995525495998e+35</td><td>0.07220251585052244</td><td>0.08880290109439372</td><td>0.20647972445855084</td><td>0.2105730067769274</td><td>0.21132906029022494</td><td>0.21734403031818966</td><td>0.21624840155682482</td><td>0.3434780306298811</td><td>0.344869563689463</td><td>0.3492399029340926</td><td>0.3541050196162975</td><td>0.3623248632048691</td><td>0.44410266529498543</td><td>0.4446860018573015</td><td>0.4487933614356649</td><td>0.4556164993451814</td><td>0.5359516185086711</td><td>0.546621011028694</td><td>0.5575971562099775</td><td>0.5552240278410377</td><td>0.5872793521796774</td><td>0.6383340563539209</td><td>0.65371752934474</td><td>0.687683157958246</td><td>0.6968285431579705</td><td>0.7690133643775512</td><td>0.7701625983507598</td><td>0.9232093024469973</td><td>0.9285849692123795</td><td>0.8145639697519402</td><td>0.7928518585568228</td></tr>\n",
       "<tr><td>3.601881487628594e+37</td><td>4.012016413741961e+37</td><td>0.008997100841526664</td><td>0.009501296483101336</td><td>0.012026686590607742</td><td>0.012569315929390514</td><td>0.012666843647848283</td><td>0.012809705273908052</td><td>0.012888039869490579</td><td>0.022415620052108315</td><td>0.022408800900497558</td><td>0.022587861833334038</td><td>0.022688343131727302</td><td>0.02287622471601989</td><td>0.024927102045823362</td><td>0.024932846246666984</td><td>0.025059341539773586</td><td>0.025231373467572496</td><td>0.026671696021761917</td><td>0.026791201171422318</td><td>0.027022632545495754</td><td>0.027012946429377915</td><td>0.027468761062184953</td><td>0.02825663518425728</td><td>0.028473775075190704</td><td>0.0294764504635975</td><td>0.02964108445294334</td><td>0.03419187268274122</td><td>0.03426414598595954</td><td>0.03691896256737512</td><td>0.036993528658823896</td><td>0.04139509485770477</td><td>0.04205066456324092</td></tr>\n",
       "<tr><td>6.326384780716312e+36</td><td>3.877157504172003e+36</td><td>0.029649954914199736</td><td>0.030813125127983475</td><td>0.05216607238625812</td><td>0.053551778604082216</td><td>0.05386316172944426</td><td>0.05454625387995087</td><td>0.055069418037298166</td><td>0.07015553214799677</td><td>0.06993405942528258</td><td>0.06994755202859998</td><td>0.0705539112371537</td><td>0.07142931833612215</td><td>0.07735553050171329</td><td>0.07731336357104028</td><td>0.07754269658589161</td><td>0.07786567842405112</td><td>0.08303982768621315</td><td>0.08378339577544028</td><td>0.08431096835942949</td><td>0.0850653096013099</td><td>0.086231003665275</td><td>0.08801115072636899</td><td>0.08904786259734587</td><td>0.09289337581208525</td><td>0.09380086781264434</td><td>0.10296717810120207</td><td>0.10312088885743537</td><td>0.11041042678028722</td><td>0.11066694911260547</td><td>0.1147225158896037</td><td>0.1119708009075359</td></tr>\n",
       "<tr><td>2.049659370130672e+38</td><td>1.7284443198752115e+38</td><td>0.06889481876409997</td><td>0.10840735518362506</td><td>0.45640410374469503</td><td>0.4788100798894797</td><td>0.48325877729157957</td><td>0.5036470484027452</td><td>0.5028229625625584</td><td>1.2877909267241812</td><td>1.2945004629626646</td><td>1.327779431278502</td><td>1.3701111628827567</td><td>1.4443441319317145</td><td>2.2948907637329037</td><td>2.3072969361333215</td><td>2.3491644358825132</td><td>2.4320992623691766</td><td>3.4235506956418336</td><td>3.54382172986511</td><td>3.6634625994652437</td><td>3.6647486508378697</td><td>4.032076107166555</td><td>4.686821407852258</td><td>4.900439463354127</td><td>5.54922765089344</td><td>5.7593400330451185</td><td>8.107505873555839</td><td>8.139940600050963</td><td>12.47782923107716</td><td>12.600650806937768</td><td>13.807142344135947</td><td>13.750692964949224</td></tr>\n",
       "<tr><td>...</td><td>...</td><td>...</td><td>...</td><td>...</td><td>...</td><td>...</td><td>...</td><td>...</td><td>...</td><td>...</td><td>...</td><td>...</td><td>...</td><td>...</td><td>...</td><td>...</td><td>...</td><td>...</td><td>...</td><td>...</td><td>...</td><td>...</td><td>...</td><td>...</td><td>...</td><td>...</td><td>...</td><td>...</td><td>...</td><td>...</td><td>...</td><td>...</td></tr>\n",
       "<tr><td>1.100216810929157e+37</td><td>5.896175988586009e+36</td><td>0.018592579601624082</td><td>0.020919925442333502</td><td>0.05001991326381216</td><td>0.052150489514316285</td><td>0.05260887209600786</td><td>0.05355893539008891</td><td>0.05420767587979453</td><td>0.0916988524545678</td><td>0.09158483163979131</td><td>0.09263653124022615</td><td>0.09437655045604403</td><td>0.09680966358839119</td><td>0.12091590915083761</td><td>0.12138962051225902</td><td>0.12226870965585715</td><td>0.12381957353135514</td><td>0.1459635259385529</td><td>0.14886209575768367</td><td>0.15086903584476083</td><td>0.15163037418287462</td><td>0.15714981016777657</td><td>0.1673550028740296</td><td>0.17058026370137358</td><td>0.18365713436150233</td><td>0.18691925893670955</td><td>0.22420426512402597</td><td>0.22470514203246972</td><td>0.2628864665632054</td><td>0.2640164030172578</td><td>0.2833373605386113</td><td>0.27644285679340813</td></tr>\n",
       "<tr><td>1.4206447502514093e+38</td><td>1.5785427761039392e+38</td><td>0.0010961636735176343</td><td>0.0012785054320938445</td><td>0.0025510925605829135</td><td>0.002678409217417819</td><td>0.0026980935737772375</td><td>0.0028340358800738145</td><td>0.0027905933139637617</td><td>0.008951242957455124</td><td>0.009070721793538732</td><td>0.00939015587071178</td><td>0.009654242875984131</td><td>0.010176472359692068</td><td>0.014786159688862512</td><td>0.014900246743430467</td><td>0.015126310254990867</td><td>0.015511031664951639</td><td>0.02020876996193327</td><td>0.02059542910670686</td><td>0.02095925872160439</td><td>0.021068221780402678</td><td>0.02216930093097443</td><td>0.02396711096546658</td><td>0.02458632549652058</td><td>0.026340242989286777</td><td>0.027029454515670386</td><td>0.03782988953354445</td><td>0.03799088458818508</td><td>0.053407596012437365</td><td>0.05361325984174868</td><td>0.06795484121987896</td><td>0.07058803064886479</td></tr>\n",
       "<tr><td>5.695247881763603e+37</td><td>1.1818187020180186e+37</td><td>0.48377129277079023</td><td>0.5895290888085368</td><td>1.5996456578518246</td><td>1.6487132364207824</td><td>1.6583874164923507</td><td>1.6942647945307476</td><td>1.7048917135447643</td><td>2.985469298961774</td><td>2.9958774821464162</td><td>3.0629960548625617</td><td>3.111944308697739</td><td>3.2109182601390183</td><td>4.133843632775286</td><td>4.124373713292741</td><td>4.1638873651925845</td><td>4.242162829051041</td><td>5.083748301049679</td><td>5.17485401848794</td><td>5.301499351005254</td><td>5.322851498098887</td><td>5.649763338515066</td><td>6.1720861140939824</td><td>6.382154860708415</td><td>6.813723990009727</td><td>6.910248457317847</td><td>8.028070665860378</td><td>8.046543792597635</td><td>9.858762054365634</td><td>9.919408009897797</td><td>9.514860119291388</td><td>9.317719358284283</td></tr>\n",
       "<tr><td>1.3552394175194585e+37</td><td>3.328740922492263e+36</td><td>0.007603298327210055</td><td>0.00931318609612951</td><td>0.029686863716538225</td><td>0.031365911604301945</td><td>0.031726746129917466</td><td>0.03243265915722482</td><td>0.03286298008690914</td><td>0.07074757234791672</td><td>0.07095506386509463</td><td>0.07227177403644384</td><td>0.07415352555725889</td><td>0.07713097429627166</td><td>0.10808333450625882</td><td>0.10896631669979505</td><td>0.1102114205678424</td><td>0.11272866727972175</td><td>0.14484780175892786</td><td>0.14873884753221064</td><td>0.15135491876416204</td><td>0.15164920343420854</td><td>0.16042368348909616</td><td>0.17659527708167252</td><td>0.18160096937317266</td><td>0.2015675282393538</td><td>0.20628974455350854</td><td>0.26916066593180815</td><td>0.2698963099795379</td><td>0.3448327226525966</td><td>0.3470370919408714</td><td>0.3922769597954111</td><td>0.3849792090702955</td></tr>\n",
       "<tr><td>1.328833590853375e+38</td><td>1.1914099343470326e+38</td><td>0.0006022683666690246</td><td>0.0007242911562616252</td><td>0.001582807793070364</td><td>0.0016451138443243443</td><td>0.0016579900950068388</td><td>0.001705854708666505</td><td>0.0017070424271012062</td><td>0.005980817140453547</td><td>0.006023205326675074</td><td>0.006317180214080813</td><td>0.006627180317476183</td><td>0.0071909695913864756</td><td>0.01208658706142171</td><td>0.012174052162286491</td><td>0.012333110000705265</td><td>0.012684823246904996</td><td>0.01744860880730458</td><td>0.017961729475200243</td><td>0.018233019958200668</td><td>0.018622847671863365</td><td>0.019668656125166325</td><td>0.021527603057021054</td><td>0.02226721239711716</td><td>0.02427949412047337</td><td>0.024648939932823292</td><td>0.03595833781293178</td><td>0.03622647541592231</td><td>0.05745830046414026</td><td>0.057764606777718296</td><td>0.07550539804206177</td><td>0.07825585808166652</td></tr>\n",
       "<tr><td>2.3710471636398194e+37</td><td>1.0020287258827178e+37</td><td>0.002592997456266232</td><td>0.003112399018737056</td><td>0.0061023112445072894</td><td>0.006503126451388559</td><td>0.006571282293492896</td><td>0.006758427208956666</td><td>0.00679344155648139</td><td>0.017205281656161787</td><td>0.017338333704537877</td><td>0.017703077481458575</td><td>0.017989121147900026</td><td>0.018643610360086025</td><td>0.025634580574466704</td><td>0.025477599946148805</td><td>0.025786242395717848</td><td>0.02648958083486864</td><td>0.03193053221901246</td><td>0.0325488395352815</td><td>0.03298686193119809</td><td>0.033292811743212365</td><td>0.03471680866000769</td><td>0.03720493346955144</td><td>0.038189529182115003</td><td>0.041053536242836114</td><td>0.04173014398620597</td><td>0.05648998465600138</td><td>0.056675709894982954</td><td>0.07076205068910989</td><td>0.0710360873721939</td><td>0.09006982246535605</td><td>0.09165088082958911</td></tr>\n",
       "<tr><td>1.5472336547762588e+38</td><td>1.5288694427606837e+38</td><td>0.00369256077195507</td><td>0.004642622314752422</td><td>0.011904422010889202</td><td>0.012770184106767188</td><td>0.012949281781316388</td><td>0.013135596133908856</td><td>0.013426204662944141</td><td>0.03466129412074146</td><td>0.034773130634512144</td><td>0.03570198564295854</td><td>0.03653541436520804</td><td>0.03809949105152831</td><td>0.054732980778248605</td><td>0.054723443558180596</td><td>0.055378889911757684</td><td>0.05681130514990006</td><td>0.07099196854384845</td><td>0.07228140848763041</td><td>0.07409012059666893</td><td>0.07422049580136385</td><td>0.07918996361429657</td><td>0.08674601452280511</td><td>0.08994579167580108</td><td>0.09605466456436049</td><td>0.09751370092086376</td><td>0.14024188830228226</td><td>0.14075950776964433</td><td>0.18575023545761693</td><td>0.1867613064242339</td><td>0.2518923327391029</td><td>0.2537738344197868</td></tr>\n",
       "<tr><td>8.403366521447583e+37</td><td>6.959359922574835e+37</td><td>0.0030236094392045326</td><td>0.0038458442562886394</td><td>0.010759143167665674</td><td>0.011432802980803155</td><td>0.01158362627669089</td><td>0.011921752767770497</td><td>0.01205361321269079</td><td>0.031881735652508375</td><td>0.03203586715595845</td><td>0.032627801545245506</td><td>0.0335940276088581</td><td>0.03509817005949716</td><td>0.051943536930588556</td><td>0.05194372536754738</td><td>0.05257599852768525</td><td>0.05402226436659846</td><td>0.06813881840738426</td><td>0.06976206444064686</td><td>0.07163647237235655</td><td>0.07175467390295569</td><td>0.07656731915947898</td><td>0.08560022622515245</td><td>0.0877416765505191</td><td>0.09402372330222404</td><td>0.09574400438394556</td><td>0.14091797871203673</td><td>0.1412710275967499</td><td>0.1868194510991229</td><td>0.18776910143114114</td><td>0.2532260109821104</td><td>0.25316678423230976</td></tr>\n",
       "<tr><td>1.617886580946589e+38</td><td>1.6853216553185113e+38</td><td>0.0020014530995138484</td><td>0.0023247639869776143</td><td>0.003766347028174967</td><td>0.003846383383959872</td><td>0.0038621873451095546</td><td>0.003945623940047657</td><td>0.003923687642800045</td><td>0.008099955099837623</td><td>0.008178518818648683</td><td>0.00843678999758594</td><td>0.008598102208437536</td><td>0.008930433514208254</td><td>0.011199635714184381</td><td>0.01124408068727464</td><td>0.011319347378660515</td><td>0.011463854512217181</td><td>0.013277923708261245</td><td>0.013451052810052594</td><td>0.013595504147970151</td><td>0.013670617796268986</td><td>0.01409491492982668</td><td>0.014756253205193153</td><td>0.015043323503812208</td><td>0.015756623953759392</td><td>0.015915399705521464</td><td>0.020170506197416213</td><td>0.02027972413428115</td><td>0.03567201601300925</td><td>0.03591339587577191</td><td>0.04546733192306832</td><td>0.04635943708894945</td></tr>\n",
       "<tr><td>1.2800960529174906e+38</td><td>1.4743806275086965e+38</td><td>0.0023776253388504633</td><td>0.00249984743414064</td><td>0.003201621302028554</td><td>0.0032462057265160876</td><td>0.003254030974748186</td><td>0.003276313896207675</td><td>0.0032812111105748254</td><td>0.006168121866117798</td><td>0.006208274967756541</td><td>0.006450901975866853</td><td>0.006617406116026633</td><td>0.006977490311363135</td><td>0.009475158662437172</td><td>0.009531143754364514</td><td>0.009580341132715331</td><td>0.009712410655140884</td><td>0.01149972460620663</td><td>0.01170134362975242</td><td>0.011804325853170795</td><td>0.011967755272609328</td><td>0.012345217290329023</td><td>0.012997286555072212</td><td>0.013170925173820623</td><td>0.013868981688387348</td><td>0.01403587348827635</td><td>0.017668205425703545</td><td>0.01775597691467449</td><td>0.024615802059289694</td><td>0.024687226493178557</td><td>0.0285686824681277</td><td>0.029216990406834058</td></tr>\n",
       "</table>"
      ],
      "text/plain": [
       "<Table length=1815905>\n",
       "bayes.dust.luminosity  bayes.dust.luminosity_err ...    best.ukidss_k    \n",
       "                                                 ...         mJy         \n",
       "       float64                  float64          ...       float64       \n",
       "---------------------- ------------------------- ... --------------------\n",
       "1.7756811583627856e+39    1.8560994213383705e+39 ...  0.05449461857253117\n",
       "2.7021265703371776e+37    2.4317979538966422e+36 ...   0.0514389634370146\n",
       " 4.570194861817776e+37    2.8856447896428874e+37 ...  0.09383798173773936\n",
       "1.5495572578977246e+39    2.0426412306543896e+39 ...  0.09202998934088379\n",
       "1.9836831174912827e+39    1.1247053696095027e+38 ...    4.793075837926555\n",
       " 9.008484458912574e+35      6.91995525495998e+35 ...   0.7928518585568228\n",
       " 3.601881487628594e+37     4.012016413741961e+37 ...  0.04205066456324092\n",
       " 6.326384780716312e+36     3.877157504172003e+36 ...   0.1119708009075359\n",
       " 2.049659370130672e+38    1.7284443198752115e+38 ...   13.750692964949224\n",
       "                   ...                       ... ...                  ...\n",
       " 1.100216810929157e+37     5.896175988586009e+36 ...  0.27644285679340813\n",
       "1.4206447502514093e+38    1.5785427761039392e+38 ...  0.07058803064886479\n",
       " 5.695247881763603e+37    1.1818187020180186e+37 ...    9.317719358284283\n",
       "1.3552394175194585e+37     3.328740922492263e+36 ...   0.3849792090702955\n",
       " 1.328833590853375e+38    1.1914099343470326e+38 ...  0.07825585808166652\n",
       "2.3710471636398194e+37    1.0020287258827178e+37 ...  0.09165088082958911\n",
       "1.5472336547762588e+38    1.5288694427606837e+38 ...   0.2537738344197868\n",
       " 8.403366521447583e+37     6.959359922574835e+37 ...  0.25316678423230976\n",
       " 1.617886580946589e+38    1.6853216553185113e+38 ...  0.04635943708894945\n",
       "1.2800960529174906e+38    1.4743806275086965e+38 ... 0.029216990406834058"
      ]
     },
     "execution_count": 15,
     "metadata": {},
     "output_type": "execute_result"
    }
   ],
   "source": [
    "cigale"
   ]
  },
  {
   "cell_type": "markdown",
   "metadata": {},
   "source": [
    "## Read in photoz"
   ]
  },
  {
   "cell_type": "code",
   "execution_count": null,
   "metadata": {},
   "outputs": [],
   "source": [
    "photoz=Table.read('../../dmu24/dmu24_GAMA-09/data/master_catalogue_gama-09_20171206_photoz_20180213_r_optimised.fits')"
   ]
  },
  {
   "cell_type": "code",
   "execution_count": null,
   "metadata": {},
   "outputs": [],
   "source": [
    "photoz"
   ]
  },
  {
   "cell_type": "markdown",
   "metadata": {},
   "source": [
    "## Join CIGALE and photoz tables"
   ]
  },
  {
   "cell_type": "code",
   "execution_count": null,
   "metadata": {},
   "outputs": [],
   "source": [
    "prior=join(cigale,photoz,keys='help_id')"
   ]
  },
  {
   "cell_type": "code",
   "execution_count": null,
   "metadata": {},
   "outputs": [],
   "source": [
    "from astropy.cosmology import Planck15 as cosmo\n",
    "from astropy import units as u\n",
    "f_pred=prior['bayes.dust.luminosity']/(4*np.pi*cosmo.luminosity_distance(prior['z1_median']).to(u.cm))\n"
   ]
  },
  {
   "cell_type": "code",
   "execution_count": null,
   "metadata": {},
   "outputs": [],
   "source": [
    "prior=prior[np.isfinite(f_pred.value)][np.log10(f_pred.value[np.isfinite(f_pred.value)])>8.5]"
   ]
  },
  {
   "cell_type": "code",
   "execution_count": null,
   "metadata": {},
   "outputs": [],
   "source": [
    "prior['DEC'].name='Dec'"
   ]
  },
  {
   "cell_type": "markdown",
   "metadata": {},
   "source": [
    "## Read in Maps"
   ]
  },
  {
   "cell_type": "code",
   "execution_count": 10,
   "metadata": {
    "collapsed": true
   },
   "outputs": [],
   "source": [
    "PACS_100='../../dmu18/dmu18_HELP-PACS-maps/data/GAMA-09_PACS100_v0.9.fits'\n",
    "PACS_160='../../dmu18/dmu18_HELP-PACS-maps/data/GAMA-09_PACS160_v0.9.fits'\n",
    "#output folder\n",
    "output_folder='./'"
   ]
  },
  {
   "cell_type": "code",
   "execution_count": 11,
   "metadata": {
    "collapsed": true
   },
   "outputs": [],
   "source": [
    "from astropy.io import fits\n",
    "from astropy import wcs\n",
    "\n",
    "#-----100-------------\n",
    "hdulist = fits.open(PACS_100)\n",
    "im100phdu=hdulist[0].header\n",
    "im100hdu=hdulist[1].header\n",
    "im100=hdulist[1].data\n",
    "w_100 = wcs.WCS(hdulist[1].header)\n",
    "pixsize100=3600.0*np.abs(hdulist[1].header['CDELT1']) #pixel size (in arcseconds)\n",
    "nim100=hdulist[2].data\n",
    "hdulist.close()\n",
    "\n",
    "#-----160-------------\n",
    "hdulist = fits.open(PACS_160)\n",
    "im160phdu=hdulist[0].header\n",
    "im160hdu=hdulist[1].header\n",
    "\n",
    "im160=hdulist[1].data #convert to mJy\n",
    "w_160 = wcs.WCS(hdulist[1].header)\n",
    "pixsize160=3600.0*np.abs(hdulist[1].header['CDELT1']) #pixel size (in arcseconds)\n",
    "nim160=hdulist[2].data\n",
    "hdulist.close()"
   ]
  },
  {
   "cell_type": "markdown",
   "metadata": {},
   "source": [
    "## Read in PSF"
   ]
  },
  {
   "cell_type": "code",
   "execution_count": 12,
   "metadata": {
    "collapsed": true
   },
   "outputs": [],
   "source": [
    "pacs100_psf=fits.open('../../dmu18/dmu18_GAMA-09/dmu18_PACS_100_PSF_GAMA-09_20190131.fits')\n",
    "pacs160_psf=fits.open('../../dmu18/dmu18_GAMA-09/dmu18_PACS_160_PSF_GAMA-09_20190131.fits')\n",
    "\n",
    "centre100=np.long((pacs100_psf[1].header['NAXIS1']-1)/2)\n",
    "radius100=15\n",
    "centre160=np.long((pacs160_psf[1].header['NAXIS1']-1)/2)\n",
    "radius160=25\n",
    "\n",
    "pind100=np.arange(0,radius100+1+radius100,1)*3600*np.abs(pacs100_psf[1].header['CDELT1'])/pixsize100 #get 100 scale in terms of pixel scale of map\n",
    "pind160=np.arange(0,radius160+1+radius160,1)*3600*np.abs(pacs160_psf[1].header['CDELT1'])/pixsize160 #get 160 scale in terms of pixel scale of map"
   ]
  },
  {
   "cell_type": "code",
   "execution_count": 13,
   "metadata": {},
   "outputs": [
    {
     "name": "stdout",
     "output_type": "stream",
     "text": [
      "[  0.           0.33333333   0.66666667   1.           1.33333333\n",
      "   1.66666667   2.           2.33333333   2.66666667   3.           3.33333333\n",
      "   3.66666667   4.           4.33333333   4.66666667   5.           5.33333333\n",
      "   5.66666667   6.           6.33333333   6.66666667   7.           7.33333333\n",
      "   7.66666667   8.           8.33333333   8.66666667   9.           9.33333333\n",
      "   9.66666667  10.        ]\n"
     ]
    }
   ],
   "source": [
    "print(pind100)"
   ]
  },
  {
   "cell_type": "code",
   "execution_count": 14,
   "metadata": {},
   "outputs": [
    {
     "data": {
      "text/plain": [
       "<matplotlib.colorbar.Colorbar at 0x11fd211d0>"
      ]
     },
     "execution_count": 14,
     "metadata": {},
     "output_type": "execute_result"
    },
    {
     "data": {
      "image/png": "[encoded data removed]",
      "text/plain": [
       "<matplotlib.figure.Figure at 0x122ff1a20>"
      ]
     },
     "metadata": {},
     "output_type": "display_data"
    }
   ],
   "source": [
    "import pylab as plt\n",
    "plt.figure(figsize=(20,10))\n",
    "plt.subplot(1,2,1)\n",
    "plt.imshow(pacs100_psf[1].data[centre100-radius100:centre100+radius100+1,centre100-radius100:centre100+radius100+1])\n",
    "plt.colorbar()\n",
    "plt.subplot(1,2,2)\n",
    "plt.imshow(pacs160_psf[1].data[centre160-radius160:centre160+radius160+1,centre160-radius160:centre160+radius160+1])\n",
    "plt.colorbar()"
   ]
  },
  {
   "cell_type": "markdown",
   "metadata": {},
   "source": [
    "## Set XID+ prior class"
   ]
  },
  {
   "cell_type": "code",
   "execution_count": 15,
   "metadata": {
    "collapsed": true
   },
   "outputs": [],
   "source": [
    "#---prior100--------\n",
    "prior100=xidplus.prior(im100,nim100,im100phdu,im100hdu, moc=Sel_func)#Initialise with map, uncertianty map, wcs info and primary header\n",
    "prior100.prior_cat(prior_cat(prior['RA'] ,prior['Dec'] ,'GAMA09_Ldust_prediction_results.fits',ID=prior['help_id'])#Set input catalogue\n",
    "prior100.prior_bkg(0.0,5)#Set prior on background (assumes Gaussian pdf with mu and sigma)\n",
    "\n",
    "#---prior160--------\n",
    "prior160=xidplus.prior(im160,nim160,im160phdu,im160hdu, moc=Sel_func)\n",
    "prior160.prior_cat(prior_cat(prior['RA'] ,prior['Dec'] ,'GAMA09_Ldust_prediction_results.fits',ID=prior['help_id'])\n",
    "prior160.prior_bkg(0.0,5)"
   ]
  },
  {
   "cell_type": "code",
   "execution_count": 16,
   "metadata": {
    "collapsed": true
   },
   "outputs": [],
   "source": [
    "# Divide by 1000 so that units are mJy\n",
    "prior100.set_prf(pacs100_psf[1].data[centre100-radius100:centre100+radius100+1,centre100-radius100:centre100+radius100+1]/1000.0,\n",
    "                pind100,pind100)\n",
    "prior160.set_prf(pacs160_psf[1].data[centre160-radius160:centre160+radius160+1,centre160-radius160:centre160+radius160+1]/1000.0,\n",
    "                pind160,pind160)"
   ]
  },
  {
   "cell_type": "code",
   "execution_count": 17,
   "metadata": {},
   "outputs": [
    {
     "name": "stdout",
     "output_type": "stream",
     "text": [
      "----- There are 2165 tiles required for input catalogue and 18 large tiles\n",
      "writing total_bytes=781068219...\n",
      "writing bytes [0, 781068219)... done.\n"
     ]
    },
    {
     "ename": "SystemExit",
     "evalue": "",
     "output_type": "error",
     "traceback": [
      "An exception has occurred, use %tb to see the full traceback.\n",
      "\u001b[0;31mSystemExit\u001b[0m\n"
     ]
    }
   ],
   "source": [
    "import pickle\n",
    "#from moc, get healpix pixels at a given order\n",
    "from xidplus import moc_routines\n",
    "order=11\n",
    "tiles=moc_routines.get_HEALPix_pixels(order,prior100.sra,prior100.sdec,unique=True)\n",
    "order_large=6\n",
    "tiles_large=moc_routines.get_HEALPix_pixels(order_large,prior100.sra,prior100.sdec,unique=True)\n",
    "print('----- There are '+str(len(tiles))+' tiles required for input catalogue and '+str(len(tiles_large))+' large tiles')\n",
    "output_folder='./'\n",
    "xidplus.io.pickle_dump({'priors':[prior100,prior160],'tiles':tiles,'order':order,'version':xidplus.io.git_version()},'Master_prior.pkl')\n",
    "outfile=output_folder+'Tiles.pkl'\n",
    "with open(outfile, 'wb') as f:\n",
    "    pickle.dump({'tiles':tiles,'order':order,'tiles_large':tiles_large,'order_large':order_large,'version':xidplus.io.git_version()},f)\n",
    "raise SystemExit()"
   ]
  },
  {
   "cell_type": "code",
   "execution_count": 18,
   "metadata": {},
   "outputs": [
    {
     "name": "stdout",
     "output_type": "stream",
     "text": [
      "total 1525656\n",
      "drwxr-xr-x@ 3 pdh21  pdh21   102B 14 Feb 16:33 \u001b[34mdata\u001b[m\u001b[m/\n",
      "-rw-rw-r--  1 pdh21  pdh21    41K 15 Feb 11:16 XID+PACS_prior.ipynb\n",
      "-rw-rw-r--  1 pdh21  pdh21    18K 15 Feb 11:25 Tiles.pkl\n",
      "-rw-rw-r--  1 pdh21  pdh21   745M 15 Feb 11:25 Master_prior.pkl\n"
     ]
    }
   ],
   "source": [
    "ls -ltrh"
   ]
  },
  {
   "cell_type": "code",
   "execution_count": null,
   "metadata": {
    "collapsed": true
   },
   "outputs": [],
   "source": []
  },
  {
   "cell_type": "code",
   "execution_count": null,
   "metadata": {
    "collapsed": true
   },
   "outputs": [],
   "source": []
  },
  {
   "cell_type": "code",
   "execution_count": null,
   "metadata": {
    "collapsed": true
   },
   "outputs": [],
   "source": []
  }
 ],
 "metadata": {
  "kernelspec": {
   "display_name": "Python 3",
   "language": "python",
   "name": "python3"
  },
  "language_info": {
   "codemirror_mode": {
    "name": "ipython",
    "version": 3
   },
   "file_extension": ".py",
   "mimetype": "text/x-python",
   "name": "python",
   "nbconvert_exporter": "python",
   "pygments_lexer": "ipython3",
   "version": "3.6.8"
  }
 },
 "nbformat": 4,
 "nbformat_minor": 2
}
