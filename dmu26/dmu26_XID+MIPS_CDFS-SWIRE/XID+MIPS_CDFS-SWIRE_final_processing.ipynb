{
 "cells": [
  {
   "cell_type": "markdown",
   "metadata": {},
   "source": [
    "# Final Processing\n",
    "The final processing stage requires:\n",
    "1. Quick validation of catalogues and Bayesian Pvalue maps\n",
    "2. Skewness level\n",
    "3. Adding flag to catalogue"
   ]
  },
  {
   "cell_type": "code",
   "execution_count": 4,
   "metadata": {},
   "outputs": [],
   "source": [
    "import seaborn as sns\n",
    "from astropy.table import Table\n",
    "%matplotlib inline\n",
    "import numpy as np\n",
    "import pylab as plt"
   ]
  },
  {
   "cell_type": "markdown",
   "metadata": {},
   "source": [
    "## Read tables"
   ]
  },
  {
   "cell_type": "code",
   "execution_count": 6,
   "metadata": {},
   "outputs": [],
   "source": [
    "cat=Table.read('./data/dmu26_XID+MIPS_CDFS-SWIRE_cat.fits')"
   ]
  },
  {
   "cell_type": "code",
   "execution_count": 18,
   "metadata": {},
   "outputs": [
    {
     "data": {
      "text/html": [
       "<i>Table length=497143</i>\n",
       "<table id=\"table140314493031616\" class=\"table-striped table-bordered table-condensed\">\n",
       "<thead><tr><th>help_id</th><th>RA</th><th>Dec</th><th>F_MIPS_24</th><th>FErr_MIPS_24_u</th><th>FErr_MIPS_24_l</th><th>Bkg_MIPS_24</th><th>Sig_conf_MIPS_24</th><th>Rhat_MIPS_24</th><th>n_eff_MIPS_24</th><th>Pval_res_24</th><th>flag_mips_24</th></tr></thead>\n",
       "<thead><tr><th></th><th>degrees</th><th>degrees</th><th>muJy</th><th>muJy</th><th>muJy</th><th>MJy / sr</th><th>MJy / sr</th><th></th><th></th><th></th><th></th></tr></thead>\n",
       "<thead><tr><th>bytes27</th><th>float64</th><th>float64</th><th>float32</th><th>float32</th><th>float32</th><th>float32</th><th>float32</th><th>float32</th><th>float32</th><th>float32</th><th>bool</th></tr></thead>\n",
       "<tr><td>HELP_J033650.824-295620.783</td><td>54.211766390022845</td><td>-29.9391064859918</td><td>272.50247</td><td>540.70447</td><td>86.236374</td><td>-0.003483794</td><td>5.029496e-06</td><td>1.0027044</td><td>1124.0</td><td>0.0</td><td>False</td></tr>\n",
       "<tr><td>HELP_J033655.442-295449.596</td><td>54.23101021455793</td><td>-29.91377659143576</td><td>236.55391</td><td>506.73215</td><td>68.16577</td><td>-0.0006361296</td><td>5.0581343e-06</td><td>0.9994119</td><td>1476.0</td><td>0.0</td><td>False</td></tr>\n",
       "<tr><td>HELP_J033616.314-295548.181</td><td>54.067976200022855</td><td>-29.9300503059918</td><td>301.9198</td><td>318.07288</td><td>286.00903</td><td>-0.004160782</td><td>5.0500876e-06</td><td>nan</td><td>1700.0</td><td>0.0</td><td>False</td></tr>\n",
       "<tr><td>HELP_J033601.094-295546.425</td><td>54.00455690002285</td><td>-29.929562435991798</td><td>81.58568</td><td>95.428375</td><td>67.528366</td><td>0.0016651336</td><td>4.938521e-06</td><td>nan</td><td>1122.0</td><td>0.0</td><td>False</td></tr>\n",
       "<tr><td>HELP_J033608.786-295409.821</td><td>54.03660934002285</td><td>-29.9027279559918</td><td>6.9124126</td><td>15.632443</td><td>2.0185032</td><td>-0.0052455342</td><td>5.063621e-06</td><td>nan</td><td>2000.0</td><td>0.0</td><td>True</td></tr>\n",
       "<tr><td>HELP_J033606.888-295518.496</td><td>54.028701300022846</td><td>-29.9218044959918</td><td>36.028355</td><td>50.140163</td><td>21.682087</td><td>-0.0052455342</td><td>5.063621e-06</td><td>nan</td><td>719.0</td><td>0.0</td><td>False</td></tr>\n",
       "<tr><td>HELP_J033610.856-295506.940</td><td>54.04523478002285</td><td>-29.918594405991797</td><td>250.45511</td><td>263.87708</td><td>237.46614</td><td>-0.0052455342</td><td>5.063621e-06</td><td>nan</td><td>1863.0</td><td>0.0</td><td>False</td></tr>\n",
       "<tr><td>HELP_J033607.350-295516.790</td><td>54.030623590022856</td><td>-29.9213304359918</td><td>184.89633</td><td>199.12378</td><td>170.45247</td><td>-0.0052455342</td><td>5.063621e-06</td><td>nan</td><td>1419.0</td><td>0.0</td><td>False</td></tr>\n",
       "<tr><td>HELP_J033555.160-295410.647</td><td>53.97983175002285</td><td>-29.9029574059918</td><td>1659.3827</td><td>1672.8367</td><td>1645.4224</td><td>-0.0065137288</td><td>5.1315847e-06</td><td>nan</td><td>2000.0</td><td>0.993</td><td>True</td></tr>\n",
       "<tr><td>...</td><td>...</td><td>...</td><td>...</td><td>...</td><td>...</td><td>...</td><td>...</td><td>...</td><td>...</td><td>...</td><td>...</td></tr>\n",
       "<tr><td>HELP_J033132.180-264322.936</td><td>52.88408457002285</td><td>-26.7230378659918</td><td>421.0885</td><td>435.22632</td><td>406.61438</td><td>-0.0084905075</td><td>4.9394434e-06</td><td>0.99885267</td><td>3553.784</td><td>0.0</td><td>False</td></tr>\n",
       "<tr><td>HELP_J033137.739-264409.163</td><td>52.90724546002285</td><td>-26.7358786959918</td><td>92.20725</td><td>102.478424</td><td>81.37641</td><td>-0.0084905075</td><td>4.9394434e-06</td><td>1.0009569</td><td>1900.5288</td><td>0.0</td><td>False</td></tr>\n",
       "<tr><td>HELP_J033142.617-264246.779</td><td>52.927572439763516</td><td>-26.71299410498323</td><td>667.4759</td><td>681.0298</td><td>652.4358</td><td>-0.00943419</td><td>4.825234e-06</td><td>0.999187</td><td>1852.778</td><td>0.0</td><td>False</td></tr>\n",
       "<tr><td>HELP_J033141.146-264311.309</td><td>52.921441200022855</td><td>-26.7198079259918</td><td>114.45417</td><td>128.39558</td><td>100.63278</td><td>-0.00943419</td><td>4.825234e-06</td><td>0.9990823</td><td>2211.3984</td><td>0.0</td><td>False</td></tr>\n",
       "<tr><td>HELP_J033148.313-264339.016</td><td>52.95130468002286</td><td>-26.7275045759918</td><td>19.68986</td><td>30.238302</td><td>9.680743</td><td>-0.004858722</td><td>5.1525126e-06</td><td>1.0023018</td><td>964.4656</td><td>0.0</td><td>True</td></tr>\n",
       "<tr><td>HELP_J033125.584-264257.101</td><td>52.85659968002285</td><td>-26.7158614559918</td><td>3.6467378</td><td>9.045433</td><td>1.0984378</td><td>0.003984708</td><td>5.198509e-06</td><td>1.0002315</td><td>1936.1405</td><td>0.0</td><td>True</td></tr>\n",
       "<tr><td>HELP_J033129.805-264314.400</td><td>52.8741863355894</td><td>-26.7206665472673</td><td>220.73575</td><td>234.77673</td><td>205.98607</td><td>0.003984708</td><td>5.198509e-06</td><td>1.0006864</td><td>2386.2454</td><td>0.0</td><td>False</td></tr>\n",
       "<tr><td>HELP_J033130.802-264249.975</td><td>52.87834176002285</td><td>-26.713881965991803</td><td>5.766424</td><td>12.790249</td><td>1.5544541</td><td>0.003984708</td><td>5.198509e-06</td><td>0.9995906</td><td>2289.3484</td><td>0.0</td><td>True</td></tr>\n",
       "<tr><td>HELP_J033128.228-264304.284</td><td>52.867616335589396</td><td>-26.7178565472673</td><td>288.71277</td><td>300.1802</td><td>277.32913</td><td>0.003984708</td><td>5.198509e-06</td><td>0.9985655</td><td>2323.5725</td><td>0.0</td><td>False</td></tr>\n",
       "<tr><td>HELP_J033127.783-264401.697</td><td>52.86576395002285</td><td>-26.733804655991797</td><td>156.93938</td><td>168.99763</td><td>145.67363</td><td>0.003984708</td><td>5.198509e-06</td><td>1.0004038</td><td>1914.902</td><td>0.0</td><td>False</td></tr>\n",
       "</table>"
      ],
      "text/plain": [
       "<Table length=497143>\n",
       "          help_id                   RA         ... Pval_res_24 flag_mips_24\n",
       "                                 degrees       ...                         \n",
       "          bytes27                float64       ...   float32       bool    \n",
       "--------------------------- ------------------ ... ----------- ------------\n",
       "HELP_J033650.824-295620.783 54.211766390022845 ...         0.0        False\n",
       "HELP_J033655.442-295449.596  54.23101021455793 ...         0.0        False\n",
       "HELP_J033616.314-295548.181 54.067976200022855 ...         0.0        False\n",
       "HELP_J033601.094-295546.425  54.00455690002285 ...         0.0        False\n",
       "HELP_J033608.786-295409.821  54.03660934002285 ...         0.0         True\n",
       "HELP_J033606.888-295518.496 54.028701300022846 ...         0.0        False\n",
       "HELP_J033610.856-295506.940  54.04523478002285 ...         0.0        False\n",
       "HELP_J033607.350-295516.790 54.030623590022856 ...         0.0        False\n",
       "HELP_J033555.160-295410.647  53.97983175002285 ...       0.993         True\n",
       "                        ...                ... ...         ...          ...\n",
       "HELP_J033132.180-264322.936  52.88408457002285 ...         0.0        False\n",
       "HELP_J033137.739-264409.163  52.90724546002285 ...         0.0        False\n",
       "HELP_J033142.617-264246.779 52.927572439763516 ...         0.0        False\n",
       "HELP_J033141.146-264311.309 52.921441200022855 ...         0.0        False\n",
       "HELP_J033148.313-264339.016  52.95130468002286 ...         0.0         True\n",
       "HELP_J033125.584-264257.101  52.85659968002285 ...         0.0         True\n",
       "HELP_J033129.805-264314.400   52.8741863355894 ...         0.0        False\n",
       "HELP_J033130.802-264249.975  52.87834176002285 ...         0.0         True\n",
       "HELP_J033128.228-264304.284 52.867616335589396 ...         0.0        False\n",
       "HELP_J033127.783-264401.697  52.86576395002285 ...         0.0        False"
      ]
     },
     "execution_count": 18,
     "metadata": {},
     "output_type": "execute_result"
    }
   ],
   "source": [
    "cat"
   ]
  },
  {
   "cell_type": "markdown",
   "metadata": {},
   "source": [
    "## Look at Symmetry of PDFs to determine depth level of catalogue"
   ]
  },
  {
   "cell_type": "code",
   "execution_count": 12,
   "metadata": {},
   "outputs": [
    {
     "name": "stderr",
     "output_type": "stream",
     "text": [
      "<ipython-input-12-2e7aa188d762>:5: RuntimeWarning: invalid value encountered in log10\n",
      "  g=sns.jointplot(x=np.log10(cat['F_MIPS_24'][use]),y=skew[use], kind='hex')\n"
     ]
    },
    {
     "name": "stdout",
     "output_type": "stream",
     "text": [
      "4.9886394\n"
     ]
    },
    {
     "data": {
      "image/png": "[encoded data removed]",
      "text/plain": [
       "<Figure size 432x432 with 3 Axes>"
      ]
     },
     "metadata": {
      "needs_background": "light"
     },
     "output_type": "display_data"
    }
   ],
   "source": [
    "import seaborn as sns\n",
    "skew=(cat['FErr_MIPS_24_u']-cat['F_MIPS_24'])/(cat['F_MIPS_24']-cat['FErr_MIPS_24_l'])\n",
    "skew.name='(84th-50th)/(50th-16th) percentile'\n",
    "use = skew < 5\n",
    "g=sns.jointplot(x=np.log10(cat['F_MIPS_24'][use]),y=skew[use], kind='hex')\n",
    "g.ax_joint.vlines(1.3, 0, 4)\n",
    "\n",
    "print(np.max(skew[use]))\n",
    "# g.savefig('../../data/figs/sk_MIPS_HDF-N.pdf', bbox='tight')\n",
    "# g.savefig('../../data/figs/sk_MIPS_HDF-N.png', bbox='tight')\n"
   ]
  },
  {
   "cell_type": "code",
   "execution_count": 13,
   "metadata": {},
   "outputs": [
    {
     "data": {
      "text/plain": [
       "19.952623149688797"
      ]
     },
     "execution_count": 13,
     "metadata": {},
     "output_type": "execute_result"
    }
   ],
   "source": [
    "10**1.3"
   ]
  },
  {
   "cell_type": "markdown",
   "metadata": {},
   "source": [
    "Both seem to have flux pdfs that become Gaussian at ~20$\\mathrm{\\mu Jy}$ "
   ]
  },
  {
   "cell_type": "markdown",
   "metadata": {},
   "source": [
    "## Add flag to catalogue"
   ]
  },
  {
   "cell_type": "code",
   "execution_count": 14,
   "metadata": {},
   "outputs": [],
   "source": [
    "from astropy.table import Column\n",
    "cat.add_column(Column(np.zeros(len(cat), dtype=bool),name='flag_mips_24'))\n"
   ]
  },
  {
   "cell_type": "code",
   "execution_count": 15,
   "metadata": {},
   "outputs": [],
   "source": [
    "ind=(cat['Pval_res_24']>0.5) | (cat['F_MIPS_24'] < 20.0)\n"
   ]
  },
  {
   "cell_type": "code",
   "execution_count": 16,
   "metadata": {},
   "outputs": [],
   "source": [
    "cat['flag_mips_24'][ind]=True"
   ]
  },
  {
   "cell_type": "code",
   "execution_count": 17,
   "metadata": {},
   "outputs": [
    {
     "name": "stderr",
     "output_type": "stream",
     "text": [
      "WARNING: UnitsWarning: 'degrees' did not parse as fits unit: At col 0, Unit 'degrees' not supported by the FITS standard.  If this is meant to be a custom unit, define it with 'u.def_unit'. To have it recognized inside a file reader or other code, enable it with 'u.add_enabled_units'. For details, see https://docs.astropy.org/en/latest/units/combining_and_defining.html [astropy.units.core]\n",
      "WARNING: UnitsWarning: 'muJy' did not parse as fits unit: At col 0, Unit 'muJy' not supported by the FITS standard. Did you mean MJy, mJy or uJy? If this is meant to be a custom unit, define it with 'u.def_unit'. To have it recognized inside a file reader or other code, enable it with 'u.add_enabled_units'. For details, see https://docs.astropy.org/en/latest/units/combining_and_defining.html [astropy.units.core]\n"
     ]
    }
   ],
   "source": [
    "cat.write('./data/dmu26_XID+MIPS_CDFS-SWIRE_cat_20201205.fits', format='fits',overwrite=True)"
   ]
  },
  {
   "cell_type": "code",
   "execution_count": null,
   "metadata": {
    "collapsed": true,
    "jupyter": {
     "outputs_hidden": true
    }
   },
   "outputs": [],
   "source": []
  },
  {
   "cell_type": "markdown",
   "metadata": {},
   "source": [
    "### Check Map\n"
   ]
  },
  {
   "cell_type": "code",
   "execution_count": 5,
   "metadata": {},
   "outputs": [],
   "source": [
    "from astropy.io import fits\n",
    "import pylab as plt"
   ]
  },
  {
   "cell_type": "code",
   "execution_count": 8,
   "metadata": {},
   "outputs": [],
   "source": [
    "MIPS_pval=fits.open('./data/dmu26_XID+MIPS_CDFS-SWIRE_Bayes_Pval_20201205.fits')\n",
    "MIPS_pval2=fits.open('./data/old/dmu26_XID+MIPS_CDFS-SWIRE_Bayes_Pval_20170901.fits')\n"
   ]
  },
  {
   "cell_type": "code",
   "execution_count": 7,
   "metadata": {},
   "outputs": [
    {
     "data": {
      "image/png": "[encoded data removed]",
      "text/plain": [
       "<Figure size 432x288 with 1 Axes>"
      ]
     },
     "metadata": {
      "needs_background": "light"
     },
     "output_type": "display_data"
    }
   ],
   "source": [
    "plt.hist(MIPS_pval[1].data[np.isfinite(MIPS_pval[1].data)],bins=np.arange(-6,6,0.05));"
   ]
  },
  {
   "cell_type": "code",
   "execution_count": 9,
   "metadata": {},
   "outputs": [
    {
     "data": {
      "image/png": "[encoded data removed]",
      "text/plain": [
       "<Figure size 432x288 with 1 Axes>"
      ]
     },
     "metadata": {
      "needs_background": "light"
     },
     "output_type": "display_data"
    }
   ],
   "source": [
    "plt.hist(MIPS_pval2[1].data[np.isfinite(MIPS_pval2[1].data)],bins=np.arange(-6,6,0.05));"
   ]
  },
  {
   "cell_type": "code",
   "execution_count": 11,
   "metadata": {},
   "outputs": [
    {
     "data": {
      "text/plain": [
       "<matplotlib.legend.Legend at 0x7fb39b79b250>"
      ]
     },
     "execution_count": 11,
     "metadata": {},
     "output_type": "execute_result"
    },
    {
     "data": {
      "image/png": "[encoded data removed]",
      "text/plain": [
       "<Figure size 1080x1224 with 1 Axes>"
      ]
     },
     "metadata": {
      "needs_background": "light"
     },
     "output_type": "display_data"
    }
   ],
   "source": [
    "plt.figure(figsize=(15,17))\n",
    "plt.hist(MIPS_pval[1].data[np.isfinite(MIPS_pval[1].data)],bins=np.arange(-6,6,0.05), alpha=0.5, label='new');\n",
    "plt.hist(MIPS_pval2[1].data[np.isfinite(MIPS_pval2[1].data)],bins=np.arange(-6,6,0.05), alpha=0.5, label='old');\n",
    "plt.legend()"
   ]
  },
  {
   "cell_type": "code",
   "execution_count": null,
   "metadata": {},
   "outputs": [],
   "source": []
  }
 ],
 "metadata": {
  "kernelspec": {
   "display_name": "Python (herschelhelp_internal)",
   "language": "python",
   "name": "helpint"
  },
  "language_info": {
   "codemirror_mode": {
    "name": "ipython",
    "version": 3
   },
   "file_extension": ".py",
   "mimetype": "text/x-python",
   "name": "python",
   "nbconvert_exporter": "python",
   "pygments_lexer": "ipython3",
   "version": "3.8.3"
  }
 },
 "nbformat": 4,
 "nbformat_minor": 4
}
