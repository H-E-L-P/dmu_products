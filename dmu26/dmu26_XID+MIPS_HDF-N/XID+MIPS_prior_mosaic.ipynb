{
 "cells": [
  {
   "cell_type": "code",
   "execution_count": 1,
   "metadata": {},
   "outputs": [
    {
     "name": "stdout",
     "output_type": "stream",
     "text": [
      "iterate over each mosaic\n",
      "mosaic:  0\n",
      "MOC not in field\n",
      "mosaic:  1\n",
      "MOC not in field\n",
      "mosaic:  2\n",
      "MOC not in field\n",
      "mosaic:  3\n"
     ]
    },
    {
     "name": "stderr",
     "output_type": "stream",
     "text": [
      "WARNING: FITSFixedWarning: CRVAL1_0= 189.510377000 /CRVAL1 at Tue Jun 19 19:32:39 2018By: sjo \n",
      "keyword looks very much like CRVALia but isn't. [astropy.wcs.wcs]\n",
      "WARNING: FITSFixedWarning: CRVAL2_0= 62.4064600000 /CRVAL2 at Tue Jun 19 19:32:39 2018By: sjo \n",
      "keyword looks very much like CRVALia but isn't. [astropy.wcs.wcs]\n"
     ]
    },
    {
     "name": "stdout",
     "output_type": "stream",
     "text": [
      "setting XID+ priors\n",
      "----- There are 104 tiles required for input catalogue and 2 large tiles in mosaic../../dmu17/dmu17_HELP_SEIP_maps/HDF-N/data/70101860.70101860-0.MIPS.1.moc.fits\n"
     ]
    },
    {
     "data": {
      "image/png": "[encoded data removed]",
      "text/plain": [
       "<Figure size 432x288 with 1 Axes>"
      ]
     },
     "metadata": {
      "needs_background": "light"
     },
     "output_type": "display_data"
    }
   ],
   "source": [
    "%run XID+MIPS_prior_mosaic.py"
   ]
  },
  {
   "cell_type": "code",
   "execution_count": 1,
   "metadata": {},
   "outputs": [
    {
     "name": "stdout",
     "output_type": "stream",
     "text": [
      "iterate over each mosaic\n",
      "mosaic:  0\n",
      "MOC not in field\n",
      "mosaic:  1\n",
      "MOC not in field\n",
      "mosaic:  2\n",
      "MOC not in field\n",
      "mosaic:  3\n"
     ]
    },
    {
     "name": "stderr",
     "output_type": "stream",
     "text": [
      "WARNING: FITSFixedWarning: CRVAL1_0= 189.510377000 /CRVAL1 at Tue Jun 19 19:32:39 2018By: sjo \n",
      "keyword looks very much like CRVALia but isn't. [astropy.wcs.wcs]\n",
      "WARNING: FITSFixedWarning: CRVAL2_0= 62.4064600000 /CRVAL2 at Tue Jun 19 19:32:39 2018By: sjo \n",
      "keyword looks very much like CRVALia but isn't. [astropy.wcs.wcs]\n"
     ]
    },
    {
     "name": "stdout",
     "output_type": "stream",
     "text": [
      "setting XID+ priors\n",
      "----- There are 89 tiles required for input catalogue and 1 large tiles in mosaic../../dmu17/dmu17_HELP_SEIP_maps/HDF-N/data/70101860.70101860-0.MIPS.1.moc.fits\n"
     ]
    },
    {
     "data": {
      "image/png": "[encoded data removed]",
      "text/plain": [
       "<Figure size 432x288 with 1 Axes>"
      ]
     },
     "metadata": {
      "needs_background": "light"
     },
     "output_type": "display_data"
    }
   ],
   "source": [
    "%run XID+MIPS_prior_mosaic.py"
   ]
  },
  {
   "cell_type": "code",
   "execution_count": 7,
   "metadata": {},
   "outputs": [],
   "source": [
    "# prior_MIPS.prior_cat(masterlist[1].data['ra'][good],masterlist[1].data['dec'][good],masterfile,flux_lower=MIPS_lower, flux_upper=MIPS_upper,ID=masterlist[1].data['help_id'][good])"
   ]
  },
  {
   "cell_type": "code",
   "execution_count": 8,
   "metadata": {},
   "outputs": [],
   "source": [
    "# prior_MIPS.sra"
   ]
  },
  {
   "cell_type": "code",
   "execution_count": 1,
   "metadata": {},
   "outputs": [
    {
     "name": "stdout",
     "output_type": "stream",
     "text": [
      "On tile 0 out of 89\n",
      "On tile 1 out of 89\n",
      "On tile 2 out of 89\n",
      "On tile 3 out of 89\n",
      "On tile 4 out of 89\n",
      "On tile 5 out of 89\n",
      "On tile 6 out of 89\n",
      "On tile 7 out of 89\n",
      "On tile 8 out of 89\n",
      "On tile 9 out of 89\n",
      "On tile 10 out of 89\n",
      "On tile 11 out of 89\n",
      "On tile 12 out of 89\n",
      "On tile 13 out of 89\n",
      "On tile 14 out of 89\n",
      "On tile 15 out of 89\n",
      "On tile 16 out of 89\n",
      "On tile 17 out of 89\n",
      "On tile 18 out of 89\n",
      "On tile 19 out of 89\n",
      "On tile 20 out of 89\n",
      "On tile 21 out of 89\n",
      "On tile 22 out of 89\n",
      "On tile 23 out of 89\n",
      "On tile 24 out of 89\n",
      "On tile 25 out of 89\n",
      "On tile 26 out of 89\n",
      "On tile 27 out of 89\n",
      "On tile 28 out of 89\n",
      "On tile 29 out of 89\n",
      "On tile 30 out of 89\n",
      "On tile 31 out of 89\n",
      "On tile 32 out of 89\n",
      "issue with tile 11522105\n",
      "On tile 33 out of 89\n",
      "On tile 34 out of 89\n",
      "On tile 35 out of 89\n",
      "On tile 36 out of 89\n",
      "On tile 37 out of 89\n",
      "On tile 38 out of 89\n",
      "On tile 39 out of 89\n",
      "On tile 40 out of 89\n",
      "On tile 41 out of 89\n",
      "On tile 42 out of 89\n",
      "On tile 43 out of 89\n",
      "On tile 44 out of 89\n",
      "On tile 45 out of 89\n",
      "On tile 46 out of 89\n",
      "On tile 47 out of 89\n",
      "On tile 48 out of 89\n",
      "On tile 49 out of 89\n",
      "On tile 50 out of 89\n",
      "On tile 51 out of 89\n",
      "issue with tile 11522126\n",
      "On tile 52 out of 89\n",
      "On tile 53 out of 89\n",
      "On tile 54 out of 89\n",
      "On tile 55 out of 89\n",
      "On tile 56 out of 89\n",
      "On tile 57 out of 89\n",
      "On tile 58 out of 89\n",
      "On tile 59 out of 89\n",
      "On tile 60 out of 89\n",
      "On tile 61 out of 89\n",
      "On tile 62 out of 89\n",
      "On tile 63 out of 89\n",
      "On tile 64 out of 89\n",
      "On tile 65 out of 89\n",
      "On tile 66 out of 89\n",
      "On tile 67 out of 89\n",
      "On tile 68 out of 89\n",
      "On tile 69 out of 89\n",
      "On tile 70 out of 89\n",
      "On tile 71 out of 89\n",
      "On tile 72 out of 89\n",
      "On tile 73 out of 89\n",
      "On tile 74 out of 89\n",
      "On tile 75 out of 89\n",
      "On tile 76 out of 89\n",
      "On tile 77 out of 89\n",
      "On tile 78 out of 89\n",
      "On tile 79 out of 89\n",
      "On tile 80 out of 89\n",
      "On tile 81 out of 89\n",
      "On tile 82 out of 89\n",
      "On tile 83 out of 89\n",
      "On tile 84 out of 89\n",
      "On tile 85 out of 89\n",
      "On tile 86 out of 89\n",
      "On tile 87 out of 89\n",
      "On tile 88 out of 89\n"
     ]
    },
    {
     "name": "stderr",
     "output_type": "stream",
     "text": [
      "WARNING: AstropyDeprecationWarning: \"clobber\" was deprecated in version 2.0 and will be removed in a future version. Use argument \"overwrite\" instead. [__main__]\n"
     ]
    }
   ],
   "source": [
    "%run make_combined_map.py"
   ]
  },
  {
   "cell_type": "code",
   "execution_count": null,
   "metadata": {},
   "outputs": [],
   "source": []
  }
 ],
 "metadata": {
  "kernelspec": {
   "display_name": "Python (herschelhelp_internal)",
   "language": "python",
   "name": "helpint"
  },
  "language_info": {
   "codemirror_mode": {
    "name": "ipython",
    "version": 3
   },
   "file_extension": ".py",
   "mimetype": "text/x-python",
   "name": "python",
   "nbconvert_exporter": "python",
   "pygments_lexer": "ipython3",
   "version": "3.8.3"
  }
 },
 "nbformat": 4,
 "nbformat_minor": 4
}
