{
 "cells": [
  {
   "cell_type": "code",
   "execution_count": 4,
   "metadata": {},
   "outputs": [
    {
     "name": "stderr",
     "output_type": "stream",
     "text": [
      "WARNING: FITSFixedWarning: CRVAL1_0= 189.510377000 /CRVAL1 at Tue Jun 19 19:32:39 2018By: sjo \n",
      "keyword looks very much like CRVALia but isn't. [astropy.wcs.wcs]\n",
      "WARNING: FITSFixedWarning: CRVAL2_0= 62.4064600000 /CRVAL2 at Tue Jun 19 19:32:39 2018By: sjo \n",
      "keyword looks very much like CRVALia but isn't. [astropy.wcs.wcs]\n"
     ]
    },
    {
     "data": {
      "image/png": "[encoded data removed]",
      "text/plain": [
       "<Figure size 432x288 with 1 Axes>"
      ]
     },
     "metadata": {
      "needs_background": "light"
     },
     "output_type": "display_data"
    }
   ],
   "source": [
    "%run XID+MIPS_prior_mosaic.py"
   ]
  },
  {
   "cell_type": "code",
   "execution_count": 17,
   "metadata": {},
   "outputs": [
    {
     "name": "stderr",
     "output_type": "stream",
     "text": [
      "WARNING: FITSFixedWarning: CRVAL1_0= 189.510377000 /CRVAL1 at Tue Jun 19 19:32:39 2018By: sjo \n",
      "keyword looks very much like CRVALia but isn't. [astropy.wcs.wcs]\n",
      "WARNING: FITSFixedWarning: CRVAL2_0= 62.4064600000 /CRVAL2 at Tue Jun 19 19:32:39 2018By: sjo \n",
      "keyword looks very much like CRVALia but isn't. [astropy.wcs.wcs]\n"
     ]
    }
   ],
   "source": [
    "prior_MIPS.prior_cat(masterlist[1].data['ra'][good],masterlist[1].data['dec'][good],masterfile,flux_lower=MIPS_lower, flux_upper=MIPS_upper,ID=masterlist[1].data['help_id'][good])"
   ]
  },
  {
   "cell_type": "code",
   "execution_count": 18,
   "metadata": {},
   "outputs": [
    {
     "data": {
      "text/plain": [
       "array([189.03017039, 189.23236958, 189.24246019, ..., 189.17867959,\n",
       "       189.42026351, 189.30062512])"
      ]
     },
     "execution_count": 18,
     "metadata": {},
     "output_type": "execute_result"
    }
   ],
   "source": [
    "prior_MIPS.sra"
   ]
  },
  {
   "cell_type": "code",
   "execution_count": null,
   "metadata": {},
   "outputs": [],
   "source": []
  }
 ],
 "metadata": {
  "kernelspec": {
   "display_name": "Python 3",
   "language": "python",
   "name": "python3"
  },
  "language_info": {
   "codemirror_mode": {
    "name": "ipython",
    "version": 3
   },
   "file_extension": ".py",
   "mimetype": "text/x-python",
   "name": "python",
   "nbconvert_exporter": "python",
   "pygments_lexer": "ipython3",
   "version": "3.6.7"
  }
 },
 "nbformat": 4,
 "nbformat_minor": 2
}
