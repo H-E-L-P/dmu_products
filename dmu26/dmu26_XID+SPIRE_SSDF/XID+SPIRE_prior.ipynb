{
 "cells": [
  {
   "cell_type": "code",
   "execution_count": 1,
   "metadata": {
    "collapsed": true
   },
   "outputs": [],
   "source": [
    "import pylab as plt\n",
    "import pymoc\n",
    "import xidplus\n",
    "import numpy as np\n",
    "%matplotlib inline\n",
    "from astropy.table import Table, join"
   ]
  },
  {
   "cell_type": "code",
   "execution_count": 2,
   "metadata": {
    "collapsed": true
   },
   "outputs": [],
   "source": [
    "import seaborn as sns"
   ]
  },
  {
   "cell_type": "markdown",
   "metadata": {},
   "source": [
    "This notebook uses all the raw data from the CIGALE predictions and photoz catalogue, maps, PSF and relevant MOCs to create XID+ prior object and relevant tiling scheme"
   ]
  },
  {
   "cell_type": "markdown",
   "metadata": {},
   "source": [
    "## Read in MOCs\n",
    "The selection functions required are the main MOC associated with the masterlist. "
   ]
  },
  {
   "cell_type": "code",
   "execution_count": 3,
   "metadata": {
    "collapsed": true
   },
   "outputs": [],
   "source": [
    "Sel_func=pymoc.MOC()\n",
    "Sel_func.read('../../dmu4/dmu4_sm_SSDF/data/holes_SSDF_vista_ks_O16_20190207.fits')"
   ]
  },
  {
   "cell_type": "markdown",
   "metadata": {},
   "source": [
    "## Read in CIGALE predictions catalogue"
   ]
  },
  {
   "cell_type": "code",
   "execution_count": 4,
   "metadata": {
    "collapsed": true
   },
   "outputs": [],
   "source": [
    "cigale=Table.read('../../dmu28/dmu28_SSDF/data/SSDF_Ldust_prediction_results.fits')"
   ]
  },
  {
   "cell_type": "code",
   "execution_count": 5,
   "metadata": {
    "collapsed": true
   },
   "outputs": [],
   "source": [
    "cigale['id'].name = 'help_id'"
   ]
  },
  {
   "cell_type": "markdown",
   "metadata": {},
   "source": [
    "## Read in photoz"
   ]
  },
  {
   "cell_type": "code",
   "execution_count": 6,
   "metadata": {
    "collapsed": true
   },
   "outputs": [],
   "source": [
    "photoz=Table.read('../../dmu24/dmu24_SSDF/data/master_catalogue_ssdf_20180221_photoz_20180612_r_optimised.fits')"
   ]
  },
  {
   "cell_type": "code",
   "execution_count": 7,
   "metadata": {},
   "outputs": [
    {
     "data": {
      "text/html": [
       "<i>Table length=9268783</i>\n",
       "<table id=\"table139777570582992\" class=\"table-striped table-bordered table-condensed\">\n",
       "<thead><tr><th>help_id</th><th>RA</th><th>DEC</th><th>id</th><th>z1_median</th><th>z1_min</th><th>z1_max</th><th>z1_area</th><th>z2_median</th><th>z2_min</th><th>z2_max</th><th>z2_area</th><th>za_hb</th><th>chi_r_eazy</th><th>chi_r_atlas</th><th>chi_r_cosmos</th><th>chi_r_stellar</th><th>stellar_type</th></tr></thead>\n",
       "<thead><tr><th>bytes27</th><th>float64</th><th>float64</th><th>int64</th><th>float64</th><th>float64</th><th>float64</th><th>float64</th><th>float64</th><th>float64</th><th>float64</th><th>float64</th><th>float64</th><th>float64</th><th>float64</th><th>float64</th><th>float64</th><th>bytes6</th></tr></thead>\n",
       "<tr><td>HELP_J233046.211-554436.971</td><td>352.6925478135397</td><td>-55.7436030183174</td><td>3354518</td><td>0.4306</td><td>0.2345</td><td>0.6214</td><td>0.794</td><td>-99.0</td><td>-99.0</td><td>-99.0</td><td>-99.0</td><td>0.43829169565515985</td><td>0.2134987777777778</td><td>0.20562233333333332</td><td>0.35547</td><td>1.6260357142857145</td><td>rk5iii</td></tr>\n",
       "<tr><td>HELP_J000428.390-544908.929</td><td>1.1182918048766741</td><td>-54.81914694924311</td><td>3354519</td><td>0.3603</td><td>0.2382</td><td>0.4732</td><td>0.789</td><td>-99.0</td><td>-99.0</td><td>-99.0</td><td>-99.0</td><td>0.3792211574271206</td><td>0.24826016666666664</td><td>1.4975116666666668</td><td>0.7845211666666666</td><td>14.168966666666668</td><td>m2iii</td></tr>\n",
       "<tr><td>HELP_J230617.228-545328.558</td><td>346.5717848757397</td><td>-54.891266033293626</td><td>3354520</td><td>0.662</td><td>0.4</td><td>0.9406</td><td>0.789</td><td>0.2951</td><td>0.2913</td><td>0.299</td><td>0.001</td><td>0.631120927477367</td><td>0.2716274444444444</td><td>0.55524</td><td>0.4017435555555556</td><td>3.007298571428571</td><td>k5iii</td></tr>\n",
       "<tr><td>HELP_J235832.822-561508.417</td><td>359.6367578747355</td><td>-56.25233804112545</td><td>3354521</td><td>0.1678</td><td>0.115</td><td>0.2271</td><td>0.788</td><td>-99.0</td><td>-99.0</td><td>-99.0</td><td>-99.0</td><td>0.1627349543459849</td><td>12.323577777777778</td><td>10.069453333333334</td><td>14.78808888888889</td><td>3.787782857142857</td><td>m0v</td></tr>\n",
       "<tr><td>HELP_J234637.587-585945.798</td><td>356.6566139077836</td><td>-58.99605497697675</td><td>3354522</td><td>0.3602</td><td>0.2951</td><td>0.4297</td><td>0.64</td><td>0.4674</td><td>0.4383</td><td>0.4954</td><td>0.144</td><td>0.3546537780021313</td><td>32.63748888888889</td><td>22.70583333333333</td><td>24.749022222222223</td><td>3.921338571428571</td><td>m3v</td></tr>\n",
       "<tr><td>HELP_J000430.911-514713.884</td><td>1.1287976875613008</td><td>-51.78719002265701</td><td>3354523</td><td>0.7543</td><td>0.636</td><td>0.8609</td><td>0.674</td><td>0.9201</td><td>0.8947</td><td>0.9464</td><td>0.094</td><td>0.795213132021387</td><td>7.430038333333333</td><td>7.107248333333334</td><td>5.843703333333334</td><td>1.3642273333333332</td><td>m4v</td></tr>\n",
       "<tr><td>HELP_J235642.256-584052.673</td><td>359.17606484583314</td><td>-58.681297935010775</td><td>3354524</td><td>0.5717</td><td>0.3265</td><td>0.7898</td><td>0.789</td><td>0.2951</td><td>0.2913</td><td>0.299</td><td>0.002</td><td>0.568823299053812</td><td>0.1163200875</td><td>1.0550925</td><td>0.840755</td><td>1.0847035</td><td>m1iii</td></tr>\n",
       "<tr><td>HELP_J232606.428-522708.917</td><td>351.5267848524185</td><td>-52.452477070078615</td><td>3354525</td><td>0.3033</td><td>0.2162</td><td>0.3834</td><td>0.791</td><td>-99.0</td><td>-99.0</td><td>-99.0</td><td>-99.0</td><td>0.3186207796877177</td><td>1.8005855555555554</td><td>0.7172803333333334</td><td>1.540791111111111</td><td>12.345702857142857</td><td>m0iii</td></tr>\n",
       "<tr><td>HELP_J232652.351-514004.375</td><td>351.7181308281316</td><td>-51.667881913542985</td><td>3354526</td><td>0.2082</td><td>0.1627</td><td>0.2683</td><td>0.793</td><td>-99.0</td><td>-99.0</td><td>-99.0</td><td>-99.0</td><td>0.2089069038476353</td><td>19.133133333333333</td><td>14.482</td><td>16.02061111111111</td><td>3.9958057142857144</td><td>m1v</td></tr>\n",
       "<tr><td>HELP_J225933.260-532012.473</td><td>344.8885837661064</td><td>-53.33679809407603</td><td>3354527</td><td>0.3636</td><td>0.2382</td><td>0.482</td><td>0.795</td><td>-99.0</td><td>-99.0</td><td>-99.0</td><td>-99.0</td><td>0.3506019720858737</td><td>0.950896111111111</td><td>0.5199983333333333</td><td>1.7773866666666667</td><td>3.8328457142857144</td><td>k3iii</td></tr>\n",
       "<tr><td>...</td><td>...</td><td>...</td><td>...</td><td>...</td><td>...</td><td>...</td><td>...</td><td>...</td><td>...</td><td>...</td><td>...</td><td>...</td><td>...</td><td>...</td><td>...</td><td>...</td><td>...</td></tr>\n",
       "<tr><td>HELP_J235255.872-561532.800</td><td>358.23280079239646</td><td>-56.2591110007209</td><td>12651830</td><td>2.2112</td><td>0.6657</td><td>3.897</td><td>0.797</td><td>-99.0</td><td>-99.0</td><td>-99.0</td><td>-99.0</td><td>1.881797323631076</td><td>-99.0</td><td>-99.0</td><td>-99.0</td><td>-99.0</td><td></td></tr>\n",
       "<tr><td>HELP_J232304.907-562325.609</td><td>350.77044379239646</td><td>-56.3904470007209</td><td>12651831</td><td>2.2872</td><td>0.6707</td><td>4.061</td><td>0.8</td><td>-99.0</td><td>-99.0</td><td>-99.0</td><td>-99.0</td><td>1.9252844244977747</td><td>-99.0</td><td>-99.0</td><td>-99.0</td><td>-99.0</td><td></td></tr>\n",
       "<tr><td>HELP_J232436.974-543149.109</td><td>351.15405979239654</td><td>-54.5303080007209</td><td>12651832</td><td>2.268</td><td>0.6707</td><td>4.0158</td><td>0.798</td><td>-99.0</td><td>-99.0</td><td>-99.0</td><td>-99.0</td><td>1.9165348200376617</td><td>-99.0</td><td>-99.0</td><td>-99.0</td><td>-99.0</td><td></td></tr>\n",
       "<tr><td>HELP_J000442.580-574455.486</td><td>1.1774177923964877</td><td>-57.7487460007209</td><td>12651833</td><td>2.2522</td><td>0.6657</td><td>3.9858</td><td>0.799</td><td>-99.0</td><td>-99.0</td><td>-99.0</td><td>-99.0</td><td>1.9078113858800216</td><td>-99.0</td><td>-99.0</td><td>-99.0</td><td>-99.0</td><td></td></tr>\n",
       "<tr><td>HELP_J233912.676-520413.703</td><td>354.80281779239647</td><td>-52.070473000720895</td><td>12651834</td><td>2.3427</td><td>0.6807</td><td>4.1683</td><td>0.797</td><td>-99.0</td><td>-99.0</td><td>-99.0</td><td>-99.0</td><td>1.9516910459803958</td><td>-99.0</td><td>-99.0</td><td>-99.0</td><td>-99.0</td><td></td></tr>\n",
       "<tr><td>HELP_J225556.367-572832.081</td><td>343.9848637923965</td><td>-57.4755780007209</td><td>12651835</td><td>2.3657</td><td>0.6807</td><td>4.2149</td><td>0.797</td><td>-99.0</td><td>-99.0</td><td>-99.0</td><td>-99.0</td><td>1.969427757475692</td><td>-99.0</td><td>-99.0</td><td>-99.0</td><td>-99.0</td><td></td></tr>\n",
       "<tr><td>HELP_J235626.402-570854.301</td><td>359.11000879239646</td><td>-57.1484170007209</td><td>12651836</td><td>2.4647</td><td>0.6908</td><td>4.422</td><td>0.799</td><td>-99.0</td><td>-99.0</td><td>-99.0</td><td>-99.0</td><td>2.0142372252848344</td><td>-99.0</td><td>-99.0</td><td>-99.0</td><td>-99.0</td><td></td></tr>\n",
       "<tr><td>HELP_J235028.194-504605.596</td><td>357.6174747923965</td><td>-50.7682210007209</td><td>12651838</td><td>2.5145</td><td>0.701</td><td>4.5203</td><td>0.799</td><td>-99.0</td><td>-99.0</td><td>-99.0</td><td>-99.0</td><td>2.0414468261018857</td><td>-99.0</td><td>-99.0</td><td>-99.0</td><td>-99.0</td><td></td></tr>\n",
       "<tr><td>HELP_J232300.159-564708.905</td><td>350.7506627923965</td><td>-56.7858070007209</td><td>12651842</td><td>2.5672</td><td>0.7112</td><td>4.6205</td><td>0.798</td><td>-99.0</td><td>-99.0</td><td>-99.0</td><td>-99.0</td><td>2.0689020487201715</td><td>-99.0</td><td>-99.0</td><td>-99.0</td><td>-99.0</td><td></td></tr>\n",
       "<tr><td>HELP_J233320.525-495428.292</td><td>353.33552279239655</td><td>-49.9078590007209</td><td>12651843</td><td>2.9035</td><td>0.806</td><td>5.223</td><td>0.797</td><td>-99.0</td><td>-99.0</td><td>-99.0</td><td>-99.0</td><td>2.229229330619563</td><td>-99.0</td><td>-99.0</td><td>-99.0</td><td>-99.0</td><td></td></tr>\n",
       "</table>"
      ],
      "text/plain": [
       "<Table length=9268783>\n",
       "          help_id                   RA         ... stellar_type\n",
       "          bytes27                float64       ...    bytes6   \n",
       "--------------------------- ------------------ ... ------------\n",
       "HELP_J233046.211-554436.971  352.6925478135397 ...       rk5iii\n",
       "HELP_J000428.390-544908.929 1.1182918048766741 ...        m2iii\n",
       "HELP_J230617.228-545328.558  346.5717848757397 ...        k5iii\n",
       "HELP_J235832.822-561508.417  359.6367578747355 ...          m0v\n",
       "HELP_J234637.587-585945.798  356.6566139077836 ...          m3v\n",
       "HELP_J000430.911-514713.884 1.1287976875613008 ...          m4v\n",
       "HELP_J235642.256-584052.673 359.17606484583314 ...        m1iii\n",
       "HELP_J232606.428-522708.917  351.5267848524185 ...        m0iii\n",
       "HELP_J232652.351-514004.375  351.7181308281316 ...          m1v\n",
       "HELP_J225933.260-532012.473  344.8885837661064 ...        k3iii\n",
       "                        ...                ... ...          ...\n",
       "HELP_J235255.872-561532.800 358.23280079239646 ...             \n",
       "HELP_J232304.907-562325.609 350.77044379239646 ...             \n",
       "HELP_J232436.974-543149.109 351.15405979239654 ...             \n",
       "HELP_J000442.580-574455.486 1.1774177923964877 ...             \n",
       "HELP_J233912.676-520413.703 354.80281779239647 ...             \n",
       "HELP_J225556.367-572832.081  343.9848637923965 ...             \n",
       "HELP_J235626.402-570854.301 359.11000879239646 ...             \n",
       "HELP_J235028.194-504605.596  357.6174747923965 ...             \n",
       "HELP_J232300.159-564708.905  350.7506627923965 ...             \n",
       "HELP_J233320.525-495428.292 353.33552279239655 ...             "
      ]
     },
     "execution_count": 7,
     "metadata": {},
     "output_type": "execute_result"
    }
   ],
   "source": [
    "photoz"
   ]
  },
  {
   "cell_type": "markdown",
   "metadata": {},
   "source": [
    "## Join CIGALE and photoz tables"
   ]
  },
  {
   "cell_type": "code",
   "execution_count": null,
   "metadata": {
    "collapsed": true
   },
   "outputs": [],
   "source": [
    "prior=join(cigale,photoz)"
   ]
  },
  {
   "cell_type": "code",
   "execution_count": null,
   "metadata": {
    "collapsed": true
   },
   "outputs": [],
   "source": [
    "from astropy.cosmology import Planck15 as cosmo\n",
    "from astropy import units as u\n",
    "f_pred=prior['bayes.dust.luminosity']/(4*np.pi*cosmo.luminosity_distance(prior['z1_median']).to(u.cm))"
   ]
  },
  {
   "cell_type": "code",
   "execution_count": null,
   "metadata": {
    "collapsed": true
   },
   "outputs": [],
   "source": [
    "prior=prior[np.isfinite(f_pred.value)][np.log10(f_pred.value[np.isfinite(f_pred.value)])>8.5]"
   ]
  },
  {
   "cell_type": "code",
   "execution_count": null,
   "metadata": {
    "collapsed": true
   },
   "outputs": [],
   "source": [
    "prior['DEC'].name='Dec'"
   ]
  },
  {
   "cell_type": "code",
   "execution_count": 13,
   "metadata": {},
   "outputs": [
    {
     "data": {
      "text/plain": [
       "4436690"
      ]
     },
     "execution_count": 13,
     "metadata": {},
     "output_type": "execute_result"
    }
   ],
   "source": [
    "len(cigale)"
   ]
  },
  {
   "cell_type": "markdown",
   "metadata": {},
   "source": [
    "## Read in Maps"
   ]
  },
  {
   "cell_type": "code",
   "execution_count": 14,
   "metadata": {
    "collapsed": true
   },
   "outputs": [],
   "source": [
    "pswfits='../../dmu19/dmu19_HELP-SPIRE-maps/data/SSDF_SPIRE250_v1.0.fits'#SPIRE 250 map\n",
    "pmwfits='../../dmu19/dmu19_HELP-SPIRE-maps/data/SSDF_SPIRE350_v1.0.fits'#SPIRE 350 map\n",
    "plwfits='../../dmu19/dmu19_HELP-SPIRE-maps/data/SSDF_SPIRE500_v1.0.fits'#SPIRE 500 map\n",
    "\n",
    "#output folder\n",
    "output_folder='./'"
   ]
  },
  {
   "cell_type": "code",
   "execution_count": 15,
   "metadata": {
    "collapsed": true
   },
   "outputs": [],
   "source": [
    "from astropy.io import fits\n",
    "from astropy import wcs\n",
    "\n",
    "#-----250-------------\n",
    "hdulist = fits.open(pswfits)\n",
    "im250phdu=hdulist[0].header\n",
    "im250hdu=hdulist[1].header\n",
    "\n",
    "im250=hdulist[1].data*1.0E3 #convert to mJy\n",
    "nim250=hdulist[3].data*1.0E3 #convert to mJy\n",
    "w_250 = wcs.WCS(hdulist[1].header)\n",
    "pixsize250=3600.0*w_250.wcs.cdelt #pixel size (in arcseconds)\n",
    "hdulist.close()\n",
    "#-----350-------------\n",
    "hdulist = fits.open(pmwfits)\n",
    "im350phdu=hdulist[0].header\n",
    "im350hdu=hdulist[1].header\n",
    "\n",
    "im350=hdulist[1].data*1.0E3 #convert to mJy\n",
    "nim350=hdulist[3].data*1.0E3 #convert to mJy\n",
    "w_350 = wcs.WCS(hdulist[1].header)\n",
    "pixsize350=3600.0*w_350.wcs.cdelt #pixel size (in arcseconds)\n",
    "hdulist.close()\n",
    "#-----500-------------\n",
    "hdulist = fits.open(plwfits)\n",
    "im500phdu=hdulist[0].header\n",
    "im500hdu=hdulist[1].header\n",
    "im500=hdulist[1].data*1.0E3 #convert to mJy\n",
    "nim500=hdulist[3].data*1.0E3 #convert to mJy\n",
    "w_500 = wcs.WCS(hdulist[1].header)\n",
    "pixsize500=3600.0*w_500.wcs.cdelt #pixel size (in arcseconds)\n",
    "hdulist.close()"
   ]
  },
  {
   "cell_type": "code",
   "execution_count": 16,
   "metadata": {
    "collapsed": true
   },
   "outputs": [],
   "source": [
    "## Set XID+ prior class"
   ]
  },
  {
   "cell_type": "code",
   "execution_count": 17,
   "metadata": {
    "collapsed": true
   },
   "outputs": [],
   "source": [
    "#---prior250--------\n",
    "prior250=xidplus.prior(im250,nim250,im250phdu,im250hdu, moc=Sel_func)#Initialise with map, uncertianty map, wcs info and primary header\n",
    "prior250.prior_cat(prior['RA'] ,prior['Dec'] ,'SSDF_Ldust_prediction_results.fits',ID=prior['help_id'] )#Set input catalogue\n",
    "prior250.prior_bkg(-5.0,5)#Set prior on background (assumes Gaussian pdf with mu and sigma)\n",
    "#---prior350--------\n",
    "prior350=xidplus.prior(im350,nim350,im350phdu,im350hdu, moc=Sel_func)\n",
    "prior350.prior_cat(prior['RA'] ,prior['Dec'] ,'SSDF_Ldust_prediction_results.fits',ID=prior['help_id'] )\n",
    "prior350.prior_bkg(-5.0,5)\n",
    "\n",
    "#---prior500--------\n",
    "prior500=xidplus.prior(im500,nim500,im500phdu,im500hdu, moc=Sel_func)\n",
    "prior500.prior_cat(prior['RA'] ,prior['Dec'] ,'SSDF_Ldust_prediction_results.fits',ID=prior['help_id'] )\n",
    "prior500.prior_bkg(-5.0,5)"
   ]
  },
  {
   "cell_type": "code",
   "execution_count": 18,
   "metadata": {
    "collapsed": true
   },
   "outputs": [],
   "source": [
    "#pixsize array (size of pixels in arcseconds)\n",
    "pixsize=np.array([pixsize250,pixsize350,pixsize500])\n",
    "#point response function for the three bands\n",
    "prfsize=np.array([18.15,25.15,36.3])\n",
    "#use Gaussian2DKernel to create prf (requires stddev rather than fwhm hence pfwhm/2.355)\n",
    "from astropy.convolution import Gaussian2DKernel\n",
    "\n",
    "##---------fit using Gaussian beam-----------------------\n",
    "prf250=Gaussian2DKernel(prfsize[0]/2.355,x_size=101,y_size=101)\n",
    "prf250.normalize(mode='peak')\n",
    "prf350=Gaussian2DKernel(prfsize[1]/2.355,x_size=101,y_size=101)\n",
    "prf350.normalize(mode='peak')\n",
    "prf500=Gaussian2DKernel(prfsize[2]/2.355,x_size=101,y_size=101)\n",
    "prf500.normalize(mode='peak')\n",
    "\n",
    "pind250=np.arange(0,101,1)*1.0/pixsize[0,1] #get 250 scale in terms of pixel scale of map\n",
    "pind350=np.arange(0,101,1)*1.0/pixsize[1,1] #get 350 scale in terms of pixel scale of map\n",
    "pind500=np.arange(0,101,1)*1.0/pixsize[2,1] #get 500 scale in terms of pixel scale of map\n",
    "\n",
    "prior250.set_prf(prf250.array,pind250,pind250)#requires psf as 2d grid, and x and y bins for grid (in pixel scale)\n",
    "prior350.set_prf(prf350.array,pind350,pind350)\n",
    "prior500.set_prf(prf500.array,pind500,pind500)"
   ]
  },
  {
   "cell_type": "code",
   "execution_count": 19,
   "metadata": {},
   "outputs": [
    {
     "name": "stdout",
     "output_type": "stream",
     "text": [
      "----- There are 18279 tiles required for input catalogue and 379 large tiles\n",
      "writing total_bytes=5118646130...\n",
      "writing bytes [0, 1073741824)... done.\n",
      "writing bytes [1073741824, 2147483648)... done.\n",
      "writing bytes [2147483648, 3221225472)... done.\n",
      "writing bytes [3221225472, 4294967296)... done.\n",
      "writing bytes [4294967296, 5118646130)... done.\n"
     ]
    },
    {
     "ename": "SystemExit",
     "evalue": "",
     "output_type": "error",
     "traceback": [
      "An exception has occurred, use %tb to see the full traceback.\n",
      "\u001b[0;31mSystemExit\u001b[0m\n"
     ]
    }
   ],
   "source": [
    "import pickle\n",
    "#from moc, get healpix pixels at a given order\n",
    "from xidplus import moc_routines\n",
    "order=9\n",
    "tiles=moc_routines.get_HEALPix_pixels(order,prior250.sra,prior250.sdec,unique=True)\n",
    "order_large=6\n",
    "tiles_large=moc_routines.get_HEALPix_pixels(order_large,prior250.sra,prior250.sdec,unique=True)\n",
    "print('----- There are '+str(len(tiles))+' tiles required for input catalogue and '+str(len(tiles_large))+' large tiles')\n",
    "output_folder='./'\n",
    "outfile=output_folder+'Master_prior.pkl'\n",
    "xidplus.io.pickle_dump({'priors':[prior250,prior350,prior500],'tiles':tiles,'order':order,'version':xidplus.io.git_version()},outfile)\n",
    "outfile=output_folder+'Tiles.pkl'\n",
    "with open(outfile, 'wb') as f:\n",
    "    pickle.dump({'tiles':tiles,'order':order,'tiles_large':tiles_large,'order_large':order_large,'version':xidplus.io.git_version()},f)\n",
    "raise SystemExit()"
   ]
  },
  {
   "cell_type": "code",
   "execution_count": 57,
   "metadata": {},
   "outputs": [
    {
     "data": {
      "text/plain": [
       "1236678"
      ]
     },
     "execution_count": 57,
     "metadata": {},
     "output_type": "execute_result"
    }
   ],
   "source": [
    "prior250.nsrc"
   ]
  },
  {
   "cell_type": "code",
   "execution_count": null,
   "metadata": {
    "collapsed": true
   },
   "outputs": [],
   "source": []
  }
 ],
 "metadata": {
  "kernelspec": {
   "display_name": "Python (herschelhelp_internal)",
   "language": "python",
   "name": "helpint"
  },
  "language_info": {
   "codemirror_mode": {
    "name": "ipython",
    "version": 3
   },
   "file_extension": ".py",
   "mimetype": "text/x-python",
   "name": "python",
   "nbconvert_exporter": "python",
   "pygments_lexer": "ipython3",
   "version": "3.6.7"
  }
 },
 "nbformat": 4,
 "nbformat_minor": 2
}
