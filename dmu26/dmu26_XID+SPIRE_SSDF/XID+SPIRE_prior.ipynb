{
 "cells": [
  {
   "cell_type": "code",
   "execution_count": 1,
   "metadata": {
    "collapsed": true
   },
   "outputs": [],
   "source": [
    "import pylab as plt\n",
    "import pymoc\n",
    "import xidplus\n",
    "import numpy as np\n",
    "%matplotlib inline\n",
    "from astropy.table import Table, join"
   ]
  },
  {
   "cell_type": "code",
   "execution_count": 2,
   "metadata": {
    "collapsed": true
   },
   "outputs": [],
   "source": [
    "import seaborn as sns"
   ]
  },
  {
   "cell_type": "markdown",
   "metadata": {},
   "source": [
    "This notebook uses all the raw data from the CIGALE predictions and photoz catalogue, maps, PSF and relevant MOCs to create XID+ prior object and relevant tiling scheme"
   ]
  },
  {
   "cell_type": "markdown",
   "metadata": {},
   "source": [
    "## Read in MOCs\n",
    "The selection functions required are the main MOC associated with the masterlist. "
   ]
  },
  {
   "cell_type": "code",
   "execution_count": 3,
   "metadata": {
    "collapsed": true
   },
   "outputs": [],
   "source": [
    "Sel_func=pymoc.MOC()\n",
    "Sel_func.read('../../dmu4/dmu4_sm_SGP/data/holes_SGP_vista_ks_20180509_O16_MOC.fits')"
   ]
  },
  {
   "cell_type": "markdown",
   "metadata": {},
   "source": [
    "## Read in CIGALE predictions catalogue"
   ]
  },
  {
   "cell_type": "code",
   "execution_count": 4,
   "metadata": {
    "collapsed": true
   },
   "outputs": [],
   "source": [
    "cigale=Table.read('../../dmu28/dmu28_SSDF/data/hatlas_ssdf_Ldust_prediction_results.fits')"
   ]
  },
  {
   "cell_type": "code",
   "execution_count": 5,
   "metadata": {
    "collapsed": true
   },
   "outputs": [],
   "source": [
    "cigale['id'].name = 'help_id'"
   ]
  },
  {
   "cell_type": "markdown",
   "metadata": {},
   "source": [
    "## Read in photoz"
   ]
  },
  {
   "cell_type": "code",
   "execution_count": 6,
   "metadata": {
    "collapsed": true
   },
   "outputs": [],
   "source": [
    "photoz=Table.read('../../dmu24/dmu24_SSDF/data/master_catalogue_ssdf_20180221_photoz_20180612_r_optimised.fits')"
   ]
  },
  {
   "cell_type": "code",
   "execution_count": 7,
   "metadata": {},
   "outputs": [
    {
     "data": {
      "text/html": [
       "&lt;Table length=17057212&gt;\n",
       "<table id=\"table4834532544\" class=\"table-striped table-bordered table-condensed\">\n",
       "<thead><tr><th>help_id</th><th>RA</th><th>DEC</th><th>id</th><th>z1_median</th><th>z1_min</th><th>z1_max</th><th>z1_area</th><th>z2_median</th><th>z2_min</th><th>z2_max</th><th>z2_area</th><th>za_hb</th><th>chi_r_eazy</th><th>chi_r_atlas</th><th>chi_r_cosmos</th><th>chi_r_stellar</th><th>stellar_type</th></tr></thead>\n",
       "<thead><tr><th>str27</th><th>float64</th><th>float64</th><th>int64</th><th>float64</th><th>float64</th><th>float64</th><th>float64</th><th>float64</th><th>float64</th><th>float64</th><th>float64</th><th>float64</th><th>float64</th><th>float64</th><th>float64</th><th>float64</th><th>str6</th></tr></thead>\n",
       "<tr><td>HELP_J000034.399-292559.520</td><td>0.143327990467</td><td>-29.4332000185</td><td>749</td><td>0.1817</td><td>0.066</td><td>0.3068</td><td>0.795</td><td>-99.0</td><td>-99.0</td><td>-99.0</td><td>-99.0</td><td>0.159257182798</td><td>0.23267745</td><td>0.10496575</td><td>0.72783425</td><td>8.409065</td><td>k4i</td></tr>\n",
       "<tr><td>HELP_J000023.158-295010.568</td><td>0.0964932450257</td><td>-29.8362688223</td><td>1027</td><td>0.4319</td><td>0.1697</td><td>0.7112</td><td>0.795</td><td>-99.0</td><td>-99.0</td><td>-99.0</td><td>-99.0</td><td>0.404234079574</td><td>-99.0</td><td>-99.0</td><td>-99.0</td><td>-99.0</td><td></td></tr>\n",
       "<tr><td>HELP_J000005.462-295122.335</td><td>0.0227600836353</td><td>-29.8562042667</td><td>1085</td><td>0.5612</td><td>0.2162</td><td>0.929</td><td>0.797</td><td>-99.0</td><td>-99.0</td><td>-99.0</td><td>-99.0</td><td>0.522525938906</td><td>-99.0</td><td>-99.0</td><td>-99.0</td><td>-99.0</td><td></td></tr>\n",
       "<tr><td>HELP_J000051.301-291551.140</td><td>0.213755113372</td><td>-29.2642055793</td><td>1395</td><td>0.6162</td><td>0.2345</td><td>1.0237</td><td>0.799</td><td>-99.0</td><td>-99.0</td><td>-99.0</td><td>-99.0</td><td>0.568823299054</td><td>-99.0</td><td>-99.0</td><td>-99.0</td><td>-99.0</td><td></td></tr>\n",
       "<tr><td>HELP_J000007.372-304303.633</td><td>0.0307178887805</td><td>-30.7176758651</td><td>1426</td><td>0.7514</td><td>0.5877</td><td>0.9061</td><td>0.79</td><td>-99.0</td><td>-99.0</td><td>-99.0</td><td>-99.0</td><td>0.789843601218</td><td>12.7088585714</td><td>10.3248642857</td><td>9.94852428571</td><td>4.85362714286</td><td>m4v</td></tr>\n",
       "<tr><td>HELP_J000007.404-304200.072</td><td>0.030848028776</td><td>-30.7000199487</td><td>1429</td><td>0.4737</td><td>0.2198</td><td>0.7112</td><td>0.795</td><td>-99.0</td><td>-99.0</td><td>-99.0</td><td>-99.0</td><td>0.438291695655</td><td>0.260860428571</td><td>0.434253142857</td><td>0.400822857143</td><td>0.740359</td><td>k7v</td></tr>\n",
       "<tr><td>HELP_J000007.125-305610.210</td><td>0.029689012927</td><td>-30.9361693546</td><td>1430</td><td>0.8164</td><td>0.3068</td><td>1.3648</td><td>0.797</td><td>-99.0</td><td>-99.0</td><td>-99.0</td><td>-99.0</td><td>0.721483855642</td><td>0.70108575</td><td>1.13647675</td><td>0.69995475</td><td>2.820445</td><td>m0iii</td></tr>\n",
       "<tr><td>HELP_J000007.269-304335.704</td><td>0.0302890794322</td><td>-30.7265845696</td><td>1437</td><td>0.9796</td><td>0.3587</td><td>1.642</td><td>0.797</td><td>-99.0</td><td>-99.0</td><td>-99.0</td><td>-99.0</td><td>0.94644083855</td><td>0.518284</td><td>0.47864975</td><td>0.2708165</td><td>3.6958875</td><td>m6iii</td></tr>\n",
       "<tr><td>HELP_J000007.195-304537.048</td><td>0.0299783907374</td><td>-30.7602909921</td><td>1438</td><td>0.3343</td><td>0.1662</td><td>0.4999</td><td>0.796</td><td>-99.0</td><td>-99.0</td><td>-99.0</td><td>-99.0</td><td>0.42116086894</td><td>0.65577025</td><td>1.40075625</td><td>2.11645</td><td>5.7564925</td><td>wk0iii</td></tr>\n",
       "<tr><td>HELP_J000007.684-304103.974</td><td>0.0320155135818</td><td>-30.6844371626</td><td>1446</td><td>0.9636</td><td>0.3917</td><td>1.5564</td><td>0.796</td><td>-99.0</td><td>-99.0</td><td>-99.0</td><td>-99.0</td><td>0.987685818393</td><td>0.295056166667</td><td>0.502484</td><td>0.267478666667</td><td>2.26358</td><td>m5iii</td></tr>\n",
       "<tr><td>...</td><td>...</td><td>...</td><td>...</td><td>...</td><td>...</td><td>...</td><td>...</td><td>...</td><td>...</td><td>...</td><td>...</td><td>...</td><td>...</td><td>...</td><td>...</td><td>...</td><td>...</td></tr>\n",
       "<tr><td>HELP_J000616.858-360123.179</td><td>1.5702412738</td><td>-36.0231052777</td><td>29790681</td><td>0.9254</td><td>0.3345</td><td>1.5641</td><td>0.797</td><td>-99.0</td><td>-99.0</td><td>-99.0</td><td>-99.0</td><td>0.838753365465</td><td>-99.0</td><td>-99.0</td><td>-99.0</td><td>-99.0</td><td></td></tr>\n",
       "<tr><td>HELP_J000621.150-360124.979</td><td>1.5881262738</td><td>-36.0236052777</td><td>29790682</td><td>0.7032</td><td>0.3147</td><td>1.0978</td><td>0.775</td><td>0.2812</td><td>0.2607</td><td>0.3029</td><td>0.02</td><td>0.670681347736</td><td>0.00567856</td><td>0.129375825</td><td>0.14911135</td><td>2.4331595</td><td>m1iii</td></tr>\n",
       "<tr><td>HELP_J000623.672-360128.784</td><td>1.5986332738</td><td>-36.0246622777</td><td>29790683</td><td>0.9332</td><td>0.3792</td><td>1.5564</td><td>0.8</td><td>-99.0</td><td>-99.0</td><td>-99.0</td><td>-99.0</td><td>0.849802434438</td><td>0.22141875</td><td>0.7487455</td><td>0.818444</td><td>1.8933915</td><td>m3iii</td></tr>\n",
       "<tr><td>HELP_J000616.778-360129.648</td><td>1.5699072738</td><td>-36.0249022777</td><td>29790684</td><td>0.7169</td><td>0.2683</td><td>1.2074</td><td>0.796</td><td>-99.0</td><td>-99.0</td><td>-99.0</td><td>-99.0</td><td>0.665684294852</td><td>0.02840745</td><td>0.040519625</td><td>0.095502475</td><td>0.1588414</td><td>k3v</td></tr>\n",
       "<tr><td>HELP_J000624.928-360147.048</td><td>1.60386566449</td><td>-36.0297356518</td><td>29790685</td><td>0.1432</td><td>0.0756</td><td>0.2089</td><td>0.791</td><td>-99.0</td><td>-99.0</td><td>-99.0</td><td>-99.0</td><td>0.142023735815</td><td>0.0464150428571</td><td>0.144186428571</td><td>0.150534428571</td><td>1.51117285714</td><td>g8iv</td></tr>\n",
       "<tr><td>HELP_J000622.662-360153.451</td><td>1.5944232738</td><td>-36.0315142777</td><td>29790686</td><td>0.8761</td><td>0.3305</td><td>1.4368</td><td>0.798</td><td>-99.0</td><td>-99.0</td><td>-99.0</td><td>-99.0</td><td>0.911769857503</td><td>4.4382975e-05</td><td>0.015983705</td><td>0.01998447</td><td>4.7078</td><td>wk3iii</td></tr>\n",
       "<tr><td>HELP_J000624.022-360154.474</td><td>1.6000900605</td><td>-36.031798257</td><td>29790687</td><td>0.5449</td><td>0.2125</td><td>0.9004</td><td>0.796</td><td>-99.0</td><td>-99.0</td><td>-99.0</td><td>-99.0</td><td>0.412672122158</td><td>2.233412</td><td>2.353322</td><td>2.374944</td><td>2.970864</td><td>g0i</td></tr>\n",
       "<tr><td>HELP_J000624.354-360155.903</td><td>1.6014732738</td><td>-36.0321952777</td><td>29790688</td><td>1.0876</td><td>0.3917</td><td>1.8475</td><td>0.797</td><td>-99.0</td><td>-99.0</td><td>-99.0</td><td>-99.0</td><td>0.969903446791</td><td>0.003519005</td><td>0.001988316</td><td>0.0004089315</td><td>0.082182625</td><td>m5iii</td></tr>\n",
       "<tr><td>HELP_J000624.019-360158.218</td><td>1.6000792738</td><td>-36.0328382777</td><td>29790689</td><td>1.0524</td><td>0.4</td><td>1.7717</td><td>0.796</td><td>-99.0</td><td>-99.0</td><td>-99.0</td><td>-99.0</td><td>0.923257682576</td><td>0.08627845</td><td>0.0742238</td><td>0.002291499</td><td>0.418724</td><td>m5iii</td></tr>\n",
       "<tr><td>HELP_J000623.530-360201.217</td><td>1.5980432738</td><td>-36.0336712777</td><td>29790690</td><td>0.7365</td><td>0.2797</td><td>1.2273</td><td>0.797</td><td>-99.0</td><td>-99.0</td><td>-99.0</td><td>-99.0</td><td>0.721483855642</td><td>0.025713325</td><td>0.14317925</td><td>0.35513275</td><td>1.31836775</td><td>wk4iii</td></tr>\n",
       "</table>"
      ],
      "text/plain": [
       "<Table length=17057212>\n",
       "          help_id                  RA       ... chi_r_stellar stellar_type\n",
       "           str27                float64     ...    float64        str6    \n",
       "--------------------------- --------------- ... ------------- ------------\n",
       "HELP_J000034.399-292559.520  0.143327990467 ...      8.409065          k4i\n",
       "HELP_J000023.158-295010.568 0.0964932450257 ...         -99.0             \n",
       "HELP_J000005.462-295122.335 0.0227600836353 ...         -99.0             \n",
       "HELP_J000051.301-291551.140  0.213755113372 ...         -99.0             \n",
       "HELP_J000007.372-304303.633 0.0307178887805 ... 4.85362714286          m4v\n",
       "HELP_J000007.404-304200.072  0.030848028776 ...      0.740359          k7v\n",
       "HELP_J000007.125-305610.210  0.029689012927 ...      2.820445        m0iii\n",
       "HELP_J000007.269-304335.704 0.0302890794322 ...     3.6958875        m6iii\n",
       "HELP_J000007.195-304537.048 0.0299783907374 ...     5.7564925       wk0iii\n",
       "HELP_J000007.684-304103.974 0.0320155135818 ...       2.26358        m5iii\n",
       "                        ...             ... ...           ...          ...\n",
       "HELP_J000616.858-360123.179    1.5702412738 ...         -99.0             \n",
       "HELP_J000621.150-360124.979    1.5881262738 ...     2.4331595        m1iii\n",
       "HELP_J000623.672-360128.784    1.5986332738 ...     1.8933915        m3iii\n",
       "HELP_J000616.778-360129.648    1.5699072738 ...     0.1588414          k3v\n",
       "HELP_J000624.928-360147.048   1.60386566449 ... 1.51117285714         g8iv\n",
       "HELP_J000622.662-360153.451    1.5944232738 ...        4.7078       wk3iii\n",
       "HELP_J000624.022-360154.474    1.6000900605 ...      2.970864          g0i\n",
       "HELP_J000624.354-360155.903    1.6014732738 ...   0.082182625        m5iii\n",
       "HELP_J000624.019-360158.218    1.6000792738 ...      0.418724        m5iii\n",
       "HELP_J000623.530-360201.217    1.5980432738 ...    1.31836775       wk4iii"
      ]
     },
     "execution_count": 7,
     "metadata": {},
     "output_type": "execute_result"
    }
   ],
   "source": [
    "photoz"
   ]
  },
  {
   "cell_type": "markdown",
   "metadata": {},
   "source": [
    "## Join CIGALE and photoz tables"
   ]
  },
  {
   "cell_type": "code",
   "execution_count": 8,
   "metadata": {
    "collapsed": true
   },
   "outputs": [],
   "source": [
    "prior=join(cigale,photoz)"
   ]
  },
  {
   "cell_type": "code",
   "execution_count": 9,
   "metadata": {
    "collapsed": true
   },
   "outputs": [],
   "source": [
    "from astropy.cosmology import Planck15 as cosmo\n",
    "from astropy import units as u\n",
    "f_pred=prior['bayes.dust.luminosity']/(4*np.pi*cosmo.luminosity_distance(prior['z1_median']).to(u.cm))"
   ]
  },
  {
   "cell_type": "code",
   "execution_count": 10,
   "metadata": {
    "collapsed": true
   },
   "outputs": [],
   "source": [
    "prior=prior[np.isfinite(f_pred.value)][np.log10(f_pred.value[np.isfinite(f_pred.value)])>8.5]"
   ]
  },
  {
   "cell_type": "code",
   "execution_count": 11,
   "metadata": {
    "collapsed": true
   },
   "outputs": [],
   "source": [
    "prior['DEC'].name='Dec'"
   ]
  },
  {
   "cell_type": "code",
   "execution_count": 13,
   "metadata": {},
   "outputs": [
    {
     "data": {
      "text/plain": [
       "4436690"
      ]
     },
     "execution_count": 13,
     "metadata": {},
     "output_type": "execute_result"
    }
   ],
   "source": [
    "len(cigale)"
   ]
  },
  {
   "cell_type": "markdown",
   "metadata": {},
   "source": [
    "## Read in Maps"
   ]
  },
  {
   "cell_type": "code",
   "execution_count": 14,
   "metadata": {
    "collapsed": true
   },
   "outputs": [],
   "source": [
    "pswfits='../../dmu19/dmu19_HELP-SPIRE-maps/data/SSDF_SPIRE250_v1.0.fits'#SPIRE 250 map\n",
    "pmwfits='../../dmu19/dmu19_HELP-SPIRE-maps/data/SSDF_SPIRE350_v1.0.fits'#SPIRE 350 map\n",
    "plwfits='../../dmu19/dmu19_HELP-SPIRE-maps/data/SSDF_SPIRE500_v1.0.fits'#SPIRE 500 map\n",
    "\n",
    "#output folder\n",
    "output_folder='./'"
   ]
  },
  {
   "cell_type": "code",
   "execution_count": 15,
   "metadata": {
    "collapsed": true
   },
   "outputs": [],
   "source": [
    "from astropy.io import fits\n",
    "from astropy import wcs\n",
    "\n",
    "#-----250-------------\n",
    "hdulist = fits.open(pswfits)\n",
    "im250phdu=hdulist[0].header\n",
    "im250hdu=hdulist[1].header\n",
    "\n",
    "im250=hdulist[1].data*1.0E3 #convert to mJy\n",
    "nim250=hdulist[3].data*1.0E3 #convert to mJy\n",
    "w_250 = wcs.WCS(hdulist[1].header)\n",
    "pixsize250=3600.0*w_250.wcs.cdelt #pixel size (in arcseconds)\n",
    "hdulist.close()\n",
    "#-----350-------------\n",
    "hdulist = fits.open(pmwfits)\n",
    "im350phdu=hdulist[0].header\n",
    "im350hdu=hdulist[1].header\n",
    "\n",
    "im350=hdulist[1].data*1.0E3 #convert to mJy\n",
    "nim350=hdulist[3].data*1.0E3 #convert to mJy\n",
    "w_350 = wcs.WCS(hdulist[1].header)\n",
    "pixsize350=3600.0*w_350.wcs.cdelt #pixel size (in arcseconds)\n",
    "hdulist.close()\n",
    "#-----500-------------\n",
    "hdulist = fits.open(plwfits)\n",
    "im500phdu=hdulist[0].header\n",
    "im500hdu=hdulist[1].header\n",
    "im500=hdulist[1].data*1.0E3 #convert to mJy\n",
    "nim500=hdulist[3].data*1.0E3 #convert to mJy\n",
    "w_500 = wcs.WCS(hdulist[1].header)\n",
    "pixsize500=3600.0*w_500.wcs.cdelt #pixel size (in arcseconds)\n",
    "hdulist.close()"
   ]
  },
  {
   "cell_type": "code",
   "execution_count": 16,
   "metadata": {
    "collapsed": true
   },
   "outputs": [],
   "source": [
    "## Set XID+ prior class"
   ]
  },
  {
   "cell_type": "code",
   "execution_count": 17,
   "metadata": {
    "collapsed": true
   },
   "outputs": [],
   "source": [
    "#---prior250--------\n",
    "prior250=xidplus.prior(im250,nim250,im250phdu,im250hdu, moc=Sel_func)#Initialise with map, uncertianty map, wcs info and primary header\n",
    "prior250.prior_cat(prior['RA'] ,prior['Dec'] ,'hatlas_sgp_Ldust_prediction_results.fits',ID=prior['help_id'] )#Set input catalogue\n",
    "prior250.prior_bkg(-5.0,5)#Set prior on background (assumes Gaussian pdf with mu and sigma)\n",
    "#---prior350--------\n",
    "prior350=xidplus.prior(im350,nim350,im350phdu,im350hdu, moc=Sel_func)\n",
    "prior350.prior_cat(prior['RA'] ,prior['Dec'] ,'hatlas_sgp_Ldust_prediction_results.fits',ID=prior['help_id'] )\n",
    "prior350.prior_bkg(-5.0,5)\n",
    "\n",
    "#---prior500--------\n",
    "prior500=xidplus.prior(im500,nim500,im500phdu,im500hdu, moc=Sel_func)\n",
    "prior500.prior_cat(prior['RA'] ,prior['Dec'] ,'hatlas_sgp_Ldust_prediction_results.fits',ID=prior['help_id'] )\n",
    "prior500.prior_bkg(-5.0,5)"
   ]
  },
  {
   "cell_type": "code",
   "execution_count": 18,
   "metadata": {
    "collapsed": true
   },
   "outputs": [],
   "source": [
    "#pixsize array (size of pixels in arcseconds)\n",
    "pixsize=np.array([pixsize250,pixsize350,pixsize500])\n",
    "#point response function for the three bands\n",
    "prfsize=np.array([18.15,25.15,36.3])\n",
    "#use Gaussian2DKernel to create prf (requires stddev rather than fwhm hence pfwhm/2.355)\n",
    "from astropy.convolution import Gaussian2DKernel\n",
    "\n",
    "##---------fit using Gaussian beam-----------------------\n",
    "prf250=Gaussian2DKernel(prfsize[0]/2.355,x_size=101,y_size=101)\n",
    "prf250.normalize(mode='peak')\n",
    "prf350=Gaussian2DKernel(prfsize[1]/2.355,x_size=101,y_size=101)\n",
    "prf350.normalize(mode='peak')\n",
    "prf500=Gaussian2DKernel(prfsize[2]/2.355,x_size=101,y_size=101)\n",
    "prf500.normalize(mode='peak')\n",
    "\n",
    "pind250=np.arange(0,101,1)*1.0/pixsize[0,1] #get 250 scale in terms of pixel scale of map\n",
    "pind350=np.arange(0,101,1)*1.0/pixsize[1,1] #get 350 scale in terms of pixel scale of map\n",
    "pind500=np.arange(0,101,1)*1.0/pixsize[2,1] #get 500 scale in terms of pixel scale of map\n",
    "\n",
    "prior250.set_prf(prf250.array,pind250,pind250)#requires psf as 2d grid, and x and y bins for grid (in pixel scale)\n",
    "prior350.set_prf(prf350.array,pind350,pind350)\n",
    "prior500.set_prf(prf500.array,pind500,pind500)"
   ]
  },
  {
   "cell_type": "code",
   "execution_count": 19,
   "metadata": {},
   "outputs": [
    {
     "name": "stdout",
     "output_type": "stream",
     "text": [
      "----- There are 18279 tiles required for input catalogue and 379 large tiles\n",
      "writing total_bytes=5118646130...\n",
      "writing bytes [0, 1073741824)... done.\n",
      "writing bytes [1073741824, 2147483648)... done.\n",
      "writing bytes [2147483648, 3221225472)... done.\n",
      "writing bytes [3221225472, 4294967296)... done.\n",
      "writing bytes [4294967296, 5118646130)... done.\n"
     ]
    },
    {
     "ename": "SystemExit",
     "evalue": "",
     "output_type": "error",
     "traceback": [
      "An exception has occurred, use %tb to see the full traceback.\n",
      "\u001b[0;31mSystemExit\u001b[0m\n"
     ]
    }
   ],
   "source": [
    "import pickle\n",
    "#from moc, get healpix pixels at a given order\n",
    "from xidplus import moc_routines\n",
    "order=9\n",
    "tiles=moc_routines.get_HEALPix_pixels(order,prior250.sra,prior250.sdec,unique=True)\n",
    "order_large=6\n",
    "tiles_large=moc_routines.get_HEALPix_pixels(order_large,prior250.sra,prior250.sdec,unique=True)\n",
    "print('----- There are '+str(len(tiles))+' tiles required for input catalogue and '+str(len(tiles_large))+' large tiles')\n",
    "output_folder='./'\n",
    "outfile=output_folder+'Master_prior.pkl'\n",
    "xidplus.io.pickle_dump({'priors':[prior250,prior350,prior500],'tiles':tiles,'order':order,'version':xidplus.io.git_version()},outfile)\n",
    "outfile=output_folder+'Tiles.pkl'\n",
    "with open(outfile, 'wb') as f:\n",
    "    pickle.dump({'tiles':tiles,'order':order,'tiles_large':tiles_large,'order_large':order_large,'version':xidplus.io.git_version()},f)\n",
    "raise SystemExit()"
   ]
  },
  {
   "cell_type": "code",
   "execution_count": 57,
   "metadata": {},
   "outputs": [
    {
     "data": {
      "text/plain": [
       "1236678"
      ]
     },
     "execution_count": 57,
     "metadata": {},
     "output_type": "execute_result"
    }
   ],
   "source": [
    "prior250.nsrc"
   ]
  },
  {
   "cell_type": "code",
   "execution_count": null,
   "metadata": {
    "collapsed": true
   },
   "outputs": [],
   "source": []
  }
 ],
 "metadata": {
  "kernelspec": {
   "display_name": "Python 3",
   "language": "python",
   "name": "python3"
  },
  "language_info": {
   "codemirror_mode": {
    "name": "ipython",
    "version": 3
   },
   "file_extension": ".py",
   "mimetype": "text/x-python",
   "name": "python",
   "nbconvert_exporter": "python",
   "pygments_lexer": "ipython3",
   "version": "3.6.7"
  }
 },
 "nbformat": 4,
 "nbformat_minor": 2
}
