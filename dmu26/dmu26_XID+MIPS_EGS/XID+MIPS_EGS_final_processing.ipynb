{
 "cells": [
  {
   "cell_type": "code",
   "execution_count": 1,
   "metadata": {
    "collapsed": true
   },
   "outputs": [],
   "source": [
    "import pylab\n",
    "import pymoc\n",
    "import xidplus\n",
    "import numpy as np\n",
    "%matplotlib inline\n",
    "from astropy.io import fits\n",
    "from astropy import wcs\n",
    "from astropy.table import Table"
   ]
  },
  {
   "cell_type": "markdown",
   "metadata": {},
   "source": [
    "## Read tables"
   ]
  },
  {
   "cell_type": "code",
   "execution_count": 2,
   "metadata": {},
   "outputs": [],
   "source": [
    "SWIRE_cat=Table.read('./data/dmu26_XID+MIPS_ELAIS-N2_SWIRE_cat.fits')"
   ]
  },
  {
   "cell_type": "code",
   "execution_count": 3,
   "metadata": {},
   "outputs": [
    {
     "data": {
      "text/html": [
       "<i>Table length=10</i>\n",
       "<table id=\"table140015336351392\" class=\"table-striped table-bordered table-condensed\">\n",
       "<thead><tr><th>help_id</th><th>RA</th><th>Dec</th><th>F_MIPS_24</th><th>FErr_MIPS_24_u</th><th>FErr_MIPS_24_l</th><th>Bkg_MIPS_24</th><th>Sig_conf_MIPS_24</th><th>Rhat_MIPS_24</th><th>n_eff_MIPS_24</th><th>Pval_res_24</th></tr></thead>\n",
       "<thead><tr><th></th><th>degrees</th><th>degrees</th><th>muJy</th><th>muJy</th><th>muJy</th><th>MJy / sr</th><th>MJy / sr</th><th></th><th></th><th></th></tr></thead>\n",
       "<thead><tr><th>bytes27</th><th>float64</th><th>float64</th><th>float32</th><th>float32</th><th>float32</th><th>float32</th><th>float32</th><th>float32</th><th>float32</th><th>float32</th></tr></thead>\n",
       "<tr><td>HELP_J163346.992+394243.420</td><td>248.445799537607</td><td>39.712061083265695</td><td>14.360089</td><td>28.563936</td><td>5.267528</td><td>-0.00041493773</td><td>5.2701807e-06</td><td>nan</td><td>801.0</td><td>0.0</td></tr>\n",
       "<tr><td>HELP_J163354.120+394351.612</td><td>248.475501874607</td><td>39.7310033402657</td><td>25.430574</td><td>40.34344</td><td>11.7319975</td><td>0.0006374985</td><td>5.1512056e-06</td><td>nan</td><td>2000.0</td><td>0.0</td></tr>\n",
       "<tr><td>HELP_J163352.386+394403.444</td><td>248.468276218376</td><td>39.7342898946138</td><td>125.43618</td><td>140.12993</td><td>109.88434</td><td>0.0006374985</td><td>5.1512056e-06</td><td>1.0011711</td><td>2000.0</td><td>0.0</td></tr>\n",
       "<tr><td>HELP_J163352.492+394246.993</td><td>248.468716218376</td><td>39.7130536946138</td><td>262.72702</td><td>276.2755</td><td>247.86346</td><td>0.0006374985</td><td>5.1512056e-06</td><td>0.9981907</td><td>2000.0</td><td>0.0</td></tr>\n",
       "<tr><td>HELP_J163352.915+394257.838</td><td>248.470479318376</td><td>39.7160660946138</td><td>71.052124</td><td>83.45411</td><td>59.446747</td><td>0.0006374985</td><td>5.1512056e-06</td><td>nan</td><td>2000.0</td><td>0.0</td></tr>\n",
       "<tr><td>HELP_J163350.599+394301.108</td><td>248.460827683607</td><td>39.71697437126569</td><td>117.74637</td><td>131.73906</td><td>103.897964</td><td>0.0006374985</td><td>5.1512056e-06</td><td>0.9987709</td><td>2000.0</td><td>0.0</td></tr>\n",
       "<tr><td>HELP_J163353.384+394244.961</td><td>248.472431358607</td><td>39.712489031265704</td><td>3.9729717</td><td>9.538257</td><td>1.1805742</td><td>0.0006374985</td><td>5.1512056e-06</td><td>nan</td><td>2000.0</td><td>0.0</td></tr>\n",
       "<tr><td>HELP_J163353.119+394332.116</td><td>248.47133095060698</td><td>39.7255878742657</td><td>141.08069</td><td>156.3033</td><td>126.02507</td><td>0.0006374985</td><td>5.1512056e-06</td><td>nan</td><td>2000.0</td><td>0.0</td></tr>\n",
       "<tr><td>HELP_J163352.514+394240.707</td><td>248.468809963607</td><td>39.71130763026569</td><td>139.11339</td><td>153.15056</td><td>124.75665</td><td>0.0006374985</td><td>5.1512056e-06</td><td>nan</td><td>2000.0</td><td>0.0</td></tr>\n",
       "<tr><td>HELP_J163352.582+394323.793</td><td>248.469093346607</td><td>39.7232758642657</td><td>6.942023</td><td>15.529887</td><td>1.9808115</td><td>0.0006374985</td><td>5.1512056e-06</td><td>nan</td><td>2000.0</td><td>0.0</td></tr>\n",
       "</table>"
      ],
      "text/plain": [
       "<Table length=10>\n",
       "          help_id                   RA         ... n_eff_MIPS_24 Pval_res_24\n",
       "                                 degrees       ...                          \n",
       "          bytes27                float64       ...    float32      float32  \n",
       "--------------------------- ------------------ ... ------------- -----------\n",
       "HELP_J163346.992+394243.420   248.445799537607 ...         801.0         0.0\n",
       "HELP_J163354.120+394351.612   248.475501874607 ...        2000.0         0.0\n",
       "HELP_J163352.386+394403.444   248.468276218376 ...        2000.0         0.0\n",
       "HELP_J163352.492+394246.993   248.468716218376 ...        2000.0         0.0\n",
       "HELP_J163352.915+394257.838   248.470479318376 ...        2000.0         0.0\n",
       "HELP_J163350.599+394301.108   248.460827683607 ...        2000.0         0.0\n",
       "HELP_J163353.384+394244.961   248.472431358607 ...        2000.0         0.0\n",
       "HELP_J163353.119+394332.116 248.47133095060698 ...        2000.0         0.0\n",
       "HELP_J163352.514+394240.707   248.468809963607 ...        2000.0         0.0\n",
       "HELP_J163352.582+394323.793   248.469093346607 ...        2000.0         0.0"
      ]
     },
     "execution_count": 3,
     "metadata": {},
     "output_type": "execute_result"
    }
   ],
   "source": [
    "SWIRE_cat[0:10]"
   ]
  },
  {
   "cell_type": "markdown",
   "metadata": {},
   "source": [
    "## Look at Symmetry of PDFs to determine depth level of catalogue"
   ]
  },
  {
   "cell_type": "code",
   "execution_count": 10,
   "metadata": {},
   "outputs": [
    {
     "name": "stdout",
     "output_type": "stream",
     "text": [
      "4.9961205\n"
     ]
    },
    {
     "data": {
      "image/png": "[encoded data removed]",
      "text/plain": [
       "<Figure size 432x432 with 3 Axes>"
      ]
     },
     "metadata": {
      "needs_background": "light"
     },
     "output_type": "display_data"
    }
   ],
   "source": [
    "skew=(SWIRE_cat['FErr_MIPS_24_u']-SWIRE_cat['F_MIPS_24'])/(SWIRE_cat['F_MIPS_24']-SWIRE_cat['FErr_MIPS_24_l'])\n",
    "skew.name='(84th-50th)/(50th-16th) percentile'\n",
    "use = skew < 5\n",
    "g=sns.jointplot(x=np.log10(SWIRE_cat['F_MIPS_24'][use]),y=skew[use], kind='hex')\n",
    "print(np.max(skew[use]))\n"
   ]
  },
  {
   "cell_type": "markdown",
   "metadata": {},
   "source": [
    "Both seem to have flux pdfs that become Gaussian at ~20$\\mathrm{\\mu Jy}$ "
   ]
  },
  {
   "cell_type": "markdown",
   "metadata": {},
   "source": [
    "## Add flag to catalogue"
   ]
  },
  {
   "cell_type": "code",
   "execution_count": 11,
   "metadata": {
    "collapsed": true
   },
   "outputs": [],
   "source": [
    "from astropy.table import Column\n",
    "SWIRE_cat.add_column(Column(np.zeros(len(SWIRE_cat), dtype=bool),name='flag_mips_24'))\n"
   ]
  },
  {
   "cell_type": "code",
   "execution_count": null,
   "metadata": {
    "collapsed": true
   },
   "outputs": [],
   "source": []
  },
  {
   "cell_type": "code",
   "execution_count": 12,
   "metadata": {
    "collapsed": true
   },
   "outputs": [],
   "source": [
    "ind_SWIRE=(SWIRE_cat['Pval_res_24']>0.5) | (SWIRE_cat['F_MIPS_24'] < 20.0)"
   ]
  },
  {
   "cell_type": "code",
   "execution_count": 8,
   "metadata": {
    "collapsed": true
   },
   "outputs": [],
   "source": [
    "SWIRE_cat['flag_mips_24'][ind_SWIRE]=True\n"
   ]
  },
  {
   "cell_type": "code",
   "execution_count": 10,
   "metadata": {},
   "outputs": [],
   "source": [
    "SWIRE_cat.write('./data/dmu26_XID+MIPS_ELAIS-N2_SWIRE_cat_20181108.fits', format='fits',overwrite=True)"
   ]
  },
  {
   "cell_type": "code",
   "execution_count": null,
   "metadata": {
    "collapsed": true
   },
   "outputs": [],
   "source": []
  }
 ],
 "metadata": {
  "kernelspec": {
   "display_name": "Python 3",
   "language": "python",
   "name": "python3"
  },
  "language_info": {
   "codemirror_mode": {
    "name": "ipython",
    "version": 3
   },
   "file_extension": ".py",
   "mimetype": "text/x-python",
   "name": "python",
   "nbconvert_exporter": "python",
   "pygments_lexer": "ipython3",
   "version": "3.6.6"
  }
 },
 "nbformat": 4,
 "nbformat_minor": 2
}
