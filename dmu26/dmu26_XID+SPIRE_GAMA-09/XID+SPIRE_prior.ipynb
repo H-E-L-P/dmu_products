{
 "cells": [
  {
   "cell_type": "code",
   "execution_count": 1,
   "metadata": {
    "collapsed": true
   },
   "outputs": [],
   "source": [
    "import pylab as plt\n",
    "import pymoc\n",
    "import xidplus\n",
    "import numpy as np\n",
    "%matplotlib inline\n",
    "from astropy.table import Table, join"
   ]
  },
  {
   "cell_type": "code",
   "execution_count": 2,
   "metadata": {
    "collapsed": true
   },
   "outputs": [],
   "source": [
    "import seaborn as sns"
   ]
  },
  {
   "cell_type": "markdown",
   "metadata": {},
   "source": [
    "This notebook uses all the raw data from the CIGALE predictions and photoz catalogue, maps, PSF and relevant MOCs to create XID+ prior object and relevant tiling scheme"
   ]
  },
  {
   "cell_type": "markdown",
   "metadata": {},
   "source": [
    "## Read in MOCs\n",
    "The selection functions required are the main MOC associated with the masterlist. "
   ]
  },
  {
   "cell_type": "code",
   "execution_count": 3,
   "metadata": {
    "collapsed": true
   },
   "outputs": [],
   "source": [
    "Sel_func=pymoc.MOC()\n",
    "Sel_func.read('../../dmu4/dmu4_sm_GAMA-09/data/holes_GAMA-09_ukidss_k_O16_20180417.fits')\n"
   ]
  },
  {
   "cell_type": "markdown",
   "metadata": {},
   "source": [
    "## Read in CIGALE predictions catalogue"
   ]
  },
  {
   "cell_type": "code",
   "execution_count": 4,
   "metadata": {
    "collapsed": true
   },
   "outputs": [],
   "source": [
    "cigale=Table.read('../../dmu28/dmu28_GAMA-09/data/GAMA9_Ldust_prediction_results.fits')\n"
   ]
  },
  {
   "cell_type": "code",
   "execution_count": 5,
   "metadata": {
    "collapsed": true
   },
   "outputs": [],
   "source": [
    "cigale['id'].name = 'help_id'"
   ]
  },
  {
   "cell_type": "code",
   "execution_count": 6,
   "metadata": {},
   "outputs": [
    {
     "data": {
      "text/html": [
       "&lt;Table length=1815905&gt;\n",
       "<table id=\"table4772325416\" class=\"table-striped table-bordered table-condensed\">\n",
       "<thead><tr><th>help_id</th><th>bayes.dust.luminosity</th><th>bayes.dust.luminosity_err</th><th>best.omegacam_u</th><th>best.megacam_u</th><th>best.omegacam_g</th><th>best.suprime_g</th><th>best.decam_g</th><th>best.megacam_g</th><th>best.gpc1_g</th><th>best.suprime_r</th><th>best.gpc1_r</th><th>best.megacam_r</th><th>best.omegacam_r</th><th>best.decam_r</th><th>best.gpc1_i</th><th>best.megacam_i</th><th>best.omegacam_i</th><th>best.suprime_i</th><th>best.gpc1_z</th><th>best.vista_z</th><th>best.megacam_z</th><th>best.suprime_z</th><th>best.decam_z</th><th>best.gpc1_y</th><th>best.suprime_y</th><th>best.vista_y</th><th>best.ukidss_y</th><th>best.ukidss_j</th><th>best.vista_j</th><th>best.ukidss_h</th><th>best.vista_h</th><th>best.vista_ks</th><th>best.ukidss_k</th></tr></thead>\n",
       "<thead><tr><th></th><th></th><th></th><th>mJy</th><th>mJy</th><th>mJy</th><th>mJy</th><th>mJy</th><th>mJy</th><th>mJy</th><th>mJy</th><th>mJy</th><th>mJy</th><th>mJy</th><th>mJy</th><th>mJy</th><th>mJy</th><th>mJy</th><th>mJy</th><th>mJy</th><th>mJy</th><th>mJy</th><th>mJy</th><th>mJy</th><th>mJy</th><th>mJy</th><th>mJy</th><th>mJy</th><th>mJy</th><th>mJy</th><th>mJy</th><th>mJy</th><th>mJy</th><th>mJy</th></tr></thead>\n",
       "<thead><tr><th>str27</th><th>float64</th><th>float64</th><th>float64</th><th>float64</th><th>float64</th><th>float64</th><th>float64</th><th>float64</th><th>float64</th><th>float64</th><th>float64</th><th>float64</th><th>float64</th><th>float64</th><th>float64</th><th>float64</th><th>float64</th><th>float64</th><th>float64</th><th>float64</th><th>float64</th><th>float64</th><th>float64</th><th>float64</th><th>float64</th><th>float64</th><th>float64</th><th>float64</th><th>float64</th><th>float64</th><th>float64</th><th>float64</th><th>float64</th></tr></thead>\n",
       "<tr><td>HELP_J082912.113+014254.016</td><td>1.77568115836e+39</td><td>1.85609942134e+39</td><td>0.000684965564886</td><td>0.000821352521557</td><td>0.00144183207848</td><td>0.00148516352542</td><td>0.00149180973989</td><td>0.00152484207857</td><td>0.00152236399701</td><td>0.00292362440639</td><td>0.00293234518063</td><td>0.00299420445508</td><td>0.00307194580642</td><td>0.0032099465634</td><td>0.00570727344152</td><td>0.00587427379469</td><td>0.00612442347805</td><td>0.00651726375172</td><td>0.0120436680647</td><td>0.0123872369988</td><td>0.0127309395159</td><td>0.0128854969896</td><td>0.013894760725</td><td>0.0156775037919</td><td>0.0159951505172</td><td>0.0168155160421</td><td>0.0170408681251</td><td>0.0242142967252</td><td>0.0242938067077</td><td>0.0362444274603</td><td>0.0365352086652</td><td>0.053322189509</td><td>0.0544946185725</td></tr>\n",
       "<tr><td>HELP_J082913.120+014309.267</td><td>2.70212657034e+37</td><td>2.4317979539e+36</td><td>0.0573110432967</td><td>0.0562235789619</td><td>0.0603379698001</td><td>0.0608231803715</td><td>0.0609571425584</td><td>0.0609625599188</td><td>0.0612316883795</td><td>0.0583285006846</td><td>0.0580161745538</td><td>0.0574112860669</td><td>0.0574133612291</td><td>0.0569884758346</td><td>0.0528267510041</td><td>0.0531286069587</td><td>0.0530603414379</td><td>0.0526726986733</td><td>0.0511368015529</td><td>0.0510961639642</td><td>0.0512045776455</td><td>0.0512039835976</td><td>0.0512222638582</td><td>0.0510054297275</td><td>0.0508941799581</td><td>0.0516693579822</td><td>0.0520356898121</td><td>0.0535853198261</td><td>0.0535460508147</td><td>0.0523495387546</td><td>0.0523398453257</td><td>0.0526552391408</td><td>0.051438963437</td></tr>\n",
       "<tr><td>HELP_J082913.510+014205.882</td><td>4.57019486182e+37</td><td>2.88564478964e+37</td><td>0.00156277502458</td><td>0.00192418494454</td><td>0.00407346583998</td><td>0.00438945893704</td><td>0.00444533881342</td><td>0.00461453381606</td><td>0.00461774997902</td><td>0.0133383483064</td><td>0.0134180824496</td><td>0.0137568580713</td><td>0.0140218194494</td><td>0.0145558588316</td><td>0.0210167471998</td><td>0.0209496858541</td><td>0.0212616611587</td><td>0.0218665518448</td><td>0.0274352226069</td><td>0.0279383457913</td><td>0.0284199463628</td><td>0.0287349611616</td><td>0.0300696478973</td><td>0.0326876826713</td><td>0.0336146737958</td><td>0.0365426207371</td><td>0.0371574409942</td><td>0.0523312884338</td><td>0.0525172784308</td><td>0.0693596956616</td><td>0.0697049461743</td><td>0.0912814885421</td><td>0.0938379817377</td></tr>\n",
       "<tr><td>HELP_J082913.660+014249.800</td><td>1.5495572579e+39</td><td>2.04264123065e+39</td><td>0.000711345808592</td><td>0.000862099824131</td><td>0.00146368041862</td><td>0.00151836539645</td><td>0.00152890794083</td><td>0.00156506147189</td><td>0.00156550484369</td><td>0.00348666657406</td><td>0.00349250734196</td><td>0.00356912491012</td><td>0.00370763299483</td><td>0.00397475525761</td><td>0.00955537349445</td><td>0.00951497814732</td><td>0.00983445508732</td><td>0.0105356265145</td><td>0.0170907148285</td><td>0.0177239265424</td><td>0.0179956070582</td><td>0.0184064532071</td><td>0.0193826061142</td><td>0.0212997145429</td><td>0.0220023922129</td><td>0.0245431099141</td><td>0.0252827344276</td><td>0.0373282509981</td><td>0.0374210562827</td><td>0.061449745967</td><td>0.0621140795666</td><td>0.0896828507594</td><td>0.0920299893409</td></tr>\n",
       "<tr><td>HELP_J082914.042+014215.484</td><td>1.98368311749e+39</td><td>1.12470536961e+38</td><td>6.29802453594</td><td>6.13842721723</td><td>6.47887404415</td><td>6.49912938738</td><td>6.50546878227</td><td>6.51727328203</td><td>6.52468948926</td><td>5.87729481567</td><td>5.84752162295</td><td>5.79201128916</td><td>5.78289937949</td><td>5.74194490447</td><td>5.25798553015</td><td>5.26936215959</td><td>5.26062085048</td><td>5.22271249463</td><td>5.05455001321</td><td>5.06117779025</td><td>5.070187866</td><td>5.08031109213</td><td>5.07033178201</td><td>5.02012905273</td><td>5.03477002704</td><td>5.15209101048</td><td>5.1711817136</td><td>5.15044948033</td><td>5.15409578925</td><td>5.05103468709</td><td>5.05493386165</td><td>4.91507578592</td><td>4.79307583793</td></tr>\n",
       "<tr><td>HELP_J082914.054+014304.068</td><td>9.00848445891e+35</td><td>6.91995525496e+35</td><td>0.0722025158505</td><td>0.0888029010944</td><td>0.206479724459</td><td>0.210573006777</td><td>0.21132906029</td><td>0.217344030318</td><td>0.216248401557</td><td>0.34347803063</td><td>0.344869563689</td><td>0.349239902934</td><td>0.354105019616</td><td>0.362324863205</td><td>0.444102665295</td><td>0.444686001857</td><td>0.448793361436</td><td>0.455616499345</td><td>0.535951618509</td><td>0.546621011029</td><td>0.55759715621</td><td>0.555224027841</td><td>0.58727935218</td><td>0.638334056354</td><td>0.653717529345</td><td>0.687683157958</td><td>0.696828543158</td><td>0.769013364378</td><td>0.770162598351</td><td>0.923209302447</td><td>0.928584969212</td><td>0.814563969752</td><td>0.792851858557</td></tr>\n",
       "<tr><td>HELP_J082914.356+014322.049</td><td>3.60188148763e+37</td><td>4.01201641374e+37</td><td>0.00899710084153</td><td>0.0095012964831</td><td>0.0120266865906</td><td>0.0125693159294</td><td>0.0126668436478</td><td>0.0128097052739</td><td>0.0128880398695</td><td>0.0224156200521</td><td>0.0224088009005</td><td>0.0225878618333</td><td>0.0226883431317</td><td>0.022876224716</td><td>0.0249271020458</td><td>0.0249328462467</td><td>0.0250593415398</td><td>0.0252313734676</td><td>0.0266716960218</td><td>0.0267912011714</td><td>0.0270226325455</td><td>0.0270129464294</td><td>0.0274687610622</td><td>0.0282566351843</td><td>0.0284737750752</td><td>0.0294764504636</td><td>0.0296410844529</td><td>0.0341918726827</td><td>0.034264145986</td><td>0.0369189625674</td><td>0.0369935286588</td><td>0.0413950948577</td><td>0.0420506645632</td></tr>\n",
       "<tr><td>HELP_J082914.699+014151.046</td><td>6.32638478072e+36</td><td>3.87715750417e+36</td><td>0.0296499549142</td><td>0.030813125128</td><td>0.0521660723863</td><td>0.0535517786041</td><td>0.0538631617294</td><td>0.05454625388</td><td>0.0550694180373</td><td>0.070155532148</td><td>0.0699340594253</td><td>0.0699475520286</td><td>0.0705539112372</td><td>0.0714293183361</td><td>0.0773555305017</td><td>0.077313363571</td><td>0.0775426965859</td><td>0.0778656784241</td><td>0.0830398276862</td><td>0.0837833957754</td><td>0.0843109683594</td><td>0.0850653096013</td><td>0.0862310036653</td><td>0.0880111507264</td><td>0.0890478625973</td><td>0.0928933758121</td><td>0.0938008678126</td><td>0.102967178101</td><td>0.103120888857</td><td>0.11041042678</td><td>0.110666949113</td><td>0.11472251589</td><td>0.111970800908</td></tr>\n",
       "<tr><td>HELP_J082915.204+014144.875</td><td>2.04965937013e+38</td><td>1.72844431988e+38</td><td>0.0688948187641</td><td>0.108407355184</td><td>0.456404103745</td><td>0.478810079889</td><td>0.483258777292</td><td>0.503647048403</td><td>0.502822962563</td><td>1.28779092672</td><td>1.29450046296</td><td>1.32777943128</td><td>1.37011116288</td><td>1.44434413193</td><td>2.29489076373</td><td>2.30729693613</td><td>2.34916443588</td><td>2.43209926237</td><td>3.42355069564</td><td>3.54382172987</td><td>3.66346259947</td><td>3.66474865084</td><td>4.03207610717</td><td>4.68682140785</td><td>4.90043946335</td><td>5.54922765089</td><td>5.75934003305</td><td>8.10750587356</td><td>8.13994060005</td><td>12.4778292311</td><td>12.6006508069</td><td>13.8071423441</td><td>13.7506929649</td></tr>\n",
       "<tr><td>...</td><td>...</td><td>...</td><td>...</td><td>...</td><td>...</td><td>...</td><td>...</td><td>...</td><td>...</td><td>...</td><td>...</td><td>...</td><td>...</td><td>...</td><td>...</td><td>...</td><td>...</td><td>...</td><td>...</td><td>...</td><td>...</td><td>...</td><td>...</td><td>...</td><td>...</td><td>...</td><td>...</td><td>...</td><td>...</td><td>...</td><td>...</td><td>...</td><td>...</td></tr>\n",
       "<tr><td>HELP_J092759.861-002943.523</td><td>1.10021681093e+37</td><td>5.89617598859e+36</td><td>0.0185925796016</td><td>0.0209199254423</td><td>0.0500199132638</td><td>0.0521504895143</td><td>0.052608872096</td><td>0.0535589353901</td><td>0.0542076758798</td><td>0.0916988524546</td><td>0.0915848316398</td><td>0.0926365312402</td><td>0.094376550456</td><td>0.0968096635884</td><td>0.120915909151</td><td>0.121389620512</td><td>0.122268709656</td><td>0.123819573531</td><td>0.145963525939</td><td>0.148862095758</td><td>0.150869035845</td><td>0.151630374183</td><td>0.157149810168</td><td>0.167355002874</td><td>0.170580263701</td><td>0.183657134362</td><td>0.186919258937</td><td>0.224204265124</td><td>0.224705142032</td><td>0.262886466563</td><td>0.264016403017</td><td>0.283337360539</td><td>0.276442856793</td></tr>\n",
       "<tr><td>HELP_J092759.884-003232.625</td><td>1.42064475025e+38</td><td>1.5785427761e+38</td><td>0.00109616367352</td><td>0.00127850543209</td><td>0.00255109256058</td><td>0.00267840921742</td><td>0.00269809357378</td><td>0.00283403588007</td><td>0.00279059331396</td><td>0.00895124295746</td><td>0.00907072179354</td><td>0.00939015587071</td><td>0.00965424287598</td><td>0.0101764723597</td><td>0.0147861596889</td><td>0.0149002467434</td><td>0.015126310255</td><td>0.015511031665</td><td>0.0202087699619</td><td>0.0205954291067</td><td>0.0209592587216</td><td>0.0210682217804</td><td>0.022169300931</td><td>0.0239671109655</td><td>0.0245863254965</td><td>0.0263402429893</td><td>0.0270294545157</td><td>0.0378298895335</td><td>0.0379908845882</td><td>0.0534075960124</td><td>0.0536132598417</td><td>0.0679548412199</td><td>0.0705880306489</td></tr>\n",
       "<tr><td>HELP_J092759.884-003403.028</td><td>5.69524788176e+37</td><td>1.18181870202e+37</td><td>0.483771292771</td><td>0.589529088809</td><td>1.59964565785</td><td>1.64871323642</td><td>1.65838741649</td><td>1.69426479453</td><td>1.70489171354</td><td>2.98546929896</td><td>2.99587748215</td><td>3.06299605486</td><td>3.1119443087</td><td>3.21091826014</td><td>4.13384363278</td><td>4.12437371329</td><td>4.16388736519</td><td>4.24216282905</td><td>5.08374830105</td><td>5.17485401849</td><td>5.30149935101</td><td>5.3228514981</td><td>5.64976333852</td><td>6.17208611409</td><td>6.38215486071</td><td>6.81372399001</td><td>6.91024845732</td><td>8.02807066586</td><td>8.0465437926</td><td>9.85876205437</td><td>9.9194080099</td><td>9.51486011929</td><td>9.31771935828</td></tr>\n",
       "<tr><td>HELP_J092759.917-003537.576</td><td>1.35523941752e+37</td><td>3.32874092249e+36</td><td>0.00760329832721</td><td>0.00931318609613</td><td>0.0296868637165</td><td>0.0313659116043</td><td>0.0317267461299</td><td>0.0324326591572</td><td>0.0328629800869</td><td>0.0707475723479</td><td>0.0709550638651</td><td>0.0722717740364</td><td>0.0741535255573</td><td>0.0771309742963</td><td>0.108083334506</td><td>0.1089663167</td><td>0.110211420568</td><td>0.11272866728</td><td>0.144847801759</td><td>0.148738847532</td><td>0.151354918764</td><td>0.151649203434</td><td>0.160423683489</td><td>0.176595277082</td><td>0.181600969373</td><td>0.201567528239</td><td>0.206289744554</td><td>0.269160665932</td><td>0.26989630998</td><td>0.344832722653</td><td>0.347037091941</td><td>0.392276959795</td><td>0.38497920907</td></tr>\n",
       "<tr><td>HELP_J092759.945-004258.424</td><td>1.32883359085e+38</td><td>1.19140993435e+38</td><td>0.000602268366669</td><td>0.000724291156262</td><td>0.00158280779307</td><td>0.00164511384432</td><td>0.00165799009501</td><td>0.00170585470867</td><td>0.0017070424271</td><td>0.00598081714045</td><td>0.00602320532668</td><td>0.00631718021408</td><td>0.00662718031748</td><td>0.00719096959139</td><td>0.0120865870614</td><td>0.0121740521623</td><td>0.0123331100007</td><td>0.0126848232469</td><td>0.0174486088073</td><td>0.0179617294752</td><td>0.0182330199582</td><td>0.0186228476719</td><td>0.0196686561252</td><td>0.021527603057</td><td>0.0222672123971</td><td>0.0242794941205</td><td>0.0246489399328</td><td>0.0359583378129</td><td>0.0362264754159</td><td>0.0574583004641</td><td>0.0577646067777</td><td>0.0755053980421</td><td>0.0782558580817</td></tr>\n",
       "<tr><td>HELP_J092759.949-004143.868</td><td>2.37104716364e+37</td><td>1.00202872588e+37</td><td>0.00259299745627</td><td>0.00311239901874</td><td>0.00610231124451</td><td>0.00650312645139</td><td>0.00657128229349</td><td>0.00675842720896</td><td>0.00679344155648</td><td>0.0172052816562</td><td>0.0173383337045</td><td>0.0177030774815</td><td>0.0179891211479</td><td>0.0186436103601</td><td>0.0256345805745</td><td>0.0254775999461</td><td>0.0257862423957</td><td>0.0264895808349</td><td>0.031930532219</td><td>0.0325488395353</td><td>0.0329868619312</td><td>0.0332928117432</td><td>0.03471680866</td><td>0.0372049334696</td><td>0.0381895291821</td><td>0.0410535362428</td><td>0.0417301439862</td><td>0.056489984656</td><td>0.056675709895</td><td>0.0707620506891</td><td>0.0710360873722</td><td>0.0900698224654</td><td>0.0916508808296</td></tr>\n",
       "<tr><td>HELP_J092759.955-002335.908</td><td>1.54723365478e+38</td><td>1.52886944276e+38</td><td>0.00369256077196</td><td>0.00464262231475</td><td>0.0119044220109</td><td>0.0127701841068</td><td>0.0129492817813</td><td>0.0131355961339</td><td>0.0134262046629</td><td>0.0346612941207</td><td>0.0347731306345</td><td>0.035701985643</td><td>0.0365354143652</td><td>0.0380994910515</td><td>0.0547329807782</td><td>0.0547234435582</td><td>0.0553788899118</td><td>0.0568113051499</td><td>0.0709919685438</td><td>0.0722814084876</td><td>0.0740901205967</td><td>0.0742204958014</td><td>0.0791899636143</td><td>0.0867460145228</td><td>0.0899457916758</td><td>0.0960546645644</td><td>0.0975137009209</td><td>0.140241888302</td><td>0.14075950777</td><td>0.185750235458</td><td>0.186761306424</td><td>0.251892332739</td><td>0.25377383442</td></tr>\n",
       "<tr><td>HELP_J092759.995-002409.089</td><td>8.40336652145e+37</td><td>6.95935992257e+37</td><td>0.0030236094392</td><td>0.00384584425629</td><td>0.0107591431677</td><td>0.0114328029808</td><td>0.0115836262767</td><td>0.0119217527678</td><td>0.0120536132127</td><td>0.0318817356525</td><td>0.032035867156</td><td>0.0326278015452</td><td>0.0335940276089</td><td>0.0350981700595</td><td>0.0519435369306</td><td>0.0519437253675</td><td>0.0525759985277</td><td>0.0540222643666</td><td>0.0681388184074</td><td>0.0697620644406</td><td>0.0716364723724</td><td>0.071754673903</td><td>0.0765673191595</td><td>0.0856002262252</td><td>0.0877416765505</td><td>0.0940237233022</td><td>0.0957440043839</td><td>0.140917978712</td><td>0.141271027597</td><td>0.186819451099</td><td>0.187769101431</td><td>0.253226010982</td><td>0.253166784232</td></tr>\n",
       "<tr><td>HELP_J092759.996-004047.261</td><td>1.61788658095e+38</td><td>1.68532165532e+38</td><td>0.00200145309951</td><td>0.00232476398698</td><td>0.00376634702817</td><td>0.00384638338396</td><td>0.00386218734511</td><td>0.00394562394005</td><td>0.0039236876428</td><td>0.00809995509984</td><td>0.00817851881865</td><td>0.00843678999759</td><td>0.00859810220844</td><td>0.00893043351421</td><td>0.0111996357142</td><td>0.0112440806873</td><td>0.0113193473787</td><td>0.0114638545122</td><td>0.0132779237083</td><td>0.0134510528101</td><td>0.013595504148</td><td>0.0136706177963</td><td>0.0140949149298</td><td>0.0147562532052</td><td>0.0150433235038</td><td>0.0157566239538</td><td>0.0159153997055</td><td>0.0201705061974</td><td>0.0202797241343</td><td>0.035672016013</td><td>0.0359133958758</td><td>0.0454673319231</td><td>0.0463594370889</td></tr>\n",
       "<tr><td>HELP_J092759.997-002028.986</td><td>1.28009605292e+38</td><td>1.47438062751e+38</td><td>0.00237762533885</td><td>0.00249984743414</td><td>0.00320162130203</td><td>0.00324620572652</td><td>0.00325403097475</td><td>0.00327631389621</td><td>0.00328121111057</td><td>0.00616812186612</td><td>0.00620827496776</td><td>0.00645090197587</td><td>0.00661740611603</td><td>0.00697749031136</td><td>0.00947515866244</td><td>0.00953114375436</td><td>0.00958034113272</td><td>0.00971241065514</td><td>0.0114997246062</td><td>0.0117013436298</td><td>0.0118043258532</td><td>0.0119677552726</td><td>0.0123452172903</td><td>0.0129972865551</td><td>0.0131709251738</td><td>0.0138689816884</td><td>0.0140358734883</td><td>0.0176682054257</td><td>0.0177559769147</td><td>0.0246158020593</td><td>0.0246872264932</td><td>0.0285686824681</td><td>0.0292169904068</td></tr>\n",
       "</table>"
      ],
      "text/plain": [
       "<Table length=1815905>\n",
       "          help_id           bayes.dust.luminosity ...  best.ukidss_k \n",
       "                                                  ...       mJy      \n",
       "           str27                   float64        ...     float64    \n",
       "--------------------------- --------------------- ... ---------------\n",
       "HELP_J082912.113+014254.016     1.77568115836e+39 ... 0.0544946185725\n",
       "HELP_J082913.120+014309.267     2.70212657034e+37 ...  0.051438963437\n",
       "HELP_J082913.510+014205.882     4.57019486182e+37 ... 0.0938379817377\n",
       "HELP_J082913.660+014249.800      1.5495572579e+39 ... 0.0920299893409\n",
       "HELP_J082914.042+014215.484     1.98368311749e+39 ...   4.79307583793\n",
       "HELP_J082914.054+014304.068     9.00848445891e+35 ...  0.792851858557\n",
       "HELP_J082914.356+014322.049     3.60188148763e+37 ... 0.0420506645632\n",
       "HELP_J082914.699+014151.046     6.32638478072e+36 ...  0.111970800908\n",
       "HELP_J082915.204+014144.875     2.04965937013e+38 ...   13.7506929649\n",
       "                        ...                   ... ...             ...\n",
       "HELP_J092759.861-002943.523     1.10021681093e+37 ...  0.276442856793\n",
       "HELP_J092759.884-003232.625     1.42064475025e+38 ... 0.0705880306489\n",
       "HELP_J092759.884-003403.028     5.69524788176e+37 ...   9.31771935828\n",
       "HELP_J092759.917-003537.576     1.35523941752e+37 ...   0.38497920907\n",
       "HELP_J092759.945-004258.424     1.32883359085e+38 ... 0.0782558580817\n",
       "HELP_J092759.949-004143.868     2.37104716364e+37 ... 0.0916508808296\n",
       "HELP_J092759.955-002335.908     1.54723365478e+38 ...   0.25377383442\n",
       "HELP_J092759.995-002409.089     8.40336652145e+37 ...  0.253166784232\n",
       "HELP_J092759.996-004047.261     1.61788658095e+38 ... 0.0463594370889\n",
       "HELP_J092759.997-002028.986     1.28009605292e+38 ... 0.0292169904068"
      ]
     },
     "execution_count": 6,
     "metadata": {},
     "output_type": "execute_result"
    }
   ],
   "source": [
    "cigale"
   ]
  },
  {
   "cell_type": "markdown",
   "metadata": {},
   "source": [
    "## Read in photoz"
   ]
  },
  {
   "cell_type": "code",
   "execution_count": 7,
   "metadata": {
    "collapsed": true
   },
   "outputs": [],
   "source": [
    "photoz=Table.read('../../dmu24/dmu24_GAMA-09/data/master_catalogue_gama-09_20171206_photoz_20180213_r_optimised.fits')"
   ]
  },
  {
   "cell_type": "code",
   "execution_count": 8,
   "metadata": {},
   "outputs": [
    {
     "data": {
      "text/html": [
       "&lt;Table length=8834023&gt;\n",
       "<table id=\"table4869174832\" class=\"table-striped table-bordered table-condensed\">\n",
       "<thead><tr><th>help_id</th><th>RA</th><th>DEC</th><th>id</th><th>z1_median</th><th>z1_min</th><th>z1_max</th><th>z1_area</th><th>z2_median</th><th>z2_min</th><th>z2_max</th><th>z2_area</th><th>za_hb</th><th>chi_r_eazy</th><th>chi_r_atlas</th><th>chi_r_cosmos</th><th>chi_r_stellar</th><th>stellar_type</th></tr></thead>\n",
       "<thead><tr><th>str27</th><th>float64</th><th>float64</th><th>int64</th><th>float64</th><th>float64</th><th>float64</th><th>float64</th><th>float64</th><th>float64</th><th>float64</th><th>float64</th><th>float64</th><th>float64</th><th>float64</th><th>float64</th><th>float64</th><th>str6</th></tr></thead>\n",
       "<tr><td>HELP_J084930.013-020417.068</td><td>132.375053567</td><td>-2.07140772343</td><td>30302</td><td>0.821</td><td>0.3029</td><td>1.3791</td><td>0.798</td><td>-99.0</td><td>-99.0</td><td>-99.0</td><td>-99.0</td><td>0.747461512522</td><td>-99.0</td><td>-99.0</td><td>-99.0</td><td>-99.0</td><td></td></tr>\n",
       "<tr><td>HELP_J085343.238-011847.076</td><td>133.430156467</td><td>-1.31307660643</td><td>30303</td><td>1.1554</td><td>0.3875</td><td>1.9962</td><td>0.797</td><td>-99.0</td><td>-99.0</td><td>-99.0</td><td>-99.0</td><td>1.01768053487</td><td>-99.0</td><td>-99.0</td><td>-99.0</td><td>-99.0</td><td></td></tr>\n",
       "<tr><td>HELP_J084950.135-013553.799</td><td>132.458896567</td><td>-1.59827758443</td><td>30304</td><td>1.0387</td><td>0.3587</td><td>1.78</td><td>0.8</td><td>-99.0</td><td>-99.0</td><td>-99.0</td><td>-99.0</td><td>0.929027455624</td><td>-99.0</td><td>-99.0</td><td>-99.0</td><td>-99.0</td><td></td></tr>\n",
       "<tr><td>HELP_J090051.096-013904.046</td><td>135.212899567</td><td>-1.65112388143</td><td>30306</td><td>1.0914</td><td>0.3751</td><td>1.8732</td><td>0.796</td><td>-99.0</td><td>-99.0</td><td>-99.0</td><td>-99.0</td><td>0.969903446791</td><td>-99.0</td><td>-99.0</td><td>-99.0</td><td>-99.0</td><td></td></tr>\n",
       "<tr><td>HELP_J085606.834-010133.117</td><td>134.028473367</td><td>-1.02586584843</td><td>30307</td><td>1.0371</td><td>0.3628</td><td>1.7717</td><td>0.796</td><td>-99.0</td><td>-99.0</td><td>-99.0</td><td>-99.0</td><td>0.923257682576</td><td>-99.0</td><td>-99.0</td><td>-99.0</td><td>-99.0</td><td></td></tr>\n",
       "<tr><td>HELP_J090529.562-011041.306</td><td>136.373173467</td><td>-1.17814049643</td><td>30308</td><td>1.1091</td><td>0.3792</td><td>1.9078</td><td>0.797</td><td>-99.0</td><td>-99.0</td><td>-99.0</td><td>-99.0</td><td>0.981740596603</td><td>-99.0</td><td>-99.0</td><td>-99.0</td><td>-99.0</td><td></td></tr>\n",
       "<tr><td>HELP_J090046.918-011856.173</td><td>135.195490567</td><td>-1.31560348643</td><td>30312</td><td>0.9841</td><td>0.3466</td><td>1.6739</td><td>0.796</td><td>-99.0</td><td>-99.0</td><td>-99.0</td><td>-99.0</td><td>0.88334960273</td><td>-99.0</td><td>-99.0</td><td>-99.0</td><td>-99.0</td><td></td></tr>\n",
       "<tr><td>HELP_J085032.410-011540.279</td><td>132.635043567</td><td>-1.26118848343</td><td>30313</td><td>1.109</td><td>0.3792</td><td>1.9078</td><td>0.797</td><td>-99.0</td><td>-99.0</td><td>-99.0</td><td>-99.0</td><td>0.981740596603</td><td>-99.0</td><td>-99.0</td><td>-99.0</td><td>-99.0</td><td></td></tr>\n",
       "<tr><td>HELP_J085443.327-011651.769</td><td>133.680527667</td><td>-1.28104686043</td><td>30314</td><td>0.9931</td><td>0.3506</td><td>1.6899</td><td>0.796</td><td>-99.0</td><td>-99.0</td><td>-99.0</td><td>-99.0</td><td>0.888999651538</td><td>-99.0</td><td>-99.0</td><td>-99.0</td><td>-99.0</td><td></td></tr>\n",
       "<tr><td>HELP_J090331.372-021708.858</td><td>135.880717467</td><td>-2.28579393343</td><td>30315</td><td>0.9282</td><td>0.3345</td><td>1.5717</td><td>0.797</td><td>-99.0</td><td>-99.0</td><td>-99.0</td><td>-99.0</td><td>0.838753365465</td><td>-99.0</td><td>-99.0</td><td>-99.0</td><td>-99.0</td><td></td></tr>\n",
       "<tr><td>...</td><td>...</td><td>...</td><td>...</td><td>...</td><td>...</td><td>...</td><td>...</td><td>...</td><td>...</td><td>...</td><td>...</td><td>...</td><td>...</td><td>...</td><td>...</td><td>...</td><td>...</td></tr>\n",
       "<tr><td>HELP_J090409.184+015021.031</td><td>136.038268621</td><td>1.8391754103</td><td>11681321</td><td>0.9011</td><td>0.2835</td><td>1.5108</td><td>0.797</td><td>-99.0</td><td>-99.0</td><td>-99.0</td><td>-99.0</td><td>0.721483855642</td><td>3.21337888889</td><td>3.29253444444</td><td>3.31216777778</td><td>7.71898222222</td><td>rk4iii</td></tr>\n",
       "<tr><td>HELP_J090225.731-005456.429</td><td>135.607214165</td><td>-0.91567465204</td><td>11681323</td><td>1.005</td><td>0.3751</td><td>1.6899</td><td>0.797</td><td>-99.0</td><td>-99.0</td><td>-99.0</td><td>-99.0</td><td>0.917505167075</td><td>0.01081822</td><td>0.06902856</td><td>0.03509622</td><td>4.031328</td><td>m3ii</td></tr>\n",
       "<tr><td>HELP_J092114.772+013010.548</td><td>140.311548179</td><td>1.50293001525</td><td>11681324</td><td>0.9626</td><td>0.3547</td><td>1.6184</td><td>0.797</td><td>-99.0</td><td>-99.0</td><td>-99.0</td><td>-99.0</td><td>0.838753365465</td><td>0.34316725</td><td>0.708905</td><td>0.59743675</td><td>3.904905</td><td>m5v</td></tr>\n",
       "<tr><td>HELP_J085931.729+005521.305</td><td>134.882205403</td><td>0.922584687169</td><td>11681325</td><td>0.9492</td><td>0.6807</td><td>1.2407</td><td>0.762</td><td>0.6376</td><td>0.6021</td><td>0.6757</td><td>0.041</td><td>0.872100152911</td><td>3.39228333333</td><td>4.15724666667</td><td>5.31389111111</td><td>9.55838444444</td><td>m5iii</td></tr>\n",
       "<tr><td>HELP_J084254.340+020814.130</td><td>130.72641737</td><td>2.13725846084</td><td>11681326</td><td>0.1374</td><td>0.0533</td><td>0.2235</td><td>0.787</td><td>-99.0</td><td>-99.0</td><td>-99.0</td><td>-99.0</td><td>0.135202305163</td><td>-99.0</td><td>-99.0</td><td>-99.0</td><td>-99.0</td><td></td></tr>\n",
       "<tr><td>HELP_J084340.017+004355.970</td><td>130.916739451</td><td>0.732213881288</td><td>11681327</td><td>0.2861</td><td>0.1083</td><td>0.4688</td><td>0.765</td><td>0.5608</td><td>0.5409</td><td>0.583</td><td>0.033</td><td>0.275879478272</td><td>4.06125666667</td><td>3.5898725</td><td>5.22578666667</td><td>38.8137583333</td><td>k3iii</td></tr>\n",
       "<tr><td>HELP_J092036.533+025901.687</td><td>140.152218811</td><td>2.98380183156</td><td>11681330</td><td>0.6467</td><td>0.2345</td><td>1.1231</td><td>0.797</td><td>-99.0</td><td>-99.0</td><td>-99.0</td><td>-99.0</td><td>0.737023736887</td><td>0.14459564</td><td>0.3300598</td><td>0.16139224</td><td>8.486174</td><td>m0iii</td></tr>\n",
       "<tr><td>HELP_J090306.246-015326.058</td><td>135.776025496</td><td>-1.89057170171</td><td>11681331</td><td>1.293</td><td>0.5735</td><td>1.9962</td><td>0.799</td><td>-99.0</td><td>-99.0</td><td>-99.0</td><td>-99.0</td><td>1.35776719776</td><td>1.966469</td><td>2.647924</td><td>3.450326</td><td>19.86324</td><td>m3iii</td></tr>\n",
       "<tr><td>HELP_J092009.608+005630.444</td><td>140.040033436</td><td>0.941789988289</td><td>11681332</td><td>0.7741</td><td>0.2797</td><td>1.3019</td><td>0.797</td><td>-99.0</td><td>-99.0</td><td>-99.0</td><td>-99.0</td><td>0.75270389706</td><td>3.9559575</td><td>2.30003825</td><td>3.490545</td><td>7.777955</td><td>f2v</td></tr>\n",
       "<tr><td>HELP_J090501.245-014145.934</td><td>136.255189496</td><td>-1.69609270171</td><td>11681333</td><td>0.7725</td><td>0.3792</td><td>1.1876</td><td>0.795</td><td>-99.0</td><td>-99.0</td><td>-99.0</td><td>-99.0</td><td>0.60687278268</td><td>5.35792583333</td><td>5.54606666667</td><td>5.10714916667</td><td>5.67863666667</td><td>m3iii</td></tr>\n",
       "</table>"
      ],
      "text/plain": [
       "<Table length=8834023>\n",
       "          help_id                 RA      ... chi_r_stellar stellar_type\n",
       "           str27               float64    ...    float64        str6    \n",
       "--------------------------- ------------- ... ------------- ------------\n",
       "HELP_J084930.013-020417.068 132.375053567 ...         -99.0             \n",
       "HELP_J085343.238-011847.076 133.430156467 ...         -99.0             \n",
       "HELP_J084950.135-013553.799 132.458896567 ...         -99.0             \n",
       "HELP_J090051.096-013904.046 135.212899567 ...         -99.0             \n",
       "HELP_J085606.834-010133.117 134.028473367 ...         -99.0             \n",
       "HELP_J090529.562-011041.306 136.373173467 ...         -99.0             \n",
       "HELP_J090046.918-011856.173 135.195490567 ...         -99.0             \n",
       "HELP_J085032.410-011540.279 132.635043567 ...         -99.0             \n",
       "HELP_J085443.327-011651.769 133.680527667 ...         -99.0             \n",
       "HELP_J090331.372-021708.858 135.880717467 ...         -99.0             \n",
       "                        ...           ... ...           ...          ...\n",
       "HELP_J090409.184+015021.031 136.038268621 ... 7.71898222222       rk4iii\n",
       "HELP_J090225.731-005456.429 135.607214165 ...      4.031328         m3ii\n",
       "HELP_J092114.772+013010.548 140.311548179 ...      3.904905          m5v\n",
       "HELP_J085931.729+005521.305 134.882205403 ... 9.55838444444        m5iii\n",
       "HELP_J084254.340+020814.130  130.72641737 ...         -99.0             \n",
       "HELP_J084340.017+004355.970 130.916739451 ... 38.8137583333        k3iii\n",
       "HELP_J092036.533+025901.687 140.152218811 ...      8.486174        m0iii\n",
       "HELP_J090306.246-015326.058 135.776025496 ...      19.86324        m3iii\n",
       "HELP_J092009.608+005630.444 140.040033436 ...      7.777955          f2v\n",
       "HELP_J090501.245-014145.934 136.255189496 ... 5.67863666667        m3iii"
      ]
     },
     "execution_count": 8,
     "metadata": {},
     "output_type": "execute_result"
    }
   ],
   "source": [
    "photoz"
   ]
  },
  {
   "cell_type": "markdown",
   "metadata": {},
   "source": [
    "## Join CIGALE and photoz tables"
   ]
  },
  {
   "cell_type": "code",
   "execution_count": 9,
   "metadata": {
    "collapsed": true
   },
   "outputs": [],
   "source": [
    "prior=join(cigale,photoz,keys='help_id')"
   ]
  },
  {
   "cell_type": "code",
   "execution_count": 10,
   "metadata": {
    "collapsed": true
   },
   "outputs": [],
   "source": [
    "from astropy.cosmology import Planck15 as cosmo\n",
    "from astropy import units as u\n",
    "f_pred=prior['bayes.dust.luminosity']/(4*np.pi*cosmo.luminosity_distance(prior['z1_median']).to(u.cm))\n"
   ]
  },
  {
   "cell_type": "code",
   "execution_count": 11,
   "metadata": {
    "collapsed": true
   },
   "outputs": [],
   "source": [
    "prior=prior[np.isfinite(f_pred.value)][np.log10(f_pred.value[np.isfinite(f_pred.value)])>8.5]"
   ]
  },
  {
   "cell_type": "code",
   "execution_count": 12,
   "metadata": {
    "collapsed": true
   },
   "outputs": [],
   "source": [
    "prior['DEC'].name='Dec'"
   ]
  },
  {
   "cell_type": "markdown",
   "metadata": {},
   "source": [
    "## Read in Maps"
   ]
  },
  {
   "cell_type": "code",
   "execution_count": 13,
   "metadata": {
    "collapsed": true
   },
   "outputs": [],
   "source": [
    "\n",
    "pswfits='../../dmu19/dmu19_HELP-SPIRE-maps/data/GAMA-09_SPIRE250_v0.9.fits'#SPIRE 250 map\n",
    "pmwfits='../../dmu19/dmu19_HELP-SPIRE-maps/data/GAMA-09_SPIRE350_v0.9.fits'#SPIRE 350 map\n",
    "plwfits='../../dmu19/dmu19_HELP-SPIRE-maps/data/GAMA-09_SPIRE500_v0.9.fits'#SPIRE 500 map\n",
    "\n",
    "#output folder\n",
    "output_folder='./'"
   ]
  },
  {
   "cell_type": "code",
   "execution_count": 14,
   "metadata": {
    "collapsed": true
   },
   "outputs": [],
   "source": [
    "from astropy.io import fits\n",
    "from astropy import wcs\n",
    "\n",
    "#-----250-------------\n",
    "hdulist = fits.open(pswfits)\n",
    "im250phdu=hdulist[0].header\n",
    "im250hdu=hdulist[1].header\n",
    "\n",
    "im250=hdulist[1].data*1.0E3 #convert to mJy\n",
    "nim250=hdulist[3].data*1.0E3 #convert to mJy\n",
    "w_250 = wcs.WCS(hdulist[1].header)\n",
    "pixsize250=3600.0*w_250.wcs.cdelt #pixel size (in arcseconds)\n",
    "hdulist.close()\n",
    "#-----350-------------\n",
    "hdulist = fits.open(pmwfits)\n",
    "im350phdu=hdulist[0].header\n",
    "im350hdu=hdulist[1].header\n",
    "\n",
    "im350=hdulist[1].data*1.0E3 #convert to mJy\n",
    "nim350=hdulist[3].data*1.0E3 #convert to mJy\n",
    "w_350 = wcs.WCS(hdulist[1].header)\n",
    "pixsize350=3600.0*w_350.wcs.cdelt #pixel size (in arcseconds)\n",
    "hdulist.close()\n",
    "#-----500-------------\n",
    "hdulist = fits.open(plwfits)\n",
    "im500phdu=hdulist[0].header\n",
    "im500hdu=hdulist[1].header\n",
    "im500=hdulist[1].data*1.0E3 #convert to mJy\n",
    "nim500=hdulist[3].data*1.0E3 #convert to mJy\n",
    "w_500 = wcs.WCS(hdulist[1].header)\n",
    "pixsize500=3600.0*w_500.wcs.cdelt #pixel size (in arcseconds)\n",
    "hdulist.close()"
   ]
  },
  {
   "cell_type": "code",
   "execution_count": 15,
   "metadata": {
    "collapsed": true
   },
   "outputs": [],
   "source": [
    "## Set XID+ prior class"
   ]
  },
  {
   "cell_type": "code",
   "execution_count": 16,
   "metadata": {
    "collapsed": true
   },
   "outputs": [],
   "source": [
    "#---prior250--------\n",
    "prior250=xidplus.prior(im250,nim250,im250phdu,im250hdu, moc=Sel_func)#Initialise with map, uncertianty map, wcs info and primary header\n",
    "prior250.prior_cat(prior['RA'] ,prior['Dec'] ,'GAMA09_Ldust_prediction_results.fits',ID=prior['help_id'] )#Set input catalogue\n",
    "prior250.prior_bkg(-5.0,5)#Set prior on background (assumes Gaussian pdf with mu and sigma)\n",
    "#---prior350--------\n",
    "prior350=xidplus.prior(im350,nim350,im350phdu,im350hdu, moc=Sel_func)\n",
    "prior350.prior_cat(prior['RA'] ,prior['Dec'] ,'GAMA09_Ldust_prediction_results.fits',ID=prior['help_id'] )\n",
    "prior350.prior_bkg(-5.0,5)\n",
    "\n",
    "#---prior500--------\n",
    "prior500=xidplus.prior(im500,nim500,im500phdu,im500hdu, moc=Sel_func)\n",
    "prior500.prior_cat(prior['RA'] ,prior['Dec'] ,'GAMA09_Ldust_prediction_results.fits',ID=prior['help_id'] )\n",
    "prior500.prior_bkg(-5.0,5)"
   ]
  },
  {
   "cell_type": "code",
   "execution_count": 17,
   "metadata": {
    "collapsed": true
   },
   "outputs": [],
   "source": [
    "#pixsize array (size of pixels in arcseconds)\n",
    "pixsize=np.array([pixsize250,pixsize350,pixsize500])\n",
    "#point response function for the three bands\n",
    "prfsize=np.array([18.15,25.15,36.3])\n",
    "#use Gaussian2DKernel to create prf (requires stddev rather than fwhm hence pfwhm/2.355)\n",
    "from astropy.convolution import Gaussian2DKernel\n",
    "\n",
    "##---------fit using Gaussian beam-----------------------\n",
    "prf250=Gaussian2DKernel(prfsize[0]/2.355,x_size=101,y_size=101)\n",
    "prf250.normalize(mode='peak')\n",
    "prf350=Gaussian2DKernel(prfsize[1]/2.355,x_size=101,y_size=101)\n",
    "prf350.normalize(mode='peak')\n",
    "prf500=Gaussian2DKernel(prfsize[2]/2.355,x_size=101,y_size=101)\n",
    "prf500.normalize(mode='peak')\n",
    "\n",
    "pind250=np.arange(0,101,1)*1.0/pixsize[0,1] #get 250 scale in terms of pixel scale of map\n",
    "pind350=np.arange(0,101,1)*1.0/pixsize[1,1] #get 350 scale in terms of pixel scale of map\n",
    "pind500=np.arange(0,101,1)*1.0/pixsize[2,1] #get 500 scale in terms of pixel scale of map\n",
    "\n",
    "prior250.set_prf(prf250.array,pind250,pind250)#requires psf as 2d grid, and x and y bins for grid (in pixel scale)\n",
    "prior350.set_prf(prf350.array,pind350,pind350)\n",
    "prior500.set_prf(prf500.array,pind500,pind500)"
   ]
  },
  {
   "cell_type": "code",
   "execution_count": 18,
   "metadata": {},
   "outputs": [
    {
     "name": "stdout",
     "output_type": "stream",
     "text": [
      "----- There are 4959 tiles required for input catalogue and 102 large tiles\n",
      "writing total_bytes=1588798331...\n",
      "writing bytes [0, 1073741824)... done.\n",
      "writing bytes [1073741824, 1588798331)... done.\n"
     ]
    },
    {
     "ename": "SystemExit",
     "evalue": "",
     "output_type": "error",
     "traceback": [
      "An exception has occurred, use %tb to see the full traceback.\n",
      "\u001b[0;31mSystemExit\u001b[0m\n"
     ]
    }
   ],
   "source": [
    "import pickle\n",
    "#from moc, get healpix pixels at a given order\n",
    "from xidplus import moc_routines\n",
    "order=9\n",
    "tiles=moc_routines.get_HEALPix_pixels(order,prior250.sra,prior250.sdec,unique=True)\n",
    "order_large=6\n",
    "tiles_large=moc_routines.get_HEALPix_pixels(order_large,prior250.sra,prior250.sdec,unique=True)\n",
    "print('----- There are '+str(len(tiles))+' tiles required for input catalogue and '+str(len(tiles_large))+' large tiles')\n",
    "output_folder='./'\n",
    "outfile=output_folder+'Master_prior.pkl'\n",
    "xidplus.io.pickle_dump({'priors':[prior250,prior350,prior500],'tiles':tiles,'order':order,'version':xidplus.io.git_version()},outfile)\n",
    "outfile=output_folder+'Tiles.pkl'\n",
    "with open(outfile, 'wb') as f:\n",
    "    pickle.dump({'tiles':tiles,'order':order,'tiles_large':tiles_large,'order_large':order_large,'version':xidplus.io.git_version()},f)\n",
    "raise SystemExit()"
   ]
  },
  {
   "cell_type": "code",
   "execution_count": null,
   "metadata": {},
   "outputs": [],
   "source": [
    "prior250.nsrc"
   ]
  },
  {
   "cell_type": "code",
   "execution_count": null,
   "metadata": {
    "collapsed": true
   },
   "outputs": [],
   "source": []
  }
 ],
 "metadata": {
  "kernelspec": {
   "display_name": "Python 3",
   "language": "python",
   "name": "python3"
  },
  "language_info": {
   "codemirror_mode": {
    "name": "ipython",
    "version": 3
   },
   "file_extension": ".py",
   "mimetype": "text/x-python",
   "name": "python",
   "nbconvert_exporter": "python",
   "pygments_lexer": "ipython3",
   "version": "3.6.8"
  }
 },
 "nbformat": 4,
 "nbformat_minor": 2
}
