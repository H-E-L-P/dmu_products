{
 "cells": [
  {
   "cell_type": "markdown",
   "metadata": {},
   "source": [
    "# Write SEDs to the VO\n",
    "\n",
    "Loop over all the photo-z 'best' SEDs in dmu28 and write them all to the appropriate VO folders with the final published columns"
   ]
  },
  {
   "cell_type": "code",
   "execution_count": 1,
   "metadata": {},
   "outputs": [
    {
     "name": "stdout",
     "output_type": "stream",
     "text": [
      "This notebook was run with herschelhelp_internal version: \n",
      "017bb1e (Mon Jun 18 14:58:59 2018 +0100)\n",
      "This notebook was executed on: \n",
      "2018-06-27 17:34:31.287600\n"
     ]
    }
   ],
   "source": [
    "from  herschelhelp_internal  import git_version\n",
    "print(\"This notebook was run with herschelhelp_internal version: \\n{}\".format(git_version()))\n",
    "import datetime\n",
    "print(\"This notebook was executed on: \\n{}\".format(datetime.datetime.now()))"
   ]
  },
  {
   "cell_type": "code",
   "execution_count": 26,
   "metadata": {},
   "outputs": [],
   "source": [
    "from astropy.table import Table, Column\n",
    "from astropy import units as u\n",
    "import numpy as np\n",
    "\n",
    "import re\n",
    "\n",
    "import yaml\n",
    "\n",
    "import glob\n",
    "\n",
    "from shutil import copyfile\n",
    "\n",
    "\n",
    "import os\n",
    "import time\n",
    "\n",
    "import humanfriendly"
   ]
  },
  {
   "cell_type": "code",
   "execution_count": 3,
   "metadata": {
    "collapsed": true
   },
   "outputs": [],
   "source": [
    "TODAY = os.environ.get('SUFFIX', time.strftime(\"_%Y%m%d\"))"
   ]
  },
  {
   "cell_type": "markdown",
   "metadata": {},
   "source": [
    "## Convert the SEDs\n",
    "Here we define a function to take the SED fits file as output by CIGALE and change it to our final published format. This means replacing the columns thus:\n",
    "\n",
    "\n",
    "| Output column | relation to input columns                                     |\n",
    "|---------------|---------------------------------------------------------------|\n",
    "| WAVE          | wavelength                                                    |\n",
    "| FLUX          | Fnu                                                           |\n",
    "| LUMIN         | L_lambda_total                                                |\n",
    "| STELLAR       | stellar.old + stellar.young                                   |\n",
    "| DUST          | dust.Umin_Umin + dust.Umin_Umax                               |\n",
    "| AGN           | agn.fritz2006_therm + agn.fritz2006_scatt + agn.fritz2006_agn |\n",
    "| IGM           | igm                                                           |"
   ]
  },
  {
   "cell_type": "code",
   "execution_count": 32,
   "metadata": {
    "collapsed": true
   },
   "outputs": [],
   "source": [
    "def cigale_to_vo(in_sed_name, out_folder):\n",
    "    \"\"\"Convert CIGALE output SED to final VO format\n",
    "    \n",
    "    Parameters\n",
    "    ----------\n",
    "    in_sed_name: string\n",
    "        Link to input SED fits file containg astropy Table\n",
    "        \n",
    "    Returns\n",
    "    -------\n",
    "    out_sed_name: string\n",
    "        Link to output SED fits file that was written during function run.\n",
    "    \"\"\"\n",
    "    in_sed = Table.read(in_sed_name)\n",
    "    out_sed_name = out_folder + in_sed_name.split('/')[-1]\n",
    "    \n",
    "    out_sed = Table()\n",
    "    \n",
    "    out_sed.add_column(Column(data = in_sed['wavelength'], \n",
    "                                name = 'WAVE'))\n",
    "    out_sed.add_column(Column(data = in_sed['Fnu'], \n",
    "                                name = 'FLUX'))\n",
    "    out_sed.add_column(Column(data = in_sed['L_lambda_total'], \n",
    "                                name = 'LUMIN'))\n",
    "    out_sed.add_column(Column(data = in_sed['stellar.old'] + in_sed['stellar.young'], \n",
    "                                name = 'STELLAR'))\n",
    "    out_sed.add_column(Column(data = in_sed['dust.Umin_Umin'] + in_sed['dust.Umin_Umax'], \n",
    "                                name = 'DUST'))\n",
    "    out_sed.add_column(Column(data = in_sed['agn.fritz2006_therm'] + in_sed['agn.fritz2006_scatt'] + in_sed['agn.fritz2006_agn'], \n",
    "                                name = 'AGN'))\n",
    "    out_sed.add_column(Column(data = in_sed['igm'], \n",
    "                                name = 'IGM'))\n",
    "    out_sed.write(out_sed_name, overwrite=True)\n",
    "    \n",
    "    #Also try to copy the png\n",
    "    try:\n",
    "        copyfile(in_sed_name.replace('.fits', '.png'), \n",
    "                 out_sed_name.replace('.fits', '.png'))\n",
    "\n",
    "    except FileNotFoundError:\n",
    "        pass\n",
    "        \n",
    "    \n",
    "    return out_sed_name"
   ]
  },
  {
   "cell_type": "code",
   "execution_count": 33,
   "metadata": {
    "collapsed": true
   },
   "outputs": [],
   "source": [
    "dmu32_ymls = glob.glob('../dmu32/*/meta_main.yml', recursive=True)"
   ]
  },
  {
   "cell_type": "code",
   "execution_count": 41,
   "metadata": {},
   "outputs": [
    {
     "name": "stdout",
     "output_type": "stream",
     "text": [
      "dmu_products/dmu28/dmu28_COSMOS/data/zphot/final_results.fits\n",
      "../dmu28/dmu28_COSMOS/data/zphot/SEDs/fits/\n",
      "[]\n",
      "dmu_products/dmu28/dmu28_ELAIS-S1/data/zphot/HELP_final_results.fits\n",
      "../dmu28/dmu28_ELAIS-S1/data/zphot/SEDs/fits/\n",
      "[]\n",
      "dmu_products/dmu28/dmu28_GAMA-09/data/zphot/HELP_final_results.fits\n",
      "../dmu28/dmu28_GAMA-09/data/zphot/SEDs/fits/\n",
      "[]\n",
      "dmu_products/dmu28/dmu28_Lockman-SWIRE/data/zphot/best_extcor/HELP_final_results.fits\n",
      "../dmu28/dmu28_Lockman-SWIRE/data/zphot/best_extcor/SEDs/fits/\n",
      "[]\n",
      "dmu_products/dmu28/dmu28_GAMA-12/data/zphot/HELP_final_results.fits\n",
      "../dmu28/dmu28_GAMA-12/data/zphot/SEDs/fits/\n",
      "[]\n",
      "dmu_products/dmu28/dmu28_GAMA-15/data/zphot/HELP_final_results.fits\n",
      "../dmu28/dmu28_GAMA-15/data/zphot/SEDs/fits/\n",
      "[]\n",
      "dmu_products/dmu28/dmu28_CDFS-SWIRE/data/zphot/HELP_final_results.fits\n",
      "../dmu28/dmu28_CDFS-SWIRE/data/zphot/SEDs/fits/\n",
      "[]\n",
      "dmu_products/dmu28/dmu28_ELAIS-N1/data/zphot/HELP_final_results.fits\n",
      "../dmu28/dmu28_ELAIS-N1/data/zphot/SEDs/fits/\n",
      "['../dmu28/dmu28_ELAIS-N1/data/zphot/SEDs/fits/HELP_J155700.645+544930.666_best_model.fits', '../dmu28/dmu28_ELAIS-N1/data/zphot/SEDs/fits/HELP_J155659.535+544748.704_best_model.fits', '../dmu28/dmu28_ELAIS-N1/data/zphot/SEDs/fits/HELP_J155645.430+544835.225_best_model.fits', '../dmu28/dmu28_ELAIS-N1/data/zphot/SEDs/fits/HELP_J155659.261+550011.369_best_model.fits', '../dmu28/dmu28_ELAIS-N1/data/zphot/SEDs/fits/HELP_J155659.468+545217.840_best_model.fits', '../dmu28/dmu28_ELAIS-N1/data/zphot/SEDs/fits/HELP_J155659.062+545715.698_best_model.fits', '../dmu28/dmu28_ELAIS-N1/data/zphot/SEDs/fits/HELP_J155659.440+550018.719_best_model.fits', '../dmu28/dmu28_ELAIS-N1/data/zphot/SEDs/fits/HELP_J155647.331+550054.897_best_model.fits', '../dmu28/dmu28_ELAIS-N1/data/zphot/SEDs/fits/HELP_J155651.625+545843.028_best_model.fits', '../dmu28/dmu28_ELAIS-N1/data/zphot/SEDs/fits/HELP_J155643.789+545434.542_best_model.fits', '../dmu28/dmu28_ELAIS-N1/data/zphot/SEDs/fits/HELP_J155700.909+550039.328_best_model.fits', '../dmu28/dmu28_ELAIS-N1/data/zphot/SEDs/fits/HELP_J155635.416+545104.554_best_model.fits', '../dmu28/dmu28_ELAIS-N1/data/zphot/SEDs/fits/HELP_J155645.249+550054.367_best_model.fits', '../dmu28/dmu28_ELAIS-N1/data/zphot/SEDs/fits/HELP_J155657.720+545649.854_best_model.fits', '../dmu28/dmu28_ELAIS-N1/data/zphot/SEDs/fits/HELP_J155700.744+550117.430_best_model.fits', '../dmu28/dmu28_ELAIS-N1/data/zphot/SEDs/fits/HELP_J155647.710+545045.424_best_model.fits', '../dmu28/dmu28_ELAIS-N1/data/zphot/SEDs/fits/HELP_J155631.108+545024.379_best_model.fits', '../dmu28/dmu28_ELAIS-N1/data/zphot/SEDs/fits/HELP_J155658.920+545332.279_best_model.fits', '../dmu28/dmu28_ELAIS-N1/data/zphot/SEDs/fits/HELP_J155644.449+545428.304_best_model.fits', '../dmu28/dmu28_ELAIS-N1/data/zphot/SEDs/fits/HELP_J155634.050+545728.087_best_model.fits', '../dmu28/dmu28_ELAIS-N1/data/zphot/SEDs/fits/HELP_J155700.730+545700.665_best_model.fits']\n"
     ]
    }
   ],
   "source": [
    "out_folder = '/mnt/hedam/data-vo/bestseds/{}/'\n",
    "#out_folder = '/Users/rs548/GitHub/gavo_inputs/bestseds/data/{}/'\n",
    "\n",
    "for yml_file in dmu32_ymls:\n",
    "\n",
    "    dmu32_yml = yaml.load(open(yml_file, 'r'))\n",
    "    field = dmu32_yml['field']\n",
    "    cigale = dmu32_yml['cigale']\n",
    "    if cigale != 'None':\n",
    "        print(cigale)\n",
    "        try:\n",
    "            os.mkdir(out_folder.format(field))\n",
    "        except FileExistsError:\n",
    "            pass\n",
    "        \n",
    "        sed_folder = re.sub('/*final_results.fits', '/SEDs/fits/', cigale)\n",
    "        sed_folder = re.sub('dmu_products', '..', sed_folder)\n",
    "        sed_folder = re.sub('/HELP_', '', sed_folder)\n",
    "        print(sed_folder)\n",
    "        all_seds = glob.glob(sed_folder + '*.fits')\n",
    "        print(all_seds)\n",
    "        for in_sed_name in all_seds:\n",
    "            cigale_to_vo(in_sed_name, out_folder.format(field))\n",
    "  "
   ]
  }
 ],
 "metadata": {
  "kernelspec": {
   "display_name": "Python (herschelhelp_internal)",
   "language": "python",
   "name": "helpint"
  },
  "language_info": {
   "codemirror_mode": {
    "name": "ipython",
    "version": 3
   },
   "file_extension": ".py",
   "mimetype": "text/x-python",
   "name": "python",
   "nbconvert_exporter": "python",
   "pygments_lexer": "ipython3",
   "version": "3.6.4"
  }
 },
 "nbformat": 4,
 "nbformat_minor": 2
}
