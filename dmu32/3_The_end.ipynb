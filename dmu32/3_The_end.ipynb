{
 "cells": [
  {
   "cell_type": "markdown",
   "metadata": {},
   "source": [
    "# Final stage of HELP data processing\n",
    "\n",
    "This notebook collates the final output files ready for writing to csv for ingestion to a VO server. At the bottom of the notebook we also summarise the pipeline products which are processed on a given field. This are generated using the dmu32 meta_main.yml files which contain links to the XID+, CIGALE and photo-z catalogues which feed in to the final catalogues for publishing.\n",
    "\n",
    "Summary of notebook:\n",
    "\n",
    "- Take DR1 masterlist suffixes from overview table\n",
    "- Find dmu32 full table names and write to a file\n",
    "- Create summary of all the data products per field using the dmu32 meta_main.yml files"
   ]
  },
  {
   "cell_type": "code",
   "execution_count": 2,
   "metadata": {},
   "outputs": [
    {
     "name": "stdout",
     "output_type": "stream",
     "text": [
      "This notebook was run with herschelhelp_internal version: \n",
      "1407877 (Mon Feb 4 12:56:29 2019 +0000)\n",
      "This notebook was executed on: \n",
      "2020-10-29 15:27:07.370035\n"
     ]
    }
   ],
   "source": [
    "from  herschelhelp_internal  import git_version\n",
    "print(\"This notebook was run with herschelhelp_internal version: \\n{}\".format(git_version()))\n",
    "import datetime\n",
    "print(\"This notebook was executed on: \\n{}\".format(datetime.datetime.now()))"
   ]
  },
  {
   "cell_type": "code",
   "execution_count": 3,
   "metadata": {},
   "outputs": [
    {
     "name": "stderr",
     "output_type": "stream",
     "text": [
      "/Users/rs548/miniconda3/envs/herschelhelp_internal/lib/python3.6/_collections_abc.py:841: MatplotlibDeprecationWarning: \n",
      "The examples.directory rcparam was deprecated in Matplotlib 3.0 and will be removed in 3.2. In the future, examples will be found relative to the 'datapath' directory.\n",
      "  self[key] = other[key]\n",
      "/Users/rs548/miniconda3/envs/herschelhelp_internal/lib/python3.6/_collections_abc.py:841: MatplotlibDeprecationWarning: \n",
      "The savefig.frameon rcparam was deprecated in Matplotlib 3.1 and will be removed in 3.3.\n",
      "  self[key] = other[key]\n",
      "/Users/rs548/miniconda3/envs/herschelhelp_internal/lib/python3.6/_collections_abc.py:841: MatplotlibDeprecationWarning: \n",
      "The text.latex.unicode rcparam was deprecated in Matplotlib 3.0 and will be removed in 3.2.\n",
      "  self[key] = other[key]\n",
      "/Users/rs548/miniconda3/envs/herschelhelp_internal/lib/python3.6/_collections_abc.py:841: MatplotlibDeprecationWarning: \n",
      "The verbose.fileo rcparam was deprecated in Matplotlib 3.1 and will be removed in 3.3.\n",
      "  self[key] = other[key]\n",
      "/Users/rs548/miniconda3/envs/herschelhelp_internal/lib/python3.6/_collections_abc.py:841: MatplotlibDeprecationWarning: \n",
      "The verbose.level rcparam was deprecated in Matplotlib 3.1 and will be removed in 3.3.\n",
      "  self[key] = other[key]\n",
      "/Users/rs548/miniconda3/envs/herschelhelp_internal/lib/python3.6/site-packages/seaborn/apionly.py:9: UserWarning: As seaborn no longer sets a default style on import, the seaborn.apionly module is deprecated. It will be removed in a future version.\n",
      "  warnings.warn(msg, UserWarning)\n"
     ]
    }
   ],
   "source": [
    "from astropy.table import Table, Column\n",
    "from astropy import units as u\n",
    "import numpy as np\n",
    "import glob\n",
    "from pymoc import MOC\n",
    "import hashlib\n",
    "from herschelhelp_internal.masterlist import find_last_ml_suffix\n",
    "\n",
    "import yaml\n",
    "\n",
    "import os\n",
    "import time\n",
    "\n",
    "import humanfriendly"
   ]
  },
  {
   "cell_type": "code",
   "execution_count": 4,
   "metadata": {},
   "outputs": [],
   "source": [
    "TODAY = os.environ.get('SUFFIX', time.strftime(\"_%Y%m%d\"))"
   ]
  },
  {
   "cell_type": "markdown",
   "metadata": {},
   "source": [
    "## The definition of HELP PDR1\n",
    "Here we take the DR1 definition from the dmu32 yaml files which are the definition of the final and official files. "
   ]
  },
  {
   "cell_type": "code",
   "execution_count": 5,
   "metadata": {},
   "outputs": [],
   "source": [
    "yaml_files = glob.glob('./*/meta_main.yml')"
   ]
  },
  {
   "cell_type": "code",
   "execution_count": 6,
   "metadata": {},
   "outputs": [
    {
     "name": "stderr",
     "output_type": "stream",
     "text": [
      "/Users/rs548/miniconda3/envs/herschelhelp_internal/lib/python3.6/site-packages/ipykernel_launcher.py:1: YAMLLoadWarning: calling yaml.load() without Loader=... is deprecated, as the default Loader is unsafe. Please read https://msg.pyyaml.org/load for full details.\n",
      "  \"\"\"Entry point for launching an IPython kernel.\n"
     ]
    }
   ],
   "source": [
    "field_yamls = [yaml.load(open(f, 'r')) for f in yaml_files]"
   ]
  },
  {
   "cell_type": "code",
   "execution_count": 7,
   "metadata": {},
   "outputs": [
    {
     "data": {
      "text/plain": [
       "{'field': 'COSMOS',\n",
       " 'region': 'dmu_products/dmu2/dmu2_field_coverages/COSMOS_MOC.fits',\n",
       " 'surveys': ['CANDELS-3D-HST',\n",
       "  'CFHTLS',\n",
       "  'DECaLS',\n",
       "  'HSC-DEEP',\n",
       "  'HSC-UDEEP',\n",
       "  'KIDS',\n",
       "  'PanSTARRS-3SS',\n",
       "  'UKIDSS-LAS',\n",
       "  'CFHT-WIRDS',\n",
       "  'COSMOS2015'],\n",
       " 'masterlist': 'dmu_products/dmu1/dmu1_ml_COSMOS/data/master_catalogue_cosmos_20180516.fits',\n",
       " 'depths': 'dmu_products/dmu1/dmu1_ml_COSMOS/data/depths_cosmos_20180516.fits',\n",
       " 'flags': 'dmu_products/dmu6/dmu6_v_COSMOS/data/cosmos_20180516_flags.fits',\n",
       " 'xid': ['dmu_products/dmu26/dmu26_XID+MIPS_COSMOS/data/dmu26_XID+MIPS_COSMOS_20170213.fits',\n",
       "  'dmu_products/dmu26/dmu26_XID+PACS_COSMOS/data/dmu26_XID+PACS_COSMOS_20170303.fits',\n",
       "  'dmu_products/dmu26/dmu26_XID+SPIRE_COSMOS/data/dmu26_XID+SPIRE_COSMOS_20161129.fits'],\n",
       " 'photoz': 'dmu_products/dmu24/dmu24_COSMOS/data/COSMOS2015-HELP_selected_20160613_photoz_v1.0.fits',\n",
       " 'cigale': 'dmu_products/dmu28/dmu28_COSMOS/data/zphot/final_results.fits',\n",
       " 'cigale_ldust_prediction': 'dmu_products/dmu28/dmu28_COSMOS/data/COSMOS_Ldust_prediction_results.fits',\n",
       " 'final': 'dmu_products/dmu32/dmu32_COSMOS/data/COSMOS_20180516_cigale.fits'}"
      ]
     },
     "execution_count": 7,
     "metadata": {},
     "output_type": "execute_result"
    }
   ],
   "source": [
    "field_yamls[0]"
   ]
  },
  {
   "cell_type": "code",
   "execution_count": 8,
   "metadata": {},
   "outputs": [
    {
     "name": "stdout",
     "output_type": "stream",
     "text": [
      "COSMOS\n",
      "ELAIS-S1\n",
      "GAMA-09\n",
      "Lockman-SWIRE\n",
      "ELAIS-N2\n",
      "Herschel-Stripe-82\n",
      "SA13\n",
      "GAMA-12\n",
      "GAMA-15\n",
      "AKARI-SEP\n",
      "SGP\n",
      "xFLS\n",
      "CDFS-SWIRE\n",
      "SSDF\n",
      "XMM-LSS\n",
      "SPIRE-NEP\n",
      "AKARI-NEP\n",
      "ELAIS-N1\n",
      "HATLAS-NGP\n",
      "XMM-13hr\n",
      "Bootes\n",
      "HDF-N\n",
      "../dmu32/dmu32_HDF-N/data/HDF-N_20180427_cigale.fits\n",
      "EGS\n"
     ]
    }
   ],
   "source": [
    "GAVO_FOLDER = '/mnt/hedam/data_vo/'\n",
    "stilts_command = 'stilts tpipe {in_file} omode=out ofmt=csv out={GAVO_FOLDER}{out_file}'\n",
    "\n",
    "final_data = open('help_to_vo.sh', 'w+')\n",
    "for y in field_yamls:\n",
    "    print(y['field'])\n",
    "    final_help_product = y['final'].replace('dmu_products', '..')\n",
    "    cigale_input = y['cigale']\n",
    "\n",
    "    if os.path.exists(final_help_product):\n",
    "        print(final_help_product)\n",
    "    \n",
    "        #Test with Cigale input files\n",
    "        final_data.write(stilts_command.format(\n",
    "            in_file=final_help_product, \n",
    "            GAVO_FOLDER=GAVO_FOLDER, \n",
    "            out_file='herschelhelp/main/{}.csv \\n'.format(\n",
    "                final_help_product.split('/')[-1].replace('.fits', '.csv')\n",
    "            )\n",
    "        ))\n",
    "        \n",
    "    else:\n",
    "        final_data.write('# No data for {} \\n'.format(y['field']))\n",
    "        \n",
    "    #final_data.write('./dmu32_{}/data/{}_{}.fits'.format(field[0], field[0], field[1]))\n",
    "    \n",
    "final_data.close()"
   ]
  },
  {
   "cell_type": "markdown",
   "metadata": {},
   "source": [
    "The out put of this notebook is a shell script which will write all the fits files to csv files in the vo folder"
   ]
  },
  {
   "cell_type": "code",
   "execution_count": 19,
   "metadata": {},
   "outputs": [],
   "source": [
    "depths_to_vo = open('depths_to_vo.sh', 'w+')\n",
    "for y in field_yamls:\n",
    "    final_depth_product = y['depths'].replace('dmu_products', '..')\n",
    "    \n",
    "\n",
    "    if os.path.exists(final_depth_product):\n",
    "        print(final_depth_product)\n",
    "    \n",
    "        #Test with Cigale input files\n",
    "        depths_to_vo.write(stilts_command.format(\n",
    "            in_file=final_depth_product, \n",
    "            GAVO_FOLDER=GAVO_FOLDER, \n",
    "            out_file='depth/{}.csv \\n'.format(final_depth_product.split('/')[-1].replace('.fits', '.csv'))\n",
    "        ))\n",
    "\n",
    "        \n",
    "    else:\n",
    "        depths_to_vo.write('# No depths for {} \\n'.format(y['field']))\n",
    "        \n",
    "    #final_data.write('./dmu32_{}/data/{}_{}.fits'.format(field[0], field[0], field[1]))\n",
    "    \n",
    "depths_to_vo.close()"
   ]
  },
  {
   "cell_type": "markdown",
   "metadata": {},
   "source": [
    "## Summarise completeness of HELP data sets\n",
    "\n",
    "Here we get information about what is available on each field to summarise the data products available per field. We take the cigale, xid+ and photo-z filenames from the per field meta_main.yml files here and check they are there and how large they are. This then given a summary of all the data present."
   ]
  },
  {
   "cell_type": "code",
   "execution_count": 13,
   "metadata": {},
   "outputs": [],
   "source": [
    "dr1 = Table()\n",
    "dr1['field'] = [y['field'] for y in field_yamls]\n",
    "dr1.sort('field')"
   ]
  },
  {
   "cell_type": "code",
   "execution_count": 8,
   "metadata": {},
   "outputs": [],
   "source": [
    "fields_info = yaml.load(open(\"../dmu2/meta_main.yml\", 'r'))"
   ]
  },
  {
   "cell_type": "code",
   "execution_count": 42,
   "metadata": {},
   "outputs": [],
   "source": [
    "dr1['objects']             =np.full(len(dr1), 0, dtype=int)\n",
    "dr1['dr1_file']            =np.full(len(dr1), 0, dtype=np.dtype('U250'))\n",
    "dr1['dr1_file_hash']       =np.full(len(dr1), 0, dtype=np.dtype('U250'))\n",
    "dr1['area_sq_degrees']     =np.full(len(dr1), 0, dtype='float64')\n",
    "dr1['file_size_bytes']     =np.full(len(dr1), 0, dtype=int)\n",
    "dr1['file_size_readable']  =np.full(len(dr1), 0, dtype=np.dtype('U250'))\n",
    "dr1['xid_objects']         =np.full(len(dr1), 0, dtype=int)\n",
    "dr1['photoz_objects']      =np.full(len(dr1), 0, dtype=int)\n",
    "dr1['cigale_objects']      =np.full(len(dr1), 0, dtype=int)"
   ]
  },
  {
   "cell_type": "code",
   "execution_count": 43,
   "metadata": {},
   "outputs": [],
   "source": [
    "\n",
    "def file_as_bytes(file):\n",
    "    with file:\n",
    "        return file.read()\n",
    "\n"
   ]
  },
  {
   "cell_type": "code",
   "execution_count": 44,
   "metadata": {},
   "outputs": [
    {
     "name": "stdout",
     "output_type": "stream",
     "text": [
      "COSMOS:\n",
      "Problem reading dmu_products/dmu32/dmu32_COSMOS/data/COSMOS_20180516_cigale.fits\n",
      "ELAIS-S1:\n",
      "Problem reading dmu_products/dmu32/dmu32_ELAIS-S1/data/ELAIS-S1_20180416_cigale.fits\n",
      "GAMA-09:\n",
      "Problem reading dmu_products/dmu32/dmu32_AKARI-NEP/data/AKARI-NEP_20180215_cigale.fits\n",
      "Lockman-SWIRE:\n",
      "Problem reading dmu_products/dmu32/dmu32_AKARI-NEP/data/AKARI-NEP_20180215_cigale.fits\n",
      "ELAIS-N2:\n",
      "Problem reading dmu_products/dmu32/dmu32_ELAIS-N2/data/ELAIS-N2_20180218_cigale.fits\n",
      "Herschel-Stripe-82:\n",
      "Problem reading dmu_products/dmu32/dmu32_Herschel-Stripe-82/data/Herschel-Stripe-82_20180307_cigale.fits\n",
      "SA13:\n",
      "Problem reading dmu_products/dmu32/dmu32_SA13/data/SA13.fits\n",
      "GAMA-12:\n",
      "Problem reading dmu_products/dmu32/dmu32_GAMA-12/data/GAMA-12_20180218.fits\n",
      "GAMA-15:\n",
      "Problem reading dmu_products/dmu32/dmu32_GAMA-15/data/GAMA-15_20180213.fits\n",
      "AKARI-SEP:\n",
      "Problem reading dmu_products/dmu32/dmu32_AKARI-SEP/data/AKARI-SEP.fits\n",
      "SGP:\n",
      "Problem reading dmu_products/dmu32/dmu32_SGP/data/SGP_20180221_cigale.fits\n",
      "xFLS:\n",
      "Problem reading dmu_products/dmu32/dmu32_xFLS/data/xFLS.fits\n",
      "CDFS-SWIRE:\n",
      "Problem reading dmu_products/dmu32/dmu32_CDFS-SWIRE/data/CDFS-SWIRE_20180221.fits\n",
      "SSDF:\n",
      "Problem reading dmu_products/dmu32/dmu32_SSDF/data/SSDF_20180221_cigale.fits\n",
      "XMM-LSS:\n",
      "Problem reading dmu_products/dmu32/dmu32_XMM-LSS/data/XMM-LSS_20180504_cigale.fits\n",
      "SPIRE-NEP:\n",
      "Problem reading dmu_products/dmu32/dmu32_SPIRE-NEP/data/SPIRE-NEP.fits\n",
      "AKARI-NEP:\n",
      "Problem reading dmu_products/dmu32/dmu32_AKARI-NEP/data/AKARI-NEP_20180215_cigale.fits\n",
      "ELAIS-N1:\n",
      "Problem reading dmu_products/dmu32/dmu32_ELAIS-N1/data/ELAIS-N1_20171016.fits\n",
      "HATLAS-NGP:\n",
      "Problem reading dmu_products/dmu32/dmu32_NGP/data/NGP_20180219_cigale.fits\n",
      "XMM-13hr:\n",
      "Problem reading dmu_products/dmu32/dmu32_XMM-13hr/data/XMM-13hr.fits\n",
      "Bootes:\n",
      "Problem reading dmu_products/dmu32/dmu32_Bootes/data/Bootes_20190201_cigale.fits\n",
      "HDF-N:\n",
      "Problem reading dmu_products/dmu32/dmu32_HDF-N/data/HDF-N_20180427_cigale.fits\n",
      "EGS:\n",
      "Problem reading dmu_products/dmu32/dmu32_EGS/data/EGS.fits\n"
     ]
    }
   ],
   "source": [
    "for y in field_yamls:\n",
    "    print(y['field'] + ':')\n",
    "    this_row = dr1['field'] == y['field']\n",
    "    final = y['final'].replace('dmu_products/', '../')\n",
    "    moc = y['region'].replace('dmu_products/', '../')\n",
    "    try:\n",
    "        cat = Table.read(final)\n",
    "        \n",
    "        \n",
    "        dr1['objects'][this_row]            = len(cat)\n",
    "        dr1['dr1_file'][this_row]           = y['final']\n",
    "        dr1['dr1_file_hash'][this_row]      = hashlib.md5(file_as_bytes(open(final, 'rb'))).hexdigest()\n",
    "        dr1['area_sq_degrees'][this_row]    = help_moc = MOC(filename=moc).area_sq_deg\n",
    "        size = os.stat(final).st_size\n",
    "        dr1['file_size_bytes'][this_row]    = size\n",
    "\n",
    "        dr1['file_size_readable'][this_row] = humanfriendly.format_size(size)\n",
    "        dr1['xid_objects'][this_row]        = np.sum(cat['f_spire_500']>0)\n",
    "        dr1['photoz_objects'][this_row]     =  np.sum(cat['redshift']>0)\n",
    "        dr1['cigale_objects'][this_row]     = np.sum(cat['cigale_sfr']>0)\n",
    "    \n",
    "    except:\n",
    "        print('Problem reading {}'.format(y['final']))"
   ]
  },
  {
   "cell_type": "code",
   "execution_count": 45,
   "metadata": {},
   "outputs": [
    {
     "data": {
      "text/plain": [
       "'../dmu32/dmu32_EGS/data/EGS.fits'"
      ]
     },
     "execution_count": 45,
     "metadata": {},
     "output_type": "execute_result"
    }
   ],
   "source": [
    "final"
   ]
  },
  {
   "cell_type": "code",
   "execution_count": 46,
   "metadata": {},
   "outputs": [
    {
     "data": {
      "text/html": [
       "<i>Table length=23</i>\n",
       "<table id=\"table4704592952-279667\" class=\"table-striped table-bordered table-condensed\">\n",
       "<thead><tr><th>idx</th><th>field</th><th>objects</th><th>dr1_file</th><th>dr1_file_hash</th><th>area_sq_degrees</th><th>file_size_bytes</th><th>file_size_readable</th><th>xid_objects</th><th>photoz_objects</th><th>cigale_objects</th></tr></thead>\n",
       "<tr><td>0</td><td>AKARI-NEP</td><td>0</td><td>0</td><td>0</td><td>0.0</td><td>0</td><td>0</td><td>0</td><td>0</td><td>0</td></tr>\n",
       "<tr><td>1</td><td>AKARI-SEP</td><td>0</td><td>0</td><td>0</td><td>0.0</td><td>0</td><td>0</td><td>0</td><td>0</td><td>0</td></tr>\n",
       "<tr><td>2</td><td>Bootes</td><td>0</td><td>0</td><td>0</td><td>0.0</td><td>0</td><td>0</td><td>0</td><td>0</td><td>0</td></tr>\n",
       "<tr><td>3</td><td>CDFS-SWIRE</td><td>0</td><td>0</td><td>0</td><td>0.0</td><td>0</td><td>0</td><td>0</td><td>0</td><td>0</td></tr>\n",
       "<tr><td>4</td><td>COSMOS</td><td>0</td><td>0</td><td>0</td><td>0.0</td><td>0</td><td>0</td><td>0</td><td>0</td><td>0</td></tr>\n",
       "<tr><td>5</td><td>EGS</td><td>0</td><td>0</td><td>0</td><td>0.0</td><td>0</td><td>0</td><td>0</td><td>0</td><td>0</td></tr>\n",
       "<tr><td>6</td><td>ELAIS-N1</td><td>0</td><td>0</td><td>0</td><td>0.0</td><td>0</td><td>0</td><td>0</td><td>0</td><td>0</td></tr>\n",
       "<tr><td>7</td><td>ELAIS-N2</td><td>0</td><td>0</td><td>0</td><td>0.0</td><td>0</td><td>0</td><td>0</td><td>0</td><td>0</td></tr>\n",
       "<tr><td>8</td><td>ELAIS-S1</td><td>0</td><td>0</td><td>0</td><td>0.0</td><td>0</td><td>0</td><td>0</td><td>0</td><td>0</td></tr>\n",
       "<tr><td>9</td><td>GAMA-09</td><td>0</td><td>0</td><td>0</td><td>0.0</td><td>0</td><td>0</td><td>0</td><td>0</td><td>0</td></tr>\n",
       "<tr><td>10</td><td>GAMA-12</td><td>0</td><td>0</td><td>0</td><td>0.0</td><td>0</td><td>0</td><td>0</td><td>0</td><td>0</td></tr>\n",
       "<tr><td>11</td><td>GAMA-15</td><td>0</td><td>0</td><td>0</td><td>0.0</td><td>0</td><td>0</td><td>0</td><td>0</td><td>0</td></tr>\n",
       "<tr><td>12</td><td>HATLAS-NGP</td><td>0</td><td>0</td><td>0</td><td>0.0</td><td>0</td><td>0</td><td>0</td><td>0</td><td>0</td></tr>\n",
       "<tr><td>13</td><td>HDF-N</td><td>130679</td><td>dmu_products/dmu32/dmu32_HDF-N/data/HDF-N_20180427_cigale.fits</td><td>eda45995ea7811f618393675056ff003</td><td>0.6717832558166041</td><td>190630080</td><td>190.63 MB</td><td>834</td><td>7435</td><td>0</td></tr>\n",
       "<tr><td>14</td><td>Herschel-Stripe-82</td><td>0</td><td>0</td><td>0</td><td>0.0</td><td>0</td><td>0</td><td>0</td><td>0</td><td>0</td></tr>\n",
       "<tr><td>15</td><td>Lockman-SWIRE</td><td>0</td><td>0</td><td>0</td><td>0.0</td><td>0</td><td>0</td><td>0</td><td>0</td><td>0</td></tr>\n",
       "<tr><td>16</td><td>SA13</td><td>0</td><td>0</td><td>0</td><td>0.0</td><td>0</td><td>0</td><td>0</td><td>0</td><td>0</td></tr>\n",
       "<tr><td>17</td><td>SGP</td><td>0</td><td>0</td><td>0</td><td>0.0</td><td>0</td><td>0</td><td>0</td><td>0</td><td>0</td></tr>\n",
       "<tr><td>18</td><td>SPIRE-NEP</td><td>0</td><td>0</td><td>0</td><td>0.0</td><td>0</td><td>0</td><td>0</td><td>0</td><td>0</td></tr>\n",
       "<tr><td>19</td><td>SSDF</td><td>0</td><td>0</td><td>0</td><td>0.0</td><td>0</td><td>0</td><td>0</td><td>0</td><td>0</td></tr>\n",
       "<tr><td>20</td><td>XMM-13hr</td><td>0</td><td>0</td><td>0</td><td>0.0</td><td>0</td><td>0</td><td>0</td><td>0</td><td>0</td></tr>\n",
       "<tr><td>21</td><td>XMM-LSS</td><td>0</td><td>0</td><td>0</td><td>0.0</td><td>0</td><td>0</td><td>0</td><td>0</td><td>0</td></tr>\n",
       "<tr><td>22</td><td>xFLS</td><td>0</td><td>0</td><td>0</td><td>0.0</td><td>0</td><td>0</td><td>0</td><td>0</td><td>0</td></tr>\n",
       "</table><style>table.dataTable {clear: both; width: auto !important; margin: 0 !important;}\n",
       ".dataTables_info, .dataTables_length, .dataTables_filter, .dataTables_paginate{\n",
       "display: inline-block; margin-right: 1em; }\n",
       ".paginate_button { margin-right: 5px; }\n",
       "</style>\n",
       "<script>\n",
       "\n",
       "var astropy_sort_num = function(a, b) {\n",
       "    var a_num = parseFloat(a);\n",
       "    var b_num = parseFloat(b);\n",
       "\n",
       "    if (isNaN(a_num) && isNaN(b_num))\n",
       "        return ((a < b) ? -1 : ((a > b) ? 1 : 0));\n",
       "    else if (!isNaN(a_num) && !isNaN(b_num))\n",
       "        return ((a_num < b_num) ? -1 : ((a_num > b_num) ? 1 : 0));\n",
       "    else\n",
       "        return isNaN(a_num) ? -1 : 1;\n",
       "}\n",
       "\n",
       "require.config({paths: {\n",
       "    datatables: 'https://cdn.datatables.net/1.10.12/js/jquery.dataTables.min'\n",
       "}});\n",
       "require([\"datatables\"], function(){\n",
       "    console.log(\"$('#table4704592952-279667').dataTable()\");\n",
       "    \n",
       "jQuery.extend( jQuery.fn.dataTableExt.oSort, {\n",
       "    \"optionalnum-asc\": astropy_sort_num,\n",
       "    \"optionalnum-desc\": function (a,b) { return -astropy_sort_num(a, b); }\n",
       "});\n",
       "\n",
       "    $('#table4704592952-279667').dataTable({\n",
       "        order: [],\n",
       "        pageLength: 50,\n",
       "        lengthMenu: [[10, 25, 50, 100, 500, 1000, -1], [10, 25, 50, 100, 500, 1000, 'All']],\n",
       "        pagingType: \"full_numbers\",\n",
       "        columnDefs: [{targets: [0, 2, 5, 6, 8, 9, 10], type: \"optionalnum\"}]\n",
       "    });\n",
       "});\n",
       "</script>\n"
      ],
      "text/plain": [
       "<IPython.core.display.HTML object>"
      ]
     },
     "execution_count": 46,
     "metadata": {},
     "output_type": "execute_result"
    }
   ],
   "source": [
    "dr1.show_in_notebook()"
   ]
  },
  {
   "cell_type": "code",
   "execution_count": 53,
   "metadata": {},
   "outputs": [
    {
     "name": "stdout",
     "output_type": "stream",
     "text": [
      "Totals:\n",
      "Area:              1 Square degrees\n",
      "Objects :          130679\n",
      "XID+ objects :     834 (= 1 percent)\n",
      "Redshifts :        7435 (= 6 percent)\n",
      "CIGALE objects :   0 (= 0 percent)\n",
      "Final tables size: 190.63 MB\n",
      "\n"
     ]
    }
   ],
   "source": [
    "print(\"\"\"Totals:\n",
    "Area:              {} Square degrees\n",
    "Objects :          {}\n",
    "XID+ objects :     {} (= {} percent)\n",
    "Redshifts :        {} (= {} percent)\n",
    "CIGALE objects :   {} (= {} percent)\n",
    "Final tables size: {}\n",
    "\"\"\".format(\n",
    "    round(np.sum(dr1['area_sq_degrees'])),\n",
    "    np.sum(dr1['objects']),\n",
    "    np.sum(dr1['xid_objects']), round(100*np.sum(dr1['xid_objects'])/np.sum(dr1['objects'])),\n",
    "    np.sum(dr1['photoz_objects']), round(100*np.sum(dr1['photoz_objects'])/np.sum(dr1['objects'])),\n",
    "    np.sum(dr1['cigale_objects']), round(100*np.sum(dr1['cigale_objects'])/np.sum(dr1['objects'])),\n",
    "    humanfriendly.format_size(np.sum(dr1['file_size_bytes']))\n",
    "))"
   ]
  },
  {
   "cell_type": "code",
   "execution_count": 13,
   "metadata": {
    "collapsed": true
   },
   "outputs": [],
   "source": [
    "dr1.write('dr1_data_products_overview{}.csv'.format(TODAY), overwrite=True)"
   ]
  }
 ],
 "metadata": {
  "anaconda-cloud": {},
  "kernelspec": {
   "display_name": "Python (herschelhelp_internal)",
   "language": "python",
   "name": "helpint"
  },
  "language_info": {
   "codemirror_mode": {
    "name": "ipython",
    "version": 3
   },
   "file_extension": ".py",
   "mimetype": "text/x-python",
   "name": "python",
   "nbconvert_exporter": "python",
   "pygments_lexer": "ipython3",
   "version": "3.6.10"
  }
 },
 "nbformat": 4,
 "nbformat_minor": 2
}
