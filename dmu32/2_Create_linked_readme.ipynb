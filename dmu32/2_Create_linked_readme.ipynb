{
 "cells": [
  {
   "cell_type": "code",
   "execution_count": 2,
   "metadata": {},
   "outputs": [],
   "source": [
    "import numpy as np\n",
    "import glob"
   ]
  },
  {
   "cell_type": "code",
   "execution_count": 3,
   "metadata": {},
   "outputs": [],
   "source": [
    "file_list = glob.glob('*/*.yml')"
   ]
  },
  {
   "cell_type": "code",
   "execution_count": 52,
   "metadata": {},
   "outputs": [
    {
     "name": "stdout",
     "output_type": "stream",
     "text": [
      "dmu32_COSMOS/readme.txt\n",
      "dmu32_ELAIS-S1/readme.txt\n",
      "dmu32_GAMA-09/readme.txt\n",
      "dmu32_Lockman-SWIRE/readme.txt\n",
      "dmu32_ELAIS-N2/readme.txt\n",
      "dmu32_Herschel-Stripe-82/readme.txt\n",
      "dmu32_SA13/readme.txt\n",
      "dmu32_GAMA-12/readme.txt\n",
      "dmu32_GAMA-15/readme.txt\n",
      "dmu32_AKARI-SEP/readme.txt\n",
      "dmu32_SGP/readme.txt\n",
      "dmu32_xFLS/readme.txt\n",
      "dmu32_CDFS-SWIRE/readme.txt\n",
      "dmu32_SSDF/readme.txt\n",
      "dmu32_XMM-LSS/readme.txt\n",
      "dmu32_SPIRE-NEP/readme.txt\n",
      "dmu32_AKARI-NEP/readme.txt\n",
      "dmu32_ELAIS-N1/readme.txt\n",
      "dmu32_NGP/readme.txt\n",
      "dmu32_XMM-13hr/readme.txt\n",
      "dmu32_Bootes/readme.txt\n",
      "dmu32_HDF-N/readme.txt\n",
      "dmu32_EGS/readme.txt\n"
     ]
    }
   ],
   "source": [
    "replaced = 'http://hedam.lam.fr/HELP/dataproducts'\n",
    "names = ['region','masterlist','depths','flags','xid','photoz','cigale','final']\n",
    "\n",
    "for file in file_list:\n",
    "    f = open(file,'r')\n",
    "    print(file.replace('yml','txt').replace('meta_main','readme'))\n",
    "    readme = open(file.replace('yml','txt').replace('meta_main','readme'),'w')\n",
    "    for lines in f:\n",
    "\n",
    "        line = lines.split()\n",
    "        if len(line)==0:\n",
    "            continue\n",
    "        name = line[0].replace(':','')\n",
    "    \n",
    "        if 'field' in line[0]:\n",
    "            field = line[1]\n",
    "            readme.write('field: ')\n",
    "            readme.write(line[1])\n",
    "            readme.write('\\n')\n",
    "        if name in names:\n",
    "            readme.write('{}:   '.format(name))\n",
    "            for word in line:\n",
    "                if '.fits' in word:\n",
    "                    word = word.replace('dmu_products','http://hedam.lam.fr/HELP/dataproducts').replace(',','')\n",
    "                    readme.write(word+'\\n      ')\n",
    "\n",
    "            readme.write('\\n')\n",
    "        \n",
    "        #if name=='pacs_maps':\n",
    "    readme.write(name+':   ')\n",
    "    readme.write('http://hedam.lam.fr/HELP/dataproducts/dmu18/dmu18_HELP-PACS-maps/data/{}_PACS100_v0.9.fits\\n      '.format(field))\n",
    "    readme.write('http://hedam.lam.fr/HELP/dataproducts/dmu18/dmu18_HELP-PACS-maps/data/{}_PACS160_v0.9.fits\\n\\n'.format(field))\n",
    "    \n",
    "        #if name=='spire_maps':\n",
    "    readme.write(name+':   ')\n",
    "    readme.write('http://hedam.lam.fr/HELP/dataproducts/dmu19/dmu19_HELP-SPIRE-maps/data/{}'.format(field)+'_SPIRE250_v1.0.fits\\n       ')\n",
    "    readme.write('http://hedam.lam.fr/HELP/dataproducts/dmu19/dmu19_HELP-SPIRE-maps/data/{}'.format(field)+'_SPIRE350_v1.0.fits\\n       ')\n",
    "    readme.write('http://hedam.lam.fr/HELP/dataproducts/dmu19/dmu19_HELP-SPIRE-maps/data/{}'.format(field)+'_SPIRE500_v1.0.fits\\n\\n')\n",
    "\n",
    "    readme.close()\n",
    "\n"
   ]
  },
  {
   "cell_type": "code",
   "execution_count": 46,
   "metadata": {},
   "outputs": [
    {
     "name": "stdout",
     "output_type": "stream",
     "text": [
      "ian\n",
      "IAN\n"
     ]
    }
   ],
   "source": [
    "a='ian'\n",
    "print(a)\n",
    "print(a.swapcase())"
   ]
  },
  {
   "cell_type": "code",
   "execution_count": 28,
   "metadata": {},
   "outputs": [
    {
     "data": {
      "text/plain": [
       "['dmu32_COSMOS/meta_main.yml',\n",
       " 'dmu32_ELAIS-S1/meta_main.yml',\n",
       " 'dmu32_GAMA-09/meta_main.yml',\n",
       " 'dmu32_Lockman-SWIRE/meta_main.yml',\n",
       " 'dmu32_ELAIS-N2/meta_main.yml',\n",
       " 'dmu32_Herschel-Stripe-82/meta_main.yml',\n",
       " 'dmu32_SA13/meta_main.yml',\n",
       " 'dmu32_GAMA-12/meta_main.yml',\n",
       " 'dmu32_GAMA-15/meta_main.yml',\n",
       " 'dmu32_AKARI-SEP/meta_main.yml',\n",
       " 'dmu32_SGP/meta_main.yml',\n",
       " 'dmu32_xFLS/meta_main.yml',\n",
       " 'dmu32_CDFS-SWIRE/meta_main.yml',\n",
       " 'dmu32_SSDF/meta_main.yml',\n",
       " 'dmu32_XMM-LSS/meta_main.yml',\n",
       " 'dmu32_SPIRE-NEP/meta_main.yml',\n",
       " 'dmu32_AKARI-NEP/meta_main.yml',\n",
       " 'dmu32_ELAIS-N1/meta_main.yml',\n",
       " 'dmu32_NGP/meta_main.yml',\n",
       " 'dmu32_XMM-13hr/meta_main.yml',\n",
       " 'dmu32_Bootes/meta_main.yml',\n",
       " 'dmu32_HDF-N/meta_main.yml',\n",
       " 'dmu32_EGS/meta_main.yml']"
      ]
     },
     "execution_count": 28,
     "metadata": {},
     "output_type": "execute_result"
    }
   ],
   "source": [
    "file_list"
   ]
  },
  {
   "cell_type": "code",
   "execution_count": null,
   "metadata": {},
   "outputs": [],
   "source": []
  }
 ],
 "metadata": {
  "kernelspec": {
   "display_name": "Python 3",
   "language": "python",
   "name": "python3"
  },
  "language_info": {
   "codemirror_mode": {
    "name": "ipython",
    "version": 3
   },
   "file_extension": ".py",
   "mimetype": "text/x-python",
   "name": "python",
   "nbconvert_exporter": "python",
   "pygments_lexer": "ipython3",
   "version": "3.7.3"
  }
 },
 "nbformat": 4,
 "nbformat_minor": 2
}
