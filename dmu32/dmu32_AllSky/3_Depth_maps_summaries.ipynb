{
 "cells": [
  {
   "cell_type": "markdown",
   "metadata": {},
   "source": [
    "# Summaise depth maps"
   ]
  },
  {
   "cell_type": "code",
   "execution_count": 1,
   "metadata": {},
   "outputs": [],
   "source": [
    "import yaml\n",
    "from astropy.table import Table, vstack, unique\n",
    "import numpy as np\n",
    "import glob"
   ]
  },
  {
   "cell_type": "code",
   "execution_count": 2,
   "metadata": {},
   "outputs": [],
   "source": [
    "meta_files = glob.glob('../*/meta_main.yml')"
   ]
  },
  {
   "cell_type": "code",
   "execution_count": 3,
   "metadata": {},
   "outputs": [],
   "source": [
    "depths  =Table()"
   ]
  },
  {
   "cell_type": "code",
   "execution_count": 4,
   "metadata": {},
   "outputs": [
    {
     "name": "stderr",
     "output_type": "stream",
     "text": [
      "/Users/rs548/miniconda3/envs/herschelhelp_internal/lib/python3.6/site-packages/ipykernel_launcher.py:1: YAMLLoadWarning: calling yaml.load() without Loader=... is deprecated, as the default Loader is unsafe. Please read https://msg.pyyaml.org/load for full details.\n",
      "  \"\"\"Entry point for launching an IPython kernel.\n"
     ]
    }
   ],
   "source": [
    "depths['field'] = [yaml.load(open(y, 'r'))['field'] for y in meta_files]"
   ]
  },
  {
   "cell_type": "code",
   "execution_count": 5,
   "metadata": {},
   "outputs": [],
   "source": [
    "bands = ['u', 'g', 'r', 'i', 'z', 'y', 'j', 'h', 'k', 'ks', \n",
    "         'irac_i1', 'irac_i2', 'irac_i3', 'irac_i4', \n",
    "          'mips_24', 'pacs_green', 'pacs_red', \n",
    "         'spire_250', 'spire_350', 'spire_500']"
   ]
  },
  {
   "cell_type": "code",
   "execution_count": 6,
   "metadata": {},
   "outputs": [],
   "source": [
    "for band in bands:\n",
    "    depths['ferr_{}_mean_median'.format(band)] = np.full(len(depths), np.nan)"
   ]
  },
  {
   "cell_type": "code",
   "execution_count": null,
   "metadata": {},
   "outputs": [],
   "source": []
  },
  {
   "cell_type": "code",
   "execution_count": 7,
   "metadata": {},
   "outputs": [
    {
     "name": "stderr",
     "output_type": "stream",
     "text": [
      "/Users/rs548/miniconda3/envs/herschelhelp_internal/lib/python3.6/site-packages/ipykernel_launcher.py:2: YAMLLoadWarning: calling yaml.load() without Loader=... is deprecated, as the default Loader is unsafe. Please read https://msg.pyyaml.org/load for full details.\n",
      "  \n"
     ]
    },
    {
     "name": "stdout",
     "output_type": "stream",
     "text": [
      "No depth present on COSMOS\n",
      "No depth present on ELAIS-S1\n",
      "No depth present on GAMA-09\n",
      "No depth present on Lockman-SWIRE\n",
      "No depth present on ELAIS-N2\n",
      "No depth present on Herschel-Stripe-82\n",
      "No depth present on SA13\n",
      "No depth present on GAMA-12\n",
      "No depth present on GAMA-15\n",
      "No depth present on AKARI-SEP\n",
      "No depth present on HATLAS-SGP\n",
      "No depth present on xFLS\n",
      "No depth present on CDFS-SWIRE\n",
      "No depth present on SSDF\n",
      "No depth present on XMM-LSS\n",
      "No depth present on SPIRE-NEP\n",
      "h  missing\n",
      "k  missing\n",
      "irac_i3  missing\n",
      "irac_i4  missing\n",
      "No depth present on ELAIS-N1\n",
      "No depth present on HATLAS-NGP\n",
      "No depth present on XMM-13hr\n",
      "No depth present on Bootes\n",
      "No depth present on HDF-N\n",
      "No depth present on EGS\n"
     ]
    }
   ],
   "source": [
    "for y in meta_files:\n",
    "    yml = yaml.load(open(y, 'r'))\n",
    "    try:\n",
    "        depth = Table.read(\n",
    "            \"../dmu32_{}/data/depths_{}_{}.fits\".format(\n",
    "            yml['field'].replace('HATLAS-',''), \n",
    "            yml['field'].lower(), \n",
    "            yml['final'].split('.')[0].split('_')[-1] )\n",
    "        )\n",
    "    except:\n",
    "        print('No depth present on ' + yml['field'])\n",
    "        continue\n",
    "    for band in bands:\n",
    "        try:\n",
    "            depths['ferr_{}_mean_median'.format(band)][\n",
    "                depths['field']==yml['field']\n",
    "            ] = np.nanmedian(depth['ferr_{}_mean'.format(band)])\n",
    "        except:\n",
    "            print(band, ' missing')"
   ]
  },
  {
   "cell_type": "code",
   "execution_count": 8,
   "metadata": {},
   "outputs": [
    {
     "data": {
      "text/plain": [
       "'../dmu32_EGS/data/depths_egs_20180501.fits'"
      ]
     },
     "execution_count": 8,
     "metadata": {},
     "output_type": "execute_result"
    }
   ],
   "source": [
    "\"../dmu32_{}/data/depths_{}_{}.fits\".format(\n",
    "            yml['field'].replace('HATLAS-',''), \n",
    "            yml['field'].lower(), \n",
    "            yml['final'].split('.')[0].split('_')[-1] )"
   ]
  },
  {
   "cell_type": "code",
   "execution_count": 11,
   "metadata": {},
   "outputs": [
    {
     "data": {
      "text/html": [
       "<i>Table length=23</i>\n",
       "<table id=\"table4341638648\" class=\"table-striped table-bordered table-condensed\">\n",
       "<thead><tr><th>field</th><th>ferr_u_mean_median</th><th>ferr_g_mean_median</th><th>ferr_r_mean_median</th><th>ferr_i_mean_median</th><th>ferr_z_mean_median</th><th>ferr_y_mean_median</th><th>ferr_j_mean_median</th><th>ferr_h_mean_median</th><th>ferr_k_mean_median</th><th>ferr_ks_mean_median</th><th>ferr_irac_i1_mean_median</th><th>ferr_irac_i2_mean_median</th><th>ferr_irac_i3_mean_median</th><th>ferr_irac_i4_mean_median</th><th>ferr_mips_24_mean_median</th><th>ferr_pacs_green_mean_median</th><th>ferr_pacs_red_mean_median</th><th>ferr_spire_250_mean_median</th><th>ferr_spire_350_mean_median</th><th>ferr_spire_500_mean_median</th></tr></thead>\n",
       "<thead><tr><th>str18</th><th>float64</th><th>float64</th><th>float64</th><th>float64</th><th>float64</th><th>float64</th><th>float64</th><th>float64</th><th>float64</th><th>float64</th><th>float64</th><th>float64</th><th>float64</th><th>float64</th><th>float64</th><th>float64</th><th>float64</th><th>float64</th><th>float64</th><th>float64</th></tr></thead>\n",
       "<tr><td>COSMOS</td><td>nan</td><td>nan</td><td>nan</td><td>nan</td><td>nan</td><td>nan</td><td>nan</td><td>nan</td><td>nan</td><td>nan</td><td>nan</td><td>nan</td><td>nan</td><td>nan</td><td>nan</td><td>nan</td><td>nan</td><td>nan</td><td>nan</td><td>nan</td></tr>\n",
       "<tr><td>ELAIS-S1</td><td>nan</td><td>nan</td><td>nan</td><td>nan</td><td>nan</td><td>nan</td><td>nan</td><td>nan</td><td>nan</td><td>nan</td><td>nan</td><td>nan</td><td>nan</td><td>nan</td><td>nan</td><td>nan</td><td>nan</td><td>nan</td><td>nan</td><td>nan</td></tr>\n",
       "<tr><td>GAMA-09</td><td>nan</td><td>nan</td><td>nan</td><td>nan</td><td>nan</td><td>nan</td><td>nan</td><td>nan</td><td>nan</td><td>nan</td><td>nan</td><td>nan</td><td>nan</td><td>nan</td><td>nan</td><td>nan</td><td>nan</td><td>nan</td><td>nan</td><td>nan</td></tr>\n",
       "<tr><td>Lockman-SWIRE</td><td>nan</td><td>nan</td><td>nan</td><td>nan</td><td>nan</td><td>nan</td><td>nan</td><td>nan</td><td>nan</td><td>nan</td><td>nan</td><td>nan</td><td>nan</td><td>nan</td><td>nan</td><td>nan</td><td>nan</td><td>nan</td><td>nan</td><td>nan</td></tr>\n",
       "<tr><td>ELAIS-N2</td><td>nan</td><td>nan</td><td>nan</td><td>nan</td><td>nan</td><td>nan</td><td>nan</td><td>nan</td><td>nan</td><td>nan</td><td>nan</td><td>nan</td><td>nan</td><td>nan</td><td>nan</td><td>nan</td><td>nan</td><td>nan</td><td>nan</td><td>nan</td></tr>\n",
       "<tr><td>Herschel-Stripe-82</td><td>nan</td><td>nan</td><td>nan</td><td>nan</td><td>nan</td><td>nan</td><td>nan</td><td>nan</td><td>nan</td><td>nan</td><td>nan</td><td>nan</td><td>nan</td><td>nan</td><td>nan</td><td>nan</td><td>nan</td><td>nan</td><td>nan</td><td>nan</td></tr>\n",
       "<tr><td>SA13</td><td>nan</td><td>nan</td><td>nan</td><td>nan</td><td>nan</td><td>nan</td><td>nan</td><td>nan</td><td>nan</td><td>nan</td><td>nan</td><td>nan</td><td>nan</td><td>nan</td><td>nan</td><td>nan</td><td>nan</td><td>nan</td><td>nan</td><td>nan</td></tr>\n",
       "<tr><td>GAMA-12</td><td>nan</td><td>nan</td><td>nan</td><td>nan</td><td>nan</td><td>nan</td><td>nan</td><td>nan</td><td>nan</td><td>nan</td><td>nan</td><td>nan</td><td>nan</td><td>nan</td><td>nan</td><td>nan</td><td>nan</td><td>nan</td><td>nan</td><td>nan</td></tr>\n",
       "<tr><td>GAMA-15</td><td>nan</td><td>nan</td><td>nan</td><td>nan</td><td>nan</td><td>nan</td><td>nan</td><td>nan</td><td>nan</td><td>nan</td><td>nan</td><td>nan</td><td>nan</td><td>nan</td><td>nan</td><td>nan</td><td>nan</td><td>nan</td><td>nan</td><td>nan</td></tr>\n",
       "<tr><td>AKARI-SEP</td><td>nan</td><td>nan</td><td>nan</td><td>nan</td><td>nan</td><td>nan</td><td>nan</td><td>nan</td><td>nan</td><td>nan</td><td>nan</td><td>nan</td><td>nan</td><td>nan</td><td>nan</td><td>nan</td><td>nan</td><td>nan</td><td>nan</td><td>nan</td></tr>\n",
       "<tr><td>...</td><td>...</td><td>...</td><td>...</td><td>...</td><td>...</td><td>...</td><td>...</td><td>...</td><td>...</td><td>...</td><td>...</td><td>...</td><td>...</td><td>...</td><td>...</td><td>...</td><td>...</td><td>...</td><td>...</td><td>...</td></tr>\n",
       "<tr><td>SSDF</td><td>nan</td><td>nan</td><td>nan</td><td>nan</td><td>nan</td><td>nan</td><td>nan</td><td>nan</td><td>nan</td><td>nan</td><td>nan</td><td>nan</td><td>nan</td><td>nan</td><td>nan</td><td>nan</td><td>nan</td><td>nan</td><td>nan</td><td>nan</td></tr>\n",
       "<tr><td>XMM-LSS</td><td>nan</td><td>nan</td><td>nan</td><td>nan</td><td>nan</td><td>nan</td><td>nan</td><td>nan</td><td>nan</td><td>nan</td><td>nan</td><td>nan</td><td>nan</td><td>nan</td><td>nan</td><td>nan</td><td>nan</td><td>nan</td><td>nan</td><td>nan</td></tr>\n",
       "<tr><td>SPIRE-NEP</td><td>nan</td><td>nan</td><td>nan</td><td>nan</td><td>nan</td><td>nan</td><td>nan</td><td>nan</td><td>nan</td><td>nan</td><td>nan</td><td>nan</td><td>nan</td><td>nan</td><td>nan</td><td>nan</td><td>nan</td><td>nan</td><td>nan</td><td>nan</td></tr>\n",
       "<tr><td>AKARI-NEP</td><td>0.02289699576795101</td><td>1.6874522100531717</td><td>1.679151044169694</td><td>1.4960020491419808</td><td>3.291870180628686</td><td>7.624104250024761</td><td>0.8175007104873657</td><td>nan</td><td>nan</td><td>0.9437398910522461</td><td>2.3798959255218506</td><td>1.9808772802352905</td><td>nan</td><td>nan</td><td>243.60186767578125</td><td>14753.4375</td><td>14529.650390625</td><td>4984.0537109375</td><td>5300.73095703125</td><td>6018.052734375</td></tr>\n",
       "<tr><td>ELAIS-N1</td><td>nan</td><td>nan</td><td>nan</td><td>nan</td><td>nan</td><td>nan</td><td>nan</td><td>nan</td><td>nan</td><td>nan</td><td>nan</td><td>nan</td><td>nan</td><td>nan</td><td>nan</td><td>nan</td><td>nan</td><td>nan</td><td>nan</td><td>nan</td></tr>\n",
       "<tr><td>HATLAS-NGP</td><td>nan</td><td>nan</td><td>nan</td><td>nan</td><td>nan</td><td>nan</td><td>nan</td><td>nan</td><td>nan</td><td>nan</td><td>nan</td><td>nan</td><td>nan</td><td>nan</td><td>nan</td><td>nan</td><td>nan</td><td>nan</td><td>nan</td><td>nan</td></tr>\n",
       "<tr><td>XMM-13hr</td><td>nan</td><td>nan</td><td>nan</td><td>nan</td><td>nan</td><td>nan</td><td>nan</td><td>nan</td><td>nan</td><td>nan</td><td>nan</td><td>nan</td><td>nan</td><td>nan</td><td>nan</td><td>nan</td><td>nan</td><td>nan</td><td>nan</td><td>nan</td></tr>\n",
       "<tr><td>Bootes</td><td>nan</td><td>nan</td><td>nan</td><td>nan</td><td>nan</td><td>nan</td><td>nan</td><td>nan</td><td>nan</td><td>nan</td><td>nan</td><td>nan</td><td>nan</td><td>nan</td><td>nan</td><td>nan</td><td>nan</td><td>nan</td><td>nan</td><td>nan</td></tr>\n",
       "<tr><td>HDF-N</td><td>nan</td><td>nan</td><td>nan</td><td>nan</td><td>nan</td><td>nan</td><td>nan</td><td>nan</td><td>nan</td><td>nan</td><td>nan</td><td>nan</td><td>nan</td><td>nan</td><td>nan</td><td>nan</td><td>nan</td><td>nan</td><td>nan</td><td>nan</td></tr>\n",
       "<tr><td>EGS</td><td>nan</td><td>nan</td><td>nan</td><td>nan</td><td>nan</td><td>nan</td><td>nan</td><td>nan</td><td>nan</td><td>nan</td><td>nan</td><td>nan</td><td>nan</td><td>nan</td><td>nan</td><td>nan</td><td>nan</td><td>nan</td><td>nan</td><td>nan</td></tr>\n",
       "</table>"
      ],
      "text/plain": [
       "<Table length=23>\n",
       "      field         ferr_u_mean_median ... ferr_spire_500_mean_median\n",
       "      str18              float64       ...          float64          \n",
       "------------------ ------------------- ... --------------------------\n",
       "            COSMOS                 nan ...                        nan\n",
       "          ELAIS-S1                 nan ...                        nan\n",
       "           GAMA-09                 nan ...                        nan\n",
       "     Lockman-SWIRE                 nan ...                        nan\n",
       "          ELAIS-N2                 nan ...                        nan\n",
       "Herschel-Stripe-82                 nan ...                        nan\n",
       "              SA13                 nan ...                        nan\n",
       "           GAMA-12                 nan ...                        nan\n",
       "           GAMA-15                 nan ...                        nan\n",
       "         AKARI-SEP                 nan ...                        nan\n",
       "               ...                 ... ...                        ...\n",
       "              SSDF                 nan ...                        nan\n",
       "           XMM-LSS                 nan ...                        nan\n",
       "         SPIRE-NEP                 nan ...                        nan\n",
       "         AKARI-NEP 0.02289699576795101 ...             6018.052734375\n",
       "          ELAIS-N1                 nan ...                        nan\n",
       "        HATLAS-NGP                 nan ...                        nan\n",
       "          XMM-13hr                 nan ...                        nan\n",
       "            Bootes                 nan ...                        nan\n",
       "             HDF-N                 nan ...                        nan\n",
       "               EGS                 nan ...                        nan"
      ]
     },
     "execution_count": 11,
     "metadata": {},
     "output_type": "execute_result"
    }
   ],
   "source": [
    "depths"
   ]
  },
  {
   "cell_type": "code",
   "execution_count": 12,
   "metadata": {},
   "outputs": [],
   "source": [
    "depths.write('dr1_depth_overviews.csv')"
   ]
  },
  {
   "cell_type": "markdown",
   "metadata": {},
   "source": [
    "## Make a single all sky order ten depth map"
   ]
  },
  {
   "cell_type": "code",
   "execution_count": 2,
   "metadata": {},
   "outputs": [],
   "source": [
    "depth_files=glob.glob('./data/depth*.fits')"
   ]
  },
  {
   "cell_type": "code",
   "execution_count": 3,
   "metadata": {},
   "outputs": [
    {
     "data": {
      "text/plain": [
       "False"
      ]
     },
     "execution_count": 3,
     "metadata": {},
     "output_type": "execute_result"
    }
   ],
   "source": [
    "not True"
   ]
  },
  {
   "cell_type": "code",
   "execution_count": 13,
   "metadata": {},
   "outputs": [],
   "source": [
    "full_depth = Table()\n",
    "for f in depth_files:\n",
    "    d_cat = Table.read(f)\n",
    "    for c in d_cat.colnames:\n",
    "        if not((c == 'hp_idx_O_10') or (c.endswith('mean'))):\n",
    "            d_cat.remove_column(c)\n",
    "        else:\n",
    "            pass\n",
    "        \n",
    "    u_cat = unique(d_cat,keys='hp_idx_O_10')\n",
    "    full_depth = vstack([full_depth,u_cat])\n",
    "full_depth = full_depth.filled()\n",
    "full_depth.write('./data/all_sky_depth_map.fits',overwrite=True)"
   ]
  },
  {
   "cell_type": "code",
   "execution_count": 26,
   "metadata": {},
   "outputs": [
    {
     "data": {
      "text/html": [
       "<i>Table length=5753</i>\n",
       "<table id=\"table4601463584\" class=\"table-striped table-bordered table-condensed\">\n",
       "<thead><tr><th>hp_idx_O_10</th><th>ferr_ap_decam_g_mean</th><th>ferr_ap_decam_r_mean</th><th>ferr_ap_decam_i_mean</th><th>ferr_ap_decam_z_mean</th><th>ferr_ap_decam_y_mean</th><th>ferr_ap_vista_j_mean</th><th>ferr_ap_vista_h_mean</th><th>ferr_ap_vista_ks_mean</th><th>ferr_ap_irac_i1_mean</th><th>ferr_ap_irac_i2_mean</th><th>ferr_ap_g_mean</th><th>ferr_ap_r_mean</th><th>ferr_ap_i_mean</th><th>ferr_ap_z_mean</th><th>ferr_ap_y_mean</th><th>ferr_ap_j_mean</th><th>ferr_ap_h_mean</th><th>ferr_ap_ks_mean</th><th>ferr_ap_gpc1_g_mean</th><th>ferr_ap_gpc1_r_mean</th><th>ferr_ap_gpc1_i_mean</th><th>ferr_ap_gpc1_z_mean</th><th>ferr_ap_gpc1_y_mean</th></tr></thead>\n",
       "<thead><tr><th></th><th>uJy</th><th>uJy</th><th>uJy</th><th>uJy</th><th>uJy</th><th>uJy</th><th>uJy</th><th>uJy</th><th>uJy</th><th>uJy</th><th></th><th></th><th></th><th></th><th></th><th></th><th></th><th></th><th>uJy</th><th>uJy</th><th>uJy</th><th>uJy</th><th>uJy</th></tr></thead>\n",
       "<thead><tr><th>int64</th><th>float64</th><th>float64</th><th>float64</th><th>float64</th><th>float64</th><th>float32</th><th>float32</th><th>float32</th><th>float32</th><th>float32</th><th>float64</th><th>float64</th><th>float64</th><th>float64</th><th>float64</th><th>float32</th><th>float32</th><th>float32</th><th>float64</th><th>float64</th><th>float64</th><th>float64</th><th>float64</th></tr></thead>\n",
       "<tr><td>8687019</td><td>0.08941301241009876</td><td>0.10159930664410594</td><td>0.16957028237319402</td><td>0.3360431102221077</td><td>1.1923333949792894</td><td>1.8040026</td><td>nan</td><td>5.3524575</td><td>nan</td><td>nan</td><td>0.14499704199338645</td><td>0.15886723307782735</td><td>0.2912562074742357</td><td>0.5985401711559398</td><td>2.082680118606706</td><td>4.5748534</td><td>nan</td><td>13.370395</td><td>nan</td><td>nan</td><td>nan</td><td>nan</td><td>nan</td></tr>\n",
       "<tr><td>8687021</td><td>0.10287259124016224</td><td>0.12039300871488914</td><td>0.18888852873625897</td><td>0.3987357319469088</td><td>1.419343910221842</td><td>1.8775079</td><td>nan</td><td>5.459472</td><td>nan</td><td>nan</td><td>0.15923118742553097</td><td>0.1769440101324317</td><td>0.26167305703021043</td><td>0.6090910253657126</td><td>2.0849519539507115</td><td>2.9474516</td><td>nan</td><td>10.134894</td><td>nan</td><td>nan</td><td>nan</td><td>nan</td><td>nan</td></tr>\n",
       "<tr><td>8687022</td><td>0.09532933268539538</td><td>0.10906805032746564</td><td>0.18241326357123988</td><td>0.35396133156307974</td><td>1.2651862089775676</td><td>1.921677</td><td>nan</td><td>5.4809356</td><td>nan</td><td>nan</td><td>0.14891398565063033</td><td>0.1715184602265481</td><td>0.32075134581481485</td><td>0.6570133593223575</td><td>2.509728964865259</td><td>5.170397</td><td>nan</td><td>16.788235</td><td>nan</td><td>nan</td><td>nan</td><td>nan</td><td>nan</td></tr>\n",
       "<tr><td>8687023</td><td>0.10824620420702666</td><td>0.12451767176397369</td><td>0.20268880115737872</td><td>0.3935921662498461</td><td>1.4397059241818613</td><td>2.5650663</td><td>nan</td><td>6.3428183</td><td>nan</td><td>nan</td><td>0.16647172217423</td><td>0.19354728602276483</td><td>0.3406217292725189</td><td>0.7090275556854875</td><td>2.75275276304709</td><td>5.436189</td><td>nan</td><td>14.047213</td><td>nan</td><td>nan</td><td>nan</td><td>nan</td><td>nan</td></tr>\n",
       "<tr><td>8687027</td><td>0.09558850799653333</td><td>0.10926661967339074</td><td>0.18378175455724388</td><td>0.3761169368503513</td><td>nan</td><td>nan</td><td>nan</td><td>nan</td><td>nan</td><td>nan</td><td>0.2635383775437744</td><td>0.31662367450327605</td><td>0.5523959165758974</td><td>1.1465177965441924</td><td>nan</td><td>nan</td><td>nan</td><td>nan</td><td>nan</td><td>nan</td><td>nan</td><td>nan</td><td>nan</td></tr>\n",
       "<tr><td>8687030</td><td>0.1358427699340554</td><td>0.1493070859514625</td><td>0.2240513508077266</td><td>0.4582541478237105</td><td>1.6245409469711032</td><td>2.7268982</td><td>nan</td><td>6.1417556</td><td>nan</td><td>nan</td><td>0.18002077580602077</td><td>0.1959855108897479</td><td>0.3441068031171864</td><td>0.8023753186870656</td><td>2.9411182516985024</td><td>5.4317064</td><td>nan</td><td>13.961416</td><td>nan</td><td>nan</td><td>nan</td><td>nan</td><td>nan</td></tr>\n",
       "<tr><td>8687031</td><td>0.10741622498099045</td><td>0.11990133701929664</td><td>0.19915376209503743</td><td>0.3899759458666783</td><td>1.4604985733744726</td><td>2.254099</td><td>nan</td><td>5.835954</td><td>nan</td><td>nan</td><td>0.15703056056224338</td><td>0.18470731440286034</td><td>0.3271232713991038</td><td>0.6792248384456054</td><td>2.5561633557780086</td><td>4.47669</td><td>nan</td><td>12.344089</td><td>nan</td><td>nan</td><td>nan</td><td>nan</td><td>nan</td></tr>\n",
       "<tr><td>8687032</td><td>0.1063021599962953</td><td>0.11882482910862704</td><td>0.19231578010450898</td><td>0.381007675223252</td><td>1.3052594731374605</td><td>1.9479681</td><td>nan</td><td>5.5365825</td><td>nan</td><td>nan</td><td>0.15411750281011016</td><td>0.1796824392500375</td><td>0.31161490019650584</td><td>0.6490385043926964</td><td>2.415877941023494</td><td>4.6447783</td><td>nan</td><td>13.411079</td><td>nan</td><td>nan</td><td>nan</td><td>nan</td><td>nan</td></tr>\n",
       "<tr><td>8687033</td><td>0.10589845688260136</td><td>0.11155260562151025</td><td>0.18408546034311987</td><td>0.37539954421750404</td><td>1.3509990820256135</td><td>1.93876</td><td>nan</td><td>5.580743</td><td>nan</td><td>nan</td><td>0.1661451697050113</td><td>0.17607902190954156</td><td>0.3094967492210213</td><td>0.6656539472068637</td><td>2.5622301676361317</td><td>4.723324</td><td>nan</td><td>14.378736</td><td>nan</td><td>nan</td><td>nan</td><td>nan</td><td>nan</td></tr>\n",
       "<tr><td>...</td><td>...</td><td>...</td><td>...</td><td>...</td><td>...</td><td>...</td><td>...</td><td>...</td><td>...</td><td>...</td><td>...</td><td>...</td><td>...</td><td>...</td><td>...</td><td>...</td><td>...</td><td>...</td><td>...</td><td>...</td><td>...</td><td>...</td><td>...</td></tr>\n",
       "<tr><td>4108163</td><td>nan</td><td>nan</td><td>nan</td><td>nan</td><td>nan</td><td>nan</td><td>nan</td><td>nan</td><td>nan</td><td>nan</td><td>2.1437145522073218</td><td>1.8092817909354146</td><td>1.910500959531398</td><td>3.2651926813168033</td><td>8.798386587790437</td><td>nan</td><td>nan</td><td>nan</td><td>1.230072636401828</td><td>1.5660139272571079</td><td>1.8986204759663963</td><td>3.2946822166040923</td><td>7.317758807107481</td></tr>\n",
       "<tr><td>4108164</td><td>nan</td><td>nan</td><td>nan</td><td>nan</td><td>nan</td><td>nan</td><td>nan</td><td>nan</td><td>nan</td><td>nan</td><td>26.571412815438016</td><td>1.5932049954536838</td><td>31.272486331761865</td><td>3.7149900634641977</td><td>8.084798880790665</td><td>nan</td><td>nan</td><td>nan</td><td>43.631355022545556</td><td>1.5983228914772185</td><td>49.843730252897785</td><td>3.198855875689371</td><td>6.995329035725289</td></tr>\n",
       "<tr><td>4108165</td><td>nan</td><td>nan</td><td>nan</td><td>nan</td><td>nan</td><td>nan</td><td>nan</td><td>nan</td><td>nan</td><td>nan</td><td>1.1165196987182553</td><td>1.2025745328154298</td><td>1.0962081595557356</td><td>2.2826658255787495</td><td>6.058213999571847</td><td>nan</td><td>nan</td><td>nan</td><td>0.8877489450921751</td><td>1.0522158612545063</td><td>1.0195042107794354</td><td>2.3488085598904522</td><td>6.113686861036047</td></tr>\n",
       "<tr><td>4108166</td><td>nan</td><td>nan</td><td>nan</td><td>nan</td><td>nan</td><td>nan</td><td>nan</td><td>nan</td><td>nan</td><td>nan</td><td>2.432729764553739</td><td>2.0636913063287756</td><td>2.5768296498855707</td><td>3.3209390566592636</td><td>7.861912021439814</td><td>nan</td><td>nan</td><td>nan</td><td>1.5357159094387185</td><td>1.711808766416526</td><td>2.504278464763498</td><td>2.8448263680738353</td><td>6.556817728724268</td></tr>\n",
       "<tr><td>4108167</td><td>nan</td><td>nan</td><td>nan</td><td>nan</td><td>nan</td><td>nan</td><td>nan</td><td>nan</td><td>nan</td><td>nan</td><td>1.6635389930372477</td><td>1.766978384977134</td><td>1.7636161902160838</td><td>2.9026415471040954</td><td>8.375651026733184</td><td>nan</td><td>nan</td><td>nan</td><td>1.9933253074653545</td><td>2.328708107615271</td><td>1.3835022568263584</td><td>2.780925732696164</td><td>6.5885703442606856</td></tr>\n",
       "<tr><td>4108168</td><td>nan</td><td>nan</td><td>nan</td><td>nan</td><td>nan</td><td>nan</td><td>nan</td><td>nan</td><td>nan</td><td>nan</td><td>1.8447317811605444</td><td>1.5121143119824727</td><td>1.4050082976082001</td><td>3.128094587368104</td><td>8.049655997343157</td><td>nan</td><td>nan</td><td>nan</td><td>1.184113520570321</td><td>1.4845345137565706</td><td>1.3059222556582215</td><td>3.0582933082632393</td><td>6.480679462580261</td></tr>\n",
       "<tr><td>4108169</td><td>nan</td><td>nan</td><td>nan</td><td>nan</td><td>nan</td><td>nan</td><td>nan</td><td>nan</td><td>nan</td><td>nan</td><td>2.6209980524331677</td><td>2.6462422906723178</td><td>1.951958814664047</td><td>3.25729809601566</td><td>9.09534498446947</td><td>nan</td><td>nan</td><td>nan</td><td>1.2783551504734372</td><td>3.1518046300314992</td><td>1.7830741364236824</td><td>3.3468211318459664</td><td>7.364804859996513</td></tr>\n",
       "<tr><td>4108170</td><td>nan</td><td>nan</td><td>nan</td><td>nan</td><td>nan</td><td>nan</td><td>nan</td><td>nan</td><td>nan</td><td>nan</td><td>1.935590971447908</td><td>2.0581212219750453</td><td>1.892333892576435</td><td>3.467528697356643</td><td>9.216554292143073</td><td>nan</td><td>nan</td><td>nan</td><td>1.7403363861112704</td><td>1.462780343534219</td><td>1.3302521697305363</td><td>3.068784066432667</td><td>8.379887493561307</td></tr>\n",
       "<tr><td>4108171</td><td>nan</td><td>nan</td><td>nan</td><td>nan</td><td>nan</td><td>nan</td><td>nan</td><td>nan</td><td>nan</td><td>nan</td><td>1.9478665033862286</td><td>1.874494538534816</td><td>1.506407019875632</td><td>3.5929703304621943</td><td>14.965026858542414</td><td>nan</td><td>nan</td><td>nan</td><td>3.0916888067037633</td><td>1.3730760495821759</td><td>1.4657285759794902</td><td>3.335391166122007</td><td>8.54603668100154</td></tr>\n",
       "<tr><td>4108176</td><td>nan</td><td>nan</td><td>nan</td><td>nan</td><td>nan</td><td>nan</td><td>nan</td><td>nan</td><td>nan</td><td>nan</td><td>1.3824198401398302</td><td>1.2826482042614615</td><td>1.1240870687977345</td><td>2.0737999536331517</td><td>5.1241599287750175</td><td>nan</td><td>nan</td><td>nan</td><td>1.6388281310014354</td><td>1.2632284246262695</td><td>1.246032688288238</td><td>1.968742112823616</td><td>4.21728605831051</td></tr>\n",
       "</table>"
      ],
      "text/plain": [
       "<Table length=5753>\n",
       "hp_idx_O_10 ferr_ap_decam_g_mean ... ferr_ap_gpc1_z_mean ferr_ap_gpc1_y_mean\n",
       "                    uJy          ...         uJy                 uJy        \n",
       "   int64          float64        ...       float64             float64      \n",
       "----------- -------------------- ... ------------------- -------------------\n",
       "    8687019  0.08941301241009876 ...                 nan                 nan\n",
       "    8687021  0.10287259124016224 ...                 nan                 nan\n",
       "    8687022  0.09532933268539538 ...                 nan                 nan\n",
       "    8687023  0.10824620420702666 ...                 nan                 nan\n",
       "    8687027  0.09558850799653333 ...                 nan                 nan\n",
       "    8687030   0.1358427699340554 ...                 nan                 nan\n",
       "    8687031  0.10741622498099045 ...                 nan                 nan\n",
       "    8687032   0.1063021599962953 ...                 nan                 nan\n",
       "    8687033  0.10589845688260136 ...                 nan                 nan\n",
       "        ...                  ... ...                 ...                 ...\n",
       "    4108163                  nan ...  3.2946822166040923   7.317758807107481\n",
       "    4108164                  nan ...   3.198855875689371   6.995329035725289\n",
       "    4108165                  nan ...  2.3488085598904522   6.113686861036047\n",
       "    4108166                  nan ...  2.8448263680738353   6.556817728724268\n",
       "    4108167                  nan ...   2.780925732696164  6.5885703442606856\n",
       "    4108168                  nan ...  3.0582933082632393   6.480679462580261\n",
       "    4108169                  nan ...  3.3468211318459664   7.364804859996513\n",
       "    4108170                  nan ...   3.068784066432667   8.379887493561307\n",
       "    4108171                  nan ...   3.335391166122007    8.54603668100154\n",
       "    4108176                  nan ...   1.968742112823616    4.21728605831051"
      ]
     },
     "execution_count": 26,
     "metadata": {},
     "output_type": "execute_result"
    }
   ],
   "source": [
    "full_depth[:5]"
   ]
  },
  {
   "cell_type": "code",
   "execution_count": null,
   "metadata": {},
   "outputs": [],
   "source": []
  }
 ],
 "metadata": {
  "kernelspec": {
   "display_name": "Python (herschelhelp_internal)",
   "language": "python",
   "name": "helpint"
  },
  "language_info": {
   "codemirror_mode": {
    "name": "ipython",
    "version": 3
   },
   "file_extension": ".py",
   "mimetype": "text/x-python",
   "name": "python",
   "nbconvert_exporter": "python",
   "pygments_lexer": "ipython3",
   "version": "3.6.10"
  }
 },
 "nbformat": 4,
 "nbformat_minor": 4
}
