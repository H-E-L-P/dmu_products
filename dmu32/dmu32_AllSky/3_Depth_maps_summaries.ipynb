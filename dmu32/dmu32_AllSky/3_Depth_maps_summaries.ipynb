{
 "cells": [
  {
   "cell_type": "markdown",
   "metadata": {},
   "source": [
    "# Summaise depth maps"
   ]
  },
  {
   "cell_type": "code",
   "execution_count": 12,
   "metadata": {},
   "outputs": [],
   "source": [
    "import yaml\n",
    "from astropy.table import Table, vstack, unique\n",
    "import numpy as np\n",
    "import glob"
   ]
  },
  {
   "cell_type": "code",
   "execution_count": 2,
   "metadata": {},
   "outputs": [],
   "source": [
    "meta_files = glob.glob('../*/meta_main.yml')"
   ]
  },
  {
   "cell_type": "code",
   "execution_count": 3,
   "metadata": {},
   "outputs": [],
   "source": [
    "depths  =Table()"
   ]
  },
  {
   "cell_type": "code",
   "execution_count": 4,
   "metadata": {},
   "outputs": [
    {
     "name": "stderr",
     "output_type": "stream",
     "text": [
      "/Users/rs548/miniconda3/envs/herschelhelp_internal/lib/python3.6/site-packages/ipykernel_launcher.py:1: YAMLLoadWarning: calling yaml.load() without Loader=... is deprecated, as the default Loader is unsafe. Please read https://msg.pyyaml.org/load for full details.\n",
      "  \"\"\"Entry point for launching an IPython kernel.\n"
     ]
    }
   ],
   "source": [
    "depths['field'] = [yaml.load(open(y, 'r'))['field'] for y in meta_files]"
   ]
  },
  {
   "cell_type": "code",
   "execution_count": 5,
   "metadata": {},
   "outputs": [],
   "source": [
    "bands = ['u', 'g', 'r', 'i', 'z', 'y', 'j', 'h', 'k', 'ks', \n",
    "         'irac_i1', 'irac_i2', 'irac_i3', 'irac_i4', \n",
    "          'mips_24', 'pacs_green', 'pacs_red', \n",
    "         'spire_250', 'spire_350', 'spire_500']"
   ]
  },
  {
   "cell_type": "code",
   "execution_count": 6,
   "metadata": {},
   "outputs": [],
   "source": [
    "for band in bands:\n",
    "    depths['ferr_{}_mean_median'.format(band)] = np.full(len(depths), np.nan)"
   ]
  },
  {
   "cell_type": "code",
   "execution_count": null,
   "metadata": {},
   "outputs": [],
   "source": []
  },
  {
   "cell_type": "code",
   "execution_count": 7,
   "metadata": {},
   "outputs": [
    {
     "name": "stderr",
     "output_type": "stream",
     "text": [
      "/Users/rs548/miniconda3/envs/herschelhelp_internal/lib/python3.6/site-packages/ipykernel_launcher.py:2: YAMLLoadWarning: calling yaml.load() without Loader=... is deprecated, as the default Loader is unsafe. Please read https://msg.pyyaml.org/load for full details.\n",
      "  \n"
     ]
    },
    {
     "name": "stdout",
     "output_type": "stream",
     "text": [
      "No depth present on COSMOS\n",
      "No depth present on ELAIS-S1\n",
      "No depth present on GAMA-09\n",
      "No depth present on Lockman-SWIRE\n",
      "No depth present on ELAIS-N2\n",
      "No depth present on Herschel-Stripe-82\n",
      "No depth present on SA13\n",
      "No depth present on GAMA-12\n",
      "No depth present on GAMA-15\n",
      "No depth present on AKARI-SEP\n",
      "No depth present on HATLAS-SGP\n",
      "No depth present on xFLS\n",
      "No depth present on CDFS-SWIRE\n",
      "No depth present on SSDF\n",
      "No depth present on XMM-LSS\n",
      "No depth present on SPIRE-NEP\n",
      "h  missing\n",
      "k  missing\n",
      "irac_i3  missing\n",
      "irac_i4  missing\n",
      "No depth present on ELAIS-N1\n",
      "No depth present on HATLAS-NGP\n",
      "No depth present on XMM-13hr\n",
      "No depth present on Bootes\n",
      "No depth present on HDF-N\n",
      "No depth present on EGS\n"
     ]
    }
   ],
   "source": [
    "for y in meta_files:\n",
    "    yml = yaml.load(open(y, 'r'))\n",
    "    try:\n",
    "        depth = Table.read(\n",
    "            \"../dmu32_{}/data/depths_{}_{}.fits\".format(\n",
    "            yml['field'].replace('HATLAS-',''), \n",
    "            yml['field'].lower(), \n",
    "            yml['final'].split('.')[0].split('_')[-1] )\n",
    "        )\n",
    "    except:\n",
    "        print('No depth present on ' + yml['field'])\n",
    "        continue\n",
    "    for band in bands:\n",
    "        try:\n",
    "            depths['ferr_{}_mean_median'.format(band)][\n",
    "                depths['field']==yml['field']\n",
    "            ] = np.nanmedian(depth['ferr_{}_mean'.format(band)])\n",
    "        except:\n",
    "            print(band, ' missing')"
   ]
  },
  {
   "cell_type": "code",
   "execution_count": 8,
   "metadata": {},
   "outputs": [
    {
     "data": {
      "text/plain": [
       "'../dmu32_EGS/data/depths_egs_20180501.fits'"
      ]
     },
     "execution_count": 8,
     "metadata": {},
     "output_type": "execute_result"
    }
   ],
   "source": [
    "\"../dmu32_{}/data/depths_{}_{}.fits\".format(\n",
    "            yml['field'].replace('HATLAS-',''), \n",
    "            yml['field'].lower(), \n",
    "            yml['final'].split('.')[0].split('_')[-1] )"
   ]
  },
  {
   "cell_type": "code",
   "execution_count": 11,
   "metadata": {},
   "outputs": [
    {
     "data": {
      "text/html": [
       "<i>Table length=23</i>\n",
       "<table id=\"table4341638648\" class=\"table-striped table-bordered table-condensed\">\n",
       "<thead><tr><th>field</th><th>ferr_u_mean_median</th><th>ferr_g_mean_median</th><th>ferr_r_mean_median</th><th>ferr_i_mean_median</th><th>ferr_z_mean_median</th><th>ferr_y_mean_median</th><th>ferr_j_mean_median</th><th>ferr_h_mean_median</th><th>ferr_k_mean_median</th><th>ferr_ks_mean_median</th><th>ferr_irac_i1_mean_median</th><th>ferr_irac_i2_mean_median</th><th>ferr_irac_i3_mean_median</th><th>ferr_irac_i4_mean_median</th><th>ferr_mips_24_mean_median</th><th>ferr_pacs_green_mean_median</th><th>ferr_pacs_red_mean_median</th><th>ferr_spire_250_mean_median</th><th>ferr_spire_350_mean_median</th><th>ferr_spire_500_mean_median</th></tr></thead>\n",
       "<thead><tr><th>str18</th><th>float64</th><th>float64</th><th>float64</th><th>float64</th><th>float64</th><th>float64</th><th>float64</th><th>float64</th><th>float64</th><th>float64</th><th>float64</th><th>float64</th><th>float64</th><th>float64</th><th>float64</th><th>float64</th><th>float64</th><th>float64</th><th>float64</th><th>float64</th></tr></thead>\n",
       "<tr><td>COSMOS</td><td>nan</td><td>nan</td><td>nan</td><td>nan</td><td>nan</td><td>nan</td><td>nan</td><td>nan</td><td>nan</td><td>nan</td><td>nan</td><td>nan</td><td>nan</td><td>nan</td><td>nan</td><td>nan</td><td>nan</td><td>nan</td><td>nan</td><td>nan</td></tr>\n",
       "<tr><td>ELAIS-S1</td><td>nan</td><td>nan</td><td>nan</td><td>nan</td><td>nan</td><td>nan</td><td>nan</td><td>nan</td><td>nan</td><td>nan</td><td>nan</td><td>nan</td><td>nan</td><td>nan</td><td>nan</td><td>nan</td><td>nan</td><td>nan</td><td>nan</td><td>nan</td></tr>\n",
       "<tr><td>GAMA-09</td><td>nan</td><td>nan</td><td>nan</td><td>nan</td><td>nan</td><td>nan</td><td>nan</td><td>nan</td><td>nan</td><td>nan</td><td>nan</td><td>nan</td><td>nan</td><td>nan</td><td>nan</td><td>nan</td><td>nan</td><td>nan</td><td>nan</td><td>nan</td></tr>\n",
       "<tr><td>Lockman-SWIRE</td><td>nan</td><td>nan</td><td>nan</td><td>nan</td><td>nan</td><td>nan</td><td>nan</td><td>nan</td><td>nan</td><td>nan</td><td>nan</td><td>nan</td><td>nan</td><td>nan</td><td>nan</td><td>nan</td><td>nan</td><td>nan</td><td>nan</td><td>nan</td></tr>\n",
       "<tr><td>ELAIS-N2</td><td>nan</td><td>nan</td><td>nan</td><td>nan</td><td>nan</td><td>nan</td><td>nan</td><td>nan</td><td>nan</td><td>nan</td><td>nan</td><td>nan</td><td>nan</td><td>nan</td><td>nan</td><td>nan</td><td>nan</td><td>nan</td><td>nan</td><td>nan</td></tr>\n",
       "<tr><td>Herschel-Stripe-82</td><td>nan</td><td>nan</td><td>nan</td><td>nan</td><td>nan</td><td>nan</td><td>nan</td><td>nan</td><td>nan</td><td>nan</td><td>nan</td><td>nan</td><td>nan</td><td>nan</td><td>nan</td><td>nan</td><td>nan</td><td>nan</td><td>nan</td><td>nan</td></tr>\n",
       "<tr><td>SA13</td><td>nan</td><td>nan</td><td>nan</td><td>nan</td><td>nan</td><td>nan</td><td>nan</td><td>nan</td><td>nan</td><td>nan</td><td>nan</td><td>nan</td><td>nan</td><td>nan</td><td>nan</td><td>nan</td><td>nan</td><td>nan</td><td>nan</td><td>nan</td></tr>\n",
       "<tr><td>GAMA-12</td><td>nan</td><td>nan</td><td>nan</td><td>nan</td><td>nan</td><td>nan</td><td>nan</td><td>nan</td><td>nan</td><td>nan</td><td>nan</td><td>nan</td><td>nan</td><td>nan</td><td>nan</td><td>nan</td><td>nan</td><td>nan</td><td>nan</td><td>nan</td></tr>\n",
       "<tr><td>GAMA-15</td><td>nan</td><td>nan</td><td>nan</td><td>nan</td><td>nan</td><td>nan</td><td>nan</td><td>nan</td><td>nan</td><td>nan</td><td>nan</td><td>nan</td><td>nan</td><td>nan</td><td>nan</td><td>nan</td><td>nan</td><td>nan</td><td>nan</td><td>nan</td></tr>\n",
       "<tr><td>AKARI-SEP</td><td>nan</td><td>nan</td><td>nan</td><td>nan</td><td>nan</td><td>nan</td><td>nan</td><td>nan</td><td>nan</td><td>nan</td><td>nan</td><td>nan</td><td>nan</td><td>nan</td><td>nan</td><td>nan</td><td>nan</td><td>nan</td><td>nan</td><td>nan</td></tr>\n",
       "<tr><td>...</td><td>...</td><td>...</td><td>...</td><td>...</td><td>...</td><td>...</td><td>...</td><td>...</td><td>...</td><td>...</td><td>...</td><td>...</td><td>...</td><td>...</td><td>...</td><td>...</td><td>...</td><td>...</td><td>...</td><td>...</td></tr>\n",
       "<tr><td>SSDF</td><td>nan</td><td>nan</td><td>nan</td><td>nan</td><td>nan</td><td>nan</td><td>nan</td><td>nan</td><td>nan</td><td>nan</td><td>nan</td><td>nan</td><td>nan</td><td>nan</td><td>nan</td><td>nan</td><td>nan</td><td>nan</td><td>nan</td><td>nan</td></tr>\n",
       "<tr><td>XMM-LSS</td><td>nan</td><td>nan</td><td>nan</td><td>nan</td><td>nan</td><td>nan</td><td>nan</td><td>nan</td><td>nan</td><td>nan</td><td>nan</td><td>nan</td><td>nan</td><td>nan</td><td>nan</td><td>nan</td><td>nan</td><td>nan</td><td>nan</td><td>nan</td></tr>\n",
       "<tr><td>SPIRE-NEP</td><td>nan</td><td>nan</td><td>nan</td><td>nan</td><td>nan</td><td>nan</td><td>nan</td><td>nan</td><td>nan</td><td>nan</td><td>nan</td><td>nan</td><td>nan</td><td>nan</td><td>nan</td><td>nan</td><td>nan</td><td>nan</td><td>nan</td><td>nan</td></tr>\n",
       "<tr><td>AKARI-NEP</td><td>0.02289699576795101</td><td>1.6874522100531717</td><td>1.679151044169694</td><td>1.4960020491419808</td><td>3.291870180628686</td><td>7.624104250024761</td><td>0.8175007104873657</td><td>nan</td><td>nan</td><td>0.9437398910522461</td><td>2.3798959255218506</td><td>1.9808772802352905</td><td>nan</td><td>nan</td><td>243.60186767578125</td><td>14753.4375</td><td>14529.650390625</td><td>4984.0537109375</td><td>5300.73095703125</td><td>6018.052734375</td></tr>\n",
       "<tr><td>ELAIS-N1</td><td>nan</td><td>nan</td><td>nan</td><td>nan</td><td>nan</td><td>nan</td><td>nan</td><td>nan</td><td>nan</td><td>nan</td><td>nan</td><td>nan</td><td>nan</td><td>nan</td><td>nan</td><td>nan</td><td>nan</td><td>nan</td><td>nan</td><td>nan</td></tr>\n",
       "<tr><td>HATLAS-NGP</td><td>nan</td><td>nan</td><td>nan</td><td>nan</td><td>nan</td><td>nan</td><td>nan</td><td>nan</td><td>nan</td><td>nan</td><td>nan</td><td>nan</td><td>nan</td><td>nan</td><td>nan</td><td>nan</td><td>nan</td><td>nan</td><td>nan</td><td>nan</td></tr>\n",
       "<tr><td>XMM-13hr</td><td>nan</td><td>nan</td><td>nan</td><td>nan</td><td>nan</td><td>nan</td><td>nan</td><td>nan</td><td>nan</td><td>nan</td><td>nan</td><td>nan</td><td>nan</td><td>nan</td><td>nan</td><td>nan</td><td>nan</td><td>nan</td><td>nan</td><td>nan</td></tr>\n",
       "<tr><td>Bootes</td><td>nan</td><td>nan</td><td>nan</td><td>nan</td><td>nan</td><td>nan</td><td>nan</td><td>nan</td><td>nan</td><td>nan</td><td>nan</td><td>nan</td><td>nan</td><td>nan</td><td>nan</td><td>nan</td><td>nan</td><td>nan</td><td>nan</td><td>nan</td></tr>\n",
       "<tr><td>HDF-N</td><td>nan</td><td>nan</td><td>nan</td><td>nan</td><td>nan</td><td>nan</td><td>nan</td><td>nan</td><td>nan</td><td>nan</td><td>nan</td><td>nan</td><td>nan</td><td>nan</td><td>nan</td><td>nan</td><td>nan</td><td>nan</td><td>nan</td><td>nan</td></tr>\n",
       "<tr><td>EGS</td><td>nan</td><td>nan</td><td>nan</td><td>nan</td><td>nan</td><td>nan</td><td>nan</td><td>nan</td><td>nan</td><td>nan</td><td>nan</td><td>nan</td><td>nan</td><td>nan</td><td>nan</td><td>nan</td><td>nan</td><td>nan</td><td>nan</td><td>nan</td></tr>\n",
       "</table>"
      ],
      "text/plain": [
       "<Table length=23>\n",
       "      field         ferr_u_mean_median ... ferr_spire_500_mean_median\n",
       "      str18              float64       ...          float64          \n",
       "------------------ ------------------- ... --------------------------\n",
       "            COSMOS                 nan ...                        nan\n",
       "          ELAIS-S1                 nan ...                        nan\n",
       "           GAMA-09                 nan ...                        nan\n",
       "     Lockman-SWIRE                 nan ...                        nan\n",
       "          ELAIS-N2                 nan ...                        nan\n",
       "Herschel-Stripe-82                 nan ...                        nan\n",
       "              SA13                 nan ...                        nan\n",
       "           GAMA-12                 nan ...                        nan\n",
       "           GAMA-15                 nan ...                        nan\n",
       "         AKARI-SEP                 nan ...                        nan\n",
       "               ...                 ... ...                        ...\n",
       "              SSDF                 nan ...                        nan\n",
       "           XMM-LSS                 nan ...                        nan\n",
       "         SPIRE-NEP                 nan ...                        nan\n",
       "         AKARI-NEP 0.02289699576795101 ...             6018.052734375\n",
       "          ELAIS-N1                 nan ...                        nan\n",
       "        HATLAS-NGP                 nan ...                        nan\n",
       "          XMM-13hr                 nan ...                        nan\n",
       "            Bootes                 nan ...                        nan\n",
       "             HDF-N                 nan ...                        nan\n",
       "               EGS                 nan ...                        nan"
      ]
     },
     "execution_count": 11,
     "metadata": {},
     "output_type": "execute_result"
    }
   ],
   "source": [
    "depths"
   ]
  },
  {
   "cell_type": "code",
   "execution_count": 12,
   "metadata": {},
   "outputs": [],
   "source": [
    "depths.write('dr1_depth_overviews.csv')"
   ]
  },
  {
   "cell_type": "markdown",
   "metadata": {},
   "source": [
    "## Make a single all sky order ten depth map"
   ]
  },
  {
   "cell_type": "code",
   "execution_count": 1,
   "metadata": {},
   "outputs": [],
   "source": [
    "import glob"
   ]
  },
  {
   "cell_type": "code",
   "execution_count": 3,
   "metadata": {},
   "outputs": [],
   "source": [
    "depth_files=glob.glob('./data/depth*.fits')"
   ]
  },
  {
   "cell_type": "code",
   "execution_count": 21,
   "metadata": {},
   "outputs": [
    {
     "data": {
      "text/plain": [
       "False"
      ]
     },
     "execution_count": 21,
     "metadata": {},
     "output_type": "execute_result"
    }
   ],
   "source": [
    "not True"
   ]
  },
  {
   "cell_type": "code",
   "execution_count": 24,
   "metadata": {},
   "outputs": [],
   "source": [
    "full_depth = Table()\n",
    "for f in depth_files:\n",
    "    d_cat = Table.read(f)\n",
    "    for c in d_cat.colnames:\n",
    "        if not(c == 'hp_idx_O_10' or ((c.endswith('mean')) and ('ap' in c))):\n",
    "            d_cat.remove_column(c)\n",
    "        else:\n",
    "            pass\n",
    "    d_cat = unique(d_cat,keys='hp_idx_O_10')\n",
    "    full_depth = vstack([full_depth,d_cat])\n",
    "full_depth.write('./data/all_sky_depth_map.fits',overwrite=True)"
   ]
  },
  {
   "cell_type": "code",
   "execution_count": 32,
   "metadata": {},
   "outputs": [
    {
     "data": {
      "text/plain": [
       "1.6216548138245004"
      ]
     },
     "execution_count": 32,
     "metadata": {},
     "output_type": "execute_result"
    }
   ],
   "source": [
    "0.14499704199338645/0.08941301241009876"
   ]
  },
  {
   "cell_type": "code",
   "execution_count": 26,
   "metadata": {},
   "outputs": [
    {
     "data": {
      "text/html": [
       "<i>Table length=5753</i>\n",
       "<table id=\"table4601463584\" class=\"table-striped table-bordered table-condensed\">\n",
       "<thead><tr><th>hp_idx_O_10</th><th>ferr_ap_decam_g_mean</th><th>ferr_ap_decam_r_mean</th><th>ferr_ap_decam_i_mean</th><th>ferr_ap_decam_z_mean</th><th>ferr_ap_decam_y_mean</th><th>ferr_ap_vista_j_mean</th><th>ferr_ap_vista_h_mean</th><th>ferr_ap_vista_ks_mean</th><th>ferr_ap_irac_i1_mean</th><th>ferr_ap_irac_i2_mean</th><th>ferr_ap_g_mean</th><th>ferr_ap_r_mean</th><th>ferr_ap_i_mean</th><th>ferr_ap_z_mean</th><th>ferr_ap_y_mean</th><th>ferr_ap_j_mean</th><th>ferr_ap_h_mean</th><th>ferr_ap_ks_mean</th><th>ferr_ap_gpc1_g_mean</th><th>ferr_ap_gpc1_r_mean</th><th>ferr_ap_gpc1_i_mean</th><th>ferr_ap_gpc1_z_mean</th><th>ferr_ap_gpc1_y_mean</th></tr></thead>\n",
       "<thead><tr><th></th><th>uJy</th><th>uJy</th><th>uJy</th><th>uJy</th><th>uJy</th><th>uJy</th><th>uJy</th><th>uJy</th><th>uJy</th><th>uJy</th><th></th><th></th><th></th><th></th><th></th><th></th><th></th><th></th><th>uJy</th><th>uJy</th><th>uJy</th><th>uJy</th><th>uJy</th></tr></thead>\n",
       "<thead><tr><th>int64</th><th>float64</th><th>float64</th><th>float64</th><th>float64</th><th>float64</th><th>float32</th><th>float32</th><th>float32</th><th>float32</th><th>float32</th><th>float64</th><th>float64</th><th>float64</th><th>float64</th><th>float64</th><th>float32</th><th>float32</th><th>float32</th><th>float64</th><th>float64</th><th>float64</th><th>float64</th><th>float64</th></tr></thead>\n",
       "<tr><td>8687019</td><td>0.08941301241009876</td><td>0.10159930664410594</td><td>0.16957028237319402</td><td>0.3360431102221077</td><td>1.1923333949792894</td><td>1.8040026</td><td>nan</td><td>5.3524575</td><td>nan</td><td>nan</td><td>0.14499704199338645</td><td>0.15886723307782735</td><td>0.2912562074742357</td><td>0.5985401711559398</td><td>2.082680118606706</td><td>4.5748534</td><td>nan</td><td>13.370395</td><td>nan</td><td>nan</td><td>nan</td><td>nan</td><td>nan</td></tr>\n",
       "<tr><td>8687021</td><td>0.10287259124016224</td><td>0.12039300871488914</td><td>0.18888852873625897</td><td>0.3987357319469088</td><td>1.419343910221842</td><td>1.8775079</td><td>nan</td><td>5.459472</td><td>nan</td><td>nan</td><td>0.15923118742553097</td><td>0.1769440101324317</td><td>0.26167305703021043</td><td>0.6090910253657126</td><td>2.0849519539507115</td><td>2.9474516</td><td>nan</td><td>10.134894</td><td>nan</td><td>nan</td><td>nan</td><td>nan</td><td>nan</td></tr>\n",
       "<tr><td>8687022</td><td>0.09532933268539538</td><td>0.10906805032746564</td><td>0.18241326357123988</td><td>0.35396133156307974</td><td>1.2651862089775676</td><td>1.921677</td><td>nan</td><td>5.4809356</td><td>nan</td><td>nan</td><td>0.14891398565063033</td><td>0.1715184602265481</td><td>0.32075134581481485</td><td>0.6570133593223575</td><td>2.509728964865259</td><td>5.170397</td><td>nan</td><td>16.788235</td><td>nan</td><td>nan</td><td>nan</td><td>nan</td><td>nan</td></tr>\n",
       "<tr><td>8687023</td><td>0.10824620420702666</td><td>0.12451767176397369</td><td>0.20268880115737872</td><td>0.3935921662498461</td><td>1.4397059241818613</td><td>2.5650663</td><td>nan</td><td>6.3428183</td><td>nan</td><td>nan</td><td>0.16647172217423</td><td>0.19354728602276483</td><td>0.3406217292725189</td><td>0.7090275556854875</td><td>2.75275276304709</td><td>5.436189</td><td>nan</td><td>14.047213</td><td>nan</td><td>nan</td><td>nan</td><td>nan</td><td>nan</td></tr>\n",
       "<tr><td>8687027</td><td>0.09558850799653333</td><td>0.10926661967339074</td><td>0.18378175455724388</td><td>0.3761169368503513</td><td>nan</td><td>nan</td><td>nan</td><td>nan</td><td>nan</td><td>nan</td><td>0.2635383775437744</td><td>0.31662367450327605</td><td>0.5523959165758974</td><td>1.1465177965441924</td><td>nan</td><td>nan</td><td>nan</td><td>nan</td><td>nan</td><td>nan</td><td>nan</td><td>nan</td><td>nan</td></tr>\n",
       "<tr><td>8687030</td><td>0.1358427699340554</td><td>0.1493070859514625</td><td>0.2240513508077266</td><td>0.4582541478237105</td><td>1.6245409469711032</td><td>2.7268982</td><td>nan</td><td>6.1417556</td><td>nan</td><td>nan</td><td>0.18002077580602077</td><td>0.1959855108897479</td><td>0.3441068031171864</td><td>0.8023753186870656</td><td>2.9411182516985024</td><td>5.4317064</td><td>nan</td><td>13.961416</td><td>nan</td><td>nan</td><td>nan</td><td>nan</td><td>nan</td></tr>\n",
       "<tr><td>8687031</td><td>0.10741622498099045</td><td>0.11990133701929664</td><td>0.19915376209503743</td><td>0.3899759458666783</td><td>1.4604985733744726</td><td>2.254099</td><td>nan</td><td>5.835954</td><td>nan</td><td>nan</td><td>0.15703056056224338</td><td>0.18470731440286034</td><td>0.3271232713991038</td><td>0.6792248384456054</td><td>2.5561633557780086</td><td>4.47669</td><td>nan</td><td>12.344089</td><td>nan</td><td>nan</td><td>nan</td><td>nan</td><td>nan</td></tr>\n",
       "<tr><td>8687032</td><td>0.1063021599962953</td><td>0.11882482910862704</td><td>0.19231578010450898</td><td>0.381007675223252</td><td>1.3052594731374605</td><td>1.9479681</td><td>nan</td><td>5.5365825</td><td>nan</td><td>nan</td><td>0.15411750281011016</td><td>0.1796824392500375</td><td>0.31161490019650584</td><td>0.6490385043926964</td><td>2.415877941023494</td><td>4.6447783</td><td>nan</td><td>13.411079</td><td>nan</td><td>nan</td><td>nan</td><td>nan</td><td>nan</td></tr>\n",
       "<tr><td>8687033</td><td>0.10589845688260136</td><td>0.11155260562151025</td><td>0.18408546034311987</td><td>0.37539954421750404</td><td>1.3509990820256135</td><td>1.93876</td><td>nan</td><td>5.580743</td><td>nan</td><td>nan</td><td>0.1661451697050113</td><td>0.17607902190954156</td><td>0.3094967492210213</td><td>0.6656539472068637</td><td>2.5622301676361317</td><td>4.723324</td><td>nan</td><td>14.378736</td><td>nan</td><td>nan</td><td>nan</td><td>nan</td><td>nan</td></tr>\n",
       "<tr><td>...</td><td>...</td><td>...</td><td>...</td><td>...</td><td>...</td><td>...</td><td>...</td><td>...</td><td>...</td><td>...</td><td>...</td><td>...</td><td>...</td><td>...</td><td>...</td><td>...</td><td>...</td><td>...</td><td>...</td><td>...</td><td>...</td><td>...</td><td>...</td></tr>\n",
       "<tr><td>4108163</td><td>nan</td><td>nan</td><td>nan</td><td>nan</td><td>nan</td><td>nan</td><td>nan</td><td>nan</td><td>nan</td><td>nan</td><td>2.1437145522073218</td><td>1.8092817909354146</td><td>1.910500959531398</td><td>3.2651926813168033</td><td>8.798386587790437</td><td>nan</td><td>nan</td><td>nan</td><td>1.230072636401828</td><td>1.5660139272571079</td><td>1.8986204759663963</td><td>3.2946822166040923</td><td>7.317758807107481</td></tr>\n",
       "<tr><td>4108164</td><td>nan</td><td>nan</td><td>nan</td><td>nan</td><td>nan</td><td>nan</td><td>nan</td><td>nan</td><td>nan</td><td>nan</td><td>26.571412815438016</td><td>1.5932049954536838</td><td>31.272486331761865</td><td>3.7149900634641977</td><td>8.084798880790665</td><td>nan</td><td>nan</td><td>nan</td><td>43.631355022545556</td><td>1.5983228914772185</td><td>49.843730252897785</td><td>3.198855875689371</td><td>6.995329035725289</td></tr>\n",
       "<tr><td>4108165</td><td>nan</td><td>nan</td><td>nan</td><td>nan</td><td>nan</td><td>nan</td><td>nan</td><td>nan</td><td>nan</td><td>nan</td><td>1.1165196987182553</td><td>1.2025745328154298</td><td>1.0962081595557356</td><td>2.2826658255787495</td><td>6.058213999571847</td><td>nan</td><td>nan</td><td>nan</td><td>0.8877489450921751</td><td>1.0522158612545063</td><td>1.0195042107794354</td><td>2.3488085598904522</td><td>6.113686861036047</td></tr>\n",
       "<tr><td>4108166</td><td>nan</td><td>nan</td><td>nan</td><td>nan</td><td>nan</td><td>nan</td><td>nan</td><td>nan</td><td>nan</td><td>nan</td><td>2.432729764553739</td><td>2.0636913063287756</td><td>2.5768296498855707</td><td>3.3209390566592636</td><td>7.861912021439814</td><td>nan</td><td>nan</td><td>nan</td><td>1.5357159094387185</td><td>1.711808766416526</td><td>2.504278464763498</td><td>2.8448263680738353</td><td>6.556817728724268</td></tr>\n",
       "<tr><td>4108167</td><td>nan</td><td>nan</td><td>nan</td><td>nan</td><td>nan</td><td>nan</td><td>nan</td><td>nan</td><td>nan</td><td>nan</td><td>1.6635389930372477</td><td>1.766978384977134</td><td>1.7636161902160838</td><td>2.9026415471040954</td><td>8.375651026733184</td><td>nan</td><td>nan</td><td>nan</td><td>1.9933253074653545</td><td>2.328708107615271</td><td>1.3835022568263584</td><td>2.780925732696164</td><td>6.5885703442606856</td></tr>\n",
       "<tr><td>4108168</td><td>nan</td><td>nan</td><td>nan</td><td>nan</td><td>nan</td><td>nan</td><td>nan</td><td>nan</td><td>nan</td><td>nan</td><td>1.8447317811605444</td><td>1.5121143119824727</td><td>1.4050082976082001</td><td>3.128094587368104</td><td>8.049655997343157</td><td>nan</td><td>nan</td><td>nan</td><td>1.184113520570321</td><td>1.4845345137565706</td><td>1.3059222556582215</td><td>3.0582933082632393</td><td>6.480679462580261</td></tr>\n",
       "<tr><td>4108169</td><td>nan</td><td>nan</td><td>nan</td><td>nan</td><td>nan</td><td>nan</td><td>nan</td><td>nan</td><td>nan</td><td>nan</td><td>2.6209980524331677</td><td>2.6462422906723178</td><td>1.951958814664047</td><td>3.25729809601566</td><td>9.09534498446947</td><td>nan</td><td>nan</td><td>nan</td><td>1.2783551504734372</td><td>3.1518046300314992</td><td>1.7830741364236824</td><td>3.3468211318459664</td><td>7.364804859996513</td></tr>\n",
       "<tr><td>4108170</td><td>nan</td><td>nan</td><td>nan</td><td>nan</td><td>nan</td><td>nan</td><td>nan</td><td>nan</td><td>nan</td><td>nan</td><td>1.935590971447908</td><td>2.0581212219750453</td><td>1.892333892576435</td><td>3.467528697356643</td><td>9.216554292143073</td><td>nan</td><td>nan</td><td>nan</td><td>1.7403363861112704</td><td>1.462780343534219</td><td>1.3302521697305363</td><td>3.068784066432667</td><td>8.379887493561307</td></tr>\n",
       "<tr><td>4108171</td><td>nan</td><td>nan</td><td>nan</td><td>nan</td><td>nan</td><td>nan</td><td>nan</td><td>nan</td><td>nan</td><td>nan</td><td>1.9478665033862286</td><td>1.874494538534816</td><td>1.506407019875632</td><td>3.5929703304621943</td><td>14.965026858542414</td><td>nan</td><td>nan</td><td>nan</td><td>3.0916888067037633</td><td>1.3730760495821759</td><td>1.4657285759794902</td><td>3.335391166122007</td><td>8.54603668100154</td></tr>\n",
       "<tr><td>4108176</td><td>nan</td><td>nan</td><td>nan</td><td>nan</td><td>nan</td><td>nan</td><td>nan</td><td>nan</td><td>nan</td><td>nan</td><td>1.3824198401398302</td><td>1.2826482042614615</td><td>1.1240870687977345</td><td>2.0737999536331517</td><td>5.1241599287750175</td><td>nan</td><td>nan</td><td>nan</td><td>1.6388281310014354</td><td>1.2632284246262695</td><td>1.246032688288238</td><td>1.968742112823616</td><td>4.21728605831051</td></tr>\n",
       "</table>"
      ],
      "text/plain": [
       "<Table length=5753>\n",
       "hp_idx_O_10 ferr_ap_decam_g_mean ... ferr_ap_gpc1_z_mean ferr_ap_gpc1_y_mean\n",
       "                    uJy          ...         uJy                 uJy        \n",
       "   int64          float64        ...       float64             float64      \n",
       "----------- -------------------- ... ------------------- -------------------\n",
       "    8687019  0.08941301241009876 ...                 nan                 nan\n",
       "    8687021  0.10287259124016224 ...                 nan                 nan\n",
       "    8687022  0.09532933268539538 ...                 nan                 nan\n",
       "    8687023  0.10824620420702666 ...                 nan                 nan\n",
       "    8687027  0.09558850799653333 ...                 nan                 nan\n",
       "    8687030   0.1358427699340554 ...                 nan                 nan\n",
       "    8687031  0.10741622498099045 ...                 nan                 nan\n",
       "    8687032   0.1063021599962953 ...                 nan                 nan\n",
       "    8687033  0.10589845688260136 ...                 nan                 nan\n",
       "        ...                  ... ...                 ...                 ...\n",
       "    4108163                  nan ...  3.2946822166040923   7.317758807107481\n",
       "    4108164                  nan ...   3.198855875689371   6.995329035725289\n",
       "    4108165                  nan ...  2.3488085598904522   6.113686861036047\n",
       "    4108166                  nan ...  2.8448263680738353   6.556817728724268\n",
       "    4108167                  nan ...   2.780925732696164  6.5885703442606856\n",
       "    4108168                  nan ...  3.0582933082632393   6.480679462580261\n",
       "    4108169                  nan ...  3.3468211318459664   7.364804859996513\n",
       "    4108170                  nan ...   3.068784066432667   8.379887493561307\n",
       "    4108171                  nan ...   3.335391166122007    8.54603668100154\n",
       "    4108176                  nan ...   1.968742112823616    4.21728605831051"
      ]
     },
     "execution_count": 26,
     "metadata": {},
     "output_type": "execute_result"
    }
   ],
   "source": [
    "full_depth.filled()"
   ]
  },
  {
   "cell_type": "code",
   "execution_count": 17,
   "metadata": {},
   "outputs": [
    {
     "data": {
      "text/html": [
       "<i>Table length=2929</i>\n",
       "<table id=\"table4449393744\" class=\"table-striped table-bordered table-condensed\">\n",
       "<thead><tr><th>hp_idx_O_10</th><th>ferr_ap_gpc1_g_mean</th><th>ferr_ap_gpc1_r_mean</th><th>ferr_ap_gpc1_i_mean</th><th>ferr_ap_gpc1_z_mean</th><th>ferr_ap_gpc1_y_mean</th><th>ferr_ap_irac_i1_mean</th><th>ferr_ap_irac_i2_mean</th><th>ferr_ap_g_mean</th><th>ferr_ap_r_mean</th><th>ferr_ap_i_mean</th><th>ferr_ap_z_mean</th><th>ferr_ap_y_mean</th></tr></thead>\n",
       "<thead><tr><th></th><th>uJy</th><th>uJy</th><th>uJy</th><th>uJy</th><th>uJy</th><th>uJy</th><th>uJy</th><th></th><th></th><th></th><th></th><th></th></tr></thead>\n",
       "<thead><tr><th>int64</th><th>float64</th><th>float64</th><th>float64</th><th>float64</th><th>float64</th><th>float32</th><th>float32</th><th>float64</th><th>float64</th><th>float64</th><th>float64</th><th>float64</th></tr></thead>\n",
       "<tr><td>2619366</td><td>7.346057284648794</td><td>170.00000481747838</td><td>328.2075088911762</td><td>2.055935237350816</td><td>1674.6003781995441</td><td>nan</td><td>nan</td><td>23.11294016696532</td><td>197.89529080415974</td><td>292.1664082988967</td><td>3.4282945302284404</td><td>131.3110449053683</td></tr>\n",
       "<tr><td>2619367</td><td>1.342477536775247</td><td>1.6050348984643854</td><td>3.881882230197802</td><td>4.32279245255675</td><td>7.094694185642595</td><td>nan</td><td>nan</td><td>1.6694622176892935</td><td>1.198555425191257</td><td>3.2623889954828558</td><td>3.462261671246637</td><td>7.0532909832129524</td></tr>\n",
       "<tr><td>2619368</td><td>0.7029987016990012</td><td>0.6796510582753339</td><td>0.8538914076507318</td><td>2.3984564992676183</td><td>4.729695960697839</td><td>nan</td><td>nan</td><td>0.7232786644079356</td><td>0.8325770301864907</td><td>0.9022383534977868</td><td>2.2289637057961444</td><td>6.976231876012413</td></tr>\n",
       "<tr><td>2619369</td><td>1.1397623319536059</td><td>0.9674475300132493</td><td>1.1065667486946513</td><td>2.279049862068511</td><td>5.61358293240161</td><td>nan</td><td>nan</td><td>1.4397812777581025</td><td>1.1136773199477144</td><td>1.164027773616349</td><td>2.5086094044119087</td><td>5.775937756868459</td></tr>\n",
       "<tr><td>2619370</td><td>0.7107343753175462</td><td>0.8297029950359659</td><td>0.9547113879500712</td><td>2.538687119827406</td><td>5.122094590544713</td><td>nan</td><td>nan</td><td>0.8169243035725672</td><td>0.8263010171706278</td><td>1.1358842876175976</td><td>2.3220722373952607</td><td>5.416706434594672</td></tr>\n",
       "<tr><td>2619371</td><td>1.4459191896117534</td><td>1.2497472013380924</td><td>37.31965550913904</td><td>37.49197887383164</td><td>17.1178530810913</td><td>nan</td><td>nan</td><td>2.0558069150792226</td><td>1.8275142184773503</td><td>17.58216783301345</td><td>34.72699286928259</td><td>19.368777425233322</td></tr>\n",
       "<tr><td>2619372</td><td>1.229451462965359</td><td>1.3712828818565415</td><td>2.6172711175778165</td><td>3.838478669925729</td><td>9.457876748434764</td><td>nan</td><td>nan</td><td>1.6852391291516546</td><td>1.3357290079015374</td><td>1.4241647836269578</td><td>2.924777733514807</td><td>7.243623058615625</td></tr>\n",
       "<tr><td>2619373</td><td>6.414779674569574</td><td>4.745691301550854</td><td>1.5800435823653352</td><td>3.396647406967832</td><td>7.366291021979887</td><td>nan</td><td>nan</td><td>1.3121740420344483</td><td>4.157899829483735</td><td>1.6617315115301674</td><td>3.6653179394561373</td><td>7.079635175592791</td></tr>\n",
       "<tr><td>2619374</td><td>1.42231854142541</td><td>2.5195982386259366</td><td>5.687735992148175</td><td>2.606256230214999</td><td>6.564433107202816</td><td>nan</td><td>nan</td><td>1.3633670294117302</td><td>5.480224640045563</td><td>6.281638772749785</td><td>2.7405214541630256</td><td>8.729508524155621</td></tr>\n",
       "<tr><td>...</td><td>...</td><td>...</td><td>...</td><td>...</td><td>...</td><td>...</td><td>...</td><td>...</td><td>...</td><td>...</td><td>...</td><td>...</td></tr>\n",
       "<tr><td>4108163</td><td>1.230072636401828</td><td>1.5660139272571079</td><td>1.8986204759663963</td><td>3.2946822166040923</td><td>7.317758807107481</td><td>nan</td><td>nan</td><td>2.1437145522073218</td><td>1.8092817909354146</td><td>1.910500959531398</td><td>3.2651926813168033</td><td>8.798386587790437</td></tr>\n",
       "<tr><td>4108164</td><td>43.631355022545556</td><td>1.5983228914772185</td><td>49.843730252897785</td><td>3.198855875689371</td><td>6.995329035725289</td><td>nan</td><td>nan</td><td>26.571412815438016</td><td>1.5932049954536838</td><td>31.272486331761865</td><td>3.7149900634641977</td><td>8.084798880790665</td></tr>\n",
       "<tr><td>4108165</td><td>0.8877489450921751</td><td>1.0522158612545063</td><td>1.0195042107794354</td><td>2.3488085598904522</td><td>6.113686861036047</td><td>nan</td><td>nan</td><td>1.1165196987182553</td><td>1.2025745328154298</td><td>1.0962081595557356</td><td>2.2826658255787495</td><td>6.058213999571847</td></tr>\n",
       "<tr><td>4108166</td><td>1.5357159094387185</td><td>1.711808766416526</td><td>2.504278464763498</td><td>2.8448263680738353</td><td>6.556817728724268</td><td>nan</td><td>nan</td><td>2.432729764553739</td><td>2.0636913063287756</td><td>2.5768296498855707</td><td>3.3209390566592636</td><td>7.861912021439814</td></tr>\n",
       "<tr><td>4108167</td><td>1.9933253074653545</td><td>2.328708107615271</td><td>1.3835022568263584</td><td>2.780925732696164</td><td>6.5885703442606856</td><td>nan</td><td>nan</td><td>1.6635389930372477</td><td>1.766978384977134</td><td>1.7636161902160838</td><td>2.9026415471040954</td><td>8.375651026733184</td></tr>\n",
       "<tr><td>4108168</td><td>1.184113520570321</td><td>1.4845345137565706</td><td>1.3059222556582215</td><td>3.0582933082632393</td><td>6.480679462580261</td><td>nan</td><td>nan</td><td>1.8447317811605444</td><td>1.5121143119824727</td><td>1.4050082976082001</td><td>3.128094587368104</td><td>8.049655997343157</td></tr>\n",
       "<tr><td>4108169</td><td>1.2783551504734372</td><td>3.1518046300314992</td><td>1.7830741364236824</td><td>3.3468211318459664</td><td>7.364804859996513</td><td>nan</td><td>nan</td><td>2.6209980524331677</td><td>2.6462422906723178</td><td>1.951958814664047</td><td>3.25729809601566</td><td>9.09534498446947</td></tr>\n",
       "<tr><td>4108170</td><td>1.7403363861112704</td><td>1.462780343534219</td><td>1.3302521697305363</td><td>3.068784066432667</td><td>8.379887493561307</td><td>nan</td><td>nan</td><td>1.935590971447908</td><td>2.0581212219750453</td><td>1.892333892576435</td><td>3.467528697356643</td><td>9.216554292143073</td></tr>\n",
       "<tr><td>4108171</td><td>3.0916888067037633</td><td>1.3730760495821759</td><td>1.4657285759794902</td><td>3.335391166122007</td><td>8.54603668100154</td><td>nan</td><td>nan</td><td>1.9478665033862286</td><td>1.874494538534816</td><td>1.506407019875632</td><td>3.5929703304621943</td><td>14.965026858542414</td></tr>\n",
       "<tr><td>4108176</td><td>1.6388281310014354</td><td>1.2632284246262695</td><td>1.246032688288238</td><td>1.968742112823616</td><td>4.21728605831051</td><td>nan</td><td>nan</td><td>1.3824198401398302</td><td>1.2826482042614615</td><td>1.1240870687977345</td><td>2.0737999536331517</td><td>5.1241599287750175</td></tr>\n",
       "</table>"
      ],
      "text/plain": [
       "<Table length=2929>\n",
       "hp_idx_O_10 ferr_ap_gpc1_g_mean ...   ferr_ap_z_mean     ferr_ap_y_mean  \n",
       "                    uJy         ...                                      \n",
       "   int64          float64       ...      float64            float64      \n",
       "----------- ------------------- ... ------------------ ------------------\n",
       "    2619366   7.346057284648794 ... 3.4282945302284404  131.3110449053683\n",
       "    2619367   1.342477536775247 ...  3.462261671246637 7.0532909832129524\n",
       "    2619368  0.7029987016990012 ... 2.2289637057961444  6.976231876012413\n",
       "    2619369  1.1397623319536059 ... 2.5086094044119087  5.775937756868459\n",
       "    2619370  0.7107343753175462 ... 2.3220722373952607  5.416706434594672\n",
       "    2619371  1.4459191896117534 ...  34.72699286928259 19.368777425233322\n",
       "    2619372   1.229451462965359 ...  2.924777733514807  7.243623058615625\n",
       "    2619373   6.414779674569574 ... 3.6653179394561373  7.079635175592791\n",
       "    2619374    1.42231854142541 ... 2.7405214541630256  8.729508524155621\n",
       "        ...                 ... ...                ...                ...\n",
       "    4108163   1.230072636401828 ... 3.2651926813168033  8.798386587790437\n",
       "    4108164  43.631355022545556 ... 3.7149900634641977  8.084798880790665\n",
       "    4108165  0.8877489450921751 ... 2.2826658255787495  6.058213999571847\n",
       "    4108166  1.5357159094387185 ... 3.3209390566592636  7.861912021439814\n",
       "    4108167  1.9933253074653545 ... 2.9026415471040954  8.375651026733184\n",
       "    4108168   1.184113520570321 ...  3.128094587368104  8.049655997343157\n",
       "    4108169  1.2783551504734372 ...   3.25729809601566   9.09534498446947\n",
       "    4108170  1.7403363861112704 ...  3.467528697356643  9.216554292143073\n",
       "    4108171  3.0916888067037633 ... 3.5929703304621943 14.965026858542414\n",
       "    4108176  1.6388281310014354 ... 2.0737999536331517 5.1241599287750175"
      ]
     },
     "execution_count": 17,
     "metadata": {},
     "output_type": "execute_result"
    }
   ],
   "source": [
    "d_cat"
   ]
  },
  {
   "cell_type": "code",
   "execution_count": 14,
   "metadata": {},
   "outputs": [
    {
     "data": {
      "text/html": [
       "<i>Table length=2929</i>\n",
       "<table id=\"table4768448976\" class=\"table-striped table-bordered table-condensed\">\n",
       "<thead><tr><th>hp_idx_O_10</th><th>ferr_megacam_u_mean</th><th>f_megacam_u_p90</th><th>ferr_megacam_g_mean</th><th>f_megacam_g_p90</th><th>ferr_gpc1_g_mean</th><th>f_gpc1_g_p90</th><th>ferr_ap_gpc1_g_mean</th><th>f_ap_gpc1_g_p90</th><th>ferr_gpc1_r_mean</th><th>f_gpc1_r_p90</th><th>ferr_ap_gpc1_r_mean</th><th>f_ap_gpc1_r_p90</th><th>ferr_megacam_r_mean</th><th>f_megacam_r_p90</th><th>ferr_gpc1_i_mean</th><th>f_gpc1_i_p90</th><th>ferr_ap_gpc1_i_mean</th><th>f_ap_gpc1_i_p90</th><th>ferr_megacam_i_mean</th><th>f_megacam_i_p90</th><th>ferr_gpc1_z_mean</th><th>f_gpc1_z_p90</th><th>ferr_ap_gpc1_z_mean</th><th>f_ap_gpc1_z_p90</th><th>ferr_megacam_z_mean</th><th>f_megacam_z_p90</th><th>ferr_gpc1_y_mean</th><th>f_gpc1_y_p90</th><th>ferr_ap_gpc1_y_mean</th><th>f_ap_gpc1_y_p90</th><th>ferr_wircam_y_mean</th><th>f_wircam_y_p90</th><th>ferr_wircam_j_mean</th><th>f_wircam_j_p90</th><th>ferr_wircam_ks_mean</th><th>f_wircam_ks_p90</th><th>ferr_irac_i1_mean</th><th>f_irac_i1_p90</th><th>ferr_ap_irac_i1_mean</th><th>f_ap_irac_i1_p90</th><th>ferr_irac_i2_mean</th><th>f_irac_i2_p90</th><th>ferr_ap_irac_i2_mean</th><th>f_ap_irac_i2_p90</th><th>ferr_mips_24_mean</th><th>f_mips_24_p90</th><th>ferr_pacs_green_mean</th><th>f_pacs_green_p90</th><th>ferr_pacs_red_mean</th><th>f_pacs_red_p90</th><th>ferr_spire_250_mean</th><th>f_spire_250_p90</th><th>ferr_spire_350_mean</th><th>f_spire_350_p90</th><th>ferr_spire_500_mean</th><th>f_spire_500_p90</th><th>ferr_u_mean</th><th>ferr_ap_g_mean</th><th>ferr_g_mean</th><th>ferr_ap_r_mean</th><th>ferr_r_mean</th><th>ferr_ap_i_mean</th><th>ferr_i_mean</th><th>ferr_ap_z_mean</th><th>ferr_z_mean</th><th>ferr_ap_y_mean</th><th>ferr_y_mean</th><th>ferr_j_mean</th><th>ferr_ks_mean</th></tr></thead>\n",
       "<thead><tr><th></th><th>uJy</th><th>uJy</th><th>uJy</th><th>uJy</th><th>uJy</th><th>uJy</th><th>uJy</th><th>uJy</th><th>uJy</th><th>uJy</th><th>uJy</th><th>uJy</th><th>uJy</th><th>uJy</th><th>uJy</th><th>uJy</th><th>uJy</th><th>uJy</th><th>uJy</th><th>uJy</th><th>uJy</th><th>uJy</th><th>uJy</th><th>uJy</th><th>uJy</th><th>uJy</th><th>uJy</th><th>uJy</th><th>uJy</th><th>uJy</th><th>uJy</th><th>uJy</th><th>uJy</th><th>uJy</th><th>uJy</th><th>uJy</th><th>uJy</th><th>uJy</th><th>uJy</th><th>uJy</th><th>uJy</th><th>uJy</th><th>uJy</th><th>uJy</th><th>uJy</th><th>uJy</th><th>uJy</th><th>uJy</th><th>uJy</th><th>uJy</th><th>uJy</th><th>uJy</th><th>uJy</th><th>uJy</th><th>uJy</th><th>uJy</th><th></th><th></th><th></th><th></th><th></th><th></th><th></th><th></th><th></th><th></th><th></th><th></th><th></th></tr></thead>\n",
       "<thead><tr><th>int64</th><th>float32</th><th>float64</th><th>float32</th><th>float64</th><th>float64</th><th>float64</th><th>float64</th><th>float64</th><th>float64</th><th>float64</th><th>float64</th><th>float64</th><th>float32</th><th>float64</th><th>float64</th><th>float64</th><th>float64</th><th>float64</th><th>float32</th><th>float64</th><th>float64</th><th>float64</th><th>float64</th><th>float64</th><th>float32</th><th>float64</th><th>float64</th><th>float64</th><th>float64</th><th>float64</th><th>float32</th><th>float64</th><th>float32</th><th>float64</th><th>float32</th><th>float64</th><th>float32</th><th>float64</th><th>float32</th><th>float64</th><th>float32</th><th>float64</th><th>float32</th><th>float64</th><th>float32</th><th>float64</th><th>float32</th><th>float64</th><th>float32</th><th>float64</th><th>float32</th><th>float64</th><th>float32</th><th>float64</th><th>float32</th><th>float64</th><th>float32</th><th>float64</th><th>float64</th><th>float64</th><th>float64</th><th>float64</th><th>float64</th><th>float64</th><th>float64</th><th>float64</th><th>float64</th><th>float32</th><th>float32</th></tr></thead>\n",
       "<tr><td>2619366</td><td>nan</td><td>nan</td><td>nan</td><td>nan</td><td>23.11294016696532</td><td>3921.5895364974053</td><td>7.346057284648794</td><td>2679.130378442577</td><td>197.89529080415974</td><td>6850.630952367077</td><td>170.00000481747838</td><td>4625.116550817112</td><td>nan</td><td>nan</td><td>292.1664082988967</td><td>7179.767287143879</td><td>328.2075088911762</td><td>7972.906097390461</td><td>nan</td><td>nan</td><td>3.4282945302284404</td><td>209.19527793446213</td><td>2.055935237350816</td><td>196.89616005697417</td><td>nan</td><td>nan</td><td>131.3110449053683</td><td>10791.643610931656</td><td>1674.6003781995441</td><td>28034.94725995064</td><td>nan</td><td>nan</td><td>nan</td><td>nan</td><td>nan</td><td>nan</td><td>nan</td><td>nan</td><td>nan</td><td>nan</td><td>nan</td><td>nan</td><td>nan</td><td>nan</td><td>nan</td><td>nan</td><td>nan</td><td>nan</td><td>nan</td><td>nan</td><td>nan</td><td>nan</td><td>nan</td><td>nan</td><td>nan</td><td>nan</td><td>nan</td><td>23.11294016696532</td><td>23.11294016696532</td><td>197.89529080415974</td><td>197.89529080415974</td><td>292.1664082988967</td><td>292.1664082988967</td><td>3.4282945302284404</td><td>3.4282945302284404</td><td>131.3110449053683</td><td>131.3110449053683</td><td>nan</td><td>nan</td></tr>\n",
       "<tr><td>2619367</td><td>nan</td><td>nan</td><td>nan</td><td>nan</td><td>1.6694622176892935</td><td>190.02045514791604</td><td>1.342477536775247</td><td>1028.2002545401745</td><td>1.198555425191257</td><td>170.35396610538805</td><td>1.6050348984643854</td><td>234.0431190101886</td><td>nan</td><td>nan</td><td>3.2623889954828558</td><td>269.33890891161263</td><td>3.881882230197802</td><td>306.96592445416536</td><td>nan</td><td>nan</td><td>3.462261671246637</td><td>389.45149660120035</td><td>4.32279245255675</td><td>431.3477990903934</td><td>nan</td><td>nan</td><td>7.0532909832129524</td><td>451.10818964651907</td><td>7.094694185642595</td><td>494.11113099154306</td><td>nan</td><td>nan</td><td>nan</td><td>nan</td><td>nan</td><td>nan</td><td>nan</td><td>nan</td><td>nan</td><td>nan</td><td>nan</td><td>nan</td><td>nan</td><td>nan</td><td>nan</td><td>nan</td><td>nan</td><td>nan</td><td>nan</td><td>nan</td><td>nan</td><td>nan</td><td>nan</td><td>nan</td><td>nan</td><td>nan</td><td>nan</td><td>1.6694622176892935</td><td>1.6694622176892935</td><td>1.198555425191257</td><td>1.198555425191257</td><td>3.2623889954828558</td><td>3.2623889954828558</td><td>3.462261671246637</td><td>3.462261671246637</td><td>7.0532909832129524</td><td>7.0532909832129524</td><td>nan</td><td>nan</td></tr>\n",
       "<tr><td>2619368</td><td>nan</td><td>nan</td><td>nan</td><td>nan</td><td>0.7232786644079356</td><td>15.532454203179254</td><td>0.7029987016990012</td><td>14.822217864176553</td><td>0.8325770301864907</td><td>26.900344024662363</td><td>0.6796510582753339</td><td>26.647716610120646</td><td>nan</td><td>nan</td><td>0.9022383534977868</td><td>43.000759156714956</td><td>0.8538914076507318</td><td>42.04834049668078</td><td>nan</td><td>nan</td><td>2.2289637057961444</td><td>56.00469277129774</td><td>2.3984564992676183</td><td>63.4315430636867</td><td>nan</td><td>nan</td><td>6.976231876012413</td><td>82.07293825757186</td><td>4.729695960697839</td><td>84.00955189977688</td><td>nan</td><td>nan</td><td>nan</td><td>nan</td><td>nan</td><td>nan</td><td>nan</td><td>nan</td><td>nan</td><td>nan</td><td>nan</td><td>nan</td><td>nan</td><td>nan</td><td>nan</td><td>nan</td><td>nan</td><td>nan</td><td>nan</td><td>nan</td><td>nan</td><td>nan</td><td>nan</td><td>nan</td><td>nan</td><td>nan</td><td>nan</td><td>0.7232786644079356</td><td>0.7232786644079356</td><td>0.8325770301864907</td><td>0.8325770301864907</td><td>0.9022383534977868</td><td>0.9022383534977868</td><td>2.2289637057961444</td><td>2.2289637057961444</td><td>6.976231876012413</td><td>6.976231876012413</td><td>nan</td><td>nan</td></tr>\n",
       "<tr><td>2619369</td><td>nan</td><td>nan</td><td>nan</td><td>nan</td><td>1.4397812777581025</td><td>154.1838751205898</td><td>1.1397623319536059</td><td>213.4483427723781</td><td>1.1136773199477144</td><td>172.4479566059833</td><td>0.9674475300132493</td><td>182.65148445734314</td><td>nan</td><td>nan</td><td>1.164027773616349</td><td>191.48746124659937</td><td>1.1065667486946513</td><td>211.4852833028712</td><td>nan</td><td>nan</td><td>2.5086094044119087</td><td>372.49448103973964</td><td>2.279049862068511</td><td>365.9269150453677</td><td>nan</td><td>nan</td><td>5.775937756868459</td><td>527.5749172213668</td><td>5.61358293240161</td><td>595.0509596818752</td><td>nan</td><td>nan</td><td>nan</td><td>nan</td><td>nan</td><td>nan</td><td>nan</td><td>nan</td><td>nan</td><td>nan</td><td>nan</td><td>nan</td><td>nan</td><td>nan</td><td>nan</td><td>nan</td><td>nan</td><td>nan</td><td>nan</td><td>nan</td><td>nan</td><td>nan</td><td>nan</td><td>nan</td><td>nan</td><td>nan</td><td>nan</td><td>1.4397812777581025</td><td>1.4397812777581025</td><td>1.1136773199477144</td><td>1.1136773199477144</td><td>1.164027773616349</td><td>1.164027773616349</td><td>2.5086094044119087</td><td>2.5086094044119087</td><td>5.775937756868459</td><td>5.775937756868459</td><td>nan</td><td>nan</td></tr>\n",
       "<tr><td>2619370</td><td>nan</td><td>nan</td><td>nan</td><td>nan</td><td>0.8169243035725672</td><td>68.85723812979727</td><td>0.7107343753175462</td><td>86.6638101227557</td><td>0.8263010171706278</td><td>105.12256934071674</td><td>0.8297029950359659</td><td>111.14549028629425</td><td>nan</td><td>nan</td><td>1.1358842876175976</td><td>154.3182868506563</td><td>0.9547113879500712</td><td>162.86557768551998</td><td>nan</td><td>nan</td><td>2.3220722373952607</td><td>164.95294623213806</td><td>2.538687119827406</td><td>198.27531212777245</td><td>nan</td><td>nan</td><td>5.416706434594672</td><td>239.96676359104438</td><td>5.122094590544713</td><td>258.2985399004452</td><td>nan</td><td>nan</td><td>nan</td><td>nan</td><td>nan</td><td>nan</td><td>nan</td><td>nan</td><td>nan</td><td>nan</td><td>nan</td><td>nan</td><td>nan</td><td>nan</td><td>nan</td><td>nan</td><td>nan</td><td>nan</td><td>nan</td><td>nan</td><td>nan</td><td>nan</td><td>nan</td><td>nan</td><td>nan</td><td>nan</td><td>nan</td><td>0.8169243035725672</td><td>0.8169243035725672</td><td>0.8263010171706278</td><td>0.8263010171706278</td><td>1.1358842876175976</td><td>1.1358842876175976</td><td>2.3220722373952607</td><td>2.3220722373952607</td><td>5.416706434594672</td><td>5.416706434594672</td><td>nan</td><td>nan</td></tr>\n",
       "<tr><td>2619371</td><td>nan</td><td>nan</td><td>nan</td><td>nan</td><td>2.0558069150792226</td><td>254.56416210109631</td><td>1.4459191896117534</td><td>265.31402309674417</td><td>1.8275142184773503</td><td>287.57966338367476</td><td>1.2497472013380924</td><td>282.18922664234043</td><td>nan</td><td>nan</td><td>17.58216783301345</td><td>338.2076225136493</td><td>37.31965550913904</td><td>367.79178626083285</td><td>nan</td><td>nan</td><td>34.72699286928259</td><td>612.3162199936412</td><td>37.49197887383164</td><td>682.5901290744898</td><td>nan</td><td>nan</td><td>19.368777425233322</td><td>1675.66510452191</td><td>17.1178530810913</td><td>1578.0219293783175</td><td>nan</td><td>nan</td><td>nan</td><td>nan</td><td>nan</td><td>nan</td><td>nan</td><td>nan</td><td>nan</td><td>nan</td><td>nan</td><td>nan</td><td>nan</td><td>nan</td><td>nan</td><td>nan</td><td>nan</td><td>nan</td><td>nan</td><td>nan</td><td>nan</td><td>nan</td><td>nan</td><td>nan</td><td>nan</td><td>nan</td><td>nan</td><td>2.0558069150792226</td><td>2.0558069150792226</td><td>1.8275142184773503</td><td>1.8275142184773503</td><td>17.58216783301345</td><td>17.58216783301345</td><td>34.72699286928259</td><td>34.72699286928259</td><td>19.368777425233322</td><td>19.368777425233322</td><td>nan</td><td>nan</td></tr>\n",
       "<tr><td>2619372</td><td>nan</td><td>nan</td><td>nan</td><td>nan</td><td>1.6852391291516546</td><td>340.1193275174952</td><td>1.229451462965359</td><td>312.79862338077805</td><td>1.3357290079015374</td><td>254.33165287715852</td><td>1.3712828818565415</td><td>319.4029510832309</td><td>nan</td><td>nan</td><td>1.4241647836269578</td><td>229.30055597393627</td><td>2.6172711175778165</td><td>296.8739473632184</td><td>nan</td><td>nan</td><td>2.924777733514807</td><td>385.83355448289905</td><td>3.838478669925729</td><td>487.4534722155912</td><td>nan</td><td>nan</td><td>7.243623058615625</td><td>575.1807996304651</td><td>9.457876748434764</td><td>624.8449069770088</td><td>nan</td><td>nan</td><td>nan</td><td>nan</td><td>nan</td><td>nan</td><td>nan</td><td>nan</td><td>nan</td><td>nan</td><td>nan</td><td>nan</td><td>nan</td><td>nan</td><td>nan</td><td>nan</td><td>nan</td><td>nan</td><td>nan</td><td>nan</td><td>nan</td><td>nan</td><td>nan</td><td>nan</td><td>nan</td><td>nan</td><td>nan</td><td>1.6852391291516546</td><td>1.6852391291516546</td><td>1.3357290079015374</td><td>1.3357290079015374</td><td>1.4241647836269578</td><td>1.4241647836269578</td><td>2.924777733514807</td><td>2.924777733514807</td><td>7.243623058615625</td><td>7.243623058615625</td><td>nan</td><td>nan</td></tr>\n",
       "<tr><td>2619373</td><td>nan</td><td>nan</td><td>nan</td><td>nan</td><td>1.3121740420344483</td><td>113.60775279037429</td><td>6.414779674569574</td><td>120.54490475880229</td><td>4.157899829483735</td><td>199.0609856151283</td><td>4.745691301550854</td><td>146.22924918811478</td><td>nan</td><td>nan</td><td>1.6617315115301674</td><td>158.13025804021686</td><td>1.5800435823653352</td><td>161.97892141695914</td><td>nan</td><td>nan</td><td>3.6653179394561373</td><td>254.8842595274119</td><td>3.396647406967832</td><td>252.85811127829757</td><td>nan</td><td>nan</td><td>7.079635175592791</td><td>486.3446863198702</td><td>7.366291021979887</td><td>491.5507028573927</td><td>nan</td><td>nan</td><td>nan</td><td>nan</td><td>nan</td><td>nan</td><td>nan</td><td>nan</td><td>nan</td><td>nan</td><td>nan</td><td>nan</td><td>nan</td><td>nan</td><td>nan</td><td>nan</td><td>nan</td><td>nan</td><td>nan</td><td>nan</td><td>nan</td><td>nan</td><td>nan</td><td>nan</td><td>nan</td><td>nan</td><td>nan</td><td>1.3121740420344483</td><td>1.3121740420344483</td><td>4.157899829483735</td><td>4.157899829483735</td><td>1.6617315115301674</td><td>1.6617315115301674</td><td>3.6653179394561373</td><td>3.6653179394561373</td><td>7.079635175592791</td><td>7.079635175592791</td><td>nan</td><td>nan</td></tr>\n",
       "<tr><td>2619374</td><td>nan</td><td>nan</td><td>nan</td><td>nan</td><td>1.3633670294117302</td><td>492.6709794794913</td><td>1.42231854142541</td><td>520.7618815652382</td><td>5.480224640045563</td><td>576.2131432409576</td><td>2.5195982386259366</td><td>637.592496413901</td><td>nan</td><td>nan</td><td>6.281638772749785</td><td>478.02138701300385</td><td>5.687735992148175</td><td>523.4305574308845</td><td>nan</td><td>nan</td><td>2.7405214541630256</td><td>858.6885336547235</td><td>2.606256230214999</td><td>852.512784785608</td><td>nan</td><td>nan</td><td>8.729508524155621</td><td>1362.8858359899139</td><td>6.564433107202816</td><td>1454.767506935025</td><td>nan</td><td>nan</td><td>nan</td><td>nan</td><td>nan</td><td>nan</td><td>nan</td><td>nan</td><td>nan</td><td>nan</td><td>nan</td><td>nan</td><td>nan</td><td>nan</td><td>nan</td><td>nan</td><td>nan</td><td>nan</td><td>nan</td><td>nan</td><td>nan</td><td>nan</td><td>nan</td><td>nan</td><td>nan</td><td>nan</td><td>nan</td><td>1.3633670294117302</td><td>1.3633670294117302</td><td>5.480224640045563</td><td>5.480224640045563</td><td>6.281638772749785</td><td>6.281638772749785</td><td>2.7405214541630256</td><td>2.7405214541630256</td><td>8.729508524155621</td><td>8.729508524155621</td><td>nan</td><td>nan</td></tr>\n",
       "<tr><td>...</td><td>...</td><td>...</td><td>...</td><td>...</td><td>...</td><td>...</td><td>...</td><td>...</td><td>...</td><td>...</td><td>...</td><td>...</td><td>...</td><td>...</td><td>...</td><td>...</td><td>...</td><td>...</td><td>...</td><td>...</td><td>...</td><td>...</td><td>...</td><td>...</td><td>...</td><td>...</td><td>...</td><td>...</td><td>...</td><td>...</td><td>...</td><td>...</td><td>...</td><td>...</td><td>...</td><td>...</td><td>...</td><td>...</td><td>...</td><td>...</td><td>...</td><td>...</td><td>...</td><td>...</td><td>...</td><td>...</td><td>...</td><td>...</td><td>...</td><td>...</td><td>...</td><td>...</td><td>...</td><td>...</td><td>...</td><td>...</td><td>...</td><td>...</td><td>...</td><td>...</td><td>...</td><td>...</td><td>...</td><td>...</td><td>...</td><td>...</td><td>...</td><td>...</td><td>...</td></tr>\n",
       "<tr><td>4108163</td><td>nan</td><td>nan</td><td>nan</td><td>nan</td><td>2.1437145522073218</td><td>541.5513950872603</td><td>1.230072636401828</td><td>444.26505397247234</td><td>1.8092817909354146</td><td>198.5545958138645</td><td>1.5660139272571079</td><td>202.96889491765108</td><td>nan</td><td>nan</td><td>1.910500959531398</td><td>288.34995724857197</td><td>1.8986204759663963</td><td>284.1269872924241</td><td>nan</td><td>nan</td><td>3.2651926813168033</td><td>490.6438690020632</td><td>3.2946822166040923</td><td>491.24766673663356</td><td>nan</td><td>nan</td><td>8.798386587790437</td><td>1594.6463881871114</td><td>7.317758807107481</td><td>1256.4242682349031</td><td>nan</td><td>nan</td><td>nan</td><td>nan</td><td>nan</td><td>nan</td><td>nan</td><td>nan</td><td>nan</td><td>nan</td><td>nan</td><td>nan</td><td>nan</td><td>nan</td><td>nan</td><td>nan</td><td>nan</td><td>nan</td><td>nan</td><td>nan</td><td>nan</td><td>nan</td><td>nan</td><td>nan</td><td>nan</td><td>nan</td><td>nan</td><td>2.1437145522073218</td><td>2.1437145522073218</td><td>1.8092817909354146</td><td>1.8092817909354146</td><td>1.910500959531398</td><td>1.910500959531398</td><td>3.2651926813168033</td><td>3.2651926813168033</td><td>8.798386587790437</td><td>8.798386587790437</td><td>nan</td><td>nan</td></tr>\n",
       "<tr><td>4108164</td><td>nan</td><td>nan</td><td>nan</td><td>nan</td><td>26.571412815438016</td><td>275.55426130748475</td><td>43.631355022545556</td><td>275.0195869012112</td><td>1.5932049954536838</td><td>226.7648584836669</td><td>1.5983228914772185</td><td>284.8827430932961</td><td>nan</td><td>nan</td><td>31.272486331761865</td><td>397.0511198168408</td><td>49.843730252897785</td><td>426.2788421290635</td><td>nan</td><td>nan</td><td>3.7149900634641977</td><td>505.0921164111961</td><td>3.198855875689371</td><td>549.8732974141825</td><td>nan</td><td>nan</td><td>8.084798880790665</td><td>603.7819517536175</td><td>6.995329035725289</td><td>668.159843756009</td><td>nan</td><td>nan</td><td>nan</td><td>nan</td><td>nan</td><td>nan</td><td>nan</td><td>nan</td><td>nan</td><td>nan</td><td>nan</td><td>nan</td><td>nan</td><td>nan</td><td>nan</td><td>nan</td><td>nan</td><td>nan</td><td>nan</td><td>nan</td><td>nan</td><td>nan</td><td>nan</td><td>nan</td><td>nan</td><td>nan</td><td>nan</td><td>26.571412815438016</td><td>26.571412815438016</td><td>1.5932049954536838</td><td>1.5932049954536838</td><td>31.272486331761865</td><td>31.272486331761865</td><td>3.7149900634641977</td><td>3.7149900634641977</td><td>8.084798880790665</td><td>8.084798880790665</td><td>nan</td><td>nan</td></tr>\n",
       "<tr><td>4108165</td><td>nan</td><td>nan</td><td>nan</td><td>nan</td><td>1.1165196987182553</td><td>125.6148839064643</td><td>0.8877489450921751</td><td>107.87604276817909</td><td>1.2025745328154298</td><td>106.6105393253431</td><td>1.0522158612545063</td><td>112.9795994062792</td><td>nan</td><td>nan</td><td>1.0962081595557356</td><td>133.96765954925547</td><td>1.0195042107794354</td><td>139.43677423752618</td><td>nan</td><td>nan</td><td>2.2826658255787495</td><td>187.15700573948092</td><td>2.3488085598904522</td><td>207.52961391788406</td><td>nan</td><td>nan</td><td>6.058213999571847</td><td>251.47354637389256</td><td>6.113686861036047</td><td>274.762343057427</td><td>nan</td><td>nan</td><td>nan</td><td>nan</td><td>nan</td><td>nan</td><td>nan</td><td>nan</td><td>nan</td><td>nan</td><td>nan</td><td>nan</td><td>nan</td><td>nan</td><td>nan</td><td>nan</td><td>nan</td><td>nan</td><td>nan</td><td>nan</td><td>nan</td><td>nan</td><td>nan</td><td>nan</td><td>nan</td><td>nan</td><td>nan</td><td>1.1165196987182553</td><td>1.1165196987182553</td><td>1.2025745328154298</td><td>1.2025745328154298</td><td>1.0962081595557356</td><td>1.0962081595557356</td><td>2.2826658255787495</td><td>2.2826658255787495</td><td>6.058213999571847</td><td>6.058213999571847</td><td>nan</td><td>nan</td></tr>\n",
       "<tr><td>4108166</td><td>nan</td><td>nan</td><td>nan</td><td>nan</td><td>2.432729764553739</td><td>71.52866723037408</td><td>1.5357159094387185</td><td>242.09134299342793</td><td>2.0636913063287756</td><td>108.23998018123395</td><td>1.711808766416526</td><td>111.82975631241843</td><td>nan</td><td>nan</td><td>2.5768296498855707</td><td>113.62176522376126</td><td>2.504278464763498</td><td>124.13863169796834</td><td>nan</td><td>nan</td><td>3.3209390566592636</td><td>233.30180231750788</td><td>2.8448263680738353</td><td>256.59965444453127</td><td>nan</td><td>nan</td><td>7.861912021439814</td><td>658.9413308900217</td><td>6.556817728724268</td><td>526.2254649544029</td><td>nan</td><td>nan</td><td>nan</td><td>nan</td><td>nan</td><td>nan</td><td>nan</td><td>nan</td><td>nan</td><td>nan</td><td>nan</td><td>nan</td><td>nan</td><td>nan</td><td>nan</td><td>nan</td><td>nan</td><td>nan</td><td>nan</td><td>nan</td><td>nan</td><td>nan</td><td>nan</td><td>nan</td><td>nan</td><td>nan</td><td>nan</td><td>2.432729764553739</td><td>2.432729764553739</td><td>2.0636913063287756</td><td>2.0636913063287756</td><td>2.5768296498855707</td><td>2.5768296498855707</td><td>3.3209390566592636</td><td>3.3209390566592636</td><td>7.861912021439814</td><td>7.861912021439814</td><td>nan</td><td>nan</td></tr>\n",
       "<tr><td>4108167</td><td>nan</td><td>nan</td><td>nan</td><td>nan</td><td>1.6635389930372477</td><td>134.97086175402194</td><td>1.9933253074653545</td><td>157.17039236174023</td><td>1.766978384977134</td><td>198.01098986173176</td><td>2.328708107615271</td><td>219.013075599287</td><td>nan</td><td>nan</td><td>1.7636161902160838</td><td>319.5920814452076</td><td>1.3835022568263584</td><td>230.76556314577243</td><td>nan</td><td>nan</td><td>2.9026415471040954</td><td>391.86130764113926</td><td>2.780925732696164</td><td>471.3426052281687</td><td>nan</td><td>nan</td><td>8.375651026733184</td><td>914.7817546607408</td><td>6.5885703442606856</td><td>846.1325970515085</td><td>nan</td><td>nan</td><td>nan</td><td>nan</td><td>nan</td><td>nan</td><td>nan</td><td>nan</td><td>nan</td><td>nan</td><td>nan</td><td>nan</td><td>nan</td><td>nan</td><td>nan</td><td>nan</td><td>nan</td><td>nan</td><td>nan</td><td>nan</td><td>nan</td><td>nan</td><td>nan</td><td>nan</td><td>nan</td><td>nan</td><td>nan</td><td>1.6635389930372477</td><td>1.6635389930372477</td><td>1.766978384977134</td><td>1.766978384977134</td><td>1.7636161902160838</td><td>1.7636161902160838</td><td>2.9026415471040954</td><td>2.9026415471040954</td><td>8.375651026733184</td><td>8.375651026733184</td><td>nan</td><td>nan</td></tr>\n",
       "<tr><td>4108168</td><td>nan</td><td>nan</td><td>nan</td><td>nan</td><td>1.8447317811605444</td><td>220.60038392579645</td><td>1.184113520570321</td><td>226.35587361523767</td><td>1.5121143119824727</td><td>347.3335726682362</td><td>1.4845345137565706</td><td>370.9667893979629</td><td>nan</td><td>nan</td><td>1.4050082976082001</td><td>288.82854084089377</td><td>1.3059222556582215</td><td>342.22594091868575</td><td>nan</td><td>nan</td><td>3.128094587368104</td><td>522.9739685180042</td><td>3.0582933082632393</td><td>580.3184661013618</td><td>nan</td><td>nan</td><td>8.049655997343157</td><td>897.8553103022626</td><td>6.480679462580261</td><td>750.2970421155383</td><td>nan</td><td>nan</td><td>nan</td><td>nan</td><td>nan</td><td>nan</td><td>nan</td><td>nan</td><td>nan</td><td>nan</td><td>nan</td><td>nan</td><td>nan</td><td>nan</td><td>nan</td><td>nan</td><td>nan</td><td>nan</td><td>nan</td><td>nan</td><td>nan</td><td>nan</td><td>nan</td><td>nan</td><td>nan</td><td>nan</td><td>nan</td><td>1.8447317811605444</td><td>1.8447317811605444</td><td>1.5121143119824727</td><td>1.5121143119824727</td><td>1.4050082976082001</td><td>1.4050082976082001</td><td>3.128094587368104</td><td>3.128094587368104</td><td>8.049655997343157</td><td>8.049655997343157</td><td>nan</td><td>nan</td></tr>\n",
       "<tr><td>4108169</td><td>nan</td><td>nan</td><td>nan</td><td>nan</td><td>2.6209980524331677</td><td>331.3427301789376</td><td>1.2783551504734372</td><td>339.82889433068226</td><td>2.6462422906723178</td><td>496.3742427585723</td><td>3.1518046300314992</td><td>618.8219305750935</td><td>nan</td><td>nan</td><td>1.951958814664047</td><td>466.1622040675248</td><td>1.7830741364236824</td><td>497.8659152850736</td><td>nan</td><td>nan</td><td>3.25729809601566</td><td>536.0424613728751</td><td>3.3468211318459664</td><td>601.8350778133503</td><td>nan</td><td>nan</td><td>9.09534498446947</td><td>980.4638274643762</td><td>7.364804859996513</td><td>944.6427006106127</td><td>nan</td><td>nan</td><td>nan</td><td>nan</td><td>nan</td><td>nan</td><td>nan</td><td>nan</td><td>nan</td><td>nan</td><td>nan</td><td>nan</td><td>nan</td><td>nan</td><td>nan</td><td>nan</td><td>nan</td><td>nan</td><td>nan</td><td>nan</td><td>nan</td><td>nan</td><td>nan</td><td>nan</td><td>nan</td><td>nan</td><td>nan</td><td>2.6209980524331677</td><td>2.6209980524331677</td><td>2.6462422906723178</td><td>2.6462422906723178</td><td>1.951958814664047</td><td>1.951958814664047</td><td>3.25729809601566</td><td>3.25729809601566</td><td>9.09534498446947</td><td>9.09534498446947</td><td>nan</td><td>nan</td></tr>\n",
       "<tr><td>4108170</td><td>nan</td><td>nan</td><td>nan</td><td>nan</td><td>1.935590971447908</td><td>508.32868913701975</td><td>1.7403363861112704</td><td>420.4286182837187</td><td>2.0581212219750453</td><td>383.7025385242386</td><td>1.462780343534219</td><td>206.84392385623036</td><td>nan</td><td>nan</td><td>1.892333892576435</td><td>467.65882883381187</td><td>1.3302521697305363</td><td>230.52320378102092</td><td>nan</td><td>nan</td><td>3.467528697356643</td><td>930.5260777863723</td><td>3.068784066432667</td><td>831.9624908713179</td><td>nan</td><td>nan</td><td>9.216554292143073</td><td>2289.700449095429</td><td>8.379887493561307</td><td>2628.857838086604</td><td>nan</td><td>nan</td><td>nan</td><td>nan</td><td>nan</td><td>nan</td><td>nan</td><td>nan</td><td>nan</td><td>nan</td><td>nan</td><td>nan</td><td>nan</td><td>nan</td><td>nan</td><td>nan</td><td>nan</td><td>nan</td><td>nan</td><td>nan</td><td>nan</td><td>nan</td><td>nan</td><td>nan</td><td>nan</td><td>nan</td><td>nan</td><td>1.935590971447908</td><td>1.935590971447908</td><td>2.0581212219750453</td><td>2.0581212219750453</td><td>1.892333892576435</td><td>1.892333892576435</td><td>3.467528697356643</td><td>3.467528697356643</td><td>9.216554292143073</td><td>9.216554292143073</td><td>nan</td><td>nan</td></tr>\n",
       "<tr><td>4108171</td><td>nan</td><td>nan</td><td>nan</td><td>nan</td><td>1.9478665033862286</td><td>305.9706570018323</td><td>3.0916888067037633</td><td>317.423963011624</td><td>1.874494538534816</td><td>638.1269993313167</td><td>1.3730760495821759</td><td>679.3627337451959</td><td>nan</td><td>nan</td><td>1.506407019875632</td><td>1007.4273859439842</td><td>1.4657285759794902</td><td>1069.0809046080929</td><td>nan</td><td>nan</td><td>3.5929703304621943</td><td>1281.9579754643148</td><td>3.335391166122007</td><td>1353.9390629903887</td><td>nan</td><td>nan</td><td>14.965026858542414</td><td>1618.1510748551018</td><td>8.54603668100154</td><td>1521.2772127930966</td><td>nan</td><td>nan</td><td>nan</td><td>nan</td><td>nan</td><td>nan</td><td>nan</td><td>nan</td><td>nan</td><td>nan</td><td>nan</td><td>nan</td><td>nan</td><td>nan</td><td>nan</td><td>nan</td><td>nan</td><td>nan</td><td>nan</td><td>nan</td><td>nan</td><td>nan</td><td>nan</td><td>nan</td><td>nan</td><td>nan</td><td>nan</td><td>1.9478665033862286</td><td>1.9478665033862286</td><td>1.874494538534816</td><td>1.874494538534816</td><td>1.506407019875632</td><td>1.506407019875632</td><td>3.5929703304621943</td><td>3.5929703304621943</td><td>14.965026858542414</td><td>14.965026858542414</td><td>nan</td><td>nan</td></tr>\n",
       "<tr><td>4108176</td><td>nan</td><td>nan</td><td>nan</td><td>nan</td><td>1.3824198401398302</td><td>310.52211816586953</td><td>1.6388281310014354</td><td>366.26903262608624</td><td>1.2826482042614615</td><td>349.20492071630576</td><td>1.2632284246262695</td><td>373.69364216127065</td><td>nan</td><td>nan</td><td>1.1240870687977345</td><td>408.82547290822225</td><td>1.246032688288238</td><td>436.943096527558</td><td>nan</td><td>nan</td><td>2.0737999536331517</td><td>425.91266389214115</td><td>1.968742112823616</td><td>455.33472542761814</td><td>nan</td><td>nan</td><td>5.1241599287750175</td><td>542.4477015529197</td><td>4.21728605831051</td><td>655.903203726959</td><td>nan</td><td>nan</td><td>nan</td><td>nan</td><td>nan</td><td>nan</td><td>nan</td><td>nan</td><td>nan</td><td>nan</td><td>nan</td><td>nan</td><td>nan</td><td>nan</td><td>nan</td><td>nan</td><td>nan</td><td>nan</td><td>nan</td><td>nan</td><td>nan</td><td>nan</td><td>nan</td><td>nan</td><td>nan</td><td>nan</td><td>nan</td><td>1.3824198401398302</td><td>1.3824198401398302</td><td>1.2826482042614615</td><td>1.2826482042614615</td><td>1.1240870687977345</td><td>1.1240870687977345</td><td>2.0737999536331517</td><td>2.0737999536331517</td><td>5.1241599287750175</td><td>5.1241599287750175</td><td>nan</td><td>nan</td></tr>\n",
       "</table>"
      ],
      "text/plain": [
       "<Table length=2929>\n",
       "hp_idx_O_10 ferr_megacam_u_mean f_megacam_u_p90 ... ferr_j_mean ferr_ks_mean\n",
       "                    uJy               uJy       ...                         \n",
       "   int64          float32           float64     ...   float32     float32   \n",
       "----------- ------------------- --------------- ... ----------- ------------\n",
       "    2619366                 nan             nan ...         nan          nan\n",
       "    2619367                 nan             nan ...         nan          nan\n",
       "    2619368                 nan             nan ...         nan          nan\n",
       "    2619369                 nan             nan ...         nan          nan\n",
       "    2619370                 nan             nan ...         nan          nan\n",
       "    2619371                 nan             nan ...         nan          nan\n",
       "    2619372                 nan             nan ...         nan          nan\n",
       "    2619373                 nan             nan ...         nan          nan\n",
       "    2619374                 nan             nan ...         nan          nan\n",
       "        ...                 ...             ... ...         ...          ...\n",
       "    4108163                 nan             nan ...         nan          nan\n",
       "    4108164                 nan             nan ...         nan          nan\n",
       "    4108165                 nan             nan ...         nan          nan\n",
       "    4108166                 nan             nan ...         nan          nan\n",
       "    4108167                 nan             nan ...         nan          nan\n",
       "    4108168                 nan             nan ...         nan          nan\n",
       "    4108169                 nan             nan ...         nan          nan\n",
       "    4108170                 nan             nan ...         nan          nan\n",
       "    4108171                 nan             nan ...         nan          nan\n",
       "    4108176                 nan             nan ...         nan          nan"
      ]
     },
     "execution_count": 14,
     "metadata": {},
     "output_type": "execute_result"
    }
   ],
   "source": [
    "unique(d_cat,keys='hp_idx_O_10')"
   ]
  },
  {
   "cell_type": "code",
   "execution_count": null,
   "metadata": {},
   "outputs": [],
   "source": []
  }
 ],
 "metadata": {
  "kernelspec": {
   "display_name": "Python (herschelhelp_internal)",
   "language": "python",
   "name": "helpint"
  },
  "language_info": {
   "codemirror_mode": {
    "name": "ipython",
    "version": 3
   },
   "file_extension": ".py",
   "mimetype": "text/x-python",
   "name": "python",
   "nbconvert_exporter": "python",
   "pygments_lexer": "ipython3",
   "version": "3.6.10"
  }
 },
 "nbformat": 4,
 "nbformat_minor": 4
}
