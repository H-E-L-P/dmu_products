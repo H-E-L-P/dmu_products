{
 "cells": [
  {
   "cell_type": "markdown",
   "metadata": {},
   "source": [
    "# Summaise depth maps"
   ]
  },
  {
   "cell_type": "code",
   "execution_count": 1,
   "metadata": {},
   "outputs": [],
   "source": [
    "import yaml\n",
    "from astropy.table import Table\n",
    "import numpy as np\n",
    "import glob"
   ]
  },
  {
   "cell_type": "code",
   "execution_count": 2,
   "metadata": {},
   "outputs": [],
   "source": [
    "meta_files = glob.glob('../*/meta_main.yml')"
   ]
  },
  {
   "cell_type": "code",
   "execution_count": 3,
   "metadata": {},
   "outputs": [],
   "source": [
    "depths  =Table()"
   ]
  },
  {
   "cell_type": "code",
   "execution_count": 4,
   "metadata": {},
   "outputs": [
    {
     "name": "stderr",
     "output_type": "stream",
     "text": [
      "/Users/rs548/miniconda3/envs/herschelhelp_internal/lib/python3.6/site-packages/ipykernel_launcher.py:1: YAMLLoadWarning: calling yaml.load() without Loader=... is deprecated, as the default Loader is unsafe. Please read https://msg.pyyaml.org/load for full details.\n",
      "  \"\"\"Entry point for launching an IPython kernel.\n"
     ]
    }
   ],
   "source": [
    "depths['field'] = [yaml.load(open(y, 'r'))['field'] for y in meta_files]"
   ]
  },
  {
   "cell_type": "code",
   "execution_count": 5,
   "metadata": {},
   "outputs": [],
   "source": [
    "bands = ['u', 'g', 'r', 'i', 'z', 'y', 'j', 'h', 'k', 'ks', \n",
    "         'irac_i1', 'irac_i2', 'irac_i3', 'irac_i4', \n",
    "          'mips_24', 'pacs_green', 'pacs_red', \n",
    "         'spire_250', 'spire_350', 'spire_500']"
   ]
  },
  {
   "cell_type": "code",
   "execution_count": 6,
   "metadata": {},
   "outputs": [],
   "source": [
    "for band in bands:\n",
    "    depths['ferr_{}_mean_median'.format(band)] = np.full(len(depths), np.nan)"
   ]
  },
  {
   "cell_type": "code",
   "execution_count": null,
   "metadata": {},
   "outputs": [],
   "source": []
  },
  {
   "cell_type": "code",
   "execution_count": 7,
   "metadata": {},
   "outputs": [
    {
     "name": "stderr",
     "output_type": "stream",
     "text": [
      "/Users/rs548/miniconda3/envs/herschelhelp_internal/lib/python3.6/site-packages/ipykernel_launcher.py:2: YAMLLoadWarning: calling yaml.load() without Loader=... is deprecated, as the default Loader is unsafe. Please read https://msg.pyyaml.org/load for full details.\n",
      "  \n"
     ]
    },
    {
     "name": "stdout",
     "output_type": "stream",
     "text": [
      "No depth present on COSMOS\n",
      "No depth present on ELAIS-S1\n",
      "No depth present on GAMA-09\n",
      "No depth present on Lockman-SWIRE\n",
      "No depth present on ELAIS-N2\n",
      "No depth present on Herschel-Stripe-82\n",
      "No depth present on SA13\n",
      "No depth present on GAMA-12\n",
      "No depth present on GAMA-15\n",
      "No depth present on AKARI-SEP\n",
      "No depth present on HATLAS-SGP\n",
      "No depth present on xFLS\n",
      "No depth present on CDFS-SWIRE\n",
      "No depth present on SSDF\n",
      "No depth present on XMM-LSS\n",
      "No depth present on SPIRE-NEP\n",
      "h  missing\n",
      "k  missing\n",
      "irac_i3  missing\n",
      "irac_i4  missing\n",
      "No depth present on ELAIS-N1\n",
      "No depth present on HATLAS-NGP\n",
      "No depth present on XMM-13hr\n",
      "No depth present on Bootes\n",
      "No depth present on HDF-N\n",
      "No depth present on EGS\n"
     ]
    }
   ],
   "source": [
    "for y in meta_files:\n",
    "    yml = yaml.load(open(y, 'r'))\n",
    "    try:\n",
    "        depth = Table.read(\n",
    "            \"../dmu32_{}/data/depths_{}_{}.fits\".format(\n",
    "            yml['field'].replace('HATLAS-',''), \n",
    "            yml['field'].lower(), \n",
    "            yml['final'].split('.')[0].split('_')[-1] )\n",
    "        )\n",
    "    except:\n",
    "        print('No depth present on ' + yml['field'])\n",
    "        continue\n",
    "    for band in bands:\n",
    "        try:\n",
    "            depths['ferr_{}_mean_median'.format(band)][\n",
    "                depths['field']==yml['field']\n",
    "            ] = np.nanmedian(depth['ferr_{}_mean'.format(band)])\n",
    "        except:\n",
    "            print(band, ' missing')"
   ]
  },
  {
   "cell_type": "code",
   "execution_count": 8,
   "metadata": {},
   "outputs": [
    {
     "data": {
      "text/plain": [
       "'../dmu32_EGS/data/depths_egs_20180501.fits'"
      ]
     },
     "execution_count": 8,
     "metadata": {},
     "output_type": "execute_result"
    }
   ],
   "source": [
    "\"../dmu32_{}/data/depths_{}_{}.fits\".format(\n",
    "            yml['field'].replace('HATLAS-',''), \n",
    "            yml['field'].lower(), \n",
    "            yml['final'].split('.')[0].split('_')[-1] )"
   ]
  },
  {
   "cell_type": "code",
   "execution_count": 11,
   "metadata": {},
   "outputs": [
    {
     "data": {
      "text/html": [
       "<i>Table length=23</i>\n",
       "<table id=\"table4341638648\" class=\"table-striped table-bordered table-condensed\">\n",
       "<thead><tr><th>field</th><th>ferr_u_mean_median</th><th>ferr_g_mean_median</th><th>ferr_r_mean_median</th><th>ferr_i_mean_median</th><th>ferr_z_mean_median</th><th>ferr_y_mean_median</th><th>ferr_j_mean_median</th><th>ferr_h_mean_median</th><th>ferr_k_mean_median</th><th>ferr_ks_mean_median</th><th>ferr_irac_i1_mean_median</th><th>ferr_irac_i2_mean_median</th><th>ferr_irac_i3_mean_median</th><th>ferr_irac_i4_mean_median</th><th>ferr_mips_24_mean_median</th><th>ferr_pacs_green_mean_median</th><th>ferr_pacs_red_mean_median</th><th>ferr_spire_250_mean_median</th><th>ferr_spire_350_mean_median</th><th>ferr_spire_500_mean_median</th></tr></thead>\n",
       "<thead><tr><th>str18</th><th>float64</th><th>float64</th><th>float64</th><th>float64</th><th>float64</th><th>float64</th><th>float64</th><th>float64</th><th>float64</th><th>float64</th><th>float64</th><th>float64</th><th>float64</th><th>float64</th><th>float64</th><th>float64</th><th>float64</th><th>float64</th><th>float64</th><th>float64</th></tr></thead>\n",
       "<tr><td>COSMOS</td><td>nan</td><td>nan</td><td>nan</td><td>nan</td><td>nan</td><td>nan</td><td>nan</td><td>nan</td><td>nan</td><td>nan</td><td>nan</td><td>nan</td><td>nan</td><td>nan</td><td>nan</td><td>nan</td><td>nan</td><td>nan</td><td>nan</td><td>nan</td></tr>\n",
       "<tr><td>ELAIS-S1</td><td>nan</td><td>nan</td><td>nan</td><td>nan</td><td>nan</td><td>nan</td><td>nan</td><td>nan</td><td>nan</td><td>nan</td><td>nan</td><td>nan</td><td>nan</td><td>nan</td><td>nan</td><td>nan</td><td>nan</td><td>nan</td><td>nan</td><td>nan</td></tr>\n",
       "<tr><td>GAMA-09</td><td>nan</td><td>nan</td><td>nan</td><td>nan</td><td>nan</td><td>nan</td><td>nan</td><td>nan</td><td>nan</td><td>nan</td><td>nan</td><td>nan</td><td>nan</td><td>nan</td><td>nan</td><td>nan</td><td>nan</td><td>nan</td><td>nan</td><td>nan</td></tr>\n",
       "<tr><td>Lockman-SWIRE</td><td>nan</td><td>nan</td><td>nan</td><td>nan</td><td>nan</td><td>nan</td><td>nan</td><td>nan</td><td>nan</td><td>nan</td><td>nan</td><td>nan</td><td>nan</td><td>nan</td><td>nan</td><td>nan</td><td>nan</td><td>nan</td><td>nan</td><td>nan</td></tr>\n",
       "<tr><td>ELAIS-N2</td><td>nan</td><td>nan</td><td>nan</td><td>nan</td><td>nan</td><td>nan</td><td>nan</td><td>nan</td><td>nan</td><td>nan</td><td>nan</td><td>nan</td><td>nan</td><td>nan</td><td>nan</td><td>nan</td><td>nan</td><td>nan</td><td>nan</td><td>nan</td></tr>\n",
       "<tr><td>Herschel-Stripe-82</td><td>nan</td><td>nan</td><td>nan</td><td>nan</td><td>nan</td><td>nan</td><td>nan</td><td>nan</td><td>nan</td><td>nan</td><td>nan</td><td>nan</td><td>nan</td><td>nan</td><td>nan</td><td>nan</td><td>nan</td><td>nan</td><td>nan</td><td>nan</td></tr>\n",
       "<tr><td>SA13</td><td>nan</td><td>nan</td><td>nan</td><td>nan</td><td>nan</td><td>nan</td><td>nan</td><td>nan</td><td>nan</td><td>nan</td><td>nan</td><td>nan</td><td>nan</td><td>nan</td><td>nan</td><td>nan</td><td>nan</td><td>nan</td><td>nan</td><td>nan</td></tr>\n",
       "<tr><td>GAMA-12</td><td>nan</td><td>nan</td><td>nan</td><td>nan</td><td>nan</td><td>nan</td><td>nan</td><td>nan</td><td>nan</td><td>nan</td><td>nan</td><td>nan</td><td>nan</td><td>nan</td><td>nan</td><td>nan</td><td>nan</td><td>nan</td><td>nan</td><td>nan</td></tr>\n",
       "<tr><td>GAMA-15</td><td>nan</td><td>nan</td><td>nan</td><td>nan</td><td>nan</td><td>nan</td><td>nan</td><td>nan</td><td>nan</td><td>nan</td><td>nan</td><td>nan</td><td>nan</td><td>nan</td><td>nan</td><td>nan</td><td>nan</td><td>nan</td><td>nan</td><td>nan</td></tr>\n",
       "<tr><td>AKARI-SEP</td><td>nan</td><td>nan</td><td>nan</td><td>nan</td><td>nan</td><td>nan</td><td>nan</td><td>nan</td><td>nan</td><td>nan</td><td>nan</td><td>nan</td><td>nan</td><td>nan</td><td>nan</td><td>nan</td><td>nan</td><td>nan</td><td>nan</td><td>nan</td></tr>\n",
       "<tr><td>...</td><td>...</td><td>...</td><td>...</td><td>...</td><td>...</td><td>...</td><td>...</td><td>...</td><td>...</td><td>...</td><td>...</td><td>...</td><td>...</td><td>...</td><td>...</td><td>...</td><td>...</td><td>...</td><td>...</td><td>...</td></tr>\n",
       "<tr><td>SSDF</td><td>nan</td><td>nan</td><td>nan</td><td>nan</td><td>nan</td><td>nan</td><td>nan</td><td>nan</td><td>nan</td><td>nan</td><td>nan</td><td>nan</td><td>nan</td><td>nan</td><td>nan</td><td>nan</td><td>nan</td><td>nan</td><td>nan</td><td>nan</td></tr>\n",
       "<tr><td>XMM-LSS</td><td>nan</td><td>nan</td><td>nan</td><td>nan</td><td>nan</td><td>nan</td><td>nan</td><td>nan</td><td>nan</td><td>nan</td><td>nan</td><td>nan</td><td>nan</td><td>nan</td><td>nan</td><td>nan</td><td>nan</td><td>nan</td><td>nan</td><td>nan</td></tr>\n",
       "<tr><td>SPIRE-NEP</td><td>nan</td><td>nan</td><td>nan</td><td>nan</td><td>nan</td><td>nan</td><td>nan</td><td>nan</td><td>nan</td><td>nan</td><td>nan</td><td>nan</td><td>nan</td><td>nan</td><td>nan</td><td>nan</td><td>nan</td><td>nan</td><td>nan</td><td>nan</td></tr>\n",
       "<tr><td>AKARI-NEP</td><td>0.02289699576795101</td><td>1.6874522100531717</td><td>1.679151044169694</td><td>1.4960020491419808</td><td>3.291870180628686</td><td>7.624104250024761</td><td>0.8175007104873657</td><td>nan</td><td>nan</td><td>0.9437398910522461</td><td>2.3798959255218506</td><td>1.9808772802352905</td><td>nan</td><td>nan</td><td>243.60186767578125</td><td>14753.4375</td><td>14529.650390625</td><td>4984.0537109375</td><td>5300.73095703125</td><td>6018.052734375</td></tr>\n",
       "<tr><td>ELAIS-N1</td><td>nan</td><td>nan</td><td>nan</td><td>nan</td><td>nan</td><td>nan</td><td>nan</td><td>nan</td><td>nan</td><td>nan</td><td>nan</td><td>nan</td><td>nan</td><td>nan</td><td>nan</td><td>nan</td><td>nan</td><td>nan</td><td>nan</td><td>nan</td></tr>\n",
       "<tr><td>HATLAS-NGP</td><td>nan</td><td>nan</td><td>nan</td><td>nan</td><td>nan</td><td>nan</td><td>nan</td><td>nan</td><td>nan</td><td>nan</td><td>nan</td><td>nan</td><td>nan</td><td>nan</td><td>nan</td><td>nan</td><td>nan</td><td>nan</td><td>nan</td><td>nan</td></tr>\n",
       "<tr><td>XMM-13hr</td><td>nan</td><td>nan</td><td>nan</td><td>nan</td><td>nan</td><td>nan</td><td>nan</td><td>nan</td><td>nan</td><td>nan</td><td>nan</td><td>nan</td><td>nan</td><td>nan</td><td>nan</td><td>nan</td><td>nan</td><td>nan</td><td>nan</td><td>nan</td></tr>\n",
       "<tr><td>Bootes</td><td>nan</td><td>nan</td><td>nan</td><td>nan</td><td>nan</td><td>nan</td><td>nan</td><td>nan</td><td>nan</td><td>nan</td><td>nan</td><td>nan</td><td>nan</td><td>nan</td><td>nan</td><td>nan</td><td>nan</td><td>nan</td><td>nan</td><td>nan</td></tr>\n",
       "<tr><td>HDF-N</td><td>nan</td><td>nan</td><td>nan</td><td>nan</td><td>nan</td><td>nan</td><td>nan</td><td>nan</td><td>nan</td><td>nan</td><td>nan</td><td>nan</td><td>nan</td><td>nan</td><td>nan</td><td>nan</td><td>nan</td><td>nan</td><td>nan</td><td>nan</td></tr>\n",
       "<tr><td>EGS</td><td>nan</td><td>nan</td><td>nan</td><td>nan</td><td>nan</td><td>nan</td><td>nan</td><td>nan</td><td>nan</td><td>nan</td><td>nan</td><td>nan</td><td>nan</td><td>nan</td><td>nan</td><td>nan</td><td>nan</td><td>nan</td><td>nan</td><td>nan</td></tr>\n",
       "</table>"
      ],
      "text/plain": [
       "<Table length=23>\n",
       "      field         ferr_u_mean_median ... ferr_spire_500_mean_median\n",
       "      str18              float64       ...          float64          \n",
       "------------------ ------------------- ... --------------------------\n",
       "            COSMOS                 nan ...                        nan\n",
       "          ELAIS-S1                 nan ...                        nan\n",
       "           GAMA-09                 nan ...                        nan\n",
       "     Lockman-SWIRE                 nan ...                        nan\n",
       "          ELAIS-N2                 nan ...                        nan\n",
       "Herschel-Stripe-82                 nan ...                        nan\n",
       "              SA13                 nan ...                        nan\n",
       "           GAMA-12                 nan ...                        nan\n",
       "           GAMA-15                 nan ...                        nan\n",
       "         AKARI-SEP                 nan ...                        nan\n",
       "               ...                 ... ...                        ...\n",
       "              SSDF                 nan ...                        nan\n",
       "           XMM-LSS                 nan ...                        nan\n",
       "         SPIRE-NEP                 nan ...                        nan\n",
       "         AKARI-NEP 0.02289699576795101 ...             6018.052734375\n",
       "          ELAIS-N1                 nan ...                        nan\n",
       "        HATLAS-NGP                 nan ...                        nan\n",
       "          XMM-13hr                 nan ...                        nan\n",
       "            Bootes                 nan ...                        nan\n",
       "             HDF-N                 nan ...                        nan\n",
       "               EGS                 nan ...                        nan"
      ]
     },
     "execution_count": 11,
     "metadata": {},
     "output_type": "execute_result"
    }
   ],
   "source": [
    "depths"
   ]
  },
  {
   "cell_type": "code",
   "execution_count": 12,
   "metadata": {},
   "outputs": [],
   "source": [
    "depths.write('dr1_depth_overviews.csv')"
   ]
  },
  {
   "cell_type": "code",
   "execution_count": null,
   "metadata": {},
   "outputs": [],
   "source": []
  }
 ],
 "metadata": {
  "kernelspec": {
   "display_name": "Python (herschelhelp_internal)",
   "language": "python",
   "name": "helpint"
  },
  "language_info": {
   "codemirror_mode": {
    "name": "ipython",
    "version": 3
   },
   "file_extension": ".py",
   "mimetype": "text/x-python",
   "name": "python",
   "nbconvert_exporter": "python",
   "pygments_lexer": "ipython3",
   "version": "3.6.10"
  }
 },
 "nbformat": 4,
 "nbformat_minor": 4
}
