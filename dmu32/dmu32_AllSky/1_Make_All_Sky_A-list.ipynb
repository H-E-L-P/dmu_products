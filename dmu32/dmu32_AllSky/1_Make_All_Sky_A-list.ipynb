{
 "cells": [
  {
   "cell_type": "markdown",
   "metadata": {},
   "source": [
    "# Make the A-list\n",
    "\n",
    "The A-list is the list of objects with all final products XID+ fluxes, redshift, and CIGALE physical properties.\n",
    "\n",
    "Here we will loop over all the final catalogues, take the xid+ objects, and the set of columns present on every field. We will also add new 'best' photometry where for every common band type we take the valeu with the lowest error."
   ]
  },
  {
   "cell_type": "code",
   "execution_count": 1,
   "metadata": {},
   "outputs": [
    {
     "name": "stdout",
     "output_type": "stream",
     "text": [
      "This notebook was run with herschelhelp_internal version: \n",
      "017bb1e (Mon Jun 18 14:58:59 2018 +0100) [with local modifications]\n",
      "This notebook was executed on: \n",
      "2020-11-05 17:25:29.916077\n"
     ]
    }
   ],
   "source": [
    "from herschelhelp_internal import git_version\n",
    "print(\"This notebook was run with herschelhelp_internal version: \\n{}\".format(git_version()))\n",
    "import datetime\n",
    "print(\"This notebook was executed on: \\n{}\".format(datetime.datetime.now()))"
   ]
  },
  {
   "cell_type": "code",
   "execution_count": 2,
   "metadata": {},
   "outputs": [
    {
     "name": "stdout",
     "output_type": "stream",
     "text": [
      "20201105\n"
     ]
    }
   ],
   "source": [
    "from astropy.table import Table, vstack\n",
    "import glob\n",
    "import yaml\n",
    "import os\n",
    "import time\n",
    "import gc\n",
    "import numpy as np\n",
    "from herschelhelp_internal.utils import add_column_meta\n",
    "SUFFIX = os.environ.get('SUFFIX', time.strftime(\"%Y%m%d\"))\n",
    "print(SUFFIX)\n",
    "\n",
    "MAKE_FULL = True"
   ]
  },
  {
   "cell_type": "code",
   "execution_count": 3,
   "metadata": {},
   "outputs": [],
   "source": [
    "bands = ['u', 'g', 'r', 'i', 'z', 'y', 'j', 'h', 'k', 'ks']\n",
    "always_keep = ['irac','mips','pacs','spire', 'best']"
   ]
  },
  {
   "cell_type": "code",
   "execution_count": 4,
   "metadata": {},
   "outputs": [],
   "source": [
    "meta_files = glob.glob('../*/meta_main.yml')"
   ]
  },
  {
   "cell_type": "code",
   "execution_count": 5,
   "metadata": {},
   "outputs": [
    {
     "data": {
      "text/plain": [
       "['../dmu32_SA13/meta_main.yml',\n",
       " '../dmu32_Bootes/meta_main.yml',\n",
       " '../dmu32_xFLS/meta_main.yml',\n",
       " '../dmu32_GAMA-15/meta_main.yml',\n",
       " '../dmu32_GAMA-12/meta_main.yml',\n",
       " '../dmu32_HDF-N/meta_main.yml',\n",
       " '../dmu32_NGP/meta_main.yml',\n",
       " '../dmu32_ELAIS-N2/meta_main.yml',\n",
       " '../dmu32_EGS/meta_main.yml',\n",
       " '../dmu32_COSMOS/meta_main.yml',\n",
       " '../dmu32_SGP/meta_main.yml',\n",
       " '../dmu32_Lockman-SWIRE/meta_main.yml',\n",
       " '../dmu32_XMM-LSS/meta_main.yml',\n",
       " '../dmu32_ELAIS-N1/meta_main.yml',\n",
       " '../dmu32_AKARI-SEP/meta_main.yml',\n",
       " '../dmu32_GAMA-09/meta_main.yml',\n",
       " '../dmu32_AKARI-NEP/meta_main.yml',\n",
       " '../dmu32_ELAIS-S1/meta_main.yml',\n",
       " '../dmu32_XMM-13hr/meta_main.yml',\n",
       " '../dmu32_Herschel-Stripe-82/meta_main.yml',\n",
       " '../dmu32_CDFS-SWIRE/meta_main.yml',\n",
       " '../dmu32_SPIRE-NEP/meta_main.yml',\n",
       " '../dmu32_SSDF/meta_main.yml']"
      ]
     },
     "execution_count": 5,
     "metadata": {},
     "output_type": "execute_result"
    }
   ],
   "source": [
    "meta_files"
   ]
  },
  {
   "cell_type": "code",
   "execution_count": 6,
   "metadata": {},
   "outputs": [],
   "source": [
    "def get_best_flux(table, band):\n",
    "    \"Return the lowest error non nan band \"\n",
    "    #table=table.copy()\n",
    "    f_best = np.full(len(table), np.nan)\n",
    "    ferr_best = np.full(len(table), np.nan)\n",
    "    m_best= np.full(len(table), np.nan)\n",
    "    merr_best= np.full(len(table), np.nan)\n",
    "    flag_best= np.full(len(table), False)\n",
    "    camera = np.full(len(table), 'band_not_available')\n",
    "    \n",
    "    for col in table.colnames:\n",
    "        if (col.startswith('m_') \n",
    "            and (not col.startswith('m_ap'))\n",
    "            and col.endswith('_{}'.format(band))):\n",
    "            #replace all nans\n",
    "            m1 = np.isnan(f_best)\n",
    "            f_best[m1] = table[m1]['f' + col[1:]]\n",
    "            ferr_best[m1] = table[m1]['ferr' + col[1:]]\n",
    "            m_best[m1] = table[m1][col]\n",
    "            merr_best[m1] = table[m1]['merr' + col[1:]]\n",
    "            try:\n",
    "                flag_best[m1] = table[m1]['flag' + col[1:]]\n",
    "            except:\n",
    "                'NO FLAG COL FOR {}'.format(col)\n",
    "            m1= m1 & (~np.isnan(table[col]))\n",
    "            camera[m1] = np.full(np.sum(m1),col[2:])\n",
    "            #replace all with larger flux error\n",
    "            m2 = table['ferr' + col[1:]] < ferr_best\n",
    "            f_best[m2] = table[m2]['f' + col[1:]]\n",
    "            ferr_best[m2] = table[m2]['ferr' + col[1:]]\n",
    "            m_best[m2] = table[m2][col]\n",
    "            merr_best[m2] = table[m2]['merr' + col[1:]]\n",
    "            try:\n",
    "                flag_best[m2] = table[m2]['flag' + col[1:]]\n",
    "            except:\n",
    "                'NO FLAG COL FOR {}'.format(col)\n",
    "            camera[m2] = np.full(np.sum(m2),col.split('_')[-2])\n",
    "    \n",
    "    return f_best, ferr_best, m_best, merr_best, flag_best, camera\n",
    "    \n",
    "def remove_specific_bands(table, bands_to_keep):\n",
    "    \"Return the table with all specific band fluxes removed\"\n",
    "    #table = table.copy()\n",
    "    cols_to_remove = set()\n",
    "    for col in table.colnames:\n",
    "        if col.startswith('m_ap_'):\n",
    "            to_remove=(\n",
    "                col,  \n",
    "                'merr_ap' + col[4:],\n",
    "                'f_ap' + col[4:],\n",
    "                'ferr_ap' + col[4:]\n",
    "            )\n",
    "            cols_to_remove = cols_to_remove.union(set(to_remove))\n",
    "    \n",
    "    \n",
    "    \n",
    "    for col in table.colnames:\n",
    "        if col.startswith('m_') and (col.split('_')[-2] not in bands_to_keep):\n",
    "            #print(col.split('_')[-2])\n",
    "            to_remove =(\n",
    "                col,  \n",
    "                'merr' + col[1:],\n",
    "                'f' + col[1:],\n",
    "                'ferr' + col[1:],\n",
    "                'flag' + col[1:]\n",
    "                )\n",
    "            cols_to_remove = cols_to_remove.union(set(to_remove))\n",
    "            \n",
    "    #print('Removing ',cols_to_remove)\n",
    "    for c in cols_to_remove:\n",
    "        try:\n",
    "            table.remove_column(c)\n",
    "        except:\n",
    "            continue\n",
    "            #print('Column {} cannot be removed it is not there'.format(c))\n",
    "            \n",
    "            \n",
    "            \n",
    "    return table"
   ]
  },
  {
   "cell_type": "code",
   "execution_count": 7,
   "metadata": {},
   "outputs": [
    {
     "name": "stdout",
     "output_type": "stream",
     "text": [
      "../../dmu32/dmu32_SA13/data/SA13_20180501.fits\n"
     ]
    },
    {
     "name": "stderr",
     "output_type": "stream",
     "text": [
      "/opt/pyenv/versions/3.7.2/lib/python3.7/site-packages/astropy/table/column.py:965: RuntimeWarning: invalid value encountered in less\n",
      "  return getattr(self.data, op)(other)\n",
      "/opt/pyenv/versions/3.7.2/lib/python3.7/site-packages/astropy/table/column.py:965: RuntimeWarning: invalid value encountered in greater\n",
      "  return getattr(self.data, op)(other)\n"
     ]
    },
    {
     "name": "stdout",
     "output_type": "stream",
     "text": [
      "../../dmu32/dmu32_Bootes/data/Bootes_20190701.fits\n"
     ]
    },
    {
     "name": "stderr",
     "output_type": "stream",
     "text": [
      "/opt/pyenv/versions/3.7.2/lib/python3.7/site-packages/astropy/table/column.py:965: RuntimeWarning: invalid value encountered in less\n",
      "  return getattr(self.data, op)(other)\n",
      "/opt/pyenv/versions/3.7.2/lib/python3.7/site-packages/astropy/table/column.py:965: RuntimeWarning: invalid value encountered in greater\n",
      "  return getattr(self.data, op)(other)\n",
      "WARNING: MergeConflictWarning: In merged column 'redshift' the 'description' attribute does not match (estimated photo-z value != Photometric redshift obtained with EAZY.).  Using Photometric redshift obtained with EAZY. for merged output [astropy.utils.metadata]\n",
      "WARNING: MergeConflictWarning: In merged column 'f_spire_250' the 'unit' attribute does not match (mJy != uJy).  Using uJy for merged output [astropy.utils.metadata]\n",
      "WARNING: MergeConflictWarning: In merged column 'f_spire_350' the 'unit' attribute does not match (mJy != uJy).  Using uJy for merged output [astropy.utils.metadata]\n",
      "WARNING: MergeConflictWarning: In merged column 'f_spire_500' the 'unit' attribute does not match (mJy != uJy).  Using uJy for merged output [astropy.utils.metadata]\n"
     ]
    },
    {
     "name": "stdout",
     "output_type": "stream",
     "text": [
      "../../dmu32/dmu32_xFLS/data/xFLS_20180501.fits\n"
     ]
    },
    {
     "name": "stderr",
     "output_type": "stream",
     "text": [
      "/opt/pyenv/versions/3.7.2/lib/python3.7/site-packages/astropy/table/column.py:965: RuntimeWarning: invalid value encountered in less\n",
      "  return getattr(self.data, op)(other)\n",
      "/opt/pyenv/versions/3.7.2/lib/python3.7/site-packages/astropy/table/column.py:965: RuntimeWarning: invalid value encountered in greater\n",
      "  return getattr(self.data, op)(other)\n",
      "WARNING: UnitsWarning: 'muJy' did not parse as fits unit: At col 0, Unit 'muJy' not supported by the FITS standard. Did you mean MJy, mJy or uJy? [astropy.units.core]\n",
      "WARNING: MergeConflictWarning: In merged column 'redshift' the 'description' attribute does not match (Photometric redshift obtained with EAZY. != estimated photo-z value).  Using estimated photo-z value for merged output [astropy.utils.metadata]\n",
      "WARNING: MergeConflictWarning: In merged column 'f_spire_250' the 'unit' attribute does not match (uJy != mJy).  Using mJy for merged output [astropy.utils.metadata]\n",
      "WARNING: MergeConflictWarning: In merged column 'f_spire_350' the 'unit' attribute does not match (uJy != mJy).  Using mJy for merged output [astropy.utils.metadata]\n",
      "WARNING: MergeConflictWarning: In merged column 'f_spire_500' the 'unit' attribute does not match (uJy != mJy).  Using mJy for merged output [astropy.utils.metadata]\n",
      "WARNING: MergeConflictWarning: In merged column 'f_mips_24' the 'unit' attribute does not match (uJy != muJy).  Using muJy for merged output [astropy.utils.metadata]\n"
     ]
    },
    {
     "name": "stdout",
     "output_type": "stream",
     "text": [
      "../../dmu32/dmu32_GAMA-15/data/GAMA-15_20180213.fits\n"
     ]
    },
    {
     "name": "stderr",
     "output_type": "stream",
     "text": [
      "/opt/pyenv/versions/3.7.2/lib/python3.7/site-packages/astropy/table/column.py:965: RuntimeWarning: invalid value encountered in less\n",
      "  return getattr(self.data, op)(other)\n",
      "/opt/pyenv/versions/3.7.2/lib/python3.7/site-packages/astropy/table/column.py:965: RuntimeWarning: invalid value encountered in greater\n",
      "  return getattr(self.data, op)(other)\n",
      "WARNING: MergeConflictWarning: In merged column 'redshift' the 'description' attribute does not match (estimated photo-z value != Photometric redshift obtained with EAZY.).  Using Photometric redshift obtained with EAZY. for merged output [astropy.utils.metadata]\n",
      "WARNING: MergeConflictWarning: In merged column 'f_spire_250' the 'unit' attribute does not match (mJy != uJy).  Using uJy for merged output [astropy.utils.metadata]\n",
      "WARNING: MergeConflictWarning: In merged column 'f_spire_350' the 'unit' attribute does not match (mJy != uJy).  Using uJy for merged output [astropy.utils.metadata]\n",
      "WARNING: MergeConflictWarning: In merged column 'f_spire_500' the 'unit' attribute does not match (mJy != uJy).  Using uJy for merged output [astropy.utils.metadata]\n"
     ]
    },
    {
     "name": "stdout",
     "output_type": "stream",
     "text": [
      "../../dmu32/dmu32_GAMA-12/data/GAMA-12_20180218.fits\n"
     ]
    },
    {
     "name": "stderr",
     "output_type": "stream",
     "text": [
      "/opt/pyenv/versions/3.7.2/lib/python3.7/site-packages/astropy/table/column.py:965: RuntimeWarning: invalid value encountered in less\n",
      "  return getattr(self.data, op)(other)\n",
      "/opt/pyenv/versions/3.7.2/lib/python3.7/site-packages/astropy/table/column.py:965: RuntimeWarning: invalid value encountered in greater\n",
      "  return getattr(self.data, op)(other)\n"
     ]
    },
    {
     "name": "stdout",
     "output_type": "stream",
     "text": [
      "../../dmu32/dmu32_HDF-N/data/HDF-N_20180427.fits\n"
     ]
    },
    {
     "name": "stderr",
     "output_type": "stream",
     "text": [
      "/opt/pyenv/versions/3.7.2/lib/python3.7/site-packages/astropy/table/column.py:965: RuntimeWarning: invalid value encountered in less\n",
      "  return getattr(self.data, op)(other)\n",
      "/opt/pyenv/versions/3.7.2/lib/python3.7/site-packages/astropy/table/column.py:965: RuntimeWarning: invalid value encountered in greater\n",
      "  return getattr(self.data, op)(other)\n"
     ]
    },
    {
     "name": "stdout",
     "output_type": "stream",
     "text": [
      "../../dmu32/dmu32_NGP/data/NGP_20180219.fits\n",
      "Field HATLAS-NGP has duplicates... removing them!\n"
     ]
    },
    {
     "name": "stderr",
     "output_type": "stream",
     "text": [
      "/opt/pyenv/versions/3.7.2/lib/python3.7/site-packages/astropy/table/column.py:965: RuntimeWarning: invalid value encountered in less\n",
      "  return getattr(self.data, op)(other)\n",
      "/opt/pyenv/versions/3.7.2/lib/python3.7/site-packages/astropy/table/column.py:965: RuntimeWarning: invalid value encountered in greater\n",
      "  return getattr(self.data, op)(other)\n"
     ]
    },
    {
     "name": "stdout",
     "output_type": "stream",
     "text": [
      "../../dmu32/dmu32_ELAIS-N2/data/ELAIS-N2_20180218.fits\n"
     ]
    },
    {
     "name": "stderr",
     "output_type": "stream",
     "text": [
      "/opt/pyenv/versions/3.7.2/lib/python3.7/site-packages/astropy/table/column.py:965: RuntimeWarning: invalid value encountered in less\n",
      "  return getattr(self.data, op)(other)\n",
      "/opt/pyenv/versions/3.7.2/lib/python3.7/site-packages/astropy/table/column.py:965: RuntimeWarning: invalid value encountered in greater\n",
      "  return getattr(self.data, op)(other)\n",
      "WARNING: MergeConflictWarning: In merged column 'f_mips_24' the 'unit' attribute does not match (muJy != uJy).  Using uJy for merged output [astropy.utils.metadata]\n"
     ]
    },
    {
     "name": "stdout",
     "output_type": "stream",
     "text": [
      "../../dmu32/dmu32_EGS/data/EGS_20180501.fits\n"
     ]
    },
    {
     "name": "stderr",
     "output_type": "stream",
     "text": [
      "/opt/pyenv/versions/3.7.2/lib/python3.7/site-packages/astropy/table/column.py:965: RuntimeWarning: invalid value encountered in less\n",
      "  return getattr(self.data, op)(other)\n",
      "/opt/pyenv/versions/3.7.2/lib/python3.7/site-packages/astropy/table/column.py:965: RuntimeWarning: invalid value encountered in greater\n",
      "  return getattr(self.data, op)(other)\n",
      "WARNING: MergeConflictWarning: In merged column 'f_spire_250' the 'unit' attribute does not match (uJy != mJy).  Using mJy for merged output [astropy.utils.metadata]\n",
      "WARNING: MergeConflictWarning: In merged column 'f_spire_350' the 'unit' attribute does not match (uJy != mJy).  Using mJy for merged output [astropy.utils.metadata]\n",
      "WARNING: MergeConflictWarning: In merged column 'f_spire_500' the 'unit' attribute does not match (uJy != mJy).  Using mJy for merged output [astropy.utils.metadata]\n",
      "WARNING: MergeConflictWarning: In merged column 'f_pacs_green' the 'unit' attribute does not match (uJy != mJy).  Using mJy for merged output [astropy.utils.metadata]\n",
      "WARNING: MergeConflictWarning: In merged column 'f_pacs_red' the 'unit' attribute does not match (uJy != mJy).  Using mJy for merged output [astropy.utils.metadata]\n"
     ]
    },
    {
     "name": "stdout",
     "output_type": "stream",
     "text": [
      "../../dmu32/dmu32_COSMOS/data/COSMOS_20190402.fits\n"
     ]
    },
    {
     "name": "stderr",
     "output_type": "stream",
     "text": [
      "/opt/pyenv/versions/3.7.2/lib/python3.7/site-packages/astropy/table/column.py:965: RuntimeWarning: invalid value encountered in less\n",
      "  return getattr(self.data, op)(other)\n",
      "/opt/pyenv/versions/3.7.2/lib/python3.7/site-packages/astropy/table/column.py:965: RuntimeWarning: invalid value encountered in greater\n",
      "  return getattr(self.data, op)(other)\n",
      "WARNING: MergeConflictWarning: In merged column 'f_spire_250' the 'unit' attribute does not match (mJy != uJy).  Using uJy for merged output [astropy.utils.metadata]\n",
      "WARNING: MergeConflictWarning: In merged column 'f_spire_350' the 'unit' attribute does not match (mJy != uJy).  Using uJy for merged output [astropy.utils.metadata]\n",
      "WARNING: MergeConflictWarning: In merged column 'f_spire_500' the 'unit' attribute does not match (mJy != uJy).  Using uJy for merged output [astropy.utils.metadata]\n",
      "WARNING: MergeConflictWarning: In merged column 'f_pacs_green' the 'unit' attribute does not match (mJy != uJy).  Using uJy for merged output [astropy.utils.metadata]\n",
      "WARNING: MergeConflictWarning: In merged column 'f_pacs_red' the 'unit' attribute does not match (mJy != uJy).  Using uJy for merged output [astropy.utils.metadata]\n"
     ]
    },
    {
     "name": "stdout",
     "output_type": "stream",
     "text": [
      "../../dmu32/dmu32_SGP/data/SGP_20180221.fits\n"
     ]
    },
    {
     "name": "stderr",
     "output_type": "stream",
     "text": [
      "/opt/pyenv/versions/3.7.2/lib/python3.7/site-packages/astropy/table/column.py:965: RuntimeWarning: invalid value encountered in less\n",
      "  return getattr(self.data, op)(other)\n",
      "/opt/pyenv/versions/3.7.2/lib/python3.7/site-packages/astropy/table/column.py:965: RuntimeWarning: invalid value encountered in greater\n",
      "  return getattr(self.data, op)(other)\n",
      "WARNING: MergeConflictWarning: Cannot merge meta key 'EXTNAME' types <class 'str'> and <class 'str'>, choosing EXTNAME='./data/tiles/sgp_20180221_0.fits' [astropy.utils.metadata]\n",
      "WARNING: MergeConflictWarning: Cannot merge meta key 'DATE-HDU' types <class 'str'> and <class 'str'>, choosing DATE-HDU='2020-10-30T12:34:10' [astropy.utils.metadata]\n",
      "WARNING: MergeConflictWarning: Cannot merge meta key 'STILVERS' types <class 'str'> and <class 'str'>, choosing STILVERS='3.4-2' [astropy.utils.metadata]\n"
     ]
    },
    {
     "name": "stdout",
     "output_type": "stream",
     "text": [
      "../../dmu32/dmu32_Lockman-SWIRE/data/Lockman-SWIRE_20180219.fits\n"
     ]
    },
    {
     "name": "stderr",
     "output_type": "stream",
     "text": [
      "/opt/pyenv/versions/3.7.2/lib/python3.7/site-packages/astropy/table/column.py:965: RuntimeWarning: invalid value encountered in less\n",
      "  return getattr(self.data, op)(other)\n",
      "/opt/pyenv/versions/3.7.2/lib/python3.7/site-packages/astropy/table/column.py:965: RuntimeWarning: invalid value encountered in greater\n",
      "  return getattr(self.data, op)(other)\n"
     ]
    },
    {
     "name": "stdout",
     "output_type": "stream",
     "text": [
      "../../dmu32/dmu32_XMM-LSS/data/XMM-LSS_20190328.fits\n"
     ]
    },
    {
     "name": "stderr",
     "output_type": "stream",
     "text": [
      "/opt/pyenv/versions/3.7.2/lib/python3.7/site-packages/astropy/table/column.py:965: RuntimeWarning: invalid value encountered in less\n",
      "  return getattr(self.data, op)(other)\n",
      "/opt/pyenv/versions/3.7.2/lib/python3.7/site-packages/astropy/table/column.py:965: RuntimeWarning: invalid value encountered in greater\n",
      "  return getattr(self.data, op)(other)\n",
      "WARNING: MergeConflictWarning: Cannot merge meta key 'EXTNAME' types <class 'str'> and <class 'str'>, choosing EXTNAME='./data/tiles/xmm-lss_20190328_0.fits' [astropy.utils.metadata]\n",
      "WARNING: MergeConflictWarning: Cannot merge meta key 'DATE-HDU' types <class 'str'> and <class 'str'>, choosing DATE-HDU='2020-10-30T12:48:52' [astropy.utils.metadata]\n"
     ]
    },
    {
     "name": "stdout",
     "output_type": "stream",
     "text": [
      "../../dmu32/dmu32_ELAIS-N1/data/ELAIS-N1_20171016.fits\n"
     ]
    },
    {
     "name": "stderr",
     "output_type": "stream",
     "text": [
      "/opt/pyenv/versions/3.7.2/lib/python3.7/site-packages/astropy/table/column.py:965: RuntimeWarning: invalid value encountered in less\n",
      "  return getattr(self.data, op)(other)\n",
      "/opt/pyenv/versions/3.7.2/lib/python3.7/site-packages/astropy/table/column.py:965: RuntimeWarning: invalid value encountered in greater\n",
      "  return getattr(self.data, op)(other)\n"
     ]
    },
    {
     "name": "stdout",
     "output_type": "stream",
     "text": [
      "../../dmu32/dmu32_AKARI-SEP/data/AKARI-SEP_20180221.fits\n"
     ]
    },
    {
     "name": "stderr",
     "output_type": "stream",
     "text": [
      "/opt/pyenv/versions/3.7.2/lib/python3.7/site-packages/astropy/table/column.py:965: RuntimeWarning: invalid value encountered in less\n",
      "  return getattr(self.data, op)(other)\n",
      "/opt/pyenv/versions/3.7.2/lib/python3.7/site-packages/astropy/table/column.py:965: RuntimeWarning: invalid value encountered in greater\n",
      "  return getattr(self.data, op)(other)\n"
     ]
    },
    {
     "name": "stdout",
     "output_type": "stream",
     "text": [
      "../../dmu32/dmu32_GAMA-09/data/GAMA-09_20180601.fits\n"
     ]
    },
    {
     "name": "stderr",
     "output_type": "stream",
     "text": [
      "/opt/pyenv/versions/3.7.2/lib/python3.7/site-packages/astropy/table/column.py:965: RuntimeWarning: invalid value encountered in less\n",
      "  return getattr(self.data, op)(other)\n",
      "/opt/pyenv/versions/3.7.2/lib/python3.7/site-packages/astropy/table/column.py:965: RuntimeWarning: invalid value encountered in greater\n",
      "  return getattr(self.data, op)(other)\n"
     ]
    },
    {
     "name": "stdout",
     "output_type": "stream",
     "text": [
      "../../dmu32/dmu32_AKARI-NEP/data/AKARI-NEP_20180215.fits\n"
     ]
    },
    {
     "name": "stderr",
     "output_type": "stream",
     "text": [
      "/opt/pyenv/versions/3.7.2/lib/python3.7/site-packages/astropy/table/column.py:965: RuntimeWarning: invalid value encountered in less\n",
      "  return getattr(self.data, op)(other)\n",
      "/opt/pyenv/versions/3.7.2/lib/python3.7/site-packages/astropy/table/column.py:965: RuntimeWarning: invalid value encountered in greater\n",
      "  return getattr(self.data, op)(other)\n"
     ]
    },
    {
     "name": "stdout",
     "output_type": "stream",
     "text": [
      "../../dmu32/dmu32_ELAIS-S1/data/ELAIS-S1_20180416.fits\n"
     ]
    },
    {
     "name": "stderr",
     "output_type": "stream",
     "text": [
      "/opt/pyenv/versions/3.7.2/lib/python3.7/site-packages/astropy/table/column.py:965: RuntimeWarning: invalid value encountered in less\n",
      "  return getattr(self.data, op)(other)\n",
      "/opt/pyenv/versions/3.7.2/lib/python3.7/site-packages/astropy/table/column.py:965: RuntimeWarning: invalid value encountered in greater\n",
      "  return getattr(self.data, op)(other)\n"
     ]
    },
    {
     "name": "stdout",
     "output_type": "stream",
     "text": [
      "../../dmu32/dmu32_XMM-13hr/data/XMM-13hr_20180501.fits\n"
     ]
    },
    {
     "name": "stderr",
     "output_type": "stream",
     "text": [
      "/opt/pyenv/versions/3.7.2/lib/python3.7/site-packages/astropy/table/column.py:965: RuntimeWarning: invalid value encountered in less\n",
      "  return getattr(self.data, op)(other)\n",
      "/opt/pyenv/versions/3.7.2/lib/python3.7/site-packages/astropy/table/column.py:965: RuntimeWarning: invalid value encountered in greater\n",
      "  return getattr(self.data, op)(other)\n",
      "WARNING: MergeConflictWarning: In merged column 'redshift' the 'description' attribute does not match (Photometric redshift obtained with EAZY. != estimated photo-z value).  Using estimated photo-z value for merged output [astropy.utils.metadata]\n",
      "WARNING: MergeConflictWarning: In merged column 'f_spire_250' the 'unit' attribute does not match (uJy != mJy).  Using mJy for merged output [astropy.utils.metadata]\n",
      "WARNING: MergeConflictWarning: In merged column 'f_spire_350' the 'unit' attribute does not match (uJy != mJy).  Using mJy for merged output [astropy.utils.metadata]\n",
      "WARNING: MergeConflictWarning: In merged column 'f_spire_500' the 'unit' attribute does not match (uJy != mJy).  Using mJy for merged output [astropy.utils.metadata]\n"
     ]
    },
    {
     "name": "stdout",
     "output_type": "stream",
     "text": [
      "../../dmu32/dmu32_Herschel-Stripe-82/data/Herschel-Stripe-82_20180307.fits\n"
     ]
    },
    {
     "name": "stderr",
     "output_type": "stream",
     "text": [
      "/opt/pyenv/versions/3.7.2/lib/python3.7/site-packages/astropy/table/column.py:965: RuntimeWarning: invalid value encountered in less\n",
      "  return getattr(self.data, op)(other)\n",
      "/opt/pyenv/versions/3.7.2/lib/python3.7/site-packages/astropy/table/column.py:965: RuntimeWarning: invalid value encountered in greater\n",
      "  return getattr(self.data, op)(other)\n",
      "WARNING: MergeConflictWarning: In merged column 'f_spire_250' the 'unit' attribute does not match (mJy != uJy).  Using uJy for merged output [astropy.utils.metadata]\n",
      "WARNING: MergeConflictWarning: In merged column 'f_spire_350' the 'unit' attribute does not match (mJy != uJy).  Using uJy for merged output [astropy.utils.metadata]\n",
      "WARNING: MergeConflictWarning: In merged column 'f_spire_500' the 'unit' attribute does not match (mJy != uJy).  Using uJy for merged output [astropy.utils.metadata]\n",
      "WARNING: MergeConflictWarning: Cannot merge meta key 'EXTNAME' types <class 'str'> and <class 'str'>, choosing EXTNAME='./data/tiles/Herschel-Stripe-82_20180307_0.fits' [astropy.utils.metadata]\n",
      "WARNING: MergeConflictWarning: Cannot merge meta key 'DATE-HDU' types <class 'str'> and <class 'str'>, choosing DATE-HDU='2020-10-30T11:52:53' [astropy.utils.metadata]\n"
     ]
    },
    {
     "name": "stdout",
     "output_type": "stream",
     "text": [
      "../../dmu32/dmu32_CDFS-SWIRE/data/CDFS-SWIRE_20180613.fits\n"
     ]
    },
    {
     "name": "stderr",
     "output_type": "stream",
     "text": [
      "/opt/pyenv/versions/3.7.2/lib/python3.7/site-packages/astropy/table/column.py:965: RuntimeWarning: invalid value encountered in less\n",
      "  return getattr(self.data, op)(other)\n",
      "/opt/pyenv/versions/3.7.2/lib/python3.7/site-packages/astropy/table/column.py:965: RuntimeWarning: invalid value encountered in greater\n",
      "  return getattr(self.data, op)(other)\n",
      "WARNING: MergeConflictWarning: In merged column 'redshift' the 'description' attribute does not match (estimated photo-z value != Photometric redshift obtained with EAZY.).  Using Photometric redshift obtained with EAZY. for merged output [astropy.utils.metadata]\n"
     ]
    },
    {
     "name": "stdout",
     "output_type": "stream",
     "text": [
      "../../dmu32/dmu32_SPIRE-NEP/data/SPIRE-NEP_20180220.fits\n"
     ]
    },
    {
     "name": "stderr",
     "output_type": "stream",
     "text": [
      "/opt/pyenv/versions/3.7.2/lib/python3.7/site-packages/astropy/table/column.py:965: RuntimeWarning: invalid value encountered in less\n",
      "  return getattr(self.data, op)(other)\n",
      "/opt/pyenv/versions/3.7.2/lib/python3.7/site-packages/astropy/table/column.py:965: RuntimeWarning: invalid value encountered in greater\n",
      "  return getattr(self.data, op)(other)\n",
      "WARNING: UnitsWarning: 'muJy' did not parse as fits unit: At col 0, Unit 'muJy' not supported by the FITS standard. Did you mean MJy, mJy or uJy? [astropy.units.core]\n",
      "WARNING: MergeConflictWarning: In merged column 'f_spire_250' the 'unit' attribute does not match (uJy != mJy).  Using mJy for merged output [astropy.utils.metadata]\n",
      "WARNING: MergeConflictWarning: In merged column 'f_spire_350' the 'unit' attribute does not match (uJy != mJy).  Using mJy for merged output [astropy.utils.metadata]\n",
      "WARNING: MergeConflictWarning: In merged column 'f_spire_500' the 'unit' attribute does not match (uJy != mJy).  Using mJy for merged output [astropy.utils.metadata]\n",
      "WARNING: MergeConflictWarning: In merged column 'f_mips_24' the 'unit' attribute does not match (uJy != muJy).  Using muJy for merged output [astropy.utils.metadata]\n"
     ]
    },
    {
     "name": "stdout",
     "output_type": "stream",
     "text": [
      "../../dmu32/dmu32_SSDF/data/SSDF_20180221.fits\n"
     ]
    },
    {
     "name": "stderr",
     "output_type": "stream",
     "text": [
      "/opt/pyenv/versions/3.7.2/lib/python3.7/site-packages/astropy/table/column.py:965: RuntimeWarning: invalid value encountered in less\n",
      "  return getattr(self.data, op)(other)\n",
      "/opt/pyenv/versions/3.7.2/lib/python3.7/site-packages/astropy/table/column.py:965: RuntimeWarning: invalid value encountered in greater\n",
      "  return getattr(self.data, op)(other)\n",
      "WARNING: MergeConflictWarning: In merged column 'f_spire_250' the 'unit' attribute does not match (mJy != uJy).  Using uJy for merged output [astropy.utils.metadata]\n",
      "WARNING: MergeConflictWarning: In merged column 'f_spire_350' the 'unit' attribute does not match (mJy != uJy).  Using uJy for merged output [astropy.utils.metadata]\n",
      "WARNING: MergeConflictWarning: In merged column 'f_spire_500' the 'unit' attribute does not match (mJy != uJy).  Using uJy for merged output [astropy.utils.metadata]\n"
     ]
    }
   ],
   "source": [
    "full_cat = Table()\n",
    "full_sources = Table()\n",
    "for meta_file in meta_files: #meta_files[16:17]:\n",
    "    meta = yaml.safe_load(open(meta_file, 'r'))\n",
    "    final_cat_loc = meta['final'].replace('dmu_products', '../..')\n",
    "    #final_cat_loc = final_cat_loc.replace('_cigale','')\n",
    "    #print(final_cat_loc)\n",
    "    try:\n",
    "        final_cat = Table.read(final_cat_loc)\n",
    "        print(final_cat_loc)\n",
    "    except:\n",
    "        continue\n",
    "        \n",
    "    if not MAKE_FULL:\n",
    "        final_cat = final_cat[final_cat['f_spire_500']>0]\n",
    "        \n",
    "    #remove duplicates - this problem will be fixed upstream in dmu2 merging but this is a quick hack\n",
    "    final_cat.sort('help_id')\n",
    "    is_duplicate = final_cat['help_id'][1:] == final_cat['help_id'][:-1]\n",
    "    if np.sum(is_duplicate)>0:\n",
    "        print('Field {} has duplicates... removing them!'.format(meta['field']))\n",
    "    final_cat = final_cat[~np.append(is_duplicate,False)]\n",
    "    \n",
    "    sources = Table()\n",
    "    sources['help_id'] = final_cat['help_id']\n",
    "    \n",
    "    for band in bands:\n",
    "        f_best, ferr_best, m_best, merr_best, flag_best, camera = get_best_flux(final_cat, band)\n",
    "        final_cat['f_best_{}'.format(band)] = f_best\n",
    "        final_cat['ferr_best_{}'.format(band)] = ferr_best\n",
    "        final_cat['m_best_{}'.format(band)] = m_best\n",
    "        final_cat['merr_best_{}'.format(band)] = merr_best\n",
    "        final_cat['flag_best_{}'.format(band)] = flag_best\n",
    "        sources['best_{}'.format(band)] = camera\n",
    "    \n",
    "    \n",
    "    final_cat = remove_specific_bands(final_cat,always_keep)\n",
    "    \n",
    "    if MAKE_FULL:\n",
    "        m=final_cat['f_spire_500'] > 0.\n",
    "        final_cat.write('./data/{}_best_phot_{}.fits'.format(meta['field'],SUFFIX), overwrite=True)\n",
    "        final_cat = final_cat[m]\n",
    "        sources.write('./data/{}_best_phot_sources_{}.fits'.format(meta['field'],SUFFIX), overwrite=True) \n",
    "        sources= sources[m]\n",
    "    \n",
    "    full_cat = vstack([full_cat,final_cat])                                           \n",
    "    full_sources = vstack([full_sources,sources])\n",
    "    \n",
    " \n",
    "    del final_cat\n",
    "    del sources\n",
    "    gc.collect()\n",
    "    time.sleep(10)"
   ]
  },
  {
   "cell_type": "code",
   "execution_count": 8,
   "metadata": {},
   "outputs": [
    {
     "name": "stdout",
     "output_type": "stream",
     "text": [
      "Column old_help_id has missing data\n"
     ]
    }
   ],
   "source": [
    "full_cat = full_cat.filled()\n",
    "full_cat = add_column_meta(full_cat, 'columns.yml')"
   ]
  },
  {
   "cell_type": "code",
   "execution_count": 9,
   "metadata": {},
   "outputs": [
    {
     "data": {
      "text/html": [
       "<i>Table length=5</i>\n",
       "<table id=\"table139641391374576\" class=\"table-striped table-bordered table-condensed\">\n",
       "<thead><tr><th>help_id</th><th>field</th><th>ra</th><th>dec</th><th>hp_idx</th><th>ebv</th><th>redshift</th><th>zspec</th><th>f_spire_250</th><th>ferr_spire_250</th><th>flag_spire_250</th><th>f_spire_350</th><th>ferr_spire_350</th><th>flag_spire_350</th><th>f_spire_500</th><th>ferr_spire_500</th><th>flag_spire_500</th><th>cigale_mstar</th><th>cigale_mstar_err</th><th>cigale_sfr</th><th>cigale_sfr_err</th><th>cigale_dustlumin</th><th>cigale_dustlumin_err</th><th>cigale_dustlumin_ironly</th><th>cigale_dustlumin_ironly_err</th><th>cigale_chi2_opt</th><th>cigale_chi2_ir</th><th>cigale_chi2_red</th><th>cigale_chi2_ironly</th><th>stellarity</th><th>stellarity_origin</th><th>flag_cleaned</th><th>flag_merged</th><th>flag_gaia</th><th>flag_optnir_obs</th><th>flag_optnir_det</th><th>zspec_qual</th><th>zspec_association_flag</th><th>f_best_u</th><th>ferr_best_u</th><th>m_best_u</th><th>merr_best_u</th><th>flag_best_u</th><th>f_best_g</th><th>ferr_best_g</th><th>m_best_g</th><th>merr_best_g</th><th>flag_best_g</th><th>f_best_r</th><th>ferr_best_r</th><th>m_best_r</th><th>merr_best_r</th><th>flag_best_r</th><th>f_best_i</th><th>ferr_best_i</th><th>m_best_i</th><th>merr_best_i</th><th>flag_best_i</th><th>f_best_z</th><th>ferr_best_z</th><th>m_best_z</th><th>merr_best_z</th><th>flag_best_z</th><th>f_best_y</th><th>ferr_best_y</th><th>m_best_y</th><th>merr_best_y</th><th>flag_best_y</th><th>f_best_j</th><th>ferr_best_j</th><th>m_best_j</th><th>merr_best_j</th><th>flag_best_j</th><th>f_best_h</th><th>ferr_best_h</th><th>m_best_h</th><th>merr_best_h</th><th>flag_best_h</th><th>f_best_k</th><th>ferr_best_k</th><th>m_best_k</th><th>merr_best_k</th><th>flag_best_k</th><th>f_best_ks</th><th>ferr_best_ks</th><th>m_best_ks</th><th>merr_best_ks</th><th>flag_best_ks</th><th>f_irac_i1</th><th>ferr_irac_i1</th><th>m_irac_i1</th><th>merr_irac_i1</th><th>f_irac_i2</th><th>ferr_irac_i2</th><th>m_irac_i2</th><th>merr_irac_i2</th><th>f_irac_i3</th><th>ferr_irac_i3</th><th>m_irac_i3</th><th>merr_irac_i3</th><th>f_irac_i4</th><th>ferr_irac_i4</th><th>m_irac_i4</th><th>merr_irac_i4</th><th>f_mips_24</th><th>ferr_mips_24</th><th>flag_mips_24</th><th>f_pacs_green</th><th>ferr_pacs_green</th><th>flag_pacs_green</th><th>f_pacs_red</th><th>ferr_pacs_red</th><th>flag_pacs_red</th><th>flag_irac_i1</th><th>flag_irac_i2</th><th>flag_irac_i3</th><th>flag_irac_i4</th><th>old_help_id</th></tr></thead>\n",
       "<thead><tr><th></th><th></th><th>deg</th><th>deg</th><th></th><th></th><th></th><th></th><th>uJy</th><th>uJy</th><th></th><th>uJy</th><th>uJy</th><th></th><th>uJy</th><th>uJy</th><th></th><th>solMass</th><th>solMass</th><th>solMass / yr</th><th>solMass / yr</th><th>W</th><th>W</th><th>W</th><th>W</th><th></th><th></th><th></th><th></th><th></th><th></th><th></th><th></th><th></th><th></th><th></th><th></th><th></th><th>uJy</th><th>uJy</th><th>mag</th><th>mag</th><th></th><th>uJy</th><th>uJy</th><th>mag</th><th>mag</th><th></th><th>uJy</th><th>uJy</th><th>mag</th><th>mag</th><th></th><th>uJy</th><th>uJy</th><th>mag</th><th>mag</th><th></th><th>uJy</th><th>uJy</th><th>mag</th><th>mag</th><th></th><th>uJy</th><th>uJy</th><th>mag</th><th>mag</th><th></th><th>uJy</th><th>uJy</th><th>mag</th><th>mag</th><th></th><th>uJy</th><th>uJy</th><th>mag</th><th>mag</th><th></th><th>uJy</th><th>uJy</th><th>mag</th><th>mag</th><th></th><th>uJy</th><th>uJy</th><th>mag</th><th>mag</th><th></th><th>uJy</th><th>uJy</th><th>mag</th><th>mag</th><th>uJy</th><th>uJy</th><th>mag</th><th>mag</th><th>uJy</th><th>uJy</th><th>mag</th><th>mag</th><th>uJy</th><th>uJy</th><th>mag</th><th>mag</th><th>uJy</th><th>uJy</th><th></th><th>uJy</th><th>uJy</th><th></th><th>uJy</th><th>uJy</th><th></th><th></th><th></th><th></th><th></th><th></th></tr></thead>\n",
       "<thead><tr><th>bytes33</th><th>bytes18</th><th>float64</th><th>float64</th><th>int64</th><th>float64</th><th>float64</th><th>float64</th><th>float64</th><th>float64</th><th>bool</th><th>float64</th><th>float64</th><th>bool</th><th>float64</th><th>float64</th><th>bool</th><th>float64</th><th>float64</th><th>float64</th><th>float64</th><th>float64</th><th>float64</th><th>float64</th><th>float64</th><th>float64</th><th>float64</th><th>float64</th><th>float64</th><th>float64</th><th>bytes20</th><th>bool</th><th>bool</th><th>int64</th><th>int64</th><th>int64</th><th>int64</th><th>bool</th><th>float64</th><th>float64</th><th>float64</th><th>float64</th><th>bool</th><th>float64</th><th>float64</th><th>float64</th><th>float64</th><th>bool</th><th>float64</th><th>float64</th><th>float64</th><th>float64</th><th>bool</th><th>float64</th><th>float64</th><th>float64</th><th>float64</th><th>bool</th><th>float64</th><th>float64</th><th>float64</th><th>float64</th><th>bool</th><th>float64</th><th>float64</th><th>float64</th><th>float64</th><th>bool</th><th>float64</th><th>float64</th><th>float64</th><th>float64</th><th>bool</th><th>float64</th><th>float64</th><th>float64</th><th>float64</th><th>bool</th><th>float64</th><th>float64</th><th>float64</th><th>float64</th><th>bool</th><th>float64</th><th>float64</th><th>float64</th><th>float64</th><th>bool</th><th>float64</th><th>float64</th><th>float64</th><th>float64</th><th>float64</th><th>float64</th><th>float64</th><th>float64</th><th>float64</th><th>float64</th><th>float64</th><th>float64</th><th>float64</th><th>float64</th><th>float64</th><th>float64</th><th>float64</th><th>float64</th><th>bool</th><th>float64</th><th>float64</th><th>bool</th><th>float64</th><th>float64</th><th>bool</th><th>bool</th><th>bool</th><th>bool</th><th>bool</th><th>bytes27</th></tr></thead>\n",
       "<tr><td>HELP_J235959.991-572600.759</td><td>SSDF</td><td>359.99996065287047</td><td>-57.4335442131269</td><td>756110660</td><td>0.011629759520262972</td><td>0.1883</td><td>nan</td><td>2415.7939453125</td><td>3492.63330078125</td><td>True</td><td>4109.18359375</td><td>4760.20703125</td><td>True</td><td>5863.16796875</td><td>7108.9755859375</td><td>True</td><td>nan</td><td>nan</td><td>nan</td><td>nan</td><td>nan</td><td>nan</td><td>nan</td><td>nan</td><td>nan</td><td>nan</td><td>nan</td><td>nan</td><td>0.06470298767089844</td><td>des_stellarity</td><td>False</td><td>False</td><td>0</td><td>7</td><td>5</td><td>-99</td><td>False</td><td>nan</td><td>nan</td><td>nan</td><td>nan</td><td>False</td><td>32.99696290274807</td><td>0.4018202315537077</td><td>20.10381507873535</td><td>0.013221543282270432</td><td>False</td><td>114.09133319331883</td><td>0.5833148505822463</td><td>18.756868362426758</td><td>0.00555104436352849</td><td>False</td><td>171.737731773923</td><td>0.9955295632196581</td><td>18.312835693359375</td><td>0.0062937973998487</td><td>False</td><td>219.0555188603023</td><td>1.8208271095337143</td><td>18.048614501953125</td><td>0.009024825878441334</td><td>False</td><td>249.55869099850693</td><td>5.9419066181059055</td><td>17.907068252563477</td><td>0.02585100568830967</td><td>False</td><td>nan</td><td>nan</td><td>nan</td><td>nan</td><td>False</td><td>nan</td><td>nan</td><td>nan</td><td>nan</td><td>False</td><td>nan</td><td>nan</td><td>nan</td><td>nan</td><td>False</td><td>nan</td><td>nan</td><td>nan</td><td>nan</td><td>False</td><td>291.4200134277344</td><td>8.739999771118164</td><td>17.73870086669922</td><td>0.03256239369511604</td><td>213.88999938964844</td><td>6.420000076293945</td><td>18.07452392578125</td><td>0.032588835805654526</td><td>1e+20</td><td>1e+20</td><td>1e+20</td><td>1e+20</td><td>1e+20</td><td>1e+20</td><td>1e+20</td><td>1e+20</td><td>1e+20</td><td>1e+20</td><td>True</td><td>1e+20</td><td>1e+20</td><td>True</td><td>1e+20</td><td>1e+20</td><td>True</td><td>False</td><td>False</td><td>True</td><td>True</td><td>N/A</td></tr>\n",
       "<tr><td>HELP_J235959.993-571303.407</td><td>SSDF</td><td>359.99997079239654</td><td>-57.217613000720895</td><td>756285780</td><td>0.013104888166929295</td><td>0.916</td><td>nan</td><td>3221.186279296875</td><td>3619.668701171875</td><td>True</td><td>7596.54736328125</td><td>6319.90380859375</td><td>True</td><td>3466.42529296875</td><td>5303.49755859375</td><td>True</td><td>nan</td><td>nan</td><td>nan</td><td>nan</td><td>nan</td><td>nan</td><td>nan</td><td>nan</td><td>nan</td><td>nan</td><td>nan</td><td>nan</td><td>0.35772404074668884</td><td>des_stellarity</td><td>False</td><td>False</td><td>0</td><td>7</td><td>1</td><td>-99</td><td>False</td><td>nan</td><td>nan</td><td>nan</td><td>nan</td><td>False</td><td>0.07922242171271658</td><td>0.07788131573347976</td><td>26.65287971496582</td><td>1.0673564672470093</td><td>False</td><td>0.45696294159953105</td><td>0.1135371595987779</td><td>24.75029754638672</td><td>0.2697623670101166</td><td>False</td><td>0.9944836702263861</td><td>0.2089480189346204</td><td>23.906005859375</td><td>0.228120818734169</td><td>False</td><td>2.623100936186271</td><td>0.39825814612005855</td><td>22.852962493896484</td><td>0.1648443192243576</td><td>False</td><td>2.7925736683806575</td><td>1.036004045852458</td><td>22.784988403320312</td><td>0.4027922749519348</td><td>False</td><td>nan</td><td>nan</td><td>nan</td><td>nan</td><td>False</td><td>nan</td><td>nan</td><td>nan</td><td>nan</td><td>False</td><td>nan</td><td>nan</td><td>nan</td><td>nan</td><td>False</td><td>nan</td><td>nan</td><td>nan</td><td>nan</td><td>False</td><td>nan</td><td>nan</td><td>nan</td><td>nan</td><td>nan</td><td>nan</td><td>nan</td><td>nan</td><td>1e+20</td><td>1e+20</td><td>1e+20</td><td>1e+20</td><td>1e+20</td><td>1e+20</td><td>1e+20</td><td>1e+20</td><td>1e+20</td><td>1e+20</td><td>True</td><td>1e+20</td><td>1e+20</td><td>True</td><td>1e+20</td><td>1e+20</td><td>True</td><td>False</td><td>False</td><td>True</td><td>True</td><td>N/A</td></tr>\n",
       "<tr><td>HELP_J235959.997-533232.240</td><td>SSDF</td><td>359.9999867923965</td><td>-53.5422890007209</td><td>759185424</td><td>0.010108928173287915</td><td>0.7672</td><td>nan</td><td>3567.307861328125</td><td>3526.313720703125</td><td>True</td><td>3584.368896484375</td><td>3375.712158203125</td><td>True</td><td>9088.1337890625</td><td>6218.8857421875</td><td>True</td><td>nan</td><td>nan</td><td>nan</td><td>nan</td><td>nan</td><td>nan</td><td>nan</td><td>nan</td><td>nan</td><td>nan</td><td>nan</td><td>nan</td><td>0.3733665943145752</td><td>des_stellarity</td><td>False</td><td>False</td><td>0</td><td>7</td><td>1</td><td>-99</td><td>False</td><td>nan</td><td>nan</td><td>nan</td><td>nan</td><td>False</td><td>0.31076041281699884</td><td>0.14703489508051906</td><td>25.168935775756836</td><td>0.5137112140655518</td><td>False</td><td>0.8344065720343321</td><td>0.18298369660544297</td><td>24.096555709838867</td><td>0.23809978365898132</td><td>False</td><td>0.9486830130878896</td><td>0.34709867200456856</td><td>23.957197189331055</td><td>0.3972429037094116</td><td>False</td><td>1.5483198700502074</td><td>0.6649136723043364</td><td>23.42534828186035</td><td>0.46626079082489014</td><td>False</td><td>nan</td><td>nan</td><td>nan</td><td>nan</td><td>False</td><td>nan</td><td>nan</td><td>nan</td><td>nan</td><td>False</td><td>nan</td><td>nan</td><td>nan</td><td>nan</td><td>False</td><td>nan</td><td>nan</td><td>nan</td><td>nan</td><td>False</td><td>nan</td><td>nan</td><td>nan</td><td>nan</td><td>False</td><td>nan</td><td>nan</td><td>nan</td><td>nan</td><td>nan</td><td>nan</td><td>nan</td><td>nan</td><td>1e+20</td><td>1e+20</td><td>1e+20</td><td>1e+20</td><td>1e+20</td><td>1e+20</td><td>1e+20</td><td>1e+20</td><td>1e+20</td><td>1e+20</td><td>True</td><td>1e+20</td><td>1e+20</td><td>True</td><td>1e+20</td><td>1e+20</td><td>True</td><td>False</td><td>False</td><td>True</td><td>True</td><td>N/A</td></tr>\n",
       "<tr><td>HELP_J235959.997-592503.342</td><td>SSDF</td><td>359.9999867923965</td><td>-59.4175950007209</td><td>756040773</td><td>0.011695562146287341</td><td>0.8339</td><td>nan</td><td>2715.848876953125</td><td>3287.192138671875</td><td>True</td><td>4701.98828125</td><td>4463.92578125</td><td>True</td><td>4061.3583984375</td><td>5344.115234375</td><td>True</td><td>nan</td><td>nan</td><td>nan</td><td>nan</td><td>nan</td><td>nan</td><td>nan</td><td>nan</td><td>nan</td><td>nan</td><td>nan</td><td>nan</td><td>0.40042644739151</td><td>des_stellarity</td><td>False</td><td>False</td><td>0</td><td>7</td><td>1</td><td>-99</td><td>False</td><td>nan</td><td>nan</td><td>nan</td><td>nan</td><td>False</td><td>0.7630182799004364</td><td>0.14868892278206358</td><td>24.193662643432617</td><td>0.21157677471637726</td><td>False</td><td>1.0858594633363232</td><td>0.2192987285586199</td><td>23.810565948486328</td><td>0.21927383542060852</td><td>False</td><td>2.404463667027891</td><td>0.40131732342210646</td><td>22.94745445251465</td><td>0.18121494352817535</td><td>False</td><td>2.7372326177135706</td><td>0.7185957522793353</td><td>22.806720733642578</td><td>0.2850343883037567</td><td>False</td><td>3.774195051031073</td><td>2.4327185740618193</td><td>22.45793914794922</td><td>0.6998288631439209</td><td>False</td><td>nan</td><td>nan</td><td>nan</td><td>nan</td><td>False</td><td>nan</td><td>nan</td><td>nan</td><td>nan</td><td>False</td><td>nan</td><td>nan</td><td>nan</td><td>nan</td><td>False</td><td>nan</td><td>nan</td><td>nan</td><td>nan</td><td>False</td><td>nan</td><td>nan</td><td>nan</td><td>nan</td><td>nan</td><td>nan</td><td>nan</td><td>nan</td><td>1e+20</td><td>1e+20</td><td>1e+20</td><td>1e+20</td><td>1e+20</td><td>1e+20</td><td>1e+20</td><td>1e+20</td><td>1e+20</td><td>1e+20</td><td>True</td><td>1e+20</td><td>1e+20</td><td>True</td><td>1e+20</td><td>1e+20</td><td>True</td><td>False</td><td>False</td><td>True</td><td>True</td><td>N/A</td></tr>\n",
       "<tr><td>HELP_J235959.998-592259.462</td><td>SSDF</td><td>359.9999917923965</td><td>-59.383184000720895</td><td>756040961</td><td>0.012011092974580154</td><td>0.5317</td><td>nan</td><td>15985.125</td><td>8768.23828125</td><td>False</td><td>9843.23046875</td><td>6816.63671875</td><td>True</td><td>4941.1318359375</td><td>7577.6748046875</td><td>True</td><td>nan</td><td>nan</td><td>nan</td><td>nan</td><td>nan</td><td>nan</td><td>nan</td><td>nan</td><td>nan</td><td>nan</td><td>nan</td><td>nan</td><td>0.42468398809432983</td><td>des_stellarity</td><td>False</td><td>False</td><td>0</td><td>7</td><td>1</td><td>-99</td><td>False</td><td>nan</td><td>nan</td><td>nan</td><td>nan</td><td>False</td><td>1.1367879826484104</td><td>0.24218618013899973</td><td>23.760801315307617</td><td>0.2313098907470703</td><td>False</td><td>2.8981354743844827</td><td>0.33559505101551235</td><td>22.74470329284668</td><td>0.12572486698627472</td><td>False</td><td>4.372959464744914</td><td>0.5892712310817227</td><td>22.29806137084961</td><td>0.14630666375160217</td><td>False</td><td>5.2813401629486485</td><td>1.1734446581374016</td><td>22.0931396484375</td><td>0.2412363737821579</td><td>False</td><td>3.253921518637371</td><td>3.4155053568664218</td><td>22.618982315063477</td><td>1.139651894569397</td><td>False</td><td>nan</td><td>nan</td><td>nan</td><td>nan</td><td>False</td><td>nan</td><td>nan</td><td>nan</td><td>nan</td><td>False</td><td>nan</td><td>nan</td><td>nan</td><td>nan</td><td>False</td><td>nan</td><td>nan</td><td>nan</td><td>nan</td><td>False</td><td>nan</td><td>nan</td><td>nan</td><td>nan</td><td>nan</td><td>nan</td><td>nan</td><td>nan</td><td>1e+20</td><td>1e+20</td><td>1e+20</td><td>1e+20</td><td>1e+20</td><td>1e+20</td><td>1e+20</td><td>1e+20</td><td>1e+20</td><td>1e+20</td><td>True</td><td>1e+20</td><td>1e+20</td><td>True</td><td>1e+20</td><td>1e+20</td><td>True</td><td>False</td><td>False</td><td>True</td><td>True</td><td>N/A</td></tr>\n",
       "</table>"
      ],
      "text/plain": [
       "<Table length=5>\n",
       "          help_id            field  ... flag_irac_i4 old_help_id\n",
       "                                    ...                         \n",
       "          bytes33           bytes18 ...     bool       bytes27  \n",
       "--------------------------- ------- ... ------------ -----------\n",
       "HELP_J235959.991-572600.759    SSDF ...         True         N/A\n",
       "HELP_J235959.993-571303.407    SSDF ...         True         N/A\n",
       "HELP_J235959.997-533232.240    SSDF ...         True         N/A\n",
       "HELP_J235959.997-592503.342    SSDF ...         True         N/A\n",
       "HELP_J235959.998-592259.462    SSDF ...         True         N/A"
      ]
     },
     "execution_count": 9,
     "metadata": {},
     "output_type": "execute_result"
    }
   ],
   "source": [
    "full_cat[-5:]"
   ]
  },
  {
   "cell_type": "code",
   "execution_count": 10,
   "metadata": {},
   "outputs": [
    {
     "data": {
      "text/plain": [
       "True"
      ]
     },
     "execution_count": 10,
     "metadata": {},
     "output_type": "execute_result"
    }
   ],
   "source": [
    "len(full_cat) == len(np.unique(full_cat['help_id']))"
   ]
  },
  {
   "cell_type": "code",
   "execution_count": 11,
   "metadata": {},
   "outputs": [
    {
     "data": {
      "text/plain": [
       "118"
      ]
     },
     "execution_count": 11,
     "metadata": {},
     "output_type": "execute_result"
    }
   ],
   "source": [
    "len(full_cat.colnames)"
   ]
  },
  {
   "cell_type": "code",
   "execution_count": 12,
   "metadata": {},
   "outputs": [
    {
     "data": {
      "text/plain": [
       "['help_id',\n",
       " 'field',\n",
       " 'ra',\n",
       " 'dec',\n",
       " 'hp_idx',\n",
       " 'ebv',\n",
       " 'redshift',\n",
       " 'zspec',\n",
       " 'f_spire_250',\n",
       " 'ferr_spire_250',\n",
       " 'flag_spire_250',\n",
       " 'f_spire_350',\n",
       " 'ferr_spire_350',\n",
       " 'flag_spire_350',\n",
       " 'f_spire_500',\n",
       " 'ferr_spire_500',\n",
       " 'flag_spire_500',\n",
       " 'cigale_mstar',\n",
       " 'cigale_mstar_err',\n",
       " 'cigale_sfr',\n",
       " 'cigale_sfr_err',\n",
       " 'cigale_dustlumin',\n",
       " 'cigale_dustlumin_err',\n",
       " 'cigale_dustlumin_ironly',\n",
       " 'cigale_dustlumin_ironly_err',\n",
       " 'cigale_chi2_opt',\n",
       " 'cigale_chi2_ir',\n",
       " 'cigale_chi2_red',\n",
       " 'cigale_chi2_ironly',\n",
       " 'stellarity',\n",
       " 'stellarity_origin',\n",
       " 'flag_cleaned',\n",
       " 'flag_merged',\n",
       " 'flag_gaia',\n",
       " 'flag_optnir_obs',\n",
       " 'flag_optnir_det',\n",
       " 'zspec_qual',\n",
       " 'zspec_association_flag',\n",
       " 'f_best_u',\n",
       " 'ferr_best_u',\n",
       " 'm_best_u',\n",
       " 'merr_best_u',\n",
       " 'flag_best_u',\n",
       " 'f_best_g',\n",
       " 'ferr_best_g',\n",
       " 'm_best_g',\n",
       " 'merr_best_g',\n",
       " 'flag_best_g',\n",
       " 'f_best_r',\n",
       " 'ferr_best_r',\n",
       " 'm_best_r',\n",
       " 'merr_best_r',\n",
       " 'flag_best_r',\n",
       " 'f_best_i',\n",
       " 'ferr_best_i',\n",
       " 'm_best_i',\n",
       " 'merr_best_i',\n",
       " 'flag_best_i',\n",
       " 'f_best_z',\n",
       " 'ferr_best_z',\n",
       " 'm_best_z',\n",
       " 'merr_best_z',\n",
       " 'flag_best_z',\n",
       " 'f_best_y',\n",
       " 'ferr_best_y',\n",
       " 'm_best_y',\n",
       " 'merr_best_y',\n",
       " 'flag_best_y',\n",
       " 'f_best_j',\n",
       " 'ferr_best_j',\n",
       " 'm_best_j',\n",
       " 'merr_best_j',\n",
       " 'flag_best_j',\n",
       " 'f_best_h',\n",
       " 'ferr_best_h',\n",
       " 'm_best_h',\n",
       " 'merr_best_h',\n",
       " 'flag_best_h',\n",
       " 'f_best_k',\n",
       " 'ferr_best_k',\n",
       " 'm_best_k',\n",
       " 'merr_best_k',\n",
       " 'flag_best_k',\n",
       " 'f_best_ks',\n",
       " 'ferr_best_ks',\n",
       " 'm_best_ks',\n",
       " 'merr_best_ks',\n",
       " 'flag_best_ks',\n",
       " 'f_irac_i1',\n",
       " 'ferr_irac_i1',\n",
       " 'm_irac_i1',\n",
       " 'merr_irac_i1',\n",
       " 'f_irac_i2',\n",
       " 'ferr_irac_i2',\n",
       " 'm_irac_i2',\n",
       " 'merr_irac_i2',\n",
       " 'f_irac_i3',\n",
       " 'ferr_irac_i3',\n",
       " 'm_irac_i3',\n",
       " 'merr_irac_i3',\n",
       " 'f_irac_i4',\n",
       " 'ferr_irac_i4',\n",
       " 'm_irac_i4',\n",
       " 'merr_irac_i4',\n",
       " 'f_mips_24',\n",
       " 'ferr_mips_24',\n",
       " 'flag_mips_24',\n",
       " 'f_pacs_green',\n",
       " 'ferr_pacs_green',\n",
       " 'flag_pacs_green',\n",
       " 'f_pacs_red',\n",
       " 'ferr_pacs_red',\n",
       " 'flag_pacs_red',\n",
       " 'flag_irac_i1',\n",
       " 'flag_irac_i2',\n",
       " 'flag_irac_i3',\n",
       " 'flag_irac_i4',\n",
       " 'old_help_id']"
      ]
     },
     "execution_count": 12,
     "metadata": {},
     "output_type": "execute_result"
    }
   ],
   "source": [
    "full_cat.colnames"
   ]
  },
  {
   "cell_type": "code",
   "execution_count": 13,
   "metadata": {},
   "outputs": [
    {
     "data": {
      "text/html": [
       "<i>Table masked=True length=5</i>\n",
       "<table id=\"table139641396446936\" class=\"table-striped table-bordered table-condensed\">\n",
       "<thead><tr><th>help_id</th><th>best_u</th><th>best_g</th><th>best_r</th><th>best_i</th><th>best_z</th><th>best_y</th><th>best_j</th><th>best_h</th><th>best_k</th><th>best_ks</th></tr></thead>\n",
       "<thead><tr><th>bytes33</th><th>str18</th><th>str18</th><th>str18</th><th>str18</th><th>str18</th><th>str18</th><th>str18</th><th>str18</th><th>str18</th><th>str18</th></tr></thead>\n",
       "<tr><td>HELP_J131038.491+424429.719</td><td>band_not_available</td><td>90prime_g</td><td>90prime_r</td><td>band_not_available</td><td>mosaic_z</td><td>band_not_available</td><td>ukidss_j</td><td>band_not_available</td><td>band_not_available</td><td>band_not_available</td></tr>\n",
       "<tr><td>HELP_J131040.639+424529.290</td><td>band_not_available</td><td>90prime_g</td><td>90prime_r</td><td>band_not_available</td><td>mosaic_z</td><td>band_not_available</td><td>ukidss_j</td><td>band_not_available</td><td>band_not_available</td><td>band_not_available</td></tr>\n",
       "<tr><td>HELP_J131041.208+425230.397</td><td>band_not_available</td><td>90prime_g</td><td>90prime_r</td><td>band_not_available</td><td>mosaic_z</td><td>band_not_available</td><td>ukidss_j</td><td>band_not_available</td><td>band_not_available</td><td>band_not_available</td></tr>\n",
       "<tr><td>HELP_J131041.287+424511.374</td><td>band_not_available</td><td>90prime_g</td><td>90prime_r</td><td>band_not_available</td><td>mosaic_z</td><td>band_not_available</td><td>ukidss_j</td><td>band_not_available</td><td>band_not_available</td><td>band_not_available</td></tr>\n",
       "<tr><td>HELP_J131041.685+424358.772</td><td>band_not_available</td><td>90prime_g</td><td>90prime_r</td><td>band_not_available</td><td>mosaic_z</td><td>band_not_available</td><td>ukidss_j</td><td>band_not_available</td><td>band_not_available</td><td>band_not_available</td></tr>\n",
       "</table>"
      ],
      "text/plain": [
       "<Table masked=True length=5>\n",
       "          help_id                 best_u       ...      best_ks      \n",
       "          bytes33                 str18        ...       str18       \n",
       "--------------------------- ------------------ ... ------------------\n",
       "HELP_J131038.491+424429.719 band_not_available ... band_not_available\n",
       "HELP_J131040.639+424529.290 band_not_available ... band_not_available\n",
       "HELP_J131041.208+425230.397 band_not_available ... band_not_available\n",
       "HELP_J131041.287+424511.374 band_not_available ... band_not_available\n",
       "HELP_J131041.685+424358.772 band_not_available ... band_not_available"
      ]
     },
     "execution_count": 13,
     "metadata": {},
     "output_type": "execute_result"
    }
   ],
   "source": [
    "full_sources[:5]"
   ]
  },
  {
   "cell_type": "code",
   "execution_count": 14,
   "metadata": {},
   "outputs": [
    {
     "name": "stdout",
     "output_type": "stream",
     "text": [
      "mkdir: cannot create directory ‘data’: File exists\r\n"
     ]
    }
   ],
   "source": [
    "!mkdir data\n",
    "full_cat.write('./data/HELP_all_sky_xid_prior_{}.fits'.format(SUFFIX), overwrite=True)\n",
    "full_sources.write('./data/HELP_all_sky_xid_prior_sources_{}.fits'.format(SUFFIX), overwrite=True)\n",
    "#full_sources.write('./data/HELP_all_sky_xid_objects_sources_{}.csv'.format(SUFFIX), overwrite=True)"
   ]
  },
  {
   "cell_type": "code",
   "execution_count": 15,
   "metadata": {},
   "outputs": [
    {
     "name": "stderr",
     "output_type": "stream",
     "text": [
      "/opt/pyenv/versions/3.7.2/lib/python3.7/site-packages/astropy/table/column.py:965: RuntimeWarning: invalid value encountered in greater\n",
      "  return getattr(self.data, op)(other)\n"
     ]
    },
    {
     "name": "stdout",
     "output_type": "stream",
     "text": [
      "1718100\n"
     ]
    }
   ],
   "source": [
    "#just cigale objects to make a smaller file\n",
    "m = full_cat['cigale_sfr']>0.\n",
    "full_cat = full_cat[m]\n",
    "full_sources = full_sources[m]\n",
    "print(len(full_cat))\n",
    "full_cat.write('./data/HELP_all_sky_A-list_{}.fits'.format(SUFFIX), overwrite=True)\n",
    "full_sources.write('./data/HELP_all_sky_A-list_sources_{}.fits'.format(SUFFIX), overwrite=True)\n",
    "#full_cat.write('./data/HELP_all_sky_xid_A-list_{}.csv'.format(SUFFIX), overwrite=True)\n",
    "#full_sources.write('./data/HELP_all_sky_xid_objects_sources_{}.fits'.format(SUFFIX), overwrite=True)\n",
    "#full_sources.write('./data/HELP_all_sky_xid_objects_sources_{}.csv'.format(SUFFIX), overwrite=True)"
   ]
  },
  {
   "cell_type": "code",
   "execution_count": null,
   "metadata": {},
   "outputs": [],
   "source": []
  }
 ],
 "metadata": {
  "kernelspec": {
   "display_name": "Python (herschelhelp_internal)",
   "language": "python",
   "name": "helpint"
  },
  "language_info": {
   "codemirror_mode": {
    "name": "ipython",
    "version": 3
   },
   "file_extension": ".py",
   "mimetype": "text/x-python",
   "name": "python",
   "nbconvert_exporter": "python",
   "pygments_lexer": "ipython3",
   "version": "3.7.2"
  }
 },
 "nbformat": 4,
 "nbformat_minor": 4
}
