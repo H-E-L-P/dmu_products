{
 "cells": [
  {
   "cell_type": "markdown",
   "metadata": {},
   "source": [
    "# Make the A-list\n",
    "\n",
    "The A-list is the list of objects with all final products XID+ fluxes, redshift, and CIGALE physical properties.\n",
    "\n",
    "Here we will loop over all the final catalogues, take the xid+ objects, and the set of columns present on every field. We will also add new 'best' photometry where for every common band type we take the valeu with the lowest error."
   ]
  },
  {
   "cell_type": "code",
   "execution_count": 1,
   "metadata": {},
   "outputs": [
    {
     "name": "stdout",
     "output_type": "stream",
     "text": [
      "This notebook was run with herschelhelp_internal version: \n",
      "1407877 (Mon Feb 4 12:56:29 2019 +0000)\n",
      "This notebook was executed on: \n",
      "2020-10-29 15:54:52.879199\n"
     ]
    }
   ],
   "source": [
    "from herschelhelp_internal import git_version\n",
    "print(\"This notebook was run with herschelhelp_internal version: \\n{}\".format(git_version()))\n",
    "import datetime\n",
    "print(\"This notebook was executed on: \\n{}\".format(datetime.datetime.now()))"
   ]
  },
  {
   "cell_type": "code",
   "execution_count": 2,
   "metadata": {},
   "outputs": [
    {
     "name": "stdout",
     "output_type": "stream",
     "text": [
      "20201029\n"
     ]
    }
   ],
   "source": [
    "from astropy.table import Table, vstack\n",
    "import glob\n",
    "import yaml\n",
    "import time\n",
    "import os\n",
    "import numpy as np\n",
    "from herschelhelp_internal.utils import add_column_meta\n",
    "SUFFIX = os.environ.get('SUFFIX', time.strftime(\"%Y%m%d\"))\n",
    "print(SUFFIX)"
   ]
  },
  {
   "cell_type": "code",
   "execution_count": 3,
   "metadata": {},
   "outputs": [],
   "source": [
    "bands = ['u', 'g', 'r', 'i', 'z', 'y', 'j', 'h', 'k', 'ks']\n",
    "always_keep = ['irac','mips','pacs','spire', 'best']"
   ]
  },
  {
   "cell_type": "code",
   "execution_count": 4,
   "metadata": {},
   "outputs": [],
   "source": [
    "meta_files = glob.glob('../*/meta_main.yml')"
   ]
  },
  {
   "cell_type": "code",
   "execution_count": 5,
   "metadata": {},
   "outputs": [
    {
     "data": {
      "text/plain": [
       "['../dmu32_COSMOS/meta_main.yml',\n",
       " '../dmu32_ELAIS-S1/meta_main.yml',\n",
       " '../dmu32_GAMA-09/meta_main.yml',\n",
       " '../dmu32_Lockman-SWIRE/meta_main.yml',\n",
       " '../dmu32_ELAIS-N2/meta_main.yml',\n",
       " '../dmu32_Herschel-Stripe-82/meta_main.yml',\n",
       " '../dmu32_SA13/meta_main.yml',\n",
       " '../dmu32_GAMA-12/meta_main.yml',\n",
       " '../dmu32_GAMA-15/meta_main.yml',\n",
       " '../dmu32_AKARI-SEP/meta_main.yml',\n",
       " '../dmu32_SGP/meta_main.yml',\n",
       " '../dmu32_xFLS/meta_main.yml',\n",
       " '../dmu32_CDFS-SWIRE/meta_main.yml',\n",
       " '../dmu32_SSDF/meta_main.yml',\n",
       " '../dmu32_XMM-LSS/meta_main.yml',\n",
       " '../dmu32_SPIRE-NEP/meta_main.yml',\n",
       " '../dmu32_AKARI-NEP/meta_main.yml',\n",
       " '../dmu32_ELAIS-N1/meta_main.yml',\n",
       " '../dmu32_NGP/meta_main.yml',\n",
       " '../dmu32_XMM-13hr/meta_main.yml',\n",
       " '../dmu32_Bootes/meta_main.yml',\n",
       " '../dmu32_HDF-N/meta_main.yml',\n",
       " '../dmu32_EGS/meta_main.yml']"
      ]
     },
     "execution_count": 5,
     "metadata": {},
     "output_type": "execute_result"
    }
   ],
   "source": [
    "meta_files"
   ]
  },
  {
   "cell_type": "code",
   "execution_count": 6,
   "metadata": {},
   "outputs": [
    {
     "data": {
      "text/plain": [
       "['../dmu32_AKARI-NEP/meta_main.yml']"
      ]
     },
     "execution_count": 6,
     "metadata": {},
     "output_type": "execute_result"
    }
   ],
   "source": [
    "meta_files[16:17]"
   ]
  },
  {
   "cell_type": "code",
   "execution_count": 13,
   "metadata": {},
   "outputs": [],
   "source": [
    "def get_best_flux(table, band):\n",
    "    \"Return the lowest error non nan band \"\n",
    "    table=table.copy()\n",
    "    f_best = np.full(len(table), np.nan)\n",
    "    ferr_best = np.full(len(table), np.nan)\n",
    "    m_best= np.full(len(table), np.nan)\n",
    "    merr_best= np.full(len(table), np.nan)\n",
    "    flag_best= np.full(len(table), False)\n",
    "    camera = np.full(len(table), 'band_not_available')\n",
    "    \n",
    "    for col in table.colnames:\n",
    "        if (col.startswith('m_') \n",
    "            and (not col.startswith('m_ap'))\n",
    "            and col.endswith('_{}'.format(band))):\n",
    "            #replace all nans\n",
    "            m1 = np.isnan(f_best)\n",
    "            f_best[m1] = table[m1]['f' + col[1:]]\n",
    "            ferr_best[m1] = table[m1]['ferr' + col[1:]]\n",
    "            m_best[m1] = table[m1][col]\n",
    "            merr_best[m1] = table[m1]['merr' + col[1:]]\n",
    "            try:\n",
    "                flag_best[m1] = table[m1]['flag' + col[1:]]\n",
    "            except:\n",
    "                'NO FLAG COL FOR {}'.format(col)\n",
    "            m1= m1 & (~np.isnan(table[col]))\n",
    "            camera[m1] = np.full(np.sum(m1),col[2:])\n",
    "            #replace all with larger flux error\n",
    "            m2 = table['ferr' + col[1:]] < ferr_best\n",
    "            f_best[m2] = table[m2]['f' + col[1:]]\n",
    "            ferr_best[m2] = table[m2]['ferr' + col[1:]]\n",
    "            m_best[m2] = table[m2][col]\n",
    "            merr_best[m2] = table[m2]['merr' + col[1:]]\n",
    "            try:\n",
    "                flag_best[m2] = table[m2]['flag' + col[1:]]\n",
    "            except:\n",
    "                'NO FLAG COL FOR {}'.format(col)\n",
    "            camera[m2] = np.full(np.sum(m2),col.split('_')[-2])\n",
    "    \n",
    "    return f_best, ferr_best, m_best, merr_best, flag_best, camera\n",
    "    \n",
    "def remove_specific_bands(table, bands_to_keep):\n",
    "    \"Return the table with all specific band fluxes removed\"\n",
    "    table = table.copy()\n",
    "    cols_to_remove = set()\n",
    "    for col in table.colnames:\n",
    "        if col.startswith('m_ap_'):\n",
    "            to_remove=(\n",
    "                col,  \n",
    "                'merr_ap' + col[4:],\n",
    "                'f_ap' + col[4:],\n",
    "                'ferr_ap' + col[4:]\n",
    "            )\n",
    "            cols_to_remove = cols_to_remove.union(set(to_remove))\n",
    "    \n",
    "    \n",
    "    \n",
    "    for col in table.colnames:\n",
    "        if col.startswith('m_') and (col.split('_')[-2] not in bands_to_keep):\n",
    "            #print(col.split('_')[-2])\n",
    "            to_remove =(\n",
    "                col,  \n",
    "                'merr' + col[1:],\n",
    "                'f' + col[1:],\n",
    "                'ferr' + col[1:],\n",
    "                'flag' + col[1:]\n",
    "                )\n",
    "            cols_to_remove = cols_to_remove.union(set(to_remove))\n",
    "            \n",
    "    print('Removing ',cols_to_remove)\n",
    "    for c in set(cols_to_remove):\n",
    "        try:\n",
    "            table.remove_column(c)\n",
    "        except:\n",
    "            print('Column {} cannot be removed it is not there'.format(c))\n",
    "            \n",
    "            \n",
    "            \n",
    "    return table"
   ]
  },
  {
   "cell_type": "code",
   "execution_count": 14,
   "metadata": {},
   "outputs": [
    {
     "name": "stderr",
     "output_type": "stream",
     "text": [
      "/Users/rs548/miniconda3/envs/herschelhelp_internal/lib/python3.6/site-packages/ipykernel_launcher.py:4: YAMLLoadWarning: calling yaml.load() without Loader=... is deprecated, as the default Loader is unsafe. Please read https://msg.pyyaml.org/load for full details.\n",
      "  after removing the cwd from sys.path.\n"
     ]
    },
    {
     "name": "stdout",
     "output_type": "stream",
     "text": [
      "../../dmu32/dmu32_AKARI-NEP/data/AKARI-NEP_20180215_cigale.fits\n",
      "Removing  {'flag_ap_gpc1_g', 'flag_ap_gpc1_i', 'ferr_ap_irac_i1', 'm_ap_gpc1_r', 'merr_gpc1_i', 'f_ap_gpc1_y', 'ferr_ap_gpc1_y', 'merr_wircam_y', 'm_megacam_r', 'ferr_gpc1_r', 'merr_megacam_r', 'ferr_ap_gpc1_i', 'merr_ap_gpc1_z', 'merr_ap_gpc1_y', 'merr_ap_gpc1_g', 'm_gpc1_g', 'f_megacam_r', 'merr_megacam_i', 'merr_gpc1_y', 'f_wircam_y', 'merr_megacam_z', 'f_wircam_j', 'merr_gpc1_r', 'flag_megacam_u', 'merr_ap_irac_i2', 'flag_megacam_r', 'ferr_ap_gpc1_z', 'f_ap_gpc1_i', 'flag_gpc1_y', 'm_wircam_j', 'ferr_gpc1_i', 'merr_megacam_g', 'ferr_ap_irac_i2', 'f_megacam_z', 'f_gpc1_i', 'ferr_ap_gpc1_g', 'f_megacam_u', 'flag_ap_gpc1_z', 'flag_gpc1_i', 'ferr_wircam_j', 'merr_gpc1_z', 'flag_gpc1_g', 'flag_wircam_y', 'm_megacam_u', 'f_gpc1_g', 'merr_ap_gpc1_i', 'm_ap_gpc1_y', 'm_gpc1_y', 'merr_wircam_j', 'ferr_wircam_ks', 'm_gpc1_r', 'flag_gpc1_z', 'flag_megacam_z', 'f_ap_irac_i1', 'ferr_ap_gpc1_r', 'm_megacam_i', 'flag_wircam_ks', 'flag_gpc1_r', 'merr_gpc1_g', 'f_gpc1_z', 'm_ap_gpc1_g', 'ferr_gpc1_g', 'f_wircam_ks', 'ferr_megacam_r', 'merr_ap_gpc1_r', 'ferr_megacam_z', 'f_megacam_g', 'merr_wircam_ks', 'ferr_gpc1_z', 'merr_megacam_u', 'm_ap_gpc1_i', 'flag_megacam_g', 'flag_wircam_j', 'ferr_megacam_u', 'flag_megacam_i', 'ferr_wircam_y', 'f_ap_gpc1_z', 'merr_ap_irac_i1', 'ferr_gpc1_y', 'f_ap_irac_i2', 'm_ap_irac_i2', 'f_ap_gpc1_g', 'ferr_megacam_g', 'm_ap_gpc1_z', 'm_gpc1_z', 'flag_ap_gpc1_r', 'f_gpc1_y', 'f_ap_gpc1_r', 'f_gpc1_r', 'f_megacam_i', 'm_wircam_ks', 'm_gpc1_i', 'ferr_megacam_i', 'm_ap_irac_i1', 'm_megacam_g', 'flag_ap_gpc1_y', 'm_megacam_z', 'm_wircam_y'}\n",
      "Column flag_ap_gpc1_g cannot be removed it is not there\n",
      "Column flag_ap_gpc1_i cannot be removed it is not there\n",
      "Column flag_megacam_u cannot be removed it is not there\n",
      "Column flag_megacam_r cannot be removed it is not there\n",
      "Column flag_ap_gpc1_z cannot be removed it is not there\n",
      "Column flag_wircam_y cannot be removed it is not there\n",
      "Column flag_megacam_z cannot be removed it is not there\n",
      "Column flag_wircam_ks cannot be removed it is not there\n",
      "Column flag_megacam_g cannot be removed it is not there\n",
      "Column flag_wircam_j cannot be removed it is not there\n",
      "Column flag_megacam_i cannot be removed it is not there\n",
      "Column flag_ap_gpc1_r cannot be removed it is not there\n",
      "Column flag_ap_gpc1_y cannot be removed it is not there\n"
     ]
    },
    {
     "name": "stderr",
     "output_type": "stream",
     "text": [
      "/Users/rs548/miniconda3/envs/herschelhelp_internal/lib/python3.6/site-packages/ipykernel_launcher.py:4: YAMLLoadWarning: calling yaml.load() without Loader=... is deprecated, as the default Loader is unsafe. Please read https://msg.pyyaml.org/load for full details.\n",
      "  after removing the cwd from sys.path.\n"
     ]
    },
    {
     "name": "stdout",
     "output_type": "stream",
     "text": [
      "../../dmu32/dmu32_AKARI-NEP/data/AKARI-NEP_20180215_cigale.fits\n",
      "Removing  {'flag_ap_gpc1_g', 'flag_ap_gpc1_i', 'ferr_ap_irac_i1', 'm_ap_gpc1_r', 'merr_gpc1_i', 'f_ap_gpc1_y', 'ferr_ap_gpc1_y', 'merr_wircam_y', 'm_megacam_r', 'ferr_gpc1_r', 'merr_megacam_r', 'ferr_ap_gpc1_i', 'merr_ap_gpc1_z', 'merr_ap_gpc1_y', 'merr_ap_gpc1_g', 'm_gpc1_g', 'f_megacam_r', 'merr_megacam_i', 'merr_gpc1_y', 'f_wircam_y', 'merr_megacam_z', 'f_wircam_j', 'merr_gpc1_r', 'flag_megacam_u', 'merr_ap_irac_i2', 'flag_megacam_r', 'ferr_ap_gpc1_z', 'f_ap_gpc1_i', 'flag_gpc1_y', 'm_wircam_j', 'ferr_gpc1_i', 'merr_megacam_g', 'ferr_ap_irac_i2', 'f_megacam_z', 'f_gpc1_i', 'ferr_ap_gpc1_g', 'f_megacam_u', 'flag_ap_gpc1_z', 'flag_gpc1_i', 'ferr_wircam_j', 'merr_gpc1_z', 'flag_gpc1_g', 'flag_wircam_y', 'm_megacam_u', 'f_gpc1_g', 'merr_ap_gpc1_i', 'm_ap_gpc1_y', 'm_gpc1_y', 'merr_wircam_j', 'ferr_wircam_ks', 'm_gpc1_r', 'flag_gpc1_z', 'flag_megacam_z', 'f_ap_irac_i1', 'ferr_ap_gpc1_r', 'm_megacam_i', 'flag_wircam_ks', 'flag_gpc1_r', 'merr_gpc1_g', 'f_gpc1_z', 'm_ap_gpc1_g', 'ferr_gpc1_g', 'f_wircam_ks', 'ferr_megacam_r', 'merr_ap_gpc1_r', 'ferr_megacam_z', 'f_megacam_g', 'merr_wircam_ks', 'ferr_gpc1_z', 'merr_megacam_u', 'm_ap_gpc1_i', 'flag_megacam_g', 'flag_wircam_j', 'ferr_megacam_u', 'flag_megacam_i', 'ferr_wircam_y', 'f_ap_gpc1_z', 'merr_ap_irac_i1', 'ferr_gpc1_y', 'f_ap_irac_i2', 'm_ap_irac_i2', 'f_ap_gpc1_g', 'ferr_megacam_g', 'm_ap_gpc1_z', 'm_gpc1_z', 'flag_ap_gpc1_r', 'f_gpc1_y', 'f_ap_gpc1_r', 'f_gpc1_r', 'f_megacam_i', 'm_wircam_ks', 'm_gpc1_i', 'ferr_megacam_i', 'm_ap_irac_i1', 'm_megacam_g', 'flag_ap_gpc1_y', 'm_megacam_z', 'm_wircam_y'}\n",
      "Column flag_ap_gpc1_g cannot be removed it is not there\n",
      "Column flag_ap_gpc1_i cannot be removed it is not there\n",
      "Column flag_megacam_u cannot be removed it is not there\n",
      "Column flag_megacam_r cannot be removed it is not there\n",
      "Column flag_ap_gpc1_z cannot be removed it is not there\n",
      "Column flag_wircam_y cannot be removed it is not there\n",
      "Column flag_megacam_z cannot be removed it is not there\n",
      "Column flag_wircam_ks cannot be removed it is not there\n",
      "Column flag_megacam_g cannot be removed it is not there\n",
      "Column flag_wircam_j cannot be removed it is not there\n",
      "Column flag_megacam_i cannot be removed it is not there\n",
      "Column flag_ap_gpc1_r cannot be removed it is not there\n",
      "Column flag_ap_gpc1_y cannot be removed it is not there\n"
     ]
    },
    {
     "name": "stderr",
     "output_type": "stream",
     "text": [
      "/Users/rs548/miniconda3/envs/herschelhelp_internal/lib/python3.6/site-packages/ipykernel_launcher.py:4: YAMLLoadWarning: calling yaml.load() without Loader=... is deprecated, as the default Loader is unsafe. Please read https://msg.pyyaml.org/load for full details.\n",
      "  after removing the cwd from sys.path.\n"
     ]
    },
    {
     "name": "stdout",
     "output_type": "stream",
     "text": [
      "../../dmu32/dmu32_AKARI-NEP/data/AKARI-NEP_20180215_cigale.fits\n",
      "Removing  {'flag_ap_gpc1_g', 'flag_ap_gpc1_i', 'ferr_ap_irac_i1', 'm_ap_gpc1_r', 'merr_gpc1_i', 'f_ap_gpc1_y', 'ferr_ap_gpc1_y', 'merr_wircam_y', 'm_megacam_r', 'ferr_gpc1_r', 'merr_megacam_r', 'ferr_ap_gpc1_i', 'merr_ap_gpc1_z', 'merr_ap_gpc1_y', 'merr_ap_gpc1_g', 'm_gpc1_g', 'f_megacam_r', 'merr_megacam_i', 'merr_gpc1_y', 'f_wircam_y', 'merr_megacam_z', 'f_wircam_j', 'merr_gpc1_r', 'flag_megacam_u', 'merr_ap_irac_i2', 'flag_megacam_r', 'ferr_ap_gpc1_z', 'f_ap_gpc1_i', 'flag_gpc1_y', 'm_wircam_j', 'ferr_gpc1_i', 'merr_megacam_g', 'ferr_ap_irac_i2', 'f_megacam_z', 'f_gpc1_i', 'ferr_ap_gpc1_g', 'f_megacam_u', 'flag_ap_gpc1_z', 'flag_gpc1_i', 'ferr_wircam_j', 'merr_gpc1_z', 'flag_gpc1_g', 'flag_wircam_y', 'm_megacam_u', 'f_gpc1_g', 'merr_ap_gpc1_i', 'm_ap_gpc1_y', 'm_gpc1_y', 'merr_wircam_j', 'ferr_wircam_ks', 'm_gpc1_r', 'flag_gpc1_z', 'flag_megacam_z', 'f_ap_irac_i1', 'ferr_ap_gpc1_r', 'm_megacam_i', 'flag_wircam_ks', 'flag_gpc1_r', 'merr_gpc1_g', 'f_gpc1_z', 'm_ap_gpc1_g', 'ferr_gpc1_g', 'f_wircam_ks', 'ferr_megacam_r', 'merr_ap_gpc1_r', 'ferr_megacam_z', 'f_megacam_g', 'merr_wircam_ks', 'ferr_gpc1_z', 'merr_megacam_u', 'm_ap_gpc1_i', 'flag_megacam_g', 'flag_wircam_j', 'ferr_megacam_u', 'flag_megacam_i', 'ferr_wircam_y', 'f_ap_gpc1_z', 'merr_ap_irac_i1', 'ferr_gpc1_y', 'f_ap_irac_i2', 'm_ap_irac_i2', 'f_ap_gpc1_g', 'ferr_megacam_g', 'm_ap_gpc1_z', 'm_gpc1_z', 'flag_ap_gpc1_r', 'f_gpc1_y', 'f_ap_gpc1_r', 'f_gpc1_r', 'f_megacam_i', 'm_wircam_ks', 'm_gpc1_i', 'ferr_megacam_i', 'm_ap_irac_i1', 'm_megacam_g', 'flag_ap_gpc1_y', 'm_megacam_z', 'm_wircam_y'}\n",
      "Column flag_ap_gpc1_g cannot be removed it is not there\n",
      "Column flag_ap_gpc1_i cannot be removed it is not there\n",
      "Column flag_megacam_u cannot be removed it is not there\n",
      "Column flag_megacam_r cannot be removed it is not there\n",
      "Column flag_ap_gpc1_z cannot be removed it is not there\n",
      "Column flag_wircam_y cannot be removed it is not there\n",
      "Column flag_megacam_z cannot be removed it is not there\n",
      "Column flag_wircam_ks cannot be removed it is not there\n",
      "Column flag_megacam_g cannot be removed it is not there\n",
      "Column flag_wircam_j cannot be removed it is not there\n",
      "Column flag_megacam_i cannot be removed it is not there\n",
      "Column flag_ap_gpc1_r cannot be removed it is not there\n",
      "Column flag_ap_gpc1_y cannot be removed it is not there\n"
     ]
    },
    {
     "name": "stderr",
     "output_type": "stream",
     "text": [
      "/Users/rs548/miniconda3/envs/herschelhelp_internal/lib/python3.6/site-packages/ipykernel_launcher.py:4: YAMLLoadWarning: calling yaml.load() without Loader=... is deprecated, as the default Loader is unsafe. Please read https://msg.pyyaml.org/load for full details.\n",
      "  after removing the cwd from sys.path.\n"
     ]
    },
    {
     "name": "stdout",
     "output_type": "stream",
     "text": [
      "../../dmu32/dmu32_HDF-N/data/HDF-N_20180427_cigale.fits\n",
      "Removing  {'m_suprime_b', 'merr_wfc3_f125w', 'merr_acs_f435w', 'm_ap_gpc1_r', 'merr_gpc1_i', 'merr_suprime_zp', 'f_ap_gpc1_y', 'ferr_suprime_v', 'm_wfc3_f125w', 'ferr_gpc1_r', 'merr_acs_f606w', 'm_suprime_v', 'ferr_ap_gpc1_i', 'f_wfc3_f105w', 'm_gpc1_g', 'ferr_wfc3_f160w', 'f_ap_suprime_v', 'merr_gpc1_r', 'ferr_acs_f814w', 'merr_ap_quirc_hk', 'flag_gpc1_y', 'f_moircs_k', 'f_suprime_b', 'ferr_gpc1_i', 'ferr_ap_gpc1_g', 'f_acs_f435w', 'f_ap_mosaic_u', 'ferr_ap_suprime_v', 'f_suprime_v', 'm_ap_suprime_v', 'merr_suprime_ip', 'flag_acs_f775w', 'ferr_wfc3_f125w', 'flag_ap_suprime_v', 'flag_quirc_hk', 'ferr_ap_suprime_r', 'ferr_ap_suprime_b', 'flag_gpc1_g', 'm_suprime_r', 'f_gpc1_g', 'merr_ap_gpc1_i', 'm_ap_gpc1_y', 'f_suprime_r', 'ferr_ap_suprime_ip', 'ferr_acs_f850lp', 'm_gpc1_y', 'flag_wfc3_f105w', 'm_gpc1_r', 'flag_gpc1_z', 'm_acs_f814w', 'flag_wfc3_f140w', 'ferr_ap_gpc1_r', 'merr_acs_f850lp', 'f_acs_f606w', 'flag_gpc1_r', 'flag_wircam_ks', 'f_gpc1_z', 'ferr_gpc1_g', 'f_wfc3_f160w', 'merr_ap_gpc1_r', 'f_ap_quirc_hk', 'ferr_wfc3_f105w', 'merr_ap_mosaic_u', 'flag_ap_mosaic_u', 'ferr_gpc1_z', 'f_ap_suprime_b', 'merr_quirc_hk', 'flag_acs_f814w', 'flag_suprime_v', 'merr_ap_suprime_v', 'f_wfc3_f140w', 'merr_acs_f775w', 'm_mosaic_u', 'flag_ap_suprime_ip', 'merr_moircs_k', 'flag_ap_gpc1_r', 'ferr_suprime_b', 'merr_ap_suprime_b', 'm_quirc_hk', 'm_wfc3_f160w', 'm_ap_quirc_hk', 'flag_acs_f435w', 'merr_wfc3_f160w', 'f_acs_f775w', 'flag_suprime_r', 'f_ap_suprime_ip', 'flag_ap_gpc1_g', 'flag_ap_gpc1_i', 'm_acs_f435w', 'ferr_ap_quirc_hk', 'ferr_ap_gpc1_y', 'flag_suprime_zp', 'merr_suprime_b', 'ferr_wfc3_f140w', 'f_ap_suprime_zp', 'merr_ap_gpc1_z', 'merr_ap_gpc1_g', 'm_ap_suprime_zp', 'merr_ap_gpc1_y', 'merr_gpc1_y', 'flag_ap_suprime_b', 'flag_acs_f606w', 'm_suprime_zp', 'm_wfc3_f105w', 'ferr_suprime_ip', 'f_ap_gpc1_i', 'ferr_ap_gpc1_z', 'ferr_mosaic_u', 'f_gpc1_i', 'ferr_acs_f435w', 'flag_ap_gpc1_z', 'merr_wfc3_f105w', 'flag_gpc1_i', 'ferr_quirc_hk', 'merr_gpc1_z', 'm_acs_f850lp', 'f_suprime_ip', 'ferr_wircam_ks', 'm_ap_mosaic_u', 'merr_ap_suprime_r', 'ferr_suprime_zp', 'merr_ap_suprime_ip', 'f_acs_f850lp', 'merr_mosaic_u', 'ferr_acs_f606w', 'ferr_ap_suprime_zp', 'merr_gpc1_g', 'm_acs_f775w', 'f_wircam_ks', 'm_ap_gpc1_g', 'm_moircs_k', 'f_quirc_hk', 'merr_wircam_ks', 'm_ap_gpc1_i', 'ferr_ap_mosaic_u', 'ferr_moircs_k', 'm_wfc3_f140w', 'flag_suprime_b', 'f_ap_gpc1_z', 'merr_acs_f814w', 'f_acs_f814w', 'ferr_gpc1_y', 'f_mosaic_u', 'flag_ap_suprime_r', 'merr_suprime_r', 'flag_ap_quirc_hk', 'f_ap_gpc1_g', 'flag_mosaic_u', 'flag_wfc3_f160w', 'm_ap_gpc1_z', 'm_gpc1_z', 'ferr_suprime_r', 'm_ap_suprime_b', 'ferr_acs_f775w', 'f_ap_gpc1_r', 'm_ap_suprime_r', 'f_gpc1_r', 'f_gpc1_y', 'flag_wfc3_f125w', 'm_wircam_ks', 'm_gpc1_i', 'f_ap_suprime_r', 'm_acs_f606w', 'm_suprime_ip', 'merr_suprime_v', 'f_suprime_zp', 'flag_ap_suprime_zp', 'm_ap_suprime_ip', 'flag_suprime_ip', 'merr_ap_suprime_zp', 'flag_acs_f850lp', 'f_wfc3_f125w', 'merr_wfc3_f140w', 'flag_ap_gpc1_y', 'flag_moircs_k'}\n",
      "Column flag_ap_suprime_v cannot be removed it is not there\n",
      "Column flag_ap_mosaic_u cannot be removed it is not there\n",
      "Column flag_ap_suprime_ip cannot be removed it is not there\n",
      "Column flag_ap_gpc1_r cannot be removed it is not there\n",
      "Column flag_ap_gpc1_g cannot be removed it is not there\n",
      "Column flag_ap_gpc1_i cannot be removed it is not there\n",
      "Column flag_ap_suprime_b cannot be removed it is not there\n",
      "Column flag_ap_gpc1_z cannot be removed it is not there\n",
      "Column flag_ap_suprime_r cannot be removed it is not there\n",
      "Column flag_ap_quirc_hk cannot be removed it is not there\n",
      "Column flag_ap_suprime_zp cannot be removed it is not there\n",
      "Column flag_ap_gpc1_y cannot be removed it is not there\n"
     ]
    },
    {
     "name": "stderr",
     "output_type": "stream",
     "text": [
      "/Users/rs548/miniconda3/envs/herschelhelp_internal/lib/python3.6/site-packages/ipykernel_launcher.py:4: YAMLLoadWarning: calling yaml.load() without Loader=... is deprecated, as the default Loader is unsafe. Please read https://msg.pyyaml.org/load for full details.\n",
      "  after removing the cwd from sys.path.\n"
     ]
    }
   ],
   "source": [
    "full_cat = Table()\n",
    "full_sources = Table()\n",
    "for meta_file in meta_files: #meta_files[16:17]:\n",
    "    meta = yaml.load(open(meta_file, 'r'))\n",
    "    final_cat_loc = meta['final'].replace('dmu_products', '../..')\n",
    "    #final_cat_loc = final_cat_loc.replace('_cigale','')\n",
    "    #print(final_cat_loc)\n",
    "    try:\n",
    "        final_cat = Table.read(final_cat_loc)\n",
    "        print(final_cat_loc)\n",
    "    except:\n",
    "        continue\n",
    "    final_cat = final_cat[final_cat['f_spire_500'] > 0.]\n",
    "    sources = Table()\n",
    "    sources['help_id'] = final_cat['help_id']\n",
    "    \n",
    "    for band in bands:\n",
    "        f_best, ferr_best, m_best, merr_best, flag_best, camera = get_best_flux(final_cat, band)\n",
    "        final_cat['f_best_{}'.format(band)] = f_best\n",
    "        final_cat['ferr_best_{}'.format(band)] = ferr_best\n",
    "        final_cat['m_best_{}'.format(band)] = m_best\n",
    "        final_cat['merr_best_{}'.format(band)] = merr_best\n",
    "        final_cat['flag_best_{}'.format(band)] = flag_best\n",
    "        sources['best_{}'.format(band)] = camera\n",
    "    \n",
    "    \n",
    "    final_cat = remove_specific_bands(final_cat,always_keep)\n",
    "    \n",
    "    full_cat = vstack([full_cat,final_cat])\n",
    "    full_sources = vstack([full_sources,sources])"
   ]
  },
  {
   "cell_type": "code",
   "execution_count": 23,
   "metadata": {},
   "outputs": [],
   "source": [
    "full_cat = full_cat.filled()"
   ]
  },
  {
   "cell_type": "code",
   "execution_count": 24,
   "metadata": {},
   "outputs": [
    {
     "data": {
      "text/html": [
       "<i>Table length=5</i>\n",
       "<table id=\"table5070054512\" class=\"table-striped table-bordered table-condensed\">\n",
       "<thead><tr><th>help_id</th><th>field</th><th>ra</th><th>dec</th><th>hp_idx</th><th>ebv</th><th>redshift</th><th>zspec</th><th>f_irac_i1</th><th>ferr_irac_i1</th><th>m_irac_i1</th><th>merr_irac_i1</th><th>flag_irac_i1</th><th>f_irac_i2</th><th>ferr_irac_i2</th><th>m_irac_i2</th><th>merr_irac_i2</th><th>flag_irac_i2</th><th>f_mips_24</th><th>ferr_mips_24</th><th>flag_mips_24</th><th>f_pacs_green</th><th>ferr_pacs_green</th><th>f_pacs_red</th><th>ferr_pacs_red</th><th>f_spire_250</th><th>ferr_spire_250</th><th>flag_spire_250</th><th>f_spire_350</th><th>ferr_spire_350</th><th>flag_spire_350</th><th>f_spire_500</th><th>ferr_spire_500</th><th>flag_spire_500</th><th>stellarity</th><th>stellarity_origin</th><th>flag_cleaned</th><th>flag_merged</th><th>flag_gaia</th><th>flag_optnir_obs</th><th>flag_optnir_det</th><th>zspec_qual</th><th>zspec_association_flag</th><th>f_best_u</th><th>ferr_best_u</th><th>m_best_u</th><th>merr_best_u</th><th>flag_best_u</th><th>f_best_g</th><th>ferr_best_g</th><th>m_best_g</th><th>merr_best_g</th><th>flag_best_g</th><th>f_best_r</th><th>ferr_best_r</th><th>m_best_r</th><th>merr_best_r</th><th>flag_best_r</th><th>f_best_i</th><th>ferr_best_i</th><th>m_best_i</th><th>merr_best_i</th><th>flag_best_i</th><th>f_best_z</th><th>ferr_best_z</th><th>m_best_z</th><th>merr_best_z</th><th>flag_best_z</th><th>f_best_y</th><th>ferr_best_y</th><th>m_best_y</th><th>merr_best_y</th><th>flag_best_y</th><th>f_best_j</th><th>ferr_best_j</th><th>m_best_j</th><th>merr_best_j</th><th>flag_best_j</th><th>f_best_h</th><th>ferr_best_h</th><th>m_best_h</th><th>merr_best_h</th><th>flag_best_h</th><th>f_best_k</th><th>ferr_best_k</th><th>m_best_k</th><th>merr_best_k</th><th>flag_best_k</th><th>f_best_ks</th><th>ferr_best_ks</th><th>m_best_ks</th><th>merr_best_ks</th><th>flag_best_ks</th><th>f_irac_i3</th><th>ferr_irac_i3</th><th>m_irac_i3</th><th>merr_irac_i3</th><th>flag_irac_i3</th><th>f_irac_i4</th><th>ferr_irac_i4</th><th>m_irac_i4</th><th>merr_irac_i4</th><th>flag_irac_i4</th></tr></thead>\n",
       "<thead><tr><th></th><th></th><th>deg</th><th>deg</th><th></th><th></th><th></th><th></th><th>uJy</th><th>uJy</th><th>mag</th><th>mag</th><th></th><th>uJy</th><th>uJy</th><th>mag</th><th>mag</th><th></th><th>uJy</th><th>uJy</th><th></th><th>uJy</th><th>uJy</th><th>uJy</th><th>uJy</th><th>uJy</th><th>uJy</th><th></th><th>uJy</th><th>uJy</th><th></th><th>uJy</th><th>uJy</th><th></th><th></th><th></th><th></th><th></th><th></th><th></th><th></th><th></th><th></th><th>uJy</th><th>uJy</th><th>mag</th><th>mag</th><th></th><th>uJy</th><th>uJy</th><th>mag</th><th>mag</th><th></th><th>uJy</th><th>uJy</th><th>mag</th><th>mag</th><th></th><th>uJy</th><th>uJy</th><th>mag</th><th>mag</th><th></th><th>uJy</th><th>uJy</th><th>mag</th><th>mag</th><th></th><th>uJy</th><th>uJy</th><th>mag</th><th>mag</th><th></th><th>uJy</th><th>uJy</th><th>mag</th><th>mag</th><th></th><th>uJy</th><th>uJy</th><th>mag</th><th>mag</th><th></th><th>uJy</th><th>uJy</th><th>mag</th><th>mag</th><th></th><th>uJy</th><th>uJy</th><th>mag</th><th>mag</th><th></th><th>uJy</th><th>uJy</th><th>mag</th><th>mag</th><th></th><th>uJy</th><th>uJy</th><th>mag</th><th>mag</th><th></th></tr></thead>\n",
       "<thead><tr><th>bytes27</th><th>bytes18</th><th>float64</th><th>float64</th><th>int64</th><th>float64</th><th>float64</th><th>float64</th><th>float64</th><th>float64</th><th>float64</th><th>float64</th><th>bool</th><th>float64</th><th>float64</th><th>float64</th><th>float64</th><th>bool</th><th>float32</th><th>float32</th><th>bool</th><th>float32</th><th>float32</th><th>float32</th><th>float32</th><th>float32</th><th>float32</th><th>bool</th><th>float32</th><th>float32</th><th>bool</th><th>float32</th><th>float32</th><th>bool</th><th>float64</th><th>bytes20</th><th>bool</th><th>bool</th><th>int64</th><th>int64</th><th>int64</th><th>int64</th><th>bool</th><th>float64</th><th>float64</th><th>float64</th><th>float64</th><th>bool</th><th>float64</th><th>float64</th><th>float64</th><th>float64</th><th>bool</th><th>float64</th><th>float64</th><th>float64</th><th>float64</th><th>bool</th><th>float64</th><th>float64</th><th>float64</th><th>float64</th><th>bool</th><th>float64</th><th>float64</th><th>float64</th><th>float64</th><th>bool</th><th>float64</th><th>float64</th><th>float64</th><th>float64</th><th>bool</th><th>float64</th><th>float64</th><th>float64</th><th>float64</th><th>bool</th><th>float64</th><th>float64</th><th>float64</th><th>float64</th><th>bool</th><th>float64</th><th>float64</th><th>float64</th><th>float64</th><th>bool</th><th>float64</th><th>float64</th><th>float64</th><th>float64</th><th>bool</th><th>float64</th><th>float64</th><th>float64</th><th>float64</th><th>bool</th><th>float64</th><th>float64</th><th>float64</th><th>float64</th><th>bool</th></tr></thead>\n",
       "<tr><td>HELP_J174958.317+661836.745</td><td>AKARI-NEP</td><td>267.492987431287</td><td>66.3102069321774</td><td>190145243</td><td>0.033387688106114165</td><td>0.5543649792671204</td><td>nan</td><td>45.202239990234375</td><td>2.2023754119873047</td><td>19.762100219726562</td><td>0.05290000140666962</td><td>False</td><td>33.83454132080078</td><td>1.9009284973144531</td><td>20.07659912109375</td><td>0.061000000685453415</td><td>False</td><td>402.1716</td><td>595.37256</td><td>True</td><td>nan</td><td>nan</td><td>nan</td><td>nan</td><td>2121.0498</td><td>3132.9673</td><td>True</td><td>2661.1948</td><td>3147.8647</td><td>True</td><td>5823.619</td><td>5904.3584</td><td>True</td><td>0.07000000029802322</td><td>irac_stellarity</td><td>False</td><td>False</td><td>0</td><td>5</td><td>5</td><td>-99</td><td>False</td><td>nan</td><td>nan</td><td>nan</td><td>nan</td><td>False</td><td>nan</td><td>nan</td><td>nan</td><td>nan</td><td>False</td><td>5.004949724002007</td><td>0.7662706259906309</td><td>22.151500701904297</td><td>0.1662289947271347</td><td>False</td><td>13.118362834413999</td><td>0.8155901192139533</td><td>21.105300903320312</td><td>0.06750199943780899</td><td>False</td><td>20.97393124912173</td><td>4.2283169924751745</td><td>20.595800399780273</td><td>0.2188829928636551</td><td>False</td><td>30.854588817745707</td><td>7.23153243970557</td><td>20.176700592041016</td><td>0.25446900725364685</td><td>False</td><td>nan</td><td>nan</td><td>nan</td><td>nan</td><td>False</td><td>nan</td><td>nan</td><td>nan</td><td>nan</td><td>False</td><td>nan</td><td>nan</td><td>nan</td><td>nan</td><td>False</td><td>nan</td><td>nan</td><td>nan</td><td>nan</td><td>False</td><td>nan</td><td>nan</td><td>nan</td><td>nan</td><td>True</td><td>nan</td><td>nan</td><td>nan</td><td>nan</td><td>True</td></tr>\n",
       "<tr><td>HELP_J174958.976+661841.815</td><td>AKARI-NEP</td><td>267.495734291287</td><td>66.3116153421774</td><td>190145243</td><td>0.03337325314561728</td><td>nan</td><td>nan</td><td>26.19872283935547</td><td>2.1258456707000732</td><td>20.354299545288086</td><td>0.08810000121593475</td><td>False</td><td>12.88486099243164</td><td>1.789603352546692</td><td>21.124799728393555</td><td>0.15080000460147858</td><td>False</td><td>336.59177</td><td>525.26245</td><td>True</td><td>nan</td><td>nan</td><td>nan</td><td>nan</td><td>1335.3774</td><td>1936.1816</td><td>True</td><td>1689.2697</td><td>2537.146</td><td>True</td><td>3819.2466</td><td>5055.3735</td><td>True</td><td>0.20000000298023224</td><td>irac_stellarity</td><td>False</td><td>False</td><td>0</td><td>5</td><td>5</td><td>-99</td><td>False</td><td>nan</td><td>nan</td><td>nan</td><td>nan</td><td>False</td><td>1.6530278930647855</td><td>0.7581522520049238</td><td>23.354299545288086</td><td>0.497967004776001</td><td>False</td><td>6.85173130489252</td><td>0.5283551807900024</td><td>21.81049919128418</td><td>0.0837239995598793</td><td>False</td><td>15.51530055228207</td><td>1.0254447203448556</td><td>20.923099517822266</td><td>0.07175900042057037</td><td>False</td><td>27.509327932148043</td><td>2.1780214833164258</td><td>20.301300048828125</td><td>0.08596199750900269</td><td>False</td><td>22.00494534359914</td><td>3.9840047636574916</td><td>20.543699264526367</td><td>0.19657300412654877</td><td>False</td><td>nan</td><td>nan</td><td>nan</td><td>nan</td><td>False</td><td>nan</td><td>nan</td><td>nan</td><td>nan</td><td>False</td><td>nan</td><td>nan</td><td>nan</td><td>nan</td><td>False</td><td>nan</td><td>nan</td><td>nan</td><td>nan</td><td>False</td><td>nan</td><td>nan</td><td>nan</td><td>nan</td><td>True</td><td>nan</td><td>nan</td><td>nan</td><td>nan</td><td>True</td></tr>\n",
       "<tr><td>HELP_J174959.565+661835.133</td><td>AKARI-NEP</td><td>267.498188511287</td><td>66.3097591121774</td><td>190145243</td><td>0.03334938141860663</td><td>0.2818176746368408</td><td>nan</td><td>38.40959930419922</td><td>3.169738531112671</td><td>19.938899993896484</td><td>0.08959999680519104</td><td>False</td><td>21.631175994873047</td><td>2.2154428958892822</td><td>20.562299728393555</td><td>0.1111999973654747</td><td>False</td><td>914.50653</td><td>549.5892</td><td>False</td><td>nan</td><td>nan</td><td>nan</td><td>nan</td><td>4204.2817</td><td>3922.559</td><td>True</td><td>2082.5042</td><td>2704.8416</td><td>True</td><td>3206.0872</td><td>4480.16</td><td>True</td><td>0.05000000074505806</td><td>irac_stellarity</td><td>False</td><td>False</td><td>0</td><td>5</td><td>5</td><td>-99</td><td>False</td><td>nan</td><td>nan</td><td>nan</td><td>nan</td><td>False</td><td>8.53885598194625</td><td>1.475520521644639</td><td>21.571500778198242</td><td>0.1876160055398941</td><td>False</td><td>16.918433082077147</td><td>1.1710525226123156</td><td>20.829099655151367</td><td>0.07515200227499008</td><td>False</td><td>24.52676092196749</td><td>0.9036670733735698</td><td>20.425899505615234</td><td>0.04000300168991089</td><td>False</td><td>29.30352465517938</td><td>2.652424300670914</td><td>20.23270034790039</td><td>0.09827599674463272</td><td>False</td><td>26.826253738018053</td><td>7.0610712467169074</td><td>20.32859992980957</td><td>0.28578200936317444</td><td>False</td><td>nan</td><td>nan</td><td>nan</td><td>nan</td><td>False</td><td>nan</td><td>nan</td><td>nan</td><td>nan</td><td>False</td><td>nan</td><td>nan</td><td>nan</td><td>nan</td><td>False</td><td>nan</td><td>nan</td><td>nan</td><td>nan</td><td>False</td><td>nan</td><td>nan</td><td>nan</td><td>nan</td><td>True</td><td>nan</td><td>nan</td><td>nan</td><td>nan</td><td>True</td></tr>\n",
       "<tr><td>HELP_J175001.532+661913.701</td><td>AKARI-NEP</td><td>267.506383251287</td><td>66.3204725821774</td><td>190145265</td><td>0.03335051886691713</td><td>nan</td><td>nan</td><td>19.61191749572754</td><td>1.7503281831741333</td><td>20.668699264526367</td><td>0.09690000116825104</td><td>False</td><td>14.04365062713623</td><td>1.3141634464263916</td><td>21.031299591064453</td><td>0.10159999877214432</td><td>False</td><td>1180.7324</td><td>614.0697</td><td>False</td><td>nan</td><td>nan</td><td>nan</td><td>nan</td><td>816.3589</td><td>1274.2788</td><td>True</td><td>1135.5914</td><td>1824.1044</td><td>True</td><td>1216.8177</td><td>1899.7145</td><td>True</td><td>0.9100000262260437</td><td>irac_stellarity</td><td>False</td><td>False</td><td>0</td><td>5</td><td>5</td><td>-99</td><td>False</td><td>nan</td><td>nan</td><td>nan</td><td>nan</td><td>False</td><td>2.109598602566689</td><td>0.6096316888008567</td><td>23.089500427246094</td><td>0.31375598907470703</td><td>False</td><td>4.717587240890288</td><td>1.1395263022640327</td><td>22.215700149536133</td><td>0.26225799322128296</td><td>False</td><td>17.45662556480822</td><td>0.8370121950704588</td><td>20.79509925842285</td><td>0.05205899849534035</td><td>False</td><td>24.210278558680095</td><td>2.145114723931328</td><td>20.440000534057617</td><td>0.09619999676942825</td><td>False</td><td>32.58366094167277</td><td>4.1425215424006065</td><td>20.11750030517578</td><td>0.13803499937057495</td><td>False</td><td>nan</td><td>nan</td><td>nan</td><td>nan</td><td>False</td><td>nan</td><td>nan</td><td>nan</td><td>nan</td><td>False</td><td>nan</td><td>nan</td><td>nan</td><td>nan</td><td>False</td><td>nan</td><td>nan</td><td>nan</td><td>nan</td><td>False</td><td>nan</td><td>nan</td><td>nan</td><td>nan</td><td>True</td><td>nan</td><td>nan</td><td>nan</td><td>nan</td><td>True</td></tr>\n",
       "<tr><td>HELP_J175001.906+661938.012</td><td>AKARI-NEP</td><td>267.507943741287</td><td>66.3272255221774</td><td>190145276</td><td>0.03338525906921965</td><td>nan</td><td>nan</td><td>38.39543151855469</td><td>2.072301149368286</td><td>19.939300537109375</td><td>0.05860000103712082</td><td>False</td><td>30.096805572509766</td><td>1.8156720399856567</td><td>20.203699111938477</td><td>0.06549999862909317</td><td>False</td><td>649.95386</td><td>608.5565</td><td>False</td><td>nan</td><td>nan</td><td>nan</td><td>nan</td><td>1601.196</td><td>2289.513</td><td>True</td><td>1790.255</td><td>2890.478</td><td>True</td><td>1899.7079</td><td>2536.2158</td><td>True</td><td>0.1599999964237213</td><td>irac_stellarity</td><td>False</td><td>False</td><td>0</td><td>5</td><td>5</td><td>-99</td><td>False</td><td>nan</td><td>nan</td><td>nan</td><td>nan</td><td>False</td><td>4.365161389769828</td><td>0.3500013290568288</td><td>22.299999237060547</td><td>0.08705499768257141</td><td>False</td><td>8.692812432857313</td><td>0.5827360733742392</td><td>21.552099227905273</td><td>0.07278399914503098</td><td>False</td><td>29.16081462534179</td><td>0.9655756466964359</td><td>20.238000869750977</td><td>0.035950999706983566</td><td>False</td><td>45.11909204847446</td><td>2.702193246571466</td><td>19.76409912109375</td><td>0.06502500176429749</td><td>False</td><td>47.876262473301324</td><td>6.391975910092252</td><td>19.69969940185547</td><td>0.14495700597763062</td><td>False</td><td>nan</td><td>nan</td><td>nan</td><td>nan</td><td>False</td><td>nan</td><td>nan</td><td>nan</td><td>nan</td><td>False</td><td>nan</td><td>nan</td><td>nan</td><td>nan</td><td>False</td><td>nan</td><td>nan</td><td>nan</td><td>nan</td><td>False</td><td>nan</td><td>nan</td><td>nan</td><td>nan</td><td>True</td><td>nan</td><td>nan</td><td>nan</td><td>nan</td><td>True</td></tr>\n",
       "</table>"
      ],
      "text/plain": [
       "<Table length=5>\n",
       "          help_id             field   ... merr_irac_i4 flag_irac_i4\n",
       "                                      ...     mag                  \n",
       "          bytes27            bytes18  ...   float64        bool    \n",
       "--------------------------- --------- ... ------------ ------------\n",
       "HELP_J174958.317+661836.745 AKARI-NEP ...          nan         True\n",
       "HELP_J174958.976+661841.815 AKARI-NEP ...          nan         True\n",
       "HELP_J174959.565+661835.133 AKARI-NEP ...          nan         True\n",
       "HELP_J175001.532+661913.701 AKARI-NEP ...          nan         True\n",
       "HELP_J175001.906+661938.012 AKARI-NEP ...          nan         True"
      ]
     },
     "execution_count": 24,
     "metadata": {},
     "output_type": "execute_result"
    }
   ],
   "source": [
    "full_cat[:5]"
   ]
  },
  {
   "cell_type": "code",
   "execution_count": 25,
   "metadata": {},
   "outputs": [
    {
     "data": {
      "text/plain": [
       "95157"
      ]
     },
     "execution_count": 25,
     "metadata": {},
     "output_type": "execute_result"
    }
   ],
   "source": [
    "len(full_cat)"
   ]
  },
  {
   "cell_type": "code",
   "execution_count": 26,
   "metadata": {},
   "outputs": [
    {
     "data": {
      "text/plain": [
       "103"
      ]
     },
     "execution_count": 26,
     "metadata": {},
     "output_type": "execute_result"
    }
   ],
   "source": [
    "len(full_cat.colnames)"
   ]
  },
  {
   "cell_type": "code",
   "execution_count": 27,
   "metadata": {},
   "outputs": [
    {
     "data": {
      "text/plain": [
       "['help_id',\n",
       " 'field',\n",
       " 'ra',\n",
       " 'dec',\n",
       " 'hp_idx',\n",
       " 'ebv',\n",
       " 'redshift',\n",
       " 'zspec',\n",
       " 'f_irac_i1',\n",
       " 'ferr_irac_i1',\n",
       " 'm_irac_i1',\n",
       " 'merr_irac_i1',\n",
       " 'flag_irac_i1',\n",
       " 'f_irac_i2',\n",
       " 'ferr_irac_i2',\n",
       " 'm_irac_i2',\n",
       " 'merr_irac_i2',\n",
       " 'flag_irac_i2',\n",
       " 'f_mips_24',\n",
       " 'ferr_mips_24',\n",
       " 'flag_mips_24',\n",
       " 'f_pacs_green',\n",
       " 'ferr_pacs_green',\n",
       " 'f_pacs_red',\n",
       " 'ferr_pacs_red',\n",
       " 'f_spire_250',\n",
       " 'ferr_spire_250',\n",
       " 'flag_spire_250',\n",
       " 'f_spire_350',\n",
       " 'ferr_spire_350',\n",
       " 'flag_spire_350',\n",
       " 'f_spire_500',\n",
       " 'ferr_spire_500',\n",
       " 'flag_spire_500',\n",
       " 'stellarity',\n",
       " 'stellarity_origin',\n",
       " 'flag_cleaned',\n",
       " 'flag_merged',\n",
       " 'flag_gaia',\n",
       " 'flag_optnir_obs',\n",
       " 'flag_optnir_det',\n",
       " 'zspec_qual',\n",
       " 'zspec_association_flag',\n",
       " 'f_best_u',\n",
       " 'ferr_best_u',\n",
       " 'm_best_u',\n",
       " 'merr_best_u',\n",
       " 'flag_best_u',\n",
       " 'f_best_g',\n",
       " 'ferr_best_g',\n",
       " 'm_best_g',\n",
       " 'merr_best_g',\n",
       " 'flag_best_g',\n",
       " 'f_best_r',\n",
       " 'ferr_best_r',\n",
       " 'm_best_r',\n",
       " 'merr_best_r',\n",
       " 'flag_best_r',\n",
       " 'f_best_i',\n",
       " 'ferr_best_i',\n",
       " 'm_best_i',\n",
       " 'merr_best_i',\n",
       " 'flag_best_i',\n",
       " 'f_best_z',\n",
       " 'ferr_best_z',\n",
       " 'm_best_z',\n",
       " 'merr_best_z',\n",
       " 'flag_best_z',\n",
       " 'f_best_y',\n",
       " 'ferr_best_y',\n",
       " 'm_best_y',\n",
       " 'merr_best_y',\n",
       " 'flag_best_y',\n",
       " 'f_best_j',\n",
       " 'ferr_best_j',\n",
       " 'm_best_j',\n",
       " 'merr_best_j',\n",
       " 'flag_best_j',\n",
       " 'f_best_h',\n",
       " 'ferr_best_h',\n",
       " 'm_best_h',\n",
       " 'merr_best_h',\n",
       " 'flag_best_h',\n",
       " 'f_best_k',\n",
       " 'ferr_best_k',\n",
       " 'm_best_k',\n",
       " 'merr_best_k',\n",
       " 'flag_best_k',\n",
       " 'f_best_ks',\n",
       " 'ferr_best_ks',\n",
       " 'm_best_ks',\n",
       " 'merr_best_ks',\n",
       " 'flag_best_ks',\n",
       " 'f_irac_i3',\n",
       " 'ferr_irac_i3',\n",
       " 'm_irac_i3',\n",
       " 'merr_irac_i3',\n",
       " 'flag_irac_i3',\n",
       " 'f_irac_i4',\n",
       " 'ferr_irac_i4',\n",
       " 'm_irac_i4',\n",
       " 'merr_irac_i4',\n",
       " 'flag_irac_i4']"
      ]
     },
     "execution_count": 27,
     "metadata": {},
     "output_type": "execute_result"
    }
   ],
   "source": [
    "full_cat.colnames"
   ]
  },
  {
   "cell_type": "code",
   "execution_count": 28,
   "metadata": {},
   "outputs": [
    {
     "data": {
      "text/html": [
       "<i>Table masked=True length=5</i>\n",
       "<table id=\"table4877783840\" class=\"table-striped table-bordered table-condensed\">\n",
       "<thead><tr><th>help_id</th><th>best_u</th><th>best_g</th><th>best_r</th><th>best_i</th><th>best_z</th><th>best_y</th><th>best_j</th><th>best_h</th><th>best_k</th><th>best_ks</th></tr></thead>\n",
       "<thead><tr><th>bytes27</th><th>str18</th><th>str18</th><th>str18</th><th>str18</th><th>str18</th><th>str18</th><th>str18</th><th>str18</th><th>str18</th><th>str18</th></tr></thead>\n",
       "<tr><td>HELP_J174958.317+661836.745</td><td>band_not_available</td><td>band_not_available</td><td>gpc1_r</td><td>gpc1_i</td><td>gpc1_z</td><td>gpc1_y</td><td>band_not_available</td><td>band_not_available</td><td>band_not_available</td><td>band_not_available</td></tr>\n",
       "<tr><td>HELP_J174958.976+661841.815</td><td>band_not_available</td><td>gpc1_g</td><td>gpc1_r</td><td>gpc1_i</td><td>gpc1_z</td><td>gpc1_y</td><td>band_not_available</td><td>band_not_available</td><td>band_not_available</td><td>band_not_available</td></tr>\n",
       "<tr><td>HELP_J174959.565+661835.133</td><td>band_not_available</td><td>gpc1_g</td><td>gpc1_r</td><td>gpc1_i</td><td>gpc1_z</td><td>gpc1_y</td><td>band_not_available</td><td>band_not_available</td><td>band_not_available</td><td>band_not_available</td></tr>\n",
       "<tr><td>HELP_J175001.532+661913.701</td><td>band_not_available</td><td>gpc1_g</td><td>gpc1_r</td><td>gpc1_i</td><td>gpc1_z</td><td>gpc1_y</td><td>band_not_available</td><td>band_not_available</td><td>band_not_available</td><td>band_not_available</td></tr>\n",
       "<tr><td>HELP_J175001.906+661938.012</td><td>band_not_available</td><td>gpc1_g</td><td>gpc1_r</td><td>gpc1_i</td><td>gpc1_z</td><td>gpc1_y</td><td>band_not_available</td><td>band_not_available</td><td>band_not_available</td><td>band_not_available</td></tr>\n",
       "</table>"
      ],
      "text/plain": [
       "<Table masked=True length=5>\n",
       "          help_id                 best_u       ...      best_ks      \n",
       "          bytes27                 str18        ...       str18       \n",
       "--------------------------- ------------------ ... ------------------\n",
       "HELP_J174958.317+661836.745 band_not_available ... band_not_available\n",
       "HELP_J174958.976+661841.815 band_not_available ... band_not_available\n",
       "HELP_J174959.565+661835.133 band_not_available ... band_not_available\n",
       "HELP_J175001.532+661913.701 band_not_available ... band_not_available\n",
       "HELP_J175001.906+661938.012 band_not_available ... band_not_available"
      ]
     },
     "execution_count": 28,
     "metadata": {},
     "output_type": "execute_result"
    }
   ],
   "source": [
    "full_sources[:5]"
   ]
  },
  {
   "cell_type": "code",
   "execution_count": 29,
   "metadata": {},
   "outputs": [
    {
     "name": "stdout",
     "output_type": "stream",
     "text": [
      "mkdir: data: File exists\r\n"
     ]
    }
   ],
   "source": [
    "!mkdir data\n",
    "full_cat = add_column_meta(full_cat, 'columns.yml')\n",
    "full_cat.write('./data/HELP_all_sky_A-list_{}.fits'.format(SUFFIX), overwrite=True)\n",
    "#full_cat.write('./data/HELP_all_sky_xid_A-list_{}.csv'.format(SUFFIX), overwrite=True)\n",
    "full_sources.write('./data/HELP_all_sky_xid_objects_sources_{}.fits'.format(SUFFIX), overwrite=True)\n",
    "#full_sources.write('./data/HELP_all_sky_xid_objects_sources_{}.csv'.format(SUFFIX), overwrite=True)"
   ]
  }
 ],
 "metadata": {
  "kernelspec": {
   "display_name": "Python (herschelhelp_internal)",
   "language": "python",
   "name": "helpint"
  },
  "language_info": {
   "codemirror_mode": {
    "name": "ipython",
    "version": 3
   },
   "file_extension": ".py",
   "mimetype": "text/x-python",
   "name": "python",
   "nbconvert_exporter": "python",
   "pygments_lexer": "ipython3",
   "version": "3.6.10"
  }
 },
 "nbformat": 4,
 "nbformat_minor": 4
}
