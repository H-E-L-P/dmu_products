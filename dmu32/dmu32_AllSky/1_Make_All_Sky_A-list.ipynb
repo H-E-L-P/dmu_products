{
 "cells": [
  {
   "cell_type": "markdown",
   "metadata": {},
   "source": [
    "# Make the A-list\n",
    "\n",
    "The A-list is the list of objects with all final products XID+ fluxes, redshift, and CIGALE physical properties.\n",
    "\n",
    "Here we will loop over all the final catalogues, take the xid+ objects, and the set of columns present on every field. We will also add new 'best' photometry where for every common band type we take the valeu with the lowest error."
   ]
  },
  {
   "cell_type": "code",
   "execution_count": 1,
   "metadata": {},
   "outputs": [
    {
     "name": "stdout",
     "output_type": "stream",
     "text": [
      "This notebook was run with herschelhelp_internal version: \n",
      "1407877 (Mon Feb 4 12:56:29 2019 +0000)\n",
      "This notebook was executed on: \n",
      "2020-10-29 21:27:47.400617\n"
     ]
    }
   ],
   "source": [
    "from herschelhelp_internal import git_version\n",
    "print(\"This notebook was run with herschelhelp_internal version: \\n{}\".format(git_version()))\n",
    "import datetime\n",
    "print(\"This notebook was executed on: \\n{}\".format(datetime.datetime.now()))"
   ]
  },
  {
   "cell_type": "code",
   "execution_count": 2,
   "metadata": {},
   "outputs": [
    {
     "name": "stdout",
     "output_type": "stream",
     "text": [
      "20201029\n"
     ]
    }
   ],
   "source": [
    "from astropy.table import Table, vstack\n",
    "import glob\n",
    "import yaml\n",
    "import time\n",
    "import os\n",
    "import numpy as np\n",
    "from herschelhelp_internal.utils import add_column_meta\n",
    "SUFFIX = os.environ.get('SUFFIX', time.strftime(\"%Y%m%d\"))\n",
    "print(SUFFIX)\n",
    "\n",
    "MAKE_FULL = False"
   ]
  },
  {
   "cell_type": "code",
   "execution_count": 3,
   "metadata": {},
   "outputs": [],
   "source": [
    "bands = ['u', 'g', 'r', 'i', 'z', 'y', 'j', 'h', 'k', 'ks']\n",
    "always_keep = ['irac','mips','pacs','spire', 'best']"
   ]
  },
  {
   "cell_type": "code",
   "execution_count": 4,
   "metadata": {},
   "outputs": [],
   "source": [
    "meta_files = glob.glob('../*/meta_main.yml')"
   ]
  },
  {
   "cell_type": "code",
   "execution_count": 5,
   "metadata": {},
   "outputs": [
    {
     "data": {
      "text/plain": [
       "['../dmu32_COSMOS/meta_main.yml',\n",
       " '../dmu32_ELAIS-S1/meta_main.yml',\n",
       " '../dmu32_GAMA-09/meta_main.yml',\n",
       " '../dmu32_Lockman-SWIRE/meta_main.yml',\n",
       " '../dmu32_ELAIS-N2/meta_main.yml',\n",
       " '../dmu32_Herschel-Stripe-82/meta_main.yml',\n",
       " '../dmu32_SA13/meta_main.yml',\n",
       " '../dmu32_GAMA-12/meta_main.yml',\n",
       " '../dmu32_GAMA-15/meta_main.yml',\n",
       " '../dmu32_AKARI-SEP/meta_main.yml',\n",
       " '../dmu32_SGP/meta_main.yml',\n",
       " '../dmu32_xFLS/meta_main.yml',\n",
       " '../dmu32_CDFS-SWIRE/meta_main.yml',\n",
       " '../dmu32_SSDF/meta_main.yml',\n",
       " '../dmu32_XMM-LSS/meta_main.yml',\n",
       " '../dmu32_SPIRE-NEP/meta_main.yml',\n",
       " '../dmu32_AKARI-NEP/meta_main.yml',\n",
       " '../dmu32_ELAIS-N1/meta_main.yml',\n",
       " '../dmu32_NGP/meta_main.yml',\n",
       " '../dmu32_XMM-13hr/meta_main.yml',\n",
       " '../dmu32_Bootes/meta_main.yml',\n",
       " '../dmu32_HDF-N/meta_main.yml',\n",
       " '../dmu32_EGS/meta_main.yml']"
      ]
     },
     "execution_count": 5,
     "metadata": {},
     "output_type": "execute_result"
    }
   ],
   "source": [
    "meta_files"
   ]
  },
  {
   "cell_type": "code",
   "execution_count": 7,
   "metadata": {},
   "outputs": [],
   "source": [
    "def get_best_flux(table, band):\n",
    "    \"Return the lowest error non nan band \"\n",
    "    table=table.copy()\n",
    "    f_best = np.full(len(table), np.nan)\n",
    "    ferr_best = np.full(len(table), np.nan)\n",
    "    m_best= np.full(len(table), np.nan)\n",
    "    merr_best= np.full(len(table), np.nan)\n",
    "    flag_best= np.full(len(table), False)\n",
    "    camera = np.full(len(table), 'band_not_available')\n",
    "    \n",
    "    for col in table.colnames:\n",
    "        if (col.startswith('m_') \n",
    "            and (not col.startswith('m_ap'))\n",
    "            and col.endswith('_{}'.format(band))):\n",
    "            #replace all nans\n",
    "            m1 = np.isnan(f_best)\n",
    "            f_best[m1] = table[m1]['f' + col[1:]]\n",
    "            ferr_best[m1] = table[m1]['ferr' + col[1:]]\n",
    "            m_best[m1] = table[m1][col]\n",
    "            merr_best[m1] = table[m1]['merr' + col[1:]]\n",
    "            try:\n",
    "                flag_best[m1] = table[m1]['flag' + col[1:]]\n",
    "            except:\n",
    "                'NO FLAG COL FOR {}'.format(col)\n",
    "            m1= m1 & (~np.isnan(table[col]))\n",
    "            camera[m1] = np.full(np.sum(m1),col[2:])\n",
    "            #replace all with larger flux error\n",
    "            m2 = table['ferr' + col[1:]] < ferr_best\n",
    "            f_best[m2] = table[m2]['f' + col[1:]]\n",
    "            ferr_best[m2] = table[m2]['ferr' + col[1:]]\n",
    "            m_best[m2] = table[m2][col]\n",
    "            merr_best[m2] = table[m2]['merr' + col[1:]]\n",
    "            try:\n",
    "                flag_best[m2] = table[m2]['flag' + col[1:]]\n",
    "            except:\n",
    "                'NO FLAG COL FOR {}'.format(col)\n",
    "            camera[m2] = np.full(np.sum(m2),col.split('_')[-2])\n",
    "    \n",
    "    return f_best, ferr_best, m_best, merr_best, flag_best, camera\n",
    "    \n",
    "def remove_specific_bands(table, bands_to_keep):\n",
    "    \"Return the table with all specific band fluxes removed\"\n",
    "    table = table.copy()\n",
    "    cols_to_remove = set()\n",
    "    for col in table.colnames:\n",
    "        if col.startswith('m_ap_'):\n",
    "            to_remove=(\n",
    "                col,  \n",
    "                'merr_ap' + col[4:],\n",
    "                'f_ap' + col[4:],\n",
    "                'ferr_ap' + col[4:]\n",
    "            )\n",
    "            cols_to_remove = cols_to_remove.union(set(to_remove))\n",
    "    \n",
    "    \n",
    "    \n",
    "    for col in table.colnames:\n",
    "        if col.startswith('m_') and (col.split('_')[-2] not in bands_to_keep):\n",
    "            #print(col.split('_')[-2])\n",
    "            to_remove =(\n",
    "                col,  \n",
    "                'merr' + col[1:],\n",
    "                'f' + col[1:],\n",
    "                'ferr' + col[1:],\n",
    "                'flag' + col[1:]\n",
    "                )\n",
    "            cols_to_remove = cols_to_remove.union(set(to_remove))\n",
    "            \n",
    "    #print('Removing ',cols_to_remove)\n",
    "    for c in cols_to_remove:\n",
    "        try:\n",
    "            table.remove_column(c)\n",
    "        except:\n",
    "            continue\n",
    "            #print('Column {} cannot be removed it is not there'.format(c))\n",
    "            \n",
    "            \n",
    "            \n",
    "    return table"
   ]
  },
  {
   "cell_type": "code",
   "execution_count": 8,
   "metadata": {},
   "outputs": [
    {
     "name": "stdout",
     "output_type": "stream",
     "text": [
      "../../dmu32/dmu32_AKARI-NEP/data/AKARI-NEP_20180215.fits\n",
      "Field AKARI-NEP has duplicates... removing them!\n"
     ]
    }
   ],
   "source": [
    "full_cat = Table()\n",
    "full_sources = Table()\n",
    "for meta_file in meta_files: #meta_files[16:17]:\n",
    "    meta = yaml.safe_load(open(meta_file, 'r'))\n",
    "    final_cat_loc = meta['final'].replace('dmu_products', '../..')\n",
    "    #final_cat_loc = final_cat_loc.replace('_cigale','')\n",
    "    #print(final_cat_loc)\n",
    "    try:\n",
    "        final_cat = Table.read(final_cat_loc)\n",
    "        print(final_cat_loc)\n",
    "    except:\n",
    "        continue\n",
    "        \n",
    "    if not MAKE_FULL:\n",
    "        final_cat = final_cat[final_cat['f_spire_500']>0]\n",
    "        \n",
    "    #remove duplicates - this problem will be fixed upstream in dmu2 merging but this is a quick hack\n",
    "    final_cat.sort('help_id')\n",
    "    is_duplicate = final_cat['help_id'][1:] == final_cat['help_id'][:-1]\n",
    "    if np.sum(is_duplicate)>0:\n",
    "        print('Field {} has duplicates... removing them!'.format(meta['field']))\n",
    "    final_cat = final_cat[~np.append(is_duplicate,False)]\n",
    "    \n",
    "    sources = Table()\n",
    "    sources['help_id'] = final_cat['help_id']\n",
    "    \n",
    "    for band in bands:\n",
    "        f_best, ferr_best, m_best, merr_best, flag_best, camera = get_best_flux(final_cat, band)\n",
    "        final_cat['f_best_{}'.format(band)] = f_best\n",
    "        final_cat['ferr_best_{}'.format(band)] = ferr_best\n",
    "        final_cat['m_best_{}'.format(band)] = m_best\n",
    "        final_cat['merr_best_{}'.format(band)] = merr_best\n",
    "        final_cat['flag_best_{}'.format(band)] = flag_best\n",
    "        sources['best_{}'.format(band)] = camera\n",
    "    \n",
    "    \n",
    "    final_cat = remove_specific_bands(final_cat,always_keep)\n",
    "    \n",
    "    if MAKE_FULL:\n",
    "        final_cat.write('./data/{}_best_phot_{}.fits'.format(meta['field'],SUFFIX), overwrite=True)\n",
    "        final_cat = final_cat[final_cat['f_spire_500'] > 0.]\n",
    "    full_cat = vstack([full_cat,final_cat])\n",
    "                                                           \n",
    "    sources.write('./data/{}_best_phot_sources_{}.fits'.format(meta['field'],SUFFIX), overwrite=True)                                                       \n",
    "    full_sources = vstack([full_sources,sources])"
   ]
  },
  {
   "cell_type": "code",
   "execution_count": 9,
   "metadata": {},
   "outputs": [
    {
     "name": "stderr",
     "output_type": "stream",
     "text": [
      "/Users/rs548/GitHub/herschelhelp_internal/herschelhelp_internal/utils.py:357: YAMLLoadWarning: calling yaml.load() without Loader=... is deprecated, as the default Loader is unsafe. Please read https://msg.pyyaml.org/load for full details.\n",
      "  meta = yaml.load(open(column_yml_file, \"r\"))\n"
     ]
    }
   ],
   "source": [
    "full_cat = full_cat.filled()\n",
    "full_cat = add_column_meta(full_cat, 'columns.yml')"
   ]
  },
  {
   "cell_type": "code",
   "execution_count": 10,
   "metadata": {},
   "outputs": [
    {
     "data": {
      "text/html": [
       "<i>Table length=5</i>\n",
       "<table id=\"table4780550912\" class=\"table-striped table-bordered table-condensed\">\n",
       "<thead><tr><th>help_id</th><th>field</th><th>ra</th><th>dec</th><th>hp_idx</th><th>ebv</th><th>redshift</th><th>zspec</th><th>f_irac_i1</th><th>ferr_irac_i1</th><th>m_irac_i1</th><th>merr_irac_i1</th><th>flag_irac_i1</th><th>f_irac_i2</th><th>ferr_irac_i2</th><th>m_irac_i2</th><th>merr_irac_i2</th><th>flag_irac_i2</th><th>f_mips_24</th><th>ferr_mips_24</th><th>flag_mips_24</th><th>f_pacs_green</th><th>ferr_pacs_green</th><th>f_pacs_red</th><th>ferr_pacs_red</th><th>f_spire_250</th><th>ferr_spire_250</th><th>flag_spire_250</th><th>f_spire_350</th><th>ferr_spire_350</th><th>flag_spire_350</th><th>f_spire_500</th><th>ferr_spire_500</th><th>flag_spire_500</th><th>cigale_mstar</th><th>cigale_mstar_err</th><th>cigale_sfr</th><th>cigale_sfr_err</th><th>cigale_dustlumin</th><th>cigale_dustlumin_err</th><th>cigale_dustlumin_ironly</th><th>cigale_dustlumin_ironly_err</th><th>cigale_chi2_opt</th><th>cigale_chi2_ir</th><th>cigale_chi2_red</th><th>cigale_chi2_ironly</th><th>stellarity</th><th>stellarity_origin</th><th>flag_cleaned</th><th>flag_merged</th><th>flag_gaia</th><th>flag_optnir_obs</th><th>flag_optnir_det</th><th>zspec_qual</th><th>zspec_association_flag</th><th>f_best_u</th><th>ferr_best_u</th><th>m_best_u</th><th>merr_best_u</th><th>flag_best_u</th><th>f_best_g</th><th>ferr_best_g</th><th>m_best_g</th><th>merr_best_g</th><th>flag_best_g</th><th>f_best_r</th><th>ferr_best_r</th><th>m_best_r</th><th>merr_best_r</th><th>flag_best_r</th><th>f_best_i</th><th>ferr_best_i</th><th>m_best_i</th><th>merr_best_i</th><th>flag_best_i</th><th>f_best_z</th><th>ferr_best_z</th><th>m_best_z</th><th>merr_best_z</th><th>flag_best_z</th><th>f_best_y</th><th>ferr_best_y</th><th>m_best_y</th><th>merr_best_y</th><th>flag_best_y</th><th>f_best_j</th><th>ferr_best_j</th><th>m_best_j</th><th>merr_best_j</th><th>flag_best_j</th><th>f_best_h</th><th>ferr_best_h</th><th>m_best_h</th><th>merr_best_h</th><th>flag_best_h</th><th>f_best_k</th><th>ferr_best_k</th><th>m_best_k</th><th>merr_best_k</th><th>flag_best_k</th><th>f_best_ks</th><th>ferr_best_ks</th><th>m_best_ks</th><th>merr_best_ks</th><th>flag_best_ks</th></tr></thead>\n",
       "<thead><tr><th></th><th></th><th>deg</th><th>deg</th><th></th><th></th><th></th><th></th><th>uJy</th><th>uJy</th><th>mag</th><th>mag</th><th></th><th>uJy</th><th>uJy</th><th>mag</th><th>mag</th><th></th><th>uJy</th><th>uJy</th><th></th><th>uJy</th><th>uJy</th><th>uJy</th><th>uJy</th><th>uJy</th><th>uJy</th><th></th><th>uJy</th><th>uJy</th><th></th><th>uJy</th><th>uJy</th><th></th><th>solMass</th><th>solMass</th><th>solMass / yr</th><th>solMass / yr</th><th>W</th><th>W</th><th>W</th><th>W</th><th></th><th></th><th></th><th></th><th></th><th></th><th></th><th></th><th></th><th></th><th></th><th></th><th></th><th>uJy</th><th>uJy</th><th>mag</th><th>mag</th><th></th><th>uJy</th><th>uJy</th><th>mag</th><th>mag</th><th></th><th>uJy</th><th>uJy</th><th>mag</th><th>mag</th><th></th><th>uJy</th><th>uJy</th><th>mag</th><th>mag</th><th></th><th>uJy</th><th>uJy</th><th>mag</th><th>mag</th><th></th><th>uJy</th><th>uJy</th><th>mag</th><th>mag</th><th></th><th>uJy</th><th>uJy</th><th>mag</th><th>mag</th><th></th><th>uJy</th><th>uJy</th><th>mag</th><th>mag</th><th></th><th>uJy</th><th>uJy</th><th>mag</th><th>mag</th><th></th><th>uJy</th><th>uJy</th><th>mag</th><th>mag</th><th></th></tr></thead>\n",
       "<thead><tr><th>bytes27</th><th>bytes18</th><th>float64</th><th>float64</th><th>int64</th><th>float64</th><th>float32</th><th>float64</th><th>float32</th><th>float32</th><th>float32</th><th>float32</th><th>bool</th><th>float32</th><th>float32</th><th>float32</th><th>float32</th><th>bool</th><th>float32</th><th>float32</th><th>bool</th><th>float32</th><th>float32</th><th>float32</th><th>float32</th><th>float32</th><th>float32</th><th>bool</th><th>float32</th><th>float32</th><th>bool</th><th>float32</th><th>float32</th><th>bool</th><th>float64</th><th>float64</th><th>float64</th><th>float64</th><th>float64</th><th>float64</th><th>float64</th><th>float64</th><th>float64</th><th>float64</th><th>float64</th><th>float64</th><th>float32</th><th>bytes20</th><th>bool</th><th>bool</th><th>int64</th><th>int64</th><th>int64</th><th>int64</th><th>bool</th><th>float64</th><th>float64</th><th>float64</th><th>float64</th><th>bool</th><th>float64</th><th>float64</th><th>float64</th><th>float64</th><th>bool</th><th>float64</th><th>float64</th><th>float64</th><th>float64</th><th>bool</th><th>float64</th><th>float64</th><th>float64</th><th>float64</th><th>bool</th><th>float64</th><th>float64</th><th>float64</th><th>float64</th><th>bool</th><th>float64</th><th>float64</th><th>float64</th><th>float64</th><th>bool</th><th>float64</th><th>float64</th><th>float64</th><th>float64</th><th>bool</th><th>float64</th><th>float64</th><th>float64</th><th>float64</th><th>bool</th><th>float64</th><th>float64</th><th>float64</th><th>float64</th><th>bool</th><th>float64</th><th>float64</th><th>float64</th><th>float64</th><th>bool</th></tr></thead>\n",
       "<tr><td>HELP_J181356.589+665958.571</td><td>AKARI-NEP</td><td>273.485787131287</td><td>66.9996029321774</td><td>262831462</td><td>0.036399851522255076</td><td>nan</td><td>nan</td><td>37.900066</td><td>1.9408431</td><td>19.9534</td><td>0.0556</td><td>False</td><td>36.680923</td><td>1.9324664</td><td>19.9889</td><td>0.0572</td><td>False</td><td>85.452515</td><td>38.301483</td><td>False</td><td>nan</td><td>nan</td><td>nan</td><td>nan</td><td>4195.308</td><td>4364.9507</td><td>True</td><td>5660.888</td><td>6179.344</td><td>False</td><td>1630.2073</td><td>2417.1064</td><td>True</td><td>nan</td><td>nan</td><td>nan</td><td>nan</td><td>nan</td><td>nan</td><td>nan</td><td>nan</td><td>nan</td><td>nan</td><td>nan</td><td>nan</td><td>0.76</td><td>irac_stellarity</td><td>False</td><td>False</td><td>3</td><td>5</td><td>5</td><td>-99</td><td>False</td><td>nan</td><td>nan</td><td>nan</td><td>nan</td><td>False</td><td>35.98156236951979</td><td>0.8858055968931595</td><td>20.00979995727539</td><td>0.026729000732302666</td><td>False</td><td>68.49829776116444</td><td>1.0793941621935381</td><td>19.310800552368164</td><td>0.01710899919271469</td><td>False</td><td>86.94400756805199</td><td>1.0492671391681063</td><td>19.05190086364746</td><td>0.0131029998883605</td><td>False</td><td>100.03693334658594</td><td>1.5815387893187556</td><td>18.899599075317383</td><td>0.01716499961912632</td><td>False</td><td>99.63232580506615</td><td>5.996827604695528</td><td>18.90399932861328</td><td>0.0653500035405159</td><td>False</td><td>nan</td><td>nan</td><td>nan</td><td>nan</td><td>False</td><td>nan</td><td>nan</td><td>nan</td><td>nan</td><td>False</td><td>nan</td><td>nan</td><td>nan</td><td>nan</td><td>False</td><td>nan</td><td>nan</td><td>nan</td><td>nan</td><td>False</td></tr>\n",
       "<tr><td>HELP_J181406.396+670016.071</td><td>AKARI-NEP</td><td>273.526650511287</td><td>67.0044642821774</td><td>262831450</td><td>0.036585881901268914</td><td>0.45607498</td><td>nan</td><td>17.800825</td><td>1.542785</td><td>20.7739</td><td>0.0941</td><td>False</td><td>14.386659</td><td>1.364812</td><td>21.0051</td><td>0.103</td><td>False</td><td>44.403545</td><td>24.504208</td><td>False</td><td>nan</td><td>nan</td><td>nan</td><td>nan</td><td>4653.2764</td><td>4830.4004</td><td>True</td><td>2211.4094</td><td>3042.1433</td><td>True</td><td>2032.5845</td><td>1706.8987</td><td>True</td><td>nan</td><td>nan</td><td>nan</td><td>nan</td><td>nan</td><td>nan</td><td>nan</td><td>nan</td><td>nan</td><td>nan</td><td>nan</td><td>nan</td><td>0.32</td><td>irac_stellarity</td><td>False</td><td>False</td><td>0</td><td>5</td><td>5</td><td>-99</td><td>False</td><td>nan</td><td>nan</td><td>nan</td><td>nan</td><td>False</td><td>4.620833354176079</td><td>0.681151174696294</td><td>22.23819923400879</td><td>0.1600469946861267</td><td>False</td><td>11.038754491023814</td><td>1.274391282436007</td><td>21.292699813842773</td><td>0.12534500658512115</td><td>False</td><td>14.393280530486644</td><td>1.3328154741906135</td><td>21.004600524902344</td><td>0.10053899884223938</td><td>False</td><td>12.055904486036628</td><td>0.9471958558595952</td><td>21.19700050354004</td><td>0.08530300110578537</td><td>False</td><td>19.462560773039844</td><td>6.6853824788480525</td><td>20.677000045776367</td><td>0.3729499876499176</td><td>False</td><td>nan</td><td>nan</td><td>nan</td><td>nan</td><td>False</td><td>nan</td><td>nan</td><td>nan</td><td>nan</td><td>False</td><td>nan</td><td>nan</td><td>nan</td><td>nan</td><td>False</td><td>nan</td><td>nan</td><td>nan</td><td>nan</td><td>False</td></tr>\n",
       "<tr><td>HELP_J181410.475+670101.991</td><td>AKARI-NEP</td><td>273.543645241287</td><td>67.0172197721774</td><td>262831453</td><td>0.036901768309659404</td><td>nan</td><td>nan</td><td>260.6393</td><td>3.5048425</td><td>17.8599</td><td>0.0146</td><td>False</td><td>149.94087</td><td>2.6239123</td><td>18.4602</td><td>0.019</td><td>False</td><td>37.443405</td><td>25.095058</td><td>False</td><td>nan</td><td>nan</td><td>nan</td><td>nan</td><td>4001.5864</td><td>4336.945</td><td>True</td><td>2557.0242</td><td>3263.943</td><td>True</td><td>679.7049</td><td>823.4715</td><td>True</td><td>nan</td><td>nan</td><td>nan</td><td>nan</td><td>nan</td><td>nan</td><td>nan</td><td>nan</td><td>nan</td><td>nan</td><td>nan</td><td>nan</td><td>0.98</td><td>irac_stellarity</td><td>False</td><td>False</td><td>3</td><td>5</td><td>5</td><td>-99</td><td>False</td><td>nan</td><td>nan</td><td>nan</td><td>nan</td><td>False</td><td>97.2837523980327</td><td>1.0532673513524369</td><td>18.929899215698242</td><td>0.011754999868571758</td><td>False</td><td>233.51772702355368</td><td>0.6873885445717148</td><td>17.97920036315918</td><td>0.003195999888703227</td><td>False</td><td>355.1402800808527</td><td>1.4258126766297612</td><td>17.52400016784668</td><td>0.004358999896794558</td><td>False</td><td>446.2727533453428</td><td>3.7617684191717915</td><td>17.275999069213867</td><td>0.009151999838650227</td><td>False</td><td>481.3710977092091</td><td>8.046968810464183</td><td>17.19379997253418</td><td>0.018149999901652336</td><td>False</td><td>nan</td><td>nan</td><td>nan</td><td>nan</td><td>False</td><td>nan</td><td>nan</td><td>nan</td><td>nan</td><td>False</td><td>nan</td><td>nan</td><td>nan</td><td>nan</td><td>False</td><td>nan</td><td>nan</td><td>nan</td><td>nan</td><td>False</td></tr>\n",
       "<tr><td>HELP_J181415.660+670135.055</td><td>AKARI-NEP</td><td>273.565250621287</td><td>67.02640415217739</td><td>262875142</td><td>0.03714038618076762</td><td>0.47488764</td><td>nan</td><td>40.167927</td><td>2.2678564</td><td>19.8903</td><td>0.0613</td><td>False</td><td>44.156994</td><td>2.7777674</td><td>19.7875</td><td>0.0683</td><td>False</td><td>116.54249</td><td>28.18827</td><td>False</td><td>nan</td><td>nan</td><td>nan</td><td>nan</td><td>2711.872</td><td>2903.9067</td><td>True</td><td>5220.025</td><td>5106.262</td><td>True</td><td>660.5471</td><td>711.3418</td><td>True</td><td>nan</td><td>nan</td><td>nan</td><td>nan</td><td>nan</td><td>nan</td><td>nan</td><td>nan</td><td>nan</td><td>nan</td><td>nan</td><td>nan</td><td>0.04</td><td>irac_stellarity</td><td>False</td><td>False</td><td>0</td><td>5</td><td>5</td><td>-99</td><td>False</td><td>nan</td><td>nan</td><td>nan</td><td>nan</td><td>False</td><td>2.6360863072141365</td><td>0.40724560080906425</td><td>22.84760093688965</td><td>0.16773399710655212</td><td>False</td><td>5.266960466660645</td><td>1.3577216045131002</td><td>22.096099853515625</td><td>0.27988201379776</td><td>False</td><td>6.533708573789715</td><td>0.6535596764075825</td><td>21.86210060119629</td><td>0.10860499739646912</td><td>False</td><td>12.264221459516486</td><td>1.247741504193579</td><td>21.17840003967285</td><td>0.11046099662780762</td><td>False</td><td>21.771086154588325</td><td>9.479501226375438</td><td>20.555299758911133</td><td>0.4727480113506317</td><td>False</td><td>nan</td><td>nan</td><td>nan</td><td>nan</td><td>False</td><td>nan</td><td>nan</td><td>nan</td><td>nan</td><td>False</td><td>nan</td><td>nan</td><td>nan</td><td>nan</td><td>False</td><td>nan</td><td>nan</td><td>nan</td><td>nan</td><td>False</td></tr>\n",
       "<tr><td>HELP_J181416.006+665941.274</td><td>AKARI-NEP</td><td>273.566691051287</td><td>66.9947982121774</td><td>262831443</td><td>0.036694538205482116</td><td>0.43798366</td><td>nan</td><td>68.42903</td><td>2.4390855</td><td>19.3119</td><td>0.0387</td><td>False</td><td>53.688324</td><td>2.01751</td><td>19.5753</td><td>0.0408</td><td>False</td><td>41.612667</td><td>40.419674</td><td>False</td><td>nan</td><td>nan</td><td>nan</td><td>nan</td><td>1871.8276</td><td>2499.7114</td><td>True</td><td>4963.2036</td><td>4197.273</td><td>True</td><td>1915.3066</td><td>1485.479</td><td>True</td><td>nan</td><td>nan</td><td>nan</td><td>nan</td><td>nan</td><td>nan</td><td>nan</td><td>nan</td><td>nan</td><td>nan</td><td>nan</td><td>nan</td><td>0.16</td><td>irac_stellarity</td><td>False</td><td>False</td><td>0</td><td>5</td><td>5</td><td>-99</td><td>False</td><td>nan</td><td>nan</td><td>nan</td><td>nan</td><td>False</td><td>5.6749208459641</td><td>1.0000270856379716</td><td>22.015100479125977</td><td>0.19132700562477112</td><td>False</td><td>17.373197658578974</td><td>2.046086941784043</td><td>20.80030059814453</td><td>0.12786999344825745</td><td>False</td><td>24.42305501749659</td><td>0.785079334271701</td><td>20.430500030517578</td><td>0.03490100055932999</td><td>False</td><td>38.51231901554958</td><td>2.850710409043199</td><td>19.93600082397461</td><td>0.08036699891090393</td><td>False</td><td>36.8943868037544</td><td>7.994638511640594</td><td>19.98259925842285</td><td>0.2352679967880249</td><td>False</td><td>nan</td><td>nan</td><td>nan</td><td>nan</td><td>False</td><td>nan</td><td>nan</td><td>nan</td><td>nan</td><td>False</td><td>nan</td><td>nan</td><td>nan</td><td>nan</td><td>False</td><td>nan</td><td>nan</td><td>nan</td><td>nan</td><td>False</td></tr>\n",
       "</table>"
      ],
      "text/plain": [
       "<Table length=5>\n",
       "          help_id             field   ... merr_best_ks flag_best_ks\n",
       "                                      ...     mag                  \n",
       "          bytes27            bytes18  ...   float64        bool    \n",
       "--------------------------- --------- ... ------------ ------------\n",
       "HELP_J181356.589+665958.571 AKARI-NEP ...          nan        False\n",
       "HELP_J181406.396+670016.071 AKARI-NEP ...          nan        False\n",
       "HELP_J181410.475+670101.991 AKARI-NEP ...          nan        False\n",
       "HELP_J181415.660+670135.055 AKARI-NEP ...          nan        False\n",
       "HELP_J181416.006+665941.274 AKARI-NEP ...          nan        False"
      ]
     },
     "execution_count": 10,
     "metadata": {},
     "output_type": "execute_result"
    }
   ],
   "source": [
    "full_cat[-5:]"
   ]
  },
  {
   "cell_type": "code",
   "execution_count": 13,
   "metadata": {},
   "outputs": [
    {
     "data": {
      "text/plain": [
       "True"
      ]
     },
     "execution_count": 13,
     "metadata": {},
     "output_type": "execute_result"
    }
   ],
   "source": [
    "len(full_cat) == len(np.unique(full_cat['help_id']))"
   ]
  },
  {
   "cell_type": "code",
   "execution_count": 14,
   "metadata": {},
   "outputs": [
    {
     "data": {
      "text/plain": [
       "105"
      ]
     },
     "execution_count": 14,
     "metadata": {},
     "output_type": "execute_result"
    }
   ],
   "source": [
    "len(full_cat.colnames)"
   ]
  },
  {
   "cell_type": "code",
   "execution_count": 15,
   "metadata": {},
   "outputs": [
    {
     "data": {
      "text/plain": [
       "['help_id',\n",
       " 'field',\n",
       " 'ra',\n",
       " 'dec',\n",
       " 'hp_idx',\n",
       " 'ebv',\n",
       " 'redshift',\n",
       " 'zspec',\n",
       " 'f_irac_i1',\n",
       " 'ferr_irac_i1',\n",
       " 'm_irac_i1',\n",
       " 'merr_irac_i1',\n",
       " 'flag_irac_i1',\n",
       " 'f_irac_i2',\n",
       " 'ferr_irac_i2',\n",
       " 'm_irac_i2',\n",
       " 'merr_irac_i2',\n",
       " 'flag_irac_i2',\n",
       " 'f_mips_24',\n",
       " 'ferr_mips_24',\n",
       " 'flag_mips_24',\n",
       " 'f_pacs_green',\n",
       " 'ferr_pacs_green',\n",
       " 'f_pacs_red',\n",
       " 'ferr_pacs_red',\n",
       " 'f_spire_250',\n",
       " 'ferr_spire_250',\n",
       " 'flag_spire_250',\n",
       " 'f_spire_350',\n",
       " 'ferr_spire_350',\n",
       " 'flag_spire_350',\n",
       " 'f_spire_500',\n",
       " 'ferr_spire_500',\n",
       " 'flag_spire_500',\n",
       " 'cigale_mstar',\n",
       " 'cigale_mstar_err',\n",
       " 'cigale_sfr',\n",
       " 'cigale_sfr_err',\n",
       " 'cigale_dustlumin',\n",
       " 'cigale_dustlumin_err',\n",
       " 'cigale_dustlumin_ironly',\n",
       " 'cigale_dustlumin_ironly_err',\n",
       " 'cigale_chi2_opt',\n",
       " 'cigale_chi2_ir',\n",
       " 'cigale_chi2_red',\n",
       " 'cigale_chi2_ironly',\n",
       " 'stellarity',\n",
       " 'stellarity_origin',\n",
       " 'flag_cleaned',\n",
       " 'flag_merged',\n",
       " 'flag_gaia',\n",
       " 'flag_optnir_obs',\n",
       " 'flag_optnir_det',\n",
       " 'zspec_qual',\n",
       " 'zspec_association_flag',\n",
       " 'f_best_u',\n",
       " 'ferr_best_u',\n",
       " 'm_best_u',\n",
       " 'merr_best_u',\n",
       " 'flag_best_u',\n",
       " 'f_best_g',\n",
       " 'ferr_best_g',\n",
       " 'm_best_g',\n",
       " 'merr_best_g',\n",
       " 'flag_best_g',\n",
       " 'f_best_r',\n",
       " 'ferr_best_r',\n",
       " 'm_best_r',\n",
       " 'merr_best_r',\n",
       " 'flag_best_r',\n",
       " 'f_best_i',\n",
       " 'ferr_best_i',\n",
       " 'm_best_i',\n",
       " 'merr_best_i',\n",
       " 'flag_best_i',\n",
       " 'f_best_z',\n",
       " 'ferr_best_z',\n",
       " 'm_best_z',\n",
       " 'merr_best_z',\n",
       " 'flag_best_z',\n",
       " 'f_best_y',\n",
       " 'ferr_best_y',\n",
       " 'm_best_y',\n",
       " 'merr_best_y',\n",
       " 'flag_best_y',\n",
       " 'f_best_j',\n",
       " 'ferr_best_j',\n",
       " 'm_best_j',\n",
       " 'merr_best_j',\n",
       " 'flag_best_j',\n",
       " 'f_best_h',\n",
       " 'ferr_best_h',\n",
       " 'm_best_h',\n",
       " 'merr_best_h',\n",
       " 'flag_best_h',\n",
       " 'f_best_k',\n",
       " 'ferr_best_k',\n",
       " 'm_best_k',\n",
       " 'merr_best_k',\n",
       " 'flag_best_k',\n",
       " 'f_best_ks',\n",
       " 'ferr_best_ks',\n",
       " 'm_best_ks',\n",
       " 'merr_best_ks',\n",
       " 'flag_best_ks']"
      ]
     },
     "execution_count": 15,
     "metadata": {},
     "output_type": "execute_result"
    }
   ],
   "source": [
    "full_cat.colnames"
   ]
  },
  {
   "cell_type": "code",
   "execution_count": 16,
   "metadata": {},
   "outputs": [
    {
     "data": {
      "text/html": [
       "<i>Table masked=True length=5</i>\n",
       "<table id=\"table4780795160\" class=\"table-striped table-bordered table-condensed\">\n",
       "<thead><tr><th>help_id</th><th>best_u</th><th>best_g</th><th>best_r</th><th>best_i</th><th>best_z</th><th>best_y</th><th>best_j</th><th>best_h</th><th>best_k</th><th>best_ks</th></tr></thead>\n",
       "<thead><tr><th>bytes27</th><th>str18</th><th>str18</th><th>str18</th><th>str18</th><th>str18</th><th>str18</th><th>str18</th><th>str18</th><th>str18</th><th>str18</th></tr></thead>\n",
       "<tr><td>HELP_J174000.912+670032.127</td><td>band_not_available</td><td>gpc1_g</td><td>gpc1_r</td><td>gpc1_i</td><td>gpc1_z</td><td>gpc1_y</td><td>band_not_available</td><td>band_not_available</td><td>band_not_available</td><td>band_not_available</td></tr>\n",
       "<tr><td>HELP_J174001.024+670058.153</td><td>band_not_available</td><td>gpc1_g</td><td>gpc1_r</td><td>gpc1_i</td><td>gpc1_z</td><td>gpc1_y</td><td>band_not_available</td><td>band_not_available</td><td>band_not_available</td><td>band_not_available</td></tr>\n",
       "<tr><td>HELP_J174001.478+670105.669</td><td>band_not_available</td><td>gpc1_g</td><td>gpc1_r</td><td>gpc1_i</td><td>gpc1_z</td><td>gpc1_y</td><td>band_not_available</td><td>band_not_available</td><td>band_not_available</td><td>band_not_available</td></tr>\n",
       "<tr><td>HELP_J174001.664+670045.581</td><td>band_not_available</td><td>gpc1_g</td><td>gpc1_r</td><td>gpc1_i</td><td>gpc1_z</td><td>gpc1_y</td><td>band_not_available</td><td>band_not_available</td><td>band_not_available</td><td>band_not_available</td></tr>\n",
       "<tr><td>HELP_J174003.386+670032.139</td><td>band_not_available</td><td>band_not_available</td><td>gpc1_r</td><td>gpc1_i</td><td>gpc1_z</td><td>gpc1_y</td><td>band_not_available</td><td>band_not_available</td><td>band_not_available</td><td>band_not_available</td></tr>\n",
       "</table>"
      ],
      "text/plain": [
       "<Table masked=True length=5>\n",
       "          help_id                 best_u       ...      best_ks      \n",
       "          bytes27                 str18        ...       str18       \n",
       "--------------------------- ------------------ ... ------------------\n",
       "HELP_J174000.912+670032.127 band_not_available ... band_not_available\n",
       "HELP_J174001.024+670058.153 band_not_available ... band_not_available\n",
       "HELP_J174001.478+670105.669 band_not_available ... band_not_available\n",
       "HELP_J174001.664+670045.581 band_not_available ... band_not_available\n",
       "HELP_J174003.386+670032.139 band_not_available ... band_not_available"
      ]
     },
     "execution_count": 16,
     "metadata": {},
     "output_type": "execute_result"
    }
   ],
   "source": [
    "full_sources[:5]"
   ]
  },
  {
   "cell_type": "code",
   "execution_count": 17,
   "metadata": {},
   "outputs": [
    {
     "name": "stdout",
     "output_type": "stream",
     "text": [
      "mkdir: data: File exists\r\n"
     ]
    }
   ],
   "source": [
    "!mkdir data\n",
    "full_cat.write('./data/HELP_all_sky_xid_prior_{}.fits'.format(SUFFIX), overwrite=True)\n",
    "full_sources.write('./data/HELP_all_sky_xid_prior_sources_{}.fits'.format(SUFFIX), overwrite=True)\n",
    "#full_sources.write('./data/HELP_all_sky_xid_objects_sources_{}.csv'.format(SUFFIX), overwrite=True)"
   ]
  },
  {
   "cell_type": "code",
   "execution_count": 18,
   "metadata": {},
   "outputs": [
    {
     "name": "stdout",
     "output_type": "stream",
     "text": [
      "1239\n"
     ]
    }
   ],
   "source": [
    "#just cigale objects to make a smaller file\n",
    "full_cat = full_cat[full_cat['cigale_sfr']>0.]\n",
    "print(len(full_cat))\n",
    "full_cat.write('./data/HELP_all_sky_A-list_{}.fits'.format(SUFFIX), overwrite=True)\n",
    "#full_cat.write('./data/HELP_all_sky_xid_A-list_{}.csv'.format(SUFFIX), overwrite=True)\n",
    "#full_sources.write('./data/HELP_all_sky_xid_objects_sources_{}.fits'.format(SUFFIX), overwrite=True)\n",
    "#full_sources.write('./data/HELP_all_sky_xid_objects_sources_{}.csv'.format(SUFFIX), overwrite=True)"
   ]
  },
  {
   "cell_type": "code",
   "execution_count": null,
   "metadata": {},
   "outputs": [],
   "source": []
  }
 ],
 "metadata": {
  "kernelspec": {
   "display_name": "Python (herschelhelp_internal)",
   "language": "python",
   "name": "helpint"
  },
  "language_info": {
   "codemirror_mode": {
    "name": "ipython",
    "version": 3
   },
   "file_extension": ".py",
   "mimetype": "text/x-python",
   "name": "python",
   "nbconvert_exporter": "python",
   "pygments_lexer": "ipython3",
   "version": "3.6.10"
  }
 },
 "nbformat": 4,
 "nbformat_minor": 4
}
