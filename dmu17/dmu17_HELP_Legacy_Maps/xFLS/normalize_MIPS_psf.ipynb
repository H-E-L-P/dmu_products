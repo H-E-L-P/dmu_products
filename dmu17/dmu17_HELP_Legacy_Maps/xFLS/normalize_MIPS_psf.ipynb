{
 "cells": [
  {
   "cell_type": "markdown",
   "metadata": {},
   "source": [
    "# PSF normalization\n",
    "\n",
    "Let us assume that we have reduced an observation, for which we have determined the PSF by stacking the flux of point-like sources. The PSF we obtain will not be as high S/N as the instrumental PSF that has been determined by the instrument team. Moreover, it is likely to be fattened due to the some small pointing errors. We need to find out what fraction of a point-like flux the PSF we have determined represent. In order to do this, we use the growth curve of the theoretical PSF that has been determine by the instrument team, and compare it to the growth curve we determine from our PSF.\n",
    "\n"
   ]
  },
  {
   "cell_type": "code",
   "execution_count": 1,
   "metadata": {
    "collapsed": true
   },
   "outputs": [],
   "source": [
    "# import what we will need. \n",
    "%matplotlib inline\n",
    "import numpy as np\n",
    "from astropy.io import fits\n",
    "from astropy.table import Table\n",
    "from astropy.io import ascii as asciiread\n",
    "from matplotlib import pyplot as plt\n",
    "from scipy import interpolate \n",
    "from scipy import special\n",
    "from scipy import signal\n",
    "from scipy import fftpack"
   ]
  },
  {
   "cell_type": "markdown",
   "metadata": {},
   "source": [
    "## 2) Real data: MIPS observations\n",
    "\n",
    "We will look at a real stack of point sources in the MIPS ELAIS-N1 observations, and try to find its normalization factor. \n",
    "\n",
    "Let's load the stacked PSF:"
   ]
  },
  {
   "cell_type": "code",
   "execution_count": 2,
   "metadata": {},
   "outputs": [
    {
     "data": {
      "text/plain": [
       "<matplotlib.colorbar.Colorbar at 0x11cb62668>"
      ]
     },
     "execution_count": 2,
     "metadata": {},
     "output_type": "execute_result"
    },
    {
     "data": {
      "image/png": "[encoded data removed]",
      "text/plain": [
       "<matplotlib.figure.Figure at 0x1194d5ba8>"
      ]
     },
     "metadata": {},
     "output_type": "display_data"
    }
   ],
   "source": [
    "stackhd = fits.open('./data/MIPS_PSF_STACK/output_data/psf_hires.fits')\n",
    "psf = stackhd[1].data\n",
    "hd = stackhd[1].header\n",
    "cpix=np.int((hd['NAXIS1']+1)/2.0)\n",
    "rad=40\n",
    "plt.imshow(psf[cpix-rad-1:cpix+rad,cpix-rad-1:cpix+rad])\n",
    "plt.colorbar()\n"
   ]
  },
  {
   "cell_type": "markdown",
   "metadata": {},
   "source": [
    "Note: There is an issues with xFLS in that there is a non-neglibile component i"
   ]
  },
  {
   "cell_type": "code",
   "execution_count": 3,
   "metadata": {
    "collapsed": true
   },
   "outputs": [],
   "source": [
    "resol= 0.5"
   ]
  },
  {
   "cell_type": "markdown",
   "metadata": {},
   "source": [
    "## Read in MIPS 24 $\\mathrm{\\mu m}$ Instrumental PSF\n",
    "We take the instrumental PSF from [Gonzalo J.Aniano's webpage](http://www.astro.princeton.edu/~ganiano/Kernels/Ker_2017/PSF_FITS_Files/)"
   ]
  },
  {
   "cell_type": "code",
   "execution_count": 4,
   "metadata": {
    "collapsed": true
   },
   "outputs": [],
   "source": [
    "insthd = fits.open('../../dmu26/data/ELAIS_N1/MIPS/PSF_Original_MIPS_24.fits.gz')\n",
    "psf_inst_full = insthd[0].data\n",
    "hdinst = insthd[0].header\n"
   ]
  },
  {
   "cell_type": "code",
   "execution_count": 5,
   "metadata": {},
   "outputs": [
    {
     "data": {
      "text/plain": [
       "SIMPLE  =                    T /image conforms to FITS standard                 \n",
       "BITPIX  =                  -32 /bits per data value                             \n",
       "NAXIS   =                    2 /number of axes                                  \n",
       "NAXIS1  =                 4001 /                                                \n",
       "NAXIS2  =                 4001 /                                                \n",
       "EXTEND  =                    T /file may contain extensions                     \n",
       "INSTRUME= '    MIPS_24_micron' / Simulated instrument                           \n",
       "FOCUS   =              -0.1939 / RMS focus in microns                           \n",
       "X_COMA  =               0.0946 / RMS X-coma in microns                          \n",
       "Y_COMA  =              -0.0066 / RMS Y-coma in microns                          \n",
       "X_ASTIG =               0.5911 / RMS 0 degree astigmatism in microns            \n",
       "Y_ASTIG =              -0.1078 / RMS 45 degree astigmatism in microns           \n",
       "SPHERICL=              -0.2730 / RMS 3rd order spherical in microns             \n",
       "PIXSCALX=             0.500000 / Arcseconds per array X pixel                   \n",
       "X_POS   =                   64 / X position of PSF center in detector pixels    \n",
       "Y_POS   =                   64 / Y position of PSF center in detector pixels    \n",
       "SPECTRUM= '    Blackbody(25K)' / Spectrum type or file                          \n",
       "XFIELD  =             -6.71600 / OTA X field position (arcmin)                  \n",
       "YFIELD  =              4.24600 / OTA Y field position (arcmin)                  \n",
       "SCANPOS =             0.000000 / Scan field offset (arcsec)                     \n",
       "CD1_1   =    0.000138888888889 /                                                \n",
       "CD1_2   =                    0 /                                                \n",
       "CD2_1   =                    0 /                                                \n",
       "CD2_2   =    0.000138888888889 /                                                \n",
       "UNITS   = 'counts  '           /Flux normalized to max = 1                      \n",
       "CTYPE1  = 'RA---TAN'           /                                                \n",
       "CTYPE2  = 'DEC--TAN'           /                                                \n",
       "EQUINOX =              2000.00 /                                                \n",
       "CRVAL1  =              0.00000 /                                                \n",
       "CRVAL2  =              0.00000 /                                                \n",
       "CRPIX1  =              2001.00 /                                                \n",
       "CRPIX2  =              2001.00 /                                                \n",
       "COMMENT ===============================================================         \n",
       "COMMENT                                                                         \n",
       "COMMENT This File was written by make_kernel.                                   \n",
       "COMMENT                                                                         \n",
       "COMMENT This run started on 22 March 2017, 12:57                                \n",
       "COMMENT                                                                         \n",
       "COMMENT The file correspond to the MIPS 24um.                                   \n",
       "COMMENT                                                                         \n",
       "COMMENT ===============================================================         "
      ]
     },
     "execution_count": 5,
     "metadata": {},
     "output_type": "execute_result"
    }
   ],
   "source": [
    "hdinst\n"
   ]
  },
  {
   "cell_type": "code",
   "execution_count": 6,
   "metadata": {},
   "outputs": [
    {
     "data": {
      "image/png": "[encoded data removed]",
      "text/plain": [
       "<matplotlib.figure.Figure at 0x11cb2e588>"
      ]
     },
     "metadata": {},
     "output_type": "display_data"
    }
   ],
   "source": [
    "rad=1000\n",
    "cpix=np.int((hdinst['NAXIS1']+1)/2.0)\n",
    "\n",
    "plt.imshow(psf_inst_full[cpix-rad-1:cpix+rad,cpix-rad-1:cpix+rad])\n",
    "#psf_inst=psf_inst_full[hdinst['CRPIX1']-rad-1:hdinst['CRPIX1']+rad,hdinst['CRPIX2']-rad-1:hdinst['CRPIX2']+rad]\n",
    "psf_inst=psf_inst_full[cpix-rad-1:cpix+rad,cpix-rad-1:cpix+rad]"
   ]
  },
  {
   "cell_type": "markdown",
   "metadata": {},
   "source": [
    "### Normalise instrumental PSF such that integral=1"
   ]
  },
  {
   "cell_type": "code",
   "execution_count": 7,
   "metadata": {
    "collapsed": true
   },
   "outputs": [],
   "source": [
    "psf_inst=psf_inst/(np.sum(psf_inst))"
   ]
  },
  {
   "cell_type": "markdown",
   "metadata": {},
   "source": [
    "Now let's build the growthcurve for our PSFs."
   ]
  },
  {
   "cell_type": "code",
   "execution_count": 8,
   "metadata": {
    "collapsed": true
   },
   "outputs": [],
   "source": [
    "# find the brightest pixel, it will be our center.\n",
    "jmax, imax = np.unravel_index(np.argmax(psf), psf.shape)\n",
    "jmax_inst, imax_inst = np.unravel_index(np.argmax(psf_inst), psf_inst.shape)\n"
   ]
  },
  {
   "cell_type": "code",
   "execution_count": 11,
   "metadata": {},
   "outputs": [],
   "source": [
    "# build the array of coordinates\n",
    "x = np.arange(hd['NAXIS1'])\n",
    "y = np.arange(hd['NAXIS2'])\n",
    "xv, yv = np.meshgrid(x, y, sparse=False, indexing='xy')\n",
    "xp = (xv-imax)*(np.abs(hd['CD1_1'])+np.abs(hd['CD1_2']))*3600.\n",
    "yp = (yv-jmax)*(np.abs(hd['CD2_2'])+np.abs(hd['CD2_1']))*3600.\n",
    "r = np.sqrt(xp**2 + yp**2)\n",
    "\n",
    "x_inst = np.arange(1+rad*2)\n",
    "y_inst = np.arange(1+rad*2)\n",
    "xv_inst, yv_inst = np.meshgrid(x_inst, y_inst, sparse=False, indexing='xy')\n",
    "xp_inst = (xv_inst-imax_inst)*np.abs(hdinst['CD1_1']*3600.0)\n",
    "yp_inst = (yv_inst-jmax_inst)*np.abs(hdinst['CD1_1']*3600.0)\n",
    "r_inst = np.sqrt(xp_inst**2 + yp_inst**2)"
   ]
  },
  {
   "cell_type": "code",
   "execution_count": 12,
   "metadata": {},
   "outputs": [],
   "source": [
    "# build the growth curve\n",
    "radii = np.unique(r)\n",
    "encircled_flux = np.zeros(radii.shape)\n",
    "nbpix = np.zeros(radii.shape)\n",
    "for i, radius in enumerate(radii):\n",
    "    idj, idi = np.where(r <= radius)\n",
    "    nbpix[i] =len(idi)\n",
    "    #multiply by ((np.abs(hd['CDELT1'])*3600.)**2)/4.25E10 as map is in units of MJy/sr\n",
    "    encircled_flux[i] = np.sum(psf[idj, idi])*(((np.abs(hd['CD1_1'])+np.abs(hd['CD1_2']))*3600.)**2)/4.25E10"
   ]
  },
  {
   "cell_type": "markdown",
   "metadata": {},
   "source": [
    "Normally we run the code below for the instrumental PSF. This is slow and remains the same for each field so I just load up the result instead."
   ]
  },
  {
   "cell_type": "markdown",
   "metadata": {},
   "source": [
    "``` python\n",
    "radii_inst = np.unique(r_inst)\n",
    "encircled_flux_inst = np.zeros(radii_inst.shape)\n",
    "nbpix_inst = np.zeros(radii_inst.shape)\n",
    "for i, radius in enumerate(radii_inst):\n",
    "    if i % 1000 == 0:\n",
    "        print(i,len(radii_inst))\n",
    "    idj, idi = np.where(r_inst <= radius)\n",
    "    nbpix_inst[i] =len(idi)\n",
    "    encircled_flux_inst[i] = np.sum(psf_inst[idj, idi])\n",
    "```"
   ]
  },
  {
   "cell_type": "code",
   "execution_count": 13,
   "metadata": {
    "collapsed": true
   },
   "outputs": [],
   "source": [
    "inst_data=np.load('../data/MIPS_encircled_flux_inst.npz')\n",
    "encircled_flux_inst=inst_data['encircled_flux_inst']\n",
    "radii_inst=inst_data['radii_inst']"
   ]
  },
  {
   "cell_type": "code",
   "execution_count": 14,
   "metadata": {},
   "outputs": [
    {
     "data": {
      "text/plain": [
       "<matplotlib.text.Text at 0x12ae847b8>"
      ]
     },
     "execution_count": 14,
     "metadata": {},
     "output_type": "execute_result"
    },
    {
     "data": {
      "image/png": "[encoded data removed]",
      "text/plain": [
       "<matplotlib.figure.Figure at 0x124719ef0>"
      ]
     },
     "metadata": {},
     "output_type": "display_data"
    }
   ],
   "source": [
    "plt.plot(radii, encircled_flux)\n",
    "\n",
    "plt.xlabel('Radius [arcsec]')\n",
    "plt.ylabel('Encircled flux')"
   ]
  },
  {
   "cell_type": "markdown",
   "metadata": {},
   "source": [
    "Looking at the shape of the encircled flux, it looks like the background level of our PSF is not zero. Let's check"
   ]
  },
  {
   "cell_type": "code",
   "execution_count": 15,
   "metadata": {},
   "outputs": [
    {
     "name": "stdout",
     "output_type": "stream",
     "text": [
      "0.00146274\n"
     ]
    }
   ],
   "source": [
    "# This is clearly. \n",
    "print(np.median(psf[0:5,:]))"
   ]
  },
  {
   "cell_type": "code",
   "execution_count": 16,
   "metadata": {},
   "outputs": [
    {
     "data": {
      "text/plain": [
       "<matplotlib.text.Text at 0x115a24748>"
      ]
     },
     "execution_count": 16,
     "metadata": {},
     "output_type": "execute_result"
    },
    {
     "data": {
      "image/png": "[encoded data removed]",
      "text/plain": [
       "<matplotlib.figure.Figure at 0x124719ba8>"
      ]
     },
     "metadata": {},
     "output_type": "display_data"
    }
   ],
   "source": [
    "plt.plot(nbpix[50:], encircled_flux[50:])\n",
    "plt.xlabel('Number of pixels')\n",
    "plt.ylabel('Encircled flux')"
   ]
  },
  {
   "cell_type": "code",
   "execution_count": 18,
   "metadata": {},
   "outputs": [],
   "source": [
    "# Lets do a linear fit to the outer part of the curve to determine the backgound\n",
    "p = np.polyfit(nbpix[5000:], encircled_flux[5000:], 1)\n",
    "bkg=p[0]/((((np.abs(hd['CD1_1'])+np.abs(hd['CD1_2']))*3600.)**2)/4.25E10)\n",
    "#bkg = p[0]/resol**2"
   ]
  },
  {
   "cell_type": "code",
   "execution_count": 19,
   "metadata": {},
   "outputs": [
    {
     "name": "stdout",
     "output_type": "stream",
     "text": [
      "0.00169549394339\n"
     ]
    }
   ],
   "source": [
    "print(bkg)"
   ]
  },
  {
   "cell_type": "code",
   "execution_count": 20,
   "metadata": {},
   "outputs": [
    {
     "name": "stdout",
     "output_type": "stream",
     "text": [
      "[ 49761.  49785.  49801. ...,  99213.  99221.  99225.]\n"
     ]
    }
   ],
   "source": [
    "print(nbpix[5000:])"
   ]
  },
  {
   "cell_type": "code",
   "execution_count": 21,
   "metadata": {
    "collapsed": true
   },
   "outputs": [],
   "source": [
    "# Lets correct the psf and encircled flux\n",
    "psf = psf - bkg\n",
    "encircled_flux = encircled_flux - p[0]* nbpix"
   ]
  },
  {
   "cell_type": "code",
   "execution_count": 22,
   "metadata": {},
   "outputs": [
    {
     "data": {
      "text/plain": [
       "<matplotlib.text.Text at 0x11d9d0080>"
      ]
     },
     "execution_count": 22,
     "metadata": {},
     "output_type": "execute_result"
    },
    {
     "data": {
      "image/png": "[encoded data removed]",
      "text/plain": [
       "<matplotlib.figure.Figure at 0x11d9b3fd0>"
      ]
     },
     "metadata": {},
     "output_type": "display_data"
    }
   ],
   "source": [
    "plt.plot(radii, encircled_flux)\n",
    "plt.xlabel('Radius [arcsec]')\n",
    "plt.ylabel('Encircled flux')"
   ]
  },
  {
   "cell_type": "code",
   "execution_count": null,
   "metadata": {
    "collapsed": true
   },
   "outputs": [],
   "source": []
  },
  {
   "cell_type": "markdown",
   "metadata": {},
   "source": [
    "Our PSF does now behaves correctly.\n",
    "\n",
    "Now let us compare our growth curve with the encircled energy curve from the instrumental PSF.  "
   ]
  },
  {
   "cell_type": "code",
   "execution_count": 23,
   "metadata": {},
   "outputs": [
    {
     "data": {
      "text/plain": [
       "<matplotlib.legend.Legend at 0x11ea23978>"
      ]
     },
     "execution_count": 23,
     "metadata": {},
     "output_type": "execute_result"
    },
    {
     "data": {
      "image/png": "[encoded data removed]",
      "text/plain": [
       "<matplotlib.figure.Figure at 0x11ddde470>"
      ]
     },
     "metadata": {},
     "output_type": "display_data"
    }
   ],
   "source": [
    "plt.plot(radii_inst, encircled_flux_inst, label='Calibration')\n",
    "plt.plot(radii, encircled_flux/np.max(encircled_flux), label='Our PSF')\n",
    "plt.xlim([0, 100])\n",
    "plt.xlabel('Radius [arcsec]')\n",
    "plt.ylabel('Encircled flux')\n",
    "plt.legend()"
   ]
  },
  {
   "cell_type": "markdown",
   "metadata": {},
   "source": [
    "We will work below 30\" where our PSF is well behaved"
   ]
  },
  {
   "cell_type": "code",
   "execution_count": 24,
   "metadata": {},
   "outputs": [
    {
     "data": {
      "text/plain": [
       "<matplotlib.legend.Legend at 0x11cde6ef0>"
      ]
     },
     "execution_count": 24,
     "metadata": {},
     "output_type": "execute_result"
    },
    {
     "data": {
      "image/png": "[encoded data removed]",
      "text/plain": [
       "<matplotlib.figure.Figure at 0x11de28c88>"
      ]
     },
     "metadata": {},
     "output_type": "display_data"
    }
   ],
   "source": [
    "plt.plot(radii_inst, encircled_flux_inst, label='Calibration')\n",
    "plt.plot(radii, encircled_flux/np.max(encircled_flux), label='Our PSF')\n",
    "plt.xlim([0, 20])\n",
    "plt.xlabel('Radius [arcsec]')\n",
    "plt.ylabel('Encircled flux')\n",
    "plt.legend()"
   ]
  },
  {
   "cell_type": "code",
   "execution_count": null,
   "metadata": {
    "collapsed": true
   },
   "outputs": [],
   "source": []
  },
  {
   "cell_type": "markdown",
   "metadata": {},
   "source": [
    "We see that while the calibration curve still rises beyond 30\", our PSF has reached a plateau. Let's note the calibration $C(r)$. Our PSF encirled energy is of the form:\n",
    "\n",
    "$E(r) = \\alpha C(r \\times \\beta)$\n",
    "\n",
    "Where $\\beta$ is the fattening of the PSF.\n",
    "\n",
    "We could take the derivative, but this too noisy. Instead we do a brute force approach"
   ]
  },
  {
   "cell_type": "markdown",
   "metadata": {},
   "source": [
    "Seb's suggestion.. look at derivative!! Also see how correction parameters change as a function of where I do correction"
   ]
  },
  {
   "cell_type": "code",
   "execution_count": 25,
   "metadata": {},
   "outputs": [
    {
     "data": {
      "text/plain": [
       "<matplotlib.legend.Legend at 0x11cf77d30>"
      ]
     },
     "execution_count": 25,
     "metadata": {},
     "output_type": "execute_result"
    },
    {
     "data": {
      "image/png": "[encoded data removed]",
      "text/plain": [
       "<matplotlib.figure.Figure at 0x11cdfd6a0>"
      ]
     },
     "metadata": {},
     "output_type": "display_data"
    }
   ],
   "source": [
    "plt.plot(radii_inst, encircled_flux_inst, label='Calibration')\n",
    "plt.plot(radii, encircled_flux/np.max(encircled_flux), label='Our PSF')\n",
    "plt.xlim([0, 20])\n",
    "plt.xlabel('Radius [arcsec]')\n",
    "plt.ylabel('Encircled flux')\n",
    "plt.legend()"
   ]
  },
  {
   "cell_type": "code",
   "execution_count": 79,
   "metadata": {},
   "outputs": [
    {
     "name": "stdout",
     "output_type": "stream",
     "text": [
      "0 1.0 0\n",
      "1 1.001 0\n",
      "2 1.002 0\n",
      "3 1.003 0\n",
      "4 1.004 0\n",
      "5 1.005 0\n",
      "6 1.006 0\n",
      "7 1.007 0\n",
      "8 1.008 0\n",
      "9 1.009 0\n",
      "10 1.01 0\n",
      "11 1.011 0\n",
      "12 1.012 0\n",
      "13 1.013 0\n",
      "14 1.014 0\n",
      "15 1.015 0\n",
      "16 1.016 0\n",
      "17 1.017 0\n",
      "18 1.018 0\n",
      "19 1.019 0\n",
      "20 1.02 0\n",
      "21 1.021 0\n",
      "22 1.022 0\n",
      "23 1.023 0\n",
      "24 1.024 0\n",
      "25 1.025 0\n",
      "26 1.026 0\n",
      "27 1.027 0\n",
      "28 1.028 0\n",
      "29 1.029 0\n",
      "30 1.03 0\n",
      "31 1.031 0\n",
      "32 1.032 0\n",
      "33 1.033 0\n",
      "34 1.034 0\n",
      "35 1.035 0\n",
      "36 1.036 0\n",
      "37 1.037 0\n",
      "38 1.038 0\n",
      "39 1.039 0\n",
      "40 1.04 0\n",
      "41 1.041 0\n",
      "42 1.042 0\n",
      "43 1.043 0\n",
      "44 1.044 0\n",
      "45 1.045 0\n",
      "46 1.046 0\n",
      "47 1.047 0\n",
      "48 1.048 0\n",
      "49 1.049 0\n",
      "50 1.05 0\n",
      "51 1.051 0\n",
      "52 1.052 0\n",
      "53 1.053 0\n",
      "54 1.054 0\n",
      "55 1.055 0\n",
      "56 1.056 0\n",
      "57 1.057 0\n",
      "58 1.058 0\n",
      "59 1.059 0\n",
      "60 1.06 0\n",
      "61 1.061 0\n",
      "62 1.062 0\n",
      "63 1.063 0\n",
      "64 1.064 0\n",
      "65 1.065 0\n",
      "66 1.066 0\n",
      "67 1.067 0\n",
      "68 1.068 0\n",
      "69 1.069 0\n",
      "70 1.07 0\n",
      "71 1.071 0\n",
      "72 1.072 0\n",
      "73 1.073 0\n",
      "74 1.074 0\n",
      "75 1.075 0\n",
      "76 1.076 0\n",
      "77 1.077 0\n",
      "78 1.078 0\n",
      "79 1.079 0\n",
      "80 1.08 0\n",
      "81 1.081 0\n",
      "82 1.082 0\n",
      "83 1.083 0\n",
      "84 1.084 0\n",
      "85 1.085 0\n",
      "86 1.086 0\n",
      "87 1.087 0\n",
      "88 1.088 0\n",
      "89 1.089 0\n",
      "90 1.09 0\n",
      "91 1.091 0\n",
      "92 1.092 0\n",
      "93 1.093 0\n",
      "94 1.094 0\n",
      "95 1.095 0\n",
      "96 1.096 0\n",
      "97 1.097 0\n",
      "98 1.098 0\n",
      "99 1.099 0\n",
      "100 1.1 0\n",
      "101 1.101 0\n",
      "102 1.102 0\n",
      "103 1.103 0\n",
      "104 1.104 0\n",
      "105 1.105 0\n",
      "106 1.106 0\n",
      "107 1.107 0\n",
      "108 1.108 0\n",
      "109 1.109 0\n",
      "110 1.11 0\n",
      "111 1.111 0\n",
      "112 1.112 0\n",
      "113 1.113 0\n",
      "114 1.114 0\n",
      "115 1.115 0\n",
      "116 1.116 0\n",
      "117 1.117 0\n",
      "118 1.118 0\n",
      "119 1.119 0\n",
      "120 1.12 0\n",
      "121 1.121 0\n",
      "122 1.122 0\n",
      "123 1.123 0\n",
      "124 1.124 0\n",
      "125 1.125 0\n",
      "126 1.126 0\n",
      "127 1.127 0\n",
      "128 1.128 0\n",
      "129 1.129 0\n",
      "130 1.13 0\n",
      "131 1.131 0\n",
      "132 1.132 0\n",
      "133 1.133 0\n",
      "134 1.134 0\n",
      "135 1.135 0\n",
      "136 1.136 0\n",
      "137 1.137 0\n",
      "138 1.138 0\n",
      "139 1.139 0\n",
      "140 1.14 0\n",
      "141 1.141 0\n",
      "142 1.142 0\n",
      "143 1.143 0\n",
      "144 1.144 0\n",
      "145 1.145 0\n",
      "146 1.146 0\n",
      "147 1.147 0\n",
      "148 1.148 0\n",
      "149 1.149 0\n",
      "150 1.15 0\n",
      "151 1.151 0\n",
      "152 1.152 0\n",
      "153 1.153 0\n",
      "154 1.154 0\n",
      "155 1.155 0\n",
      "156 1.156 0\n",
      "157 1.157 0\n",
      "158 1.158 0\n",
      "159 1.159 0\n",
      "160 1.16 0\n",
      "161 1.161 0\n",
      "162 1.162 0\n",
      "163 1.163 0\n",
      "164 1.164 0\n",
      "165 1.165 0\n",
      "166 1.166 0\n",
      "167 1.167 0\n",
      "168 1.168 0\n",
      "169 1.169 0\n",
      "170 1.17 0\n",
      "171 1.171 0\n",
      "172 1.172 0\n",
      "173 1.173 0\n",
      "174 1.174 0\n",
      "175 1.175 0\n",
      "176 1.176 0\n",
      "177 1.177 0\n",
      "178 1.178 0\n",
      "179 1.179 0\n",
      "180 1.18 0\n",
      "181 1.181 0\n",
      "182 1.182 0\n",
      "183 1.183 0\n",
      "184 1.184 0\n",
      "185 1.185 0\n",
      "186 1.186 0\n",
      "187 1.187 0\n",
      "188 1.188 0\n",
      "189 1.189 0\n",
      "190 1.19 0\n",
      "191 1.191 0\n",
      "192 1.192 0\n",
      "193 1.193 0\n",
      "194 1.194 0\n",
      "195 1.195 0\n",
      "196 1.196 0\n",
      "197 1.197 0\n",
      "198 1.198 0\n",
      "199 1.199 0\n",
      "200 1.2 0\n",
      "201 1.201 0\n",
      "202 1.202 0\n",
      "203 1.203 0\n",
      "204 1.204 0\n",
      "205 1.205 0\n",
      "206 1.206 0\n",
      "207 1.207 0\n",
      "208 1.208 0\n",
      "209 1.209 0\n",
      "210 1.21 0\n",
      "211 1.211 0\n",
      "212 1.212 0\n",
      "213 1.213 0\n",
      "214 1.214 0\n",
      "215 1.215 0\n",
      "216 1.216 0\n",
      "217 1.217 0\n",
      "218 1.218 0\n",
      "219 1.219 0\n",
      "220 1.22 0\n",
      "221 1.221 0\n",
      "222 1.222 0\n",
      "223 1.223 0\n",
      "224 1.224 0\n",
      "225 1.225 0\n",
      "226 1.226 0\n",
      "227 1.227 0\n",
      "228 1.228 0\n",
      "229 1.229 0\n",
      "230 1.23 0\n",
      "231 1.231 0\n",
      "232 1.232 0\n",
      "233 1.233 0\n",
      "234 1.234 0\n",
      "235 1.235 0\n",
      "236 1.236 0\n",
      "237 1.237 0\n",
      "238 1.238 0\n",
      "239 1.239 0\n",
      "240 1.24 0\n",
      "241 1.241 0\n",
      "242 1.242 0\n",
      "243 1.243 0\n",
      "244 1.244 0\n",
      "245 1.245 0\n",
      "246 1.246 0\n",
      "247 1.247 0\n",
      "248 1.248 0\n",
      "249 1.249 0\n",
      "250 1.25 0\n",
      "251 1.251 0\n",
      "252 1.252 0\n",
      "253 1.253 0\n",
      "254 1.254 0\n",
      "255 1.255 0\n",
      "256 1.256 0\n",
      "257 1.257 0\n",
      "258 1.258 0\n",
      "259 1.259 0\n",
      "260 1.26 0\n",
      "261 1.261 0\n",
      "262 1.262 0\n",
      "263 1.263 0\n",
      "264 1.264 0\n",
      "265 1.265 0\n",
      "266 1.266 0\n",
      "267 1.267 0\n",
      "268 1.268 0\n",
      "269 1.269 0\n",
      "270 1.27 0\n",
      "271 1.271 0\n",
      "272 1.272 0\n",
      "273 1.273 0\n",
      "274 1.274 0\n",
      "275 1.275 0\n",
      "276 1.276 0\n",
      "277 1.277 0\n",
      "278 1.278 0\n",
      "279 1.279 0\n",
      "280 1.28 0\n",
      "281 1.281 0\n",
      "282 1.282 0\n",
      "283 1.283 0\n",
      "284 1.284 0\n",
      "285 1.285 0\n",
      "286 1.286 0\n",
      "287 1.287 0\n",
      "288 1.288 0\n",
      "289 1.289 0\n",
      "290 1.29 0\n",
      "291 1.291 0\n",
      "292 1.292 0\n",
      "293 1.293 0\n",
      "294 1.294 0\n",
      "295 1.295 0\n",
      "296 1.296 0\n",
      "297 1.297 0\n",
      "298 1.298 0\n",
      "299 1.299 0\n",
      "300 1.3 0\n",
      "301 1.301 0\n",
      "302 1.302 0\n",
      "303 1.303 0\n",
      "304 1.304 0\n",
      "305 1.305 0\n",
      "306 1.306 0\n",
      "307 1.307 0\n",
      "308 1.308 0\n",
      "309 1.309 0\n",
      "310 1.31 0\n",
      "311 1.311 0\n",
      "312 1.312 0\n",
      "313 1.313 0\n",
      "314 1.314 0\n",
      "315 1.315 0\n",
      "316 1.316 0\n",
      "317 1.317 0\n",
      "318 1.318 0\n",
      "319 1.319 0\n",
      "320 1.32 0\n",
      "321 1.321 0\n",
      "322 1.322 0\n",
      "323 1.323 0\n",
      "324 1.324 0\n",
      "325 1.325 0\n",
      "326 1.326 0\n",
      "327 1.327 0\n",
      "328 1.328 0\n",
      "329 1.329 0\n",
      "330 1.33 0\n",
      "331 1.331 0\n",
      "332 1.332 0\n",
      "333 1.333 0\n",
      "334 1.334 0\n",
      "335 1.335 0\n",
      "336 1.336 0\n",
      "337 1.337 0\n",
      "338 1.338 0\n",
      "339 1.339 0\n",
      "340 1.34 0\n",
      "341 1.341 0\n",
      "342 1.342 0\n",
      "343 1.343 0\n",
      "344 1.344 0\n",
      "345 1.345 0\n",
      "346 1.346 0\n",
      "347 1.347 0\n",
      "348 1.348 0\n",
      "349 1.349 0\n",
      "350 1.35 0\n",
      "351 1.351 0\n",
      "352 1.352 0\n",
      "353 1.353 0\n",
      "354 1.354 0\n",
      "355 1.355 0\n",
      "356 1.356 0\n",
      "357 1.357 0\n",
      "358 1.358 0\n",
      "359 1.359 0\n",
      "360 1.36 0\n",
      "361 1.361 0\n",
      "362 1.362 0\n",
      "363 1.363 0\n",
      "364 1.364 0\n",
      "365 1.365 0\n",
      "366 1.366 0\n",
      "367 1.367 0\n",
      "368 1.368 0\n",
      "369 1.369 0\n",
      "370 1.37 0\n",
      "371 1.371 0\n",
      "372 1.372 0\n",
      "373 1.373 0\n",
      "374 1.374 0\n",
      "375 1.375 0\n",
      "376 1.376 0\n",
      "377 1.377 0\n",
      "378 1.378 0\n",
      "379 1.379 0\n",
      "380 1.38 0\n",
      "381 1.381 0\n",
      "382 1.382 0\n",
      "383 1.383 0\n",
      "384 1.384 0\n",
      "385 1.385 0\n",
      "386 1.386 0\n",
      "387 1.387 0\n",
      "388 1.388 0\n",
      "389 1.389 0\n",
      "390 1.39 0\n",
      "391 1.391 0\n",
      "392 1.392 0\n",
      "393 1.393 0\n",
      "394 1.394 0\n",
      "395 1.395 0\n",
      "396 1.396 0\n",
      "397 1.397 0\n",
      "398 1.398 0\n",
      "399 1.399 0\n",
      "400 1.4 0\n",
      "401 1.401 0\n",
      "402 1.402 0\n",
      "403 1.403 0\n",
      "404 1.404 0\n",
      "405 1.405 0\n",
      "406 1.406 0\n",
      "407 1.407 0\n",
      "408 1.408 0\n",
      "409 1.409 0\n",
      "410 1.41 0\n",
      "411 1.411 0\n",
      "412 1.412 0\n",
      "413 1.413 0\n",
      "414 1.414 0\n",
      "415 1.415 0\n",
      "416 1.416 0\n",
      "417 1.417 0\n",
      "418 1.418 0\n",
      "419 1.419 0\n",
      "420 1.42 0\n",
      "421 1.421 0\n",
      "422 1.422 0\n",
      "423 1.423 0\n",
      "424 1.424 0\n",
      "425 1.425 0\n",
      "426 1.426 0\n",
      "427 1.427 0\n",
      "428 1.428 0\n",
      "429 1.429 0\n",
      "430 1.43 0\n",
      "431 1.431 0\n",
      "432 1.432 0\n",
      "433 1.433 0\n",
      "434 1.434 0\n",
      "435 1.435 0\n",
      "436 1.436 0\n",
      "437 1.437 0\n",
      "438 1.438 0\n",
      "439 1.439 0\n",
      "440 1.44 0\n",
      "441 1.441 0\n",
      "442 1.442 0\n",
      "443 1.443 0\n",
      "444 1.444 0\n",
      "445 1.445 0\n",
      "446 1.446 0\n",
      "447 1.447 0\n",
      "448 1.448 0\n",
      "449 1.449 0\n",
      "450 1.45 0\n",
      "451 1.451 0\n",
      "452 1.452 0\n",
      "453 1.453 0\n",
      "454 1.454 0\n",
      "455 1.455 0\n",
      "456 1.456 0\n",
      "457 1.457 0\n",
      "458 1.458 0\n",
      "459 1.459 0\n",
      "460 1.46 0\n",
      "461 1.461 0\n",
      "462 1.462 0\n",
      "463 1.463 0\n",
      "464 1.464 0\n",
      "465 1.465 0\n",
      "466 1.466 0\n",
      "467 1.467 0\n",
      "468 1.468 0\n",
      "469 1.469 0\n",
      "470 1.47 0\n",
      "471 1.471 0\n",
      "472 1.472 0\n",
      "473 1.473 0\n",
      "474 1.474 0\n",
      "475 1.475 0\n",
      "476 1.476 0\n",
      "477 1.477 0\n",
      "478 1.478 0\n",
      "479 1.479 0\n",
      "480 1.48 0\n",
      "481 1.481 0\n",
      "482 1.482 0\n",
      "483 1.483 0\n",
      "484 1.484 0\n",
      "485 1.485 0\n",
      "486 1.486 0\n",
      "487 1.487 0\n",
      "488 1.488 0\n",
      "489 1.489 0\n",
      "490 1.49 0\n",
      "491 1.491 0\n",
      "492 1.492 0\n",
      "493 1.493 0\n",
      "494 1.494 0\n",
      "495 1.495 0\n",
      "496 1.496 0\n",
      "497 1.497 0\n",
      "498 1.498 0\n",
      "499 1.499 0\n",
      "500 1.5 0\n",
      "501 1.501 0\n",
      "502 1.502 0\n",
      "503 1.503 0\n",
      "504 1.504 0\n",
      "505 1.505 0\n",
      "506 1.506 0\n",
      "507 1.507 0\n",
      "508 1.508 0\n",
      "509 1.509 0\n",
      "510 1.51 0\n",
      "511 1.511 0\n",
      "512 1.512 0\n",
      "513 1.513 0\n",
      "514 1.514 0\n",
      "515 1.515 0\n",
      "516 1.516 0\n",
      "517 1.517 0\n",
      "518 1.518 0\n",
      "519 1.519 0\n",
      "520 1.52 0\n",
      "521 1.521 0\n",
      "522 1.522 0\n",
      "523 1.523 0\n",
      "524 1.524 0\n",
      "525 1.525 0\n",
      "526 1.526 0\n",
      "527 1.527 0\n",
      "528 1.528 0\n",
      "529 1.529 0\n",
      "530 1.53 0\n",
      "531 1.531 0\n",
      "532 1.532 0\n",
      "533 1.533 0\n",
      "534 1.534 0\n",
      "535 1.535 0\n",
      "536 1.536 0\n",
      "537 1.537 0\n",
      "538 1.538 0\n",
      "539 1.539 0\n",
      "540 1.54 0\n",
      "541 1.541 0\n",
      "542 1.542 0\n",
      "543 1.543 0\n",
      "544 1.544 0\n",
      "545 1.545 0\n",
      "546 1.546 0\n",
      "547 1.547 0\n",
      "548 1.548 0\n",
      "549 1.549 0\n",
      "550 1.55 0\n",
      "551 1.551 0\n",
      "552 1.552 0\n",
      "553 1.553 0\n",
      "554 1.554 0\n",
      "555 1.555 0\n",
      "556 1.556 0\n",
      "557 1.557 0\n",
      "558 1.558 0\n",
      "559 1.559 0\n",
      "560 1.56 0\n",
      "561 1.561 0\n",
      "562 1.562 0\n",
      "563 1.563 0\n",
      "564 1.564 0\n",
      "565 1.565 0\n",
      "566 1.566 0\n",
      "567 1.567 0\n",
      "568 1.568 0\n",
      "569 1.569 0\n",
      "570 1.57 0\n",
      "571 1.571 0\n",
      "572 1.572 0\n",
      "573 1.573 0\n",
      "574 1.574 0\n",
      "575 1.575 0\n",
      "576 1.576 0\n",
      "577 1.577 0\n",
      "578 1.578 0\n",
      "579 1.579 0\n",
      "580 1.58 0\n",
      "581 1.581 0\n",
      "582 1.582 0\n",
      "583 1.583 0\n",
      "584 1.584 0\n",
      "585 1.585 0\n",
      "586 1.586 0\n",
      "587 1.587 0\n",
      "588 1.588 0\n",
      "589 1.589 0\n",
      "590 1.59 0\n",
      "591 1.591 0\n",
      "592 1.592 0\n",
      "593 1.593 0\n",
      "594 1.594 0\n",
      "595 1.595 0\n",
      "596 1.596 0\n",
      "597 1.597 0\n",
      "598 1.598 0\n",
      "599 1.599 0\n",
      "600 1.6 0\n",
      "601 1.601 0\n",
      "602 1.602 0\n",
      "603 1.603 0\n",
      "604 1.604 0\n",
      "605 1.605 0\n",
      "606 1.606 0\n",
      "607 1.607 0\n",
      "608 1.608 0\n",
      "609 1.609 0\n",
      "610 1.61 0\n",
      "611 1.611 0\n",
      "612 1.612 0\n",
      "613 1.613 0\n",
      "614 1.614 0\n",
      "615 1.615 0\n",
      "616 1.616 0\n",
      "617 1.617 0\n",
      "618 1.618 0\n",
      "619 1.619 0\n",
      "620 1.62 0\n",
      "621 1.621 0\n",
      "622 1.622 0\n",
      "623 1.623 0\n",
      "624 1.624 0\n",
      "625 1.625 0\n",
      "626 1.626 0\n",
      "627 1.627 0\n",
      "628 1.628 0\n",
      "629 1.629 0\n",
      "630 1.63 0\n",
      "631 1.631 0\n",
      "632 1.632 0\n",
      "633 1.633 0\n",
      "634 1.634 0\n",
      "635 1.635 0\n",
      "636 1.636 0\n",
      "637 1.637 0\n",
      "638 1.638 0\n",
      "639 1.639 0\n",
      "640 1.64 0\n",
      "641 1.641 0\n",
      "642 1.642 0\n",
      "643 1.643 0\n",
      "644 1.644 0\n",
      "645 1.645 0\n",
      "646 1.646 0\n",
      "647 1.647 0\n",
      "648 1.648 0\n",
      "649 1.649 0\n",
      "650 1.65 0\n",
      "651 1.651 0\n",
      "652 1.652 0\n",
      "653 1.653 0\n",
      "654 1.654 0\n",
      "655 1.655 0\n",
      "656 1.656 0\n",
      "657 1.657 0\n",
      "658 1.658 0\n",
      "659 1.659 0\n",
      "660 1.66 0\n",
      "661 1.661 0\n",
      "662 1.662 0\n",
      "663 1.663 0\n",
      "664 1.664 0\n",
      "665 1.665 0\n",
      "666 1.666 0\n",
      "667 1.667 0\n",
      "668 1.668 0\n",
      "669 1.669 0\n",
      "670 1.67 0\n",
      "671 1.671 0\n",
      "672 1.672 0\n",
      "673 1.673 0\n",
      "674 1.674 0\n",
      "675 1.675 0\n",
      "676 1.676 0\n",
      "677 1.677 0\n",
      "678 1.678 0\n",
      "679 1.679 0\n",
      "680 1.68 0\n",
      "681 1.681 0\n",
      "682 1.682 0\n",
      "683 1.683 0\n",
      "684 1.684 0\n",
      "685 1.685 0\n",
      "686 1.686 0\n",
      "687 1.687 0\n",
      "688 1.688 0\n",
      "689 1.689 0\n",
      "690 1.69 0\n",
      "691 1.691 0\n",
      "692 1.692 0\n",
      "693 1.693 0\n",
      "694 1.694 0\n",
      "695 1.695 0\n",
      "696 1.696 0\n",
      "697 1.697 0\n",
      "698 1.698 0\n"
     ]
    },
    {
     "name": "stdout",
     "output_type": "stream",
     "text": [
      "699 1.699 0\n",
      "700 1.7 0\n",
      "701 1.701 0\n",
      "702 1.702 0\n",
      "703 1.703 0\n",
      "704 1.704 0\n",
      "705 1.705 0\n",
      "706 1.706 0\n",
      "707 1.707 0\n",
      "708 1.708 0\n",
      "709 1.709 0\n",
      "710 1.71 0\n",
      "711 1.711 0\n",
      "712 1.712 0\n",
      "713 1.713 0\n",
      "714 1.714 0\n",
      "715 1.715 0\n",
      "716 1.716 0\n",
      "717 1.717 0\n",
      "718 1.718 0\n",
      "719 1.719 0\n",
      "720 1.72 0\n",
      "721 1.721 0\n",
      "722 1.722 0\n",
      "723 1.723 0\n",
      "724 1.724 0\n",
      "725 1.725 0\n",
      "726 1.726 0\n",
      "727 1.727 0\n",
      "728 1.728 0\n",
      "729 1.729 0\n",
      "730 1.73 0\n",
      "731 1.731 0\n",
      "732 1.732 0\n",
      "733 1.733 0\n",
      "734 1.734 0\n",
      "735 1.735 0\n",
      "736 1.736 0\n",
      "737 1.737 0\n",
      "738 1.738 0\n",
      "739 1.739 0\n",
      "740 1.74 0\n",
      "741 1.741 0\n",
      "742 1.742 0\n",
      "743 1.743 0\n",
      "744 1.744 0\n",
      "745 1.745 0\n",
      "746 1.746 0\n",
      "747 1.747 0\n",
      "748 1.748 0\n",
      "749 1.749 0\n",
      "750 1.75 0\n",
      "751 1.751 0\n",
      "752 1.752 0\n",
      "753 1.753 0\n",
      "754 1.754 0\n",
      "755 1.755 0\n",
      "756 1.756 0\n",
      "757 1.757 0\n",
      "758 1.758 0\n",
      "759 1.759 0\n",
      "760 1.76 0\n",
      "761 1.761 0\n",
      "762 1.762 0\n",
      "763 1.763 0\n",
      "764 1.764 0\n",
      "765 1.765 0\n",
      "766 1.766 0\n",
      "767 1.767 0\n",
      "768 1.768 0\n",
      "769 1.769 0\n",
      "770 1.77 0\n",
      "771 1.771 0\n",
      "772 1.772 0\n",
      "773 1.773 0\n",
      "774 1.774 0\n",
      "775 1.775 0\n",
      "776 1.776 0\n",
      "777 1.777 0\n",
      "778 1.778 0\n",
      "779 1.779 0\n",
      "780 1.78 0\n",
      "781 1.781 0\n",
      "782 1.782 0\n",
      "783 1.783 0\n",
      "784 1.784 0\n",
      "785 1.785 0\n",
      "786 1.786 0\n",
      "787 1.787 0\n",
      "788 1.788 0\n",
      "789 1.789 0\n",
      "790 1.79 0\n",
      "791 1.791 0\n",
      "792 1.792 0\n",
      "793 1.793 0\n",
      "794 1.794 0\n",
      "795 1.795 0\n",
      "796 1.796 0\n",
      "797 1.797 0\n",
      "798 1.798 0\n",
      "799 1.799 0\n",
      "800 1.8 0\n",
      "801 1.801 0\n",
      "802 1.802 0\n",
      "803 1.803 0\n",
      "804 1.804 0\n",
      "805 1.805 0\n",
      "806 1.806 0\n",
      "807 1.807 0\n",
      "808 1.808 0\n",
      "809 1.809 0\n",
      "810 1.81 0\n",
      "811 1.811 0\n",
      "812 1.812 0\n",
      "813 1.813 0\n",
      "814 1.814 0\n",
      "815 1.815 0\n",
      "816 1.816 0\n",
      "817 1.817 0\n",
      "818 1.818 0\n",
      "819 1.819 0\n",
      "820 1.82 0\n",
      "821 1.821 0\n",
      "822 1.822 0\n",
      "823 1.823 0\n",
      "824 1.824 0\n",
      "825 1.825 0\n",
      "826 1.826 0\n",
      "827 1.827 0\n",
      "828 1.828 0\n",
      "829 1.829 0\n",
      "830 1.83 0\n",
      "831 1.831 0\n",
      "832 1.832 0\n",
      "833 1.833 0\n",
      "834 1.834 0\n",
      "835 1.835 0\n",
      "836 1.836 0\n",
      "837 1.837 0\n",
      "838 1.838 0\n",
      "839 1.839 0\n",
      "840 1.84 0\n",
      "841 1.841 0\n",
      "842 1.842 0\n",
      "843 1.843 0\n",
      "844 1.844 0\n",
      "845 1.845 0\n",
      "846 1.846 0\n",
      "847 1.847 0\n",
      "848 1.848 0\n",
      "849 1.849 0\n",
      "850 1.85 0\n",
      "851 1.851 0\n",
      "852 1.852 0\n",
      "853 1.853 0\n",
      "854 1.854 0\n",
      "855 1.855 0\n",
      "856 1.856 0\n",
      "857 1.857 0\n",
      "858 1.858 0\n",
      "859 1.859 0\n",
      "860 1.86 0\n",
      "861 1.861 0\n",
      "862 1.862 0\n",
      "863 1.863 0\n",
      "864 1.864 0\n",
      "865 1.865 0\n",
      "866 1.866 0\n",
      "867 1.867 0\n",
      "868 1.868 0\n",
      "869 1.869 0\n",
      "870 1.87 0\n",
      "871 1.871 0\n",
      "872 1.872 0\n",
      "873 1.873 0\n",
      "874 1.874 0\n",
      "875 1.875 0\n",
      "876 1.876 0\n",
      "877 1.877 0\n",
      "878 1.878 0\n",
      "879 1.879 0\n",
      "880 1.88 0\n",
      "881 1.881 0\n",
      "882 1.882 0\n",
      "883 1.883 0\n",
      "884 1.884 0\n",
      "885 1.885 0\n",
      "886 1.886 0\n",
      "887 1.887 0\n",
      "888 1.888 0\n",
      "889 1.889 0\n",
      "890 1.89 0\n",
      "891 1.891 0\n",
      "892 1.892 0\n",
      "893 1.893 0\n",
      "894 1.894 0\n",
      "895 1.895 0\n",
      "896 1.896 0\n",
      "897 1.897 0\n",
      "898 1.898 0\n",
      "899 1.899 0\n",
      "900 1.9 0\n",
      "901 1.901 0\n",
      "902 1.902 0\n",
      "903 1.903 0\n",
      "904 1.904 0\n",
      "905 1.905 0\n",
      "906 1.906 0\n",
      "907 1.907 0\n",
      "908 1.908 0\n",
      "909 1.909 0\n",
      "910 1.91 0\n",
      "911 1.911 0\n",
      "912 1.912 0\n",
      "913 1.913 0\n",
      "914 1.914 0\n",
      "915 1.915 0\n",
      "916 1.916 0\n",
      "917 1.917 0\n",
      "918 1.918 0\n",
      "919 1.919 0\n",
      "920 1.92 0\n",
      "921 1.921 0\n",
      "922 1.922 0\n",
      "923 1.923 0\n",
      "924 1.924 0\n",
      "925 1.925 0\n",
      "926 1.926 0\n",
      "927 1.927 0\n",
      "928 1.928 0\n",
      "929 1.929 0\n",
      "930 1.93 0\n",
      "931 1.931 0\n",
      "932 1.932 0\n",
      "933 1.933 0\n",
      "934 1.934 0\n",
      "935 1.935 0\n",
      "936 1.936 0\n",
      "937 1.937 0\n",
      "938 1.938 0\n",
      "939 1.939 0\n",
      "940 1.94 0\n",
      "941 1.941 0\n",
      "942 1.942 0\n",
      "943 1.943 0\n",
      "944 1.944 0\n",
      "945 1.945 0\n",
      "946 1.946 0\n",
      "947 1.947 0\n",
      "948 1.948 0\n",
      "949 1.949 0\n",
      "950 1.95 0\n",
      "951 1.951 0\n",
      "952 1.952 0\n",
      "953 1.953 0\n",
      "954 1.954 0\n",
      "955 1.955 0\n",
      "956 1.956 0\n",
      "957 1.957 0\n",
      "958 1.958 0\n",
      "959 1.959 0\n",
      "960 1.96 0\n",
      "961 1.961 0\n",
      "962 1.962 0\n",
      "963 1.963 0\n",
      "964 1.964 0\n",
      "965 1.965 0\n",
      "966 1.966 0\n",
      "967 1.967 0\n",
      "968 1.968 0\n",
      "969 1.969 0\n",
      "970 1.97 0\n",
      "971 1.971 0\n",
      "972 1.972 0\n",
      "973 1.973 0\n",
      "974 1.974 0\n",
      "975 1.975 0\n",
      "976 1.976 0\n",
      "977 1.977 0\n",
      "978 1.978 0\n",
      "979 1.979 0\n",
      "980 1.98 0\n",
      "981 1.981 0\n",
      "982 1.982 0\n",
      "983 1.983 0\n",
      "984 1.984 0\n",
      "985 1.985 0\n",
      "986 1.986 0\n",
      "987 1.987 0\n",
      "988 1.988 0\n",
      "989 1.989 0\n",
      "990 1.99 0\n",
      "991 1.991 0\n",
      "992 1.992 0\n",
      "993 1.993 0\n",
      "994 1.994 0\n",
      "995 1.995 0\n",
      "996 1.996 0\n",
      "997 1.997 0\n",
      "998 1.998 0\n",
      "999 1.999 0\n"
     ]
    }
   ],
   "source": [
    "rfactor = np.arange(1.,2., 1e-3)\n",
    "ffactor = np.arange(0.5,2., 1e-3)\n",
    "# work with the data points between 3 and 25\"\n",
    "idx, = np.where((radii > 2) & (radii < 15))\n",
    "xv = radii[idx]\n",
    "yv = encircled_flux[idx]/np.max(encircled_flux)\n",
    "resid = np.zeros((len(rfactor), len(ffactor)))\n",
    "for i, rf in enumerate(rfactor):\n",
    "    tck = interpolate.splrep(radii_inst*rf,encircled_flux_inst , s=1)#changed s=0 to 1 as I was getting NaNs\n",
    "    yfit = interpolate.splev(xv, tck, der=0)\n",
    "    print(i, rf,np.isnan(yfit).sum())\n",
    "\n",
    "    for j, ff in enumerate(ffactor):\n",
    "        resid[i, j] = np.sum((yv-yfit*ff)**2)\n"
   ]
  },
  {
   "cell_type": "markdown",
   "metadata": {},
   "source": [
    "This shows a minimum, with some degeneracy. "
   ]
  },
  {
   "cell_type": "code",
   "execution_count": 80,
   "metadata": {},
   "outputs": [
    {
     "data": {
      "text/plain": [
       "<matplotlib.image.AxesImage at 0x12530bda0>"
      ]
     },
     "execution_count": 80,
     "metadata": {},
     "output_type": "execute_result"
    },
    {
     "data": {
      "image/png": "[encoded data removed]",
      "text/plain": [
       "<matplotlib.figure.Figure at 0x1404a93c8>"
      ]
     },
     "metadata": {},
     "output_type": "display_data"
    }
   ],
   "source": [
    "plt.imshow(np.log(resid))"
   ]
  },
  {
   "cell_type": "code",
   "execution_count": 81,
   "metadata": {},
   "outputs": [
    {
     "name": "stdout",
     "output_type": "stream",
     "text": [
      "rf = 1.000, ff = 0.745, residual = 0.097\n"
     ]
    }
   ],
   "source": [
    "imin = np.argmin(resid)\n",
    "rmin, fmin = np.unravel_index(imin, resid.shape)\n",
    "print(\"rf = {:.3f}, ff = {:.3f}, residual = {:.3f}\".format(rfactor[rmin], ffactor[fmin], resid[rmin, fmin]))"
   ]
  },
  {
   "cell_type": "code",
   "execution_count": 82,
   "metadata": {},
   "outputs": [
    {
     "data": {
      "text/plain": [
       "<matplotlib.legend.Legend at 0x125272e80>"
      ]
     },
     "execution_count": 82,
     "metadata": {},
     "output_type": "execute_result"
    },
    {
     "data": {
      "image/png": "[encoded data removed]",
      "text/plain": [
       "<matplotlib.figure.Figure at 0x125325860>"
      ]
     },
     "metadata": {},
     "output_type": "display_data"
    }
   ],
   "source": [
    "plt.plot(radii_inst*rfactor[rmin],encircled_flux_inst, label='Calibration')\n",
    "plt.plot(radii, encircled_flux/np.max(encircled_flux)/ffactor[fmin], label='Our PSF')\n",
    "plt.xlim([0, 30])\n",
    "plt.xlabel('Radius [arcsec]')\n",
    "plt.ylabel('Encircled flux')\n",
    "plt.legend()"
   ]
  },
  {
   "cell_type": "code",
   "execution_count": 83,
   "metadata": {},
   "outputs": [],
   "source": [
    "# The two curve overlap\n",
    "rad=20\n",
    "psfok = (psf/np.max(encircled_flux)/ffactor[fmin])\n",
    "cpix=np.int((hd['NAXIS1']+1)/2.0)\n"
   ]
  },
  {
   "cell_type": "markdown",
   "metadata": {},
   "source": [
    "psfok is the PSF that a source of flux 1 Jy has in our data, and is to be used for source extraction.\n",
    "## As units of map in MJy/sr, divide by 1E6"
   ]
  },
  {
   "cell_type": "code",
   "execution_count": 84,
   "metadata": {
    "collapsed": true
   },
   "outputs": [],
   "source": [
    "psfok=psfok/1.0E6"
   ]
  },
  {
   "cell_type": "markdown",
   "metadata": {},
   "source": [
    "## Validation\n",
    "To check PSF is reasonable, lets look at a 24 micron source,(Spitzer ID 160715 in spitzer-cat-full-master-mips24.fits) that has a flux of 308 microJy. Maximum value in our normalised PSF gives a peak below. Since PSF is double resolution of map, it could also be off centre. Map has value of 0.29 MJy/sr but does appear to be off centre. "
   ]
  },
  {
   "cell_type": "code",
   "execution_count": 85,
   "metadata": {},
   "outputs": [
    {
     "name": "stdout",
     "output_type": "stream",
     "text": [
      "Max PSF = 0.178 MJy/sr, off pixel Max PSF = 0.169 MJy/sr\n"
     ]
    }
   ],
   "source": [
    "print(\"Max PSF = {:.3f} MJy/sr, off pixel Max PSF = {:.3f} MJy/sr\".format(psfok[cpix-1,cpix-1]*3.08E-04,psfok[cpix-2,cpix-2]*3.08E-04))"
   ]
  },
  {
   "cell_type": "code",
   "execution_count": 86,
   "metadata": {},
   "outputs": [
    {
     "name": "stderr",
     "output_type": "stream",
     "text": [
      "WARNING: hdu=0 does not contain any data, using hdu=1 instead [aplpy.core]\n"
     ]
    },
    {
     "data": {
      "image/png": "[encoded data removed]",
      "text/plain": [
       "<matplotlib.figure.Figure at 0x12529b048>"
      ]
     },
     "metadata": {},
     "output_type": "display_data"
    }
   ],
   "source": [
    "import aplpy\n",
    "import seaborn as sns\n",
    "sns.set_style(\"white\")\n",
    "cmap=sns.cubehelix_palette(8, start=.5, rot=-.75,as_cmap=True)\n",
    "fig=aplpy.FITSFigure('./data/MIPS_PSF_STACK/input_data/wp4_xfls_mips24_map_v1.0.fits.gz')\n",
    "fig.recenter(259.678,59.454, radius=0.002)\n",
    "fig.show_colorscale(vmin=0.0,vmax=1.0,cmap=cmap)\n",
    "fig.add_colorbar()\n",
    "fig.colorbar.set_location('top')"
   ]
  },
  {
   "cell_type": "markdown",
   "metadata": {},
   "source": [
    "In summary, the PSF is within 10% of this source, and given noise and shape of source will add additional uncertianty this seems reasonable."
   ]
  },
  {
   "cell_type": "markdown",
   "metadata": {},
   "source": [
    "# Create PSF fits file"
   ]
  },
  {
   "cell_type": "code",
   "execution_count": 88,
   "metadata": {
    "collapsed": true
   },
   "outputs": [],
   "source": [
    "stackhd[1].data=psfok\n",
    "stackhd.writeto('dmu17_MIPS_xFLS_20180201.fits',overwrite=True)"
   ]
  },
  {
   "cell_type": "code",
   "execution_count": null,
   "metadata": {
    "collapsed": true
   },
   "outputs": [],
   "source": []
  }
 ],
 "metadata": {
  "kernelspec": {
   "display_name": "Python 3",
   "language": "python",
   "name": "python3"
  },
  "language_info": {
   "codemirror_mode": {
    "name": "ipython",
    "version": 3
   },
   "file_extension": ".py",
   "mimetype": "text/x-python",
   "name": "python",
   "nbconvert_exporter": "python",
   "pygments_lexer": "ipython3",
   "version": "3.6.5"
  }
 },
 "nbformat": 4,
 "nbformat_minor": 2
}
