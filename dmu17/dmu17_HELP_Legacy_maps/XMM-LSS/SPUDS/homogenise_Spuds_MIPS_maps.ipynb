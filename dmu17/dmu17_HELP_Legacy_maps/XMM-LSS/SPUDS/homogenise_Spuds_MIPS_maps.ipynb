{
 "cells": [
  {
   "cell_type": "markdown",
   "metadata": {},
   "source": [
    "# ![HELP LOGO](https://avatars1.githubusercontent.com/u/7880370?s=100&v=4>) Spitzer Spuds MIPS map homogenisation\n",
    "\n",
    "\n",
    "These MIPS maps have ben produced by the Spitzer SPUDS project. This code takes the individual image files and adds them into a single multi-layered fits files to have the homogeneous HELP format.  This code was adapted from code used for SPIRE homogenisaton (Yannick Roehlly) and in turn adapted for PACS data (Peter Hurely) and further adapted for SEIP data (Seb Oliver). \n",
    "\n",
    "## Caveats\n",
    "\n",
    "\n",
    "------------------------------------------------------------------"
   ]
  },
  {
   "cell_type": "markdown",
   "metadata": {},
   "source": [
    "<h2> Guide</h2>\n",
    "<h3>Steps: </h3>\n",
    "* Obtain list of fields from sub-folders\n",
    "for each field:\n",
    "* read in coverage, image and noise\n",
    "* attach meta data\n",
    "* create PSF extension\n",
    "* Save out\n",
    "\n",
    "<h3>Things you may wish to edit</h3>\n",
    "* You'll need to change the folder path in the 2nd code block to point you where the files are in your system\n",
    "* Add in a specifc field (or switch to wild chracter) in the path to pick field(s)\n",
    "* change the 1.mosaic pattern to 2.mosaic for MIPS 70 micron or 3.mosaic for MIPS 160.\n",
    "* read in more of the available files and add as additional extensions"
   ]
  },
  {
   "cell_type": "markdown",
   "metadata": {},
   "source": [
    "<h2> Getting Original Data</h2>\n",
    "<ul>\n",
    "<li>wget https://irsa.ipac.caltech.edu/data/SPITZER/SpUDS/images/mips/mips_mosaic.fits data/\n",
    "<li>wget https://irsa.ipac.caltech.edu/data/SPITZER/SpUDS/images/mips/mips_mosaic_cov.fits data/\n",
    "<li>wget https://irsa.ipac.caltech.edu/data/SPITZER/SpUDS/images/mips/mips_mosaic_unc.fits data/\n",
    "    </ul>"
   ]
  },
  {
   "cell_type": "markdown",
   "metadata": {},
   "source": [
    "# Importing libraries"
   ]
  },
  {
   "cell_type": "code",
   "execution_count": 1,
   "metadata": {},
   "outputs": [],
   "source": [
    "from datetime import datetime\n",
    "from itertools import product\n",
    "import glob\n",
    "\n",
    "import numpy as np\n",
    "import astropy as astropy\n",
    "\n",
    "from astropy.io import fits\n",
    "from astropy.table import Table\n",
    "from astropy.table import Column\n",
    "from astropy import wcs\n",
    "VERSION = \"0.9\""
   ]
  },
  {
   "cell_type": "markdown",
   "metadata": {},
   "source": [
    "# This is where you set up the field and folders to work on"
   ]
  },
  {
   "cell_type": "code",
   "execution_count": 2,
   "metadata": {},
   "outputs": [],
   "source": [
    "field='XMM-LSS' \n",
    "\n",
    "mainfolder='../../dmu17/dmu17_XMM-LSS/data/'\n",
    "file=mainfolder+'mips_mosaic.fits'\n",
    "noise_file=mainfolder+'mips_mosaic_unc.fits'\n",
    "cov_file=mainfolder+'mips_mosaic_cov.fits'\n"
   ]
  },
  {
   "cell_type": "markdown",
   "metadata": {},
   "source": [
    "# Performing the homogenisation\n",
    "i.e. merging component files into a single multi-extension file and adding some keywords\n",
    "traps errors so that it can continue, e.g. if a file is missing\n",
    "skips over files if they've already been logged as \"downloaded\" (this could be improved to be an option"
   ]
  },
  {
   "cell_type": "code",
   "execution_count": 3,
   "metadata": {},
   "outputs": [],
   "source": [
    "# Load in image map\n",
    "\n",
    "ext=0\n",
    "\n",
    "image_map=fits.open(file)\n",
    "image_hdu = fits.ImageHDU(header=image_map[ext].header,\n",
    "                                data=image_map[ext].data)\n",
    "image_hdu.header['EXTNAME'] = \"IMAGE\"\n",
    " \n",
    "# Load in uncertainty map\n",
    "noise_map=fits.open(noise_file)\n",
    "noise_hdu = fits.ImageHDU(header=noise_map[ext].header,\n",
    "                                data=noise_map[ext].data)\n",
    "noise_hdu.header['EXTNAME'] = \"ERROR\"\n",
    " \n",
    "# we'll use the uncertainty map to generate a MOC\n",
    "#good=~np.isnan(noise_map[ext].data)\n",
    "#w = wcs.WCS(noise_map[ext].header)     \n",
    "#m=create_MOC_from_map(good,w)\n",
    "#total_moc=total_moc+m\n",
    "        \n",
    "#intersect=m.intersection(help_moc)\n",
    "#print('Area',repr(intersect.area))\n",
    "#        \n",
    "#m.write(file.replace('mosaic','moc'), overwrite=True)\n",
    "        \n",
    "            # Load in coverage map\n",
    "cov_map=fits.open(cov_file)\n",
    "cov_hdu = fits.ImageHDU(header=cov_map[ext].header,\n",
    "                                data=cov_map[ext].data)\n",
    "cov_hdu.header['EXTNAME'] = \"COVERAGE\"\n",
    "\n",
    "#Create primary header\n",
    "primary_hdu = fits.PrimaryHDU()\n",
    "primary_hdu.header.append((\n",
    "            \"CREATOR\", \"Herschel Extragalactic Legacy Project\"\n",
    "        ))\n",
    "primary_hdu.header.append((\n",
    "            \"TIMESYS\", \"UTC\", \"All dates are in UTC time\"\n",
    "        ))\n",
    "primary_hdu.header.append((\n",
    "            \"DATE\", datetime.now().replace(microsecond=0).isoformat(),\n",
    "            \"Date of file creation\"\n",
    "        ))\n",
    "primary_hdu.header.append((\n",
    "        \"VERSION\", VERSION, \"HELP product version\"\n",
    "        ))\n",
    "primary_hdu.header.append((\n",
    "        \"TELESCOP\", \"Spitzer\", \"Name of the telescope\"\n",
    "        ))\n",
    "primary_hdu.header.append((\n",
    "        \"INSTRUME\", \"MIPS\", \"Name of the instrument\"\n",
    "        ))\n",
    "primary_hdu.header.append((\n",
    "        \"FILTER\", \"MIPS-24\", \"Name of the filter\"\n",
    "        ))\n",
    "primary_hdu.header.append((\n",
    "        \"FIELD\", field, \"Name of the HELP field\"\n",
    "        ))\n",
    "\n",
    "\n",
    "#Add empty extension for PSF\n",
    "psf_hdu = fits.ImageHDU()\n",
    "psf_hdu.header['EXTNAME'] = \"PSF\"\n",
    "psf_hdu.header.add_comment(\"The PSF is not available.\")\n",
    "\n",
    "hdu_list = fits.HDUList([primary_hdu, image_hdu, noise_hdu, cov_hdu, psf_hdu])\n",
    "hdu_list.writeto(file.replace('mosaic','help'),\n",
    "                 checksum=True, overwrite=True)\n"
   ]
  },
  {
   "cell_type": "markdown",
   "metadata": {},
   "source": [
    "\n",
    "-------------------------------------------------------------------------------\n",
    "\n",
    " ![HELP LOGO](https://avatars1.githubusercontent.com/u/7880370?s=75&v=4)\n",
    "\n",
    "**Authors**:  [Seb Oliver](http://www.sussex.ac.uk/profiles/91548)\n",
    "\n",
    " \n",
    "For a full description of the database and how it is organised in to `dmu_products` please the top level [readme](../readme.md).\n",
    " \n",
    "The Herschel Extragalactic Legacy Project, ([HELP](http://herschel.sussex.ac.uk/)), is a [European Commission Research Executive Agency](https://ec.europa.eu/info/departments/research-executive-agency_en)\n",
    "funded project under the SP1-Cooperation, Collaborative project, Small or medium-scale focused research project, FP7-SPACE-2013-1 scheme, Grant Agreement\n",
    "Number 607254.\n",
    "\n",
    "[Acknowledgements](http://herschel.sussex.ac.uk/acknowledgements)\n",
    "\n",
    "\n",
    "Seb Oliver 6-May-2018"
   ]
  },
  {
   "cell_type": "code",
   "execution_count": null,
   "metadata": {},
   "outputs": [],
   "source": []
  }
 ],
 "metadata": {
  "kernelspec": {
   "display_name": "Python (herschelhelp_internal)",
   "language": "python",
   "name": "helpint"
  },
  "language_info": {
   "codemirror_mode": {
    "name": "ipython",
    "version": 3
   },
   "file_extension": ".py",
   "mimetype": "text/x-python",
   "name": "python",
   "nbconvert_exporter": "python",
   "pygments_lexer": "ipython3",
   "version": "3.6.5"
  }
 },
 "nbformat": 4,
 "nbformat_minor": 2
}
