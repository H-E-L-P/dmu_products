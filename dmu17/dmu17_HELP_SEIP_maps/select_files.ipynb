{
 "cells": [
  {
   "cell_type": "markdown",
   "metadata": {},
   "source": [
    "# Importing libraries"
   ]
  },
  {
   "cell_type": "code",
   "execution_count": 1,
   "metadata": {},
   "outputs": [],
   "source": [
    "from datetime import datetime\n",
    "from itertools import product\n",
    "import glob\n",
    "\n",
    "import numpy as np\n",
    "import astropy as astropy\n",
    "\n",
    "from astropy.io import fits\n",
    "from astropy.table import Table\n",
    "from astropy.table import Column\n",
    "from astropy import wcs\n",
    "VERSION = \"0.9\""
   ]
  },
  {
   "cell_type": "markdown",
   "metadata": {},
   "source": [
    "fields"
   ]
  },
  {
   "cell_type": "code",
   "execution_count": 80,
   "metadata": {},
   "outputs": [],
   "source": [
    " \n",
    "#field_specified='AKARI-NEP' \n",
    "field_specified='AKARI-SEP'\n",
    "#field_specified='GAMA-09' \n",
    "#field_specified='GAMA-12' \n",
    "#field_specified='GAMA-15' \n",
    "#field_specified='HDF-N'\n",
    "#field_specified='NGP' \n",
    "#field_specified='SGP' \n",
    "#field_specified='SA13' \n",
    "#field_specified='SPIRE-NEP' \n",
    "#field_specified='SSDF' \n",
    "#field_specified='XMM-13hr' \n",
    "#field_specified='Herschel-Stripe-82' \n",
    "\n",
    "mainfolder='.'\n"
   ]
  },
  {
   "cell_type": "markdown",
   "metadata": {},
   "source": [
    "# finding all the SEIP mosaic files in the folder"
   ]
  },
  {
   "cell_type": "code",
   "execution_count": 108,
   "metadata": {},
   "outputs": [
    {
     "name": "stdout",
     "output_type": "stream",
     "text": [
      "Number of files found: 57\n"
     ]
    }
   ],
   "source": [
    "# finding all the SEIP mosaic files (other files should be there if the mosaic file is)\n",
    "psflist= glob.glob(f\"{mainfolder}/{field_specified}/data/*1.help.psf.fits\", recursive=True)\n",
    "print(\"Number of files found:\", len(filelist))\n",
    "filelist=np.copy(psflist)\n",
    "\n",
    "for i in range(len(filelist)):\n",
    "    filelist[i]=filelist[i][17:-9]+filelist[i][-5:]\n",
    "\n",
    "for i in range(len(psflist)):\n",
    "    psflist[i]=psflist[i][17:]"
   ]
  },
  {
   "cell_type": "code",
   "execution_count": 109,
   "metadata": {},
   "outputs": [
    {
     "data": {
      "text/plain": [
       "['60096371.60096371-73.MIPS.1.help.psf.fits',\n",
       " '60096371.60096371-20.MIPS.1.help.psf.fits',\n",
       " '60096371.60096371-45.MIPS.1.help.psf.fits',\n",
       " '60096371.60096371-63.MIPS.1.help.psf.fits',\n",
       " '60096371.60096371-76.MIPS.1.help.psf.fits',\n",
       " '60096371.60096371-30.MIPS.1.help.psf.fits',\n",
       " '60096371.60096371-78.MIPS.1.help.psf.fits',\n",
       " '60096371.60096371-39.MIPS.1.help.psf.fits',\n",
       " '60096371.60096371-40.MIPS.1.help.psf.fits',\n",
       " '60096371.60096371-50.MIPS.1.help.psf.fits',\n",
       " '60096371.60096371-68.MIPS.1.help.psf.fits',\n",
       " '60096371.60096371-19.MIPS.1.help.psf.fits',\n",
       " '60096371.60096371-41.MIPS.1.help.psf.fits',\n",
       " '60096371.60096371-33.MIPS.1.help.psf.fits',\n",
       " '60096371.60096371-51.MIPS.1.help.psf.fits',\n",
       " '60096371.60096371-8.MIPS.1.help.psf.fits',\n",
       " '60096371.60096371-32.MIPS.1.help.psf.fits',\n",
       " '60096371.60096371-31.MIPS.1.help.psf.fits',\n",
       " '60096371.60096371-54.MIPS.1.help.psf.fits',\n",
       " '60096371.60096371-28.MIPS.1.help.psf.fits',\n",
       " '60096371.60096371-53.MIPS.1.help.psf.fits',\n",
       " '60096371.60096371-34.MIPS.1.help.psf.fits',\n",
       " '60096371.60096371-46.MIPS.1.help.psf.fits',\n",
       " '60096371.60096371-21.MIPS.1.help.psf.fits',\n",
       " '60096371.60096371-86.MIPS.1.help.psf.fits',\n",
       " '60096371.60096371-67.MIPS.1.help.psf.fits',\n",
       " '60096371.60096371-74.MIPS.1.help.psf.fits',\n",
       " '60096371.60096371-58.MIPS.1.help.psf.fits',\n",
       " '60096371.60096371-77.MIPS.1.help.psf.fits',\n",
       " '60096371.60096371-72.MIPS.1.help.psf.fits',\n",
       " '50062650.50062650-0.MIPS.1.help.psf.fits',\n",
       " '60096371.60096371-38.MIPS.1.help.psf.fits',\n",
       " '60096371.60096371-75.MIPS.1.help.psf.fits',\n",
       " '60096371.60096371-44.MIPS.1.help.psf.fits',\n",
       " '60096371.60096371-99.MIPS.1.help.psf.fits',\n",
       " '60096371.60096371-18.MIPS.1.help.psf.fits',\n",
       " '60096371.60096371-61.MIPS.1.help.psf.fits',\n",
       " '60096371.60096371-55.MIPS.1.help.psf.fits',\n",
       " '60096371.60096371-56.MIPS.1.help.psf.fits',\n",
       " '60096371.60096371-42.MIPS.1.help.psf.fits',\n",
       " '60096371.60096371-64.MIPS.1.help.psf.fits',\n",
       " '60096371.60096371-9.MIPS.1.help.psf.fits',\n",
       " '60096371.60096371-29.MIPS.1.help.psf.fits',\n",
       " '60096371.60096371-49.MIPS.1.help.psf.fits',\n",
       " '60096371.60096371-88.MIPS.1.help.psf.fits',\n",
       " '60096371.60096371-22.MIPS.1.help.psf.fits',\n",
       " '60096371.60096371-57.MIPS.1.help.psf.fits',\n",
       " '60096371.60096371-85.MIPS.1.help.psf.fits',\n",
       " '60096371.60096371-52.MIPS.1.help.psf.fits',\n",
       " '60096371.60096371-66.MIPS.1.help.psf.fits',\n",
       " '60096371.60096371-87.MIPS.1.help.psf.fits',\n",
       " '60096371.60096371-98.MIPS.1.help.psf.fits',\n",
       " '60096371.60096371-43.MIPS.1.help.psf.fits',\n",
       " '60096371.60096371-62.MIPS.1.help.psf.fits',\n",
       " '60096371.60096371-89.MIPS.1.help.psf.fits',\n",
       " '60096371.60096371-65.MIPS.1.help.psf.fits',\n",
       " '50064370.50064370-0.MIPS.1.help.psf.fits']"
      ]
     },
     "execution_count": 109,
     "metadata": {},
     "output_type": "execute_result"
    }
   ],
   "source": [
    "psflist"
   ]
  },
  {
   "cell_type": "code",
   "execution_count": 110,
   "metadata": {},
   "outputs": [
    {
     "name": "stdout",
     "output_type": "stream",
     "text": [
      "['50062650.50062650-0.MIPS.1.help.fits'\n",
      " '50064370.50064370-0.MIPS.1.help.fits'\n",
      " '60096371.60096371-18.MIPS.1.help.fits'\n",
      " '60096371.60096371-19.MIPS.1.help.fits'\n",
      " '60096371.60096371-20.MIPS.1.help.fits'\n",
      " '60096371.60096371-21.MIPS.1.help.fits'\n",
      " '60096371.60096371-22.MIPS.1.help.fits'\n",
      " '60096371.60096371-28.MIPS.1.help.fits'\n",
      " '60096371.60096371-29.MIPS.1.help.fits'\n",
      " '60096371.60096371-30.MIPS.1.help.fits'\n",
      " '60096371.60096371-31.MIPS.1.help.fits'\n",
      " '60096371.60096371-32.MIPS.1.help.fits'\n",
      " '60096371.60096371-33.MIPS.1.help.fits'\n",
      " '60096371.60096371-34.MIPS.1.help.fits'\n",
      " '60096371.60096371-38.MIPS.1.help.fits'\n",
      " '60096371.60096371-39.MIPS.1.help.fits'\n",
      " '60096371.60096371-40.MIPS.1.help.fits'\n",
      " '60096371.60096371-41.MIPS.1.help.fits'\n",
      " '60096371.60096371-42.MIPS.1.help.fits'\n",
      " '60096371.60096371-43.MIPS.1.help.fits'\n",
      " '60096371.60096371-44.MIPS.1.help.fits'\n",
      " '60096371.60096371-45.MIPS.1.help.fits'\n",
      " '60096371.60096371-46.MIPS.1.help.fits'\n",
      " '60096371.60096371-49.MIPS.1.help.fits'\n",
      " '60096371.60096371-50.MIPS.1.help.fits'\n",
      " '60096371.60096371-51.MIPS.1.help.fits'\n",
      " '60096371.60096371-52.MIPS.1.help.fits'\n",
      " '60096371.60096371-53.MIPS.1.help.fits'\n",
      " '60096371.60096371-54.MIPS.1.help.fits'\n",
      " '60096371.60096371-55.MIPS.1.help.fits'\n",
      " '60096371.60096371-56.MIPS.1.help.fits'\n",
      " '60096371.60096371-57.MIPS.1.help.fits'\n",
      " '60096371.60096371-58.MIPS.1.help.fits'\n",
      " '60096371.60096371-61.MIPS.1.help.fits'\n",
      " '60096371.60096371-62.MIPS.1.help.fits'\n",
      " '60096371.60096371-63.MIPS.1.help.fits'\n",
      " '60096371.60096371-64.MIPS.1.help.fits'\n",
      " '60096371.60096371-65.MIPS.1.help.fits'\n",
      " '60096371.60096371-66.MIPS.1.help.fits'\n",
      " '60096371.60096371-67.MIPS.1.help.fits'\n",
      " '60096371.60096371-68.MIPS.1.help.fits'\n",
      " '60096371.60096371-72.MIPS.1.help.fits'\n",
      " '60096371.60096371-73.MIPS.1.help.fits'\n",
      " '60096371.60096371-74.MIPS.1.help.fits'\n",
      " '60096371.60096371-75.MIPS.1.help.fits'\n",
      " '60096371.60096371-76.MIPS.1.help.fits'\n",
      " '60096371.60096371-77.MIPS.1.help.fits'\n",
      " '60096371.60096371-78.MIPS.1.help.fits'\n",
      " '60096371.60096371-8.MIPS.1.help.fits'\n",
      " '60096371.60096371-85.MIPS.1.help.fits'\n",
      " '60096371.60096371-86.MIPS.1.help.fits'\n",
      " '60096371.60096371-87.MIPS.1.help.fits'\n",
      " '60096371.60096371-88.MIPS.1.help.fits'\n",
      " '60096371.60096371-89.MIPS.1.help.fits'\n",
      " '60096371.60096371-9.MIPS.1.help.fits'\n",
      " '60096371.60096371-98.MIPS.1.help.fits'\n",
      " '60096371.60096371-99.MIPS.1.help.fits'] ['50062650.50062650-0.MIPS.1.help.psf.fits'\n",
      " '50064370.50064370-0.MIPS.1.help.psf.fits'\n",
      " '60096371.60096371-18.MIPS.1.help.psf.fits'\n",
      " '60096371.60096371-19.MIPS.1.help.psf.fits'\n",
      " '60096371.60096371-20.MIPS.1.help.psf.fits'\n",
      " '60096371.60096371-21.MIPS.1.help.psf.fits'\n",
      " '60096371.60096371-22.MIPS.1.help.psf.fits'\n",
      " '60096371.60096371-28.MIPS.1.help.psf.fits'\n",
      " '60096371.60096371-29.MIPS.1.help.psf.fits'\n",
      " '60096371.60096371-30.MIPS.1.help.psf.fits'\n",
      " '60096371.60096371-31.MIPS.1.help.psf.fits'\n",
      " '60096371.60096371-32.MIPS.1.help.psf.fits'\n",
      " '60096371.60096371-33.MIPS.1.help.psf.fits'\n",
      " '60096371.60096371-34.MIPS.1.help.psf.fits'\n",
      " '60096371.60096371-38.MIPS.1.help.psf.fits'\n",
      " '60096371.60096371-39.MIPS.1.help.psf.fits'\n",
      " '60096371.60096371-40.MIPS.1.help.psf.fits'\n",
      " '60096371.60096371-41.MIPS.1.help.psf.fits'\n",
      " '60096371.60096371-42.MIPS.1.help.psf.fits'\n",
      " '60096371.60096371-43.MIPS.1.help.psf.fits'\n",
      " '60096371.60096371-44.MIPS.1.help.psf.fits'\n",
      " '60096371.60096371-45.MIPS.1.help.psf.fits'\n",
      " '60096371.60096371-46.MIPS.1.help.psf.fits'\n",
      " '60096371.60096371-49.MIPS.1.help.psf.fits'\n",
      " '60096371.60096371-50.MIPS.1.help.psf.fits'\n",
      " '60096371.60096371-51.MIPS.1.help.psf.fits'\n",
      " '60096371.60096371-52.MIPS.1.help.psf.fits'\n",
      " '60096371.60096371-53.MIPS.1.help.psf.fits'\n",
      " '60096371.60096371-54.MIPS.1.help.psf.fits'\n",
      " '60096371.60096371-55.MIPS.1.help.psf.fits'\n",
      " '60096371.60096371-56.MIPS.1.help.psf.fits'\n",
      " '60096371.60096371-57.MIPS.1.help.psf.fits'\n",
      " '60096371.60096371-58.MIPS.1.help.psf.fits'\n",
      " '60096371.60096371-61.MIPS.1.help.psf.fits'\n",
      " '60096371.60096371-62.MIPS.1.help.psf.fits'\n",
      " '60096371.60096371-63.MIPS.1.help.psf.fits'\n",
      " '60096371.60096371-64.MIPS.1.help.psf.fits'\n",
      " '60096371.60096371-65.MIPS.1.help.psf.fits'\n",
      " '60096371.60096371-66.MIPS.1.help.psf.fits'\n",
      " '60096371.60096371-67.MIPS.1.help.psf.fits'\n",
      " '60096371.60096371-68.MIPS.1.help.psf.fits'\n",
      " '60096371.60096371-72.MIPS.1.help.psf.fits'\n",
      " '60096371.60096371-73.MIPS.1.help.psf.fits'\n",
      " '60096371.60096371-74.MIPS.1.help.psf.fits'\n",
      " '60096371.60096371-75.MIPS.1.help.psf.fits'\n",
      " '60096371.60096371-76.MIPS.1.help.psf.fits'\n",
      " '60096371.60096371-77.MIPS.1.help.psf.fits'\n",
      " '60096371.60096371-78.MIPS.1.help.psf.fits'\n",
      " '60096371.60096371-8.MIPS.1.help.psf.fits'\n",
      " '60096371.60096371-85.MIPS.1.help.psf.fits'\n",
      " '60096371.60096371-86.MIPS.1.help.psf.fits'\n",
      " '60096371.60096371-87.MIPS.1.help.psf.fits'\n",
      " '60096371.60096371-88.MIPS.1.help.psf.fits'\n",
      " '60096371.60096371-89.MIPS.1.help.psf.fits'\n",
      " '60096371.60096371-9.MIPS.1.help.psf.fits'\n",
      " '60096371.60096371-98.MIPS.1.help.psf.fits'\n",
      " '60096371.60096371-99.MIPS.1.help.psf.fits']\n"
     ]
    }
   ],
   "source": [
    "filelist=np.sort(filelist)\n",
    "psflist=np.sort(psflist)\n",
    "print(filelist, psflist)"
   ]
  },
  {
   "cell_type": "code",
   "execution_count": null,
   "metadata": {},
   "outputs": [],
   "source": []
  },
  {
   "cell_type": "code",
   "execution_count": 111,
   "metadata": {},
   "outputs": [],
   "source": [
    "f=open(f\"{mainfolder}/{field_specified}/data/filelist.txt\", 'w')\n",
    "for i in filelist:\n",
    "    f.write(i+'\\n')\n",
    "f.close()"
   ]
  },
  {
   "cell_type": "code",
   "execution_count": 112,
   "metadata": {},
   "outputs": [],
   "source": [
    "f=open(f\"{mainfolder}/{field_specified}/data/psflist.txt\", 'w')\n",
    "for i in psflist:\n",
    "    f.write(f\"{i}\\n\")\n",
    "f.close()"
   ]
  },
  {
   "cell_type": "code",
   "execution_count": 121,
   "metadata": {},
   "outputs": [],
   "source": [
    "f=open(f\"{mainfolder}/{field_specified}/aladin_script_{field_specified}.txt\", 'w')\n",
    "f.write(\"# This script can be loaded into Aladin using the Tools>Script Console (F5)\\n\")\n",
    "f.write(\"# you will need to alter the file paths to be correct relative to your Aladin installation\\n\")\n",
    "for i in filelist:\n",
    "    f.write(\"load \"+field_specified+ \"/data/\"+i+ \"\\n\")\n",
    "f.close()"
   ]
  },
  {
   "cell_type": "code",
   "execution_count": null,
   "metadata": {},
   "outputs": [],
   "source": []
  }
 ],
 "metadata": {
  "kernelspec": {
   "display_name": "Python (herschelhelp_internal)",
   "language": "python",
   "name": "helpint"
  },
  "language_info": {
   "codemirror_mode": {
    "name": "ipython",
    "version": 3
   },
   "file_extension": ".py",
   "mimetype": "text/x-python",
   "name": "python",
   "nbconvert_exporter": "python",
   "pygments_lexer": "ipython3",
   "version": "3.6.8"
  }
 },
 "nbformat": 4,
 "nbformat_minor": 2
}
